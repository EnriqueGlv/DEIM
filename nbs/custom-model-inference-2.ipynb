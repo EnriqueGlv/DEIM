{
 "cells": [
  {
   "cell_type": "code",
   "execution_count": 1,
   "metadata": {},
   "outputs": [],
   "source": [
    "from deimkit import list_models, load_model, save_only_ema_weights"
   ]
  },
  {
   "cell_type": "code",
   "execution_count": null,
   "metadata": {},
   "outputs": [],
   "source": [
    "list_models()"
   ]
  },
  {
   "cell_type": "code",
   "execution_count": null,
   "metadata": {},
   "outputs": [],
   "source": [
    "save_only_ema_weights(\"/home/dnth/Desktop/DEIMKit/nbs/outputs/deim_hgnetv2_s_vehicles/best.pth\")"
   ]
  },
  {
   "cell_type": "code",
   "execution_count": null,
   "metadata": {},
   "outputs": [],
   "source": [
    "model = load_model(\n",
    "    \"deim_hgnetv2_s\",\n",
    "    checkpoint=\"/home/dnth/Desktop/DEIMKit/nbs/outputs/deim_hgnetv2_s_vehicles/best_ema_weights.pth\",\n",
    "    class_names=[\n",
    "        \"background\"\n",
    "        \"vehicles\",\n",
    "        \"big bus\",\n",
    "        \"big truck\",\n",
    "        \"bus-l-\",\n",
    "        \"bus-s-\",\n",
    "        \"car\",\n",
    "        \"mid truck\",\n",
    "        \"small bus\",\n",
    "        \"small truck\",\n",
    "        \"truck-l-\",\n",
    "        \"truck-m-\",\n",
    "        \"truck-s-\",\n",
    "        \"truck-xl-\",\n",
    "    ],\n",
    ")"
   ]
  },
  {
   "cell_type": "code",
   "execution_count": null,
   "metadata": {},
   "outputs": [],
   "source": [
    "result = model.predict(\n",
    "    \"/home/dnth/Downloads/vehicles.v2-release.coco/test/adit_mp4-1002_jpg.rf.5e4018e963af1251b3f7e6fd487c479e.jpg\",\n",
    "    visualize=True,\n",
    "    conf_threshold=0.17,\n",
    ")"
   ]
  },
  {
   "cell_type": "code",
   "execution_count": null,
   "metadata": {},
   "outputs": [],
   "source": [
    "result"
   ]
  },
  {
   "cell_type": "code",
   "execution_count": null,
   "metadata": {},
   "outputs": [],
   "source": [
    "result[\"visualization\"]"
   ]
  },
  {
   "cell_type": "code",
   "execution_count": null,
   "metadata": {},
   "outputs": [],
   "source": [
    "# Load folder of images\n",
    "import glob\n",
    "\n",
    "image_paths = glob.glob(\"/home/dnth/Downloads/vehicles.v2-release.coco/test/*.jpg\")\n",
    "\n",
    "image_paths\n"
   ]
  },
  {
   "cell_type": "code",
   "execution_count": null,
   "metadata": {},
   "outputs": [],
   "source": [
    "results = model.predict_batch(image_paths[0:6], conf_threshold=0.15, visualize=True)"
   ]
  },
  {
   "cell_type": "code",
   "execution_count": null,
   "metadata": {},
   "outputs": [],
   "source": [
    "# Plot results in a grid\n",
    "import matplotlib.pyplot as plt\n",
    "import math\n",
    "\n",
    "n_cols = 2\n",
    "n_rows = math.ceil(len(results) / n_cols)\n",
    "plt.figure(figsize=(12, 4 * n_rows))\n",
    "\n",
    "for i, result in enumerate(results):\n",
    "    plt.subplot(n_rows, n_cols, i + 1)\n",
    "    plt.imshow(result[\"visualization\"])\n",
    "    plt.axis(\"off\")\n",
    "plt.tight_layout()\n",
    "plt.show()"
   ]
  },
  {
   "cell_type": "code",
   "execution_count": null,
   "metadata": {},
   "outputs": [],
   "source": []
  }
 ],
 "metadata": {
  "kernelspec": {
   "display_name": "default",
   "language": "python",
   "name": "python3"
  },
  "language_info": {
   "codemirror_mode": {
    "name": "ipython",
    "version": 3
   },
   "file_extension": ".py",
   "mimetype": "text/x-python",
   "name": "python",
   "nbconvert_exporter": "python",
   "pygments_lexer": "ipython3",
   "version": "3.12.9"
  }
 },
 "nbformat": 4,
 "nbformat_minor": 2
}
