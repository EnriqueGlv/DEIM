{
 "cells": [
  {
   "cell_type": "code",
   "execution_count": 1,
   "metadata": {},
   "outputs": [],
   "source": [
    "from deimkit import Trainer, Config"
   ]
  },
  {
   "cell_type": "code",
   "execution_count": 2,
   "metadata": {},
   "outputs": [
    {
     "name": "stdout",
     "output_type": "stream",
     "text": [
      "{ 'batch_size': None,\n",
      "  'checkpoint_freq': 4,\n",
      "  'clip_max_norm': 0.1,\n",
      "  'device': '',\n",
      "  'ema_decay': 0.9999,\n",
      "  'ema_warmups': 2000,\n",
      "  'epoches': 132,\n",
      "  'find_unused_parameters': False,\n",
      "  'flat_epoch': 64,\n",
      "  'last_epoch': -1,\n",
      "  'lr_gamma': 0.5,\n",
      "  'lrsheduler': 'flatcosine',\n",
      "  'no_aug_epoch': 12,\n",
      "  'num_workers': 0,\n",
      "  'output_dir': './outputs/deim_hgnetv2_s_coco',\n",
      "  'print_freq': 100,\n",
      "  'resume': None,\n",
      "  'seed': None,\n",
      "  'summary_dir': None,\n",
      "  'sync_bn': True,\n",
      "  'task': 'detection',\n",
      "  'tuning': None,\n",
      "  'use_amp': True,\n",
      "  'use_ema': True,\n",
      "  'warmup_iter': 2000,\n",
      "  'yaml_cfg': { 'DEIM': { 'backbone': 'HGNetv2',\n",
      "                          'decoder': 'DFINETransformer',\n",
      "                          'encoder': 'HybridEncoder'},\n",
      "                'DEIMCriterion': { 'alpha': 0.75,\n",
      "                                   'gamma': 1.5,\n",
      "                                   'losses': ['mal', 'boxes', 'local'],\n",
      "                                   'matcher': { 'alpha': 0.25,\n",
      "                                                'gamma': 2.0,\n",
      "                                                'type': 'HungarianMatcher',\n",
      "                                                'weight_dict': { 'cost_bbox': 5,\n",
      "                                                                 'cost_class': 2,\n",
      "                                                                 'cost_giou': 2}},\n",
      "                                   'reg_max': 32,\n",
      "                                   'weight_dict': { 'loss_bbox': 5,\n",
      "                                                    'loss_ddf': 1.5,\n",
      "                                                    'loss_fgl': 0.15,\n",
      "                                                    'loss_giou': 2,\n",
      "                                                    'loss_mal': 1,\n",
      "                                                    'loss_vfl': 1}},\n",
      "                'DFINETransformer': { 'activation': 'silu',\n",
      "                                      'box_noise_scale': 1.0,\n",
      "                                      'cross_attn_method': 'default',\n",
      "                                      'eval_idx': -1,\n",
      "                                      'feat_channels': [256, 256, 256],\n",
      "                                      'feat_strides': [8, 16, 32],\n",
      "                                      'hidden_dim': 256,\n",
      "                                      'label_noise_ratio': 0.5,\n",
      "                                      'layer_scale': 1,\n",
      "                                      'mlp_act': 'silu',\n",
      "                                      'num_denoising': 100,\n",
      "                                      'num_layers': 3,\n",
      "                                      'num_levels': 3,\n",
      "                                      'num_points': [3, 6, 3],\n",
      "                                      'num_queries': 300,\n",
      "                                      'query_select_method': 'default',\n",
      "                                      'reg_max': 32,\n",
      "                                      'reg_scale': 4},\n",
      "                'HGNetv2': { 'freeze_at': -1,\n",
      "                             'freeze_norm': False,\n",
      "                             'local_model_dir': '../RT-DETR-main/D-FINE/weight/hgnetv2/',\n",
      "                             'name': 'B0',\n",
      "                             'pretrained': True,\n",
      "                             'return_idx': [1, 2, 3],\n",
      "                             'use_lab': True},\n",
      "                'HybridEncoder': { 'act': 'silu',\n",
      "                                   'depth_mult': 0.34,\n",
      "                                   'dim_feedforward': 1024,\n",
      "                                   'dropout': 0.0,\n",
      "                                   'enc_act': 'gelu',\n",
      "                                   'expansion': 0.5,\n",
      "                                   'feat_strides': [8, 16, 32],\n",
      "                                   'hidden_dim': 256,\n",
      "                                   'in_channels': [256, 512, 1024],\n",
      "                                   'nhead': 8,\n",
      "                                   'num_encoder_layers': 1,\n",
      "                                   'use_encoder_idx': [2]},\n",
      "                'PostProcessor': {'num_top_queries': 300},\n",
      "                '__include__': ['./dfine_hgnetv2_s_coco.yml', '../base/deim.yml'],\n",
      "                'checkpoint_freq': 4,\n",
      "                'clip_max_norm': 0.1,\n",
      "                'criterion': 'DEIMCriterion',\n",
      "                'ema': {'decay': 0.9999, 'start': 0, 'type': 'ModelEMA', 'warmups': 1000},\n",
      "                'epoches': 132,\n",
      "                'eval_spatial_size': [640, 640],\n",
      "                'evaluator': {'iou_types': ['bbox'], 'type': 'CocoEvaluator'},\n",
      "                'find_unused_parameters': False,\n",
      "                'flat_epoch': 64,\n",
      "                'lr_gamma': 0.5,\n",
      "                'lr_scheduler': {'gamma': 0.1, 'milestones': [500], 'type': 'MultiStepLR'},\n",
      "                'lr_warmup_scheduler': {'type': 'LinearWarmup', 'warmup_duration': 500},\n",
      "                'lrsheduler': 'flatcosine',\n",
      "                'model': 'DEIM',\n",
      "                'no_aug_epoch': 12,\n",
      "                'num_classes': 80,\n",
      "                'optimizer': { 'betas': [0.9, 0.999],\n",
      "                               'lr': 0.0004,\n",
      "                               'params': [ {'lr': 0.0002, 'params': '^(?=.*backbone)(?!.*bn).*$'},\n",
      "                                           { 'params': '^(?=.*(?:norm|bn)).*$',\n",
      "                                             'weight_decay': 0.0}],\n",
      "                               'type': 'AdamW',\n",
      "                               'weight_decay': 0.0001},\n",
      "                'output_dir': './outputs/deim_hgnetv2_s_coco',\n",
      "                'postprocessor': 'PostProcessor',\n",
      "                'print_freq': 100,\n",
      "                'remap_mscoco_category': True,\n",
      "                'scaler': {'enabled': True, 'type': 'GradScaler'},\n",
      "                'sync_bn': True,\n",
      "                'task': 'detection',\n",
      "                'train_dataloader': { 'collate_fn': { 'base_size': 640,\n",
      "                                                      'base_size_repeat': 20,\n",
      "                                                      'ema_restart_decay': 0.9999,\n",
      "                                                      'mixup_epochs': [4, 64],\n",
      "                                                      'mixup_prob': 0.5,\n",
      "                                                      'stop_epoch': 120,\n",
      "                                                      'type': 'BatchImageCollateFunction'},\n",
      "                                      'dataset': { 'ann_file': '/datassd/COCO/annotations/instances_train2017.json',\n",
      "                                                   'img_folder': '/datassd/COCO/train2017/',\n",
      "                                                   'return_masks': False,\n",
      "                                                   'transforms': { 'mosaic_prob': 0.5,\n",
      "                                                                   'ops': [ { 'fill_value': 0,\n",
      "                                                                              'max_cached_images': 50,\n",
      "                                                                              'output_size': 320,\n",
      "                                                                              'probability': 1.0,\n",
      "                                                                              'random_pop': True,\n",
      "                                                                              'rotation_range': 10,\n",
      "                                                                              'scaling_range': [ 0.5,\n",
      "                                                                                                 1.5],\n",
      "                                                                              'translation_range': [ 0.1,\n",
      "                                                                                                     0.1],\n",
      "                                                                              'type': 'Mosaic',\n",
      "                                                                              'use_cache': False},\n",
      "                                                                            { 'p': 0.5,\n",
      "                                                                              'type': 'RandomPhotometricDistort'},\n",
      "                                                                            { 'fill': 0,\n",
      "                                                                              'type': 'RandomZoomOut'},\n",
      "                                                                            { 'p': 0.8,\n",
      "                                                                              'type': 'RandomIoUCrop'},\n",
      "                                                                            { 'min_size': 1,\n",
      "                                                                              'type': 'SanitizeBoundingBoxes'},\n",
      "                                                                            { 'type': 'RandomHorizontalFlip'},\n",
      "                                                                            { 'size': [640, 640],\n",
      "                                                                              'type': 'Resize'},\n",
      "                                                                            { 'min_size': 1,\n",
      "                                                                              'type': 'SanitizeBoundingBoxes'},\n",
      "                                                                            { 'dtype': 'float32',\n",
      "                                                                              'scale': True,\n",
      "                                                                              'type': 'ConvertPILImage'},\n",
      "                                                                            { 'fmt': 'cxcywh',\n",
      "                                                                              'normalize': True,\n",
      "                                                                              'type': 'ConvertBoxes'}],\n",
      "                                                                   'policy': { 'epoch': [ 4,\n",
      "                                                                                          64,\n",
      "                                                                                          120],\n",
      "                                                                               'name': 'stop_epoch',\n",
      "                                                                               'ops': [ 'Mosaic',\n",
      "                                                                                        'RandomPhotometricDistort',\n",
      "                                                                                        'RandomZoomOut',\n",
      "                                                                                        'RandomIoUCrop']},\n",
      "                                                                   'type': 'Compose'},\n",
      "                                                   'type': 'CocoDetection'},\n",
      "                                      'drop_last': True,\n",
      "                                      'num_workers': 4,\n",
      "                                      'shuffle': True,\n",
      "                                      'total_batch_size': 32,\n",
      "                                      'type': 'DataLoader'},\n",
      "                'use_amp': True,\n",
      "                'use_ema': True,\n",
      "                'use_focal_loss': True,\n",
      "                'val_dataloader': { 'collate_fn': {'type': 'BatchImageCollateFunction'},\n",
      "                                    'dataset': { 'ann_file': '/datassd/COCO/annotations/instances_val2017.json',\n",
      "                                                 'img_folder': '/datassd/COCO/val2017/',\n",
      "                                                 'return_masks': False,\n",
      "                                                 'transforms': { 'ops': [ { 'size': [640, 640],\n",
      "                                                                            'type': 'Resize'},\n",
      "                                                                          { 'dtype': 'float32',\n",
      "                                                                            'scale': True,\n",
      "                                                                            'type': 'ConvertPILImage'}],\n",
      "                                                                 'type': 'Compose'},\n",
      "                                                 'type': 'CocoDetection'},\n",
      "                                    'drop_last': False,\n",
      "                                    'num_workers': 4,\n",
      "                                    'shuffle': False,\n",
      "                                    'total_batch_size': 64,\n",
      "                                    'type': 'DataLoader'},\n",
      "                'warmup_iter': 2000}}\n"
     ]
    }
   ],
   "source": [
    "conf = Config.from_model_name(\"deim_hgnetv2_s\")\n",
    "\n",
    "conf.print()"
   ]
  },
  {
   "cell_type": "code",
   "execution_count": 3,
   "metadata": {},
   "outputs": [
    {
     "data": {
      "text/plain": [
       "12"
      ]
     },
     "execution_count": 3,
     "metadata": {},
     "output_type": "execute_result"
    }
   ],
   "source": [
    "conf.get('no_aug_epoch')"
   ]
  },
  {
   "cell_type": "code",
   "execution_count": 4,
   "metadata": {},
   "outputs": [
    {
     "data": {
      "text/plain": [
       "task: detection\n",
       "num_workers: 0\n",
       "batch_size: None\n",
       "resume: None\n",
       "tuning: None\n",
       "epoches: 80\n",
       "last_epoch: -1\n",
       "lrsheduler: flatcosine\n",
       "lr_gamma: 0.5\n",
       "no_aug_epoch: 5\n",
       "warmup_iter: 200\n",
       "flat_epoch: 40\n",
       "use_amp: True\n",
       "use_ema: True\n",
       "ema_decay: 0.9999\n",
       "ema_warmups: 200\n",
       "sync_bn: True\n",
       "clip_max_norm: 0.1\n",
       "find_unused_parameters: False\n",
       "seed: None\n",
       "print_freq: 100\n",
       "checkpoint_freq: 4\n",
       "output_dir: ./outputs/deim_hgnetv2_s_80e\n",
       "summary_dir: None\n",
       "device: \n",
       "yaml_cfg: {'task': 'detection', 'evaluator': {'type': 'CocoEvaluator', 'iou_types': ['bbox']}, 'num_classes': 4, 'remap_mscoco_category': False, 'train_dataloader': {'type': 'DataLoader', 'dataset': {'type': 'CocoDetection', 'img_folder': '/home/dnth/Desktop/DEIM/dataset/images/train', 'ann_file': '/home/dnth/Desktop/DEIM/dataset/images/annotations/instances_train.json', 'return_masks': False, 'transforms': {'type': 'Compose', 'ops': [{'type': 'Mosaic', 'output_size': 320, 'rotation_range': 10, 'translation_range': [0.1, 0.1], 'scaling_range': [0.5, 1.5], 'probability': 1.0, 'fill_value': 0, 'use_cache': False, 'max_cached_images': 50, 'random_pop': True}, {'type': 'RandomPhotometricDistort', 'p': 0.5}, {'type': 'RandomZoomOut', 'fill': 0}, {'type': 'RandomIoUCrop', 'p': 0.8}, {'type': 'SanitizeBoundingBoxes', 'min_size': 1}, {'type': 'RandomHorizontalFlip'}, {'type': 'Resize', 'size': [640, 640]}, {'type': 'SanitizeBoundingBoxes', 'min_size': 1}, {'type': 'ConvertPILImage', 'dtype': 'float32', 'scale': True}, {'type': 'ConvertBoxes', 'fmt': 'cxcywh', 'normalize': True}], 'policy': {'name': 'stop_epoch', 'epoch': [4, 64, 120], 'ops': ['Mosaic', 'RandomPhotometricDistort', 'RandomZoomOut', 'RandomIoUCrop']}, 'mosaic_prob': 0.5}}, 'shuffle': True, 'num_workers': 4, 'drop_last': True, 'collate_fn': {'type': 'BatchImageCollateFunction', 'base_size': 640, 'base_size_repeat': 20, 'stop_epoch': 120, 'ema_restart_decay': 0.9999, 'mixup_prob': 0.5, 'mixup_epochs': [4, 64]}, 'total_batch_size': 16}, 'val_dataloader': {'type': 'DataLoader', 'dataset': {'type': 'CocoDetection', 'img_folder': '/home/dnth/Desktop/DEIM/dataset/images/valid', 'ann_file': '/home/dnth/Desktop/DEIM/dataset/images/annotations/instances_val.json', 'return_masks': False, 'transforms': {'type': 'Compose', 'ops': [{'type': 'Resize', 'size': [640, 640]}, {'type': 'ConvertPILImage', 'dtype': 'float32', 'scale': True}]}}, 'shuffle': False, 'num_workers': 4, 'drop_last': False, 'collate_fn': {'type': 'BatchImageCollateFunction'}, 'total_batch_size': 16}, 'print_freq': 100, 'output_dir': './outputs/deim_hgnetv2_s_coco', 'checkpoint_freq': 4, 'sync_bn': True, 'find_unused_parameters': False, 'use_amp': True, 'scaler': {'type': 'GradScaler', 'enabled': True}, 'use_ema': True, 'ema': {'type': 'ModelEMA', 'decay': 0.9999, 'warmups': 1000, 'start': 0}, 'epoches': 132, 'clip_max_norm': 0.1, 'optimizer': {'type': 'AdamW', 'params': [{'params': '^(?=.*backbone)(?!.*bn).*$', 'lr': 0.0002}, {'params': '^(?=.*(?:norm|bn)).*$', 'weight_decay': 0.0}], 'lr': 0.0004, 'betas': [0.9, 0.999], 'weight_decay': 0.0001}, 'lr_scheduler': {'type': 'MultiStepLR', 'milestones': [500], 'gamma': 0.1}, 'lr_warmup_scheduler': {'type': 'LinearWarmup', 'warmup_duration': 500}, 'model': 'DEIM', 'criterion': 'DEIMCriterion', 'postprocessor': 'PostProcessor', 'use_focal_loss': True, 'eval_spatial_size': [640, 640], 'DEIM': {'backbone': 'HGNetv2', 'encoder': 'HybridEncoder', 'decoder': 'DFINETransformer'}, 'lrsheduler': 'flatcosine', 'lr_gamma': 0.5, 'warmup_iter': 2000, 'flat_epoch': 64, 'no_aug_epoch': 12, 'HGNetv2': {'pretrained': True, 'local_model_dir': '../RT-DETR-main/D-FINE/weight/hgnetv2/', 'name': 'B0', 'return_idx': [1, 2, 3], 'freeze_at': -1, 'freeze_norm': False, 'use_lab': True}, 'HybridEncoder': {'in_channels': [256, 512, 1024], 'feat_strides': [8, 16, 32], 'hidden_dim': 256, 'use_encoder_idx': [2], 'num_encoder_layers': 1, 'nhead': 8, 'dim_feedforward': 1024, 'dropout': 0.0, 'enc_act': 'gelu', 'expansion': 0.5, 'depth_mult': 0.34, 'act': 'silu'}, 'DFINETransformer': {'feat_channels': [256, 256, 256], 'feat_strides': [8, 16, 32], 'hidden_dim': 256, 'num_levels': 3, 'num_layers': 3, 'eval_idx': -1, 'num_queries': 300, 'num_denoising': 100, 'label_noise_ratio': 0.5, 'box_noise_scale': 1.0, 'reg_max': 32, 'reg_scale': 4, 'layer_scale': 1, 'num_points': [3, 6, 3], 'cross_attn_method': 'default', 'query_select_method': 'default', 'activation': 'silu', 'mlp_act': 'silu'}, 'PostProcessor': {'num_top_queries': 300}, 'DEIMCriterion': {'weight_dict': {'loss_vfl': 1, 'loss_bbox': 5, 'loss_giou': 2, 'loss_fgl': 0.15, 'loss_ddf': 1.5, 'loss_mal': 1}, 'losses': ['mal', 'boxes', 'local'], 'alpha': 0.75, 'gamma': 1.5, 'reg_max': 32, 'matcher': {'type': 'HungarianMatcher', 'weight_dict': {'cost_class': 2, 'cost_bbox': 5, 'cost_giou': 2}, 'alpha': 0.25, 'gamma': 2.0}}, '__include__': ['./dfine_hgnetv2_s_coco.yml', '../base/deim.yml']}"
      ]
     },
     "execution_count": 4,
     "metadata": {},
     "output_type": "execute_result"
    }
   ],
   "source": [
    "conf.update(\n",
    "    **{'yaml_cfg.train_dataloader.dataset.ann_file': '/home/dnth/Desktop/DEIM/dataset/images/annotations/instances_train.json',\n",
    "       'yaml_cfg.train_dataloader.dataset.img_folder': '/home/dnth/Desktop/DEIM/dataset/images/train',\n",
    "       'yaml_cfg.train_dataloader.total_batch_size': 16,\n",
    "       'yaml_cfg.val_dataloader.dataset.ann_file': '/home/dnth/Desktop/DEIM/dataset/images/annotations/instances_val.json',\n",
    "       'yaml_cfg.val_dataloader.dataset.img_folder': '/home/dnth/Desktop/DEIM/dataset/images/valid',\n",
    "       'yaml_cfg.val_dataloader.total_batch_size': 16,\n",
    "       'yaml_cfg.remap_mscoco_category': False,\n",
    "       'yaml_cfg.num_classes': 4,\n",
    "       'output_dir': './outputs/deim_hgnetv2_s_80e',\n",
    "       'ema_warmups': 200,\n",
    "       'warmup_iter': 200,\n",
    "       'epoches': 80,\n",
    "       'flat_epoch': 40,\n",
    "       'no_aug_epoch': 5\n",
    "       }\n",
    ")"
   ]
  },
  {
   "cell_type": "code",
   "execution_count": 5,
   "metadata": {},
   "outputs": [
    {
     "data": {
      "text/plain": [
       "task: detection\n",
       "num_workers: 0\n",
       "batch_size: None\n",
       "resume: None\n",
       "tuning: None\n",
       "epoches: 80\n",
       "last_epoch: -1\n",
       "lrsheduler: flatcosine\n",
       "lr_gamma: 0.5\n",
       "no_aug_epoch: 5\n",
       "warmup_iter: 200\n",
       "flat_epoch: 40\n",
       "use_amp: True\n",
       "use_ema: True\n",
       "ema_decay: 0.9999\n",
       "ema_warmups: 200\n",
       "sync_bn: True\n",
       "clip_max_norm: 0.1\n",
       "find_unused_parameters: False\n",
       "seed: None\n",
       "print_freq: 100\n",
       "checkpoint_freq: 4\n",
       "output_dir: ./outputs/deim_hgnetv2_s_80e\n",
       "summary_dir: None\n",
       "device: \n",
       "yaml_cfg: {'task': 'detection', 'evaluator': {'type': 'CocoEvaluator', 'iou_types': ['bbox']}, 'num_classes': 4, 'remap_mscoco_category': False, 'train_dataloader': {'type': 'DataLoader', 'dataset': {'type': 'CocoDetection', 'img_folder': '/home/dnth/Desktop/DEIM/dataset/images/train', 'ann_file': '/home/dnth/Desktop/DEIM/dataset/images/annotations/instances_train.json', 'return_masks': False, 'transforms': {'type': 'Compose', 'ops': [{'type': 'Mosaic', 'output_size': 320, 'rotation_range': 10, 'translation_range': [0.1, 0.1], 'scaling_range': [0.5, 1.5], 'probability': 1.0, 'fill_value': 0, 'use_cache': False, 'max_cached_images': 50, 'random_pop': True}, {'type': 'RandomPhotometricDistort', 'p': 0.5}, {'type': 'RandomZoomOut', 'fill': 0}, {'type': 'RandomIoUCrop', 'p': 0.8}, {'type': 'SanitizeBoundingBoxes', 'min_size': 1}, {'type': 'RandomHorizontalFlip'}, {'type': 'Resize', 'size': [640, 640]}, {'type': 'SanitizeBoundingBoxes', 'min_size': 1}, {'type': 'ConvertPILImage', 'dtype': 'float32', 'scale': True}, {'type': 'ConvertBoxes', 'fmt': 'cxcywh', 'normalize': True}], 'policy': {'name': 'stop_epoch', 'epoch': [4, 64, 120], 'ops': ['Mosaic', 'RandomPhotometricDistort', 'RandomZoomOut', 'RandomIoUCrop']}, 'mosaic_prob': 0.5}}, 'shuffle': True, 'num_workers': 4, 'drop_last': True, 'collate_fn': {'type': 'BatchImageCollateFunction', 'base_size': 640, 'base_size_repeat': 20, 'stop_epoch': 120, 'ema_restart_decay': 0.9999, 'mixup_prob': 0.5, 'mixup_epochs': [4, 64]}, 'total_batch_size': 16}, 'val_dataloader': {'type': 'DataLoader', 'dataset': {'type': 'CocoDetection', 'img_folder': '/home/dnth/Desktop/DEIM/dataset/images/valid', 'ann_file': '/home/dnth/Desktop/DEIM/dataset/images/annotations/instances_val.json', 'return_masks': False, 'transforms': {'type': 'Compose', 'ops': [{'type': 'Resize', 'size': [640, 640]}, {'type': 'ConvertPILImage', 'dtype': 'float32', 'scale': True}]}}, 'shuffle': False, 'num_workers': 4, 'drop_last': False, 'collate_fn': {'type': 'BatchImageCollateFunction'}, 'total_batch_size': 16}, 'print_freq': 100, 'output_dir': './outputs/deim_hgnetv2_s_coco', 'checkpoint_freq': 4, 'sync_bn': True, 'find_unused_parameters': False, 'use_amp': True, 'scaler': {'type': 'GradScaler', 'enabled': True}, 'use_ema': True, 'ema': {'type': 'ModelEMA', 'decay': 0.9999, 'warmups': 1000, 'start': 0}, 'epoches': 132, 'clip_max_norm': 0.1, 'optimizer': {'type': 'AdamW', 'params': [{'params': '^(?=.*backbone)(?!.*bn).*$', 'lr': 0.0002}, {'params': '^(?=.*(?:norm|bn)).*$', 'weight_decay': 0.0}], 'lr': 0.0004, 'betas': [0.9, 0.999], 'weight_decay': 0.0001}, 'lr_scheduler': {'type': 'MultiStepLR', 'milestones': [500], 'gamma': 0.1}, 'lr_warmup_scheduler': {'type': 'LinearWarmup', 'warmup_duration': 500}, 'model': 'DEIM', 'criterion': 'DEIMCriterion', 'postprocessor': 'PostProcessor', 'use_focal_loss': True, 'eval_spatial_size': [640, 640], 'DEIM': {'backbone': 'HGNetv2', 'encoder': 'HybridEncoder', 'decoder': 'DFINETransformer'}, 'lrsheduler': 'flatcosine', 'lr_gamma': 0.5, 'warmup_iter': 2000, 'flat_epoch': 64, 'no_aug_epoch': 12, 'HGNetv2': {'pretrained': True, 'local_model_dir': '../RT-DETR-main/D-FINE/weight/hgnetv2/', 'name': 'B0', 'return_idx': [1, 2, 3], 'freeze_at': -1, 'freeze_norm': False, 'use_lab': True}, 'HybridEncoder': {'in_channels': [256, 512, 1024], 'feat_strides': [8, 16, 32], 'hidden_dim': 256, 'use_encoder_idx': [2], 'num_encoder_layers': 1, 'nhead': 8, 'dim_feedforward': 1024, 'dropout': 0.0, 'enc_act': 'gelu', 'expansion': 0.5, 'depth_mult': 0.34, 'act': 'silu'}, 'DFINETransformer': {'feat_channels': [256, 256, 256], 'feat_strides': [8, 16, 32], 'hidden_dim': 256, 'num_levels': 3, 'num_layers': 3, 'eval_idx': -1, 'num_queries': 300, 'num_denoising': 100, 'label_noise_ratio': 0.5, 'box_noise_scale': 1.0, 'reg_max': 32, 'reg_scale': 4, 'layer_scale': 1, 'num_points': [3, 6, 3], 'cross_attn_method': 'default', 'query_select_method': 'default', 'activation': 'silu', 'mlp_act': 'silu'}, 'PostProcessor': {'num_top_queries': 300}, 'DEIMCriterion': {'weight_dict': {'loss_vfl': 1, 'loss_bbox': 5, 'loss_giou': 2, 'loss_fgl': 0.15, 'loss_ddf': 1.5, 'loss_mal': 1}, 'losses': ['mal', 'boxes', 'local'], 'alpha': 0.75, 'gamma': 1.5, 'reg_max': 32, 'matcher': {'type': 'HungarianMatcher', 'weight_dict': {'cost_class': 2, 'cost_bbox': 5, 'cost_giou': 2}, 'alpha': 0.25, 'gamma': 2.0}}, '__include__': ['./dfine_hgnetv2_s_coco.yml', '../base/deim.yml']}"
      ]
     },
     "execution_count": 5,
     "metadata": {},
     "output_type": "execute_result"
    }
   ],
   "source": [
    "conf.save('my_train_config.yml')"
   ]
  },
  {
   "cell_type": "code",
   "execution_count": 6,
   "metadata": {},
   "outputs": [
    {
     "name": "stderr",
     "output_type": "stream",
     "text": [
      "\u001b[32m2025-03-10 18:14:08.020\u001b[0m | \u001b[1mINFO    \u001b[0m | \u001b[36mdeimkit.trainer\u001b[0m:\u001b[36m_init_process_group\u001b[0m:\u001b[36m57\u001b[0m - \u001b[1mInitializing process group for single-process training\u001b[0m\n",
      "\u001b[32m2025-03-10 18:14:08.023\u001b[0m | \u001b[1mINFO    \u001b[0m | \u001b[36mdeimkit.trainer\u001b[0m:\u001b[36m_init_process_group\u001b[0m:\u001b[36m76\u001b[0m - \u001b[1mProcess group initialized successfully\u001b[0m\n",
      "\u001b[32m2025-03-10 18:14:08.024\u001b[0m | \u001b[1mINFO    \u001b[0m | \u001b[36mdeimkit.trainer\u001b[0m:\u001b[36mtrain\u001b[0m:\u001b[36m184\u001b[0m - \u001b[1mStarting training...\u001b[0m\n",
      "\u001b[32m2025-03-10 18:14:08.024\u001b[0m | \u001b[1mINFO    \u001b[0m | \u001b[36mdeimkit.trainer\u001b[0m:\u001b[36m_setup\u001b[0m:\u001b[36m134\u001b[0m - \u001b[1mSetting HGNetv2 pretrained to False to avoid distributed issues\u001b[0m\n",
      "\u001b[32m2025-03-10 18:14:08.025\u001b[0m | \u001b[1mINFO    \u001b[0m | \u001b[36mdeimkit.trainer\u001b[0m:\u001b[36m_setup\u001b[0m:\u001b[36m140\u001b[0m - \u001b[1mDisabling sync_bn and find_unused_parameters for single-process training\u001b[0m\n",
      "\u001b[32m2025-03-10 18:14:08.025\u001b[0m | \u001b[1mINFO    \u001b[0m | \u001b[36mdeimkit.trainer\u001b[0m:\u001b[36m_setup\u001b[0m:\u001b[36m148\u001b[0m - \u001b[1mInitializing solver for task: detection\u001b[0m\n",
      "/home/dnth/Desktop/DEIMKit/src/deimkit/engine/core/workspace.py:180: FutureWarning: `torch.cuda.amp.GradScaler(args...)` is deprecated. Please use `torch.amp.GradScaler('cuda', args...)` instead.\n",
      "  return module(**module_kwargs)\n",
      "\u001b[32m2025-03-10 18:14:08.381\u001b[0m | \u001b[1mINFO    \u001b[0m | \u001b[36mdeimkit.trainer\u001b[0m:\u001b[36m_setup\u001b[0m:\u001b[36m175\u001b[0m - \u001b[1mTraining setup complete. Output directory: outputs/deim_hgnetv2_s_80e\u001b[0m\n",
      "\u001b[32m2025-03-10 18:14:08.382\u001b[0m | \u001b[1mINFO    \u001b[0m | \u001b[36mdeimkit.trainer\u001b[0m:\u001b[36mtrain\u001b[0m:\u001b[36m201\u001b[0m - \u001b[1mNumber of trainable parameters: 10224291\u001b[0m\n",
      "\u001b[32m2025-03-10 18:14:08.383\u001b[0m | \u001b[1mINFO    \u001b[0m | \u001b[36mdeimkit.trainer\u001b[0m:\u001b[36mtrain\u001b[0m:\u001b[36m207\u001b[0m - \u001b[1mUsing custom scheduler: flatcosine\u001b[0m\n",
      "\u001b[32m2025-03-10 18:14:08.383\u001b[0m | \u001b[1mINFO    \u001b[0m | \u001b[36mdeimkit.trainer\u001b[0m:\u001b[36mtrain\u001b[0m:\u001b[36m224\u001b[0m - \u001b[1mEpoch 0/80\u001b[0m\n"
     ]
    },
    {
     "name": "stdout",
     "output_type": "stream",
     "text": [
      "Initial lr: [0.0002, 0.0004, 0.0004]\n",
      "building train_dataloader with batch_size=16...\n",
      "     ### Transform @Mosaic ###    \n",
      "     ### Transform @RandomPhotometricDistort ###    \n",
      "     ### Transform @RandomZoomOut ###    \n",
      "     ### Transform @RandomIoUCrop ###    \n",
      "     ### Transform @SanitizeBoundingBoxes ###    \n",
      "     ### Transform @RandomHorizontalFlip ###    \n",
      "     ### Transform @Resize ###    \n",
      "     ### Transform @SanitizeBoundingBoxes ###    \n",
      "     ### Transform @ConvertPILImage ###    \n",
      "     ### Transform @ConvertBoxes ###    \n",
      "     ### Mosaic with Prob.@0.5 and ZoomOut/IoUCrop existed ### \n",
      "     ### ImgTransforms Epochs: [4, 64, 120] ### \n",
      "     ### Policy_ops@['Mosaic', 'RandomPhotometricDistort', 'RandomZoomOut', 'RandomIoUCrop'] ###\n",
      "     ### Using MixUp with Prob@0.5 in [4, 64] epochs ### \n",
      "     ### Multi-scale Training until 120 epochs ### \n",
      "     ### Multi-scales@ [480, 512, 544, 576, 608, 640, 640, 640, 640, 640, 640, 640, 640, 640, 640, 640, 640, 640, 640, 640, 640, 640, 640, 640, 640, 800, 768, 736, 704, 672] ###        \n",
      "building val_dataloader with batch_size=16...\n",
      "     ### Transform @Resize ###    \n",
      "     ### Transform @ConvertPILImage ###    \n",
      "[0.0002, 0.0004, 0.0004] [0.0001, 0.0002, 0.0002] 1200 200 600 75\n"
     ]
    },
    {
     "name": "stderr",
     "output_type": "stream",
     "text": [
      "Epoch 0: 100%|██████████| 15/15 [00:07<00:00,  2.06it/s, loss=35.2692]\n",
      "\u001b[32m2025-03-10 18:14:15.675\u001b[0m | \u001b[1mINFO    \u001b[0m | \u001b[36mdeimkit.trainer\u001b[0m:\u001b[36mevaluate\u001b[0m:\u001b[36m332\u001b[0m - \u001b[1mEvaluating model...\u001b[0m\n"
     ]
    },
    {
     "name": "stdout",
     "output_type": "stream",
     "text": [
      "Averaged stats: lr: 0.000001  loss: 35.7165 (35.7747)  loss_mal: 0.7573 (0.7539)  loss_bbox: 1.2535 (1.2554)  loss_giou: 1.6430 (1.6432)  loss_fgl: 0.4760 (0.4749)  loss_mal_aux_0: 0.7671 (0.7579)  loss_bbox_aux_0: 1.2535 (1.2554)  loss_giou_aux_0: 1.6430 (1.6432)  loss_fgl_aux_0: 0.4760 (0.4749)  loss_mal_aux_1: 0.7407 (0.7381)  loss_bbox_aux_1: 1.2535 (1.2554)  loss_giou_aux_1: 1.6430 (1.6432)  loss_fgl_aux_1: 0.4760 (0.4749)  loss_mal_pre: 0.7671 (0.7579)  loss_bbox_pre: 1.2535 (1.2554)  loss_giou_pre: 1.6430 (1.6432)  loss_mal_enc_0: 0.6406 (0.6410)  loss_bbox_enc_0: 1.2535 (1.2554)  loss_giou_enc_0: 1.6430 (1.6432)  loss_mal_dn_0: 1.1201 (1.1228)  loss_bbox_dn_0: 0.9238 (0.9182)  loss_giou_dn_0: 1.3473 (1.3455)  loss_fgl_dn_0: 0.8375 (0.8384)  loss_mal_dn_1: 1.2217 (1.2210)  loss_bbox_dn_1: 0.9238 (0.9182)  loss_giou_dn_1: 1.3473 (1.3455)  loss_fgl_dn_1: 0.8375 (0.8384)  loss_mal_dn_2: 1.1709 (1.1717)  loss_bbox_dn_2: 0.9238 (0.9182)  loss_giou_dn_2: 1.3473 (1.3455)  loss_fgl_dn_2: 0.8375 (0.8384)  loss_mal_dn_pre: 1.1201 (1.1228)  loss_bbox_dn_pre: 0.9238 (0.9182)  loss_giou_dn_pre: 1.3473 (1.3455)  loss_ddf_aux_0: 0.0000 (0.0000)  loss_ddf_aux_1: 0.0000 (0.0000)  loss_ddf_dn_0: 0.0000 (0.0000)  loss_ddf_dn_1: 0.0000 (0.0000)\n"
     ]
    },
    {
     "name": "stderr",
     "output_type": "stream",
     "text": [
      "Evaluating: 100%|██████████| 5/5 [00:01<00:00,  3.93it/s]\n",
      "\u001b[32m2025-03-10 18:14:16.957\u001b[0m | \u001b[1mINFO    \u001b[0m | \u001b[36mdeimkit.trainer\u001b[0m:\u001b[36mtrain\u001b[0m:\u001b[36m313\u001b[0m - \u001b[1mEpoch 0 - Train loss: 35.7747, Eval mAP: 0.0000\u001b[0m\n",
      "\u001b[32m2025-03-10 18:14:16.958\u001b[0m | \u001b[1mINFO    \u001b[0m | \u001b[36mdeimkit.trainer\u001b[0m:\u001b[36mtrain\u001b[0m:\u001b[36m316\u001b[0m - \u001b[1mBest stats: {'epoch': 0, 'coco_eval_bbox': 0.0}\u001b[0m\n",
      "\u001b[32m2025-03-10 18:14:16.958\u001b[0m | \u001b[1mINFO    \u001b[0m | \u001b[36mdeimkit.trainer\u001b[0m:\u001b[36mtrain\u001b[0m:\u001b[36m224\u001b[0m - \u001b[1mEpoch 1/80\u001b[0m\n"
     ]
    },
    {
     "name": "stdout",
     "output_type": "stream",
     "text": [
      "Averaged stats: \n",
      "Accumulating evaluation results...\n",
      "COCOeval_opt.accumulate() finished...\n",
      "DONE (t=0.00s).\n",
      "IoU metric: bbox\n",
      " Average Precision  (AP) @[ IoU=0.50:0.95 | area=   all | maxDets=100 ] = 0.000\n",
      " Average Precision  (AP) @[ IoU=0.50      | area=   all | maxDets=100 ] = 0.000\n",
      " Average Precision  (AP) @[ IoU=0.75      | area=   all | maxDets=100 ] = 0.000\n",
      " Average Precision  (AP) @[ IoU=0.50:0.95 | area= small | maxDets=100 ] = 0.000\n",
      " Average Precision  (AP) @[ IoU=0.50:0.95 | area=medium | maxDets=100 ] = 0.000\n",
      " Average Precision  (AP) @[ IoU=0.50:0.95 | area= large | maxDets=100 ] = 0.000\n",
      " Average Recall     (AR) @[ IoU=0.50:0.95 | area=   all | maxDets=  1 ] = 0.000\n",
      " Average Recall     (AR) @[ IoU=0.50:0.95 | area=   all | maxDets= 10 ] = 0.000\n",
      " Average Recall     (AR) @[ IoU=0.50:0.95 | area=   all | maxDets=100 ] = 0.000\n",
      " Average Recall     (AR) @[ IoU=0.50:0.95 | area= small | maxDets=100 ] = 0.000\n",
      " Average Recall     (AR) @[ IoU=0.50:0.95 | area=medium | maxDets=100 ] = 0.000\n",
      " Average Recall     (AR) @[ IoU=0.50:0.95 | area= large | maxDets=100 ] = 0.000\n",
      " Average Recall     (AR) @[ IoU=0.50      | area=   all | maxDets=100 ] = 0.000\n",
      " Average Recall     (AR) @[ IoU=0.75      | area=   all | maxDets=100 ] = 0.000\n"
     ]
    },
    {
     "name": "stderr",
     "output_type": "stream",
     "text": [
      "Epoch 1: 100%|██████████| 15/15 [00:06<00:00,  2.33it/s, loss=35.2291]\n",
      "\u001b[32m2025-03-10 18:14:23.417\u001b[0m | \u001b[1mINFO    \u001b[0m | \u001b[36mdeimkit.trainer\u001b[0m:\u001b[36mevaluate\u001b[0m:\u001b[36m332\u001b[0m - \u001b[1mEvaluating model...\u001b[0m\n"
     ]
    },
    {
     "name": "stdout",
     "output_type": "stream",
     "text": [
      "Averaged stats: lr: 0.000004  loss: 35.6923 (35.6942)  loss_mal: 0.7598 (0.7547)  loss_bbox: 1.2426 (1.2560)  loss_giou: 1.6424 (1.6391)  loss_fgl: 0.4808 (0.4790)  loss_mal_aux_0: 0.7734 (0.7660)  loss_bbox_aux_0: 1.2429 (1.2562)  loss_giou_aux_0: 1.6427 (1.6394)  loss_fgl_aux_0: 0.4806 (0.4788)  loss_ddf_aux_0: 0.0000 (0.0000)  loss_mal_aux_1: 0.7466 (0.7410)  loss_bbox_aux_1: 1.2427 (1.2561)  loss_giou_aux_1: 1.6426 (1.6393)  loss_fgl_aux_1: 0.4807 (0.4789)  loss_ddf_aux_1: 0.0000 (0.0000)  loss_mal_pre: 0.7734 (0.7657)  loss_bbox_pre: 1.2429 (1.2563)  loss_giou_pre: 1.6428 (1.6394)  loss_mal_enc_0: 0.6357 (0.6429)  loss_bbox_enc_0: 1.2431 (1.2564)  loss_giou_enc_0: 1.6428 (1.6395)  loss_mal_dn_0: 1.1172 (1.1072)  loss_bbox_dn_0: 0.9219 (0.9182)  loss_giou_dn_0: 1.3411 (1.3415)  loss_fgl_dn_0: 0.8434 (0.8426)  loss_ddf_dn_0: 0.0000 (-0.0001)  loss_mal_dn_1: 1.2031 (1.1967)  loss_bbox_dn_1: 0.9218 (0.9181)  loss_giou_dn_1: 1.3411 (1.3415)  loss_fgl_dn_1: 0.8434 (0.8426)  loss_ddf_dn_1: 0.0000 (0.0001)  loss_mal_dn_2: 1.1338 (1.1323)  loss_bbox_dn_2: 0.9218 (0.9181)  loss_giou_dn_2: 1.3411 (1.3415)  loss_fgl_dn_2: 0.8434 (0.8425)  loss_mal_dn_pre: 1.1172 (1.1073)  loss_bbox_dn_pre: 0.9219 (0.9183)  loss_giou_dn_pre: 1.3411 (1.3415)\n"
     ]
    },
    {
     "name": "stderr",
     "output_type": "stream",
     "text": [
      "Evaluating: 100%|██████████| 5/5 [00:01<00:00,  3.69it/s]\n",
      "\u001b[32m2025-03-10 18:14:24.785\u001b[0m | \u001b[1mINFO    \u001b[0m | \u001b[36mdeimkit.trainer\u001b[0m:\u001b[36m_save_checkpoint\u001b[0m:\u001b[36m364\u001b[0m - \u001b[1mSaving checkpoint to outputs/deim_hgnetv2_s_80e/best.pth\u001b[0m\n"
     ]
    },
    {
     "name": "stdout",
     "output_type": "stream",
     "text": [
      "Averaged stats: \n",
      "Accumulating evaluation results...\n",
      "COCOeval_opt.accumulate() finished...\n",
      "DONE (t=0.00s).\n",
      "IoU metric: bbox\n",
      " Average Precision  (AP) @[ IoU=0.50:0.95 | area=   all | maxDets=100 ] = 0.000\n",
      " Average Precision  (AP) @[ IoU=0.50      | area=   all | maxDets=100 ] = 0.000\n",
      " Average Precision  (AP) @[ IoU=0.75      | area=   all | maxDets=100 ] = 0.000\n",
      " Average Precision  (AP) @[ IoU=0.50:0.95 | area= small | maxDets=100 ] = 0.000\n",
      " Average Precision  (AP) @[ IoU=0.50:0.95 | area=medium | maxDets=100 ] = 0.000\n",
      " Average Precision  (AP) @[ IoU=0.50:0.95 | area= large | maxDets=100 ] = 0.000\n",
      " Average Recall     (AR) @[ IoU=0.50:0.95 | area=   all | maxDets=  1 ] = 0.000\n",
      " Average Recall     (AR) @[ IoU=0.50:0.95 | area=   all | maxDets= 10 ] = 0.000\n",
      " Average Recall     (AR) @[ IoU=0.50:0.95 | area=   all | maxDets=100 ] = 0.001\n",
      " Average Recall     (AR) @[ IoU=0.50:0.95 | area= small | maxDets=100 ] = 0.000\n",
      " Average Recall     (AR) @[ IoU=0.50:0.95 | area=medium | maxDets=100 ] = 0.000\n",
      " Average Recall     (AR) @[ IoU=0.50:0.95 | area= large | maxDets=100 ] = 0.100\n",
      " Average Recall     (AR) @[ IoU=0.50      | area=   all | maxDets=100 ] = 0.004\n",
      " Average Recall     (AR) @[ IoU=0.75      | area=   all | maxDets=100 ] = 0.000\n"
     ]
    },
    {
     "name": "stderr",
     "output_type": "stream",
     "text": [
      "\u001b[32m2025-03-10 18:14:25.039\u001b[0m | \u001b[1mINFO    \u001b[0m | \u001b[36mdeimkit.trainer\u001b[0m:\u001b[36m_save_checkpoint\u001b[0m:\u001b[36m381\u001b[0m - \u001b[1mCheckpoint saved to outputs/deim_hgnetv2_s_80e/best.pth\u001b[0m\n",
      "\u001b[32m2025-03-10 18:14:25.040\u001b[0m | \u001b[1mINFO    \u001b[0m | \u001b[36mdeimkit.trainer\u001b[0m:\u001b[36mtrain\u001b[0m:\u001b[36m313\u001b[0m - \u001b[1mEpoch 1 - Train loss: 35.6942, Eval mAP: 0.0000\u001b[0m\n",
      "\u001b[32m2025-03-10 18:14:25.040\u001b[0m | \u001b[1mINFO    \u001b[0m | \u001b[36mdeimkit.trainer\u001b[0m:\u001b[36mtrain\u001b[0m:\u001b[36m316\u001b[0m - \u001b[1mBest stats: {'epoch': 1, 'coco_eval_bbox': 6.600660066006601e-06}\u001b[0m\n",
      "\u001b[32m2025-03-10 18:14:25.041\u001b[0m | \u001b[1mINFO    \u001b[0m | \u001b[36mdeimkit.trainer\u001b[0m:\u001b[36mtrain\u001b[0m:\u001b[36m224\u001b[0m - \u001b[1mEpoch 2/80\u001b[0m\n",
      "Epoch 2: 100%|██████████| 15/15 [00:06<00:00,  2.35it/s, loss=33.9622]\n",
      "\u001b[32m2025-03-10 18:14:31.444\u001b[0m | \u001b[1mINFO    \u001b[0m | \u001b[36mdeimkit.trainer\u001b[0m:\u001b[36mevaluate\u001b[0m:\u001b[36m332\u001b[0m - \u001b[1mEvaluating model...\u001b[0m\n"
     ]
    },
    {
     "name": "stdout",
     "output_type": "stream",
     "text": [
      "Averaged stats: lr: 0.000010  loss: 34.9461 (34.9145)  loss_mal: 0.8154 (0.8041)  loss_bbox: 1.1559 (1.1506)  loss_giou: 1.5555 (1.5622)  loss_fgl: 0.5649 (0.5649)  loss_mal_aux_0: 0.8477 (0.8551)  loss_bbox_aux_0: 1.1565 (1.1518)  loss_giou_aux_0: 1.5563 (1.5632)  loss_fgl_aux_0: 0.5644 (0.5642)  loss_ddf_aux_0: -0.0007 (-0.0007)  loss_mal_aux_1: 0.8252 (0.8300)  loss_bbox_aux_1: 1.1562 (1.1513)  loss_giou_aux_1: 1.5559 (1.5627)  loss_fgl_aux_1: 0.5646 (0.5646)  loss_ddf_aux_1: 0.0002 (0.0001)  loss_mal_pre: 0.8457 (0.8549)  loss_bbox_pre: 1.1566 (1.1521)  loss_giou_pre: 1.5565 (1.5635)  loss_mal_enc_0: 0.7178 (0.7057)  loss_bbox_enc_0: 1.1568 (1.1526)  loss_giou_enc_0: 1.5569 (1.5640)  loss_mal_dn_0: 1.0020 (0.9985)  loss_bbox_dn_0: 0.9174 (0.9217)  loss_giou_dn_0: 1.3482 (1.3477)  loss_fgl_dn_0: 0.8372 (0.8374)  loss_ddf_dn_0: -0.0006 (-0.0008)  loss_mal_dn_1: 1.0654 (1.0611)  loss_bbox_dn_1: 0.9172 (0.9212)  loss_giou_dn_1: 1.3484 (1.3478)  loss_fgl_dn_1: 0.8370 (0.8371)  loss_ddf_dn_1: 0.0005 (0.0003)  loss_mal_dn_2: 0.9561 (0.9515)  loss_bbox_dn_2: 0.9171 (0.9209)  loss_giou_dn_2: 1.3486 (1.3478)  loss_fgl_dn_2: 0.8368 (0.8368)  loss_mal_dn_pre: 1.0020 (0.9989)  loss_bbox_dn_pre: 0.9176 (0.9220)  loss_giou_dn_pre: 1.3481 (1.3477)\n"
     ]
    },
    {
     "name": "stderr",
     "output_type": "stream",
     "text": [
      "Evaluating: 100%|██████████| 5/5 [00:01<00:00,  3.52it/s]\n",
      "\u001b[32m2025-03-10 18:14:32.886\u001b[0m | \u001b[1mINFO    \u001b[0m | \u001b[36mdeimkit.trainer\u001b[0m:\u001b[36m_save_checkpoint\u001b[0m:\u001b[36m364\u001b[0m - \u001b[1mSaving checkpoint to outputs/deim_hgnetv2_s_80e/best.pth\u001b[0m\n"
     ]
    },
    {
     "name": "stdout",
     "output_type": "stream",
     "text": [
      "Averaged stats: \n",
      "Accumulating evaluation results...\n",
      "COCOeval_opt.accumulate() finished...\n",
      "DONE (t=0.01s).\n",
      "IoU metric: bbox\n",
      " Average Precision  (AP) @[ IoU=0.50:0.95 | area=   all | maxDets=100 ] = 0.001\n",
      " Average Precision  (AP) @[ IoU=0.50      | area=   all | maxDets=100 ] = 0.006\n",
      " Average Precision  (AP) @[ IoU=0.75      | area=   all | maxDets=100 ] = 0.000\n",
      " Average Precision  (AP) @[ IoU=0.50:0.95 | area= small | maxDets=100 ] = 0.000\n",
      " Average Precision  (AP) @[ IoU=0.50:0.95 | area=medium | maxDets=100 ] = 0.001\n",
      " Average Precision  (AP) @[ IoU=0.50:0.95 | area= large | maxDets=100 ] = 0.003\n",
      " Average Recall     (AR) @[ IoU=0.50:0.95 | area=   all | maxDets=  1 ] = 0.000\n",
      " Average Recall     (AR) @[ IoU=0.50:0.95 | area=   all | maxDets= 10 ] = 0.003\n",
      " Average Recall     (AR) @[ IoU=0.50:0.95 | area=   all | maxDets=100 ] = 0.041\n",
      " Average Recall     (AR) @[ IoU=0.50:0.95 | area= small | maxDets=100 ] = 0.000\n",
      " Average Recall     (AR) @[ IoU=0.50:0.95 | area=medium | maxDets=100 ] = 0.022\n",
      " Average Recall     (AR) @[ IoU=0.50:0.95 | area= large | maxDets=100 ] = 0.046\n",
      " Average Recall     (AR) @[ IoU=0.50      | area=   all | maxDets=100 ] = 0.148\n",
      " Average Recall     (AR) @[ IoU=0.75      | area=   all | maxDets=100 ] = 0.010\n"
     ]
    },
    {
     "name": "stderr",
     "output_type": "stream",
     "text": [
      "\u001b[32m2025-03-10 18:14:33.204\u001b[0m | \u001b[1mINFO    \u001b[0m | \u001b[36mdeimkit.trainer\u001b[0m:\u001b[36m_save_checkpoint\u001b[0m:\u001b[36m381\u001b[0m - \u001b[1mCheckpoint saved to outputs/deim_hgnetv2_s_80e/best.pth\u001b[0m\n",
      "\u001b[32m2025-03-10 18:14:33.206\u001b[0m | \u001b[1mINFO    \u001b[0m | \u001b[36mdeimkit.trainer\u001b[0m:\u001b[36mtrain\u001b[0m:\u001b[36m313\u001b[0m - \u001b[1mEpoch 2 - Train loss: 34.9145, Eval mAP: 0.0013\u001b[0m\n",
      "\u001b[32m2025-03-10 18:14:33.207\u001b[0m | \u001b[1mINFO    \u001b[0m | \u001b[36mdeimkit.trainer\u001b[0m:\u001b[36mtrain\u001b[0m:\u001b[36m316\u001b[0m - \u001b[1mBest stats: {'epoch': 2, 'coco_eval_bbox': 0.0012576762679475328}\u001b[0m\n",
      "\u001b[32m2025-03-10 18:14:33.207\u001b[0m | \u001b[1mINFO    \u001b[0m | \u001b[36mdeimkit.trainer\u001b[0m:\u001b[36mtrain\u001b[0m:\u001b[36m224\u001b[0m - \u001b[1mEpoch 3/80\u001b[0m\n",
      "Epoch 3: 100%|██████████| 15/15 [00:06<00:00,  2.20it/s, loss=32.3273]\n",
      "\u001b[32m2025-03-10 18:14:40.045\u001b[0m | \u001b[1mINFO    \u001b[0m | \u001b[36mdeimkit.trainer\u001b[0m:\u001b[36m_save_checkpoint\u001b[0m:\u001b[36m364\u001b[0m - \u001b[1mSaving checkpoint to outputs/deim_hgnetv2_s_80e/checkpoint0003.pth\u001b[0m\n"
     ]
    },
    {
     "name": "stdout",
     "output_type": "stream",
     "text": [
      "Averaged stats: lr: 0.000017  loss: 33.4912 (33.5314)  loss_mal: 0.9253 (0.9269)  loss_bbox: 0.9296 (0.9264)  loss_giou: 1.3303 (1.3245)  loss_fgl: 0.8045 (0.8059)  loss_mal_aux_0: 1.1006 (1.0976)  loss_bbox_aux_0: 0.9359 (0.9322)  loss_giou_aux_0: 1.3348 (1.3283)  loss_fgl_aux_0: 0.8027 (0.8044)  loss_ddf_aux_0: -0.0003 (-0.0002)  loss_mal_aux_1: 1.0127 (1.0136)  loss_bbox_aux_1: 0.9330 (0.9295)  loss_giou_aux_1: 1.3327 (1.3265)  loss_fgl_aux_1: 0.8036 (0.8051)  loss_ddf_aux_1: 0.0001 (0.0000)  loss_mal_pre: 1.0986 (1.0969)  loss_bbox_pre: 0.9372 (0.9333)  loss_giou_pre: 1.3358 (1.3292)  loss_mal_enc_0: 0.8999 (0.9035)  loss_bbox_enc_0: 0.9394 (0.9352)  loss_giou_enc_0: 1.3376 (1.3307)  loss_mal_dn_0: 0.8237 (0.8339)  loss_bbox_dn_0: 0.9244 (0.9125)  loss_giou_dn_0: 1.3453 (1.3464)  loss_fgl_dn_0: 0.8387 (0.8380)  loss_ddf_dn_0: 0.0002 (0.0002)  loss_mal_dn_1: 0.8271 (0.8367)  loss_bbox_dn_1: 0.9230 (0.9110)  loss_giou_dn_1: 1.3454 (1.3466)  loss_fgl_dn_1: 0.8381 (0.8371)  loss_ddf_dn_1: 0.0000 (-0.0001)  loss_mal_dn_2: 0.7183 (0.7323)  loss_bbox_dn_2: 0.9222 (0.9102)  loss_giou_dn_2: 1.3455 (1.3469)  loss_fgl_dn_2: 0.8376 (0.8362)  loss_mal_dn_pre: 0.8247 (0.8343)  loss_bbox_dn_pre: 0.9254 (0.9133)  loss_giou_dn_pre: 1.3451 (1.3463)\n"
     ]
    },
    {
     "name": "stderr",
     "output_type": "stream",
     "text": [
      "\u001b[32m2025-03-10 18:14:40.428\u001b[0m | \u001b[1mINFO    \u001b[0m | \u001b[36mdeimkit.trainer\u001b[0m:\u001b[36m_save_checkpoint\u001b[0m:\u001b[36m381\u001b[0m - \u001b[1mCheckpoint saved to outputs/deim_hgnetv2_s_80e/checkpoint0003.pth\u001b[0m\n",
      "\u001b[32m2025-03-10 18:14:40.430\u001b[0m | \u001b[1mINFO    \u001b[0m | \u001b[36mdeimkit.trainer\u001b[0m:\u001b[36mevaluate\u001b[0m:\u001b[36m332\u001b[0m - \u001b[1mEvaluating model...\u001b[0m\n",
      "Evaluating: 100%|██████████| 5/5 [00:01<00:00,  3.96it/s]\n",
      "\u001b[32m2025-03-10 18:14:41.711\u001b[0m | \u001b[1mINFO    \u001b[0m | \u001b[36mdeimkit.trainer\u001b[0m:\u001b[36m_save_checkpoint\u001b[0m:\u001b[36m364\u001b[0m - \u001b[1mSaving checkpoint to outputs/deim_hgnetv2_s_80e/best.pth\u001b[0m\n"
     ]
    },
    {
     "name": "stdout",
     "output_type": "stream",
     "text": [
      "Averaged stats: \n",
      "Accumulating evaluation results...\n",
      "COCOeval_opt.accumulate() finished...\n",
      "DONE (t=0.01s).\n",
      "IoU metric: bbox\n",
      " Average Precision  (AP) @[ IoU=0.50:0.95 | area=   all | maxDets=100 ] = 0.003\n",
      " Average Precision  (AP) @[ IoU=0.50      | area=   all | maxDets=100 ] = 0.015\n",
      " Average Precision  (AP) @[ IoU=0.75      | area=   all | maxDets=100 ] = 0.000\n",
      " Average Precision  (AP) @[ IoU=0.50:0.95 | area= small | maxDets=100 ] = 0.000\n",
      " Average Precision  (AP) @[ IoU=0.50:0.95 | area=medium | maxDets=100 ] = 0.002\n",
      " Average Precision  (AP) @[ IoU=0.50:0.95 | area= large | maxDets=100 ] = 0.006\n",
      " Average Recall     (AR) @[ IoU=0.50:0.95 | area=   all | maxDets=  1 ] = 0.001\n",
      " Average Recall     (AR) @[ IoU=0.50:0.95 | area=   all | maxDets= 10 ] = 0.007\n",
      " Average Recall     (AR) @[ IoU=0.50:0.95 | area=   all | maxDets=100 ] = 0.058\n",
      " Average Recall     (AR) @[ IoU=0.50:0.95 | area= small | maxDets=100 ] = 0.000\n",
      " Average Recall     (AR) @[ IoU=0.50:0.95 | area=medium | maxDets=100 ] = 0.028\n",
      " Average Recall     (AR) @[ IoU=0.50:0.95 | area= large | maxDets=100 ] = 0.069\n",
      " Average Recall     (AR) @[ IoU=0.50      | area=   all | maxDets=100 ] = 0.186\n",
      " Average Recall     (AR) @[ IoU=0.75      | area=   all | maxDets=100 ] = 0.017\n"
     ]
    },
    {
     "name": "stderr",
     "output_type": "stream",
     "text": [
      "\u001b[32m2025-03-10 18:14:42.155\u001b[0m | \u001b[1mINFO    \u001b[0m | \u001b[36mdeimkit.trainer\u001b[0m:\u001b[36m_save_checkpoint\u001b[0m:\u001b[36m381\u001b[0m - \u001b[1mCheckpoint saved to outputs/deim_hgnetv2_s_80e/best.pth\u001b[0m\n",
      "\u001b[32m2025-03-10 18:14:42.158\u001b[0m | \u001b[1mINFO    \u001b[0m | \u001b[36mdeimkit.trainer\u001b[0m:\u001b[36mtrain\u001b[0m:\u001b[36m313\u001b[0m - \u001b[1mEpoch 3 - Train loss: 33.5314, Eval mAP: 0.0031\u001b[0m\n",
      "\u001b[32m2025-03-10 18:14:42.158\u001b[0m | \u001b[1mINFO    \u001b[0m | \u001b[36mdeimkit.trainer\u001b[0m:\u001b[36mtrain\u001b[0m:\u001b[36m316\u001b[0m - \u001b[1mBest stats: {'epoch': 3, 'coco_eval_bbox': 0.003097801717908402}\u001b[0m\n",
      "\u001b[32m2025-03-10 18:14:42.159\u001b[0m | \u001b[1mINFO    \u001b[0m | \u001b[36mdeimkit.trainer\u001b[0m:\u001b[36mtrain\u001b[0m:\u001b[36m224\u001b[0m - \u001b[1mEpoch 4/80\u001b[0m\n",
      "Epoch 4: 100%|██████████| 15/15 [00:09<00:00,  1.63it/s, loss=30.2263]\n",
      "\u001b[32m2025-03-10 18:14:51.400\u001b[0m | \u001b[1mINFO    \u001b[0m | \u001b[36mdeimkit.trainer\u001b[0m:\u001b[36mevaluate\u001b[0m:\u001b[36m332\u001b[0m - \u001b[1mEvaluating model...\u001b[0m\n"
     ]
    },
    {
     "name": "stdout",
     "output_type": "stream",
     "text": [
      "Averaged stats: lr: 0.000027  loss: 30.2188 (29.9985)  loss_mal: 0.6665 (0.6916)  loss_bbox: 0.8207 (0.8243)  loss_giou: 1.4925 (1.4909)  loss_fgl: 0.6509 (0.6509)  loss_mal_aux_0: 0.6533 (0.6789)  loss_bbox_aux_0: 0.8259 (0.8322)  loss_giou_aux_0: 1.4976 (1.4940)  loss_fgl_aux_0: 0.6494 (0.6504)  loss_ddf_aux_0: 0.0010 (0.0009)  loss_mal_aux_1: 0.6519 (0.6645)  loss_bbox_aux_1: 0.8239 (0.8286)  loss_giou_aux_1: 1.4948 (1.4922)  loss_fgl_aux_1: 0.6502 (0.6507)  loss_ddf_aux_1: 0.0002 (0.0002)  loss_mal_pre: 0.6528 (0.6781)  loss_bbox_pre: 0.8269 (0.8332)  loss_giou_pre: 1.4991 (1.4950)  loss_mal_enc_0: 0.6929 (0.7054)  loss_bbox_enc_0: 0.8280 (0.8348)  loss_giou_enc_0: 1.5020 (1.4971)  loss_mal_dn_0: 0.7578 (0.7653)  loss_bbox_dn_0: 0.5334 (0.5291)  loss_giou_dn_0: 1.3666 (1.3699)  loss_fgl_dn_0: 0.8202 (0.8193)  loss_ddf_dn_0: 0.0007 (0.0008)  loss_mal_dn_1: 0.7427 (0.7481)  loss_bbox_dn_1: 0.5291 (0.5267)  loss_giou_dn_1: 1.3693 (1.3719)  loss_fgl_dn_1: 0.8169 (0.8157)  loss_ddf_dn_1: 0.0002 (0.0001)  loss_mal_dn_2: 0.6831 (0.6810)  loss_bbox_dn_2: 0.5258 (0.5252)  loss_giou_dn_2: 1.3723 (1.3741)  loss_fgl_dn_2: 0.8137 (0.8122)  loss_mal_dn_pre: 0.7583 (0.7657)  loss_bbox_dn_pre: 0.5357 (0.5305)  loss_giou_dn_pre: 1.3656 (1.3691)\n"
     ]
    },
    {
     "name": "stderr",
     "output_type": "stream",
     "text": [
      "Evaluating: 100%|██████████| 5/5 [00:01<00:00,  3.47it/s]\n",
      "\u001b[32m2025-03-10 18:14:52.860\u001b[0m | \u001b[1mINFO    \u001b[0m | \u001b[36mdeimkit.trainer\u001b[0m:\u001b[36mtrain\u001b[0m:\u001b[36m313\u001b[0m - \u001b[1mEpoch 4 - Train loss: 29.9985, Eval mAP: 0.0021\u001b[0m\n",
      "\u001b[32m2025-03-10 18:14:52.860\u001b[0m | \u001b[1mINFO    \u001b[0m | \u001b[36mdeimkit.trainer\u001b[0m:\u001b[36mtrain\u001b[0m:\u001b[36m316\u001b[0m - \u001b[1mBest stats: {'epoch': 3, 'coco_eval_bbox': 0.003097801717908402}\u001b[0m\n",
      "\u001b[32m2025-03-10 18:14:52.860\u001b[0m | \u001b[1mINFO    \u001b[0m | \u001b[36mdeimkit.trainer\u001b[0m:\u001b[36mtrain\u001b[0m:\u001b[36m224\u001b[0m - \u001b[1mEpoch 5/80\u001b[0m\n"
     ]
    },
    {
     "name": "stdout",
     "output_type": "stream",
     "text": [
      "Averaged stats: \n",
      "Accumulating evaluation results...\n",
      "COCOeval_opt.accumulate() finished...\n",
      "DONE (t=0.01s).\n",
      "IoU metric: bbox\n",
      " Average Precision  (AP) @[ IoU=0.50:0.95 | area=   all | maxDets=100 ] = 0.002\n",
      " Average Precision  (AP) @[ IoU=0.50      | area=   all | maxDets=100 ] = 0.009\n",
      " Average Precision  (AP) @[ IoU=0.75      | area=   all | maxDets=100 ] = 0.000\n",
      " Average Precision  (AP) @[ IoU=0.50:0.95 | area= small | maxDets=100 ] = 0.000\n",
      " Average Precision  (AP) @[ IoU=0.50:0.95 | area=medium | maxDets=100 ] = 0.001\n",
      " Average Precision  (AP) @[ IoU=0.50:0.95 | area= large | maxDets=100 ] = 0.006\n",
      " Average Recall     (AR) @[ IoU=0.50:0.95 | area=   all | maxDets=  1 ] = 0.000\n",
      " Average Recall     (AR) @[ IoU=0.50:0.95 | area=   all | maxDets= 10 ] = 0.005\n",
      " Average Recall     (AR) @[ IoU=0.50:0.95 | area=   all | maxDets=100 ] = 0.052\n",
      " Average Recall     (AR) @[ IoU=0.50:0.95 | area= small | maxDets=100 ] = 0.000\n",
      " Average Recall     (AR) @[ IoU=0.50:0.95 | area=medium | maxDets=100 ] = 0.035\n",
      " Average Recall     (AR) @[ IoU=0.50:0.95 | area= large | maxDets=100 ] = 0.059\n",
      " Average Recall     (AR) @[ IoU=0.50      | area=   all | maxDets=100 ] = 0.156\n",
      " Average Recall     (AR) @[ IoU=0.75      | area=   all | maxDets=100 ] = 0.023\n"
     ]
    },
    {
     "name": "stderr",
     "output_type": "stream",
     "text": [
      "Epoch 5: 100%|██████████| 15/15 [00:08<00:00,  1.72it/s, loss=27.5788]\n",
      "\u001b[32m2025-03-10 18:15:01.607\u001b[0m | \u001b[1mINFO    \u001b[0m | \u001b[36mdeimkit.trainer\u001b[0m:\u001b[36mevaluate\u001b[0m:\u001b[36m332\u001b[0m - \u001b[1mEvaluating model...\u001b[0m\n"
     ]
    },
    {
     "name": "stdout",
     "output_type": "stream",
     "text": [
      "Averaged stats: lr: 0.000040  loss: 29.0186 (28.9592)  loss_mal: 0.7227 (0.7269)  loss_bbox: 0.6798 (0.6714)  loss_giou: 1.4237 (1.4334)  loss_fgl: 0.7286 (0.7233)  loss_mal_aux_0: 0.7153 (0.7247)  loss_bbox_aux_0: 0.6946 (0.6847)  loss_giou_aux_0: 1.4136 (1.4195)  loss_fgl_aux_0: 0.7358 (0.7341)  loss_ddf_aux_0: 0.0038 (0.0034)  loss_mal_aux_1: 0.7124 (0.7188)  loss_bbox_aux_1: 0.6821 (0.6767)  loss_giou_aux_1: 1.4172 (1.4251)  loss_fgl_aux_1: 0.7333 (0.7294)  loss_ddf_aux_1: 0.0008 (0.0008)  loss_mal_pre: 0.7129 (0.7233)  loss_bbox_pre: 0.7016 (0.6889)  loss_giou_pre: 1.4130 (1.4182)  loss_mal_enc_0: 0.7114 (0.7259)  loss_bbox_enc_0: 0.7125 (0.6984)  loss_giou_enc_0: 1.4133 (1.4198)  loss_mal_dn_0: 0.6367 (0.6517)  loss_bbox_dn_0: 0.5335 (0.5323)  loss_giou_dn_0: 1.3689 (1.3686)  loss_fgl_dn_0: 0.8170 (0.8171)  loss_ddf_dn_0: 0.0031 (0.0031)  loss_mal_dn_1: 0.6382 (0.6412)  loss_bbox_dn_1: 0.5278 (0.5274)  loss_giou_dn_1: 1.3740 (1.3736)  loss_fgl_dn_1: 0.8059 (0.8076)  loss_ddf_dn_1: 0.0008 (0.0008)  loss_mal_dn_2: 0.6299 (0.6315)  loss_bbox_dn_2: 0.5236 (0.5244)  loss_giou_dn_2: 1.3776 (1.3795)  loss_fgl_dn_2: 0.7939 (0.7981)  loss_mal_dn_pre: 0.6401 (0.6535)  loss_bbox_dn_pre: 0.5363 (0.5353)  loss_giou_dn_pre: 1.3669 (1.3666)\n"
     ]
    },
    {
     "name": "stderr",
     "output_type": "stream",
     "text": [
      "Evaluating: 100%|██████████| 5/5 [00:01<00:00,  3.21it/s]\n",
      "\u001b[32m2025-03-10 18:15:03.186\u001b[0m | \u001b[1mINFO    \u001b[0m | \u001b[36mdeimkit.trainer\u001b[0m:\u001b[36mtrain\u001b[0m:\u001b[36m313\u001b[0m - \u001b[1mEpoch 5 - Train loss: 28.9592, Eval mAP: 0.0017\u001b[0m\n",
      "\u001b[32m2025-03-10 18:15:03.186\u001b[0m | \u001b[1mINFO    \u001b[0m | \u001b[36mdeimkit.trainer\u001b[0m:\u001b[36mtrain\u001b[0m:\u001b[36m316\u001b[0m - \u001b[1mBest stats: {'epoch': 3, 'coco_eval_bbox': 0.003097801717908402}\u001b[0m\n",
      "\u001b[32m2025-03-10 18:15:03.186\u001b[0m | \u001b[1mINFO    \u001b[0m | \u001b[36mdeimkit.trainer\u001b[0m:\u001b[36mtrain\u001b[0m:\u001b[36m224\u001b[0m - \u001b[1mEpoch 6/80\u001b[0m\n"
     ]
    },
    {
     "name": "stdout",
     "output_type": "stream",
     "text": [
      "Averaged stats: \n",
      "Accumulating evaluation results...\n",
      "COCOeval_opt.accumulate() finished...\n",
      "DONE (t=0.01s).\n",
      "IoU metric: bbox\n",
      " Average Precision  (AP) @[ IoU=0.50:0.95 | area=   all | maxDets=100 ] = 0.002\n",
      " Average Precision  (AP) @[ IoU=0.50      | area=   all | maxDets=100 ] = 0.007\n",
      " Average Precision  (AP) @[ IoU=0.75      | area=   all | maxDets=100 ] = 0.000\n",
      " Average Precision  (AP) @[ IoU=0.50:0.95 | area= small | maxDets=100 ] = 0.000\n",
      " Average Precision  (AP) @[ IoU=0.50:0.95 | area=medium | maxDets=100 ] = 0.000\n",
      " Average Precision  (AP) @[ IoU=0.50:0.95 | area= large | maxDets=100 ] = 0.006\n",
      " Average Recall     (AR) @[ IoU=0.50:0.95 | area=   all | maxDets=  1 ] = 0.000\n",
      " Average Recall     (AR) @[ IoU=0.50:0.95 | area=   all | maxDets= 10 ] = 0.005\n",
      " Average Recall     (AR) @[ IoU=0.50:0.95 | area=   all | maxDets=100 ] = 0.045\n",
      " Average Recall     (AR) @[ IoU=0.50:0.95 | area= small | maxDets=100 ] = 0.000\n",
      " Average Recall     (AR) @[ IoU=0.50:0.95 | area=medium | maxDets=100 ] = 0.037\n",
      " Average Recall     (AR) @[ IoU=0.50:0.95 | area= large | maxDets=100 ] = 0.048\n",
      " Average Recall     (AR) @[ IoU=0.50      | area=   all | maxDets=100 ] = 0.133\n",
      " Average Recall     (AR) @[ IoU=0.75      | area=   all | maxDets=100 ] = 0.019\n"
     ]
    },
    {
     "name": "stderr",
     "output_type": "stream",
     "text": [
      "Epoch 6: 100%|██████████| 15/15 [00:09<00:00,  1.58it/s, loss=28.7387]\n",
      "\u001b[32m2025-03-10 18:15:12.703\u001b[0m | \u001b[1mINFO    \u001b[0m | \u001b[36mdeimkit.trainer\u001b[0m:\u001b[36mevaluate\u001b[0m:\u001b[36m332\u001b[0m - \u001b[1mEvaluating model...\u001b[0m\n"
     ]
    },
    {
     "name": "stdout",
     "output_type": "stream",
     "text": [
      "Averaged stats: lr: 0.000054  loss: 28.7260 (28.6966)  loss_mal: 0.7280 (0.7540)  loss_bbox: 0.6370 (0.6501)  loss_giou: 1.3786 (1.3796)  loss_fgl: 0.7515 (0.7566)  loss_mal_aux_0: 0.7456 (0.7594)  loss_bbox_aux_0: 0.6448 (0.6563)  loss_giou_aux_0: 1.3786 (1.3736)  loss_fgl_aux_0: 0.7553 (0.7637)  loss_ddf_aux_0: 0.0036 (0.0038)  loss_mal_aux_1: 0.7314 (0.7532)  loss_bbox_aux_1: 0.6398 (0.6522)  loss_giou_aux_1: 1.3805 (1.3785)  loss_fgl_aux_1: 0.7517 (0.7586)  loss_ddf_aux_1: 0.0006 (0.0007)  loss_mal_pre: 0.7441 (0.7575)  loss_bbox_pre: 0.6488 (0.6604)  loss_giou_pre: 1.3749 (1.3694)  loss_mal_enc_0: 0.7275 (0.7549)  loss_bbox_enc_0: 0.6647 (0.6723)  loss_giou_enc_0: 1.3640 (1.3607)  loss_mal_dn_0: 0.6304 (0.6325)  loss_bbox_dn_0: 0.5020 (0.5119)  loss_giou_dn_0: 1.3668 (1.3741)  loss_fgl_dn_0: 0.8098 (0.8092)  loss_ddf_dn_0: 0.0040 (0.0042)  loss_mal_dn_1: 0.6255 (0.6261)  loss_bbox_dn_1: 0.4973 (0.5103)  loss_giou_dn_1: 1.3693 (1.3777)  loss_fgl_dn_1: 0.8008 (0.8001)  loss_ddf_dn_1: 0.0007 (0.0007)  loss_mal_dn_2: 0.6250 (0.6264)  loss_bbox_dn_2: 0.4952 (0.5110)  loss_giou_dn_2: 1.3718 (1.3808)  loss_fgl_dn_2: 0.7973 (0.7956)  loss_mal_dn_pre: 0.6323 (0.6339)  loss_bbox_dn_pre: 0.5067 (0.5156)  loss_giou_dn_pre: 1.3641 (1.3712)\n"
     ]
    },
    {
     "name": "stderr",
     "output_type": "stream",
     "text": [
      "Evaluating: 100%|██████████| 5/5 [00:01<00:00,  3.12it/s]\n",
      "\u001b[32m2025-03-10 18:15:14.327\u001b[0m | \u001b[1mINFO    \u001b[0m | \u001b[36mdeimkit.trainer\u001b[0m:\u001b[36m_save_checkpoint\u001b[0m:\u001b[36m364\u001b[0m - \u001b[1mSaving checkpoint to outputs/deim_hgnetv2_s_80e/best.pth\u001b[0m\n"
     ]
    },
    {
     "name": "stdout",
     "output_type": "stream",
     "text": [
      "Averaged stats: \n",
      "Accumulating evaluation results...\n",
      "COCOeval_opt.accumulate() finished...\n",
      "DONE (t=0.01s).\n",
      "IoU metric: bbox\n",
      " Average Precision  (AP) @[ IoU=0.50:0.95 | area=   all | maxDets=100 ] = 0.003\n",
      " Average Precision  (AP) @[ IoU=0.50      | area=   all | maxDets=100 ] = 0.017\n",
      " Average Precision  (AP) @[ IoU=0.75      | area=   all | maxDets=100 ] = 0.000\n",
      " Average Precision  (AP) @[ IoU=0.50:0.95 | area= small | maxDets=100 ] = 0.000\n",
      " Average Precision  (AP) @[ IoU=0.50:0.95 | area=medium | maxDets=100 ] = 0.001\n",
      " Average Precision  (AP) @[ IoU=0.50:0.95 | area= large | maxDets=100 ] = 0.052\n",
      " Average Recall     (AR) @[ IoU=0.50:0.95 | area=   all | maxDets=  1 ] = 0.001\n",
      " Average Recall     (AR) @[ IoU=0.50:0.95 | area=   all | maxDets= 10 ] = 0.007\n",
      " Average Recall     (AR) @[ IoU=0.50:0.95 | area=   all | maxDets=100 ] = 0.056\n",
      " Average Recall     (AR) @[ IoU=0.50:0.95 | area= small | maxDets=100 ] = 0.000\n",
      " Average Recall     (AR) @[ IoU=0.50:0.95 | area=medium | maxDets=100 ] = 0.068\n",
      " Average Recall     (AR) @[ IoU=0.50:0.95 | area= large | maxDets=100 ] = 0.051\n",
      " Average Recall     (AR) @[ IoU=0.50      | area=   all | maxDets=100 ] = 0.188\n",
      " Average Recall     (AR) @[ IoU=0.75      | area=   all | maxDets=100 ] = 0.017\n"
     ]
    },
    {
     "name": "stderr",
     "output_type": "stream",
     "text": [
      "\u001b[32m2025-03-10 18:15:14.720\u001b[0m | \u001b[1mINFO    \u001b[0m | \u001b[36mdeimkit.trainer\u001b[0m:\u001b[36m_save_checkpoint\u001b[0m:\u001b[36m381\u001b[0m - \u001b[1mCheckpoint saved to outputs/deim_hgnetv2_s_80e/best.pth\u001b[0m\n",
      "\u001b[32m2025-03-10 18:15:14.722\u001b[0m | \u001b[1mINFO    \u001b[0m | \u001b[36mdeimkit.trainer\u001b[0m:\u001b[36mtrain\u001b[0m:\u001b[36m313\u001b[0m - \u001b[1mEpoch 6 - Train loss: 28.6966, Eval mAP: 0.0034\u001b[0m\n",
      "\u001b[32m2025-03-10 18:15:14.722\u001b[0m | \u001b[1mINFO    \u001b[0m | \u001b[36mdeimkit.trainer\u001b[0m:\u001b[36mtrain\u001b[0m:\u001b[36m316\u001b[0m - \u001b[1mBest stats: {'epoch': 6, 'coco_eval_bbox': 0.0033918768641292936}\u001b[0m\n",
      "\u001b[32m2025-03-10 18:15:14.723\u001b[0m | \u001b[1mINFO    \u001b[0m | \u001b[36mdeimkit.trainer\u001b[0m:\u001b[36mtrain\u001b[0m:\u001b[36m224\u001b[0m - \u001b[1mEpoch 7/80\u001b[0m\n",
      "Epoch 7: 100%|██████████| 15/15 [00:09<00:00,  1.63it/s, loss=28.6700]\n",
      "\u001b[32m2025-03-10 18:15:23.937\u001b[0m | \u001b[1mINFO    \u001b[0m | \u001b[36mdeimkit.trainer\u001b[0m:\u001b[36m_save_checkpoint\u001b[0m:\u001b[36m364\u001b[0m - \u001b[1mSaving checkpoint to outputs/deim_hgnetv2_s_80e/checkpoint0007.pth\u001b[0m\n"
     ]
    },
    {
     "name": "stdout",
     "output_type": "stream",
     "text": [
      "Averaged stats: lr: 0.000071  loss: 28.3466 (28.5006)  loss_mal: 0.7603 (0.7567)  loss_bbox: 0.6477 (0.6401)  loss_giou: 1.3351 (1.3449)  loss_fgl: 0.7887 (0.7869)  loss_mal_aux_0: 0.7710 (0.7571)  loss_bbox_aux_0: 0.6460 (0.6388)  loss_giou_aux_0: 1.3380 (1.3487)  loss_fgl_aux_0: 0.7858 (0.7849)  loss_ddf_aux_0: 0.0090 (0.0092)  loss_mal_aux_1: 0.7622 (0.7514)  loss_bbox_aux_1: 0.6458 (0.6383)  loss_giou_aux_1: 1.3374 (1.3476)  loss_fgl_aux_1: 0.7867 (0.7849)  loss_ddf_aux_1: 0.0011 (0.0012)  loss_mal_pre: 0.7700 (0.7568)  loss_bbox_pre: 0.6495 (0.6430)  loss_giou_pre: 1.3343 (1.3439)  loss_mal_enc_0: 0.7559 (0.7463)  loss_bbox_enc_0: 0.6556 (0.6547)  loss_giou_enc_0: 1.3324 (1.3349)  loss_mal_dn_0: 0.6240 (0.6240)  loss_bbox_dn_0: 0.5169 (0.5101)  loss_giou_dn_0: 1.3688 (1.3691)  loss_fgl_dn_0: 0.7998 (0.8003)  loss_ddf_dn_0: 0.0101 (0.0100)  loss_mal_dn_1: 0.6250 (0.6238)  loss_bbox_dn_1: 0.5165 (0.5116)  loss_giou_dn_1: 1.3704 (1.3698)  loss_fgl_dn_1: 0.7964 (0.7963)  loss_ddf_dn_1: 0.0010 (0.0010)  loss_mal_dn_2: 0.6250 (0.6245)  loss_bbox_dn_2: 0.5186 (0.5154)  loss_giou_dn_2: 1.3700 (1.3698)  loss_fgl_dn_2: 0.7984 (0.7973)  loss_mal_dn_pre: 0.6260 (0.6261)  loss_bbox_dn_pre: 0.5228 (0.5157)  loss_giou_dn_pre: 1.3666 (1.3654)\n"
     ]
    },
    {
     "name": "stderr",
     "output_type": "stream",
     "text": [
      "\u001b[32m2025-03-10 18:15:24.215\u001b[0m | \u001b[1mINFO    \u001b[0m | \u001b[36mdeimkit.trainer\u001b[0m:\u001b[36m_save_checkpoint\u001b[0m:\u001b[36m381\u001b[0m - \u001b[1mCheckpoint saved to outputs/deim_hgnetv2_s_80e/checkpoint0007.pth\u001b[0m\n",
      "\u001b[32m2025-03-10 18:15:24.217\u001b[0m | \u001b[1mINFO    \u001b[0m | \u001b[36mdeimkit.trainer\u001b[0m:\u001b[36mevaluate\u001b[0m:\u001b[36m332\u001b[0m - \u001b[1mEvaluating model...\u001b[0m\n",
      "Evaluating: 100%|██████████| 5/5 [00:01<00:00,  3.16it/s]\n",
      "\u001b[32m2025-03-10 18:15:25.813\u001b[0m | \u001b[1mINFO    \u001b[0m | \u001b[36mdeimkit.trainer\u001b[0m:\u001b[36mtrain\u001b[0m:\u001b[36m313\u001b[0m - \u001b[1mEpoch 7 - Train loss: 28.5006, Eval mAP: 0.0016\u001b[0m\n",
      "\u001b[32m2025-03-10 18:15:25.814\u001b[0m | \u001b[1mINFO    \u001b[0m | \u001b[36mdeimkit.trainer\u001b[0m:\u001b[36mtrain\u001b[0m:\u001b[36m316\u001b[0m - \u001b[1mBest stats: {'epoch': 6, 'coco_eval_bbox': 0.0033918768641292936}\u001b[0m\n",
      "\u001b[32m2025-03-10 18:15:25.814\u001b[0m | \u001b[1mINFO    \u001b[0m | \u001b[36mdeimkit.trainer\u001b[0m:\u001b[36mtrain\u001b[0m:\u001b[36m224\u001b[0m - \u001b[1mEpoch 8/80\u001b[0m\n"
     ]
    },
    {
     "name": "stdout",
     "output_type": "stream",
     "text": [
      "Averaged stats: \n",
      "Accumulating evaluation results...\n",
      "COCOeval_opt.accumulate() finished...\n",
      "DONE (t=0.01s).\n",
      "IoU metric: bbox\n",
      " Average Precision  (AP) @[ IoU=0.50:0.95 | area=   all | maxDets=100 ] = 0.002\n",
      " Average Precision  (AP) @[ IoU=0.50      | area=   all | maxDets=100 ] = 0.010\n",
      " Average Precision  (AP) @[ IoU=0.75      | area=   all | maxDets=100 ] = 0.000\n",
      " Average Precision  (AP) @[ IoU=0.50:0.95 | area= small | maxDets=100 ] = 0.000\n",
      " Average Precision  (AP) @[ IoU=0.50:0.95 | area=medium | maxDets=100 ] = 0.001\n",
      " Average Precision  (AP) @[ IoU=0.50:0.95 | area= large | maxDets=100 ] = 0.021\n",
      " Average Recall     (AR) @[ IoU=0.50:0.95 | area=   all | maxDets=  1 ] = 0.000\n",
      " Average Recall     (AR) @[ IoU=0.50:0.95 | area=   all | maxDets= 10 ] = 0.005\n",
      " Average Recall     (AR) @[ IoU=0.50:0.95 | area=   all | maxDets=100 ] = 0.030\n",
      " Average Recall     (AR) @[ IoU=0.50:0.95 | area= small | maxDets=100 ] = 0.000\n",
      " Average Recall     (AR) @[ IoU=0.50:0.95 | area=medium | maxDets=100 ] = 0.058\n",
      " Average Recall     (AR) @[ IoU=0.50:0.95 | area= large | maxDets=100 ] = 0.020\n",
      " Average Recall     (AR) @[ IoU=0.50      | area=   all | maxDets=100 ] = 0.138\n",
      " Average Recall     (AR) @[ IoU=0.75      | area=   all | maxDets=100 ] = 0.005\n"
     ]
    },
    {
     "name": "stderr",
     "output_type": "stream",
     "text": [
      "Epoch 8: 100%|██████████| 15/15 [00:09<00:00,  1.65it/s, loss=28.1835]\n",
      "\u001b[32m2025-03-10 18:15:34.942\u001b[0m | \u001b[1mINFO    \u001b[0m | \u001b[36mdeimkit.trainer\u001b[0m:\u001b[36mevaluate\u001b[0m:\u001b[36m332\u001b[0m - \u001b[1mEvaluating model...\u001b[0m\n"
     ]
    },
    {
     "name": "stdout",
     "output_type": "stream",
     "text": [
      "Averaged stats: lr: 0.000090  loss: 28.4443 (28.6074)  loss_mal: 0.7778 (0.7857)  loss_bbox: 0.6446 (0.6488)  loss_giou: 1.2804 (1.2902)  loss_fgl: 0.8375 (0.8244)  loss_mal_aux_0: 0.7676 (0.7785)  loss_bbox_aux_0: 0.6401 (0.6441)  loss_giou_aux_0: 1.2926 (1.2967)  loss_fgl_aux_0: 0.8265 (0.8211)  loss_ddf_aux_0: 0.0053 (0.0064)  loss_mal_aux_1: 0.7744 (0.7794)  loss_bbox_aux_1: 0.6418 (0.6470)  loss_giou_aux_1: 1.2847 (1.2923)  loss_fgl_aux_1: 0.8343 (0.8235)  loss_ddf_aux_1: 0.0005 (0.0006)  loss_mal_pre: 0.7666 (0.7771)  loss_bbox_pre: 0.6431 (0.6438)  loss_giou_pre: 1.2916 (1.2968)  loss_mal_enc_0: 0.7617 (0.7749)  loss_bbox_enc_0: 0.6492 (0.6455)  loss_giou_enc_0: 1.2885 (1.2939)  loss_mal_dn_0: 0.6235 (0.6235)  loss_bbox_dn_0: 0.5259 (0.5396)  loss_giou_dn_0: 1.3653 (1.3649)  loss_fgl_dn_0: 0.7983 (0.7984)  loss_ddf_dn_0: 0.0035 (0.0047)  loss_mal_dn_1: 0.6255 (0.6258)  loss_bbox_dn_1: 0.5279 (0.5429)  loss_giou_dn_1: 1.3650 (1.3650)  loss_fgl_dn_1: 0.8003 (0.8008)  loss_ddf_dn_1: 0.0002 (0.0003)  loss_mal_dn_2: 0.6255 (0.6271)  loss_bbox_dn_2: 0.5311 (0.5456)  loss_giou_dn_2: 1.3646 (1.3651)  loss_fgl_dn_2: 0.8005 (0.8020)  loss_mal_dn_pre: 0.6245 (0.6252)  loss_bbox_dn_pre: 0.5303 (0.5435)  loss_giou_dn_pre: 1.3633 (1.3620)\n"
     ]
    },
    {
     "name": "stderr",
     "output_type": "stream",
     "text": [
      "Evaluating: 100%|██████████| 5/5 [00:01<00:00,  3.26it/s]\n",
      "\u001b[32m2025-03-10 18:15:36.493\u001b[0m | \u001b[1mINFO    \u001b[0m | \u001b[36mdeimkit.trainer\u001b[0m:\u001b[36mtrain\u001b[0m:\u001b[36m313\u001b[0m - \u001b[1mEpoch 8 - Train loss: 28.6074, Eval mAP: 0.0021\u001b[0m\n",
      "\u001b[32m2025-03-10 18:15:36.494\u001b[0m | \u001b[1mINFO    \u001b[0m | \u001b[36mdeimkit.trainer\u001b[0m:\u001b[36mtrain\u001b[0m:\u001b[36m316\u001b[0m - \u001b[1mBest stats: {'epoch': 6, 'coco_eval_bbox': 0.0033918768641292936}\u001b[0m\n",
      "\u001b[32m2025-03-10 18:15:36.494\u001b[0m | \u001b[1mINFO    \u001b[0m | \u001b[36mdeimkit.trainer\u001b[0m:\u001b[36mtrain\u001b[0m:\u001b[36m224\u001b[0m - \u001b[1mEpoch 9/80\u001b[0m\n"
     ]
    },
    {
     "name": "stdout",
     "output_type": "stream",
     "text": [
      "Averaged stats: \n",
      "Accumulating evaluation results...\n",
      "COCOeval_opt.accumulate() finished...\n",
      "DONE (t=0.01s).\n",
      "IoU metric: bbox\n",
      " Average Precision  (AP) @[ IoU=0.50:0.95 | area=   all | maxDets=100 ] = 0.002\n",
      " Average Precision  (AP) @[ IoU=0.50      | area=   all | maxDets=100 ] = 0.012\n",
      " Average Precision  (AP) @[ IoU=0.75      | area=   all | maxDets=100 ] = 0.000\n",
      " Average Precision  (AP) @[ IoU=0.50:0.95 | area= small | maxDets=100 ] = 0.000\n",
      " Average Precision  (AP) @[ IoU=0.50:0.95 | area=medium | maxDets=100 ] = 0.002\n",
      " Average Precision  (AP) @[ IoU=0.50:0.95 | area= large | maxDets=100 ] = 0.026\n",
      " Average Recall     (AR) @[ IoU=0.50:0.95 | area=   all | maxDets=  1 ] = 0.001\n",
      " Average Recall     (AR) @[ IoU=0.50:0.95 | area=   all | maxDets= 10 ] = 0.007\n",
      " Average Recall     (AR) @[ IoU=0.50:0.95 | area=   all | maxDets=100 ] = 0.042\n",
      " Average Recall     (AR) @[ IoU=0.50:0.95 | area= small | maxDets=100 ] = 0.000\n",
      " Average Recall     (AR) @[ IoU=0.50:0.95 | area=medium | maxDets=100 ] = 0.062\n",
      " Average Recall     (AR) @[ IoU=0.50:0.95 | area= large | maxDets=100 ] = 0.034\n",
      " Average Recall     (AR) @[ IoU=0.50      | area=   all | maxDets=100 ] = 0.170\n",
      " Average Recall     (AR) @[ IoU=0.75      | area=   all | maxDets=100 ] = 0.010\n"
     ]
    },
    {
     "name": "stderr",
     "output_type": "stream",
     "text": [
      "Epoch 9: 100%|██████████| 15/15 [00:07<00:00,  1.90it/s, loss=28.4862]\n",
      "\u001b[32m2025-03-10 18:15:44.387\u001b[0m | \u001b[1mINFO    \u001b[0m | \u001b[36mdeimkit.trainer\u001b[0m:\u001b[36mevaluate\u001b[0m:\u001b[36m332\u001b[0m - \u001b[1mEvaluating model...\u001b[0m\n"
     ]
    },
    {
     "name": "stdout",
     "output_type": "stream",
     "text": [
      "Averaged stats: lr: 0.000111  loss: 28.5642 (28.6154)  loss_mal: 0.8145 (0.8127)  loss_bbox: 0.6259 (0.6423)  loss_giou: 1.2700 (1.2843)  loss_fgl: 0.8432 (0.8324)  loss_mal_aux_0: 0.8096 (0.8010)  loss_bbox_aux_0: 0.6275 (0.6403)  loss_giou_aux_0: 1.2719 (1.2861)  loss_fgl_aux_0: 0.8458 (0.8320)  loss_ddf_aux_0: 0.0008 (0.0011)  loss_mal_aux_1: 0.8149 (0.8054)  loss_bbox_aux_1: 0.6256 (0.6421)  loss_giou_aux_1: 1.2687 (1.2843)  loss_fgl_aux_1: 0.8435 (0.8321)  loss_ddf_aux_1: 0.0002 (0.0002)  loss_mal_pre: 0.8159 (0.8001)  loss_bbox_pre: 0.6259 (0.6387)  loss_giou_pre: 1.2638 (1.2850)  loss_mal_enc_0: 0.8174 (0.8014)  loss_bbox_enc_0: 0.6293 (0.6392)  loss_giou_enc_0: 1.2666 (1.2878)  loss_mal_dn_0: 0.6143 (0.6173)  loss_bbox_dn_0: 0.5324 (0.5322)  loss_giou_dn_0: 1.3740 (1.3697)  loss_fgl_dn_0: 0.7890 (0.7944)  loss_ddf_dn_0: 0.0005 (0.0005)  loss_mal_dn_1: 0.6143 (0.6164)  loss_bbox_dn_1: 0.5322 (0.5329)  loss_giou_dn_1: 1.3745 (1.3698)  loss_fgl_dn_1: 0.7890 (0.7950)  loss_ddf_dn_1: 0.0002 (0.0003)  loss_mal_dn_2: 0.6206 (0.6194)  loss_bbox_dn_2: 0.5314 (0.5328)  loss_giou_dn_2: 1.3753 (1.3705)  loss_fgl_dn_2: 0.7883 (0.7941)  loss_mal_dn_pre: 0.6182 (0.6197)  loss_bbox_dn_pre: 0.5359 (0.5366)  loss_giou_dn_pre: 1.3654 (1.3653)\n"
     ]
    },
    {
     "name": "stderr",
     "output_type": "stream",
     "text": [
      "Evaluating: 100%|██████████| 5/5 [00:01<00:00,  3.41it/s]\n",
      "\u001b[32m2025-03-10 18:15:45.871\u001b[0m | \u001b[1mINFO    \u001b[0m | \u001b[36mdeimkit.trainer\u001b[0m:\u001b[36m_save_checkpoint\u001b[0m:\u001b[36m364\u001b[0m - \u001b[1mSaving checkpoint to outputs/deim_hgnetv2_s_80e/best.pth\u001b[0m\n"
     ]
    },
    {
     "name": "stdout",
     "output_type": "stream",
     "text": [
      "Averaged stats: \n",
      "Accumulating evaluation results...\n",
      "COCOeval_opt.accumulate() finished...\n",
      "DONE (t=0.01s).\n",
      "IoU metric: bbox\n",
      " Average Precision  (AP) @[ IoU=0.50:0.95 | area=   all | maxDets=100 ] = 0.006\n",
      " Average Precision  (AP) @[ IoU=0.50      | area=   all | maxDets=100 ] = 0.027\n",
      " Average Precision  (AP) @[ IoU=0.75      | area=   all | maxDets=100 ] = 0.000\n",
      " Average Precision  (AP) @[ IoU=0.50:0.95 | area= small | maxDets=100 ] = 0.000\n",
      " Average Precision  (AP) @[ IoU=0.50:0.95 | area=medium | maxDets=100 ] = 0.002\n",
      " Average Precision  (AP) @[ IoU=0.50:0.95 | area= large | maxDets=100 ] = 0.008\n",
      " Average Recall     (AR) @[ IoU=0.50:0.95 | area=   all | maxDets=  1 ] = 0.002\n",
      " Average Recall     (AR) @[ IoU=0.50:0.95 | area=   all | maxDets= 10 ] = 0.014\n",
      " Average Recall     (AR) @[ IoU=0.50:0.95 | area=   all | maxDets=100 ] = 0.055\n",
      " Average Recall     (AR) @[ IoU=0.50:0.95 | area= small | maxDets=100 ] = 0.000\n",
      " Average Recall     (AR) @[ IoU=0.50:0.95 | area=medium | maxDets=100 ] = 0.036\n",
      " Average Recall     (AR) @[ IoU=0.50:0.95 | area= large | maxDets=100 ] = 0.062\n",
      " Average Recall     (AR) @[ IoU=0.50      | area=   all | maxDets=100 ] = 0.178\n",
      " Average Recall     (AR) @[ IoU=0.75      | area=   all | maxDets=100 ] = 0.016\n"
     ]
    },
    {
     "name": "stderr",
     "output_type": "stream",
     "text": [
      "\u001b[32m2025-03-10 18:15:46.191\u001b[0m | \u001b[1mINFO    \u001b[0m | \u001b[36mdeimkit.trainer\u001b[0m:\u001b[36m_save_checkpoint\u001b[0m:\u001b[36m381\u001b[0m - \u001b[1mCheckpoint saved to outputs/deim_hgnetv2_s_80e/best.pth\u001b[0m\n",
      "\u001b[32m2025-03-10 18:15:46.192\u001b[0m | \u001b[1mINFO    \u001b[0m | \u001b[36mdeimkit.trainer\u001b[0m:\u001b[36mtrain\u001b[0m:\u001b[36m313\u001b[0m - \u001b[1mEpoch 9 - Train loss: 28.6154, Eval mAP: 0.0057\u001b[0m\n",
      "\u001b[32m2025-03-10 18:15:46.193\u001b[0m | \u001b[1mINFO    \u001b[0m | \u001b[36mdeimkit.trainer\u001b[0m:\u001b[36mtrain\u001b[0m:\u001b[36m316\u001b[0m - \u001b[1mBest stats: {'epoch': 9, 'coco_eval_bbox': 0.0056540378519060715}\u001b[0m\n",
      "\u001b[32m2025-03-10 18:15:46.194\u001b[0m | \u001b[1mINFO    \u001b[0m | \u001b[36mdeimkit.trainer\u001b[0m:\u001b[36mtrain\u001b[0m:\u001b[36m224\u001b[0m - \u001b[1mEpoch 10/80\u001b[0m\n",
      "Epoch 10: 100%|██████████| 15/15 [00:08<00:00,  1.71it/s, loss=28.5221]\n",
      "\u001b[32m2025-03-10 18:15:54.956\u001b[0m | \u001b[1mINFO    \u001b[0m | \u001b[36mdeimkit.trainer\u001b[0m:\u001b[36mevaluate\u001b[0m:\u001b[36m332\u001b[0m - \u001b[1mEvaluating model...\u001b[0m\n"
     ]
    },
    {
     "name": "stdout",
     "output_type": "stream",
     "text": [
      "Averaged stats: lr: 0.000134  loss: 28.1007 (28.2601)  loss_mal: 0.7495 (0.7837)  loss_bbox: 0.5624 (0.5906)  loss_giou: 1.2604 (1.3145)  loss_fgl: 0.8543 (0.8196)  loss_mal_aux_0: 0.7593 (0.7835)  loss_bbox_aux_0: 0.5632 (0.5896)  loss_giou_aux_0: 1.2604 (1.3135)  loss_fgl_aux_0: 0.8564 (0.8220)  loss_ddf_aux_0: 0.0008 (0.0009)  loss_mal_aux_1: 0.7480 (0.7839)  loss_bbox_aux_1: 0.5637 (0.5906)  loss_giou_aux_1: 1.2602 (1.3141)  loss_fgl_aux_1: 0.8548 (0.8201)  loss_ddf_aux_1: 0.0002 (0.0002)  loss_mal_pre: 0.7554 (0.7837)  loss_bbox_pre: 0.5635 (0.5882)  loss_giou_pre: 1.2611 (1.3108)  loss_mal_enc_0: 0.7583 (0.7839)  loss_bbox_enc_0: 0.5637 (0.5891)  loss_giou_enc_0: 1.2641 (1.3129)  loss_mal_dn_0: 0.6177 (0.6163)  loss_bbox_dn_0: 0.4990 (0.5052)  loss_giou_dn_0: 1.3743 (1.3760)  loss_fgl_dn_0: 0.7912 (0.7917)  loss_ddf_dn_0: 0.0007 (0.0008)  loss_mal_dn_1: 0.6143 (0.6163)  loss_bbox_dn_1: 0.4985 (0.5048)  loss_giou_dn_1: 1.3741 (1.3769)  loss_fgl_dn_1: 0.7899 (0.7900)  loss_ddf_dn_1: 0.0003 (0.0003)  loss_mal_dn_2: 0.6152 (0.6158)  loss_bbox_dn_2: 0.4977 (0.5045)  loss_giou_dn_2: 1.3739 (1.3779)  loss_fgl_dn_2: 0.7886 (0.7887)  loss_mal_dn_pre: 0.6172 (0.6183)  loss_bbox_dn_pre: 0.5004 (0.5089)  loss_giou_dn_pre: 1.3731 (1.3724)\n"
     ]
    },
    {
     "name": "stderr",
     "output_type": "stream",
     "text": [
      "Evaluating: 100%|██████████| 5/5 [00:01<00:00,  3.47it/s]\n",
      "\u001b[32m2025-03-10 18:15:56.417\u001b[0m | \u001b[1mINFO    \u001b[0m | \u001b[36mdeimkit.trainer\u001b[0m:\u001b[36mtrain\u001b[0m:\u001b[36m313\u001b[0m - \u001b[1mEpoch 10 - Train loss: 28.2601, Eval mAP: 0.0049\u001b[0m\n",
      "\u001b[32m2025-03-10 18:15:56.418\u001b[0m | \u001b[1mINFO    \u001b[0m | \u001b[36mdeimkit.trainer\u001b[0m:\u001b[36mtrain\u001b[0m:\u001b[36m316\u001b[0m - \u001b[1mBest stats: {'epoch': 9, 'coco_eval_bbox': 0.0056540378519060715}\u001b[0m\n",
      "\u001b[32m2025-03-10 18:15:56.418\u001b[0m | \u001b[1mINFO    \u001b[0m | \u001b[36mdeimkit.trainer\u001b[0m:\u001b[36mtrain\u001b[0m:\u001b[36m224\u001b[0m - \u001b[1mEpoch 11/80\u001b[0m\n"
     ]
    },
    {
     "name": "stdout",
     "output_type": "stream",
     "text": [
      "Averaged stats: \n",
      "Accumulating evaluation results...\n",
      "COCOeval_opt.accumulate() finished...\n",
      "DONE (t=0.01s).\n",
      "IoU metric: bbox\n",
      " Average Precision  (AP) @[ IoU=0.50:0.95 | area=   all | maxDets=100 ] = 0.005\n",
      " Average Precision  (AP) @[ IoU=0.50      | area=   all | maxDets=100 ] = 0.021\n",
      " Average Precision  (AP) @[ IoU=0.75      | area=   all | maxDets=100 ] = 0.000\n",
      " Average Precision  (AP) @[ IoU=0.50:0.95 | area= small | maxDets=100 ] = 0.000\n",
      " Average Precision  (AP) @[ IoU=0.50:0.95 | area=medium | maxDets=100 ] = 0.002\n",
      " Average Precision  (AP) @[ IoU=0.50:0.95 | area= large | maxDets=100 ] = 0.013\n",
      " Average Recall     (AR) @[ IoU=0.50:0.95 | area=   all | maxDets=  1 ] = 0.002\n",
      " Average Recall     (AR) @[ IoU=0.50:0.95 | area=   all | maxDets= 10 ] = 0.011\n",
      " Average Recall     (AR) @[ IoU=0.50:0.95 | area=   all | maxDets=100 ] = 0.065\n",
      " Average Recall     (AR) @[ IoU=0.50:0.95 | area= small | maxDets=100 ] = 0.000\n",
      " Average Recall     (AR) @[ IoU=0.50:0.95 | area=medium | maxDets=100 ] = 0.051\n",
      " Average Recall     (AR) @[ IoU=0.50:0.95 | area= large | maxDets=100 ] = 0.070\n",
      " Average Recall     (AR) @[ IoU=0.50      | area=   all | maxDets=100 ] = 0.201\n",
      " Average Recall     (AR) @[ IoU=0.75      | area=   all | maxDets=100 ] = 0.022\n"
     ]
    },
    {
     "name": "stderr",
     "output_type": "stream",
     "text": [
      "Epoch 11: 100%|██████████| 15/15 [00:08<00:00,  1.69it/s, loss=28.4135]\n",
      "\u001b[32m2025-03-10 18:16:05.293\u001b[0m | \u001b[1mINFO    \u001b[0m | \u001b[36mdeimkit.trainer\u001b[0m:\u001b[36m_save_checkpoint\u001b[0m:\u001b[36m364\u001b[0m - \u001b[1mSaving checkpoint to outputs/deim_hgnetv2_s_80e/checkpoint0011.pth\u001b[0m\n"
     ]
    },
    {
     "name": "stdout",
     "output_type": "stream",
     "text": [
      "Averaged stats: lr: 0.000160  loss: 28.1264 (28.0856)  loss_mal: 0.7593 (0.7999)  loss_bbox: 0.5463 (0.5594)  loss_giou: 1.2825 (1.2653)  loss_fgl: 0.8416 (0.8581)  loss_mal_aux_0: 0.7725 (0.8104)  loss_bbox_aux_0: 0.5479 (0.5586)  loss_giou_aux_0: 1.2796 (1.2634)  loss_fgl_aux_0: 0.8433 (0.8621)  loss_ddf_aux_0: 0.0053 (0.0053)  loss_mal_aux_1: 0.7578 (0.7997)  loss_bbox_aux_1: 0.5466 (0.5583)  loss_giou_aux_1: 1.2816 (1.2649)  loss_fgl_aux_1: 0.8414 (0.8591)  loss_ddf_aux_1: 0.0007 (0.0007)  loss_mal_pre: 0.7700 (0.8099)  loss_bbox_pre: 0.5493 (0.5572)  loss_giou_pre: 1.2788 (1.2621)  loss_mal_enc_0: 0.7603 (0.8142)  loss_bbox_enc_0: 0.5512 (0.5585)  loss_giou_enc_0: 1.2782 (1.2615)  loss_mal_dn_0: 0.6240 (0.6248)  loss_bbox_dn_0: 0.4974 (0.5021)  loss_giou_dn_0: 1.3637 (1.3596)  loss_fgl_dn_0: 0.8013 (0.8031)  loss_ddf_dn_0: 0.0009 (0.0010)  loss_mal_dn_1: 0.6226 (0.6237)  loss_bbox_dn_1: 0.4989 (0.5027)  loss_giou_dn_1: 1.3635 (1.3595)  loss_fgl_dn_1: 0.8005 (0.8027)  loss_ddf_dn_1: 0.0003 (0.0003)  loss_mal_dn_2: 0.6260 (0.6243)  loss_bbox_dn_2: 0.5020 (0.5037)  loss_giou_dn_2: 1.3629 (1.3595)  loss_fgl_dn_2: 0.8014 (0.8033)  loss_mal_dn_pre: 0.6240 (0.6255)  loss_bbox_dn_pre: 0.4956 (0.5033)  loss_giou_dn_pre: 1.3631 (1.3577)\n"
     ]
    },
    {
     "name": "stderr",
     "output_type": "stream",
     "text": [
      "\u001b[32m2025-03-10 18:16:05.554\u001b[0m | \u001b[1mINFO    \u001b[0m | \u001b[36mdeimkit.trainer\u001b[0m:\u001b[36m_save_checkpoint\u001b[0m:\u001b[36m381\u001b[0m - \u001b[1mCheckpoint saved to outputs/deim_hgnetv2_s_80e/checkpoint0011.pth\u001b[0m\n",
      "\u001b[32m2025-03-10 18:16:05.555\u001b[0m | \u001b[1mINFO    \u001b[0m | \u001b[36mdeimkit.trainer\u001b[0m:\u001b[36mevaluate\u001b[0m:\u001b[36m332\u001b[0m - \u001b[1mEvaluating model...\u001b[0m\n",
      "Evaluating: 100%|██████████| 5/5 [00:01<00:00,  3.52it/s]\n",
      "\u001b[32m2025-03-10 18:16:06.995\u001b[0m | \u001b[1mINFO    \u001b[0m | \u001b[36mdeimkit.trainer\u001b[0m:\u001b[36m_save_checkpoint\u001b[0m:\u001b[36m364\u001b[0m - \u001b[1mSaving checkpoint to outputs/deim_hgnetv2_s_80e/best.pth\u001b[0m\n"
     ]
    },
    {
     "name": "stdout",
     "output_type": "stream",
     "text": [
      "Averaged stats: \n",
      "Accumulating evaluation results...\n",
      "COCOeval_opt.accumulate() finished...\n",
      "DONE (t=0.01s).\n",
      "IoU metric: bbox\n",
      " Average Precision  (AP) @[ IoU=0.50:0.95 | area=   all | maxDets=100 ] = 0.009\n",
      " Average Precision  (AP) @[ IoU=0.50      | area=   all | maxDets=100 ] = 0.035\n",
      " Average Precision  (AP) @[ IoU=0.75      | area=   all | maxDets=100 ] = 0.001\n",
      " Average Precision  (AP) @[ IoU=0.50:0.95 | area= small | maxDets=100 ] = 0.000\n",
      " Average Precision  (AP) @[ IoU=0.50:0.95 | area=medium | maxDets=100 ] = 0.003\n",
      " Average Precision  (AP) @[ IoU=0.50:0.95 | area= large | maxDets=100 ] = 0.028\n",
      " Average Recall     (AR) @[ IoU=0.50:0.95 | area=   all | maxDets=  1 ] = 0.003\n",
      " Average Recall     (AR) @[ IoU=0.50:0.95 | area=   all | maxDets= 10 ] = 0.019\n",
      " Average Recall     (AR) @[ IoU=0.50:0.95 | area=   all | maxDets=100 ] = 0.081\n",
      " Average Recall     (AR) @[ IoU=0.50:0.95 | area= small | maxDets=100 ] = 0.000\n",
      " Average Recall     (AR) @[ IoU=0.50:0.95 | area=medium | maxDets=100 ] = 0.068\n",
      " Average Recall     (AR) @[ IoU=0.50:0.95 | area= large | maxDets=100 ] = 0.087\n",
      " Average Recall     (AR) @[ IoU=0.50      | area=   all | maxDets=100 ] = 0.230\n",
      " Average Recall     (AR) @[ IoU=0.75      | area=   all | maxDets=100 ] = 0.034\n"
     ]
    },
    {
     "name": "stderr",
     "output_type": "stream",
     "text": [
      "\u001b[32m2025-03-10 18:16:07.467\u001b[0m | \u001b[1mINFO    \u001b[0m | \u001b[36mdeimkit.trainer\u001b[0m:\u001b[36m_save_checkpoint\u001b[0m:\u001b[36m381\u001b[0m - \u001b[1mCheckpoint saved to outputs/deim_hgnetv2_s_80e/best.pth\u001b[0m\n",
      "\u001b[32m2025-03-10 18:16:07.469\u001b[0m | \u001b[1mINFO    \u001b[0m | \u001b[36mdeimkit.trainer\u001b[0m:\u001b[36mtrain\u001b[0m:\u001b[36m313\u001b[0m - \u001b[1mEpoch 11 - Train loss: 28.0856, Eval mAP: 0.0088\u001b[0m\n",
      "\u001b[32m2025-03-10 18:16:07.469\u001b[0m | \u001b[1mINFO    \u001b[0m | \u001b[36mdeimkit.trainer\u001b[0m:\u001b[36mtrain\u001b[0m:\u001b[36m316\u001b[0m - \u001b[1mBest stats: {'epoch': 11, 'coco_eval_bbox': 0.008807409273288347}\u001b[0m\n",
      "\u001b[32m2025-03-10 18:16:07.470\u001b[0m | \u001b[1mINFO    \u001b[0m | \u001b[36mdeimkit.trainer\u001b[0m:\u001b[36mtrain\u001b[0m:\u001b[36m224\u001b[0m - \u001b[1mEpoch 12/80\u001b[0m\n",
      "Epoch 12: 100%|██████████| 15/15 [00:08<00:00,  1.73it/s, loss=28.2220]\n",
      "\u001b[32m2025-03-10 18:16:16.155\u001b[0m | \u001b[1mINFO    \u001b[0m | \u001b[36mdeimkit.trainer\u001b[0m:\u001b[36mevaluate\u001b[0m:\u001b[36m332\u001b[0m - \u001b[1mEvaluating model...\u001b[0m\n"
     ]
    },
    {
     "name": "stdout",
     "output_type": "stream",
     "text": [
      "Averaged stats: lr: 0.000188  loss: 27.9889 (28.0392)  loss_mal: 0.7930 (0.8286)  loss_bbox: 0.5659 (0.5410)  loss_giou: 1.2588 (1.2105)  loss_fgl: 0.8749 (0.9013)  loss_mal_aux_0: 0.7925 (0.8253)  loss_bbox_aux_0: 0.5652 (0.5407)  loss_giou_aux_0: 1.2593 (1.2103)  loss_fgl_aux_0: 0.8732 (0.9011)  loss_ddf_aux_0: 0.0046 (0.0042)  loss_mal_aux_1: 0.7900 (0.8233)  loss_bbox_aux_1: 0.5654 (0.5409)  loss_giou_aux_1: 1.2591 (1.2105)  loss_fgl_aux_1: 0.8746 (0.9011)  loss_ddf_aux_1: 0.0005 (0.0004)  loss_mal_pre: 0.7905 (0.8229)  loss_bbox_pre: 0.5588 (0.5375)  loss_giou_pre: 1.2623 (1.2144)  loss_mal_enc_0: 0.7993 (0.8328)  loss_bbox_enc_0: 0.5580 (0.5383)  loss_giou_enc_0: 1.2593 (1.2135)  loss_mal_dn_0: 0.6196 (0.6203)  loss_bbox_dn_0: 0.5265 (0.5296)  loss_giou_dn_0: 1.3585 (1.3584)  loss_fgl_dn_0: 0.7997 (0.8011)  loss_ddf_dn_0: 0.0019 (0.0018)  loss_mal_dn_1: 0.6191 (0.6213)  loss_bbox_dn_1: 0.5269 (0.5292)  loss_giou_dn_1: 1.3589 (1.3585)  loss_fgl_dn_1: 0.8004 (0.8010)  loss_ddf_dn_1: 0.0002 (0.0002)  loss_mal_dn_2: 0.6206 (0.6201)  loss_bbox_dn_2: 0.5270 (0.5291)  loss_giou_dn_2: 1.3589 (1.3586)  loss_fgl_dn_2: 0.8006 (0.8011)  loss_mal_dn_pre: 0.6211 (0.6209)  loss_bbox_dn_pre: 0.5273 (0.5325)  loss_giou_dn_pre: 1.3581 (1.3568)\n"
     ]
    },
    {
     "name": "stderr",
     "output_type": "stream",
     "text": [
      "Evaluating: 100%|██████████| 5/5 [00:01<00:00,  3.38it/s]\n",
      "\u001b[32m2025-03-10 18:16:17.653\u001b[0m | \u001b[1mINFO    \u001b[0m | \u001b[36mdeimkit.trainer\u001b[0m:\u001b[36m_save_checkpoint\u001b[0m:\u001b[36m364\u001b[0m - \u001b[1mSaving checkpoint to outputs/deim_hgnetv2_s_80e/best.pth\u001b[0m\n"
     ]
    },
    {
     "name": "stdout",
     "output_type": "stream",
     "text": [
      "Averaged stats: \n",
      "Accumulating evaluation results...\n",
      "COCOeval_opt.accumulate() finished...\n",
      "DONE (t=0.01s).\n",
      "IoU metric: bbox\n",
      " Average Precision  (AP) @[ IoU=0.50:0.95 | area=   all | maxDets=100 ] = 0.013\n",
      " Average Precision  (AP) @[ IoU=0.50      | area=   all | maxDets=100 ] = 0.050\n",
      " Average Precision  (AP) @[ IoU=0.75      | area=   all | maxDets=100 ] = 0.002\n",
      " Average Precision  (AP) @[ IoU=0.50:0.95 | area= small | maxDets=100 ] = 0.000\n",
      " Average Precision  (AP) @[ IoU=0.50:0.95 | area=medium | maxDets=100 ] = 0.003\n",
      " Average Precision  (AP) @[ IoU=0.50:0.95 | area= large | maxDets=100 ] = 0.037\n",
      " Average Recall     (AR) @[ IoU=0.50:0.95 | area=   all | maxDets=  1 ] = 0.021\n",
      " Average Recall     (AR) @[ IoU=0.50:0.95 | area=   all | maxDets= 10 ] = 0.061\n",
      " Average Recall     (AR) @[ IoU=0.50:0.95 | area=   all | maxDets=100 ] = 0.120\n",
      " Average Recall     (AR) @[ IoU=0.50:0.95 | area= small | maxDets=100 ] = 0.000\n",
      " Average Recall     (AR) @[ IoU=0.50:0.95 | area=medium | maxDets=100 ] = 0.124\n",
      " Average Recall     (AR) @[ IoU=0.50:0.95 | area= large | maxDets=100 ] = 0.126\n",
      " Average Recall     (AR) @[ IoU=0.50      | area=   all | maxDets=100 ] = 0.383\n",
      " Average Recall     (AR) @[ IoU=0.75      | area=   all | maxDets=100 ] = 0.042\n"
     ]
    },
    {
     "name": "stderr",
     "output_type": "stream",
     "text": [
      "\u001b[32m2025-03-10 18:16:17.976\u001b[0m | \u001b[1mINFO    \u001b[0m | \u001b[36mdeimkit.trainer\u001b[0m:\u001b[36m_save_checkpoint\u001b[0m:\u001b[36m381\u001b[0m - \u001b[1mCheckpoint saved to outputs/deim_hgnetv2_s_80e/best.pth\u001b[0m\n",
      "\u001b[32m2025-03-10 18:16:17.978\u001b[0m | \u001b[1mINFO    \u001b[0m | \u001b[36mdeimkit.trainer\u001b[0m:\u001b[36mtrain\u001b[0m:\u001b[36m313\u001b[0m - \u001b[1mEpoch 12 - Train loss: 28.0392, Eval mAP: 0.0126\u001b[0m\n",
      "\u001b[32m2025-03-10 18:16:17.978\u001b[0m | \u001b[1mINFO    \u001b[0m | \u001b[36mdeimkit.trainer\u001b[0m:\u001b[36mtrain\u001b[0m:\u001b[36m316\u001b[0m - \u001b[1mBest stats: {'epoch': 12, 'coco_eval_bbox': 0.01258698412040016}\u001b[0m\n",
      "\u001b[32m2025-03-10 18:16:17.979\u001b[0m | \u001b[1mINFO    \u001b[0m | \u001b[36mdeimkit.trainer\u001b[0m:\u001b[36mtrain\u001b[0m:\u001b[36m224\u001b[0m - \u001b[1mEpoch 13/80\u001b[0m\n",
      "Epoch 13: 100%|██████████| 15/15 [00:08<00:00,  1.70it/s, loss=27.8038]\n",
      "\u001b[32m2025-03-10 18:16:26.842\u001b[0m | \u001b[1mINFO    \u001b[0m | \u001b[36mdeimkit.trainer\u001b[0m:\u001b[36mevaluate\u001b[0m:\u001b[36m332\u001b[0m - \u001b[1mEvaluating model...\u001b[0m\n"
     ]
    },
    {
     "name": "stdout",
     "output_type": "stream",
     "text": [
      "Averaged stats: lr: 0.000200  loss: 27.8295 (27.8572)  loss_mal: 0.8179 (0.8562)  loss_bbox: 0.5356 (0.5196)  loss_giou: 1.1537 (1.1695)  loss_fgl: 0.9299 (0.9192)  loss_mal_aux_0: 0.8389 (0.8584)  loss_bbox_aux_0: 0.5356 (0.5191)  loss_giou_aux_0: 1.1539 (1.1686)  loss_fgl_aux_0: 0.9310 (0.9198)  loss_ddf_aux_0: 0.0008 (0.0009)  loss_mal_aux_1: 0.8242 (0.8576)  loss_bbox_aux_1: 0.5356 (0.5196)  loss_giou_aux_1: 1.1539 (1.1689)  loss_fgl_aux_1: 0.9296 (0.9194)  loss_ddf_aux_1: 0.0003 (0.0003)  loss_mal_pre: 0.8374 (0.8585)  loss_bbox_pre: 0.5304 (0.5161)  loss_giou_pre: 1.1543 (1.1654)  loss_mal_enc_0: 0.8599 (0.8637)  loss_bbox_enc_0: 0.5308 (0.5169)  loss_giou_enc_0: 1.1534 (1.1639)  loss_mal_dn_0: 0.6221 (0.6202)  loss_bbox_dn_0: 0.5276 (0.5167)  loss_giou_dn_0: 1.3602 (1.3564)  loss_fgl_dn_0: 0.7973 (0.7992)  loss_ddf_dn_0: 0.0008 (0.0008)  loss_mal_dn_1: 0.6167 (0.6198)  loss_bbox_dn_1: 0.5267 (0.5154)  loss_giou_dn_1: 1.3608 (1.3574)  loss_fgl_dn_1: 0.7965 (0.7982)  loss_ddf_dn_1: 0.0002 (0.0002)  loss_mal_dn_2: 0.6182 (0.6215)  loss_bbox_dn_2: 0.5263 (0.5148)  loss_giou_dn_2: 1.3609 (1.3580)  loss_fgl_dn_2: 0.7962 (0.7978)  loss_mal_dn_pre: 0.6240 (0.6225)  loss_bbox_dn_pre: 0.5349 (0.5237)  loss_giou_dn_pre: 1.3558 (1.3528)\n"
     ]
    },
    {
     "name": "stderr",
     "output_type": "stream",
     "text": [
      "Evaluating: 100%|██████████| 5/5 [00:01<00:00,  3.97it/s]\n",
      "\u001b[32m2025-03-10 18:16:28.119\u001b[0m | \u001b[1mINFO    \u001b[0m | \u001b[36mdeimkit.trainer\u001b[0m:\u001b[36m_save_checkpoint\u001b[0m:\u001b[36m364\u001b[0m - \u001b[1mSaving checkpoint to outputs/deim_hgnetv2_s_80e/best.pth\u001b[0m\n"
     ]
    },
    {
     "name": "stdout",
     "output_type": "stream",
     "text": [
      "Averaged stats: \n",
      "Accumulating evaluation results...\n",
      "COCOeval_opt.accumulate() finished...\n",
      "DONE (t=0.01s).\n",
      "IoU metric: bbox\n",
      " Average Precision  (AP) @[ IoU=0.50:0.95 | area=   all | maxDets=100 ] = 0.033\n",
      " Average Precision  (AP) @[ IoU=0.50      | area=   all | maxDets=100 ] = 0.092\n",
      " Average Precision  (AP) @[ IoU=0.75      | area=   all | maxDets=100 ] = 0.016\n",
      " Average Precision  (AP) @[ IoU=0.50:0.95 | area= small | maxDets=100 ] = 0.000\n",
      " Average Precision  (AP) @[ IoU=0.50:0.95 | area=medium | maxDets=100 ] = 0.016\n",
      " Average Precision  (AP) @[ IoU=0.50:0.95 | area= large | maxDets=100 ] = 0.081\n",
      " Average Recall     (AR) @[ IoU=0.50:0.95 | area=   all | maxDets=  1 ] = 0.030\n",
      " Average Recall     (AR) @[ IoU=0.50:0.95 | area=   all | maxDets= 10 ] = 0.058\n",
      " Average Recall     (AR) @[ IoU=0.50:0.95 | area=   all | maxDets=100 ] = 0.135\n",
      " Average Recall     (AR) @[ IoU=0.50:0.95 | area= small | maxDets=100 ] = 0.000\n",
      " Average Recall     (AR) @[ IoU=0.50:0.95 | area=medium | maxDets=100 ] = 0.150\n",
      " Average Recall     (AR) @[ IoU=0.50:0.95 | area= large | maxDets=100 ] = 0.140\n",
      " Average Recall     (AR) @[ IoU=0.50      | area=   all | maxDets=100 ] = 0.344\n",
      " Average Recall     (AR) @[ IoU=0.75      | area=   all | maxDets=100 ] = 0.081\n"
     ]
    },
    {
     "name": "stderr",
     "output_type": "stream",
     "text": [
      "\u001b[32m2025-03-10 18:16:28.590\u001b[0m | \u001b[1mINFO    \u001b[0m | \u001b[36mdeimkit.trainer\u001b[0m:\u001b[36m_save_checkpoint\u001b[0m:\u001b[36m381\u001b[0m - \u001b[1mCheckpoint saved to outputs/deim_hgnetv2_s_80e/best.pth\u001b[0m\n",
      "\u001b[32m2025-03-10 18:16:28.592\u001b[0m | \u001b[1mINFO    \u001b[0m | \u001b[36mdeimkit.trainer\u001b[0m:\u001b[36mtrain\u001b[0m:\u001b[36m313\u001b[0m - \u001b[1mEpoch 13 - Train loss: 27.8572, Eval mAP: 0.0331\u001b[0m\n",
      "\u001b[32m2025-03-10 18:16:28.593\u001b[0m | \u001b[1mINFO    \u001b[0m | \u001b[36mdeimkit.trainer\u001b[0m:\u001b[36mtrain\u001b[0m:\u001b[36m316\u001b[0m - \u001b[1mBest stats: {'epoch': 13, 'coco_eval_bbox': 0.03308711192953485}\u001b[0m\n",
      "\u001b[32m2025-03-10 18:16:28.593\u001b[0m | \u001b[1mINFO    \u001b[0m | \u001b[36mdeimkit.trainer\u001b[0m:\u001b[36mtrain\u001b[0m:\u001b[36m224\u001b[0m - \u001b[1mEpoch 14/80\u001b[0m\n",
      "Epoch 14: 100%|██████████| 15/15 [00:08<00:00,  1.76it/s, loss=28.1664]\n",
      "\u001b[32m2025-03-10 18:16:37.133\u001b[0m | \u001b[1mINFO    \u001b[0m | \u001b[36mdeimkit.trainer\u001b[0m:\u001b[36mevaluate\u001b[0m:\u001b[36m332\u001b[0m - \u001b[1mEvaluating model...\u001b[0m\n"
     ]
    },
    {
     "name": "stdout",
     "output_type": "stream",
     "text": [
      "Averaged stats: lr: 0.000200  loss: 27.6123 (27.7522)  loss_mal: 0.8745 (0.8768)  loss_bbox: 0.4419 (0.4930)  loss_giou: 1.1340 (1.1451)  loss_fgl: 0.9289 (0.9395)  loss_mal_aux_0: 0.9111 (0.8667)  loss_bbox_aux_0: 0.4408 (0.4926)  loss_giou_aux_0: 1.1345 (1.1456)  loss_fgl_aux_0: 0.9317 (0.9401)  loss_ddf_aux_0: 0.0014 (0.0013)  loss_mal_aux_1: 0.8765 (0.8687)  loss_bbox_aux_1: 0.4413 (0.4929)  loss_giou_aux_1: 1.1341 (1.1452)  loss_fgl_aux_1: 0.9293 (0.9396)  loss_ddf_aux_1: 0.0002 (0.0002)  loss_mal_pre: 0.9165 (0.8660)  loss_bbox_pre: 0.4411 (0.4912)  loss_giou_pre: 1.1349 (1.1458)  loss_mal_enc_0: 0.8984 (0.8970)  loss_bbox_enc_0: 0.4415 (0.4922)  loss_giou_enc_0: 1.1358 (1.1456)  loss_mal_dn_0: 0.6157 (0.6146)  loss_bbox_dn_0: 0.5138 (0.5162)  loss_giou_dn_0: 1.3702 (1.3679)  loss_fgl_dn_0: 0.7897 (0.7915)  loss_ddf_dn_0: 0.0002 (0.0002)  loss_mal_dn_1: 0.6147 (0.6114)  loss_bbox_dn_1: 0.5130 (0.5156)  loss_giou_dn_1: 1.3705 (1.3679)  loss_fgl_dn_1: 0.7889 (0.7911)  loss_ddf_dn_1: 0.0001 (0.0001)  loss_mal_dn_2: 0.6118 (0.6132)  loss_bbox_dn_2: 0.5129 (0.5159)  loss_giou_dn_2: 1.3701 (1.3676)  loss_fgl_dn_2: 0.7886 (0.7912)  loss_mal_dn_pre: 0.6177 (0.6167)  loss_bbox_dn_pre: 0.5246 (0.5215)  loss_giou_dn_pre: 1.3653 (1.3645)\n"
     ]
    },
    {
     "name": "stderr",
     "output_type": "stream",
     "text": [
      "Evaluating: 100%|██████████| 5/5 [00:01<00:00,  3.95it/s]\n",
      "\u001b[32m2025-03-10 18:16:38.416\u001b[0m | \u001b[1mINFO    \u001b[0m | \u001b[36mdeimkit.trainer\u001b[0m:\u001b[36m_save_checkpoint\u001b[0m:\u001b[36m364\u001b[0m - \u001b[1mSaving checkpoint to outputs/deim_hgnetv2_s_80e/best.pth\u001b[0m\n"
     ]
    },
    {
     "name": "stdout",
     "output_type": "stream",
     "text": [
      "Averaged stats: \n",
      "Accumulating evaluation results...\n",
      "COCOeval_opt.accumulate() finished...\n",
      "DONE (t=0.01s).\n",
      "IoU metric: bbox\n",
      " Average Precision  (AP) @[ IoU=0.50:0.95 | area=   all | maxDets=100 ] = 0.053\n",
      " Average Precision  (AP) @[ IoU=0.50      | area=   all | maxDets=100 ] = 0.142\n",
      " Average Precision  (AP) @[ IoU=0.75      | area=   all | maxDets=100 ] = 0.031\n",
      " Average Precision  (AP) @[ IoU=0.50:0.95 | area= small | maxDets=100 ] = 0.000\n",
      " Average Precision  (AP) @[ IoU=0.50:0.95 | area=medium | maxDets=100 ] = 0.323\n",
      " Average Precision  (AP) @[ IoU=0.50:0.95 | area= large | maxDets=100 ] = 0.068\n",
      " Average Recall     (AR) @[ IoU=0.50:0.95 | area=   all | maxDets=  1 ] = 0.046\n",
      " Average Recall     (AR) @[ IoU=0.50:0.95 | area=   all | maxDets= 10 ] = 0.089\n",
      " Average Recall     (AR) @[ IoU=0.50:0.95 | area=   all | maxDets=100 ] = 0.141\n",
      " Average Recall     (AR) @[ IoU=0.50:0.95 | area= small | maxDets=100 ] = 0.000\n",
      " Average Recall     (AR) @[ IoU=0.50:0.95 | area=medium | maxDets=100 ] = 0.418\n",
      " Average Recall     (AR) @[ IoU=0.50:0.95 | area= large | maxDets=100 ] = 0.123\n",
      " Average Recall     (AR) @[ IoU=0.50      | area=   all | maxDets=100 ] = 0.382\n",
      " Average Recall     (AR) @[ IoU=0.75      | area=   all | maxDets=100 ] = 0.071\n"
     ]
    },
    {
     "name": "stderr",
     "output_type": "stream",
     "text": [
      "\u001b[32m2025-03-10 18:16:38.884\u001b[0m | \u001b[1mINFO    \u001b[0m | \u001b[36mdeimkit.trainer\u001b[0m:\u001b[36m_save_checkpoint\u001b[0m:\u001b[36m381\u001b[0m - \u001b[1mCheckpoint saved to outputs/deim_hgnetv2_s_80e/best.pth\u001b[0m\n",
      "\u001b[32m2025-03-10 18:16:38.886\u001b[0m | \u001b[1mINFO    \u001b[0m | \u001b[36mdeimkit.trainer\u001b[0m:\u001b[36mtrain\u001b[0m:\u001b[36m313\u001b[0m - \u001b[1mEpoch 14 - Train loss: 27.7522, Eval mAP: 0.0534\u001b[0m\n",
      "\u001b[32m2025-03-10 18:16:38.887\u001b[0m | \u001b[1mINFO    \u001b[0m | \u001b[36mdeimkit.trainer\u001b[0m:\u001b[36mtrain\u001b[0m:\u001b[36m316\u001b[0m - \u001b[1mBest stats: {'epoch': 14, 'coco_eval_bbox': 0.053445341173982586}\u001b[0m\n",
      "\u001b[32m2025-03-10 18:16:38.887\u001b[0m | \u001b[1mINFO    \u001b[0m | \u001b[36mdeimkit.trainer\u001b[0m:\u001b[36mtrain\u001b[0m:\u001b[36m224\u001b[0m - \u001b[1mEpoch 15/80\u001b[0m\n",
      "Epoch 15: 100%|██████████| 15/15 [00:08<00:00,  1.81it/s, loss=26.9891]\n",
      "\u001b[32m2025-03-10 18:16:47.183\u001b[0m | \u001b[1mINFO    \u001b[0m | \u001b[36mdeimkit.trainer\u001b[0m:\u001b[36m_save_checkpoint\u001b[0m:\u001b[36m364\u001b[0m - \u001b[1mSaving checkpoint to outputs/deim_hgnetv2_s_80e/checkpoint0015.pth\u001b[0m\n"
     ]
    },
    {
     "name": "stdout",
     "output_type": "stream",
     "text": [
      "Averaged stats: lr: 0.000200  loss: 27.4837 (27.5859)  loss_mal: 0.9707 (0.9409)  loss_bbox: 0.4147 (0.4622)  loss_giou: 0.9813 (1.0527)  loss_fgl: 1.0314 (0.9933)  loss_mal_aux_0: 0.9517 (0.9229)  loss_bbox_aux_0: 0.4138 (0.4619)  loss_giou_aux_0: 0.9825 (1.0528)  loss_fgl_aux_0: 1.0310 (0.9937)  loss_ddf_aux_0: 0.0012 (0.0014)  loss_mal_aux_1: 0.9658 (0.9346)  loss_bbox_aux_1: 0.4146 (0.4621)  loss_giou_aux_1: 0.9817 (1.0528)  loss_fgl_aux_1: 1.0311 (0.9935)  loss_ddf_aux_1: 0.0002 (0.0002)  loss_mal_pre: 0.9585 (0.9235)  loss_bbox_pre: 0.4084 (0.4598)  loss_giou_pre: 0.9793 (1.0500)  loss_mal_enc_0: 0.9736 (0.9361)  loss_bbox_enc_0: 0.4090 (0.4620)  loss_giou_enc_0: 0.9900 (1.0609)  loss_mal_dn_0: 0.6216 (0.6206)  loss_bbox_dn_0: 0.5144 (0.5196)  loss_giou_dn_0: 1.3511 (1.3465)  loss_fgl_dn_0: 0.8026 (0.8064)  loss_ddf_dn_0: 0.0006 (0.0007)  loss_mal_dn_1: 0.6216 (0.6199)  loss_bbox_dn_1: 0.5139 (0.5189)  loss_giou_dn_1: 1.3512 (1.3457)  loss_fgl_dn_1: 0.8027 (0.8065)  loss_ddf_dn_1: 0.0002 (0.0002)  loss_mal_dn_2: 0.6226 (0.6222)  loss_bbox_dn_2: 0.5145 (0.5188)  loss_giou_dn_2: 1.3499 (1.3439)  loss_fgl_dn_2: 0.8039 (0.8073)  loss_mal_dn_pre: 0.6235 (0.6220)  loss_bbox_dn_pre: 0.5204 (0.5250)  loss_giou_dn_pre: 1.3484 (1.3444)\n"
     ]
    },
    {
     "name": "stderr",
     "output_type": "stream",
     "text": [
      "\u001b[32m2025-03-10 18:16:47.461\u001b[0m | \u001b[1mINFO    \u001b[0m | \u001b[36mdeimkit.trainer\u001b[0m:\u001b[36m_save_checkpoint\u001b[0m:\u001b[36m381\u001b[0m - \u001b[1mCheckpoint saved to outputs/deim_hgnetv2_s_80e/checkpoint0015.pth\u001b[0m\n",
      "\u001b[32m2025-03-10 18:16:47.463\u001b[0m | \u001b[1mINFO    \u001b[0m | \u001b[36mdeimkit.trainer\u001b[0m:\u001b[36mevaluate\u001b[0m:\u001b[36m332\u001b[0m - \u001b[1mEvaluating model...\u001b[0m\n",
      "Evaluating: 100%|██████████| 5/5 [00:01<00:00,  3.41it/s]\n",
      "\u001b[32m2025-03-10 18:16:48.954\u001b[0m | \u001b[1mINFO    \u001b[0m | \u001b[36mdeimkit.trainer\u001b[0m:\u001b[36m_save_checkpoint\u001b[0m:\u001b[36m364\u001b[0m - \u001b[1mSaving checkpoint to outputs/deim_hgnetv2_s_80e/best.pth\u001b[0m\n"
     ]
    },
    {
     "name": "stdout",
     "output_type": "stream",
     "text": [
      "Averaged stats: \n",
      "Accumulating evaluation results...\n",
      "COCOeval_opt.accumulate() finished...\n",
      "DONE (t=0.01s).\n",
      "IoU metric: bbox\n",
      " Average Precision  (AP) @[ IoU=0.50:0.95 | area=   all | maxDets=100 ] = 0.186\n",
      " Average Precision  (AP) @[ IoU=0.50      | area=   all | maxDets=100 ] = 0.386\n",
      " Average Precision  (AP) @[ IoU=0.75      | area=   all | maxDets=100 ] = 0.155\n",
      " Average Precision  (AP) @[ IoU=0.50:0.95 | area= small | maxDets=100 ] = 0.002\n",
      " Average Precision  (AP) @[ IoU=0.50:0.95 | area=medium | maxDets=100 ] = 0.068\n",
      " Average Precision  (AP) @[ IoU=0.50:0.95 | area= large | maxDets=100 ] = 0.189\n",
      " Average Recall     (AR) @[ IoU=0.50:0.95 | area=   all | maxDets=  1 ] = 0.199\n",
      " Average Recall     (AR) @[ IoU=0.50:0.95 | area=   all | maxDets= 10 ] = 0.324\n",
      " Average Recall     (AR) @[ IoU=0.50:0.95 | area=   all | maxDets=100 ] = 0.411\n",
      " Average Recall     (AR) @[ IoU=0.50:0.95 | area= small | maxDets=100 ] = 0.020\n",
      " Average Recall     (AR) @[ IoU=0.50:0.95 | area=medium | maxDets=100 ] = 0.459\n",
      " Average Recall     (AR) @[ IoU=0.50:0.95 | area= large | maxDets=100 ] = 0.344\n",
      " Average Recall     (AR) @[ IoU=0.50      | area=   all | maxDets=100 ] = 0.769\n",
      " Average Recall     (AR) @[ IoU=0.75      | area=   all | maxDets=100 ] = 0.401\n"
     ]
    },
    {
     "name": "stderr",
     "output_type": "stream",
     "text": [
      "\u001b[32m2025-03-10 18:16:49.430\u001b[0m | \u001b[1mINFO    \u001b[0m | \u001b[36mdeimkit.trainer\u001b[0m:\u001b[36m_save_checkpoint\u001b[0m:\u001b[36m381\u001b[0m - \u001b[1mCheckpoint saved to outputs/deim_hgnetv2_s_80e/best.pth\u001b[0m\n",
      "\u001b[32m2025-03-10 18:16:49.432\u001b[0m | \u001b[1mINFO    \u001b[0m | \u001b[36mdeimkit.trainer\u001b[0m:\u001b[36mtrain\u001b[0m:\u001b[36m313\u001b[0m - \u001b[1mEpoch 15 - Train loss: 27.5859, Eval mAP: 0.1864\u001b[0m\n",
      "\u001b[32m2025-03-10 18:16:49.432\u001b[0m | \u001b[1mINFO    \u001b[0m | \u001b[36mdeimkit.trainer\u001b[0m:\u001b[36mtrain\u001b[0m:\u001b[36m316\u001b[0m - \u001b[1mBest stats: {'epoch': 15, 'coco_eval_bbox': 0.18641301126061427}\u001b[0m\n",
      "\u001b[32m2025-03-10 18:16:49.433\u001b[0m | \u001b[1mINFO    \u001b[0m | \u001b[36mdeimkit.trainer\u001b[0m:\u001b[36mtrain\u001b[0m:\u001b[36m224\u001b[0m - \u001b[1mEpoch 16/80\u001b[0m\n",
      "Epoch 16: 100%|██████████| 15/15 [00:08<00:00,  1.70it/s, loss=27.2764]\n",
      "\u001b[32m2025-03-10 18:16:58.255\u001b[0m | \u001b[1mINFO    \u001b[0m | \u001b[36mdeimkit.trainer\u001b[0m:\u001b[36mevaluate\u001b[0m:\u001b[36m332\u001b[0m - \u001b[1mEvaluating model...\u001b[0m\n"
     ]
    },
    {
     "name": "stdout",
     "output_type": "stream",
     "text": [
      "Averaged stats: lr: 0.000200  loss: 27.5910 (27.4753)  loss_mal: 0.8345 (0.8859)  loss_bbox: 0.5003 (0.4737)  loss_giou: 1.1368 (1.0984)  loss_fgl: 0.9162 (0.9559)  loss_mal_aux_0: 0.8237 (0.8843)  loss_bbox_aux_0: 0.5008 (0.4746)  loss_giou_aux_0: 1.1364 (1.0993)  loss_fgl_aux_0: 0.9181 (0.9576)  loss_ddf_aux_0: 0.0022 (0.0026)  loss_mal_aux_1: 0.8252 (0.8806)  loss_bbox_aux_1: 0.5007 (0.4742)  loss_giou_aux_1: 1.1366 (1.0988)  loss_fgl_aux_1: 0.9175 (0.9567)  loss_ddf_aux_1: 0.0007 (0.0009)  loss_mal_pre: 0.8242 (0.8835)  loss_bbox_pre: 0.5001 (0.4740)  loss_giou_pre: 1.1373 (1.0996)  loss_mal_enc_0: 0.8184 (0.9000)  loss_bbox_enc_0: 0.5003 (0.4777)  loss_giou_enc_0: 1.1593 (1.1168)  loss_mal_dn_0: 0.6289 (0.6329)  loss_bbox_dn_0: 0.5007 (0.4912)  loss_giou_dn_0: 1.3312 (1.3330)  loss_fgl_dn_0: 0.8205 (0.8206)  loss_ddf_dn_0: 0.0012 (0.0019)  loss_mal_dn_1: 0.6318 (0.6305)  loss_bbox_dn_1: 0.5006 (0.4891)  loss_giou_dn_1: 1.3295 (1.3290)  loss_fgl_dn_1: 0.8231 (0.8223)  loss_ddf_dn_1: 0.0005 (0.0008)  loss_mal_dn_2: 0.6309 (0.6309)  loss_bbox_dn_2: 0.5016 (0.4877)  loss_giou_dn_2: 1.3266 (1.3241)  loss_fgl_dn_2: 0.8250 (0.8238)  loss_mal_dn_pre: 0.6299 (0.6332)  loss_bbox_dn_pre: 0.5021 (0.4965)  loss_giou_dn_pre: 1.3306 (1.3331)\n"
     ]
    },
    {
     "name": "stderr",
     "output_type": "stream",
     "text": [
      "Evaluating: 100%|██████████| 5/5 [00:01<00:00,  3.26it/s]\n",
      "\u001b[32m2025-03-10 18:16:59.817\u001b[0m | \u001b[1mINFO    \u001b[0m | \u001b[36mdeimkit.trainer\u001b[0m:\u001b[36m_save_checkpoint\u001b[0m:\u001b[36m364\u001b[0m - \u001b[1mSaving checkpoint to outputs/deim_hgnetv2_s_80e/best.pth\u001b[0m\n"
     ]
    },
    {
     "name": "stdout",
     "output_type": "stream",
     "text": [
      "Averaged stats: \n",
      "Accumulating evaluation results...\n",
      "COCOeval_opt.accumulate() finished...\n",
      "DONE (t=0.02s).\n",
      "IoU metric: bbox\n",
      " Average Precision  (AP) @[ IoU=0.50:0.95 | area=   all | maxDets=100 ] = 0.188\n",
      " Average Precision  (AP) @[ IoU=0.50      | area=   all | maxDets=100 ] = 0.413\n",
      " Average Precision  (AP) @[ IoU=0.75      | area=   all | maxDets=100 ] = 0.104\n",
      " Average Precision  (AP) @[ IoU=0.50:0.95 | area= small | maxDets=100 ] = 0.003\n",
      " Average Precision  (AP) @[ IoU=0.50:0.95 | area=medium | maxDets=100 ] = 0.118\n",
      " Average Precision  (AP) @[ IoU=0.50:0.95 | area= large | maxDets=100 ] = 0.171\n",
      " Average Recall     (AR) @[ IoU=0.50:0.95 | area=   all | maxDets=  1 ] = 0.184\n",
      " Average Recall     (AR) @[ IoU=0.50:0.95 | area=   all | maxDets= 10 ] = 0.359\n",
      " Average Recall     (AR) @[ IoU=0.50:0.95 | area=   all | maxDets=100 ] = 0.449\n",
      " Average Recall     (AR) @[ IoU=0.50:0.95 | area= small | maxDets=100 ] = 0.220\n",
      " Average Recall     (AR) @[ IoU=0.50:0.95 | area=medium | maxDets=100 ] = 0.469\n",
      " Average Recall     (AR) @[ IoU=0.50:0.95 | area= large | maxDets=100 ] = 0.309\n",
      " Average Recall     (AR) @[ IoU=0.50      | area=   all | maxDets=100 ] = 0.904\n",
      " Average Recall     (AR) @[ IoU=0.75      | area=   all | maxDets=100 ] = 0.349\n"
     ]
    },
    {
     "name": "stderr",
     "output_type": "stream",
     "text": [
      "\u001b[32m2025-03-10 18:17:00.168\u001b[0m | \u001b[1mINFO    \u001b[0m | \u001b[36mdeimkit.trainer\u001b[0m:\u001b[36m_save_checkpoint\u001b[0m:\u001b[36m381\u001b[0m - \u001b[1mCheckpoint saved to outputs/deim_hgnetv2_s_80e/best.pth\u001b[0m\n",
      "\u001b[32m2025-03-10 18:17:00.170\u001b[0m | \u001b[1mINFO    \u001b[0m | \u001b[36mdeimkit.trainer\u001b[0m:\u001b[36mtrain\u001b[0m:\u001b[36m313\u001b[0m - \u001b[1mEpoch 16 - Train loss: 27.4753, Eval mAP: 0.1878\u001b[0m\n",
      "\u001b[32m2025-03-10 18:17:00.171\u001b[0m | \u001b[1mINFO    \u001b[0m | \u001b[36mdeimkit.trainer\u001b[0m:\u001b[36mtrain\u001b[0m:\u001b[36m316\u001b[0m - \u001b[1mBest stats: {'epoch': 16, 'coco_eval_bbox': 0.18778799560104595}\u001b[0m\n",
      "\u001b[32m2025-03-10 18:17:00.171\u001b[0m | \u001b[1mINFO    \u001b[0m | \u001b[36mdeimkit.trainer\u001b[0m:\u001b[36mtrain\u001b[0m:\u001b[36m224\u001b[0m - \u001b[1mEpoch 17/80\u001b[0m\n",
      "Epoch 17: 100%|██████████| 15/15 [00:08<00:00,  1.82it/s, loss=25.8153]\n",
      "\u001b[32m2025-03-10 18:17:08.432\u001b[0m | \u001b[1mINFO    \u001b[0m | \u001b[36mdeimkit.trainer\u001b[0m:\u001b[36mevaluate\u001b[0m:\u001b[36m332\u001b[0m - \u001b[1mEvaluating model...\u001b[0m\n"
     ]
    },
    {
     "name": "stdout",
     "output_type": "stream",
     "text": [
      "Averaged stats: lr: 0.000200  loss: 26.9042 (26.9180)  loss_mal: 1.0146 (1.0198)  loss_bbox: 0.3345 (0.3626)  loss_giou: 0.9040 (0.9258)  loss_fgl: 1.0853 (1.0622)  loss_mal_aux_0: 0.9844 (0.9946)  loss_bbox_aux_0: 0.3376 (0.3630)  loss_giou_aux_0: 0.9082 (0.9267)  loss_fgl_aux_0: 1.0826 (1.0614)  loss_ddf_aux_0: 0.0132 (0.0136)  loss_mal_aux_1: 1.0078 (0.9972)  loss_bbox_aux_1: 0.3363 (0.3628)  loss_giou_aux_1: 0.9067 (0.9258)  loss_fgl_aux_1: 1.0850 (1.0617)  loss_ddf_aux_1: 0.0042 (0.0048)  loss_mal_pre: 0.9844 (0.9933)  loss_bbox_pre: 0.3396 (0.3623)  loss_giou_pre: 0.9091 (0.9256)  loss_mal_enc_0: 0.9971 (1.0059)  loss_bbox_enc_0: 0.3676 (0.3816)  loss_giou_enc_0: 0.9535 (0.9667)  loss_mal_dn_0: 0.6704 (0.6697)  loss_bbox_dn_0: 0.4566 (0.4602)  loss_giou_dn_0: 1.2630 (1.2716)  loss_fgl_dn_0: 0.8726 (0.8702)  loss_ddf_dn_0: 0.0115 (0.0139)  loss_mal_dn_1: 0.6616 (0.6627)  loss_bbox_dn_1: 0.4596 (0.4585)  loss_giou_dn_1: 1.2494 (1.2544)  loss_fgl_dn_1: 0.8795 (0.8787)  loss_ddf_dn_1: 0.0039 (0.0046)  loss_mal_dn_2: 0.6616 (0.6672)  loss_bbox_dn_2: 0.4571 (0.4566)  loss_giou_dn_2: 1.2332 (1.2368)  loss_fgl_dn_2: 0.8870 (0.8866)  loss_mal_dn_pre: 0.6709 (0.6694)  loss_bbox_dn_pre: 0.4597 (0.4660)  loss_giou_dn_pre: 1.2680 (1.2734)\n"
     ]
    },
    {
     "name": "stderr",
     "output_type": "stream",
     "text": [
      "Evaluating: 100%|██████████| 5/5 [00:01<00:00,  3.64it/s]\n",
      "\u001b[32m2025-03-10 18:17:09.835\u001b[0m | \u001b[1mINFO    \u001b[0m | \u001b[36mdeimkit.trainer\u001b[0m:\u001b[36m_save_checkpoint\u001b[0m:\u001b[36m364\u001b[0m - \u001b[1mSaving checkpoint to outputs/deim_hgnetv2_s_80e/best.pth\u001b[0m\n"
     ]
    },
    {
     "name": "stdout",
     "output_type": "stream",
     "text": [
      "Averaged stats: \n",
      "Accumulating evaluation results...\n",
      "COCOeval_opt.accumulate() finished...\n",
      "DONE (t=0.02s).\n",
      "IoU metric: bbox\n",
      " Average Precision  (AP) @[ IoU=0.50:0.95 | area=   all | maxDets=100 ] = 0.265\n",
      " Average Precision  (AP) @[ IoU=0.50      | area=   all | maxDets=100 ] = 0.517\n",
      " Average Precision  (AP) @[ IoU=0.75      | area=   all | maxDets=100 ] = 0.238\n",
      " Average Precision  (AP) @[ IoU=0.50:0.95 | area= small | maxDets=100 ] = 0.069\n",
      " Average Precision  (AP) @[ IoU=0.50:0.95 | area=medium | maxDets=100 ] = 0.344\n",
      " Average Precision  (AP) @[ IoU=0.50:0.95 | area= large | maxDets=100 ] = 0.200\n",
      " Average Recall     (AR) @[ IoU=0.50:0.95 | area=   all | maxDets=  1 ] = 0.254\n",
      " Average Recall     (AR) @[ IoU=0.50:0.95 | area=   all | maxDets= 10 ] = 0.475\n",
      " Average Recall     (AR) @[ IoU=0.50:0.95 | area=   all | maxDets=100 ] = 0.595\n",
      " Average Recall     (AR) @[ IoU=0.50:0.95 | area= small | maxDets=100 ] = 0.200\n",
      " Average Recall     (AR) @[ IoU=0.50:0.95 | area=medium | maxDets=100 ] = 0.573\n",
      " Average Recall     (AR) @[ IoU=0.50:0.95 | area= large | maxDets=100 ] = 0.424\n",
      " Average Recall     (AR) @[ IoU=0.50      | area=   all | maxDets=100 ] = 0.968\n",
      " Average Recall     (AR) @[ IoU=0.75      | area=   all | maxDets=100 ] = 0.664\n"
     ]
    },
    {
     "name": "stderr",
     "output_type": "stream",
     "text": [
      "\u001b[32m2025-03-10 18:17:10.320\u001b[0m | \u001b[1mINFO    \u001b[0m | \u001b[36mdeimkit.trainer\u001b[0m:\u001b[36m_save_checkpoint\u001b[0m:\u001b[36m381\u001b[0m - \u001b[1mCheckpoint saved to outputs/deim_hgnetv2_s_80e/best.pth\u001b[0m\n",
      "\u001b[32m2025-03-10 18:17:10.321\u001b[0m | \u001b[1mINFO    \u001b[0m | \u001b[36mdeimkit.trainer\u001b[0m:\u001b[36mtrain\u001b[0m:\u001b[36m313\u001b[0m - \u001b[1mEpoch 17 - Train loss: 26.9180, Eval mAP: 0.2649\u001b[0m\n",
      "\u001b[32m2025-03-10 18:17:10.322\u001b[0m | \u001b[1mINFO    \u001b[0m | \u001b[36mdeimkit.trainer\u001b[0m:\u001b[36mtrain\u001b[0m:\u001b[36m316\u001b[0m - \u001b[1mBest stats: {'epoch': 17, 'coco_eval_bbox': 0.2649437706984524}\u001b[0m\n",
      "\u001b[32m2025-03-10 18:17:10.322\u001b[0m | \u001b[1mINFO    \u001b[0m | \u001b[36mdeimkit.trainer\u001b[0m:\u001b[36mtrain\u001b[0m:\u001b[36m224\u001b[0m - \u001b[1mEpoch 18/80\u001b[0m\n",
      "Epoch 18: 100%|██████████| 15/15 [00:08<00:00,  1.82it/s, loss=25.5964]\n",
      "\u001b[32m2025-03-10 18:17:18.585\u001b[0m | \u001b[1mINFO    \u001b[0m | \u001b[36mdeimkit.trainer\u001b[0m:\u001b[36mevaluate\u001b[0m:\u001b[36m332\u001b[0m - \u001b[1mEvaluating model...\u001b[0m\n"
     ]
    },
    {
     "name": "stdout",
     "output_type": "stream",
     "text": [
      "Averaged stats: lr: 0.000200  loss: 26.8517 (26.7821)  loss_mal: 1.0615 (1.0520)  loss_bbox: 0.3234 (0.3576)  loss_giou: 0.7513 (0.8697)  loss_fgl: 1.1230 (1.0752)  loss_mal_aux_0: 1.0127 (1.0293)  loss_bbox_aux_0: 0.3284 (0.3612)  loss_giou_aux_0: 0.7600 (0.8731)  loss_fgl_aux_0: 1.1261 (1.0765)  loss_ddf_aux_0: 0.0288 (0.0264)  loss_mal_aux_1: 1.0547 (1.0403)  loss_bbox_aux_1: 0.3246 (0.3595)  loss_giou_aux_1: 0.7564 (0.8721)  loss_fgl_aux_1: 1.1242 (1.0759)  loss_ddf_aux_1: 0.0123 (0.0119)  loss_mal_pre: 1.0146 (1.0280)  loss_bbox_pre: 0.3289 (0.3572)  loss_giou_pre: 0.7585 (0.8689)  loss_mal_enc_0: 0.9907 (0.9878)  loss_bbox_enc_0: 0.3597 (0.3802)  loss_giou_enc_0: 0.8449 (0.9239)  loss_mal_dn_0: 0.6777 (0.6818)  loss_bbox_dn_0: 0.4677 (0.4667)  loss_giou_dn_0: 1.2111 (1.2232)  loss_fgl_dn_0: 0.9086 (0.9051)  loss_ddf_dn_0: 0.0401 (0.0387)  loss_mal_dn_1: 0.6816 (0.6843)  loss_bbox_dn_1: 0.4583 (0.4540)  loss_giou_dn_1: 1.1430 (1.1785)  loss_fgl_dn_1: 0.9317 (0.9206)  loss_ddf_dn_1: 0.0142 (0.0140)  loss_mal_dn_2: 0.6968 (0.6940)  loss_bbox_dn_2: 0.4576 (0.4466)  loss_giou_dn_2: 1.1023 (1.1405)  loss_fgl_dn_2: 0.9464 (0.9343)  loss_mal_dn_pre: 0.6743 (0.6781)  loss_bbox_dn_pre: 0.4630 (0.4662)  loss_giou_dn_pre: 1.2224 (1.2289)\n"
     ]
    },
    {
     "name": "stderr",
     "output_type": "stream",
     "text": [
      "Evaluating: 100%|██████████| 5/5 [00:01<00:00,  3.90it/s]\n",
      "\u001b[32m2025-03-10 18:17:19.899\u001b[0m | \u001b[1mINFO    \u001b[0m | \u001b[36mdeimkit.trainer\u001b[0m:\u001b[36mtrain\u001b[0m:\u001b[36m313\u001b[0m - \u001b[1mEpoch 18 - Train loss: 26.7821, Eval mAP: 0.2218\u001b[0m\n",
      "\u001b[32m2025-03-10 18:17:19.899\u001b[0m | \u001b[1mINFO    \u001b[0m | \u001b[36mdeimkit.trainer\u001b[0m:\u001b[36mtrain\u001b[0m:\u001b[36m316\u001b[0m - \u001b[1mBest stats: {'epoch': 17, 'coco_eval_bbox': 0.2649437706984524}\u001b[0m\n",
      "\u001b[32m2025-03-10 18:17:19.900\u001b[0m | \u001b[1mINFO    \u001b[0m | \u001b[36mdeimkit.trainer\u001b[0m:\u001b[36mtrain\u001b[0m:\u001b[36m224\u001b[0m - \u001b[1mEpoch 19/80\u001b[0m\n"
     ]
    },
    {
     "name": "stdout",
     "output_type": "stream",
     "text": [
      "Averaged stats: \n",
      "Accumulating evaluation results...\n",
      "COCOeval_opt.accumulate() finished...\n",
      "DONE (t=0.02s).\n",
      "IoU metric: bbox\n",
      " Average Precision  (AP) @[ IoU=0.50:0.95 | area=   all | maxDets=100 ] = 0.222\n",
      " Average Precision  (AP) @[ IoU=0.50      | area=   all | maxDets=100 ] = 0.406\n",
      " Average Precision  (AP) @[ IoU=0.75      | area=   all | maxDets=100 ] = 0.228\n",
      " Average Precision  (AP) @[ IoU=0.50:0.95 | area= small | maxDets=100 ] = 0.006\n",
      " Average Precision  (AP) @[ IoU=0.50:0.95 | area=medium | maxDets=100 ] = 0.302\n",
      " Average Precision  (AP) @[ IoU=0.50:0.95 | area= large | maxDets=100 ] = 0.197\n",
      " Average Recall     (AR) @[ IoU=0.50:0.95 | area=   all | maxDets=  1 ] = 0.212\n",
      " Average Recall     (AR) @[ IoU=0.50:0.95 | area=   all | maxDets= 10 ] = 0.457\n",
      " Average Recall     (AR) @[ IoU=0.50:0.95 | area=   all | maxDets=100 ] = 0.605\n",
      " Average Recall     (AR) @[ IoU=0.50:0.95 | area= small | maxDets=100 ] = 0.160\n",
      " Average Recall     (AR) @[ IoU=0.50:0.95 | area=medium | maxDets=100 ] = 0.682\n",
      " Average Recall     (AR) @[ IoU=0.50:0.95 | area= large | maxDets=100 ] = 0.445\n",
      " Average Recall     (AR) @[ IoU=0.50      | area=   all | maxDets=100 ] = 0.954\n",
      " Average Recall     (AR) @[ IoU=0.75      | area=   all | maxDets=100 ] = 0.695\n"
     ]
    },
    {
     "name": "stderr",
     "output_type": "stream",
     "text": [
      "Epoch 19: 100%|██████████| 15/15 [00:09<00:00,  1.64it/s, loss=26.4187]\n",
      "\u001b[32m2025-03-10 18:17:29.081\u001b[0m | \u001b[1mINFO    \u001b[0m | \u001b[36mdeimkit.trainer\u001b[0m:\u001b[36m_save_checkpoint\u001b[0m:\u001b[36m364\u001b[0m - \u001b[1mSaving checkpoint to outputs/deim_hgnetv2_s_80e/checkpoint0019.pth\u001b[0m\n"
     ]
    },
    {
     "name": "stdout",
     "output_type": "stream",
     "text": [
      "Averaged stats: lr: 0.000200  loss: 26.5100 (26.6252)  loss_mal: 0.9663 (1.0538)  loss_bbox: 0.3567 (0.3544)  loss_giou: 0.9096 (0.8495)  loss_fgl: 1.0489 (1.0828)  loss_mal_aux_0: 0.9448 (1.0147)  loss_bbox_aux_0: 0.3528 (0.3553)  loss_giou_aux_0: 0.9149 (0.8508)  loss_fgl_aux_0: 1.0503 (1.0871)  loss_ddf_aux_0: 0.0365 (0.0398)  loss_mal_aux_1: 0.9438 (1.0307)  loss_bbox_aux_1: 0.3543 (0.3543)  loss_giou_aux_1: 0.9129 (0.8496)  loss_fgl_aux_1: 1.0520 (1.0858)  loss_ddf_aux_1: 0.0140 (0.0167)  loss_mal_pre: 0.9448 (1.0144)  loss_bbox_pre: 0.3514 (0.3532)  loss_giou_pre: 0.9077 (0.8474)  loss_mal_enc_0: 0.9917 (0.9960)  loss_bbox_enc_0: 0.3619 (0.3740)  loss_giou_enc_0: 0.9442 (0.9020)  loss_mal_dn_0: 0.7085 (0.7086)  loss_bbox_dn_0: 0.4486 (0.4512)  loss_giou_dn_0: 1.1878 (1.1679)  loss_fgl_dn_0: 0.9421 (0.9465)  loss_ddf_dn_0: 0.0748 (0.0735)  loss_mal_dn_1: 0.7046 (0.7127)  loss_bbox_dn_1: 0.4412 (0.4399)  loss_giou_dn_1: 1.1379 (1.1006)  loss_fgl_dn_1: 0.9578 (0.9688)  loss_ddf_dn_1: 0.0231 (0.0227)  loss_mal_dn_2: 0.7134 (0.7179)  loss_bbox_dn_2: 0.4392 (0.4325)  loss_giou_dn_2: 1.1119 (1.0589)  loss_fgl_dn_2: 0.9691 (0.9836)  loss_mal_dn_pre: 0.7046 (0.7059)  loss_bbox_dn_pre: 0.4474 (0.4505)  loss_giou_dn_pre: 1.1884 (1.1713)\n"
     ]
    },
    {
     "name": "stderr",
     "output_type": "stream",
     "text": [
      "\u001b[32m2025-03-10 18:17:29.378\u001b[0m | \u001b[1mINFO    \u001b[0m | \u001b[36mdeimkit.trainer\u001b[0m:\u001b[36m_save_checkpoint\u001b[0m:\u001b[36m381\u001b[0m - \u001b[1mCheckpoint saved to outputs/deim_hgnetv2_s_80e/checkpoint0019.pth\u001b[0m\n",
      "\u001b[32m2025-03-10 18:17:29.379\u001b[0m | \u001b[1mINFO    \u001b[0m | \u001b[36mdeimkit.trainer\u001b[0m:\u001b[36mevaluate\u001b[0m:\u001b[36m332\u001b[0m - \u001b[1mEvaluating model...\u001b[0m\n",
      "Evaluating: 100%|██████████| 5/5 [00:01<00:00,  3.79it/s]\n",
      "\u001b[32m2025-03-10 18:17:30.723\u001b[0m | \u001b[1mINFO    \u001b[0m | \u001b[36mdeimkit.trainer\u001b[0m:\u001b[36m_save_checkpoint\u001b[0m:\u001b[36m364\u001b[0m - \u001b[1mSaving checkpoint to outputs/deim_hgnetv2_s_80e/best.pth\u001b[0m\n"
     ]
    },
    {
     "name": "stdout",
     "output_type": "stream",
     "text": [
      "Averaged stats: \n",
      "Accumulating evaluation results...\n",
      "COCOeval_opt.accumulate() finished...\n",
      "DONE (t=0.02s).\n",
      "IoU metric: bbox\n",
      " Average Precision  (AP) @[ IoU=0.50:0.95 | area=   all | maxDets=100 ] = 0.288\n",
      " Average Precision  (AP) @[ IoU=0.50      | area=   all | maxDets=100 ] = 0.473\n",
      " Average Precision  (AP) @[ IoU=0.75      | area=   all | maxDets=100 ] = 0.326\n",
      " Average Precision  (AP) @[ IoU=0.50:0.95 | area= small | maxDets=100 ] = 0.032\n",
      " Average Precision  (AP) @[ IoU=0.50:0.95 | area=medium | maxDets=100 ] = 0.497\n",
      " Average Precision  (AP) @[ IoU=0.50:0.95 | area= large | maxDets=100 ] = 0.231\n",
      " Average Recall     (AR) @[ IoU=0.50:0.95 | area=   all | maxDets=  1 ] = 0.301\n",
      " Average Recall     (AR) @[ IoU=0.50:0.95 | area=   all | maxDets= 10 ] = 0.533\n",
      " Average Recall     (AR) @[ IoU=0.50:0.95 | area=   all | maxDets=100 ] = 0.680\n",
      " Average Recall     (AR) @[ IoU=0.50:0.95 | area= small | maxDets=100 ] = 0.460\n",
      " Average Recall     (AR) @[ IoU=0.50:0.95 | area=medium | maxDets=100 ] = 0.723\n",
      " Average Recall     (AR) @[ IoU=0.50:0.95 | area= large | maxDets=100 ] = 0.488\n",
      " Average Recall     (AR) @[ IoU=0.50      | area=   all | maxDets=100 ] = 0.974\n",
      " Average Recall     (AR) @[ IoU=0.75      | area=   all | maxDets=100 ] = 0.780\n"
     ]
    },
    {
     "name": "stderr",
     "output_type": "stream",
     "text": [
      "\u001b[32m2025-03-10 18:17:31.273\u001b[0m | \u001b[1mINFO    \u001b[0m | \u001b[36mdeimkit.trainer\u001b[0m:\u001b[36m_save_checkpoint\u001b[0m:\u001b[36m381\u001b[0m - \u001b[1mCheckpoint saved to outputs/deim_hgnetv2_s_80e/best.pth\u001b[0m\n",
      "\u001b[32m2025-03-10 18:17:31.275\u001b[0m | \u001b[1mINFO    \u001b[0m | \u001b[36mdeimkit.trainer\u001b[0m:\u001b[36mtrain\u001b[0m:\u001b[36m313\u001b[0m - \u001b[1mEpoch 19 - Train loss: 26.6252, Eval mAP: 0.2882\u001b[0m\n",
      "\u001b[32m2025-03-10 18:17:31.276\u001b[0m | \u001b[1mINFO    \u001b[0m | \u001b[36mdeimkit.trainer\u001b[0m:\u001b[36mtrain\u001b[0m:\u001b[36m316\u001b[0m - \u001b[1mBest stats: {'epoch': 19, 'coco_eval_bbox': 0.28816674665832376}\u001b[0m\n",
      "\u001b[32m2025-03-10 18:17:31.276\u001b[0m | \u001b[1mINFO    \u001b[0m | \u001b[36mdeimkit.trainer\u001b[0m:\u001b[36mtrain\u001b[0m:\u001b[36m224\u001b[0m - \u001b[1mEpoch 20/80\u001b[0m\n",
      "Epoch 20: 100%|██████████| 15/15 [00:08<00:00,  1.70it/s, loss=26.2546]\n",
      "\u001b[32m2025-03-10 18:17:40.127\u001b[0m | \u001b[1mINFO    \u001b[0m | \u001b[36mdeimkit.trainer\u001b[0m:\u001b[36mevaluate\u001b[0m:\u001b[36m332\u001b[0m - \u001b[1mEvaluating model...\u001b[0m\n"
     ]
    },
    {
     "name": "stdout",
     "output_type": "stream",
     "text": [
      "Averaged stats: lr: 0.000200  loss: 26.2546 (26.0918)  loss_mal: 1.0791 (1.0354)  loss_bbox: 0.2976 (0.3227)  loss_giou: 0.6921 (0.7827)  loss_fgl: 1.1317 (1.0937)  loss_mal_aux_0: 1.0498 (1.0267)  loss_bbox_aux_0: 0.3021 (0.3260)  loss_giou_aux_0: 0.7138 (0.7919)  loss_fgl_aux_0: 1.1352 (1.0977)  loss_ddf_aux_0: 0.0517 (0.0561)  loss_mal_aux_1: 1.0498 (1.0274)  loss_bbox_aux_1: 0.2978 (0.3226)  loss_giou_aux_1: 0.6949 (0.7832)  loss_fgl_aux_1: 1.1330 (1.0945)  loss_ddf_aux_1: 0.0121 (0.0142)  loss_mal_pre: 1.0488 (1.0254)  loss_bbox_pre: 0.3029 (0.3251)  loss_giou_pre: 0.7134 (0.7915)  loss_mal_enc_0: 0.9976 (1.0131)  loss_bbox_enc_0: 0.3475 (0.3537)  loss_giou_enc_0: 0.7947 (0.8569)  loss_mal_dn_0: 0.7217 (0.7223)  loss_bbox_dn_0: 0.4297 (0.4350)  loss_giou_dn_0: 1.0781 (1.1043)  loss_fgl_dn_0: 1.0135 (0.9890)  loss_ddf_dn_0: 0.1310 (0.1280)  loss_mal_dn_1: 0.7583 (0.7491)  loss_bbox_dn_1: 0.3871 (0.3995)  loss_giou_dn_1: 0.9643 (0.9997)  loss_fgl_dn_1: 1.0490 (1.0197)  loss_ddf_dn_1: 0.0241 (0.0268)  loss_mal_dn_2: 0.7456 (0.7442)  loss_bbox_dn_2: 0.3750 (0.3834)  loss_giou_dn_2: 0.9011 (0.9567)  loss_fgl_dn_2: 1.0728 (1.0331)  loss_mal_dn_pre: 0.7197 (0.7196)  loss_bbox_dn_pre: 0.4309 (0.4327)  loss_giou_dn_pre: 1.0763 (1.1082)\n"
     ]
    },
    {
     "name": "stderr",
     "output_type": "stream",
     "text": [
      "Evaluating: 100%|██████████| 5/5 [00:01<00:00,  3.91it/s]\n",
      "\u001b[32m2025-03-10 18:17:41.438\u001b[0m | \u001b[1mINFO    \u001b[0m | \u001b[36mdeimkit.trainer\u001b[0m:\u001b[36m_save_checkpoint\u001b[0m:\u001b[36m364\u001b[0m - \u001b[1mSaving checkpoint to outputs/deim_hgnetv2_s_80e/best.pth\u001b[0m\n"
     ]
    },
    {
     "name": "stdout",
     "output_type": "stream",
     "text": [
      "Averaged stats: \n",
      "Accumulating evaluation results...\n",
      "COCOeval_opt.accumulate() finished...\n",
      "DONE (t=0.02s).\n",
      "IoU metric: bbox\n",
      " Average Precision  (AP) @[ IoU=0.50:0.95 | area=   all | maxDets=100 ] = 0.391\n",
      " Average Precision  (AP) @[ IoU=0.50      | area=   all | maxDets=100 ] = 0.612\n",
      " Average Precision  (AP) @[ IoU=0.75      | area=   all | maxDets=100 ] = 0.457\n",
      " Average Precision  (AP) @[ IoU=0.50:0.95 | area= small | maxDets=100 ] = 0.118\n",
      " Average Precision  (AP) @[ IoU=0.50:0.95 | area=medium | maxDets=100 ] = 0.514\n",
      " Average Precision  (AP) @[ IoU=0.50:0.95 | area= large | maxDets=100 ] = 0.289\n",
      " Average Recall     (AR) @[ IoU=0.50:0.95 | area=   all | maxDets=  1 ] = 0.343\n",
      " Average Recall     (AR) @[ IoU=0.50:0.95 | area=   all | maxDets= 10 ] = 0.598\n",
      " Average Recall     (AR) @[ IoU=0.50:0.95 | area=   all | maxDets=100 ] = 0.730\n",
      " Average Recall     (AR) @[ IoU=0.50:0.95 | area= small | maxDets=100 ] = 0.500\n",
      " Average Recall     (AR) @[ IoU=0.50:0.95 | area=medium | maxDets=100 ] = 0.704\n",
      " Average Recall     (AR) @[ IoU=0.50:0.95 | area= large | maxDets=100 ] = 0.722\n",
      " Average Recall     (AR) @[ IoU=0.50      | area=   all | maxDets=100 ] = 0.992\n",
      " Average Recall     (AR) @[ IoU=0.75      | area=   all | maxDets=100 ] = 0.861\n"
     ]
    },
    {
     "name": "stderr",
     "output_type": "stream",
     "text": [
      "\u001b[32m2025-03-10 18:17:41.902\u001b[0m | \u001b[1mINFO    \u001b[0m | \u001b[36mdeimkit.trainer\u001b[0m:\u001b[36m_save_checkpoint\u001b[0m:\u001b[36m381\u001b[0m - \u001b[1mCheckpoint saved to outputs/deim_hgnetv2_s_80e/best.pth\u001b[0m\n",
      "\u001b[32m2025-03-10 18:17:41.905\u001b[0m | \u001b[1mINFO    \u001b[0m | \u001b[36mdeimkit.trainer\u001b[0m:\u001b[36mtrain\u001b[0m:\u001b[36m313\u001b[0m - \u001b[1mEpoch 20 - Train loss: 26.0918, Eval mAP: 0.3908\u001b[0m\n",
      "\u001b[32m2025-03-10 18:17:41.905\u001b[0m | \u001b[1mINFO    \u001b[0m | \u001b[36mdeimkit.trainer\u001b[0m:\u001b[36mtrain\u001b[0m:\u001b[36m316\u001b[0m - \u001b[1mBest stats: {'epoch': 20, 'coco_eval_bbox': 0.39080323602671047}\u001b[0m\n",
      "\u001b[32m2025-03-10 18:17:41.906\u001b[0m | \u001b[1mINFO    \u001b[0m | \u001b[36mdeimkit.trainer\u001b[0m:\u001b[36mtrain\u001b[0m:\u001b[36m224\u001b[0m - \u001b[1mEpoch 21/80\u001b[0m\n",
      "Epoch 21: 100%|██████████| 15/15 [00:08<00:00,  1.72it/s, loss=24.3991]\n",
      "\u001b[32m2025-03-10 18:17:50.635\u001b[0m | \u001b[1mINFO    \u001b[0m | \u001b[36mdeimkit.trainer\u001b[0m:\u001b[36mevaluate\u001b[0m:\u001b[36m332\u001b[0m - \u001b[1mEvaluating model...\u001b[0m\n"
     ]
    },
    {
     "name": "stdout",
     "output_type": "stream",
     "text": [
      "Averaged stats: lr: 0.000200  loss: 25.6555 (25.5633)  loss_mal: 1.0000 (1.0242)  loss_bbox: 0.2367 (0.2771)  loss_giou: 0.7138 (0.7702)  loss_fgl: 1.1308 (1.1109)  loss_mal_aux_0: 0.9819 (1.0060)  loss_bbox_aux_0: 0.2468 (0.2799)  loss_giou_aux_0: 0.7273 (0.7779)  loss_fgl_aux_0: 1.1354 (1.1150)  loss_ddf_aux_0: 0.0734 (0.0746)  loss_mal_aux_1: 0.9961 (1.0183)  loss_bbox_aux_1: 0.2396 (0.2757)  loss_giou_aux_1: 0.7211 (0.7696)  loss_fgl_aux_1: 1.1322 (1.1115)  loss_ddf_aux_1: 0.0104 (0.0118)  loss_mal_pre: 0.9829 (1.0046)  loss_bbox_pre: 0.2455 (0.2790)  loss_giou_pre: 0.7269 (0.7773)  loss_mal_enc_0: 0.9976 (0.9810)  loss_bbox_enc_0: 0.2743 (0.3055)  loss_giou_enc_0: 0.7819 (0.8393)  loss_mal_dn_0: 0.7227 (0.7255)  loss_bbox_dn_0: 0.3612 (0.3697)  loss_giou_dn_0: 1.0709 (1.0827)  loss_fgl_dn_0: 1.0090 (1.0038)  loss_ddf_dn_0: 0.1944 (0.2041)  loss_mal_dn_1: 0.7632 (0.7659)  loss_bbox_dn_1: 0.3130 (0.3362)  loss_giou_dn_1: 0.9532 (0.9665)  loss_fgl_dn_1: 1.0399 (1.0315)  loss_ddf_dn_1: 0.0297 (0.0304)  loss_mal_dn_2: 0.7583 (0.7590)  loss_bbox_dn_2: 0.2961 (0.3283)  loss_giou_dn_2: 0.9057 (0.9314)  loss_fgl_dn_2: 1.0490 (1.0419)  loss_mal_dn_pre: 0.7212 (0.7239)  loss_bbox_dn_pre: 0.3620 (0.3689)  loss_giou_dn_pre: 1.0734 (1.0843)\n"
     ]
    },
    {
     "name": "stderr",
     "output_type": "stream",
     "text": [
      "Evaluating: 100%|██████████| 5/5 [00:01<00:00,  3.91it/s]\n",
      "\u001b[32m2025-03-10 18:17:51.947\u001b[0m | \u001b[1mINFO    \u001b[0m | \u001b[36mdeimkit.trainer\u001b[0m:\u001b[36mtrain\u001b[0m:\u001b[36m313\u001b[0m - \u001b[1mEpoch 21 - Train loss: 25.5633, Eval mAP: 0.2769\u001b[0m\n",
      "\u001b[32m2025-03-10 18:17:51.947\u001b[0m | \u001b[1mINFO    \u001b[0m | \u001b[36mdeimkit.trainer\u001b[0m:\u001b[36mtrain\u001b[0m:\u001b[36m316\u001b[0m - \u001b[1mBest stats: {'epoch': 20, 'coco_eval_bbox': 0.39080323602671047}\u001b[0m\n",
      "\u001b[32m2025-03-10 18:17:51.947\u001b[0m | \u001b[1mINFO    \u001b[0m | \u001b[36mdeimkit.trainer\u001b[0m:\u001b[36mtrain\u001b[0m:\u001b[36m224\u001b[0m - \u001b[1mEpoch 22/80\u001b[0m\n"
     ]
    },
    {
     "name": "stdout",
     "output_type": "stream",
     "text": [
      "Averaged stats: \n",
      "Accumulating evaluation results...\n",
      "COCOeval_opt.accumulate() finished...\n",
      "DONE (t=0.02s).\n",
      "IoU metric: bbox\n",
      " Average Precision  (AP) @[ IoU=0.50:0.95 | area=   all | maxDets=100 ] = 0.277\n",
      " Average Precision  (AP) @[ IoU=0.50      | area=   all | maxDets=100 ] = 0.475\n",
      " Average Precision  (AP) @[ IoU=0.75      | area=   all | maxDets=100 ] = 0.304\n",
      " Average Precision  (AP) @[ IoU=0.50:0.95 | area= small | maxDets=100 ] = 0.014\n",
      " Average Precision  (AP) @[ IoU=0.50:0.95 | area=medium | maxDets=100 ] = 0.416\n",
      " Average Precision  (AP) @[ IoU=0.50:0.95 | area= large | maxDets=100 ] = 0.228\n",
      " Average Recall     (AR) @[ IoU=0.50:0.95 | area=   all | maxDets=  1 ] = 0.287\n",
      " Average Recall     (AR) @[ IoU=0.50:0.95 | area=   all | maxDets= 10 ] = 0.530\n",
      " Average Recall     (AR) @[ IoU=0.50:0.95 | area=   all | maxDets=100 ] = 0.684\n",
      " Average Recall     (AR) @[ IoU=0.50:0.95 | area= small | maxDets=100 ] = 0.500\n",
      " Average Recall     (AR) @[ IoU=0.50:0.95 | area=medium | maxDets=100 ] = 0.645\n",
      " Average Recall     (AR) @[ IoU=0.50:0.95 | area= large | maxDets=100 ] = 0.482\n",
      " Average Recall     (AR) @[ IoU=0.50      | area=   all | maxDets=100 ] = 0.978\n",
      " Average Recall     (AR) @[ IoU=0.75      | area=   all | maxDets=100 ] = 0.836\n"
     ]
    },
    {
     "name": "stderr",
     "output_type": "stream",
     "text": [
      "Epoch 22: 100%|██████████| 15/15 [00:08<00:00,  1.74it/s, loss=25.4786]\n",
      "\u001b[32m2025-03-10 18:18:00.602\u001b[0m | \u001b[1mINFO    \u001b[0m | \u001b[36mdeimkit.trainer\u001b[0m:\u001b[36mevaluate\u001b[0m:\u001b[36m332\u001b[0m - \u001b[1mEvaluating model...\u001b[0m\n"
     ]
    },
    {
     "name": "stdout",
     "output_type": "stream",
     "text": [
      "Averaged stats: lr: 0.000200  loss: 25.7973 (25.6136)  loss_mal: 0.9956 (0.9940)  loss_bbox: 0.3024 (0.2983)  loss_giou: 0.7411 (0.7281)  loss_fgl: 1.1481 (1.1289)  loss_mal_aux_0: 0.9683 (0.9962)  loss_bbox_aux_0: 0.3007 (0.3065)  loss_giou_aux_0: 0.7429 (0.7459)  loss_fgl_aux_0: 1.1605 (1.1358)  loss_ddf_aux_0: 0.0652 (0.0866)  loss_mal_aux_1: 0.9673 (0.9981)  loss_bbox_aux_1: 0.2924 (0.2981)  loss_giou_aux_1: 0.7441 (0.7300)  loss_fgl_aux_1: 1.1506 (1.1298)  loss_ddf_aux_1: 0.0093 (0.0136)  loss_mal_pre: 0.9722 (0.9953)  loss_bbox_pre: 0.2975 (0.3042)  loss_giou_pre: 0.7306 (0.7425)  loss_mal_enc_0: 0.9966 (0.9967)  loss_bbox_enc_0: 0.3246 (0.3294)  loss_giou_enc_0: 0.8112 (0.7973)  loss_mal_dn_0: 0.7510 (0.7392)  loss_bbox_dn_0: 0.4032 (0.4082)  loss_giou_dn_0: 1.0097 (1.0328)  loss_fgl_dn_0: 1.0584 (1.0358)  loss_ddf_dn_0: 0.2092 (0.2309)  loss_mal_dn_1: 0.7817 (0.7765)  loss_bbox_dn_1: 0.3528 (0.3680)  loss_giou_dn_1: 0.8615 (0.9130)  loss_fgl_dn_1: 1.0865 (1.0627)  loss_ddf_dn_1: 0.0341 (0.0343)  loss_mal_dn_2: 0.7690 (0.7714)  loss_bbox_dn_2: 0.3411 (0.3584)  loss_giou_dn_2: 0.8293 (0.8749)  loss_fgl_dn_2: 1.0853 (1.0727)  loss_mal_dn_pre: 0.7490 (0.7367)  loss_bbox_dn_pre: 0.4033 (0.4065)  loss_giou_dn_pre: 1.0088 (1.0362)\n"
     ]
    },
    {
     "name": "stderr",
     "output_type": "stream",
     "text": [
      "Evaluating: 100%|██████████| 5/5 [00:01<00:00,  3.93it/s]\n",
      "\u001b[32m2025-03-10 18:18:01.905\u001b[0m | \u001b[1mINFO    \u001b[0m | \u001b[36mdeimkit.trainer\u001b[0m:\u001b[36mtrain\u001b[0m:\u001b[36m313\u001b[0m - \u001b[1mEpoch 22 - Train loss: 25.6136, Eval mAP: 0.3661\u001b[0m\n",
      "\u001b[32m2025-03-10 18:18:01.905\u001b[0m | \u001b[1mINFO    \u001b[0m | \u001b[36mdeimkit.trainer\u001b[0m:\u001b[36mtrain\u001b[0m:\u001b[36m316\u001b[0m - \u001b[1mBest stats: {'epoch': 20, 'coco_eval_bbox': 0.39080323602671047}\u001b[0m\n",
      "\u001b[32m2025-03-10 18:18:01.906\u001b[0m | \u001b[1mINFO    \u001b[0m | \u001b[36mdeimkit.trainer\u001b[0m:\u001b[36mtrain\u001b[0m:\u001b[36m224\u001b[0m - \u001b[1mEpoch 23/80\u001b[0m\n"
     ]
    },
    {
     "name": "stdout",
     "output_type": "stream",
     "text": [
      "Averaged stats: \n",
      "Accumulating evaluation results...\n",
      "COCOeval_opt.accumulate() finished...\n",
      "DONE (t=0.02s).\n",
      "IoU metric: bbox\n",
      " Average Precision  (AP) @[ IoU=0.50:0.95 | area=   all | maxDets=100 ] = 0.366\n",
      " Average Precision  (AP) @[ IoU=0.50      | area=   all | maxDets=100 ] = 0.567\n",
      " Average Precision  (AP) @[ IoU=0.75      | area=   all | maxDets=100 ] = 0.424\n",
      " Average Precision  (AP) @[ IoU=0.50:0.95 | area= small | maxDets=100 ] = 0.046\n",
      " Average Precision  (AP) @[ IoU=0.50:0.95 | area=medium | maxDets=100 ] = 0.500\n",
      " Average Precision  (AP) @[ IoU=0.50:0.95 | area= large | maxDets=100 ] = 0.318\n",
      " Average Recall     (AR) @[ IoU=0.50:0.95 | area=   all | maxDets=  1 ] = 0.309\n",
      " Average Recall     (AR) @[ IoU=0.50:0.95 | area=   all | maxDets= 10 ] = 0.595\n",
      " Average Recall     (AR) @[ IoU=0.50:0.95 | area=   all | maxDets=100 ] = 0.722\n",
      " Average Recall     (AR) @[ IoU=0.50:0.95 | area= small | maxDets=100 ] = 0.600\n",
      " Average Recall     (AR) @[ IoU=0.50:0.95 | area=medium | maxDets=100 ] = 0.689\n",
      " Average Recall     (AR) @[ IoU=0.50:0.95 | area= large | maxDets=100 ] = 0.521\n",
      " Average Recall     (AR) @[ IoU=0.50      | area=   all | maxDets=100 ] = 0.988\n",
      " Average Recall     (AR) @[ IoU=0.75      | area=   all | maxDets=100 ] = 0.866\n"
     ]
    },
    {
     "name": "stderr",
     "output_type": "stream",
     "text": [
      "Epoch 23: 100%|██████████| 15/15 [00:08<00:00,  1.74it/s, loss=25.9643]\n",
      "\u001b[32m2025-03-10 18:18:10.559\u001b[0m | \u001b[1mINFO    \u001b[0m | \u001b[36mdeimkit.trainer\u001b[0m:\u001b[36m_save_checkpoint\u001b[0m:\u001b[36m364\u001b[0m - \u001b[1mSaving checkpoint to outputs/deim_hgnetv2_s_80e/checkpoint0023.pth\u001b[0m\n"
     ]
    },
    {
     "name": "stdout",
     "output_type": "stream",
     "text": [
      "Averaged stats: lr: 0.000200  loss: 25.5991 (25.6036)  loss_mal: 0.9863 (1.0253)  loss_bbox: 0.3065 (0.2975)  loss_giou: 0.6581 (0.7335)  loss_fgl: 1.1500 (1.1209)  loss_mal_aux_0: 1.0107 (1.0073)  loss_bbox_aux_0: 0.3178 (0.3035)  loss_giou_aux_0: 0.6898 (0.7482)  loss_fgl_aux_0: 1.1555 (1.1246)  loss_ddf_aux_0: 0.0716 (0.0784)  loss_mal_aux_1: 1.0352 (1.0005)  loss_bbox_aux_1: 0.3099 (0.2970)  loss_giou_aux_1: 0.6634 (0.7352)  loss_fgl_aux_1: 1.1517 (1.1203)  loss_ddf_aux_1: 0.0110 (0.0100)  loss_mal_pre: 1.0059 (1.0059)  loss_bbox_pre: 0.3134 (0.3018)  loss_giou_pre: 0.6846 (0.7455)  loss_mal_enc_0: 1.0244 (1.0047)  loss_bbox_enc_0: 0.3309 (0.3273)  loss_giou_enc_0: 0.7672 (0.7976)  loss_mal_dn_0: 0.7612 (0.7536)  loss_bbox_dn_0: 0.4071 (0.4018)  loss_giou_dn_0: 0.9743 (1.0188)  loss_fgl_dn_0: 1.0712 (1.0473)  loss_ddf_dn_0: 0.2224 (0.2317)  loss_mal_dn_1: 0.7920 (0.7810)  loss_bbox_dn_1: 0.3613 (0.3568)  loss_giou_dn_1: 0.8461 (0.8969)  loss_fgl_dn_1: 1.0995 (1.0680)  loss_ddf_dn_1: 0.0338 (0.0329)  loss_mal_dn_2: 0.7856 (0.7773)  loss_bbox_dn_2: 0.3505 (0.3446)  loss_giou_dn_2: 0.8026 (0.8578)  loss_fgl_dn_2: 1.1079 (1.0786)  loss_mal_dn_pre: 0.7603 (0.7515)  loss_bbox_dn_pre: 0.4009 (0.3990)  loss_giou_dn_pre: 0.9788 (1.0211)\n"
     ]
    },
    {
     "name": "stderr",
     "output_type": "stream",
     "text": [
      "\u001b[32m2025-03-10 18:18:10.821\u001b[0m | \u001b[1mINFO    \u001b[0m | \u001b[36mdeimkit.trainer\u001b[0m:\u001b[36m_save_checkpoint\u001b[0m:\u001b[36m381\u001b[0m - \u001b[1mCheckpoint saved to outputs/deim_hgnetv2_s_80e/checkpoint0023.pth\u001b[0m\n",
      "\u001b[32m2025-03-10 18:18:10.823\u001b[0m | \u001b[1mINFO    \u001b[0m | \u001b[36mdeimkit.trainer\u001b[0m:\u001b[36mevaluate\u001b[0m:\u001b[36m332\u001b[0m - \u001b[1mEvaluating model...\u001b[0m\n",
      "Evaluating: 100%|██████████| 5/5 [00:01<00:00,  3.91it/s]\n",
      "\u001b[32m2025-03-10 18:18:12.132\u001b[0m | \u001b[1mINFO    \u001b[0m | \u001b[36mdeimkit.trainer\u001b[0m:\u001b[36m_save_checkpoint\u001b[0m:\u001b[36m364\u001b[0m - \u001b[1mSaving checkpoint to outputs/deim_hgnetv2_s_80e/best.pth\u001b[0m\n"
     ]
    },
    {
     "name": "stdout",
     "output_type": "stream",
     "text": [
      "Averaged stats: \n",
      "Accumulating evaluation results...\n",
      "COCOeval_opt.accumulate() finished...\n",
      "DONE (t=0.02s).\n",
      "IoU metric: bbox\n",
      " Average Precision  (AP) @[ IoU=0.50:0.95 | area=   all | maxDets=100 ] = 0.427\n",
      " Average Precision  (AP) @[ IoU=0.50      | area=   all | maxDets=100 ] = 0.658\n",
      " Average Precision  (AP) @[ IoU=0.75      | area=   all | maxDets=100 ] = 0.519\n",
      " Average Precision  (AP) @[ IoU=0.50:0.95 | area= small | maxDets=100 ] = 0.382\n",
      " Average Precision  (AP) @[ IoU=0.50:0.95 | area=medium | maxDets=100 ] = 0.566\n",
      " Average Precision  (AP) @[ IoU=0.50:0.95 | area= large | maxDets=100 ] = 0.312\n",
      " Average Recall     (AR) @[ IoU=0.50:0.95 | area=   all | maxDets=  1 ] = 0.342\n",
      " Average Recall     (AR) @[ IoU=0.50:0.95 | area=   all | maxDets= 10 ] = 0.604\n",
      " Average Recall     (AR) @[ IoU=0.50:0.95 | area=   all | maxDets=100 ] = 0.723\n",
      " Average Recall     (AR) @[ IoU=0.50:0.95 | area= small | maxDets=100 ] = 0.600\n",
      " Average Recall     (AR) @[ IoU=0.50:0.95 | area=medium | maxDets=100 ] = 0.744\n",
      " Average Recall     (AR) @[ IoU=0.50:0.95 | area= large | maxDets=100 ] = 0.510\n",
      " Average Recall     (AR) @[ IoU=0.50      | area=   all | maxDets=100 ] = 0.988\n",
      " Average Recall     (AR) @[ IoU=0.75      | area=   all | maxDets=100 ] = 0.875\n"
     ]
    },
    {
     "name": "stderr",
     "output_type": "stream",
     "text": [
      "\u001b[32m2025-03-10 18:18:12.602\u001b[0m | \u001b[1mINFO    \u001b[0m | \u001b[36mdeimkit.trainer\u001b[0m:\u001b[36m_save_checkpoint\u001b[0m:\u001b[36m381\u001b[0m - \u001b[1mCheckpoint saved to outputs/deim_hgnetv2_s_80e/best.pth\u001b[0m\n",
      "\u001b[32m2025-03-10 18:18:12.604\u001b[0m | \u001b[1mINFO    \u001b[0m | \u001b[36mdeimkit.trainer\u001b[0m:\u001b[36mtrain\u001b[0m:\u001b[36m313\u001b[0m - \u001b[1mEpoch 23 - Train loss: 25.6036, Eval mAP: 0.4266\u001b[0m\n",
      "\u001b[32m2025-03-10 18:18:12.604\u001b[0m | \u001b[1mINFO    \u001b[0m | \u001b[36mdeimkit.trainer\u001b[0m:\u001b[36mtrain\u001b[0m:\u001b[36m316\u001b[0m - \u001b[1mBest stats: {'epoch': 23, 'coco_eval_bbox': 0.426618443062174}\u001b[0m\n",
      "\u001b[32m2025-03-10 18:18:12.604\u001b[0m | \u001b[1mINFO    \u001b[0m | \u001b[36mdeimkit.trainer\u001b[0m:\u001b[36mtrain\u001b[0m:\u001b[36m224\u001b[0m - \u001b[1mEpoch 24/80\u001b[0m\n",
      "Epoch 24: 100%|██████████| 15/15 [00:08<00:00,  1.68it/s, loss=26.5751]\n",
      "\u001b[32m2025-03-10 18:18:21.551\u001b[0m | \u001b[1mINFO    \u001b[0m | \u001b[36mdeimkit.trainer\u001b[0m:\u001b[36mevaluate\u001b[0m:\u001b[36m332\u001b[0m - \u001b[1mEvaluating model...\u001b[0m\n"
     ]
    },
    {
     "name": "stdout",
     "output_type": "stream",
     "text": [
      "Averaged stats: lr: 0.000200  loss: 25.7926 (25.7650)  loss_mal: 0.9414 (1.0044)  loss_bbox: 0.3322 (0.3117)  loss_giou: 0.7909 (0.7613)  loss_fgl: 1.0971 (1.1135)  loss_mal_aux_0: 0.9717 (1.0070)  loss_bbox_aux_0: 0.3428 (0.3198)  loss_giou_aux_0: 0.8013 (0.7835)  loss_fgl_aux_0: 1.1052 (1.1199)  loss_ddf_aux_0: 0.0694 (0.0756)  loss_mal_aux_1: 0.9463 (0.9893)  loss_bbox_aux_1: 0.3387 (0.3118)  loss_giou_aux_1: 0.7927 (0.7643)  loss_fgl_aux_1: 1.0996 (1.1140)  loss_ddf_aux_1: 0.0109 (0.0099)  loss_mal_pre: 0.9697 (1.0055)  loss_bbox_pre: 0.3429 (0.3189)  loss_giou_pre: 0.8004 (0.7823)  loss_mal_enc_0: 0.9634 (1.0167)  loss_bbox_enc_0: 0.3697 (0.3508)  loss_giou_enc_0: 0.8712 (0.8501)  loss_mal_dn_0: 0.7520 (0.7497)  loss_bbox_dn_0: 0.3931 (0.3911)  loss_giou_dn_0: 1.0287 (1.0146)  loss_fgl_dn_0: 1.0403 (1.0416)  loss_ddf_dn_0: 0.2573 (0.2650)  loss_mal_dn_1: 0.7695 (0.7734)  loss_bbox_dn_1: 0.3550 (0.3486)  loss_giou_dn_1: 0.9083 (0.8865)  loss_fgl_dn_1: 1.0638 (1.0623)  loss_ddf_dn_1: 0.0345 (0.0341)  loss_mal_dn_2: 0.7739 (0.7742)  loss_bbox_dn_2: 0.3413 (0.3399)  loss_giou_dn_2: 0.8694 (0.8503)  loss_fgl_dn_2: 1.0731 (1.0693)  loss_mal_dn_pre: 0.7510 (0.7473)  loss_bbox_dn_pre: 0.3889 (0.3891)  loss_giou_dn_pre: 1.0275 (1.0176)\n"
     ]
    },
    {
     "name": "stderr",
     "output_type": "stream",
     "text": [
      "Evaluating: 100%|██████████| 5/5 [00:01<00:00,  3.75it/s]\n",
      "\u001b[32m2025-03-10 18:18:22.914\u001b[0m | \u001b[1mINFO    \u001b[0m | \u001b[36mdeimkit.trainer\u001b[0m:\u001b[36mtrain\u001b[0m:\u001b[36m313\u001b[0m - \u001b[1mEpoch 24 - Train loss: 25.7650, Eval mAP: 0.4135\u001b[0m\n",
      "\u001b[32m2025-03-10 18:18:22.914\u001b[0m | \u001b[1mINFO    \u001b[0m | \u001b[36mdeimkit.trainer\u001b[0m:\u001b[36mtrain\u001b[0m:\u001b[36m316\u001b[0m - \u001b[1mBest stats: {'epoch': 23, 'coco_eval_bbox': 0.426618443062174}\u001b[0m\n",
      "\u001b[32m2025-03-10 18:18:22.915\u001b[0m | \u001b[1mINFO    \u001b[0m | \u001b[36mdeimkit.trainer\u001b[0m:\u001b[36mtrain\u001b[0m:\u001b[36m224\u001b[0m - \u001b[1mEpoch 25/80\u001b[0m\n"
     ]
    },
    {
     "name": "stdout",
     "output_type": "stream",
     "text": [
      "Averaged stats: \n",
      "Accumulating evaluation results...\n",
      "COCOeval_opt.accumulate() finished...\n",
      "DONE (t=0.02s).\n",
      "IoU metric: bbox\n",
      " Average Precision  (AP) @[ IoU=0.50:0.95 | area=   all | maxDets=100 ] = 0.413\n",
      " Average Precision  (AP) @[ IoU=0.50      | area=   all | maxDets=100 ] = 0.661\n",
      " Average Precision  (AP) @[ IoU=0.75      | area=   all | maxDets=100 ] = 0.476\n",
      " Average Precision  (AP) @[ IoU=0.50:0.95 | area= small | maxDets=100 ] = 0.354\n",
      " Average Precision  (AP) @[ IoU=0.50:0.95 | area=medium | maxDets=100 ] = 0.320\n",
      " Average Precision  (AP) @[ IoU=0.50:0.95 | area= large | maxDets=100 ] = 0.320\n",
      " Average Recall     (AR) @[ IoU=0.50:0.95 | area=   all | maxDets=  1 ] = 0.341\n",
      " Average Recall     (AR) @[ IoU=0.50:0.95 | area=   all | maxDets= 10 ] = 0.589\n",
      " Average Recall     (AR) @[ IoU=0.50:0.95 | area=   all | maxDets=100 ] = 0.707\n",
      " Average Recall     (AR) @[ IoU=0.50:0.95 | area= small | maxDets=100 ] = 0.680\n",
      " Average Recall     (AR) @[ IoU=0.50:0.95 | area=medium | maxDets=100 ] = 0.696\n",
      " Average Recall     (AR) @[ IoU=0.50:0.95 | area= large | maxDets=100 ] = 0.499\n",
      " Average Recall     (AR) @[ IoU=0.50      | area=   all | maxDets=100 ] = 0.981\n",
      " Average Recall     (AR) @[ IoU=0.75      | area=   all | maxDets=100 ] = 0.840\n"
     ]
    },
    {
     "name": "stderr",
     "output_type": "stream",
     "text": [
      "Epoch 25: 100%|██████████| 15/15 [00:08<00:00,  1.71it/s, loss=24.0395]\n",
      "\u001b[32m2025-03-10 18:18:31.708\u001b[0m | \u001b[1mINFO    \u001b[0m | \u001b[36mdeimkit.trainer\u001b[0m:\u001b[36mevaluate\u001b[0m:\u001b[36m332\u001b[0m - \u001b[1mEvaluating model...\u001b[0m\n"
     ]
    },
    {
     "name": "stdout",
     "output_type": "stream",
     "text": [
      "Averaged stats: lr: 0.000200  loss: 25.3549 (25.3752)  loss_mal: 0.9526 (0.9786)  loss_bbox: 0.3040 (0.3061)  loss_giou: 0.8004 (0.7460)  loss_fgl: 1.1044 (1.1064)  loss_mal_aux_0: 0.9409 (0.9658)  loss_bbox_aux_0: 0.3037 (0.3122)  loss_giou_aux_0: 0.8108 (0.7640)  loss_fgl_aux_0: 1.1075 (1.1141)  loss_ddf_aux_0: 0.0905 (0.0931)  loss_mal_aux_1: 0.9395 (0.9627)  loss_bbox_aux_1: 0.3016 (0.3055)  loss_giou_aux_1: 0.8000 (0.7465)  loss_fgl_aux_1: 1.1036 (1.1062)  loss_ddf_aux_1: 0.0090 (0.0090)  loss_mal_pre: 0.9458 (0.9651)  loss_bbox_pre: 0.3030 (0.3109)  loss_giou_pre: 0.8102 (0.7625)  loss_mal_enc_0: 0.9800 (0.9853)  loss_bbox_enc_0: 0.3155 (0.3312)  loss_giou_enc_0: 0.8437 (0.8099)  loss_mal_dn_0: 0.7627 (0.7569)  loss_bbox_dn_0: 0.3596 (0.3732)  loss_giou_dn_0: 1.0396 (0.9819)  loss_fgl_dn_0: 1.0358 (1.0630)  loss_ddf_dn_0: 0.3049 (0.3181)  loss_mal_dn_1: 0.7769 (0.7808)  loss_bbox_dn_1: 0.3291 (0.3294)  loss_giou_dn_1: 0.9136 (0.8550)  loss_fgl_dn_1: 1.0559 (1.0776)  loss_ddf_dn_1: 0.0355 (0.0368)  loss_mal_dn_2: 0.7896 (0.7868)  loss_bbox_dn_2: 0.3234 (0.3195)  loss_giou_dn_2: 0.8797 (0.8165)  loss_fgl_dn_2: 1.0612 (1.0868)  loss_mal_dn_pre: 0.7598 (0.7545)  loss_bbox_dn_pre: 0.3574 (0.3721)  loss_giou_dn_pre: 1.0409 (0.9853)\n"
     ]
    },
    {
     "name": "stderr",
     "output_type": "stream",
     "text": [
      "Evaluating: 100%|██████████| 5/5 [00:01<00:00,  3.98it/s]\n",
      "\u001b[32m2025-03-10 18:18:32.991\u001b[0m | \u001b[1mINFO    \u001b[0m | \u001b[36mdeimkit.trainer\u001b[0m:\u001b[36mtrain\u001b[0m:\u001b[36m313\u001b[0m - \u001b[1mEpoch 25 - Train loss: 25.3752, Eval mAP: 0.3816\u001b[0m\n",
      "\u001b[32m2025-03-10 18:18:32.992\u001b[0m | \u001b[1mINFO    \u001b[0m | \u001b[36mdeimkit.trainer\u001b[0m:\u001b[36mtrain\u001b[0m:\u001b[36m316\u001b[0m - \u001b[1mBest stats: {'epoch': 23, 'coco_eval_bbox': 0.426618443062174}\u001b[0m\n",
      "\u001b[32m2025-03-10 18:18:32.992\u001b[0m | \u001b[1mINFO    \u001b[0m | \u001b[36mdeimkit.trainer\u001b[0m:\u001b[36mtrain\u001b[0m:\u001b[36m224\u001b[0m - \u001b[1mEpoch 26/80\u001b[0m\n"
     ]
    },
    {
     "name": "stdout",
     "output_type": "stream",
     "text": [
      "Averaged stats: \n",
      "Accumulating evaluation results...\n",
      "COCOeval_opt.accumulate() finished...\n",
      "DONE (t=0.02s).\n",
      "IoU metric: bbox\n",
      " Average Precision  (AP) @[ IoU=0.50:0.95 | area=   all | maxDets=100 ] = 0.382\n",
      " Average Precision  (AP) @[ IoU=0.50      | area=   all | maxDets=100 ] = 0.604\n",
      " Average Precision  (AP) @[ IoU=0.75      | area=   all | maxDets=100 ] = 0.451\n",
      " Average Precision  (AP) @[ IoU=0.50:0.95 | area= small | maxDets=100 ] = 0.084\n",
      " Average Precision  (AP) @[ IoU=0.50:0.95 | area=medium | maxDets=100 ] = 0.413\n",
      " Average Precision  (AP) @[ IoU=0.50:0.95 | area= large | maxDets=100 ] = 0.321\n",
      " Average Recall     (AR) @[ IoU=0.50:0.95 | area=   all | maxDets=  1 ] = 0.330\n",
      " Average Recall     (AR) @[ IoU=0.50:0.95 | area=   all | maxDets= 10 ] = 0.599\n",
      " Average Recall     (AR) @[ IoU=0.50:0.95 | area=   all | maxDets=100 ] = 0.733\n",
      " Average Recall     (AR) @[ IoU=0.50:0.95 | area= small | maxDets=100 ] = 0.680\n",
      " Average Recall     (AR) @[ IoU=0.50:0.95 | area=medium | maxDets=100 ] = 0.648\n",
      " Average Recall     (AR) @[ IoU=0.50:0.95 | area= large | maxDets=100 ] = 0.517\n",
      " Average Recall     (AR) @[ IoU=0.50      | area=   all | maxDets=100 ] = 0.994\n",
      " Average Recall     (AR) @[ IoU=0.75      | area=   all | maxDets=100 ] = 0.879\n"
     ]
    },
    {
     "name": "stderr",
     "output_type": "stream",
     "text": [
      "Epoch 26: 100%|██████████| 15/15 [00:08<00:00,  1.77it/s, loss=26.4988]\n",
      "\u001b[32m2025-03-10 18:18:41.495\u001b[0m | \u001b[1mINFO    \u001b[0m | \u001b[36mdeimkit.trainer\u001b[0m:\u001b[36mevaluate\u001b[0m:\u001b[36m332\u001b[0m - \u001b[1mEvaluating model...\u001b[0m\n"
     ]
    },
    {
     "name": "stdout",
     "output_type": "stream",
     "text": [
      "Averaged stats: lr: 0.000200  loss: 24.6647 (25.0767)  loss_mal: 0.9458 (0.9876)  loss_bbox: 0.2409 (0.2731)  loss_giou: 0.6544 (0.7082)  loss_fgl: 1.1233 (1.1281)  loss_mal_aux_0: 0.9404 (0.9716)  loss_bbox_aux_0: 0.2562 (0.2813)  loss_giou_aux_0: 0.6834 (0.7279)  loss_fgl_aux_0: 1.1314 (1.1369)  loss_ddf_aux_0: 0.0990 (0.1066)  loss_mal_aux_1: 0.9429 (0.9966)  loss_bbox_aux_1: 0.2431 (0.2736)  loss_giou_aux_1: 0.6604 (0.7099)  loss_fgl_aux_1: 1.1222 (1.1281)  loss_ddf_aux_1: 0.0097 (0.0099)  loss_mal_pre: 0.9399 (0.9705)  loss_bbox_pre: 0.2485 (0.2798)  loss_giou_pre: 0.6692 (0.7247)  loss_mal_enc_0: 0.9922 (1.0013)  loss_bbox_enc_0: 0.2654 (0.2957)  loss_giou_enc_0: 0.7361 (0.7652)  loss_mal_dn_0: 0.7603 (0.7580)  loss_bbox_dn_0: 0.3263 (0.3543)  loss_giou_dn_0: 0.9303 (0.9681)  loss_fgl_dn_0: 1.1089 (1.0814)  loss_ddf_dn_0: 0.3664 (0.3715)  loss_mal_dn_1: 0.7827 (0.7831)  loss_bbox_dn_1: 0.2807 (0.3046)  loss_giou_dn_1: 0.7804 (0.8179)  loss_fgl_dn_1: 1.1187 (1.0918)  loss_ddf_dn_1: 0.0433 (0.0424)  loss_mal_dn_2: 0.7847 (0.7859)  loss_bbox_dn_2: 0.2633 (0.2917)  loss_giou_dn_2: 0.7225 (0.7754)  loss_fgl_dn_2: 1.1196 (1.0972)  loss_mal_dn_pre: 0.7598 (0.7562)  loss_bbox_dn_pre: 0.3291 (0.3528)  loss_giou_dn_pre: 0.9327 (0.9677)\n"
     ]
    },
    {
     "name": "stderr",
     "output_type": "stream",
     "text": [
      "Evaluating: 100%|██████████| 5/5 [00:01<00:00,  3.38it/s]\n",
      "\u001b[32m2025-03-10 18:18:43.002\u001b[0m | \u001b[1mINFO    \u001b[0m | \u001b[36mdeimkit.trainer\u001b[0m:\u001b[36mtrain\u001b[0m:\u001b[36m313\u001b[0m - \u001b[1mEpoch 26 - Train loss: 25.0767, Eval mAP: 0.3839\u001b[0m\n",
      "\u001b[32m2025-03-10 18:18:43.002\u001b[0m | \u001b[1mINFO    \u001b[0m | \u001b[36mdeimkit.trainer\u001b[0m:\u001b[36mtrain\u001b[0m:\u001b[36m316\u001b[0m - \u001b[1mBest stats: {'epoch': 23, 'coco_eval_bbox': 0.426618443062174}\u001b[0m\n",
      "\u001b[32m2025-03-10 18:18:43.002\u001b[0m | \u001b[1mINFO    \u001b[0m | \u001b[36mdeimkit.trainer\u001b[0m:\u001b[36mtrain\u001b[0m:\u001b[36m224\u001b[0m - \u001b[1mEpoch 27/80\u001b[0m\n"
     ]
    },
    {
     "name": "stdout",
     "output_type": "stream",
     "text": [
      "Averaged stats: \n",
      "Accumulating evaluation results...\n",
      "COCOeval_opt.accumulate() finished...\n",
      "DONE (t=0.02s).\n",
      "IoU metric: bbox\n",
      " Average Precision  (AP) @[ IoU=0.50:0.95 | area=   all | maxDets=100 ] = 0.384\n",
      " Average Precision  (AP) @[ IoU=0.50      | area=   all | maxDets=100 ] = 0.640\n",
      " Average Precision  (AP) @[ IoU=0.75      | area=   all | maxDets=100 ] = 0.474\n",
      " Average Precision  (AP) @[ IoU=0.50:0.95 | area= small | maxDets=100 ] = 0.181\n",
      " Average Precision  (AP) @[ IoU=0.50:0.95 | area=medium | maxDets=100 ] = 0.419\n",
      " Average Precision  (AP) @[ IoU=0.50:0.95 | area= large | maxDets=100 ] = 0.304\n",
      " Average Recall     (AR) @[ IoU=0.50:0.95 | area=   all | maxDets=  1 ] = 0.328\n",
      " Average Recall     (AR) @[ IoU=0.50:0.95 | area=   all | maxDets= 10 ] = 0.586\n",
      " Average Recall     (AR) @[ IoU=0.50:0.95 | area=   all | maxDets=100 ] = 0.731\n",
      " Average Recall     (AR) @[ IoU=0.50:0.95 | area= small | maxDets=100 ] = 0.760\n",
      " Average Recall     (AR) @[ IoU=0.50:0.95 | area=medium | maxDets=100 ] = 0.694\n",
      " Average Recall     (AR) @[ IoU=0.50:0.95 | area= large | maxDets=100 ] = 0.500\n",
      " Average Recall     (AR) @[ IoU=0.50      | area=   all | maxDets=100 ] = 0.993\n",
      " Average Recall     (AR) @[ IoU=0.75      | area=   all | maxDets=100 ] = 0.893\n"
     ]
    },
    {
     "name": "stderr",
     "output_type": "stream",
     "text": [
      "Epoch 27: 100%|██████████| 15/15 [00:08<00:00,  1.75it/s, loss=24.7060]\n",
      "\u001b[32m2025-03-10 18:18:51.593\u001b[0m | \u001b[1mINFO    \u001b[0m | \u001b[36mdeimkit.trainer\u001b[0m:\u001b[36m_save_checkpoint\u001b[0m:\u001b[36m364\u001b[0m - \u001b[1mSaving checkpoint to outputs/deim_hgnetv2_s_80e/checkpoint0027.pth\u001b[0m\n"
     ]
    },
    {
     "name": "stdout",
     "output_type": "stream",
     "text": [
      "Averaged stats: lr: 0.000200  loss: 24.8108 (25.0729)  loss_mal: 0.9653 (0.9650)  loss_bbox: 0.2565 (0.2696)  loss_giou: 0.6432 (0.7041)  loss_fgl: 1.1367 (1.1284)  loss_mal_aux_0: 0.9575 (0.9615)  loss_bbox_aux_0: 0.2669 (0.2787)  loss_giou_aux_0: 0.6666 (0.7318)  loss_fgl_aux_0: 1.1413 (1.1383)  loss_ddf_aux_0: 0.1187 (0.1287)  loss_mal_aux_1: 0.9604 (0.9643)  loss_bbox_aux_1: 0.2528 (0.2692)  loss_giou_aux_1: 0.6444 (0.7056)  loss_fgl_aux_1: 1.1341 (1.1269)  loss_ddf_aux_1: 0.0094 (0.0103)  loss_mal_pre: 0.9585 (0.9602)  loss_bbox_pre: 0.2643 (0.2766)  loss_giou_pre: 0.6650 (0.7275)  loss_mal_enc_0: 1.0000 (0.9838)  loss_bbox_enc_0: 0.2946 (0.2973)  loss_giou_enc_0: 0.7259 (0.7727)  loss_mal_dn_0: 0.7583 (0.7504)  loss_bbox_dn_0: 0.3723 (0.3561)  loss_giou_dn_0: 0.9546 (0.9788)  loss_fgl_dn_0: 1.0920 (1.0670)  loss_ddf_dn_0: 0.4188 (0.4477)  loss_mal_dn_1: 0.7837 (0.7827)  loss_bbox_dn_1: 0.3037 (0.3062)  loss_giou_dn_1: 0.7876 (0.8225)  loss_fgl_dn_1: 1.1005 (1.0818)  loss_ddf_dn_1: 0.0496 (0.0511)  loss_mal_dn_2: 0.7808 (0.7811)  loss_bbox_dn_2: 0.2918 (0.2940)  loss_giou_dn_2: 0.7326 (0.7784)  loss_fgl_dn_2: 1.1032 (1.0895)  loss_mal_dn_pre: 0.7539 (0.7482)  loss_bbox_dn_pre: 0.3728 (0.3560)  loss_giou_dn_pre: 0.9460 (0.9810)\n"
     ]
    },
    {
     "name": "stderr",
     "output_type": "stream",
     "text": [
      "\u001b[32m2025-03-10 18:18:51.860\u001b[0m | \u001b[1mINFO    \u001b[0m | \u001b[36mdeimkit.trainer\u001b[0m:\u001b[36m_save_checkpoint\u001b[0m:\u001b[36m381\u001b[0m - \u001b[1mCheckpoint saved to outputs/deim_hgnetv2_s_80e/checkpoint0027.pth\u001b[0m\n",
      "\u001b[32m2025-03-10 18:18:51.862\u001b[0m | \u001b[1mINFO    \u001b[0m | \u001b[36mdeimkit.trainer\u001b[0m:\u001b[36mevaluate\u001b[0m:\u001b[36m332\u001b[0m - \u001b[1mEvaluating model...\u001b[0m\n",
      "Evaluating: 100%|██████████| 5/5 [00:01<00:00,  3.52it/s]\n",
      "\u001b[32m2025-03-10 18:18:53.312\u001b[0m | \u001b[1mINFO    \u001b[0m | \u001b[36mdeimkit.trainer\u001b[0m:\u001b[36mtrain\u001b[0m:\u001b[36m313\u001b[0m - \u001b[1mEpoch 27 - Train loss: 25.0729, Eval mAP: 0.4089\u001b[0m\n",
      "\u001b[32m2025-03-10 18:18:53.313\u001b[0m | \u001b[1mINFO    \u001b[0m | \u001b[36mdeimkit.trainer\u001b[0m:\u001b[36mtrain\u001b[0m:\u001b[36m316\u001b[0m - \u001b[1mBest stats: {'epoch': 23, 'coco_eval_bbox': 0.426618443062174}\u001b[0m\n",
      "\u001b[32m2025-03-10 18:18:53.313\u001b[0m | \u001b[1mINFO    \u001b[0m | \u001b[36mdeimkit.trainer\u001b[0m:\u001b[36mtrain\u001b[0m:\u001b[36m224\u001b[0m - \u001b[1mEpoch 28/80\u001b[0m\n"
     ]
    },
    {
     "name": "stdout",
     "output_type": "stream",
     "text": [
      "Averaged stats: \n",
      "Accumulating evaluation results...\n",
      "COCOeval_opt.accumulate() finished...\n",
      "DONE (t=0.02s).\n",
      "IoU metric: bbox\n",
      " Average Precision  (AP) @[ IoU=0.50:0.95 | area=   all | maxDets=100 ] = 0.409\n",
      " Average Precision  (AP) @[ IoU=0.50      | area=   all | maxDets=100 ] = 0.652\n",
      " Average Precision  (AP) @[ IoU=0.75      | area=   all | maxDets=100 ] = 0.483\n",
      " Average Precision  (AP) @[ IoU=0.50:0.95 | area= small | maxDets=100 ] = 0.293\n",
      " Average Precision  (AP) @[ IoU=0.50:0.95 | area=medium | maxDets=100 ] = 0.504\n",
      " Average Precision  (AP) @[ IoU=0.50:0.95 | area= large | maxDets=100 ] = 0.291\n",
      " Average Recall     (AR) @[ IoU=0.50:0.95 | area=   all | maxDets=  1 ] = 0.338\n",
      " Average Recall     (AR) @[ IoU=0.50:0.95 | area=   all | maxDets= 10 ] = 0.602\n",
      " Average Recall     (AR) @[ IoU=0.50:0.95 | area=   all | maxDets=100 ] = 0.723\n",
      " Average Recall     (AR) @[ IoU=0.50:0.95 | area= small | maxDets=100 ] = 0.640\n",
      " Average Recall     (AR) @[ IoU=0.50:0.95 | area=medium | maxDets=100 ] = 0.685\n",
      " Average Recall     (AR) @[ IoU=0.50:0.95 | area= large | maxDets=100 ] = 0.508\n",
      " Average Recall     (AR) @[ IoU=0.50      | area=   all | maxDets=100 ] = 0.989\n",
      " Average Recall     (AR) @[ IoU=0.75      | area=   all | maxDets=100 ] = 0.890\n"
     ]
    },
    {
     "name": "stderr",
     "output_type": "stream",
     "text": [
      "Epoch 28: 100%|██████████| 15/15 [00:08<00:00,  1.75it/s, loss=25.9460]\n",
      "\u001b[32m2025-03-10 18:19:01.888\u001b[0m | \u001b[1mINFO    \u001b[0m | \u001b[36mdeimkit.trainer\u001b[0m:\u001b[36mevaluate\u001b[0m:\u001b[36m332\u001b[0m - \u001b[1mEvaluating model...\u001b[0m\n"
     ]
    },
    {
     "name": "stdout",
     "output_type": "stream",
     "text": [
      "Averaged stats: lr: 0.000200  loss: 25.2013 (25.0853)  loss_mal: 0.9717 (0.9856)  loss_bbox: 0.2506 (0.2571)  loss_giou: 0.6506 (0.6907)  loss_fgl: 1.1279 (1.1356)  loss_mal_aux_0: 0.9595 (0.9649)  loss_bbox_aux_0: 0.2724 (0.2670)  loss_giou_aux_0: 0.6808 (0.7208)  loss_fgl_aux_0: 1.1415 (1.1421)  loss_ddf_aux_0: 0.1323 (0.1318)  loss_mal_aux_1: 0.9839 (0.9921)  loss_bbox_aux_1: 0.2533 (0.2572)  loss_giou_aux_1: 0.6514 (0.6928)  loss_fgl_aux_1: 1.1272 (1.1354)  loss_ddf_aux_1: 0.0098 (0.0105)  loss_mal_pre: 0.9595 (0.9618)  loss_bbox_pre: 0.2703 (0.2662)  loss_giou_pre: 0.6829 (0.7169)  loss_mal_enc_0: 0.9624 (0.9844)  loss_bbox_enc_0: 0.3111 (0.3048)  loss_giou_enc_0: 0.7948 (0.8027)  loss_mal_dn_0: 0.7583 (0.7573)  loss_bbox_dn_0: 0.3451 (0.3434)  loss_giou_dn_0: 0.9255 (0.9525)  loss_fgl_dn_0: 1.1045 (1.0843)  loss_ddf_dn_0: 0.5017 (0.5187)  loss_mal_dn_1: 0.7856 (0.7819)  loss_bbox_dn_1: 0.2833 (0.2936)  loss_giou_dn_1: 0.7403 (0.8006)  loss_fgl_dn_1: 1.1082 (1.0960)  loss_ddf_dn_1: 0.0552 (0.0570)  loss_mal_dn_2: 0.7822 (0.7803)  loss_bbox_dn_2: 0.2735 (0.2817)  loss_giou_dn_2: 0.7052 (0.7605)  loss_fgl_dn_2: 1.1168 (1.1042)  loss_mal_dn_pre: 0.7593 (0.7557)  loss_bbox_dn_pre: 0.3488 (0.3438)  loss_giou_dn_pre: 0.9100 (0.9532)\n"
     ]
    },
    {
     "name": "stderr",
     "output_type": "stream",
     "text": [
      "Evaluating: 100%|██████████| 5/5 [00:01<00:00,  3.45it/s]\n",
      "\u001b[32m2025-03-10 18:19:03.369\u001b[0m | \u001b[1mINFO    \u001b[0m | \u001b[36mdeimkit.trainer\u001b[0m:\u001b[36m_save_checkpoint\u001b[0m:\u001b[36m364\u001b[0m - \u001b[1mSaving checkpoint to outputs/deim_hgnetv2_s_80e/best.pth\u001b[0m\n"
     ]
    },
    {
     "name": "stdout",
     "output_type": "stream",
     "text": [
      "Averaged stats: \n",
      "Accumulating evaluation results...\n",
      "COCOeval_opt.accumulate() finished...\n",
      "DONE (t=0.02s).\n",
      "IoU metric: bbox\n",
      " Average Precision  (AP) @[ IoU=0.50:0.95 | area=   all | maxDets=100 ] = 0.447\n",
      " Average Precision  (AP) @[ IoU=0.50      | area=   all | maxDets=100 ] = 0.659\n",
      " Average Precision  (AP) @[ IoU=0.75      | area=   all | maxDets=100 ] = 0.507\n",
      " Average Precision  (AP) @[ IoU=0.50:0.95 | area= small | maxDets=100 ] = 0.229\n",
      " Average Precision  (AP) @[ IoU=0.50:0.95 | area=medium | maxDets=100 ] = 0.503\n",
      " Average Precision  (AP) @[ IoU=0.50:0.95 | area= large | maxDets=100 ] = 0.349\n",
      " Average Recall     (AR) @[ IoU=0.50:0.95 | area=   all | maxDets=  1 ] = 0.374\n",
      " Average Recall     (AR) @[ IoU=0.50:0.95 | area=   all | maxDets= 10 ] = 0.631\n",
      " Average Recall     (AR) @[ IoU=0.50:0.95 | area=   all | maxDets=100 ] = 0.765\n",
      " Average Recall     (AR) @[ IoU=0.50:0.95 | area= small | maxDets=100 ] = 0.700\n",
      " Average Recall     (AR) @[ IoU=0.50:0.95 | area=medium | maxDets=100 ] = 0.740\n",
      " Average Recall     (AR) @[ IoU=0.50:0.95 | area= large | maxDets=100 ] = 0.771\n",
      " Average Recall     (AR) @[ IoU=0.50      | area=   all | maxDets=100 ] = 0.997\n",
      " Average Recall     (AR) @[ IoU=0.75      | area=   all | maxDets=100 ] = 0.914\n"
     ]
    },
    {
     "name": "stderr",
     "output_type": "stream",
     "text": [
      "\u001b[32m2025-03-10 18:19:03.696\u001b[0m | \u001b[1mINFO    \u001b[0m | \u001b[36mdeimkit.trainer\u001b[0m:\u001b[36m_save_checkpoint\u001b[0m:\u001b[36m381\u001b[0m - \u001b[1mCheckpoint saved to outputs/deim_hgnetv2_s_80e/best.pth\u001b[0m\n",
      "\u001b[32m2025-03-10 18:19:03.698\u001b[0m | \u001b[1mINFO    \u001b[0m | \u001b[36mdeimkit.trainer\u001b[0m:\u001b[36mtrain\u001b[0m:\u001b[36m313\u001b[0m - \u001b[1mEpoch 28 - Train loss: 25.0853, Eval mAP: 0.4468\u001b[0m\n",
      "\u001b[32m2025-03-10 18:19:03.698\u001b[0m | \u001b[1mINFO    \u001b[0m | \u001b[36mdeimkit.trainer\u001b[0m:\u001b[36mtrain\u001b[0m:\u001b[36m316\u001b[0m - \u001b[1mBest stats: {'epoch': 28, 'coco_eval_bbox': 0.44684132663037723}\u001b[0m\n",
      "\u001b[32m2025-03-10 18:19:03.699\u001b[0m | \u001b[1mINFO    \u001b[0m | \u001b[36mdeimkit.trainer\u001b[0m:\u001b[36mtrain\u001b[0m:\u001b[36m224\u001b[0m - \u001b[1mEpoch 29/80\u001b[0m\n",
      "Epoch 29: 100%|██████████| 15/15 [00:08<00:00,  1.81it/s, loss=25.6602]\n",
      "\u001b[32m2025-03-10 18:19:11.990\u001b[0m | \u001b[1mINFO    \u001b[0m | \u001b[36mdeimkit.trainer\u001b[0m:\u001b[36mevaluate\u001b[0m:\u001b[36m332\u001b[0m - \u001b[1mEvaluating model...\u001b[0m\n"
     ]
    },
    {
     "name": "stdout",
     "output_type": "stream",
     "text": [
      "Averaged stats: lr: 0.000200  loss: 25.4171 (24.9410)  loss_mal: 0.9531 (0.9975)  loss_bbox: 0.2308 (0.2551)  loss_giou: 0.5943 (0.6480)  loss_fgl: 1.1599 (1.1576)  loss_mal_aux_0: 0.9551 (0.9958)  loss_bbox_aux_0: 0.2499 (0.2679)  loss_giou_aux_0: 0.6480 (0.6859)  loss_fgl_aux_0: 1.1794 (1.1716)  loss_ddf_aux_0: 0.1699 (0.1722)  loss_mal_aux_1: 0.9609 (0.9849)  loss_bbox_aux_1: 0.2322 (0.2553)  loss_giou_aux_1: 0.5989 (0.6495)  loss_fgl_aux_1: 1.1598 (1.1553)  loss_ddf_aux_1: 0.0108 (0.0107)  loss_mal_pre: 0.9551 (0.9923)  loss_bbox_pre: 0.2453 (0.2656)  loss_giou_pre: 0.6335 (0.6799)  loss_mal_enc_0: 1.0166 (1.0231)  loss_bbox_enc_0: 0.2735 (0.2843)  loss_giou_enc_0: 0.6902 (0.7230)  loss_mal_dn_0: 0.7695 (0.7736)  loss_bbox_dn_0: 0.3259 (0.3390)  loss_giou_dn_0: 0.8528 (0.8993)  loss_fgl_dn_0: 1.1370 (1.1124)  loss_ddf_dn_0: 0.5394 (0.5324)  loss_mal_dn_1: 0.7993 (0.7934)  loss_bbox_dn_1: 0.2800 (0.2888)  loss_giou_dn_1: 0.7002 (0.7441)  loss_fgl_dn_1: 1.1220 (1.1143)  loss_ddf_dn_1: 0.0541 (0.0539)  loss_mal_dn_2: 0.7979 (0.7971)  loss_bbox_dn_2: 0.2576 (0.2761)  loss_giou_dn_2: 0.6518 (0.7079)  loss_fgl_dn_2: 1.1277 (1.1185)  loss_mal_dn_pre: 0.7681 (0.7712)  loss_bbox_dn_pre: 0.3311 (0.3407)  loss_giou_dn_pre: 0.8644 (0.9026)\n"
     ]
    },
    {
     "name": "stderr",
     "output_type": "stream",
     "text": [
      "Evaluating: 100%|██████████| 5/5 [00:01<00:00,  3.52it/s]\n",
      "\u001b[32m2025-03-10 18:19:13.435\u001b[0m | \u001b[1mINFO    \u001b[0m | \u001b[36mdeimkit.trainer\u001b[0m:\u001b[36m_save_checkpoint\u001b[0m:\u001b[36m364\u001b[0m - \u001b[1mSaving checkpoint to outputs/deim_hgnetv2_s_80e/best.pth\u001b[0m\n"
     ]
    },
    {
     "name": "stdout",
     "output_type": "stream",
     "text": [
      "Averaged stats: \n",
      "Accumulating evaluation results...\n",
      "COCOeval_opt.accumulate() finished...\n",
      "DONE (t=0.02s).\n",
      "IoU metric: bbox\n",
      " Average Precision  (AP) @[ IoU=0.50:0.95 | area=   all | maxDets=100 ] = 0.457\n",
      " Average Precision  (AP) @[ IoU=0.50      | area=   all | maxDets=100 ] = 0.719\n",
      " Average Precision  (AP) @[ IoU=0.75      | area=   all | maxDets=100 ] = 0.521\n",
      " Average Precision  (AP) @[ IoU=0.50:0.95 | area= small | maxDets=100 ] = 0.157\n",
      " Average Precision  (AP) @[ IoU=0.50:0.95 | area=medium | maxDets=100 ] = 0.482\n",
      " Average Precision  (AP) @[ IoU=0.50:0.95 | area= large | maxDets=100 ] = 0.355\n",
      " Average Recall     (AR) @[ IoU=0.50:0.95 | area=   all | maxDets=  1 ] = 0.339\n",
      " Average Recall     (AR) @[ IoU=0.50:0.95 | area=   all | maxDets= 10 ] = 0.612\n",
      " Average Recall     (AR) @[ IoU=0.50:0.95 | area=   all | maxDets=100 ] = 0.731\n",
      " Average Recall     (AR) @[ IoU=0.50:0.95 | area= small | maxDets=100 ] = 0.740\n",
      " Average Recall     (AR) @[ IoU=0.50:0.95 | area=medium | maxDets=100 ] = 0.689\n",
      " Average Recall     (AR) @[ IoU=0.50:0.95 | area= large | maxDets=100 ] = 0.675\n",
      " Average Recall     (AR) @[ IoU=0.50      | area=   all | maxDets=100 ] = 0.999\n",
      " Average Recall     (AR) @[ IoU=0.75      | area=   all | maxDets=100 ] = 0.862\n"
     ]
    },
    {
     "name": "stderr",
     "output_type": "stream",
     "text": [
      "\u001b[32m2025-03-10 18:19:13.763\u001b[0m | \u001b[1mINFO    \u001b[0m | \u001b[36mdeimkit.trainer\u001b[0m:\u001b[36m_save_checkpoint\u001b[0m:\u001b[36m381\u001b[0m - \u001b[1mCheckpoint saved to outputs/deim_hgnetv2_s_80e/best.pth\u001b[0m\n",
      "\u001b[32m2025-03-10 18:19:13.765\u001b[0m | \u001b[1mINFO    \u001b[0m | \u001b[36mdeimkit.trainer\u001b[0m:\u001b[36mtrain\u001b[0m:\u001b[36m313\u001b[0m - \u001b[1mEpoch 29 - Train loss: 24.9410, Eval mAP: 0.4575\u001b[0m\n",
      "\u001b[32m2025-03-10 18:19:13.765\u001b[0m | \u001b[1mINFO    \u001b[0m | \u001b[36mdeimkit.trainer\u001b[0m:\u001b[36mtrain\u001b[0m:\u001b[36m316\u001b[0m - \u001b[1mBest stats: {'epoch': 29, 'coco_eval_bbox': 0.4574544144153282}\u001b[0m\n",
      "\u001b[32m2025-03-10 18:19:13.766\u001b[0m | \u001b[1mINFO    \u001b[0m | \u001b[36mdeimkit.trainer\u001b[0m:\u001b[36mtrain\u001b[0m:\u001b[36m224\u001b[0m - \u001b[1mEpoch 30/80\u001b[0m\n",
      "Epoch 30: 100%|██████████| 15/15 [00:09<00:00,  1.66it/s, loss=24.0994]\n",
      "\u001b[32m2025-03-10 18:19:22.818\u001b[0m | \u001b[1mINFO    \u001b[0m | \u001b[36mdeimkit.trainer\u001b[0m:\u001b[36mevaluate\u001b[0m:\u001b[36m332\u001b[0m - \u001b[1mEvaluating model...\u001b[0m\n"
     ]
    },
    {
     "name": "stdout",
     "output_type": "stream",
     "text": [
      "Averaged stats: lr: 0.000200  loss: 25.3509 (24.9847)  loss_mal: 0.9580 (0.9697)  loss_bbox: 0.2613 (0.2596)  loss_giou: 0.7135 (0.6917)  loss_fgl: 1.1481 (1.1446)  loss_mal_aux_0: 0.9370 (0.9635)  loss_bbox_aux_0: 0.2711 (0.2662)  loss_giou_aux_0: 0.7375 (0.7137)  loss_fgl_aux_0: 1.1568 (1.1476)  loss_ddf_aux_0: 0.1708 (0.1541)  loss_mal_aux_1: 0.9507 (0.9608)  loss_bbox_aux_1: 0.2604 (0.2599)  loss_giou_aux_1: 0.7124 (0.6932)  loss_fgl_aux_1: 1.1487 (1.1428)  loss_ddf_aux_1: 0.0098 (0.0098)  loss_mal_pre: 0.9380 (0.9610)  loss_bbox_pre: 0.2680 (0.2655)  loss_giou_pre: 0.7310 (0.7122)  loss_mal_enc_0: 0.9639 (0.9778)  loss_bbox_enc_0: 0.2825 (0.2906)  loss_giou_enc_0: 0.7717 (0.7797)  loss_mal_dn_0: 0.7554 (0.7565)  loss_bbox_dn_0: 0.3494 (0.3358)  loss_giou_dn_0: 0.9652 (0.9436)  loss_fgl_dn_0: 1.0699 (1.0817)  loss_ddf_dn_0: 0.5004 (0.5085)  loss_mal_dn_1: 0.7803 (0.7825)  loss_bbox_dn_1: 0.3087 (0.2952)  loss_giou_dn_1: 0.8318 (0.8059)  loss_fgl_dn_1: 1.0765 (1.0894)  loss_ddf_dn_1: 0.0424 (0.0476)  loss_mal_dn_2: 0.7837 (0.7843)  loss_bbox_dn_2: 0.3005 (0.2853)  loss_giou_dn_2: 0.7977 (0.7697)  loss_fgl_dn_2: 1.0871 (1.0964)  loss_mal_dn_pre: 0.7520 (0.7547)  loss_bbox_dn_pre: 0.3484 (0.3366)  loss_giou_dn_pre: 0.9778 (0.9474)\n"
     ]
    },
    {
     "name": "stderr",
     "output_type": "stream",
     "text": [
      "Evaluating: 100%|██████████| 5/5 [00:01<00:00,  3.52it/s]\n",
      "\u001b[32m2025-03-10 18:19:24.269\u001b[0m | \u001b[1mINFO    \u001b[0m | \u001b[36mdeimkit.trainer\u001b[0m:\u001b[36mtrain\u001b[0m:\u001b[36m313\u001b[0m - \u001b[1mEpoch 30 - Train loss: 24.9847, Eval mAP: 0.4493\u001b[0m\n",
      "\u001b[32m2025-03-10 18:19:24.269\u001b[0m | \u001b[1mINFO    \u001b[0m | \u001b[36mdeimkit.trainer\u001b[0m:\u001b[36mtrain\u001b[0m:\u001b[36m316\u001b[0m - \u001b[1mBest stats: {'epoch': 29, 'coco_eval_bbox': 0.4574544144153282}\u001b[0m\n",
      "\u001b[32m2025-03-10 18:19:24.270\u001b[0m | \u001b[1mINFO    \u001b[0m | \u001b[36mdeimkit.trainer\u001b[0m:\u001b[36mtrain\u001b[0m:\u001b[36m224\u001b[0m - \u001b[1mEpoch 31/80\u001b[0m\n"
     ]
    },
    {
     "name": "stdout",
     "output_type": "stream",
     "text": [
      "Averaged stats: \n",
      "Accumulating evaluation results...\n",
      "COCOeval_opt.accumulate() finished...\n",
      "DONE (t=0.02s).\n",
      "IoU metric: bbox\n",
      " Average Precision  (AP) @[ IoU=0.50:0.95 | area=   all | maxDets=100 ] = 0.449\n",
      " Average Precision  (AP) @[ IoU=0.50      | area=   all | maxDets=100 ] = 0.681\n",
      " Average Precision  (AP) @[ IoU=0.75      | area=   all | maxDets=100 ] = 0.527\n",
      " Average Precision  (AP) @[ IoU=0.50:0.95 | area= small | maxDets=100 ] = 0.230\n",
      " Average Precision  (AP) @[ IoU=0.50:0.95 | area=medium | maxDets=100 ] = 0.517\n",
      " Average Precision  (AP) @[ IoU=0.50:0.95 | area= large | maxDets=100 ] = 0.366\n",
      " Average Recall     (AR) @[ IoU=0.50:0.95 | area=   all | maxDets=  1 ] = 0.350\n",
      " Average Recall     (AR) @[ IoU=0.50:0.95 | area=   all | maxDets= 10 ] = 0.618\n",
      " Average Recall     (AR) @[ IoU=0.50:0.95 | area=   all | maxDets=100 ] = 0.735\n",
      " Average Recall     (AR) @[ IoU=0.50:0.95 | area= small | maxDets=100 ] = 0.660\n",
      " Average Recall     (AR) @[ IoU=0.50:0.95 | area=medium | maxDets=100 ] = 0.713\n",
      " Average Recall     (AR) @[ IoU=0.50:0.95 | area= large | maxDets=100 ] = 0.528\n",
      " Average Recall     (AR) @[ IoU=0.50      | area=   all | maxDets=100 ] = 0.994\n",
      " Average Recall     (AR) @[ IoU=0.75      | area=   all | maxDets=100 ] = 0.869\n"
     ]
    },
    {
     "name": "stderr",
     "output_type": "stream",
     "text": [
      "Epoch 31: 100%|██████████| 15/15 [00:08<00:00,  1.76it/s, loss=24.9410]\n",
      "\u001b[32m2025-03-10 18:19:32.817\u001b[0m | \u001b[1mINFO    \u001b[0m | \u001b[36mdeimkit.trainer\u001b[0m:\u001b[36m_save_checkpoint\u001b[0m:\u001b[36m364\u001b[0m - \u001b[1mSaving checkpoint to outputs/deim_hgnetv2_s_80e/checkpoint0031.pth\u001b[0m\n"
     ]
    },
    {
     "name": "stdout",
     "output_type": "stream",
     "text": [
      "Averaged stats: lr: 0.000200  loss: 24.9361 (24.6881)  loss_mal: 0.9473 (0.9435)  loss_bbox: 0.2301 (0.2497)  loss_giou: 0.5999 (0.6590)  loss_fgl: 1.1561 (1.1515)  loss_mal_aux_0: 0.9375 (0.9546)  loss_bbox_aux_0: 0.2445 (0.2613)  loss_giou_aux_0: 0.6334 (0.6908)  loss_fgl_aux_0: 1.1711 (1.1605)  loss_ddf_aux_0: 0.1426 (0.1426)  loss_mal_aux_1: 0.9409 (0.9549)  loss_bbox_aux_1: 0.2306 (0.2501)  loss_giou_aux_1: 0.5995 (0.6611)  loss_fgl_aux_1: 1.1552 (1.1498)  loss_ddf_aux_1: 0.0106 (0.0103)  loss_mal_pre: 0.9370 (0.9525)  loss_bbox_pre: 0.2400 (0.2595)  loss_giou_pre: 0.6253 (0.6853)  loss_mal_enc_0: 0.9800 (0.9940)  loss_bbox_enc_0: 0.2700 (0.2845)  loss_giou_enc_0: 0.7263 (0.7418)  loss_mal_dn_0: 0.7676 (0.7686)  loss_bbox_dn_0: 0.3126 (0.3209)  loss_giou_dn_0: 0.8475 (0.8965)  loss_fgl_dn_0: 1.1197 (1.1073)  loss_ddf_dn_0: 0.6081 (0.5931)  loss_mal_dn_1: 0.7915 (0.7940)  loss_bbox_dn_1: 0.2614 (0.2737)  loss_giou_dn_1: 0.6938 (0.7440)  loss_fgl_dn_1: 1.1170 (1.1095)  loss_ddf_dn_1: 0.0583 (0.0598)  loss_mal_dn_2: 0.7959 (0.7930)  loss_bbox_dn_2: 0.2498 (0.2633)  loss_giou_dn_2: 0.6530 (0.7081)  loss_fgl_dn_2: 1.1132 (1.1120)  loss_mal_dn_pre: 0.7661 (0.7667)  loss_bbox_dn_pre: 0.3189 (0.3220)  loss_giou_dn_pre: 0.8533 (0.8982)\n"
     ]
    },
    {
     "name": "stderr",
     "output_type": "stream",
     "text": [
      "\u001b[32m2025-03-10 18:19:33.078\u001b[0m | \u001b[1mINFO    \u001b[0m | \u001b[36mdeimkit.trainer\u001b[0m:\u001b[36m_save_checkpoint\u001b[0m:\u001b[36m381\u001b[0m - \u001b[1mCheckpoint saved to outputs/deim_hgnetv2_s_80e/checkpoint0031.pth\u001b[0m\n",
      "\u001b[32m2025-03-10 18:19:33.080\u001b[0m | \u001b[1mINFO    \u001b[0m | \u001b[36mdeimkit.trainer\u001b[0m:\u001b[36mevaluate\u001b[0m:\u001b[36m332\u001b[0m - \u001b[1mEvaluating model...\u001b[0m\n",
      "Evaluating: 100%|██████████| 5/5 [00:01<00:00,  3.51it/s]\n",
      "\u001b[32m2025-03-10 18:19:34.534\u001b[0m | \u001b[1mINFO    \u001b[0m | \u001b[36mdeimkit.trainer\u001b[0m:\u001b[36m_save_checkpoint\u001b[0m:\u001b[36m364\u001b[0m - \u001b[1mSaving checkpoint to outputs/deim_hgnetv2_s_80e/best.pth\u001b[0m\n"
     ]
    },
    {
     "name": "stdout",
     "output_type": "stream",
     "text": [
      "Averaged stats: \n",
      "Accumulating evaluation results...\n",
      "COCOeval_opt.accumulate() finished...\n",
      "DONE (t=0.02s).\n",
      "IoU metric: bbox\n",
      " Average Precision  (AP) @[ IoU=0.50:0.95 | area=   all | maxDets=100 ] = 0.458\n",
      " Average Precision  (AP) @[ IoU=0.50      | area=   all | maxDets=100 ] = 0.701\n",
      " Average Precision  (AP) @[ IoU=0.75      | area=   all | maxDets=100 ] = 0.570\n",
      " Average Precision  (AP) @[ IoU=0.50:0.95 | area= small | maxDets=100 ] = 0.124\n",
      " Average Precision  (AP) @[ IoU=0.50:0.95 | area=medium | maxDets=100 ] = 0.444\n",
      " Average Precision  (AP) @[ IoU=0.50:0.95 | area= large | maxDets=100 ] = 0.373\n",
      " Average Recall     (AR) @[ IoU=0.50:0.95 | area=   all | maxDets=  1 ] = 0.360\n",
      " Average Recall     (AR) @[ IoU=0.50:0.95 | area=   all | maxDets= 10 ] = 0.637\n",
      " Average Recall     (AR) @[ IoU=0.50:0.95 | area=   all | maxDets=100 ] = 0.763\n",
      " Average Recall     (AR) @[ IoU=0.50:0.95 | area= small | maxDets=100 ] = 0.660\n",
      " Average Recall     (AR) @[ IoU=0.50:0.95 | area=medium | maxDets=100 ] = 0.675\n",
      " Average Recall     (AR) @[ IoU=0.50:0.95 | area= large | maxDets=100 ] = 0.726\n",
      " Average Recall     (AR) @[ IoU=0.50      | area=   all | maxDets=100 ] = 0.998\n",
      " Average Recall     (AR) @[ IoU=0.75      | area=   all | maxDets=100 ] = 0.933\n"
     ]
    },
    {
     "name": "stderr",
     "output_type": "stream",
     "text": [
      "\u001b[32m2025-03-10 18:19:35.556\u001b[0m | \u001b[1mINFO    \u001b[0m | \u001b[36mdeimkit.trainer\u001b[0m:\u001b[36m_save_checkpoint\u001b[0m:\u001b[36m381\u001b[0m - \u001b[1mCheckpoint saved to outputs/deim_hgnetv2_s_80e/best.pth\u001b[0m\n",
      "\u001b[32m2025-03-10 18:19:35.557\u001b[0m | \u001b[1mINFO    \u001b[0m | \u001b[36mdeimkit.trainer\u001b[0m:\u001b[36mtrain\u001b[0m:\u001b[36m313\u001b[0m - \u001b[1mEpoch 31 - Train loss: 24.6881, Eval mAP: 0.4583\u001b[0m\n",
      "\u001b[32m2025-03-10 18:19:35.558\u001b[0m | \u001b[1mINFO    \u001b[0m | \u001b[36mdeimkit.trainer\u001b[0m:\u001b[36mtrain\u001b[0m:\u001b[36m316\u001b[0m - \u001b[1mBest stats: {'epoch': 31, 'coco_eval_bbox': 0.45831772919515623}\u001b[0m\n",
      "\u001b[32m2025-03-10 18:19:35.558\u001b[0m | \u001b[1mINFO    \u001b[0m | \u001b[36mdeimkit.trainer\u001b[0m:\u001b[36mtrain\u001b[0m:\u001b[36m224\u001b[0m - \u001b[1mEpoch 32/80\u001b[0m\n",
      "Epoch 32: 100%|██████████| 15/15 [00:08<00:00,  1.73it/s, loss=23.5806]\n",
      "\u001b[32m2025-03-10 18:19:44.263\u001b[0m | \u001b[1mINFO    \u001b[0m | \u001b[36mdeimkit.trainer\u001b[0m:\u001b[36mevaluate\u001b[0m:\u001b[36m332\u001b[0m - \u001b[1mEvaluating model...\u001b[0m\n"
     ]
    },
    {
     "name": "stdout",
     "output_type": "stream",
     "text": [
      "Averaged stats: lr: 0.000200  loss: 25.0292 (24.8454)  loss_mal: 0.9429 (0.9532)  loss_bbox: 0.2787 (0.2661)  loss_giou: 0.7268 (0.6708)  loss_fgl: 1.1443 (1.1539)  loss_mal_aux_0: 0.9565 (0.9665)  loss_bbox_aux_0: 0.2886 (0.2729)  loss_giou_aux_0: 0.7427 (0.6942)  loss_fgl_aux_0: 1.1615 (1.1570)  loss_ddf_aux_0: 0.1648 (0.1591)  loss_mal_aux_1: 0.9370 (0.9590)  loss_bbox_aux_1: 0.2767 (0.2656)  loss_giou_aux_1: 0.7248 (0.6711)  loss_fgl_aux_1: 1.1452 (1.1527)  loss_ddf_aux_1: 0.0097 (0.0097)  loss_mal_pre: 0.9546 (0.9649)  loss_bbox_pre: 0.2864 (0.2720)  loss_giou_pre: 0.7434 (0.6919)  loss_mal_enc_0: 0.9585 (0.9858)  loss_bbox_enc_0: 0.3006 (0.2981)  loss_giou_enc_0: 0.7917 (0.7514)  loss_mal_dn_0: 0.7686 (0.7697)  loss_bbox_dn_0: 0.3389 (0.3305)  loss_giou_dn_0: 0.9224 (0.8919)  loss_fgl_dn_0: 1.0866 (1.1112)  loss_ddf_dn_0: 0.5756 (0.5533)  loss_mal_dn_1: 0.7959 (0.7942)  loss_bbox_dn_1: 0.2997 (0.2829)  loss_giou_dn_1: 0.7902 (0.7495)  loss_fgl_dn_1: 1.0991 (1.1100)  loss_ddf_dn_1: 0.0462 (0.0444)  loss_mal_dn_2: 0.7896 (0.7890)  loss_bbox_dn_2: 0.2900 (0.2727)  loss_giou_dn_2: 0.7661 (0.7195)  loss_fgl_dn_2: 1.1059 (1.1138)  loss_mal_dn_pre: 0.7646 (0.7666)  loss_bbox_dn_pre: 0.3368 (0.3319)  loss_giou_dn_pre: 0.9314 (0.8983)\n"
     ]
    },
    {
     "name": "stderr",
     "output_type": "stream",
     "text": [
      "Evaluating: 100%|██████████| 5/5 [00:01<00:00,  3.41it/s]\n",
      "\u001b[32m2025-03-10 18:19:45.756\u001b[0m | \u001b[1mINFO    \u001b[0m | \u001b[36mdeimkit.trainer\u001b[0m:\u001b[36m_save_checkpoint\u001b[0m:\u001b[36m364\u001b[0m - \u001b[1mSaving checkpoint to outputs/deim_hgnetv2_s_80e/best.pth\u001b[0m\n"
     ]
    },
    {
     "name": "stdout",
     "output_type": "stream",
     "text": [
      "Averaged stats: \n",
      "Accumulating evaluation results...\n",
      "COCOeval_opt.accumulate() finished...\n",
      "DONE (t=0.02s).\n",
      "IoU metric: bbox\n",
      " Average Precision  (AP) @[ IoU=0.50:0.95 | area=   all | maxDets=100 ] = 0.477\n",
      " Average Precision  (AP) @[ IoU=0.50      | area=   all | maxDets=100 ] = 0.708\n",
      " Average Precision  (AP) @[ IoU=0.75      | area=   all | maxDets=100 ] = 0.542\n",
      " Average Precision  (AP) @[ IoU=0.50:0.95 | area= small | maxDets=100 ] = 0.281\n",
      " Average Precision  (AP) @[ IoU=0.50:0.95 | area=medium | maxDets=100 ] = 0.484\n",
      " Average Precision  (AP) @[ IoU=0.50:0.95 | area= large | maxDets=100 ] = 0.384\n",
      " Average Recall     (AR) @[ IoU=0.50:0.95 | area=   all | maxDets=  1 ] = 0.372\n",
      " Average Recall     (AR) @[ IoU=0.50:0.95 | area=   all | maxDets= 10 ] = 0.656\n",
      " Average Recall     (AR) @[ IoU=0.50:0.95 | area=   all | maxDets=100 ] = 0.777\n",
      " Average Recall     (AR) @[ IoU=0.50:0.95 | area= small | maxDets=100 ] = 0.760\n",
      " Average Recall     (AR) @[ IoU=0.50:0.95 | area=medium | maxDets=100 ] = 0.711\n",
      " Average Recall     (AR) @[ IoU=0.50:0.95 | area= large | maxDets=100 ] = 0.710\n",
      " Average Recall     (AR) @[ IoU=0.50      | area=   all | maxDets=100 ] = 0.998\n",
      " Average Recall     (AR) @[ IoU=0.75      | area=   all | maxDets=100 ] = 0.930\n"
     ]
    },
    {
     "name": "stderr",
     "output_type": "stream",
     "text": [
      "\u001b[32m2025-03-10 18:19:46.086\u001b[0m | \u001b[1mINFO    \u001b[0m | \u001b[36mdeimkit.trainer\u001b[0m:\u001b[36m_save_checkpoint\u001b[0m:\u001b[36m381\u001b[0m - \u001b[1mCheckpoint saved to outputs/deim_hgnetv2_s_80e/best.pth\u001b[0m\n",
      "\u001b[32m2025-03-10 18:19:46.087\u001b[0m | \u001b[1mINFO    \u001b[0m | \u001b[36mdeimkit.trainer\u001b[0m:\u001b[36mtrain\u001b[0m:\u001b[36m313\u001b[0m - \u001b[1mEpoch 32 - Train loss: 24.8454, Eval mAP: 0.4775\u001b[0m\n",
      "\u001b[32m2025-03-10 18:19:46.088\u001b[0m | \u001b[1mINFO    \u001b[0m | \u001b[36mdeimkit.trainer\u001b[0m:\u001b[36mtrain\u001b[0m:\u001b[36m316\u001b[0m - \u001b[1mBest stats: {'epoch': 32, 'coco_eval_bbox': 0.4774858237431653}\u001b[0m\n",
      "\u001b[32m2025-03-10 18:19:46.088\u001b[0m | \u001b[1mINFO    \u001b[0m | \u001b[36mdeimkit.trainer\u001b[0m:\u001b[36mtrain\u001b[0m:\u001b[36m224\u001b[0m - \u001b[1mEpoch 33/80\u001b[0m\n",
      "Epoch 33: 100%|██████████| 15/15 [00:09<00:00,  1.64it/s, loss=25.8277]\n",
      "\u001b[32m2025-03-10 18:19:55.261\u001b[0m | \u001b[1mINFO    \u001b[0m | \u001b[36mdeimkit.trainer\u001b[0m:\u001b[36mevaluate\u001b[0m:\u001b[36m332\u001b[0m - \u001b[1mEvaluating model...\u001b[0m\n"
     ]
    },
    {
     "name": "stdout",
     "output_type": "stream",
     "text": [
      "Averaged stats: lr: 0.000200  loss: 24.8060 (24.7436)  loss_mal: 0.9561 (0.9438)  loss_bbox: 0.2712 (0.2635)  loss_giou: 0.7325 (0.6781)  loss_fgl: 1.1264 (1.1360)  loss_mal_aux_0: 0.9390 (0.9542)  loss_bbox_aux_0: 0.2764 (0.2712)  loss_giou_aux_0: 0.7565 (0.7058)  loss_fgl_aux_0: 1.1282 (1.1429)  loss_ddf_aux_0: 0.1053 (0.1073)  loss_mal_aux_1: 0.9707 (0.9576)  loss_bbox_aux_1: 0.2715 (0.2635)  loss_giou_aux_1: 0.7335 (0.6793)  loss_fgl_aux_1: 1.1257 (1.1348)  loss_ddf_aux_1: 0.0066 (0.0069)  loss_mal_pre: 0.9355 (0.9529)  loss_bbox_pre: 0.2754 (0.2708)  loss_giou_pre: 0.7555 (0.7034)  loss_mal_enc_0: 0.9863 (0.9965)  loss_bbox_enc_0: 0.3062 (0.3012)  loss_giou_enc_0: 0.8175 (0.7741)  loss_mal_dn_0: 0.7651 (0.7635)  loss_bbox_dn_0: 0.3404 (0.3318)  loss_giou_dn_0: 0.9131 (0.8985)  loss_fgl_dn_0: 1.1020 (1.1040)  loss_ddf_dn_0: 0.5487 (0.5489)  loss_mal_dn_1: 0.7852 (0.7866)  loss_bbox_dn_1: 0.3013 (0.2839)  loss_giou_dn_1: 0.7706 (0.7527)  loss_fgl_dn_1: 1.1068 (1.1001)  loss_ddf_dn_1: 0.0461 (0.0462)  loss_mal_dn_2: 0.7861 (0.7861)  loss_bbox_dn_2: 0.2930 (0.2738)  loss_giou_dn_2: 0.7391 (0.7226)  loss_fgl_dn_2: 1.1115 (1.1032)  loss_mal_dn_pre: 0.7651 (0.7614)  loss_bbox_dn_pre: 0.3440 (0.3346)  loss_giou_dn_pre: 0.9140 (0.9018)\n"
     ]
    },
    {
     "name": "stderr",
     "output_type": "stream",
     "text": [
      "Evaluating: 100%|██████████| 5/5 [00:01<00:00,  3.42it/s]\n",
      "\u001b[32m2025-03-10 18:19:56.750\u001b[0m | \u001b[1mINFO    \u001b[0m | \u001b[36mdeimkit.trainer\u001b[0m:\u001b[36mtrain\u001b[0m:\u001b[36m313\u001b[0m - \u001b[1mEpoch 33 - Train loss: 24.7436, Eval mAP: 0.4458\u001b[0m\n",
      "\u001b[32m2025-03-10 18:19:56.751\u001b[0m | \u001b[1mINFO    \u001b[0m | \u001b[36mdeimkit.trainer\u001b[0m:\u001b[36mtrain\u001b[0m:\u001b[36m316\u001b[0m - \u001b[1mBest stats: {'epoch': 32, 'coco_eval_bbox': 0.4774858237431653}\u001b[0m\n",
      "\u001b[32m2025-03-10 18:19:56.751\u001b[0m | \u001b[1mINFO    \u001b[0m | \u001b[36mdeimkit.trainer\u001b[0m:\u001b[36mtrain\u001b[0m:\u001b[36m224\u001b[0m - \u001b[1mEpoch 34/80\u001b[0m\n"
     ]
    },
    {
     "name": "stdout",
     "output_type": "stream",
     "text": [
      "Averaged stats: \n",
      "Accumulating evaluation results...\n",
      "COCOeval_opt.accumulate() finished...\n",
      "DONE (t=0.02s).\n",
      "IoU metric: bbox\n",
      " Average Precision  (AP) @[ IoU=0.50:0.95 | area=   all | maxDets=100 ] = 0.446\n",
      " Average Precision  (AP) @[ IoU=0.50      | area=   all | maxDets=100 ] = 0.698\n",
      " Average Precision  (AP) @[ IoU=0.75      | area=   all | maxDets=100 ] = 0.516\n",
      " Average Precision  (AP) @[ IoU=0.50:0.95 | area= small | maxDets=100 ] = 0.199\n",
      " Average Precision  (AP) @[ IoU=0.50:0.95 | area=medium | maxDets=100 ] = 0.442\n",
      " Average Precision  (AP) @[ IoU=0.50:0.95 | area= large | maxDets=100 ] = 0.344\n",
      " Average Recall     (AR) @[ IoU=0.50:0.95 | area=   all | maxDets=  1 ] = 0.368\n",
      " Average Recall     (AR) @[ IoU=0.50:0.95 | area=   all | maxDets= 10 ] = 0.619\n",
      " Average Recall     (AR) @[ IoU=0.50:0.95 | area=   all | maxDets=100 ] = 0.741\n",
      " Average Recall     (AR) @[ IoU=0.50:0.95 | area= small | maxDets=100 ] = 0.740\n",
      " Average Recall     (AR) @[ IoU=0.50:0.95 | area=medium | maxDets=100 ] = 0.648\n",
      " Average Recall     (AR) @[ IoU=0.50:0.95 | area= large | maxDets=100 ] = 0.531\n",
      " Average Recall     (AR) @[ IoU=0.50      | area=   all | maxDets=100 ] = 0.994\n",
      " Average Recall     (AR) @[ IoU=0.75      | area=   all | maxDets=100 ] = 0.887\n"
     ]
    },
    {
     "name": "stderr",
     "output_type": "stream",
     "text": [
      "Epoch 34: 100%|██████████| 15/15 [00:09<00:00,  1.62it/s, loss=25.2956]\n",
      "\u001b[32m2025-03-10 18:20:06.003\u001b[0m | \u001b[1mINFO    \u001b[0m | \u001b[36mdeimkit.trainer\u001b[0m:\u001b[36mevaluate\u001b[0m:\u001b[36m332\u001b[0m - \u001b[1mEvaluating model...\u001b[0m\n"
     ]
    },
    {
     "name": "stdout",
     "output_type": "stream",
     "text": [
      "Averaged stats: lr: 0.000200  loss: 24.9887 (24.8747)  loss_mal: 0.9507 (0.9454)  loss_bbox: 0.2725 (0.2570)  loss_giou: 0.7009 (0.6749)  loss_fgl: 1.1310 (1.1464)  loss_mal_aux_0: 0.9204 (0.9546)  loss_bbox_aux_0: 0.2843 (0.2645)  loss_giou_aux_0: 0.7333 (0.7025)  loss_fgl_aux_0: 1.1429 (1.1523)  loss_ddf_aux_0: 0.1399 (0.1526)  loss_mal_aux_1: 0.9487 (0.9481)  loss_bbox_aux_1: 0.2721 (0.2569)  loss_giou_aux_1: 0.6992 (0.6758)  loss_fgl_aux_1: 1.1303 (1.1456)  loss_ddf_aux_1: 0.0064 (0.0068)  loss_mal_pre: 0.9180 (0.9519)  loss_bbox_pre: 0.2833 (0.2641)  loss_giou_pre: 0.7306 (0.7005)  loss_mal_enc_0: 0.9526 (0.9670)  loss_bbox_enc_0: 0.2904 (0.2914)  loss_giou_enc_0: 0.7773 (0.7695)  loss_mal_dn_0: 0.7617 (0.7629)  loss_bbox_dn_0: 0.3250 (0.3268)  loss_giou_dn_0: 0.9345 (0.9224)  loss_fgl_dn_0: 1.0873 (1.0958)  loss_ddf_dn_0: 0.6323 (0.6416)  loss_mal_dn_1: 0.7871 (0.7887)  loss_bbox_dn_1: 0.2945 (0.2805)  loss_giou_dn_1: 0.7855 (0.7667)  loss_fgl_dn_1: 1.0972 (1.0985)  loss_ddf_dn_1: 0.0460 (0.0475)  loss_mal_dn_2: 0.7910 (0.7880)  loss_bbox_dn_2: 0.2867 (0.2737)  loss_giou_dn_2: 0.7590 (0.7372)  loss_fgl_dn_2: 1.1033 (1.1036)  loss_mal_dn_pre: 0.7583 (0.7613)  loss_bbox_dn_pre: 0.3247 (0.3283)  loss_giou_dn_pre: 0.9412 (0.9234)\n"
     ]
    },
    {
     "name": "stderr",
     "output_type": "stream",
     "text": [
      "Evaluating: 100%|██████████| 5/5 [00:01<00:00,  3.29it/s]\n",
      "\u001b[32m2025-03-10 18:20:07.553\u001b[0m | \u001b[1mINFO    \u001b[0m | \u001b[36mdeimkit.trainer\u001b[0m:\u001b[36mtrain\u001b[0m:\u001b[36m313\u001b[0m - \u001b[1mEpoch 34 - Train loss: 24.8747, Eval mAP: 0.4623\u001b[0m\n",
      "\u001b[32m2025-03-10 18:20:07.553\u001b[0m | \u001b[1mINFO    \u001b[0m | \u001b[36mdeimkit.trainer\u001b[0m:\u001b[36mtrain\u001b[0m:\u001b[36m316\u001b[0m - \u001b[1mBest stats: {'epoch': 32, 'coco_eval_bbox': 0.4774858237431653}\u001b[0m\n",
      "\u001b[32m2025-03-10 18:20:07.554\u001b[0m | \u001b[1mINFO    \u001b[0m | \u001b[36mdeimkit.trainer\u001b[0m:\u001b[36mtrain\u001b[0m:\u001b[36m224\u001b[0m - \u001b[1mEpoch 35/80\u001b[0m\n"
     ]
    },
    {
     "name": "stdout",
     "output_type": "stream",
     "text": [
      "Averaged stats: \n",
      "Accumulating evaluation results...\n",
      "COCOeval_opt.accumulate() finished...\n",
      "DONE (t=0.02s).\n",
      "IoU metric: bbox\n",
      " Average Precision  (AP) @[ IoU=0.50:0.95 | area=   all | maxDets=100 ] = 0.462\n",
      " Average Precision  (AP) @[ IoU=0.50      | area=   all | maxDets=100 ] = 0.705\n",
      " Average Precision  (AP) @[ IoU=0.75      | area=   all | maxDets=100 ] = 0.563\n",
      " Average Precision  (AP) @[ IoU=0.50:0.95 | area= small | maxDets=100 ] = 0.218\n",
      " Average Precision  (AP) @[ IoU=0.50:0.95 | area=medium | maxDets=100 ] = 0.484\n",
      " Average Precision  (AP) @[ IoU=0.50:0.95 | area= large | maxDets=100 ] = 0.371\n",
      " Average Recall     (AR) @[ IoU=0.50:0.95 | area=   all | maxDets=  1 ] = 0.344\n",
      " Average Recall     (AR) @[ IoU=0.50:0.95 | area=   all | maxDets= 10 ] = 0.615\n",
      " Average Recall     (AR) @[ IoU=0.50:0.95 | area=   all | maxDets=100 ] = 0.731\n",
      " Average Recall     (AR) @[ IoU=0.50:0.95 | area= small | maxDets=100 ] = 0.640\n",
      " Average Recall     (AR) @[ IoU=0.50:0.95 | area=medium | maxDets=100 ] = 0.679\n",
      " Average Recall     (AR) @[ IoU=0.50:0.95 | area= large | maxDets=100 ] = 0.527\n",
      " Average Recall     (AR) @[ IoU=0.50      | area=   all | maxDets=100 ] = 0.984\n",
      " Average Recall     (AR) @[ IoU=0.75      | area=   all | maxDets=100 ] = 0.847\n"
     ]
    },
    {
     "name": "stderr",
     "output_type": "stream",
     "text": [
      "Epoch 35: 100%|██████████| 15/15 [00:09<00:00,  1.63it/s, loss=25.5044]\n",
      "\u001b[32m2025-03-10 18:20:16.783\u001b[0m | \u001b[1mINFO    \u001b[0m | \u001b[36mdeimkit.trainer\u001b[0m:\u001b[36m_save_checkpoint\u001b[0m:\u001b[36m364\u001b[0m - \u001b[1mSaving checkpoint to outputs/deim_hgnetv2_s_80e/checkpoint0035.pth\u001b[0m\n"
     ]
    },
    {
     "name": "stdout",
     "output_type": "stream",
     "text": [
      "Averaged stats: lr: 0.000200  loss: 24.5434 (24.5811)  loss_mal: 0.9341 (0.9663)  loss_bbox: 0.2103 (0.2395)  loss_giou: 0.6283 (0.6304)  loss_fgl: 1.1609 (1.1497)  loss_mal_aux_0: 0.9468 (0.9783)  loss_bbox_aux_0: 0.2156 (0.2490)  loss_giou_aux_0: 0.6836 (0.6613)  loss_fgl_aux_0: 1.1693 (1.1592)  loss_ddf_aux_0: 0.1530 (0.1527)  loss_mal_aux_1: 0.9404 (0.9807)  loss_bbox_aux_1: 0.2102 (0.2397)  loss_giou_aux_1: 0.6350 (0.6321)  loss_fgl_aux_1: 1.1618 (1.1498)  loss_ddf_aux_1: 0.0070 (0.0075)  loss_mal_pre: 0.9478 (0.9754)  loss_bbox_pre: 0.2154 (0.2486)  loss_giou_pre: 0.6828 (0.6606)  loss_mal_enc_0: 0.9966 (1.0237)  loss_bbox_enc_0: 0.2581 (0.2805)  loss_giou_enc_0: 0.7516 (0.7295)  loss_mal_dn_0: 0.7744 (0.7756)  loss_bbox_dn_0: 0.3038 (0.3169)  loss_giou_dn_0: 0.8547 (0.8709)  loss_fgl_dn_0: 1.1245 (1.1181)  loss_ddf_dn_0: 0.6799 (0.6564)  loss_mal_dn_1: 0.7944 (0.7946)  loss_bbox_dn_1: 0.2611 (0.2636)  loss_giou_dn_1: 0.6773 (0.7068)  loss_fgl_dn_1: 1.1143 (1.1129)  loss_ddf_dn_1: 0.0459 (0.0494)  loss_mal_dn_2: 0.7861 (0.7890)  loss_bbox_dn_2: 0.2540 (0.2534)  loss_giou_dn_2: 0.6477 (0.6765)  loss_fgl_dn_2: 1.1176 (1.1169)  loss_mal_dn_pre: 0.7759 (0.7731)  loss_bbox_dn_pre: 0.3020 (0.3193)  loss_giou_dn_pre: 0.8728 (0.8733)\n"
     ]
    },
    {
     "name": "stderr",
     "output_type": "stream",
     "text": [
      "\u001b[32m2025-03-10 18:20:17.088\u001b[0m | \u001b[1mINFO    \u001b[0m | \u001b[36mdeimkit.trainer\u001b[0m:\u001b[36m_save_checkpoint\u001b[0m:\u001b[36m381\u001b[0m - \u001b[1mCheckpoint saved to outputs/deim_hgnetv2_s_80e/checkpoint0035.pth\u001b[0m\n",
      "\u001b[32m2025-03-10 18:20:17.089\u001b[0m | \u001b[1mINFO    \u001b[0m | \u001b[36mdeimkit.trainer\u001b[0m:\u001b[36mevaluate\u001b[0m:\u001b[36m332\u001b[0m - \u001b[1mEvaluating model...\u001b[0m\n",
      "Evaluating: 100%|██████████| 5/5 [00:01<00:00,  3.26it/s]\n",
      "\u001b[32m2025-03-10 18:20:18.659\u001b[0m | \u001b[1mINFO    \u001b[0m | \u001b[36mdeimkit.trainer\u001b[0m:\u001b[36mtrain\u001b[0m:\u001b[36m313\u001b[0m - \u001b[1mEpoch 35 - Train loss: 24.5811, Eval mAP: 0.4555\u001b[0m\n",
      "\u001b[32m2025-03-10 18:20:18.660\u001b[0m | \u001b[1mINFO    \u001b[0m | \u001b[36mdeimkit.trainer\u001b[0m:\u001b[36mtrain\u001b[0m:\u001b[36m316\u001b[0m - \u001b[1mBest stats: {'epoch': 32, 'coco_eval_bbox': 0.4774858237431653}\u001b[0m\n",
      "\u001b[32m2025-03-10 18:20:18.660\u001b[0m | \u001b[1mINFO    \u001b[0m | \u001b[36mdeimkit.trainer\u001b[0m:\u001b[36mtrain\u001b[0m:\u001b[36m224\u001b[0m - \u001b[1mEpoch 36/80\u001b[0m\n"
     ]
    },
    {
     "name": "stdout",
     "output_type": "stream",
     "text": [
      "Averaged stats: \n",
      "Accumulating evaluation results...\n",
      "COCOeval_opt.accumulate() finished...\n",
      "DONE (t=0.03s).\n",
      "IoU metric: bbox\n",
      " Average Precision  (AP) @[ IoU=0.50:0.95 | area=   all | maxDets=100 ] = 0.456\n",
      " Average Precision  (AP) @[ IoU=0.50      | area=   all | maxDets=100 ] = 0.695\n",
      " Average Precision  (AP) @[ IoU=0.75      | area=   all | maxDets=100 ] = 0.543\n",
      " Average Precision  (AP) @[ IoU=0.50:0.95 | area= small | maxDets=100 ] = 0.233\n",
      " Average Precision  (AP) @[ IoU=0.50:0.95 | area=medium | maxDets=100 ] = 0.444\n",
      " Average Precision  (AP) @[ IoU=0.50:0.95 | area= large | maxDets=100 ] = 0.365\n",
      " Average Recall     (AR) @[ IoU=0.50:0.95 | area=   all | maxDets=  1 ] = 0.357\n",
      " Average Recall     (AR) @[ IoU=0.50:0.95 | area=   all | maxDets= 10 ] = 0.628\n",
      " Average Recall     (AR) @[ IoU=0.50:0.95 | area=   all | maxDets=100 ] = 0.744\n",
      " Average Recall     (AR) @[ IoU=0.50:0.95 | area= small | maxDets=100 ] = 0.740\n",
      " Average Recall     (AR) @[ IoU=0.50:0.95 | area=medium | maxDets=100 ] = 0.651\n",
      " Average Recall     (AR) @[ IoU=0.50:0.95 | area= large | maxDets=100 ] = 0.534\n",
      " Average Recall     (AR) @[ IoU=0.50      | area=   all | maxDets=100 ] = 0.980\n",
      " Average Recall     (AR) @[ IoU=0.75      | area=   all | maxDets=100 ] = 0.901\n"
     ]
    },
    {
     "name": "stderr",
     "output_type": "stream",
     "text": [
      "Epoch 36: 100%|██████████| 15/15 [00:08<00:00,  1.70it/s, loss=25.5911]\n",
      "\u001b[32m2025-03-10 18:20:27.503\u001b[0m | \u001b[1mINFO    \u001b[0m | \u001b[36mdeimkit.trainer\u001b[0m:\u001b[36mevaluate\u001b[0m:\u001b[36m332\u001b[0m - \u001b[1mEvaluating model...\u001b[0m\n"
     ]
    },
    {
     "name": "stdout",
     "output_type": "stream",
     "text": [
      "Averaged stats: lr: 0.000200  loss: 25.1351 (24.8861)  loss_mal: 0.9360 (0.9638)  loss_bbox: 0.2837 (0.2682)  loss_giou: 0.6637 (0.6721)  loss_fgl: 1.1428 (1.1374)  loss_mal_aux_0: 0.9180 (0.9622)  loss_bbox_aux_0: 0.2941 (0.2760)  loss_giou_aux_0: 0.7218 (0.7014)  loss_fgl_aux_0: 1.1467 (1.1440)  loss_ddf_aux_0: 0.1554 (0.1481)  loss_mal_aux_1: 0.9375 (0.9642)  loss_bbox_aux_1: 0.2819 (0.2680)  loss_giou_aux_1: 0.6677 (0.6728)  loss_fgl_aux_1: 1.1412 (1.1369)  loss_ddf_aux_1: 0.0073 (0.0069)  loss_mal_pre: 0.9150 (0.9595)  loss_bbox_pre: 0.2940 (0.2764)  loss_giou_pre: 0.7221 (0.7014)  loss_mal_enc_0: 0.9375 (0.9875)  loss_bbox_enc_0: 0.3125 (0.3063)  loss_giou_enc_0: 0.7752 (0.7792)  loss_mal_dn_0: 0.7690 (0.7686)  loss_bbox_dn_0: 0.3129 (0.3242)  loss_giou_dn_0: 0.9299 (0.8869)  loss_fgl_dn_0: 1.1021 (1.1163)  loss_ddf_dn_0: 0.6552 (0.6380)  loss_mal_dn_1: 0.7900 (0.7905)  loss_bbox_dn_1: 0.2690 (0.2782)  loss_giou_dn_1: 0.7927 (0.7338)  loss_fgl_dn_1: 1.1047 (1.1071)  loss_ddf_dn_1: 0.0462 (0.0453)  loss_mal_dn_2: 0.7881 (0.7911)  loss_bbox_dn_2: 0.2628 (0.2720)  loss_giou_dn_2: 0.7685 (0.7084)  loss_fgl_dn_2: 1.1123 (1.1105)  loss_mal_dn_pre: 0.7656 (0.7665)  loss_bbox_dn_pre: 0.3160 (0.3272)  loss_giou_dn_pre: 0.9371 (0.8892)\n"
     ]
    },
    {
     "name": "stderr",
     "output_type": "stream",
     "text": [
      "Evaluating: 100%|██████████| 5/5 [00:01<00:00,  3.57it/s]\n",
      "\u001b[32m2025-03-10 18:20:28.934\u001b[0m | \u001b[1mINFO    \u001b[0m | \u001b[36mdeimkit.trainer\u001b[0m:\u001b[36m_save_checkpoint\u001b[0m:\u001b[36m364\u001b[0m - \u001b[1mSaving checkpoint to outputs/deim_hgnetv2_s_80e/best.pth\u001b[0m\n"
     ]
    },
    {
     "name": "stdout",
     "output_type": "stream",
     "text": [
      "Averaged stats: \n",
      "Accumulating evaluation results...\n",
      "COCOeval_opt.accumulate() finished...\n",
      "DONE (t=0.02s).\n",
      "IoU metric: bbox\n",
      " Average Precision  (AP) @[ IoU=0.50:0.95 | area=   all | maxDets=100 ] = 0.485\n",
      " Average Precision  (AP) @[ IoU=0.50      | area=   all | maxDets=100 ] = 0.755\n",
      " Average Precision  (AP) @[ IoU=0.75      | area=   all | maxDets=100 ] = 0.584\n",
      " Average Precision  (AP) @[ IoU=0.50:0.95 | area= small | maxDets=100 ] = 0.264\n",
      " Average Precision  (AP) @[ IoU=0.50:0.95 | area=medium | maxDets=100 ] = 0.502\n",
      " Average Precision  (AP) @[ IoU=0.50:0.95 | area= large | maxDets=100 ] = 0.365\n",
      " Average Recall     (AR) @[ IoU=0.50:0.95 | area=   all | maxDets=  1 ] = 0.352\n",
      " Average Recall     (AR) @[ IoU=0.50:0.95 | area=   all | maxDets= 10 ] = 0.631\n",
      " Average Recall     (AR) @[ IoU=0.50:0.95 | area=   all | maxDets=100 ] = 0.748\n",
      " Average Recall     (AR) @[ IoU=0.50:0.95 | area= small | maxDets=100 ] = 0.800\n",
      " Average Recall     (AR) @[ IoU=0.50:0.95 | area=medium | maxDets=100 ] = 0.692\n",
      " Average Recall     (AR) @[ IoU=0.50:0.95 | area= large | maxDets=100 ] = 0.530\n",
      " Average Recall     (AR) @[ IoU=0.50      | area=   all | maxDets=100 ] = 0.992\n",
      " Average Recall     (AR) @[ IoU=0.75      | area=   all | maxDets=100 ] = 0.898\n"
     ]
    },
    {
     "name": "stderr",
     "output_type": "stream",
     "text": [
      "\u001b[32m2025-03-10 18:20:29.256\u001b[0m | \u001b[1mINFO    \u001b[0m | \u001b[36mdeimkit.trainer\u001b[0m:\u001b[36m_save_checkpoint\u001b[0m:\u001b[36m381\u001b[0m - \u001b[1mCheckpoint saved to outputs/deim_hgnetv2_s_80e/best.pth\u001b[0m\n",
      "\u001b[32m2025-03-10 18:20:29.258\u001b[0m | \u001b[1mINFO    \u001b[0m | \u001b[36mdeimkit.trainer\u001b[0m:\u001b[36mtrain\u001b[0m:\u001b[36m313\u001b[0m - \u001b[1mEpoch 36 - Train loss: 24.8861, Eval mAP: 0.4848\u001b[0m\n",
      "\u001b[32m2025-03-10 18:20:29.259\u001b[0m | \u001b[1mINFO    \u001b[0m | \u001b[36mdeimkit.trainer\u001b[0m:\u001b[36mtrain\u001b[0m:\u001b[36m316\u001b[0m - \u001b[1mBest stats: {'epoch': 36, 'coco_eval_bbox': 0.48478378283905793}\u001b[0m\n",
      "\u001b[32m2025-03-10 18:20:29.260\u001b[0m | \u001b[1mINFO    \u001b[0m | \u001b[36mdeimkit.trainer\u001b[0m:\u001b[36mtrain\u001b[0m:\u001b[36m224\u001b[0m - \u001b[1mEpoch 37/80\u001b[0m\n",
      "Epoch 37: 100%|██████████| 15/15 [00:08<00:00,  1.79it/s, loss=23.0807]\n",
      "\u001b[32m2025-03-10 18:20:37.666\u001b[0m | \u001b[1mINFO    \u001b[0m | \u001b[36mdeimkit.trainer\u001b[0m:\u001b[36mevaluate\u001b[0m:\u001b[36m332\u001b[0m - \u001b[1mEvaluating model...\u001b[0m\n"
     ]
    },
    {
     "name": "stdout",
     "output_type": "stream",
     "text": [
      "Averaged stats: lr: 0.000200  loss: 23.7806 (23.8591)  loss_mal: 0.9268 (0.9356)  loss_bbox: 0.1834 (0.2152)  loss_giou: 0.5352 (0.5791)  loss_fgl: 1.1710 (1.1636)  loss_mal_aux_0: 0.9336 (0.9381)  loss_bbox_aux_0: 0.1915 (0.2226)  loss_giou_aux_0: 0.5601 (0.6068)  loss_fgl_aux_0: 1.1829 (1.1733)  loss_ddf_aux_0: 0.1453 (0.1496)  loss_mal_aux_1: 0.9365 (0.9327)  loss_bbox_aux_1: 0.1834 (0.2153)  loss_giou_aux_1: 0.5367 (0.5803)  loss_fgl_aux_1: 1.1716 (1.1637)  loss_ddf_aux_1: 0.0064 (0.0063)  loss_mal_pre: 0.9287 (0.9349)  loss_bbox_pre: 0.1929 (0.2224)  loss_giou_pre: 0.5561 (0.6070)  loss_mal_enc_0: 0.9941 (0.9839)  loss_bbox_enc_0: 0.2155 (0.2480)  loss_giou_enc_0: 0.6071 (0.6750)  loss_mal_dn_0: 0.7778 (0.7783)  loss_bbox_dn_0: 0.2693 (0.2876)  loss_giou_dn_0: 0.7979 (0.8218)  loss_fgl_dn_0: 1.1457 (1.1416)  loss_ddf_dn_0: 0.7336 (0.7312)  loss_mal_dn_1: 0.7900 (0.7992)  loss_bbox_dn_1: 0.2119 (0.2355)  loss_giou_dn_1: 0.6270 (0.6577)  loss_fgl_dn_1: 1.1328 (1.1236)  loss_ddf_dn_1: 0.0491 (0.0508)  loss_mal_dn_2: 0.7979 (0.8015)  loss_bbox_dn_2: 0.2045 (0.2268)  loss_giou_dn_2: 0.6068 (0.6297)  loss_fgl_dn_2: 1.1332 (1.1257)  loss_mal_dn_pre: 0.7729 (0.7751)  loss_bbox_dn_pre: 0.2776 (0.2907)  loss_giou_dn_pre: 0.8027 (0.8289)\n"
     ]
    },
    {
     "name": "stderr",
     "output_type": "stream",
     "text": [
      "Evaluating: 100%|██████████| 5/5 [00:01<00:00,  3.48it/s]\n",
      "\u001b[32m2025-03-10 18:20:39.131\u001b[0m | \u001b[1mINFO    \u001b[0m | \u001b[36mdeimkit.trainer\u001b[0m:\u001b[36m_save_checkpoint\u001b[0m:\u001b[36m364\u001b[0m - \u001b[1mSaving checkpoint to outputs/deim_hgnetv2_s_80e/best.pth\u001b[0m\n"
     ]
    },
    {
     "name": "stdout",
     "output_type": "stream",
     "text": [
      "Averaged stats: \n",
      "Accumulating evaluation results...\n",
      "COCOeval_opt.accumulate() finished...\n",
      "DONE (t=0.02s).\n",
      "IoU metric: bbox\n",
      " Average Precision  (AP) @[ IoU=0.50:0.95 | area=   all | maxDets=100 ] = 0.512\n",
      " Average Precision  (AP) @[ IoU=0.50      | area=   all | maxDets=100 ] = 0.769\n",
      " Average Precision  (AP) @[ IoU=0.75      | area=   all | maxDets=100 ] = 0.616\n",
      " Average Precision  (AP) @[ IoU=0.50:0.95 | area= small | maxDets=100 ] = 0.377\n",
      " Average Precision  (AP) @[ IoU=0.50:0.95 | area=medium | maxDets=100 ] = 0.526\n",
      " Average Precision  (AP) @[ IoU=0.50:0.95 | area= large | maxDets=100 ] = 0.390\n",
      " Average Recall     (AR) @[ IoU=0.50:0.95 | area=   all | maxDets=  1 ] = 0.380\n",
      " Average Recall     (AR) @[ IoU=0.50:0.95 | area=   all | maxDets= 10 ] = 0.646\n",
      " Average Recall     (AR) @[ IoU=0.50:0.95 | area=   all | maxDets=100 ] = 0.762\n",
      " Average Recall     (AR) @[ IoU=0.50:0.95 | area= small | maxDets=100 ] = 0.780\n",
      " Average Recall     (AR) @[ IoU=0.50:0.95 | area=medium | maxDets=100 ] = 0.700\n",
      " Average Recall     (AR) @[ IoU=0.50:0.95 | area= large | maxDets=100 ] = 0.537\n",
      " Average Recall     (AR) @[ IoU=0.50      | area=   all | maxDets=100 ] = 0.994\n",
      " Average Recall     (AR) @[ IoU=0.75      | area=   all | maxDets=100 ] = 0.925\n"
     ]
    },
    {
     "name": "stderr",
     "output_type": "stream",
     "text": [
      "\u001b[32m2025-03-10 18:20:39.498\u001b[0m | \u001b[1mINFO    \u001b[0m | \u001b[36mdeimkit.trainer\u001b[0m:\u001b[36m_save_checkpoint\u001b[0m:\u001b[36m381\u001b[0m - \u001b[1mCheckpoint saved to outputs/deim_hgnetv2_s_80e/best.pth\u001b[0m\n",
      "\u001b[32m2025-03-10 18:20:39.499\u001b[0m | \u001b[1mINFO    \u001b[0m | \u001b[36mdeimkit.trainer\u001b[0m:\u001b[36mtrain\u001b[0m:\u001b[36m313\u001b[0m - \u001b[1mEpoch 37 - Train loss: 23.8591, Eval mAP: 0.5122\u001b[0m\n",
      "\u001b[32m2025-03-10 18:20:39.500\u001b[0m | \u001b[1mINFO    \u001b[0m | \u001b[36mdeimkit.trainer\u001b[0m:\u001b[36mtrain\u001b[0m:\u001b[36m316\u001b[0m - \u001b[1mBest stats: {'epoch': 37, 'coco_eval_bbox': 0.5122440039180258}\u001b[0m\n",
      "\u001b[32m2025-03-10 18:20:39.500\u001b[0m | \u001b[1mINFO    \u001b[0m | \u001b[36mdeimkit.trainer\u001b[0m:\u001b[36mtrain\u001b[0m:\u001b[36m224\u001b[0m - \u001b[1mEpoch 38/80\u001b[0m\n",
      "Epoch 38: 100%|██████████| 15/15 [00:08<00:00,  1.75it/s, loss=24.3246]\n",
      "\u001b[32m2025-03-10 18:20:48.078\u001b[0m | \u001b[1mINFO    \u001b[0m | \u001b[36mdeimkit.trainer\u001b[0m:\u001b[36mevaluate\u001b[0m:\u001b[36m332\u001b[0m - \u001b[1mEvaluating model...\u001b[0m\n"
     ]
    },
    {
     "name": "stdout",
     "output_type": "stream",
     "text": [
      "Averaged stats: lr: 0.000200  loss: 24.3246 (24.1457)  loss_mal: 0.9380 (0.9422)  loss_bbox: 0.2353 (0.2288)  loss_giou: 0.6199 (0.6164)  loss_fgl: 1.1718 (1.1536)  loss_mal_aux_0: 0.9478 (0.9507)  loss_bbox_aux_0: 0.2383 (0.2349)  loss_giou_aux_0: 0.6384 (0.6375)  loss_fgl_aux_0: 1.1773 (1.1604)  loss_ddf_aux_0: 0.1149 (0.1132)  loss_mal_aux_1: 0.9390 (0.9483)  loss_bbox_aux_1: 0.2356 (0.2289)  loss_giou_aux_1: 0.6202 (0.6168)  loss_fgl_aux_1: 1.1704 (1.1528)  loss_ddf_aux_1: 0.0052 (0.0053)  loss_mal_pre: 0.9478 (0.9474)  loss_bbox_pre: 0.2384 (0.2352)  loss_giou_pre: 0.6354 (0.6375)  loss_mal_enc_0: 0.9663 (0.9840)  loss_bbox_enc_0: 0.2521 (0.2590)  loss_giou_enc_0: 0.6899 (0.7006)  loss_mal_dn_0: 0.7783 (0.7729)  loss_bbox_dn_0: 0.2986 (0.2990)  loss_giou_dn_0: 0.8574 (0.8493)  loss_fgl_dn_0: 1.1145 (1.1267)  loss_ddf_dn_0: 0.6812 (0.6820)  loss_mal_dn_1: 0.7983 (0.7949)  loss_bbox_dn_1: 0.2551 (0.2546)  loss_giou_dn_1: 0.7040 (0.6997)  loss_fgl_dn_1: 1.1143 (1.1139)  loss_ddf_dn_1: 0.0430 (0.0454)  loss_mal_dn_2: 0.7856 (0.7885)  loss_bbox_dn_2: 0.2508 (0.2466)  loss_giou_dn_2: 0.6795 (0.6749)  loss_fgl_dn_2: 1.1188 (1.1175)  loss_mal_dn_pre: 0.7749 (0.7699)  loss_bbox_dn_pre: 0.3005 (0.3018)  loss_giou_dn_pre: 0.8754 (0.8549)\n"
     ]
    },
    {
     "name": "stderr",
     "output_type": "stream",
     "text": [
      "Evaluating: 100%|██████████| 5/5 [00:01<00:00,  3.97it/s]\n",
      "\u001b[32m2025-03-10 18:20:49.369\u001b[0m | \u001b[1mINFO    \u001b[0m | \u001b[36mdeimkit.trainer\u001b[0m:\u001b[36mtrain\u001b[0m:\u001b[36m313\u001b[0m - \u001b[1mEpoch 38 - Train loss: 24.1457, Eval mAP: 0.4626\u001b[0m\n",
      "\u001b[32m2025-03-10 18:20:49.369\u001b[0m | \u001b[1mINFO    \u001b[0m | \u001b[36mdeimkit.trainer\u001b[0m:\u001b[36mtrain\u001b[0m:\u001b[36m316\u001b[0m - \u001b[1mBest stats: {'epoch': 37, 'coco_eval_bbox': 0.5122440039180258}\u001b[0m\n",
      "\u001b[32m2025-03-10 18:20:49.370\u001b[0m | \u001b[1mINFO    \u001b[0m | \u001b[36mdeimkit.trainer\u001b[0m:\u001b[36mtrain\u001b[0m:\u001b[36m224\u001b[0m - \u001b[1mEpoch 39/80\u001b[0m\n"
     ]
    },
    {
     "name": "stdout",
     "output_type": "stream",
     "text": [
      "Averaged stats: \n",
      "Accumulating evaluation results...\n",
      "COCOeval_opt.accumulate() finished...\n",
      "DONE (t=0.02s).\n",
      "IoU metric: bbox\n",
      " Average Precision  (AP) @[ IoU=0.50:0.95 | area=   all | maxDets=100 ] = 0.463\n",
      " Average Precision  (AP) @[ IoU=0.50      | area=   all | maxDets=100 ] = 0.712\n",
      " Average Precision  (AP) @[ IoU=0.75      | area=   all | maxDets=100 ] = 0.543\n",
      " Average Precision  (AP) @[ IoU=0.50:0.95 | area= small | maxDets=100 ] = 0.226\n",
      " Average Precision  (AP) @[ IoU=0.50:0.95 | area=medium | maxDets=100 ] = 0.383\n",
      " Average Precision  (AP) @[ IoU=0.50:0.95 | area= large | maxDets=100 ] = 0.360\n",
      " Average Recall     (AR) @[ IoU=0.50:0.95 | area=   all | maxDets=  1 ] = 0.344\n",
      " Average Recall     (AR) @[ IoU=0.50:0.95 | area=   all | maxDets= 10 ] = 0.627\n",
      " Average Recall     (AR) @[ IoU=0.50:0.95 | area=   all | maxDets=100 ] = 0.739\n",
      " Average Recall     (AR) @[ IoU=0.50:0.95 | area= small | maxDets=100 ] = 0.740\n",
      " Average Recall     (AR) @[ IoU=0.50:0.95 | area=medium | maxDets=100 ] = 0.680\n",
      " Average Recall     (AR) @[ IoU=0.50:0.95 | area= large | maxDets=100 ] = 0.521\n",
      " Average Recall     (AR) @[ IoU=0.50      | area=   all | maxDets=100 ] = 0.989\n",
      " Average Recall     (AR) @[ IoU=0.75      | area=   all | maxDets=100 ] = 0.887\n"
     ]
    },
    {
     "name": "stderr",
     "output_type": "stream",
     "text": [
      "Epoch 39: 100%|██████████| 15/15 [00:08<00:00,  1.69it/s, loss=24.8834]\n",
      "\u001b[32m2025-03-10 18:20:58.252\u001b[0m | \u001b[1mINFO    \u001b[0m | \u001b[36mdeimkit.trainer\u001b[0m:\u001b[36m_save_checkpoint\u001b[0m:\u001b[36m364\u001b[0m - \u001b[1mSaving checkpoint to outputs/deim_hgnetv2_s_80e/checkpoint0039.pth\u001b[0m\n"
     ]
    },
    {
     "name": "stdout",
     "output_type": "stream",
     "text": [
      "Averaged stats: lr: 0.000200  loss: 23.8994 (23.9816)  loss_mal: 0.9106 (0.9253)  loss_bbox: 0.1872 (0.2173)  loss_giou: 0.5587 (0.6083)  loss_fgl: 1.1491 (1.1567)  loss_mal_aux_0: 0.9170 (0.9408)  loss_bbox_aux_0: 0.2061 (0.2247)  loss_giou_aux_0: 0.6120 (0.6321)  loss_fgl_aux_0: 1.1625 (1.1643)  loss_ddf_aux_0: 0.1061 (0.1132)  loss_mal_aux_1: 0.9326 (0.9345)  loss_bbox_aux_1: 0.1884 (0.2178)  loss_giou_aux_1: 0.5627 (0.6096)  loss_fgl_aux_1: 1.1510 (1.1566)  loss_ddf_aux_1: 0.0052 (0.0052)  loss_mal_pre: 0.9126 (0.9388)  loss_bbox_pre: 0.2054 (0.2246)  loss_giou_pre: 0.6139 (0.6322)  loss_mal_enc_0: 0.9692 (0.9848)  loss_bbox_enc_0: 0.2696 (0.2559)  loss_giou_enc_0: 0.7234 (0.7168)  loss_mal_dn_0: 0.7734 (0.7718)  loss_bbox_dn_0: 0.2771 (0.2821)  loss_giou_dn_0: 0.8135 (0.8366)  loss_fgl_dn_0: 1.1451 (1.1395)  loss_ddf_dn_0: 0.7271 (0.7234)  loss_mal_dn_1: 0.7900 (0.7897)  loss_bbox_dn_1: 0.2124 (0.2350)  loss_giou_dn_1: 0.6420 (0.6817)  loss_fgl_dn_1: 1.1327 (1.1225)  loss_ddf_dn_1: 0.0446 (0.0456)  loss_mal_dn_2: 0.7876 (0.7872)  loss_bbox_dn_2: 0.2038 (0.2277)  loss_giou_dn_2: 0.6174 (0.6587)  loss_fgl_dn_2: 1.1321 (1.1244)  loss_mal_dn_pre: 0.7710 (0.7699)  loss_bbox_dn_pre: 0.2833 (0.2853)  loss_giou_dn_pre: 0.8251 (0.8407)\n"
     ]
    },
    {
     "name": "stderr",
     "output_type": "stream",
     "text": [
      "\u001b[32m2025-03-10 18:20:58.524\u001b[0m | \u001b[1mINFO    \u001b[0m | \u001b[36mdeimkit.trainer\u001b[0m:\u001b[36m_save_checkpoint\u001b[0m:\u001b[36m381\u001b[0m - \u001b[1mCheckpoint saved to outputs/deim_hgnetv2_s_80e/checkpoint0039.pth\u001b[0m\n",
      "\u001b[32m2025-03-10 18:20:58.525\u001b[0m | \u001b[1mINFO    \u001b[0m | \u001b[36mdeimkit.trainer\u001b[0m:\u001b[36mevaluate\u001b[0m:\u001b[36m332\u001b[0m - \u001b[1mEvaluating model...\u001b[0m\n",
      "Evaluating: 100%|██████████| 5/5 [00:01<00:00,  3.83it/s]\n",
      "\u001b[32m2025-03-10 18:20:59.861\u001b[0m | \u001b[1mINFO    \u001b[0m | \u001b[36mdeimkit.trainer\u001b[0m:\u001b[36m_save_checkpoint\u001b[0m:\u001b[36m364\u001b[0m - \u001b[1mSaving checkpoint to outputs/deim_hgnetv2_s_80e/best.pth\u001b[0m\n"
     ]
    },
    {
     "name": "stdout",
     "output_type": "stream",
     "text": [
      "Averaged stats: \n",
      "Accumulating evaluation results...\n",
      "COCOeval_opt.accumulate() finished...\n",
      "DONE (t=0.02s).\n",
      "IoU metric: bbox\n",
      " Average Precision  (AP) @[ IoU=0.50:0.95 | area=   all | maxDets=100 ] = 0.528\n",
      " Average Precision  (AP) @[ IoU=0.50      | area=   all | maxDets=100 ] = 0.775\n",
      " Average Precision  (AP) @[ IoU=0.75      | area=   all | maxDets=100 ] = 0.643\n",
      " Average Precision  (AP) @[ IoU=0.50:0.95 | area= small | maxDets=100 ] = 0.244\n",
      " Average Precision  (AP) @[ IoU=0.50:0.95 | area=medium | maxDets=100 ] = 0.518\n",
      " Average Precision  (AP) @[ IoU=0.50:0.95 | area= large | maxDets=100 ] = 0.402\n",
      " Average Recall     (AR) @[ IoU=0.50:0.95 | area=   all | maxDets=  1 ] = 0.385\n",
      " Average Recall     (AR) @[ IoU=0.50:0.95 | area=   all | maxDets= 10 ] = 0.652\n",
      " Average Recall     (AR) @[ IoU=0.50:0.95 | area=   all | maxDets=100 ] = 0.761\n",
      " Average Recall     (AR) @[ IoU=0.50:0.95 | area= small | maxDets=100 ] = 0.740\n",
      " Average Recall     (AR) @[ IoU=0.50:0.95 | area=medium | maxDets=100 ] = 0.707\n",
      " Average Recall     (AR) @[ IoU=0.50:0.95 | area= large | maxDets=100 ] = 0.540\n",
      " Average Recall     (AR) @[ IoU=0.50      | area=   all | maxDets=100 ] = 0.995\n",
      " Average Recall     (AR) @[ IoU=0.75      | area=   all | maxDets=100 ] = 0.917\n"
     ]
    },
    {
     "name": "stderr",
     "output_type": "stream",
     "text": [
      "\u001b[32m2025-03-10 18:21:00.438\u001b[0m | \u001b[1mINFO    \u001b[0m | \u001b[36mdeimkit.trainer\u001b[0m:\u001b[36m_save_checkpoint\u001b[0m:\u001b[36m381\u001b[0m - \u001b[1mCheckpoint saved to outputs/deim_hgnetv2_s_80e/best.pth\u001b[0m\n",
      "\u001b[32m2025-03-10 18:21:00.440\u001b[0m | \u001b[1mINFO    \u001b[0m | \u001b[36mdeimkit.trainer\u001b[0m:\u001b[36mtrain\u001b[0m:\u001b[36m313\u001b[0m - \u001b[1mEpoch 39 - Train loss: 23.9816, Eval mAP: 0.5276\u001b[0m\n",
      "\u001b[32m2025-03-10 18:21:00.440\u001b[0m | \u001b[1mINFO    \u001b[0m | \u001b[36mdeimkit.trainer\u001b[0m:\u001b[36mtrain\u001b[0m:\u001b[36m316\u001b[0m - \u001b[1mBest stats: {'epoch': 39, 'coco_eval_bbox': 0.5276093648159423}\u001b[0m\n",
      "\u001b[32m2025-03-10 18:21:00.441\u001b[0m | \u001b[1mINFO    \u001b[0m | \u001b[36mdeimkit.trainer\u001b[0m:\u001b[36mtrain\u001b[0m:\u001b[36m224\u001b[0m - \u001b[1mEpoch 40/80\u001b[0m\n",
      "Epoch 40: 100%|██████████| 15/15 [00:08<00:00,  1.71it/s, loss=24.8574]\n",
      "\u001b[32m2025-03-10 18:21:09.230\u001b[0m | \u001b[1mINFO    \u001b[0m | \u001b[36mdeimkit.trainer\u001b[0m:\u001b[36mevaluate\u001b[0m:\u001b[36m332\u001b[0m - \u001b[1mEvaluating model...\u001b[0m\n"
     ]
    },
    {
     "name": "stdout",
     "output_type": "stream",
     "text": [
      "Averaged stats: lr: 0.000200  loss: 24.3002 (24.1895)  loss_mal: 0.9175 (0.9263)  loss_bbox: 0.2454 (0.2383)  loss_giou: 0.6157 (0.6220)  loss_fgl: 1.1611 (1.1470)  loss_mal_aux_0: 0.9209 (0.9351)  loss_bbox_aux_0: 0.2462 (0.2443)  loss_giou_aux_0: 0.6475 (0.6435)  loss_fgl_aux_0: 1.1671 (1.1550)  loss_ddf_aux_0: 0.1235 (0.1195)  loss_mal_aux_1: 0.9199 (0.9272)  loss_bbox_aux_1: 0.2437 (0.2384)  loss_giou_aux_1: 0.6168 (0.6228)  loss_fgl_aux_1: 1.1596 (1.1467)  loss_ddf_aux_1: 0.0050 (0.0052)  loss_mal_pre: 0.9194 (0.9314)  loss_bbox_pre: 0.2463 (0.2439)  loss_giou_pre: 0.6518 (0.6444)  loss_mal_enc_0: 0.9805 (0.9771)  loss_bbox_enc_0: 0.2706 (0.2633)  loss_giou_enc_0: 0.6885 (0.7003)  loss_mal_dn_0: 0.7710 (0.7709)  loss_bbox_dn_0: 0.3012 (0.3123)  loss_giou_dn_0: 0.8962 (0.8556)  loss_fgl_dn_0: 1.1217 (1.1262)  loss_ddf_dn_0: 0.6886 (0.6988)  loss_mal_dn_1: 0.7949 (0.7930)  loss_bbox_dn_1: 0.2601 (0.2626)  loss_giou_dn_1: 0.7218 (0.6999)  loss_fgl_dn_1: 1.1218 (1.1162)  loss_ddf_dn_1: 0.0442 (0.0439)  loss_mal_dn_2: 0.7866 (0.7889)  loss_bbox_dn_2: 0.2548 (0.2555)  loss_giou_dn_2: 0.6952 (0.6757)  loss_fgl_dn_2: 1.1188 (1.1186)  loss_mal_dn_pre: 0.7656 (0.7682)  loss_bbox_dn_pre: 0.2992 (0.3131)  loss_giou_dn_pre: 0.8881 (0.8585)\n"
     ]
    },
    {
     "name": "stderr",
     "output_type": "stream",
     "text": [
      "Evaluating: 100%|██████████| 5/5 [00:01<00:00,  3.82it/s]\n",
      "\u001b[32m2025-03-10 18:21:10.571\u001b[0m | \u001b[1mINFO    \u001b[0m | \u001b[36mdeimkit.trainer\u001b[0m:\u001b[36m_save_checkpoint\u001b[0m:\u001b[36m364\u001b[0m - \u001b[1mSaving checkpoint to outputs/deim_hgnetv2_s_80e/best.pth\u001b[0m\n"
     ]
    },
    {
     "name": "stdout",
     "output_type": "stream",
     "text": [
      "Averaged stats: \n",
      "Accumulating evaluation results...\n",
      "COCOeval_opt.accumulate() finished...\n",
      "DONE (t=0.02s).\n",
      "IoU metric: bbox\n",
      " Average Precision  (AP) @[ IoU=0.50:0.95 | area=   all | maxDets=100 ] = 0.533\n",
      " Average Precision  (AP) @[ IoU=0.50      | area=   all | maxDets=100 ] = 0.799\n",
      " Average Precision  (AP) @[ IoU=0.75      | area=   all | maxDets=100 ] = 0.636\n",
      " Average Precision  (AP) @[ IoU=0.50:0.95 | area= small | maxDets=100 ] = 0.435\n",
      " Average Precision  (AP) @[ IoU=0.50:0.95 | area=medium | maxDets=100 ] = 0.515\n",
      " Average Precision  (AP) @[ IoU=0.50:0.95 | area= large | maxDets=100 ] = 0.416\n",
      " Average Recall     (AR) @[ IoU=0.50:0.95 | area=   all | maxDets=  1 ] = 0.378\n",
      " Average Recall     (AR) @[ IoU=0.50:0.95 | area=   all | maxDets= 10 ] = 0.647\n",
      " Average Recall     (AR) @[ IoU=0.50:0.95 | area=   all | maxDets=100 ] = 0.761\n",
      " Average Recall     (AR) @[ IoU=0.50:0.95 | area= small | maxDets=100 ] = 0.680\n",
      " Average Recall     (AR) @[ IoU=0.50:0.95 | area=medium | maxDets=100 ] = 0.704\n",
      " Average Recall     (AR) @[ IoU=0.50:0.95 | area= large | maxDets=100 ] = 0.801\n",
      " Average Recall     (AR) @[ IoU=0.50      | area=   all | maxDets=100 ] = 0.998\n",
      " Average Recall     (AR) @[ IoU=0.75      | area=   all | maxDets=100 ] = 0.910\n"
     ]
    },
    {
     "name": "stderr",
     "output_type": "stream",
     "text": [
      "\u001b[32m2025-03-10 18:21:10.912\u001b[0m | \u001b[1mINFO    \u001b[0m | \u001b[36mdeimkit.trainer\u001b[0m:\u001b[36m_save_checkpoint\u001b[0m:\u001b[36m381\u001b[0m - \u001b[1mCheckpoint saved to outputs/deim_hgnetv2_s_80e/best.pth\u001b[0m\n",
      "\u001b[32m2025-03-10 18:21:10.914\u001b[0m | \u001b[1mINFO    \u001b[0m | \u001b[36mdeimkit.trainer\u001b[0m:\u001b[36mtrain\u001b[0m:\u001b[36m313\u001b[0m - \u001b[1mEpoch 40 - Train loss: 24.1895, Eval mAP: 0.5329\u001b[0m\n",
      "\u001b[32m2025-03-10 18:21:10.914\u001b[0m | \u001b[1mINFO    \u001b[0m | \u001b[36mdeimkit.trainer\u001b[0m:\u001b[36mtrain\u001b[0m:\u001b[36m316\u001b[0m - \u001b[1mBest stats: {'epoch': 40, 'coco_eval_bbox': 0.5328886194459542}\u001b[0m\n",
      "\u001b[32m2025-03-10 18:21:10.915\u001b[0m | \u001b[1mINFO    \u001b[0m | \u001b[36mdeimkit.trainer\u001b[0m:\u001b[36mtrain\u001b[0m:\u001b[36m224\u001b[0m - \u001b[1mEpoch 41/80\u001b[0m\n",
      "Epoch 41: 100%|██████████| 15/15 [00:08<00:00,  1.76it/s, loss=24.9415]\n",
      "\u001b[32m2025-03-10 18:21:19.429\u001b[0m | \u001b[1mINFO    \u001b[0m | \u001b[36mdeimkit.trainer\u001b[0m:\u001b[36mevaluate\u001b[0m:\u001b[36m332\u001b[0m - \u001b[1mEvaluating model...\u001b[0m\n"
     ]
    },
    {
     "name": "stdout",
     "output_type": "stream",
     "text": [
      "Averaged stats: lr: 0.000199  loss: 23.9560 (24.0664)  loss_mal: 0.9355 (0.9487)  loss_bbox: 0.1956 (0.2289)  loss_giou: 0.5225 (0.5728)  loss_fgl: 1.1613 (1.1543)  loss_mal_aux_0: 0.9219 (0.9655)  loss_bbox_aux_0: 0.2068 (0.2393)  loss_giou_aux_0: 0.5669 (0.6062)  loss_fgl_aux_0: 1.1764 (1.1662)  loss_ddf_aux_0: 0.1242 (0.1332)  loss_mal_aux_1: 0.9302 (0.9498)  loss_bbox_aux_1: 0.1952 (0.2291)  loss_giou_aux_1: 0.5237 (0.5747)  loss_fgl_aux_1: 1.1613 (1.1539)  loss_ddf_aux_1: 0.0054 (0.0059)  loss_mal_pre: 0.9175 (0.9619)  loss_bbox_pre: 0.2073 (0.2395)  loss_giou_pre: 0.5693 (0.6074)  loss_mal_enc_0: 0.9658 (0.9903)  loss_bbox_enc_0: 0.2520 (0.2837)  loss_giou_enc_0: 0.6885 (0.7031)  loss_mal_dn_0: 0.7812 (0.7822)  loss_bbox_dn_0: 0.2909 (0.3024)  loss_giou_dn_0: 0.7846 (0.8128)  loss_fgl_dn_0: 1.1587 (1.1538)  loss_ddf_dn_0: 0.7326 (0.7598)  loss_mal_dn_1: 0.7886 (0.7860)  loss_bbox_dn_1: 0.2337 (0.2503)  loss_giou_dn_1: 0.6234 (0.6479)  loss_fgl_dn_1: 1.1239 (1.1265)  loss_ddf_dn_1: 0.0438 (0.0449)  loss_mal_dn_2: 0.7847 (0.7880)  loss_bbox_dn_2: 0.2252 (0.2416)  loss_giou_dn_2: 0.6033 (0.6248)  loss_fgl_dn_2: 1.1259 (1.1285)  loss_mal_dn_pre: 0.7788 (0.7800)  loss_bbox_dn_pre: 0.3029 (0.3068)  loss_giou_dn_pre: 0.7865 (0.8159)\n"
     ]
    },
    {
     "name": "stderr",
     "output_type": "stream",
     "text": [
      "Evaluating: 100%|██████████| 5/5 [00:01<00:00,  3.82it/s]\n",
      "\u001b[32m2025-03-10 18:21:20.768\u001b[0m | \u001b[1mINFO    \u001b[0m | \u001b[36mdeimkit.trainer\u001b[0m:\u001b[36m_save_checkpoint\u001b[0m:\u001b[36m364\u001b[0m - \u001b[1mSaving checkpoint to outputs/deim_hgnetv2_s_80e/best.pth\u001b[0m\n"
     ]
    },
    {
     "name": "stdout",
     "output_type": "stream",
     "text": [
      "Averaged stats: \n",
      "Accumulating evaluation results...\n",
      "COCOeval_opt.accumulate() finished...\n",
      "DONE (t=0.02s).\n",
      "IoU metric: bbox\n",
      " Average Precision  (AP) @[ IoU=0.50:0.95 | area=   all | maxDets=100 ] = 0.537\n",
      " Average Precision  (AP) @[ IoU=0.50      | area=   all | maxDets=100 ] = 0.772\n",
      " Average Precision  (AP) @[ IoU=0.75      | area=   all | maxDets=100 ] = 0.655\n",
      " Average Precision  (AP) @[ IoU=0.50:0.95 | area= small | maxDets=100 ] = 0.376\n",
      " Average Precision  (AP) @[ IoU=0.50:0.95 | area=medium | maxDets=100 ] = 0.539\n",
      " Average Precision  (AP) @[ IoU=0.50:0.95 | area= large | maxDets=100 ] = 0.421\n",
      " Average Recall     (AR) @[ IoU=0.50:0.95 | area=   all | maxDets=  1 ] = 0.377\n",
      " Average Recall     (AR) @[ IoU=0.50:0.95 | area=   all | maxDets= 10 ] = 0.659\n",
      " Average Recall     (AR) @[ IoU=0.50:0.95 | area=   all | maxDets=100 ] = 0.768\n",
      " Average Recall     (AR) @[ IoU=0.50:0.95 | area= small | maxDets=100 ] = 0.700\n",
      " Average Recall     (AR) @[ IoU=0.50:0.95 | area=medium | maxDets=100 ] = 0.746\n",
      " Average Recall     (AR) @[ IoU=0.50:0.95 | area= large | maxDets=100 ] = 0.538\n",
      " Average Recall     (AR) @[ IoU=0.50      | area=   all | maxDets=100 ] = 0.994\n",
      " Average Recall     (AR) @[ IoU=0.75      | area=   all | maxDets=100 ] = 0.925\n"
     ]
    },
    {
     "name": "stderr",
     "output_type": "stream",
     "text": [
      "\u001b[32m2025-03-10 18:21:21.101\u001b[0m | \u001b[1mINFO    \u001b[0m | \u001b[36mdeimkit.trainer\u001b[0m:\u001b[36m_save_checkpoint\u001b[0m:\u001b[36m381\u001b[0m - \u001b[1mCheckpoint saved to outputs/deim_hgnetv2_s_80e/best.pth\u001b[0m\n",
      "\u001b[32m2025-03-10 18:21:21.103\u001b[0m | \u001b[1mINFO    \u001b[0m | \u001b[36mdeimkit.trainer\u001b[0m:\u001b[36mtrain\u001b[0m:\u001b[36m313\u001b[0m - \u001b[1mEpoch 41 - Train loss: 24.0664, Eval mAP: 0.5367\u001b[0m\n",
      "\u001b[32m2025-03-10 18:21:21.104\u001b[0m | \u001b[1mINFO    \u001b[0m | \u001b[36mdeimkit.trainer\u001b[0m:\u001b[36mtrain\u001b[0m:\u001b[36m316\u001b[0m - \u001b[1mBest stats: {'epoch': 41, 'coco_eval_bbox': 0.5366875538815489}\u001b[0m\n",
      "\u001b[32m2025-03-10 18:21:21.104\u001b[0m | \u001b[1mINFO    \u001b[0m | \u001b[36mdeimkit.trainer\u001b[0m:\u001b[36mtrain\u001b[0m:\u001b[36m224\u001b[0m - \u001b[1mEpoch 42/80\u001b[0m\n",
      "Epoch 42: 100%|██████████| 15/15 [00:08<00:00,  1.80it/s, loss=23.0951]\n",
      "\u001b[32m2025-03-10 18:21:29.470\u001b[0m | \u001b[1mINFO    \u001b[0m | \u001b[36mdeimkit.trainer\u001b[0m:\u001b[36mevaluate\u001b[0m:\u001b[36m332\u001b[0m - \u001b[1mEvaluating model...\u001b[0m\n"
     ]
    },
    {
     "name": "stdout",
     "output_type": "stream",
     "text": [
      "Averaged stats: lr: 0.000198  loss: 23.0951 (23.6864)  loss_mal: 0.9404 (0.9434)  loss_bbox: 0.1897 (0.2105)  loss_giou: 0.5048 (0.5635)  loss_fgl: 1.1766 (1.1814)  loss_mal_aux_0: 0.9619 (0.9645)  loss_bbox_aux_0: 0.2009 (0.2155)  loss_giou_aux_0: 0.5048 (0.5827)  loss_fgl_aux_0: 1.1850 (1.1854)  loss_ddf_aux_0: 0.1013 (0.1150)  loss_mal_aux_1: 0.9414 (0.9462)  loss_bbox_aux_1: 0.1909 (0.2108)  loss_giou_aux_1: 0.4991 (0.5642)  loss_fgl_aux_1: 1.1763 (1.1806)  loss_ddf_aux_1: 0.0051 (0.0053)  loss_mal_pre: 0.9614 (0.9608)  loss_bbox_pre: 0.2003 (0.2153)  loss_giou_pre: 0.5017 (0.5825)  loss_mal_enc_0: 0.9824 (0.9936)  loss_bbox_enc_0: 0.2166 (0.2309)  loss_giou_enc_0: 0.5688 (0.6293)  loss_mal_dn_0: 0.7847 (0.7843)  loss_bbox_dn_0: 0.2712 (0.2794)  loss_giou_dn_0: 0.7462 (0.7934)  loss_fgl_dn_0: 1.1619 (1.1569)  loss_ddf_dn_0: 0.7263 (0.7196)  loss_mal_dn_1: 0.7905 (0.7923)  loss_bbox_dn_1: 0.2115 (0.2314)  loss_giou_dn_1: 0.5856 (0.6351)  loss_fgl_dn_1: 1.1313 (1.1399)  loss_ddf_dn_1: 0.0396 (0.0387)  loss_mal_dn_2: 0.7905 (0.7885)  loss_bbox_dn_2: 0.2005 (0.2247)  loss_giou_dn_2: 0.5749 (0.6162)  loss_fgl_dn_2: 1.1366 (1.1416)  loss_mal_dn_pre: 0.7832 (0.7826)  loss_bbox_dn_pre: 0.2772 (0.2828)  loss_giou_dn_pre: 0.7507 (0.7976)\n"
     ]
    },
    {
     "name": "stderr",
     "output_type": "stream",
     "text": [
      "Evaluating: 100%|██████████| 5/5 [00:01<00:00,  3.85it/s]\n",
      "\u001b[32m2025-03-10 18:21:30.796\u001b[0m | \u001b[1mINFO    \u001b[0m | \u001b[36mdeimkit.trainer\u001b[0m:\u001b[36mtrain\u001b[0m:\u001b[36m313\u001b[0m - \u001b[1mEpoch 42 - Train loss: 23.6864, Eval mAP: 0.5282\u001b[0m\n",
      "\u001b[32m2025-03-10 18:21:30.797\u001b[0m | \u001b[1mINFO    \u001b[0m | \u001b[36mdeimkit.trainer\u001b[0m:\u001b[36mtrain\u001b[0m:\u001b[36m316\u001b[0m - \u001b[1mBest stats: {'epoch': 41, 'coco_eval_bbox': 0.5366875538815489}\u001b[0m\n",
      "\u001b[32m2025-03-10 18:21:30.797\u001b[0m | \u001b[1mINFO    \u001b[0m | \u001b[36mdeimkit.trainer\u001b[0m:\u001b[36mtrain\u001b[0m:\u001b[36m224\u001b[0m - \u001b[1mEpoch 43/80\u001b[0m\n"
     ]
    },
    {
     "name": "stdout",
     "output_type": "stream",
     "text": [
      "Averaged stats: \n",
      "Accumulating evaluation results...\n",
      "COCOeval_opt.accumulate() finished...\n",
      "DONE (t=0.02s).\n",
      "IoU metric: bbox\n",
      " Average Precision  (AP) @[ IoU=0.50:0.95 | area=   all | maxDets=100 ] = 0.528\n",
      " Average Precision  (AP) @[ IoU=0.50      | area=   all | maxDets=100 ] = 0.771\n",
      " Average Precision  (AP) @[ IoU=0.75      | area=   all | maxDets=100 ] = 0.633\n",
      " Average Precision  (AP) @[ IoU=0.50:0.95 | area= small | maxDets=100 ] = 0.280\n",
      " Average Precision  (AP) @[ IoU=0.50:0.95 | area=medium | maxDets=100 ] = 0.521\n",
      " Average Precision  (AP) @[ IoU=0.50:0.95 | area= large | maxDets=100 ] = 0.406\n",
      " Average Recall     (AR) @[ IoU=0.50:0.95 | area=   all | maxDets=  1 ] = 0.381\n",
      " Average Recall     (AR) @[ IoU=0.50:0.95 | area=   all | maxDets= 10 ] = 0.649\n",
      " Average Recall     (AR) @[ IoU=0.50:0.95 | area=   all | maxDets=100 ] = 0.765\n",
      " Average Recall     (AR) @[ IoU=0.50:0.95 | area= small | maxDets=100 ] = 0.760\n",
      " Average Recall     (AR) @[ IoU=0.50:0.95 | area=medium | maxDets=100 ] = 0.713\n",
      " Average Recall     (AR) @[ IoU=0.50:0.95 | area= large | maxDets=100 ] = 0.541\n",
      " Average Recall     (AR) @[ IoU=0.50      | area=   all | maxDets=100 ] = 0.994\n",
      " Average Recall     (AR) @[ IoU=0.75      | area=   all | maxDets=100 ] = 0.919\n"
     ]
    },
    {
     "name": "stderr",
     "output_type": "stream",
     "text": [
      "Epoch 43: 100%|██████████| 15/15 [00:08<00:00,  1.70it/s, loss=24.6646]\n",
      "\u001b[32m2025-03-10 18:21:39.608\u001b[0m | \u001b[1mINFO    \u001b[0m | \u001b[36mdeimkit.trainer\u001b[0m:\u001b[36m_save_checkpoint\u001b[0m:\u001b[36m364\u001b[0m - \u001b[1mSaving checkpoint to outputs/deim_hgnetv2_s_80e/checkpoint0043.pth\u001b[0m\n"
     ]
    },
    {
     "name": "stdout",
     "output_type": "stream",
     "text": [
      "Averaged stats: lr: 0.000197  loss: 23.7153 (23.6947)  loss_mal: 0.9175 (0.9284)  loss_bbox: 0.2082 (0.2204)  loss_giou: 0.6077 (0.5926)  loss_fgl: 1.1547 (1.1596)  loss_mal_aux_0: 0.9248 (0.9380)  loss_bbox_aux_0: 0.2139 (0.2259)  loss_giou_aux_0: 0.6272 (0.6122)  loss_fgl_aux_0: 1.1766 (1.1663)  loss_ddf_aux_0: 0.1135 (0.1061)  loss_mal_aux_1: 0.9146 (0.9250)  loss_bbox_aux_1: 0.2077 (0.2205)  loss_giou_aux_1: 0.6065 (0.5929)  loss_fgl_aux_1: 1.1593 (1.1589)  loss_ddf_aux_1: 0.0054 (0.0054)  loss_mal_pre: 0.9209 (0.9350)  loss_bbox_pre: 0.2149 (0.2260)  loss_giou_pre: 0.6287 (0.6121)  loss_mal_enc_0: 0.9629 (0.9712)  loss_bbox_enc_0: 0.2375 (0.2425)  loss_giou_enc_0: 0.6814 (0.6606)  loss_mal_dn_0: 0.7783 (0.7748)  loss_bbox_dn_0: 0.2714 (0.2806)  loss_giou_dn_0: 0.7910 (0.8034)  loss_fgl_dn_0: 1.1610 (1.1529)  loss_ddf_dn_0: 0.7046 (0.7081)  loss_mal_dn_1: 0.7905 (0.7901)  loss_bbox_dn_1: 0.2150 (0.2341)  loss_giou_dn_1: 0.6279 (0.6508)  loss_fgl_dn_1: 1.1351 (1.1248)  loss_ddf_dn_1: 0.0357 (0.0369)  loss_mal_dn_2: 0.7871 (0.7880)  loss_bbox_dn_2: 0.2084 (0.2281)  loss_giou_dn_2: 0.6148 (0.6324)  loss_fgl_dn_2: 1.1350 (1.1274)  loss_mal_dn_pre: 0.7754 (0.7723)  loss_bbox_dn_pre: 0.2757 (0.2828)  loss_giou_dn_pre: 0.7937 (0.8077)\n"
     ]
    },
    {
     "name": "stderr",
     "output_type": "stream",
     "text": [
      "\u001b[32m2025-03-10 18:21:39.890\u001b[0m | \u001b[1mINFO    \u001b[0m | \u001b[36mdeimkit.trainer\u001b[0m:\u001b[36m_save_checkpoint\u001b[0m:\u001b[36m381\u001b[0m - \u001b[1mCheckpoint saved to outputs/deim_hgnetv2_s_80e/checkpoint0043.pth\u001b[0m\n",
      "\u001b[32m2025-03-10 18:21:39.892\u001b[0m | \u001b[1mINFO    \u001b[0m | \u001b[36mdeimkit.trainer\u001b[0m:\u001b[36mevaluate\u001b[0m:\u001b[36m332\u001b[0m - \u001b[1mEvaluating model...\u001b[0m\n",
      "Evaluating: 100%|██████████| 5/5 [00:01<00:00,  3.82it/s]\n",
      "\u001b[32m2025-03-10 18:21:41.230\u001b[0m | \u001b[1mINFO    \u001b[0m | \u001b[36mdeimkit.trainer\u001b[0m:\u001b[36mtrain\u001b[0m:\u001b[36m313\u001b[0m - \u001b[1mEpoch 43 - Train loss: 23.6947, Eval mAP: 0.5346\u001b[0m\n",
      "\u001b[32m2025-03-10 18:21:41.230\u001b[0m | \u001b[1mINFO    \u001b[0m | \u001b[36mdeimkit.trainer\u001b[0m:\u001b[36mtrain\u001b[0m:\u001b[36m316\u001b[0m - \u001b[1mBest stats: {'epoch': 41, 'coco_eval_bbox': 0.5366875538815489}\u001b[0m\n",
      "\u001b[32m2025-03-10 18:21:41.230\u001b[0m | \u001b[1mINFO    \u001b[0m | \u001b[36mdeimkit.trainer\u001b[0m:\u001b[36mtrain\u001b[0m:\u001b[36m224\u001b[0m - \u001b[1mEpoch 44/80\u001b[0m\n"
     ]
    },
    {
     "name": "stdout",
     "output_type": "stream",
     "text": [
      "Averaged stats: \n",
      "Accumulating evaluation results...\n",
      "COCOeval_opt.accumulate() finished...\n",
      "DONE (t=0.02s).\n",
      "IoU metric: bbox\n",
      " Average Precision  (AP) @[ IoU=0.50:0.95 | area=   all | maxDets=100 ] = 0.535\n",
      " Average Precision  (AP) @[ IoU=0.50      | area=   all | maxDets=100 ] = 0.775\n",
      " Average Precision  (AP) @[ IoU=0.75      | area=   all | maxDets=100 ] = 0.627\n",
      " Average Precision  (AP) @[ IoU=0.50:0.95 | area= small | maxDets=100 ] = 0.237\n",
      " Average Precision  (AP) @[ IoU=0.50:0.95 | area=medium | maxDets=100 ] = 0.544\n",
      " Average Precision  (AP) @[ IoU=0.50:0.95 | area= large | maxDets=100 ] = 0.426\n",
      " Average Recall     (AR) @[ IoU=0.50:0.95 | area=   all | maxDets=  1 ] = 0.372\n",
      " Average Recall     (AR) @[ IoU=0.50:0.95 | area=   all | maxDets= 10 ] = 0.650\n",
      " Average Recall     (AR) @[ IoU=0.50:0.95 | area=   all | maxDets=100 ] = 0.750\n",
      " Average Recall     (AR) @[ IoU=0.50:0.95 | area= small | maxDets=100 ] = 0.780\n",
      " Average Recall     (AR) @[ IoU=0.50:0.95 | area=medium | maxDets=100 ] = 0.727\n",
      " Average Recall     (AR) @[ IoU=0.50:0.95 | area= large | maxDets=100 ] = 0.534\n",
      " Average Recall     (AR) @[ IoU=0.50      | area=   all | maxDets=100 ] = 0.993\n",
      " Average Recall     (AR) @[ IoU=0.75      | area=   all | maxDets=100 ] = 0.891\n"
     ]
    },
    {
     "name": "stderr",
     "output_type": "stream",
     "text": [
      "Epoch 44: 100%|██████████| 15/15 [00:08<00:00,  1.73it/s, loss=24.4566]\n",
      "\u001b[32m2025-03-10 18:21:49.938\u001b[0m | \u001b[1mINFO    \u001b[0m | \u001b[36mdeimkit.trainer\u001b[0m:\u001b[36mevaluate\u001b[0m:\u001b[36m332\u001b[0m - \u001b[1mEvaluating model...\u001b[0m\n"
     ]
    },
    {
     "name": "stdout",
     "output_type": "stream",
     "text": [
      "Averaged stats: lr: 0.000195  loss: 24.3596 (24.0425)  loss_mal: 0.9062 (0.9159)  loss_bbox: 0.2551 (0.2439)  loss_giou: 0.6427 (0.6332)  loss_fgl: 1.1309 (1.1365)  loss_mal_aux_0: 0.8945 (0.9143)  loss_bbox_aux_0: 0.2570 (0.2509)  loss_giou_aux_0: 0.6689 (0.6583)  loss_fgl_aux_0: 1.1354 (1.1424)  loss_ddf_aux_0: 0.1021 (0.1042)  loss_mal_aux_1: 0.9023 (0.9244)  loss_bbox_aux_1: 0.2548 (0.2443)  loss_giou_aux_1: 0.6438 (0.6349)  loss_fgl_aux_1: 1.1312 (1.1366)  loss_ddf_aux_1: 0.0049 (0.0050)  loss_mal_pre: 0.8936 (0.9112)  loss_bbox_pre: 0.2579 (0.2513)  loss_giou_pre: 0.6729 (0.6604)  loss_mal_enc_0: 0.9170 (0.9501)  loss_bbox_enc_0: 0.2836 (0.2819)  loss_giou_enc_0: 0.7654 (0.7370)  loss_mal_dn_0: 0.7715 (0.7750)  loss_bbox_dn_0: 0.2997 (0.2984)  loss_giou_dn_0: 0.8359 (0.8315)  loss_fgl_dn_0: 1.1313 (1.1310)  loss_ddf_dn_0: 0.6478 (0.6720)  loss_mal_dn_1: 0.7896 (0.7923)  loss_bbox_dn_1: 0.2544 (0.2504)  loss_giou_dn_1: 0.6961 (0.6818)  loss_fgl_dn_1: 1.1105 (1.1135)  loss_ddf_dn_1: 0.0369 (0.0358)  loss_mal_dn_2: 0.7896 (0.7905)  loss_bbox_dn_2: 0.2526 (0.2454)  loss_giou_dn_2: 0.6776 (0.6640)  loss_fgl_dn_2: 1.1115 (1.1152)  loss_mal_dn_pre: 0.7700 (0.7730)  loss_bbox_dn_pre: 0.3081 (0.3010)  loss_giou_dn_pre: 0.8580 (0.8350)\n"
     ]
    },
    {
     "name": "stderr",
     "output_type": "stream",
     "text": [
      "Evaluating: 100%|██████████| 5/5 [00:01<00:00,  3.77it/s]\n",
      "\u001b[32m2025-03-10 18:21:51.291\u001b[0m | \u001b[1mINFO    \u001b[0m | \u001b[36mdeimkit.trainer\u001b[0m:\u001b[36mtrain\u001b[0m:\u001b[36m313\u001b[0m - \u001b[1mEpoch 44 - Train loss: 24.0425, Eval mAP: 0.5118\u001b[0m\n",
      "\u001b[32m2025-03-10 18:21:51.292\u001b[0m | \u001b[1mINFO    \u001b[0m | \u001b[36mdeimkit.trainer\u001b[0m:\u001b[36mtrain\u001b[0m:\u001b[36m316\u001b[0m - \u001b[1mBest stats: {'epoch': 41, 'coco_eval_bbox': 0.5366875538815489}\u001b[0m\n",
      "\u001b[32m2025-03-10 18:21:51.292\u001b[0m | \u001b[1mINFO    \u001b[0m | \u001b[36mdeimkit.trainer\u001b[0m:\u001b[36mtrain\u001b[0m:\u001b[36m224\u001b[0m - \u001b[1mEpoch 45/80\u001b[0m\n"
     ]
    },
    {
     "name": "stdout",
     "output_type": "stream",
     "text": [
      "Averaged stats: \n",
      "Accumulating evaluation results...\n",
      "COCOeval_opt.accumulate() finished...\n",
      "DONE (t=0.02s).\n",
      "IoU metric: bbox\n",
      " Average Precision  (AP) @[ IoU=0.50:0.95 | area=   all | maxDets=100 ] = 0.512\n",
      " Average Precision  (AP) @[ IoU=0.50      | area=   all | maxDets=100 ] = 0.746\n",
      " Average Precision  (AP) @[ IoU=0.75      | area=   all | maxDets=100 ] = 0.612\n",
      " Average Precision  (AP) @[ IoU=0.50:0.95 | area= small | maxDets=100 ] = 0.141\n",
      " Average Precision  (AP) @[ IoU=0.50:0.95 | area=medium | maxDets=100 ] = 0.396\n",
      " Average Precision  (AP) @[ IoU=0.50:0.95 | area= large | maxDets=100 ] = 0.421\n",
      " Average Recall     (AR) @[ IoU=0.50:0.95 | area=   all | maxDets=  1 ] = 0.383\n",
      " Average Recall     (AR) @[ IoU=0.50:0.95 | area=   all | maxDets= 10 ] = 0.647\n",
      " Average Recall     (AR) @[ IoU=0.50:0.95 | area=   all | maxDets=100 ] = 0.755\n",
      " Average Recall     (AR) @[ IoU=0.50:0.95 | area= small | maxDets=100 ] = 0.700\n",
      " Average Recall     (AR) @[ IoU=0.50:0.95 | area=medium | maxDets=100 ] = 0.730\n",
      " Average Recall     (AR) @[ IoU=0.50:0.95 | area= large | maxDets=100 ] = 0.771\n",
      " Average Recall     (AR) @[ IoU=0.50      | area=   all | maxDets=100 ] = 0.994\n",
      " Average Recall     (AR) @[ IoU=0.75      | area=   all | maxDets=100 ] = 0.909\n"
     ]
    },
    {
     "name": "stderr",
     "output_type": "stream",
     "text": [
      "Epoch 45: 100%|██████████| 15/15 [00:08<00:00,  1.71it/s, loss=24.6300]\n",
      "\u001b[32m2025-03-10 18:22:00.092\u001b[0m | \u001b[1mINFO    \u001b[0m | \u001b[36mdeimkit.trainer\u001b[0m:\u001b[36mevaluate\u001b[0m:\u001b[36m332\u001b[0m - \u001b[1mEvaluating model...\u001b[0m\n"
     ]
    },
    {
     "name": "stdout",
     "output_type": "stream",
     "text": [
      "Averaged stats: lr: 0.000193  loss: 24.2435 (23.8479)  loss_mal: 0.9165 (0.9360)  loss_bbox: 0.2261 (0.2142)  loss_giou: 0.6333 (0.6032)  loss_fgl: 1.1503 (1.1515)  loss_mal_aux_0: 0.9219 (0.9415)  loss_bbox_aux_0: 0.2295 (0.2203)  loss_giou_aux_0: 0.6503 (0.6231)  loss_fgl_aux_0: 1.1569 (1.1571)  loss_ddf_aux_0: 0.1039 (0.1072)  loss_mal_aux_1: 0.9253 (0.9352)  loss_bbox_aux_1: 0.2258 (0.2146)  loss_giou_aux_1: 0.6342 (0.6044)  loss_fgl_aux_1: 1.1499 (1.1526)  loss_ddf_aux_1: 0.0054 (0.0054)  loss_mal_pre: 0.9165 (0.9388)  loss_bbox_pre: 0.2286 (0.2205)  loss_giou_pre: 0.6467 (0.6245)  loss_mal_enc_0: 0.9600 (0.9698)  loss_bbox_enc_0: 0.2755 (0.2570)  loss_giou_enc_0: 0.7569 (0.7241)  loss_mal_dn_0: 0.7778 (0.7755)  loss_bbox_dn_0: 0.2779 (0.2806)  loss_giou_dn_0: 0.8430 (0.8246)  loss_fgl_dn_0: 1.1288 (1.1359)  loss_ddf_dn_0: 0.6954 (0.7157)  loss_mal_dn_1: 0.7910 (0.7900)  loss_bbox_dn_1: 0.2353 (0.2347)  loss_giou_dn_1: 0.7028 (0.6732)  loss_fgl_dn_1: 1.1168 (1.1146)  loss_ddf_dn_1: 0.0377 (0.0373)  loss_mal_dn_2: 0.7837 (0.7857)  loss_bbox_dn_2: 0.2298 (0.2285)  loss_giou_dn_2: 0.6798 (0.6540)  loss_fgl_dn_2: 1.1184 (1.1159)  loss_mal_dn_pre: 0.7759 (0.7735)  loss_bbox_dn_pre: 0.2792 (0.2816)  loss_giou_dn_pre: 0.8604 (0.8257)\n"
     ]
    },
    {
     "name": "stderr",
     "output_type": "stream",
     "text": [
      "Evaluating: 100%|██████████| 5/5 [00:01<00:00,  3.36it/s]\n",
      "\u001b[32m2025-03-10 18:22:01.608\u001b[0m | \u001b[1mINFO    \u001b[0m | \u001b[36mdeimkit.trainer\u001b[0m:\u001b[36mtrain\u001b[0m:\u001b[36m313\u001b[0m - \u001b[1mEpoch 45 - Train loss: 23.8479, Eval mAP: 0.5060\u001b[0m\n",
      "\u001b[32m2025-03-10 18:22:01.609\u001b[0m | \u001b[1mINFO    \u001b[0m | \u001b[36mdeimkit.trainer\u001b[0m:\u001b[36mtrain\u001b[0m:\u001b[36m316\u001b[0m - \u001b[1mBest stats: {'epoch': 41, 'coco_eval_bbox': 0.5366875538815489}\u001b[0m\n",
      "\u001b[32m2025-03-10 18:22:01.609\u001b[0m | \u001b[1mINFO    \u001b[0m | \u001b[36mdeimkit.trainer\u001b[0m:\u001b[36mtrain\u001b[0m:\u001b[36m224\u001b[0m - \u001b[1mEpoch 46/80\u001b[0m\n"
     ]
    },
    {
     "name": "stdout",
     "output_type": "stream",
     "text": [
      "Averaged stats: \n",
      "Accumulating evaluation results...\n",
      "COCOeval_opt.accumulate() finished...\n",
      "DONE (t=0.02s).\n",
      "IoU metric: bbox\n",
      " Average Precision  (AP) @[ IoU=0.50:0.95 | area=   all | maxDets=100 ] = 0.506\n",
      " Average Precision  (AP) @[ IoU=0.50      | area=   all | maxDets=100 ] = 0.770\n",
      " Average Precision  (AP) @[ IoU=0.75      | area=   all | maxDets=100 ] = 0.631\n",
      " Average Precision  (AP) @[ IoU=0.50:0.95 | area= small | maxDets=100 ] = 0.377\n",
      " Average Precision  (AP) @[ IoU=0.50:0.95 | area=medium | maxDets=100 ] = 0.551\n",
      " Average Precision  (AP) @[ IoU=0.50:0.95 | area= large | maxDets=100 ] = 0.390\n",
      " Average Recall     (AR) @[ IoU=0.50:0.95 | area=   all | maxDets=  1 ] = 0.364\n",
      " Average Recall     (AR) @[ IoU=0.50:0.95 | area=   all | maxDets= 10 ] = 0.637\n",
      " Average Recall     (AR) @[ IoU=0.50:0.95 | area=   all | maxDets=100 ] = 0.741\n",
      " Average Recall     (AR) @[ IoU=0.50:0.95 | area= small | maxDets=100 ] = 0.740\n",
      " Average Recall     (AR) @[ IoU=0.50:0.95 | area=medium | maxDets=100 ] = 0.726\n",
      " Average Recall     (AR) @[ IoU=0.50:0.95 | area= large | maxDets=100 ] = 0.523\n",
      " Average Recall     (AR) @[ IoU=0.50      | area=   all | maxDets=100 ] = 0.994\n",
      " Average Recall     (AR) @[ IoU=0.75      | area=   all | maxDets=100 ] = 0.915\n"
     ]
    },
    {
     "name": "stderr",
     "output_type": "stream",
     "text": [
      "Epoch 46: 100%|██████████| 15/15 [00:08<00:00,  1.73it/s, loss=22.8430]\n",
      "\u001b[32m2025-03-10 18:22:10.283\u001b[0m | \u001b[1mINFO    \u001b[0m | \u001b[36mdeimkit.trainer\u001b[0m:\u001b[36mevaluate\u001b[0m:\u001b[36m332\u001b[0m - \u001b[1mEvaluating model...\u001b[0m\n"
     ]
    },
    {
     "name": "stdout",
     "output_type": "stream",
     "text": [
      "Averaged stats: lr: 0.000191  loss: 24.1041 (23.7816)  loss_mal: 0.9180 (0.9333)  loss_bbox: 0.2434 (0.2235)  loss_giou: 0.6380 (0.5961)  loss_fgl: 1.1340 (1.1468)  loss_mal_aux_0: 0.9258 (0.9423)  loss_bbox_aux_0: 0.2454 (0.2304)  loss_giou_aux_0: 0.6534 (0.6161)  loss_fgl_aux_0: 1.1414 (1.1555)  loss_ddf_aux_0: 0.0938 (0.1032)  loss_mal_aux_1: 0.9360 (0.9318)  loss_bbox_aux_1: 0.2426 (0.2236)  loss_giou_aux_1: 0.6392 (0.5964)  loss_fgl_aux_1: 1.1341 (1.1467)  loss_ddf_aux_1: 0.0049 (0.0051)  loss_mal_pre: 0.9233 (0.9392)  loss_bbox_pre: 0.2460 (0.2308)  loss_giou_pre: 0.6576 (0.6176)  loss_mal_enc_0: 0.9561 (0.9881)  loss_bbox_enc_0: 0.2604 (0.2541)  loss_giou_enc_0: 0.7179 (0.6801)  loss_mal_dn_0: 0.7729 (0.7773)  loss_bbox_dn_0: 0.2703 (0.2868)  loss_giou_dn_0: 0.8060 (0.8135)  loss_fgl_dn_0: 1.1194 (1.1362)  loss_ddf_dn_0: 0.6958 (0.7221)  loss_mal_dn_1: 0.7847 (0.7874)  loss_bbox_dn_1: 0.2260 (0.2380)  loss_giou_dn_1: 0.6674 (0.6563)  loss_fgl_dn_1: 1.1027 (1.1100)  loss_ddf_dn_1: 0.0341 (0.0354)  loss_mal_dn_2: 0.7866 (0.7867)  loss_bbox_dn_2: 0.2243 (0.2326)  loss_giou_dn_2: 0.6532 (0.6401)  loss_fgl_dn_2: 1.1022 (1.1122)  loss_mal_dn_pre: 0.7686 (0.7740)  loss_bbox_dn_pre: 0.2793 (0.2906)  loss_giou_dn_pre: 0.8266 (0.8219)\n"
     ]
    },
    {
     "name": "stderr",
     "output_type": "stream",
     "text": [
      "Evaluating: 100%|██████████| 5/5 [00:01<00:00,  3.36it/s]\n",
      "\u001b[32m2025-03-10 18:22:11.802\u001b[0m | \u001b[1mINFO    \u001b[0m | \u001b[36mdeimkit.trainer\u001b[0m:\u001b[36mtrain\u001b[0m:\u001b[36m313\u001b[0m - \u001b[1mEpoch 46 - Train loss: 23.7816, Eval mAP: 0.5046\u001b[0m\n",
      "\u001b[32m2025-03-10 18:22:11.803\u001b[0m | \u001b[1mINFO    \u001b[0m | \u001b[36mdeimkit.trainer\u001b[0m:\u001b[36mtrain\u001b[0m:\u001b[36m316\u001b[0m - \u001b[1mBest stats: {'epoch': 41, 'coco_eval_bbox': 0.5366875538815489}\u001b[0m\n",
      "\u001b[32m2025-03-10 18:22:11.803\u001b[0m | \u001b[1mINFO    \u001b[0m | \u001b[36mdeimkit.trainer\u001b[0m:\u001b[36mtrain\u001b[0m:\u001b[36m224\u001b[0m - \u001b[1mEpoch 47/80\u001b[0m\n"
     ]
    },
    {
     "name": "stdout",
     "output_type": "stream",
     "text": [
      "Averaged stats: \n",
      "Accumulating evaluation results...\n",
      "COCOeval_opt.accumulate() finished...\n",
      "DONE (t=0.02s).\n",
      "IoU metric: bbox\n",
      " Average Precision  (AP) @[ IoU=0.50:0.95 | area=   all | maxDets=100 ] = 0.505\n",
      " Average Precision  (AP) @[ IoU=0.50      | area=   all | maxDets=100 ] = 0.759\n",
      " Average Precision  (AP) @[ IoU=0.75      | area=   all | maxDets=100 ] = 0.592\n",
      " Average Precision  (AP) @[ IoU=0.50:0.95 | area= small | maxDets=100 ] = 0.213\n",
      " Average Precision  (AP) @[ IoU=0.50:0.95 | area=medium | maxDets=100 ] = 0.527\n",
      " Average Precision  (AP) @[ IoU=0.50:0.95 | area= large | maxDets=100 ] = 0.383\n",
      " Average Recall     (AR) @[ IoU=0.50:0.95 | area=   all | maxDets=  1 ] = 0.386\n",
      " Average Recall     (AR) @[ IoU=0.50:0.95 | area=   all | maxDets= 10 ] = 0.643\n",
      " Average Recall     (AR) @[ IoU=0.50:0.95 | area=   all | maxDets=100 ] = 0.752\n",
      " Average Recall     (AR) @[ IoU=0.50:0.95 | area= small | maxDets=100 ] = 0.700\n",
      " Average Recall     (AR) @[ IoU=0.50:0.95 | area=medium | maxDets=100 ] = 0.693\n",
      " Average Recall     (AR) @[ IoU=0.50:0.95 | area= large | maxDets=100 ] = 0.532\n",
      " Average Recall     (AR) @[ IoU=0.50      | area=   all | maxDets=100 ] = 0.994\n",
      " Average Recall     (AR) @[ IoU=0.75      | area=   all | maxDets=100 ] = 0.899\n"
     ]
    },
    {
     "name": "stderr",
     "output_type": "stream",
     "text": [
      "Epoch 47: 100%|██████████| 15/15 [00:08<00:00,  1.70it/s, loss=25.8482]\n",
      "\u001b[32m2025-03-10 18:22:20.660\u001b[0m | \u001b[1mINFO    \u001b[0m | \u001b[36mdeimkit.trainer\u001b[0m:\u001b[36m_save_checkpoint\u001b[0m:\u001b[36m364\u001b[0m - \u001b[1mSaving checkpoint to outputs/deim_hgnetv2_s_80e/checkpoint0047.pth\u001b[0m\n"
     ]
    },
    {
     "name": "stdout",
     "output_type": "stream",
     "text": [
      "Averaged stats: lr: 0.000188  loss: 24.0868 (23.8274)  loss_mal: 0.8975 (0.9382)  loss_bbox: 0.1981 (0.2111)  loss_giou: 0.5655 (0.5834)  loss_fgl: 1.1521 (1.1516)  loss_mal_aux_0: 0.9487 (0.9767)  loss_bbox_aux_0: 0.2149 (0.2203)  loss_giou_aux_0: 0.5885 (0.6112)  loss_fgl_aux_0: 1.1668 (1.1646)  loss_ddf_aux_0: 0.1213 (0.1228)  loss_mal_aux_1: 0.9009 (0.9414)  loss_bbox_aux_1: 0.1989 (0.2114)  loss_giou_aux_1: 0.5687 (0.5845)  loss_fgl_aux_1: 1.1532 (1.1520)  loss_ddf_aux_1: 0.0045 (0.0046)  loss_mal_pre: 0.9492 (0.9730)  loss_bbox_pre: 0.2161 (0.2205)  loss_giou_pre: 0.5905 (0.6115)  loss_mal_enc_0: 0.9619 (0.9810)  loss_bbox_enc_0: 0.2550 (0.2528)  loss_giou_enc_0: 0.6990 (0.6956)  loss_mal_dn_0: 0.7773 (0.7799)  loss_bbox_dn_0: 0.2706 (0.2730)  loss_giou_dn_0: 0.7815 (0.8045)  loss_fgl_dn_0: 1.1440 (1.1480)  loss_ddf_dn_0: 0.8142 (0.7917)  loss_mal_dn_1: 0.7856 (0.7848)  loss_bbox_dn_1: 0.2106 (0.2239)  loss_giou_dn_1: 0.6141 (0.6459)  loss_fgl_dn_1: 1.1213 (1.1206)  loss_ddf_dn_1: 0.0323 (0.0341)  loss_mal_dn_2: 0.7808 (0.7835)  loss_bbox_dn_2: 0.2042 (0.2177)  loss_giou_dn_2: 0.5973 (0.6260)  loss_fgl_dn_2: 1.1219 (1.1226)  loss_mal_dn_pre: 0.7749 (0.7782)  loss_bbox_dn_pre: 0.2755 (0.2759)  loss_giou_dn_pre: 0.7838 (0.8089)\n"
     ]
    },
    {
     "name": "stderr",
     "output_type": "stream",
     "text": [
      "\u001b[32m2025-03-10 18:22:20.934\u001b[0m | \u001b[1mINFO    \u001b[0m | \u001b[36mdeimkit.trainer\u001b[0m:\u001b[36m_save_checkpoint\u001b[0m:\u001b[36m381\u001b[0m - \u001b[1mCheckpoint saved to outputs/deim_hgnetv2_s_80e/checkpoint0047.pth\u001b[0m\n",
      "\u001b[32m2025-03-10 18:22:20.935\u001b[0m | \u001b[1mINFO    \u001b[0m | \u001b[36mdeimkit.trainer\u001b[0m:\u001b[36mevaluate\u001b[0m:\u001b[36m332\u001b[0m - \u001b[1mEvaluating model...\u001b[0m\n",
      "Evaluating: 100%|██████████| 5/5 [00:01<00:00,  3.22it/s]\n",
      "\u001b[32m2025-03-10 18:22:22.517\u001b[0m | \u001b[1mINFO    \u001b[0m | \u001b[36mdeimkit.trainer\u001b[0m:\u001b[36mtrain\u001b[0m:\u001b[36m313\u001b[0m - \u001b[1mEpoch 47 - Train loss: 23.8274, Eval mAP: 0.5296\u001b[0m\n",
      "\u001b[32m2025-03-10 18:22:22.517\u001b[0m | \u001b[1mINFO    \u001b[0m | \u001b[36mdeimkit.trainer\u001b[0m:\u001b[36mtrain\u001b[0m:\u001b[36m316\u001b[0m - \u001b[1mBest stats: {'epoch': 41, 'coco_eval_bbox': 0.5366875538815489}\u001b[0m\n",
      "\u001b[32m2025-03-10 18:22:22.518\u001b[0m | \u001b[1mINFO    \u001b[0m | \u001b[36mdeimkit.trainer\u001b[0m:\u001b[36mtrain\u001b[0m:\u001b[36m224\u001b[0m - \u001b[1mEpoch 48/80\u001b[0m\n"
     ]
    },
    {
     "name": "stdout",
     "output_type": "stream",
     "text": [
      "Averaged stats: \n",
      "Accumulating evaluation results...\n",
      "COCOeval_opt.accumulate() finished...\n",
      "DONE (t=0.02s).\n",
      "IoU metric: bbox\n",
      " Average Precision  (AP) @[ IoU=0.50:0.95 | area=   all | maxDets=100 ] = 0.530\n",
      " Average Precision  (AP) @[ IoU=0.50      | area=   all | maxDets=100 ] = 0.780\n",
      " Average Precision  (AP) @[ IoU=0.75      | area=   all | maxDets=100 ] = 0.625\n",
      " Average Precision  (AP) @[ IoU=0.50:0.95 | area= small | maxDets=100 ] = 0.224\n",
      " Average Precision  (AP) @[ IoU=0.50:0.95 | area=medium | maxDets=100 ] = 0.542\n",
      " Average Precision  (AP) @[ IoU=0.50:0.95 | area= large | maxDets=100 ] = 0.421\n",
      " Average Recall     (AR) @[ IoU=0.50:0.95 | area=   all | maxDets=  1 ] = 0.374\n",
      " Average Recall     (AR) @[ IoU=0.50:0.95 | area=   all | maxDets= 10 ] = 0.641\n",
      " Average Recall     (AR) @[ IoU=0.50:0.95 | area=   all | maxDets=100 ] = 0.760\n",
      " Average Recall     (AR) @[ IoU=0.50:0.95 | area= small | maxDets=100 ] = 0.680\n",
      " Average Recall     (AR) @[ IoU=0.50:0.95 | area=medium | maxDets=100 ] = 0.742\n",
      " Average Recall     (AR) @[ IoU=0.50:0.95 | area= large | maxDets=100 ] = 0.541\n",
      " Average Recall     (AR) @[ IoU=0.50      | area=   all | maxDets=100 ] = 0.994\n",
      " Average Recall     (AR) @[ IoU=0.75      | area=   all | maxDets=100 ] = 0.903\n"
     ]
    },
    {
     "name": "stderr",
     "output_type": "stream",
     "text": [
      "Epoch 48: 100%|██████████| 15/15 [00:08<00:00,  1.76it/s, loss=26.4334]\n",
      "\u001b[32m2025-03-10 18:22:31.076\u001b[0m | \u001b[1mINFO    \u001b[0m | \u001b[36mdeimkit.trainer\u001b[0m:\u001b[36mevaluate\u001b[0m:\u001b[36m332\u001b[0m - \u001b[1mEvaluating model...\u001b[0m\n"
     ]
    },
    {
     "name": "stdout",
     "output_type": "stream",
     "text": [
      "Averaged stats: lr: 0.000185  loss: 23.4301 (23.6898)  loss_mal: 0.9243 (0.9304)  loss_bbox: 0.1869 (0.2144)  loss_giou: 0.5764 (0.5801)  loss_fgl: 1.1592 (1.1523)  loss_mal_aux_0: 0.9346 (0.9328)  loss_bbox_aux_0: 0.1958 (0.2197)  loss_giou_aux_0: 0.5919 (0.5994)  loss_fgl_aux_0: 1.1688 (1.1622)  loss_ddf_aux_0: 0.1087 (0.1129)  loss_mal_aux_1: 0.9312 (0.9320)  loss_bbox_aux_1: 0.1865 (0.2148)  loss_giou_aux_1: 0.5787 (0.5815)  loss_fgl_aux_1: 1.1600 (1.1529)  loss_ddf_aux_1: 0.0058 (0.0058)  loss_mal_pre: 0.9336 (0.9308)  loss_bbox_pre: 0.1945 (0.2198)  loss_giou_pre: 0.5943 (0.6003)  loss_mal_enc_0: 0.9937 (0.9807)  loss_bbox_enc_0: 0.2586 (0.2572)  loss_giou_enc_0: 0.6974 (0.7000)  loss_mal_dn_0: 0.7764 (0.7753)  loss_bbox_dn_0: 0.2759 (0.2828)  loss_giou_dn_0: 0.8279 (0.8170)  loss_fgl_dn_0: 1.1611 (1.1471)  loss_ddf_dn_0: 0.6923 (0.7214)  loss_mal_dn_1: 0.7886 (0.7905)  loss_bbox_dn_1: 0.2045 (0.2337)  loss_giou_dn_1: 0.6348 (0.6490)  loss_fgl_dn_1: 1.1270 (1.1198)  loss_ddf_dn_1: 0.0341 (0.0374)  loss_mal_dn_2: 0.7861 (0.7879)  loss_bbox_dn_2: 0.1954 (0.2273)  loss_giou_dn_2: 0.6163 (0.6293)  loss_fgl_dn_2: 1.1285 (1.1210)  loss_mal_dn_pre: 0.7729 (0.7738)  loss_bbox_dn_pre: 0.2692 (0.2826)  loss_giou_dn_pre: 0.8022 (0.8141)\n"
     ]
    },
    {
     "name": "stderr",
     "output_type": "stream",
     "text": [
      "Evaluating: 100%|██████████| 5/5 [00:01<00:00,  3.39it/s]\n",
      "\u001b[32m2025-03-10 18:22:32.580\u001b[0m | \u001b[1mINFO    \u001b[0m | \u001b[36mdeimkit.trainer\u001b[0m:\u001b[36mtrain\u001b[0m:\u001b[36m313\u001b[0m - \u001b[1mEpoch 48 - Train loss: 23.6898, Eval mAP: 0.5239\u001b[0m\n",
      "\u001b[32m2025-03-10 18:22:32.581\u001b[0m | \u001b[1mINFO    \u001b[0m | \u001b[36mdeimkit.trainer\u001b[0m:\u001b[36mtrain\u001b[0m:\u001b[36m316\u001b[0m - \u001b[1mBest stats: {'epoch': 41, 'coco_eval_bbox': 0.5366875538815489}\u001b[0m\n",
      "\u001b[32m2025-03-10 18:22:32.581\u001b[0m | \u001b[1mINFO    \u001b[0m | \u001b[36mdeimkit.trainer\u001b[0m:\u001b[36mtrain\u001b[0m:\u001b[36m224\u001b[0m - \u001b[1mEpoch 49/80\u001b[0m\n"
     ]
    },
    {
     "name": "stdout",
     "output_type": "stream",
     "text": [
      "Averaged stats: \n",
      "Accumulating evaluation results...\n",
      "COCOeval_opt.accumulate() finished...\n",
      "DONE (t=0.02s).\n",
      "IoU metric: bbox\n",
      " Average Precision  (AP) @[ IoU=0.50:0.95 | area=   all | maxDets=100 ] = 0.524\n",
      " Average Precision  (AP) @[ IoU=0.50      | area=   all | maxDets=100 ] = 0.764\n",
      " Average Precision  (AP) @[ IoU=0.75      | area=   all | maxDets=100 ] = 0.650\n",
      " Average Precision  (AP) @[ IoU=0.50:0.95 | area= small | maxDets=100 ] = 0.227\n",
      " Average Precision  (AP) @[ IoU=0.50:0.95 | area=medium | maxDets=100 ] = 0.546\n",
      " Average Precision  (AP) @[ IoU=0.50:0.95 | area= large | maxDets=100 ] = 0.415\n",
      " Average Recall     (AR) @[ IoU=0.50:0.95 | area=   all | maxDets=  1 ] = 0.388\n",
      " Average Recall     (AR) @[ IoU=0.50:0.95 | area=   all | maxDets= 10 ] = 0.649\n",
      " Average Recall     (AR) @[ IoU=0.50:0.95 | area=   all | maxDets=100 ] = 0.759\n",
      " Average Recall     (AR) @[ IoU=0.50:0.95 | area= small | maxDets=100 ] = 0.740\n",
      " Average Recall     (AR) @[ IoU=0.50:0.95 | area=medium | maxDets=100 ] = 0.734\n",
      " Average Recall     (AR) @[ IoU=0.50:0.95 | area= large | maxDets=100 ] = 0.770\n",
      " Average Recall     (AR) @[ IoU=0.50      | area=   all | maxDets=100 ] = 0.998\n",
      " Average Recall     (AR) @[ IoU=0.75      | area=   all | maxDets=100 ] = 0.915\n"
     ]
    },
    {
     "name": "stderr",
     "output_type": "stream",
     "text": [
      "Epoch 49: 100%|██████████| 15/15 [00:08<00:00,  1.67it/s, loss=22.9379]\n",
      "\u001b[32m2025-03-10 18:22:41.585\u001b[0m | \u001b[1mINFO    \u001b[0m | \u001b[36mdeimkit.trainer\u001b[0m:\u001b[36mevaluate\u001b[0m:\u001b[36m332\u001b[0m - \u001b[1mEvaluating model...\u001b[0m\n"
     ]
    },
    {
     "name": "stdout",
     "output_type": "stream",
     "text": [
      "Averaged stats: lr: 0.000181  loss: 24.0932 (23.9241)  loss_mal: 0.9424 (0.9411)  loss_bbox: 0.2295 (0.2224)  loss_giou: 0.6173 (0.5941)  loss_fgl: 1.1443 (1.1452)  loss_mal_aux_0: 0.9424 (0.9403)  loss_bbox_aux_0: 0.2370 (0.2296)  loss_giou_aux_0: 0.6347 (0.6168)  loss_fgl_aux_0: 1.1569 (1.1574)  loss_ddf_aux_0: 0.1265 (0.1237)  loss_mal_aux_1: 0.9478 (0.9386)  loss_bbox_aux_1: 0.2288 (0.2224)  loss_giou_aux_1: 0.6176 (0.5942)  loss_fgl_aux_1: 1.1437 (1.1454)  loss_ddf_aux_1: 0.0060 (0.0062)  loss_mal_pre: 0.9409 (0.9378)  loss_bbox_pre: 0.2364 (0.2298)  loss_giou_pre: 0.6380 (0.6180)  loss_mal_enc_0: 0.9810 (0.9778)  loss_bbox_enc_0: 0.2640 (0.2670)  loss_giou_enc_0: 0.7290 (0.7096)  loss_mal_dn_0: 0.7783 (0.7762)  loss_bbox_dn_0: 0.2862 (0.2799)  loss_giou_dn_0: 0.8350 (0.8092)  loss_fgl_dn_0: 1.1277 (1.1465)  loss_ddf_dn_0: 0.7731 (0.8154)  loss_mal_dn_1: 0.7910 (0.7894)  loss_bbox_dn_1: 0.2377 (0.2335)  loss_giou_dn_1: 0.6756 (0.6553)  loss_fgl_dn_1: 1.1165 (1.1174)  loss_ddf_dn_1: 0.0373 (0.0393)  loss_mal_dn_2: 0.7856 (0.7864)  loss_bbox_dn_2: 0.2306 (0.2272)  loss_giou_dn_2: 0.6594 (0.6400)  loss_fgl_dn_2: 1.1180 (1.1186)  loss_mal_dn_pre: 0.7764 (0.7755)  loss_bbox_dn_pre: 0.2847 (0.2836)  loss_giou_dn_pre: 0.8423 (0.8130)\n"
     ]
    },
    {
     "name": "stderr",
     "output_type": "stream",
     "text": [
      "Evaluating: 100%|██████████| 5/5 [00:01<00:00,  3.44it/s]\n",
      "\u001b[32m2025-03-10 18:22:43.066\u001b[0m | \u001b[1mINFO    \u001b[0m | \u001b[36mdeimkit.trainer\u001b[0m:\u001b[36m_save_checkpoint\u001b[0m:\u001b[36m364\u001b[0m - \u001b[1mSaving checkpoint to outputs/deim_hgnetv2_s_80e/best.pth\u001b[0m\n"
     ]
    },
    {
     "name": "stdout",
     "output_type": "stream",
     "text": [
      "Averaged stats: \n",
      "Accumulating evaluation results...\n",
      "COCOeval_opt.accumulate() finished...\n",
      "DONE (t=0.02s).\n",
      "IoU metric: bbox\n",
      " Average Precision  (AP) @[ IoU=0.50:0.95 | area=   all | maxDets=100 ] = 0.541\n",
      " Average Precision  (AP) @[ IoU=0.50      | area=   all | maxDets=100 ] = 0.798\n",
      " Average Precision  (AP) @[ IoU=0.75      | area=   all | maxDets=100 ] = 0.663\n",
      " Average Precision  (AP) @[ IoU=0.50:0.95 | area= small | maxDets=100 ] = 0.138\n",
      " Average Precision  (AP) @[ IoU=0.50:0.95 | area=medium | maxDets=100 ] = 0.569\n",
      " Average Precision  (AP) @[ IoU=0.50:0.95 | area= large | maxDets=100 ] = 0.415\n",
      " Average Recall     (AR) @[ IoU=0.50:0.95 | area=   all | maxDets=  1 ] = 0.392\n",
      " Average Recall     (AR) @[ IoU=0.50:0.95 | area=   all | maxDets= 10 ] = 0.649\n",
      " Average Recall     (AR) @[ IoU=0.50:0.95 | area=   all | maxDets=100 ] = 0.761\n",
      " Average Recall     (AR) @[ IoU=0.50:0.95 | area= small | maxDets=100 ] = 0.680\n",
      " Average Recall     (AR) @[ IoU=0.50:0.95 | area=medium | maxDets=100 ] = 0.741\n",
      " Average Recall     (AR) @[ IoU=0.50:0.95 | area= large | maxDets=100 ] = 0.535\n",
      " Average Recall     (AR) @[ IoU=0.50      | area=   all | maxDets=100 ] = 0.994\n",
      " Average Recall     (AR) @[ IoU=0.75      | area=   all | maxDets=100 ] = 0.928\n"
     ]
    },
    {
     "name": "stderr",
     "output_type": "stream",
     "text": [
      "\u001b[32m2025-03-10 18:22:43.380\u001b[0m | \u001b[1mINFO    \u001b[0m | \u001b[36mdeimkit.trainer\u001b[0m:\u001b[36m_save_checkpoint\u001b[0m:\u001b[36m381\u001b[0m - \u001b[1mCheckpoint saved to outputs/deim_hgnetv2_s_80e/best.pth\u001b[0m\n",
      "\u001b[32m2025-03-10 18:22:43.381\u001b[0m | \u001b[1mINFO    \u001b[0m | \u001b[36mdeimkit.trainer\u001b[0m:\u001b[36mtrain\u001b[0m:\u001b[36m313\u001b[0m - \u001b[1mEpoch 49 - Train loss: 23.9241, Eval mAP: 0.5407\u001b[0m\n",
      "\u001b[32m2025-03-10 18:22:43.382\u001b[0m | \u001b[1mINFO    \u001b[0m | \u001b[36mdeimkit.trainer\u001b[0m:\u001b[36mtrain\u001b[0m:\u001b[36m316\u001b[0m - \u001b[1mBest stats: {'epoch': 49, 'coco_eval_bbox': 0.5406726778085472}\u001b[0m\n",
      "\u001b[32m2025-03-10 18:22:43.382\u001b[0m | \u001b[1mINFO    \u001b[0m | \u001b[36mdeimkit.trainer\u001b[0m:\u001b[36mtrain\u001b[0m:\u001b[36m224\u001b[0m - \u001b[1mEpoch 50/80\u001b[0m\n",
      "Epoch 50: 100%|██████████| 15/15 [00:08<00:00,  1.71it/s, loss=23.7847]\n",
      "\u001b[32m2025-03-10 18:22:52.171\u001b[0m | \u001b[1mINFO    \u001b[0m | \u001b[36mdeimkit.trainer\u001b[0m:\u001b[36mevaluate\u001b[0m:\u001b[36m332\u001b[0m - \u001b[1mEvaluating model...\u001b[0m\n"
     ]
    },
    {
     "name": "stdout",
     "output_type": "stream",
     "text": [
      "Averaged stats: lr: 0.000178  loss: 23.7847 (23.6145)  loss_mal: 0.9268 (0.9247)  loss_bbox: 0.2316 (0.2255)  loss_giou: 0.6149 (0.5828)  loss_fgl: 1.1423 (1.1479)  loss_mal_aux_0: 0.9336 (0.9331)  loss_bbox_aux_0: 0.2348 (0.2317)  loss_giou_aux_0: 0.6340 (0.6053)  loss_fgl_aux_0: 1.1502 (1.1575)  loss_ddf_aux_0: 0.0946 (0.0962)  loss_mal_aux_1: 0.9180 (0.9260)  loss_bbox_aux_1: 0.2319 (0.2256)  loss_giou_aux_1: 0.6124 (0.5838)  loss_fgl_aux_1: 1.1426 (1.1486)  loss_ddf_aux_1: 0.0046 (0.0048)  loss_mal_pre: 0.9326 (0.9311)  loss_bbox_pre: 0.2343 (0.2318)  loss_giou_pre: 0.6375 (0.6069)  loss_mal_enc_0: 0.9629 (0.9778)  loss_bbox_enc_0: 0.2784 (0.2643)  loss_giou_enc_0: 0.7324 (0.6855)  loss_mal_dn_0: 0.7749 (0.7748)  loss_bbox_dn_0: 0.2959 (0.2880)  loss_giou_dn_0: 0.8430 (0.7935)  loss_fgl_dn_0: 1.1308 (1.1431)  loss_ddf_dn_0: 0.6389 (0.6793)  loss_mal_dn_1: 0.7778 (0.7817)  loss_bbox_dn_1: 0.2330 (0.2400)  loss_giou_dn_1: 0.7075 (0.6504)  loss_fgl_dn_1: 1.1169 (1.1162)  loss_ddf_dn_1: 0.0309 (0.0308)  loss_mal_dn_2: 0.7705 (0.7759)  loss_bbox_dn_2: 0.2233 (0.2356)  loss_giou_dn_2: 0.6903 (0.6339)  loss_fgl_dn_2: 1.1183 (1.1175)  loss_mal_dn_pre: 0.7725 (0.7732)  loss_bbox_dn_pre: 0.3095 (0.2900)  loss_giou_dn_pre: 0.8458 (0.7993)\n"
     ]
    },
    {
     "name": "stderr",
     "output_type": "stream",
     "text": [
      "Evaluating: 100%|██████████| 5/5 [00:01<00:00,  3.31it/s]\n",
      "\u001b[32m2025-03-10 18:22:53.711\u001b[0m | \u001b[1mINFO    \u001b[0m | \u001b[36mdeimkit.trainer\u001b[0m:\u001b[36m_save_checkpoint\u001b[0m:\u001b[36m364\u001b[0m - \u001b[1mSaving checkpoint to outputs/deim_hgnetv2_s_80e/best.pth\u001b[0m\n"
     ]
    },
    {
     "name": "stdout",
     "output_type": "stream",
     "text": [
      "Averaged stats: \n",
      "Accumulating evaluation results...\n",
      "COCOeval_opt.accumulate() finished...\n",
      "DONE (t=0.02s).\n",
      "IoU metric: bbox\n",
      " Average Precision  (AP) @[ IoU=0.50:0.95 | area=   all | maxDets=100 ] = 0.560\n",
      " Average Precision  (AP) @[ IoU=0.50      | area=   all | maxDets=100 ] = 0.811\n",
      " Average Precision  (AP) @[ IoU=0.75      | area=   all | maxDets=100 ] = 0.685\n",
      " Average Precision  (AP) @[ IoU=0.50:0.95 | area= small | maxDets=100 ] = 0.272\n",
      " Average Precision  (AP) @[ IoU=0.50:0.95 | area=medium | maxDets=100 ] = 0.569\n",
      " Average Precision  (AP) @[ IoU=0.50:0.95 | area= large | maxDets=100 ] = 0.426\n",
      " Average Recall     (AR) @[ IoU=0.50:0.95 | area=   all | maxDets=  1 ] = 0.395\n",
      " Average Recall     (AR) @[ IoU=0.50:0.95 | area=   all | maxDets= 10 ] = 0.654\n",
      " Average Recall     (AR) @[ IoU=0.50:0.95 | area=   all | maxDets=100 ] = 0.773\n",
      " Average Recall     (AR) @[ IoU=0.50:0.95 | area= small | maxDets=100 ] = 0.760\n",
      " Average Recall     (AR) @[ IoU=0.50:0.95 | area=medium | maxDets=100 ] = 0.746\n",
      " Average Recall     (AR) @[ IoU=0.50:0.95 | area= large | maxDets=100 ] = 0.541\n",
      " Average Recall     (AR) @[ IoU=0.50      | area=   all | maxDets=100 ] = 0.994\n",
      " Average Recall     (AR) @[ IoU=0.75      | area=   all | maxDets=100 ] = 0.934\n"
     ]
    },
    {
     "name": "stderr",
     "output_type": "stream",
     "text": [
      "\u001b[32m2025-03-10 18:22:54.036\u001b[0m | \u001b[1mINFO    \u001b[0m | \u001b[36mdeimkit.trainer\u001b[0m:\u001b[36m_save_checkpoint\u001b[0m:\u001b[36m381\u001b[0m - \u001b[1mCheckpoint saved to outputs/deim_hgnetv2_s_80e/best.pth\u001b[0m\n",
      "\u001b[32m2025-03-10 18:22:54.037\u001b[0m | \u001b[1mINFO    \u001b[0m | \u001b[36mdeimkit.trainer\u001b[0m:\u001b[36mtrain\u001b[0m:\u001b[36m313\u001b[0m - \u001b[1mEpoch 50 - Train loss: 23.6145, Eval mAP: 0.5597\u001b[0m\n",
      "\u001b[32m2025-03-10 18:22:54.038\u001b[0m | \u001b[1mINFO    \u001b[0m | \u001b[36mdeimkit.trainer\u001b[0m:\u001b[36mtrain\u001b[0m:\u001b[36m316\u001b[0m - \u001b[1mBest stats: {'epoch': 50, 'coco_eval_bbox': 0.5597094726388906}\u001b[0m\n",
      "\u001b[32m2025-03-10 18:22:54.038\u001b[0m | \u001b[1mINFO    \u001b[0m | \u001b[36mdeimkit.trainer\u001b[0m:\u001b[36mtrain\u001b[0m:\u001b[36m224\u001b[0m - \u001b[1mEpoch 51/80\u001b[0m\n",
      "Epoch 51: 100%|██████████| 15/15 [00:08<00:00,  1.74it/s, loss=24.4325]\n",
      "\u001b[32m2025-03-10 18:23:02.667\u001b[0m | \u001b[1mINFO    \u001b[0m | \u001b[36mdeimkit.trainer\u001b[0m:\u001b[36m_save_checkpoint\u001b[0m:\u001b[36m364\u001b[0m - \u001b[1mSaving checkpoint to outputs/deim_hgnetv2_s_80e/checkpoint0051.pth\u001b[0m\n"
     ]
    },
    {
     "name": "stdout",
     "output_type": "stream",
     "text": [
      "Averaged stats: lr: 0.000174  loss: 23.0115 (23.4012)  loss_mal: 0.9189 (0.9200)  loss_bbox: 0.1779 (0.2026)  loss_giou: 0.5194 (0.5519)  loss_fgl: 1.1463 (1.1491)  loss_mal_aux_0: 0.9326 (0.9357)  loss_bbox_aux_0: 0.1901 (0.2098)  loss_giou_aux_0: 0.5414 (0.5708)  loss_fgl_aux_0: 1.1563 (1.1602)  loss_ddf_aux_0: 0.1157 (0.1214)  loss_mal_aux_1: 0.9229 (0.9288)  loss_bbox_aux_1: 0.1782 (0.2029)  loss_giou_aux_1: 0.5187 (0.5522)  loss_fgl_aux_1: 1.1478 (1.1494)  loss_ddf_aux_1: 0.0049 (0.0051)  loss_mal_pre: 0.9297 (0.9331)  loss_bbox_pre: 0.1907 (0.2101)  loss_giou_pre: 0.5428 (0.5714)  loss_mal_enc_0: 0.9658 (0.9901)  loss_bbox_enc_0: 0.2348 (0.2423)  loss_giou_enc_0: 0.6944 (0.6541)  loss_mal_dn_0: 0.7749 (0.7771)  loss_bbox_dn_0: 0.2523 (0.2740)  loss_giou_dn_0: 0.7499 (0.7798)  loss_fgl_dn_0: 1.1622 (1.1599)  loss_ddf_dn_0: 0.8028 (0.8245)  loss_mal_dn_1: 0.7778 (0.7784)  loss_bbox_dn_1: 0.1959 (0.2240)  loss_giou_dn_1: 0.5890 (0.6189)  loss_fgl_dn_1: 1.1188 (1.1202)  loss_ddf_dn_1: 0.0336 (0.0347)  loss_mal_dn_2: 0.7778 (0.7752)  loss_bbox_dn_2: 0.1885 (0.2183)  loss_giou_dn_2: 0.5720 (0.6045)  loss_fgl_dn_2: 1.1189 (1.1196)  loss_mal_dn_pre: 0.7729 (0.7754)  loss_bbox_dn_pre: 0.2552 (0.2763)  loss_giou_dn_pre: 0.7551 (0.7795)\n"
     ]
    },
    {
     "name": "stderr",
     "output_type": "stream",
     "text": [
      "\u001b[32m2025-03-10 18:23:02.930\u001b[0m | \u001b[1mINFO    \u001b[0m | \u001b[36mdeimkit.trainer\u001b[0m:\u001b[36m_save_checkpoint\u001b[0m:\u001b[36m381\u001b[0m - \u001b[1mCheckpoint saved to outputs/deim_hgnetv2_s_80e/checkpoint0051.pth\u001b[0m\n",
      "\u001b[32m2025-03-10 18:23:02.931\u001b[0m | \u001b[1mINFO    \u001b[0m | \u001b[36mdeimkit.trainer\u001b[0m:\u001b[36mevaluate\u001b[0m:\u001b[36m332\u001b[0m - \u001b[1mEvaluating model...\u001b[0m\n",
      "Evaluating: 100%|██████████| 5/5 [00:01<00:00,  3.46it/s]\n",
      "\u001b[32m2025-03-10 18:23:04.406\u001b[0m | \u001b[1mINFO    \u001b[0m | \u001b[36mdeimkit.trainer\u001b[0m:\u001b[36mtrain\u001b[0m:\u001b[36m313\u001b[0m - \u001b[1mEpoch 51 - Train loss: 23.4012, Eval mAP: 0.5212\u001b[0m\n",
      "\u001b[32m2025-03-10 18:23:04.406\u001b[0m | \u001b[1mINFO    \u001b[0m | \u001b[36mdeimkit.trainer\u001b[0m:\u001b[36mtrain\u001b[0m:\u001b[36m316\u001b[0m - \u001b[1mBest stats: {'epoch': 50, 'coco_eval_bbox': 0.5597094726388906}\u001b[0m\n",
      "\u001b[32m2025-03-10 18:23:04.407\u001b[0m | \u001b[1mINFO    \u001b[0m | \u001b[36mdeimkit.trainer\u001b[0m:\u001b[36mtrain\u001b[0m:\u001b[36m224\u001b[0m - \u001b[1mEpoch 52/80\u001b[0m\n"
     ]
    },
    {
     "name": "stdout",
     "output_type": "stream",
     "text": [
      "Averaged stats: \n",
      "Accumulating evaluation results...\n",
      "COCOeval_opt.accumulate() finished...\n",
      "DONE (t=0.02s).\n",
      "IoU metric: bbox\n",
      " Average Precision  (AP) @[ IoU=0.50:0.95 | area=   all | maxDets=100 ] = 0.521\n",
      " Average Precision  (AP) @[ IoU=0.50      | area=   all | maxDets=100 ] = 0.762\n",
      " Average Precision  (AP) @[ IoU=0.75      | area=   all | maxDets=100 ] = 0.617\n",
      " Average Precision  (AP) @[ IoU=0.50:0.95 | area= small | maxDets=100 ] = 0.332\n",
      " Average Precision  (AP) @[ IoU=0.50:0.95 | area=medium | maxDets=100 ] = 0.534\n",
      " Average Precision  (AP) @[ IoU=0.50:0.95 | area= large | maxDets=100 ] = 0.417\n",
      " Average Recall     (AR) @[ IoU=0.50:0.95 | area=   all | maxDets=  1 ] = 0.387\n",
      " Average Recall     (AR) @[ IoU=0.50:0.95 | area=   all | maxDets= 10 ] = 0.635\n",
      " Average Recall     (AR) @[ IoU=0.50:0.95 | area=   all | maxDets=100 ] = 0.765\n",
      " Average Recall     (AR) @[ IoU=0.50:0.95 | area= small | maxDets=100 ] = 0.700\n",
      " Average Recall     (AR) @[ IoU=0.50:0.95 | area=medium | maxDets=100 ] = 0.743\n",
      " Average Recall     (AR) @[ IoU=0.50:0.95 | area= large | maxDets=100 ] = 0.544\n",
      " Average Recall     (AR) @[ IoU=0.50      | area=   all | maxDets=100 ] = 0.986\n",
      " Average Recall     (AR) @[ IoU=0.75      | area=   all | maxDets=100 ] = 0.911\n"
     ]
    },
    {
     "name": "stderr",
     "output_type": "stream",
     "text": [
      "Epoch 52: 100%|██████████| 15/15 [00:08<00:00,  1.78it/s, loss=23.3947]\n",
      "\u001b[32m2025-03-10 18:23:12.855\u001b[0m | \u001b[1mINFO    \u001b[0m | \u001b[36mdeimkit.trainer\u001b[0m:\u001b[36mevaluate\u001b[0m:\u001b[36m332\u001b[0m - \u001b[1mEvaluating model...\u001b[0m\n"
     ]
    },
    {
     "name": "stdout",
     "output_type": "stream",
     "text": [
      "Averaged stats: lr: 0.000170  loss: 23.3268 (23.2653)  loss_mal: 0.9106 (0.9153)  loss_bbox: 0.1813 (0.2030)  loss_giou: 0.4948 (0.5465)  loss_fgl: 1.1553 (1.1543)  loss_mal_aux_0: 0.9189 (0.9342)  loss_bbox_aux_0: 0.1863 (0.2097)  loss_giou_aux_0: 0.5324 (0.5686)  loss_fgl_aux_0: 1.1734 (1.1665)  loss_ddf_aux_0: 0.1042 (0.1054)  loss_mal_aux_1: 0.9170 (0.9166)  loss_bbox_aux_1: 0.1809 (0.2028)  loss_giou_aux_1: 0.4943 (0.5466)  loss_fgl_aux_1: 1.1541 (1.1545)  loss_ddf_aux_1: 0.0046 (0.0047)  loss_mal_pre: 0.9155 (0.9314)  loss_bbox_pre: 0.1852 (0.2091)  loss_giou_pre: 0.5251 (0.5682)  loss_mal_enc_0: 0.9712 (0.9713)  loss_bbox_enc_0: 0.2165 (0.2410)  loss_giou_enc_0: 0.6084 (0.6479)  loss_mal_dn_0: 0.7808 (0.7802)  loss_bbox_dn_0: 0.2619 (0.2641)  loss_giou_dn_0: 0.7234 (0.7603)  loss_fgl_dn_0: 1.1785 (1.1705)  loss_ddf_dn_0: 0.7732 (0.8106)  loss_mal_dn_1: 0.7817 (0.7834)  loss_bbox_dn_1: 0.2047 (0.2172)  loss_giou_dn_1: 0.5667 (0.6043)  loss_fgl_dn_1: 1.1310 (1.1284)  loss_ddf_dn_1: 0.0378 (0.0372)  loss_mal_dn_2: 0.7788 (0.7785)  loss_bbox_dn_2: 0.1985 (0.2123)  loss_giou_dn_2: 0.5528 (0.5886)  loss_fgl_dn_2: 1.1314 (1.1283)  loss_mal_dn_pre: 0.7798 (0.7787)  loss_bbox_dn_pre: 0.2611 (0.2655)  loss_giou_dn_pre: 0.7339 (0.7595)\n"
     ]
    },
    {
     "name": "stderr",
     "output_type": "stream",
     "text": [
      "Evaluating: 100%|██████████| 5/5 [00:01<00:00,  3.45it/s]\n",
      "\u001b[32m2025-03-10 18:23:14.334\u001b[0m | \u001b[1mINFO    \u001b[0m | \u001b[36mdeimkit.trainer\u001b[0m:\u001b[36mtrain\u001b[0m:\u001b[36m313\u001b[0m - \u001b[1mEpoch 52 - Train loss: 23.2653, Eval mAP: 0.5585\u001b[0m\n",
      "\u001b[32m2025-03-10 18:23:14.335\u001b[0m | \u001b[1mINFO    \u001b[0m | \u001b[36mdeimkit.trainer\u001b[0m:\u001b[36mtrain\u001b[0m:\u001b[36m316\u001b[0m - \u001b[1mBest stats: {'epoch': 50, 'coco_eval_bbox': 0.5597094726388906}\u001b[0m\n",
      "\u001b[32m2025-03-10 18:23:14.335\u001b[0m | \u001b[1mINFO    \u001b[0m | \u001b[36mdeimkit.trainer\u001b[0m:\u001b[36mtrain\u001b[0m:\u001b[36m224\u001b[0m - \u001b[1mEpoch 53/80\u001b[0m\n"
     ]
    },
    {
     "name": "stdout",
     "output_type": "stream",
     "text": [
      "Averaged stats: \n",
      "Accumulating evaluation results...\n",
      "COCOeval_opt.accumulate() finished...\n",
      "DONE (t=0.02s).\n",
      "IoU metric: bbox\n",
      " Average Precision  (AP) @[ IoU=0.50:0.95 | area=   all | maxDets=100 ] = 0.559\n",
      " Average Precision  (AP) @[ IoU=0.50      | area=   all | maxDets=100 ] = 0.795\n",
      " Average Precision  (AP) @[ IoU=0.75      | area=   all | maxDets=100 ] = 0.665\n",
      " Average Precision  (AP) @[ IoU=0.50:0.95 | area= small | maxDets=100 ] = 0.459\n",
      " Average Precision  (AP) @[ IoU=0.50:0.95 | area=medium | maxDets=100 ] = 0.555\n",
      " Average Precision  (AP) @[ IoU=0.50:0.95 | area= large | maxDets=100 ] = 0.435\n",
      " Average Recall     (AR) @[ IoU=0.50:0.95 | area=   all | maxDets=  1 ] = 0.405\n",
      " Average Recall     (AR) @[ IoU=0.50:0.95 | area=   all | maxDets= 10 ] = 0.657\n",
      " Average Recall     (AR) @[ IoU=0.50:0.95 | area=   all | maxDets=100 ] = 0.775\n",
      " Average Recall     (AR) @[ IoU=0.50:0.95 | area= small | maxDets=100 ] = 0.720\n",
      " Average Recall     (AR) @[ IoU=0.50:0.95 | area=medium | maxDets=100 ] = 0.753\n",
      " Average Recall     (AR) @[ IoU=0.50:0.95 | area= large | maxDets=100 ] = 0.546\n",
      " Average Recall     (AR) @[ IoU=0.50      | area=   all | maxDets=100 ] = 0.994\n",
      " Average Recall     (AR) @[ IoU=0.75      | area=   all | maxDets=100 ] = 0.933\n"
     ]
    },
    {
     "name": "stderr",
     "output_type": "stream",
     "text": [
      "Epoch 53: 100%|██████████| 15/15 [00:09<00:00,  1.66it/s, loss=22.3407]\n",
      "\u001b[32m2025-03-10 18:23:23.370\u001b[0m | \u001b[1mINFO    \u001b[0m | \u001b[36mdeimkit.trainer\u001b[0m:\u001b[36mevaluate\u001b[0m:\u001b[36m332\u001b[0m - \u001b[1mEvaluating model...\u001b[0m\n"
     ]
    },
    {
     "name": "stdout",
     "output_type": "stream",
     "text": [
      "Averaged stats: lr: 0.000166  loss: 24.2091 (23.8299)  loss_mal: 0.9360 (0.9397)  loss_bbox: 0.2442 (0.2245)  loss_giou: 0.6193 (0.5908)  loss_fgl: 1.1557 (1.1540)  loss_mal_aux_0: 0.9360 (0.9509)  loss_bbox_aux_0: 0.2475 (0.2313)  loss_giou_aux_0: 0.6254 (0.6087)  loss_fgl_aux_0: 1.1602 (1.1643)  loss_ddf_aux_0: 0.1122 (0.1062)  loss_mal_aux_1: 0.9390 (0.9415)  loss_bbox_aux_1: 0.2437 (0.2249)  loss_giou_aux_1: 0.6170 (0.5913)  loss_fgl_aux_1: 1.1560 (1.1544)  loss_ddf_aux_1: 0.0046 (0.0047)  loss_mal_pre: 0.9365 (0.9483)  loss_bbox_pre: 0.2475 (0.2311)  loss_giou_pre: 0.6245 (0.6082)  loss_mal_enc_0: 0.9780 (0.9734)  loss_bbox_enc_0: 0.2683 (0.2520)  loss_giou_enc_0: 0.6668 (0.6693)  loss_mal_dn_0: 0.7773 (0.7789)  loss_bbox_dn_0: 0.2802 (0.2895)  loss_giou_dn_0: 0.8158 (0.7999)  loss_fgl_dn_0: 1.1354 (1.1496)  loss_ddf_dn_0: 0.6763 (0.7258)  loss_mal_dn_1: 0.7842 (0.7840)  loss_bbox_dn_1: 0.2425 (0.2475)  loss_giou_dn_1: 0.6867 (0.6612)  loss_fgl_dn_1: 1.1164 (1.1229)  loss_ddf_dn_1: 0.0316 (0.0325)  loss_mal_dn_2: 0.7891 (0.7843)  loss_bbox_dn_2: 0.2376 (0.2415)  loss_giou_dn_2: 0.6714 (0.6467)  loss_fgl_dn_2: 1.1189 (1.1238)  loss_mal_dn_pre: 0.7734 (0.7768)  loss_bbox_dn_pre: 0.2878 (0.2910)  loss_giou_dn_pre: 0.8276 (0.8046)\n"
     ]
    },
    {
     "name": "stderr",
     "output_type": "stream",
     "text": [
      "Evaluating: 100%|██████████| 5/5 [00:01<00:00,  3.89it/s]\n",
      "\u001b[32m2025-03-10 18:23:24.682\u001b[0m | \u001b[1mINFO    \u001b[0m | \u001b[36mdeimkit.trainer\u001b[0m:\u001b[36m_save_checkpoint\u001b[0m:\u001b[36m364\u001b[0m - \u001b[1mSaving checkpoint to outputs/deim_hgnetv2_s_80e/best.pth\u001b[0m\n"
     ]
    },
    {
     "name": "stdout",
     "output_type": "stream",
     "text": [
      "Averaged stats: \n",
      "Accumulating evaluation results...\n",
      "COCOeval_opt.accumulate() finished...\n",
      "DONE (t=0.02s).\n",
      "IoU metric: bbox\n",
      " Average Precision  (AP) @[ IoU=0.50:0.95 | area=   all | maxDets=100 ] = 0.561\n",
      " Average Precision  (AP) @[ IoU=0.50      | area=   all | maxDets=100 ] = 0.815\n",
      " Average Precision  (AP) @[ IoU=0.75      | area=   all | maxDets=100 ] = 0.679\n",
      " Average Precision  (AP) @[ IoU=0.50:0.95 | area= small | maxDets=100 ] = 0.248\n",
      " Average Precision  (AP) @[ IoU=0.50:0.95 | area=medium | maxDets=100 ] = 0.572\n",
      " Average Precision  (AP) @[ IoU=0.50:0.95 | area= large | maxDets=100 ] = 0.429\n",
      " Average Recall     (AR) @[ IoU=0.50:0.95 | area=   all | maxDets=  1 ] = 0.397\n",
      " Average Recall     (AR) @[ IoU=0.50:0.95 | area=   all | maxDets= 10 ] = 0.661\n",
      " Average Recall     (AR) @[ IoU=0.50:0.95 | area=   all | maxDets=100 ] = 0.758\n",
      " Average Recall     (AR) @[ IoU=0.50:0.95 | area= small | maxDets=100 ] = 0.680\n",
      " Average Recall     (AR) @[ IoU=0.50:0.95 | area=medium | maxDets=100 ] = 0.736\n",
      " Average Recall     (AR) @[ IoU=0.50:0.95 | area= large | maxDets=100 ] = 0.536\n",
      " Average Recall     (AR) @[ IoU=0.50      | area=   all | maxDets=100 ] = 0.995\n",
      " Average Recall     (AR) @[ IoU=0.75      | area=   all | maxDets=100 ] = 0.928\n"
     ]
    },
    {
     "name": "stderr",
     "output_type": "stream",
     "text": [
      "\u001b[32m2025-03-10 18:23:25.236\u001b[0m | \u001b[1mINFO    \u001b[0m | \u001b[36mdeimkit.trainer\u001b[0m:\u001b[36m_save_checkpoint\u001b[0m:\u001b[36m381\u001b[0m - \u001b[1mCheckpoint saved to outputs/deim_hgnetv2_s_80e/best.pth\u001b[0m\n",
      "\u001b[32m2025-03-10 18:23:25.237\u001b[0m | \u001b[1mINFO    \u001b[0m | \u001b[36mdeimkit.trainer\u001b[0m:\u001b[36mtrain\u001b[0m:\u001b[36m313\u001b[0m - \u001b[1mEpoch 53 - Train loss: 23.8299, Eval mAP: 0.5607\u001b[0m\n",
      "\u001b[32m2025-03-10 18:23:25.238\u001b[0m | \u001b[1mINFO    \u001b[0m | \u001b[36mdeimkit.trainer\u001b[0m:\u001b[36mtrain\u001b[0m:\u001b[36m316\u001b[0m - \u001b[1mBest stats: {'epoch': 53, 'coco_eval_bbox': 0.560701379938425}\u001b[0m\n",
      "\u001b[32m2025-03-10 18:23:25.238\u001b[0m | \u001b[1mINFO    \u001b[0m | \u001b[36mdeimkit.trainer\u001b[0m:\u001b[36mtrain\u001b[0m:\u001b[36m224\u001b[0m - \u001b[1mEpoch 54/80\u001b[0m\n",
      "Epoch 54: 100%|██████████| 15/15 [00:08<00:00,  1.71it/s, loss=22.2932]\n",
      "\u001b[32m2025-03-10 18:23:34.010\u001b[0m | \u001b[1mINFO    \u001b[0m | \u001b[36mdeimkit.trainer\u001b[0m:\u001b[36mevaluate\u001b[0m:\u001b[36m332\u001b[0m - \u001b[1mEvaluating model...\u001b[0m\n"
     ]
    },
    {
     "name": "stdout",
     "output_type": "stream",
     "text": [
      "Averaged stats: lr: 0.000161  loss: 24.1850 (23.6251)  loss_mal: 0.9028 (0.9265)  loss_bbox: 0.2465 (0.2152)  loss_giou: 0.6074 (0.5721)  loss_fgl: 1.1540 (1.1595)  loss_mal_aux_0: 0.9121 (0.9215)  loss_bbox_aux_0: 0.2527 (0.2199)  loss_giou_aux_0: 0.6169 (0.5880)  loss_fgl_aux_0: 1.1659 (1.1664)  loss_ddf_aux_0: 0.1147 (0.1157)  loss_mal_aux_1: 0.9097 (0.9272)  loss_bbox_aux_1: 0.2470 (0.2154)  loss_giou_aux_1: 0.6069 (0.5726)  loss_fgl_aux_1: 1.1559 (1.1593)  loss_ddf_aux_1: 0.0047 (0.0047)  loss_mal_pre: 0.9102 (0.9184)  loss_bbox_pre: 0.2529 (0.2196)  loss_giou_pre: 0.6190 (0.5882)  loss_mal_enc_0: 0.9497 (0.9633)  loss_bbox_enc_0: 0.2771 (0.2395)  loss_giou_enc_0: 0.6793 (0.6476)  loss_mal_dn_0: 0.7773 (0.7776)  loss_bbox_dn_0: 0.2891 (0.2844)  loss_giou_dn_0: 0.8355 (0.7932)  loss_fgl_dn_0: 1.1432 (1.1535)  loss_ddf_dn_0: 0.8001 (0.8257)  loss_mal_dn_1: 0.7881 (0.7868)  loss_bbox_dn_1: 0.2529 (0.2383)  loss_giou_dn_1: 0.6901 (0.6434)  loss_fgl_dn_1: 1.1257 (1.1242)  loss_ddf_dn_1: 0.0347 (0.0373)  loss_mal_dn_2: 0.7861 (0.7821)  loss_bbox_dn_2: 0.2460 (0.2313)  loss_giou_dn_2: 0.6749 (0.6261)  loss_fgl_dn_2: 1.1316 (1.1246)  loss_mal_dn_pre: 0.7759 (0.7756)  loss_bbox_dn_pre: 0.2879 (0.2850)  loss_giou_dn_pre: 0.8330 (0.7952)\n"
     ]
    },
    {
     "name": "stderr",
     "output_type": "stream",
     "text": [
      "Evaluating: 100%|██████████| 5/5 [00:01<00:00,  3.78it/s]\n",
      "\u001b[32m2025-03-10 18:23:35.363\u001b[0m | \u001b[1mINFO    \u001b[0m | \u001b[36mdeimkit.trainer\u001b[0m:\u001b[36mtrain\u001b[0m:\u001b[36m313\u001b[0m - \u001b[1mEpoch 54 - Train loss: 23.6251, Eval mAP: 0.5267\u001b[0m\n",
      "\u001b[32m2025-03-10 18:23:35.364\u001b[0m | \u001b[1mINFO    \u001b[0m | \u001b[36mdeimkit.trainer\u001b[0m:\u001b[36mtrain\u001b[0m:\u001b[36m316\u001b[0m - \u001b[1mBest stats: {'epoch': 53, 'coco_eval_bbox': 0.560701379938425}\u001b[0m\n",
      "\u001b[32m2025-03-10 18:23:35.364\u001b[0m | \u001b[1mINFO    \u001b[0m | \u001b[36mdeimkit.trainer\u001b[0m:\u001b[36mtrain\u001b[0m:\u001b[36m224\u001b[0m - \u001b[1mEpoch 55/80\u001b[0m\n"
     ]
    },
    {
     "name": "stdout",
     "output_type": "stream",
     "text": [
      "Averaged stats: \n",
      "Accumulating evaluation results...\n",
      "COCOeval_opt.accumulate() finished...\n",
      "DONE (t=0.02s).\n",
      "IoU metric: bbox\n",
      " Average Precision  (AP) @[ IoU=0.50:0.95 | area=   all | maxDets=100 ] = 0.527\n",
      " Average Precision  (AP) @[ IoU=0.50      | area=   all | maxDets=100 ] = 0.779\n",
      " Average Precision  (AP) @[ IoU=0.75      | area=   all | maxDets=100 ] = 0.601\n",
      " Average Precision  (AP) @[ IoU=0.50:0.95 | area= small | maxDets=100 ] = 0.277\n",
      " Average Precision  (AP) @[ IoU=0.50:0.95 | area=medium | maxDets=100 ] = 0.580\n",
      " Average Precision  (AP) @[ IoU=0.50:0.95 | area= large | maxDets=100 ] = 0.410\n",
      " Average Recall     (AR) @[ IoU=0.50:0.95 | area=   all | maxDets=  1 ] = 0.391\n",
      " Average Recall     (AR) @[ IoU=0.50:0.95 | area=   all | maxDets= 10 ] = 0.647\n",
      " Average Recall     (AR) @[ IoU=0.50:0.95 | area=   all | maxDets=100 ] = 0.749\n",
      " Average Recall     (AR) @[ IoU=0.50:0.95 | area= small | maxDets=100 ] = 0.680\n",
      " Average Recall     (AR) @[ IoU=0.50:0.95 | area=medium | maxDets=100 ] = 0.774\n",
      " Average Recall     (AR) @[ IoU=0.50:0.95 | area= large | maxDets=100 ] = 0.533\n",
      " Average Recall     (AR) @[ IoU=0.50      | area=   all | maxDets=100 ] = 0.994\n",
      " Average Recall     (AR) @[ IoU=0.75      | area=   all | maxDets=100 ] = 0.899\n"
     ]
    },
    {
     "name": "stderr",
     "output_type": "stream",
     "text": [
      "Epoch 55: 100%|██████████| 15/15 [00:08<00:00,  1.72it/s, loss=24.8383]\n",
      "\u001b[32m2025-03-10 18:23:44.074\u001b[0m | \u001b[1mINFO    \u001b[0m | \u001b[36mdeimkit.trainer\u001b[0m:\u001b[36m_save_checkpoint\u001b[0m:\u001b[36m364\u001b[0m - \u001b[1mSaving checkpoint to outputs/deim_hgnetv2_s_80e/checkpoint0055.pth\u001b[0m\n"
     ]
    },
    {
     "name": "stdout",
     "output_type": "stream",
     "text": [
      "Averaged stats: lr: 0.000157  loss: 23.3768 (23.2939)  loss_mal: 0.9072 (0.9140)  loss_bbox: 0.2076 (0.1992)  loss_giou: 0.5324 (0.5480)  loss_fgl: 1.1560 (1.1579)  loss_mal_aux_0: 0.9170 (0.9164)  loss_bbox_aux_0: 0.2174 (0.2074)  loss_giou_aux_0: 0.5651 (0.5732)  loss_fgl_aux_0: 1.1700 (1.1693)  loss_ddf_aux_0: 0.1021 (0.1242)  loss_mal_aux_1: 0.9204 (0.9226)  loss_bbox_aux_1: 0.2074 (0.1992)  loss_giou_aux_1: 0.5333 (0.5488)  loss_fgl_aux_1: 1.1560 (1.1577)  loss_ddf_aux_1: 0.0061 (0.0062)  loss_mal_pre: 0.9150 (0.9133)  loss_bbox_pre: 0.2171 (0.2071)  loss_giou_pre: 0.5644 (0.5726)  loss_mal_enc_0: 0.9380 (0.9632)  loss_bbox_enc_0: 0.2666 (0.2481)  loss_giou_enc_0: 0.6957 (0.6730)  loss_mal_dn_0: 0.7817 (0.7809)  loss_bbox_dn_0: 0.2715 (0.2657)  loss_giou_dn_0: 0.7305 (0.7664)  loss_fgl_dn_0: 1.1659 (1.1674)  loss_ddf_dn_0: 0.7376 (0.7498)  loss_mal_dn_1: 0.7842 (0.7886)  loss_bbox_dn_1: 0.2161 (0.2191)  loss_giou_dn_1: 0.5738 (0.6173)  loss_fgl_dn_1: 1.1298 (1.1338)  loss_ddf_dn_1: 0.0366 (0.0390)  loss_mal_dn_2: 0.7764 (0.7792)  loss_bbox_dn_2: 0.2086 (0.2146)  loss_giou_dn_2: 0.5571 (0.6015)  loss_fgl_dn_2: 1.1264 (1.1327)  loss_mal_dn_pre: 0.7783 (0.7791)  loss_bbox_dn_pre: 0.2755 (0.2677)  loss_giou_dn_pre: 0.7421 (0.7693)\n"
     ]
    },
    {
     "name": "stderr",
     "output_type": "stream",
     "text": [
      "\u001b[32m2025-03-10 18:23:44.345\u001b[0m | \u001b[1mINFO    \u001b[0m | \u001b[36mdeimkit.trainer\u001b[0m:\u001b[36m_save_checkpoint\u001b[0m:\u001b[36m381\u001b[0m - \u001b[1mCheckpoint saved to outputs/deim_hgnetv2_s_80e/checkpoint0055.pth\u001b[0m\n",
      "\u001b[32m2025-03-10 18:23:44.346\u001b[0m | \u001b[1mINFO    \u001b[0m | \u001b[36mdeimkit.trainer\u001b[0m:\u001b[36mevaluate\u001b[0m:\u001b[36m332\u001b[0m - \u001b[1mEvaluating model...\u001b[0m\n",
      "Evaluating: 100%|██████████| 5/5 [00:01<00:00,  3.68it/s]\n",
      "\u001b[32m2025-03-10 18:23:45.736\u001b[0m | \u001b[1mINFO    \u001b[0m | \u001b[36mdeimkit.trainer\u001b[0m:\u001b[36mtrain\u001b[0m:\u001b[36m313\u001b[0m - \u001b[1mEpoch 55 - Train loss: 23.2939, Eval mAP: 0.5552\u001b[0m\n",
      "\u001b[32m2025-03-10 18:23:45.736\u001b[0m | \u001b[1mINFO    \u001b[0m | \u001b[36mdeimkit.trainer\u001b[0m:\u001b[36mtrain\u001b[0m:\u001b[36m316\u001b[0m - \u001b[1mBest stats: {'epoch': 53, 'coco_eval_bbox': 0.560701379938425}\u001b[0m\n",
      "\u001b[32m2025-03-10 18:23:45.737\u001b[0m | \u001b[1mINFO    \u001b[0m | \u001b[36mdeimkit.trainer\u001b[0m:\u001b[36mtrain\u001b[0m:\u001b[36m224\u001b[0m - \u001b[1mEpoch 56/80\u001b[0m\n"
     ]
    },
    {
     "name": "stdout",
     "output_type": "stream",
     "text": [
      "Averaged stats: \n",
      "Accumulating evaluation results...\n",
      "COCOeval_opt.accumulate() finished...\n",
      "DONE (t=0.02s).\n",
      "IoU metric: bbox\n",
      " Average Precision  (AP) @[ IoU=0.50:0.95 | area=   all | maxDets=100 ] = 0.555\n",
      " Average Precision  (AP) @[ IoU=0.50      | area=   all | maxDets=100 ] = 0.796\n",
      " Average Precision  (AP) @[ IoU=0.75      | area=   all | maxDets=100 ] = 0.647\n",
      " Average Precision  (AP) @[ IoU=0.50:0.95 | area= small | maxDets=100 ] = 0.213\n",
      " Average Precision  (AP) @[ IoU=0.50:0.95 | area=medium | maxDets=100 ] = 0.551\n",
      " Average Precision  (AP) @[ IoU=0.50:0.95 | area= large | maxDets=100 ] = 0.438\n",
      " Average Recall     (AR) @[ IoU=0.50:0.95 | area=   all | maxDets=  1 ] = 0.407\n",
      " Average Recall     (AR) @[ IoU=0.50:0.95 | area=   all | maxDets= 10 ] = 0.669\n",
      " Average Recall     (AR) @[ IoU=0.50:0.95 | area=   all | maxDets=100 ] = 0.781\n",
      " Average Recall     (AR) @[ IoU=0.50:0.95 | area= small | maxDets=100 ] = 0.740\n",
      " Average Recall     (AR) @[ IoU=0.50:0.95 | area=medium | maxDets=100 ] = 0.747\n",
      " Average Recall     (AR) @[ IoU=0.50:0.95 | area= large | maxDets=100 ] = 0.557\n",
      " Average Recall     (AR) @[ IoU=0.50      | area=   all | maxDets=100 ] = 0.990\n",
      " Average Recall     (AR) @[ IoU=0.75      | area=   all | maxDets=100 ] = 0.933\n"
     ]
    },
    {
     "name": "stderr",
     "output_type": "stream",
     "text": [
      "Epoch 56: 100%|██████████| 15/15 [00:08<00:00,  1.72it/s, loss=22.4596]\n",
      "\u001b[32m2025-03-10 18:23:54.463\u001b[0m | \u001b[1mINFO    \u001b[0m | \u001b[36mdeimkit.trainer\u001b[0m:\u001b[36mevaluate\u001b[0m:\u001b[36m332\u001b[0m - \u001b[1mEvaluating model...\u001b[0m\n"
     ]
    },
    {
     "name": "stdout",
     "output_type": "stream",
     "text": [
      "Averaged stats: lr: 0.000153  loss: 23.6264 (23.6199)  loss_mal: 0.9258 (0.9191)  loss_bbox: 0.2302 (0.2221)  loss_giou: 0.5943 (0.5844)  loss_fgl: 1.1424 (1.1459)  loss_mal_aux_0: 0.9116 (0.9312)  loss_bbox_aux_0: 0.2423 (0.2309)  loss_giou_aux_0: 0.6122 (0.6077)  loss_fgl_aux_0: 1.1635 (1.1596)  loss_ddf_aux_0: 0.0980 (0.1082)  loss_mal_aux_1: 0.9194 (0.9299)  loss_bbox_aux_1: 0.2305 (0.2227)  loss_giou_aux_1: 0.5958 (0.5862)  loss_fgl_aux_1: 1.1451 (1.1477)  loss_ddf_aux_1: 0.0051 (0.0054)  loss_mal_pre: 0.9087 (0.9279)  loss_bbox_pre: 0.2427 (0.2304)  loss_giou_pre: 0.6118 (0.6074)  loss_mal_enc_0: 0.9604 (0.9556)  loss_bbox_enc_0: 0.2826 (0.2724)  loss_giou_enc_0: 0.7196 (0.7112)  loss_mal_dn_0: 0.7715 (0.7743)  loss_bbox_dn_0: 0.2880 (0.2892)  loss_giou_dn_0: 0.8024 (0.7913)  loss_fgl_dn_0: 1.1561 (1.1490)  loss_ddf_dn_0: 0.6341 (0.6618)  loss_mal_dn_1: 0.7808 (0.7801)  loss_bbox_dn_1: 0.2444 (0.2426)  loss_giou_dn_1: 0.6709 (0.6485)  loss_fgl_dn_1: 1.1193 (1.1199)  loss_ddf_dn_1: 0.0319 (0.0335)  loss_mal_dn_2: 0.7783 (0.7766)  loss_bbox_dn_2: 0.2371 (0.2366)  loss_giou_dn_2: 0.6477 (0.6329)  loss_fgl_dn_2: 1.1207 (1.1197)  loss_mal_dn_pre: 0.7729 (0.7738)  loss_bbox_dn_pre: 0.2931 (0.2902)  loss_giou_dn_pre: 0.8074 (0.7938)\n"
     ]
    },
    {
     "name": "stderr",
     "output_type": "stream",
     "text": [
      "Evaluating: 100%|██████████| 5/5 [00:01<00:00,  3.82it/s]\n",
      "\u001b[32m2025-03-10 18:23:55.798\u001b[0m | \u001b[1mINFO    \u001b[0m | \u001b[36mdeimkit.trainer\u001b[0m:\u001b[36mtrain\u001b[0m:\u001b[36m313\u001b[0m - \u001b[1mEpoch 56 - Train loss: 23.6199, Eval mAP: 0.5400\u001b[0m\n",
      "\u001b[32m2025-03-10 18:23:55.799\u001b[0m | \u001b[1mINFO    \u001b[0m | \u001b[36mdeimkit.trainer\u001b[0m:\u001b[36mtrain\u001b[0m:\u001b[36m316\u001b[0m - \u001b[1mBest stats: {'epoch': 53, 'coco_eval_bbox': 0.560701379938425}\u001b[0m\n",
      "\u001b[32m2025-03-10 18:23:55.799\u001b[0m | \u001b[1mINFO    \u001b[0m | \u001b[36mdeimkit.trainer\u001b[0m:\u001b[36mtrain\u001b[0m:\u001b[36m224\u001b[0m - \u001b[1mEpoch 57/80\u001b[0m\n"
     ]
    },
    {
     "name": "stdout",
     "output_type": "stream",
     "text": [
      "Averaged stats: \n",
      "Accumulating evaluation results...\n",
      "COCOeval_opt.accumulate() finished...\n",
      "DONE (t=0.02s).\n",
      "IoU metric: bbox\n",
      " Average Precision  (AP) @[ IoU=0.50:0.95 | area=   all | maxDets=100 ] = 0.540\n",
      " Average Precision  (AP) @[ IoU=0.50      | area=   all | maxDets=100 ] = 0.802\n",
      " Average Precision  (AP) @[ IoU=0.75      | area=   all | maxDets=100 ] = 0.648\n",
      " Average Precision  (AP) @[ IoU=0.50:0.95 | area= small | maxDets=100 ] = 0.233\n",
      " Average Precision  (AP) @[ IoU=0.50:0.95 | area=medium | maxDets=100 ] = 0.554\n",
      " Average Precision  (AP) @[ IoU=0.50:0.95 | area= large | maxDets=100 ] = 0.418\n",
      " Average Recall     (AR) @[ IoU=0.50:0.95 | area=   all | maxDets=  1 ] = 0.373\n",
      " Average Recall     (AR) @[ IoU=0.50:0.95 | area=   all | maxDets= 10 ] = 0.644\n",
      " Average Recall     (AR) @[ IoU=0.50:0.95 | area=   all | maxDets=100 ] = 0.762\n",
      " Average Recall     (AR) @[ IoU=0.50:0.95 | area= small | maxDets=100 ] = 0.700\n",
      " Average Recall     (AR) @[ IoU=0.50:0.95 | area=medium | maxDets=100 ] = 0.740\n",
      " Average Recall     (AR) @[ IoU=0.50:0.95 | area= large | maxDets=100 ] = 0.545\n",
      " Average Recall     (AR) @[ IoU=0.50      | area=   all | maxDets=100 ] = 0.990\n",
      " Average Recall     (AR) @[ IoU=0.75      | area=   all | maxDets=100 ] = 0.921\n"
     ]
    },
    {
     "name": "stderr",
     "output_type": "stream",
     "text": [
      "Epoch 57: 100%|██████████| 15/15 [00:08<00:00,  1.71it/s, loss=21.9424]\n",
      "\u001b[32m2025-03-10 18:24:04.586\u001b[0m | \u001b[1mINFO    \u001b[0m | \u001b[36mdeimkit.trainer\u001b[0m:\u001b[36mevaluate\u001b[0m:\u001b[36m332\u001b[0m - \u001b[1mEvaluating model...\u001b[0m\n"
     ]
    },
    {
     "name": "stdout",
     "output_type": "stream",
     "text": [
      "Averaged stats: lr: 0.000148  loss: 23.4705 (23.4056)  loss_mal: 0.9180 (0.9095)  loss_bbox: 0.2110 (0.2177)  loss_giou: 0.5880 (0.5649)  loss_fgl: 1.1395 (1.1504)  loss_mal_aux_0: 0.9302 (0.9261)  loss_bbox_aux_0: 0.2177 (0.2241)  loss_giou_aux_0: 0.6078 (0.5851)  loss_fgl_aux_0: 1.1527 (1.1616)  loss_ddf_aux_0: 0.1101 (0.1118)  loss_mal_aux_1: 0.9185 (0.9155)  loss_bbox_aux_1: 0.2103 (0.2177)  loss_giou_aux_1: 0.5884 (0.5651)  loss_fgl_aux_1: 1.1416 (1.1504)  loss_ddf_aux_1: 0.0055 (0.0059)  loss_mal_pre: 0.9277 (0.9234)  loss_bbox_pre: 0.2177 (0.2243)  loss_giou_pre: 0.6099 (0.5855)  loss_mal_enc_0: 0.9746 (0.9753)  loss_bbox_enc_0: 0.2591 (0.2628)  loss_giou_enc_0: 0.7067 (0.6767)  loss_mal_dn_0: 0.7778 (0.7790)  loss_bbox_dn_0: 0.2577 (0.2773)  loss_giou_dn_0: 0.7834 (0.7659)  loss_fgl_dn_0: 1.1520 (1.1663)  loss_ddf_dn_0: 0.6464 (0.7209)  loss_mal_dn_1: 0.7891 (0.7868)  loss_bbox_dn_1: 0.2075 (0.2304)  loss_giou_dn_1: 0.6502 (0.6109)  loss_fgl_dn_1: 1.1274 (1.1273)  loss_ddf_dn_1: 0.0349 (0.0358)  loss_mal_dn_2: 0.7778 (0.7811)  loss_bbox_dn_2: 0.2033 (0.2251)  loss_giou_dn_2: 0.6338 (0.5971)  loss_fgl_dn_2: 1.1288 (1.1280)  loss_mal_dn_pre: 0.7773 (0.7774)  loss_bbox_dn_pre: 0.2635 (0.2775)  loss_giou_dn_pre: 0.7956 (0.7653)\n"
     ]
    },
    {
     "name": "stderr",
     "output_type": "stream",
     "text": [
      "Evaluating: 100%|██████████| 5/5 [00:01<00:00,  3.28it/s]\n",
      "\u001b[32m2025-03-10 18:24:06.139\u001b[0m | \u001b[1mINFO    \u001b[0m | \u001b[36mdeimkit.trainer\u001b[0m:\u001b[36m_save_checkpoint\u001b[0m:\u001b[36m364\u001b[0m - \u001b[1mSaving checkpoint to outputs/deim_hgnetv2_s_80e/best.pth\u001b[0m\n"
     ]
    },
    {
     "name": "stdout",
     "output_type": "stream",
     "text": [
      "Averaged stats: \n",
      "Accumulating evaluation results...\n",
      "COCOeval_opt.accumulate() finished...\n",
      "DONE (t=0.02s).\n",
      "IoU metric: bbox\n",
      " Average Precision  (AP) @[ IoU=0.50:0.95 | area=   all | maxDets=100 ] = 0.566\n",
      " Average Precision  (AP) @[ IoU=0.50      | area=   all | maxDets=100 ] = 0.823\n",
      " Average Precision  (AP) @[ IoU=0.75      | area=   all | maxDets=100 ] = 0.634\n",
      " Average Precision  (AP) @[ IoU=0.50:0.95 | area= small | maxDets=100 ] = 0.277\n",
      " Average Precision  (AP) @[ IoU=0.50:0.95 | area=medium | maxDets=100 ] = 0.558\n",
      " Average Precision  (AP) @[ IoU=0.50:0.95 | area= large | maxDets=100 ] = 0.436\n",
      " Average Recall     (AR) @[ IoU=0.50:0.95 | area=   all | maxDets=  1 ] = 0.410\n",
      " Average Recall     (AR) @[ IoU=0.50:0.95 | area=   all | maxDets= 10 ] = 0.657\n",
      " Average Recall     (AR) @[ IoU=0.50:0.95 | area=   all | maxDets=100 ] = 0.767\n",
      " Average Recall     (AR) @[ IoU=0.50:0.95 | area= small | maxDets=100 ] = 0.660\n",
      " Average Recall     (AR) @[ IoU=0.50:0.95 | area=medium | maxDets=100 ] = 0.734\n",
      " Average Recall     (AR) @[ IoU=0.50:0.95 | area= large | maxDets=100 ] = 0.547\n",
      " Average Recall     (AR) @[ IoU=0.50      | area=   all | maxDets=100 ] = 0.995\n",
      " Average Recall     (AR) @[ IoU=0.75      | area=   all | maxDets=100 ] = 0.906\n"
     ]
    },
    {
     "name": "stderr",
     "output_type": "stream",
     "text": [
      "\u001b[32m2025-03-10 18:24:06.494\u001b[0m | \u001b[1mINFO    \u001b[0m | \u001b[36mdeimkit.trainer\u001b[0m:\u001b[36m_save_checkpoint\u001b[0m:\u001b[36m381\u001b[0m - \u001b[1mCheckpoint saved to outputs/deim_hgnetv2_s_80e/best.pth\u001b[0m\n",
      "\u001b[32m2025-03-10 18:24:06.496\u001b[0m | \u001b[1mINFO    \u001b[0m | \u001b[36mdeimkit.trainer\u001b[0m:\u001b[36mtrain\u001b[0m:\u001b[36m313\u001b[0m - \u001b[1mEpoch 57 - Train loss: 23.4056, Eval mAP: 0.5664\u001b[0m\n",
      "\u001b[32m2025-03-10 18:24:06.496\u001b[0m | \u001b[1mINFO    \u001b[0m | \u001b[36mdeimkit.trainer\u001b[0m:\u001b[36mtrain\u001b[0m:\u001b[36m316\u001b[0m - \u001b[1mBest stats: {'epoch': 57, 'coco_eval_bbox': 0.5664005739939015}\u001b[0m\n",
      "\u001b[32m2025-03-10 18:24:06.496\u001b[0m | \u001b[1mINFO    \u001b[0m | \u001b[36mdeimkit.trainer\u001b[0m:\u001b[36mtrain\u001b[0m:\u001b[36m224\u001b[0m - \u001b[1mEpoch 58/80\u001b[0m\n",
      "Epoch 58: 100%|██████████| 15/15 [00:08<00:00,  1.84it/s, loss=22.4655]\n",
      "\u001b[32m2025-03-10 18:24:14.681\u001b[0m | \u001b[1mINFO    \u001b[0m | \u001b[36mdeimkit.trainer\u001b[0m:\u001b[36mevaluate\u001b[0m:\u001b[36m332\u001b[0m - \u001b[1mEvaluating model...\u001b[0m\n"
     ]
    },
    {
     "name": "stdout",
     "output_type": "stream",
     "text": [
      "Averaged stats: lr: 0.000144  loss: 22.2627 (22.8387)  loss_mal: 0.9189 (0.9265)  loss_bbox: 0.1613 (0.1906)  loss_giou: 0.4702 (0.5225)  loss_fgl: 1.1515 (1.1498)  loss_mal_aux_0: 0.9185 (0.9314)  loss_bbox_aux_0: 0.1708 (0.1983)  loss_giou_aux_0: 0.4988 (0.5467)  loss_fgl_aux_0: 1.1715 (1.1649)  loss_ddf_aux_0: 0.0964 (0.0959)  loss_mal_aux_1: 0.9160 (0.9300)  loss_bbox_aux_1: 0.1610 (0.1912)  loss_giou_aux_1: 0.4730 (0.5242)  loss_fgl_aux_1: 1.1547 (1.1512)  loss_ddf_aux_1: 0.0039 (0.0041)  loss_mal_pre: 0.9170 (0.9285)  loss_bbox_pre: 0.1724 (0.1987)  loss_giou_pre: 0.4987 (0.5475)  loss_mal_enc_0: 0.9795 (0.9699)  loss_bbox_enc_0: 0.2146 (0.2360)  loss_giou_enc_0: 0.6160 (0.6459)  loss_mal_dn_0: 0.7778 (0.7780)  loss_bbox_dn_0: 0.2365 (0.2567)  loss_giou_dn_0: 0.7007 (0.7397)  loss_fgl_dn_0: 1.1772 (1.1601)  loss_ddf_dn_0: 0.6276 (0.6421)  loss_mal_dn_1: 0.7812 (0.7808)  loss_bbox_dn_1: 0.1945 (0.2123)  loss_giou_dn_1: 0.5522 (0.5996)  loss_fgl_dn_1: 1.1265 (1.1185)  loss_ddf_dn_1: 0.0259 (0.0255)  loss_mal_dn_2: 0.7769 (0.7788)  loss_bbox_dn_2: 0.1917 (0.2082)  loss_giou_dn_2: 0.5391 (0.5863)  loss_fgl_dn_2: 1.1240 (1.1182)  loss_mal_dn_pre: 0.7769 (0.7758)  loss_bbox_dn_pre: 0.2417 (0.2591)  loss_giou_dn_pre: 0.7001 (0.7451)\n"
     ]
    },
    {
     "name": "stderr",
     "output_type": "stream",
     "text": [
      "Evaluating: 100%|██████████| 5/5 [00:01<00:00,  3.41it/s]\n",
      "\u001b[32m2025-03-10 18:24:16.173\u001b[0m | \u001b[1mINFO    \u001b[0m | \u001b[36mdeimkit.trainer\u001b[0m:\u001b[36mtrain\u001b[0m:\u001b[36m313\u001b[0m - \u001b[1mEpoch 58 - Train loss: 22.8387, Eval mAP: 0.5545\u001b[0m\n",
      "\u001b[32m2025-03-10 18:24:16.173\u001b[0m | \u001b[1mINFO    \u001b[0m | \u001b[36mdeimkit.trainer\u001b[0m:\u001b[36mtrain\u001b[0m:\u001b[36m316\u001b[0m - \u001b[1mBest stats: {'epoch': 57, 'coco_eval_bbox': 0.5664005739939015}\u001b[0m\n",
      "\u001b[32m2025-03-10 18:24:16.174\u001b[0m | \u001b[1mINFO    \u001b[0m | \u001b[36mdeimkit.trainer\u001b[0m:\u001b[36mtrain\u001b[0m:\u001b[36m224\u001b[0m - \u001b[1mEpoch 59/80\u001b[0m\n"
     ]
    },
    {
     "name": "stdout",
     "output_type": "stream",
     "text": [
      "Averaged stats: \n",
      "Accumulating evaluation results...\n",
      "COCOeval_opt.accumulate() finished...\n",
      "DONE (t=0.02s).\n",
      "IoU metric: bbox\n",
      " Average Precision  (AP) @[ IoU=0.50:0.95 | area=   all | maxDets=100 ] = 0.554\n",
      " Average Precision  (AP) @[ IoU=0.50      | area=   all | maxDets=100 ] = 0.836\n",
      " Average Precision  (AP) @[ IoU=0.75      | area=   all | maxDets=100 ] = 0.676\n",
      " Average Precision  (AP) @[ IoU=0.50:0.95 | area= small | maxDets=100 ] = 0.210\n",
      " Average Precision  (AP) @[ IoU=0.50:0.95 | area=medium | maxDets=100 ] = 0.547\n",
      " Average Precision  (AP) @[ IoU=0.50:0.95 | area= large | maxDets=100 ] = 0.419\n",
      " Average Recall     (AR) @[ IoU=0.50:0.95 | area=   all | maxDets=  1 ] = 0.391\n",
      " Average Recall     (AR) @[ IoU=0.50:0.95 | area=   all | maxDets= 10 ] = 0.650\n",
      " Average Recall     (AR) @[ IoU=0.50:0.95 | area=   all | maxDets=100 ] = 0.757\n",
      " Average Recall     (AR) @[ IoU=0.50:0.95 | area= small | maxDets=100 ] = 0.700\n",
      " Average Recall     (AR) @[ IoU=0.50:0.95 | area=medium | maxDets=100 ] = 0.696\n",
      " Average Recall     (AR) @[ IoU=0.50:0.95 | area= large | maxDets=100 ] = 0.531\n",
      " Average Recall     (AR) @[ IoU=0.50      | area=   all | maxDets=100 ] = 0.995\n",
      " Average Recall     (AR) @[ IoU=0.75      | area=   all | maxDets=100 ] = 0.930\n"
     ]
    },
    {
     "name": "stderr",
     "output_type": "stream",
     "text": [
      "Epoch 59: 100%|██████████| 15/15 [00:08<00:00,  1.69it/s, loss=22.5198]\n",
      "\u001b[32m2025-03-10 18:24:25.064\u001b[0m | \u001b[1mINFO    \u001b[0m | \u001b[36mdeimkit.trainer\u001b[0m:\u001b[36m_save_checkpoint\u001b[0m:\u001b[36m364\u001b[0m - \u001b[1mSaving checkpoint to outputs/deim_hgnetv2_s_80e/checkpoint0059.pth\u001b[0m\n"
     ]
    },
    {
     "name": "stdout",
     "output_type": "stream",
     "text": [
      "Averaged stats: lr: 0.000139  loss: 23.4391 (23.1044)  loss_mal: 0.9102 (0.9117)  loss_bbox: 0.2290 (0.2078)  loss_giou: 0.6092 (0.5615)  loss_fgl: 1.1541 (1.1497)  loss_mal_aux_0: 0.9126 (0.9188)  loss_bbox_aux_0: 0.2318 (0.2128)  loss_giou_aux_0: 0.6267 (0.5787)  loss_fgl_aux_0: 1.1592 (1.1592)  loss_ddf_aux_0: 0.0735 (0.0776)  loss_mal_aux_1: 0.9082 (0.9167)  loss_bbox_aux_1: 0.2288 (0.2082)  loss_giou_aux_1: 0.6102 (0.5625)  loss_fgl_aux_1: 1.1541 (1.1503)  loss_ddf_aux_1: 0.0039 (0.0039)  loss_mal_pre: 0.9102 (0.9160)  loss_bbox_pre: 0.2310 (0.2129)  loss_giou_pre: 0.6277 (0.5793)  loss_mal_enc_0: 0.9751 (0.9625)  loss_bbox_enc_0: 0.2430 (0.2362)  loss_giou_enc_0: 0.6844 (0.6472)  loss_mal_dn_0: 0.7764 (0.7769)  loss_bbox_dn_0: 0.2670 (0.2672)  loss_giou_dn_0: 0.7835 (0.7651)  loss_fgl_dn_0: 1.1551 (1.1563)  loss_ddf_dn_0: 0.6125 (0.6396)  loss_mal_dn_1: 0.7861 (0.7844)  loss_bbox_dn_1: 0.2288 (0.2261)  loss_giou_dn_1: 0.6523 (0.6287)  loss_fgl_dn_1: 1.1163 (1.1176)  loss_ddf_dn_1: 0.0272 (0.0285)  loss_mal_dn_2: 0.7803 (0.7808)  loss_bbox_dn_2: 0.2244 (0.2205)  loss_giou_dn_2: 0.6354 (0.6142)  loss_fgl_dn_2: 1.1149 (1.1176)  loss_mal_dn_pre: 0.7749 (0.7750)  loss_bbox_dn_pre: 0.2688 (0.2680)  loss_giou_dn_pre: 0.7846 (0.7646)\n"
     ]
    },
    {
     "name": "stderr",
     "output_type": "stream",
     "text": [
      "\u001b[32m2025-03-10 18:24:25.348\u001b[0m | \u001b[1mINFO    \u001b[0m | \u001b[36mdeimkit.trainer\u001b[0m:\u001b[36m_save_checkpoint\u001b[0m:\u001b[36m381\u001b[0m - \u001b[1mCheckpoint saved to outputs/deim_hgnetv2_s_80e/checkpoint0059.pth\u001b[0m\n",
      "\u001b[32m2025-03-10 18:24:25.350\u001b[0m | \u001b[1mINFO    \u001b[0m | \u001b[36mdeimkit.trainer\u001b[0m:\u001b[36mevaluate\u001b[0m:\u001b[36m332\u001b[0m - \u001b[1mEvaluating model...\u001b[0m\n",
      "Evaluating: 100%|██████████| 5/5 [00:01<00:00,  3.48it/s]\n",
      "\u001b[32m2025-03-10 18:24:26.818\u001b[0m | \u001b[1mINFO    \u001b[0m | \u001b[36mdeimkit.trainer\u001b[0m:\u001b[36mtrain\u001b[0m:\u001b[36m313\u001b[0m - \u001b[1mEpoch 59 - Train loss: 23.1044, Eval mAP: 0.5558\u001b[0m\n",
      "\u001b[32m2025-03-10 18:24:26.819\u001b[0m | \u001b[1mINFO    \u001b[0m | \u001b[36mdeimkit.trainer\u001b[0m:\u001b[36mtrain\u001b[0m:\u001b[36m316\u001b[0m - \u001b[1mBest stats: {'epoch': 57, 'coco_eval_bbox': 0.5664005739939015}\u001b[0m\n",
      "\u001b[32m2025-03-10 18:24:26.819\u001b[0m | \u001b[1mINFO    \u001b[0m | \u001b[36mdeimkit.trainer\u001b[0m:\u001b[36mtrain\u001b[0m:\u001b[36m224\u001b[0m - \u001b[1mEpoch 60/80\u001b[0m\n"
     ]
    },
    {
     "name": "stdout",
     "output_type": "stream",
     "text": [
      "Averaged stats: \n",
      "Accumulating evaluation results...\n",
      "COCOeval_opt.accumulate() finished...\n",
      "DONE (t=0.02s).\n",
      "IoU metric: bbox\n",
      " Average Precision  (AP) @[ IoU=0.50:0.95 | area=   all | maxDets=100 ] = 0.556\n",
      " Average Precision  (AP) @[ IoU=0.50      | area=   all | maxDets=100 ] = 0.807\n",
      " Average Precision  (AP) @[ IoU=0.75      | area=   all | maxDets=100 ] = 0.685\n",
      " Average Precision  (AP) @[ IoU=0.50:0.95 | area= small | maxDets=100 ] = 0.282\n",
      " Average Precision  (AP) @[ IoU=0.50:0.95 | area=medium | maxDets=100 ] = 0.563\n",
      " Average Precision  (AP) @[ IoU=0.50:0.95 | area= large | maxDets=100 ] = 0.432\n",
      " Average Recall     (AR) @[ IoU=0.50:0.95 | area=   all | maxDets=  1 ] = 0.390\n",
      " Average Recall     (AR) @[ IoU=0.50:0.95 | area=   all | maxDets= 10 ] = 0.658\n",
      " Average Recall     (AR) @[ IoU=0.50:0.95 | area=   all | maxDets=100 ] = 0.766\n",
      " Average Recall     (AR) @[ IoU=0.50:0.95 | area= small | maxDets=100 ] = 0.720\n",
      " Average Recall     (AR) @[ IoU=0.50:0.95 | area=medium | maxDets=100 ] = 0.743\n",
      " Average Recall     (AR) @[ IoU=0.50:0.95 | area= large | maxDets=100 ] = 0.539\n",
      " Average Recall     (AR) @[ IoU=0.50      | area=   all | maxDets=100 ] = 0.995\n",
      " Average Recall     (AR) @[ IoU=0.75      | area=   all | maxDets=100 ] = 0.934\n"
     ]
    },
    {
     "name": "stderr",
     "output_type": "stream",
     "text": [
      "Epoch 60: 100%|██████████| 15/15 [00:08<00:00,  1.83it/s, loss=23.6264]\n",
      "\u001b[32m2025-03-10 18:24:35.032\u001b[0m | \u001b[1mINFO    \u001b[0m | \u001b[36mdeimkit.trainer\u001b[0m:\u001b[36mevaluate\u001b[0m:\u001b[36m332\u001b[0m - \u001b[1mEvaluating model...\u001b[0m\n"
     ]
    },
    {
     "name": "stdout",
     "output_type": "stream",
     "text": [
      "Averaged stats: lr: 0.000135  loss: 22.2803 (22.6857)  loss_mal: 0.8862 (0.9003)  loss_bbox: 0.1574 (0.1884)  loss_giou: 0.4386 (0.5297)  loss_fgl: 1.1480 (1.1491)  loss_mal_aux_0: 0.9189 (0.9125)  loss_bbox_aux_0: 0.1688 (0.1962)  loss_giou_aux_0: 0.4696 (0.5537)  loss_fgl_aux_0: 1.1685 (1.1650)  loss_ddf_aux_0: 0.0946 (0.1018)  loss_mal_aux_1: 0.8892 (0.9036)  loss_bbox_aux_1: 0.1577 (0.1889)  loss_giou_aux_1: 0.4400 (0.5312)  loss_fgl_aux_1: 1.1511 (1.1502)  loss_ddf_aux_1: 0.0050 (0.0051)  loss_mal_pre: 0.9150 (0.9092)  loss_bbox_pre: 0.1668 (0.1961)  loss_giou_pre: 0.4702 (0.5522)  loss_mal_enc_0: 0.9468 (0.9570)  loss_bbox_enc_0: 0.2109 (0.2290)  loss_giou_enc_0: 0.5310 (0.6325)  loss_mal_dn_0: 0.7808 (0.7802)  loss_bbox_dn_0: 0.2445 (0.2471)  loss_giou_dn_0: 0.6950 (0.7183)  loss_fgl_dn_0: 1.1744 (1.1721)  loss_ddf_dn_0: 0.6688 (0.6889)  loss_mal_dn_1: 0.7720 (0.7751)  loss_bbox_dn_1: 0.1967 (0.2040)  loss_giou_dn_1: 0.5240 (0.5772)  loss_fgl_dn_1: 1.1276 (1.1269)  loss_ddf_dn_1: 0.0330 (0.0322)  loss_mal_dn_2: 0.7710 (0.7722)  loss_bbox_dn_2: 0.1920 (0.1987)  loss_giou_dn_2: 0.5036 (0.5626)  loss_fgl_dn_2: 1.1307 (1.1265)  loss_mal_dn_pre: 0.7798 (0.7785)  loss_bbox_dn_pre: 0.2451 (0.2504)  loss_giou_dn_pre: 0.6908 (0.7229)\n"
     ]
    },
    {
     "name": "stderr",
     "output_type": "stream",
     "text": [
      "Evaluating: 100%|██████████| 5/5 [00:01<00:00,  3.40it/s]\n",
      "\u001b[32m2025-03-10 18:24:36.531\u001b[0m | \u001b[1mINFO    \u001b[0m | \u001b[36mdeimkit.trainer\u001b[0m:\u001b[36mtrain\u001b[0m:\u001b[36m313\u001b[0m - \u001b[1mEpoch 60 - Train loss: 22.6857, Eval mAP: 0.5569\u001b[0m\n",
      "\u001b[32m2025-03-10 18:24:36.532\u001b[0m | \u001b[1mINFO    \u001b[0m | \u001b[36mdeimkit.trainer\u001b[0m:\u001b[36mtrain\u001b[0m:\u001b[36m316\u001b[0m - \u001b[1mBest stats: {'epoch': 57, 'coco_eval_bbox': 0.5664005739939015}\u001b[0m\n",
      "\u001b[32m2025-03-10 18:24:36.532\u001b[0m | \u001b[1mINFO    \u001b[0m | \u001b[36mdeimkit.trainer\u001b[0m:\u001b[36mtrain\u001b[0m:\u001b[36m224\u001b[0m - \u001b[1mEpoch 61/80\u001b[0m\n"
     ]
    },
    {
     "name": "stdout",
     "output_type": "stream",
     "text": [
      "Averaged stats: \n",
      "Accumulating evaluation results...\n",
      "COCOeval_opt.accumulate() finished...\n",
      "DONE (t=0.02s).\n",
      "IoU metric: bbox\n",
      " Average Precision  (AP) @[ IoU=0.50:0.95 | area=   all | maxDets=100 ] = 0.557\n",
      " Average Precision  (AP) @[ IoU=0.50      | area=   all | maxDets=100 ] = 0.821\n",
      " Average Precision  (AP) @[ IoU=0.75      | area=   all | maxDets=100 ] = 0.667\n",
      " Average Precision  (AP) @[ IoU=0.50:0.95 | area= small | maxDets=100 ] = 0.342\n",
      " Average Precision  (AP) @[ IoU=0.50:0.95 | area=medium | maxDets=100 ] = 0.534\n",
      " Average Precision  (AP) @[ IoU=0.50:0.95 | area= large | maxDets=100 ] = 0.424\n",
      " Average Recall     (AR) @[ IoU=0.50:0.95 | area=   all | maxDets=  1 ] = 0.399\n",
      " Average Recall     (AR) @[ IoU=0.50:0.95 | area=   all | maxDets= 10 ] = 0.655\n",
      " Average Recall     (AR) @[ IoU=0.50:0.95 | area=   all | maxDets=100 ] = 0.756\n",
      " Average Recall     (AR) @[ IoU=0.50:0.95 | area= small | maxDets=100 ] = 0.660\n",
      " Average Recall     (AR) @[ IoU=0.50:0.95 | area=medium | maxDets=100 ] = 0.698\n",
      " Average Recall     (AR) @[ IoU=0.50:0.95 | area= large | maxDets=100 ] = 0.540\n",
      " Average Recall     (AR) @[ IoU=0.50      | area=   all | maxDets=100 ] = 0.994\n",
      " Average Recall     (AR) @[ IoU=0.75      | area=   all | maxDets=100 ] = 0.921\n"
     ]
    },
    {
     "name": "stderr",
     "output_type": "stream",
     "text": [
      "Epoch 61: 100%|██████████| 15/15 [00:08<00:00,  1.69it/s, loss=21.8215]\n",
      "\u001b[32m2025-03-10 18:24:45.443\u001b[0m | \u001b[1mINFO    \u001b[0m | \u001b[36mdeimkit.trainer\u001b[0m:\u001b[36mevaluate\u001b[0m:\u001b[36m332\u001b[0m - \u001b[1mEvaluating model...\u001b[0m\n"
     ]
    },
    {
     "name": "stdout",
     "output_type": "stream",
     "text": [
      "Averaged stats: lr: 0.000131  loss: 22.2446 (22.7328)  loss_mal: 0.9180 (0.9135)  loss_bbox: 0.1673 (0.1966)  loss_giou: 0.5051 (0.5273)  loss_fgl: 1.1533 (1.1508)  loss_mal_aux_0: 0.9219 (0.9229)  loss_bbox_aux_0: 0.1743 (0.2027)  loss_giou_aux_0: 0.5270 (0.5468)  loss_fgl_aux_0: 1.1620 (1.1625)  loss_ddf_aux_0: 0.0828 (0.0852)  loss_mal_aux_1: 0.9297 (0.9174)  loss_bbox_aux_1: 0.1683 (0.1970)  loss_giou_aux_1: 0.5072 (0.5284)  loss_fgl_aux_1: 1.1537 (1.1517)  loss_ddf_aux_1: 0.0044 (0.0048)  loss_mal_pre: 0.9233 (0.9203)  loss_bbox_pre: 0.1739 (0.2025)  loss_giou_pre: 0.5253 (0.5464)  loss_mal_enc_0: 0.9590 (0.9581)  loss_bbox_enc_0: 0.2032 (0.2281)  loss_giou_enc_0: 0.5926 (0.6093)  loss_mal_dn_0: 0.7759 (0.7768)  loss_bbox_dn_0: 0.2469 (0.2598)  loss_giou_dn_0: 0.7015 (0.7286)  loss_fgl_dn_0: 1.1586 (1.1631)  loss_ddf_dn_0: 0.6426 (0.6430)  loss_mal_dn_1: 0.7793 (0.7780)  loss_bbox_dn_1: 0.1904 (0.2177)  loss_giou_dn_1: 0.5534 (0.5921)  loss_fgl_dn_1: 1.1151 (1.1199)  loss_ddf_dn_1: 0.0271 (0.0274)  loss_mal_dn_2: 0.7764 (0.7751)  loss_bbox_dn_2: 0.1856 (0.2139)  loss_giou_dn_2: 0.5408 (0.5792)  loss_fgl_dn_2: 1.1160 (1.1189)  loss_mal_dn_pre: 0.7754 (0.7757)  loss_bbox_dn_pre: 0.2466 (0.2607)  loss_giou_dn_pre: 0.6895 (0.7306)\n"
     ]
    },
    {
     "name": "stderr",
     "output_type": "stream",
     "text": [
      "Evaluating: 100%|██████████| 5/5 [00:01<00:00,  3.45it/s]\n",
      "\u001b[32m2025-03-10 18:24:46.921\u001b[0m | \u001b[1mINFO    \u001b[0m | \u001b[36mdeimkit.trainer\u001b[0m:\u001b[36m_save_checkpoint\u001b[0m:\u001b[36m364\u001b[0m - \u001b[1mSaving checkpoint to outputs/deim_hgnetv2_s_80e/best.pth\u001b[0m\n"
     ]
    },
    {
     "name": "stdout",
     "output_type": "stream",
     "text": [
      "Averaged stats: \n",
      "Accumulating evaluation results...\n",
      "COCOeval_opt.accumulate() finished...\n",
      "DONE (t=0.02s).\n",
      "IoU metric: bbox\n",
      " Average Precision  (AP) @[ IoU=0.50:0.95 | area=   all | maxDets=100 ] = 0.566\n",
      " Average Precision  (AP) @[ IoU=0.50      | area=   all | maxDets=100 ] = 0.829\n",
      " Average Precision  (AP) @[ IoU=0.75      | area=   all | maxDets=100 ] = 0.682\n",
      " Average Precision  (AP) @[ IoU=0.50:0.95 | area= small | maxDets=100 ] = 0.290\n",
      " Average Precision  (AP) @[ IoU=0.50:0.95 | area=medium | maxDets=100 ] = 0.573\n",
      " Average Precision  (AP) @[ IoU=0.50:0.95 | area= large | maxDets=100 ] = 0.434\n",
      " Average Recall     (AR) @[ IoU=0.50:0.95 | area=   all | maxDets=  1 ] = 0.397\n",
      " Average Recall     (AR) @[ IoU=0.50:0.95 | area=   all | maxDets= 10 ] = 0.660\n",
      " Average Recall     (AR) @[ IoU=0.50:0.95 | area=   all | maxDets=100 ] = 0.772\n",
      " Average Recall     (AR) @[ IoU=0.50:0.95 | area= small | maxDets=100 ] = 0.660\n",
      " Average Recall     (AR) @[ IoU=0.50:0.95 | area=medium | maxDets=100 ] = 0.743\n",
      " Average Recall     (AR) @[ IoU=0.50:0.95 | area= large | maxDets=100 ] = 0.550\n",
      " Average Recall     (AR) @[ IoU=0.50      | area=   all | maxDets=100 ] = 0.995\n",
      " Average Recall     (AR) @[ IoU=0.75      | area=   all | maxDets=100 ] = 0.923\n"
     ]
    },
    {
     "name": "stderr",
     "output_type": "stream",
     "text": [
      "\u001b[32m2025-03-10 18:24:47.242\u001b[0m | \u001b[1mINFO    \u001b[0m | \u001b[36mdeimkit.trainer\u001b[0m:\u001b[36m_save_checkpoint\u001b[0m:\u001b[36m381\u001b[0m - \u001b[1mCheckpoint saved to outputs/deim_hgnetv2_s_80e/best.pth\u001b[0m\n",
      "\u001b[32m2025-03-10 18:24:47.244\u001b[0m | \u001b[1mINFO    \u001b[0m | \u001b[36mdeimkit.trainer\u001b[0m:\u001b[36mtrain\u001b[0m:\u001b[36m313\u001b[0m - \u001b[1mEpoch 61 - Train loss: 22.7328, Eval mAP: 0.5665\u001b[0m\n",
      "\u001b[32m2025-03-10 18:24:47.245\u001b[0m | \u001b[1mINFO    \u001b[0m | \u001b[36mdeimkit.trainer\u001b[0m:\u001b[36mtrain\u001b[0m:\u001b[36m316\u001b[0m - \u001b[1mBest stats: {'epoch': 61, 'coco_eval_bbox': 0.5664897028383502}\u001b[0m\n",
      "\u001b[32m2025-03-10 18:24:47.245\u001b[0m | \u001b[1mINFO    \u001b[0m | \u001b[36mdeimkit.trainer\u001b[0m:\u001b[36mtrain\u001b[0m:\u001b[36m224\u001b[0m - \u001b[1mEpoch 62/80\u001b[0m\n",
      "Epoch 62: 100%|██████████| 15/15 [00:08<00:00,  1.71it/s, loss=23.8869]\n",
      "\u001b[32m2025-03-10 18:24:56.051\u001b[0m | \u001b[1mINFO    \u001b[0m | \u001b[36mdeimkit.trainer\u001b[0m:\u001b[36mevaluate\u001b[0m:\u001b[36m332\u001b[0m - \u001b[1mEvaluating model...\u001b[0m\n"
     ]
    },
    {
     "name": "stdout",
     "output_type": "stream",
     "text": [
      "Averaged stats: lr: 0.000127  loss: 23.8869 (23.2329)  loss_mal: 0.9009 (0.9162)  loss_bbox: 0.2380 (0.2133)  loss_giou: 0.6215 (0.5801)  loss_fgl: 1.1408 (1.1397)  loss_mal_aux_0: 0.9038 (0.9211)  loss_bbox_aux_0: 0.2409 (0.2199)  loss_giou_aux_0: 0.6349 (0.5979)  loss_fgl_aux_0: 1.1491 (1.1509)  loss_ddf_aux_0: 0.0861 (0.0927)  loss_mal_aux_1: 0.8960 (0.9181)  loss_bbox_aux_1: 0.2377 (0.2139)  loss_giou_aux_1: 0.6198 (0.5808)  loss_fgl_aux_1: 1.1430 (1.1409)  loss_ddf_aux_1: 0.0048 (0.0052)  loss_mal_pre: 0.9023 (0.9183)  loss_bbox_pre: 0.2410 (0.2197)  loss_giou_pre: 0.6368 (0.5980)  loss_mal_enc_0: 0.9414 (0.9484)  loss_bbox_enc_0: 0.2539 (0.2497)  loss_giou_enc_0: 0.7079 (0.6784)  loss_mal_dn_0: 0.7715 (0.7729)  loss_bbox_dn_0: 0.2762 (0.2718)  loss_giou_dn_0: 0.8192 (0.7738)  loss_fgl_dn_0: 1.1454 (1.1478)  loss_ddf_dn_0: 0.6174 (0.6170)  loss_mal_dn_1: 0.7788 (0.7753)  loss_bbox_dn_1: 0.2410 (0.2317)  loss_giou_dn_1: 0.6938 (0.6438)  loss_fgl_dn_1: 1.1142 (1.1104)  loss_ddf_dn_1: 0.0269 (0.0264)  loss_mal_dn_2: 0.7715 (0.7688)  loss_bbox_dn_2: 0.2350 (0.2266)  loss_giou_dn_2: 0.6856 (0.6330)  loss_fgl_dn_2: 1.1130 (1.1092)  loss_mal_dn_pre: 0.7700 (0.7713)  loss_bbox_dn_pre: 0.2801 (0.2731)  loss_giou_dn_pre: 0.8204 (0.7766)\n"
     ]
    },
    {
     "name": "stderr",
     "output_type": "stream",
     "text": [
      "Evaluating: 100%|██████████| 5/5 [00:01<00:00,  3.41it/s]\n",
      "\u001b[32m2025-03-10 18:24:57.545\u001b[0m | \u001b[1mINFO    \u001b[0m | \u001b[36mdeimkit.trainer\u001b[0m:\u001b[36m_save_checkpoint\u001b[0m:\u001b[36m364\u001b[0m - \u001b[1mSaving checkpoint to outputs/deim_hgnetv2_s_80e/best.pth\u001b[0m\n"
     ]
    },
    {
     "name": "stdout",
     "output_type": "stream",
     "text": [
      "Averaged stats: \n",
      "Accumulating evaluation results...\n",
      "COCOeval_opt.accumulate() finished...\n",
      "DONE (t=0.02s).\n",
      "IoU metric: bbox\n",
      " Average Precision  (AP) @[ IoU=0.50:0.95 | area=   all | maxDets=100 ] = 0.570\n",
      " Average Precision  (AP) @[ IoU=0.50      | area=   all | maxDets=100 ] = 0.824\n",
      " Average Precision  (AP) @[ IoU=0.75      | area=   all | maxDets=100 ] = 0.663\n",
      " Average Precision  (AP) @[ IoU=0.50:0.95 | area= small | maxDets=100 ] = 0.288\n",
      " Average Precision  (AP) @[ IoU=0.50:0.95 | area=medium | maxDets=100 ] = 0.576\n",
      " Average Precision  (AP) @[ IoU=0.50:0.95 | area= large | maxDets=100 ] = 0.435\n",
      " Average Recall     (AR) @[ IoU=0.50:0.95 | area=   all | maxDets=  1 ] = 0.403\n",
      " Average Recall     (AR) @[ IoU=0.50:0.95 | area=   all | maxDets= 10 ] = 0.667\n",
      " Average Recall     (AR) @[ IoU=0.50:0.95 | area=   all | maxDets=100 ] = 0.773\n",
      " Average Recall     (AR) @[ IoU=0.50:0.95 | area= small | maxDets=100 ] = 0.680\n",
      " Average Recall     (AR) @[ IoU=0.50:0.95 | area=medium | maxDets=100 ] = 0.752\n",
      " Average Recall     (AR) @[ IoU=0.50:0.95 | area= large | maxDets=100 ] = 0.548\n",
      " Average Recall     (AR) @[ IoU=0.50      | area=   all | maxDets=100 ] = 0.986\n",
      " Average Recall     (AR) @[ IoU=0.75      | area=   all | maxDets=100 ] = 0.919\n"
     ]
    },
    {
     "name": "stderr",
     "output_type": "stream",
     "text": [
      "\u001b[32m2025-03-10 18:24:57.919\u001b[0m | \u001b[1mINFO    \u001b[0m | \u001b[36mdeimkit.trainer\u001b[0m:\u001b[36m_save_checkpoint\u001b[0m:\u001b[36m381\u001b[0m - \u001b[1mCheckpoint saved to outputs/deim_hgnetv2_s_80e/best.pth\u001b[0m\n",
      "\u001b[32m2025-03-10 18:24:57.922\u001b[0m | \u001b[1mINFO    \u001b[0m | \u001b[36mdeimkit.trainer\u001b[0m:\u001b[36mtrain\u001b[0m:\u001b[36m313\u001b[0m - \u001b[1mEpoch 62 - Train loss: 23.2329, Eval mAP: 0.5695\u001b[0m\n",
      "\u001b[32m2025-03-10 18:24:57.923\u001b[0m | \u001b[1mINFO    \u001b[0m | \u001b[36mdeimkit.trainer\u001b[0m:\u001b[36mtrain\u001b[0m:\u001b[36m316\u001b[0m - \u001b[1mBest stats: {'epoch': 62, 'coco_eval_bbox': 0.5695282400397124}\u001b[0m\n",
      "\u001b[32m2025-03-10 18:24:57.924\u001b[0m | \u001b[1mINFO    \u001b[0m | \u001b[36mdeimkit.trainer\u001b[0m:\u001b[36mtrain\u001b[0m:\u001b[36m224\u001b[0m - \u001b[1mEpoch 63/80\u001b[0m\n",
      "Epoch 63: 100%|██████████| 15/15 [00:09<00:00,  1.66it/s, loss=22.9211]\n",
      "\u001b[32m2025-03-10 18:25:06.975\u001b[0m | \u001b[1mINFO    \u001b[0m | \u001b[36mdeimkit.trainer\u001b[0m:\u001b[36m_save_checkpoint\u001b[0m:\u001b[36m364\u001b[0m - \u001b[1mSaving checkpoint to outputs/deim_hgnetv2_s_80e/checkpoint0063.pth\u001b[0m\n"
     ]
    },
    {
     "name": "stdout",
     "output_type": "stream",
     "text": [
      "Averaged stats: lr: 0.000123  loss: 22.9211 (22.8012)  loss_mal: 0.8887 (0.9077)  loss_bbox: 0.1992 (0.1974)  loss_giou: 0.5576 (0.5392)  loss_fgl: 1.1353 (1.1443)  loss_mal_aux_0: 0.8975 (0.9196)  loss_bbox_aux_0: 0.2035 (0.2030)  loss_giou_aux_0: 0.5849 (0.5574)  loss_fgl_aux_0: 1.1459 (1.1566)  loss_ddf_aux_0: 0.0874 (0.0867)  loss_mal_aux_1: 0.8975 (0.9096)  loss_bbox_aux_1: 0.1995 (0.1980)  loss_giou_aux_1: 0.5618 (0.5406)  loss_fgl_aux_1: 1.1361 (1.1456)  loss_ddf_aux_1: 0.0052 (0.0051)  loss_mal_pre: 0.8955 (0.9169)  loss_bbox_pre: 0.2033 (0.2029)  loss_giou_pre: 0.5829 (0.5568)  loss_mal_enc_0: 0.9380 (0.9696)  loss_bbox_enc_0: 0.2227 (0.2252)  loss_giou_enc_0: 0.6278 (0.6205)  loss_mal_dn_0: 0.7803 (0.7778)  loss_bbox_dn_0: 0.2600 (0.2587)  loss_giou_dn_0: 0.7584 (0.7350)  loss_fgl_dn_0: 1.1381 (1.1624)  loss_ddf_dn_0: 0.6610 (0.6664)  loss_mal_dn_1: 0.7822 (0.7768)  loss_bbox_dn_1: 0.2095 (0.2163)  loss_giou_dn_1: 0.6333 (0.5980)  loss_fgl_dn_1: 1.1211 (1.1180)  loss_ddf_dn_1: 0.0309 (0.0295)  loss_mal_dn_2: 0.7769 (0.7726)  loss_bbox_dn_2: 0.2032 (0.2111)  loss_giou_dn_2: 0.6156 (0.5838)  loss_fgl_dn_2: 1.1210 (1.1175)  loss_mal_dn_pre: 0.7803 (0.7765)  loss_bbox_dn_pre: 0.2629 (0.2605)  loss_giou_dn_pre: 0.7556 (0.7377)\n"
     ]
    },
    {
     "name": "stderr",
     "output_type": "stream",
     "text": [
      "\u001b[32m2025-03-10 18:25:07.300\u001b[0m | \u001b[1mINFO    \u001b[0m | \u001b[36mdeimkit.trainer\u001b[0m:\u001b[36m_save_checkpoint\u001b[0m:\u001b[36m381\u001b[0m - \u001b[1mCheckpoint saved to outputs/deim_hgnetv2_s_80e/checkpoint0063.pth\u001b[0m\n",
      "\u001b[32m2025-03-10 18:25:07.301\u001b[0m | \u001b[1mINFO    \u001b[0m | \u001b[36mdeimkit.trainer\u001b[0m:\u001b[36mevaluate\u001b[0m:\u001b[36m332\u001b[0m - \u001b[1mEvaluating model...\u001b[0m\n",
      "Evaluating: 100%|██████████| 5/5 [00:01<00:00,  3.01it/s]\n",
      "\u001b[32m2025-03-10 18:25:08.997\u001b[0m | \u001b[1mINFO    \u001b[0m | \u001b[36mdeimkit.trainer\u001b[0m:\u001b[36mtrain\u001b[0m:\u001b[36m313\u001b[0m - \u001b[1mEpoch 63 - Train loss: 22.8012, Eval mAP: 0.5599\u001b[0m\n",
      "\u001b[32m2025-03-10 18:25:08.998\u001b[0m | \u001b[1mINFO    \u001b[0m | \u001b[36mdeimkit.trainer\u001b[0m:\u001b[36mtrain\u001b[0m:\u001b[36m316\u001b[0m - \u001b[1mBest stats: {'epoch': 62, 'coco_eval_bbox': 0.5695282400397124}\u001b[0m\n",
      "\u001b[32m2025-03-10 18:25:08.998\u001b[0m | \u001b[1mINFO    \u001b[0m | \u001b[36mdeimkit.trainer\u001b[0m:\u001b[36mtrain\u001b[0m:\u001b[36m224\u001b[0m - \u001b[1mEpoch 64/80\u001b[0m\n"
     ]
    },
    {
     "name": "stdout",
     "output_type": "stream",
     "text": [
      "Averaged stats: \n",
      "Accumulating evaluation results...\n",
      "COCOeval_opt.accumulate() finished...\n",
      "DONE (t=0.02s).\n",
      "IoU metric: bbox\n",
      " Average Precision  (AP) @[ IoU=0.50:0.95 | area=   all | maxDets=100 ] = 0.560\n",
      " Average Precision  (AP) @[ IoU=0.50      | area=   all | maxDets=100 ] = 0.813\n",
      " Average Precision  (AP) @[ IoU=0.75      | area=   all | maxDets=100 ] = 0.674\n",
      " Average Precision  (AP) @[ IoU=0.50:0.95 | area= small | maxDets=100 ] = 0.240\n",
      " Average Precision  (AP) @[ IoU=0.50:0.95 | area=medium | maxDets=100 ] = 0.574\n",
      " Average Precision  (AP) @[ IoU=0.50:0.95 | area= large | maxDets=100 ] = 0.434\n",
      " Average Recall     (AR) @[ IoU=0.50:0.95 | area=   all | maxDets=  1 ] = 0.398\n",
      " Average Recall     (AR) @[ IoU=0.50:0.95 | area=   all | maxDets= 10 ] = 0.663\n",
      " Average Recall     (AR) @[ IoU=0.50:0.95 | area=   all | maxDets=100 ] = 0.762\n",
      " Average Recall     (AR) @[ IoU=0.50:0.95 | area= small | maxDets=100 ] = 0.660\n",
      " Average Recall     (AR) @[ IoU=0.50:0.95 | area=medium | maxDets=100 ] = 0.738\n",
      " Average Recall     (AR) @[ IoU=0.50:0.95 | area= large | maxDets=100 ] = 0.546\n",
      " Average Recall     (AR) @[ IoU=0.50      | area=   all | maxDets=100 ] = 0.995\n",
      " Average Recall     (AR) @[ IoU=0.75      | area=   all | maxDets=100 ] = 0.912\n"
     ]
    },
    {
     "name": "stderr",
     "output_type": "stream",
     "text": [
      "Epoch 64:   0%|          | 0/15 [00:00<?, ?it/s]"
     ]
    },
    {
     "name": "stdout",
     "output_type": "stream",
     "text": [
      "     ### Attention --- Mixup is closed after epoch@ 64 ###\n",
      "     ### Attention --- Mixup is closed after epoch@ 64 ###\n",
      "     ### Attention --- Mixup is closed after epoch@ 64 ###\n",
      "     ### Attention --- Mixup is closed after epoch@ 64 ###\n"
     ]
    },
    {
     "name": "stderr",
     "output_type": "stream",
     "text": [
      "Epoch 64: 100%|██████████| 15/15 [00:07<00:00,  1.93it/s, loss=23.2634]\n",
      "\u001b[32m2025-03-10 18:25:16.769\u001b[0m | \u001b[1mINFO    \u001b[0m | \u001b[36mdeimkit.trainer\u001b[0m:\u001b[36mevaluate\u001b[0m:\u001b[36m332\u001b[0m - \u001b[1mEvaluating model...\u001b[0m\n"
     ]
    },
    {
     "name": "stdout",
     "output_type": "stream",
     "text": [
      "Averaged stats: lr: 0.000119  loss: 23.2634 (23.6673)  loss_mal: 1.0537 (1.0693)  loss_bbox: 0.2234 (0.2331)  loss_giou: 0.4115 (0.4074)  loss_fgl: 1.1857 (1.1850)  loss_mal_aux_0: 1.0371 (1.0813)  loss_bbox_aux_0: 0.2502 (0.2546)  loss_giou_aux_0: 0.4476 (0.4433)  loss_fgl_aux_0: 1.2110 (1.2108)  loss_ddf_aux_0: 0.1072 (0.1105)  loss_mal_aux_1: 1.0615 (1.0741)  loss_bbox_aux_1: 0.2241 (0.2339)  loss_giou_aux_1: 0.4146 (0.4086)  loss_fgl_aux_1: 1.1879 (1.1869)  loss_ddf_aux_1: 0.0050 (0.0051)  loss_mal_pre: 1.0332 (1.0778)  loss_bbox_pre: 0.2522 (0.2537)  loss_giou_pre: 0.4472 (0.4421)  loss_mal_enc_0: 1.1348 (1.2029)  loss_bbox_enc_0: 0.3162 (0.3289)  loss_giou_enc_0: 0.5309 (0.5555)  loss_mal_dn_0: 0.7881 (0.7846)  loss_bbox_dn_0: 0.3819 (0.3911)  loss_giou_dn_0: 0.6666 (0.6656)  loss_fgl_dn_0: 1.1974 (1.2045)  loss_ddf_dn_0: 0.5958 (0.5947)  loss_mal_dn_1: 0.7690 (0.7696)  loss_bbox_dn_1: 0.2934 (0.2987)  loss_giou_dn_1: 0.4968 (0.5049)  loss_fgl_dn_1: 1.1431 (1.1403)  loss_ddf_dn_1: 0.0301 (0.0300)  loss_mal_dn_2: 0.7598 (0.7621)  loss_bbox_dn_2: 0.2829 (0.2869)  loss_giou_dn_2: 0.4782 (0.4867)  loss_fgl_dn_2: 1.1347 (1.1376)  loss_mal_dn_pre: 0.7881 (0.7833)  loss_bbox_dn_pre: 0.3860 (0.3966)  loss_giou_dn_pre: 0.6719 (0.6654)\n"
     ]
    },
    {
     "name": "stderr",
     "output_type": "stream",
     "text": [
      "Evaluating: 100%|██████████| 5/5 [00:01<00:00,  3.41it/s]\n",
      "\u001b[32m2025-03-10 18:25:18.264\u001b[0m | \u001b[1mINFO    \u001b[0m | \u001b[36mdeimkit.trainer\u001b[0m:\u001b[36m_save_checkpoint\u001b[0m:\u001b[36m364\u001b[0m - \u001b[1mSaving checkpoint to outputs/deim_hgnetv2_s_80e/best.pth\u001b[0m\n"
     ]
    },
    {
     "name": "stdout",
     "output_type": "stream",
     "text": [
      "Averaged stats: \n",
      "Accumulating evaluation results...\n",
      "COCOeval_opt.accumulate() finished...\n",
      "DONE (t=0.02s).\n",
      "IoU metric: bbox\n",
      " Average Precision  (AP) @[ IoU=0.50:0.95 | area=   all | maxDets=100 ] = 0.577\n",
      " Average Precision  (AP) @[ IoU=0.50      | area=   all | maxDets=100 ] = 0.824\n",
      " Average Precision  (AP) @[ IoU=0.75      | area=   all | maxDets=100 ] = 0.676\n",
      " Average Precision  (AP) @[ IoU=0.50:0.95 | area= small | maxDets=100 ] = 0.347\n",
      " Average Precision  (AP) @[ IoU=0.50:0.95 | area=medium | maxDets=100 ] = 0.610\n",
      " Average Precision  (AP) @[ IoU=0.50:0.95 | area= large | maxDets=100 ] = 0.444\n",
      " Average Recall     (AR) @[ IoU=0.50:0.95 | area=   all | maxDets=  1 ] = 0.397\n",
      " Average Recall     (AR) @[ IoU=0.50:0.95 | area=   all | maxDets= 10 ] = 0.673\n",
      " Average Recall     (AR) @[ IoU=0.50:0.95 | area=   all | maxDets=100 ] = 0.779\n",
      " Average Recall     (AR) @[ IoU=0.50:0.95 | area= small | maxDets=100 ] = 0.620\n",
      " Average Recall     (AR) @[ IoU=0.50:0.95 | area=medium | maxDets=100 ] = 0.785\n",
      " Average Recall     (AR) @[ IoU=0.50:0.95 | area= large | maxDets=100 ] = 0.820\n",
      " Average Recall     (AR) @[ IoU=0.50      | area=   all | maxDets=100 ] = 0.994\n",
      " Average Recall     (AR) @[ IoU=0.75      | area=   all | maxDets=100 ] = 0.909\n"
     ]
    },
    {
     "name": "stderr",
     "output_type": "stream",
     "text": [
      "\u001b[32m2025-03-10 18:25:18.635\u001b[0m | \u001b[1mINFO    \u001b[0m | \u001b[36mdeimkit.trainer\u001b[0m:\u001b[36m_save_checkpoint\u001b[0m:\u001b[36m381\u001b[0m - \u001b[1mCheckpoint saved to outputs/deim_hgnetv2_s_80e/best.pth\u001b[0m\n",
      "\u001b[32m2025-03-10 18:25:18.637\u001b[0m | \u001b[1mINFO    \u001b[0m | \u001b[36mdeimkit.trainer\u001b[0m:\u001b[36mtrain\u001b[0m:\u001b[36m313\u001b[0m - \u001b[1mEpoch 64 - Train loss: 23.6673, Eval mAP: 0.5770\u001b[0m\n",
      "\u001b[32m2025-03-10 18:25:18.637\u001b[0m | \u001b[1mINFO    \u001b[0m | \u001b[36mdeimkit.trainer\u001b[0m:\u001b[36mtrain\u001b[0m:\u001b[36m316\u001b[0m - \u001b[1mBest stats: {'epoch': 64, 'coco_eval_bbox': 0.5770117081278717}\u001b[0m\n",
      "\u001b[32m2025-03-10 18:25:18.638\u001b[0m | \u001b[1mINFO    \u001b[0m | \u001b[36mdeimkit.trainer\u001b[0m:\u001b[36mtrain\u001b[0m:\u001b[36m224\u001b[0m - \u001b[1mEpoch 65/80\u001b[0m\n",
      "Epoch 65: 100%|██████████| 15/15 [00:06<00:00,  2.19it/s, loss=22.9032]\n",
      "\u001b[32m2025-03-10 18:25:25.507\u001b[0m | \u001b[1mINFO    \u001b[0m | \u001b[36mdeimkit.trainer\u001b[0m:\u001b[36mevaluate\u001b[0m:\u001b[36m332\u001b[0m - \u001b[1mEvaluating model...\u001b[0m\n"
     ]
    },
    {
     "name": "stdout",
     "output_type": "stream",
     "text": [
      "Averaged stats: lr: 0.000116  loss: 22.5075 (22.4607)  loss_mal: 0.9751 (1.0016)  loss_bbox: 0.1930 (0.1819)  loss_giou: 0.3804 (0.3816)  loss_fgl: 1.1864 (1.1774)  loss_mal_aux_0: 1.0166 (1.0083)  loss_bbox_aux_0: 0.2073 (0.1966)  loss_giou_aux_0: 0.4025 (0.4100)  loss_fgl_aux_0: 1.2045 (1.2032)  loss_ddf_aux_0: 0.0940 (0.0943)  loss_mal_aux_1: 0.9873 (1.0065)  loss_bbox_aux_1: 0.1922 (0.1828)  loss_giou_aux_1: 0.3831 (0.3833)  loss_fgl_aux_1: 1.1879 (1.1791)  loss_ddf_aux_1: 0.0045 (0.0045)  loss_mal_pre: 1.0137 (1.0070)  loss_bbox_pre: 0.2075 (0.1971)  loss_giou_pre: 0.4042 (0.4108)  loss_mal_enc_0: 1.0449 (1.0807)  loss_bbox_enc_0: 0.2634 (0.2830)  loss_giou_enc_0: 0.5447 (0.5416)  loss_mal_dn_0: 0.7778 (0.7795)  loss_bbox_dn_0: 0.3063 (0.3121)  loss_giou_dn_0: 0.6225 (0.6348)  loss_fgl_dn_0: 1.2181 (1.2104)  loss_ddf_dn_0: 0.5967 (0.6452)  loss_mal_dn_1: 0.7603 (0.7604)  loss_bbox_dn_1: 0.2305 (0.2394)  loss_giou_dn_1: 0.4760 (0.4787)  loss_fgl_dn_1: 1.1324 (1.1353)  loss_ddf_dn_1: 0.0294 (0.0314)  loss_mal_dn_2: 0.7549 (0.7501)  loss_bbox_dn_2: 0.2249 (0.2301)  loss_giou_dn_2: 0.4613 (0.4632)  loss_fgl_dn_2: 1.1307 (1.1307)  loss_mal_dn_pre: 0.7788 (0.7781)  loss_bbox_dn_pre: 0.3047 (0.3150)  loss_giou_dn_pre: 0.6260 (0.6349)\n"
     ]
    },
    {
     "name": "stderr",
     "output_type": "stream",
     "text": [
      "Evaluating: 100%|██████████| 5/5 [00:01<00:00,  3.43it/s]\n",
      "\u001b[32m2025-03-10 18:25:26.999\u001b[0m | \u001b[1mINFO    \u001b[0m | \u001b[36mdeimkit.trainer\u001b[0m:\u001b[36m_save_checkpoint\u001b[0m:\u001b[36m364\u001b[0m - \u001b[1mSaving checkpoint to outputs/deim_hgnetv2_s_80e/best.pth\u001b[0m\n"
     ]
    },
    {
     "name": "stdout",
     "output_type": "stream",
     "text": [
      "Averaged stats: \n",
      "Accumulating evaluation results...\n",
      "COCOeval_opt.accumulate() finished...\n",
      "DONE (t=0.02s).\n",
      "IoU metric: bbox\n",
      " Average Precision  (AP) @[ IoU=0.50:0.95 | area=   all | maxDets=100 ] = 0.598\n",
      " Average Precision  (AP) @[ IoU=0.50      | area=   all | maxDets=100 ] = 0.860\n",
      " Average Precision  (AP) @[ IoU=0.75      | area=   all | maxDets=100 ] = 0.696\n",
      " Average Precision  (AP) @[ IoU=0.50:0.95 | area= small | maxDets=100 ] = 0.422\n",
      " Average Precision  (AP) @[ IoU=0.50:0.95 | area=medium | maxDets=100 ] = 0.631\n",
      " Average Precision  (AP) @[ IoU=0.50:0.95 | area= large | maxDets=100 ] = 0.455\n",
      " Average Recall     (AR) @[ IoU=0.50:0.95 | area=   all | maxDets=  1 ] = 0.403\n",
      " Average Recall     (AR) @[ IoU=0.50:0.95 | area=   all | maxDets= 10 ] = 0.674\n",
      " Average Recall     (AR) @[ IoU=0.50:0.95 | area=   all | maxDets=100 ] = 0.790\n",
      " Average Recall     (AR) @[ IoU=0.50:0.95 | area= small | maxDets=100 ] = 0.660\n",
      " Average Recall     (AR) @[ IoU=0.50:0.95 | area=medium | maxDets=100 ] = 0.789\n",
      " Average Recall     (AR) @[ IoU=0.50:0.95 | area= large | maxDets=100 ] = 0.788\n",
      " Average Recall     (AR) @[ IoU=0.50      | area=   all | maxDets=100 ] = 0.999\n",
      " Average Recall     (AR) @[ IoU=0.75      | area=   all | maxDets=100 ] = 0.941\n"
     ]
    },
    {
     "name": "stderr",
     "output_type": "stream",
     "text": [
      "\u001b[32m2025-03-10 18:25:27.356\u001b[0m | \u001b[1mINFO    \u001b[0m | \u001b[36mdeimkit.trainer\u001b[0m:\u001b[36m_save_checkpoint\u001b[0m:\u001b[36m381\u001b[0m - \u001b[1mCheckpoint saved to outputs/deim_hgnetv2_s_80e/best.pth\u001b[0m\n",
      "\u001b[32m2025-03-10 18:25:27.359\u001b[0m | \u001b[1mINFO    \u001b[0m | \u001b[36mdeimkit.trainer\u001b[0m:\u001b[36mtrain\u001b[0m:\u001b[36m313\u001b[0m - \u001b[1mEpoch 65 - Train loss: 22.4607, Eval mAP: 0.5976\u001b[0m\n",
      "\u001b[32m2025-03-10 18:25:27.359\u001b[0m | \u001b[1mINFO    \u001b[0m | \u001b[36mdeimkit.trainer\u001b[0m:\u001b[36mtrain\u001b[0m:\u001b[36m316\u001b[0m - \u001b[1mBest stats: {'epoch': 65, 'coco_eval_bbox': 0.5975941844307965}\u001b[0m\n",
      "\u001b[32m2025-03-10 18:25:27.360\u001b[0m | \u001b[1mINFO    \u001b[0m | \u001b[36mdeimkit.trainer\u001b[0m:\u001b[36mtrain\u001b[0m:\u001b[36m224\u001b[0m - \u001b[1mEpoch 66/80\u001b[0m\n",
      "Epoch 66: 100%|██████████| 15/15 [00:06<00:00,  2.16it/s, loss=22.9663]\n",
      "\u001b[32m2025-03-10 18:25:34.316\u001b[0m | \u001b[1mINFO    \u001b[0m | \u001b[36mdeimkit.trainer\u001b[0m:\u001b[36mevaluate\u001b[0m:\u001b[36m332\u001b[0m - \u001b[1mEvaluating model...\u001b[0m\n"
     ]
    },
    {
     "name": "stdout",
     "output_type": "stream",
     "text": [
      "Averaged stats: lr: 0.000113  loss: 22.5170 (22.4551)  loss_mal: 0.9536 (0.9934)  loss_bbox: 0.1919 (0.1894)  loss_giou: 0.3715 (0.3703)  loss_fgl: 1.1792 (1.1767)  loss_mal_aux_0: 0.9712 (1.0054)  loss_bbox_aux_0: 0.2070 (0.2141)  loss_giou_aux_0: 0.4108 (0.4089)  loss_fgl_aux_0: 1.2124 (1.2111)  loss_ddf_aux_0: 0.1101 (0.1101)  loss_mal_aux_1: 0.9561 (1.0025)  loss_bbox_aux_1: 0.1937 (0.1915)  loss_giou_aux_1: 0.3747 (0.3730)  loss_fgl_aux_1: 1.1829 (1.1793)  loss_ddf_aux_1: 0.0052 (0.0053)  loss_mal_pre: 0.9678 (1.0030)  loss_bbox_pre: 0.2077 (0.2145)  loss_giou_pre: 0.4121 (0.4088)  loss_mal_enc_0: 1.0557 (1.0708)  loss_bbox_enc_0: 0.2969 (0.3021)  loss_giou_enc_0: 0.5309 (0.5347)  loss_mal_dn_0: 0.7778 (0.7809)  loss_bbox_dn_0: 0.3008 (0.3187)  loss_giou_dn_0: 0.6117 (0.6120)  loss_fgl_dn_0: 1.2144 (1.2128)  loss_ddf_dn_0: 0.6432 (0.6632)  loss_mal_dn_1: 0.7681 (0.7631)  loss_bbox_dn_1: 0.2327 (0.2407)  loss_giou_dn_1: 0.4590 (0.4559)  loss_fgl_dn_1: 1.1344 (1.1379)  loss_ddf_dn_1: 0.0326 (0.0327)  loss_mal_dn_2: 0.7549 (0.7519)  loss_bbox_dn_2: 0.2254 (0.2306)  loss_giou_dn_2: 0.4406 (0.4414)  loss_fgl_dn_2: 1.1302 (1.1338)  loss_mal_dn_pre: 0.7759 (0.7795)  loss_bbox_dn_pre: 0.3044 (0.3221)  loss_giou_dn_pre: 0.6127 (0.6131)\n"
     ]
    },
    {
     "name": "stderr",
     "output_type": "stream",
     "text": [
      "Evaluating: 100%|██████████| 5/5 [00:01<00:00,  3.50it/s]\n",
      "\u001b[32m2025-03-10 18:25:35.770\u001b[0m | \u001b[1mINFO    \u001b[0m | \u001b[36mdeimkit.trainer\u001b[0m:\u001b[36mtrain\u001b[0m:\u001b[36m313\u001b[0m - \u001b[1mEpoch 66 - Train loss: 22.4551, Eval mAP: 0.5911\u001b[0m\n",
      "\u001b[32m2025-03-10 18:25:35.771\u001b[0m | \u001b[1mINFO    \u001b[0m | \u001b[36mdeimkit.trainer\u001b[0m:\u001b[36mtrain\u001b[0m:\u001b[36m316\u001b[0m - \u001b[1mBest stats: {'epoch': 65, 'coco_eval_bbox': 0.5975941844307965}\u001b[0m\n",
      "\u001b[32m2025-03-10 18:25:35.771\u001b[0m | \u001b[1mINFO    \u001b[0m | \u001b[36mdeimkit.trainer\u001b[0m:\u001b[36mtrain\u001b[0m:\u001b[36m224\u001b[0m - \u001b[1mEpoch 67/80\u001b[0m\n"
     ]
    },
    {
     "name": "stdout",
     "output_type": "stream",
     "text": [
      "Averaged stats: \n",
      "Accumulating evaluation results...\n",
      "COCOeval_opt.accumulate() finished...\n",
      "DONE (t=0.02s).\n",
      "IoU metric: bbox\n",
      " Average Precision  (AP) @[ IoU=0.50:0.95 | area=   all | maxDets=100 ] = 0.591\n",
      " Average Precision  (AP) @[ IoU=0.50      | area=   all | maxDets=100 ] = 0.855\n",
      " Average Precision  (AP) @[ IoU=0.75      | area=   all | maxDets=100 ] = 0.683\n",
      " Average Precision  (AP) @[ IoU=0.50:0.95 | area= small | maxDets=100 ] = 0.314\n",
      " Average Precision  (AP) @[ IoU=0.50:0.95 | area=medium | maxDets=100 ] = 0.610\n",
      " Average Precision  (AP) @[ IoU=0.50:0.95 | area= large | maxDets=100 ] = 0.464\n",
      " Average Recall     (AR) @[ IoU=0.50:0.95 | area=   all | maxDets=  1 ] = 0.407\n",
      " Average Recall     (AR) @[ IoU=0.50:0.95 | area=   all | maxDets= 10 ] = 0.675\n",
      " Average Recall     (AR) @[ IoU=0.50:0.95 | area=   all | maxDets=100 ] = 0.789\n",
      " Average Recall     (AR) @[ IoU=0.50:0.95 | area= small | maxDets=100 ] = 0.720\n",
      " Average Recall     (AR) @[ IoU=0.50:0.95 | area=medium | maxDets=100 ] = 0.787\n",
      " Average Recall     (AR) @[ IoU=0.50:0.95 | area= large | maxDets=100 ] = 0.788\n",
      " Average Recall     (AR) @[ IoU=0.50      | area=   all | maxDets=100 ] = 0.999\n",
      " Average Recall     (AR) @[ IoU=0.75      | area=   all | maxDets=100 ] = 0.936\n"
     ]
    },
    {
     "name": "stderr",
     "output_type": "stream",
     "text": [
      "Epoch 67: 100%|██████████| 15/15 [00:07<00:00,  2.06it/s, loss=23.1967]\n",
      "\u001b[32m2025-03-10 18:25:43.084\u001b[0m | \u001b[1mINFO    \u001b[0m | \u001b[36mdeimkit.trainer\u001b[0m:\u001b[36m_save_checkpoint\u001b[0m:\u001b[36m364\u001b[0m - \u001b[1mSaving checkpoint to outputs/deim_hgnetv2_s_80e/checkpoint0067.pth\u001b[0m\n"
     ]
    },
    {
     "name": "stdout",
     "output_type": "stream",
     "text": [
      "Averaged stats: lr: 0.000110  loss: 22.4657 (22.3716)  loss_mal: 0.9639 (0.9898)  loss_bbox: 0.1968 (0.1923)  loss_giou: 0.3651 (0.3640)  loss_fgl: 1.1822 (1.1772)  loss_mal_aux_0: 0.9653 (1.0064)  loss_bbox_aux_0: 0.2223 (0.2108)  loss_giou_aux_0: 0.3986 (0.3935)  loss_fgl_aux_0: 1.2098 (1.2045)  loss_ddf_aux_0: 0.1016 (0.1086)  loss_mal_aux_1: 0.9722 (1.0009)  loss_bbox_aux_1: 0.2006 (0.1937)  loss_giou_aux_1: 0.3679 (0.3659)  loss_fgl_aux_1: 1.1826 (1.1789)  loss_ddf_aux_1: 0.0055 (0.0056)  loss_mal_pre: 0.9624 (1.0056)  loss_bbox_pre: 0.2244 (0.2107)  loss_giou_pre: 0.3996 (0.3932)  loss_mal_enc_0: 1.0361 (1.1004)  loss_bbox_enc_0: 0.2795 (0.2879)  loss_giou_enc_0: 0.4948 (0.5025)  loss_mal_dn_0: 0.7700 (0.7731)  loss_bbox_dn_0: 0.3228 (0.3225)  loss_giou_dn_0: 0.6204 (0.6120)  loss_fgl_dn_0: 1.2153 (1.2192)  loss_ddf_dn_0: 0.6651 (0.6620)  loss_mal_dn_1: 0.7461 (0.7522)  loss_bbox_dn_1: 0.2266 (0.2430)  loss_giou_dn_1: 0.4586 (0.4590)  loss_fgl_dn_1: 1.1407 (1.1398)  loss_ddf_dn_1: 0.0326 (0.0326)  loss_mal_dn_2: 0.7393 (0.7425)  loss_bbox_dn_2: 0.2136 (0.2331)  loss_giou_dn_2: 0.4437 (0.4436)  loss_fgl_dn_2: 1.1359 (1.1354)  loss_mal_dn_pre: 0.7695 (0.7725)  loss_bbox_dn_pre: 0.3269 (0.3254)  loss_giou_dn_pre: 0.6200 (0.6112)\n"
     ]
    },
    {
     "name": "stderr",
     "output_type": "stream",
     "text": [
      "\u001b[32m2025-03-10 18:25:43.351\u001b[0m | \u001b[1mINFO    \u001b[0m | \u001b[36mdeimkit.trainer\u001b[0m:\u001b[36m_save_checkpoint\u001b[0m:\u001b[36m381\u001b[0m - \u001b[1mCheckpoint saved to outputs/deim_hgnetv2_s_80e/checkpoint0067.pth\u001b[0m\n",
      "\u001b[32m2025-03-10 18:25:43.353\u001b[0m | \u001b[1mINFO    \u001b[0m | \u001b[36mdeimkit.trainer\u001b[0m:\u001b[36mevaluate\u001b[0m:\u001b[36m332\u001b[0m - \u001b[1mEvaluating model...\u001b[0m\n",
      "Evaluating: 100%|██████████| 5/5 [00:01<00:00,  3.43it/s]\n",
      "\u001b[32m2025-03-10 18:25:44.839\u001b[0m | \u001b[1mINFO    \u001b[0m | \u001b[36mdeimkit.trainer\u001b[0m:\u001b[36m_save_checkpoint\u001b[0m:\u001b[36m364\u001b[0m - \u001b[1mSaving checkpoint to outputs/deim_hgnetv2_s_80e/best.pth\u001b[0m\n"
     ]
    },
    {
     "name": "stdout",
     "output_type": "stream",
     "text": [
      "Averaged stats: \n",
      "Accumulating evaluation results...\n",
      "COCOeval_opt.accumulate() finished...\n",
      "DONE (t=0.02s).\n",
      "IoU metric: bbox\n",
      " Average Precision  (AP) @[ IoU=0.50:0.95 | area=   all | maxDets=100 ] = 0.601\n",
      " Average Precision  (AP) @[ IoU=0.50      | area=   all | maxDets=100 ] = 0.862\n",
      " Average Precision  (AP) @[ IoU=0.75      | area=   all | maxDets=100 ] = 0.700\n",
      " Average Precision  (AP) @[ IoU=0.50:0.95 | area= small | maxDets=100 ] = 0.454\n",
      " Average Precision  (AP) @[ IoU=0.50:0.95 | area=medium | maxDets=100 ] = 0.617\n",
      " Average Precision  (AP) @[ IoU=0.50:0.95 | area= large | maxDets=100 ] = 0.462\n",
      " Average Recall     (AR) @[ IoU=0.50:0.95 | area=   all | maxDets=  1 ] = 0.406\n",
      " Average Recall     (AR) @[ IoU=0.50:0.95 | area=   all | maxDets= 10 ] = 0.676\n",
      " Average Recall     (AR) @[ IoU=0.50:0.95 | area=   all | maxDets=100 ] = 0.789\n",
      " Average Recall     (AR) @[ IoU=0.50:0.95 | area= small | maxDets=100 ] = 0.780\n",
      " Average Recall     (AR) @[ IoU=0.50:0.95 | area=medium | maxDets=100 ] = 0.791\n",
      " Average Recall     (AR) @[ IoU=0.50:0.95 | area= large | maxDets=100 ] = 0.820\n",
      " Average Recall     (AR) @[ IoU=0.50      | area=   all | maxDets=100 ] = 0.999\n",
      " Average Recall     (AR) @[ IoU=0.75      | area=   all | maxDets=100 ] = 0.939\n"
     ]
    },
    {
     "name": "stderr",
     "output_type": "stream",
     "text": [
      "\u001b[32m2025-03-10 18:25:45.259\u001b[0m | \u001b[1mINFO    \u001b[0m | \u001b[36mdeimkit.trainer\u001b[0m:\u001b[36m_save_checkpoint\u001b[0m:\u001b[36m381\u001b[0m - \u001b[1mCheckpoint saved to outputs/deim_hgnetv2_s_80e/best.pth\u001b[0m\n",
      "\u001b[32m2025-03-10 18:25:45.262\u001b[0m | \u001b[1mINFO    \u001b[0m | \u001b[36mdeimkit.trainer\u001b[0m:\u001b[36mtrain\u001b[0m:\u001b[36m313\u001b[0m - \u001b[1mEpoch 67 - Train loss: 22.3716, Eval mAP: 0.6007\u001b[0m\n",
      "\u001b[32m2025-03-10 18:25:45.263\u001b[0m | \u001b[1mINFO    \u001b[0m | \u001b[36mdeimkit.trainer\u001b[0m:\u001b[36mtrain\u001b[0m:\u001b[36m316\u001b[0m - \u001b[1mBest stats: {'epoch': 67, 'coco_eval_bbox': 0.6007377789512266}\u001b[0m\n",
      "\u001b[32m2025-03-10 18:25:45.263\u001b[0m | \u001b[1mINFO    \u001b[0m | \u001b[36mdeimkit.trainer\u001b[0m:\u001b[36mtrain\u001b[0m:\u001b[36m224\u001b[0m - \u001b[1mEpoch 68/80\u001b[0m\n",
      "Epoch 68: 100%|██████████| 15/15 [00:07<00:00,  2.06it/s, loss=21.2581]\n",
      "\u001b[32m2025-03-10 18:25:52.540\u001b[0m | \u001b[1mINFO    \u001b[0m | \u001b[36mdeimkit.trainer\u001b[0m:\u001b[36mevaluate\u001b[0m:\u001b[36m332\u001b[0m - \u001b[1mEvaluating model...\u001b[0m\n"
     ]
    },
    {
     "name": "stdout",
     "output_type": "stream",
     "text": [
      "Averaged stats: lr: 0.000107  loss: 21.8311 (21.9170)  loss_mal: 0.9180 (0.9437)  loss_bbox: 0.1762 (0.1767)  loss_giou: 0.3551 (0.3580)  loss_fgl: 1.1722 (1.1694)  loss_mal_aux_0: 0.9619 (0.9601)  loss_bbox_aux_0: 0.1928 (0.1952)  loss_giou_aux_0: 0.3853 (0.3905)  loss_fgl_aux_0: 1.2093 (1.2023)  loss_ddf_aux_0: 0.0966 (0.1031)  loss_mal_aux_1: 0.9331 (0.9512)  loss_bbox_aux_1: 0.1781 (0.1784)  loss_giou_aux_1: 0.3546 (0.3605)  loss_fgl_aux_1: 1.1738 (1.1720)  loss_ddf_aux_1: 0.0050 (0.0051)  loss_mal_pre: 0.9531 (0.9567)  loss_bbox_pre: 0.1937 (0.1950)  loss_giou_pre: 0.3845 (0.3900)  loss_mal_enc_0: 1.0342 (1.0515)  loss_bbox_enc_0: 0.2594 (0.2784)  loss_giou_enc_0: 0.4874 (0.5141)  loss_mal_dn_0: 0.7749 (0.7763)  loss_bbox_dn_0: 0.3052 (0.3027)  loss_giou_dn_0: 0.5905 (0.6006)  loss_fgl_dn_0: 1.2098 (1.2177)  loss_ddf_dn_0: 0.6548 (0.6839)  loss_mal_dn_1: 0.7529 (0.7506)  loss_bbox_dn_1: 0.2283 (0.2261)  loss_giou_dn_1: 0.4391 (0.4425)  loss_fgl_dn_1: 1.1384 (1.1346)  loss_ddf_dn_1: 0.0302 (0.0320)  loss_mal_dn_2: 0.7412 (0.7412)  loss_bbox_dn_2: 0.2193 (0.2176)  loss_giou_dn_2: 0.4236 (0.4289)  loss_fgl_dn_2: 1.1290 (1.1293)  loss_mal_dn_pre: 0.7744 (0.7755)  loss_bbox_dn_pre: 0.3073 (0.3043)  loss_giou_dn_pre: 0.5916 (0.6016)\n"
     ]
    },
    {
     "name": "stderr",
     "output_type": "stream",
     "text": [
      "Evaluating: 100%|██████████| 5/5 [00:01<00:00,  3.89it/s]\n",
      "\u001b[32m2025-03-10 18:25:53.853\u001b[0m | \u001b[1mINFO    \u001b[0m | \u001b[36mdeimkit.trainer\u001b[0m:\u001b[36m_save_checkpoint\u001b[0m:\u001b[36m364\u001b[0m - \u001b[1mSaving checkpoint to outputs/deim_hgnetv2_s_80e/best.pth\u001b[0m\n"
     ]
    },
    {
     "name": "stdout",
     "output_type": "stream",
     "text": [
      "Averaged stats: \n",
      "Accumulating evaluation results...\n",
      "COCOeval_opt.accumulate() finished...\n",
      "DONE (t=0.02s).\n",
      "IoU metric: bbox\n",
      " Average Precision  (AP) @[ IoU=0.50:0.95 | area=   all | maxDets=100 ] = 0.621\n",
      " Average Precision  (AP) @[ IoU=0.50      | area=   all | maxDets=100 ] = 0.878\n",
      " Average Precision  (AP) @[ IoU=0.75      | area=   all | maxDets=100 ] = 0.731\n",
      " Average Precision  (AP) @[ IoU=0.50:0.95 | area= small | maxDets=100 ] = 0.507\n",
      " Average Precision  (AP) @[ IoU=0.50:0.95 | area=medium | maxDets=100 ] = 0.634\n",
      " Average Precision  (AP) @[ IoU=0.50:0.95 | area= large | maxDets=100 ] = 0.470\n",
      " Average Recall     (AR) @[ IoU=0.50:0.95 | area=   all | maxDets=  1 ] = 0.414\n",
      " Average Recall     (AR) @[ IoU=0.50:0.95 | area=   all | maxDets= 10 ] = 0.683\n",
      " Average Recall     (AR) @[ IoU=0.50:0.95 | area=   all | maxDets=100 ] = 0.796\n",
      " Average Recall     (AR) @[ IoU=0.50:0.95 | area= small | maxDets=100 ] = 0.780\n",
      " Average Recall     (AR) @[ IoU=0.50:0.95 | area=medium | maxDets=100 ] = 0.789\n",
      " Average Recall     (AR) @[ IoU=0.50:0.95 | area= large | maxDets=100 ] = 0.856\n",
      " Average Recall     (AR) @[ IoU=0.50      | area=   all | maxDets=100 ] = 0.999\n",
      " Average Recall     (AR) @[ IoU=0.75      | area=   all | maxDets=100 ] = 0.936\n"
     ]
    },
    {
     "name": "stderr",
     "output_type": "stream",
     "text": [
      "\u001b[32m2025-03-10 18:25:54.340\u001b[0m | \u001b[1mINFO    \u001b[0m | \u001b[36mdeimkit.trainer\u001b[0m:\u001b[36m_save_checkpoint\u001b[0m:\u001b[36m381\u001b[0m - \u001b[1mCheckpoint saved to outputs/deim_hgnetv2_s_80e/best.pth\u001b[0m\n",
      "\u001b[32m2025-03-10 18:25:54.341\u001b[0m | \u001b[1mINFO    \u001b[0m | \u001b[36mdeimkit.trainer\u001b[0m:\u001b[36mtrain\u001b[0m:\u001b[36m313\u001b[0m - \u001b[1mEpoch 68 - Train loss: 21.9170, Eval mAP: 0.6206\u001b[0m\n",
      "\u001b[32m2025-03-10 18:25:54.342\u001b[0m | \u001b[1mINFO    \u001b[0m | \u001b[36mdeimkit.trainer\u001b[0m:\u001b[36mtrain\u001b[0m:\u001b[36m316\u001b[0m - \u001b[1mBest stats: {'epoch': 68, 'coco_eval_bbox': 0.6206295307906283}\u001b[0m\n",
      "\u001b[32m2025-03-10 18:25:54.342\u001b[0m | \u001b[1mINFO    \u001b[0m | \u001b[36mdeimkit.trainer\u001b[0m:\u001b[36mtrain\u001b[0m:\u001b[36m224\u001b[0m - \u001b[1mEpoch 69/80\u001b[0m\n",
      "Epoch 69: 100%|██████████| 15/15 [00:07<00:00,  2.07it/s, loss=22.0647]\n",
      "\u001b[32m2025-03-10 18:26:01.619\u001b[0m | \u001b[1mINFO    \u001b[0m | \u001b[36mdeimkit.trainer\u001b[0m:\u001b[36mevaluate\u001b[0m:\u001b[36m332\u001b[0m - \u001b[1mEvaluating model...\u001b[0m\n"
     ]
    },
    {
     "name": "stdout",
     "output_type": "stream",
     "text": [
      "Averaged stats: lr: 0.000105  loss: 22.0647 (22.1247)  loss_mal: 0.9575 (0.9520)  loss_bbox: 0.1941 (0.1886)  loss_giou: 0.3608 (0.3636)  loss_fgl: 1.1735 (1.1722)  loss_mal_aux_0: 0.9517 (0.9600)  loss_bbox_aux_0: 0.2160 (0.2094)  loss_giou_aux_0: 0.3892 (0.3984)  loss_fgl_aux_0: 1.2026 (1.2054)  loss_ddf_aux_0: 0.1187 (0.1215)  loss_mal_aux_1: 0.9551 (0.9536)  loss_bbox_aux_1: 0.1975 (0.1911)  loss_giou_aux_1: 0.3637 (0.3662)  loss_fgl_aux_1: 1.1745 (1.1743)  loss_ddf_aux_1: 0.0058 (0.0058)  loss_mal_pre: 0.9502 (0.9585)  loss_bbox_pre: 0.2154 (0.2094)  loss_giou_pre: 0.3878 (0.3976)  loss_mal_enc_0: 1.0283 (1.0527)  loss_bbox_enc_0: 0.2845 (0.2864)  loss_giou_enc_0: 0.5034 (0.5097)  loss_mal_dn_0: 0.7749 (0.7736)  loss_bbox_dn_0: 0.3100 (0.3157)  loss_giou_dn_0: 0.5976 (0.5990)  loss_fgl_dn_0: 1.2154 (1.2184)  loss_ddf_dn_0: 0.7054 (0.7374)  loss_mal_dn_1: 0.7480 (0.7519)  loss_bbox_dn_1: 0.2278 (0.2348)  loss_giou_dn_1: 0.4443 (0.4406)  loss_fgl_dn_1: 1.1278 (1.1311)  loss_ddf_dn_1: 0.0344 (0.0361)  loss_mal_dn_2: 0.7368 (0.7402)  loss_bbox_dn_2: 0.2234 (0.2251)  loss_giou_dn_2: 0.4254 (0.4254)  loss_fgl_dn_2: 1.1246 (1.1275)  loss_mal_dn_pre: 0.7744 (0.7734)  loss_bbox_dn_pre: 0.3125 (0.3188)  loss_giou_dn_pre: 0.5913 (0.5992)\n"
     ]
    },
    {
     "name": "stderr",
     "output_type": "stream",
     "text": [
      "Evaluating: 100%|██████████| 5/5 [00:01<00:00,  3.86it/s]\n",
      "\u001b[32m2025-03-10 18:26:02.945\u001b[0m | \u001b[1mINFO    \u001b[0m | \u001b[36mdeimkit.trainer\u001b[0m:\u001b[36mtrain\u001b[0m:\u001b[36m313\u001b[0m - \u001b[1mEpoch 69 - Train loss: 22.1247, Eval mAP: 0.6004\u001b[0m\n",
      "\u001b[32m2025-03-10 18:26:02.945\u001b[0m | \u001b[1mINFO    \u001b[0m | \u001b[36mdeimkit.trainer\u001b[0m:\u001b[36mtrain\u001b[0m:\u001b[36m316\u001b[0m - \u001b[1mBest stats: {'epoch': 68, 'coco_eval_bbox': 0.6206295307906283}\u001b[0m\n",
      "\u001b[32m2025-03-10 18:26:02.946\u001b[0m | \u001b[1mINFO    \u001b[0m | \u001b[36mdeimkit.trainer\u001b[0m:\u001b[36mtrain\u001b[0m:\u001b[36m224\u001b[0m - \u001b[1mEpoch 70/80\u001b[0m\n"
     ]
    },
    {
     "name": "stdout",
     "output_type": "stream",
     "text": [
      "Averaged stats: \n",
      "Accumulating evaluation results...\n",
      "COCOeval_opt.accumulate() finished...\n",
      "DONE (t=0.02s).\n",
      "IoU metric: bbox\n",
      " Average Precision  (AP) @[ IoU=0.50:0.95 | area=   all | maxDets=100 ] = 0.600\n",
      " Average Precision  (AP) @[ IoU=0.50      | area=   all | maxDets=100 ] = 0.863\n",
      " Average Precision  (AP) @[ IoU=0.75      | area=   all | maxDets=100 ] = 0.701\n",
      " Average Precision  (AP) @[ IoU=0.50:0.95 | area= small | maxDets=100 ] = 0.332\n",
      " Average Precision  (AP) @[ IoU=0.50:0.95 | area=medium | maxDets=100 ] = 0.624\n",
      " Average Precision  (AP) @[ IoU=0.50:0.95 | area= large | maxDets=100 ] = 0.463\n",
      " Average Recall     (AR) @[ IoU=0.50:0.95 | area=   all | maxDets=  1 ] = 0.403\n",
      " Average Recall     (AR) @[ IoU=0.50:0.95 | area=   all | maxDets= 10 ] = 0.681\n",
      " Average Recall     (AR) @[ IoU=0.50:0.95 | area=   all | maxDets=100 ] = 0.786\n",
      " Average Recall     (AR) @[ IoU=0.50:0.95 | area= small | maxDets=100 ] = 0.780\n",
      " Average Recall     (AR) @[ IoU=0.50:0.95 | area=medium | maxDets=100 ] = 0.787\n",
      " Average Recall     (AR) @[ IoU=0.50:0.95 | area= large | maxDets=100 ] = 0.786\n",
      " Average Recall     (AR) @[ IoU=0.50      | area=   all | maxDets=100 ] = 0.998\n",
      " Average Recall     (AR) @[ IoU=0.75      | area=   all | maxDets=100 ] = 0.949\n"
     ]
    },
    {
     "name": "stderr",
     "output_type": "stream",
     "text": [
      "Epoch 70: 100%|██████████| 15/15 [00:07<00:00,  2.05it/s, loss=22.2189]\n",
      "\u001b[32m2025-03-10 18:26:10.278\u001b[0m | \u001b[1mINFO    \u001b[0m | \u001b[36mdeimkit.trainer\u001b[0m:\u001b[36mevaluate\u001b[0m:\u001b[36m332\u001b[0m - \u001b[1mEvaluating model...\u001b[0m\n"
     ]
    },
    {
     "name": "stdout",
     "output_type": "stream",
     "text": [
      "Averaged stats: lr: 0.000103  loss: 21.7919 (21.8682)  loss_mal: 0.9360 (0.9358)  loss_bbox: 0.1731 (0.1781)  loss_giou: 0.3677 (0.3705)  loss_fgl: 1.1657 (1.1649)  loss_mal_aux_0: 0.9561 (0.9572)  loss_bbox_aux_0: 0.1940 (0.1933)  loss_giou_aux_0: 0.3926 (0.3987)  loss_fgl_aux_0: 1.1911 (1.1933)  loss_ddf_aux_0: 0.1045 (0.1073)  loss_mal_aux_1: 0.9424 (0.9451)  loss_bbox_aux_1: 0.1754 (0.1795)  loss_giou_aux_1: 0.3706 (0.3721)  loss_fgl_aux_1: 1.1667 (1.1672)  loss_ddf_aux_1: 0.0050 (0.0052)  loss_mal_pre: 0.9531 (0.9555)  loss_bbox_pre: 0.1944 (0.1930)  loss_giou_pre: 0.3927 (0.3985)  loss_mal_enc_0: 1.0068 (1.0173)  loss_bbox_enc_0: 0.2529 (0.2514)  loss_giou_enc_0: 0.4951 (0.4958)  loss_mal_dn_0: 0.7715 (0.7702)  loss_bbox_dn_0: 0.3007 (0.3061)  loss_giou_dn_0: 0.6095 (0.6118)  loss_fgl_dn_0: 1.2133 (1.2137)  loss_ddf_dn_0: 0.6431 (0.6765)  loss_mal_dn_1: 0.7441 (0.7431)  loss_bbox_dn_1: 0.2180 (0.2322)  loss_giou_dn_1: 0.4618 (0.4600)  loss_fgl_dn_1: 1.1302 (1.1275)  loss_ddf_dn_1: 0.0303 (0.0311)  loss_mal_dn_2: 0.7363 (0.7341)  loss_bbox_dn_2: 0.2121 (0.2230)  loss_giou_dn_2: 0.4463 (0.4459)  loss_fgl_dn_2: 1.1266 (1.1242)  loss_mal_dn_pre: 0.7710 (0.7691)  loss_bbox_dn_pre: 0.3050 (0.3080)  loss_giou_dn_pre: 0.6105 (0.6120)\n"
     ]
    },
    {
     "name": "stderr",
     "output_type": "stream",
     "text": [
      "Evaluating: 100%|██████████| 5/5 [00:01<00:00,  3.75it/s]\n",
      "\u001b[32m2025-03-10 18:26:11.642\u001b[0m | \u001b[1mINFO    \u001b[0m | \u001b[36mdeimkit.trainer\u001b[0m:\u001b[36mtrain\u001b[0m:\u001b[36m313\u001b[0m - \u001b[1mEpoch 70 - Train loss: 21.8682, Eval mAP: 0.6014\u001b[0m\n",
      "\u001b[32m2025-03-10 18:26:11.643\u001b[0m | \u001b[1mINFO    \u001b[0m | \u001b[36mdeimkit.trainer\u001b[0m:\u001b[36mtrain\u001b[0m:\u001b[36m316\u001b[0m - \u001b[1mBest stats: {'epoch': 68, 'coco_eval_bbox': 0.6206295307906283}\u001b[0m\n",
      "\u001b[32m2025-03-10 18:26:11.643\u001b[0m | \u001b[1mINFO    \u001b[0m | \u001b[36mdeimkit.trainer\u001b[0m:\u001b[36mtrain\u001b[0m:\u001b[36m224\u001b[0m - \u001b[1mEpoch 71/80\u001b[0m\n"
     ]
    },
    {
     "name": "stdout",
     "output_type": "stream",
     "text": [
      "Averaged stats: \n",
      "Accumulating evaluation results...\n",
      "COCOeval_opt.accumulate() finished...\n",
      "DONE (t=0.02s).\n",
      "IoU metric: bbox\n",
      " Average Precision  (AP) @[ IoU=0.50:0.95 | area=   all | maxDets=100 ] = 0.601\n",
      " Average Precision  (AP) @[ IoU=0.50      | area=   all | maxDets=100 ] = 0.870\n",
      " Average Precision  (AP) @[ IoU=0.75      | area=   all | maxDets=100 ] = 0.686\n",
      " Average Precision  (AP) @[ IoU=0.50:0.95 | area= small | maxDets=100 ] = 0.464\n",
      " Average Precision  (AP) @[ IoU=0.50:0.95 | area=medium | maxDets=100 ] = 0.610\n",
      " Average Precision  (AP) @[ IoU=0.50:0.95 | area= large | maxDets=100 ] = 0.471\n",
      " Average Recall     (AR) @[ IoU=0.50:0.95 | area=   all | maxDets=  1 ] = 0.402\n",
      " Average Recall     (AR) @[ IoU=0.50:0.95 | area=   all | maxDets= 10 ] = 0.671\n",
      " Average Recall     (AR) @[ IoU=0.50:0.95 | area=   all | maxDets=100 ] = 0.779\n",
      " Average Recall     (AR) @[ IoU=0.50:0.95 | area= small | maxDets=100 ] = 0.780\n",
      " Average Recall     (AR) @[ IoU=0.50:0.95 | area=medium | maxDets=100 ] = 0.792\n",
      " Average Recall     (AR) @[ IoU=0.50:0.95 | area= large | maxDets=100 ] = 0.778\n",
      " Average Recall     (AR) @[ IoU=0.50      | area=   all | maxDets=100 ] = 0.998\n",
      " Average Recall     (AR) @[ IoU=0.75      | area=   all | maxDets=100 ] = 0.911\n"
     ]
    },
    {
     "name": "stderr",
     "output_type": "stream",
     "text": [
      "Epoch 71: 100%|██████████| 15/15 [00:06<00:00,  2.17it/s, loss=22.0977]\n",
      "\u001b[32m2025-03-10 18:26:18.555\u001b[0m | \u001b[1mINFO    \u001b[0m | \u001b[36mdeimkit.trainer\u001b[0m:\u001b[36m_save_checkpoint\u001b[0m:\u001b[36m364\u001b[0m - \u001b[1mSaving checkpoint to outputs/deim_hgnetv2_s_80e/checkpoint0071.pth\u001b[0m\n"
     ]
    },
    {
     "name": "stdout",
     "output_type": "stream",
     "text": [
      "Averaged stats: lr: 0.000102  loss: 21.7470 (21.6739)  loss_mal: 0.9023 (0.9273)  loss_bbox: 0.1794 (0.1773)  loss_giou: 0.3499 (0.3530)  loss_fgl: 1.1750 (1.1704)  loss_mal_aux_0: 0.9302 (0.9437)  loss_bbox_aux_0: 0.1996 (0.1988)  loss_giou_aux_0: 0.3764 (0.3832)  loss_fgl_aux_0: 1.1978 (1.2012)  loss_ddf_aux_0: 0.0890 (0.0936)  loss_mal_aux_1: 0.9092 (0.9308)  loss_bbox_aux_1: 0.1836 (0.1794)  loss_giou_aux_1: 0.3515 (0.3554)  loss_fgl_aux_1: 1.1765 (1.1734)  loss_ddf_aux_1: 0.0048 (0.0049)  loss_mal_pre: 0.9302 (0.9420)  loss_bbox_pre: 0.1998 (0.1986)  loss_giou_pre: 0.3742 (0.3828)  loss_mal_enc_0: 1.0332 (1.0447)  loss_bbox_enc_0: 0.2474 (0.2541)  loss_giou_enc_0: 0.4635 (0.4722)  loss_mal_dn_0: 0.7749 (0.7730)  loss_bbox_dn_0: 0.3062 (0.3002)  loss_giou_dn_0: 0.5755 (0.5784)  loss_fgl_dn_0: 1.2196 (1.2193)  loss_ddf_dn_0: 0.6858 (0.6910)  loss_mal_dn_1: 0.7485 (0.7484)  loss_bbox_dn_1: 0.2271 (0.2235)  loss_giou_dn_1: 0.4254 (0.4337)  loss_fgl_dn_1: 1.1337 (1.1340)  loss_ddf_dn_1: 0.0313 (0.0313)  loss_mal_dn_2: 0.7383 (0.7376)  loss_bbox_dn_2: 0.2152 (0.2137)  loss_giou_dn_2: 0.4155 (0.4217)  loss_fgl_dn_2: 1.1305 (1.1284)  loss_mal_dn_pre: 0.7739 (0.7725)  loss_bbox_dn_pre: 0.3092 (0.3019)  loss_giou_dn_pre: 0.5776 (0.5783)\n"
     ]
    },
    {
     "name": "stderr",
     "output_type": "stream",
     "text": [
      "\u001b[32m2025-03-10 18:26:18.823\u001b[0m | \u001b[1mINFO    \u001b[0m | \u001b[36mdeimkit.trainer\u001b[0m:\u001b[36m_save_checkpoint\u001b[0m:\u001b[36m381\u001b[0m - \u001b[1mCheckpoint saved to outputs/deim_hgnetv2_s_80e/checkpoint0071.pth\u001b[0m\n",
      "\u001b[32m2025-03-10 18:26:18.824\u001b[0m | \u001b[1mINFO    \u001b[0m | \u001b[36mdeimkit.trainer\u001b[0m:\u001b[36mevaluate\u001b[0m:\u001b[36m332\u001b[0m - \u001b[1mEvaluating model...\u001b[0m\n",
      "Evaluating: 100%|██████████| 5/5 [00:01<00:00,  3.91it/s]\n",
      "\u001b[32m2025-03-10 18:26:20.134\u001b[0m | \u001b[1mINFO    \u001b[0m | \u001b[36mdeimkit.trainer\u001b[0m:\u001b[36mtrain\u001b[0m:\u001b[36m313\u001b[0m - \u001b[1mEpoch 71 - Train loss: 21.6739, Eval mAP: 0.6155\u001b[0m\n",
      "\u001b[32m2025-03-10 18:26:20.134\u001b[0m | \u001b[1mINFO    \u001b[0m | \u001b[36mdeimkit.trainer\u001b[0m:\u001b[36mtrain\u001b[0m:\u001b[36m316\u001b[0m - \u001b[1mBest stats: {'epoch': 68, 'coco_eval_bbox': 0.6206295307906283}\u001b[0m\n",
      "\u001b[32m2025-03-10 18:26:20.135\u001b[0m | \u001b[1mINFO    \u001b[0m | \u001b[36mdeimkit.trainer\u001b[0m:\u001b[36mtrain\u001b[0m:\u001b[36m224\u001b[0m - \u001b[1mEpoch 72/80\u001b[0m\n"
     ]
    },
    {
     "name": "stdout",
     "output_type": "stream",
     "text": [
      "Averaged stats: \n",
      "Accumulating evaluation results...\n",
      "COCOeval_opt.accumulate() finished...\n",
      "DONE (t=0.02s).\n",
      "IoU metric: bbox\n",
      " Average Precision  (AP) @[ IoU=0.50:0.95 | area=   all | maxDets=100 ] = 0.615\n",
      " Average Precision  (AP) @[ IoU=0.50      | area=   all | maxDets=100 ] = 0.878\n",
      " Average Precision  (AP) @[ IoU=0.75      | area=   all | maxDets=100 ] = 0.741\n",
      " Average Precision  (AP) @[ IoU=0.50:0.95 | area= small | maxDets=100 ] = 0.542\n",
      " Average Precision  (AP) @[ IoU=0.50:0.95 | area=medium | maxDets=100 ] = 0.635\n",
      " Average Precision  (AP) @[ IoU=0.50:0.95 | area= large | maxDets=100 ] = 0.466\n",
      " Average Recall     (AR) @[ IoU=0.50:0.95 | area=   all | maxDets=  1 ] = 0.403\n",
      " Average Recall     (AR) @[ IoU=0.50:0.95 | area=   all | maxDets= 10 ] = 0.675\n",
      " Average Recall     (AR) @[ IoU=0.50:0.95 | area=   all | maxDets=100 ] = 0.781\n",
      " Average Recall     (AR) @[ IoU=0.50:0.95 | area= small | maxDets=100 ] = 0.740\n",
      " Average Recall     (AR) @[ IoU=0.50:0.95 | area=medium | maxDets=100 ] = 0.786\n",
      " Average Recall     (AR) @[ IoU=0.50:0.95 | area= large | maxDets=100 ] = 0.779\n",
      " Average Recall     (AR) @[ IoU=0.50      | area=   all | maxDets=100 ] = 0.998\n",
      " Average Recall     (AR) @[ IoU=0.75      | area=   all | maxDets=100 ] = 0.934\n"
     ]
    },
    {
     "name": "stderr",
     "output_type": "stream",
     "text": [
      "Epoch 72: 100%|██████████| 15/15 [00:07<00:00,  1.95it/s, loss=21.1763]\n",
      "\u001b[32m2025-03-10 18:26:27.840\u001b[0m | \u001b[1mINFO    \u001b[0m | \u001b[36mdeimkit.trainer\u001b[0m:\u001b[36mevaluate\u001b[0m:\u001b[36m332\u001b[0m - \u001b[1mEvaluating model...\u001b[0m\n"
     ]
    },
    {
     "name": "stdout",
     "output_type": "stream",
     "text": [
      "Averaged stats: lr: 0.000101  loss: 21.7087 (21.7055)  loss_mal: 0.9082 (0.9111)  loss_bbox: 0.1675 (0.1726)  loss_giou: 0.3650 (0.3658)  loss_fgl: 1.1740 (1.1700)  loss_mal_aux_0: 0.9360 (0.9438)  loss_bbox_aux_0: 0.1839 (0.1908)  loss_giou_aux_0: 0.4019 (0.3968)  loss_fgl_aux_0: 1.2003 (1.1999)  loss_ddf_aux_0: 0.1029 (0.1063)  loss_mal_aux_1: 0.9155 (0.9182)  loss_bbox_aux_1: 0.1707 (0.1749)  loss_giou_aux_1: 0.3653 (0.3682)  loss_fgl_aux_1: 1.1770 (1.1739)  loss_ddf_aux_1: 0.0057 (0.0060)  loss_mal_pre: 0.9434 (0.9432)  loss_bbox_pre: 0.1838 (0.1907)  loss_giou_pre: 0.4025 (0.3966)  loss_mal_enc_0: 1.0215 (1.0218)  loss_bbox_enc_0: 0.2416 (0.2642)  loss_giou_enc_0: 0.4769 (0.5216)  loss_mal_dn_0: 0.7695 (0.7690)  loss_bbox_dn_0: 0.2921 (0.2882)  loss_giou_dn_0: 0.5854 (0.5871)  loss_fgl_dn_0: 1.2181 (1.2219)  loss_ddf_dn_0: 0.7165 (0.6954)  loss_mal_dn_1: 0.7466 (0.7454)  loss_bbox_dn_1: 0.2185 (0.2132)  loss_giou_dn_1: 0.4284 (0.4362)  loss_fgl_dn_1: 1.1377 (1.1367)  loss_ddf_dn_1: 0.0335 (0.0338)  loss_mal_dn_2: 0.7319 (0.7336)  loss_bbox_dn_2: 0.2081 (0.2060)  loss_giou_dn_2: 0.4122 (0.4242)  loss_fgl_dn_2: 1.1330 (1.1317)  loss_mal_dn_pre: 0.7695 (0.7685)  loss_bbox_dn_pre: 0.2904 (0.2903)  loss_giou_dn_pre: 0.5891 (0.5878)\n"
     ]
    },
    {
     "name": "stderr",
     "output_type": "stream",
     "text": [
      "Evaluating: 100%|██████████| 5/5 [00:01<00:00,  3.86it/s]\n",
      "\u001b[32m2025-03-10 18:26:29.166\u001b[0m | \u001b[1mINFO    \u001b[0m | \u001b[36mdeimkit.trainer\u001b[0m:\u001b[36m_save_checkpoint\u001b[0m:\u001b[36m364\u001b[0m - \u001b[1mSaving checkpoint to outputs/deim_hgnetv2_s_80e/best.pth\u001b[0m\n"
     ]
    },
    {
     "name": "stdout",
     "output_type": "stream",
     "text": [
      "Averaged stats: \n",
      "Accumulating evaluation results...\n",
      "COCOeval_opt.accumulate() finished...\n",
      "DONE (t=0.02s).\n",
      "IoU metric: bbox\n",
      " Average Precision  (AP) @[ IoU=0.50:0.95 | area=   all | maxDets=100 ] = 0.625\n",
      " Average Precision  (AP) @[ IoU=0.50      | area=   all | maxDets=100 ] = 0.900\n",
      " Average Precision  (AP) @[ IoU=0.75      | area=   all | maxDets=100 ] = 0.715\n",
      " Average Precision  (AP) @[ IoU=0.50:0.95 | area= small | maxDets=100 ] = 0.528\n",
      " Average Precision  (AP) @[ IoU=0.50:0.95 | area=medium | maxDets=100 ] = 0.636\n",
      " Average Precision  (AP) @[ IoU=0.50:0.95 | area= large | maxDets=100 ] = 0.477\n",
      " Average Recall     (AR) @[ IoU=0.50:0.95 | area=   all | maxDets=  1 ] = 0.408\n",
      " Average Recall     (AR) @[ IoU=0.50:0.95 | area=   all | maxDets= 10 ] = 0.678\n",
      " Average Recall     (AR) @[ IoU=0.50:0.95 | area=   all | maxDets=100 ] = 0.777\n",
      " Average Recall     (AR) @[ IoU=0.50:0.95 | area= small | maxDets=100 ] = 0.760\n",
      " Average Recall     (AR) @[ IoU=0.50:0.95 | area=medium | maxDets=100 ] = 0.779\n",
      " Average Recall     (AR) @[ IoU=0.50:0.95 | area= large | maxDets=100 ] = 0.784\n",
      " Average Recall     (AR) @[ IoU=0.50      | area=   all | maxDets=100 ] = 0.998\n",
      " Average Recall     (AR) @[ IoU=0.75      | area=   all | maxDets=100 ] = 0.924\n"
     ]
    },
    {
     "name": "stderr",
     "output_type": "stream",
     "text": [
      "\u001b[32m2025-03-10 18:26:29.583\u001b[0m | \u001b[1mINFO    \u001b[0m | \u001b[36mdeimkit.trainer\u001b[0m:\u001b[36m_save_checkpoint\u001b[0m:\u001b[36m381\u001b[0m - \u001b[1mCheckpoint saved to outputs/deim_hgnetv2_s_80e/best.pth\u001b[0m\n",
      "\u001b[32m2025-03-10 18:26:29.585\u001b[0m | \u001b[1mINFO    \u001b[0m | \u001b[36mdeimkit.trainer\u001b[0m:\u001b[36mtrain\u001b[0m:\u001b[36m313\u001b[0m - \u001b[1mEpoch 72 - Train loss: 21.7055, Eval mAP: 0.6253\u001b[0m\n",
      "\u001b[32m2025-03-10 18:26:29.585\u001b[0m | \u001b[1mINFO    \u001b[0m | \u001b[36mdeimkit.trainer\u001b[0m:\u001b[36mtrain\u001b[0m:\u001b[36m316\u001b[0m - \u001b[1mBest stats: {'epoch': 72, 'coco_eval_bbox': 0.6252545820153993}\u001b[0m\n",
      "\u001b[32m2025-03-10 18:26:29.586\u001b[0m | \u001b[1mINFO    \u001b[0m | \u001b[36mdeimkit.trainer\u001b[0m:\u001b[36mtrain\u001b[0m:\u001b[36m224\u001b[0m - \u001b[1mEpoch 73/80\u001b[0m\n",
      "Epoch 73: 100%|██████████| 15/15 [00:07<00:00,  2.00it/s, loss=21.7675]\n",
      "\u001b[32m2025-03-10 18:26:37.102\u001b[0m | \u001b[1mINFO    \u001b[0m | \u001b[36mdeimkit.trainer\u001b[0m:\u001b[36mevaluate\u001b[0m:\u001b[36m332\u001b[0m - \u001b[1mEvaluating model...\u001b[0m\n"
     ]
    },
    {
     "name": "stdout",
     "output_type": "stream",
     "text": [
      "Averaged stats: lr: 0.000100  loss: 21.7675 (21.6630)  loss_mal: 0.9072 (0.9193)  loss_bbox: 0.1764 (0.1794)  loss_giou: 0.3516 (0.3561)  loss_fgl: 1.1671 (1.1640)  loss_mal_aux_0: 0.9126 (0.9437)  loss_bbox_aux_0: 0.2020 (0.1988)  loss_giou_aux_0: 0.3706 (0.3873)  loss_fgl_aux_0: 1.1956 (1.1963)  loss_ddf_aux_0: 0.0975 (0.1033)  loss_mal_aux_1: 0.9014 (0.9343)  loss_bbox_aux_1: 0.1785 (0.1815)  loss_giou_aux_1: 0.3527 (0.3589)  loss_fgl_aux_1: 1.1703 (1.1676)  loss_ddf_aux_1: 0.0058 (0.0059)  loss_mal_pre: 0.9009 (0.9429)  loss_bbox_pre: 0.2015 (0.1984)  loss_giou_pre: 0.3694 (0.3863)  loss_mal_enc_0: 1.0010 (1.0142)  loss_bbox_enc_0: 0.2414 (0.2632)  loss_giou_enc_0: 0.4673 (0.4949)  loss_mal_dn_0: 0.7710 (0.7743)  loss_bbox_dn_0: 0.3052 (0.2997)  loss_giou_dn_0: 0.5667 (0.5817)  loss_fgl_dn_0: 1.2101 (1.2157)  loss_ddf_dn_0: 0.6724 (0.6900)  loss_mal_dn_1: 0.7446 (0.7447)  loss_bbox_dn_1: 0.2186 (0.2233)  loss_giou_dn_1: 0.4272 (0.4331)  loss_fgl_dn_1: 1.1278 (1.1261)  loss_ddf_dn_1: 0.0327 (0.0321)  loss_mal_dn_2: 0.7305 (0.7342)  loss_bbox_dn_2: 0.2105 (0.2145)  loss_giou_dn_2: 0.4178 (0.4212)  loss_fgl_dn_2: 1.1264 (1.1211)  loss_mal_dn_pre: 0.7700 (0.7733)  loss_bbox_dn_pre: 0.3080 (0.3012)  loss_giou_dn_pre: 0.5579 (0.5803)\n"
     ]
    },
    {
     "name": "stderr",
     "output_type": "stream",
     "text": [
      "Evaluating: 100%|██████████| 5/5 [00:01<00:00,  3.66it/s]\n",
      "\u001b[32m2025-03-10 18:26:38.498\u001b[0m | \u001b[1mINFO    \u001b[0m | \u001b[36mdeimkit.trainer\u001b[0m:\u001b[36mtrain\u001b[0m:\u001b[36m313\u001b[0m - \u001b[1mEpoch 73 - Train loss: 21.6630, Eval mAP: 0.6198\u001b[0m\n",
      "\u001b[32m2025-03-10 18:26:38.499\u001b[0m | \u001b[1mINFO    \u001b[0m | \u001b[36mdeimkit.trainer\u001b[0m:\u001b[36mtrain\u001b[0m:\u001b[36m316\u001b[0m - \u001b[1mBest stats: {'epoch': 72, 'coco_eval_bbox': 0.6252545820153993}\u001b[0m\n",
      "\u001b[32m2025-03-10 18:26:38.499\u001b[0m | \u001b[1mINFO    \u001b[0m | \u001b[36mdeimkit.trainer\u001b[0m:\u001b[36mtrain\u001b[0m:\u001b[36m224\u001b[0m - \u001b[1mEpoch 74/80\u001b[0m\n"
     ]
    },
    {
     "name": "stdout",
     "output_type": "stream",
     "text": [
      "Averaged stats: \n",
      "Accumulating evaluation results...\n",
      "COCOeval_opt.accumulate() finished...\n",
      "DONE (t=0.02s).\n",
      "IoU metric: bbox\n",
      " Average Precision  (AP) @[ IoU=0.50:0.95 | area=   all | maxDets=100 ] = 0.620\n",
      " Average Precision  (AP) @[ IoU=0.50      | area=   all | maxDets=100 ] = 0.880\n",
      " Average Precision  (AP) @[ IoU=0.75      | area=   all | maxDets=100 ] = 0.724\n",
      " Average Precision  (AP) @[ IoU=0.50:0.95 | area= small | maxDets=100 ] = 0.374\n",
      " Average Precision  (AP) @[ IoU=0.50:0.95 | area=medium | maxDets=100 ] = 0.630\n",
      " Average Precision  (AP) @[ IoU=0.50:0.95 | area= large | maxDets=100 ] = 0.478\n",
      " Average Recall     (AR) @[ IoU=0.50:0.95 | area=   all | maxDets=  1 ] = 0.414\n",
      " Average Recall     (AR) @[ IoU=0.50:0.95 | area=   all | maxDets= 10 ] = 0.682\n",
      " Average Recall     (AR) @[ IoU=0.50:0.95 | area=   all | maxDets=100 ] = 0.780\n",
      " Average Recall     (AR) @[ IoU=0.50:0.95 | area= small | maxDets=100 ] = 0.720\n",
      " Average Recall     (AR) @[ IoU=0.50:0.95 | area=medium | maxDets=100 ] = 0.791\n",
      " Average Recall     (AR) @[ IoU=0.50:0.95 | area= large | maxDets=100 ] = 0.780\n",
      " Average Recall     (AR) @[ IoU=0.50      | area=   all | maxDets=100 ] = 0.999\n",
      " Average Recall     (AR) @[ IoU=0.75      | area=   all | maxDets=100 ] = 0.935\n"
     ]
    },
    {
     "name": "stderr",
     "output_type": "stream",
     "text": [
      "Epoch 74: 100%|██████████| 15/15 [00:07<00:00,  2.10it/s, loss=22.5019]\n",
      "\u001b[32m2025-03-10 18:26:45.641\u001b[0m | \u001b[1mINFO    \u001b[0m | \u001b[36mdeimkit.trainer\u001b[0m:\u001b[36mevaluate\u001b[0m:\u001b[36m332\u001b[0m - \u001b[1mEvaluating model...\u001b[0m\n"
     ]
    },
    {
     "name": "stdout",
     "output_type": "stream",
     "text": [
      "Averaged stats: lr: 0.000100  loss: 21.4398 (21.5600)  loss_mal: 0.8965 (0.9160)  loss_bbox: 0.1782 (0.1799)  loss_giou: 0.3412 (0.3505)  loss_fgl: 1.1614 (1.1613)  loss_mal_aux_0: 0.9268 (0.9551)  loss_bbox_aux_0: 0.1963 (0.1981)  loss_giou_aux_0: 0.3756 (0.3819)  loss_fgl_aux_0: 1.1996 (1.1947)  loss_ddf_aux_0: 0.0956 (0.1005)  loss_mal_aux_1: 0.8882 (0.9252)  loss_bbox_aux_1: 0.1803 (0.1816)  loss_giou_aux_1: 0.3438 (0.3527)  loss_fgl_aux_1: 1.1638 (1.1641)  loss_ddf_aux_1: 0.0058 (0.0059)  loss_mal_pre: 0.9209 (0.9528)  loss_bbox_pre: 0.1957 (0.1977)  loss_giou_pre: 0.3750 (0.3813)  loss_mal_enc_0: 1.0293 (1.0378)  loss_bbox_enc_0: 0.2413 (0.2524)  loss_giou_enc_0: 0.4399 (0.4683)  loss_mal_dn_0: 0.7656 (0.7649)  loss_bbox_dn_0: 0.2949 (0.2985)  loss_giou_dn_0: 0.5674 (0.5737)  loss_fgl_dn_0: 1.2151 (1.2213)  loss_ddf_dn_0: 0.6399 (0.6603)  loss_mal_dn_1: 0.7388 (0.7358)  loss_bbox_dn_1: 0.2237 (0.2270)  loss_giou_dn_1: 0.4284 (0.4310)  loss_fgl_dn_1: 1.1371 (1.1311)  loss_ddf_dn_1: 0.0283 (0.0290)  loss_mal_dn_2: 0.7227 (0.7251)  loss_bbox_dn_2: 0.2164 (0.2188)  loss_giou_dn_2: 0.4193 (0.4186)  loss_fgl_dn_2: 1.1284 (1.1266)  loss_mal_dn_pre: 0.7642 (0.7644)  loss_bbox_dn_pre: 0.2964 (0.3008)  loss_giou_dn_pre: 0.5702 (0.5754)\n"
     ]
    },
    {
     "name": "stderr",
     "output_type": "stream",
     "text": [
      "Evaluating: 100%|██████████| 5/5 [00:01<00:00,  3.27it/s]\n",
      "\u001b[32m2025-03-10 18:26:47.201\u001b[0m | \u001b[1mINFO    \u001b[0m | \u001b[36mdeimkit.trainer\u001b[0m:\u001b[36mtrain\u001b[0m:\u001b[36m313\u001b[0m - \u001b[1mEpoch 74 - Train loss: 21.5600, Eval mAP: 0.6230\u001b[0m\n",
      "\u001b[32m2025-03-10 18:26:47.202\u001b[0m | \u001b[1mINFO    \u001b[0m | \u001b[36mdeimkit.trainer\u001b[0m:\u001b[36mtrain\u001b[0m:\u001b[36m316\u001b[0m - \u001b[1mBest stats: {'epoch': 72, 'coco_eval_bbox': 0.6252545820153993}\u001b[0m\n",
      "\u001b[32m2025-03-10 18:26:47.202\u001b[0m | \u001b[1mINFO    \u001b[0m | \u001b[36mdeimkit.trainer\u001b[0m:\u001b[36mtrain\u001b[0m:\u001b[36m224\u001b[0m - \u001b[1mEpoch 75/80\u001b[0m\n"
     ]
    },
    {
     "name": "stdout",
     "output_type": "stream",
     "text": [
      "Averaged stats: \n",
      "Accumulating evaluation results...\n",
      "COCOeval_opt.accumulate() finished...\n",
      "DONE (t=0.02s).\n",
      "IoU metric: bbox\n",
      " Average Precision  (AP) @[ IoU=0.50:0.95 | area=   all | maxDets=100 ] = 0.623\n",
      " Average Precision  (AP) @[ IoU=0.50      | area=   all | maxDets=100 ] = 0.887\n",
      " Average Precision  (AP) @[ IoU=0.75      | area=   all | maxDets=100 ] = 0.743\n",
      " Average Precision  (AP) @[ IoU=0.50:0.95 | area= small | maxDets=100 ] = 0.462\n",
      " Average Precision  (AP) @[ IoU=0.50:0.95 | area=medium | maxDets=100 ] = 0.602\n",
      " Average Precision  (AP) @[ IoU=0.50:0.95 | area= large | maxDets=100 ] = 0.477\n",
      " Average Recall     (AR) @[ IoU=0.50:0.95 | area=   all | maxDets=  1 ] = 0.403\n",
      " Average Recall     (AR) @[ IoU=0.50:0.95 | area=   all | maxDets= 10 ] = 0.677\n",
      " Average Recall     (AR) @[ IoU=0.50:0.95 | area=   all | maxDets=100 ] = 0.784\n",
      " Average Recall     (AR) @[ IoU=0.50:0.95 | area= small | maxDets=100 ] = 0.740\n",
      " Average Recall     (AR) @[ IoU=0.50:0.95 | area=medium | maxDets=100 ] = 0.757\n",
      " Average Recall     (AR) @[ IoU=0.50:0.95 | area= large | maxDets=100 ] = 0.784\n",
      " Average Recall     (AR) @[ IoU=0.50      | area=   all | maxDets=100 ] = 0.999\n",
      " Average Recall     (AR) @[ IoU=0.75      | area=   all | maxDets=100 ] = 0.944\n"
     ]
    },
    {
     "name": "stderr",
     "output_type": "stream",
     "text": [
      "Epoch 75: 100%|██████████| 15/15 [00:06<00:00,  2.15it/s, loss=21.7203]\n",
      "\u001b[32m2025-03-10 18:26:54.179\u001b[0m | \u001b[1mINFO    \u001b[0m | \u001b[36mdeimkit.trainer\u001b[0m:\u001b[36m_save_checkpoint\u001b[0m:\u001b[36m364\u001b[0m - \u001b[1mSaving checkpoint to outputs/deim_hgnetv2_s_80e/checkpoint0075.pth\u001b[0m\n"
     ]
    },
    {
     "name": "stdout",
     "output_type": "stream",
     "text": [
      "Averaged stats: lr: 0.000100  loss: 21.3902 (21.4516)  loss_mal: 0.8882 (0.9177)  loss_bbox: 0.1804 (0.1755)  loss_giou: 0.3571 (0.3496)  loss_fgl: 1.1612 (1.1615)  loss_mal_aux_0: 0.9165 (0.9262)  loss_bbox_aux_0: 0.1943 (0.1935)  loss_giou_aux_0: 0.3881 (0.3802)  loss_fgl_aux_0: 1.1924 (1.1920)  loss_ddf_aux_0: 0.0978 (0.0991)  loss_mal_aux_1: 0.8989 (0.9201)  loss_bbox_aux_1: 0.1821 (0.1776)  loss_giou_aux_1: 0.3574 (0.3514)  loss_fgl_aux_1: 1.1636 (1.1639)  loss_ddf_aux_1: 0.0061 (0.0062)  loss_mal_pre: 0.9146 (0.9251)  loss_bbox_pre: 0.1935 (0.1937)  loss_giou_pre: 0.3903 (0.3804)  loss_mal_enc_0: 0.9912 (1.0063)  loss_bbox_enc_0: 0.2319 (0.2390)  loss_giou_enc_0: 0.4560 (0.4574)  loss_mal_dn_0: 0.7656 (0.7689)  loss_bbox_dn_0: 0.3147 (0.2968)  loss_giou_dn_0: 0.5778 (0.5739)  loss_fgl_dn_0: 1.2154 (1.2198)  loss_ddf_dn_0: 0.6823 (0.7028)  loss_mal_dn_1: 0.7393 (0.7424)  loss_bbox_dn_1: 0.2370 (0.2216)  loss_giou_dn_1: 0.4320 (0.4277)  loss_fgl_dn_1: 1.1319 (1.1271)  loss_ddf_dn_1: 0.0307 (0.0313)  loss_mal_dn_2: 0.7324 (0.7305)  loss_bbox_dn_2: 0.2232 (0.2134)  loss_giou_dn_2: 0.4220 (0.4166)  loss_fgl_dn_2: 1.1269 (1.1229)  loss_mal_dn_pre: 0.7651 (0.7682)  loss_bbox_dn_pre: 0.3135 (0.2973)  loss_giou_dn_pre: 0.5715 (0.5737)\n"
     ]
    },
    {
     "name": "stderr",
     "output_type": "stream",
     "text": [
      "\u001b[32m2025-03-10 18:26:54.449\u001b[0m | \u001b[1mINFO    \u001b[0m | \u001b[36mdeimkit.trainer\u001b[0m:\u001b[36m_save_checkpoint\u001b[0m:\u001b[36m381\u001b[0m - \u001b[1mCheckpoint saved to outputs/deim_hgnetv2_s_80e/checkpoint0075.pth\u001b[0m\n",
      "\u001b[32m2025-03-10 18:26:54.451\u001b[0m | \u001b[1mINFO    \u001b[0m | \u001b[36mdeimkit.trainer\u001b[0m:\u001b[36mevaluate\u001b[0m:\u001b[36m332\u001b[0m - \u001b[1mEvaluating model...\u001b[0m\n",
      "Evaluating: 100%|██████████| 5/5 [00:01<00:00,  3.56it/s]\n",
      "\u001b[32m2025-03-10 18:26:55.882\u001b[0m | \u001b[1mINFO    \u001b[0m | \u001b[36mdeimkit.trainer\u001b[0m:\u001b[36mtrain\u001b[0m:\u001b[36m313\u001b[0m - \u001b[1mEpoch 75 - Train loss: 21.4516, Eval mAP: 0.6195\u001b[0m\n",
      "\u001b[32m2025-03-10 18:26:55.883\u001b[0m | \u001b[1mINFO    \u001b[0m | \u001b[36mdeimkit.trainer\u001b[0m:\u001b[36mtrain\u001b[0m:\u001b[36m316\u001b[0m - \u001b[1mBest stats: {'epoch': 72, 'coco_eval_bbox': 0.6252545820153993}\u001b[0m\n",
      "\u001b[32m2025-03-10 18:26:55.883\u001b[0m | \u001b[1mINFO    \u001b[0m | \u001b[36mdeimkit.trainer\u001b[0m:\u001b[36mtrain\u001b[0m:\u001b[36m224\u001b[0m - \u001b[1mEpoch 76/80\u001b[0m\n"
     ]
    },
    {
     "name": "stdout",
     "output_type": "stream",
     "text": [
      "Averaged stats: \n",
      "Accumulating evaluation results...\n",
      "COCOeval_opt.accumulate() finished...\n",
      "DONE (t=0.02s).\n",
      "IoU metric: bbox\n",
      " Average Precision  (AP) @[ IoU=0.50:0.95 | area=   all | maxDets=100 ] = 0.620\n",
      " Average Precision  (AP) @[ IoU=0.50      | area=   all | maxDets=100 ] = 0.883\n",
      " Average Precision  (AP) @[ IoU=0.75      | area=   all | maxDets=100 ] = 0.718\n",
      " Average Precision  (AP) @[ IoU=0.50:0.95 | area= small | maxDets=100 ] = 0.416\n",
      " Average Precision  (AP) @[ IoU=0.50:0.95 | area=medium | maxDets=100 ] = 0.603\n",
      " Average Precision  (AP) @[ IoU=0.50:0.95 | area= large | maxDets=100 ] = 0.478\n",
      " Average Recall     (AR) @[ IoU=0.50:0.95 | area=   all | maxDets=  1 ] = 0.409\n",
      " Average Recall     (AR) @[ IoU=0.50:0.95 | area=   all | maxDets= 10 ] = 0.683\n",
      " Average Recall     (AR) @[ IoU=0.50:0.95 | area=   all | maxDets=100 ] = 0.777\n",
      " Average Recall     (AR) @[ IoU=0.50:0.95 | area= small | maxDets=100 ] = 0.800\n",
      " Average Recall     (AR) @[ IoU=0.50:0.95 | area=medium | maxDets=100 ] = 0.747\n",
      " Average Recall     (AR) @[ IoU=0.50:0.95 | area= large | maxDets=100 ] = 0.782\n",
      " Average Recall     (AR) @[ IoU=0.50      | area=   all | maxDets=100 ] = 0.998\n",
      " Average Recall     (AR) @[ IoU=0.75      | area=   all | maxDets=100 ] = 0.937\n"
     ]
    },
    {
     "name": "stderr",
     "output_type": "stream",
     "text": [
      "Epoch 76: 100%|██████████| 15/15 [00:07<00:00,  2.12it/s, loss=21.5115]\n",
      "\u001b[32m2025-03-10 18:27:02.955\u001b[0m | \u001b[1mINFO    \u001b[0m | \u001b[36mdeimkit.trainer\u001b[0m:\u001b[36mevaluate\u001b[0m:\u001b[36m332\u001b[0m - \u001b[1mEvaluating model...\u001b[0m\n"
     ]
    },
    {
     "name": "stdout",
     "output_type": "stream",
     "text": [
      "Averaged stats: lr: 0.000100  loss: 21.2596 (21.3549)  loss_mal: 0.8916 (0.9203)  loss_bbox: 0.1612 (0.1619)  loss_giou: 0.3583 (0.3566)  loss_fgl: 1.1608 (1.1603)  loss_mal_aux_0: 0.9116 (0.9329)  loss_bbox_aux_0: 0.1741 (0.1769)  loss_giou_aux_0: 0.3820 (0.3854)  loss_fgl_aux_0: 1.1904 (1.1881)  loss_ddf_aux_0: 0.0977 (0.0997)  loss_mal_aux_1: 0.8955 (0.9207)  loss_bbox_aux_1: 0.1621 (0.1635)  loss_giou_aux_1: 0.3594 (0.3585)  loss_fgl_aux_1: 1.1630 (1.1625)  loss_ddf_aux_1: 0.0057 (0.0058)  loss_mal_pre: 0.9097 (0.9325)  loss_bbox_pre: 0.1749 (0.1769)  loss_giou_pre: 0.3816 (0.3852)  loss_mal_enc_0: 0.9731 (0.9995)  loss_bbox_enc_0: 0.2355 (0.2348)  loss_giou_enc_0: 0.4547 (0.4860)  loss_mal_dn_0: 0.7715 (0.7694)  loss_bbox_dn_0: 0.2730 (0.2750)  loss_giou_dn_0: 0.5673 (0.5744)  loss_fgl_dn_0: 1.2230 (1.2155)  loss_ddf_dn_0: 0.7006 (0.6925)  loss_mal_dn_1: 0.7402 (0.7407)  loss_bbox_dn_1: 0.1993 (0.2046)  loss_giou_dn_1: 0.4327 (0.4309)  loss_fgl_dn_1: 1.1252 (1.1242)  loss_ddf_dn_1: 0.0301 (0.0302)  loss_mal_dn_2: 0.7305 (0.7315)  loss_bbox_dn_2: 0.1910 (0.1974)  loss_giou_dn_2: 0.4228 (0.4198)  loss_fgl_dn_2: 1.1222 (1.1195)  loss_mal_dn_pre: 0.7710 (0.7688)  loss_bbox_dn_pre: 0.2767 (0.2771)  loss_giou_dn_pre: 0.5691 (0.5754)\n"
     ]
    },
    {
     "name": "stderr",
     "output_type": "stream",
     "text": [
      "Evaluating: 100%|██████████| 5/5 [00:01<00:00,  3.42it/s]\n",
      "\u001b[32m2025-03-10 18:27:04.446\u001b[0m | \u001b[1mINFO    \u001b[0m | \u001b[36mdeimkit.trainer\u001b[0m:\u001b[36mtrain\u001b[0m:\u001b[36m313\u001b[0m - \u001b[1mEpoch 76 - Train loss: 21.3549, Eval mAP: 0.6176\u001b[0m\n",
      "\u001b[32m2025-03-10 18:27:04.447\u001b[0m | \u001b[1mINFO    \u001b[0m | \u001b[36mdeimkit.trainer\u001b[0m:\u001b[36mtrain\u001b[0m:\u001b[36m316\u001b[0m - \u001b[1mBest stats: {'epoch': 72, 'coco_eval_bbox': 0.6252545820153993}\u001b[0m\n",
      "\u001b[32m2025-03-10 18:27:04.447\u001b[0m | \u001b[1mINFO    \u001b[0m | \u001b[36mdeimkit.trainer\u001b[0m:\u001b[36mtrain\u001b[0m:\u001b[36m224\u001b[0m - \u001b[1mEpoch 77/80\u001b[0m\n"
     ]
    },
    {
     "name": "stdout",
     "output_type": "stream",
     "text": [
      "Averaged stats: \n",
      "Accumulating evaluation results...\n",
      "COCOeval_opt.accumulate() finished...\n",
      "DONE (t=0.02s).\n",
      "IoU metric: bbox\n",
      " Average Precision  (AP) @[ IoU=0.50:0.95 | area=   all | maxDets=100 ] = 0.618\n",
      " Average Precision  (AP) @[ IoU=0.50      | area=   all | maxDets=100 ] = 0.885\n",
      " Average Precision  (AP) @[ IoU=0.75      | area=   all | maxDets=100 ] = 0.713\n",
      " Average Precision  (AP) @[ IoU=0.50:0.95 | area= small | maxDets=100 ] = 0.420\n",
      " Average Precision  (AP) @[ IoU=0.50:0.95 | area=medium | maxDets=100 ] = 0.639\n",
      " Average Precision  (AP) @[ IoU=0.50:0.95 | area= large | maxDets=100 ] = 0.466\n",
      " Average Recall     (AR) @[ IoU=0.50:0.95 | area=   all | maxDets=  1 ] = 0.405\n",
      " Average Recall     (AR) @[ IoU=0.50:0.95 | area=   all | maxDets= 10 ] = 0.671\n",
      " Average Recall     (AR) @[ IoU=0.50:0.95 | area=   all | maxDets=100 ] = 0.777\n",
      " Average Recall     (AR) @[ IoU=0.50:0.95 | area= small | maxDets=100 ] = 0.740\n",
      " Average Recall     (AR) @[ IoU=0.50:0.95 | area=medium | maxDets=100 ] = 0.778\n",
      " Average Recall     (AR) @[ IoU=0.50:0.95 | area= large | maxDets=100 ] = 0.781\n",
      " Average Recall     (AR) @[ IoU=0.50      | area=   all | maxDets=100 ] = 0.999\n",
      " Average Recall     (AR) @[ IoU=0.75      | area=   all | maxDets=100 ] = 0.926\n"
     ]
    },
    {
     "name": "stderr",
     "output_type": "stream",
     "text": [
      "Epoch 77: 100%|██████████| 15/15 [00:07<00:00,  2.06it/s, loss=21.5430]\n",
      "\u001b[32m2025-03-10 18:27:11.736\u001b[0m | \u001b[1mINFO    \u001b[0m | \u001b[36mdeimkit.trainer\u001b[0m:\u001b[36mevaluate\u001b[0m:\u001b[36m332\u001b[0m - \u001b[1mEvaluating model...\u001b[0m\n"
     ]
    },
    {
     "name": "stdout",
     "output_type": "stream",
     "text": [
      "Averaged stats: lr: 0.000100  loss: 21.3573 (21.3978)  loss_mal: 0.9106 (0.9122)  loss_bbox: 0.1739 (0.1744)  loss_giou: 0.3465 (0.3503)  loss_fgl: 1.1612 (1.1631)  loss_mal_aux_0: 0.9199 (0.9345)  loss_bbox_aux_0: 0.1909 (0.1902)  loss_giou_aux_0: 0.3761 (0.3805)  loss_fgl_aux_0: 1.1916 (1.1947)  loss_ddf_aux_0: 0.1002 (0.1019)  loss_mal_aux_1: 0.9136 (0.9192)  loss_bbox_aux_1: 0.1745 (0.1757)  loss_giou_aux_1: 0.3476 (0.3521)  loss_fgl_aux_1: 1.1651 (1.1662)  loss_ddf_aux_1: 0.0058 (0.0058)  loss_mal_pre: 0.9204 (0.9326)  loss_bbox_pre: 0.1909 (0.1902)  loss_giou_pre: 0.3762 (0.3805)  loss_mal_enc_0: 1.0166 (1.0157)  loss_bbox_enc_0: 0.2658 (0.2589)  loss_giou_enc_0: 0.4770 (0.4978)  loss_mal_dn_0: 0.7681 (0.7615)  loss_bbox_dn_0: 0.2921 (0.2848)  loss_giou_dn_0: 0.5586 (0.5617)  loss_fgl_dn_0: 1.2176 (1.2203)  loss_ddf_dn_0: 0.6575 (0.6549)  loss_mal_dn_1: 0.7417 (0.7326)  loss_bbox_dn_1: 0.2170 (0.2174)  loss_giou_dn_1: 0.4264 (0.4241)  loss_fgl_dn_1: 1.1322 (1.1324)  loss_ddf_dn_1: 0.0292 (0.0298)  loss_mal_dn_2: 0.7285 (0.7208)  loss_bbox_dn_2: 0.2112 (0.2102)  loss_giou_dn_2: 0.4111 (0.4132)  loss_fgl_dn_2: 1.1278 (1.1275)  loss_mal_dn_pre: 0.7671 (0.7609)  loss_bbox_dn_pre: 0.2904 (0.2870)  loss_giou_dn_pre: 0.5590 (0.5622)\n"
     ]
    },
    {
     "name": "stderr",
     "output_type": "stream",
     "text": [
      "Evaluating: 100%|██████████| 5/5 [00:01<00:00,  3.42it/s]\n",
      "\u001b[32m2025-03-10 18:27:13.230\u001b[0m | \u001b[1mINFO    \u001b[0m | \u001b[36mdeimkit.trainer\u001b[0m:\u001b[36m_save_checkpoint\u001b[0m:\u001b[36m364\u001b[0m - \u001b[1mSaving checkpoint to outputs/deim_hgnetv2_s_80e/best.pth\u001b[0m\n"
     ]
    },
    {
     "name": "stdout",
     "output_type": "stream",
     "text": [
      "Averaged stats: \n",
      "Accumulating evaluation results...\n",
      "COCOeval_opt.accumulate() finished...\n",
      "DONE (t=0.02s).\n",
      "IoU metric: bbox\n",
      " Average Precision  (AP) @[ IoU=0.50:0.95 | area=   all | maxDets=100 ] = 0.631\n",
      " Average Precision  (AP) @[ IoU=0.50      | area=   all | maxDets=100 ] = 0.897\n",
      " Average Precision  (AP) @[ IoU=0.75      | area=   all | maxDets=100 ] = 0.759\n",
      " Average Precision  (AP) @[ IoU=0.50:0.95 | area= small | maxDets=100 ] = 0.510\n",
      " Average Precision  (AP) @[ IoU=0.50:0.95 | area=medium | maxDets=100 ] = 0.644\n",
      " Average Precision  (AP) @[ IoU=0.50:0.95 | area= large | maxDets=100 ] = 0.477\n",
      " Average Recall     (AR) @[ IoU=0.50:0.95 | area=   all | maxDets=  1 ] = 0.410\n",
      " Average Recall     (AR) @[ IoU=0.50:0.95 | area=   all | maxDets= 10 ] = 0.679\n",
      " Average Recall     (AR) @[ IoU=0.50:0.95 | area=   all | maxDets=100 ] = 0.778\n",
      " Average Recall     (AR) @[ IoU=0.50:0.95 | area= small | maxDets=100 ] = 0.740\n",
      " Average Recall     (AR) @[ IoU=0.50:0.95 | area=medium | maxDets=100 ] = 0.784\n",
      " Average Recall     (AR) @[ IoU=0.50:0.95 | area= large | maxDets=100 ] = 0.781\n",
      " Average Recall     (AR) @[ IoU=0.50      | area=   all | maxDets=100 ] = 0.999\n",
      " Average Recall     (AR) @[ IoU=0.75      | area=   all | maxDets=100 ] = 0.943\n"
     ]
    },
    {
     "name": "stderr",
     "output_type": "stream",
     "text": [
      "\u001b[32m2025-03-10 18:27:13.554\u001b[0m | \u001b[1mINFO    \u001b[0m | \u001b[36mdeimkit.trainer\u001b[0m:\u001b[36m_save_checkpoint\u001b[0m:\u001b[36m381\u001b[0m - \u001b[1mCheckpoint saved to outputs/deim_hgnetv2_s_80e/best.pth\u001b[0m\n",
      "\u001b[32m2025-03-10 18:27:13.556\u001b[0m | \u001b[1mINFO    \u001b[0m | \u001b[36mdeimkit.trainer\u001b[0m:\u001b[36mtrain\u001b[0m:\u001b[36m313\u001b[0m - \u001b[1mEpoch 77 - Train loss: 21.3978, Eval mAP: 0.6309\u001b[0m\n",
      "\u001b[32m2025-03-10 18:27:13.556\u001b[0m | \u001b[1mINFO    \u001b[0m | \u001b[36mdeimkit.trainer\u001b[0m:\u001b[36mtrain\u001b[0m:\u001b[36m316\u001b[0m - \u001b[1mBest stats: {'epoch': 77, 'coco_eval_bbox': 0.6308959223745846}\u001b[0m\n",
      "\u001b[32m2025-03-10 18:27:13.557\u001b[0m | \u001b[1mINFO    \u001b[0m | \u001b[36mdeimkit.trainer\u001b[0m:\u001b[36mtrain\u001b[0m:\u001b[36m224\u001b[0m - \u001b[1mEpoch 78/80\u001b[0m\n",
      "Epoch 78: 100%|██████████| 15/15 [00:06<00:00,  2.19it/s, loss=22.4390]\n",
      "\u001b[32m2025-03-10 18:27:20.435\u001b[0m | \u001b[1mINFO    \u001b[0m | \u001b[36mdeimkit.trainer\u001b[0m:\u001b[36mevaluate\u001b[0m:\u001b[36m332\u001b[0m - \u001b[1mEvaluating model...\u001b[0m\n"
     ]
    },
    {
     "name": "stdout",
     "output_type": "stream",
     "text": [
      "Averaged stats: lr: 0.000100  loss: 21.3913 (21.2888)  loss_mal: 0.8677 (0.8698)  loss_bbox: 0.1741 (0.1736)  loss_giou: 0.3564 (0.3744)  loss_fgl: 1.1596 (1.1590)  loss_mal_aux_0: 0.8833 (0.8919)  loss_bbox_aux_0: 0.1861 (0.1897)  loss_giou_aux_0: 0.3830 (0.4041)  loss_fgl_aux_0: 1.1941 (1.1890)  loss_ddf_aux_0: 0.0925 (0.0974)  loss_mal_aux_1: 0.8799 (0.8805)  loss_bbox_aux_1: 0.1770 (0.1756)  loss_giou_aux_1: 0.3633 (0.3774)  loss_fgl_aux_1: 1.1591 (1.1618)  loss_ddf_aux_1: 0.0061 (0.0062)  loss_mal_pre: 0.8818 (0.8910)  loss_bbox_pre: 0.1859 (0.1897)  loss_giou_pre: 0.3826 (0.4040)  loss_mal_enc_0: 0.9551 (0.9789)  loss_bbox_enc_0: 0.2428 (0.2632)  loss_giou_enc_0: 0.4631 (0.5223)  loss_mal_dn_0: 0.7637 (0.7618)  loss_bbox_dn_0: 0.2787 (0.2750)  loss_giou_dn_0: 0.5773 (0.5734)  loss_fgl_dn_0: 1.2090 (1.2107)  loss_ddf_dn_0: 0.6392 (0.6423)  loss_mal_dn_1: 0.7363 (0.7332)  loss_bbox_dn_1: 0.2030 (0.2066)  loss_giou_dn_1: 0.4428 (0.4400)  loss_fgl_dn_1: 1.1231 (1.1272)  loss_ddf_dn_1: 0.0300 (0.0300)  loss_mal_dn_2: 0.7217 (0.7236)  loss_bbox_dn_2: 0.1960 (0.1991)  loss_giou_dn_2: 0.4279 (0.4292)  loss_fgl_dn_2: 1.1206 (1.1229)  loss_mal_dn_pre: 0.7642 (0.7618)  loss_bbox_dn_pre: 0.2790 (0.2772)  loss_giou_dn_pre: 0.5782 (0.5753)\n"
     ]
    },
    {
     "name": "stderr",
     "output_type": "stream",
     "text": [
      "Evaluating: 100%|██████████| 5/5 [00:01<00:00,  3.44it/s]\n",
      "\u001b[32m2025-03-10 18:27:21.921\u001b[0m | \u001b[1mINFO    \u001b[0m | \u001b[36mdeimkit.trainer\u001b[0m:\u001b[36mtrain\u001b[0m:\u001b[36m313\u001b[0m - \u001b[1mEpoch 78 - Train loss: 21.2888, Eval mAP: 0.6130\u001b[0m\n",
      "\u001b[32m2025-03-10 18:27:21.921\u001b[0m | \u001b[1mINFO    \u001b[0m | \u001b[36mdeimkit.trainer\u001b[0m:\u001b[36mtrain\u001b[0m:\u001b[36m316\u001b[0m - \u001b[1mBest stats: {'epoch': 77, 'coco_eval_bbox': 0.6308959223745846}\u001b[0m\n",
      "\u001b[32m2025-03-10 18:27:21.921\u001b[0m | \u001b[1mINFO    \u001b[0m | \u001b[36mdeimkit.trainer\u001b[0m:\u001b[36mtrain\u001b[0m:\u001b[36m224\u001b[0m - \u001b[1mEpoch 79/80\u001b[0m\n"
     ]
    },
    {
     "name": "stdout",
     "output_type": "stream",
     "text": [
      "Averaged stats: \n",
      "Accumulating evaluation results...\n",
      "COCOeval_opt.accumulate() finished...\n",
      "DONE (t=0.02s).\n",
      "IoU metric: bbox\n",
      " Average Precision  (AP) @[ IoU=0.50:0.95 | area=   all | maxDets=100 ] = 0.613\n",
      " Average Precision  (AP) @[ IoU=0.50      | area=   all | maxDets=100 ] = 0.873\n",
      " Average Precision  (AP) @[ IoU=0.75      | area=   all | maxDets=100 ] = 0.712\n",
      " Average Precision  (AP) @[ IoU=0.50:0.95 | area= small | maxDets=100 ] = 0.577\n",
      " Average Precision  (AP) @[ IoU=0.50:0.95 | area=medium | maxDets=100 ] = 0.626\n",
      " Average Precision  (AP) @[ IoU=0.50:0.95 | area= large | maxDets=100 ] = 0.474\n",
      " Average Recall     (AR) @[ IoU=0.50:0.95 | area=   all | maxDets=  1 ] = 0.413\n",
      " Average Recall     (AR) @[ IoU=0.50:0.95 | area=   all | maxDets= 10 ] = 0.685\n",
      " Average Recall     (AR) @[ IoU=0.50:0.95 | area=   all | maxDets=100 ] = 0.783\n",
      " Average Recall     (AR) @[ IoU=0.50:0.95 | area= small | maxDets=100 ] = 0.780\n",
      " Average Recall     (AR) @[ IoU=0.50:0.95 | area=medium | maxDets=100 ] = 0.787\n",
      " Average Recall     (AR) @[ IoU=0.50:0.95 | area= large | maxDets=100 ] = 0.782\n",
      " Average Recall     (AR) @[ IoU=0.50      | area=   all | maxDets=100 ] = 0.998\n",
      " Average Recall     (AR) @[ IoU=0.75      | area=   all | maxDets=100 ] = 0.940\n"
     ]
    },
    {
     "name": "stderr",
     "output_type": "stream",
     "text": [
      "Epoch 79: 100%|██████████| 15/15 [00:07<00:00,  2.07it/s, loss=21.8611]\n",
      "\u001b[32m2025-03-10 18:27:29.179\u001b[0m | \u001b[1mINFO    \u001b[0m | \u001b[36mdeimkit.trainer\u001b[0m:\u001b[36m_save_checkpoint\u001b[0m:\u001b[36m364\u001b[0m - \u001b[1mSaving checkpoint to outputs/deim_hgnetv2_s_80e/checkpoint0079.pth\u001b[0m\n"
     ]
    },
    {
     "name": "stdout",
     "output_type": "stream",
     "text": [
      "Averaged stats: lr: 0.000100  loss: 21.5102 (21.2698)  loss_mal: 0.8965 (0.8986)  loss_bbox: 0.1654 (0.1680)  loss_giou: 0.3548 (0.3562)  loss_fgl: 1.1597 (1.1590)  loss_mal_aux_0: 0.9258 (0.9272)  loss_bbox_aux_0: 0.1749 (0.1828)  loss_giou_aux_0: 0.3703 (0.3808)  loss_fgl_aux_0: 1.1909 (1.1864)  loss_ddf_aux_0: 0.1007 (0.1012)  loss_mal_aux_1: 0.8945 (0.9052)  loss_bbox_aux_1: 0.1652 (0.1700)  loss_giou_aux_1: 0.3597 (0.3587)  loss_fgl_aux_1: 1.1630 (1.1623)  loss_ddf_aux_1: 0.0066 (0.0065)  loss_mal_pre: 0.9360 (0.9281)  loss_bbox_pre: 0.1749 (0.1825)  loss_giou_pre: 0.3700 (0.3804)  loss_mal_enc_0: 0.9790 (0.9947)  loss_bbox_enc_0: 0.2369 (0.2385)  loss_giou_enc_0: 0.4513 (0.4804)  loss_mal_dn_0: 0.7671 (0.7654)  loss_bbox_dn_0: 0.2415 (0.2720)  loss_giou_dn_0: 0.5655 (0.5761)  loss_fgl_dn_0: 1.2140 (1.2208)  loss_ddf_dn_0: 0.6400 (0.6677)  loss_mal_dn_1: 0.7358 (0.7337)  loss_bbox_dn_1: 0.1816 (0.2026)  loss_giou_dn_1: 0.4245 (0.4306)  loss_fgl_dn_1: 1.1267 (1.1277)  loss_ddf_dn_1: 0.0326 (0.0328)  loss_mal_dn_2: 0.7271 (0.7256)  loss_bbox_dn_2: 0.1709 (0.1951)  loss_giou_dn_2: 0.4118 (0.4172)  loss_fgl_dn_2: 1.1225 (1.1227)  loss_mal_dn_pre: 0.7671 (0.7647)  loss_bbox_dn_pre: 0.2486 (0.2731)  loss_giou_dn_pre: 0.5680 (0.5745)\n"
     ]
    },
    {
     "name": "stderr",
     "output_type": "stream",
     "text": [
      "\u001b[32m2025-03-10 18:27:29.463\u001b[0m | \u001b[1mINFO    \u001b[0m | \u001b[36mdeimkit.trainer\u001b[0m:\u001b[36m_save_checkpoint\u001b[0m:\u001b[36m381\u001b[0m - \u001b[1mCheckpoint saved to outputs/deim_hgnetv2_s_80e/checkpoint0079.pth\u001b[0m\n",
      "\u001b[32m2025-03-10 18:27:29.464\u001b[0m | \u001b[1mINFO    \u001b[0m | \u001b[36mdeimkit.trainer\u001b[0m:\u001b[36mevaluate\u001b[0m:\u001b[36m332\u001b[0m - \u001b[1mEvaluating model...\u001b[0m\n",
      "Evaluating: 100%|██████████| 5/5 [00:01<00:00,  3.24it/s]\n",
      "\u001b[32m2025-03-10 18:27:31.033\u001b[0m | \u001b[1mINFO    \u001b[0m | \u001b[36mdeimkit.trainer\u001b[0m:\u001b[36mtrain\u001b[0m:\u001b[36m313\u001b[0m - \u001b[1mEpoch 79 - Train loss: 21.2698, Eval mAP: 0.6226\u001b[0m\n",
      "\u001b[32m2025-03-10 18:27:31.033\u001b[0m | \u001b[1mINFO    \u001b[0m | \u001b[36mdeimkit.trainer\u001b[0m:\u001b[36mtrain\u001b[0m:\u001b[36m316\u001b[0m - \u001b[1mBest stats: {'epoch': 77, 'coco_eval_bbox': 0.6308959223745846}\u001b[0m\n",
      "\u001b[32m2025-03-10 18:27:31.033\u001b[0m | \u001b[1mINFO    \u001b[0m | \u001b[36mdeimkit.trainer\u001b[0m:\u001b[36mtrain\u001b[0m:\u001b[36m321\u001b[0m - \u001b[1mTraining completed in 0:13:22\u001b[0m\n"
     ]
    },
    {
     "name": "stdout",
     "output_type": "stream",
     "text": [
      "Averaged stats: \n",
      "Accumulating evaluation results...\n",
      "COCOeval_opt.accumulate() finished...\n",
      "DONE (t=0.02s).\n",
      "IoU metric: bbox\n",
      " Average Precision  (AP) @[ IoU=0.50:0.95 | area=   all | maxDets=100 ] = 0.623\n",
      " Average Precision  (AP) @[ IoU=0.50      | area=   all | maxDets=100 ] = 0.892\n",
      " Average Precision  (AP) @[ IoU=0.75      | area=   all | maxDets=100 ] = 0.744\n",
      " Average Precision  (AP) @[ IoU=0.50:0.95 | area= small | maxDets=100 ] = 0.521\n",
      " Average Precision  (AP) @[ IoU=0.50:0.95 | area=medium | maxDets=100 ] = 0.641\n",
      " Average Precision  (AP) @[ IoU=0.50:0.95 | area= large | maxDets=100 ] = 0.473\n",
      " Average Recall     (AR) @[ IoU=0.50:0.95 | area=   all | maxDets=  1 ] = 0.409\n",
      " Average Recall     (AR) @[ IoU=0.50:0.95 | area=   all | maxDets= 10 ] = 0.680\n",
      " Average Recall     (AR) @[ IoU=0.50:0.95 | area=   all | maxDets=100 ] = 0.779\n",
      " Average Recall     (AR) @[ IoU=0.50:0.95 | area= small | maxDets=100 ] = 0.760\n",
      " Average Recall     (AR) @[ IoU=0.50:0.95 | area=medium | maxDets=100 ] = 0.785\n",
      " Average Recall     (AR) @[ IoU=0.50:0.95 | area= large | maxDets=100 ] = 0.778\n",
      " Average Recall     (AR) @[ IoU=0.50      | area=   all | maxDets=100 ] = 0.998\n",
      " Average Recall     (AR) @[ IoU=0.75      | area=   all | maxDets=100 ] = 0.933\n"
     ]
    },
    {
     "data": {
      "text/plain": [
       "{'epoch': 77, 'coco_eval_bbox': 0.6308959223745846}"
      ]
     },
     "execution_count": 6,
     "metadata": {},
     "output_type": "execute_result"
    }
   ],
   "source": [
    "trainer = Trainer(conf)\n",
    "trainer.train()"
   ]
  },
  {
   "cell_type": "code",
   "execution_count": null,
   "metadata": {},
   "outputs": [],
   "source": []
  }
 ],
 "metadata": {
  "kernelspec": {
   "display_name": "default",
   "language": "python",
   "name": "python3"
  },
  "language_info": {
   "codemirror_mode": {
    "name": "ipython",
    "version": 3
   },
   "file_extension": ".py",
   "mimetype": "text/x-python",
   "name": "python",
   "nbconvert_exporter": "python",
   "pygments_lexer": "ipython3",
   "version": "3.12.9"
  }
 },
 "nbformat": 4,
 "nbformat_minor": 2
}
