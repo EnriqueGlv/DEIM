{
 "cells": [
  {
   "cell_type": "code",
   "execution_count": 1,
   "metadata": {},
   "outputs": [],
   "source": [
    "from deimkit import Trainer, Config"
   ]
  },
  {
   "cell_type": "code",
   "execution_count": 2,
   "metadata": {},
   "outputs": [
    {
     "name": "stdout",
     "output_type": "stream",
     "text": [
      "{ 'batch_size': None,\n",
      "  'checkpoint_freq': 4,\n",
      "  'clip_max_norm': 0.1,\n",
      "  'device': '',\n",
      "  'ema_decay': 0.9999,\n",
      "  'ema_warmups': 2000,\n",
      "  'epoches': 132,\n",
      "  'find_unused_parameters': False,\n",
      "  'flat_epoch': 64,\n",
      "  'last_epoch': -1,\n",
      "  'lr_gamma': 0.5,\n",
      "  'lrsheduler': 'flatcosine',\n",
      "  'no_aug_epoch': 12,\n",
      "  'num_workers': 0,\n",
      "  'output_dir': './outputs/deim_hgnetv2_s_coco',\n",
      "  'print_freq': 100,\n",
      "  'resume': None,\n",
      "  'seed': None,\n",
      "  'summary_dir': None,\n",
      "  'sync_bn': True,\n",
      "  'task': 'detection',\n",
      "  'tuning': None,\n",
      "  'use_amp': True,\n",
      "  'use_ema': True,\n",
      "  'warmup_iter': 2000,\n",
      "  'yaml_cfg': { 'DEIM': { 'backbone': 'HGNetv2',\n",
      "                          'decoder': 'DFINETransformer',\n",
      "                          'encoder': 'HybridEncoder'},\n",
      "                'DEIMCriterion': { 'alpha': 0.75,\n",
      "                                   'gamma': 1.5,\n",
      "                                   'losses': ['mal', 'boxes', 'local'],\n",
      "                                   'matcher': { 'alpha': 0.25,\n",
      "                                                'gamma': 2.0,\n",
      "                                                'type': 'HungarianMatcher',\n",
      "                                                'weight_dict': { 'cost_bbox': 5,\n",
      "                                                                 'cost_class': 2,\n",
      "                                                                 'cost_giou': 2}},\n",
      "                                   'reg_max': 32,\n",
      "                                   'weight_dict': { 'loss_bbox': 5,\n",
      "                                                    'loss_ddf': 1.5,\n",
      "                                                    'loss_fgl': 0.15,\n",
      "                                                    'loss_giou': 2,\n",
      "                                                    'loss_mal': 1,\n",
      "                                                    'loss_vfl': 1}},\n",
      "                'DFINETransformer': { 'activation': 'silu',\n",
      "                                      'box_noise_scale': 1.0,\n",
      "                                      'cross_attn_method': 'default',\n",
      "                                      'eval_idx': -1,\n",
      "                                      'feat_channels': [256, 256, 256],\n",
      "                                      'feat_strides': [8, 16, 32],\n",
      "                                      'hidden_dim': 256,\n",
      "                                      'label_noise_ratio': 0.5,\n",
      "                                      'layer_scale': 1,\n",
      "                                      'mlp_act': 'silu',\n",
      "                                      'num_denoising': 100,\n",
      "                                      'num_layers': 3,\n",
      "                                      'num_levels': 3,\n",
      "                                      'num_points': [3, 6, 3],\n",
      "                                      'num_queries': 300,\n",
      "                                      'query_select_method': 'default',\n",
      "                                      'reg_max': 32,\n",
      "                                      'reg_scale': 4},\n",
      "                'HGNetv2': { 'freeze_at': -1,\n",
      "                             'freeze_norm': False,\n",
      "                             'local_model_dir': '../RT-DETR-main/D-FINE/weight/hgnetv2/',\n",
      "                             'name': 'B0',\n",
      "                             'pretrained': True,\n",
      "                             'return_idx': [1, 2, 3],\n",
      "                             'use_lab': True},\n",
      "                'HybridEncoder': { 'act': 'silu',\n",
      "                                   'depth_mult': 0.34,\n",
      "                                   'dim_feedforward': 1024,\n",
      "                                   'dropout': 0.0,\n",
      "                                   'enc_act': 'gelu',\n",
      "                                   'expansion': 0.5,\n",
      "                                   'feat_strides': [8, 16, 32],\n",
      "                                   'hidden_dim': 256,\n",
      "                                   'in_channels': [256, 512, 1024],\n",
      "                                   'nhead': 8,\n",
      "                                   'num_encoder_layers': 1,\n",
      "                                   'use_encoder_idx': [2]},\n",
      "                'PostProcessor': {'num_top_queries': 300},\n",
      "                '__include__': ['./dfine_hgnetv2_s_coco.yml', '../base/deim.yml'],\n",
      "                'checkpoint_freq': 4,\n",
      "                'clip_max_norm': 0.1,\n",
      "                'criterion': 'DEIMCriterion',\n",
      "                'ema': {'decay': 0.9999, 'start': 0, 'type': 'ModelEMA', 'warmups': 1000},\n",
      "                'epoches': 132,\n",
      "                'eval_spatial_size': [640, 640],\n",
      "                'evaluator': {'iou_types': ['bbox'], 'type': 'CocoEvaluator'},\n",
      "                'find_unused_parameters': False,\n",
      "                'flat_epoch': 64,\n",
      "                'lr_gamma': 0.5,\n",
      "                'lr_scheduler': {'gamma': 0.1, 'milestones': [500], 'type': 'MultiStepLR'},\n",
      "                'lr_warmup_scheduler': {'type': 'LinearWarmup', 'warmup_duration': 500},\n",
      "                'lrsheduler': 'flatcosine',\n",
      "                'model': 'DEIM',\n",
      "                'no_aug_epoch': 12,\n",
      "                'num_classes': 80,\n",
      "                'optimizer': { 'betas': [0.9, 0.999],\n",
      "                               'lr': 0.0004,\n",
      "                               'params': [ {'lr': 0.0002, 'params': '^(?=.*backbone)(?!.*bn).*$'},\n",
      "                                           { 'params': '^(?=.*(?:norm|bn)).*$',\n",
      "                                             'weight_decay': 0.0}],\n",
      "                               'type': 'AdamW',\n",
      "                               'weight_decay': 0.0001},\n",
      "                'output_dir': './outputs/deim_hgnetv2_s_coco',\n",
      "                'postprocessor': 'PostProcessor',\n",
      "                'print_freq': 100,\n",
      "                'remap_mscoco_category': True,\n",
      "                'scaler': {'enabled': True, 'type': 'GradScaler'},\n",
      "                'sync_bn': True,\n",
      "                'task': 'detection',\n",
      "                'train_dataloader': { 'collate_fn': { 'base_size': 640,\n",
      "                                                      'base_size_repeat': 20,\n",
      "                                                      'ema_restart_decay': 0.9999,\n",
      "                                                      'mixup_epochs': [4, 64],\n",
      "                                                      'mixup_prob': 0.5,\n",
      "                                                      'stop_epoch': 120,\n",
      "                                                      'type': 'BatchImageCollateFunction'},\n",
      "                                      'dataset': { 'ann_file': '/datassd/COCO/annotations/instances_train2017.json',\n",
      "                                                   'img_folder': '/datassd/COCO/train2017/',\n",
      "                                                   'return_masks': False,\n",
      "                                                   'transforms': { 'mosaic_prob': 0.5,\n",
      "                                                                   'ops': [ { 'fill_value': 0,\n",
      "                                                                              'max_cached_images': 50,\n",
      "                                                                              'output_size': 320,\n",
      "                                                                              'probability': 1.0,\n",
      "                                                                              'random_pop': True,\n",
      "                                                                              'rotation_range': 10,\n",
      "                                                                              'scaling_range': [ 0.5,\n",
      "                                                                                                 1.5],\n",
      "                                                                              'translation_range': [ 0.1,\n",
      "                                                                                                     0.1],\n",
      "                                                                              'type': 'Mosaic',\n",
      "                                                                              'use_cache': False},\n",
      "                                                                            { 'p': 0.5,\n",
      "                                                                              'type': 'RandomPhotometricDistort'},\n",
      "                                                                            { 'fill': 0,\n",
      "                                                                              'type': 'RandomZoomOut'},\n",
      "                                                                            { 'p': 0.8,\n",
      "                                                                              'type': 'RandomIoUCrop'},\n",
      "                                                                            { 'min_size': 1,\n",
      "                                                                              'type': 'SanitizeBoundingBoxes'},\n",
      "                                                                            { 'type': 'RandomHorizontalFlip'},\n",
      "                                                                            { 'size': [640, 640],\n",
      "                                                                              'type': 'Resize'},\n",
      "                                                                            { 'min_size': 1,\n",
      "                                                                              'type': 'SanitizeBoundingBoxes'},\n",
      "                                                                            { 'dtype': 'float32',\n",
      "                                                                              'scale': True,\n",
      "                                                                              'type': 'ConvertPILImage'},\n",
      "                                                                            { 'fmt': 'cxcywh',\n",
      "                                                                              'normalize': True,\n",
      "                                                                              'type': 'ConvertBoxes'}],\n",
      "                                                                   'policy': { 'epoch': [ 4,\n",
      "                                                                                          64,\n",
      "                                                                                          120],\n",
      "                                                                               'name': 'stop_epoch',\n",
      "                                                                               'ops': [ 'Mosaic',\n",
      "                                                                                        'RandomPhotometricDistort',\n",
      "                                                                                        'RandomZoomOut',\n",
      "                                                                                        'RandomIoUCrop']},\n",
      "                                                                   'type': 'Compose'},\n",
      "                                                   'type': 'CocoDetection'},\n",
      "                                      'drop_last': True,\n",
      "                                      'num_workers': 4,\n",
      "                                      'shuffle': True,\n",
      "                                      'total_batch_size': 32,\n",
      "                                      'type': 'DataLoader'},\n",
      "                'use_amp': True,\n",
      "                'use_ema': True,\n",
      "                'use_focal_loss': True,\n",
      "                'val_dataloader': { 'collate_fn': {'type': 'BatchImageCollateFunction'},\n",
      "                                    'dataset': { 'ann_file': '/datassd/COCO/annotations/instances_val2017.json',\n",
      "                                                 'img_folder': '/datassd/COCO/val2017/',\n",
      "                                                 'return_masks': False,\n",
      "                                                 'transforms': { 'ops': [ { 'size': [640, 640],\n",
      "                                                                            'type': 'Resize'},\n",
      "                                                                          { 'dtype': 'float32',\n",
      "                                                                            'scale': True,\n",
      "                                                                            'type': 'ConvertPILImage'}],\n",
      "                                                                 'type': 'Compose'},\n",
      "                                                 'type': 'CocoDetection'},\n",
      "                                    'drop_last': False,\n",
      "                                    'num_workers': 4,\n",
      "                                    'shuffle': False,\n",
      "                                    'total_batch_size': 64,\n",
      "                                    'type': 'DataLoader'},\n",
      "                'warmup_iter': 2000}}\n"
     ]
    }
   ],
   "source": [
    "conf = Config.from_model_name(\"deim_hgnetv2_s\")\n",
    "\n",
    "conf.print()"
   ]
  },
  {
   "cell_type": "code",
   "execution_count": 14,
   "metadata": {},
   "outputs": [
    {
     "data": {
      "text/plain": [
       "12"
      ]
     },
     "execution_count": 14,
     "metadata": {},
     "output_type": "execute_result"
    }
   ],
   "source": [
    "conf.get('no_aug_epoch')"
   ]
  },
  {
   "cell_type": "code",
   "execution_count": 6,
   "metadata": {},
   "outputs": [
    {
     "data": {
      "text/plain": [
       "task: detection\n",
       "num_workers: 0\n",
       "batch_size: None\n",
       "resume: None\n",
       "tuning: None\n",
       "epoches: 132\n",
       "last_epoch: -1\n",
       "lrsheduler: flatcosine\n",
       "lr_gamma: 0.5\n",
       "no_aug_epoch: 12\n",
       "warmup_iter: 200\n",
       "flat_epoch: 64\n",
       "use_amp: True\n",
       "use_ema: True\n",
       "ema_decay: 0.9999\n",
       "ema_warmups: 200\n",
       "sync_bn: True\n",
       "clip_max_norm: 0.1\n",
       "find_unused_parameters: False\n",
       "seed: None\n",
       "print_freq: 100\n",
       "checkpoint_freq: 4\n",
       "output_dir: ./outputs/deim_hgnetv2_s_coco_ema_tune\n",
       "summary_dir: None\n",
       "device: \n",
       "yaml_cfg: {'task': 'detection', 'evaluator': {'type': 'CocoEvaluator', 'iou_types': ['bbox']}, 'num_classes': 4, 'remap_mscoco_category': False, 'train_dataloader': {'type': 'DataLoader', 'dataset': {'type': 'CocoDetection', 'img_folder': '/home/dnth/Desktop/DEIM/dataset/images/train', 'ann_file': '/home/dnth/Desktop/DEIM/dataset/images/annotations/instances_train.json', 'return_masks': False, 'transforms': {'type': 'Compose', 'ops': [{'type': 'Mosaic', 'output_size': 320, 'rotation_range': 10, 'translation_range': [0.1, 0.1], 'scaling_range': [0.5, 1.5], 'probability': 1.0, 'fill_value': 0, 'use_cache': False, 'max_cached_images': 50, 'random_pop': True}, {'type': 'RandomPhotometricDistort', 'p': 0.5}, {'type': 'RandomZoomOut', 'fill': 0}, {'type': 'RandomIoUCrop', 'p': 0.8}, {'type': 'SanitizeBoundingBoxes', 'min_size': 1}, {'type': 'RandomHorizontalFlip'}, {'type': 'Resize', 'size': [640, 640]}, {'type': 'SanitizeBoundingBoxes', 'min_size': 1}, {'type': 'ConvertPILImage', 'dtype': 'float32', 'scale': True}, {'type': 'ConvertBoxes', 'fmt': 'cxcywh', 'normalize': True}], 'policy': {'name': 'stop_epoch', 'epoch': [4, 64, 120], 'ops': ['Mosaic', 'RandomPhotometricDistort', 'RandomZoomOut', 'RandomIoUCrop']}, 'mosaic_prob': 0.5}}, 'shuffle': True, 'num_workers': 4, 'drop_last': True, 'collate_fn': {'type': 'BatchImageCollateFunction', 'base_size': 640, 'base_size_repeat': 20, 'stop_epoch': 120, 'ema_restart_decay': 0.9999, 'mixup_prob': 0.5, 'mixup_epochs': [4, 64]}, 'total_batch_size': 16}, 'val_dataloader': {'type': 'DataLoader', 'dataset': {'type': 'CocoDetection', 'img_folder': '/home/dnth/Desktop/DEIM/dataset/images/valid', 'ann_file': '/home/dnth/Desktop/DEIM/dataset/images/annotations/instances_val.json', 'return_masks': False, 'transforms': {'type': 'Compose', 'ops': [{'type': 'Resize', 'size': [640, 640]}, {'type': 'ConvertPILImage', 'dtype': 'float32', 'scale': True}]}}, 'shuffle': False, 'num_workers': 4, 'drop_last': False, 'collate_fn': {'type': 'BatchImageCollateFunction'}, 'total_batch_size': 16}, 'print_freq': 100, 'output_dir': './outputs/deim_hgnetv2_s_coco', 'checkpoint_freq': 4, 'sync_bn': True, 'find_unused_parameters': False, 'use_amp': True, 'scaler': {'type': 'GradScaler', 'enabled': True}, 'use_ema': True, 'ema': {'type': 'ModelEMA', 'decay': 0.9999, 'warmups': 1000, 'start': 0}, 'epoches': 132, 'clip_max_norm': 0.1, 'optimizer': {'type': 'AdamW', 'params': [{'params': '^(?=.*backbone)(?!.*bn).*$', 'lr': 0.0002}, {'params': '^(?=.*(?:norm|bn)).*$', 'weight_decay': 0.0}], 'lr': 0.0004, 'betas': [0.9, 0.999], 'weight_decay': 0.0001}, 'lr_scheduler': {'type': 'MultiStepLR', 'milestones': [500], 'gamma': 0.1}, 'lr_warmup_scheduler': {'type': 'LinearWarmup', 'warmup_duration': 500}, 'model': 'DEIM', 'criterion': 'DEIMCriterion', 'postprocessor': 'PostProcessor', 'use_focal_loss': True, 'eval_spatial_size': [640, 640], 'DEIM': {'backbone': 'HGNetv2', 'encoder': 'HybridEncoder', 'decoder': 'DFINETransformer'}, 'lrsheduler': 'flatcosine', 'lr_gamma': 0.5, 'warmup_iter': 2000, 'flat_epoch': 64, 'no_aug_epoch': 12, 'HGNetv2': {'pretrained': True, 'local_model_dir': '../RT-DETR-main/D-FINE/weight/hgnetv2/', 'name': 'B0', 'return_idx': [1, 2, 3], 'freeze_at': -1, 'freeze_norm': False, 'use_lab': True}, 'HybridEncoder': {'in_channels': [256, 512, 1024], 'feat_strides': [8, 16, 32], 'hidden_dim': 256, 'use_encoder_idx': [2], 'num_encoder_layers': 1, 'nhead': 8, 'dim_feedforward': 1024, 'dropout': 0.0, 'enc_act': 'gelu', 'expansion': 0.5, 'depth_mult': 0.34, 'act': 'silu'}, 'DFINETransformer': {'feat_channels': [256, 256, 256], 'feat_strides': [8, 16, 32], 'hidden_dim': 256, 'num_levels': 3, 'num_layers': 3, 'eval_idx': -1, 'num_queries': 300, 'num_denoising': 100, 'label_noise_ratio': 0.5, 'box_noise_scale': 1.0, 'reg_max': 32, 'reg_scale': 4, 'layer_scale': 1, 'num_points': [3, 6, 3], 'cross_attn_method': 'default', 'query_select_method': 'default', 'activation': 'silu', 'mlp_act': 'silu'}, 'PostProcessor': {'num_top_queries': 300}, 'DEIMCriterion': {'weight_dict': {'loss_vfl': 1, 'loss_bbox': 5, 'loss_giou': 2, 'loss_fgl': 0.15, 'loss_ddf': 1.5, 'loss_mal': 1}, 'losses': ['mal', 'boxes', 'local'], 'alpha': 0.75, 'gamma': 1.5, 'reg_max': 32, 'matcher': {'type': 'HungarianMatcher', 'weight_dict': {'cost_class': 2, 'cost_bbox': 5, 'cost_giou': 2}, 'alpha': 0.25, 'gamma': 2.0}}, '__include__': ['./dfine_hgnetv2_s_coco.yml', '../base/deim.yml']}"
      ]
     },
     "execution_count": 6,
     "metadata": {},
     "output_type": "execute_result"
    }
   ],
   "source": [
    "conf.update(\n",
    "    **{'yaml_cfg.train_dataloader.dataset.ann_file': '/home/dnth/Desktop/DEIM/dataset/images/annotations/instances_train.json',\n",
    "       'yaml_cfg.train_dataloader.dataset.img_folder': '/home/dnth/Desktop/DEIM/dataset/images/train',\n",
    "       'yaml_cfg.train_dataloader.total_batch_size': 16,\n",
    "       'yaml_cfg.val_dataloader.dataset.ann_file': '/home/dnth/Desktop/DEIM/dataset/images/annotations/instances_val.json',\n",
    "       'yaml_cfg.val_dataloader.dataset.img_folder': '/home/dnth/Desktop/DEIM/dataset/images/valid',\n",
    "       'yaml_cfg.val_dataloader.total_batch_size': 16,\n",
    "       'yaml_cfg.remap_mscoco_category': False,\n",
    "       'yaml_cfg.num_classes': 4,\n",
    "       'output_dir': './outputs/deim_hgnetv2_s_coco_ema_tune_shortepochs',\n",
    "       'ema_warmups': 200,\n",
    "       'warmup_iter': 200,\n",
    "       'epoches': 60,\n",
    "       'flat_epoch': 50,\n",
    "       'no_aug_epoch': 58\n",
    "       }\n",
    ")"
   ]
  },
  {
   "cell_type": "code",
   "execution_count": 7,
   "metadata": {},
   "outputs": [
    {
     "data": {
      "text/plain": [
       "task: detection\n",
       "num_workers: 0\n",
       "batch_size: None\n",
       "resume: None\n",
       "tuning: None\n",
       "epoches: 132\n",
       "last_epoch: -1\n",
       "lrsheduler: flatcosine\n",
       "lr_gamma: 0.5\n",
       "no_aug_epoch: 12\n",
       "warmup_iter: 200\n",
       "flat_epoch: 64\n",
       "use_amp: True\n",
       "use_ema: True\n",
       "ema_decay: 0.9999\n",
       "ema_warmups: 200\n",
       "sync_bn: True\n",
       "clip_max_norm: 0.1\n",
       "find_unused_parameters: False\n",
       "seed: None\n",
       "print_freq: 100\n",
       "checkpoint_freq: 4\n",
       "output_dir: ./outputs/deim_hgnetv2_s_coco_ema_tune\n",
       "summary_dir: None\n",
       "device: \n",
       "yaml_cfg: {'task': 'detection', 'evaluator': {'type': 'CocoEvaluator', 'iou_types': ['bbox']}, 'num_classes': 4, 'remap_mscoco_category': False, 'train_dataloader': {'type': 'DataLoader', 'dataset': {'type': 'CocoDetection', 'img_folder': '/home/dnth/Desktop/DEIM/dataset/images/train', 'ann_file': '/home/dnth/Desktop/DEIM/dataset/images/annotations/instances_train.json', 'return_masks': False, 'transforms': {'type': 'Compose', 'ops': [{'type': 'Mosaic', 'output_size': 320, 'rotation_range': 10, 'translation_range': [0.1, 0.1], 'scaling_range': [0.5, 1.5], 'probability': 1.0, 'fill_value': 0, 'use_cache': False, 'max_cached_images': 50, 'random_pop': True}, {'type': 'RandomPhotometricDistort', 'p': 0.5}, {'type': 'RandomZoomOut', 'fill': 0}, {'type': 'RandomIoUCrop', 'p': 0.8}, {'type': 'SanitizeBoundingBoxes', 'min_size': 1}, {'type': 'RandomHorizontalFlip'}, {'type': 'Resize', 'size': [640, 640]}, {'type': 'SanitizeBoundingBoxes', 'min_size': 1}, {'type': 'ConvertPILImage', 'dtype': 'float32', 'scale': True}, {'type': 'ConvertBoxes', 'fmt': 'cxcywh', 'normalize': True}], 'policy': {'name': 'stop_epoch', 'epoch': [4, 64, 120], 'ops': ['Mosaic', 'RandomPhotometricDistort', 'RandomZoomOut', 'RandomIoUCrop']}, 'mosaic_prob': 0.5}}, 'shuffle': True, 'num_workers': 4, 'drop_last': True, 'collate_fn': {'type': 'BatchImageCollateFunction', 'base_size': 640, 'base_size_repeat': 20, 'stop_epoch': 120, 'ema_restart_decay': 0.9999, 'mixup_prob': 0.5, 'mixup_epochs': [4, 64]}, 'total_batch_size': 16}, 'val_dataloader': {'type': 'DataLoader', 'dataset': {'type': 'CocoDetection', 'img_folder': '/home/dnth/Desktop/DEIM/dataset/images/valid', 'ann_file': '/home/dnth/Desktop/DEIM/dataset/images/annotations/instances_val.json', 'return_masks': False, 'transforms': {'type': 'Compose', 'ops': [{'type': 'Resize', 'size': [640, 640]}, {'type': 'ConvertPILImage', 'dtype': 'float32', 'scale': True}]}}, 'shuffle': False, 'num_workers': 4, 'drop_last': False, 'collate_fn': {'type': 'BatchImageCollateFunction'}, 'total_batch_size': 16}, 'print_freq': 100, 'output_dir': './outputs/deim_hgnetv2_s_coco', 'checkpoint_freq': 4, 'sync_bn': True, 'find_unused_parameters': False, 'use_amp': True, 'scaler': {'type': 'GradScaler', 'enabled': True}, 'use_ema': True, 'ema': {'type': 'ModelEMA', 'decay': 0.9999, 'warmups': 1000, 'start': 0}, 'epoches': 132, 'clip_max_norm': 0.1, 'optimizer': {'type': 'AdamW', 'params': [{'params': '^(?=.*backbone)(?!.*bn).*$', 'lr': 0.0002}, {'params': '^(?=.*(?:norm|bn)).*$', 'weight_decay': 0.0}], 'lr': 0.0004, 'betas': [0.9, 0.999], 'weight_decay': 0.0001}, 'lr_scheduler': {'type': 'MultiStepLR', 'milestones': [500], 'gamma': 0.1}, 'lr_warmup_scheduler': {'type': 'LinearWarmup', 'warmup_duration': 500}, 'model': 'DEIM', 'criterion': 'DEIMCriterion', 'postprocessor': 'PostProcessor', 'use_focal_loss': True, 'eval_spatial_size': [640, 640], 'DEIM': {'backbone': 'HGNetv2', 'encoder': 'HybridEncoder', 'decoder': 'DFINETransformer'}, 'lrsheduler': 'flatcosine', 'lr_gamma': 0.5, 'warmup_iter': 2000, 'flat_epoch': 64, 'no_aug_epoch': 12, 'HGNetv2': {'pretrained': True, 'local_model_dir': '../RT-DETR-main/D-FINE/weight/hgnetv2/', 'name': 'B0', 'return_idx': [1, 2, 3], 'freeze_at': -1, 'freeze_norm': False, 'use_lab': True}, 'HybridEncoder': {'in_channels': [256, 512, 1024], 'feat_strides': [8, 16, 32], 'hidden_dim': 256, 'use_encoder_idx': [2], 'num_encoder_layers': 1, 'nhead': 8, 'dim_feedforward': 1024, 'dropout': 0.0, 'enc_act': 'gelu', 'expansion': 0.5, 'depth_mult': 0.34, 'act': 'silu'}, 'DFINETransformer': {'feat_channels': [256, 256, 256], 'feat_strides': [8, 16, 32], 'hidden_dim': 256, 'num_levels': 3, 'num_layers': 3, 'eval_idx': -1, 'num_queries': 300, 'num_denoising': 100, 'label_noise_ratio': 0.5, 'box_noise_scale': 1.0, 'reg_max': 32, 'reg_scale': 4, 'layer_scale': 1, 'num_points': [3, 6, 3], 'cross_attn_method': 'default', 'query_select_method': 'default', 'activation': 'silu', 'mlp_act': 'silu'}, 'PostProcessor': {'num_top_queries': 300}, 'DEIMCriterion': {'weight_dict': {'loss_vfl': 1, 'loss_bbox': 5, 'loss_giou': 2, 'loss_fgl': 0.15, 'loss_ddf': 1.5, 'loss_mal': 1}, 'losses': ['mal', 'boxes', 'local'], 'alpha': 0.75, 'gamma': 1.5, 'reg_max': 32, 'matcher': {'type': 'HungarianMatcher', 'weight_dict': {'cost_class': 2, 'cost_bbox': 5, 'cost_giou': 2}, 'alpha': 0.25, 'gamma': 2.0}}, '__include__': ['./dfine_hgnetv2_s_coco.yml', '../base/deim.yml']}"
      ]
     },
     "execution_count": 7,
     "metadata": {},
     "output_type": "execute_result"
    }
   ],
   "source": [
    "conf.save('my_train_config.yml')"
   ]
  },
  {
   "cell_type": "code",
   "execution_count": 8,
   "metadata": {},
   "outputs": [
    {
     "name": "stderr",
     "output_type": "stream",
     "text": [
      "\u001b[32m2025-03-10 16:16:37.963\u001b[0m | \u001b[1mINFO    \u001b[0m | \u001b[36mdeimkit.trainer\u001b[0m:\u001b[36m_init_process_group\u001b[0m:\u001b[36m57\u001b[0m - \u001b[1mInitializing process group for single-process training\u001b[0m\n",
      "\u001b[32m2025-03-10 16:16:37.967\u001b[0m | \u001b[1mINFO    \u001b[0m | \u001b[36mdeimkit.trainer\u001b[0m:\u001b[36m_init_process_group\u001b[0m:\u001b[36m76\u001b[0m - \u001b[1mProcess group initialized successfully\u001b[0m\n",
      "\u001b[32m2025-03-10 16:16:37.968\u001b[0m | \u001b[1mINFO    \u001b[0m | \u001b[36mdeimkit.trainer\u001b[0m:\u001b[36mtrain\u001b[0m:\u001b[36m184\u001b[0m - \u001b[1mStarting training...\u001b[0m\n",
      "\u001b[32m2025-03-10 16:16:37.968\u001b[0m | \u001b[1mINFO    \u001b[0m | \u001b[36mdeimkit.trainer\u001b[0m:\u001b[36m_setup\u001b[0m:\u001b[36m134\u001b[0m - \u001b[1mSetting HGNetv2 pretrained to False to avoid distributed issues\u001b[0m\n",
      "\u001b[32m2025-03-10 16:16:37.968\u001b[0m | \u001b[1mINFO    \u001b[0m | \u001b[36mdeimkit.trainer\u001b[0m:\u001b[36m_setup\u001b[0m:\u001b[36m140\u001b[0m - \u001b[1mDisabling sync_bn and find_unused_parameters for single-process training\u001b[0m\n",
      "\u001b[32m2025-03-10 16:16:37.968\u001b[0m | \u001b[1mINFO    \u001b[0m | \u001b[36mdeimkit.trainer\u001b[0m:\u001b[36m_setup\u001b[0m:\u001b[36m148\u001b[0m - \u001b[1mInitializing solver for task: detection\u001b[0m\n",
      "/home/dnth/Desktop/DEIMKit/src/deimkit/engine/core/workspace.py:180: FutureWarning: `torch.cuda.amp.GradScaler(args...)` is deprecated. Please use `torch.amp.GradScaler('cuda', args...)` instead.\n",
      "  return module(**module_kwargs)\n",
      "\u001b[32m2025-03-10 16:16:38.340\u001b[0m | \u001b[1mINFO    \u001b[0m | \u001b[36mdeimkit.trainer\u001b[0m:\u001b[36m_setup\u001b[0m:\u001b[36m175\u001b[0m - \u001b[1mTraining setup complete. Output directory: outputs/deim_hgnetv2_s_coco_ema_tune\u001b[0m\n",
      "\u001b[32m2025-03-10 16:16:38.341\u001b[0m | \u001b[1mINFO    \u001b[0m | \u001b[36mdeimkit.trainer\u001b[0m:\u001b[36mtrain\u001b[0m:\u001b[36m201\u001b[0m - \u001b[1mNumber of trainable parameters: 10224291\u001b[0m\n",
      "\u001b[32m2025-03-10 16:16:38.342\u001b[0m | \u001b[1mINFO    \u001b[0m | \u001b[36mdeimkit.trainer\u001b[0m:\u001b[36mtrain\u001b[0m:\u001b[36m207\u001b[0m - \u001b[1mUsing custom scheduler: flatcosine\u001b[0m\n"
     ]
    },
    {
     "name": "stdout",
     "output_type": "stream",
     "text": [
      "Initial lr: [0.0002, 0.0004, 0.0004]\n",
      "building train_dataloader with batch_size=16...\n",
      "     ### Transform @Mosaic ###    \n",
      "     ### Transform @RandomPhotometricDistort ###    \n",
      "     ### Transform @RandomZoomOut ###    \n",
      "     ### Transform @RandomIoUCrop ###    \n",
      "     ### Transform @SanitizeBoundingBoxes ###    \n",
      "     ### Transform @RandomHorizontalFlip ###    \n",
      "     ### Transform @Resize ###    \n",
      "     ### Transform @SanitizeBoundingBoxes ###    \n",
      "     ### Transform @ConvertPILImage ###    \n",
      "     ### Transform @ConvertBoxes ###    \n",
      "     ### Mosaic with Prob.@0.5 and ZoomOut/IoUCrop existed ### \n",
      "     ### ImgTransforms Epochs: [4, 64, 120] ### \n",
      "     ### Policy_ops@['Mosaic', 'RandomPhotometricDistort', 'RandomZoomOut', 'RandomIoUCrop'] ###\n",
      "     ### Using MixUp with Prob@0.5 in [4, 64] epochs ### \n",
      "     ### Multi-scale Training until 120 epochs ### \n",
      "     ### Multi-scales@ [480, 512, 544, 576, 608, 640, 640, 640, 640, 640, 640, 640, 640, 640, 640, 640, 640, 640, 640, 640, 640, 640, 640, 640, 640, 800, 768, 736, 704, 672] ###        \n",
      "building val_dataloader with batch_size=16...\n",
      "     ### Transform @Resize ###    \n",
      "     ### Transform @ConvertPILImage ###    \n",
      "[0.0002, 0.0004, 0.0004] [0.0001, 0.0002, 0.0002] 1980 200 960 180\n",
      "Epoch: [0]  [ 0/15]  eta: 0:00:27  lr: 0.000000  loss: 35.6786 (35.6786)  loss_mal: 0.8296 (0.8296)  loss_bbox: 1.1762 (1.1762)  loss_giou: 1.6063 (1.6063)  loss_fgl: 0.5176 (0.5176)  loss_mal_aux_0: 0.8110 (0.8110)  loss_bbox_aux_0: 1.1762 (1.1762)  loss_giou_aux_0: 1.6063 (1.6063)  loss_fgl_aux_0: 0.5176 (0.5176)  loss_mal_aux_1: 0.8286 (0.8286)  loss_bbox_aux_1: 1.1762 (1.1762)  loss_giou_aux_1: 1.6063 (1.6063)  loss_fgl_aux_1: 0.5176 (0.5176)  loss_mal_pre: 0.8110 (0.8110)  loss_bbox_pre: 1.1762 (1.1762)  loss_giou_pre: 1.6063 (1.6063)  loss_mal_enc_0: 0.6851 (0.6851)  loss_bbox_enc_0: 1.1762 (1.1762)  loss_giou_enc_0: 1.6063 (1.6063)  loss_mal_dn_0: 1.1143 (1.1143)  loss_bbox_dn_0: 0.8986 (0.8986)  loss_giou_dn_0: 1.3516 (1.3516)  loss_fgl_dn_0: 0.8339 (0.8339)  loss_mal_dn_1: 1.1689 (1.1689)  loss_bbox_dn_1: 0.8986 (0.8986)  loss_giou_dn_1: 1.3516 (1.3516)  loss_fgl_dn_1: 0.8339 (0.8339)  loss_mal_dn_2: 1.3477 (1.3477)  loss_bbox_dn_2: 0.8986 (0.8986)  loss_giou_dn_2: 1.3516 (1.3516)  loss_fgl_dn_2: 0.8339 (0.8339)  loss_mal_dn_pre: 1.1143 (1.1143)  loss_bbox_dn_pre: 0.8986 (0.8986)  loss_giou_dn_pre: 1.3516 (1.3516)  time: 1.8620  data: 0.6842  max mem: 8915\n"
     ]
    },
    {
     "name": "stderr",
     "output_type": "stream",
     "text": [
      "\u001b[32m2025-03-10 16:16:45.803\u001b[0m | \u001b[1mINFO    \u001b[0m | \u001b[36mdeimkit.trainer\u001b[0m:\u001b[36mevaluate\u001b[0m:\u001b[36m331\u001b[0m - \u001b[1mEvaluating model...\u001b[0m\n"
     ]
    },
    {
     "name": "stdout",
     "output_type": "stream",
     "text": [
      "Epoch: [0]  [14/15]  eta: 0:00:00  lr: 0.000001  loss: 35.7800 (35.7458)  loss_mal: 0.8315 (0.8304)  loss_bbox: 1.1633 (1.1649)  loss_giou: 1.5846 (1.5851)  loss_fgl: 0.5342 (0.5326)  loss_mal_aux_0: 0.8320 (0.8338)  loss_bbox_aux_0: 1.1633 (1.1649)  loss_giou_aux_0: 1.5846 (1.5851)  loss_fgl_aux_0: 0.5342 (0.5326)  loss_mal_aux_1: 0.8384 (0.8314)  loss_bbox_aux_1: 1.1633 (1.1649)  loss_giou_aux_1: 1.5846 (1.5851)  loss_fgl_aux_1: 0.5342 (0.5326)  loss_mal_pre: 0.8320 (0.8338)  loss_bbox_pre: 1.1633 (1.1649)  loss_giou_pre: 1.5846 (1.5851)  loss_mal_enc_0: 0.6953 (0.7016)  loss_bbox_enc_0: 1.1633 (1.1649)  loss_giou_enc_0: 1.5847 (1.5851)  loss_mal_dn_0: 1.1289 (1.1268)  loss_bbox_dn_0: 0.9272 (0.9190)  loss_giou_dn_0: 1.3476 (1.3471)  loss_fgl_dn_0: 0.8389 (0.8386)  loss_mal_dn_1: 1.1680 (1.1708)  loss_bbox_dn_1: 0.9272 (0.9190)  loss_giou_dn_1: 1.3476 (1.3471)  loss_fgl_dn_1: 0.8389 (0.8386)  loss_mal_dn_2: 1.3623 (1.3627)  loss_bbox_dn_2: 0.9272 (0.9190)  loss_giou_dn_2: 1.3476 (1.3471)  loss_fgl_dn_2: 0.8389 (0.8386)  loss_mal_dn_pre: 1.1289 (1.1268)  loss_bbox_dn_pre: 0.9272 (0.9190)  loss_giou_dn_pre: 1.3476 (1.3471)  loss_ddf_aux_0: 0.0000 (0.0000)  loss_ddf_aux_1: 0.0000 (0.0000)  loss_ddf_dn_0: 0.0000 (0.0000)  loss_ddf_dn_1: 0.0000 (0.0000)  time: 0.4934  data: 0.0579  max mem: 8915\n",
      "Epoch: [0] Total time: 0:00:07 (0.4960 s / it)\n",
      "Averaged stats: lr: 0.000001  loss: 35.7800 (35.7458)  loss_mal: 0.8315 (0.8304)  loss_bbox: 1.1633 (1.1649)  loss_giou: 1.5846 (1.5851)  loss_fgl: 0.5342 (0.5326)  loss_mal_aux_0: 0.8320 (0.8338)  loss_bbox_aux_0: 1.1633 (1.1649)  loss_giou_aux_0: 1.5846 (1.5851)  loss_fgl_aux_0: 0.5342 (0.5326)  loss_mal_aux_1: 0.8384 (0.8314)  loss_bbox_aux_1: 1.1633 (1.1649)  loss_giou_aux_1: 1.5846 (1.5851)  loss_fgl_aux_1: 0.5342 (0.5326)  loss_mal_pre: 0.8320 (0.8338)  loss_bbox_pre: 1.1633 (1.1649)  loss_giou_pre: 1.5846 (1.5851)  loss_mal_enc_0: 0.6953 (0.7016)  loss_bbox_enc_0: 1.1633 (1.1649)  loss_giou_enc_0: 1.5847 (1.5851)  loss_mal_dn_0: 1.1289 (1.1268)  loss_bbox_dn_0: 0.9272 (0.9190)  loss_giou_dn_0: 1.3476 (1.3471)  loss_fgl_dn_0: 0.8389 (0.8386)  loss_mal_dn_1: 1.1680 (1.1708)  loss_bbox_dn_1: 0.9272 (0.9190)  loss_giou_dn_1: 1.3476 (1.3471)  loss_fgl_dn_1: 0.8389 (0.8386)  loss_mal_dn_2: 1.3623 (1.3627)  loss_bbox_dn_2: 0.9272 (0.9190)  loss_giou_dn_2: 1.3476 (1.3471)  loss_fgl_dn_2: 0.8389 (0.8386)  loss_mal_dn_pre: 1.1289 (1.1268)  loss_bbox_dn_pre: 0.9272 (0.9190)  loss_giou_dn_pre: 1.3476 (1.3471)  loss_ddf_aux_0: 0.0000 (0.0000)  loss_ddf_aux_1: 0.0000 (0.0000)  loss_ddf_dn_0: 0.0000 (0.0000)  loss_ddf_dn_1: 0.0000 (0.0000)\n",
      "Test:  [0/5]  eta: 0:00:03    time: 0.7709  data: 0.6047  max mem: 8915\n"
     ]
    },
    {
     "name": "stderr",
     "output_type": "stream",
     "text": [
      "\u001b[32m2025-03-10 16:16:47.077\u001b[0m | \u001b[1mINFO    \u001b[0m | \u001b[36mdeimkit.trainer\u001b[0m:\u001b[36mtrain\u001b[0m:\u001b[36m312\u001b[0m - \u001b[1mEpoch 0 - Train loss: 35.7458, Eval mAP: 0.0000\u001b[0m\n",
      "\u001b[32m2025-03-10 16:16:47.077\u001b[0m | \u001b[1mINFO    \u001b[0m | \u001b[36mdeimkit.trainer\u001b[0m:\u001b[36mtrain\u001b[0m:\u001b[36m315\u001b[0m - \u001b[1mBest stats: {'epoch': 0, 'coco_eval_bbox': 0.0}\u001b[0m\n"
     ]
    },
    {
     "name": "stdout",
     "output_type": "stream",
     "text": [
      "Test:  [4/5]  eta: 0:00:00    time: 0.2428  data: 0.1339  max mem: 8915\n",
      "Test: Total time: 0:00:01 (0.2524 s / it)\n",
      "Averaged stats: \n",
      "Accumulating evaluation results...\n",
      "COCOeval_opt.accumulate() finished...\n",
      "DONE (t=0.00s).\n",
      "IoU metric: bbox\n",
      " Average Precision  (AP) @[ IoU=0.50:0.95 | area=   all | maxDets=100 ] = 0.000\n",
      " Average Precision  (AP) @[ IoU=0.50      | area=   all | maxDets=100 ] = 0.000\n",
      " Average Precision  (AP) @[ IoU=0.75      | area=   all | maxDets=100 ] = 0.000\n",
      " Average Precision  (AP) @[ IoU=0.50:0.95 | area= small | maxDets=100 ] = 0.000\n",
      " Average Precision  (AP) @[ IoU=0.50:0.95 | area=medium | maxDets=100 ] = 0.000\n",
      " Average Precision  (AP) @[ IoU=0.50:0.95 | area= large | maxDets=100 ] = 0.000\n",
      " Average Recall     (AR) @[ IoU=0.50:0.95 | area=   all | maxDets=  1 ] = 0.000\n",
      " Average Recall     (AR) @[ IoU=0.50:0.95 | area=   all | maxDets= 10 ] = 0.000\n",
      " Average Recall     (AR) @[ IoU=0.50:0.95 | area=   all | maxDets=100 ] = 0.000\n",
      " Average Recall     (AR) @[ IoU=0.50:0.95 | area= small | maxDets=100 ] = 0.000\n",
      " Average Recall     (AR) @[ IoU=0.50:0.95 | area=medium | maxDets=100 ] = 0.000\n",
      " Average Recall     (AR) @[ IoU=0.50:0.95 | area= large | maxDets=100 ] = 0.000\n",
      " Average Recall     (AR) @[ IoU=0.50      | area=   all | maxDets=100 ] = 0.000\n",
      " Average Recall     (AR) @[ IoU=0.75      | area=   all | maxDets=100 ] = 0.000\n",
      "Epoch: [1]  [ 0/15]  eta: 0:00:17  lr: 0.000001  loss: 35.2892 (35.2892)  loss_mal: 0.7798 (0.7798)  loss_bbox: 1.1059 (1.1059)  loss_giou: 1.6068 (1.6068)  loss_fgl: 0.5317 (0.5317)  loss_mal_aux_0: 0.8057 (0.8057)  loss_bbox_aux_0: 1.1060 (1.1060)  loss_giou_aux_0: 1.6069 (1.6069)  loss_fgl_aux_0: 0.5316 (0.5316)  loss_ddf_aux_0: 0.0000 (0.0000)  loss_mal_aux_1: 0.8120 (0.8120)  loss_bbox_aux_1: 1.1060 (1.1060)  loss_giou_aux_1: 1.6069 (1.6069)  loss_fgl_aux_1: 0.5316 (0.5316)  loss_ddf_aux_1: 0.0000 (0.0000)  loss_mal_pre: 0.8057 (0.8057)  loss_bbox_pre: 1.1060 (1.1060)  loss_giou_pre: 1.6069 (1.6069)  loss_mal_enc_0: 0.6714 (0.6714)  loss_bbox_enc_0: 1.1060 (1.1060)  loss_giou_enc_0: 1.6069 (1.6069)  loss_mal_dn_0: 1.1230 (1.1230)  loss_bbox_dn_0: 0.9002 (0.9002)  loss_giou_dn_0: 1.3386 (1.3386)  loss_fgl_dn_0: 0.8411 (0.8411)  loss_ddf_dn_0: 0.0000 (0.0000)  loss_mal_dn_1: 1.1787 (1.1787)  loss_bbox_dn_1: 0.9001 (0.9001)  loss_giou_dn_1: 1.3386 (1.3386)  loss_fgl_dn_1: 0.8411 (0.8411)  loss_ddf_dn_1: 0.0000 (0.0000)  loss_mal_dn_2: 1.3525 (1.3525)  loss_bbox_dn_2: 0.9001 (0.9001)  loss_giou_dn_2: 1.3386 (1.3386)  loss_fgl_dn_2: 0.8411 (0.8411)  loss_mal_dn_pre: 1.1230 (1.1230)  loss_bbox_dn_pre: 0.9002 (0.9002)  loss_giou_dn_pre: 1.3386 (1.3386)  time: 1.1458  data: 0.6695  max mem: 8915\n"
     ]
    },
    {
     "name": "stderr",
     "output_type": "stream",
     "text": [
      "\u001b[32m2025-03-10 16:16:53.768\u001b[0m | \u001b[1mINFO    \u001b[0m | \u001b[36mdeimkit.trainer\u001b[0m:\u001b[36mevaluate\u001b[0m:\u001b[36m331\u001b[0m - \u001b[1mEvaluating model...\u001b[0m\n"
     ]
    },
    {
     "name": "stdout",
     "output_type": "stream",
     "text": [
      "Epoch: [1]  [14/15]  eta: 0:00:00  lr: 0.000004  loss: 35.6522 (35.6110)  loss_mal: 0.8350 (0.8348)  loss_bbox: 1.1462 (1.1532)  loss_giou: 1.5830 (1.5770)  loss_fgl: 0.5373 (0.5432)  loss_mal_aux_0: 0.8486 (0.8563)  loss_bbox_aux_0: 1.1465 (1.1535)  loss_giou_aux_0: 1.5832 (1.5772)  loss_fgl_aux_0: 0.5371 (0.5430)  loss_ddf_aux_0: 0.0000 (0.0000)  loss_mal_aux_1: 0.8403 (0.8410)  loss_bbox_aux_1: 1.1463 (1.1534)  loss_giou_aux_1: 1.5830 (1.5771)  loss_fgl_aux_1: 0.5372 (0.5432)  loss_ddf_aux_1: 0.0000 (0.0000)  loss_mal_pre: 0.8486 (0.8563)  loss_bbox_pre: 1.1465 (1.1536)  loss_giou_pre: 1.5832 (1.5772)  loss_mal_enc_0: 0.7070 (0.7073)  loss_bbox_enc_0: 1.1467 (1.1537)  loss_giou_enc_0: 1.5833 (1.5774)  loss_mal_dn_0: 1.0996 (1.0984)  loss_bbox_dn_0: 0.9201 (0.9200)  loss_giou_dn_0: 1.3467 (1.3483)  loss_fgl_dn_0: 0.8382 (0.8377)  loss_ddf_dn_0: 0.0000 (-0.0000)  loss_mal_dn_1: 1.1387 (1.1424)  loss_bbox_dn_1: 0.9201 (0.9200)  loss_giou_dn_1: 1.3467 (1.3483)  loss_fgl_dn_1: 0.8382 (0.8377)  loss_ddf_dn_1: 0.0000 (-0.0000)  loss_mal_dn_2: 1.3057 (1.3070)  loss_bbox_dn_2: 0.9201 (0.9199)  loss_giou_dn_2: 1.3467 (1.3483)  loss_fgl_dn_2: 0.8381 (0.8377)  loss_mal_dn_pre: 1.0996 (1.0984)  loss_bbox_dn_pre: 0.9202 (0.9201)  loss_giou_dn_pre: 1.3467 (1.3483)  time: 0.4415  data: 0.0598  max mem: 9738\n",
      "Epoch: [1] Total time: 0:00:06 (0.4448 s / it)\n",
      "Averaged stats: lr: 0.000004  loss: 35.6522 (35.6110)  loss_mal: 0.8350 (0.8348)  loss_bbox: 1.1462 (1.1532)  loss_giou: 1.5830 (1.5770)  loss_fgl: 0.5373 (0.5432)  loss_mal_aux_0: 0.8486 (0.8563)  loss_bbox_aux_0: 1.1465 (1.1535)  loss_giou_aux_0: 1.5832 (1.5772)  loss_fgl_aux_0: 0.5371 (0.5430)  loss_ddf_aux_0: 0.0000 (0.0000)  loss_mal_aux_1: 0.8403 (0.8410)  loss_bbox_aux_1: 1.1463 (1.1534)  loss_giou_aux_1: 1.5830 (1.5771)  loss_fgl_aux_1: 0.5372 (0.5432)  loss_ddf_aux_1: 0.0000 (0.0000)  loss_mal_pre: 0.8486 (0.8563)  loss_bbox_pre: 1.1465 (1.1536)  loss_giou_pre: 1.5832 (1.5772)  loss_mal_enc_0: 0.7070 (0.7073)  loss_bbox_enc_0: 1.1467 (1.1537)  loss_giou_enc_0: 1.5833 (1.5774)  loss_mal_dn_0: 1.0996 (1.0984)  loss_bbox_dn_0: 0.9201 (0.9200)  loss_giou_dn_0: 1.3467 (1.3483)  loss_fgl_dn_0: 0.8382 (0.8377)  loss_ddf_dn_0: 0.0000 (-0.0000)  loss_mal_dn_1: 1.1387 (1.1424)  loss_bbox_dn_1: 0.9201 (0.9200)  loss_giou_dn_1: 1.3467 (1.3483)  loss_fgl_dn_1: 0.8382 (0.8377)  loss_ddf_dn_1: 0.0000 (-0.0000)  loss_mal_dn_2: 1.3057 (1.3070)  loss_bbox_dn_2: 0.9201 (0.9199)  loss_giou_dn_2: 1.3467 (1.3483)  loss_fgl_dn_2: 0.8381 (0.8377)  loss_mal_dn_pre: 1.0996 (1.0984)  loss_bbox_dn_pre: 0.9202 (0.9201)  loss_giou_dn_pre: 1.3467 (1.3483)\n",
      "Test:  [0/5]  eta: 0:00:04    time: 0.8566  data: 0.5659  max mem: 9738\n"
     ]
    },
    {
     "name": "stderr",
     "output_type": "stream",
     "text": [
      "\u001b[32m2025-03-10 16:16:55.156\u001b[0m | \u001b[1mINFO    \u001b[0m | \u001b[36mdeimkit.trainer\u001b[0m:\u001b[36mtrain\u001b[0m:\u001b[36m312\u001b[0m - \u001b[1mEpoch 1 - Train loss: 35.6110, Eval mAP: 0.0000\u001b[0m\n",
      "\u001b[32m2025-03-10 16:16:55.156\u001b[0m | \u001b[1mINFO    \u001b[0m | \u001b[36mdeimkit.trainer\u001b[0m:\u001b[36mtrain\u001b[0m:\u001b[36m315\u001b[0m - \u001b[1mBest stats: {'epoch': 0, 'coco_eval_bbox': 0.0}\u001b[0m\n"
     ]
    },
    {
     "name": "stdout",
     "output_type": "stream",
     "text": [
      "Test:  [4/5]  eta: 0:00:00    time: 0.2639  data: 0.1308  max mem: 9738\n",
      "Test: Total time: 0:00:01 (0.2740 s / it)\n",
      "Averaged stats: \n",
      "Accumulating evaluation results...\n",
      "COCOeval_opt.accumulate() finished...\n",
      "DONE (t=0.01s).\n",
      "IoU metric: bbox\n",
      " Average Precision  (AP) @[ IoU=0.50:0.95 | area=   all | maxDets=100 ] = 0.000\n",
      " Average Precision  (AP) @[ IoU=0.50      | area=   all | maxDets=100 ] = 0.000\n",
      " Average Precision  (AP) @[ IoU=0.75      | area=   all | maxDets=100 ] = 0.000\n",
      " Average Precision  (AP) @[ IoU=0.50:0.95 | area= small | maxDets=100 ] = 0.000\n",
      " Average Precision  (AP) @[ IoU=0.50:0.95 | area=medium | maxDets=100 ] = 0.000\n",
      " Average Precision  (AP) @[ IoU=0.50:0.95 | area= large | maxDets=100 ] = 0.000\n",
      " Average Recall     (AR) @[ IoU=0.50:0.95 | area=   all | maxDets=  1 ] = 0.000\n",
      " Average Recall     (AR) @[ IoU=0.50:0.95 | area=   all | maxDets= 10 ] = 0.000\n",
      " Average Recall     (AR) @[ IoU=0.50:0.95 | area=   all | maxDets=100 ] = 0.000\n",
      " Average Recall     (AR) @[ IoU=0.50:0.95 | area= small | maxDets=100 ] = 0.000\n",
      " Average Recall     (AR) @[ IoU=0.50:0.95 | area=medium | maxDets=100 ] = 0.000\n",
      " Average Recall     (AR) @[ IoU=0.50:0.95 | area= large | maxDets=100 ] = 0.000\n",
      " Average Recall     (AR) @[ IoU=0.50      | area=   all | maxDets=100 ] = 0.000\n",
      " Average Recall     (AR) @[ IoU=0.75      | area=   all | maxDets=100 ] = 0.000\n",
      "Epoch: [2]  [ 0/15]  eta: 0:00:17  lr: 0.000005  loss: 35.2083 (35.2083)  loss_mal: 0.8521 (0.8521)  loss_bbox: 1.1065 (1.1065)  loss_giou: 1.5768 (1.5768)  loss_fgl: 0.5559 (0.5559)  loss_mal_aux_0: 0.8721 (0.8721)  loss_bbox_aux_0: 1.1071 (1.1071)  loss_giou_aux_0: 1.5773 (1.5773)  loss_fgl_aux_0: 0.5555 (0.5555)  loss_ddf_aux_0: 0.0000 (0.0000)  loss_mal_aux_1: 0.8740 (0.8740)  loss_bbox_aux_1: 1.1067 (1.1067)  loss_giou_aux_1: 1.5770 (1.5770)  loss_fgl_aux_1: 0.5557 (0.5557)  loss_ddf_aux_1: 0.0000 (0.0000)  loss_mal_pre: 0.8721 (0.8721)  loss_bbox_pre: 1.1072 (1.1072)  loss_giou_pre: 1.5774 (1.5774)  loss_mal_enc_0: 0.7114 (0.7114)  loss_bbox_enc_0: 1.1074 (1.1074)  loss_giou_enc_0: 1.5777 (1.5777)  loss_mal_dn_0: 1.0645 (1.0645)  loss_bbox_dn_0: 0.8940 (0.8940)  loss_giou_dn_0: 1.3393 (1.3393)  loss_fgl_dn_0: 0.8433 (0.8433)  loss_ddf_dn_0: -0.0007 (-0.0007)  loss_mal_dn_1: 1.1172 (1.1172)  loss_bbox_dn_1: 0.8939 (0.8939)  loss_giou_dn_1: 1.3393 (1.3393)  loss_fgl_dn_1: 0.8432 (0.8432)  loss_ddf_dn_1: 0.0000 (0.0000)  loss_mal_dn_2: 1.2305 (1.2305)  loss_bbox_dn_2: 0.8938 (0.8938)  loss_giou_dn_2: 1.3394 (1.3394)  loss_fgl_dn_2: 0.8430 (0.8430)  loss_mal_dn_pre: 1.0645 (1.0645)  loss_bbox_dn_pre: 0.8940 (0.8940)  loss_giou_dn_pre: 1.3393 (1.3393)  time: 1.1933  data: 0.7561  max mem: 9738\n"
     ]
    },
    {
     "name": "stderr",
     "output_type": "stream",
     "text": [
      "\u001b[32m2025-03-10 16:17:01.479\u001b[0m | \u001b[1mINFO    \u001b[0m | \u001b[36mdeimkit.trainer\u001b[0m:\u001b[36mevaluate\u001b[0m:\u001b[36m331\u001b[0m - \u001b[1mEvaluating model...\u001b[0m\n"
     ]
    },
    {
     "name": "stdout",
     "output_type": "stream",
     "text": [
      "Epoch: [2]  [14/15]  eta: 0:00:00  lr: 0.000010  loss: 34.9727 (34.8539)  loss_mal: 0.8521 (0.8636)  loss_bbox: 1.0724 (1.0531)  loss_giou: 1.5134 (1.5014)  loss_fgl: 0.6112 (0.6256)  loss_mal_aux_0: 0.9351 (0.9686)  loss_bbox_aux_0: 1.0737 (1.0544)  loss_giou_aux_0: 1.5148 (1.5025)  loss_fgl_aux_0: 0.6104 (0.6248)  loss_ddf_aux_0: -0.0006 (-0.0007)  loss_mal_aux_1: 0.9111 (0.9312)  loss_bbox_aux_1: 1.0730 (1.0537)  loss_giou_aux_1: 1.5141 (1.5019)  loss_fgl_aux_1: 0.6108 (0.6253)  loss_ddf_aux_1: 0.0002 (0.0002)  loss_mal_pre: 0.9341 (0.9681)  loss_bbox_pre: 1.0740 (1.0547)  loss_giou_pre: 1.5150 (1.5028)  loss_mal_enc_0: 0.7607 (0.7667)  loss_bbox_enc_0: 1.0745 (1.0552)  loss_giou_enc_0: 1.5156 (1.5033)  loss_mal_dn_0: 0.9946 (1.0002)  loss_bbox_dn_0: 0.9174 (0.9181)  loss_giou_dn_0: 1.3498 (1.3482)  loss_fgl_dn_0: 0.8375 (0.8371)  loss_ddf_dn_0: -0.0007 (-0.0007)  loss_mal_dn_1: 1.0205 (1.0336)  loss_bbox_dn_1: 0.9172 (0.9178)  loss_giou_dn_1: 1.3498 (1.3483)  loss_fgl_dn_1: 0.8372 (0.8369)  loss_ddf_dn_1: 0.0006 (0.0004)  loss_mal_dn_2: 1.0752 (1.0883)  loss_bbox_dn_2: 0.9170 (0.9177)  loss_giou_dn_2: 1.3499 (1.3483)  loss_fgl_dn_2: 0.8370 (0.8366)  loss_mal_dn_pre: 0.9946 (1.0002)  loss_bbox_dn_pre: 0.9176 (0.9182)  loss_giou_dn_pre: 1.3498 (1.3482)  time: 0.4162  data: 0.0633  max mem: 9738\n",
      "Epoch: [2] Total time: 0:00:06 (0.4199 s / it)\n",
      "Averaged stats: lr: 0.000010  loss: 34.9727 (34.8539)  loss_mal: 0.8521 (0.8636)  loss_bbox: 1.0724 (1.0531)  loss_giou: 1.5134 (1.5014)  loss_fgl: 0.6112 (0.6256)  loss_mal_aux_0: 0.9351 (0.9686)  loss_bbox_aux_0: 1.0737 (1.0544)  loss_giou_aux_0: 1.5148 (1.5025)  loss_fgl_aux_0: 0.6104 (0.6248)  loss_ddf_aux_0: -0.0006 (-0.0007)  loss_mal_aux_1: 0.9111 (0.9312)  loss_bbox_aux_1: 1.0730 (1.0537)  loss_giou_aux_1: 1.5141 (1.5019)  loss_fgl_aux_1: 0.6108 (0.6253)  loss_ddf_aux_1: 0.0002 (0.0002)  loss_mal_pre: 0.9341 (0.9681)  loss_bbox_pre: 1.0740 (1.0547)  loss_giou_pre: 1.5150 (1.5028)  loss_mal_enc_0: 0.7607 (0.7667)  loss_bbox_enc_0: 1.0745 (1.0552)  loss_giou_enc_0: 1.5156 (1.5033)  loss_mal_dn_0: 0.9946 (1.0002)  loss_bbox_dn_0: 0.9174 (0.9181)  loss_giou_dn_0: 1.3498 (1.3482)  loss_fgl_dn_0: 0.8375 (0.8371)  loss_ddf_dn_0: -0.0007 (-0.0007)  loss_mal_dn_1: 1.0205 (1.0336)  loss_bbox_dn_1: 0.9172 (0.9178)  loss_giou_dn_1: 1.3498 (1.3483)  loss_fgl_dn_1: 0.8372 (0.8369)  loss_ddf_dn_1: 0.0006 (0.0004)  loss_mal_dn_2: 1.0752 (1.0883)  loss_bbox_dn_2: 0.9170 (0.9177)  loss_giou_dn_2: 1.3499 (1.3483)  loss_fgl_dn_2: 0.8370 (0.8366)  loss_mal_dn_pre: 0.9946 (1.0002)  loss_bbox_dn_pre: 0.9176 (0.9182)  loss_giou_dn_pre: 1.3498 (1.3482)\n",
      "Test:  [0/5]  eta: 0:00:04    time: 0.9220  data: 0.6589  max mem: 9738\n"
     ]
    },
    {
     "name": "stderr",
     "output_type": "stream",
     "text": [
      "\u001b[32m2025-03-10 16:17:02.937\u001b[0m | \u001b[1mINFO    \u001b[0m | \u001b[36mdeimkit.trainer\u001b[0m:\u001b[36m_save_checkpoint\u001b[0m:\u001b[36m363\u001b[0m - \u001b[1mSaving checkpoint to outputs/deim_hgnetv2_s_coco_ema_tune/best.pth\u001b[0m\n"
     ]
    },
    {
     "name": "stdout",
     "output_type": "stream",
     "text": [
      "Test:  [4/5]  eta: 0:00:00    time: 0.2768  data: 0.1443  max mem: 9738\n",
      "Test: Total time: 0:00:01 (0.2875 s / it)\n",
      "Averaged stats: \n",
      "Accumulating evaluation results...\n",
      "COCOeval_opt.accumulate() finished...\n",
      "DONE (t=0.01s).\n",
      "IoU metric: bbox\n",
      " Average Precision  (AP) @[ IoU=0.50:0.95 | area=   all | maxDets=100 ] = 0.000\n",
      " Average Precision  (AP) @[ IoU=0.50      | area=   all | maxDets=100 ] = 0.000\n",
      " Average Precision  (AP) @[ IoU=0.75      | area=   all | maxDets=100 ] = 0.000\n",
      " Average Precision  (AP) @[ IoU=0.50:0.95 | area= small | maxDets=100 ] = 0.000\n",
      " Average Precision  (AP) @[ IoU=0.50:0.95 | area=medium | maxDets=100 ] = 0.001\n",
      " Average Precision  (AP) @[ IoU=0.50:0.95 | area= large | maxDets=100 ] = 0.000\n",
      " Average Recall     (AR) @[ IoU=0.50:0.95 | area=   all | maxDets=  1 ] = 0.000\n",
      " Average Recall     (AR) @[ IoU=0.50:0.95 | area=   all | maxDets= 10 ] = 0.000\n",
      " Average Recall     (AR) @[ IoU=0.50:0.95 | area=   all | maxDets=100 ] = 0.003\n",
      " Average Recall     (AR) @[ IoU=0.50:0.95 | area= small | maxDets=100 ] = 0.000\n",
      " Average Recall     (AR) @[ IoU=0.50:0.95 | area=medium | maxDets=100 ] = 0.003\n",
      " Average Recall     (AR) @[ IoU=0.50:0.95 | area= large | maxDets=100 ] = 0.003\n",
      " Average Recall     (AR) @[ IoU=0.50      | area=   all | maxDets=100 ] = 0.013\n",
      " Average Recall     (AR) @[ IoU=0.75      | area=   all | maxDets=100 ] = 0.000\n"
     ]
    },
    {
     "name": "stderr",
     "output_type": "stream",
     "text": [
      "\u001b[32m2025-03-10 16:17:03.185\u001b[0m | \u001b[1mINFO    \u001b[0m | \u001b[36mdeimkit.trainer\u001b[0m:\u001b[36m_save_checkpoint\u001b[0m:\u001b[36m380\u001b[0m - \u001b[1mCheckpoint saved to outputs/deim_hgnetv2_s_coco_ema_tune/best.pth\u001b[0m\n",
      "\u001b[32m2025-03-10 16:17:03.186\u001b[0m | \u001b[1mINFO    \u001b[0m | \u001b[36mdeimkit.trainer\u001b[0m:\u001b[36mtrain\u001b[0m:\u001b[36m312\u001b[0m - \u001b[1mEpoch 2 - Train loss: 34.8539, Eval mAP: 0.0000\u001b[0m\n",
      "\u001b[32m2025-03-10 16:17:03.186\u001b[0m | \u001b[1mINFO    \u001b[0m | \u001b[36mdeimkit.trainer\u001b[0m:\u001b[36mtrain\u001b[0m:\u001b[36m315\u001b[0m - \u001b[1mBest stats: {'epoch': 2, 'coco_eval_bbox': 1.660571500409556e-05}\u001b[0m\n"
     ]
    },
    {
     "name": "stdout",
     "output_type": "stream",
     "text": [
      "Epoch: [3]  [ 0/15]  eta: 0:00:18  lr: 0.000010  loss: 33.8284 (33.8284)  loss_mal: 0.8394 (0.8394)  loss_bbox: 0.9452 (0.9452)  loss_giou: 1.4583 (1.4583)  loss_fgl: 0.6762 (0.6762)  loss_mal_aux_0: 0.9766 (0.9766)  loss_bbox_aux_0: 0.9475 (0.9475)  loss_giou_aux_0: 1.4605 (1.4605)  loss_fgl_aux_0: 0.6748 (0.6748)  loss_ddf_aux_0: -0.0018 (-0.0018)  loss_mal_aux_1: 0.9429 (0.9429)  loss_bbox_aux_1: 0.9464 (0.9464)  loss_giou_aux_1: 1.4593 (1.4593)  loss_fgl_aux_1: 0.6756 (0.6756)  loss_ddf_aux_1: -0.0002 (-0.0002)  loss_mal_pre: 0.9761 (0.9761)  loss_bbox_pre: 0.9479 (0.9479)  loss_giou_pre: 1.4609 (1.4609)  loss_mal_enc_0: 0.7612 (0.7612)  loss_bbox_enc_0: 0.9489 (0.9489)  loss_giou_enc_0: 1.4619 (1.4619)  loss_mal_dn_0: 0.9253 (0.9253)  loss_bbox_dn_0: 0.9081 (0.9081)  loss_giou_dn_0: 1.3574 (1.3574)  loss_fgl_dn_0: 0.8306 (0.8306)  loss_ddf_dn_0: -0.0005 (-0.0005)  loss_mal_dn_1: 0.9517 (0.9517)  loss_bbox_dn_1: 0.9075 (0.9075)  loss_giou_dn_1: 1.3575 (1.3575)  loss_fgl_dn_1: 0.8301 (0.8301)  loss_ddf_dn_1: 0.0003 (0.0003)  loss_mal_dn_2: 0.9165 (0.9165)  loss_bbox_dn_2: 0.9072 (0.9072)  loss_giou_dn_2: 1.3576 (1.3576)  loss_fgl_dn_2: 0.8297 (0.8297)  loss_mal_dn_pre: 0.9263 (0.9263)  loss_bbox_dn_pre: 0.9084 (0.9084)  loss_giou_dn_pre: 1.3573 (1.3573)  time: 1.2329  data: 0.7553  max mem: 9738\n"
     ]
    },
    {
     "name": "stderr",
     "output_type": "stream",
     "text": [
      "\u001b[32m2025-03-10 16:17:09.695\u001b[0m | \u001b[1mINFO    \u001b[0m | \u001b[36mdeimkit.trainer\u001b[0m:\u001b[36m_save_checkpoint\u001b[0m:\u001b[36m363\u001b[0m - \u001b[1mSaving checkpoint to outputs/deim_hgnetv2_s_coco_ema_tune/checkpoint0003.pth\u001b[0m\n"
     ]
    },
    {
     "name": "stdout",
     "output_type": "stream",
     "text": [
      "Epoch: [3]  [14/15]  eta: 0:00:00  lr: 0.000017  loss: 33.3764 (33.5673)  loss_mal: 0.9712 (0.9898)  loss_bbox: 0.7901 (0.8238)  loss_giou: 1.2587 (1.2654)  loss_fgl: 0.8820 (0.8702)  loss_mal_aux_0: 1.2920 (1.2714)  loss_bbox_aux_0: 0.7957 (0.8290)  loss_giou_aux_0: 1.2618 (1.2694)  loss_fgl_aux_0: 0.8802 (0.8684)  loss_ddf_aux_0: -0.0011 (-0.0002)  loss_mal_aux_1: 1.1162 (1.1083)  loss_bbox_aux_1: 0.7933 (0.8267)  loss_giou_aux_1: 1.2602 (1.2675)  loss_fgl_aux_1: 0.8811 (0.8693)  loss_ddf_aux_1: -0.0000 (-0.0000)  loss_mal_pre: 1.2920 (1.2702)  loss_bbox_pre: 0.7969 (0.8301)  loss_giou_pre: 1.2623 (1.2702)  loss_mal_enc_0: 0.9678 (0.9563)  loss_bbox_enc_0: 0.7989 (0.8320)  loss_giou_enc_0: 1.2636 (1.2718)  loss_mal_dn_0: 0.8428 (0.8420)  loss_bbox_dn_0: 0.9268 (0.9212)  loss_giou_dn_0: 1.3480 (1.3484)  loss_fgl_dn_0: 0.8332 (0.8356)  loss_ddf_dn_0: -0.0005 (-0.0004)  loss_mal_dn_1: 0.8423 (0.8422)  loss_bbox_dn_1: 0.9254 (0.9201)  loss_giou_dn_1: 1.3482 (1.3486)  loss_fgl_dn_1: 0.8325 (0.8349)  loss_ddf_dn_1: -0.0001 (-0.0002)  loss_mal_dn_2: 0.7466 (0.7695)  loss_bbox_dn_2: 0.9251 (0.9197)  loss_giou_dn_2: 1.3484 (1.3489)  loss_fgl_dn_2: 0.8318 (0.8342)  loss_mal_dn_pre: 0.8433 (0.8424)  loss_bbox_dn_pre: 0.9276 (0.9218)  loss_giou_dn_pre: 1.3479 (1.3484)  time: 0.4288  data: 0.0639  max mem: 9738\n",
      "Epoch: [3] Total time: 0:00:06 (0.4325 s / it)\n",
      "Averaged stats: lr: 0.000017  loss: 33.3764 (33.5673)  loss_mal: 0.9712 (0.9898)  loss_bbox: 0.7901 (0.8238)  loss_giou: 1.2587 (1.2654)  loss_fgl: 0.8820 (0.8702)  loss_mal_aux_0: 1.2920 (1.2714)  loss_bbox_aux_0: 0.7957 (0.8290)  loss_giou_aux_0: 1.2618 (1.2694)  loss_fgl_aux_0: 0.8802 (0.8684)  loss_ddf_aux_0: -0.0011 (-0.0002)  loss_mal_aux_1: 1.1162 (1.1083)  loss_bbox_aux_1: 0.7933 (0.8267)  loss_giou_aux_1: 1.2602 (1.2675)  loss_fgl_aux_1: 0.8811 (0.8693)  loss_ddf_aux_1: -0.0000 (-0.0000)  loss_mal_pre: 1.2920 (1.2702)  loss_bbox_pre: 0.7969 (0.8301)  loss_giou_pre: 1.2623 (1.2702)  loss_mal_enc_0: 0.9678 (0.9563)  loss_bbox_enc_0: 0.7989 (0.8320)  loss_giou_enc_0: 1.2636 (1.2718)  loss_mal_dn_0: 0.8428 (0.8420)  loss_bbox_dn_0: 0.9268 (0.9212)  loss_giou_dn_0: 1.3480 (1.3484)  loss_fgl_dn_0: 0.8332 (0.8356)  loss_ddf_dn_0: -0.0005 (-0.0004)  loss_mal_dn_1: 0.8423 (0.8422)  loss_bbox_dn_1: 0.9254 (0.9201)  loss_giou_dn_1: 1.3482 (1.3486)  loss_fgl_dn_1: 0.8325 (0.8349)  loss_ddf_dn_1: -0.0001 (-0.0002)  loss_mal_dn_2: 0.7466 (0.7695)  loss_bbox_dn_2: 0.9251 (0.9197)  loss_giou_dn_2: 1.3484 (1.3489)  loss_fgl_dn_2: 0.8318 (0.8342)  loss_mal_dn_pre: 0.8433 (0.8424)  loss_bbox_dn_pre: 0.9276 (0.9218)  loss_giou_dn_pre: 1.3479 (1.3484)\n"
     ]
    },
    {
     "name": "stderr",
     "output_type": "stream",
     "text": [
      "\u001b[32m2025-03-10 16:17:10.071\u001b[0m | \u001b[1mINFO    \u001b[0m | \u001b[36mdeimkit.trainer\u001b[0m:\u001b[36m_save_checkpoint\u001b[0m:\u001b[36m380\u001b[0m - \u001b[1mCheckpoint saved to outputs/deim_hgnetv2_s_coco_ema_tune/checkpoint0003.pth\u001b[0m\n",
      "\u001b[32m2025-03-10 16:17:10.072\u001b[0m | \u001b[1mINFO    \u001b[0m | \u001b[36mdeimkit.trainer\u001b[0m:\u001b[36mevaluate\u001b[0m:\u001b[36m331\u001b[0m - \u001b[1mEvaluating model...\u001b[0m\n"
     ]
    },
    {
     "name": "stdout",
     "output_type": "stream",
     "text": [
      "Test:  [0/5]  eta: 0:00:04    time: 0.8630  data: 0.5946  max mem: 9738\n"
     ]
    },
    {
     "name": "stderr",
     "output_type": "stream",
     "text": [
      "\u001b[32m2025-03-10 16:17:11.517\u001b[0m | \u001b[1mINFO    \u001b[0m | \u001b[36mdeimkit.trainer\u001b[0m:\u001b[36m_save_checkpoint\u001b[0m:\u001b[36m363\u001b[0m - \u001b[1mSaving checkpoint to outputs/deim_hgnetv2_s_coco_ema_tune/best.pth\u001b[0m\n"
     ]
    },
    {
     "name": "stdout",
     "output_type": "stream",
     "text": [
      "Test:  [4/5]  eta: 0:00:00    time: 0.2737  data: 0.1379  max mem: 9738\n",
      "Test: Total time: 0:00:01 (0.2853 s / it)\n",
      "Averaged stats: \n",
      "Accumulating evaluation results...\n",
      "COCOeval_opt.accumulate() finished...\n",
      "DONE (t=0.01s).\n",
      "IoU metric: bbox\n",
      " Average Precision  (AP) @[ IoU=0.50:0.95 | area=   all | maxDets=100 ] = 0.002\n",
      " Average Precision  (AP) @[ IoU=0.50      | area=   all | maxDets=100 ] = 0.010\n",
      " Average Precision  (AP) @[ IoU=0.75      | area=   all | maxDets=100 ] = 0.000\n",
      " Average Precision  (AP) @[ IoU=0.50:0.95 | area= small | maxDets=100 ] = 0.000\n",
      " Average Precision  (AP) @[ IoU=0.50:0.95 | area=medium | maxDets=100 ] = 0.001\n",
      " Average Precision  (AP) @[ IoU=0.50:0.95 | area= large | maxDets=100 ] = 0.005\n",
      " Average Recall     (AR) @[ IoU=0.50:0.95 | area=   all | maxDets=  1 ] = 0.001\n",
      " Average Recall     (AR) @[ IoU=0.50:0.95 | area=   all | maxDets= 10 ] = 0.007\n",
      " Average Recall     (AR) @[ IoU=0.50:0.95 | area=   all | maxDets=100 ] = 0.044\n",
      " Average Recall     (AR) @[ IoU=0.50:0.95 | area= small | maxDets=100 ] = 0.000\n",
      " Average Recall     (AR) @[ IoU=0.50:0.95 | area=medium | maxDets=100 ] = 0.021\n",
      " Average Recall     (AR) @[ IoU=0.50:0.95 | area= large | maxDets=100 ] = 0.052\n",
      " Average Recall     (AR) @[ IoU=0.50      | area=   all | maxDets=100 ] = 0.140\n",
      " Average Recall     (AR) @[ IoU=0.75      | area=   all | maxDets=100 ] = 0.017\n"
     ]
    },
    {
     "name": "stderr",
     "output_type": "stream",
     "text": [
      "\u001b[32m2025-03-10 16:17:11.869\u001b[0m | \u001b[1mINFO    \u001b[0m | \u001b[36mdeimkit.trainer\u001b[0m:\u001b[36m_save_checkpoint\u001b[0m:\u001b[36m380\u001b[0m - \u001b[1mCheckpoint saved to outputs/deim_hgnetv2_s_coco_ema_tune/best.pth\u001b[0m\n",
      "\u001b[32m2025-03-10 16:17:11.871\u001b[0m | \u001b[1mINFO    \u001b[0m | \u001b[36mdeimkit.trainer\u001b[0m:\u001b[36mtrain\u001b[0m:\u001b[36m312\u001b[0m - \u001b[1mEpoch 3 - Train loss: 33.5673, Eval mAP: 0.0025\u001b[0m\n",
      "\u001b[32m2025-03-10 16:17:11.871\u001b[0m | \u001b[1mINFO    \u001b[0m | \u001b[36mdeimkit.trainer\u001b[0m:\u001b[36mtrain\u001b[0m:\u001b[36m315\u001b[0m - \u001b[1mBest stats: {'epoch': 3, 'coco_eval_bbox': 0.0024802865053112446}\u001b[0m\n"
     ]
    },
    {
     "name": "stdout",
     "output_type": "stream",
     "text": [
      "Epoch: [4]  [ 0/15]  eta: 0:00:26  lr: 0.000018  loss: 31.2853 (31.2853)  loss_mal: 0.7925 (0.7925)  loss_bbox: 0.8492 (0.8492)  loss_giou: 1.5165 (1.5165)  loss_fgl: 0.6593 (0.6593)  loss_mal_aux_0: 0.8247 (0.8247)  loss_bbox_aux_0: 0.8511 (0.8511)  loss_giou_aux_0: 1.5195 (1.5195)  loss_fgl_aux_0: 0.6584 (0.6584)  loss_ddf_aux_0: 0.0025 (0.0025)  loss_mal_aux_1: 0.7358 (0.7358)  loss_bbox_aux_1: 0.8504 (0.8504)  loss_giou_aux_1: 1.5179 (1.5179)  loss_fgl_aux_1: 0.6590 (0.6590)  loss_ddf_aux_1: 0.0002 (0.0002)  loss_mal_pre: 0.8247 (0.8247)  loss_bbox_pre: 0.8516 (0.8516)  loss_giou_pre: 1.5201 (1.5201)  loss_mal_enc_0: 0.7432 (0.7432)  loss_bbox_enc_0: 0.8524 (0.8524)  loss_giou_enc_0: 1.5217 (1.5217)  loss_mal_dn_0: 0.7422 (0.7422)  loss_bbox_dn_0: 0.6513 (0.6513)  loss_giou_dn_0: 1.4144 (1.4144)  loss_fgl_dn_0: 0.7756 (0.7756)  loss_ddf_dn_0: 0.0008 (0.0008)  loss_mal_dn_1: 0.7251 (0.7251)  loss_bbox_dn_1: 0.6502 (0.6502)  loss_giou_dn_1: 1.4155 (1.4155)  loss_fgl_dn_1: 0.7740 (0.7740)  loss_ddf_dn_1: 0.0003 (0.0003)  loss_mal_dn_2: 0.7383 (0.7383)  loss_bbox_dn_2: 0.6498 (0.6498)  loss_giou_dn_2: 1.4166 (1.4166)  loss_fgl_dn_2: 0.7724 (0.7724)  loss_mal_dn_pre: 0.7422 (0.7422)  loss_bbox_dn_pre: 0.6519 (0.6519)  loss_giou_dn_pre: 1.4139 (1.4139)  time: 1.7626  data: 1.2537  max mem: 9738\n"
     ]
    },
    {
     "name": "stderr",
     "output_type": "stream",
     "text": [
      "\u001b[32m2025-03-10 16:17:20.229\u001b[0m | \u001b[1mINFO    \u001b[0m | \u001b[36mdeimkit.trainer\u001b[0m:\u001b[36mevaluate\u001b[0m:\u001b[36m331\u001b[0m - \u001b[1mEvaluating model...\u001b[0m\n"
     ]
    },
    {
     "name": "stdout",
     "output_type": "stream",
     "text": [
      "Epoch: [4]  [14/15]  eta: 0:00:00  lr: 0.000027  loss: 30.2069 (30.3651)  loss_mal: 0.6709 (0.6718)  loss_bbox: 0.8033 (0.8237)  loss_giou: 1.5054 (1.5560)  loss_fgl: 0.6543 (0.6381)  loss_mal_aux_0: 0.6680 (0.6716)  loss_bbox_aux_0: 0.8050 (0.8315)  loss_giou_aux_0: 1.5091 (1.5593)  loss_fgl_aux_0: 0.6537 (0.6376)  loss_ddf_aux_0: 0.0011 (0.0012)  loss_mal_aux_1: 0.6763 (0.6728)  loss_bbox_aux_1: 0.8046 (0.8285)  loss_giou_aux_1: 1.5070 (1.5573)  loss_fgl_aux_1: 0.6541 (0.6380)  loss_ddf_aux_1: 0.0002 (0.0002)  loss_mal_pre: 0.6665 (0.6707)  loss_bbox_pre: 0.8054 (0.8333)  loss_giou_pre: 1.5099 (1.5602)  loss_mal_enc_0: 0.7129 (0.6923)  loss_bbox_enc_0: 0.8057 (0.8355)  loss_giou_enc_0: 1.5125 (1.5629)  loss_mal_dn_0: 0.7866 (0.7880)  loss_bbox_dn_0: 0.5222 (0.5410)  loss_giou_dn_0: 1.3616 (1.3644)  loss_fgl_dn_0: 0.8261 (0.8240)  loss_ddf_dn_0: 0.0009 (0.0009)  loss_mal_dn_1: 0.7637 (0.7570)  loss_bbox_dn_1: 0.5209 (0.5387)  loss_giou_dn_1: 1.3625 (1.3661)  loss_fgl_dn_1: 0.8240 (0.8209)  loss_ddf_dn_1: 0.0002 (0.0001)  loss_mal_dn_2: 0.6875 (0.7043)  loss_bbox_dn_2: 0.5203 (0.5374)  loss_giou_dn_2: 1.3631 (1.3683)  loss_fgl_dn_2: 0.8221 (0.8174)  loss_mal_dn_pre: 0.7866 (0.7882)  loss_bbox_dn_pre: 0.5229 (0.5423)  loss_giou_dn_pre: 1.3612 (1.3637)  time: 0.5510  data: 0.1017  max mem: 10083\n",
      "Epoch: [4] Total time: 0:00:08 (0.5559 s / it)\n",
      "Averaged stats: lr: 0.000027  loss: 30.2069 (30.3651)  loss_mal: 0.6709 (0.6718)  loss_bbox: 0.8033 (0.8237)  loss_giou: 1.5054 (1.5560)  loss_fgl: 0.6543 (0.6381)  loss_mal_aux_0: 0.6680 (0.6716)  loss_bbox_aux_0: 0.8050 (0.8315)  loss_giou_aux_0: 1.5091 (1.5593)  loss_fgl_aux_0: 0.6537 (0.6376)  loss_ddf_aux_0: 0.0011 (0.0012)  loss_mal_aux_1: 0.6763 (0.6728)  loss_bbox_aux_1: 0.8046 (0.8285)  loss_giou_aux_1: 1.5070 (1.5573)  loss_fgl_aux_1: 0.6541 (0.6380)  loss_ddf_aux_1: 0.0002 (0.0002)  loss_mal_pre: 0.6665 (0.6707)  loss_bbox_pre: 0.8054 (0.8333)  loss_giou_pre: 1.5099 (1.5602)  loss_mal_enc_0: 0.7129 (0.6923)  loss_bbox_enc_0: 0.8057 (0.8355)  loss_giou_enc_0: 1.5125 (1.5629)  loss_mal_dn_0: 0.7866 (0.7880)  loss_bbox_dn_0: 0.5222 (0.5410)  loss_giou_dn_0: 1.3616 (1.3644)  loss_fgl_dn_0: 0.8261 (0.8240)  loss_ddf_dn_0: 0.0009 (0.0009)  loss_mal_dn_1: 0.7637 (0.7570)  loss_bbox_dn_1: 0.5209 (0.5387)  loss_giou_dn_1: 1.3625 (1.3661)  loss_fgl_dn_1: 0.8240 (0.8209)  loss_ddf_dn_1: 0.0002 (0.0001)  loss_mal_dn_2: 0.6875 (0.7043)  loss_bbox_dn_2: 0.5203 (0.5374)  loss_giou_dn_2: 1.3631 (1.3683)  loss_fgl_dn_2: 0.8221 (0.8174)  loss_mal_dn_pre: 0.7866 (0.7882)  loss_bbox_dn_pre: 0.5229 (0.5423)  loss_giou_dn_pre: 1.3612 (1.3637)\n",
      "Test:  [0/5]  eta: 0:00:04    time: 0.8809  data: 0.5941  max mem: 10083\n"
     ]
    },
    {
     "name": "stderr",
     "output_type": "stream",
     "text": [
      "\u001b[32m2025-03-10 16:17:21.719\u001b[0m | \u001b[1mINFO    \u001b[0m | \u001b[36mdeimkit.trainer\u001b[0m:\u001b[36mtrain\u001b[0m:\u001b[36m312\u001b[0m - \u001b[1mEpoch 4 - Train loss: 30.3651, Eval mAP: 0.0015\u001b[0m\n",
      "\u001b[32m2025-03-10 16:17:21.720\u001b[0m | \u001b[1mINFO    \u001b[0m | \u001b[36mdeimkit.trainer\u001b[0m:\u001b[36mtrain\u001b[0m:\u001b[36m315\u001b[0m - \u001b[1mBest stats: {'epoch': 3, 'coco_eval_bbox': 0.0024802865053112446}\u001b[0m\n"
     ]
    },
    {
     "name": "stdout",
     "output_type": "stream",
     "text": [
      "Test:  [4/5]  eta: 0:00:00    time: 0.2804  data: 0.1415  max mem: 10083\n",
      "Test: Total time: 0:00:01 (0.2938 s / it)\n",
      "Averaged stats: \n",
      "Accumulating evaluation results...\n",
      "COCOeval_opt.accumulate() finished...\n",
      "DONE (t=0.01s).\n",
      "IoU metric: bbox\n",
      " Average Precision  (AP) @[ IoU=0.50:0.95 | area=   all | maxDets=100 ] = 0.001\n",
      " Average Precision  (AP) @[ IoU=0.50      | area=   all | maxDets=100 ] = 0.006\n",
      " Average Precision  (AP) @[ IoU=0.75      | area=   all | maxDets=100 ] = 0.000\n",
      " Average Precision  (AP) @[ IoU=0.50:0.95 | area= small | maxDets=100 ] = 0.000\n",
      " Average Precision  (AP) @[ IoU=0.50:0.95 | area=medium | maxDets=100 ] = 0.000\n",
      " Average Precision  (AP) @[ IoU=0.50:0.95 | area= large | maxDets=100 ] = 0.004\n",
      " Average Recall     (AR) @[ IoU=0.50:0.95 | area=   all | maxDets=  1 ] = 0.001\n",
      " Average Recall     (AR) @[ IoU=0.50:0.95 | area=   all | maxDets= 10 ] = 0.004\n",
      " Average Recall     (AR) @[ IoU=0.50:0.95 | area=   all | maxDets=100 ] = 0.044\n",
      " Average Recall     (AR) @[ IoU=0.50:0.95 | area= small | maxDets=100 ] = 0.000\n",
      " Average Recall     (AR) @[ IoU=0.50:0.95 | area=medium | maxDets=100 ] = 0.023\n",
      " Average Recall     (AR) @[ IoU=0.50:0.95 | area= large | maxDets=100 ] = 0.052\n",
      " Average Recall     (AR) @[ IoU=0.50      | area=   all | maxDets=100 ] = 0.132\n",
      " Average Recall     (AR) @[ IoU=0.75      | area=   all | maxDets=100 ] = 0.020\n",
      "Epoch: [5]  [ 0/15]  eta: 0:00:26  lr: 0.000028  loss: 28.3023 (28.3023)  loss_mal: 0.7007 (0.7007)  loss_bbox: 0.6087 (0.6087)  loss_giou: 1.4299 (1.4299)  loss_fgl: 0.7104 (0.7104)  loss_mal_aux_0: 0.6782 (0.6782)  loss_bbox_aux_0: 0.6262 (0.6262)  loss_giou_aux_0: 1.4355 (1.4355)  loss_fgl_aux_0: 0.7080 (0.7080)  loss_ddf_aux_0: 0.0014 (0.0014)  loss_mal_aux_1: 0.6704 (0.6704)  loss_bbox_aux_1: 0.6185 (0.6185)  loss_giou_aux_1: 1.4322 (1.4322)  loss_fgl_aux_1: 0.7094 (0.7094)  loss_ddf_aux_1: 0.0004 (0.0004)  loss_mal_pre: 0.6758 (0.6758)  loss_bbox_pre: 0.6304 (0.6304)  loss_giou_pre: 1.4372 (1.4372)  loss_mal_enc_0: 0.6890 (0.6890)  loss_bbox_enc_0: 0.6362 (0.6362)  loss_giou_enc_0: 1.4431 (1.4431)  loss_mal_dn_0: 0.7227 (0.7227)  loss_bbox_dn_0: 0.4436 (0.4436)  loss_giou_dn_0: 1.3702 (1.3702)  loss_fgl_dn_0: 0.8100 (0.8100)  loss_ddf_dn_0: 0.0023 (0.0023)  loss_mal_dn_1: 0.6831 (0.6831)  loss_bbox_dn_1: 0.4409 (0.4409)  loss_giou_dn_1: 1.3739 (1.3739)  loss_fgl_dn_1: 0.8036 (0.8036)  loss_ddf_dn_1: 0.0008 (0.0008)  loss_mal_dn_2: 0.6587 (0.6587)  loss_bbox_dn_2: 0.4392 (0.4392)  loss_giou_dn_2: 1.3789 (1.3789)  loss_fgl_dn_2: 0.7961 (0.7961)  loss_mal_dn_pre: 0.7231 (0.7231)  loss_bbox_dn_pre: 0.4454 (0.4454)  loss_giou_dn_pre: 1.3685 (1.3685)  time: 1.7572  data: 1.2206  max mem: 10083\n"
     ]
    },
    {
     "name": "stderr",
     "output_type": "stream",
     "text": [
      "\u001b[32m2025-03-10 16:17:29.987\u001b[0m | \u001b[1mINFO    \u001b[0m | \u001b[36mdeimkit.trainer\u001b[0m:\u001b[36mevaluate\u001b[0m:\u001b[36m331\u001b[0m - \u001b[1mEvaluating model...\u001b[0m\n"
     ]
    },
    {
     "name": "stdout",
     "output_type": "stream",
     "text": [
      "Epoch: [5]  [14/15]  eta: 0:00:00  lr: 0.000040  loss: 29.1848 (28.9998)  loss_mal: 0.7153 (0.7330)  loss_bbox: 0.6628 (0.6755)  loss_giou: 1.4299 (1.4367)  loss_fgl: 0.7155 (0.7243)  loss_mal_aux_0: 0.7075 (0.7275)  loss_bbox_aux_0: 0.6685 (0.6870)  loss_giou_aux_0: 1.4261 (1.4229)  loss_fgl_aux_0: 0.7407 (0.7350)  loss_ddf_aux_0: 0.0042 (0.0040)  loss_mal_aux_1: 0.7114 (0.7199)  loss_bbox_aux_1: 0.6626 (0.6810)  loss_giou_aux_1: 1.4266 (1.4283)  loss_fgl_aux_1: 0.7277 (0.7306)  loss_ddf_aux_1: 0.0013 (0.0012)  loss_mal_pre: 0.7046 (0.7259)  loss_bbox_pre: 0.6722 (0.6910)  loss_giou_pre: 1.4197 (1.4204)  loss_mal_enc_0: 0.6958 (0.7140)  loss_bbox_enc_0: 0.6795 (0.6995)  loss_giou_enc_0: 1.4238 (1.4219)  loss_mal_dn_0: 0.6636 (0.6668)  loss_bbox_dn_0: 0.5424 (0.5241)  loss_giou_dn_0: 1.3690 (1.3694)  loss_fgl_dn_0: 0.8141 (0.8142)  loss_ddf_dn_0: 0.0040 (0.0040)  loss_mal_dn_1: 0.6519 (0.6543)  loss_bbox_dn_1: 0.5351 (0.5186)  loss_giou_dn_1: 1.3716 (1.3746)  loss_fgl_dn_1: 0.8036 (0.8039)  loss_ddf_dn_1: 0.0011 (0.0011)  loss_mal_dn_2: 0.6362 (0.6353)  loss_bbox_dn_2: 0.5319 (0.5156)  loss_giou_dn_2: 1.3765 (1.3812)  loss_fgl_dn_2: 0.7933 (0.7930)  loss_mal_dn_pre: 0.6660 (0.6693)  loss_bbox_dn_pre: 0.5482 (0.5282)  loss_giou_dn_pre: 1.3654 (1.3666)  time: 0.5458  data: 0.1023  max mem: 10083\n",
      "Epoch: [5] Total time: 0:00:08 (0.5500 s / it)\n",
      "Averaged stats: lr: 0.000040  loss: 29.1848 (28.9998)  loss_mal: 0.7153 (0.7330)  loss_bbox: 0.6628 (0.6755)  loss_giou: 1.4299 (1.4367)  loss_fgl: 0.7155 (0.7243)  loss_mal_aux_0: 0.7075 (0.7275)  loss_bbox_aux_0: 0.6685 (0.6870)  loss_giou_aux_0: 1.4261 (1.4229)  loss_fgl_aux_0: 0.7407 (0.7350)  loss_ddf_aux_0: 0.0042 (0.0040)  loss_mal_aux_1: 0.7114 (0.7199)  loss_bbox_aux_1: 0.6626 (0.6810)  loss_giou_aux_1: 1.4266 (1.4283)  loss_fgl_aux_1: 0.7277 (0.7306)  loss_ddf_aux_1: 0.0013 (0.0012)  loss_mal_pre: 0.7046 (0.7259)  loss_bbox_pre: 0.6722 (0.6910)  loss_giou_pre: 1.4197 (1.4204)  loss_mal_enc_0: 0.6958 (0.7140)  loss_bbox_enc_0: 0.6795 (0.6995)  loss_giou_enc_0: 1.4238 (1.4219)  loss_mal_dn_0: 0.6636 (0.6668)  loss_bbox_dn_0: 0.5424 (0.5241)  loss_giou_dn_0: 1.3690 (1.3694)  loss_fgl_dn_0: 0.8141 (0.8142)  loss_ddf_dn_0: 0.0040 (0.0040)  loss_mal_dn_1: 0.6519 (0.6543)  loss_bbox_dn_1: 0.5351 (0.5186)  loss_giou_dn_1: 1.3716 (1.3746)  loss_fgl_dn_1: 0.8036 (0.8039)  loss_ddf_dn_1: 0.0011 (0.0011)  loss_mal_dn_2: 0.6362 (0.6353)  loss_bbox_dn_2: 0.5319 (0.5156)  loss_giou_dn_2: 1.3765 (1.3812)  loss_fgl_dn_2: 0.7933 (0.7930)  loss_mal_dn_pre: 0.6660 (0.6693)  loss_bbox_dn_pre: 0.5482 (0.5282)  loss_giou_dn_pre: 1.3654 (1.3666)\n",
      "Test:  [0/5]  eta: 0:00:04    time: 0.8799  data: 0.6122  max mem: 10083\n"
     ]
    },
    {
     "name": "stderr",
     "output_type": "stream",
     "text": [
      "\u001b[32m2025-03-10 16:17:31.420\u001b[0m | \u001b[1mINFO    \u001b[0m | \u001b[36mdeimkit.trainer\u001b[0m:\u001b[36m_save_checkpoint\u001b[0m:\u001b[36m363\u001b[0m - \u001b[1mSaving checkpoint to outputs/deim_hgnetv2_s_coco_ema_tune/best.pth\u001b[0m\n"
     ]
    },
    {
     "name": "stdout",
     "output_type": "stream",
     "text": [
      "Test:  [4/5]  eta: 0:00:00    time: 0.2678  data: 0.1374  max mem: 10083\n",
      "Test: Total time: 0:00:01 (0.2825 s / it)\n",
      "Averaged stats: \n",
      "Accumulating evaluation results...\n",
      "COCOeval_opt.accumulate() finished...\n",
      "DONE (t=0.01s).\n",
      "IoU metric: bbox\n",
      " Average Precision  (AP) @[ IoU=0.50:0.95 | area=   all | maxDets=100 ] = 0.004\n",
      " Average Precision  (AP) @[ IoU=0.50      | area=   all | maxDets=100 ] = 0.014\n",
      " Average Precision  (AP) @[ IoU=0.75      | area=   all | maxDets=100 ] = 0.000\n",
      " Average Precision  (AP) @[ IoU=0.50:0.95 | area= small | maxDets=100 ] = 0.000\n",
      " Average Precision  (AP) @[ IoU=0.50:0.95 | area=medium | maxDets=100 ] = 0.001\n",
      " Average Precision  (AP) @[ IoU=0.50:0.95 | area= large | maxDets=100 ] = 0.006\n",
      " Average Recall     (AR) @[ IoU=0.50:0.95 | area=   all | maxDets=  1 ] = 0.001\n",
      " Average Recall     (AR) @[ IoU=0.50:0.95 | area=   all | maxDets= 10 ] = 0.009\n",
      " Average Recall     (AR) @[ IoU=0.50:0.95 | area=   all | maxDets=100 ] = 0.049\n",
      " Average Recall     (AR) @[ IoU=0.50:0.95 | area= small | maxDets=100 ] = 0.000\n",
      " Average Recall     (AR) @[ IoU=0.50:0.95 | area=medium | maxDets=100 ] = 0.033\n",
      " Average Recall     (AR) @[ IoU=0.50:0.95 | area= large | maxDets=100 ] = 0.055\n",
      " Average Recall     (AR) @[ IoU=0.50      | area=   all | maxDets=100 ] = 0.149\n",
      " Average Recall     (AR) @[ IoU=0.75      | area=   all | maxDets=100 ] = 0.022\n"
     ]
    },
    {
     "name": "stderr",
     "output_type": "stream",
     "text": [
      "\u001b[32m2025-03-10 16:17:31.758\u001b[0m | \u001b[1mINFO    \u001b[0m | \u001b[36mdeimkit.trainer\u001b[0m:\u001b[36m_save_checkpoint\u001b[0m:\u001b[36m380\u001b[0m - \u001b[1mCheckpoint saved to outputs/deim_hgnetv2_s_coco_ema_tune/best.pth\u001b[0m\n",
      "\u001b[32m2025-03-10 16:17:31.760\u001b[0m | \u001b[1mINFO    \u001b[0m | \u001b[36mdeimkit.trainer\u001b[0m:\u001b[36mtrain\u001b[0m:\u001b[36m312\u001b[0m - \u001b[1mEpoch 5 - Train loss: 28.9998, Eval mAP: 0.0040\u001b[0m\n",
      "\u001b[32m2025-03-10 16:17:31.761\u001b[0m | \u001b[1mINFO    \u001b[0m | \u001b[36mdeimkit.trainer\u001b[0m:\u001b[36mtrain\u001b[0m:\u001b[36m315\u001b[0m - \u001b[1mBest stats: {'epoch': 5, 'coco_eval_bbox': 0.0040348527525028675}\u001b[0m\n"
     ]
    },
    {
     "name": "stdout",
     "output_type": "stream",
     "text": [
      "Epoch: [6]  [ 0/15]  eta: 0:00:37  lr: 0.000041  loss: 29.0046 (29.0046)  loss_mal: 0.6699 (0.6699)  loss_bbox: 0.7349 (0.7349)  loss_giou: 1.4776 (1.4776)  loss_fgl: 0.6739 (0.6739)  loss_mal_aux_0: 0.6748 (0.6748)  loss_bbox_aux_0: 0.7413 (0.7413)  loss_giou_aux_0: 1.4614 (1.4614)  loss_fgl_aux_0: 0.6859 (0.6859)  loss_ddf_aux_0: 0.0043 (0.0043)  loss_mal_aux_1: 0.6714 (0.6714)  loss_bbox_aux_1: 0.7373 (0.7373)  loss_giou_aux_1: 1.4708 (1.4708)  loss_fgl_aux_1: 0.6791 (0.6791)  loss_ddf_aux_1: 0.0011 (0.0011)  loss_mal_pre: 0.6743 (0.6743)  loss_bbox_pre: 0.7450 (0.7450)  loss_giou_pre: 1.4555 (1.4555)  loss_mal_enc_0: 0.6641 (0.6641)  loss_bbox_enc_0: 0.7556 (0.7556)  loss_giou_enc_0: 1.4496 (1.4496)  loss_mal_dn_0: 0.6328 (0.6328)  loss_bbox_dn_0: 0.5363 (0.5363)  loss_giou_dn_0: 1.3833 (1.3833)  loss_fgl_dn_0: 0.8040 (0.8040)  loss_ddf_dn_0: 0.0045 (0.0045)  loss_mal_dn_1: 0.6265 (0.6265)  loss_bbox_dn_1: 0.5313 (0.5313)  loss_giou_dn_1: 1.3893 (1.3893)  loss_fgl_dn_1: 0.7921 (0.7921)  loss_ddf_dn_1: 0.0010 (0.0010)  loss_mal_dn_2: 0.6128 (0.6128)  loss_bbox_dn_2: 0.5287 (0.5287)  loss_giou_dn_2: 1.3940 (1.3940)  loss_fgl_dn_2: 0.7839 (0.7839)  loss_mal_dn_pre: 0.6362 (0.6362)  loss_bbox_dn_pre: 0.5412 (0.5412)  loss_giou_dn_pre: 1.3789 (1.3789)  time: 2.4838  data: 1.9483  max mem: 10083\n"
     ]
    },
    {
     "name": "stderr",
     "output_type": "stream",
     "text": [
      "\u001b[32m2025-03-10 16:17:40.764\u001b[0m | \u001b[1mINFO    \u001b[0m | \u001b[36mdeimkit.trainer\u001b[0m:\u001b[36mevaluate\u001b[0m:\u001b[36m331\u001b[0m - \u001b[1mEvaluating model...\u001b[0m\n"
     ]
    },
    {
     "name": "stdout",
     "output_type": "stream",
     "text": [
      "Epoch: [6]  [14/15]  eta: 0:00:00  lr: 0.000054  loss: 28.8745 (28.8502)  loss_mal: 0.7422 (0.7238)  loss_bbox: 0.7280 (0.6973)  loss_giou: 1.3848 (1.4045)  loss_fgl: 0.7405 (0.7387)  loss_mal_aux_0: 0.7075 (0.7174)  loss_bbox_aux_0: 0.7225 (0.6986)  loss_giou_aux_0: 1.3782 (1.4019)  loss_fgl_aux_0: 0.7466 (0.7439)  loss_ddf_aux_0: 0.0031 (0.0034)  loss_mal_aux_1: 0.7217 (0.7211)  loss_bbox_aux_1: 0.7255 (0.6972)  loss_giou_aux_1: 1.3834 (1.4049)  loss_fgl_aux_1: 0.7415 (0.7399)  loss_ddf_aux_1: 0.0007 (0.0008)  loss_mal_pre: 0.7109 (0.7173)  loss_bbox_pre: 0.7212 (0.7008)  loss_giou_pre: 1.3721 (1.3982)  loss_mal_enc_0: 0.7163 (0.7164)  loss_bbox_enc_0: 0.7240 (0.7059)  loss_giou_enc_0: 1.3609 (1.3911)  loss_mal_dn_0: 0.6343 (0.6342)  loss_bbox_dn_0: 0.5219 (0.5261)  loss_giou_dn_0: 1.3679 (1.3692)  loss_fgl_dn_0: 0.8122 (0.8098)  loss_ddf_dn_0: 0.0041 (0.0044)  loss_mal_dn_1: 0.6284 (0.6296)  loss_bbox_dn_1: 0.5220 (0.5248)  loss_giou_dn_1: 1.3721 (1.3722)  loss_fgl_dn_1: 0.8048 (0.8012)  loss_ddf_dn_1: 0.0007 (0.0007)  loss_mal_dn_2: 0.6245 (0.6249)  loss_bbox_dn_2: 0.5262 (0.5263)  loss_giou_dn_2: 1.3746 (1.3738)  loss_fgl_dn_2: 0.8011 (0.7978)  loss_mal_dn_pre: 0.6362 (0.6352)  loss_bbox_dn_pre: 0.5251 (0.5303)  loss_giou_dn_pre: 1.3655 (1.3668)  time: 0.5948  data: 0.1447  max mem: 10083\n",
      "Epoch: [6] Total time: 0:00:08 (0.5989 s / it)\n",
      "Averaged stats: lr: 0.000054  loss: 28.8745 (28.8502)  loss_mal: 0.7422 (0.7238)  loss_bbox: 0.7280 (0.6973)  loss_giou: 1.3848 (1.4045)  loss_fgl: 0.7405 (0.7387)  loss_mal_aux_0: 0.7075 (0.7174)  loss_bbox_aux_0: 0.7225 (0.6986)  loss_giou_aux_0: 1.3782 (1.4019)  loss_fgl_aux_0: 0.7466 (0.7439)  loss_ddf_aux_0: 0.0031 (0.0034)  loss_mal_aux_1: 0.7217 (0.7211)  loss_bbox_aux_1: 0.7255 (0.6972)  loss_giou_aux_1: 1.3834 (1.4049)  loss_fgl_aux_1: 0.7415 (0.7399)  loss_ddf_aux_1: 0.0007 (0.0008)  loss_mal_pre: 0.7109 (0.7173)  loss_bbox_pre: 0.7212 (0.7008)  loss_giou_pre: 1.3721 (1.3982)  loss_mal_enc_0: 0.7163 (0.7164)  loss_bbox_enc_0: 0.7240 (0.7059)  loss_giou_enc_0: 1.3609 (1.3911)  loss_mal_dn_0: 0.6343 (0.6342)  loss_bbox_dn_0: 0.5219 (0.5261)  loss_giou_dn_0: 1.3679 (1.3692)  loss_fgl_dn_0: 0.8122 (0.8098)  loss_ddf_dn_0: 0.0041 (0.0044)  loss_mal_dn_1: 0.6284 (0.6296)  loss_bbox_dn_1: 0.5220 (0.5248)  loss_giou_dn_1: 1.3721 (1.3722)  loss_fgl_dn_1: 0.8048 (0.8012)  loss_ddf_dn_1: 0.0007 (0.0007)  loss_mal_dn_2: 0.6245 (0.6249)  loss_bbox_dn_2: 0.5262 (0.5263)  loss_giou_dn_2: 1.3746 (1.3738)  loss_fgl_dn_2: 0.8011 (0.7978)  loss_mal_dn_pre: 0.6362 (0.6352)  loss_bbox_dn_pre: 0.5251 (0.5303)  loss_giou_dn_pre: 1.3655 (1.3668)\n",
      "Test:  [0/5]  eta: 0:00:03    time: 0.7127  data: 0.5996  max mem: 10083\n"
     ]
    },
    {
     "name": "stderr",
     "output_type": "stream",
     "text": [
      "\u001b[32m2025-03-10 16:17:42.195\u001b[0m | \u001b[1mINFO    \u001b[0m | \u001b[36mdeimkit.trainer\u001b[0m:\u001b[36mtrain\u001b[0m:\u001b[36m312\u001b[0m - \u001b[1mEpoch 6 - Train loss: 28.8502, Eval mAP: 0.0033\u001b[0m\n",
      "\u001b[32m2025-03-10 16:17:42.196\u001b[0m | \u001b[1mINFO    \u001b[0m | \u001b[36mdeimkit.trainer\u001b[0m:\u001b[36mtrain\u001b[0m:\u001b[36m315\u001b[0m - \u001b[1mBest stats: {'epoch': 5, 'coco_eval_bbox': 0.0040348527525028675}\u001b[0m\n"
     ]
    },
    {
     "name": "stdout",
     "output_type": "stream",
     "text": [
      "Test:  [4/5]  eta: 0:00:00    time: 0.2699  data: 0.1400  max mem: 10083\n",
      "Test: Total time: 0:00:01 (0.2827 s / it)\n",
      "Averaged stats: \n",
      "Accumulating evaluation results...\n",
      "COCOeval_opt.accumulate() finished...\n",
      "DONE (t=0.01s).\n",
      "IoU metric: bbox\n",
      " Average Precision  (AP) @[ IoU=0.50:0.95 | area=   all | maxDets=100 ] = 0.003\n",
      " Average Precision  (AP) @[ IoU=0.50      | area=   all | maxDets=100 ] = 0.016\n",
      " Average Precision  (AP) @[ IoU=0.75      | area=   all | maxDets=100 ] = 0.000\n",
      " Average Precision  (AP) @[ IoU=0.50:0.95 | area= small | maxDets=100 ] = 0.000\n",
      " Average Precision  (AP) @[ IoU=0.50:0.95 | area=medium | maxDets=100 ] = 0.001\n",
      " Average Precision  (AP) @[ IoU=0.50:0.95 | area= large | maxDets=100 ] = 0.009\n",
      " Average Recall     (AR) @[ IoU=0.50:0.95 | area=   all | maxDets=  1 ] = 0.001\n",
      " Average Recall     (AR) @[ IoU=0.50:0.95 | area=   all | maxDets= 10 ] = 0.009\n",
      " Average Recall     (AR) @[ IoU=0.50:0.95 | area=   all | maxDets=100 ] = 0.054\n",
      " Average Recall     (AR) @[ IoU=0.50:0.95 | area= small | maxDets=100 ] = 0.000\n",
      " Average Recall     (AR) @[ IoU=0.50:0.95 | area=medium | maxDets=100 ] = 0.034\n",
      " Average Recall     (AR) @[ IoU=0.50:0.95 | area= large | maxDets=100 ] = 0.062\n",
      " Average Recall     (AR) @[ IoU=0.50      | area=   all | maxDets=100 ] = 0.161\n",
      " Average Recall     (AR) @[ IoU=0.75      | area=   all | maxDets=100 ] = 0.025\n",
      "Epoch: [7]  [ 0/15]  eta: 0:00:32  lr: 0.000055  loss: 28.1362 (28.1362)  loss_mal: 0.6104 (0.6104)  loss_bbox: 0.6827 (0.6827)  loss_giou: 1.5018 (1.5018)  loss_fgl: 0.6586 (0.6586)  loss_mal_aux_0: 0.6040 (0.6040)  loss_bbox_aux_0: 0.6804 (0.6804)  loss_giou_aux_0: 1.5024 (1.5024)  loss_fgl_aux_0: 0.6607 (0.6607)  loss_ddf_aux_0: 0.0053 (0.0053)  loss_mal_aux_1: 0.6011 (0.6011)  loss_bbox_aux_1: 0.6781 (0.6781)  loss_giou_aux_1: 1.5029 (1.5029)  loss_fgl_aux_1: 0.6589 (0.6589)  loss_ddf_aux_1: 0.0010 (0.0010)  loss_mal_pre: 0.6030 (0.6030)  loss_bbox_pre: 0.6874 (0.6874)  loss_giou_pre: 1.5005 (1.5005)  loss_mal_enc_0: 0.5967 (0.5967)  loss_bbox_enc_0: 0.6999 (0.6999)  loss_giou_enc_0: 1.4989 (1.4989)  loss_mal_dn_0: 0.6362 (0.6362)  loss_bbox_dn_0: 0.4436 (0.4436)  loss_giou_dn_0: 1.3598 (1.3598)  loss_fgl_dn_0: 0.8150 (0.8150)  loss_ddf_dn_0: 0.0087 (0.0087)  loss_mal_dn_1: 0.6284 (0.6284)  loss_bbox_dn_1: 0.4441 (0.4441)  loss_giou_dn_1: 1.3647 (1.3647)  loss_fgl_dn_1: 0.8051 (0.8051)  loss_ddf_dn_1: 0.0010 (0.0010)  loss_mal_dn_2: 0.6372 (0.6372)  loss_bbox_dn_2: 0.4470 (0.4470)  loss_giou_dn_2: 1.3660 (1.3660)  loss_fgl_dn_2: 0.8038 (0.8038)  loss_mal_dn_pre: 0.6396 (0.6396)  loss_bbox_dn_pre: 0.4472 (0.4472)  loss_giou_dn_pre: 1.3540 (1.3540)  time: 2.1910  data: 1.5183  max mem: 10083\n"
     ]
    },
    {
     "name": "stderr",
     "output_type": "stream",
     "text": [
      "\u001b[32m2025-03-10 16:17:50.996\u001b[0m | \u001b[1mINFO    \u001b[0m | \u001b[36mdeimkit.trainer\u001b[0m:\u001b[36m_save_checkpoint\u001b[0m:\u001b[36m363\u001b[0m - \u001b[1mSaving checkpoint to outputs/deim_hgnetv2_s_coco_ema_tune/checkpoint0007.pth\u001b[0m\n"
     ]
    },
    {
     "name": "stdout",
     "output_type": "stream",
     "text": [
      "Epoch: [7]  [14/15]  eta: 0:00:00  lr: 0.000071  loss: 28.2723 (28.4295)  loss_mal: 0.7681 (0.7397)  loss_bbox: 0.6170 (0.6287)  loss_giou: 1.3510 (1.3760)  loss_fgl: 0.7790 (0.7710)  loss_mal_aux_0: 0.7842 (0.7406)  loss_bbox_aux_0: 0.6172 (0.6284)  loss_giou_aux_0: 1.3549 (1.3780)  loss_fgl_aux_0: 0.7794 (0.7706)  loss_ddf_aux_0: 0.0076 (0.0080)  loss_mal_aux_1: 0.7935 (0.7452)  loss_bbox_aux_1: 0.6163 (0.6274)  loss_giou_aux_1: 1.3539 (1.3782)  loss_fgl_aux_1: 0.7776 (0.7697)  loss_ddf_aux_1: 0.0009 (0.0009)  loss_mal_pre: 0.7803 (0.7396)  loss_bbox_pre: 0.6196 (0.6315)  loss_giou_pre: 1.3505 (1.3746)  loss_mal_enc_0: 0.7808 (0.7493)  loss_bbox_enc_0: 0.6240 (0.6393)  loss_giou_enc_0: 1.3468 (1.3721)  loss_mal_dn_0: 0.6167 (0.6194)  loss_bbox_dn_0: 0.5015 (0.4944)  loss_giou_dn_0: 1.3771 (1.3765)  loss_fgl_dn_0: 0.7927 (0.7950)  loss_ddf_dn_0: 0.0087 (0.0091)  loss_mal_dn_1: 0.6191 (0.6206)  loss_bbox_dn_1: 0.5002 (0.4945)  loss_giou_dn_1: 1.3791 (1.3785)  loss_fgl_dn_1: 0.7854 (0.7905)  loss_ddf_dn_1: 0.0009 (0.0009)  loss_mal_dn_2: 0.6191 (0.6203)  loss_bbox_dn_2: 0.5027 (0.4971)  loss_giou_dn_2: 1.3780 (1.3779)  loss_fgl_dn_2: 0.7864 (0.7920)  loss_mal_dn_pre: 0.6191 (0.6224)  loss_bbox_dn_pre: 0.5082 (0.5001)  loss_giou_dn_pre: 1.3732 (1.3715)  time: 0.5804  data: 0.1175  max mem: 10083\n",
      "Epoch: [7] Total time: 0:00:08 (0.5852 s / it)\n",
      "Averaged stats: lr: 0.000071  loss: 28.2723 (28.4295)  loss_mal: 0.7681 (0.7397)  loss_bbox: 0.6170 (0.6287)  loss_giou: 1.3510 (1.3760)  loss_fgl: 0.7790 (0.7710)  loss_mal_aux_0: 0.7842 (0.7406)  loss_bbox_aux_0: 0.6172 (0.6284)  loss_giou_aux_0: 1.3549 (1.3780)  loss_fgl_aux_0: 0.7794 (0.7706)  loss_ddf_aux_0: 0.0076 (0.0080)  loss_mal_aux_1: 0.7935 (0.7452)  loss_bbox_aux_1: 0.6163 (0.6274)  loss_giou_aux_1: 1.3539 (1.3782)  loss_fgl_aux_1: 0.7776 (0.7697)  loss_ddf_aux_1: 0.0009 (0.0009)  loss_mal_pre: 0.7803 (0.7396)  loss_bbox_pre: 0.6196 (0.6315)  loss_giou_pre: 1.3505 (1.3746)  loss_mal_enc_0: 0.7808 (0.7493)  loss_bbox_enc_0: 0.6240 (0.6393)  loss_giou_enc_0: 1.3468 (1.3721)  loss_mal_dn_0: 0.6167 (0.6194)  loss_bbox_dn_0: 0.5015 (0.4944)  loss_giou_dn_0: 1.3771 (1.3765)  loss_fgl_dn_0: 0.7927 (0.7950)  loss_ddf_dn_0: 0.0087 (0.0091)  loss_mal_dn_1: 0.6191 (0.6206)  loss_bbox_dn_1: 0.5002 (0.4945)  loss_giou_dn_1: 1.3791 (1.3785)  loss_fgl_dn_1: 0.7854 (0.7905)  loss_ddf_dn_1: 0.0009 (0.0009)  loss_mal_dn_2: 0.6191 (0.6203)  loss_bbox_dn_2: 0.5027 (0.4971)  loss_giou_dn_2: 1.3780 (1.3779)  loss_fgl_dn_2: 0.7864 (0.7920)  loss_mal_dn_pre: 0.6191 (0.6224)  loss_bbox_dn_pre: 0.5082 (0.5001)  loss_giou_dn_pre: 1.3732 (1.3715)\n"
     ]
    },
    {
     "name": "stderr",
     "output_type": "stream",
     "text": [
      "\u001b[32m2025-03-10 16:17:51.254\u001b[0m | \u001b[1mINFO    \u001b[0m | \u001b[36mdeimkit.trainer\u001b[0m:\u001b[36m_save_checkpoint\u001b[0m:\u001b[36m380\u001b[0m - \u001b[1mCheckpoint saved to outputs/deim_hgnetv2_s_coco_ema_tune/checkpoint0007.pth\u001b[0m\n",
      "\u001b[32m2025-03-10 16:17:51.256\u001b[0m | \u001b[1mINFO    \u001b[0m | \u001b[36mdeimkit.trainer\u001b[0m:\u001b[36mevaluate\u001b[0m:\u001b[36m331\u001b[0m - \u001b[1mEvaluating model...\u001b[0m\n"
     ]
    },
    {
     "name": "stdout",
     "output_type": "stream",
     "text": [
      "Test:  [0/5]  eta: 0:00:03    time: 0.7687  data: 0.6589  max mem: 10083\n"
     ]
    },
    {
     "name": "stderr",
     "output_type": "stream",
     "text": [
      "\u001b[32m2025-03-10 16:17:52.721\u001b[0m | \u001b[1mINFO    \u001b[0m | \u001b[36mdeimkit.trainer\u001b[0m:\u001b[36m_save_checkpoint\u001b[0m:\u001b[36m363\u001b[0m - \u001b[1mSaving checkpoint to outputs/deim_hgnetv2_s_coco_ema_tune/best.pth\u001b[0m\n"
     ]
    },
    {
     "name": "stdout",
     "output_type": "stream",
     "text": [
      "Test:  [4/5]  eta: 0:00:00    time: 0.2760  data: 0.1441  max mem: 10083\n",
      "Test: Total time: 0:00:01 (0.2891 s / it)\n",
      "Averaged stats: \n",
      "Accumulating evaluation results...\n",
      "COCOeval_opt.accumulate() finished...\n",
      "DONE (t=0.01s).\n",
      "IoU metric: bbox\n",
      " Average Precision  (AP) @[ IoU=0.50:0.95 | area=   all | maxDets=100 ] = 0.009\n",
      " Average Precision  (AP) @[ IoU=0.50      | area=   all | maxDets=100 ] = 0.037\n",
      " Average Precision  (AP) @[ IoU=0.75      | area=   all | maxDets=100 ] = 0.001\n",
      " Average Precision  (AP) @[ IoU=0.50:0.95 | area= small | maxDets=100 ] = 0.000\n",
      " Average Precision  (AP) @[ IoU=0.50:0.95 | area=medium | maxDets=100 ] = 0.003\n",
      " Average Precision  (AP) @[ IoU=0.50:0.95 | area= large | maxDets=100 ] = 0.048\n",
      " Average Recall     (AR) @[ IoU=0.50:0.95 | area=   all | maxDets=  1 ] = 0.002\n",
      " Average Recall     (AR) @[ IoU=0.50:0.95 | area=   all | maxDets= 10 ] = 0.013\n",
      " Average Recall     (AR) @[ IoU=0.50:0.95 | area=   all | maxDets=100 ] = 0.084\n",
      " Average Recall     (AR) @[ IoU=0.50:0.95 | area= small | maxDets=100 ] = 0.000\n",
      " Average Recall     (AR) @[ IoU=0.50:0.95 | area=medium | maxDets=100 ] = 0.084\n",
      " Average Recall     (AR) @[ IoU=0.50:0.95 | area= large | maxDets=100 ] = 0.084\n",
      " Average Recall     (AR) @[ IoU=0.50      | area=   all | maxDets=100 ] = 0.251\n",
      " Average Recall     (AR) @[ IoU=0.75      | area=   all | maxDets=100 ] = 0.025\n"
     ]
    },
    {
     "name": "stderr",
     "output_type": "stream",
     "text": [
      "\u001b[32m2025-03-10 16:17:53.098\u001b[0m | \u001b[1mINFO    \u001b[0m | \u001b[36mdeimkit.trainer\u001b[0m:\u001b[36m_save_checkpoint\u001b[0m:\u001b[36m380\u001b[0m - \u001b[1mCheckpoint saved to outputs/deim_hgnetv2_s_coco_ema_tune/best.pth\u001b[0m\n",
      "\u001b[32m2025-03-10 16:17:53.100\u001b[0m | \u001b[1mINFO    \u001b[0m | \u001b[36mdeimkit.trainer\u001b[0m:\u001b[36mtrain\u001b[0m:\u001b[36m312\u001b[0m - \u001b[1mEpoch 7 - Train loss: 28.4295, Eval mAP: 0.0086\u001b[0m\n",
      "\u001b[32m2025-03-10 16:17:53.101\u001b[0m | \u001b[1mINFO    \u001b[0m | \u001b[36mdeimkit.trainer\u001b[0m:\u001b[36mtrain\u001b[0m:\u001b[36m315\u001b[0m - \u001b[1mBest stats: {'epoch': 7, 'coco_eval_bbox': 0.008603062853799793}\u001b[0m\n"
     ]
    },
    {
     "name": "stdout",
     "output_type": "stream",
     "text": [
      "Epoch: [8]  [ 0/15]  eta: 0:00:28  lr: 0.000072  loss: 28.6776 (28.6776)  loss_mal: 0.5781 (0.5781)  loss_bbox: 0.7543 (0.7543)  loss_giou: 1.5806 (1.5806)  loss_fgl: 0.6233 (0.6233)  loss_mal_aux_0: 0.5591 (0.5591)  loss_bbox_aux_0: 0.7475 (0.7475)  loss_giou_aux_0: 1.5905 (1.5905)  loss_fgl_aux_0: 0.6148 (0.6148)  loss_ddf_aux_0: 0.0062 (0.0062)  loss_mal_aux_1: 0.5630 (0.5630)  loss_bbox_aux_1: 0.7504 (0.7504)  loss_giou_aux_1: 1.5851 (1.5851)  loss_fgl_aux_1: 0.6197 (0.6197)  loss_ddf_aux_1: 0.0009 (0.0009)  loss_mal_pre: 0.5586 (0.5586)  loss_bbox_pre: 0.7470 (0.7470)  loss_giou_pre: 1.5934 (1.5934)  loss_mal_enc_0: 0.5625 (0.5625)  loss_bbox_enc_0: 0.7620 (0.7620)  loss_giou_enc_0: 1.5917 (1.5917)  loss_mal_dn_0: 0.6182 (0.6182)  loss_bbox_dn_0: 0.4826 (0.4826)  loss_giou_dn_0: 1.3591 (1.3591)  loss_fgl_dn_0: 0.8026 (0.8026)  loss_ddf_dn_0: 0.0085 (0.0085)  loss_mal_dn_1: 0.6226 (0.6226)  loss_bbox_dn_1: 0.4895 (0.4895)  loss_giou_dn_1: 1.3582 (1.3582)  loss_fgl_dn_1: 0.8043 (0.8043)  loss_ddf_dn_1: 0.0011 (0.0011)  loss_mal_dn_2: 0.6235 (0.6235)  loss_bbox_dn_2: 0.4963 (0.4963)  loss_giou_dn_2: 1.3576 (1.3576)  loss_fgl_dn_2: 0.8064 (0.8064)  loss_mal_dn_pre: 0.6177 (0.6177)  loss_bbox_dn_pre: 0.4807 (0.4807)  loss_giou_dn_pre: 1.3599 (1.3599)  time: 1.9100  data: 1.2955  max mem: 10083\n"
     ]
    },
    {
     "name": "stderr",
     "output_type": "stream",
     "text": [
      "\u001b[32m2025-03-10 16:18:01.734\u001b[0m | \u001b[1mINFO    \u001b[0m | \u001b[36mdeimkit.trainer\u001b[0m:\u001b[36mevaluate\u001b[0m:\u001b[36m331\u001b[0m - \u001b[1mEvaluating model...\u001b[0m\n"
     ]
    },
    {
     "name": "stdout",
     "output_type": "stream",
     "text": [
      "Epoch: [8]  [14/15]  eta: 0:00:00  lr: 0.000090  loss: 28.5582 (28.5687)  loss_mal: 0.6475 (0.6922)  loss_bbox: 0.7206 (0.7003)  loss_giou: 1.4176 (1.3984)  loss_fgl: 0.7056 (0.7358)  loss_mal_aux_0: 0.6499 (0.6959)  loss_bbox_aux_0: 0.7162 (0.6954)  loss_giou_aux_0: 1.4213 (1.3991)  loss_fgl_aux_0: 0.7060 (0.7340)  loss_ddf_aux_0: 0.0041 (0.0038)  loss_mal_aux_1: 0.6572 (0.6922)  loss_bbox_aux_1: 0.7176 (0.6981)  loss_giou_aux_1: 1.4188 (1.3992)  loss_fgl_aux_1: 0.7057 (0.7349)  loss_ddf_aux_1: 0.0004 (0.0004)  loss_mal_pre: 0.6475 (0.6959)  loss_bbox_pre: 0.7174 (0.6941)  loss_giou_pre: 1.4237 (1.3977)  loss_mal_enc_0: 0.6650 (0.7045)  loss_bbox_enc_0: 0.7230 (0.7041)  loss_giou_enc_0: 1.4169 (1.3859)  loss_mal_dn_0: 0.6191 (0.6197)  loss_bbox_dn_0: 0.4826 (0.5110)  loss_giou_dn_0: 1.3686 (1.3669)  loss_fgl_dn_0: 0.8007 (0.7980)  loss_ddf_dn_0: 0.0025 (0.0035)  loss_mal_dn_1: 0.6216 (0.6243)  loss_bbox_dn_1: 0.4895 (0.5140)  loss_giou_dn_1: 1.3690 (1.3667)  loss_fgl_dn_1: 0.8012 (0.7992)  loss_ddf_dn_1: 0.0003 (0.0004)  loss_mal_dn_2: 0.6216 (0.6221)  loss_bbox_dn_2: 0.4963 (0.5169)  loss_giou_dn_2: 1.3693 (1.3665)  loss_fgl_dn_2: 0.8013 (0.8004)  loss_mal_dn_pre: 0.6206 (0.6210)  loss_bbox_dn_pre: 0.4838 (0.5121)  loss_giou_dn_pre: 1.3652 (1.3641)  time: 0.5700  data: 0.1106  max mem: 10083\n",
      "Epoch: [8] Total time: 0:00:08 (0.5740 s / it)\n",
      "Averaged stats: lr: 0.000090  loss: 28.5582 (28.5687)  loss_mal: 0.6475 (0.6922)  loss_bbox: 0.7206 (0.7003)  loss_giou: 1.4176 (1.3984)  loss_fgl: 0.7056 (0.7358)  loss_mal_aux_0: 0.6499 (0.6959)  loss_bbox_aux_0: 0.7162 (0.6954)  loss_giou_aux_0: 1.4213 (1.3991)  loss_fgl_aux_0: 0.7060 (0.7340)  loss_ddf_aux_0: 0.0041 (0.0038)  loss_mal_aux_1: 0.6572 (0.6922)  loss_bbox_aux_1: 0.7176 (0.6981)  loss_giou_aux_1: 1.4188 (1.3992)  loss_fgl_aux_1: 0.7057 (0.7349)  loss_ddf_aux_1: 0.0004 (0.0004)  loss_mal_pre: 0.6475 (0.6959)  loss_bbox_pre: 0.7174 (0.6941)  loss_giou_pre: 1.4237 (1.3977)  loss_mal_enc_0: 0.6650 (0.7045)  loss_bbox_enc_0: 0.7230 (0.7041)  loss_giou_enc_0: 1.4169 (1.3859)  loss_mal_dn_0: 0.6191 (0.6197)  loss_bbox_dn_0: 0.4826 (0.5110)  loss_giou_dn_0: 1.3686 (1.3669)  loss_fgl_dn_0: 0.8007 (0.7980)  loss_ddf_dn_0: 0.0025 (0.0035)  loss_mal_dn_1: 0.6216 (0.6243)  loss_bbox_dn_1: 0.4895 (0.5140)  loss_giou_dn_1: 1.3690 (1.3667)  loss_fgl_dn_1: 0.8012 (0.7992)  loss_ddf_dn_1: 0.0003 (0.0004)  loss_mal_dn_2: 0.6216 (0.6221)  loss_bbox_dn_2: 0.4963 (0.5169)  loss_giou_dn_2: 1.3693 (1.3665)  loss_fgl_dn_2: 0.8013 (0.8004)  loss_mal_dn_pre: 0.6206 (0.6210)  loss_bbox_dn_pre: 0.4838 (0.5121)  loss_giou_dn_pre: 1.3652 (1.3641)\n",
      "Test:  [0/5]  eta: 0:00:03    time: 0.7226  data: 0.6028  max mem: 10083\n"
     ]
    },
    {
     "name": "stderr",
     "output_type": "stream",
     "text": [
      "\u001b[32m2025-03-10 16:18:03.185\u001b[0m | \u001b[1mINFO    \u001b[0m | \u001b[36mdeimkit.trainer\u001b[0m:\u001b[36mtrain\u001b[0m:\u001b[36m312\u001b[0m - \u001b[1mEpoch 8 - Train loss: 28.5687, Eval mAP: 0.0000\u001b[0m\n",
      "\u001b[32m2025-03-10 16:18:03.186\u001b[0m | \u001b[1mINFO    \u001b[0m | \u001b[36mdeimkit.trainer\u001b[0m:\u001b[36mtrain\u001b[0m:\u001b[36m315\u001b[0m - \u001b[1mBest stats: {'epoch': 7, 'coco_eval_bbox': 0.008603062853799793}\u001b[0m\n"
     ]
    },
    {
     "name": "stdout",
     "output_type": "stream",
     "text": [
      "Test:  [4/5]  eta: 0:00:00    time: 0.2743  data: 0.1401  max mem: 10083\n",
      "Test: Total time: 0:00:01 (0.2863 s / it)\n",
      "Averaged stats: \n",
      "Accumulating evaluation results...\n",
      "COCOeval_opt.accumulate() finished...\n",
      "DONE (t=0.01s).\n",
      "IoU metric: bbox\n",
      " Average Precision  (AP) @[ IoU=0.50:0.95 | area=   all | maxDets=100 ] = 0.000\n",
      " Average Precision  (AP) @[ IoU=0.50      | area=   all | maxDets=100 ] = 0.000\n",
      " Average Precision  (AP) @[ IoU=0.75      | area=   all | maxDets=100 ] = 0.000\n",
      " Average Precision  (AP) @[ IoU=0.50:0.95 | area= small | maxDets=100 ] = 0.000\n",
      " Average Precision  (AP) @[ IoU=0.50:0.95 | area=medium | maxDets=100 ] = 0.000\n",
      " Average Precision  (AP) @[ IoU=0.50:0.95 | area= large | maxDets=100 ] = 0.001\n",
      " Average Recall     (AR) @[ IoU=0.50:0.95 | area=   all | maxDets=  1 ] = 0.000\n",
      " Average Recall     (AR) @[ IoU=0.50:0.95 | area=   all | maxDets= 10 ] = 0.000\n",
      " Average Recall     (AR) @[ IoU=0.50:0.95 | area=   all | maxDets=100 ] = 0.002\n",
      " Average Recall     (AR) @[ IoU=0.50:0.95 | area= small | maxDets=100 ] = 0.000\n",
      " Average Recall     (AR) @[ IoU=0.50:0.95 | area=medium | maxDets=100 ] = 0.004\n",
      " Average Recall     (AR) @[ IoU=0.50:0.95 | area= large | maxDets=100 ] = 0.001\n",
      " Average Recall     (AR) @[ IoU=0.50      | area=   all | maxDets=100 ] = 0.008\n",
      " Average Recall     (AR) @[ IoU=0.75      | area=   all | maxDets=100 ] = 0.000\n",
      "Epoch: [9]  [ 0/15]  eta: 0:00:31  lr: 0.000091  loss: 30.3406 (30.3406)  loss_mal: 0.5791 (0.5791)  loss_bbox: 0.8712 (0.8712)  loss_giou: 1.7520 (1.7520)  loss_fgl: 0.5996 (0.5996)  loss_mal_aux_0: 0.5874 (0.5874)  loss_bbox_aux_0: 0.8694 (0.8694)  loss_giou_aux_0: 1.7505 (1.7505)  loss_fgl_aux_0: 0.5986 (0.5986)  loss_ddf_aux_0: 0.0010 (0.0010)  loss_mal_aux_1: 0.5859 (0.5859)  loss_bbox_aux_1: 0.8707 (0.8707)  loss_giou_aux_1: 1.7516 (1.7516)  loss_fgl_aux_1: 0.5994 (0.5994)  loss_ddf_aux_1: 0.0001 (0.0001)  loss_mal_pre: 0.5879 (0.5879)  loss_bbox_pre: 0.8662 (0.8662)  loss_giou_pre: 1.7476 (1.7476)  loss_mal_enc_0: 0.6045 (0.6045)  loss_bbox_enc_0: 0.8629 (0.8629)  loss_giou_enc_0: 1.7276 (1.7276)  loss_mal_dn_0: 0.6177 (0.6177)  loss_bbox_dn_0: 0.5393 (0.5393)  loss_giou_dn_0: 1.3777 (1.3777)  loss_fgl_dn_0: 0.7936 (0.7936)  loss_ddf_dn_0: 0.0007 (0.0007)  loss_mal_dn_1: 0.6187 (0.6187)  loss_bbox_dn_1: 0.5408 (0.5408)  loss_giou_dn_1: 1.3781 (1.3781)  loss_fgl_dn_1: 0.7940 (0.7940)  loss_ddf_dn_1: 0.0001 (0.0001)  loss_mal_dn_2: 0.6182 (0.6182)  loss_bbox_dn_2: 0.5415 (0.5415)  loss_giou_dn_2: 1.3781 (1.3781)  loss_fgl_dn_2: 0.7941 (0.7941)  loss_mal_dn_pre: 0.6196 (0.6196)  loss_bbox_dn_pre: 0.5409 (0.5409)  loss_giou_dn_pre: 1.3745 (1.3745)  time: 2.1113  data: 1.5026  max mem: 10083\n"
     ]
    },
    {
     "name": "stderr",
     "output_type": "stream",
     "text": [
      "\u001b[32m2025-03-10 16:18:12.193\u001b[0m | \u001b[1mINFO    \u001b[0m | \u001b[36mdeimkit.trainer\u001b[0m:\u001b[36mevaluate\u001b[0m:\u001b[36m331\u001b[0m - \u001b[1mEvaluating model...\u001b[0m\n"
     ]
    },
    {
     "name": "stdout",
     "output_type": "stream",
     "text": [
      "Epoch: [9]  [14/15]  eta: 0:00:00  lr: 0.000111  loss: 28.3020 (28.6309)  loss_mal: 0.7529 (0.7263)  loss_bbox: 0.6743 (0.6671)  loss_giou: 1.3359 (1.3943)  loss_fgl: 0.8061 (0.7699)  loss_mal_aux_0: 0.7622 (0.7348)  loss_bbox_aux_0: 0.6715 (0.6657)  loss_giou_aux_0: 1.3372 (1.3930)  loss_fgl_aux_0: 0.8054 (0.7709)  loss_ddf_aux_0: 0.0005 (0.0005)  loss_mal_aux_1: 0.7563 (0.7278)  loss_bbox_aux_1: 0.6745 (0.6675)  loss_giou_aux_1: 1.3361 (1.3932)  loss_fgl_aux_1: 0.8050 (0.7701)  loss_ddf_aux_1: 0.0001 (0.0002)  loss_mal_pre: 0.7598 (0.7346)  loss_bbox_pre: 0.6675 (0.6638)  loss_giou_pre: 1.3400 (1.3926)  loss_mal_enc_0: 0.7515 (0.7382)  loss_bbox_enc_0: 0.6747 (0.6648)  loss_giou_enc_0: 1.3536 (1.3959)  loss_mal_dn_0: 0.6245 (0.6222)  loss_bbox_dn_0: 0.4876 (0.5031)  loss_giou_dn_0: 1.3638 (1.3634)  loss_fgl_dn_0: 0.8011 (0.8007)  loss_ddf_dn_0: 0.0005 (0.0005)  loss_mal_dn_1: 0.6216 (0.6209)  loss_bbox_dn_1: 0.4871 (0.5040)  loss_giou_dn_1: 1.3641 (1.3641)  loss_fgl_dn_1: 0.8002 (0.8002)  loss_ddf_dn_1: 0.0002 (0.0002)  loss_mal_dn_2: 0.6245 (0.6227)  loss_bbox_dn_2: 0.4870 (0.5046)  loss_giou_dn_2: 1.3644 (1.3654)  loss_fgl_dn_2: 0.7991 (0.7991)  loss_mal_dn_pre: 0.6250 (0.6239)  loss_bbox_dn_pre: 0.4904 (0.5051)  loss_giou_dn_pre: 1.3558 (1.3596)  time: 0.5940  data: 0.1141  max mem: 10083\n",
      "Epoch: [9] Total time: 0:00:08 (0.5987 s / it)\n",
      "Averaged stats: lr: 0.000111  loss: 28.3020 (28.6309)  loss_mal: 0.7529 (0.7263)  loss_bbox: 0.6743 (0.6671)  loss_giou: 1.3359 (1.3943)  loss_fgl: 0.8061 (0.7699)  loss_mal_aux_0: 0.7622 (0.7348)  loss_bbox_aux_0: 0.6715 (0.6657)  loss_giou_aux_0: 1.3372 (1.3930)  loss_fgl_aux_0: 0.8054 (0.7709)  loss_ddf_aux_0: 0.0005 (0.0005)  loss_mal_aux_1: 0.7563 (0.7278)  loss_bbox_aux_1: 0.6745 (0.6675)  loss_giou_aux_1: 1.3361 (1.3932)  loss_fgl_aux_1: 0.8050 (0.7701)  loss_ddf_aux_1: 0.0001 (0.0002)  loss_mal_pre: 0.7598 (0.7346)  loss_bbox_pre: 0.6675 (0.6638)  loss_giou_pre: 1.3400 (1.3926)  loss_mal_enc_0: 0.7515 (0.7382)  loss_bbox_enc_0: 0.6747 (0.6648)  loss_giou_enc_0: 1.3536 (1.3959)  loss_mal_dn_0: 0.6245 (0.6222)  loss_bbox_dn_0: 0.4876 (0.5031)  loss_giou_dn_0: 1.3638 (1.3634)  loss_fgl_dn_0: 0.8011 (0.8007)  loss_ddf_dn_0: 0.0005 (0.0005)  loss_mal_dn_1: 0.6216 (0.6209)  loss_bbox_dn_1: 0.4871 (0.5040)  loss_giou_dn_1: 1.3641 (1.3641)  loss_fgl_dn_1: 0.8002 (0.8002)  loss_ddf_dn_1: 0.0002 (0.0002)  loss_mal_dn_2: 0.6245 (0.6227)  loss_bbox_dn_2: 0.4870 (0.5046)  loss_giou_dn_2: 1.3644 (1.3654)  loss_fgl_dn_2: 0.7991 (0.7991)  loss_mal_dn_pre: 0.6250 (0.6239)  loss_bbox_dn_pre: 0.4904 (0.5051)  loss_giou_dn_pre: 1.3558 (1.3596)\n",
      "Test:  [0/5]  eta: 0:00:03    time: 0.7541  data: 0.6394  max mem: 10083\n"
     ]
    },
    {
     "name": "stderr",
     "output_type": "stream",
     "text": [
      "\u001b[32m2025-03-10 16:18:13.667\u001b[0m | \u001b[1mINFO    \u001b[0m | \u001b[36mdeimkit.trainer\u001b[0m:\u001b[36mtrain\u001b[0m:\u001b[36m312\u001b[0m - \u001b[1mEpoch 9 - Train loss: 28.6309, Eval mAP: 0.0008\u001b[0m\n",
      "\u001b[32m2025-03-10 16:18:13.668\u001b[0m | \u001b[1mINFO    \u001b[0m | \u001b[36mdeimkit.trainer\u001b[0m:\u001b[36mtrain\u001b[0m:\u001b[36m315\u001b[0m - \u001b[1mBest stats: {'epoch': 7, 'coco_eval_bbox': 0.008603062853799793}\u001b[0m\n"
     ]
    },
    {
     "name": "stdout",
     "output_type": "stream",
     "text": [
      "Test:  [4/5]  eta: 0:00:00    time: 0.2792  data: 0.1452  max mem: 10083\n",
      "Test: Total time: 0:00:01 (0.2908 s / it)\n",
      "Averaged stats: \n",
      "Accumulating evaluation results...\n",
      "COCOeval_opt.accumulate() finished...\n",
      "DONE (t=0.01s).\n",
      "IoU metric: bbox\n",
      " Average Precision  (AP) @[ IoU=0.50:0.95 | area=   all | maxDets=100 ] = 0.001\n",
      " Average Precision  (AP) @[ IoU=0.50      | area=   all | maxDets=100 ] = 0.004\n",
      " Average Precision  (AP) @[ IoU=0.75      | area=   all | maxDets=100 ] = 0.000\n",
      " Average Precision  (AP) @[ IoU=0.50:0.95 | area= small | maxDets=100 ] = 0.000\n",
      " Average Precision  (AP) @[ IoU=0.50:0.95 | area=medium | maxDets=100 ] = 0.001\n",
      " Average Precision  (AP) @[ IoU=0.50:0.95 | area= large | maxDets=100 ] = 0.008\n",
      " Average Recall     (AR) @[ IoU=0.50:0.95 | area=   all | maxDets=  1 ] = 0.001\n",
      " Average Recall     (AR) @[ IoU=0.50:0.95 | area=   all | maxDets= 10 ] = 0.005\n",
      " Average Recall     (AR) @[ IoU=0.50:0.95 | area=   all | maxDets=100 ] = 0.018\n",
      " Average Recall     (AR) @[ IoU=0.50:0.95 | area= small | maxDets=100 ] = 0.000\n",
      " Average Recall     (AR) @[ IoU=0.50:0.95 | area=medium | maxDets=100 ] = 0.027\n",
      " Average Recall     (AR) @[ IoU=0.50:0.95 | area= large | maxDets=100 ] = 0.014\n",
      " Average Recall     (AR) @[ IoU=0.50      | area=   all | maxDets=100 ] = 0.061\n",
      " Average Recall     (AR) @[ IoU=0.75      | area=   all | maxDets=100 ] = 0.008\n",
      "Epoch: [10]  [ 0/15]  eta: 0:00:35  lr: 0.000113  loss: 29.4461 (29.4461)  loss_mal: 0.7637 (0.7637)  loss_bbox: 0.7926 (0.7926)  loss_giou: 1.3429 (1.3429)  loss_fgl: 0.7818 (0.7818)  loss_mal_aux_0: 0.7603 (0.7603)  loss_bbox_aux_0: 0.7904 (0.7904)  loss_giou_aux_0: 1.3350 (1.3350)  loss_fgl_aux_0: 0.7863 (0.7863)  loss_ddf_aux_0: 0.0005 (0.0005)  loss_mal_aux_1: 0.7637 (0.7637)  loss_bbox_aux_1: 0.7908 (0.7908)  loss_giou_aux_1: 1.3372 (1.3372)  loss_fgl_aux_1: 0.7849 (0.7849)  loss_ddf_aux_1: 0.0002 (0.0002)  loss_mal_pre: 0.7622 (0.7622)  loss_bbox_pre: 0.7891 (0.7891)  loss_giou_pre: 1.3272 (1.3272)  loss_mal_enc_0: 0.7725 (0.7725)  loss_bbox_enc_0: 0.7950 (0.7950)  loss_giou_enc_0: 1.3342 (1.3342)  loss_mal_dn_0: 0.6021 (0.6021)  loss_bbox_dn_0: 0.5899 (0.5899)  loss_giou_dn_0: 1.3880 (1.3880)  loss_fgl_dn_0: 0.7717 (0.7717)  loss_ddf_dn_0: 0.0006 (0.0006)  loss_mal_dn_1: 0.6025 (0.6025)  loss_bbox_dn_1: 0.5897 (0.5897)  loss_giou_dn_1: 1.3900 (1.3900)  loss_fgl_dn_1: 0.7690 (0.7690)  loss_ddf_dn_1: 0.0003 (0.0003)  loss_mal_dn_2: 0.6021 (0.6021)  loss_bbox_dn_2: 0.5902 (0.5902)  loss_giou_dn_2: 1.3928 (1.3928)  loss_fgl_dn_2: 0.7661 (0.7661)  loss_mal_dn_pre: 0.6094 (0.6094)  loss_bbox_dn_pre: 0.5941 (0.5941)  loss_giou_dn_pre: 1.3770 (1.3770)  time: 2.3390  data: 1.7269  max mem: 10083\n"
     ]
    },
    {
     "name": "stderr",
     "output_type": "stream",
     "text": [
      "\u001b[32m2025-03-10 16:18:23.244\u001b[0m | \u001b[1mINFO    \u001b[0m | \u001b[36mdeimkit.trainer\u001b[0m:\u001b[36mevaluate\u001b[0m:\u001b[36m331\u001b[0m - \u001b[1mEvaluating model...\u001b[0m\n"
     ]
    },
    {
     "name": "stdout",
     "output_type": "stream",
     "text": [
      "Epoch: [10]  [14/15]  eta: 0:00:00  lr: 0.000134  loss: 28.9255 (28.9174)  loss_mal: 0.6982 (0.7131)  loss_bbox: 0.7398 (0.7201)  loss_giou: 1.4068 (1.4015)  loss_fgl: 0.7447 (0.7524)  loss_mal_aux_0: 0.6919 (0.7104)  loss_bbox_aux_0: 0.7370 (0.7195)  loss_giou_aux_0: 1.4080 (1.4005)  loss_fgl_aux_0: 0.7452 (0.7539)  loss_ddf_aux_0: 0.0004 (0.0004)  loss_mal_aux_1: 0.6943 (0.7071)  loss_bbox_aux_1: 0.7389 (0.7201)  loss_giou_aux_1: 1.4077 (1.4007)  loss_fgl_aux_1: 0.7447 (0.7531)  loss_ddf_aux_1: 0.0000 (0.0001)  loss_mal_pre: 0.6924 (0.7100)  loss_bbox_pre: 0.7344 (0.7185)  loss_giou_pre: 1.4070 (1.3991)  loss_mal_enc_0: 0.6948 (0.7022)  loss_bbox_enc_0: 0.7250 (0.7160)  loss_giou_enc_0: 1.4165 (1.4105)  loss_mal_dn_0: 0.6226 (0.6209)  loss_bbox_dn_0: 0.5494 (0.5434)  loss_giou_dn_0: 1.3645 (1.3657)  loss_fgl_dn_0: 0.7979 (0.7971)  loss_ddf_dn_0: 0.0004 (0.0004)  loss_mal_dn_1: 0.6206 (0.6185)  loss_bbox_dn_1: 0.5482 (0.5424)  loss_giou_dn_1: 1.3656 (1.3668)  loss_fgl_dn_1: 0.7960 (0.7953)  loss_ddf_dn_1: 0.0002 (0.0002)  loss_mal_dn_2: 0.6211 (0.6200)  loss_bbox_dn_2: 0.5477 (0.5423)  loss_giou_dn_2: 1.3663 (1.3676)  loss_fgl_dn_2: 0.7955 (0.7946)  loss_mal_dn_pre: 0.6240 (0.6234)  loss_bbox_dn_pre: 0.5562 (0.5486)  loss_giou_dn_pre: 1.3586 (1.3608)  time: 0.6326  data: 0.1362  max mem: 10083\n",
      "Epoch: [10] Total time: 0:00:09 (0.6372 s / it)\n",
      "Averaged stats: lr: 0.000134  loss: 28.9255 (28.9174)  loss_mal: 0.6982 (0.7131)  loss_bbox: 0.7398 (0.7201)  loss_giou: 1.4068 (1.4015)  loss_fgl: 0.7447 (0.7524)  loss_mal_aux_0: 0.6919 (0.7104)  loss_bbox_aux_0: 0.7370 (0.7195)  loss_giou_aux_0: 1.4080 (1.4005)  loss_fgl_aux_0: 0.7452 (0.7539)  loss_ddf_aux_0: 0.0004 (0.0004)  loss_mal_aux_1: 0.6943 (0.7071)  loss_bbox_aux_1: 0.7389 (0.7201)  loss_giou_aux_1: 1.4077 (1.4007)  loss_fgl_aux_1: 0.7447 (0.7531)  loss_ddf_aux_1: 0.0000 (0.0001)  loss_mal_pre: 0.6924 (0.7100)  loss_bbox_pre: 0.7344 (0.7185)  loss_giou_pre: 1.4070 (1.3991)  loss_mal_enc_0: 0.6948 (0.7022)  loss_bbox_enc_0: 0.7250 (0.7160)  loss_giou_enc_0: 1.4165 (1.4105)  loss_mal_dn_0: 0.6226 (0.6209)  loss_bbox_dn_0: 0.5494 (0.5434)  loss_giou_dn_0: 1.3645 (1.3657)  loss_fgl_dn_0: 0.7979 (0.7971)  loss_ddf_dn_0: 0.0004 (0.0004)  loss_mal_dn_1: 0.6206 (0.6185)  loss_bbox_dn_1: 0.5482 (0.5424)  loss_giou_dn_1: 1.3656 (1.3668)  loss_fgl_dn_1: 0.7960 (0.7953)  loss_ddf_dn_1: 0.0002 (0.0002)  loss_mal_dn_2: 0.6211 (0.6200)  loss_bbox_dn_2: 0.5477 (0.5423)  loss_giou_dn_2: 1.3663 (1.3676)  loss_fgl_dn_2: 0.7955 (0.7946)  loss_mal_dn_pre: 0.6240 (0.6234)  loss_bbox_dn_pre: 0.5562 (0.5486)  loss_giou_dn_pre: 1.3586 (1.3608)\n",
      "Test:  [0/5]  eta: 0:00:03    time: 0.7330  data: 0.6219  max mem: 10083\n"
     ]
    },
    {
     "name": "stderr",
     "output_type": "stream",
     "text": [
      "\u001b[32m2025-03-10 16:18:24.676\u001b[0m | \u001b[1mINFO    \u001b[0m | \u001b[36mdeimkit.trainer\u001b[0m:\u001b[36mtrain\u001b[0m:\u001b[36m312\u001b[0m - \u001b[1mEpoch 10 - Train loss: 28.9174, Eval mAP: 0.0012\u001b[0m\n",
      "\u001b[32m2025-03-10 16:18:24.677\u001b[0m | \u001b[1mINFO    \u001b[0m | \u001b[36mdeimkit.trainer\u001b[0m:\u001b[36mtrain\u001b[0m:\u001b[36m315\u001b[0m - \u001b[1mBest stats: {'epoch': 7, 'coco_eval_bbox': 0.008603062853799793}\u001b[0m\n"
     ]
    },
    {
     "name": "stdout",
     "output_type": "stream",
     "text": [
      "Test:  [4/5]  eta: 0:00:00    time: 0.2700  data: 0.1397  max mem: 10083\n",
      "Test: Total time: 0:00:01 (0.2823 s / it)\n",
      "Averaged stats: \n",
      "Accumulating evaluation results...\n",
      "COCOeval_opt.accumulate() finished...\n",
      "DONE (t=0.01s).\n",
      "IoU metric: bbox\n",
      " Average Precision  (AP) @[ IoU=0.50:0.95 | area=   all | maxDets=100 ] = 0.001\n",
      " Average Precision  (AP) @[ IoU=0.50      | area=   all | maxDets=100 ] = 0.007\n",
      " Average Precision  (AP) @[ IoU=0.75      | area=   all | maxDets=100 ] = 0.000\n",
      " Average Precision  (AP) @[ IoU=0.50:0.95 | area= small | maxDets=100 ] = 0.000\n",
      " Average Precision  (AP) @[ IoU=0.50:0.95 | area=medium | maxDets=100 ] = 0.001\n",
      " Average Precision  (AP) @[ IoU=0.50:0.95 | area= large | maxDets=100 ] = 0.003\n",
      " Average Recall     (AR) @[ IoU=0.50:0.95 | area=   all | maxDets=  1 ] = 0.001\n",
      " Average Recall     (AR) @[ IoU=0.50:0.95 | area=   all | maxDets= 10 ] = 0.006\n",
      " Average Recall     (AR) @[ IoU=0.50:0.95 | area=   all | maxDets=100 ] = 0.025\n",
      " Average Recall     (AR) @[ IoU=0.50:0.95 | area= small | maxDets=100 ] = 0.000\n",
      " Average Recall     (AR) @[ IoU=0.50:0.95 | area=medium | maxDets=100 ] = 0.025\n",
      " Average Recall     (AR) @[ IoU=0.50:0.95 | area= large | maxDets=100 ] = 0.024\n",
      " Average Recall     (AR) @[ IoU=0.50      | area=   all | maxDets=100 ] = 0.091\n",
      " Average Recall     (AR) @[ IoU=0.75      | area=   all | maxDets=100 ] = 0.009\n",
      "Epoch: [11]  [ 0/15]  eta: 0:00:26  lr: 0.000136  loss: 29.0656 (29.0656)  loss_mal: 0.7754 (0.7754)  loss_bbox: 0.6553 (0.6553)  loss_giou: 1.3915 (1.3915)  loss_fgl: 0.7732 (0.7732)  loss_mal_aux_0: 0.8032 (0.8032)  loss_bbox_aux_0: 0.6556 (0.6556)  loss_giou_aux_0: 1.3933 (1.3933)  loss_fgl_aux_0: 0.7744 (0.7744)  loss_ddf_aux_0: 0.0005 (0.0005)  loss_mal_aux_1: 0.7964 (0.7964)  loss_bbox_aux_1: 0.6557 (0.6557)  loss_giou_aux_1: 1.3924 (1.3924)  loss_fgl_aux_1: 0.7735 (0.7735)  loss_ddf_aux_1: 0.0000 (0.0000)  loss_mal_pre: 0.7993 (0.7993)  loss_bbox_pre: 0.6565 (0.6565)  loss_giou_pre: 1.3957 (1.3957)  loss_mal_enc_0: 0.8008 (0.8008)  loss_bbox_enc_0: 0.6569 (0.6569)  loss_giou_enc_0: 1.4002 (1.4002)  loss_mal_dn_0: 0.6309 (0.6309)  loss_bbox_dn_0: 0.5402 (0.5402)  loss_giou_dn_0: 1.3559 (1.3559)  loss_fgl_dn_0: 0.8046 (0.8046)  loss_ddf_dn_0: 0.0006 (0.0006)  loss_mal_dn_1: 0.6309 (0.6309)  loss_bbox_dn_1: 0.5396 (0.5396)  loss_giou_dn_1: 1.3566 (1.3566)  loss_fgl_dn_1: 0.8027 (0.8027)  loss_ddf_dn_1: 0.0002 (0.0002)  loss_mal_dn_2: 0.6255 (0.6255)  loss_bbox_dn_2: 0.5397 (0.5397)  loss_giou_dn_2: 1.3567 (1.3567)  loss_fgl_dn_2: 0.8025 (0.8025)  loss_mal_dn_pre: 0.6313 (0.6313)  loss_bbox_dn_pre: 0.5437 (0.5437)  loss_giou_dn_pre: 1.3542 (1.3542)  time: 1.7917  data: 1.2571  max mem: 10083\n"
     ]
    },
    {
     "name": "stderr",
     "output_type": "stream",
     "text": [
      "\u001b[32m2025-03-10 16:18:33.468\u001b[0m | \u001b[1mINFO    \u001b[0m | \u001b[36mdeimkit.trainer\u001b[0m:\u001b[36m_save_checkpoint\u001b[0m:\u001b[36m363\u001b[0m - \u001b[1mSaving checkpoint to outputs/deim_hgnetv2_s_coco_ema_tune/checkpoint0011.pth\u001b[0m\n"
     ]
    },
    {
     "name": "stdout",
     "output_type": "stream",
     "text": [
      "Epoch: [11]  [14/15]  eta: 0:00:00  lr: 0.000160  loss: 28.2651 (28.3861)  loss_mal: 0.7207 (0.7145)  loss_bbox: 0.6137 (0.6298)  loss_giou: 1.3849 (1.3817)  loss_fgl: 0.7732 (0.7684)  loss_mal_aux_0: 0.7368 (0.7193)  loss_bbox_aux_0: 0.6155 (0.6303)  loss_giou_aux_0: 1.3824 (1.3804)  loss_fgl_aux_0: 0.7744 (0.7700)  loss_ddf_aux_0: 0.0008 (0.0007)  loss_mal_aux_1: 0.7319 (0.7144)  loss_bbox_aux_1: 0.6148 (0.6302)  loss_giou_aux_1: 1.3836 (1.3809)  loss_fgl_aux_1: 0.7735 (0.7692)  loss_ddf_aux_1: 0.0002 (0.0001)  loss_mal_pre: 0.7354 (0.7190)  loss_bbox_pre: 0.6196 (0.6317)  loss_giou_pre: 1.3773 (1.3780)  loss_mal_enc_0: 0.7339 (0.7185)  loss_bbox_enc_0: 0.6325 (0.6389)  loss_giou_enc_0: 1.3840 (1.3853)  loss_mal_dn_0: 0.6162 (0.6167)  loss_bbox_dn_0: 0.5260 (0.5230)  loss_giou_dn_0: 1.3672 (1.3696)  loss_fgl_dn_0: 0.7956 (0.7959)  loss_ddf_dn_0: 0.0008 (0.0008)  loss_mal_dn_1: 0.6152 (0.6159)  loss_bbox_dn_1: 0.5261 (0.5222)  loss_giou_dn_1: 1.3686 (1.3714)  loss_fgl_dn_1: 0.7930 (0.7936)  loss_ddf_dn_1: 0.0003 (0.0003)  loss_mal_dn_2: 0.6162 (0.6163)  loss_bbox_dn_2: 0.5260 (0.5219)  loss_giou_dn_2: 1.3694 (1.3721)  loss_fgl_dn_2: 0.7918 (0.7928)  loss_mal_dn_pre: 0.6187 (0.6196)  loss_bbox_dn_pre: 0.5295 (0.5286)  loss_giou_dn_pre: 1.3619 (1.3642)  time: 0.5796  data: 0.1043  max mem: 10201\n",
      "Epoch: [11] Total time: 0:00:08 (0.5844 s / it)\n",
      "Averaged stats: lr: 0.000160  loss: 28.2651 (28.3861)  loss_mal: 0.7207 (0.7145)  loss_bbox: 0.6137 (0.6298)  loss_giou: 1.3849 (1.3817)  loss_fgl: 0.7732 (0.7684)  loss_mal_aux_0: 0.7368 (0.7193)  loss_bbox_aux_0: 0.6155 (0.6303)  loss_giou_aux_0: 1.3824 (1.3804)  loss_fgl_aux_0: 0.7744 (0.7700)  loss_ddf_aux_0: 0.0008 (0.0007)  loss_mal_aux_1: 0.7319 (0.7144)  loss_bbox_aux_1: 0.6148 (0.6302)  loss_giou_aux_1: 1.3836 (1.3809)  loss_fgl_aux_1: 0.7735 (0.7692)  loss_ddf_aux_1: 0.0002 (0.0001)  loss_mal_pre: 0.7354 (0.7190)  loss_bbox_pre: 0.6196 (0.6317)  loss_giou_pre: 1.3773 (1.3780)  loss_mal_enc_0: 0.7339 (0.7185)  loss_bbox_enc_0: 0.6325 (0.6389)  loss_giou_enc_0: 1.3840 (1.3853)  loss_mal_dn_0: 0.6162 (0.6167)  loss_bbox_dn_0: 0.5260 (0.5230)  loss_giou_dn_0: 1.3672 (1.3696)  loss_fgl_dn_0: 0.7956 (0.7959)  loss_ddf_dn_0: 0.0008 (0.0008)  loss_mal_dn_1: 0.6152 (0.6159)  loss_bbox_dn_1: 0.5261 (0.5222)  loss_giou_dn_1: 1.3686 (1.3714)  loss_fgl_dn_1: 0.7930 (0.7936)  loss_ddf_dn_1: 0.0003 (0.0003)  loss_mal_dn_2: 0.6162 (0.6163)  loss_bbox_dn_2: 0.5260 (0.5219)  loss_giou_dn_2: 1.3694 (1.3721)  loss_fgl_dn_2: 0.7918 (0.7928)  loss_mal_dn_pre: 0.6187 (0.6196)  loss_bbox_dn_pre: 0.5295 (0.5286)  loss_giou_dn_pre: 1.3619 (1.3642)\n"
     ]
    },
    {
     "name": "stderr",
     "output_type": "stream",
     "text": [
      "\u001b[32m2025-03-10 16:18:33.748\u001b[0m | \u001b[1mINFO    \u001b[0m | \u001b[36mdeimkit.trainer\u001b[0m:\u001b[36m_save_checkpoint\u001b[0m:\u001b[36m380\u001b[0m - \u001b[1mCheckpoint saved to outputs/deim_hgnetv2_s_coco_ema_tune/checkpoint0011.pth\u001b[0m\n",
      "\u001b[32m2025-03-10 16:18:33.749\u001b[0m | \u001b[1mINFO    \u001b[0m | \u001b[36mdeimkit.trainer\u001b[0m:\u001b[36mevaluate\u001b[0m:\u001b[36m331\u001b[0m - \u001b[1mEvaluating model...\u001b[0m\n"
     ]
    },
    {
     "name": "stdout",
     "output_type": "stream",
     "text": [
      "Test:  [0/5]  eta: 0:00:03    time: 0.7379  data: 0.6201  max mem: 10201\n"
     ]
    },
    {
     "name": "stderr",
     "output_type": "stream",
     "text": [
      "\u001b[32m2025-03-10 16:18:35.201\u001b[0m | \u001b[1mINFO    \u001b[0m | \u001b[36mdeimkit.trainer\u001b[0m:\u001b[36mtrain\u001b[0m:\u001b[36m312\u001b[0m - \u001b[1mEpoch 11 - Train loss: 28.3861, Eval mAP: 0.0024\u001b[0m\n",
      "\u001b[32m2025-03-10 16:18:35.201\u001b[0m | \u001b[1mINFO    \u001b[0m | \u001b[36mdeimkit.trainer\u001b[0m:\u001b[36mtrain\u001b[0m:\u001b[36m315\u001b[0m - \u001b[1mBest stats: {'epoch': 7, 'coco_eval_bbox': 0.008603062853799793}\u001b[0m\n"
     ]
    },
    {
     "name": "stdout",
     "output_type": "stream",
     "text": [
      "Test:  [4/5]  eta: 0:00:00    time: 0.2744  data: 0.1417  max mem: 10201\n",
      "Test: Total time: 0:00:01 (0.2860 s / it)\n",
      "Averaged stats: \n",
      "Accumulating evaluation results...\n",
      "COCOeval_opt.accumulate() finished...\n",
      "DONE (t=0.01s).\n",
      "IoU metric: bbox\n",
      " Average Precision  (AP) @[ IoU=0.50:0.95 | area=   all | maxDets=100 ] = 0.002\n",
      " Average Precision  (AP) @[ IoU=0.50      | area=   all | maxDets=100 ] = 0.009\n",
      " Average Precision  (AP) @[ IoU=0.75      | area=   all | maxDets=100 ] = 0.000\n",
      " Average Precision  (AP) @[ IoU=0.50:0.95 | area= small | maxDets=100 ] = 0.000\n",
      " Average Precision  (AP) @[ IoU=0.50:0.95 | area=medium | maxDets=100 ] = 0.002\n",
      " Average Precision  (AP) @[ IoU=0.50:0.95 | area= large | maxDets=100 ] = 0.004\n",
      " Average Recall     (AR) @[ IoU=0.50:0.95 | area=   all | maxDets=  1 ] = 0.002\n",
      " Average Recall     (AR) @[ IoU=0.50:0.95 | area=   all | maxDets= 10 ] = 0.004\n",
      " Average Recall     (AR) @[ IoU=0.50:0.95 | area=   all | maxDets=100 ] = 0.016\n",
      " Average Recall     (AR) @[ IoU=0.50:0.95 | area= small | maxDets=100 ] = 0.000\n",
      " Average Recall     (AR) @[ IoU=0.50:0.95 | area=medium | maxDets=100 ] = 0.024\n",
      " Average Recall     (AR) @[ IoU=0.50:0.95 | area= large | maxDets=100 ] = 0.012\n",
      " Average Recall     (AR) @[ IoU=0.50      | area=   all | maxDets=100 ] = 0.066\n",
      " Average Recall     (AR) @[ IoU=0.75      | area=   all | maxDets=100 ] = 0.002\n",
      "Epoch: [12]  [ 0/15]  eta: 0:00:32  lr: 0.000162  loss: 27.9062 (27.9062)  loss_mal: 0.6162 (0.6162)  loss_bbox: 0.6365 (0.6365)  loss_giou: 1.4455 (1.4455)  loss_fgl: 0.7114 (0.7114)  loss_mal_aux_0: 0.6201 (0.6201)  loss_bbox_aux_0: 0.6377 (0.6377)  loss_giou_aux_0: 1.4446 (1.4446)  loss_fgl_aux_0: 0.7115 (0.7115)  loss_ddf_aux_0: 0.0007 (0.0007)  loss_mal_aux_1: 0.6211 (0.6211)  loss_bbox_aux_1: 0.6372 (0.6372)  loss_giou_aux_1: 1.4451 (1.4451)  loss_fgl_aux_1: 0.7115 (0.7115)  loss_ddf_aux_1: 0.0002 (0.0002)  loss_mal_pre: 0.6206 (0.6206)  loss_bbox_pre: 0.6404 (0.6404)  loss_giou_pre: 1.4419 (1.4419)  loss_mal_enc_0: 0.6289 (0.6289)  loss_bbox_enc_0: 0.6523 (0.6523)  loss_giou_enc_0: 1.4452 (1.4452)  loss_mal_dn_0: 0.6211 (0.6211)  loss_bbox_dn_0: 0.4794 (0.4794)  loss_giou_dn_0: 1.3602 (1.3602)  loss_fgl_dn_0: 0.8007 (0.8007)  loss_ddf_dn_0: 0.0009 (0.0009)  loss_mal_dn_1: 0.6182 (0.6182)  loss_bbox_dn_1: 0.4786 (0.4786)  loss_giou_dn_1: 1.3612 (1.3612)  loss_fgl_dn_1: 0.7989 (0.7989)  loss_ddf_dn_1: 0.0003 (0.0003)  loss_mal_dn_2: 0.6177 (0.6177)  loss_bbox_dn_2: 0.4779 (0.4779)  loss_giou_dn_2: 1.3613 (1.3613)  loss_fgl_dn_2: 0.7985 (0.7985)  loss_mal_dn_pre: 0.6240 (0.6240)  loss_bbox_dn_pre: 0.4839 (0.4839)  loss_giou_dn_pre: 1.3547 (1.3547)  time: 2.1336  data: 1.5411  max mem: 10201\n"
     ]
    },
    {
     "name": "stderr",
     "output_type": "stream",
     "text": [
      "\u001b[32m2025-03-10 16:18:43.924\u001b[0m | \u001b[1mINFO    \u001b[0m | \u001b[36mdeimkit.trainer\u001b[0m:\u001b[36mevaluate\u001b[0m:\u001b[36m331\u001b[0m - \u001b[1mEvaluating model...\u001b[0m\n"
     ]
    },
    {
     "name": "stdout",
     "output_type": "stream",
     "text": [
      "Epoch: [12]  [14/15]  eta: 0:00:00  lr: 0.000188  loss: 28.0872 (28.0749)  loss_mal: 0.7217 (0.7143)  loss_bbox: 0.6296 (0.6181)  loss_giou: 1.3313 (1.3401)  loss_fgl: 0.7874 (0.7792)  loss_mal_aux_0: 0.7197 (0.7144)  loss_bbox_aux_0: 0.6297 (0.6187)  loss_giou_aux_0: 1.3325 (1.3406)  loss_fgl_aux_0: 0.7872 (0.7795)  loss_ddf_aux_0: 0.0009 (0.0010)  loss_mal_aux_1: 0.7256 (0.7141)  loss_bbox_aux_1: 0.6292 (0.6183)  loss_giou_aux_1: 1.3321 (1.3404)  loss_fgl_aux_1: 0.7871 (0.7791)  loss_ddf_aux_1: 0.0003 (0.0003)  loss_mal_pre: 0.7178 (0.7130)  loss_bbox_pre: 0.6328 (0.6209)  loss_giou_pre: 1.3331 (1.3399)  loss_mal_enc_0: 0.7515 (0.7292)  loss_bbox_enc_0: 0.6502 (0.6380)  loss_giou_enc_0: 1.3397 (1.3497)  loss_mal_dn_0: 0.6162 (0.6162)  loss_bbox_dn_0: 0.5060 (0.5006)  loss_giou_dn_0: 1.3697 (1.3677)  loss_fgl_dn_0: 0.7932 (0.7970)  loss_ddf_dn_0: 0.0008 (0.0008)  loss_mal_dn_1: 0.6138 (0.6148)  loss_bbox_dn_1: 0.5055 (0.4999)  loss_giou_dn_1: 1.3694 (1.3678)  loss_fgl_dn_1: 0.7913 (0.7956)  loss_ddf_dn_1: 0.0001 (0.0001)  loss_mal_dn_2: 0.6133 (0.6151)  loss_bbox_dn_2: 0.5056 (0.4998)  loss_giou_dn_2: 1.3690 (1.3678)  loss_fgl_dn_2: 0.7908 (0.7955)  loss_mal_dn_pre: 0.6182 (0.6178)  loss_bbox_dn_pre: 0.5093 (0.5046)  loss_giou_dn_pre: 1.3687 (1.3649)  time: 0.5761  data: 0.1192  max mem: 10201\n",
      "Epoch: [12] Total time: 0:00:08 (0.5802 s / it)\n",
      "Averaged stats: lr: 0.000188  loss: 28.0872 (28.0749)  loss_mal: 0.7217 (0.7143)  loss_bbox: 0.6296 (0.6181)  loss_giou: 1.3313 (1.3401)  loss_fgl: 0.7874 (0.7792)  loss_mal_aux_0: 0.7197 (0.7144)  loss_bbox_aux_0: 0.6297 (0.6187)  loss_giou_aux_0: 1.3325 (1.3406)  loss_fgl_aux_0: 0.7872 (0.7795)  loss_ddf_aux_0: 0.0009 (0.0010)  loss_mal_aux_1: 0.7256 (0.7141)  loss_bbox_aux_1: 0.6292 (0.6183)  loss_giou_aux_1: 1.3321 (1.3404)  loss_fgl_aux_1: 0.7871 (0.7791)  loss_ddf_aux_1: 0.0003 (0.0003)  loss_mal_pre: 0.7178 (0.7130)  loss_bbox_pre: 0.6328 (0.6209)  loss_giou_pre: 1.3331 (1.3399)  loss_mal_enc_0: 0.7515 (0.7292)  loss_bbox_enc_0: 0.6502 (0.6380)  loss_giou_enc_0: 1.3397 (1.3497)  loss_mal_dn_0: 0.6162 (0.6162)  loss_bbox_dn_0: 0.5060 (0.5006)  loss_giou_dn_0: 1.3697 (1.3677)  loss_fgl_dn_0: 0.7932 (0.7970)  loss_ddf_dn_0: 0.0008 (0.0008)  loss_mal_dn_1: 0.6138 (0.6148)  loss_bbox_dn_1: 0.5055 (0.4999)  loss_giou_dn_1: 1.3694 (1.3678)  loss_fgl_dn_1: 0.7913 (0.7956)  loss_ddf_dn_1: 0.0001 (0.0001)  loss_mal_dn_2: 0.6133 (0.6151)  loss_bbox_dn_2: 0.5056 (0.4998)  loss_giou_dn_2: 1.3690 (1.3678)  loss_fgl_dn_2: 0.7908 (0.7955)  loss_mal_dn_pre: 0.6182 (0.6178)  loss_bbox_dn_pre: 0.5093 (0.5046)  loss_giou_dn_pre: 1.3687 (1.3649)\n",
      "Test:  [0/5]  eta: 0:00:03    time: 0.7629  data: 0.6516  max mem: 10201\n"
     ]
    },
    {
     "name": "stderr",
     "output_type": "stream",
     "text": [
      "\u001b[32m2025-03-10 16:18:45.375\u001b[0m | \u001b[1mINFO    \u001b[0m | \u001b[36mdeimkit.trainer\u001b[0m:\u001b[36mtrain\u001b[0m:\u001b[36m312\u001b[0m - \u001b[1mEpoch 12 - Train loss: 28.0749, Eval mAP: 0.0048\u001b[0m\n",
      "\u001b[32m2025-03-10 16:18:45.375\u001b[0m | \u001b[1mINFO    \u001b[0m | \u001b[36mdeimkit.trainer\u001b[0m:\u001b[36mtrain\u001b[0m:\u001b[36m315\u001b[0m - \u001b[1mBest stats: {'epoch': 7, 'coco_eval_bbox': 0.008603062853799793}\u001b[0m\n"
     ]
    },
    {
     "name": "stdout",
     "output_type": "stream",
     "text": [
      "Test:  [4/5]  eta: 0:00:00    time: 0.2743  data: 0.1431  max mem: 10201\n",
      "Test: Total time: 0:00:01 (0.2864 s / it)\n",
      "Averaged stats: \n",
      "Accumulating evaluation results...\n",
      "COCOeval_opt.accumulate() finished...\n",
      "DONE (t=0.01s).\n",
      "IoU metric: bbox\n",
      " Average Precision  (AP) @[ IoU=0.50:0.95 | area=   all | maxDets=100 ] = 0.005\n",
      " Average Precision  (AP) @[ IoU=0.50      | area=   all | maxDets=100 ] = 0.022\n",
      " Average Precision  (AP) @[ IoU=0.75      | area=   all | maxDets=100 ] = 0.000\n",
      " Average Precision  (AP) @[ IoU=0.50:0.95 | area= small | maxDets=100 ] = 0.000\n",
      " Average Precision  (AP) @[ IoU=0.50:0.95 | area=medium | maxDets=100 ] = 0.001\n",
      " Average Precision  (AP) @[ IoU=0.50:0.95 | area= large | maxDets=100 ] = 0.012\n",
      " Average Recall     (AR) @[ IoU=0.50:0.95 | area=   all | maxDets=  1 ] = 0.007\n",
      " Average Recall     (AR) @[ IoU=0.50:0.95 | area=   all | maxDets= 10 ] = 0.019\n",
      " Average Recall     (AR) @[ IoU=0.50:0.95 | area=   all | maxDets=100 ] = 0.052\n",
      " Average Recall     (AR) @[ IoU=0.50:0.95 | area= small | maxDets=100 ] = 0.000\n",
      " Average Recall     (AR) @[ IoU=0.50:0.95 | area=medium | maxDets=100 ] = 0.032\n",
      " Average Recall     (AR) @[ IoU=0.50:0.95 | area= large | maxDets=100 ] = 0.056\n",
      " Average Recall     (AR) @[ IoU=0.50      | area=   all | maxDets=100 ] = 0.170\n",
      " Average Recall     (AR) @[ IoU=0.75      | area=   all | maxDets=100 ] = 0.018\n",
      "Epoch: [13]  [ 0/15]  eta: 0:00:30  lr: 0.000190  loss: 27.6723 (27.6723)  loss_mal: 0.8018 (0.8018)  loss_bbox: 0.5203 (0.5203)  loss_giou: 1.2896 (1.2896)  loss_fgl: 0.8132 (0.8132)  loss_mal_aux_0: 0.7856 (0.7856)  loss_bbox_aux_0: 0.5213 (0.5213)  loss_giou_aux_0: 1.2896 (1.2896)  loss_fgl_aux_0: 0.8129 (0.8129)  loss_ddf_aux_0: 0.0011 (0.0011)  loss_mal_aux_1: 0.7856 (0.7856)  loss_bbox_aux_1: 0.5205 (0.5205)  loss_giou_aux_1: 1.2893 (1.2893)  loss_fgl_aux_1: 0.8130 (0.8130)  loss_ddf_aux_1: 0.0003 (0.0003)  loss_mal_pre: 0.7817 (0.7817)  loss_bbox_pre: 0.5242 (0.5242)  loss_giou_pre: 1.2891 (1.2891)  loss_mal_enc_0: 0.7705 (0.7705)  loss_bbox_enc_0: 0.5447 (0.5447)  loss_giou_enc_0: 1.3043 (1.3043)  loss_mal_dn_0: 0.6162 (0.6162)  loss_bbox_dn_0: 0.4693 (0.4693)  loss_giou_dn_0: 1.3758 (1.3758)  loss_fgl_dn_0: 0.7874 (0.7874)  loss_ddf_dn_0: 0.0009 (0.0009)  loss_mal_dn_1: 0.6182 (0.6182)  loss_bbox_dn_1: 0.4690 (0.4690)  loss_giou_dn_1: 1.3758 (1.3758)  loss_fgl_dn_1: 0.7862 (0.7862)  loss_ddf_dn_1: 0.0002 (0.0002)  loss_mal_dn_2: 0.6187 (0.6187)  loss_bbox_dn_2: 0.4690 (0.4690)  loss_giou_dn_2: 1.3754 (1.3754)  loss_fgl_dn_2: 0.7862 (0.7862)  loss_mal_dn_pre: 0.6172 (0.6172)  loss_bbox_dn_pre: 0.4740 (0.4740)  loss_giou_dn_pre: 1.3740 (1.3740)  time: 2.0314  data: 1.5211  max mem: 10201\n"
     ]
    },
    {
     "name": "stderr",
     "output_type": "stream",
     "text": [
      "\u001b[32m2025-03-10 16:18:54.416\u001b[0m | \u001b[1mINFO    \u001b[0m | \u001b[36mdeimkit.trainer\u001b[0m:\u001b[36mevaluate\u001b[0m:\u001b[36m331\u001b[0m - \u001b[1mEvaluating model...\u001b[0m\n"
     ]
    },
    {
     "name": "stdout",
     "output_type": "stream",
     "text": [
      "Epoch: [13]  [14/15]  eta: 0:00:00  lr: 0.000200  loss: 28.4953 (28.4699)  loss_mal: 0.6260 (0.6296)  loss_bbox: 0.6701 (0.6683)  loss_giou: 1.4643 (1.4798)  loss_fgl: 0.7147 (0.7035)  loss_mal_aux_0: 0.6270 (0.6362)  loss_bbox_aux_0: 0.6704 (0.6691)  loss_giou_aux_0: 1.4632 (1.4801)  loss_fgl_aux_0: 0.7136 (0.7024)  loss_ddf_aux_0: 0.0008 (0.0008)  loss_mal_aux_1: 0.6260 (0.6315)  loss_bbox_aux_1: 0.6700 (0.6686)  loss_giou_aux_1: 1.4638 (1.4799)  loss_fgl_aux_1: 0.7143 (0.7031)  loss_ddf_aux_1: 0.0001 (0.0002)  loss_mal_pre: 0.6284 (0.6361)  loss_bbox_pre: 0.6714 (0.6699)  loss_giou_pre: 1.4577 (1.4763)  loss_mal_enc_0: 0.6436 (0.6468)  loss_bbox_enc_0: 0.6832 (0.6837)  loss_giou_enc_0: 1.4576 (1.4854)  loss_mal_dn_0: 0.6162 (0.6155)  loss_bbox_dn_0: 0.5157 (0.5259)  loss_giou_dn_0: 1.3714 (1.3710)  loss_fgl_dn_0: 0.7903 (0.7902)  loss_ddf_dn_0: 0.0008 (0.0009)  loss_mal_dn_1: 0.6147 (0.6141)  loss_bbox_dn_1: 0.5157 (0.5257)  loss_giou_dn_1: 1.3713 (1.3711)  loss_fgl_dn_1: 0.7898 (0.7890)  loss_ddf_dn_1: 0.0001 (0.0001)  loss_mal_dn_2: 0.6152 (0.6145)  loss_bbox_dn_2: 0.5158 (0.5256)  loss_giou_dn_2: 1.3711 (1.3712)  loss_fgl_dn_2: 0.7898 (0.7887)  loss_mal_dn_pre: 0.6172 (0.6174)  loss_bbox_dn_pre: 0.5190 (0.5304)  loss_giou_dn_pre: 1.3687 (1.3677)  time: 0.5976  data: 0.1206  max mem: 10201\n",
      "Epoch: [13] Total time: 0:00:09 (0.6016 s / it)\n",
      "Averaged stats: lr: 0.000200  loss: 28.4953 (28.4699)  loss_mal: 0.6260 (0.6296)  loss_bbox: 0.6701 (0.6683)  loss_giou: 1.4643 (1.4798)  loss_fgl: 0.7147 (0.7035)  loss_mal_aux_0: 0.6270 (0.6362)  loss_bbox_aux_0: 0.6704 (0.6691)  loss_giou_aux_0: 1.4632 (1.4801)  loss_fgl_aux_0: 0.7136 (0.7024)  loss_ddf_aux_0: 0.0008 (0.0008)  loss_mal_aux_1: 0.6260 (0.6315)  loss_bbox_aux_1: 0.6700 (0.6686)  loss_giou_aux_1: 1.4638 (1.4799)  loss_fgl_aux_1: 0.7143 (0.7031)  loss_ddf_aux_1: 0.0001 (0.0002)  loss_mal_pre: 0.6284 (0.6361)  loss_bbox_pre: 0.6714 (0.6699)  loss_giou_pre: 1.4577 (1.4763)  loss_mal_enc_0: 0.6436 (0.6468)  loss_bbox_enc_0: 0.6832 (0.6837)  loss_giou_enc_0: 1.4576 (1.4854)  loss_mal_dn_0: 0.6162 (0.6155)  loss_bbox_dn_0: 0.5157 (0.5259)  loss_giou_dn_0: 1.3714 (1.3710)  loss_fgl_dn_0: 0.7903 (0.7902)  loss_ddf_dn_0: 0.0008 (0.0009)  loss_mal_dn_1: 0.6147 (0.6141)  loss_bbox_dn_1: 0.5157 (0.5257)  loss_giou_dn_1: 1.3713 (1.3711)  loss_fgl_dn_1: 0.7898 (0.7890)  loss_ddf_dn_1: 0.0001 (0.0001)  loss_mal_dn_2: 0.6152 (0.6145)  loss_bbox_dn_2: 0.5158 (0.5256)  loss_giou_dn_2: 1.3711 (1.3712)  loss_fgl_dn_2: 0.7898 (0.7887)  loss_mal_dn_pre: 0.6172 (0.6174)  loss_bbox_dn_pre: 0.5190 (0.5304)  loss_giou_dn_pre: 1.3687 (1.3677)\n",
      "Test:  [0/5]  eta: 0:00:03    time: 0.7444  data: 0.6339  max mem: 10201\n"
     ]
    },
    {
     "name": "stderr",
     "output_type": "stream",
     "text": [
      "\u001b[32m2025-03-10 16:18:55.686\u001b[0m | \u001b[1mINFO    \u001b[0m | \u001b[36mdeimkit.trainer\u001b[0m:\u001b[36mtrain\u001b[0m:\u001b[36m312\u001b[0m - \u001b[1mEpoch 13 - Train loss: 28.4699, Eval mAP: 0.0040\u001b[0m\n",
      "\u001b[32m2025-03-10 16:18:55.686\u001b[0m | \u001b[1mINFO    \u001b[0m | \u001b[36mdeimkit.trainer\u001b[0m:\u001b[36mtrain\u001b[0m:\u001b[36m315\u001b[0m - \u001b[1mBest stats: {'epoch': 7, 'coco_eval_bbox': 0.008603062853799793}\u001b[0m\n"
     ]
    },
    {
     "name": "stdout",
     "output_type": "stream",
     "text": [
      "Test:  [4/5]  eta: 0:00:00    time: 0.2380  data: 0.1384  max mem: 10201\n",
      "Test: Total time: 0:00:01 (0.2498 s / it)\n",
      "Averaged stats: \n",
      "Accumulating evaluation results...\n",
      "COCOeval_opt.accumulate() finished...\n",
      "DONE (t=0.01s).\n",
      "IoU metric: bbox\n",
      " Average Precision  (AP) @[ IoU=0.50:0.95 | area=   all | maxDets=100 ] = 0.004\n",
      " Average Precision  (AP) @[ IoU=0.50      | area=   all | maxDets=100 ] = 0.018\n",
      " Average Precision  (AP) @[ IoU=0.75      | area=   all | maxDets=100 ] = 0.000\n",
      " Average Precision  (AP) @[ IoU=0.50:0.95 | area= small | maxDets=100 ] = 0.000\n",
      " Average Precision  (AP) @[ IoU=0.50:0.95 | area=medium | maxDets=100 ] = 0.001\n",
      " Average Precision  (AP) @[ IoU=0.50:0.95 | area= large | maxDets=100 ] = 0.012\n",
      " Average Recall     (AR) @[ IoU=0.50:0.95 | area=   all | maxDets=  1 ] = 0.004\n",
      " Average Recall     (AR) @[ IoU=0.50:0.95 | area=   all | maxDets= 10 ] = 0.026\n",
      " Average Recall     (AR) @[ IoU=0.50:0.95 | area=   all | maxDets=100 ] = 0.067\n",
      " Average Recall     (AR) @[ IoU=0.50:0.95 | area= small | maxDets=100 ] = 0.000\n",
      " Average Recall     (AR) @[ IoU=0.50:0.95 | area=medium | maxDets=100 ] = 0.134\n",
      " Average Recall     (AR) @[ IoU=0.50:0.95 | area= large | maxDets=100 ] = 0.069\n",
      " Average Recall     (AR) @[ IoU=0.50      | area=   all | maxDets=100 ] = 0.236\n",
      " Average Recall     (AR) @[ IoU=0.75      | area=   all | maxDets=100 ] = 0.014\n",
      "Epoch: [14]  [ 0/15]  eta: 0:00:33  lr: 0.000200  loss: 28.1783 (28.1783)  loss_mal: 0.5542 (0.5542)  loss_bbox: 0.6435 (0.6435)  loss_giou: 1.5933 (1.5933)  loss_fgl: 0.6331 (0.6331)  loss_mal_aux_0: 0.5557 (0.5557)  loss_bbox_aux_0: 0.6431 (0.6431)  loss_giou_aux_0: 1.5967 (1.5967)  loss_fgl_aux_0: 0.6303 (0.6303)  loss_ddf_aux_0: 0.0007 (0.0007)  loss_mal_aux_1: 0.5522 (0.5522)  loss_bbox_aux_1: 0.6434 (0.6434)  loss_giou_aux_1: 1.5951 (1.5951)  loss_fgl_aux_1: 0.6319 (0.6319)  loss_ddf_aux_1: 0.0000 (0.0000)  loss_mal_pre: 0.5557 (0.5557)  loss_bbox_pre: 0.6426 (0.6426)  loss_giou_pre: 1.5955 (1.5955)  loss_mal_enc_0: 0.5649 (0.5649)  loss_bbox_enc_0: 0.6542 (0.6542)  loss_giou_enc_0: 1.6278 (1.6278)  loss_mal_dn_0: 0.6157 (0.6157)  loss_bbox_dn_0: 0.4849 (0.4849)  loss_giou_dn_0: 1.3705 (1.3705)  loss_fgl_dn_0: 0.7914 (0.7914)  loss_ddf_dn_0: 0.0010 (0.0010)  loss_mal_dn_1: 0.6143 (0.6143)  loss_bbox_dn_1: 0.4849 (0.4849)  loss_giou_dn_1: 1.3700 (1.3700)  loss_fgl_dn_1: 0.7909 (0.7909)  loss_ddf_dn_1: 0.0001 (0.0001)  loss_mal_dn_2: 0.6221 (0.6221)  loss_bbox_dn_2: 0.4851 (0.4851)  loss_giou_dn_2: 1.3696 (1.3696)  loss_fgl_dn_2: 0.7911 (0.7911)  loss_mal_dn_pre: 0.6177 (0.6177)  loss_bbox_dn_pre: 0.4871 (0.4871)  loss_giou_dn_pre: 1.3679 (1.3679)  time: 2.2117  data: 1.5471  max mem: 10201\n"
     ]
    },
    {
     "name": "stderr",
     "output_type": "stream",
     "text": [
      "\u001b[32m2025-03-10 16:19:04.295\u001b[0m | \u001b[1mINFO    \u001b[0m | \u001b[36mdeimkit.trainer\u001b[0m:\u001b[36mevaluate\u001b[0m:\u001b[36m331\u001b[0m - \u001b[1mEvaluating model...\u001b[0m\n"
     ]
    },
    {
     "name": "stdout",
     "output_type": "stream",
     "text": [
      "Epoch: [14]  [14/15]  eta: 0:00:00  lr: 0.000200  loss: 29.4806 (29.5603)  loss_mal: 0.5586 (0.5674)  loss_bbox: 0.7864 (0.8066)  loss_giou: 1.6312 (1.6696)  loss_fgl: 0.6112 (0.5940)  loss_mal_aux_0: 0.5654 (0.5737)  loss_bbox_aux_0: 0.7764 (0.8035)  loss_giou_aux_0: 1.6368 (1.6748)  loss_fgl_aux_0: 0.6086 (0.5912)  loss_ddf_aux_0: 0.0006 (0.0006)  loss_mal_aux_1: 0.5596 (0.5673)  loss_bbox_aux_1: 0.7821 (0.8052)  loss_giou_aux_1: 1.6336 (1.6719)  loss_fgl_aux_1: 0.6101 (0.5928)  loss_ddf_aux_1: 0.0000 (0.0000)  loss_mal_pre: 0.5640 (0.5723)  loss_bbox_pre: 0.7709 (0.8021)  loss_giou_pre: 1.6393 (1.6763)  loss_mal_enc_0: 0.5767 (0.5884)  loss_bbox_enc_0: 0.7607 (0.8076)  loss_giou_enc_0: 1.6593 (1.7061)  loss_mal_dn_0: 0.6226 (0.6206)  loss_bbox_dn_0: 0.5119 (0.5365)  loss_giou_dn_0: 1.3664 (1.3665)  loss_fgl_dn_0: 0.7934 (0.7957)  loss_ddf_dn_0: 0.0010 (0.0010)  loss_mal_dn_1: 0.6226 (0.6222)  loss_bbox_dn_1: 0.5124 (0.5375)  loss_giou_dn_1: 1.3656 (1.3657)  loss_fgl_dn_1: 0.7932 (0.7957)  loss_ddf_dn_1: 0.0002 (0.0002)  loss_mal_dn_2: 0.6230 (0.6237)  loss_bbox_dn_2: 0.5131 (0.5386)  loss_giou_dn_2: 1.3652 (1.3650)  loss_fgl_dn_2: 0.7936 (0.7963)  loss_mal_dn_pre: 0.6221 (0.6207)  loss_bbox_dn_pre: 0.5130 (0.5371)  loss_giou_dn_pre: 1.3662 (1.3659)  time: 0.5685  data: 0.1322  max mem: 10201\n",
      "Epoch: [14] Total time: 0:00:08 (0.5725 s / it)\n",
      "Averaged stats: lr: 0.000200  loss: 29.4806 (29.5603)  loss_mal: 0.5586 (0.5674)  loss_bbox: 0.7864 (0.8066)  loss_giou: 1.6312 (1.6696)  loss_fgl: 0.6112 (0.5940)  loss_mal_aux_0: 0.5654 (0.5737)  loss_bbox_aux_0: 0.7764 (0.8035)  loss_giou_aux_0: 1.6368 (1.6748)  loss_fgl_aux_0: 0.6086 (0.5912)  loss_ddf_aux_0: 0.0006 (0.0006)  loss_mal_aux_1: 0.5596 (0.5673)  loss_bbox_aux_1: 0.7821 (0.8052)  loss_giou_aux_1: 1.6336 (1.6719)  loss_fgl_aux_1: 0.6101 (0.5928)  loss_ddf_aux_1: 0.0000 (0.0000)  loss_mal_pre: 0.5640 (0.5723)  loss_bbox_pre: 0.7709 (0.8021)  loss_giou_pre: 1.6393 (1.6763)  loss_mal_enc_0: 0.5767 (0.5884)  loss_bbox_enc_0: 0.7607 (0.8076)  loss_giou_enc_0: 1.6593 (1.7061)  loss_mal_dn_0: 0.6226 (0.6206)  loss_bbox_dn_0: 0.5119 (0.5365)  loss_giou_dn_0: 1.3664 (1.3665)  loss_fgl_dn_0: 0.7934 (0.7957)  loss_ddf_dn_0: 0.0010 (0.0010)  loss_mal_dn_1: 0.6226 (0.6222)  loss_bbox_dn_1: 0.5124 (0.5375)  loss_giou_dn_1: 1.3656 (1.3657)  loss_fgl_dn_1: 0.7932 (0.7957)  loss_ddf_dn_1: 0.0002 (0.0002)  loss_mal_dn_2: 0.6230 (0.6237)  loss_bbox_dn_2: 0.5131 (0.5386)  loss_giou_dn_2: 1.3652 (1.3650)  loss_fgl_dn_2: 0.7936 (0.7963)  loss_mal_dn_pre: 0.6221 (0.6207)  loss_bbox_dn_pre: 0.5130 (0.5371)  loss_giou_dn_pre: 1.3662 (1.3659)\n",
      "Test:  [0/5]  eta: 0:00:03    time: 0.7553  data: 0.6455  max mem: 10201\n"
     ]
    },
    {
     "name": "stderr",
     "output_type": "stream",
     "text": [
      "\u001b[32m2025-03-10 16:19:05.580\u001b[0m | \u001b[1mINFO    \u001b[0m | \u001b[36mdeimkit.trainer\u001b[0m:\u001b[36mtrain\u001b[0m:\u001b[36m312\u001b[0m - \u001b[1mEpoch 14 - Train loss: 29.5603, Eval mAP: 0.0024\u001b[0m\n",
      "\u001b[32m2025-03-10 16:19:05.581\u001b[0m | \u001b[1mINFO    \u001b[0m | \u001b[36mdeimkit.trainer\u001b[0m:\u001b[36mtrain\u001b[0m:\u001b[36m315\u001b[0m - \u001b[1mBest stats: {'epoch': 7, 'coco_eval_bbox': 0.008603062853799793}\u001b[0m\n"
     ]
    },
    {
     "name": "stdout",
     "output_type": "stream",
     "text": [
      "Test:  [4/5]  eta: 0:00:00    time: 0.2395  data: 0.1407  max mem: 10201\n",
      "Test: Total time: 0:00:01 (0.2526 s / it)\n",
      "Averaged stats: \n",
      "Accumulating evaluation results...\n",
      "COCOeval_opt.accumulate() finished...\n",
      "DONE (t=0.01s).\n",
      "IoU metric: bbox\n",
      " Average Precision  (AP) @[ IoU=0.50:0.95 | area=   all | maxDets=100 ] = 0.002\n",
      " Average Precision  (AP) @[ IoU=0.50      | area=   all | maxDets=100 ] = 0.012\n",
      " Average Precision  (AP) @[ IoU=0.75      | area=   all | maxDets=100 ] = 0.000\n",
      " Average Precision  (AP) @[ IoU=0.50:0.95 | area= small | maxDets=100 ] = 0.000\n",
      " Average Precision  (AP) @[ IoU=0.50:0.95 | area=medium | maxDets=100 ] = 0.001\n",
      " Average Precision  (AP) @[ IoU=0.50:0.95 | area= large | maxDets=100 ] = 0.005\n",
      " Average Recall     (AR) @[ IoU=0.50:0.95 | area=   all | maxDets=  1 ] = 0.002\n",
      " Average Recall     (AR) @[ IoU=0.50:0.95 | area=   all | maxDets= 10 ] = 0.013\n",
      " Average Recall     (AR) @[ IoU=0.50:0.95 | area=   all | maxDets=100 ] = 0.043\n",
      " Average Recall     (AR) @[ IoU=0.50:0.95 | area= small | maxDets=100 ] = 0.000\n",
      " Average Recall     (AR) @[ IoU=0.50:0.95 | area=medium | maxDets=100 ] = 0.033\n",
      " Average Recall     (AR) @[ IoU=0.50:0.95 | area= large | maxDets=100 ] = 0.045\n",
      " Average Recall     (AR) @[ IoU=0.50      | area=   all | maxDets=100 ] = 0.149\n",
      " Average Recall     (AR) @[ IoU=0.75      | area=   all | maxDets=100 ] = 0.012\n",
      "Epoch: [15]  [ 0/15]  eta: 0:00:33  lr: 0.000200  loss: 29.1714 (29.1714)  loss_mal: 0.4709 (0.4709)  loss_bbox: 0.9129 (0.9129)  loss_giou: 1.6840 (1.6840)  loss_fgl: 0.5275 (0.5275)  loss_mal_aux_0: 0.4797 (0.4797)  loss_bbox_aux_0: 0.9007 (0.9007)  loss_giou_aux_0: 1.6881 (1.6881)  loss_fgl_aux_0: 0.5265 (0.5265)  loss_ddf_aux_0: 0.0005 (0.0005)  loss_mal_aux_1: 0.4761 (0.4761)  loss_bbox_aux_1: 0.9075 (0.9075)  loss_giou_aux_1: 1.6858 (1.6858)  loss_fgl_aux_1: 0.5272 (0.5272)  loss_ddf_aux_1: 0.0000 (0.0000)  loss_mal_pre: 0.4795 (0.4795)  loss_bbox_pre: 0.8943 (0.8943)  loss_giou_pre: 1.6898 (1.6898)  loss_mal_enc_0: 0.4932 (0.4932)  loss_bbox_enc_0: 0.8796 (0.8796)  loss_giou_enc_0: 1.7030 (1.7030)  loss_mal_dn_0: 0.6265 (0.6265)  loss_bbox_dn_0: 0.4788 (0.4788)  loss_giou_dn_0: 1.3552 (1.3552)  loss_fgl_dn_0: 0.8012 (0.8012)  loss_ddf_dn_0: 0.0014 (0.0014)  loss_mal_dn_1: 0.6245 (0.6245)  loss_bbox_dn_1: 0.4800 (0.4800)  loss_giou_dn_1: 1.3549 (1.3549)  loss_fgl_dn_1: 0.8010 (0.8010)  loss_ddf_dn_1: 0.0002 (0.0002)  loss_mal_dn_2: 0.6230 (0.6230)  loss_bbox_dn_2: 0.4815 (0.4815)  loss_giou_dn_2: 1.3549 (1.3549)  loss_fgl_dn_2: 0.8013 (0.8013)  loss_mal_dn_pre: 0.6260 (0.6260)  loss_bbox_dn_pre: 0.4783 (0.4783)  loss_giou_dn_pre: 1.3558 (1.3558)  time: 2.2065  data: 1.6048  max mem: 10201\n"
     ]
    },
    {
     "name": "stderr",
     "output_type": "stream",
     "text": [
      "\u001b[32m2025-03-10 16:19:14.841\u001b[0m | \u001b[1mINFO    \u001b[0m | \u001b[36mdeimkit.trainer\u001b[0m:\u001b[36m_save_checkpoint\u001b[0m:\u001b[36m363\u001b[0m - \u001b[1mSaving checkpoint to outputs/deim_hgnetv2_s_coco_ema_tune/checkpoint0015.pth\u001b[0m\n"
     ]
    },
    {
     "name": "stdout",
     "output_type": "stream",
     "text": [
      "Epoch: [15]  [14/15]  eta: 0:00:00  lr: 0.000200  loss: 29.0765 (29.0533)  loss_mal: 0.5503 (0.5628)  loss_bbox: 0.8004 (0.8091)  loss_giou: 1.6032 (1.5924)  loss_fgl: 0.6113 (0.6143)  loss_mal_aux_0: 0.5625 (0.5667)  loss_bbox_aux_0: 0.7928 (0.8019)  loss_giou_aux_0: 1.6057 (1.5960)  loss_fgl_aux_0: 0.6100 (0.6130)  loss_ddf_aux_0: 0.0005 (0.0005)  loss_mal_aux_1: 0.5498 (0.5592)  loss_bbox_aux_1: 0.7972 (0.8061)  loss_giou_aux_1: 1.6042 (1.5940)  loss_fgl_aux_1: 0.6108 (0.6137)  loss_ddf_aux_1: 0.0000 (0.0000)  loss_mal_pre: 0.5640 (0.5664)  loss_bbox_pre: 0.7886 (0.7974)  loss_giou_pre: 1.6074 (1.5981)  loss_mal_enc_0: 0.5796 (0.5796)  loss_bbox_enc_0: 0.7843 (0.7903)  loss_giou_enc_0: 1.6167 (1.6100)  loss_mal_dn_0: 0.6206 (0.6215)  loss_bbox_dn_0: 0.4999 (0.5108)  loss_giou_dn_0: 1.3647 (1.3678)  loss_fgl_dn_0: 0.7963 (0.7936)  loss_ddf_dn_0: 0.0011 (0.0011)  loss_mal_dn_1: 0.6201 (0.6199)  loss_bbox_dn_1: 0.5002 (0.5118)  loss_giou_dn_1: 1.3639 (1.3672)  loss_fgl_dn_1: 0.7965 (0.7938)  loss_ddf_dn_1: 0.0001 (0.0001)  loss_mal_dn_2: 0.6221 (0.6208)  loss_bbox_dn_2: 0.5006 (0.5127)  loss_giou_dn_2: 1.3637 (1.3670)  loss_fgl_dn_2: 0.7967 (0.7942)  loss_mal_dn_pre: 0.6206 (0.6210)  loss_bbox_dn_pre: 0.5004 (0.5108)  loss_giou_dn_pre: 1.3642 (1.3678)  time: 0.6113  data: 0.1305  max mem: 10201\n",
      "Epoch: [15] Total time: 0:00:09 (0.6161 s / it)\n",
      "Averaged stats: lr: 0.000200  loss: 29.0765 (29.0533)  loss_mal: 0.5503 (0.5628)  loss_bbox: 0.8004 (0.8091)  loss_giou: 1.6032 (1.5924)  loss_fgl: 0.6113 (0.6143)  loss_mal_aux_0: 0.5625 (0.5667)  loss_bbox_aux_0: 0.7928 (0.8019)  loss_giou_aux_0: 1.6057 (1.5960)  loss_fgl_aux_0: 0.6100 (0.6130)  loss_ddf_aux_0: 0.0005 (0.0005)  loss_mal_aux_1: 0.5498 (0.5592)  loss_bbox_aux_1: 0.7972 (0.8061)  loss_giou_aux_1: 1.6042 (1.5940)  loss_fgl_aux_1: 0.6108 (0.6137)  loss_ddf_aux_1: 0.0000 (0.0000)  loss_mal_pre: 0.5640 (0.5664)  loss_bbox_pre: 0.7886 (0.7974)  loss_giou_pre: 1.6074 (1.5981)  loss_mal_enc_0: 0.5796 (0.5796)  loss_bbox_enc_0: 0.7843 (0.7903)  loss_giou_enc_0: 1.6167 (1.6100)  loss_mal_dn_0: 0.6206 (0.6215)  loss_bbox_dn_0: 0.4999 (0.5108)  loss_giou_dn_0: 1.3647 (1.3678)  loss_fgl_dn_0: 0.7963 (0.7936)  loss_ddf_dn_0: 0.0011 (0.0011)  loss_mal_dn_1: 0.6201 (0.6199)  loss_bbox_dn_1: 0.5002 (0.5118)  loss_giou_dn_1: 1.3639 (1.3672)  loss_fgl_dn_1: 0.7965 (0.7938)  loss_ddf_dn_1: 0.0001 (0.0001)  loss_mal_dn_2: 0.6221 (0.6208)  loss_bbox_dn_2: 0.5006 (0.5127)  loss_giou_dn_2: 1.3637 (1.3670)  loss_fgl_dn_2: 0.7967 (0.7942)  loss_mal_dn_pre: 0.6206 (0.6210)  loss_bbox_dn_pre: 0.5004 (0.5108)  loss_giou_dn_pre: 1.3642 (1.3678)\n"
     ]
    },
    {
     "name": "stderr",
     "output_type": "stream",
     "text": [
      "\u001b[32m2025-03-10 16:19:15.096\u001b[0m | \u001b[1mINFO    \u001b[0m | \u001b[36mdeimkit.trainer\u001b[0m:\u001b[36m_save_checkpoint\u001b[0m:\u001b[36m380\u001b[0m - \u001b[1mCheckpoint saved to outputs/deim_hgnetv2_s_coco_ema_tune/checkpoint0015.pth\u001b[0m\n",
      "\u001b[32m2025-03-10 16:19:15.097\u001b[0m | \u001b[1mINFO    \u001b[0m | \u001b[36mdeimkit.trainer\u001b[0m:\u001b[36mevaluate\u001b[0m:\u001b[36m331\u001b[0m - \u001b[1mEvaluating model...\u001b[0m\n"
     ]
    },
    {
     "name": "stdout",
     "output_type": "stream",
     "text": [
      "Test:  [0/5]  eta: 0:00:03    time: 0.7556  data: 0.6392  max mem: 10201\n"
     ]
    },
    {
     "name": "stderr",
     "output_type": "stream",
     "text": [
      "\u001b[32m2025-03-10 16:19:16.398\u001b[0m | \u001b[1mINFO    \u001b[0m | \u001b[36mdeimkit.trainer\u001b[0m:\u001b[36mtrain\u001b[0m:\u001b[36m312\u001b[0m - \u001b[1mEpoch 15 - Train loss: 29.0533, Eval mAP: 0.0061\u001b[0m\n",
      "\u001b[32m2025-03-10 16:19:16.399\u001b[0m | \u001b[1mINFO    \u001b[0m | \u001b[36mdeimkit.trainer\u001b[0m:\u001b[36mtrain\u001b[0m:\u001b[36m315\u001b[0m - \u001b[1mBest stats: {'epoch': 7, 'coco_eval_bbox': 0.008603062853799793}\u001b[0m\n"
     ]
    },
    {
     "name": "stdout",
     "output_type": "stream",
     "text": [
      "Test:  [4/5]  eta: 0:00:00    time: 0.2439  data: 0.1425  max mem: 10201\n",
      "Test: Total time: 0:00:01 (0.2558 s / it)\n",
      "Averaged stats: \n",
      "Accumulating evaluation results...\n",
      "COCOeval_opt.accumulate() finished...\n",
      "DONE (t=0.01s).\n",
      "IoU metric: bbox\n",
      " Average Precision  (AP) @[ IoU=0.50:0.95 | area=   all | maxDets=100 ] = 0.006\n",
      " Average Precision  (AP) @[ IoU=0.50      | area=   all | maxDets=100 ] = 0.029\n",
      " Average Precision  (AP) @[ IoU=0.75      | area=   all | maxDets=100 ] = 0.001\n",
      " Average Precision  (AP) @[ IoU=0.50:0.95 | area= small | maxDets=100 ] = 0.000\n",
      " Average Precision  (AP) @[ IoU=0.50:0.95 | area=medium | maxDets=100 ] = 0.043\n",
      " Average Precision  (AP) @[ IoU=0.50:0.95 | area= large | maxDets=100 ] = 0.012\n",
      " Average Recall     (AR) @[ IoU=0.50:0.95 | area=   all | maxDets=  1 ] = 0.013\n",
      " Average Recall     (AR) @[ IoU=0.50:0.95 | area=   all | maxDets= 10 ] = 0.038\n",
      " Average Recall     (AR) @[ IoU=0.50:0.95 | area=   all | maxDets=100 ] = 0.071\n",
      " Average Recall     (AR) @[ IoU=0.50:0.95 | area= small | maxDets=100 ] = 0.000\n",
      " Average Recall     (AR) @[ IoU=0.50:0.95 | area=medium | maxDets=100 ] = 0.196\n",
      " Average Recall     (AR) @[ IoU=0.50:0.95 | area= large | maxDets=100 ] = 0.071\n",
      " Average Recall     (AR) @[ IoU=0.50      | area=   all | maxDets=100 ] = 0.233\n",
      " Average Recall     (AR) @[ IoU=0.75      | area=   all | maxDets=100 ] = 0.030\n",
      "Epoch: [16]  [ 0/15]  eta: 0:00:31  lr: 0.000200  loss: 28.6647 (28.6647)  loss_mal: 0.5498 (0.5498)  loss_bbox: 0.7769 (0.7769)  loss_giou: 1.5830 (1.5830)  loss_fgl: 0.6016 (0.6016)  loss_mal_aux_0: 0.5513 (0.5513)  loss_bbox_aux_0: 0.7738 (0.7738)  loss_giou_aux_0: 1.5846 (1.5846)  loss_fgl_aux_0: 0.6004 (0.6004)  loss_ddf_aux_0: 0.0005 (0.0005)  loss_mal_aux_1: 0.5474 (0.5474)  loss_bbox_aux_1: 0.7756 (0.7756)  loss_giou_aux_1: 1.5837 (1.5837)  loss_fgl_aux_1: 0.6011 (0.6011)  loss_ddf_aux_1: 0.0000 (0.0000)  loss_mal_pre: 0.5508 (0.5508)  loss_bbox_pre: 0.7708 (0.7708)  loss_giou_pre: 1.5862 (1.5862)  loss_mal_enc_0: 0.5522 (0.5522)  loss_bbox_enc_0: 0.7711 (0.7711)  loss_giou_enc_0: 1.5907 (1.5907)  loss_mal_dn_0: 0.6118 (0.6118)  loss_bbox_dn_0: 0.5034 (0.5034)  loss_giou_dn_0: 1.3822 (1.3822)  loss_fgl_dn_0: 0.7732 (0.7732)  loss_ddf_dn_0: 0.0011 (0.0011)  loss_mal_dn_1: 0.6108 (0.6108)  loss_bbox_dn_1: 0.5037 (0.5037)  loss_giou_dn_1: 1.3820 (1.3820)  loss_fgl_dn_1: 0.7728 (0.7728)  loss_ddf_dn_1: 0.0002 (0.0002)  loss_mal_dn_2: 0.6147 (0.6147)  loss_bbox_dn_2: 0.5041 (0.5041)  loss_giou_dn_2: 1.3818 (1.3818)  loss_fgl_dn_2: 0.7730 (0.7730)  loss_mal_dn_pre: 0.6123 (0.6123)  loss_bbox_dn_pre: 0.5047 (0.5047)  loss_giou_dn_pre: 1.3813 (1.3813)  time: 2.0770  data: 1.5022  max mem: 10201\n"
     ]
    },
    {
     "name": "stderr",
     "output_type": "stream",
     "text": [
      "\u001b[32m2025-03-10 16:19:25.199\u001b[0m | \u001b[1mINFO    \u001b[0m | \u001b[36mdeimkit.trainer\u001b[0m:\u001b[36mevaluate\u001b[0m:\u001b[36m331\u001b[0m - \u001b[1mEvaluating model...\u001b[0m\n"
     ]
    },
    {
     "name": "stdout",
     "output_type": "stream",
     "text": [
      "Epoch: [16]  [14/15]  eta: 0:00:00  lr: 0.000200  loss: 28.4618 (28.4357)  loss_mal: 0.6299 (0.6127)  loss_bbox: 0.6825 (0.6951)  loss_giou: 1.4958 (1.5084)  loss_fgl: 0.6852 (0.6694)  loss_mal_aux_0: 0.6313 (0.6152)  loss_bbox_aux_0: 0.6798 (0.6934)  loss_giou_aux_0: 1.4981 (1.5102)  loss_fgl_aux_0: 0.6833 (0.6685)  loss_ddf_aux_0: 0.0004 (0.0004)  loss_mal_aux_1: 0.6304 (0.6153)  loss_bbox_aux_1: 0.6815 (0.6945)  loss_giou_aux_1: 1.4969 (1.5094)  loss_fgl_aux_1: 0.6844 (0.6689)  loss_ddf_aux_1: 0.0000 (0.0000)  loss_mal_pre: 0.6304 (0.6144)  loss_bbox_pre: 0.6776 (0.6916)  loss_giou_pre: 1.5002 (1.5113)  loss_mal_enc_0: 0.6250 (0.6146)  loss_bbox_enc_0: 0.6769 (0.6970)  loss_giou_enc_0: 1.5078 (1.5204)  loss_mal_dn_0: 0.6143 (0.6172)  loss_bbox_dn_0: 0.4966 (0.5007)  loss_giou_dn_0: 1.3786 (1.3735)  loss_fgl_dn_0: 0.7847 (0.7866)  loss_ddf_dn_0: 0.0009 (0.0009)  loss_mal_dn_1: 0.6128 (0.6163)  loss_bbox_dn_1: 0.4966 (0.5007)  loss_giou_dn_1: 1.3786 (1.3733)  loss_fgl_dn_1: 0.7849 (0.7864)  loss_ddf_dn_1: 0.0001 (0.0001)  loss_mal_dn_2: 0.6147 (0.6167)  loss_bbox_dn_2: 0.4970 (0.5007)  loss_giou_dn_2: 1.3784 (1.3730)  loss_fgl_dn_2: 0.7853 (0.7867)  loss_mal_dn_pre: 0.6143 (0.6174)  loss_bbox_dn_pre: 0.4982 (0.5021)  loss_giou_dn_pre: 1.3776 (1.3727)  time: 0.5809  data: 0.1174  max mem: 10201\n",
      "Epoch: [16] Total time: 0:00:08 (0.5852 s / it)\n",
      "Averaged stats: lr: 0.000200  loss: 28.4618 (28.4357)  loss_mal: 0.6299 (0.6127)  loss_bbox: 0.6825 (0.6951)  loss_giou: 1.4958 (1.5084)  loss_fgl: 0.6852 (0.6694)  loss_mal_aux_0: 0.6313 (0.6152)  loss_bbox_aux_0: 0.6798 (0.6934)  loss_giou_aux_0: 1.4981 (1.5102)  loss_fgl_aux_0: 0.6833 (0.6685)  loss_ddf_aux_0: 0.0004 (0.0004)  loss_mal_aux_1: 0.6304 (0.6153)  loss_bbox_aux_1: 0.6815 (0.6945)  loss_giou_aux_1: 1.4969 (1.5094)  loss_fgl_aux_1: 0.6844 (0.6689)  loss_ddf_aux_1: 0.0000 (0.0000)  loss_mal_pre: 0.6304 (0.6144)  loss_bbox_pre: 0.6776 (0.6916)  loss_giou_pre: 1.5002 (1.5113)  loss_mal_enc_0: 0.6250 (0.6146)  loss_bbox_enc_0: 0.6769 (0.6970)  loss_giou_enc_0: 1.5078 (1.5204)  loss_mal_dn_0: 0.6143 (0.6172)  loss_bbox_dn_0: 0.4966 (0.5007)  loss_giou_dn_0: 1.3786 (1.3735)  loss_fgl_dn_0: 0.7847 (0.7866)  loss_ddf_dn_0: 0.0009 (0.0009)  loss_mal_dn_1: 0.6128 (0.6163)  loss_bbox_dn_1: 0.4966 (0.5007)  loss_giou_dn_1: 1.3786 (1.3733)  loss_fgl_dn_1: 0.7849 (0.7864)  loss_ddf_dn_1: 0.0001 (0.0001)  loss_mal_dn_2: 0.6147 (0.6167)  loss_bbox_dn_2: 0.4970 (0.5007)  loss_giou_dn_2: 1.3784 (1.3730)  loss_fgl_dn_2: 0.7853 (0.7867)  loss_mal_dn_pre: 0.6143 (0.6174)  loss_bbox_dn_pre: 0.4982 (0.5021)  loss_giou_dn_pre: 1.3776 (1.3727)\n",
      "Test:  [0/5]  eta: 0:00:03    time: 0.7641  data: 0.6403  max mem: 10201\n"
     ]
    },
    {
     "name": "stderr",
     "output_type": "stream",
     "text": [
      "\u001b[32m2025-03-10 16:19:26.509\u001b[0m | \u001b[1mINFO    \u001b[0m | \u001b[36mdeimkit.trainer\u001b[0m:\u001b[36mtrain\u001b[0m:\u001b[36m312\u001b[0m - \u001b[1mEpoch 16 - Train loss: 28.4357, Eval mAP: 0.0044\u001b[0m\n",
      "\u001b[32m2025-03-10 16:19:26.510\u001b[0m | \u001b[1mINFO    \u001b[0m | \u001b[36mdeimkit.trainer\u001b[0m:\u001b[36mtrain\u001b[0m:\u001b[36m315\u001b[0m - \u001b[1mBest stats: {'epoch': 7, 'coco_eval_bbox': 0.008603062853799793}\u001b[0m\n"
     ]
    },
    {
     "name": "stdout",
     "output_type": "stream",
     "text": [
      "Test:  [4/5]  eta: 0:00:00    time: 0.2450  data: 0.1415  max mem: 10201\n",
      "Test: Total time: 0:00:01 (0.2572 s / it)\n",
      "Averaged stats: \n",
      "Accumulating evaluation results...\n",
      "COCOeval_opt.accumulate() finished...\n",
      "DONE (t=0.01s).\n",
      "IoU metric: bbox\n",
      " Average Precision  (AP) @[ IoU=0.50:0.95 | area=   all | maxDets=100 ] = 0.004\n",
      " Average Precision  (AP) @[ IoU=0.50      | area=   all | maxDets=100 ] = 0.030\n",
      " Average Precision  (AP) @[ IoU=0.75      | area=   all | maxDets=100 ] = 0.000\n",
      " Average Precision  (AP) @[ IoU=0.50:0.95 | area= small | maxDets=100 ] = 0.000\n",
      " Average Precision  (AP) @[ IoU=0.50:0.95 | area=medium | maxDets=100 ] = 0.034\n",
      " Average Precision  (AP) @[ IoU=0.50:0.95 | area= large | maxDets=100 ] = 0.009\n",
      " Average Recall     (AR) @[ IoU=0.50:0.95 | area=   all | maxDets=  1 ] = 0.010\n",
      " Average Recall     (AR) @[ IoU=0.50:0.95 | area=   all | maxDets= 10 ] = 0.019\n",
      " Average Recall     (AR) @[ IoU=0.50:0.95 | area=   all | maxDets=100 ] = 0.044\n",
      " Average Recall     (AR) @[ IoU=0.50:0.95 | area= small | maxDets=100 ] = 0.000\n",
      " Average Recall     (AR) @[ IoU=0.50:0.95 | area=medium | maxDets=100 ] = 0.056\n",
      " Average Recall     (AR) @[ IoU=0.50:0.95 | area= large | maxDets=100 ] = 0.046\n",
      " Average Recall     (AR) @[ IoU=0.50      | area=   all | maxDets=100 ] = 0.166\n",
      " Average Recall     (AR) @[ IoU=0.75      | area=   all | maxDets=100 ] = 0.012\n",
      "Epoch: [17]  [ 0/15]  eta: 0:00:34  lr: 0.000200  loss: 28.4158 (28.4158)  loss_mal: 0.5767 (0.5767)  loss_bbox: 0.7128 (0.7128)  loss_giou: 1.5221 (1.5221)  loss_fgl: 0.6556 (0.6556)  loss_mal_aux_0: 0.5854 (0.5854)  loss_bbox_aux_0: 0.7119 (0.7119)  loss_giou_aux_0: 1.5233 (1.5233)  loss_fgl_aux_0: 0.6551 (0.6551)  loss_ddf_aux_0: 0.0004 (0.0004)  loss_mal_aux_1: 0.5835 (0.5835)  loss_bbox_aux_1: 0.7125 (0.7125)  loss_giou_aux_1: 1.5229 (1.5229)  loss_fgl_aux_1: 0.6552 (0.6552)  loss_ddf_aux_1: -0.0000 (-0.0000)  loss_mal_pre: 0.5854 (0.5854)  loss_bbox_pre: 0.7104 (0.7104)  loss_giou_pre: 1.5240 (1.5240)  loss_mal_enc_0: 0.5796 (0.5796)  loss_bbox_enc_0: 0.7099 (0.7099)  loss_giou_enc_0: 1.5215 (1.5215)  loss_mal_dn_0: 0.6250 (0.6250)  loss_bbox_dn_0: 0.5011 (0.5011)  loss_giou_dn_0: 1.3695 (1.3695)  loss_fgl_dn_0: 0.7945 (0.7945)  loss_ddf_dn_0: 0.0009 (0.0009)  loss_mal_dn_1: 0.6260 (0.6260)  loss_bbox_dn_1: 0.5010 (0.5010)  loss_giou_dn_1: 1.3693 (1.3693)  loss_fgl_dn_1: 0.7942 (0.7942)  loss_ddf_dn_1: 0.0001 (0.0001)  loss_mal_dn_2: 0.6250 (0.6250)  loss_bbox_dn_2: 0.5010 (0.5010)  loss_giou_dn_2: 1.3693 (1.3693)  loss_fgl_dn_2: 0.7942 (0.7942)  loss_mal_dn_pre: 0.6255 (0.6255)  loss_bbox_dn_pre: 0.5028 (0.5028)  loss_giou_dn_pre: 1.3682 (1.3682)  time: 2.2773  data: 1.6517  max mem: 10201\n"
     ]
    },
    {
     "name": "stderr",
     "output_type": "stream",
     "text": [
      "\u001b[32m2025-03-10 16:19:35.315\u001b[0m | \u001b[1mINFO    \u001b[0m | \u001b[36mdeimkit.trainer\u001b[0m:\u001b[36mevaluate\u001b[0m:\u001b[36m331\u001b[0m - \u001b[1mEvaluating model...\u001b[0m\n"
     ]
    },
    {
     "name": "stdout",
     "output_type": "stream",
     "text": [
      "Epoch: [17]  [14/15]  eta: 0:00:00  lr: 0.000200  loss: 28.3695 (28.2238)  loss_mal: 0.6230 (0.6368)  loss_bbox: 0.6237 (0.6428)  loss_giou: 1.4651 (1.4695)  loss_fgl: 0.6972 (0.7022)  loss_mal_aux_0: 0.6328 (0.6450)  loss_bbox_aux_0: 0.6252 (0.6428)  loss_giou_aux_0: 1.4660 (1.4705)  loss_fgl_aux_0: 0.6965 (0.7015)  loss_ddf_aux_0: 0.0004 (0.0004)  loss_mal_aux_1: 0.6279 (0.6421)  loss_bbox_aux_1: 0.6245 (0.6429)  loss_giou_aux_1: 1.4657 (1.4702)  loss_fgl_aux_1: 0.6967 (0.7018)  loss_ddf_aux_1: 0.0000 (0.0000)  loss_mal_pre: 0.6328 (0.6442)  loss_bbox_pre: 0.6254 (0.6422)  loss_giou_pre: 1.4664 (1.4711)  loss_mal_enc_0: 0.6406 (0.6511)  loss_bbox_enc_0: 0.6310 (0.6478)  loss_giou_enc_0: 1.4709 (1.4731)  loss_mal_dn_0: 0.6206 (0.6200)  loss_bbox_dn_0: 0.5011 (0.5015)  loss_giou_dn_0: 1.3673 (1.3652)  loss_fgl_dn_0: 0.7942 (0.7939)  loss_ddf_dn_0: 0.0008 (0.0008)  loss_mal_dn_1: 0.6187 (0.6185)  loss_bbox_dn_1: 0.5010 (0.5014)  loss_giou_dn_1: 1.3669 (1.3649)  loss_fgl_dn_1: 0.7942 (0.7938)  loss_ddf_dn_1: 0.0001 (0.0001)  loss_mal_dn_2: 0.6172 (0.6180)  loss_bbox_dn_2: 0.5010 (0.5013)  loss_giou_dn_2: 1.3669 (1.3648)  loss_fgl_dn_2: 0.7942 (0.7938)  loss_mal_dn_pre: 0.6206 (0.6204)  loss_bbox_dn_pre: 0.5028 (0.5032)  loss_giou_dn_pre: 1.3665 (1.3642)  time: 0.5815  data: 0.1282  max mem: 10201\n",
      "Epoch: [17] Total time: 0:00:08 (0.5852 s / it)\n",
      "Averaged stats: lr: 0.000200  loss: 28.3695 (28.2238)  loss_mal: 0.6230 (0.6368)  loss_bbox: 0.6237 (0.6428)  loss_giou: 1.4651 (1.4695)  loss_fgl: 0.6972 (0.7022)  loss_mal_aux_0: 0.6328 (0.6450)  loss_bbox_aux_0: 0.6252 (0.6428)  loss_giou_aux_0: 1.4660 (1.4705)  loss_fgl_aux_0: 0.6965 (0.7015)  loss_ddf_aux_0: 0.0004 (0.0004)  loss_mal_aux_1: 0.6279 (0.6421)  loss_bbox_aux_1: 0.6245 (0.6429)  loss_giou_aux_1: 1.4657 (1.4702)  loss_fgl_aux_1: 0.6967 (0.7018)  loss_ddf_aux_1: 0.0000 (0.0000)  loss_mal_pre: 0.6328 (0.6442)  loss_bbox_pre: 0.6254 (0.6422)  loss_giou_pre: 1.4664 (1.4711)  loss_mal_enc_0: 0.6406 (0.6511)  loss_bbox_enc_0: 0.6310 (0.6478)  loss_giou_enc_0: 1.4709 (1.4731)  loss_mal_dn_0: 0.6206 (0.6200)  loss_bbox_dn_0: 0.5011 (0.5015)  loss_giou_dn_0: 1.3673 (1.3652)  loss_fgl_dn_0: 0.7942 (0.7939)  loss_ddf_dn_0: 0.0008 (0.0008)  loss_mal_dn_1: 0.6187 (0.6185)  loss_bbox_dn_1: 0.5010 (0.5014)  loss_giou_dn_1: 1.3669 (1.3649)  loss_fgl_dn_1: 0.7942 (0.7938)  loss_ddf_dn_1: 0.0001 (0.0001)  loss_mal_dn_2: 0.6172 (0.6180)  loss_bbox_dn_2: 0.5010 (0.5013)  loss_giou_dn_2: 1.3669 (1.3648)  loss_fgl_dn_2: 0.7942 (0.7938)  loss_mal_dn_pre: 0.6206 (0.6204)  loss_bbox_dn_pre: 0.5028 (0.5032)  loss_giou_dn_pre: 1.3665 (1.3642)\n",
      "Test:  [0/5]  eta: 0:00:04    time: 0.9043  data: 0.6307  max mem: 10201\n"
     ]
    },
    {
     "name": "stderr",
     "output_type": "stream",
     "text": [
      "\u001b[32m2025-03-10 16:19:36.777\u001b[0m | \u001b[1mINFO    \u001b[0m | \u001b[36mdeimkit.trainer\u001b[0m:\u001b[36mtrain\u001b[0m:\u001b[36m312\u001b[0m - \u001b[1mEpoch 17 - Train loss: 28.2238, Eval mAP: 0.0083\u001b[0m\n",
      "\u001b[32m2025-03-10 16:19:36.777\u001b[0m | \u001b[1mINFO    \u001b[0m | \u001b[36mdeimkit.trainer\u001b[0m:\u001b[36mtrain\u001b[0m:\u001b[36m315\u001b[0m - \u001b[1mBest stats: {'epoch': 7, 'coco_eval_bbox': 0.008603062853799793}\u001b[0m\n"
     ]
    },
    {
     "name": "stdout",
     "output_type": "stream",
     "text": [
      "Test:  [4/5]  eta: 0:00:00    time: 0.2737  data: 0.1403  max mem: 10201\n",
      "Test: Total time: 0:00:01 (0.2881 s / it)\n",
      "Averaged stats: \n",
      "Accumulating evaluation results...\n",
      "COCOeval_opt.accumulate() finished...\n",
      "DONE (t=0.01s).\n",
      "IoU metric: bbox\n",
      " Average Precision  (AP) @[ IoU=0.50:0.95 | area=   all | maxDets=100 ] = 0.008\n",
      " Average Precision  (AP) @[ IoU=0.50      | area=   all | maxDets=100 ] = 0.032\n",
      " Average Precision  (AP) @[ IoU=0.75      | area=   all | maxDets=100 ] = 0.001\n",
      " Average Precision  (AP) @[ IoU=0.50:0.95 | area= small | maxDets=100 ] = 0.000\n",
      " Average Precision  (AP) @[ IoU=0.50:0.95 | area=medium | maxDets=100 ] = 0.002\n",
      " Average Precision  (AP) @[ IoU=0.50:0.95 | area= large | maxDets=100 ] = 0.014\n",
      " Average Recall     (AR) @[ IoU=0.50:0.95 | area=   all | maxDets=  1 ] = 0.017\n",
      " Average Recall     (AR) @[ IoU=0.50:0.95 | area=   all | maxDets= 10 ] = 0.038\n",
      " Average Recall     (AR) @[ IoU=0.50:0.95 | area=   all | maxDets=100 ] = 0.072\n",
      " Average Recall     (AR) @[ IoU=0.50:0.95 | area= small | maxDets=100 ] = 0.000\n",
      " Average Recall     (AR) @[ IoU=0.50:0.95 | area=medium | maxDets=100 ] = 0.041\n",
      " Average Recall     (AR) @[ IoU=0.50:0.95 | area= large | maxDets=100 ] = 0.074\n",
      " Average Recall     (AR) @[ IoU=0.50      | area=   all | maxDets=100 ] = 0.237\n",
      " Average Recall     (AR) @[ IoU=0.75      | area=   all | maxDets=100 ] = 0.030\n",
      "Epoch: [18]  [ 0/15]  eta: 0:00:30  lr: 0.000200  loss: 28.3608 (28.3608)  loss_mal: 0.5737 (0.5737)  loss_bbox: 0.7083 (0.7083)  loss_giou: 1.5140 (1.5140)  loss_fgl: 0.6644 (0.6644)  loss_mal_aux_0: 0.5728 (0.5728)  loss_bbox_aux_0: 0.7077 (0.7077)  loss_giou_aux_0: 1.5144 (1.5144)  loss_fgl_aux_0: 0.6639 (0.6639)  loss_ddf_aux_0: 0.0005 (0.0005)  loss_mal_aux_1: 0.5762 (0.5762)  loss_bbox_aux_1: 0.7081 (0.7081)  loss_giou_aux_1: 1.5143 (1.5143)  loss_fgl_aux_1: 0.6642 (0.6642)  loss_ddf_aux_1: 0.0000 (0.0000)  loss_mal_pre: 0.5718 (0.5718)  loss_bbox_pre: 0.7069 (0.7069)  loss_giou_pre: 1.5150 (1.5150)  loss_mal_enc_0: 0.5801 (0.5801)  loss_bbox_enc_0: 0.7130 (0.7130)  loss_giou_enc_0: 1.5162 (1.5162)  loss_mal_dn_0: 0.6211 (0.6211)  loss_bbox_dn_0: 0.5104 (0.5104)  loss_giou_dn_0: 1.3642 (1.3642)  loss_fgl_dn_0: 0.7960 (0.7960)  loss_ddf_dn_0: 0.0008 (0.0008)  loss_mal_dn_1: 0.6216 (0.6216)  loss_bbox_dn_1: 0.5106 (0.5106)  loss_giou_dn_1: 1.3641 (1.3641)  loss_fgl_dn_1: 0.7962 (0.7962)  loss_ddf_dn_1: 0.0000 (0.0000)  loss_mal_dn_2: 0.6235 (0.6235)  loss_bbox_dn_2: 0.5106 (0.5106)  loss_giou_dn_2: 1.3640 (1.3640)  loss_fgl_dn_2: 0.7963 (0.7963)  loss_mal_dn_pre: 0.6216 (0.6216)  loss_bbox_dn_pre: 0.5114 (0.5114)  loss_giou_dn_pre: 1.3632 (1.3632)  time: 2.0185  data: 1.4263  max mem: 10201\n"
     ]
    },
    {
     "name": "stderr",
     "output_type": "stream",
     "text": [
      "\u001b[32m2025-03-10 16:19:45.505\u001b[0m | \u001b[1mINFO    \u001b[0m | \u001b[36mdeimkit.trainer\u001b[0m:\u001b[36mevaluate\u001b[0m:\u001b[36m331\u001b[0m - \u001b[1mEvaluating model...\u001b[0m\n"
     ]
    },
    {
     "name": "stdout",
     "output_type": "stream",
     "text": [
      "Epoch: [18]  [14/15]  eta: 0:00:00  lr: 0.000200  loss: 28.1186 (28.1292)  loss_mal: 0.6445 (0.6492)  loss_bbox: 0.6427 (0.6373)  loss_giou: 1.4462 (1.4436)  loss_fgl: 0.7221 (0.7161)  loss_mal_aux_0: 0.6460 (0.6531)  loss_bbox_aux_0: 0.6411 (0.6372)  loss_giou_aux_0: 1.4475 (1.4449)  loss_fgl_aux_0: 0.7211 (0.7153)  loss_ddf_aux_0: 0.0004 (0.0004)  loss_mal_aux_1: 0.6465 (0.6498)  loss_bbox_aux_1: 0.6417 (0.6373)  loss_giou_aux_1: 1.4471 (1.4444)  loss_fgl_aux_1: 0.7215 (0.7156)  loss_ddf_aux_1: 0.0000 (0.0000)  loss_mal_pre: 0.6460 (0.6523)  loss_bbox_pre: 0.6393 (0.6363)  loss_giou_pre: 1.4481 (1.4458)  loss_mal_enc_0: 0.6621 (0.6668)  loss_bbox_enc_0: 0.6434 (0.6433)  loss_giou_enc_0: 1.4521 (1.4511)  loss_mal_dn_0: 0.6230 (0.6220)  loss_bbox_dn_0: 0.5104 (0.4903)  loss_giou_dn_0: 1.3623 (1.3617)  loss_fgl_dn_0: 0.8010 (0.7977)  loss_ddf_dn_0: 0.0007 (0.0007)  loss_mal_dn_1: 0.6230 (0.6214)  loss_bbox_dn_1: 0.5106 (0.4903)  loss_giou_dn_1: 1.3622 (1.3614)  loss_fgl_dn_1: 0.8011 (0.7978)  loss_ddf_dn_1: 0.0000 (0.0000)  loss_mal_dn_2: 0.6235 (0.6220)  loss_bbox_dn_2: 0.5106 (0.4903)  loss_giou_dn_2: 1.3622 (1.3612)  loss_fgl_dn_2: 0.8013 (0.7979)  loss_mal_dn_pre: 0.6230 (0.6221)  loss_bbox_dn_pre: 0.5114 (0.4912)  loss_giou_dn_pre: 1.3626 (1.3613)  time: 0.5760  data: 0.1148  max mem: 10201\n",
      "Epoch: [18] Total time: 0:00:08 (0.5804 s / it)\n",
      "Averaged stats: lr: 0.000200  loss: 28.1186 (28.1292)  loss_mal: 0.6445 (0.6492)  loss_bbox: 0.6427 (0.6373)  loss_giou: 1.4462 (1.4436)  loss_fgl: 0.7221 (0.7161)  loss_mal_aux_0: 0.6460 (0.6531)  loss_bbox_aux_0: 0.6411 (0.6372)  loss_giou_aux_0: 1.4475 (1.4449)  loss_fgl_aux_0: 0.7211 (0.7153)  loss_ddf_aux_0: 0.0004 (0.0004)  loss_mal_aux_1: 0.6465 (0.6498)  loss_bbox_aux_1: 0.6417 (0.6373)  loss_giou_aux_1: 1.4471 (1.4444)  loss_fgl_aux_1: 0.7215 (0.7156)  loss_ddf_aux_1: 0.0000 (0.0000)  loss_mal_pre: 0.6460 (0.6523)  loss_bbox_pre: 0.6393 (0.6363)  loss_giou_pre: 1.4481 (1.4458)  loss_mal_enc_0: 0.6621 (0.6668)  loss_bbox_enc_0: 0.6434 (0.6433)  loss_giou_enc_0: 1.4521 (1.4511)  loss_mal_dn_0: 0.6230 (0.6220)  loss_bbox_dn_0: 0.5104 (0.4903)  loss_giou_dn_0: 1.3623 (1.3617)  loss_fgl_dn_0: 0.8010 (0.7977)  loss_ddf_dn_0: 0.0007 (0.0007)  loss_mal_dn_1: 0.6230 (0.6214)  loss_bbox_dn_1: 0.5106 (0.4903)  loss_giou_dn_1: 1.3622 (1.3614)  loss_fgl_dn_1: 0.8011 (0.7978)  loss_ddf_dn_1: 0.0000 (0.0000)  loss_mal_dn_2: 0.6235 (0.6220)  loss_bbox_dn_2: 0.5106 (0.4903)  loss_giou_dn_2: 1.3622 (1.3612)  loss_fgl_dn_2: 0.8013 (0.7979)  loss_mal_dn_pre: 0.6230 (0.6221)  loss_bbox_dn_pre: 0.5114 (0.4912)  loss_giou_dn_pre: 1.3626 (1.3613)\n",
      "Test:  [0/5]  eta: 0:00:03    time: 0.7639  data: 0.6506  max mem: 10201\n"
     ]
    },
    {
     "name": "stderr",
     "output_type": "stream",
     "text": [
      "\u001b[32m2025-03-10 16:19:46.986\u001b[0m | \u001b[1mINFO    \u001b[0m | \u001b[36mdeimkit.trainer\u001b[0m:\u001b[36m_save_checkpoint\u001b[0m:\u001b[36m363\u001b[0m - \u001b[1mSaving checkpoint to outputs/deim_hgnetv2_s_coco_ema_tune/best.pth\u001b[0m\n"
     ]
    },
    {
     "name": "stdout",
     "output_type": "stream",
     "text": [
      "Test:  [4/5]  eta: 0:00:00    time: 0.2784  data: 0.1437  max mem: 10201\n",
      "Test: Total time: 0:00:01 (0.2922 s / it)\n",
      "Averaged stats: \n",
      "Accumulating evaluation results...\n",
      "COCOeval_opt.accumulate() finished...\n",
      "DONE (t=0.01s).\n",
      "IoU metric: bbox\n",
      " Average Precision  (AP) @[ IoU=0.50:0.95 | area=   all | maxDets=100 ] = 0.015\n",
      " Average Precision  (AP) @[ IoU=0.50      | area=   all | maxDets=100 ] = 0.056\n",
      " Average Precision  (AP) @[ IoU=0.75      | area=   all | maxDets=100 ] = 0.004\n",
      " Average Precision  (AP) @[ IoU=0.50:0.95 | area= small | maxDets=100 ] = 0.000\n",
      " Average Precision  (AP) @[ IoU=0.50:0.95 | area=medium | maxDets=100 ] = 0.006\n",
      " Average Precision  (AP) @[ IoU=0.50:0.95 | area= large | maxDets=100 ] = 0.020\n",
      " Average Recall     (AR) @[ IoU=0.50:0.95 | area=   all | maxDets=  1 ] = 0.018\n",
      " Average Recall     (AR) @[ IoU=0.50:0.95 | area=   all | maxDets= 10 ] = 0.048\n",
      " Average Recall     (AR) @[ IoU=0.50:0.95 | area=   all | maxDets=100 ] = 0.092\n",
      " Average Recall     (AR) @[ IoU=0.50:0.95 | area= small | maxDets=100 ] = 0.000\n",
      " Average Recall     (AR) @[ IoU=0.50:0.95 | area=medium | maxDets=100 ] = 0.053\n",
      " Average Recall     (AR) @[ IoU=0.50:0.95 | area= large | maxDets=100 ] = 0.093\n",
      " Average Recall     (AR) @[ IoU=0.50      | area=   all | maxDets=100 ] = 0.315\n",
      " Average Recall     (AR) @[ IoU=0.75      | area=   all | maxDets=100 ] = 0.029\n"
     ]
    },
    {
     "name": "stderr",
     "output_type": "stream",
     "text": [
      "\u001b[32m2025-03-10 16:19:47.327\u001b[0m | \u001b[1mINFO    \u001b[0m | \u001b[36mdeimkit.trainer\u001b[0m:\u001b[36m_save_checkpoint\u001b[0m:\u001b[36m380\u001b[0m - \u001b[1mCheckpoint saved to outputs/deim_hgnetv2_s_coco_ema_tune/best.pth\u001b[0m\n",
      "\u001b[32m2025-03-10 16:19:47.329\u001b[0m | \u001b[1mINFO    \u001b[0m | \u001b[36mdeimkit.trainer\u001b[0m:\u001b[36mtrain\u001b[0m:\u001b[36m312\u001b[0m - \u001b[1mEpoch 18 - Train loss: 28.1292, Eval mAP: 0.0150\u001b[0m\n",
      "\u001b[32m2025-03-10 16:19:47.329\u001b[0m | \u001b[1mINFO    \u001b[0m | \u001b[36mdeimkit.trainer\u001b[0m:\u001b[36mtrain\u001b[0m:\u001b[36m315\u001b[0m - \u001b[1mBest stats: {'epoch': 18, 'coco_eval_bbox': 0.014960503615660226}\u001b[0m\n"
     ]
    },
    {
     "name": "stdout",
     "output_type": "stream",
     "text": [
      "Epoch: [19]  [ 0/15]  eta: 0:00:31  lr: 0.000200  loss: 27.8971 (27.8971)  loss_mal: 0.5903 (0.5903)  loss_bbox: 0.6782 (0.6782)  loss_giou: 1.4578 (1.4578)  loss_fgl: 0.6885 (0.6885)  loss_mal_aux_0: 0.5874 (0.5874)  loss_bbox_aux_0: 0.6769 (0.6769)  loss_giou_aux_0: 1.4586 (1.4586)  loss_fgl_aux_0: 0.6883 (0.6883)  loss_ddf_aux_0: 0.0004 (0.0004)  loss_mal_aux_1: 0.5884 (0.5884)  loss_bbox_aux_1: 0.6775 (0.6775)  loss_giou_aux_1: 1.4584 (1.4584)  loss_fgl_aux_1: 0.6882 (0.6882)  loss_ddf_aux_1: 0.0000 (0.0000)  loss_mal_pre: 0.5874 (0.5874)  loss_bbox_pre: 0.6745 (0.6745)  loss_giou_pre: 1.4590 (1.4590)  loss_mal_enc_0: 0.5981 (0.5981)  loss_bbox_enc_0: 0.6796 (0.6796)  loss_giou_enc_0: 1.4635 (1.4635)  loss_mal_dn_0: 0.6235 (0.6235)  loss_bbox_dn_0: 0.4683 (0.4683)  loss_giou_dn_0: 1.3545 (1.3545)  loss_fgl_dn_0: 0.8035 (0.8035)  loss_ddf_dn_0: 0.0008 (0.0008)  loss_mal_dn_1: 0.6230 (0.6230)  loss_bbox_dn_1: 0.4684 (0.4684)  loss_giou_dn_1: 1.3541 (1.3541)  loss_fgl_dn_1: 0.8040 (0.8040)  loss_ddf_dn_1: 0.0001 (0.0001)  loss_mal_dn_2: 0.6230 (0.6230)  loss_bbox_dn_2: 0.4685 (0.4685)  loss_giou_dn_2: 1.3539 (1.3539)  loss_fgl_dn_2: 0.8042 (0.8042)  loss_mal_dn_pre: 0.6235 (0.6235)  loss_bbox_dn_pre: 0.4686 (0.4686)  loss_giou_dn_pre: 1.3540 (1.3540)  time: 2.0846  data: 1.4480  max mem: 10201\n"
     ]
    },
    {
     "name": "stderr",
     "output_type": "stream",
     "text": [
      "\u001b[32m2025-03-10 16:19:55.843\u001b[0m | \u001b[1mINFO    \u001b[0m | \u001b[36mdeimkit.trainer\u001b[0m:\u001b[36m_save_checkpoint\u001b[0m:\u001b[36m363\u001b[0m - \u001b[1mSaving checkpoint to outputs/deim_hgnetv2_s_coco_ema_tune/checkpoint0019.pth\u001b[0m\n"
     ]
    },
    {
     "name": "stdout",
     "output_type": "stream",
     "text": [
      "Epoch: [19]  [14/15]  eta: 0:00:00  lr: 0.000200  loss: 28.2380 (28.1563)  loss_mal: 0.7070 (0.6899)  loss_bbox: 0.6555 (0.6269)  loss_giou: 1.3795 (1.3742)  loss_fgl: 0.7509 (0.7571)  loss_mal_aux_0: 0.7070 (0.6925)  loss_bbox_aux_0: 0.6539 (0.6276)  loss_giou_aux_0: 1.3808 (1.3757)  loss_fgl_aux_0: 0.7504 (0.7565)  loss_ddf_aux_0: 0.0005 (0.0005)  loss_mal_aux_1: 0.7075 (0.6901)  loss_bbox_aux_1: 0.6546 (0.6273)  loss_giou_aux_1: 1.3803 (1.3751)  loss_fgl_aux_1: 0.7505 (0.7566)  loss_ddf_aux_1: 0.0000 (0.0000)  loss_mal_pre: 0.7061 (0.6914)  loss_bbox_pre: 0.6521 (0.6273)  loss_giou_pre: 1.3819 (1.3770)  loss_mal_enc_0: 0.7217 (0.7036)  loss_bbox_enc_0: 0.6599 (0.6371)  loss_giou_enc_0: 1.3879 (1.3869)  loss_mal_dn_0: 0.6230 (0.6242)  loss_bbox_dn_0: 0.4964 (0.5136)  loss_giou_dn_0: 1.3532 (1.3572)  loss_fgl_dn_0: 0.8019 (0.8005)  loss_ddf_dn_0: 0.0006 (0.0007)  loss_mal_dn_1: 0.6226 (0.6240)  loss_bbox_dn_1: 0.4967 (0.5136)  loss_giou_dn_1: 1.3533 (1.3569)  loss_fgl_dn_1: 0.8017 (0.8007)  loss_ddf_dn_1: 0.0000 (0.0000)  loss_mal_dn_2: 0.6230 (0.6248)  loss_bbox_dn_2: 0.4967 (0.5135)  loss_giou_dn_2: 1.3533 (1.3566)  loss_fgl_dn_2: 0.8017 (0.8009)  loss_mal_dn_pre: 0.6230 (0.6242)  loss_bbox_dn_pre: 0.4975 (0.5147)  loss_giou_dn_pre: 1.3527 (1.3568)  time: 0.5620  data: 0.1131  max mem: 10201\n",
      "Epoch: [19] Total time: 0:00:08 (0.5665 s / it)\n",
      "Averaged stats: lr: 0.000200  loss: 28.2380 (28.1563)  loss_mal: 0.7070 (0.6899)  loss_bbox: 0.6555 (0.6269)  loss_giou: 1.3795 (1.3742)  loss_fgl: 0.7509 (0.7571)  loss_mal_aux_0: 0.7070 (0.6925)  loss_bbox_aux_0: 0.6539 (0.6276)  loss_giou_aux_0: 1.3808 (1.3757)  loss_fgl_aux_0: 0.7504 (0.7565)  loss_ddf_aux_0: 0.0005 (0.0005)  loss_mal_aux_1: 0.7075 (0.6901)  loss_bbox_aux_1: 0.6546 (0.6273)  loss_giou_aux_1: 1.3803 (1.3751)  loss_fgl_aux_1: 0.7505 (0.7566)  loss_ddf_aux_1: 0.0000 (0.0000)  loss_mal_pre: 0.7061 (0.6914)  loss_bbox_pre: 0.6521 (0.6273)  loss_giou_pre: 1.3819 (1.3770)  loss_mal_enc_0: 0.7217 (0.7036)  loss_bbox_enc_0: 0.6599 (0.6371)  loss_giou_enc_0: 1.3879 (1.3869)  loss_mal_dn_0: 0.6230 (0.6242)  loss_bbox_dn_0: 0.4964 (0.5136)  loss_giou_dn_0: 1.3532 (1.3572)  loss_fgl_dn_0: 0.8019 (0.8005)  loss_ddf_dn_0: 0.0006 (0.0007)  loss_mal_dn_1: 0.6226 (0.6240)  loss_bbox_dn_1: 0.4967 (0.5136)  loss_giou_dn_1: 1.3533 (1.3569)  loss_fgl_dn_1: 0.8017 (0.8007)  loss_ddf_dn_1: 0.0000 (0.0000)  loss_mal_dn_2: 0.6230 (0.6248)  loss_bbox_dn_2: 0.4967 (0.5135)  loss_giou_dn_2: 1.3533 (1.3566)  loss_fgl_dn_2: 0.8017 (0.8009)  loss_mal_dn_pre: 0.6230 (0.6242)  loss_bbox_dn_pre: 0.4975 (0.5147)  loss_giou_dn_pre: 1.3527 (1.3568)\n"
     ]
    },
    {
     "name": "stderr",
     "output_type": "stream",
     "text": [
      "\u001b[32m2025-03-10 16:19:56.129\u001b[0m | \u001b[1mINFO    \u001b[0m | \u001b[36mdeimkit.trainer\u001b[0m:\u001b[36m_save_checkpoint\u001b[0m:\u001b[36m380\u001b[0m - \u001b[1mCheckpoint saved to outputs/deim_hgnetv2_s_coco_ema_tune/checkpoint0019.pth\u001b[0m\n",
      "\u001b[32m2025-03-10 16:19:56.130\u001b[0m | \u001b[1mINFO    \u001b[0m | \u001b[36mdeimkit.trainer\u001b[0m:\u001b[36mevaluate\u001b[0m:\u001b[36m331\u001b[0m - \u001b[1mEvaluating model...\u001b[0m\n"
     ]
    },
    {
     "name": "stdout",
     "output_type": "stream",
     "text": [
      "Test:  [0/5]  eta: 0:00:05    time: 1.0273  data: 0.7445  max mem: 10201\n"
     ]
    },
    {
     "name": "stderr",
     "output_type": "stream",
     "text": [
      "\u001b[32m2025-03-10 16:19:57.724\u001b[0m | \u001b[1mINFO    \u001b[0m | \u001b[36mdeimkit.trainer\u001b[0m:\u001b[36mtrain\u001b[0m:\u001b[36m312\u001b[0m - \u001b[1mEpoch 19 - Train loss: 28.1563, Eval mAP: 0.0104\u001b[0m\n",
      "\u001b[32m2025-03-10 16:19:57.725\u001b[0m | \u001b[1mINFO    \u001b[0m | \u001b[36mdeimkit.trainer\u001b[0m:\u001b[36mtrain\u001b[0m:\u001b[36m315\u001b[0m - \u001b[1mBest stats: {'epoch': 18, 'coco_eval_bbox': 0.014960503615660226}\u001b[0m\n"
     ]
    },
    {
     "name": "stdout",
     "output_type": "stream",
     "text": [
      "Test:  [4/5]  eta: 0:00:00    time: 0.2989  data: 0.1620  max mem: 10201\n",
      "Test: Total time: 0:00:01 (0.3141 s / it)\n",
      "Averaged stats: \n",
      "Accumulating evaluation results...\n",
      "COCOeval_opt.accumulate() finished...\n",
      "DONE (t=0.01s).\n",
      "IoU metric: bbox\n",
      " Average Precision  (AP) @[ IoU=0.50:0.95 | area=   all | maxDets=100 ] = 0.010\n",
      " Average Precision  (AP) @[ IoU=0.50      | area=   all | maxDets=100 ] = 0.044\n",
      " Average Precision  (AP) @[ IoU=0.75      | area=   all | maxDets=100 ] = 0.001\n",
      " Average Precision  (AP) @[ IoU=0.50:0.95 | area= small | maxDets=100 ] = 0.000\n",
      " Average Precision  (AP) @[ IoU=0.50:0.95 | area=medium | maxDets=100 ] = 0.051\n",
      " Average Precision  (AP) @[ IoU=0.50:0.95 | area= large | maxDets=100 ] = 0.019\n",
      " Average Recall     (AR) @[ IoU=0.50:0.95 | area=   all | maxDets=  1 ] = 0.021\n",
      " Average Recall     (AR) @[ IoU=0.50:0.95 | area=   all | maxDets= 10 ] = 0.042\n",
      " Average Recall     (AR) @[ IoU=0.50:0.95 | area=   all | maxDets=100 ] = 0.084\n",
      " Average Recall     (AR) @[ IoU=0.50:0.95 | area= small | maxDets=100 ] = 0.000\n",
      " Average Recall     (AR) @[ IoU=0.50:0.95 | area=medium | maxDets=100 ] = 0.142\n",
      " Average Recall     (AR) @[ IoU=0.50:0.95 | area= large | maxDets=100 ] = 0.087\n",
      " Average Recall     (AR) @[ IoU=0.50      | area=   all | maxDets=100 ] = 0.265\n",
      " Average Recall     (AR) @[ IoU=0.75      | area=   all | maxDets=100 ] = 0.035\n",
      "Epoch: [20]  [ 0/15]  eta: 0:00:29  lr: 0.000200  loss: 27.7592 (27.7592)  loss_mal: 0.6035 (0.6035)  loss_bbox: 0.6298 (0.6298)  loss_giou: 1.4382 (1.4382)  loss_fgl: 0.7032 (0.7032)  loss_mal_aux_0: 0.6055 (0.6055)  loss_bbox_aux_0: 0.6304 (0.6304)  loss_giou_aux_0: 1.4399 (1.4399)  loss_fgl_aux_0: 0.7023 (0.7023)  loss_ddf_aux_0: 0.0005 (0.0005)  loss_mal_aux_1: 0.6030 (0.6030)  loss_bbox_aux_1: 0.6300 (0.6300)  loss_giou_aux_1: 1.4392 (1.4392)  loss_fgl_aux_1: 0.7027 (0.7027)  loss_ddf_aux_1: 0.0001 (0.0001)  loss_mal_pre: 0.6055 (0.6055)  loss_bbox_pre: 0.6300 (0.6300)  loss_giou_pre: 1.4415 (1.4415)  loss_mal_enc_0: 0.6133 (0.6133)  loss_bbox_enc_0: 0.6386 (0.6386)  loss_giou_enc_0: 1.4493 (1.4493)  loss_mal_dn_0: 0.6152 (0.6152)  loss_bbox_dn_0: 0.4833 (0.4833)  loss_giou_dn_0: 1.3663 (1.3663)  loss_fgl_dn_0: 0.7972 (0.7972)  loss_ddf_dn_0: 0.0008 (0.0008)  loss_mal_dn_1: 0.6152 (0.6152)  loss_bbox_dn_1: 0.4832 (0.4832)  loss_giou_dn_1: 1.3662 (1.3662)  loss_fgl_dn_1: 0.7972 (0.7972)  loss_ddf_dn_1: 0.0000 (0.0000)  loss_mal_dn_2: 0.6167 (0.6167)  loss_bbox_dn_2: 0.4831 (0.4831)  loss_giou_dn_2: 1.3661 (1.3661)  loss_fgl_dn_2: 0.7973 (0.7973)  loss_mal_dn_pre: 0.6152 (0.6152)  loss_bbox_dn_pre: 0.4844 (0.4844)  loss_giou_dn_pre: 1.3653 (1.3653)  time: 1.9544  data: 1.3118  max mem: 10201\n"
     ]
    },
    {
     "name": "stderr",
     "output_type": "stream",
     "text": [
      "\u001b[32m2025-03-10 16:20:06.738\u001b[0m | \u001b[1mINFO    \u001b[0m | \u001b[36mdeimkit.trainer\u001b[0m:\u001b[36mevaluate\u001b[0m:\u001b[36m331\u001b[0m - \u001b[1mEvaluating model...\u001b[0m\n"
     ]
    },
    {
     "name": "stdout",
     "output_type": "stream",
     "text": [
      "Epoch: [20]  [14/15]  eta: 0:00:00  lr: 0.000200  loss: 27.8236 (27.9163)  loss_mal: 0.6992 (0.6890)  loss_bbox: 0.5929 (0.5907)  loss_giou: 1.3794 (1.3721)  loss_fgl: 0.7576 (0.7665)  loss_mal_aux_0: 0.6987 (0.6912)  loss_bbox_aux_0: 0.5920 (0.5912)  loss_giou_aux_0: 1.3814 (1.3738)  loss_fgl_aux_0: 0.7578 (0.7659)  loss_ddf_aux_0: 0.0005 (0.0005)  loss_mal_aux_1: 0.6997 (0.6885)  loss_bbox_aux_1: 0.5923 (0.5909)  loss_giou_aux_1: 1.3806 (1.3732)  loss_fgl_aux_1: 0.7575 (0.7659)  loss_ddf_aux_1: 0.0000 (0.0000)  loss_mal_pre: 0.6978 (0.6901)  loss_bbox_pre: 0.5904 (0.5908)  loss_giou_pre: 1.3834 (1.3752)  loss_mal_enc_0: 0.7139 (0.6965)  loss_bbox_enc_0: 0.5940 (0.5980)  loss_giou_enc_0: 1.3948 (1.3860)  loss_mal_dn_0: 0.6206 (0.6243)  loss_bbox_dn_0: 0.4833 (0.4986)  loss_giou_dn_0: 1.3639 (1.3583)  loss_fgl_dn_0: 0.7963 (0.7986)  loss_ddf_dn_0: 0.0007 (0.0007)  loss_mal_dn_1: 0.6211 (0.6235)  loss_bbox_dn_1: 0.4832 (0.4985)  loss_giou_dn_1: 1.3636 (1.3579)  loss_fgl_dn_1: 0.7964 (0.7987)  loss_ddf_dn_1: 0.0001 (0.0001)  loss_mal_dn_2: 0.6216 (0.6243)  loss_bbox_dn_2: 0.4831 (0.4986)  loss_giou_dn_2: 1.3635 (1.3577)  loss_fgl_dn_2: 0.7964 (0.7988)  loss_mal_dn_pre: 0.6216 (0.6242)  loss_bbox_dn_pre: 0.4844 (0.4999)  loss_giou_dn_pre: 1.3634 (1.3577)  time: 0.5936  data: 0.1121  max mem: 10201\n",
      "Epoch: [20] Total time: 0:00:08 (0.5993 s / it)\n",
      "Averaged stats: lr: 0.000200  loss: 27.8236 (27.9163)  loss_mal: 0.6992 (0.6890)  loss_bbox: 0.5929 (0.5907)  loss_giou: 1.3794 (1.3721)  loss_fgl: 0.7576 (0.7665)  loss_mal_aux_0: 0.6987 (0.6912)  loss_bbox_aux_0: 0.5920 (0.5912)  loss_giou_aux_0: 1.3814 (1.3738)  loss_fgl_aux_0: 0.7578 (0.7659)  loss_ddf_aux_0: 0.0005 (0.0005)  loss_mal_aux_1: 0.6997 (0.6885)  loss_bbox_aux_1: 0.5923 (0.5909)  loss_giou_aux_1: 1.3806 (1.3732)  loss_fgl_aux_1: 0.7575 (0.7659)  loss_ddf_aux_1: 0.0000 (0.0000)  loss_mal_pre: 0.6978 (0.6901)  loss_bbox_pre: 0.5904 (0.5908)  loss_giou_pre: 1.3834 (1.3752)  loss_mal_enc_0: 0.7139 (0.6965)  loss_bbox_enc_0: 0.5940 (0.5980)  loss_giou_enc_0: 1.3948 (1.3860)  loss_mal_dn_0: 0.6206 (0.6243)  loss_bbox_dn_0: 0.4833 (0.4986)  loss_giou_dn_0: 1.3639 (1.3583)  loss_fgl_dn_0: 0.7963 (0.7986)  loss_ddf_dn_0: 0.0007 (0.0007)  loss_mal_dn_1: 0.6211 (0.6235)  loss_bbox_dn_1: 0.4832 (0.4985)  loss_giou_dn_1: 1.3636 (1.3579)  loss_fgl_dn_1: 0.7964 (0.7987)  loss_ddf_dn_1: 0.0001 (0.0001)  loss_mal_dn_2: 0.6216 (0.6243)  loss_bbox_dn_2: 0.4831 (0.4986)  loss_giou_dn_2: 1.3635 (1.3577)  loss_fgl_dn_2: 0.7964 (0.7988)  loss_mal_dn_pre: 0.6216 (0.6242)  loss_bbox_dn_pre: 0.4844 (0.4999)  loss_giou_dn_pre: 1.3634 (1.3577)\n",
      "Test:  [0/5]  eta: 0:00:04    time: 0.8192  data: 0.6949  max mem: 10201\n"
     ]
    },
    {
     "name": "stderr",
     "output_type": "stream",
     "text": [
      "\u001b[32m2025-03-10 16:20:08.464\u001b[0m | \u001b[1mINFO    \u001b[0m | \u001b[36mdeimkit.trainer\u001b[0m:\u001b[36mtrain\u001b[0m:\u001b[36m312\u001b[0m - \u001b[1mEpoch 20 - Train loss: 27.9163, Eval mAP: 0.0127\u001b[0m\n",
      "\u001b[32m2025-03-10 16:20:08.464\u001b[0m | \u001b[1mINFO    \u001b[0m | \u001b[36mdeimkit.trainer\u001b[0m:\u001b[36mtrain\u001b[0m:\u001b[36m315\u001b[0m - \u001b[1mBest stats: {'epoch': 18, 'coco_eval_bbox': 0.014960503615660226}\u001b[0m\n"
     ]
    },
    {
     "name": "stdout",
     "output_type": "stream",
     "text": [
      "Test:  [4/5]  eta: 0:00:00    time: 0.3275  data: 0.1643  max mem: 10201\n",
      "Test: Total time: 0:00:01 (0.3404 s / it)\n",
      "Averaged stats: \n",
      "Accumulating evaluation results...\n",
      "COCOeval_opt.accumulate() finished...\n",
      "DONE (t=0.01s).\n",
      "IoU metric: bbox\n",
      " Average Precision  (AP) @[ IoU=0.50:0.95 | area=   all | maxDets=100 ] = 0.013\n",
      " Average Precision  (AP) @[ IoU=0.50      | area=   all | maxDets=100 ] = 0.044\n",
      " Average Precision  (AP) @[ IoU=0.75      | area=   all | maxDets=100 ] = 0.004\n",
      " Average Precision  (AP) @[ IoU=0.50:0.95 | area= small | maxDets=100 ] = 0.000\n",
      " Average Precision  (AP) @[ IoU=0.50:0.95 | area=medium | maxDets=100 ] = 0.005\n",
      " Average Precision  (AP) @[ IoU=0.50:0.95 | area= large | maxDets=100 ] = 0.024\n",
      " Average Recall     (AR) @[ IoU=0.50:0.95 | area=   all | maxDets=  1 ] = 0.012\n",
      " Average Recall     (AR) @[ IoU=0.50:0.95 | area=   all | maxDets= 10 ] = 0.036\n",
      " Average Recall     (AR) @[ IoU=0.50:0.95 | area=   all | maxDets=100 ] = 0.081\n",
      " Average Recall     (AR) @[ IoU=0.50:0.95 | area= small | maxDets=100 ] = 0.000\n",
      " Average Recall     (AR) @[ IoU=0.50:0.95 | area=medium | maxDets=100 ] = 0.130\n",
      " Average Recall     (AR) @[ IoU=0.50:0.95 | area= large | maxDets=100 ] = 0.080\n",
      " Average Recall     (AR) @[ IoU=0.50      | area=   all | maxDets=100 ] = 0.255\n",
      " Average Recall     (AR) @[ IoU=0.75      | area=   all | maxDets=100 ] = 0.028\n",
      "Epoch: [21]  [ 0/15]  eta: 0:00:35  lr: 0.000200  loss: 27.4126 (27.4126)  loss_mal: 0.6113 (0.6113)  loss_bbox: 0.6065 (0.6065)  loss_giou: 1.4181 (1.4181)  loss_fgl: 0.7076 (0.7076)  loss_mal_aux_0: 0.6143 (0.6143)  loss_bbox_aux_0: 0.6051 (0.6051)  loss_giou_aux_0: 1.4188 (1.4188)  loss_fgl_aux_0: 0.7076 (0.7076)  loss_ddf_aux_0: 0.0005 (0.0005)  loss_mal_aux_1: 0.6118 (0.6118)  loss_bbox_aux_1: 0.6056 (0.6056)  loss_giou_aux_1: 1.4185 (1.4185)  loss_fgl_aux_1: 0.7075 (0.7075)  loss_ddf_aux_1: 0.0000 (0.0000)  loss_mal_pre: 0.6143 (0.6143)  loss_bbox_pre: 0.6033 (0.6033)  loss_giou_pre: 1.4188 (1.4188)  loss_mal_enc_0: 0.6206 (0.6206)  loss_bbox_enc_0: 0.6051 (0.6051)  loss_giou_enc_0: 1.4259 (1.4259)  loss_mal_dn_0: 0.6123 (0.6123)  loss_bbox_dn_0: 0.4373 (0.4373)  loss_giou_dn_0: 1.3889 (1.3889)  loss_fgl_dn_0: 0.7774 (0.7774)  loss_ddf_dn_0: 0.0007 (0.0007)  loss_mal_dn_1: 0.6138 (0.6138)  loss_bbox_dn_1: 0.4373 (0.4373)  loss_giou_dn_1: 1.3886 (1.3886)  loss_fgl_dn_1: 0.7776 (0.7776)  loss_ddf_dn_1: 0.0001 (0.0001)  loss_mal_dn_2: 0.6147 (0.6147)  loss_bbox_dn_2: 0.4373 (0.4373)  loss_giou_dn_2: 1.3882 (1.3882)  loss_fgl_dn_2: 0.7779 (0.7779)  loss_mal_dn_pre: 0.6118 (0.6118)  loss_bbox_dn_pre: 0.4387 (0.4387)  loss_giou_dn_pre: 1.3888 (1.3888)  time: 2.3919  data: 1.7122  max mem: 10201\n"
     ]
    },
    {
     "name": "stderr",
     "output_type": "stream",
     "text": [
      "\u001b[32m2025-03-10 16:20:17.965\u001b[0m | \u001b[1mINFO    \u001b[0m | \u001b[36mdeimkit.trainer\u001b[0m:\u001b[36mevaluate\u001b[0m:\u001b[36m331\u001b[0m - \u001b[1mEvaluating model...\u001b[0m\n"
     ]
    },
    {
     "name": "stdout",
     "output_type": "stream",
     "text": [
      "Epoch: [21]  [14/15]  eta: 0:00:00  lr: 0.000200  loss: 27.8994 (27.9253)  loss_mal: 0.7568 (0.7424)  loss_bbox: 0.5634 (0.5679)  loss_giou: 1.3182 (1.3189)  loss_fgl: 0.8098 (0.8041)  loss_mal_aux_0: 0.7578 (0.7481)  loss_bbox_aux_0: 0.5657 (0.5681)  loss_giou_aux_0: 1.3210 (1.3209)  loss_fgl_aux_0: 0.8075 (0.8038)  loss_ddf_aux_0: 0.0006 (0.0006)  loss_mal_aux_1: 0.7568 (0.7442)  loss_bbox_aux_1: 0.5647 (0.5679)  loss_giou_aux_1: 1.3199 (1.3201)  loss_fgl_aux_1: 0.8083 (0.8035)  loss_ddf_aux_1: 0.0001 (0.0001)  loss_mal_pre: 0.7573 (0.7467)  loss_bbox_pre: 0.5659 (0.5678)  loss_giou_pre: 1.3214 (1.3216)  loss_mal_enc_0: 0.7695 (0.7523)  loss_bbox_enc_0: 0.5760 (0.5765)  loss_giou_enc_0: 1.3550 (1.3457)  loss_mal_dn_0: 0.6196 (0.6218)  loss_bbox_dn_0: 0.4963 (0.4939)  loss_giou_dn_0: 1.3624 (1.3604)  loss_fgl_dn_0: 0.7963 (0.7993)  loss_ddf_dn_0: 0.0007 (0.0007)  loss_mal_dn_1: 0.6206 (0.6220)  loss_bbox_dn_1: 0.4964 (0.4939)  loss_giou_dn_1: 1.3622 (1.3601)  loss_fgl_dn_1: 0.7965 (0.7993)  loss_ddf_dn_1: 0.0001 (0.0001)  loss_mal_dn_2: 0.6211 (0.6221)  loss_bbox_dn_2: 0.4968 (0.4940)  loss_giou_dn_2: 1.3617 (1.3598)  loss_fgl_dn_2: 0.7969 (0.7995)  loss_mal_dn_pre: 0.6196 (0.6220)  loss_bbox_dn_pre: 0.4999 (0.4957)  loss_giou_dn_pre: 1.3619 (1.3596)  time: 0.6279  data: 0.1374  max mem: 10201\n",
      "Epoch: [21] Total time: 0:00:09 (0.6322 s / it)\n",
      "Averaged stats: lr: 0.000200  loss: 27.8994 (27.9253)  loss_mal: 0.7568 (0.7424)  loss_bbox: 0.5634 (0.5679)  loss_giou: 1.3182 (1.3189)  loss_fgl: 0.8098 (0.8041)  loss_mal_aux_0: 0.7578 (0.7481)  loss_bbox_aux_0: 0.5657 (0.5681)  loss_giou_aux_0: 1.3210 (1.3209)  loss_fgl_aux_0: 0.8075 (0.8038)  loss_ddf_aux_0: 0.0006 (0.0006)  loss_mal_aux_1: 0.7568 (0.7442)  loss_bbox_aux_1: 0.5647 (0.5679)  loss_giou_aux_1: 1.3199 (1.3201)  loss_fgl_aux_1: 0.8083 (0.8035)  loss_ddf_aux_1: 0.0001 (0.0001)  loss_mal_pre: 0.7573 (0.7467)  loss_bbox_pre: 0.5659 (0.5678)  loss_giou_pre: 1.3214 (1.3216)  loss_mal_enc_0: 0.7695 (0.7523)  loss_bbox_enc_0: 0.5760 (0.5765)  loss_giou_enc_0: 1.3550 (1.3457)  loss_mal_dn_0: 0.6196 (0.6218)  loss_bbox_dn_0: 0.4963 (0.4939)  loss_giou_dn_0: 1.3624 (1.3604)  loss_fgl_dn_0: 0.7963 (0.7993)  loss_ddf_dn_0: 0.0007 (0.0007)  loss_mal_dn_1: 0.6206 (0.6220)  loss_bbox_dn_1: 0.4964 (0.4939)  loss_giou_dn_1: 1.3622 (1.3601)  loss_fgl_dn_1: 0.7965 (0.7993)  loss_ddf_dn_1: 0.0001 (0.0001)  loss_mal_dn_2: 0.6211 (0.6221)  loss_bbox_dn_2: 0.4968 (0.4940)  loss_giou_dn_2: 1.3617 (1.3598)  loss_fgl_dn_2: 0.7969 (0.7995)  loss_mal_dn_pre: 0.6196 (0.6220)  loss_bbox_dn_pre: 0.4999 (0.4957)  loss_giou_dn_pre: 1.3619 (1.3596)\n",
      "Test:  [0/5]  eta: 0:00:03    time: 0.7833  data: 0.6667  max mem: 10201\n"
     ]
    },
    {
     "name": "stderr",
     "output_type": "stream",
     "text": [
      "\u001b[32m2025-03-10 16:20:19.457\u001b[0m | \u001b[1mINFO    \u001b[0m | \u001b[36mdeimkit.trainer\u001b[0m:\u001b[36mtrain\u001b[0m:\u001b[36m312\u001b[0m - \u001b[1mEpoch 21 - Train loss: 27.9253, Eval mAP: 0.0144\u001b[0m\n",
      "\u001b[32m2025-03-10 16:20:19.458\u001b[0m | \u001b[1mINFO    \u001b[0m | \u001b[36mdeimkit.trainer\u001b[0m:\u001b[36mtrain\u001b[0m:\u001b[36m315\u001b[0m - \u001b[1mBest stats: {'epoch': 18, 'coco_eval_bbox': 0.014960503615660226}\u001b[0m\n"
     ]
    },
    {
     "name": "stdout",
     "output_type": "stream",
     "text": [
      "Test:  [4/5]  eta: 0:00:00    time: 0.2822  data: 0.1483  max mem: 10201\n",
      "Test: Total time: 0:00:01 (0.2943 s / it)\n",
      "Averaged stats: \n",
      "Accumulating evaluation results...\n",
      "COCOeval_opt.accumulate() finished...\n",
      "DONE (t=0.01s).\n",
      "IoU metric: bbox\n",
      " Average Precision  (AP) @[ IoU=0.50:0.95 | area=   all | maxDets=100 ] = 0.014\n",
      " Average Precision  (AP) @[ IoU=0.50      | area=   all | maxDets=100 ] = 0.051\n",
      " Average Precision  (AP) @[ IoU=0.75      | area=   all | maxDets=100 ] = 0.003\n",
      " Average Precision  (AP) @[ IoU=0.50:0.95 | area= small | maxDets=100 ] = 0.000\n",
      " Average Precision  (AP) @[ IoU=0.50:0.95 | area=medium | maxDets=100 ] = 0.001\n",
      " Average Precision  (AP) @[ IoU=0.50:0.95 | area= large | maxDets=100 ] = 0.025\n",
      " Average Recall     (AR) @[ IoU=0.50:0.95 | area=   all | maxDets=  1 ] = 0.024\n",
      " Average Recall     (AR) @[ IoU=0.50:0.95 | area=   all | maxDets= 10 ] = 0.047\n",
      " Average Recall     (AR) @[ IoU=0.50:0.95 | area=   all | maxDets=100 ] = 0.082\n",
      " Average Recall     (AR) @[ IoU=0.50:0.95 | area= small | maxDets=100 ] = 0.000\n",
      " Average Recall     (AR) @[ IoU=0.50:0.95 | area=medium | maxDets=100 ] = 0.048\n",
      " Average Recall     (AR) @[ IoU=0.50:0.95 | area= large | maxDets=100 ] = 0.080\n",
      " Average Recall     (AR) @[ IoU=0.50      | area=   all | maxDets=100 ] = 0.237\n",
      " Average Recall     (AR) @[ IoU=0.75      | area=   all | maxDets=100 ] = 0.033\n",
      "Epoch: [22]  [ 0/15]  eta: 0:00:27  lr: 0.000200  loss: 28.1802 (28.1802)  loss_mal: 0.6323 (0.6323)  loss_bbox: 0.6583 (0.6583)  loss_giou: 1.4729 (1.4729)  loss_fgl: 0.6653 (0.6653)  loss_mal_aux_0: 0.6338 (0.6338)  loss_bbox_aux_0: 0.6584 (0.6584)  loss_giou_aux_0: 1.4744 (1.4744)  loss_fgl_aux_0: 0.6638 (0.6638)  loss_ddf_aux_0: 0.0006 (0.0006)  loss_mal_aux_1: 0.6309 (0.6309)  loss_bbox_aux_1: 0.6581 (0.6581)  loss_giou_aux_1: 1.4738 (1.4738)  loss_fgl_aux_1: 0.6647 (0.6647)  loss_ddf_aux_1: 0.0001 (0.0001)  loss_mal_pre: 0.6309 (0.6309)  loss_bbox_pre: 0.6593 (0.6593)  loss_giou_pre: 1.4746 (1.4746)  loss_mal_enc_0: 0.6426 (0.6426)  loss_bbox_enc_0: 0.6733 (0.6733)  loss_giou_enc_0: 1.5003 (1.5003)  loss_mal_dn_0: 0.6099 (0.6099)  loss_bbox_dn_0: 0.4923 (0.4923)  loss_giou_dn_0: 1.3920 (1.3920)  loss_fgl_dn_0: 0.7788 (0.7788)  loss_ddf_dn_0: 0.0006 (0.0006)  loss_mal_dn_1: 0.6089 (0.6089)  loss_bbox_dn_1: 0.4922 (0.4922)  loss_giou_dn_1: 1.3920 (1.3920)  loss_fgl_dn_1: 0.7789 (0.7789)  loss_ddf_dn_1: 0.0001 (0.0001)  loss_mal_dn_2: 0.6074 (0.6074)  loss_bbox_dn_2: 0.4925 (0.4925)  loss_giou_dn_2: 1.3924 (1.3924)  loss_fgl_dn_2: 0.7787 (0.7787)  loss_mal_dn_pre: 0.6104 (0.6104)  loss_bbox_dn_pre: 0.4942 (0.4942)  loss_giou_dn_pre: 1.3909 (1.3909)  time: 1.8636  data: 1.3252  max mem: 10201\n"
     ]
    },
    {
     "name": "stderr",
     "output_type": "stream",
     "text": [
      "\u001b[32m2025-03-10 16:20:28.125\u001b[0m | \u001b[1mINFO    \u001b[0m | \u001b[36mdeimkit.trainer\u001b[0m:\u001b[36mevaluate\u001b[0m:\u001b[36m331\u001b[0m - \u001b[1mEvaluating model...\u001b[0m\n"
     ]
    },
    {
     "name": "stdout",
     "output_type": "stream",
     "text": [
      "Epoch: [22]  [14/15]  eta: 0:00:00  lr: 0.000200  loss: 28.0100 (27.9604)  loss_mal: 0.6982 (0.7125)  loss_bbox: 0.6244 (0.5799)  loss_giou: 1.3795 (1.3506)  loss_fgl: 0.7554 (0.7872)  loss_mal_aux_0: 0.6982 (0.7146)  loss_bbox_aux_0: 0.6241 (0.5808)  loss_giou_aux_0: 1.3809 (1.3526)  loss_fgl_aux_0: 0.7551 (0.7865)  loss_ddf_aux_0: 0.0008 (0.0008)  loss_mal_aux_1: 0.6943 (0.7128)  loss_bbox_aux_1: 0.6239 (0.5802)  loss_giou_aux_1: 1.3804 (1.3519)  loss_fgl_aux_1: 0.7550 (0.7865)  loss_ddf_aux_1: 0.0001 (0.0001)  loss_mal_pre: 0.6968 (0.7135)  loss_bbox_pre: 0.6245 (0.5814)  loss_giou_pre: 1.3814 (1.3525)  loss_mal_enc_0: 0.6851 (0.7078)  loss_bbox_enc_0: 0.6369 (0.5957)  loss_giou_enc_0: 1.4024 (1.3850)  loss_mal_dn_0: 0.6221 (0.6220)  loss_bbox_dn_0: 0.4936 (0.4998)  loss_giou_dn_0: 1.3594 (1.3599)  loss_fgl_dn_0: 0.7983 (0.8003)  loss_ddf_dn_0: 0.0006 (0.0006)  loss_mal_dn_1: 0.6221 (0.6210)  loss_bbox_dn_1: 0.4932 (0.4995)  loss_giou_dn_1: 1.3593 (1.3597)  loss_fgl_dn_1: 0.7979 (0.8003)  loss_ddf_dn_1: 0.0001 (0.0001)  loss_mal_dn_2: 0.6221 (0.6207)  loss_bbox_dn_2: 0.4930 (0.4994)  loss_giou_dn_2: 1.3596 (1.3594)  loss_fgl_dn_2: 0.7976 (0.8004)  loss_mal_dn_pre: 0.6226 (0.6229)  loss_bbox_dn_pre: 0.4972 (0.5034)  loss_giou_dn_pre: 1.3584 (1.3581)  time: 0.5715  data: 0.1133  max mem: 10201\n",
      "Epoch: [22] Total time: 0:00:08 (0.5765 s / it)\n",
      "Averaged stats: lr: 0.000200  loss: 28.0100 (27.9604)  loss_mal: 0.6982 (0.7125)  loss_bbox: 0.6244 (0.5799)  loss_giou: 1.3795 (1.3506)  loss_fgl: 0.7554 (0.7872)  loss_mal_aux_0: 0.6982 (0.7146)  loss_bbox_aux_0: 0.6241 (0.5808)  loss_giou_aux_0: 1.3809 (1.3526)  loss_fgl_aux_0: 0.7551 (0.7865)  loss_ddf_aux_0: 0.0008 (0.0008)  loss_mal_aux_1: 0.6943 (0.7128)  loss_bbox_aux_1: 0.6239 (0.5802)  loss_giou_aux_1: 1.3804 (1.3519)  loss_fgl_aux_1: 0.7550 (0.7865)  loss_ddf_aux_1: 0.0001 (0.0001)  loss_mal_pre: 0.6968 (0.7135)  loss_bbox_pre: 0.6245 (0.5814)  loss_giou_pre: 1.3814 (1.3525)  loss_mal_enc_0: 0.6851 (0.7078)  loss_bbox_enc_0: 0.6369 (0.5957)  loss_giou_enc_0: 1.4024 (1.3850)  loss_mal_dn_0: 0.6221 (0.6220)  loss_bbox_dn_0: 0.4936 (0.4998)  loss_giou_dn_0: 1.3594 (1.3599)  loss_fgl_dn_0: 0.7983 (0.8003)  loss_ddf_dn_0: 0.0006 (0.0006)  loss_mal_dn_1: 0.6221 (0.6210)  loss_bbox_dn_1: 0.4932 (0.4995)  loss_giou_dn_1: 1.3593 (1.3597)  loss_fgl_dn_1: 0.7979 (0.8003)  loss_ddf_dn_1: 0.0001 (0.0001)  loss_mal_dn_2: 0.6221 (0.6207)  loss_bbox_dn_2: 0.4930 (0.4994)  loss_giou_dn_2: 1.3596 (1.3594)  loss_fgl_dn_2: 0.7976 (0.8004)  loss_mal_dn_pre: 0.6226 (0.6229)  loss_bbox_dn_pre: 0.4972 (0.5034)  loss_giou_dn_pre: 1.3584 (1.3581)\n",
      "Test:  [0/5]  eta: 0:00:03    time: 0.7523  data: 0.6358  max mem: 10201\n"
     ]
    },
    {
     "name": "stderr",
     "output_type": "stream",
     "text": [
      "\u001b[32m2025-03-10 16:20:29.594\u001b[0m | \u001b[1mINFO    \u001b[0m | \u001b[36mdeimkit.trainer\u001b[0m:\u001b[36m_save_checkpoint\u001b[0m:\u001b[36m363\u001b[0m - \u001b[1mSaving checkpoint to outputs/deim_hgnetv2_s_coco_ema_tune/best.pth\u001b[0m\n"
     ]
    },
    {
     "name": "stdout",
     "output_type": "stream",
     "text": [
      "Test:  [4/5]  eta: 0:00:00    time: 0.2769  data: 0.1427  max mem: 10201\n",
      "Test: Total time: 0:00:01 (0.2892 s / it)\n",
      "Averaged stats: \n",
      "Accumulating evaluation results...\n",
      "COCOeval_opt.accumulate() finished...\n",
      "DONE (t=0.01s).\n",
      "IoU metric: bbox\n",
      " Average Precision  (AP) @[ IoU=0.50:0.95 | area=   all | maxDets=100 ] = 0.037\n",
      " Average Precision  (AP) @[ IoU=0.50      | area=   all | maxDets=100 ] = 0.138\n",
      " Average Precision  (AP) @[ IoU=0.75      | area=   all | maxDets=100 ] = 0.004\n",
      " Average Precision  (AP) @[ IoU=0.50:0.95 | area= small | maxDets=100 ] = 0.000\n",
      " Average Precision  (AP) @[ IoU=0.50:0.95 | area=medium | maxDets=100 ] = 0.076\n",
      " Average Precision  (AP) @[ IoU=0.50:0.95 | area= large | maxDets=100 ] = 0.046\n",
      " Average Recall     (AR) @[ IoU=0.50:0.95 | area=   all | maxDets=  1 ] = 0.049\n",
      " Average Recall     (AR) @[ IoU=0.50:0.95 | area=   all | maxDets= 10 ] = 0.104\n",
      " Average Recall     (AR) @[ IoU=0.50:0.95 | area=   all | maxDets=100 ] = 0.144\n",
      " Average Recall     (AR) @[ IoU=0.50:0.95 | area= small | maxDets=100 ] = 0.000\n",
      " Average Recall     (AR) @[ IoU=0.50:0.95 | area=medium | maxDets=100 ] = 0.246\n",
      " Average Recall     (AR) @[ IoU=0.50:0.95 | area= large | maxDets=100 ] = 0.143\n",
      " Average Recall     (AR) @[ IoU=0.50      | area=   all | maxDets=100 ] = 0.420\n",
      " Average Recall     (AR) @[ IoU=0.75      | area=   all | maxDets=100 ] = 0.054\n"
     ]
    },
    {
     "name": "stderr",
     "output_type": "stream",
     "text": [
      "\u001b[32m2025-03-10 16:20:29.951\u001b[0m | \u001b[1mINFO    \u001b[0m | \u001b[36mdeimkit.trainer\u001b[0m:\u001b[36m_save_checkpoint\u001b[0m:\u001b[36m380\u001b[0m - \u001b[1mCheckpoint saved to outputs/deim_hgnetv2_s_coco_ema_tune/best.pth\u001b[0m\n",
      "\u001b[32m2025-03-10 16:20:29.953\u001b[0m | \u001b[1mINFO    \u001b[0m | \u001b[36mdeimkit.trainer\u001b[0m:\u001b[36mtrain\u001b[0m:\u001b[36m312\u001b[0m - \u001b[1mEpoch 22 - Train loss: 27.9604, Eval mAP: 0.0367\u001b[0m\n",
      "\u001b[32m2025-03-10 16:20:29.954\u001b[0m | \u001b[1mINFO    \u001b[0m | \u001b[36mdeimkit.trainer\u001b[0m:\u001b[36mtrain\u001b[0m:\u001b[36m315\u001b[0m - \u001b[1mBest stats: {'epoch': 22, 'coco_eval_bbox': 0.03667214449229709}\u001b[0m\n"
     ]
    },
    {
     "name": "stdout",
     "output_type": "stream",
     "text": [
      "Epoch: [23]  [ 0/15]  eta: 0:00:36  lr: 0.000200  loss: 27.4553 (27.4553)  loss_mal: 0.7676 (0.7676)  loss_bbox: 0.4986 (0.4986)  loss_giou: 1.2853 (1.2853)  loss_fgl: 0.8454 (0.8454)  loss_mal_aux_0: 0.7866 (0.7866)  loss_bbox_aux_0: 0.4991 (0.4991)  loss_giou_aux_0: 1.2863 (1.2863)  loss_fgl_aux_0: 0.8468 (0.8468)  loss_ddf_aux_0: 0.0010 (0.0010)  loss_mal_aux_1: 0.7739 (0.7739)  loss_bbox_aux_1: 0.4986 (0.4986)  loss_giou_aux_1: 1.2862 (1.2862)  loss_fgl_aux_1: 0.8454 (0.8454)  loss_ddf_aux_1: 0.0002 (0.0002)  loss_mal_pre: 0.7856 (0.7856)  loss_bbox_pre: 0.4997 (0.4997)  loss_giou_pre: 1.2849 (1.2849)  loss_mal_enc_0: 0.7861 (0.7861)  loss_bbox_enc_0: 0.5171 (0.5171)  loss_giou_enc_0: 1.3320 (1.3320)  loss_mal_dn_0: 0.6353 (0.6353)  loss_bbox_dn_0: 0.4304 (0.4304)  loss_giou_dn_0: 1.3264 (1.3264)  loss_fgl_dn_0: 0.8209 (0.8209)  loss_ddf_dn_0: 0.0005 (0.0005)  loss_mal_dn_1: 0.6333 (0.6333)  loss_bbox_dn_1: 0.4297 (0.4297)  loss_giou_dn_1: 1.3260 (1.3260)  loss_fgl_dn_1: 0.8214 (0.8214)  loss_ddf_dn_1: 0.0001 (0.0001)  loss_mal_dn_2: 0.6328 (0.6328)  loss_bbox_dn_2: 0.4294 (0.4294)  loss_giou_dn_2: 1.3257 (1.3257)  loss_fgl_dn_2: 0.8215 (0.8215)  loss_mal_dn_pre: 0.6353 (0.6353)  loss_bbox_dn_pre: 0.4348 (0.4348)  loss_giou_dn_pre: 1.3253 (1.3253)  time: 2.4304  data: 1.8421  max mem: 10201\n"
     ]
    },
    {
     "name": "stderr",
     "output_type": "stream",
     "text": [
      "\u001b[32m2025-03-10 16:20:39.164\u001b[0m | \u001b[1mINFO    \u001b[0m | \u001b[36mdeimkit.trainer\u001b[0m:\u001b[36m_save_checkpoint\u001b[0m:\u001b[36m363\u001b[0m - \u001b[1mSaving checkpoint to outputs/deim_hgnetv2_s_coco_ema_tune/checkpoint0023.pth\u001b[0m\n"
     ]
    },
    {
     "name": "stdout",
     "output_type": "stream",
     "text": [
      "Epoch: [23]  [14/15]  eta: 0:00:00  lr: 0.000200  loss: 28.0982 (28.0281)  loss_mal: 0.7178 (0.7048)  loss_bbox: 0.5900 (0.5943)  loss_giou: 1.3618 (1.3774)  loss_fgl: 0.7983 (0.7682)  loss_mal_aux_0: 0.7310 (0.7114)  loss_bbox_aux_0: 0.5895 (0.5953)  loss_giou_aux_0: 1.3623 (1.3783)  loss_fgl_aux_0: 0.7987 (0.7682)  loss_ddf_aux_0: 0.0009 (0.0009)  loss_mal_aux_1: 0.7163 (0.7055)  loss_bbox_aux_1: 0.5893 (0.5945)  loss_giou_aux_1: 1.3623 (1.3781)  loss_fgl_aux_1: 0.7981 (0.7679)  loss_ddf_aux_1: 0.0001 (0.0001)  loss_mal_pre: 0.7246 (0.7095)  loss_bbox_pre: 0.5913 (0.5981)  loss_giou_pre: 1.3615 (1.3773)  loss_mal_enc_0: 0.7114 (0.7021)  loss_bbox_enc_0: 0.6134 (0.6157)  loss_giou_enc_0: 1.3981 (1.4160)  loss_mal_dn_0: 0.6196 (0.6200)  loss_bbox_dn_0: 0.5023 (0.4881)  loss_giou_dn_0: 1.3623 (1.3588)  loss_fgl_dn_0: 0.7957 (0.7990)  loss_ddf_dn_0: 0.0005 (0.0006)  loss_mal_dn_1: 0.6172 (0.6191)  loss_bbox_dn_1: 0.5016 (0.4876)  loss_giou_dn_1: 1.3619 (1.3587)  loss_fgl_dn_1: 0.7959 (0.7990)  loss_ddf_dn_1: 0.0001 (0.0001)  loss_mal_dn_2: 0.6182 (0.6198)  loss_bbox_dn_2: 0.5006 (0.4872)  loss_giou_dn_2: 1.3612 (1.3583)  loss_fgl_dn_2: 0.7961 (0.7989)  loss_mal_dn_pre: 0.6206 (0.6211)  loss_bbox_dn_pre: 0.5051 (0.4915)  loss_giou_dn_pre: 1.3601 (1.3566)  time: 0.6081  data: 0.1382  max mem: 10201\n",
      "Epoch: [23] Total time: 0:00:09 (0.6129 s / it)\n",
      "Averaged stats: lr: 0.000200  loss: 28.0982 (28.0281)  loss_mal: 0.7178 (0.7048)  loss_bbox: 0.5900 (0.5943)  loss_giou: 1.3618 (1.3774)  loss_fgl: 0.7983 (0.7682)  loss_mal_aux_0: 0.7310 (0.7114)  loss_bbox_aux_0: 0.5895 (0.5953)  loss_giou_aux_0: 1.3623 (1.3783)  loss_fgl_aux_0: 0.7987 (0.7682)  loss_ddf_aux_0: 0.0009 (0.0009)  loss_mal_aux_1: 0.7163 (0.7055)  loss_bbox_aux_1: 0.5893 (0.5945)  loss_giou_aux_1: 1.3623 (1.3781)  loss_fgl_aux_1: 0.7981 (0.7679)  loss_ddf_aux_1: 0.0001 (0.0001)  loss_mal_pre: 0.7246 (0.7095)  loss_bbox_pre: 0.5913 (0.5981)  loss_giou_pre: 1.3615 (1.3773)  loss_mal_enc_0: 0.7114 (0.7021)  loss_bbox_enc_0: 0.6134 (0.6157)  loss_giou_enc_0: 1.3981 (1.4160)  loss_mal_dn_0: 0.6196 (0.6200)  loss_bbox_dn_0: 0.5023 (0.4881)  loss_giou_dn_0: 1.3623 (1.3588)  loss_fgl_dn_0: 0.7957 (0.7990)  loss_ddf_dn_0: 0.0005 (0.0006)  loss_mal_dn_1: 0.6172 (0.6191)  loss_bbox_dn_1: 0.5016 (0.4876)  loss_giou_dn_1: 1.3619 (1.3587)  loss_fgl_dn_1: 0.7959 (0.7990)  loss_ddf_dn_1: 0.0001 (0.0001)  loss_mal_dn_2: 0.6182 (0.6198)  loss_bbox_dn_2: 0.5006 (0.4872)  loss_giou_dn_2: 1.3612 (1.3583)  loss_fgl_dn_2: 0.7961 (0.7989)  loss_mal_dn_pre: 0.6206 (0.6211)  loss_bbox_dn_pre: 0.5051 (0.4915)  loss_giou_dn_pre: 1.3601 (1.3566)\n"
     ]
    },
    {
     "name": "stderr",
     "output_type": "stream",
     "text": [
      "\u001b[32m2025-03-10 16:20:39.420\u001b[0m | \u001b[1mINFO    \u001b[0m | \u001b[36mdeimkit.trainer\u001b[0m:\u001b[36m_save_checkpoint\u001b[0m:\u001b[36m380\u001b[0m - \u001b[1mCheckpoint saved to outputs/deim_hgnetv2_s_coco_ema_tune/checkpoint0023.pth\u001b[0m\n",
      "\u001b[32m2025-03-10 16:20:39.422\u001b[0m | \u001b[1mINFO    \u001b[0m | \u001b[36mdeimkit.trainer\u001b[0m:\u001b[36mevaluate\u001b[0m:\u001b[36m331\u001b[0m - \u001b[1mEvaluating model...\u001b[0m\n"
     ]
    },
    {
     "name": "stdout",
     "output_type": "stream",
     "text": [
      "Test:  [0/5]  eta: 0:00:03    time: 0.7130  data: 0.5975  max mem: 10201\n"
     ]
    },
    {
     "name": "stderr",
     "output_type": "stream",
     "text": [
      "\u001b[32m2025-03-10 16:20:40.856\u001b[0m | \u001b[1mINFO    \u001b[0m | \u001b[36mdeimkit.trainer\u001b[0m:\u001b[36m_save_checkpoint\u001b[0m:\u001b[36m363\u001b[0m - \u001b[1mSaving checkpoint to outputs/deim_hgnetv2_s_coco_ema_tune/best.pth\u001b[0m\n"
     ]
    },
    {
     "name": "stdout",
     "output_type": "stream",
     "text": [
      "Test:  [4/5]  eta: 0:00:00    time: 0.2708  data: 0.1378  max mem: 10201\n",
      "Test: Total time: 0:00:01 (0.2827 s / it)\n",
      "Averaged stats: \n",
      "Accumulating evaluation results...\n",
      "COCOeval_opt.accumulate() finished...\n",
      "DONE (t=0.01s).\n",
      "IoU metric: bbox\n",
      " Average Precision  (AP) @[ IoU=0.50:0.95 | area=   all | maxDets=100 ] = 0.040\n",
      " Average Precision  (AP) @[ IoU=0.50      | area=   all | maxDets=100 ] = 0.123\n",
      " Average Precision  (AP) @[ IoU=0.75      | area=   all | maxDets=100 ] = 0.013\n",
      " Average Precision  (AP) @[ IoU=0.50:0.95 | area= small | maxDets=100 ] = 0.000\n",
      " Average Precision  (AP) @[ IoU=0.50:0.95 | area=medium | maxDets=100 ] = 0.003\n",
      " Average Precision  (AP) @[ IoU=0.50:0.95 | area= large | maxDets=100 ] = 0.054\n",
      " Average Recall     (AR) @[ IoU=0.50:0.95 | area=   all | maxDets=  1 ] = 0.062\n",
      " Average Recall     (AR) @[ IoU=0.50:0.95 | area=   all | maxDets= 10 ] = 0.110\n",
      " Average Recall     (AR) @[ IoU=0.50:0.95 | area=   all | maxDets=100 ] = 0.170\n",
      " Average Recall     (AR) @[ IoU=0.50:0.95 | area= small | maxDets=100 ] = 0.000\n",
      " Average Recall     (AR) @[ IoU=0.50:0.95 | area=medium | maxDets=100 ] = 0.118\n",
      " Average Recall     (AR) @[ IoU=0.50:0.95 | area= large | maxDets=100 ] = 0.177\n",
      " Average Recall     (AR) @[ IoU=0.50      | area=   all | maxDets=100 ] = 0.445\n",
      " Average Recall     (AR) @[ IoU=0.75      | area=   all | maxDets=100 ] = 0.083\n"
     ]
    },
    {
     "name": "stderr",
     "output_type": "stream",
     "text": [
      "\u001b[32m2025-03-10 16:20:41.250\u001b[0m | \u001b[1mINFO    \u001b[0m | \u001b[36mdeimkit.trainer\u001b[0m:\u001b[36m_save_checkpoint\u001b[0m:\u001b[36m380\u001b[0m - \u001b[1mCheckpoint saved to outputs/deim_hgnetv2_s_coco_ema_tune/best.pth\u001b[0m\n",
      "\u001b[32m2025-03-10 16:20:41.252\u001b[0m | \u001b[1mINFO    \u001b[0m | \u001b[36mdeimkit.trainer\u001b[0m:\u001b[36mtrain\u001b[0m:\u001b[36m312\u001b[0m - \u001b[1mEpoch 23 - Train loss: 28.0281, Eval mAP: 0.0403\u001b[0m\n",
      "\u001b[32m2025-03-10 16:20:41.252\u001b[0m | \u001b[1mINFO    \u001b[0m | \u001b[36mdeimkit.trainer\u001b[0m:\u001b[36mtrain\u001b[0m:\u001b[36m315\u001b[0m - \u001b[1mBest stats: {'epoch': 23, 'coco_eval_bbox': 0.0403283108432195}\u001b[0m\n"
     ]
    },
    {
     "name": "stdout",
     "output_type": "stream",
     "text": [
      "Epoch: [24]  [ 0/15]  eta: 0:00:28  lr: 0.000200  loss: 28.5438 (28.5438)  loss_mal: 0.7866 (0.7866)  loss_bbox: 0.5934 (0.5934)  loss_giou: 1.3115 (1.3115)  loss_fgl: 0.8142 (0.8142)  loss_mal_aux_0: 0.7925 (0.7925)  loss_bbox_aux_0: 0.5986 (0.5986)  loss_giou_aux_0: 1.3155 (1.3155)  loss_fgl_aux_0: 0.8125 (0.8125)  loss_ddf_aux_0: 0.0009 (0.0009)  loss_mal_aux_1: 0.7881 (0.7881)  loss_bbox_aux_1: 0.5961 (0.5961)  loss_giou_aux_1: 1.3142 (1.3142)  loss_fgl_aux_1: 0.8127 (0.8127)  loss_ddf_aux_1: 0.0001 (0.0001)  loss_mal_pre: 0.7896 (0.7896)  loss_bbox_pre: 0.6030 (0.6030)  loss_giou_pre: 1.3130 (1.3130)  loss_mal_enc_0: 0.7749 (0.7749)  loss_bbox_enc_0: 0.6384 (0.6384)  loss_giou_enc_0: 1.3885 (1.3885)  loss_mal_dn_0: 0.6431 (0.6431)  loss_bbox_dn_0: 0.5348 (0.5348)  loss_giou_dn_0: 1.3211 (1.3211)  loss_fgl_dn_0: 0.8349 (0.8349)  loss_ddf_dn_0: 0.0005 (0.0005)  loss_mal_dn_1: 0.6431 (0.6431)  loss_bbox_dn_1: 0.5341 (0.5341)  loss_giou_dn_1: 1.3204 (1.3204)  loss_fgl_dn_1: 0.8351 (0.8351)  loss_ddf_dn_1: 0.0001 (0.0001)  loss_mal_dn_2: 0.6411 (0.6411)  loss_bbox_dn_2: 0.5340 (0.5340)  loss_giou_dn_2: 1.3195 (1.3195)  loss_fgl_dn_2: 0.8350 (0.8350)  loss_mal_dn_pre: 0.6450 (0.6450)  loss_bbox_dn_pre: 0.5390 (0.5390)  loss_giou_dn_pre: 1.3188 (1.3188)  time: 1.8855  data: 1.3209  max mem: 10201\n"
     ]
    },
    {
     "name": "stderr",
     "output_type": "stream",
     "text": [
      "\u001b[32m2025-03-10 16:20:49.984\u001b[0m | \u001b[1mINFO    \u001b[0m | \u001b[36mdeimkit.trainer\u001b[0m:\u001b[36mevaluate\u001b[0m:\u001b[36m331\u001b[0m - \u001b[1mEvaluating model...\u001b[0m\n"
     ]
    },
    {
     "name": "stdout",
     "output_type": "stream",
     "text": [
      "Epoch: [24]  [14/15]  eta: 0:00:00  lr: 0.000200  loss: 28.1500 (28.1628)  loss_mal: 0.6704 (0.6797)  loss_bbox: 0.6264 (0.6066)  loss_giou: 1.4335 (1.4194)  loss_fgl: 0.7335 (0.7464)  loss_mal_aux_0: 0.6743 (0.6859)  loss_bbox_aux_0: 0.6282 (0.6089)  loss_giou_aux_0: 1.4327 (1.4199)  loss_fgl_aux_0: 0.7334 (0.7460)  loss_ddf_aux_0: 0.0009 (0.0009)  loss_mal_aux_1: 0.6689 (0.6802)  loss_bbox_aux_1: 0.6273 (0.6076)  loss_giou_aux_1: 1.4338 (1.4201)  loss_fgl_aux_1: 0.7334 (0.7459)  loss_ddf_aux_1: 0.0001 (0.0001)  loss_mal_pre: 0.6772 (0.6856)  loss_bbox_pre: 0.6309 (0.6121)  loss_giou_pre: 1.4285 (1.4162)  loss_mal_enc_0: 0.6621 (0.6711)  loss_bbox_enc_0: 0.6465 (0.6350)  loss_giou_enc_0: 1.4546 (1.4581)  loss_mal_dn_0: 0.6250 (0.6256)  loss_bbox_dn_0: 0.5140 (0.4959)  loss_giou_dn_0: 1.3535 (1.3541)  loss_fgl_dn_0: 0.8029 (0.8058)  loss_ddf_dn_0: 0.0006 (0.0006)  loss_mal_dn_1: 0.6230 (0.6238)  loss_bbox_dn_1: 0.5135 (0.4959)  loss_giou_dn_1: 1.3534 (1.3537)  loss_fgl_dn_1: 0.8031 (0.8060)  loss_ddf_dn_1: 0.0002 (0.0001)  loss_mal_dn_2: 0.6245 (0.6243)  loss_bbox_dn_2: 0.5125 (0.4954)  loss_giou_dn_2: 1.3535 (1.3533)  loss_fgl_dn_2: 0.8027 (0.8059)  loss_mal_dn_pre: 0.6260 (0.6262)  loss_bbox_dn_pre: 0.5177 (0.4978)  loss_giou_dn_pre: 1.3521 (1.3528)  time: 0.5769  data: 0.1069  max mem: 10201\n",
      "Epoch: [24] Total time: 0:00:08 (0.5809 s / it)\n",
      "Averaged stats: lr: 0.000200  loss: 28.1500 (28.1628)  loss_mal: 0.6704 (0.6797)  loss_bbox: 0.6264 (0.6066)  loss_giou: 1.4335 (1.4194)  loss_fgl: 0.7335 (0.7464)  loss_mal_aux_0: 0.6743 (0.6859)  loss_bbox_aux_0: 0.6282 (0.6089)  loss_giou_aux_0: 1.4327 (1.4199)  loss_fgl_aux_0: 0.7334 (0.7460)  loss_ddf_aux_0: 0.0009 (0.0009)  loss_mal_aux_1: 0.6689 (0.6802)  loss_bbox_aux_1: 0.6273 (0.6076)  loss_giou_aux_1: 1.4338 (1.4201)  loss_fgl_aux_1: 0.7334 (0.7459)  loss_ddf_aux_1: 0.0001 (0.0001)  loss_mal_pre: 0.6772 (0.6856)  loss_bbox_pre: 0.6309 (0.6121)  loss_giou_pre: 1.4285 (1.4162)  loss_mal_enc_0: 0.6621 (0.6711)  loss_bbox_enc_0: 0.6465 (0.6350)  loss_giou_enc_0: 1.4546 (1.4581)  loss_mal_dn_0: 0.6250 (0.6256)  loss_bbox_dn_0: 0.5140 (0.4959)  loss_giou_dn_0: 1.3535 (1.3541)  loss_fgl_dn_0: 0.8029 (0.8058)  loss_ddf_dn_0: 0.0006 (0.0006)  loss_mal_dn_1: 0.6230 (0.6238)  loss_bbox_dn_1: 0.5135 (0.4959)  loss_giou_dn_1: 1.3534 (1.3537)  loss_fgl_dn_1: 0.8031 (0.8060)  loss_ddf_dn_1: 0.0002 (0.0001)  loss_mal_dn_2: 0.6245 (0.6243)  loss_bbox_dn_2: 0.5125 (0.4954)  loss_giou_dn_2: 1.3535 (1.3533)  loss_fgl_dn_2: 0.8027 (0.8059)  loss_mal_dn_pre: 0.6260 (0.6262)  loss_bbox_dn_pre: 0.5177 (0.4978)  loss_giou_dn_pre: 1.3521 (1.3528)\n",
      "Test:  [0/5]  eta: 0:00:03    time: 0.7647  data: 0.6538  max mem: 10201\n"
     ]
    },
    {
     "name": "stderr",
     "output_type": "stream",
     "text": [
      "\u001b[32m2025-03-10 16:20:51.452\u001b[0m | \u001b[1mINFO    \u001b[0m | \u001b[36mdeimkit.trainer\u001b[0m:\u001b[36mtrain\u001b[0m:\u001b[36m312\u001b[0m - \u001b[1mEpoch 24 - Train loss: 28.1628, Eval mAP: 0.0155\u001b[0m\n",
      "\u001b[32m2025-03-10 16:20:51.452\u001b[0m | \u001b[1mINFO    \u001b[0m | \u001b[36mdeimkit.trainer\u001b[0m:\u001b[36mtrain\u001b[0m:\u001b[36m315\u001b[0m - \u001b[1mBest stats: {'epoch': 23, 'coco_eval_bbox': 0.0403283108432195}\u001b[0m\n"
     ]
    },
    {
     "name": "stdout",
     "output_type": "stream",
     "text": [
      "Test:  [4/5]  eta: 0:00:00    time: 0.2742  data: 0.1431  max mem: 10201\n",
      "Test: Total time: 0:00:01 (0.2896 s / it)\n",
      "Averaged stats: \n",
      "Accumulating evaluation results...\n",
      "COCOeval_opt.accumulate() finished...\n",
      "DONE (t=0.01s).\n",
      "IoU metric: bbox\n",
      " Average Precision  (AP) @[ IoU=0.50:0.95 | area=   all | maxDets=100 ] = 0.015\n",
      " Average Precision  (AP) @[ IoU=0.50      | area=   all | maxDets=100 ] = 0.063\n",
      " Average Precision  (AP) @[ IoU=0.75      | area=   all | maxDets=100 ] = 0.005\n",
      " Average Precision  (AP) @[ IoU=0.50:0.95 | area= small | maxDets=100 ] = 0.000\n",
      " Average Precision  (AP) @[ IoU=0.50:0.95 | area=medium | maxDets=100 ] = 0.007\n",
      " Average Precision  (AP) @[ IoU=0.50:0.95 | area= large | maxDets=100 ] = 0.026\n",
      " Average Recall     (AR) @[ IoU=0.50:0.95 | area=   all | maxDets=  1 ] = 0.022\n",
      " Average Recall     (AR) @[ IoU=0.50:0.95 | area=   all | maxDets= 10 ] = 0.050\n",
      " Average Recall     (AR) @[ IoU=0.50:0.95 | area=   all | maxDets=100 ] = 0.082\n",
      " Average Recall     (AR) @[ IoU=0.50:0.95 | area= small | maxDets=100 ] = 0.000\n",
      " Average Recall     (AR) @[ IoU=0.50:0.95 | area=medium | maxDets=100 ] = 0.260\n",
      " Average Recall     (AR) @[ IoU=0.50:0.95 | area= large | maxDets=100 ] = 0.076\n",
      " Average Recall     (AR) @[ IoU=0.50      | area=   all | maxDets=100 ] = 0.271\n",
      " Average Recall     (AR) @[ IoU=0.75      | area=   all | maxDets=100 ] = 0.031\n",
      "Epoch: [25]  [ 0/15]  eta: 0:00:30  lr: 0.000200  loss: 29.4986 (29.4986)  loss_mal: 0.6616 (0.6616)  loss_bbox: 0.7586 (0.7586)  loss_giou: 1.4799 (1.4799)  loss_fgl: 0.7154 (0.7154)  loss_mal_aux_0: 0.6851 (0.6851)  loss_bbox_aux_0: 0.7590 (0.7590)  loss_giou_aux_0: 1.4814 (1.4814)  loss_fgl_aux_0: 0.7142 (0.7142)  loss_ddf_aux_0: 0.0010 (0.0010)  loss_mal_aux_1: 0.6670 (0.6670)  loss_bbox_aux_1: 0.7590 (0.7590)  loss_giou_aux_1: 1.4813 (1.4813)  loss_fgl_aux_1: 0.7144 (0.7144)  loss_ddf_aux_1: 0.0002 (0.0002)  loss_mal_pre: 0.6851 (0.6851)  loss_bbox_pre: 0.7580 (0.7580)  loss_giou_pre: 1.4766 (1.4766)  loss_mal_enc_0: 0.6636 (0.6636)  loss_bbox_enc_0: 0.7781 (0.7781)  loss_giou_enc_0: 1.5126 (1.5126)  loss_mal_dn_0: 0.6387 (0.6387)  loss_bbox_dn_0: 0.5981 (0.5981)  loss_giou_dn_0: 1.3355 (1.3355)  loss_fgl_dn_0: 0.8208 (0.8208)  loss_ddf_dn_0: 0.0007 (0.0007)  loss_mal_dn_1: 0.6357 (0.6357)  loss_bbox_dn_1: 0.5988 (0.5988)  loss_giou_dn_1: 1.3353 (1.3353)  loss_fgl_dn_1: 0.8210 (0.8210)  loss_ddf_dn_1: 0.0002 (0.0002)  loss_mal_dn_2: 0.6343 (0.6343)  loss_bbox_dn_2: 0.5990 (0.5990)  loss_giou_dn_2: 1.3351 (1.3351)  loss_fgl_dn_2: 0.8209 (0.8209)  loss_mal_dn_pre: 0.6377 (0.6377)  loss_bbox_dn_pre: 0.5981 (0.5981)  loss_giou_dn_pre: 1.3366 (1.3366)  time: 2.0330  data: 1.4505  max mem: 10201\n"
     ]
    },
    {
     "name": "stderr",
     "output_type": "stream",
     "text": [
      "\u001b[32m2025-03-10 16:20:59.972\u001b[0m | \u001b[1mINFO    \u001b[0m | \u001b[36mdeimkit.trainer\u001b[0m:\u001b[36mevaluate\u001b[0m:\u001b[36m331\u001b[0m - \u001b[1mEvaluating model...\u001b[0m\n"
     ]
    },
    {
     "name": "stdout",
     "output_type": "stream",
     "text": [
      "Epoch: [25]  [14/15]  eta: 0:00:00  lr: 0.000200  loss: 28.2277 (28.3726)  loss_mal: 0.6973 (0.6947)  loss_bbox: 0.6433 (0.6418)  loss_giou: 1.3593 (1.3869)  loss_fgl: 0.7665 (0.7585)  loss_mal_aux_0: 0.7085 (0.7011)  loss_bbox_aux_0: 0.6428 (0.6427)  loss_giou_aux_0: 1.3606 (1.3893)  loss_fgl_aux_0: 0.7669 (0.7578)  loss_ddf_aux_0: 0.0010 (0.0010)  loss_mal_aux_1: 0.7017 (0.6945)  loss_bbox_aux_1: 0.6427 (0.6420)  loss_giou_aux_1: 1.3603 (1.3886)  loss_fgl_aux_1: 0.7665 (0.7577)  loss_ddf_aux_1: 0.0002 (0.0002)  loss_mal_pre: 0.7065 (0.7003)  loss_bbox_pre: 0.6446 (0.6434)  loss_giou_pre: 1.3605 (1.3879)  loss_mal_enc_0: 0.7026 (0.7030)  loss_bbox_enc_0: 0.6566 (0.6714)  loss_giou_enc_0: 1.4437 (1.4414)  loss_mal_dn_0: 0.6289 (0.6289)  loss_bbox_dn_0: 0.4933 (0.5126)  loss_giou_dn_0: 1.3423 (1.3420)  loss_fgl_dn_0: 0.8107 (0.8127)  loss_ddf_dn_0: 0.0006 (0.0006)  loss_mal_dn_1: 0.6270 (0.6271)  loss_bbox_dn_1: 0.4936 (0.5130)  loss_giou_dn_1: 1.3420 (1.3414)  loss_fgl_dn_1: 0.8114 (0.8130)  loss_ddf_dn_1: 0.0002 (0.0002)  loss_mal_dn_2: 0.6260 (0.6273)  loss_bbox_dn_2: 0.4940 (0.5130)  loss_giou_dn_2: 1.3405 (1.3406)  loss_fgl_dn_2: 0.8121 (0.8133)  loss_mal_dn_pre: 0.6279 (0.6280)  loss_bbox_dn_pre: 0.4934 (0.5118)  loss_giou_dn_pre: 1.3430 (1.3428)  time: 0.5627  data: 0.1160  max mem: 10201\n",
      "Epoch: [25] Total time: 0:00:08 (0.5665 s / it)\n",
      "Averaged stats: lr: 0.000200  loss: 28.2277 (28.3726)  loss_mal: 0.6973 (0.6947)  loss_bbox: 0.6433 (0.6418)  loss_giou: 1.3593 (1.3869)  loss_fgl: 0.7665 (0.7585)  loss_mal_aux_0: 0.7085 (0.7011)  loss_bbox_aux_0: 0.6428 (0.6427)  loss_giou_aux_0: 1.3606 (1.3893)  loss_fgl_aux_0: 0.7669 (0.7578)  loss_ddf_aux_0: 0.0010 (0.0010)  loss_mal_aux_1: 0.7017 (0.6945)  loss_bbox_aux_1: 0.6427 (0.6420)  loss_giou_aux_1: 1.3603 (1.3886)  loss_fgl_aux_1: 0.7665 (0.7577)  loss_ddf_aux_1: 0.0002 (0.0002)  loss_mal_pre: 0.7065 (0.7003)  loss_bbox_pre: 0.6446 (0.6434)  loss_giou_pre: 1.3605 (1.3879)  loss_mal_enc_0: 0.7026 (0.7030)  loss_bbox_enc_0: 0.6566 (0.6714)  loss_giou_enc_0: 1.4437 (1.4414)  loss_mal_dn_0: 0.6289 (0.6289)  loss_bbox_dn_0: 0.4933 (0.5126)  loss_giou_dn_0: 1.3423 (1.3420)  loss_fgl_dn_0: 0.8107 (0.8127)  loss_ddf_dn_0: 0.0006 (0.0006)  loss_mal_dn_1: 0.6270 (0.6271)  loss_bbox_dn_1: 0.4936 (0.5130)  loss_giou_dn_1: 1.3420 (1.3414)  loss_fgl_dn_1: 0.8114 (0.8130)  loss_ddf_dn_1: 0.0002 (0.0002)  loss_mal_dn_2: 0.6260 (0.6273)  loss_bbox_dn_2: 0.4940 (0.5130)  loss_giou_dn_2: 1.3405 (1.3406)  loss_fgl_dn_2: 0.8121 (0.8133)  loss_mal_dn_pre: 0.6279 (0.6280)  loss_bbox_dn_pre: 0.4934 (0.5118)  loss_giou_dn_pre: 1.3430 (1.3428)\n",
      "Test:  [0/5]  eta: 0:00:03    time: 0.7646  data: 0.6509  max mem: 10201\n"
     ]
    },
    {
     "name": "stderr",
     "output_type": "stream",
     "text": [
      "\u001b[32m2025-03-10 16:21:01.458\u001b[0m | \u001b[1mINFO    \u001b[0m | \u001b[36mdeimkit.trainer\u001b[0m:\u001b[36mtrain\u001b[0m:\u001b[36m312\u001b[0m - \u001b[1mEpoch 25 - Train loss: 28.3726, Eval mAP: 0.0201\u001b[0m\n",
      "\u001b[32m2025-03-10 16:21:01.459\u001b[0m | \u001b[1mINFO    \u001b[0m | \u001b[36mdeimkit.trainer\u001b[0m:\u001b[36mtrain\u001b[0m:\u001b[36m315\u001b[0m - \u001b[1mBest stats: {'epoch': 23, 'coco_eval_bbox': 0.0403283108432195}\u001b[0m\n"
     ]
    },
    {
     "name": "stdout",
     "output_type": "stream",
     "text": [
      "Test:  [4/5]  eta: 0:00:00    time: 0.2804  data: 0.1462  max mem: 10201\n",
      "Test: Total time: 0:00:01 (0.2931 s / it)\n",
      "Averaged stats: \n",
      "Accumulating evaluation results...\n",
      "COCOeval_opt.accumulate() finished...\n",
      "DONE (t=0.01s).\n",
      "IoU metric: bbox\n",
      " Average Precision  (AP) @[ IoU=0.50:0.95 | area=   all | maxDets=100 ] = 0.020\n",
      " Average Precision  (AP) @[ IoU=0.50      | area=   all | maxDets=100 ] = 0.059\n",
      " Average Precision  (AP) @[ IoU=0.75      | area=   all | maxDets=100 ] = 0.014\n",
      " Average Precision  (AP) @[ IoU=0.50:0.95 | area= small | maxDets=100 ] = 0.000\n",
      " Average Precision  (AP) @[ IoU=0.50:0.95 | area=medium | maxDets=100 ] = 0.004\n",
      " Average Precision  (AP) @[ IoU=0.50:0.95 | area= large | maxDets=100 ] = 0.034\n",
      " Average Recall     (AR) @[ IoU=0.50:0.95 | area=   all | maxDets=  1 ] = 0.041\n",
      " Average Recall     (AR) @[ IoU=0.50:0.95 | area=   all | maxDets= 10 ] = 0.067\n",
      " Average Recall     (AR) @[ IoU=0.50:0.95 | area=   all | maxDets=100 ] = 0.131\n",
      " Average Recall     (AR) @[ IoU=0.50:0.95 | area= small | maxDets=100 ] = 0.000\n",
      " Average Recall     (AR) @[ IoU=0.50:0.95 | area=medium | maxDets=100 ] = 0.068\n",
      " Average Recall     (AR) @[ IoU=0.50:0.95 | area= large | maxDets=100 ] = 0.131\n",
      " Average Recall     (AR) @[ IoU=0.50      | area=   all | maxDets=100 ] = 0.357\n",
      " Average Recall     (AR) @[ IoU=0.75      | area=   all | maxDets=100 ] = 0.077\n",
      "Epoch: [26]  [ 0/15]  eta: 0:00:26  lr: 0.000200  loss: 28.3871 (28.3871)  loss_mal: 0.7490 (0.7490)  loss_bbox: 0.6059 (0.6059)  loss_giou: 1.3785 (1.3785)  loss_fgl: 0.7578 (0.7578)  loss_mal_aux_0: 0.7563 (0.7563)  loss_bbox_aux_0: 0.6078 (0.6078)  loss_giou_aux_0: 1.3797 (1.3797)  loss_fgl_aux_0: 0.7573 (0.7573)  loss_ddf_aux_0: 0.0009 (0.0009)  loss_mal_aux_1: 0.7607 (0.7607)  loss_bbox_aux_1: 0.6068 (0.6068)  loss_giou_aux_1: 1.3795 (1.3795)  loss_fgl_aux_1: 0.7573 (0.7573)  loss_ddf_aux_1: 0.0002 (0.0002)  loss_mal_pre: 0.7549 (0.7549)  loss_bbox_pre: 0.6094 (0.6094)  loss_giou_pre: 1.3778 (1.3778)  loss_mal_enc_0: 0.7095 (0.7095)  loss_bbox_enc_0: 0.6369 (0.6369)  loss_giou_enc_0: 1.4430 (1.4430)  loss_mal_dn_0: 0.6460 (0.6460)  loss_bbox_dn_0: 0.5046 (0.5046)  loss_giou_dn_0: 1.3177 (1.3177)  loss_fgl_dn_0: 0.8315 (0.8315)  loss_ddf_dn_0: 0.0005 (0.0005)  loss_mal_dn_1: 0.6426 (0.6426)  loss_bbox_dn_1: 0.5043 (0.5043)  loss_giou_dn_1: 1.3168 (1.3168)  loss_fgl_dn_1: 0.8325 (0.8325)  loss_ddf_dn_1: 0.0001 (0.0001)  loss_mal_dn_2: 0.6416 (0.6416)  loss_bbox_dn_2: 0.5029 (0.5029)  loss_giou_dn_2: 1.3144 (1.3144)  loss_fgl_dn_2: 0.8336 (0.8336)  loss_mal_dn_pre: 0.6460 (0.6460)  loss_bbox_dn_pre: 0.5057 (0.5057)  loss_giou_dn_pre: 1.3172 (1.3172)  time: 1.7829  data: 1.2502  max mem: 10201\n"
     ]
    },
    {
     "name": "stderr",
     "output_type": "stream",
     "text": [
      "\u001b[32m2025-03-10 16:21:10.104\u001b[0m | \u001b[1mINFO    \u001b[0m | \u001b[36mdeimkit.trainer\u001b[0m:\u001b[36mevaluate\u001b[0m:\u001b[36m331\u001b[0m - \u001b[1mEvaluating model...\u001b[0m\n"
     ]
    },
    {
     "name": "stdout",
     "output_type": "stream",
     "text": [
      "Epoch: [26]  [14/15]  eta: 0:00:00  lr: 0.000200  loss: 27.9464 (28.1470)  loss_mal: 0.6880 (0.6915)  loss_bbox: 0.5996 (0.6033)  loss_giou: 1.3852 (1.3936)  loss_fgl: 0.7578 (0.7573)  loss_mal_aux_0: 0.6958 (0.7008)  loss_bbox_aux_0: 0.6014 (0.6050)  loss_giou_aux_0: 1.3880 (1.3956)  loss_fgl_aux_0: 0.7577 (0.7566)  loss_ddf_aux_0: 0.0012 (0.0013)  loss_mal_aux_1: 0.6890 (0.6953)  loss_bbox_aux_1: 0.6005 (0.6041)  loss_giou_aux_1: 1.3868 (1.3947)  loss_fgl_aux_1: 0.7576 (0.7568)  loss_ddf_aux_1: 0.0003 (0.0003)  loss_mal_pre: 0.6968 (0.7003)  loss_bbox_pre: 0.6038 (0.6070)  loss_giou_pre: 1.3858 (1.3932)  loss_mal_enc_0: 0.6685 (0.6694)  loss_bbox_enc_0: 0.6369 (0.6381)  loss_giou_enc_0: 1.4546 (1.4623)  loss_mal_dn_0: 0.6313 (0.6316)  loss_bbox_dn_0: 0.4917 (0.4989)  loss_giou_dn_0: 1.3430 (1.3388)  loss_fgl_dn_0: 0.8130 (0.8159)  loss_ddf_dn_0: 0.0007 (0.0007)  loss_mal_dn_1: 0.6294 (0.6291)  loss_bbox_dn_1: 0.4916 (0.4987)  loss_giou_dn_1: 1.3426 (1.3384)  loss_fgl_dn_1: 0.8128 (0.8161)  loss_ddf_dn_1: 0.0002 (0.0002)  loss_mal_dn_2: 0.6294 (0.6286)  loss_bbox_dn_2: 0.4913 (0.4980)  loss_giou_dn_2: 1.3420 (1.3378)  loss_fgl_dn_2: 0.8124 (0.8161)  loss_mal_dn_pre: 0.6328 (0.6320)  loss_bbox_dn_pre: 0.4942 (0.5016)  loss_giou_dn_pre: 1.3410 (1.3379)  time: 0.5705  data: 0.1047  max mem: 10278\n",
      "Epoch: [26] Total time: 0:00:08 (0.5748 s / it)\n",
      "Averaged stats: lr: 0.000200  loss: 27.9464 (28.1470)  loss_mal: 0.6880 (0.6915)  loss_bbox: 0.5996 (0.6033)  loss_giou: 1.3852 (1.3936)  loss_fgl: 0.7578 (0.7573)  loss_mal_aux_0: 0.6958 (0.7008)  loss_bbox_aux_0: 0.6014 (0.6050)  loss_giou_aux_0: 1.3880 (1.3956)  loss_fgl_aux_0: 0.7577 (0.7566)  loss_ddf_aux_0: 0.0012 (0.0013)  loss_mal_aux_1: 0.6890 (0.6953)  loss_bbox_aux_1: 0.6005 (0.6041)  loss_giou_aux_1: 1.3868 (1.3947)  loss_fgl_aux_1: 0.7576 (0.7568)  loss_ddf_aux_1: 0.0003 (0.0003)  loss_mal_pre: 0.6968 (0.7003)  loss_bbox_pre: 0.6038 (0.6070)  loss_giou_pre: 1.3858 (1.3932)  loss_mal_enc_0: 0.6685 (0.6694)  loss_bbox_enc_0: 0.6369 (0.6381)  loss_giou_enc_0: 1.4546 (1.4623)  loss_mal_dn_0: 0.6313 (0.6316)  loss_bbox_dn_0: 0.4917 (0.4989)  loss_giou_dn_0: 1.3430 (1.3388)  loss_fgl_dn_0: 0.8130 (0.8159)  loss_ddf_dn_0: 0.0007 (0.0007)  loss_mal_dn_1: 0.6294 (0.6291)  loss_bbox_dn_1: 0.4916 (0.4987)  loss_giou_dn_1: 1.3426 (1.3384)  loss_fgl_dn_1: 0.8128 (0.8161)  loss_ddf_dn_1: 0.0002 (0.0002)  loss_mal_dn_2: 0.6294 (0.6286)  loss_bbox_dn_2: 0.4913 (0.4980)  loss_giou_dn_2: 1.3420 (1.3378)  loss_fgl_dn_2: 0.8124 (0.8161)  loss_mal_dn_pre: 0.6328 (0.6320)  loss_bbox_dn_pre: 0.4942 (0.5016)  loss_giou_dn_pre: 1.3410 (1.3379)\n",
      "Test:  [0/5]  eta: 0:00:03    time: 0.7703  data: 0.6616  max mem: 10278\n"
     ]
    },
    {
     "name": "stderr",
     "output_type": "stream",
     "text": [
      "\u001b[32m2025-03-10 16:21:11.387\u001b[0m | \u001b[1mINFO    \u001b[0m | \u001b[36mdeimkit.trainer\u001b[0m:\u001b[36mtrain\u001b[0m:\u001b[36m312\u001b[0m - \u001b[1mEpoch 26 - Train loss: 28.1470, Eval mAP: 0.0294\u001b[0m\n",
      "\u001b[32m2025-03-10 16:21:11.388\u001b[0m | \u001b[1mINFO    \u001b[0m | \u001b[36mdeimkit.trainer\u001b[0m:\u001b[36mtrain\u001b[0m:\u001b[36m315\u001b[0m - \u001b[1mBest stats: {'epoch': 23, 'coco_eval_bbox': 0.0403283108432195}\u001b[0m\n"
     ]
    },
    {
     "name": "stdout",
     "output_type": "stream",
     "text": [
      "Test:  [4/5]  eta: 0:00:00    time: 0.2409  data: 0.1417  max mem: 10278\n",
      "Test: Total time: 0:00:01 (0.2525 s / it)\n",
      "Averaged stats: \n",
      "Accumulating evaluation results...\n",
      "COCOeval_opt.accumulate() finished...\n",
      "DONE (t=0.01s).\n",
      "IoU metric: bbox\n",
      " Average Precision  (AP) @[ IoU=0.50:0.95 | area=   all | maxDets=100 ] = 0.029\n",
      " Average Precision  (AP) @[ IoU=0.50      | area=   all | maxDets=100 ] = 0.090\n",
      " Average Precision  (AP) @[ IoU=0.75      | area=   all | maxDets=100 ] = 0.015\n",
      " Average Precision  (AP) @[ IoU=0.50:0.95 | area= small | maxDets=100 ] = 0.000\n",
      " Average Precision  (AP) @[ IoU=0.50:0.95 | area=medium | maxDets=100 ] = 0.008\n",
      " Average Precision  (AP) @[ IoU=0.50:0.95 | area= large | maxDets=100 ] = 0.042\n",
      " Average Recall     (AR) @[ IoU=0.50:0.95 | area=   all | maxDets=  1 ] = 0.045\n",
      " Average Recall     (AR) @[ IoU=0.50:0.95 | area=   all | maxDets= 10 ] = 0.090\n",
      " Average Recall     (AR) @[ IoU=0.50:0.95 | area=   all | maxDets=100 ] = 0.132\n",
      " Average Recall     (AR) @[ IoU=0.50:0.95 | area= small | maxDets=100 ] = 0.000\n",
      " Average Recall     (AR) @[ IoU=0.50:0.95 | area=medium | maxDets=100 ] = 0.164\n",
      " Average Recall     (AR) @[ IoU=0.50:0.95 | area= large | maxDets=100 ] = 0.129\n",
      " Average Recall     (AR) @[ IoU=0.50      | area=   all | maxDets=100 ] = 0.353\n",
      " Average Recall     (AR) @[ IoU=0.75      | area=   all | maxDets=100 ] = 0.087\n",
      "Epoch: [27]  [ 0/15]  eta: 0:00:26  lr: 0.000200  loss: 27.5663 (27.5663)  loss_mal: 0.7427 (0.7427)  loss_bbox: 0.5266 (0.5266)  loss_giou: 1.2867 (1.2867)  loss_fgl: 0.8262 (0.8262)  loss_mal_aux_0: 0.7461 (0.7461)  loss_bbox_aux_0: 0.5300 (0.5300)  loss_giou_aux_0: 1.2888 (1.2888)  loss_fgl_aux_0: 0.8283 (0.8283)  loss_ddf_aux_0: 0.0017 (0.0017)  loss_mal_aux_1: 0.7324 (0.7324)  loss_bbox_aux_1: 0.5278 (0.5278)  loss_giou_aux_1: 1.2881 (1.2881)  loss_fgl_aux_1: 0.8267 (0.8267)  loss_ddf_aux_1: 0.0004 (0.0004)  loss_mal_pre: 0.7422 (0.7422)  loss_bbox_pre: 0.5363 (0.5363)  loss_giou_pre: 1.2897 (1.2897)  loss_mal_enc_0: 0.7168 (0.7168)  loss_bbox_enc_0: 0.5967 (0.5967)  loss_giou_enc_0: 1.3926 (1.3926)  loss_mal_dn_0: 0.6235 (0.6235)  loss_bbox_dn_0: 0.4608 (0.4608)  loss_giou_dn_0: 1.3462 (1.3462)  loss_fgl_dn_0: 0.8073 (0.8073)  loss_ddf_dn_0: 0.0008 (0.0008)  loss_mal_dn_1: 0.6187 (0.6187)  loss_bbox_dn_1: 0.4603 (0.4603)  loss_giou_dn_1: 1.3448 (1.3448)  loss_fgl_dn_1: 0.8082 (0.8082)  loss_ddf_dn_1: 0.0002 (0.0002)  loss_mal_dn_2: 0.6245 (0.6245)  loss_bbox_dn_2: 0.4593 (0.4593)  loss_giou_dn_2: 1.3421 (1.3421)  loss_fgl_dn_2: 0.8092 (0.8092)  loss_mal_dn_pre: 0.6240 (0.6240)  loss_bbox_dn_pre: 0.4636 (0.4636)  loss_giou_dn_pre: 1.3458 (1.3458)  time: 1.7577  data: 1.2405  max mem: 10278\n"
     ]
    },
    {
     "name": "stderr",
     "output_type": "stream",
     "text": [
      "\u001b[32m2025-03-10 16:21:20.546\u001b[0m | \u001b[1mINFO    \u001b[0m | \u001b[36mdeimkit.trainer\u001b[0m:\u001b[36m_save_checkpoint\u001b[0m:\u001b[36m363\u001b[0m - \u001b[1mSaving checkpoint to outputs/deim_hgnetv2_s_coco_ema_tune/checkpoint0027.pth\u001b[0m\n"
     ]
    },
    {
     "name": "stdout",
     "output_type": "stream",
     "text": [
      "Epoch: [27]  [14/15]  eta: 0:00:00  lr: 0.000200  loss: 29.1485 (29.2078)  loss_mal: 0.5615 (0.5910)  loss_bbox: 0.7417 (0.7791)  loss_giou: 1.5742 (1.6068)  loss_fgl: 0.6229 (0.6380)  loss_mal_aux_0: 0.5723 (0.5986)  loss_bbox_aux_0: 0.7421 (0.7800)  loss_giou_aux_0: 1.5733 (1.6079)  loss_fgl_aux_0: 0.6227 (0.6378)  loss_ddf_aux_0: 0.0015 (0.0014)  loss_mal_aux_1: 0.5674 (0.5924)  loss_bbox_aux_1: 0.7420 (0.7795)  loss_giou_aux_1: 1.5737 (1.6076)  loss_fgl_aux_1: 0.6229 (0.6378)  loss_ddf_aux_1: 0.0003 (0.0003)  loss_mal_pre: 0.5703 (0.5972)  loss_bbox_pre: 0.7469 (0.7853)  loss_giou_pre: 1.5716 (1.6058)  loss_mal_enc_0: 0.5674 (0.5882)  loss_bbox_enc_0: 0.7845 (0.8154)  loss_giou_enc_0: 1.6222 (1.6502)  loss_mal_dn_0: 0.6187 (0.6196)  loss_bbox_dn_0: 0.4930 (0.4982)  loss_giou_dn_0: 1.3613 (1.3596)  loss_fgl_dn_0: 0.7964 (0.7995)  loss_ddf_dn_0: 0.0008 (0.0008)  loss_mal_dn_1: 0.6177 (0.6178)  loss_bbox_dn_1: 0.4933 (0.4983)  loss_giou_dn_1: 1.3607 (1.3591)  loss_fgl_dn_1: 0.7963 (0.7996)  loss_ddf_dn_1: 0.0002 (0.0002)  loss_mal_dn_2: 0.6196 (0.6204)  loss_bbox_dn_2: 0.4930 (0.4976)  loss_giou_dn_2: 1.3609 (1.3583)  loss_fgl_dn_2: 0.7967 (0.7996)  loss_mal_dn_pre: 0.6191 (0.6203)  loss_bbox_dn_pre: 0.4943 (0.5000)  loss_giou_dn_pre: 1.3609 (1.3585)  time: 0.6043  data: 0.1262  max mem: 10278\n",
      "Epoch: [27] Total time: 0:00:09 (0.6094 s / it)\n",
      "Averaged stats: lr: 0.000200  loss: 29.1485 (29.2078)  loss_mal: 0.5615 (0.5910)  loss_bbox: 0.7417 (0.7791)  loss_giou: 1.5742 (1.6068)  loss_fgl: 0.6229 (0.6380)  loss_mal_aux_0: 0.5723 (0.5986)  loss_bbox_aux_0: 0.7421 (0.7800)  loss_giou_aux_0: 1.5733 (1.6079)  loss_fgl_aux_0: 0.6227 (0.6378)  loss_ddf_aux_0: 0.0015 (0.0014)  loss_mal_aux_1: 0.5674 (0.5924)  loss_bbox_aux_1: 0.7420 (0.7795)  loss_giou_aux_1: 1.5737 (1.6076)  loss_fgl_aux_1: 0.6229 (0.6378)  loss_ddf_aux_1: 0.0003 (0.0003)  loss_mal_pre: 0.5703 (0.5972)  loss_bbox_pre: 0.7469 (0.7853)  loss_giou_pre: 1.5716 (1.6058)  loss_mal_enc_0: 0.5674 (0.5882)  loss_bbox_enc_0: 0.7845 (0.8154)  loss_giou_enc_0: 1.6222 (1.6502)  loss_mal_dn_0: 0.6187 (0.6196)  loss_bbox_dn_0: 0.4930 (0.4982)  loss_giou_dn_0: 1.3613 (1.3596)  loss_fgl_dn_0: 0.7964 (0.7995)  loss_ddf_dn_0: 0.0008 (0.0008)  loss_mal_dn_1: 0.6177 (0.6178)  loss_bbox_dn_1: 0.4933 (0.4983)  loss_giou_dn_1: 1.3607 (1.3591)  loss_fgl_dn_1: 0.7963 (0.7996)  loss_ddf_dn_1: 0.0002 (0.0002)  loss_mal_dn_2: 0.6196 (0.6204)  loss_bbox_dn_2: 0.4930 (0.4976)  loss_giou_dn_2: 1.3609 (1.3583)  loss_fgl_dn_2: 0.7967 (0.7996)  loss_mal_dn_pre: 0.6191 (0.6203)  loss_bbox_dn_pre: 0.4943 (0.5000)  loss_giou_dn_pre: 1.3609 (1.3585)\n"
     ]
    },
    {
     "name": "stderr",
     "output_type": "stream",
     "text": [
      "\u001b[32m2025-03-10 16:21:20.804\u001b[0m | \u001b[1mINFO    \u001b[0m | \u001b[36mdeimkit.trainer\u001b[0m:\u001b[36m_save_checkpoint\u001b[0m:\u001b[36m380\u001b[0m - \u001b[1mCheckpoint saved to outputs/deim_hgnetv2_s_coco_ema_tune/checkpoint0027.pth\u001b[0m\n",
      "\u001b[32m2025-03-10 16:21:20.805\u001b[0m | \u001b[1mINFO    \u001b[0m | \u001b[36mdeimkit.trainer\u001b[0m:\u001b[36mevaluate\u001b[0m:\u001b[36m331\u001b[0m - \u001b[1mEvaluating model...\u001b[0m\n"
     ]
    },
    {
     "name": "stdout",
     "output_type": "stream",
     "text": [
      "Test:  [0/5]  eta: 0:00:04    time: 0.8335  data: 0.7251  max mem: 10278\n"
     ]
    },
    {
     "name": "stderr",
     "output_type": "stream",
     "text": [
      "\u001b[32m2025-03-10 16:21:22.322\u001b[0m | \u001b[1mINFO    \u001b[0m | \u001b[36mdeimkit.trainer\u001b[0m:\u001b[36m_save_checkpoint\u001b[0m:\u001b[36m363\u001b[0m - \u001b[1mSaving checkpoint to outputs/deim_hgnetv2_s_coco_ema_tune/best.pth\u001b[0m\n"
     ]
    },
    {
     "name": "stdout",
     "output_type": "stream",
     "text": [
      "Test:  [4/5]  eta: 0:00:00    time: 0.2872  data: 0.1565  max mem: 10278\n",
      "Test: Total time: 0:00:01 (0.2994 s / it)\n",
      "Averaged stats: \n",
      "Accumulating evaluation results...\n",
      "COCOeval_opt.accumulate() finished...\n",
      "DONE (t=0.01s).\n",
      "IoU metric: bbox\n",
      " Average Precision  (AP) @[ IoU=0.50:0.95 | area=   all | maxDets=100 ] = 0.042\n",
      " Average Precision  (AP) @[ IoU=0.50      | area=   all | maxDets=100 ] = 0.107\n",
      " Average Precision  (AP) @[ IoU=0.75      | area=   all | maxDets=100 ] = 0.032\n",
      " Average Precision  (AP) @[ IoU=0.50:0.95 | area= small | maxDets=100 ] = 0.000\n",
      " Average Precision  (AP) @[ IoU=0.50:0.95 | area=medium | maxDets=100 ] = 0.000\n",
      " Average Precision  (AP) @[ IoU=0.50:0.95 | area= large | maxDets=100 ] = 0.048\n",
      " Average Recall     (AR) @[ IoU=0.50:0.95 | area=   all | maxDets=  1 ] = 0.067\n",
      " Average Recall     (AR) @[ IoU=0.50:0.95 | area=   all | maxDets= 10 ] = 0.114\n",
      " Average Recall     (AR) @[ IoU=0.50:0.95 | area=   all | maxDets=100 ] = 0.134\n",
      " Average Recall     (AR) @[ IoU=0.50:0.95 | area= small | maxDets=100 ] = 0.000\n",
      " Average Recall     (AR) @[ IoU=0.50:0.95 | area=medium | maxDets=100 ] = 0.023\n",
      " Average Recall     (AR) @[ IoU=0.50:0.95 | area= large | maxDets=100 ] = 0.136\n",
      " Average Recall     (AR) @[ IoU=0.50      | area=   all | maxDets=100 ] = 0.329\n",
      " Average Recall     (AR) @[ IoU=0.75      | area=   all | maxDets=100 ] = 0.111\n"
     ]
    },
    {
     "name": "stderr",
     "output_type": "stream",
     "text": [
      "\u001b[32m2025-03-10 16:21:22.747\u001b[0m | \u001b[1mINFO    \u001b[0m | \u001b[36mdeimkit.trainer\u001b[0m:\u001b[36m_save_checkpoint\u001b[0m:\u001b[36m380\u001b[0m - \u001b[1mCheckpoint saved to outputs/deim_hgnetv2_s_coco_ema_tune/best.pth\u001b[0m\n",
      "\u001b[32m2025-03-10 16:21:22.750\u001b[0m | \u001b[1mINFO    \u001b[0m | \u001b[36mdeimkit.trainer\u001b[0m:\u001b[36mtrain\u001b[0m:\u001b[36m312\u001b[0m - \u001b[1mEpoch 27 - Train loss: 29.2078, Eval mAP: 0.0418\u001b[0m\n",
      "\u001b[32m2025-03-10 16:21:22.750\u001b[0m | \u001b[1mINFO    \u001b[0m | \u001b[36mdeimkit.trainer\u001b[0m:\u001b[36mtrain\u001b[0m:\u001b[36m315\u001b[0m - \u001b[1mBest stats: {'epoch': 27, 'coco_eval_bbox': 0.04181910014649556}\u001b[0m\n"
     ]
    },
    {
     "name": "stdout",
     "output_type": "stream",
     "text": [
      "Epoch: [28]  [ 0/15]  eta: 0:00:28  lr: 0.000200  loss: 30.2220 (30.2220)  loss_mal: 0.4885 (0.4885)  loss_bbox: 0.9476 (0.9476)  loss_giou: 1.8667 (1.8667)  loss_fgl: 0.4838 (0.4838)  loss_mal_aux_0: 0.4937 (0.4937)  loss_bbox_aux_0: 0.9512 (0.9512)  loss_giou_aux_0: 1.8675 (1.8675)  loss_fgl_aux_0: 0.4830 (0.4830)  loss_ddf_aux_0: 0.0009 (0.0009)  loss_mal_aux_1: 0.5098 (0.5098)  loss_bbox_aux_1: 0.9493 (0.9493)  loss_giou_aux_1: 1.8673 (1.8673)  loss_fgl_aux_1: 0.4834 (0.4834)  loss_ddf_aux_1: 0.0003 (0.0003)  loss_mal_pre: 0.4915 (0.4915)  loss_bbox_pre: 0.9597 (0.9597)  loss_giou_pre: 1.8645 (1.8645)  loss_mal_enc_0: 0.4934 (0.4934)  loss_bbox_enc_0: 1.0038 (1.0038)  loss_giou_enc_0: 1.9014 (1.9014)  loss_mal_dn_0: 0.6279 (0.6279)  loss_bbox_dn_0: 0.4430 (0.4430)  loss_giou_dn_0: 1.3531 (1.3531)  loss_fgl_dn_0: 0.8079 (0.8079)  loss_ddf_dn_0: 0.0006 (0.0006)  loss_mal_dn_1: 0.6260 (0.6260)  loss_bbox_dn_1: 0.4426 (0.4426)  loss_giou_dn_1: 1.3526 (1.3526)  loss_fgl_dn_1: 0.8080 (0.8080)  loss_ddf_dn_1: 0.0002 (0.0002)  loss_mal_dn_2: 0.6265 (0.6265)  loss_bbox_dn_2: 0.4408 (0.4408)  loss_giou_dn_2: 1.3514 (1.3514)  loss_fgl_dn_2: 0.8080 (0.8080)  loss_mal_dn_pre: 0.6284 (0.6284)  loss_bbox_dn_pre: 0.4452 (0.4452)  loss_giou_dn_pre: 1.3528 (1.3528)  time: 1.8956  data: 1.3936  max mem: 10278\n"
     ]
    },
    {
     "name": "stderr",
     "output_type": "stream",
     "text": [
      "\u001b[32m2025-03-10 16:21:31.011\u001b[0m | \u001b[1mINFO    \u001b[0m | \u001b[36mdeimkit.trainer\u001b[0m:\u001b[36mevaluate\u001b[0m:\u001b[36m331\u001b[0m - \u001b[1mEvaluating model...\u001b[0m\n"
     ]
    },
    {
     "name": "stdout",
     "output_type": "stream",
     "text": [
      "Epoch: [28]  [14/15]  eta: 0:00:00  lr: 0.000200  loss: 29.1750 (29.1026)  loss_mal: 0.6377 (0.6522)  loss_bbox: 0.7106 (0.7333)  loss_giou: 1.4693 (1.5078)  loss_fgl: 0.7023 (0.6895)  loss_mal_aux_0: 0.6465 (0.6536)  loss_bbox_aux_0: 0.7097 (0.7351)  loss_giou_aux_0: 1.4688 (1.5088)  loss_fgl_aux_0: 0.7032 (0.6895)  loss_ddf_aux_0: 0.0012 (0.0012)  loss_mal_aux_1: 0.6455 (0.6536)  loss_bbox_aux_1: 0.7107 (0.7343)  loss_giou_aux_1: 1.4691 (1.5089)  loss_fgl_aux_1: 0.7025 (0.6893)  loss_ddf_aux_1: 0.0003 (0.0003)  loss_mal_pre: 0.6475 (0.6537)  loss_bbox_pre: 0.7124 (0.7386)  loss_giou_pre: 1.4662 (1.5046)  loss_mal_enc_0: 0.6401 (0.6510)  loss_bbox_enc_0: 0.7373 (0.7784)  loss_giou_enc_0: 1.5021 (1.5460)  loss_mal_dn_0: 0.6250 (0.6257)  loss_bbox_dn_0: 0.5268 (0.5383)  loss_giou_dn_0: 1.3533 (1.3479)  loss_fgl_dn_0: 0.8076 (0.8098)  loss_ddf_dn_0: 0.0006 (0.0006)  loss_mal_dn_1: 0.6216 (0.6246)  loss_bbox_dn_1: 0.5262 (0.5383)  loss_giou_dn_1: 1.3528 (1.3470)  loss_fgl_dn_1: 0.8075 (0.8101)  loss_ddf_dn_1: 0.0002 (0.0002)  loss_mal_dn_2: 0.6221 (0.6249)  loss_bbox_dn_2: 0.5231 (0.5366)  loss_giou_dn_2: 1.3514 (1.3455)  loss_fgl_dn_2: 0.8080 (0.8104)  loss_mal_dn_pre: 0.6250 (0.6263)  loss_bbox_dn_pre: 0.5285 (0.5393)  loss_giou_dn_pre: 1.3528 (1.3472)  time: 0.5442  data: 0.1091  max mem: 10278\n",
      "Epoch: [28] Total time: 0:00:08 (0.5491 s / it)\n",
      "Averaged stats: lr: 0.000200  loss: 29.1750 (29.1026)  loss_mal: 0.6377 (0.6522)  loss_bbox: 0.7106 (0.7333)  loss_giou: 1.4693 (1.5078)  loss_fgl: 0.7023 (0.6895)  loss_mal_aux_0: 0.6465 (0.6536)  loss_bbox_aux_0: 0.7097 (0.7351)  loss_giou_aux_0: 1.4688 (1.5088)  loss_fgl_aux_0: 0.7032 (0.6895)  loss_ddf_aux_0: 0.0012 (0.0012)  loss_mal_aux_1: 0.6455 (0.6536)  loss_bbox_aux_1: 0.7107 (0.7343)  loss_giou_aux_1: 1.4691 (1.5089)  loss_fgl_aux_1: 0.7025 (0.6893)  loss_ddf_aux_1: 0.0003 (0.0003)  loss_mal_pre: 0.6475 (0.6537)  loss_bbox_pre: 0.7124 (0.7386)  loss_giou_pre: 1.4662 (1.5046)  loss_mal_enc_0: 0.6401 (0.6510)  loss_bbox_enc_0: 0.7373 (0.7784)  loss_giou_enc_0: 1.5021 (1.5460)  loss_mal_dn_0: 0.6250 (0.6257)  loss_bbox_dn_0: 0.5268 (0.5383)  loss_giou_dn_0: 1.3533 (1.3479)  loss_fgl_dn_0: 0.8076 (0.8098)  loss_ddf_dn_0: 0.0006 (0.0006)  loss_mal_dn_1: 0.6216 (0.6246)  loss_bbox_dn_1: 0.5262 (0.5383)  loss_giou_dn_1: 1.3528 (1.3470)  loss_fgl_dn_1: 0.8075 (0.8101)  loss_ddf_dn_1: 0.0002 (0.0002)  loss_mal_dn_2: 0.6221 (0.6249)  loss_bbox_dn_2: 0.5231 (0.5366)  loss_giou_dn_2: 1.3514 (1.3455)  loss_fgl_dn_2: 0.8080 (0.8104)  loss_mal_dn_pre: 0.6250 (0.6263)  loss_bbox_dn_pre: 0.5285 (0.5393)  loss_giou_dn_pre: 1.3528 (1.3472)\n",
      "Test:  [0/5]  eta: 0:00:04    time: 0.8150  data: 0.7050  max mem: 10278\n"
     ]
    },
    {
     "name": "stderr",
     "output_type": "stream",
     "text": [
      "\u001b[32m2025-03-10 16:21:32.355\u001b[0m | \u001b[1mINFO    \u001b[0m | \u001b[36mdeimkit.trainer\u001b[0m:\u001b[36mtrain\u001b[0m:\u001b[36m312\u001b[0m - \u001b[1mEpoch 28 - Train loss: 29.1026, Eval mAP: 0.0232\u001b[0m\n",
      "\u001b[32m2025-03-10 16:21:32.356\u001b[0m | \u001b[1mINFO    \u001b[0m | \u001b[36mdeimkit.trainer\u001b[0m:\u001b[36mtrain\u001b[0m:\u001b[36m315\u001b[0m - \u001b[1mBest stats: {'epoch': 27, 'coco_eval_bbox': 0.04181910014649556}\u001b[0m\n"
     ]
    },
    {
     "name": "stdout",
     "output_type": "stream",
     "text": [
      "Test:  [4/5]  eta: 0:00:00    time: 0.2512  data: 0.1534  max mem: 10278\n",
      "Test: Total time: 0:00:01 (0.2646 s / it)\n",
      "Averaged stats: \n",
      "Accumulating evaluation results...\n",
      "COCOeval_opt.accumulate() finished...\n",
      "DONE (t=0.01s).\n",
      "IoU metric: bbox\n",
      " Average Precision  (AP) @[ IoU=0.50:0.95 | area=   all | maxDets=100 ] = 0.023\n",
      " Average Precision  (AP) @[ IoU=0.50      | area=   all | maxDets=100 ] = 0.059\n",
      " Average Precision  (AP) @[ IoU=0.75      | area=   all | maxDets=100 ] = 0.022\n",
      " Average Precision  (AP) @[ IoU=0.50:0.95 | area= small | maxDets=100 ] = 0.000\n",
      " Average Precision  (AP) @[ IoU=0.50:0.95 | area=medium | maxDets=100 ] = 0.267\n",
      " Average Precision  (AP) @[ IoU=0.50:0.95 | area= large | maxDets=100 ] = 0.024\n",
      " Average Recall     (AR) @[ IoU=0.50:0.95 | area=   all | maxDets=  1 ] = 0.046\n",
      " Average Recall     (AR) @[ IoU=0.50:0.95 | area=   all | maxDets= 10 ] = 0.055\n",
      " Average Recall     (AR) @[ IoU=0.50:0.95 | area=   all | maxDets=100 ] = 0.059\n",
      " Average Recall     (AR) @[ IoU=0.50:0.95 | area= small | maxDets=100 ] = 0.000\n",
      " Average Recall     (AR) @[ IoU=0.50:0.95 | area=medium | maxDets=100 ] = 0.271\n",
      " Average Recall     (AR) @[ IoU=0.50:0.95 | area= large | maxDets=100 ] = 0.056\n",
      " Average Recall     (AR) @[ IoU=0.50      | area=   all | maxDets=100 ] = 0.164\n",
      " Average Recall     (AR) @[ IoU=0.75      | area=   all | maxDets=100 ] = 0.044\n",
      "Epoch: [29]  [ 0/15]  eta: 0:00:32  lr: 0.000200  loss: 28.9903 (28.9903)  loss_mal: 0.6631 (0.6631)  loss_bbox: 0.7139 (0.7139)  loss_giou: 1.4230 (1.4230)  loss_fgl: 0.7474 (0.7474)  loss_mal_aux_0: 0.6626 (0.6626)  loss_bbox_aux_0: 0.7128 (0.7128)  loss_giou_aux_0: 1.4228 (1.4228)  loss_fgl_aux_0: 0.7472 (0.7472)  loss_ddf_aux_0: 0.0012 (0.0012)  loss_mal_aux_1: 0.6616 (0.6616)  loss_bbox_aux_1: 0.7137 (0.7137)  loss_giou_aux_1: 1.4235 (1.4235)  loss_fgl_aux_1: 0.7471 (0.7471)  loss_ddf_aux_1: 0.0003 (0.0003)  loss_mal_pre: 0.6665 (0.6665)  loss_bbox_pre: 0.7121 (0.7121)  loss_giou_pre: 1.4167 (1.4167)  loss_mal_enc_0: 0.6582 (0.6582)  loss_bbox_enc_0: 0.7317 (0.7317)  loss_giou_enc_0: 1.4483 (1.4483)  loss_mal_dn_0: 0.6284 (0.6284)  loss_bbox_dn_0: 0.5920 (0.5920)  loss_giou_dn_0: 1.3586 (1.3586)  loss_fgl_dn_0: 0.8003 (0.8003)  loss_ddf_dn_0: 0.0006 (0.0006)  loss_mal_dn_1: 0.6270 (0.6270)  loss_bbox_dn_1: 0.5930 (0.5930)  loss_giou_dn_1: 1.3579 (1.3579)  loss_fgl_dn_1: 0.8007 (0.8007)  loss_ddf_dn_1: 0.0003 (0.0003)  loss_mal_dn_2: 0.6294 (0.6294)  loss_bbox_dn_2: 0.5925 (0.5925)  loss_giou_dn_2: 1.3576 (1.3576)  loss_fgl_dn_2: 0.8005 (0.8005)  loss_mal_dn_pre: 0.6284 (0.6284)  loss_bbox_dn_pre: 0.5910 (0.5910)  loss_giou_dn_pre: 1.3583 (1.3583)  time: 2.1525  data: 1.5437  max mem: 10278\n"
     ]
    },
    {
     "name": "stderr",
     "output_type": "stream",
     "text": [
      "\u001b[32m2025-03-10 16:21:41.887\u001b[0m | \u001b[1mINFO    \u001b[0m | \u001b[36mdeimkit.trainer\u001b[0m:\u001b[36mevaluate\u001b[0m:\u001b[36m331\u001b[0m - \u001b[1mEvaluating model...\u001b[0m\n"
     ]
    },
    {
     "name": "stdout",
     "output_type": "stream",
     "text": [
      "Epoch: [29]  [14/15]  eta: 0:00:00  lr: 0.000200  loss: 28.1162 (28.2632)  loss_mal: 0.6377 (0.6598)  loss_bbox: 0.6271 (0.6390)  loss_giou: 1.4357 (1.4504)  loss_fgl: 0.7198 (0.7145)  loss_mal_aux_0: 0.6519 (0.6626)  loss_bbox_aux_0: 0.6295 (0.6395)  loss_giou_aux_0: 1.4377 (1.4507)  loss_fgl_aux_0: 0.7202 (0.7148)  loss_ddf_aux_0: 0.0014 (0.0013)  loss_mal_aux_1: 0.6440 (0.6599)  loss_bbox_aux_1: 0.6280 (0.6393)  loss_giou_aux_1: 1.4368 (1.4510)  loss_fgl_aux_1: 0.7201 (0.7145)  loss_ddf_aux_1: 0.0004 (0.0004)  loss_mal_pre: 0.6494 (0.6623)  loss_bbox_pre: 0.6346 (0.6414)  loss_giou_pre: 1.4343 (1.4474)  loss_mal_enc_0: 0.6309 (0.6378)  loss_bbox_enc_0: 0.6671 (0.6735)  loss_giou_enc_0: 1.4998 (1.4840)  loss_mal_dn_0: 0.6279 (0.6283)  loss_bbox_dn_0: 0.4813 (0.4939)  loss_giou_dn_0: 1.3610 (1.3575)  loss_fgl_dn_0: 0.8000 (0.8016)  loss_ddf_dn_0: 0.0007 (0.0007)  loss_mal_dn_1: 0.6245 (0.6271)  loss_bbox_dn_1: 0.4821 (0.4949)  loss_giou_dn_1: 1.3607 (1.3570)  loss_fgl_dn_1: 0.8005 (0.8018)  loss_ddf_dn_1: 0.0003 (0.0003)  loss_mal_dn_2: 0.6245 (0.6255)  loss_bbox_dn_2: 0.4817 (0.4942)  loss_giou_dn_2: 1.3597 (1.3562)  loss_fgl_dn_2: 0.8005 (0.8019)  loss_mal_dn_pre: 0.6265 (0.6275)  loss_bbox_dn_pre: 0.4804 (0.4927)  loss_giou_dn_pre: 1.3608 (1.3580)  time: 0.6299  data: 0.1579  max mem: 10278\n",
      "Epoch: [29] Total time: 0:00:09 (0.6340 s / it)\n",
      "Averaged stats: lr: 0.000200  loss: 28.1162 (28.2632)  loss_mal: 0.6377 (0.6598)  loss_bbox: 0.6271 (0.6390)  loss_giou: 1.4357 (1.4504)  loss_fgl: 0.7198 (0.7145)  loss_mal_aux_0: 0.6519 (0.6626)  loss_bbox_aux_0: 0.6295 (0.6395)  loss_giou_aux_0: 1.4377 (1.4507)  loss_fgl_aux_0: 0.7202 (0.7148)  loss_ddf_aux_0: 0.0014 (0.0013)  loss_mal_aux_1: 0.6440 (0.6599)  loss_bbox_aux_1: 0.6280 (0.6393)  loss_giou_aux_1: 1.4368 (1.4510)  loss_fgl_aux_1: 0.7201 (0.7145)  loss_ddf_aux_1: 0.0004 (0.0004)  loss_mal_pre: 0.6494 (0.6623)  loss_bbox_pre: 0.6346 (0.6414)  loss_giou_pre: 1.4343 (1.4474)  loss_mal_enc_0: 0.6309 (0.6378)  loss_bbox_enc_0: 0.6671 (0.6735)  loss_giou_enc_0: 1.4998 (1.4840)  loss_mal_dn_0: 0.6279 (0.6283)  loss_bbox_dn_0: 0.4813 (0.4939)  loss_giou_dn_0: 1.3610 (1.3575)  loss_fgl_dn_0: 0.8000 (0.8016)  loss_ddf_dn_0: 0.0007 (0.0007)  loss_mal_dn_1: 0.6245 (0.6271)  loss_bbox_dn_1: 0.4821 (0.4949)  loss_giou_dn_1: 1.3607 (1.3570)  loss_fgl_dn_1: 0.8005 (0.8018)  loss_ddf_dn_1: 0.0003 (0.0003)  loss_mal_dn_2: 0.6245 (0.6255)  loss_bbox_dn_2: 0.4817 (0.4942)  loss_giou_dn_2: 1.3597 (1.3562)  loss_fgl_dn_2: 0.8005 (0.8019)  loss_mal_dn_pre: 0.6265 (0.6275)  loss_bbox_dn_pre: 0.4804 (0.4927)  loss_giou_dn_pre: 1.3608 (1.3580)\n",
      "Test:  [0/5]  eta: 0:00:03    time: 0.7398  data: 0.6231  max mem: 10278\n"
     ]
    },
    {
     "name": "stderr",
     "output_type": "stream",
     "text": [
      "\u001b[32m2025-03-10 16:21:43.189\u001b[0m | \u001b[1mINFO    \u001b[0m | \u001b[36mdeimkit.trainer\u001b[0m:\u001b[36mtrain\u001b[0m:\u001b[36m312\u001b[0m - \u001b[1mEpoch 29 - Train loss: 28.2632, Eval mAP: 0.0282\u001b[0m\n",
      "\u001b[32m2025-03-10 16:21:43.189\u001b[0m | \u001b[1mINFO    \u001b[0m | \u001b[36mdeimkit.trainer\u001b[0m:\u001b[36mtrain\u001b[0m:\u001b[36m315\u001b[0m - \u001b[1mBest stats: {'epoch': 27, 'coco_eval_bbox': 0.04181910014649556}\u001b[0m\n"
     ]
    },
    {
     "name": "stdout",
     "output_type": "stream",
     "text": [
      "Test:  [4/5]  eta: 0:00:00    time: 0.2442  data: 0.1422  max mem: 10278\n",
      "Test: Total time: 0:00:01 (0.2560 s / it)\n",
      "Averaged stats: \n",
      "Accumulating evaluation results...\n",
      "COCOeval_opt.accumulate() finished...\n",
      "DONE (t=0.01s).\n",
      "IoU metric: bbox\n",
      " Average Precision  (AP) @[ IoU=0.50:0.95 | area=   all | maxDets=100 ] = 0.028\n",
      " Average Precision  (AP) @[ IoU=0.50      | area=   all | maxDets=100 ] = 0.079\n",
      " Average Precision  (AP) @[ IoU=0.75      | area=   all | maxDets=100 ] = 0.007\n",
      " Average Precision  (AP) @[ IoU=0.50:0.95 | area= small | maxDets=100 ] = 0.000\n",
      " Average Precision  (AP) @[ IoU=0.50:0.95 | area=medium | maxDets=100 ] = 0.102\n",
      " Average Precision  (AP) @[ IoU=0.50:0.95 | area= large | maxDets=100 ] = 0.029\n",
      " Average Recall     (AR) @[ IoU=0.50:0.95 | area=   all | maxDets=  1 ] = 0.054\n",
      " Average Recall     (AR) @[ IoU=0.50:0.95 | area=   all | maxDets= 10 ] = 0.084\n",
      " Average Recall     (AR) @[ IoU=0.50:0.95 | area=   all | maxDets=100 ] = 0.087\n",
      " Average Recall     (AR) @[ IoU=0.50:0.95 | area= small | maxDets=100 ] = 0.000\n",
      " Average Recall     (AR) @[ IoU=0.50:0.95 | area=medium | maxDets=100 ] = 0.169\n",
      " Average Recall     (AR) @[ IoU=0.50:0.95 | area= large | maxDets=100 ] = 0.086\n",
      " Average Recall     (AR) @[ IoU=0.50      | area=   all | maxDets=100 ] = 0.197\n",
      " Average Recall     (AR) @[ IoU=0.75      | area=   all | maxDets=100 ] = 0.051\n",
      "Epoch: [30]  [ 0/15]  eta: 0:00:26  lr: 0.000200  loss: 28.3138 (28.3138)  loss_mal: 0.7393 (0.7393)  loss_bbox: 0.5840 (0.5840)  loss_giou: 1.3558 (1.3558)  loss_fgl: 0.7964 (0.7964)  loss_mal_aux_0: 0.7422 (0.7422)  loss_bbox_aux_0: 0.5879 (0.5879)  loss_giou_aux_0: 1.3625 (1.3625)  loss_fgl_aux_0: 0.7936 (0.7936)  loss_ddf_aux_0: 0.0014 (0.0014)  loss_mal_aux_1: 0.7363 (0.7363)  loss_bbox_aux_1: 0.5859 (0.5859)  loss_giou_aux_1: 1.3604 (1.3604)  loss_fgl_aux_1: 0.7941 (0.7941)  loss_ddf_aux_1: 0.0004 (0.0004)  loss_mal_pre: 0.7422 (0.7422)  loss_bbox_pre: 0.5883 (0.5883)  loss_giou_pre: 1.3614 (1.3614)  loss_mal_enc_0: 0.7041 (0.7041)  loss_bbox_enc_0: 0.6356 (0.6356)  loss_giou_enc_0: 1.4277 (1.4277)  loss_mal_dn_0: 0.6401 (0.6401)  loss_bbox_dn_0: 0.5293 (0.5293)  loss_giou_dn_0: 1.3119 (1.3119)  loss_fgl_dn_0: 0.8330 (0.8330)  loss_ddf_dn_0: 0.0006 (0.0006)  loss_mal_dn_1: 0.6372 (0.6372)  loss_bbox_dn_1: 0.5304 (0.5304)  loss_giou_dn_1: 1.3099 (1.3099)  loss_fgl_dn_1: 0.8340 (0.8340)  loss_ddf_dn_1: 0.0002 (0.0002)  loss_mal_dn_2: 0.6372 (0.6372)  loss_bbox_dn_2: 0.5290 (0.5290)  loss_giou_dn_2: 1.3056 (1.3056)  loss_fgl_dn_2: 0.8359 (0.8359)  loss_mal_dn_pre: 0.6392 (0.6392)  loss_bbox_dn_pre: 0.5272 (0.5272)  loss_giou_dn_pre: 1.3136 (1.3136)  time: 1.7822  data: 1.3236  max mem: 10278\n"
     ]
    },
    {
     "name": "stderr",
     "output_type": "stream",
     "text": [
      "\u001b[32m2025-03-10 16:21:52.138\u001b[0m | \u001b[1mINFO    \u001b[0m | \u001b[36mdeimkit.trainer\u001b[0m:\u001b[36mevaluate\u001b[0m:\u001b[36m331\u001b[0m - \u001b[1mEvaluating model...\u001b[0m\n"
     ]
    },
    {
     "name": "stdout",
     "output_type": "stream",
     "text": [
      "Epoch: [30]  [14/15]  eta: 0:00:00  lr: 0.000200  loss: 28.2579 (28.3256)  loss_mal: 0.6782 (0.6857)  loss_bbox: 0.6328 (0.6433)  loss_giou: 1.3909 (1.3972)  loss_fgl: 0.7532 (0.7480)  loss_mal_aux_0: 0.6802 (0.6861)  loss_bbox_aux_0: 0.6312 (0.6434)  loss_giou_aux_0: 1.3892 (1.3991)  loss_fgl_aux_0: 0.7536 (0.7483)  loss_ddf_aux_0: 0.0015 (0.0015)  loss_mal_aux_1: 0.6787 (0.6828)  loss_bbox_aux_1: 0.6322 (0.6437)  loss_giou_aux_1: 1.3897 (1.3985)  loss_fgl_aux_1: 0.7530 (0.7477)  loss_ddf_aux_1: 0.0004 (0.0004)  loss_mal_pre: 0.6787 (0.6853)  loss_bbox_pre: 0.6323 (0.6441)  loss_giou_pre: 1.3885 (1.3988)  loss_mal_enc_0: 0.6733 (0.6801)  loss_bbox_enc_0: 0.6732 (0.6745)  loss_giou_enc_0: 1.4437 (1.4464)  loss_mal_dn_0: 0.6313 (0.6268)  loss_bbox_dn_0: 0.5008 (0.5092)  loss_giou_dn_0: 1.3482 (1.3529)  loss_fgl_dn_0: 0.8100 (0.8062)  loss_ddf_dn_0: 0.0007 (0.0007)  loss_mal_dn_1: 0.6294 (0.6253)  loss_bbox_dn_1: 0.5024 (0.5100)  loss_giou_dn_1: 1.3472 (1.3520)  loss_fgl_dn_1: 0.8104 (0.8067)  loss_ddf_dn_1: 0.0003 (0.0003)  loss_mal_dn_2: 0.6294 (0.6256)  loss_bbox_dn_2: 0.5029 (0.5093)  loss_giou_dn_2: 1.3432 (1.3504)  loss_fgl_dn_2: 0.8110 (0.8072)  loss_mal_dn_pre: 0.6299 (0.6259)  loss_bbox_dn_pre: 0.4991 (0.5086)  loss_giou_dn_pre: 1.3492 (1.3536)  time: 0.5910  data: 0.1225  max mem: 10278\n",
      "Epoch: [30] Total time: 0:00:08 (0.5954 s / it)\n",
      "Averaged stats: lr: 0.000200  loss: 28.2579 (28.3256)  loss_mal: 0.6782 (0.6857)  loss_bbox: 0.6328 (0.6433)  loss_giou: 1.3909 (1.3972)  loss_fgl: 0.7532 (0.7480)  loss_mal_aux_0: 0.6802 (0.6861)  loss_bbox_aux_0: 0.6312 (0.6434)  loss_giou_aux_0: 1.3892 (1.3991)  loss_fgl_aux_0: 0.7536 (0.7483)  loss_ddf_aux_0: 0.0015 (0.0015)  loss_mal_aux_1: 0.6787 (0.6828)  loss_bbox_aux_1: 0.6322 (0.6437)  loss_giou_aux_1: 1.3897 (1.3985)  loss_fgl_aux_1: 0.7530 (0.7477)  loss_ddf_aux_1: 0.0004 (0.0004)  loss_mal_pre: 0.6787 (0.6853)  loss_bbox_pre: 0.6323 (0.6441)  loss_giou_pre: 1.3885 (1.3988)  loss_mal_enc_0: 0.6733 (0.6801)  loss_bbox_enc_0: 0.6732 (0.6745)  loss_giou_enc_0: 1.4437 (1.4464)  loss_mal_dn_0: 0.6313 (0.6268)  loss_bbox_dn_0: 0.5008 (0.5092)  loss_giou_dn_0: 1.3482 (1.3529)  loss_fgl_dn_0: 0.8100 (0.8062)  loss_ddf_dn_0: 0.0007 (0.0007)  loss_mal_dn_1: 0.6294 (0.6253)  loss_bbox_dn_1: 0.5024 (0.5100)  loss_giou_dn_1: 1.3472 (1.3520)  loss_fgl_dn_1: 0.8104 (0.8067)  loss_ddf_dn_1: 0.0003 (0.0003)  loss_mal_dn_2: 0.6294 (0.6256)  loss_bbox_dn_2: 0.5029 (0.5093)  loss_giou_dn_2: 1.3432 (1.3504)  loss_fgl_dn_2: 0.8110 (0.8072)  loss_mal_dn_pre: 0.6299 (0.6259)  loss_bbox_dn_pre: 0.4991 (0.5086)  loss_giou_dn_pre: 1.3492 (1.3536)\n",
      "Test:  [0/5]  eta: 0:00:03    time: 0.7549  data: 0.6352  max mem: 10278\n"
     ]
    },
    {
     "name": "stderr",
     "output_type": "stream",
     "text": [
      "\u001b[32m2025-03-10 16:21:53.468\u001b[0m | \u001b[1mINFO    \u001b[0m | \u001b[36mdeimkit.trainer\u001b[0m:\u001b[36mtrain\u001b[0m:\u001b[36m312\u001b[0m - \u001b[1mEpoch 30 - Train loss: 28.3256, Eval mAP: 0.0410\u001b[0m\n",
      "\u001b[32m2025-03-10 16:21:53.468\u001b[0m | \u001b[1mINFO    \u001b[0m | \u001b[36mdeimkit.trainer\u001b[0m:\u001b[36mtrain\u001b[0m:\u001b[36m315\u001b[0m - \u001b[1mBest stats: {'epoch': 27, 'coco_eval_bbox': 0.04181910014649556}\u001b[0m\n"
     ]
    },
    {
     "name": "stdout",
     "output_type": "stream",
     "text": [
      "Test:  [4/5]  eta: 0:00:00    time: 0.2483  data: 0.1449  max mem: 10278\n",
      "Test: Total time: 0:00:01 (0.2610 s / it)\n",
      "Averaged stats: \n",
      "Accumulating evaluation results...\n",
      "COCOeval_opt.accumulate() finished...\n",
      "DONE (t=0.01s).\n",
      "IoU metric: bbox\n",
      " Average Precision  (AP) @[ IoU=0.50:0.95 | area=   all | maxDets=100 ] = 0.041\n",
      " Average Precision  (AP) @[ IoU=0.50      | area=   all | maxDets=100 ] = 0.130\n",
      " Average Precision  (AP) @[ IoU=0.75      | area=   all | maxDets=100 ] = 0.010\n",
      " Average Precision  (AP) @[ IoU=0.50:0.95 | area= small | maxDets=100 ] = 0.000\n",
      " Average Precision  (AP) @[ IoU=0.50:0.95 | area=medium | maxDets=100 ] = 0.202\n",
      " Average Precision  (AP) @[ IoU=0.50:0.95 | area= large | maxDets=100 ] = 0.052\n",
      " Average Recall     (AR) @[ IoU=0.50:0.95 | area=   all | maxDets=  1 ] = 0.065\n",
      " Average Recall     (AR) @[ IoU=0.50:0.95 | area=   all | maxDets= 10 ] = 0.117\n",
      " Average Recall     (AR) @[ IoU=0.50:0.95 | area=   all | maxDets=100 ] = 0.153\n",
      " Average Recall     (AR) @[ IoU=0.50:0.95 | area= small | maxDets=100 ] = 0.000\n",
      " Average Recall     (AR) @[ IoU=0.50:0.95 | area=medium | maxDets=100 ] = 0.253\n",
      " Average Recall     (AR) @[ IoU=0.50:0.95 | area= large | maxDets=100 ] = 0.150\n",
      " Average Recall     (AR) @[ IoU=0.50      | area=   all | maxDets=100 ] = 0.394\n",
      " Average Recall     (AR) @[ IoU=0.75      | area=   all | maxDets=100 ] = 0.080\n",
      "Epoch: [31]  [ 0/15]  eta: 0:00:29  lr: 0.000200  loss: 28.4375 (28.4375)  loss_mal: 0.6392 (0.6392)  loss_bbox: 0.6853 (0.6853)  loss_giou: 1.4311 (1.4311)  loss_fgl: 0.7171 (0.7171)  loss_mal_aux_0: 0.6416 (0.6416)  loss_bbox_aux_0: 0.6858 (0.6858)  loss_giou_aux_0: 1.4320 (1.4320)  loss_fgl_aux_0: 0.7170 (0.7170)  loss_ddf_aux_0: 0.0018 (0.0018)  loss_mal_aux_1: 0.6372 (0.6372)  loss_bbox_aux_1: 0.6860 (0.6860)  loss_giou_aux_1: 1.4313 (1.4313)  loss_fgl_aux_1: 0.7170 (0.7170)  loss_ddf_aux_1: 0.0006 (0.0006)  loss_mal_pre: 0.6416 (0.6416)  loss_bbox_pre: 0.6863 (0.6863)  loss_giou_pre: 1.4312 (1.4312)  loss_mal_enc_0: 0.6377 (0.6377)  loss_bbox_enc_0: 0.7006 (0.7006)  loss_giou_enc_0: 1.4596 (1.4596)  loss_mal_dn_0: 0.6255 (0.6255)  loss_bbox_dn_0: 0.5345 (0.5345)  loss_giou_dn_0: 1.3500 (1.3500)  loss_fgl_dn_0: 0.8065 (0.8065)  loss_ddf_dn_0: 0.0009 (0.0009)  loss_mal_dn_1: 0.6250 (0.6250)  loss_bbox_dn_1: 0.5349 (0.5349)  loss_giou_dn_1: 1.3497 (1.3497)  loss_fgl_dn_1: 0.8067 (0.8067)  loss_ddf_dn_1: 0.0003 (0.0003)  loss_mal_dn_2: 0.6245 (0.6245)  loss_bbox_dn_2: 0.5338 (0.5338)  loss_giou_dn_2: 1.3490 (1.3490)  loss_fgl_dn_2: 0.8066 (0.8066)  loss_mal_dn_pre: 0.6260 (0.6260)  loss_bbox_dn_pre: 0.5348 (0.5348)  loss_giou_dn_pre: 1.3489 (1.3489)  time: 1.9404  data: 1.3997  max mem: 10278\n"
     ]
    },
    {
     "name": "stderr",
     "output_type": "stream",
     "text": [
      "\u001b[32m2025-03-10 16:22:02.065\u001b[0m | \u001b[1mINFO    \u001b[0m | \u001b[36mdeimkit.trainer\u001b[0m:\u001b[36m_save_checkpoint\u001b[0m:\u001b[36m363\u001b[0m - \u001b[1mSaving checkpoint to outputs/deim_hgnetv2_s_coco_ema_tune/checkpoint0031.pth\u001b[0m\n"
     ]
    },
    {
     "name": "stdout",
     "output_type": "stream",
     "text": [
      "Epoch: [31]  [14/15]  eta: 0:00:00  lr: 0.000200  loss: 28.4624 (28.5755)  loss_mal: 0.6162 (0.6187)  loss_bbox: 0.6785 (0.6869)  loss_giou: 1.4668 (1.5173)  loss_fgl: 0.7118 (0.6899)  loss_mal_aux_0: 0.6216 (0.6258)  loss_bbox_aux_0: 0.6822 (0.6895)  loss_giou_aux_0: 1.4670 (1.5181)  loss_fgl_aux_0: 0.7117 (0.6900)  loss_ddf_aux_0: 0.0017 (0.0016)  loss_mal_aux_1: 0.6221 (0.6212)  loss_bbox_aux_1: 0.6814 (0.6888)  loss_giou_aux_1: 1.4666 (1.5177)  loss_fgl_aux_1: 0.7119 (0.6899)  loss_ddf_aux_1: 0.0006 (0.0005)  loss_mal_pre: 0.6211 (0.6248)  loss_bbox_pre: 0.6844 (0.6911)  loss_giou_pre: 1.4661 (1.5170)  loss_mal_enc_0: 0.6152 (0.6167)  loss_bbox_enc_0: 0.7006 (0.7218)  loss_giou_enc_0: 1.5078 (1.5650)  loss_mal_dn_0: 0.6294 (0.6313)  loss_bbox_dn_0: 0.4811 (0.4883)  loss_giou_dn_0: 1.3500 (1.3392)  loss_fgl_dn_0: 0.8089 (0.8169)  loss_ddf_dn_0: 0.0009 (0.0009)  loss_mal_dn_1: 0.6284 (0.6309)  loss_bbox_dn_1: 0.4812 (0.4880)  loss_giou_dn_1: 1.3494 (1.3384)  loss_fgl_dn_1: 0.8094 (0.8173)  loss_ddf_dn_1: 0.0004 (0.0004)  loss_mal_dn_2: 0.6299 (0.6311)  loss_bbox_dn_2: 0.4803 (0.4858)  loss_giou_dn_2: 1.3490 (1.3370)  loss_fgl_dn_2: 0.8090 (0.8173)  loss_mal_dn_pre: 0.6294 (0.6314)  loss_bbox_dn_pre: 0.4823 (0.4904)  loss_giou_dn_pre: 1.3489 (1.3386)  time: 0.5672  data: 0.1125  max mem: 10278\n",
      "Epoch: [31] Total time: 0:00:08 (0.5717 s / it)\n",
      "Averaged stats: lr: 0.000200  loss: 28.4624 (28.5755)  loss_mal: 0.6162 (0.6187)  loss_bbox: 0.6785 (0.6869)  loss_giou: 1.4668 (1.5173)  loss_fgl: 0.7118 (0.6899)  loss_mal_aux_0: 0.6216 (0.6258)  loss_bbox_aux_0: 0.6822 (0.6895)  loss_giou_aux_0: 1.4670 (1.5181)  loss_fgl_aux_0: 0.7117 (0.6900)  loss_ddf_aux_0: 0.0017 (0.0016)  loss_mal_aux_1: 0.6221 (0.6212)  loss_bbox_aux_1: 0.6814 (0.6888)  loss_giou_aux_1: 1.4666 (1.5177)  loss_fgl_aux_1: 0.7119 (0.6899)  loss_ddf_aux_1: 0.0006 (0.0005)  loss_mal_pre: 0.6211 (0.6248)  loss_bbox_pre: 0.6844 (0.6911)  loss_giou_pre: 1.4661 (1.5170)  loss_mal_enc_0: 0.6152 (0.6167)  loss_bbox_enc_0: 0.7006 (0.7218)  loss_giou_enc_0: 1.5078 (1.5650)  loss_mal_dn_0: 0.6294 (0.6313)  loss_bbox_dn_0: 0.4811 (0.4883)  loss_giou_dn_0: 1.3500 (1.3392)  loss_fgl_dn_0: 0.8089 (0.8169)  loss_ddf_dn_0: 0.0009 (0.0009)  loss_mal_dn_1: 0.6284 (0.6309)  loss_bbox_dn_1: 0.4812 (0.4880)  loss_giou_dn_1: 1.3494 (1.3384)  loss_fgl_dn_1: 0.8094 (0.8173)  loss_ddf_dn_1: 0.0004 (0.0004)  loss_mal_dn_2: 0.6299 (0.6311)  loss_bbox_dn_2: 0.4803 (0.4858)  loss_giou_dn_2: 1.3490 (1.3370)  loss_fgl_dn_2: 0.8090 (0.8173)  loss_mal_dn_pre: 0.6294 (0.6314)  loss_bbox_dn_pre: 0.4823 (0.4904)  loss_giou_dn_pre: 1.3489 (1.3386)\n"
     ]
    },
    {
     "name": "stderr",
     "output_type": "stream",
     "text": [
      "\u001b[32m2025-03-10 16:22:02.461\u001b[0m | \u001b[1mINFO    \u001b[0m | \u001b[36mdeimkit.trainer\u001b[0m:\u001b[36m_save_checkpoint\u001b[0m:\u001b[36m380\u001b[0m - \u001b[1mCheckpoint saved to outputs/deim_hgnetv2_s_coco_ema_tune/checkpoint0031.pth\u001b[0m\n",
      "\u001b[32m2025-03-10 16:22:02.462\u001b[0m | \u001b[1mINFO    \u001b[0m | \u001b[36mdeimkit.trainer\u001b[0m:\u001b[36mevaluate\u001b[0m:\u001b[36m331\u001b[0m - \u001b[1mEvaluating model...\u001b[0m\n"
     ]
    },
    {
     "name": "stdout",
     "output_type": "stream",
     "text": [
      "Test:  [0/5]  eta: 0:00:04    time: 0.8288  data: 0.7088  max mem: 10278\n"
     ]
    },
    {
     "name": "stderr",
     "output_type": "stream",
     "text": [
      "\u001b[32m2025-03-10 16:22:03.879\u001b[0m | \u001b[1mINFO    \u001b[0m | \u001b[36mdeimkit.trainer\u001b[0m:\u001b[36mtrain\u001b[0m:\u001b[36m312\u001b[0m - \u001b[1mEpoch 31 - Train loss: 28.5755, Eval mAP: 0.0178\u001b[0m\n",
      "\u001b[32m2025-03-10 16:22:03.880\u001b[0m | \u001b[1mINFO    \u001b[0m | \u001b[36mdeimkit.trainer\u001b[0m:\u001b[36mtrain\u001b[0m:\u001b[36m315\u001b[0m - \u001b[1mBest stats: {'epoch': 27, 'coco_eval_bbox': 0.04181910014649556}\u001b[0m\n"
     ]
    },
    {
     "name": "stdout",
     "output_type": "stream",
     "text": [
      "Test:  [4/5]  eta: 0:00:00    time: 0.2643  data: 0.1557  max mem: 10278\n",
      "Test: Total time: 0:00:01 (0.2788 s / it)\n",
      "Averaged stats: \n",
      "Accumulating evaluation results...\n",
      "COCOeval_opt.accumulate() finished...\n",
      "DONE (t=0.01s).\n",
      "IoU metric: bbox\n",
      " Average Precision  (AP) @[ IoU=0.50:0.95 | area=   all | maxDets=100 ] = 0.018\n",
      " Average Precision  (AP) @[ IoU=0.50      | area=   all | maxDets=100 ] = 0.051\n",
      " Average Precision  (AP) @[ IoU=0.75      | area=   all | maxDets=100 ] = 0.010\n",
      " Average Precision  (AP) @[ IoU=0.50:0.95 | area= small | maxDets=100 ] = 0.000\n",
      " Average Precision  (AP) @[ IoU=0.50:0.95 | area=medium | maxDets=100 ] = 0.090\n",
      " Average Precision  (AP) @[ IoU=0.50:0.95 | area= large | maxDets=100 ] = 0.031\n",
      " Average Recall     (AR) @[ IoU=0.50:0.95 | area=   all | maxDets=  1 ] = 0.029\n",
      " Average Recall     (AR) @[ IoU=0.50:0.95 | area=   all | maxDets= 10 ] = 0.055\n",
      " Average Recall     (AR) @[ IoU=0.50:0.95 | area=   all | maxDets=100 ] = 0.073\n",
      " Average Recall     (AR) @[ IoU=0.50:0.95 | area= small | maxDets=100 ] = 0.000\n",
      " Average Recall     (AR) @[ IoU=0.50:0.95 | area=medium | maxDets=100 ] = 0.303\n",
      " Average Recall     (AR) @[ IoU=0.50:0.95 | area= large | maxDets=100 ] = 0.066\n",
      " Average Recall     (AR) @[ IoU=0.50      | area=   all | maxDets=100 ] = 0.218\n",
      " Average Recall     (AR) @[ IoU=0.75      | area=   all | maxDets=100 ] = 0.040\n",
      "Epoch: [32]  [ 0/15]  eta: 0:00:33  lr: 0.000200  loss: 28.3872 (28.3872)  loss_mal: 0.6147 (0.6147)  loss_bbox: 0.6757 (0.6757)  loss_giou: 1.5034 (1.5034)  loss_fgl: 0.6732 (0.6732)  loss_mal_aux_0: 0.6191 (0.6191)  loss_bbox_aux_0: 0.6767 (0.6767)  loss_giou_aux_0: 1.5010 (1.5010)  loss_fgl_aux_0: 0.6739 (0.6739)  loss_ddf_aux_0: 0.0014 (0.0014)  loss_mal_aux_1: 0.6177 (0.6177)  loss_bbox_aux_1: 0.6763 (0.6763)  loss_giou_aux_1: 1.5017 (1.5017)  loss_fgl_aux_1: 0.6741 (0.6741)  loss_ddf_aux_1: 0.0005 (0.0005)  loss_mal_pre: 0.6201 (0.6201)  loss_bbox_pre: 0.6775 (0.6775)  loss_giou_pre: 1.4988 (1.4988)  loss_mal_enc_0: 0.6187 (0.6187)  loss_bbox_enc_0: 0.6954 (0.6954)  loss_giou_enc_0: 1.5237 (1.5237)  loss_mal_dn_0: 0.6338 (0.6338)  loss_bbox_dn_0: 0.4921 (0.4921)  loss_giou_dn_0: 1.3439 (1.3439)  loss_fgl_dn_0: 0.8204 (0.8204)  loss_ddf_dn_0: 0.0007 (0.0007)  loss_mal_dn_1: 0.6343 (0.6343)  loss_bbox_dn_1: 0.4921 (0.4921)  loss_giou_dn_1: 1.3437 (1.3437)  loss_fgl_dn_1: 0.8208 (0.8208)  loss_ddf_dn_1: 0.0004 (0.0004)  loss_mal_dn_2: 0.6353 (0.6353)  loss_bbox_dn_2: 0.4906 (0.4906)  loss_giou_dn_2: 1.3445 (1.3445)  loss_fgl_dn_2: 0.8198 (0.8198)  loss_mal_dn_pre: 0.6343 (0.6343)  loss_bbox_dn_pre: 0.4941 (0.4941)  loss_giou_dn_pre: 1.3431 (1.3431)  time: 2.2399  data: 1.5774  max mem: 10278\n"
     ]
    },
    {
     "name": "stderr",
     "output_type": "stream",
     "text": [
      "\u001b[32m2025-03-10 16:22:12.864\u001b[0m | \u001b[1mINFO    \u001b[0m | \u001b[36mdeimkit.trainer\u001b[0m:\u001b[36mevaluate\u001b[0m:\u001b[36m331\u001b[0m - \u001b[1mEvaluating model...\u001b[0m\n"
     ]
    },
    {
     "name": "stdout",
     "output_type": "stream",
     "text": [
      "Epoch: [32]  [14/15]  eta: 0:00:00  lr: 0.000200  loss: 27.8645 (28.0679)  loss_mal: 0.7236 (0.7035)  loss_bbox: 0.5734 (0.5898)  loss_giou: 1.3656 (1.3786)  loss_fgl: 0.7832 (0.7656)  loss_mal_aux_0: 0.7324 (0.7147)  loss_bbox_aux_0: 0.5735 (0.5918)  loss_giou_aux_0: 1.3669 (1.3807)  loss_fgl_aux_0: 0.7818 (0.7658)  loss_ddf_aux_0: 0.0018 (0.0018)  loss_mal_aux_1: 0.7197 (0.7056)  loss_bbox_aux_1: 0.5729 (0.5912)  loss_giou_aux_1: 1.3667 (1.3804)  loss_fgl_aux_1: 0.7824 (0.7652)  loss_ddf_aux_1: 0.0006 (0.0007)  loss_mal_pre: 0.7314 (0.7137)  loss_bbox_pre: 0.5747 (0.5929)  loss_giou_pre: 1.3649 (1.3794)  loss_mal_enc_0: 0.6924 (0.6863)  loss_bbox_enc_0: 0.6026 (0.6295)  loss_giou_enc_0: 1.4252 (1.4435)  loss_mal_dn_0: 0.6299 (0.6306)  loss_bbox_dn_0: 0.4688 (0.4875)  loss_giou_dn_0: 1.3439 (1.3441)  loss_fgl_dn_0: 0.8191 (0.8146)  loss_ddf_dn_0: 0.0009 (0.0009)  loss_mal_dn_1: 0.6294 (0.6289)  loss_bbox_dn_1: 0.4685 (0.4873)  loss_giou_dn_1: 1.3437 (1.3431)  loss_fgl_dn_1: 0.8198 (0.8151)  loss_ddf_dn_1: 0.0004 (0.0004)  loss_mal_dn_2: 0.6304 (0.6298)  loss_bbox_dn_2: 0.4653 (0.4855)  loss_giou_dn_2: 1.3421 (1.3406)  loss_fgl_dn_2: 0.8198 (0.8156)  loss_mal_dn_pre: 0.6299 (0.6305)  loss_bbox_dn_pre: 0.4721 (0.4891)  loss_giou_dn_pre: 1.3431 (1.3438)  time: 0.5929  data: 0.1201  max mem: 10278\n",
      "Epoch: [32] Total time: 0:00:08 (0.5976 s / it)\n",
      "Averaged stats: lr: 0.000200  loss: 27.8645 (28.0679)  loss_mal: 0.7236 (0.7035)  loss_bbox: 0.5734 (0.5898)  loss_giou: 1.3656 (1.3786)  loss_fgl: 0.7832 (0.7656)  loss_mal_aux_0: 0.7324 (0.7147)  loss_bbox_aux_0: 0.5735 (0.5918)  loss_giou_aux_0: 1.3669 (1.3807)  loss_fgl_aux_0: 0.7818 (0.7658)  loss_ddf_aux_0: 0.0018 (0.0018)  loss_mal_aux_1: 0.7197 (0.7056)  loss_bbox_aux_1: 0.5729 (0.5912)  loss_giou_aux_1: 1.3667 (1.3804)  loss_fgl_aux_1: 0.7824 (0.7652)  loss_ddf_aux_1: 0.0006 (0.0007)  loss_mal_pre: 0.7314 (0.7137)  loss_bbox_pre: 0.5747 (0.5929)  loss_giou_pre: 1.3649 (1.3794)  loss_mal_enc_0: 0.6924 (0.6863)  loss_bbox_enc_0: 0.6026 (0.6295)  loss_giou_enc_0: 1.4252 (1.4435)  loss_mal_dn_0: 0.6299 (0.6306)  loss_bbox_dn_0: 0.4688 (0.4875)  loss_giou_dn_0: 1.3439 (1.3441)  loss_fgl_dn_0: 0.8191 (0.8146)  loss_ddf_dn_0: 0.0009 (0.0009)  loss_mal_dn_1: 0.6294 (0.6289)  loss_bbox_dn_1: 0.4685 (0.4873)  loss_giou_dn_1: 1.3437 (1.3431)  loss_fgl_dn_1: 0.8198 (0.8151)  loss_ddf_dn_1: 0.0004 (0.0004)  loss_mal_dn_2: 0.6304 (0.6298)  loss_bbox_dn_2: 0.4653 (0.4855)  loss_giou_dn_2: 1.3421 (1.3406)  loss_fgl_dn_2: 0.8198 (0.8156)  loss_mal_dn_pre: 0.6299 (0.6305)  loss_bbox_dn_pre: 0.4721 (0.4891)  loss_giou_dn_pre: 1.3431 (1.3438)\n",
      "Test:  [0/5]  eta: 0:00:04    time: 0.9088  data: 0.6415  max mem: 10278\n"
     ]
    },
    {
     "name": "stderr",
     "output_type": "stream",
     "text": [
      "\u001b[32m2025-03-10 16:22:14.323\u001b[0m | \u001b[1mINFO    \u001b[0m | \u001b[36mdeimkit.trainer\u001b[0m:\u001b[36m_save_checkpoint\u001b[0m:\u001b[36m363\u001b[0m - \u001b[1mSaving checkpoint to outputs/deim_hgnetv2_s_coco_ema_tune/best.pth\u001b[0m\n"
     ]
    },
    {
     "name": "stdout",
     "output_type": "stream",
     "text": [
      "Test:  [4/5]  eta: 0:00:00    time: 0.2733  data: 0.1432  max mem: 10278\n",
      "Test: Total time: 0:00:01 (0.2873 s / it)\n",
      "Averaged stats: \n",
      "Accumulating evaluation results...\n",
      "COCOeval_opt.accumulate() finished...\n",
      "DONE (t=0.01s).\n",
      "IoU metric: bbox\n",
      " Average Precision  (AP) @[ IoU=0.50:0.95 | area=   all | maxDets=100 ] = 0.048\n",
      " Average Precision  (AP) @[ IoU=0.50      | area=   all | maxDets=100 ] = 0.132\n",
      " Average Precision  (AP) @[ IoU=0.75      | area=   all | maxDets=100 ] = 0.033\n",
      " Average Precision  (AP) @[ IoU=0.50:0.95 | area= small | maxDets=100 ] = 0.000\n",
      " Average Precision  (AP) @[ IoU=0.50:0.95 | area=medium | maxDets=100 ] = 0.272\n",
      " Average Precision  (AP) @[ IoU=0.50:0.95 | area= large | maxDets=100 ] = 0.064\n",
      " Average Recall     (AR) @[ IoU=0.50:0.95 | area=   all | maxDets=  1 ] = 0.068\n",
      " Average Recall     (AR) @[ IoU=0.50:0.95 | area=   all | maxDets= 10 ] = 0.124\n",
      " Average Recall     (AR) @[ IoU=0.50:0.95 | area=   all | maxDets=100 ] = 0.180\n",
      " Average Recall     (AR) @[ IoU=0.50:0.95 | area= small | maxDets=100 ] = 0.000\n",
      " Average Recall     (AR) @[ IoU=0.50:0.95 | area=medium | maxDets=100 ] = 0.340\n",
      " Average Recall     (AR) @[ IoU=0.50:0.95 | area= large | maxDets=100 ] = 0.181\n",
      " Average Recall     (AR) @[ IoU=0.50      | area=   all | maxDets=100 ] = 0.437\n",
      " Average Recall     (AR) @[ IoU=0.75      | area=   all | maxDets=100 ] = 0.120\n"
     ]
    },
    {
     "name": "stderr",
     "output_type": "stream",
     "text": [
      "\u001b[32m2025-03-10 16:22:14.639\u001b[0m | \u001b[1mINFO    \u001b[0m | \u001b[36mdeimkit.trainer\u001b[0m:\u001b[36m_save_checkpoint\u001b[0m:\u001b[36m380\u001b[0m - \u001b[1mCheckpoint saved to outputs/deim_hgnetv2_s_coco_ema_tune/best.pth\u001b[0m\n",
      "\u001b[32m2025-03-10 16:22:14.640\u001b[0m | \u001b[1mINFO    \u001b[0m | \u001b[36mdeimkit.trainer\u001b[0m:\u001b[36mtrain\u001b[0m:\u001b[36m312\u001b[0m - \u001b[1mEpoch 32 - Train loss: 28.0679, Eval mAP: 0.0480\u001b[0m\n",
      "\u001b[32m2025-03-10 16:22:14.641\u001b[0m | \u001b[1mINFO    \u001b[0m | \u001b[36mdeimkit.trainer\u001b[0m:\u001b[36mtrain\u001b[0m:\u001b[36m315\u001b[0m - \u001b[1mBest stats: {'epoch': 32, 'coco_eval_bbox': 0.04801036561003028}\u001b[0m\n"
     ]
    },
    {
     "name": "stdout",
     "output_type": "stream",
     "text": [
      "Epoch: [33]  [ 0/15]  eta: 0:00:22  lr: 0.000200  loss: 28.8573 (28.8573)  loss_mal: 0.8081 (0.8081)  loss_bbox: 0.6224 (0.6224)  loss_giou: 1.3305 (1.3305)  loss_fgl: 0.8060 (0.8060)  loss_mal_aux_0: 0.8115 (0.8115)  loss_bbox_aux_0: 0.6291 (0.6291)  loss_giou_aux_0: 1.3380 (1.3380)  loss_fgl_aux_0: 0.8030 (0.8030)  loss_ddf_aux_0: 0.0017 (0.0017)  loss_mal_aux_1: 0.8057 (0.8057)  loss_bbox_aux_1: 0.6265 (0.6265)  loss_giou_aux_1: 1.3361 (1.3361)  loss_fgl_aux_1: 0.8035 (0.8035)  loss_ddf_aux_1: 0.0007 (0.0007)  loss_mal_pre: 0.8076 (0.8076)  loss_bbox_pre: 0.6298 (0.6298)  loss_giou_pre: 1.3374 (1.3374)  loss_mal_enc_0: 0.7529 (0.7529)  loss_bbox_enc_0: 0.6951 (0.6951)  loss_giou_enc_0: 1.4103 (1.4103)  loss_mal_dn_0: 0.6226 (0.6226)  loss_bbox_dn_0: 0.5483 (0.5483)  loss_giou_dn_0: 1.3482 (1.3482)  loss_fgl_dn_0: 0.8100 (0.8100)  loss_ddf_dn_0: 0.0006 (0.0006)  loss_mal_dn_1: 0.6221 (0.6221)  loss_bbox_dn_1: 0.5477 (0.5477)  loss_giou_dn_1: 1.3458 (1.3458)  loss_fgl_dn_1: 0.8113 (0.8113)  loss_ddf_dn_1: 0.0004 (0.0004)  loss_mal_dn_2: 0.6255 (0.6255)  loss_bbox_dn_2: 0.5458 (0.5458)  loss_giou_dn_2: 1.3400 (1.3400)  loss_fgl_dn_2: 0.8136 (0.8136)  loss_mal_dn_pre: 0.6216 (0.6216)  loss_bbox_dn_pre: 0.5490 (0.5490)  loss_giou_dn_pre: 1.3488 (1.3488)  time: 1.4855  data: 1.0193  max mem: 10278\n"
     ]
    },
    {
     "name": "stderr",
     "output_type": "stream",
     "text": [
      "\u001b[32m2025-03-10 16:22:23.290\u001b[0m | \u001b[1mINFO    \u001b[0m | \u001b[36mdeimkit.trainer\u001b[0m:\u001b[36mevaluate\u001b[0m:\u001b[36m331\u001b[0m - \u001b[1mEvaluating model...\u001b[0m\n"
     ]
    },
    {
     "name": "stdout",
     "output_type": "stream",
     "text": [
      "Epoch: [33]  [14/15]  eta: 0:00:00  lr: 0.000200  loss: 28.3032 (28.3227)  loss_mal: 0.6865 (0.7079)  loss_bbox: 0.6284 (0.6190)  loss_giou: 1.4168 (1.3823)  loss_fgl: 0.7371 (0.7642)  loss_mal_aux_0: 0.7085 (0.7136)  loss_bbox_aux_0: 0.6300 (0.6208)  loss_giou_aux_0: 1.4172 (1.3851)  loss_fgl_aux_0: 0.7373 (0.7637)  loss_ddf_aux_0: 0.0024 (0.0024)  loss_mal_aux_1: 0.7012 (0.7070)  loss_bbox_aux_1: 0.6298 (0.6207)  loss_giou_aux_1: 1.4176 (1.3844)  loss_fgl_aux_1: 0.7381 (0.7635)  loss_ddf_aux_1: 0.0010 (0.0011)  loss_mal_pre: 0.7090 (0.7127)  loss_bbox_pre: 0.6305 (0.6224)  loss_giou_pre: 1.4171 (1.3838)  loss_mal_enc_0: 0.6919 (0.6881)  loss_bbox_enc_0: 0.6592 (0.6536)  loss_giou_enc_0: 1.4689 (1.4552)  loss_mal_dn_0: 0.6284 (0.6314)  loss_bbox_dn_0: 0.5130 (0.5087)  loss_giou_dn_0: 1.3482 (1.3420)  loss_fgl_dn_0: 0.8101 (0.8157)  loss_ddf_dn_0: 0.0013 (0.0012)  loss_mal_dn_1: 0.6279 (0.6292)  loss_bbox_dn_1: 0.5130 (0.5087)  loss_giou_dn_1: 1.3461 (1.3410)  loss_fgl_dn_1: 0.8113 (0.8163)  loss_ddf_dn_1: 0.0008 (0.0008)  loss_mal_dn_2: 0.6265 (0.6309)  loss_bbox_dn_2: 0.5079 (0.5066)  loss_giou_dn_2: 1.3453 (1.3386)  loss_fgl_dn_2: 0.8136 (0.8165)  loss_mal_dn_pre: 0.6289 (0.6313)  loss_bbox_dn_pre: 0.5138 (0.5104)  loss_giou_dn_pre: 1.3488 (1.3420)  time: 0.5704  data: 0.0946  max mem: 10278\n",
      "Epoch: [33] Total time: 0:00:08 (0.5752 s / it)\n",
      "Averaged stats: lr: 0.000200  loss: 28.3032 (28.3227)  loss_mal: 0.6865 (0.7079)  loss_bbox: 0.6284 (0.6190)  loss_giou: 1.4168 (1.3823)  loss_fgl: 0.7371 (0.7642)  loss_mal_aux_0: 0.7085 (0.7136)  loss_bbox_aux_0: 0.6300 (0.6208)  loss_giou_aux_0: 1.4172 (1.3851)  loss_fgl_aux_0: 0.7373 (0.7637)  loss_ddf_aux_0: 0.0024 (0.0024)  loss_mal_aux_1: 0.7012 (0.7070)  loss_bbox_aux_1: 0.6298 (0.6207)  loss_giou_aux_1: 1.4176 (1.3844)  loss_fgl_aux_1: 0.7381 (0.7635)  loss_ddf_aux_1: 0.0010 (0.0011)  loss_mal_pre: 0.7090 (0.7127)  loss_bbox_pre: 0.6305 (0.6224)  loss_giou_pre: 1.4171 (1.3838)  loss_mal_enc_0: 0.6919 (0.6881)  loss_bbox_enc_0: 0.6592 (0.6536)  loss_giou_enc_0: 1.4689 (1.4552)  loss_mal_dn_0: 0.6284 (0.6314)  loss_bbox_dn_0: 0.5130 (0.5087)  loss_giou_dn_0: 1.3482 (1.3420)  loss_fgl_dn_0: 0.8101 (0.8157)  loss_ddf_dn_0: 0.0013 (0.0012)  loss_mal_dn_1: 0.6279 (0.6292)  loss_bbox_dn_1: 0.5130 (0.5087)  loss_giou_dn_1: 1.3461 (1.3410)  loss_fgl_dn_1: 0.8113 (0.8163)  loss_ddf_dn_1: 0.0008 (0.0008)  loss_mal_dn_2: 0.6265 (0.6309)  loss_bbox_dn_2: 0.5079 (0.5066)  loss_giou_dn_2: 1.3453 (1.3386)  loss_fgl_dn_2: 0.8136 (0.8165)  loss_mal_dn_pre: 0.6289 (0.6313)  loss_bbox_dn_pre: 0.5138 (0.5104)  loss_giou_dn_pre: 1.3488 (1.3420)\n",
      "Test:  [0/5]  eta: 0:00:04    time: 0.8781  data: 0.6083  max mem: 10278\n"
     ]
    },
    {
     "name": "stderr",
     "output_type": "stream",
     "text": [
      "\u001b[32m2025-03-10 16:22:24.725\u001b[0m | \u001b[1mINFO    \u001b[0m | \u001b[36mdeimkit.trainer\u001b[0m:\u001b[36mtrain\u001b[0m:\u001b[36m312\u001b[0m - \u001b[1mEpoch 33 - Train loss: 28.3227, Eval mAP: 0.0273\u001b[0m\n",
      "\u001b[32m2025-03-10 16:22:24.726\u001b[0m | \u001b[1mINFO    \u001b[0m | \u001b[36mdeimkit.trainer\u001b[0m:\u001b[36mtrain\u001b[0m:\u001b[36m315\u001b[0m - \u001b[1mBest stats: {'epoch': 32, 'coco_eval_bbox': 0.04801036561003028}\u001b[0m\n"
     ]
    },
    {
     "name": "stdout",
     "output_type": "stream",
     "text": [
      "Test:  [4/5]  eta: 0:00:00    time: 0.2704  data: 0.1399  max mem: 10278\n",
      "Test: Total time: 0:00:01 (0.2826 s / it)\n",
      "Averaged stats: \n",
      "Accumulating evaluation results...\n",
      "COCOeval_opt.accumulate() finished...\n",
      "DONE (t=0.01s).\n",
      "IoU metric: bbox\n",
      " Average Precision  (AP) @[ IoU=0.50:0.95 | area=   all | maxDets=100 ] = 0.027\n",
      " Average Precision  (AP) @[ IoU=0.50      | area=   all | maxDets=100 ] = 0.105\n",
      " Average Precision  (AP) @[ IoU=0.75      | area=   all | maxDets=100 ] = 0.005\n",
      " Average Precision  (AP) @[ IoU=0.50:0.95 | area= small | maxDets=100 ] = 0.000\n",
      " Average Precision  (AP) @[ IoU=0.50:0.95 | area=medium | maxDets=100 ] = 0.004\n",
      " Average Precision  (AP) @[ IoU=0.50:0.95 | area= large | maxDets=100 ] = 0.042\n",
      " Average Recall     (AR) @[ IoU=0.50:0.95 | area=   all | maxDets=  1 ] = 0.038\n",
      " Average Recall     (AR) @[ IoU=0.50:0.95 | area=   all | maxDets= 10 ] = 0.065\n",
      " Average Recall     (AR) @[ IoU=0.50:0.95 | area=   all | maxDets=100 ] = 0.100\n",
      " Average Recall     (AR) @[ IoU=0.50:0.95 | area= small | maxDets=100 ] = 0.000\n",
      " Average Recall     (AR) @[ IoU=0.50:0.95 | area=medium | maxDets=100 ] = 0.064\n",
      " Average Recall     (AR) @[ IoU=0.50:0.95 | area= large | maxDets=100 ] = 0.095\n",
      " Average Recall     (AR) @[ IoU=0.50      | area=   all | maxDets=100 ] = 0.296\n",
      " Average Recall     (AR) @[ IoU=0.75      | area=   all | maxDets=100 ] = 0.050\n",
      "Epoch: [34]  [ 0/15]  eta: 0:00:32  lr: 0.000200  loss: 27.9120 (27.9120)  loss_mal: 0.6021 (0.6021)  loss_bbox: 0.6221 (0.6221)  loss_giou: 1.5093 (1.5093)  loss_fgl: 0.6749 (0.6749)  loss_mal_aux_0: 0.6050 (0.6050)  loss_bbox_aux_0: 0.6263 (0.6263)  loss_giou_aux_0: 1.5108 (1.5108)  loss_fgl_aux_0: 0.6746 (0.6746)  loss_ddf_aux_0: 0.0022 (0.0022)  loss_mal_aux_1: 0.6040 (0.6040)  loss_bbox_aux_1: 0.6257 (0.6257)  loss_giou_aux_1: 1.5106 (1.5106)  loss_fgl_aux_1: 0.6746 (0.6746)  loss_ddf_aux_1: 0.0010 (0.0010)  loss_mal_pre: 0.6030 (0.6030)  loss_bbox_pre: 0.6297 (0.6297)  loss_giou_pre: 1.5084 (1.5084)  loss_mal_enc_0: 0.6016 (0.6016)  loss_bbox_enc_0: 0.6518 (0.6518)  loss_giou_enc_0: 1.5489 (1.5489)  loss_mal_dn_0: 0.6133 (0.6133)  loss_bbox_dn_0: 0.4498 (0.4498)  loss_giou_dn_0: 1.3816 (1.3816)  loss_fgl_dn_0: 0.7841 (0.7841)  loss_ddf_dn_0: 0.0011 (0.0011)  loss_mal_dn_1: 0.6104 (0.6104)  loss_bbox_dn_1: 0.4501 (0.4501)  loss_giou_dn_1: 1.3814 (1.3814)  loss_fgl_dn_1: 0.7844 (0.7844)  loss_ddf_dn_1: 0.0007 (0.0007)  loss_mal_dn_2: 0.6113 (0.6113)  loss_bbox_dn_2: 0.4481 (0.4481)  loss_giou_dn_2: 1.3798 (1.3798)  loss_fgl_dn_2: 0.7842 (0.7842)  loss_mal_dn_pre: 0.6138 (0.6138)  loss_bbox_dn_pre: 0.4509 (0.4509)  loss_giou_dn_pre: 1.3804 (1.3804)  time: 2.1443  data: 1.5371  max mem: 10278\n"
     ]
    },
    {
     "name": "stderr",
     "output_type": "stream",
     "text": [
      "\u001b[32m2025-03-10 16:22:34.296\u001b[0m | \u001b[1mINFO    \u001b[0m | \u001b[36mdeimkit.trainer\u001b[0m:\u001b[36mevaluate\u001b[0m:\u001b[36m331\u001b[0m - \u001b[1mEvaluating model...\u001b[0m\n"
     ]
    },
    {
     "name": "stdout",
     "output_type": "stream",
     "text": [
      "Epoch: [34]  [14/15]  eta: 0:00:00  lr: 0.000200  loss: 27.8129 (27.8421)  loss_mal: 0.6553 (0.6760)  loss_bbox: 0.5921 (0.5791)  loss_giou: 1.4102 (1.3965)  loss_fgl: 0.7377 (0.7505)  loss_mal_aux_0: 0.6641 (0.6781)  loss_bbox_aux_0: 0.5930 (0.5811)  loss_giou_aux_0: 1.4130 (1.4003)  loss_fgl_aux_0: 0.7372 (0.7497)  loss_ddf_aux_0: 0.0028 (0.0028)  loss_mal_aux_1: 0.6577 (0.6732)  loss_bbox_aux_1: 0.5936 (0.5808)  loss_giou_aux_1: 1.4130 (1.3997)  loss_fgl_aux_1: 0.7368 (0.7494)  loss_ddf_aux_1: 0.0015 (0.0016)  loss_mal_pre: 0.6631 (0.6779)  loss_bbox_pre: 0.5942 (0.5827)  loss_giou_pre: 1.4101 (1.3983)  loss_mal_enc_0: 0.6577 (0.6655)  loss_bbox_enc_0: 0.6185 (0.6092)  loss_giou_enc_0: 1.4469 (1.4442)  loss_mal_dn_0: 0.6201 (0.6231)  loss_bbox_dn_0: 0.4657 (0.4798)  loss_giou_dn_0: 1.3580 (1.3575)  loss_fgl_dn_0: 0.8011 (0.8021)  loss_ddf_dn_0: 0.0017 (0.0018)  loss_mal_dn_1: 0.6206 (0.6208)  loss_bbox_dn_1: 0.4656 (0.4803)  loss_giou_dn_1: 1.3563 (1.3563)  loss_fgl_dn_1: 0.8018 (0.8029)  loss_ddf_dn_1: 0.0010 (0.0011)  loss_mal_dn_2: 0.6196 (0.6216)  loss_bbox_dn_2: 0.4664 (0.4794)  loss_giou_dn_2: 1.3510 (1.3546)  loss_fgl_dn_2: 0.8032 (0.8029)  loss_mal_dn_pre: 0.6201 (0.6229)  loss_bbox_dn_pre: 0.4673 (0.4806)  loss_giou_dn_pre: 1.3587 (1.3576)  time: 0.6321  data: 0.1200  max mem: 10278\n",
      "Epoch: [34] Total time: 0:00:09 (0.6367 s / it)\n",
      "Averaged stats: lr: 0.000200  loss: 27.8129 (27.8421)  loss_mal: 0.6553 (0.6760)  loss_bbox: 0.5921 (0.5791)  loss_giou: 1.4102 (1.3965)  loss_fgl: 0.7377 (0.7505)  loss_mal_aux_0: 0.6641 (0.6781)  loss_bbox_aux_0: 0.5930 (0.5811)  loss_giou_aux_0: 1.4130 (1.4003)  loss_fgl_aux_0: 0.7372 (0.7497)  loss_ddf_aux_0: 0.0028 (0.0028)  loss_mal_aux_1: 0.6577 (0.6732)  loss_bbox_aux_1: 0.5936 (0.5808)  loss_giou_aux_1: 1.4130 (1.3997)  loss_fgl_aux_1: 0.7368 (0.7494)  loss_ddf_aux_1: 0.0015 (0.0016)  loss_mal_pre: 0.6631 (0.6779)  loss_bbox_pre: 0.5942 (0.5827)  loss_giou_pre: 1.4101 (1.3983)  loss_mal_enc_0: 0.6577 (0.6655)  loss_bbox_enc_0: 0.6185 (0.6092)  loss_giou_enc_0: 1.4469 (1.4442)  loss_mal_dn_0: 0.6201 (0.6231)  loss_bbox_dn_0: 0.4657 (0.4798)  loss_giou_dn_0: 1.3580 (1.3575)  loss_fgl_dn_0: 0.8011 (0.8021)  loss_ddf_dn_0: 0.0017 (0.0018)  loss_mal_dn_1: 0.6206 (0.6208)  loss_bbox_dn_1: 0.4656 (0.4803)  loss_giou_dn_1: 1.3563 (1.3563)  loss_fgl_dn_1: 0.8018 (0.8029)  loss_ddf_dn_1: 0.0010 (0.0011)  loss_mal_dn_2: 0.6196 (0.6216)  loss_bbox_dn_2: 0.4664 (0.4794)  loss_giou_dn_2: 1.3510 (1.3546)  loss_fgl_dn_2: 0.8032 (0.8029)  loss_mal_dn_pre: 0.6201 (0.6229)  loss_bbox_dn_pre: 0.4673 (0.4806)  loss_giou_dn_pre: 1.3587 (1.3576)\n",
      "Test:  [0/5]  eta: 0:00:03    time: 0.7545  data: 0.6413  max mem: 10278\n"
     ]
    },
    {
     "name": "stderr",
     "output_type": "stream",
     "text": [
      "\u001b[32m2025-03-10 16:22:35.744\u001b[0m | \u001b[1mINFO    \u001b[0m | \u001b[36mdeimkit.trainer\u001b[0m:\u001b[36mtrain\u001b[0m:\u001b[36m312\u001b[0m - \u001b[1mEpoch 34 - Train loss: 27.8421, Eval mAP: 0.0276\u001b[0m\n",
      "\u001b[32m2025-03-10 16:22:35.745\u001b[0m | \u001b[1mINFO    \u001b[0m | \u001b[36mdeimkit.trainer\u001b[0m:\u001b[36mtrain\u001b[0m:\u001b[36m315\u001b[0m - \u001b[1mBest stats: {'epoch': 32, 'coco_eval_bbox': 0.04801036561003028}\u001b[0m\n"
     ]
    },
    {
     "name": "stdout",
     "output_type": "stream",
     "text": [
      "Test:  [4/5]  eta: 0:00:00    time: 0.2734  data: 0.1412  max mem: 10278\n",
      "Test: Total time: 0:00:01 (0.2852 s / it)\n",
      "Averaged stats: \n",
      "Accumulating evaluation results...\n",
      "COCOeval_opt.accumulate() finished...\n",
      "DONE (t=0.01s).\n",
      "IoU metric: bbox\n",
      " Average Precision  (AP) @[ IoU=0.50:0.95 | area=   all | maxDets=100 ] = 0.028\n",
      " Average Precision  (AP) @[ IoU=0.50      | area=   all | maxDets=100 ] = 0.067\n",
      " Average Precision  (AP) @[ IoU=0.75      | area=   all | maxDets=100 ] = 0.031\n",
      " Average Precision  (AP) @[ IoU=0.50:0.95 | area= small | maxDets=100 ] = 0.000\n",
      " Average Precision  (AP) @[ IoU=0.50:0.95 | area=medium | maxDets=100 ] = 0.004\n",
      " Average Precision  (AP) @[ IoU=0.50:0.95 | area= large | maxDets=100 ] = 0.044\n",
      " Average Recall     (AR) @[ IoU=0.50:0.95 | area=   all | maxDets=  1 ] = 0.036\n",
      " Average Recall     (AR) @[ IoU=0.50:0.95 | area=   all | maxDets= 10 ] = 0.054\n",
      " Average Recall     (AR) @[ IoU=0.50:0.95 | area=   all | maxDets=100 ] = 0.083\n",
      " Average Recall     (AR) @[ IoU=0.50:0.95 | area= small | maxDets=100 ] = 0.000\n",
      " Average Recall     (AR) @[ IoU=0.50:0.95 | area=medium | maxDets=100 ] = 0.051\n",
      " Average Recall     (AR) @[ IoU=0.50:0.95 | area= large | maxDets=100 ] = 0.081\n",
      " Average Recall     (AR) @[ IoU=0.50      | area=   all | maxDets=100 ] = 0.238\n",
      " Average Recall     (AR) @[ IoU=0.75      | area=   all | maxDets=100 ] = 0.063\n",
      "Epoch: [35]  [ 0/15]  eta: 0:00:25  lr: 0.000200  loss: 27.9980 (27.9980)  loss_mal: 0.8784 (0.8784)  loss_bbox: 0.4870 (0.4870)  loss_giou: 1.2021 (1.2021)  loss_fgl: 0.9060 (0.9060)  loss_mal_aux_0: 0.8677 (0.8677)  loss_bbox_aux_0: 0.4925 (0.4925)  loss_giou_aux_0: 1.2144 (1.2144)  loss_fgl_aux_0: 0.9017 (0.9017)  loss_ddf_aux_0: 0.0029 (0.0029)  loss_mal_aux_1: 0.8545 (0.8545)  loss_bbox_aux_1: 0.4908 (0.4908)  loss_giou_aux_1: 1.2106 (1.2106)  loss_fgl_aux_1: 0.9016 (0.9016)  loss_ddf_aux_1: 0.0018 (0.0018)  loss_mal_pre: 0.8662 (0.8662)  loss_bbox_pre: 0.4928 (0.4928)  loss_giou_pre: 1.2143 (1.2143)  loss_mal_enc_0: 0.8535 (0.8535)  loss_bbox_enc_0: 0.5368 (0.5368)  loss_giou_enc_0: 1.2919 (1.2919)  loss_mal_dn_0: 0.6372 (0.6372)  loss_bbox_dn_0: 0.5170 (0.5170)  loss_giou_dn_0: 1.3113 (1.3113)  loss_fgl_dn_0: 0.8270 (0.8270)  loss_ddf_dn_0: 0.0015 (0.0015)  loss_mal_dn_1: 0.6348 (0.6348)  loss_bbox_dn_1: 0.5168 (0.5168)  loss_giou_dn_1: 1.3084 (1.3084)  loss_fgl_dn_1: 0.8282 (0.8282)  loss_ddf_dn_1: 0.0011 (0.0011)  loss_mal_dn_2: 0.6401 (0.6401)  loss_bbox_dn_2: 0.5127 (0.5127)  loss_giou_dn_2: 1.2989 (1.2989)  loss_fgl_dn_2: 0.8326 (0.8326)  loss_mal_dn_pre: 0.6367 (0.6367)  loss_bbox_dn_pre: 0.5153 (0.5153)  loss_giou_dn_pre: 1.3110 (1.3110)  time: 1.7008  data: 1.1727  max mem: 10278\n"
     ]
    },
    {
     "name": "stderr",
     "output_type": "stream",
     "text": [
      "\u001b[32m2025-03-10 16:22:43.685\u001b[0m | \u001b[1mINFO    \u001b[0m | \u001b[36mdeimkit.trainer\u001b[0m:\u001b[36m_save_checkpoint\u001b[0m:\u001b[36m363\u001b[0m - \u001b[1mSaving checkpoint to outputs/deim_hgnetv2_s_coco_ema_tune/checkpoint0035.pth\u001b[0m\n"
     ]
    },
    {
     "name": "stdout",
     "output_type": "stream",
     "text": [
      "Epoch: [35]  [14/15]  eta: 0:00:00  lr: 0.000200  loss: 27.9549 (27.9028)  loss_mal: 0.7461 (0.7607)  loss_bbox: 0.5081 (0.5454)  loss_giou: 1.2697 (1.2987)  loss_fgl: 0.8224 (0.8214)  loss_mal_aux_0: 0.7422 (0.7654)  loss_bbox_aux_0: 0.5114 (0.5467)  loss_giou_aux_0: 1.2750 (1.3037)  loss_fgl_aux_0: 0.8237 (0.8212)  loss_ddf_aux_0: 0.0040 (0.0040)  loss_mal_aux_1: 0.7363 (0.7550)  loss_bbox_aux_1: 0.5121 (0.5467)  loss_giou_aux_1: 1.2747 (1.3026)  loss_fgl_aux_1: 0.8213 (0.8203)  loss_ddf_aux_1: 0.0019 (0.0019)  loss_mal_pre: 0.7402 (0.7640)  loss_bbox_pre: 0.5058 (0.5459)  loss_giou_pre: 1.2754 (1.3041)  loss_mal_enc_0: 0.7202 (0.7509)  loss_bbox_enc_0: 0.5407 (0.5754)  loss_giou_enc_0: 1.3464 (1.3737)  loss_mal_dn_0: 0.6294 (0.6316)  loss_bbox_dn_0: 0.4713 (0.4946)  loss_giou_dn_0: 1.3341 (1.3362)  loss_fgl_dn_0: 0.8194 (0.8185)  loss_ddf_dn_0: 0.0025 (0.0024)  loss_mal_dn_1: 0.6260 (0.6280)  loss_bbox_dn_1: 0.4732 (0.4940)  loss_giou_dn_1: 1.3314 (1.3349)  loss_fgl_dn_1: 0.8198 (0.8190)  loss_ddf_dn_1: 0.0014 (0.0013)  loss_mal_dn_2: 0.6294 (0.6308)  loss_bbox_dn_2: 0.4738 (0.4897)  loss_giou_dn_2: 1.3239 (1.3284)  loss_fgl_dn_2: 0.8240 (0.8206)  loss_mal_dn_pre: 0.6294 (0.6323)  loss_bbox_dn_pre: 0.4729 (0.4979)  loss_giou_dn_pre: 1.3325 (1.3351)  time: 0.5238  data: 0.0979  max mem: 10278\n",
      "Epoch: [35] Total time: 0:00:07 (0.5283 s / it)\n",
      "Averaged stats: lr: 0.000200  loss: 27.9549 (27.9028)  loss_mal: 0.7461 (0.7607)  loss_bbox: 0.5081 (0.5454)  loss_giou: 1.2697 (1.2987)  loss_fgl: 0.8224 (0.8214)  loss_mal_aux_0: 0.7422 (0.7654)  loss_bbox_aux_0: 0.5114 (0.5467)  loss_giou_aux_0: 1.2750 (1.3037)  loss_fgl_aux_0: 0.8237 (0.8212)  loss_ddf_aux_0: 0.0040 (0.0040)  loss_mal_aux_1: 0.7363 (0.7550)  loss_bbox_aux_1: 0.5121 (0.5467)  loss_giou_aux_1: 1.2747 (1.3026)  loss_fgl_aux_1: 0.8213 (0.8203)  loss_ddf_aux_1: 0.0019 (0.0019)  loss_mal_pre: 0.7402 (0.7640)  loss_bbox_pre: 0.5058 (0.5459)  loss_giou_pre: 1.2754 (1.3041)  loss_mal_enc_0: 0.7202 (0.7509)  loss_bbox_enc_0: 0.5407 (0.5754)  loss_giou_enc_0: 1.3464 (1.3737)  loss_mal_dn_0: 0.6294 (0.6316)  loss_bbox_dn_0: 0.4713 (0.4946)  loss_giou_dn_0: 1.3341 (1.3362)  loss_fgl_dn_0: 0.8194 (0.8185)  loss_ddf_dn_0: 0.0025 (0.0024)  loss_mal_dn_1: 0.6260 (0.6280)  loss_bbox_dn_1: 0.4732 (0.4940)  loss_giou_dn_1: 1.3314 (1.3349)  loss_fgl_dn_1: 0.8198 (0.8190)  loss_ddf_dn_1: 0.0014 (0.0013)  loss_mal_dn_2: 0.6294 (0.6308)  loss_bbox_dn_2: 0.4738 (0.4897)  loss_giou_dn_2: 1.3239 (1.3284)  loss_fgl_dn_2: 0.8240 (0.8206)  loss_mal_dn_pre: 0.6294 (0.6323)  loss_bbox_dn_pre: 0.4729 (0.4979)  loss_giou_dn_pre: 1.3325 (1.3351)\n"
     ]
    },
    {
     "name": "stderr",
     "output_type": "stream",
     "text": [
      "\u001b[32m2025-03-10 16:22:43.949\u001b[0m | \u001b[1mINFO    \u001b[0m | \u001b[36mdeimkit.trainer\u001b[0m:\u001b[36m_save_checkpoint\u001b[0m:\u001b[36m380\u001b[0m - \u001b[1mCheckpoint saved to outputs/deim_hgnetv2_s_coco_ema_tune/checkpoint0035.pth\u001b[0m\n",
      "\u001b[32m2025-03-10 16:22:43.950\u001b[0m | \u001b[1mINFO    \u001b[0m | \u001b[36mdeimkit.trainer\u001b[0m:\u001b[36mevaluate\u001b[0m:\u001b[36m331\u001b[0m - \u001b[1mEvaluating model...\u001b[0m\n"
     ]
    },
    {
     "name": "stdout",
     "output_type": "stream",
     "text": [
      "Test:  [0/5]  eta: 0:00:03    time: 0.7452  data: 0.6318  max mem: 10278\n"
     ]
    },
    {
     "name": "stderr",
     "output_type": "stream",
     "text": [
      "\u001b[32m2025-03-10 16:22:45.407\u001b[0m | \u001b[1mINFO    \u001b[0m | \u001b[36mdeimkit.trainer\u001b[0m:\u001b[36m_save_checkpoint\u001b[0m:\u001b[36m363\u001b[0m - \u001b[1mSaving checkpoint to outputs/deim_hgnetv2_s_coco_ema_tune/best.pth\u001b[0m\n"
     ]
    },
    {
     "name": "stdout",
     "output_type": "stream",
     "text": [
      "Test:  [4/5]  eta: 0:00:00    time: 0.2727  data: 0.1385  max mem: 10278\n",
      "Test: Total time: 0:00:01 (0.2870 s / it)\n",
      "Averaged stats: \n",
      "Accumulating evaluation results...\n",
      "COCOeval_opt.accumulate() finished...\n",
      "DONE (t=0.01s).\n",
      "IoU metric: bbox\n",
      " Average Precision  (AP) @[ IoU=0.50:0.95 | area=   all | maxDets=100 ] = 0.058\n",
      " Average Precision  (AP) @[ IoU=0.50      | area=   all | maxDets=100 ] = 0.170\n",
      " Average Precision  (AP) @[ IoU=0.75      | area=   all | maxDets=100 ] = 0.029\n",
      " Average Precision  (AP) @[ IoU=0.50:0.95 | area= small | maxDets=100 ] = 0.000\n",
      " Average Precision  (AP) @[ IoU=0.50:0.95 | area=medium | maxDets=100 ] = 0.006\n",
      " Average Precision  (AP) @[ IoU=0.50:0.95 | area= large | maxDets=100 ] = 0.061\n",
      " Average Recall     (AR) @[ IoU=0.50:0.95 | area=   all | maxDets=  1 ] = 0.109\n",
      " Average Recall     (AR) @[ IoU=0.50:0.95 | area=   all | maxDets= 10 ] = 0.203\n",
      " Average Recall     (AR) @[ IoU=0.50:0.95 | area=   all | maxDets=100 ] = 0.248\n",
      " Average Recall     (AR) @[ IoU=0.50:0.95 | area= small | maxDets=100 ] = 0.000\n",
      " Average Recall     (AR) @[ IoU=0.50:0.95 | area=medium | maxDets=100 ] = 0.049\n",
      " Average Recall     (AR) @[ IoU=0.50:0.95 | area= large | maxDets=100 ] = 0.256\n",
      " Average Recall     (AR) @[ IoU=0.50      | area=   all | maxDets=100 ] = 0.495\n",
      " Average Recall     (AR) @[ IoU=0.75      | area=   all | maxDets=100 ] = 0.226\n"
     ]
    },
    {
     "name": "stderr",
     "output_type": "stream",
     "text": [
      "\u001b[32m2025-03-10 16:22:45.795\u001b[0m | \u001b[1mINFO    \u001b[0m | \u001b[36mdeimkit.trainer\u001b[0m:\u001b[36m_save_checkpoint\u001b[0m:\u001b[36m380\u001b[0m - \u001b[1mCheckpoint saved to outputs/deim_hgnetv2_s_coco_ema_tune/best.pth\u001b[0m\n",
      "\u001b[32m2025-03-10 16:22:45.797\u001b[0m | \u001b[1mINFO    \u001b[0m | \u001b[36mdeimkit.trainer\u001b[0m:\u001b[36mtrain\u001b[0m:\u001b[36m312\u001b[0m - \u001b[1mEpoch 35 - Train loss: 27.9028, Eval mAP: 0.0576\u001b[0m\n",
      "\u001b[32m2025-03-10 16:22:45.797\u001b[0m | \u001b[1mINFO    \u001b[0m | \u001b[36mdeimkit.trainer\u001b[0m:\u001b[36mtrain\u001b[0m:\u001b[36m315\u001b[0m - \u001b[1mBest stats: {'epoch': 35, 'coco_eval_bbox': 0.05764228656271571}\u001b[0m\n"
     ]
    },
    {
     "name": "stdout",
     "output_type": "stream",
     "text": [
      "Epoch: [36]  [ 0/15]  eta: 0:00:31  lr: 0.000200  loss: 28.0633 (28.0633)  loss_mal: 0.6460 (0.6460)  loss_bbox: 0.6117 (0.6117)  loss_giou: 1.4392 (1.4392)  loss_fgl: 0.7299 (0.7299)  loss_mal_aux_0: 0.6421 (0.6421)  loss_bbox_aux_0: 0.6151 (0.6151)  loss_giou_aux_0: 1.4434 (1.4434)  loss_fgl_aux_0: 0.7275 (0.7275)  loss_ddf_aux_0: 0.0052 (0.0052)  loss_mal_aux_1: 0.6377 (0.6377)  loss_bbox_aux_1: 0.6140 (0.6140)  loss_giou_aux_1: 1.4425 (1.4425)  loss_fgl_aux_1: 0.7279 (0.7279)  loss_ddf_aux_1: 0.0025 (0.0025)  loss_mal_pre: 0.6396 (0.6396)  loss_bbox_pre: 0.6179 (0.6179)  loss_giou_pre: 1.4440 (1.4440)  loss_mal_enc_0: 0.6152 (0.6152)  loss_bbox_enc_0: 0.6449 (0.6449)  loss_giou_enc_0: 1.5207 (1.5207)  loss_mal_dn_0: 0.6289 (0.6289)  loss_bbox_dn_0: 0.4842 (0.4842)  loss_giou_dn_0: 1.3494 (1.3494)  loss_fgl_dn_0: 0.8156 (0.8156)  loss_ddf_dn_0: 0.0034 (0.0034)  loss_mal_dn_1: 0.6270 (0.6270)  loss_bbox_dn_1: 0.4827 (0.4827)  loss_giou_dn_1: 1.3492 (1.3492)  loss_fgl_dn_1: 0.8153 (0.8153)  loss_ddf_dn_1: 0.0019 (0.0019)  loss_mal_dn_2: 0.6304 (0.6304)  loss_bbox_dn_2: 0.4795 (0.4795)  loss_giou_dn_2: 1.3471 (1.3471)  loss_fgl_dn_2: 0.8149 (0.8149)  loss_mal_dn_pre: 0.6309 (0.6309)  loss_bbox_dn_pre: 0.4904 (0.4904)  loss_giou_dn_pre: 1.3455 (1.3455)  time: 2.1028  data: 1.4764  max mem: 10278\n"
     ]
    },
    {
     "name": "stderr",
     "output_type": "stream",
     "text": [
      "\u001b[32m2025-03-10 16:22:54.781\u001b[0m | \u001b[1mINFO    \u001b[0m | \u001b[36mdeimkit.trainer\u001b[0m:\u001b[36mevaluate\u001b[0m:\u001b[36m331\u001b[0m - \u001b[1mEvaluating model...\u001b[0m\n"
     ]
    },
    {
     "name": "stdout",
     "output_type": "stream",
     "text": [
      "Epoch: [36]  [14/15]  eta: 0:00:00  lr: 0.000200  loss: 27.7092 (27.7330)  loss_mal: 0.7031 (0.7425)  loss_bbox: 0.5730 (0.5388)  loss_giou: 1.3488 (1.3039)  loss_fgl: 0.7938 (0.8173)  loss_mal_aux_0: 0.7148 (0.7437)  loss_bbox_aux_0: 0.5754 (0.5417)  loss_giou_aux_0: 1.3513 (1.3083)  loss_fgl_aux_0: 0.7935 (0.8162)  loss_ddf_aux_0: 0.0047 (0.0046)  loss_mal_aux_1: 0.6987 (0.7389)  loss_bbox_aux_1: 0.5748 (0.5408)  loss_giou_aux_1: 1.3500 (1.3072)  loss_fgl_aux_1: 0.7939 (0.8161)  loss_ddf_aux_1: 0.0024 (0.0024)  loss_mal_pre: 0.7144 (0.7430)  loss_bbox_pre: 0.5778 (0.5416)  loss_giou_pre: 1.3522 (1.3077)  loss_mal_enc_0: 0.7061 (0.7265)  loss_bbox_enc_0: 0.5854 (0.5633)  loss_giou_enc_0: 1.3841 (1.3685)  loss_mal_dn_0: 0.6289 (0.6299)  loss_bbox_dn_0: 0.4842 (0.4836)  loss_giou_dn_0: 1.3494 (1.3434)  loss_fgl_dn_0: 0.8156 (0.8150)  loss_ddf_dn_0: 0.0031 (0.0029)  loss_mal_dn_1: 0.6270 (0.6279)  loss_bbox_dn_1: 0.4827 (0.4825)  loss_giou_dn_1: 1.3492 (1.3414)  loss_fgl_dn_1: 0.8153 (0.8156)  loss_ddf_dn_1: 0.0019 (0.0017)  loss_mal_dn_2: 0.6304 (0.6314)  loss_bbox_dn_2: 0.4794 (0.4761)  loss_giou_dn_2: 1.3444 (1.3320)  loss_fgl_dn_2: 0.8149 (0.8179)  loss_mal_dn_pre: 0.6294 (0.6299)  loss_bbox_dn_pre: 0.4891 (0.4859)  loss_giou_dn_pre: 1.3455 (1.3429)  time: 0.5938  data: 0.1234  max mem: 10278\n",
      "Epoch: [36] Total time: 0:00:08 (0.5978 s / it)\n",
      "Averaged stats: lr: 0.000200  loss: 27.7092 (27.7330)  loss_mal: 0.7031 (0.7425)  loss_bbox: 0.5730 (0.5388)  loss_giou: 1.3488 (1.3039)  loss_fgl: 0.7938 (0.8173)  loss_mal_aux_0: 0.7148 (0.7437)  loss_bbox_aux_0: 0.5754 (0.5417)  loss_giou_aux_0: 1.3513 (1.3083)  loss_fgl_aux_0: 0.7935 (0.8162)  loss_ddf_aux_0: 0.0047 (0.0046)  loss_mal_aux_1: 0.6987 (0.7389)  loss_bbox_aux_1: 0.5748 (0.5408)  loss_giou_aux_1: 1.3500 (1.3072)  loss_fgl_aux_1: 0.7939 (0.8161)  loss_ddf_aux_1: 0.0024 (0.0024)  loss_mal_pre: 0.7144 (0.7430)  loss_bbox_pre: 0.5778 (0.5416)  loss_giou_pre: 1.3522 (1.3077)  loss_mal_enc_0: 0.7061 (0.7265)  loss_bbox_enc_0: 0.5854 (0.5633)  loss_giou_enc_0: 1.3841 (1.3685)  loss_mal_dn_0: 0.6289 (0.6299)  loss_bbox_dn_0: 0.4842 (0.4836)  loss_giou_dn_0: 1.3494 (1.3434)  loss_fgl_dn_0: 0.8156 (0.8150)  loss_ddf_dn_0: 0.0031 (0.0029)  loss_mal_dn_1: 0.6270 (0.6279)  loss_bbox_dn_1: 0.4827 (0.4825)  loss_giou_dn_1: 1.3492 (1.3414)  loss_fgl_dn_1: 0.8153 (0.8156)  loss_ddf_dn_1: 0.0019 (0.0017)  loss_mal_dn_2: 0.6304 (0.6314)  loss_bbox_dn_2: 0.4794 (0.4761)  loss_giou_dn_2: 1.3444 (1.3320)  loss_fgl_dn_2: 0.8149 (0.8179)  loss_mal_dn_pre: 0.6294 (0.6299)  loss_bbox_dn_pre: 0.4891 (0.4859)  loss_giou_dn_pre: 1.3455 (1.3429)\n",
      "Test:  [0/5]  eta: 0:00:03    time: 0.7690  data: 0.6585  max mem: 10278\n"
     ]
    },
    {
     "name": "stderr",
     "output_type": "stream",
     "text": [
      "\u001b[32m2025-03-10 16:22:56.244\u001b[0m | \u001b[1mINFO    \u001b[0m | \u001b[36mdeimkit.trainer\u001b[0m:\u001b[36m_save_checkpoint\u001b[0m:\u001b[36m363\u001b[0m - \u001b[1mSaving checkpoint to outputs/deim_hgnetv2_s_coco_ema_tune/best.pth\u001b[0m\n"
     ]
    },
    {
     "name": "stdout",
     "output_type": "stream",
     "text": [
      "Test:  [4/5]  eta: 0:00:00    time: 0.2759  data: 0.1432  max mem: 10278\n",
      "Test: Total time: 0:00:01 (0.2881 s / it)\n",
      "Averaged stats: \n",
      "Accumulating evaluation results...\n",
      "COCOeval_opt.accumulate() finished...\n",
      "DONE (t=0.01s).\n",
      "IoU metric: bbox\n",
      " Average Precision  (AP) @[ IoU=0.50:0.95 | area=   all | maxDets=100 ] = 0.078\n",
      " Average Precision  (AP) @[ IoU=0.50      | area=   all | maxDets=100 ] = 0.199\n",
      " Average Precision  (AP) @[ IoU=0.75      | area=   all | maxDets=100 ] = 0.047\n",
      " Average Precision  (AP) @[ IoU=0.50:0.95 | area= small | maxDets=100 ] = 0.000\n",
      " Average Precision  (AP) @[ IoU=0.50:0.95 | area=medium | maxDets=100 ] = 0.108\n",
      " Average Precision  (AP) @[ IoU=0.50:0.95 | area= large | maxDets=100 ] = 0.091\n",
      " Average Recall     (AR) @[ IoU=0.50:0.95 | area=   all | maxDets=  1 ] = 0.112\n",
      " Average Recall     (AR) @[ IoU=0.50:0.95 | area=   all | maxDets= 10 ] = 0.172\n",
      " Average Recall     (AR) @[ IoU=0.50:0.95 | area=   all | maxDets=100 ] = 0.232\n",
      " Average Recall     (AR) @[ IoU=0.50:0.95 | area= small | maxDets=100 ] = 0.000\n",
      " Average Recall     (AR) @[ IoU=0.50:0.95 | area=medium | maxDets=100 ] = 0.193\n",
      " Average Recall     (AR) @[ IoU=0.50:0.95 | area= large | maxDets=100 ] = 0.232\n",
      " Average Recall     (AR) @[ IoU=0.50      | area=   all | maxDets=100 ] = 0.538\n",
      " Average Recall     (AR) @[ IoU=0.75      | area=   all | maxDets=100 ] = 0.169\n"
     ]
    },
    {
     "name": "stderr",
     "output_type": "stream",
     "text": [
      "\u001b[32m2025-03-10 16:22:56.558\u001b[0m | \u001b[1mINFO    \u001b[0m | \u001b[36mdeimkit.trainer\u001b[0m:\u001b[36m_save_checkpoint\u001b[0m:\u001b[36m380\u001b[0m - \u001b[1mCheckpoint saved to outputs/deim_hgnetv2_s_coco_ema_tune/best.pth\u001b[0m\n",
      "\u001b[32m2025-03-10 16:22:56.560\u001b[0m | \u001b[1mINFO    \u001b[0m | \u001b[36mdeimkit.trainer\u001b[0m:\u001b[36mtrain\u001b[0m:\u001b[36m312\u001b[0m - \u001b[1mEpoch 36 - Train loss: 27.7330, Eval mAP: 0.0775\u001b[0m\n",
      "\u001b[32m2025-03-10 16:22:56.560\u001b[0m | \u001b[1mINFO    \u001b[0m | \u001b[36mdeimkit.trainer\u001b[0m:\u001b[36mtrain\u001b[0m:\u001b[36m315\u001b[0m - \u001b[1mBest stats: {'epoch': 36, 'coco_eval_bbox': 0.07751471904400391}\u001b[0m\n"
     ]
    },
    {
     "name": "stdout",
     "output_type": "stream",
     "text": [
      "Epoch: [37]  [ 0/15]  eta: 0:00:27  lr: 0.000200  loss: 27.8478 (27.8478)  loss_mal: 0.8823 (0.8823)  loss_bbox: 0.4596 (0.4596)  loss_giou: 1.1539 (1.1539)  loss_fgl: 0.9263 (0.9263)  loss_mal_aux_0: 0.8911 (0.8911)  loss_bbox_aux_0: 0.4686 (0.4686)  loss_giou_aux_0: 1.1745 (1.1745)  loss_fgl_aux_0: 0.9195 (0.9195)  loss_ddf_aux_0: 0.0061 (0.0061)  loss_mal_aux_1: 0.8784 (0.8784)  loss_bbox_aux_1: 0.4668 (0.4668)  loss_giou_aux_1: 1.1704 (1.1704)  loss_fgl_aux_1: 0.9197 (0.9197)  loss_ddf_aux_1: 0.0036 (0.0036)  loss_mal_pre: 0.8882 (0.8882)  loss_bbox_pre: 0.4686 (0.4686)  loss_giou_pre: 1.1768 (1.1768)  loss_mal_enc_0: 0.8472 (0.8472)  loss_bbox_enc_0: 0.5050 (0.5050)  loss_giou_enc_0: 1.2897 (1.2897)  loss_mal_dn_0: 0.6421 (0.6421)  loss_bbox_dn_0: 0.5007 (0.5007)  loss_giou_dn_0: 1.3324 (1.3324)  loss_fgl_dn_0: 0.8301 (0.8301)  loss_ddf_dn_0: 0.0031 (0.0031)  loss_mal_dn_1: 0.6338 (0.6338)  loss_bbox_dn_1: 0.5003 (0.5003)  loss_giou_dn_1: 1.3285 (1.3285)  loss_fgl_dn_1: 0.8315 (0.8315)  loss_ddf_dn_1: 0.0021 (0.0021)  loss_mal_dn_2: 0.6382 (0.6382)  loss_bbox_dn_2: 0.4918 (0.4918)  loss_giou_dn_2: 1.3061 (1.3061)  loss_fgl_dn_2: 0.8376 (0.8376)  loss_mal_dn_pre: 0.6416 (0.6416)  loss_bbox_dn_pre: 0.4996 (0.4996)  loss_giou_dn_pre: 1.3318 (1.3318)  time: 1.8040  data: 1.2596  max mem: 10278\n"
     ]
    },
    {
     "name": "stderr",
     "output_type": "stream",
     "text": [
      "\u001b[32m2025-03-10 16:23:04.791\u001b[0m | \u001b[1mINFO    \u001b[0m | \u001b[36mdeimkit.trainer\u001b[0m:\u001b[36mevaluate\u001b[0m:\u001b[36m331\u001b[0m - \u001b[1mEvaluating model...\u001b[0m\n"
     ]
    },
    {
     "name": "stdout",
     "output_type": "stream",
     "text": [
      "Epoch: [37]  [14/15]  eta: 0:00:00  lr: 0.000200  loss: 27.8198 (27.8024)  loss_mal: 0.8823 (0.8660)  loss_bbox: 0.4596 (0.4858)  loss_giou: 1.1263 (1.1819)  loss_fgl: 0.9497 (0.9113)  loss_mal_aux_0: 0.8911 (0.8620)  loss_bbox_aux_0: 0.4686 (0.4872)  loss_giou_aux_0: 1.1388 (1.1919)  loss_fgl_aux_0: 0.9479 (0.9092)  loss_ddf_aux_0: 0.0143 (0.0142)  loss_mal_aux_1: 0.8784 (0.8506)  loss_bbox_aux_1: 0.4668 (0.4865)  loss_giou_aux_1: 1.1370 (1.1896)  loss_fgl_aux_1: 0.9474 (0.9090)  loss_ddf_aux_1: 0.0091 (0.0093)  loss_mal_pre: 0.8882 (0.8601)  loss_bbox_pre: 0.4686 (0.4888)  loss_giou_pre: 1.1386 (1.1907)  loss_mal_enc_0: 0.8438 (0.8199)  loss_bbox_enc_0: 0.5050 (0.5217)  loss_giou_enc_0: 1.2689 (1.2893)  loss_mal_dn_0: 0.6396 (0.6388)  loss_bbox_dn_0: 0.4894 (0.4920)  loss_giou_dn_0: 1.3207 (1.3162)  loss_fgl_dn_0: 0.8365 (0.8342)  loss_ddf_dn_0: 0.0105 (0.0104)  loss_mal_dn_1: 0.6372 (0.6370)  loss_bbox_dn_1: 0.4879 (0.4904)  loss_giou_dn_1: 1.3158 (1.3116)  loss_fgl_dn_1: 0.8382 (0.8358)  loss_ddf_dn_1: 0.0076 (0.0076)  loss_mal_dn_2: 0.6460 (0.6461)  loss_bbox_dn_2: 0.4744 (0.4796)  loss_giou_dn_2: 1.2780 (1.2834)  loss_fgl_dn_2: 0.8431 (0.8432)  loss_mal_dn_pre: 0.6401 (0.6390)  loss_bbox_dn_pre: 0.4928 (0.4962)  loss_giou_dn_pre: 1.3190 (1.3159)  time: 0.5431  data: 0.1028  max mem: 10278\n",
      "Epoch: [37] Total time: 0:00:08 (0.5472 s / it)\n",
      "Averaged stats: lr: 0.000200  loss: 27.8198 (27.8024)  loss_mal: 0.8823 (0.8660)  loss_bbox: 0.4596 (0.4858)  loss_giou: 1.1263 (1.1819)  loss_fgl: 0.9497 (0.9113)  loss_mal_aux_0: 0.8911 (0.8620)  loss_bbox_aux_0: 0.4686 (0.4872)  loss_giou_aux_0: 1.1388 (1.1919)  loss_fgl_aux_0: 0.9479 (0.9092)  loss_ddf_aux_0: 0.0143 (0.0142)  loss_mal_aux_1: 0.8784 (0.8506)  loss_bbox_aux_1: 0.4668 (0.4865)  loss_giou_aux_1: 1.1370 (1.1896)  loss_fgl_aux_1: 0.9474 (0.9090)  loss_ddf_aux_1: 0.0091 (0.0093)  loss_mal_pre: 0.8882 (0.8601)  loss_bbox_pre: 0.4686 (0.4888)  loss_giou_pre: 1.1386 (1.1907)  loss_mal_enc_0: 0.8438 (0.8199)  loss_bbox_enc_0: 0.5050 (0.5217)  loss_giou_enc_0: 1.2689 (1.2893)  loss_mal_dn_0: 0.6396 (0.6388)  loss_bbox_dn_0: 0.4894 (0.4920)  loss_giou_dn_0: 1.3207 (1.3162)  loss_fgl_dn_0: 0.8365 (0.8342)  loss_ddf_dn_0: 0.0105 (0.0104)  loss_mal_dn_1: 0.6372 (0.6370)  loss_bbox_dn_1: 0.4879 (0.4904)  loss_giou_dn_1: 1.3158 (1.3116)  loss_fgl_dn_1: 0.8382 (0.8358)  loss_ddf_dn_1: 0.0076 (0.0076)  loss_mal_dn_2: 0.6460 (0.6461)  loss_bbox_dn_2: 0.4744 (0.4796)  loss_giou_dn_2: 1.2780 (1.2834)  loss_fgl_dn_2: 0.8431 (0.8432)  loss_mal_dn_pre: 0.6401 (0.6390)  loss_bbox_dn_pre: 0.4928 (0.4962)  loss_giou_dn_pre: 1.3190 (1.3159)\n",
      "Test:  [0/5]  eta: 0:00:04    time: 0.8423  data: 0.7196  max mem: 10278\n"
     ]
    },
    {
     "name": "stderr",
     "output_type": "stream",
     "text": [
      "\u001b[32m2025-03-10 16:23:06.347\u001b[0m | \u001b[1mINFO    \u001b[0m | \u001b[36mdeimkit.trainer\u001b[0m:\u001b[36m_save_checkpoint\u001b[0m:\u001b[36m363\u001b[0m - \u001b[1mSaving checkpoint to outputs/deim_hgnetv2_s_coco_ema_tune/best.pth\u001b[0m\n"
     ]
    },
    {
     "name": "stdout",
     "output_type": "stream",
     "text": [
      "Test:  [4/5]  eta: 0:00:00    time: 0.2914  data: 0.1563  max mem: 10278\n",
      "Test: Total time: 0:00:01 (0.3065 s / it)\n",
      "Averaged stats: \n",
      "Accumulating evaluation results...\n",
      "COCOeval_opt.accumulate() finished...\n",
      "DONE (t=0.01s).\n",
      "IoU metric: bbox\n",
      " Average Precision  (AP) @[ IoU=0.50:0.95 | area=   all | maxDets=100 ] = 0.099\n",
      " Average Precision  (AP) @[ IoU=0.50      | area=   all | maxDets=100 ] = 0.195\n",
      " Average Precision  (AP) @[ IoU=0.75      | area=   all | maxDets=100 ] = 0.087\n",
      " Average Precision  (AP) @[ IoU=0.50:0.95 | area= small | maxDets=100 ] = 0.000\n",
      " Average Precision  (AP) @[ IoU=0.50:0.95 | area=medium | maxDets=100 ] = 0.017\n",
      " Average Precision  (AP) @[ IoU=0.50:0.95 | area= large | maxDets=100 ] = 0.111\n",
      " Average Recall     (AR) @[ IoU=0.50:0.95 | area=   all | maxDets=  1 ] = 0.161\n",
      " Average Recall     (AR) @[ IoU=0.50:0.95 | area=   all | maxDets= 10 ] = 0.260\n",
      " Average Recall     (AR) @[ IoU=0.50:0.95 | area=   all | maxDets=100 ] = 0.343\n",
      " Average Recall     (AR) @[ IoU=0.50:0.95 | area= small | maxDets=100 ] = 0.000\n",
      " Average Recall     (AR) @[ IoU=0.50:0.95 | area=medium | maxDets=100 ] = 0.120\n",
      " Average Recall     (AR) @[ IoU=0.50:0.95 | area= large | maxDets=100 ] = 0.336\n",
      " Average Recall     (AR) @[ IoU=0.50      | area=   all | maxDets=100 ] = 0.611\n",
      " Average Recall     (AR) @[ IoU=0.75      | area=   all | maxDets=100 ] = 0.346\n"
     ]
    },
    {
     "name": "stderr",
     "output_type": "stream",
     "text": [
      "\u001b[32m2025-03-10 16:23:06.745\u001b[0m | \u001b[1mINFO    \u001b[0m | \u001b[36mdeimkit.trainer\u001b[0m:\u001b[36m_save_checkpoint\u001b[0m:\u001b[36m380\u001b[0m - \u001b[1mCheckpoint saved to outputs/deim_hgnetv2_s_coco_ema_tune/best.pth\u001b[0m\n",
      "\u001b[32m2025-03-10 16:23:06.747\u001b[0m | \u001b[1mINFO    \u001b[0m | \u001b[36mdeimkit.trainer\u001b[0m:\u001b[36mtrain\u001b[0m:\u001b[36m312\u001b[0m - \u001b[1mEpoch 37 - Train loss: 27.8024, Eval mAP: 0.0985\u001b[0m\n",
      "\u001b[32m2025-03-10 16:23:06.747\u001b[0m | \u001b[1mINFO    \u001b[0m | \u001b[36mdeimkit.trainer\u001b[0m:\u001b[36mtrain\u001b[0m:\u001b[36m315\u001b[0m - \u001b[1mBest stats: {'epoch': 37, 'coco_eval_bbox': 0.09854628241346652}\u001b[0m\n"
     ]
    },
    {
     "name": "stdout",
     "output_type": "stream",
     "text": [
      "Epoch: [38]  [ 0/15]  eta: 0:00:28  lr: 0.000200  loss: 27.8066 (27.8066)  loss_mal: 0.9585 (0.9585)  loss_bbox: 0.4303 (0.4303)  loss_giou: 1.1216 (1.1216)  loss_fgl: 0.9629 (0.9629)  loss_mal_aux_0: 0.9473 (0.9473)  loss_bbox_aux_0: 0.4283 (0.4283)  loss_giou_aux_0: 1.1303 (1.1303)  loss_fgl_aux_0: 0.9578 (0.9578)  loss_ddf_aux_0: 0.0261 (0.0261)  loss_mal_aux_1: 0.9517 (0.9517)  loss_bbox_aux_1: 0.4272 (0.4272)  loss_giou_aux_1: 1.1271 (1.1271)  loss_fgl_aux_1: 0.9594 (0.9594)  loss_ddf_aux_1: 0.0171 (0.0171)  loss_mal_pre: 0.9443 (0.9443)  loss_bbox_pre: 0.4294 (0.4294)  loss_giou_pre: 1.1265 (1.1265)  loss_mal_enc_0: 0.9106 (0.9106)  loss_bbox_enc_0: 0.4574 (0.4574)  loss_giou_enc_0: 1.1916 (1.1916)  loss_mal_dn_0: 0.6289 (0.6289)  loss_bbox_dn_0: 0.4927 (0.4927)  loss_giou_dn_0: 1.3442 (1.3442)  loss_fgl_dn_0: 0.8140 (0.8140)  loss_ddf_dn_0: 0.0176 (0.0176)  loss_mal_dn_1: 0.6270 (0.6270)  loss_bbox_dn_1: 0.4897 (0.4897)  loss_giou_dn_1: 1.3350 (1.3350)  loss_fgl_dn_1: 0.8183 (0.8183)  loss_ddf_dn_1: 0.0137 (0.0137)  loss_mal_dn_2: 0.6470 (0.6470)  loss_bbox_dn_2: 0.4785 (0.4785)  loss_giou_dn_2: 1.2905 (1.2905)  loss_fgl_dn_2: 0.8328 (0.8328)  loss_mal_dn_pre: 0.6284 (0.6284)  loss_bbox_dn_pre: 0.4979 (0.4979)  loss_giou_dn_pre: 1.3453 (1.3453)  time: 1.9088  data: 1.3272  max mem: 10278\n"
     ]
    },
    {
     "name": "stderr",
     "output_type": "stream",
     "text": [
      "\u001b[32m2025-03-10 16:23:15.543\u001b[0m | \u001b[1mINFO    \u001b[0m | \u001b[36mdeimkit.trainer\u001b[0m:\u001b[36mevaluate\u001b[0m:\u001b[36m331\u001b[0m - \u001b[1mEvaluating model...\u001b[0m\n"
     ]
    },
    {
     "name": "stdout",
     "output_type": "stream",
     "text": [
      "Epoch: [38]  [14/15]  eta: 0:00:00  lr: 0.000200  loss: 27.6700 (27.7040)  loss_mal: 0.8711 (0.8644)  loss_bbox: 0.5018 (0.4913)  loss_giou: 1.2007 (1.1730)  loss_fgl: 0.9047 (0.9130)  loss_mal_aux_0: 0.8247 (0.8542)  loss_bbox_aux_0: 0.4978 (0.4913)  loss_giou_aux_0: 1.1981 (1.1798)  loss_fgl_aux_0: 0.9039 (0.9105)  loss_ddf_aux_0: 0.0193 (0.0197)  loss_mal_aux_1: 0.8042 (0.8493)  loss_bbox_aux_1: 0.5001 (0.4911)  loss_giou_aux_1: 1.1993 (1.1766)  loss_fgl_aux_1: 0.9039 (0.9113)  loss_ddf_aux_1: 0.0095 (0.0108)  loss_mal_pre: 0.8242 (0.8530)  loss_bbox_pre: 0.4959 (0.4901)  loss_giou_pre: 1.1991 (1.1796)  loss_mal_enc_0: 0.8545 (0.8440)  loss_bbox_enc_0: 0.5061 (0.5084)  loss_giou_enc_0: 1.2435 (1.2347)  loss_mal_dn_0: 0.6318 (0.6359)  loss_bbox_dn_0: 0.4850 (0.4838)  loss_giou_dn_0: 1.3361 (1.3250)  loss_fgl_dn_0: 0.8201 (0.8291)  loss_ddf_dn_0: 0.0166 (0.0167)  loss_mal_dn_1: 0.6348 (0.6374)  loss_bbox_dn_1: 0.4806 (0.4806)  loss_giou_dn_1: 1.3289 (1.3130)  loss_fgl_dn_1: 0.8254 (0.8335)  loss_ddf_dn_1: 0.0100 (0.0101)  loss_mal_dn_2: 0.6465 (0.6503)  loss_bbox_dn_2: 0.4640 (0.4718)  loss_giou_dn_2: 1.2961 (1.2839)  loss_fgl_dn_2: 0.8329 (0.8415)  loss_mal_dn_pre: 0.6309 (0.6353)  loss_bbox_dn_pre: 0.4850 (0.4848)  loss_giou_dn_pre: 1.3374 (1.3255)  time: 0.5813  data: 0.1080  max mem: 10278\n",
      "Epoch: [38] Total time: 0:00:08 (0.5852 s / it)\n",
      "Averaged stats: lr: 0.000200  loss: 27.6700 (27.7040)  loss_mal: 0.8711 (0.8644)  loss_bbox: 0.5018 (0.4913)  loss_giou: 1.2007 (1.1730)  loss_fgl: 0.9047 (0.9130)  loss_mal_aux_0: 0.8247 (0.8542)  loss_bbox_aux_0: 0.4978 (0.4913)  loss_giou_aux_0: 1.1981 (1.1798)  loss_fgl_aux_0: 0.9039 (0.9105)  loss_ddf_aux_0: 0.0193 (0.0197)  loss_mal_aux_1: 0.8042 (0.8493)  loss_bbox_aux_1: 0.5001 (0.4911)  loss_giou_aux_1: 1.1993 (1.1766)  loss_fgl_aux_1: 0.9039 (0.9113)  loss_ddf_aux_1: 0.0095 (0.0108)  loss_mal_pre: 0.8242 (0.8530)  loss_bbox_pre: 0.4959 (0.4901)  loss_giou_pre: 1.1991 (1.1796)  loss_mal_enc_0: 0.8545 (0.8440)  loss_bbox_enc_0: 0.5061 (0.5084)  loss_giou_enc_0: 1.2435 (1.2347)  loss_mal_dn_0: 0.6318 (0.6359)  loss_bbox_dn_0: 0.4850 (0.4838)  loss_giou_dn_0: 1.3361 (1.3250)  loss_fgl_dn_0: 0.8201 (0.8291)  loss_ddf_dn_0: 0.0166 (0.0167)  loss_mal_dn_1: 0.6348 (0.6374)  loss_bbox_dn_1: 0.4806 (0.4806)  loss_giou_dn_1: 1.3289 (1.3130)  loss_fgl_dn_1: 0.8254 (0.8335)  loss_ddf_dn_1: 0.0100 (0.0101)  loss_mal_dn_2: 0.6465 (0.6503)  loss_bbox_dn_2: 0.4640 (0.4718)  loss_giou_dn_2: 1.2961 (1.2839)  loss_fgl_dn_2: 0.8329 (0.8415)  loss_mal_dn_pre: 0.6309 (0.6353)  loss_bbox_dn_pre: 0.4850 (0.4848)  loss_giou_dn_pre: 1.3374 (1.3255)\n",
      "Test:  [0/5]  eta: 0:00:03    time: 0.7909  data: 0.6750  max mem: 10278\n"
     ]
    },
    {
     "name": "stderr",
     "output_type": "stream",
     "text": [
      "\u001b[32m2025-03-10 16:23:17.062\u001b[0m | \u001b[1mINFO    \u001b[0m | \u001b[36mdeimkit.trainer\u001b[0m:\u001b[36m_save_checkpoint\u001b[0m:\u001b[36m363\u001b[0m - \u001b[1mSaving checkpoint to outputs/deim_hgnetv2_s_coco_ema_tune/best.pth\u001b[0m\n"
     ]
    },
    {
     "name": "stdout",
     "output_type": "stream",
     "text": [
      "Test:  [4/5]  eta: 0:00:00    time: 0.2863  data: 0.1486  max mem: 10278\n",
      "Test: Total time: 0:00:01 (0.2988 s / it)\n",
      "Averaged stats: \n",
      "Accumulating evaluation results...\n",
      "COCOeval_opt.accumulate() finished...\n",
      "DONE (t=0.01s).\n",
      "IoU metric: bbox\n",
      " Average Precision  (AP) @[ IoU=0.50:0.95 | area=   all | maxDets=100 ] = 0.103\n",
      " Average Precision  (AP) @[ IoU=0.50      | area=   all | maxDets=100 ] = 0.223\n",
      " Average Precision  (AP) @[ IoU=0.75      | area=   all | maxDets=100 ] = 0.079\n",
      " Average Precision  (AP) @[ IoU=0.50:0.95 | area= small | maxDets=100 ] = 0.000\n",
      " Average Precision  (AP) @[ IoU=0.50:0.95 | area=medium | maxDets=100 ] = 0.050\n",
      " Average Precision  (AP) @[ IoU=0.50:0.95 | area= large | maxDets=100 ] = 0.111\n",
      " Average Recall     (AR) @[ IoU=0.50:0.95 | area=   all | maxDets=  1 ] = 0.153\n",
      " Average Recall     (AR) @[ IoU=0.50:0.95 | area=   all | maxDets= 10 ] = 0.281\n",
      " Average Recall     (AR) @[ IoU=0.50:0.95 | area=   all | maxDets=100 ] = 0.389\n",
      " Average Recall     (AR) @[ IoU=0.50:0.95 | area= small | maxDets=100 ] = 0.000\n",
      " Average Recall     (AR) @[ IoU=0.50:0.95 | area=medium | maxDets=100 ] = 0.309\n",
      " Average Recall     (AR) @[ IoU=0.50:0.95 | area= large | maxDets=100 ] = 0.360\n",
      " Average Recall     (AR) @[ IoU=0.50      | area=   all | maxDets=100 ] = 0.699\n",
      " Average Recall     (AR) @[ IoU=0.75      | area=   all | maxDets=100 ] = 0.401\n"
     ]
    },
    {
     "name": "stderr",
     "output_type": "stream",
     "text": [
      "\u001b[32m2025-03-10 16:23:17.405\u001b[0m | \u001b[1mINFO    \u001b[0m | \u001b[36mdeimkit.trainer\u001b[0m:\u001b[36m_save_checkpoint\u001b[0m:\u001b[36m380\u001b[0m - \u001b[1mCheckpoint saved to outputs/deim_hgnetv2_s_coco_ema_tune/best.pth\u001b[0m\n",
      "\u001b[32m2025-03-10 16:23:17.406\u001b[0m | \u001b[1mINFO    \u001b[0m | \u001b[36mdeimkit.trainer\u001b[0m:\u001b[36mtrain\u001b[0m:\u001b[36m312\u001b[0m - \u001b[1mEpoch 38 - Train loss: 27.7040, Eval mAP: 0.1034\u001b[0m\n",
      "\u001b[32m2025-03-10 16:23:17.407\u001b[0m | \u001b[1mINFO    \u001b[0m | \u001b[36mdeimkit.trainer\u001b[0m:\u001b[36mtrain\u001b[0m:\u001b[36m315\u001b[0m - \u001b[1mBest stats: {'epoch': 38, 'coco_eval_bbox': 0.10341365163967307}\u001b[0m\n"
     ]
    },
    {
     "name": "stdout",
     "output_type": "stream",
     "text": [
      "Epoch: [39]  [ 0/15]  eta: 0:00:26  lr: 0.000200  loss: 26.9771 (26.9771)  loss_mal: 0.9907 (0.9907)  loss_bbox: 0.3508 (0.3508)  loss_giou: 0.9418 (0.9418)  loss_fgl: 1.0770 (1.0770)  loss_mal_aux_0: 0.9858 (0.9858)  loss_bbox_aux_0: 0.3567 (0.3567)  loss_giou_aux_0: 0.9584 (0.9584)  loss_fgl_aux_0: 1.0764 (1.0764)  loss_ddf_aux_0: 0.0219 (0.0219)  loss_mal_aux_1: 1.0137 (1.0137)  loss_bbox_aux_1: 0.3538 (0.3538)  loss_giou_aux_1: 0.9516 (0.9516)  loss_fgl_aux_1: 1.0757 (1.0757)  loss_ddf_aux_1: 0.0087 (0.0087)  loss_mal_pre: 0.9824 (0.9824)  loss_bbox_pre: 0.3554 (0.3554)  loss_giou_pre: 0.9574 (0.9574)  loss_mal_enc_0: 0.9517 (0.9517)  loss_bbox_enc_0: 0.3911 (0.3911)  loss_giou_enc_0: 1.0742 (1.0742)  loss_mal_dn_0: 0.6523 (0.6523)  loss_bbox_dn_0: 0.4666 (0.4666)  loss_giou_dn_0: 1.2735 (1.2735)  loss_fgl_dn_0: 0.8675 (0.8675)  loss_ddf_dn_0: 0.0219 (0.0219)  loss_mal_dn_1: 0.6587 (0.6587)  loss_bbox_dn_1: 0.4516 (0.4516)  loss_giou_dn_1: 1.2386 (1.2386)  loss_fgl_dn_1: 0.8766 (0.8766)  loss_ddf_dn_1: 0.0090 (0.0090)  loss_mal_dn_2: 0.6665 (0.6665)  loss_bbox_dn_2: 0.4401 (0.4401)  loss_giou_dn_2: 1.1968 (1.1968)  loss_fgl_dn_2: 0.8882 (0.8882)  loss_mal_dn_pre: 0.6504 (0.6504)  loss_bbox_dn_pre: 0.4666 (0.4666)  loss_giou_dn_pre: 1.2770 (1.2770)  time: 1.7710  data: 1.1818  max mem: 10278\n"
     ]
    },
    {
     "name": "stderr",
     "output_type": "stream",
     "text": [
      "\u001b[32m2025-03-10 16:23:25.868\u001b[0m | \u001b[1mINFO    \u001b[0m | \u001b[36mdeimkit.trainer\u001b[0m:\u001b[36m_save_checkpoint\u001b[0m:\u001b[36m363\u001b[0m - \u001b[1mSaving checkpoint to outputs/deim_hgnetv2_s_coco_ema_tune/checkpoint0039.pth\u001b[0m\n"
     ]
    },
    {
     "name": "stdout",
     "output_type": "stream",
     "text": [
      "Epoch: [39]  [14/15]  eta: 0:00:00  lr: 0.000200  loss: 27.6157 (27.6014)  loss_mal: 0.9805 (0.9557)  loss_bbox: 0.4074 (0.4378)  loss_giou: 1.0057 (1.0547)  loss_fgl: 1.0327 (0.9991)  loss_mal_aux_0: 0.9487 (0.9416)  loss_bbox_aux_0: 0.4184 (0.4434)  loss_giou_aux_0: 1.0241 (1.0725)  loss_fgl_aux_0: 1.0159 (0.9894)  loss_ddf_aux_0: 0.0340 (0.0416)  loss_mal_aux_1: 0.9614 (0.9449)  loss_bbox_aux_1: 0.4109 (0.4401)  loss_giou_aux_1: 1.0192 (1.0625)  loss_fgl_aux_1: 1.0237 (0.9943)  loss_ddf_aux_1: 0.0103 (0.0119)  loss_mal_pre: 0.9468 (0.9411)  loss_bbox_pre: 0.4162 (0.4408)  loss_giou_pre: 1.0219 (1.0685)  loss_mal_enc_0: 0.9312 (0.9243)  loss_bbox_enc_0: 0.4562 (0.4704)  loss_giou_enc_0: 1.1021 (1.1502)  loss_mal_dn_0: 0.6489 (0.6517)  loss_bbox_dn_0: 0.4666 (0.4720)  loss_giou_dn_0: 1.2773 (1.2933)  loss_fgl_dn_0: 0.8640 (0.8537)  loss_ddf_dn_0: 0.0334 (0.0424)  loss_mal_dn_1: 0.6597 (0.6599)  loss_bbox_dn_1: 0.4585 (0.4604)  loss_giou_dn_1: 1.2386 (1.2535)  loss_fgl_dn_1: 0.8766 (0.8668)  loss_ddf_dn_1: 0.0105 (0.0128)  loss_mal_dn_2: 0.6714 (0.6679)  loss_bbox_dn_2: 0.4512 (0.4576)  loss_giou_dn_2: 1.2088 (1.2285)  loss_fgl_dn_2: 0.8867 (0.8767)  loss_mal_dn_pre: 0.6499 (0.6506)  loss_bbox_dn_pre: 0.4666 (0.4741)  loss_giou_dn_pre: 1.2821 (1.2950)  time: 0.5583  data: 0.0992  max mem: 10278\n",
      "Epoch: [39] Total time: 0:00:08 (0.5630 s / it)\n",
      "Averaged stats: lr: 0.000200  loss: 27.6157 (27.6014)  loss_mal: 0.9805 (0.9557)  loss_bbox: 0.4074 (0.4378)  loss_giou: 1.0057 (1.0547)  loss_fgl: 1.0327 (0.9991)  loss_mal_aux_0: 0.9487 (0.9416)  loss_bbox_aux_0: 0.4184 (0.4434)  loss_giou_aux_0: 1.0241 (1.0725)  loss_fgl_aux_0: 1.0159 (0.9894)  loss_ddf_aux_0: 0.0340 (0.0416)  loss_mal_aux_1: 0.9614 (0.9449)  loss_bbox_aux_1: 0.4109 (0.4401)  loss_giou_aux_1: 1.0192 (1.0625)  loss_fgl_aux_1: 1.0237 (0.9943)  loss_ddf_aux_1: 0.0103 (0.0119)  loss_mal_pre: 0.9468 (0.9411)  loss_bbox_pre: 0.4162 (0.4408)  loss_giou_pre: 1.0219 (1.0685)  loss_mal_enc_0: 0.9312 (0.9243)  loss_bbox_enc_0: 0.4562 (0.4704)  loss_giou_enc_0: 1.1021 (1.1502)  loss_mal_dn_0: 0.6489 (0.6517)  loss_bbox_dn_0: 0.4666 (0.4720)  loss_giou_dn_0: 1.2773 (1.2933)  loss_fgl_dn_0: 0.8640 (0.8537)  loss_ddf_dn_0: 0.0334 (0.0424)  loss_mal_dn_1: 0.6597 (0.6599)  loss_bbox_dn_1: 0.4585 (0.4604)  loss_giou_dn_1: 1.2386 (1.2535)  loss_fgl_dn_1: 0.8766 (0.8668)  loss_ddf_dn_1: 0.0105 (0.0128)  loss_mal_dn_2: 0.6714 (0.6679)  loss_bbox_dn_2: 0.4512 (0.4576)  loss_giou_dn_2: 1.2088 (1.2285)  loss_fgl_dn_2: 0.8867 (0.8767)  loss_mal_dn_pre: 0.6499 (0.6506)  loss_bbox_dn_pre: 0.4666 (0.4741)  loss_giou_dn_pre: 1.2821 (1.2950)\n"
     ]
    },
    {
     "name": "stderr",
     "output_type": "stream",
     "text": [
      "\u001b[32m2025-03-10 16:23:26.151\u001b[0m | \u001b[1mINFO    \u001b[0m | \u001b[36mdeimkit.trainer\u001b[0m:\u001b[36m_save_checkpoint\u001b[0m:\u001b[36m380\u001b[0m - \u001b[1mCheckpoint saved to outputs/deim_hgnetv2_s_coco_ema_tune/checkpoint0039.pth\u001b[0m\n",
      "\u001b[32m2025-03-10 16:23:26.152\u001b[0m | \u001b[1mINFO    \u001b[0m | \u001b[36mdeimkit.trainer\u001b[0m:\u001b[36mevaluate\u001b[0m:\u001b[36m331\u001b[0m - \u001b[1mEvaluating model...\u001b[0m\n"
     ]
    },
    {
     "name": "stdout",
     "output_type": "stream",
     "text": [
      "Test:  [0/5]  eta: 0:00:04    time: 0.8443  data: 0.7293  max mem: 10278\n"
     ]
    },
    {
     "name": "stderr",
     "output_type": "stream",
     "text": [
      "\u001b[32m2025-03-10 16:23:27.754\u001b[0m | \u001b[1mINFO    \u001b[0m | \u001b[36mdeimkit.trainer\u001b[0m:\u001b[36m_save_checkpoint\u001b[0m:\u001b[36m363\u001b[0m - \u001b[1mSaving checkpoint to outputs/deim_hgnetv2_s_coco_ema_tune/best.pth\u001b[0m\n"
     ]
    },
    {
     "name": "stdout",
     "output_type": "stream",
     "text": [
      "Test:  [4/5]  eta: 0:00:00    time: 0.2999  data: 0.1582  max mem: 10278\n",
      "Test: Total time: 0:00:01 (0.3146 s / it)\n",
      "Averaged stats: \n",
      "Accumulating evaluation results...\n",
      "COCOeval_opt.accumulate() finished...\n",
      "DONE (t=0.02s).\n",
      "IoU metric: bbox\n",
      " Average Precision  (AP) @[ IoU=0.50:0.95 | area=   all | maxDets=100 ] = 0.113\n",
      " Average Precision  (AP) @[ IoU=0.50      | area=   all | maxDets=100 ] = 0.265\n",
      " Average Precision  (AP) @[ IoU=0.75      | area=   all | maxDets=100 ] = 0.085\n",
      " Average Precision  (AP) @[ IoU=0.50:0.95 | area= small | maxDets=100 ] = 0.000\n",
      " Average Precision  (AP) @[ IoU=0.50:0.95 | area=medium | maxDets=100 ] = 0.099\n",
      " Average Precision  (AP) @[ IoU=0.50:0.95 | area= large | maxDets=100 ] = 0.090\n",
      " Average Recall     (AR) @[ IoU=0.50:0.95 | area=   all | maxDets=  1 ] = 0.172\n",
      " Average Recall     (AR) @[ IoU=0.50:0.95 | area=   all | maxDets= 10 ] = 0.290\n",
      " Average Recall     (AR) @[ IoU=0.50:0.95 | area=   all | maxDets=100 ] = 0.439\n",
      " Average Recall     (AR) @[ IoU=0.50:0.95 | area= small | maxDets=100 ] = 0.000\n",
      " Average Recall     (AR) @[ IoU=0.50:0.95 | area=medium | maxDets=100 ] = 0.254\n",
      " Average Recall     (AR) @[ IoU=0.50:0.95 | area= large | maxDets=100 ] = 0.382\n",
      " Average Recall     (AR) @[ IoU=0.50      | area=   all | maxDets=100 ] = 0.779\n",
      " Average Recall     (AR) @[ IoU=0.75      | area=   all | maxDets=100 ] = 0.469\n"
     ]
    },
    {
     "name": "stderr",
     "output_type": "stream",
     "text": [
      "\u001b[32m2025-03-10 16:23:28.209\u001b[0m | \u001b[1mINFO    \u001b[0m | \u001b[36mdeimkit.trainer\u001b[0m:\u001b[36m_save_checkpoint\u001b[0m:\u001b[36m380\u001b[0m - \u001b[1mCheckpoint saved to outputs/deim_hgnetv2_s_coco_ema_tune/best.pth\u001b[0m\n",
      "\u001b[32m2025-03-10 16:23:28.211\u001b[0m | \u001b[1mINFO    \u001b[0m | \u001b[36mdeimkit.trainer\u001b[0m:\u001b[36mtrain\u001b[0m:\u001b[36m312\u001b[0m - \u001b[1mEpoch 39 - Train loss: 27.6014, Eval mAP: 0.1126\u001b[0m\n",
      "\u001b[32m2025-03-10 16:23:28.212\u001b[0m | \u001b[1mINFO    \u001b[0m | \u001b[36mdeimkit.trainer\u001b[0m:\u001b[36mtrain\u001b[0m:\u001b[36m315\u001b[0m - \u001b[1mBest stats: {'epoch': 39, 'coco_eval_bbox': 0.11259333360700237}\u001b[0m\n"
     ]
    },
    {
     "name": "stdout",
     "output_type": "stream",
     "text": [
      "Epoch: [40]  [ 0/15]  eta: 0:00:32  lr: 0.000200  loss: 28.0857 (28.0857)  loss_mal: 0.8135 (0.8135)  loss_bbox: 0.5238 (0.5238)  loss_giou: 1.1986 (1.1986)  loss_fgl: 0.9437 (0.9437)  loss_mal_aux_0: 0.7964 (0.7964)  loss_bbox_aux_0: 0.5228 (0.5228)  loss_giou_aux_0: 1.1988 (1.1988)  loss_fgl_aux_0: 0.9289 (0.9289)  loss_ddf_aux_0: 0.0535 (0.0535)  loss_mal_aux_1: 0.7949 (0.7949)  loss_bbox_aux_1: 0.5235 (0.5235)  loss_giou_aux_1: 1.1976 (1.1976)  loss_fgl_aux_1: 0.9384 (0.9384)  loss_ddf_aux_1: 0.0171 (0.0171)  loss_mal_pre: 0.7979 (0.7979)  loss_bbox_pre: 0.5227 (0.5227)  loss_giou_pre: 1.1887 (1.1887)  loss_mal_enc_0: 0.7959 (0.7959)  loss_bbox_enc_0: 0.5626 (0.5626)  loss_giou_enc_0: 1.2014 (1.2014)  loss_mal_dn_0: 0.6260 (0.6260)  loss_bbox_dn_0: 0.5296 (0.5296)  loss_giou_dn_0: 1.3525 (1.3525)  loss_fgl_dn_0: 0.8170 (0.8170)  loss_ddf_dn_0: 0.0569 (0.0569)  loss_mal_dn_1: 0.6333 (0.6333)  loss_bbox_dn_1: 0.5317 (0.5317)  loss_giou_dn_1: 1.3410 (1.3410)  loss_fgl_dn_1: 0.8243 (0.8243)  loss_ddf_dn_1: 0.0151 (0.0151)  loss_mal_dn_2: 0.6382 (0.6382)  loss_bbox_dn_2: 0.5275 (0.5275)  loss_giou_dn_2: 1.3331 (1.3331)  loss_fgl_dn_2: 0.8334 (0.8334)  loss_mal_dn_pre: 0.6304 (0.6304)  loss_bbox_dn_pre: 0.5304 (0.5304)  loss_giou_dn_pre: 1.3445 (1.3445)  time: 2.1818  data: 1.5785  max mem: 10278\n"
     ]
    },
    {
     "name": "stderr",
     "output_type": "stream",
     "text": [
      "\u001b[32m2025-03-10 16:23:36.867\u001b[0m | \u001b[1mINFO    \u001b[0m | \u001b[36mdeimkit.trainer\u001b[0m:\u001b[36mevaluate\u001b[0m:\u001b[36m331\u001b[0m - \u001b[1mEvaluating model...\u001b[0m\n"
     ]
    },
    {
     "name": "stdout",
     "output_type": "stream",
     "text": [
      "Epoch: [40]  [14/15]  eta: 0:00:00  lr: 0.000200  loss: 27.7064 (27.8682)  loss_mal: 1.0039 (0.9716)  loss_bbox: 0.4329 (0.4604)  loss_giou: 0.9983 (1.0449)  loss_fgl: 1.0469 (1.0037)  loss_mal_aux_0: 0.9731 (0.9551)  loss_bbox_aux_0: 0.4349 (0.4675)  loss_giou_aux_0: 1.0054 (1.0544)  loss_fgl_aux_0: 1.0458 (0.9994)  loss_ddf_aux_0: 0.0361 (0.0407)  loss_mal_aux_1: 0.9858 (0.9558)  loss_bbox_aux_1: 0.4323 (0.4633)  loss_giou_aux_1: 0.9926 (1.0455)  loss_fgl_aux_1: 1.0503 (1.0027)  loss_ddf_aux_1: 0.0147 (0.0138)  loss_mal_pre: 0.9731 (0.9539)  loss_bbox_pre: 0.4377 (0.4622)  loss_giou_pre: 1.0049 (1.0527)  loss_mal_enc_0: 0.9399 (0.9364)  loss_bbox_enc_0: 0.4526 (0.4896)  loss_giou_enc_0: 1.1028 (1.1179)  loss_mal_dn_0: 0.6650 (0.6684)  loss_bbox_dn_0: 0.5037 (0.5060)  loss_giou_dn_0: 1.2639 (1.2633)  loss_fgl_dn_0: 0.8772 (0.8795)  loss_ddf_dn_0: 0.0443 (0.0455)  loss_mal_dn_1: 0.6807 (0.6844)  loss_bbox_dn_1: 0.4827 (0.4925)  loss_giou_dn_1: 1.2183 (1.2224)  loss_fgl_dn_1: 0.8907 (0.8917)  loss_ddf_dn_1: 0.0110 (0.0124)  loss_mal_dn_2: 0.6953 (0.6909)  loss_bbox_dn_2: 0.4784 (0.4869)  loss_giou_dn_2: 1.1714 (1.2018)  loss_fgl_dn_2: 0.9103 (0.9013)  loss_mal_dn_pre: 0.6641 (0.6672)  loss_bbox_dn_pre: 0.5044 (0.4990)  loss_giou_dn_pre: 1.2654 (1.2638)  time: 0.5713  data: 0.1213  max mem: 10278\n",
      "Epoch: [40] Total time: 0:00:08 (0.5760 s / it)\n",
      "Averaged stats: lr: 0.000200  loss: 27.7064 (27.8682)  loss_mal: 1.0039 (0.9716)  loss_bbox: 0.4329 (0.4604)  loss_giou: 0.9983 (1.0449)  loss_fgl: 1.0469 (1.0037)  loss_mal_aux_0: 0.9731 (0.9551)  loss_bbox_aux_0: 0.4349 (0.4675)  loss_giou_aux_0: 1.0054 (1.0544)  loss_fgl_aux_0: 1.0458 (0.9994)  loss_ddf_aux_0: 0.0361 (0.0407)  loss_mal_aux_1: 0.9858 (0.9558)  loss_bbox_aux_1: 0.4323 (0.4633)  loss_giou_aux_1: 0.9926 (1.0455)  loss_fgl_aux_1: 1.0503 (1.0027)  loss_ddf_aux_1: 0.0147 (0.0138)  loss_mal_pre: 0.9731 (0.9539)  loss_bbox_pre: 0.4377 (0.4622)  loss_giou_pre: 1.0049 (1.0527)  loss_mal_enc_0: 0.9399 (0.9364)  loss_bbox_enc_0: 0.4526 (0.4896)  loss_giou_enc_0: 1.1028 (1.1179)  loss_mal_dn_0: 0.6650 (0.6684)  loss_bbox_dn_0: 0.5037 (0.5060)  loss_giou_dn_0: 1.2639 (1.2633)  loss_fgl_dn_0: 0.8772 (0.8795)  loss_ddf_dn_0: 0.0443 (0.0455)  loss_mal_dn_1: 0.6807 (0.6844)  loss_bbox_dn_1: 0.4827 (0.4925)  loss_giou_dn_1: 1.2183 (1.2224)  loss_fgl_dn_1: 0.8907 (0.8917)  loss_ddf_dn_1: 0.0110 (0.0124)  loss_mal_dn_2: 0.6953 (0.6909)  loss_bbox_dn_2: 0.4784 (0.4869)  loss_giou_dn_2: 1.1714 (1.2018)  loss_fgl_dn_2: 0.9103 (0.9013)  loss_mal_dn_pre: 0.6641 (0.6672)  loss_bbox_dn_pre: 0.5044 (0.4990)  loss_giou_dn_pre: 1.2654 (1.2638)\n",
      "Test:  [0/5]  eta: 0:00:03    time: 0.7605  data: 0.6482  max mem: 10278\n"
     ]
    },
    {
     "name": "stderr",
     "output_type": "stream",
     "text": [
      "\u001b[32m2025-03-10 16:23:38.334\u001b[0m | \u001b[1mINFO    \u001b[0m | \u001b[36mdeimkit.trainer\u001b[0m:\u001b[36m_save_checkpoint\u001b[0m:\u001b[36m363\u001b[0m - \u001b[1mSaving checkpoint to outputs/deim_hgnetv2_s_coco_ema_tune/best.pth\u001b[0m\n"
     ]
    },
    {
     "name": "stdout",
     "output_type": "stream",
     "text": [
      "Test:  [4/5]  eta: 0:00:00    time: 0.2745  data: 0.1419  max mem: 10278\n",
      "Test: Total time: 0:00:01 (0.2874 s / it)\n",
      "Averaged stats: \n",
      "Accumulating evaluation results...\n",
      "COCOeval_opt.accumulate() finished...\n",
      "DONE (t=0.01s).\n",
      "IoU metric: bbox\n",
      " Average Precision  (AP) @[ IoU=0.50:0.95 | area=   all | maxDets=100 ] = 0.190\n",
      " Average Precision  (AP) @[ IoU=0.50      | area=   all | maxDets=100 ] = 0.370\n",
      " Average Precision  (AP) @[ IoU=0.75      | area=   all | maxDets=100 ] = 0.175\n",
      " Average Precision  (AP) @[ IoU=0.50:0.95 | area= small | maxDets=100 ] = 0.010\n",
      " Average Precision  (AP) @[ IoU=0.50:0.95 | area=medium | maxDets=100 ] = 0.281\n",
      " Average Precision  (AP) @[ IoU=0.50:0.95 | area= large | maxDets=100 ] = 0.151\n",
      " Average Recall     (AR) @[ IoU=0.50:0.95 | area=   all | maxDets=  1 ] = 0.247\n",
      " Average Recall     (AR) @[ IoU=0.50:0.95 | area=   all | maxDets= 10 ] = 0.364\n",
      " Average Recall     (AR) @[ IoU=0.50:0.95 | area=   all | maxDets=100 ] = 0.455\n",
      " Average Recall     (AR) @[ IoU=0.50:0.95 | area= small | maxDets=100 ] = 0.020\n",
      " Average Recall     (AR) @[ IoU=0.50:0.95 | area=medium | maxDets=100 ] = 0.456\n",
      " Average Recall     (AR) @[ IoU=0.50:0.95 | area= large | maxDets=100 ] = 0.354\n",
      " Average Recall     (AR) @[ IoU=0.50      | area=   all | maxDets=100 ] = 0.786\n",
      " Average Recall     (AR) @[ IoU=0.75      | area=   all | maxDets=100 ] = 0.485\n"
     ]
    },
    {
     "name": "stderr",
     "output_type": "stream",
     "text": [
      "\u001b[32m2025-03-10 16:23:38.668\u001b[0m | \u001b[1mINFO    \u001b[0m | \u001b[36mdeimkit.trainer\u001b[0m:\u001b[36m_save_checkpoint\u001b[0m:\u001b[36m380\u001b[0m - \u001b[1mCheckpoint saved to outputs/deim_hgnetv2_s_coco_ema_tune/best.pth\u001b[0m\n",
      "\u001b[32m2025-03-10 16:23:38.669\u001b[0m | \u001b[1mINFO    \u001b[0m | \u001b[36mdeimkit.trainer\u001b[0m:\u001b[36mtrain\u001b[0m:\u001b[36m312\u001b[0m - \u001b[1mEpoch 40 - Train loss: 27.8682, Eval mAP: 0.1900\u001b[0m\n",
      "\u001b[32m2025-03-10 16:23:38.670\u001b[0m | \u001b[1mINFO    \u001b[0m | \u001b[36mdeimkit.trainer\u001b[0m:\u001b[36mtrain\u001b[0m:\u001b[36m315\u001b[0m - \u001b[1mBest stats: {'epoch': 40, 'coco_eval_bbox': 0.1899765632158451}\u001b[0m\n"
     ]
    },
    {
     "name": "stdout",
     "output_type": "stream",
     "text": [
      "Epoch: [41]  [ 0/15]  eta: 0:00:31  lr: 0.000200  loss: 28.6862 (28.6862)  loss_mal: 0.8096 (0.8096)  loss_bbox: 0.6253 (0.6253)  loss_giou: 1.3178 (1.3178)  loss_fgl: 0.8374 (0.8374)  loss_mal_aux_0: 0.7632 (0.7632)  loss_bbox_aux_0: 0.6272 (0.6272)  loss_giou_aux_0: 1.3064 (1.3064)  loss_fgl_aux_0: 0.8399 (0.8399)  loss_ddf_aux_0: 0.0270 (0.0270)  loss_mal_aux_1: 0.7842 (0.7842)  loss_bbox_aux_1: 0.6244 (0.6244)  loss_giou_aux_1: 1.3084 (1.3084)  loss_fgl_aux_1: 0.8389 (0.8389)  loss_ddf_aux_1: 0.0067 (0.0067)  loss_mal_pre: 0.7632 (0.7632)  loss_bbox_pre: 0.6288 (0.6288)  loss_giou_pre: 1.3053 (1.3053)  loss_mal_enc_0: 0.7666 (0.7666)  loss_bbox_enc_0: 0.6384 (0.6384)  loss_giou_enc_0: 1.3520 (1.3520)  loss_mal_dn_0: 0.6621 (0.6621)  loss_bbox_dn_0: 0.5320 (0.5320)  loss_giou_dn_0: 1.2919 (1.2919)  loss_fgl_dn_0: 0.8489 (0.8489)  loss_ddf_dn_0: 0.0434 (0.0434)  loss_mal_dn_1: 0.6655 (0.6655)  loss_bbox_dn_1: 0.5270 (0.5270)  loss_giou_dn_1: 1.2774 (1.2774)  loss_fgl_dn_1: 0.8510 (0.8510)  loss_ddf_dn_1: 0.0102 (0.0102)  loss_mal_dn_2: 0.6655 (0.6655)  loss_bbox_dn_2: 0.5252 (0.5252)  loss_giou_dn_2: 1.2774 (1.2774)  loss_fgl_dn_2: 0.8503 (0.8503)  loss_mal_dn_pre: 0.6616 (0.6616)  loss_bbox_dn_pre: 0.5352 (0.5352)  loss_giou_dn_pre: 1.2909 (1.2909)  time: 2.0778  data: 1.4806  max mem: 10278\n"
     ]
    },
    {
     "name": "stderr",
     "output_type": "stream",
     "text": [
      "\u001b[32m2025-03-10 16:23:47.401\u001b[0m | \u001b[1mINFO    \u001b[0m | \u001b[36mdeimkit.trainer\u001b[0m:\u001b[36mevaluate\u001b[0m:\u001b[36m331\u001b[0m - \u001b[1mEvaluating model...\u001b[0m\n"
     ]
    },
    {
     "name": "stdout",
     "output_type": "stream",
     "text": [
      "Epoch: [41]  [14/15]  eta: 0:00:00  lr: 0.000200  loss: 27.7840 (27.8338)  loss_mal: 0.8662 (0.9446)  loss_bbox: 0.4861 (0.4940)  loss_giou: 1.1655 (1.0834)  loss_fgl: 0.9260 (0.9619)  loss_mal_aux_0: 0.8438 (0.9077)  loss_bbox_aux_0: 0.4917 (0.4973)  loss_giou_aux_0: 1.1746 (1.0939)  loss_fgl_aux_0: 0.9205 (0.9594)  loss_ddf_aux_0: 0.0245 (0.0258)  loss_mal_aux_1: 0.8486 (0.9324)  loss_bbox_aux_1: 0.4884 (0.4937)  loss_giou_aux_1: 1.1671 (1.0848)  loss_fgl_aux_1: 0.9237 (0.9607)  loss_ddf_aux_1: 0.0045 (0.0054)  loss_mal_pre: 0.8413 (0.9057)  loss_bbox_pre: 0.4953 (0.4996)  loss_giou_pre: 1.1732 (1.0920)  loss_mal_enc_0: 0.8286 (0.8823)  loss_bbox_enc_0: 0.5294 (0.5302)  loss_giou_enc_0: 1.2322 (1.1652)  loss_mal_dn_0: 0.6636 (0.6722)  loss_bbox_dn_0: 0.4909 (0.4915)  loss_giou_dn_0: 1.2770 (1.2552)  loss_fgl_dn_0: 0.8674 (0.8804)  loss_ddf_dn_0: 0.0472 (0.0499)  loss_mal_dn_1: 0.6719 (0.6930)  loss_bbox_dn_1: 0.4800 (0.4807)  loss_giou_dn_1: 1.2487 (1.2012)  loss_fgl_dn_1: 0.8759 (0.8992)  loss_ddf_dn_1: 0.0097 (0.0098)  loss_mal_dn_2: 0.6919 (0.6985)  loss_bbox_dn_2: 0.4771 (0.4772)  loss_giou_dn_2: 1.2278 (1.1762)  loss_fgl_dn_2: 0.8877 (0.9090)  loss_mal_dn_pre: 0.6631 (0.6725)  loss_bbox_dn_pre: 0.4948 (0.4933)  loss_giou_dn_pre: 1.2727 (1.2539)  time: 0.5760  data: 0.1201  max mem: 10278\n",
      "Epoch: [41] Total time: 0:00:08 (0.5804 s / it)\n",
      "Averaged stats: lr: 0.000200  loss: 27.7840 (27.8338)  loss_mal: 0.8662 (0.9446)  loss_bbox: 0.4861 (0.4940)  loss_giou: 1.1655 (1.0834)  loss_fgl: 0.9260 (0.9619)  loss_mal_aux_0: 0.8438 (0.9077)  loss_bbox_aux_0: 0.4917 (0.4973)  loss_giou_aux_0: 1.1746 (1.0939)  loss_fgl_aux_0: 0.9205 (0.9594)  loss_ddf_aux_0: 0.0245 (0.0258)  loss_mal_aux_1: 0.8486 (0.9324)  loss_bbox_aux_1: 0.4884 (0.4937)  loss_giou_aux_1: 1.1671 (1.0848)  loss_fgl_aux_1: 0.9237 (0.9607)  loss_ddf_aux_1: 0.0045 (0.0054)  loss_mal_pre: 0.8413 (0.9057)  loss_bbox_pre: 0.4953 (0.4996)  loss_giou_pre: 1.1732 (1.0920)  loss_mal_enc_0: 0.8286 (0.8823)  loss_bbox_enc_0: 0.5294 (0.5302)  loss_giou_enc_0: 1.2322 (1.1652)  loss_mal_dn_0: 0.6636 (0.6722)  loss_bbox_dn_0: 0.4909 (0.4915)  loss_giou_dn_0: 1.2770 (1.2552)  loss_fgl_dn_0: 0.8674 (0.8804)  loss_ddf_dn_0: 0.0472 (0.0499)  loss_mal_dn_1: 0.6719 (0.6930)  loss_bbox_dn_1: 0.4800 (0.4807)  loss_giou_dn_1: 1.2487 (1.2012)  loss_fgl_dn_1: 0.8759 (0.8992)  loss_ddf_dn_1: 0.0097 (0.0098)  loss_mal_dn_2: 0.6919 (0.6985)  loss_bbox_dn_2: 0.4771 (0.4772)  loss_giou_dn_2: 1.2278 (1.1762)  loss_fgl_dn_2: 0.8877 (0.9090)  loss_mal_dn_pre: 0.6631 (0.6725)  loss_bbox_dn_pre: 0.4948 (0.4933)  loss_giou_dn_pre: 1.2727 (1.2539)\n",
      "Test:  [0/5]  eta: 0:00:03    time: 0.7861  data: 0.6737  max mem: 10278\n"
     ]
    },
    {
     "name": "stderr",
     "output_type": "stream",
     "text": [
      "\u001b[32m2025-03-10 16:23:48.882\u001b[0m | \u001b[1mINFO    \u001b[0m | \u001b[36mdeimkit.trainer\u001b[0m:\u001b[36m_save_checkpoint\u001b[0m:\u001b[36m363\u001b[0m - \u001b[1mSaving checkpoint to outputs/deim_hgnetv2_s_coco_ema_tune/best.pth\u001b[0m\n"
     ]
    },
    {
     "name": "stdout",
     "output_type": "stream",
     "text": [
      "Test:  [4/5]  eta: 0:00:00    time: 0.2775  data: 0.1470  max mem: 10278\n",
      "Test: Total time: 0:00:01 (0.2915 s / it)\n",
      "Averaged stats: \n",
      "Accumulating evaluation results...\n",
      "COCOeval_opt.accumulate() finished...\n",
      "DONE (t=0.01s).\n",
      "IoU metric: bbox\n",
      " Average Precision  (AP) @[ IoU=0.50:0.95 | area=   all | maxDets=100 ] = 0.234\n",
      " Average Precision  (AP) @[ IoU=0.50      | area=   all | maxDets=100 ] = 0.451\n",
      " Average Precision  (AP) @[ IoU=0.75      | area=   all | maxDets=100 ] = 0.225\n",
      " Average Precision  (AP) @[ IoU=0.50:0.95 | area= small | maxDets=100 ] = 0.183\n",
      " Average Precision  (AP) @[ IoU=0.50:0.95 | area=medium | maxDets=100 ] = 0.160\n",
      " Average Precision  (AP) @[ IoU=0.50:0.95 | area= large | maxDets=100 ] = 0.170\n",
      " Average Recall     (AR) @[ IoU=0.50:0.95 | area=   all | maxDets=  1 ] = 0.245\n",
      " Average Recall     (AR) @[ IoU=0.50:0.95 | area=   all | maxDets= 10 ] = 0.414\n",
      " Average Recall     (AR) @[ IoU=0.50:0.95 | area=   all | maxDets=100 ] = 0.519\n",
      " Average Recall     (AR) @[ IoU=0.50:0.95 | area= small | maxDets=100 ] = 0.180\n",
      " Average Recall     (AR) @[ IoU=0.50:0.95 | area=medium | maxDets=100 ] = 0.565\n",
      " Average Recall     (AR) @[ IoU=0.50:0.95 | area= large | maxDets=100 ] = 0.367\n",
      " Average Recall     (AR) @[ IoU=0.50      | area=   all | maxDets=100 ] = 0.899\n",
      " Average Recall     (AR) @[ IoU=0.75      | area=   all | maxDets=100 ] = 0.557\n"
     ]
    },
    {
     "name": "stderr",
     "output_type": "stream",
     "text": [
      "\u001b[32m2025-03-10 16:23:49.202\u001b[0m | \u001b[1mINFO    \u001b[0m | \u001b[36mdeimkit.trainer\u001b[0m:\u001b[36m_save_checkpoint\u001b[0m:\u001b[36m380\u001b[0m - \u001b[1mCheckpoint saved to outputs/deim_hgnetv2_s_coco_ema_tune/best.pth\u001b[0m\n",
      "\u001b[32m2025-03-10 16:23:49.204\u001b[0m | \u001b[1mINFO    \u001b[0m | \u001b[36mdeimkit.trainer\u001b[0m:\u001b[36mtrain\u001b[0m:\u001b[36m312\u001b[0m - \u001b[1mEpoch 41 - Train loss: 27.8338, Eval mAP: 0.2343\u001b[0m\n",
      "\u001b[32m2025-03-10 16:23:49.204\u001b[0m | \u001b[1mINFO    \u001b[0m | \u001b[36mdeimkit.trainer\u001b[0m:\u001b[36mtrain\u001b[0m:\u001b[36m315\u001b[0m - \u001b[1mBest stats: {'epoch': 41, 'coco_eval_bbox': 0.23433552547346306}\u001b[0m\n"
     ]
    },
    {
     "name": "stdout",
     "output_type": "stream",
     "text": [
      "Epoch: [42]  [ 0/15]  eta: 0:00:28  lr: 0.000200  loss: 28.0367 (28.0367)  loss_mal: 0.9150 (0.9150)  loss_bbox: 0.4895 (0.4895)  loss_giou: 1.0975 (1.0975)  loss_fgl: 0.9876 (0.9876)  loss_mal_aux_0: 0.9761 (0.9761)  loss_bbox_aux_0: 0.4915 (0.4915)  loss_giou_aux_0: 1.1024 (1.1024)  loss_fgl_aux_0: 0.9829 (0.9829)  loss_ddf_aux_0: 0.0307 (0.0307)  loss_mal_aux_1: 0.8657 (0.8657)  loss_bbox_aux_1: 0.4898 (0.4898)  loss_giou_aux_1: 1.0985 (1.0985)  loss_fgl_aux_1: 0.9847 (0.9847)  loss_ddf_aux_1: 0.0044 (0.0044)  loss_mal_pre: 0.9731 (0.9731)  loss_bbox_pre: 0.4924 (0.4924)  loss_giou_pre: 1.0989 (1.0989)  loss_mal_enc_0: 0.8823 (0.8823)  loss_bbox_enc_0: 0.5219 (0.5219)  loss_giou_enc_0: 1.1425 (1.1425)  loss_mal_dn_0: 0.6826 (0.6826)  loss_bbox_dn_0: 0.4970 (0.4970)  loss_giou_dn_0: 1.2613 (1.2613)  loss_fgl_dn_0: 0.8870 (0.8870)  loss_ddf_dn_0: 0.0570 (0.0570)  loss_mal_dn_1: 0.6816 (0.6816)  loss_bbox_dn_1: 0.4858 (0.4858)  loss_giou_dn_1: 1.2242 (1.2242)  loss_fgl_dn_1: 0.8960 (0.8960)  loss_ddf_dn_1: 0.0092 (0.0092)  loss_mal_dn_2: 0.6968 (0.6968)  loss_bbox_dn_2: 0.4816 (0.4816)  loss_giou_dn_2: 1.2043 (1.2043)  loss_fgl_dn_2: 0.9062 (0.9062)  loss_mal_dn_pre: 0.6831 (0.6831)  loss_bbox_dn_pre: 0.4970 (0.4970)  loss_giou_dn_pre: 1.2586 (1.2586)  time: 1.9124  data: 1.3486  max mem: 10278\n"
     ]
    },
    {
     "name": "stderr",
     "output_type": "stream",
     "text": [
      "\u001b[32m2025-03-10 16:23:57.598\u001b[0m | \u001b[1mINFO    \u001b[0m | \u001b[36mdeimkit.trainer\u001b[0m:\u001b[36mevaluate\u001b[0m:\u001b[36m331\u001b[0m - \u001b[1mEvaluating model...\u001b[0m\n"
     ]
    },
    {
     "name": "stdout",
     "output_type": "stream",
     "text": [
      "Epoch: [42]  [14/15]  eta: 0:00:00  lr: 0.000200  loss: 27.4099 (27.4006)  loss_mal: 0.8838 (0.9646)  loss_bbox: 0.4737 (0.4297)  loss_giou: 1.1072 (1.0264)  loss_fgl: 0.9647 (0.9991)  loss_mal_aux_0: 0.8623 (0.9335)  loss_bbox_aux_0: 0.4820 (0.4348)  loss_giou_aux_0: 1.1214 (1.0402)  loss_fgl_aux_0: 0.9581 (0.9951)  loss_ddf_aux_0: 0.0436 (0.0418)  loss_mal_aux_1: 0.8691 (0.9609)  loss_bbox_aux_1: 0.4759 (0.4295)  loss_giou_aux_1: 1.1094 (1.0279)  loss_fgl_aux_1: 0.9615 (0.9976)  loss_ddf_aux_1: 0.0049 (0.0050)  loss_mal_pre: 0.8628 (0.9323)  loss_bbox_pre: 0.4819 (0.4347)  loss_giou_pre: 1.1195 (1.0394)  loss_mal_enc_0: 0.8633 (0.9056)  loss_bbox_enc_0: 0.5028 (0.4741)  loss_giou_enc_0: 1.1769 (1.1147)  loss_mal_dn_0: 0.6826 (0.6867)  loss_bbox_dn_0: 0.4789 (0.4701)  loss_giou_dn_0: 1.2459 (1.2220)  loss_fgl_dn_0: 0.8870 (0.9063)  loss_ddf_dn_0: 0.0690 (0.0716)  loss_mal_dn_1: 0.6909 (0.7060)  loss_bbox_dn_1: 0.4567 (0.4519)  loss_giou_dn_1: 1.2083 (1.1634)  loss_fgl_dn_1: 0.8971 (0.9239)  loss_ddf_dn_1: 0.0092 (0.0102)  loss_mal_dn_2: 0.6929 (0.7022)  loss_bbox_dn_2: 0.4503 (0.4465)  loss_giou_dn_2: 1.1928 (1.1425)  loss_fgl_dn_2: 0.9058 (0.9319)  loss_mal_dn_pre: 0.6831 (0.6851)  loss_bbox_dn_pre: 0.4763 (0.4697)  loss_giou_dn_pre: 1.2480 (1.2238)  time: 0.5542  data: 0.1071  max mem: 10278\n",
      "Epoch: [42] Total time: 0:00:08 (0.5583 s / it)\n",
      "Averaged stats: lr: 0.000200  loss: 27.4099 (27.4006)  loss_mal: 0.8838 (0.9646)  loss_bbox: 0.4737 (0.4297)  loss_giou: 1.1072 (1.0264)  loss_fgl: 0.9647 (0.9991)  loss_mal_aux_0: 0.8623 (0.9335)  loss_bbox_aux_0: 0.4820 (0.4348)  loss_giou_aux_0: 1.1214 (1.0402)  loss_fgl_aux_0: 0.9581 (0.9951)  loss_ddf_aux_0: 0.0436 (0.0418)  loss_mal_aux_1: 0.8691 (0.9609)  loss_bbox_aux_1: 0.4759 (0.4295)  loss_giou_aux_1: 1.1094 (1.0279)  loss_fgl_aux_1: 0.9615 (0.9976)  loss_ddf_aux_1: 0.0049 (0.0050)  loss_mal_pre: 0.8628 (0.9323)  loss_bbox_pre: 0.4819 (0.4347)  loss_giou_pre: 1.1195 (1.0394)  loss_mal_enc_0: 0.8633 (0.9056)  loss_bbox_enc_0: 0.5028 (0.4741)  loss_giou_enc_0: 1.1769 (1.1147)  loss_mal_dn_0: 0.6826 (0.6867)  loss_bbox_dn_0: 0.4789 (0.4701)  loss_giou_dn_0: 1.2459 (1.2220)  loss_fgl_dn_0: 0.8870 (0.9063)  loss_ddf_dn_0: 0.0690 (0.0716)  loss_mal_dn_1: 0.6909 (0.7060)  loss_bbox_dn_1: 0.4567 (0.4519)  loss_giou_dn_1: 1.2083 (1.1634)  loss_fgl_dn_1: 0.8971 (0.9239)  loss_ddf_dn_1: 0.0092 (0.0102)  loss_mal_dn_2: 0.6929 (0.7022)  loss_bbox_dn_2: 0.4503 (0.4465)  loss_giou_dn_2: 1.1928 (1.1425)  loss_fgl_dn_2: 0.9058 (0.9319)  loss_mal_dn_pre: 0.6831 (0.6851)  loss_bbox_dn_pre: 0.4763 (0.4697)  loss_giou_dn_pre: 1.2480 (1.2238)\n",
      "Test:  [0/5]  eta: 0:00:03    time: 0.7810  data: 0.6671  max mem: 10278\n"
     ]
    },
    {
     "name": "stderr",
     "output_type": "stream",
     "text": [
      "\u001b[32m2025-03-10 16:23:59.082\u001b[0m | \u001b[1mINFO    \u001b[0m | \u001b[36mdeimkit.trainer\u001b[0m:\u001b[36mtrain\u001b[0m:\u001b[36m312\u001b[0m - \u001b[1mEpoch 42 - Train loss: 27.4006, Eval mAP: 0.2016\u001b[0m\n",
      "\u001b[32m2025-03-10 16:23:59.082\u001b[0m | \u001b[1mINFO    \u001b[0m | \u001b[36mdeimkit.trainer\u001b[0m:\u001b[36mtrain\u001b[0m:\u001b[36m315\u001b[0m - \u001b[1mBest stats: {'epoch': 41, 'coco_eval_bbox': 0.23433552547346306}\u001b[0m\n"
     ]
    },
    {
     "name": "stdout",
     "output_type": "stream",
     "text": [
      "Test:  [4/5]  eta: 0:00:00    time: 0.2791  data: 0.1454  max mem: 10278\n",
      "Test: Total time: 0:00:01 (0.2913 s / it)\n",
      "Averaged stats: \n",
      "Accumulating evaluation results...\n",
      "COCOeval_opt.accumulate() finished...\n",
      "DONE (t=0.01s).\n",
      "IoU metric: bbox\n",
      " Average Precision  (AP) @[ IoU=0.50:0.95 | area=   all | maxDets=100 ] = 0.202\n",
      " Average Precision  (AP) @[ IoU=0.50      | area=   all | maxDets=100 ] = 0.392\n",
      " Average Precision  (AP) @[ IoU=0.75      | area=   all | maxDets=100 ] = 0.171\n",
      " Average Precision  (AP) @[ IoU=0.50:0.95 | area= small | maxDets=100 ] = 0.042\n",
      " Average Precision  (AP) @[ IoU=0.50:0.95 | area=medium | maxDets=100 ] = 0.266\n",
      " Average Precision  (AP) @[ IoU=0.50:0.95 | area= large | maxDets=100 ] = 0.175\n",
      " Average Recall     (AR) @[ IoU=0.50:0.95 | area=   all | maxDets=  1 ] = 0.258\n",
      " Average Recall     (AR) @[ IoU=0.50:0.95 | area=   all | maxDets= 10 ] = 0.417\n",
      " Average Recall     (AR) @[ IoU=0.50:0.95 | area=   all | maxDets=100 ] = 0.533\n",
      " Average Recall     (AR) @[ IoU=0.50:0.95 | area= small | maxDets=100 ] = 0.040\n",
      " Average Recall     (AR) @[ IoU=0.50:0.95 | area=medium | maxDets=100 ] = 0.493\n",
      " Average Recall     (AR) @[ IoU=0.50:0.95 | area= large | maxDets=100 ] = 0.435\n",
      " Average Recall     (AR) @[ IoU=0.50      | area=   all | maxDets=100 ] = 0.846\n",
      " Average Recall     (AR) @[ IoU=0.75      | area=   all | maxDets=100 ] = 0.587\n",
      "Epoch: [43]  [ 0/15]  eta: 0:00:27  lr: 0.000200  loss: 27.6519 (27.6519)  loss_mal: 1.2139 (1.2139)  loss_bbox: 0.3506 (0.3506)  loss_giou: 0.8105 (0.8105)  loss_fgl: 1.0974 (1.0974)  loss_mal_aux_0: 1.2236 (1.2236)  loss_bbox_aux_0: 0.3612 (0.3612)  loss_giou_aux_0: 0.8448 (0.8448)  loss_fgl_aux_0: 1.0996 (1.0996)  loss_ddf_aux_0: 0.0586 (0.0586)  loss_mal_aux_1: 1.2275 (1.2275)  loss_bbox_aux_1: 0.3518 (0.3518)  loss_giou_aux_1: 0.8173 (0.8173)  loss_fgl_aux_1: 1.0980 (1.0980)  loss_ddf_aux_1: 0.0094 (0.0094)  loss_mal_pre: 1.2178 (1.2178)  loss_bbox_pre: 0.3625 (0.3625)  loss_giou_pre: 0.8502 (0.8502)  loss_mal_enc_0: 1.1465 (1.1465)  loss_bbox_enc_0: 0.4021 (0.4021)  loss_giou_enc_0: 0.9404 (0.9404)  loss_mal_dn_0: 0.6904 (0.6904)  loss_bbox_dn_0: 0.4977 (0.4977)  loss_giou_dn_0: 1.1783 (1.1783)  loss_fgl_dn_0: 0.9259 (0.9259)  loss_ddf_dn_0: 0.0771 (0.0771)  loss_mal_dn_1: 0.7295 (0.7295)  loss_bbox_dn_1: 0.4615 (0.4615)  loss_giou_dn_1: 1.0788 (1.0788)  loss_fgl_dn_1: 0.9582 (0.9582)  loss_ddf_dn_1: 0.0118 (0.0118)  loss_mal_dn_2: 0.7344 (0.7344)  loss_bbox_dn_2: 0.4458 (0.4458)  loss_giou_dn_2: 1.0413 (1.0413)  loss_fgl_dn_2: 0.9687 (0.9687)  loss_mal_dn_pre: 0.6870 (0.6870)  loss_bbox_dn_pre: 0.4979 (0.4979)  loss_giou_dn_pre: 1.1839 (1.1839)  time: 1.8486  data: 1.3320  max mem: 10278\n"
     ]
    },
    {
     "name": "stderr",
     "output_type": "stream",
     "text": [
      "\u001b[32m2025-03-10 16:24:07.791\u001b[0m | \u001b[1mINFO    \u001b[0m | \u001b[36mdeimkit.trainer\u001b[0m:\u001b[36m_save_checkpoint\u001b[0m:\u001b[36m363\u001b[0m - \u001b[1mSaving checkpoint to outputs/deim_hgnetv2_s_coco_ema_tune/checkpoint0043.pth\u001b[0m\n"
     ]
    },
    {
     "name": "stdout",
     "output_type": "stream",
     "text": [
      "Epoch: [43]  [14/15]  eta: 0:00:00  lr: 0.000200  loss: 26.7751 (27.0277)  loss_mal: 1.1377 (1.0912)  loss_bbox: 0.3393 (0.3596)  loss_giou: 0.8105 (0.8759)  loss_fgl: 1.0974 (1.0629)  loss_mal_aux_0: 1.0557 (1.0449)  loss_bbox_aux_0: 0.3563 (0.3688)  loss_giou_aux_0: 0.8448 (0.9013)  loss_fgl_aux_0: 1.0996 (1.0605)  loss_ddf_aux_0: 0.0815 (0.0951)  loss_mal_aux_1: 1.0918 (1.0789)  loss_bbox_aux_1: 0.3427 (0.3595)  loss_giou_aux_1: 0.8173 (0.8778)  loss_fgl_aux_1: 1.0980 (1.0611)  loss_ddf_aux_1: 0.0121 (0.0123)  loss_mal_pre: 1.0537 (1.0429)  loss_bbox_pre: 0.3518 (0.3677)  loss_giou_pre: 0.8493 (0.9000)  loss_mal_enc_0: 0.9863 (0.9951)  loss_bbox_enc_0: 0.3865 (0.4044)  loss_giou_enc_0: 0.9404 (0.9827)  loss_mal_dn_0: 0.7080 (0.7109)  loss_bbox_dn_0: 0.4384 (0.4414)  loss_giou_dn_0: 1.1536 (1.1555)  loss_fgl_dn_0: 0.9597 (0.9521)  loss_ddf_dn_0: 0.1342 (0.1318)  loss_mal_dn_1: 0.7490 (0.7468)  loss_bbox_dn_1: 0.4003 (0.4137)  loss_giou_dn_1: 1.0324 (1.0581)  loss_fgl_dn_1: 0.9962 (0.9825)  loss_ddf_dn_1: 0.0196 (0.0214)  loss_mal_dn_2: 0.7422 (0.7392)  loss_bbox_dn_2: 0.3957 (0.4064)  loss_giou_dn_2: 0.9898 (1.0260)  loss_fgl_dn_2: 1.0050 (0.9924)  loss_mal_dn_pre: 0.7075 (0.7096)  loss_bbox_dn_pre: 0.4363 (0.4408)  loss_giou_dn_pre: 1.1472 (1.1566)  time: 0.5737  data: 0.1089  max mem: 10278\n",
      "Epoch: [43] Total time: 0:00:08 (0.5787 s / it)\n",
      "Averaged stats: lr: 0.000200  loss: 26.7751 (27.0277)  loss_mal: 1.1377 (1.0912)  loss_bbox: 0.3393 (0.3596)  loss_giou: 0.8105 (0.8759)  loss_fgl: 1.0974 (1.0629)  loss_mal_aux_0: 1.0557 (1.0449)  loss_bbox_aux_0: 0.3563 (0.3688)  loss_giou_aux_0: 0.8448 (0.9013)  loss_fgl_aux_0: 1.0996 (1.0605)  loss_ddf_aux_0: 0.0815 (0.0951)  loss_mal_aux_1: 1.0918 (1.0789)  loss_bbox_aux_1: 0.3427 (0.3595)  loss_giou_aux_1: 0.8173 (0.8778)  loss_fgl_aux_1: 1.0980 (1.0611)  loss_ddf_aux_1: 0.0121 (0.0123)  loss_mal_pre: 1.0537 (1.0429)  loss_bbox_pre: 0.3518 (0.3677)  loss_giou_pre: 0.8493 (0.9000)  loss_mal_enc_0: 0.9863 (0.9951)  loss_bbox_enc_0: 0.3865 (0.4044)  loss_giou_enc_0: 0.9404 (0.9827)  loss_mal_dn_0: 0.7080 (0.7109)  loss_bbox_dn_0: 0.4384 (0.4414)  loss_giou_dn_0: 1.1536 (1.1555)  loss_fgl_dn_0: 0.9597 (0.9521)  loss_ddf_dn_0: 0.1342 (0.1318)  loss_mal_dn_1: 0.7490 (0.7468)  loss_bbox_dn_1: 0.4003 (0.4137)  loss_giou_dn_1: 1.0324 (1.0581)  loss_fgl_dn_1: 0.9962 (0.9825)  loss_ddf_dn_1: 0.0196 (0.0214)  loss_mal_dn_2: 0.7422 (0.7392)  loss_bbox_dn_2: 0.3957 (0.4064)  loss_giou_dn_2: 0.9898 (1.0260)  loss_fgl_dn_2: 1.0050 (0.9924)  loss_mal_dn_pre: 0.7075 (0.7096)  loss_bbox_dn_pre: 0.4363 (0.4408)  loss_giou_dn_pre: 1.1472 (1.1566)\n"
     ]
    },
    {
     "name": "stderr",
     "output_type": "stream",
     "text": [
      "\u001b[32m2025-03-10 16:24:08.064\u001b[0m | \u001b[1mINFO    \u001b[0m | \u001b[36mdeimkit.trainer\u001b[0m:\u001b[36m_save_checkpoint\u001b[0m:\u001b[36m380\u001b[0m - \u001b[1mCheckpoint saved to outputs/deim_hgnetv2_s_coco_ema_tune/checkpoint0043.pth\u001b[0m\n",
      "\u001b[32m2025-03-10 16:24:08.065\u001b[0m | \u001b[1mINFO    \u001b[0m | \u001b[36mdeimkit.trainer\u001b[0m:\u001b[36mevaluate\u001b[0m:\u001b[36m331\u001b[0m - \u001b[1mEvaluating model...\u001b[0m\n"
     ]
    },
    {
     "name": "stdout",
     "output_type": "stream",
     "text": [
      "Test:  [0/5]  eta: 0:00:03    time: 0.7364  data: 0.6175  max mem: 10278\n"
     ]
    },
    {
     "name": "stderr",
     "output_type": "stream",
     "text": [
      "\u001b[32m2025-03-10 16:24:09.369\u001b[0m | \u001b[1mINFO    \u001b[0m | \u001b[36mdeimkit.trainer\u001b[0m:\u001b[36m_save_checkpoint\u001b[0m:\u001b[36m363\u001b[0m - \u001b[1mSaving checkpoint to outputs/deim_hgnetv2_s_coco_ema_tune/best.pth\u001b[0m\n"
     ]
    },
    {
     "name": "stdout",
     "output_type": "stream",
     "text": [
      "Test:  [4/5]  eta: 0:00:00    time: 0.2431  data: 0.1424  max mem: 10278\n",
      "Test: Total time: 0:00:01 (0.2549 s / it)\n",
      "Averaged stats: \n",
      "Accumulating evaluation results...\n",
      "COCOeval_opt.accumulate() finished...\n",
      "DONE (t=0.02s).\n",
      "IoU metric: bbox\n",
      " Average Precision  (AP) @[ IoU=0.50:0.95 | area=   all | maxDets=100 ] = 0.249\n",
      " Average Precision  (AP) @[ IoU=0.50      | area=   all | maxDets=100 ] = 0.422\n",
      " Average Precision  (AP) @[ IoU=0.75      | area=   all | maxDets=100 ] = 0.276\n",
      " Average Precision  (AP) @[ IoU=0.50:0.95 | area= small | maxDets=100 ] = 0.363\n",
      " Average Precision  (AP) @[ IoU=0.50:0.95 | area=medium | maxDets=100 ] = 0.355\n",
      " Average Precision  (AP) @[ IoU=0.50:0.95 | area= large | maxDets=100 ] = 0.178\n",
      " Average Recall     (AR) @[ IoU=0.50:0.95 | area=   all | maxDets=  1 ] = 0.296\n",
      " Average Recall     (AR) @[ IoU=0.50:0.95 | area=   all | maxDets= 10 ] = 0.511\n",
      " Average Recall     (AR) @[ IoU=0.50:0.95 | area=   all | maxDets=100 ] = 0.651\n",
      " Average Recall     (AR) @[ IoU=0.50:0.95 | area= small | maxDets=100 ] = 0.360\n",
      " Average Recall     (AR) @[ IoU=0.50:0.95 | area=medium | maxDets=100 ] = 0.647\n",
      " Average Recall     (AR) @[ IoU=0.50:0.95 | area= large | maxDets=100 ] = 0.488\n",
      " Average Recall     (AR) @[ IoU=0.50      | area=   all | maxDets=100 ] = 0.939\n",
      " Average Recall     (AR) @[ IoU=0.75      | area=   all | maxDets=100 ] = 0.770\n"
     ]
    },
    {
     "name": "stderr",
     "output_type": "stream",
     "text": [
      "\u001b[32m2025-03-10 16:24:09.925\u001b[0m | \u001b[1mINFO    \u001b[0m | \u001b[36mdeimkit.trainer\u001b[0m:\u001b[36m_save_checkpoint\u001b[0m:\u001b[36m380\u001b[0m - \u001b[1mCheckpoint saved to outputs/deim_hgnetv2_s_coco_ema_tune/best.pth\u001b[0m\n",
      "\u001b[32m2025-03-10 16:24:09.928\u001b[0m | \u001b[1mINFO    \u001b[0m | \u001b[36mdeimkit.trainer\u001b[0m:\u001b[36mtrain\u001b[0m:\u001b[36m312\u001b[0m - \u001b[1mEpoch 43 - Train loss: 27.0277, Eval mAP: 0.2492\u001b[0m\n",
      "\u001b[32m2025-03-10 16:24:09.928\u001b[0m | \u001b[1mINFO    \u001b[0m | \u001b[36mdeimkit.trainer\u001b[0m:\u001b[36mtrain\u001b[0m:\u001b[36m315\u001b[0m - \u001b[1mBest stats: {'epoch': 43, 'coco_eval_bbox': 0.2491829411554193}\u001b[0m\n"
     ]
    },
    {
     "name": "stdout",
     "output_type": "stream",
     "text": [
      "Epoch: [44]  [ 0/15]  eta: 0:00:34  lr: 0.000200  loss: 27.2025 (27.2025)  loss_mal: 0.8862 (0.8862)  loss_bbox: 0.4367 (0.4367)  loss_giou: 1.0191 (1.0191)  loss_fgl: 1.0260 (1.0260)  loss_mal_aux_0: 0.8789 (0.8789)  loss_bbox_aux_0: 0.4366 (0.4366)  loss_giou_aux_0: 1.0291 (1.0291)  loss_fgl_aux_0: 1.0199 (1.0199)  loss_ddf_aux_0: 0.0808 (0.0808)  loss_mal_aux_1: 0.8936 (0.8936)  loss_bbox_aux_1: 0.4357 (0.4357)  loss_giou_aux_1: 1.0176 (1.0176)  loss_fgl_aux_1: 1.0217 (1.0217)  loss_ddf_aux_1: 0.0064 (0.0064)  loss_mal_pre: 0.8789 (0.8789)  loss_bbox_pre: 0.4366 (0.4366)  loss_giou_pre: 1.0291 (1.0291)  loss_mal_enc_0: 0.8618 (0.8618)  loss_bbox_enc_0: 0.4492 (0.4492)  loss_giou_enc_0: 1.0691 (1.0691)  loss_mal_dn_0: 0.6963 (0.6963)  loss_bbox_dn_0: 0.4745 (0.4745)  loss_giou_dn_0: 1.2072 (1.2072)  loss_fgl_dn_0: 0.9157 (0.9157)  loss_ddf_dn_0: 0.1259 (0.1259)  loss_mal_dn_1: 0.7246 (0.7246)  loss_bbox_dn_1: 0.4548 (0.4548)  loss_giou_dn_1: 1.1349 (1.1349)  loss_fgl_dn_1: 0.9373 (0.9373)  loss_ddf_dn_1: 0.0153 (0.0153)  loss_mal_dn_2: 0.7114 (0.7114)  loss_bbox_dn_2: 0.4484 (0.4484)  loss_giou_dn_2: 1.1155 (1.1155)  loss_fgl_dn_2: 0.9472 (0.9472)  loss_mal_dn_pre: 0.6958 (0.6958)  loss_bbox_dn_pre: 0.4753 (0.4753)  loss_giou_dn_pre: 1.2094 (1.2094)  time: 2.3015  data: 1.6295  max mem: 10278\n"
     ]
    },
    {
     "name": "stderr",
     "output_type": "stream",
     "text": [
      "\u001b[32m2025-03-10 16:24:19.060\u001b[0m | \u001b[1mINFO    \u001b[0m | \u001b[36mdeimkit.trainer\u001b[0m:\u001b[36mevaluate\u001b[0m:\u001b[36m331\u001b[0m - \u001b[1mEvaluating model...\u001b[0m\n"
     ]
    },
    {
     "name": "stdout",
     "output_type": "stream",
     "text": [
      "Epoch: [44]  [14/15]  eta: 0:00:00  lr: 0.000200  loss: 26.8632 (26.7645)  loss_mal: 0.9756 (1.0857)  loss_bbox: 0.3761 (0.3673)  loss_giou: 0.9496 (0.8848)  loss_fgl: 1.0452 (1.0521)  loss_mal_aux_0: 0.9028 (0.9973)  loss_bbox_aux_0: 0.3806 (0.3742)  loss_giou_aux_0: 0.9652 (0.9108)  loss_fgl_aux_0: 1.0397 (1.0511)  loss_ddf_aux_0: 0.0806 (0.0821)  loss_mal_aux_1: 0.9224 (1.0543)  loss_bbox_aux_1: 0.3752 (0.3673)  loss_giou_aux_1: 0.9483 (0.8852)  loss_fgl_aux_1: 1.0445 (1.0514)  loss_ddf_aux_1: 0.0041 (0.0051)  loss_mal_pre: 0.9033 (0.9962)  loss_bbox_pre: 0.3804 (0.3743)  loss_giou_pre: 0.9604 (0.9103)  loss_mal_enc_0: 0.8770 (0.9490)  loss_bbox_enc_0: 0.4226 (0.4100)  loss_giou_enc_0: 1.0150 (0.9927)  loss_mal_dn_0: 0.6987 (0.7104)  loss_bbox_dn_0: 0.4195 (0.4247)  loss_giou_dn_0: 1.1727 (1.1396)  loss_fgl_dn_0: 0.9468 (0.9650)  loss_ddf_dn_0: 0.1273 (0.1278)  loss_mal_dn_1: 0.7461 (0.7436)  loss_bbox_dn_1: 0.4059 (0.3937)  loss_giou_dn_1: 1.0920 (1.0348)  loss_fgl_dn_1: 0.9721 (0.9948)  loss_ddf_dn_1: 0.0135 (0.0138)  loss_mal_dn_2: 0.7290 (0.7457)  loss_bbox_dn_2: 0.3946 (0.3861)  loss_giou_dn_2: 1.0640 (1.0055)  loss_fgl_dn_2: 0.9813 (1.0037)  loss_mal_dn_pre: 0.6968 (0.7084)  loss_bbox_dn_pre: 0.4144 (0.4240)  loss_giou_dn_pre: 1.1747 (1.1420)  time: 0.6032  data: 0.1236  max mem: 10278\n",
      "Epoch: [44] Total time: 0:00:09 (0.6075 s / it)\n",
      "Averaged stats: lr: 0.000200  loss: 26.8632 (26.7645)  loss_mal: 0.9756 (1.0857)  loss_bbox: 0.3761 (0.3673)  loss_giou: 0.9496 (0.8848)  loss_fgl: 1.0452 (1.0521)  loss_mal_aux_0: 0.9028 (0.9973)  loss_bbox_aux_0: 0.3806 (0.3742)  loss_giou_aux_0: 0.9652 (0.9108)  loss_fgl_aux_0: 1.0397 (1.0511)  loss_ddf_aux_0: 0.0806 (0.0821)  loss_mal_aux_1: 0.9224 (1.0543)  loss_bbox_aux_1: 0.3752 (0.3673)  loss_giou_aux_1: 0.9483 (0.8852)  loss_fgl_aux_1: 1.0445 (1.0514)  loss_ddf_aux_1: 0.0041 (0.0051)  loss_mal_pre: 0.9033 (0.9962)  loss_bbox_pre: 0.3804 (0.3743)  loss_giou_pre: 0.9604 (0.9103)  loss_mal_enc_0: 0.8770 (0.9490)  loss_bbox_enc_0: 0.4226 (0.4100)  loss_giou_enc_0: 1.0150 (0.9927)  loss_mal_dn_0: 0.6987 (0.7104)  loss_bbox_dn_0: 0.4195 (0.4247)  loss_giou_dn_0: 1.1727 (1.1396)  loss_fgl_dn_0: 0.9468 (0.9650)  loss_ddf_dn_0: 0.1273 (0.1278)  loss_mal_dn_1: 0.7461 (0.7436)  loss_bbox_dn_1: 0.4059 (0.3937)  loss_giou_dn_1: 1.0920 (1.0348)  loss_fgl_dn_1: 0.9721 (0.9948)  loss_ddf_dn_1: 0.0135 (0.0138)  loss_mal_dn_2: 0.7290 (0.7457)  loss_bbox_dn_2: 0.3946 (0.3861)  loss_giou_dn_2: 1.0640 (1.0055)  loss_fgl_dn_2: 0.9813 (1.0037)  loss_mal_dn_pre: 0.6968 (0.7084)  loss_bbox_dn_pre: 0.4144 (0.4240)  loss_giou_dn_pre: 1.1747 (1.1420)\n",
      "Test:  [0/5]  eta: 0:00:04    time: 0.8104  data: 0.6806  max mem: 10278\n"
     ]
    },
    {
     "name": "stderr",
     "output_type": "stream",
     "text": [
      "\u001b[32m2025-03-10 16:24:20.427\u001b[0m | \u001b[1mINFO    \u001b[0m | \u001b[36mdeimkit.trainer\u001b[0m:\u001b[36m_save_checkpoint\u001b[0m:\u001b[36m363\u001b[0m - \u001b[1mSaving checkpoint to outputs/deim_hgnetv2_s_coco_ema_tune/best.pth\u001b[0m\n"
     ]
    },
    {
     "name": "stdout",
     "output_type": "stream",
     "text": [
      "Test:  [4/5]  eta: 0:00:00    time: 0.2557  data: 0.1491  max mem: 10278\n",
      "Test: Total time: 0:00:01 (0.2677 s / it)\n",
      "Averaged stats: \n",
      "Accumulating evaluation results...\n",
      "COCOeval_opt.accumulate() finished...\n",
      "DONE (t=0.02s).\n",
      "IoU metric: bbox\n",
      " Average Precision  (AP) @[ IoU=0.50:0.95 | area=   all | maxDets=100 ] = 0.257\n",
      " Average Precision  (AP) @[ IoU=0.50      | area=   all | maxDets=100 ] = 0.406\n",
      " Average Precision  (AP) @[ IoU=0.75      | area=   all | maxDets=100 ] = 0.298\n",
      " Average Precision  (AP) @[ IoU=0.50:0.95 | area= small | maxDets=100 ] = 0.354\n",
      " Average Precision  (AP) @[ IoU=0.50:0.95 | area=medium | maxDets=100 ] = 0.420\n",
      " Average Precision  (AP) @[ IoU=0.50:0.95 | area= large | maxDets=100 ] = 0.164\n",
      " Average Recall     (AR) @[ IoU=0.50:0.95 | area=   all | maxDets=  1 ] = 0.293\n",
      " Average Recall     (AR) @[ IoU=0.50:0.95 | area=   all | maxDets= 10 ] = 0.531\n",
      " Average Recall     (AR) @[ IoU=0.50:0.95 | area=   all | maxDets=100 ] = 0.689\n",
      " Average Recall     (AR) @[ IoU=0.50:0.95 | area= small | maxDets=100 ] = 0.380\n",
      " Average Recall     (AR) @[ IoU=0.50:0.95 | area=medium | maxDets=100 ] = 0.693\n",
      " Average Recall     (AR) @[ IoU=0.50:0.95 | area= large | maxDets=100 ] = 0.517\n",
      " Average Recall     (AR) @[ IoU=0.50      | area=   all | maxDets=100 ] = 0.947\n",
      " Average Recall     (AR) @[ IoU=0.75      | area=   all | maxDets=100 ] = 0.807\n"
     ]
    },
    {
     "name": "stderr",
     "output_type": "stream",
     "text": [
      "\u001b[32m2025-03-10 16:24:20.943\u001b[0m | \u001b[1mINFO    \u001b[0m | \u001b[36mdeimkit.trainer\u001b[0m:\u001b[36m_save_checkpoint\u001b[0m:\u001b[36m380\u001b[0m - \u001b[1mCheckpoint saved to outputs/deim_hgnetv2_s_coco_ema_tune/best.pth\u001b[0m\n",
      "\u001b[32m2025-03-10 16:24:20.944\u001b[0m | \u001b[1mINFO    \u001b[0m | \u001b[36mdeimkit.trainer\u001b[0m:\u001b[36mtrain\u001b[0m:\u001b[36m312\u001b[0m - \u001b[1mEpoch 44 - Train loss: 26.7645, Eval mAP: 0.2573\u001b[0m\n",
      "\u001b[32m2025-03-10 16:24:20.945\u001b[0m | \u001b[1mINFO    \u001b[0m | \u001b[36mdeimkit.trainer\u001b[0m:\u001b[36mtrain\u001b[0m:\u001b[36m315\u001b[0m - \u001b[1mBest stats: {'epoch': 44, 'coco_eval_bbox': 0.2573247864008878}\u001b[0m\n"
     ]
    },
    {
     "name": "stdout",
     "output_type": "stream",
     "text": [
      "Epoch: [45]  [ 0/15]  eta: 0:00:28  lr: 0.000200  loss: 25.5905 (25.5905)  loss_mal: 1.1367 (1.1367)  loss_bbox: 0.2785 (0.2785)  loss_giou: 0.7690 (0.7690)  loss_fgl: 1.0848 (1.0848)  loss_mal_aux_0: 1.0205 (1.0205)  loss_bbox_aux_0: 0.2813 (0.2813)  loss_giou_aux_0: 0.7980 (0.7980)  loss_fgl_aux_0: 1.0911 (1.0911)  loss_ddf_aux_0: 0.0966 (0.0966)  loss_mal_aux_1: 1.0742 (1.0742)  loss_bbox_aux_1: 0.2783 (0.2783)  loss_giou_aux_1: 0.7693 (0.7693)  loss_fgl_aux_1: 1.0856 (1.0856)  loss_ddf_aux_1: 0.0056 (0.0056)  loss_mal_pre: 1.0195 (1.0195)  loss_bbox_pre: 0.2817 (0.2817)  loss_giou_pre: 0.7986 (0.7986)  loss_mal_enc_0: 1.0059 (1.0059)  loss_bbox_enc_0: 0.3132 (0.3132)  loss_giou_enc_0: 0.8895 (0.8895)  loss_mal_dn_0: 0.7437 (0.7437)  loss_bbox_dn_0: 0.3247 (0.3247)  loss_giou_dn_0: 1.0320 (1.0320)  loss_fgl_dn_0: 1.0341 (1.0341)  loss_ddf_dn_0: 0.1958 (0.1958)  loss_mal_dn_1: 0.7637 (0.7637)  loss_bbox_dn_1: 0.3070 (0.3070)  loss_giou_dn_1: 0.9268 (0.9268)  loss_fgl_dn_1: 1.0502 (1.0502)  loss_ddf_dn_1: 0.0242 (0.0242)  loss_mal_dn_2: 0.7627 (0.7627)  loss_bbox_dn_2: 0.3006 (0.3006)  loss_giou_dn_2: 0.8961 (0.8961)  loss_fgl_dn_2: 1.0546 (1.0546)  loss_mal_dn_pre: 0.7427 (0.7427)  loss_bbox_dn_pre: 0.3207 (0.3207)  loss_giou_dn_pre: 1.0328 (1.0328)  time: 1.8839  data: 1.3322  max mem: 10278\n"
     ]
    },
    {
     "name": "stderr",
     "output_type": "stream",
     "text": [
      "\u001b[32m2025-03-10 16:24:29.220\u001b[0m | \u001b[1mINFO    \u001b[0m | \u001b[36mdeimkit.trainer\u001b[0m:\u001b[36mevaluate\u001b[0m:\u001b[36m331\u001b[0m - \u001b[1mEvaluating model...\u001b[0m\n"
     ]
    },
    {
     "name": "stdout",
     "output_type": "stream",
     "text": [
      "Epoch: [45]  [14/15]  eta: 0:00:00  lr: 0.000200  loss: 26.0278 (26.1780)  loss_mal: 1.1299 (1.0939)  loss_bbox: 0.2729 (0.3006)  loss_giou: 0.7135 (0.7794)  loss_fgl: 1.1224 (1.1025)  loss_mal_aux_0: 1.0547 (1.0418)  loss_bbox_aux_0: 0.2813 (0.3118)  loss_giou_aux_0: 0.7549 (0.8148)  loss_fgl_aux_0: 1.1287 (1.1038)  loss_ddf_aux_0: 0.1164 (0.1123)  loss_mal_aux_1: 1.1084 (1.0803)  loss_bbox_aux_1: 0.2732 (0.3002)  loss_giou_aux_1: 0.7167 (0.7820)  loss_fgl_aux_1: 1.1215 (1.1014)  loss_ddf_aux_1: 0.0079 (0.0077)  loss_mal_pre: 1.0498 (1.0414)  loss_bbox_pre: 0.2817 (0.3100)  loss_giou_pre: 0.7559 (0.8111)  loss_mal_enc_0: 1.0078 (1.0040)  loss_bbox_enc_0: 0.3286 (0.3594)  loss_giou_enc_0: 0.8895 (0.9289)  loss_mal_dn_0: 0.7437 (0.7405)  loss_bbox_dn_0: 0.3814 (0.3857)  loss_giou_dn_0: 1.0498 (1.0668)  loss_fgl_dn_0: 1.0301 (1.0083)  loss_ddf_dn_0: 0.2101 (0.2174)  loss_mal_dn_1: 0.7710 (0.7701)  loss_bbox_dn_1: 0.3280 (0.3449)  loss_giou_dn_1: 0.9264 (0.9434)  loss_fgl_dn_1: 1.0502 (1.0369)  loss_ddf_dn_1: 0.0270 (0.0280)  loss_mal_dn_2: 0.7710 (0.7686)  loss_bbox_dn_2: 0.3154 (0.3358)  loss_giou_dn_2: 0.8736 (0.9063)  loss_fgl_dn_2: 1.0559 (1.0447)  loss_mal_dn_pre: 0.7427 (0.7382)  loss_bbox_dn_pre: 0.3770 (0.3847)  loss_giou_dn_pre: 1.0502 (1.0705)  time: 0.5457  data: 0.1105  max mem: 10278\n",
      "Epoch: [45] Total time: 0:00:08 (0.5503 s / it)\n",
      "Averaged stats: lr: 0.000200  loss: 26.0278 (26.1780)  loss_mal: 1.1299 (1.0939)  loss_bbox: 0.2729 (0.3006)  loss_giou: 0.7135 (0.7794)  loss_fgl: 1.1224 (1.1025)  loss_mal_aux_0: 1.0547 (1.0418)  loss_bbox_aux_0: 0.2813 (0.3118)  loss_giou_aux_0: 0.7549 (0.8148)  loss_fgl_aux_0: 1.1287 (1.1038)  loss_ddf_aux_0: 0.1164 (0.1123)  loss_mal_aux_1: 1.1084 (1.0803)  loss_bbox_aux_1: 0.2732 (0.3002)  loss_giou_aux_1: 0.7167 (0.7820)  loss_fgl_aux_1: 1.1215 (1.1014)  loss_ddf_aux_1: 0.0079 (0.0077)  loss_mal_pre: 1.0498 (1.0414)  loss_bbox_pre: 0.2817 (0.3100)  loss_giou_pre: 0.7559 (0.8111)  loss_mal_enc_0: 1.0078 (1.0040)  loss_bbox_enc_0: 0.3286 (0.3594)  loss_giou_enc_0: 0.8895 (0.9289)  loss_mal_dn_0: 0.7437 (0.7405)  loss_bbox_dn_0: 0.3814 (0.3857)  loss_giou_dn_0: 1.0498 (1.0668)  loss_fgl_dn_0: 1.0301 (1.0083)  loss_ddf_dn_0: 0.2101 (0.2174)  loss_mal_dn_1: 0.7710 (0.7701)  loss_bbox_dn_1: 0.3280 (0.3449)  loss_giou_dn_1: 0.9264 (0.9434)  loss_fgl_dn_1: 1.0502 (1.0369)  loss_ddf_dn_1: 0.0270 (0.0280)  loss_mal_dn_2: 0.7710 (0.7686)  loss_bbox_dn_2: 0.3154 (0.3358)  loss_giou_dn_2: 0.8736 (0.9063)  loss_fgl_dn_2: 1.0559 (1.0447)  loss_mal_dn_pre: 0.7427 (0.7382)  loss_bbox_dn_pre: 0.3770 (0.3847)  loss_giou_dn_pre: 1.0502 (1.0705)\n",
      "Test:  [0/5]  eta: 0:00:03    time: 0.7646  data: 0.6332  max mem: 10278\n"
     ]
    },
    {
     "name": "stderr",
     "output_type": "stream",
     "text": [
      "\u001b[32m2025-03-10 16:24:30.536\u001b[0m | \u001b[1mINFO    \u001b[0m | \u001b[36mdeimkit.trainer\u001b[0m:\u001b[36m_save_checkpoint\u001b[0m:\u001b[36m363\u001b[0m - \u001b[1mSaving checkpoint to outputs/deim_hgnetv2_s_coco_ema_tune/best.pth\u001b[0m\n"
     ]
    },
    {
     "name": "stdout",
     "output_type": "stream",
     "text": [
      "Test:  [4/5]  eta: 0:00:00    time: 0.2459  data: 0.1427  max mem: 10278\n",
      "Test: Total time: 0:00:01 (0.2574 s / it)\n",
      "Averaged stats: \n",
      "Accumulating evaluation results...\n",
      "COCOeval_opt.accumulate() finished...\n",
      "DONE (t=0.02s).\n",
      "IoU metric: bbox\n",
      " Average Precision  (AP) @[ IoU=0.50:0.95 | area=   all | maxDets=100 ] = 0.280\n",
      " Average Precision  (AP) @[ IoU=0.50      | area=   all | maxDets=100 ] = 0.467\n",
      " Average Precision  (AP) @[ IoU=0.75      | area=   all | maxDets=100 ] = 0.309\n",
      " Average Precision  (AP) @[ IoU=0.50:0.95 | area= small | maxDets=100 ] = 0.239\n",
      " Average Precision  (AP) @[ IoU=0.50:0.95 | area=medium | maxDets=100 ] = 0.418\n",
      " Average Precision  (AP) @[ IoU=0.50:0.95 | area= large | maxDets=100 ] = 0.191\n",
      " Average Recall     (AR) @[ IoU=0.50:0.95 | area=   all | maxDets=  1 ] = 0.292\n",
      " Average Recall     (AR) @[ IoU=0.50:0.95 | area=   all | maxDets= 10 ] = 0.546\n",
      " Average Recall     (AR) @[ IoU=0.50:0.95 | area=   all | maxDets=100 ] = 0.698\n",
      " Average Recall     (AR) @[ IoU=0.50:0.95 | area= small | maxDets=100 ] = 0.440\n",
      " Average Recall     (AR) @[ IoU=0.50:0.95 | area=medium | maxDets=100 ] = 0.714\n",
      " Average Recall     (AR) @[ IoU=0.50:0.95 | area= large | maxDets=100 ] = 0.509\n",
      " Average Recall     (AR) @[ IoU=0.50      | area=   all | maxDets=100 ] = 0.955\n",
      " Average Recall     (AR) @[ IoU=0.75      | area=   all | maxDets=100 ] = 0.839\n"
     ]
    },
    {
     "name": "stderr",
     "output_type": "stream",
     "text": [
      "\u001b[32m2025-03-10 16:24:31.012\u001b[0m | \u001b[1mINFO    \u001b[0m | \u001b[36mdeimkit.trainer\u001b[0m:\u001b[36m_save_checkpoint\u001b[0m:\u001b[36m380\u001b[0m - \u001b[1mCheckpoint saved to outputs/deim_hgnetv2_s_coco_ema_tune/best.pth\u001b[0m\n",
      "\u001b[32m2025-03-10 16:24:31.014\u001b[0m | \u001b[1mINFO    \u001b[0m | \u001b[36mdeimkit.trainer\u001b[0m:\u001b[36mtrain\u001b[0m:\u001b[36m312\u001b[0m - \u001b[1mEpoch 45 - Train loss: 26.1780, Eval mAP: 0.2797\u001b[0m\n",
      "\u001b[32m2025-03-10 16:24:31.015\u001b[0m | \u001b[1mINFO    \u001b[0m | \u001b[36mdeimkit.trainer\u001b[0m:\u001b[36mtrain\u001b[0m:\u001b[36m315\u001b[0m - \u001b[1mBest stats: {'epoch': 45, 'coco_eval_bbox': 0.2796792794071246}\u001b[0m\n"
     ]
    },
    {
     "name": "stdout",
     "output_type": "stream",
     "text": [
      "Epoch: [46]  [ 0/15]  eta: 0:00:32  lr: 0.000200  loss: 27.4293 (27.4293)  loss_mal: 0.9526 (0.9526)  loss_bbox: 0.4585 (0.4585)  loss_giou: 1.0167 (1.0167)  loss_fgl: 0.9974 (0.9974)  loss_mal_aux_0: 0.9009 (0.9009)  loss_bbox_aux_0: 0.4628 (0.4628)  loss_giou_aux_0: 1.0352 (1.0352)  loss_fgl_aux_0: 0.9897 (0.9897)  loss_ddf_aux_0: 0.0894 (0.0894)  loss_mal_aux_1: 0.9556 (0.9556)  loss_bbox_aux_1: 0.4580 (0.4580)  loss_giou_aux_1: 1.0164 (1.0164)  loss_fgl_aux_1: 0.9948 (0.9948)  loss_ddf_aux_1: 0.0051 (0.0051)  loss_mal_pre: 0.8984 (0.8984)  loss_bbox_pre: 0.4629 (0.4629)  loss_giou_pre: 1.0355 (1.0355)  loss_mal_enc_0: 0.8706 (0.8706)  loss_bbox_enc_0: 0.4972 (0.4972)  loss_giou_enc_0: 1.1149 (1.1149)  loss_mal_dn_0: 0.7139 (0.7139)  loss_bbox_dn_0: 0.4572 (0.4572)  loss_giou_dn_0: 1.1452 (1.1452)  loss_fgl_dn_0: 0.9673 (0.9673)  loss_ddf_dn_0: 0.1842 (0.1842)  loss_mal_dn_1: 0.7422 (0.7422)  loss_bbox_dn_1: 0.4252 (0.4252)  loss_giou_dn_1: 1.0624 (1.0624)  loss_fgl_dn_1: 0.9917 (0.9917)  loss_ddf_dn_1: 0.0191 (0.0191)  loss_mal_dn_2: 0.7393 (0.7393)  loss_bbox_dn_2: 0.4155 (0.4155)  loss_giou_dn_2: 1.0368 (1.0368)  loss_fgl_dn_2: 1.0021 (1.0021)  loss_mal_dn_pre: 0.7129 (0.7129)  loss_bbox_dn_pre: 0.4565 (0.4565)  loss_giou_dn_pre: 1.1454 (1.1454)  time: 2.1486  data: 1.5250  max mem: 10278\n"
     ]
    },
    {
     "name": "stderr",
     "output_type": "stream",
     "text": [
      "\u001b[32m2025-03-10 16:24:40.218\u001b[0m | \u001b[1mINFO    \u001b[0m | \u001b[36mdeimkit.trainer\u001b[0m:\u001b[36mevaluate\u001b[0m:\u001b[36m331\u001b[0m - \u001b[1mEvaluating model...\u001b[0m\n"
     ]
    },
    {
     "name": "stdout",
     "output_type": "stream",
     "text": [
      "Epoch: [46]  [14/15]  eta: 0:00:00  lr: 0.000200  loss: 26.5320 (26.3937)  loss_mal: 0.9531 (1.0031)  loss_bbox: 0.3903 (0.3680)  loss_giou: 0.9255 (0.8565)  loss_fgl: 1.0508 (1.0643)  loss_mal_aux_0: 0.9556 (0.9694)  loss_bbox_aux_0: 0.3908 (0.3759)  loss_giou_aux_0: 0.9451 (0.8835)  loss_fgl_aux_0: 1.0506 (1.0641)  loss_ddf_aux_0: 0.0917 (0.0996)  loss_mal_aux_1: 0.9556 (0.9809)  loss_bbox_aux_1: 0.3887 (0.3680)  loss_giou_aux_1: 0.9251 (0.8572)  loss_fgl_aux_1: 1.0505 (1.0633)  loss_ddf_aux_1: 0.0062 (0.0068)  loss_mal_pre: 0.9517 (0.9678)  loss_bbox_pre: 0.3908 (0.3752)  loss_giou_pre: 0.9437 (0.8834)  loss_mal_enc_0: 0.9292 (0.9517)  loss_bbox_enc_0: 0.4314 (0.4122)  loss_giou_enc_0: 1.0043 (0.9699)  loss_mal_dn_0: 0.7148 (0.7268)  loss_bbox_dn_0: 0.4112 (0.4064)  loss_giou_dn_0: 1.1159 (1.0798)  loss_fgl_dn_0: 0.9838 (1.0026)  loss_ddf_dn_0: 0.2007 (0.2090)  loss_mal_dn_1: 0.7437 (0.7604)  loss_bbox_dn_1: 0.3770 (0.3690)  loss_giou_dn_1: 1.0265 (0.9629)  loss_fgl_dn_1: 1.0043 (1.0273)  loss_ddf_dn_1: 0.0256 (0.0256)  loss_mal_dn_2: 0.7598 (0.7655)  loss_bbox_dn_2: 0.3676 (0.3588)  loss_giou_dn_2: 0.9991 (0.9293)  loss_fgl_dn_2: 1.0152 (1.0369)  loss_mal_dn_pre: 0.7139 (0.7246)  loss_bbox_dn_pre: 0.4093 (0.4054)  loss_giou_dn_pre: 1.1172 (1.0826)  time: 0.6080  data: 0.1258  max mem: 10278\n",
      "Epoch: [46] Total time: 0:00:09 (0.6123 s / it)\n",
      "Averaged stats: lr: 0.000200  loss: 26.5320 (26.3937)  loss_mal: 0.9531 (1.0031)  loss_bbox: 0.3903 (0.3680)  loss_giou: 0.9255 (0.8565)  loss_fgl: 1.0508 (1.0643)  loss_mal_aux_0: 0.9556 (0.9694)  loss_bbox_aux_0: 0.3908 (0.3759)  loss_giou_aux_0: 0.9451 (0.8835)  loss_fgl_aux_0: 1.0506 (1.0641)  loss_ddf_aux_0: 0.0917 (0.0996)  loss_mal_aux_1: 0.9556 (0.9809)  loss_bbox_aux_1: 0.3887 (0.3680)  loss_giou_aux_1: 0.9251 (0.8572)  loss_fgl_aux_1: 1.0505 (1.0633)  loss_ddf_aux_1: 0.0062 (0.0068)  loss_mal_pre: 0.9517 (0.9678)  loss_bbox_pre: 0.3908 (0.3752)  loss_giou_pre: 0.9437 (0.8834)  loss_mal_enc_0: 0.9292 (0.9517)  loss_bbox_enc_0: 0.4314 (0.4122)  loss_giou_enc_0: 1.0043 (0.9699)  loss_mal_dn_0: 0.7148 (0.7268)  loss_bbox_dn_0: 0.4112 (0.4064)  loss_giou_dn_0: 1.1159 (1.0798)  loss_fgl_dn_0: 0.9838 (1.0026)  loss_ddf_dn_0: 0.2007 (0.2090)  loss_mal_dn_1: 0.7437 (0.7604)  loss_bbox_dn_1: 0.3770 (0.3690)  loss_giou_dn_1: 1.0265 (0.9629)  loss_fgl_dn_1: 1.0043 (1.0273)  loss_ddf_dn_1: 0.0256 (0.0256)  loss_mal_dn_2: 0.7598 (0.7655)  loss_bbox_dn_2: 0.3676 (0.3588)  loss_giou_dn_2: 0.9991 (0.9293)  loss_fgl_dn_2: 1.0152 (1.0369)  loss_mal_dn_pre: 0.7139 (0.7246)  loss_bbox_dn_pre: 0.4093 (0.4054)  loss_giou_dn_pre: 1.1172 (1.0826)\n",
      "Test:  [0/5]  eta: 0:00:03    time: 0.7516  data: 0.6422  max mem: 10278\n"
     ]
    },
    {
     "name": "stderr",
     "output_type": "stream",
     "text": [
      "\u001b[32m2025-03-10 16:24:41.511\u001b[0m | \u001b[1mINFO    \u001b[0m | \u001b[36mdeimkit.trainer\u001b[0m:\u001b[36m_save_checkpoint\u001b[0m:\u001b[36m363\u001b[0m - \u001b[1mSaving checkpoint to outputs/deim_hgnetv2_s_coco_ema_tune/best.pth\u001b[0m\n"
     ]
    },
    {
     "name": "stdout",
     "output_type": "stream",
     "text": [
      "Test:  [4/5]  eta: 0:00:00    time: 0.2410  data: 0.1416  max mem: 10278\n",
      "Test: Total time: 0:00:01 (0.2526 s / it)\n",
      "Averaged stats: \n",
      "Accumulating evaluation results...\n",
      "COCOeval_opt.accumulate() finished...\n",
      "DONE (t=0.02s).\n",
      "IoU metric: bbox\n",
      " Average Precision  (AP) @[ IoU=0.50:0.95 | area=   all | maxDets=100 ] = 0.313\n",
      " Average Precision  (AP) @[ IoU=0.50      | area=   all | maxDets=100 ] = 0.511\n",
      " Average Precision  (AP) @[ IoU=0.75      | area=   all | maxDets=100 ] = 0.347\n",
      " Average Precision  (AP) @[ IoU=0.50:0.95 | area= small | maxDets=100 ] = 0.126\n",
      " Average Precision  (AP) @[ IoU=0.50:0.95 | area=medium | maxDets=100 ] = 0.425\n",
      " Average Precision  (AP) @[ IoU=0.50:0.95 | area= large | maxDets=100 ] = 0.232\n",
      " Average Recall     (AR) @[ IoU=0.50:0.95 | area=   all | maxDets=  1 ] = 0.315\n",
      " Average Recall     (AR) @[ IoU=0.50:0.95 | area=   all | maxDets= 10 ] = 0.579\n",
      " Average Recall     (AR) @[ IoU=0.50:0.95 | area=   all | maxDets=100 ] = 0.720\n",
      " Average Recall     (AR) @[ IoU=0.50:0.95 | area= small | maxDets=100 ] = 0.480\n",
      " Average Recall     (AR) @[ IoU=0.50:0.95 | area=medium | maxDets=100 ] = 0.671\n",
      " Average Recall     (AR) @[ IoU=0.50:0.95 | area= large | maxDets=100 ] = 0.522\n",
      " Average Recall     (AR) @[ IoU=0.50      | area=   all | maxDets=100 ] = 0.983\n",
      " Average Recall     (AR) @[ IoU=0.75      | area=   all | maxDets=100 ] = 0.850\n"
     ]
    },
    {
     "name": "stderr",
     "output_type": "stream",
     "text": [
      "\u001b[32m2025-03-10 16:24:41.997\u001b[0m | \u001b[1mINFO    \u001b[0m | \u001b[36mdeimkit.trainer\u001b[0m:\u001b[36m_save_checkpoint\u001b[0m:\u001b[36m380\u001b[0m - \u001b[1mCheckpoint saved to outputs/deim_hgnetv2_s_coco_ema_tune/best.pth\u001b[0m\n",
      "\u001b[32m2025-03-10 16:24:41.999\u001b[0m | \u001b[1mINFO    \u001b[0m | \u001b[36mdeimkit.trainer\u001b[0m:\u001b[36mtrain\u001b[0m:\u001b[36m312\u001b[0m - \u001b[1mEpoch 46 - Train loss: 26.3937, Eval mAP: 0.3125\u001b[0m\n",
      "\u001b[32m2025-03-10 16:24:42.000\u001b[0m | \u001b[1mINFO    \u001b[0m | \u001b[36mdeimkit.trainer\u001b[0m:\u001b[36mtrain\u001b[0m:\u001b[36m315\u001b[0m - \u001b[1mBest stats: {'epoch': 46, 'coco_eval_bbox': 0.3125242656130399}\u001b[0m\n"
     ]
    },
    {
     "name": "stdout",
     "output_type": "stream",
     "text": [
      "Epoch: [47]  [ 0/15]  eta: 0:00:28  lr: 0.000200  loss: 25.0115 (25.0115)  loss_mal: 0.9170 (0.9170)  loss_bbox: 0.2990 (0.2990)  loss_giou: 0.7929 (0.7929)  loss_fgl: 1.0785 (1.0785)  loss_mal_aux_0: 0.8999 (0.8999)  loss_bbox_aux_0: 0.3068 (0.3068)  loss_giou_aux_0: 0.8124 (0.8124)  loss_fgl_aux_0: 1.0801 (1.0801)  loss_ddf_aux_0: 0.0986 (0.0986)  loss_mal_aux_1: 0.9180 (0.9180)  loss_bbox_aux_1: 0.2996 (0.2996)  loss_giou_aux_1: 0.7935 (0.7935)  loss_fgl_aux_1: 1.0769 (1.0769)  loss_ddf_aux_1: 0.0053 (0.0053)  loss_mal_pre: 0.9014 (0.9014)  loss_bbox_pre: 0.3069 (0.3069)  loss_giou_pre: 0.8140 (0.8140)  loss_mal_enc_0: 0.8994 (0.8994)  loss_bbox_enc_0: 0.3356 (0.3356)  loss_giou_enc_0: 0.8919 (0.8919)  loss_mal_dn_0: 0.7583 (0.7583)  loss_bbox_dn_0: 0.3012 (0.3012)  loss_giou_dn_0: 1.0009 (1.0009)  loss_fgl_dn_0: 1.0473 (1.0473)  loss_ddf_dn_0: 0.3680 (0.3680)  loss_mal_dn_1: 0.7773 (0.7773)  loss_bbox_dn_1: 0.2609 (0.2609)  loss_giou_dn_1: 0.8624 (0.8624)  loss_fgl_dn_1: 1.0685 (1.0685)  loss_ddf_dn_1: 0.0444 (0.0444)  loss_mal_dn_2: 0.7871 (0.7871)  loss_bbox_dn_2: 0.2495 (0.2495)  loss_giou_dn_2: 0.8212 (0.8212)  loss_fgl_dn_2: 1.0756 (1.0756)  loss_mal_dn_pre: 0.7563 (0.7563)  loss_bbox_dn_pre: 0.3020 (0.3020)  loss_giou_dn_pre: 1.0028 (1.0028)  time: 1.8834  data: 1.3052  max mem: 10278\n"
     ]
    },
    {
     "name": "stderr",
     "output_type": "stream",
     "text": [
      "\u001b[32m2025-03-10 16:24:50.641\u001b[0m | \u001b[1mINFO    \u001b[0m | \u001b[36mdeimkit.trainer\u001b[0m:\u001b[36m_save_checkpoint\u001b[0m:\u001b[36m363\u001b[0m - \u001b[1mSaving checkpoint to outputs/deim_hgnetv2_s_coco_ema_tune/checkpoint0047.pth\u001b[0m\n"
     ]
    },
    {
     "name": "stdout",
     "output_type": "stream",
     "text": [
      "Epoch: [47]  [14/15]  eta: 0:00:00  lr: 0.000200  loss: 26.5985 (26.5368)  loss_mal: 0.9600 (0.9876)  loss_bbox: 0.3962 (0.3701)  loss_giou: 0.8605 (0.8463)  loss_fgl: 1.0982 (1.0749)  loss_mal_aux_0: 0.9058 (0.9501)  loss_bbox_aux_0: 0.4102 (0.3806)  loss_giou_aux_0: 0.8889 (0.8752)  loss_fgl_aux_0: 1.0829 (1.0732)  loss_ddf_aux_0: 0.1089 (0.1185)  loss_mal_aux_1: 0.9307 (0.9755)  loss_bbox_aux_1: 0.4004 (0.3699)  loss_giou_aux_1: 0.8619 (0.8474)  loss_fgl_aux_1: 1.0908 (1.0729)  loss_ddf_aux_1: 0.0073 (0.0078)  loss_mal_pre: 0.9062 (0.9501)  loss_bbox_pre: 0.4096 (0.3803)  loss_giou_pre: 0.8893 (0.8735)  loss_mal_enc_0: 0.9097 (0.9632)  loss_bbox_enc_0: 0.4394 (0.4236)  loss_giou_enc_0: 0.9756 (0.9650)  loss_mal_dn_0: 0.7271 (0.7332)  loss_bbox_dn_0: 0.4457 (0.4255)  loss_giou_dn_0: 1.0986 (1.0684)  loss_fgl_dn_0: 1.0035 (1.0094)  loss_ddf_dn_0: 0.2907 (0.2838)  loss_mal_dn_1: 0.7612 (0.7622)  loss_bbox_dn_1: 0.4037 (0.3877)  loss_giou_dn_1: 0.9989 (0.9598)  loss_fgl_dn_1: 1.0157 (1.0294)  loss_ddf_dn_1: 0.0314 (0.0335)  loss_mal_dn_2: 0.7593 (0.7652)  loss_bbox_dn_2: 0.3937 (0.3789)  loss_giou_dn_2: 0.9695 (0.9276)  loss_fgl_dn_2: 1.0280 (1.0393)  loss_mal_dn_pre: 0.7285 (0.7318)  loss_bbox_dn_pre: 0.4445 (0.4261)  loss_giou_dn_pre: 1.0901 (1.0693)  time: 0.5699  data: 0.1073  max mem: 10278\n",
      "Epoch: [47] Total time: 0:00:08 (0.5747 s / it)\n",
      "Averaged stats: lr: 0.000200  loss: 26.5985 (26.5368)  loss_mal: 0.9600 (0.9876)  loss_bbox: 0.3962 (0.3701)  loss_giou: 0.8605 (0.8463)  loss_fgl: 1.0982 (1.0749)  loss_mal_aux_0: 0.9058 (0.9501)  loss_bbox_aux_0: 0.4102 (0.3806)  loss_giou_aux_0: 0.8889 (0.8752)  loss_fgl_aux_0: 1.0829 (1.0732)  loss_ddf_aux_0: 0.1089 (0.1185)  loss_mal_aux_1: 0.9307 (0.9755)  loss_bbox_aux_1: 0.4004 (0.3699)  loss_giou_aux_1: 0.8619 (0.8474)  loss_fgl_aux_1: 1.0908 (1.0729)  loss_ddf_aux_1: 0.0073 (0.0078)  loss_mal_pre: 0.9062 (0.9501)  loss_bbox_pre: 0.4096 (0.3803)  loss_giou_pre: 0.8893 (0.8735)  loss_mal_enc_0: 0.9097 (0.9632)  loss_bbox_enc_0: 0.4394 (0.4236)  loss_giou_enc_0: 0.9756 (0.9650)  loss_mal_dn_0: 0.7271 (0.7332)  loss_bbox_dn_0: 0.4457 (0.4255)  loss_giou_dn_0: 1.0986 (1.0684)  loss_fgl_dn_0: 1.0035 (1.0094)  loss_ddf_dn_0: 0.2907 (0.2838)  loss_mal_dn_1: 0.7612 (0.7622)  loss_bbox_dn_1: 0.4037 (0.3877)  loss_giou_dn_1: 0.9989 (0.9598)  loss_fgl_dn_1: 1.0157 (1.0294)  loss_ddf_dn_1: 0.0314 (0.0335)  loss_mal_dn_2: 0.7593 (0.7652)  loss_bbox_dn_2: 0.3937 (0.3789)  loss_giou_dn_2: 0.9695 (0.9276)  loss_fgl_dn_2: 1.0280 (1.0393)  loss_mal_dn_pre: 0.7285 (0.7318)  loss_bbox_dn_pre: 0.4445 (0.4261)  loss_giou_dn_pre: 1.0901 (1.0693)\n"
     ]
    },
    {
     "name": "stderr",
     "output_type": "stream",
     "text": [
      "\u001b[32m2025-03-10 16:24:50.936\u001b[0m | \u001b[1mINFO    \u001b[0m | \u001b[36mdeimkit.trainer\u001b[0m:\u001b[36m_save_checkpoint\u001b[0m:\u001b[36m380\u001b[0m - \u001b[1mCheckpoint saved to outputs/deim_hgnetv2_s_coco_ema_tune/checkpoint0047.pth\u001b[0m\n",
      "\u001b[32m2025-03-10 16:24:50.938\u001b[0m | \u001b[1mINFO    \u001b[0m | \u001b[36mdeimkit.trainer\u001b[0m:\u001b[36mevaluate\u001b[0m:\u001b[36m331\u001b[0m - \u001b[1mEvaluating model...\u001b[0m\n"
     ]
    },
    {
     "name": "stdout",
     "output_type": "stream",
     "text": [
      "Test:  [0/5]  eta: 0:00:03    time: 0.7513  data: 0.6381  max mem: 10278\n"
     ]
    },
    {
     "name": "stderr",
     "output_type": "stream",
     "text": [
      "\u001b[32m2025-03-10 16:24:52.240\u001b[0m | \u001b[1mINFO    \u001b[0m | \u001b[36mdeimkit.trainer\u001b[0m:\u001b[36mtrain\u001b[0m:\u001b[36m312\u001b[0m - \u001b[1mEpoch 47 - Train loss: 26.5368, Eval mAP: 0.3069\u001b[0m\n",
      "\u001b[32m2025-03-10 16:24:52.240\u001b[0m | \u001b[1mINFO    \u001b[0m | \u001b[36mdeimkit.trainer\u001b[0m:\u001b[36mtrain\u001b[0m:\u001b[36m315\u001b[0m - \u001b[1mBest stats: {'epoch': 46, 'coco_eval_bbox': 0.3125242656130399}\u001b[0m\n"
     ]
    },
    {
     "name": "stdout",
     "output_type": "stream",
     "text": [
      "Test:  [4/5]  eta: 0:00:00    time: 0.2426  data: 0.1428  max mem: 10278\n",
      "Test: Total time: 0:00:01 (0.2542 s / it)\n",
      "Averaged stats: \n",
      "Accumulating evaluation results...\n",
      "COCOeval_opt.accumulate() finished...\n",
      "DONE (t=0.02s).\n",
      "IoU metric: bbox\n",
      " Average Precision  (AP) @[ IoU=0.50:0.95 | area=   all | maxDets=100 ] = 0.307\n",
      " Average Precision  (AP) @[ IoU=0.50      | area=   all | maxDets=100 ] = 0.516\n",
      " Average Precision  (AP) @[ IoU=0.75      | area=   all | maxDets=100 ] = 0.338\n",
      " Average Precision  (AP) @[ IoU=0.50:0.95 | area= small | maxDets=100 ] = 0.095\n",
      " Average Precision  (AP) @[ IoU=0.50:0.95 | area=medium | maxDets=100 ] = 0.420\n",
      " Average Precision  (AP) @[ IoU=0.50:0.95 | area= large | maxDets=100 ] = 0.229\n",
      " Average Recall     (AR) @[ IoU=0.50:0.95 | area=   all | maxDets=  1 ] = 0.275\n",
      " Average Recall     (AR) @[ IoU=0.50:0.95 | area=   all | maxDets= 10 ] = 0.546\n",
      " Average Recall     (AR) @[ IoU=0.50:0.95 | area=   all | maxDets=100 ] = 0.690\n",
      " Average Recall     (AR) @[ IoU=0.50:0.95 | area= small | maxDets=100 ] = 0.560\n",
      " Average Recall     (AR) @[ IoU=0.50:0.95 | area=medium | maxDets=100 ] = 0.678\n",
      " Average Recall     (AR) @[ IoU=0.50:0.95 | area= large | maxDets=100 ] = 0.489\n",
      " Average Recall     (AR) @[ IoU=0.50      | area=   all | maxDets=100 ] = 0.985\n",
      " Average Recall     (AR) @[ IoU=0.75      | area=   all | maxDets=100 ] = 0.858\n",
      "Epoch: [48]  [ 0/15]  eta: 0:00:32  lr: 0.000200  loss: 25.7548 (25.7548)  loss_mal: 1.1406 (1.1406)  loss_bbox: 0.2307 (0.2307)  loss_giou: 0.6870 (0.6870)  loss_fgl: 1.1167 (1.1167)  loss_mal_aux_0: 1.0732 (1.0732)  loss_bbox_aux_0: 0.2569 (0.2569)  loss_giou_aux_0: 0.7460 (0.7460)  loss_fgl_aux_0: 1.1276 (1.1276)  loss_ddf_aux_0: 0.1794 (0.1794)  loss_mal_aux_1: 1.2227 (1.2227)  loss_bbox_aux_1: 0.2338 (0.2338)  loss_giou_aux_1: 0.6952 (0.6952)  loss_fgl_aux_1: 1.1171 (1.1171)  loss_ddf_aux_1: 0.0105 (0.0105)  loss_mal_pre: 1.0703 (1.0703)  loss_bbox_pre: 0.2587 (0.2587)  loss_giou_pre: 0.7444 (0.7444)  loss_mal_enc_0: 1.1699 (1.1699)  loss_bbox_enc_0: 0.4042 (0.4042)  loss_giou_enc_0: 0.9833 (0.9833)  loss_mal_dn_0: 0.7681 (0.7681)  loss_bbox_dn_0: 0.2777 (0.2777)  loss_giou_dn_0: 0.9565 (0.9565)  loss_fgl_dn_0: 1.1078 (1.1078)  loss_ddf_dn_0: 0.3263 (0.3263)  loss_mal_dn_1: 0.7920 (0.7920)  loss_bbox_dn_1: 0.2316 (0.2316)  loss_giou_dn_1: 0.8020 (0.8020)  loss_fgl_dn_1: 1.1208 (1.1208)  loss_ddf_dn_1: 0.0337 (0.0337)  loss_mal_dn_2: 0.7788 (0.7788)  loss_bbox_dn_2: 0.2178 (0.2178)  loss_giou_dn_2: 0.7486 (0.7486)  loss_fgl_dn_2: 1.1338 (1.1338)  loss_mal_dn_pre: 0.7681 (0.7681)  loss_bbox_dn_pre: 0.2769 (0.2769)  loss_giou_dn_pre: 0.9459 (0.9459)  time: 2.1919  data: 1.3940  max mem: 10278\n"
     ]
    },
    {
     "name": "stderr",
     "output_type": "stream",
     "text": [
      "\u001b[32m2025-03-10 16:25:00.631\u001b[0m | \u001b[1mINFO    \u001b[0m | \u001b[36mdeimkit.trainer\u001b[0m:\u001b[36mevaluate\u001b[0m:\u001b[36m331\u001b[0m - \u001b[1mEvaluating model...\u001b[0m\n"
     ]
    },
    {
     "name": "stdout",
     "output_type": "stream",
     "text": [
      "Epoch: [48]  [14/15]  eta: 0:00:00  lr: 0.000200  loss: 26.0566 (26.1865)  loss_mal: 1.0371 (1.0381)  loss_bbox: 0.2929 (0.3153)  loss_giou: 0.7073 (0.7699)  loss_fgl: 1.1135 (1.1041)  loss_mal_aux_0: 0.9980 (1.0104)  loss_bbox_aux_0: 0.3194 (0.3297)  loss_giou_aux_0: 0.7472 (0.8111)  loss_fgl_aux_0: 1.1206 (1.1058)  loss_ddf_aux_0: 0.1408 (0.1361)  loss_mal_aux_1: 1.0244 (1.0534)  loss_bbox_aux_1: 0.2955 (0.3158)  loss_giou_aux_1: 0.7081 (0.7719)  loss_fgl_aux_1: 1.1122 (1.1035)  loss_ddf_aux_1: 0.0077 (0.0078)  loss_mal_pre: 0.9961 (1.0079)  loss_bbox_pre: 0.3203 (0.3291)  loss_giou_pre: 0.7478 (0.8097)  loss_mal_enc_0: 1.0117 (1.0232)  loss_bbox_enc_0: 0.3815 (0.3885)  loss_giou_enc_0: 0.9368 (0.9376)  loss_mal_dn_0: 0.7510 (0.7430)  loss_bbox_dn_0: 0.3841 (0.3928)  loss_giou_dn_0: 1.0051 (1.0236)  loss_fgl_dn_0: 1.0416 (1.0354)  loss_ddf_dn_0: 0.2843 (0.3080)  loss_mal_dn_1: 0.7812 (0.7806)  loss_bbox_dn_1: 0.3701 (0.3494)  loss_giou_dn_1: 0.8765 (0.8937)  loss_fgl_dn_1: 1.0632 (1.0561)  loss_ddf_dn_1: 0.0301 (0.0318)  loss_mal_dn_2: 0.7788 (0.7787)  loss_bbox_dn_2: 0.3579 (0.3399)  loss_giou_dn_2: 0.8301 (0.8591)  loss_fgl_dn_2: 1.0703 (1.0632)  loss_mal_dn_pre: 0.7451 (0.7402)  loss_bbox_dn_pre: 0.3827 (0.3943)  loss_giou_dn_pre: 1.0162 (1.0277)  time: 0.5540  data: 0.1089  max mem: 10278\n",
      "Epoch: [48] Total time: 0:00:08 (0.5583 s / it)\n",
      "Averaged stats: lr: 0.000200  loss: 26.0566 (26.1865)  loss_mal: 1.0371 (1.0381)  loss_bbox: 0.2929 (0.3153)  loss_giou: 0.7073 (0.7699)  loss_fgl: 1.1135 (1.1041)  loss_mal_aux_0: 0.9980 (1.0104)  loss_bbox_aux_0: 0.3194 (0.3297)  loss_giou_aux_0: 0.7472 (0.8111)  loss_fgl_aux_0: 1.1206 (1.1058)  loss_ddf_aux_0: 0.1408 (0.1361)  loss_mal_aux_1: 1.0244 (1.0534)  loss_bbox_aux_1: 0.2955 (0.3158)  loss_giou_aux_1: 0.7081 (0.7719)  loss_fgl_aux_1: 1.1122 (1.1035)  loss_ddf_aux_1: 0.0077 (0.0078)  loss_mal_pre: 0.9961 (1.0079)  loss_bbox_pre: 0.3203 (0.3291)  loss_giou_pre: 0.7478 (0.8097)  loss_mal_enc_0: 1.0117 (1.0232)  loss_bbox_enc_0: 0.3815 (0.3885)  loss_giou_enc_0: 0.9368 (0.9376)  loss_mal_dn_0: 0.7510 (0.7430)  loss_bbox_dn_0: 0.3841 (0.3928)  loss_giou_dn_0: 1.0051 (1.0236)  loss_fgl_dn_0: 1.0416 (1.0354)  loss_ddf_dn_0: 0.2843 (0.3080)  loss_mal_dn_1: 0.7812 (0.7806)  loss_bbox_dn_1: 0.3701 (0.3494)  loss_giou_dn_1: 0.8765 (0.8937)  loss_fgl_dn_1: 1.0632 (1.0561)  loss_ddf_dn_1: 0.0301 (0.0318)  loss_mal_dn_2: 0.7788 (0.7787)  loss_bbox_dn_2: 0.3579 (0.3399)  loss_giou_dn_2: 0.8301 (0.8591)  loss_fgl_dn_2: 1.0703 (1.0632)  loss_mal_dn_pre: 0.7451 (0.7402)  loss_bbox_dn_pre: 0.3827 (0.3943)  loss_giou_dn_pre: 1.0162 (1.0277)\n",
      "Test:  [0/5]  eta: 0:00:04    time: 0.8439  data: 0.7315  max mem: 10278\n"
     ]
    },
    {
     "name": "stderr",
     "output_type": "stream",
     "text": [
      "\u001b[32m2025-03-10 16:25:02.053\u001b[0m | \u001b[1mINFO    \u001b[0m | \u001b[36mdeimkit.trainer\u001b[0m:\u001b[36m_save_checkpoint\u001b[0m:\u001b[36m363\u001b[0m - \u001b[1mSaving checkpoint to outputs/deim_hgnetv2_s_coco_ema_tune/best.pth\u001b[0m\n"
     ]
    },
    {
     "name": "stdout",
     "output_type": "stream",
     "text": [
      "Test:  [4/5]  eta: 0:00:00    time: 0.2659  data: 0.1607  max mem: 10278\n",
      "Test: Total time: 0:00:01 (0.2781 s / it)\n",
      "Averaged stats: \n",
      "Accumulating evaluation results...\n",
      "COCOeval_opt.accumulate() finished...\n",
      "DONE (t=0.02s).\n",
      "IoU metric: bbox\n",
      " Average Precision  (AP) @[ IoU=0.50:0.95 | area=   all | maxDets=100 ] = 0.346\n",
      " Average Precision  (AP) @[ IoU=0.50      | area=   all | maxDets=100 ] = 0.558\n",
      " Average Precision  (AP) @[ IoU=0.75      | area=   all | maxDets=100 ] = 0.404\n",
      " Average Precision  (AP) @[ IoU=0.50:0.95 | area= small | maxDets=100 ] = 0.177\n",
      " Average Precision  (AP) @[ IoU=0.50:0.95 | area=medium | maxDets=100 ] = 0.502\n",
      " Average Precision  (AP) @[ IoU=0.50:0.95 | area= large | maxDets=100 ] = 0.239\n",
      " Average Recall     (AR) @[ IoU=0.50:0.95 | area=   all | maxDets=  1 ] = 0.334\n",
      " Average Recall     (AR) @[ IoU=0.50:0.95 | area=   all | maxDets= 10 ] = 0.595\n",
      " Average Recall     (AR) @[ IoU=0.50:0.95 | area=   all | maxDets=100 ] = 0.733\n",
      " Average Recall     (AR) @[ IoU=0.50:0.95 | area= small | maxDets=100 ] = 0.540\n",
      " Average Recall     (AR) @[ IoU=0.50:0.95 | area=medium | maxDets=100 ] = 0.750\n",
      " Average Recall     (AR) @[ IoU=0.50:0.95 | area= large | maxDets=100 ] = 0.522\n",
      " Average Recall     (AR) @[ IoU=0.50      | area=   all | maxDets=100 ] = 0.992\n",
      " Average Recall     (AR) @[ IoU=0.75      | area=   all | maxDets=100 ] = 0.883\n"
     ]
    },
    {
     "name": "stderr",
     "output_type": "stream",
     "text": [
      "\u001b[32m2025-03-10 16:25:02.571\u001b[0m | \u001b[1mINFO    \u001b[0m | \u001b[36mdeimkit.trainer\u001b[0m:\u001b[36m_save_checkpoint\u001b[0m:\u001b[36m380\u001b[0m - \u001b[1mCheckpoint saved to outputs/deim_hgnetv2_s_coco_ema_tune/best.pth\u001b[0m\n",
      "\u001b[32m2025-03-10 16:25:02.573\u001b[0m | \u001b[1mINFO    \u001b[0m | \u001b[36mdeimkit.trainer\u001b[0m:\u001b[36mtrain\u001b[0m:\u001b[36m312\u001b[0m - \u001b[1mEpoch 48 - Train loss: 26.1865, Eval mAP: 0.3459\u001b[0m\n",
      "\u001b[32m2025-03-10 16:25:02.573\u001b[0m | \u001b[1mINFO    \u001b[0m | \u001b[36mdeimkit.trainer\u001b[0m:\u001b[36mtrain\u001b[0m:\u001b[36m315\u001b[0m - \u001b[1mBest stats: {'epoch': 48, 'coco_eval_bbox': 0.3458629637211414}\u001b[0m\n"
     ]
    },
    {
     "name": "stdout",
     "output_type": "stream",
     "text": [
      "Epoch: [49]  [ 0/15]  eta: 0:00:33  lr: 0.000200  loss: 26.4312 (26.4312)  loss_mal: 0.9136 (0.9136)  loss_bbox: 0.3442 (0.3442)  loss_giou: 0.9277 (0.9277)  loss_fgl: 1.0578 (1.0578)  loss_mal_aux_0: 0.9028 (0.9028)  loss_bbox_aux_0: 0.3574 (0.3574)  loss_giou_aux_0: 0.9649 (0.9649)  loss_fgl_aux_0: 1.0529 (1.0529)  loss_ddf_aux_0: 0.1525 (0.1525)  loss_mal_aux_1: 0.9292 (0.9292)  loss_bbox_aux_1: 0.3443 (0.3443)  loss_giou_aux_1: 0.9285 (0.9285)  loss_fgl_aux_1: 1.0545 (1.0545)  loss_ddf_aux_1: 0.0079 (0.0079)  loss_mal_pre: 0.9023 (0.9023)  loss_bbox_pre: 0.3569 (0.3569)  loss_giou_pre: 0.9607 (0.9607)  loss_mal_enc_0: 0.9678 (0.9678)  loss_bbox_enc_0: 0.3957 (0.3957)  loss_giou_enc_0: 1.0261 (1.0261)  loss_mal_dn_0: 0.7324 (0.7324)  loss_bbox_dn_0: 0.3624 (0.3624)  loss_giou_dn_0: 1.1102 (1.1102)  loss_fgl_dn_0: 0.9814 (0.9814)  loss_ddf_dn_0: 0.2926 (0.2926)  loss_mal_dn_1: 0.7588 (0.7588)  loss_bbox_dn_1: 0.3296 (0.3296)  loss_giou_dn_1: 1.0102 (1.0102)  loss_fgl_dn_1: 0.9980 (0.9980)  loss_ddf_dn_1: 0.0381 (0.0381)  loss_mal_dn_2: 0.7568 (0.7568)  loss_bbox_dn_2: 0.3237 (0.3237)  loss_giou_dn_2: 0.9777 (0.9777)  loss_fgl_dn_2: 1.0053 (1.0053)  loss_mal_dn_pre: 0.7295 (0.7295)  loss_bbox_dn_pre: 0.3643 (0.3643)  loss_giou_dn_pre: 1.1124 (1.1124)  time: 2.2441  data: 1.6400  max mem: 10278\n"
     ]
    },
    {
     "name": "stderr",
     "output_type": "stream",
     "text": [
      "\u001b[32m2025-03-10 16:25:12.193\u001b[0m | \u001b[1mINFO    \u001b[0m | \u001b[36mdeimkit.trainer\u001b[0m:\u001b[36mevaluate\u001b[0m:\u001b[36m331\u001b[0m - \u001b[1mEvaluating model...\u001b[0m\n"
     ]
    },
    {
     "name": "stdout",
     "output_type": "stream",
     "text": [
      "Epoch: [49]  [14/15]  eta: 0:00:00  lr: 0.000200  loss: 26.2920 (26.1877)  loss_mal: 0.9858 (1.0013)  loss_bbox: 0.2936 (0.3218)  loss_giou: 0.7241 (0.7828)  loss_fgl: 1.1303 (1.1035)  loss_mal_aux_0: 0.9546 (0.9944)  loss_bbox_aux_0: 0.2982 (0.3335)  loss_giou_aux_0: 0.7678 (0.8220)  loss_fgl_aux_0: 1.1241 (1.1066)  loss_ddf_aux_0: 0.1613 (0.1636)  loss_mal_aux_1: 0.9785 (1.0051)  loss_bbox_aux_1: 0.2942 (0.3210)  loss_giou_aux_1: 0.7255 (0.7840)  loss_fgl_aux_1: 1.1280 (1.1023)  loss_ddf_aux_1: 0.0079 (0.0087)  loss_mal_pre: 0.9526 (0.9928)  loss_bbox_pre: 0.3008 (0.3337)  loss_giou_pre: 0.7721 (0.8194)  loss_mal_enc_0: 0.9678 (1.0190)  loss_bbox_enc_0: 0.3552 (0.3778)  loss_giou_enc_0: 0.9385 (0.9165)  loss_mal_dn_0: 0.7598 (0.7608)  loss_bbox_dn_0: 0.3730 (0.3823)  loss_giou_dn_0: 0.9629 (1.0114)  loss_fgl_dn_0: 1.0747 (1.0506)  loss_ddf_dn_0: 0.3533 (0.3657)  loss_mal_dn_1: 0.7871 (0.7855)  loss_bbox_dn_1: 0.3296 (0.3398)  loss_giou_dn_1: 0.8180 (0.8740)  loss_fgl_dn_1: 1.0915 (1.0720)  loss_ddf_dn_1: 0.0381 (0.0397)  loss_mal_dn_2: 0.7920 (0.7924)  loss_bbox_dn_2: 0.3237 (0.3307)  loss_giou_dn_2: 0.7769 (0.8383)  loss_fgl_dn_2: 1.0982 (1.0793)  loss_mal_dn_pre: 0.7554 (0.7584)  loss_bbox_dn_pre: 0.3721 (0.3836)  loss_giou_dn_pre: 0.9689 (1.0131)  time: 0.6337  data: 0.1319  max mem: 10498\n",
      "Epoch: [49] Total time: 0:00:09 (0.6396 s / it)\n",
      "Averaged stats: lr: 0.000200  loss: 26.2920 (26.1877)  loss_mal: 0.9858 (1.0013)  loss_bbox: 0.2936 (0.3218)  loss_giou: 0.7241 (0.7828)  loss_fgl: 1.1303 (1.1035)  loss_mal_aux_0: 0.9546 (0.9944)  loss_bbox_aux_0: 0.2982 (0.3335)  loss_giou_aux_0: 0.7678 (0.8220)  loss_fgl_aux_0: 1.1241 (1.1066)  loss_ddf_aux_0: 0.1613 (0.1636)  loss_mal_aux_1: 0.9785 (1.0051)  loss_bbox_aux_1: 0.2942 (0.3210)  loss_giou_aux_1: 0.7255 (0.7840)  loss_fgl_aux_1: 1.1280 (1.1023)  loss_ddf_aux_1: 0.0079 (0.0087)  loss_mal_pre: 0.9526 (0.9928)  loss_bbox_pre: 0.3008 (0.3337)  loss_giou_pre: 0.7721 (0.8194)  loss_mal_enc_0: 0.9678 (1.0190)  loss_bbox_enc_0: 0.3552 (0.3778)  loss_giou_enc_0: 0.9385 (0.9165)  loss_mal_dn_0: 0.7598 (0.7608)  loss_bbox_dn_0: 0.3730 (0.3823)  loss_giou_dn_0: 0.9629 (1.0114)  loss_fgl_dn_0: 1.0747 (1.0506)  loss_ddf_dn_0: 0.3533 (0.3657)  loss_mal_dn_1: 0.7871 (0.7855)  loss_bbox_dn_1: 0.3296 (0.3398)  loss_giou_dn_1: 0.8180 (0.8740)  loss_fgl_dn_1: 1.0915 (1.0720)  loss_ddf_dn_1: 0.0381 (0.0397)  loss_mal_dn_2: 0.7920 (0.7924)  loss_bbox_dn_2: 0.3237 (0.3307)  loss_giou_dn_2: 0.7769 (0.8383)  loss_fgl_dn_2: 1.0982 (1.0793)  loss_mal_dn_pre: 0.7554 (0.7584)  loss_bbox_dn_pre: 0.3721 (0.3836)  loss_giou_dn_pre: 0.9689 (1.0131)\n",
      "Test:  [0/5]  eta: 0:00:04    time: 0.9223  data: 0.7929  max mem: 10498\n"
     ]
    },
    {
     "name": "stderr",
     "output_type": "stream",
     "text": [
      "\u001b[32m2025-03-10 16:25:13.761\u001b[0m | \u001b[1mINFO    \u001b[0m | \u001b[36mdeimkit.trainer\u001b[0m:\u001b[36mtrain\u001b[0m:\u001b[36m312\u001b[0m - \u001b[1mEpoch 49 - Train loss: 26.1877, Eval mAP: 0.3389\u001b[0m\n",
      "\u001b[32m2025-03-10 16:25:13.761\u001b[0m | \u001b[1mINFO    \u001b[0m | \u001b[36mdeimkit.trainer\u001b[0m:\u001b[36mtrain\u001b[0m:\u001b[36m315\u001b[0m - \u001b[1mBest stats: {'epoch': 48, 'coco_eval_bbox': 0.3458629637211414}\u001b[0m\n"
     ]
    },
    {
     "name": "stdout",
     "output_type": "stream",
     "text": [
      "Test:  [4/5]  eta: 0:00:00    time: 0.2942  data: 0.1749  max mem: 10498\n",
      "Test: Total time: 0:00:01 (0.3062 s / it)\n",
      "Averaged stats: \n",
      "Accumulating evaluation results...\n",
      "COCOeval_opt.accumulate() finished...\n",
      "DONE (t=0.02s).\n",
      "IoU metric: bbox\n",
      " Average Precision  (AP) @[ IoU=0.50:0.95 | area=   all | maxDets=100 ] = 0.339\n",
      " Average Precision  (AP) @[ IoU=0.50      | area=   all | maxDets=100 ] = 0.554\n",
      " Average Precision  (AP) @[ IoU=0.75      | area=   all | maxDets=100 ] = 0.399\n",
      " Average Precision  (AP) @[ IoU=0.50:0.95 | area= small | maxDets=100 ] = 0.275\n",
      " Average Precision  (AP) @[ IoU=0.50:0.95 | area=medium | maxDets=100 ] = 0.309\n",
      " Average Precision  (AP) @[ IoU=0.50:0.95 | area= large | maxDets=100 ] = 0.244\n",
      " Average Recall     (AR) @[ IoU=0.50:0.95 | area=   all | maxDets=  1 ] = 0.321\n",
      " Average Recall     (AR) @[ IoU=0.50:0.95 | area=   all | maxDets= 10 ] = 0.597\n",
      " Average Recall     (AR) @[ IoU=0.50:0.95 | area=   all | maxDets=100 ] = 0.721\n",
      " Average Recall     (AR) @[ IoU=0.50:0.95 | area= small | maxDets=100 ] = 0.540\n",
      " Average Recall     (AR) @[ IoU=0.50:0.95 | area=medium | maxDets=100 ] = 0.630\n",
      " Average Recall     (AR) @[ IoU=0.50:0.95 | area= large | maxDets=100 ] = 0.517\n",
      " Average Recall     (AR) @[ IoU=0.50      | area=   all | maxDets=100 ] = 0.988\n",
      " Average Recall     (AR) @[ IoU=0.75      | area=   all | maxDets=100 ] = 0.868\n",
      "Epoch: [50]  [ 0/15]  eta: 0:00:37  lr: 0.000200  loss: 26.4713 (26.4713)  loss_mal: 0.9399 (0.9399)  loss_bbox: 0.4170 (0.4170)  loss_giou: 0.8797 (0.8797)  loss_fgl: 1.0427 (1.0427)  loss_mal_aux_0: 0.8862 (0.8862)  loss_bbox_aux_0: 0.4186 (0.4186)  loss_giou_aux_0: 0.9060 (0.9060)  loss_fgl_aux_0: 1.0410 (1.0410)  loss_ddf_aux_0: 0.1325 (0.1325)  loss_mal_aux_1: 0.9131 (0.9131)  loss_bbox_aux_1: 0.4190 (0.4190)  loss_giou_aux_1: 0.8824 (0.8824)  loss_fgl_aux_1: 1.0432 (1.0432)  loss_ddf_aux_1: 0.0069 (0.0069)  loss_mal_pre: 0.8862 (0.8862)  loss_bbox_pre: 0.4209 (0.4209)  loss_giou_pre: 0.9093 (0.9093)  loss_mal_enc_0: 0.9077 (0.9077)  loss_bbox_enc_0: 0.4355 (0.4355)  loss_giou_enc_0: 0.9680 (0.9680)  loss_mal_dn_0: 0.7349 (0.7349)  loss_bbox_dn_0: 0.4430 (0.4430)  loss_giou_dn_0: 1.0484 (1.0484)  loss_fgl_dn_0: 1.0104 (1.0104)  loss_ddf_dn_0: 0.3274 (0.3274)  loss_mal_dn_1: 0.7695 (0.7695)  loss_bbox_dn_1: 0.3932 (0.3932)  loss_giou_dn_1: 0.9162 (0.9162)  loss_fgl_dn_1: 1.0341 (1.0341)  loss_ddf_dn_1: 0.0316 (0.0316)  loss_mal_dn_2: 0.7622 (0.7622)  loss_bbox_dn_2: 0.3841 (0.3841)  loss_giou_dn_2: 0.8891 (0.8891)  loss_fgl_dn_2: 1.0383 (1.0383)  loss_mal_dn_pre: 0.7329 (0.7329)  loss_bbox_dn_pre: 0.4441 (0.4441)  loss_giou_dn_pre: 1.0559 (1.0559)  time: 2.4873  data: 1.7823  max mem: 10498\n"
     ]
    },
    {
     "name": "stderr",
     "output_type": "stream",
     "text": [
      "\u001b[32m2025-03-10 16:25:23.385\u001b[0m | \u001b[1mINFO    \u001b[0m | \u001b[36mdeimkit.trainer\u001b[0m:\u001b[36mevaluate\u001b[0m:\u001b[36m331\u001b[0m - \u001b[1mEvaluating model...\u001b[0m\n"
     ]
    },
    {
     "name": "stdout",
     "output_type": "stream",
     "text": [
      "Epoch: [50]  [14/15]  eta: 0:00:00  lr: 0.000200  loss: 26.2730 (25.9500)  loss_mal: 0.9399 (0.9897)  loss_bbox: 0.3524 (0.3240)  loss_giou: 0.8632 (0.7763)  loss_fgl: 1.0996 (1.1032)  loss_mal_aux_0: 0.8882 (0.9660)  loss_bbox_aux_0: 0.3431 (0.3369)  loss_giou_aux_0: 0.8835 (0.8135)  loss_fgl_aux_0: 1.0953 (1.1063)  loss_ddf_aux_0: 0.1518 (0.1765)  loss_mal_aux_1: 0.9131 (0.9702)  loss_bbox_aux_1: 0.3510 (0.3243)  loss_giou_aux_1: 0.8618 (0.7772)  loss_fgl_aux_1: 1.0974 (1.1012)  loss_ddf_aux_1: 0.0074 (0.0078)  loss_mal_pre: 0.8867 (0.9635)  loss_bbox_pre: 0.3437 (0.3376)  loss_giou_pre: 0.8845 (0.8129)  loss_mal_enc_0: 0.9077 (0.9748)  loss_bbox_enc_0: 0.3756 (0.3755)  loss_giou_enc_0: 0.9307 (0.8924)  loss_mal_dn_0: 0.7378 (0.7475)  loss_bbox_dn_0: 0.3788 (0.3789)  loss_giou_dn_0: 1.0484 (1.0093)  loss_fgl_dn_0: 1.0148 (1.0466)  loss_ddf_dn_0: 0.4059 (0.4087)  loss_mal_dn_1: 0.7769 (0.7726)  loss_bbox_dn_1: 0.3355 (0.3342)  loss_giou_dn_1: 0.9162 (0.8757)  loss_fgl_dn_1: 1.0346 (1.0612)  loss_ddf_dn_1: 0.0387 (0.0401)  loss_mal_dn_2: 0.7705 (0.7718)  loss_bbox_dn_2: 0.3265 (0.3247)  loss_giou_dn_2: 0.8891 (0.8423)  loss_fgl_dn_2: 1.0453 (1.0679)  loss_mal_dn_pre: 0.7388 (0.7460)  loss_bbox_dn_pre: 0.3831 (0.3811)  loss_giou_dn_pre: 1.0559 (1.0116)  time: 0.6350  data: 0.1361  max mem: 10498\n",
      "Epoch: [50] Total time: 0:00:09 (0.6400 s / it)\n",
      "Averaged stats: lr: 0.000200  loss: 26.2730 (25.9500)  loss_mal: 0.9399 (0.9897)  loss_bbox: 0.3524 (0.3240)  loss_giou: 0.8632 (0.7763)  loss_fgl: 1.0996 (1.1032)  loss_mal_aux_0: 0.8882 (0.9660)  loss_bbox_aux_0: 0.3431 (0.3369)  loss_giou_aux_0: 0.8835 (0.8135)  loss_fgl_aux_0: 1.0953 (1.1063)  loss_ddf_aux_0: 0.1518 (0.1765)  loss_mal_aux_1: 0.9131 (0.9702)  loss_bbox_aux_1: 0.3510 (0.3243)  loss_giou_aux_1: 0.8618 (0.7772)  loss_fgl_aux_1: 1.0974 (1.1012)  loss_ddf_aux_1: 0.0074 (0.0078)  loss_mal_pre: 0.8867 (0.9635)  loss_bbox_pre: 0.3437 (0.3376)  loss_giou_pre: 0.8845 (0.8129)  loss_mal_enc_0: 0.9077 (0.9748)  loss_bbox_enc_0: 0.3756 (0.3755)  loss_giou_enc_0: 0.9307 (0.8924)  loss_mal_dn_0: 0.7378 (0.7475)  loss_bbox_dn_0: 0.3788 (0.3789)  loss_giou_dn_0: 1.0484 (1.0093)  loss_fgl_dn_0: 1.0148 (1.0466)  loss_ddf_dn_0: 0.4059 (0.4087)  loss_mal_dn_1: 0.7769 (0.7726)  loss_bbox_dn_1: 0.3355 (0.3342)  loss_giou_dn_1: 0.9162 (0.8757)  loss_fgl_dn_1: 1.0346 (1.0612)  loss_ddf_dn_1: 0.0387 (0.0401)  loss_mal_dn_2: 0.7705 (0.7718)  loss_bbox_dn_2: 0.3265 (0.3247)  loss_giou_dn_2: 0.8891 (0.8423)  loss_fgl_dn_2: 1.0453 (1.0679)  loss_mal_dn_pre: 0.7388 (0.7460)  loss_bbox_dn_pre: 0.3831 (0.3811)  loss_giou_dn_pre: 1.0559 (1.0116)\n",
      "Test:  [0/5]  eta: 0:00:04    time: 0.8031  data: 0.6885  max mem: 10498\n"
     ]
    },
    {
     "name": "stderr",
     "output_type": "stream",
     "text": [
      "\u001b[32m2025-03-10 16:25:24.757\u001b[0m | \u001b[1mINFO    \u001b[0m | \u001b[36mdeimkit.trainer\u001b[0m:\u001b[36m_save_checkpoint\u001b[0m:\u001b[36m363\u001b[0m - \u001b[1mSaving checkpoint to outputs/deim_hgnetv2_s_coco_ema_tune/best.pth\u001b[0m\n"
     ]
    },
    {
     "name": "stdout",
     "output_type": "stream",
     "text": [
      "Test:  [4/5]  eta: 0:00:00    time: 0.2553  data: 0.1539  max mem: 10498\n",
      "Test: Total time: 0:00:01 (0.2681 s / it)\n",
      "Averaged stats: \n",
      "Accumulating evaluation results...\n",
      "COCOeval_opt.accumulate() finished...\n",
      "DONE (t=0.02s).\n",
      "IoU metric: bbox\n",
      " Average Precision  (AP) @[ IoU=0.50:0.95 | area=   all | maxDets=100 ] = 0.400\n",
      " Average Precision  (AP) @[ IoU=0.50      | area=   all | maxDets=100 ] = 0.625\n",
      " Average Precision  (AP) @[ IoU=0.75      | area=   all | maxDets=100 ] = 0.475\n",
      " Average Precision  (AP) @[ IoU=0.50:0.95 | area= small | maxDets=100 ] = 0.220\n",
      " Average Precision  (AP) @[ IoU=0.50:0.95 | area=medium | maxDets=100 ] = 0.511\n",
      " Average Precision  (AP) @[ IoU=0.50:0.95 | area= large | maxDets=100 ] = 0.288\n",
      " Average Recall     (AR) @[ IoU=0.50:0.95 | area=   all | maxDets=  1 ] = 0.352\n",
      " Average Recall     (AR) @[ IoU=0.50:0.95 | area=   all | maxDets= 10 ] = 0.605\n",
      " Average Recall     (AR) @[ IoU=0.50:0.95 | area=   all | maxDets=100 ] = 0.730\n",
      " Average Recall     (AR) @[ IoU=0.50:0.95 | area= small | maxDets=100 ] = 0.580\n",
      " Average Recall     (AR) @[ IoU=0.50:0.95 | area=medium | maxDets=100 ] = 0.744\n",
      " Average Recall     (AR) @[ IoU=0.50:0.95 | area= large | maxDets=100 ] = 0.521\n",
      " Average Recall     (AR) @[ IoU=0.50      | area=   all | maxDets=100 ] = 0.983\n",
      " Average Recall     (AR) @[ IoU=0.75      | area=   all | maxDets=100 ] = 0.885\n"
     ]
    },
    {
     "name": "stderr",
     "output_type": "stream",
     "text": [
      "\u001b[32m2025-03-10 16:25:25.150\u001b[0m | \u001b[1mINFO    \u001b[0m | \u001b[36mdeimkit.trainer\u001b[0m:\u001b[36m_save_checkpoint\u001b[0m:\u001b[36m380\u001b[0m - \u001b[1mCheckpoint saved to outputs/deim_hgnetv2_s_coco_ema_tune/best.pth\u001b[0m\n",
      "\u001b[32m2025-03-10 16:25:25.152\u001b[0m | \u001b[1mINFO    \u001b[0m | \u001b[36mdeimkit.trainer\u001b[0m:\u001b[36mtrain\u001b[0m:\u001b[36m312\u001b[0m - \u001b[1mEpoch 50 - Train loss: 25.9500, Eval mAP: 0.3997\u001b[0m\n",
      "\u001b[32m2025-03-10 16:25:25.152\u001b[0m | \u001b[1mINFO    \u001b[0m | \u001b[36mdeimkit.trainer\u001b[0m:\u001b[36mtrain\u001b[0m:\u001b[36m315\u001b[0m - \u001b[1mBest stats: {'epoch': 50, 'coco_eval_bbox': 0.3996917233070133}\u001b[0m\n"
     ]
    },
    {
     "name": "stdout",
     "output_type": "stream",
     "text": [
      "Epoch: [51]  [ 0/15]  eta: 0:00:31  lr: 0.000200  loss: 25.8680 (25.8680)  loss_mal: 0.8599 (0.8599)  loss_bbox: 0.3647 (0.3647)  loss_giou: 0.8840 (0.8840)  loss_fgl: 1.0551 (1.0551)  loss_mal_aux_0: 0.8452 (0.8452)  loss_bbox_aux_0: 0.3791 (0.3791)  loss_giou_aux_0: 0.9215 (0.9215)  loss_fgl_aux_0: 1.0584 (1.0584)  loss_ddf_aux_0: 0.1484 (0.1484)  loss_mal_aux_1: 0.9053 (0.9053)  loss_bbox_aux_1: 0.3642 (0.3642)  loss_giou_aux_1: 0.8837 (0.8837)  loss_fgl_aux_1: 1.0542 (1.0542)  loss_ddf_aux_1: 0.0049 (0.0049)  loss_mal_pre: 0.8413 (0.8413)  loss_bbox_pre: 0.3739 (0.3739)  loss_giou_pre: 0.9128 (0.9128)  loss_mal_enc_0: 0.8486 (0.8486)  loss_bbox_enc_0: 0.3726 (0.3726)  loss_giou_enc_0: 0.9428 (0.9428)  loss_mal_dn_0: 0.7354 (0.7354)  loss_bbox_dn_0: 0.3651 (0.3651)  loss_giou_dn_0: 1.0354 (1.0354)  loss_fgl_dn_0: 1.0275 (1.0275)  loss_ddf_dn_0: 0.3636 (0.3636)  loss_mal_dn_1: 0.7944 (0.7944)  loss_bbox_dn_1: 0.3376 (0.3376)  loss_giou_dn_1: 0.9279 (0.9279)  loss_fgl_dn_1: 1.0469 (1.0469)  loss_ddf_dn_1: 0.0355 (0.0355)  loss_mal_dn_2: 0.7666 (0.7666)  loss_bbox_dn_2: 0.3310 (0.3310)  loss_giou_dn_2: 0.8938 (0.8938)  loss_fgl_dn_2: 1.0543 (1.0543)  loss_mal_dn_pre: 0.7334 (0.7334)  loss_bbox_dn_pre: 0.3633 (0.3633)  loss_giou_dn_pre: 1.0357 (1.0357)  time: 2.1101  data: 1.5066  max mem: 10498\n"
     ]
    },
    {
     "name": "stderr",
     "output_type": "stream",
     "text": [
      "\u001b[32m2025-03-10 16:25:34.166\u001b[0m | \u001b[1mINFO    \u001b[0m | \u001b[36mdeimkit.trainer\u001b[0m:\u001b[36m_save_checkpoint\u001b[0m:\u001b[36m363\u001b[0m - \u001b[1mSaving checkpoint to outputs/deim_hgnetv2_s_coco_ema_tune/checkpoint0051.pth\u001b[0m\n"
     ]
    },
    {
     "name": "stdout",
     "output_type": "stream",
     "text": [
      "Epoch: [51]  [14/15]  eta: 0:00:00  lr: 0.000200  loss: 25.5542 (25.2762)  loss_mal: 0.9668 (0.9589)  loss_bbox: 0.2623 (0.2909)  loss_giou: 0.6886 (0.7330)  loss_fgl: 1.1244 (1.1113)  loss_mal_aux_0: 0.9648 (0.9538)  loss_bbox_aux_0: 0.2762 (0.3004)  loss_giou_aux_0: 0.7313 (0.7663)  loss_fgl_aux_0: 1.1190 (1.1162)  loss_ddf_aux_0: 0.1340 (0.1371)  loss_mal_aux_1: 0.9556 (0.9747)  loss_bbox_aux_1: 0.2636 (0.2907)  loss_giou_aux_1: 0.6906 (0.7339)  loss_fgl_aux_1: 1.1227 (1.1106)  loss_ddf_aux_1: 0.0051 (0.0053)  loss_mal_pre: 0.9619 (0.9508)  loss_bbox_pre: 0.2765 (0.3002)  loss_giou_pre: 0.7345 (0.7652)  loss_mal_enc_0: 0.9688 (0.9662)  loss_bbox_enc_0: 0.3381 (0.3331)  loss_giou_enc_0: 0.8719 (0.8441)  loss_mal_dn_0: 0.7588 (0.7546)  loss_bbox_dn_0: 0.3465 (0.3509)  loss_giou_dn_0: 0.9558 (0.9715)  loss_fgl_dn_0: 1.0906 (1.0677)  loss_ddf_dn_0: 0.3983 (0.4148)  loss_mal_dn_1: 0.7915 (0.7906)  loss_bbox_dn_1: 0.3014 (0.3043)  loss_giou_dn_1: 0.7839 (0.8226)  loss_fgl_dn_1: 1.0937 (1.0815)  loss_ddf_dn_1: 0.0383 (0.0385)  loss_mal_dn_2: 0.7856 (0.7883)  loss_bbox_dn_2: 0.2983 (0.2949)  loss_giou_dn_2: 0.7512 (0.7887)  loss_fgl_dn_2: 1.0953 (1.0864)  loss_mal_dn_pre: 0.7578 (0.7530)  loss_bbox_dn_pre: 0.3494 (0.3524)  loss_giou_dn_pre: 0.9599 (0.9728)  time: 0.5945  data: 0.1213  max mem: 10498\n",
      "Epoch: [51] Total time: 0:00:08 (0.5995 s / it)\n",
      "Averaged stats: lr: 0.000200  loss: 25.5542 (25.2762)  loss_mal: 0.9668 (0.9589)  loss_bbox: 0.2623 (0.2909)  loss_giou: 0.6886 (0.7330)  loss_fgl: 1.1244 (1.1113)  loss_mal_aux_0: 0.9648 (0.9538)  loss_bbox_aux_0: 0.2762 (0.3004)  loss_giou_aux_0: 0.7313 (0.7663)  loss_fgl_aux_0: 1.1190 (1.1162)  loss_ddf_aux_0: 0.1340 (0.1371)  loss_mal_aux_1: 0.9556 (0.9747)  loss_bbox_aux_1: 0.2636 (0.2907)  loss_giou_aux_1: 0.6906 (0.7339)  loss_fgl_aux_1: 1.1227 (1.1106)  loss_ddf_aux_1: 0.0051 (0.0053)  loss_mal_pre: 0.9619 (0.9508)  loss_bbox_pre: 0.2765 (0.3002)  loss_giou_pre: 0.7345 (0.7652)  loss_mal_enc_0: 0.9688 (0.9662)  loss_bbox_enc_0: 0.3381 (0.3331)  loss_giou_enc_0: 0.8719 (0.8441)  loss_mal_dn_0: 0.7588 (0.7546)  loss_bbox_dn_0: 0.3465 (0.3509)  loss_giou_dn_0: 0.9558 (0.9715)  loss_fgl_dn_0: 1.0906 (1.0677)  loss_ddf_dn_0: 0.3983 (0.4148)  loss_mal_dn_1: 0.7915 (0.7906)  loss_bbox_dn_1: 0.3014 (0.3043)  loss_giou_dn_1: 0.7839 (0.8226)  loss_fgl_dn_1: 1.0937 (1.0815)  loss_ddf_dn_1: 0.0383 (0.0385)  loss_mal_dn_2: 0.7856 (0.7883)  loss_bbox_dn_2: 0.2983 (0.2949)  loss_giou_dn_2: 0.7512 (0.7887)  loss_fgl_dn_2: 1.0953 (1.0864)  loss_mal_dn_pre: 0.7578 (0.7530)  loss_bbox_dn_pre: 0.3494 (0.3524)  loss_giou_dn_pre: 0.9599 (0.9728)\n"
     ]
    },
    {
     "name": "stderr",
     "output_type": "stream",
     "text": [
      "\u001b[32m2025-03-10 16:25:34.467\u001b[0m | \u001b[1mINFO    \u001b[0m | \u001b[36mdeimkit.trainer\u001b[0m:\u001b[36m_save_checkpoint\u001b[0m:\u001b[36m380\u001b[0m - \u001b[1mCheckpoint saved to outputs/deim_hgnetv2_s_coco_ema_tune/checkpoint0051.pth\u001b[0m\n",
      "\u001b[32m2025-03-10 16:25:34.469\u001b[0m | \u001b[1mINFO    \u001b[0m | \u001b[36mdeimkit.trainer\u001b[0m:\u001b[36mevaluate\u001b[0m:\u001b[36m331\u001b[0m - \u001b[1mEvaluating model...\u001b[0m\n"
     ]
    },
    {
     "name": "stdout",
     "output_type": "stream",
     "text": [
      "Test:  [0/5]  eta: 0:00:04    time: 0.8307  data: 0.7162  max mem: 10498\n"
     ]
    },
    {
     "name": "stderr",
     "output_type": "stream",
     "text": [
      "\u001b[32m2025-03-10 16:25:35.867\u001b[0m | \u001b[1mINFO    \u001b[0m | \u001b[36mdeimkit.trainer\u001b[0m:\u001b[36m_save_checkpoint\u001b[0m:\u001b[36m363\u001b[0m - \u001b[1mSaving checkpoint to outputs/deim_hgnetv2_s_coco_ema_tune/best.pth\u001b[0m\n"
     ]
    },
    {
     "name": "stdout",
     "output_type": "stream",
     "text": [
      "Test:  [4/5]  eta: 0:00:00    time: 0.2618  data: 0.1564  max mem: 10498\n",
      "Test: Total time: 0:00:01 (0.2738 s / it)\n",
      "Averaged stats: \n",
      "Accumulating evaluation results...\n",
      "COCOeval_opt.accumulate() finished...\n",
      "DONE (t=0.02s).\n",
      "IoU metric: bbox\n",
      " Average Precision  (AP) @[ IoU=0.50:0.95 | area=   all | maxDets=100 ] = 0.407\n",
      " Average Precision  (AP) @[ IoU=0.50      | area=   all | maxDets=100 ] = 0.631\n",
      " Average Precision  (AP) @[ IoU=0.75      | area=   all | maxDets=100 ] = 0.474\n",
      " Average Precision  (AP) @[ IoU=0.50:0.95 | area= small | maxDets=100 ] = 0.139\n",
      " Average Precision  (AP) @[ IoU=0.50:0.95 | area=medium | maxDets=100 ] = 0.527\n",
      " Average Precision  (AP) @[ IoU=0.50:0.95 | area= large | maxDets=100 ] = 0.305\n",
      " Average Recall     (AR) @[ IoU=0.50:0.95 | area=   all | maxDets=  1 ] = 0.321\n",
      " Average Recall     (AR) @[ IoU=0.50:0.95 | area=   all | maxDets= 10 ] = 0.609\n",
      " Average Recall     (AR) @[ IoU=0.50:0.95 | area=   all | maxDets=100 ] = 0.734\n",
      " Average Recall     (AR) @[ IoU=0.50:0.95 | area= small | maxDets=100 ] = 0.700\n",
      " Average Recall     (AR) @[ IoU=0.50:0.95 | area=medium | maxDets=100 ] = 0.732\n",
      " Average Recall     (AR) @[ IoU=0.50:0.95 | area= large | maxDets=100 ] = 0.515\n",
      " Average Recall     (AR) @[ IoU=0.50      | area=   all | maxDets=100 ] = 0.992\n",
      " Average Recall     (AR) @[ IoU=0.75      | area=   all | maxDets=100 ] = 0.894\n"
     ]
    },
    {
     "name": "stderr",
     "output_type": "stream",
     "text": [
      "\u001b[32m2025-03-10 16:25:36.417\u001b[0m | \u001b[1mINFO    \u001b[0m | \u001b[36mdeimkit.trainer\u001b[0m:\u001b[36m_save_checkpoint\u001b[0m:\u001b[36m380\u001b[0m - \u001b[1mCheckpoint saved to outputs/deim_hgnetv2_s_coco_ema_tune/best.pth\u001b[0m\n",
      "\u001b[32m2025-03-10 16:25:36.419\u001b[0m | \u001b[1mINFO    \u001b[0m | \u001b[36mdeimkit.trainer\u001b[0m:\u001b[36mtrain\u001b[0m:\u001b[36m312\u001b[0m - \u001b[1mEpoch 51 - Train loss: 25.2762, Eval mAP: 0.4073\u001b[0m\n",
      "\u001b[32m2025-03-10 16:25:36.420\u001b[0m | \u001b[1mINFO    \u001b[0m | \u001b[36mdeimkit.trainer\u001b[0m:\u001b[36mtrain\u001b[0m:\u001b[36m315\u001b[0m - \u001b[1mBest stats: {'epoch': 51, 'coco_eval_bbox': 0.40733411917082535}\u001b[0m\n"
     ]
    },
    {
     "name": "stdout",
     "output_type": "stream",
     "text": [
      "Epoch: [52]  [ 0/15]  eta: 0:00:28  lr: 0.000200  loss: 25.5249 (25.5249)  loss_mal: 1.0703 (1.0703)  loss_bbox: 0.2573 (0.2573)  loss_giou: 0.6811 (0.6811)  loss_fgl: 1.1723 (1.1723)  loss_mal_aux_0: 1.0439 (1.0439)  loss_bbox_aux_0: 0.2721 (0.2721)  loss_giou_aux_0: 0.7224 (0.7224)  loss_fgl_aux_0: 1.1857 (1.1857)  loss_ddf_aux_0: 0.1440 (0.1440)  loss_mal_aux_1: 1.0166 (1.0166)  loss_bbox_aux_1: 0.2584 (0.2584)  loss_giou_aux_1: 0.6833 (0.6833)  loss_fgl_aux_1: 1.1717 (1.1717)  loss_ddf_aux_1: 0.0059 (0.0059)  loss_mal_pre: 1.0371 (1.0371)  loss_bbox_pre: 0.2709 (0.2709)  loss_giou_pre: 0.7177 (0.7177)  loss_mal_enc_0: 1.1396 (1.1396)  loss_bbox_enc_0: 0.3180 (0.3180)  loss_giou_enc_0: 0.8006 (0.8006)  loss_mal_dn_0: 0.7563 (0.7563)  loss_bbox_dn_0: 0.3412 (0.3412)  loss_giou_dn_0: 0.9391 (0.9391)  loss_fgl_dn_0: 1.1131 (1.1131)  loss_ddf_dn_0: 0.4503 (0.4503)  loss_mal_dn_1: 0.7964 (0.7964)  loss_bbox_dn_1: 0.2757 (0.2757)  loss_giou_dn_1: 0.7604 (0.7604)  loss_fgl_dn_1: 1.1214 (1.1214)  loss_ddf_dn_1: 0.0432 (0.0432)  loss_mal_dn_2: 0.8120 (0.8120)  loss_bbox_dn_2: 0.2584 (0.2584)  loss_giou_dn_2: 0.7236 (0.7236)  loss_fgl_dn_2: 1.1271 (1.1271)  loss_mal_dn_pre: 0.7544 (0.7544)  loss_bbox_dn_pre: 0.3425 (0.3425)  loss_giou_dn_pre: 0.9408 (0.9408)  time: 1.9033  data: 1.4006  max mem: 10498\n"
     ]
    },
    {
     "name": "stderr",
     "output_type": "stream",
     "text": [
      "\u001b[32m2025-03-10 16:25:45.246\u001b[0m | \u001b[1mINFO    \u001b[0m | \u001b[36mdeimkit.trainer\u001b[0m:\u001b[36mevaluate\u001b[0m:\u001b[36m331\u001b[0m - \u001b[1mEvaluating model...\u001b[0m\n"
     ]
    },
    {
     "name": "stdout",
     "output_type": "stream",
     "text": [
      "Epoch: [52]  [14/15]  eta: 0:00:00  lr: 0.000200  loss: 25.4203 (25.4380)  loss_mal: 0.9678 (0.9785)  loss_bbox: 0.2573 (0.2875)  loss_giou: 0.6354 (0.7091)  loss_fgl: 1.1341 (1.1269)  loss_mal_aux_0: 0.9429 (0.9612)  loss_bbox_aux_0: 0.2850 (0.3040)  loss_giou_aux_0: 0.7224 (0.7624)  loss_fgl_aux_0: 1.1674 (1.1387)  loss_ddf_aux_0: 0.1746 (0.1936)  loss_mal_aux_1: 0.9824 (0.9746)  loss_bbox_aux_1: 0.2584 (0.2879)  loss_giou_aux_1: 0.6472 (0.7116)  loss_fgl_aux_1: 1.1349 (1.1261)  loss_ddf_aux_1: 0.0083 (0.0090)  loss_mal_pre: 0.9409 (0.9584)  loss_bbox_pre: 0.2831 (0.3034)  loss_giou_pre: 0.7177 (0.7589)  loss_mal_enc_0: 0.9409 (0.9744)  loss_bbox_enc_0: 0.3534 (0.3522)  loss_giou_enc_0: 0.8946 (0.8671)  loss_mal_dn_0: 0.7700 (0.7667)  loss_bbox_dn_0: 0.3448 (0.3431)  loss_giou_dn_0: 0.9001 (0.9378)  loss_fgl_dn_0: 1.1019 (1.0926)  loss_ddf_dn_0: 0.4801 (0.4967)  loss_mal_dn_1: 0.7944 (0.7941)  loss_bbox_dn_1: 0.2757 (0.2964)  loss_giou_dn_1: 0.7316 (0.7889)  loss_fgl_dn_1: 1.1123 (1.1009)  loss_ddf_dn_1: 0.0451 (0.0470)  loss_mal_dn_2: 0.7910 (0.7912)  loss_bbox_dn_2: 0.2647 (0.2855)  loss_giou_dn_2: 0.6968 (0.7547)  loss_fgl_dn_2: 1.1187 (1.1060)  loss_mal_dn_pre: 0.7642 (0.7646)  loss_bbox_dn_pre: 0.3456 (0.3458)  loss_giou_dn_pre: 0.9136 (0.9405)  time: 0.5823  data: 0.1125  max mem: 10498\n",
      "Epoch: [52] Total time: 0:00:08 (0.5872 s / it)\n",
      "Averaged stats: lr: 0.000200  loss: 25.4203 (25.4380)  loss_mal: 0.9678 (0.9785)  loss_bbox: 0.2573 (0.2875)  loss_giou: 0.6354 (0.7091)  loss_fgl: 1.1341 (1.1269)  loss_mal_aux_0: 0.9429 (0.9612)  loss_bbox_aux_0: 0.2850 (0.3040)  loss_giou_aux_0: 0.7224 (0.7624)  loss_fgl_aux_0: 1.1674 (1.1387)  loss_ddf_aux_0: 0.1746 (0.1936)  loss_mal_aux_1: 0.9824 (0.9746)  loss_bbox_aux_1: 0.2584 (0.2879)  loss_giou_aux_1: 0.6472 (0.7116)  loss_fgl_aux_1: 1.1349 (1.1261)  loss_ddf_aux_1: 0.0083 (0.0090)  loss_mal_pre: 0.9409 (0.9584)  loss_bbox_pre: 0.2831 (0.3034)  loss_giou_pre: 0.7177 (0.7589)  loss_mal_enc_0: 0.9409 (0.9744)  loss_bbox_enc_0: 0.3534 (0.3522)  loss_giou_enc_0: 0.8946 (0.8671)  loss_mal_dn_0: 0.7700 (0.7667)  loss_bbox_dn_0: 0.3448 (0.3431)  loss_giou_dn_0: 0.9001 (0.9378)  loss_fgl_dn_0: 1.1019 (1.0926)  loss_ddf_dn_0: 0.4801 (0.4967)  loss_mal_dn_1: 0.7944 (0.7941)  loss_bbox_dn_1: 0.2757 (0.2964)  loss_giou_dn_1: 0.7316 (0.7889)  loss_fgl_dn_1: 1.1123 (1.1009)  loss_ddf_dn_1: 0.0451 (0.0470)  loss_mal_dn_2: 0.7910 (0.7912)  loss_bbox_dn_2: 0.2647 (0.2855)  loss_giou_dn_2: 0.6968 (0.7547)  loss_fgl_dn_2: 1.1187 (1.1060)  loss_mal_dn_pre: 0.7642 (0.7646)  loss_bbox_dn_pre: 0.3456 (0.3458)  loss_giou_dn_pre: 0.9136 (0.9405)\n",
      "Test:  [0/5]  eta: 0:00:03    time: 0.7799  data: 0.6584  max mem: 10498\n"
     ]
    },
    {
     "name": "stderr",
     "output_type": "stream",
     "text": [
      "\u001b[32m2025-03-10 16:25:46.684\u001b[0m | \u001b[1mINFO    \u001b[0m | \u001b[36mdeimkit.trainer\u001b[0m:\u001b[36m_save_checkpoint\u001b[0m:\u001b[36m363\u001b[0m - \u001b[1mSaving checkpoint to outputs/deim_hgnetv2_s_coco_ema_tune/best.pth\u001b[0m\n"
     ]
    },
    {
     "name": "stdout",
     "output_type": "stream",
     "text": [
      "Test:  [4/5]  eta: 0:00:00    time: 0.2678  data: 0.1556  max mem: 10498\n",
      "Test: Total time: 0:00:01 (0.2811 s / it)\n",
      "Averaged stats: \n",
      "Accumulating evaluation results...\n",
      "COCOeval_opt.accumulate() finished...\n",
      "DONE (t=0.02s).\n",
      "IoU metric: bbox\n",
      " Average Precision  (AP) @[ IoU=0.50:0.95 | area=   all | maxDets=100 ] = 0.446\n",
      " Average Precision  (AP) @[ IoU=0.50      | area=   all | maxDets=100 ] = 0.698\n",
      " Average Precision  (AP) @[ IoU=0.75      | area=   all | maxDets=100 ] = 0.532\n",
      " Average Precision  (AP) @[ IoU=0.50:0.95 | area= small | maxDets=100 ] = 0.246\n",
      " Average Precision  (AP) @[ IoU=0.50:0.95 | area=medium | maxDets=100 ] = 0.476\n",
      " Average Precision  (AP) @[ IoU=0.50:0.95 | area= large | maxDets=100 ] = 0.324\n",
      " Average Recall     (AR) @[ IoU=0.50:0.95 | area=   all | maxDets=  1 ] = 0.358\n",
      " Average Recall     (AR) @[ IoU=0.50:0.95 | area=   all | maxDets= 10 ] = 0.620\n",
      " Average Recall     (AR) @[ IoU=0.50:0.95 | area=   all | maxDets=100 ] = 0.737\n",
      " Average Recall     (AR) @[ IoU=0.50:0.95 | area= small | maxDets=100 ] = 0.560\n",
      " Average Recall     (AR) @[ IoU=0.50:0.95 | area=medium | maxDets=100 ] = 0.748\n",
      " Average Recall     (AR) @[ IoU=0.50:0.95 | area= large | maxDets=100 ] = 0.522\n",
      " Average Recall     (AR) @[ IoU=0.50      | area=   all | maxDets=100 ] = 0.990\n",
      " Average Recall     (AR) @[ IoU=0.75      | area=   all | maxDets=100 ] = 0.888\n"
     ]
    },
    {
     "name": "stderr",
     "output_type": "stream",
     "text": [
      "\u001b[32m2025-03-10 16:25:47.251\u001b[0m | \u001b[1mINFO    \u001b[0m | \u001b[36mdeimkit.trainer\u001b[0m:\u001b[36m_save_checkpoint\u001b[0m:\u001b[36m380\u001b[0m - \u001b[1mCheckpoint saved to outputs/deim_hgnetv2_s_coco_ema_tune/best.pth\u001b[0m\n",
      "\u001b[32m2025-03-10 16:25:47.253\u001b[0m | \u001b[1mINFO    \u001b[0m | \u001b[36mdeimkit.trainer\u001b[0m:\u001b[36mtrain\u001b[0m:\u001b[36m312\u001b[0m - \u001b[1mEpoch 52 - Train loss: 25.4380, Eval mAP: 0.4459\u001b[0m\n",
      "\u001b[32m2025-03-10 16:25:47.253\u001b[0m | \u001b[1mINFO    \u001b[0m | \u001b[36mdeimkit.trainer\u001b[0m:\u001b[36mtrain\u001b[0m:\u001b[36m315\u001b[0m - \u001b[1mBest stats: {'epoch': 52, 'coco_eval_bbox': 0.4458510839610111}\u001b[0m\n"
     ]
    },
    {
     "name": "stdout",
     "output_type": "stream",
     "text": [
      "Epoch: [53]  [ 0/15]  eta: 0:00:31  lr: 0.000200  loss: 24.4019 (24.4019)  loss_mal: 1.0039 (1.0039)  loss_bbox: 0.2190 (0.2190)  loss_giou: 0.6220 (0.6220)  loss_fgl: 1.1386 (1.1386)  loss_mal_aux_0: 0.9761 (0.9761)  loss_bbox_aux_0: 0.2248 (0.2248)  loss_giou_aux_0: 0.6654 (0.6654)  loss_fgl_aux_0: 1.1495 (1.1495)  loss_ddf_aux_0: 0.2320 (0.2320)  loss_mal_aux_1: 1.0537 (1.0537)  loss_bbox_aux_1: 0.2192 (0.2192)  loss_giou_aux_1: 0.6226 (0.6226)  loss_fgl_aux_1: 1.1385 (1.1385)  loss_ddf_aux_1: 0.0084 (0.0084)  loss_mal_pre: 0.9717 (0.9717)  loss_bbox_pre: 0.2246 (0.2246)  loss_giou_pre: 0.6626 (0.6626)  loss_mal_enc_0: 0.9697 (0.9697)  loss_bbox_enc_0: 0.2608 (0.2608)  loss_giou_enc_0: 0.7516 (0.7516)  loss_mal_dn_0: 0.7617 (0.7617)  loss_bbox_dn_0: 0.2806 (0.2806)  loss_giou_dn_0: 0.8714 (0.8714)  loss_fgl_dn_0: 1.1078 (1.1078)  loss_ddf_dn_0: 0.6730 (0.6730)  loss_mal_dn_1: 0.7881 (0.7881)  loss_bbox_dn_1: 0.2288 (0.2288)  loss_giou_dn_1: 0.7029 (0.7029)  loss_fgl_dn_1: 1.1105 (1.1105)  loss_ddf_dn_1: 0.0533 (0.0533)  loss_mal_dn_2: 0.7861 (0.7861)  loss_bbox_dn_2: 0.2175 (0.2175)  loss_giou_dn_2: 0.6743 (0.6743)  loss_fgl_dn_2: 1.1099 (1.1099)  loss_mal_dn_pre: 0.7593 (0.7593)  loss_bbox_dn_pre: 0.2853 (0.2853)  loss_giou_dn_pre: 0.8768 (0.8768)  time: 2.1134  data: 1.5503  max mem: 10498\n"
     ]
    },
    {
     "name": "stderr",
     "output_type": "stream",
     "text": [
      "\u001b[32m2025-03-10 16:25:56.940\u001b[0m | \u001b[1mINFO    \u001b[0m | \u001b[36mdeimkit.trainer\u001b[0m:\u001b[36mevaluate\u001b[0m:\u001b[36m331\u001b[0m - \u001b[1mEvaluating model...\u001b[0m\n"
     ]
    },
    {
     "name": "stdout",
     "output_type": "stream",
     "text": [
      "Epoch: [53]  [14/15]  eta: 0:00:00  lr: 0.000200  loss: 25.9354 (25.9725)  loss_mal: 0.9380 (0.9880)  loss_bbox: 0.3520 (0.3357)  loss_giou: 0.8294 (0.7871)  loss_fgl: 1.0924 (1.0999)  loss_mal_aux_0: 0.9419 (0.9839)  loss_bbox_aux_0: 0.3595 (0.3447)  loss_giou_aux_0: 0.8642 (0.8170)  loss_fgl_aux_0: 1.0895 (1.0995)  loss_ddf_aux_0: 0.1635 (0.1640)  loss_mal_aux_1: 0.9453 (0.9767)  loss_bbox_aux_1: 0.3514 (0.3360)  loss_giou_aux_1: 0.8293 (0.7871)  loss_fgl_aux_1: 1.0903 (1.0993)  loss_ddf_aux_1: 0.0059 (0.0066)  loss_mal_pre: 0.9370 (0.9795)  loss_bbox_pre: 0.3598 (0.3455)  loss_giou_pre: 0.8657 (0.8169)  loss_mal_enc_0: 0.9302 (0.9458)  loss_bbox_enc_0: 0.3980 (0.3967)  loss_giou_enc_0: 0.9284 (0.9285)  loss_mal_dn_0: 0.7500 (0.7583)  loss_bbox_dn_0: 0.3668 (0.3613)  loss_giou_dn_0: 0.9917 (0.9603)  loss_fgl_dn_0: 1.0543 (1.0700)  loss_ddf_dn_0: 0.4577 (0.4646)  loss_mal_dn_1: 0.7827 (0.7833)  loss_bbox_dn_1: 0.3310 (0.3178)  loss_giou_dn_1: 0.8542 (0.8286)  loss_fgl_dn_1: 1.0685 (1.0795)  loss_ddf_dn_1: 0.0416 (0.0404)  loss_mal_dn_2: 0.7861 (0.7882)  loss_bbox_dn_2: 0.3245 (0.3107)  loss_giou_dn_2: 0.8304 (0.8004)  loss_fgl_dn_2: 1.0768 (1.0856)  loss_mal_dn_pre: 0.7485 (0.7561)  loss_bbox_dn_pre: 0.3685 (0.3646)  loss_giou_dn_pre: 0.9991 (0.9646)  time: 0.6396  data: 0.1265  max mem: 10532\n",
      "Epoch: [53] Total time: 0:00:09 (0.6443 s / it)\n",
      "Averaged stats: lr: 0.000200  loss: 25.9354 (25.9725)  loss_mal: 0.9380 (0.9880)  loss_bbox: 0.3520 (0.3357)  loss_giou: 0.8294 (0.7871)  loss_fgl: 1.0924 (1.0999)  loss_mal_aux_0: 0.9419 (0.9839)  loss_bbox_aux_0: 0.3595 (0.3447)  loss_giou_aux_0: 0.8642 (0.8170)  loss_fgl_aux_0: 1.0895 (1.0995)  loss_ddf_aux_0: 0.1635 (0.1640)  loss_mal_aux_1: 0.9453 (0.9767)  loss_bbox_aux_1: 0.3514 (0.3360)  loss_giou_aux_1: 0.8293 (0.7871)  loss_fgl_aux_1: 1.0903 (1.0993)  loss_ddf_aux_1: 0.0059 (0.0066)  loss_mal_pre: 0.9370 (0.9795)  loss_bbox_pre: 0.3598 (0.3455)  loss_giou_pre: 0.8657 (0.8169)  loss_mal_enc_0: 0.9302 (0.9458)  loss_bbox_enc_0: 0.3980 (0.3967)  loss_giou_enc_0: 0.9284 (0.9285)  loss_mal_dn_0: 0.7500 (0.7583)  loss_bbox_dn_0: 0.3668 (0.3613)  loss_giou_dn_0: 0.9917 (0.9603)  loss_fgl_dn_0: 1.0543 (1.0700)  loss_ddf_dn_0: 0.4577 (0.4646)  loss_mal_dn_1: 0.7827 (0.7833)  loss_bbox_dn_1: 0.3310 (0.3178)  loss_giou_dn_1: 0.8542 (0.8286)  loss_fgl_dn_1: 1.0685 (1.0795)  loss_ddf_dn_1: 0.0416 (0.0404)  loss_mal_dn_2: 0.7861 (0.7882)  loss_bbox_dn_2: 0.3245 (0.3107)  loss_giou_dn_2: 0.8304 (0.8004)  loss_fgl_dn_2: 1.0768 (1.0856)  loss_mal_dn_pre: 0.7485 (0.7561)  loss_bbox_dn_pre: 0.3685 (0.3646)  loss_giou_dn_pre: 0.9991 (0.9646)\n",
      "Test:  [0/5]  eta: 0:00:03    time: 0.7766  data: 0.6610  max mem: 10532\n"
     ]
    },
    {
     "name": "stderr",
     "output_type": "stream",
     "text": [
      "\u001b[32m2025-03-10 16:25:58.276\u001b[0m | \u001b[1mINFO    \u001b[0m | \u001b[36mdeimkit.trainer\u001b[0m:\u001b[36mtrain\u001b[0m:\u001b[36m312\u001b[0m - \u001b[1mEpoch 53 - Train loss: 25.9725, Eval mAP: 0.4242\u001b[0m\n",
      "\u001b[32m2025-03-10 16:25:58.276\u001b[0m | \u001b[1mINFO    \u001b[0m | \u001b[36mdeimkit.trainer\u001b[0m:\u001b[36mtrain\u001b[0m:\u001b[36m315\u001b[0m - \u001b[1mBest stats: {'epoch': 52, 'coco_eval_bbox': 0.4458510839610111}\u001b[0m\n"
     ]
    },
    {
     "name": "stdout",
     "output_type": "stream",
     "text": [
      "Test:  [4/5]  eta: 0:00:00    time: 0.2487  data: 0.1465  max mem: 10532\n",
      "Test: Total time: 0:00:01 (0.2608 s / it)\n",
      "Averaged stats: \n",
      "Accumulating evaluation results...\n",
      "COCOeval_opt.accumulate() finished...\n",
      "DONE (t=0.02s).\n",
      "IoU metric: bbox\n",
      " Average Precision  (AP) @[ IoU=0.50:0.95 | area=   all | maxDets=100 ] = 0.424\n",
      " Average Precision  (AP) @[ IoU=0.50      | area=   all | maxDets=100 ] = 0.671\n",
      " Average Precision  (AP) @[ IoU=0.75      | area=   all | maxDets=100 ] = 0.471\n",
      " Average Precision  (AP) @[ IoU=0.50:0.95 | area= small | maxDets=100 ] = 0.243\n",
      " Average Precision  (AP) @[ IoU=0.50:0.95 | area=medium | maxDets=100 ] = 0.494\n",
      " Average Precision  (AP) @[ IoU=0.50:0.95 | area= large | maxDets=100 ] = 0.306\n",
      " Average Recall     (AR) @[ IoU=0.50:0.95 | area=   all | maxDets=  1 ] = 0.357\n",
      " Average Recall     (AR) @[ IoU=0.50:0.95 | area=   all | maxDets= 10 ] = 0.618\n",
      " Average Recall     (AR) @[ IoU=0.50:0.95 | area=   all | maxDets=100 ] = 0.736\n",
      " Average Recall     (AR) @[ IoU=0.50:0.95 | area= small | maxDets=100 ] = 0.740\n",
      " Average Recall     (AR) @[ IoU=0.50:0.95 | area=medium | maxDets=100 ] = 0.751\n",
      " Average Recall     (AR) @[ IoU=0.50:0.95 | area= large | maxDets=100 ] = 0.523\n",
      " Average Recall     (AR) @[ IoU=0.50      | area=   all | maxDets=100 ] = 0.987\n",
      " Average Recall     (AR) @[ IoU=0.75      | area=   all | maxDets=100 ] = 0.871\n",
      "Epoch: [54]  [ 0/15]  eta: 0:00:38  lr: 0.000200  loss: 26.1156 (26.1156)  loss_mal: 0.8657 (0.8657)  loss_bbox: 0.3912 (0.3912)  loss_giou: 0.8826 (0.8826)  loss_fgl: 1.0790 (1.0790)  loss_mal_aux_0: 0.8589 (0.8589)  loss_bbox_aux_0: 0.3975 (0.3975)  loss_giou_aux_0: 0.8994 (0.8994)  loss_fgl_aux_0: 1.0832 (1.0832)  loss_ddf_aux_0: 0.0817 (0.0817)  loss_mal_aux_1: 0.8647 (0.8647)  loss_bbox_aux_1: 0.3888 (0.3888)  loss_giou_aux_1: 0.8748 (0.8748)  loss_fgl_aux_1: 1.0777 (1.0777)  loss_ddf_aux_1: 0.0048 (0.0048)  loss_mal_pre: 0.8643 (0.8643)  loss_bbox_pre: 0.3951 (0.3951)  loss_giou_pre: 0.8905 (0.8905)  loss_mal_enc_0: 0.8813 (0.8813)  loss_bbox_enc_0: 0.4243 (0.4243)  loss_giou_enc_0: 0.9550 (0.9550)  loss_mal_dn_0: 0.7339 (0.7339)  loss_bbox_dn_0: 0.3906 (0.3906)  loss_giou_dn_0: 1.0553 (1.0553)  loss_fgl_dn_0: 1.0178 (1.0178)  loss_ddf_dn_0: 0.3851 (0.3851)  loss_mal_dn_1: 0.7549 (0.7549)  loss_bbox_dn_1: 0.3557 (0.3557)  loss_giou_dn_1: 0.9484 (0.9484)  loss_fgl_dn_1: 1.0340 (1.0340)  loss_ddf_dn_1: 0.0336 (0.0336)  loss_mal_dn_2: 0.7568 (0.7568)  loss_bbox_dn_2: 0.3497 (0.3497)  loss_giou_dn_2: 0.9214 (0.9214)  loss_fgl_dn_2: 1.0426 (1.0426)  loss_mal_dn_pre: 0.7324 (0.7324)  loss_bbox_dn_pre: 0.3897 (0.3897)  loss_giou_dn_pre: 1.0533 (1.0533)  time: 2.5631  data: 1.8725  max mem: 10532\n"
     ]
    },
    {
     "name": "stderr",
     "output_type": "stream",
     "text": [
      "\u001b[32m2025-03-10 16:26:08.115\u001b[0m | \u001b[1mINFO    \u001b[0m | \u001b[36mdeimkit.trainer\u001b[0m:\u001b[36mevaluate\u001b[0m:\u001b[36m331\u001b[0m - \u001b[1mEvaluating model...\u001b[0m\n"
     ]
    },
    {
     "name": "stdout",
     "output_type": "stream",
     "text": [
      "Epoch: [54]  [14/15]  eta: 0:00:00  lr: 0.000200  loss: 25.6082 (25.4500)  loss_mal: 0.9277 (0.9431)  loss_bbox: 0.3420 (0.3156)  loss_giou: 0.7993 (0.7526)  loss_fgl: 1.0938 (1.1081)  loss_mal_aux_0: 0.9375 (0.9361)  loss_bbox_aux_0: 0.3475 (0.3257)  loss_giou_aux_0: 0.8288 (0.7843)  loss_fgl_aux_0: 1.0975 (1.1139)  loss_ddf_aux_0: 0.1290 (0.1288)  loss_mal_aux_1: 0.9443 (0.9457)  loss_bbox_aux_1: 0.3426 (0.3160)  loss_giou_aux_1: 0.7998 (0.7539)  loss_fgl_aux_1: 1.0930 (1.1074)  loss_ddf_aux_1: 0.0060 (0.0061)  loss_mal_pre: 0.9375 (0.9344)  loss_bbox_pre: 0.3468 (0.3256)  loss_giou_pre: 0.8242 (0.7834)  loss_mal_enc_0: 0.9634 (0.9619)  loss_bbox_enc_0: 0.3719 (0.3604)  loss_giou_enc_0: 0.9063 (0.8669)  loss_mal_dn_0: 0.7563 (0.7576)  loss_bbox_dn_0: 0.3416 (0.3519)  loss_giou_dn_0: 0.9881 (0.9502)  loss_fgl_dn_0: 1.0578 (1.0788)  loss_ddf_dn_0: 0.4757 (0.4676)  loss_mal_dn_1: 0.7842 (0.7836)  loss_bbox_dn_1: 0.3201 (0.3128)  loss_giou_dn_1: 0.8755 (0.8185)  loss_fgl_dn_1: 1.0685 (1.0840)  loss_ddf_dn_1: 0.0376 (0.0396)  loss_mal_dn_2: 0.7886 (0.7878)  loss_bbox_dn_2: 0.3159 (0.3056)  loss_giou_dn_2: 0.8492 (0.7910)  loss_fgl_dn_2: 1.0742 (1.0889)  loss_mal_dn_pre: 0.7539 (0.7556)  loss_bbox_dn_pre: 0.3421 (0.3537)  loss_giou_dn_pre: 0.9838 (0.9531)  time: 0.6501  data: 0.1443  max mem: 10532\n",
      "Epoch: [54] Total time: 0:00:09 (0.6546 s / it)\n",
      "Averaged stats: lr: 0.000200  loss: 25.6082 (25.4500)  loss_mal: 0.9277 (0.9431)  loss_bbox: 0.3420 (0.3156)  loss_giou: 0.7993 (0.7526)  loss_fgl: 1.0938 (1.1081)  loss_mal_aux_0: 0.9375 (0.9361)  loss_bbox_aux_0: 0.3475 (0.3257)  loss_giou_aux_0: 0.8288 (0.7843)  loss_fgl_aux_0: 1.0975 (1.1139)  loss_ddf_aux_0: 0.1290 (0.1288)  loss_mal_aux_1: 0.9443 (0.9457)  loss_bbox_aux_1: 0.3426 (0.3160)  loss_giou_aux_1: 0.7998 (0.7539)  loss_fgl_aux_1: 1.0930 (1.1074)  loss_ddf_aux_1: 0.0060 (0.0061)  loss_mal_pre: 0.9375 (0.9344)  loss_bbox_pre: 0.3468 (0.3256)  loss_giou_pre: 0.8242 (0.7834)  loss_mal_enc_0: 0.9634 (0.9619)  loss_bbox_enc_0: 0.3719 (0.3604)  loss_giou_enc_0: 0.9063 (0.8669)  loss_mal_dn_0: 0.7563 (0.7576)  loss_bbox_dn_0: 0.3416 (0.3519)  loss_giou_dn_0: 0.9881 (0.9502)  loss_fgl_dn_0: 1.0578 (1.0788)  loss_ddf_dn_0: 0.4757 (0.4676)  loss_mal_dn_1: 0.7842 (0.7836)  loss_bbox_dn_1: 0.3201 (0.3128)  loss_giou_dn_1: 0.8755 (0.8185)  loss_fgl_dn_1: 1.0685 (1.0840)  loss_ddf_dn_1: 0.0376 (0.0396)  loss_mal_dn_2: 0.7886 (0.7878)  loss_bbox_dn_2: 0.3159 (0.3056)  loss_giou_dn_2: 0.8492 (0.7910)  loss_fgl_dn_2: 1.0742 (1.0889)  loss_mal_dn_pre: 0.7539 (0.7556)  loss_bbox_dn_pre: 0.3421 (0.3537)  loss_giou_dn_pre: 0.9838 (0.9531)\n",
      "Test:  [0/5]  eta: 0:00:04    time: 0.8233  data: 0.7085  max mem: 10532\n"
     ]
    },
    {
     "name": "stderr",
     "output_type": "stream",
     "text": [
      "\u001b[32m2025-03-10 16:26:09.494\u001b[0m | \u001b[1mINFO    \u001b[0m | \u001b[36mdeimkit.trainer\u001b[0m:\u001b[36mtrain\u001b[0m:\u001b[36m312\u001b[0m - \u001b[1mEpoch 54 - Train loss: 25.4500, Eval mAP: 0.4178\u001b[0m\n",
      "\u001b[32m2025-03-10 16:26:09.495\u001b[0m | \u001b[1mINFO    \u001b[0m | \u001b[36mdeimkit.trainer\u001b[0m:\u001b[36mtrain\u001b[0m:\u001b[36m315\u001b[0m - \u001b[1mBest stats: {'epoch': 52, 'coco_eval_bbox': 0.4458510839610111}\u001b[0m\n"
     ]
    },
    {
     "name": "stdout",
     "output_type": "stream",
     "text": [
      "Test:  [4/5]  eta: 0:00:00    time: 0.2575  data: 0.1546  max mem: 10532\n",
      "Test: Total time: 0:00:01 (0.2700 s / it)\n",
      "Averaged stats: \n",
      "Accumulating evaluation results...\n",
      "COCOeval_opt.accumulate() finished...\n",
      "DONE (t=0.02s).\n",
      "IoU metric: bbox\n",
      " Average Precision  (AP) @[ IoU=0.50:0.95 | area=   all | maxDets=100 ] = 0.418\n",
      " Average Precision  (AP) @[ IoU=0.50      | area=   all | maxDets=100 ] = 0.639\n",
      " Average Precision  (AP) @[ IoU=0.75      | area=   all | maxDets=100 ] = 0.475\n",
      " Average Precision  (AP) @[ IoU=0.50:0.95 | area= small | maxDets=100 ] = 0.228\n",
      " Average Precision  (AP) @[ IoU=0.50:0.95 | area=medium | maxDets=100 ] = 0.461\n",
      " Average Precision  (AP) @[ IoU=0.50:0.95 | area= large | maxDets=100 ] = 0.314\n",
      " Average Recall     (AR) @[ IoU=0.50:0.95 | area=   all | maxDets=  1 ] = 0.352\n",
      " Average Recall     (AR) @[ IoU=0.50:0.95 | area=   all | maxDets= 10 ] = 0.609\n",
      " Average Recall     (AR) @[ IoU=0.50:0.95 | area=   all | maxDets=100 ] = 0.737\n",
      " Average Recall     (AR) @[ IoU=0.50:0.95 | area= small | maxDets=100 ] = 0.740\n",
      " Average Recall     (AR) @[ IoU=0.50:0.95 | area=medium | maxDets=100 ] = 0.757\n",
      " Average Recall     (AR) @[ IoU=0.50:0.95 | area= large | maxDets=100 ] = 0.523\n",
      " Average Recall     (AR) @[ IoU=0.50      | area=   all | maxDets=100 ] = 0.988\n",
      " Average Recall     (AR) @[ IoU=0.75      | area=   all | maxDets=100 ] = 0.892\n",
      "Epoch: [55]  [ 0/15]  eta: 0:00:27  lr: 0.000200  loss: 23.9516 (23.9516)  loss_mal: 1.0400 (1.0400)  loss_bbox: 0.2023 (0.2023)  loss_giou: 0.6052 (0.6052)  loss_fgl: 1.1359 (1.1359)  loss_mal_aux_0: 0.9663 (0.9663)  loss_bbox_aux_0: 0.2151 (0.2151)  loss_giou_aux_0: 0.6377 (0.6377)  loss_fgl_aux_0: 1.1537 (1.1537)  loss_ddf_aux_0: 0.1354 (0.1354)  loss_mal_aux_1: 0.9912 (0.9912)  loss_bbox_aux_1: 0.2025 (0.2025)  loss_giou_aux_1: 0.6059 (0.6059)  loss_fgl_aux_1: 1.1369 (1.1369)  loss_ddf_aux_1: 0.0067 (0.0067)  loss_mal_pre: 0.9604 (0.9604)  loss_bbox_pre: 0.2147 (0.2147)  loss_giou_pre: 0.6367 (0.6367)  loss_mal_enc_0: 1.0117 (1.0117)  loss_bbox_enc_0: 0.2555 (0.2555)  loss_giou_enc_0: 0.7314 (0.7314)  loss_mal_dn_0: 0.7925 (0.7925)  loss_bbox_dn_0: 0.2666 (0.2666)  loss_giou_dn_0: 0.8321 (0.8321)  loss_fgl_dn_0: 1.1316 (1.1316)  loss_ddf_dn_0: 0.5298 (0.5298)  loss_mal_dn_1: 0.8101 (0.8101)  loss_bbox_dn_1: 0.2197 (0.2197)  loss_giou_dn_1: 0.6766 (0.6766)  loss_fgl_dn_1: 1.1215 (1.1215)  loss_ddf_dn_1: 0.0372 (0.0372)  loss_mal_dn_2: 0.8032 (0.8032)  loss_bbox_dn_2: 0.2085 (0.2085)  loss_giou_dn_2: 0.6464 (0.6464)  loss_fgl_dn_2: 1.1243 (1.1243)  loss_mal_dn_pre: 0.7866 (0.7866)  loss_bbox_dn_pre: 0.2736 (0.2736)  loss_giou_dn_pre: 0.8461 (0.8461)  time: 1.8565  data: 1.3188  max mem: 10532\n"
     ]
    },
    {
     "name": "stderr",
     "output_type": "stream",
     "text": [
      "\u001b[32m2025-03-10 16:26:18.556\u001b[0m | \u001b[1mINFO    \u001b[0m | \u001b[36mdeimkit.trainer\u001b[0m:\u001b[36m_save_checkpoint\u001b[0m:\u001b[36m363\u001b[0m - \u001b[1mSaving checkpoint to outputs/deim_hgnetv2_s_coco_ema_tune/checkpoint0055.pth\u001b[0m\n"
     ]
    },
    {
     "name": "stdout",
     "output_type": "stream",
     "text": [
      "Epoch: [55]  [14/15]  eta: 0:00:00  lr: 0.000200  loss: 25.1565 (25.1442)  loss_mal: 0.9341 (0.9560)  loss_bbox: 0.2486 (0.2816)  loss_giou: 0.6223 (0.6915)  loss_fgl: 1.1185 (1.1244)  loss_mal_aux_0: 0.9380 (0.9567)  loss_bbox_aux_0: 0.2672 (0.2952)  loss_giou_aux_0: 0.6753 (0.7325)  loss_fgl_aux_0: 1.1328 (1.1338)  loss_ddf_aux_0: 0.1751 (0.1863)  loss_mal_aux_1: 0.9434 (0.9651)  loss_bbox_aux_1: 0.2481 (0.2817)  loss_giou_aux_1: 0.6233 (0.6927)  loss_fgl_aux_1: 1.1199 (1.1231)  loss_ddf_aux_1: 0.0077 (0.0080)  loss_mal_pre: 0.9292 (0.9511)  loss_bbox_pre: 0.2684 (0.2953)  loss_giou_pre: 0.6810 (0.7328)  loss_mal_enc_0: 0.9697 (0.9833)  loss_bbox_enc_0: 0.3232 (0.3397)  loss_giou_enc_0: 0.7683 (0.8295)  loss_mal_dn_0: 0.7734 (0.7751)  loss_bbox_dn_0: 0.3223 (0.3235)  loss_giou_dn_0: 0.8624 (0.8959)  loss_fgl_dn_0: 1.1154 (1.1108)  loss_ddf_dn_0: 0.5907 (0.6066)  loss_mal_dn_1: 0.8008 (0.8014)  loss_bbox_dn_1: 0.2684 (0.2742)  loss_giou_dn_1: 0.6929 (0.7431)  loss_fgl_dn_1: 1.1178 (1.1127)  loss_ddf_dn_1: 0.0441 (0.0467)  loss_mal_dn_2: 0.7969 (0.7967)  loss_bbox_dn_2: 0.2580 (0.2648)  loss_giou_dn_2: 0.6685 (0.7175)  loss_fgl_dn_2: 1.1183 (1.1167)  loss_mal_dn_pre: 0.7720 (0.7725)  loss_bbox_dn_pre: 0.3263 (0.3269)  loss_giou_dn_pre: 0.8621 (0.8991)  time: 0.5979  data: 0.1226  max mem: 10532\n",
      "Epoch: [55] Total time: 0:00:09 (0.6030 s / it)\n",
      "Averaged stats: lr: 0.000200  loss: 25.1565 (25.1442)  loss_mal: 0.9341 (0.9560)  loss_bbox: 0.2486 (0.2816)  loss_giou: 0.6223 (0.6915)  loss_fgl: 1.1185 (1.1244)  loss_mal_aux_0: 0.9380 (0.9567)  loss_bbox_aux_0: 0.2672 (0.2952)  loss_giou_aux_0: 0.6753 (0.7325)  loss_fgl_aux_0: 1.1328 (1.1338)  loss_ddf_aux_0: 0.1751 (0.1863)  loss_mal_aux_1: 0.9434 (0.9651)  loss_bbox_aux_1: 0.2481 (0.2817)  loss_giou_aux_1: 0.6233 (0.6927)  loss_fgl_aux_1: 1.1199 (1.1231)  loss_ddf_aux_1: 0.0077 (0.0080)  loss_mal_pre: 0.9292 (0.9511)  loss_bbox_pre: 0.2684 (0.2953)  loss_giou_pre: 0.6810 (0.7328)  loss_mal_enc_0: 0.9697 (0.9833)  loss_bbox_enc_0: 0.3232 (0.3397)  loss_giou_enc_0: 0.7683 (0.8295)  loss_mal_dn_0: 0.7734 (0.7751)  loss_bbox_dn_0: 0.3223 (0.3235)  loss_giou_dn_0: 0.8624 (0.8959)  loss_fgl_dn_0: 1.1154 (1.1108)  loss_ddf_dn_0: 0.5907 (0.6066)  loss_mal_dn_1: 0.8008 (0.8014)  loss_bbox_dn_1: 0.2684 (0.2742)  loss_giou_dn_1: 0.6929 (0.7431)  loss_fgl_dn_1: 1.1178 (1.1127)  loss_ddf_dn_1: 0.0441 (0.0467)  loss_mal_dn_2: 0.7969 (0.7967)  loss_bbox_dn_2: 0.2580 (0.2648)  loss_giou_dn_2: 0.6685 (0.7175)  loss_fgl_dn_2: 1.1183 (1.1167)  loss_mal_dn_pre: 0.7720 (0.7725)  loss_bbox_dn_pre: 0.3263 (0.3269)  loss_giou_dn_pre: 0.8621 (0.8991)\n"
     ]
    },
    {
     "name": "stderr",
     "output_type": "stream",
     "text": [
      "\u001b[32m2025-03-10 16:26:18.844\u001b[0m | \u001b[1mINFO    \u001b[0m | \u001b[36mdeimkit.trainer\u001b[0m:\u001b[36m_save_checkpoint\u001b[0m:\u001b[36m380\u001b[0m - \u001b[1mCheckpoint saved to outputs/deim_hgnetv2_s_coco_ema_tune/checkpoint0055.pth\u001b[0m\n",
      "\u001b[32m2025-03-10 16:26:18.845\u001b[0m | \u001b[1mINFO    \u001b[0m | \u001b[36mdeimkit.trainer\u001b[0m:\u001b[36mevaluate\u001b[0m:\u001b[36m331\u001b[0m - \u001b[1mEvaluating model...\u001b[0m\n"
     ]
    },
    {
     "name": "stdout",
     "output_type": "stream",
     "text": [
      "Test:  [0/5]  eta: 0:00:03    time: 0.7860  data: 0.6684  max mem: 10532\n"
     ]
    },
    {
     "name": "stderr",
     "output_type": "stream",
     "text": [
      "\u001b[32m2025-03-10 16:26:20.212\u001b[0m | \u001b[1mINFO    \u001b[0m | \u001b[36mdeimkit.trainer\u001b[0m:\u001b[36m_save_checkpoint\u001b[0m:\u001b[36m363\u001b[0m - \u001b[1mSaving checkpoint to outputs/deim_hgnetv2_s_coco_ema_tune/best.pth\u001b[0m\n"
     ]
    },
    {
     "name": "stdout",
     "output_type": "stream",
     "text": [
      "Test:  [4/5]  eta: 0:00:00    time: 0.2553  data: 0.1508  max mem: 10532\n",
      "Test: Total time: 0:00:01 (0.2676 s / it)\n",
      "Averaged stats: \n",
      "Accumulating evaluation results...\n",
      "COCOeval_opt.accumulate() finished...\n",
      "DONE (t=0.02s).\n",
      "IoU metric: bbox\n",
      " Average Precision  (AP) @[ IoU=0.50:0.95 | area=   all | maxDets=100 ] = 0.448\n",
      " Average Precision  (AP) @[ IoU=0.50      | area=   all | maxDets=100 ] = 0.677\n",
      " Average Precision  (AP) @[ IoU=0.75      | area=   all | maxDets=100 ] = 0.498\n",
      " Average Precision  (AP) @[ IoU=0.50:0.95 | area= small | maxDets=100 ] = 0.094\n",
      " Average Precision  (AP) @[ IoU=0.50:0.95 | area=medium | maxDets=100 ] = 0.536\n",
      " Average Precision  (AP) @[ IoU=0.50:0.95 | area= large | maxDets=100 ] = 0.333\n",
      " Average Recall     (AR) @[ IoU=0.50:0.95 | area=   all | maxDets=  1 ] = 0.365\n",
      " Average Recall     (AR) @[ IoU=0.50:0.95 | area=   all | maxDets= 10 ] = 0.628\n",
      " Average Recall     (AR) @[ IoU=0.50:0.95 | area=   all | maxDets=100 ] = 0.740\n",
      " Average Recall     (AR) @[ IoU=0.50:0.95 | area= small | maxDets=100 ] = 0.580\n",
      " Average Recall     (AR) @[ IoU=0.50:0.95 | area=medium | maxDets=100 ] = 0.716\n",
      " Average Recall     (AR) @[ IoU=0.50:0.95 | area= large | maxDets=100 ] = 0.532\n",
      " Average Recall     (AR) @[ IoU=0.50      | area=   all | maxDets=100 ] = 0.977\n",
      " Average Recall     (AR) @[ IoU=0.75      | area=   all | maxDets=100 ] = 0.872\n"
     ]
    },
    {
     "name": "stderr",
     "output_type": "stream",
     "text": [
      "\u001b[32m2025-03-10 16:26:20.655\u001b[0m | \u001b[1mINFO    \u001b[0m | \u001b[36mdeimkit.trainer\u001b[0m:\u001b[36m_save_checkpoint\u001b[0m:\u001b[36m380\u001b[0m - \u001b[1mCheckpoint saved to outputs/deim_hgnetv2_s_coco_ema_tune/best.pth\u001b[0m\n",
      "\u001b[32m2025-03-10 16:26:20.657\u001b[0m | \u001b[1mINFO    \u001b[0m | \u001b[36mdeimkit.trainer\u001b[0m:\u001b[36mtrain\u001b[0m:\u001b[36m312\u001b[0m - \u001b[1mEpoch 55 - Train loss: 25.1442, Eval mAP: 0.4476\u001b[0m\n",
      "\u001b[32m2025-03-10 16:26:20.657\u001b[0m | \u001b[1mINFO    \u001b[0m | \u001b[36mdeimkit.trainer\u001b[0m:\u001b[36mtrain\u001b[0m:\u001b[36m315\u001b[0m - \u001b[1mBest stats: {'epoch': 55, 'coco_eval_bbox': 0.44755248307358464}\u001b[0m\n"
     ]
    },
    {
     "name": "stdout",
     "output_type": "stream",
     "text": [
      "Epoch: [56]  [ 0/15]  eta: 0:00:27  lr: 0.000200  loss: 24.6986 (24.6986)  loss_mal: 0.9932 (0.9932)  loss_bbox: 0.2580 (0.2580)  loss_giou: 0.6933 (0.6933)  loss_fgl: 1.1182 (1.1182)  loss_mal_aux_0: 0.9429 (0.9429)  loss_bbox_aux_0: 0.2690 (0.2690)  loss_giou_aux_0: 0.7276 (0.7276)  loss_fgl_aux_0: 1.1195 (1.1195)  loss_ddf_aux_0: 0.1393 (0.1393)  loss_mal_aux_1: 0.9575 (0.9575)  loss_bbox_aux_1: 0.2571 (0.2571)  loss_giou_aux_1: 0.6964 (0.6964)  loss_fgl_aux_1: 1.1177 (1.1177)  loss_ddf_aux_1: 0.0056 (0.0056)  loss_mal_pre: 0.9395 (0.9395)  loss_bbox_pre: 0.2694 (0.2694)  loss_giou_pre: 0.7241 (0.7241)  loss_mal_enc_0: 0.9624 (0.9624)  loss_bbox_enc_0: 0.3241 (0.3241)  loss_giou_enc_0: 0.8439 (0.8439)  loss_mal_dn_0: 0.7700 (0.7700)  loss_bbox_dn_0: 0.3002 (0.3002)  loss_giou_dn_0: 0.9242 (0.9242)  loss_fgl_dn_0: 1.1087 (1.1087)  loss_ddf_dn_0: 0.4805 (0.4805)  loss_mal_dn_1: 0.7969 (0.7969)  loss_bbox_dn_1: 0.2395 (0.2395)  loss_giou_dn_1: 0.7346 (0.7346)  loss_fgl_dn_1: 1.1167 (1.1167)  loss_ddf_dn_1: 0.0382 (0.0382)  loss_mal_dn_2: 0.8013 (0.8013)  loss_bbox_dn_2: 0.2298 (0.2298)  loss_giou_dn_2: 0.6995 (0.6995)  loss_fgl_dn_2: 1.1194 (1.1194)  loss_mal_dn_pre: 0.7700 (0.7700)  loss_bbox_dn_pre: 0.2988 (0.2988)  loss_giou_dn_pre: 0.9116 (0.9116)  time: 1.8542  data: 1.3490  max mem: 10532\n"
     ]
    },
    {
     "name": "stderr",
     "output_type": "stream",
     "text": [
      "\u001b[32m2025-03-10 16:26:29.512\u001b[0m | \u001b[1mINFO    \u001b[0m | \u001b[36mdeimkit.trainer\u001b[0m:\u001b[36mevaluate\u001b[0m:\u001b[36m331\u001b[0m - \u001b[1mEvaluating model...\u001b[0m\n"
     ]
    },
    {
     "name": "stdout",
     "output_type": "stream",
     "text": [
      "Epoch: [56]  [14/15]  eta: 0:00:00  lr: 0.000200  loss: 24.7729 (24.8937)  loss_mal: 0.9956 (0.9720)  loss_bbox: 0.2286 (0.2600)  loss_giou: 0.6200 (0.6636)  loss_fgl: 1.1436 (1.1334)  loss_mal_aux_0: 0.9639 (0.9712)  loss_bbox_aux_0: 0.2500 (0.2731)  loss_giou_aux_0: 0.6601 (0.7068)  loss_fgl_aux_0: 1.1592 (1.1422)  loss_ddf_aux_0: 0.1556 (0.1764)  loss_mal_aux_1: 0.9785 (0.9636)  loss_bbox_aux_1: 0.2291 (0.2599)  loss_giou_aux_1: 0.6196 (0.6649)  loss_fgl_aux_1: 1.1432 (1.1329)  loss_ddf_aux_1: 0.0062 (0.0066)  loss_mal_pre: 0.9639 (0.9670)  loss_bbox_pre: 0.2464 (0.2728)  loss_giou_pre: 0.6640 (0.7058)  loss_mal_enc_0: 0.9683 (0.9935)  loss_bbox_enc_0: 0.3142 (0.3271)  loss_giou_enc_0: 0.7697 (0.8131)  loss_mal_dn_0: 0.7656 (0.7728)  loss_bbox_dn_0: 0.3266 (0.3136)  loss_giou_dn_0: 0.8683 (0.8942)  loss_fgl_dn_0: 1.1166 (1.1123)  loss_ddf_dn_0: 0.6087 (0.6126)  loss_mal_dn_1: 0.8032 (0.7989)  loss_bbox_dn_1: 0.2618 (0.2618)  loss_giou_dn_1: 0.6869 (0.7248)  loss_fgl_dn_1: 1.1180 (1.1100)  loss_ddf_dn_1: 0.0462 (0.0494)  loss_mal_dn_2: 0.8013 (0.7995)  loss_bbox_dn_2: 0.2526 (0.2522)  loss_giou_dn_2: 0.6538 (0.6940)  loss_fgl_dn_2: 1.1216 (1.1135)  loss_mal_dn_pre: 0.7646 (0.7705)  loss_bbox_dn_pre: 0.3310 (0.3160)  loss_giou_dn_pre: 0.8600 (0.8918)  time: 0.5841  data: 0.1104  max mem: 10532\n",
      "Epoch: [56] Total time: 0:00:08 (0.5890 s / it)\n",
      "Averaged stats: lr: 0.000200  loss: 24.7729 (24.8937)  loss_mal: 0.9956 (0.9720)  loss_bbox: 0.2286 (0.2600)  loss_giou: 0.6200 (0.6636)  loss_fgl: 1.1436 (1.1334)  loss_mal_aux_0: 0.9639 (0.9712)  loss_bbox_aux_0: 0.2500 (0.2731)  loss_giou_aux_0: 0.6601 (0.7068)  loss_fgl_aux_0: 1.1592 (1.1422)  loss_ddf_aux_0: 0.1556 (0.1764)  loss_mal_aux_1: 0.9785 (0.9636)  loss_bbox_aux_1: 0.2291 (0.2599)  loss_giou_aux_1: 0.6196 (0.6649)  loss_fgl_aux_1: 1.1432 (1.1329)  loss_ddf_aux_1: 0.0062 (0.0066)  loss_mal_pre: 0.9639 (0.9670)  loss_bbox_pre: 0.2464 (0.2728)  loss_giou_pre: 0.6640 (0.7058)  loss_mal_enc_0: 0.9683 (0.9935)  loss_bbox_enc_0: 0.3142 (0.3271)  loss_giou_enc_0: 0.7697 (0.8131)  loss_mal_dn_0: 0.7656 (0.7728)  loss_bbox_dn_0: 0.3266 (0.3136)  loss_giou_dn_0: 0.8683 (0.8942)  loss_fgl_dn_0: 1.1166 (1.1123)  loss_ddf_dn_0: 0.6087 (0.6126)  loss_mal_dn_1: 0.8032 (0.7989)  loss_bbox_dn_1: 0.2618 (0.2618)  loss_giou_dn_1: 0.6869 (0.7248)  loss_fgl_dn_1: 1.1180 (1.1100)  loss_ddf_dn_1: 0.0462 (0.0494)  loss_mal_dn_2: 0.8013 (0.7995)  loss_bbox_dn_2: 0.2526 (0.2522)  loss_giou_dn_2: 0.6538 (0.6940)  loss_fgl_dn_2: 1.1216 (1.1135)  loss_mal_dn_pre: 0.7646 (0.7705)  loss_bbox_dn_pre: 0.3310 (0.3160)  loss_giou_dn_pre: 0.8600 (0.8918)\n",
      "Test:  [0/5]  eta: 0:00:04    time: 0.8573  data: 0.7436  max mem: 10532\n"
     ]
    },
    {
     "name": "stderr",
     "output_type": "stream",
     "text": [
      "\u001b[32m2025-03-10 16:26:30.924\u001b[0m | \u001b[1mINFO    \u001b[0m | \u001b[36mdeimkit.trainer\u001b[0m:\u001b[36m_save_checkpoint\u001b[0m:\u001b[36m363\u001b[0m - \u001b[1mSaving checkpoint to outputs/deim_hgnetv2_s_coco_ema_tune/best.pth\u001b[0m\n"
     ]
    },
    {
     "name": "stdout",
     "output_type": "stream",
     "text": [
      "Test:  [4/5]  eta: 0:00:00    time: 0.2648  data: 0.1622  max mem: 10532\n",
      "Test: Total time: 0:00:01 (0.2763 s / it)\n",
      "Averaged stats: \n",
      "Accumulating evaluation results...\n",
      "COCOeval_opt.accumulate() finished...\n",
      "DONE (t=0.02s).\n",
      "IoU metric: bbox\n",
      " Average Precision  (AP) @[ IoU=0.50:0.95 | area=   all | maxDets=100 ] = 0.464\n",
      " Average Precision  (AP) @[ IoU=0.50      | area=   all | maxDets=100 ] = 0.698\n",
      " Average Precision  (AP) @[ IoU=0.75      | area=   all | maxDets=100 ] = 0.535\n",
      " Average Precision  (AP) @[ IoU=0.50:0.95 | area= small | maxDets=100 ] = 0.246\n",
      " Average Precision  (AP) @[ IoU=0.50:0.95 | area=medium | maxDets=100 ] = 0.513\n",
      " Average Precision  (AP) @[ IoU=0.50:0.95 | area= large | maxDets=100 ] = 0.333\n",
      " Average Recall     (AR) @[ IoU=0.50:0.95 | area=   all | maxDets=  1 ] = 0.367\n",
      " Average Recall     (AR) @[ IoU=0.50:0.95 | area=   all | maxDets= 10 ] = 0.637\n",
      " Average Recall     (AR) @[ IoU=0.50:0.95 | area=   all | maxDets=100 ] = 0.754\n",
      " Average Recall     (AR) @[ IoU=0.50:0.95 | area= small | maxDets=100 ] = 0.660\n",
      " Average Recall     (AR) @[ IoU=0.50:0.95 | area=medium | maxDets=100 ] = 0.766\n",
      " Average Recall     (AR) @[ IoU=0.50:0.95 | area= large | maxDets=100 ] = 0.798\n",
      " Average Recall     (AR) @[ IoU=0.50      | area=   all | maxDets=100 ] = 0.993\n",
      " Average Recall     (AR) @[ IoU=0.75      | area=   all | maxDets=100 ] = 0.890\n"
     ]
    },
    {
     "name": "stderr",
     "output_type": "stream",
     "text": [
      "\u001b[32m2025-03-10 16:26:31.260\u001b[0m | \u001b[1mINFO    \u001b[0m | \u001b[36mdeimkit.trainer\u001b[0m:\u001b[36m_save_checkpoint\u001b[0m:\u001b[36m380\u001b[0m - \u001b[1mCheckpoint saved to outputs/deim_hgnetv2_s_coco_ema_tune/best.pth\u001b[0m\n",
      "\u001b[32m2025-03-10 16:26:31.262\u001b[0m | \u001b[1mINFO    \u001b[0m | \u001b[36mdeimkit.trainer\u001b[0m:\u001b[36mtrain\u001b[0m:\u001b[36m312\u001b[0m - \u001b[1mEpoch 56 - Train loss: 24.8937, Eval mAP: 0.4645\u001b[0m\n",
      "\u001b[32m2025-03-10 16:26:31.263\u001b[0m | \u001b[1mINFO    \u001b[0m | \u001b[36mdeimkit.trainer\u001b[0m:\u001b[36mtrain\u001b[0m:\u001b[36m315\u001b[0m - \u001b[1mBest stats: {'epoch': 56, 'coco_eval_bbox': 0.4644940719250685}\u001b[0m\n"
     ]
    },
    {
     "name": "stdout",
     "output_type": "stream",
     "text": [
      "Epoch: [57]  [ 0/15]  eta: 0:00:31  lr: 0.000200  loss: 26.1869 (26.1869)  loss_mal: 0.9009 (0.9009)  loss_bbox: 0.3865 (0.3865)  loss_giou: 0.8449 (0.8449)  loss_fgl: 1.0913 (1.0913)  loss_mal_aux_0: 0.8877 (0.8877)  loss_bbox_aux_0: 0.3911 (0.3911)  loss_giou_aux_0: 0.8715 (0.8715)  loss_fgl_aux_0: 1.0886 (1.0886)  loss_ddf_aux_0: 0.1733 (0.1733)  loss_mal_aux_1: 0.8887 (0.8887)  loss_bbox_aux_1: 0.3856 (0.3856)  loss_giou_aux_1: 0.8463 (0.8463)  loss_fgl_aux_1: 1.0894 (1.0894)  loss_ddf_aux_1: 0.0079 (0.0079)  loss_mal_pre: 0.8843 (0.8843)  loss_bbox_pre: 0.3922 (0.3922)  loss_giou_pre: 0.8750 (0.8750)  loss_mal_enc_0: 0.8687 (0.8687)  loss_bbox_enc_0: 0.4206 (0.4206)  loss_giou_enc_0: 0.9446 (0.9446)  loss_mal_dn_0: 0.7495 (0.7495)  loss_bbox_dn_0: 0.3852 (0.3852)  loss_giou_dn_0: 0.9767 (0.9767)  loss_fgl_dn_0: 1.0675 (1.0675)  loss_ddf_dn_0: 0.5431 (0.5431)  loss_mal_dn_1: 0.7642 (0.7642)  loss_bbox_dn_1: 0.3436 (0.3436)  loss_giou_dn_1: 0.8590 (0.8590)  loss_fgl_dn_1: 1.0777 (1.0777)  loss_ddf_dn_1: 0.0453 (0.0453)  loss_mal_dn_2: 0.7671 (0.7671)  loss_bbox_dn_2: 0.3365 (0.3365)  loss_giou_dn_2: 0.8332 (0.8332)  loss_fgl_dn_2: 1.0831 (1.0831)  loss_mal_dn_pre: 0.7485 (0.7485)  loss_bbox_dn_pre: 0.3869 (0.3869)  loss_giou_dn_pre: 0.9808 (0.9808)  time: 2.0951  data: 1.5131  max mem: 10532\n"
     ]
    },
    {
     "name": "stderr",
     "output_type": "stream",
     "text": [
      "\u001b[32m2025-03-10 16:26:40.087\u001b[0m | \u001b[1mINFO    \u001b[0m | \u001b[36mdeimkit.trainer\u001b[0m:\u001b[36mevaluate\u001b[0m:\u001b[36m331\u001b[0m - \u001b[1mEvaluating model...\u001b[0m\n"
     ]
    },
    {
     "name": "stdout",
     "output_type": "stream",
     "text": [
      "Epoch: [57]  [14/15]  eta: 0:00:00  lr: 0.000200  loss: 25.2117 (25.1640)  loss_mal: 0.9458 (0.9676)  loss_bbox: 0.2924 (0.3012)  loss_giou: 0.7101 (0.6975)  loss_fgl: 1.1372 (1.1210)  loss_mal_aux_0: 0.9399 (0.9651)  loss_bbox_aux_0: 0.3077 (0.3119)  loss_giou_aux_0: 0.7530 (0.7296)  loss_fgl_aux_0: 1.1407 (1.1280)  loss_ddf_aux_0: 0.1343 (0.1451)  loss_mal_aux_1: 0.9429 (0.9651)  loss_bbox_aux_1: 0.2921 (0.3013)  loss_giou_aux_1: 0.7117 (0.6984)  loss_fgl_aux_1: 1.1378 (1.1207)  loss_ddf_aux_1: 0.0049 (0.0054)  loss_mal_pre: 0.9351 (0.9601)  loss_bbox_pre: 0.3114 (0.3127)  loss_giou_pre: 0.7537 (0.7334)  loss_mal_enc_0: 0.9736 (0.9802)  loss_bbox_enc_0: 0.3571 (0.3572)  loss_giou_enc_0: 0.8155 (0.8319)  loss_mal_dn_0: 0.7656 (0.7654)  loss_bbox_dn_0: 0.3529 (0.3512)  loss_giou_dn_0: 0.9177 (0.8945)  loss_fgl_dn_0: 1.0786 (1.1037)  loss_ddf_dn_0: 0.5216 (0.5225)  loss_mal_dn_1: 0.7935 (0.7946)  loss_bbox_dn_1: 0.2836 (0.2994)  loss_giou_dn_1: 0.7502 (0.7408)  loss_fgl_dn_1: 1.0796 (1.1001)  loss_ddf_dn_1: 0.0364 (0.0368)  loss_mal_dn_2: 0.7886 (0.7963)  loss_bbox_dn_2: 0.2690 (0.2905)  loss_giou_dn_2: 0.7128 (0.7147)  loss_fgl_dn_2: 1.0831 (1.1020)  loss_mal_dn_pre: 0.7627 (0.7627)  loss_bbox_dn_pre: 0.3501 (0.3548)  loss_giou_dn_pre: 0.9487 (0.9006)  time: 0.5821  data: 0.1167  max mem: 10532\n",
      "Epoch: [57] Total time: 0:00:08 (0.5868 s / it)\n",
      "Averaged stats: lr: 0.000200  loss: 25.2117 (25.1640)  loss_mal: 0.9458 (0.9676)  loss_bbox: 0.2924 (0.3012)  loss_giou: 0.7101 (0.6975)  loss_fgl: 1.1372 (1.1210)  loss_mal_aux_0: 0.9399 (0.9651)  loss_bbox_aux_0: 0.3077 (0.3119)  loss_giou_aux_0: 0.7530 (0.7296)  loss_fgl_aux_0: 1.1407 (1.1280)  loss_ddf_aux_0: 0.1343 (0.1451)  loss_mal_aux_1: 0.9429 (0.9651)  loss_bbox_aux_1: 0.2921 (0.3013)  loss_giou_aux_1: 0.7117 (0.6984)  loss_fgl_aux_1: 1.1378 (1.1207)  loss_ddf_aux_1: 0.0049 (0.0054)  loss_mal_pre: 0.9351 (0.9601)  loss_bbox_pre: 0.3114 (0.3127)  loss_giou_pre: 0.7537 (0.7334)  loss_mal_enc_0: 0.9736 (0.9802)  loss_bbox_enc_0: 0.3571 (0.3572)  loss_giou_enc_0: 0.8155 (0.8319)  loss_mal_dn_0: 0.7656 (0.7654)  loss_bbox_dn_0: 0.3529 (0.3512)  loss_giou_dn_0: 0.9177 (0.8945)  loss_fgl_dn_0: 1.0786 (1.1037)  loss_ddf_dn_0: 0.5216 (0.5225)  loss_mal_dn_1: 0.7935 (0.7946)  loss_bbox_dn_1: 0.2836 (0.2994)  loss_giou_dn_1: 0.7502 (0.7408)  loss_fgl_dn_1: 1.0796 (1.1001)  loss_ddf_dn_1: 0.0364 (0.0368)  loss_mal_dn_2: 0.7886 (0.7963)  loss_bbox_dn_2: 0.2690 (0.2905)  loss_giou_dn_2: 0.7128 (0.7147)  loss_fgl_dn_2: 1.0831 (1.1020)  loss_mal_dn_pre: 0.7627 (0.7627)  loss_bbox_dn_pre: 0.3501 (0.3548)  loss_giou_dn_pre: 0.9487 (0.9006)\n",
      "Test:  [0/5]  eta: 0:00:03    time: 0.7691  data: 0.6582  max mem: 10532\n"
     ]
    },
    {
     "name": "stderr",
     "output_type": "stream",
     "text": [
      "\u001b[32m2025-03-10 16:26:41.415\u001b[0m | \u001b[1mINFO    \u001b[0m | \u001b[36mdeimkit.trainer\u001b[0m:\u001b[36mtrain\u001b[0m:\u001b[36m312\u001b[0m - \u001b[1mEpoch 57 - Train loss: 25.1640, Eval mAP: 0.4563\u001b[0m\n",
      "\u001b[32m2025-03-10 16:26:41.416\u001b[0m | \u001b[1mINFO    \u001b[0m | \u001b[36mdeimkit.trainer\u001b[0m:\u001b[36mtrain\u001b[0m:\u001b[36m315\u001b[0m - \u001b[1mBest stats: {'epoch': 56, 'coco_eval_bbox': 0.4644940719250685}\u001b[0m\n"
     ]
    },
    {
     "name": "stdout",
     "output_type": "stream",
     "text": [
      "Test:  [4/5]  eta: 0:00:00    time: 0.2440  data: 0.1432  max mem: 10532\n",
      "Test: Total time: 0:00:01 (0.2598 s / it)\n",
      "Averaged stats: \n",
      "Accumulating evaluation results...\n",
      "COCOeval_opt.accumulate() finished...\n",
      "DONE (t=0.02s).\n",
      "IoU metric: bbox\n",
      " Average Precision  (AP) @[ IoU=0.50:0.95 | area=   all | maxDets=100 ] = 0.456\n",
      " Average Precision  (AP) @[ IoU=0.50      | area=   all | maxDets=100 ] = 0.697\n",
      " Average Precision  (AP) @[ IoU=0.75      | area=   all | maxDets=100 ] = 0.536\n",
      " Average Precision  (AP) @[ IoU=0.50:0.95 | area= small | maxDets=100 ] = 0.260\n",
      " Average Precision  (AP) @[ IoU=0.50:0.95 | area=medium | maxDets=100 ] = 0.306\n",
      " Average Precision  (AP) @[ IoU=0.50:0.95 | area= large | maxDets=100 ] = 0.340\n",
      " Average Recall     (AR) @[ IoU=0.50:0.95 | area=   all | maxDets=  1 ] = 0.367\n",
      " Average Recall     (AR) @[ IoU=0.50:0.95 | area=   all | maxDets= 10 ] = 0.627\n",
      " Average Recall     (AR) @[ IoU=0.50:0.95 | area=   all | maxDets=100 ] = 0.731\n",
      " Average Recall     (AR) @[ IoU=0.50:0.95 | area= small | maxDets=100 ] = 0.580\n",
      " Average Recall     (AR) @[ IoU=0.50:0.95 | area=medium | maxDets=100 ] = 0.742\n",
      " Average Recall     (AR) @[ IoU=0.50:0.95 | area= large | maxDets=100 ] = 0.522\n",
      " Average Recall     (AR) @[ IoU=0.50      | area=   all | maxDets=100 ] = 0.984\n",
      " Average Recall     (AR) @[ IoU=0.75      | area=   all | maxDets=100 ] = 0.859\n",
      "Epoch: [58]  [ 0/15]  eta: 0:00:36  lr: 0.000200  loss: 25.1200 (25.1200)  loss_mal: 0.8999 (0.8999)  loss_bbox: 0.3022 (0.3022)  loss_giou: 0.7805 (0.7805)  loss_fgl: 1.0962 (1.0962)  loss_mal_aux_0: 0.8955 (0.8955)  loss_bbox_aux_0: 0.3068 (0.3068)  loss_giou_aux_0: 0.7997 (0.7997)  loss_fgl_aux_0: 1.0962 (1.0962)  loss_ddf_aux_0: 0.1043 (0.1043)  loss_mal_aux_1: 0.9380 (0.9380)  loss_bbox_aux_1: 0.3019 (0.3019)  loss_giou_aux_1: 0.7806 (0.7806)  loss_fgl_aux_1: 1.0947 (1.0947)  loss_ddf_aux_1: 0.0056 (0.0056)  loss_mal_pre: 0.8921 (0.8921)  loss_bbox_pre: 0.3094 (0.3094)  loss_giou_pre: 0.8061 (0.8061)  loss_mal_enc_0: 0.9004 (0.9004)  loss_bbox_enc_0: 0.3418 (0.3418)  loss_giou_enc_0: 0.8748 (0.8748)  loss_mal_dn_0: 0.7505 (0.7505)  loss_bbox_dn_0: 0.3350 (0.3350)  loss_giou_dn_0: 0.9417 (0.9417)  loss_fgl_dn_0: 1.0771 (1.0771)  loss_ddf_dn_0: 0.5159 (0.5159)  loss_mal_dn_1: 0.7808 (0.7808)  loss_bbox_dn_1: 0.2952 (0.2952)  loss_giou_dn_1: 0.8068 (0.8068)  loss_fgl_dn_1: 1.0867 (1.0867)  loss_ddf_dn_1: 0.0414 (0.0414)  loss_mal_dn_2: 0.7725 (0.7725)  loss_bbox_dn_2: 0.2897 (0.2897)  loss_giou_dn_2: 0.7842 (0.7842)  loss_fgl_dn_2: 1.0914 (1.0914)  loss_mal_dn_pre: 0.7495 (0.7495)  loss_bbox_dn_pre: 0.3363 (0.3363)  loss_giou_dn_pre: 0.9386 (0.9386)  time: 2.4220  data: 1.8359  max mem: 10532\n"
     ]
    },
    {
     "name": "stderr",
     "output_type": "stream",
     "text": [
      "\u001b[32m2025-03-10 16:26:50.421\u001b[0m | \u001b[1mINFO    \u001b[0m | \u001b[36mdeimkit.trainer\u001b[0m:\u001b[36mevaluate\u001b[0m:\u001b[36m331\u001b[0m - \u001b[1mEvaluating model...\u001b[0m\n"
     ]
    },
    {
     "name": "stdout",
     "output_type": "stream",
     "text": [
      "Epoch: [58]  [14/15]  eta: 0:00:00  lr: 0.000200  loss: 25.6488 (24.9244)  loss_mal: 0.9272 (0.9516)  loss_bbox: 0.2738 (0.2702)  loss_giou: 0.6158 (0.6658)  loss_fgl: 1.1468 (1.1456)  loss_mal_aux_0: 0.9121 (0.9563)  loss_bbox_aux_0: 0.2957 (0.2821)  loss_giou_aux_0: 0.6770 (0.6986)  loss_fgl_aux_0: 1.1485 (1.1493)  loss_ddf_aux_0: 0.1277 (0.1417)  loss_mal_aux_1: 0.9526 (0.9765)  loss_bbox_aux_1: 0.2764 (0.2707)  loss_giou_aux_1: 0.6207 (0.6670)  loss_fgl_aux_1: 1.1461 (1.1444)  loss_ddf_aux_1: 0.0064 (0.0068)  loss_mal_pre: 0.9111 (0.9516)  loss_bbox_pre: 0.2963 (0.2831)  loss_giou_pre: 0.6841 (0.7032)  loss_mal_enc_0: 0.9624 (0.9802)  loss_bbox_enc_0: 0.3418 (0.3159)  loss_giou_enc_0: 0.8074 (0.7781)  loss_mal_dn_0: 0.7739 (0.7721)  loss_bbox_dn_0: 0.3350 (0.3315)  loss_giou_dn_0: 0.8698 (0.8838)  loss_fgl_dn_0: 1.1466 (1.1242)  loss_ddf_dn_0: 0.6311 (0.6199)  loss_mal_dn_1: 0.7998 (0.7982)  loss_bbox_dn_1: 0.2952 (0.2796)  loss_giou_dn_1: 0.6815 (0.7288)  loss_fgl_dn_1: 1.1281 (1.1203)  loss_ddf_dn_1: 0.0528 (0.0518)  loss_mal_dn_2: 0.7910 (0.7930)  loss_bbox_dn_2: 0.2878 (0.2700)  loss_giou_dn_2: 0.6481 (0.7011)  loss_fgl_dn_2: 1.1219 (1.1242)  loss_mal_dn_pre: 0.7729 (0.7711)  loss_bbox_dn_pre: 0.3363 (0.3333)  loss_giou_dn_pre: 0.8805 (0.8829)  time: 0.5952  data: 0.1377  max mem: 10532\n",
      "Epoch: [58] Total time: 0:00:08 (0.5991 s / it)\n",
      "Averaged stats: lr: 0.000200  loss: 25.6488 (24.9244)  loss_mal: 0.9272 (0.9516)  loss_bbox: 0.2738 (0.2702)  loss_giou: 0.6158 (0.6658)  loss_fgl: 1.1468 (1.1456)  loss_mal_aux_0: 0.9121 (0.9563)  loss_bbox_aux_0: 0.2957 (0.2821)  loss_giou_aux_0: 0.6770 (0.6986)  loss_fgl_aux_0: 1.1485 (1.1493)  loss_ddf_aux_0: 0.1277 (0.1417)  loss_mal_aux_1: 0.9526 (0.9765)  loss_bbox_aux_1: 0.2764 (0.2707)  loss_giou_aux_1: 0.6207 (0.6670)  loss_fgl_aux_1: 1.1461 (1.1444)  loss_ddf_aux_1: 0.0064 (0.0068)  loss_mal_pre: 0.9111 (0.9516)  loss_bbox_pre: 0.2963 (0.2831)  loss_giou_pre: 0.6841 (0.7032)  loss_mal_enc_0: 0.9624 (0.9802)  loss_bbox_enc_0: 0.3418 (0.3159)  loss_giou_enc_0: 0.8074 (0.7781)  loss_mal_dn_0: 0.7739 (0.7721)  loss_bbox_dn_0: 0.3350 (0.3315)  loss_giou_dn_0: 0.8698 (0.8838)  loss_fgl_dn_0: 1.1466 (1.1242)  loss_ddf_dn_0: 0.6311 (0.6199)  loss_mal_dn_1: 0.7998 (0.7982)  loss_bbox_dn_1: 0.2952 (0.2796)  loss_giou_dn_1: 0.6815 (0.7288)  loss_fgl_dn_1: 1.1281 (1.1203)  loss_ddf_dn_1: 0.0528 (0.0518)  loss_mal_dn_2: 0.7910 (0.7930)  loss_bbox_dn_2: 0.2878 (0.2700)  loss_giou_dn_2: 0.6481 (0.7011)  loss_fgl_dn_2: 1.1219 (1.1242)  loss_mal_dn_pre: 0.7729 (0.7711)  loss_bbox_dn_pre: 0.3363 (0.3333)  loss_giou_dn_pre: 0.8805 (0.8829)\n",
      "Test:  [0/5]  eta: 0:00:03    time: 0.7580  data: 0.6415  max mem: 10532\n"
     ]
    },
    {
     "name": "stderr",
     "output_type": "stream",
     "text": [
      "\u001b[32m2025-03-10 16:26:51.741\u001b[0m | \u001b[1mINFO    \u001b[0m | \u001b[36mdeimkit.trainer\u001b[0m:\u001b[36mtrain\u001b[0m:\u001b[36m312\u001b[0m - \u001b[1mEpoch 58 - Train loss: 24.9244, Eval mAP: 0.4306\u001b[0m\n",
      "\u001b[32m2025-03-10 16:26:51.742\u001b[0m | \u001b[1mINFO    \u001b[0m | \u001b[36mdeimkit.trainer\u001b[0m:\u001b[36mtrain\u001b[0m:\u001b[36m315\u001b[0m - \u001b[1mBest stats: {'epoch': 56, 'coco_eval_bbox': 0.4644940719250685}\u001b[0m\n"
     ]
    },
    {
     "name": "stdout",
     "output_type": "stream",
     "text": [
      "Test:  [4/5]  eta: 0:00:00    time: 0.2462  data: 0.1437  max mem: 10532\n",
      "Test: Total time: 0:00:01 (0.2585 s / it)\n",
      "Averaged stats: \n",
      "Accumulating evaluation results...\n",
      "COCOeval_opt.accumulate() finished...\n",
      "DONE (t=0.02s).\n",
      "IoU metric: bbox\n",
      " Average Precision  (AP) @[ IoU=0.50:0.95 | area=   all | maxDets=100 ] = 0.431\n",
      " Average Precision  (AP) @[ IoU=0.50      | area=   all | maxDets=100 ] = 0.656\n",
      " Average Precision  (AP) @[ IoU=0.75      | area=   all | maxDets=100 ] = 0.526\n",
      " Average Precision  (AP) @[ IoU=0.50:0.95 | area= small | maxDets=100 ] = 0.169\n",
      " Average Precision  (AP) @[ IoU=0.50:0.95 | area=medium | maxDets=100 ] = 0.491\n",
      " Average Precision  (AP) @[ IoU=0.50:0.95 | area= large | maxDets=100 ] = 0.344\n",
      " Average Recall     (AR) @[ IoU=0.50:0.95 | area=   all | maxDets=  1 ] = 0.331\n",
      " Average Recall     (AR) @[ IoU=0.50:0.95 | area=   all | maxDets= 10 ] = 0.624\n",
      " Average Recall     (AR) @[ IoU=0.50:0.95 | area=   all | maxDets=100 ] = 0.741\n",
      " Average Recall     (AR) @[ IoU=0.50:0.95 | area= small | maxDets=100 ] = 0.660\n",
      " Average Recall     (AR) @[ IoU=0.50:0.95 | area=medium | maxDets=100 ] = 0.692\n",
      " Average Recall     (AR) @[ IoU=0.50:0.95 | area= large | maxDets=100 ] = 0.520\n",
      " Average Recall     (AR) @[ IoU=0.50      | area=   all | maxDets=100 ] = 0.993\n",
      " Average Recall     (AR) @[ IoU=0.75      | area=   all | maxDets=100 ] = 0.913\n",
      "Epoch: [59]  [ 0/15]  eta: 0:00:27  lr: 0.000200  loss: 24.0854 (24.0854)  loss_mal: 1.0244 (1.0244)  loss_bbox: 0.2108 (0.2108)  loss_giou: 0.5616 (0.5616)  loss_fgl: 1.1681 (1.1681)  loss_mal_aux_0: 0.9912 (0.9912)  loss_bbox_aux_0: 0.2177 (0.2177)  loss_giou_aux_0: 0.5912 (0.5912)  loss_fgl_aux_0: 1.1720 (1.1720)  loss_ddf_aux_0: 0.1906 (0.1906)  loss_mal_aux_1: 0.9946 (0.9946)  loss_bbox_aux_1: 0.2110 (0.2110)  loss_giou_aux_1: 0.5633 (0.5633)  loss_fgl_aux_1: 1.1675 (1.1675)  loss_ddf_aux_1: 0.0066 (0.0066)  loss_mal_pre: 0.9854 (0.9854)  loss_bbox_pre: 0.2194 (0.2194)  loss_giou_pre: 0.5990 (0.5990)  loss_mal_enc_0: 1.0264 (1.0264)  loss_bbox_enc_0: 0.2733 (0.2733)  loss_giou_enc_0: 0.7052 (0.7052)  loss_mal_dn_0: 0.7749 (0.7749)  loss_bbox_dn_0: 0.2595 (0.2595)  loss_giou_dn_0: 0.7886 (0.7886)  loss_fgl_dn_0: 1.1607 (1.1607)  loss_ddf_dn_0: 0.7747 (0.7747)  loss_mal_dn_1: 0.8081 (0.8081)  loss_bbox_dn_1: 0.2166 (0.2166)  loss_giou_dn_1: 0.6245 (0.6245)  loss_fgl_dn_1: 1.1507 (1.1507)  loss_ddf_dn_1: 0.0552 (0.0552)  loss_mal_dn_2: 0.8057 (0.8057)  loss_bbox_dn_2: 0.2066 (0.2066)  loss_giou_dn_2: 0.6004 (0.6004)  loss_fgl_dn_2: 1.1574 (1.1574)  loss_mal_dn_pre: 0.7744 (0.7744)  loss_bbox_dn_pre: 0.2613 (0.2613)  loss_giou_dn_pre: 0.7868 (0.7868)  time: 1.8620  data: 1.2932  max mem: 10532\n"
     ]
    },
    {
     "name": "stderr",
     "output_type": "stream",
     "text": [
      "\u001b[32m2025-03-10 16:27:00.288\u001b[0m | \u001b[1mINFO    \u001b[0m | \u001b[36mdeimkit.trainer\u001b[0m:\u001b[36m_save_checkpoint\u001b[0m:\u001b[36m363\u001b[0m - \u001b[1mSaving checkpoint to outputs/deim_hgnetv2_s_coco_ema_tune/checkpoint0059.pth\u001b[0m\n"
     ]
    },
    {
     "name": "stdout",
     "output_type": "stream",
     "text": [
      "Epoch: [59]  [14/15]  eta: 0:00:00  lr: 0.000200  loss: 24.0854 (24.5187)  loss_mal: 0.9375 (0.9399)  loss_bbox: 0.2430 (0.2668)  loss_giou: 0.6026 (0.6711)  loss_fgl: 1.1398 (1.1198)  loss_mal_aux_0: 0.9551 (0.9359)  loss_bbox_aux_0: 0.2526 (0.2758)  loss_giou_aux_0: 0.6391 (0.7052)  loss_fgl_aux_0: 1.1488 (1.1284)  loss_ddf_aux_0: 0.1266 (0.1281)  loss_mal_aux_1: 0.9580 (0.9430)  loss_bbox_aux_1: 0.2432 (0.2667)  loss_giou_aux_1: 0.6034 (0.6718)  loss_fgl_aux_1: 1.1412 (1.1203)  loss_ddf_aux_1: 0.0045 (0.0049)  loss_mal_pre: 0.9429 (0.9310)  loss_bbox_pre: 0.2549 (0.2759)  loss_giou_pre: 0.6403 (0.7068)  loss_mal_enc_0: 0.9707 (0.9631)  loss_bbox_enc_0: 0.3203 (0.3121)  loss_giou_enc_0: 0.7961 (0.7897)  loss_mal_dn_0: 0.7695 (0.7686)  loss_bbox_dn_0: 0.3035 (0.3052)  loss_giou_dn_0: 0.8404 (0.8771)  loss_fgl_dn_0: 1.1357 (1.1148)  loss_ddf_dn_0: 0.5745 (0.5635)  loss_mal_dn_1: 0.7939 (0.7930)  loss_bbox_dn_1: 0.2487 (0.2615)  loss_giou_dn_1: 0.6810 (0.7273)  loss_fgl_dn_1: 1.1096 (1.1042)  loss_ddf_dn_1: 0.0329 (0.0356)  loss_mal_dn_2: 0.7896 (0.7896)  loss_bbox_dn_2: 0.2446 (0.2558)  loss_giou_dn_2: 0.6616 (0.7073)  loss_fgl_dn_2: 1.1108 (1.1064)  loss_mal_dn_pre: 0.7681 (0.7667)  loss_bbox_dn_pre: 0.3070 (0.3078)  loss_giou_dn_pre: 0.8386 (0.8778)  time: 0.5639  data: 0.1039  max mem: 10532\n",
      "Epoch: [59] Total time: 0:00:08 (0.5686 s / it)\n",
      "Averaged stats: lr: 0.000200  loss: 24.0854 (24.5187)  loss_mal: 0.9375 (0.9399)  loss_bbox: 0.2430 (0.2668)  loss_giou: 0.6026 (0.6711)  loss_fgl: 1.1398 (1.1198)  loss_mal_aux_0: 0.9551 (0.9359)  loss_bbox_aux_0: 0.2526 (0.2758)  loss_giou_aux_0: 0.6391 (0.7052)  loss_fgl_aux_0: 1.1488 (1.1284)  loss_ddf_aux_0: 0.1266 (0.1281)  loss_mal_aux_1: 0.9580 (0.9430)  loss_bbox_aux_1: 0.2432 (0.2667)  loss_giou_aux_1: 0.6034 (0.6718)  loss_fgl_aux_1: 1.1412 (1.1203)  loss_ddf_aux_1: 0.0045 (0.0049)  loss_mal_pre: 0.9429 (0.9310)  loss_bbox_pre: 0.2549 (0.2759)  loss_giou_pre: 0.6403 (0.7068)  loss_mal_enc_0: 0.9707 (0.9631)  loss_bbox_enc_0: 0.3203 (0.3121)  loss_giou_enc_0: 0.7961 (0.7897)  loss_mal_dn_0: 0.7695 (0.7686)  loss_bbox_dn_0: 0.3035 (0.3052)  loss_giou_dn_0: 0.8404 (0.8771)  loss_fgl_dn_0: 1.1357 (1.1148)  loss_ddf_dn_0: 0.5745 (0.5635)  loss_mal_dn_1: 0.7939 (0.7930)  loss_bbox_dn_1: 0.2487 (0.2615)  loss_giou_dn_1: 0.6810 (0.7273)  loss_fgl_dn_1: 1.1096 (1.1042)  loss_ddf_dn_1: 0.0329 (0.0356)  loss_mal_dn_2: 0.7896 (0.7896)  loss_bbox_dn_2: 0.2446 (0.2558)  loss_giou_dn_2: 0.6616 (0.7073)  loss_fgl_dn_2: 1.1108 (1.1064)  loss_mal_dn_pre: 0.7681 (0.7667)  loss_bbox_dn_pre: 0.3070 (0.3078)  loss_giou_dn_pre: 0.8386 (0.8778)\n"
     ]
    },
    {
     "name": "stderr",
     "output_type": "stream",
     "text": [
      "\u001b[32m2025-03-10 16:27:00.679\u001b[0m | \u001b[1mINFO    \u001b[0m | \u001b[36mdeimkit.trainer\u001b[0m:\u001b[36m_save_checkpoint\u001b[0m:\u001b[36m380\u001b[0m - \u001b[1mCheckpoint saved to outputs/deim_hgnetv2_s_coco_ema_tune/checkpoint0059.pth\u001b[0m\n",
      "\u001b[32m2025-03-10 16:27:00.681\u001b[0m | \u001b[1mINFO    \u001b[0m | \u001b[36mdeimkit.trainer\u001b[0m:\u001b[36mevaluate\u001b[0m:\u001b[36m331\u001b[0m - \u001b[1mEvaluating model...\u001b[0m\n"
     ]
    },
    {
     "name": "stdout",
     "output_type": "stream",
     "text": [
      "Test:  [0/5]  eta: 0:00:04    time: 0.8153  data: 0.7072  max mem: 10532\n"
     ]
    },
    {
     "name": "stderr",
     "output_type": "stream",
     "text": [
      "\u001b[32m2025-03-10 16:27:02.075\u001b[0m | \u001b[1mINFO    \u001b[0m | \u001b[36mdeimkit.trainer\u001b[0m:\u001b[36m_save_checkpoint\u001b[0m:\u001b[36m363\u001b[0m - \u001b[1mSaving checkpoint to outputs/deim_hgnetv2_s_coco_ema_tune/best.pth\u001b[0m\n"
     ]
    },
    {
     "name": "stdout",
     "output_type": "stream",
     "text": [
      "Test:  [4/5]  eta: 0:00:00    time: 0.2603  data: 0.1580  max mem: 10532\n",
      "Test: Total time: 0:00:01 (0.2721 s / it)\n",
      "Averaged stats: \n",
      "Accumulating evaluation results...\n",
      "COCOeval_opt.accumulate() finished...\n",
      "DONE (t=0.02s).\n",
      "IoU metric: bbox\n",
      " Average Precision  (AP) @[ IoU=0.50:0.95 | area=   all | maxDets=100 ] = 0.478\n",
      " Average Precision  (AP) @[ IoU=0.50      | area=   all | maxDets=100 ] = 0.712\n",
      " Average Precision  (AP) @[ IoU=0.75      | area=   all | maxDets=100 ] = 0.553\n",
      " Average Precision  (AP) @[ IoU=0.50:0.95 | area= small | maxDets=100 ] = 0.113\n",
      " Average Precision  (AP) @[ IoU=0.50:0.95 | area=medium | maxDets=100 ] = 0.561\n",
      " Average Precision  (AP) @[ IoU=0.50:0.95 | area= large | maxDets=100 ] = 0.368\n",
      " Average Recall     (AR) @[ IoU=0.50:0.95 | area=   all | maxDets=  1 ] = 0.359\n",
      " Average Recall     (AR) @[ IoU=0.50:0.95 | area=   all | maxDets= 10 ] = 0.630\n",
      " Average Recall     (AR) @[ IoU=0.50:0.95 | area=   all | maxDets=100 ] = 0.739\n",
      " Average Recall     (AR) @[ IoU=0.50:0.95 | area= small | maxDets=100 ] = 0.640\n",
      " Average Recall     (AR) @[ IoU=0.50:0.95 | area=medium | maxDets=100 ] = 0.727\n",
      " Average Recall     (AR) @[ IoU=0.50:0.95 | area= large | maxDets=100 ] = 0.523\n",
      " Average Recall     (AR) @[ IoU=0.50      | area=   all | maxDets=100 ] = 0.986\n",
      " Average Recall     (AR) @[ IoU=0.75      | area=   all | maxDets=100 ] = 0.879\n"
     ]
    },
    {
     "name": "stderr",
     "output_type": "stream",
     "text": [
      "\u001b[32m2025-03-10 16:27:02.455\u001b[0m | \u001b[1mINFO    \u001b[0m | \u001b[36mdeimkit.trainer\u001b[0m:\u001b[36m_save_checkpoint\u001b[0m:\u001b[36m380\u001b[0m - \u001b[1mCheckpoint saved to outputs/deim_hgnetv2_s_coco_ema_tune/best.pth\u001b[0m\n",
      "\u001b[32m2025-03-10 16:27:02.457\u001b[0m | \u001b[1mINFO    \u001b[0m | \u001b[36mdeimkit.trainer\u001b[0m:\u001b[36mtrain\u001b[0m:\u001b[36m312\u001b[0m - \u001b[1mEpoch 59 - Train loss: 24.5187, Eval mAP: 0.4782\u001b[0m\n",
      "\u001b[32m2025-03-10 16:27:02.457\u001b[0m | \u001b[1mINFO    \u001b[0m | \u001b[36mdeimkit.trainer\u001b[0m:\u001b[36mtrain\u001b[0m:\u001b[36m315\u001b[0m - \u001b[1mBest stats: {'epoch': 59, 'coco_eval_bbox': 0.47823972729374853}\u001b[0m\n"
     ]
    },
    {
     "name": "stdout",
     "output_type": "stream",
     "text": [
      "Epoch: [60]  [ 0/15]  eta: 0:00:28  lr: 0.000200  loss: 23.1046 (23.1046)  loss_mal: 0.9927 (0.9927)  loss_bbox: 0.1725 (0.1725)  loss_giou: 0.5082 (0.5082)  loss_fgl: 1.1872 (1.1872)  loss_mal_aux_0: 0.9546 (0.9546)  loss_bbox_aux_0: 0.1802 (0.1802)  loss_giou_aux_0: 0.5380 (0.5380)  loss_fgl_aux_0: 1.1986 (1.1986)  loss_ddf_aux_0: 0.1613 (0.1613)  loss_mal_aux_1: 0.9668 (0.9668)  loss_bbox_aux_1: 0.1726 (0.1726)  loss_giou_aux_1: 0.5084 (0.5084)  loss_fgl_aux_1: 1.1875 (1.1875)  loss_ddf_aux_1: 0.0040 (0.0040)  loss_mal_pre: 0.9502 (0.9502)  loss_bbox_pre: 0.1805 (0.1805)  loss_giou_pre: 0.5380 (0.5380)  loss_mal_enc_0: 1.0244 (1.0244)  loss_bbox_enc_0: 0.2347 (0.2347)  loss_giou_enc_0: 0.6568 (0.6568)  loss_mal_dn_0: 0.7764 (0.7764)  loss_bbox_dn_0: 0.2333 (0.2333)  loss_giou_dn_0: 0.7505 (0.7505)  loss_fgl_dn_0: 1.1739 (1.1739)  loss_ddf_dn_0: 0.6655 (0.6655)  loss_mal_dn_1: 0.7944 (0.7944)  loss_bbox_dn_1: 0.1842 (0.1842)  loss_giou_dn_1: 0.5872 (0.5872)  loss_fgl_dn_1: 1.1468 (1.1468)  loss_ddf_dn_1: 0.0327 (0.0327)  loss_mal_dn_2: 0.7910 (0.7910)  loss_bbox_dn_2: 0.1795 (0.1795)  loss_giou_dn_2: 0.5630 (0.5630)  loss_fgl_dn_2: 1.1480 (1.1480)  loss_mal_dn_pre: 0.7744 (0.7744)  loss_bbox_dn_pre: 0.2365 (0.2365)  loss_giou_dn_pre: 0.7504 (0.7504)  time: 1.8826  data: 1.2873  max mem: 10532\n"
     ]
    },
    {
     "name": "stderr",
     "output_type": "stream",
     "text": [
      "\u001b[32m2025-03-10 16:27:11.232\u001b[0m | \u001b[1mINFO    \u001b[0m | \u001b[36mdeimkit.trainer\u001b[0m:\u001b[36mevaluate\u001b[0m:\u001b[36m331\u001b[0m - \u001b[1mEvaluating model...\u001b[0m\n"
     ]
    },
    {
     "name": "stdout",
     "output_type": "stream",
     "text": [
      "Epoch: [60]  [14/15]  eta: 0:00:00  lr: 0.000200  loss: 24.3823 (24.4688)  loss_mal: 0.9434 (0.9385)  loss_bbox: 0.2508 (0.2539)  loss_giou: 0.6432 (0.6606)  loss_fgl: 1.1356 (1.1391)  loss_mal_aux_0: 0.9546 (0.9398)  loss_bbox_aux_0: 0.2622 (0.2628)  loss_giou_aux_0: 0.6760 (0.6913)  loss_fgl_aux_0: 1.1470 (1.1486)  loss_ddf_aux_0: 0.1511 (0.1517)  loss_mal_aux_1: 0.9517 (0.9465)  loss_bbox_aux_1: 0.2508 (0.2540)  loss_giou_aux_1: 0.6450 (0.6616)  loss_fgl_aux_1: 1.1341 (1.1385)  loss_ddf_aux_1: 0.0040 (0.0041)  loss_mal_pre: 0.9438 (0.9345)  loss_bbox_pre: 0.2641 (0.2632)  loss_giou_pre: 0.6828 (0.6935)  loss_mal_enc_0: 0.9805 (0.9616)  loss_bbox_enc_0: 0.3025 (0.3017)  loss_giou_enc_0: 0.7612 (0.7808)  loss_mal_dn_0: 0.7744 (0.7711)  loss_bbox_dn_0: 0.2917 (0.3001)  loss_giou_dn_0: 0.8527 (0.8674)  loss_fgl_dn_0: 1.1114 (1.1142)  loss_ddf_dn_0: 0.5908 (0.6073)  loss_mal_dn_1: 0.7925 (0.7896)  loss_bbox_dn_1: 0.2651 (0.2550)  loss_giou_dn_1: 0.6982 (0.7162)  loss_fgl_dn_1: 1.0993 (1.1068)  loss_ddf_dn_1: 0.0347 (0.0354)  loss_mal_dn_2: 0.7866 (0.7872)  loss_bbox_dn_2: 0.2563 (0.2484)  loss_giou_dn_2: 0.6778 (0.6928)  loss_fgl_dn_2: 1.1039 (1.1108)  loss_mal_dn_pre: 0.7729 (0.7694)  loss_bbox_dn_pre: 0.2921 (0.3026)  loss_giou_dn_pre: 0.8619 (0.8684)  time: 0.5793  data: 0.1138  max mem: 10532\n",
      "Epoch: [60] Total time: 0:00:08 (0.5836 s / it)\n",
      "Averaged stats: lr: 0.000200  loss: 24.3823 (24.4688)  loss_mal: 0.9434 (0.9385)  loss_bbox: 0.2508 (0.2539)  loss_giou: 0.6432 (0.6606)  loss_fgl: 1.1356 (1.1391)  loss_mal_aux_0: 0.9546 (0.9398)  loss_bbox_aux_0: 0.2622 (0.2628)  loss_giou_aux_0: 0.6760 (0.6913)  loss_fgl_aux_0: 1.1470 (1.1486)  loss_ddf_aux_0: 0.1511 (0.1517)  loss_mal_aux_1: 0.9517 (0.9465)  loss_bbox_aux_1: 0.2508 (0.2540)  loss_giou_aux_1: 0.6450 (0.6616)  loss_fgl_aux_1: 1.1341 (1.1385)  loss_ddf_aux_1: 0.0040 (0.0041)  loss_mal_pre: 0.9438 (0.9345)  loss_bbox_pre: 0.2641 (0.2632)  loss_giou_pre: 0.6828 (0.6935)  loss_mal_enc_0: 0.9805 (0.9616)  loss_bbox_enc_0: 0.3025 (0.3017)  loss_giou_enc_0: 0.7612 (0.7808)  loss_mal_dn_0: 0.7744 (0.7711)  loss_bbox_dn_0: 0.2917 (0.3001)  loss_giou_dn_0: 0.8527 (0.8674)  loss_fgl_dn_0: 1.1114 (1.1142)  loss_ddf_dn_0: 0.5908 (0.6073)  loss_mal_dn_1: 0.7925 (0.7896)  loss_bbox_dn_1: 0.2651 (0.2550)  loss_giou_dn_1: 0.6982 (0.7162)  loss_fgl_dn_1: 1.0993 (1.1068)  loss_ddf_dn_1: 0.0347 (0.0354)  loss_mal_dn_2: 0.7866 (0.7872)  loss_bbox_dn_2: 0.2563 (0.2484)  loss_giou_dn_2: 0.6778 (0.6928)  loss_fgl_dn_2: 1.1039 (1.1108)  loss_mal_dn_pre: 0.7729 (0.7694)  loss_bbox_dn_pre: 0.2921 (0.3026)  loss_giou_dn_pre: 0.8619 (0.8684)\n",
      "Test:  [0/5]  eta: 0:00:03    time: 0.7915  data: 0.6772  max mem: 10532\n"
     ]
    },
    {
     "name": "stderr",
     "output_type": "stream",
     "text": [
      "\u001b[32m2025-03-10 16:27:12.553\u001b[0m | \u001b[1mINFO    \u001b[0m | \u001b[36mdeimkit.trainer\u001b[0m:\u001b[36mtrain\u001b[0m:\u001b[36m312\u001b[0m - \u001b[1mEpoch 60 - Train loss: 24.4688, Eval mAP: 0.4621\u001b[0m\n",
      "\u001b[32m2025-03-10 16:27:12.554\u001b[0m | \u001b[1mINFO    \u001b[0m | \u001b[36mdeimkit.trainer\u001b[0m:\u001b[36mtrain\u001b[0m:\u001b[36m315\u001b[0m - \u001b[1mBest stats: {'epoch': 59, 'coco_eval_bbox': 0.47823972729374853}\u001b[0m\n"
     ]
    },
    {
     "name": "stdout",
     "output_type": "stream",
     "text": [
      "Test:  [4/5]  eta: 0:00:00    time: 0.2468  data: 0.1473  max mem: 10532\n",
      "Test: Total time: 0:00:01 (0.2586 s / it)\n",
      "Averaged stats: \n",
      "Accumulating evaluation results...\n",
      "COCOeval_opt.accumulate() finished...\n",
      "DONE (t=0.02s).\n",
      "IoU metric: bbox\n",
      " Average Precision  (AP) @[ IoU=0.50:0.95 | area=   all | maxDets=100 ] = 0.462\n",
      " Average Precision  (AP) @[ IoU=0.50      | area=   all | maxDets=100 ] = 0.709\n",
      " Average Precision  (AP) @[ IoU=0.75      | area=   all | maxDets=100 ] = 0.524\n",
      " Average Precision  (AP) @[ IoU=0.50:0.95 | area= small | maxDets=100 ] = 0.487\n",
      " Average Precision  (AP) @[ IoU=0.50:0.95 | area=medium | maxDets=100 ] = 0.463\n",
      " Average Precision  (AP) @[ IoU=0.50:0.95 | area= large | maxDets=100 ] = 0.345\n",
      " Average Recall     (AR) @[ IoU=0.50:0.95 | area=   all | maxDets=  1 ] = 0.370\n",
      " Average Recall     (AR) @[ IoU=0.50:0.95 | area=   all | maxDets= 10 ] = 0.615\n",
      " Average Recall     (AR) @[ IoU=0.50:0.95 | area=   all | maxDets=100 ] = 0.728\n",
      " Average Recall     (AR) @[ IoU=0.50:0.95 | area= small | maxDets=100 ] = 0.620\n",
      " Average Recall     (AR) @[ IoU=0.50:0.95 | area=medium | maxDets=100 ] = 0.704\n",
      " Average Recall     (AR) @[ IoU=0.50:0.95 | area= large | maxDets=100 ] = 0.529\n",
      " Average Recall     (AR) @[ IoU=0.50      | area=   all | maxDets=100 ] = 0.985\n",
      " Average Recall     (AR) @[ IoU=0.75      | area=   all | maxDets=100 ] = 0.852\n",
      "Epoch: [61]  [ 0/15]  eta: 0:00:24  lr: 0.000200  loss: 24.1808 (24.1808)  loss_mal: 1.0391 (1.0391)  loss_bbox: 0.2380 (0.2380)  loss_giou: 0.5380 (0.5380)  loss_fgl: 1.1658 (1.1658)  loss_mal_aux_0: 1.0010 (1.0010)  loss_bbox_aux_0: 0.2471 (0.2471)  loss_giou_aux_0: 0.5861 (0.5861)  loss_fgl_aux_0: 1.1830 (1.1830)  loss_ddf_aux_0: 0.1661 (0.1661)  loss_mal_aux_1: 0.9995 (0.9995)  loss_bbox_aux_1: 0.2392 (0.2392)  loss_giou_aux_1: 0.5411 (0.5411)  loss_fgl_aux_1: 1.1664 (1.1664)  loss_ddf_aux_1: 0.0043 (0.0043)  loss_mal_pre: 0.9976 (0.9976)  loss_bbox_pre: 0.2489 (0.2489)  loss_giou_pre: 0.5893 (0.5893)  loss_mal_enc_0: 1.1846 (1.1846)  loss_bbox_enc_0: 0.2816 (0.2816)  loss_giou_enc_0: 0.6574 (0.6574)  loss_mal_dn_0: 0.7769 (0.7769)  loss_bbox_dn_0: 0.2876 (0.2876)  loss_giou_dn_0: 0.7711 (0.7711)  loss_fgl_dn_0: 1.1771 (1.1771)  loss_ddf_dn_0: 0.7070 (0.7070)  loss_mal_dn_1: 0.7910 (0.7910)  loss_bbox_dn_1: 0.2348 (0.2348)  loss_giou_dn_1: 0.5981 (0.5981)  loss_fgl_dn_1: 1.1499 (1.1499)  loss_ddf_dn_1: 0.0367 (0.0367)  loss_mal_dn_2: 0.7896 (0.7896)  loss_bbox_dn_2: 0.2270 (0.2270)  loss_giou_dn_2: 0.5810 (0.5810)  loss_fgl_dn_2: 1.1456 (1.1456)  loss_mal_dn_pre: 0.7749 (0.7749)  loss_bbox_dn_pre: 0.2910 (0.2910)  loss_giou_dn_pre: 0.7677 (0.7677)  time: 1.6578  data: 1.1494  max mem: 10532\n"
     ]
    },
    {
     "name": "stderr",
     "output_type": "stream",
     "text": [
      "\u001b[32m2025-03-10 16:27:20.892\u001b[0m | \u001b[1mINFO    \u001b[0m | \u001b[36mdeimkit.trainer\u001b[0m:\u001b[36mevaluate\u001b[0m:\u001b[36m331\u001b[0m - \u001b[1mEvaluating model...\u001b[0m\n"
     ]
    },
    {
     "name": "stdout",
     "output_type": "stream",
     "text": [
      "Epoch: [61]  [14/15]  eta: 0:00:00  lr: 0.000200  loss: 24.2302 (24.4629)  loss_mal: 0.9238 (0.9457)  loss_bbox: 0.2443 (0.2698)  loss_giou: 0.6137 (0.6570)  loss_fgl: 1.1323 (1.1243)  loss_mal_aux_0: 0.9126 (0.9343)  loss_bbox_aux_0: 0.2503 (0.2794)  loss_giou_aux_0: 0.6427 (0.6883)  loss_fgl_aux_0: 1.1413 (1.1331)  loss_ddf_aux_0: 0.1182 (0.1273)  loss_mal_aux_1: 0.9106 (0.9366)  loss_bbox_aux_1: 0.2447 (0.2701)  loss_giou_aux_1: 0.6150 (0.6583)  loss_fgl_aux_1: 1.1329 (1.1244)  loss_ddf_aux_1: 0.0041 (0.0042)  loss_mal_pre: 0.9062 (0.9299)  loss_bbox_pre: 0.2515 (0.2799)  loss_giou_pre: 0.6475 (0.6902)  loss_mal_enc_0: 0.9551 (0.9736)  loss_bbox_enc_0: 0.3263 (0.3160)  loss_giou_enc_0: 0.7900 (0.7704)  loss_mal_dn_0: 0.7734 (0.7711)  loss_bbox_dn_0: 0.2980 (0.3139)  loss_giou_dn_0: 0.7988 (0.8500)  loss_fgl_dn_0: 1.1506 (1.1277)  loss_ddf_dn_0: 0.5520 (0.6152)  loss_mal_dn_1: 0.7935 (0.7922)  loss_bbox_dn_1: 0.2388 (0.2649)  loss_giou_dn_1: 0.6337 (0.6950)  loss_fgl_dn_1: 1.1178 (1.1133)  loss_ddf_dn_1: 0.0338 (0.0351)  loss_mal_dn_2: 0.7886 (0.7893)  loss_bbox_dn_2: 0.2274 (0.2578)  loss_giou_dn_2: 0.6170 (0.6742)  loss_fgl_dn_2: 1.1210 (1.1141)  loss_mal_dn_pre: 0.7715 (0.7693)  loss_bbox_dn_pre: 0.2997 (0.3161)  loss_giou_dn_pre: 0.8041 (0.8511)  time: 0.5499  data: 0.0993  max mem: 10532\n",
      "Epoch: [61] Total time: 0:00:08 (0.5546 s / it)\n",
      "Averaged stats: lr: 0.000200  loss: 24.2302 (24.4629)  loss_mal: 0.9238 (0.9457)  loss_bbox: 0.2443 (0.2698)  loss_giou: 0.6137 (0.6570)  loss_fgl: 1.1323 (1.1243)  loss_mal_aux_0: 0.9126 (0.9343)  loss_bbox_aux_0: 0.2503 (0.2794)  loss_giou_aux_0: 0.6427 (0.6883)  loss_fgl_aux_0: 1.1413 (1.1331)  loss_ddf_aux_0: 0.1182 (0.1273)  loss_mal_aux_1: 0.9106 (0.9366)  loss_bbox_aux_1: 0.2447 (0.2701)  loss_giou_aux_1: 0.6150 (0.6583)  loss_fgl_aux_1: 1.1329 (1.1244)  loss_ddf_aux_1: 0.0041 (0.0042)  loss_mal_pre: 0.9062 (0.9299)  loss_bbox_pre: 0.2515 (0.2799)  loss_giou_pre: 0.6475 (0.6902)  loss_mal_enc_0: 0.9551 (0.9736)  loss_bbox_enc_0: 0.3263 (0.3160)  loss_giou_enc_0: 0.7900 (0.7704)  loss_mal_dn_0: 0.7734 (0.7711)  loss_bbox_dn_0: 0.2980 (0.3139)  loss_giou_dn_0: 0.7988 (0.8500)  loss_fgl_dn_0: 1.1506 (1.1277)  loss_ddf_dn_0: 0.5520 (0.6152)  loss_mal_dn_1: 0.7935 (0.7922)  loss_bbox_dn_1: 0.2388 (0.2649)  loss_giou_dn_1: 0.6337 (0.6950)  loss_fgl_dn_1: 1.1178 (1.1133)  loss_ddf_dn_1: 0.0338 (0.0351)  loss_mal_dn_2: 0.7886 (0.7893)  loss_bbox_dn_2: 0.2274 (0.2578)  loss_giou_dn_2: 0.6170 (0.6742)  loss_fgl_dn_2: 1.1210 (1.1141)  loss_mal_dn_pre: 0.7715 (0.7693)  loss_bbox_dn_pre: 0.2997 (0.3161)  loss_giou_dn_pre: 0.8041 (0.8511)\n",
      "Test:  [0/5]  eta: 0:00:04    time: 0.9450  data: 0.6759  max mem: 10532\n"
     ]
    },
    {
     "name": "stderr",
     "output_type": "stream",
     "text": [
      "\u001b[32m2025-03-10 16:27:22.381\u001b[0m | \u001b[1mINFO    \u001b[0m | \u001b[36mdeimkit.trainer\u001b[0m:\u001b[36m_save_checkpoint\u001b[0m:\u001b[36m363\u001b[0m - \u001b[1mSaving checkpoint to outputs/deim_hgnetv2_s_coco_ema_tune/best.pth\u001b[0m\n"
     ]
    },
    {
     "name": "stdout",
     "output_type": "stream",
     "text": [
      "Test:  [4/5]  eta: 0:00:00    time: 0.2786  data: 0.1470  max mem: 10532\n",
      "Test: Total time: 0:00:01 (0.2926 s / it)\n",
      "Averaged stats: \n",
      "Accumulating evaluation results...\n",
      "COCOeval_opt.accumulate() finished...\n",
      "DONE (t=0.02s).\n",
      "IoU metric: bbox\n",
      " Average Precision  (AP) @[ IoU=0.50:0.95 | area=   all | maxDets=100 ] = 0.523\n",
      " Average Precision  (AP) @[ IoU=0.50      | area=   all | maxDets=100 ] = 0.772\n",
      " Average Precision  (AP) @[ IoU=0.75      | area=   all | maxDets=100 ] = 0.609\n",
      " Average Precision  (AP) @[ IoU=0.50:0.95 | area= small | maxDets=100 ] = 0.270\n",
      " Average Precision  (AP) @[ IoU=0.50:0.95 | area=medium | maxDets=100 ] = 0.550\n",
      " Average Precision  (AP) @[ IoU=0.50:0.95 | area= large | maxDets=100 ] = 0.405\n",
      " Average Recall     (AR) @[ IoU=0.50:0.95 | area=   all | maxDets=  1 ] = 0.386\n",
      " Average Recall     (AR) @[ IoU=0.50:0.95 | area=   all | maxDets= 10 ] = 0.638\n",
      " Average Recall     (AR) @[ IoU=0.50:0.95 | area=   all | maxDets=100 ] = 0.750\n",
      " Average Recall     (AR) @[ IoU=0.50:0.95 | area= small | maxDets=100 ] = 0.620\n",
      " Average Recall     (AR) @[ IoU=0.50:0.95 | area=medium | maxDets=100 ] = 0.726\n",
      " Average Recall     (AR) @[ IoU=0.50:0.95 | area= large | maxDets=100 ] = 0.803\n",
      " Average Recall     (AR) @[ IoU=0.50      | area=   all | maxDets=100 ] = 0.994\n",
      " Average Recall     (AR) @[ IoU=0.75      | area=   all | maxDets=100 ] = 0.892\n"
     ]
    },
    {
     "name": "stderr",
     "output_type": "stream",
     "text": [
      "\u001b[32m2025-03-10 16:27:22.722\u001b[0m | \u001b[1mINFO    \u001b[0m | \u001b[36mdeimkit.trainer\u001b[0m:\u001b[36m_save_checkpoint\u001b[0m:\u001b[36m380\u001b[0m - \u001b[1mCheckpoint saved to outputs/deim_hgnetv2_s_coco_ema_tune/best.pth\u001b[0m\n",
      "\u001b[32m2025-03-10 16:27:22.724\u001b[0m | \u001b[1mINFO    \u001b[0m | \u001b[36mdeimkit.trainer\u001b[0m:\u001b[36mtrain\u001b[0m:\u001b[36m312\u001b[0m - \u001b[1mEpoch 61 - Train loss: 24.4629, Eval mAP: 0.5234\u001b[0m\n",
      "\u001b[32m2025-03-10 16:27:22.724\u001b[0m | \u001b[1mINFO    \u001b[0m | \u001b[36mdeimkit.trainer\u001b[0m:\u001b[36mtrain\u001b[0m:\u001b[36m315\u001b[0m - \u001b[1mBest stats: {'epoch': 61, 'coco_eval_bbox': 0.5234004821122686}\u001b[0m\n"
     ]
    },
    {
     "name": "stdout",
     "output_type": "stream",
     "text": [
      "Epoch: [62]  [ 0/15]  eta: 0:00:31  lr: 0.000200  loss: 25.1703 (25.1703)  loss_mal: 0.8848 (0.8848)  loss_bbox: 0.3217 (0.3217)  loss_giou: 0.7503 (0.7503)  loss_fgl: 1.1482 (1.1482)  loss_mal_aux_0: 0.8975 (0.8975)  loss_bbox_aux_0: 0.3286 (0.3286)  loss_giou_aux_0: 0.7642 (0.7642)  loss_fgl_aux_0: 1.1391 (1.1391)  loss_ddf_aux_0: 0.1256 (0.1256)  loss_mal_aux_1: 0.8818 (0.8818)  loss_bbox_aux_1: 0.3219 (0.3219)  loss_giou_aux_1: 0.7502 (0.7502)  loss_fgl_aux_1: 1.1463 (1.1463)  loss_ddf_aux_1: 0.0052 (0.0052)  loss_mal_pre: 0.8931 (0.8931)  loss_bbox_pre: 0.3303 (0.3303)  loss_giou_pre: 0.7661 (0.7661)  loss_mal_enc_0: 0.9272 (0.9272)  loss_bbox_enc_0: 0.3512 (0.3512)  loss_giou_enc_0: 0.8128 (0.8128)  loss_mal_dn_0: 0.7666 (0.7666)  loss_bbox_dn_0: 0.3345 (0.3345)  loss_giou_dn_0: 0.9008 (0.9008)  loss_fgl_dn_0: 1.0960 (1.0960)  loss_ddf_dn_0: 0.5847 (0.5847)  loss_mal_dn_1: 0.7866 (0.7866)  loss_bbox_dn_1: 0.2943 (0.2943)  loss_giou_dn_1: 0.7657 (0.7657)  loss_fgl_dn_1: 1.1026 (1.1026)  loss_ddf_dn_1: 0.0397 (0.0397)  loss_mal_dn_2: 0.7881 (0.7881)  loss_bbox_dn_2: 0.2925 (0.2925)  loss_giou_dn_2: 0.7531 (0.7531)  loss_fgl_dn_2: 1.1067 (1.1067)  loss_mal_dn_pre: 0.7642 (0.7642)  loss_bbox_dn_pre: 0.3375 (0.3375)  loss_giou_dn_pre: 0.9107 (0.9107)  time: 2.1007  data: 1.5115  max mem: 10532\n"
     ]
    },
    {
     "name": "stderr",
     "output_type": "stream",
     "text": [
      "\u001b[32m2025-03-10 16:27:31.283\u001b[0m | \u001b[1mINFO    \u001b[0m | \u001b[36mdeimkit.trainer\u001b[0m:\u001b[36mevaluate\u001b[0m:\u001b[36m331\u001b[0m - \u001b[1mEvaluating model...\u001b[0m\n"
     ]
    },
    {
     "name": "stdout",
     "output_type": "stream",
     "text": [
      "Epoch: [62]  [14/15]  eta: 0:00:00  lr: 0.000200  loss: 23.6246 (24.0409)  loss_mal: 0.9307 (0.9327)  loss_bbox: 0.2237 (0.2344)  loss_giou: 0.5901 (0.6272)  loss_fgl: 1.1440 (1.1409)  loss_mal_aux_0: 0.9077 (0.9275)  loss_bbox_aux_0: 0.2347 (0.2427)  loss_giou_aux_0: 0.6278 (0.6578)  loss_fgl_aux_0: 1.1459 (1.1486)  loss_ddf_aux_0: 0.1480 (0.1375)  loss_mal_aux_1: 0.9219 (0.9309)  loss_bbox_aux_1: 0.2244 (0.2348)  loss_giou_aux_1: 0.5919 (0.6289)  loss_fgl_aux_1: 1.1440 (1.1407)  loss_ddf_aux_1: 0.0052 (0.0056)  loss_mal_pre: 0.9048 (0.9234)  loss_bbox_pre: 0.2366 (0.2432)  loss_giou_pre: 0.6297 (0.6612)  loss_mal_enc_0: 0.9429 (0.9512)  loss_bbox_enc_0: 0.2980 (0.2827)  loss_giou_enc_0: 0.7971 (0.7603)  loss_mal_dn_0: 0.7666 (0.7695)  loss_bbox_dn_0: 0.2836 (0.2857)  loss_giou_dn_0: 0.7915 (0.8345)  loss_fgl_dn_0: 1.1478 (1.1317)  loss_ddf_dn_0: 0.6543 (0.6598)  loss_mal_dn_1: 0.7866 (0.7873)  loss_bbox_dn_1: 0.2351 (0.2387)  loss_giou_dn_1: 0.6133 (0.6783)  loss_fgl_dn_1: 1.1193 (1.1138)  loss_ddf_dn_1: 0.0420 (0.0404)  loss_mal_dn_2: 0.7915 (0.7916)  loss_bbox_dn_2: 0.2259 (0.2311)  loss_giou_dn_2: 0.5892 (0.6578)  loss_fgl_dn_2: 1.1153 (1.1147)  loss_mal_dn_pre: 0.7642 (0.7674)  loss_bbox_dn_pre: 0.2900 (0.2878)  loss_giou_dn_pre: 0.7778 (0.8384)  time: 0.5644  data: 0.1166  max mem: 10532\n",
      "Epoch: [62] Total time: 0:00:08 (0.5691 s / it)\n",
      "Averaged stats: lr: 0.000200  loss: 23.6246 (24.0409)  loss_mal: 0.9307 (0.9327)  loss_bbox: 0.2237 (0.2344)  loss_giou: 0.5901 (0.6272)  loss_fgl: 1.1440 (1.1409)  loss_mal_aux_0: 0.9077 (0.9275)  loss_bbox_aux_0: 0.2347 (0.2427)  loss_giou_aux_0: 0.6278 (0.6578)  loss_fgl_aux_0: 1.1459 (1.1486)  loss_ddf_aux_0: 0.1480 (0.1375)  loss_mal_aux_1: 0.9219 (0.9309)  loss_bbox_aux_1: 0.2244 (0.2348)  loss_giou_aux_1: 0.5919 (0.6289)  loss_fgl_aux_1: 1.1440 (1.1407)  loss_ddf_aux_1: 0.0052 (0.0056)  loss_mal_pre: 0.9048 (0.9234)  loss_bbox_pre: 0.2366 (0.2432)  loss_giou_pre: 0.6297 (0.6612)  loss_mal_enc_0: 0.9429 (0.9512)  loss_bbox_enc_0: 0.2980 (0.2827)  loss_giou_enc_0: 0.7971 (0.7603)  loss_mal_dn_0: 0.7666 (0.7695)  loss_bbox_dn_0: 0.2836 (0.2857)  loss_giou_dn_0: 0.7915 (0.8345)  loss_fgl_dn_0: 1.1478 (1.1317)  loss_ddf_dn_0: 0.6543 (0.6598)  loss_mal_dn_1: 0.7866 (0.7873)  loss_bbox_dn_1: 0.2351 (0.2387)  loss_giou_dn_1: 0.6133 (0.6783)  loss_fgl_dn_1: 1.1193 (1.1138)  loss_ddf_dn_1: 0.0420 (0.0404)  loss_mal_dn_2: 0.7915 (0.7916)  loss_bbox_dn_2: 0.2259 (0.2311)  loss_giou_dn_2: 0.5892 (0.6578)  loss_fgl_dn_2: 1.1153 (1.1147)  loss_mal_dn_pre: 0.7642 (0.7674)  loss_bbox_dn_pre: 0.2900 (0.2878)  loss_giou_dn_pre: 0.7778 (0.8384)\n",
      "Test:  [0/5]  eta: 0:00:04    time: 0.9557  data: 0.6843  max mem: 10532\n"
     ]
    },
    {
     "name": "stderr",
     "output_type": "stream",
     "text": [
      "\u001b[32m2025-03-10 16:27:32.776\u001b[0m | \u001b[1mINFO    \u001b[0m | \u001b[36mdeimkit.trainer\u001b[0m:\u001b[36mtrain\u001b[0m:\u001b[36m312\u001b[0m - \u001b[1mEpoch 62 - Train loss: 24.0409, Eval mAP: 0.5169\u001b[0m\n",
      "\u001b[32m2025-03-10 16:27:32.777\u001b[0m | \u001b[1mINFO    \u001b[0m | \u001b[36mdeimkit.trainer\u001b[0m:\u001b[36mtrain\u001b[0m:\u001b[36m315\u001b[0m - \u001b[1mBest stats: {'epoch': 61, 'coco_eval_bbox': 0.5234004821122686}\u001b[0m\n"
     ]
    },
    {
     "name": "stdout",
     "output_type": "stream",
     "text": [
      "Test:  [4/5]  eta: 0:00:00    time: 0.2783  data: 0.1462  max mem: 10532\n",
      "Test: Total time: 0:00:01 (0.2929 s / it)\n",
      "Averaged stats: \n",
      "Accumulating evaluation results...\n",
      "COCOeval_opt.accumulate() finished...\n",
      "DONE (t=0.02s).\n",
      "IoU metric: bbox\n",
      " Average Precision  (AP) @[ IoU=0.50:0.95 | area=   all | maxDets=100 ] = 0.517\n",
      " Average Precision  (AP) @[ IoU=0.50      | area=   all | maxDets=100 ] = 0.769\n",
      " Average Precision  (AP) @[ IoU=0.75      | area=   all | maxDets=100 ] = 0.589\n",
      " Average Precision  (AP) @[ IoU=0.50:0.95 | area= small | maxDets=100 ] = 0.377\n",
      " Average Precision  (AP) @[ IoU=0.50:0.95 | area=medium | maxDets=100 ] = 0.586\n",
      " Average Precision  (AP) @[ IoU=0.50:0.95 | area= large | maxDets=100 ] = 0.405\n",
      " Average Recall     (AR) @[ IoU=0.50:0.95 | area=   all | maxDets=  1 ] = 0.386\n",
      " Average Recall     (AR) @[ IoU=0.50:0.95 | area=   all | maxDets= 10 ] = 0.630\n",
      " Average Recall     (AR) @[ IoU=0.50:0.95 | area=   all | maxDets=100 ] = 0.750\n",
      " Average Recall     (AR) @[ IoU=0.50:0.95 | area= small | maxDets=100 ] = 0.720\n",
      " Average Recall     (AR) @[ IoU=0.50:0.95 | area=medium | maxDets=100 ] = 0.757\n",
      " Average Recall     (AR) @[ IoU=0.50:0.95 | area= large | maxDets=100 ] = 0.800\n",
      " Average Recall     (AR) @[ IoU=0.50      | area=   all | maxDets=100 ] = 0.990\n",
      " Average Recall     (AR) @[ IoU=0.75      | area=   all | maxDets=100 ] = 0.894\n",
      "Epoch: [63]  [ 0/15]  eta: 0:00:26  lr: 0.000200  loss: 22.7390 (22.7390)  loss_mal: 0.9248 (0.9248)  loss_bbox: 0.1640 (0.1640)  loss_giou: 0.5037 (0.5037)  loss_fgl: 1.1857 (1.1857)  loss_mal_aux_0: 0.9292 (0.9292)  loss_bbox_aux_0: 0.1721 (0.1721)  loss_giou_aux_0: 0.5283 (0.5283)  loss_fgl_aux_0: 1.1945 (1.1945)  loss_ddf_aux_0: 0.0940 (0.0940)  loss_mal_aux_1: 0.9165 (0.9165)  loss_bbox_aux_1: 0.1642 (0.1642)  loss_giou_aux_1: 0.5015 (0.5015)  loss_fgl_aux_1: 1.1865 (1.1865)  loss_ddf_aux_1: 0.0049 (0.0049)  loss_mal_pre: 0.9219 (0.9219)  loss_bbox_pre: 0.1719 (0.1719)  loss_giou_pre: 0.5265 (0.5265)  loss_mal_enc_0: 0.9658 (0.9658)  loss_bbox_enc_0: 0.1989 (0.1989)  loss_giou_enc_0: 0.6002 (0.6002)  loss_mal_dn_0: 0.7764 (0.7764)  loss_bbox_dn_0: 0.2350 (0.2350)  loss_giou_dn_0: 0.7663 (0.7663)  loss_fgl_dn_0: 1.1721 (1.1721)  loss_ddf_dn_0: 0.6707 (0.6707)  loss_mal_dn_1: 0.8022 (0.8022)  loss_bbox_dn_1: 0.1857 (0.1857)  loss_giou_dn_1: 0.6019 (0.6019)  loss_fgl_dn_1: 1.1521 (1.1521)  loss_ddf_dn_1: 0.0411 (0.0411)  loss_mal_dn_2: 0.8057 (0.8057)  loss_bbox_dn_2: 0.1775 (0.1775)  loss_giou_dn_2: 0.5782 (0.5782)  loss_fgl_dn_2: 1.1520 (1.1520)  loss_mal_dn_pre: 0.7754 (0.7754)  loss_bbox_dn_pre: 0.2365 (0.2365)  loss_giou_dn_pre: 0.7551 (0.7551)  time: 1.7376  data: 1.1956  max mem: 10532\n"
     ]
    },
    {
     "name": "stderr",
     "output_type": "stream",
     "text": [
      "\u001b[32m2025-03-10 16:27:41.176\u001b[0m | \u001b[1mINFO    \u001b[0m | \u001b[36mdeimkit.trainer\u001b[0m:\u001b[36m_save_checkpoint\u001b[0m:\u001b[36m363\u001b[0m - \u001b[1mSaving checkpoint to outputs/deim_hgnetv2_s_coco_ema_tune/checkpoint0063.pth\u001b[0m\n"
     ]
    },
    {
     "name": "stdout",
     "output_type": "stream",
     "text": [
      "Epoch: [63]  [14/15]  eta: 0:00:00  lr: 0.000200  loss: 24.3283 (24.2630)  loss_mal: 0.9390 (0.9372)  loss_bbox: 0.2447 (0.2553)  loss_giou: 0.6275 (0.6215)  loss_fgl: 1.1568 (1.1468)  loss_mal_aux_0: 0.9292 (0.9370)  loss_bbox_aux_0: 0.2656 (0.2642)  loss_giou_aux_0: 0.6499 (0.6520)  loss_fgl_aux_0: 1.1579 (1.1550)  loss_ddf_aux_0: 0.1213 (0.1220)  loss_mal_aux_1: 0.9341 (0.9294)  loss_bbox_aux_1: 0.2460 (0.2552)  loss_giou_aux_1: 0.6265 (0.6224)  loss_fgl_aux_1: 1.1562 (1.1477)  loss_ddf_aux_1: 0.0049 (0.0051)  loss_mal_pre: 0.9229 (0.9316)  loss_bbox_pre: 0.2654 (0.2648)  loss_giou_pre: 0.6555 (0.6554)  loss_mal_enc_0: 0.9805 (0.9848)  loss_bbox_enc_0: 0.3132 (0.2947)  loss_giou_enc_0: 0.7072 (0.7341)  loss_mal_dn_0: 0.7729 (0.7728)  loss_bbox_dn_0: 0.2858 (0.3106)  loss_giou_dn_0: 0.7935 (0.8316)  loss_fgl_dn_0: 1.1450 (1.1398)  loss_ddf_dn_0: 0.6707 (0.6700)  loss_mal_dn_1: 0.7764 (0.7793)  loss_bbox_dn_1: 0.2290 (0.2663)  loss_giou_dn_1: 0.6554 (0.6811)  loss_fgl_dn_1: 1.1237 (1.1217)  loss_ddf_dn_1: 0.0371 (0.0385)  loss_mal_dn_2: 0.7754 (0.7791)  loss_bbox_dn_2: 0.2186 (0.2581)  loss_giou_dn_2: 0.6281 (0.6592)  loss_fgl_dn_2: 1.1262 (1.1240)  loss_mal_dn_pre: 0.7725 (0.7722)  loss_bbox_dn_pre: 0.2859 (0.3124)  loss_giou_dn_pre: 0.7933 (0.8296)  time: 0.5542  data: 0.1009  max mem: 10532\n",
      "Epoch: [63] Total time: 0:00:08 (0.5586 s / it)\n",
      "Averaged stats: lr: 0.000200  loss: 24.3283 (24.2630)  loss_mal: 0.9390 (0.9372)  loss_bbox: 0.2447 (0.2553)  loss_giou: 0.6275 (0.6215)  loss_fgl: 1.1568 (1.1468)  loss_mal_aux_0: 0.9292 (0.9370)  loss_bbox_aux_0: 0.2656 (0.2642)  loss_giou_aux_0: 0.6499 (0.6520)  loss_fgl_aux_0: 1.1579 (1.1550)  loss_ddf_aux_0: 0.1213 (0.1220)  loss_mal_aux_1: 0.9341 (0.9294)  loss_bbox_aux_1: 0.2460 (0.2552)  loss_giou_aux_1: 0.6265 (0.6224)  loss_fgl_aux_1: 1.1562 (1.1477)  loss_ddf_aux_1: 0.0049 (0.0051)  loss_mal_pre: 0.9229 (0.9316)  loss_bbox_pre: 0.2654 (0.2648)  loss_giou_pre: 0.6555 (0.6554)  loss_mal_enc_0: 0.9805 (0.9848)  loss_bbox_enc_0: 0.3132 (0.2947)  loss_giou_enc_0: 0.7072 (0.7341)  loss_mal_dn_0: 0.7729 (0.7728)  loss_bbox_dn_0: 0.2858 (0.3106)  loss_giou_dn_0: 0.7935 (0.8316)  loss_fgl_dn_0: 1.1450 (1.1398)  loss_ddf_dn_0: 0.6707 (0.6700)  loss_mal_dn_1: 0.7764 (0.7793)  loss_bbox_dn_1: 0.2290 (0.2663)  loss_giou_dn_1: 0.6554 (0.6811)  loss_fgl_dn_1: 1.1237 (1.1217)  loss_ddf_dn_1: 0.0371 (0.0385)  loss_mal_dn_2: 0.7754 (0.7791)  loss_bbox_dn_2: 0.2186 (0.2581)  loss_giou_dn_2: 0.6281 (0.6592)  loss_fgl_dn_2: 1.1262 (1.1240)  loss_mal_dn_pre: 0.7725 (0.7722)  loss_bbox_dn_pre: 0.2859 (0.3124)  loss_giou_dn_pre: 0.7933 (0.8296)\n"
     ]
    },
    {
     "name": "stderr",
     "output_type": "stream",
     "text": [
      "\u001b[32m2025-03-10 16:27:41.632\u001b[0m | \u001b[1mINFO    \u001b[0m | \u001b[36mdeimkit.trainer\u001b[0m:\u001b[36m_save_checkpoint\u001b[0m:\u001b[36m380\u001b[0m - \u001b[1mCheckpoint saved to outputs/deim_hgnetv2_s_coco_ema_tune/checkpoint0063.pth\u001b[0m\n",
      "\u001b[32m2025-03-10 16:27:41.633\u001b[0m | \u001b[1mINFO    \u001b[0m | \u001b[36mdeimkit.trainer\u001b[0m:\u001b[36mevaluate\u001b[0m:\u001b[36m331\u001b[0m - \u001b[1mEvaluating model...\u001b[0m\n"
     ]
    },
    {
     "name": "stdout",
     "output_type": "stream",
     "text": [
      "Test:  [0/5]  eta: 0:00:03    time: 0.7662  data: 0.6558  max mem: 10532\n"
     ]
    },
    {
     "name": "stderr",
     "output_type": "stream",
     "text": [
      "\u001b[32m2025-03-10 16:27:42.928\u001b[0m | \u001b[1mINFO    \u001b[0m | \u001b[36mdeimkit.trainer\u001b[0m:\u001b[36mtrain\u001b[0m:\u001b[36m312\u001b[0m - \u001b[1mEpoch 63 - Train loss: 24.2630, Eval mAP: 0.4948\u001b[0m\n",
      "\u001b[32m2025-03-10 16:27:42.929\u001b[0m | \u001b[1mINFO    \u001b[0m | \u001b[36mdeimkit.trainer\u001b[0m:\u001b[36mtrain\u001b[0m:\u001b[36m315\u001b[0m - \u001b[1mBest stats: {'epoch': 61, 'coco_eval_bbox': 0.5234004821122686}\u001b[0m\n"
     ]
    },
    {
     "name": "stdout",
     "output_type": "stream",
     "text": [
      "Test:  [4/5]  eta: 0:00:00    time: 0.2413  data: 0.1423  max mem: 10532\n",
      "Test: Total time: 0:00:01 (0.2536 s / it)\n",
      "Averaged stats: \n",
      "Accumulating evaluation results...\n",
      "COCOeval_opt.accumulate() finished...\n",
      "DONE (t=0.02s).\n",
      "IoU metric: bbox\n",
      " Average Precision  (AP) @[ IoU=0.50:0.95 | area=   all | maxDets=100 ] = 0.495\n",
      " Average Precision  (AP) @[ IoU=0.50      | area=   all | maxDets=100 ] = 0.779\n",
      " Average Precision  (AP) @[ IoU=0.75      | area=   all | maxDets=100 ] = 0.594\n",
      " Average Precision  (AP) @[ IoU=0.50:0.95 | area= small | maxDets=100 ] = 0.315\n",
      " Average Precision  (AP) @[ IoU=0.50:0.95 | area=medium | maxDets=100 ] = 0.516\n",
      " Average Precision  (AP) @[ IoU=0.50:0.95 | area= large | maxDets=100 ] = 0.368\n",
      " Average Recall     (AR) @[ IoU=0.50:0.95 | area=   all | maxDets=  1 ] = 0.349\n",
      " Average Recall     (AR) @[ IoU=0.50:0.95 | area=   all | maxDets= 10 ] = 0.624\n",
      " Average Recall     (AR) @[ IoU=0.50:0.95 | area=   all | maxDets=100 ] = 0.726\n",
      " Average Recall     (AR) @[ IoU=0.50:0.95 | area= small | maxDets=100 ] = 0.620\n",
      " Average Recall     (AR) @[ IoU=0.50:0.95 | area=medium | maxDets=100 ] = 0.679\n",
      " Average Recall     (AR) @[ IoU=0.50:0.95 | area= large | maxDets=100 ] = 0.518\n",
      " Average Recall     (AR) @[ IoU=0.50      | area=   all | maxDets=100 ] = 0.994\n",
      " Average Recall     (AR) @[ IoU=0.75      | area=   all | maxDets=100 ] = 0.881\n",
      "     ### Attention --- Mixup is closed after epoch@ 64 ###\n",
      "     ### Attention --- Mixup is closed after epoch@ 64 ###\n",
      "     ### Attention --- Mixup is closed after epoch@ 64 ###\n",
      "     ### Attention --- Mixup is closed after epoch@ 64 ###\n",
      "Epoch: [64]  [ 0/15]  eta: 0:00:25  lr: 0.000200  loss: 25.5618 (25.5618)  loss_mal: 1.3916 (1.3916)  loss_bbox: 0.2190 (0.2190)  loss_giou: 0.4580 (0.4580)  loss_fgl: 1.2250 (1.2250)  loss_mal_aux_0: 1.2344 (1.2344)  loss_bbox_aux_0: 0.2486 (0.2486)  loss_giou_aux_0: 0.5039 (0.5039)  loss_fgl_aux_0: 1.2417 (1.2417)  loss_ddf_aux_0: 0.1617 (0.1617)  loss_mal_aux_1: 1.3066 (1.3066)  loss_bbox_aux_1: 0.2223 (0.2223)  loss_giou_aux_1: 0.4596 (0.4596)  loss_fgl_aux_1: 1.2258 (1.2258)  loss_ddf_aux_1: 0.0072 (0.0072)  loss_mal_pre: 1.2227 (1.2227)  loss_bbox_pre: 0.2440 (0.2440)  loss_giou_pre: 0.5019 (0.5019)  loss_mal_enc_0: 1.3867 (1.3867)  loss_bbox_enc_0: 0.3048 (0.3048)  loss_giou_enc_0: 0.6081 (0.6081)  loss_mal_dn_0: 0.7778 (0.7778)  loss_bbox_dn_0: 0.3900 (0.3900)  loss_giou_dn_0: 0.7661 (0.7661)  loss_fgl_dn_0: 1.1649 (1.1649)  loss_ddf_dn_0: 0.6811 (0.6811)  loss_mal_dn_1: 0.7861 (0.7861)  loss_bbox_dn_1: 0.3112 (0.3112)  loss_giou_dn_1: 0.5929 (0.5929)  loss_fgl_dn_1: 1.1344 (1.1344)  loss_ddf_dn_1: 0.0381 (0.0381)  loss_mal_dn_2: 0.7852 (0.7852)  loss_bbox_dn_2: 0.2998 (0.2998)  loss_giou_dn_2: 0.5721 (0.5721)  loss_fgl_dn_2: 1.1343 (1.1343)  loss_mal_dn_pre: 0.7725 (0.7725)  loss_bbox_dn_pre: 0.3985 (0.3985)  loss_giou_dn_pre: 0.7832 (0.7832)  time: 1.6953  data: 1.1592  max mem: 10532\n"
     ]
    },
    {
     "name": "stderr",
     "output_type": "stream",
     "text": [
      "\u001b[32m2025-03-10 16:27:50.567\u001b[0m | \u001b[1mINFO    \u001b[0m | \u001b[36mdeimkit.trainer\u001b[0m:\u001b[36mevaluate\u001b[0m:\u001b[36m331\u001b[0m - \u001b[1mEvaluating model...\u001b[0m\n"
     ]
    },
    {
     "name": "stdout",
     "output_type": "stream",
     "text": [
      "Epoch: [64]  [14/15]  eta: 0:00:00  lr: 0.000200  loss: 25.1998 (25.1281)  loss_mal: 1.1328 (1.1666)  loss_bbox: 0.2613 (0.2566)  loss_giou: 0.4570 (0.4491)  loss_fgl: 1.2069 (1.2063)  loss_mal_aux_0: 1.0986 (1.1337)  loss_bbox_aux_0: 0.3019 (0.2908)  loss_giou_aux_0: 0.5039 (0.4983)  loss_fgl_aux_0: 1.2292 (1.2255)  loss_ddf_aux_0: 0.1446 (0.1431)  loss_mal_aux_1: 1.1543 (1.1667)  loss_bbox_aux_1: 0.2642 (0.2588)  loss_giou_aux_1: 0.4557 (0.4515)  loss_fgl_aux_1: 1.2101 (1.2073)  loss_ddf_aux_1: 0.0069 (0.0070)  loss_mal_pre: 1.0967 (1.1293)  loss_bbox_pre: 0.3043 (0.2909)  loss_giou_pre: 0.5019 (0.5013)  loss_mal_enc_0: 1.1963 (1.2026)  loss_bbox_enc_0: 0.3766 (0.3811)  loss_giou_enc_0: 0.6081 (0.6269)  loss_mal_dn_0: 0.7822 (0.7854)  loss_bbox_dn_0: 0.4234 (0.4391)  loss_giou_dn_0: 0.7661 (0.7608)  loss_fgl_dn_0: 1.1859 (1.1820)  loss_ddf_dn_0: 0.6362 (0.6373)  loss_mal_dn_1: 0.7964 (0.7992)  loss_bbox_dn_1: 0.3112 (0.3443)  loss_giou_dn_1: 0.5644 (0.5780)  loss_fgl_dn_1: 1.1526 (1.1500)  loss_ddf_dn_1: 0.0423 (0.0439)  loss_mal_dn_2: 0.7886 (0.7875)  loss_bbox_dn_2: 0.2998 (0.3308)  loss_giou_dn_2: 0.5415 (0.5534)  loss_fgl_dn_2: 1.1511 (1.1484)  loss_mal_dn_pre: 0.7817 (0.7830)  loss_bbox_dn_pre: 0.4358 (0.4465)  loss_giou_dn_pre: 0.7632 (0.7650)  time: 0.5035  data: 0.0965  max mem: 10532\n",
      "Epoch: [64] Total time: 0:00:07 (0.5079 s / it)\n",
      "Averaged stats: lr: 0.000200  loss: 25.1998 (25.1281)  loss_mal: 1.1328 (1.1666)  loss_bbox: 0.2613 (0.2566)  loss_giou: 0.4570 (0.4491)  loss_fgl: 1.2069 (1.2063)  loss_mal_aux_0: 1.0986 (1.1337)  loss_bbox_aux_0: 0.3019 (0.2908)  loss_giou_aux_0: 0.5039 (0.4983)  loss_fgl_aux_0: 1.2292 (1.2255)  loss_ddf_aux_0: 0.1446 (0.1431)  loss_mal_aux_1: 1.1543 (1.1667)  loss_bbox_aux_1: 0.2642 (0.2588)  loss_giou_aux_1: 0.4557 (0.4515)  loss_fgl_aux_1: 1.2101 (1.2073)  loss_ddf_aux_1: 0.0069 (0.0070)  loss_mal_pre: 1.0967 (1.1293)  loss_bbox_pre: 0.3043 (0.2909)  loss_giou_pre: 0.5019 (0.5013)  loss_mal_enc_0: 1.1963 (1.2026)  loss_bbox_enc_0: 0.3766 (0.3811)  loss_giou_enc_0: 0.6081 (0.6269)  loss_mal_dn_0: 0.7822 (0.7854)  loss_bbox_dn_0: 0.4234 (0.4391)  loss_giou_dn_0: 0.7661 (0.7608)  loss_fgl_dn_0: 1.1859 (1.1820)  loss_ddf_dn_0: 0.6362 (0.6373)  loss_mal_dn_1: 0.7964 (0.7992)  loss_bbox_dn_1: 0.3112 (0.3443)  loss_giou_dn_1: 0.5644 (0.5780)  loss_fgl_dn_1: 1.1526 (1.1500)  loss_ddf_dn_1: 0.0423 (0.0439)  loss_mal_dn_2: 0.7886 (0.7875)  loss_bbox_dn_2: 0.2998 (0.3308)  loss_giou_dn_2: 0.5415 (0.5534)  loss_fgl_dn_2: 1.1511 (1.1484)  loss_mal_dn_pre: 0.7817 (0.7830)  loss_bbox_dn_pre: 0.4358 (0.4465)  loss_giou_dn_pre: 0.7632 (0.7650)\n",
      "Test:  [0/5]  eta: 0:00:04    time: 0.9339  data: 0.6406  max mem: 10532\n"
     ]
    },
    {
     "name": "stderr",
     "output_type": "stream",
     "text": [
      "\u001b[32m2025-03-10 16:27:52.030\u001b[0m | \u001b[1mINFO    \u001b[0m | \u001b[36mdeimkit.trainer\u001b[0m:\u001b[36m_save_checkpoint\u001b[0m:\u001b[36m363\u001b[0m - \u001b[1mSaving checkpoint to outputs/deim_hgnetv2_s_coco_ema_tune/best.pth\u001b[0m\n"
     ]
    },
    {
     "name": "stdout",
     "output_type": "stream",
     "text": [
      "Test:  [4/5]  eta: 0:00:00    time: 0.2753  data: 0.1401  max mem: 10532\n",
      "Test: Total time: 0:00:01 (0.2869 s / it)\n",
      "Averaged stats: \n",
      "Accumulating evaluation results...\n",
      "COCOeval_opt.accumulate() finished...\n",
      "DONE (t=0.02s).\n",
      "IoU metric: bbox\n",
      " Average Precision  (AP) @[ IoU=0.50:0.95 | area=   all | maxDets=100 ] = 0.532\n",
      " Average Precision  (AP) @[ IoU=0.50      | area=   all | maxDets=100 ] = 0.779\n",
      " Average Precision  (AP) @[ IoU=0.75      | area=   all | maxDets=100 ] = 0.639\n",
      " Average Precision  (AP) @[ IoU=0.50:0.95 | area= small | maxDets=100 ] = 0.455\n",
      " Average Precision  (AP) @[ IoU=0.50:0.95 | area=medium | maxDets=100 ] = 0.550\n",
      " Average Precision  (AP) @[ IoU=0.50:0.95 | area= large | maxDets=100 ] = 0.413\n",
      " Average Recall     (AR) @[ IoU=0.50:0.95 | area=   all | maxDets=  1 ] = 0.391\n",
      " Average Recall     (AR) @[ IoU=0.50:0.95 | area=   all | maxDets= 10 ] = 0.656\n",
      " Average Recall     (AR) @[ IoU=0.50:0.95 | area=   all | maxDets=100 ] = 0.766\n",
      " Average Recall     (AR) @[ IoU=0.50:0.95 | area= small | maxDets=100 ] = 0.640\n",
      " Average Recall     (AR) @[ IoU=0.50:0.95 | area=medium | maxDets=100 ] = 0.739\n",
      " Average Recall     (AR) @[ IoU=0.50:0.95 | area= large | maxDets=100 ] = 0.806\n",
      " Average Recall     (AR) @[ IoU=0.50      | area=   all | maxDets=100 ] = 0.998\n",
      " Average Recall     (AR) @[ IoU=0.75      | area=   all | maxDets=100 ] = 0.933\n"
     ]
    },
    {
     "name": "stderr",
     "output_type": "stream",
     "text": [
      "\u001b[32m2025-03-10 16:27:52.361\u001b[0m | \u001b[1mINFO    \u001b[0m | \u001b[36mdeimkit.trainer\u001b[0m:\u001b[36m_save_checkpoint\u001b[0m:\u001b[36m380\u001b[0m - \u001b[1mCheckpoint saved to outputs/deim_hgnetv2_s_coco_ema_tune/best.pth\u001b[0m\n",
      "\u001b[32m2025-03-10 16:27:52.364\u001b[0m | \u001b[1mINFO    \u001b[0m | \u001b[36mdeimkit.trainer\u001b[0m:\u001b[36mtrain\u001b[0m:\u001b[36m312\u001b[0m - \u001b[1mEpoch 64 - Train loss: 25.1281, Eval mAP: 0.5320\u001b[0m\n",
      "\u001b[32m2025-03-10 16:27:52.365\u001b[0m | \u001b[1mINFO    \u001b[0m | \u001b[36mdeimkit.trainer\u001b[0m:\u001b[36mtrain\u001b[0m:\u001b[36m315\u001b[0m - \u001b[1mBest stats: {'epoch': 64, 'coco_eval_bbox': 0.5320126868161413}\u001b[0m\n"
     ]
    },
    {
     "name": "stdout",
     "output_type": "stream",
     "text": [
      "Epoch: [65]  [ 0/15]  eta: 0:00:22  lr: 0.000200  loss: 25.3516 (25.3516)  loss_mal: 1.0234 (1.0234)  loss_bbox: 0.2757 (0.2757)  loss_giou: 0.4753 (0.4753)  loss_fgl: 1.2046 (1.2046)  loss_mal_aux_0: 1.1367 (1.1367)  loss_bbox_aux_0: 0.3015 (0.3015)  loss_giou_aux_0: 0.5111 (0.5111)  loss_fgl_aux_0: 1.2397 (1.2397)  loss_ddf_aux_0: 0.1136 (0.1136)  loss_mal_aux_1: 1.1006 (1.1006)  loss_bbox_aux_1: 0.2731 (0.2731)  loss_giou_aux_1: 0.4738 (0.4738)  loss_fgl_aux_1: 1.2055 (1.2055)  loss_ddf_aux_1: 0.0038 (0.0038)  loss_mal_pre: 1.1221 (1.1221)  loss_bbox_pre: 0.3088 (0.3088)  loss_giou_pre: 0.5197 (0.5197)  loss_mal_enc_0: 1.2852 (1.2852)  loss_bbox_enc_0: 0.3792 (0.3792)  loss_giou_enc_0: 0.6303 (0.6303)  loss_mal_dn_0: 0.7871 (0.7871)  loss_bbox_dn_0: 0.4887 (0.4887)  loss_giou_dn_0: 0.7720 (0.7720)  loss_fgl_dn_0: 1.1704 (1.1704)  loss_ddf_dn_0: 0.6581 (0.6581)  loss_mal_dn_1: 0.7998 (0.7998)  loss_bbox_dn_1: 0.3865 (0.3865)  loss_giou_dn_1: 0.5907 (0.5907)  loss_fgl_dn_1: 1.1411 (1.1411)  loss_ddf_dn_1: 0.0368 (0.0368)  loss_mal_dn_2: 0.7861 (0.7861)  loss_bbox_dn_2: 0.3692 (0.3692)  loss_giou_dn_2: 0.5713 (0.5713)  loss_fgl_dn_2: 1.1399 (1.1399)  loss_mal_dn_pre: 0.7847 (0.7847)  loss_bbox_dn_pre: 0.5003 (0.5003)  loss_giou_dn_pre: 0.7853 (0.7853)  time: 1.5331  data: 1.0533  max mem: 10532\n"
     ]
    },
    {
     "name": "stderr",
     "output_type": "stream",
     "text": [
      "\u001b[32m2025-03-10 16:27:59.421\u001b[0m | \u001b[1mINFO    \u001b[0m | \u001b[36mdeimkit.trainer\u001b[0m:\u001b[36mevaluate\u001b[0m:\u001b[36m331\u001b[0m - \u001b[1mEvaluating model...\u001b[0m\n"
     ]
    },
    {
     "name": "stdout",
     "output_type": "stream",
     "text": [
      "Epoch: [65]  [14/15]  eta: 0:00:00  lr: 0.000200  loss: 23.9970 (24.2479)  loss_mal: 1.0391 (1.0710)  loss_bbox: 0.2224 (0.2256)  loss_giou: 0.4432 (0.4454)  loss_fgl: 1.1877 (1.1935)  loss_mal_aux_0: 1.0479 (1.0798)  loss_bbox_aux_0: 0.2502 (0.2561)  loss_giou_aux_0: 0.4921 (0.4963)  loss_fgl_aux_0: 1.2228 (1.2235)  loss_ddf_aux_0: 0.1466 (0.1527)  loss_mal_aux_1: 1.0576 (1.0658)  loss_bbox_aux_1: 0.2227 (0.2276)  loss_giou_aux_1: 0.4485 (0.4487)  loss_fgl_aux_1: 1.1908 (1.1956)  loss_ddf_aux_1: 0.0058 (0.0060)  loss_mal_pre: 1.0420 (1.0704)  loss_bbox_pre: 0.2533 (0.2583)  loss_giou_pre: 0.4903 (0.4983)  loss_mal_enc_0: 1.1299 (1.1521)  loss_bbox_enc_0: 0.3262 (0.3411)  loss_giou_enc_0: 0.6054 (0.6153)  loss_mal_dn_0: 0.7808 (0.7808)  loss_bbox_dn_0: 0.3597 (0.3798)  loss_giou_dn_0: 0.7402 (0.7329)  loss_fgl_dn_0: 1.1859 (1.1866)  loss_ddf_dn_0: 0.6882 (0.6941)  loss_mal_dn_1: 0.7881 (0.7898)  loss_bbox_dn_1: 0.2840 (0.2929)  loss_giou_dn_1: 0.5472 (0.5499)  loss_fgl_dn_1: 1.1456 (1.1473)  loss_ddf_dn_1: 0.0481 (0.0454)  loss_mal_dn_2: 0.7861 (0.7840)  loss_bbox_dn_2: 0.2662 (0.2769)  loss_giou_dn_2: 0.5191 (0.5253)  loss_fgl_dn_2: 1.1408 (1.1439)  loss_mal_dn_pre: 0.7808 (0.7801)  loss_bbox_dn_pre: 0.3619 (0.3833)  loss_giou_dn_pre: 0.7400 (0.7315)  time: 0.4639  data: 0.0904  max mem: 10532\n",
      "Epoch: [65] Total time: 0:00:07 (0.4689 s / it)\n",
      "Averaged stats: lr: 0.000200  loss: 23.9970 (24.2479)  loss_mal: 1.0391 (1.0710)  loss_bbox: 0.2224 (0.2256)  loss_giou: 0.4432 (0.4454)  loss_fgl: 1.1877 (1.1935)  loss_mal_aux_0: 1.0479 (1.0798)  loss_bbox_aux_0: 0.2502 (0.2561)  loss_giou_aux_0: 0.4921 (0.4963)  loss_fgl_aux_0: 1.2228 (1.2235)  loss_ddf_aux_0: 0.1466 (0.1527)  loss_mal_aux_1: 1.0576 (1.0658)  loss_bbox_aux_1: 0.2227 (0.2276)  loss_giou_aux_1: 0.4485 (0.4487)  loss_fgl_aux_1: 1.1908 (1.1956)  loss_ddf_aux_1: 0.0058 (0.0060)  loss_mal_pre: 1.0420 (1.0704)  loss_bbox_pre: 0.2533 (0.2583)  loss_giou_pre: 0.4903 (0.4983)  loss_mal_enc_0: 1.1299 (1.1521)  loss_bbox_enc_0: 0.3262 (0.3411)  loss_giou_enc_0: 0.6054 (0.6153)  loss_mal_dn_0: 0.7808 (0.7808)  loss_bbox_dn_0: 0.3597 (0.3798)  loss_giou_dn_0: 0.7402 (0.7329)  loss_fgl_dn_0: 1.1859 (1.1866)  loss_ddf_dn_0: 0.6882 (0.6941)  loss_mal_dn_1: 0.7881 (0.7898)  loss_bbox_dn_1: 0.2840 (0.2929)  loss_giou_dn_1: 0.5472 (0.5499)  loss_fgl_dn_1: 1.1456 (1.1473)  loss_ddf_dn_1: 0.0481 (0.0454)  loss_mal_dn_2: 0.7861 (0.7840)  loss_bbox_dn_2: 0.2662 (0.2769)  loss_giou_dn_2: 0.5191 (0.5253)  loss_fgl_dn_2: 1.1408 (1.1439)  loss_mal_dn_pre: 0.7808 (0.7801)  loss_bbox_dn_pre: 0.3619 (0.3833)  loss_giou_dn_pre: 0.7400 (0.7315)\n",
      "Test:  [0/5]  eta: 0:00:04    time: 0.9542  data: 0.6770  max mem: 10532\n"
     ]
    },
    {
     "name": "stderr",
     "output_type": "stream",
     "text": [
      "\u001b[32m2025-03-10 16:28:00.933\u001b[0m | \u001b[1mINFO    \u001b[0m | \u001b[36mdeimkit.trainer\u001b[0m:\u001b[36mtrain\u001b[0m:\u001b[36m312\u001b[0m - \u001b[1mEpoch 65 - Train loss: 24.2479, Eval mAP: 0.5235\u001b[0m\n",
      "\u001b[32m2025-03-10 16:28:00.933\u001b[0m | \u001b[1mINFO    \u001b[0m | \u001b[36mdeimkit.trainer\u001b[0m:\u001b[36mtrain\u001b[0m:\u001b[36m315\u001b[0m - \u001b[1mBest stats: {'epoch': 64, 'coco_eval_bbox': 0.5320126868161413}\u001b[0m\n"
     ]
    },
    {
     "name": "stdout",
     "output_type": "stream",
     "text": [
      "Test:  [4/5]  eta: 0:00:00    time: 0.2843  data: 0.1507  max mem: 10532\n",
      "Test: Total time: 0:00:01 (0.2963 s / it)\n",
      "Averaged stats: \n",
      "Accumulating evaluation results...\n",
      "COCOeval_opt.accumulate() finished...\n",
      "DONE (t=0.02s).\n",
      "IoU metric: bbox\n",
      " Average Precision  (AP) @[ IoU=0.50:0.95 | area=   all | maxDets=100 ] = 0.523\n",
      " Average Precision  (AP) @[ IoU=0.50      | area=   all | maxDets=100 ] = 0.771\n",
      " Average Precision  (AP) @[ IoU=0.75      | area=   all | maxDets=100 ] = 0.635\n",
      " Average Precision  (AP) @[ IoU=0.50:0.95 | area= small | maxDets=100 ] = 0.378\n",
      " Average Precision  (AP) @[ IoU=0.50:0.95 | area=medium | maxDets=100 ] = 0.602\n",
      " Average Precision  (AP) @[ IoU=0.50:0.95 | area= large | maxDets=100 ] = 0.392\n",
      " Average Recall     (AR) @[ IoU=0.50:0.95 | area=   all | maxDets=  1 ] = 0.369\n",
      " Average Recall     (AR) @[ IoU=0.50:0.95 | area=   all | maxDets= 10 ] = 0.655\n",
      " Average Recall     (AR) @[ IoU=0.50:0.95 | area=   all | maxDets=100 ] = 0.763\n",
      " Average Recall     (AR) @[ IoU=0.50:0.95 | area= small | maxDets=100 ] = 0.760\n",
      " Average Recall     (AR) @[ IoU=0.50:0.95 | area=medium | maxDets=100 ] = 0.774\n",
      " Average Recall     (AR) @[ IoU=0.50:0.95 | area= large | maxDets=100 ] = 0.775\n",
      " Average Recall     (AR) @[ IoU=0.50      | area=   all | maxDets=100 ] = 0.990\n",
      " Average Recall     (AR) @[ IoU=0.75      | area=   all | maxDets=100 ] = 0.904\n",
      "Epoch: [66]  [ 0/15]  eta: 0:00:24  lr: 0.000200  loss: 23.4816 (23.4816)  loss_mal: 1.0127 (1.0127)  loss_bbox: 0.2258 (0.2258)  loss_giou: 0.4092 (0.4092)  loss_fgl: 1.2093 (1.2093)  loss_mal_aux_0: 1.0195 (1.0195)  loss_bbox_aux_0: 0.2427 (0.2427)  loss_giou_aux_0: 0.4522 (0.4522)  loss_fgl_aux_0: 1.2333 (1.2333)  loss_ddf_aux_0: 0.1239 (0.1239)  loss_mal_aux_1: 1.0215 (1.0215)  loss_bbox_aux_1: 0.2267 (0.2267)  loss_giou_aux_1: 0.4121 (0.4121)  loss_fgl_aux_1: 1.2130 (1.2130)  loss_ddf_aux_1: 0.0054 (0.0054)  loss_mal_pre: 1.0254 (1.0254)  loss_bbox_pre: 0.2471 (0.2471)  loss_giou_pre: 0.4543 (0.4543)  loss_mal_enc_0: 1.1240 (1.1240)  loss_bbox_enc_0: 0.3064 (0.3064)  loss_giou_enc_0: 0.5527 (0.5527)  loss_mal_dn_0: 0.7734 (0.7734)  loss_bbox_dn_0: 0.3491 (0.3491)  loss_giou_dn_0: 0.6925 (0.6925)  loss_fgl_dn_0: 1.2308 (1.2308)  loss_ddf_dn_0: 0.7100 (0.7100)  loss_mal_dn_1: 0.7651 (0.7651)  loss_bbox_dn_1: 0.2691 (0.2691)  loss_giou_dn_1: 0.4977 (0.4977)  loss_fgl_dn_1: 1.1655 (1.1655)  loss_ddf_dn_1: 0.0492 (0.0492)  loss_mal_dn_2: 0.7568 (0.7568)  loss_bbox_dn_2: 0.2578 (0.2578)  loss_giou_dn_2: 0.4718 (0.4718)  loss_fgl_dn_2: 1.1597 (1.1597)  loss_mal_dn_pre: 0.7710 (0.7710)  loss_bbox_dn_pre: 0.3551 (0.3551)  loss_giou_dn_pre: 0.6897 (0.6897)  time: 1.6198  data: 1.1945  max mem: 10532\n"
     ]
    },
    {
     "name": "stderr",
     "output_type": "stream",
     "text": [
      "\u001b[32m2025-03-10 16:28:07.869\u001b[0m | \u001b[1mINFO    \u001b[0m | \u001b[36mdeimkit.trainer\u001b[0m:\u001b[36mevaluate\u001b[0m:\u001b[36m331\u001b[0m - \u001b[1mEvaluating model...\u001b[0m\n"
     ]
    },
    {
     "name": "stdout",
     "output_type": "stream",
     "text": [
      "Epoch: [66]  [14/15]  eta: 0:00:00  lr: 0.000199  loss: 24.0349 (24.1071)  loss_mal: 1.0674 (1.0618)  loss_bbox: 0.2394 (0.2297)  loss_giou: 0.4133 (0.4377)  loss_fgl: 1.1967 (1.1940)  loss_mal_aux_0: 1.0605 (1.0541)  loss_bbox_aux_0: 0.2683 (0.2603)  loss_giou_aux_0: 0.4626 (0.4913)  loss_fgl_aux_0: 1.2281 (1.2230)  loss_ddf_aux_0: 0.1448 (0.1466)  loss_mal_aux_1: 1.0781 (1.0647)  loss_bbox_aux_1: 0.2423 (0.2324)  loss_giou_aux_1: 0.4141 (0.4420)  loss_fgl_aux_1: 1.1989 (1.1969)  loss_ddf_aux_1: 0.0063 (0.0066)  loss_mal_pre: 1.0498 (1.0496)  loss_bbox_pre: 0.2699 (0.2618)  loss_giou_pre: 0.4576 (0.4930)  loss_mal_enc_0: 1.1025 (1.0985)  loss_bbox_enc_0: 0.3520 (0.3509)  loss_giou_enc_0: 0.5653 (0.6253)  loss_mal_dn_0: 0.7871 (0.7838)  loss_bbox_dn_0: 0.3705 (0.3775)  loss_giou_dn_0: 0.7073 (0.7209)  loss_fgl_dn_0: 1.1894 (1.1905)  loss_ddf_dn_0: 0.7068 (0.6921)  loss_mal_dn_1: 0.7842 (0.7860)  loss_bbox_dn_1: 0.2881 (0.2887)  loss_giou_dn_1: 0.5146 (0.5439)  loss_fgl_dn_1: 1.1569 (1.1510)  loss_ddf_dn_1: 0.0492 (0.0461)  loss_mal_dn_2: 0.7817 (0.7769)  loss_bbox_dn_2: 0.2696 (0.2750)  loss_giou_dn_2: 0.4910 (0.5205)  loss_fgl_dn_2: 1.1511 (1.1472)  loss_mal_dn_pre: 0.7842 (0.7838)  loss_bbox_dn_pre: 0.3765 (0.3821)  loss_giou_dn_pre: 0.6989 (0.7212)  time: 0.4568  data: 0.0942  max mem: 10532\n",
      "Epoch: [66] Total time: 0:00:06 (0.4613 s / it)\n",
      "Averaged stats: lr: 0.000199  loss: 24.0349 (24.1071)  loss_mal: 1.0674 (1.0618)  loss_bbox: 0.2394 (0.2297)  loss_giou: 0.4133 (0.4377)  loss_fgl: 1.1967 (1.1940)  loss_mal_aux_0: 1.0605 (1.0541)  loss_bbox_aux_0: 0.2683 (0.2603)  loss_giou_aux_0: 0.4626 (0.4913)  loss_fgl_aux_0: 1.2281 (1.2230)  loss_ddf_aux_0: 0.1448 (0.1466)  loss_mal_aux_1: 1.0781 (1.0647)  loss_bbox_aux_1: 0.2423 (0.2324)  loss_giou_aux_1: 0.4141 (0.4420)  loss_fgl_aux_1: 1.1989 (1.1969)  loss_ddf_aux_1: 0.0063 (0.0066)  loss_mal_pre: 1.0498 (1.0496)  loss_bbox_pre: 0.2699 (0.2618)  loss_giou_pre: 0.4576 (0.4930)  loss_mal_enc_0: 1.1025 (1.0985)  loss_bbox_enc_0: 0.3520 (0.3509)  loss_giou_enc_0: 0.5653 (0.6253)  loss_mal_dn_0: 0.7871 (0.7838)  loss_bbox_dn_0: 0.3705 (0.3775)  loss_giou_dn_0: 0.7073 (0.7209)  loss_fgl_dn_0: 1.1894 (1.1905)  loss_ddf_dn_0: 0.7068 (0.6921)  loss_mal_dn_1: 0.7842 (0.7860)  loss_bbox_dn_1: 0.2881 (0.2887)  loss_giou_dn_1: 0.5146 (0.5439)  loss_fgl_dn_1: 1.1569 (1.1510)  loss_ddf_dn_1: 0.0492 (0.0461)  loss_mal_dn_2: 0.7817 (0.7769)  loss_bbox_dn_2: 0.2696 (0.2750)  loss_giou_dn_2: 0.4910 (0.5205)  loss_fgl_dn_2: 1.1511 (1.1472)  loss_mal_dn_pre: 0.7842 (0.7838)  loss_bbox_dn_pre: 0.3765 (0.3821)  loss_giou_dn_pre: 0.6989 (0.7212)\n",
      "Test:  [0/5]  eta: 0:00:04    time: 0.8121  data: 0.6963  max mem: 10532\n"
     ]
    },
    {
     "name": "stderr",
     "output_type": "stream",
     "text": [
      "\u001b[32m2025-03-10 16:28:09.410\u001b[0m | \u001b[1mINFO    \u001b[0m | \u001b[36mdeimkit.trainer\u001b[0m:\u001b[36m_save_checkpoint\u001b[0m:\u001b[36m363\u001b[0m - \u001b[1mSaving checkpoint to outputs/deim_hgnetv2_s_coco_ema_tune/best.pth\u001b[0m\n"
     ]
    },
    {
     "name": "stdout",
     "output_type": "stream",
     "text": [
      "Test:  [4/5]  eta: 0:00:00    time: 0.2871  data: 0.1552  max mem: 10532\n",
      "Test: Total time: 0:00:01 (0.3017 s / it)\n",
      "Averaged stats: \n",
      "Accumulating evaluation results...\n",
      "COCOeval_opt.accumulate() finished...\n",
      "DONE (t=0.02s).\n",
      "IoU metric: bbox\n",
      " Average Precision  (AP) @[ IoU=0.50:0.95 | area=   all | maxDets=100 ] = 0.537\n",
      " Average Precision  (AP) @[ IoU=0.50      | area=   all | maxDets=100 ] = 0.788\n",
      " Average Precision  (AP) @[ IoU=0.75      | area=   all | maxDets=100 ] = 0.617\n",
      " Average Precision  (AP) @[ IoU=0.50:0.95 | area= small | maxDets=100 ] = 0.381\n",
      " Average Precision  (AP) @[ IoU=0.50:0.95 | area=medium | maxDets=100 ] = 0.529\n",
      " Average Precision  (AP) @[ IoU=0.50:0.95 | area= large | maxDets=100 ] = 0.421\n",
      " Average Recall     (AR) @[ IoU=0.50:0.95 | area=   all | maxDets=  1 ] = 0.386\n",
      " Average Recall     (AR) @[ IoU=0.50:0.95 | area=   all | maxDets= 10 ] = 0.645\n",
      " Average Recall     (AR) @[ IoU=0.50:0.95 | area=   all | maxDets=100 ] = 0.745\n",
      " Average Recall     (AR) @[ IoU=0.50:0.95 | area= small | maxDets=100 ] = 0.620\n",
      " Average Recall     (AR) @[ IoU=0.50:0.95 | area=medium | maxDets=100 ] = 0.708\n",
      " Average Recall     (AR) @[ IoU=0.50:0.95 | area= large | maxDets=100 ] = 0.804\n",
      " Average Recall     (AR) @[ IoU=0.50      | area=   all | maxDets=100 ] = 0.989\n",
      " Average Recall     (AR) @[ IoU=0.75      | area=   all | maxDets=100 ] = 0.862\n"
     ]
    },
    {
     "name": "stderr",
     "output_type": "stream",
     "text": [
      "\u001b[32m2025-03-10 16:28:09.773\u001b[0m | \u001b[1mINFO    \u001b[0m | \u001b[36mdeimkit.trainer\u001b[0m:\u001b[36m_save_checkpoint\u001b[0m:\u001b[36m380\u001b[0m - \u001b[1mCheckpoint saved to outputs/deim_hgnetv2_s_coco_ema_tune/best.pth\u001b[0m\n",
      "\u001b[32m2025-03-10 16:28:09.774\u001b[0m | \u001b[1mINFO    \u001b[0m | \u001b[36mdeimkit.trainer\u001b[0m:\u001b[36mtrain\u001b[0m:\u001b[36m312\u001b[0m - \u001b[1mEpoch 66 - Train loss: 24.1071, Eval mAP: 0.5368\u001b[0m\n",
      "\u001b[32m2025-03-10 16:28:09.774\u001b[0m | \u001b[1mINFO    \u001b[0m | \u001b[36mdeimkit.trainer\u001b[0m:\u001b[36mtrain\u001b[0m:\u001b[36m315\u001b[0m - \u001b[1mBest stats: {'epoch': 66, 'coco_eval_bbox': 0.5368194331308178}\u001b[0m\n"
     ]
    },
    {
     "name": "stdout",
     "output_type": "stream",
     "text": [
      "Epoch: [67]  [ 0/15]  eta: 0:00:24  lr: 0.000199  loss: 24.0588 (24.0588)  loss_mal: 1.0420 (1.0420)  loss_bbox: 0.2551 (0.2551)  loss_giou: 0.3946 (0.3946)  loss_fgl: 1.2084 (1.2084)  loss_mal_aux_0: 1.0430 (1.0430)  loss_bbox_aux_0: 0.2953 (0.2953)  loss_giou_aux_0: 0.4455 (0.4455)  loss_fgl_aux_0: 1.2318 (1.2318)  loss_ddf_aux_0: 0.1283 (0.1283)  loss_mal_aux_1: 1.0625 (1.0625)  loss_bbox_aux_1: 0.2589 (0.2589)  loss_giou_aux_1: 0.3970 (0.3970)  loss_fgl_aux_1: 1.2100 (1.2100)  loss_ddf_aux_1: 0.0070 (0.0070)  loss_mal_pre: 1.0332 (1.0332)  loss_bbox_pre: 0.2902 (0.2902)  loss_giou_pre: 0.4400 (0.4400)  loss_mal_enc_0: 1.1152 (1.1152)  loss_bbox_enc_0: 0.3869 (0.3869)  loss_giou_enc_0: 0.5616 (0.5616)  loss_mal_dn_0: 0.7856 (0.7856)  loss_bbox_dn_0: 0.4453 (0.4453)  loss_giou_dn_0: 0.6723 (0.6723)  loss_fgl_dn_0: 1.2093 (1.2093)  loss_ddf_dn_0: 0.7711 (0.7711)  loss_mal_dn_1: 0.7886 (0.7886)  loss_bbox_dn_1: 0.3169 (0.3169)  loss_giou_dn_1: 0.4758 (0.4758)  loss_fgl_dn_1: 1.1614 (1.1614)  loss_ddf_dn_1: 0.0567 (0.0567)  loss_mal_dn_2: 0.7754 (0.7754)  loss_bbox_dn_2: 0.2908 (0.2908)  loss_giou_dn_2: 0.4463 (0.4463)  loss_fgl_dn_2: 1.1555 (1.1555)  loss_mal_dn_pre: 0.7817 (0.7817)  loss_bbox_dn_pre: 0.4560 (0.4560)  loss_giou_dn_pre: 0.6637 (0.6637)  time: 1.6398  data: 1.1948  max mem: 10532\n"
     ]
    },
    {
     "name": "stderr",
     "output_type": "stream",
     "text": [
      "\u001b[32m2025-03-10 16:28:16.695\u001b[0m | \u001b[1mINFO    \u001b[0m | \u001b[36mdeimkit.trainer\u001b[0m:\u001b[36m_save_checkpoint\u001b[0m:\u001b[36m363\u001b[0m - \u001b[1mSaving checkpoint to outputs/deim_hgnetv2_s_coco_ema_tune/checkpoint0067.pth\u001b[0m\n"
     ]
    },
    {
     "name": "stdout",
     "output_type": "stream",
     "text": [
      "Epoch: [67]  [14/15]  eta: 0:00:00  lr: 0.000199  loss: 23.7891 (23.8481)  loss_mal: 1.0000 (1.0182)  loss_bbox: 0.2172 (0.2227)  loss_giou: 0.4066 (0.4236)  loss_fgl: 1.1931 (1.1918)  loss_mal_aux_0: 1.0166 (1.0379)  loss_bbox_aux_0: 0.2457 (0.2502)  loss_giou_aux_0: 0.4578 (0.4747)  loss_fgl_aux_0: 1.2241 (1.2220)  loss_ddf_aux_0: 0.1549 (0.1470)  loss_mal_aux_1: 1.0000 (1.0168)  loss_bbox_aux_1: 0.2194 (0.2245)  loss_giou_aux_1: 0.4102 (0.4262)  loss_fgl_aux_1: 1.1974 (1.1932)  loss_ddf_aux_1: 0.0076 (0.0078)  loss_mal_pre: 1.0146 (1.0330)  loss_bbox_pre: 0.2462 (0.2499)  loss_giou_pre: 0.4579 (0.4752)  loss_mal_enc_0: 1.0518 (1.0764)  loss_bbox_enc_0: 0.3299 (0.3522)  loss_giou_enc_0: 0.6151 (0.6346)  loss_mal_dn_0: 0.7783 (0.7808)  loss_bbox_dn_0: 0.3732 (0.3775)  loss_giou_dn_0: 0.7070 (0.7148)  loss_fgl_dn_0: 1.2019 (1.1991)  loss_ddf_dn_0: 0.7594 (0.7488)  loss_mal_dn_1: 0.7778 (0.7777)  loss_bbox_dn_1: 0.2866 (0.2838)  loss_giou_dn_1: 0.5299 (0.5265)  loss_fgl_dn_1: 1.1433 (1.1472)  loss_ddf_dn_1: 0.0540 (0.0531)  loss_mal_dn_2: 0.7705 (0.7704)  loss_bbox_dn_2: 0.2694 (0.2694)  loss_giou_dn_2: 0.5044 (0.5025)  loss_fgl_dn_2: 1.1372 (1.1439)  loss_mal_dn_pre: 0.7783 (0.7794)  loss_bbox_dn_pre: 0.3684 (0.3809)  loss_giou_dn_pre: 0.7132 (0.7146)  time: 0.4558  data: 0.0996  max mem: 10532\n",
      "Epoch: [67] Total time: 0:00:06 (0.4602 s / it)\n",
      "Averaged stats: lr: 0.000199  loss: 23.7891 (23.8481)  loss_mal: 1.0000 (1.0182)  loss_bbox: 0.2172 (0.2227)  loss_giou: 0.4066 (0.4236)  loss_fgl: 1.1931 (1.1918)  loss_mal_aux_0: 1.0166 (1.0379)  loss_bbox_aux_0: 0.2457 (0.2502)  loss_giou_aux_0: 0.4578 (0.4747)  loss_fgl_aux_0: 1.2241 (1.2220)  loss_ddf_aux_0: 0.1549 (0.1470)  loss_mal_aux_1: 1.0000 (1.0168)  loss_bbox_aux_1: 0.2194 (0.2245)  loss_giou_aux_1: 0.4102 (0.4262)  loss_fgl_aux_1: 1.1974 (1.1932)  loss_ddf_aux_1: 0.0076 (0.0078)  loss_mal_pre: 1.0146 (1.0330)  loss_bbox_pre: 0.2462 (0.2499)  loss_giou_pre: 0.4579 (0.4752)  loss_mal_enc_0: 1.0518 (1.0764)  loss_bbox_enc_0: 0.3299 (0.3522)  loss_giou_enc_0: 0.6151 (0.6346)  loss_mal_dn_0: 0.7783 (0.7808)  loss_bbox_dn_0: 0.3732 (0.3775)  loss_giou_dn_0: 0.7070 (0.7148)  loss_fgl_dn_0: 1.2019 (1.1991)  loss_ddf_dn_0: 0.7594 (0.7488)  loss_mal_dn_1: 0.7778 (0.7777)  loss_bbox_dn_1: 0.2866 (0.2838)  loss_giou_dn_1: 0.5299 (0.5265)  loss_fgl_dn_1: 1.1433 (1.1472)  loss_ddf_dn_1: 0.0540 (0.0531)  loss_mal_dn_2: 0.7705 (0.7704)  loss_bbox_dn_2: 0.2694 (0.2694)  loss_giou_dn_2: 0.5044 (0.5025)  loss_fgl_dn_2: 1.1372 (1.1439)  loss_mal_dn_pre: 0.7783 (0.7794)  loss_bbox_dn_pre: 0.3684 (0.3809)  loss_giou_dn_pre: 0.7132 (0.7146)\n"
     ]
    },
    {
     "name": "stderr",
     "output_type": "stream",
     "text": [
      "\u001b[32m2025-03-10 16:28:16.973\u001b[0m | \u001b[1mINFO    \u001b[0m | \u001b[36mdeimkit.trainer\u001b[0m:\u001b[36m_save_checkpoint\u001b[0m:\u001b[36m380\u001b[0m - \u001b[1mCheckpoint saved to outputs/deim_hgnetv2_s_coco_ema_tune/checkpoint0067.pth\u001b[0m\n",
      "\u001b[32m2025-03-10 16:28:16.974\u001b[0m | \u001b[1mINFO    \u001b[0m | \u001b[36mdeimkit.trainer\u001b[0m:\u001b[36mevaluate\u001b[0m:\u001b[36m331\u001b[0m - \u001b[1mEvaluating model...\u001b[0m\n"
     ]
    },
    {
     "name": "stdout",
     "output_type": "stream",
     "text": [
      "Test:  [0/5]  eta: 0:00:03    time: 0.7212  data: 0.6081  max mem: 10532\n"
     ]
    },
    {
     "name": "stderr",
     "output_type": "stream",
     "text": [
      "\u001b[32m2025-03-10 16:28:18.503\u001b[0m | \u001b[1mINFO    \u001b[0m | \u001b[36mdeimkit.trainer\u001b[0m:\u001b[36m_save_checkpoint\u001b[0m:\u001b[36m363\u001b[0m - \u001b[1mSaving checkpoint to outputs/deim_hgnetv2_s_coco_ema_tune/best.pth\u001b[0m\n"
     ]
    },
    {
     "name": "stdout",
     "output_type": "stream",
     "text": [
      "Test:  [4/5]  eta: 0:00:00    time: 0.2872  data: 0.1412  max mem: 10532\n",
      "Test: Total time: 0:00:01 (0.2996 s / it)\n",
      "Averaged stats: \n",
      "Accumulating evaluation results...\n",
      "COCOeval_opt.accumulate() finished...\n",
      "DONE (t=0.02s).\n",
      "IoU metric: bbox\n",
      " Average Precision  (AP) @[ IoU=0.50:0.95 | area=   all | maxDets=100 ] = 0.547\n",
      " Average Precision  (AP) @[ IoU=0.50      | area=   all | maxDets=100 ] = 0.798\n",
      " Average Precision  (AP) @[ IoU=0.75      | area=   all | maxDets=100 ] = 0.627\n",
      " Average Precision  (AP) @[ IoU=0.50:0.95 | area= small | maxDets=100 ] = 0.451\n",
      " Average Precision  (AP) @[ IoU=0.50:0.95 | area=medium | maxDets=100 ] = 0.573\n",
      " Average Precision  (AP) @[ IoU=0.50:0.95 | area= large | maxDets=100 ] = 0.417\n",
      " Average Recall     (AR) @[ IoU=0.50:0.95 | area=   all | maxDets=  1 ] = 0.381\n",
      " Average Recall     (AR) @[ IoU=0.50:0.95 | area=   all | maxDets= 10 ] = 0.661\n",
      " Average Recall     (AR) @[ IoU=0.50:0.95 | area=   all | maxDets=100 ] = 0.764\n",
      " Average Recall     (AR) @[ IoU=0.50:0.95 | area= small | maxDets=100 ] = 0.740\n",
      " Average Recall     (AR) @[ IoU=0.50:0.95 | area=medium | maxDets=100 ] = 0.739\n",
      " Average Recall     (AR) @[ IoU=0.50:0.95 | area= large | maxDets=100 ] = 0.808\n",
      " Average Recall     (AR) @[ IoU=0.50      | area=   all | maxDets=100 ] = 0.998\n",
      " Average Recall     (AR) @[ IoU=0.75      | area=   all | maxDets=100 ] = 0.905\n"
     ]
    },
    {
     "name": "stderr",
     "output_type": "stream",
     "text": [
      "\u001b[32m2025-03-10 16:28:18.947\u001b[0m | \u001b[1mINFO    \u001b[0m | \u001b[36mdeimkit.trainer\u001b[0m:\u001b[36m_save_checkpoint\u001b[0m:\u001b[36m380\u001b[0m - \u001b[1mCheckpoint saved to outputs/deim_hgnetv2_s_coco_ema_tune/best.pth\u001b[0m\n",
      "\u001b[32m2025-03-10 16:28:18.949\u001b[0m | \u001b[1mINFO    \u001b[0m | \u001b[36mdeimkit.trainer\u001b[0m:\u001b[36mtrain\u001b[0m:\u001b[36m312\u001b[0m - \u001b[1mEpoch 67 - Train loss: 23.8481, Eval mAP: 0.5468\u001b[0m\n",
      "\u001b[32m2025-03-10 16:28:18.949\u001b[0m | \u001b[1mINFO    \u001b[0m | \u001b[36mdeimkit.trainer\u001b[0m:\u001b[36mtrain\u001b[0m:\u001b[36m315\u001b[0m - \u001b[1mBest stats: {'epoch': 67, 'coco_eval_bbox': 0.5467903639570135}\u001b[0m\n"
     ]
    },
    {
     "name": "stdout",
     "output_type": "stream",
     "text": [
      "Epoch: [68]  [ 0/15]  eta: 0:00:26  lr: 0.000199  loss: 23.7351 (23.7351)  loss_mal: 1.0127 (1.0127)  loss_bbox: 0.2054 (0.2054)  loss_giou: 0.4489 (0.4489)  loss_fgl: 1.1800 (1.1800)  loss_mal_aux_0: 0.9771 (0.9771)  loss_bbox_aux_0: 0.2256 (0.2256)  loss_giou_aux_0: 0.5038 (0.5038)  loss_fgl_aux_0: 1.2113 (1.2113)  loss_ddf_aux_0: 0.1469 (0.1469)  loss_mal_aux_1: 0.9917 (0.9917)  loss_bbox_aux_1: 0.2016 (0.2016)  loss_giou_aux_1: 0.4451 (0.4451)  loss_fgl_aux_1: 1.1810 (1.1810)  loss_ddf_aux_1: 0.0090 (0.0090)  loss_mal_pre: 0.9771 (0.9771)  loss_bbox_pre: 0.2260 (0.2260)  loss_giou_pre: 0.5098 (0.5098)  loss_mal_enc_0: 1.0244 (1.0244)  loss_bbox_enc_0: 0.3123 (0.3123)  loss_giou_enc_0: 0.6623 (0.6623)  loss_mal_dn_0: 0.7896 (0.7896)  loss_bbox_dn_0: 0.3211 (0.3211)  loss_giou_dn_0: 0.7290 (0.7290)  loss_fgl_dn_0: 1.1960 (1.1960)  loss_ddf_dn_0: 0.8884 (0.8884)  loss_mal_dn_1: 0.8120 (0.8120)  loss_bbox_dn_1: 0.2418 (0.2418)  loss_giou_dn_1: 0.5304 (0.5304)  loss_fgl_dn_1: 1.1457 (1.1457)  loss_ddf_dn_1: 0.0606 (0.0606)  loss_mal_dn_2: 0.8125 (0.8125)  loss_bbox_dn_2: 0.2395 (0.2395)  loss_giou_dn_2: 0.5167 (0.5167)  loss_fgl_dn_2: 1.1517 (1.1517)  loss_mal_dn_pre: 0.7871 (0.7871)  loss_bbox_dn_pre: 0.3256 (0.3256)  loss_giou_dn_pre: 0.7357 (0.7357)  time: 1.8000  data: 1.3601  max mem: 10532\n"
     ]
    },
    {
     "name": "stderr",
     "output_type": "stream",
     "text": [
      "\u001b[32m2025-03-10 16:28:26.208\u001b[0m | \u001b[1mINFO    \u001b[0m | \u001b[36mdeimkit.trainer\u001b[0m:\u001b[36mevaluate\u001b[0m:\u001b[36m331\u001b[0m - \u001b[1mEvaluating model...\u001b[0m\n"
     ]
    },
    {
     "name": "stdout",
     "output_type": "stream",
     "text": [
      "Epoch: [68]  [14/15]  eta: 0:00:00  lr: 0.000198  loss: 23.7676 (23.7600)  loss_mal: 1.0215 (1.0340)  loss_bbox: 0.2054 (0.1996)  loss_giou: 0.4158 (0.4213)  loss_fgl: 1.1949 (1.1887)  loss_mal_aux_0: 1.0352 (1.0202)  loss_bbox_aux_0: 0.2256 (0.2282)  loss_giou_aux_0: 0.4673 (0.4751)  loss_fgl_aux_0: 1.2153 (1.2182)  loss_ddf_aux_0: 0.1512 (0.1624)  loss_mal_aux_1: 1.0371 (1.0355)  loss_bbox_aux_1: 0.2031 (0.2008)  loss_giou_aux_1: 0.4143 (0.4230)  loss_fgl_aux_1: 1.1946 (1.1890)  loss_ddf_aux_1: 0.0068 (0.0068)  loss_mal_pre: 1.0312 (1.0177)  loss_bbox_pre: 0.2260 (0.2284)  loss_giou_pre: 0.4722 (0.4769)  loss_mal_enc_0: 1.0518 (1.0699)  loss_bbox_enc_0: 0.3039 (0.3272)  loss_giou_enc_0: 0.6081 (0.6348)  loss_mal_dn_0: 0.7822 (0.7835)  loss_bbox_dn_0: 0.3568 (0.3461)  loss_giou_dn_0: 0.7073 (0.7089)  loss_fgl_dn_0: 1.1960 (1.2046)  loss_ddf_dn_0: 0.8471 (0.8445)  loss_mal_dn_1: 0.7847 (0.7912)  loss_bbox_dn_1: 0.2537 (0.2626)  loss_giou_dn_1: 0.5271 (0.5277)  loss_fgl_dn_1: 1.1517 (1.1523)  loss_ddf_dn_1: 0.0422 (0.0432)  loss_mal_dn_2: 0.7837 (0.7862)  loss_bbox_dn_2: 0.2408 (0.2505)  loss_giou_dn_2: 0.5114 (0.5090)  loss_fgl_dn_2: 1.1510 (1.1512)  loss_mal_dn_pre: 0.7827 (0.7835)  loss_bbox_dn_pre: 0.3629 (0.3497)  loss_giou_dn_pre: 0.7072 (0.7076)  time: 0.4778  data: 0.1078  max mem: 10532\n",
      "Epoch: [68] Total time: 0:00:07 (0.4825 s / it)\n",
      "Averaged stats: lr: 0.000198  loss: 23.7676 (23.7600)  loss_mal: 1.0215 (1.0340)  loss_bbox: 0.2054 (0.1996)  loss_giou: 0.4158 (0.4213)  loss_fgl: 1.1949 (1.1887)  loss_mal_aux_0: 1.0352 (1.0202)  loss_bbox_aux_0: 0.2256 (0.2282)  loss_giou_aux_0: 0.4673 (0.4751)  loss_fgl_aux_0: 1.2153 (1.2182)  loss_ddf_aux_0: 0.1512 (0.1624)  loss_mal_aux_1: 1.0371 (1.0355)  loss_bbox_aux_1: 0.2031 (0.2008)  loss_giou_aux_1: 0.4143 (0.4230)  loss_fgl_aux_1: 1.1946 (1.1890)  loss_ddf_aux_1: 0.0068 (0.0068)  loss_mal_pre: 1.0312 (1.0177)  loss_bbox_pre: 0.2260 (0.2284)  loss_giou_pre: 0.4722 (0.4769)  loss_mal_enc_0: 1.0518 (1.0699)  loss_bbox_enc_0: 0.3039 (0.3272)  loss_giou_enc_0: 0.6081 (0.6348)  loss_mal_dn_0: 0.7822 (0.7835)  loss_bbox_dn_0: 0.3568 (0.3461)  loss_giou_dn_0: 0.7073 (0.7089)  loss_fgl_dn_0: 1.1960 (1.2046)  loss_ddf_dn_0: 0.8471 (0.8445)  loss_mal_dn_1: 0.7847 (0.7912)  loss_bbox_dn_1: 0.2537 (0.2626)  loss_giou_dn_1: 0.5271 (0.5277)  loss_fgl_dn_1: 1.1517 (1.1523)  loss_ddf_dn_1: 0.0422 (0.0432)  loss_mal_dn_2: 0.7837 (0.7862)  loss_bbox_dn_2: 0.2408 (0.2505)  loss_giou_dn_2: 0.5114 (0.5090)  loss_fgl_dn_2: 1.1510 (1.1512)  loss_mal_dn_pre: 0.7827 (0.7835)  loss_bbox_dn_pre: 0.3629 (0.3497)  loss_giou_dn_pre: 0.7072 (0.7076)\n",
      "Test:  [0/5]  eta: 0:00:04    time: 0.8569  data: 0.7445  max mem: 10532\n"
     ]
    },
    {
     "name": "stderr",
     "output_type": "stream",
     "text": [
      "\u001b[32m2025-03-10 16:28:27.769\u001b[0m | \u001b[1mINFO    \u001b[0m | \u001b[36mdeimkit.trainer\u001b[0m:\u001b[36m_save_checkpoint\u001b[0m:\u001b[36m363\u001b[0m - \u001b[1mSaving checkpoint to outputs/deim_hgnetv2_s_coco_ema_tune/best.pth\u001b[0m\n"
     ]
    },
    {
     "name": "stdout",
     "output_type": "stream",
     "text": [
      "Test:  [4/5]  eta: 0:00:00    time: 0.2940  data: 0.1600  max mem: 10532\n",
      "Test: Total time: 0:00:01 (0.3062 s / it)\n",
      "Averaged stats: \n",
      "Accumulating evaluation results...\n",
      "COCOeval_opt.accumulate() finished...\n",
      "DONE (t=0.02s).\n",
      "IoU metric: bbox\n",
      " Average Precision  (AP) @[ IoU=0.50:0.95 | area=   all | maxDets=100 ] = 0.554\n",
      " Average Precision  (AP) @[ IoU=0.50      | area=   all | maxDets=100 ] = 0.801\n",
      " Average Precision  (AP) @[ IoU=0.75      | area=   all | maxDets=100 ] = 0.651\n",
      " Average Precision  (AP) @[ IoU=0.50:0.95 | area= small | maxDets=100 ] = 0.416\n",
      " Average Precision  (AP) @[ IoU=0.50:0.95 | area=medium | maxDets=100 ] = 0.601\n",
      " Average Precision  (AP) @[ IoU=0.50:0.95 | area= large | maxDets=100 ] = 0.428\n",
      " Average Recall     (AR) @[ IoU=0.50:0.95 | area=   all | maxDets=  1 ] = 0.402\n",
      " Average Recall     (AR) @[ IoU=0.50:0.95 | area=   all | maxDets= 10 ] = 0.670\n",
      " Average Recall     (AR) @[ IoU=0.50:0.95 | area=   all | maxDets=100 ] = 0.774\n",
      " Average Recall     (AR) @[ IoU=0.50:0.95 | area= small | maxDets=100 ] = 0.660\n",
      " Average Recall     (AR) @[ IoU=0.50:0.95 | area=medium | maxDets=100 ] = 0.775\n",
      " Average Recall     (AR) @[ IoU=0.50:0.95 | area= large | maxDets=100 ] = 0.781\n",
      " Average Recall     (AR) @[ IoU=0.50      | area=   all | maxDets=100 ] = 0.999\n",
      " Average Recall     (AR) @[ IoU=0.75      | area=   all | maxDets=100 ] = 0.924\n"
     ]
    },
    {
     "name": "stderr",
     "output_type": "stream",
     "text": [
      "\u001b[32m2025-03-10 16:28:28.143\u001b[0m | \u001b[1mINFO    \u001b[0m | \u001b[36mdeimkit.trainer\u001b[0m:\u001b[36m_save_checkpoint\u001b[0m:\u001b[36m380\u001b[0m - \u001b[1mCheckpoint saved to outputs/deim_hgnetv2_s_coco_ema_tune/best.pth\u001b[0m\n",
      "\u001b[32m2025-03-10 16:28:28.145\u001b[0m | \u001b[1mINFO    \u001b[0m | \u001b[36mdeimkit.trainer\u001b[0m:\u001b[36mtrain\u001b[0m:\u001b[36m312\u001b[0m - \u001b[1mEpoch 68 - Train loss: 23.7600, Eval mAP: 0.5541\u001b[0m\n",
      "\u001b[32m2025-03-10 16:28:28.146\u001b[0m | \u001b[1mINFO    \u001b[0m | \u001b[36mdeimkit.trainer\u001b[0m:\u001b[36mtrain\u001b[0m:\u001b[36m315\u001b[0m - \u001b[1mBest stats: {'epoch': 68, 'coco_eval_bbox': 0.5541427141440176}\u001b[0m\n"
     ]
    },
    {
     "name": "stdout",
     "output_type": "stream",
     "text": [
      "Epoch: [69]  [ 0/15]  eta: 0:00:28  lr: 0.000198  loss: 23.8820 (23.8820)  loss_mal: 0.9756 (0.9756)  loss_bbox: 0.2283 (0.2283)  loss_giou: 0.3955 (0.3955)  loss_fgl: 1.2145 (1.2145)  loss_mal_aux_0: 1.0195 (1.0195)  loss_bbox_aux_0: 0.2542 (0.2542)  loss_giou_aux_0: 0.4631 (0.4631)  loss_fgl_aux_0: 1.2436 (1.2436)  loss_ddf_aux_0: 0.1587 (0.1587)  loss_mal_aux_1: 1.0068 (1.0068)  loss_bbox_aux_1: 0.2328 (0.2328)  loss_giou_aux_1: 0.4033 (0.4033)  loss_fgl_aux_1: 1.2147 (1.2147)  loss_ddf_aux_1: 0.0075 (0.0075)  loss_mal_pre: 1.0166 (1.0166)  loss_bbox_pre: 0.2538 (0.2538)  loss_giou_pre: 0.4619 (0.4619)  loss_mal_enc_0: 1.0723 (1.0723)  loss_bbox_enc_0: 0.3684 (0.3684)  loss_giou_enc_0: 0.6330 (0.6330)  loss_mal_dn_0: 0.7930 (0.7930)  loss_bbox_dn_0: 0.3907 (0.3907)  loss_giou_dn_0: 0.7091 (0.7091)  loss_fgl_dn_0: 1.2153 (1.2153)  loss_ddf_dn_0: 0.9076 (0.9076)  loss_mal_dn_1: 0.7891 (0.7891)  loss_bbox_dn_1: 0.2747 (0.2747)  loss_giou_dn_1: 0.4847 (0.4847)  loss_fgl_dn_1: 1.1431 (1.1431)  loss_ddf_dn_1: 0.0520 (0.0520)  loss_mal_dn_2: 0.7739 (0.7739)  loss_bbox_dn_2: 0.2539 (0.2539)  loss_giou_dn_2: 0.4562 (0.4562)  loss_fgl_dn_2: 1.1344 (1.1344)  loss_mal_dn_pre: 0.7939 (0.7939)  loss_bbox_dn_pre: 0.3895 (0.3895)  loss_giou_dn_pre: 0.6968 (0.6968)  time: 1.8834  data: 1.3509  max mem: 10532\n"
     ]
    },
    {
     "name": "stderr",
     "output_type": "stream",
     "text": [
      "\u001b[32m2025-03-10 16:28:35.533\u001b[0m | \u001b[1mINFO    \u001b[0m | \u001b[36mdeimkit.trainer\u001b[0m:\u001b[36mevaluate\u001b[0m:\u001b[36m331\u001b[0m - \u001b[1mEvaluating model...\u001b[0m\n"
     ]
    },
    {
     "name": "stdout",
     "output_type": "stream",
     "text": [
      "Epoch: [69]  [14/15]  eta: 0:00:00  lr: 0.000197  loss: 23.2003 (23.6941)  loss_mal: 0.9858 (1.0118)  loss_bbox: 0.1939 (0.2070)  loss_giou: 0.4015 (0.4102)  loss_fgl: 1.1908 (1.1888)  loss_mal_aux_0: 1.0098 (1.0251)  loss_bbox_aux_0: 0.2326 (0.2401)  loss_giou_aux_0: 0.4631 (0.4673)  loss_fgl_aux_0: 1.2266 (1.2247)  loss_ddf_aux_0: 0.1587 (0.1649)  loss_mal_aux_1: 0.9907 (1.0148)  loss_bbox_aux_1: 0.1988 (0.2096)  loss_giou_aux_1: 0.4033 (0.4146)  loss_fgl_aux_1: 1.1928 (1.1913)  loss_ddf_aux_1: 0.0075 (0.0075)  loss_mal_pre: 1.0010 (1.0221)  loss_bbox_pre: 0.2308 (0.2400)  loss_giou_pre: 0.4619 (0.4674)  loss_mal_enc_0: 1.0557 (1.1010)  loss_bbox_enc_0: 0.3114 (0.3370)  loss_giou_enc_0: 0.5813 (0.6090)  loss_mal_dn_0: 0.7852 (0.7840)  loss_bbox_dn_0: 0.3519 (0.3612)  loss_giou_dn_0: 0.7091 (0.6997)  loss_fgl_dn_0: 1.2048 (1.2050)  loss_ddf_dn_0: 0.7644 (0.8154)  loss_mal_dn_1: 0.7817 (0.7865)  loss_bbox_dn_1: 0.2552 (0.2685)  loss_giou_dn_1: 0.4968 (0.5142)  loss_fgl_dn_1: 1.1472 (1.1460)  loss_ddf_dn_1: 0.0484 (0.0497)  loss_mal_dn_2: 0.7744 (0.7755)  loss_bbox_dn_2: 0.2376 (0.2552)  loss_giou_dn_2: 0.4779 (0.4921)  loss_fgl_dn_2: 1.1422 (1.1418)  loss_mal_dn_pre: 0.7832 (0.7831)  loss_bbox_dn_pre: 0.3595 (0.3640)  loss_giou_dn_pre: 0.6891 (0.6981)  time: 0.4864  data: 0.1058  max mem: 10532\n",
      "Epoch: [69] Total time: 0:00:07 (0.4911 s / it)\n",
      "Averaged stats: lr: 0.000197  loss: 23.2003 (23.6941)  loss_mal: 0.9858 (1.0118)  loss_bbox: 0.1939 (0.2070)  loss_giou: 0.4015 (0.4102)  loss_fgl: 1.1908 (1.1888)  loss_mal_aux_0: 1.0098 (1.0251)  loss_bbox_aux_0: 0.2326 (0.2401)  loss_giou_aux_0: 0.4631 (0.4673)  loss_fgl_aux_0: 1.2266 (1.2247)  loss_ddf_aux_0: 0.1587 (0.1649)  loss_mal_aux_1: 0.9907 (1.0148)  loss_bbox_aux_1: 0.1988 (0.2096)  loss_giou_aux_1: 0.4033 (0.4146)  loss_fgl_aux_1: 1.1928 (1.1913)  loss_ddf_aux_1: 0.0075 (0.0075)  loss_mal_pre: 1.0010 (1.0221)  loss_bbox_pre: 0.2308 (0.2400)  loss_giou_pre: 0.4619 (0.4674)  loss_mal_enc_0: 1.0557 (1.1010)  loss_bbox_enc_0: 0.3114 (0.3370)  loss_giou_enc_0: 0.5813 (0.6090)  loss_mal_dn_0: 0.7852 (0.7840)  loss_bbox_dn_0: 0.3519 (0.3612)  loss_giou_dn_0: 0.7091 (0.6997)  loss_fgl_dn_0: 1.2048 (1.2050)  loss_ddf_dn_0: 0.7644 (0.8154)  loss_mal_dn_1: 0.7817 (0.7865)  loss_bbox_dn_1: 0.2552 (0.2685)  loss_giou_dn_1: 0.4968 (0.5142)  loss_fgl_dn_1: 1.1472 (1.1460)  loss_ddf_dn_1: 0.0484 (0.0497)  loss_mal_dn_2: 0.7744 (0.7755)  loss_bbox_dn_2: 0.2376 (0.2552)  loss_giou_dn_2: 0.4779 (0.4921)  loss_fgl_dn_2: 1.1422 (1.1418)  loss_mal_dn_pre: 0.7832 (0.7831)  loss_bbox_dn_pre: 0.3595 (0.3640)  loss_giou_dn_pre: 0.6891 (0.6981)\n",
      "Test:  [0/5]  eta: 0:00:03    time: 0.7737  data: 0.6545  max mem: 10532\n"
     ]
    },
    {
     "name": "stderr",
     "output_type": "stream",
     "text": [
      "\u001b[32m2025-03-10 16:28:37.079\u001b[0m | \u001b[1mINFO    \u001b[0m | \u001b[36mdeimkit.trainer\u001b[0m:\u001b[36m_save_checkpoint\u001b[0m:\u001b[36m363\u001b[0m - \u001b[1mSaving checkpoint to outputs/deim_hgnetv2_s_coco_ema_tune/best.pth\u001b[0m\n"
     ]
    },
    {
     "name": "stdout",
     "output_type": "stream",
     "text": [
      "Test:  [4/5]  eta: 0:00:00    time: 0.2874  data: 0.1448  max mem: 10532\n",
      "Test: Total time: 0:00:01 (0.3023 s / it)\n",
      "Averaged stats: \n",
      "Accumulating evaluation results...\n",
      "COCOeval_opt.accumulate() finished...\n",
      "DONE (t=0.02s).\n",
      "IoU metric: bbox\n",
      " Average Precision  (AP) @[ IoU=0.50:0.95 | area=   all | maxDets=100 ] = 0.579\n",
      " Average Precision  (AP) @[ IoU=0.50      | area=   all | maxDets=100 ] = 0.843\n",
      " Average Precision  (AP) @[ IoU=0.75      | area=   all | maxDets=100 ] = 0.673\n",
      " Average Precision  (AP) @[ IoU=0.50:0.95 | area= small | maxDets=100 ] = 0.346\n",
      " Average Precision  (AP) @[ IoU=0.50:0.95 | area=medium | maxDets=100 ] = 0.602\n",
      " Average Precision  (AP) @[ IoU=0.50:0.95 | area= large | maxDets=100 ] = 0.456\n",
      " Average Recall     (AR) @[ IoU=0.50:0.95 | area=   all | maxDets=  1 ] = 0.403\n",
      " Average Recall     (AR) @[ IoU=0.50:0.95 | area=   all | maxDets= 10 ] = 0.662\n",
      " Average Recall     (AR) @[ IoU=0.50:0.95 | area=   all | maxDets=100 ] = 0.770\n",
      " Average Recall     (AR) @[ IoU=0.50:0.95 | area= small | maxDets=100 ] = 0.740\n",
      " Average Recall     (AR) @[ IoU=0.50:0.95 | area=medium | maxDets=100 ] = 0.776\n",
      " Average Recall     (AR) @[ IoU=0.50:0.95 | area= large | maxDets=100 ] = 0.812\n",
      " Average Recall     (AR) @[ IoU=0.50      | area=   all | maxDets=100 ] = 0.999\n",
      " Average Recall     (AR) @[ IoU=0.75      | area=   all | maxDets=100 ] = 0.909\n"
     ]
    },
    {
     "name": "stderr",
     "output_type": "stream",
     "text": [
      "\u001b[32m2025-03-10 16:28:37.477\u001b[0m | \u001b[1mINFO    \u001b[0m | \u001b[36mdeimkit.trainer\u001b[0m:\u001b[36m_save_checkpoint\u001b[0m:\u001b[36m380\u001b[0m - \u001b[1mCheckpoint saved to outputs/deim_hgnetv2_s_coco_ema_tune/best.pth\u001b[0m\n",
      "\u001b[32m2025-03-10 16:28:37.478\u001b[0m | \u001b[1mINFO    \u001b[0m | \u001b[36mdeimkit.trainer\u001b[0m:\u001b[36mtrain\u001b[0m:\u001b[36m312\u001b[0m - \u001b[1mEpoch 69 - Train loss: 23.6941, Eval mAP: 0.5788\u001b[0m\n",
      "\u001b[32m2025-03-10 16:28:37.479\u001b[0m | \u001b[1mINFO    \u001b[0m | \u001b[36mdeimkit.trainer\u001b[0m:\u001b[36mtrain\u001b[0m:\u001b[36m315\u001b[0m - \u001b[1mBest stats: {'epoch': 69, 'coco_eval_bbox': 0.5787940674305131}\u001b[0m\n"
     ]
    },
    {
     "name": "stdout",
     "output_type": "stream",
     "text": [
      "Epoch: [70]  [ 0/15]  eta: 0:00:24  lr: 0.000197  loss: 23.5619 (23.5619)  loss_mal: 0.9985 (0.9985)  loss_bbox: 0.1993 (0.1993)  loss_giou: 0.4133 (0.4133)  loss_fgl: 1.1919 (1.1919)  loss_mal_aux_0: 1.0527 (1.0527)  loss_bbox_aux_0: 0.2117 (0.2117)  loss_giou_aux_0: 0.4445 (0.4445)  loss_fgl_aux_0: 1.2202 (1.2202)  loss_ddf_aux_0: 0.1300 (0.1300)  loss_mal_aux_1: 1.0693 (1.0693)  loss_bbox_aux_1: 0.2012 (0.2012)  loss_giou_aux_1: 0.4160 (0.4160)  loss_fgl_aux_1: 1.1972 (1.1972)  loss_ddf_aux_1: 0.0064 (0.0064)  loss_mal_pre: 1.0469 (1.0469)  loss_bbox_pre: 0.2115 (0.2115)  loss_giou_pre: 0.4414 (0.4414)  loss_mal_enc_0: 1.1172 (1.1172)  loss_bbox_enc_0: 0.2843 (0.2843)  loss_giou_enc_0: 0.5451 (0.5451)  loss_mal_dn_0: 0.7798 (0.7798)  loss_bbox_dn_0: 0.3804 (0.3804)  loss_giou_dn_0: 0.7265 (0.7265)  loss_fgl_dn_0: 1.2142 (1.2142)  loss_ddf_dn_0: 0.7113 (0.7113)  loss_mal_dn_1: 0.7954 (0.7954)  loss_bbox_dn_1: 0.2704 (0.2704)  loss_giou_dn_1: 0.5219 (0.5219)  loss_fgl_dn_1: 1.1594 (1.1594)  loss_ddf_dn_1: 0.0478 (0.0478)  loss_mal_dn_2: 0.7749 (0.7749)  loss_bbox_dn_2: 0.2547 (0.2547)  loss_giou_dn_2: 0.4994 (0.4994)  loss_fgl_dn_2: 1.1520 (1.1520)  loss_mal_dn_pre: 0.7788 (0.7788)  loss_bbox_dn_pre: 0.3789 (0.3789)  loss_giou_dn_pre: 0.7175 (0.7175)  time: 1.6501  data: 1.1409  max mem: 10532\n"
     ]
    },
    {
     "name": "stderr",
     "output_type": "stream",
     "text": [
      "\u001b[32m2025-03-10 16:28:44.670\u001b[0m | \u001b[1mINFO    \u001b[0m | \u001b[36mdeimkit.trainer\u001b[0m:\u001b[36mevaluate\u001b[0m:\u001b[36m331\u001b[0m - \u001b[1mEvaluating model...\u001b[0m\n"
     ]
    },
    {
     "name": "stdout",
     "output_type": "stream",
     "text": [
      "Epoch: [70]  [14/15]  eta: 0:00:00  lr: 0.000196  loss: 23.7253 (24.0160)  loss_mal: 1.0420 (1.0425)  loss_bbox: 0.2066 (0.2184)  loss_giou: 0.4133 (0.4157)  loss_fgl: 1.1895 (1.1884)  loss_mal_aux_0: 1.0527 (1.0675)  loss_bbox_aux_0: 0.2553 (0.2500)  loss_giou_aux_0: 0.4635 (0.4664)  loss_fgl_aux_0: 1.2211 (1.2216)  loss_ddf_aux_0: 0.1635 (0.1760)  loss_mal_aux_1: 1.0693 (1.0632)  loss_bbox_aux_1: 0.2092 (0.2203)  loss_giou_aux_1: 0.4195 (0.4187)  loss_fgl_aux_1: 1.1902 (1.1904)  loss_ddf_aux_1: 0.0075 (0.0082)  loss_mal_pre: 1.0469 (1.0661)  loss_bbox_pre: 0.2548 (0.2496)  loss_giou_pre: 0.4680 (0.4667)  loss_mal_enc_0: 1.0947 (1.1169)  loss_bbox_enc_0: 0.3324 (0.3462)  loss_giou_enc_0: 0.5986 (0.6052)  loss_mal_dn_0: 0.7812 (0.7836)  loss_bbox_dn_0: 0.3687 (0.3808)  loss_giou_dn_0: 0.7044 (0.6968)  loss_fgl_dn_0: 1.1902 (1.2055)  loss_ddf_dn_0: 0.8061 (0.8189)  loss_mal_dn_1: 0.7754 (0.7774)  loss_bbox_dn_1: 0.2764 (0.2867)  loss_giou_dn_1: 0.5197 (0.5213)  loss_fgl_dn_1: 1.1439 (1.1465)  loss_ddf_dn_1: 0.0478 (0.0478)  loss_mal_dn_2: 0.7710 (0.7672)  loss_bbox_dn_2: 0.2646 (0.2728)  loss_giou_dn_2: 0.4988 (0.4998)  loss_fgl_dn_2: 1.1439 (1.1436)  loss_mal_dn_pre: 0.7822 (0.7836)  loss_bbox_dn_pre: 0.3743 (0.3857)  loss_giou_dn_pre: 0.7068 (0.7000)  time: 0.4734  data: 0.0926  max mem: 10532\n",
      "Epoch: [70] Total time: 0:00:07 (0.4779 s / it)\n",
      "Averaged stats: lr: 0.000196  loss: 23.7253 (24.0160)  loss_mal: 1.0420 (1.0425)  loss_bbox: 0.2066 (0.2184)  loss_giou: 0.4133 (0.4157)  loss_fgl: 1.1895 (1.1884)  loss_mal_aux_0: 1.0527 (1.0675)  loss_bbox_aux_0: 0.2553 (0.2500)  loss_giou_aux_0: 0.4635 (0.4664)  loss_fgl_aux_0: 1.2211 (1.2216)  loss_ddf_aux_0: 0.1635 (0.1760)  loss_mal_aux_1: 1.0693 (1.0632)  loss_bbox_aux_1: 0.2092 (0.2203)  loss_giou_aux_1: 0.4195 (0.4187)  loss_fgl_aux_1: 1.1902 (1.1904)  loss_ddf_aux_1: 0.0075 (0.0082)  loss_mal_pre: 1.0469 (1.0661)  loss_bbox_pre: 0.2548 (0.2496)  loss_giou_pre: 0.4680 (0.4667)  loss_mal_enc_0: 1.0947 (1.1169)  loss_bbox_enc_0: 0.3324 (0.3462)  loss_giou_enc_0: 0.5986 (0.6052)  loss_mal_dn_0: 0.7812 (0.7836)  loss_bbox_dn_0: 0.3687 (0.3808)  loss_giou_dn_0: 0.7044 (0.6968)  loss_fgl_dn_0: 1.1902 (1.2055)  loss_ddf_dn_0: 0.8061 (0.8189)  loss_mal_dn_1: 0.7754 (0.7774)  loss_bbox_dn_1: 0.2764 (0.2867)  loss_giou_dn_1: 0.5197 (0.5213)  loss_fgl_dn_1: 1.1439 (1.1465)  loss_ddf_dn_1: 0.0478 (0.0478)  loss_mal_dn_2: 0.7710 (0.7672)  loss_bbox_dn_2: 0.2646 (0.2728)  loss_giou_dn_2: 0.4988 (0.4998)  loss_fgl_dn_2: 1.1439 (1.1436)  loss_mal_dn_pre: 0.7822 (0.7836)  loss_bbox_dn_pre: 0.3743 (0.3857)  loss_giou_dn_pre: 0.7068 (0.7000)\n",
      "Test:  [0/5]  eta: 0:00:03    time: 0.7803  data: 0.6715  max mem: 10532\n"
     ]
    },
    {
     "name": "stderr",
     "output_type": "stream",
     "text": [
      "\u001b[32m2025-03-10 16:28:46.146\u001b[0m | \u001b[1mINFO    \u001b[0m | \u001b[36mdeimkit.trainer\u001b[0m:\u001b[36mtrain\u001b[0m:\u001b[36m312\u001b[0m - \u001b[1mEpoch 70 - Train loss: 24.0160, Eval mAP: 0.5733\u001b[0m\n",
      "\u001b[32m2025-03-10 16:28:46.146\u001b[0m | \u001b[1mINFO    \u001b[0m | \u001b[36mdeimkit.trainer\u001b[0m:\u001b[36mtrain\u001b[0m:\u001b[36m315\u001b[0m - \u001b[1mBest stats: {'epoch': 69, 'coco_eval_bbox': 0.5787940674305131}\u001b[0m\n"
     ]
    },
    {
     "name": "stdout",
     "output_type": "stream",
     "text": [
      "Test:  [4/5]  eta: 0:00:00    time: 0.2777  data: 0.1459  max mem: 10532\n",
      "Test: Total time: 0:00:01 (0.2890 s / it)\n",
      "Averaged stats: \n",
      "Accumulating evaluation results...\n",
      "COCOeval_opt.accumulate() finished...\n",
      "DONE (t=0.02s).\n",
      "IoU metric: bbox\n",
      " Average Precision  (AP) @[ IoU=0.50:0.95 | area=   all | maxDets=100 ] = 0.573\n",
      " Average Precision  (AP) @[ IoU=0.50      | area=   all | maxDets=100 ] = 0.824\n",
      " Average Precision  (AP) @[ IoU=0.75      | area=   all | maxDets=100 ] = 0.655\n",
      " Average Precision  (AP) @[ IoU=0.50:0.95 | area= small | maxDets=100 ] = 0.281\n",
      " Average Precision  (AP) @[ IoU=0.50:0.95 | area=medium | maxDets=100 ] = 0.607\n",
      " Average Precision  (AP) @[ IoU=0.50:0.95 | area= large | maxDets=100 ] = 0.449\n",
      " Average Recall     (AR) @[ IoU=0.50:0.95 | area=   all | maxDets=  1 ] = 0.392\n",
      " Average Recall     (AR) @[ IoU=0.50:0.95 | area=   all | maxDets= 10 ] = 0.671\n",
      " Average Recall     (AR) @[ IoU=0.50:0.95 | area=   all | maxDets=100 ] = 0.772\n",
      " Average Recall     (AR) @[ IoU=0.50:0.95 | area= small | maxDets=100 ] = 0.720\n",
      " Average Recall     (AR) @[ IoU=0.50:0.95 | area=medium | maxDets=100 ] = 0.782\n",
      " Average Recall     (AR) @[ IoU=0.50:0.95 | area= large | maxDets=100 ] = 0.780\n",
      " Average Recall     (AR) @[ IoU=0.50      | area=   all | maxDets=100 ] = 0.994\n",
      " Average Recall     (AR) @[ IoU=0.75      | area=   all | maxDets=100 ] = 0.903\n",
      "Epoch: [71]  [ 0/15]  eta: 0:00:26  lr: 0.000196  loss: 24.5939 (24.5939)  loss_mal: 1.0713 (1.0713)  loss_bbox: 0.2635 (0.2635)  loss_giou: 0.4421 (0.4421)  loss_fgl: 1.2219 (1.2219)  loss_mal_aux_0: 1.1572 (1.1572)  loss_bbox_aux_0: 0.2957 (0.2957)  loss_giou_aux_0: 0.4819 (0.4819)  loss_fgl_aux_0: 1.2503 (1.2503)  loss_ddf_aux_0: 0.1531 (0.1531)  loss_mal_aux_1: 1.0762 (1.0762)  loss_bbox_aux_1: 0.2694 (0.2694)  loss_giou_aux_1: 0.4464 (0.4464)  loss_fgl_aux_1: 1.2253 (1.2253)  loss_ddf_aux_1: 0.0058 (0.0058)  loss_mal_pre: 1.1523 (1.1523)  loss_bbox_pre: 0.2898 (0.2898)  loss_giou_pre: 0.4797 (0.4797)  loss_mal_enc_0: 1.1299 (1.1299)  loss_bbox_enc_0: 0.3906 (0.3906)  loss_giou_enc_0: 0.6180 (0.6180)  loss_mal_dn_0: 0.7734 (0.7734)  loss_bbox_dn_0: 0.4183 (0.4183)  loss_giou_dn_0: 0.7084 (0.7084)  loss_fgl_dn_0: 1.1817 (1.1817)  loss_ddf_dn_0: 0.5976 (0.5976)  loss_mal_dn_1: 0.7812 (0.7812)  loss_bbox_dn_1: 0.3209 (0.3209)  loss_giou_dn_1: 0.5479 (0.5479)  loss_fgl_dn_1: 1.1519 (1.1519)  loss_ddf_dn_1: 0.0317 (0.0317)  loss_mal_dn_2: 0.7734 (0.7734)  loss_bbox_dn_2: 0.3052 (0.3052)  loss_giou_dn_2: 0.5256 (0.5256)  loss_fgl_dn_2: 1.1499 (1.1499)  loss_mal_dn_pre: 0.7720 (0.7720)  loss_bbox_dn_pre: 0.4245 (0.4245)  loss_giou_dn_pre: 0.7097 (0.7097)  time: 1.7586  data: 1.3257  max mem: 10532\n"
     ]
    },
    {
     "name": "stderr",
     "output_type": "stream",
     "text": [
      "\u001b[32m2025-03-10 16:28:53.208\u001b[0m | \u001b[1mINFO    \u001b[0m | \u001b[36mdeimkit.trainer\u001b[0m:\u001b[36m_save_checkpoint\u001b[0m:\u001b[36m363\u001b[0m - \u001b[1mSaving checkpoint to outputs/deim_hgnetv2_s_coco_ema_tune/checkpoint0071.pth\u001b[0m\n"
     ]
    },
    {
     "name": "stdout",
     "output_type": "stream",
     "text": [
      "Epoch: [71]  [14/15]  eta: 0:00:00  lr: 0.000195  loss: 23.3931 (23.5618)  loss_mal: 0.9854 (0.9951)  loss_bbox: 0.2118 (0.2142)  loss_giou: 0.4030 (0.4062)  loss_fgl: 1.1965 (1.1941)  loss_mal_aux_0: 1.0205 (1.0334)  loss_bbox_aux_0: 0.2359 (0.2424)  loss_giou_aux_0: 0.4373 (0.4513)  loss_fgl_aux_0: 1.2183 (1.2240)  loss_ddf_aux_0: 0.1531 (0.1509)  loss_mal_aux_1: 1.0020 (1.0146)  loss_bbox_aux_1: 0.2129 (0.2173)  loss_giou_aux_1: 0.4048 (0.4102)  loss_fgl_aux_1: 1.1965 (1.1960)  loss_ddf_aux_1: 0.0081 (0.0083)  loss_mal_pre: 1.0166 (1.0308)  loss_bbox_pre: 0.2357 (0.2420)  loss_giou_pre: 0.4394 (0.4530)  loss_mal_enc_0: 1.0898 (1.0881)  loss_bbox_enc_0: 0.3331 (0.3350)  loss_giou_enc_0: 0.5812 (0.5936)  loss_mal_dn_0: 0.7793 (0.7793)  loss_bbox_dn_0: 0.3408 (0.3578)  loss_giou_dn_0: 0.6720 (0.6853)  loss_fgl_dn_0: 1.2081 (1.2056)  loss_ddf_dn_0: 0.7819 (0.7793)  loss_mal_dn_1: 0.7764 (0.7749)  loss_bbox_dn_1: 0.2671 (0.2754)  loss_giou_dn_1: 0.5130 (0.5071)  loss_fgl_dn_1: 1.1525 (1.1554)  loss_ddf_dn_1: 0.0498 (0.0485)  loss_mal_dn_2: 0.7661 (0.7661)  loss_bbox_dn_2: 0.2548 (0.2625)  loss_giou_dn_2: 0.4921 (0.4870)  loss_fgl_dn_2: 1.1499 (1.1521)  loss_mal_dn_pre: 0.7788 (0.7786)  loss_bbox_dn_pre: 0.3470 (0.3615)  loss_giou_dn_pre: 0.6741 (0.6849)  time: 0.4656  data: 0.1037  max mem: 10532\n",
      "Epoch: [71] Total time: 0:00:07 (0.4695 s / it)\n",
      "Averaged stats: lr: 0.000195  loss: 23.3931 (23.5618)  loss_mal: 0.9854 (0.9951)  loss_bbox: 0.2118 (0.2142)  loss_giou: 0.4030 (0.4062)  loss_fgl: 1.1965 (1.1941)  loss_mal_aux_0: 1.0205 (1.0334)  loss_bbox_aux_0: 0.2359 (0.2424)  loss_giou_aux_0: 0.4373 (0.4513)  loss_fgl_aux_0: 1.2183 (1.2240)  loss_ddf_aux_0: 0.1531 (0.1509)  loss_mal_aux_1: 1.0020 (1.0146)  loss_bbox_aux_1: 0.2129 (0.2173)  loss_giou_aux_1: 0.4048 (0.4102)  loss_fgl_aux_1: 1.1965 (1.1960)  loss_ddf_aux_1: 0.0081 (0.0083)  loss_mal_pre: 1.0166 (1.0308)  loss_bbox_pre: 0.2357 (0.2420)  loss_giou_pre: 0.4394 (0.4530)  loss_mal_enc_0: 1.0898 (1.0881)  loss_bbox_enc_0: 0.3331 (0.3350)  loss_giou_enc_0: 0.5812 (0.5936)  loss_mal_dn_0: 0.7793 (0.7793)  loss_bbox_dn_0: 0.3408 (0.3578)  loss_giou_dn_0: 0.6720 (0.6853)  loss_fgl_dn_0: 1.2081 (1.2056)  loss_ddf_dn_0: 0.7819 (0.7793)  loss_mal_dn_1: 0.7764 (0.7749)  loss_bbox_dn_1: 0.2671 (0.2754)  loss_giou_dn_1: 0.5130 (0.5071)  loss_fgl_dn_1: 1.1525 (1.1554)  loss_ddf_dn_1: 0.0498 (0.0485)  loss_mal_dn_2: 0.7661 (0.7661)  loss_bbox_dn_2: 0.2548 (0.2625)  loss_giou_dn_2: 0.4921 (0.4870)  loss_fgl_dn_2: 1.1499 (1.1521)  loss_mal_dn_pre: 0.7788 (0.7786)  loss_bbox_dn_pre: 0.3470 (0.3615)  loss_giou_dn_pre: 0.6741 (0.6849)\n"
     ]
    },
    {
     "name": "stderr",
     "output_type": "stream",
     "text": [
      "\u001b[32m2025-03-10 16:28:53.492\u001b[0m | \u001b[1mINFO    \u001b[0m | \u001b[36mdeimkit.trainer\u001b[0m:\u001b[36m_save_checkpoint\u001b[0m:\u001b[36m380\u001b[0m - \u001b[1mCheckpoint saved to outputs/deim_hgnetv2_s_coco_ema_tune/checkpoint0071.pth\u001b[0m\n",
      "\u001b[32m2025-03-10 16:28:53.494\u001b[0m | \u001b[1mINFO    \u001b[0m | \u001b[36mdeimkit.trainer\u001b[0m:\u001b[36mevaluate\u001b[0m:\u001b[36m331\u001b[0m - \u001b[1mEvaluating model...\u001b[0m\n"
     ]
    },
    {
     "name": "stdout",
     "output_type": "stream",
     "text": [
      "Test:  [0/5]  eta: 0:00:03    time: 0.7511  data: 0.6408  max mem: 10532\n"
     ]
    },
    {
     "name": "stderr",
     "output_type": "stream",
     "text": [
      "\u001b[32m2025-03-10 16:28:54.961\u001b[0m | \u001b[1mINFO    \u001b[0m | \u001b[36mdeimkit.trainer\u001b[0m:\u001b[36mtrain\u001b[0m:\u001b[36m312\u001b[0m - \u001b[1mEpoch 71 - Train loss: 23.5618, Eval mAP: 0.5745\u001b[0m\n",
      "\u001b[32m2025-03-10 16:28:54.962\u001b[0m | \u001b[1mINFO    \u001b[0m | \u001b[36mdeimkit.trainer\u001b[0m:\u001b[36mtrain\u001b[0m:\u001b[36m315\u001b[0m - \u001b[1mBest stats: {'epoch': 69, 'coco_eval_bbox': 0.5787940674305131}\u001b[0m\n"
     ]
    },
    {
     "name": "stdout",
     "output_type": "stream",
     "text": [
      "Test:  [4/5]  eta: 0:00:00    time: 0.2737  data: 0.1413  max mem: 10532\n",
      "Test: Total time: 0:00:01 (0.2875 s / it)\n",
      "Averaged stats: \n",
      "Accumulating evaluation results...\n",
      "COCOeval_opt.accumulate() finished...\n",
      "DONE (t=0.02s).\n",
      "IoU metric: bbox\n",
      " Average Precision  (AP) @[ IoU=0.50:0.95 | area=   all | maxDets=100 ] = 0.574\n",
      " Average Precision  (AP) @[ IoU=0.50      | area=   all | maxDets=100 ] = 0.833\n",
      " Average Precision  (AP) @[ IoU=0.75      | area=   all | maxDets=100 ] = 0.702\n",
      " Average Precision  (AP) @[ IoU=0.50:0.95 | area= small | maxDets=100 ] = 0.340\n",
      " Average Precision  (AP) @[ IoU=0.50:0.95 | area=medium | maxDets=100 ] = 0.587\n",
      " Average Precision  (AP) @[ IoU=0.50:0.95 | area= large | maxDets=100 ] = 0.444\n",
      " Average Recall     (AR) @[ IoU=0.50:0.95 | area=   all | maxDets=  1 ] = 0.391\n",
      " Average Recall     (AR) @[ IoU=0.50:0.95 | area=   all | maxDets= 10 ] = 0.662\n",
      " Average Recall     (AR) @[ IoU=0.50:0.95 | area=   all | maxDets=100 ] = 0.761\n",
      " Average Recall     (AR) @[ IoU=0.50:0.95 | area= small | maxDets=100 ] = 0.580\n",
      " Average Recall     (AR) @[ IoU=0.50:0.95 | area=medium | maxDets=100 ] = 0.740\n",
      " Average Recall     (AR) @[ IoU=0.50:0.95 | area= large | maxDets=100 ] = 0.771\n",
      " Average Recall     (AR) @[ IoU=0.50      | area=   all | maxDets=100 ] = 0.994\n",
      " Average Recall     (AR) @[ IoU=0.75      | area=   all | maxDets=100 ] = 0.921\n",
      "Epoch: [72]  [ 0/15]  eta: 0:00:23  lr: 0.000195  loss: 23.7641 (23.7641)  loss_mal: 1.0186 (1.0186)  loss_bbox: 0.2208 (0.2208)  loss_giou: 0.3977 (0.3977)  loss_fgl: 1.2047 (1.2047)  loss_mal_aux_0: 1.0107 (1.0107)  loss_bbox_aux_0: 0.2473 (0.2473)  loss_giou_aux_0: 0.4431 (0.4431)  loss_fgl_aux_0: 1.2282 (1.2282)  loss_ddf_aux_0: 0.1274 (0.1274)  loss_mal_aux_1: 1.0088 (1.0088)  loss_bbox_aux_1: 0.2222 (0.2222)  loss_giou_aux_1: 0.3975 (0.3975)  loss_fgl_aux_1: 1.2077 (1.2077)  loss_ddf_aux_1: 0.0087 (0.0087)  loss_mal_pre: 1.0078 (1.0078)  loss_bbox_pre: 0.2499 (0.2499)  loss_giou_pre: 0.4511 (0.4511)  loss_mal_enc_0: 1.0547 (1.0547)  loss_bbox_enc_0: 0.3203 (0.3203)  loss_giou_enc_0: 0.5794 (0.5794)  loss_mal_dn_0: 0.7847 (0.7847)  loss_bbox_dn_0: 0.3842 (0.3842)  loss_giou_dn_0: 0.6761 (0.6761)  loss_fgl_dn_0: 1.1941 (1.1941)  loss_ddf_dn_0: 0.8788 (0.8788)  loss_mal_dn_1: 0.7861 (0.7861)  loss_bbox_dn_1: 0.3062 (0.3062)  loss_giou_dn_1: 0.5066 (0.5066)  loss_fgl_dn_1: 1.1681 (1.1681)  loss_ddf_dn_1: 0.0575 (0.0575)  loss_mal_dn_2: 0.7915 (0.7915)  loss_bbox_dn_2: 0.3033 (0.3033)  loss_giou_dn_2: 0.4993 (0.4993)  loss_fgl_dn_2: 1.1656 (1.1656)  loss_mal_dn_pre: 0.7842 (0.7842)  loss_bbox_dn_pre: 0.3910 (0.3910)  loss_giou_dn_pre: 0.6803 (0.6803)  time: 1.5442  data: 1.0518  max mem: 10532\n"
     ]
    },
    {
     "name": "stderr",
     "output_type": "stream",
     "text": [
      "\u001b[32m2025-03-10 16:29:01.585\u001b[0m | \u001b[1mINFO    \u001b[0m | \u001b[36mdeimkit.trainer\u001b[0m:\u001b[36mevaluate\u001b[0m:\u001b[36m331\u001b[0m - \u001b[1mEvaluating model...\u001b[0m\n"
     ]
    },
    {
     "name": "stdout",
     "output_type": "stream",
     "text": [
      "Epoch: [72]  [14/15]  eta: 0:00:00  lr: 0.000194  loss: 23.4717 (23.5840)  loss_mal: 1.0049 (1.0325)  loss_bbox: 0.2109 (0.2177)  loss_giou: 0.3977 (0.4098)  loss_fgl: 1.1841 (1.1848)  loss_mal_aux_0: 0.9946 (1.0084)  loss_bbox_aux_0: 0.2354 (0.2459)  loss_giou_aux_0: 0.4520 (0.4585)  loss_fgl_aux_0: 1.2180 (1.2176)  loss_ddf_aux_0: 0.1601 (0.1536)  loss_mal_aux_1: 1.0088 (1.0341)  loss_bbox_aux_1: 0.2151 (0.2191)  loss_giou_aux_1: 0.3975 (0.4109)  loss_fgl_aux_1: 1.1850 (1.1872)  loss_ddf_aux_1: 0.0086 (0.0086)  loss_mal_pre: 0.9956 (1.0051)  loss_bbox_pre: 0.2352 (0.2457)  loss_giou_pre: 0.4559 (0.4593)  loss_mal_enc_0: 1.0547 (1.0679)  loss_bbox_enc_0: 0.3085 (0.3172)  loss_giou_enc_0: 0.5528 (0.5796)  loss_mal_dn_0: 0.7847 (0.7813)  loss_bbox_dn_0: 0.3614 (0.3690)  loss_giou_dn_0: 0.6761 (0.6813)  loss_fgl_dn_0: 1.2021 (1.2028)  loss_ddf_dn_0: 0.8180 (0.8214)  loss_mal_dn_1: 0.7812 (0.7813)  loss_bbox_dn_1: 0.2705 (0.2793)  loss_giou_dn_1: 0.4981 (0.5034)  loss_fgl_dn_1: 1.1469 (1.1473)  loss_ddf_dn_1: 0.0479 (0.0468)  loss_mal_dn_2: 0.7710 (0.7758)  loss_bbox_dn_2: 0.2560 (0.2673)  loss_giou_dn_2: 0.4752 (0.4875)  loss_fgl_dn_2: 1.1442 (1.1446)  loss_mal_dn_pre: 0.7808 (0.7806)  loss_bbox_dn_pre: 0.3656 (0.3720)  loss_giou_dn_pre: 0.6723 (0.6787)  time: 0.4367  data: 0.0878  max mem: 10532\n",
      "Epoch: [72] Total time: 0:00:06 (0.4406 s / it)\n",
      "Averaged stats: lr: 0.000194  loss: 23.4717 (23.5840)  loss_mal: 1.0049 (1.0325)  loss_bbox: 0.2109 (0.2177)  loss_giou: 0.3977 (0.4098)  loss_fgl: 1.1841 (1.1848)  loss_mal_aux_0: 0.9946 (1.0084)  loss_bbox_aux_0: 0.2354 (0.2459)  loss_giou_aux_0: 0.4520 (0.4585)  loss_fgl_aux_0: 1.2180 (1.2176)  loss_ddf_aux_0: 0.1601 (0.1536)  loss_mal_aux_1: 1.0088 (1.0341)  loss_bbox_aux_1: 0.2151 (0.2191)  loss_giou_aux_1: 0.3975 (0.4109)  loss_fgl_aux_1: 1.1850 (1.1872)  loss_ddf_aux_1: 0.0086 (0.0086)  loss_mal_pre: 0.9956 (1.0051)  loss_bbox_pre: 0.2352 (0.2457)  loss_giou_pre: 0.4559 (0.4593)  loss_mal_enc_0: 1.0547 (1.0679)  loss_bbox_enc_0: 0.3085 (0.3172)  loss_giou_enc_0: 0.5528 (0.5796)  loss_mal_dn_0: 0.7847 (0.7813)  loss_bbox_dn_0: 0.3614 (0.3690)  loss_giou_dn_0: 0.6761 (0.6813)  loss_fgl_dn_0: 1.2021 (1.2028)  loss_ddf_dn_0: 0.8180 (0.8214)  loss_mal_dn_1: 0.7812 (0.7813)  loss_bbox_dn_1: 0.2705 (0.2793)  loss_giou_dn_1: 0.4981 (0.5034)  loss_fgl_dn_1: 1.1469 (1.1473)  loss_ddf_dn_1: 0.0479 (0.0468)  loss_mal_dn_2: 0.7710 (0.7758)  loss_bbox_dn_2: 0.2560 (0.2673)  loss_giou_dn_2: 0.4752 (0.4875)  loss_fgl_dn_2: 1.1442 (1.1446)  loss_mal_dn_pre: 0.7808 (0.7806)  loss_bbox_dn_pre: 0.3656 (0.3720)  loss_giou_dn_pre: 0.6723 (0.6787)\n",
      "Test:  [0/5]  eta: 0:00:03    time: 0.7810  data: 0.6691  max mem: 10532\n"
     ]
    },
    {
     "name": "stderr",
     "output_type": "stream",
     "text": [
      "\u001b[32m2025-03-10 16:29:03.057\u001b[0m | \u001b[1mINFO    \u001b[0m | \u001b[36mdeimkit.trainer\u001b[0m:\u001b[36m_save_checkpoint\u001b[0m:\u001b[36m363\u001b[0m - \u001b[1mSaving checkpoint to outputs/deim_hgnetv2_s_coco_ema_tune/best.pth\u001b[0m\n"
     ]
    },
    {
     "name": "stdout",
     "output_type": "stream",
     "text": [
      "Test:  [4/5]  eta: 0:00:00    time: 0.2764  data: 0.1446  max mem: 10532\n",
      "Test: Total time: 0:00:01 (0.2885 s / it)\n",
      "Averaged stats: \n",
      "Accumulating evaluation results...\n",
      "COCOeval_opt.accumulate() finished...\n",
      "DONE (t=0.02s).\n",
      "IoU metric: bbox\n",
      " Average Precision  (AP) @[ IoU=0.50:0.95 | area=   all | maxDets=100 ] = 0.589\n",
      " Average Precision  (AP) @[ IoU=0.50      | area=   all | maxDets=100 ] = 0.842\n",
      " Average Precision  (AP) @[ IoU=0.75      | area=   all | maxDets=100 ] = 0.688\n",
      " Average Precision  (AP) @[ IoU=0.50:0.95 | area= small | maxDets=100 ] = 0.359\n",
      " Average Precision  (AP) @[ IoU=0.50:0.95 | area=medium | maxDets=100 ] = 0.577\n",
      " Average Precision  (AP) @[ IoU=0.50:0.95 | area= large | maxDets=100 ] = 0.462\n",
      " Average Recall     (AR) @[ IoU=0.50:0.95 | area=   all | maxDets=  1 ] = 0.399\n",
      " Average Recall     (AR) @[ IoU=0.50:0.95 | area=   all | maxDets= 10 ] = 0.665\n",
      " Average Recall     (AR) @[ IoU=0.50:0.95 | area=   all | maxDets=100 ] = 0.766\n",
      " Average Recall     (AR) @[ IoU=0.50:0.95 | area= small | maxDets=100 ] = 0.680\n",
      " Average Recall     (AR) @[ IoU=0.50:0.95 | area=medium | maxDets=100 ] = 0.745\n",
      " Average Recall     (AR) @[ IoU=0.50:0.95 | area= large | maxDets=100 ] = 0.806\n",
      " Average Recall     (AR) @[ IoU=0.50      | area=   all | maxDets=100 ] = 0.994\n",
      " Average Recall     (AR) @[ IoU=0.75      | area=   all | maxDets=100 ] = 0.900\n"
     ]
    },
    {
     "name": "stderr",
     "output_type": "stream",
     "text": [
      "\u001b[32m2025-03-10 16:29:03.469\u001b[0m | \u001b[1mINFO    \u001b[0m | \u001b[36mdeimkit.trainer\u001b[0m:\u001b[36m_save_checkpoint\u001b[0m:\u001b[36m380\u001b[0m - \u001b[1mCheckpoint saved to outputs/deim_hgnetv2_s_coco_ema_tune/best.pth\u001b[0m\n",
      "\u001b[32m2025-03-10 16:29:03.471\u001b[0m | \u001b[1mINFO    \u001b[0m | \u001b[36mdeimkit.trainer\u001b[0m:\u001b[36mtrain\u001b[0m:\u001b[36m312\u001b[0m - \u001b[1mEpoch 72 - Train loss: 23.5840, Eval mAP: 0.5892\u001b[0m\n",
      "\u001b[32m2025-03-10 16:29:03.471\u001b[0m | \u001b[1mINFO    \u001b[0m | \u001b[36mdeimkit.trainer\u001b[0m:\u001b[36mtrain\u001b[0m:\u001b[36m315\u001b[0m - \u001b[1mBest stats: {'epoch': 72, 'coco_eval_bbox': 0.5892380432810359}\u001b[0m\n"
     ]
    },
    {
     "name": "stdout",
     "output_type": "stream",
     "text": [
      "Epoch: [73]  [ 0/15]  eta: 0:00:26  lr: 0.000194  loss: 23.2226 (23.2226)  loss_mal: 0.9189 (0.9189)  loss_bbox: 0.1809 (0.1809)  loss_giou: 0.3670 (0.3670)  loss_fgl: 1.2102 (1.2102)  loss_mal_aux_0: 0.9512 (0.9512)  loss_bbox_aux_0: 0.1992 (0.1992)  loss_giou_aux_0: 0.4121 (0.4121)  loss_fgl_aux_0: 1.2476 (1.2476)  loss_ddf_aux_0: 0.2227 (0.2227)  loss_mal_aux_1: 0.9414 (0.9414)  loss_bbox_aux_1: 0.1802 (0.1802)  loss_giou_aux_1: 0.3670 (0.3670)  loss_fgl_aux_1: 1.2094 (1.2094)  loss_ddf_aux_1: 0.0090 (0.0090)  loss_mal_pre: 0.9507 (0.9507)  loss_bbox_pre: 0.2002 (0.2002)  loss_giou_pre: 0.4167 (0.4167)  loss_mal_enc_0: 1.0869 (1.0869)  loss_bbox_enc_0: 0.3611 (0.3611)  loss_giou_enc_0: 0.6686 (0.6686)  loss_mal_dn_0: 0.7646 (0.7646)  loss_bbox_dn_0: 0.3115 (0.3115)  loss_giou_dn_0: 0.6878 (0.6878)  loss_fgl_dn_0: 1.2754 (1.2754)  loss_ddf_dn_0: 1.0377 (1.0377)  loss_mal_dn_1: 0.7593 (0.7593)  loss_bbox_dn_1: 0.2303 (0.2303)  loss_giou_dn_1: 0.4782 (0.4782)  loss_fgl_dn_1: 1.1790 (1.1790)  loss_ddf_dn_1: 0.0574 (0.0574)  loss_mal_dn_2: 0.7485 (0.7485)  loss_bbox_dn_2: 0.2182 (0.2182)  loss_giou_dn_2: 0.4554 (0.4554)  loss_fgl_dn_2: 1.1698 (1.1698)  loss_mal_dn_pre: 0.7642 (0.7642)  loss_bbox_dn_pre: 0.3086 (0.3086)  loss_giou_dn_pre: 0.6757 (0.6757)  time: 1.7363  data: 1.1721  max mem: 10532\n"
     ]
    },
    {
     "name": "stderr",
     "output_type": "stream",
     "text": [
      "\u001b[32m2025-03-10 16:29:10.571\u001b[0m | \u001b[1mINFO    \u001b[0m | \u001b[36mdeimkit.trainer\u001b[0m:\u001b[36mevaluate\u001b[0m:\u001b[36m331\u001b[0m - \u001b[1mEvaluating model...\u001b[0m\n"
     ]
    },
    {
     "name": "stdout",
     "output_type": "stream",
     "text": [
      "Epoch: [73]  [14/15]  eta: 0:00:00  lr: 0.000192  loss: 22.7170 (22.7737)  loss_mal: 0.9189 (0.9524)  loss_bbox: 0.1808 (0.1841)  loss_giou: 0.3848 (0.3903)  loss_fgl: 1.1873 (1.1862)  loss_mal_aux_0: 0.9458 (0.9771)  loss_bbox_aux_0: 0.1993 (0.2056)  loss_giou_aux_0: 0.4286 (0.4334)  loss_fgl_aux_0: 1.2200 (1.2210)  loss_ddf_aux_0: 0.1371 (0.1476)  loss_mal_aux_1: 0.9312 (0.9616)  loss_bbox_aux_1: 0.1802 (0.1857)  loss_giou_aux_1: 0.3896 (0.3927)  loss_fgl_aux_1: 1.1887 (1.1885)  loss_ddf_aux_1: 0.0062 (0.0067)  loss_mal_pre: 0.9438 (0.9748)  loss_bbox_pre: 0.2002 (0.2047)  loss_giou_pre: 0.4254 (0.4325)  loss_mal_enc_0: 1.0264 (1.0485)  loss_bbox_enc_0: 0.2652 (0.2723)  loss_giou_enc_0: 0.5489 (0.5571)  loss_mal_dn_0: 0.7749 (0.7739)  loss_bbox_dn_0: 0.3105 (0.3214)  loss_giou_dn_0: 0.6489 (0.6622)  loss_fgl_dn_0: 1.2150 (1.2162)  loss_ddf_dn_0: 0.8289 (0.8350)  loss_mal_dn_1: 0.7656 (0.7679)  loss_bbox_dn_1: 0.2303 (0.2411)  loss_giou_dn_1: 0.4782 (0.4868)  loss_fgl_dn_1: 1.1433 (1.1462)  loss_ddf_dn_1: 0.0409 (0.0427)  loss_mal_dn_2: 0.7495 (0.7581)  loss_bbox_dn_2: 0.2217 (0.2298)  loss_giou_dn_2: 0.4554 (0.4679)  loss_fgl_dn_2: 1.1425 (1.1427)  loss_mal_dn_pre: 0.7764 (0.7740)  loss_bbox_dn_pre: 0.3086 (0.3239)  loss_giou_dn_pre: 0.6566 (0.6610)  time: 0.4684  data: 0.0980  max mem: 10532\n",
      "Epoch: [73] Total time: 0:00:07 (0.4723 s / it)\n",
      "Averaged stats: lr: 0.000192  loss: 22.7170 (22.7737)  loss_mal: 0.9189 (0.9524)  loss_bbox: 0.1808 (0.1841)  loss_giou: 0.3848 (0.3903)  loss_fgl: 1.1873 (1.1862)  loss_mal_aux_0: 0.9458 (0.9771)  loss_bbox_aux_0: 0.1993 (0.2056)  loss_giou_aux_0: 0.4286 (0.4334)  loss_fgl_aux_0: 1.2200 (1.2210)  loss_ddf_aux_0: 0.1371 (0.1476)  loss_mal_aux_1: 0.9312 (0.9616)  loss_bbox_aux_1: 0.1802 (0.1857)  loss_giou_aux_1: 0.3896 (0.3927)  loss_fgl_aux_1: 1.1887 (1.1885)  loss_ddf_aux_1: 0.0062 (0.0067)  loss_mal_pre: 0.9438 (0.9748)  loss_bbox_pre: 0.2002 (0.2047)  loss_giou_pre: 0.4254 (0.4325)  loss_mal_enc_0: 1.0264 (1.0485)  loss_bbox_enc_0: 0.2652 (0.2723)  loss_giou_enc_0: 0.5489 (0.5571)  loss_mal_dn_0: 0.7749 (0.7739)  loss_bbox_dn_0: 0.3105 (0.3214)  loss_giou_dn_0: 0.6489 (0.6622)  loss_fgl_dn_0: 1.2150 (1.2162)  loss_ddf_dn_0: 0.8289 (0.8350)  loss_mal_dn_1: 0.7656 (0.7679)  loss_bbox_dn_1: 0.2303 (0.2411)  loss_giou_dn_1: 0.4782 (0.4868)  loss_fgl_dn_1: 1.1433 (1.1462)  loss_ddf_dn_1: 0.0409 (0.0427)  loss_mal_dn_2: 0.7495 (0.7581)  loss_bbox_dn_2: 0.2217 (0.2298)  loss_giou_dn_2: 0.4554 (0.4679)  loss_fgl_dn_2: 1.1425 (1.1427)  loss_mal_dn_pre: 0.7764 (0.7740)  loss_bbox_dn_pre: 0.3086 (0.3239)  loss_giou_dn_pre: 0.6566 (0.6610)\n",
      "Test:  [0/5]  eta: 0:00:03    time: 0.7157  data: 0.6040  max mem: 10532\n"
     ]
    },
    {
     "name": "stderr",
     "output_type": "stream",
     "text": [
      "\u001b[32m2025-03-10 16:29:11.982\u001b[0m | \u001b[1mINFO    \u001b[0m | \u001b[36mdeimkit.trainer\u001b[0m:\u001b[36m_save_checkpoint\u001b[0m:\u001b[36m363\u001b[0m - \u001b[1mSaving checkpoint to outputs/deim_hgnetv2_s_coco_ema_tune/best.pth\u001b[0m\n"
     ]
    },
    {
     "name": "stdout",
     "output_type": "stream",
     "text": [
      "Test:  [4/5]  eta: 0:00:00    time: 0.2643  data: 0.1320  max mem: 10532\n",
      "Test: Total time: 0:00:01 (0.2763 s / it)\n",
      "Averaged stats: \n",
      "Accumulating evaluation results...\n",
      "COCOeval_opt.accumulate() finished...\n",
      "DONE (t=0.02s).\n",
      "IoU metric: bbox\n",
      " Average Precision  (AP) @[ IoU=0.50:0.95 | area=   all | maxDets=100 ] = 0.595\n",
      " Average Precision  (AP) @[ IoU=0.50      | area=   all | maxDets=100 ] = 0.858\n",
      " Average Precision  (AP) @[ IoU=0.75      | area=   all | maxDets=100 ] = 0.698\n",
      " Average Precision  (AP) @[ IoU=0.50:0.95 | area= small | maxDets=100 ] = 0.384\n",
      " Average Precision  (AP) @[ IoU=0.50:0.95 | area=medium | maxDets=100 ] = 0.611\n",
      " Average Precision  (AP) @[ IoU=0.50:0.95 | area= large | maxDets=100 ] = 0.461\n",
      " Average Recall     (AR) @[ IoU=0.50:0.95 | area=   all | maxDets=  1 ] = 0.403\n",
      " Average Recall     (AR) @[ IoU=0.50:0.95 | area=   all | maxDets= 10 ] = 0.676\n",
      " Average Recall     (AR) @[ IoU=0.50:0.95 | area=   all | maxDets=100 ] = 0.770\n",
      " Average Recall     (AR) @[ IoU=0.50:0.95 | area= small | maxDets=100 ] = 0.720\n",
      " Average Recall     (AR) @[ IoU=0.50:0.95 | area=medium | maxDets=100 ] = 0.773\n",
      " Average Recall     (AR) @[ IoU=0.50:0.95 | area= large | maxDets=100 ] = 0.813\n",
      " Average Recall     (AR) @[ IoU=0.50      | area=   all | maxDets=100 ] = 0.998\n",
      " Average Recall     (AR) @[ IoU=0.75      | area=   all | maxDets=100 ] = 0.903\n"
     ]
    },
    {
     "name": "stderr",
     "output_type": "stream",
     "text": [
      "\u001b[32m2025-03-10 16:29:12.314\u001b[0m | \u001b[1mINFO    \u001b[0m | \u001b[36mdeimkit.trainer\u001b[0m:\u001b[36m_save_checkpoint\u001b[0m:\u001b[36m380\u001b[0m - \u001b[1mCheckpoint saved to outputs/deim_hgnetv2_s_coco_ema_tune/best.pth\u001b[0m\n",
      "\u001b[32m2025-03-10 16:29:12.315\u001b[0m | \u001b[1mINFO    \u001b[0m | \u001b[36mdeimkit.trainer\u001b[0m:\u001b[36mtrain\u001b[0m:\u001b[36m312\u001b[0m - \u001b[1mEpoch 73 - Train loss: 22.7737, Eval mAP: 0.5954\u001b[0m\n",
      "\u001b[32m2025-03-10 16:29:12.316\u001b[0m | \u001b[1mINFO    \u001b[0m | \u001b[36mdeimkit.trainer\u001b[0m:\u001b[36mtrain\u001b[0m:\u001b[36m315\u001b[0m - \u001b[1mBest stats: {'epoch': 73, 'coco_eval_bbox': 0.5953502260624842}\u001b[0m\n"
     ]
    },
    {
     "name": "stdout",
     "output_type": "stream",
     "text": [
      "Epoch: [74]  [ 0/15]  eta: 0:00:21  lr: 0.000192  loss: 24.1758 (24.1758)  loss_mal: 0.9341 (0.9341)  loss_bbox: 0.2846 (0.2846)  loss_giou: 0.4269 (0.4269)  loss_fgl: 1.2082 (1.2082)  loss_mal_aux_0: 0.9316 (0.9316)  loss_bbox_aux_0: 0.3110 (0.3110)  loss_giou_aux_0: 0.4738 (0.4738)  loss_fgl_aux_0: 1.2477 (1.2477)  loss_ddf_aux_0: 0.1401 (0.1401)  loss_mal_aux_1: 0.9434 (0.9434)  loss_bbox_aux_1: 0.2873 (0.2873)  loss_giou_aux_1: 0.4300 (0.4300)  loss_fgl_aux_1: 1.2118 (1.2118)  loss_ddf_aux_1: 0.0059 (0.0059)  loss_mal_pre: 0.9326 (0.9326)  loss_bbox_pre: 0.3095 (0.3095)  loss_giou_pre: 0.4739 (0.4739)  loss_mal_enc_0: 1.1006 (1.1006)  loss_bbox_enc_0: 0.3673 (0.3673)  loss_giou_enc_0: 0.5604 (0.5604)  loss_mal_dn_0: 0.7808 (0.7808)  loss_bbox_dn_0: 0.4662 (0.4662)  loss_giou_dn_0: 0.6910 (0.6910)  loss_fgl_dn_0: 1.2389 (1.2389)  loss_ddf_dn_0: 0.8000 (0.8000)  loss_mal_dn_1: 0.7583 (0.7583)  loss_bbox_dn_1: 0.3706 (0.3706)  loss_giou_dn_1: 0.5256 (0.5256)  loss_fgl_dn_1: 1.1818 (1.1818)  loss_ddf_dn_1: 0.0403 (0.0403)  loss_mal_dn_2: 0.7466 (0.7466)  loss_bbox_dn_2: 0.3601 (0.3601)  loss_giou_dn_2: 0.5099 (0.5099)  loss_fgl_dn_2: 1.1793 (1.1793)  loss_mal_dn_pre: 0.7808 (0.7808)  loss_bbox_dn_pre: 0.4705 (0.4705)  loss_giou_dn_pre: 0.6944 (0.6944)  time: 1.4556  data: 0.9568  max mem: 10532\n"
     ]
    },
    {
     "name": "stderr",
     "output_type": "stream",
     "text": [
      "\u001b[32m2025-03-10 16:29:19.431\u001b[0m | \u001b[1mINFO    \u001b[0m | \u001b[36mdeimkit.trainer\u001b[0m:\u001b[36mevaluate\u001b[0m:\u001b[36m331\u001b[0m - \u001b[1mEvaluating model...\u001b[0m\n"
     ]
    },
    {
     "name": "stdout",
     "output_type": "stream",
     "text": [
      "Epoch: [74]  [14/15]  eta: 0:00:00  lr: 0.000191  loss: 22.9017 (23.0323)  loss_mal: 0.9531 (0.9852)  loss_bbox: 0.2033 (0.2046)  loss_giou: 0.3770 (0.3882)  loss_fgl: 1.1853 (1.1822)  loss_mal_aux_0: 0.9570 (0.9858)  loss_bbox_aux_0: 0.2232 (0.2279)  loss_giou_aux_0: 0.4144 (0.4288)  loss_fgl_aux_0: 1.2141 (1.2137)  loss_ddf_aux_0: 0.1401 (0.1475)  loss_mal_aux_1: 0.9595 (0.9884)  loss_bbox_aux_1: 0.2048 (0.2061)  loss_giou_aux_1: 0.3764 (0.3905)  loss_fgl_aux_1: 1.1873 (1.1847)  loss_ddf_aux_1: 0.0069 (0.0069)  loss_mal_pre: 0.9648 (0.9830)  loss_bbox_pre: 0.2237 (0.2280)  loss_giou_pre: 0.4174 (0.4299)  loss_mal_enc_0: 1.0449 (1.0690)  loss_bbox_enc_0: 0.2783 (0.3055)  loss_giou_enc_0: 0.5319 (0.5509)  loss_mal_dn_0: 0.7729 (0.7712)  loss_bbox_dn_0: 0.3356 (0.3522)  loss_giou_dn_0: 0.6607 (0.6619)  loss_fgl_dn_0: 1.2112 (1.2071)  loss_ddf_dn_0: 0.8098 (0.8289)  loss_mal_dn_1: 0.7583 (0.7645)  loss_bbox_dn_1: 0.2571 (0.2633)  loss_giou_dn_1: 0.4779 (0.4867)  loss_fgl_dn_1: 1.1385 (1.1398)  loss_ddf_dn_1: 0.0426 (0.0432)  loss_mal_dn_2: 0.7568 (0.7578)  loss_bbox_dn_2: 0.2459 (0.2524)  loss_giou_dn_2: 0.4609 (0.4692)  loss_fgl_dn_2: 1.1374 (1.1358)  loss_mal_dn_pre: 0.7744 (0.7721)  loss_bbox_dn_pre: 0.3426 (0.3560)  loss_giou_dn_pre: 0.6528 (0.6635)  time: 0.4679  data: 0.0853  max mem: 10532\n",
      "Epoch: [74] Total time: 0:00:07 (0.4729 s / it)\n",
      "Averaged stats: lr: 0.000191  loss: 22.9017 (23.0323)  loss_mal: 0.9531 (0.9852)  loss_bbox: 0.2033 (0.2046)  loss_giou: 0.3770 (0.3882)  loss_fgl: 1.1853 (1.1822)  loss_mal_aux_0: 0.9570 (0.9858)  loss_bbox_aux_0: 0.2232 (0.2279)  loss_giou_aux_0: 0.4144 (0.4288)  loss_fgl_aux_0: 1.2141 (1.2137)  loss_ddf_aux_0: 0.1401 (0.1475)  loss_mal_aux_1: 0.9595 (0.9884)  loss_bbox_aux_1: 0.2048 (0.2061)  loss_giou_aux_1: 0.3764 (0.3905)  loss_fgl_aux_1: 1.1873 (1.1847)  loss_ddf_aux_1: 0.0069 (0.0069)  loss_mal_pre: 0.9648 (0.9830)  loss_bbox_pre: 0.2237 (0.2280)  loss_giou_pre: 0.4174 (0.4299)  loss_mal_enc_0: 1.0449 (1.0690)  loss_bbox_enc_0: 0.2783 (0.3055)  loss_giou_enc_0: 0.5319 (0.5509)  loss_mal_dn_0: 0.7729 (0.7712)  loss_bbox_dn_0: 0.3356 (0.3522)  loss_giou_dn_0: 0.6607 (0.6619)  loss_fgl_dn_0: 1.2112 (1.2071)  loss_ddf_dn_0: 0.8098 (0.8289)  loss_mal_dn_1: 0.7583 (0.7645)  loss_bbox_dn_1: 0.2571 (0.2633)  loss_giou_dn_1: 0.4779 (0.4867)  loss_fgl_dn_1: 1.1385 (1.1398)  loss_ddf_dn_1: 0.0426 (0.0432)  loss_mal_dn_2: 0.7568 (0.7578)  loss_bbox_dn_2: 0.2459 (0.2524)  loss_giou_dn_2: 0.4609 (0.4692)  loss_fgl_dn_2: 1.1374 (1.1358)  loss_mal_dn_pre: 0.7744 (0.7721)  loss_bbox_dn_pre: 0.3426 (0.3560)  loss_giou_dn_pre: 0.6528 (0.6635)\n",
      "Test:  [0/5]  eta: 0:00:03    time: 0.7636  data: 0.6501  max mem: 10532\n"
     ]
    },
    {
     "name": "stderr",
     "output_type": "stream",
     "text": [
      "\u001b[32m2025-03-10 16:29:20.901\u001b[0m | \u001b[1mINFO    \u001b[0m | \u001b[36mdeimkit.trainer\u001b[0m:\u001b[36mtrain\u001b[0m:\u001b[36m312\u001b[0m - \u001b[1mEpoch 74 - Train loss: 23.0323, Eval mAP: 0.5739\u001b[0m\n",
      "\u001b[32m2025-03-10 16:29:20.902\u001b[0m | \u001b[1mINFO    \u001b[0m | \u001b[36mdeimkit.trainer\u001b[0m:\u001b[36mtrain\u001b[0m:\u001b[36m315\u001b[0m - \u001b[1mBest stats: {'epoch': 73, 'coco_eval_bbox': 0.5953502260624842}\u001b[0m\n"
     ]
    },
    {
     "name": "stdout",
     "output_type": "stream",
     "text": [
      "Test:  [4/5]  eta: 0:00:00    time: 0.2772  data: 0.1461  max mem: 10532\n",
      "Test: Total time: 0:00:01 (0.2877 s / it)\n",
      "Averaged stats: \n",
      "Accumulating evaluation results...\n",
      "COCOeval_opt.accumulate() finished...\n",
      "DONE (t=0.02s).\n",
      "IoU metric: bbox\n",
      " Average Precision  (AP) @[ IoU=0.50:0.95 | area=   all | maxDets=100 ] = 0.574\n",
      " Average Precision  (AP) @[ IoU=0.50      | area=   all | maxDets=100 ] = 0.821\n",
      " Average Precision  (AP) @[ IoU=0.75      | area=   all | maxDets=100 ] = 0.662\n",
      " Average Precision  (AP) @[ IoU=0.50:0.95 | area= small | maxDets=100 ] = 0.442\n",
      " Average Precision  (AP) @[ IoU=0.50:0.95 | area=medium | maxDets=100 ] = 0.599\n",
      " Average Precision  (AP) @[ IoU=0.50:0.95 | area= large | maxDets=100 ] = 0.458\n",
      " Average Recall     (AR) @[ IoU=0.50:0.95 | area=   all | maxDets=  1 ] = 0.403\n",
      " Average Recall     (AR) @[ IoU=0.50:0.95 | area=   all | maxDets= 10 ] = 0.677\n",
      " Average Recall     (AR) @[ IoU=0.50:0.95 | area=   all | maxDets=100 ] = 0.771\n",
      " Average Recall     (AR) @[ IoU=0.50:0.95 | area= small | maxDets=100 ] = 0.760\n",
      " Average Recall     (AR) @[ IoU=0.50:0.95 | area=medium | maxDets=100 ] = 0.779\n",
      " Average Recall     (AR) @[ IoU=0.50:0.95 | area= large | maxDets=100 ] = 0.812\n",
      " Average Recall     (AR) @[ IoU=0.50      | area=   all | maxDets=100 ] = 0.998\n",
      " Average Recall     (AR) @[ IoU=0.75      | area=   all | maxDets=100 ] = 0.903\n",
      "Epoch: [75]  [ 0/15]  eta: 0:00:20  lr: 0.000191  loss: 23.2228 (23.2228)  loss_mal: 0.9741 (0.9741)  loss_bbox: 0.2165 (0.2165)  loss_giou: 0.3683 (0.3683)  loss_fgl: 1.1750 (1.1750)  loss_mal_aux_0: 1.0029 (1.0029)  loss_bbox_aux_0: 0.2369 (0.2369)  loss_giou_aux_0: 0.4008 (0.4008)  loss_fgl_aux_0: 1.2094 (1.2094)  loss_ddf_aux_0: 0.1344 (0.1344)  loss_mal_aux_1: 1.0039 (1.0039)  loss_bbox_aux_1: 0.2176 (0.2176)  loss_giou_aux_1: 0.3698 (0.3698)  loss_fgl_aux_1: 1.1766 (1.1766)  loss_ddf_aux_1: 0.0067 (0.0067)  loss_mal_pre: 0.9941 (0.9941)  loss_bbox_pre: 0.2370 (0.2370)  loss_giou_pre: 0.4023 (0.4023)  loss_mal_enc_0: 1.1289 (1.1289)  loss_bbox_enc_0: 0.3077 (0.3077)  loss_giou_enc_0: 0.5008 (0.5008)  loss_mal_dn_0: 0.7817 (0.7817)  loss_bbox_dn_0: 0.4214 (0.4214)  loss_giou_dn_0: 0.6659 (0.6659)  loss_fgl_dn_0: 1.2187 (1.2187)  loss_ddf_dn_0: 0.7760 (0.7760)  loss_mal_dn_1: 0.7808 (0.7808)  loss_bbox_dn_1: 0.3083 (0.3083)  loss_giou_dn_1: 0.4773 (0.4773)  loss_fgl_dn_1: 1.1555 (1.1555)  loss_ddf_dn_1: 0.0424 (0.0424)  loss_mal_dn_2: 0.7710 (0.7710)  loss_bbox_dn_2: 0.2943 (0.2943)  loss_giou_dn_2: 0.4587 (0.4587)  loss_fgl_dn_2: 1.1501 (1.1501)  loss_mal_dn_pre: 0.7837 (0.7837)  loss_bbox_dn_pre: 0.4193 (0.4193)  loss_giou_dn_pre: 0.6539 (0.6539)  time: 1.3426  data: 0.8545  max mem: 10532\n"
     ]
    },
    {
     "name": "stderr",
     "output_type": "stream",
     "text": [
      "\u001b[32m2025-03-10 16:29:27.633\u001b[0m | \u001b[1mINFO    \u001b[0m | \u001b[36mdeimkit.trainer\u001b[0m:\u001b[36m_save_checkpoint\u001b[0m:\u001b[36m363\u001b[0m - \u001b[1mSaving checkpoint to outputs/deim_hgnetv2_s_coco_ema_tune/checkpoint0075.pth\u001b[0m\n"
     ]
    },
    {
     "name": "stdout",
     "output_type": "stream",
     "text": [
      "Epoch: [75]  [14/15]  eta: 0:00:00  lr: 0.000189  loss: 22.9641 (22.9556)  loss_mal: 0.9331 (0.9522)  loss_bbox: 0.1884 (0.2005)  loss_giou: 0.3839 (0.3958)  loss_fgl: 1.1770 (1.1747)  loss_mal_aux_0: 0.9351 (0.9643)  loss_bbox_aux_0: 0.2148 (0.2253)  loss_giou_aux_0: 0.4174 (0.4387)  loss_fgl_aux_0: 1.2079 (1.2068)  loss_ddf_aux_0: 0.1571 (0.1564)  loss_mal_aux_1: 0.9395 (0.9585)  loss_bbox_aux_1: 0.1884 (0.2023)  loss_giou_aux_1: 0.3827 (0.3982)  loss_fgl_aux_1: 1.1805 (1.1771)  loss_ddf_aux_1: 0.0073 (0.0074)  loss_mal_pre: 0.9365 (0.9630)  loss_bbox_pre: 0.2154 (0.2255)  loss_giou_pre: 0.4202 (0.4396)  loss_mal_enc_0: 1.0352 (1.0440)  loss_bbox_enc_0: 0.2832 (0.3047)  loss_giou_enc_0: 0.5220 (0.5669)  loss_mal_dn_0: 0.7700 (0.7747)  loss_bbox_dn_0: 0.3426 (0.3466)  loss_giou_dn_0: 0.6659 (0.6696)  loss_fgl_dn_0: 1.2113 (1.2165)  loss_ddf_dn_0: 0.7986 (0.8356)  loss_mal_dn_1: 0.7603 (0.7622)  loss_bbox_dn_1: 0.2589 (0.2644)  loss_giou_dn_1: 0.4864 (0.4923)  loss_fgl_dn_1: 1.1501 (1.1433)  loss_ddf_dn_1: 0.0424 (0.0437)  loss_mal_dn_2: 0.7515 (0.7535)  loss_bbox_dn_2: 0.2432 (0.2522)  loss_giou_dn_2: 0.4656 (0.4739)  loss_fgl_dn_2: 1.1426 (1.1378)  loss_mal_dn_pre: 0.7686 (0.7752)  loss_bbox_dn_pre: 0.3358 (0.3479)  loss_giou_dn_pre: 0.6668 (0.6644)  time: 0.4439  data: 0.0768  max mem: 10532\n",
      "Epoch: [75] Total time: 0:00:06 (0.4476 s / it)\n",
      "Averaged stats: lr: 0.000189  loss: 22.9641 (22.9556)  loss_mal: 0.9331 (0.9522)  loss_bbox: 0.1884 (0.2005)  loss_giou: 0.3839 (0.3958)  loss_fgl: 1.1770 (1.1747)  loss_mal_aux_0: 0.9351 (0.9643)  loss_bbox_aux_0: 0.2148 (0.2253)  loss_giou_aux_0: 0.4174 (0.4387)  loss_fgl_aux_0: 1.2079 (1.2068)  loss_ddf_aux_0: 0.1571 (0.1564)  loss_mal_aux_1: 0.9395 (0.9585)  loss_bbox_aux_1: 0.1884 (0.2023)  loss_giou_aux_1: 0.3827 (0.3982)  loss_fgl_aux_1: 1.1805 (1.1771)  loss_ddf_aux_1: 0.0073 (0.0074)  loss_mal_pre: 0.9365 (0.9630)  loss_bbox_pre: 0.2154 (0.2255)  loss_giou_pre: 0.4202 (0.4396)  loss_mal_enc_0: 1.0352 (1.0440)  loss_bbox_enc_0: 0.2832 (0.3047)  loss_giou_enc_0: 0.5220 (0.5669)  loss_mal_dn_0: 0.7700 (0.7747)  loss_bbox_dn_0: 0.3426 (0.3466)  loss_giou_dn_0: 0.6659 (0.6696)  loss_fgl_dn_0: 1.2113 (1.2165)  loss_ddf_dn_0: 0.7986 (0.8356)  loss_mal_dn_1: 0.7603 (0.7622)  loss_bbox_dn_1: 0.2589 (0.2644)  loss_giou_dn_1: 0.4864 (0.4923)  loss_fgl_dn_1: 1.1501 (1.1433)  loss_ddf_dn_1: 0.0424 (0.0437)  loss_mal_dn_2: 0.7515 (0.7535)  loss_bbox_dn_2: 0.2432 (0.2522)  loss_giou_dn_2: 0.4656 (0.4739)  loss_fgl_dn_2: 1.1426 (1.1378)  loss_mal_dn_pre: 0.7686 (0.7752)  loss_bbox_dn_pre: 0.3358 (0.3479)  loss_giou_dn_pre: 0.6668 (0.6644)\n"
     ]
    },
    {
     "name": "stderr",
     "output_type": "stream",
     "text": [
      "\u001b[32m2025-03-10 16:29:27.902\u001b[0m | \u001b[1mINFO    \u001b[0m | \u001b[36mdeimkit.trainer\u001b[0m:\u001b[36m_save_checkpoint\u001b[0m:\u001b[36m380\u001b[0m - \u001b[1mCheckpoint saved to outputs/deim_hgnetv2_s_coco_ema_tune/checkpoint0075.pth\u001b[0m\n",
      "\u001b[32m2025-03-10 16:29:27.904\u001b[0m | \u001b[1mINFO    \u001b[0m | \u001b[36mdeimkit.trainer\u001b[0m:\u001b[36mevaluate\u001b[0m:\u001b[36m331\u001b[0m - \u001b[1mEvaluating model...\u001b[0m\n"
     ]
    },
    {
     "name": "stdout",
     "output_type": "stream",
     "text": [
      "Test:  [0/5]  eta: 0:00:03    time: 0.7329  data: 0.6162  max mem: 10532\n"
     ]
    },
    {
     "name": "stderr",
     "output_type": "stream",
     "text": [
      "\u001b[32m2025-03-10 16:29:29.382\u001b[0m | \u001b[1mINFO    \u001b[0m | \u001b[36mdeimkit.trainer\u001b[0m:\u001b[36mtrain\u001b[0m:\u001b[36m312\u001b[0m - \u001b[1mEpoch 75 - Train loss: 22.9556, Eval mAP: 0.5862\u001b[0m\n",
      "\u001b[32m2025-03-10 16:29:29.382\u001b[0m | \u001b[1mINFO    \u001b[0m | \u001b[36mdeimkit.trainer\u001b[0m:\u001b[36mtrain\u001b[0m:\u001b[36m315\u001b[0m - \u001b[1mBest stats: {'epoch': 73, 'coco_eval_bbox': 0.5953502260624842}\u001b[0m\n"
     ]
    },
    {
     "name": "stdout",
     "output_type": "stream",
     "text": [
      "Test:  [4/5]  eta: 0:00:00    time: 0.2780  data: 0.1404  max mem: 10532\n",
      "Test: Total time: 0:00:01 (0.2900 s / it)\n",
      "Averaged stats: \n",
      "Accumulating evaluation results...\n",
      "COCOeval_opt.accumulate() finished...\n",
      "DONE (t=0.02s).\n",
      "IoU metric: bbox\n",
      " Average Precision  (AP) @[ IoU=0.50:0.95 | area=   all | maxDets=100 ] = 0.586\n",
      " Average Precision  (AP) @[ IoU=0.50      | area=   all | maxDets=100 ] = 0.847\n",
      " Average Precision  (AP) @[ IoU=0.75      | area=   all | maxDets=100 ] = 0.674\n",
      " Average Precision  (AP) @[ IoU=0.50:0.95 | area= small | maxDets=100 ] = 0.409\n",
      " Average Precision  (AP) @[ IoU=0.50:0.95 | area=medium | maxDets=100 ] = 0.607\n",
      " Average Precision  (AP) @[ IoU=0.50:0.95 | area= large | maxDets=100 ] = 0.463\n",
      " Average Recall     (AR) @[ IoU=0.50:0.95 | area=   all | maxDets=  1 ] = 0.396\n",
      " Average Recall     (AR) @[ IoU=0.50:0.95 | area=   all | maxDets= 10 ] = 0.678\n",
      " Average Recall     (AR) @[ IoU=0.50:0.95 | area=   all | maxDets=100 ] = 0.765\n",
      " Average Recall     (AR) @[ IoU=0.50:0.95 | area= small | maxDets=100 ] = 0.700\n",
      " Average Recall     (AR) @[ IoU=0.50:0.95 | area=medium | maxDets=100 ] = 0.766\n",
      " Average Recall     (AR) @[ IoU=0.50:0.95 | area= large | maxDets=100 ] = 0.550\n",
      " Average Recall     (AR) @[ IoU=0.50      | area=   all | maxDets=100 ] = 0.994\n",
      " Average Recall     (AR) @[ IoU=0.75      | area=   all | maxDets=100 ] = 0.909\n",
      "Epoch: [76]  [ 0/15]  eta: 0:00:25  lr: 0.000189  loss: 24.2094 (24.2094)  loss_mal: 1.1797 (1.1797)  loss_bbox: 0.2120 (0.2120)  loss_giou: 0.3769 (0.3769)  loss_fgl: 1.1842 (1.1842)  loss_mal_aux_0: 1.1025 (1.1025)  loss_bbox_aux_0: 0.2496 (0.2496)  loss_giou_aux_0: 0.4238 (0.4238)  loss_fgl_aux_0: 1.2263 (1.2263)  loss_ddf_aux_0: 0.2009 (0.2009)  loss_mal_aux_1: 1.1416 (1.1416)  loss_bbox_aux_1: 0.2119 (0.2119)  loss_giou_aux_1: 0.3775 (0.3775)  loss_fgl_aux_1: 1.1839 (1.1839)  loss_ddf_aux_1: 0.0105 (0.0105)  loss_mal_pre: 1.0908 (1.0908)  loss_bbox_pre: 0.2489 (0.2489)  loss_giou_pre: 0.4232 (0.4232)  loss_mal_enc_0: 1.2998 (1.2998)  loss_bbox_enc_0: 0.3772 (0.3772)  loss_giou_enc_0: 0.5572 (0.5572)  loss_mal_dn_0: 0.7817 (0.7817)  loss_bbox_dn_0: 0.4165 (0.4165)  loss_giou_dn_0: 0.6761 (0.6761)  loss_fgl_dn_0: 1.2090 (1.2090)  loss_ddf_dn_0: 0.6847 (0.6847)  loss_mal_dn_1: 0.7739 (0.7739)  loss_bbox_dn_1: 0.3153 (0.3153)  loss_giou_dn_1: 0.5106 (0.5106)  loss_fgl_dn_1: 1.1399 (1.1399)  loss_ddf_dn_1: 0.0446 (0.0446)  loss_mal_dn_2: 0.7559 (0.7559)  loss_bbox_dn_2: 0.3013 (0.3013)  loss_giou_dn_2: 0.4901 (0.4901)  loss_fgl_dn_2: 1.1315 (1.1315)  loss_mal_dn_pre: 0.7808 (0.7808)  loss_bbox_dn_pre: 0.4281 (0.4281)  loss_giou_dn_pre: 0.6906 (0.6906)  time: 1.6683  data: 1.0692  max mem: 10532\n"
     ]
    },
    {
     "name": "stderr",
     "output_type": "stream",
     "text": [
      "\u001b[32m2025-03-10 16:29:36.517\u001b[0m | \u001b[1mINFO    \u001b[0m | \u001b[36mdeimkit.trainer\u001b[0m:\u001b[36mevaluate\u001b[0m:\u001b[36m331\u001b[0m - \u001b[1mEvaluating model...\u001b[0m\n"
     ]
    },
    {
     "name": "stdout",
     "output_type": "stream",
     "text": [
      "Epoch: [76]  [14/15]  eta: 0:00:00  lr: 0.000187  loss: 22.9404 (23.0622)  loss_mal: 0.9531 (0.9758)  loss_bbox: 0.1986 (0.2008)  loss_giou: 0.3802 (0.3904)  loss_fgl: 1.1842 (1.1837)  loss_mal_aux_0: 0.9736 (0.9780)  loss_bbox_aux_0: 0.2249 (0.2269)  loss_giou_aux_0: 0.4309 (0.4402)  loss_fgl_aux_0: 1.2255 (1.2206)  loss_ddf_aux_0: 0.1763 (0.1847)  loss_mal_aux_1: 0.9619 (0.9807)  loss_bbox_aux_1: 0.2003 (0.2030)  loss_giou_aux_1: 0.3865 (0.3938)  loss_fgl_aux_1: 1.1861 (1.1848)  loss_ddf_aux_1: 0.0095 (0.0096)  loss_mal_pre: 0.9727 (0.9741)  loss_bbox_pre: 0.2237 (0.2266)  loss_giou_pre: 0.4298 (0.4390)  loss_mal_enc_0: 1.0391 (1.0481)  loss_bbox_enc_0: 0.2957 (0.3073)  loss_giou_enc_0: 0.5435 (0.5658)  loss_mal_dn_0: 0.7783 (0.7781)  loss_bbox_dn_0: 0.3352 (0.3395)  loss_giou_dn_0: 0.6684 (0.6569)  loss_fgl_dn_0: 1.2090 (1.2124)  loss_ddf_dn_0: 0.8694 (0.8884)  loss_mal_dn_1: 0.7646 (0.7647)  loss_bbox_dn_1: 0.2416 (0.2529)  loss_giou_dn_1: 0.4737 (0.4776)  loss_fgl_dn_1: 1.1375 (1.1373)  loss_ddf_dn_1: 0.0481 (0.0481)  loss_mal_dn_2: 0.7559 (0.7545)  loss_bbox_dn_2: 0.2327 (0.2413)  loss_giou_dn_2: 0.4567 (0.4600)  loss_fgl_dn_2: 1.1327 (1.1322)  loss_mal_dn_pre: 0.7783 (0.7768)  loss_bbox_dn_pre: 0.3432 (0.3452)  loss_giou_dn_pre: 0.6715 (0.6625)  time: 0.4703  data: 0.0918  max mem: 10532\n",
      "Epoch: [76] Total time: 0:00:07 (0.4744 s / it)\n",
      "Averaged stats: lr: 0.000187  loss: 22.9404 (23.0622)  loss_mal: 0.9531 (0.9758)  loss_bbox: 0.1986 (0.2008)  loss_giou: 0.3802 (0.3904)  loss_fgl: 1.1842 (1.1837)  loss_mal_aux_0: 0.9736 (0.9780)  loss_bbox_aux_0: 0.2249 (0.2269)  loss_giou_aux_0: 0.4309 (0.4402)  loss_fgl_aux_0: 1.2255 (1.2206)  loss_ddf_aux_0: 0.1763 (0.1847)  loss_mal_aux_1: 0.9619 (0.9807)  loss_bbox_aux_1: 0.2003 (0.2030)  loss_giou_aux_1: 0.3865 (0.3938)  loss_fgl_aux_1: 1.1861 (1.1848)  loss_ddf_aux_1: 0.0095 (0.0096)  loss_mal_pre: 0.9727 (0.9741)  loss_bbox_pre: 0.2237 (0.2266)  loss_giou_pre: 0.4298 (0.4390)  loss_mal_enc_0: 1.0391 (1.0481)  loss_bbox_enc_0: 0.2957 (0.3073)  loss_giou_enc_0: 0.5435 (0.5658)  loss_mal_dn_0: 0.7783 (0.7781)  loss_bbox_dn_0: 0.3352 (0.3395)  loss_giou_dn_0: 0.6684 (0.6569)  loss_fgl_dn_0: 1.2090 (1.2124)  loss_ddf_dn_0: 0.8694 (0.8884)  loss_mal_dn_1: 0.7646 (0.7647)  loss_bbox_dn_1: 0.2416 (0.2529)  loss_giou_dn_1: 0.4737 (0.4776)  loss_fgl_dn_1: 1.1375 (1.1373)  loss_ddf_dn_1: 0.0481 (0.0481)  loss_mal_dn_2: 0.7559 (0.7545)  loss_bbox_dn_2: 0.2327 (0.2413)  loss_giou_dn_2: 0.4567 (0.4600)  loss_fgl_dn_2: 1.1327 (1.1322)  loss_mal_dn_pre: 0.7783 (0.7768)  loss_bbox_dn_pre: 0.3432 (0.3452)  loss_giou_dn_pre: 0.6715 (0.6625)\n",
      "Test:  [0/5]  eta: 0:00:03    time: 0.7374  data: 0.6288  max mem: 10532\n"
     ]
    },
    {
     "name": "stderr",
     "output_type": "stream",
     "text": [
      "\u001b[32m2025-03-10 16:29:37.957\u001b[0m | \u001b[1mINFO    \u001b[0m | \u001b[36mdeimkit.trainer\u001b[0m:\u001b[36m_save_checkpoint\u001b[0m:\u001b[36m363\u001b[0m - \u001b[1mSaving checkpoint to outputs/deim_hgnetv2_s_coco_ema_tune/best.pth\u001b[0m\n"
     ]
    },
    {
     "name": "stdout",
     "output_type": "stream",
     "text": [
      "Test:  [4/5]  eta: 0:00:00    time: 0.2683  data: 0.1369  max mem: 10532\n",
      "Test: Total time: 0:00:01 (0.2823 s / it)\n",
      "Averaged stats: \n",
      "Accumulating evaluation results...\n",
      "COCOeval_opt.accumulate() finished...\n",
      "DONE (t=0.02s).\n",
      "IoU metric: bbox\n",
      " Average Precision  (AP) @[ IoU=0.50:0.95 | area=   all | maxDets=100 ] = 0.611\n",
      " Average Precision  (AP) @[ IoU=0.50      | area=   all | maxDets=100 ] = 0.870\n",
      " Average Precision  (AP) @[ IoU=0.75      | area=   all | maxDets=100 ] = 0.720\n",
      " Average Precision  (AP) @[ IoU=0.50:0.95 | area= small | maxDets=100 ] = 0.422\n",
      " Average Precision  (AP) @[ IoU=0.50:0.95 | area=medium | maxDets=100 ] = 0.628\n",
      " Average Precision  (AP) @[ IoU=0.50:0.95 | area= large | maxDets=100 ] = 0.473\n",
      " Average Recall     (AR) @[ IoU=0.50:0.95 | area=   all | maxDets=  1 ] = 0.405\n",
      " Average Recall     (AR) @[ IoU=0.50:0.95 | area=   all | maxDets= 10 ] = 0.682\n",
      " Average Recall     (AR) @[ IoU=0.50:0.95 | area=   all | maxDets=100 ] = 0.779\n",
      " Average Recall     (AR) @[ IoU=0.50:0.95 | area= small | maxDets=100 ] = 0.600\n",
      " Average Recall     (AR) @[ IoU=0.50:0.95 | area=medium | maxDets=100 ] = 0.771\n",
      " Average Recall     (AR) @[ IoU=0.50:0.95 | area= large | maxDets=100 ] = 0.791\n",
      " Average Recall     (AR) @[ IoU=0.50      | area=   all | maxDets=100 ] = 0.999\n",
      " Average Recall     (AR) @[ IoU=0.75      | area=   all | maxDets=100 ] = 0.926\n"
     ]
    },
    {
     "name": "stderr",
     "output_type": "stream",
     "text": [
      "\u001b[32m2025-03-10 16:29:38.291\u001b[0m | \u001b[1mINFO    \u001b[0m | \u001b[36mdeimkit.trainer\u001b[0m:\u001b[36m_save_checkpoint\u001b[0m:\u001b[36m380\u001b[0m - \u001b[1mCheckpoint saved to outputs/deim_hgnetv2_s_coco_ema_tune/best.pth\u001b[0m\n",
      "\u001b[32m2025-03-10 16:29:38.293\u001b[0m | \u001b[1mINFO    \u001b[0m | \u001b[36mdeimkit.trainer\u001b[0m:\u001b[36mtrain\u001b[0m:\u001b[36m312\u001b[0m - \u001b[1mEpoch 76 - Train loss: 23.0622, Eval mAP: 0.6112\u001b[0m\n",
      "\u001b[32m2025-03-10 16:29:38.294\u001b[0m | \u001b[1mINFO    \u001b[0m | \u001b[36mdeimkit.trainer\u001b[0m:\u001b[36mtrain\u001b[0m:\u001b[36m315\u001b[0m - \u001b[1mBest stats: {'epoch': 76, 'coco_eval_bbox': 0.6111761740449433}\u001b[0m\n"
     ]
    },
    {
     "name": "stdout",
     "output_type": "stream",
     "text": [
      "Epoch: [77]  [ 0/15]  eta: 0:00:26  lr: 0.000187  loss: 23.0908 (23.0908)  loss_mal: 0.9717 (0.9717)  loss_bbox: 0.1888 (0.1888)  loss_giou: 0.4014 (0.4014)  loss_fgl: 1.2117 (1.2117)  loss_mal_aux_0: 0.9780 (0.9780)  loss_bbox_aux_0: 0.2088 (0.2088)  loss_giou_aux_0: 0.4403 (0.4403)  loss_fgl_aux_0: 1.2374 (1.2374)  loss_ddf_aux_0: 0.1933 (0.1933)  loss_mal_aux_1: 0.9902 (0.9902)  loss_bbox_aux_1: 0.1886 (0.1886)  loss_giou_aux_1: 0.4018 (0.4018)  loss_fgl_aux_1: 1.2148 (1.2148)  loss_ddf_aux_1: 0.0109 (0.0109)  loss_mal_pre: 0.9707 (0.9707)  loss_bbox_pre: 0.2083 (0.2083)  loss_giou_pre: 0.4484 (0.4484)  loss_mal_enc_0: 1.0723 (1.0723)  loss_bbox_enc_0: 0.2668 (0.2668)  loss_giou_enc_0: 0.5471 (0.5471)  loss_mal_dn_0: 0.7729 (0.7729)  loss_bbox_dn_0: 0.3229 (0.3229)  loss_giou_dn_0: 0.6606 (0.6606)  loss_fgl_dn_0: 1.2236 (1.2236)  loss_ddf_dn_0: 0.7473 (0.7473)  loss_mal_dn_1: 0.7622 (0.7622)  loss_bbox_dn_1: 0.2631 (0.2631)  loss_giou_dn_1: 0.5136 (0.5136)  loss_fgl_dn_1: 1.1801 (1.1801)  loss_ddf_dn_1: 0.0404 (0.0404)  loss_mal_dn_2: 0.7573 (0.7573)  loss_bbox_dn_2: 0.2565 (0.2565)  loss_giou_dn_2: 0.5036 (0.5036)  loss_fgl_dn_2: 1.1807 (1.1807)  loss_mal_dn_pre: 0.7720 (0.7720)  loss_bbox_dn_pre: 0.3248 (0.3248)  loss_giou_dn_pre: 0.6579 (0.6579)  time: 1.7850  data: 1.2857  max mem: 10532\n"
     ]
    },
    {
     "name": "stderr",
     "output_type": "stream",
     "text": [
      "\u001b[32m2025-03-10 16:29:45.721\u001b[0m | \u001b[1mINFO    \u001b[0m | \u001b[36mdeimkit.trainer\u001b[0m:\u001b[36mevaluate\u001b[0m:\u001b[36m331\u001b[0m - \u001b[1mEvaluating model...\u001b[0m\n"
     ]
    },
    {
     "name": "stdout",
     "output_type": "stream",
     "text": [
      "Epoch: [77]  [14/15]  eta: 0:00:00  lr: 0.000185  loss: 22.4423 (22.5293)  loss_mal: 0.9121 (0.9427)  loss_bbox: 0.1785 (0.1811)  loss_giou: 0.3890 (0.3820)  loss_fgl: 1.1707 (1.1770)  loss_mal_aux_0: 0.9233 (0.9557)  loss_bbox_aux_0: 0.1986 (0.2017)  loss_giou_aux_0: 0.4237 (0.4226)  loss_fgl_aux_0: 1.1995 (1.2087)  loss_ddf_aux_0: 0.1571 (0.1605)  loss_mal_aux_1: 0.9185 (0.9522)  loss_bbox_aux_1: 0.1806 (0.1833)  loss_giou_aux_1: 0.3913 (0.3845)  loss_fgl_aux_1: 1.1726 (1.1799)  loss_ddf_aux_1: 0.0080 (0.0080)  loss_mal_pre: 0.9219 (0.9545)  loss_bbox_pre: 0.1992 (0.2019)  loss_giou_pre: 0.4295 (0.4228)  loss_mal_enc_0: 1.0107 (1.0189)  loss_bbox_enc_0: 0.2657 (0.2670)  loss_giou_enc_0: 0.5367 (0.5355)  loss_mal_dn_0: 0.7676 (0.7698)  loss_bbox_dn_0: 0.3137 (0.3117)  loss_giou_dn_0: 0.6388 (0.6495)  loss_fgl_dn_0: 1.2149 (1.2163)  loss_ddf_dn_0: 0.8848 (0.8796)  loss_mal_dn_1: 0.7544 (0.7576)  loss_bbox_dn_1: 0.2371 (0.2335)  loss_giou_dn_1: 0.4860 (0.4776)  loss_fgl_dn_1: 1.1440 (1.1440)  loss_ddf_dn_1: 0.0452 (0.0445)  loss_mal_dn_2: 0.7539 (0.7502)  loss_bbox_dn_2: 0.2197 (0.2224)  loss_giou_dn_2: 0.4671 (0.4604)  loss_fgl_dn_2: 1.1407 (1.1404)  loss_mal_dn_pre: 0.7676 (0.7703)  loss_bbox_dn_pre: 0.3143 (0.3140)  loss_giou_dn_pre: 0.6482 (0.6467)  time: 0.4898  data: 0.1017  max mem: 10532\n",
      "Epoch: [77] Total time: 0:00:07 (0.4938 s / it)\n",
      "Averaged stats: lr: 0.000185  loss: 22.4423 (22.5293)  loss_mal: 0.9121 (0.9427)  loss_bbox: 0.1785 (0.1811)  loss_giou: 0.3890 (0.3820)  loss_fgl: 1.1707 (1.1770)  loss_mal_aux_0: 0.9233 (0.9557)  loss_bbox_aux_0: 0.1986 (0.2017)  loss_giou_aux_0: 0.4237 (0.4226)  loss_fgl_aux_0: 1.1995 (1.2087)  loss_ddf_aux_0: 0.1571 (0.1605)  loss_mal_aux_1: 0.9185 (0.9522)  loss_bbox_aux_1: 0.1806 (0.1833)  loss_giou_aux_1: 0.3913 (0.3845)  loss_fgl_aux_1: 1.1726 (1.1799)  loss_ddf_aux_1: 0.0080 (0.0080)  loss_mal_pre: 0.9219 (0.9545)  loss_bbox_pre: 0.1992 (0.2019)  loss_giou_pre: 0.4295 (0.4228)  loss_mal_enc_0: 1.0107 (1.0189)  loss_bbox_enc_0: 0.2657 (0.2670)  loss_giou_enc_0: 0.5367 (0.5355)  loss_mal_dn_0: 0.7676 (0.7698)  loss_bbox_dn_0: 0.3137 (0.3117)  loss_giou_dn_0: 0.6388 (0.6495)  loss_fgl_dn_0: 1.2149 (1.2163)  loss_ddf_dn_0: 0.8848 (0.8796)  loss_mal_dn_1: 0.7544 (0.7576)  loss_bbox_dn_1: 0.2371 (0.2335)  loss_giou_dn_1: 0.4860 (0.4776)  loss_fgl_dn_1: 1.1440 (1.1440)  loss_ddf_dn_1: 0.0452 (0.0445)  loss_mal_dn_2: 0.7539 (0.7502)  loss_bbox_dn_2: 0.2197 (0.2224)  loss_giou_dn_2: 0.4671 (0.4604)  loss_fgl_dn_2: 1.1407 (1.1404)  loss_mal_dn_pre: 0.7676 (0.7703)  loss_bbox_dn_pre: 0.3143 (0.3140)  loss_giou_dn_pre: 0.6482 (0.6467)\n",
      "Test:  [0/5]  eta: 0:00:03    time: 0.7149  data: 0.6009  max mem: 10532\n"
     ]
    },
    {
     "name": "stderr",
     "output_type": "stream",
     "text": [
      "\u001b[32m2025-03-10 16:29:47.162\u001b[0m | \u001b[1mINFO    \u001b[0m | \u001b[36mdeimkit.trainer\u001b[0m:\u001b[36mtrain\u001b[0m:\u001b[36m312\u001b[0m - \u001b[1mEpoch 77 - Train loss: 22.5293, Eval mAP: 0.6013\u001b[0m\n",
      "\u001b[32m2025-03-10 16:29:47.162\u001b[0m | \u001b[1mINFO    \u001b[0m | \u001b[36mdeimkit.trainer\u001b[0m:\u001b[36mtrain\u001b[0m:\u001b[36m315\u001b[0m - \u001b[1mBest stats: {'epoch': 76, 'coco_eval_bbox': 0.6111761740449433}\u001b[0m\n"
     ]
    },
    {
     "name": "stdout",
     "output_type": "stream",
     "text": [
      "Test:  [4/5]  eta: 0:00:00    time: 0.2701  data: 0.1385  max mem: 10532\n",
      "Test: Total time: 0:00:01 (0.2822 s / it)\n",
      "Averaged stats: \n",
      "Accumulating evaluation results...\n",
      "COCOeval_opt.accumulate() finished...\n",
      "DONE (t=0.02s).\n",
      "IoU metric: bbox\n",
      " Average Precision  (AP) @[ IoU=0.50:0.95 | area=   all | maxDets=100 ] = 0.601\n",
      " Average Precision  (AP) @[ IoU=0.50      | area=   all | maxDets=100 ] = 0.862\n",
      " Average Precision  (AP) @[ IoU=0.75      | area=   all | maxDets=100 ] = 0.678\n",
      " Average Precision  (AP) @[ IoU=0.50:0.95 | area= small | maxDets=100 ] = 0.388\n",
      " Average Precision  (AP) @[ IoU=0.50:0.95 | area=medium | maxDets=100 ] = 0.616\n",
      " Average Precision  (AP) @[ IoU=0.50:0.95 | area= large | maxDets=100 ] = 0.471\n",
      " Average Recall     (AR) @[ IoU=0.50:0.95 | area=   all | maxDets=  1 ] = 0.401\n",
      " Average Recall     (AR) @[ IoU=0.50:0.95 | area=   all | maxDets= 10 ] = 0.673\n",
      " Average Recall     (AR) @[ IoU=0.50:0.95 | area=   all | maxDets=100 ] = 0.768\n",
      " Average Recall     (AR) @[ IoU=0.50:0.95 | area= small | maxDets=100 ] = 0.700\n",
      " Average Recall     (AR) @[ IoU=0.50:0.95 | area=medium | maxDets=100 ] = 0.778\n",
      " Average Recall     (AR) @[ IoU=0.50:0.95 | area= large | maxDets=100 ] = 0.782\n",
      " Average Recall     (AR) @[ IoU=0.50      | area=   all | maxDets=100 ] = 0.995\n",
      " Average Recall     (AR) @[ IoU=0.75      | area=   all | maxDets=100 ] = 0.899\n",
      "Epoch: [78]  [ 0/15]  eta: 0:00:23  lr: 0.000185  loss: 22.3841 (22.3841)  loss_mal: 0.9136 (0.9136)  loss_bbox: 0.1967 (0.1967)  loss_giou: 0.4046 (0.4046)  loss_fgl: 1.1832 (1.1832)  loss_mal_aux_0: 0.9541 (0.9541)  loss_bbox_aux_0: 0.2139 (0.2139)  loss_giou_aux_0: 0.4452 (0.4452)  loss_fgl_aux_0: 1.2019 (1.2019)  loss_ddf_aux_0: 0.1198 (0.1198)  loss_mal_aux_1: 0.9238 (0.9238)  loss_bbox_aux_1: 0.1982 (0.1982)  loss_giou_aux_1: 0.4065 (0.4065)  loss_fgl_aux_1: 1.1855 (1.1855)  loss_ddf_aux_1: 0.0070 (0.0070)  loss_mal_pre: 0.9521 (0.9521)  loss_bbox_pre: 0.2151 (0.2151)  loss_giou_pre: 0.4493 (0.4493)  loss_mal_enc_0: 1.0342 (1.0342)  loss_bbox_enc_0: 0.2541 (0.2541)  loss_giou_enc_0: 0.5417 (0.5417)  loss_mal_dn_0: 0.7681 (0.7681)  loss_bbox_dn_0: 0.3275 (0.3275)  loss_giou_dn_0: 0.6589 (0.6589)  loss_fgl_dn_0: 1.2077 (1.2077)  loss_ddf_dn_0: 0.6369 (0.6369)  loss_mal_dn_1: 0.7388 (0.7388)  loss_bbox_dn_1: 0.2470 (0.2470)  loss_giou_dn_1: 0.4818 (0.4818)  loss_fgl_dn_1: 1.1476 (1.1476)  loss_ddf_dn_1: 0.0422 (0.0422)  loss_mal_dn_2: 0.7285 (0.7285)  loss_bbox_dn_2: 0.2360 (0.2360)  loss_giou_dn_2: 0.4605 (0.4605)  loss_fgl_dn_2: 1.1438 (1.1438)  loss_mal_dn_pre: 0.7671 (0.7671)  loss_bbox_dn_pre: 0.3334 (0.3334)  loss_giou_dn_pre: 0.6575 (0.6575)  time: 1.5939  data: 1.1534  max mem: 10532\n"
     ]
    },
    {
     "name": "stderr",
     "output_type": "stream",
     "text": [
      "\u001b[32m2025-03-10 16:29:54.120\u001b[0m | \u001b[1mINFO    \u001b[0m | \u001b[36mdeimkit.trainer\u001b[0m:\u001b[36mevaluate\u001b[0m:\u001b[36m331\u001b[0m - \u001b[1mEvaluating model...\u001b[0m\n"
     ]
    },
    {
     "name": "stdout",
     "output_type": "stream",
     "text": [
      "Epoch: [78]  [14/15]  eta: 0:00:00  lr: 0.000183  loss: 22.5001 (22.8195)  loss_mal: 0.9575 (0.9636)  loss_bbox: 0.2043 (0.2063)  loss_giou: 0.3787 (0.3896)  loss_fgl: 1.1817 (1.1805)  loss_mal_aux_0: 0.9541 (0.9635)  loss_bbox_aux_0: 0.2139 (0.2259)  loss_giou_aux_0: 0.4092 (0.4294)  loss_fgl_aux_0: 1.2162 (1.2141)  loss_ddf_aux_0: 0.1455 (0.1557)  loss_mal_aux_1: 0.9541 (0.9624)  loss_bbox_aux_1: 0.2035 (0.2075)  loss_giou_aux_1: 0.3808 (0.3921)  loss_fgl_aux_1: 1.1855 (1.1823)  loss_ddf_aux_1: 0.0083 (0.0082)  loss_mal_pre: 0.9521 (0.9585)  loss_bbox_pre: 0.2151 (0.2246)  loss_giou_pre: 0.4098 (0.4290)  loss_mal_enc_0: 0.9971 (1.0159)  loss_bbox_enc_0: 0.2889 (0.3071)  loss_giou_enc_0: 0.5417 (0.5652)  loss_mal_dn_0: 0.7773 (0.7790)  loss_bbox_dn_0: 0.3237 (0.3342)  loss_giou_dn_0: 0.6400 (0.6422)  loss_fgl_dn_0: 1.2127 (1.2175)  loss_ddf_dn_0: 0.7977 (0.8306)  loss_mal_dn_1: 0.7686 (0.7662)  loss_bbox_dn_1: 0.2426 (0.2514)  loss_giou_dn_1: 0.4818 (0.4729)  loss_fgl_dn_1: 1.1491 (1.1454)  loss_ddf_dn_1: 0.0441 (0.0473)  loss_mal_dn_2: 0.7627 (0.7579)  loss_bbox_dn_2: 0.2356 (0.2402)  loss_giou_dn_2: 0.4551 (0.4542)  loss_fgl_dn_2: 1.1454 (1.1416)  loss_mal_dn_pre: 0.7773 (0.7787)  loss_bbox_dn_pre: 0.3217 (0.3367)  loss_giou_dn_pre: 0.6390 (0.6418)  time: 0.4584  data: 0.0973  max mem: 10532\n",
      "Epoch: [78] Total time: 0:00:06 (0.4626 s / it)\n",
      "Averaged stats: lr: 0.000183  loss: 22.5001 (22.8195)  loss_mal: 0.9575 (0.9636)  loss_bbox: 0.2043 (0.2063)  loss_giou: 0.3787 (0.3896)  loss_fgl: 1.1817 (1.1805)  loss_mal_aux_0: 0.9541 (0.9635)  loss_bbox_aux_0: 0.2139 (0.2259)  loss_giou_aux_0: 0.4092 (0.4294)  loss_fgl_aux_0: 1.2162 (1.2141)  loss_ddf_aux_0: 0.1455 (0.1557)  loss_mal_aux_1: 0.9541 (0.9624)  loss_bbox_aux_1: 0.2035 (0.2075)  loss_giou_aux_1: 0.3808 (0.3921)  loss_fgl_aux_1: 1.1855 (1.1823)  loss_ddf_aux_1: 0.0083 (0.0082)  loss_mal_pre: 0.9521 (0.9585)  loss_bbox_pre: 0.2151 (0.2246)  loss_giou_pre: 0.4098 (0.4290)  loss_mal_enc_0: 0.9971 (1.0159)  loss_bbox_enc_0: 0.2889 (0.3071)  loss_giou_enc_0: 0.5417 (0.5652)  loss_mal_dn_0: 0.7773 (0.7790)  loss_bbox_dn_0: 0.3237 (0.3342)  loss_giou_dn_0: 0.6400 (0.6422)  loss_fgl_dn_0: 1.2127 (1.2175)  loss_ddf_dn_0: 0.7977 (0.8306)  loss_mal_dn_1: 0.7686 (0.7662)  loss_bbox_dn_1: 0.2426 (0.2514)  loss_giou_dn_1: 0.4818 (0.4729)  loss_fgl_dn_1: 1.1491 (1.1454)  loss_ddf_dn_1: 0.0441 (0.0473)  loss_mal_dn_2: 0.7627 (0.7579)  loss_bbox_dn_2: 0.2356 (0.2402)  loss_giou_dn_2: 0.4551 (0.4542)  loss_fgl_dn_2: 1.1454 (1.1416)  loss_mal_dn_pre: 0.7773 (0.7787)  loss_bbox_dn_pre: 0.3217 (0.3367)  loss_giou_dn_pre: 0.6390 (0.6418)\n",
      "Test:  [0/5]  eta: 0:00:04    time: 0.8019  data: 0.6861  max mem: 10532\n"
     ]
    },
    {
     "name": "stderr",
     "output_type": "stream",
     "text": [
      "\u001b[32m2025-03-10 16:29:55.442\u001b[0m | \u001b[1mINFO    \u001b[0m | \u001b[36mdeimkit.trainer\u001b[0m:\u001b[36mtrain\u001b[0m:\u001b[36m312\u001b[0m - \u001b[1mEpoch 78 - Train loss: 22.8195, Eval mAP: 0.5821\u001b[0m\n",
      "\u001b[32m2025-03-10 16:29:55.443\u001b[0m | \u001b[1mINFO    \u001b[0m | \u001b[36mdeimkit.trainer\u001b[0m:\u001b[36mtrain\u001b[0m:\u001b[36m315\u001b[0m - \u001b[1mBest stats: {'epoch': 76, 'coco_eval_bbox': 0.6111761740449433}\u001b[0m\n"
     ]
    },
    {
     "name": "stdout",
     "output_type": "stream",
     "text": [
      "Test:  [4/5]  eta: 0:00:00    time: 0.2479  data: 0.1483  max mem: 10532\n",
      "Test: Total time: 0:00:01 (0.2589 s / it)\n",
      "Averaged stats: \n",
      "Accumulating evaluation results...\n",
      "COCOeval_opt.accumulate() finished...\n",
      "DONE (t=0.02s).\n",
      "IoU metric: bbox\n",
      " Average Precision  (AP) @[ IoU=0.50:0.95 | area=   all | maxDets=100 ] = 0.582\n",
      " Average Precision  (AP) @[ IoU=0.50      | area=   all | maxDets=100 ] = 0.836\n",
      " Average Precision  (AP) @[ IoU=0.75      | area=   all | maxDets=100 ] = 0.675\n",
      " Average Precision  (AP) @[ IoU=0.50:0.95 | area= small | maxDets=100 ] = 0.266\n",
      " Average Precision  (AP) @[ IoU=0.50:0.95 | area=medium | maxDets=100 ] = 0.646\n",
      " Average Precision  (AP) @[ IoU=0.50:0.95 | area= large | maxDets=100 ] = 0.457\n",
      " Average Recall     (AR) @[ IoU=0.50:0.95 | area=   all | maxDets=  1 ] = 0.401\n",
      " Average Recall     (AR) @[ IoU=0.50:0.95 | area=   all | maxDets= 10 ] = 0.676\n",
      " Average Recall     (AR) @[ IoU=0.50:0.95 | area=   all | maxDets=100 ] = 0.782\n",
      " Average Recall     (AR) @[ IoU=0.50:0.95 | area= small | maxDets=100 ] = 0.760\n",
      " Average Recall     (AR) @[ IoU=0.50:0.95 | area=medium | maxDets=100 ] = 0.823\n",
      " Average Recall     (AR) @[ IoU=0.50:0.95 | area= large | maxDets=100 ] = 0.784\n",
      " Average Recall     (AR) @[ IoU=0.50      | area=   all | maxDets=100 ] = 0.999\n",
      " Average Recall     (AR) @[ IoU=0.75      | area=   all | maxDets=100 ] = 0.931\n",
      "Epoch: [79]  [ 0/15]  eta: 0:00:22  lr: 0.000183  loss: 23.1292 (23.1292)  loss_mal: 1.0146 (1.0146)  loss_bbox: 0.2331 (0.2331)  loss_giou: 0.3567 (0.3567)  loss_fgl: 1.1995 (1.1995)  loss_mal_aux_0: 1.0645 (1.0645)  loss_bbox_aux_0: 0.2413 (0.2413)  loss_giou_aux_0: 0.3851 (0.3851)  loss_fgl_aux_0: 1.2195 (1.2195)  loss_ddf_aux_0: 0.1316 (0.1316)  loss_mal_aux_1: 1.0449 (1.0449)  loss_bbox_aux_1: 0.2315 (0.2315)  loss_giou_aux_1: 0.3555 (0.3555)  loss_fgl_aux_1: 1.1985 (1.1985)  loss_ddf_aux_1: 0.0095 (0.0095)  loss_mal_pre: 1.0674 (1.0674)  loss_bbox_pre: 0.2383 (0.2383)  loss_giou_pre: 0.3852 (0.3852)  loss_mal_enc_0: 1.0996 (1.0996)  loss_bbox_enc_0: 0.2857 (0.2857)  loss_giou_enc_0: 0.4777 (0.4777)  loss_mal_dn_0: 0.7783 (0.7783)  loss_bbox_dn_0: 0.3793 (0.3793)  loss_giou_dn_0: 0.6274 (0.6274)  loss_fgl_dn_0: 1.2415 (1.2415)  loss_ddf_dn_0: 0.7229 (0.7229)  loss_mal_dn_1: 0.7500 (0.7500)  loss_bbox_dn_1: 0.2896 (0.2896)  loss_giou_dn_1: 0.4632 (0.4632)  loss_fgl_dn_1: 1.1673 (1.1673)  loss_ddf_dn_1: 0.0400 (0.0400)  loss_mal_dn_2: 0.7388 (0.7388)  loss_bbox_dn_2: 0.2781 (0.2781)  loss_giou_dn_2: 0.4461 (0.4461)  loss_fgl_dn_2: 1.1614 (1.1614)  loss_mal_dn_pre: 0.7764 (0.7764)  loss_bbox_dn_pre: 0.3873 (0.3873)  loss_giou_dn_pre: 0.6420 (0.6420)  time: 1.4976  data: 1.0571  max mem: 10532\n"
     ]
    },
    {
     "name": "stderr",
     "output_type": "stream",
     "text": [
      "\u001b[32m2025-03-10 16:30:02.616\u001b[0m | \u001b[1mINFO    \u001b[0m | \u001b[36mdeimkit.trainer\u001b[0m:\u001b[36m_save_checkpoint\u001b[0m:\u001b[36m363\u001b[0m - \u001b[1mSaving checkpoint to outputs/deim_hgnetv2_s_coco_ema_tune/checkpoint0079.pth\u001b[0m\n"
     ]
    },
    {
     "name": "stdout",
     "output_type": "stream",
     "text": [
      "Epoch: [79]  [14/15]  eta: 0:00:00  lr: 0.000181  loss: 22.5523 (22.5699)  loss_mal: 0.9409 (0.9507)  loss_bbox: 0.1861 (0.1913)  loss_giou: 0.3669 (0.3849)  loss_fgl: 1.1800 (1.1807)  loss_mal_aux_0: 0.9614 (0.9612)  loss_bbox_aux_0: 0.2164 (0.2153)  loss_giou_aux_0: 0.4182 (0.4289)  loss_fgl_aux_0: 1.2143 (1.2133)  loss_ddf_aux_0: 0.1548 (0.1488)  loss_mal_aux_1: 0.9458 (0.9516)  loss_bbox_aux_1: 0.1878 (0.1931)  loss_giou_aux_1: 0.3718 (0.3868)  loss_fgl_aux_1: 1.1817 (1.1829)  loss_ddf_aux_1: 0.0079 (0.0081)  loss_mal_pre: 0.9600 (0.9597)  loss_bbox_pre: 0.2147 (0.2144)  loss_giou_pre: 0.4155 (0.4290)  loss_mal_enc_0: 1.0410 (1.0305)  loss_bbox_enc_0: 0.2858 (0.2887)  loss_giou_enc_0: 0.5325 (0.5538)  loss_mal_dn_0: 0.7686 (0.7692)  loss_bbox_dn_0: 0.3091 (0.3194)  loss_giou_dn_0: 0.6274 (0.6355)  loss_fgl_dn_0: 1.2145 (1.2167)  loss_ddf_dn_0: 0.7586 (0.8214)  loss_mal_dn_1: 0.7534 (0.7508)  loss_bbox_dn_1: 0.2345 (0.2378)  loss_giou_dn_1: 0.4501 (0.4695)  loss_fgl_dn_1: 1.1400 (1.1422)  loss_ddf_dn_1: 0.0385 (0.0398)  loss_mal_dn_2: 0.7422 (0.7410)  loss_bbox_dn_2: 0.2282 (0.2292)  loss_giou_dn_2: 0.4354 (0.4556)  loss_fgl_dn_2: 1.1379 (1.1384)  loss_mal_dn_pre: 0.7666 (0.7685)  loss_bbox_dn_pre: 0.3153 (0.3221)  loss_giou_dn_pre: 0.6331 (0.6393)  time: 0.4727  data: 0.0991  max mem: 10532\n",
      "Epoch: [79] Total time: 0:00:07 (0.4769 s / it)\n",
      "Averaged stats: lr: 0.000181  loss: 22.5523 (22.5699)  loss_mal: 0.9409 (0.9507)  loss_bbox: 0.1861 (0.1913)  loss_giou: 0.3669 (0.3849)  loss_fgl: 1.1800 (1.1807)  loss_mal_aux_0: 0.9614 (0.9612)  loss_bbox_aux_0: 0.2164 (0.2153)  loss_giou_aux_0: 0.4182 (0.4289)  loss_fgl_aux_0: 1.2143 (1.2133)  loss_ddf_aux_0: 0.1548 (0.1488)  loss_mal_aux_1: 0.9458 (0.9516)  loss_bbox_aux_1: 0.1878 (0.1931)  loss_giou_aux_1: 0.3718 (0.3868)  loss_fgl_aux_1: 1.1817 (1.1829)  loss_ddf_aux_1: 0.0079 (0.0081)  loss_mal_pre: 0.9600 (0.9597)  loss_bbox_pre: 0.2147 (0.2144)  loss_giou_pre: 0.4155 (0.4290)  loss_mal_enc_0: 1.0410 (1.0305)  loss_bbox_enc_0: 0.2858 (0.2887)  loss_giou_enc_0: 0.5325 (0.5538)  loss_mal_dn_0: 0.7686 (0.7692)  loss_bbox_dn_0: 0.3091 (0.3194)  loss_giou_dn_0: 0.6274 (0.6355)  loss_fgl_dn_0: 1.2145 (1.2167)  loss_ddf_dn_0: 0.7586 (0.8214)  loss_mal_dn_1: 0.7534 (0.7508)  loss_bbox_dn_1: 0.2345 (0.2378)  loss_giou_dn_1: 0.4501 (0.4695)  loss_fgl_dn_1: 1.1400 (1.1422)  loss_ddf_dn_1: 0.0385 (0.0398)  loss_mal_dn_2: 0.7422 (0.7410)  loss_bbox_dn_2: 0.2282 (0.2292)  loss_giou_dn_2: 0.4354 (0.4556)  loss_fgl_dn_2: 1.1379 (1.1384)  loss_mal_dn_pre: 0.7666 (0.7685)  loss_bbox_dn_pre: 0.3153 (0.3221)  loss_giou_dn_pre: 0.6331 (0.6393)\n"
     ]
    },
    {
     "name": "stderr",
     "output_type": "stream",
     "text": [
      "\u001b[32m2025-03-10 16:30:02.919\u001b[0m | \u001b[1mINFO    \u001b[0m | \u001b[36mdeimkit.trainer\u001b[0m:\u001b[36m_save_checkpoint\u001b[0m:\u001b[36m380\u001b[0m - \u001b[1mCheckpoint saved to outputs/deim_hgnetv2_s_coco_ema_tune/checkpoint0079.pth\u001b[0m\n",
      "\u001b[32m2025-03-10 16:30:02.921\u001b[0m | \u001b[1mINFO    \u001b[0m | \u001b[36mdeimkit.trainer\u001b[0m:\u001b[36mevaluate\u001b[0m:\u001b[36m331\u001b[0m - \u001b[1mEvaluating model...\u001b[0m\n"
     ]
    },
    {
     "name": "stdout",
     "output_type": "stream",
     "text": [
      "Test:  [0/5]  eta: 0:00:03    time: 0.7862  data: 0.6754  max mem: 10532\n"
     ]
    },
    {
     "name": "stderr",
     "output_type": "stream",
     "text": [
      "\u001b[32m2025-03-10 16:30:04.293\u001b[0m | \u001b[1mINFO    \u001b[0m | \u001b[36mdeimkit.trainer\u001b[0m:\u001b[36mtrain\u001b[0m:\u001b[36m312\u001b[0m - \u001b[1mEpoch 79 - Train loss: 22.5699, Eval mAP: 0.6011\u001b[0m\n",
      "\u001b[32m2025-03-10 16:30:04.294\u001b[0m | \u001b[1mINFO    \u001b[0m | \u001b[36mdeimkit.trainer\u001b[0m:\u001b[36mtrain\u001b[0m:\u001b[36m315\u001b[0m - \u001b[1mBest stats: {'epoch': 76, 'coco_eval_bbox': 0.6111761740449433}\u001b[0m\n"
     ]
    },
    {
     "name": "stdout",
     "output_type": "stream",
     "text": [
      "Test:  [4/5]  eta: 0:00:00    time: 0.2540  data: 0.1497  max mem: 10532\n",
      "Test: Total time: 0:00:01 (0.2678 s / it)\n",
      "Averaged stats: \n",
      "Accumulating evaluation results...\n",
      "COCOeval_opt.accumulate() finished...\n",
      "DONE (t=0.02s).\n",
      "IoU metric: bbox\n",
      " Average Precision  (AP) @[ IoU=0.50:0.95 | area=   all | maxDets=100 ] = 0.601\n",
      " Average Precision  (AP) @[ IoU=0.50      | area=   all | maxDets=100 ] = 0.866\n",
      " Average Precision  (AP) @[ IoU=0.75      | area=   all | maxDets=100 ] = 0.704\n",
      " Average Precision  (AP) @[ IoU=0.50:0.95 | area= small | maxDets=100 ] = 0.430\n",
      " Average Precision  (AP) @[ IoU=0.50:0.95 | area=medium | maxDets=100 ] = 0.625\n",
      " Average Precision  (AP) @[ IoU=0.50:0.95 | area= large | maxDets=100 ] = 0.468\n",
      " Average Recall     (AR) @[ IoU=0.50:0.95 | area=   all | maxDets=  1 ] = 0.401\n",
      " Average Recall     (AR) @[ IoU=0.50:0.95 | area=   all | maxDets= 10 ] = 0.680\n",
      " Average Recall     (AR) @[ IoU=0.50:0.95 | area=   all | maxDets=100 ] = 0.781\n",
      " Average Recall     (AR) @[ IoU=0.50:0.95 | area= small | maxDets=100 ] = 0.600\n",
      " Average Recall     (AR) @[ IoU=0.50:0.95 | area=medium | maxDets=100 ] = 0.786\n",
      " Average Recall     (AR) @[ IoU=0.50:0.95 | area= large | maxDets=100 ] = 0.788\n",
      " Average Recall     (AR) @[ IoU=0.50      | area=   all | maxDets=100 ] = 0.994\n",
      " Average Recall     (AR) @[ IoU=0.75      | area=   all | maxDets=100 ] = 0.927\n",
      "Epoch: [80]  [ 0/15]  eta: 0:00:24  lr: 0.000181  loss: 22.6395 (22.6395)  loss_mal: 0.9072 (0.9072)  loss_bbox: 0.1879 (0.1879)  loss_giou: 0.4986 (0.4986)  loss_fgl: 1.1549 (1.1549)  loss_mal_aux_0: 0.9126 (0.9126)  loss_bbox_aux_0: 0.2007 (0.2007)  loss_giou_aux_0: 0.5370 (0.5370)  loss_fgl_aux_0: 1.1805 (1.1805)  loss_ddf_aux_0: 0.1658 (0.1658)  loss_mal_aux_1: 0.9048 (0.9048)  loss_bbox_aux_1: 0.1911 (0.1911)  loss_giou_aux_1: 0.5015 (0.5015)  loss_fgl_aux_1: 1.1557 (1.1557)  loss_ddf_aux_1: 0.0065 (0.0065)  loss_mal_pre: 0.9033 (0.9033)  loss_bbox_pre: 0.2021 (0.2021)  loss_giou_pre: 0.5448 (0.5448)  loss_mal_enc_0: 0.9688 (0.9688)  loss_bbox_enc_0: 0.2716 (0.2716)  loss_giou_enc_0: 0.6556 (0.6556)  loss_mal_dn_0: 0.7705 (0.7705)  loss_bbox_dn_0: 0.2941 (0.2941)  loss_giou_dn_0: 0.6715 (0.6715)  loss_fgl_dn_0: 1.1800 (1.1800)  loss_ddf_dn_0: 0.7120 (0.7120)  loss_mal_dn_1: 0.7495 (0.7495)  loss_bbox_dn_1: 0.2137 (0.2137)  loss_giou_dn_1: 0.5163 (0.5163)  loss_fgl_dn_1: 1.1254 (1.1254)  loss_ddf_dn_1: 0.0285 (0.0285)  loss_mal_dn_2: 0.7480 (0.7480)  loss_bbox_dn_2: 0.2033 (0.2033)  loss_giou_dn_2: 0.4988 (0.4988)  loss_fgl_dn_2: 1.1210 (1.1210)  loss_mal_dn_pre: 0.7686 (0.7686)  loss_bbox_dn_pre: 0.3007 (0.3007)  loss_giou_dn_pre: 0.6866 (0.6866)  time: 1.6470  data: 1.2257  max mem: 10532\n"
     ]
    },
    {
     "name": "stderr",
     "output_type": "stream",
     "text": [
      "\u001b[32m2025-03-10 16:30:12.128\u001b[0m | \u001b[1mINFO    \u001b[0m | \u001b[36mdeimkit.trainer\u001b[0m:\u001b[36mevaluate\u001b[0m:\u001b[36m331\u001b[0m - \u001b[1mEvaluating model...\u001b[0m\n"
     ]
    },
    {
     "name": "stdout",
     "output_type": "stream",
     "text": [
      "Epoch: [80]  [14/15]  eta: 0:00:00  lr: 0.000179  loss: 22.6395 (22.7493)  loss_mal: 0.9111 (0.9546)  loss_bbox: 0.1879 (0.1840)  loss_giou: 0.3872 (0.3858)  loss_fgl: 1.1795 (1.1742)  loss_mal_aux_0: 0.9473 (0.9734)  loss_bbox_aux_0: 0.2007 (0.2071)  loss_giou_aux_0: 0.4299 (0.4315)  loss_fgl_aux_0: 1.2185 (1.2133)  loss_ddf_aux_0: 0.1674 (0.1736)  loss_mal_aux_1: 0.9312 (0.9707)  loss_bbox_aux_1: 0.1911 (0.1859)  loss_giou_aux_1: 0.3872 (0.3884)  loss_fgl_aux_1: 1.1828 (1.1766)  loss_ddf_aux_1: 0.0087 (0.0088)  loss_mal_pre: 0.9463 (0.9707)  loss_bbox_pre: 0.2021 (0.2067)  loss_giou_pre: 0.4307 (0.4314)  loss_mal_enc_0: 1.0156 (1.0528)  loss_bbox_enc_0: 0.2716 (0.2713)  loss_giou_enc_0: 0.5335 (0.5416)  loss_mal_dn_0: 0.7734 (0.7752)  loss_bbox_dn_0: 0.3186 (0.3279)  loss_giou_dn_0: 0.6426 (0.6460)  loss_fgl_dn_0: 1.2203 (1.2157)  loss_ddf_dn_0: 0.8166 (0.8857)  loss_mal_dn_1: 0.7637 (0.7629)  loss_bbox_dn_1: 0.2259 (0.2427)  loss_giou_dn_1: 0.4783 (0.4767)  loss_fgl_dn_1: 1.1397 (1.1388)  loss_ddf_dn_1: 0.0411 (0.0443)  loss_mal_dn_2: 0.7539 (0.7544)  loss_bbox_dn_2: 0.2140 (0.2324)  loss_giou_dn_2: 0.4664 (0.4608)  loss_fgl_dn_2: 1.1338 (1.1344)  loss_mal_dn_pre: 0.7720 (0.7743)  loss_bbox_dn_pre: 0.3144 (0.3294)  loss_giou_dn_pre: 0.6412 (0.6455)  time: 0.5154  data: 0.1055  max mem: 10532\n",
      "Epoch: [80] Total time: 0:00:07 (0.5207 s / it)\n",
      "Averaged stats: lr: 0.000179  loss: 22.6395 (22.7493)  loss_mal: 0.9111 (0.9546)  loss_bbox: 0.1879 (0.1840)  loss_giou: 0.3872 (0.3858)  loss_fgl: 1.1795 (1.1742)  loss_mal_aux_0: 0.9473 (0.9734)  loss_bbox_aux_0: 0.2007 (0.2071)  loss_giou_aux_0: 0.4299 (0.4315)  loss_fgl_aux_0: 1.2185 (1.2133)  loss_ddf_aux_0: 0.1674 (0.1736)  loss_mal_aux_1: 0.9312 (0.9707)  loss_bbox_aux_1: 0.1911 (0.1859)  loss_giou_aux_1: 0.3872 (0.3884)  loss_fgl_aux_1: 1.1828 (1.1766)  loss_ddf_aux_1: 0.0087 (0.0088)  loss_mal_pre: 0.9463 (0.9707)  loss_bbox_pre: 0.2021 (0.2067)  loss_giou_pre: 0.4307 (0.4314)  loss_mal_enc_0: 1.0156 (1.0528)  loss_bbox_enc_0: 0.2716 (0.2713)  loss_giou_enc_0: 0.5335 (0.5416)  loss_mal_dn_0: 0.7734 (0.7752)  loss_bbox_dn_0: 0.3186 (0.3279)  loss_giou_dn_0: 0.6426 (0.6460)  loss_fgl_dn_0: 1.2203 (1.2157)  loss_ddf_dn_0: 0.8166 (0.8857)  loss_mal_dn_1: 0.7637 (0.7629)  loss_bbox_dn_1: 0.2259 (0.2427)  loss_giou_dn_1: 0.4783 (0.4767)  loss_fgl_dn_1: 1.1397 (1.1388)  loss_ddf_dn_1: 0.0411 (0.0443)  loss_mal_dn_2: 0.7539 (0.7544)  loss_bbox_dn_2: 0.2140 (0.2324)  loss_giou_dn_2: 0.4664 (0.4608)  loss_fgl_dn_2: 1.1338 (1.1344)  loss_mal_dn_pre: 0.7720 (0.7743)  loss_bbox_dn_pre: 0.3144 (0.3294)  loss_giou_dn_pre: 0.6412 (0.6455)\n",
      "Test:  [0/5]  eta: 0:00:04    time: 0.8134  data: 0.6971  max mem: 10532\n"
     ]
    },
    {
     "name": "stderr",
     "output_type": "stream",
     "text": [
      "\u001b[32m2025-03-10 16:30:13.577\u001b[0m | \u001b[1mINFO    \u001b[0m | \u001b[36mdeimkit.trainer\u001b[0m:\u001b[36mtrain\u001b[0m:\u001b[36m312\u001b[0m - \u001b[1mEpoch 80 - Train loss: 22.7493, Eval mAP: 0.5942\u001b[0m\n",
      "\u001b[32m2025-03-10 16:30:13.578\u001b[0m | \u001b[1mINFO    \u001b[0m | \u001b[36mdeimkit.trainer\u001b[0m:\u001b[36mtrain\u001b[0m:\u001b[36m315\u001b[0m - \u001b[1mBest stats: {'epoch': 76, 'coco_eval_bbox': 0.6111761740449433}\u001b[0m\n"
     ]
    },
    {
     "name": "stdout",
     "output_type": "stream",
     "text": [
      "Test:  [4/5]  eta: 0:00:00    time: 0.2709  data: 0.1606  max mem: 10532\n",
      "Test: Total time: 0:00:01 (0.2834 s / it)\n",
      "Averaged stats: \n",
      "Accumulating evaluation results...\n",
      "COCOeval_opt.accumulate() finished...\n",
      "DONE (t=0.02s).\n",
      "IoU metric: bbox\n",
      " Average Precision  (AP) @[ IoU=0.50:0.95 | area=   all | maxDets=100 ] = 0.594\n",
      " Average Precision  (AP) @[ IoU=0.50      | area=   all | maxDets=100 ] = 0.851\n",
      " Average Precision  (AP) @[ IoU=0.75      | area=   all | maxDets=100 ] = 0.671\n",
      " Average Precision  (AP) @[ IoU=0.50:0.95 | area= small | maxDets=100 ] = 0.354\n",
      " Average Precision  (AP) @[ IoU=0.50:0.95 | area=medium | maxDets=100 ] = 0.614\n",
      " Average Precision  (AP) @[ IoU=0.50:0.95 | area= large | maxDets=100 ] = 0.474\n",
      " Average Recall     (AR) @[ IoU=0.50:0.95 | area=   all | maxDets=  1 ] = 0.405\n",
      " Average Recall     (AR) @[ IoU=0.50:0.95 | area=   all | maxDets= 10 ] = 0.686\n",
      " Average Recall     (AR) @[ IoU=0.50:0.95 | area=   all | maxDets=100 ] = 0.783\n",
      " Average Recall     (AR) @[ IoU=0.50:0.95 | area= small | maxDets=100 ] = 0.720\n",
      " Average Recall     (AR) @[ IoU=0.50:0.95 | area=medium | maxDets=100 ] = 0.782\n",
      " Average Recall     (AR) @[ IoU=0.50:0.95 | area= large | maxDets=100 ] = 0.821\n",
      " Average Recall     (AR) @[ IoU=0.50      | area=   all | maxDets=100 ] = 0.999\n",
      " Average Recall     (AR) @[ IoU=0.75      | area=   all | maxDets=100 ] = 0.920\n",
      "Epoch: [81]  [ 0/15]  eta: 0:00:26  lr: 0.000179  loss: 22.4992 (22.4992)  loss_mal: 0.9468 (0.9468)  loss_bbox: 0.2041 (0.2041)  loss_giou: 0.3814 (0.3814)  loss_fgl: 1.1587 (1.1587)  loss_mal_aux_0: 0.9683 (0.9683)  loss_bbox_aux_0: 0.2269 (0.2269)  loss_giou_aux_0: 0.4173 (0.4173)  loss_fgl_aux_0: 1.1981 (1.1981)  loss_ddf_aux_0: 0.1444 (0.1444)  loss_mal_aux_1: 0.9458 (0.9458)  loss_bbox_aux_1: 0.2046 (0.2046)  loss_giou_aux_1: 0.3830 (0.3830)  loss_fgl_aux_1: 1.1620 (1.1620)  loss_ddf_aux_1: 0.0068 (0.0068)  loss_mal_pre: 0.9658 (0.9658)  loss_bbox_pre: 0.2280 (0.2280)  loss_giou_pre: 0.4199 (0.4199)  loss_mal_enc_0: 1.0273 (1.0273)  loss_bbox_enc_0: 0.2943 (0.2943)  loss_giou_enc_0: 0.5247 (0.5247)  loss_mal_dn_0: 0.7549 (0.7549)  loss_bbox_dn_0: 0.3497 (0.3497)  loss_giou_dn_0: 0.6353 (0.6353)  loss_fgl_dn_0: 1.1987 (1.1987)  loss_ddf_dn_0: 0.8892 (0.8892)  loss_mal_dn_1: 0.7373 (0.7373)  loss_bbox_dn_1: 0.2519 (0.2519)  loss_giou_dn_1: 0.4487 (0.4487)  loss_fgl_dn_1: 1.1277 (1.1277)  loss_ddf_dn_1: 0.0402 (0.0402)  loss_mal_dn_2: 0.7300 (0.7300)  loss_bbox_dn_2: 0.2436 (0.2436)  loss_giou_dn_2: 0.4362 (0.4362)  loss_fgl_dn_2: 1.1233 (1.1233)  loss_mal_dn_pre: 0.7549 (0.7549)  loss_bbox_dn_pre: 0.3463 (0.3463)  loss_giou_dn_pre: 0.6233 (0.6233)  time: 1.7927  data: 1.3119  max mem: 10532\n"
     ]
    },
    {
     "name": "stderr",
     "output_type": "stream",
     "text": [
      "\u001b[32m2025-03-10 16:30:20.999\u001b[0m | \u001b[1mINFO    \u001b[0m | \u001b[36mdeimkit.trainer\u001b[0m:\u001b[36mevaluate\u001b[0m:\u001b[36m331\u001b[0m - \u001b[1mEvaluating model...\u001b[0m\n"
     ]
    },
    {
     "name": "stdout",
     "output_type": "stream",
     "text": [
      "Epoch: [81]  [14/15]  eta: 0:00:00  lr: 0.000177  loss: 22.2392 (22.2868)  loss_mal: 0.9302 (0.9375)  loss_bbox: 0.1770 (0.1807)  loss_giou: 0.3762 (0.3842)  loss_fgl: 1.1655 (1.1685)  loss_mal_aux_0: 0.9590 (0.9587)  loss_bbox_aux_0: 0.1999 (0.2020)  loss_giou_aux_0: 0.4166 (0.4238)  loss_fgl_aux_0: 1.2027 (1.2035)  loss_ddf_aux_0: 0.1481 (0.1511)  loss_mal_aux_1: 0.9458 (0.9510)  loss_bbox_aux_1: 0.1782 (0.1819)  loss_giou_aux_1: 0.3773 (0.3862)  loss_fgl_aux_1: 1.1727 (1.1725)  loss_ddf_aux_1: 0.0081 (0.0082)  loss_mal_pre: 0.9604 (0.9571)  loss_bbox_pre: 0.2000 (0.2017)  loss_giou_pre: 0.4168 (0.4251)  loss_mal_enc_0: 1.0273 (1.0498)  loss_bbox_enc_0: 0.2547 (0.2591)  loss_giou_enc_0: 0.5247 (0.5290)  loss_mal_dn_0: 0.7690 (0.7669)  loss_bbox_dn_0: 0.2968 (0.3032)  loss_giou_dn_0: 0.6286 (0.6306)  loss_fgl_dn_0: 1.2189 (1.2135)  loss_ddf_dn_0: 0.7881 (0.7757)  loss_mal_dn_1: 0.7539 (0.7539)  loss_bbox_dn_1: 0.2246 (0.2249)  loss_giou_dn_1: 0.4615 (0.4649)  loss_fgl_dn_1: 1.1426 (1.1408)  loss_ddf_dn_1: 0.0386 (0.0381)  loss_mal_dn_2: 0.7417 (0.7430)  loss_bbox_dn_2: 0.2185 (0.2145)  loss_giou_dn_2: 0.4459 (0.4493)  loss_fgl_dn_2: 1.1353 (1.1352)  loss_mal_dn_pre: 0.7681 (0.7671)  loss_bbox_dn_pre: 0.2995 (0.3043)  loss_giou_dn_pre: 0.6233 (0.6295)  time: 0.4887  data: 0.1060  max mem: 10532\n",
      "Epoch: [81] Total time: 0:00:07 (0.4932 s / it)\n",
      "Averaged stats: lr: 0.000177  loss: 22.2392 (22.2868)  loss_mal: 0.9302 (0.9375)  loss_bbox: 0.1770 (0.1807)  loss_giou: 0.3762 (0.3842)  loss_fgl: 1.1655 (1.1685)  loss_mal_aux_0: 0.9590 (0.9587)  loss_bbox_aux_0: 0.1999 (0.2020)  loss_giou_aux_0: 0.4166 (0.4238)  loss_fgl_aux_0: 1.2027 (1.2035)  loss_ddf_aux_0: 0.1481 (0.1511)  loss_mal_aux_1: 0.9458 (0.9510)  loss_bbox_aux_1: 0.1782 (0.1819)  loss_giou_aux_1: 0.3773 (0.3862)  loss_fgl_aux_1: 1.1727 (1.1725)  loss_ddf_aux_1: 0.0081 (0.0082)  loss_mal_pre: 0.9604 (0.9571)  loss_bbox_pre: 0.2000 (0.2017)  loss_giou_pre: 0.4168 (0.4251)  loss_mal_enc_0: 1.0273 (1.0498)  loss_bbox_enc_0: 0.2547 (0.2591)  loss_giou_enc_0: 0.5247 (0.5290)  loss_mal_dn_0: 0.7690 (0.7669)  loss_bbox_dn_0: 0.2968 (0.3032)  loss_giou_dn_0: 0.6286 (0.6306)  loss_fgl_dn_0: 1.2189 (1.2135)  loss_ddf_dn_0: 0.7881 (0.7757)  loss_mal_dn_1: 0.7539 (0.7539)  loss_bbox_dn_1: 0.2246 (0.2249)  loss_giou_dn_1: 0.4615 (0.4649)  loss_fgl_dn_1: 1.1426 (1.1408)  loss_ddf_dn_1: 0.0386 (0.0381)  loss_mal_dn_2: 0.7417 (0.7430)  loss_bbox_dn_2: 0.2185 (0.2145)  loss_giou_dn_2: 0.4459 (0.4493)  loss_fgl_dn_2: 1.1353 (1.1352)  loss_mal_dn_pre: 0.7681 (0.7671)  loss_bbox_dn_pre: 0.2995 (0.3043)  loss_giou_dn_pre: 0.6233 (0.6295)\n",
      "Test:  [0/5]  eta: 0:00:04    time: 0.9469  data: 0.6735  max mem: 10532\n"
     ]
    },
    {
     "name": "stderr",
     "output_type": "stream",
     "text": [
      "\u001b[32m2025-03-10 16:30:22.509\u001b[0m | \u001b[1mINFO    \u001b[0m | \u001b[36mdeimkit.trainer\u001b[0m:\u001b[36mtrain\u001b[0m:\u001b[36m312\u001b[0m - \u001b[1mEpoch 81 - Train loss: 22.2868, Eval mAP: 0.5874\u001b[0m\n",
      "\u001b[32m2025-03-10 16:30:22.509\u001b[0m | \u001b[1mINFO    \u001b[0m | \u001b[36mdeimkit.trainer\u001b[0m:\u001b[36mtrain\u001b[0m:\u001b[36m315\u001b[0m - \u001b[1mBest stats: {'epoch': 76, 'coco_eval_bbox': 0.6111761740449433}\u001b[0m\n"
     ]
    },
    {
     "name": "stdout",
     "output_type": "stream",
     "text": [
      "Test:  [4/5]  eta: 0:00:00    time: 0.2830  data: 0.1487  max mem: 10532\n",
      "Test: Total time: 0:00:01 (0.2958 s / it)\n",
      "Averaged stats: \n",
      "Accumulating evaluation results...\n",
      "COCOeval_opt.accumulate() finished...\n",
      "DONE (t=0.02s).\n",
      "IoU metric: bbox\n",
      " Average Precision  (AP) @[ IoU=0.50:0.95 | area=   all | maxDets=100 ] = 0.587\n",
      " Average Precision  (AP) @[ IoU=0.50      | area=   all | maxDets=100 ] = 0.834\n",
      " Average Precision  (AP) @[ IoU=0.75      | area=   all | maxDets=100 ] = 0.692\n",
      " Average Precision  (AP) @[ IoU=0.50:0.95 | area= small | maxDets=100 ] = 0.405\n",
      " Average Precision  (AP) @[ IoU=0.50:0.95 | area=medium | maxDets=100 ] = 0.618\n",
      " Average Precision  (AP) @[ IoU=0.50:0.95 | area= large | maxDets=100 ] = 0.467\n",
      " Average Recall     (AR) @[ IoU=0.50:0.95 | area=   all | maxDets=  1 ] = 0.404\n",
      " Average Recall     (AR) @[ IoU=0.50:0.95 | area=   all | maxDets= 10 ] = 0.672\n",
      " Average Recall     (AR) @[ IoU=0.50:0.95 | area=   all | maxDets=100 ] = 0.776\n",
      " Average Recall     (AR) @[ IoU=0.50:0.95 | area= small | maxDets=100 ] = 0.680\n",
      " Average Recall     (AR) @[ IoU=0.50:0.95 | area=medium | maxDets=100 ] = 0.782\n",
      " Average Recall     (AR) @[ IoU=0.50:0.95 | area= large | maxDets=100 ] = 0.786\n",
      " Average Recall     (AR) @[ IoU=0.50      | area=   all | maxDets=100 ] = 0.994\n",
      " Average Recall     (AR) @[ IoU=0.75      | area=   all | maxDets=100 ] = 0.928\n",
      "Epoch: [82]  [ 0/15]  eta: 0:00:22  lr: 0.000177  loss: 22.5917 (22.5917)  loss_mal: 0.9785 (0.9785)  loss_bbox: 0.2011 (0.2011)  loss_giou: 0.4019 (0.4019)  loss_fgl: 1.1588 (1.1588)  loss_mal_aux_0: 0.9775 (0.9775)  loss_bbox_aux_0: 0.2261 (0.2261)  loss_giou_aux_0: 0.4369 (0.4369)  loss_fgl_aux_0: 1.1964 (1.1964)  loss_ddf_aux_0: 0.1349 (0.1349)  loss_mal_aux_1: 0.9785 (0.9785)  loss_bbox_aux_1: 0.2037 (0.2037)  loss_giou_aux_1: 0.4019 (0.4019)  loss_fgl_aux_1: 1.1657 (1.1657)  loss_ddf_aux_1: 0.0084 (0.0084)  loss_mal_pre: 0.9692 (0.9692)  loss_bbox_pre: 0.2251 (0.2251)  loss_giou_pre: 0.4382 (0.4382)  loss_mal_enc_0: 0.9985 (0.9985)  loss_bbox_enc_0: 0.2751 (0.2751)  loss_giou_enc_0: 0.5316 (0.5316)  loss_mal_dn_0: 0.7749 (0.7749)  loss_bbox_dn_0: 0.3337 (0.3337)  loss_giou_dn_0: 0.6153 (0.6153)  loss_fgl_dn_0: 1.2021 (1.2021)  loss_ddf_dn_0: 0.7141 (0.7141)  loss_mal_dn_1: 0.7666 (0.7666)  loss_bbox_dn_1: 0.2563 (0.2563)  loss_giou_dn_1: 0.4734 (0.4734)  loss_fgl_dn_1: 1.1460 (1.1460)  loss_ddf_dn_1: 0.0360 (0.0360)  loss_mal_dn_2: 0.7764 (0.7764)  loss_bbox_dn_2: 0.2520 (0.2520)  loss_giou_dn_2: 0.4646 (0.4646)  loss_fgl_dn_2: 1.1423 (1.1423)  loss_mal_dn_pre: 0.7734 (0.7734)  loss_bbox_dn_pre: 0.3375 (0.3375)  loss_giou_dn_pre: 0.6192 (0.6192)  time: 1.5147  data: 1.0845  max mem: 10532\n"
     ]
    },
    {
     "name": "stderr",
     "output_type": "stream",
     "text": [
      "\u001b[32m2025-03-10 16:30:29.493\u001b[0m | \u001b[1mINFO    \u001b[0m | \u001b[36mdeimkit.trainer\u001b[0m:\u001b[36mevaluate\u001b[0m:\u001b[36m331\u001b[0m - \u001b[1mEvaluating model...\u001b[0m\n"
     ]
    },
    {
     "name": "stdout",
     "output_type": "stream",
     "text": [
      "Epoch: [82]  [14/15]  eta: 0:00:00  lr: 0.000174  loss: 22.3265 (22.3495)  loss_mal: 0.9634 (0.9541)  loss_bbox: 0.1796 (0.1839)  loss_giou: 0.3821 (0.3917)  loss_fgl: 1.1669 (1.1711)  loss_mal_aux_0: 0.9272 (0.9550)  loss_bbox_aux_0: 0.1990 (0.2078)  loss_giou_aux_0: 0.4307 (0.4335)  loss_fgl_aux_0: 1.2045 (1.2055)  loss_ddf_aux_0: 0.1421 (0.1478)  loss_mal_aux_1: 0.9326 (0.9565)  loss_bbox_aux_1: 0.1805 (0.1861)  loss_giou_aux_1: 0.3880 (0.3944)  loss_fgl_aux_1: 1.1687 (1.1734)  loss_ddf_aux_1: 0.0092 (0.0095)  loss_mal_pre: 0.9263 (0.9535)  loss_bbox_pre: 0.1965 (0.2072)  loss_giou_pre: 0.4295 (0.4323)  loss_mal_enc_0: 0.9985 (1.0160)  loss_bbox_enc_0: 0.2751 (0.2647)  loss_giou_enc_0: 0.5257 (0.5319)  loss_mal_dn_0: 0.7715 (0.7696)  loss_bbox_dn_0: 0.2981 (0.3054)  loss_giou_dn_0: 0.6320 (0.6355)  loss_fgl_dn_0: 1.2094 (1.2112)  loss_ddf_dn_0: 0.7141 (0.7469)  loss_mal_dn_1: 0.7583 (0.7541)  loss_bbox_dn_1: 0.2204 (0.2261)  loss_giou_dn_1: 0.4752 (0.4707)  loss_fgl_dn_1: 1.1418 (1.1405)  loss_ddf_dn_1: 0.0394 (0.0396)  loss_mal_dn_2: 0.7485 (0.7482)  loss_bbox_dn_2: 0.2106 (0.2190)  loss_giou_dn_2: 0.4620 (0.4573)  loss_fgl_dn_2: 1.1378 (1.1360)  loss_mal_dn_pre: 0.7729 (0.7706)  loss_bbox_dn_pre: 0.3049 (0.3071)  loss_giou_dn_pre: 0.6328 (0.6358)  time: 0.4594  data: 0.0898  max mem: 10532\n",
      "Epoch: [82] Total time: 0:00:06 (0.4643 s / it)\n",
      "Averaged stats: lr: 0.000174  loss: 22.3265 (22.3495)  loss_mal: 0.9634 (0.9541)  loss_bbox: 0.1796 (0.1839)  loss_giou: 0.3821 (0.3917)  loss_fgl: 1.1669 (1.1711)  loss_mal_aux_0: 0.9272 (0.9550)  loss_bbox_aux_0: 0.1990 (0.2078)  loss_giou_aux_0: 0.4307 (0.4335)  loss_fgl_aux_0: 1.2045 (1.2055)  loss_ddf_aux_0: 0.1421 (0.1478)  loss_mal_aux_1: 0.9326 (0.9565)  loss_bbox_aux_1: 0.1805 (0.1861)  loss_giou_aux_1: 0.3880 (0.3944)  loss_fgl_aux_1: 1.1687 (1.1734)  loss_ddf_aux_1: 0.0092 (0.0095)  loss_mal_pre: 0.9263 (0.9535)  loss_bbox_pre: 0.1965 (0.2072)  loss_giou_pre: 0.4295 (0.4323)  loss_mal_enc_0: 0.9985 (1.0160)  loss_bbox_enc_0: 0.2751 (0.2647)  loss_giou_enc_0: 0.5257 (0.5319)  loss_mal_dn_0: 0.7715 (0.7696)  loss_bbox_dn_0: 0.2981 (0.3054)  loss_giou_dn_0: 0.6320 (0.6355)  loss_fgl_dn_0: 1.2094 (1.2112)  loss_ddf_dn_0: 0.7141 (0.7469)  loss_mal_dn_1: 0.7583 (0.7541)  loss_bbox_dn_1: 0.2204 (0.2261)  loss_giou_dn_1: 0.4752 (0.4707)  loss_fgl_dn_1: 1.1418 (1.1405)  loss_ddf_dn_1: 0.0394 (0.0396)  loss_mal_dn_2: 0.7485 (0.7482)  loss_bbox_dn_2: 0.2106 (0.2190)  loss_giou_dn_2: 0.4620 (0.4573)  loss_fgl_dn_2: 1.1378 (1.1360)  loss_mal_dn_pre: 0.7729 (0.7706)  loss_bbox_dn_pre: 0.3049 (0.3071)  loss_giou_dn_pre: 0.6328 (0.6358)\n",
      "Test:  [0/5]  eta: 0:00:04    time: 0.9477  data: 0.6727  max mem: 10532\n"
     ]
    },
    {
     "name": "stderr",
     "output_type": "stream",
     "text": [
      "\u001b[32m2025-03-10 16:30:30.987\u001b[0m | \u001b[1mINFO    \u001b[0m | \u001b[36mdeimkit.trainer\u001b[0m:\u001b[36mtrain\u001b[0m:\u001b[36m312\u001b[0m - \u001b[1mEpoch 82 - Train loss: 22.3495, Eval mAP: 0.5985\u001b[0m\n",
      "\u001b[32m2025-03-10 16:30:30.988\u001b[0m | \u001b[1mINFO    \u001b[0m | \u001b[36mdeimkit.trainer\u001b[0m:\u001b[36mtrain\u001b[0m:\u001b[36m315\u001b[0m - \u001b[1mBest stats: {'epoch': 76, 'coco_eval_bbox': 0.6111761740449433}\u001b[0m\n"
     ]
    },
    {
     "name": "stdout",
     "output_type": "stream",
     "text": [
      "Test:  [4/5]  eta: 0:00:00    time: 0.2811  data: 0.1471  max mem: 10532\n",
      "Test: Total time: 0:00:01 (0.2933 s / it)\n",
      "Averaged stats: \n",
      "Accumulating evaluation results...\n",
      "COCOeval_opt.accumulate() finished...\n",
      "DONE (t=0.02s).\n",
      "IoU metric: bbox\n",
      " Average Precision  (AP) @[ IoU=0.50:0.95 | area=   all | maxDets=100 ] = 0.598\n",
      " Average Precision  (AP) @[ IoU=0.50      | area=   all | maxDets=100 ] = 0.861\n",
      " Average Precision  (AP) @[ IoU=0.75      | area=   all | maxDets=100 ] = 0.682\n",
      " Average Precision  (AP) @[ IoU=0.50:0.95 | area= small | maxDets=100 ] = 0.343\n",
      " Average Precision  (AP) @[ IoU=0.50:0.95 | area=medium | maxDets=100 ] = 0.616\n",
      " Average Precision  (AP) @[ IoU=0.50:0.95 | area= large | maxDets=100 ] = 0.473\n",
      " Average Recall     (AR) @[ IoU=0.50:0.95 | area=   all | maxDets=  1 ] = 0.405\n",
      " Average Recall     (AR) @[ IoU=0.50:0.95 | area=   all | maxDets= 10 ] = 0.687\n",
      " Average Recall     (AR) @[ IoU=0.50:0.95 | area=   all | maxDets=100 ] = 0.784\n",
      " Average Recall     (AR) @[ IoU=0.50:0.95 | area= small | maxDets=100 ] = 0.700\n",
      " Average Recall     (AR) @[ IoU=0.50:0.95 | area=medium | maxDets=100 ] = 0.786\n",
      " Average Recall     (AR) @[ IoU=0.50:0.95 | area= large | maxDets=100 ] = 0.822\n",
      " Average Recall     (AR) @[ IoU=0.50      | area=   all | maxDets=100 ] = 0.999\n",
      " Average Recall     (AR) @[ IoU=0.75      | area=   all | maxDets=100 ] = 0.920\n",
      "Epoch: [83]  [ 0/15]  eta: 0:00:21  lr: 0.000174  loss: 22.8352 (22.8352)  loss_mal: 0.9385 (0.9385)  loss_bbox: 0.2025 (0.2025)  loss_giou: 0.3709 (0.3709)  loss_fgl: 1.1927 (1.1927)  loss_mal_aux_0: 0.9468 (0.9468)  loss_bbox_aux_0: 0.2216 (0.2216)  loss_giou_aux_0: 0.4329 (0.4329)  loss_fgl_aux_0: 1.2237 (1.2237)  loss_ddf_aux_0: 0.1762 (0.1762)  loss_mal_aux_1: 0.9399 (0.9399)  loss_bbox_aux_1: 0.2008 (0.2008)  loss_giou_aux_1: 0.3733 (0.3733)  loss_fgl_aux_1: 1.1944 (1.1944)  loss_ddf_aux_1: 0.0120 (0.0120)  loss_mal_pre: 0.9429 (0.9429)  loss_bbox_pre: 0.2216 (0.2216)  loss_giou_pre: 0.4328 (0.4328)  loss_mal_enc_0: 1.0000 (1.0000)  loss_bbox_enc_0: 0.3393 (0.3393)  loss_giou_enc_0: 0.6491 (0.6491)  loss_mal_dn_0: 0.7808 (0.7808)  loss_bbox_dn_0: 0.3073 (0.3073)  loss_giou_dn_0: 0.6172 (0.6172)  loss_fgl_dn_0: 1.2128 (1.2128)  loss_ddf_dn_0: 0.9526 (0.9526)  loss_mal_dn_1: 0.7627 (0.7627)  loss_bbox_dn_1: 0.2355 (0.2355)  loss_giou_dn_1: 0.4583 (0.4583)  loss_fgl_dn_1: 1.1464 (1.1464)  loss_ddf_dn_1: 0.0513 (0.0513)  loss_mal_dn_2: 0.7568 (0.7568)  loss_bbox_dn_2: 0.2335 (0.2335)  loss_giou_dn_2: 0.4499 (0.4499)  loss_fgl_dn_2: 1.1417 (1.1417)  loss_mal_dn_pre: 0.7822 (0.7822)  loss_bbox_dn_pre: 0.3125 (0.3125)  loss_giou_dn_pre: 0.6219 (0.6219)  time: 1.4660  data: 1.0670  max mem: 10532\n"
     ]
    },
    {
     "name": "stderr",
     "output_type": "stream",
     "text": [
      "\u001b[32m2025-03-10 16:30:37.959\u001b[0m | \u001b[1mINFO    \u001b[0m | \u001b[36mdeimkit.trainer\u001b[0m:\u001b[36m_save_checkpoint\u001b[0m:\u001b[36m363\u001b[0m - \u001b[1mSaving checkpoint to outputs/deim_hgnetv2_s_coco_ema_tune/checkpoint0083.pth\u001b[0m\n"
     ]
    },
    {
     "name": "stdout",
     "output_type": "stream",
     "text": [
      "Epoch: [83]  [14/15]  eta: 0:00:00  lr: 0.000172  loss: 22.3989 (22.5451)  loss_mal: 0.9419 (0.9446)  loss_bbox: 0.1997 (0.1921)  loss_giou: 0.3729 (0.3804)  loss_fgl: 1.1790 (1.1751)  loss_mal_aux_0: 0.9468 (0.9528)  loss_bbox_aux_0: 0.2198 (0.2162)  loss_giou_aux_0: 0.4233 (0.4259)  loss_fgl_aux_0: 1.2105 (1.2099)  loss_ddf_aux_0: 0.1680 (0.1724)  loss_mal_aux_1: 0.9438 (0.9505)  loss_bbox_aux_1: 0.2006 (0.1942)  loss_giou_aux_1: 0.3769 (0.3831)  loss_fgl_aux_1: 1.1822 (1.1766)  loss_ddf_aux_1: 0.0100 (0.0100)  loss_mal_pre: 0.9395 (0.9481)  loss_bbox_pre: 0.2182 (0.2167)  loss_giou_pre: 0.4228 (0.4266)  loss_mal_enc_0: 0.9888 (1.0030)  loss_bbox_enc_0: 0.2862 (0.2814)  loss_giou_enc_0: 0.5265 (0.5507)  loss_mal_dn_0: 0.7710 (0.7705)  loss_bbox_dn_0: 0.3269 (0.3245)  loss_giou_dn_0: 0.6333 (0.6355)  loss_fgl_dn_0: 1.2142 (1.2184)  loss_ddf_dn_0: 0.8235 (0.8307)  loss_mal_dn_1: 0.7583 (0.7547)  loss_bbox_dn_1: 0.2431 (0.2449)  loss_giou_dn_1: 0.4740 (0.4695)  loss_fgl_dn_1: 1.1464 (1.1395)  loss_ddf_dn_1: 0.0420 (0.0418)  loss_mal_dn_2: 0.7480 (0.7458)  loss_bbox_dn_2: 0.2335 (0.2351)  loss_giou_dn_2: 0.4575 (0.4552)  loss_fgl_dn_2: 1.1407 (1.1362)  loss_mal_dn_pre: 0.7710 (0.7706)  loss_bbox_dn_pre: 0.3320 (0.3267)  loss_giou_dn_pre: 0.6402 (0.6354)  time: 0.4587  data: 0.0907  max mem: 10532\n",
      "Epoch: [83] Total time: 0:00:06 (0.4634 s / it)\n",
      "Averaged stats: lr: 0.000172  loss: 22.3989 (22.5451)  loss_mal: 0.9419 (0.9446)  loss_bbox: 0.1997 (0.1921)  loss_giou: 0.3729 (0.3804)  loss_fgl: 1.1790 (1.1751)  loss_mal_aux_0: 0.9468 (0.9528)  loss_bbox_aux_0: 0.2198 (0.2162)  loss_giou_aux_0: 0.4233 (0.4259)  loss_fgl_aux_0: 1.2105 (1.2099)  loss_ddf_aux_0: 0.1680 (0.1724)  loss_mal_aux_1: 0.9438 (0.9505)  loss_bbox_aux_1: 0.2006 (0.1942)  loss_giou_aux_1: 0.3769 (0.3831)  loss_fgl_aux_1: 1.1822 (1.1766)  loss_ddf_aux_1: 0.0100 (0.0100)  loss_mal_pre: 0.9395 (0.9481)  loss_bbox_pre: 0.2182 (0.2167)  loss_giou_pre: 0.4228 (0.4266)  loss_mal_enc_0: 0.9888 (1.0030)  loss_bbox_enc_0: 0.2862 (0.2814)  loss_giou_enc_0: 0.5265 (0.5507)  loss_mal_dn_0: 0.7710 (0.7705)  loss_bbox_dn_0: 0.3269 (0.3245)  loss_giou_dn_0: 0.6333 (0.6355)  loss_fgl_dn_0: 1.2142 (1.2184)  loss_ddf_dn_0: 0.8235 (0.8307)  loss_mal_dn_1: 0.7583 (0.7547)  loss_bbox_dn_1: 0.2431 (0.2449)  loss_giou_dn_1: 0.4740 (0.4695)  loss_fgl_dn_1: 1.1464 (1.1395)  loss_ddf_dn_1: 0.0420 (0.0418)  loss_mal_dn_2: 0.7480 (0.7458)  loss_bbox_dn_2: 0.2335 (0.2351)  loss_giou_dn_2: 0.4575 (0.4552)  loss_fgl_dn_2: 1.1407 (1.1362)  loss_mal_dn_pre: 0.7710 (0.7706)  loss_bbox_dn_pre: 0.3320 (0.3267)  loss_giou_dn_pre: 0.6402 (0.6354)\n"
     ]
    },
    {
     "name": "stderr",
     "output_type": "stream",
     "text": [
      "\u001b[32m2025-03-10 16:30:38.229\u001b[0m | \u001b[1mINFO    \u001b[0m | \u001b[36mdeimkit.trainer\u001b[0m:\u001b[36m_save_checkpoint\u001b[0m:\u001b[36m380\u001b[0m - \u001b[1mCheckpoint saved to outputs/deim_hgnetv2_s_coco_ema_tune/checkpoint0083.pth\u001b[0m\n",
      "\u001b[32m2025-03-10 16:30:38.231\u001b[0m | \u001b[1mINFO    \u001b[0m | \u001b[36mdeimkit.trainer\u001b[0m:\u001b[36mevaluate\u001b[0m:\u001b[36m331\u001b[0m - \u001b[1mEvaluating model...\u001b[0m\n"
     ]
    },
    {
     "name": "stdout",
     "output_type": "stream",
     "text": [
      "Test:  [0/5]  eta: 0:00:04    time: 0.9111  data: 0.6397  max mem: 10532\n"
     ]
    },
    {
     "name": "stderr",
     "output_type": "stream",
     "text": [
      "\u001b[32m2025-03-10 16:30:39.697\u001b[0m | \u001b[1mINFO    \u001b[0m | \u001b[36mdeimkit.trainer\u001b[0m:\u001b[36mtrain\u001b[0m:\u001b[36m312\u001b[0m - \u001b[1mEpoch 83 - Train loss: 22.5451, Eval mAP: 0.6051\u001b[0m\n",
      "\u001b[32m2025-03-10 16:30:39.697\u001b[0m | \u001b[1mINFO    \u001b[0m | \u001b[36mdeimkit.trainer\u001b[0m:\u001b[36mtrain\u001b[0m:\u001b[36m315\u001b[0m - \u001b[1mBest stats: {'epoch': 76, 'coco_eval_bbox': 0.6111761740449433}\u001b[0m\n"
     ]
    },
    {
     "name": "stdout",
     "output_type": "stream",
     "text": [
      "Test:  [4/5]  eta: 0:00:00    time: 0.2734  data: 0.1402  max mem: 10532\n",
      "Test: Total time: 0:00:01 (0.2876 s / it)\n",
      "Averaged stats: \n",
      "Accumulating evaluation results...\n",
      "COCOeval_opt.accumulate() finished...\n",
      "DONE (t=0.02s).\n",
      "IoU metric: bbox\n",
      " Average Precision  (AP) @[ IoU=0.50:0.95 | area=   all | maxDets=100 ] = 0.605\n",
      " Average Precision  (AP) @[ IoU=0.50      | area=   all | maxDets=100 ] = 0.871\n",
      " Average Precision  (AP) @[ IoU=0.75      | area=   all | maxDets=100 ] = 0.694\n",
      " Average Precision  (AP) @[ IoU=0.50:0.95 | area= small | maxDets=100 ] = 0.280\n",
      " Average Precision  (AP) @[ IoU=0.50:0.95 | area=medium | maxDets=100 ] = 0.625\n",
      " Average Precision  (AP) @[ IoU=0.50:0.95 | area= large | maxDets=100 ] = 0.471\n",
      " Average Recall     (AR) @[ IoU=0.50:0.95 | area=   all | maxDets=  1 ] = 0.409\n",
      " Average Recall     (AR) @[ IoU=0.50:0.95 | area=   all | maxDets= 10 ] = 0.675\n",
      " Average Recall     (AR) @[ IoU=0.50:0.95 | area=   all | maxDets=100 ] = 0.774\n",
      " Average Recall     (AR) @[ IoU=0.50:0.95 | area= small | maxDets=100 ] = 0.640\n",
      " Average Recall     (AR) @[ IoU=0.50:0.95 | area=medium | maxDets=100 ] = 0.782\n",
      " Average Recall     (AR) @[ IoU=0.50:0.95 | area= large | maxDets=100 ] = 0.784\n",
      " Average Recall     (AR) @[ IoU=0.50      | area=   all | maxDets=100 ] = 0.998\n",
      " Average Recall     (AR) @[ IoU=0.75      | area=   all | maxDets=100 ] = 0.905\n",
      "Epoch: [84]  [ 0/15]  eta: 0:00:24  lr: 0.000172  loss: 22.9729 (22.9729)  loss_mal: 0.9600 (0.9600)  loss_bbox: 0.1943 (0.1943)  loss_giou: 0.4032 (0.4032)  loss_fgl: 1.1620 (1.1620)  loss_mal_aux_0: 0.9946 (0.9946)  loss_bbox_aux_0: 0.2210 (0.2210)  loss_giou_aux_0: 0.4531 (0.4531)  loss_fgl_aux_0: 1.2032 (1.2032)  loss_ddf_aux_0: 0.1502 (0.1502)  loss_mal_aux_1: 0.9624 (0.9624)  loss_bbox_aux_1: 0.1994 (0.1994)  loss_giou_aux_1: 0.4068 (0.4068)  loss_fgl_aux_1: 1.1700 (1.1700)  loss_ddf_aux_1: 0.0089 (0.0089)  loss_mal_pre: 0.9956 (0.9956)  loss_bbox_pre: 0.2209 (0.2209)  loss_giou_pre: 0.4560 (0.4560)  loss_mal_enc_0: 1.0352 (1.0352)  loss_bbox_enc_0: 0.2712 (0.2712)  loss_giou_enc_0: 0.5498 (0.5498)  loss_mal_dn_0: 0.7700 (0.7700)  loss_bbox_dn_0: 0.3754 (0.3754)  loss_giou_dn_0: 0.6747 (0.6747)  loss_fgl_dn_0: 1.2167 (1.2167)  loss_ddf_dn_0: 0.7765 (0.7765)  loss_mal_dn_1: 0.7534 (0.7534)  loss_bbox_dn_1: 0.2744 (0.2744)  loss_giou_dn_1: 0.4934 (0.4934)  loss_fgl_dn_1: 1.1465 (1.1465)  loss_ddf_dn_1: 0.0403 (0.0403)  loss_mal_dn_2: 0.7451 (0.7451)  loss_bbox_dn_2: 0.2593 (0.2593)  loss_giou_dn_2: 0.4722 (0.4722)  loss_fgl_dn_2: 1.1409 (1.1409)  loss_mal_dn_pre: 0.7700 (0.7700)  loss_bbox_dn_pre: 0.3782 (0.3782)  loss_giou_dn_pre: 0.6677 (0.6677)  time: 1.6600  data: 1.2238  max mem: 10532\n"
     ]
    },
    {
     "name": "stderr",
     "output_type": "stream",
     "text": [
      "\u001b[32m2025-03-10 16:30:46.946\u001b[0m | \u001b[1mINFO    \u001b[0m | \u001b[36mdeimkit.trainer\u001b[0m:\u001b[36mevaluate\u001b[0m:\u001b[36m331\u001b[0m - \u001b[1mEvaluating model...\u001b[0m\n"
     ]
    },
    {
     "name": "stdout",
     "output_type": "stream",
     "text": [
      "Epoch: [84]  [14/15]  eta: 0:00:00  lr: 0.000169  loss: 22.2756 (22.2636)  loss_mal: 0.9014 (0.9108)  loss_bbox: 0.1947 (0.1911)  loss_giou: 0.3700 (0.3794)  loss_fgl: 1.1620 (1.1678)  loss_mal_aux_0: 0.9248 (0.9354)  loss_bbox_aux_0: 0.2190 (0.2147)  loss_giou_aux_0: 0.4077 (0.4211)  loss_fgl_aux_0: 1.1998 (1.2009)  loss_ddf_aux_0: 0.1469 (0.1433)  loss_mal_aux_1: 0.9165 (0.9243)  loss_bbox_aux_1: 0.1955 (0.1927)  loss_giou_aux_1: 0.3726 (0.3815)  loss_fgl_aux_1: 1.1665 (1.1710)  loss_ddf_aux_1: 0.0073 (0.0074)  loss_mal_pre: 0.9258 (0.9346)  loss_bbox_pre: 0.2168 (0.2138)  loss_giou_pre: 0.4076 (0.4204)  loss_mal_enc_0: 0.9785 (0.9930)  loss_bbox_enc_0: 0.2712 (0.2695)  loss_giou_enc_0: 0.5105 (0.5178)  loss_mal_dn_0: 0.7705 (0.7735)  loss_bbox_dn_0: 0.3260 (0.3204)  loss_giou_dn_0: 0.6153 (0.6281)  loss_fgl_dn_0: 1.2167 (1.2163)  loss_ddf_dn_0: 0.8227 (0.8411)  loss_mal_dn_1: 0.7559 (0.7533)  loss_bbox_dn_1: 0.2490 (0.2375)  loss_giou_dn_1: 0.4566 (0.4602)  loss_fgl_dn_1: 1.1349 (1.1346)  loss_ddf_dn_1: 0.0374 (0.0363)  loss_mal_dn_2: 0.7437 (0.7438)  loss_bbox_dn_2: 0.2397 (0.2277)  loss_giou_dn_2: 0.4450 (0.4463)  loss_fgl_dn_2: 1.1312 (1.1309)  loss_mal_dn_pre: 0.7700 (0.7733)  loss_bbox_dn_pre: 0.3264 (0.3223)  loss_giou_dn_pre: 0.6248 (0.6274)  time: 0.4768  data: 0.0988  max mem: 10532\n",
      "Epoch: [84] Total time: 0:00:07 (0.4817 s / it)\n",
      "Averaged stats: lr: 0.000169  loss: 22.2756 (22.2636)  loss_mal: 0.9014 (0.9108)  loss_bbox: 0.1947 (0.1911)  loss_giou: 0.3700 (0.3794)  loss_fgl: 1.1620 (1.1678)  loss_mal_aux_0: 0.9248 (0.9354)  loss_bbox_aux_0: 0.2190 (0.2147)  loss_giou_aux_0: 0.4077 (0.4211)  loss_fgl_aux_0: 1.1998 (1.2009)  loss_ddf_aux_0: 0.1469 (0.1433)  loss_mal_aux_1: 0.9165 (0.9243)  loss_bbox_aux_1: 0.1955 (0.1927)  loss_giou_aux_1: 0.3726 (0.3815)  loss_fgl_aux_1: 1.1665 (1.1710)  loss_ddf_aux_1: 0.0073 (0.0074)  loss_mal_pre: 0.9258 (0.9346)  loss_bbox_pre: 0.2168 (0.2138)  loss_giou_pre: 0.4076 (0.4204)  loss_mal_enc_0: 0.9785 (0.9930)  loss_bbox_enc_0: 0.2712 (0.2695)  loss_giou_enc_0: 0.5105 (0.5178)  loss_mal_dn_0: 0.7705 (0.7735)  loss_bbox_dn_0: 0.3260 (0.3204)  loss_giou_dn_0: 0.6153 (0.6281)  loss_fgl_dn_0: 1.2167 (1.2163)  loss_ddf_dn_0: 0.8227 (0.8411)  loss_mal_dn_1: 0.7559 (0.7533)  loss_bbox_dn_1: 0.2490 (0.2375)  loss_giou_dn_1: 0.4566 (0.4602)  loss_fgl_dn_1: 1.1349 (1.1346)  loss_ddf_dn_1: 0.0374 (0.0363)  loss_mal_dn_2: 0.7437 (0.7438)  loss_bbox_dn_2: 0.2397 (0.2277)  loss_giou_dn_2: 0.4450 (0.4463)  loss_fgl_dn_2: 1.1312 (1.1309)  loss_mal_dn_pre: 0.7700 (0.7733)  loss_bbox_dn_pre: 0.3264 (0.3223)  loss_giou_dn_pre: 0.6248 (0.6274)\n",
      "Test:  [0/5]  eta: 0:00:03    time: 0.7329  data: 0.6129  max mem: 10532\n"
     ]
    },
    {
     "name": "stderr",
     "output_type": "stream",
     "text": [
      "\u001b[32m2025-03-10 16:30:48.462\u001b[0m | \u001b[1mINFO    \u001b[0m | \u001b[36mdeimkit.trainer\u001b[0m:\u001b[36mtrain\u001b[0m:\u001b[36m312\u001b[0m - \u001b[1mEpoch 84 - Train loss: 22.2636, Eval mAP: 0.6042\u001b[0m\n",
      "\u001b[32m2025-03-10 16:30:48.463\u001b[0m | \u001b[1mINFO    \u001b[0m | \u001b[36mdeimkit.trainer\u001b[0m:\u001b[36mtrain\u001b[0m:\u001b[36m315\u001b[0m - \u001b[1mBest stats: {'epoch': 76, 'coco_eval_bbox': 0.6111761740449433}\u001b[0m\n"
     ]
    },
    {
     "name": "stdout",
     "output_type": "stream",
     "text": [
      "Test:  [4/5]  eta: 0:00:00    time: 0.2840  data: 0.1435  max mem: 10532\n",
      "Test: Total time: 0:00:01 (0.2976 s / it)\n",
      "Averaged stats: \n",
      "Accumulating evaluation results...\n",
      "COCOeval_opt.accumulate() finished...\n",
      "DONE (t=0.02s).\n",
      "IoU metric: bbox\n",
      " Average Precision  (AP) @[ IoU=0.50:0.95 | area=   all | maxDets=100 ] = 0.604\n",
      " Average Precision  (AP) @[ IoU=0.50      | area=   all | maxDets=100 ] = 0.867\n",
      " Average Precision  (AP) @[ IoU=0.75      | area=   all | maxDets=100 ] = 0.711\n",
      " Average Precision  (AP) @[ IoU=0.50:0.95 | area= small | maxDets=100 ] = 0.345\n",
      " Average Precision  (AP) @[ IoU=0.50:0.95 | area=medium | maxDets=100 ] = 0.625\n",
      " Average Precision  (AP) @[ IoU=0.50:0.95 | area= large | maxDets=100 ] = 0.467\n",
      " Average Recall     (AR) @[ IoU=0.50:0.95 | area=   all | maxDets=  1 ] = 0.402\n",
      " Average Recall     (AR) @[ IoU=0.50:0.95 | area=   all | maxDets= 10 ] = 0.676\n",
      " Average Recall     (AR) @[ IoU=0.50:0.95 | area=   all | maxDets=100 ] = 0.782\n",
      " Average Recall     (AR) @[ IoU=0.50:0.95 | area= small | maxDets=100 ] = 0.700\n",
      " Average Recall     (AR) @[ IoU=0.50:0.95 | area=medium | maxDets=100 ] = 0.786\n",
      " Average Recall     (AR) @[ IoU=0.50:0.95 | area= large | maxDets=100 ] = 0.783\n",
      " Average Recall     (AR) @[ IoU=0.50      | area=   all | maxDets=100 ] = 0.998\n",
      " Average Recall     (AR) @[ IoU=0.75      | area=   all | maxDets=100 ] = 0.940\n",
      "Epoch: [85]  [ 0/15]  eta: 0:00:26  lr: 0.000169  loss: 23.5356 (23.5356)  loss_mal: 1.0840 (1.0840)  loss_bbox: 0.2292 (0.2292)  loss_giou: 0.3742 (0.3742)  loss_fgl: 1.2086 (1.2086)  loss_mal_aux_0: 1.0918 (1.0918)  loss_bbox_aux_0: 0.2290 (0.2290)  loss_giou_aux_0: 0.4064 (0.4064)  loss_fgl_aux_0: 1.2416 (1.2416)  loss_ddf_aux_0: 0.1595 (0.1595)  loss_mal_aux_1: 1.0811 (1.0811)  loss_bbox_aux_1: 0.2260 (0.2260)  loss_giou_aux_1: 0.3707 (0.3707)  loss_fgl_aux_1: 1.2135 (1.2135)  loss_ddf_aux_1: 0.0097 (0.0097)  loss_mal_pre: 1.0908 (1.0908)  loss_bbox_pre: 0.2258 (0.2258)  loss_giou_pre: 0.4046 (0.4046)  loss_mal_enc_0: 1.1182 (1.1182)  loss_bbox_enc_0: 0.3101 (0.3101)  loss_giou_enc_0: 0.5339 (0.5339)  loss_mal_dn_0: 0.7734 (0.7734)  loss_bbox_dn_0: 0.3727 (0.3727)  loss_giou_dn_0: 0.6414 (0.6414)  loss_fgl_dn_0: 1.2586 (1.2586)  loss_ddf_dn_0: 0.6964 (0.6964)  loss_mal_dn_1: 0.7578 (0.7578)  loss_bbox_dn_1: 0.2893 (0.2893)  loss_giou_dn_1: 0.4685 (0.4685)  loss_fgl_dn_1: 1.1847 (1.1847)  loss_ddf_dn_1: 0.0316 (0.0316)  loss_mal_dn_2: 0.7480 (0.7480)  loss_bbox_dn_2: 0.2851 (0.2851)  loss_giou_dn_2: 0.4578 (0.4578)  loss_fgl_dn_2: 1.1849 (1.1849)  loss_mal_dn_pre: 0.7729 (0.7729)  loss_bbox_dn_pre: 0.3694 (0.3694)  loss_giou_dn_pre: 0.6347 (0.6347)  time: 1.7425  data: 1.2781  max mem: 10532\n"
     ]
    },
    {
     "name": "stderr",
     "output_type": "stream",
     "text": [
      "\u001b[32m2025-03-10 16:30:56.147\u001b[0m | \u001b[1mINFO    \u001b[0m | \u001b[36mdeimkit.trainer\u001b[0m:\u001b[36mevaluate\u001b[0m:\u001b[36m331\u001b[0m - \u001b[1mEvaluating model...\u001b[0m\n"
     ]
    },
    {
     "name": "stdout",
     "output_type": "stream",
     "text": [
      "Epoch: [85]  [14/15]  eta: 0:00:00  lr: 0.000167  loss: 21.9325 (22.1653)  loss_mal: 0.9224 (0.9309)  loss_bbox: 0.1723 (0.1824)  loss_giou: 0.3695 (0.3724)  loss_fgl: 1.1707 (1.1715)  loss_mal_aux_0: 0.9297 (0.9511)  loss_bbox_aux_0: 0.1877 (0.1999)  loss_giou_aux_0: 0.4064 (0.4117)  loss_fgl_aux_0: 1.2044 (1.2088)  loss_ddf_aux_0: 0.1461 (0.1472)  loss_mal_aux_1: 0.9336 (0.9353)  loss_bbox_aux_1: 0.1749 (0.1846)  loss_giou_aux_1: 0.3700 (0.3752)  loss_fgl_aux_1: 1.1734 (1.1754)  loss_ddf_aux_1: 0.0079 (0.0081)  loss_mal_pre: 0.9263 (0.9481)  loss_bbox_pre: 0.1873 (0.1996)  loss_giou_pre: 0.4046 (0.4109)  loss_mal_enc_0: 0.9839 (1.0124)  loss_bbox_enc_0: 0.2469 (0.2578)  loss_giou_enc_0: 0.5141 (0.5127)  loss_mal_dn_0: 0.7686 (0.7670)  loss_bbox_dn_0: 0.2891 (0.3000)  loss_giou_dn_0: 0.6211 (0.6206)  loss_fgl_dn_0: 1.2250 (1.2288)  loss_ddf_dn_0: 0.8245 (0.8272)  loss_mal_dn_1: 0.7534 (0.7500)  loss_bbox_dn_1: 0.2124 (0.2234)  loss_giou_dn_1: 0.4530 (0.4542)  loss_fgl_dn_1: 1.1405 (1.1431)  loss_ddf_dn_1: 0.0373 (0.0399)  loss_mal_dn_2: 0.7354 (0.7374)  loss_bbox_dn_2: 0.2037 (0.2135)  loss_giou_dn_2: 0.4347 (0.4389)  loss_fgl_dn_2: 1.1326 (1.1375)  loss_mal_dn_pre: 0.7686 (0.7674)  loss_bbox_dn_pre: 0.2898 (0.3016)  loss_giou_dn_pre: 0.6119 (0.6191)  time: 0.5061  data: 0.1020  max mem: 10532\n",
      "Epoch: [85] Total time: 0:00:07 (0.5107 s / it)\n",
      "Averaged stats: lr: 0.000167  loss: 21.9325 (22.1653)  loss_mal: 0.9224 (0.9309)  loss_bbox: 0.1723 (0.1824)  loss_giou: 0.3695 (0.3724)  loss_fgl: 1.1707 (1.1715)  loss_mal_aux_0: 0.9297 (0.9511)  loss_bbox_aux_0: 0.1877 (0.1999)  loss_giou_aux_0: 0.4064 (0.4117)  loss_fgl_aux_0: 1.2044 (1.2088)  loss_ddf_aux_0: 0.1461 (0.1472)  loss_mal_aux_1: 0.9336 (0.9353)  loss_bbox_aux_1: 0.1749 (0.1846)  loss_giou_aux_1: 0.3700 (0.3752)  loss_fgl_aux_1: 1.1734 (1.1754)  loss_ddf_aux_1: 0.0079 (0.0081)  loss_mal_pre: 0.9263 (0.9481)  loss_bbox_pre: 0.1873 (0.1996)  loss_giou_pre: 0.4046 (0.4109)  loss_mal_enc_0: 0.9839 (1.0124)  loss_bbox_enc_0: 0.2469 (0.2578)  loss_giou_enc_0: 0.5141 (0.5127)  loss_mal_dn_0: 0.7686 (0.7670)  loss_bbox_dn_0: 0.2891 (0.3000)  loss_giou_dn_0: 0.6211 (0.6206)  loss_fgl_dn_0: 1.2250 (1.2288)  loss_ddf_dn_0: 0.8245 (0.8272)  loss_mal_dn_1: 0.7534 (0.7500)  loss_bbox_dn_1: 0.2124 (0.2234)  loss_giou_dn_1: 0.4530 (0.4542)  loss_fgl_dn_1: 1.1405 (1.1431)  loss_ddf_dn_1: 0.0373 (0.0399)  loss_mal_dn_2: 0.7354 (0.7374)  loss_bbox_dn_2: 0.2037 (0.2135)  loss_giou_dn_2: 0.4347 (0.4389)  loss_fgl_dn_2: 1.1326 (1.1375)  loss_mal_dn_pre: 0.7686 (0.7674)  loss_bbox_dn_pre: 0.2898 (0.3016)  loss_giou_dn_pre: 0.6119 (0.6191)\n",
      "Test:  [0/5]  eta: 0:00:04    time: 0.8112  data: 0.6941  max mem: 10532\n"
     ]
    },
    {
     "name": "stderr",
     "output_type": "stream",
     "text": [
      "\u001b[32m2025-03-10 16:30:57.717\u001b[0m | \u001b[1mINFO    \u001b[0m | \u001b[36mdeimkit.trainer\u001b[0m:\u001b[36mtrain\u001b[0m:\u001b[36m312\u001b[0m - \u001b[1mEpoch 85 - Train loss: 22.1653, Eval mAP: 0.5949\u001b[0m\n",
      "\u001b[32m2025-03-10 16:30:57.717\u001b[0m | \u001b[1mINFO    \u001b[0m | \u001b[36mdeimkit.trainer\u001b[0m:\u001b[36mtrain\u001b[0m:\u001b[36m315\u001b[0m - \u001b[1mBest stats: {'epoch': 76, 'coco_eval_bbox': 0.6111761740449433}\u001b[0m\n"
     ]
    },
    {
     "name": "stdout",
     "output_type": "stream",
     "text": [
      "Test:  [4/5]  eta: 0:00:00    time: 0.2926  data: 0.1560  max mem: 10532\n",
      "Test: Total time: 0:00:01 (0.3064 s / it)\n",
      "Averaged stats: \n",
      "Accumulating evaluation results...\n",
      "COCOeval_opt.accumulate() finished...\n",
      "DONE (t=0.02s).\n",
      "IoU metric: bbox\n",
      " Average Precision  (AP) @[ IoU=0.50:0.95 | area=   all | maxDets=100 ] = 0.595\n",
      " Average Precision  (AP) @[ IoU=0.50      | area=   all | maxDets=100 ] = 0.859\n",
      " Average Precision  (AP) @[ IoU=0.75      | area=   all | maxDets=100 ] = 0.683\n",
      " Average Precision  (AP) @[ IoU=0.50:0.95 | area= small | maxDets=100 ] = 0.465\n",
      " Average Precision  (AP) @[ IoU=0.50:0.95 | area=medium | maxDets=100 ] = 0.592\n",
      " Average Precision  (AP) @[ IoU=0.50:0.95 | area= large | maxDets=100 ] = 0.460\n",
      " Average Recall     (AR) @[ IoU=0.50:0.95 | area=   all | maxDets=  1 ] = 0.397\n",
      " Average Recall     (AR) @[ IoU=0.50:0.95 | area=   all | maxDets= 10 ] = 0.672\n",
      " Average Recall     (AR) @[ IoU=0.50:0.95 | area=   all | maxDets=100 ] = 0.776\n",
      " Average Recall     (AR) @[ IoU=0.50:0.95 | area= small | maxDets=100 ] = 0.740\n",
      " Average Recall     (AR) @[ IoU=0.50:0.95 | area=medium | maxDets=100 ] = 0.748\n",
      " Average Recall     (AR) @[ IoU=0.50:0.95 | area= large | maxDets=100 ] = 0.778\n",
      " Average Recall     (AR) @[ IoU=0.50      | area=   all | maxDets=100 ] = 0.997\n",
      " Average Recall     (AR) @[ IoU=0.75      | area=   all | maxDets=100 ] = 0.914\n",
      "Epoch: [86]  [ 0/15]  eta: 0:00:24  lr: 0.000167  loss: 22.3205 (22.3205)  loss_mal: 0.9033 (0.9033)  loss_bbox: 0.1763 (0.1763)  loss_giou: 0.4060 (0.4060)  loss_fgl: 1.1880 (1.1880)  loss_mal_aux_0: 0.9175 (0.9175)  loss_bbox_aux_0: 0.2013 (0.2013)  loss_giou_aux_0: 0.4523 (0.4523)  loss_fgl_aux_0: 1.2261 (1.2261)  loss_ddf_aux_0: 0.1523 (0.1523)  loss_mal_aux_1: 0.8950 (0.8950)  loss_bbox_aux_1: 0.1784 (0.1784)  loss_giou_aux_1: 0.4084 (0.4084)  loss_fgl_aux_1: 1.1910 (1.1910)  loss_ddf_aux_1: 0.0078 (0.0078)  loss_mal_pre: 0.9121 (0.9121)  loss_bbox_pre: 0.2026 (0.2026)  loss_giou_pre: 0.4550 (0.4550)  loss_mal_enc_0: 0.9438 (0.9438)  loss_bbox_enc_0: 0.2478 (0.2478)  loss_giou_enc_0: 0.5378 (0.5378)  loss_mal_dn_0: 0.7690 (0.7690)  loss_bbox_dn_0: 0.2831 (0.2831)  loss_giou_dn_0: 0.6215 (0.6215)  loss_fgl_dn_0: 1.2246 (1.2246)  loss_ddf_dn_0: 0.8653 (0.8653)  loss_mal_dn_1: 0.7598 (0.7598)  loss_bbox_dn_1: 0.2191 (0.2191)  loss_giou_dn_1: 0.4769 (0.4769)  loss_fgl_dn_1: 1.1725 (1.1725)  loss_ddf_dn_1: 0.0433 (0.0433)  loss_mal_dn_2: 0.7549 (0.7549)  loss_bbox_dn_2: 0.2069 (0.2069)  loss_giou_dn_2: 0.4623 (0.4623)  loss_fgl_dn_2: 1.1722 (1.1722)  loss_mal_dn_pre: 0.7690 (0.7690)  loss_bbox_dn_pre: 0.2886 (0.2886)  loss_giou_dn_pre: 0.6286 (0.6286)  time: 1.6044  data: 1.1936  max mem: 10532\n"
     ]
    },
    {
     "name": "stderr",
     "output_type": "stream",
     "text": [
      "\u001b[32m2025-03-10 16:31:04.846\u001b[0m | \u001b[1mINFO    \u001b[0m | \u001b[36mdeimkit.trainer\u001b[0m:\u001b[36mevaluate\u001b[0m:\u001b[36m331\u001b[0m - \u001b[1mEvaluating model...\u001b[0m\n"
     ]
    },
    {
     "name": "stdout",
     "output_type": "stream",
     "text": [
      "Epoch: [86]  [14/15]  eta: 0:00:00  lr: 0.000164  loss: 22.2566 (22.3338)  loss_mal: 0.9033 (0.9222)  loss_bbox: 0.1765 (0.1866)  loss_giou: 0.3797 (0.3724)  loss_fgl: 1.1712 (1.1672)  loss_mal_aux_0: 0.9233 (0.9517)  loss_bbox_aux_0: 0.2013 (0.2123)  loss_giou_aux_0: 0.4189 (0.4165)  loss_fgl_aux_0: 1.2016 (1.2038)  loss_ddf_aux_0: 0.1606 (0.1727)  loss_mal_aux_1: 0.8975 (0.9319)  loss_bbox_aux_1: 0.1794 (0.1887)  loss_giou_aux_1: 0.3854 (0.3752)  loss_fgl_aux_1: 1.1745 (1.1702)  loss_ddf_aux_1: 0.0088 (0.0088)  loss_mal_pre: 0.9248 (0.9489)  loss_bbox_pre: 0.2005 (0.2119)  loss_giou_pre: 0.4166 (0.4172)  loss_mal_enc_0: 0.9697 (1.0015)  loss_bbox_enc_0: 0.2510 (0.2691)  loss_giou_enc_0: 0.5057 (0.5114)  loss_mal_dn_0: 0.7710 (0.7747)  loss_bbox_dn_0: 0.2925 (0.3103)  loss_giou_dn_0: 0.6209 (0.6246)  loss_fgl_dn_0: 1.2173 (1.2260)  loss_ddf_dn_0: 0.8405 (0.8732)  loss_mal_dn_1: 0.7510 (0.7501)  loss_bbox_dn_1: 0.2255 (0.2314)  loss_giou_dn_1: 0.4703 (0.4595)  loss_fgl_dn_1: 1.1377 (1.1430)  loss_ddf_dn_1: 0.0413 (0.0416)  loss_mal_dn_2: 0.7417 (0.7415)  loss_bbox_dn_2: 0.2189 (0.2233)  loss_giou_dn_2: 0.4565 (0.4446)  loss_fgl_dn_2: 1.1311 (1.1375)  loss_mal_dn_pre: 0.7695 (0.7736)  loss_bbox_dn_pre: 0.2924 (0.3124)  loss_giou_dn_pre: 0.6268 (0.6265)  time: 0.4690  data: 0.0963  max mem: 10532\n",
      "Epoch: [86] Total time: 0:00:07 (0.4736 s / it)\n",
      "Averaged stats: lr: 0.000164  loss: 22.2566 (22.3338)  loss_mal: 0.9033 (0.9222)  loss_bbox: 0.1765 (0.1866)  loss_giou: 0.3797 (0.3724)  loss_fgl: 1.1712 (1.1672)  loss_mal_aux_0: 0.9233 (0.9517)  loss_bbox_aux_0: 0.2013 (0.2123)  loss_giou_aux_0: 0.4189 (0.4165)  loss_fgl_aux_0: 1.2016 (1.2038)  loss_ddf_aux_0: 0.1606 (0.1727)  loss_mal_aux_1: 0.8975 (0.9319)  loss_bbox_aux_1: 0.1794 (0.1887)  loss_giou_aux_1: 0.3854 (0.3752)  loss_fgl_aux_1: 1.1745 (1.1702)  loss_ddf_aux_1: 0.0088 (0.0088)  loss_mal_pre: 0.9248 (0.9489)  loss_bbox_pre: 0.2005 (0.2119)  loss_giou_pre: 0.4166 (0.4172)  loss_mal_enc_0: 0.9697 (1.0015)  loss_bbox_enc_0: 0.2510 (0.2691)  loss_giou_enc_0: 0.5057 (0.5114)  loss_mal_dn_0: 0.7710 (0.7747)  loss_bbox_dn_0: 0.2925 (0.3103)  loss_giou_dn_0: 0.6209 (0.6246)  loss_fgl_dn_0: 1.2173 (1.2260)  loss_ddf_dn_0: 0.8405 (0.8732)  loss_mal_dn_1: 0.7510 (0.7501)  loss_bbox_dn_1: 0.2255 (0.2314)  loss_giou_dn_1: 0.4703 (0.4595)  loss_fgl_dn_1: 1.1377 (1.1430)  loss_ddf_dn_1: 0.0413 (0.0416)  loss_mal_dn_2: 0.7417 (0.7415)  loss_bbox_dn_2: 0.2189 (0.2233)  loss_giou_dn_2: 0.4565 (0.4446)  loss_fgl_dn_2: 1.1311 (1.1375)  loss_mal_dn_pre: 0.7695 (0.7736)  loss_bbox_dn_pre: 0.2924 (0.3124)  loss_giou_dn_pre: 0.6268 (0.6265)\n",
      "Test:  [0/5]  eta: 0:00:03    time: 0.7479  data: 0.6375  max mem: 10532\n"
     ]
    },
    {
     "name": "stderr",
     "output_type": "stream",
     "text": [
      "\u001b[32m2025-03-10 16:31:06.297\u001b[0m | \u001b[1mINFO    \u001b[0m | \u001b[36mdeimkit.trainer\u001b[0m:\u001b[36m_save_checkpoint\u001b[0m:\u001b[36m363\u001b[0m - \u001b[1mSaving checkpoint to outputs/deim_hgnetv2_s_coco_ema_tune/best.pth\u001b[0m\n"
     ]
    },
    {
     "name": "stdout",
     "output_type": "stream",
     "text": [
      "Test:  [4/5]  eta: 0:00:00    time: 0.2712  data: 0.1398  max mem: 10532\n",
      "Test: Total time: 0:00:01 (0.2841 s / it)\n",
      "Averaged stats: \n",
      "Accumulating evaluation results...\n",
      "COCOeval_opt.accumulate() finished...\n",
      "DONE (t=0.02s).\n",
      "IoU metric: bbox\n",
      " Average Precision  (AP) @[ IoU=0.50:0.95 | area=   all | maxDets=100 ] = 0.614\n",
      " Average Precision  (AP) @[ IoU=0.50      | area=   all | maxDets=100 ] = 0.872\n",
      " Average Precision  (AP) @[ IoU=0.75      | area=   all | maxDets=100 ] = 0.722\n",
      " Average Precision  (AP) @[ IoU=0.50:0.95 | area= small | maxDets=100 ] = 0.511\n",
      " Average Precision  (AP) @[ IoU=0.50:0.95 | area=medium | maxDets=100 ] = 0.626\n",
      " Average Precision  (AP) @[ IoU=0.50:0.95 | area= large | maxDets=100 ] = 0.478\n",
      " Average Recall     (AR) @[ IoU=0.50:0.95 | area=   all | maxDets=  1 ] = 0.408\n",
      " Average Recall     (AR) @[ IoU=0.50:0.95 | area=   all | maxDets= 10 ] = 0.687\n",
      " Average Recall     (AR) @[ IoU=0.50:0.95 | area=   all | maxDets=100 ] = 0.781\n",
      " Average Recall     (AR) @[ IoU=0.50:0.95 | area= small | maxDets=100 ] = 0.760\n",
      " Average Recall     (AR) @[ IoU=0.50:0.95 | area=medium | maxDets=100 ] = 0.780\n",
      " Average Recall     (AR) @[ IoU=0.50:0.95 | area= large | maxDets=100 ] = 0.820\n",
      " Average Recall     (AR) @[ IoU=0.50      | area=   all | maxDets=100 ] = 0.998\n",
      " Average Recall     (AR) @[ IoU=0.75      | area=   all | maxDets=100 ] = 0.924\n"
     ]
    },
    {
     "name": "stderr",
     "output_type": "stream",
     "text": [
      "\u001b[32m2025-03-10 16:31:06.655\u001b[0m | \u001b[1mINFO    \u001b[0m | \u001b[36mdeimkit.trainer\u001b[0m:\u001b[36m_save_checkpoint\u001b[0m:\u001b[36m380\u001b[0m - \u001b[1mCheckpoint saved to outputs/deim_hgnetv2_s_coco_ema_tune/best.pth\u001b[0m\n",
      "\u001b[32m2025-03-10 16:31:06.658\u001b[0m | \u001b[1mINFO    \u001b[0m | \u001b[36mdeimkit.trainer\u001b[0m:\u001b[36mtrain\u001b[0m:\u001b[36m312\u001b[0m - \u001b[1mEpoch 86 - Train loss: 22.3338, Eval mAP: 0.6137\u001b[0m\n",
      "\u001b[32m2025-03-10 16:31:06.658\u001b[0m | \u001b[1mINFO    \u001b[0m | \u001b[36mdeimkit.trainer\u001b[0m:\u001b[36mtrain\u001b[0m:\u001b[36m315\u001b[0m - \u001b[1mBest stats: {'epoch': 86, 'coco_eval_bbox': 0.6136762369648429}\u001b[0m\n"
     ]
    },
    {
     "name": "stdout",
     "output_type": "stream",
     "text": [
      "Epoch: [87]  [ 0/15]  eta: 0:00:27  lr: 0.000164  loss: 22.2661 (22.2661)  loss_mal: 0.9492 (0.9492)  loss_bbox: 0.1632 (0.1632)  loss_giou: 0.3771 (0.3771)  loss_fgl: 1.1935 (1.1935)  loss_mal_aux_0: 0.9175 (0.9175)  loss_bbox_aux_0: 0.1737 (0.1737)  loss_giou_aux_0: 0.4055 (0.4055)  loss_fgl_aux_0: 1.2149 (1.2149)  loss_ddf_aux_0: 0.2134 (0.2134)  loss_mal_aux_1: 0.9731 (0.9731)  loss_bbox_aux_1: 0.1658 (0.1658)  loss_giou_aux_1: 0.3806 (0.3806)  loss_fgl_aux_1: 1.1977 (1.1977)  loss_ddf_aux_1: 0.0109 (0.0109)  loss_mal_pre: 0.9175 (0.9175)  loss_bbox_pre: 0.1737 (0.1737)  loss_giou_pre: 0.4070 (0.4070)  loss_mal_enc_0: 0.9556 (0.9556)  loss_bbox_enc_0: 0.2681 (0.2681)  loss_giou_enc_0: 0.5488 (0.5488)  loss_mal_dn_0: 0.7671 (0.7671)  loss_bbox_dn_0: 0.2527 (0.2527)  loss_giou_dn_0: 0.5839 (0.5839)  loss_fgl_dn_0: 1.2629 (1.2629)  loss_ddf_dn_0: 1.0472 (1.0472)  loss_mal_dn_1: 0.7495 (0.7495)  loss_bbox_dn_1: 0.1988 (0.1988)  loss_giou_dn_1: 0.4343 (0.4343)  loss_fgl_dn_1: 1.1806 (1.1806)  loss_ddf_dn_1: 0.0440 (0.0440)  loss_mal_dn_2: 0.7446 (0.7446)  loss_bbox_dn_2: 0.1911 (0.1911)  loss_giou_dn_2: 0.4202 (0.4202)  loss_fgl_dn_2: 1.1759 (1.1759)  loss_mal_dn_pre: 0.7671 (0.7671)  loss_bbox_dn_pre: 0.2545 (0.2545)  loss_giou_dn_pre: 0.5849 (0.5849)  time: 1.8063  data: 1.3245  max mem: 10532\n"
     ]
    },
    {
     "name": "stderr",
     "output_type": "stream",
     "text": [
      "\u001b[32m2025-03-10 16:31:14.018\u001b[0m | \u001b[1mINFO    \u001b[0m | \u001b[36mdeimkit.trainer\u001b[0m:\u001b[36m_save_checkpoint\u001b[0m:\u001b[36m363\u001b[0m - \u001b[1mSaving checkpoint to outputs/deim_hgnetv2_s_coco_ema_tune/checkpoint0087.pth\u001b[0m\n"
     ]
    },
    {
     "name": "stdout",
     "output_type": "stream",
     "text": [
      "Epoch: [87]  [14/15]  eta: 0:00:00  lr: 0.000161  loss: 21.9030 (21.8663)  loss_mal: 0.8994 (0.9217)  loss_bbox: 0.1786 (0.1776)  loss_giou: 0.3737 (0.3711)  loss_fgl: 1.1700 (1.1702)  loss_mal_aux_0: 0.9126 (0.9339)  loss_bbox_aux_0: 0.1894 (0.1924)  loss_giou_aux_0: 0.3992 (0.3994)  loss_fgl_aux_0: 1.1992 (1.1983)  loss_ddf_aux_0: 0.1147 (0.1295)  loss_mal_aux_1: 0.9062 (0.9338)  loss_bbox_aux_1: 0.1795 (0.1788)  loss_giou_aux_1: 0.3743 (0.3729)  loss_fgl_aux_1: 1.1723 (1.1728)  loss_ddf_aux_1: 0.0090 (0.0091)  loss_mal_pre: 0.9126 (0.9333)  loss_bbox_pre: 0.1885 (0.1920)  loss_giou_pre: 0.3973 (0.4001)  loss_mal_enc_0: 0.9937 (1.0003)  loss_bbox_enc_0: 0.2495 (0.2421)  loss_giou_enc_0: 0.4758 (0.4895)  loss_mal_dn_0: 0.7671 (0.7662)  loss_bbox_dn_0: 0.2930 (0.3013)  loss_giou_dn_0: 0.6069 (0.6154)  loss_fgl_dn_0: 1.2088 (1.2116)  loss_ddf_dn_0: 0.7268 (0.7520)  loss_mal_dn_1: 0.7417 (0.7450)  loss_bbox_dn_1: 0.2197 (0.2248)  loss_giou_dn_1: 0.4461 (0.4566)  loss_fgl_dn_1: 1.1275 (1.1330)  loss_ddf_dn_1: 0.0398 (0.0406)  loss_mal_dn_2: 0.7256 (0.7318)  loss_bbox_dn_2: 0.2138 (0.2146)  loss_giou_dn_2: 0.4339 (0.4402)  loss_fgl_dn_2: 1.1218 (1.1276)  loss_mal_dn_pre: 0.7671 (0.7664)  loss_bbox_dn_pre: 0.2957 (0.3032)  loss_giou_dn_pre: 0.6131 (0.6175)  time: 0.4833  data: 0.1035  max mem: 10532\n",
      "Epoch: [87] Total time: 0:00:07 (0.4890 s / it)\n",
      "Averaged stats: lr: 0.000161  loss: 21.9030 (21.8663)  loss_mal: 0.8994 (0.9217)  loss_bbox: 0.1786 (0.1776)  loss_giou: 0.3737 (0.3711)  loss_fgl: 1.1700 (1.1702)  loss_mal_aux_0: 0.9126 (0.9339)  loss_bbox_aux_0: 0.1894 (0.1924)  loss_giou_aux_0: 0.3992 (0.3994)  loss_fgl_aux_0: 1.1992 (1.1983)  loss_ddf_aux_0: 0.1147 (0.1295)  loss_mal_aux_1: 0.9062 (0.9338)  loss_bbox_aux_1: 0.1795 (0.1788)  loss_giou_aux_1: 0.3743 (0.3729)  loss_fgl_aux_1: 1.1723 (1.1728)  loss_ddf_aux_1: 0.0090 (0.0091)  loss_mal_pre: 0.9126 (0.9333)  loss_bbox_pre: 0.1885 (0.1920)  loss_giou_pre: 0.3973 (0.4001)  loss_mal_enc_0: 0.9937 (1.0003)  loss_bbox_enc_0: 0.2495 (0.2421)  loss_giou_enc_0: 0.4758 (0.4895)  loss_mal_dn_0: 0.7671 (0.7662)  loss_bbox_dn_0: 0.2930 (0.3013)  loss_giou_dn_0: 0.6069 (0.6154)  loss_fgl_dn_0: 1.2088 (1.2116)  loss_ddf_dn_0: 0.7268 (0.7520)  loss_mal_dn_1: 0.7417 (0.7450)  loss_bbox_dn_1: 0.2197 (0.2248)  loss_giou_dn_1: 0.4461 (0.4566)  loss_fgl_dn_1: 1.1275 (1.1330)  loss_ddf_dn_1: 0.0398 (0.0406)  loss_mal_dn_2: 0.7256 (0.7318)  loss_bbox_dn_2: 0.2138 (0.2146)  loss_giou_dn_2: 0.4339 (0.4402)  loss_fgl_dn_2: 1.1218 (1.1276)  loss_mal_dn_pre: 0.7671 (0.7664)  loss_bbox_dn_pre: 0.2957 (0.3032)  loss_giou_dn_pre: 0.6131 (0.6175)\n"
     ]
    },
    {
     "name": "stderr",
     "output_type": "stream",
     "text": [
      "\u001b[32m2025-03-10 16:31:14.357\u001b[0m | \u001b[1mINFO    \u001b[0m | \u001b[36mdeimkit.trainer\u001b[0m:\u001b[36m_save_checkpoint\u001b[0m:\u001b[36m380\u001b[0m - \u001b[1mCheckpoint saved to outputs/deim_hgnetv2_s_coco_ema_tune/checkpoint0087.pth\u001b[0m\n",
      "\u001b[32m2025-03-10 16:31:14.358\u001b[0m | \u001b[1mINFO    \u001b[0m | \u001b[36mdeimkit.trainer\u001b[0m:\u001b[36mevaluate\u001b[0m:\u001b[36m331\u001b[0m - \u001b[1mEvaluating model...\u001b[0m\n"
     ]
    },
    {
     "name": "stdout",
     "output_type": "stream",
     "text": [
      "Test:  [0/5]  eta: 0:00:03    time: 0.7802  data: 0.6632  max mem: 10532\n"
     ]
    },
    {
     "name": "stderr",
     "output_type": "stream",
     "text": [
      "\u001b[32m2025-03-10 16:31:15.883\u001b[0m | \u001b[1mINFO    \u001b[0m | \u001b[36mdeimkit.trainer\u001b[0m:\u001b[36mtrain\u001b[0m:\u001b[36m312\u001b[0m - \u001b[1mEpoch 87 - Train loss: 21.8663, Eval mAP: 0.6005\u001b[0m\n",
      "\u001b[32m2025-03-10 16:31:15.883\u001b[0m | \u001b[1mINFO    \u001b[0m | \u001b[36mdeimkit.trainer\u001b[0m:\u001b[36mtrain\u001b[0m:\u001b[36m315\u001b[0m - \u001b[1mBest stats: {'epoch': 86, 'coco_eval_bbox': 0.6136762369648429}\u001b[0m\n"
     ]
    },
    {
     "name": "stdout",
     "output_type": "stream",
     "text": [
      "Test:  [4/5]  eta: 0:00:00    time: 0.2861  data: 0.1489  max mem: 10532\n",
      "Test: Total time: 0:00:01 (0.2987 s / it)\n",
      "Averaged stats: \n",
      "Accumulating evaluation results...\n",
      "COCOeval_opt.accumulate() finished...\n",
      "DONE (t=0.02s).\n",
      "IoU metric: bbox\n",
      " Average Precision  (AP) @[ IoU=0.50:0.95 | area=   all | maxDets=100 ] = 0.601\n",
      " Average Precision  (AP) @[ IoU=0.50      | area=   all | maxDets=100 ] = 0.870\n",
      " Average Precision  (AP) @[ IoU=0.75      | area=   all | maxDets=100 ] = 0.684\n",
      " Average Precision  (AP) @[ IoU=0.50:0.95 | area= small | maxDets=100 ] = 0.337\n",
      " Average Precision  (AP) @[ IoU=0.50:0.95 | area=medium | maxDets=100 ] = 0.623\n",
      " Average Precision  (AP) @[ IoU=0.50:0.95 | area= large | maxDets=100 ] = 0.469\n",
      " Average Recall     (AR) @[ IoU=0.50:0.95 | area=   all | maxDets=  1 ] = 0.403\n",
      " Average Recall     (AR) @[ IoU=0.50:0.95 | area=   all | maxDets= 10 ] = 0.675\n",
      " Average Recall     (AR) @[ IoU=0.50:0.95 | area=   all | maxDets=100 ] = 0.778\n",
      " Average Recall     (AR) @[ IoU=0.50:0.95 | area= small | maxDets=100 ] = 0.780\n",
      " Average Recall     (AR) @[ IoU=0.50:0.95 | area=medium | maxDets=100 ] = 0.778\n",
      " Average Recall     (AR) @[ IoU=0.50:0.95 | area= large | maxDets=100 ] = 0.783\n",
      " Average Recall     (AR) @[ IoU=0.50      | area=   all | maxDets=100 ] = 0.994\n",
      " Average Recall     (AR) @[ IoU=0.75      | area=   all | maxDets=100 ] = 0.931\n",
      "Epoch: [88]  [ 0/15]  eta: 0:00:24  lr: 0.000161  loss: 22.3974 (22.3974)  loss_mal: 0.8774 (0.8774)  loss_bbox: 0.1962 (0.1962)  loss_giou: 0.4116 (0.4116)  loss_fgl: 1.1697 (1.1697)  loss_mal_aux_0: 0.8970 (0.8970)  loss_bbox_aux_0: 0.2289 (0.2289)  loss_giou_aux_0: 0.4619 (0.4619)  loss_fgl_aux_0: 1.2124 (1.2124)  loss_ddf_aux_0: 0.1259 (0.1259)  loss_mal_aux_1: 0.8823 (0.8823)  loss_bbox_aux_1: 0.1998 (0.1998)  loss_giou_aux_1: 0.4151 (0.4151)  loss_fgl_aux_1: 1.1739 (1.1739)  loss_ddf_aux_1: 0.0087 (0.0087)  loss_mal_pre: 0.8970 (0.8970)  loss_bbox_pre: 0.2274 (0.2274)  loss_giou_pre: 0.4595 (0.4595)  loss_mal_enc_0: 0.9453 (0.9453)  loss_bbox_enc_0: 0.2883 (0.2883)  loss_giou_enc_0: 0.5683 (0.5683)  loss_mal_dn_0: 0.7778 (0.7778)  loss_bbox_dn_0: 0.3215 (0.3215)  loss_giou_dn_0: 0.6357 (0.6357)  loss_fgl_dn_0: 1.2518 (1.2518)  loss_ddf_dn_0: 0.7773 (0.7773)  loss_mal_dn_1: 0.7642 (0.7642)  loss_bbox_dn_1: 0.2361 (0.2361)  loss_giou_dn_1: 0.4744 (0.4744)  loss_fgl_dn_1: 1.1596 (1.1596)  loss_ddf_dn_1: 0.0413 (0.0413)  loss_mal_dn_2: 0.7603 (0.7603)  loss_bbox_dn_2: 0.2155 (0.2155)  loss_giou_dn_2: 0.4525 (0.4525)  loss_fgl_dn_2: 1.1479 (1.1479)  loss_mal_dn_pre: 0.7754 (0.7754)  loss_bbox_dn_pre: 0.3218 (0.3218)  loss_giou_dn_pre: 0.6375 (0.6375)  time: 1.6151  data: 1.1349  max mem: 10532\n"
     ]
    },
    {
     "name": "stderr",
     "output_type": "stream",
     "text": [
      "\u001b[32m2025-03-10 16:31:23.194\u001b[0m | \u001b[1mINFO    \u001b[0m | \u001b[36mdeimkit.trainer\u001b[0m:\u001b[36mevaluate\u001b[0m:\u001b[36m331\u001b[0m - \u001b[1mEvaluating model...\u001b[0m\n"
     ]
    },
    {
     "name": "stdout",
     "output_type": "stream",
     "text": [
      "Epoch: [88]  [14/15]  eta: 0:00:00  lr: 0.000159  loss: 22.0186 (21.9372)  loss_mal: 0.8770 (0.9166)  loss_bbox: 0.1806 (0.1773)  loss_giou: 0.3596 (0.3647)  loss_fgl: 1.1697 (1.1643)  loss_mal_aux_0: 0.9077 (0.9320)  loss_bbox_aux_0: 0.2096 (0.2013)  loss_giou_aux_0: 0.4034 (0.4042)  loss_fgl_aux_0: 1.1996 (1.2025)  loss_ddf_aux_0: 0.1254 (0.1338)  loss_mal_aux_1: 0.8823 (0.9254)  loss_bbox_aux_1: 0.1841 (0.1790)  loss_giou_aux_1: 0.3610 (0.3671)  loss_fgl_aux_1: 1.1739 (1.1684)  loss_ddf_aux_1: 0.0079 (0.0086)  loss_mal_pre: 0.9062 (0.9320)  loss_bbox_pre: 0.2089 (0.2005)  loss_giou_pre: 0.4030 (0.4033)  loss_mal_enc_0: 0.9780 (0.9904)  loss_bbox_enc_0: 0.2656 (0.2651)  loss_giou_enc_0: 0.4990 (0.5169)  loss_mal_dn_0: 0.7676 (0.7678)  loss_bbox_dn_0: 0.2980 (0.3024)  loss_giou_dn_0: 0.6163 (0.6137)  loss_fgl_dn_0: 1.2133 (1.2214)  loss_ddf_dn_0: 0.8051 (0.7949)  loss_mal_dn_1: 0.7500 (0.7450)  loss_bbox_dn_1: 0.2308 (0.2202)  loss_giou_dn_1: 0.4409 (0.4465)  loss_fgl_dn_1: 1.1306 (1.1353)  loss_ddf_dn_1: 0.0415 (0.0405)  loss_mal_dn_2: 0.7412 (0.7365)  loss_bbox_dn_2: 0.2155 (0.2096)  loss_giou_dn_2: 0.4245 (0.4307)  loss_fgl_dn_2: 1.1300 (1.1290)  loss_mal_dn_pre: 0.7686 (0.7669)  loss_bbox_dn_pre: 0.2985 (0.3052)  loss_giou_dn_pre: 0.6182 (0.6179)  time: 0.4821  data: 0.0963  max mem: 10532\n",
      "Epoch: [88] Total time: 0:00:07 (0.4861 s / it)\n",
      "Averaged stats: lr: 0.000159  loss: 22.0186 (21.9372)  loss_mal: 0.8770 (0.9166)  loss_bbox: 0.1806 (0.1773)  loss_giou: 0.3596 (0.3647)  loss_fgl: 1.1697 (1.1643)  loss_mal_aux_0: 0.9077 (0.9320)  loss_bbox_aux_0: 0.2096 (0.2013)  loss_giou_aux_0: 0.4034 (0.4042)  loss_fgl_aux_0: 1.1996 (1.2025)  loss_ddf_aux_0: 0.1254 (0.1338)  loss_mal_aux_1: 0.8823 (0.9254)  loss_bbox_aux_1: 0.1841 (0.1790)  loss_giou_aux_1: 0.3610 (0.3671)  loss_fgl_aux_1: 1.1739 (1.1684)  loss_ddf_aux_1: 0.0079 (0.0086)  loss_mal_pre: 0.9062 (0.9320)  loss_bbox_pre: 0.2089 (0.2005)  loss_giou_pre: 0.4030 (0.4033)  loss_mal_enc_0: 0.9780 (0.9904)  loss_bbox_enc_0: 0.2656 (0.2651)  loss_giou_enc_0: 0.4990 (0.5169)  loss_mal_dn_0: 0.7676 (0.7678)  loss_bbox_dn_0: 0.2980 (0.3024)  loss_giou_dn_0: 0.6163 (0.6137)  loss_fgl_dn_0: 1.2133 (1.2214)  loss_ddf_dn_0: 0.8051 (0.7949)  loss_mal_dn_1: 0.7500 (0.7450)  loss_bbox_dn_1: 0.2308 (0.2202)  loss_giou_dn_1: 0.4409 (0.4465)  loss_fgl_dn_1: 1.1306 (1.1353)  loss_ddf_dn_1: 0.0415 (0.0405)  loss_mal_dn_2: 0.7412 (0.7365)  loss_bbox_dn_2: 0.2155 (0.2096)  loss_giou_dn_2: 0.4245 (0.4307)  loss_fgl_dn_2: 1.1300 (1.1290)  loss_mal_dn_pre: 0.7686 (0.7669)  loss_bbox_dn_pre: 0.2985 (0.3052)  loss_giou_dn_pre: 0.6182 (0.6179)\n",
      "Test:  [0/5]  eta: 0:00:03    time: 0.7076  data: 0.5881  max mem: 10532\n"
     ]
    },
    {
     "name": "stderr",
     "output_type": "stream",
     "text": [
      "\u001b[32m2025-03-10 16:31:24.646\u001b[0m | \u001b[1mINFO    \u001b[0m | \u001b[36mdeimkit.trainer\u001b[0m:\u001b[36mtrain\u001b[0m:\u001b[36m312\u001b[0m - \u001b[1mEpoch 88 - Train loss: 21.9372, Eval mAP: 0.6077\u001b[0m\n",
      "\u001b[32m2025-03-10 16:31:24.646\u001b[0m | \u001b[1mINFO    \u001b[0m | \u001b[36mdeimkit.trainer\u001b[0m:\u001b[36mtrain\u001b[0m:\u001b[36m315\u001b[0m - \u001b[1mBest stats: {'epoch': 86, 'coco_eval_bbox': 0.6136762369648429}\u001b[0m\n"
     ]
    },
    {
     "name": "stdout",
     "output_type": "stream",
     "text": [
      "Test:  [4/5]  eta: 0:00:00    time: 0.2727  data: 0.1373  max mem: 10532\n",
      "Test: Total time: 0:00:01 (0.2844 s / it)\n",
      "Averaged stats: \n",
      "Accumulating evaluation results...\n",
      "COCOeval_opt.accumulate() finished...\n",
      "DONE (t=0.02s).\n",
      "IoU metric: bbox\n",
      " Average Precision  (AP) @[ IoU=0.50:0.95 | area=   all | maxDets=100 ] = 0.608\n",
      " Average Precision  (AP) @[ IoU=0.50      | area=   all | maxDets=100 ] = 0.867\n",
      " Average Precision  (AP) @[ IoU=0.75      | area=   all | maxDets=100 ] = 0.701\n",
      " Average Precision  (AP) @[ IoU=0.50:0.95 | area= small | maxDets=100 ] = 0.470\n",
      " Average Precision  (AP) @[ IoU=0.50:0.95 | area=medium | maxDets=100 ] = 0.622\n",
      " Average Precision  (AP) @[ IoU=0.50:0.95 | area= large | maxDets=100 ] = 0.480\n",
      " Average Recall     (AR) @[ IoU=0.50:0.95 | area=   all | maxDets=  1 ] = 0.409\n",
      " Average Recall     (AR) @[ IoU=0.50:0.95 | area=   all | maxDets= 10 ] = 0.687\n",
      " Average Recall     (AR) @[ IoU=0.50:0.95 | area=   all | maxDets=100 ] = 0.782\n",
      " Average Recall     (AR) @[ IoU=0.50:0.95 | area= small | maxDets=100 ] = 0.740\n",
      " Average Recall     (AR) @[ IoU=0.50:0.95 | area=medium | maxDets=100 ] = 0.789\n",
      " Average Recall     (AR) @[ IoU=0.50:0.95 | area= large | maxDets=100 ] = 0.782\n",
      " Average Recall     (AR) @[ IoU=0.50      | area=   all | maxDets=100 ] = 0.998\n",
      " Average Recall     (AR) @[ IoU=0.75      | area=   all | maxDets=100 ] = 0.926\n",
      "Epoch: [89]  [ 0/15]  eta: 0:00:21  lr: 0.000158  loss: 22.2185 (22.2185)  loss_mal: 0.8633 (0.8633)  loss_bbox: 0.2072 (0.2072)  loss_giou: 0.3538 (0.3538)  loss_fgl: 1.1897 (1.1897)  loss_mal_aux_0: 0.9414 (0.9414)  loss_bbox_aux_0: 0.2305 (0.2305)  loss_giou_aux_0: 0.3863 (0.3863)  loss_fgl_aux_0: 1.2136 (1.2136)  loss_ddf_aux_0: 0.1363 (0.1363)  loss_mal_aux_1: 0.8535 (0.8535)  loss_bbox_aux_1: 0.2092 (0.2092)  loss_giou_aux_1: 0.3569 (0.3569)  loss_fgl_aux_1: 1.1874 (1.1874)  loss_ddf_aux_1: 0.0079 (0.0079)  loss_mal_pre: 0.9380 (0.9380)  loss_bbox_pre: 0.2318 (0.2318)  loss_giou_pre: 0.3920 (0.3920)  loss_mal_enc_0: 1.0000 (1.0000)  loss_bbox_enc_0: 0.2772 (0.2772)  loss_giou_enc_0: 0.4656 (0.4656)  loss_mal_dn_0: 0.7827 (0.7827)  loss_bbox_dn_0: 0.3441 (0.3441)  loss_giou_dn_0: 0.5980 (0.5980)  loss_fgl_dn_0: 1.2264 (1.2264)  loss_ddf_dn_0: 0.9132 (0.9132)  loss_mal_dn_1: 0.7524 (0.7524)  loss_bbox_dn_1: 0.2517 (0.2517)  loss_giou_dn_1: 0.4352 (0.4352)  loss_fgl_dn_1: 1.1473 (1.1473)  loss_ddf_dn_1: 0.0489 (0.0489)  loss_mal_dn_2: 0.7456 (0.7456)  loss_bbox_dn_2: 0.2390 (0.2390)  loss_giou_dn_2: 0.4205 (0.4205)  loss_fgl_dn_2: 1.1427 (1.1427)  loss_mal_dn_pre: 0.7798 (0.7798)  loss_bbox_dn_pre: 0.3484 (0.3484)  loss_giou_dn_pre: 0.6010 (0.6010)  time: 1.4482  data: 1.0109  max mem: 10532\n"
     ]
    },
    {
     "name": "stderr",
     "output_type": "stream",
     "text": [
      "\u001b[32m2025-03-10 16:31:31.696\u001b[0m | \u001b[1mINFO    \u001b[0m | \u001b[36mdeimkit.trainer\u001b[0m:\u001b[36mevaluate\u001b[0m:\u001b[36m331\u001b[0m - \u001b[1mEvaluating model...\u001b[0m\n"
     ]
    },
    {
     "name": "stdout",
     "output_type": "stream",
     "text": [
      "Epoch: [89]  [14/15]  eta: 0:00:00  lr: 0.000156  loss: 21.8780 (21.8917)  loss_mal: 0.8833 (0.8881)  loss_bbox: 0.1882 (0.1805)  loss_giou: 0.3669 (0.3680)  loss_fgl: 1.1645 (1.1608)  loss_mal_aux_0: 0.9238 (0.9130)  loss_bbox_aux_0: 0.2085 (0.2009)  loss_giou_aux_0: 0.4032 (0.4031)  loss_fgl_aux_0: 1.1960 (1.1969)  loss_ddf_aux_0: 0.1472 (0.1404)  loss_mal_aux_1: 0.8945 (0.8984)  loss_bbox_aux_1: 0.1904 (0.1815)  loss_giou_aux_1: 0.3691 (0.3699)  loss_fgl_aux_1: 1.1673 (1.1640)  loss_ddf_aux_1: 0.0076 (0.0076)  loss_mal_pre: 0.9214 (0.9133)  loss_bbox_pre: 0.2078 (0.2007)  loss_giou_pre: 0.4026 (0.4026)  loss_mal_enc_0: 0.9551 (0.9797)  loss_bbox_enc_0: 0.2702 (0.2733)  loss_giou_enc_0: 0.5104 (0.5298)  loss_mal_dn_0: 0.7676 (0.7681)  loss_bbox_dn_0: 0.3044 (0.3061)  loss_giou_dn_0: 0.5980 (0.6037)  loss_fgl_dn_0: 1.2188 (1.2241)  loss_ddf_dn_0: 0.8159 (0.8182)  loss_mal_dn_1: 0.7524 (0.7482)  loss_bbox_dn_1: 0.2297 (0.2275)  loss_giou_dn_1: 0.4379 (0.4470)  loss_fgl_dn_1: 1.1372 (1.1360)  loss_ddf_dn_1: 0.0407 (0.0410)  loss_mal_dn_2: 0.7397 (0.7363)  loss_bbox_dn_2: 0.2155 (0.2187)  loss_giou_dn_2: 0.4264 (0.4328)  loss_fgl_dn_2: 1.1304 (1.1301)  loss_mal_dn_pre: 0.7681 (0.7673)  loss_bbox_dn_pre: 0.3058 (0.3083)  loss_giou_dn_pre: 0.6015 (0.6059)  time: 0.4635  data: 0.0883  max mem: 10532\n",
      "Epoch: [89] Total time: 0:00:07 (0.4685 s / it)\n",
      "Averaged stats: lr: 0.000156  loss: 21.8780 (21.8917)  loss_mal: 0.8833 (0.8881)  loss_bbox: 0.1882 (0.1805)  loss_giou: 0.3669 (0.3680)  loss_fgl: 1.1645 (1.1608)  loss_mal_aux_0: 0.9238 (0.9130)  loss_bbox_aux_0: 0.2085 (0.2009)  loss_giou_aux_0: 0.4032 (0.4031)  loss_fgl_aux_0: 1.1960 (1.1969)  loss_ddf_aux_0: 0.1472 (0.1404)  loss_mal_aux_1: 0.8945 (0.8984)  loss_bbox_aux_1: 0.1904 (0.1815)  loss_giou_aux_1: 0.3691 (0.3699)  loss_fgl_aux_1: 1.1673 (1.1640)  loss_ddf_aux_1: 0.0076 (0.0076)  loss_mal_pre: 0.9214 (0.9133)  loss_bbox_pre: 0.2078 (0.2007)  loss_giou_pre: 0.4026 (0.4026)  loss_mal_enc_0: 0.9551 (0.9797)  loss_bbox_enc_0: 0.2702 (0.2733)  loss_giou_enc_0: 0.5104 (0.5298)  loss_mal_dn_0: 0.7676 (0.7681)  loss_bbox_dn_0: 0.3044 (0.3061)  loss_giou_dn_0: 0.5980 (0.6037)  loss_fgl_dn_0: 1.2188 (1.2241)  loss_ddf_dn_0: 0.8159 (0.8182)  loss_mal_dn_1: 0.7524 (0.7482)  loss_bbox_dn_1: 0.2297 (0.2275)  loss_giou_dn_1: 0.4379 (0.4470)  loss_fgl_dn_1: 1.1372 (1.1360)  loss_ddf_dn_1: 0.0407 (0.0410)  loss_mal_dn_2: 0.7397 (0.7363)  loss_bbox_dn_2: 0.2155 (0.2187)  loss_giou_dn_2: 0.4264 (0.4328)  loss_fgl_dn_2: 1.1304 (1.1301)  loss_mal_dn_pre: 0.7681 (0.7673)  loss_bbox_dn_pre: 0.3058 (0.3083)  loss_giou_dn_pre: 0.6015 (0.6059)\n",
      "Test:  [0/5]  eta: 0:00:03    time: 0.7428  data: 0.6266  max mem: 10532\n"
     ]
    },
    {
     "name": "stderr",
     "output_type": "stream",
     "text": [
      "\u001b[32m2025-03-10 16:31:33.172\u001b[0m | \u001b[1mINFO    \u001b[0m | \u001b[36mdeimkit.trainer\u001b[0m:\u001b[36mtrain\u001b[0m:\u001b[36m312\u001b[0m - \u001b[1mEpoch 89 - Train loss: 21.8917, Eval mAP: 0.6086\u001b[0m\n",
      "\u001b[32m2025-03-10 16:31:33.173\u001b[0m | \u001b[1mINFO    \u001b[0m | \u001b[36mdeimkit.trainer\u001b[0m:\u001b[36mtrain\u001b[0m:\u001b[36m315\u001b[0m - \u001b[1mBest stats: {'epoch': 86, 'coco_eval_bbox': 0.6136762369648429}\u001b[0m\n"
     ]
    },
    {
     "name": "stdout",
     "output_type": "stream",
     "text": [
      "Test:  [4/5]  eta: 0:00:00    time: 0.2778  data: 0.1418  max mem: 10532\n",
      "Test: Total time: 0:00:01 (0.2896 s / it)\n",
      "Averaged stats: \n",
      "Accumulating evaluation results...\n",
      "COCOeval_opt.accumulate() finished...\n",
      "DONE (t=0.02s).\n",
      "IoU metric: bbox\n",
      " Average Precision  (AP) @[ IoU=0.50:0.95 | area=   all | maxDets=100 ] = 0.609\n",
      " Average Precision  (AP) @[ IoU=0.50      | area=   all | maxDets=100 ] = 0.865\n",
      " Average Precision  (AP) @[ IoU=0.75      | area=   all | maxDets=100 ] = 0.715\n",
      " Average Precision  (AP) @[ IoU=0.50:0.95 | area= small | maxDets=100 ] = 0.317\n",
      " Average Precision  (AP) @[ IoU=0.50:0.95 | area=medium | maxDets=100 ] = 0.627\n",
      " Average Precision  (AP) @[ IoU=0.50:0.95 | area= large | maxDets=100 ] = 0.480\n",
      " Average Recall     (AR) @[ IoU=0.50:0.95 | area=   all | maxDets=  1 ] = 0.410\n",
      " Average Recall     (AR) @[ IoU=0.50:0.95 | area=   all | maxDets= 10 ] = 0.682\n",
      " Average Recall     (AR) @[ IoU=0.50:0.95 | area=   all | maxDets=100 ] = 0.776\n",
      " Average Recall     (AR) @[ IoU=0.50:0.95 | area= small | maxDets=100 ] = 0.660\n",
      " Average Recall     (AR) @[ IoU=0.50:0.95 | area=medium | maxDets=100 ] = 0.786\n",
      " Average Recall     (AR) @[ IoU=0.50:0.95 | area= large | maxDets=100 ] = 0.781\n",
      " Average Recall     (AR) @[ IoU=0.50      | area=   all | maxDets=100 ] = 0.998\n",
      " Average Recall     (AR) @[ IoU=0.75      | area=   all | maxDets=100 ] = 0.907\n",
      "Epoch: [90]  [ 0/15]  eta: 0:00:22  lr: 0.000156  loss: 22.1925 (22.1925)  loss_mal: 0.9214 (0.9214)  loss_bbox: 0.1663 (0.1663)  loss_giou: 0.4362 (0.4362)  loss_fgl: 1.1491 (1.1491)  loss_mal_aux_0: 0.9512 (0.9512)  loss_bbox_aux_0: 0.1946 (0.1946)  loss_giou_aux_0: 0.4775 (0.4775)  loss_fgl_aux_0: 1.1830 (1.1830)  loss_ddf_aux_0: 0.1134 (0.1134)  loss_mal_aux_1: 0.9341 (0.9341)  loss_bbox_aux_1: 0.1651 (0.1651)  loss_giou_aux_1: 0.4386 (0.4386)  loss_fgl_aux_1: 1.1553 (1.1553)  loss_ddf_aux_1: 0.0079 (0.0079)  loss_mal_pre: 0.9458 (0.9458)  loss_bbox_pre: 0.1961 (0.1961)  loss_giou_pre: 0.4832 (0.4832)  loss_mal_enc_0: 0.9556 (0.9556)  loss_bbox_enc_0: 0.2991 (0.2991)  loss_giou_enc_0: 0.6173 (0.6173)  loss_mal_dn_0: 0.7690 (0.7690)  loss_bbox_dn_0: 0.2917 (0.2917)  loss_giou_dn_0: 0.6499 (0.6499)  loss_fgl_dn_0: 1.1919 (1.1919)  loss_ddf_dn_0: 0.6046 (0.6046)  loss_mal_dn_1: 0.7500 (0.7500)  loss_bbox_dn_1: 0.2175 (0.2175)  loss_giou_dn_1: 0.4964 (0.4964)  loss_fgl_dn_1: 1.1281 (1.1281)  loss_ddf_dn_1: 0.0311 (0.0311)  loss_mal_dn_2: 0.7437 (0.7437)  loss_bbox_dn_2: 0.2016 (0.2016)  loss_giou_dn_2: 0.4783 (0.4783)  loss_fgl_dn_2: 1.1193 (1.1193)  loss_mal_dn_pre: 0.7686 (0.7686)  loss_bbox_dn_pre: 0.2965 (0.2965)  loss_giou_dn_pre: 0.6634 (0.6634)  time: 1.4978  data: 1.0816  max mem: 10532\n"
     ]
    },
    {
     "name": "stderr",
     "output_type": "stream",
     "text": [
      "\u001b[32m2025-03-10 16:31:40.186\u001b[0m | \u001b[1mINFO    \u001b[0m | \u001b[36mdeimkit.trainer\u001b[0m:\u001b[36mevaluate\u001b[0m:\u001b[36m331\u001b[0m - \u001b[1mEvaluating model...\u001b[0m\n"
     ]
    },
    {
     "name": "stdout",
     "output_type": "stream",
     "text": [
      "Epoch: [90]  [14/15]  eta: 0:00:00  lr: 0.000153  loss: 22.0603 (22.1663)  loss_mal: 0.8794 (0.9068)  loss_bbox: 0.1760 (0.1795)  loss_giou: 0.3661 (0.3709)  loss_fgl: 1.1593 (1.1631)  loss_mal_aux_0: 0.9414 (0.9374)  loss_bbox_aux_0: 0.1910 (0.2017)  loss_giou_aux_0: 0.4175 (0.4145)  loss_fgl_aux_0: 1.1958 (1.2007)  loss_ddf_aux_0: 0.1472 (0.1553)  loss_mal_aux_1: 0.9092 (0.9207)  loss_bbox_aux_1: 0.1767 (0.1809)  loss_giou_aux_1: 0.3676 (0.3735)  loss_fgl_aux_1: 1.1625 (1.1658)  loss_ddf_aux_1: 0.0079 (0.0084)  loss_mal_pre: 0.9326 (0.9333)  loss_bbox_pre: 0.1906 (0.2014)  loss_giou_pre: 0.4161 (0.4147)  loss_mal_enc_0: 0.9722 (1.0098)  loss_bbox_enc_0: 0.2895 (0.3127)  loss_giou_enc_0: 0.5484 (0.5741)  loss_mal_dn_0: 0.7690 (0.7677)  loss_bbox_dn_0: 0.2917 (0.3039)  loss_giou_dn_0: 0.6305 (0.6184)  loss_fgl_dn_0: 1.2217 (1.2216)  loss_ddf_dn_0: 0.8467 (0.8519)  loss_mal_dn_1: 0.7446 (0.7407)  loss_bbox_dn_1: 0.2147 (0.2225)  loss_giou_dn_1: 0.4699 (0.4487)  loss_fgl_dn_1: 1.1300 (1.1304)  loss_ddf_dn_1: 0.0395 (0.0393)  loss_mal_dn_2: 0.7354 (0.7308)  loss_bbox_dn_2: 0.2016 (0.2133)  loss_giou_dn_2: 0.4566 (0.4347)  loss_fgl_dn_2: 1.1282 (1.1249)  loss_mal_dn_pre: 0.7686 (0.7668)  loss_bbox_dn_pre: 0.2922 (0.3055)  loss_giou_dn_pre: 0.6324 (0.6197)  time: 0.4615  data: 0.0928  max mem: 10532\n",
      "Epoch: [90] Total time: 0:00:06 (0.4662 s / it)\n",
      "Averaged stats: lr: 0.000153  loss: 22.0603 (22.1663)  loss_mal: 0.8794 (0.9068)  loss_bbox: 0.1760 (0.1795)  loss_giou: 0.3661 (0.3709)  loss_fgl: 1.1593 (1.1631)  loss_mal_aux_0: 0.9414 (0.9374)  loss_bbox_aux_0: 0.1910 (0.2017)  loss_giou_aux_0: 0.4175 (0.4145)  loss_fgl_aux_0: 1.1958 (1.2007)  loss_ddf_aux_0: 0.1472 (0.1553)  loss_mal_aux_1: 0.9092 (0.9207)  loss_bbox_aux_1: 0.1767 (0.1809)  loss_giou_aux_1: 0.3676 (0.3735)  loss_fgl_aux_1: 1.1625 (1.1658)  loss_ddf_aux_1: 0.0079 (0.0084)  loss_mal_pre: 0.9326 (0.9333)  loss_bbox_pre: 0.1906 (0.2014)  loss_giou_pre: 0.4161 (0.4147)  loss_mal_enc_0: 0.9722 (1.0098)  loss_bbox_enc_0: 0.2895 (0.3127)  loss_giou_enc_0: 0.5484 (0.5741)  loss_mal_dn_0: 0.7690 (0.7677)  loss_bbox_dn_0: 0.2917 (0.3039)  loss_giou_dn_0: 0.6305 (0.6184)  loss_fgl_dn_0: 1.2217 (1.2216)  loss_ddf_dn_0: 0.8467 (0.8519)  loss_mal_dn_1: 0.7446 (0.7407)  loss_bbox_dn_1: 0.2147 (0.2225)  loss_giou_dn_1: 0.4699 (0.4487)  loss_fgl_dn_1: 1.1300 (1.1304)  loss_ddf_dn_1: 0.0395 (0.0393)  loss_mal_dn_2: 0.7354 (0.7308)  loss_bbox_dn_2: 0.2016 (0.2133)  loss_giou_dn_2: 0.4566 (0.4347)  loss_fgl_dn_2: 1.1282 (1.1249)  loss_mal_dn_pre: 0.7686 (0.7668)  loss_bbox_dn_pre: 0.2922 (0.3055)  loss_giou_dn_pre: 0.6324 (0.6197)\n",
      "Test:  [0/5]  eta: 0:00:04    time: 0.8455  data: 0.7163  max mem: 10532\n"
     ]
    },
    {
     "name": "stderr",
     "output_type": "stream",
     "text": [
      "\u001b[32m2025-03-10 16:31:41.635\u001b[0m | \u001b[1mINFO    \u001b[0m | \u001b[36mdeimkit.trainer\u001b[0m:\u001b[36mtrain\u001b[0m:\u001b[36m312\u001b[0m - \u001b[1mEpoch 90 - Train loss: 22.1663, Eval mAP: 0.6107\u001b[0m\n",
      "\u001b[32m2025-03-10 16:31:41.636\u001b[0m | \u001b[1mINFO    \u001b[0m | \u001b[36mdeimkit.trainer\u001b[0m:\u001b[36mtrain\u001b[0m:\u001b[36m315\u001b[0m - \u001b[1mBest stats: {'epoch': 86, 'coco_eval_bbox': 0.6136762369648429}\u001b[0m\n"
     ]
    },
    {
     "name": "stdout",
     "output_type": "stream",
     "text": [
      "Test:  [4/5]  eta: 0:00:00    time: 0.2707  data: 0.1625  max mem: 10532\n",
      "Test: Total time: 0:00:01 (0.2830 s / it)\n",
      "Averaged stats: \n",
      "Accumulating evaluation results...\n",
      "COCOeval_opt.accumulate() finished...\n",
      "DONE (t=0.02s).\n",
      "IoU metric: bbox\n",
      " Average Precision  (AP) @[ IoU=0.50:0.95 | area=   all | maxDets=100 ] = 0.611\n",
      " Average Precision  (AP) @[ IoU=0.50      | area=   all | maxDets=100 ] = 0.875\n",
      " Average Precision  (AP) @[ IoU=0.75      | area=   all | maxDets=100 ] = 0.699\n",
      " Average Precision  (AP) @[ IoU=0.50:0.95 | area= small | maxDets=100 ] = 0.434\n",
      " Average Precision  (AP) @[ IoU=0.50:0.95 | area=medium | maxDets=100 ] = 0.625\n",
      " Average Precision  (AP) @[ IoU=0.50:0.95 | area= large | maxDets=100 ] = 0.478\n",
      " Average Recall     (AR) @[ IoU=0.50:0.95 | area=   all | maxDets=  1 ] = 0.403\n",
      " Average Recall     (AR) @[ IoU=0.50:0.95 | area=   all | maxDets= 10 ] = 0.685\n",
      " Average Recall     (AR) @[ IoU=0.50:0.95 | area=   all | maxDets=100 ] = 0.773\n",
      " Average Recall     (AR) @[ IoU=0.50:0.95 | area= small | maxDets=100 ] = 0.760\n",
      " Average Recall     (AR) @[ IoU=0.50:0.95 | area=medium | maxDets=100 ] = 0.777\n",
      " Average Recall     (AR) @[ IoU=0.50:0.95 | area= large | maxDets=100 ] = 0.815\n",
      " Average Recall     (AR) @[ IoU=0.50      | area=   all | maxDets=100 ] = 0.999\n",
      " Average Recall     (AR) @[ IoU=0.75      | area=   all | maxDets=100 ] = 0.897\n",
      "Epoch: [91]  [ 0/15]  eta: 0:00:27  lr: 0.000153  loss: 22.2456 (22.2456)  loss_mal: 0.9121 (0.9121)  loss_bbox: 0.1701 (0.1701)  loss_giou: 0.3743 (0.3743)  loss_fgl: 1.1586 (1.1586)  loss_mal_aux_0: 1.0000 (1.0000)  loss_bbox_aux_0: 0.1956 (0.1956)  loss_giou_aux_0: 0.4209 (0.4209)  loss_fgl_aux_0: 1.2028 (1.2028)  loss_ddf_aux_0: 0.1542 (0.1542)  loss_mal_aux_1: 0.9385 (0.9385)  loss_bbox_aux_1: 0.1730 (0.1730)  loss_giou_aux_1: 0.3800 (0.3800)  loss_fgl_aux_1: 1.1627 (1.1627)  loss_ddf_aux_1: 0.0082 (0.0082)  loss_mal_pre: 0.9951 (0.9951)  loss_bbox_pre: 0.1931 (0.1931)  loss_giou_pre: 0.4178 (0.4178)  loss_mal_enc_0: 1.0107 (1.0107)  loss_bbox_enc_0: 0.2706 (0.2706)  loss_giou_enc_0: 0.5474 (0.5474)  loss_mal_dn_0: 0.7466 (0.7466)  loss_bbox_dn_0: 0.3074 (0.3074)  loss_giou_dn_0: 0.6475 (0.6475)  loss_fgl_dn_0: 1.2140 (1.2140)  loss_ddf_dn_0: 0.8579 (0.8579)  loss_mal_dn_1: 0.7310 (0.7310)  loss_bbox_dn_1: 0.2192 (0.2192)  loss_giou_dn_1: 0.4752 (0.4752)  loss_fgl_dn_1: 1.1266 (1.1266)  loss_ddf_dn_1: 0.0398 (0.0398)  loss_mal_dn_2: 0.7231 (0.7231)  loss_bbox_dn_2: 0.2090 (0.2090)  loss_giou_dn_2: 0.4569 (0.4569)  loss_fgl_dn_2: 1.1182 (1.1182)  loss_mal_dn_pre: 0.7480 (0.7480)  loss_bbox_dn_pre: 0.3052 (0.3052)  loss_giou_dn_pre: 0.6342 (0.6342)  time: 1.8201  data: 1.3915  max mem: 10532\n"
     ]
    },
    {
     "name": "stderr",
     "output_type": "stream",
     "text": [
      "\u001b[32m2025-03-10 16:31:49.089\u001b[0m | \u001b[1mINFO    \u001b[0m | \u001b[36mdeimkit.trainer\u001b[0m:\u001b[36m_save_checkpoint\u001b[0m:\u001b[36m363\u001b[0m - \u001b[1mSaving checkpoint to outputs/deim_hgnetv2_s_coco_ema_tune/checkpoint0091.pth\u001b[0m\n"
     ]
    },
    {
     "name": "stdout",
     "output_type": "stream",
     "text": [
      "Epoch: [91]  [14/15]  eta: 0:00:00  lr: 0.000150  loss: 22.2456 (22.2143)  loss_mal: 0.9116 (0.9242)  loss_bbox: 0.1812 (0.1838)  loss_giou: 0.3657 (0.3748)  loss_fgl: 1.1586 (1.1609)  loss_mal_aux_0: 0.9697 (0.9569)  loss_bbox_aux_0: 0.2018 (0.2056)  loss_giou_aux_0: 0.4014 (0.4131)  loss_fgl_aux_0: 1.1978 (1.1999)  loss_ddf_aux_0: 0.1343 (0.1403)  loss_mal_aux_1: 0.8965 (0.9290)  loss_bbox_aux_1: 0.1818 (0.1867)  loss_giou_aux_1: 0.3691 (0.3792)  loss_fgl_aux_1: 1.1628 (1.1663)  loss_ddf_aux_1: 0.0090 (0.0090)  loss_mal_pre: 0.9697 (0.9561)  loss_bbox_pre: 0.2005 (0.2052)  loss_giou_pre: 0.3992 (0.4127)  loss_mal_enc_0: 1.0107 (1.0435)  loss_bbox_enc_0: 0.2706 (0.2893)  loss_giou_enc_0: 0.5245 (0.5405)  loss_mal_dn_0: 0.7695 (0.7676)  loss_bbox_dn_0: 0.3166 (0.3078)  loss_giou_dn_0: 0.6429 (0.6227)  loss_fgl_dn_0: 1.2140 (1.2155)  loss_ddf_dn_0: 0.7911 (0.8047)  loss_mal_dn_1: 0.7461 (0.7460)  loss_bbox_dn_1: 0.2280 (0.2262)  loss_giou_dn_1: 0.4655 (0.4554)  loss_fgl_dn_1: 1.1400 (1.1328)  loss_ddf_dn_1: 0.0422 (0.0427)  loss_mal_dn_2: 0.7310 (0.7338)  loss_bbox_dn_2: 0.2147 (0.2162)  loss_giou_dn_2: 0.4470 (0.4385)  loss_fgl_dn_2: 1.1340 (1.1253)  loss_mal_dn_pre: 0.7690 (0.7674)  loss_bbox_dn_pre: 0.3181 (0.3100)  loss_giou_dn_pre: 0.6342 (0.6246)  time: 0.4912  data: 0.1089  max mem: 10532\n",
      "Epoch: [91] Total time: 0:00:07 (0.4954 s / it)\n",
      "Averaged stats: lr: 0.000150  loss: 22.2456 (22.2143)  loss_mal: 0.9116 (0.9242)  loss_bbox: 0.1812 (0.1838)  loss_giou: 0.3657 (0.3748)  loss_fgl: 1.1586 (1.1609)  loss_mal_aux_0: 0.9697 (0.9569)  loss_bbox_aux_0: 0.2018 (0.2056)  loss_giou_aux_0: 0.4014 (0.4131)  loss_fgl_aux_0: 1.1978 (1.1999)  loss_ddf_aux_0: 0.1343 (0.1403)  loss_mal_aux_1: 0.8965 (0.9290)  loss_bbox_aux_1: 0.1818 (0.1867)  loss_giou_aux_1: 0.3691 (0.3792)  loss_fgl_aux_1: 1.1628 (1.1663)  loss_ddf_aux_1: 0.0090 (0.0090)  loss_mal_pre: 0.9697 (0.9561)  loss_bbox_pre: 0.2005 (0.2052)  loss_giou_pre: 0.3992 (0.4127)  loss_mal_enc_0: 1.0107 (1.0435)  loss_bbox_enc_0: 0.2706 (0.2893)  loss_giou_enc_0: 0.5245 (0.5405)  loss_mal_dn_0: 0.7695 (0.7676)  loss_bbox_dn_0: 0.3166 (0.3078)  loss_giou_dn_0: 0.6429 (0.6227)  loss_fgl_dn_0: 1.2140 (1.2155)  loss_ddf_dn_0: 0.7911 (0.8047)  loss_mal_dn_1: 0.7461 (0.7460)  loss_bbox_dn_1: 0.2280 (0.2262)  loss_giou_dn_1: 0.4655 (0.4554)  loss_fgl_dn_1: 1.1400 (1.1328)  loss_ddf_dn_1: 0.0422 (0.0427)  loss_mal_dn_2: 0.7310 (0.7338)  loss_bbox_dn_2: 0.2147 (0.2162)  loss_giou_dn_2: 0.4470 (0.4385)  loss_fgl_dn_2: 1.1340 (1.1253)  loss_mal_dn_pre: 0.7690 (0.7674)  loss_bbox_dn_pre: 0.3181 (0.3100)  loss_giou_dn_pre: 0.6342 (0.6246)\n"
     ]
    },
    {
     "name": "stderr",
     "output_type": "stream",
     "text": [
      "\u001b[32m2025-03-10 16:31:49.353\u001b[0m | \u001b[1mINFO    \u001b[0m | \u001b[36mdeimkit.trainer\u001b[0m:\u001b[36m_save_checkpoint\u001b[0m:\u001b[36m380\u001b[0m - \u001b[1mCheckpoint saved to outputs/deim_hgnetv2_s_coco_ema_tune/checkpoint0091.pth\u001b[0m\n",
      "\u001b[32m2025-03-10 16:31:49.354\u001b[0m | \u001b[1mINFO    \u001b[0m | \u001b[36mdeimkit.trainer\u001b[0m:\u001b[36mevaluate\u001b[0m:\u001b[36m331\u001b[0m - \u001b[1mEvaluating model...\u001b[0m\n"
     ]
    },
    {
     "name": "stdout",
     "output_type": "stream",
     "text": [
      "Test:  [0/5]  eta: 0:00:03    time: 0.7556  data: 0.6481  max mem: 10532\n"
     ]
    },
    {
     "name": "stderr",
     "output_type": "stream",
     "text": [
      "\u001b[32m2025-03-10 16:31:50.650\u001b[0m | \u001b[1mINFO    \u001b[0m | \u001b[36mdeimkit.trainer\u001b[0m:\u001b[36mtrain\u001b[0m:\u001b[36m312\u001b[0m - \u001b[1mEpoch 91 - Train loss: 22.2143, Eval mAP: 0.6073\u001b[0m\n",
      "\u001b[32m2025-03-10 16:31:50.651\u001b[0m | \u001b[1mINFO    \u001b[0m | \u001b[36mdeimkit.trainer\u001b[0m:\u001b[36mtrain\u001b[0m:\u001b[36m315\u001b[0m - \u001b[1mBest stats: {'epoch': 86, 'coco_eval_bbox': 0.6136762369648429}\u001b[0m\n"
     ]
    },
    {
     "name": "stdout",
     "output_type": "stream",
     "text": [
      "Test:  [4/5]  eta: 0:00:00    time: 0.2400  data: 0.1390  max mem: 10532\n",
      "Test: Total time: 0:00:01 (0.2535 s / it)\n",
      "Averaged stats: \n",
      "Accumulating evaluation results...\n",
      "COCOeval_opt.accumulate() finished...\n",
      "DONE (t=0.02s).\n",
      "IoU metric: bbox\n",
      " Average Precision  (AP) @[ IoU=0.50:0.95 | area=   all | maxDets=100 ] = 0.607\n",
      " Average Precision  (AP) @[ IoU=0.50      | area=   all | maxDets=100 ] = 0.853\n",
      " Average Precision  (AP) @[ IoU=0.75      | area=   all | maxDets=100 ] = 0.702\n",
      " Average Precision  (AP) @[ IoU=0.50:0.95 | area= small | maxDets=100 ] = 0.370\n",
      " Average Precision  (AP) @[ IoU=0.50:0.95 | area=medium | maxDets=100 ] = 0.628\n",
      " Average Precision  (AP) @[ IoU=0.50:0.95 | area= large | maxDets=100 ] = 0.479\n",
      " Average Recall     (AR) @[ IoU=0.50:0.95 | area=   all | maxDets=  1 ] = 0.413\n",
      " Average Recall     (AR) @[ IoU=0.50:0.95 | area=   all | maxDets= 10 ] = 0.680\n",
      " Average Recall     (AR) @[ IoU=0.50:0.95 | area=   all | maxDets=100 ] = 0.781\n",
      " Average Recall     (AR) @[ IoU=0.50:0.95 | area= small | maxDets=100 ] = 0.760\n",
      " Average Recall     (AR) @[ IoU=0.50:0.95 | area=medium | maxDets=100 ] = 0.781\n",
      " Average Recall     (AR) @[ IoU=0.50:0.95 | area= large | maxDets=100 ] = 0.786\n",
      " Average Recall     (AR) @[ IoU=0.50      | area=   all | maxDets=100 ] = 0.995\n",
      " Average Recall     (AR) @[ IoU=0.75      | area=   all | maxDets=100 ] = 0.909\n",
      "Epoch: [92]  [ 0/15]  eta: 0:00:29  lr: 0.000150  loss: 21.7382 (21.7382)  loss_mal: 0.9160 (0.9160)  loss_bbox: 0.1730 (0.1730)  loss_giou: 0.3910 (0.3910)  loss_fgl: 1.1647 (1.1647)  loss_mal_aux_0: 0.9038 (0.9038)  loss_bbox_aux_0: 0.1892 (0.1892)  loss_giou_aux_0: 0.4300 (0.4300)  loss_fgl_aux_0: 1.1872 (1.1872)  loss_ddf_aux_0: 0.1363 (0.1363)  loss_mal_aux_1: 0.9175 (0.9175)  loss_bbox_aux_1: 0.1786 (0.1786)  loss_giou_aux_1: 0.4005 (0.4005)  loss_fgl_aux_1: 1.1657 (1.1657)  loss_ddf_aux_1: 0.0097 (0.0097)  loss_mal_pre: 0.8994 (0.8994)  loss_bbox_pre: 0.1898 (0.1898)  loss_giou_pre: 0.4305 (0.4305)  loss_mal_enc_0: 0.9624 (0.9624)  loss_bbox_enc_0: 0.2389 (0.2389)  loss_giou_enc_0: 0.5255 (0.5255)  loss_mal_dn_0: 0.7598 (0.7598)  loss_bbox_dn_0: 0.2671 (0.2671)  loss_giou_dn_0: 0.5808 (0.5808)  loss_fgl_dn_0: 1.2155 (1.2155)  loss_ddf_dn_0: 0.8204 (0.8204)  loss_mal_dn_1: 0.7373 (0.7373)  loss_bbox_dn_1: 0.2080 (0.2080)  loss_giou_dn_1: 0.4406 (0.4406)  loss_fgl_dn_1: 1.1393 (1.1393)  loss_ddf_dn_1: 0.0409 (0.0409)  loss_mal_dn_2: 0.7319 (0.7319)  loss_bbox_dn_2: 0.2011 (0.2011)  loss_giou_dn_2: 0.4280 (0.4280)  loss_fgl_dn_2: 1.1352 (1.1352)  loss_mal_dn_pre: 0.7573 (0.7573)  loss_bbox_dn_pre: 0.2725 (0.2725)  loss_giou_dn_pre: 0.5932 (0.5932)  time: 1.9994  data: 1.5092  max mem: 10532\n"
     ]
    },
    {
     "name": "stderr",
     "output_type": "stream",
     "text": [
      "\u001b[32m2025-03-10 16:31:58.247\u001b[0m | \u001b[1mINFO    \u001b[0m | \u001b[36mdeimkit.trainer\u001b[0m:\u001b[36mevaluate\u001b[0m:\u001b[36m331\u001b[0m - \u001b[1mEvaluating model...\u001b[0m\n"
     ]
    },
    {
     "name": "stdout",
     "output_type": "stream",
     "text": [
      "Epoch: [92]  [14/15]  eta: 0:00:00  lr: 0.000147  loss: 21.9834 (21.9875)  loss_mal: 0.9155 (0.9281)  loss_bbox: 0.1878 (0.1798)  loss_giou: 0.3892 (0.3800)  loss_fgl: 1.1647 (1.1609)  loss_mal_aux_0: 0.9062 (0.9286)  loss_bbox_aux_0: 0.2006 (0.2004)  loss_giou_aux_0: 0.4223 (0.4166)  loss_fgl_aux_0: 1.1918 (1.1913)  loss_ddf_aux_0: 0.1272 (0.1325)  loss_mal_aux_1: 0.9116 (0.9273)  loss_bbox_aux_1: 0.1886 (0.1830)  loss_giou_aux_1: 0.3897 (0.3830)  loss_fgl_aux_1: 1.1657 (1.1654)  loss_ddf_aux_1: 0.0107 (0.0108)  loss_mal_pre: 0.9053 (0.9271)  loss_bbox_pre: 0.1993 (0.2000)  loss_giou_pre: 0.4162 (0.4170)  loss_mal_enc_0: 0.9844 (0.9833)  loss_bbox_enc_0: 0.2620 (0.2675)  loss_giou_enc_0: 0.5053 (0.5323)  loss_mal_dn_0: 0.7681 (0.7678)  loss_bbox_dn_0: 0.2863 (0.2916)  loss_giou_dn_0: 0.6019 (0.6115)  loss_fgl_dn_0: 1.2183 (1.2137)  loss_ddf_dn_0: 0.8204 (0.8172)  loss_mal_dn_1: 0.7476 (0.7475)  loss_bbox_dn_1: 0.2179 (0.2165)  loss_giou_dn_1: 0.4461 (0.4500)  loss_fgl_dn_1: 1.1312 (1.1296)  loss_ddf_dn_1: 0.0443 (0.0465)  loss_mal_dn_2: 0.7368 (0.7402)  loss_bbox_dn_2: 0.2126 (0.2081)  loss_giou_dn_2: 0.4280 (0.4369)  loss_fgl_dn_2: 1.1271 (1.1231)  loss_mal_dn_pre: 0.7695 (0.7676)  loss_bbox_dn_pre: 0.2922 (0.2919)  loss_giou_dn_pre: 0.6011 (0.6125)  time: 0.4997  data: 0.1168  max mem: 10532\n",
      "Epoch: [92] Total time: 0:00:07 (0.5051 s / it)\n",
      "Averaged stats: lr: 0.000147  loss: 21.9834 (21.9875)  loss_mal: 0.9155 (0.9281)  loss_bbox: 0.1878 (0.1798)  loss_giou: 0.3892 (0.3800)  loss_fgl: 1.1647 (1.1609)  loss_mal_aux_0: 0.9062 (0.9286)  loss_bbox_aux_0: 0.2006 (0.2004)  loss_giou_aux_0: 0.4223 (0.4166)  loss_fgl_aux_0: 1.1918 (1.1913)  loss_ddf_aux_0: 0.1272 (0.1325)  loss_mal_aux_1: 0.9116 (0.9273)  loss_bbox_aux_1: 0.1886 (0.1830)  loss_giou_aux_1: 0.3897 (0.3830)  loss_fgl_aux_1: 1.1657 (1.1654)  loss_ddf_aux_1: 0.0107 (0.0108)  loss_mal_pre: 0.9053 (0.9271)  loss_bbox_pre: 0.1993 (0.2000)  loss_giou_pre: 0.4162 (0.4170)  loss_mal_enc_0: 0.9844 (0.9833)  loss_bbox_enc_0: 0.2620 (0.2675)  loss_giou_enc_0: 0.5053 (0.5323)  loss_mal_dn_0: 0.7681 (0.7678)  loss_bbox_dn_0: 0.2863 (0.2916)  loss_giou_dn_0: 0.6019 (0.6115)  loss_fgl_dn_0: 1.2183 (1.2137)  loss_ddf_dn_0: 0.8204 (0.8172)  loss_mal_dn_1: 0.7476 (0.7475)  loss_bbox_dn_1: 0.2179 (0.2165)  loss_giou_dn_1: 0.4461 (0.4500)  loss_fgl_dn_1: 1.1312 (1.1296)  loss_ddf_dn_1: 0.0443 (0.0465)  loss_mal_dn_2: 0.7368 (0.7402)  loss_bbox_dn_2: 0.2126 (0.2081)  loss_giou_dn_2: 0.4280 (0.4369)  loss_fgl_dn_2: 1.1271 (1.1231)  loss_mal_dn_pre: 0.7695 (0.7676)  loss_bbox_dn_pre: 0.2922 (0.2919)  loss_giou_dn_pre: 0.6011 (0.6125)\n",
      "Test:  [0/5]  eta: 0:00:03    time: 0.7421  data: 0.6261  max mem: 10532\n"
     ]
    },
    {
     "name": "stderr",
     "output_type": "stream",
     "text": [
      "\u001b[32m2025-03-10 16:31:59.547\u001b[0m | \u001b[1mINFO    \u001b[0m | \u001b[36mdeimkit.trainer\u001b[0m:\u001b[36mtrain\u001b[0m:\u001b[36m312\u001b[0m - \u001b[1mEpoch 92 - Train loss: 21.9875, Eval mAP: 0.6136\u001b[0m\n",
      "\u001b[32m2025-03-10 16:31:59.547\u001b[0m | \u001b[1mINFO    \u001b[0m | \u001b[36mdeimkit.trainer\u001b[0m:\u001b[36mtrain\u001b[0m:\u001b[36m315\u001b[0m - \u001b[1mBest stats: {'epoch': 86, 'coco_eval_bbox': 0.6136762369648429}\u001b[0m\n"
     ]
    },
    {
     "name": "stdout",
     "output_type": "stream",
     "text": [
      "Test:  [4/5]  eta: 0:00:00    time: 0.2419  data: 0.1414  max mem: 10532\n",
      "Test: Total time: 0:00:01 (0.2545 s / it)\n",
      "Averaged stats: \n",
      "Accumulating evaluation results...\n",
      "COCOeval_opt.accumulate() finished...\n",
      "DONE (t=0.02s).\n",
      "IoU metric: bbox\n",
      " Average Precision  (AP) @[ IoU=0.50:0.95 | area=   all | maxDets=100 ] = 0.614\n",
      " Average Precision  (AP) @[ IoU=0.50      | area=   all | maxDets=100 ] = 0.878\n",
      " Average Precision  (AP) @[ IoU=0.75      | area=   all | maxDets=100 ] = 0.725\n",
      " Average Precision  (AP) @[ IoU=0.50:0.95 | area= small | maxDets=100 ] = 0.327\n",
      " Average Precision  (AP) @[ IoU=0.50:0.95 | area=medium | maxDets=100 ] = 0.637\n",
      " Average Precision  (AP) @[ IoU=0.50:0.95 | area= large | maxDets=100 ] = 0.473\n",
      " Average Recall     (AR) @[ IoU=0.50:0.95 | area=   all | maxDets=  1 ] = 0.404\n",
      " Average Recall     (AR) @[ IoU=0.50:0.95 | area=   all | maxDets= 10 ] = 0.674\n",
      " Average Recall     (AR) @[ IoU=0.50:0.95 | area=   all | maxDets=100 ] = 0.770\n",
      " Average Recall     (AR) @[ IoU=0.50:0.95 | area= small | maxDets=100 ] = 0.680\n",
      " Average Recall     (AR) @[ IoU=0.50:0.95 | area=medium | maxDets=100 ] = 0.783\n",
      " Average Recall     (AR) @[ IoU=0.50:0.95 | area= large | maxDets=100 ] = 0.777\n",
      " Average Recall     (AR) @[ IoU=0.50      | area=   all | maxDets=100 ] = 0.999\n",
      " Average Recall     (AR) @[ IoU=0.75      | area=   all | maxDets=100 ] = 0.914\n",
      "Epoch: [93]  [ 0/15]  eta: 0:00:25  lr: 0.000147  loss: 21.5063 (21.5063)  loss_mal: 0.9609 (0.9609)  loss_bbox: 0.1377 (0.1377)  loss_giou: 0.3855 (0.3855)  loss_fgl: 1.1675 (1.1675)  loss_mal_aux_0: 0.9595 (0.9595)  loss_bbox_aux_0: 0.1460 (0.1460)  loss_giou_aux_0: 0.4179 (0.4179)  loss_fgl_aux_0: 1.1994 (1.1994)  loss_ddf_aux_0: 0.1080 (0.1080)  loss_mal_aux_1: 0.9468 (0.9468)  loss_bbox_aux_1: 0.1379 (0.1379)  loss_giou_aux_1: 0.3857 (0.3857)  loss_fgl_aux_1: 1.1746 (1.1746)  loss_ddf_aux_1: 0.0094 (0.0094)  loss_mal_pre: 0.9585 (0.9585)  loss_bbox_pre: 0.1463 (0.1463)  loss_giou_pre: 0.4203 (0.4203)  loss_mal_enc_0: 1.0352 (1.0352)  loss_bbox_enc_0: 0.1979 (0.1979)  loss_giou_enc_0: 0.5444 (0.5444)  loss_mal_dn_0: 0.7495 (0.7495)  loss_bbox_dn_0: 0.2293 (0.2293)  loss_giou_dn_0: 0.6130 (0.6130)  loss_fgl_dn_0: 1.1949 (1.1949)  loss_ddf_dn_0: 0.6675 (0.6675)  loss_mal_dn_1: 0.7329 (0.7329)  loss_bbox_dn_1: 0.1704 (0.1704)  loss_giou_dn_1: 0.4611 (0.4611)  loss_fgl_dn_1: 1.1413 (1.1413)  loss_ddf_dn_1: 0.0388 (0.0388)  loss_mal_dn_2: 0.7266 (0.7266)  loss_bbox_dn_2: 0.1635 (0.1635)  loss_giou_dn_2: 0.4517 (0.4517)  loss_fgl_dn_2: 1.1355 (1.1355)  loss_mal_dn_pre: 0.7495 (0.7495)  loss_bbox_dn_pre: 0.2289 (0.2289)  loss_giou_dn_pre: 0.6126 (0.6126)  time: 1.7026  data: 1.2629  max mem: 10532\n"
     ]
    },
    {
     "name": "stderr",
     "output_type": "stream",
     "text": [
      "\u001b[32m2025-03-10 16:32:06.946\u001b[0m | \u001b[1mINFO    \u001b[0m | \u001b[36mdeimkit.trainer\u001b[0m:\u001b[36mevaluate\u001b[0m:\u001b[36m331\u001b[0m - \u001b[1mEvaluating model...\u001b[0m\n"
     ]
    },
    {
     "name": "stdout",
     "output_type": "stream",
     "text": [
      "Epoch: [93]  [14/15]  eta: 0:00:00  lr: 0.000145  loss: 21.7782 (21.9668)  loss_mal: 0.8989 (0.9170)  loss_bbox: 0.1782 (0.1839)  loss_giou: 0.3614 (0.3615)  loss_fgl: 1.1675 (1.1588)  loss_mal_aux_0: 0.9175 (0.9322)  loss_bbox_aux_0: 0.1946 (0.2058)  loss_giou_aux_0: 0.4024 (0.4006)  loss_fgl_aux_0: 1.1994 (1.1983)  loss_ddf_aux_0: 0.1421 (0.1395)  loss_mal_aux_1: 0.9048 (0.9284)  loss_bbox_aux_1: 0.1789 (0.1858)  loss_giou_aux_1: 0.3632 (0.3637)  loss_fgl_aux_1: 1.1680 (1.1633)  loss_ddf_aux_1: 0.0104 (0.0106)  loss_mal_pre: 0.9150 (0.9291)  loss_bbox_pre: 0.1942 (0.2055)  loss_giou_pre: 0.4018 (0.4017)  loss_mal_enc_0: 0.9819 (1.0019)  loss_bbox_enc_0: 0.2587 (0.2711)  loss_giou_enc_0: 0.5340 (0.5175)  loss_mal_dn_0: 0.7666 (0.7674)  loss_bbox_dn_0: 0.3116 (0.3138)  loss_giou_dn_0: 0.5892 (0.6018)  loss_fgl_dn_0: 1.2290 (1.2226)  loss_ddf_dn_0: 0.7367 (0.7839)  loss_mal_dn_1: 0.7466 (0.7420)  loss_bbox_dn_1: 0.2284 (0.2353)  loss_giou_dn_1: 0.4430 (0.4461)  loss_fgl_dn_1: 1.1372 (1.1323)  loss_ddf_dn_1: 0.0388 (0.0397)  loss_mal_dn_2: 0.7422 (0.7341)  loss_bbox_dn_2: 0.2202 (0.2260)  loss_giou_dn_2: 0.4331 (0.4331)  loss_fgl_dn_2: 1.1352 (1.1274)  loss_mal_dn_pre: 0.7646 (0.7666)  loss_bbox_dn_pre: 0.3143 (0.3152)  loss_giou_dn_pre: 0.5992 (0.6032)  time: 0.4875  data: 0.0990  max mem: 10532\n",
      "Epoch: [93] Total time: 0:00:07 (0.4919 s / it)\n",
      "Averaged stats: lr: 0.000145  loss: 21.7782 (21.9668)  loss_mal: 0.8989 (0.9170)  loss_bbox: 0.1782 (0.1839)  loss_giou: 0.3614 (0.3615)  loss_fgl: 1.1675 (1.1588)  loss_mal_aux_0: 0.9175 (0.9322)  loss_bbox_aux_0: 0.1946 (0.2058)  loss_giou_aux_0: 0.4024 (0.4006)  loss_fgl_aux_0: 1.1994 (1.1983)  loss_ddf_aux_0: 0.1421 (0.1395)  loss_mal_aux_1: 0.9048 (0.9284)  loss_bbox_aux_1: 0.1789 (0.1858)  loss_giou_aux_1: 0.3632 (0.3637)  loss_fgl_aux_1: 1.1680 (1.1633)  loss_ddf_aux_1: 0.0104 (0.0106)  loss_mal_pre: 0.9150 (0.9291)  loss_bbox_pre: 0.1942 (0.2055)  loss_giou_pre: 0.4018 (0.4017)  loss_mal_enc_0: 0.9819 (1.0019)  loss_bbox_enc_0: 0.2587 (0.2711)  loss_giou_enc_0: 0.5340 (0.5175)  loss_mal_dn_0: 0.7666 (0.7674)  loss_bbox_dn_0: 0.3116 (0.3138)  loss_giou_dn_0: 0.5892 (0.6018)  loss_fgl_dn_0: 1.2290 (1.2226)  loss_ddf_dn_0: 0.7367 (0.7839)  loss_mal_dn_1: 0.7466 (0.7420)  loss_bbox_dn_1: 0.2284 (0.2353)  loss_giou_dn_1: 0.4430 (0.4461)  loss_fgl_dn_1: 1.1372 (1.1323)  loss_ddf_dn_1: 0.0388 (0.0397)  loss_mal_dn_2: 0.7422 (0.7341)  loss_bbox_dn_2: 0.2202 (0.2260)  loss_giou_dn_2: 0.4331 (0.4331)  loss_fgl_dn_2: 1.1352 (1.1274)  loss_mal_dn_pre: 0.7646 (0.7666)  loss_bbox_dn_pre: 0.3143 (0.3152)  loss_giou_dn_pre: 0.5992 (0.6032)\n",
      "Test:  [0/5]  eta: 0:00:03    time: 0.7311  data: 0.6082  max mem: 10532\n"
     ]
    },
    {
     "name": "stderr",
     "output_type": "stream",
     "text": [
      "\u001b[32m2025-03-10 16:32:08.257\u001b[0m | \u001b[1mINFO    \u001b[0m | \u001b[36mdeimkit.trainer\u001b[0m:\u001b[36m_save_checkpoint\u001b[0m:\u001b[36m363\u001b[0m - \u001b[1mSaving checkpoint to outputs/deim_hgnetv2_s_coco_ema_tune/best.pth\u001b[0m\n"
     ]
    },
    {
     "name": "stdout",
     "output_type": "stream",
     "text": [
      "Test:  [4/5]  eta: 0:00:00    time: 0.2444  data: 0.1423  max mem: 10532\n",
      "Test: Total time: 0:00:01 (0.2563 s / it)\n",
      "Averaged stats: \n",
      "Accumulating evaluation results...\n",
      "COCOeval_opt.accumulate() finished...\n",
      "DONE (t=0.02s).\n",
      "IoU metric: bbox\n",
      " Average Precision  (AP) @[ IoU=0.50:0.95 | area=   all | maxDets=100 ] = 0.623\n",
      " Average Precision  (AP) @[ IoU=0.50      | area=   all | maxDets=100 ] = 0.880\n",
      " Average Precision  (AP) @[ IoU=0.75      | area=   all | maxDets=100 ] = 0.738\n",
      " Average Precision  (AP) @[ IoU=0.50:0.95 | area= small | maxDets=100 ] = 0.307\n",
      " Average Precision  (AP) @[ IoU=0.50:0.95 | area=medium | maxDets=100 ] = 0.647\n",
      " Average Precision  (AP) @[ IoU=0.50:0.95 | area= large | maxDets=100 ] = 0.473\n",
      " Average Recall     (AR) @[ IoU=0.50:0.95 | area=   all | maxDets=  1 ] = 0.407\n",
      " Average Recall     (AR) @[ IoU=0.50:0.95 | area=   all | maxDets= 10 ] = 0.684\n",
      " Average Recall     (AR) @[ IoU=0.50:0.95 | area=   all | maxDets=100 ] = 0.776\n",
      " Average Recall     (AR) @[ IoU=0.50:0.95 | area= small | maxDets=100 ] = 0.740\n",
      " Average Recall     (AR) @[ IoU=0.50:0.95 | area=medium | maxDets=100 ] = 0.780\n",
      " Average Recall     (AR) @[ IoU=0.50:0.95 | area= large | maxDets=100 ] = 0.552\n",
      " Average Recall     (AR) @[ IoU=0.50      | area=   all | maxDets=100 ] = 0.994\n",
      " Average Recall     (AR) @[ IoU=0.75      | area=   all | maxDets=100 ] = 0.929\n"
     ]
    },
    {
     "name": "stderr",
     "output_type": "stream",
     "text": [
      "\u001b[32m2025-03-10 16:32:08.643\u001b[0m | \u001b[1mINFO    \u001b[0m | \u001b[36mdeimkit.trainer\u001b[0m:\u001b[36m_save_checkpoint\u001b[0m:\u001b[36m380\u001b[0m - \u001b[1mCheckpoint saved to outputs/deim_hgnetv2_s_coco_ema_tune/best.pth\u001b[0m\n",
      "\u001b[32m2025-03-10 16:32:08.644\u001b[0m | \u001b[1mINFO    \u001b[0m | \u001b[36mdeimkit.trainer\u001b[0m:\u001b[36mtrain\u001b[0m:\u001b[36m312\u001b[0m - \u001b[1mEpoch 93 - Train loss: 21.9668, Eval mAP: 0.6226\u001b[0m\n",
      "\u001b[32m2025-03-10 16:32:08.645\u001b[0m | \u001b[1mINFO    \u001b[0m | \u001b[36mdeimkit.trainer\u001b[0m:\u001b[36mtrain\u001b[0m:\u001b[36m315\u001b[0m - \u001b[1mBest stats: {'epoch': 93, 'coco_eval_bbox': 0.6226181646366459}\u001b[0m\n"
     ]
    },
    {
     "name": "stdout",
     "output_type": "stream",
     "text": [
      "Epoch: [94]  [ 0/15]  eta: 0:00:26  lr: 0.000144  loss: 21.7010 (21.7010)  loss_mal: 0.8989 (0.8989)  loss_bbox: 0.1862 (0.1862)  loss_giou: 0.3527 (0.3527)  loss_fgl: 1.1564 (1.1564)  loss_mal_aux_0: 0.9634 (0.9634)  loss_bbox_aux_0: 0.1969 (0.1969)  loss_giou_aux_0: 0.3793 (0.3793)  loss_fgl_aux_0: 1.1860 (1.1860)  loss_ddf_aux_0: 0.1255 (0.1255)  loss_mal_aux_1: 0.9292 (0.9292)  loss_bbox_aux_1: 0.1854 (0.1854)  loss_giou_aux_1: 0.3556 (0.3556)  loss_fgl_aux_1: 1.1612 (1.1612)  loss_ddf_aux_1: 0.0094 (0.0094)  loss_mal_pre: 0.9600 (0.9600)  loss_bbox_pre: 0.1977 (0.1977)  loss_giou_pre: 0.3856 (0.3856)  loss_mal_enc_0: 1.0137 (1.0137)  loss_bbox_enc_0: 0.2690 (0.2690)  loss_giou_enc_0: 0.5178 (0.5178)  loss_mal_dn_0: 0.7749 (0.7749)  loss_bbox_dn_0: 0.3126 (0.3126)  loss_giou_dn_0: 0.5843 (0.5843)  loss_fgl_dn_0: 1.2342 (1.2342)  loss_ddf_dn_0: 0.6593 (0.6593)  loss_mal_dn_1: 0.7344 (0.7344)  loss_bbox_dn_1: 0.2272 (0.2272)  loss_giou_dn_1: 0.4248 (0.4248)  loss_fgl_dn_1: 1.1349 (1.1349)  loss_ddf_dn_1: 0.0370 (0.0370)  loss_mal_dn_2: 0.7217 (0.7217)  loss_bbox_dn_2: 0.2180 (0.2180)  loss_giou_dn_2: 0.4063 (0.4063)  loss_fgl_dn_2: 1.1291 (1.1291)  loss_mal_dn_pre: 0.7749 (0.7749)  loss_bbox_dn_pre: 0.3119 (0.3119)  loss_giou_dn_pre: 0.5860 (0.5860)  time: 1.7977  data: 1.3291  max mem: 10532\n"
     ]
    },
    {
     "name": "stderr",
     "output_type": "stream",
     "text": [
      "\u001b[32m2025-03-10 16:32:16.141\u001b[0m | \u001b[1mINFO    \u001b[0m | \u001b[36mdeimkit.trainer\u001b[0m:\u001b[36mevaluate\u001b[0m:\u001b[36m331\u001b[0m - \u001b[1mEvaluating model...\u001b[0m\n"
     ]
    },
    {
     "name": "stdout",
     "output_type": "stream",
     "text": [
      "Epoch: [94]  [14/15]  eta: 0:00:00  lr: 0.000142  loss: 21.7744 (21.9120)  loss_mal: 0.9062 (0.9120)  loss_bbox: 0.1728 (0.1740)  loss_giou: 0.3523 (0.3564)  loss_fgl: 1.1618 (1.1605)  loss_mal_aux_0: 0.9155 (0.9429)  loss_bbox_aux_0: 0.1960 (0.1991)  loss_giou_aux_0: 0.3939 (0.3957)  loss_fgl_aux_0: 1.2046 (1.2027)  loss_ddf_aux_0: 0.1455 (0.1540)  loss_mal_aux_1: 0.9062 (0.9248)  loss_bbox_aux_1: 0.1747 (0.1764)  loss_giou_aux_1: 0.3556 (0.3598)  loss_fgl_aux_1: 1.1641 (1.1644)  loss_ddf_aux_1: 0.0094 (0.0098)  loss_mal_pre: 0.9185 (0.9427)  loss_bbox_pre: 0.1950 (0.1976)  loss_giou_pre: 0.3931 (0.3960)  loss_mal_enc_0: 0.9814 (1.0141)  loss_bbox_enc_0: 0.2655 (0.2741)  loss_giou_enc_0: 0.5037 (0.5314)  loss_mal_dn_0: 0.7646 (0.7655)  loss_bbox_dn_0: 0.2828 (0.2971)  loss_giou_dn_0: 0.5909 (0.5997)  loss_fgl_dn_0: 1.2160 (1.2194)  loss_ddf_dn_0: 0.7816 (0.8068)  loss_mal_dn_1: 0.7368 (0.7420)  loss_bbox_dn_1: 0.2189 (0.2218)  loss_giou_dn_1: 0.4476 (0.4421)  loss_fgl_dn_1: 1.1306 (1.1283)  loss_ddf_dn_1: 0.0387 (0.0387)  loss_mal_dn_2: 0.7349 (0.7343)  loss_bbox_dn_2: 0.2124 (0.2128)  loss_giou_dn_2: 0.4336 (0.4282)  loss_fgl_dn_2: 1.1221 (1.1215)  loss_mal_dn_pre: 0.7651 (0.7663)  loss_bbox_dn_pre: 0.2882 (0.2976)  loss_giou_dn_pre: 0.5900 (0.6013)  time: 0.4933  data: 0.1027  max mem: 10532\n",
      "Epoch: [94] Total time: 0:00:07 (0.4984 s / it)\n",
      "Averaged stats: lr: 0.000142  loss: 21.7744 (21.9120)  loss_mal: 0.9062 (0.9120)  loss_bbox: 0.1728 (0.1740)  loss_giou: 0.3523 (0.3564)  loss_fgl: 1.1618 (1.1605)  loss_mal_aux_0: 0.9155 (0.9429)  loss_bbox_aux_0: 0.1960 (0.1991)  loss_giou_aux_0: 0.3939 (0.3957)  loss_fgl_aux_0: 1.2046 (1.2027)  loss_ddf_aux_0: 0.1455 (0.1540)  loss_mal_aux_1: 0.9062 (0.9248)  loss_bbox_aux_1: 0.1747 (0.1764)  loss_giou_aux_1: 0.3556 (0.3598)  loss_fgl_aux_1: 1.1641 (1.1644)  loss_ddf_aux_1: 0.0094 (0.0098)  loss_mal_pre: 0.9185 (0.9427)  loss_bbox_pre: 0.1950 (0.1976)  loss_giou_pre: 0.3931 (0.3960)  loss_mal_enc_0: 0.9814 (1.0141)  loss_bbox_enc_0: 0.2655 (0.2741)  loss_giou_enc_0: 0.5037 (0.5314)  loss_mal_dn_0: 0.7646 (0.7655)  loss_bbox_dn_0: 0.2828 (0.2971)  loss_giou_dn_0: 0.5909 (0.5997)  loss_fgl_dn_0: 1.2160 (1.2194)  loss_ddf_dn_0: 0.7816 (0.8068)  loss_mal_dn_1: 0.7368 (0.7420)  loss_bbox_dn_1: 0.2189 (0.2218)  loss_giou_dn_1: 0.4476 (0.4421)  loss_fgl_dn_1: 1.1306 (1.1283)  loss_ddf_dn_1: 0.0387 (0.0387)  loss_mal_dn_2: 0.7349 (0.7343)  loss_bbox_dn_2: 0.2124 (0.2128)  loss_giou_dn_2: 0.4336 (0.4282)  loss_fgl_dn_2: 1.1221 (1.1215)  loss_mal_dn_pre: 0.7651 (0.7663)  loss_bbox_dn_pre: 0.2882 (0.2976)  loss_giou_dn_pre: 0.5900 (0.6013)\n",
      "Test:  [0/5]  eta: 0:00:03    time: 0.7036  data: 0.5925  max mem: 10532\n"
     ]
    },
    {
     "name": "stderr",
     "output_type": "stream",
     "text": [
      "\u001b[32m2025-03-10 16:32:17.411\u001b[0m | \u001b[1mINFO    \u001b[0m | \u001b[36mdeimkit.trainer\u001b[0m:\u001b[36mtrain\u001b[0m:\u001b[36m312\u001b[0m - \u001b[1mEpoch 94 - Train loss: 21.9120, Eval mAP: 0.6214\u001b[0m\n",
      "\u001b[32m2025-03-10 16:32:17.412\u001b[0m | \u001b[1mINFO    \u001b[0m | \u001b[36mdeimkit.trainer\u001b[0m:\u001b[36mtrain\u001b[0m:\u001b[36m315\u001b[0m - \u001b[1mBest stats: {'epoch': 93, 'coco_eval_bbox': 0.6226181646366459}\u001b[0m\n"
     ]
    },
    {
     "name": "stdout",
     "output_type": "stream",
     "text": [
      "Test:  [4/5]  eta: 0:00:00    time: 0.2338  data: 0.1343  max mem: 10532\n",
      "Test: Total time: 0:00:01 (0.2478 s / it)\n",
      "Averaged stats: \n",
      "Accumulating evaluation results...\n",
      "COCOeval_opt.accumulate() finished...\n",
      "DONE (t=0.02s).\n",
      "IoU metric: bbox\n",
      " Average Precision  (AP) @[ IoU=0.50:0.95 | area=   all | maxDets=100 ] = 0.621\n",
      " Average Precision  (AP) @[ IoU=0.50      | area=   all | maxDets=100 ] = 0.886\n",
      " Average Precision  (AP) @[ IoU=0.75      | area=   all | maxDets=100 ] = 0.716\n",
      " Average Precision  (AP) @[ IoU=0.50:0.95 | area= small | maxDets=100 ] = 0.410\n",
      " Average Precision  (AP) @[ IoU=0.50:0.95 | area=medium | maxDets=100 ] = 0.642\n",
      " Average Precision  (AP) @[ IoU=0.50:0.95 | area= large | maxDets=100 ] = 0.474\n",
      " Average Recall     (AR) @[ IoU=0.50:0.95 | area=   all | maxDets=  1 ] = 0.405\n",
      " Average Recall     (AR) @[ IoU=0.50:0.95 | area=   all | maxDets= 10 ] = 0.680\n",
      " Average Recall     (AR) @[ IoU=0.50:0.95 | area=   all | maxDets=100 ] = 0.781\n",
      " Average Recall     (AR) @[ IoU=0.50:0.95 | area= small | maxDets=100 ] = 0.700\n",
      " Average Recall     (AR) @[ IoU=0.50:0.95 | area=medium | maxDets=100 ] = 0.787\n",
      " Average Recall     (AR) @[ IoU=0.50:0.95 | area= large | maxDets=100 ] = 0.784\n",
      " Average Recall     (AR) @[ IoU=0.50      | area=   all | maxDets=100 ] = 0.999\n",
      " Average Recall     (AR) @[ IoU=0.75      | area=   all | maxDets=100 ] = 0.929\n",
      "Epoch: [95]  [ 0/15]  eta: 0:00:23  lr: 0.000142  loss: 21.4175 (21.4175)  loss_mal: 0.8887 (0.8887)  loss_bbox: 0.1321 (0.1321)  loss_giou: 0.3985 (0.3985)  loss_fgl: 1.1907 (1.1907)  loss_mal_aux_0: 0.8984 (0.8984)  loss_bbox_aux_0: 0.1461 (0.1461)  loss_giou_aux_0: 0.4290 (0.4290)  loss_fgl_aux_0: 1.2222 (1.2222)  loss_ddf_aux_0: 0.1299 (0.1299)  loss_mal_aux_1: 0.8745 (0.8745)  loss_bbox_aux_1: 0.1336 (0.1336)  loss_giou_aux_1: 0.3996 (0.3996)  loss_fgl_aux_1: 1.1917 (1.1917)  loss_ddf_aux_1: 0.0089 (0.0089)  loss_mal_pre: 0.8940 (0.8940)  loss_bbox_pre: 0.1484 (0.1484)  loss_giou_pre: 0.4307 (0.4307)  loss_mal_enc_0: 0.9326 (0.9326)  loss_bbox_enc_0: 0.1772 (0.1772)  loss_giou_enc_0: 0.5118 (0.5118)  loss_mal_dn_0: 0.7637 (0.7637)  loss_bbox_dn_0: 0.2120 (0.2120)  loss_giou_dn_0: 0.6252 (0.6252)  loss_fgl_dn_0: 1.2239 (1.2239)  loss_ddf_dn_0: 0.8009 (0.8009)  loss_mal_dn_1: 0.7412 (0.7412)  loss_bbox_dn_1: 0.1629 (0.1629)  loss_giou_dn_1: 0.4731 (0.4731)  loss_fgl_dn_1: 1.1560 (1.1560)  loss_ddf_dn_1: 0.0361 (0.0361)  loss_mal_dn_2: 0.7290 (0.7290)  loss_bbox_dn_2: 0.1557 (0.1557)  loss_giou_dn_2: 0.4606 (0.4606)  loss_fgl_dn_2: 1.1484 (1.1484)  loss_mal_dn_pre: 0.7617 (0.7617)  loss_bbox_dn_pre: 0.2098 (0.2098)  loss_giou_dn_pre: 0.6185 (0.6185)  time: 1.5711  data: 1.0633  max mem: 10532\n"
     ]
    },
    {
     "name": "stderr",
     "output_type": "stream",
     "text": [
      "\u001b[32m2025-03-10 16:32:24.743\u001b[0m | \u001b[1mINFO    \u001b[0m | \u001b[36mdeimkit.trainer\u001b[0m:\u001b[36m_save_checkpoint\u001b[0m:\u001b[36m363\u001b[0m - \u001b[1mSaving checkpoint to outputs/deim_hgnetv2_s_coco_ema_tune/checkpoint0095.pth\u001b[0m\n"
     ]
    },
    {
     "name": "stdout",
     "output_type": "stream",
     "text": [
      "Epoch: [95]  [14/15]  eta: 0:00:00  lr: 0.000139  loss: 21.7249 (21.7906)  loss_mal: 0.8774 (0.8937)  loss_bbox: 0.1866 (0.1818)  loss_giou: 0.3516 (0.3587)  loss_fgl: 1.1551 (1.1577)  loss_mal_aux_0: 0.9048 (0.9248)  loss_bbox_aux_0: 0.2101 (0.2035)  loss_giou_aux_0: 0.3828 (0.3981)  loss_fgl_aux_0: 1.1870 (1.1939)  loss_ddf_aux_0: 0.1432 (0.1479)  loss_mal_aux_1: 0.8745 (0.8984)  loss_bbox_aux_1: 0.1880 (0.1831)  loss_giou_aux_1: 0.3529 (0.3612)  loss_fgl_aux_1: 1.1576 (1.1599)  loss_ddf_aux_1: 0.0094 (0.0093)  loss_mal_pre: 0.9004 (0.9231)  loss_bbox_pre: 0.2094 (0.2032)  loss_giou_pre: 0.3834 (0.3982)  loss_mal_enc_0: 0.9785 (1.0046)  loss_bbox_enc_0: 0.2568 (0.2703)  loss_giou_enc_0: 0.5118 (0.5192)  loss_mal_dn_0: 0.7681 (0.7693)  loss_bbox_dn_0: 0.2968 (0.2992)  loss_giou_dn_0: 0.5795 (0.5929)  loss_fgl_dn_0: 1.2307 (1.2230)  loss_ddf_dn_0: 0.7597 (0.7923)  loss_mal_dn_1: 0.7329 (0.7380)  loss_bbox_dn_1: 0.2173 (0.2212)  loss_giou_dn_1: 0.4240 (0.4378)  loss_fgl_dn_1: 1.1326 (1.1322)  loss_ddf_dn_1: 0.0365 (0.0380)  loss_mal_dn_2: 0.7212 (0.7297)  loss_bbox_dn_2: 0.2095 (0.2122)  loss_giou_dn_2: 0.4147 (0.4239)  loss_fgl_dn_2: 1.1291 (1.1253)  loss_mal_dn_pre: 0.7666 (0.7687)  loss_bbox_dn_pre: 0.2988 (0.3002)  loss_giou_dn_pre: 0.5950 (0.5958)  time: 0.4827  data: 0.0883  max mem: 10532\n",
      "Epoch: [95] Total time: 0:00:07 (0.4878 s / it)\n",
      "Averaged stats: lr: 0.000139  loss: 21.7249 (21.7906)  loss_mal: 0.8774 (0.8937)  loss_bbox: 0.1866 (0.1818)  loss_giou: 0.3516 (0.3587)  loss_fgl: 1.1551 (1.1577)  loss_mal_aux_0: 0.9048 (0.9248)  loss_bbox_aux_0: 0.2101 (0.2035)  loss_giou_aux_0: 0.3828 (0.3981)  loss_fgl_aux_0: 1.1870 (1.1939)  loss_ddf_aux_0: 0.1432 (0.1479)  loss_mal_aux_1: 0.8745 (0.8984)  loss_bbox_aux_1: 0.1880 (0.1831)  loss_giou_aux_1: 0.3529 (0.3612)  loss_fgl_aux_1: 1.1576 (1.1599)  loss_ddf_aux_1: 0.0094 (0.0093)  loss_mal_pre: 0.9004 (0.9231)  loss_bbox_pre: 0.2094 (0.2032)  loss_giou_pre: 0.3834 (0.3982)  loss_mal_enc_0: 0.9785 (1.0046)  loss_bbox_enc_0: 0.2568 (0.2703)  loss_giou_enc_0: 0.5118 (0.5192)  loss_mal_dn_0: 0.7681 (0.7693)  loss_bbox_dn_0: 0.2968 (0.2992)  loss_giou_dn_0: 0.5795 (0.5929)  loss_fgl_dn_0: 1.2307 (1.2230)  loss_ddf_dn_0: 0.7597 (0.7923)  loss_mal_dn_1: 0.7329 (0.7380)  loss_bbox_dn_1: 0.2173 (0.2212)  loss_giou_dn_1: 0.4240 (0.4378)  loss_fgl_dn_1: 1.1326 (1.1322)  loss_ddf_dn_1: 0.0365 (0.0380)  loss_mal_dn_2: 0.7212 (0.7297)  loss_bbox_dn_2: 0.2095 (0.2122)  loss_giou_dn_2: 0.4147 (0.4239)  loss_fgl_dn_2: 1.1291 (1.1253)  loss_mal_dn_pre: 0.7666 (0.7687)  loss_bbox_dn_pre: 0.2988 (0.3002)  loss_giou_dn_pre: 0.5950 (0.5958)\n"
     ]
    },
    {
     "name": "stderr",
     "output_type": "stream",
     "text": [
      "\u001b[32m2025-03-10 16:32:24.988\u001b[0m | \u001b[1mINFO    \u001b[0m | \u001b[36mdeimkit.trainer\u001b[0m:\u001b[36m_save_checkpoint\u001b[0m:\u001b[36m380\u001b[0m - \u001b[1mCheckpoint saved to outputs/deim_hgnetv2_s_coco_ema_tune/checkpoint0095.pth\u001b[0m\n",
      "\u001b[32m2025-03-10 16:32:24.990\u001b[0m | \u001b[1mINFO    \u001b[0m | \u001b[36mdeimkit.trainer\u001b[0m:\u001b[36mevaluate\u001b[0m:\u001b[36m331\u001b[0m - \u001b[1mEvaluating model...\u001b[0m\n"
     ]
    },
    {
     "name": "stdout",
     "output_type": "stream",
     "text": [
      "Test:  [0/5]  eta: 0:00:03    time: 0.7353  data: 0.6241  max mem: 10532\n"
     ]
    },
    {
     "name": "stderr",
     "output_type": "stream",
     "text": [
      "\u001b[32m2025-03-10 16:32:26.271\u001b[0m | \u001b[1mINFO    \u001b[0m | \u001b[36mdeimkit.trainer\u001b[0m:\u001b[36mtrain\u001b[0m:\u001b[36m312\u001b[0m - \u001b[1mEpoch 95 - Train loss: 21.7906, Eval mAP: 0.6210\u001b[0m\n",
      "\u001b[32m2025-03-10 16:32:26.271\u001b[0m | \u001b[1mINFO    \u001b[0m | \u001b[36mdeimkit.trainer\u001b[0m:\u001b[36mtrain\u001b[0m:\u001b[36m315\u001b[0m - \u001b[1mBest stats: {'epoch': 93, 'coco_eval_bbox': 0.6226181646366459}\u001b[0m\n"
     ]
    },
    {
     "name": "stdout",
     "output_type": "stream",
     "text": [
      "Test:  [4/5]  eta: 0:00:00    time: 0.2369  data: 0.1368  max mem: 10532\n",
      "Test: Total time: 0:00:01 (0.2495 s / it)\n",
      "Averaged stats: \n",
      "Accumulating evaluation results...\n",
      "COCOeval_opt.accumulate() finished...\n",
      "DONE (t=0.02s).\n",
      "IoU metric: bbox\n",
      " Average Precision  (AP) @[ IoU=0.50:0.95 | area=   all | maxDets=100 ] = 0.621\n",
      " Average Precision  (AP) @[ IoU=0.50      | area=   all | maxDets=100 ] = 0.883\n",
      " Average Precision  (AP) @[ IoU=0.75      | area=   all | maxDets=100 ] = 0.708\n",
      " Average Precision  (AP) @[ IoU=0.50:0.95 | area= small | maxDets=100 ] = 0.325\n",
      " Average Precision  (AP) @[ IoU=0.50:0.95 | area=medium | maxDets=100 ] = 0.639\n",
      " Average Precision  (AP) @[ IoU=0.50:0.95 | area= large | maxDets=100 ] = 0.480\n",
      " Average Recall     (AR) @[ IoU=0.50:0.95 | area=   all | maxDets=  1 ] = 0.408\n",
      " Average Recall     (AR) @[ IoU=0.50:0.95 | area=   all | maxDets= 10 ] = 0.686\n",
      " Average Recall     (AR) @[ IoU=0.50:0.95 | area=   all | maxDets=100 ] = 0.786\n",
      " Average Recall     (AR) @[ IoU=0.50:0.95 | area= small | maxDets=100 ] = 0.700\n",
      " Average Recall     (AR) @[ IoU=0.50:0.95 | area=medium | maxDets=100 ] = 0.790\n",
      " Average Recall     (AR) @[ IoU=0.50:0.95 | area= large | maxDets=100 ] = 0.821\n",
      " Average Recall     (AR) @[ IoU=0.50      | area=   all | maxDets=100 ] = 1.000\n",
      " Average Recall     (AR) @[ IoU=0.75      | area=   all | maxDets=100 ] = 0.927\n",
      "Epoch: [96]  [ 0/15]  eta: 0:00:27  lr: 0.000139  loss: 22.2004 (22.2004)  loss_mal: 0.8994 (0.8994)  loss_bbox: 0.1471 (0.1471)  loss_giou: 0.4206 (0.4206)  loss_fgl: 1.2007 (1.2007)  loss_mal_aux_0: 0.9268 (0.9268)  loss_bbox_aux_0: 0.1589 (0.1589)  loss_giou_aux_0: 0.4519 (0.4519)  loss_fgl_aux_0: 1.2258 (1.2258)  loss_ddf_aux_0: 0.1611 (0.1611)  loss_mal_aux_1: 0.9292 (0.9292)  loss_bbox_aux_1: 0.1483 (0.1483)  loss_giou_aux_1: 0.4226 (0.4226)  loss_fgl_aux_1: 1.2004 (1.2004)  loss_ddf_aux_1: 0.0089 (0.0089)  loss_mal_pre: 0.9165 (0.9165)  loss_bbox_pre: 0.1588 (0.1588)  loss_giou_pre: 0.4519 (0.4519)  loss_mal_enc_0: 1.0127 (1.0127)  loss_bbox_enc_0: 0.2195 (0.2195)  loss_giou_enc_0: 0.5809 (0.5809)  loss_mal_dn_0: 0.7656 (0.7656)  loss_bbox_dn_0: 0.2393 (0.2393)  loss_giou_dn_0: 0.6514 (0.6514)  loss_fgl_dn_0: 1.2515 (1.2515)  loss_ddf_dn_0: 0.8443 (0.8443)  loss_mal_dn_1: 0.7612 (0.7612)  loss_bbox_dn_1: 0.1658 (0.1658)  loss_giou_dn_1: 0.4793 (0.4793)  loss_fgl_dn_1: 1.1746 (1.1746)  loss_ddf_dn_1: 0.0445 (0.0445)  loss_mal_dn_2: 0.7510 (0.7510)  loss_bbox_dn_2: 0.1618 (0.1618)  loss_giou_dn_2: 0.4710 (0.4710)  loss_fgl_dn_2: 1.1657 (1.1657)  loss_mal_dn_pre: 0.7656 (0.7656)  loss_bbox_dn_pre: 0.2328 (0.2328)  loss_giou_dn_pre: 0.6333 (0.6333)  time: 1.8296  data: 1.3522  max mem: 10532\n"
     ]
    },
    {
     "name": "stderr",
     "output_type": "stream",
     "text": [
      "\u001b[32m2025-03-10 16:32:33.534\u001b[0m | \u001b[1mINFO    \u001b[0m | \u001b[36mdeimkit.trainer\u001b[0m:\u001b[36mevaluate\u001b[0m:\u001b[36m331\u001b[0m - \u001b[1mEvaluating model...\u001b[0m\n"
     ]
    },
    {
     "name": "stdout",
     "output_type": "stream",
     "text": [
      "Epoch: [96]  [14/15]  eta: 0:00:00  lr: 0.000136  loss: 21.5498 (21.7194)  loss_mal: 0.8721 (0.8919)  loss_bbox: 0.1617 (0.1671)  loss_giou: 0.3728 (0.3821)  loss_fgl: 1.1570 (1.1563)  loss_mal_aux_0: 0.9023 (0.9114)  loss_bbox_aux_0: 0.1896 (0.1882)  loss_giou_aux_0: 0.4194 (0.4200)  loss_fgl_aux_0: 1.1937 (1.1935)  loss_ddf_aux_0: 0.1481 (0.1467)  loss_mal_aux_1: 0.8936 (0.9023)  loss_bbox_aux_1: 0.1659 (0.1693)  loss_giou_aux_1: 0.3786 (0.3850)  loss_fgl_aux_1: 1.1566 (1.1589)  loss_ddf_aux_1: 0.0097 (0.0101)  loss_mal_pre: 0.9019 (0.9097)  loss_bbox_pre: 0.1893 (0.1885)  loss_giou_pre: 0.4192 (0.4212)  loss_mal_enc_0: 0.9434 (0.9741)  loss_bbox_enc_0: 0.2525 (0.2666)  loss_giou_enc_0: 0.5551 (0.5558)  loss_mal_dn_0: 0.7607 (0.7610)  loss_bbox_dn_0: 0.2706 (0.2771)  loss_giou_dn_0: 0.6179 (0.6102)  loss_fgl_dn_0: 1.2101 (1.2119)  loss_ddf_dn_0: 0.7795 (0.7696)  loss_mal_dn_1: 0.7378 (0.7392)  loss_bbox_dn_1: 0.2043 (0.2017)  loss_giou_dn_1: 0.4500 (0.4488)  loss_fgl_dn_1: 1.1275 (1.1278)  loss_ddf_dn_1: 0.0405 (0.0415)  loss_mal_dn_2: 0.7271 (0.7296)  loss_bbox_dn_2: 0.1959 (0.1941)  loss_giou_dn_2: 0.4345 (0.4352)  loss_fgl_dn_2: 1.1217 (1.1229)  loss_mal_dn_pre: 0.7617 (0.7606)  loss_bbox_dn_pre: 0.2726 (0.2779)  loss_giou_dn_pre: 0.6139 (0.6118)  time: 0.4779  data: 0.1059  max mem: 10532\n",
      "Epoch: [96] Total time: 0:00:07 (0.4831 s / it)\n",
      "Averaged stats: lr: 0.000136  loss: 21.5498 (21.7194)  loss_mal: 0.8721 (0.8919)  loss_bbox: 0.1617 (0.1671)  loss_giou: 0.3728 (0.3821)  loss_fgl: 1.1570 (1.1563)  loss_mal_aux_0: 0.9023 (0.9114)  loss_bbox_aux_0: 0.1896 (0.1882)  loss_giou_aux_0: 0.4194 (0.4200)  loss_fgl_aux_0: 1.1937 (1.1935)  loss_ddf_aux_0: 0.1481 (0.1467)  loss_mal_aux_1: 0.8936 (0.9023)  loss_bbox_aux_1: 0.1659 (0.1693)  loss_giou_aux_1: 0.3786 (0.3850)  loss_fgl_aux_1: 1.1566 (1.1589)  loss_ddf_aux_1: 0.0097 (0.0101)  loss_mal_pre: 0.9019 (0.9097)  loss_bbox_pre: 0.1893 (0.1885)  loss_giou_pre: 0.4192 (0.4212)  loss_mal_enc_0: 0.9434 (0.9741)  loss_bbox_enc_0: 0.2525 (0.2666)  loss_giou_enc_0: 0.5551 (0.5558)  loss_mal_dn_0: 0.7607 (0.7610)  loss_bbox_dn_0: 0.2706 (0.2771)  loss_giou_dn_0: 0.6179 (0.6102)  loss_fgl_dn_0: 1.2101 (1.2119)  loss_ddf_dn_0: 0.7795 (0.7696)  loss_mal_dn_1: 0.7378 (0.7392)  loss_bbox_dn_1: 0.2043 (0.2017)  loss_giou_dn_1: 0.4500 (0.4488)  loss_fgl_dn_1: 1.1275 (1.1278)  loss_ddf_dn_1: 0.0405 (0.0415)  loss_mal_dn_2: 0.7271 (0.7296)  loss_bbox_dn_2: 0.1959 (0.1941)  loss_giou_dn_2: 0.4345 (0.4352)  loss_fgl_dn_2: 1.1217 (1.1229)  loss_mal_dn_pre: 0.7617 (0.7606)  loss_bbox_dn_pre: 0.2726 (0.2779)  loss_giou_dn_pre: 0.6139 (0.6118)\n",
      "Test:  [0/5]  eta: 0:00:03    time: 0.7092  data: 0.6011  max mem: 10532\n"
     ]
    },
    {
     "name": "stderr",
     "output_type": "stream",
     "text": [
      "\u001b[32m2025-03-10 16:32:34.780\u001b[0m | \u001b[1mINFO    \u001b[0m | \u001b[36mdeimkit.trainer\u001b[0m:\u001b[36mtrain\u001b[0m:\u001b[36m312\u001b[0m - \u001b[1mEpoch 96 - Train loss: 21.7194, Eval mAP: 0.6204\u001b[0m\n",
      "\u001b[32m2025-03-10 16:32:34.780\u001b[0m | \u001b[1mINFO    \u001b[0m | \u001b[36mdeimkit.trainer\u001b[0m:\u001b[36mtrain\u001b[0m:\u001b[36m315\u001b[0m - \u001b[1mBest stats: {'epoch': 93, 'coco_eval_bbox': 0.6226181646366459}\u001b[0m\n"
     ]
    },
    {
     "name": "stdout",
     "output_type": "stream",
     "text": [
      "Test:  [4/5]  eta: 0:00:00    time: 0.2311  data: 0.1327  max mem: 10532\n",
      "Test: Total time: 0:00:01 (0.2428 s / it)\n",
      "Averaged stats: \n",
      "Accumulating evaluation results...\n",
      "COCOeval_opt.accumulate() finished...\n",
      "DONE (t=0.02s).\n",
      "IoU metric: bbox\n",
      " Average Precision  (AP) @[ IoU=0.50:0.95 | area=   all | maxDets=100 ] = 0.620\n",
      " Average Precision  (AP) @[ IoU=0.50      | area=   all | maxDets=100 ] = 0.878\n",
      " Average Precision  (AP) @[ IoU=0.75      | area=   all | maxDets=100 ] = 0.736\n",
      " Average Precision  (AP) @[ IoU=0.50:0.95 | area= small | maxDets=100 ] = 0.493\n",
      " Average Precision  (AP) @[ IoU=0.50:0.95 | area=medium | maxDets=100 ] = 0.632\n",
      " Average Precision  (AP) @[ IoU=0.50:0.95 | area= large | maxDets=100 ] = 0.481\n",
      " Average Recall     (AR) @[ IoU=0.50:0.95 | area=   all | maxDets=  1 ] = 0.408\n",
      " Average Recall     (AR) @[ IoU=0.50:0.95 | area=   all | maxDets= 10 ] = 0.681\n",
      " Average Recall     (AR) @[ IoU=0.50:0.95 | area=   all | maxDets=100 ] = 0.778\n",
      " Average Recall     (AR) @[ IoU=0.50:0.95 | area= small | maxDets=100 ] = 0.740\n",
      " Average Recall     (AR) @[ IoU=0.50:0.95 | area=medium | maxDets=100 ] = 0.779\n",
      " Average Recall     (AR) @[ IoU=0.50:0.95 | area= large | maxDets=100 ] = 0.786\n",
      " Average Recall     (AR) @[ IoU=0.50      | area=   all | maxDets=100 ] = 1.000\n",
      " Average Recall     (AR) @[ IoU=0.75      | area=   all | maxDets=100 ] = 0.928\n",
      "Epoch: [97]  [ 0/15]  eta: 0:00:24  lr: 0.000136  loss: 21.6819 (21.6819)  loss_mal: 0.8525 (0.8525)  loss_bbox: 0.1790 (0.1790)  loss_giou: 0.3461 (0.3461)  loss_fgl: 1.1607 (1.1607)  loss_mal_aux_0: 0.8926 (0.8926)  loss_bbox_aux_0: 0.1937 (0.1937)  loss_giou_aux_0: 0.3773 (0.3773)  loss_fgl_aux_0: 1.1947 (1.1947)  loss_ddf_aux_0: 0.1767 (0.1767)  loss_mal_aux_1: 0.8696 (0.8696)  loss_bbox_aux_1: 0.1780 (0.1780)  loss_giou_aux_1: 0.3467 (0.3467)  loss_fgl_aux_1: 1.1672 (1.1672)  loss_ddf_aux_1: 0.0100 (0.0100)  loss_mal_pre: 0.8955 (0.8955)  loss_bbox_pre: 0.1923 (0.1923)  loss_giou_pre: 0.3755 (0.3755)  loss_mal_enc_0: 0.9653 (0.9653)  loss_bbox_enc_0: 0.2423 (0.2423)  loss_giou_enc_0: 0.4613 (0.4613)  loss_mal_dn_0: 0.7744 (0.7744)  loss_bbox_dn_0: 0.3234 (0.3234)  loss_giou_dn_0: 0.5969 (0.5969)  loss_fgl_dn_0: 1.2126 (1.2126)  loss_ddf_dn_0: 0.9009 (0.9009)  loss_mal_dn_1: 0.7686 (0.7686)  loss_bbox_dn_1: 0.2357 (0.2357)  loss_giou_dn_1: 0.4300 (0.4300)  loss_fgl_dn_1: 1.1215 (1.1215)  loss_ddf_dn_1: 0.0423 (0.0423)  loss_mal_dn_2: 0.7617 (0.7617)  loss_bbox_dn_2: 0.2235 (0.2235)  loss_giou_dn_2: 0.4141 (0.4141)  loss_fgl_dn_2: 1.1151 (1.1151)  loss_mal_dn_pre: 0.7729 (0.7729)  loss_bbox_dn_pre: 0.3215 (0.3215)  loss_giou_dn_pre: 0.5897 (0.5897)  time: 1.6347  data: 1.2155  max mem: 10532\n"
     ]
    },
    {
     "name": "stderr",
     "output_type": "stream",
     "text": [
      "\u001b[32m2025-03-10 16:32:41.809\u001b[0m | \u001b[1mINFO    \u001b[0m | \u001b[36mdeimkit.trainer\u001b[0m:\u001b[36mevaluate\u001b[0m:\u001b[36m331\u001b[0m - \u001b[1mEvaluating model...\u001b[0m\n"
     ]
    },
    {
     "name": "stdout",
     "output_type": "stream",
     "text": [
      "Epoch: [97]  [14/15]  eta: 0:00:00  lr: 0.000134  loss: 21.5867 (21.7978)  loss_mal: 0.8579 (0.8848)  loss_bbox: 0.1767 (0.1747)  loss_giou: 0.3592 (0.3727)  loss_fgl: 1.1552 (1.1595)  loss_mal_aux_0: 0.8926 (0.9096)  loss_bbox_aux_0: 0.1962 (0.1980)  loss_giou_aux_0: 0.3975 (0.4133)  loss_fgl_aux_0: 1.1916 (1.1945)  loss_ddf_aux_0: 0.1562 (0.1572)  loss_mal_aux_1: 0.8760 (0.8914)  loss_bbox_aux_1: 0.1780 (0.1770)  loss_giou_aux_1: 0.3588 (0.3756)  loss_fgl_aux_1: 1.1580 (1.1626)  loss_ddf_aux_1: 0.0094 (0.0095)  loss_mal_pre: 0.8955 (0.9079)  loss_bbox_pre: 0.1958 (0.1980)  loss_giou_pre: 0.3946 (0.4131)  loss_mal_enc_0: 0.9692 (0.9687)  loss_bbox_enc_0: 0.2449 (0.2744)  loss_giou_enc_0: 0.4788 (0.5487)  loss_mal_dn_0: 0.7651 (0.7647)  loss_bbox_dn_0: 0.2958 (0.2945)  loss_giou_dn_0: 0.5848 (0.6021)  loss_fgl_dn_0: 1.2202 (1.2231)  loss_ddf_dn_0: 0.7600 (0.7940)  loss_mal_dn_1: 0.7417 (0.7398)  loss_bbox_dn_1: 0.2138 (0.2166)  loss_giou_dn_1: 0.4306 (0.4454)  loss_fgl_dn_1: 1.1262 (1.1300)  loss_ddf_dn_1: 0.0383 (0.0369)  loss_mal_dn_2: 0.7349 (0.7314)  loss_bbox_dn_2: 0.2031 (0.2074)  loss_giou_dn_2: 0.4200 (0.4322)  loss_fgl_dn_2: 1.1208 (1.1258)  loss_mal_dn_pre: 0.7651 (0.7646)  loss_bbox_dn_pre: 0.2915 (0.2961)  loss_giou_dn_pre: 0.5916 (0.6020)  time: 0.4621  data: 0.0988  max mem: 10532\n",
      "Epoch: [97] Total time: 0:00:07 (0.4672 s / it)\n",
      "Averaged stats: lr: 0.000134  loss: 21.5867 (21.7978)  loss_mal: 0.8579 (0.8848)  loss_bbox: 0.1767 (0.1747)  loss_giou: 0.3592 (0.3727)  loss_fgl: 1.1552 (1.1595)  loss_mal_aux_0: 0.8926 (0.9096)  loss_bbox_aux_0: 0.1962 (0.1980)  loss_giou_aux_0: 0.3975 (0.4133)  loss_fgl_aux_0: 1.1916 (1.1945)  loss_ddf_aux_0: 0.1562 (0.1572)  loss_mal_aux_1: 0.8760 (0.8914)  loss_bbox_aux_1: 0.1780 (0.1770)  loss_giou_aux_1: 0.3588 (0.3756)  loss_fgl_aux_1: 1.1580 (1.1626)  loss_ddf_aux_1: 0.0094 (0.0095)  loss_mal_pre: 0.8955 (0.9079)  loss_bbox_pre: 0.1958 (0.1980)  loss_giou_pre: 0.3946 (0.4131)  loss_mal_enc_0: 0.9692 (0.9687)  loss_bbox_enc_0: 0.2449 (0.2744)  loss_giou_enc_0: 0.4788 (0.5487)  loss_mal_dn_0: 0.7651 (0.7647)  loss_bbox_dn_0: 0.2958 (0.2945)  loss_giou_dn_0: 0.5848 (0.6021)  loss_fgl_dn_0: 1.2202 (1.2231)  loss_ddf_dn_0: 0.7600 (0.7940)  loss_mal_dn_1: 0.7417 (0.7398)  loss_bbox_dn_1: 0.2138 (0.2166)  loss_giou_dn_1: 0.4306 (0.4454)  loss_fgl_dn_1: 1.1262 (1.1300)  loss_ddf_dn_1: 0.0383 (0.0369)  loss_mal_dn_2: 0.7349 (0.7314)  loss_bbox_dn_2: 0.2031 (0.2074)  loss_giou_dn_2: 0.4200 (0.4322)  loss_fgl_dn_2: 1.1208 (1.1258)  loss_mal_dn_pre: 0.7651 (0.7646)  loss_bbox_dn_pre: 0.2915 (0.2961)  loss_giou_dn_pre: 0.5916 (0.6020)\n",
      "Test:  [0/5]  eta: 0:00:04    time: 0.9142  data: 0.6245  max mem: 10532\n"
     ]
    },
    {
     "name": "stderr",
     "output_type": "stream",
     "text": [
      "\u001b[32m2025-03-10 16:32:43.317\u001b[0m | \u001b[1mINFO    \u001b[0m | \u001b[36mdeimkit.trainer\u001b[0m:\u001b[36m_save_checkpoint\u001b[0m:\u001b[36m363\u001b[0m - \u001b[1mSaving checkpoint to outputs/deim_hgnetv2_s_coco_ema_tune/best.pth\u001b[0m\n"
     ]
    },
    {
     "name": "stdout",
     "output_type": "stream",
     "text": [
      "Test:  [4/5]  eta: 0:00:00    time: 0.2820  data: 0.1453  max mem: 10532\n",
      "Test: Total time: 0:00:01 (0.2957 s / it)\n",
      "Averaged stats: \n",
      "Accumulating evaluation results...\n",
      "COCOeval_opt.accumulate() finished...\n",
      "DONE (t=0.02s).\n",
      "IoU metric: bbox\n",
      " Average Precision  (AP) @[ IoU=0.50:0.95 | area=   all | maxDets=100 ] = 0.633\n",
      " Average Precision  (AP) @[ IoU=0.50      | area=   all | maxDets=100 ] = 0.895\n",
      " Average Precision  (AP) @[ IoU=0.75      | area=   all | maxDets=100 ] = 0.755\n",
      " Average Precision  (AP) @[ IoU=0.50:0.95 | area= small | maxDets=100 ] = 0.526\n",
      " Average Precision  (AP) @[ IoU=0.50:0.95 | area=medium | maxDets=100 ] = 0.647\n",
      " Average Precision  (AP) @[ IoU=0.50:0.95 | area= large | maxDets=100 ] = 0.484\n",
      " Average Recall     (AR) @[ IoU=0.50:0.95 | area=   all | maxDets=  1 ] = 0.414\n",
      " Average Recall     (AR) @[ IoU=0.50:0.95 | area=   all | maxDets= 10 ] = 0.693\n",
      " Average Recall     (AR) @[ IoU=0.50:0.95 | area=   all | maxDets=100 ] = 0.779\n",
      " Average Recall     (AR) @[ IoU=0.50:0.95 | area= small | maxDets=100 ] = 0.700\n",
      " Average Recall     (AR) @[ IoU=0.50:0.95 | area=medium | maxDets=100 ] = 0.781\n",
      " Average Recall     (AR) @[ IoU=0.50:0.95 | area= large | maxDets=100 ] = 0.851\n",
      " Average Recall     (AR) @[ IoU=0.50      | area=   all | maxDets=100 ] = 0.999\n",
      " Average Recall     (AR) @[ IoU=0.75      | area=   all | maxDets=100 ] = 0.917\n"
     ]
    },
    {
     "name": "stderr",
     "output_type": "stream",
     "text": [
      "\u001b[32m2025-03-10 16:32:43.643\u001b[0m | \u001b[1mINFO    \u001b[0m | \u001b[36mdeimkit.trainer\u001b[0m:\u001b[36m_save_checkpoint\u001b[0m:\u001b[36m380\u001b[0m - \u001b[1mCheckpoint saved to outputs/deim_hgnetv2_s_coco_ema_tune/best.pth\u001b[0m\n",
      "\u001b[32m2025-03-10 16:32:43.645\u001b[0m | \u001b[1mINFO    \u001b[0m | \u001b[36mdeimkit.trainer\u001b[0m:\u001b[36mtrain\u001b[0m:\u001b[36m312\u001b[0m - \u001b[1mEpoch 97 - Train loss: 21.7978, Eval mAP: 0.6331\u001b[0m\n",
      "\u001b[32m2025-03-10 16:32:43.645\u001b[0m | \u001b[1mINFO    \u001b[0m | \u001b[36mdeimkit.trainer\u001b[0m:\u001b[36mtrain\u001b[0m:\u001b[36m315\u001b[0m - \u001b[1mBest stats: {'epoch': 97, 'coco_eval_bbox': 0.6331483399026064}\u001b[0m\n"
     ]
    },
    {
     "name": "stdout",
     "output_type": "stream",
     "text": [
      "Epoch: [98]  [ 0/15]  eta: 0:00:28  lr: 0.000133  loss: 21.4118 (21.4118)  loss_mal: 0.9146 (0.9146)  loss_bbox: 0.1462 (0.1462)  loss_giou: 0.3809 (0.3809)  loss_fgl: 1.1434 (1.1434)  loss_mal_aux_0: 0.9268 (0.9268)  loss_bbox_aux_0: 0.1612 (0.1612)  loss_giou_aux_0: 0.4138 (0.4138)  loss_fgl_aux_0: 1.1702 (1.1702)  loss_ddf_aux_0: 0.1498 (0.1498)  loss_mal_aux_1: 0.9297 (0.9297)  loss_bbox_aux_1: 0.1513 (0.1513)  loss_giou_aux_1: 0.3870 (0.3870)  loss_fgl_aux_1: 1.1466 (1.1466)  loss_ddf_aux_1: 0.0104 (0.0104)  loss_mal_pre: 0.9224 (0.9224)  loss_bbox_pre: 0.1612 (0.1612)  loss_giou_pre: 0.4150 (0.4150)  loss_mal_enc_0: 1.0293 (1.0293)  loss_bbox_enc_0: 0.2042 (0.2042)  loss_giou_enc_0: 0.5088 (0.5088)  loss_mal_dn_0: 0.7476 (0.7476)  loss_bbox_dn_0: 0.2569 (0.2569)  loss_giou_dn_0: 0.6202 (0.6202)  loss_fgl_dn_0: 1.2047 (1.2047)  loss_ddf_dn_0: 0.6807 (0.6807)  loss_mal_dn_1: 0.7212 (0.7212)  loss_bbox_dn_1: 0.2003 (0.2003)  loss_giou_dn_1: 0.4646 (0.4646)  loss_fgl_dn_1: 1.1313 (1.1313)  loss_ddf_dn_1: 0.0350 (0.0350)  loss_mal_dn_2: 0.7080 (0.7080)  loss_bbox_dn_2: 0.1881 (0.1881)  loss_giou_dn_2: 0.4475 (0.4475)  loss_fgl_dn_2: 1.1206 (1.1206)  loss_mal_dn_pre: 0.7476 (0.7476)  loss_bbox_dn_pre: 0.2560 (0.2560)  loss_giou_dn_pre: 0.6093 (0.6093)  time: 1.8985  data: 1.3979  max mem: 10532\n"
     ]
    },
    {
     "name": "stderr",
     "output_type": "stream",
     "text": [
      "\u001b[32m2025-03-10 16:32:50.951\u001b[0m | \u001b[1mINFO    \u001b[0m | \u001b[36mdeimkit.trainer\u001b[0m:\u001b[36mevaluate\u001b[0m:\u001b[36m331\u001b[0m - \u001b[1mEvaluating model...\u001b[0m\n"
     ]
    },
    {
     "name": "stdout",
     "output_type": "stream",
     "text": [
      "Epoch: [98]  [14/15]  eta: 0:00:00  lr: 0.000131  loss: 21.4261 (21.5852)  loss_mal: 0.9062 (0.9166)  loss_bbox: 0.1615 (0.1673)  loss_giou: 0.3566 (0.3623)  loss_fgl: 1.1468 (1.1464)  loss_mal_aux_0: 0.9243 (0.9364)  loss_bbox_aux_0: 0.1774 (0.1858)  loss_giou_aux_0: 0.3959 (0.3993)  loss_fgl_aux_0: 1.1850 (1.1827)  loss_ddf_aux_0: 0.1261 (0.1324)  loss_mal_aux_1: 0.9082 (0.9308)  loss_bbox_aux_1: 0.1645 (0.1693)  loss_giou_aux_1: 0.3598 (0.3646)  loss_fgl_aux_1: 1.1556 (1.1512)  loss_ddf_aux_1: 0.0084 (0.0083)  loss_mal_pre: 0.9199 (0.9338)  loss_bbox_pre: 0.1797 (0.1863)  loss_giou_pre: 0.3964 (0.4018)  loss_mal_enc_0: 0.9985 (1.0112)  loss_bbox_enc_0: 0.2397 (0.2426)  loss_giou_enc_0: 0.4961 (0.5028)  loss_mal_dn_0: 0.7622 (0.7611)  loss_bbox_dn_0: 0.2867 (0.2906)  loss_giou_dn_0: 0.5932 (0.6007)  loss_fgl_dn_0: 1.2203 (1.2174)  loss_ddf_dn_0: 0.7118 (0.7107)  loss_mal_dn_1: 0.7354 (0.7347)  loss_bbox_dn_1: 0.2119 (0.2111)  loss_giou_dn_1: 0.4369 (0.4392)  loss_fgl_dn_1: 1.1213 (1.1262)  loss_ddf_dn_1: 0.0359 (0.0357)  loss_mal_dn_2: 0.7261 (0.7251)  loss_bbox_dn_2: 0.2025 (0.2019)  loss_giou_dn_2: 0.4245 (0.4249)  loss_fgl_dn_2: 1.1167 (1.1202)  loss_mal_dn_pre: 0.7612 (0.7611)  loss_bbox_dn_pre: 0.2876 (0.2911)  loss_giou_dn_pre: 0.5951 (0.6015)  time: 0.4819  data: 0.1078  max mem: 10532\n",
      "Epoch: [98] Total time: 0:00:07 (0.4856 s / it)\n",
      "Averaged stats: lr: 0.000131  loss: 21.4261 (21.5852)  loss_mal: 0.9062 (0.9166)  loss_bbox: 0.1615 (0.1673)  loss_giou: 0.3566 (0.3623)  loss_fgl: 1.1468 (1.1464)  loss_mal_aux_0: 0.9243 (0.9364)  loss_bbox_aux_0: 0.1774 (0.1858)  loss_giou_aux_0: 0.3959 (0.3993)  loss_fgl_aux_0: 1.1850 (1.1827)  loss_ddf_aux_0: 0.1261 (0.1324)  loss_mal_aux_1: 0.9082 (0.9308)  loss_bbox_aux_1: 0.1645 (0.1693)  loss_giou_aux_1: 0.3598 (0.3646)  loss_fgl_aux_1: 1.1556 (1.1512)  loss_ddf_aux_1: 0.0084 (0.0083)  loss_mal_pre: 0.9199 (0.9338)  loss_bbox_pre: 0.1797 (0.1863)  loss_giou_pre: 0.3964 (0.4018)  loss_mal_enc_0: 0.9985 (1.0112)  loss_bbox_enc_0: 0.2397 (0.2426)  loss_giou_enc_0: 0.4961 (0.5028)  loss_mal_dn_0: 0.7622 (0.7611)  loss_bbox_dn_0: 0.2867 (0.2906)  loss_giou_dn_0: 0.5932 (0.6007)  loss_fgl_dn_0: 1.2203 (1.2174)  loss_ddf_dn_0: 0.7118 (0.7107)  loss_mal_dn_1: 0.7354 (0.7347)  loss_bbox_dn_1: 0.2119 (0.2111)  loss_giou_dn_1: 0.4369 (0.4392)  loss_fgl_dn_1: 1.1213 (1.1262)  loss_ddf_dn_1: 0.0359 (0.0357)  loss_mal_dn_2: 0.7261 (0.7251)  loss_bbox_dn_2: 0.2025 (0.2019)  loss_giou_dn_2: 0.4245 (0.4249)  loss_fgl_dn_2: 1.1167 (1.1202)  loss_mal_dn_pre: 0.7612 (0.7611)  loss_bbox_dn_pre: 0.2876 (0.2911)  loss_giou_dn_pre: 0.5951 (0.6015)\n",
      "Test:  [0/5]  eta: 0:00:04    time: 0.9908  data: 0.7067  max mem: 10532\n"
     ]
    },
    {
     "name": "stderr",
     "output_type": "stream",
     "text": [
      "\u001b[32m2025-03-10 16:32:52.504\u001b[0m | \u001b[1mINFO    \u001b[0m | \u001b[36mdeimkit.trainer\u001b[0m:\u001b[36mtrain\u001b[0m:\u001b[36m312\u001b[0m - \u001b[1mEpoch 98 - Train loss: 21.5852, Eval mAP: 0.6230\u001b[0m\n",
      "\u001b[32m2025-03-10 16:32:52.504\u001b[0m | \u001b[1mINFO    \u001b[0m | \u001b[36mdeimkit.trainer\u001b[0m:\u001b[36mtrain\u001b[0m:\u001b[36m315\u001b[0m - \u001b[1mBest stats: {'epoch': 97, 'coco_eval_bbox': 0.6331483399026064}\u001b[0m\n"
     ]
    },
    {
     "name": "stdout",
     "output_type": "stream",
     "text": [
      "Test:  [4/5]  eta: 0:00:00    time: 0.2914  data: 0.1550  max mem: 10532\n",
      "Test: Total time: 0:00:01 (0.3040 s / it)\n",
      "Averaged stats: \n",
      "Accumulating evaluation results...\n",
      "COCOeval_opt.accumulate() finished...\n",
      "DONE (t=0.02s).\n",
      "IoU metric: bbox\n",
      " Average Precision  (AP) @[ IoU=0.50:0.95 | area=   all | maxDets=100 ] = 0.623\n",
      " Average Precision  (AP) @[ IoU=0.50      | area=   all | maxDets=100 ] = 0.884\n",
      " Average Precision  (AP) @[ IoU=0.75      | area=   all | maxDets=100 ] = 0.719\n",
      " Average Precision  (AP) @[ IoU=0.50:0.95 | area= small | maxDets=100 ] = 0.580\n",
      " Average Precision  (AP) @[ IoU=0.50:0.95 | area=medium | maxDets=100 ] = 0.639\n",
      " Average Precision  (AP) @[ IoU=0.50:0.95 | area= large | maxDets=100 ] = 0.480\n",
      " Average Recall     (AR) @[ IoU=0.50:0.95 | area=   all | maxDets=  1 ] = 0.416\n",
      " Average Recall     (AR) @[ IoU=0.50:0.95 | area=   all | maxDets= 10 ] = 0.680\n",
      " Average Recall     (AR) @[ IoU=0.50:0.95 | area=   all | maxDets=100 ] = 0.774\n",
      " Average Recall     (AR) @[ IoU=0.50:0.95 | area= small | maxDets=100 ] = 0.780\n",
      " Average Recall     (AR) @[ IoU=0.50:0.95 | area=medium | maxDets=100 ] = 0.780\n",
      " Average Recall     (AR) @[ IoU=0.50:0.95 | area= large | maxDets=100 ] = 0.779\n",
      " Average Recall     (AR) @[ IoU=0.50      | area=   all | maxDets=100 ] = 0.999\n",
      " Average Recall     (AR) @[ IoU=0.75      | area=   all | maxDets=100 ] = 0.911\n",
      "Epoch: [99]  [ 0/15]  eta: 0:00:27  lr: 0.000131  loss: 21.1603 (21.1603)  loss_mal: 0.8638 (0.8638)  loss_bbox: 0.1689 (0.1689)  loss_giou: 0.3580 (0.3580)  loss_fgl: 1.1763 (1.1763)  loss_mal_aux_0: 0.9062 (0.9062)  loss_bbox_aux_0: 0.1791 (0.1791)  loss_giou_aux_0: 0.3885 (0.3885)  loss_fgl_aux_0: 1.1988 (1.1988)  loss_ddf_aux_0: 0.1229 (0.1229)  loss_mal_aux_1: 0.8872 (0.8872)  loss_bbox_aux_1: 0.1681 (0.1681)  loss_giou_aux_1: 0.3581 (0.3581)  loss_fgl_aux_1: 1.1770 (1.1770)  loss_ddf_aux_1: 0.0092 (0.0092)  loss_mal_pre: 0.9009 (0.9009)  loss_bbox_pre: 0.1809 (0.1809)  loss_giou_pre: 0.3906 (0.3906)  loss_mal_enc_0: 0.9688 (0.9688)  loss_bbox_enc_0: 0.2241 (0.2241)  loss_giou_enc_0: 0.4818 (0.4818)  loss_mal_dn_0: 0.7505 (0.7505)  loss_bbox_dn_0: 0.2511 (0.2511)  loss_giou_dn_0: 0.5519 (0.5519)  loss_fgl_dn_0: 1.2253 (1.2253)  loss_ddf_dn_0: 0.7456 (0.7456)  loss_mal_dn_1: 0.7231 (0.7231)  loss_bbox_dn_1: 0.1865 (0.1865)  loss_giou_dn_1: 0.4135 (0.4135)  loss_fgl_dn_1: 1.1493 (1.1493)  loss_ddf_dn_1: 0.0377 (0.0377)  loss_mal_dn_2: 0.7197 (0.7197)  loss_bbox_dn_2: 0.1811 (0.1811)  loss_giou_dn_2: 0.4030 (0.4030)  loss_fgl_dn_2: 1.1479 (1.1479)  loss_mal_dn_pre: 0.7495 (0.7495)  loss_bbox_dn_pre: 0.2521 (0.2521)  loss_giou_dn_pre: 0.5631 (0.5631)  time: 1.8654  data: 1.3988  max mem: 10532\n"
     ]
    },
    {
     "name": "stderr",
     "output_type": "stream",
     "text": [
      "\u001b[32m2025-03-10 16:32:59.832\u001b[0m | \u001b[1mINFO    \u001b[0m | \u001b[36mdeimkit.trainer\u001b[0m:\u001b[36m_save_checkpoint\u001b[0m:\u001b[36m363\u001b[0m - \u001b[1mSaving checkpoint to outputs/deim_hgnetv2_s_coco_ema_tune/checkpoint0099.pth\u001b[0m\n"
     ]
    },
    {
     "name": "stdout",
     "output_type": "stream",
     "text": [
      "Epoch: [99]  [14/15]  eta: 0:00:00  lr: 0.000128  loss: 21.4242 (21.5715)  loss_mal: 0.8638 (0.8786)  loss_bbox: 0.1556 (0.1654)  loss_giou: 0.3615 (0.3664)  loss_fgl: 1.1594 (1.1590)  loss_mal_aux_0: 0.8970 (0.9044)  loss_bbox_aux_0: 0.1791 (0.1847)  loss_giou_aux_0: 0.3988 (0.4042)  loss_fgl_aux_0: 1.1923 (1.1936)  loss_ddf_aux_0: 0.1442 (0.1465)  loss_mal_aux_1: 0.8872 (0.8834)  loss_bbox_aux_1: 0.1593 (0.1670)  loss_giou_aux_1: 0.3638 (0.3693)  loss_fgl_aux_1: 1.1619 (1.1616)  loss_ddf_aux_1: 0.0100 (0.0099)  loss_mal_pre: 0.8984 (0.9027)  loss_bbox_pre: 0.1805 (0.1849)  loss_giou_pre: 0.4019 (0.4048)  loss_mal_enc_0: 0.9492 (0.9636)  loss_bbox_enc_0: 0.2440 (0.2588)  loss_giou_enc_0: 0.5112 (0.5385)  loss_mal_dn_0: 0.7627 (0.7650)  loss_bbox_dn_0: 0.2669 (0.2730)  loss_giou_dn_0: 0.6024 (0.5906)  loss_fgl_dn_0: 1.2109 (1.2212)  loss_ddf_dn_0: 0.7597 (0.8258)  loss_mal_dn_1: 0.7305 (0.7372)  loss_bbox_dn_1: 0.1981 (0.2036)  loss_giou_dn_1: 0.4326 (0.4385)  loss_fgl_dn_1: 1.1284 (1.1271)  loss_ddf_dn_1: 0.0375 (0.0401)  loss_mal_dn_2: 0.7280 (0.7268)  loss_bbox_dn_2: 0.1878 (0.1964)  loss_giou_dn_2: 0.4187 (0.4255)  loss_fgl_dn_2: 1.1248 (1.1224)  loss_mal_dn_pre: 0.7622 (0.7644)  loss_bbox_dn_pre: 0.2662 (0.2733)  loss_giou_dn_pre: 0.5917 (0.5932)  time: 0.4826  data: 0.1105  max mem: 10532\n",
      "Epoch: [99] Total time: 0:00:07 (0.4872 s / it)\n",
      "Averaged stats: lr: 0.000128  loss: 21.4242 (21.5715)  loss_mal: 0.8638 (0.8786)  loss_bbox: 0.1556 (0.1654)  loss_giou: 0.3615 (0.3664)  loss_fgl: 1.1594 (1.1590)  loss_mal_aux_0: 0.8970 (0.9044)  loss_bbox_aux_0: 0.1791 (0.1847)  loss_giou_aux_0: 0.3988 (0.4042)  loss_fgl_aux_0: 1.1923 (1.1936)  loss_ddf_aux_0: 0.1442 (0.1465)  loss_mal_aux_1: 0.8872 (0.8834)  loss_bbox_aux_1: 0.1593 (0.1670)  loss_giou_aux_1: 0.3638 (0.3693)  loss_fgl_aux_1: 1.1619 (1.1616)  loss_ddf_aux_1: 0.0100 (0.0099)  loss_mal_pre: 0.8984 (0.9027)  loss_bbox_pre: 0.1805 (0.1849)  loss_giou_pre: 0.4019 (0.4048)  loss_mal_enc_0: 0.9492 (0.9636)  loss_bbox_enc_0: 0.2440 (0.2588)  loss_giou_enc_0: 0.5112 (0.5385)  loss_mal_dn_0: 0.7627 (0.7650)  loss_bbox_dn_0: 0.2669 (0.2730)  loss_giou_dn_0: 0.6024 (0.5906)  loss_fgl_dn_0: 1.2109 (1.2212)  loss_ddf_dn_0: 0.7597 (0.8258)  loss_mal_dn_1: 0.7305 (0.7372)  loss_bbox_dn_1: 0.1981 (0.2036)  loss_giou_dn_1: 0.4326 (0.4385)  loss_fgl_dn_1: 1.1284 (1.1271)  loss_ddf_dn_1: 0.0375 (0.0401)  loss_mal_dn_2: 0.7280 (0.7268)  loss_bbox_dn_2: 0.1878 (0.1964)  loss_giou_dn_2: 0.4187 (0.4255)  loss_fgl_dn_2: 1.1248 (1.1224)  loss_mal_dn_pre: 0.7622 (0.7644)  loss_bbox_dn_pre: 0.2662 (0.2733)  loss_giou_dn_pre: 0.5917 (0.5932)\n"
     ]
    },
    {
     "name": "stderr",
     "output_type": "stream",
     "text": [
      "\u001b[32m2025-03-10 16:33:00.079\u001b[0m | \u001b[1mINFO    \u001b[0m | \u001b[36mdeimkit.trainer\u001b[0m:\u001b[36m_save_checkpoint\u001b[0m:\u001b[36m380\u001b[0m - \u001b[1mCheckpoint saved to outputs/deim_hgnetv2_s_coco_ema_tune/checkpoint0099.pth\u001b[0m\n",
      "\u001b[32m2025-03-10 16:33:00.080\u001b[0m | \u001b[1mINFO    \u001b[0m | \u001b[36mdeimkit.trainer\u001b[0m:\u001b[36mevaluate\u001b[0m:\u001b[36m331\u001b[0m - \u001b[1mEvaluating model...\u001b[0m\n"
     ]
    },
    {
     "name": "stdout",
     "output_type": "stream",
     "text": [
      "Test:  [0/5]  eta: 0:00:04    time: 0.8916  data: 0.6249  max mem: 10532\n"
     ]
    },
    {
     "name": "stderr",
     "output_type": "stream",
     "text": [
      "\u001b[32m2025-03-10 16:33:01.507\u001b[0m | \u001b[1mINFO    \u001b[0m | \u001b[36mdeimkit.trainer\u001b[0m:\u001b[36mtrain\u001b[0m:\u001b[36m312\u001b[0m - \u001b[1mEpoch 99 - Train loss: 21.5715, Eval mAP: 0.6223\u001b[0m\n",
      "\u001b[32m2025-03-10 16:33:01.507\u001b[0m | \u001b[1mINFO    \u001b[0m | \u001b[36mdeimkit.trainer\u001b[0m:\u001b[36mtrain\u001b[0m:\u001b[36m315\u001b[0m - \u001b[1mBest stats: {'epoch': 97, 'coco_eval_bbox': 0.6331483399026064}\u001b[0m\n"
     ]
    },
    {
     "name": "stdout",
     "output_type": "stream",
     "text": [
      "Test:  [4/5]  eta: 0:00:00    time: 0.2673  data: 0.1363  max mem: 10532\n",
      "Test: Total time: 0:00:01 (0.2794 s / it)\n",
      "Averaged stats: \n",
      "Accumulating evaluation results...\n",
      "COCOeval_opt.accumulate() finished...\n",
      "DONE (t=0.02s).\n",
      "IoU metric: bbox\n",
      " Average Precision  (AP) @[ IoU=0.50:0.95 | area=   all | maxDets=100 ] = 0.622\n",
      " Average Precision  (AP) @[ IoU=0.50      | area=   all | maxDets=100 ] = 0.885\n",
      " Average Precision  (AP) @[ IoU=0.75      | area=   all | maxDets=100 ] = 0.709\n",
      " Average Precision  (AP) @[ IoU=0.50:0.95 | area= small | maxDets=100 ] = 0.494\n",
      " Average Precision  (AP) @[ IoU=0.50:0.95 | area=medium | maxDets=100 ] = 0.637\n",
      " Average Precision  (AP) @[ IoU=0.50:0.95 | area= large | maxDets=100 ] = 0.480\n",
      " Average Recall     (AR) @[ IoU=0.50:0.95 | area=   all | maxDets=  1 ] = 0.412\n",
      " Average Recall     (AR) @[ IoU=0.50:0.95 | area=   all | maxDets= 10 ] = 0.679\n",
      " Average Recall     (AR) @[ IoU=0.50:0.95 | area=   all | maxDets=100 ] = 0.774\n",
      " Average Recall     (AR) @[ IoU=0.50:0.95 | area= small | maxDets=100 ] = 0.720\n",
      " Average Recall     (AR) @[ IoU=0.50:0.95 | area=medium | maxDets=100 ] = 0.779\n",
      " Average Recall     (AR) @[ IoU=0.50:0.95 | area= large | maxDets=100 ] = 0.781\n",
      " Average Recall     (AR) @[ IoU=0.50      | area=   all | maxDets=100 ] = 0.999\n",
      " Average Recall     (AR) @[ IoU=0.75      | area=   all | maxDets=100 ] = 0.910\n",
      "Epoch: [100]  [ 0/15]  eta: 0:00:30  lr: 0.000128  loss: 20.6414 (20.6414)  loss_mal: 0.8325 (0.8325)  loss_bbox: 0.1407 (0.1407)  loss_giou: 0.3291 (0.3291)  loss_fgl: 1.1674 (1.1674)  loss_mal_aux_0: 0.8647 (0.8647)  loss_bbox_aux_0: 0.1434 (0.1434)  loss_giou_aux_0: 0.3596 (0.3596)  loss_fgl_aux_0: 1.2002 (1.2002)  loss_ddf_aux_0: 0.1364 (0.1364)  loss_mal_aux_1: 0.8350 (0.8350)  loss_bbox_aux_1: 0.1397 (0.1397)  loss_giou_aux_1: 0.3330 (0.3330)  loss_fgl_aux_1: 1.1672 (1.1672)  loss_ddf_aux_1: 0.0091 (0.0091)  loss_mal_pre: 0.8638 (0.8638)  loss_bbox_pre: 0.1440 (0.1440)  loss_giou_pre: 0.3605 (0.3605)  loss_mal_enc_0: 0.9937 (0.9937)  loss_bbox_enc_0: 0.2433 (0.2433)  loss_giou_enc_0: 0.5118 (0.5118)  loss_mal_dn_0: 0.7422 (0.7422)  loss_bbox_dn_0: 0.2169 (0.2169)  loss_giou_dn_0: 0.5747 (0.5747)  loss_fgl_dn_0: 1.2396 (1.2396)  loss_ddf_dn_0: 0.7705 (0.7705)  loss_mal_dn_1: 0.7002 (0.7002)  loss_bbox_dn_1: 0.1548 (0.1548)  loss_giou_dn_1: 0.4017 (0.4017)  loss_fgl_dn_1: 1.1393 (1.1393)  loss_ddf_dn_1: 0.0369 (0.0369)  loss_mal_dn_2: 0.6904 (0.6904)  loss_bbox_dn_2: 0.1485 (0.1485)  loss_giou_dn_2: 0.3893 (0.3893)  loss_fgl_dn_2: 1.1342 (1.1342)  loss_mal_dn_pre: 0.7437 (0.7437)  loss_bbox_dn_pre: 0.2179 (0.2179)  loss_giou_dn_pre: 0.5657 (0.5657)  time: 2.0084  data: 1.4914  max mem: 10532\n"
     ]
    },
    {
     "name": "stderr",
     "output_type": "stream",
     "text": [
      "\u001b[32m2025-03-10 16:33:08.832\u001b[0m | \u001b[1mINFO    \u001b[0m | \u001b[36mdeimkit.trainer\u001b[0m:\u001b[36mevaluate\u001b[0m:\u001b[36m331\u001b[0m - \u001b[1mEvaluating model...\u001b[0m\n"
     ]
    },
    {
     "name": "stdout",
     "output_type": "stream",
     "text": [
      "Epoch: [100]  [14/15]  eta: 0:00:00  lr: 0.000126  loss: 21.6117 (21.3315)  loss_mal: 0.8354 (0.8713)  loss_bbox: 0.1654 (0.1712)  loss_giou: 0.3572 (0.3557)  loss_fgl: 1.1564 (1.1532)  loss_mal_aux_0: 0.8696 (0.8982)  loss_bbox_aux_0: 0.1869 (0.1908)  loss_giou_aux_0: 0.3983 (0.3937)  loss_fgl_aux_0: 1.1941 (1.1904)  loss_ddf_aux_0: 0.1359 (0.1387)  loss_mal_aux_1: 0.8643 (0.8872)  loss_bbox_aux_1: 0.1688 (0.1730)  loss_giou_aux_1: 0.3598 (0.3578)  loss_fgl_aux_1: 1.1605 (1.1575)  loss_ddf_aux_1: 0.0091 (0.0091)  loss_mal_pre: 0.8696 (0.8957)  loss_bbox_pre: 0.1852 (0.1904)  loss_giou_pre: 0.3972 (0.3929)  loss_mal_enc_0: 0.9531 (0.9733)  loss_bbox_enc_0: 0.2480 (0.2618)  loss_giou_enc_0: 0.4974 (0.5170)  loss_mal_dn_0: 0.7583 (0.7617)  loss_bbox_dn_0: 0.2825 (0.2742)  loss_giou_dn_0: 0.5747 (0.5751)  loss_fgl_dn_0: 1.2219 (1.2219)  loss_ddf_dn_0: 0.7192 (0.7362)  loss_mal_dn_1: 0.7334 (0.7313)  loss_bbox_dn_1: 0.2015 (0.2031)  loss_giou_dn_1: 0.4351 (0.4249)  loss_fgl_dn_1: 1.1259 (1.1259)  loss_ddf_dn_1: 0.0345 (0.0357)  loss_mal_dn_2: 0.7217 (0.7228)  loss_bbox_dn_2: 0.1937 (0.1950)  loss_giou_dn_2: 0.4253 (0.4115)  loss_fgl_dn_2: 1.1197 (1.1195)  loss_mal_dn_pre: 0.7603 (0.7616)  loss_bbox_dn_pre: 0.2821 (0.2751)  loss_giou_dn_pre: 0.5717 (0.5770)  time: 0.4827  data: 0.1126  max mem: 10532\n",
      "Epoch: [100] Total time: 0:00:07 (0.4872 s / it)\n",
      "Averaged stats: lr: 0.000126  loss: 21.6117 (21.3315)  loss_mal: 0.8354 (0.8713)  loss_bbox: 0.1654 (0.1712)  loss_giou: 0.3572 (0.3557)  loss_fgl: 1.1564 (1.1532)  loss_mal_aux_0: 0.8696 (0.8982)  loss_bbox_aux_0: 0.1869 (0.1908)  loss_giou_aux_0: 0.3983 (0.3937)  loss_fgl_aux_0: 1.1941 (1.1904)  loss_ddf_aux_0: 0.1359 (0.1387)  loss_mal_aux_1: 0.8643 (0.8872)  loss_bbox_aux_1: 0.1688 (0.1730)  loss_giou_aux_1: 0.3598 (0.3578)  loss_fgl_aux_1: 1.1605 (1.1575)  loss_ddf_aux_1: 0.0091 (0.0091)  loss_mal_pre: 0.8696 (0.8957)  loss_bbox_pre: 0.1852 (0.1904)  loss_giou_pre: 0.3972 (0.3929)  loss_mal_enc_0: 0.9531 (0.9733)  loss_bbox_enc_0: 0.2480 (0.2618)  loss_giou_enc_0: 0.4974 (0.5170)  loss_mal_dn_0: 0.7583 (0.7617)  loss_bbox_dn_0: 0.2825 (0.2742)  loss_giou_dn_0: 0.5747 (0.5751)  loss_fgl_dn_0: 1.2219 (1.2219)  loss_ddf_dn_0: 0.7192 (0.7362)  loss_mal_dn_1: 0.7334 (0.7313)  loss_bbox_dn_1: 0.2015 (0.2031)  loss_giou_dn_1: 0.4351 (0.4249)  loss_fgl_dn_1: 1.1259 (1.1259)  loss_ddf_dn_1: 0.0345 (0.0357)  loss_mal_dn_2: 0.7217 (0.7228)  loss_bbox_dn_2: 0.1937 (0.1950)  loss_giou_dn_2: 0.4253 (0.4115)  loss_fgl_dn_2: 1.1197 (1.1195)  loss_mal_dn_pre: 0.7603 (0.7616)  loss_bbox_dn_pre: 0.2821 (0.2751)  loss_giou_dn_pre: 0.5717 (0.5770)\n",
      "Test:  [0/5]  eta: 0:00:03    time: 0.7869  data: 0.6758  max mem: 10532\n"
     ]
    },
    {
     "name": "stderr",
     "output_type": "stream",
     "text": [
      "\u001b[32m2025-03-10 16:33:10.352\u001b[0m | \u001b[1mINFO    \u001b[0m | \u001b[36mdeimkit.trainer\u001b[0m:\u001b[36mtrain\u001b[0m:\u001b[36m312\u001b[0m - \u001b[1mEpoch 100 - Train loss: 21.3315, Eval mAP: 0.6243\u001b[0m\n",
      "\u001b[32m2025-03-10 16:33:10.353\u001b[0m | \u001b[1mINFO    \u001b[0m | \u001b[36mdeimkit.trainer\u001b[0m:\u001b[36mtrain\u001b[0m:\u001b[36m315\u001b[0m - \u001b[1mBest stats: {'epoch': 97, 'coco_eval_bbox': 0.6331483399026064}\u001b[0m\n"
     ]
    },
    {
     "name": "stdout",
     "output_type": "stream",
     "text": [
      "Test:  [4/5]  eta: 0:00:00    time: 0.2857  data: 0.1495  max mem: 10532\n",
      "Test: Total time: 0:00:01 (0.2977 s / it)\n",
      "Averaged stats: \n",
      "Accumulating evaluation results...\n",
      "COCOeval_opt.accumulate() finished...\n",
      "DONE (t=0.02s).\n",
      "IoU metric: bbox\n",
      " Average Precision  (AP) @[ IoU=0.50:0.95 | area=   all | maxDets=100 ] = 0.624\n",
      " Average Precision  (AP) @[ IoU=0.50      | area=   all | maxDets=100 ] = 0.889\n",
      " Average Precision  (AP) @[ IoU=0.75      | area=   all | maxDets=100 ] = 0.698\n",
      " Average Precision  (AP) @[ IoU=0.50:0.95 | area= small | maxDets=100 ] = 0.327\n",
      " Average Precision  (AP) @[ IoU=0.50:0.95 | area=medium | maxDets=100 ] = 0.634\n",
      " Average Precision  (AP) @[ IoU=0.50:0.95 | area= large | maxDets=100 ] = 0.490\n",
      " Average Recall     (AR) @[ IoU=0.50:0.95 | area=   all | maxDets=  1 ] = 0.416\n",
      " Average Recall     (AR) @[ IoU=0.50:0.95 | area=   all | maxDets= 10 ] = 0.690\n",
      " Average Recall     (AR) @[ IoU=0.50:0.95 | area=   all | maxDets=100 ] = 0.776\n",
      " Average Recall     (AR) @[ IoU=0.50:0.95 | area= small | maxDets=100 ] = 0.760\n",
      " Average Recall     (AR) @[ IoU=0.50:0.95 | area=medium | maxDets=100 ] = 0.778\n",
      " Average Recall     (AR) @[ IoU=0.50:0.95 | area= large | maxDets=100 ] = 0.785\n",
      " Average Recall     (AR) @[ IoU=0.50      | area=   all | maxDets=100 ] = 0.994\n",
      " Average Recall     (AR) @[ IoU=0.75      | area=   all | maxDets=100 ] = 0.899\n",
      "Epoch: [101]  [ 0/15]  eta: 0:00:22  lr: 0.000126  loss: 21.6139 (21.6139)  loss_mal: 0.8965 (0.8965)  loss_bbox: 0.2263 (0.2263)  loss_giou: 0.3407 (0.3407)  loss_fgl: 1.1521 (1.1521)  loss_mal_aux_0: 0.9111 (0.9111)  loss_bbox_aux_0: 0.2472 (0.2472)  loss_giou_aux_0: 0.3732 (0.3732)  loss_fgl_aux_0: 1.2021 (1.2021)  loss_ddf_aux_0: 0.1406 (0.1406)  loss_mal_aux_1: 0.9062 (0.9062)  loss_bbox_aux_1: 0.2308 (0.2308)  loss_giou_aux_1: 0.3428 (0.3428)  loss_fgl_aux_1: 1.1584 (1.1584)  loss_ddf_aux_1: 0.0106 (0.0106)  loss_mal_pre: 0.9111 (0.9111)  loss_bbox_pre: 0.2460 (0.2460)  loss_giou_pre: 0.3725 (0.3725)  loss_mal_enc_0: 0.9688 (0.9688)  loss_bbox_enc_0: 0.2996 (0.2996)  loss_giou_enc_0: 0.4713 (0.4713)  loss_mal_dn_0: 0.7510 (0.7510)  loss_bbox_dn_0: 0.3286 (0.3286)  loss_giou_dn_0: 0.5453 (0.5453)  loss_fgl_dn_0: 1.2257 (1.2257)  loss_ddf_dn_0: 0.7621 (0.7621)  loss_mal_dn_1: 0.7158 (0.7158)  loss_bbox_dn_1: 0.2490 (0.2490)  loss_giou_dn_1: 0.3940 (0.3940)  loss_fgl_dn_1: 1.1273 (1.1273)  loss_ddf_dn_1: 0.0406 (0.0406)  loss_mal_dn_2: 0.7061 (0.7061)  loss_bbox_dn_2: 0.2347 (0.2347)  loss_giou_dn_2: 0.3790 (0.3790)  loss_fgl_dn_2: 1.1188 (1.1188)  loss_mal_dn_pre: 0.7495 (0.7495)  loss_bbox_dn_pre: 0.3309 (0.3309)  loss_giou_dn_pre: 0.5475 (0.5475)  time: 1.4985  data: 0.9833  max mem: 10532\n"
     ]
    },
    {
     "name": "stderr",
     "output_type": "stream",
     "text": [
      "\u001b[32m2025-03-10 16:33:17.382\u001b[0m | \u001b[1mINFO    \u001b[0m | \u001b[36mdeimkit.trainer\u001b[0m:\u001b[36mevaluate\u001b[0m:\u001b[36m331\u001b[0m - \u001b[1mEvaluating model...\u001b[0m\n"
     ]
    },
    {
     "name": "stdout",
     "output_type": "stream",
     "text": [
      "Epoch: [101]  [14/15]  eta: 0:00:00  lr: 0.000124  loss: 21.4317 (21.3581)  loss_mal: 0.8682 (0.8664)  loss_bbox: 0.1738 (0.1773)  loss_giou: 0.3535 (0.3533)  loss_fgl: 1.1500 (1.1517)  loss_mal_aux_0: 0.8711 (0.8927)  loss_bbox_aux_0: 0.1934 (0.1986)  loss_giou_aux_0: 0.3863 (0.3876)  loss_fgl_aux_0: 1.1964 (1.1914)  loss_ddf_aux_0: 0.1444 (0.1432)  loss_mal_aux_1: 0.8608 (0.8701)  loss_bbox_aux_1: 0.1730 (0.1794)  loss_giou_aux_1: 0.3534 (0.3560)  loss_fgl_aux_1: 1.1524 (1.1553)  loss_ddf_aux_1: 0.0093 (0.0094)  loss_mal_pre: 0.8701 (0.8906)  loss_bbox_pre: 0.1933 (0.1981)  loss_giou_pre: 0.3880 (0.3873)  loss_mal_enc_0: 0.9561 (0.9739)  loss_bbox_enc_0: 0.2591 (0.2583)  loss_giou_enc_0: 0.4777 (0.4946)  loss_mal_dn_0: 0.7573 (0.7599)  loss_bbox_dn_0: 0.2764 (0.2851)  loss_giou_dn_0: 0.5671 (0.5655)  loss_fgl_dn_0: 1.2347 (1.2340)  loss_ddf_dn_0: 0.7987 (0.7875)  loss_mal_dn_1: 0.7295 (0.7319)  loss_bbox_dn_1: 0.2135 (0.2120)  loss_giou_dn_1: 0.4133 (0.4180)  loss_fgl_dn_1: 1.1273 (1.1286)  loss_ddf_dn_1: 0.0364 (0.0361)  loss_mal_dn_2: 0.7183 (0.7208)  loss_bbox_dn_2: 0.1994 (0.2036)  loss_giou_dn_2: 0.3995 (0.4057)  loss_fgl_dn_2: 1.1188 (1.1221)  loss_mal_dn_pre: 0.7573 (0.7594)  loss_bbox_dn_pre: 0.2793 (0.2851)  loss_giou_dn_pre: 0.5676 (0.5676)  time: 0.4626  data: 0.0861  max mem: 10532\n",
      "Epoch: [101] Total time: 0:00:07 (0.4672 s / it)\n",
      "Averaged stats: lr: 0.000124  loss: 21.4317 (21.3581)  loss_mal: 0.8682 (0.8664)  loss_bbox: 0.1738 (0.1773)  loss_giou: 0.3535 (0.3533)  loss_fgl: 1.1500 (1.1517)  loss_mal_aux_0: 0.8711 (0.8927)  loss_bbox_aux_0: 0.1934 (0.1986)  loss_giou_aux_0: 0.3863 (0.3876)  loss_fgl_aux_0: 1.1964 (1.1914)  loss_ddf_aux_0: 0.1444 (0.1432)  loss_mal_aux_1: 0.8608 (0.8701)  loss_bbox_aux_1: 0.1730 (0.1794)  loss_giou_aux_1: 0.3534 (0.3560)  loss_fgl_aux_1: 1.1524 (1.1553)  loss_ddf_aux_1: 0.0093 (0.0094)  loss_mal_pre: 0.8701 (0.8906)  loss_bbox_pre: 0.1933 (0.1981)  loss_giou_pre: 0.3880 (0.3873)  loss_mal_enc_0: 0.9561 (0.9739)  loss_bbox_enc_0: 0.2591 (0.2583)  loss_giou_enc_0: 0.4777 (0.4946)  loss_mal_dn_0: 0.7573 (0.7599)  loss_bbox_dn_0: 0.2764 (0.2851)  loss_giou_dn_0: 0.5671 (0.5655)  loss_fgl_dn_0: 1.2347 (1.2340)  loss_ddf_dn_0: 0.7987 (0.7875)  loss_mal_dn_1: 0.7295 (0.7319)  loss_bbox_dn_1: 0.2135 (0.2120)  loss_giou_dn_1: 0.4133 (0.4180)  loss_fgl_dn_1: 1.1273 (1.1286)  loss_ddf_dn_1: 0.0364 (0.0361)  loss_mal_dn_2: 0.7183 (0.7208)  loss_bbox_dn_2: 0.1994 (0.2036)  loss_giou_dn_2: 0.3995 (0.4057)  loss_fgl_dn_2: 1.1188 (1.1221)  loss_mal_dn_pre: 0.7573 (0.7594)  loss_bbox_dn_pre: 0.2793 (0.2851)  loss_giou_dn_pre: 0.5676 (0.5676)\n",
      "Test:  [0/5]  eta: 0:00:03    time: 0.7380  data: 0.6241  max mem: 10532\n"
     ]
    },
    {
     "name": "stderr",
     "output_type": "stream",
     "text": [
      "\u001b[32m2025-03-10 16:33:18.853\u001b[0m | \u001b[1mINFO    \u001b[0m | \u001b[36mdeimkit.trainer\u001b[0m:\u001b[36mtrain\u001b[0m:\u001b[36m312\u001b[0m - \u001b[1mEpoch 101 - Train loss: 21.3581, Eval mAP: 0.6255\u001b[0m\n",
      "\u001b[32m2025-03-10 16:33:18.853\u001b[0m | \u001b[1mINFO    \u001b[0m | \u001b[36mdeimkit.trainer\u001b[0m:\u001b[36mtrain\u001b[0m:\u001b[36m315\u001b[0m - \u001b[1mBest stats: {'epoch': 97, 'coco_eval_bbox': 0.6331483399026064}\u001b[0m\n"
     ]
    },
    {
     "name": "stdout",
     "output_type": "stream",
     "text": [
      "Test:  [4/5]  eta: 0:00:00    time: 0.2758  data: 0.1395  max mem: 10532\n",
      "Test: Total time: 0:00:01 (0.2878 s / it)\n",
      "Averaged stats: \n",
      "Accumulating evaluation results...\n",
      "COCOeval_opt.accumulate() finished...\n",
      "DONE (t=0.02s).\n",
      "IoU metric: bbox\n",
      " Average Precision  (AP) @[ IoU=0.50:0.95 | area=   all | maxDets=100 ] = 0.625\n",
      " Average Precision  (AP) @[ IoU=0.50      | area=   all | maxDets=100 ] = 0.887\n",
      " Average Precision  (AP) @[ IoU=0.75      | area=   all | maxDets=100 ] = 0.730\n",
      " Average Precision  (AP) @[ IoU=0.50:0.95 | area= small | maxDets=100 ] = 0.447\n",
      " Average Precision  (AP) @[ IoU=0.50:0.95 | area=medium | maxDets=100 ] = 0.632\n",
      " Average Precision  (AP) @[ IoU=0.50:0.95 | area= large | maxDets=100 ] = 0.488\n",
      " Average Recall     (AR) @[ IoU=0.50:0.95 | area=   all | maxDets=  1 ] = 0.414\n",
      " Average Recall     (AR) @[ IoU=0.50:0.95 | area=   all | maxDets= 10 ] = 0.692\n",
      " Average Recall     (AR) @[ IoU=0.50:0.95 | area=   all | maxDets=100 ] = 0.781\n",
      " Average Recall     (AR) @[ IoU=0.50:0.95 | area= small | maxDets=100 ] = 0.720\n",
      " Average Recall     (AR) @[ IoU=0.50:0.95 | area=medium | maxDets=100 ] = 0.780\n",
      " Average Recall     (AR) @[ IoU=0.50:0.95 | area= large | maxDets=100 ] = 0.787\n",
      " Average Recall     (AR) @[ IoU=0.50      | area=   all | maxDets=100 ] = 0.994\n",
      " Average Recall     (AR) @[ IoU=0.75      | area=   all | maxDets=100 ] = 0.924\n",
      "Epoch: [102]  [ 0/15]  eta: 0:00:24  lr: 0.000123  loss: 20.5993 (20.5993)  loss_mal: 0.8452 (0.8452)  loss_bbox: 0.1340 (0.1340)  loss_giou: 0.3722 (0.3722)  loss_fgl: 1.1438 (1.1438)  loss_mal_aux_0: 0.8560 (0.8560)  loss_bbox_aux_0: 0.1412 (0.1412)  loss_giou_aux_0: 0.3963 (0.3963)  loss_fgl_aux_0: 1.1735 (1.1735)  loss_ddf_aux_0: 0.1130 (0.1130)  loss_mal_aux_1: 0.8564 (0.8564)  loss_bbox_aux_1: 0.1354 (0.1354)  loss_giou_aux_1: 0.3720 (0.3720)  loss_fgl_aux_1: 1.1502 (1.1502)  loss_ddf_aux_1: 0.0080 (0.0080)  loss_mal_pre: 0.8555 (0.8555)  loss_bbox_pre: 0.1414 (0.1414)  loss_giou_pre: 0.3984 (0.3984)  loss_mal_enc_0: 0.8970 (0.8970)  loss_bbox_enc_0: 0.1891 (0.1891)  loss_giou_enc_0: 0.5083 (0.5083)  loss_mal_dn_0: 0.7632 (0.7632)  loss_bbox_dn_0: 0.2217 (0.2217)  loss_giou_dn_0: 0.5583 (0.5583)  loss_fgl_dn_0: 1.2248 (1.2248)  loss_ddf_dn_0: 0.7457 (0.7457)  loss_mal_dn_1: 0.7280 (0.7280)  loss_bbox_dn_1: 0.1564 (0.1564)  loss_giou_dn_1: 0.4063 (0.4063)  loss_fgl_dn_1: 1.1333 (1.1333)  loss_ddf_dn_1: 0.0345 (0.0345)  loss_mal_dn_2: 0.7212 (0.7212)  loss_bbox_dn_2: 0.1516 (0.1516)  loss_giou_dn_2: 0.3975 (0.3975)  loss_fgl_dn_2: 1.1259 (1.1259)  loss_mal_dn_pre: 0.7627 (0.7627)  loss_bbox_dn_pre: 0.2229 (0.2229)  loss_giou_dn_pre: 0.5583 (0.5583)  time: 1.6240  data: 1.1342  max mem: 10532\n"
     ]
    },
    {
     "name": "stderr",
     "output_type": "stream",
     "text": [
      "\u001b[32m2025-03-10 16:33:25.910\u001b[0m | \u001b[1mINFO    \u001b[0m | \u001b[36mdeimkit.trainer\u001b[0m:\u001b[36mevaluate\u001b[0m:\u001b[36m331\u001b[0m - \u001b[1mEvaluating model...\u001b[0m\n"
     ]
    },
    {
     "name": "stdout",
     "output_type": "stream",
     "text": [
      "Epoch: [102]  [14/15]  eta: 0:00:00  lr: 0.000121  loss: 20.8265 (20.9736)  loss_mal: 0.8452 (0.8527)  loss_bbox: 0.1613 (0.1579)  loss_giou: 0.3464 (0.3574)  loss_fgl: 1.1427 (1.1448)  loss_mal_aux_0: 0.8745 (0.8750)  loss_bbox_aux_0: 0.1825 (0.1772)  loss_giou_aux_0: 0.3836 (0.3914)  loss_fgl_aux_0: 1.1777 (1.1803)  loss_ddf_aux_0: 0.1329 (0.1332)  loss_mal_aux_1: 0.8472 (0.8616)  loss_bbox_aux_1: 0.1621 (0.1596)  loss_giou_aux_1: 0.3471 (0.3594)  loss_fgl_aux_1: 1.1463 (1.1485)  loss_ddf_aux_1: 0.0095 (0.0097)  loss_mal_pre: 0.8740 (0.8751)  loss_bbox_pre: 0.1812 (0.1769)  loss_giou_pre: 0.3819 (0.3920)  loss_mal_enc_0: 0.9355 (0.9436)  loss_bbox_enc_0: 0.2200 (0.2239)  loss_giou_enc_0: 0.4586 (0.4871)  loss_mal_dn_0: 0.7588 (0.7579)  loss_bbox_dn_0: 0.2581 (0.2645)  loss_giou_dn_0: 0.5583 (0.5740)  loss_fgl_dn_0: 1.2147 (1.2187)  loss_ddf_dn_0: 0.6862 (0.7166)  loss_mal_dn_1: 0.7280 (0.7276)  loss_bbox_dn_1: 0.1966 (0.1949)  loss_giou_dn_1: 0.4149 (0.4233)  loss_fgl_dn_1: 1.1239 (1.1235)  loss_ddf_dn_1: 0.0391 (0.0382)  loss_mal_dn_2: 0.7163 (0.7163)  loss_bbox_dn_2: 0.1900 (0.1859)  loss_giou_dn_2: 0.4048 (0.4089)  loss_fgl_dn_2: 1.1186 (1.1158)  loss_mal_dn_pre: 0.7598 (0.7583)  loss_bbox_dn_pre: 0.2567 (0.2662)  loss_giou_dn_pre: 0.5583 (0.5755)  time: 0.4642  data: 0.0946  max mem: 10532\n",
      "Epoch: [102] Total time: 0:00:07 (0.4691 s / it)\n",
      "Averaged stats: lr: 0.000121  loss: 20.8265 (20.9736)  loss_mal: 0.8452 (0.8527)  loss_bbox: 0.1613 (0.1579)  loss_giou: 0.3464 (0.3574)  loss_fgl: 1.1427 (1.1448)  loss_mal_aux_0: 0.8745 (0.8750)  loss_bbox_aux_0: 0.1825 (0.1772)  loss_giou_aux_0: 0.3836 (0.3914)  loss_fgl_aux_0: 1.1777 (1.1803)  loss_ddf_aux_0: 0.1329 (0.1332)  loss_mal_aux_1: 0.8472 (0.8616)  loss_bbox_aux_1: 0.1621 (0.1596)  loss_giou_aux_1: 0.3471 (0.3594)  loss_fgl_aux_1: 1.1463 (1.1485)  loss_ddf_aux_1: 0.0095 (0.0097)  loss_mal_pre: 0.8740 (0.8751)  loss_bbox_pre: 0.1812 (0.1769)  loss_giou_pre: 0.3819 (0.3920)  loss_mal_enc_0: 0.9355 (0.9436)  loss_bbox_enc_0: 0.2200 (0.2239)  loss_giou_enc_0: 0.4586 (0.4871)  loss_mal_dn_0: 0.7588 (0.7579)  loss_bbox_dn_0: 0.2581 (0.2645)  loss_giou_dn_0: 0.5583 (0.5740)  loss_fgl_dn_0: 1.2147 (1.2187)  loss_ddf_dn_0: 0.6862 (0.7166)  loss_mal_dn_1: 0.7280 (0.7276)  loss_bbox_dn_1: 0.1966 (0.1949)  loss_giou_dn_1: 0.4149 (0.4233)  loss_fgl_dn_1: 1.1239 (1.1235)  loss_ddf_dn_1: 0.0391 (0.0382)  loss_mal_dn_2: 0.7163 (0.7163)  loss_bbox_dn_2: 0.1900 (0.1859)  loss_giou_dn_2: 0.4048 (0.4089)  loss_fgl_dn_2: 1.1186 (1.1158)  loss_mal_dn_pre: 0.7598 (0.7583)  loss_bbox_dn_pre: 0.2567 (0.2662)  loss_giou_dn_pre: 0.5583 (0.5755)\n",
      "Test:  [0/5]  eta: 0:00:04    time: 0.8078  data: 0.6792  max mem: 10532\n"
     ]
    },
    {
     "name": "stderr",
     "output_type": "stream",
     "text": [
      "\u001b[32m2025-03-10 16:33:27.471\u001b[0m | \u001b[1mINFO    \u001b[0m | \u001b[36mdeimkit.trainer\u001b[0m:\u001b[36mtrain\u001b[0m:\u001b[36m312\u001b[0m - \u001b[1mEpoch 102 - Train loss: 20.9736, Eval mAP: 0.6202\u001b[0m\n",
      "\u001b[32m2025-03-10 16:33:27.471\u001b[0m | \u001b[1mINFO    \u001b[0m | \u001b[36mdeimkit.trainer\u001b[0m:\u001b[36mtrain\u001b[0m:\u001b[36m315\u001b[0m - \u001b[1mBest stats: {'epoch': 97, 'coco_eval_bbox': 0.6331483399026064}\u001b[0m\n"
     ]
    },
    {
     "name": "stdout",
     "output_type": "stream",
     "text": [
      "Test:  [4/5]  eta: 0:00:00    time: 0.2923  data: 0.1457  max mem: 10532\n",
      "Test: Total time: 0:00:01 (0.3056 s / it)\n",
      "Averaged stats: \n",
      "Accumulating evaluation results...\n",
      "COCOeval_opt.accumulate() finished...\n",
      "DONE (t=0.02s).\n",
      "IoU metric: bbox\n",
      " Average Precision  (AP) @[ IoU=0.50:0.95 | area=   all | maxDets=100 ] = 0.620\n",
      " Average Precision  (AP) @[ IoU=0.50      | area=   all | maxDets=100 ] = 0.885\n",
      " Average Precision  (AP) @[ IoU=0.75      | area=   all | maxDets=100 ] = 0.699\n",
      " Average Precision  (AP) @[ IoU=0.50:0.95 | area= small | maxDets=100 ] = 0.416\n",
      " Average Precision  (AP) @[ IoU=0.50:0.95 | area=medium | maxDets=100 ] = 0.632\n",
      " Average Precision  (AP) @[ IoU=0.50:0.95 | area= large | maxDets=100 ] = 0.485\n",
      " Average Recall     (AR) @[ IoU=0.50:0.95 | area=   all | maxDets=  1 ] = 0.414\n",
      " Average Recall     (AR) @[ IoU=0.50:0.95 | area=   all | maxDets= 10 ] = 0.679\n",
      " Average Recall     (AR) @[ IoU=0.50:0.95 | area=   all | maxDets=100 ] = 0.773\n",
      " Average Recall     (AR) @[ IoU=0.50:0.95 | area= small | maxDets=100 ] = 0.720\n",
      " Average Recall     (AR) @[ IoU=0.50:0.95 | area=medium | maxDets=100 ] = 0.774\n",
      " Average Recall     (AR) @[ IoU=0.50:0.95 | area= large | maxDets=100 ] = 0.786\n",
      " Average Recall     (AR) @[ IoU=0.50      | area=   all | maxDets=100 ] = 0.999\n",
      " Average Recall     (AR) @[ IoU=0.75      | area=   all | maxDets=100 ] = 0.930\n",
      "Epoch: [103]  [ 0/15]  eta: 0:00:22  lr: 0.000121  loss: 22.6064 (22.6064)  loss_mal: 0.9043 (0.9043)  loss_bbox: 0.2169 (0.2169)  loss_giou: 0.3931 (0.3931)  loss_fgl: 1.1774 (1.1774)  loss_mal_aux_0: 0.9272 (0.9272)  loss_bbox_aux_0: 0.2521 (0.2521)  loss_giou_aux_0: 0.4510 (0.4510)  loss_fgl_aux_0: 1.2197 (1.2197)  loss_ddf_aux_0: 0.1723 (0.1723)  loss_mal_aux_1: 0.9297 (0.9297)  loss_bbox_aux_1: 0.2183 (0.2183)  loss_giou_aux_1: 0.3988 (0.3988)  loss_fgl_aux_1: 1.1770 (1.1770)  loss_ddf_aux_1: 0.0115 (0.0115)  loss_mal_pre: 0.9160 (0.9160)  loss_bbox_pre: 0.2533 (0.2533)  loss_giou_pre: 0.4526 (0.4526)  loss_mal_enc_0: 0.9800 (0.9800)  loss_bbox_enc_0: 0.3715 (0.3715)  loss_giou_enc_0: 0.6490 (0.6490)  loss_mal_dn_0: 0.7871 (0.7871)  loss_bbox_dn_0: 0.3058 (0.3058)  loss_giou_dn_0: 0.5693 (0.5693)  loss_fgl_dn_0: 1.2429 (1.2429)  loss_ddf_dn_0: 0.7398 (0.7398)  loss_mal_dn_1: 0.7798 (0.7798)  loss_bbox_dn_1: 0.2274 (0.2274)  loss_giou_dn_1: 0.4296 (0.4296)  loss_fgl_dn_1: 1.1605 (1.1605)  loss_ddf_dn_1: 0.0378 (0.0378)  loss_mal_dn_2: 0.7739 (0.7739)  loss_bbox_dn_2: 0.2194 (0.2194)  loss_giou_dn_2: 0.4150 (0.4150)  loss_fgl_dn_2: 1.1577 (1.1577)  loss_mal_dn_pre: 0.7896 (0.7896)  loss_bbox_dn_pre: 0.3119 (0.3119)  loss_giou_dn_pre: 0.5870 (0.5870)  time: 1.4782  data: 1.0866  max mem: 10532\n"
     ]
    },
    {
     "name": "stderr",
     "output_type": "stream",
     "text": [
      "\u001b[32m2025-03-10 16:33:34.354\u001b[0m | \u001b[1mINFO    \u001b[0m | \u001b[36mdeimkit.trainer\u001b[0m:\u001b[36m_save_checkpoint\u001b[0m:\u001b[36m363\u001b[0m - \u001b[1mSaving checkpoint to outputs/deim_hgnetv2_s_coco_ema_tune/checkpoint0103.pth\u001b[0m\n"
     ]
    },
    {
     "name": "stdout",
     "output_type": "stream",
     "text": [
      "Epoch: [103]  [14/15]  eta: 0:00:00  lr: 0.000119  loss: 21.3456 (21.4532)  loss_mal: 0.8691 (0.8938)  loss_bbox: 0.1715 (0.1735)  loss_giou: 0.3748 (0.3700)  loss_fgl: 1.1504 (1.1543)  loss_mal_aux_0: 0.9014 (0.9082)  loss_bbox_aux_0: 0.1806 (0.1918)  loss_giou_aux_0: 0.4059 (0.4053)  loss_fgl_aux_0: 1.1908 (1.1887)  loss_ddf_aux_0: 0.1276 (0.1318)  loss_mal_aux_1: 0.8901 (0.9006)  loss_bbox_aux_1: 0.1728 (0.1743)  loss_giou_aux_1: 0.3751 (0.3717)  loss_fgl_aux_1: 1.1544 (1.1565)  loss_ddf_aux_1: 0.0098 (0.0107)  loss_mal_pre: 0.8965 (0.9054)  loss_bbox_pre: 0.1803 (0.1920)  loss_giou_pre: 0.4039 (0.4055)  loss_mal_enc_0: 0.9380 (0.9507)  loss_bbox_enc_0: 0.2305 (0.2454)  loss_giou_enc_0: 0.4897 (0.5078)  loss_mal_dn_0: 0.7573 (0.7596)  loss_bbox_dn_0: 0.2638 (0.2779)  loss_giou_dn_0: 0.5763 (0.5861)  loss_fgl_dn_0: 1.2158 (1.2158)  loss_ddf_dn_0: 0.7237 (0.7325)  loss_mal_dn_1: 0.7295 (0.7376)  loss_bbox_dn_1: 0.1997 (0.2053)  loss_giou_dn_1: 0.4296 (0.4333)  loss_fgl_dn_1: 1.1312 (1.1283)  loss_ddf_dn_1: 0.0386 (0.0400)  loss_mal_dn_2: 0.7236 (0.7285)  loss_bbox_dn_2: 0.1933 (0.1982)  loss_giou_dn_2: 0.4189 (0.4211)  loss_fgl_dn_2: 1.1239 (1.1231)  loss_mal_dn_pre: 0.7568 (0.7605)  loss_bbox_dn_pre: 0.2657 (0.2794)  loss_giou_dn_pre: 0.5833 (0.5878)  time: 0.4538  data: 0.0932  max mem: 10532\n",
      "Epoch: [103] Total time: 0:00:06 (0.4578 s / it)\n",
      "Averaged stats: lr: 0.000119  loss: 21.3456 (21.4532)  loss_mal: 0.8691 (0.8938)  loss_bbox: 0.1715 (0.1735)  loss_giou: 0.3748 (0.3700)  loss_fgl: 1.1504 (1.1543)  loss_mal_aux_0: 0.9014 (0.9082)  loss_bbox_aux_0: 0.1806 (0.1918)  loss_giou_aux_0: 0.4059 (0.4053)  loss_fgl_aux_0: 1.1908 (1.1887)  loss_ddf_aux_0: 0.1276 (0.1318)  loss_mal_aux_1: 0.8901 (0.9006)  loss_bbox_aux_1: 0.1728 (0.1743)  loss_giou_aux_1: 0.3751 (0.3717)  loss_fgl_aux_1: 1.1544 (1.1565)  loss_ddf_aux_1: 0.0098 (0.0107)  loss_mal_pre: 0.8965 (0.9054)  loss_bbox_pre: 0.1803 (0.1920)  loss_giou_pre: 0.4039 (0.4055)  loss_mal_enc_0: 0.9380 (0.9507)  loss_bbox_enc_0: 0.2305 (0.2454)  loss_giou_enc_0: 0.4897 (0.5078)  loss_mal_dn_0: 0.7573 (0.7596)  loss_bbox_dn_0: 0.2638 (0.2779)  loss_giou_dn_0: 0.5763 (0.5861)  loss_fgl_dn_0: 1.2158 (1.2158)  loss_ddf_dn_0: 0.7237 (0.7325)  loss_mal_dn_1: 0.7295 (0.7376)  loss_bbox_dn_1: 0.1997 (0.2053)  loss_giou_dn_1: 0.4296 (0.4333)  loss_fgl_dn_1: 1.1312 (1.1283)  loss_ddf_dn_1: 0.0386 (0.0400)  loss_mal_dn_2: 0.7236 (0.7285)  loss_bbox_dn_2: 0.1933 (0.1982)  loss_giou_dn_2: 0.4189 (0.4211)  loss_fgl_dn_2: 1.1239 (1.1231)  loss_mal_dn_pre: 0.7568 (0.7605)  loss_bbox_dn_pre: 0.2657 (0.2794)  loss_giou_dn_pre: 0.5833 (0.5878)\n"
     ]
    },
    {
     "name": "stderr",
     "output_type": "stream",
     "text": [
      "\u001b[32m2025-03-10 16:33:34.603\u001b[0m | \u001b[1mINFO    \u001b[0m | \u001b[36mdeimkit.trainer\u001b[0m:\u001b[36m_save_checkpoint\u001b[0m:\u001b[36m380\u001b[0m - \u001b[1mCheckpoint saved to outputs/deim_hgnetv2_s_coco_ema_tune/checkpoint0103.pth\u001b[0m\n",
      "\u001b[32m2025-03-10 16:33:34.605\u001b[0m | \u001b[1mINFO    \u001b[0m | \u001b[36mdeimkit.trainer\u001b[0m:\u001b[36mevaluate\u001b[0m:\u001b[36m331\u001b[0m - \u001b[1mEvaluating model...\u001b[0m\n"
     ]
    },
    {
     "name": "stdout",
     "output_type": "stream",
     "text": [
      "Test:  [0/5]  eta: 0:00:03    time: 0.7584  data: 0.6481  max mem: 10532\n"
     ]
    },
    {
     "name": "stderr",
     "output_type": "stream",
     "text": [
      "\u001b[32m2025-03-10 16:33:36.043\u001b[0m | \u001b[1mINFO    \u001b[0m | \u001b[36mdeimkit.trainer\u001b[0m:\u001b[36mtrain\u001b[0m:\u001b[36m312\u001b[0m - \u001b[1mEpoch 103 - Train loss: 21.4532, Eval mAP: 0.6313\u001b[0m\n",
      "\u001b[32m2025-03-10 16:33:36.044\u001b[0m | \u001b[1mINFO    \u001b[0m | \u001b[36mdeimkit.trainer\u001b[0m:\u001b[36mtrain\u001b[0m:\u001b[36m315\u001b[0m - \u001b[1mBest stats: {'epoch': 97, 'coco_eval_bbox': 0.6331483399026064}\u001b[0m\n"
     ]
    },
    {
     "name": "stdout",
     "output_type": "stream",
     "text": [
      "Test:  [4/5]  eta: 0:00:00    time: 0.2704  data: 0.1387  max mem: 10532\n",
      "Test: Total time: 0:00:01 (0.2819 s / it)\n",
      "Averaged stats: \n",
      "Accumulating evaluation results...\n",
      "COCOeval_opt.accumulate() finished...\n",
      "DONE (t=0.02s).\n",
      "IoU metric: bbox\n",
      " Average Precision  (AP) @[ IoU=0.50:0.95 | area=   all | maxDets=100 ] = 0.631\n",
      " Average Precision  (AP) @[ IoU=0.50      | area=   all | maxDets=100 ] = 0.891\n",
      " Average Precision  (AP) @[ IoU=0.75      | area=   all | maxDets=100 ] = 0.716\n",
      " Average Precision  (AP) @[ IoU=0.50:0.95 | area= small | maxDets=100 ] = 0.509\n",
      " Average Precision  (AP) @[ IoU=0.50:0.95 | area=medium | maxDets=100 ] = 0.635\n",
      " Average Precision  (AP) @[ IoU=0.50:0.95 | area= large | maxDets=100 ] = 0.486\n",
      " Average Recall     (AR) @[ IoU=0.50:0.95 | area=   all | maxDets=  1 ] = 0.416\n",
      " Average Recall     (AR) @[ IoU=0.50:0.95 | area=   all | maxDets= 10 ] = 0.687\n",
      " Average Recall     (AR) @[ IoU=0.50:0.95 | area=   all | maxDets=100 ] = 0.782\n",
      " Average Recall     (AR) @[ IoU=0.50:0.95 | area= small | maxDets=100 ] = 0.740\n",
      " Average Recall     (AR) @[ IoU=0.50:0.95 | area=medium | maxDets=100 ] = 0.787\n",
      " Average Recall     (AR) @[ IoU=0.50:0.95 | area= large | maxDets=100 ] = 0.786\n",
      " Average Recall     (AR) @[ IoU=0.50      | area=   all | maxDets=100 ] = 0.999\n",
      " Average Recall     (AR) @[ IoU=0.75      | area=   all | maxDets=100 ] = 0.926\n",
      "Epoch: [104]  [ 0/15]  eta: 0:00:27  lr: 0.000119  loss: 22.0071 (22.0071)  loss_mal: 0.8589 (0.8589)  loss_bbox: 0.1823 (0.1823)  loss_giou: 0.3697 (0.3697)  loss_fgl: 1.1769 (1.1769)  loss_mal_aux_0: 0.8789 (0.8789)  loss_bbox_aux_0: 0.2003 (0.2003)  loss_giou_aux_0: 0.4064 (0.4064)  loss_fgl_aux_0: 1.2170 (1.2170)  loss_ddf_aux_0: 0.1587 (0.1587)  loss_mal_aux_1: 0.8726 (0.8726)  loss_bbox_aux_1: 0.1847 (0.1847)  loss_giou_aux_1: 0.3756 (0.3756)  loss_fgl_aux_1: 1.1762 (1.1762)  loss_ddf_aux_1: 0.0104 (0.0104)  loss_mal_pre: 0.8750 (0.8750)  loss_bbox_pre: 0.2002 (0.2002)  loss_giou_pre: 0.4118 (0.4118)  loss_mal_enc_0: 1.0117 (1.0117)  loss_bbox_enc_0: 0.3107 (0.3107)  loss_giou_enc_0: 0.5711 (0.5711)  loss_mal_dn_0: 0.7539 (0.7539)  loss_bbox_dn_0: 0.2820 (0.2820)  loss_giou_dn_0: 0.5778 (0.5778)  loss_fgl_dn_0: 1.2817 (1.2817)  loss_ddf_dn_0: 1.0560 (1.0560)  loss_mal_dn_1: 0.7280 (0.7280)  loss_bbox_dn_1: 0.2008 (0.2008)  loss_giou_dn_1: 0.4082 (0.4082)  loss_fgl_dn_1: 1.1583 (1.1583)  loss_ddf_dn_1: 0.0554 (0.0554)  loss_mal_dn_2: 0.7153 (0.7153)  loss_bbox_dn_2: 0.1940 (0.1940)  loss_giou_dn_2: 0.3953 (0.3953)  loss_fgl_dn_2: 1.1473 (1.1473)  loss_mal_dn_pre: 0.7520 (0.7520)  loss_bbox_dn_pre: 0.2826 (0.2826)  loss_giou_dn_pre: 0.5693 (0.5693)  time: 1.8538  data: 1.3447  max mem: 10532\n"
     ]
    },
    {
     "name": "stderr",
     "output_type": "stream",
     "text": [
      "\u001b[32m2025-03-10 16:33:43.273\u001b[0m | \u001b[1mINFO    \u001b[0m | \u001b[36mdeimkit.trainer\u001b[0m:\u001b[36mevaluate\u001b[0m:\u001b[36m331\u001b[0m - \u001b[1mEvaluating model...\u001b[0m\n"
     ]
    },
    {
     "name": "stdout",
     "output_type": "stream",
     "text": [
      "Epoch: [104]  [14/15]  eta: 0:00:00  lr: 0.000117  loss: 21.3239 (21.2779)  loss_mal: 0.8647 (0.8830)  loss_bbox: 0.1615 (0.1658)  loss_giou: 0.3472 (0.3521)  loss_fgl: 1.1533 (1.1512)  loss_mal_aux_0: 0.8794 (0.9085)  loss_bbox_aux_0: 0.1816 (0.1853)  loss_giou_aux_0: 0.3826 (0.3894)  loss_fgl_aux_0: 1.1911 (1.1886)  loss_ddf_aux_0: 0.1376 (0.1381)  loss_mal_aux_1: 0.8726 (0.8913)  loss_bbox_aux_1: 0.1633 (0.1680)  loss_giou_aux_1: 0.3468 (0.3549)  loss_fgl_aux_1: 1.1542 (1.1544)  loss_ddf_aux_1: 0.0093 (0.0092)  loss_mal_pre: 0.8794 (0.9072)  loss_bbox_pre: 0.1813 (0.1853)  loss_giou_pre: 0.3833 (0.3905)  loss_mal_enc_0: 0.9551 (0.9703)  loss_bbox_enc_0: 0.2376 (0.2411)  loss_giou_enc_0: 0.4816 (0.4959)  loss_mal_dn_0: 0.7563 (0.7584)  loss_bbox_dn_0: 0.2754 (0.2743)  loss_giou_dn_0: 0.5685 (0.5743)  loss_fgl_dn_0: 1.2204 (1.2232)  loss_ddf_dn_0: 0.7438 (0.7432)  loss_mal_dn_1: 0.7334 (0.7313)  loss_bbox_dn_1: 0.2046 (0.2031)  loss_giou_dn_1: 0.4134 (0.4235)  loss_fgl_dn_1: 1.1185 (1.1243)  loss_ddf_dn_1: 0.0346 (0.0352)  loss_mal_dn_2: 0.7246 (0.7243)  loss_bbox_dn_2: 0.1997 (0.1959)  loss_giou_dn_2: 0.4023 (0.4108)  loss_fgl_dn_2: 1.1128 (1.1181)  loss_mal_dn_pre: 0.7544 (0.7573)  loss_bbox_dn_pre: 0.2805 (0.2754)  loss_giou_dn_pre: 0.5696 (0.5751)  time: 0.4753  data: 0.1070  max mem: 10532\n",
      "Epoch: [104] Total time: 0:00:07 (0.4802 s / it)\n",
      "Averaged stats: lr: 0.000117  loss: 21.3239 (21.2779)  loss_mal: 0.8647 (0.8830)  loss_bbox: 0.1615 (0.1658)  loss_giou: 0.3472 (0.3521)  loss_fgl: 1.1533 (1.1512)  loss_mal_aux_0: 0.8794 (0.9085)  loss_bbox_aux_0: 0.1816 (0.1853)  loss_giou_aux_0: 0.3826 (0.3894)  loss_fgl_aux_0: 1.1911 (1.1886)  loss_ddf_aux_0: 0.1376 (0.1381)  loss_mal_aux_1: 0.8726 (0.8913)  loss_bbox_aux_1: 0.1633 (0.1680)  loss_giou_aux_1: 0.3468 (0.3549)  loss_fgl_aux_1: 1.1542 (1.1544)  loss_ddf_aux_1: 0.0093 (0.0092)  loss_mal_pre: 0.8794 (0.9072)  loss_bbox_pre: 0.1813 (0.1853)  loss_giou_pre: 0.3833 (0.3905)  loss_mal_enc_0: 0.9551 (0.9703)  loss_bbox_enc_0: 0.2376 (0.2411)  loss_giou_enc_0: 0.4816 (0.4959)  loss_mal_dn_0: 0.7563 (0.7584)  loss_bbox_dn_0: 0.2754 (0.2743)  loss_giou_dn_0: 0.5685 (0.5743)  loss_fgl_dn_0: 1.2204 (1.2232)  loss_ddf_dn_0: 0.7438 (0.7432)  loss_mal_dn_1: 0.7334 (0.7313)  loss_bbox_dn_1: 0.2046 (0.2031)  loss_giou_dn_1: 0.4134 (0.4235)  loss_fgl_dn_1: 1.1185 (1.1243)  loss_ddf_dn_1: 0.0346 (0.0352)  loss_mal_dn_2: 0.7246 (0.7243)  loss_bbox_dn_2: 0.1997 (0.1959)  loss_giou_dn_2: 0.4023 (0.4108)  loss_fgl_dn_2: 1.1128 (1.1181)  loss_mal_dn_pre: 0.7544 (0.7573)  loss_bbox_dn_pre: 0.2805 (0.2754)  loss_giou_dn_pre: 0.5696 (0.5751)\n",
      "Test:  [0/5]  eta: 0:00:03    time: 0.7252  data: 0.6156  max mem: 10532\n"
     ]
    },
    {
     "name": "stderr",
     "output_type": "stream",
     "text": [
      "\u001b[32m2025-03-10 16:33:44.702\u001b[0m | \u001b[1mINFO    \u001b[0m | \u001b[36mdeimkit.trainer\u001b[0m:\u001b[36mtrain\u001b[0m:\u001b[36m312\u001b[0m - \u001b[1mEpoch 104 - Train loss: 21.2779, Eval mAP: 0.6272\u001b[0m\n",
      "\u001b[32m2025-03-10 16:33:44.702\u001b[0m | \u001b[1mINFO    \u001b[0m | \u001b[36mdeimkit.trainer\u001b[0m:\u001b[36mtrain\u001b[0m:\u001b[36m315\u001b[0m - \u001b[1mBest stats: {'epoch': 97, 'coco_eval_bbox': 0.6331483399026064}\u001b[0m\n"
     ]
    },
    {
     "name": "stdout",
     "output_type": "stream",
     "text": [
      "Test:  [4/5]  eta: 0:00:00    time: 0.2660  data: 0.1344  max mem: 10532\n",
      "Test: Total time: 0:00:01 (0.2801 s / it)\n",
      "Averaged stats: \n",
      "Accumulating evaluation results...\n",
      "COCOeval_opt.accumulate() finished...\n",
      "DONE (t=0.02s).\n",
      "IoU metric: bbox\n",
      " Average Precision  (AP) @[ IoU=0.50:0.95 | area=   all | maxDets=100 ] = 0.627\n",
      " Average Precision  (AP) @[ IoU=0.50      | area=   all | maxDets=100 ] = 0.890\n",
      " Average Precision  (AP) @[ IoU=0.75      | area=   all | maxDets=100 ] = 0.712\n",
      " Average Precision  (AP) @[ IoU=0.50:0.95 | area= small | maxDets=100 ] = 0.529\n",
      " Average Precision  (AP) @[ IoU=0.50:0.95 | area=medium | maxDets=100 ] = 0.638\n",
      " Average Precision  (AP) @[ IoU=0.50:0.95 | area= large | maxDets=100 ] = 0.481\n",
      " Average Recall     (AR) @[ IoU=0.50:0.95 | area=   all | maxDets=  1 ] = 0.418\n",
      " Average Recall     (AR) @[ IoU=0.50:0.95 | area=   all | maxDets= 10 ] = 0.685\n",
      " Average Recall     (AR) @[ IoU=0.50:0.95 | area=   all | maxDets=100 ] = 0.780\n",
      " Average Recall     (AR) @[ IoU=0.50:0.95 | area= small | maxDets=100 ] = 0.800\n",
      " Average Recall     (AR) @[ IoU=0.50:0.95 | area=medium | maxDets=100 ] = 0.785\n",
      " Average Recall     (AR) @[ IoU=0.50:0.95 | area= large | maxDets=100 ] = 0.782\n",
      " Average Recall     (AR) @[ IoU=0.50      | area=   all | maxDets=100 ] = 0.999\n",
      " Average Recall     (AR) @[ IoU=0.75      | area=   all | maxDets=100 ] = 0.916\n",
      "Epoch: [105]  [ 0/15]  eta: 0:00:21  lr: 0.000117  loss: 21.5508 (21.5508)  loss_mal: 0.9072 (0.9072)  loss_bbox: 0.1752 (0.1752)  loss_giou: 0.3810 (0.3810)  loss_fgl: 1.1442 (1.1442)  loss_mal_aux_0: 0.9062 (0.9062)  loss_bbox_aux_0: 0.1959 (0.1959)  loss_giou_aux_0: 0.4232 (0.4232)  loss_fgl_aux_0: 1.1850 (1.1850)  loss_ddf_aux_0: 0.1349 (0.1349)  loss_mal_aux_1: 0.9062 (0.9062)  loss_bbox_aux_1: 0.1790 (0.1790)  loss_giou_aux_1: 0.3859 (0.3859)  loss_fgl_aux_1: 1.1495 (1.1495)  loss_ddf_aux_1: 0.0083 (0.0083)  loss_mal_pre: 0.9097 (0.9097)  loss_bbox_pre: 0.1951 (0.1951)  loss_giou_pre: 0.4239 (0.4239)  loss_mal_enc_0: 1.0381 (1.0381)  loss_bbox_enc_0: 0.2708 (0.2708)  loss_giou_enc_0: 0.5594 (0.5594)  loss_mal_dn_0: 0.7466 (0.7466)  loss_bbox_dn_0: 0.2773 (0.2773)  loss_giou_dn_0: 0.5476 (0.5476)  loss_fgl_dn_0: 1.2247 (1.2247)  loss_ddf_dn_0: 0.7218 (0.7218)  loss_mal_dn_1: 0.7134 (0.7134)  loss_bbox_dn_1: 0.2209 (0.2209)  loss_giou_dn_1: 0.4129 (0.4129)  loss_fgl_dn_1: 1.1359 (1.1359)  loss_ddf_dn_1: 0.0290 (0.0290)  loss_mal_dn_2: 0.7065 (0.7065)  loss_bbox_dn_2: 0.2117 (0.2117)  loss_giou_dn_2: 0.3957 (0.3957)  loss_fgl_dn_2: 1.1323 (1.1323)  loss_mal_dn_pre: 0.7485 (0.7485)  loss_bbox_dn_pre: 0.2837 (0.2837)  loss_giou_dn_pre: 0.5634 (0.5634)  time: 1.4323  data: 0.9710  max mem: 10532\n"
     ]
    },
    {
     "name": "stderr",
     "output_type": "stream",
     "text": [
      "\u001b[32m2025-03-10 16:33:51.595\u001b[0m | \u001b[1mINFO    \u001b[0m | \u001b[36mdeimkit.trainer\u001b[0m:\u001b[36mevaluate\u001b[0m:\u001b[36m331\u001b[0m - \u001b[1mEvaluating model...\u001b[0m\n"
     ]
    },
    {
     "name": "stdout",
     "output_type": "stream",
     "text": [
      "Epoch: [105]  [14/15]  eta: 0:00:00  lr: 0.000115  loss: 21.1402 (20.9724)  loss_mal: 0.8735 (0.8676)  loss_bbox: 0.1443 (0.1511)  loss_giou: 0.3579 (0.3459)  loss_fgl: 1.1492 (1.1475)  loss_mal_aux_0: 0.8818 (0.8913)  loss_bbox_aux_0: 0.1597 (0.1656)  loss_giou_aux_0: 0.3847 (0.3803)  loss_fgl_aux_0: 1.1850 (1.1804)  loss_ddf_aux_0: 0.1326 (0.1336)  loss_mal_aux_1: 0.8682 (0.8761)  loss_bbox_aux_1: 0.1440 (0.1519)  loss_giou_aux_1: 0.3618 (0.3483)  loss_fgl_aux_1: 1.1539 (1.1503)  loss_ddf_aux_1: 0.0087 (0.0090)  loss_mal_pre: 0.8745 (0.8897)  loss_bbox_pre: 0.1601 (0.1655)  loss_giou_pre: 0.3862 (0.3806)  loss_mal_enc_0: 0.9517 (0.9618)  loss_bbox_enc_0: 0.1953 (0.2062)  loss_giou_enc_0: 0.4761 (0.4680)  loss_mal_dn_0: 0.7568 (0.7547)  loss_bbox_dn_0: 0.2500 (0.2524)  loss_giou_dn_0: 0.5788 (0.5690)  loss_fgl_dn_0: 1.2224 (1.2242)  loss_ddf_dn_0: 0.8015 (0.8105)  loss_mal_dn_1: 0.7246 (0.7243)  loss_bbox_dn_1: 0.1828 (0.1893)  loss_giou_dn_1: 0.4172 (0.4175)  loss_fgl_dn_1: 1.1251 (1.1238)  loss_ddf_dn_1: 0.0365 (0.0369)  loss_mal_dn_2: 0.7153 (0.7130)  loss_bbox_dn_2: 0.1796 (0.1825)  loss_giou_dn_2: 0.4039 (0.4053)  loss_fgl_dn_2: 1.1194 (1.1186)  loss_mal_dn_pre: 0.7573 (0.7555)  loss_bbox_dn_pre: 0.2456 (0.2534)  loss_giou_dn_pre: 0.5810 (0.5713)  time: 0.4535  data: 0.0831  max mem: 10532\n",
      "Epoch: [105] Total time: 0:00:06 (0.4583 s / it)\n",
      "Averaged stats: lr: 0.000115  loss: 21.1402 (20.9724)  loss_mal: 0.8735 (0.8676)  loss_bbox: 0.1443 (0.1511)  loss_giou: 0.3579 (0.3459)  loss_fgl: 1.1492 (1.1475)  loss_mal_aux_0: 0.8818 (0.8913)  loss_bbox_aux_0: 0.1597 (0.1656)  loss_giou_aux_0: 0.3847 (0.3803)  loss_fgl_aux_0: 1.1850 (1.1804)  loss_ddf_aux_0: 0.1326 (0.1336)  loss_mal_aux_1: 0.8682 (0.8761)  loss_bbox_aux_1: 0.1440 (0.1519)  loss_giou_aux_1: 0.3618 (0.3483)  loss_fgl_aux_1: 1.1539 (1.1503)  loss_ddf_aux_1: 0.0087 (0.0090)  loss_mal_pre: 0.8745 (0.8897)  loss_bbox_pre: 0.1601 (0.1655)  loss_giou_pre: 0.3862 (0.3806)  loss_mal_enc_0: 0.9517 (0.9618)  loss_bbox_enc_0: 0.1953 (0.2062)  loss_giou_enc_0: 0.4761 (0.4680)  loss_mal_dn_0: 0.7568 (0.7547)  loss_bbox_dn_0: 0.2500 (0.2524)  loss_giou_dn_0: 0.5788 (0.5690)  loss_fgl_dn_0: 1.2224 (1.2242)  loss_ddf_dn_0: 0.8015 (0.8105)  loss_mal_dn_1: 0.7246 (0.7243)  loss_bbox_dn_1: 0.1828 (0.1893)  loss_giou_dn_1: 0.4172 (0.4175)  loss_fgl_dn_1: 1.1251 (1.1238)  loss_ddf_dn_1: 0.0365 (0.0369)  loss_mal_dn_2: 0.7153 (0.7130)  loss_bbox_dn_2: 0.1796 (0.1825)  loss_giou_dn_2: 0.4039 (0.4053)  loss_fgl_dn_2: 1.1194 (1.1186)  loss_mal_dn_pre: 0.7573 (0.7555)  loss_bbox_dn_pre: 0.2456 (0.2534)  loss_giou_dn_pre: 0.5810 (0.5713)\n",
      "Test:  [0/5]  eta: 0:00:03    time: 0.7587  data: 0.6438  max mem: 10532\n"
     ]
    },
    {
     "name": "stderr",
     "output_type": "stream",
     "text": [
      "\u001b[32m2025-03-10 16:33:53.066\u001b[0m | \u001b[1mINFO    \u001b[0m | \u001b[36mdeimkit.trainer\u001b[0m:\u001b[36mtrain\u001b[0m:\u001b[36m312\u001b[0m - \u001b[1mEpoch 105 - Train loss: 20.9724, Eval mAP: 0.6262\u001b[0m\n",
      "\u001b[32m2025-03-10 16:33:53.067\u001b[0m | \u001b[1mINFO    \u001b[0m | \u001b[36mdeimkit.trainer\u001b[0m:\u001b[36mtrain\u001b[0m:\u001b[36m315\u001b[0m - \u001b[1mBest stats: {'epoch': 97, 'coco_eval_bbox': 0.6331483399026064}\u001b[0m\n"
     ]
    },
    {
     "name": "stdout",
     "output_type": "stream",
     "text": [
      "Test:  [4/5]  eta: 0:00:00    time: 0.2756  data: 0.1418  max mem: 10532\n",
      "Test: Total time: 0:00:01 (0.2878 s / it)\n",
      "Averaged stats: \n",
      "Accumulating evaluation results...\n",
      "COCOeval_opt.accumulate() finished...\n",
      "DONE (t=0.02s).\n",
      "IoU metric: bbox\n",
      " Average Precision  (AP) @[ IoU=0.50:0.95 | area=   all | maxDets=100 ] = 0.626\n",
      " Average Precision  (AP) @[ IoU=0.50      | area=   all | maxDets=100 ] = 0.890\n",
      " Average Precision  (AP) @[ IoU=0.75      | area=   all | maxDets=100 ] = 0.716\n",
      " Average Precision  (AP) @[ IoU=0.50:0.95 | area= small | maxDets=100 ] = 0.237\n",
      " Average Precision  (AP) @[ IoU=0.50:0.95 | area=medium | maxDets=100 ] = 0.643\n",
      " Average Precision  (AP) @[ IoU=0.50:0.95 | area= large | maxDets=100 ] = 0.482\n",
      " Average Recall     (AR) @[ IoU=0.50:0.95 | area=   all | maxDets=  1 ] = 0.410\n",
      " Average Recall     (AR) @[ IoU=0.50:0.95 | area=   all | maxDets= 10 ] = 0.680\n",
      " Average Recall     (AR) @[ IoU=0.50:0.95 | area=   all | maxDets=100 ] = 0.775\n",
      " Average Recall     (AR) @[ IoU=0.50:0.95 | area= small | maxDets=100 ] = 0.680\n",
      " Average Recall     (AR) @[ IoU=0.50:0.95 | area=medium | maxDets=100 ] = 0.778\n",
      " Average Recall     (AR) @[ IoU=0.50:0.95 | area= large | maxDets=100 ] = 0.783\n",
      " Average Recall     (AR) @[ IoU=0.50      | area=   all | maxDets=100 ] = 0.999\n",
      " Average Recall     (AR) @[ IoU=0.75      | area=   all | maxDets=100 ] = 0.910\n",
      "Epoch: [106]  [ 0/15]  eta: 0:00:23  lr: 0.000115  loss: 21.3651 (21.3651)  loss_mal: 0.8853 (0.8853)  loss_bbox: 0.1785 (0.1785)  loss_giou: 0.4123 (0.4123)  loss_fgl: 1.1734 (1.1734)  loss_mal_aux_0: 0.9028 (0.9028)  loss_bbox_aux_0: 0.1903 (0.1903)  loss_giou_aux_0: 0.4438 (0.4438)  loss_fgl_aux_0: 1.1878 (1.1878)  loss_ddf_aux_0: 0.1121 (0.1121)  loss_mal_aux_1: 0.9058 (0.9058)  loss_bbox_aux_1: 0.1771 (0.1771)  loss_giou_aux_1: 0.4191 (0.4191)  loss_fgl_aux_1: 1.1628 (1.1628)  loss_ddf_aux_1: 0.0091 (0.0091)  loss_mal_pre: 0.8979 (0.8979)  loss_bbox_pre: 0.1917 (0.1917)  loss_giou_pre: 0.4404 (0.4404)  loss_mal_enc_0: 0.9761 (0.9761)  loss_bbox_enc_0: 0.2381 (0.2381)  loss_giou_enc_0: 0.5107 (0.5107)  loss_mal_dn_0: 0.7451 (0.7451)  loss_bbox_dn_0: 0.2588 (0.2588)  loss_giou_dn_0: 0.5688 (0.5688)  loss_fgl_dn_0: 1.2152 (1.2152)  loss_ddf_dn_0: 0.5851 (0.5851)  loss_mal_dn_1: 0.7231 (0.7231)  loss_bbox_dn_1: 0.1984 (0.1984)  loss_giou_dn_1: 0.4386 (0.4386)  loss_fgl_dn_1: 1.1408 (1.1408)  loss_ddf_dn_1: 0.0321 (0.0321)  loss_mal_dn_2: 0.7080 (0.7080)  loss_bbox_dn_2: 0.1939 (0.1939)  loss_giou_dn_2: 0.4270 (0.4270)  loss_fgl_dn_2: 1.1344 (1.1344)  loss_mal_dn_pre: 0.7422 (0.7422)  loss_bbox_dn_pre: 0.2596 (0.2596)  loss_giou_dn_pre: 0.5788 (0.5788)  time: 1.5632  data: 1.1081  max mem: 10532\n"
     ]
    },
    {
     "name": "stderr",
     "output_type": "stream",
     "text": [
      "\u001b[32m2025-03-10 16:34:00.021\u001b[0m | \u001b[1mINFO    \u001b[0m | \u001b[36mdeimkit.trainer\u001b[0m:\u001b[36mevaluate\u001b[0m:\u001b[36m331\u001b[0m - \u001b[1mEvaluating model...\u001b[0m\n"
     ]
    },
    {
     "name": "stdout",
     "output_type": "stream",
     "text": [
      "Epoch: [106]  [14/15]  eta: 0:00:00  lr: 0.000113  loss: 21.2496 (21.3119)  loss_mal: 0.8506 (0.8663)  loss_bbox: 0.1835 (0.1762)  loss_giou: 0.3537 (0.3610)  loss_fgl: 1.1476 (1.1464)  loss_mal_aux_0: 0.8735 (0.8859)  loss_bbox_aux_0: 0.2008 (0.1943)  loss_giou_aux_0: 0.3963 (0.3953)  loss_fgl_aux_0: 1.1864 (1.1818)  loss_ddf_aux_0: 0.1419 (0.1373)  loss_mal_aux_1: 0.8452 (0.8796)  loss_bbox_aux_1: 0.1846 (0.1777)  loss_giou_aux_1: 0.3567 (0.3641)  loss_fgl_aux_1: 1.1515 (1.1488)  loss_ddf_aux_1: 0.0095 (0.0097)  loss_mal_pre: 0.8721 (0.8837)  loss_bbox_pre: 0.2007 (0.1947)  loss_giou_pre: 0.3966 (0.3948)  loss_mal_enc_0: 0.9160 (0.9668)  loss_bbox_enc_0: 0.2563 (0.2609)  loss_giou_enc_0: 0.5019 (0.5083)  loss_mal_dn_0: 0.7578 (0.7574)  loss_bbox_dn_0: 0.2832 (0.2851)  loss_giou_dn_0: 0.5640 (0.5689)  loss_fgl_dn_0: 1.2152 (1.2147)  loss_ddf_dn_0: 0.7781 (0.7630)  loss_mal_dn_1: 0.7256 (0.7289)  loss_bbox_dn_1: 0.2074 (0.2119)  loss_giou_dn_1: 0.4290 (0.4249)  loss_fgl_dn_1: 1.1280 (1.1199)  loss_ddf_dn_1: 0.0348 (0.0352)  loss_mal_dn_2: 0.7183 (0.7192)  loss_bbox_dn_2: 0.2014 (0.2053)  loss_giou_dn_2: 0.4183 (0.4140)  loss_fgl_dn_2: 1.1256 (1.1149)  loss_mal_dn_pre: 0.7568 (0.7571)  loss_bbox_dn_pre: 0.2843 (0.2865)  loss_giou_dn_pre: 0.5691 (0.5714)  time: 0.4577  data: 0.0906  max mem: 10532\n",
      "Epoch: [106] Total time: 0:00:06 (0.4625 s / it)\n",
      "Averaged stats: lr: 0.000113  loss: 21.2496 (21.3119)  loss_mal: 0.8506 (0.8663)  loss_bbox: 0.1835 (0.1762)  loss_giou: 0.3537 (0.3610)  loss_fgl: 1.1476 (1.1464)  loss_mal_aux_0: 0.8735 (0.8859)  loss_bbox_aux_0: 0.2008 (0.1943)  loss_giou_aux_0: 0.3963 (0.3953)  loss_fgl_aux_0: 1.1864 (1.1818)  loss_ddf_aux_0: 0.1419 (0.1373)  loss_mal_aux_1: 0.8452 (0.8796)  loss_bbox_aux_1: 0.1846 (0.1777)  loss_giou_aux_1: 0.3567 (0.3641)  loss_fgl_aux_1: 1.1515 (1.1488)  loss_ddf_aux_1: 0.0095 (0.0097)  loss_mal_pre: 0.8721 (0.8837)  loss_bbox_pre: 0.2007 (0.1947)  loss_giou_pre: 0.3966 (0.3948)  loss_mal_enc_0: 0.9160 (0.9668)  loss_bbox_enc_0: 0.2563 (0.2609)  loss_giou_enc_0: 0.5019 (0.5083)  loss_mal_dn_0: 0.7578 (0.7574)  loss_bbox_dn_0: 0.2832 (0.2851)  loss_giou_dn_0: 0.5640 (0.5689)  loss_fgl_dn_0: 1.2152 (1.2147)  loss_ddf_dn_0: 0.7781 (0.7630)  loss_mal_dn_1: 0.7256 (0.7289)  loss_bbox_dn_1: 0.2074 (0.2119)  loss_giou_dn_1: 0.4290 (0.4249)  loss_fgl_dn_1: 1.1280 (1.1199)  loss_ddf_dn_1: 0.0348 (0.0352)  loss_mal_dn_2: 0.7183 (0.7192)  loss_bbox_dn_2: 0.2014 (0.2053)  loss_giou_dn_2: 0.4183 (0.4140)  loss_fgl_dn_2: 1.1256 (1.1149)  loss_mal_dn_pre: 0.7568 (0.7571)  loss_bbox_dn_pre: 0.2843 (0.2865)  loss_giou_dn_pre: 0.5691 (0.5714)\n",
      "Test:  [0/5]  eta: 0:00:03    time: 0.7231  data: 0.6151  max mem: 10532\n"
     ]
    },
    {
     "name": "stderr",
     "output_type": "stream",
     "text": [
      "\u001b[32m2025-03-10 16:34:01.277\u001b[0m | \u001b[1mINFO    \u001b[0m | \u001b[36mdeimkit.trainer\u001b[0m:\u001b[36m_save_checkpoint\u001b[0m:\u001b[36m363\u001b[0m - \u001b[1mSaving checkpoint to outputs/deim_hgnetv2_s_coco_ema_tune/best.pth\u001b[0m\n"
     ]
    },
    {
     "name": "stdout",
     "output_type": "stream",
     "text": [
      "Test:  [4/5]  eta: 0:00:00    time: 0.2336  data: 0.1356  max mem: 10532\n",
      "Test: Total time: 0:00:01 (0.2455 s / it)\n",
      "Averaged stats: \n",
      "Accumulating evaluation results...\n",
      "COCOeval_opt.accumulate() finished...\n",
      "DONE (t=0.02s).\n",
      "IoU metric: bbox\n",
      " Average Precision  (AP) @[ IoU=0.50:0.95 | area=   all | maxDets=100 ] = 0.640\n",
      " Average Precision  (AP) @[ IoU=0.50      | area=   all | maxDets=100 ] = 0.897\n",
      " Average Precision  (AP) @[ IoU=0.75      | area=   all | maxDets=100 ] = 0.749\n",
      " Average Precision  (AP) @[ IoU=0.50:0.95 | area= small | maxDets=100 ] = 0.436\n",
      " Average Precision  (AP) @[ IoU=0.50:0.95 | area=medium | maxDets=100 ] = 0.649\n",
      " Average Precision  (AP) @[ IoU=0.50:0.95 | area= large | maxDets=100 ] = 0.485\n",
      " Average Recall     (AR) @[ IoU=0.50:0.95 | area=   all | maxDets=  1 ] = 0.419\n",
      " Average Recall     (AR) @[ IoU=0.50:0.95 | area=   all | maxDets= 10 ] = 0.695\n",
      " Average Recall     (AR) @[ IoU=0.50:0.95 | area=   all | maxDets=100 ] = 0.786\n",
      " Average Recall     (AR) @[ IoU=0.50:0.95 | area= small | maxDets=100 ] = 0.700\n",
      " Average Recall     (AR) @[ IoU=0.50:0.95 | area=medium | maxDets=100 ] = 0.793\n",
      " Average Recall     (AR) @[ IoU=0.50:0.95 | area= large | maxDets=100 ] = 0.785\n",
      " Average Recall     (AR) @[ IoU=0.50      | area=   all | maxDets=100 ] = 0.999\n",
      " Average Recall     (AR) @[ IoU=0.75      | area=   all | maxDets=100 ] = 0.924\n"
     ]
    },
    {
     "name": "stderr",
     "output_type": "stream",
     "text": [
      "\u001b[32m2025-03-10 16:34:01.738\u001b[0m | \u001b[1mINFO    \u001b[0m | \u001b[36mdeimkit.trainer\u001b[0m:\u001b[36m_save_checkpoint\u001b[0m:\u001b[36m380\u001b[0m - \u001b[1mCheckpoint saved to outputs/deim_hgnetv2_s_coco_ema_tune/best.pth\u001b[0m\n",
      "\u001b[32m2025-03-10 16:34:01.739\u001b[0m | \u001b[1mINFO    \u001b[0m | \u001b[36mdeimkit.trainer\u001b[0m:\u001b[36mtrain\u001b[0m:\u001b[36m312\u001b[0m - \u001b[1mEpoch 106 - Train loss: 21.3119, Eval mAP: 0.6400\u001b[0m\n",
      "\u001b[32m2025-03-10 16:34:01.740\u001b[0m | \u001b[1mINFO    \u001b[0m | \u001b[36mdeimkit.trainer\u001b[0m:\u001b[36mtrain\u001b[0m:\u001b[36m315\u001b[0m - \u001b[1mBest stats: {'epoch': 106, 'coco_eval_bbox': 0.639978580523099}\u001b[0m\n"
     ]
    },
    {
     "name": "stdout",
     "output_type": "stream",
     "text": [
      "Epoch: [107]  [ 0/15]  eta: 0:00:25  lr: 0.000113  loss: 21.2334 (21.2334)  loss_mal: 0.8999 (0.8999)  loss_bbox: 0.1534 (0.1534)  loss_giou: 0.3854 (0.3854)  loss_fgl: 1.1560 (1.1560)  loss_mal_aux_0: 0.8750 (0.8750)  loss_bbox_aux_0: 0.1737 (0.1737)  loss_giou_aux_0: 0.4190 (0.4190)  loss_fgl_aux_0: 1.1949 (1.1949)  loss_ddf_aux_0: 0.1371 (0.1371)  loss_mal_aux_1: 0.9248 (0.9248)  loss_bbox_aux_1: 0.1577 (0.1577)  loss_giou_aux_1: 0.3917 (0.3917)  loss_fgl_aux_1: 1.1599 (1.1599)  loss_ddf_aux_1: 0.0085 (0.0085)  loss_mal_pre: 0.8765 (0.8765)  loss_bbox_pre: 0.1736 (0.1736)  loss_giou_pre: 0.4190 (0.4190)  loss_mal_enc_0: 0.9326 (0.9326)  loss_bbox_enc_0: 0.2157 (0.2157)  loss_giou_enc_0: 0.5034 (0.5034)  loss_mal_dn_0: 0.7456 (0.7456)  loss_bbox_dn_0: 0.2477 (0.2477)  loss_giou_dn_0: 0.5681 (0.5681)  loss_fgl_dn_0: 1.2322 (1.2322)  loss_ddf_dn_0: 0.7461 (0.7461)  loss_mal_dn_1: 0.7207 (0.7207)  loss_bbox_dn_1: 0.1830 (0.1830)  loss_giou_dn_1: 0.4341 (0.4341)  loss_fgl_dn_1: 1.1503 (1.1503)  loss_ddf_dn_1: 0.0324 (0.0324)  loss_mal_dn_2: 0.7041 (0.7041)  loss_bbox_dn_2: 0.1770 (0.1770)  loss_giou_dn_2: 0.4269 (0.4269)  loss_fgl_dn_2: 1.1425 (1.1425)  loss_mal_dn_pre: 0.7456 (0.7456)  loss_bbox_dn_pre: 0.2491 (0.2491)  loss_giou_dn_pre: 0.5704 (0.5704)  time: 1.6994  data: 1.2375  max mem: 10532\n"
     ]
    },
    {
     "name": "stderr",
     "output_type": "stream",
     "text": [
      "\u001b[32m2025-03-10 16:34:08.846\u001b[0m | \u001b[1mINFO    \u001b[0m | \u001b[36mdeimkit.trainer\u001b[0m:\u001b[36m_save_checkpoint\u001b[0m:\u001b[36m363\u001b[0m - \u001b[1mSaving checkpoint to outputs/deim_hgnetv2_s_coco_ema_tune/checkpoint0107.pth\u001b[0m\n"
     ]
    },
    {
     "name": "stdout",
     "output_type": "stream",
     "text": [
      "Epoch: [107]  [14/15]  eta: 0:00:00  lr: 0.000111  loss: 21.3214 (21.3478)  loss_mal: 0.8618 (0.8731)  loss_bbox: 0.1741 (0.1771)  loss_giou: 0.3504 (0.3487)  loss_fgl: 1.1536 (1.1512)  loss_mal_aux_0: 0.8750 (0.9050)  loss_bbox_aux_0: 0.1907 (0.1969)  loss_giou_aux_0: 0.3871 (0.3850)  loss_fgl_aux_0: 1.1929 (1.1913)  loss_ddf_aux_0: 0.1417 (0.1483)  loss_mal_aux_1: 0.8608 (0.8803)  loss_bbox_aux_1: 0.1753 (0.1795)  loss_giou_aux_1: 0.3531 (0.3511)  loss_fgl_aux_1: 1.1599 (1.1552)  loss_ddf_aux_1: 0.0085 (0.0088)  loss_mal_pre: 0.8765 (0.9028)  loss_bbox_pre: 0.1920 (0.1967)  loss_giou_pre: 0.3887 (0.3852)  loss_mal_enc_0: 0.9478 (0.9567)  loss_bbox_enc_0: 0.2322 (0.2664)  loss_giou_enc_0: 0.4696 (0.4999)  loss_mal_dn_0: 0.7598 (0.7598)  loss_bbox_dn_0: 0.2852 (0.2884)  loss_giou_dn_0: 0.5630 (0.5630)  loss_fgl_dn_0: 1.2276 (1.2263)  loss_ddf_dn_0: 0.7351 (0.7499)  loss_mal_dn_1: 0.7344 (0.7288)  loss_bbox_dn_1: 0.2164 (0.2188)  loss_giou_dn_1: 0.4216 (0.4200)  loss_fgl_dn_1: 1.1313 (1.1306)  loss_ddf_dn_1: 0.0319 (0.0327)  loss_mal_dn_2: 0.7280 (0.7192)  loss_bbox_dn_2: 0.2058 (0.2088)  loss_giou_dn_2: 0.4073 (0.4071)  loss_fgl_dn_2: 1.1272 (1.1239)  loss_mal_dn_pre: 0.7603 (0.7597)  loss_bbox_dn_pre: 0.2824 (0.2888)  loss_giou_dn_pre: 0.5637 (0.5626)  time: 0.4679  data: 0.1001  max mem: 10532\n",
      "Epoch: [107] Total time: 0:00:07 (0.4724 s / it)\n",
      "Averaged stats: lr: 0.000111  loss: 21.3214 (21.3478)  loss_mal: 0.8618 (0.8731)  loss_bbox: 0.1741 (0.1771)  loss_giou: 0.3504 (0.3487)  loss_fgl: 1.1536 (1.1512)  loss_mal_aux_0: 0.8750 (0.9050)  loss_bbox_aux_0: 0.1907 (0.1969)  loss_giou_aux_0: 0.3871 (0.3850)  loss_fgl_aux_0: 1.1929 (1.1913)  loss_ddf_aux_0: 0.1417 (0.1483)  loss_mal_aux_1: 0.8608 (0.8803)  loss_bbox_aux_1: 0.1753 (0.1795)  loss_giou_aux_1: 0.3531 (0.3511)  loss_fgl_aux_1: 1.1599 (1.1552)  loss_ddf_aux_1: 0.0085 (0.0088)  loss_mal_pre: 0.8765 (0.9028)  loss_bbox_pre: 0.1920 (0.1967)  loss_giou_pre: 0.3887 (0.3852)  loss_mal_enc_0: 0.9478 (0.9567)  loss_bbox_enc_0: 0.2322 (0.2664)  loss_giou_enc_0: 0.4696 (0.4999)  loss_mal_dn_0: 0.7598 (0.7598)  loss_bbox_dn_0: 0.2852 (0.2884)  loss_giou_dn_0: 0.5630 (0.5630)  loss_fgl_dn_0: 1.2276 (1.2263)  loss_ddf_dn_0: 0.7351 (0.7499)  loss_mal_dn_1: 0.7344 (0.7288)  loss_bbox_dn_1: 0.2164 (0.2188)  loss_giou_dn_1: 0.4216 (0.4200)  loss_fgl_dn_1: 1.1313 (1.1306)  loss_ddf_dn_1: 0.0319 (0.0327)  loss_mal_dn_2: 0.7280 (0.7192)  loss_bbox_dn_2: 0.2058 (0.2088)  loss_giou_dn_2: 0.4073 (0.4071)  loss_fgl_dn_2: 1.1272 (1.1239)  loss_mal_dn_pre: 0.7603 (0.7597)  loss_bbox_dn_pre: 0.2824 (0.2888)  loss_giou_dn_pre: 0.5637 (0.5626)\n"
     ]
    },
    {
     "name": "stderr",
     "output_type": "stream",
     "text": [
      "\u001b[32m2025-03-10 16:34:09.094\u001b[0m | \u001b[1mINFO    \u001b[0m | \u001b[36mdeimkit.trainer\u001b[0m:\u001b[36m_save_checkpoint\u001b[0m:\u001b[36m380\u001b[0m - \u001b[1mCheckpoint saved to outputs/deim_hgnetv2_s_coco_ema_tune/checkpoint0107.pth\u001b[0m\n",
      "\u001b[32m2025-03-10 16:34:09.095\u001b[0m | \u001b[1mINFO    \u001b[0m | \u001b[36mdeimkit.trainer\u001b[0m:\u001b[36mevaluate\u001b[0m:\u001b[36m331\u001b[0m - \u001b[1mEvaluating model...\u001b[0m\n"
     ]
    },
    {
     "name": "stdout",
     "output_type": "stream",
     "text": [
      "Test:  [0/5]  eta: 0:00:03    time: 0.7332  data: 0.6235  max mem: 10532\n"
     ]
    },
    {
     "name": "stderr",
     "output_type": "stream",
     "text": [
      "\u001b[32m2025-03-10 16:34:10.520\u001b[0m | \u001b[1mINFO    \u001b[0m | \u001b[36mdeimkit.trainer\u001b[0m:\u001b[36mtrain\u001b[0m:\u001b[36m312\u001b[0m - \u001b[1mEpoch 107 - Train loss: 21.3478, Eval mAP: 0.6280\u001b[0m\n",
      "\u001b[32m2025-03-10 16:34:10.520\u001b[0m | \u001b[1mINFO    \u001b[0m | \u001b[36mdeimkit.trainer\u001b[0m:\u001b[36mtrain\u001b[0m:\u001b[36m315\u001b[0m - \u001b[1mBest stats: {'epoch': 106, 'coco_eval_bbox': 0.639978580523099}\u001b[0m\n"
     ]
    },
    {
     "name": "stdout",
     "output_type": "stream",
     "text": [
      "Test:  [4/5]  eta: 0:00:00    time: 0.2678  data: 0.1359  max mem: 10532\n",
      "Test: Total time: 0:00:01 (0.2797 s / it)\n",
      "Averaged stats: \n",
      "Accumulating evaluation results...\n",
      "COCOeval_opt.accumulate() finished...\n",
      "DONE (t=0.02s).\n",
      "IoU metric: bbox\n",
      " Average Precision  (AP) @[ IoU=0.50:0.95 | area=   all | maxDets=100 ] = 0.628\n",
      " Average Precision  (AP) @[ IoU=0.50      | area=   all | maxDets=100 ] = 0.895\n",
      " Average Precision  (AP) @[ IoU=0.75      | area=   all | maxDets=100 ] = 0.713\n",
      " Average Precision  (AP) @[ IoU=0.50:0.95 | area= small | maxDets=100 ] = 0.320\n",
      " Average Precision  (AP) @[ IoU=0.50:0.95 | area=medium | maxDets=100 ] = 0.638\n",
      " Average Precision  (AP) @[ IoU=0.50:0.95 | area= large | maxDets=100 ] = 0.483\n",
      " Average Recall     (AR) @[ IoU=0.50:0.95 | area=   all | maxDets=  1 ] = 0.413\n",
      " Average Recall     (AR) @[ IoU=0.50:0.95 | area=   all | maxDets= 10 ] = 0.685\n",
      " Average Recall     (AR) @[ IoU=0.50:0.95 | area=   all | maxDets=100 ] = 0.778\n",
      " Average Recall     (AR) @[ IoU=0.50:0.95 | area= small | maxDets=100 ] = 0.700\n",
      " Average Recall     (AR) @[ IoU=0.50:0.95 | area=medium | maxDets=100 ] = 0.791\n",
      " Average Recall     (AR) @[ IoU=0.50:0.95 | area= large | maxDets=100 ] = 0.813\n",
      " Average Recall     (AR) @[ IoU=0.50      | area=   all | maxDets=100 ] = 0.999\n",
      " Average Recall     (AR) @[ IoU=0.75      | area=   all | maxDets=100 ] = 0.915\n",
      "Epoch: [108]  [ 0/15]  eta: 0:00:23  lr: 0.000111  loss: 22.0320 (22.0320)  loss_mal: 0.8818 (0.8818)  loss_bbox: 0.1848 (0.1848)  loss_giou: 0.3819 (0.3819)  loss_fgl: 1.1610 (1.1610)  loss_mal_aux_0: 0.9150 (0.9150)  loss_bbox_aux_0: 0.2091 (0.2091)  loss_giou_aux_0: 0.4226 (0.4226)  loss_fgl_aux_0: 1.2072 (1.2072)  loss_ddf_aux_0: 0.1438 (0.1438)  loss_mal_aux_1: 0.9082 (0.9082)  loss_bbox_aux_1: 0.1837 (0.1837)  loss_giou_aux_1: 0.3819 (0.3819)  loss_fgl_aux_1: 1.1650 (1.1650)  loss_ddf_aux_1: 0.0083 (0.0083)  loss_mal_pre: 0.9150 (0.9150)  loss_bbox_pre: 0.2090 (0.2090)  loss_giou_pre: 0.4208 (0.4208)  loss_mal_enc_0: 0.9546 (0.9546)  loss_bbox_enc_0: 0.3472 (0.3472)  loss_giou_enc_0: 0.6925 (0.6925)  loss_mal_dn_0: 0.7554 (0.7554)  loss_bbox_dn_0: 0.2814 (0.2814)  loss_giou_dn_0: 0.5745 (0.5745)  loss_fgl_dn_0: 1.2119 (1.2119)  loss_ddf_dn_0: 0.8429 (0.8429)  loss_mal_dn_1: 0.7314 (0.7314)  loss_bbox_dn_1: 0.2173 (0.2173)  loss_giou_dn_1: 0.4380 (0.4380)  loss_fgl_dn_1: 1.1267 (1.1267)  loss_ddf_dn_1: 0.0375 (0.0375)  loss_mal_dn_2: 0.7222 (0.7222)  loss_bbox_dn_2: 0.2139 (0.2139)  loss_giou_dn_2: 0.4283 (0.4283)  loss_fgl_dn_2: 1.1196 (1.1196)  loss_mal_dn_pre: 0.7568 (0.7568)  loss_bbox_dn_pre: 0.2868 (0.2868)  loss_giou_dn_pre: 0.5936 (0.5936)  time: 1.5964  data: 1.2088  max mem: 10532\n"
     ]
    },
    {
     "name": "stderr",
     "output_type": "stream",
     "text": [
      "\u001b[32m2025-03-10 16:34:17.417\u001b[0m | \u001b[1mINFO    \u001b[0m | \u001b[36mdeimkit.trainer\u001b[0m:\u001b[36mevaluate\u001b[0m:\u001b[36m331\u001b[0m - \u001b[1mEvaluating model...\u001b[0m\n"
     ]
    },
    {
     "name": "stdout",
     "output_type": "stream",
     "text": [
      "Epoch: [108]  [14/15]  eta: 0:00:00  lr: 0.000109  loss: 21.5073 (21.1512)  loss_mal: 0.8599 (0.8784)  loss_bbox: 0.1591 (0.1631)  loss_giou: 0.3551 (0.3447)  loss_fgl: 1.1471 (1.1504)  loss_mal_aux_0: 0.8843 (0.9032)  loss_bbox_aux_0: 0.1791 (0.1811)  loss_giou_aux_0: 0.3968 (0.3795)  loss_fgl_aux_0: 1.1888 (1.1876)  loss_ddf_aux_0: 0.1195 (0.1235)  loss_mal_aux_1: 0.8613 (0.8907)  loss_bbox_aux_1: 0.1639 (0.1646)  loss_giou_aux_1: 0.3558 (0.3469)  loss_fgl_aux_1: 1.1522 (1.1537)  loss_ddf_aux_1: 0.0086 (0.0088)  loss_mal_pre: 0.8857 (0.9020)  loss_bbox_pre: 0.1797 (0.1808)  loss_giou_pre: 0.3963 (0.3788)  loss_mal_enc_0: 0.9546 (0.9797)  loss_bbox_enc_0: 0.2388 (0.2421)  loss_giou_enc_0: 0.4874 (0.4991)  loss_mal_dn_0: 0.7578 (0.7602)  loss_bbox_dn_0: 0.2761 (0.2780)  loss_giou_dn_0: 0.5709 (0.5689)  loss_fgl_dn_0: 1.2141 (1.2159)  loss_ddf_dn_0: 0.7324 (0.7144)  loss_mal_dn_1: 0.7314 (0.7297)  loss_bbox_dn_1: 0.2019 (0.2063)  loss_giou_dn_1: 0.4083 (0.4173)  loss_fgl_dn_1: 1.1248 (1.1213)  loss_ddf_dn_1: 0.0349 (0.0352)  loss_mal_dn_2: 0.7222 (0.7191)  loss_bbox_dn_2: 0.1937 (0.1979)  loss_giou_dn_2: 0.3968 (0.4043)  loss_fgl_dn_2: 1.1171 (1.1150)  loss_mal_dn_pre: 0.7578 (0.7601)  loss_bbox_dn_pre: 0.2761 (0.2801)  loss_giou_dn_pre: 0.5751 (0.5688)  time: 0.4537  data: 0.0991  max mem: 10532\n",
      "Epoch: [108] Total time: 0:00:06 (0.4585 s / it)\n",
      "Averaged stats: lr: 0.000109  loss: 21.5073 (21.1512)  loss_mal: 0.8599 (0.8784)  loss_bbox: 0.1591 (0.1631)  loss_giou: 0.3551 (0.3447)  loss_fgl: 1.1471 (1.1504)  loss_mal_aux_0: 0.8843 (0.9032)  loss_bbox_aux_0: 0.1791 (0.1811)  loss_giou_aux_0: 0.3968 (0.3795)  loss_fgl_aux_0: 1.1888 (1.1876)  loss_ddf_aux_0: 0.1195 (0.1235)  loss_mal_aux_1: 0.8613 (0.8907)  loss_bbox_aux_1: 0.1639 (0.1646)  loss_giou_aux_1: 0.3558 (0.3469)  loss_fgl_aux_1: 1.1522 (1.1537)  loss_ddf_aux_1: 0.0086 (0.0088)  loss_mal_pre: 0.8857 (0.9020)  loss_bbox_pre: 0.1797 (0.1808)  loss_giou_pre: 0.3963 (0.3788)  loss_mal_enc_0: 0.9546 (0.9797)  loss_bbox_enc_0: 0.2388 (0.2421)  loss_giou_enc_0: 0.4874 (0.4991)  loss_mal_dn_0: 0.7578 (0.7602)  loss_bbox_dn_0: 0.2761 (0.2780)  loss_giou_dn_0: 0.5709 (0.5689)  loss_fgl_dn_0: 1.2141 (1.2159)  loss_ddf_dn_0: 0.7324 (0.7144)  loss_mal_dn_1: 0.7314 (0.7297)  loss_bbox_dn_1: 0.2019 (0.2063)  loss_giou_dn_1: 0.4083 (0.4173)  loss_fgl_dn_1: 1.1248 (1.1213)  loss_ddf_dn_1: 0.0349 (0.0352)  loss_mal_dn_2: 0.7222 (0.7191)  loss_bbox_dn_2: 0.1937 (0.1979)  loss_giou_dn_2: 0.3968 (0.4043)  loss_fgl_dn_2: 1.1171 (1.1150)  loss_mal_dn_pre: 0.7578 (0.7601)  loss_bbox_dn_pre: 0.2761 (0.2801)  loss_giou_dn_pre: 0.5751 (0.5688)\n",
      "Test:  [0/5]  eta: 0:00:03    time: 0.7346  data: 0.6206  max mem: 10532\n"
     ]
    },
    {
     "name": "stderr",
     "output_type": "stream",
     "text": [
      "\u001b[32m2025-03-10 16:34:18.701\u001b[0m | \u001b[1mINFO    \u001b[0m | \u001b[36mdeimkit.trainer\u001b[0m:\u001b[36mtrain\u001b[0m:\u001b[36m312\u001b[0m - \u001b[1mEpoch 108 - Train loss: 21.1512, Eval mAP: 0.6245\u001b[0m\n",
      "\u001b[32m2025-03-10 16:34:18.702\u001b[0m | \u001b[1mINFO    \u001b[0m | \u001b[36mdeimkit.trainer\u001b[0m:\u001b[36mtrain\u001b[0m:\u001b[36m315\u001b[0m - \u001b[1mBest stats: {'epoch': 106, 'coco_eval_bbox': 0.639978580523099}\u001b[0m\n"
     ]
    },
    {
     "name": "stdout",
     "output_type": "stream",
     "text": [
      "Test:  [4/5]  eta: 0:00:00    time: 0.2386  data: 0.1392  max mem: 10532\n",
      "Test: Total time: 0:00:01 (0.2505 s / it)\n",
      "Averaged stats: \n",
      "Accumulating evaluation results...\n",
      "COCOeval_opt.accumulate() finished...\n",
      "DONE (t=0.02s).\n",
      "IoU metric: bbox\n",
      " Average Precision  (AP) @[ IoU=0.50:0.95 | area=   all | maxDets=100 ] = 0.625\n",
      " Average Precision  (AP) @[ IoU=0.50      | area=   all | maxDets=100 ] = 0.899\n",
      " Average Precision  (AP) @[ IoU=0.75      | area=   all | maxDets=100 ] = 0.705\n",
      " Average Precision  (AP) @[ IoU=0.50:0.95 | area= small | maxDets=100 ] = 0.408\n",
      " Average Precision  (AP) @[ IoU=0.50:0.95 | area=medium | maxDets=100 ] = 0.634\n",
      " Average Precision  (AP) @[ IoU=0.50:0.95 | area= large | maxDets=100 ] = 0.484\n",
      " Average Recall     (AR) @[ IoU=0.50:0.95 | area=   all | maxDets=  1 ] = 0.412\n",
      " Average Recall     (AR) @[ IoU=0.50:0.95 | area=   all | maxDets= 10 ] = 0.681\n",
      " Average Recall     (AR) @[ IoU=0.50:0.95 | area=   all | maxDets=100 ] = 0.773\n",
      " Average Recall     (AR) @[ IoU=0.50:0.95 | area= small | maxDets=100 ] = 0.720\n",
      " Average Recall     (AR) @[ IoU=0.50:0.95 | area=medium | maxDets=100 ] = 0.781\n",
      " Average Recall     (AR) @[ IoU=0.50:0.95 | area= large | maxDets=100 ] = 0.781\n",
      " Average Recall     (AR) @[ IoU=0.50      | area=   all | maxDets=100 ] = 0.999\n",
      " Average Recall     (AR) @[ IoU=0.75      | area=   all | maxDets=100 ] = 0.904\n",
      "Epoch: [109]  [ 0/15]  eta: 0:00:23  lr: 0.000109  loss: 20.7390 (20.7390)  loss_mal: 0.8511 (0.8511)  loss_bbox: 0.1550 (0.1550)  loss_giou: 0.3494 (0.3494)  loss_fgl: 1.1498 (1.1498)  loss_mal_aux_0: 0.8813 (0.8813)  loss_bbox_aux_0: 0.1597 (0.1597)  loss_giou_aux_0: 0.3757 (0.3757)  loss_fgl_aux_0: 1.1800 (1.1800)  loss_ddf_aux_0: 0.1285 (0.1285)  loss_mal_aux_1: 0.8525 (0.8525)  loss_bbox_aux_1: 0.1552 (0.1552)  loss_giou_aux_1: 0.3524 (0.3524)  loss_fgl_aux_1: 1.1549 (1.1549)  loss_ddf_aux_1: 0.0090 (0.0090)  loss_mal_pre: 0.8818 (0.8818)  loss_bbox_pre: 0.1602 (0.1602)  loss_giou_pre: 0.3768 (0.3768)  loss_mal_enc_0: 0.9199 (0.9199)  loss_bbox_enc_0: 0.2199 (0.2199)  loss_giou_enc_0: 0.4801 (0.4801)  loss_mal_dn_0: 0.7642 (0.7642)  loss_bbox_dn_0: 0.2290 (0.2290)  loss_giou_dn_0: 0.5728 (0.5728)  loss_fgl_dn_0: 1.2155 (1.2155)  loss_ddf_dn_0: 0.7470 (0.7470)  loss_mal_dn_1: 0.7275 (0.7275)  loss_bbox_dn_1: 0.1695 (0.1695)  loss_giou_dn_1: 0.4107 (0.4107)  loss_fgl_dn_1: 1.1232 (1.1232)  loss_ddf_dn_1: 0.0365 (0.0365)  loss_mal_dn_2: 0.7163 (0.7163)  loss_bbox_dn_2: 0.1639 (0.1639)  loss_giou_dn_2: 0.3975 (0.3975)  loss_fgl_dn_2: 1.1161 (1.1161)  loss_mal_dn_pre: 0.7661 (0.7661)  loss_bbox_dn_pre: 0.2245 (0.2245)  loss_giou_dn_pre: 0.5654 (0.5654)  time: 1.5607  data: 1.1179  max mem: 10532\n"
     ]
    },
    {
     "name": "stderr",
     "output_type": "stream",
     "text": [
      "\u001b[32m2025-03-10 16:34:25.944\u001b[0m | \u001b[1mINFO    \u001b[0m | \u001b[36mdeimkit.trainer\u001b[0m:\u001b[36mevaluate\u001b[0m:\u001b[36m331\u001b[0m - \u001b[1mEvaluating model...\u001b[0m\n"
     ]
    },
    {
     "name": "stdout",
     "output_type": "stream",
     "text": [
      "Epoch: [109]  [14/15]  eta: 0:00:00  lr: 0.000108  loss: 20.8719 (21.2539)  loss_mal: 0.8511 (0.8684)  loss_bbox: 0.1608 (0.1673)  loss_giou: 0.3500 (0.3469)  loss_fgl: 1.1466 (1.1451)  loss_mal_aux_0: 0.8813 (0.8989)  loss_bbox_aux_0: 0.1732 (0.1893)  loss_giou_aux_0: 0.3790 (0.3834)  loss_fgl_aux_0: 1.1892 (1.1879)  loss_ddf_aux_0: 0.1383 (0.1423)  loss_mal_aux_1: 0.8535 (0.8809)  loss_bbox_aux_1: 0.1600 (0.1702)  loss_giou_aux_1: 0.3526 (0.3510)  loss_fgl_aux_1: 1.1527 (1.1502)  loss_ddf_aux_1: 0.0102 (0.0103)  loss_mal_pre: 0.8794 (0.8994)  loss_bbox_pre: 0.1721 (0.1889)  loss_giou_pre: 0.3768 (0.3832)  loss_mal_enc_0: 0.9512 (0.9933)  loss_bbox_enc_0: 0.2199 (0.2475)  loss_giou_enc_0: 0.4917 (0.4859)  loss_mal_dn_0: 0.7573 (0.7567)  loss_bbox_dn_0: 0.2668 (0.2815)  loss_giou_dn_0: 0.5615 (0.5650)  loss_fgl_dn_0: 1.2239 (1.2239)  loss_ddf_dn_0: 0.7470 (0.7675)  loss_mal_dn_1: 0.7241 (0.7286)  loss_bbox_dn_1: 0.2103 (0.2103)  loss_giou_dn_1: 0.4101 (0.4189)  loss_fgl_dn_1: 1.1209 (1.1217)  loss_ddf_dn_1: 0.0359 (0.0369)  loss_mal_dn_2: 0.7163 (0.7186)  loss_bbox_dn_2: 0.2010 (0.2026)  loss_giou_dn_2: 0.3976 (0.4074)  loss_fgl_dn_2: 1.1138 (1.1143)  loss_mal_dn_pre: 0.7583 (0.7573)  loss_bbox_dn_pre: 0.2657 (0.2830)  loss_giou_dn_pre: 0.5612 (0.5694)  time: 0.4755  data: 0.0895  max mem: 10532\n",
      "Epoch: [109] Total time: 0:00:07 (0.4814 s / it)\n",
      "Averaged stats: lr: 0.000108  loss: 20.8719 (21.2539)  loss_mal: 0.8511 (0.8684)  loss_bbox: 0.1608 (0.1673)  loss_giou: 0.3500 (0.3469)  loss_fgl: 1.1466 (1.1451)  loss_mal_aux_0: 0.8813 (0.8989)  loss_bbox_aux_0: 0.1732 (0.1893)  loss_giou_aux_0: 0.3790 (0.3834)  loss_fgl_aux_0: 1.1892 (1.1879)  loss_ddf_aux_0: 0.1383 (0.1423)  loss_mal_aux_1: 0.8535 (0.8809)  loss_bbox_aux_1: 0.1600 (0.1702)  loss_giou_aux_1: 0.3526 (0.3510)  loss_fgl_aux_1: 1.1527 (1.1502)  loss_ddf_aux_1: 0.0102 (0.0103)  loss_mal_pre: 0.8794 (0.8994)  loss_bbox_pre: 0.1721 (0.1889)  loss_giou_pre: 0.3768 (0.3832)  loss_mal_enc_0: 0.9512 (0.9933)  loss_bbox_enc_0: 0.2199 (0.2475)  loss_giou_enc_0: 0.4917 (0.4859)  loss_mal_dn_0: 0.7573 (0.7567)  loss_bbox_dn_0: 0.2668 (0.2815)  loss_giou_dn_0: 0.5615 (0.5650)  loss_fgl_dn_0: 1.2239 (1.2239)  loss_ddf_dn_0: 0.7470 (0.7675)  loss_mal_dn_1: 0.7241 (0.7286)  loss_bbox_dn_1: 0.2103 (0.2103)  loss_giou_dn_1: 0.4101 (0.4189)  loss_fgl_dn_1: 1.1209 (1.1217)  loss_ddf_dn_1: 0.0359 (0.0369)  loss_mal_dn_2: 0.7163 (0.7186)  loss_bbox_dn_2: 0.2010 (0.2026)  loss_giou_dn_2: 0.3976 (0.4074)  loss_fgl_dn_2: 1.1138 (1.1143)  loss_mal_dn_pre: 0.7583 (0.7573)  loss_bbox_dn_pre: 0.2657 (0.2830)  loss_giou_dn_pre: 0.5612 (0.5694)\n",
      "Test:  [0/5]  eta: 0:00:03    time: 0.7960  data: 0.6808  max mem: 10532\n"
     ]
    },
    {
     "name": "stderr",
     "output_type": "stream",
     "text": [
      "\u001b[32m2025-03-10 16:34:27.308\u001b[0m | \u001b[1mINFO    \u001b[0m | \u001b[36mdeimkit.trainer\u001b[0m:\u001b[36mtrain\u001b[0m:\u001b[36m312\u001b[0m - \u001b[1mEpoch 109 - Train loss: 21.2539, Eval mAP: 0.6215\u001b[0m\n",
      "\u001b[32m2025-03-10 16:34:27.308\u001b[0m | \u001b[1mINFO    \u001b[0m | \u001b[36mdeimkit.trainer\u001b[0m:\u001b[36mtrain\u001b[0m:\u001b[36m315\u001b[0m - \u001b[1mBest stats: {'epoch': 106, 'coco_eval_bbox': 0.639978580523099}\u001b[0m\n"
     ]
    },
    {
     "name": "stdout",
     "output_type": "stream",
     "text": [
      "Test:  [4/5]  eta: 0:00:00    time: 0.2540  data: 0.1527  max mem: 10532\n",
      "Test: Total time: 0:00:01 (0.2664 s / it)\n",
      "Averaged stats: \n",
      "Accumulating evaluation results...\n",
      "COCOeval_opt.accumulate() finished...\n",
      "DONE (t=0.02s).\n",
      "IoU metric: bbox\n",
      " Average Precision  (AP) @[ IoU=0.50:0.95 | area=   all | maxDets=100 ] = 0.621\n",
      " Average Precision  (AP) @[ IoU=0.50      | area=   all | maxDets=100 ] = 0.894\n",
      " Average Precision  (AP) @[ IoU=0.75      | area=   all | maxDets=100 ] = 0.702\n",
      " Average Precision  (AP) @[ IoU=0.50:0.95 | area= small | maxDets=100 ] = 0.371\n",
      " Average Precision  (AP) @[ IoU=0.50:0.95 | area=medium | maxDets=100 ] = 0.635\n",
      " Average Precision  (AP) @[ IoU=0.50:0.95 | area= large | maxDets=100 ] = 0.480\n",
      " Average Recall     (AR) @[ IoU=0.50:0.95 | area=   all | maxDets=  1 ] = 0.407\n",
      " Average Recall     (AR) @[ IoU=0.50:0.95 | area=   all | maxDets= 10 ] = 0.683\n",
      " Average Recall     (AR) @[ IoU=0.50:0.95 | area=   all | maxDets=100 ] = 0.775\n",
      " Average Recall     (AR) @[ IoU=0.50:0.95 | area= small | maxDets=100 ] = 0.680\n",
      " Average Recall     (AR) @[ IoU=0.50:0.95 | area=medium | maxDets=100 ] = 0.782\n",
      " Average Recall     (AR) @[ IoU=0.50:0.95 | area= large | maxDets=100 ] = 0.812\n",
      " Average Recall     (AR) @[ IoU=0.50      | area=   all | maxDets=100 ] = 0.999\n",
      " Average Recall     (AR) @[ IoU=0.75      | area=   all | maxDets=100 ] = 0.912\n",
      "Epoch: [110]  [ 0/15]  eta: 0:00:27  lr: 0.000108  loss: 20.8981 (20.8981)  loss_mal: 0.8779 (0.8779)  loss_bbox: 0.1323 (0.1323)  loss_giou: 0.3483 (0.3483)  loss_fgl: 1.1562 (1.1562)  loss_mal_aux_0: 0.8589 (0.8589)  loss_bbox_aux_0: 0.1498 (0.1498)  loss_giou_aux_0: 0.3865 (0.3865)  loss_fgl_aux_0: 1.1978 (1.1978)  loss_ddf_aux_0: 0.1691 (0.1691)  loss_mal_aux_1: 0.8721 (0.8721)  loss_bbox_aux_1: 0.1349 (0.1349)  loss_giou_aux_1: 0.3520 (0.3520)  loss_fgl_aux_1: 1.1590 (1.1590)  loss_ddf_aux_1: 0.0103 (0.0103)  loss_mal_pre: 0.8589 (0.8589)  loss_bbox_pre: 0.1493 (0.1493)  loss_giou_pre: 0.3849 (0.3849)  loss_mal_enc_0: 0.9424 (0.9424)  loss_bbox_enc_0: 0.1847 (0.1847)  loss_giou_enc_0: 0.4892 (0.4892)  loss_mal_dn_0: 0.7490 (0.7490)  loss_bbox_dn_0: 0.2308 (0.2308)  loss_giou_dn_0: 0.5678 (0.5678)  loss_fgl_dn_0: 1.2172 (1.2172)  loss_ddf_dn_0: 0.9265 (0.9265)  loss_mal_dn_1: 0.7168 (0.7168)  loss_bbox_dn_1: 0.1708 (0.1708)  loss_giou_dn_1: 0.4169 (0.4169)  loss_fgl_dn_1: 1.1161 (1.1161)  loss_ddf_dn_1: 0.0401 (0.0401)  loss_mal_dn_2: 0.7129 (0.7129)  loss_bbox_dn_2: 0.1637 (0.1637)  loss_giou_dn_2: 0.4075 (0.4075)  loss_fgl_dn_2: 1.1094 (1.1094)  loss_mal_dn_pre: 0.7461 (0.7461)  loss_bbox_dn_pre: 0.2286 (0.2286)  loss_giou_dn_pre: 0.5636 (0.5636)  time: 1.8324  data: 1.3940  max mem: 10532\n"
     ]
    },
    {
     "name": "stderr",
     "output_type": "stream",
     "text": [
      "\u001b[32m2025-03-10 16:34:34.365\u001b[0m | \u001b[1mINFO    \u001b[0m | \u001b[36mdeimkit.trainer\u001b[0m:\u001b[36mevaluate\u001b[0m:\u001b[36m331\u001b[0m - \u001b[1mEvaluating model...\u001b[0m\n"
     ]
    },
    {
     "name": "stdout",
     "output_type": "stream",
     "text": [
      "Epoch: [110]  [14/15]  eta: 0:00:00  lr: 0.000106  loss: 21.3985 (21.3122)  loss_mal: 0.8643 (0.8867)  loss_bbox: 0.1600 (0.1576)  loss_giou: 0.3729 (0.3553)  loss_fgl: 1.1408 (1.1451)  loss_mal_aux_0: 0.8823 (0.9132)  loss_bbox_aux_0: 0.1770 (0.1776)  loss_giou_aux_0: 0.3996 (0.3924)  loss_fgl_aux_0: 1.1829 (1.1824)  loss_ddf_aux_0: 0.1419 (0.1488)  loss_mal_aux_1: 0.8672 (0.8947)  loss_bbox_aux_1: 0.1588 (0.1597)  loss_giou_aux_1: 0.3737 (0.3580)  loss_fgl_aux_1: 1.1449 (1.1472)  loss_ddf_aux_1: 0.0107 (0.0105)  loss_mal_pre: 0.8809 (0.9111)  loss_bbox_pre: 0.1768 (0.1780)  loss_giou_pre: 0.4046 (0.3927)  loss_mal_enc_0: 0.9385 (0.9757)  loss_bbox_enc_0: 0.2320 (0.2510)  loss_giou_enc_0: 0.5139 (0.5254)  loss_mal_dn_0: 0.7617 (0.7631)  loss_bbox_dn_0: 0.2682 (0.2657)  loss_giou_dn_0: 0.5729 (0.5726)  loss_fgl_dn_0: 1.2199 (1.2244)  loss_ddf_dn_0: 0.7990 (0.7874)  loss_mal_dn_1: 0.7329 (0.7269)  loss_bbox_dn_1: 0.1918 (0.1940)  loss_giou_dn_1: 0.4169 (0.4208)  loss_fgl_dn_1: 1.1161 (1.1226)  loss_ddf_dn_1: 0.0363 (0.0363)  loss_mal_dn_2: 0.7222 (0.7199)  loss_bbox_dn_2: 0.1875 (0.1870)  loss_giou_dn_2: 0.4075 (0.4089)  loss_fgl_dn_2: 1.1102 (1.1174)  loss_mal_dn_pre: 0.7612 (0.7623)  loss_bbox_dn_pre: 0.2672 (0.2663)  loss_giou_dn_pre: 0.5641 (0.5736)  time: 0.4642  data: 0.1070  max mem: 10532\n",
      "Epoch: [110] Total time: 0:00:07 (0.4691 s / it)\n",
      "Averaged stats: lr: 0.000106  loss: 21.3985 (21.3122)  loss_mal: 0.8643 (0.8867)  loss_bbox: 0.1600 (0.1576)  loss_giou: 0.3729 (0.3553)  loss_fgl: 1.1408 (1.1451)  loss_mal_aux_0: 0.8823 (0.9132)  loss_bbox_aux_0: 0.1770 (0.1776)  loss_giou_aux_0: 0.3996 (0.3924)  loss_fgl_aux_0: 1.1829 (1.1824)  loss_ddf_aux_0: 0.1419 (0.1488)  loss_mal_aux_1: 0.8672 (0.8947)  loss_bbox_aux_1: 0.1588 (0.1597)  loss_giou_aux_1: 0.3737 (0.3580)  loss_fgl_aux_1: 1.1449 (1.1472)  loss_ddf_aux_1: 0.0107 (0.0105)  loss_mal_pre: 0.8809 (0.9111)  loss_bbox_pre: 0.1768 (0.1780)  loss_giou_pre: 0.4046 (0.3927)  loss_mal_enc_0: 0.9385 (0.9757)  loss_bbox_enc_0: 0.2320 (0.2510)  loss_giou_enc_0: 0.5139 (0.5254)  loss_mal_dn_0: 0.7617 (0.7631)  loss_bbox_dn_0: 0.2682 (0.2657)  loss_giou_dn_0: 0.5729 (0.5726)  loss_fgl_dn_0: 1.2199 (1.2244)  loss_ddf_dn_0: 0.7990 (0.7874)  loss_mal_dn_1: 0.7329 (0.7269)  loss_bbox_dn_1: 0.1918 (0.1940)  loss_giou_dn_1: 0.4169 (0.4208)  loss_fgl_dn_1: 1.1161 (1.1226)  loss_ddf_dn_1: 0.0363 (0.0363)  loss_mal_dn_2: 0.7222 (0.7199)  loss_bbox_dn_2: 0.1875 (0.1870)  loss_giou_dn_2: 0.4075 (0.4089)  loss_fgl_dn_2: 1.1102 (1.1174)  loss_mal_dn_pre: 0.7612 (0.7623)  loss_bbox_dn_pre: 0.2672 (0.2663)  loss_giou_dn_pre: 0.5641 (0.5736)\n",
      "Test:  [0/5]  eta: 0:00:04    time: 0.8769  data: 0.6097  max mem: 10532\n"
     ]
    },
    {
     "name": "stderr",
     "output_type": "stream",
     "text": [
      "\u001b[32m2025-03-10 16:34:35.785\u001b[0m | \u001b[1mINFO    \u001b[0m | \u001b[36mdeimkit.trainer\u001b[0m:\u001b[36mtrain\u001b[0m:\u001b[36m312\u001b[0m - \u001b[1mEpoch 110 - Train loss: 21.3122, Eval mAP: 0.6191\u001b[0m\n",
      "\u001b[32m2025-03-10 16:34:35.786\u001b[0m | \u001b[1mINFO    \u001b[0m | \u001b[36mdeimkit.trainer\u001b[0m:\u001b[36mtrain\u001b[0m:\u001b[36m315\u001b[0m - \u001b[1mBest stats: {'epoch': 106, 'coco_eval_bbox': 0.639978580523099}\u001b[0m\n"
     ]
    },
    {
     "name": "stdout",
     "output_type": "stream",
     "text": [
      "Test:  [4/5]  eta: 0:00:00    time: 0.2667  data: 0.1367  max mem: 10532\n",
      "Test: Total time: 0:00:01 (0.2781 s / it)\n",
      "Averaged stats: \n",
      "Accumulating evaluation results...\n",
      "COCOeval_opt.accumulate() finished...\n",
      "DONE (t=0.02s).\n",
      "IoU metric: bbox\n",
      " Average Precision  (AP) @[ IoU=0.50:0.95 | area=   all | maxDets=100 ] = 0.619\n",
      " Average Precision  (AP) @[ IoU=0.50      | area=   all | maxDets=100 ] = 0.892\n",
      " Average Precision  (AP) @[ IoU=0.75      | area=   all | maxDets=100 ] = 0.706\n",
      " Average Precision  (AP) @[ IoU=0.50:0.95 | area= small | maxDets=100 ] = 0.465\n",
      " Average Precision  (AP) @[ IoU=0.50:0.95 | area=medium | maxDets=100 ] = 0.635\n",
      " Average Precision  (AP) @[ IoU=0.50:0.95 | area= large | maxDets=100 ] = 0.481\n",
      " Average Recall     (AR) @[ IoU=0.50:0.95 | area=   all | maxDets=  1 ] = 0.406\n",
      " Average Recall     (AR) @[ IoU=0.50:0.95 | area=   all | maxDets= 10 ] = 0.680\n",
      " Average Recall     (AR) @[ IoU=0.50:0.95 | area=   all | maxDets=100 ] = 0.774\n",
      " Average Recall     (AR) @[ IoU=0.50:0.95 | area= small | maxDets=100 ] = 0.660\n",
      " Average Recall     (AR) @[ IoU=0.50:0.95 | area=medium | maxDets=100 ] = 0.777\n",
      " Average Recall     (AR) @[ IoU=0.50:0.95 | area= large | maxDets=100 ] = 0.784\n",
      " Average Recall     (AR) @[ IoU=0.50      | area=   all | maxDets=100 ] = 0.999\n",
      " Average Recall     (AR) @[ IoU=0.75      | area=   all | maxDets=100 ] = 0.909\n",
      "Epoch: [111]  [ 0/15]  eta: 0:00:25  lr: 0.000106  loss: 20.8883 (20.8883)  loss_mal: 0.8774 (0.8774)  loss_bbox: 0.1361 (0.1361)  loss_giou: 0.3401 (0.3401)  loss_fgl: 1.1823 (1.1823)  loss_mal_aux_0: 0.8765 (0.8765)  loss_bbox_aux_0: 0.1546 (0.1546)  loss_giou_aux_0: 0.3842 (0.3842)  loss_fgl_aux_0: 1.2174 (1.2174)  loss_ddf_aux_0: 0.1431 (0.1431)  loss_mal_aux_1: 0.8721 (0.8721)  loss_bbox_aux_1: 0.1392 (0.1392)  loss_giou_aux_1: 0.3436 (0.3436)  loss_fgl_aux_1: 1.1808 (1.1808)  loss_ddf_aux_1: 0.0097 (0.0097)  loss_mal_pre: 0.8794 (0.8794)  loss_bbox_pre: 0.1541 (0.1541)  loss_giou_pre: 0.3838 (0.3838)  loss_mal_enc_0: 1.0049 (1.0049)  loss_bbox_enc_0: 0.2167 (0.2167)  loss_giou_enc_0: 0.5217 (0.5217)  loss_mal_dn_0: 0.7432 (0.7432)  loss_bbox_dn_0: 0.2205 (0.2205)  loss_giou_dn_0: 0.5656 (0.5656)  loss_fgl_dn_0: 1.2151 (1.2151)  loss_ddf_dn_0: 0.6621 (0.6621)  loss_mal_dn_1: 0.7334 (0.7334)  loss_bbox_dn_1: 0.1661 (0.1661)  loss_giou_dn_1: 0.4231 (0.4231)  loss_fgl_dn_1: 1.1366 (1.1366)  loss_ddf_dn_1: 0.0322 (0.0322)  loss_mal_dn_2: 0.7266 (0.7266)  loss_bbox_dn_2: 0.1593 (0.1593)  loss_giou_dn_2: 0.4082 (0.4082)  loss_fgl_dn_2: 1.1356 (1.1356)  loss_mal_dn_pre: 0.7402 (0.7402)  loss_bbox_dn_pre: 0.2250 (0.2250)  loss_giou_dn_pre: 0.5777 (0.5777)  time: 1.7093  data: 1.2621  max mem: 10532\n"
     ]
    },
    {
     "name": "stderr",
     "output_type": "stream",
     "text": [
      "\u001b[32m2025-03-10 16:34:42.879\u001b[0m | \u001b[1mINFO    \u001b[0m | \u001b[36mdeimkit.trainer\u001b[0m:\u001b[36m_save_checkpoint\u001b[0m:\u001b[36m363\u001b[0m - \u001b[1mSaving checkpoint to outputs/deim_hgnetv2_s_coco_ema_tune/checkpoint0111.pth\u001b[0m\n"
     ]
    },
    {
     "name": "stdout",
     "output_type": "stream",
     "text": [
      "Epoch: [111]  [14/15]  eta: 0:00:00  lr: 0.000105  loss: 21.6561 (21.5266)  loss_mal: 0.8726 (0.8844)  loss_bbox: 0.1670 (0.1695)  loss_giou: 0.3451 (0.3547)  loss_fgl: 1.1552 (1.1506)  loss_mal_aux_0: 0.8921 (0.9032)  loss_bbox_aux_0: 0.1903 (0.1899)  loss_giou_aux_0: 0.3940 (0.3953)  loss_fgl_aux_0: 1.1949 (1.1921)  loss_ddf_aux_0: 0.1485 (0.1568)  loss_mal_aux_1: 0.8721 (0.8915)  loss_bbox_aux_1: 0.1696 (0.1713)  loss_giou_aux_1: 0.3517 (0.3570)  loss_fgl_aux_1: 1.1588 (1.1542)  loss_ddf_aux_1: 0.0099 (0.0099)  loss_mal_pre: 0.8911 (0.9024)  loss_bbox_pre: 0.1912 (0.1894)  loss_giou_pre: 0.3917 (0.3951)  loss_mal_enc_0: 0.9463 (0.9684)  loss_bbox_enc_0: 0.2586 (0.2638)  loss_giou_enc_0: 0.5144 (0.5353)  loss_mal_dn_0: 0.7661 (0.7645)  loss_bbox_dn_0: 0.2732 (0.2723)  loss_giou_dn_0: 0.5693 (0.5757)  loss_fgl_dn_0: 1.2212 (1.2279)  loss_ddf_dn_0: 0.8537 (0.8372)  loss_mal_dn_1: 0.7412 (0.7388)  loss_bbox_dn_1: 0.2083 (0.2055)  loss_giou_dn_1: 0.4200 (0.4239)  loss_fgl_dn_1: 1.1303 (1.1286)  loss_ddf_dn_1: 0.0402 (0.0393)  loss_mal_dn_2: 0.7319 (0.7282)  loss_bbox_dn_2: 0.2014 (0.1984)  loss_giou_dn_2: 0.4070 (0.4104)  loss_fgl_dn_2: 1.1283 (1.1245)  loss_mal_dn_pre: 0.7651 (0.7644)  loss_bbox_dn_pre: 0.2707 (0.2738)  loss_giou_dn_pre: 0.5738 (0.5785)  time: 0.4669  data: 0.0996  max mem: 10532\n",
      "Epoch: [111] Total time: 0:00:07 (0.4718 s / it)\n",
      "Averaged stats: lr: 0.000105  loss: 21.6561 (21.5266)  loss_mal: 0.8726 (0.8844)  loss_bbox: 0.1670 (0.1695)  loss_giou: 0.3451 (0.3547)  loss_fgl: 1.1552 (1.1506)  loss_mal_aux_0: 0.8921 (0.9032)  loss_bbox_aux_0: 0.1903 (0.1899)  loss_giou_aux_0: 0.3940 (0.3953)  loss_fgl_aux_0: 1.1949 (1.1921)  loss_ddf_aux_0: 0.1485 (0.1568)  loss_mal_aux_1: 0.8721 (0.8915)  loss_bbox_aux_1: 0.1696 (0.1713)  loss_giou_aux_1: 0.3517 (0.3570)  loss_fgl_aux_1: 1.1588 (1.1542)  loss_ddf_aux_1: 0.0099 (0.0099)  loss_mal_pre: 0.8911 (0.9024)  loss_bbox_pre: 0.1912 (0.1894)  loss_giou_pre: 0.3917 (0.3951)  loss_mal_enc_0: 0.9463 (0.9684)  loss_bbox_enc_0: 0.2586 (0.2638)  loss_giou_enc_0: 0.5144 (0.5353)  loss_mal_dn_0: 0.7661 (0.7645)  loss_bbox_dn_0: 0.2732 (0.2723)  loss_giou_dn_0: 0.5693 (0.5757)  loss_fgl_dn_0: 1.2212 (1.2279)  loss_ddf_dn_0: 0.8537 (0.8372)  loss_mal_dn_1: 0.7412 (0.7388)  loss_bbox_dn_1: 0.2083 (0.2055)  loss_giou_dn_1: 0.4200 (0.4239)  loss_fgl_dn_1: 1.1303 (1.1286)  loss_ddf_dn_1: 0.0402 (0.0393)  loss_mal_dn_2: 0.7319 (0.7282)  loss_bbox_dn_2: 0.2014 (0.1984)  loss_giou_dn_2: 0.4070 (0.4104)  loss_fgl_dn_2: 1.1283 (1.1245)  loss_mal_dn_pre: 0.7651 (0.7644)  loss_bbox_dn_pre: 0.2707 (0.2738)  loss_giou_dn_pre: 0.5738 (0.5785)\n"
     ]
    },
    {
     "name": "stderr",
     "output_type": "stream",
     "text": [
      "\u001b[32m2025-03-10 16:34:43.139\u001b[0m | \u001b[1mINFO    \u001b[0m | \u001b[36mdeimkit.trainer\u001b[0m:\u001b[36m_save_checkpoint\u001b[0m:\u001b[36m380\u001b[0m - \u001b[1mCheckpoint saved to outputs/deim_hgnetv2_s_coco_ema_tune/checkpoint0111.pth\u001b[0m\n",
      "\u001b[32m2025-03-10 16:34:43.140\u001b[0m | \u001b[1mINFO    \u001b[0m | \u001b[36mdeimkit.trainer\u001b[0m:\u001b[36mevaluate\u001b[0m:\u001b[36m331\u001b[0m - \u001b[1mEvaluating model...\u001b[0m\n"
     ]
    },
    {
     "name": "stdout",
     "output_type": "stream",
     "text": [
      "Test:  [0/5]  eta: 0:00:04    time: 0.8890  data: 0.6234  max mem: 10532\n"
     ]
    },
    {
     "name": "stderr",
     "output_type": "stream",
     "text": [
      "\u001b[32m2025-03-10 16:34:44.571\u001b[0m | \u001b[1mINFO    \u001b[0m | \u001b[36mdeimkit.trainer\u001b[0m:\u001b[36mtrain\u001b[0m:\u001b[36m312\u001b[0m - \u001b[1mEpoch 111 - Train loss: 21.5266, Eval mAP: 0.6293\u001b[0m\n",
      "\u001b[32m2025-03-10 16:34:44.571\u001b[0m | \u001b[1mINFO    \u001b[0m | \u001b[36mdeimkit.trainer\u001b[0m:\u001b[36mtrain\u001b[0m:\u001b[36m315\u001b[0m - \u001b[1mBest stats: {'epoch': 106, 'coco_eval_bbox': 0.639978580523099}\u001b[0m\n"
     ]
    },
    {
     "name": "stdout",
     "output_type": "stream",
     "text": [
      "Test:  [4/5]  eta: 0:00:00    time: 0.2666  data: 0.1365  max mem: 10532\n",
      "Test: Total time: 0:00:01 (0.2800 s / it)\n",
      "Averaged stats: \n",
      "Accumulating evaluation results...\n",
      "COCOeval_opt.accumulate() finished...\n",
      "DONE (t=0.02s).\n",
      "IoU metric: bbox\n",
      " Average Precision  (AP) @[ IoU=0.50:0.95 | area=   all | maxDets=100 ] = 0.629\n",
      " Average Precision  (AP) @[ IoU=0.50      | area=   all | maxDets=100 ] = 0.885\n",
      " Average Precision  (AP) @[ IoU=0.75      | area=   all | maxDets=100 ] = 0.731\n",
      " Average Precision  (AP) @[ IoU=0.50:0.95 | area= small | maxDets=100 ] = 0.523\n",
      " Average Precision  (AP) @[ IoU=0.50:0.95 | area=medium | maxDets=100 ] = 0.603\n",
      " Average Precision  (AP) @[ IoU=0.50:0.95 | area= large | maxDets=100 ] = 0.486\n",
      " Average Recall     (AR) @[ IoU=0.50:0.95 | area=   all | maxDets=  1 ] = 0.413\n",
      " Average Recall     (AR) @[ IoU=0.50:0.95 | area=   all | maxDets= 10 ] = 0.687\n",
      " Average Recall     (AR) @[ IoU=0.50:0.95 | area=   all | maxDets=100 ] = 0.780\n",
      " Average Recall     (AR) @[ IoU=0.50:0.95 | area= small | maxDets=100 ] = 0.680\n",
      " Average Recall     (AR) @[ IoU=0.50:0.95 | area=medium | maxDets=100 ] = 0.755\n",
      " Average Recall     (AR) @[ IoU=0.50:0.95 | area= large | maxDets=100 ] = 0.551\n",
      " Average Recall     (AR) @[ IoU=0.50      | area=   all | maxDets=100 ] = 0.995\n",
      " Average Recall     (AR) @[ IoU=0.75      | area=   all | maxDets=100 ] = 0.921\n",
      "Epoch: [112]  [ 0/15]  eta: 0:00:23  lr: 0.000105  loss: 20.7608 (20.7608)  loss_mal: 0.8330 (0.8330)  loss_bbox: 0.1436 (0.1436)  loss_giou: 0.3528 (0.3528)  loss_fgl: 1.1748 (1.1748)  loss_mal_aux_0: 0.8447 (0.8447)  loss_bbox_aux_0: 0.1586 (0.1586)  loss_giou_aux_0: 0.3824 (0.3824)  loss_fgl_aux_0: 1.2030 (1.2030)  loss_ddf_aux_0: 0.1306 (0.1306)  loss_mal_aux_1: 0.8428 (0.8428)  loss_bbox_aux_1: 0.1459 (0.1459)  loss_giou_aux_1: 0.3566 (0.3566)  loss_fgl_aux_1: 1.1755 (1.1755)  loss_ddf_aux_1: 0.0092 (0.0092)  loss_mal_pre: 0.8457 (0.8457)  loss_bbox_pre: 0.1589 (0.1589)  loss_giou_pre: 0.3847 (0.3847)  loss_mal_enc_0: 0.9082 (0.9082)  loss_bbox_enc_0: 0.1957 (0.1957)  loss_giou_enc_0: 0.4592 (0.4592)  loss_mal_dn_0: 0.7485 (0.7485)  loss_bbox_dn_0: 0.2410 (0.2410)  loss_giou_dn_0: 0.5501 (0.5501)  loss_fgl_dn_0: 1.2177 (1.2177)  loss_ddf_dn_0: 0.8438 (0.8438)  loss_mal_dn_1: 0.7319 (0.7319)  loss_bbox_dn_1: 0.1810 (0.1810)  loss_giou_dn_1: 0.4078 (0.4078)  loss_fgl_dn_1: 1.1337 (1.1337)  loss_ddf_dn_1: 0.0397 (0.0397)  loss_mal_dn_2: 0.7188 (0.7188)  loss_bbox_dn_2: 0.1762 (0.1762)  loss_giou_dn_2: 0.3993 (0.3993)  loss_fgl_dn_2: 1.1263 (1.1263)  loss_mal_dn_pre: 0.7485 (0.7485)  loss_bbox_dn_pre: 0.2411 (0.2411)  loss_giou_dn_pre: 0.5493 (0.5493)  time: 1.5988  data: 1.1640  max mem: 10532\n"
     ]
    },
    {
     "name": "stderr",
     "output_type": "stream",
     "text": [
      "\u001b[32m2025-03-10 16:34:51.587\u001b[0m | \u001b[1mINFO    \u001b[0m | \u001b[36mdeimkit.trainer\u001b[0m:\u001b[36mevaluate\u001b[0m:\u001b[36m331\u001b[0m - \u001b[1mEvaluating model...\u001b[0m\n"
     ]
    },
    {
     "name": "stdout",
     "output_type": "stream",
     "text": [
      "Epoch: [112]  [14/15]  eta: 0:00:00  lr: 0.000104  loss: 20.9520 (21.0993)  loss_mal: 0.8462 (0.8614)  loss_bbox: 0.1559 (0.1599)  loss_giou: 0.3512 (0.3417)  loss_fgl: 1.1374 (1.1450)  loss_mal_aux_0: 0.8940 (0.9045)  loss_bbox_aux_0: 0.1718 (0.1792)  loss_giou_aux_0: 0.3824 (0.3759)  loss_fgl_aux_0: 1.1820 (1.1854)  loss_ddf_aux_0: 0.1391 (0.1415)  loss_mal_aux_1: 0.8721 (0.8772)  loss_bbox_aux_1: 0.1579 (0.1622)  loss_giou_aux_1: 0.3518 (0.3447)  loss_fgl_aux_1: 1.1409 (1.1485)  loss_ddf_aux_1: 0.0091 (0.0091)  loss_mal_pre: 0.8955 (0.9026)  loss_bbox_pre: 0.1703 (0.1790)  loss_giou_pre: 0.3831 (0.3759)  loss_mal_enc_0: 0.9839 (0.9874)  loss_bbox_enc_0: 0.2238 (0.2406)  loss_giou_enc_0: 0.4804 (0.4917)  loss_mal_dn_0: 0.7554 (0.7578)  loss_bbox_dn_0: 0.2679 (0.2751)  loss_giou_dn_0: 0.5624 (0.5663)  loss_fgl_dn_0: 1.2177 (1.2203)  loss_ddf_dn_0: 0.7466 (0.7566)  loss_mal_dn_1: 0.7251 (0.7240)  loss_bbox_dn_1: 0.1920 (0.2006)  loss_giou_dn_1: 0.4078 (0.4163)  loss_fgl_dn_1: 1.1128 (1.1148)  loss_ddf_dn_1: 0.0348 (0.0347)  loss_mal_dn_2: 0.7163 (0.7148)  loss_bbox_dn_2: 0.1847 (0.1934)  loss_giou_dn_2: 0.3993 (0.4052)  loss_fgl_dn_2: 1.1033 (1.1088)  loss_mal_dn_pre: 0.7563 (0.7577)  loss_bbox_dn_pre: 0.2651 (0.2752)  loss_giou_dn_pre: 0.5570 (0.5645)  time: 0.4621  data: 0.0908  max mem: 10532\n",
      "Epoch: [112] Total time: 0:00:06 (0.4661 s / it)\n",
      "Averaged stats: lr: 0.000104  loss: 20.9520 (21.0993)  loss_mal: 0.8462 (0.8614)  loss_bbox: 0.1559 (0.1599)  loss_giou: 0.3512 (0.3417)  loss_fgl: 1.1374 (1.1450)  loss_mal_aux_0: 0.8940 (0.9045)  loss_bbox_aux_0: 0.1718 (0.1792)  loss_giou_aux_0: 0.3824 (0.3759)  loss_fgl_aux_0: 1.1820 (1.1854)  loss_ddf_aux_0: 0.1391 (0.1415)  loss_mal_aux_1: 0.8721 (0.8772)  loss_bbox_aux_1: 0.1579 (0.1622)  loss_giou_aux_1: 0.3518 (0.3447)  loss_fgl_aux_1: 1.1409 (1.1485)  loss_ddf_aux_1: 0.0091 (0.0091)  loss_mal_pre: 0.8955 (0.9026)  loss_bbox_pre: 0.1703 (0.1790)  loss_giou_pre: 0.3831 (0.3759)  loss_mal_enc_0: 0.9839 (0.9874)  loss_bbox_enc_0: 0.2238 (0.2406)  loss_giou_enc_0: 0.4804 (0.4917)  loss_mal_dn_0: 0.7554 (0.7578)  loss_bbox_dn_0: 0.2679 (0.2751)  loss_giou_dn_0: 0.5624 (0.5663)  loss_fgl_dn_0: 1.2177 (1.2203)  loss_ddf_dn_0: 0.7466 (0.7566)  loss_mal_dn_1: 0.7251 (0.7240)  loss_bbox_dn_1: 0.1920 (0.2006)  loss_giou_dn_1: 0.4078 (0.4163)  loss_fgl_dn_1: 1.1128 (1.1148)  loss_ddf_dn_1: 0.0348 (0.0347)  loss_mal_dn_2: 0.7163 (0.7148)  loss_bbox_dn_2: 0.1847 (0.1934)  loss_giou_dn_2: 0.3993 (0.4052)  loss_fgl_dn_2: 1.1033 (1.1088)  loss_mal_dn_pre: 0.7563 (0.7577)  loss_bbox_dn_pre: 0.2651 (0.2752)  loss_giou_dn_pre: 0.5570 (0.5645)\n",
      "Test:  [0/5]  eta: 0:00:03    time: 0.7264  data: 0.6052  max mem: 10532\n"
     ]
    },
    {
     "name": "stderr",
     "output_type": "stream",
     "text": [
      "\u001b[32m2025-03-10 16:34:53.141\u001b[0m | \u001b[1mINFO    \u001b[0m | \u001b[36mdeimkit.trainer\u001b[0m:\u001b[36mtrain\u001b[0m:\u001b[36m312\u001b[0m - \u001b[1mEpoch 112 - Train loss: 21.0993, Eval mAP: 0.6204\u001b[0m\n",
      "\u001b[32m2025-03-10 16:34:53.142\u001b[0m | \u001b[1mINFO    \u001b[0m | \u001b[36mdeimkit.trainer\u001b[0m:\u001b[36mtrain\u001b[0m:\u001b[36m315\u001b[0m - \u001b[1mBest stats: {'epoch': 106, 'coco_eval_bbox': 0.639978580523099}\u001b[0m\n"
     ]
    },
    {
     "name": "stdout",
     "output_type": "stream",
     "text": [
      "Test:  [4/5]  eta: 0:00:00    time: 0.2917  data: 0.1444  max mem: 10532\n",
      "Test: Total time: 0:00:01 (0.3042 s / it)\n",
      "Averaged stats: \n",
      "Accumulating evaluation results...\n",
      "COCOeval_opt.accumulate() finished...\n",
      "DONE (t=0.02s).\n",
      "IoU metric: bbox\n",
      " Average Precision  (AP) @[ IoU=0.50:0.95 | area=   all | maxDets=100 ] = 0.620\n",
      " Average Precision  (AP) @[ IoU=0.50      | area=   all | maxDets=100 ] = 0.902\n",
      " Average Precision  (AP) @[ IoU=0.75      | area=   all | maxDets=100 ] = 0.683\n",
      " Average Precision  (AP) @[ IoU=0.50:0.95 | area= small | maxDets=100 ] = 0.340\n",
      " Average Precision  (AP) @[ IoU=0.50:0.95 | area=medium | maxDets=100 ] = 0.630\n",
      " Average Precision  (AP) @[ IoU=0.50:0.95 | area= large | maxDets=100 ] = 0.488\n",
      " Average Recall     (AR) @[ IoU=0.50:0.95 | area=   all | maxDets=  1 ] = 0.402\n",
      " Average Recall     (AR) @[ IoU=0.50:0.95 | area=   all | maxDets= 10 ] = 0.670\n",
      " Average Recall     (AR) @[ IoU=0.50:0.95 | area=   all | maxDets=100 ] = 0.768\n",
      " Average Recall     (AR) @[ IoU=0.50:0.95 | area= small | maxDets=100 ] = 0.700\n",
      " Average Recall     (AR) @[ IoU=0.50:0.95 | area=medium | maxDets=100 ] = 0.774\n",
      " Average Recall     (AR) @[ IoU=0.50:0.95 | area= large | maxDets=100 ] = 0.784\n",
      " Average Recall     (AR) @[ IoU=0.50      | area=   all | maxDets=100 ] = 0.999\n",
      " Average Recall     (AR) @[ IoU=0.75      | area=   all | maxDets=100 ] = 0.883\n",
      "Epoch: [113]  [ 0/15]  eta: 0:00:26  lr: 0.000104  loss: 21.2451 (21.2451)  loss_mal: 0.8823 (0.8823)  loss_bbox: 0.1691 (0.1691)  loss_giou: 0.3439 (0.3439)  loss_fgl: 1.1701 (1.1701)  loss_mal_aux_0: 0.9111 (0.9111)  loss_bbox_aux_0: 0.1886 (0.1886)  loss_giou_aux_0: 0.3801 (0.3801)  loss_fgl_aux_0: 1.2153 (1.2153)  loss_ddf_aux_0: 0.1292 (0.1292)  loss_mal_aux_1: 0.8906 (0.8906)  loss_bbox_aux_1: 0.1694 (0.1694)  loss_giou_aux_1: 0.3487 (0.3487)  loss_fgl_aux_1: 1.1720 (1.1720)  loss_ddf_aux_1: 0.0087 (0.0087)  loss_mal_pre: 0.9092 (0.9092)  loss_bbox_pre: 0.1864 (0.1864)  loss_giou_pre: 0.3787 (0.3787)  loss_mal_enc_0: 1.0078 (1.0078)  loss_bbox_enc_0: 0.2277 (0.2277)  loss_giou_enc_0: 0.4732 (0.4732)  loss_mal_dn_0: 0.7632 (0.7632)  loss_bbox_dn_0: 0.2747 (0.2747)  loss_giou_dn_0: 0.5669 (0.5669)  loss_fgl_dn_0: 1.2557 (1.2557)  loss_ddf_dn_0: 0.6534 (0.6534)  loss_mal_dn_1: 0.7266 (0.7266)  loss_bbox_dn_1: 0.2010 (0.2010)  loss_giou_dn_1: 0.4208 (0.4208)  loss_fgl_dn_1: 1.1371 (1.1371)  loss_ddf_dn_1: 0.0296 (0.0296)  loss_mal_dn_2: 0.7153 (0.7153)  loss_bbox_dn_2: 0.1929 (0.1929)  loss_giou_dn_2: 0.4051 (0.4051)  loss_fgl_dn_2: 1.1302 (1.1302)  loss_mal_dn_pre: 0.7627 (0.7627)  loss_bbox_dn_pre: 0.2757 (0.2757)  loss_giou_dn_pre: 0.5724 (0.5724)  time: 1.7747  data: 1.2882  max mem: 10532\n"
     ]
    },
    {
     "name": "stderr",
     "output_type": "stream",
     "text": [
      "\u001b[32m2025-03-10 16:35:00.435\u001b[0m | \u001b[1mINFO    \u001b[0m | \u001b[36mdeimkit.trainer\u001b[0m:\u001b[36mevaluate\u001b[0m:\u001b[36m331\u001b[0m - \u001b[1mEvaluating model...\u001b[0m\n"
     ]
    },
    {
     "name": "stdout",
     "output_type": "stream",
     "text": [
      "Epoch: [113]  [14/15]  eta: 0:00:00  lr: 0.000103  loss: 20.8569 (20.8595)  loss_mal: 0.8354 (0.8428)  loss_bbox: 0.1546 (0.1591)  loss_giou: 0.3379 (0.3393)  loss_fgl: 1.1459 (1.1430)  loss_mal_aux_0: 0.8589 (0.8746)  loss_bbox_aux_0: 0.1751 (0.1776)  loss_giou_aux_0: 0.3653 (0.3715)  loss_fgl_aux_0: 1.1862 (1.1838)  loss_ddf_aux_0: 0.1368 (0.1386)  loss_mal_aux_1: 0.8467 (0.8559)  loss_bbox_aux_1: 0.1578 (0.1614)  loss_giou_aux_1: 0.3417 (0.3426)  loss_fgl_aux_1: 1.1484 (1.1474)  loss_ddf_aux_1: 0.0089 (0.0093)  loss_mal_pre: 0.8579 (0.8740)  loss_bbox_pre: 0.1742 (0.1772)  loss_giou_pre: 0.3650 (0.3713)  loss_mal_enc_0: 0.9229 (0.9426)  loss_bbox_enc_0: 0.2412 (0.2276)  loss_giou_enc_0: 0.4601 (0.4652)  loss_mal_dn_0: 0.7568 (0.7574)  loss_bbox_dn_0: 0.2678 (0.2587)  loss_giou_dn_0: 0.5565 (0.5544)  loss_fgl_dn_0: 1.2251 (1.2248)  loss_ddf_dn_0: 0.8012 (0.7932)  loss_mal_dn_1: 0.7217 (0.7229)  loss_bbox_dn_1: 0.1932 (0.1916)  loss_giou_dn_1: 0.4053 (0.4102)  loss_fgl_dn_1: 1.1221 (1.1205)  loss_ddf_dn_1: 0.0349 (0.0340)  loss_mal_dn_2: 0.7153 (0.7148)  loss_bbox_dn_2: 0.1855 (0.1845)  loss_giou_dn_2: 0.3945 (0.3988)  loss_fgl_dn_2: 1.1168 (1.1147)  loss_mal_dn_pre: 0.7573 (0.7582)  loss_bbox_dn_pre: 0.2702 (0.2598)  loss_giou_dn_pre: 0.5595 (0.5566)  time: 0.4808  data: 0.1077  max mem: 10532\n",
      "Epoch: [113] Total time: 0:00:07 (0.4849 s / it)\n",
      "Averaged stats: lr: 0.000103  loss: 20.8569 (20.8595)  loss_mal: 0.8354 (0.8428)  loss_bbox: 0.1546 (0.1591)  loss_giou: 0.3379 (0.3393)  loss_fgl: 1.1459 (1.1430)  loss_mal_aux_0: 0.8589 (0.8746)  loss_bbox_aux_0: 0.1751 (0.1776)  loss_giou_aux_0: 0.3653 (0.3715)  loss_fgl_aux_0: 1.1862 (1.1838)  loss_ddf_aux_0: 0.1368 (0.1386)  loss_mal_aux_1: 0.8467 (0.8559)  loss_bbox_aux_1: 0.1578 (0.1614)  loss_giou_aux_1: 0.3417 (0.3426)  loss_fgl_aux_1: 1.1484 (1.1474)  loss_ddf_aux_1: 0.0089 (0.0093)  loss_mal_pre: 0.8579 (0.8740)  loss_bbox_pre: 0.1742 (0.1772)  loss_giou_pre: 0.3650 (0.3713)  loss_mal_enc_0: 0.9229 (0.9426)  loss_bbox_enc_0: 0.2412 (0.2276)  loss_giou_enc_0: 0.4601 (0.4652)  loss_mal_dn_0: 0.7568 (0.7574)  loss_bbox_dn_0: 0.2678 (0.2587)  loss_giou_dn_0: 0.5565 (0.5544)  loss_fgl_dn_0: 1.2251 (1.2248)  loss_ddf_dn_0: 0.8012 (0.7932)  loss_mal_dn_1: 0.7217 (0.7229)  loss_bbox_dn_1: 0.1932 (0.1916)  loss_giou_dn_1: 0.4053 (0.4102)  loss_fgl_dn_1: 1.1221 (1.1205)  loss_ddf_dn_1: 0.0349 (0.0340)  loss_mal_dn_2: 0.7153 (0.7148)  loss_bbox_dn_2: 0.1855 (0.1845)  loss_giou_dn_2: 0.3945 (0.3988)  loss_fgl_dn_2: 1.1168 (1.1147)  loss_mal_dn_pre: 0.7573 (0.7582)  loss_bbox_dn_pre: 0.2702 (0.2598)  loss_giou_dn_pre: 0.5595 (0.5566)\n",
      "Test:  [0/5]  eta: 0:00:03    time: 0.7353  data: 0.6217  max mem: 10532\n"
     ]
    },
    {
     "name": "stderr",
     "output_type": "stream",
     "text": [
      "\u001b[32m2025-03-10 16:35:01.900\u001b[0m | \u001b[1mINFO    \u001b[0m | \u001b[36mdeimkit.trainer\u001b[0m:\u001b[36mtrain\u001b[0m:\u001b[36m312\u001b[0m - \u001b[1mEpoch 113 - Train loss: 20.8595, Eval mAP: 0.6359\u001b[0m\n",
      "\u001b[32m2025-03-10 16:35:01.900\u001b[0m | \u001b[1mINFO    \u001b[0m | \u001b[36mdeimkit.trainer\u001b[0m:\u001b[36mtrain\u001b[0m:\u001b[36m315\u001b[0m - \u001b[1mBest stats: {'epoch': 106, 'coco_eval_bbox': 0.639978580523099}\u001b[0m\n"
     ]
    },
    {
     "name": "stdout",
     "output_type": "stream",
     "text": [
      "Test:  [4/5]  eta: 0:00:00    time: 0.2736  data: 0.1380  max mem: 10532\n",
      "Test: Total time: 0:00:01 (0.2861 s / it)\n",
      "Averaged stats: \n",
      "Accumulating evaluation results...\n",
      "COCOeval_opt.accumulate() finished...\n",
      "DONE (t=0.02s).\n",
      "IoU metric: bbox\n",
      " Average Precision  (AP) @[ IoU=0.50:0.95 | area=   all | maxDets=100 ] = 0.636\n",
      " Average Precision  (AP) @[ IoU=0.50      | area=   all | maxDets=100 ] = 0.896\n",
      " Average Precision  (AP) @[ IoU=0.75      | area=   all | maxDets=100 ] = 0.725\n",
      " Average Precision  (AP) @[ IoU=0.50:0.95 | area= small | maxDets=100 ] = 0.457\n",
      " Average Precision  (AP) @[ IoU=0.50:0.95 | area=medium | maxDets=100 ] = 0.646\n",
      " Average Precision  (AP) @[ IoU=0.50:0.95 | area= large | maxDets=100 ] = 0.489\n",
      " Average Recall     (AR) @[ IoU=0.50:0.95 | area=   all | maxDets=  1 ] = 0.414\n",
      " Average Recall     (AR) @[ IoU=0.50:0.95 | area=   all | maxDets= 10 ] = 0.691\n",
      " Average Recall     (AR) @[ IoU=0.50:0.95 | area=   all | maxDets=100 ] = 0.782\n",
      " Average Recall     (AR) @[ IoU=0.50:0.95 | area= small | maxDets=100 ] = 0.680\n",
      " Average Recall     (AR) @[ IoU=0.50:0.95 | area=medium | maxDets=100 ] = 0.786\n",
      " Average Recall     (AR) @[ IoU=0.50:0.95 | area= large | maxDets=100 ] = 0.786\n",
      " Average Recall     (AR) @[ IoU=0.50      | area=   all | maxDets=100 ] = 0.999\n",
      " Average Recall     (AR) @[ IoU=0.75      | area=   all | maxDets=100 ] = 0.917\n",
      "Epoch: [114]  [ 0/15]  eta: 0:00:24  lr: 0.000103  loss: 20.6974 (20.6974)  loss_mal: 0.8462 (0.8462)  loss_bbox: 0.1645 (0.1645)  loss_giou: 0.3180 (0.3180)  loss_fgl: 1.1593 (1.1593)  loss_mal_aux_0: 0.8340 (0.8340)  loss_bbox_aux_0: 0.1848 (0.1848)  loss_giou_aux_0: 0.3486 (0.3486)  loss_fgl_aux_0: 1.1909 (1.1909)  loss_ddf_aux_0: 0.1263 (0.1263)  loss_mal_aux_1: 0.8511 (0.8511)  loss_bbox_aux_1: 0.1681 (0.1681)  loss_giou_aux_1: 0.3215 (0.3215)  loss_fgl_aux_1: 1.1633 (1.1633)  loss_ddf_aux_1: 0.0101 (0.0101)  loss_mal_pre: 0.8325 (0.8325)  loss_bbox_pre: 0.1846 (0.1846)  loss_giou_pre: 0.3491 (0.3491)  loss_mal_enc_0: 0.9624 (0.9624)  loss_bbox_enc_0: 0.2212 (0.2212)  loss_giou_enc_0: 0.4292 (0.4292)  loss_mal_dn_0: 0.7524 (0.7524)  loss_bbox_dn_0: 0.2609 (0.2609)  loss_giou_dn_0: 0.5318 (0.5318)  loss_fgl_dn_0: 1.2200 (1.2200)  loss_ddf_dn_0: 0.7888 (0.7888)  loss_mal_dn_1: 0.7275 (0.7275)  loss_bbox_dn_1: 0.1967 (0.1967)  loss_giou_dn_1: 0.3976 (0.3976)  loss_fgl_dn_1: 1.1330 (1.1330)  loss_ddf_dn_1: 0.0330 (0.0330)  loss_mal_dn_2: 0.7148 (0.7148)  loss_bbox_dn_2: 0.1923 (0.1923)  loss_giou_dn_2: 0.3902 (0.3902)  loss_fgl_dn_2: 1.1303 (1.1303)  loss_mal_dn_pre: 0.7539 (0.7539)  loss_bbox_dn_pre: 0.2672 (0.2672)  loss_giou_dn_pre: 0.5414 (0.5414)  time: 1.6602  data: 1.1809  max mem: 10532\n"
     ]
    },
    {
     "name": "stderr",
     "output_type": "stream",
     "text": [
      "\u001b[32m2025-03-10 16:35:09.865\u001b[0m | \u001b[1mINFO    \u001b[0m | \u001b[36mdeimkit.trainer\u001b[0m:\u001b[36mevaluate\u001b[0m:\u001b[36m331\u001b[0m - \u001b[1mEvaluating model...\u001b[0m\n"
     ]
    },
    {
     "name": "stdout",
     "output_type": "stream",
     "text": [
      "Epoch: [114]  [14/15]  eta: 0:00:00  lr: 0.000102  loss: 21.0885 (20.9714)  loss_mal: 0.8481 (0.8751)  loss_bbox: 0.1570 (0.1532)  loss_giou: 0.3366 (0.3341)  loss_fgl: 1.1429 (1.1437)  loss_mal_aux_0: 0.8687 (0.8975)  loss_bbox_aux_0: 0.1743 (0.1710)  loss_giou_aux_0: 0.3617 (0.3677)  loss_fgl_aux_0: 1.1895 (1.1846)  loss_ddf_aux_0: 0.1412 (0.1402)  loss_mal_aux_1: 0.8569 (0.8887)  loss_bbox_aux_1: 0.1599 (0.1554)  loss_giou_aux_1: 0.3387 (0.3374)  loss_fgl_aux_1: 1.1492 (1.1479)  loss_ddf_aux_1: 0.0100 (0.0099)  loss_mal_pre: 0.8672 (0.8959)  loss_bbox_pre: 0.1734 (0.1713)  loss_giou_pre: 0.3624 (0.3679)  loss_mal_enc_0: 0.9609 (0.9760)  loss_bbox_enc_0: 0.2260 (0.2344)  loss_giou_enc_0: 0.4909 (0.4822)  loss_mal_dn_0: 0.7524 (0.7551)  loss_bbox_dn_0: 0.2609 (0.2596)  loss_giou_dn_0: 0.5604 (0.5534)  loss_fgl_dn_0: 1.2200 (1.2216)  loss_ddf_dn_0: 0.7960 (0.7920)  loss_mal_dn_1: 0.7271 (0.7279)  loss_bbox_dn_1: 0.1967 (0.1915)  loss_giou_dn_1: 0.4128 (0.4058)  loss_fgl_dn_1: 1.1177 (1.1152)  loss_ddf_dn_1: 0.0362 (0.0363)  loss_mal_dn_2: 0.7212 (0.7187)  loss_bbox_dn_2: 0.1903 (0.1849)  loss_giou_dn_2: 0.4015 (0.3940)  loss_fgl_dn_2: 1.1107 (1.1088)  loss_mal_dn_pre: 0.7539 (0.7547)  loss_bbox_dn_pre: 0.2615 (0.2616)  loss_giou_dn_pre: 0.5574 (0.5564)  time: 0.5243  data: 0.1024  max mem: 10532\n",
      "Epoch: [114] Total time: 0:00:07 (0.5294 s / it)\n",
      "Averaged stats: lr: 0.000102  loss: 21.0885 (20.9714)  loss_mal: 0.8481 (0.8751)  loss_bbox: 0.1570 (0.1532)  loss_giou: 0.3366 (0.3341)  loss_fgl: 1.1429 (1.1437)  loss_mal_aux_0: 0.8687 (0.8975)  loss_bbox_aux_0: 0.1743 (0.1710)  loss_giou_aux_0: 0.3617 (0.3677)  loss_fgl_aux_0: 1.1895 (1.1846)  loss_ddf_aux_0: 0.1412 (0.1402)  loss_mal_aux_1: 0.8569 (0.8887)  loss_bbox_aux_1: 0.1599 (0.1554)  loss_giou_aux_1: 0.3387 (0.3374)  loss_fgl_aux_1: 1.1492 (1.1479)  loss_ddf_aux_1: 0.0100 (0.0099)  loss_mal_pre: 0.8672 (0.8959)  loss_bbox_pre: 0.1734 (0.1713)  loss_giou_pre: 0.3624 (0.3679)  loss_mal_enc_0: 0.9609 (0.9760)  loss_bbox_enc_0: 0.2260 (0.2344)  loss_giou_enc_0: 0.4909 (0.4822)  loss_mal_dn_0: 0.7524 (0.7551)  loss_bbox_dn_0: 0.2609 (0.2596)  loss_giou_dn_0: 0.5604 (0.5534)  loss_fgl_dn_0: 1.2200 (1.2216)  loss_ddf_dn_0: 0.7960 (0.7920)  loss_mal_dn_1: 0.7271 (0.7279)  loss_bbox_dn_1: 0.1967 (0.1915)  loss_giou_dn_1: 0.4128 (0.4058)  loss_fgl_dn_1: 1.1177 (1.1152)  loss_ddf_dn_1: 0.0362 (0.0363)  loss_mal_dn_2: 0.7212 (0.7187)  loss_bbox_dn_2: 0.1903 (0.1849)  loss_giou_dn_2: 0.4015 (0.3940)  loss_fgl_dn_2: 1.1107 (1.1088)  loss_mal_dn_pre: 0.7539 (0.7547)  loss_bbox_dn_pre: 0.2615 (0.2616)  loss_giou_dn_pre: 0.5574 (0.5564)\n",
      "Test:  [0/5]  eta: 0:00:03    time: 0.7905  data: 0.6622  max mem: 10532\n"
     ]
    },
    {
     "name": "stderr",
     "output_type": "stream",
     "text": [
      "\u001b[32m2025-03-10 16:35:11.496\u001b[0m | \u001b[1mINFO    \u001b[0m | \u001b[36mdeimkit.trainer\u001b[0m:\u001b[36mtrain\u001b[0m:\u001b[36m312\u001b[0m - \u001b[1mEpoch 114 - Train loss: 20.9714, Eval mAP: 0.6327\u001b[0m\n",
      "\u001b[32m2025-03-10 16:35:11.496\u001b[0m | \u001b[1mINFO    \u001b[0m | \u001b[36mdeimkit.trainer\u001b[0m:\u001b[36mtrain\u001b[0m:\u001b[36m315\u001b[0m - \u001b[1mBest stats: {'epoch': 106, 'coco_eval_bbox': 0.639978580523099}\u001b[0m\n"
     ]
    },
    {
     "name": "stdout",
     "output_type": "stream",
     "text": [
      "Test:  [4/5]  eta: 0:00:00    time: 0.3029  data: 0.1549  max mem: 10532\n",
      "Test: Total time: 0:00:01 (0.3184 s / it)\n",
      "Averaged stats: \n",
      "Accumulating evaluation results...\n",
      "COCOeval_opt.accumulate() finished...\n",
      "DONE (t=0.02s).\n",
      "IoU metric: bbox\n",
      " Average Precision  (AP) @[ IoU=0.50:0.95 | area=   all | maxDets=100 ] = 0.633\n",
      " Average Precision  (AP) @[ IoU=0.50      | area=   all | maxDets=100 ] = 0.896\n",
      " Average Precision  (AP) @[ IoU=0.75      | area=   all | maxDets=100 ] = 0.727\n",
      " Average Precision  (AP) @[ IoU=0.50:0.95 | area= small | maxDets=100 ] = 0.500\n",
      " Average Precision  (AP) @[ IoU=0.50:0.95 | area=medium | maxDets=100 ] = 0.645\n",
      " Average Precision  (AP) @[ IoU=0.50:0.95 | area= large | maxDets=100 ] = 0.485\n",
      " Average Recall     (AR) @[ IoU=0.50:0.95 | area=   all | maxDets=  1 ] = 0.415\n",
      " Average Recall     (AR) @[ IoU=0.50:0.95 | area=   all | maxDets= 10 ] = 0.689\n",
      " Average Recall     (AR) @[ IoU=0.50:0.95 | area=   all | maxDets=100 ] = 0.787\n",
      " Average Recall     (AR) @[ IoU=0.50:0.95 | area= small | maxDets=100 ] = 0.660\n",
      " Average Recall     (AR) @[ IoU=0.50:0.95 | area=medium | maxDets=100 ] = 0.791\n",
      " Average Recall     (AR) @[ IoU=0.50:0.95 | area= large | maxDets=100 ] = 0.787\n",
      " Average Recall     (AR) @[ IoU=0.50      | area=   all | maxDets=100 ] = 0.999\n",
      " Average Recall     (AR) @[ IoU=0.75      | area=   all | maxDets=100 ] = 0.931\n",
      "Epoch: [115]  [ 0/15]  eta: 0:00:28  lr: 0.000102  loss: 21.3397 (21.3397)  loss_mal: 0.8955 (0.8955)  loss_bbox: 0.1494 (0.1494)  loss_giou: 0.4207 (0.4207)  loss_fgl: 1.1152 (1.1152)  loss_mal_aux_0: 0.8760 (0.8760)  loss_bbox_aux_0: 0.1656 (0.1656)  loss_giou_aux_0: 0.4617 (0.4617)  loss_fgl_aux_0: 1.1524 (1.1524)  loss_ddf_aux_0: 0.1387 (0.1387)  loss_mal_aux_1: 0.8911 (0.8911)  loss_bbox_aux_1: 0.1505 (0.1505)  loss_giou_aux_1: 0.4198 (0.4198)  loss_fgl_aux_1: 1.1185 (1.1185)  loss_ddf_aux_1: 0.0106 (0.0106)  loss_mal_pre: 0.8823 (0.8823)  loss_bbox_pre: 0.1656 (0.1656)  loss_giou_pre: 0.4645 (0.4645)  loss_mal_enc_0: 0.9282 (0.9282)  loss_bbox_enc_0: 0.2107 (0.2107)  loss_giou_enc_0: 0.5705 (0.5705)  loss_mal_dn_0: 0.7476 (0.7476)  loss_bbox_dn_0: 0.2337 (0.2337)  loss_giou_dn_0: 0.5896 (0.5896)  loss_fgl_dn_0: 1.2349 (1.2349)  loss_ddf_dn_0: 0.8401 (0.8401)  loss_mal_dn_1: 0.7148 (0.7148)  loss_bbox_dn_1: 0.1664 (0.1664)  loss_giou_dn_1: 0.4339 (0.4339)  loss_fgl_dn_1: 1.1341 (1.1341)  loss_ddf_dn_1: 0.0423 (0.0423)  loss_mal_dn_2: 0.7231 (0.7231)  loss_bbox_dn_2: 0.1590 (0.1590)  loss_giou_dn_2: 0.4212 (0.4212)  loss_fgl_dn_2: 1.1312 (1.1312)  loss_mal_dn_pre: 0.7490 (0.7490)  loss_bbox_dn_pre: 0.2356 (0.2356)  loss_giou_dn_pre: 0.5956 (0.5956)  time: 1.9109  data: 1.3760  max mem: 10532\n"
     ]
    },
    {
     "name": "stderr",
     "output_type": "stream",
     "text": [
      "\u001b[32m2025-03-10 16:35:19.022\u001b[0m | \u001b[1mINFO    \u001b[0m | \u001b[36mdeimkit.trainer\u001b[0m:\u001b[36m_save_checkpoint\u001b[0m:\u001b[36m363\u001b[0m - \u001b[1mSaving checkpoint to outputs/deim_hgnetv2_s_coco_ema_tune/checkpoint0115.pth\u001b[0m\n"
     ]
    },
    {
     "name": "stdout",
     "output_type": "stream",
     "text": [
      "Epoch: [115]  [14/15]  eta: 0:00:00  lr: 0.000101  loss: 21.3151 (21.1711)  loss_mal: 0.8911 (0.8845)  loss_bbox: 0.1652 (0.1674)  loss_giou: 0.3521 (0.3535)  loss_fgl: 1.1393 (1.1461)  loss_mal_aux_0: 0.8916 (0.9062)  loss_bbox_aux_0: 0.1796 (0.1833)  loss_giou_aux_0: 0.3896 (0.3874)  loss_fgl_aux_0: 1.1686 (1.1826)  loss_ddf_aux_0: 0.1375 (0.1400)  loss_mal_aux_1: 0.8896 (0.8878)  loss_bbox_aux_1: 0.1681 (0.1696)  loss_giou_aux_1: 0.3565 (0.3566)  loss_fgl_aux_1: 1.1446 (1.1496)  loss_ddf_aux_1: 0.0106 (0.0105)  loss_mal_pre: 0.8916 (0.9048)  loss_bbox_pre: 0.1792 (0.1826)  loss_giou_pre: 0.3855 (0.3866)  loss_mal_enc_0: 0.9546 (0.9694)  loss_bbox_enc_0: 0.2147 (0.2352)  loss_giou_enc_0: 0.4751 (0.4910)  loss_mal_dn_0: 0.7520 (0.7552)  loss_bbox_dn_0: 0.2768 (0.2723)  loss_giou_dn_0: 0.5696 (0.5694)  loss_fgl_dn_0: 1.2184 (1.2175)  loss_ddf_dn_0: 0.7280 (0.7244)  loss_mal_dn_1: 0.7188 (0.7218)  loss_bbox_dn_1: 0.2042 (0.2037)  loss_giou_dn_1: 0.4291 (0.4227)  loss_fgl_dn_1: 1.1265 (1.1195)  loss_ddf_dn_1: 0.0339 (0.0353)  loss_mal_dn_2: 0.7134 (0.7139)  loss_bbox_dn_2: 0.1962 (0.1967)  loss_giou_dn_2: 0.4192 (0.4113)  loss_fgl_dn_2: 1.1217 (1.1148)  loss_mal_dn_pre: 0.7524 (0.7555)  loss_bbox_dn_pre: 0.2689 (0.2729)  loss_giou_dn_pre: 0.5589 (0.5694)  time: 0.4955  data: 0.1096  max mem: 10532\n",
      "Epoch: [115] Total time: 0:00:07 (0.5005 s / it)\n",
      "Averaged stats: lr: 0.000101  loss: 21.3151 (21.1711)  loss_mal: 0.8911 (0.8845)  loss_bbox: 0.1652 (0.1674)  loss_giou: 0.3521 (0.3535)  loss_fgl: 1.1393 (1.1461)  loss_mal_aux_0: 0.8916 (0.9062)  loss_bbox_aux_0: 0.1796 (0.1833)  loss_giou_aux_0: 0.3896 (0.3874)  loss_fgl_aux_0: 1.1686 (1.1826)  loss_ddf_aux_0: 0.1375 (0.1400)  loss_mal_aux_1: 0.8896 (0.8878)  loss_bbox_aux_1: 0.1681 (0.1696)  loss_giou_aux_1: 0.3565 (0.3566)  loss_fgl_aux_1: 1.1446 (1.1496)  loss_ddf_aux_1: 0.0106 (0.0105)  loss_mal_pre: 0.8916 (0.9048)  loss_bbox_pre: 0.1792 (0.1826)  loss_giou_pre: 0.3855 (0.3866)  loss_mal_enc_0: 0.9546 (0.9694)  loss_bbox_enc_0: 0.2147 (0.2352)  loss_giou_enc_0: 0.4751 (0.4910)  loss_mal_dn_0: 0.7520 (0.7552)  loss_bbox_dn_0: 0.2768 (0.2723)  loss_giou_dn_0: 0.5696 (0.5694)  loss_fgl_dn_0: 1.2184 (1.2175)  loss_ddf_dn_0: 0.7280 (0.7244)  loss_mal_dn_1: 0.7188 (0.7218)  loss_bbox_dn_1: 0.2042 (0.2037)  loss_giou_dn_1: 0.4291 (0.4227)  loss_fgl_dn_1: 1.1265 (1.1195)  loss_ddf_dn_1: 0.0339 (0.0353)  loss_mal_dn_2: 0.7134 (0.7139)  loss_bbox_dn_2: 0.1962 (0.1967)  loss_giou_dn_2: 0.4192 (0.4113)  loss_fgl_dn_2: 1.1217 (1.1148)  loss_mal_dn_pre: 0.7524 (0.7555)  loss_bbox_dn_pre: 0.2689 (0.2729)  loss_giou_dn_pre: 0.5589 (0.5694)\n"
     ]
    },
    {
     "name": "stderr",
     "output_type": "stream",
     "text": [
      "\u001b[32m2025-03-10 16:35:19.281\u001b[0m | \u001b[1mINFO    \u001b[0m | \u001b[36mdeimkit.trainer\u001b[0m:\u001b[36m_save_checkpoint\u001b[0m:\u001b[36m380\u001b[0m - \u001b[1mCheckpoint saved to outputs/deim_hgnetv2_s_coco_ema_tune/checkpoint0115.pth\u001b[0m\n",
      "\u001b[32m2025-03-10 16:35:19.282\u001b[0m | \u001b[1mINFO    \u001b[0m | \u001b[36mdeimkit.trainer\u001b[0m:\u001b[36mevaluate\u001b[0m:\u001b[36m331\u001b[0m - \u001b[1mEvaluating model...\u001b[0m\n"
     ]
    },
    {
     "name": "stdout",
     "output_type": "stream",
     "text": [
      "Test:  [0/5]  eta: 0:00:03    time: 0.7374  data: 0.6151  max mem: 10532\n"
     ]
    },
    {
     "name": "stderr",
     "output_type": "stream",
     "text": [
      "\u001b[32m2025-03-10 16:35:20.788\u001b[0m | \u001b[1mINFO    \u001b[0m | \u001b[36mdeimkit.trainer\u001b[0m:\u001b[36mtrain\u001b[0m:\u001b[36m312\u001b[0m - \u001b[1mEpoch 115 - Train loss: 21.1711, Eval mAP: 0.6237\u001b[0m\n",
      "\u001b[32m2025-03-10 16:35:20.789\u001b[0m | \u001b[1mINFO    \u001b[0m | \u001b[36mdeimkit.trainer\u001b[0m:\u001b[36mtrain\u001b[0m:\u001b[36m315\u001b[0m - \u001b[1mBest stats: {'epoch': 106, 'coco_eval_bbox': 0.639978580523099}\u001b[0m\n"
     ]
    },
    {
     "name": "stdout",
     "output_type": "stream",
     "text": [
      "Test:  [4/5]  eta: 0:00:00    time: 0.2812  data: 0.1446  max mem: 10532\n",
      "Test: Total time: 0:00:01 (0.2953 s / it)\n",
      "Averaged stats: \n",
      "Accumulating evaluation results...\n",
      "COCOeval_opt.accumulate() finished...\n",
      "DONE (t=0.02s).\n",
      "IoU metric: bbox\n",
      " Average Precision  (AP) @[ IoU=0.50:0.95 | area=   all | maxDets=100 ] = 0.624\n",
      " Average Precision  (AP) @[ IoU=0.50      | area=   all | maxDets=100 ] = 0.888\n",
      " Average Precision  (AP) @[ IoU=0.75      | area=   all | maxDets=100 ] = 0.716\n",
      " Average Precision  (AP) @[ IoU=0.50:0.95 | area= small | maxDets=100 ] = 0.394\n",
      " Average Precision  (AP) @[ IoU=0.50:0.95 | area=medium | maxDets=100 ] = 0.635\n",
      " Average Precision  (AP) @[ IoU=0.50:0.95 | area= large | maxDets=100 ] = 0.482\n",
      " Average Recall     (AR) @[ IoU=0.50:0.95 | area=   all | maxDets=  1 ] = 0.407\n",
      " Average Recall     (AR) @[ IoU=0.50:0.95 | area=   all | maxDets= 10 ] = 0.682\n",
      " Average Recall     (AR) @[ IoU=0.50:0.95 | area=   all | maxDets=100 ] = 0.773\n",
      " Average Recall     (AR) @[ IoU=0.50:0.95 | area= small | maxDets=100 ] = 0.720\n",
      " Average Recall     (AR) @[ IoU=0.50:0.95 | area=medium | maxDets=100 ] = 0.780\n",
      " Average Recall     (AR) @[ IoU=0.50:0.95 | area= large | maxDets=100 ] = 0.553\n",
      " Average Recall     (AR) @[ IoU=0.50      | area=   all | maxDets=100 ] = 0.995\n",
      " Average Recall     (AR) @[ IoU=0.75      | area=   all | maxDets=100 ] = 0.900\n",
      "Epoch: [116]  [ 0/15]  eta: 0:00:22  lr: 0.000101  loss: 20.5494 (20.5494)  loss_mal: 0.8115 (0.8115)  loss_bbox: 0.1533 (0.1533)  loss_giou: 0.3184 (0.3184)  loss_fgl: 1.1587 (1.1587)  loss_mal_aux_0: 0.8164 (0.8164)  loss_bbox_aux_0: 0.1688 (0.1688)  loss_giou_aux_0: 0.3453 (0.3453)  loss_fgl_aux_0: 1.1982 (1.1982)  loss_ddf_aux_0: 0.1217 (0.1217)  loss_mal_aux_1: 0.8101 (0.8101)  loss_bbox_aux_1: 0.1560 (0.1560)  loss_giou_aux_1: 0.3233 (0.3233)  loss_fgl_aux_1: 1.1631 (1.1631)  loss_ddf_aux_1: 0.0102 (0.0102)  loss_mal_pre: 0.8159 (0.8159)  loss_bbox_pre: 0.1679 (0.1679)  loss_giou_pre: 0.3446 (0.3446)  loss_mal_enc_0: 0.9189 (0.9189)  loss_bbox_enc_0: 0.2312 (0.2312)  loss_giou_enc_0: 0.4501 (0.4501)  loss_mal_dn_0: 0.7515 (0.7515)  loss_bbox_dn_0: 0.2632 (0.2632)  loss_giou_dn_0: 0.5479 (0.5479)  loss_fgl_dn_0: 1.2334 (1.2334)  loss_ddf_dn_0: 0.7430 (0.7430)  loss_mal_dn_1: 0.7280 (0.7280)  loss_bbox_dn_1: 0.1955 (0.1955)  loss_giou_dn_1: 0.4113 (0.4113)  loss_fgl_dn_1: 1.1387 (1.1387)  loss_ddf_dn_1: 0.0357 (0.0357)  loss_mal_dn_2: 0.7349 (0.7349)  loss_bbox_dn_2: 0.1865 (0.1865)  loss_giou_dn_2: 0.3967 (0.3967)  loss_fgl_dn_2: 1.1322 (1.1322)  loss_mal_dn_pre: 0.7520 (0.7520)  loss_bbox_dn_pre: 0.2651 (0.2651)  loss_giou_dn_pre: 0.5503 (0.5503)  time: 1.5198  data: 1.0524  max mem: 10532\n"
     ]
    },
    {
     "name": "stderr",
     "output_type": "stream",
     "text": [
      "\u001b[32m2025-03-10 16:35:27.918\u001b[0m | \u001b[1mINFO    \u001b[0m | \u001b[36mdeimkit.trainer\u001b[0m:\u001b[36mevaluate\u001b[0m:\u001b[36m331\u001b[0m - \u001b[1mEvaluating model...\u001b[0m\n"
     ]
    },
    {
     "name": "stdout",
     "output_type": "stream",
     "text": [
      "Epoch: [116]  [14/15]  eta: 0:00:00  lr: 0.000101  loss: 21.1712 (20.9881)  loss_mal: 0.8286 (0.8647)  loss_bbox: 0.1516 (0.1547)  loss_giou: 0.3458 (0.3487)  loss_fgl: 1.1412 (1.1447)  loss_mal_aux_0: 0.9009 (0.8884)  loss_bbox_aux_0: 0.1652 (0.1733)  loss_giou_aux_0: 0.3857 (0.3826)  loss_fgl_aux_0: 1.1831 (1.1840)  loss_ddf_aux_0: 0.1314 (0.1357)  loss_mal_aux_1: 0.8467 (0.8708)  loss_bbox_aux_1: 0.1555 (0.1564)  loss_giou_aux_1: 0.3506 (0.3509)  loss_fgl_aux_1: 1.1460 (1.1477)  loss_ddf_aux_1: 0.0100 (0.0101)  loss_mal_pre: 0.9014 (0.8888)  loss_bbox_pre: 0.1634 (0.1729)  loss_giou_pre: 0.3874 (0.3832)  loss_mal_enc_0: 0.9312 (0.9538)  loss_bbox_enc_0: 0.2013 (0.2328)  loss_giou_enc_0: 0.4948 (0.4942)  loss_mal_dn_0: 0.7520 (0.7561)  loss_bbox_dn_0: 0.2460 (0.2581)  loss_giou_dn_0: 0.5655 (0.5652)  loss_fgl_dn_0: 1.2185 (1.2205)  loss_ddf_dn_0: 0.7671 (0.7562)  loss_mal_dn_1: 0.7275 (0.7284)  loss_bbox_dn_1: 0.1845 (0.1916)  loss_giou_dn_1: 0.4093 (0.4180)  loss_fgl_dn_1: 1.1160 (1.1182)  loss_ddf_dn_1: 0.0339 (0.0346)  loss_mal_dn_2: 0.7227 (0.7205)  loss_bbox_dn_2: 0.1824 (0.1855)  loss_giou_dn_2: 0.3984 (0.4072)  loss_fgl_dn_2: 1.1079 (1.1128)  loss_mal_dn_pre: 0.7520 (0.7559)  loss_bbox_dn_pre: 0.2451 (0.2576)  loss_giou_dn_pre: 0.5655 (0.5630)  time: 0.4687  data: 0.0918  max mem: 10532\n",
      "Epoch: [116] Total time: 0:00:07 (0.4738 s / it)\n",
      "Averaged stats: lr: 0.000101  loss: 21.1712 (20.9881)  loss_mal: 0.8286 (0.8647)  loss_bbox: 0.1516 (0.1547)  loss_giou: 0.3458 (0.3487)  loss_fgl: 1.1412 (1.1447)  loss_mal_aux_0: 0.9009 (0.8884)  loss_bbox_aux_0: 0.1652 (0.1733)  loss_giou_aux_0: 0.3857 (0.3826)  loss_fgl_aux_0: 1.1831 (1.1840)  loss_ddf_aux_0: 0.1314 (0.1357)  loss_mal_aux_1: 0.8467 (0.8708)  loss_bbox_aux_1: 0.1555 (0.1564)  loss_giou_aux_1: 0.3506 (0.3509)  loss_fgl_aux_1: 1.1460 (1.1477)  loss_ddf_aux_1: 0.0100 (0.0101)  loss_mal_pre: 0.9014 (0.8888)  loss_bbox_pre: 0.1634 (0.1729)  loss_giou_pre: 0.3874 (0.3832)  loss_mal_enc_0: 0.9312 (0.9538)  loss_bbox_enc_0: 0.2013 (0.2328)  loss_giou_enc_0: 0.4948 (0.4942)  loss_mal_dn_0: 0.7520 (0.7561)  loss_bbox_dn_0: 0.2460 (0.2581)  loss_giou_dn_0: 0.5655 (0.5652)  loss_fgl_dn_0: 1.2185 (1.2205)  loss_ddf_dn_0: 0.7671 (0.7562)  loss_mal_dn_1: 0.7275 (0.7284)  loss_bbox_dn_1: 0.1845 (0.1916)  loss_giou_dn_1: 0.4093 (0.4180)  loss_fgl_dn_1: 1.1160 (1.1182)  loss_ddf_dn_1: 0.0339 (0.0346)  loss_mal_dn_2: 0.7227 (0.7205)  loss_bbox_dn_2: 0.1824 (0.1855)  loss_giou_dn_2: 0.3984 (0.4072)  loss_fgl_dn_2: 1.1079 (1.1128)  loss_mal_dn_pre: 0.7520 (0.7559)  loss_bbox_dn_pre: 0.2451 (0.2576)  loss_giou_dn_pre: 0.5655 (0.5630)\n",
      "Test:  [0/5]  eta: 0:00:03    time: 0.7688  data: 0.6517  max mem: 10532\n"
     ]
    },
    {
     "name": "stderr",
     "output_type": "stream",
     "text": [
      "\u001b[32m2025-03-10 16:35:29.406\u001b[0m | \u001b[1mINFO    \u001b[0m | \u001b[36mdeimkit.trainer\u001b[0m:\u001b[36mtrain\u001b[0m:\u001b[36m312\u001b[0m - \u001b[1mEpoch 116 - Train loss: 20.9881, Eval mAP: 0.6341\u001b[0m\n",
      "\u001b[32m2025-03-10 16:35:29.407\u001b[0m | \u001b[1mINFO    \u001b[0m | \u001b[36mdeimkit.trainer\u001b[0m:\u001b[36mtrain\u001b[0m:\u001b[36m315\u001b[0m - \u001b[1mBest stats: {'epoch': 106, 'coco_eval_bbox': 0.639978580523099}\u001b[0m\n"
     ]
    },
    {
     "name": "stdout",
     "output_type": "stream",
     "text": [
      "Test:  [4/5]  eta: 0:00:00    time: 0.2792  data: 0.1461  max mem: 10532\n",
      "Test: Total time: 0:00:01 (0.2912 s / it)\n",
      "Averaged stats: \n",
      "Accumulating evaluation results...\n",
      "COCOeval_opt.accumulate() finished...\n",
      "DONE (t=0.02s).\n",
      "IoU metric: bbox\n",
      " Average Precision  (AP) @[ IoU=0.50:0.95 | area=   all | maxDets=100 ] = 0.634\n",
      " Average Precision  (AP) @[ IoU=0.50      | area=   all | maxDets=100 ] = 0.892\n",
      " Average Precision  (AP) @[ IoU=0.75      | area=   all | maxDets=100 ] = 0.732\n",
      " Average Precision  (AP) @[ IoU=0.50:0.95 | area= small | maxDets=100 ] = 0.437\n",
      " Average Precision  (AP) @[ IoU=0.50:0.95 | area=medium | maxDets=100 ] = 0.607\n",
      " Average Precision  (AP) @[ IoU=0.50:0.95 | area= large | maxDets=100 ] = 0.487\n",
      " Average Recall     (AR) @[ IoU=0.50:0.95 | area=   all | maxDets=  1 ] = 0.414\n",
      " Average Recall     (AR) @[ IoU=0.50:0.95 | area=   all | maxDets= 10 ] = 0.685\n",
      " Average Recall     (AR) @[ IoU=0.50:0.95 | area=   all | maxDets=100 ] = 0.780\n",
      " Average Recall     (AR) @[ IoU=0.50:0.95 | area= small | maxDets=100 ] = 0.700\n",
      " Average Recall     (AR) @[ IoU=0.50:0.95 | area=medium | maxDets=100 ] = 0.751\n",
      " Average Recall     (AR) @[ IoU=0.50:0.95 | area= large | maxDets=100 ] = 0.754\n",
      " Average Recall     (AR) @[ IoU=0.50      | area=   all | maxDets=100 ] = 0.999\n",
      " Average Recall     (AR) @[ IoU=0.75      | area=   all | maxDets=100 ] = 0.910\n",
      "Epoch: [117]  [ 0/15]  eta: 0:00:21  lr: 0.000101  loss: 21.3812 (21.3812)  loss_mal: 0.8979 (0.8979)  loss_bbox: 0.1873 (0.1873)  loss_giou: 0.3524 (0.3524)  loss_fgl: 1.1487 (1.1487)  loss_mal_aux_0: 0.9126 (0.9126)  loss_bbox_aux_0: 0.1942 (0.1942)  loss_giou_aux_0: 0.3772 (0.3772)  loss_fgl_aux_0: 1.1811 (1.1811)  loss_ddf_aux_0: 0.1473 (0.1473)  loss_mal_aux_1: 0.9189 (0.9189)  loss_bbox_aux_1: 0.1875 (0.1875)  loss_giou_aux_1: 0.3552 (0.3552)  loss_fgl_aux_1: 1.1521 (1.1521)  loss_ddf_aux_1: 0.0094 (0.0094)  loss_mal_pre: 0.9102 (0.9102)  loss_bbox_pre: 0.1945 (0.1945)  loss_giou_pre: 0.3814 (0.3814)  loss_mal_enc_0: 0.9561 (0.9561)  loss_bbox_enc_0: 0.2850 (0.2850)  loss_giou_enc_0: 0.5171 (0.5171)  loss_mal_dn_0: 0.7568 (0.7568)  loss_bbox_dn_0: 0.2884 (0.2884)  loss_giou_dn_0: 0.5424 (0.5424)  loss_fgl_dn_0: 1.2078 (1.2078)  loss_ddf_dn_0: 0.7332 (0.7332)  loss_mal_dn_1: 0.7290 (0.7290)  loss_bbox_dn_1: 0.2165 (0.2165)  loss_giou_dn_1: 0.4124 (0.4124)  loss_fgl_dn_1: 1.1322 (1.1322)  loss_ddf_dn_1: 0.0309 (0.0309)  loss_mal_dn_2: 0.7178 (0.7178)  loss_bbox_dn_2: 0.2060 (0.2060)  loss_giou_dn_2: 0.3993 (0.3993)  loss_fgl_dn_2: 1.1259 (1.1259)  loss_mal_dn_pre: 0.7593 (0.7593)  loss_bbox_dn_pre: 0.2967 (0.2967)  loss_giou_dn_pre: 0.5608 (0.5608)  time: 1.4289  data: 1.0189  max mem: 10532\n"
     ]
    },
    {
     "name": "stderr",
     "output_type": "stream",
     "text": [
      "\u001b[32m2025-03-10 16:35:36.390\u001b[0m | \u001b[1mINFO    \u001b[0m | \u001b[36mdeimkit.trainer\u001b[0m:\u001b[36mevaluate\u001b[0m:\u001b[36m331\u001b[0m - \u001b[1mEvaluating model...\u001b[0m\n"
     ]
    },
    {
     "name": "stdout",
     "output_type": "stream",
     "text": [
      "Epoch: [117]  [14/15]  eta: 0:00:00  lr: 0.000100  loss: 20.8664 (20.9683)  loss_mal: 0.8364 (0.8560)  loss_bbox: 0.1576 (0.1625)  loss_giou: 0.3481 (0.3528)  loss_fgl: 1.1409 (1.1388)  loss_mal_aux_0: 0.8799 (0.8868)  loss_bbox_aux_0: 0.1759 (0.1787)  loss_giou_aux_0: 0.3772 (0.3840)  loss_fgl_aux_0: 1.1731 (1.1747)  loss_ddf_aux_0: 0.1345 (0.1360)  loss_mal_aux_1: 0.8467 (0.8706)  loss_bbox_aux_1: 0.1614 (0.1642)  loss_giou_aux_1: 0.3488 (0.3552)  loss_fgl_aux_1: 1.1420 (1.1420)  loss_ddf_aux_1: 0.0095 (0.0096)  loss_mal_pre: 0.8818 (0.8870)  loss_bbox_pre: 0.1786 (0.1796)  loss_giou_pre: 0.3814 (0.3852)  loss_mal_enc_0: 0.9253 (0.9729)  loss_bbox_enc_0: 0.2420 (0.2507)  loss_giou_enc_0: 0.4995 (0.5084)  loss_mal_dn_0: 0.7544 (0.7532)  loss_bbox_dn_0: 0.2476 (0.2591)  loss_giou_dn_0: 0.5471 (0.5523)  loss_fgl_dn_0: 1.2220 (1.2160)  loss_ddf_dn_0: 0.7305 (0.7112)  loss_mal_dn_1: 0.7188 (0.7239)  loss_bbox_dn_1: 0.1896 (0.1963)  loss_giou_dn_1: 0.4124 (0.4158)  loss_fgl_dn_1: 1.1162 (1.1185)  loss_ddf_dn_1: 0.0310 (0.0320)  loss_mal_dn_2: 0.7095 (0.7161)  loss_bbox_dn_2: 0.1815 (0.1892)  loss_giou_dn_2: 0.4050 (0.4049)  loss_fgl_dn_2: 1.1117 (1.1137)  loss_mal_dn_pre: 0.7539 (0.7535)  loss_bbox_dn_pre: 0.2504 (0.2612)  loss_giou_dn_pre: 0.5504 (0.5562)  time: 0.4591  data: 0.0897  max mem: 10532\n",
      "Epoch: [117] Total time: 0:00:06 (0.4641 s / it)\n",
      "Averaged stats: lr: 0.000100  loss: 20.8664 (20.9683)  loss_mal: 0.8364 (0.8560)  loss_bbox: 0.1576 (0.1625)  loss_giou: 0.3481 (0.3528)  loss_fgl: 1.1409 (1.1388)  loss_mal_aux_0: 0.8799 (0.8868)  loss_bbox_aux_0: 0.1759 (0.1787)  loss_giou_aux_0: 0.3772 (0.3840)  loss_fgl_aux_0: 1.1731 (1.1747)  loss_ddf_aux_0: 0.1345 (0.1360)  loss_mal_aux_1: 0.8467 (0.8706)  loss_bbox_aux_1: 0.1614 (0.1642)  loss_giou_aux_1: 0.3488 (0.3552)  loss_fgl_aux_1: 1.1420 (1.1420)  loss_ddf_aux_1: 0.0095 (0.0096)  loss_mal_pre: 0.8818 (0.8870)  loss_bbox_pre: 0.1786 (0.1796)  loss_giou_pre: 0.3814 (0.3852)  loss_mal_enc_0: 0.9253 (0.9729)  loss_bbox_enc_0: 0.2420 (0.2507)  loss_giou_enc_0: 0.4995 (0.5084)  loss_mal_dn_0: 0.7544 (0.7532)  loss_bbox_dn_0: 0.2476 (0.2591)  loss_giou_dn_0: 0.5471 (0.5523)  loss_fgl_dn_0: 1.2220 (1.2160)  loss_ddf_dn_0: 0.7305 (0.7112)  loss_mal_dn_1: 0.7188 (0.7239)  loss_bbox_dn_1: 0.1896 (0.1963)  loss_giou_dn_1: 0.4124 (0.4158)  loss_fgl_dn_1: 1.1162 (1.1185)  loss_ddf_dn_1: 0.0310 (0.0320)  loss_mal_dn_2: 0.7095 (0.7161)  loss_bbox_dn_2: 0.1815 (0.1892)  loss_giou_dn_2: 0.4050 (0.4049)  loss_fgl_dn_2: 1.1117 (1.1137)  loss_mal_dn_pre: 0.7539 (0.7535)  loss_bbox_dn_pre: 0.2504 (0.2612)  loss_giou_dn_pre: 0.5504 (0.5562)\n",
      "Test:  [0/5]  eta: 0:00:03    time: 0.7635  data: 0.6498  max mem: 10532\n"
     ]
    },
    {
     "name": "stderr",
     "output_type": "stream",
     "text": [
      "\u001b[32m2025-03-10 16:35:37.691\u001b[0m | \u001b[1mINFO    \u001b[0m | \u001b[36mdeimkit.trainer\u001b[0m:\u001b[36mtrain\u001b[0m:\u001b[36m312\u001b[0m - \u001b[1mEpoch 117 - Train loss: 20.9683, Eval mAP: 0.6358\u001b[0m\n",
      "\u001b[32m2025-03-10 16:35:37.691\u001b[0m | \u001b[1mINFO    \u001b[0m | \u001b[36mdeimkit.trainer\u001b[0m:\u001b[36mtrain\u001b[0m:\u001b[36m315\u001b[0m - \u001b[1mBest stats: {'epoch': 106, 'coco_eval_bbox': 0.639978580523099}\u001b[0m\n"
     ]
    },
    {
     "name": "stdout",
     "output_type": "stream",
     "text": [
      "Test:  [4/5]  eta: 0:00:00    time: 0.2416  data: 0.1418  max mem: 10532\n",
      "Test: Total time: 0:00:01 (0.2539 s / it)\n",
      "Averaged stats: \n",
      "Accumulating evaluation results...\n",
      "COCOeval_opt.accumulate() finished...\n",
      "DONE (t=0.02s).\n",
      "IoU metric: bbox\n",
      " Average Precision  (AP) @[ IoU=0.50:0.95 | area=   all | maxDets=100 ] = 0.636\n",
      " Average Precision  (AP) @[ IoU=0.50      | area=   all | maxDets=100 ] = 0.891\n",
      " Average Precision  (AP) @[ IoU=0.75      | area=   all | maxDets=100 ] = 0.743\n",
      " Average Precision  (AP) @[ IoU=0.50:0.95 | area= small | maxDets=100 ] = 0.403\n",
      " Average Precision  (AP) @[ IoU=0.50:0.95 | area=medium | maxDets=100 ] = 0.648\n",
      " Average Precision  (AP) @[ IoU=0.50:0.95 | area= large | maxDets=100 ] = 0.490\n",
      " Average Recall     (AR) @[ IoU=0.50:0.95 | area=   all | maxDets=  1 ] = 0.416\n",
      " Average Recall     (AR) @[ IoU=0.50:0.95 | area=   all | maxDets= 10 ] = 0.690\n",
      " Average Recall     (AR) @[ IoU=0.50:0.95 | area=   all | maxDets=100 ] = 0.777\n",
      " Average Recall     (AR) @[ IoU=0.50:0.95 | area= small | maxDets=100 ] = 0.660\n",
      " Average Recall     (AR) @[ IoU=0.50:0.95 | area=medium | maxDets=100 ] = 0.778\n",
      " Average Recall     (AR) @[ IoU=0.50:0.95 | area= large | maxDets=100 ] = 0.820\n",
      " Average Recall     (AR) @[ IoU=0.50      | area=   all | maxDets=100 ] = 0.999\n",
      " Average Recall     (AR) @[ IoU=0.75      | area=   all | maxDets=100 ] = 0.922\n",
      "Epoch: [118]  [ 0/15]  eta: 0:00:28  lr: 0.000100  loss: 20.2615 (20.2615)  loss_mal: 0.8501 (0.8501)  loss_bbox: 0.1423 (0.1423)  loss_giou: 0.3214 (0.3214)  loss_fgl: 1.1398 (1.1398)  loss_mal_aux_0: 0.8647 (0.8647)  loss_bbox_aux_0: 0.1571 (0.1571)  loss_giou_aux_0: 0.3566 (0.3566)  loss_fgl_aux_0: 1.1704 (1.1704)  loss_ddf_aux_0: 0.1073 (0.1073)  loss_mal_aux_1: 0.8687 (0.8687)  loss_bbox_aux_1: 0.1421 (0.1421)  loss_giou_aux_1: 0.3225 (0.3225)  loss_fgl_aux_1: 1.1416 (1.1416)  loss_ddf_aux_1: 0.0078 (0.0078)  loss_mal_pre: 0.8647 (0.8647)  loss_bbox_pre: 0.1552 (0.1552)  loss_giou_pre: 0.3532 (0.3532)  loss_mal_enc_0: 0.9302 (0.9302)  loss_bbox_enc_0: 0.1900 (0.1900)  loss_giou_enc_0: 0.4278 (0.4278)  loss_mal_dn_0: 0.7593 (0.7593)  loss_bbox_dn_0: 0.2445 (0.2445)  loss_giou_dn_0: 0.5294 (0.5294)  loss_fgl_dn_0: 1.2108 (1.2108)  loss_ddf_dn_0: 0.6465 (0.6465)  loss_mal_dn_1: 0.7471 (0.7471)  loss_bbox_dn_1: 0.1740 (0.1740)  loss_giou_dn_1: 0.3934 (0.3934)  loss_fgl_dn_1: 1.1073 (1.1073)  loss_ddf_dn_1: 0.0304 (0.0304)  loss_mal_dn_2: 0.7271 (0.7271)  loss_bbox_dn_2: 0.1670 (0.1670)  loss_giou_dn_2: 0.3793 (0.3793)  loss_fgl_dn_2: 1.1015 (1.1015)  loss_mal_dn_pre: 0.7563 (0.7563)  loss_bbox_dn_pre: 0.2445 (0.2445)  loss_giou_dn_pre: 0.5295 (0.5295)  time: 1.9130  data: 1.4538  max mem: 10532\n"
     ]
    },
    {
     "name": "stderr",
     "output_type": "stream",
     "text": [
      "\u001b[32m2025-03-10 16:35:45.207\u001b[0m | \u001b[1mINFO    \u001b[0m | \u001b[36mdeimkit.trainer\u001b[0m:\u001b[36mevaluate\u001b[0m:\u001b[36m331\u001b[0m - \u001b[1mEvaluating model...\u001b[0m\n"
     ]
    },
    {
     "name": "stdout",
     "output_type": "stream",
     "text": [
      "Epoch: [118]  [14/15]  eta: 0:00:00  lr: 0.000100  loss: 20.5581 (20.8416)  loss_mal: 0.8330 (0.8545)  loss_bbox: 0.1586 (0.1613)  loss_giou: 0.3214 (0.3340)  loss_fgl: 1.1290 (1.1345)  loss_mal_aux_0: 0.8647 (0.8838)  loss_bbox_aux_0: 0.1788 (0.1810)  loss_giou_aux_0: 0.3566 (0.3678)  loss_fgl_aux_0: 1.1753 (1.1742)  loss_ddf_aux_0: 0.1319 (0.1325)  loss_mal_aux_1: 0.8452 (0.8646)  loss_bbox_aux_1: 0.1597 (0.1622)  loss_giou_aux_1: 0.3245 (0.3358)  loss_fgl_aux_1: 1.1339 (1.1373)  loss_ddf_aux_1: 0.0090 (0.0089)  loss_mal_pre: 0.8647 (0.8823)  loss_bbox_pre: 0.1799 (0.1800)  loss_giou_pre: 0.3532 (0.3665)  loss_mal_enc_0: 0.9321 (0.9634)  loss_bbox_enc_0: 0.2414 (0.2430)  loss_giou_enc_0: 0.4406 (0.4753)  loss_mal_dn_0: 0.7617 (0.7602)  loss_bbox_dn_0: 0.2711 (0.2747)  loss_giou_dn_0: 0.5294 (0.5478)  loss_fgl_dn_0: 1.2150 (1.2199)  loss_ddf_dn_0: 0.7813 (0.7354)  loss_mal_dn_1: 0.7197 (0.7238)  loss_bbox_dn_1: 0.1912 (0.2003)  loss_giou_dn_1: 0.3934 (0.4054)  loss_fgl_dn_1: 1.1117 (1.1107)  loss_ddf_dn_1: 0.0328 (0.0332)  loss_mal_dn_2: 0.7119 (0.7155)  loss_bbox_dn_2: 0.1840 (0.1932)  loss_giou_dn_2: 0.3793 (0.3928)  loss_fgl_dn_2: 1.1051 (1.1048)  loss_mal_dn_pre: 0.7598 (0.7601)  loss_bbox_dn_pre: 0.2728 (0.2743)  loss_giou_dn_pre: 0.5313 (0.5464)  time: 0.4943  data: 0.1106  max mem: 10532\n",
      "Epoch: [118] Total time: 0:00:07 (0.4993 s / it)\n",
      "Averaged stats: lr: 0.000100  loss: 20.5581 (20.8416)  loss_mal: 0.8330 (0.8545)  loss_bbox: 0.1586 (0.1613)  loss_giou: 0.3214 (0.3340)  loss_fgl: 1.1290 (1.1345)  loss_mal_aux_0: 0.8647 (0.8838)  loss_bbox_aux_0: 0.1788 (0.1810)  loss_giou_aux_0: 0.3566 (0.3678)  loss_fgl_aux_0: 1.1753 (1.1742)  loss_ddf_aux_0: 0.1319 (0.1325)  loss_mal_aux_1: 0.8452 (0.8646)  loss_bbox_aux_1: 0.1597 (0.1622)  loss_giou_aux_1: 0.3245 (0.3358)  loss_fgl_aux_1: 1.1339 (1.1373)  loss_ddf_aux_1: 0.0090 (0.0089)  loss_mal_pre: 0.8647 (0.8823)  loss_bbox_pre: 0.1799 (0.1800)  loss_giou_pre: 0.3532 (0.3665)  loss_mal_enc_0: 0.9321 (0.9634)  loss_bbox_enc_0: 0.2414 (0.2430)  loss_giou_enc_0: 0.4406 (0.4753)  loss_mal_dn_0: 0.7617 (0.7602)  loss_bbox_dn_0: 0.2711 (0.2747)  loss_giou_dn_0: 0.5294 (0.5478)  loss_fgl_dn_0: 1.2150 (1.2199)  loss_ddf_dn_0: 0.7813 (0.7354)  loss_mal_dn_1: 0.7197 (0.7238)  loss_bbox_dn_1: 0.1912 (0.2003)  loss_giou_dn_1: 0.3934 (0.4054)  loss_fgl_dn_1: 1.1117 (1.1107)  loss_ddf_dn_1: 0.0328 (0.0332)  loss_mal_dn_2: 0.7119 (0.7155)  loss_bbox_dn_2: 0.1840 (0.1932)  loss_giou_dn_2: 0.3793 (0.3928)  loss_fgl_dn_2: 1.1051 (1.1048)  loss_mal_dn_pre: 0.7598 (0.7601)  loss_bbox_dn_pre: 0.2728 (0.2743)  loss_giou_dn_pre: 0.5313 (0.5464)\n",
      "Test:  [0/5]  eta: 0:00:03    time: 0.7700  data: 0.6496  max mem: 10532\n"
     ]
    },
    {
     "name": "stderr",
     "output_type": "stream",
     "text": [
      "\u001b[32m2025-03-10 16:35:46.562\u001b[0m | \u001b[1mINFO    \u001b[0m | \u001b[36mdeimkit.trainer\u001b[0m:\u001b[36mtrain\u001b[0m:\u001b[36m312\u001b[0m - \u001b[1mEpoch 118 - Train loss: 20.8416, Eval mAP: 0.6298\u001b[0m\n",
      "\u001b[32m2025-03-10 16:35:46.563\u001b[0m | \u001b[1mINFO    \u001b[0m | \u001b[36mdeimkit.trainer\u001b[0m:\u001b[36mtrain\u001b[0m:\u001b[36m315\u001b[0m - \u001b[1mBest stats: {'epoch': 106, 'coco_eval_bbox': 0.639978580523099}\u001b[0m\n"
     ]
    },
    {
     "name": "stdout",
     "output_type": "stream",
     "text": [
      "Test:  [4/5]  eta: 0:00:00    time: 0.2488  data: 0.1451  max mem: 10532\n",
      "Test: Total time: 0:00:01 (0.2632 s / it)\n",
      "Averaged stats: \n",
      "Accumulating evaluation results...\n",
      "COCOeval_opt.accumulate() finished...\n",
      "DONE (t=0.02s).\n",
      "IoU metric: bbox\n",
      " Average Precision  (AP) @[ IoU=0.50:0.95 | area=   all | maxDets=100 ] = 0.630\n",
      " Average Precision  (AP) @[ IoU=0.50      | area=   all | maxDets=100 ] = 0.891\n",
      " Average Precision  (AP) @[ IoU=0.75      | area=   all | maxDets=100 ] = 0.699\n",
      " Average Precision  (AP) @[ IoU=0.50:0.95 | area= small | maxDets=100 ] = 0.373\n",
      " Average Precision  (AP) @[ IoU=0.50:0.95 | area=medium | maxDets=100 ] = 0.635\n",
      " Average Precision  (AP) @[ IoU=0.50:0.95 | area= large | maxDets=100 ] = 0.488\n",
      " Average Recall     (AR) @[ IoU=0.50:0.95 | area=   all | maxDets=  1 ] = 0.412\n",
      " Average Recall     (AR) @[ IoU=0.50:0.95 | area=   all | maxDets= 10 ] = 0.685\n",
      " Average Recall     (AR) @[ IoU=0.50:0.95 | area=   all | maxDets=100 ] = 0.782\n",
      " Average Recall     (AR) @[ IoU=0.50:0.95 | area= small | maxDets=100 ] = 0.720\n",
      " Average Recall     (AR) @[ IoU=0.50:0.95 | area=medium | maxDets=100 ] = 0.784\n",
      " Average Recall     (AR) @[ IoU=0.50:0.95 | area= large | maxDets=100 ] = 0.787\n",
      " Average Recall     (AR) @[ IoU=0.50      | area=   all | maxDets=100 ] = 0.999\n",
      " Average Recall     (AR) @[ IoU=0.75      | area=   all | maxDets=100 ] = 0.910\n",
      "Epoch: [119]  [ 0/15]  eta: 0:00:23  lr: 0.000100  loss: 21.2313 (21.2313)  loss_mal: 0.9268 (0.9268)  loss_bbox: 0.1414 (0.1414)  loss_giou: 0.3538 (0.3538)  loss_fgl: 1.1408 (1.1408)  loss_mal_aux_0: 0.9390 (0.9390)  loss_bbox_aux_0: 0.1586 (0.1586)  loss_giou_aux_0: 0.3918 (0.3918)  loss_fgl_aux_0: 1.1847 (1.1847)  loss_ddf_aux_0: 0.1354 (0.1354)  loss_mal_aux_1: 0.9248 (0.9248)  loss_bbox_aux_1: 0.1433 (0.1433)  loss_giou_aux_1: 0.3551 (0.3551)  loss_fgl_aux_1: 1.1455 (1.1455)  loss_ddf_aux_1: 0.0088 (0.0088)  loss_mal_pre: 0.9380 (0.9380)  loss_bbox_pre: 0.1582 (0.1582)  loss_giou_pre: 0.3937 (0.3937)  loss_mal_enc_0: 1.0020 (1.0020)  loss_bbox_enc_0: 0.1997 (0.1997)  loss_giou_enc_0: 0.4891 (0.4891)  loss_mal_dn_0: 0.7578 (0.7578)  loss_bbox_dn_0: 0.2439 (0.2439)  loss_giou_dn_0: 0.5669 (0.5669)  loss_fgl_dn_0: 1.2641 (1.2641)  loss_ddf_dn_0: 0.7640 (0.7640)  loss_mal_dn_1: 0.7236 (0.7236)  loss_bbox_dn_1: 0.1781 (0.1781)  loss_giou_dn_1: 0.4079 (0.4079)  loss_fgl_dn_1: 1.1505 (1.1505)  loss_ddf_dn_1: 0.0360 (0.0360)  loss_mal_dn_2: 0.7236 (0.7236)  loss_bbox_dn_2: 0.1710 (0.1710)  loss_giou_dn_2: 0.3948 (0.3948)  loss_fgl_dn_2: 1.1443 (1.1443)  loss_mal_dn_pre: 0.7588 (0.7588)  loss_bbox_dn_pre: 0.2452 (0.2452)  loss_giou_dn_pre: 0.5705 (0.5705)  time: 1.5988  data: 1.0138  max mem: 10532\n"
     ]
    },
    {
     "name": "stderr",
     "output_type": "stream",
     "text": [
      "\u001b[32m2025-03-10 16:35:54.290\u001b[0m | \u001b[1mINFO    \u001b[0m | \u001b[36mdeimkit.trainer\u001b[0m:\u001b[36m_save_checkpoint\u001b[0m:\u001b[36m363\u001b[0m - \u001b[1mSaving checkpoint to outputs/deim_hgnetv2_s_coco_ema_tune/checkpoint0119.pth\u001b[0m\n"
     ]
    },
    {
     "name": "stdout",
     "output_type": "stream",
     "text": [
      "Epoch: [119]  [14/15]  eta: 0:00:00  lr: 0.000100  loss: 21.2313 (21.2598)  loss_mal: 0.8535 (0.8611)  loss_bbox: 0.1717 (0.1694)  loss_giou: 0.3484 (0.3453)  loss_fgl: 1.1429 (1.1455)  loss_mal_aux_0: 0.8999 (0.9082)  loss_bbox_aux_0: 0.1918 (0.1894)  loss_giou_aux_0: 0.3918 (0.3864)  loss_fgl_aux_0: 1.1907 (1.1910)  loss_ddf_aux_0: 0.1511 (0.1558)  loss_mal_aux_1: 0.8813 (0.8759)  loss_bbox_aux_1: 0.1736 (0.1717)  loss_giou_aux_1: 0.3553 (0.3486)  loss_fgl_aux_1: 1.1491 (1.1503)  loss_ddf_aux_1: 0.0098 (0.0098)  loss_mal_pre: 0.8979 (0.9087)  loss_bbox_pre: 0.1931 (0.1897)  loss_giou_pre: 0.3937 (0.3877)  loss_mal_enc_0: 0.9502 (0.9650)  loss_bbox_enc_0: 0.2401 (0.2456)  loss_giou_enc_0: 0.4891 (0.4957)  loss_mal_dn_0: 0.7539 (0.7517)  loss_bbox_dn_0: 0.2913 (0.2850)  loss_giou_dn_0: 0.5685 (0.5696)  loss_fgl_dn_0: 1.2282 (1.2219)  loss_ddf_dn_0: 0.7679 (0.7730)  loss_mal_dn_1: 0.7236 (0.7232)  loss_bbox_dn_1: 0.2098 (0.2101)  loss_giou_dn_1: 0.4149 (0.4181)  loss_fgl_dn_1: 1.1257 (1.1229)  loss_ddf_dn_1: 0.0345 (0.0345)  loss_mal_dn_2: 0.7109 (0.7148)  loss_bbox_dn_2: 0.2037 (0.2018)  loss_giou_dn_2: 0.4013 (0.4050)  loss_fgl_dn_2: 1.1206 (1.1170)  loss_mal_dn_pre: 0.7539 (0.7520)  loss_bbox_dn_pre: 0.2913 (0.2860)  loss_giou_dn_pre: 0.5705 (0.5727)  time: 0.5087  data: 0.0894  max mem: 10532\n",
      "Epoch: [119] Total time: 0:00:07 (0.5137 s / it)\n",
      "Averaged stats: lr: 0.000100  loss: 21.2313 (21.2598)  loss_mal: 0.8535 (0.8611)  loss_bbox: 0.1717 (0.1694)  loss_giou: 0.3484 (0.3453)  loss_fgl: 1.1429 (1.1455)  loss_mal_aux_0: 0.8999 (0.9082)  loss_bbox_aux_0: 0.1918 (0.1894)  loss_giou_aux_0: 0.3918 (0.3864)  loss_fgl_aux_0: 1.1907 (1.1910)  loss_ddf_aux_0: 0.1511 (0.1558)  loss_mal_aux_1: 0.8813 (0.8759)  loss_bbox_aux_1: 0.1736 (0.1717)  loss_giou_aux_1: 0.3553 (0.3486)  loss_fgl_aux_1: 1.1491 (1.1503)  loss_ddf_aux_1: 0.0098 (0.0098)  loss_mal_pre: 0.8979 (0.9087)  loss_bbox_pre: 0.1931 (0.1897)  loss_giou_pre: 0.3937 (0.3877)  loss_mal_enc_0: 0.9502 (0.9650)  loss_bbox_enc_0: 0.2401 (0.2456)  loss_giou_enc_0: 0.4891 (0.4957)  loss_mal_dn_0: 0.7539 (0.7517)  loss_bbox_dn_0: 0.2913 (0.2850)  loss_giou_dn_0: 0.5685 (0.5696)  loss_fgl_dn_0: 1.2282 (1.2219)  loss_ddf_dn_0: 0.7679 (0.7730)  loss_mal_dn_1: 0.7236 (0.7232)  loss_bbox_dn_1: 0.2098 (0.2101)  loss_giou_dn_1: 0.4149 (0.4181)  loss_fgl_dn_1: 1.1257 (1.1229)  loss_ddf_dn_1: 0.0345 (0.0345)  loss_mal_dn_2: 0.7109 (0.7148)  loss_bbox_dn_2: 0.2037 (0.2018)  loss_giou_dn_2: 0.4013 (0.4050)  loss_fgl_dn_2: 1.1206 (1.1170)  loss_mal_dn_pre: 0.7539 (0.7520)  loss_bbox_dn_pre: 0.2913 (0.2860)  loss_giou_dn_pre: 0.5705 (0.5727)\n"
     ]
    },
    {
     "name": "stderr",
     "output_type": "stream",
     "text": [
      "\u001b[32m2025-03-10 16:35:54.552\u001b[0m | \u001b[1mINFO    \u001b[0m | \u001b[36mdeimkit.trainer\u001b[0m:\u001b[36m_save_checkpoint\u001b[0m:\u001b[36m380\u001b[0m - \u001b[1mCheckpoint saved to outputs/deim_hgnetv2_s_coco_ema_tune/checkpoint0119.pth\u001b[0m\n",
      "\u001b[32m2025-03-10 16:35:54.554\u001b[0m | \u001b[1mINFO    \u001b[0m | \u001b[36mdeimkit.trainer\u001b[0m:\u001b[36mevaluate\u001b[0m:\u001b[36m331\u001b[0m - \u001b[1mEvaluating model...\u001b[0m\n"
     ]
    },
    {
     "name": "stdout",
     "output_type": "stream",
     "text": [
      "Test:  [0/5]  eta: 0:00:03    time: 0.7934  data: 0.6798  max mem: 10532\n"
     ]
    },
    {
     "name": "stderr",
     "output_type": "stream",
     "text": [
      "\u001b[32m2025-03-10 16:35:55.915\u001b[0m | \u001b[1mINFO    \u001b[0m | \u001b[36mdeimkit.trainer\u001b[0m:\u001b[36m_save_checkpoint\u001b[0m:\u001b[36m363\u001b[0m - \u001b[1mSaving checkpoint to outputs/deim_hgnetv2_s_coco_ema_tune/best.pth\u001b[0m\n"
     ]
    },
    {
     "name": "stdout",
     "output_type": "stream",
     "text": [
      "Test:  [4/5]  eta: 0:00:00    time: 0.2537  data: 0.1498  max mem: 10532\n",
      "Test: Total time: 0:00:01 (0.2658 s / it)\n",
      "Averaged stats: \n",
      "Accumulating evaluation results...\n",
      "COCOeval_opt.accumulate() finished...\n",
      "DONE (t=0.02s).\n",
      "IoU metric: bbox\n",
      " Average Precision  (AP) @[ IoU=0.50:0.95 | area=   all | maxDets=100 ] = 0.641\n",
      " Average Precision  (AP) @[ IoU=0.50      | area=   all | maxDets=100 ] = 0.895\n",
      " Average Precision  (AP) @[ IoU=0.75      | area=   all | maxDets=100 ] = 0.776\n",
      " Average Precision  (AP) @[ IoU=0.50:0.95 | area= small | maxDets=100 ] = 0.464\n",
      " Average Precision  (AP) @[ IoU=0.50:0.95 | area=medium | maxDets=100 ] = 0.647\n",
      " Average Precision  (AP) @[ IoU=0.50:0.95 | area= large | maxDets=100 ] = 0.489\n",
      " Average Recall     (AR) @[ IoU=0.50:0.95 | area=   all | maxDets=  1 ] = 0.416\n",
      " Average Recall     (AR) @[ IoU=0.50:0.95 | area=   all | maxDets= 10 ] = 0.691\n",
      " Average Recall     (AR) @[ IoU=0.50:0.95 | area=   all | maxDets=100 ] = 0.783\n",
      " Average Recall     (AR) @[ IoU=0.50:0.95 | area= small | maxDets=100 ] = 0.680\n",
      " Average Recall     (AR) @[ IoU=0.50:0.95 | area=medium | maxDets=100 ] = 0.781\n",
      " Average Recall     (AR) @[ IoU=0.50:0.95 | area= large | maxDets=100 ] = 0.790\n",
      " Average Recall     (AR) @[ IoU=0.50      | area=   all | maxDets=100 ] = 1.000\n",
      " Average Recall     (AR) @[ IoU=0.75      | area=   all | maxDets=100 ] = 0.943\n"
     ]
    },
    {
     "name": "stderr",
     "output_type": "stream",
     "text": [
      "\u001b[32m2025-03-10 16:35:56.320\u001b[0m | \u001b[1mINFO    \u001b[0m | \u001b[36mdeimkit.trainer\u001b[0m:\u001b[36m_save_checkpoint\u001b[0m:\u001b[36m380\u001b[0m - \u001b[1mCheckpoint saved to outputs/deim_hgnetv2_s_coco_ema_tune/best.pth\u001b[0m\n",
      "\u001b[32m2025-03-10 16:35:56.324\u001b[0m | \u001b[1mINFO    \u001b[0m | \u001b[36mdeimkit.trainer\u001b[0m:\u001b[36mtrain\u001b[0m:\u001b[36m312\u001b[0m - \u001b[1mEpoch 119 - Train loss: 21.2598, Eval mAP: 0.6406\u001b[0m\n",
      "\u001b[32m2025-03-10 16:35:56.324\u001b[0m | \u001b[1mINFO    \u001b[0m | \u001b[36mdeimkit.trainer\u001b[0m:\u001b[36mtrain\u001b[0m:\u001b[36m315\u001b[0m - \u001b[1mBest stats: {'epoch': 119, 'coco_eval_bbox': 0.640633235484264}\u001b[0m\n"
     ]
    },
    {
     "name": "stdout",
     "output_type": "stream",
     "text": [
      "Epoch: [120]  [ 0/15]  eta: 0:00:22  lr: 0.000100  loss: 25.8112 (25.8112)  loss_mal: 0.9131 (0.9131)  loss_bbox: 0.4252 (0.4252)  loss_giou: 0.6261 (0.6261)  loss_fgl: 1.2280 (1.2280)  loss_mal_aux_0: 0.9092 (0.9092)  loss_bbox_aux_0: 0.4191 (0.4191)  loss_giou_aux_0: 0.6392 (0.6392)  loss_fgl_aux_0: 1.2153 (1.2153)  loss_ddf_aux_0: 0.2208 (0.2208)  loss_mal_aux_1: 0.9160 (0.9160)  loss_bbox_aux_1: 0.4221 (0.4221)  loss_giou_aux_1: 0.6249 (0.6249)  loss_fgl_aux_1: 1.2235 (1.2235)  loss_ddf_aux_1: 0.0139 (0.0139)  loss_mal_pre: 0.9277 (0.9277)  loss_bbox_pre: 0.4105 (0.4105)  loss_giou_pre: 0.6192 (0.6192)  loss_mal_enc_0: 0.9595 (0.9595)  loss_bbox_enc_0: 0.4654 (0.4654)  loss_giou_enc_0: 0.6907 (0.6907)  loss_mal_dn_0: 0.7681 (0.7681)  loss_bbox_dn_0: 0.4505 (0.4505)  loss_giou_dn_0: 0.7134 (0.7134)  loss_fgl_dn_0: 1.2078 (1.2078)  loss_ddf_dn_0: 0.9285 (0.9285)  loss_mal_dn_1: 0.7695 (0.7695)  loss_bbox_dn_1: 0.3827 (0.3827)  loss_giou_dn_1: 0.5977 (0.5977)  loss_fgl_dn_1: 1.2127 (1.2127)  loss_ddf_dn_1: 0.0476 (0.0476)  loss_mal_dn_2: 0.7676 (0.7676)  loss_bbox_dn_2: 0.3803 (0.3803)  loss_giou_dn_2: 0.5893 (0.5893)  loss_fgl_dn_2: 1.2246 (1.2246)  loss_mal_dn_pre: 0.7822 (0.7822)  loss_bbox_dn_pre: 0.4339 (0.4339)  loss_giou_dn_pre: 0.6854 (0.6854)  time: 1.5030  data: 0.8220  max mem: 10532\n"
     ]
    },
    {
     "name": "stderr",
     "output_type": "stream",
     "text": [
      "\u001b[32m2025-03-10 16:36:03.139\u001b[0m | \u001b[1mINFO    \u001b[0m | \u001b[36mdeimkit.trainer\u001b[0m:\u001b[36mevaluate\u001b[0m:\u001b[36m331\u001b[0m - \u001b[1mEvaluating model...\u001b[0m\n"
     ]
    },
    {
     "name": "stdout",
     "output_type": "stream",
     "text": [
      "Epoch: [120]  [14/15]  eta: 0:00:00  lr: 0.000100  loss: 21.6214 (21.9095)  loss_mal: 0.8848 (0.8642)  loss_bbox: 0.1907 (0.2258)  loss_giou: 0.3450 (0.3834)  loss_fgl: 1.1649 (1.1656)  loss_mal_aux_0: 0.8916 (0.8857)  loss_bbox_aux_0: 0.2097 (0.2363)  loss_giou_aux_0: 0.3687 (0.4010)  loss_fgl_aux_0: 1.1832 (1.1810)  loss_ddf_aux_0: 0.1504 (0.1579)  loss_mal_aux_1: 0.9019 (0.8752)  loss_bbox_aux_1: 0.1896 (0.2260)  loss_giou_aux_1: 0.3448 (0.3840)  loss_fgl_aux_1: 1.1648 (1.1663)  loss_ddf_aux_1: 0.0122 (0.0118)  loss_mal_pre: 0.9023 (0.8899)  loss_bbox_pre: 0.2092 (0.2346)  loss_giou_pre: 0.3669 (0.3966)  loss_mal_enc_0: 0.9277 (0.9408)  loss_bbox_enc_0: 0.2487 (0.2882)  loss_giou_enc_0: 0.4275 (0.4706)  loss_mal_dn_0: 0.7627 (0.7654)  loss_bbox_dn_0: 0.3067 (0.3266)  loss_giou_dn_0: 0.5532 (0.5569)  loss_fgl_dn_0: 1.2128 (1.2181)  loss_ddf_dn_0: 0.8523 (0.8513)  loss_mal_dn_1: 0.7354 (0.7415)  loss_bbox_dn_1: 0.2394 (0.2578)  loss_giou_dn_1: 0.4224 (0.4355)  loss_fgl_dn_1: 1.1311 (1.1371)  loss_ddf_dn_1: 0.0415 (0.0408)  loss_mal_dn_2: 0.7319 (0.7354)  loss_bbox_dn_2: 0.2321 (0.2513)  loss_giou_dn_2: 0.4141 (0.4273)  loss_fgl_dn_2: 1.1269 (1.1355)  loss_mal_dn_pre: 0.7642 (0.7667)  loss_bbox_dn_pre: 0.3108 (0.3245)  loss_giou_dn_pre: 0.5526 (0.5527)  time: 0.4479  data: 0.0685  max mem: 10532\n",
      "Epoch: [120] Total time: 0:00:06 (0.4529 s / it)\n",
      "Averaged stats: lr: 0.000100  loss: 21.6214 (21.9095)  loss_mal: 0.8848 (0.8642)  loss_bbox: 0.1907 (0.2258)  loss_giou: 0.3450 (0.3834)  loss_fgl: 1.1649 (1.1656)  loss_mal_aux_0: 0.8916 (0.8857)  loss_bbox_aux_0: 0.2097 (0.2363)  loss_giou_aux_0: 0.3687 (0.4010)  loss_fgl_aux_0: 1.1832 (1.1810)  loss_ddf_aux_0: 0.1504 (0.1579)  loss_mal_aux_1: 0.9019 (0.8752)  loss_bbox_aux_1: 0.1896 (0.2260)  loss_giou_aux_1: 0.3448 (0.3840)  loss_fgl_aux_1: 1.1648 (1.1663)  loss_ddf_aux_1: 0.0122 (0.0118)  loss_mal_pre: 0.9023 (0.8899)  loss_bbox_pre: 0.2092 (0.2346)  loss_giou_pre: 0.3669 (0.3966)  loss_mal_enc_0: 0.9277 (0.9408)  loss_bbox_enc_0: 0.2487 (0.2882)  loss_giou_enc_0: 0.4275 (0.4706)  loss_mal_dn_0: 0.7627 (0.7654)  loss_bbox_dn_0: 0.3067 (0.3266)  loss_giou_dn_0: 0.5532 (0.5569)  loss_fgl_dn_0: 1.2128 (1.2181)  loss_ddf_dn_0: 0.8523 (0.8513)  loss_mal_dn_1: 0.7354 (0.7415)  loss_bbox_dn_1: 0.2394 (0.2578)  loss_giou_dn_1: 0.4224 (0.4355)  loss_fgl_dn_1: 1.1311 (1.1371)  loss_ddf_dn_1: 0.0415 (0.0408)  loss_mal_dn_2: 0.7319 (0.7354)  loss_bbox_dn_2: 0.2321 (0.2513)  loss_giou_dn_2: 0.4141 (0.4273)  loss_fgl_dn_2: 1.1269 (1.1355)  loss_mal_dn_pre: 0.7642 (0.7667)  loss_bbox_dn_pre: 0.3108 (0.3245)  loss_giou_dn_pre: 0.5526 (0.5527)\n",
      "Test:  [0/5]  eta: 0:00:03    time: 0.7460  data: 0.6331  max mem: 10532\n"
     ]
    },
    {
     "name": "stderr",
     "output_type": "stream",
     "text": [
      "\u001b[32m2025-03-10 16:36:04.464\u001b[0m | \u001b[1mINFO    \u001b[0m | \u001b[36mdeimkit.trainer\u001b[0m:\u001b[36mtrain\u001b[0m:\u001b[36m312\u001b[0m - \u001b[1mEpoch 120 - Train loss: 21.9095, Eval mAP: 0.6019\u001b[0m\n",
      "\u001b[32m2025-03-10 16:36:04.464\u001b[0m | \u001b[1mINFO    \u001b[0m | \u001b[36mdeimkit.trainer\u001b[0m:\u001b[36mtrain\u001b[0m:\u001b[36m315\u001b[0m - \u001b[1mBest stats: {'epoch': 119, 'coco_eval_bbox': 0.640633235484264}\u001b[0m\n"
     ]
    },
    {
     "name": "stdout",
     "output_type": "stream",
     "text": [
      "Test:  [4/5]  eta: 0:00:00    time: 0.2448  data: 0.1403  max mem: 10532\n",
      "Test: Total time: 0:00:01 (0.2579 s / it)\n",
      "Averaged stats: \n",
      "Accumulating evaluation results...\n",
      "COCOeval_opt.accumulate() finished...\n",
      "DONE (t=0.02s).\n",
      "IoU metric: bbox\n",
      " Average Precision  (AP) @[ IoU=0.50:0.95 | area=   all | maxDets=100 ] = 0.602\n",
      " Average Precision  (AP) @[ IoU=0.50      | area=   all | maxDets=100 ] = 0.885\n",
      " Average Precision  (AP) @[ IoU=0.75      | area=   all | maxDets=100 ] = 0.662\n",
      " Average Precision  (AP) @[ IoU=0.50:0.95 | area= small | maxDets=100 ] = 0.193\n",
      " Average Precision  (AP) @[ IoU=0.50:0.95 | area=medium | maxDets=100 ] = 0.620\n",
      " Average Precision  (AP) @[ IoU=0.50:0.95 | area= large | maxDets=100 ] = 0.480\n",
      " Average Recall     (AR) @[ IoU=0.50:0.95 | area=   all | maxDets=  1 ] = 0.393\n",
      " Average Recall     (AR) @[ IoU=0.50:0.95 | area=   all | maxDets= 10 ] = 0.662\n",
      " Average Recall     (AR) @[ IoU=0.50:0.95 | area=   all | maxDets=100 ] = 0.749\n",
      " Average Recall     (AR) @[ IoU=0.50:0.95 | area= small | maxDets=100 ] = 0.660\n",
      " Average Recall     (AR) @[ IoU=0.50:0.95 | area=medium | maxDets=100 ] = 0.755\n",
      " Average Recall     (AR) @[ IoU=0.50:0.95 | area= large | maxDets=100 ] = 0.780\n",
      " Average Recall     (AR) @[ IoU=0.50      | area=   all | maxDets=100 ] = 0.999\n",
      " Average Recall     (AR) @[ IoU=0.75      | area=   all | maxDets=100 ] = 0.874\n",
      "Epoch: [121]  [ 0/15]  eta: 0:00:18  lr: 0.000100  loss: 20.7052 (20.7052)  loss_mal: 0.8027 (0.8027)  loss_bbox: 0.1721 (0.1721)  loss_giou: 0.3310 (0.3310)  loss_fgl: 1.1615 (1.1615)  loss_mal_aux_0: 0.8071 (0.8071)  loss_bbox_aux_0: 0.1841 (0.1841)  loss_giou_aux_0: 0.3550 (0.3550)  loss_fgl_aux_0: 1.1951 (1.1951)  loss_ddf_aux_0: 0.1182 (0.1182)  loss_mal_aux_1: 0.7964 (0.7964)  loss_bbox_aux_1: 0.1731 (0.1731)  loss_giou_aux_1: 0.3308 (0.3308)  loss_fgl_aux_1: 1.1652 (1.1652)  loss_ddf_aux_1: 0.0090 (0.0090)  loss_mal_pre: 0.8052 (0.8052)  loss_bbox_pre: 0.1844 (0.1844)  loss_giou_pre: 0.3585 (0.3585)  loss_mal_enc_0: 0.9087 (0.9087)  loss_bbox_enc_0: 0.2126 (0.2126)  loss_giou_enc_0: 0.4240 (0.4240)  loss_mal_dn_0: 0.7510 (0.7510)  loss_bbox_dn_0: 0.2727 (0.2727)  loss_giou_dn_0: 0.5055 (0.5055)  loss_fgl_dn_0: 1.2525 (1.2525)  loss_ddf_dn_0: 0.9432 (0.9432)  loss_mal_dn_1: 0.7295 (0.7295)  loss_bbox_dn_1: 0.2066 (0.2066)  loss_giou_dn_1: 0.3812 (0.3812)  loss_fgl_dn_1: 1.1454 (1.1454)  loss_ddf_dn_1: 0.0398 (0.0398)  loss_mal_dn_2: 0.7275 (0.7275)  loss_bbox_dn_2: 0.2032 (0.2032)  loss_giou_dn_2: 0.3757 (0.3757)  loss_fgl_dn_2: 1.1420 (1.1420)  loss_mal_dn_pre: 0.7520 (0.7520)  loss_bbox_dn_pre: 0.2747 (0.2747)  loss_giou_dn_pre: 0.5081 (0.5081)  time: 1.2111  data: 0.7130  max mem: 10532\n"
     ]
    },
    {
     "name": "stderr",
     "output_type": "stream",
     "text": [
      "\u001b[32m2025-03-10 16:36:11.261\u001b[0m | \u001b[1mINFO    \u001b[0m | \u001b[36mdeimkit.trainer\u001b[0m:\u001b[36mevaluate\u001b[0m:\u001b[36m331\u001b[0m - \u001b[1mEvaluating model...\u001b[0m\n"
     ]
    },
    {
     "name": "stdout",
     "output_type": "stream",
     "text": [
      "Epoch: [121]  [14/15]  eta: 0:00:00  lr: 0.000100  loss: 20.1231 (20.0527)  loss_mal: 0.7690 (0.7981)  loss_bbox: 0.1653 (0.1642)  loss_giou: 0.2981 (0.3008)  loss_fgl: 1.1303 (1.1316)  loss_mal_aux_0: 0.8042 (0.8190)  loss_bbox_aux_0: 0.1754 (0.1751)  loss_giou_aux_0: 0.3237 (0.3204)  loss_fgl_aux_0: 1.1643 (1.1626)  loss_ddf_aux_0: 0.1081 (0.1101)  loss_mal_aux_1: 0.7773 (0.8060)  loss_bbox_aux_1: 0.1655 (0.1656)  loss_giou_aux_1: 0.3023 (0.3027)  loss_fgl_aux_1: 1.1336 (1.1352)  loss_ddf_aux_1: 0.0076 (0.0077)  loss_mal_pre: 0.8052 (0.8186)  loss_bbox_pre: 0.1760 (0.1747)  loss_giou_pre: 0.3245 (0.3203)  loss_mal_enc_0: 0.8599 (0.8715)  loss_bbox_enc_0: 0.1958 (0.2005)  loss_giou_enc_0: 0.3727 (0.3749)  loss_mal_dn_0: 0.7505 (0.7501)  loss_bbox_dn_0: 0.2727 (0.2686)  loss_giou_dn_0: 0.4926 (0.4857)  loss_fgl_dn_0: 1.2246 (1.2222)  loss_ddf_dn_0: 0.8412 (0.8373)  loss_mal_dn_1: 0.7241 (0.7223)  loss_bbox_dn_1: 0.2019 (0.2040)  loss_giou_dn_1: 0.3672 (0.3680)  loss_fgl_dn_1: 1.1163 (1.1142)  loss_ddf_dn_1: 0.0288 (0.0304)  loss_mal_dn_2: 0.7183 (0.7153)  loss_bbox_dn_2: 0.1976 (0.1995)  loss_giou_dn_2: 0.3616 (0.3613)  loss_fgl_dn_2: 1.1137 (1.1089)  loss_mal_dn_pre: 0.7510 (0.7500)  loss_bbox_dn_pre: 0.2721 (0.2678)  loss_giou_dn_pre: 0.4915 (0.4874)  time: 0.4467  data: 0.0760  max mem: 10532\n",
      "Epoch: [121] Total time: 0:00:06 (0.4517 s / it)\n",
      "Averaged stats: lr: 0.000100  loss: 20.1231 (20.0527)  loss_mal: 0.7690 (0.7981)  loss_bbox: 0.1653 (0.1642)  loss_giou: 0.2981 (0.3008)  loss_fgl: 1.1303 (1.1316)  loss_mal_aux_0: 0.8042 (0.8190)  loss_bbox_aux_0: 0.1754 (0.1751)  loss_giou_aux_0: 0.3237 (0.3204)  loss_fgl_aux_0: 1.1643 (1.1626)  loss_ddf_aux_0: 0.1081 (0.1101)  loss_mal_aux_1: 0.7773 (0.8060)  loss_bbox_aux_1: 0.1655 (0.1656)  loss_giou_aux_1: 0.3023 (0.3027)  loss_fgl_aux_1: 1.1336 (1.1352)  loss_ddf_aux_1: 0.0076 (0.0077)  loss_mal_pre: 0.8052 (0.8186)  loss_bbox_pre: 0.1760 (0.1747)  loss_giou_pre: 0.3245 (0.3203)  loss_mal_enc_0: 0.8599 (0.8715)  loss_bbox_enc_0: 0.1958 (0.2005)  loss_giou_enc_0: 0.3727 (0.3749)  loss_mal_dn_0: 0.7505 (0.7501)  loss_bbox_dn_0: 0.2727 (0.2686)  loss_giou_dn_0: 0.4926 (0.4857)  loss_fgl_dn_0: 1.2246 (1.2222)  loss_ddf_dn_0: 0.8412 (0.8373)  loss_mal_dn_1: 0.7241 (0.7223)  loss_bbox_dn_1: 0.2019 (0.2040)  loss_giou_dn_1: 0.3672 (0.3680)  loss_fgl_dn_1: 1.1163 (1.1142)  loss_ddf_dn_1: 0.0288 (0.0304)  loss_mal_dn_2: 0.7183 (0.7153)  loss_bbox_dn_2: 0.1976 (0.1995)  loss_giou_dn_2: 0.3616 (0.3613)  loss_fgl_dn_2: 1.1137 (1.1089)  loss_mal_dn_pre: 0.7510 (0.7500)  loss_bbox_dn_pre: 0.2721 (0.2678)  loss_giou_dn_pre: 0.4915 (0.4874)\n",
      "Test:  [0/5]  eta: 0:00:03    time: 0.7322  data: 0.6233  max mem: 10532\n"
     ]
    },
    {
     "name": "stderr",
     "output_type": "stream",
     "text": [
      "\u001b[32m2025-03-10 16:36:12.526\u001b[0m | \u001b[1mINFO    \u001b[0m | \u001b[36mdeimkit.trainer\u001b[0m:\u001b[36mtrain\u001b[0m:\u001b[36m312\u001b[0m - \u001b[1mEpoch 121 - Train loss: 20.0527, Eval mAP: 0.6184\u001b[0m\n",
      "\u001b[32m2025-03-10 16:36:12.526\u001b[0m | \u001b[1mINFO    \u001b[0m | \u001b[36mdeimkit.trainer\u001b[0m:\u001b[36mtrain\u001b[0m:\u001b[36m315\u001b[0m - \u001b[1mBest stats: {'epoch': 119, 'coco_eval_bbox': 0.640633235484264}\u001b[0m\n"
     ]
    },
    {
     "name": "stdout",
     "output_type": "stream",
     "text": [
      "Test:  [4/5]  eta: 0:00:00    time: 0.2348  data: 0.1367  max mem: 10532\n",
      "Test: Total time: 0:00:01 (0.2467 s / it)\n",
      "Averaged stats: \n",
      "Accumulating evaluation results...\n",
      "COCOeval_opt.accumulate() finished...\n",
      "DONE (t=0.02s).\n",
      "IoU metric: bbox\n",
      " Average Precision  (AP) @[ IoU=0.50:0.95 | area=   all | maxDets=100 ] = 0.618\n",
      " Average Precision  (AP) @[ IoU=0.50      | area=   all | maxDets=100 ] = 0.888\n",
      " Average Precision  (AP) @[ IoU=0.75      | area=   all | maxDets=100 ] = 0.688\n",
      " Average Precision  (AP) @[ IoU=0.50:0.95 | area= small | maxDets=100 ] = 0.321\n",
      " Average Precision  (AP) @[ IoU=0.50:0.95 | area=medium | maxDets=100 ] = 0.595\n",
      " Average Precision  (AP) @[ IoU=0.50:0.95 | area= large | maxDets=100 ] = 0.485\n",
      " Average Recall     (AR) @[ IoU=0.50:0.95 | area=   all | maxDets=  1 ] = 0.399\n",
      " Average Recall     (AR) @[ IoU=0.50:0.95 | area=   all | maxDets= 10 ] = 0.672\n",
      " Average Recall     (AR) @[ IoU=0.50:0.95 | area=   all | maxDets=100 ] = 0.769\n",
      " Average Recall     (AR) @[ IoU=0.50:0.95 | area= small | maxDets=100 ] = 0.700\n",
      " Average Recall     (AR) @[ IoU=0.50:0.95 | area=medium | maxDets=100 ] = 0.741\n",
      " Average Recall     (AR) @[ IoU=0.50:0.95 | area= large | maxDets=100 ] = 0.820\n",
      " Average Recall     (AR) @[ IoU=0.50      | area=   all | maxDets=100 ] = 0.995\n",
      " Average Recall     (AR) @[ IoU=0.75      | area=   all | maxDets=100 ] = 0.903\n",
      "Epoch: [122]  [ 0/15]  eta: 0:00:17  lr: 0.000100  loss: 19.9366 (19.9366)  loss_mal: 0.7495 (0.7495)  loss_bbox: 0.1639 (0.1639)  loss_giou: 0.3076 (0.3076)  loss_fgl: 1.1344 (1.1344)  loss_mal_aux_0: 0.7793 (0.7793)  loss_bbox_aux_0: 0.1802 (0.1802)  loss_giou_aux_0: 0.3322 (0.3322)  loss_fgl_aux_0: 1.1661 (1.1661)  loss_ddf_aux_0: 0.1004 (0.1004)  loss_mal_aux_1: 0.7651 (0.7651)  loss_bbox_aux_1: 0.1673 (0.1673)  loss_giou_aux_1: 0.3108 (0.3108)  loss_fgl_aux_1: 1.1376 (1.1376)  loss_ddf_aux_1: 0.0069 (0.0069)  loss_mal_pre: 0.7793 (0.7793)  loss_bbox_pre: 0.1795 (0.1795)  loss_giou_pre: 0.3325 (0.3325)  loss_mal_enc_0: 0.8892 (0.8892)  loss_bbox_enc_0: 0.2070 (0.2070)  loss_giou_enc_0: 0.4037 (0.4037)  loss_mal_dn_0: 0.7471 (0.7471)  loss_bbox_dn_0: 0.2625 (0.2625)  loss_giou_dn_0: 0.4827 (0.4827)  loss_fgl_dn_0: 1.2216 (1.2216)  loss_ddf_dn_0: 0.8152 (0.8152)  loss_mal_dn_1: 0.7134 (0.7134)  loss_bbox_dn_1: 0.2020 (0.2020)  loss_giou_dn_1: 0.3757 (0.3757)  loss_fgl_dn_1: 1.1182 (1.1182)  loss_ddf_dn_1: 0.0280 (0.0280)  loss_mal_dn_2: 0.7085 (0.7085)  loss_bbox_dn_2: 0.1984 (0.1984)  loss_giou_dn_2: 0.3697 (0.3697)  loss_fgl_dn_2: 1.1136 (1.1136)  loss_mal_dn_pre: 0.7461 (0.7461)  loss_bbox_dn_pre: 0.2606 (0.2606)  loss_giou_dn_pre: 0.4809 (0.4809)  time: 1.1362  data: 0.6728  max mem: 10532\n"
     ]
    },
    {
     "name": "stderr",
     "output_type": "stream",
     "text": [
      "\u001b[32m2025-03-10 16:36:18.865\u001b[0m | \u001b[1mINFO    \u001b[0m | \u001b[36mdeimkit.trainer\u001b[0m:\u001b[36mevaluate\u001b[0m:\u001b[36m331\u001b[0m - \u001b[1mEvaluating model...\u001b[0m\n"
     ]
    },
    {
     "name": "stdout",
     "output_type": "stream",
     "text": [
      "Epoch: [122]  [14/15]  eta: 0:00:00  lr: 0.000100  loss: 19.7757 (19.6702)  loss_mal: 0.7495 (0.7727)  loss_bbox: 0.1602 (0.1593)  loss_giou: 0.3008 (0.2925)  loss_fgl: 1.1284 (1.1236)  loss_mal_aux_0: 0.7764 (0.8005)  loss_bbox_aux_0: 0.1738 (0.1713)  loss_giou_aux_0: 0.3193 (0.3118)  loss_fgl_aux_0: 1.1567 (1.1537)  loss_ddf_aux_0: 0.1084 (0.1067)  loss_mal_aux_1: 0.7651 (0.7785)  loss_bbox_aux_1: 0.1612 (0.1606)  loss_giou_aux_1: 0.3035 (0.2945)  loss_fgl_aux_1: 1.1282 (1.1268)  loss_ddf_aux_1: 0.0078 (0.0077)  loss_mal_pre: 0.7764 (0.7998)  loss_bbox_pre: 0.1729 (0.1709)  loss_giou_pre: 0.3197 (0.3113)  loss_mal_enc_0: 0.8369 (0.8516)  loss_bbox_enc_0: 0.1959 (0.1920)  loss_giou_enc_0: 0.3633 (0.3622)  loss_mal_dn_0: 0.7471 (0.7430)  loss_bbox_dn_0: 0.2604 (0.2588)  loss_giou_dn_0: 0.4716 (0.4727)  loss_fgl_dn_0: 1.2287 (1.2226)  loss_ddf_dn_0: 0.8142 (0.8021)  loss_mal_dn_1: 0.7129 (0.7062)  loss_bbox_dn_1: 0.1984 (0.1979)  loss_giou_dn_1: 0.3595 (0.3597)  loss_fgl_dn_1: 1.1120 (1.1081)  loss_ddf_dn_1: 0.0284 (0.0289)  loss_mal_dn_2: 0.7080 (0.6993)  loss_bbox_dn_2: 0.1928 (0.1932)  loss_giou_dn_2: 0.3523 (0.3520)  loss_fgl_dn_2: 1.1088 (1.1033)  loss_mal_dn_pre: 0.7461 (0.7430)  loss_bbox_dn_pre: 0.2601 (0.2576)  loss_giou_dn_pre: 0.4708 (0.4737)  time: 0.4170  data: 0.0592  max mem: 10532\n",
      "Epoch: [122] Total time: 0:00:06 (0.4211 s / it)\n",
      "Averaged stats: lr: 0.000100  loss: 19.7757 (19.6702)  loss_mal: 0.7495 (0.7727)  loss_bbox: 0.1602 (0.1593)  loss_giou: 0.3008 (0.2925)  loss_fgl: 1.1284 (1.1236)  loss_mal_aux_0: 0.7764 (0.8005)  loss_bbox_aux_0: 0.1738 (0.1713)  loss_giou_aux_0: 0.3193 (0.3118)  loss_fgl_aux_0: 1.1567 (1.1537)  loss_ddf_aux_0: 0.1084 (0.1067)  loss_mal_aux_1: 0.7651 (0.7785)  loss_bbox_aux_1: 0.1612 (0.1606)  loss_giou_aux_1: 0.3035 (0.2945)  loss_fgl_aux_1: 1.1282 (1.1268)  loss_ddf_aux_1: 0.0078 (0.0077)  loss_mal_pre: 0.7764 (0.7998)  loss_bbox_pre: 0.1729 (0.1709)  loss_giou_pre: 0.3197 (0.3113)  loss_mal_enc_0: 0.8369 (0.8516)  loss_bbox_enc_0: 0.1959 (0.1920)  loss_giou_enc_0: 0.3633 (0.3622)  loss_mal_dn_0: 0.7471 (0.7430)  loss_bbox_dn_0: 0.2604 (0.2588)  loss_giou_dn_0: 0.4716 (0.4727)  loss_fgl_dn_0: 1.2287 (1.2226)  loss_ddf_dn_0: 0.8142 (0.8021)  loss_mal_dn_1: 0.7129 (0.7062)  loss_bbox_dn_1: 0.1984 (0.1979)  loss_giou_dn_1: 0.3595 (0.3597)  loss_fgl_dn_1: 1.1120 (1.1081)  loss_ddf_dn_1: 0.0284 (0.0289)  loss_mal_dn_2: 0.7080 (0.6993)  loss_bbox_dn_2: 0.1928 (0.1932)  loss_giou_dn_2: 0.3523 (0.3520)  loss_fgl_dn_2: 1.1088 (1.1033)  loss_mal_dn_pre: 0.7461 (0.7430)  loss_bbox_dn_pre: 0.2601 (0.2576)  loss_giou_dn_pre: 0.4708 (0.4737)\n",
      "Test:  [0/5]  eta: 0:00:04    time: 0.9430  data: 0.6635  max mem: 10532\n"
     ]
    },
    {
     "name": "stderr",
     "output_type": "stream",
     "text": [
      "\u001b[32m2025-03-10 16:36:20.383\u001b[0m | \u001b[1mINFO    \u001b[0m | \u001b[36mdeimkit.trainer\u001b[0m:\u001b[36mtrain\u001b[0m:\u001b[36m312\u001b[0m - \u001b[1mEpoch 122 - Train loss: 19.6702, Eval mAP: 0.6379\u001b[0m\n",
      "\u001b[32m2025-03-10 16:36:20.384\u001b[0m | \u001b[1mINFO    \u001b[0m | \u001b[36mdeimkit.trainer\u001b[0m:\u001b[36mtrain\u001b[0m:\u001b[36m315\u001b[0m - \u001b[1mBest stats: {'epoch': 119, 'coco_eval_bbox': 0.640633235484264}\u001b[0m\n"
     ]
    },
    {
     "name": "stdout",
     "output_type": "stream",
     "text": [
      "Test:  [4/5]  eta: 0:00:00    time: 0.2830  data: 0.1458  max mem: 10532\n",
      "Test: Total time: 0:00:01 (0.2972 s / it)\n",
      "Averaged stats: \n",
      "Accumulating evaluation results...\n",
      "COCOeval_opt.accumulate() finished...\n",
      "DONE (t=0.02s).\n",
      "IoU metric: bbox\n",
      " Average Precision  (AP) @[ IoU=0.50:0.95 | area=   all | maxDets=100 ] = 0.638\n",
      " Average Precision  (AP) @[ IoU=0.50      | area=   all | maxDets=100 ] = 0.900\n",
      " Average Precision  (AP) @[ IoU=0.75      | area=   all | maxDets=100 ] = 0.739\n",
      " Average Precision  (AP) @[ IoU=0.50:0.95 | area= small | maxDets=100 ] = 0.316\n",
      " Average Precision  (AP) @[ IoU=0.50:0.95 | area=medium | maxDets=100 ] = 0.612\n",
      " Average Precision  (AP) @[ IoU=0.50:0.95 | area= large | maxDets=100 ] = 0.491\n",
      " Average Recall     (AR) @[ IoU=0.50:0.95 | area=   all | maxDets=  1 ] = 0.407\n",
      " Average Recall     (AR) @[ IoU=0.50:0.95 | area=   all | maxDets= 10 ] = 0.687\n",
      " Average Recall     (AR) @[ IoU=0.50:0.95 | area=   all | maxDets=100 ] = 0.785\n",
      " Average Recall     (AR) @[ IoU=0.50:0.95 | area= small | maxDets=100 ] = 0.640\n",
      " Average Recall     (AR) @[ IoU=0.50:0.95 | area=medium | maxDets=100 ] = 0.750\n",
      " Average Recall     (AR) @[ IoU=0.50:0.95 | area= large | maxDets=100 ] = 0.795\n",
      " Average Recall     (AR) @[ IoU=0.50      | area=   all | maxDets=100 ] = 1.000\n",
      " Average Recall     (AR) @[ IoU=0.75      | area=   all | maxDets=100 ] = 0.929\n",
      "Epoch: [123]  [ 0/15]  eta: 0:00:18  lr: 0.000100  loss: 19.4836 (19.4836)  loss_mal: 0.7490 (0.7490)  loss_bbox: 0.1575 (0.1575)  loss_giou: 0.3039 (0.3039)  loss_fgl: 1.1230 (1.1230)  loss_mal_aux_0: 0.7773 (0.7773)  loss_bbox_aux_0: 0.1675 (0.1675)  loss_giou_aux_0: 0.3199 (0.3199)  loss_fgl_aux_0: 1.1482 (1.1482)  loss_ddf_aux_0: 0.0983 (0.0983)  loss_mal_aux_1: 0.7563 (0.7563)  loss_bbox_aux_1: 0.1590 (0.1590)  loss_giou_aux_1: 0.3061 (0.3061)  loss_fgl_aux_1: 1.1251 (1.1251)  loss_ddf_aux_1: 0.0079 (0.0079)  loss_mal_pre: 0.7744 (0.7744)  loss_bbox_pre: 0.1660 (0.1660)  loss_giou_pre: 0.3203 (0.3203)  loss_mal_enc_0: 0.8682 (0.8682)  loss_bbox_enc_0: 0.1946 (0.1946)  loss_giou_enc_0: 0.3851 (0.3851)  loss_mal_dn_0: 0.7393 (0.7393)  loss_bbox_dn_0: 0.2493 (0.2493)  loss_giou_dn_0: 0.4723 (0.4723)  loss_fgl_dn_0: 1.2181 (1.2181)  loss_ddf_dn_0: 0.7467 (0.7467)  loss_mal_dn_1: 0.6982 (0.6982)  loss_bbox_dn_1: 0.1841 (0.1841)  loss_giou_dn_1: 0.3497 (0.3497)  loss_fgl_dn_1: 1.1124 (1.1124)  loss_ddf_dn_1: 0.0289 (0.0289)  loss_mal_dn_2: 0.6909 (0.6909)  loss_bbox_dn_2: 0.1806 (0.1806)  loss_giou_dn_2: 0.3418 (0.3418)  loss_fgl_dn_2: 1.1080 (1.1080)  loss_mal_dn_pre: 0.7383 (0.7383)  loss_bbox_dn_pre: 0.2469 (0.2469)  loss_giou_dn_pre: 0.4704 (0.4704)  time: 1.2152  data: 0.7150  max mem: 10532\n"
     ]
    },
    {
     "name": "stderr",
     "output_type": "stream",
     "text": [
      "\u001b[32m2025-03-10 16:36:26.941\u001b[0m | \u001b[1mINFO    \u001b[0m | \u001b[36mdeimkit.trainer\u001b[0m:\u001b[36m_save_checkpoint\u001b[0m:\u001b[36m363\u001b[0m - \u001b[1mSaving checkpoint to outputs/deim_hgnetv2_s_coco_ema_tune/checkpoint0123.pth\u001b[0m\n"
     ]
    },
    {
     "name": "stdout",
     "output_type": "stream",
     "text": [
      "Epoch: [123]  [14/15]  eta: 0:00:00  lr: 0.000100  loss: 19.4836 (19.3954)  loss_mal: 0.7280 (0.7434)  loss_bbox: 0.1545 (0.1534)  loss_giou: 0.2879 (0.2850)  loss_fgl: 1.1126 (1.1166)  loss_mal_aux_0: 0.7715 (0.7777)  loss_bbox_aux_0: 0.1657 (0.1646)  loss_giou_aux_0: 0.3077 (0.3047)  loss_fgl_aux_0: 1.1482 (1.1483)  loss_ddf_aux_0: 0.1067 (0.1081)  loss_mal_aux_1: 0.7388 (0.7575)  loss_bbox_aux_1: 0.1552 (0.1545)  loss_giou_aux_1: 0.2888 (0.2868)  loss_fgl_aux_1: 1.1188 (1.1203)  loss_ddf_aux_1: 0.0086 (0.0090)  loss_mal_pre: 0.7671 (0.7768)  loss_bbox_pre: 0.1656 (0.1641)  loss_giou_pre: 0.3072 (0.3040)  loss_mal_enc_0: 0.8228 (0.8353)  loss_bbox_enc_0: 0.1859 (0.1841)  loss_giou_enc_0: 0.3593 (0.3510)  loss_mal_dn_0: 0.7397 (0.7406)  loss_bbox_dn_0: 0.2577 (0.2542)  loss_giou_dn_0: 0.4614 (0.4635)  loss_fgl_dn_0: 1.2167 (1.2163)  loss_ddf_dn_0: 0.7467 (0.7902)  loss_mal_dn_1: 0.7046 (0.7057)  loss_bbox_dn_1: 0.1993 (0.1946)  loss_giou_dn_1: 0.3550 (0.3540)  loss_fgl_dn_1: 1.1124 (1.1056)  loss_ddf_dn_1: 0.0302 (0.0308)  loss_mal_dn_2: 0.6987 (0.6975)  loss_bbox_dn_2: 0.1946 (0.1900)  loss_giou_dn_2: 0.3475 (0.3466)  loss_fgl_dn_2: 1.1042 (1.0998)  loss_mal_dn_pre: 0.7402 (0.7411)  loss_bbox_dn_pre: 0.2567 (0.2539)  loss_giou_dn_pre: 0.4646 (0.4657)  time: 0.4309  data: 0.0634  max mem: 10532\n",
      "Epoch: [123] Total time: 0:00:06 (0.4355 s / it)\n",
      "Averaged stats: lr: 0.000100  loss: 19.4836 (19.3954)  loss_mal: 0.7280 (0.7434)  loss_bbox: 0.1545 (0.1534)  loss_giou: 0.2879 (0.2850)  loss_fgl: 1.1126 (1.1166)  loss_mal_aux_0: 0.7715 (0.7777)  loss_bbox_aux_0: 0.1657 (0.1646)  loss_giou_aux_0: 0.3077 (0.3047)  loss_fgl_aux_0: 1.1482 (1.1483)  loss_ddf_aux_0: 0.1067 (0.1081)  loss_mal_aux_1: 0.7388 (0.7575)  loss_bbox_aux_1: 0.1552 (0.1545)  loss_giou_aux_1: 0.2888 (0.2868)  loss_fgl_aux_1: 1.1188 (1.1203)  loss_ddf_aux_1: 0.0086 (0.0090)  loss_mal_pre: 0.7671 (0.7768)  loss_bbox_pre: 0.1656 (0.1641)  loss_giou_pre: 0.3072 (0.3040)  loss_mal_enc_0: 0.8228 (0.8353)  loss_bbox_enc_0: 0.1859 (0.1841)  loss_giou_enc_0: 0.3593 (0.3510)  loss_mal_dn_0: 0.7397 (0.7406)  loss_bbox_dn_0: 0.2577 (0.2542)  loss_giou_dn_0: 0.4614 (0.4635)  loss_fgl_dn_0: 1.2167 (1.2163)  loss_ddf_dn_0: 0.7467 (0.7902)  loss_mal_dn_1: 0.7046 (0.7057)  loss_bbox_dn_1: 0.1993 (0.1946)  loss_giou_dn_1: 0.3550 (0.3540)  loss_fgl_dn_1: 1.1124 (1.1056)  loss_ddf_dn_1: 0.0302 (0.0308)  loss_mal_dn_2: 0.6987 (0.6975)  loss_bbox_dn_2: 0.1946 (0.1900)  loss_giou_dn_2: 0.3475 (0.3466)  loss_fgl_dn_2: 1.1042 (1.0998)  loss_mal_dn_pre: 0.7402 (0.7411)  loss_bbox_dn_pre: 0.2567 (0.2539)  loss_giou_dn_pre: 0.4646 (0.4657)\n"
     ]
    },
    {
     "name": "stderr",
     "output_type": "stream",
     "text": [
      "\u001b[32m2025-03-10 16:36:27.202\u001b[0m | \u001b[1mINFO    \u001b[0m | \u001b[36mdeimkit.trainer\u001b[0m:\u001b[36m_save_checkpoint\u001b[0m:\u001b[36m380\u001b[0m - \u001b[1mCheckpoint saved to outputs/deim_hgnetv2_s_coco_ema_tune/checkpoint0123.pth\u001b[0m\n",
      "\u001b[32m2025-03-10 16:36:27.204\u001b[0m | \u001b[1mINFO    \u001b[0m | \u001b[36mdeimkit.trainer\u001b[0m:\u001b[36mevaluate\u001b[0m:\u001b[36m331\u001b[0m - \u001b[1mEvaluating model...\u001b[0m\n"
     ]
    },
    {
     "name": "stdout",
     "output_type": "stream",
     "text": [
      "Test:  [0/5]  eta: 0:00:04    time: 0.8943  data: 0.6218  max mem: 10532\n"
     ]
    },
    {
     "name": "stderr",
     "output_type": "stream",
     "text": [
      "\u001b[32m2025-03-10 16:36:28.669\u001b[0m | \u001b[1mINFO    \u001b[0m | \u001b[36mdeimkit.trainer\u001b[0m:\u001b[36m_save_checkpoint\u001b[0m:\u001b[36m363\u001b[0m - \u001b[1mSaving checkpoint to outputs/deim_hgnetv2_s_coco_ema_tune/best.pth\u001b[0m\n"
     ]
    },
    {
     "name": "stdout",
     "output_type": "stream",
     "text": [
      "Test:  [4/5]  eta: 0:00:00    time: 0.2725  data: 0.1366  max mem: 10532\n",
      "Test: Total time: 0:00:01 (0.2867 s / it)\n",
      "Averaged stats: \n",
      "Accumulating evaluation results...\n",
      "COCOeval_opt.accumulate() finished...\n",
      "DONE (t=0.02s).\n",
      "IoU metric: bbox\n",
      " Average Precision  (AP) @[ IoU=0.50:0.95 | area=   all | maxDets=100 ] = 0.643\n",
      " Average Precision  (AP) @[ IoU=0.50      | area=   all | maxDets=100 ] = 0.907\n",
      " Average Precision  (AP) @[ IoU=0.75      | area=   all | maxDets=100 ] = 0.732\n",
      " Average Precision  (AP) @[ IoU=0.50:0.95 | area= small | maxDets=100 ] = 0.420\n",
      " Average Precision  (AP) @[ IoU=0.50:0.95 | area=medium | maxDets=100 ] = 0.648\n",
      " Average Precision  (AP) @[ IoU=0.50:0.95 | area= large | maxDets=100 ] = 0.496\n",
      " Average Recall     (AR) @[ IoU=0.50:0.95 | area=   all | maxDets=  1 ] = 0.410\n",
      " Average Recall     (AR) @[ IoU=0.50:0.95 | area=   all | maxDets= 10 ] = 0.695\n",
      " Average Recall     (AR) @[ IoU=0.50:0.95 | area=   all | maxDets=100 ] = 0.791\n",
      " Average Recall     (AR) @[ IoU=0.50:0.95 | area= small | maxDets=100 ] = 0.700\n",
      " Average Recall     (AR) @[ IoU=0.50:0.95 | area=medium | maxDets=100 ] = 0.789\n",
      " Average Recall     (AR) @[ IoU=0.50:0.95 | area= large | maxDets=100 ] = 0.829\n",
      " Average Recall     (AR) @[ IoU=0.50      | area=   all | maxDets=100 ] = 1.000\n",
      " Average Recall     (AR) @[ IoU=0.75      | area=   all | maxDets=100 ] = 0.924\n"
     ]
    },
    {
     "name": "stderr",
     "output_type": "stream",
     "text": [
      "\u001b[32m2025-03-10 16:36:29.164\u001b[0m | \u001b[1mINFO    \u001b[0m | \u001b[36mdeimkit.trainer\u001b[0m:\u001b[36m_save_checkpoint\u001b[0m:\u001b[36m380\u001b[0m - \u001b[1mCheckpoint saved to outputs/deim_hgnetv2_s_coco_ema_tune/best.pth\u001b[0m\n",
      "\u001b[32m2025-03-10 16:36:29.167\u001b[0m | \u001b[1mINFO    \u001b[0m | \u001b[36mdeimkit.trainer\u001b[0m:\u001b[36mtrain\u001b[0m:\u001b[36m312\u001b[0m - \u001b[1mEpoch 123 - Train loss: 19.3954, Eval mAP: 0.6427\u001b[0m\n",
      "\u001b[32m2025-03-10 16:36:29.168\u001b[0m | \u001b[1mINFO    \u001b[0m | \u001b[36mdeimkit.trainer\u001b[0m:\u001b[36mtrain\u001b[0m:\u001b[36m315\u001b[0m - \u001b[1mBest stats: {'epoch': 123, 'coco_eval_bbox': 0.6427197028781287}\u001b[0m\n"
     ]
    },
    {
     "name": "stdout",
     "output_type": "stream",
     "text": [
      "Epoch: [124]  [ 0/15]  eta: 0:00:18  lr: 0.000100  loss: 19.2194 (19.2194)  loss_mal: 0.7363 (0.7363)  loss_bbox: 0.1532 (0.1532)  loss_giou: 0.2891 (0.2891)  loss_fgl: 1.1214 (1.1214)  loss_mal_aux_0: 0.7656 (0.7656)  loss_bbox_aux_0: 0.1648 (0.1648)  loss_giou_aux_0: 0.3124 (0.3124)  loss_fgl_aux_0: 1.1559 (1.1559)  loss_ddf_aux_0: 0.1077 (0.1077)  loss_mal_aux_1: 0.7505 (0.7505)  loss_bbox_aux_1: 0.1539 (0.1539)  loss_giou_aux_1: 0.2911 (0.2911)  loss_fgl_aux_1: 1.1242 (1.1242)  loss_ddf_aux_1: 0.0080 (0.0080)  loss_mal_pre: 0.7637 (0.7637)  loss_bbox_pre: 0.1651 (0.1651)  loss_giou_pre: 0.3141 (0.3141)  loss_mal_enc_0: 0.8433 (0.8433)  loss_bbox_enc_0: 0.1868 (0.1868)  loss_giou_enc_0: 0.3712 (0.3712)  loss_mal_dn_0: 0.7227 (0.7227)  loss_bbox_dn_0: 0.2458 (0.2458)  loss_giou_dn_0: 0.4529 (0.4529)  loss_fgl_dn_0: 1.2107 (1.2107)  loss_ddf_dn_0: 0.7147 (0.7147)  loss_mal_dn_1: 0.6826 (0.6826)  loss_bbox_dn_1: 0.1900 (0.1900)  loss_giou_dn_1: 0.3487 (0.3487)  loss_fgl_dn_1: 1.1112 (1.1112)  loss_ddf_dn_1: 0.0283 (0.0283)  loss_mal_dn_2: 0.6821 (0.6821)  loss_bbox_dn_2: 0.1864 (0.1864)  loss_giou_dn_2: 0.3421 (0.3421)  loss_fgl_dn_2: 1.1065 (1.1065)  loss_mal_dn_pre: 0.7227 (0.7227)  loss_bbox_dn_pre: 0.2415 (0.2415)  loss_giou_dn_pre: 0.4525 (0.4525)  time: 1.2437  data: 0.7195  max mem: 10532\n"
     ]
    },
    {
     "name": "stderr",
     "output_type": "stream",
     "text": [
      "\u001b[32m2025-03-10 16:36:35.910\u001b[0m | \u001b[1mINFO    \u001b[0m | \u001b[36mdeimkit.trainer\u001b[0m:\u001b[36mevaluate\u001b[0m:\u001b[36m331\u001b[0m - \u001b[1mEvaluating model...\u001b[0m\n"
     ]
    },
    {
     "name": "stdout",
     "output_type": "stream",
     "text": [
      "Epoch: [124]  [14/15]  eta: 0:00:00  lr: 0.000100  loss: 19.2060 (19.1185)  loss_mal: 0.7183 (0.7280)  loss_bbox: 0.1474 (0.1485)  loss_giou: 0.2853 (0.2766)  loss_fgl: 1.1117 (1.1128)  loss_mal_aux_0: 0.7417 (0.7588)  loss_bbox_aux_0: 0.1612 (0.1606)  loss_giou_aux_0: 0.3013 (0.2958)  loss_fgl_aux_0: 1.1451 (1.1446)  loss_ddf_aux_0: 0.1080 (0.1110)  loss_mal_aux_1: 0.7275 (0.7402)  loss_bbox_aux_1: 0.1483 (0.1502)  loss_giou_aux_1: 0.2864 (0.2786)  loss_fgl_aux_1: 1.1152 (1.1174)  loss_ddf_aux_1: 0.0086 (0.0087)  loss_mal_pre: 0.7417 (0.7571)  loss_bbox_pre: 0.1603 (0.1599)  loss_giou_pre: 0.3019 (0.2945)  loss_mal_enc_0: 0.8140 (0.8217)  loss_bbox_enc_0: 0.1794 (0.1785)  loss_giou_enc_0: 0.3427 (0.3390)  loss_mal_dn_0: 0.7402 (0.7391)  loss_bbox_dn_0: 0.2473 (0.2486)  loss_giou_dn_0: 0.4517 (0.4519)  loss_fgl_dn_0: 1.2185 (1.2184)  loss_ddf_dn_0: 0.7563 (0.7730)  loss_mal_dn_1: 0.6943 (0.6973)  loss_bbox_dn_1: 0.1900 (0.1879)  loss_giou_dn_1: 0.3429 (0.3430)  loss_fgl_dn_1: 1.1011 (1.1021)  loss_ddf_dn_1: 0.0321 (0.0310)  loss_mal_dn_2: 0.6870 (0.6906)  loss_bbox_dn_2: 0.1848 (0.1828)  loss_giou_dn_2: 0.3366 (0.3352)  loss_fgl_dn_2: 1.0991 (1.0958)  loss_mal_dn_pre: 0.7402 (0.7391)  loss_bbox_dn_pre: 0.2489 (0.2475)  loss_giou_dn_pre: 0.4486 (0.4526)  time: 0.4429  data: 0.0684  max mem: 10532\n",
      "Epoch: [124] Total time: 0:00:06 (0.4481 s / it)\n",
      "Averaged stats: lr: 0.000100  loss: 19.2060 (19.1185)  loss_mal: 0.7183 (0.7280)  loss_bbox: 0.1474 (0.1485)  loss_giou: 0.2853 (0.2766)  loss_fgl: 1.1117 (1.1128)  loss_mal_aux_0: 0.7417 (0.7588)  loss_bbox_aux_0: 0.1612 (0.1606)  loss_giou_aux_0: 0.3013 (0.2958)  loss_fgl_aux_0: 1.1451 (1.1446)  loss_ddf_aux_0: 0.1080 (0.1110)  loss_mal_aux_1: 0.7275 (0.7402)  loss_bbox_aux_1: 0.1483 (0.1502)  loss_giou_aux_1: 0.2864 (0.2786)  loss_fgl_aux_1: 1.1152 (1.1174)  loss_ddf_aux_1: 0.0086 (0.0087)  loss_mal_pre: 0.7417 (0.7571)  loss_bbox_pre: 0.1603 (0.1599)  loss_giou_pre: 0.3019 (0.2945)  loss_mal_enc_0: 0.8140 (0.8217)  loss_bbox_enc_0: 0.1794 (0.1785)  loss_giou_enc_0: 0.3427 (0.3390)  loss_mal_dn_0: 0.7402 (0.7391)  loss_bbox_dn_0: 0.2473 (0.2486)  loss_giou_dn_0: 0.4517 (0.4519)  loss_fgl_dn_0: 1.2185 (1.2184)  loss_ddf_dn_0: 0.7563 (0.7730)  loss_mal_dn_1: 0.6943 (0.6973)  loss_bbox_dn_1: 0.1900 (0.1879)  loss_giou_dn_1: 0.3429 (0.3430)  loss_fgl_dn_1: 1.1011 (1.1021)  loss_ddf_dn_1: 0.0321 (0.0310)  loss_mal_dn_2: 0.6870 (0.6906)  loss_bbox_dn_2: 0.1848 (0.1828)  loss_giou_dn_2: 0.3366 (0.3352)  loss_fgl_dn_2: 1.0991 (1.0958)  loss_mal_dn_pre: 0.7402 (0.7391)  loss_bbox_dn_pre: 0.2489 (0.2475)  loss_giou_dn_pre: 0.4486 (0.4526)\n",
      "Test:  [0/5]  eta: 0:00:04    time: 0.9077  data: 0.6329  max mem: 10532\n"
     ]
    },
    {
     "name": "stderr",
     "output_type": "stream",
     "text": [
      "\u001b[32m2025-03-10 16:36:37.380\u001b[0m | \u001b[1mINFO    \u001b[0m | \u001b[36mdeimkit.trainer\u001b[0m:\u001b[36mtrain\u001b[0m:\u001b[36m312\u001b[0m - \u001b[1mEpoch 124 - Train loss: 19.1185, Eval mAP: 0.6419\u001b[0m\n",
      "\u001b[32m2025-03-10 16:36:37.380\u001b[0m | \u001b[1mINFO    \u001b[0m | \u001b[36mdeimkit.trainer\u001b[0m:\u001b[36mtrain\u001b[0m:\u001b[36m315\u001b[0m - \u001b[1mBest stats: {'epoch': 123, 'coco_eval_bbox': 0.6427197028781287}\u001b[0m\n"
     ]
    },
    {
     "name": "stdout",
     "output_type": "stream",
     "text": [
      "Test:  [4/5]  eta: 0:00:00    time: 0.2740  data: 0.1414  max mem: 10532\n",
      "Test: Total time: 0:00:01 (0.2873 s / it)\n",
      "Averaged stats: \n",
      "Accumulating evaluation results...\n",
      "COCOeval_opt.accumulate() finished...\n",
      "DONE (t=0.02s).\n",
      "IoU metric: bbox\n",
      " Average Precision  (AP) @[ IoU=0.50:0.95 | area=   all | maxDets=100 ] = 0.642\n",
      " Average Precision  (AP) @[ IoU=0.50      | area=   all | maxDets=100 ] = 0.909\n",
      " Average Precision  (AP) @[ IoU=0.75      | area=   all | maxDets=100 ] = 0.749\n",
      " Average Precision  (AP) @[ IoU=0.50:0.95 | area= small | maxDets=100 ] = 0.434\n",
      " Average Precision  (AP) @[ IoU=0.50:0.95 | area=medium | maxDets=100 ] = 0.647\n",
      " Average Precision  (AP) @[ IoU=0.50:0.95 | area= large | maxDets=100 ] = 0.496\n",
      " Average Recall     (AR) @[ IoU=0.50:0.95 | area=   all | maxDets=  1 ] = 0.409\n",
      " Average Recall     (AR) @[ IoU=0.50:0.95 | area=   all | maxDets= 10 ] = 0.694\n",
      " Average Recall     (AR) @[ IoU=0.50:0.95 | area=   all | maxDets=100 ] = 0.794\n",
      " Average Recall     (AR) @[ IoU=0.50:0.95 | area= small | maxDets=100 ] = 0.660\n",
      " Average Recall     (AR) @[ IoU=0.50:0.95 | area=medium | maxDets=100 ] = 0.788\n",
      " Average Recall     (AR) @[ IoU=0.50:0.95 | area= large | maxDets=100 ] = 0.831\n",
      " Average Recall     (AR) @[ IoU=0.50      | area=   all | maxDets=100 ] = 1.000\n",
      " Average Recall     (AR) @[ IoU=0.75      | area=   all | maxDets=100 ] = 0.941\n",
      "Epoch: [125]  [ 0/15]  eta: 0:00:20  lr: 0.000100  loss: 18.9426 (18.9426)  loss_mal: 0.7266 (0.7266)  loss_bbox: 0.1419 (0.1419)  loss_giou: 0.2686 (0.2686)  loss_fgl: 1.1192 (1.1192)  loss_mal_aux_0: 0.7520 (0.7520)  loss_bbox_aux_0: 0.1585 (0.1585)  loss_giou_aux_0: 0.2954 (0.2954)  loss_fgl_aux_0: 1.1528 (1.1528)  loss_ddf_aux_0: 0.1084 (0.1084)  loss_mal_aux_1: 0.7373 (0.7373)  loss_bbox_aux_1: 0.1426 (0.1426)  loss_giou_aux_1: 0.2720 (0.2720)  loss_fgl_aux_1: 1.1219 (1.1219)  loss_ddf_aux_1: 0.0089 (0.0089)  loss_mal_pre: 0.7524 (0.7524)  loss_bbox_pre: 0.1568 (0.1568)  loss_giou_pre: 0.2946 (0.2946)  loss_mal_enc_0: 0.8276 (0.8276)  loss_bbox_enc_0: 0.1806 (0.1806)  loss_giou_enc_0: 0.3546 (0.3546)  loss_mal_dn_0: 0.7261 (0.7261)  loss_bbox_dn_0: 0.2306 (0.2306)  loss_giou_dn_0: 0.4426 (0.4426)  loss_fgl_dn_0: 1.2161 (1.2161)  loss_ddf_dn_0: 0.7265 (0.7265)  loss_mal_dn_1: 0.6865 (0.6865)  loss_bbox_dn_1: 0.1757 (0.1757)  loss_giou_dn_1: 0.3358 (0.3358)  loss_fgl_dn_1: 1.1147 (1.1147)  loss_ddf_dn_1: 0.0311 (0.0311)  loss_mal_dn_2: 0.6807 (0.6807)  loss_bbox_dn_2: 0.1703 (0.1703)  loss_giou_dn_2: 0.3258 (0.3258)  loss_fgl_dn_2: 1.1058 (1.1058)  loss_mal_dn_pre: 0.7266 (0.7266)  loss_bbox_dn_pre: 0.2311 (0.2311)  loss_giou_dn_pre: 0.4439 (0.4439)  time: 1.3350  data: 0.8649  max mem: 10532\n"
     ]
    },
    {
     "name": "stderr",
     "output_type": "stream",
     "text": [
      "\u001b[32m2025-03-10 16:36:44.132\u001b[0m | \u001b[1mINFO    \u001b[0m | \u001b[36mdeimkit.trainer\u001b[0m:\u001b[36mevaluate\u001b[0m:\u001b[36m331\u001b[0m - \u001b[1mEvaluating model...\u001b[0m\n"
     ]
    },
    {
     "name": "stdout",
     "output_type": "stream",
     "text": [
      "Epoch: [125]  [14/15]  eta: 0:00:00  lr: 0.000100  loss: 19.1206 (19.0009)  loss_mal: 0.7026 (0.7115)  loss_bbox: 0.1419 (0.1444)  loss_giou: 0.2698 (0.2686)  loss_fgl: 1.1021 (1.1063)  loss_mal_aux_0: 0.7476 (0.7555)  loss_bbox_aux_0: 0.1578 (0.1556)  loss_giou_aux_0: 0.2907 (0.2877)  loss_fgl_aux_0: 1.1418 (1.1375)  loss_ddf_aux_0: 0.1095 (0.1122)  loss_mal_aux_1: 0.7192 (0.7265)  loss_bbox_aux_1: 0.1426 (0.1461)  loss_giou_aux_1: 0.2734 (0.2712)  loss_fgl_aux_1: 1.1104 (1.1109)  loss_ddf_aux_1: 0.0100 (0.0102)  loss_mal_pre: 0.7471 (0.7542)  loss_bbox_pre: 0.1568 (0.1551)  loss_giou_pre: 0.2885 (0.2871)  loss_mal_enc_0: 0.8013 (0.8170)  loss_bbox_enc_0: 0.1750 (0.1742)  loss_giou_enc_0: 0.3318 (0.3327)  loss_mal_dn_0: 0.7407 (0.7385)  loss_bbox_dn_0: 0.2427 (0.2461)  loss_giou_dn_0: 0.4426 (0.4496)  loss_fgl_dn_0: 1.2227 (1.2227)  loss_ddf_dn_0: 0.7777 (0.7998)  loss_mal_dn_1: 0.6973 (0.6959)  loss_bbox_dn_1: 0.1796 (0.1853)  loss_giou_dn_1: 0.3358 (0.3389)  loss_fgl_dn_1: 1.1012 (1.1012)  loss_ddf_dn_1: 0.0340 (0.0337)  loss_mal_dn_2: 0.6924 (0.6871)  loss_bbox_dn_2: 0.1729 (0.1799)  loss_giou_dn_2: 0.3258 (0.3306)  loss_fgl_dn_2: 1.0913 (1.0931)  loss_mal_dn_pre: 0.7412 (0.7384)  loss_bbox_dn_pre: 0.2427 (0.2455)  loss_giou_dn_pre: 0.4439 (0.4501)  time: 0.4444  data: 0.0722  max mem: 10532\n",
      "Epoch: [125] Total time: 0:00:06 (0.4487 s / it)\n",
      "Averaged stats: lr: 0.000100  loss: 19.1206 (19.0009)  loss_mal: 0.7026 (0.7115)  loss_bbox: 0.1419 (0.1444)  loss_giou: 0.2698 (0.2686)  loss_fgl: 1.1021 (1.1063)  loss_mal_aux_0: 0.7476 (0.7555)  loss_bbox_aux_0: 0.1578 (0.1556)  loss_giou_aux_0: 0.2907 (0.2877)  loss_fgl_aux_0: 1.1418 (1.1375)  loss_ddf_aux_0: 0.1095 (0.1122)  loss_mal_aux_1: 0.7192 (0.7265)  loss_bbox_aux_1: 0.1426 (0.1461)  loss_giou_aux_1: 0.2734 (0.2712)  loss_fgl_aux_1: 1.1104 (1.1109)  loss_ddf_aux_1: 0.0100 (0.0102)  loss_mal_pre: 0.7471 (0.7542)  loss_bbox_pre: 0.1568 (0.1551)  loss_giou_pre: 0.2885 (0.2871)  loss_mal_enc_0: 0.8013 (0.8170)  loss_bbox_enc_0: 0.1750 (0.1742)  loss_giou_enc_0: 0.3318 (0.3327)  loss_mal_dn_0: 0.7407 (0.7385)  loss_bbox_dn_0: 0.2427 (0.2461)  loss_giou_dn_0: 0.4426 (0.4496)  loss_fgl_dn_0: 1.2227 (1.2227)  loss_ddf_dn_0: 0.7777 (0.7998)  loss_mal_dn_1: 0.6973 (0.6959)  loss_bbox_dn_1: 0.1796 (0.1853)  loss_giou_dn_1: 0.3358 (0.3389)  loss_fgl_dn_1: 1.1012 (1.1012)  loss_ddf_dn_1: 0.0340 (0.0337)  loss_mal_dn_2: 0.6924 (0.6871)  loss_bbox_dn_2: 0.1729 (0.1799)  loss_giou_dn_2: 0.3258 (0.3306)  loss_fgl_dn_2: 1.0913 (1.0931)  loss_mal_dn_pre: 0.7412 (0.7384)  loss_bbox_dn_pre: 0.2427 (0.2455)  loss_giou_dn_pre: 0.4439 (0.4501)\n",
      "Test:  [0/5]  eta: 0:00:03    time: 0.7818  data: 0.6538  max mem: 10532\n"
     ]
    },
    {
     "name": "stderr",
     "output_type": "stream",
     "text": [
      "\u001b[32m2025-03-10 16:36:45.676\u001b[0m | \u001b[1mINFO    \u001b[0m | \u001b[36mdeimkit.trainer\u001b[0m:\u001b[36m_save_checkpoint\u001b[0m:\u001b[36m363\u001b[0m - \u001b[1mSaving checkpoint to outputs/deim_hgnetv2_s_coco_ema_tune/best.pth\u001b[0m\n"
     ]
    },
    {
     "name": "stdout",
     "output_type": "stream",
     "text": [
      "Test:  [4/5]  eta: 0:00:00    time: 0.2881  data: 0.1491  max mem: 10532\n",
      "Test: Total time: 0:00:01 (0.3021 s / it)\n",
      "Averaged stats: \n",
      "Accumulating evaluation results...\n",
      "COCOeval_opt.accumulate() finished...\n",
      "DONE (t=0.02s).\n",
      "IoU metric: bbox\n",
      " Average Precision  (AP) @[ IoU=0.50:0.95 | area=   all | maxDets=100 ] = 0.643\n",
      " Average Precision  (AP) @[ IoU=0.50      | area=   all | maxDets=100 ] = 0.911\n",
      " Average Precision  (AP) @[ IoU=0.75      | area=   all | maxDets=100 ] = 0.738\n",
      " Average Precision  (AP) @[ IoU=0.50:0.95 | area= small | maxDets=100 ] = 0.449\n",
      " Average Precision  (AP) @[ IoU=0.50:0.95 | area=medium | maxDets=100 ] = 0.615\n",
      " Average Precision  (AP) @[ IoU=0.50:0.95 | area= large | maxDets=100 ] = 0.490\n",
      " Average Recall     (AR) @[ IoU=0.50:0.95 | area=   all | maxDets=  1 ] = 0.412\n",
      " Average Recall     (AR) @[ IoU=0.50:0.95 | area=   all | maxDets= 10 ] = 0.690\n",
      " Average Recall     (AR) @[ IoU=0.50:0.95 | area=   all | maxDets=100 ] = 0.792\n",
      " Average Recall     (AR) @[ IoU=0.50:0.95 | area= small | maxDets=100 ] = 0.680\n",
      " Average Recall     (AR) @[ IoU=0.50:0.95 | area=medium | maxDets=100 ] = 0.750\n",
      " Average Recall     (AR) @[ IoU=0.50:0.95 | area= large | maxDets=100 ] = 0.832\n",
      " Average Recall     (AR) @[ IoU=0.50      | area=   all | maxDets=100 ] = 1.000\n",
      " Average Recall     (AR) @[ IoU=0.75      | area=   all | maxDets=100 ] = 0.928\n"
     ]
    },
    {
     "name": "stderr",
     "output_type": "stream",
     "text": [
      "\u001b[32m2025-03-10 16:36:46.003\u001b[0m | \u001b[1mINFO    \u001b[0m | \u001b[36mdeimkit.trainer\u001b[0m:\u001b[36m_save_checkpoint\u001b[0m:\u001b[36m380\u001b[0m - \u001b[1mCheckpoint saved to outputs/deim_hgnetv2_s_coco_ema_tune/best.pth\u001b[0m\n",
      "\u001b[32m2025-03-10 16:36:46.005\u001b[0m | \u001b[1mINFO    \u001b[0m | \u001b[36mdeimkit.trainer\u001b[0m:\u001b[36mtrain\u001b[0m:\u001b[36m312\u001b[0m - \u001b[1mEpoch 125 - Train loss: 19.0009, Eval mAP: 0.6432\u001b[0m\n",
      "\u001b[32m2025-03-10 16:36:46.006\u001b[0m | \u001b[1mINFO    \u001b[0m | \u001b[36mdeimkit.trainer\u001b[0m:\u001b[36mtrain\u001b[0m:\u001b[36m315\u001b[0m - \u001b[1mBest stats: {'epoch': 125, 'coco_eval_bbox': 0.6431629988852811}\u001b[0m\n"
     ]
    },
    {
     "name": "stdout",
     "output_type": "stream",
     "text": [
      "Epoch: [126]  [ 0/15]  eta: 0:00:18  lr: 0.000100  loss: 18.9886 (18.9886)  loss_mal: 0.6953 (0.6953)  loss_bbox: 0.1392 (0.1392)  loss_giou: 0.2711 (0.2711)  loss_fgl: 1.1161 (1.1161)  loss_mal_aux_0: 0.7129 (0.7129)  loss_bbox_aux_0: 0.1544 (0.1544)  loss_giou_aux_0: 0.2956 (0.2956)  loss_fgl_aux_0: 1.1539 (1.1539)  loss_ddf_aux_0: 0.1280 (0.1280)  loss_mal_aux_1: 0.7158 (0.7158)  loss_bbox_aux_1: 0.1410 (0.1410)  loss_giou_aux_1: 0.2754 (0.2754)  loss_fgl_aux_1: 1.1198 (1.1198)  loss_ddf_aux_1: 0.0123 (0.0123)  loss_mal_pre: 0.7114 (0.7114)  loss_bbox_pre: 0.1533 (0.1533)  loss_giou_pre: 0.2979 (0.2979)  loss_mal_enc_0: 0.7988 (0.7988)  loss_bbox_enc_0: 0.1712 (0.1712)  loss_giou_enc_0: 0.3444 (0.3444)  loss_mal_dn_0: 0.7256 (0.7256)  loss_bbox_dn_0: 0.2443 (0.2443)  loss_giou_dn_0: 0.4543 (0.4543)  loss_fgl_dn_0: 1.2462 (1.2462)  loss_ddf_dn_0: 0.8272 (0.8272)  loss_mal_dn_1: 0.6851 (0.6851)  loss_bbox_dn_1: 0.1809 (0.1809)  loss_giou_dn_1: 0.3414 (0.3414)  loss_fgl_dn_1: 1.1196 (1.1196)  loss_ddf_dn_1: 0.0348 (0.0348)  loss_mal_dn_2: 0.6743 (0.6743)  loss_bbox_dn_2: 0.1775 (0.1775)  loss_giou_dn_2: 0.3345 (0.3345)  loss_fgl_dn_2: 1.1181 (1.1181)  loss_mal_dn_pre: 0.7236 (0.7236)  loss_bbox_dn_pre: 0.2412 (0.2412)  loss_giou_dn_pre: 0.4518 (0.4518)  time: 1.2174  data: 0.7462  max mem: 10532\n"
     ]
    },
    {
     "name": "stderr",
     "output_type": "stream",
     "text": [
      "\u001b[32m2025-03-10 16:36:52.553\u001b[0m | \u001b[1mINFO    \u001b[0m | \u001b[36mdeimkit.trainer\u001b[0m:\u001b[36mevaluate\u001b[0m:\u001b[36m331\u001b[0m - \u001b[1mEvaluating model...\u001b[0m\n"
     ]
    },
    {
     "name": "stdout",
     "output_type": "stream",
     "text": [
      "Epoch: [126]  [14/15]  eta: 0:00:00  lr: 0.000100  loss: 18.9446 (18.7781)  loss_mal: 0.6948 (0.7031)  loss_bbox: 0.1392 (0.1389)  loss_giou: 0.2667 (0.2610)  loss_fgl: 1.0997 (1.0976)  loss_mal_aux_0: 0.7393 (0.7494)  loss_bbox_aux_0: 0.1544 (0.1521)  loss_giou_aux_0: 0.2867 (0.2818)  loss_fgl_aux_0: 1.1323 (1.1319)  loss_ddf_aux_0: 0.1179 (0.1201)  loss_mal_aux_1: 0.7158 (0.7233)  loss_bbox_aux_1: 0.1410 (0.1403)  loss_giou_aux_1: 0.2685 (0.2629)  loss_fgl_aux_1: 1.1028 (1.1020)  loss_ddf_aux_1: 0.0115 (0.0113)  loss_mal_pre: 0.7373 (0.7480)  loss_bbox_pre: 0.1533 (0.1519)  loss_giou_pre: 0.2866 (0.2815)  loss_mal_enc_0: 0.7793 (0.8006)  loss_bbox_enc_0: 0.1712 (0.1696)  loss_giou_enc_0: 0.3296 (0.3254)  loss_mal_dn_0: 0.7329 (0.7343)  loss_bbox_dn_0: 0.2420 (0.2411)  loss_giou_dn_0: 0.4482 (0.4439)  loss_fgl_dn_0: 1.2087 (1.2099)  loss_ddf_dn_0: 0.7602 (0.7800)  loss_mal_dn_1: 0.6929 (0.6918)  loss_bbox_dn_1: 0.1809 (0.1800)  loss_giou_dn_1: 0.3374 (0.3330)  loss_fgl_dn_1: 1.0920 (1.0909)  loss_ddf_dn_1: 0.0347 (0.0346)  loss_mal_dn_2: 0.6816 (0.6833)  loss_bbox_dn_2: 0.1775 (0.1749)  loss_giou_dn_2: 0.3312 (0.3253)  loss_fgl_dn_2: 1.0846 (1.0840)  loss_mal_dn_pre: 0.7344 (0.7340)  loss_bbox_dn_pre: 0.2412 (0.2402)  loss_giou_dn_pre: 0.4457 (0.4441)  time: 0.4314  data: 0.0646  max mem: 10532\n",
      "Epoch: [126] Total time: 0:00:06 (0.4353 s / it)\n",
      "Averaged stats: lr: 0.000100  loss: 18.9446 (18.7781)  loss_mal: 0.6948 (0.7031)  loss_bbox: 0.1392 (0.1389)  loss_giou: 0.2667 (0.2610)  loss_fgl: 1.0997 (1.0976)  loss_mal_aux_0: 0.7393 (0.7494)  loss_bbox_aux_0: 0.1544 (0.1521)  loss_giou_aux_0: 0.2867 (0.2818)  loss_fgl_aux_0: 1.1323 (1.1319)  loss_ddf_aux_0: 0.1179 (0.1201)  loss_mal_aux_1: 0.7158 (0.7233)  loss_bbox_aux_1: 0.1410 (0.1403)  loss_giou_aux_1: 0.2685 (0.2629)  loss_fgl_aux_1: 1.1028 (1.1020)  loss_ddf_aux_1: 0.0115 (0.0113)  loss_mal_pre: 0.7373 (0.7480)  loss_bbox_pre: 0.1533 (0.1519)  loss_giou_pre: 0.2866 (0.2815)  loss_mal_enc_0: 0.7793 (0.8006)  loss_bbox_enc_0: 0.1712 (0.1696)  loss_giou_enc_0: 0.3296 (0.3254)  loss_mal_dn_0: 0.7329 (0.7343)  loss_bbox_dn_0: 0.2420 (0.2411)  loss_giou_dn_0: 0.4482 (0.4439)  loss_fgl_dn_0: 1.2087 (1.2099)  loss_ddf_dn_0: 0.7602 (0.7800)  loss_mal_dn_1: 0.6929 (0.6918)  loss_bbox_dn_1: 0.1809 (0.1800)  loss_giou_dn_1: 0.3374 (0.3330)  loss_fgl_dn_1: 1.0920 (1.0909)  loss_ddf_dn_1: 0.0347 (0.0346)  loss_mal_dn_2: 0.6816 (0.6833)  loss_bbox_dn_2: 0.1775 (0.1749)  loss_giou_dn_2: 0.3312 (0.3253)  loss_fgl_dn_2: 1.0846 (1.0840)  loss_mal_dn_pre: 0.7344 (0.7340)  loss_bbox_dn_pre: 0.2412 (0.2402)  loss_giou_dn_pre: 0.4457 (0.4441)\n",
      "Test:  [0/5]  eta: 0:00:03    time: 0.7536  data: 0.6425  max mem: 10532\n"
     ]
    },
    {
     "name": "stderr",
     "output_type": "stream",
     "text": [
      "\u001b[32m2025-03-10 16:36:54.048\u001b[0m | \u001b[1mINFO    \u001b[0m | \u001b[36mdeimkit.trainer\u001b[0m:\u001b[36mtrain\u001b[0m:\u001b[36m312\u001b[0m - \u001b[1mEpoch 126 - Train loss: 18.7781, Eval mAP: 0.6388\u001b[0m\n",
      "\u001b[32m2025-03-10 16:36:54.048\u001b[0m | \u001b[1mINFO    \u001b[0m | \u001b[36mdeimkit.trainer\u001b[0m:\u001b[36mtrain\u001b[0m:\u001b[36m315\u001b[0m - \u001b[1mBest stats: {'epoch': 125, 'coco_eval_bbox': 0.6431629988852811}\u001b[0m\n"
     ]
    },
    {
     "name": "stdout",
     "output_type": "stream",
     "text": [
      "Test:  [4/5]  eta: 0:00:00    time: 0.2795  data: 0.1423  max mem: 10532\n",
      "Test: Total time: 0:00:01 (0.2907 s / it)\n",
      "Averaged stats: \n",
      "Accumulating evaluation results...\n",
      "COCOeval_opt.accumulate() finished...\n",
      "DONE (t=0.03s).\n",
      "IoU metric: bbox\n",
      " Average Precision  (AP) @[ IoU=0.50:0.95 | area=   all | maxDets=100 ] = 0.639\n",
      " Average Precision  (AP) @[ IoU=0.50      | area=   all | maxDets=100 ] = 0.909\n",
      " Average Precision  (AP) @[ IoU=0.75      | area=   all | maxDets=100 ] = 0.728\n",
      " Average Precision  (AP) @[ IoU=0.50:0.95 | area= small | maxDets=100 ] = 0.456\n",
      " Average Precision  (AP) @[ IoU=0.50:0.95 | area=medium | maxDets=100 ] = 0.608\n",
      " Average Precision  (AP) @[ IoU=0.50:0.95 | area= large | maxDets=100 ] = 0.492\n",
      " Average Recall     (AR) @[ IoU=0.50:0.95 | area=   all | maxDets=  1 ] = 0.410\n",
      " Average Recall     (AR) @[ IoU=0.50:0.95 | area=   all | maxDets= 10 ] = 0.688\n",
      " Average Recall     (AR) @[ IoU=0.50:0.95 | area=   all | maxDets=100 ] = 0.785\n",
      " Average Recall     (AR) @[ IoU=0.50:0.95 | area= small | maxDets=100 ] = 0.660\n",
      " Average Recall     (AR) @[ IoU=0.50:0.95 | area=medium | maxDets=100 ] = 0.747\n",
      " Average Recall     (AR) @[ IoU=0.50:0.95 | area= large | maxDets=100 ] = 0.797\n",
      " Average Recall     (AR) @[ IoU=0.50      | area=   all | maxDets=100 ] = 1.000\n",
      " Average Recall     (AR) @[ IoU=0.75      | area=   all | maxDets=100 ] = 0.934\n",
      "Epoch: [127]  [ 0/15]  eta: 0:00:18  lr: 0.000100  loss: 18.7797 (18.7797)  loss_mal: 0.6987 (0.6987)  loss_bbox: 0.1330 (0.1330)  loss_giou: 0.2532 (0.2532)  loss_fgl: 1.1021 (1.1021)  loss_mal_aux_0: 0.7266 (0.7266)  loss_bbox_aux_0: 0.1443 (0.1443)  loss_giou_aux_0: 0.2772 (0.2772)  loss_fgl_aux_0: 1.1332 (1.1332)  loss_ddf_aux_0: 0.1215 (0.1215)  loss_mal_aux_1: 0.7065 (0.7065)  loss_bbox_aux_1: 0.1340 (0.1340)  loss_giou_aux_1: 0.2575 (0.2575)  loss_fgl_aux_1: 1.1053 (1.1053)  loss_ddf_aux_1: 0.0131 (0.0131)  loss_mal_pre: 0.7271 (0.7271)  loss_bbox_pre: 0.1436 (0.1436)  loss_giou_pre: 0.2769 (0.2769)  loss_mal_enc_0: 0.8198 (0.8198)  loss_bbox_enc_0: 0.1685 (0.1685)  loss_giou_enc_0: 0.3408 (0.3408)  loss_mal_dn_0: 0.7236 (0.7236)  loss_bbox_dn_0: 0.2281 (0.2281)  loss_giou_dn_0: 0.4284 (0.4284)  loss_fgl_dn_0: 1.2553 (1.2553)  loss_ddf_dn_0: 0.8790 (0.8790)  loss_mal_dn_1: 0.6841 (0.6841)  loss_bbox_dn_1: 0.1704 (0.1704)  loss_giou_dn_1: 0.3192 (0.3192)  loss_fgl_dn_1: 1.1209 (1.1209)  loss_ddf_dn_1: 0.0431 (0.0431)  loss_mal_dn_2: 0.6675 (0.6675)  loss_bbox_dn_2: 0.1670 (0.1670)  loss_giou_dn_2: 0.3104 (0.3104)  loss_fgl_dn_2: 1.1140 (1.1140)  loss_mal_dn_pre: 0.7231 (0.7231)  loss_bbox_dn_pre: 0.2293 (0.2293)  loss_giou_dn_pre: 0.4331 (0.4331)  time: 1.2398  data: 0.7690  max mem: 10532\n"
     ]
    },
    {
     "name": "stderr",
     "output_type": "stream",
     "text": [
      "\u001b[32m2025-03-10 16:37:00.557\u001b[0m | \u001b[1mINFO    \u001b[0m | \u001b[36mdeimkit.trainer\u001b[0m:\u001b[36m_save_checkpoint\u001b[0m:\u001b[36m363\u001b[0m - \u001b[1mSaving checkpoint to outputs/deim_hgnetv2_s_coco_ema_tune/checkpoint0127.pth\u001b[0m\n"
     ]
    },
    {
     "name": "stdout",
     "output_type": "stream",
     "text": [
      "Epoch: [127]  [14/15]  eta: 0:00:00  lr: 0.000100  loss: 18.7158 (18.5526)  loss_mal: 0.6904 (0.6946)  loss_bbox: 0.1330 (0.1342)  loss_giou: 0.2475 (0.2513)  loss_fgl: 1.0872 (1.0891)  loss_mal_aux_0: 0.7266 (0.7332)  loss_bbox_aux_0: 0.1456 (0.1469)  loss_giou_aux_0: 0.2758 (0.2735)  loss_fgl_aux_0: 1.1267 (1.1267)  loss_ddf_aux_0: 0.1215 (0.1234)  loss_mal_aux_1: 0.7036 (0.7092)  loss_bbox_aux_1: 0.1340 (0.1357)  loss_giou_aux_1: 0.2473 (0.2533)  loss_fgl_aux_1: 1.0898 (1.0938)  loss_ddf_aux_1: 0.0117 (0.0120)  loss_mal_pre: 0.7271 (0.7318)  loss_bbox_pre: 0.1461 (0.1465)  loss_giou_pre: 0.2729 (0.2728)  loss_mal_enc_0: 0.7725 (0.7893)  loss_bbox_enc_0: 0.1670 (0.1661)  loss_giou_enc_0: 0.3223 (0.3194)  loss_mal_dn_0: 0.7290 (0.7286)  loss_bbox_dn_0: 0.2403 (0.2371)  loss_giou_dn_0: 0.4284 (0.4350)  loss_fgl_dn_0: 1.2099 (1.2140)  loss_ddf_dn_0: 0.7765 (0.7910)  loss_mal_dn_1: 0.6836 (0.6844)  loss_bbox_dn_1: 0.1750 (0.1746)  loss_giou_dn_1: 0.3202 (0.3228)  loss_fgl_dn_1: 1.0833 (1.0855)  loss_ddf_dn_1: 0.0325 (0.0331)  loss_mal_dn_2: 0.6724 (0.6770)  loss_bbox_dn_2: 0.1707 (0.1702)  loss_giou_dn_2: 0.3137 (0.3159)  loss_fgl_dn_2: 1.0769 (1.0789)  loss_mal_dn_pre: 0.7280 (0.7286)  loss_bbox_dn_pre: 0.2386 (0.2369)  loss_giou_dn_pre: 0.4331 (0.4360)  time: 0.4286  data: 0.0658  max mem: 10532\n",
      "Epoch: [127] Total time: 0:00:06 (0.4325 s / it)\n",
      "Averaged stats: lr: 0.000100  loss: 18.7158 (18.5526)  loss_mal: 0.6904 (0.6946)  loss_bbox: 0.1330 (0.1342)  loss_giou: 0.2475 (0.2513)  loss_fgl: 1.0872 (1.0891)  loss_mal_aux_0: 0.7266 (0.7332)  loss_bbox_aux_0: 0.1456 (0.1469)  loss_giou_aux_0: 0.2758 (0.2735)  loss_fgl_aux_0: 1.1267 (1.1267)  loss_ddf_aux_0: 0.1215 (0.1234)  loss_mal_aux_1: 0.7036 (0.7092)  loss_bbox_aux_1: 0.1340 (0.1357)  loss_giou_aux_1: 0.2473 (0.2533)  loss_fgl_aux_1: 1.0898 (1.0938)  loss_ddf_aux_1: 0.0117 (0.0120)  loss_mal_pre: 0.7271 (0.7318)  loss_bbox_pre: 0.1461 (0.1465)  loss_giou_pre: 0.2729 (0.2728)  loss_mal_enc_0: 0.7725 (0.7893)  loss_bbox_enc_0: 0.1670 (0.1661)  loss_giou_enc_0: 0.3223 (0.3194)  loss_mal_dn_0: 0.7290 (0.7286)  loss_bbox_dn_0: 0.2403 (0.2371)  loss_giou_dn_0: 0.4284 (0.4350)  loss_fgl_dn_0: 1.2099 (1.2140)  loss_ddf_dn_0: 0.7765 (0.7910)  loss_mal_dn_1: 0.6836 (0.6844)  loss_bbox_dn_1: 0.1750 (0.1746)  loss_giou_dn_1: 0.3202 (0.3228)  loss_fgl_dn_1: 1.0833 (1.0855)  loss_ddf_dn_1: 0.0325 (0.0331)  loss_mal_dn_2: 0.6724 (0.6770)  loss_bbox_dn_2: 0.1707 (0.1702)  loss_giou_dn_2: 0.3137 (0.3159)  loss_fgl_dn_2: 1.0769 (1.0789)  loss_mal_dn_pre: 0.7280 (0.7286)  loss_bbox_dn_pre: 0.2386 (0.2369)  loss_giou_dn_pre: 0.4331 (0.4360)\n"
     ]
    },
    {
     "name": "stderr",
     "output_type": "stream",
     "text": [
      "\u001b[32m2025-03-10 16:37:00.842\u001b[0m | \u001b[1mINFO    \u001b[0m | \u001b[36mdeimkit.trainer\u001b[0m:\u001b[36m_save_checkpoint\u001b[0m:\u001b[36m380\u001b[0m - \u001b[1mCheckpoint saved to outputs/deim_hgnetv2_s_coco_ema_tune/checkpoint0127.pth\u001b[0m\n",
      "\u001b[32m2025-03-10 16:37:00.843\u001b[0m | \u001b[1mINFO    \u001b[0m | \u001b[36mdeimkit.trainer\u001b[0m:\u001b[36mevaluate\u001b[0m:\u001b[36m331\u001b[0m - \u001b[1mEvaluating model...\u001b[0m\n"
     ]
    },
    {
     "name": "stdout",
     "output_type": "stream",
     "text": [
      "Test:  [0/5]  eta: 0:00:03    time: 0.7531  data: 0.6362  max mem: 10532\n"
     ]
    },
    {
     "name": "stderr",
     "output_type": "stream",
     "text": [
      "\u001b[32m2025-03-10 16:37:02.339\u001b[0m | \u001b[1mINFO    \u001b[0m | \u001b[36mdeimkit.trainer\u001b[0m:\u001b[36mtrain\u001b[0m:\u001b[36m312\u001b[0m - \u001b[1mEpoch 127 - Train loss: 18.5526, Eval mAP: 0.6381\u001b[0m\n",
      "\u001b[32m2025-03-10 16:37:02.339\u001b[0m | \u001b[1mINFO    \u001b[0m | \u001b[36mdeimkit.trainer\u001b[0m:\u001b[36mtrain\u001b[0m:\u001b[36m315\u001b[0m - \u001b[1mBest stats: {'epoch': 125, 'coco_eval_bbox': 0.6431629988852811}\u001b[0m\n"
     ]
    },
    {
     "name": "stdout",
     "output_type": "stream",
     "text": [
      "Test:  [4/5]  eta: 0:00:00    time: 0.2790  data: 0.1429  max mem: 10532\n",
      "Test: Total time: 0:00:01 (0.2928 s / it)\n",
      "Averaged stats: \n",
      "Accumulating evaluation results...\n",
      "COCOeval_opt.accumulate() finished...\n",
      "DONE (t=0.02s).\n",
      "IoU metric: bbox\n",
      " Average Precision  (AP) @[ IoU=0.50:0.95 | area=   all | maxDets=100 ] = 0.638\n",
      " Average Precision  (AP) @[ IoU=0.50      | area=   all | maxDets=100 ] = 0.904\n",
      " Average Precision  (AP) @[ IoU=0.75      | area=   all | maxDets=100 ] = 0.758\n",
      " Average Precision  (AP) @[ IoU=0.50:0.95 | area= small | maxDets=100 ] = 0.443\n",
      " Average Precision  (AP) @[ IoU=0.50:0.95 | area=medium | maxDets=100 ] = 0.609\n",
      " Average Precision  (AP) @[ IoU=0.50:0.95 | area= large | maxDets=100 ] = 0.488\n",
      " Average Recall     (AR) @[ IoU=0.50:0.95 | area=   all | maxDets=  1 ] = 0.411\n",
      " Average Recall     (AR) @[ IoU=0.50:0.95 | area=   all | maxDets= 10 ] = 0.689\n",
      " Average Recall     (AR) @[ IoU=0.50:0.95 | area=   all | maxDets=100 ] = 0.786\n",
      " Average Recall     (AR) @[ IoU=0.50:0.95 | area= small | maxDets=100 ] = 0.660\n",
      " Average Recall     (AR) @[ IoU=0.50:0.95 | area=medium | maxDets=100 ] = 0.780\n",
      " Average Recall     (AR) @[ IoU=0.50:0.95 | area= large | maxDets=100 ] = 0.797\n",
      " Average Recall     (AR) @[ IoU=0.50      | area=   all | maxDets=100 ] = 1.000\n",
      " Average Recall     (AR) @[ IoU=0.75      | area=   all | maxDets=100 ] = 0.941\n",
      "Epoch: [128]  [ 0/15]  eta: 0:00:18  lr: 0.000100  loss: 18.5853 (18.5853)  loss_mal: 0.6665 (0.6665)  loss_bbox: 0.1323 (0.1323)  loss_giou: 0.2605 (0.2605)  loss_fgl: 1.0956 (1.0956)  loss_mal_aux_0: 0.6997 (0.6997)  loss_bbox_aux_0: 0.1441 (0.1441)  loss_giou_aux_0: 0.2852 (0.2852)  loss_fgl_aux_0: 1.1337 (1.1337)  loss_ddf_aux_0: 0.1290 (0.1290)  loss_mal_aux_1: 0.6704 (0.6704)  loss_bbox_aux_1: 0.1327 (0.1327)  loss_giou_aux_1: 0.2622 (0.2622)  loss_fgl_aux_1: 1.0985 (1.0985)  loss_ddf_aux_1: 0.0104 (0.0104)  loss_mal_pre: 0.6978 (0.6978)  loss_bbox_pre: 0.1439 (0.1439)  loss_giou_pre: 0.2865 (0.2865)  loss_mal_enc_0: 0.8188 (0.8188)  loss_bbox_enc_0: 0.1702 (0.1702)  loss_giou_enc_0: 0.3492 (0.3492)  loss_mal_dn_0: 0.7207 (0.7207)  loss_bbox_dn_0: 0.2378 (0.2378)  loss_giou_dn_0: 0.4507 (0.4507)  loss_fgl_dn_0: 1.2212 (1.2212)  loss_ddf_dn_0: 0.8039 (0.8039)  loss_mal_dn_1: 0.6753 (0.6753)  loss_bbox_dn_1: 0.1749 (0.1749)  loss_giou_dn_1: 0.3309 (0.3309)  loss_fgl_dn_1: 1.1025 (1.1025)  loss_ddf_dn_1: 0.0328 (0.0328)  loss_mal_dn_2: 0.6514 (0.6514)  loss_bbox_dn_2: 0.1711 (0.1711)  loss_giou_dn_2: 0.3225 (0.3225)  loss_fgl_dn_2: 1.0935 (1.0935)  loss_mal_dn_pre: 0.7202 (0.7202)  loss_bbox_dn_pre: 0.2377 (0.2377)  loss_giou_dn_pre: 0.4510 (0.4510)  time: 1.2103  data: 0.7055  max mem: 10532\n"
     ]
    },
    {
     "name": "stderr",
     "output_type": "stream",
     "text": [
      "\u001b[32m2025-03-10 16:37:08.822\u001b[0m | \u001b[1mINFO    \u001b[0m | \u001b[36mdeimkit.trainer\u001b[0m:\u001b[36mevaluate\u001b[0m:\u001b[36m331\u001b[0m - \u001b[1mEvaluating model...\u001b[0m\n"
     ]
    },
    {
     "name": "stdout",
     "output_type": "stream",
     "text": [
      "Epoch: [128]  [14/15]  eta: 0:00:00  lr: 0.000100  loss: 18.5189 (18.2870)  loss_mal: 0.6665 (0.6720)  loss_bbox: 0.1285 (0.1295)  loss_giou: 0.2410 (0.2436)  loss_fgl: 1.0798 (1.0809)  loss_mal_aux_0: 0.6968 (0.7067)  loss_bbox_aux_0: 0.1439 (0.1424)  loss_giou_aux_0: 0.2673 (0.2663)  loss_fgl_aux_0: 1.1189 (1.1203)  loss_ddf_aux_0: 0.1290 (0.1307)  loss_mal_aux_1: 0.6704 (0.6824)  loss_bbox_aux_1: 0.1322 (0.1303)  loss_giou_aux_1: 0.2441 (0.2450)  loss_fgl_aux_1: 1.0810 (1.0846)  loss_ddf_aux_1: 0.0105 (0.0107)  loss_mal_pre: 0.6958 (0.7053)  loss_bbox_pre: 0.1439 (0.1422)  loss_giou_pre: 0.2671 (0.2659)  loss_mal_enc_0: 0.7476 (0.7674)  loss_bbox_enc_0: 0.1638 (0.1623)  loss_giou_enc_0: 0.3145 (0.3111)  loss_mal_dn_0: 0.7207 (0.7243)  loss_bbox_dn_0: 0.2338 (0.2294)  loss_giou_dn_0: 0.4274 (0.4244)  loss_fgl_dn_0: 1.2091 (1.2097)  loss_ddf_dn_0: 0.8530 (0.8521)  loss_mal_dn_1: 0.6821 (0.6786)  loss_bbox_dn_1: 0.1691 (0.1666)  loss_giou_dn_1: 0.3168 (0.3096)  loss_fgl_dn_1: 1.0815 (1.0764)  loss_ddf_dn_1: 0.0328 (0.0322)  loss_mal_dn_2: 0.6719 (0.6693)  loss_bbox_dn_2: 0.1667 (0.1625)  loss_giou_dn_2: 0.3090 (0.3028)  loss_fgl_dn_2: 1.0737 (1.0695)  loss_mal_dn_pre: 0.7212 (0.7245)  loss_bbox_dn_pre: 0.2333 (0.2295)  loss_giou_dn_pre: 0.4303 (0.4260)  time: 0.4263  data: 0.0622  max mem: 10532\n",
      "Epoch: [128] Total time: 0:00:06 (0.4306 s / it)\n",
      "Averaged stats: lr: 0.000100  loss: 18.5189 (18.2870)  loss_mal: 0.6665 (0.6720)  loss_bbox: 0.1285 (0.1295)  loss_giou: 0.2410 (0.2436)  loss_fgl: 1.0798 (1.0809)  loss_mal_aux_0: 0.6968 (0.7067)  loss_bbox_aux_0: 0.1439 (0.1424)  loss_giou_aux_0: 0.2673 (0.2663)  loss_fgl_aux_0: 1.1189 (1.1203)  loss_ddf_aux_0: 0.1290 (0.1307)  loss_mal_aux_1: 0.6704 (0.6824)  loss_bbox_aux_1: 0.1322 (0.1303)  loss_giou_aux_1: 0.2441 (0.2450)  loss_fgl_aux_1: 1.0810 (1.0846)  loss_ddf_aux_1: 0.0105 (0.0107)  loss_mal_pre: 0.6958 (0.7053)  loss_bbox_pre: 0.1439 (0.1422)  loss_giou_pre: 0.2671 (0.2659)  loss_mal_enc_0: 0.7476 (0.7674)  loss_bbox_enc_0: 0.1638 (0.1623)  loss_giou_enc_0: 0.3145 (0.3111)  loss_mal_dn_0: 0.7207 (0.7243)  loss_bbox_dn_0: 0.2338 (0.2294)  loss_giou_dn_0: 0.4274 (0.4244)  loss_fgl_dn_0: 1.2091 (1.2097)  loss_ddf_dn_0: 0.8530 (0.8521)  loss_mal_dn_1: 0.6821 (0.6786)  loss_bbox_dn_1: 0.1691 (0.1666)  loss_giou_dn_1: 0.3168 (0.3096)  loss_fgl_dn_1: 1.0815 (1.0764)  loss_ddf_dn_1: 0.0328 (0.0322)  loss_mal_dn_2: 0.6719 (0.6693)  loss_bbox_dn_2: 0.1667 (0.1625)  loss_giou_dn_2: 0.3090 (0.3028)  loss_fgl_dn_2: 1.0737 (1.0695)  loss_mal_dn_pre: 0.7212 (0.7245)  loss_bbox_dn_pre: 0.2333 (0.2295)  loss_giou_dn_pre: 0.4303 (0.4260)\n",
      "Test:  [0/5]  eta: 0:00:04    time: 0.8002  data: 0.6783  max mem: 10532\n"
     ]
    },
    {
     "name": "stderr",
     "output_type": "stream",
     "text": [
      "\u001b[32m2025-03-10 16:37:10.389\u001b[0m | \u001b[1mINFO    \u001b[0m | \u001b[36mdeimkit.trainer\u001b[0m:\u001b[36mtrain\u001b[0m:\u001b[36m312\u001b[0m - \u001b[1mEpoch 128 - Train loss: 18.2870, Eval mAP: 0.6305\u001b[0m\n",
      "\u001b[32m2025-03-10 16:37:10.390\u001b[0m | \u001b[1mINFO    \u001b[0m | \u001b[36mdeimkit.trainer\u001b[0m:\u001b[36mtrain\u001b[0m:\u001b[36m315\u001b[0m - \u001b[1mBest stats: {'epoch': 125, 'coco_eval_bbox': 0.6431629988852811}\u001b[0m\n"
     ]
    },
    {
     "name": "stdout",
     "output_type": "stream",
     "text": [
      "Test:  [4/5]  eta: 0:00:00    time: 0.2931  data: 0.1499  max mem: 10532\n",
      "Test: Total time: 0:00:01 (0.3069 s / it)\n",
      "Averaged stats: \n",
      "Accumulating evaluation results...\n",
      "COCOeval_opt.accumulate() finished...\n",
      "DONE (t=0.02s).\n",
      "IoU metric: bbox\n",
      " Average Precision  (AP) @[ IoU=0.50:0.95 | area=   all | maxDets=100 ] = 0.631\n",
      " Average Precision  (AP) @[ IoU=0.50      | area=   all | maxDets=100 ] = 0.900\n",
      " Average Precision  (AP) @[ IoU=0.75      | area=   all | maxDets=100 ] = 0.738\n",
      " Average Precision  (AP) @[ IoU=0.50:0.95 | area= small | maxDets=100 ] = 0.406\n",
      " Average Precision  (AP) @[ IoU=0.50:0.95 | area=medium | maxDets=100 ] = 0.601\n",
      " Average Precision  (AP) @[ IoU=0.50:0.95 | area= large | maxDets=100 ] = 0.487\n",
      " Average Recall     (AR) @[ IoU=0.50:0.95 | area=   all | maxDets=  1 ] = 0.405\n",
      " Average Recall     (AR) @[ IoU=0.50:0.95 | area=   all | maxDets= 10 ] = 0.681\n",
      " Average Recall     (AR) @[ IoU=0.50:0.95 | area=   all | maxDets=100 ] = 0.771\n",
      " Average Recall     (AR) @[ IoU=0.50:0.95 | area= small | maxDets=100 ] = 0.640\n",
      " Average Recall     (AR) @[ IoU=0.50:0.95 | area=medium | maxDets=100 ] = 0.740\n",
      " Average Recall     (AR) @[ IoU=0.50:0.95 | area= large | maxDets=100 ] = 0.823\n",
      " Average Recall     (AR) @[ IoU=0.50      | area=   all | maxDets=100 ] = 1.000\n",
      " Average Recall     (AR) @[ IoU=0.75      | area=   all | maxDets=100 ] = 0.921\n",
      "Epoch: [129]  [ 0/15]  eta: 0:00:18  lr: 0.000100  loss: 17.8150 (17.8150)  loss_mal: 0.6514 (0.6514)  loss_bbox: 0.1161 (0.1161)  loss_giou: 0.2354 (0.2354)  loss_fgl: 1.0664 (1.0664)  loss_mal_aux_0: 0.6733 (0.6733)  loss_bbox_aux_0: 0.1288 (0.1288)  loss_giou_aux_0: 0.2610 (0.2610)  loss_fgl_aux_0: 1.1063 (1.1063)  loss_ddf_aux_0: 0.1212 (0.1212)  loss_mal_aux_1: 0.6538 (0.6538)  loss_bbox_aux_1: 0.1169 (0.1169)  loss_giou_aux_1: 0.2351 (0.2351)  loss_fgl_aux_1: 1.0703 (1.0703)  loss_ddf_aux_1: 0.0103 (0.0103)  loss_mal_pre: 0.6733 (0.6733)  loss_bbox_pre: 0.1291 (0.1291)  loss_giou_pre: 0.2621 (0.2621)  loss_mal_enc_0: 0.7754 (0.7754)  loss_bbox_enc_0: 0.1506 (0.1506)  loss_giou_enc_0: 0.3202 (0.3202)  loss_mal_dn_0: 0.7070 (0.7070)  loss_bbox_dn_0: 0.2108 (0.2108)  loss_giou_dn_0: 0.4035 (0.4035)  loss_fgl_dn_0: 1.1926 (1.1926)  loss_ddf_dn_0: 0.8824 (0.8824)  loss_mal_dn_1: 0.6665 (0.6665)  loss_bbox_dn_1: 0.1471 (0.1471)  loss_giou_dn_1: 0.2836 (0.2836)  loss_fgl_dn_1: 1.0636 (1.0636)  loss_ddf_dn_1: 0.0343 (0.0343)  loss_mal_dn_2: 0.6646 (0.6646)  loss_bbox_dn_2: 0.1421 (0.1421)  loss_giou_dn_2: 0.2752 (0.2752)  loss_fgl_dn_2: 1.0571 (1.0571)  loss_mal_dn_pre: 0.7075 (0.7075)  loss_bbox_dn_pre: 0.2120 (0.2120)  loss_giou_dn_pre: 0.4080 (0.4080)  time: 1.2456  data: 0.7203  max mem: 10532\n"
     ]
    },
    {
     "name": "stderr",
     "output_type": "stream",
     "text": [
      "\u001b[32m2025-03-10 16:37:16.993\u001b[0m | \u001b[1mINFO    \u001b[0m | \u001b[36mdeimkit.trainer\u001b[0m:\u001b[36mevaluate\u001b[0m:\u001b[36m331\u001b[0m - \u001b[1mEvaluating model...\u001b[0m\n"
     ]
    },
    {
     "name": "stdout",
     "output_type": "stream",
     "text": [
      "Epoch: [129]  [14/15]  eta: 0:00:00  lr: 0.000100  loss: 18.0303 (17.9472)  loss_mal: 0.6294 (0.6395)  loss_bbox: 0.1247 (0.1236)  loss_giou: 0.2354 (0.2322)  loss_fgl: 1.0664 (1.0631)  loss_mal_aux_0: 0.6733 (0.6840)  loss_bbox_aux_0: 0.1363 (0.1359)  loss_giou_aux_0: 0.2566 (0.2543)  loss_fgl_aux_0: 1.1040 (1.1013)  loss_ddf_aux_0: 0.1231 (0.1249)  loss_mal_aux_1: 0.6523 (0.6602)  loss_bbox_aux_1: 0.1256 (0.1244)  loss_giou_aux_1: 0.2351 (0.2335)  loss_fgl_aux_1: 1.0703 (1.0663)  loss_ddf_aux_1: 0.0091 (0.0091)  loss_mal_pre: 0.6733 (0.6830)  loss_bbox_pre: 0.1357 (0.1356)  loss_giou_pre: 0.2579 (0.2537)  loss_mal_enc_0: 0.7397 (0.7544)  loss_bbox_enc_0: 0.1552 (0.1568)  loss_giou_enc_0: 0.3020 (0.3012)  loss_mal_dn_0: 0.7251 (0.7257)  loss_bbox_dn_0: 0.2257 (0.2250)  loss_giou_dn_0: 0.4173 (0.4161)  loss_fgl_dn_0: 1.2038 (1.2047)  loss_ddf_dn_0: 0.8639 (0.8729)  loss_mal_dn_1: 0.6743 (0.6765)  loss_bbox_dn_1: 0.1628 (0.1609)  loss_giou_dn_1: 0.2970 (0.2987)  loss_fgl_dn_1: 1.0602 (1.0615)  loss_ddf_dn_1: 0.0306 (0.0311)  loss_mal_dn_2: 0.6650 (0.6674)  loss_bbox_dn_2: 0.1586 (0.1566)  loss_giou_dn_2: 0.2896 (0.2916)  loss_fgl_dn_2: 1.0571 (1.0543)  loss_mal_dn_pre: 0.7251 (0.7253)  loss_bbox_dn_pre: 0.2247 (0.2247)  loss_giou_dn_pre: 0.4169 (0.4172)  time: 0.4346  data: 0.0636  max mem: 10532\n",
      "Epoch: [129] Total time: 0:00:06 (0.4389 s / it)\n",
      "Averaged stats: lr: 0.000100  loss: 18.0303 (17.9472)  loss_mal: 0.6294 (0.6395)  loss_bbox: 0.1247 (0.1236)  loss_giou: 0.2354 (0.2322)  loss_fgl: 1.0664 (1.0631)  loss_mal_aux_0: 0.6733 (0.6840)  loss_bbox_aux_0: 0.1363 (0.1359)  loss_giou_aux_0: 0.2566 (0.2543)  loss_fgl_aux_0: 1.1040 (1.1013)  loss_ddf_aux_0: 0.1231 (0.1249)  loss_mal_aux_1: 0.6523 (0.6602)  loss_bbox_aux_1: 0.1256 (0.1244)  loss_giou_aux_1: 0.2351 (0.2335)  loss_fgl_aux_1: 1.0703 (1.0663)  loss_ddf_aux_1: 0.0091 (0.0091)  loss_mal_pre: 0.6733 (0.6830)  loss_bbox_pre: 0.1357 (0.1356)  loss_giou_pre: 0.2579 (0.2537)  loss_mal_enc_0: 0.7397 (0.7544)  loss_bbox_enc_0: 0.1552 (0.1568)  loss_giou_enc_0: 0.3020 (0.3012)  loss_mal_dn_0: 0.7251 (0.7257)  loss_bbox_dn_0: 0.2257 (0.2250)  loss_giou_dn_0: 0.4173 (0.4161)  loss_fgl_dn_0: 1.2038 (1.2047)  loss_ddf_dn_0: 0.8639 (0.8729)  loss_mal_dn_1: 0.6743 (0.6765)  loss_bbox_dn_1: 0.1628 (0.1609)  loss_giou_dn_1: 0.2970 (0.2987)  loss_fgl_dn_1: 1.0602 (1.0615)  loss_ddf_dn_1: 0.0306 (0.0311)  loss_mal_dn_2: 0.6650 (0.6674)  loss_bbox_dn_2: 0.1586 (0.1566)  loss_giou_dn_2: 0.2896 (0.2916)  loss_fgl_dn_2: 1.0571 (1.0543)  loss_mal_dn_pre: 0.7251 (0.7253)  loss_bbox_dn_pre: 0.2247 (0.2247)  loss_giou_dn_pre: 0.4169 (0.4172)\n",
      "Test:  [0/5]  eta: 0:00:03    time: 0.7398  data: 0.6176  max mem: 10532\n"
     ]
    },
    {
     "name": "stderr",
     "output_type": "stream",
     "text": [
      "\u001b[32m2025-03-10 16:37:18.456\u001b[0m | \u001b[1mINFO    \u001b[0m | \u001b[36mdeimkit.trainer\u001b[0m:\u001b[36mtrain\u001b[0m:\u001b[36m312\u001b[0m - \u001b[1mEpoch 129 - Train loss: 17.9472, Eval mAP: 0.6265\u001b[0m\n",
      "\u001b[32m2025-03-10 16:37:18.456\u001b[0m | \u001b[1mINFO    \u001b[0m | \u001b[36mdeimkit.trainer\u001b[0m:\u001b[36mtrain\u001b[0m:\u001b[36m315\u001b[0m - \u001b[1mBest stats: {'epoch': 125, 'coco_eval_bbox': 0.6431629988852811}\u001b[0m\n"
     ]
    },
    {
     "name": "stdout",
     "output_type": "stream",
     "text": [
      "Test:  [4/5]  eta: 0:00:00    time: 0.2749  data: 0.1388  max mem: 10532\n",
      "Test: Total time: 0:00:01 (0.2859 s / it)\n",
      "Averaged stats: \n",
      "Accumulating evaluation results...\n",
      "COCOeval_opt.accumulate() finished...\n",
      "DONE (t=0.02s).\n",
      "IoU metric: bbox\n",
      " Average Precision  (AP) @[ IoU=0.50:0.95 | area=   all | maxDets=100 ] = 0.626\n",
      " Average Precision  (AP) @[ IoU=0.50      | area=   all | maxDets=100 ] = 0.894\n",
      " Average Precision  (AP) @[ IoU=0.75      | area=   all | maxDets=100 ] = 0.738\n",
      " Average Precision  (AP) @[ IoU=0.50:0.95 | area= small | maxDets=100 ] = 0.451\n",
      " Average Precision  (AP) @[ IoU=0.50:0.95 | area=medium | maxDets=100 ] = 0.563\n",
      " Average Precision  (AP) @[ IoU=0.50:0.95 | area= large | maxDets=100 ] = 0.484\n",
      " Average Recall     (AR) @[ IoU=0.50:0.95 | area=   all | maxDets=  1 ] = 0.410\n",
      " Average Recall     (AR) @[ IoU=0.50:0.95 | area=   all | maxDets= 10 ] = 0.684\n",
      " Average Recall     (AR) @[ IoU=0.50:0.95 | area=   all | maxDets=100 ] = 0.781\n",
      " Average Recall     (AR) @[ IoU=0.50:0.95 | area= small | maxDets=100 ] = 0.660\n",
      " Average Recall     (AR) @[ IoU=0.50:0.95 | area=medium | maxDets=100 ] = 0.776\n",
      " Average Recall     (AR) @[ IoU=0.50:0.95 | area= large | maxDets=100 ] = 0.794\n",
      " Average Recall     (AR) @[ IoU=0.50      | area=   all | maxDets=100 ] = 1.000\n",
      " Average Recall     (AR) @[ IoU=0.75      | area=   all | maxDets=100 ] = 0.933\n",
      "Epoch: [130]  [ 0/15]  eta: 0:00:18  lr: 0.000100  loss: 17.6940 (17.6940)  loss_mal: 0.6475 (0.6475)  loss_bbox: 0.1155 (0.1155)  loss_giou: 0.2238 (0.2238)  loss_fgl: 1.0571 (1.0571)  loss_mal_aux_0: 0.6680 (0.6680)  loss_bbox_aux_0: 0.1305 (0.1305)  loss_giou_aux_0: 0.2538 (0.2538)  loss_fgl_aux_0: 1.0988 (1.0988)  loss_ddf_aux_0: 0.1153 (0.1153)  loss_mal_aux_1: 0.6494 (0.6494)  loss_bbox_aux_1: 0.1160 (0.1160)  loss_giou_aux_1: 0.2243 (0.2243)  loss_fgl_aux_1: 1.0597 (1.0597)  loss_ddf_aux_1: 0.0090 (0.0090)  loss_mal_pre: 0.6675 (0.6675)  loss_bbox_pre: 0.1303 (0.1303)  loss_giou_pre: 0.2556 (0.2556)  loss_mal_enc_0: 0.7607 (0.7607)  loss_bbox_enc_0: 0.1550 (0.1550)  loss_giou_enc_0: 0.3169 (0.3169)  loss_mal_dn_0: 0.7119 (0.7119)  loss_bbox_dn_0: 0.2154 (0.2154)  loss_giou_dn_0: 0.4022 (0.4022)  loss_fgl_dn_0: 1.1991 (1.1991)  loss_ddf_dn_0: 0.9280 (0.9280)  loss_mal_dn_1: 0.6489 (0.6489)  loss_bbox_dn_1: 0.1461 (0.1461)  loss_giou_dn_1: 0.2732 (0.2732)  loss_fgl_dn_1: 1.0488 (1.0488)  loss_ddf_dn_1: 0.0291 (0.0291)  loss_mal_dn_2: 0.6523 (0.6523)  loss_bbox_dn_2: 0.1409 (0.1409)  loss_giou_dn_2: 0.2663 (0.2663)  loss_fgl_dn_2: 1.0443 (1.0443)  loss_mal_dn_pre: 0.7114 (0.7114)  loss_bbox_dn_pre: 0.2168 (0.2168)  loss_giou_dn_pre: 0.4048 (0.4048)  time: 1.2547  data: 0.7774  max mem: 10532\n"
     ]
    },
    {
     "name": "stderr",
     "output_type": "stream",
     "text": [
      "\u001b[32m2025-03-10 16:37:25.040\u001b[0m | \u001b[1mINFO    \u001b[0m | \u001b[36mdeimkit.trainer\u001b[0m:\u001b[36mevaluate\u001b[0m:\u001b[36m331\u001b[0m - \u001b[1mEvaluating model...\u001b[0m\n"
     ]
    },
    {
     "name": "stdout",
     "output_type": "stream",
     "text": [
      "Epoch: [130]  [14/15]  eta: 0:00:00  lr: 0.000100  loss: 17.4510 (17.4954)  loss_mal: 0.6050 (0.6070)  loss_bbox: 0.1169 (0.1155)  loss_giou: 0.2192 (0.2179)  loss_fgl: 1.0468 (1.0415)  loss_mal_aux_0: 0.6387 (0.6559)  loss_bbox_aux_0: 0.1296 (0.1284)  loss_giou_aux_0: 0.2366 (0.2404)  loss_fgl_aux_0: 1.0881 (1.0843)  loss_ddf_aux_0: 0.1295 (0.1296)  loss_mal_aux_1: 0.6172 (0.6285)  loss_bbox_aux_1: 0.1172 (0.1165)  loss_giou_aux_1: 0.2218 (0.2195)  loss_fgl_aux_1: 1.0513 (1.0448)  loss_ddf_aux_1: 0.0087 (0.0087)  loss_mal_pre: 0.6426 (0.6551)  loss_bbox_pre: 0.1290 (0.1281)  loss_giou_pre: 0.2358 (0.2401)  loss_mal_enc_0: 0.7085 (0.7235)  loss_bbox_enc_0: 0.1499 (0.1511)  loss_giou_enc_0: 0.2912 (0.2913)  loss_mal_dn_0: 0.7119 (0.7146)  loss_bbox_dn_0: 0.2154 (0.2155)  loss_giou_dn_0: 0.4012 (0.4022)  loss_fgl_dn_0: 1.1995 (1.2022)  loss_ddf_dn_0: 0.9074 (0.9283)  loss_mal_dn_1: 0.6558 (0.6577)  loss_bbox_dn_1: 0.1538 (0.1512)  loss_giou_dn_1: 0.2751 (0.2824)  loss_fgl_dn_1: 1.0467 (1.0440)  loss_ddf_dn_1: 0.0272 (0.0281)  loss_mal_dn_2: 0.6519 (0.6496)  loss_bbox_dn_2: 0.1484 (0.1464)  loss_giou_dn_2: 0.2675 (0.2751)  loss_fgl_dn_2: 1.0416 (1.0366)  loss_mal_dn_pre: 0.7114 (0.7146)  loss_bbox_dn_pre: 0.2168 (0.2156)  loss_giou_dn_pre: 0.4000 (0.4036)  time: 0.4335  data: 0.0669  max mem: 10532\n",
      "Epoch: [130] Total time: 0:00:06 (0.4375 s / it)\n",
      "Averaged stats: lr: 0.000100  loss: 17.4510 (17.4954)  loss_mal: 0.6050 (0.6070)  loss_bbox: 0.1169 (0.1155)  loss_giou: 0.2192 (0.2179)  loss_fgl: 1.0468 (1.0415)  loss_mal_aux_0: 0.6387 (0.6559)  loss_bbox_aux_0: 0.1296 (0.1284)  loss_giou_aux_0: 0.2366 (0.2404)  loss_fgl_aux_0: 1.0881 (1.0843)  loss_ddf_aux_0: 0.1295 (0.1296)  loss_mal_aux_1: 0.6172 (0.6285)  loss_bbox_aux_1: 0.1172 (0.1165)  loss_giou_aux_1: 0.2218 (0.2195)  loss_fgl_aux_1: 1.0513 (1.0448)  loss_ddf_aux_1: 0.0087 (0.0087)  loss_mal_pre: 0.6426 (0.6551)  loss_bbox_pre: 0.1290 (0.1281)  loss_giou_pre: 0.2358 (0.2401)  loss_mal_enc_0: 0.7085 (0.7235)  loss_bbox_enc_0: 0.1499 (0.1511)  loss_giou_enc_0: 0.2912 (0.2913)  loss_mal_dn_0: 0.7119 (0.7146)  loss_bbox_dn_0: 0.2154 (0.2155)  loss_giou_dn_0: 0.4012 (0.4022)  loss_fgl_dn_0: 1.1995 (1.2022)  loss_ddf_dn_0: 0.9074 (0.9283)  loss_mal_dn_1: 0.6558 (0.6577)  loss_bbox_dn_1: 0.1538 (0.1512)  loss_giou_dn_1: 0.2751 (0.2824)  loss_fgl_dn_1: 1.0467 (1.0440)  loss_ddf_dn_1: 0.0272 (0.0281)  loss_mal_dn_2: 0.6519 (0.6496)  loss_bbox_dn_2: 0.1484 (0.1464)  loss_giou_dn_2: 0.2675 (0.2751)  loss_fgl_dn_2: 1.0416 (1.0366)  loss_mal_dn_pre: 0.7114 (0.7146)  loss_bbox_dn_pre: 0.2168 (0.2156)  loss_giou_dn_pre: 0.4000 (0.4036)\n",
      "Test:  [0/5]  eta: 0:00:03    time: 0.7475  data: 0.6332  max mem: 10532\n"
     ]
    },
    {
     "name": "stderr",
     "output_type": "stream",
     "text": [
      "\u001b[32m2025-03-10 16:37:26.502\u001b[0m | \u001b[1mINFO    \u001b[0m | \u001b[36mdeimkit.trainer\u001b[0m:\u001b[36mtrain\u001b[0m:\u001b[36m312\u001b[0m - \u001b[1mEpoch 130 - Train loss: 17.4954, Eval mAP: 0.6267\u001b[0m\n",
      "\u001b[32m2025-03-10 16:37:26.503\u001b[0m | \u001b[1mINFO    \u001b[0m | \u001b[36mdeimkit.trainer\u001b[0m:\u001b[36mtrain\u001b[0m:\u001b[36m315\u001b[0m - \u001b[1mBest stats: {'epoch': 125, 'coco_eval_bbox': 0.6431629988852811}\u001b[0m\n"
     ]
    },
    {
     "name": "stdout",
     "output_type": "stream",
     "text": [
      "Test:  [4/5]  eta: 0:00:00    time: 0.2735  data: 0.1388  max mem: 10532\n",
      "Test: Total time: 0:00:01 (0.2859 s / it)\n",
      "Averaged stats: \n",
      "Accumulating evaluation results...\n",
      "COCOeval_opt.accumulate() finished...\n",
      "DONE (t=0.02s).\n",
      "IoU metric: bbox\n",
      " Average Precision  (AP) @[ IoU=0.50:0.95 | area=   all | maxDets=100 ] = 0.627\n",
      " Average Precision  (AP) @[ IoU=0.50      | area=   all | maxDets=100 ] = 0.897\n",
      " Average Precision  (AP) @[ IoU=0.75      | area=   all | maxDets=100 ] = 0.727\n",
      " Average Precision  (AP) @[ IoU=0.50:0.95 | area= small | maxDets=100 ] = 0.368\n",
      " Average Precision  (AP) @[ IoU=0.50:0.95 | area=medium | maxDets=100 ] = 0.599\n",
      " Average Precision  (AP) @[ IoU=0.50:0.95 | area= large | maxDets=100 ] = 0.485\n",
      " Average Recall     (AR) @[ IoU=0.50:0.95 | area=   all | maxDets=  1 ] = 0.407\n",
      " Average Recall     (AR) @[ IoU=0.50:0.95 | area=   all | maxDets= 10 ] = 0.678\n",
      " Average Recall     (AR) @[ IoU=0.50:0.95 | area=   all | maxDets=100 ] = 0.777\n",
      " Average Recall     (AR) @[ IoU=0.50:0.95 | area= small | maxDets=100 ] = 0.660\n",
      " Average Recall     (AR) @[ IoU=0.50:0.95 | area=medium | maxDets=100 ] = 0.773\n",
      " Average Recall     (AR) @[ IoU=0.50:0.95 | area= large | maxDets=100 ] = 0.793\n",
      " Average Recall     (AR) @[ IoU=0.50      | area=   all | maxDets=100 ] = 1.000\n",
      " Average Recall     (AR) @[ IoU=0.75      | area=   all | maxDets=100 ] = 0.941\n",
      "Epoch: [131]  [ 0/15]  eta: 0:00:17  lr: 0.000100  loss: 18.2141 (18.2141)  loss_mal: 0.6416 (0.6416)  loss_bbox: 0.1210 (0.1210)  loss_giou: 0.2379 (0.2379)  loss_fgl: 1.0881 (1.0881)  loss_mal_aux_0: 0.6851 (0.6851)  loss_bbox_aux_0: 0.1340 (0.1340)  loss_giou_aux_0: 0.2632 (0.2632)  loss_fgl_aux_0: 1.1345 (1.1345)  loss_ddf_aux_0: 0.1398 (0.1398)  loss_mal_aux_1: 0.6514 (0.6514)  loss_bbox_aux_1: 0.1201 (0.1201)  loss_giou_aux_1: 0.2376 (0.2376)  loss_fgl_aux_1: 1.0873 (1.0873)  loss_ddf_aux_1: 0.0086 (0.0086)  loss_mal_pre: 0.6831 (0.6831)  loss_bbox_pre: 0.1330 (0.1330)  loss_giou_pre: 0.2631 (0.2631)  loss_mal_enc_0: 0.7769 (0.7769)  loss_bbox_enc_0: 0.1629 (0.1629)  loss_giou_enc_0: 0.3294 (0.3294)  loss_mal_dn_0: 0.7148 (0.7148)  loss_bbox_dn_0: 0.2212 (0.2212)  loss_giou_dn_0: 0.4177 (0.4177)  loss_fgl_dn_0: 1.2301 (1.2301)  loss_ddf_dn_0: 0.9527 (0.9527)  loss_mal_dn_1: 0.6646 (0.6646)  loss_bbox_dn_1: 0.1597 (0.1597)  loss_giou_dn_1: 0.3040 (0.3040)  loss_fgl_dn_1: 1.0797 (1.0797)  loss_ddf_dn_1: 0.0303 (0.0303)  loss_mal_dn_2: 0.6655 (0.6655)  loss_bbox_dn_2: 0.1544 (0.1544)  loss_giou_dn_2: 0.2963 (0.2963)  loss_fgl_dn_2: 1.0705 (1.0705)  loss_mal_dn_pre: 0.7134 (0.7134)  loss_bbox_dn_pre: 0.2207 (0.2207)  loss_giou_dn_pre: 0.4200 (0.4200)  time: 1.1414  data: 0.6692  max mem: 10532\n"
     ]
    },
    {
     "name": "stderr",
     "output_type": "stream",
     "text": [
      "\u001b[32m2025-03-10 16:37:32.995\u001b[0m | \u001b[1mINFO    \u001b[0m | \u001b[36mdeimkit.trainer\u001b[0m:\u001b[36m_save_checkpoint\u001b[0m:\u001b[36m363\u001b[0m - \u001b[1mSaving checkpoint to outputs/deim_hgnetv2_s_coco_ema_tune/checkpoint0131.pth\u001b[0m\n"
     ]
    },
    {
     "name": "stdout",
     "output_type": "stream",
     "text": [
      "Epoch: [131]  [14/15]  eta: 0:00:00  lr: 0.000100  loss: 17.5167 (17.4268)  loss_mal: 0.6089 (0.6041)  loss_bbox: 0.1099 (0.1123)  loss_giou: 0.2094 (0.2136)  loss_fgl: 1.0291 (1.0318)  loss_mal_aux_0: 0.6353 (0.6437)  loss_bbox_aux_0: 0.1256 (0.1258)  loss_giou_aux_0: 0.2313 (0.2366)  loss_fgl_aux_0: 1.0727 (1.0760)  loss_ddf_aux_0: 0.1372 (0.1397)  loss_mal_aux_1: 0.5986 (0.6105)  loss_bbox_aux_1: 0.1118 (0.1133)  loss_giou_aux_1: 0.2107 (0.2151)  loss_fgl_aux_1: 1.0326 (1.0344)  loss_ddf_aux_1: 0.0086 (0.0087)  loss_mal_pre: 0.6338 (0.6429)  loss_bbox_pre: 0.1250 (0.1255)  loss_giou_pre: 0.2299 (0.2361)  loss_mal_enc_0: 0.7051 (0.7115)  loss_bbox_enc_0: 0.1465 (0.1484)  loss_giou_enc_0: 0.2821 (0.2863)  loss_mal_dn_0: 0.7148 (0.7145)  loss_bbox_dn_0: 0.2148 (0.2165)  loss_giou_dn_0: 0.4057 (0.4031)  loss_fgl_dn_0: 1.2067 (1.2024)  loss_ddf_dn_0: 0.9712 (0.9870)  loss_mal_dn_1: 0.6519 (0.6559)  loss_bbox_dn_1: 0.1492 (0.1504)  loss_giou_dn_1: 0.2764 (0.2816)  loss_fgl_dn_1: 1.0326 (1.0366)  loss_ddf_dn_1: 0.0295 (0.0290)  loss_mal_dn_2: 0.6509 (0.6504)  loss_bbox_dn_2: 0.1446 (0.1456)  loss_giou_dn_2: 0.2690 (0.2745)  loss_fgl_dn_2: 1.0277 (1.0284)  loss_mal_dn_pre: 0.7134 (0.7146)  loss_bbox_dn_pre: 0.2138 (0.2158)  loss_giou_dn_pre: 0.4068 (0.4042)  time: 0.4272  data: 0.0604  max mem: 10532\n",
      "Epoch: [131] Total time: 0:00:06 (0.4314 s / it)\n",
      "Averaged stats: lr: 0.000100  loss: 17.5167 (17.4268)  loss_mal: 0.6089 (0.6041)  loss_bbox: 0.1099 (0.1123)  loss_giou: 0.2094 (0.2136)  loss_fgl: 1.0291 (1.0318)  loss_mal_aux_0: 0.6353 (0.6437)  loss_bbox_aux_0: 0.1256 (0.1258)  loss_giou_aux_0: 0.2313 (0.2366)  loss_fgl_aux_0: 1.0727 (1.0760)  loss_ddf_aux_0: 0.1372 (0.1397)  loss_mal_aux_1: 0.5986 (0.6105)  loss_bbox_aux_1: 0.1118 (0.1133)  loss_giou_aux_1: 0.2107 (0.2151)  loss_fgl_aux_1: 1.0326 (1.0344)  loss_ddf_aux_1: 0.0086 (0.0087)  loss_mal_pre: 0.6338 (0.6429)  loss_bbox_pre: 0.1250 (0.1255)  loss_giou_pre: 0.2299 (0.2361)  loss_mal_enc_0: 0.7051 (0.7115)  loss_bbox_enc_0: 0.1465 (0.1484)  loss_giou_enc_0: 0.2821 (0.2863)  loss_mal_dn_0: 0.7148 (0.7145)  loss_bbox_dn_0: 0.2148 (0.2165)  loss_giou_dn_0: 0.4057 (0.4031)  loss_fgl_dn_0: 1.2067 (1.2024)  loss_ddf_dn_0: 0.9712 (0.9870)  loss_mal_dn_1: 0.6519 (0.6559)  loss_bbox_dn_1: 0.1492 (0.1504)  loss_giou_dn_1: 0.2764 (0.2816)  loss_fgl_dn_1: 1.0326 (1.0366)  loss_ddf_dn_1: 0.0295 (0.0290)  loss_mal_dn_2: 0.6509 (0.6504)  loss_bbox_dn_2: 0.1446 (0.1456)  loss_giou_dn_2: 0.2690 (0.2745)  loss_fgl_dn_2: 1.0277 (1.0284)  loss_mal_dn_pre: 0.7134 (0.7146)  loss_bbox_dn_pre: 0.2138 (0.2158)  loss_giou_dn_pre: 0.4068 (0.4042)\n"
     ]
    },
    {
     "name": "stderr",
     "output_type": "stream",
     "text": [
      "\u001b[32m2025-03-10 16:37:33.253\u001b[0m | \u001b[1mINFO    \u001b[0m | \u001b[36mdeimkit.trainer\u001b[0m:\u001b[36m_save_checkpoint\u001b[0m:\u001b[36m380\u001b[0m - \u001b[1mCheckpoint saved to outputs/deim_hgnetv2_s_coco_ema_tune/checkpoint0131.pth\u001b[0m\n",
      "\u001b[32m2025-03-10 16:37:33.254\u001b[0m | \u001b[1mINFO    \u001b[0m | \u001b[36mdeimkit.trainer\u001b[0m:\u001b[36mevaluate\u001b[0m:\u001b[36m331\u001b[0m - \u001b[1mEvaluating model...\u001b[0m\n"
     ]
    },
    {
     "name": "stdout",
     "output_type": "stream",
     "text": [
      "Test:  [0/5]  eta: 0:00:03    time: 0.7794  data: 0.6669  max mem: 10532\n"
     ]
    },
    {
     "name": "stderr",
     "output_type": "stream",
     "text": [
      "\u001b[32m2025-03-10 16:37:34.821\u001b[0m | \u001b[1mINFO    \u001b[0m | \u001b[36mdeimkit.trainer\u001b[0m:\u001b[36mtrain\u001b[0m:\u001b[36m312\u001b[0m - \u001b[1mEpoch 131 - Train loss: 17.4268, Eval mAP: 0.6165\u001b[0m\n",
      "\u001b[32m2025-03-10 16:37:34.822\u001b[0m | \u001b[1mINFO    \u001b[0m | \u001b[36mdeimkit.trainer\u001b[0m:\u001b[36mtrain\u001b[0m:\u001b[36m315\u001b[0m - \u001b[1mBest stats: {'epoch': 125, 'coco_eval_bbox': 0.6431629988852811}\u001b[0m\n",
      "\u001b[32m2025-03-10 16:37:34.823\u001b[0m | \u001b[1mINFO    \u001b[0m | \u001b[36mdeimkit.trainer\u001b[0m:\u001b[36mtrain\u001b[0m:\u001b[36m320\u001b[0m - \u001b[1mTraining completed in 0:20:56\u001b[0m\n"
     ]
    },
    {
     "name": "stdout",
     "output_type": "stream",
     "text": [
      "Test:  [4/5]  eta: 0:00:00    time: 0.2907  data: 0.1476  max mem: 10532\n",
      "Test: Total time: 0:00:01 (0.3063 s / it)\n",
      "Averaged stats: \n",
      "Accumulating evaluation results...\n",
      "COCOeval_opt.accumulate() finished...\n",
      "DONE (t=0.02s).\n",
      "IoU metric: bbox\n",
      " Average Precision  (AP) @[ IoU=0.50:0.95 | area=   all | maxDets=100 ] = 0.617\n",
      " Average Precision  (AP) @[ IoU=0.50      | area=   all | maxDets=100 ] = 0.898\n",
      " Average Precision  (AP) @[ IoU=0.75      | area=   all | maxDets=100 ] = 0.727\n",
      " Average Precision  (AP) @[ IoU=0.50:0.95 | area= small | maxDets=100 ] = 0.400\n",
      " Average Precision  (AP) @[ IoU=0.50:0.95 | area=medium | maxDets=100 ] = 0.555\n",
      " Average Precision  (AP) @[ IoU=0.50:0.95 | area= large | maxDets=100 ] = 0.480\n",
      " Average Recall     (AR) @[ IoU=0.50:0.95 | area=   all | maxDets=  1 ] = 0.399\n",
      " Average Recall     (AR) @[ IoU=0.50:0.95 | area=   all | maxDets= 10 ] = 0.670\n",
      " Average Recall     (AR) @[ IoU=0.50:0.95 | area=   all | maxDets=100 ] = 0.767\n",
      " Average Recall     (AR) @[ IoU=0.50:0.95 | area= small | maxDets=100 ] = 0.700\n",
      " Average Recall     (AR) @[ IoU=0.50:0.95 | area=medium | maxDets=100 ] = 0.766\n",
      " Average Recall     (AR) @[ IoU=0.50:0.95 | area= large | maxDets=100 ] = 0.787\n",
      " Average Recall     (AR) @[ IoU=0.50      | area=   all | maxDets=100 ] = 1.000\n",
      " Average Recall     (AR) @[ IoU=0.75      | area=   all | maxDets=100 ] = 0.929\n"
     ]
    },
    {
     "data": {
      "text/plain": [
       "{'epoch': 125, 'coco_eval_bbox': 0.6431629988852811}"
      ]
     },
     "execution_count": 8,
     "metadata": {},
     "output_type": "execute_result"
    }
   ],
   "source": [
    "trainer = Trainer(conf)\n",
    "trainer.train()"
   ]
  },
  {
   "cell_type": "code",
   "execution_count": null,
   "metadata": {},
   "outputs": [],
   "source": []
  }
 ],
 "metadata": {
  "kernelspec": {
   "display_name": "default",
   "language": "python",
   "name": "python3"
  },
  "language_info": {
   "codemirror_mode": {
    "name": "ipython",
    "version": 3
   },
   "file_extension": ".py",
   "mimetype": "text/x-python",
   "name": "python",
   "nbconvert_exporter": "python",
   "pygments_lexer": "ipython3",
   "version": "3.12.9"
  }
 },
 "nbformat": 4,
 "nbformat_minor": 2
}
