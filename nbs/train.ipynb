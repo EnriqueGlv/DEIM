{
 "cells": [
  {
   "cell_type": "code",
   "execution_count": 1,
   "metadata": {},
   "outputs": [],
   "source": [
    "from deimkit import Trainer, Config"
   ]
  },
  {
   "cell_type": "code",
   "execution_count": null,
   "metadata": {},
   "outputs": [],
   "source": [
    "conf = Config.from_model_name(\"deim_hgnetv2_s\")\n",
    "\n",
    "conf.print()"
   ]
  },
  {
   "cell_type": "code",
   "execution_count": null,
   "metadata": {},
   "outputs": [],
   "source": [
    "conf.get('yaml_cfg.train_dataloader.dataset.ann_file')"
   ]
  },
  {
   "cell_type": "code",
   "execution_count": null,
   "metadata": {},
   "outputs": [],
   "source": [
    "conf.get('yaml_cfg.train_dataloader.dataset.img_folder')"
   ]
  },
  {
   "cell_type": "code",
   "execution_count": null,
   "metadata": {},
   "outputs": [],
   "source": [
    "conf.update(\n",
    "    **{'yaml_cfg.train_dataloader.dataset.ann_file': '/home/dnth/Desktop/DEIM/dataset/images/annotations/instances_train.json',\n",
    "       'yaml_cfg.train_dataloader.dataset.img_folder': '/home/dnth/Desktop/DEIM/dataset/images/train',\n",
    "       'yaml_cfg.train_dataloader.total_batch_size': 16,\n",
    "       'yaml_cfg.val_dataloader.dataset.ann_file': '/home/dnth/Desktop/DEIM/dataset/images/annotations/instances_val.json',\n",
    "       'yaml_cfg.val_dataloader.dataset.img_folder': '/home/dnth/Desktop/DEIM/dataset/images/valid',\n",
    "       'yaml_cfg.val_dataloader.total_batch_size': 16,\n",
    "       'yaml_cfg.remap_mscoco_category': False,\n",
    "       'yaml_cfg.num_classes': 4\n",
    "\n",
    "       }\n",
    ")"
   ]
  },
  {
   "cell_type": "code",
   "execution_count": null,
   "metadata": {},
   "outputs": [],
   "source": [
    "conf.save('my_train_config.yml')"
   ]
  },
  {
   "cell_type": "code",
   "execution_count": null,
   "metadata": {},
   "outputs": [],
   "source": [
    "trainer = Trainer(conf)\n",
    "trainer.train()"
   ]
  },
  {
   "cell_type": "code",
   "execution_count": null,
   "metadata": {},
   "outputs": [],
   "source": []
  }
 ],
 "metadata": {
  "kernelspec": {
   "display_name": "default",
   "language": "python",
   "name": "python3"
  },
  "language_info": {
   "codemirror_mode": {
    "name": "ipython",
    "version": 3
   },
   "file_extension": ".py",
   "mimetype": "text/x-python",
   "name": "python",
   "nbconvert_exporter": "python",
   "pygments_lexer": "ipython3",
   "version": "3.13.2"
  }
 },
 "nbformat": 4,
 "nbformat_minor": 2
}
