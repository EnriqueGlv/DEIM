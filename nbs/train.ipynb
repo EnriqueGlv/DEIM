{
 "cells": [
  {
   "cell_type": "code",
   "execution_count": 1,
   "metadata": {},
   "outputs": [],
   "source": [
    "from deimkit import Trainer, Config"
   ]
  },
  {
   "cell_type": "code",
   "execution_count": 2,
   "metadata": {},
   "outputs": [
    {
     "name": "stdout",
     "output_type": "stream",
     "text": [
      "{ 'batch_size': None,\n",
      "  'checkpoint_freq': 4,\n",
      "  'clip_max_norm': 0.1,\n",
      "  'device': '',\n",
      "  'ema_decay': 0.9999,\n",
      "  'ema_warmups': 2000,\n",
      "  'epoches': 132,\n",
      "  'find_unused_parameters': False,\n",
      "  'flat_epoch': 64,\n",
      "  'last_epoch': -1,\n",
      "  'lr_gamma': 0.5,\n",
      "  'lrsheduler': 'flatcosine',\n",
      "  'no_aug_epoch': 12,\n",
      "  'num_workers': 0,\n",
      "  'output_dir': './outputs/deim_hgnetv2_s_coco',\n",
      "  'print_freq': 100,\n",
      "  'resume': None,\n",
      "  'seed': None,\n",
      "  'summary_dir': None,\n",
      "  'sync_bn': True,\n",
      "  'task': 'detection',\n",
      "  'tuning': None,\n",
      "  'use_amp': True,\n",
      "  'use_ema': True,\n",
      "  'warmup_iter': 2000,\n",
      "  'yaml_cfg': { 'DEIM': { 'backbone': 'HGNetv2',\n",
      "                          'decoder': 'DFINETransformer',\n",
      "                          'encoder': 'HybridEncoder'},\n",
      "                'DEIMCriterion': { 'alpha': 0.75,\n",
      "                                   'gamma': 1.5,\n",
      "                                   'losses': ['mal', 'boxes', 'local'],\n",
      "                                   'matcher': { 'alpha': 0.25,\n",
      "                                                'gamma': 2.0,\n",
      "                                                'type': 'HungarianMatcher',\n",
      "                                                'weight_dict': { 'cost_bbox': 5,\n",
      "                                                                 'cost_class': 2,\n",
      "                                                                 'cost_giou': 2}},\n",
      "                                   'reg_max': 32,\n",
      "                                   'weight_dict': { 'loss_bbox': 5,\n",
      "                                                    'loss_ddf': 1.5,\n",
      "                                                    'loss_fgl': 0.15,\n",
      "                                                    'loss_giou': 2,\n",
      "                                                    'loss_mal': 1,\n",
      "                                                    'loss_vfl': 1}},\n",
      "                'DFINETransformer': { 'activation': 'silu',\n",
      "                                      'box_noise_scale': 1.0,\n",
      "                                      'cross_attn_method': 'default',\n",
      "                                      'eval_idx': -1,\n",
      "                                      'feat_channels': [256, 256, 256],\n",
      "                                      'feat_strides': [8, 16, 32],\n",
      "                                      'hidden_dim': 256,\n",
      "                                      'label_noise_ratio': 0.5,\n",
      "                                      'layer_scale': 1,\n",
      "                                      'mlp_act': 'silu',\n",
      "                                      'num_denoising': 100,\n",
      "                                      'num_layers': 3,\n",
      "                                      'num_levels': 3,\n",
      "                                      'num_points': [3, 6, 3],\n",
      "                                      'num_queries': 300,\n",
      "                                      'query_select_method': 'default',\n",
      "                                      'reg_max': 32,\n",
      "                                      'reg_scale': 4},\n",
      "                'HGNetv2': { 'freeze_at': -1,\n",
      "                             'freeze_norm': False,\n",
      "                             'local_model_dir': '../RT-DETR-main/D-FINE/weight/hgnetv2/',\n",
      "                             'name': 'B0',\n",
      "                             'pretrained': True,\n",
      "                             'return_idx': [1, 2, 3],\n",
      "                             'use_lab': True},\n",
      "                'HybridEncoder': { 'act': 'silu',\n",
      "                                   'depth_mult': 0.34,\n",
      "                                   'dim_feedforward': 1024,\n",
      "                                   'dropout': 0.0,\n",
      "                                   'enc_act': 'gelu',\n",
      "                                   'expansion': 0.5,\n",
      "                                   'feat_strides': [8, 16, 32],\n",
      "                                   'hidden_dim': 256,\n",
      "                                   'in_channels': [256, 512, 1024],\n",
      "                                   'nhead': 8,\n",
      "                                   'num_encoder_layers': 1,\n",
      "                                   'use_encoder_idx': [2]},\n",
      "                'PostProcessor': {'num_top_queries': 300},\n",
      "                '__include__': ['./dfine_hgnetv2_s_coco.yml', '../base/deim.yml'],\n",
      "                'checkpoint_freq': 4,\n",
      "                'clip_max_norm': 0.1,\n",
      "                'criterion': 'DEIMCriterion',\n",
      "                'ema': {'decay': 0.9999, 'start': 0, 'type': 'ModelEMA', 'warmups': 1000},\n",
      "                'epoches': 132,\n",
      "                'eval_spatial_size': [640, 640],\n",
      "                'evaluator': {'iou_types': ['bbox'], 'type': 'CocoEvaluator'},\n",
      "                'find_unused_parameters': False,\n",
      "                'flat_epoch': 64,\n",
      "                'lr_gamma': 0.5,\n",
      "                'lr_scheduler': {'gamma': 0.1, 'milestones': [500], 'type': 'MultiStepLR'},\n",
      "                'lr_warmup_scheduler': {'type': 'LinearWarmup', 'warmup_duration': 500},\n",
      "                'lrsheduler': 'flatcosine',\n",
      "                'model': 'DEIM',\n",
      "                'no_aug_epoch': 12,\n",
      "                'num_classes': 80,\n",
      "                'optimizer': { 'betas': [0.9, 0.999],\n",
      "                               'lr': 0.0004,\n",
      "                               'params': [ {'lr': 0.0002, 'params': '^(?=.*backbone)(?!.*bn).*$'},\n",
      "                                           { 'params': '^(?=.*(?:norm|bn)).*$',\n",
      "                                             'weight_decay': 0.0}],\n",
      "                               'type': 'AdamW',\n",
      "                               'weight_decay': 0.0001},\n",
      "                'output_dir': './outputs/deim_hgnetv2_s_coco',\n",
      "                'postprocessor': 'PostProcessor',\n",
      "                'print_freq': 100,\n",
      "                'remap_mscoco_category': True,\n",
      "                'scaler': {'enabled': True, 'type': 'GradScaler'},\n",
      "                'sync_bn': True,\n",
      "                'task': 'detection',\n",
      "                'train_dataloader': { 'collate_fn': { 'base_size': 640,\n",
      "                                                      'base_size_repeat': 20,\n",
      "                                                      'ema_restart_decay': 0.9999,\n",
      "                                                      'mixup_epochs': [4, 64],\n",
      "                                                      'mixup_prob': 0.5,\n",
      "                                                      'stop_epoch': 120,\n",
      "                                                      'type': 'BatchImageCollateFunction'},\n",
      "                                      'dataset': { 'ann_file': '/datassd/COCO/annotations/instances_train2017.json',\n",
      "                                                   'img_folder': '/datassd/COCO/train2017/',\n",
      "                                                   'return_masks': False,\n",
      "                                                   'transforms': { 'mosaic_prob': 0.5,\n",
      "                                                                   'ops': [ { 'fill_value': 0,\n",
      "                                                                              'max_cached_images': 50,\n",
      "                                                                              'output_size': 320,\n",
      "                                                                              'probability': 1.0,\n",
      "                                                                              'random_pop': True,\n",
      "                                                                              'rotation_range': 10,\n",
      "                                                                              'scaling_range': [ 0.5,\n",
      "                                                                                                 1.5],\n",
      "                                                                              'translation_range': [ 0.1,\n",
      "                                                                                                     0.1],\n",
      "                                                                              'type': 'Mosaic',\n",
      "                                                                              'use_cache': False},\n",
      "                                                                            { 'p': 0.5,\n",
      "                                                                              'type': 'RandomPhotometricDistort'},\n",
      "                                                                            { 'fill': 0,\n",
      "                                                                              'type': 'RandomZoomOut'},\n",
      "                                                                            { 'p': 0.8,\n",
      "                                                                              'type': 'RandomIoUCrop'},\n",
      "                                                                            { 'min_size': 1,\n",
      "                                                                              'type': 'SanitizeBoundingBoxes'},\n",
      "                                                                            { 'type': 'RandomHorizontalFlip'},\n",
      "                                                                            { 'size': [640, 640],\n",
      "                                                                              'type': 'Resize'},\n",
      "                                                                            { 'min_size': 1,\n",
      "                                                                              'type': 'SanitizeBoundingBoxes'},\n",
      "                                                                            { 'dtype': 'float32',\n",
      "                                                                              'scale': True,\n",
      "                                                                              'type': 'ConvertPILImage'},\n",
      "                                                                            { 'fmt': 'cxcywh',\n",
      "                                                                              'normalize': True,\n",
      "                                                                              'type': 'ConvertBoxes'}],\n",
      "                                                                   'policy': { 'epoch': [ 4,\n",
      "                                                                                          64,\n",
      "                                                                                          120],\n",
      "                                                                               'name': 'stop_epoch',\n",
      "                                                                               'ops': [ 'Mosaic',\n",
      "                                                                                        'RandomPhotometricDistort',\n",
      "                                                                                        'RandomZoomOut',\n",
      "                                                                                        'RandomIoUCrop']},\n",
      "                                                                   'type': 'Compose'},\n",
      "                                                   'type': 'CocoDetection'},\n",
      "                                      'drop_last': True,\n",
      "                                      'num_workers': 4,\n",
      "                                      'shuffle': True,\n",
      "                                      'total_batch_size': 32,\n",
      "                                      'type': 'DataLoader'},\n",
      "                'use_amp': True,\n",
      "                'use_ema': True,\n",
      "                'use_focal_loss': True,\n",
      "                'val_dataloader': { 'collate_fn': {'type': 'BatchImageCollateFunction'},\n",
      "                                    'dataset': { 'ann_file': '/datassd/COCO/annotations/instances_val2017.json',\n",
      "                                                 'img_folder': '/datassd/COCO/val2017/',\n",
      "                                                 'return_masks': False,\n",
      "                                                 'transforms': { 'ops': [ { 'size': [640, 640],\n",
      "                                                                            'type': 'Resize'},\n",
      "                                                                          { 'dtype': 'float32',\n",
      "                                                                            'scale': True,\n",
      "                                                                            'type': 'ConvertPILImage'}],\n",
      "                                                                 'type': 'Compose'},\n",
      "                                                 'type': 'CocoDetection'},\n",
      "                                    'drop_last': False,\n",
      "                                    'num_workers': 4,\n",
      "                                    'shuffle': False,\n",
      "                                    'total_batch_size': 64,\n",
      "                                    'type': 'DataLoader'},\n",
      "                'warmup_iter': 2000}}\n"
     ]
    }
   ],
   "source": [
    "conf = Config.from_model_name(\"deim_hgnetv2_s\")\n",
    "\n",
    "conf.print()"
   ]
  },
  {
   "cell_type": "code",
   "execution_count": 11,
   "metadata": {},
   "outputs": [
    {
     "data": {
      "text/plain": [
       "'/home/dnth/Desktop/DEIM/dataset/images/annotations/instances_train.json'"
      ]
     },
     "execution_count": 11,
     "metadata": {},
     "output_type": "execute_result"
    }
   ],
   "source": [
    "conf.get('yaml_cfg.train_dataloader.dataset.ann_file')"
   ]
  },
  {
   "cell_type": "code",
   "execution_count": 12,
   "metadata": {},
   "outputs": [
    {
     "data": {
      "text/plain": [
       "'/home/dnth/Desktop/DEIM/dataset/images/train'"
      ]
     },
     "execution_count": 12,
     "metadata": {},
     "output_type": "execute_result"
    }
   ],
   "source": [
    "conf.get('yaml_cfg.train_dataloader.dataset.img_folder')"
   ]
  },
  {
   "cell_type": "code",
   "execution_count": 14,
   "metadata": {},
   "outputs": [
    {
     "data": {
      "text/plain": [
       "task: detection\n",
       "num_workers: 0\n",
       "batch_size: None\n",
       "resume: None\n",
       "tuning: None\n",
       "epoches: 132\n",
       "last_epoch: -1\n",
       "lrsheduler: flatcosine\n",
       "lr_gamma: 0.5\n",
       "no_aug_epoch: 12\n",
       "warmup_iter: 2000\n",
       "flat_epoch: 64\n",
       "use_amp: True\n",
       "use_ema: True\n",
       "ema_decay: 0.9999\n",
       "ema_warmups: 2000\n",
       "sync_bn: True\n",
       "clip_max_norm: 0.1\n",
       "find_unused_parameters: False\n",
       "seed: None\n",
       "print_freq: 100\n",
       "checkpoint_freq: 4\n",
       "output_dir: ./outputs/deim_hgnetv2_s_coco\n",
       "summary_dir: None\n",
       "device: \n",
       "yaml_cfg: {'task': 'detection', 'evaluator': {'type': 'CocoEvaluator', 'iou_types': ['bbox']}, 'num_classes': 80, 'remap_mscoco_category': False, 'train_dataloader': {'type': 'DataLoader', 'dataset': {'type': 'CocoDetection', 'img_folder': '/home/dnth/Desktop/DEIM/dataset/images/train', 'ann_file': '/home/dnth/Desktop/DEIM/dataset/images/annotations/instances_train.json', 'return_masks': False, 'transforms': {'type': 'Compose', 'ops': [{'type': 'Mosaic', 'output_size': 320, 'rotation_range': 10, 'translation_range': [0.1, 0.1], 'scaling_range': [0.5, 1.5], 'probability': 1.0, 'fill_value': 0, 'use_cache': False, 'max_cached_images': 50, 'random_pop': True}, {'type': 'RandomPhotometricDistort', 'p': 0.5}, {'type': 'RandomZoomOut', 'fill': 0}, {'type': 'RandomIoUCrop', 'p': 0.8}, {'type': 'SanitizeBoundingBoxes', 'min_size': 1}, {'type': 'RandomHorizontalFlip'}, {'type': 'Resize', 'size': [640, 640]}, {'type': 'SanitizeBoundingBoxes', 'min_size': 1}, {'type': 'ConvertPILImage', 'dtype': 'float32', 'scale': True}, {'type': 'ConvertBoxes', 'fmt': 'cxcywh', 'normalize': True}], 'policy': {'name': 'stop_epoch', 'epoch': [4, 64, 120], 'ops': ['Mosaic', 'RandomPhotometricDistort', 'RandomZoomOut', 'RandomIoUCrop']}, 'mosaic_prob': 0.5}}, 'shuffle': True, 'num_workers': 4, 'drop_last': True, 'collate_fn': {'type': 'BatchImageCollateFunction', 'base_size': 640, 'base_size_repeat': 20, 'stop_epoch': 120, 'ema_restart_decay': 0.9999, 'mixup_prob': 0.5, 'mixup_epochs': [4, 64]}, 'total_batch_size': 32}, 'val_dataloader': {'type': 'DataLoader', 'dataset': {'type': 'CocoDetection', 'img_folder': '/home/dnth/Desktop/DEIM/dataset/images/valid', 'ann_file': '/home/dnth/Desktop/DEIM/dataset/images/annotations/instances_val.json', 'return_masks': False, 'transforms': {'type': 'Compose', 'ops': [{'type': 'Resize', 'size': [640, 640]}, {'type': 'ConvertPILImage', 'dtype': 'float32', 'scale': True}]}}, 'shuffle': False, 'num_workers': 4, 'drop_last': False, 'collate_fn': {'type': 'BatchImageCollateFunction'}, 'total_batch_size': 32}, 'print_freq': 100, 'output_dir': './outputs/deim_hgnetv2_s_coco', 'checkpoint_freq': 4, 'sync_bn': True, 'find_unused_parameters': False, 'use_amp': True, 'scaler': {'type': 'GradScaler', 'enabled': True}, 'use_ema': True, 'ema': {'type': 'ModelEMA', 'decay': 0.9999, 'warmups': 1000, 'start': 0}, 'epoches': 132, 'clip_max_norm': 0.1, 'optimizer': {'type': 'AdamW', 'params': [{'params': '^(?=.*backbone)(?!.*bn).*$', 'lr': 0.0002}, {'params': '^(?=.*(?:norm|bn)).*$', 'weight_decay': 0.0}], 'lr': 0.0004, 'betas': [0.9, 0.999], 'weight_decay': 0.0001}, 'lr_scheduler': {'type': 'MultiStepLR', 'milestones': [500], 'gamma': 0.1}, 'lr_warmup_scheduler': {'type': 'LinearWarmup', 'warmup_duration': 500}, 'model': 'DEIM', 'criterion': 'DEIMCriterion', 'postprocessor': 'PostProcessor', 'use_focal_loss': True, 'eval_spatial_size': [640, 640], 'DEIM': {'backbone': 'HGNetv2', 'encoder': 'HybridEncoder', 'decoder': 'DFINETransformer'}, 'lrsheduler': 'flatcosine', 'lr_gamma': 0.5, 'warmup_iter': 2000, 'flat_epoch': 64, 'no_aug_epoch': 12, 'HGNetv2': {'pretrained': True, 'local_model_dir': '../RT-DETR-main/D-FINE/weight/hgnetv2/', 'name': 'B0', 'return_idx': [1, 2, 3], 'freeze_at': -1, 'freeze_norm': False, 'use_lab': True}, 'HybridEncoder': {'in_channels': [256, 512, 1024], 'feat_strides': [8, 16, 32], 'hidden_dim': 256, 'use_encoder_idx': [2], 'num_encoder_layers': 1, 'nhead': 8, 'dim_feedforward': 1024, 'dropout': 0.0, 'enc_act': 'gelu', 'expansion': 0.5, 'depth_mult': 0.34, 'act': 'silu'}, 'DFINETransformer': {'feat_channels': [256, 256, 256], 'feat_strides': [8, 16, 32], 'hidden_dim': 256, 'num_levels': 3, 'num_layers': 3, 'eval_idx': -1, 'num_queries': 300, 'num_denoising': 100, 'label_noise_ratio': 0.5, 'box_noise_scale': 1.0, 'reg_max': 32, 'reg_scale': 4, 'layer_scale': 1, 'num_points': [3, 6, 3], 'cross_attn_method': 'default', 'query_select_method': 'default', 'activation': 'silu', 'mlp_act': 'silu'}, 'PostProcessor': {'num_top_queries': 300}, 'DEIMCriterion': {'weight_dict': {'loss_vfl': 1, 'loss_bbox': 5, 'loss_giou': 2, 'loss_fgl': 0.15, 'loss_ddf': 1.5, 'loss_mal': 1}, 'losses': ['mal', 'boxes', 'local'], 'alpha': 0.75, 'gamma': 1.5, 'reg_max': 32, 'matcher': {'type': 'HungarianMatcher', 'weight_dict': {'cost_class': 2, 'cost_bbox': 5, 'cost_giou': 2}, 'alpha': 0.25, 'gamma': 2.0}}, '__include__': ['./dfine_hgnetv2_s_coco.yml', '../base/deim.yml']}\n",
       "yml_cfg: {'num_classes': 4}"
      ]
     },
     "execution_count": 14,
     "metadata": {},
     "output_type": "execute_result"
    }
   ],
   "source": [
    "conf.update(\n",
    "    **{'yaml_cfg.train_dataloader.dataset.ann_file': '/home/dnth/Desktop/DEIM/dataset/images/annotations/instances_train.json',\n",
    "       'yaml_cfg.train_dataloader.dataset.img_folder': '/home/dnth/Desktop/DEIM/dataset/images/train',\n",
    "       'yaml_cfg.train_dataloader.total_batch_size': 32,\n",
    "       'yaml_cfg.val_dataloader.dataset.ann_file': '/home/dnth/Desktop/DEIM/dataset/images/annotations/instances_val.json',\n",
    "       'yaml_cfg.val_dataloader.dataset.img_folder': '/home/dnth/Desktop/DEIM/dataset/images/valid',\n",
    "       'yaml_cfg.val_dataloader.total_batch_size': 32,\n",
    "       'yaml_cfg.remap_mscoco_category': False,\n",
    "       'yaml_cfg.num_classes': 4\n",
    "\n",
    "       }\n",
    ")"
   ]
  },
  {
   "cell_type": "code",
   "execution_count": null,
   "metadata": {},
   "outputs": [],
   "source": []
  },
  {
   "cell_type": "code",
   "execution_count": null,
   "metadata": {},
   "outputs": [],
   "source": []
  },
  {
   "cell_type": "code",
   "execution_count": null,
   "metadata": {},
   "outputs": [],
   "source": []
  },
  {
   "cell_type": "code",
   "execution_count": 15,
   "metadata": {},
   "outputs": [
    {
     "data": {
      "text/plain": [
       "task: detection\n",
       "num_workers: 0\n",
       "batch_size: None\n",
       "resume: None\n",
       "tuning: None\n",
       "epoches: 132\n",
       "last_epoch: -1\n",
       "lrsheduler: flatcosine\n",
       "lr_gamma: 0.5\n",
       "no_aug_epoch: 12\n",
       "warmup_iter: 2000\n",
       "flat_epoch: 64\n",
       "use_amp: True\n",
       "use_ema: True\n",
       "ema_decay: 0.9999\n",
       "ema_warmups: 2000\n",
       "sync_bn: True\n",
       "clip_max_norm: 0.1\n",
       "find_unused_parameters: False\n",
       "seed: None\n",
       "print_freq: 100\n",
       "checkpoint_freq: 4\n",
       "output_dir: ./outputs/deim_hgnetv2_s_coco\n",
       "summary_dir: None\n",
       "device: \n",
       "yaml_cfg: {'task': 'detection', 'evaluator': {'type': 'CocoEvaluator', 'iou_types': ['bbox']}, 'num_classes': 80, 'remap_mscoco_category': False, 'train_dataloader': {'type': 'DataLoader', 'dataset': {'type': 'CocoDetection', 'img_folder': '/home/dnth/Desktop/DEIM/dataset/images/train', 'ann_file': '/home/dnth/Desktop/DEIM/dataset/images/annotations/instances_train.json', 'return_masks': False, 'transforms': {'type': 'Compose', 'ops': [{'type': 'Mosaic', 'output_size': 320, 'rotation_range': 10, 'translation_range': [0.1, 0.1], 'scaling_range': [0.5, 1.5], 'probability': 1.0, 'fill_value': 0, 'use_cache': False, 'max_cached_images': 50, 'random_pop': True}, {'type': 'RandomPhotometricDistort', 'p': 0.5}, {'type': 'RandomZoomOut', 'fill': 0}, {'type': 'RandomIoUCrop', 'p': 0.8}, {'type': 'SanitizeBoundingBoxes', 'min_size': 1}, {'type': 'RandomHorizontalFlip'}, {'type': 'Resize', 'size': [640, 640]}, {'type': 'SanitizeBoundingBoxes', 'min_size': 1}, {'type': 'ConvertPILImage', 'dtype': 'float32', 'scale': True}, {'type': 'ConvertBoxes', 'fmt': 'cxcywh', 'normalize': True}], 'policy': {'name': 'stop_epoch', 'epoch': [4, 64, 120], 'ops': ['Mosaic', 'RandomPhotometricDistort', 'RandomZoomOut', 'RandomIoUCrop']}, 'mosaic_prob': 0.5}}, 'shuffle': True, 'num_workers': 4, 'drop_last': True, 'collate_fn': {'type': 'BatchImageCollateFunction', 'base_size': 640, 'base_size_repeat': 20, 'stop_epoch': 120, 'ema_restart_decay': 0.9999, 'mixup_prob': 0.5, 'mixup_epochs': [4, 64]}, 'total_batch_size': 32}, 'val_dataloader': {'type': 'DataLoader', 'dataset': {'type': 'CocoDetection', 'img_folder': '/home/dnth/Desktop/DEIM/dataset/images/valid', 'ann_file': '/home/dnth/Desktop/DEIM/dataset/images/annotations/instances_val.json', 'return_masks': False, 'transforms': {'type': 'Compose', 'ops': [{'type': 'Resize', 'size': [640, 640]}, {'type': 'ConvertPILImage', 'dtype': 'float32', 'scale': True}]}}, 'shuffle': False, 'num_workers': 4, 'drop_last': False, 'collate_fn': {'type': 'BatchImageCollateFunction'}, 'total_batch_size': 32}, 'print_freq': 100, 'output_dir': './outputs/deim_hgnetv2_s_coco', 'checkpoint_freq': 4, 'sync_bn': True, 'find_unused_parameters': False, 'use_amp': True, 'scaler': {'type': 'GradScaler', 'enabled': True}, 'use_ema': True, 'ema': {'type': 'ModelEMA', 'decay': 0.9999, 'warmups': 1000, 'start': 0}, 'epoches': 132, 'clip_max_norm': 0.1, 'optimizer': {'type': 'AdamW', 'params': [{'params': '^(?=.*backbone)(?!.*bn).*$', 'lr': 0.0002}, {'params': '^(?=.*(?:norm|bn)).*$', 'weight_decay': 0.0}], 'lr': 0.0004, 'betas': [0.9, 0.999], 'weight_decay': 0.0001}, 'lr_scheduler': {'type': 'MultiStepLR', 'milestones': [500], 'gamma': 0.1}, 'lr_warmup_scheduler': {'type': 'LinearWarmup', 'warmup_duration': 500}, 'model': 'DEIM', 'criterion': 'DEIMCriterion', 'postprocessor': 'PostProcessor', 'use_focal_loss': True, 'eval_spatial_size': [640, 640], 'DEIM': {'backbone': 'HGNetv2', 'encoder': 'HybridEncoder', 'decoder': 'DFINETransformer'}, 'lrsheduler': 'flatcosine', 'lr_gamma': 0.5, 'warmup_iter': 2000, 'flat_epoch': 64, 'no_aug_epoch': 12, 'HGNetv2': {'pretrained': True, 'local_model_dir': '../RT-DETR-main/D-FINE/weight/hgnetv2/', 'name': 'B0', 'return_idx': [1, 2, 3], 'freeze_at': -1, 'freeze_norm': False, 'use_lab': True}, 'HybridEncoder': {'in_channels': [256, 512, 1024], 'feat_strides': [8, 16, 32], 'hidden_dim': 256, 'use_encoder_idx': [2], 'num_encoder_layers': 1, 'nhead': 8, 'dim_feedforward': 1024, 'dropout': 0.0, 'enc_act': 'gelu', 'expansion': 0.5, 'depth_mult': 0.34, 'act': 'silu'}, 'DFINETransformer': {'feat_channels': [256, 256, 256], 'feat_strides': [8, 16, 32], 'hidden_dim': 256, 'num_levels': 3, 'num_layers': 3, 'eval_idx': -1, 'num_queries': 300, 'num_denoising': 100, 'label_noise_ratio': 0.5, 'box_noise_scale': 1.0, 'reg_max': 32, 'reg_scale': 4, 'layer_scale': 1, 'num_points': [3, 6, 3], 'cross_attn_method': 'default', 'query_select_method': 'default', 'activation': 'silu', 'mlp_act': 'silu'}, 'PostProcessor': {'num_top_queries': 300}, 'DEIMCriterion': {'weight_dict': {'loss_vfl': 1, 'loss_bbox': 5, 'loss_giou': 2, 'loss_fgl': 0.15, 'loss_ddf': 1.5, 'loss_mal': 1}, 'losses': ['mal', 'boxes', 'local'], 'alpha': 0.75, 'gamma': 1.5, 'reg_max': 32, 'matcher': {'type': 'HungarianMatcher', 'weight_dict': {'cost_class': 2, 'cost_bbox': 5, 'cost_giou': 2}, 'alpha': 0.25, 'gamma': 2.0}}, '__include__': ['./dfine_hgnetv2_s_coco.yml', '../base/deim.yml']}\n",
       "yml_cfg: {'num_classes': 4}"
      ]
     },
     "execution_count": 15,
     "metadata": {},
     "output_type": "execute_result"
    }
   ],
   "source": [
    "conf.save('my_train_config.yml')"
   ]
  },
  {
   "cell_type": "code",
   "execution_count": null,
   "metadata": {},
   "outputs": [],
   "source": [
    "trainer = Trainer(conf)\n",
    "trainer.train()"
   ]
  },
  {
   "cell_type": "code",
   "execution_count": null,
   "metadata": {},
   "outputs": [],
   "source": [
    "conf.print()"
   ]
  },
  {
   "cell_type": "code",
   "execution_count": null,
   "metadata": {},
   "outputs": [],
   "source": []
  }
 ],
 "metadata": {
  "kernelspec": {
   "display_name": "default",
   "language": "python",
   "name": "python3"
  },
  "language_info": {
   "codemirror_mode": {
    "name": "ipython",
    "version": 3
   },
   "file_extension": ".py",
   "mimetype": "text/x-python",
   "name": "python",
   "nbconvert_exporter": "python",
   "pygments_lexer": "ipython3",
   "version": "3.13.2"
  }
 },
 "nbformat": 4,
 "nbformat_minor": 2
}
