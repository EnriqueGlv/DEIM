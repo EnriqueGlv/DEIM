{
 "cells": [
  {
   "cell_type": "code",
   "execution_count": 1,
   "metadata": {},
   "outputs": [],
   "source": [
    "from deimkit import Trainer, Config"
   ]
  },
  {
   "cell_type": "code",
   "execution_count": 2,
   "metadata": {},
   "outputs": [
    {
     "name": "stdout",
     "output_type": "stream",
     "text": [
      "{ 'batch_size': None,\n",
      "  'checkpoint_freq': 4,\n",
      "  'clip_max_norm': 0.1,\n",
      "  'device': '',\n",
      "  'ema_decay': 0.9999,\n",
      "  'ema_warmups': 2000,\n",
      "  'epoches': 132,\n",
      "  'find_unused_parameters': False,\n",
      "  'flat_epoch': 64,\n",
      "  'last_epoch': -1,\n",
      "  'lr_gamma': 0.5,\n",
      "  'lrsheduler': 'flatcosine',\n",
      "  'no_aug_epoch': 12,\n",
      "  'num_workers': 0,\n",
      "  'output_dir': './outputs/deim_hgnetv2_s_coco',\n",
      "  'print_freq': 100,\n",
      "  'resume': None,\n",
      "  'seed': None,\n",
      "  'summary_dir': None,\n",
      "  'sync_bn': True,\n",
      "  'task': 'detection',\n",
      "  'tuning': None,\n",
      "  'use_amp': True,\n",
      "  'use_ema': True,\n",
      "  'warmup_iter': 2000,\n",
      "  'yaml_cfg': { 'DEIM': { 'backbone': 'HGNetv2',\n",
      "                          'decoder': 'DFINETransformer',\n",
      "                          'encoder': 'HybridEncoder'},\n",
      "                'DEIMCriterion': { 'alpha': 0.75,\n",
      "                                   'gamma': 1.5,\n",
      "                                   'losses': ['mal', 'boxes', 'local'],\n",
      "                                   'matcher': { 'alpha': 0.25,\n",
      "                                                'gamma': 2.0,\n",
      "                                                'type': 'HungarianMatcher',\n",
      "                                                'weight_dict': { 'cost_bbox': 5,\n",
      "                                                                 'cost_class': 2,\n",
      "                                                                 'cost_giou': 2}},\n",
      "                                   'reg_max': 32,\n",
      "                                   'weight_dict': { 'loss_bbox': 5,\n",
      "                                                    'loss_ddf': 1.5,\n",
      "                                                    'loss_fgl': 0.15,\n",
      "                                                    'loss_giou': 2,\n",
      "                                                    'loss_mal': 1,\n",
      "                                                    'loss_vfl': 1}},\n",
      "                'DFINETransformer': { 'activation': 'silu',\n",
      "                                      'box_noise_scale': 1.0,\n",
      "                                      'cross_attn_method': 'default',\n",
      "                                      'eval_idx': -1,\n",
      "                                      'feat_channels': [256, 256, 256],\n",
      "                                      'feat_strides': [8, 16, 32],\n",
      "                                      'hidden_dim': 256,\n",
      "                                      'label_noise_ratio': 0.5,\n",
      "                                      'layer_scale': 1,\n",
      "                                      'mlp_act': 'silu',\n",
      "                                      'num_denoising': 100,\n",
      "                                      'num_layers': 3,\n",
      "                                      'num_levels': 3,\n",
      "                                      'num_points': [3, 6, 3],\n",
      "                                      'num_queries': 300,\n",
      "                                      'query_select_method': 'default',\n",
      "                                      'reg_max': 32,\n",
      "                                      'reg_scale': 4},\n",
      "                'HGNetv2': { 'freeze_at': -1,\n",
      "                             'freeze_norm': False,\n",
      "                             'local_model_dir': '../RT-DETR-main/D-FINE/weight/hgnetv2/',\n",
      "                             'name': 'B0',\n",
      "                             'pretrained': True,\n",
      "                             'return_idx': [1, 2, 3],\n",
      "                             'use_lab': True},\n",
      "                'HybridEncoder': { 'act': 'silu',\n",
      "                                   'depth_mult': 0.34,\n",
      "                                   'dim_feedforward': 1024,\n",
      "                                   'dropout': 0.0,\n",
      "                                   'enc_act': 'gelu',\n",
      "                                   'expansion': 0.5,\n",
      "                                   'feat_strides': [8, 16, 32],\n",
      "                                   'hidden_dim': 256,\n",
      "                                   'in_channels': [256, 512, 1024],\n",
      "                                   'nhead': 8,\n",
      "                                   'num_encoder_layers': 1,\n",
      "                                   'use_encoder_idx': [2]},\n",
      "                'PostProcessor': {'num_top_queries': 300},\n",
      "                '__include__': ['./dfine_hgnetv2_s_coco.yml', '../base/deim.yml'],\n",
      "                'checkpoint_freq': 4,\n",
      "                'clip_max_norm': 0.1,\n",
      "                'criterion': 'DEIMCriterion',\n",
      "                'ema': {'decay': 0.9999, 'start': 0, 'type': 'ModelEMA', 'warmups': 1000},\n",
      "                'epoches': 132,\n",
      "                'eval_spatial_size': [640, 640],\n",
      "                'evaluator': {'iou_types': ['bbox'], 'type': 'CocoEvaluator'},\n",
      "                'find_unused_parameters': False,\n",
      "                'flat_epoch': 64,\n",
      "                'lr_gamma': 0.5,\n",
      "                'lr_scheduler': {'gamma': 0.1, 'milestones': [500], 'type': 'MultiStepLR'},\n",
      "                'lr_warmup_scheduler': {'type': 'LinearWarmup', 'warmup_duration': 500},\n",
      "                'lrsheduler': 'flatcosine',\n",
      "                'model': 'DEIM',\n",
      "                'no_aug_epoch': 12,\n",
      "                'num_classes': 80,\n",
      "                'optimizer': { 'betas': [0.9, 0.999],\n",
      "                               'lr': 0.0004,\n",
      "                               'params': [ {'lr': 0.0002, 'params': '^(?=.*backbone)(?!.*bn).*$'},\n",
      "                                           { 'params': '^(?=.*(?:norm|bn)).*$',\n",
      "                                             'weight_decay': 0.0}],\n",
      "                               'type': 'AdamW',\n",
      "                               'weight_decay': 0.0001},\n",
      "                'output_dir': './outputs/deim_hgnetv2_s_coco',\n",
      "                'postprocessor': 'PostProcessor',\n",
      "                'print_freq': 100,\n",
      "                'remap_mscoco_category': True,\n",
      "                'scaler': {'enabled': True, 'type': 'GradScaler'},\n",
      "                'sync_bn': True,\n",
      "                'task': 'detection',\n",
      "                'train_dataloader': { 'collate_fn': { 'base_size': 640,\n",
      "                                                      'base_size_repeat': 20,\n",
      "                                                      'ema_restart_decay': 0.9999,\n",
      "                                                      'mixup_epochs': [4, 64],\n",
      "                                                      'mixup_prob': 0.5,\n",
      "                                                      'stop_epoch': 120,\n",
      "                                                      'type': 'BatchImageCollateFunction'},\n",
      "                                      'dataset': { 'ann_file': '/datassd/COCO/annotations/instances_train2017.json',\n",
      "                                                   'img_folder': '/datassd/COCO/train2017/',\n",
      "                                                   'return_masks': False,\n",
      "                                                   'transforms': { 'mosaic_prob': 0.5,\n",
      "                                                                   'ops': [ { 'fill_value': 0,\n",
      "                                                                              'max_cached_images': 50,\n",
      "                                                                              'output_size': 320,\n",
      "                                                                              'probability': 1.0,\n",
      "                                                                              'random_pop': True,\n",
      "                                                                              'rotation_range': 10,\n",
      "                                                                              'scaling_range': [ 0.5,\n",
      "                                                                                                 1.5],\n",
      "                                                                              'translation_range': [ 0.1,\n",
      "                                                                                                     0.1],\n",
      "                                                                              'type': 'Mosaic',\n",
      "                                                                              'use_cache': False},\n",
      "                                                                            { 'p': 0.5,\n",
      "                                                                              'type': 'RandomPhotometricDistort'},\n",
      "                                                                            { 'fill': 0,\n",
      "                                                                              'type': 'RandomZoomOut'},\n",
      "                                                                            { 'p': 0.8,\n",
      "                                                                              'type': 'RandomIoUCrop'},\n",
      "                                                                            { 'min_size': 1,\n",
      "                                                                              'type': 'SanitizeBoundingBoxes'},\n",
      "                                                                            { 'type': 'RandomHorizontalFlip'},\n",
      "                                                                            { 'size': [640, 640],\n",
      "                                                                              'type': 'Resize'},\n",
      "                                                                            { 'min_size': 1,\n",
      "                                                                              'type': 'SanitizeBoundingBoxes'},\n",
      "                                                                            { 'dtype': 'float32',\n",
      "                                                                              'scale': True,\n",
      "                                                                              'type': 'ConvertPILImage'},\n",
      "                                                                            { 'fmt': 'cxcywh',\n",
      "                                                                              'normalize': True,\n",
      "                                                                              'type': 'ConvertBoxes'}],\n",
      "                                                                   'policy': { 'epoch': [ 4,\n",
      "                                                                                          64,\n",
      "                                                                                          120],\n",
      "                                                                               'name': 'stop_epoch',\n",
      "                                                                               'ops': [ 'Mosaic',\n",
      "                                                                                        'RandomPhotometricDistort',\n",
      "                                                                                        'RandomZoomOut',\n",
      "                                                                                        'RandomIoUCrop']},\n",
      "                                                                   'type': 'Compose'},\n",
      "                                                   'type': 'CocoDetection'},\n",
      "                                      'drop_last': True,\n",
      "                                      'num_workers': 4,\n",
      "                                      'shuffle': True,\n",
      "                                      'total_batch_size': 32,\n",
      "                                      'type': 'DataLoader'},\n",
      "                'use_amp': True,\n",
      "                'use_ema': True,\n",
      "                'use_focal_loss': True,\n",
      "                'val_dataloader': { 'collate_fn': {'type': 'BatchImageCollateFunction'},\n",
      "                                    'dataset': { 'ann_file': '/datassd/COCO/annotations/instances_val2017.json',\n",
      "                                                 'img_folder': '/datassd/COCO/val2017/',\n",
      "                                                 'return_masks': False,\n",
      "                                                 'transforms': { 'ops': [ { 'size': [640, 640],\n",
      "                                                                            'type': 'Resize'},\n",
      "                                                                          { 'dtype': 'float32',\n",
      "                                                                            'scale': True,\n",
      "                                                                            'type': 'ConvertPILImage'}],\n",
      "                                                                 'type': 'Compose'},\n",
      "                                                 'type': 'CocoDetection'},\n",
      "                                    'drop_last': False,\n",
      "                                    'num_workers': 4,\n",
      "                                    'shuffle': False,\n",
      "                                    'total_batch_size': 64,\n",
      "                                    'type': 'DataLoader'},\n",
      "                'warmup_iter': 2000}}\n"
     ]
    }
   ],
   "source": [
    "conf = Config.from_model_name(\"deim_hgnetv2_s\")\n",
    "\n",
    "conf.print()"
   ]
  },
  {
   "cell_type": "code",
   "execution_count": 10,
   "metadata": {},
   "outputs": [
    {
     "data": {
      "text/plain": [
       "2000"
      ]
     },
     "execution_count": 10,
     "metadata": {},
     "output_type": "execute_result"
    }
   ],
   "source": [
    "conf.get('ema_warmups')"
   ]
  },
  {
   "cell_type": "code",
   "execution_count": 3,
   "metadata": {},
   "outputs": [
    {
     "data": {
      "text/plain": [
       "'/datassd/COCO/annotations/instances_train2017.json'"
      ]
     },
     "execution_count": 3,
     "metadata": {},
     "output_type": "execute_result"
    }
   ],
   "source": [
    "conf.get('yaml_cfg.train_dataloader.dataset.ann_file')"
   ]
  },
  {
   "cell_type": "code",
   "execution_count": 4,
   "metadata": {},
   "outputs": [
    {
     "data": {
      "text/plain": [
       "'/datassd/COCO/train2017/'"
      ]
     },
     "execution_count": 4,
     "metadata": {},
     "output_type": "execute_result"
    }
   ],
   "source": [
    "conf.get('yaml_cfg.train_dataloader.dataset.img_folder')"
   ]
  },
  {
   "cell_type": "code",
   "execution_count": 5,
   "metadata": {},
   "outputs": [
    {
     "data": {
      "text/plain": [
       "task: detection\n",
       "num_workers: 0\n",
       "batch_size: None\n",
       "resume: None\n",
       "tuning: None\n",
       "epoches: 132\n",
       "last_epoch: -1\n",
       "lrsheduler: flatcosine\n",
       "lr_gamma: 0.5\n",
       "no_aug_epoch: 12\n",
       "warmup_iter: 2000\n",
       "flat_epoch: 64\n",
       "use_amp: True\n",
       "use_ema: True\n",
       "ema_decay: 0.9999\n",
       "ema_warmups: 2000\n",
       "sync_bn: True\n",
       "clip_max_norm: 0.1\n",
       "find_unused_parameters: False\n",
       "seed: None\n",
       "print_freq: 100\n",
       "checkpoint_freq: 4\n",
       "output_dir: ./outputs/deim_hgnetv2_s_coco\n",
       "summary_dir: None\n",
       "device: \n",
       "yaml_cfg: {'task': 'detection', 'evaluator': {'type': 'CocoEvaluator', 'iou_types': ['bbox']}, 'num_classes': 4, 'remap_mscoco_category': False, 'train_dataloader': {'type': 'DataLoader', 'dataset': {'type': 'CocoDetection', 'img_folder': '/home/dnth/Desktop/DEIM/dataset/images/train', 'ann_file': '/home/dnth/Desktop/DEIM/dataset/images/annotations/instances_train.json', 'return_masks': False, 'transforms': {'type': 'Compose', 'ops': [{'type': 'Mosaic', 'output_size': 320, 'rotation_range': 10, 'translation_range': [0.1, 0.1], 'scaling_range': [0.5, 1.5], 'probability': 1.0, 'fill_value': 0, 'use_cache': False, 'max_cached_images': 50, 'random_pop': True}, {'type': 'RandomPhotometricDistort', 'p': 0.5}, {'type': 'RandomZoomOut', 'fill': 0}, {'type': 'RandomIoUCrop', 'p': 0.8}, {'type': 'SanitizeBoundingBoxes', 'min_size': 1}, {'type': 'RandomHorizontalFlip'}, {'type': 'Resize', 'size': [640, 640]}, {'type': 'SanitizeBoundingBoxes', 'min_size': 1}, {'type': 'ConvertPILImage', 'dtype': 'float32', 'scale': True}, {'type': 'ConvertBoxes', 'fmt': 'cxcywh', 'normalize': True}], 'policy': {'name': 'stop_epoch', 'epoch': [4, 64, 120], 'ops': ['Mosaic', 'RandomPhotometricDistort', 'RandomZoomOut', 'RandomIoUCrop']}, 'mosaic_prob': 0.5}}, 'shuffle': True, 'num_workers': 4, 'drop_last': True, 'collate_fn': {'type': 'BatchImageCollateFunction', 'base_size': 640, 'base_size_repeat': 20, 'stop_epoch': 120, 'ema_restart_decay': 0.9999, 'mixup_prob': 0.5, 'mixup_epochs': [4, 64]}, 'total_batch_size': 16}, 'val_dataloader': {'type': 'DataLoader', 'dataset': {'type': 'CocoDetection', 'img_folder': '/home/dnth/Desktop/DEIM/dataset/images/valid', 'ann_file': '/home/dnth/Desktop/DEIM/dataset/images/annotations/instances_val.json', 'return_masks': False, 'transforms': {'type': 'Compose', 'ops': [{'type': 'Resize', 'size': [640, 640]}, {'type': 'ConvertPILImage', 'dtype': 'float32', 'scale': True}]}}, 'shuffle': False, 'num_workers': 4, 'drop_last': False, 'collate_fn': {'type': 'BatchImageCollateFunction'}, 'total_batch_size': 16}, 'print_freq': 100, 'output_dir': './outputs/deim_hgnetv2_s_coco', 'checkpoint_freq': 4, 'sync_bn': True, 'find_unused_parameters': False, 'use_amp': True, 'scaler': {'type': 'GradScaler', 'enabled': True}, 'use_ema': True, 'ema': {'type': 'ModelEMA', 'decay': 0.9999, 'warmups': 1000, 'start': 0}, 'epoches': 132, 'clip_max_norm': 0.1, 'optimizer': {'type': 'AdamW', 'params': [{'params': '^(?=.*backbone)(?!.*bn).*$', 'lr': 0.0002}, {'params': '^(?=.*(?:norm|bn)).*$', 'weight_decay': 0.0}], 'lr': 0.0004, 'betas': [0.9, 0.999], 'weight_decay': 0.0001}, 'lr_scheduler': {'type': 'MultiStepLR', 'milestones': [500], 'gamma': 0.1}, 'lr_warmup_scheduler': {'type': 'LinearWarmup', 'warmup_duration': 500}, 'model': 'DEIM', 'criterion': 'DEIMCriterion', 'postprocessor': 'PostProcessor', 'use_focal_loss': True, 'eval_spatial_size': [640, 640], 'DEIM': {'backbone': 'HGNetv2', 'encoder': 'HybridEncoder', 'decoder': 'DFINETransformer'}, 'lrsheduler': 'flatcosine', 'lr_gamma': 0.5, 'warmup_iter': 2000, 'flat_epoch': 64, 'no_aug_epoch': 12, 'HGNetv2': {'pretrained': True, 'local_model_dir': '../RT-DETR-main/D-FINE/weight/hgnetv2/', 'name': 'B0', 'return_idx': [1, 2, 3], 'freeze_at': -1, 'freeze_norm': False, 'use_lab': True}, 'HybridEncoder': {'in_channels': [256, 512, 1024], 'feat_strides': [8, 16, 32], 'hidden_dim': 256, 'use_encoder_idx': [2], 'num_encoder_layers': 1, 'nhead': 8, 'dim_feedforward': 1024, 'dropout': 0.0, 'enc_act': 'gelu', 'expansion': 0.5, 'depth_mult': 0.34, 'act': 'silu'}, 'DFINETransformer': {'feat_channels': [256, 256, 256], 'feat_strides': [8, 16, 32], 'hidden_dim': 256, 'num_levels': 3, 'num_layers': 3, 'eval_idx': -1, 'num_queries': 300, 'num_denoising': 100, 'label_noise_ratio': 0.5, 'box_noise_scale': 1.0, 'reg_max': 32, 'reg_scale': 4, 'layer_scale': 1, 'num_points': [3, 6, 3], 'cross_attn_method': 'default', 'query_select_method': 'default', 'activation': 'silu', 'mlp_act': 'silu'}, 'PostProcessor': {'num_top_queries': 300}, 'DEIMCriterion': {'weight_dict': {'loss_vfl': 1, 'loss_bbox': 5, 'loss_giou': 2, 'loss_fgl': 0.15, 'loss_ddf': 1.5, 'loss_mal': 1}, 'losses': ['mal', 'boxes', 'local'], 'alpha': 0.75, 'gamma': 1.5, 'reg_max': 32, 'matcher': {'type': 'HungarianMatcher', 'weight_dict': {'cost_class': 2, 'cost_bbox': 5, 'cost_giou': 2}, 'alpha': 0.25, 'gamma': 2.0}}, '__include__': ['./dfine_hgnetv2_s_coco.yml', '../base/deim.yml']}"
      ]
     },
     "execution_count": 5,
     "metadata": {},
     "output_type": "execute_result"
    }
   ],
   "source": [
    "conf.update(\n",
    "    **{'yaml_cfg.train_dataloader.dataset.ann_file': '/home/dnth/Desktop/DEIM/dataset/images/annotations/instances_train.json',\n",
    "       'yaml_cfg.train_dataloader.dataset.img_folder': '/home/dnth/Desktop/DEIM/dataset/images/train',\n",
    "       'yaml_cfg.train_dataloader.total_batch_size': 16,\n",
    "       'yaml_cfg.val_dataloader.dataset.ann_file': '/home/dnth/Desktop/DEIM/dataset/images/annotations/instances_val.json',\n",
    "       'yaml_cfg.val_dataloader.dataset.img_folder': '/home/dnth/Desktop/DEIM/dataset/images/valid',\n",
    "       'yaml_cfg.val_dataloader.total_batch_size': 16,\n",
    "       'yaml_cfg.remap_mscoco_category': False,\n",
    "       'yaml_cfg.num_classes': 4,\n",
    "       'output_dir': './outputs/deim_hgnetv2_s_coco_ema_tune',\n",
    "       'ema_warmups': 200,\n",
    "       'warmup_iter': 200,\n",
    "       }\n",
    ")"
   ]
  },
  {
   "cell_type": "code",
   "execution_count": 6,
   "metadata": {},
   "outputs": [
    {
     "data": {
      "text/plain": [
       "task: detection\n",
       "num_workers: 0\n",
       "batch_size: None\n",
       "resume: None\n",
       "tuning: None\n",
       "epoches: 132\n",
       "last_epoch: -1\n",
       "lrsheduler: flatcosine\n",
       "lr_gamma: 0.5\n",
       "no_aug_epoch: 12\n",
       "warmup_iter: 2000\n",
       "flat_epoch: 64\n",
       "use_amp: True\n",
       "use_ema: True\n",
       "ema_decay: 0.9999\n",
       "ema_warmups: 2000\n",
       "sync_bn: True\n",
       "clip_max_norm: 0.1\n",
       "find_unused_parameters: False\n",
       "seed: None\n",
       "print_freq: 100\n",
       "checkpoint_freq: 4\n",
       "output_dir: ./outputs/deim_hgnetv2_s_coco\n",
       "summary_dir: None\n",
       "device: \n",
       "yaml_cfg: {'task': 'detection', 'evaluator': {'type': 'CocoEvaluator', 'iou_types': ['bbox']}, 'num_classes': 4, 'remap_mscoco_category': False, 'train_dataloader': {'type': 'DataLoader', 'dataset': {'type': 'CocoDetection', 'img_folder': '/home/dnth/Desktop/DEIM/dataset/images/train', 'ann_file': '/home/dnth/Desktop/DEIM/dataset/images/annotations/instances_train.json', 'return_masks': False, 'transforms': {'type': 'Compose', 'ops': [{'type': 'Mosaic', 'output_size': 320, 'rotation_range': 10, 'translation_range': [0.1, 0.1], 'scaling_range': [0.5, 1.5], 'probability': 1.0, 'fill_value': 0, 'use_cache': False, 'max_cached_images': 50, 'random_pop': True}, {'type': 'RandomPhotometricDistort', 'p': 0.5}, {'type': 'RandomZoomOut', 'fill': 0}, {'type': 'RandomIoUCrop', 'p': 0.8}, {'type': 'SanitizeBoundingBoxes', 'min_size': 1}, {'type': 'RandomHorizontalFlip'}, {'type': 'Resize', 'size': [640, 640]}, {'type': 'SanitizeBoundingBoxes', 'min_size': 1}, {'type': 'ConvertPILImage', 'dtype': 'float32', 'scale': True}, {'type': 'ConvertBoxes', 'fmt': 'cxcywh', 'normalize': True}], 'policy': {'name': 'stop_epoch', 'epoch': [4, 64, 120], 'ops': ['Mosaic', 'RandomPhotometricDistort', 'RandomZoomOut', 'RandomIoUCrop']}, 'mosaic_prob': 0.5}}, 'shuffle': True, 'num_workers': 4, 'drop_last': True, 'collate_fn': {'type': 'BatchImageCollateFunction', 'base_size': 640, 'base_size_repeat': 20, 'stop_epoch': 120, 'ema_restart_decay': 0.9999, 'mixup_prob': 0.5, 'mixup_epochs': [4, 64]}, 'total_batch_size': 16}, 'val_dataloader': {'type': 'DataLoader', 'dataset': {'type': 'CocoDetection', 'img_folder': '/home/dnth/Desktop/DEIM/dataset/images/valid', 'ann_file': '/home/dnth/Desktop/DEIM/dataset/images/annotations/instances_val.json', 'return_masks': False, 'transforms': {'type': 'Compose', 'ops': [{'type': 'Resize', 'size': [640, 640]}, {'type': 'ConvertPILImage', 'dtype': 'float32', 'scale': True}]}}, 'shuffle': False, 'num_workers': 4, 'drop_last': False, 'collate_fn': {'type': 'BatchImageCollateFunction'}, 'total_batch_size': 16}, 'print_freq': 100, 'output_dir': './outputs/deim_hgnetv2_s_coco', 'checkpoint_freq': 4, 'sync_bn': True, 'find_unused_parameters': False, 'use_amp': True, 'scaler': {'type': 'GradScaler', 'enabled': True}, 'use_ema': True, 'ema': {'type': 'ModelEMA', 'decay': 0.9999, 'warmups': 1000, 'start': 0}, 'epoches': 132, 'clip_max_norm': 0.1, 'optimizer': {'type': 'AdamW', 'params': [{'params': '^(?=.*backbone)(?!.*bn).*$', 'lr': 0.0002}, {'params': '^(?=.*(?:norm|bn)).*$', 'weight_decay': 0.0}], 'lr': 0.0004, 'betas': [0.9, 0.999], 'weight_decay': 0.0001}, 'lr_scheduler': {'type': 'MultiStepLR', 'milestones': [500], 'gamma': 0.1}, 'lr_warmup_scheduler': {'type': 'LinearWarmup', 'warmup_duration': 500}, 'model': 'DEIM', 'criterion': 'DEIMCriterion', 'postprocessor': 'PostProcessor', 'use_focal_loss': True, 'eval_spatial_size': [640, 640], 'DEIM': {'backbone': 'HGNetv2', 'encoder': 'HybridEncoder', 'decoder': 'DFINETransformer'}, 'lrsheduler': 'flatcosine', 'lr_gamma': 0.5, 'warmup_iter': 2000, 'flat_epoch': 64, 'no_aug_epoch': 12, 'HGNetv2': {'pretrained': True, 'local_model_dir': '../RT-DETR-main/D-FINE/weight/hgnetv2/', 'name': 'B0', 'return_idx': [1, 2, 3], 'freeze_at': -1, 'freeze_norm': False, 'use_lab': True}, 'HybridEncoder': {'in_channels': [256, 512, 1024], 'feat_strides': [8, 16, 32], 'hidden_dim': 256, 'use_encoder_idx': [2], 'num_encoder_layers': 1, 'nhead': 8, 'dim_feedforward': 1024, 'dropout': 0.0, 'enc_act': 'gelu', 'expansion': 0.5, 'depth_mult': 0.34, 'act': 'silu'}, 'DFINETransformer': {'feat_channels': [256, 256, 256], 'feat_strides': [8, 16, 32], 'hidden_dim': 256, 'num_levels': 3, 'num_layers': 3, 'eval_idx': -1, 'num_queries': 300, 'num_denoising': 100, 'label_noise_ratio': 0.5, 'box_noise_scale': 1.0, 'reg_max': 32, 'reg_scale': 4, 'layer_scale': 1, 'num_points': [3, 6, 3], 'cross_attn_method': 'default', 'query_select_method': 'default', 'activation': 'silu', 'mlp_act': 'silu'}, 'PostProcessor': {'num_top_queries': 300}, 'DEIMCriterion': {'weight_dict': {'loss_vfl': 1, 'loss_bbox': 5, 'loss_giou': 2, 'loss_fgl': 0.15, 'loss_ddf': 1.5, 'loss_mal': 1}, 'losses': ['mal', 'boxes', 'local'], 'alpha': 0.75, 'gamma': 1.5, 'reg_max': 32, 'matcher': {'type': 'HungarianMatcher', 'weight_dict': {'cost_class': 2, 'cost_bbox': 5, 'cost_giou': 2}, 'alpha': 0.25, 'gamma': 2.0}}, '__include__': ['./dfine_hgnetv2_s_coco.yml', '../base/deim.yml']}"
      ]
     },
     "execution_count": 6,
     "metadata": {},
     "output_type": "execute_result"
    }
   ],
   "source": [
    "conf.save('my_train_config.yml')"
   ]
  },
  {
   "cell_type": "code",
   "execution_count": 7,
   "metadata": {},
   "outputs": [
    {
     "name": "stderr",
     "output_type": "stream",
     "text": [
      "2025-03-10 14:50:18,680 - DEIMTrainer - INFO - Initializing process group for single-process training\n",
      "2025-03-10 14:50:18,683 - DEIMTrainer - INFO - Process group initialized successfully\n",
      "2025-03-10 14:50:18,683 - DEIMTrainer - INFO - Starting training...\n",
      "2025-03-10 14:50:18,684 - DEIMTrainer - INFO - Setting HGNetv2 pretrained to False to avoid distributed issues\n",
      "2025-03-10 14:50:18,684 - DEIMTrainer - INFO - Disabling sync_bn and find_unused_parameters for single-process training\n",
      "2025-03-10 14:50:18,684 - DEIMTrainer - INFO - Initializing solver for task: detection\n",
      "/home/dnth/Desktop/DEIMKit/src/deimkit/engine/core/workspace.py:180: FutureWarning: `torch.cuda.amp.GradScaler(args...)` is deprecated. Please use `torch.amp.GradScaler('cuda', args...)` instead.\n",
      "  return module(**module_kwargs)\n",
      "2025-03-10 14:50:19,089 - DEIMTrainer - INFO - Training setup complete. Output directory: outputs/deim_hgnetv2_s_coco\n",
      "2025-03-10 14:50:19,091 - DEIMTrainer - INFO - Number of trainable parameters: 10224291\n",
      "2025-03-10 14:50:19,091 - DEIMTrainer - INFO - Using custom scheduler: flatcosine\n"
     ]
    },
    {
     "name": "stdout",
     "output_type": "stream",
     "text": [
      "Initial lr: [0.0002, 0.0004, 0.0004]\n",
      "building train_dataloader with batch_size=16...\n",
      "     ### Transform @Mosaic ###    \n",
      "     ### Transform @RandomPhotometricDistort ###    \n",
      "     ### Transform @RandomZoomOut ###    \n",
      "     ### Transform @RandomIoUCrop ###    \n",
      "     ### Transform @SanitizeBoundingBoxes ###    \n",
      "     ### Transform @RandomHorizontalFlip ###    \n",
      "     ### Transform @Resize ###    \n",
      "     ### Transform @SanitizeBoundingBoxes ###    \n",
      "     ### Transform @ConvertPILImage ###    \n",
      "     ### Transform @ConvertBoxes ###    \n",
      "     ### Mosaic with Prob.@0.5 and ZoomOut/IoUCrop existed ### \n",
      "     ### ImgTransforms Epochs: [4, 64, 120] ### \n",
      "     ### Policy_ops@['Mosaic', 'RandomPhotometricDistort', 'RandomZoomOut', 'RandomIoUCrop'] ###\n",
      "     ### Using MixUp with Prob@0.5 in [4, 64] epochs ### \n",
      "     ### Multi-scale Training until 120 epochs ### \n",
      "     ### Multi-scales@ [480, 512, 544, 576, 608, 640, 640, 640, 640, 640, 640, 640, 640, 640, 640, 640, 640, 640, 640, 640, 640, 640, 640, 640, 640, 800, 768, 736, 704, 672] ###        \n",
      "building val_dataloader with batch_size=16...\n",
      "     ### Transform @Resize ###    \n",
      "     ### Transform @ConvertPILImage ###    \n",
      "[0.0002, 0.0004, 0.0004] [0.0001, 0.0002, 0.0002] 1980 2000 960 180\n",
      "Epoch: [0]  [ 0/15]  eta: 0:00:26  lr: 0.000000  loss: 36.0918 (36.0918)  loss_mal: 0.5435 (0.5435)  loss_bbox: 1.4141 (1.4141)  loss_giou: 1.7553 (1.7553)  loss_fgl: 0.3575 (0.3575)  loss_mal_aux_0: 0.5371 (0.5371)  loss_bbox_aux_0: 1.4141 (1.4141)  loss_giou_aux_0: 1.7553 (1.7553)  loss_fgl_aux_0: 0.3575 (0.3575)  loss_mal_aux_1: 0.5747 (0.5747)  loss_bbox_aux_1: 1.4141 (1.4141)  loss_giou_aux_1: 1.7553 (1.7553)  loss_fgl_aux_1: 0.3575 (0.3575)  loss_mal_pre: 0.5371 (0.5371)  loss_bbox_pre: 1.4141 (1.4141)  loss_giou_pre: 1.7553 (1.7553)  loss_mal_enc_0: 0.4548 (0.4548)  loss_bbox_enc_0: 1.4141 (1.4141)  loss_giou_enc_0: 1.7553 (1.7553)  loss_mal_dn_0: 1.2578 (1.2578)  loss_bbox_dn_0: 0.9078 (0.9078)  loss_giou_dn_0: 1.3602 (1.3602)  loss_fgl_dn_0: 0.8251 (0.8251)  loss_mal_dn_1: 1.1992 (1.1992)  loss_bbox_dn_1: 0.9078 (0.9078)  loss_giou_dn_1: 1.3602 (1.3602)  loss_fgl_dn_1: 0.8251 (0.8251)  loss_mal_dn_2: 1.2627 (1.2627)  loss_bbox_dn_2: 0.9078 (0.9078)  loss_giou_dn_2: 1.3602 (1.3602)  loss_fgl_dn_2: 0.8251 (0.8251)  loss_mal_dn_pre: 1.2578 (1.2578)  loss_bbox_dn_pre: 0.9078 (0.9078)  loss_giou_dn_pre: 1.3602 (1.3602)  time: 1.7817  data: 0.5682  max mem: 5264\n"
     ]
    },
    {
     "name": "stderr",
     "output_type": "stream",
     "text": [
      "2025-03-10 14:50:26,467 - DEIMTrainer - INFO - Evaluating model...\n"
     ]
    },
    {
     "name": "stdout",
     "output_type": "stream",
     "text": [
      "Epoch: [0]  [14/15]  eta: 0:00:00  lr: 0.000000  loss: 36.2188 (36.2868)  loss_mal: 0.5938 (0.5910)  loss_bbox: 1.3787 (1.3987)  loss_giou: 1.7333 (1.7358)  loss_fgl: 0.3694 (0.3687)  loss_mal_aux_0: 0.5742 (0.5771)  loss_bbox_aux_0: 1.3787 (1.3987)  loss_giou_aux_0: 1.7333 (1.7358)  loss_fgl_aux_0: 0.3694 (0.3687)  loss_mal_aux_1: 0.6147 (0.6094)  loss_bbox_aux_1: 1.3787 (1.3987)  loss_giou_aux_1: 1.7333 (1.7358)  loss_fgl_aux_1: 0.3694 (0.3687)  loss_mal_pre: 0.5742 (0.5771)  loss_bbox_pre: 1.3787 (1.3987)  loss_giou_pre: 1.7333 (1.7358)  loss_mal_enc_0: 0.5059 (0.5021)  loss_bbox_enc_0: 1.3787 (1.3987)  loss_giou_enc_0: 1.7333 (1.7358)  loss_mal_dn_0: 1.2773 (1.2798)  loss_bbox_dn_0: 0.9199 (0.9197)  loss_giou_dn_0: 1.3453 (1.3449)  loss_fgl_dn_0: 0.8394 (0.8396)  loss_mal_dn_1: 1.2188 (1.2216)  loss_bbox_dn_1: 0.9199 (0.9197)  loss_giou_dn_1: 1.3453 (1.3449)  loss_fgl_dn_1: 0.8394 (0.8396)  loss_mal_dn_2: 1.2939 (1.2933)  loss_bbox_dn_2: 0.9199 (0.9197)  loss_giou_dn_2: 1.3453 (1.3449)  loss_fgl_dn_2: 0.8394 (0.8396)  loss_mal_dn_pre: 1.2773 (1.2798)  loss_bbox_dn_pre: 0.9199 (0.9197)  loss_giou_dn_pre: 1.3453 (1.3449)  loss_ddf_aux_0: 0.0000 (0.0000)  loss_ddf_aux_1: 0.0000 (0.0000)  loss_ddf_dn_0: 0.0000 (0.0000)  loss_ddf_dn_1: 0.0000 (0.0000)  time: 0.4887  data: 0.0532  max mem: 9805\n",
      "Epoch: [0] Total time: 0:00:07 (0.4905 s / it)\n",
      "Averaged stats: lr: 0.000000  loss: 36.2188 (36.2868)  loss_mal: 0.5938 (0.5910)  loss_bbox: 1.3787 (1.3987)  loss_giou: 1.7333 (1.7358)  loss_fgl: 0.3694 (0.3687)  loss_mal_aux_0: 0.5742 (0.5771)  loss_bbox_aux_0: 1.3787 (1.3987)  loss_giou_aux_0: 1.7333 (1.7358)  loss_fgl_aux_0: 0.3694 (0.3687)  loss_mal_aux_1: 0.6147 (0.6094)  loss_bbox_aux_1: 1.3787 (1.3987)  loss_giou_aux_1: 1.7333 (1.7358)  loss_fgl_aux_1: 0.3694 (0.3687)  loss_mal_pre: 0.5742 (0.5771)  loss_bbox_pre: 1.3787 (1.3987)  loss_giou_pre: 1.7333 (1.7358)  loss_mal_enc_0: 0.5059 (0.5021)  loss_bbox_enc_0: 1.3787 (1.3987)  loss_giou_enc_0: 1.7333 (1.7358)  loss_mal_dn_0: 1.2773 (1.2798)  loss_bbox_dn_0: 0.9199 (0.9197)  loss_giou_dn_0: 1.3453 (1.3449)  loss_fgl_dn_0: 0.8394 (0.8396)  loss_mal_dn_1: 1.2188 (1.2216)  loss_bbox_dn_1: 0.9199 (0.9197)  loss_giou_dn_1: 1.3453 (1.3449)  loss_fgl_dn_1: 0.8394 (0.8396)  loss_mal_dn_2: 1.2939 (1.2933)  loss_bbox_dn_2: 0.9199 (0.9197)  loss_giou_dn_2: 1.3453 (1.3449)  loss_fgl_dn_2: 0.8394 (0.8396)  loss_mal_dn_pre: 1.2773 (1.2798)  loss_bbox_dn_pre: 0.9199 (0.9197)  loss_giou_dn_pre: 1.3453 (1.3449)  loss_ddf_aux_0: 0.0000 (0.0000)  loss_ddf_aux_1: 0.0000 (0.0000)  loss_ddf_dn_0: 0.0000 (0.0000)  loss_ddf_dn_1: 0.0000 (0.0000)\n",
      "Test:  [0/5]  eta: 0:00:03    time: 0.7483  data: 0.5735  max mem: 9805\n"
     ]
    },
    {
     "name": "stderr",
     "output_type": "stream",
     "text": [
      "2025-03-10 14:50:27,735 - DEIMTrainer - INFO - Epoch 0 - Train loss: 36.2868, Eval mAP: 0.0000\n",
      "2025-03-10 14:50:27,735 - DEIMTrainer - INFO - Best stats: {'epoch': 0, 'coco_eval_bbox': 0.0}\n"
     ]
    },
    {
     "name": "stdout",
     "output_type": "stream",
     "text": [
      "Test:  [4/5]  eta: 0:00:00    time: 0.2418  data: 0.1314  max mem: 9805\n",
      "Test: Total time: 0:00:01 (0.2511 s / it)\n",
      "Averaged stats: \n",
      "Accumulating evaluation results...\n",
      "COCOeval_opt.accumulate() finished...\n",
      "DONE (t=0.00s).\n",
      "IoU metric: bbox\n",
      " Average Precision  (AP) @[ IoU=0.50:0.95 | area=   all | maxDets=100 ] = 0.000\n",
      " Average Precision  (AP) @[ IoU=0.50      | area=   all | maxDets=100 ] = 0.000\n",
      " Average Precision  (AP) @[ IoU=0.75      | area=   all | maxDets=100 ] = 0.000\n",
      " Average Precision  (AP) @[ IoU=0.50:0.95 | area= small | maxDets=100 ] = 0.000\n",
      " Average Precision  (AP) @[ IoU=0.50:0.95 | area=medium | maxDets=100 ] = 0.000\n",
      " Average Precision  (AP) @[ IoU=0.50:0.95 | area= large | maxDets=100 ] = 0.000\n",
      " Average Recall     (AR) @[ IoU=0.50:0.95 | area=   all | maxDets=  1 ] = 0.000\n",
      " Average Recall     (AR) @[ IoU=0.50:0.95 | area=   all | maxDets= 10 ] = 0.000\n",
      " Average Recall     (AR) @[ IoU=0.50:0.95 | area=   all | maxDets=100 ] = 0.000\n",
      " Average Recall     (AR) @[ IoU=0.50:0.95 | area= small | maxDets=100 ] = 0.000\n",
      " Average Recall     (AR) @[ IoU=0.50:0.95 | area=medium | maxDets=100 ] = 0.000\n",
      " Average Recall     (AR) @[ IoU=0.50:0.95 | area= large | maxDets=100 ] = 0.000\n",
      " Average Recall     (AR) @[ IoU=0.50      | area=   all | maxDets=100 ] = 0.000\n",
      " Average Recall     (AR) @[ IoU=0.75      | area=   all | maxDets=100 ] = 0.000\n",
      "================================================\n",
      "{'coco_eval_bbox': [0.0, 0.0, 0.0, 0.0, 0.0, 0.0, 0.0, 0.0, 0.0, 0.0, 0.0, 0.0]}\n",
      "================================================\n",
      "Epoch: [1]  [ 0/15]  eta: 0:00:17  lr: 0.000000  loss: 35.8151 (35.8151)  loss_mal: 0.6523 (0.6523)  loss_bbox: 1.2985 (1.2985)  loss_giou: 1.7064 (1.7064)  loss_fgl: 0.4082 (0.4082)  loss_mal_aux_0: 0.6465 (0.6465)  loss_bbox_aux_0: 1.2985 (1.2985)  loss_giou_aux_0: 1.7064 (1.7064)  loss_fgl_aux_0: 0.4082 (0.4082)  loss_ddf_aux_0: 0.0000 (0.0000)  loss_mal_aux_1: 0.6626 (0.6626)  loss_bbox_aux_1: 1.2985 (1.2985)  loss_giou_aux_1: 1.7064 (1.7064)  loss_fgl_aux_1: 0.4082 (0.4082)  loss_ddf_aux_1: 0.0000 (0.0000)  loss_mal_pre: 0.6465 (0.6465)  loss_bbox_pre: 1.2985 (1.2985)  loss_giou_pre: 1.7064 (1.7064)  loss_mal_enc_0: 0.5664 (0.5664)  loss_bbox_enc_0: 1.2985 (1.2985)  loss_giou_enc_0: 1.7064 (1.7064)  loss_mal_dn_0: 1.2344 (1.2344)  loss_bbox_dn_0: 0.8939 (0.8939)  loss_giou_dn_0: 1.3631 (1.3631)  loss_fgl_dn_0: 0.8207 (0.8207)  loss_ddf_dn_0: 0.0000 (0.0000)  loss_mal_dn_1: 1.1816 (1.1816)  loss_bbox_dn_1: 0.8939 (0.8939)  loss_giou_dn_1: 1.3631 (1.3631)  loss_fgl_dn_1: 0.8207 (0.8207)  loss_ddf_dn_1: 0.0000 (0.0000)  loss_mal_dn_2: 1.2510 (1.2510)  loss_bbox_dn_2: 0.8939 (0.8939)  loss_giou_dn_2: 1.3631 (1.3631)  loss_fgl_dn_2: 0.8207 (0.8207)  loss_mal_dn_pre: 1.2344 (1.2344)  loss_bbox_dn_pre: 0.8939 (0.8939)  loss_giou_dn_pre: 1.3631 (1.3631)  time: 1.1870  data: 0.6352  max mem: 9805\n"
     ]
    },
    {
     "name": "stderr",
     "output_type": "stream",
     "text": [
      "2025-03-10 14:50:34,497 - DEIMTrainer - INFO - Evaluating model...\n"
     ]
    },
    {
     "name": "stdout",
     "output_type": "stream",
     "text": [
      "Epoch: [1]  [14/15]  eta: 0:00:00  lr: 0.000000  loss: 36.2892 (36.2593)  loss_mal: 0.6084 (0.6033)  loss_bbox: 1.3812 (1.3829)  loss_giou: 1.7348 (1.7314)  loss_fgl: 0.3724 (0.3778)  loss_mal_aux_0: 0.5835 (0.5878)  loss_bbox_aux_0: 1.3812 (1.3829)  loss_giou_aux_0: 1.7348 (1.7314)  loss_fgl_aux_0: 0.3724 (0.3778)  loss_ddf_aux_0: 0.0000 (0.0000)  loss_mal_aux_1: 0.6216 (0.6203)  loss_bbox_aux_1: 1.3812 (1.3829)  loss_giou_aux_1: 1.7348 (1.7314)  loss_fgl_aux_1: 0.3724 (0.3778)  loss_ddf_aux_1: 0.0000 (0.0000)  loss_mal_pre: 0.5835 (0.5878)  loss_bbox_pre: 1.3812 (1.3829)  loss_giou_pre: 1.7348 (1.7314)  loss_mal_enc_0: 0.5142 (0.5179)  loss_bbox_enc_0: 1.3812 (1.3829)  loss_giou_enc_0: 1.7348 (1.7314)  loss_mal_dn_0: 1.2793 (1.2738)  loss_bbox_dn_0: 0.9248 (0.9200)  loss_giou_dn_0: 1.3491 (1.3477)  loss_fgl_dn_0: 0.8392 (0.8385)  loss_ddf_dn_0: 0.0000 (0.0000)  loss_mal_dn_1: 1.2207 (1.2174)  loss_bbox_dn_1: 0.9248 (0.9200)  loss_giou_dn_1: 1.3491 (1.3477)  loss_fgl_dn_1: 0.8392 (0.8385)  loss_ddf_dn_1: 0.0000 (0.0000)  loss_mal_dn_2: 1.2832 (1.2857)  loss_bbox_dn_2: 0.9248 (0.9200)  loss_giou_dn_2: 1.3491 (1.3477)  loss_fgl_dn_2: 0.8392 (0.8385)  loss_mal_dn_pre: 1.2793 (1.2738)  loss_bbox_dn_pre: 0.9248 (0.9200)  loss_giou_dn_pre: 1.3491 (1.3477)  time: 0.4451  data: 0.0615  max mem: 9805\n",
      "Epoch: [1] Total time: 0:00:06 (0.4494 s / it)\n",
      "Averaged stats: lr: 0.000000  loss: 36.2892 (36.2593)  loss_mal: 0.6084 (0.6033)  loss_bbox: 1.3812 (1.3829)  loss_giou: 1.7348 (1.7314)  loss_fgl: 0.3724 (0.3778)  loss_mal_aux_0: 0.5835 (0.5878)  loss_bbox_aux_0: 1.3812 (1.3829)  loss_giou_aux_0: 1.7348 (1.7314)  loss_fgl_aux_0: 0.3724 (0.3778)  loss_ddf_aux_0: 0.0000 (0.0000)  loss_mal_aux_1: 0.6216 (0.6203)  loss_bbox_aux_1: 1.3812 (1.3829)  loss_giou_aux_1: 1.7348 (1.7314)  loss_fgl_aux_1: 0.3724 (0.3778)  loss_ddf_aux_1: 0.0000 (0.0000)  loss_mal_pre: 0.5835 (0.5878)  loss_bbox_pre: 1.3812 (1.3829)  loss_giou_pre: 1.7348 (1.7314)  loss_mal_enc_0: 0.5142 (0.5179)  loss_bbox_enc_0: 1.3812 (1.3829)  loss_giou_enc_0: 1.7348 (1.7314)  loss_mal_dn_0: 1.2793 (1.2738)  loss_bbox_dn_0: 0.9248 (0.9200)  loss_giou_dn_0: 1.3491 (1.3477)  loss_fgl_dn_0: 0.8392 (0.8385)  loss_ddf_dn_0: 0.0000 (0.0000)  loss_mal_dn_1: 1.2207 (1.2174)  loss_bbox_dn_1: 0.9248 (0.9200)  loss_giou_dn_1: 1.3491 (1.3477)  loss_fgl_dn_1: 0.8392 (0.8385)  loss_ddf_dn_1: 0.0000 (0.0000)  loss_mal_dn_2: 1.2832 (1.2857)  loss_bbox_dn_2: 0.9248 (0.9200)  loss_giou_dn_2: 1.3491 (1.3477)  loss_fgl_dn_2: 0.8392 (0.8385)  loss_mal_dn_pre: 1.2793 (1.2738)  loss_bbox_dn_pre: 0.9248 (0.9200)  loss_giou_dn_pre: 1.3491 (1.3477)\n",
      "Test:  [0/5]  eta: 0:00:04    time: 0.8814  data: 0.6201  max mem: 9805\n"
     ]
    },
    {
     "name": "stderr",
     "output_type": "stream",
     "text": [
      "2025-03-10 14:50:35,862 - DEIMTrainer - INFO - Epoch 1 - Train loss: 36.2593, Eval mAP: 0.0000\n",
      "2025-03-10 14:50:35,863 - DEIMTrainer - INFO - Best stats: {'epoch': 0, 'coco_eval_bbox': 0.0}\n"
     ]
    },
    {
     "name": "stdout",
     "output_type": "stream",
     "text": [
      "Test:  [4/5]  eta: 0:00:00    time: 0.2597  data: 0.1351  max mem: 9805\n",
      "Test: Total time: 0:00:01 (0.2700 s / it)\n",
      "Averaged stats: \n",
      "Accumulating evaluation results...\n",
      "COCOeval_opt.accumulate() finished...\n",
      "DONE (t=0.00s).\n",
      "IoU metric: bbox\n",
      " Average Precision  (AP) @[ IoU=0.50:0.95 | area=   all | maxDets=100 ] = 0.000\n",
      " Average Precision  (AP) @[ IoU=0.50      | area=   all | maxDets=100 ] = 0.000\n",
      " Average Precision  (AP) @[ IoU=0.75      | area=   all | maxDets=100 ] = 0.000\n",
      " Average Precision  (AP) @[ IoU=0.50:0.95 | area= small | maxDets=100 ] = 0.000\n",
      " Average Precision  (AP) @[ IoU=0.50:0.95 | area=medium | maxDets=100 ] = 0.000\n",
      " Average Precision  (AP) @[ IoU=0.50:0.95 | area= large | maxDets=100 ] = 0.000\n",
      " Average Recall     (AR) @[ IoU=0.50:0.95 | area=   all | maxDets=  1 ] = 0.000\n",
      " Average Recall     (AR) @[ IoU=0.50:0.95 | area=   all | maxDets= 10 ] = 0.000\n",
      " Average Recall     (AR) @[ IoU=0.50:0.95 | area=   all | maxDets=100 ] = 0.000\n",
      " Average Recall     (AR) @[ IoU=0.50:0.95 | area= small | maxDets=100 ] = 0.000\n",
      " Average Recall     (AR) @[ IoU=0.50:0.95 | area=medium | maxDets=100 ] = 0.000\n",
      " Average Recall     (AR) @[ IoU=0.50:0.95 | area= large | maxDets=100 ] = 0.000\n",
      " Average Recall     (AR) @[ IoU=0.50      | area=   all | maxDets=100 ] = 0.000\n",
      " Average Recall     (AR) @[ IoU=0.75      | area=   all | maxDets=100 ] = 0.000\n",
      "================================================\n",
      "{'coco_eval_bbox': [0.0, 0.0, 0.0, 0.0, 0.0, 0.0, 0.0, 0.0, 0.0, 0.0, 0.0, 0.0]}\n",
      "================================================\n",
      "Epoch: [2]  [ 0/15]  eta: 0:00:19  lr: 0.000000  loss: 35.8913 (35.8913)  loss_mal: 0.5356 (0.5356)  loss_bbox: 1.4050 (1.4050)  loss_giou: 1.7505 (1.7505)  loss_fgl: 0.3510 (0.3510)  loss_mal_aux_0: 0.5283 (0.5283)  loss_bbox_aux_0: 1.4050 (1.4050)  loss_giou_aux_0: 1.7505 (1.7505)  loss_fgl_aux_0: 0.3510 (0.3510)  loss_ddf_aux_0: 0.0000 (0.0000)  loss_mal_aux_1: 0.5532 (0.5532)  loss_bbox_aux_1: 1.4050 (1.4050)  loss_giou_aux_1: 1.7505 (1.7505)  loss_fgl_aux_1: 0.3510 (0.3510)  loss_ddf_aux_1: 0.0000 (0.0000)  loss_mal_pre: 0.5283 (0.5283)  loss_bbox_pre: 1.4050 (1.4050)  loss_giou_pre: 1.7505 (1.7505)  loss_mal_enc_0: 0.4507 (0.4507)  loss_bbox_enc_0: 1.4050 (1.4050)  loss_giou_enc_0: 1.7505 (1.7505)  loss_mal_dn_0: 1.2324 (1.2324)  loss_bbox_dn_0: 0.9113 (0.9113)  loss_giou_dn_0: 1.3671 (1.3671)  loss_fgl_dn_0: 0.8200 (0.8200)  loss_ddf_dn_0: 0.0000 (0.0000)  loss_mal_dn_1: 1.1768 (1.1768)  loss_bbox_dn_1: 0.9113 (0.9113)  loss_giou_dn_1: 1.3671 (1.3671)  loss_fgl_dn_1: 0.8200 (0.8200)  loss_ddf_dn_1: 0.0000 (0.0000)  loss_mal_dn_2: 1.2500 (1.2500)  loss_bbox_dn_2: 0.9113 (0.9113)  loss_giou_dn_2: 1.3671 (1.3671)  loss_fgl_dn_2: 0.8200 (0.8200)  loss_mal_dn_pre: 1.2324 (1.2324)  loss_bbox_dn_pre: 0.9113 (0.9113)  loss_giou_dn_pre: 1.3671 (1.3671)  time: 1.2730  data: 0.7639  max mem: 9805\n"
     ]
    },
    {
     "name": "stderr",
     "output_type": "stream",
     "text": [
      "2025-03-10 14:50:42,556 - DEIMTrainer - INFO - Evaluating model...\n"
     ]
    },
    {
     "name": "stdout",
     "output_type": "stream",
     "text": [
      "Epoch: [2]  [14/15]  eta: 0:00:00  lr: 0.000000  loss: 36.1880 (36.2512)  loss_mal: 0.5830 (0.5826)  loss_bbox: 1.4050 (1.4071)  loss_giou: 1.7456 (1.7350)  loss_fgl: 0.3575 (0.3677)  loss_mal_aux_0: 0.5796 (0.5738)  loss_bbox_aux_0: 1.4050 (1.4071)  loss_giou_aux_0: 1.7456 (1.7350)  loss_fgl_aux_0: 0.3575 (0.3677)  loss_ddf_aux_0: 0.0000 (0.0000)  loss_mal_aux_1: 0.5918 (0.5954)  loss_bbox_aux_1: 1.4050 (1.4071)  loss_giou_aux_1: 1.7456 (1.7350)  loss_fgl_aux_1: 0.3575 (0.3677)  loss_ddf_aux_1: 0.0000 (0.0000)  loss_mal_pre: 0.5796 (0.5738)  loss_bbox_pre: 1.4050 (1.4071)  loss_giou_pre: 1.7456 (1.7350)  loss_mal_enc_0: 0.4897 (0.4912)  loss_bbox_enc_0: 1.4050 (1.4071)  loss_giou_enc_0: 1.7456 (1.7350)  loss_mal_dn_0: 1.2812 (1.2715)  loss_bbox_dn_0: 0.9186 (0.9190)  loss_giou_dn_0: 1.3434 (1.3485)  loss_fgl_dn_0: 0.8417 (0.8368)  loss_ddf_dn_0: 0.0000 (0.0000)  loss_mal_dn_1: 1.2256 (1.2142)  loss_bbox_dn_1: 0.9186 (0.9190)  loss_giou_dn_1: 1.3434 (1.3485)  loss_fgl_dn_1: 0.8417 (0.8368)  loss_ddf_dn_1: 0.0000 (0.0000)  loss_mal_dn_2: 1.2910 (1.2829)  loss_bbox_dn_2: 0.9186 (0.9190)  loss_giou_dn_2: 1.3434 (1.3485)  loss_fgl_dn_2: 0.8417 (0.8368)  loss_mal_dn_pre: 1.2812 (1.2715)  loss_bbox_dn_pre: 0.9186 (0.9190)  loss_giou_dn_pre: 1.3434 (1.3485)  time: 0.4411  data: 0.0660  max mem: 9805\n",
      "Epoch: [2] Total time: 0:00:06 (0.4448 s / it)\n",
      "Averaged stats: lr: 0.000000  loss: 36.1880 (36.2512)  loss_mal: 0.5830 (0.5826)  loss_bbox: 1.4050 (1.4071)  loss_giou: 1.7456 (1.7350)  loss_fgl: 0.3575 (0.3677)  loss_mal_aux_0: 0.5796 (0.5738)  loss_bbox_aux_0: 1.4050 (1.4071)  loss_giou_aux_0: 1.7456 (1.7350)  loss_fgl_aux_0: 0.3575 (0.3677)  loss_ddf_aux_0: 0.0000 (0.0000)  loss_mal_aux_1: 0.5918 (0.5954)  loss_bbox_aux_1: 1.4050 (1.4071)  loss_giou_aux_1: 1.7456 (1.7350)  loss_fgl_aux_1: 0.3575 (0.3677)  loss_ddf_aux_1: 0.0000 (0.0000)  loss_mal_pre: 0.5796 (0.5738)  loss_bbox_pre: 1.4050 (1.4071)  loss_giou_pre: 1.7456 (1.7350)  loss_mal_enc_0: 0.4897 (0.4912)  loss_bbox_enc_0: 1.4050 (1.4071)  loss_giou_enc_0: 1.7456 (1.7350)  loss_mal_dn_0: 1.2812 (1.2715)  loss_bbox_dn_0: 0.9186 (0.9190)  loss_giou_dn_0: 1.3434 (1.3485)  loss_fgl_dn_0: 0.8417 (0.8368)  loss_ddf_dn_0: 0.0000 (0.0000)  loss_mal_dn_1: 1.2256 (1.2142)  loss_bbox_dn_1: 0.9186 (0.9190)  loss_giou_dn_1: 1.3434 (1.3485)  loss_fgl_dn_1: 0.8417 (0.8368)  loss_ddf_dn_1: 0.0000 (0.0000)  loss_mal_dn_2: 1.2910 (1.2829)  loss_bbox_dn_2: 0.9186 (0.9190)  loss_giou_dn_2: 1.3434 (1.3485)  loss_fgl_dn_2: 0.8417 (0.8368)  loss_mal_dn_pre: 1.2812 (1.2715)  loss_bbox_dn_pre: 0.9186 (0.9190)  loss_giou_dn_pre: 1.3434 (1.3485)\n",
      "Test:  [0/5]  eta: 0:00:04    time: 0.9365  data: 0.6642  max mem: 9805\n"
     ]
    },
    {
     "name": "stderr",
     "output_type": "stream",
     "text": [
      "2025-03-10 14:50:43,986 - DEIMTrainer - INFO - Epoch 2 - Train loss: 36.2512, Eval mAP: 0.0000\n",
      "2025-03-10 14:50:43,986 - DEIMTrainer - INFO - Best stats: {'epoch': 0, 'coco_eval_bbox': 0.0}\n"
     ]
    },
    {
     "name": "stdout",
     "output_type": "stream",
     "text": [
      "Test:  [4/5]  eta: 0:00:00    time: 0.2722  data: 0.1416  max mem: 9805\n",
      "Test: Total time: 0:00:01 (0.2816 s / it)\n",
      "Averaged stats: \n",
      "Accumulating evaluation results...\n",
      "COCOeval_opt.accumulate() finished...\n",
      "DONE (t=0.01s).\n",
      "IoU metric: bbox\n",
      " Average Precision  (AP) @[ IoU=0.50:0.95 | area=   all | maxDets=100 ] = 0.000\n",
      " Average Precision  (AP) @[ IoU=0.50      | area=   all | maxDets=100 ] = 0.000\n",
      " Average Precision  (AP) @[ IoU=0.75      | area=   all | maxDets=100 ] = 0.000\n",
      " Average Precision  (AP) @[ IoU=0.50:0.95 | area= small | maxDets=100 ] = 0.000\n",
      " Average Precision  (AP) @[ IoU=0.50:0.95 | area=medium | maxDets=100 ] = 0.000\n",
      " Average Precision  (AP) @[ IoU=0.50:0.95 | area= large | maxDets=100 ] = 0.000\n",
      " Average Recall     (AR) @[ IoU=0.50:0.95 | area=   all | maxDets=  1 ] = 0.000\n",
      " Average Recall     (AR) @[ IoU=0.50:0.95 | area=   all | maxDets= 10 ] = 0.000\n",
      " Average Recall     (AR) @[ IoU=0.50:0.95 | area=   all | maxDets=100 ] = 0.000\n",
      " Average Recall     (AR) @[ IoU=0.50:0.95 | area= small | maxDets=100 ] = 0.000\n",
      " Average Recall     (AR) @[ IoU=0.50:0.95 | area=medium | maxDets=100 ] = 0.000\n",
      " Average Recall     (AR) @[ IoU=0.50:0.95 | area= large | maxDets=100 ] = 0.000\n",
      " Average Recall     (AR) @[ IoU=0.50      | area=   all | maxDets=100 ] = 0.000\n",
      " Average Recall     (AR) @[ IoU=0.75      | area=   all | maxDets=100 ] = 0.000\n",
      "================================================\n",
      "{'coco_eval_bbox': [0.0, 0.0, 0.0, 0.0, 0.0, 0.0, 0.0, 0.0, 0.0, 0.0, 0.0, 0.0]}\n",
      "================================================\n",
      "Epoch: [3]  [ 0/15]  eta: 0:00:19  lr: 0.000000  loss: 35.9503 (35.9503)  loss_mal: 0.5962 (0.5962)  loss_bbox: 1.3347 (1.3347)  loss_giou: 1.7362 (1.7362)  loss_fgl: 0.3748 (0.3748)  loss_mal_aux_0: 0.6108 (0.6108)  loss_bbox_aux_0: 1.3347 (1.3347)  loss_giou_aux_0: 1.7362 (1.7362)  loss_fgl_aux_0: 0.3748 (0.3748)  loss_ddf_aux_0: 0.0000 (0.0000)  loss_mal_aux_1: 0.6138 (0.6138)  loss_bbox_aux_1: 1.3347 (1.3347)  loss_giou_aux_1: 1.7362 (1.7362)  loss_fgl_aux_1: 0.3748 (0.3748)  loss_ddf_aux_1: 0.0000 (0.0000)  loss_mal_pre: 0.6108 (0.6108)  loss_bbox_pre: 1.3347 (1.3347)  loss_giou_pre: 1.7362 (1.7362)  loss_mal_enc_0: 0.5361 (0.5361)  loss_bbox_enc_0: 1.3348 (1.3348)  loss_giou_enc_0: 1.7362 (1.7362)  loss_mal_dn_0: 1.2480 (1.2480)  loss_bbox_dn_0: 0.9109 (0.9109)  loss_giou_dn_0: 1.3605 (1.3605)  loss_fgl_dn_0: 0.8272 (0.8272)  loss_ddf_dn_0: 0.0000 (0.0000)  loss_mal_dn_1: 1.1924 (1.1924)  loss_bbox_dn_1: 0.9109 (0.9109)  loss_giou_dn_1: 1.3605 (1.3605)  loss_fgl_dn_1: 0.8272 (0.8272)  loss_ddf_dn_1: 0.0000 (0.0000)  loss_mal_dn_2: 1.2480 (1.2480)  loss_bbox_dn_2: 0.9109 (0.9109)  loss_giou_dn_2: 1.3605 (1.3605)  loss_fgl_dn_2: 0.8272 (0.8272)  loss_mal_dn_pre: 1.2480 (1.2480)  loss_bbox_dn_pre: 0.9109 (0.9109)  loss_giou_dn_pre: 1.3605 (1.3605)  time: 1.3065  data: 0.7965  max mem: 9805\n"
     ]
    },
    {
     "name": "stderr",
     "output_type": "stream",
     "text": [
      "2025-03-10 14:50:50,679 - DEIMTrainer - INFO - Saving checkpoint to outputs/deim_hgnetv2_s_coco/checkpoint0003.pth\n"
     ]
    },
    {
     "name": "stdout",
     "output_type": "stream",
     "text": [
      "Epoch: [3]  [14/15]  eta: 0:00:00  lr: 0.000000  loss: 36.2434 (36.2267)  loss_mal: 0.5503 (0.5718)  loss_bbox: 1.4083 (1.4135)  loss_giou: 1.7409 (1.7419)  loss_fgl: 0.3632 (0.3633)  loss_mal_aux_0: 0.5391 (0.5591)  loss_bbox_aux_0: 1.4083 (1.4136)  loss_giou_aux_0: 1.7409 (1.7419)  loss_fgl_aux_0: 0.3632 (0.3633)  loss_ddf_aux_0: 0.0000 (0.0000)  loss_mal_aux_1: 0.5762 (0.5839)  loss_bbox_aux_1: 1.4083 (1.4136)  loss_giou_aux_1: 1.7409 (1.7419)  loss_fgl_aux_1: 0.3632 (0.3633)  loss_ddf_aux_1: 0.0000 (0.0000)  loss_mal_pre: 0.5391 (0.5591)  loss_bbox_pre: 1.4083 (1.4136)  loss_giou_pre: 1.7409 (1.7419)  loss_mal_enc_0: 0.4824 (0.4881)  loss_bbox_enc_0: 1.4083 (1.4136)  loss_giou_enc_0: 1.7409 (1.7420)  loss_mal_dn_0: 1.2510 (1.2622)  loss_bbox_dn_0: 0.9240 (0.9227)  loss_giou_dn_0: 1.3530 (1.3521)  loss_fgl_dn_0: 0.8311 (0.8340)  loss_ddf_dn_0: 0.0000 (0.0000)  loss_mal_dn_1: 1.1953 (1.2023)  loss_bbox_dn_1: 0.9240 (0.9227)  loss_giou_dn_1: 1.3530 (1.3521)  loss_fgl_dn_1: 0.8311 (0.8340)  loss_ddf_dn_1: 0.0000 (0.0000)  loss_mal_dn_2: 1.2637 (1.2695)  loss_bbox_dn_2: 0.9240 (0.9226)  loss_giou_dn_2: 1.3530 (1.3521)  loss_fgl_dn_2: 0.8311 (0.8340)  loss_mal_dn_pre: 1.2510 (1.2622)  loss_bbox_dn_pre: 0.9240 (0.9227)  loss_giou_dn_pre: 1.3530 (1.3521)  time: 0.4412  data: 0.0674  max mem: 9805\n",
      "Epoch: [3] Total time: 0:00:06 (0.4448 s / it)\n",
      "Averaged stats: lr: 0.000000  loss: 36.2434 (36.2267)  loss_mal: 0.5503 (0.5718)  loss_bbox: 1.4083 (1.4135)  loss_giou: 1.7409 (1.7419)  loss_fgl: 0.3632 (0.3633)  loss_mal_aux_0: 0.5391 (0.5591)  loss_bbox_aux_0: 1.4083 (1.4136)  loss_giou_aux_0: 1.7409 (1.7419)  loss_fgl_aux_0: 0.3632 (0.3633)  loss_ddf_aux_0: 0.0000 (0.0000)  loss_mal_aux_1: 0.5762 (0.5839)  loss_bbox_aux_1: 1.4083 (1.4136)  loss_giou_aux_1: 1.7409 (1.7419)  loss_fgl_aux_1: 0.3632 (0.3633)  loss_ddf_aux_1: 0.0000 (0.0000)  loss_mal_pre: 0.5391 (0.5591)  loss_bbox_pre: 1.4083 (1.4136)  loss_giou_pre: 1.7409 (1.7419)  loss_mal_enc_0: 0.4824 (0.4881)  loss_bbox_enc_0: 1.4083 (1.4136)  loss_giou_enc_0: 1.7409 (1.7420)  loss_mal_dn_0: 1.2510 (1.2622)  loss_bbox_dn_0: 0.9240 (0.9227)  loss_giou_dn_0: 1.3530 (1.3521)  loss_fgl_dn_0: 0.8311 (0.8340)  loss_ddf_dn_0: 0.0000 (0.0000)  loss_mal_dn_1: 1.1953 (1.2023)  loss_bbox_dn_1: 0.9240 (0.9227)  loss_giou_dn_1: 1.3530 (1.3521)  loss_fgl_dn_1: 0.8311 (0.8340)  loss_ddf_dn_1: 0.0000 (0.0000)  loss_mal_dn_2: 1.2637 (1.2695)  loss_bbox_dn_2: 0.9240 (0.9226)  loss_giou_dn_2: 1.3530 (1.3521)  loss_fgl_dn_2: 0.8311 (0.8340)  loss_mal_dn_pre: 1.2510 (1.2622)  loss_bbox_dn_pre: 0.9240 (0.9227)  loss_giou_dn_pre: 1.3530 (1.3521)\n"
     ]
    },
    {
     "name": "stderr",
     "output_type": "stream",
     "text": [
      "2025-03-10 14:50:50,938 - DEIMTrainer - INFO - Checkpoint saved to outputs/deim_hgnetv2_s_coco/checkpoint0003.pth\n",
      "2025-03-10 14:50:50,940 - DEIMTrainer - INFO - Evaluating model...\n"
     ]
    },
    {
     "name": "stdout",
     "output_type": "stream",
     "text": [
      "Test:  [0/5]  eta: 0:00:04    time: 0.9336  data: 0.6437  max mem: 9805\n"
     ]
    },
    {
     "name": "stderr",
     "output_type": "stream",
     "text": [
      "2025-03-10 14:50:52,491 - DEIMTrainer - INFO - Saving checkpoint to outputs/deim_hgnetv2_s_coco/best.pth\n"
     ]
    },
    {
     "name": "stdout",
     "output_type": "stream",
     "text": [
      "Test:  [4/5]  eta: 0:00:00    time: 0.2931  data: 0.1426  max mem: 9805\n",
      "Test: Total time: 0:00:01 (0.3037 s / it)\n",
      "Averaged stats: \n",
      "Accumulating evaluation results...\n",
      "COCOeval_opt.accumulate() finished...\n",
      "DONE (t=0.02s).\n",
      "IoU metric: bbox\n",
      " Average Precision  (AP) @[ IoU=0.50:0.95 | area=   all | maxDets=100 ] = 0.000\n",
      " Average Precision  (AP) @[ IoU=0.50      | area=   all | maxDets=100 ] = 0.000\n",
      " Average Precision  (AP) @[ IoU=0.75      | area=   all | maxDets=100 ] = 0.000\n",
      " Average Precision  (AP) @[ IoU=0.50:0.95 | area= small | maxDets=100 ] = 0.000\n",
      " Average Precision  (AP) @[ IoU=0.50:0.95 | area=medium | maxDets=100 ] = 0.000\n",
      " Average Precision  (AP) @[ IoU=0.50:0.95 | area= large | maxDets=100 ] = 0.000\n",
      " Average Recall     (AR) @[ IoU=0.50:0.95 | area=   all | maxDets=  1 ] = 0.000\n",
      " Average Recall     (AR) @[ IoU=0.50:0.95 | area=   all | maxDets= 10 ] = 0.000\n",
      " Average Recall     (AR) @[ IoU=0.50:0.95 | area=   all | maxDets=100 ] = 0.001\n",
      " Average Recall     (AR) @[ IoU=0.50:0.95 | area= small | maxDets=100 ] = 0.000\n",
      " Average Recall     (AR) @[ IoU=0.50:0.95 | area=medium | maxDets=100 ] = 0.001\n",
      " Average Recall     (AR) @[ IoU=0.50:0.95 | area= large | maxDets=100 ] = 0.000\n",
      " Average Recall     (AR) @[ IoU=0.50      | area=   all | maxDets=100 ] = 0.006\n",
      " Average Recall     (AR) @[ IoU=0.75      | area=   all | maxDets=100 ] = 0.000\n",
      "================================================\n",
      "{'coco_eval_bbox': [5.587954808385199e-06, 4.955224662800604e-05, 0.0, 0.0, 5.441215174695268e-05, 0.00013116696285013117, 0.0, 0.00043859649122807013, 0.0008862969389285178, 0.0, 0.0013690476190476191, 0.0002801120448179272]}\n",
      "================================================\n"
     ]
    },
    {
     "name": "stderr",
     "output_type": "stream",
     "text": [
      "2025-03-10 14:50:52,749 - DEIMTrainer - INFO - Checkpoint saved to outputs/deim_hgnetv2_s_coco/best.pth\n",
      "2025-03-10 14:50:52,751 - DEIMTrainer - INFO - Epoch 3 - Train loss: 36.2267, Eval mAP: 0.0000\n",
      "2025-03-10 14:50:52,752 - DEIMTrainer - INFO - Best stats: {'epoch': 3, 'coco_eval_bbox': 5.587954808385199e-06}\n"
     ]
    },
    {
     "name": "stdout",
     "output_type": "stream",
     "text": [
      "Epoch: [4]  [ 0/15]  eta: 0:00:26  lr: 0.000000  loss: 36.8048 (36.8048)  loss_mal: 0.3318 (0.3318)  loss_bbox: 1.4352 (1.4352)  loss_giou: 2.4365 (2.4365)  loss_fgl: 0.2554 (0.2554)  loss_mal_aux_0: 0.3386 (0.3386)  loss_bbox_aux_0: 1.4353 (1.4353)  loss_giou_aux_0: 2.4366 (2.4366)  loss_fgl_aux_0: 0.2554 (0.2554)  loss_ddf_aux_0: 0.0000 (0.0000)  loss_mal_aux_1: 0.3516 (0.3516)  loss_bbox_aux_1: 1.4353 (1.4353)  loss_giou_aux_1: 2.4366 (2.4366)  loss_fgl_aux_1: 0.2554 (0.2554)  loss_ddf_aux_1: 0.0000 (0.0000)  loss_mal_pre: 0.3386 (0.3386)  loss_bbox_pre: 1.4353 (1.4353)  loss_giou_pre: 2.4366 (2.4366)  loss_mal_enc_0: 0.3145 (0.3145)  loss_bbox_enc_0: 1.4353 (1.4353)  loss_giou_enc_0: 2.4366 (2.4366)  loss_mal_dn_0: 1.2578 (1.2578)  loss_bbox_dn_0: 0.5283 (0.5283)  loss_giou_dn_0: 1.3529 (1.3529)  loss_fgl_dn_0: 0.8353 (0.8353)  loss_ddf_dn_0: 0.0000 (0.0000)  loss_mal_dn_1: 1.2334 (1.2334)  loss_bbox_dn_1: 0.5283 (0.5283)  loss_giou_dn_1: 1.3529 (1.3529)  loss_fgl_dn_1: 0.8353 (0.8353)  loss_ddf_dn_1: 0.0000 (0.0000)  loss_mal_dn_2: 1.2246 (1.2246)  loss_bbox_dn_2: 0.5283 (0.5283)  loss_giou_dn_2: 1.3529 (1.3529)  loss_fgl_dn_2: 0.8353 (0.8353)  loss_mal_dn_pre: 1.2578 (1.2578)  loss_bbox_dn_pre: 0.5283 (0.5283)  loss_giou_dn_pre: 1.3529 (1.3529)  time: 1.7414  data: 1.2118  max mem: 9805\n"
     ]
    },
    {
     "name": "stderr",
     "output_type": "stream",
     "text": [
      "2025-03-10 14:51:01,099 - DEIMTrainer - INFO - Evaluating model...\n"
     ]
    },
    {
     "name": "stdout",
     "output_type": "stream",
     "text": [
      "Epoch: [4]  [14/15]  eta: 0:00:00  lr: 0.000000  loss: 34.3349 (34.3452)  loss_mal: 0.4871 (0.4684)  loss_bbox: 1.0949 (1.0933)  loss_giou: 2.1428 (2.1414)  loss_fgl: 0.3268 (0.3253)  loss_mal_aux_0: 0.4773 (0.4688)  loss_bbox_aux_0: 1.0950 (1.0934)  loss_giou_aux_0: 2.1429 (2.1415)  loss_fgl_aux_0: 0.3268 (0.3253)  loss_ddf_aux_0: 0.0000 (0.0000)  loss_mal_aux_1: 0.5034 (0.4861)  loss_bbox_aux_1: 1.0949 (1.0933)  loss_giou_aux_1: 2.1429 (2.1415)  loss_fgl_aux_1: 0.3268 (0.3253)  loss_ddf_aux_1: 0.0000 (0.0000)  loss_mal_pre: 0.4773 (0.4688)  loss_bbox_pre: 1.0950 (1.0934)  loss_giou_pre: 2.1429 (2.1415)  loss_mal_enc_0: 0.4412 (0.4237)  loss_bbox_enc_0: 1.0950 (1.0934)  loss_giou_enc_0: 2.1429 (2.1415)  loss_mal_dn_0: 1.2324 (1.2365)  loss_bbox_dn_0: 0.5181 (0.5163)  loss_giou_dn_0: 1.3641 (1.3619)  loss_fgl_dn_0: 0.8237 (0.8248)  loss_ddf_dn_0: 0.0000 (0.0000)  loss_mal_dn_1: 1.2002 (1.2055)  loss_bbox_dn_1: 0.5181 (0.5162)  loss_giou_dn_1: 1.3641 (1.3619)  loss_fgl_dn_1: 0.8237 (0.8248)  loss_ddf_dn_1: 0.0000 (0.0000)  loss_mal_dn_2: 1.2090 (1.2141)  loss_bbox_dn_2: 0.5181 (0.5162)  loss_giou_dn_2: 1.3641 (1.3619)  loss_fgl_dn_2: 0.8237 (0.8248)  loss_mal_dn_pre: 1.2324 (1.2365)  loss_bbox_dn_pre: 0.5181 (0.5163)  loss_giou_dn_pre: 1.3641 (1.3619)  time: 0.5511  data: 0.1033  max mem: 9805\n",
      "Epoch: [4] Total time: 0:00:08 (0.5552 s / it)\n",
      "Averaged stats: lr: 0.000000  loss: 34.3349 (34.3452)  loss_mal: 0.4871 (0.4684)  loss_bbox: 1.0949 (1.0933)  loss_giou: 2.1428 (2.1414)  loss_fgl: 0.3268 (0.3253)  loss_mal_aux_0: 0.4773 (0.4688)  loss_bbox_aux_0: 1.0950 (1.0934)  loss_giou_aux_0: 2.1429 (2.1415)  loss_fgl_aux_0: 0.3268 (0.3253)  loss_ddf_aux_0: 0.0000 (0.0000)  loss_mal_aux_1: 0.5034 (0.4861)  loss_bbox_aux_1: 1.0949 (1.0933)  loss_giou_aux_1: 2.1429 (2.1415)  loss_fgl_aux_1: 0.3268 (0.3253)  loss_ddf_aux_1: 0.0000 (0.0000)  loss_mal_pre: 0.4773 (0.4688)  loss_bbox_pre: 1.0950 (1.0934)  loss_giou_pre: 2.1429 (2.1415)  loss_mal_enc_0: 0.4412 (0.4237)  loss_bbox_enc_0: 1.0950 (1.0934)  loss_giou_enc_0: 2.1429 (2.1415)  loss_mal_dn_0: 1.2324 (1.2365)  loss_bbox_dn_0: 0.5181 (0.5163)  loss_giou_dn_0: 1.3641 (1.3619)  loss_fgl_dn_0: 0.8237 (0.8248)  loss_ddf_dn_0: 0.0000 (0.0000)  loss_mal_dn_1: 1.2002 (1.2055)  loss_bbox_dn_1: 0.5181 (0.5162)  loss_giou_dn_1: 1.3641 (1.3619)  loss_fgl_dn_1: 0.8237 (0.8248)  loss_ddf_dn_1: 0.0000 (0.0000)  loss_mal_dn_2: 1.2090 (1.2141)  loss_bbox_dn_2: 0.5181 (0.5162)  loss_giou_dn_2: 1.3641 (1.3619)  loss_fgl_dn_2: 0.8237 (0.8248)  loss_mal_dn_pre: 1.2324 (1.2365)  loss_bbox_dn_pre: 0.5181 (0.5163)  loss_giou_dn_pre: 1.3641 (1.3619)\n",
      "Test:  [0/5]  eta: 0:00:04    time: 0.9802  data: 0.6839  max mem: 9805\n"
     ]
    },
    {
     "name": "stderr",
     "output_type": "stream",
     "text": [
      "2025-03-10 14:51:02,639 - DEIMTrainer - INFO - Epoch 4 - Train loss: 34.3452, Eval mAP: 0.0000\n",
      "2025-03-10 14:51:02,640 - DEIMTrainer - INFO - Best stats: {'epoch': 3, 'coco_eval_bbox': 5.587954808385199e-06}\n"
     ]
    },
    {
     "name": "stdout",
     "output_type": "stream",
     "text": [
      "Test:  [4/5]  eta: 0:00:00    time: 0.2886  data: 0.1484  max mem: 9805\n",
      "Test: Total time: 0:00:01 (0.3021 s / it)\n",
      "Averaged stats: \n",
      "Accumulating evaluation results...\n",
      "COCOeval_opt.accumulate() finished...\n",
      "DONE (t=0.02s).\n",
      "IoU metric: bbox\n",
      " Average Precision  (AP) @[ IoU=0.50:0.95 | area=   all | maxDets=100 ] = 0.000\n",
      " Average Precision  (AP) @[ IoU=0.50      | area=   all | maxDets=100 ] = 0.000\n",
      " Average Precision  (AP) @[ IoU=0.75      | area=   all | maxDets=100 ] = 0.000\n",
      " Average Precision  (AP) @[ IoU=0.50:0.95 | area= small | maxDets=100 ] = 0.000\n",
      " Average Precision  (AP) @[ IoU=0.50:0.95 | area=medium | maxDets=100 ] = 0.000\n",
      " Average Precision  (AP) @[ IoU=0.50:0.95 | area= large | maxDets=100 ] = 0.000\n",
      " Average Recall     (AR) @[ IoU=0.50:0.95 | area=   all | maxDets=  1 ] = 0.000\n",
      " Average Recall     (AR) @[ IoU=0.50:0.95 | area=   all | maxDets= 10 ] = 0.000\n",
      " Average Recall     (AR) @[ IoU=0.50:0.95 | area=   all | maxDets=100 ] = 0.002\n",
      " Average Recall     (AR) @[ IoU=0.50:0.95 | area= small | maxDets=100 ] = 0.000\n",
      " Average Recall     (AR) @[ IoU=0.50:0.95 | area=medium | maxDets=100 ] = 0.000\n",
      " Average Recall     (AR) @[ IoU=0.50:0.95 | area= large | maxDets=100 ] = 0.002\n",
      " Average Recall     (AR) @[ IoU=0.50      | area=   all | maxDets=100 ] = 0.013\n",
      " Average Recall     (AR) @[ IoU=0.75      | area=   all | maxDets=100 ] = 0.000\n",
      "================================================\n",
      "{'coco_eval_bbox': [3.679487594311451e-06, 2.390411979223585e-05, 5.688262724928128e-07, 0.0, 5.893446487505893e-06, 0.00019310998466265402, 0.0, 0.0, 0.002122560675192254, 0.0, 0.0004761904761904762, 0.00215015583698268]}\n",
      "================================================\n",
      "Epoch: [5]  [ 0/15]  eta: 0:00:28  lr: 0.000000  loss: 34.3392 (34.3392)  loss_mal: 0.3865 (0.3865)  loss_bbox: 1.0436 (1.0436)  loss_giou: 2.4009 (2.4009)  loss_fgl: 0.2499 (0.2499)  loss_mal_aux_0: 0.3879 (0.3879)  loss_bbox_aux_0: 1.0437 (1.0437)  loss_giou_aux_0: 2.4010 (2.4010)  loss_fgl_aux_0: 0.2499 (0.2499)  loss_ddf_aux_0: 0.0000 (0.0000)  loss_mal_aux_1: 0.3867 (0.3867)  loss_bbox_aux_1: 1.0437 (1.0437)  loss_giou_aux_1: 2.4010 (2.4010)  loss_fgl_aux_1: 0.2499 (0.2499)  loss_ddf_aux_1: 0.0000 (0.0000)  loss_mal_pre: 0.3879 (0.3879)  loss_bbox_pre: 1.0437 (1.0437)  loss_giou_pre: 2.4010 (2.4010)  loss_mal_enc_0: 0.3530 (0.3530)  loss_bbox_enc_0: 1.0437 (1.0437)  loss_giou_enc_0: 2.4011 (2.4011)  loss_mal_dn_0: 1.2383 (1.2383)  loss_bbox_dn_0: 0.4034 (0.4034)  loss_giou_dn_0: 1.3633 (1.3633)  loss_fgl_dn_0: 0.8291 (0.8291)  loss_ddf_dn_0: 0.0000 (0.0000)  loss_mal_dn_1: 1.2129 (1.2129)  loss_bbox_dn_1: 0.4034 (0.4034)  loss_giou_dn_1: 1.3633 (1.3633)  loss_fgl_dn_1: 0.8291 (0.8291)  loss_ddf_dn_1: 0.0000 (0.0000)  loss_mal_dn_2: 1.2207 (1.2207)  loss_bbox_dn_2: 0.4034 (0.4034)  loss_giou_dn_2: 1.3633 (1.3633)  loss_fgl_dn_2: 0.8291 (0.8291)  loss_mal_dn_pre: 1.2383 (1.2383)  loss_bbox_dn_pre: 0.4034 (0.4034)  loss_giou_dn_pre: 1.3633 (1.3633)  time: 1.9186  data: 1.2575  max mem: 9805\n"
     ]
    },
    {
     "name": "stderr",
     "output_type": "stream",
     "text": [
      "2025-03-10 14:51:11,587 - DEIMTrainer - INFO - Evaluating model...\n"
     ]
    },
    {
     "name": "stdout",
     "output_type": "stream",
     "text": [
      "Epoch: [5]  [14/15]  eta: 0:00:00  lr: 0.000000  loss: 33.2377 (33.3814)  loss_mal: 0.5098 (0.5077)  loss_bbox: 0.9560 (0.9756)  loss_giou: 1.9447 (2.0095)  loss_fgl: 0.3655 (0.3578)  loss_mal_aux_0: 0.5083 (0.5113)  loss_bbox_aux_0: 0.9561 (0.9757)  loss_giou_aux_0: 1.9448 (2.0097)  loss_fgl_aux_0: 0.3654 (0.3577)  loss_ddf_aux_0: 0.0000 (0.0000)  loss_mal_aux_1: 0.5264 (0.5259)  loss_bbox_aux_1: 0.9560 (0.9756)  loss_giou_aux_1: 1.9447 (2.0096)  loss_fgl_aux_1: 0.3654 (0.3578)  loss_ddf_aux_1: 0.0000 (0.0000)  loss_mal_pre: 0.5083 (0.5113)  loss_bbox_pre: 0.9561 (0.9757)  loss_giou_pre: 1.9448 (2.0097)  loss_mal_enc_0: 0.4551 (0.4611)  loss_bbox_enc_0: 0.9561 (0.9757)  loss_giou_enc_0: 1.9449 (2.0097)  loss_mal_dn_0: 1.2295 (1.2283)  loss_bbox_dn_0: 0.5268 (0.5202)  loss_giou_dn_0: 1.3638 (1.3626)  loss_fgl_dn_0: 0.8288 (0.8258)  loss_ddf_dn_0: 0.0000 (0.0000)  loss_mal_dn_1: 1.2002 (1.1996)  loss_bbox_dn_1: 0.5268 (0.5201)  loss_giou_dn_1: 1.3638 (1.3626)  loss_fgl_dn_1: 0.8288 (0.8258)  loss_ddf_dn_1: 0.0000 (0.0000)  loss_mal_dn_2: 1.1934 (1.1998)  loss_bbox_dn_2: 0.5268 (0.5202)  loss_giou_dn_2: 1.3638 (1.3626)  loss_fgl_dn_2: 0.8289 (0.8258)  loss_mal_dn_pre: 1.2295 (1.2283)  loss_bbox_dn_pre: 0.5268 (0.5202)  loss_giou_dn_pre: 1.3638 (1.3626)  time: 0.5909  data: 0.1051  max mem: 9805\n",
      "Epoch: [5] Total time: 0:00:08 (0.5952 s / it)\n",
      "Averaged stats: lr: 0.000000  loss: 33.2377 (33.3814)  loss_mal: 0.5098 (0.5077)  loss_bbox: 0.9560 (0.9756)  loss_giou: 1.9447 (2.0095)  loss_fgl: 0.3655 (0.3578)  loss_mal_aux_0: 0.5083 (0.5113)  loss_bbox_aux_0: 0.9561 (0.9757)  loss_giou_aux_0: 1.9448 (2.0097)  loss_fgl_aux_0: 0.3654 (0.3577)  loss_ddf_aux_0: 0.0000 (0.0000)  loss_mal_aux_1: 0.5264 (0.5259)  loss_bbox_aux_1: 0.9560 (0.9756)  loss_giou_aux_1: 1.9447 (2.0096)  loss_fgl_aux_1: 0.3654 (0.3578)  loss_ddf_aux_1: 0.0000 (0.0000)  loss_mal_pre: 0.5083 (0.5113)  loss_bbox_pre: 0.9561 (0.9757)  loss_giou_pre: 1.9448 (2.0097)  loss_mal_enc_0: 0.4551 (0.4611)  loss_bbox_enc_0: 0.9561 (0.9757)  loss_giou_enc_0: 1.9449 (2.0097)  loss_mal_dn_0: 1.2295 (1.2283)  loss_bbox_dn_0: 0.5268 (0.5202)  loss_giou_dn_0: 1.3638 (1.3626)  loss_fgl_dn_0: 0.8288 (0.8258)  loss_ddf_dn_0: 0.0000 (0.0000)  loss_mal_dn_1: 1.2002 (1.1996)  loss_bbox_dn_1: 0.5268 (0.5201)  loss_giou_dn_1: 1.3638 (1.3626)  loss_fgl_dn_1: 0.8288 (0.8258)  loss_ddf_dn_1: 0.0000 (0.0000)  loss_mal_dn_2: 1.1934 (1.1998)  loss_bbox_dn_2: 0.5268 (0.5202)  loss_giou_dn_2: 1.3638 (1.3626)  loss_fgl_dn_2: 0.8289 (0.8258)  loss_mal_dn_pre: 1.2295 (1.2283)  loss_bbox_dn_pre: 0.5268 (0.5202)  loss_giou_dn_pre: 1.3638 (1.3626)\n",
      "Test:  [0/5]  eta: 0:00:03    time: 0.7353  data: 0.6228  max mem: 9805\n"
     ]
    },
    {
     "name": "stderr",
     "output_type": "stream",
     "text": [
      "2025-03-10 14:51:13,031 - DEIMTrainer - INFO - Saving checkpoint to outputs/deim_hgnetv2_s_coco/best.pth\n"
     ]
    },
    {
     "name": "stdout",
     "output_type": "stream",
     "text": [
      "Test:  [4/5]  eta: 0:00:00    time: 0.2726  data: 0.1372  max mem: 9805\n",
      "Test: Total time: 0:00:01 (0.2828 s / it)\n",
      "Averaged stats: \n",
      "Accumulating evaluation results...\n",
      "COCOeval_opt.accumulate() finished...\n",
      "DONE (t=0.02s).\n",
      "IoU metric: bbox\n",
      " Average Precision  (AP) @[ IoU=0.50:0.95 | area=   all | maxDets=100 ] = 0.000\n",
      " Average Precision  (AP) @[ IoU=0.50      | area=   all | maxDets=100 ] = 0.000\n",
      " Average Precision  (AP) @[ IoU=0.75      | area=   all | maxDets=100 ] = 0.000\n",
      " Average Precision  (AP) @[ IoU=0.50:0.95 | area= small | maxDets=100 ] = 0.000\n",
      " Average Precision  (AP) @[ IoU=0.50:0.95 | area=medium | maxDets=100 ] = 0.000\n",
      " Average Precision  (AP) @[ IoU=0.50:0.95 | area= large | maxDets=100 ] = 0.001\n",
      " Average Recall     (AR) @[ IoU=0.50:0.95 | area=   all | maxDets=  1 ] = 0.000\n",
      " Average Recall     (AR) @[ IoU=0.50:0.95 | area=   all | maxDets= 10 ] = 0.000\n",
      " Average Recall     (AR) @[ IoU=0.50:0.95 | area=   all | maxDets=100 ] = 0.002\n",
      " Average Recall     (AR) @[ IoU=0.50:0.95 | area= small | maxDets=100 ] = 0.000\n",
      " Average Recall     (AR) @[ IoU=0.50:0.95 | area=medium | maxDets=100 ] = 0.000\n",
      " Average Recall     (AR) @[ IoU=0.50:0.95 | area= large | maxDets=100 ] = 0.003\n",
      " Average Recall     (AR) @[ IoU=0.50      | area=   all | maxDets=100 ] = 0.009\n",
      " Average Recall     (AR) @[ IoU=0.75      | area=   all | maxDets=100 ] = 0.001\n",
      "================================================\n",
      "{'coco_eval_bbox': [2.167603523337164e-05, 6.45476467459873e-05, 2.8207949000028212e-05, 0.0, 6.346788525006347e-06, 0.0014731286708217386, 0.0, 0.0004884004884004884, 0.0020757020757020757, 0.0, 0.0002976190476190476, 0.0027450980392156863]}\n",
      "================================================\n"
     ]
    },
    {
     "name": "stderr",
     "output_type": "stream",
     "text": [
      "2025-03-10 14:51:13,345 - DEIMTrainer - INFO - Checkpoint saved to outputs/deim_hgnetv2_s_coco/best.pth\n",
      "2025-03-10 14:51:13,347 - DEIMTrainer - INFO - Epoch 5 - Train loss: 33.3814, Eval mAP: 0.0000\n",
      "2025-03-10 14:51:13,347 - DEIMTrainer - INFO - Best stats: {'epoch': 5, 'coco_eval_bbox': 2.167603523337164e-05}\n"
     ]
    },
    {
     "name": "stdout",
     "output_type": "stream",
     "text": [
      "Epoch: [6]  [ 0/15]  eta: 0:00:32  lr: 0.000000  loss: 32.2610 (32.2610)  loss_mal: 0.5566 (0.5566)  loss_bbox: 0.8404 (0.8404)  loss_giou: 1.8826 (1.8826)  loss_fgl: 0.3911 (0.3911)  loss_mal_aux_0: 0.5566 (0.5566)  loss_bbox_aux_0: 0.8406 (0.8406)  loss_giou_aux_0: 1.8828 (1.8828)  loss_fgl_aux_0: 0.3909 (0.3909)  loss_ddf_aux_0: 0.0000 (0.0000)  loss_mal_aux_1: 0.5723 (0.5723)  loss_bbox_aux_1: 0.8405 (0.8405)  loss_giou_aux_1: 1.8827 (1.8827)  loss_fgl_aux_1: 0.3910 (0.3910)  loss_ddf_aux_1: 0.0000 (0.0000)  loss_mal_pre: 0.5566 (0.5566)  loss_bbox_pre: 0.8406 (0.8406)  loss_giou_pre: 1.8828 (1.8828)  loss_mal_enc_0: 0.5181 (0.5181)  loss_bbox_enc_0: 0.8406 (0.8406)  loss_giou_enc_0: 1.8829 (1.8829)  loss_mal_dn_0: 1.2031 (1.2031)  loss_bbox_dn_0: 0.5049 (0.5049)  loss_giou_dn_0: 1.3739 (1.3739)  loss_fgl_dn_0: 0.8137 (0.8137)  loss_ddf_dn_0: 0.0000 (0.0000)  loss_mal_dn_1: 1.1758 (1.1758)  loss_bbox_dn_1: 0.5049 (0.5049)  loss_giou_dn_1: 1.3739 (1.3739)  loss_fgl_dn_1: 0.8137 (0.8137)  loss_ddf_dn_1: 0.0000 (0.0000)  loss_mal_dn_2: 1.1729 (1.1729)  loss_bbox_dn_2: 0.5049 (0.5049)  loss_giou_dn_2: 1.3739 (1.3739)  loss_fgl_dn_2: 0.8137 (0.8137)  loss_mal_dn_pre: 1.2031 (1.2031)  loss_bbox_dn_pre: 0.5049 (0.5049)  loss_giou_dn_pre: 1.3739 (1.3739)  time: 2.1730  data: 1.4870  max mem: 9805\n"
     ]
    },
    {
     "name": "stderr",
     "output_type": "stream",
     "text": [
      "2025-03-10 14:51:22,081 - DEIMTrainer - INFO - Evaluating model...\n"
     ]
    },
    {
     "name": "stdout",
     "output_type": "stream",
     "text": [
      "Epoch: [6]  [14/15]  eta: 0:00:00  lr: 0.000001  loss: 33.3707 (33.5761)  loss_mal: 0.4858 (0.5066)  loss_bbox: 0.9585 (0.9956)  loss_giou: 2.0366 (2.0521)  loss_fgl: 0.3467 (0.3501)  loss_mal_aux_0: 0.4915 (0.5101)  loss_bbox_aux_0: 0.9587 (0.9957)  loss_giou_aux_0: 2.0369 (2.0524)  loss_fgl_aux_0: 0.3465 (0.3499)  loss_ddf_aux_0: 0.0000 (0.0000)  loss_mal_aux_1: 0.4976 (0.5253)  loss_bbox_aux_1: 0.9586 (0.9956)  loss_giou_aux_1: 2.0368 (2.0522)  loss_fgl_aux_1: 0.3467 (0.3500)  loss_ddf_aux_1: 0.0000 (0.0000)  loss_mal_pre: 0.4915 (0.5101)  loss_bbox_pre: 0.9587 (0.9957)  loss_giou_pre: 2.0369 (2.0524)  loss_mal_enc_0: 0.4375 (0.4577)  loss_bbox_enc_0: 0.9588 (0.9958)  loss_giou_enc_0: 2.0371 (2.0525)  loss_mal_dn_0: 1.2168 (1.2214)  loss_bbox_dn_0: 0.5071 (0.5109)  loss_giou_dn_0: 1.3628 (1.3595)  loss_fgl_dn_0: 0.8268 (0.8273)  loss_ddf_dn_0: 0.0000 (0.0000)  loss_mal_dn_1: 1.1914 (1.1861)  loss_bbox_dn_1: 0.5071 (0.5109)  loss_giou_dn_1: 1.3628 (1.3595)  loss_fgl_dn_1: 0.8269 (0.8274)  loss_ddf_dn_1: 0.0000 (0.0000)  loss_mal_dn_2: 1.1836 (1.1839)  loss_bbox_dn_2: 0.5072 (0.5109)  loss_giou_dn_2: 1.3628 (1.3594)  loss_fgl_dn_2: 0.8269 (0.8274)  loss_mal_dn_pre: 1.2168 (1.2214)  loss_bbox_dn_pre: 0.5071 (0.5109)  loss_giou_dn_pre: 1.3628 (1.3594)  time: 0.5754  data: 0.1146  max mem: 9805\n",
      "Epoch: [6] Total time: 0:00:08 (0.5810 s / it)\n",
      "Averaged stats: lr: 0.000001  loss: 33.3707 (33.5761)  loss_mal: 0.4858 (0.5066)  loss_bbox: 0.9585 (0.9956)  loss_giou: 2.0366 (2.0521)  loss_fgl: 0.3467 (0.3501)  loss_mal_aux_0: 0.4915 (0.5101)  loss_bbox_aux_0: 0.9587 (0.9957)  loss_giou_aux_0: 2.0369 (2.0524)  loss_fgl_aux_0: 0.3465 (0.3499)  loss_ddf_aux_0: 0.0000 (0.0000)  loss_mal_aux_1: 0.4976 (0.5253)  loss_bbox_aux_1: 0.9586 (0.9956)  loss_giou_aux_1: 2.0368 (2.0522)  loss_fgl_aux_1: 0.3467 (0.3500)  loss_ddf_aux_1: 0.0000 (0.0000)  loss_mal_pre: 0.4915 (0.5101)  loss_bbox_pre: 0.9587 (0.9957)  loss_giou_pre: 2.0369 (2.0524)  loss_mal_enc_0: 0.4375 (0.4577)  loss_bbox_enc_0: 0.9588 (0.9958)  loss_giou_enc_0: 2.0371 (2.0525)  loss_mal_dn_0: 1.2168 (1.2214)  loss_bbox_dn_0: 0.5071 (0.5109)  loss_giou_dn_0: 1.3628 (1.3595)  loss_fgl_dn_0: 0.8268 (0.8273)  loss_ddf_dn_0: 0.0000 (0.0000)  loss_mal_dn_1: 1.1914 (1.1861)  loss_bbox_dn_1: 0.5071 (0.5109)  loss_giou_dn_1: 1.3628 (1.3595)  loss_fgl_dn_1: 0.8269 (0.8274)  loss_ddf_dn_1: 0.0000 (0.0000)  loss_mal_dn_2: 1.1836 (1.1839)  loss_bbox_dn_2: 0.5072 (0.5109)  loss_giou_dn_2: 1.3628 (1.3594)  loss_fgl_dn_2: 0.8269 (0.8274)  loss_mal_dn_pre: 1.2168 (1.2214)  loss_bbox_dn_pre: 0.5071 (0.5109)  loss_giou_dn_pre: 1.3628 (1.3594)\n",
      "Test:  [0/5]  eta: 0:00:04    time: 0.8239  data: 0.7069  max mem: 9805\n"
     ]
    },
    {
     "name": "stderr",
     "output_type": "stream",
     "text": [
      "2025-03-10 14:51:23,602 - DEIMTrainer - INFO - Epoch 6 - Train loss: 33.5761, Eval mAP: 0.0000\n",
      "2025-03-10 14:51:23,602 - DEIMTrainer - INFO - Best stats: {'epoch': 5, 'coco_eval_bbox': 2.167603523337164e-05}\n"
     ]
    },
    {
     "name": "stdout",
     "output_type": "stream",
     "text": [
      "Test:  [4/5]  eta: 0:00:00    time: 0.2874  data: 0.1529  max mem: 9805\n",
      "Test: Total time: 0:00:01 (0.2985 s / it)\n",
      "Averaged stats: \n",
      "Accumulating evaluation results...\n",
      "COCOeval_opt.accumulate() finished...\n",
      "DONE (t=0.01s).\n",
      "IoU metric: bbox\n",
      " Average Precision  (AP) @[ IoU=0.50:0.95 | area=   all | maxDets=100 ] = 0.000\n",
      " Average Precision  (AP) @[ IoU=0.50      | area=   all | maxDets=100 ] = 0.000\n",
      " Average Precision  (AP) @[ IoU=0.75      | area=   all | maxDets=100 ] = 0.000\n",
      " Average Precision  (AP) @[ IoU=0.50:0.95 | area= small | maxDets=100 ] = 0.000\n",
      " Average Precision  (AP) @[ IoU=0.50:0.95 | area=medium | maxDets=100 ] = 0.000\n",
      " Average Precision  (AP) @[ IoU=0.50:0.95 | area= large | maxDets=100 ] = 0.001\n",
      " Average Recall     (AR) @[ IoU=0.50:0.95 | area=   all | maxDets=  1 ] = 0.000\n",
      " Average Recall     (AR) @[ IoU=0.50:0.95 | area=   all | maxDets= 10 ] = 0.000\n",
      " Average Recall     (AR) @[ IoU=0.50:0.95 | area=   all | maxDets=100 ] = 0.005\n",
      " Average Recall     (AR) @[ IoU=0.50:0.95 | area= small | maxDets=100 ] = 0.000\n",
      " Average Recall     (AR) @[ IoU=0.50:0.95 | area=medium | maxDets=100 ] = 0.004\n",
      " Average Recall     (AR) @[ IoU=0.50:0.95 | area= large | maxDets=100 ] = 0.003\n",
      " Average Recall     (AR) @[ IoU=0.50      | area=   all | maxDets=100 ] = 0.022\n",
      " Average Recall     (AR) @[ IoU=0.75      | area=   all | maxDets=100 ] = 0.000\n",
      "================================================\n",
      "{'coco_eval_bbox': [1.2463837598377368e-05, 5.783070760370706e-05, 0.0, 0.0, 1.7184216714693818e-05, 0.0005127140305941834, 0.0, 0.000407000407000407, 0.004999143157037894, 0.0, 0.003958333333333333, 0.0034465617232808613]}\n",
      "================================================\n",
      "Epoch: [7]  [ 0/15]  eta: 0:00:33  lr: 0.000001  loss: 31.9281 (31.9281)  loss_mal: 0.5703 (0.5703)  loss_bbox: 0.8127 (0.8127)  loss_giou: 1.8435 (1.8435)  loss_fgl: 0.4100 (0.4100)  loss_mal_aux_0: 0.5708 (0.5708)  loss_bbox_aux_0: 0.8129 (0.8129)  loss_giou_aux_0: 1.8438 (1.8438)  loss_fgl_aux_0: 0.4098 (0.4098)  loss_ddf_aux_0: 0.0000 (0.0000)  loss_mal_aux_1: 0.5918 (0.5918)  loss_bbox_aux_1: 0.8128 (0.8128)  loss_giou_aux_1: 1.8437 (1.8437)  loss_fgl_aux_1: 0.4099 (0.4099)  loss_ddf_aux_1: 0.0000 (0.0000)  loss_mal_pre: 0.5703 (0.5703)  loss_bbox_pre: 0.8129 (0.8129)  loss_giou_pre: 1.8439 (1.8439)  loss_mal_enc_0: 0.5132 (0.5132)  loss_bbox_enc_0: 0.8130 (0.8130)  loss_giou_enc_0: 1.8440 (1.8440)  loss_mal_dn_0: 1.1865 (1.1865)  loss_bbox_dn_0: 0.4918 (0.4918)  loss_giou_dn_0: 1.3773 (1.3773)  loss_fgl_dn_0: 0.8157 (0.8157)  loss_ddf_dn_0: 0.0000 (0.0000)  loss_mal_dn_1: 1.1543 (1.1543)  loss_bbox_dn_1: 0.4918 (0.4918)  loss_giou_dn_1: 1.3773 (1.3773)  loss_fgl_dn_1: 0.8158 (0.8158)  loss_ddf_dn_1: 0.0000 (0.0000)  loss_mal_dn_2: 1.1475 (1.1475)  loss_bbox_dn_2: 0.4919 (0.4919)  loss_giou_dn_2: 1.3773 (1.3773)  loss_fgl_dn_2: 0.8157 (0.8157)  loss_mal_dn_pre: 1.1865 (1.1865)  loss_bbox_dn_pre: 0.4918 (0.4918)  loss_giou_dn_pre: 1.3773 (1.3773)  time: 2.2578  data: 1.5886  max mem: 9805\n"
     ]
    },
    {
     "name": "stderr",
     "output_type": "stream",
     "text": [
      "2025-03-10 14:51:33,240 - DEIMTrainer - INFO - Saving checkpoint to outputs/deim_hgnetv2_s_coco/checkpoint0007.pth\n"
     ]
    },
    {
     "name": "stdout",
     "output_type": "stream",
     "text": [
      "Epoch: [7]  [14/15]  eta: 0:00:00  lr: 0.000001  loss: 32.8276 (32.9259)  loss_mal: 0.5366 (0.5149)  loss_bbox: 0.8962 (0.9424)  loss_giou: 1.8818 (1.9719)  loss_fgl: 0.3767 (0.3683)  loss_mal_aux_0: 0.5342 (0.5209)  loss_bbox_aux_0: 0.8964 (0.9426)  loss_giou_aux_0: 1.8821 (1.9723)  loss_fgl_aux_0: 0.3764 (0.3681)  loss_ddf_aux_0: 0.0000 (0.0000)  loss_mal_aux_1: 0.5576 (0.5357)  loss_bbox_aux_1: 0.8963 (0.9425)  loss_giou_aux_1: 1.8820 (1.9722)  loss_fgl_aux_1: 0.3766 (0.3682)  loss_ddf_aux_1: 0.0000 (0.0000)  loss_mal_pre: 0.5342 (0.5207)  loss_bbox_pre: 0.8965 (0.9427)  loss_giou_pre: 1.8822 (1.9724)  loss_mal_enc_0: 0.4753 (0.4639)  loss_bbox_enc_0: 0.8966 (0.9428)  loss_giou_enc_0: 1.8824 (1.9726)  loss_mal_dn_0: 1.1816 (1.1865)  loss_bbox_dn_0: 0.4925 (0.5207)  loss_giou_dn_0: 1.3713 (1.3709)  loss_fgl_dn_0: 0.8172 (0.8196)  loss_ddf_dn_0: 0.0001 (0.0001)  loss_mal_dn_1: 1.1543 (1.1508)  loss_bbox_dn_1: 0.4925 (0.5207)  loss_giou_dn_1: 1.3713 (1.3709)  loss_fgl_dn_1: 0.8172 (0.8196)  loss_ddf_dn_1: 0.0001 (0.0001)  loss_mal_dn_2: 1.1396 (1.1415)  loss_bbox_dn_2: 0.4926 (0.5208)  loss_giou_dn_2: 1.3713 (1.3709)  loss_fgl_dn_2: 0.8172 (0.8196)  loss_mal_dn_pre: 1.1816 (1.1865)  loss_bbox_dn_pre: 0.4925 (0.5207)  loss_giou_dn_pre: 1.3713 (1.3709)  time: 0.6366  data: 0.1238  max mem: 10516\n",
      "Epoch: [7] Total time: 0:00:09 (0.6416 s / it)\n",
      "Averaged stats: lr: 0.000001  loss: 32.8276 (32.9259)  loss_mal: 0.5366 (0.5149)  loss_bbox: 0.8962 (0.9424)  loss_giou: 1.8818 (1.9719)  loss_fgl: 0.3767 (0.3683)  loss_mal_aux_0: 0.5342 (0.5209)  loss_bbox_aux_0: 0.8964 (0.9426)  loss_giou_aux_0: 1.8821 (1.9723)  loss_fgl_aux_0: 0.3764 (0.3681)  loss_ddf_aux_0: 0.0000 (0.0000)  loss_mal_aux_1: 0.5576 (0.5357)  loss_bbox_aux_1: 0.8963 (0.9425)  loss_giou_aux_1: 1.8820 (1.9722)  loss_fgl_aux_1: 0.3766 (0.3682)  loss_ddf_aux_1: 0.0000 (0.0000)  loss_mal_pre: 0.5342 (0.5207)  loss_bbox_pre: 0.8965 (0.9427)  loss_giou_pre: 1.8822 (1.9724)  loss_mal_enc_0: 0.4753 (0.4639)  loss_bbox_enc_0: 0.8966 (0.9428)  loss_giou_enc_0: 1.8824 (1.9726)  loss_mal_dn_0: 1.1816 (1.1865)  loss_bbox_dn_0: 0.4925 (0.5207)  loss_giou_dn_0: 1.3713 (1.3709)  loss_fgl_dn_0: 0.8172 (0.8196)  loss_ddf_dn_0: 0.0001 (0.0001)  loss_mal_dn_1: 1.1543 (1.1508)  loss_bbox_dn_1: 0.4925 (0.5207)  loss_giou_dn_1: 1.3713 (1.3709)  loss_fgl_dn_1: 0.8172 (0.8196)  loss_ddf_dn_1: 0.0001 (0.0001)  loss_mal_dn_2: 1.1396 (1.1415)  loss_bbox_dn_2: 0.4926 (0.5208)  loss_giou_dn_2: 1.3713 (1.3709)  loss_fgl_dn_2: 0.8172 (0.8196)  loss_mal_dn_pre: 1.1816 (1.1865)  loss_bbox_dn_pre: 0.4925 (0.5207)  loss_giou_dn_pre: 1.3713 (1.3709)\n"
     ]
    },
    {
     "name": "stderr",
     "output_type": "stream",
     "text": [
      "2025-03-10 14:51:33,520 - DEIMTrainer - INFO - Checkpoint saved to outputs/deim_hgnetv2_s_coco/checkpoint0007.pth\n",
      "2025-03-10 14:51:33,522 - DEIMTrainer - INFO - Evaluating model...\n"
     ]
    },
    {
     "name": "stdout",
     "output_type": "stream",
     "text": [
      "Test:  [0/5]  eta: 0:00:03    time: 0.7517  data: 0.6375  max mem: 10516\n"
     ]
    },
    {
     "name": "stderr",
     "output_type": "stream",
     "text": [
      "2025-03-10 14:51:34,962 - DEIMTrainer - INFO - Epoch 7 - Train loss: 32.9259, Eval mAP: 0.0000\n",
      "2025-03-10 14:51:34,963 - DEIMTrainer - INFO - Best stats: {'epoch': 5, 'coco_eval_bbox': 2.167603523337164e-05}\n"
     ]
    },
    {
     "name": "stdout",
     "output_type": "stream",
     "text": [
      "Test:  [4/5]  eta: 0:00:00    time: 0.2736  data: 0.1384  max mem: 10516\n",
      "Test: Total time: 0:00:01 (0.2833 s / it)\n",
      "Averaged stats: \n",
      "Accumulating evaluation results...\n",
      "COCOeval_opt.accumulate() finished...\n",
      "DONE (t=0.01s).\n",
      "IoU metric: bbox\n",
      " Average Precision  (AP) @[ IoU=0.50:0.95 | area=   all | maxDets=100 ] = 0.000\n",
      " Average Precision  (AP) @[ IoU=0.50      | area=   all | maxDets=100 ] = 0.000\n",
      " Average Precision  (AP) @[ IoU=0.75      | area=   all | maxDets=100 ] = 0.000\n",
      " Average Precision  (AP) @[ IoU=0.50:0.95 | area= small | maxDets=100 ] = 0.000\n",
      " Average Precision  (AP) @[ IoU=0.50:0.95 | area=medium | maxDets=100 ] = 0.000\n",
      " Average Precision  (AP) @[ IoU=0.50:0.95 | area= large | maxDets=100 ] = 0.000\n",
      " Average Recall     (AR) @[ IoU=0.50:0.95 | area=   all | maxDets=  1 ] = 0.000\n",
      " Average Recall     (AR) @[ IoU=0.50:0.95 | area=   all | maxDets= 10 ] = 0.000\n",
      " Average Recall     (AR) @[ IoU=0.50:0.95 | area=   all | maxDets=100 ] = 0.003\n",
      " Average Recall     (AR) @[ IoU=0.50:0.95 | area= small | maxDets=100 ] = 0.000\n",
      " Average Recall     (AR) @[ IoU=0.50:0.95 | area=medium | maxDets=100 ] = 0.004\n",
      " Average Recall     (AR) @[ IoU=0.50:0.95 | area= large | maxDets=100 ] = 0.002\n",
      " Average Recall     (AR) @[ IoU=0.50      | area=   all | maxDets=100 ] = 0.012\n",
      " Average Recall     (AR) @[ IoU=0.75      | area=   all | maxDets=100 ] = 0.000\n",
      "================================================\n",
      "{'coco_eval_bbox': [1.007663746351492e-05, 6.962064262244102e-05, 0.0, 0.0, 2.6883258092318557e-05, 0.00016598902394700848, 0.0, 0.0001221001221001221, 0.0030251911830859197, 0.0, 0.003660714285714286, 0.0015126050420168067]}\n",
      "================================================\n",
      "Epoch: [8]  [ 0/15]  eta: 0:00:28  lr: 0.000001  loss: 32.5080 (32.5080)  loss_mal: 0.5659 (0.5659)  loss_bbox: 0.9165 (0.9165)  loss_giou: 1.8076 (1.8076)  loss_fgl: 0.4035 (0.4035)  loss_mal_aux_0: 0.5879 (0.5879)  loss_bbox_aux_0: 0.9169 (0.9169)  loss_giou_aux_0: 1.8081 (1.8081)  loss_fgl_aux_0: 0.4031 (0.4031)  loss_ddf_aux_0: 0.0000 (0.0000)  loss_mal_aux_1: 0.5918 (0.5918)  loss_bbox_aux_1: 0.9167 (0.9167)  loss_giou_aux_1: 1.8079 (1.8079)  loss_fgl_aux_1: 0.4032 (0.4032)  loss_ddf_aux_1: 0.0000 (0.0000)  loss_mal_pre: 0.5874 (0.5874)  loss_bbox_pre: 0.9170 (0.9170)  loss_giou_pre: 1.8082 (1.8082)  loss_mal_enc_0: 0.5059 (0.5059)  loss_bbox_enc_0: 0.9171 (0.9171)  loss_giou_enc_0: 1.8084 (1.8084)  loss_mal_dn_0: 1.1865 (1.1865)  loss_bbox_dn_0: 0.5659 (0.5659)  loss_giou_dn_0: 1.3582 (1.3582)  loss_fgl_dn_0: 0.8260 (0.8260)  loss_ddf_dn_0: 0.0002 (0.0002)  loss_mal_dn_1: 1.1553 (1.1553)  loss_bbox_dn_1: 0.5659 (0.5659)  loss_giou_dn_1: 1.3582 (1.3582)  loss_fgl_dn_1: 0.8259 (0.8259)  loss_ddf_dn_1: 0.0002 (0.0002)  loss_mal_dn_2: 1.1318 (1.1318)  loss_bbox_dn_2: 0.5660 (0.5660)  loss_giou_dn_2: 1.3582 (1.3582)  loss_fgl_dn_2: 0.8259 (0.8259)  loss_mal_dn_pre: 1.1865 (1.1865)  loss_bbox_dn_pre: 0.5659 (0.5659)  loss_giou_dn_pre: 1.3582 (1.3582)  time: 1.9160  data: 1.2654  max mem: 10516\n"
     ]
    },
    {
     "name": "stderr",
     "output_type": "stream",
     "text": [
      "2025-03-10 14:51:43,310 - DEIMTrainer - INFO - Evaluating model...\n"
     ]
    },
    {
     "name": "stdout",
     "output_type": "stream",
     "text": [
      "Epoch: [8]  [14/15]  eta: 0:00:00  lr: 0.000001  loss: 33.3553 (33.4552)  loss_mal: 0.4792 (0.4921)  loss_bbox: 0.9439 (1.0084)  loss_giou: 2.0621 (2.0611)  loss_fgl: 0.3598 (0.3541)  loss_mal_aux_0: 0.5039 (0.5164)  loss_bbox_aux_0: 0.9441 (1.0087)  loss_giou_aux_0: 2.0627 (2.0616)  loss_fgl_aux_0: 0.3595 (0.3538)  loss_ddf_aux_0: 0.0000 (0.0000)  loss_mal_aux_1: 0.5137 (0.5232)  loss_bbox_aux_1: 0.9440 (1.0086)  loss_giou_aux_1: 2.0624 (2.0614)  loss_fgl_aux_1: 0.3597 (0.3539)  loss_ddf_aux_1: 0.0000 (0.0000)  loss_mal_pre: 0.5039 (0.5162)  loss_bbox_pre: 0.9441 (1.0088)  loss_giou_pre: 2.0628 (2.0617)  loss_mal_enc_0: 0.4399 (0.4566)  loss_bbox_enc_0: 0.9442 (1.0090)  loss_giou_enc_0: 2.0630 (2.0620)  loss_mal_dn_0: 1.1396 (1.1533)  loss_bbox_dn_0: 0.5304 (0.5236)  loss_giou_dn_0: 1.3800 (1.3754)  loss_fgl_dn_0: 0.8099 (0.8149)  loss_ddf_dn_0: 0.0001 (0.0001)  loss_mal_dn_1: 1.0898 (1.1048)  loss_bbox_dn_1: 0.5304 (0.5237)  loss_giou_dn_1: 1.3800 (1.3754)  loss_fgl_dn_1: 0.8098 (0.8148)  loss_ddf_dn_1: 0.0002 (0.0002)  loss_mal_dn_2: 1.0693 (1.0850)  loss_bbox_dn_2: 0.5304 (0.5237)  loss_giou_dn_2: 1.3800 (1.3754)  loss_fgl_dn_2: 0.8098 (0.8148)  loss_mal_dn_pre: 1.1396 (1.1533)  loss_bbox_dn_pre: 0.5304 (0.5237)  loss_giou_dn_pre: 1.3800 (1.3754)  time: 0.5508  data: 0.1022  max mem: 10516\n",
      "Epoch: [8] Total time: 0:00:08 (0.5552 s / it)\n",
      "Averaged stats: lr: 0.000001  loss: 33.3553 (33.4552)  loss_mal: 0.4792 (0.4921)  loss_bbox: 0.9439 (1.0084)  loss_giou: 2.0621 (2.0611)  loss_fgl: 0.3598 (0.3541)  loss_mal_aux_0: 0.5039 (0.5164)  loss_bbox_aux_0: 0.9441 (1.0087)  loss_giou_aux_0: 2.0627 (2.0616)  loss_fgl_aux_0: 0.3595 (0.3538)  loss_ddf_aux_0: 0.0000 (0.0000)  loss_mal_aux_1: 0.5137 (0.5232)  loss_bbox_aux_1: 0.9440 (1.0086)  loss_giou_aux_1: 2.0624 (2.0614)  loss_fgl_aux_1: 0.3597 (0.3539)  loss_ddf_aux_1: 0.0000 (0.0000)  loss_mal_pre: 0.5039 (0.5162)  loss_bbox_pre: 0.9441 (1.0088)  loss_giou_pre: 2.0628 (2.0617)  loss_mal_enc_0: 0.4399 (0.4566)  loss_bbox_enc_0: 0.9442 (1.0090)  loss_giou_enc_0: 2.0630 (2.0620)  loss_mal_dn_0: 1.1396 (1.1533)  loss_bbox_dn_0: 0.5304 (0.5236)  loss_giou_dn_0: 1.3800 (1.3754)  loss_fgl_dn_0: 0.8099 (0.8149)  loss_ddf_dn_0: 0.0001 (0.0001)  loss_mal_dn_1: 1.0898 (1.1048)  loss_bbox_dn_1: 0.5304 (0.5237)  loss_giou_dn_1: 1.3800 (1.3754)  loss_fgl_dn_1: 0.8098 (0.8148)  loss_ddf_dn_1: 0.0002 (0.0002)  loss_mal_dn_2: 1.0693 (1.0850)  loss_bbox_dn_2: 0.5304 (0.5237)  loss_giou_dn_2: 1.3800 (1.3754)  loss_fgl_dn_2: 0.8098 (0.8148)  loss_mal_dn_pre: 1.1396 (1.1533)  loss_bbox_dn_pre: 0.5304 (0.5237)  loss_giou_dn_pre: 1.3800 (1.3754)\n",
      "Test:  [0/5]  eta: 0:00:03    time: 0.7229  data: 0.6097  max mem: 10516\n"
     ]
    },
    {
     "name": "stderr",
     "output_type": "stream",
     "text": [
      "2025-03-10 14:51:44,744 - DEIMTrainer - INFO - Epoch 8 - Train loss: 33.4552, Eval mAP: 0.0000\n",
      "2025-03-10 14:51:44,745 - DEIMTrainer - INFO - Best stats: {'epoch': 5, 'coco_eval_bbox': 2.167603523337164e-05}\n"
     ]
    },
    {
     "name": "stdout",
     "output_type": "stream",
     "text": [
      "Test:  [4/5]  eta: 0:00:00    time: 0.2720  data: 0.1368  max mem: 10516\n",
      "Test: Total time: 0:00:01 (0.2815 s / it)\n",
      "Averaged stats: \n",
      "Accumulating evaluation results...\n",
      "COCOeval_opt.accumulate() finished...\n",
      "DONE (t=0.01s).\n",
      "IoU metric: bbox\n",
      " Average Precision  (AP) @[ IoU=0.50:0.95 | area=   all | maxDets=100 ] = 0.000\n",
      " Average Precision  (AP) @[ IoU=0.50      | area=   all | maxDets=100 ] = 0.000\n",
      " Average Precision  (AP) @[ IoU=0.75      | area=   all | maxDets=100 ] = 0.000\n",
      " Average Precision  (AP) @[ IoU=0.50:0.95 | area= small | maxDets=100 ] = 0.000\n",
      " Average Precision  (AP) @[ IoU=0.50:0.95 | area=medium | maxDets=100 ] = 0.000\n",
      " Average Precision  (AP) @[ IoU=0.50:0.95 | area= large | maxDets=100 ] = 0.000\n",
      " Average Recall     (AR) @[ IoU=0.50:0.95 | area=   all | maxDets=  1 ] = 0.000\n",
      " Average Recall     (AR) @[ IoU=0.50:0.95 | area=   all | maxDets= 10 ] = 0.000\n",
      " Average Recall     (AR) @[ IoU=0.50:0.95 | area=   all | maxDets=100 ] = 0.005\n",
      " Average Recall     (AR) @[ IoU=0.50:0.95 | area= small | maxDets=100 ] = 0.000\n",
      " Average Recall     (AR) @[ IoU=0.50:0.95 | area=medium | maxDets=100 ] = 0.003\n",
      " Average Recall     (AR) @[ IoU=0.50:0.95 | area= large | maxDets=100 ] = 0.004\n",
      " Average Recall     (AR) @[ IoU=0.50      | area=   all | maxDets=100 ] = 0.018\n",
      " Average Recall     (AR) @[ IoU=0.75      | area=   all | maxDets=100 ] = 0.000\n",
      "================================================\n",
      "{'coco_eval_bbox': [1.1328764408889579e-05, 5.084472793963408e-05, 0.0, 0.0, 1.5120653261160538e-05, 0.00047386729152773093, 0.0, 0.0001628001628001628, 0.004861780519675256, 0.0, 0.0029166666666666664, 0.0038174142896595254]}\n",
      "================================================\n",
      "Epoch: [9]  [ 0/15]  eta: 0:00:30  lr: 0.000001  loss: 32.7477 (32.7477)  loss_mal: 0.5127 (0.5127)  loss_bbox: 0.9658 (0.9658)  loss_giou: 1.9037 (1.9037)  loss_fgl: 0.3763 (0.3763)  loss_mal_aux_0: 0.5386 (0.5386)  loss_bbox_aux_0: 0.9662 (0.9662)  loss_giou_aux_0: 1.9044 (1.9044)  loss_fgl_aux_0: 0.3758 (0.3758)  loss_ddf_aux_0: -0.0000 (-0.0000)  loss_mal_aux_1: 0.5503 (0.5503)  loss_bbox_aux_1: 0.9660 (0.9660)  loss_giou_aux_1: 1.9041 (1.9041)  loss_fgl_aux_1: 0.3760 (0.3760)  loss_ddf_aux_1: -0.0000 (-0.0000)  loss_mal_pre: 0.5386 (0.5386)  loss_bbox_pre: 0.9663 (0.9663)  loss_giou_pre: 1.9045 (1.9045)  loss_mal_enc_0: 0.4758 (0.4758)  loss_bbox_enc_0: 0.9665 (0.9665)  loss_giou_enc_0: 1.9048 (1.9048)  loss_mal_dn_0: 1.1514 (1.1514)  loss_bbox_dn_0: 0.5614 (0.5614)  loss_giou_dn_0: 1.3666 (1.3666)  loss_fgl_dn_0: 0.8201 (0.8201)  loss_ddf_dn_0: 0.0002 (0.0002)  loss_mal_dn_1: 1.1045 (1.1045)  loss_bbox_dn_1: 0.5614 (0.5614)  loss_giou_dn_1: 1.3666 (1.3666)  loss_fgl_dn_1: 0.8200 (0.8200)  loss_ddf_dn_1: 0.0006 (0.0006)  loss_mal_dn_2: 1.0713 (1.0713)  loss_bbox_dn_2: 0.5615 (0.5615)  loss_giou_dn_2: 1.3666 (1.3666)  loss_fgl_dn_2: 0.8199 (0.8199)  loss_mal_dn_pre: 1.1514 (1.1514)  loss_bbox_dn_pre: 0.5614 (0.5614)  loss_giou_dn_pre: 1.3666 (1.3666)  time: 2.0017  data: 1.4137  max mem: 10516\n"
     ]
    },
    {
     "name": "stderr",
     "output_type": "stream",
     "text": [
      "2025-03-10 14:51:53,753 - DEIMTrainer - INFO - Evaluating model...\n"
     ]
    },
    {
     "name": "stdout",
     "output_type": "stream",
     "text": [
      "Epoch: [9]  [14/15]  eta: 0:00:00  lr: 0.000001  loss: 32.7477 (32.6271)  loss_mal: 0.5410 (0.5404)  loss_bbox: 0.9451 (0.9307)  loss_giou: 1.8898 (1.8985)  loss_fgl: 0.4008 (0.3952)  loss_mal_aux_0: 0.5684 (0.5645)  loss_bbox_aux_0: 0.9456 (0.9312)  loss_giou_aux_0: 1.8905 (1.8993)  loss_fgl_aux_0: 0.4002 (0.3947)  loss_ddf_aux_0: -0.0001 (-0.0001)  loss_mal_aux_1: 0.5752 (0.5720)  loss_bbox_aux_1: 0.9454 (0.9310)  loss_giou_aux_1: 1.8902 (1.8989)  loss_fgl_aux_1: 0.4005 (0.3949)  loss_ddf_aux_1: 0.0000 (0.0001)  loss_mal_pre: 0.5679 (0.5642)  loss_bbox_pre: 0.9457 (0.9313)  loss_giou_pre: 1.8906 (1.8994)  loss_mal_enc_0: 0.4961 (0.4922)  loss_bbox_enc_0: 0.9460 (0.9315)  loss_giou_enc_0: 1.8909 (1.8998)  loss_mal_dn_0: 1.1465 (1.1551)  loss_bbox_dn_0: 0.5484 (0.5373)  loss_giou_dn_0: 1.3636 (1.3591)  loss_fgl_dn_0: 0.8212 (0.8275)  loss_ddf_dn_0: 0.0002 (0.0001)  loss_mal_dn_1: 1.1016 (1.1059)  loss_bbox_dn_1: 0.5484 (0.5373)  loss_giou_dn_1: 1.3636 (1.3592)  loss_fgl_dn_1: 0.8211 (0.8274)  loss_ddf_dn_1: 0.0008 (0.0008)  loss_mal_dn_2: 1.0713 (1.0724)  loss_bbox_dn_2: 0.5485 (0.5374)  loss_giou_dn_2: 1.3636 (1.3591)  loss_fgl_dn_2: 0.8211 (0.8273)  loss_mal_dn_pre: 1.1465 (1.1551)  loss_bbox_dn_pre: 0.5484 (0.5373)  loss_giou_dn_pre: 1.3636 (1.3591)  time: 0.5947  data: 0.1102  max mem: 10516\n",
      "Epoch: [9] Total time: 0:00:08 (0.5994 s / it)\n",
      "Averaged stats: lr: 0.000001  loss: 32.7477 (32.6271)  loss_mal: 0.5410 (0.5404)  loss_bbox: 0.9451 (0.9307)  loss_giou: 1.8898 (1.8985)  loss_fgl: 0.4008 (0.3952)  loss_mal_aux_0: 0.5684 (0.5645)  loss_bbox_aux_0: 0.9456 (0.9312)  loss_giou_aux_0: 1.8905 (1.8993)  loss_fgl_aux_0: 0.4002 (0.3947)  loss_ddf_aux_0: -0.0001 (-0.0001)  loss_mal_aux_1: 0.5752 (0.5720)  loss_bbox_aux_1: 0.9454 (0.9310)  loss_giou_aux_1: 1.8902 (1.8989)  loss_fgl_aux_1: 0.4005 (0.3949)  loss_ddf_aux_1: 0.0000 (0.0001)  loss_mal_pre: 0.5679 (0.5642)  loss_bbox_pre: 0.9457 (0.9313)  loss_giou_pre: 1.8906 (1.8994)  loss_mal_enc_0: 0.4961 (0.4922)  loss_bbox_enc_0: 0.9460 (0.9315)  loss_giou_enc_0: 1.8909 (1.8998)  loss_mal_dn_0: 1.1465 (1.1551)  loss_bbox_dn_0: 0.5484 (0.5373)  loss_giou_dn_0: 1.3636 (1.3591)  loss_fgl_dn_0: 0.8212 (0.8275)  loss_ddf_dn_0: 0.0002 (0.0001)  loss_mal_dn_1: 1.1016 (1.1059)  loss_bbox_dn_1: 0.5484 (0.5373)  loss_giou_dn_1: 1.3636 (1.3592)  loss_fgl_dn_1: 0.8211 (0.8274)  loss_ddf_dn_1: 0.0008 (0.0008)  loss_mal_dn_2: 1.0713 (1.0724)  loss_bbox_dn_2: 0.5485 (0.5374)  loss_giou_dn_2: 1.3636 (1.3591)  loss_fgl_dn_2: 0.8211 (0.8273)  loss_mal_dn_pre: 1.1465 (1.1551)  loss_bbox_dn_pre: 0.5484 (0.5373)  loss_giou_dn_pre: 1.3636 (1.3591)\n",
      "Test:  [0/5]  eta: 0:00:04    time: 0.8471  data: 0.7383  max mem: 10516\n"
     ]
    },
    {
     "name": "stderr",
     "output_type": "stream",
     "text": [
      "2025-03-10 14:51:55,274 - DEIMTrainer - INFO - Epoch 9 - Train loss: 32.6271, Eval mAP: 0.0000\n",
      "2025-03-10 14:51:55,274 - DEIMTrainer - INFO - Best stats: {'epoch': 5, 'coco_eval_bbox': 2.167603523337164e-05}\n"
     ]
    },
    {
     "name": "stdout",
     "output_type": "stream",
     "text": [
      "Test:  [4/5]  eta: 0:00:00    time: 0.2894  data: 0.1564  max mem: 10516\n",
      "Test: Total time: 0:00:01 (0.2990 s / it)\n",
      "Averaged stats: \n",
      "Accumulating evaluation results...\n",
      "COCOeval_opt.accumulate() finished...\n",
      "DONE (t=0.01s).\n",
      "IoU metric: bbox\n",
      " Average Precision  (AP) @[ IoU=0.50:0.95 | area=   all | maxDets=100 ] = 0.000\n",
      " Average Precision  (AP) @[ IoU=0.50      | area=   all | maxDets=100 ] = 0.000\n",
      " Average Precision  (AP) @[ IoU=0.75      | area=   all | maxDets=100 ] = 0.000\n",
      " Average Precision  (AP) @[ IoU=0.50:0.95 | area= small | maxDets=100 ] = 0.000\n",
      " Average Precision  (AP) @[ IoU=0.50:0.95 | area=medium | maxDets=100 ] = 0.000\n",
      " Average Precision  (AP) @[ IoU=0.50:0.95 | area= large | maxDets=100 ] = 0.000\n",
      " Average Recall     (AR) @[ IoU=0.50:0.95 | area=   all | maxDets=  1 ] = 0.000\n",
      " Average Recall     (AR) @[ IoU=0.50:0.95 | area=   all | maxDets= 10 ] = 0.000\n",
      " Average Recall     (AR) @[ IoU=0.50:0.95 | area=   all | maxDets=100 ] = 0.004\n",
      " Average Recall     (AR) @[ IoU=0.50:0.95 | area= small | maxDets=100 ] = 0.000\n",
      " Average Recall     (AR) @[ IoU=0.50:0.95 | area=medium | maxDets=100 ] = 0.003\n",
      " Average Recall     (AR) @[ IoU=0.50:0.95 | area= large | maxDets=100 ] = 0.004\n",
      " Average Recall     (AR) @[ IoU=0.50      | area=   all | maxDets=100 ] = 0.020\n",
      " Average Recall     (AR) @[ IoU=0.75      | area=   all | maxDets=100 ] = 0.000\n",
      "================================================\n",
      "{'coco_eval_bbox': [1.4009456229494588e-05, 7.246350396467654e-05, 4.796991327039681e-07, 0.0, 2.1582556988186016e-05, 0.00034332440827395137, 0.0, 0.0003256003256003256, 0.0043112589165220745, 0.0, 0.0030357142857142857, 0.0037748056969266574]}\n",
      "================================================\n",
      "Epoch: [10]  [ 0/15]  eta: 0:00:30  lr: 0.000001  loss: 32.3255 (32.3255)  loss_mal: 0.5229 (0.5229)  loss_bbox: 0.9075 (0.9075)  loss_giou: 1.9380 (1.9380)  loss_fgl: 0.3816 (0.3816)  loss_mal_aux_0: 0.5591 (0.5591)  loss_bbox_aux_0: 0.9080 (0.9080)  loss_giou_aux_0: 1.9390 (1.9390)  loss_fgl_aux_0: 0.3810 (0.3810)  loss_ddf_aux_0: -0.0001 (-0.0001)  loss_mal_aux_1: 0.5664 (0.5664)  loss_bbox_aux_1: 0.9077 (0.9077)  loss_giou_aux_1: 1.9386 (1.9386)  loss_fgl_aux_1: 0.3813 (0.3813)  loss_ddf_aux_1: 0.0005 (0.0005)  loss_mal_pre: 0.5586 (0.5586)  loss_bbox_pre: 0.9081 (0.9081)  loss_giou_pre: 1.9392 (1.9392)  loss_mal_enc_0: 0.4919 (0.4919)  loss_bbox_enc_0: 0.9083 (0.9083)  loss_giou_enc_0: 1.9397 (1.9397)  loss_mal_dn_0: 1.0693 (1.0693)  loss_bbox_dn_0: 0.5369 (0.5369)  loss_giou_dn_0: 1.3947 (1.3947)  loss_fgl_dn_0: 0.7953 (0.7953)  loss_ddf_dn_0: -0.0000 (-0.0000)  loss_mal_dn_1: 1.0205 (1.0205)  loss_bbox_dn_1: 0.5369 (0.5369)  loss_giou_dn_1: 1.3947 (1.3947)  loss_fgl_dn_1: 0.7952 (0.7952)  loss_ddf_dn_1: 0.0009 (0.0009)  loss_mal_dn_2: 0.9761 (0.9761)  loss_bbox_dn_2: 0.5370 (0.5370)  loss_giou_dn_2: 1.3947 (1.3947)  loss_fgl_dn_2: 0.7951 (0.7951)  loss_mal_dn_pre: 1.0693 (1.0693)  loss_bbox_dn_pre: 0.5369 (0.5369)  loss_giou_dn_pre: 1.3947 (1.3947)  time: 2.0159  data: 1.3929  max mem: 10516\n"
     ]
    },
    {
     "name": "stderr",
     "output_type": "stream",
     "text": [
      "2025-03-10 14:52:04,486 - DEIMTrainer - INFO - Evaluating model...\n"
     ]
    },
    {
     "name": "stdout",
     "output_type": "stream",
     "text": [
      "Epoch: [10]  [14/15]  eta: 0:00:00  lr: 0.000001  loss: 32.1773 (32.1915)  loss_mal: 0.5137 (0.5075)  loss_bbox: 0.8995 (0.8924)  loss_giou: 1.9141 (1.9400)  loss_fgl: 0.3816 (0.3822)  loss_mal_aux_0: 0.5537 (0.5421)  loss_bbox_aux_0: 0.9001 (0.8930)  loss_giou_aux_0: 1.9151 (1.9411)  loss_fgl_aux_0: 0.3810 (0.3815)  loss_ddf_aux_0: -0.0006 (-0.0006)  loss_mal_aux_1: 0.5430 (0.5458)  loss_bbox_aux_1: 0.8998 (0.8927)  loss_giou_aux_1: 1.9147 (1.9406)  loss_fgl_aux_1: 0.3813 (0.3818)  loss_ddf_aux_1: 0.0004 (0.0004)  loss_mal_pre: 0.5532 (0.5418)  loss_bbox_pre: 0.9002 (0.8932)  loss_giou_pre: 1.9153 (1.9413)  loss_mal_enc_0: 0.4653 (0.4695)  loss_bbox_enc_0: 0.9004 (0.8935)  loss_giou_enc_0: 1.9158 (1.9418)  loss_mal_dn_0: 1.1104 (1.1132)  loss_bbox_dn_0: 0.5079 (0.5151)  loss_giou_dn_0: 1.3630 (1.3626)  loss_fgl_dn_0: 0.8234 (0.8244)  loss_ddf_dn_0: -0.0003 (-0.0003)  loss_mal_dn_1: 1.0576 (1.0542)  loss_bbox_dn_1: 0.5079 (0.5152)  loss_giou_dn_1: 1.3630 (1.3626)  loss_fgl_dn_1: 0.8233 (0.8243)  loss_ddf_dn_1: 0.0009 (0.0009)  loss_mal_dn_2: 1.0059 (1.0046)  loss_bbox_dn_2: 0.5080 (0.5153)  loss_giou_dn_2: 1.3630 (1.3626)  loss_fgl_dn_2: 0.8232 (0.8242)  loss_mal_dn_pre: 1.1104 (1.1132)  loss_bbox_dn_pre: 0.5079 (0.5151)  loss_giou_dn_pre: 1.3630 (1.3626)  time: 0.6086  data: 0.1142  max mem: 10516\n",
      "Epoch: [10] Total time: 0:00:09 (0.6128 s / it)\n",
      "Averaged stats: lr: 0.000001  loss: 32.1773 (32.1915)  loss_mal: 0.5137 (0.5075)  loss_bbox: 0.8995 (0.8924)  loss_giou: 1.9141 (1.9400)  loss_fgl: 0.3816 (0.3822)  loss_mal_aux_0: 0.5537 (0.5421)  loss_bbox_aux_0: 0.9001 (0.8930)  loss_giou_aux_0: 1.9151 (1.9411)  loss_fgl_aux_0: 0.3810 (0.3815)  loss_ddf_aux_0: -0.0006 (-0.0006)  loss_mal_aux_1: 0.5430 (0.5458)  loss_bbox_aux_1: 0.8998 (0.8927)  loss_giou_aux_1: 1.9147 (1.9406)  loss_fgl_aux_1: 0.3813 (0.3818)  loss_ddf_aux_1: 0.0004 (0.0004)  loss_mal_pre: 0.5532 (0.5418)  loss_bbox_pre: 0.9002 (0.8932)  loss_giou_pre: 1.9153 (1.9413)  loss_mal_enc_0: 0.4653 (0.4695)  loss_bbox_enc_0: 0.9004 (0.8935)  loss_giou_enc_0: 1.9158 (1.9418)  loss_mal_dn_0: 1.1104 (1.1132)  loss_bbox_dn_0: 0.5079 (0.5151)  loss_giou_dn_0: 1.3630 (1.3626)  loss_fgl_dn_0: 0.8234 (0.8244)  loss_ddf_dn_0: -0.0003 (-0.0003)  loss_mal_dn_1: 1.0576 (1.0542)  loss_bbox_dn_1: 0.5079 (0.5152)  loss_giou_dn_1: 1.3630 (1.3626)  loss_fgl_dn_1: 0.8233 (0.8243)  loss_ddf_dn_1: 0.0009 (0.0009)  loss_mal_dn_2: 1.0059 (1.0046)  loss_bbox_dn_2: 0.5080 (0.5153)  loss_giou_dn_2: 1.3630 (1.3626)  loss_fgl_dn_2: 0.8232 (0.8242)  loss_mal_dn_pre: 1.1104 (1.1132)  loss_bbox_dn_pre: 0.5079 (0.5151)  loss_giou_dn_pre: 1.3630 (1.3626)\n",
      "Test:  [0/5]  eta: 0:00:03    time: 0.7237  data: 0.6103  max mem: 10516\n"
     ]
    },
    {
     "name": "stderr",
     "output_type": "stream",
     "text": [
      "2025-03-10 14:52:05,773 - DEIMTrainer - INFO - Saving checkpoint to outputs/deim_hgnetv2_s_coco/best.pth\n"
     ]
    },
    {
     "name": "stdout",
     "output_type": "stream",
     "text": [
      "Test:  [4/5]  eta: 0:00:00    time: 0.2420  data: 0.1382  max mem: 10516\n",
      "Test: Total time: 0:00:01 (0.2518 s / it)\n",
      "Averaged stats: \n",
      "Accumulating evaluation results...\n",
      "COCOeval_opt.accumulate() finished...\n",
      "DONE (t=0.01s).\n",
      "IoU metric: bbox\n",
      " Average Precision  (AP) @[ IoU=0.50:0.95 | area=   all | maxDets=100 ] = 0.000\n",
      " Average Precision  (AP) @[ IoU=0.50      | area=   all | maxDets=100 ] = 0.000\n",
      " Average Precision  (AP) @[ IoU=0.75      | area=   all | maxDets=100 ] = 0.000\n",
      " Average Precision  (AP) @[ IoU=0.50:0.95 | area= small | maxDets=100 ] = 0.000\n",
      " Average Precision  (AP) @[ IoU=0.50:0.95 | area=medium | maxDets=100 ] = 0.000\n",
      " Average Precision  (AP) @[ IoU=0.50:0.95 | area= large | maxDets=100 ] = 0.001\n",
      " Average Recall     (AR) @[ IoU=0.50:0.95 | area=   all | maxDets=  1 ] = 0.000\n",
      " Average Recall     (AR) @[ IoU=0.50:0.95 | area=   all | maxDets= 10 ] = 0.002\n",
      " Average Recall     (AR) @[ IoU=0.50:0.95 | area=   all | maxDets=100 ] = 0.007\n",
      " Average Recall     (AR) @[ IoU=0.50:0.95 | area= small | maxDets=100 ] = 0.000\n",
      " Average Recall     (AR) @[ IoU=0.50:0.95 | area=medium | maxDets=100 ] = 0.004\n",
      " Average Recall     (AR) @[ IoU=0.50:0.95 | area= large | maxDets=100 ] = 0.006\n",
      " Average Recall     (AR) @[ IoU=0.50      | area=   all | maxDets=100 ] = 0.026\n",
      " Average Recall     (AR) @[ IoU=0.75      | area=   all | maxDets=100 ] = 0.001\n",
      "================================================\n",
      "{'coco_eval_bbox': [2.2635522239754275e-05, 9.588448261855247e-05, 1.6765710099076961e-06, 0.0, 3.0153622116532688e-05, 0.000728761689610692, 0.0, 0.001633089133089133, 0.006667844825739563, 0.0, 0.003958333333333333, 0.005743480490787865]}\n",
      "================================================\n"
     ]
    },
    {
     "name": "stderr",
     "output_type": "stream",
     "text": [
      "2025-03-10 14:52:06,270 - DEIMTrainer - INFO - Checkpoint saved to outputs/deim_hgnetv2_s_coco/best.pth\n",
      "2025-03-10 14:52:06,272 - DEIMTrainer - INFO - Epoch 10 - Train loss: 32.1915, Eval mAP: 0.0000\n",
      "2025-03-10 14:52:06,272 - DEIMTrainer - INFO - Best stats: {'epoch': 10, 'coco_eval_bbox': 2.2635522239754275e-05}\n"
     ]
    },
    {
     "name": "stdout",
     "output_type": "stream",
     "text": [
      "Epoch: [11]  [ 0/15]  eta: 0:00:31  lr: 0.000001  loss: 32.3388 (32.3388)  loss_mal: 0.5664 (0.5664)  loss_bbox: 0.9318 (0.9318)  loss_giou: 1.7874 (1.7874)  loss_fgl: 0.4235 (0.4235)  loss_mal_aux_0: 0.5996 (0.5996)  loss_bbox_aux_0: 0.9328 (0.9328)  loss_giou_aux_0: 1.7888 (1.7888)  loss_fgl_aux_0: 0.4225 (0.4225)  loss_ddf_aux_0: -0.0013 (-0.0013)  loss_mal_aux_1: 0.6138 (0.6138)  loss_bbox_aux_1: 0.9323 (0.9323)  loss_giou_aux_1: 1.7882 (1.7882)  loss_fgl_aux_1: 0.4229 (0.4229)  loss_ddf_aux_1: 0.0004 (0.0004)  loss_mal_pre: 0.5991 (0.5991)  loss_bbox_pre: 0.9330 (0.9330)  loss_giou_pre: 1.7891 (1.7891)  loss_mal_enc_0: 0.5146 (0.5146)  loss_bbox_enc_0: 0.9335 (0.9335)  loss_giou_enc_0: 1.7897 (1.7897)  loss_mal_dn_0: 1.0947 (1.0947)  loss_bbox_dn_0: 0.6077 (0.6077)  loss_giou_dn_0: 1.3669 (1.3669)  loss_fgl_dn_0: 0.8176 (0.8176)  loss_ddf_dn_0: -0.0007 (-0.0007)  loss_mal_dn_1: 1.0469 (1.0469)  loss_bbox_dn_1: 0.6078 (0.6078)  loss_giou_dn_1: 1.3669 (1.3669)  loss_fgl_dn_1: 0.8174 (0.8174)  loss_ddf_dn_1: 0.0010 (0.0010)  loss_mal_dn_2: 0.9829 (0.9829)  loss_bbox_dn_2: 0.6080 (0.6080)  loss_giou_dn_2: 1.3669 (1.3669)  loss_fgl_dn_2: 0.8173 (0.8173)  loss_mal_dn_pre: 1.0947 (1.0947)  loss_bbox_dn_pre: 0.6078 (0.6078)  loss_giou_dn_pre: 1.3668 (1.3668)  time: 2.1261  data: 1.5675  max mem: 10516\n"
     ]
    },
    {
     "name": "stderr",
     "output_type": "stream",
     "text": [
      "2025-03-10 14:52:15,147 - DEIMTrainer - INFO - Saving checkpoint to outputs/deim_hgnetv2_s_coco/checkpoint0011.pth\n"
     ]
    },
    {
     "name": "stdout",
     "output_type": "stream",
     "text": [
      "Epoch: [11]  [14/15]  eta: 0:00:00  lr: 0.000002  loss: 31.6827 (31.8696)  loss_mal: 0.5430 (0.5204)  loss_bbox: 0.8619 (0.8763)  loss_giou: 1.8325 (1.8849)  loss_fgl: 0.4281 (0.4088)  loss_mal_aux_0: 0.5996 (0.5715)  loss_bbox_aux_0: 0.8630 (0.8773)  loss_giou_aux_0: 1.8341 (1.8865)  loss_fgl_aux_0: 0.4273 (0.4078)  loss_ddf_aux_0: -0.0017 (-0.0017)  loss_mal_aux_1: 0.6016 (0.5704)  loss_bbox_aux_1: 0.8625 (0.8768)  loss_giou_aux_1: 1.8334 (1.8858)  loss_fgl_aux_1: 0.4277 (0.4083)  loss_ddf_aux_1: 0.0003 (0.0003)  loss_mal_pre: 0.5991 (0.5708)  loss_bbox_pre: 0.8632 (0.8775)  loss_giou_pre: 1.8344 (1.8868)  loss_mal_enc_0: 0.5151 (0.4924)  loss_bbox_enc_0: 0.8637 (0.8779)  loss_giou_enc_0: 1.8352 (1.8875)  loss_mal_dn_0: 1.0752 (1.0726)  loss_bbox_dn_0: 0.5130 (0.5217)  loss_giou_dn_0: 1.3630 (1.3638)  loss_fgl_dn_0: 0.8246 (0.8254)  loss_ddf_dn_0: -0.0016 (-0.0015)  loss_mal_dn_1: 1.0146 (1.0034)  loss_bbox_dn_1: 0.5131 (0.5217)  loss_giou_dn_1: 1.3630 (1.3638)  loss_fgl_dn_1: 0.8243 (0.8252)  loss_ddf_dn_1: 0.0006 (0.0006)  loss_mal_dn_2: 0.9463 (0.9379)  loss_bbox_dn_2: 0.5133 (0.5219)  loss_giou_dn_2: 1.3630 (1.3637)  loss_fgl_dn_2: 0.8242 (0.8251)  loss_mal_dn_pre: 1.0752 (1.0727)  loss_bbox_dn_pre: 0.5131 (0.5217)  loss_giou_dn_pre: 1.3630 (1.3638)  time: 0.5854  data: 0.1237  max mem: 10516\n",
      "Epoch: [11] Total time: 0:00:08 (0.5901 s / it)\n",
      "Averaged stats: lr: 0.000002  loss: 31.6827 (31.8696)  loss_mal: 0.5430 (0.5204)  loss_bbox: 0.8619 (0.8763)  loss_giou: 1.8325 (1.8849)  loss_fgl: 0.4281 (0.4088)  loss_mal_aux_0: 0.5996 (0.5715)  loss_bbox_aux_0: 0.8630 (0.8773)  loss_giou_aux_0: 1.8341 (1.8865)  loss_fgl_aux_0: 0.4273 (0.4078)  loss_ddf_aux_0: -0.0017 (-0.0017)  loss_mal_aux_1: 0.6016 (0.5704)  loss_bbox_aux_1: 0.8625 (0.8768)  loss_giou_aux_1: 1.8334 (1.8858)  loss_fgl_aux_1: 0.4277 (0.4083)  loss_ddf_aux_1: 0.0003 (0.0003)  loss_mal_pre: 0.5991 (0.5708)  loss_bbox_pre: 0.8632 (0.8775)  loss_giou_pre: 1.8344 (1.8868)  loss_mal_enc_0: 0.5151 (0.4924)  loss_bbox_enc_0: 0.8637 (0.8779)  loss_giou_enc_0: 1.8352 (1.8875)  loss_mal_dn_0: 1.0752 (1.0726)  loss_bbox_dn_0: 0.5130 (0.5217)  loss_giou_dn_0: 1.3630 (1.3638)  loss_fgl_dn_0: 0.8246 (0.8254)  loss_ddf_dn_0: -0.0016 (-0.0015)  loss_mal_dn_1: 1.0146 (1.0034)  loss_bbox_dn_1: 0.5131 (0.5217)  loss_giou_dn_1: 1.3630 (1.3638)  loss_fgl_dn_1: 0.8243 (0.8252)  loss_ddf_dn_1: 0.0006 (0.0006)  loss_mal_dn_2: 0.9463 (0.9379)  loss_bbox_dn_2: 0.5133 (0.5219)  loss_giou_dn_2: 1.3630 (1.3637)  loss_fgl_dn_2: 0.8242 (0.8251)  loss_mal_dn_pre: 1.0752 (1.0727)  loss_bbox_dn_pre: 0.5131 (0.5217)  loss_giou_dn_pre: 1.3630 (1.3638)\n"
     ]
    },
    {
     "name": "stderr",
     "output_type": "stream",
     "text": [
      "2025-03-10 14:52:15,532 - DEIMTrainer - INFO - Checkpoint saved to outputs/deim_hgnetv2_s_coco/checkpoint0011.pth\n",
      "2025-03-10 14:52:15,534 - DEIMTrainer - INFO - Evaluating model...\n"
     ]
    },
    {
     "name": "stdout",
     "output_type": "stream",
     "text": [
      "Test:  [0/5]  eta: 0:00:04    time: 0.8598  data: 0.7439  max mem: 10516\n"
     ]
    },
    {
     "name": "stderr",
     "output_type": "stream",
     "text": [
      "2025-03-10 14:52:17,105 - DEIMTrainer - INFO - Epoch 11 - Train loss: 31.8696, Eval mAP: 0.0000\n",
      "2025-03-10 14:52:17,105 - DEIMTrainer - INFO - Best stats: {'epoch': 10, 'coco_eval_bbox': 2.2635522239754275e-05}\n"
     ]
    },
    {
     "name": "stdout",
     "output_type": "stream",
     "text": [
      "Test:  [4/5]  eta: 0:00:00    time: 0.2986  data: 0.1608  max mem: 10516\n",
      "Test: Total time: 0:00:01 (0.3087 s / it)\n",
      "Averaged stats: \n",
      "Accumulating evaluation results...\n",
      "COCOeval_opt.accumulate() finished...\n",
      "DONE (t=0.01s).\n",
      "IoU metric: bbox\n",
      " Average Precision  (AP) @[ IoU=0.50:0.95 | area=   all | maxDets=100 ] = 0.000\n",
      " Average Precision  (AP) @[ IoU=0.50      | area=   all | maxDets=100 ] = 0.000\n",
      " Average Precision  (AP) @[ IoU=0.75      | area=   all | maxDets=100 ] = 0.000\n",
      " Average Precision  (AP) @[ IoU=0.50:0.95 | area= small | maxDets=100 ] = 0.000\n",
      " Average Precision  (AP) @[ IoU=0.50:0.95 | area=medium | maxDets=100 ] = 0.000\n",
      " Average Precision  (AP) @[ IoU=0.50:0.95 | area= large | maxDets=100 ] = 0.000\n",
      " Average Recall     (AR) @[ IoU=0.50:0.95 | area=   all | maxDets=  1 ] = 0.000\n",
      " Average Recall     (AR) @[ IoU=0.50:0.95 | area=   all | maxDets= 10 ] = 0.001\n",
      " Average Recall     (AR) @[ IoU=0.50:0.95 | area=   all | maxDets=100 ] = 0.004\n",
      " Average Recall     (AR) @[ IoU=0.50:0.95 | area= small | maxDets=100 ] = 0.000\n",
      " Average Recall     (AR) @[ IoU=0.50:0.95 | area=medium | maxDets=100 ] = 0.002\n",
      " Average Recall     (AR) @[ IoU=0.50:0.95 | area= large | maxDets=100 ] = 0.004\n",
      " Average Recall     (AR) @[ IoU=0.50      | area=   all | maxDets=100 ] = 0.024\n",
      " Average Recall     (AR) @[ IoU=0.75      | area=   all | maxDets=100 ] = 0.000\n",
      "================================================\n",
      "{'coco_eval_bbox': [1.543915845181921e-05, 7.940500368696504e-05, 0.0, 0.0, 1.319486455403777e-05, 0.000489747656402278, 0.0, 0.0006827967354283144, 0.004229858835121993, 0.0, 0.00244047619047619, 0.003886850514853829]}\n",
      "================================================\n",
      "Epoch: [12]  [ 0/15]  eta: 0:00:26  lr: 0.000002  loss: 33.2108 (33.2108)  loss_mal: 0.4905 (0.4905)  loss_bbox: 1.0701 (1.0701)  loss_giou: 1.9752 (1.9752)  loss_fgl: 0.3888 (0.3888)  loss_mal_aux_0: 0.5376 (0.5376)  loss_bbox_aux_0: 1.0718 (1.0718)  loss_giou_aux_0: 1.9770 (1.9770)  loss_fgl_aux_0: 0.3875 (0.3875)  loss_ddf_aux_0: -0.0018 (-0.0018)  loss_mal_aux_1: 0.5415 (0.5415)  loss_bbox_aux_1: 1.0710 (1.0710)  loss_giou_aux_1: 1.9762 (1.9762)  loss_fgl_aux_1: 0.3881 (0.3881)  loss_ddf_aux_1: 0.0000 (0.0000)  loss_mal_pre: 0.5366 (0.5366)  loss_bbox_pre: 1.0721 (1.0721)  loss_giou_pre: 1.9774 (1.9774)  loss_mal_enc_0: 0.4670 (0.4670)  loss_bbox_enc_0: 1.0728 (1.0728)  loss_giou_enc_0: 1.9782 (1.9782)  loss_mal_dn_0: 1.0342 (1.0342)  loss_bbox_dn_0: 0.5996 (0.5996)  loss_giou_dn_0: 1.3674 (1.3674)  loss_fgl_dn_0: 0.8198 (0.8198)  loss_ddf_dn_0: -0.0017 (-0.0017)  loss_mal_dn_1: 0.9585 (0.9585)  loss_bbox_dn_1: 0.5997 (0.5997)  loss_giou_dn_1: 1.3674 (1.3674)  loss_fgl_dn_1: 0.8195 (0.8195)  loss_ddf_dn_1: 0.0002 (0.0002)  loss_mal_dn_2: 0.8809 (0.8809)  loss_bbox_dn_2: 0.5999 (0.5999)  loss_giou_dn_2: 1.3673 (1.3673)  loss_fgl_dn_2: 0.8194 (0.8194)  loss_mal_dn_pre: 1.0342 (1.0342)  loss_bbox_dn_pre: 0.5996 (0.5996)  loss_giou_dn_pre: 1.3674 (1.3674)  time: 1.7769  data: 1.2309  max mem: 10516\n"
     ]
    },
    {
     "name": "stderr",
     "output_type": "stream",
     "text": [
      "2025-03-10 14:52:26,090 - DEIMTrainer - INFO - Evaluating model...\n"
     ]
    },
    {
     "name": "stdout",
     "output_type": "stream",
     "text": [
      "Epoch: [12]  [14/15]  eta: 0:00:00  lr: 0.000002  loss: 31.3155 (31.4387)  loss_mal: 0.5386 (0.5450)  loss_bbox: 0.8513 (0.8503)  loss_giou: 1.7885 (1.7983)  loss_fgl: 0.4390 (0.4412)  loss_mal_aux_0: 0.5977 (0.6036)  loss_bbox_aux_0: 0.8525 (0.8517)  loss_giou_aux_0: 1.7910 (1.8005)  loss_fgl_aux_0: 0.4373 (0.4396)  loss_ddf_aux_0: -0.0025 (-0.0025)  loss_mal_aux_1: 0.5996 (0.5993)  loss_bbox_aux_1: 0.8519 (0.8510)  loss_giou_aux_1: 1.7898 (1.7995)  loss_fgl_aux_1: 0.4381 (0.4403)  loss_ddf_aux_1: -0.0004 (-0.0004)  loss_mal_pre: 0.5967 (0.6031)  loss_bbox_pre: 0.8527 (0.8520)  loss_giou_pre: 1.7915 (1.8010)  loss_mal_enc_0: 0.5171 (0.5207)  loss_bbox_enc_0: 0.8532 (0.8526)  loss_giou_enc_0: 1.7926 (1.8020)  loss_mal_dn_0: 1.0342 (1.0325)  loss_bbox_dn_0: 0.5295 (0.5396)  loss_giou_dn_0: 1.3627 (1.3636)  loss_fgl_dn_0: 0.8277 (0.8269)  loss_ddf_dn_0: -0.0023 (-0.0023)  loss_mal_dn_1: 0.9585 (0.9607)  loss_bbox_dn_1: 0.5296 (0.5397)  loss_giou_dn_1: 1.3627 (1.3636)  loss_fgl_dn_1: 0.8274 (0.8266)  loss_ddf_dn_1: -0.0001 (-0.0001)  loss_mal_dn_2: 0.8745 (0.8726)  loss_bbox_dn_2: 0.5298 (0.5399)  loss_giou_dn_2: 1.3627 (1.3636)  loss_fgl_dn_2: 0.8273 (0.8265)  loss_mal_dn_pre: 1.0342 (1.0330)  loss_bbox_dn_pre: 0.5296 (0.5397)  loss_giou_dn_pre: 1.3627 (1.3636)  time: 0.5929  data: 0.1035  max mem: 10516\n",
      "Epoch: [12] Total time: 0:00:08 (0.5972 s / it)\n",
      "Averaged stats: lr: 0.000002  loss: 31.3155 (31.4387)  loss_mal: 0.5386 (0.5450)  loss_bbox: 0.8513 (0.8503)  loss_giou: 1.7885 (1.7983)  loss_fgl: 0.4390 (0.4412)  loss_mal_aux_0: 0.5977 (0.6036)  loss_bbox_aux_0: 0.8525 (0.8517)  loss_giou_aux_0: 1.7910 (1.8005)  loss_fgl_aux_0: 0.4373 (0.4396)  loss_ddf_aux_0: -0.0025 (-0.0025)  loss_mal_aux_1: 0.5996 (0.5993)  loss_bbox_aux_1: 0.8519 (0.8510)  loss_giou_aux_1: 1.7898 (1.7995)  loss_fgl_aux_1: 0.4381 (0.4403)  loss_ddf_aux_1: -0.0004 (-0.0004)  loss_mal_pre: 0.5967 (0.6031)  loss_bbox_pre: 0.8527 (0.8520)  loss_giou_pre: 1.7915 (1.8010)  loss_mal_enc_0: 0.5171 (0.5207)  loss_bbox_enc_0: 0.8532 (0.8526)  loss_giou_enc_0: 1.7926 (1.8020)  loss_mal_dn_0: 1.0342 (1.0325)  loss_bbox_dn_0: 0.5295 (0.5396)  loss_giou_dn_0: 1.3627 (1.3636)  loss_fgl_dn_0: 0.8277 (0.8269)  loss_ddf_dn_0: -0.0023 (-0.0023)  loss_mal_dn_1: 0.9585 (0.9607)  loss_bbox_dn_1: 0.5296 (0.5397)  loss_giou_dn_1: 1.3627 (1.3636)  loss_fgl_dn_1: 0.8274 (0.8266)  loss_ddf_dn_1: -0.0001 (-0.0001)  loss_mal_dn_2: 0.8745 (0.8726)  loss_bbox_dn_2: 0.5298 (0.5399)  loss_giou_dn_2: 1.3627 (1.3636)  loss_fgl_dn_2: 0.8273 (0.8265)  loss_mal_dn_pre: 1.0342 (1.0330)  loss_bbox_dn_pre: 0.5296 (0.5397)  loss_giou_dn_pre: 1.3627 (1.3636)\n",
      "Test:  [0/5]  eta: 0:00:04    time: 0.8930  data: 0.7775  max mem: 10516\n"
     ]
    },
    {
     "name": "stderr",
     "output_type": "stream",
     "text": [
      "2025-03-10 14:52:27,548 - DEIMTrainer - INFO - Epoch 12 - Train loss: 31.4387, Eval mAP: 0.0000\n",
      "2025-03-10 14:52:27,549 - DEIMTrainer - INFO - Best stats: {'epoch': 10, 'coco_eval_bbox': 2.2635522239754275e-05}\n"
     ]
    },
    {
     "name": "stdout",
     "output_type": "stream",
     "text": [
      "Test:  [4/5]  eta: 0:00:00    time: 0.2737  data: 0.1687  max mem: 10516\n",
      "Test: Total time: 0:00:01 (0.2865 s / it)\n",
      "Averaged stats: \n",
      "Accumulating evaluation results...\n",
      "COCOeval_opt.accumulate() finished...\n",
      "DONE (t=0.01s).\n",
      "IoU metric: bbox\n",
      " Average Precision  (AP) @[ IoU=0.50:0.95 | area=   all | maxDets=100 ] = 0.000\n",
      " Average Precision  (AP) @[ IoU=0.50      | area=   all | maxDets=100 ] = 0.000\n",
      " Average Precision  (AP) @[ IoU=0.75      | area=   all | maxDets=100 ] = 0.000\n",
      " Average Precision  (AP) @[ IoU=0.50:0.95 | area= small | maxDets=100 ] = 0.000\n",
      " Average Precision  (AP) @[ IoU=0.50:0.95 | area=medium | maxDets=100 ] = 0.000\n",
      " Average Precision  (AP) @[ IoU=0.50:0.95 | area= large | maxDets=100 ] = 0.000\n",
      " Average Recall     (AR) @[ IoU=0.50:0.95 | area=   all | maxDets=  1 ] = 0.000\n",
      " Average Recall     (AR) @[ IoU=0.50:0.95 | area=   all | maxDets= 10 ] = 0.000\n",
      " Average Recall     (AR) @[ IoU=0.50:0.95 | area=   all | maxDets=100 ] = 0.002\n",
      " Average Recall     (AR) @[ IoU=0.50:0.95 | area= small | maxDets=100 ] = 0.000\n",
      " Average Recall     (AR) @[ IoU=0.50:0.95 | area=medium | maxDets=100 ] = 0.000\n",
      " Average Recall     (AR) @[ IoU=0.50:0.95 | area= large | maxDets=100 ] = 0.003\n",
      " Average Recall     (AR) @[ IoU=0.50      | area=   all | maxDets=100 ] = 0.013\n",
      " Average Recall     (AR) @[ IoU=0.75      | area=   all | maxDets=100 ] = 0.000\n",
      "================================================\n",
      "{'coco_eval_bbox': [7.312744111047212e-06, 4.495193859444469e-05, 0.0, 0.0, 3.288819165922571e-07, 0.000306607750668096, 0.0, 0.0004629629629629629, 0.0024979649979649985, 0.0, 0.0002976190476190476, 0.0031585591983272184]}\n",
      "================================================\n",
      "Epoch: [13]  [ 0/15]  eta: 0:00:39  lr: 0.000002  loss: 30.6957 (30.6957)  loss_mal: 0.5088 (0.5088)  loss_bbox: 0.7527 (0.7527)  loss_giou: 1.8946 (1.8946)  loss_fgl: 0.4156 (0.4156)  loss_mal_aux_0: 0.5669 (0.5669)  loss_bbox_aux_0: 0.7536 (0.7536)  loss_giou_aux_0: 1.8974 (1.8974)  loss_fgl_aux_0: 0.4139 (0.4139)  loss_ddf_aux_0: -0.0022 (-0.0022)  loss_mal_aux_1: 0.5625 (0.5625)  loss_bbox_aux_1: 0.7532 (0.7532)  loss_giou_aux_1: 1.8961 (1.8961)  loss_fgl_aux_1: 0.4147 (0.4147)  loss_ddf_aux_1: -0.0005 (-0.0005)  loss_mal_pre: 0.5664 (0.5664)  loss_bbox_pre: 0.7538 (0.7538)  loss_giou_pre: 1.8980 (1.8980)  loss_mal_enc_0: 0.4807 (0.4807)  loss_bbox_enc_0: 0.7542 (0.7542)  loss_giou_enc_0: 1.8993 (1.8993)  loss_mal_dn_0: 1.0049 (1.0049)  loss_bbox_dn_0: 0.4558 (0.4558)  loss_giou_dn_0: 1.3711 (1.3711)  loss_fgl_dn_0: 0.8197 (0.8197)  loss_ddf_dn_0: -0.0024 (-0.0024)  loss_mal_dn_1: 0.9219 (0.9219)  loss_bbox_dn_1: 0.4559 (0.4559)  loss_giou_dn_1: 1.3711 (1.3711)  loss_fgl_dn_1: 0.8194 (0.8194)  loss_ddf_dn_1: -0.0001 (-0.0001)  loss_mal_dn_2: 0.8203 (0.8203)  loss_bbox_dn_2: 0.4561 (0.4561)  loss_giou_dn_2: 1.3711 (1.3711)  loss_fgl_dn_2: 0.8193 (0.8193)  loss_mal_dn_pre: 1.0049 (1.0049)  loss_bbox_dn_pre: 0.4559 (0.4559)  loss_giou_dn_pre: 1.3711 (1.3711)  time: 2.6059  data: 1.9609  max mem: 10516\n"
     ]
    },
    {
     "name": "stderr",
     "output_type": "stream",
     "text": [
      "2025-03-10 14:52:37,079 - DEIMTrainer - INFO - Evaluating model...\n"
     ]
    },
    {
     "name": "stdout",
     "output_type": "stream",
     "text": [
      "Epoch: [13]  [14/15]  eta: 0:00:00  lr: 0.000002  loss: 30.8998 (30.8335)  loss_mal: 0.5312 (0.5294)  loss_bbox: 0.8135 (0.8020)  loss_giou: 1.7853 (1.7936)  loss_fgl: 0.4559 (0.4491)  loss_mal_aux_0: 0.6245 (0.6070)  loss_bbox_aux_0: 0.8154 (0.8038)  loss_giou_aux_0: 1.7888 (1.7968)  loss_fgl_aux_0: 0.4535 (0.4469)  loss_ddf_aux_0: -0.0012 (-0.0013)  loss_mal_aux_1: 0.6040 (0.5930)  loss_bbox_aux_1: 0.8145 (0.8030)  loss_giou_aux_1: 1.7872 (1.7953)  loss_fgl_aux_1: 0.4546 (0.4479)  loss_ddf_aux_1: -0.0003 (-0.0003)  loss_mal_pre: 0.6240 (0.6066)  loss_bbox_pre: 0.8157 (0.8041)  loss_giou_pre: 1.7896 (1.7974)  loss_mal_enc_0: 0.5225 (0.5174)  loss_bbox_enc_0: 0.8166 (0.8049)  loss_giou_enc_0: 1.7911 (1.7988)  loss_mal_dn_0: 0.9761 (0.9759)  loss_bbox_dn_0: 0.5061 (0.5157)  loss_giou_dn_0: 1.3655 (1.3657)  loss_fgl_dn_0: 0.8236 (0.8250)  loss_ddf_dn_0: -0.0022 (-0.0021)  loss_mal_dn_1: 0.8955 (0.8979)  loss_bbox_dn_1: 0.5062 (0.5158)  loss_giou_dn_1: 1.3655 (1.3657)  loss_fgl_dn_1: 0.8233 (0.8247)  loss_ddf_dn_1: -0.0000 (-0.0000)  loss_mal_dn_2: 0.7900 (0.7898)  loss_bbox_dn_2: 0.5064 (0.5161)  loss_giou_dn_2: 1.3654 (1.3657)  loss_fgl_dn_2: 0.8232 (0.8245)  loss_mal_dn_pre: 0.9761 (0.9762)  loss_bbox_dn_pre: 0.5062 (0.5157)  loss_giou_dn_pre: 1.3655 (1.3657)  time: 0.6296  data: 0.1476  max mem: 10516\n",
      "Epoch: [13] Total time: 0:00:09 (0.6340 s / it)\n",
      "Averaged stats: lr: 0.000002  loss: 30.8998 (30.8335)  loss_mal: 0.5312 (0.5294)  loss_bbox: 0.8135 (0.8020)  loss_giou: 1.7853 (1.7936)  loss_fgl: 0.4559 (0.4491)  loss_mal_aux_0: 0.6245 (0.6070)  loss_bbox_aux_0: 0.8154 (0.8038)  loss_giou_aux_0: 1.7888 (1.7968)  loss_fgl_aux_0: 0.4535 (0.4469)  loss_ddf_aux_0: -0.0012 (-0.0013)  loss_mal_aux_1: 0.6040 (0.5930)  loss_bbox_aux_1: 0.8145 (0.8030)  loss_giou_aux_1: 1.7872 (1.7953)  loss_fgl_aux_1: 0.4546 (0.4479)  loss_ddf_aux_1: -0.0003 (-0.0003)  loss_mal_pre: 0.6240 (0.6066)  loss_bbox_pre: 0.8157 (0.8041)  loss_giou_pre: 1.7896 (1.7974)  loss_mal_enc_0: 0.5225 (0.5174)  loss_bbox_enc_0: 0.8166 (0.8049)  loss_giou_enc_0: 1.7911 (1.7988)  loss_mal_dn_0: 0.9761 (0.9759)  loss_bbox_dn_0: 0.5061 (0.5157)  loss_giou_dn_0: 1.3655 (1.3657)  loss_fgl_dn_0: 0.8236 (0.8250)  loss_ddf_dn_0: -0.0022 (-0.0021)  loss_mal_dn_1: 0.8955 (0.8979)  loss_bbox_dn_1: 0.5062 (0.5158)  loss_giou_dn_1: 1.3655 (1.3657)  loss_fgl_dn_1: 0.8233 (0.8247)  loss_ddf_dn_1: -0.0000 (-0.0000)  loss_mal_dn_2: 0.7900 (0.7898)  loss_bbox_dn_2: 0.5064 (0.5161)  loss_giou_dn_2: 1.3654 (1.3657)  loss_fgl_dn_2: 0.8232 (0.8245)  loss_mal_dn_pre: 0.9761 (0.9762)  loss_bbox_dn_pre: 0.5062 (0.5157)  loss_giou_dn_pre: 1.3655 (1.3657)\n",
      "Test:  [0/5]  eta: 0:00:03    time: 0.7981  data: 0.6769  max mem: 10516\n"
     ]
    },
    {
     "name": "stderr",
     "output_type": "stream",
     "text": [
      "2025-03-10 14:52:38,433 - DEIMTrainer - INFO - Epoch 13 - Train loss: 30.8335, Eval mAP: 0.0000\n",
      "2025-03-10 14:52:38,433 - DEIMTrainer - INFO - Best stats: {'epoch': 10, 'coco_eval_bbox': 2.2635522239754275e-05}\n"
     ]
    },
    {
     "name": "stdout",
     "output_type": "stream",
     "text": [
      "Test:  [4/5]  eta: 0:00:00    time: 0.2523  data: 0.1471  max mem: 10516\n",
      "Test: Total time: 0:00:01 (0.2655 s / it)\n",
      "Averaged stats: \n",
      "Accumulating evaluation results...\n",
      "COCOeval_opt.accumulate() finished...\n",
      "DONE (t=0.01s).\n",
      "IoU metric: bbox\n",
      " Average Precision  (AP) @[ IoU=0.50:0.95 | area=   all | maxDets=100 ] = 0.000\n",
      " Average Precision  (AP) @[ IoU=0.50      | area=   all | maxDets=100 ] = 0.000\n",
      " Average Precision  (AP) @[ IoU=0.75      | area=   all | maxDets=100 ] = 0.000\n",
      " Average Precision  (AP) @[ IoU=0.50:0.95 | area= small | maxDets=100 ] = 0.000\n",
      " Average Precision  (AP) @[ IoU=0.50:0.95 | area=medium | maxDets=100 ] = 0.000\n",
      " Average Precision  (AP) @[ IoU=0.50:0.95 | area= large | maxDets=100 ] = 0.000\n",
      " Average Recall     (AR) @[ IoU=0.50:0.95 | area=   all | maxDets=  1 ] = 0.000\n",
      " Average Recall     (AR) @[ IoU=0.50:0.95 | area=   all | maxDets= 10 ] = 0.000\n",
      " Average Recall     (AR) @[ IoU=0.50:0.95 | area=   all | maxDets=100 ] = 0.002\n",
      " Average Recall     (AR) @[ IoU=0.50:0.95 | area= small | maxDets=100 ] = 0.000\n",
      " Average Recall     (AR) @[ IoU=0.50:0.95 | area=medium | maxDets=100 ] = 0.000\n",
      " Average Recall     (AR) @[ IoU=0.50:0.95 | area= large | maxDets=100 ] = 0.002\n",
      " Average Recall     (AR) @[ IoU=0.50      | area=   all | maxDets=100 ] = 0.005\n",
      " Average Recall     (AR) @[ IoU=0.75      | area=   all | maxDets=100 ] = 0.001\n",
      "================================================\n",
      "{'coco_eval_bbox': [6.617642349867269e-06, 4.496763040359335e-05, 1.669081270905243e-06, 0.0, 1.0313531353135314e-05, 0.00029072397276131036, 0.0, 0.0001628001628001628, 0.00175010175010175, 0.0, 0.0002976190476190476, 0.002296918767507003]}\n",
      "================================================\n",
      "Epoch: [14]  [ 0/15]  eta: 0:00:30  lr: 0.000002  loss: 30.5736 (30.5736)  loss_mal: 0.5459 (0.5459)  loss_bbox: 0.7750 (0.7750)  loss_giou: 1.7451 (1.7451)  loss_fgl: 0.4664 (0.4664)  loss_mal_aux_0: 0.6260 (0.6260)  loss_bbox_aux_0: 0.7774 (0.7774)  loss_giou_aux_0: 1.7489 (1.7489)  loss_fgl_aux_0: 0.4637 (0.4637)  loss_ddf_aux_0: -0.0002 (-0.0002)  loss_mal_aux_1: 0.6011 (0.6011)  loss_bbox_aux_1: 0.7762 (0.7762)  loss_giou_aux_1: 1.7471 (1.7471)  loss_fgl_aux_1: 0.4649 (0.4649)  loss_ddf_aux_1: -0.0001 (-0.0001)  loss_mal_pre: 0.6250 (0.6250)  loss_bbox_pre: 0.7778 (0.7778)  loss_giou_pre: 1.7497 (1.7497)  loss_mal_enc_0: 0.5249 (0.5249)  loss_bbox_enc_0: 0.7789 (0.7789)  loss_giou_enc_0: 1.7514 (1.7514)  loss_mal_dn_0: 0.9814 (0.9814)  loss_bbox_dn_0: 0.5162 (0.5162)  loss_giou_dn_0: 1.3428 (1.3428)  loss_fgl_dn_0: 0.8400 (0.8400)  loss_ddf_dn_0: -0.0019 (-0.0019)  loss_mal_dn_1: 0.9170 (0.9170)  loss_bbox_dn_1: 0.5164 (0.5164)  loss_giou_dn_1: 1.3429 (1.3429)  loss_fgl_dn_1: 0.8396 (0.8396)  loss_ddf_dn_1: 0.0001 (0.0001)  loss_mal_dn_2: 0.7939 (0.7939)  loss_bbox_dn_2: 0.5168 (0.5168)  loss_giou_dn_2: 1.3428 (1.3428)  loss_fgl_dn_2: 0.8394 (0.8394)  loss_mal_dn_pre: 0.9819 (0.9819)  loss_bbox_dn_pre: 0.5163 (0.5163)  loss_giou_dn_pre: 1.3428 (1.3428)  time: 2.0133  data: 1.3779  max mem: 10516\n"
     ]
    },
    {
     "name": "stderr",
     "output_type": "stream",
     "text": [
      "2025-03-10 14:52:47,417 - DEIMTrainer - INFO - Evaluating model...\n"
     ]
    },
    {
     "name": "stdout",
     "output_type": "stream",
     "text": [
      "Epoch: [14]  [14/15]  eta: 0:00:00  lr: 0.000003  loss: 30.4998 (30.4120)  loss_mal: 0.5444 (0.5405)  loss_bbox: 0.7750 (0.7771)  loss_giou: 1.7323 (1.7372)  loss_fgl: 0.4788 (0.4835)  loss_mal_aux_0: 0.6372 (0.6298)  loss_bbox_aux_0: 0.7774 (0.7798)  loss_giou_aux_0: 1.7374 (1.7419)  loss_fgl_aux_0: 0.4747 (0.4802)  loss_ddf_aux_0: 0.0008 (0.0007)  loss_mal_aux_1: 0.6011 (0.5996)  loss_bbox_aux_1: 0.7762 (0.7785)  loss_giou_aux_1: 1.7349 (1.7397)  loss_fgl_aux_1: 0.4766 (0.4818)  loss_ddf_aux_1: 0.0003 (0.0003)  loss_mal_pre: 0.6353 (0.6289)  loss_bbox_pre: 0.7778 (0.7804)  loss_giou_pre: 1.7384 (1.7429)  loss_mal_enc_0: 0.5415 (0.5377)  loss_bbox_enc_0: 0.7789 (0.7816)  loss_giou_enc_0: 1.7408 (1.7449)  loss_mal_dn_0: 0.9312 (0.9189)  loss_bbox_dn_0: 0.5162 (0.5220)  loss_giou_dn_0: 1.3613 (1.3590)  loss_fgl_dn_0: 0.8277 (0.8286)  loss_ddf_dn_0: -0.0009 (-0.0009)  loss_mal_dn_1: 0.8447 (0.8452)  loss_bbox_dn_1: 0.5164 (0.5222)  loss_giou_dn_1: 1.3613 (1.3590)  loss_fgl_dn_1: 0.8272 (0.8282)  loss_ddf_dn_1: 0.0003 (0.0003)  loss_mal_dn_2: 0.7397 (0.7326)  loss_bbox_dn_2: 0.5168 (0.5226)  loss_giou_dn_2: 1.3613 (1.3590)  loss_fgl_dn_2: 0.8270 (0.8280)  loss_mal_dn_pre: 0.9326 (0.9193)  loss_bbox_dn_pre: 0.5163 (0.5221)  loss_giou_dn_pre: 1.3613 (1.3590)  time: 0.5929  data: 0.1082  max mem: 10516\n",
      "Epoch: [14] Total time: 0:00:08 (0.5974 s / it)\n",
      "Averaged stats: lr: 0.000003  loss: 30.4998 (30.4120)  loss_mal: 0.5444 (0.5405)  loss_bbox: 0.7750 (0.7771)  loss_giou: 1.7323 (1.7372)  loss_fgl: 0.4788 (0.4835)  loss_mal_aux_0: 0.6372 (0.6298)  loss_bbox_aux_0: 0.7774 (0.7798)  loss_giou_aux_0: 1.7374 (1.7419)  loss_fgl_aux_0: 0.4747 (0.4802)  loss_ddf_aux_0: 0.0008 (0.0007)  loss_mal_aux_1: 0.6011 (0.5996)  loss_bbox_aux_1: 0.7762 (0.7785)  loss_giou_aux_1: 1.7349 (1.7397)  loss_fgl_aux_1: 0.4766 (0.4818)  loss_ddf_aux_1: 0.0003 (0.0003)  loss_mal_pre: 0.6353 (0.6289)  loss_bbox_pre: 0.7778 (0.7804)  loss_giou_pre: 1.7384 (1.7429)  loss_mal_enc_0: 0.5415 (0.5377)  loss_bbox_enc_0: 0.7789 (0.7816)  loss_giou_enc_0: 1.7408 (1.7449)  loss_mal_dn_0: 0.9312 (0.9189)  loss_bbox_dn_0: 0.5162 (0.5220)  loss_giou_dn_0: 1.3613 (1.3590)  loss_fgl_dn_0: 0.8277 (0.8286)  loss_ddf_dn_0: -0.0009 (-0.0009)  loss_mal_dn_1: 0.8447 (0.8452)  loss_bbox_dn_1: 0.5164 (0.5222)  loss_giou_dn_1: 1.3613 (1.3590)  loss_fgl_dn_1: 0.8272 (0.8282)  loss_ddf_dn_1: 0.0003 (0.0003)  loss_mal_dn_2: 0.7397 (0.7326)  loss_bbox_dn_2: 0.5168 (0.5226)  loss_giou_dn_2: 1.3613 (1.3590)  loss_fgl_dn_2: 0.8270 (0.8280)  loss_mal_dn_pre: 0.9326 (0.9193)  loss_bbox_dn_pre: 0.5163 (0.5221)  loss_giou_dn_pre: 1.3613 (1.3590)\n",
      "Test:  [0/5]  eta: 0:00:04    time: 0.8152  data: 0.7077  max mem: 10516\n"
     ]
    },
    {
     "name": "stderr",
     "output_type": "stream",
     "text": [
      "2025-03-10 14:52:48,767 - DEIMTrainer - INFO - Epoch 14 - Train loss: 30.4120, Eval mAP: 0.0000\n",
      "2025-03-10 14:52:48,767 - DEIMTrainer - INFO - Best stats: {'epoch': 10, 'coco_eval_bbox': 2.2635522239754275e-05}\n"
     ]
    },
    {
     "name": "stdout",
     "output_type": "stream",
     "text": [
      "Test:  [4/5]  eta: 0:00:00    time: 0.2528  data: 0.1536  max mem: 10516\n",
      "Test: Total time: 0:00:01 (0.2655 s / it)\n",
      "Averaged stats: \n",
      "Accumulating evaluation results...\n",
      "COCOeval_opt.accumulate() finished...\n",
      "DONE (t=0.01s).\n",
      "IoU metric: bbox\n",
      " Average Precision  (AP) @[ IoU=0.50:0.95 | area=   all | maxDets=100 ] = 0.000\n",
      " Average Precision  (AP) @[ IoU=0.50      | area=   all | maxDets=100 ] = 0.000\n",
      " Average Precision  (AP) @[ IoU=0.75      | area=   all | maxDets=100 ] = 0.000\n",
      " Average Precision  (AP) @[ IoU=0.50:0.95 | area= small | maxDets=100 ] = 0.000\n",
      " Average Precision  (AP) @[ IoU=0.50:0.95 | area=medium | maxDets=100 ] = 0.000\n",
      " Average Precision  (AP) @[ IoU=0.50:0.95 | area= large | maxDets=100 ] = 0.000\n",
      " Average Recall     (AR) @[ IoU=0.50:0.95 | area=   all | maxDets=  1 ] = 0.000\n",
      " Average Recall     (AR) @[ IoU=0.50:0.95 | area=   all | maxDets= 10 ] = 0.000\n",
      " Average Recall     (AR) @[ IoU=0.50:0.95 | area=   all | maxDets=100 ] = 0.002\n",
      " Average Recall     (AR) @[ IoU=0.50:0.95 | area= small | maxDets=100 ] = 0.000\n",
      " Average Recall     (AR) @[ IoU=0.50:0.95 | area=medium | maxDets=100 ] = 0.002\n",
      " Average Recall     (AR) @[ IoU=0.50:0.95 | area= large | maxDets=100 ] = 0.002\n",
      " Average Recall     (AR) @[ IoU=0.50      | area=   all | maxDets=100 ] = 0.009\n",
      " Average Recall     (AR) @[ IoU=0.75      | area=   all | maxDets=100 ] = 0.000\n",
      "================================================\n",
      "{'coco_eval_bbox': [5.58387376341202e-06, 2.887788778877888e-05, 0.0, 0.0, 6.340825434920154e-06, 0.00021299554474804336, 0.0, 0.0, 0.002116402116402116, 0.0, 0.0023809523809523807, 0.0020168067226890756]}\n",
      "================================================\n",
      "Epoch: [15]  [ 0/15]  eta: 0:00:26  lr: 0.000003  loss: 29.8001 (29.8001)  loss_mal: 0.5171 (0.5171)  loss_bbox: 0.7275 (0.7275)  loss_giou: 1.7481 (1.7481)  loss_fgl: 0.4902 (0.4902)  loss_mal_aux_0: 0.5933 (0.5933)  loss_bbox_aux_0: 0.7303 (0.7303)  loss_giou_aux_0: 1.7542 (1.7542)  loss_fgl_aux_0: 0.4860 (0.4860)  loss_ddf_aux_0: 0.0011 (0.0011)  loss_mal_aux_1: 0.5674 (0.5674)  loss_bbox_aux_1: 0.7289 (0.7289)  loss_giou_aux_1: 1.7513 (1.7513)  loss_fgl_aux_1: 0.4880 (0.4880)  loss_ddf_aux_1: 0.0001 (0.0001)  loss_mal_pre: 0.5923 (0.5923)  loss_bbox_pre: 0.7309 (0.7309)  loss_giou_pre: 1.7555 (1.7555)  loss_mal_enc_0: 0.5259 (0.5259)  loss_bbox_enc_0: 0.7323 (0.7323)  loss_giou_enc_0: 1.7581 (1.7581)  loss_mal_dn_0: 0.8809 (0.8809)  loss_bbox_dn_0: 0.4825 (0.4825)  loss_giou_dn_0: 1.3509 (1.3509)  loss_fgl_dn_0: 0.8361 (0.8361)  loss_ddf_dn_0: -0.0003 (-0.0003)  loss_mal_dn_1: 0.8091 (0.8091)  loss_bbox_dn_1: 0.4827 (0.4827)  loss_giou_dn_1: 1.3510 (1.3510)  loss_fgl_dn_1: 0.8356 (0.8356)  loss_ddf_dn_1: 0.0001 (0.0001)  loss_mal_dn_2: 0.7090 (0.7090)  loss_bbox_dn_2: 0.4831 (0.4831)  loss_giou_dn_2: 1.3510 (1.3510)  loss_fgl_dn_2: 0.8354 (0.8354)  loss_mal_dn_pre: 0.8809 (0.8809)  loss_bbox_dn_pre: 0.4827 (0.4827)  loss_giou_dn_pre: 1.3509 (1.3509)  time: 1.7906  data: 1.2638  max mem: 10516\n"
     ]
    },
    {
     "name": "stderr",
     "output_type": "stream",
     "text": [
      "2025-03-10 14:52:57,849 - DEIMTrainer - INFO - Saving checkpoint to outputs/deim_hgnetv2_s_coco/checkpoint0015.pth\n"
     ]
    },
    {
     "name": "stdout",
     "output_type": "stream",
     "text": [
      "Epoch: [15]  [14/15]  eta: 0:00:00  lr: 0.000003  loss: 29.8001 (30.1075)  loss_mal: 0.5688 (0.5586)  loss_bbox: 0.7272 (0.7637)  loss_giou: 1.6761 (1.6844)  loss_fgl: 0.5298 (0.5239)  loss_mal_aux_0: 0.6553 (0.6535)  loss_bbox_aux_0: 0.7296 (0.7675)  loss_giou_aux_0: 1.6835 (1.6912)  loss_fgl_aux_0: 0.5252 (0.5190)  loss_ddf_aux_0: 0.0012 (0.0012)  loss_mal_aux_1: 0.6143 (0.6083)  loss_bbox_aux_1: 0.7284 (0.7657)  loss_giou_aux_1: 1.6800 (1.6880)  loss_fgl_aux_1: 0.5274 (0.5213)  loss_ddf_aux_1: -0.0001 (-0.0000)  loss_mal_pre: 0.6528 (0.6521)  loss_bbox_pre: 0.7301 (0.7683)  loss_giou_pre: 1.6851 (1.6926)  loss_mal_enc_0: 0.5757 (0.5669)  loss_bbox_enc_0: 0.7312 (0.7699)  loss_giou_enc_0: 1.6885 (1.6956)  loss_mal_dn_0: 0.8579 (0.8600)  loss_bbox_dn_0: 0.4900 (0.5210)  loss_giou_dn_0: 1.3527 (1.3541)  loss_fgl_dn_0: 0.8332 (0.8324)  loss_ddf_dn_0: -0.0001 (-0.0001)  loss_mal_dn_1: 0.7988 (0.7993)  loss_bbox_dn_1: 0.4903 (0.5213)  loss_giou_dn_1: 1.3526 (1.3541)  loss_fgl_dn_1: 0.8327 (0.8319)  loss_ddf_dn_1: -0.0003 (-0.0003)  loss_mal_dn_2: 0.6963 (0.6989)  loss_bbox_dn_2: 0.4908 (0.5219)  loss_giou_dn_2: 1.3524 (1.3540)  loss_fgl_dn_2: 0.8326 (0.8318)  loss_mal_dn_pre: 0.8584 (0.8605)  loss_bbox_dn_pre: 0.4901 (0.5212)  loss_giou_dn_pre: 1.3527 (1.3541)  time: 0.5988  data: 0.1066  max mem: 10516\n",
      "Epoch: [15] Total time: 0:00:09 (0.6041 s / it)\n",
      "Averaged stats: lr: 0.000003  loss: 29.8001 (30.1075)  loss_mal: 0.5688 (0.5586)  loss_bbox: 0.7272 (0.7637)  loss_giou: 1.6761 (1.6844)  loss_fgl: 0.5298 (0.5239)  loss_mal_aux_0: 0.6553 (0.6535)  loss_bbox_aux_0: 0.7296 (0.7675)  loss_giou_aux_0: 1.6835 (1.6912)  loss_fgl_aux_0: 0.5252 (0.5190)  loss_ddf_aux_0: 0.0012 (0.0012)  loss_mal_aux_1: 0.6143 (0.6083)  loss_bbox_aux_1: 0.7284 (0.7657)  loss_giou_aux_1: 1.6800 (1.6880)  loss_fgl_aux_1: 0.5274 (0.5213)  loss_ddf_aux_1: -0.0001 (-0.0000)  loss_mal_pre: 0.6528 (0.6521)  loss_bbox_pre: 0.7301 (0.7683)  loss_giou_pre: 1.6851 (1.6926)  loss_mal_enc_0: 0.5757 (0.5669)  loss_bbox_enc_0: 0.7312 (0.7699)  loss_giou_enc_0: 1.6885 (1.6956)  loss_mal_dn_0: 0.8579 (0.8600)  loss_bbox_dn_0: 0.4900 (0.5210)  loss_giou_dn_0: 1.3527 (1.3541)  loss_fgl_dn_0: 0.8332 (0.8324)  loss_ddf_dn_0: -0.0001 (-0.0001)  loss_mal_dn_1: 0.7988 (0.7993)  loss_bbox_dn_1: 0.4903 (0.5213)  loss_giou_dn_1: 1.3526 (1.3541)  loss_fgl_dn_1: 0.8327 (0.8319)  loss_ddf_dn_1: -0.0003 (-0.0003)  loss_mal_dn_2: 0.6963 (0.6989)  loss_bbox_dn_2: 0.4908 (0.5219)  loss_giou_dn_2: 1.3524 (1.3540)  loss_fgl_dn_2: 0.8326 (0.8318)  loss_mal_dn_pre: 0.8584 (0.8605)  loss_bbox_dn_pre: 0.4901 (0.5212)  loss_giou_dn_pre: 1.3527 (1.3541)\n"
     ]
    },
    {
     "name": "stderr",
     "output_type": "stream",
     "text": [
      "2025-03-10 14:52:58,247 - DEIMTrainer - INFO - Checkpoint saved to outputs/deim_hgnetv2_s_coco/checkpoint0015.pth\n",
      "2025-03-10 14:52:58,249 - DEIMTrainer - INFO - Evaluating model...\n"
     ]
    },
    {
     "name": "stdout",
     "output_type": "stream",
     "text": [
      "Test:  [0/5]  eta: 0:00:03    time: 0.7165  data: 0.5990  max mem: 10516\n"
     ]
    },
    {
     "name": "stderr",
     "output_type": "stream",
     "text": [
      "2025-03-10 14:52:59,526 - DEIMTrainer - INFO - Epoch 15 - Train loss: 30.1075, Eval mAP: 0.0000\n",
      "2025-03-10 14:52:59,527 - DEIMTrainer - INFO - Best stats: {'epoch': 10, 'coco_eval_bbox': 2.2635522239754275e-05}\n"
     ]
    },
    {
     "name": "stdout",
     "output_type": "stream",
     "text": [
      "Test:  [4/5]  eta: 0:00:00    time: 0.2388  data: 0.1389  max mem: 10516\n",
      "Test: Total time: 0:00:01 (0.2513 s / it)\n",
      "Averaged stats: \n",
      "Accumulating evaluation results...\n",
      "COCOeval_opt.accumulate() finished...\n",
      "DONE (t=0.01s).\n",
      "IoU metric: bbox\n",
      " Average Precision  (AP) @[ IoU=0.50:0.95 | area=   all | maxDets=100 ] = 0.000\n",
      " Average Precision  (AP) @[ IoU=0.50      | area=   all | maxDets=100 ] = 0.000\n",
      " Average Precision  (AP) @[ IoU=0.75      | area=   all | maxDets=100 ] = 0.000\n",
      " Average Precision  (AP) @[ IoU=0.50:0.95 | area= small | maxDets=100 ] = 0.000\n",
      " Average Precision  (AP) @[ IoU=0.50:0.95 | area=medium | maxDets=100 ] = 0.000\n",
      " Average Precision  (AP) @[ IoU=0.50:0.95 | area= large | maxDets=100 ] = 0.000\n",
      " Average Recall     (AR) @[ IoU=0.50:0.95 | area=   all | maxDets=  1 ] = 0.000\n",
      " Average Recall     (AR) @[ IoU=0.50:0.95 | area=   all | maxDets= 10 ] = 0.001\n",
      " Average Recall     (AR) @[ IoU=0.50:0.95 | area=   all | maxDets=100 ] = 0.002\n",
      " Average Recall     (AR) @[ IoU=0.50:0.95 | area= small | maxDets=100 ] = 0.000\n",
      " Average Recall     (AR) @[ IoU=0.50:0.95 | area=medium | maxDets=100 ] = 0.003\n",
      " Average Recall     (AR) @[ IoU=0.50:0.95 | area= large | maxDets=100 ] = 0.001\n",
      " Average Recall     (AR) @[ IoU=0.50      | area=   all | maxDets=100 ] = 0.018\n",
      " Average Recall     (AR) @[ IoU=0.75      | area=   all | maxDets=100 ] = 0.000\n",
      "================================================\n",
      "{'coco_eval_bbox': [7.670538687224143e-06, 7.211492920955089e-05, 0.0, 0.0, 1.270627439240558e-05, 7.074193507730478e-05, 0.00043859649122807013, 0.0013401559454191032, 0.0021541567594199175, 0.0, 0.0031845238095238094, 0.0007495956128930445]}\n",
      "================================================\n",
      "Epoch: [16]  [ 0/15]  eta: 0:00:34  lr: 0.000003  loss: 29.6954 (29.6954)  loss_mal: 0.5435 (0.5435)  loss_bbox: 0.7245 (0.7245)  loss_giou: 1.6929 (1.6929)  loss_fgl: 0.5209 (0.5209)  loss_mal_aux_0: 0.6240 (0.6240)  loss_bbox_aux_0: 0.7277 (0.7277)  loss_giou_aux_0: 1.6999 (1.6999)  loss_fgl_aux_0: 0.5159 (0.5159)  loss_ddf_aux_0: 0.0013 (0.0013)  loss_mal_aux_1: 0.5791 (0.5791)  loss_bbox_aux_1: 0.7261 (0.7261)  loss_giou_aux_1: 1.6966 (1.6966)  loss_fgl_aux_1: 0.5183 (0.5183)  loss_ddf_aux_1: 0.0003 (0.0003)  loss_mal_pre: 0.6226 (0.6226)  loss_bbox_pre: 0.7285 (0.7285)  loss_giou_pre: 1.7014 (1.7014)  loss_mal_enc_0: 0.5347 (0.5347)  loss_bbox_enc_0: 0.7300 (0.7300)  loss_giou_enc_0: 1.7043 (1.7043)  loss_mal_dn_0: 0.8389 (0.8389)  loss_bbox_dn_0: 0.5000 (0.5000)  loss_giou_dn_0: 1.3632 (1.3632)  loss_fgl_dn_0: 0.8306 (0.8306)  loss_ddf_dn_0: -0.0001 (-0.0001)  loss_mal_dn_1: 0.7881 (0.7881)  loss_bbox_dn_1: 0.5004 (0.5004)  loss_giou_dn_1: 1.3633 (1.3633)  loss_fgl_dn_1: 0.8299 (0.8299)  loss_ddf_dn_1: -0.0008 (-0.0008)  loss_mal_dn_2: 0.6924 (0.6924)  loss_bbox_dn_2: 0.5014 (0.5014)  loss_giou_dn_2: 1.3633 (1.3633)  loss_fgl_dn_2: 0.8296 (0.8296)  loss_mal_dn_pre: 0.8394 (0.8394)  loss_bbox_dn_pre: 0.5002 (0.5002)  loss_giou_dn_pre: 1.3631 (1.3631)  time: 2.3165  data: 1.5867  max mem: 10516\n"
     ]
    },
    {
     "name": "stderr",
     "output_type": "stream",
     "text": [
      "2025-03-10 14:53:08,808 - DEIMTrainer - INFO - Evaluating model...\n"
     ]
    },
    {
     "name": "stdout",
     "output_type": "stream",
     "text": [
      "Epoch: [16]  [14/15]  eta: 0:00:00  lr: 0.000003  loss: 29.5373 (29.6737)  loss_mal: 0.5972 (0.5916)  loss_bbox: 0.7071 (0.7325)  loss_giou: 1.6003 (1.6197)  loss_fgl: 0.5788 (0.5663)  loss_mal_aux_0: 0.6562 (0.6595)  loss_bbox_aux_0: 0.7126 (0.7374)  loss_giou_aux_0: 1.6107 (1.6293)  loss_fgl_aux_0: 0.5721 (0.5594)  loss_ddf_aux_0: 0.0006 (0.0006)  loss_mal_aux_1: 0.6147 (0.6099)  loss_bbox_aux_1: 0.7099 (0.7350)  loss_giou_aux_1: 1.6057 (1.6247)  loss_fgl_aux_1: 0.5749 (0.5627)  loss_ddf_aux_1: 0.0003 (0.0003)  loss_mal_pre: 0.6533 (0.6576)  loss_bbox_pre: 0.7138 (0.7385)  loss_giou_pre: 1.6129 (1.6315)  loss_mal_enc_0: 0.6025 (0.5903)  loss_bbox_enc_0: 0.7162 (0.7406)  loss_giou_enc_0: 1.6177 (1.6356)  loss_mal_dn_0: 0.8027 (0.8053)  loss_bbox_dn_0: 0.4952 (0.5157)  loss_giou_dn_0: 1.3563 (1.3586)  loss_fgl_dn_0: 0.8323 (0.8301)  loss_ddf_dn_0: 0.0000 (0.0000)  loss_mal_dn_1: 0.7671 (0.7685)  loss_bbox_dn_1: 0.4956 (0.5162)  loss_giou_dn_1: 1.3564 (1.3586)  loss_fgl_dn_1: 0.8315 (0.8294)  loss_ddf_dn_1: -0.0005 (-0.0005)  loss_mal_dn_2: 0.6802 (0.6837)  loss_bbox_dn_2: 0.4963 (0.5174)  loss_giou_dn_2: 1.3564 (1.3585)  loss_fgl_dn_2: 0.8312 (0.8292)  loss_mal_dn_pre: 0.8032 (0.8058)  loss_bbox_dn_pre: 0.4954 (0.5159)  loss_giou_dn_pre: 1.3562 (1.3585)  time: 0.6128  data: 0.1227  max mem: 10516\n",
      "Epoch: [16] Total time: 0:00:09 (0.6176 s / it)\n",
      "Averaged stats: lr: 0.000003  loss: 29.5373 (29.6737)  loss_mal: 0.5972 (0.5916)  loss_bbox: 0.7071 (0.7325)  loss_giou: 1.6003 (1.6197)  loss_fgl: 0.5788 (0.5663)  loss_mal_aux_0: 0.6562 (0.6595)  loss_bbox_aux_0: 0.7126 (0.7374)  loss_giou_aux_0: 1.6107 (1.6293)  loss_fgl_aux_0: 0.5721 (0.5594)  loss_ddf_aux_0: 0.0006 (0.0006)  loss_mal_aux_1: 0.6147 (0.6099)  loss_bbox_aux_1: 0.7099 (0.7350)  loss_giou_aux_1: 1.6057 (1.6247)  loss_fgl_aux_1: 0.5749 (0.5627)  loss_ddf_aux_1: 0.0003 (0.0003)  loss_mal_pre: 0.6533 (0.6576)  loss_bbox_pre: 0.7138 (0.7385)  loss_giou_pre: 1.6129 (1.6315)  loss_mal_enc_0: 0.6025 (0.5903)  loss_bbox_enc_0: 0.7162 (0.7406)  loss_giou_enc_0: 1.6177 (1.6356)  loss_mal_dn_0: 0.8027 (0.8053)  loss_bbox_dn_0: 0.4952 (0.5157)  loss_giou_dn_0: 1.3563 (1.3586)  loss_fgl_dn_0: 0.8323 (0.8301)  loss_ddf_dn_0: 0.0000 (0.0000)  loss_mal_dn_1: 0.7671 (0.7685)  loss_bbox_dn_1: 0.4956 (0.5162)  loss_giou_dn_1: 1.3564 (1.3586)  loss_fgl_dn_1: 0.8315 (0.8294)  loss_ddf_dn_1: -0.0005 (-0.0005)  loss_mal_dn_2: 0.6802 (0.6837)  loss_bbox_dn_2: 0.4963 (0.5174)  loss_giou_dn_2: 1.3564 (1.3585)  loss_fgl_dn_2: 0.8312 (0.8292)  loss_mal_dn_pre: 0.8032 (0.8058)  loss_bbox_dn_pre: 0.4954 (0.5159)  loss_giou_dn_pre: 1.3562 (1.3585)\n",
      "Test:  [0/5]  eta: 0:00:04    time: 0.9673  data: 0.6844  max mem: 10516\n"
     ]
    },
    {
     "name": "stderr",
     "output_type": "stream",
     "text": [
      "2025-03-10 14:53:10,377 - DEIMTrainer - INFO - Epoch 16 - Train loss: 29.6737, Eval mAP: 0.0000\n",
      "2025-03-10 14:53:10,377 - DEIMTrainer - INFO - Best stats: {'epoch': 10, 'coco_eval_bbox': 2.2635522239754275e-05}\n"
     ]
    },
    {
     "name": "stdout",
     "output_type": "stream",
     "text": [
      "Test:  [4/5]  eta: 0:00:00    time: 0.2972  data: 0.1562  max mem: 10516\n",
      "Test: Total time: 0:00:01 (0.3093 s / it)\n",
      "Averaged stats: \n",
      "Accumulating evaluation results...\n",
      "COCOeval_opt.accumulate() finished...\n",
      "DONE (t=0.01s).\n",
      "IoU metric: bbox\n",
      " Average Precision  (AP) @[ IoU=0.50:0.95 | area=   all | maxDets=100 ] = 0.000\n",
      " Average Precision  (AP) @[ IoU=0.50      | area=   all | maxDets=100 ] = 0.000\n",
      " Average Precision  (AP) @[ IoU=0.75      | area=   all | maxDets=100 ] = 0.000\n",
      " Average Precision  (AP) @[ IoU=0.50:0.95 | area= small | maxDets=100 ] = 0.000\n",
      " Average Precision  (AP) @[ IoU=0.50:0.95 | area=medium | maxDets=100 ] = 0.000\n",
      " Average Precision  (AP) @[ IoU=0.50:0.95 | area= large | maxDets=100 ] = 0.000\n",
      " Average Recall     (AR) @[ IoU=0.50:0.95 | area=   all | maxDets=  1 ] = 0.000\n",
      " Average Recall     (AR) @[ IoU=0.50:0.95 | area=   all | maxDets= 10 ] = 0.002\n",
      " Average Recall     (AR) @[ IoU=0.50:0.95 | area=   all | maxDets=100 ] = 0.003\n",
      " Average Recall     (AR) @[ IoU=0.50:0.95 | area= small | maxDets=100 ] = 0.000\n",
      " Average Recall     (AR) @[ IoU=0.50:0.95 | area=medium | maxDets=100 ] = 0.003\n",
      " Average Recall     (AR) @[ IoU=0.50:0.95 | area= large | maxDets=100 ] = 0.001\n",
      " Average Recall     (AR) @[ IoU=0.50      | area=   all | maxDets=100 ] = 0.009\n",
      " Average Recall     (AR) @[ IoU=0.75      | area=   all | maxDets=100 ] = 0.000\n",
      "================================================\n",
      "{'coco_eval_bbox': [1.3414477754130284e-05, 4.01040647838574e-05, 0.0, 0.0, 1.5846452208802648e-05, 0.0001857125511882292, 0.0, 0.0017543859649122805, 0.002690486901013217, 0.0, 0.0030952380952380953, 0.0008403361344537816]}\n",
      "================================================\n",
      "Epoch: [17]  [ 0/15]  eta: 0:00:28  lr: 0.000003  loss: 30.2389 (30.2389)  loss_mal: 0.5479 (0.5479)  loss_bbox: 0.8333 (0.8333)  loss_giou: 1.6996 (1.6996)  loss_fgl: 0.5220 (0.5220)  loss_mal_aux_0: 0.5737 (0.5737)  loss_bbox_aux_0: 0.8401 (0.8401)  loss_giou_aux_0: 1.7118 (1.7118)  loss_fgl_aux_0: 0.5137 (0.5137)  loss_ddf_aux_0: 0.0001 (0.0001)  loss_mal_aux_1: 0.5493 (0.5493)  loss_bbox_aux_1: 0.8368 (0.8368)  loss_giou_aux_1: 1.7059 (1.7059)  loss_fgl_aux_1: 0.5177 (0.5177)  loss_ddf_aux_1: 0.0003 (0.0003)  loss_mal_pre: 0.5718 (0.5718)  loss_bbox_pre: 0.8417 (0.8417)  loss_giou_pre: 1.7145 (1.7145)  loss_mal_enc_0: 0.5303 (0.5303)  loss_bbox_enc_0: 0.8446 (0.8446)  loss_giou_enc_0: 1.7196 (1.7196)  loss_mal_dn_0: 0.8120 (0.8120)  loss_bbox_dn_0: 0.5324 (0.5324)  loss_giou_dn_0: 1.3528 (1.3528)  loss_fgl_dn_0: 0.8332 (0.8332)  loss_ddf_dn_0: -0.0003 (-0.0003)  loss_mal_dn_1: 0.7988 (0.7988)  loss_bbox_dn_1: 0.5329 (0.5329)  loss_giou_dn_1: 1.3528 (1.3528)  loss_fgl_dn_1: 0.8325 (0.8325)  loss_ddf_dn_1: -0.0003 (-0.0003)  loss_mal_dn_2: 0.7007 (0.7007)  loss_bbox_dn_2: 0.5339 (0.5339)  loss_giou_dn_2: 1.3526 (1.3526)  loss_fgl_dn_2: 0.8324 (0.8324)  loss_mal_dn_pre: 0.8125 (0.8125)  loss_bbox_dn_pre: 0.5327 (0.5327)  loss_giou_dn_pre: 1.3526 (1.3526)  time: 1.9045  data: 1.3089  max mem: 10516\n"
     ]
    },
    {
     "name": "stderr",
     "output_type": "stream",
     "text": [
      "2025-03-10 14:53:19,131 - DEIMTrainer - INFO - Evaluating model...\n"
     ]
    },
    {
     "name": "stdout",
     "output_type": "stream",
     "text": [
      "Epoch: [17]  [14/15]  eta: 0:00:00  lr: 0.000004  loss: 29.5504 (29.5473)  loss_mal: 0.6528 (0.6255)  loss_bbox: 0.7251 (0.7305)  loss_giou: 1.5242 (1.5729)  loss_fgl: 0.6243 (0.6115)  loss_mal_aux_0: 0.6689 (0.6572)  loss_bbox_aux_0: 0.7297 (0.7373)  loss_giou_aux_0: 1.5407 (1.5873)  loss_fgl_aux_0: 0.6158 (0.6016)  loss_ddf_aux_0: 0.0003 (0.0003)  loss_mal_aux_1: 0.6377 (0.6189)  loss_bbox_aux_1: 0.7274 (0.7339)  loss_giou_aux_1: 1.5326 (1.5803)  loss_fgl_aux_1: 0.6200 (0.6065)  loss_ddf_aux_1: 0.0002 (0.0002)  loss_mal_pre: 0.6636 (0.6545)  loss_bbox_pre: 0.7308 (0.7389)  loss_giou_pre: 1.5444 (1.5906)  loss_mal_enc_0: 0.6191 (0.6082)  loss_bbox_enc_0: 0.7331 (0.7420)  loss_giou_enc_0: 1.5511 (1.5968)  loss_mal_dn_0: 0.7690 (0.7666)  loss_bbox_dn_0: 0.5324 (0.5183)  loss_giou_dn_0: 1.3678 (1.3683)  loss_fgl_dn_0: 0.8211 (0.8194)  loss_ddf_dn_0: -0.0002 (-0.0002)  loss_mal_dn_1: 0.7510 (0.7482)  loss_bbox_dn_1: 0.5329 (0.5190)  loss_giou_dn_1: 1.3676 (1.3683)  loss_fgl_dn_1: 0.8200 (0.8187)  loss_ddf_dn_1: 0.0000 (-0.0000)  loss_mal_dn_2: 0.6616 (0.6650)  loss_bbox_dn_2: 0.5339 (0.5205)  loss_giou_dn_2: 1.3672 (1.3680)  loss_fgl_dn_2: 0.8198 (0.8186)  loss_mal_dn_pre: 0.7695 (0.7670)  loss_bbox_dn_pre: 0.5327 (0.5187)  loss_giou_dn_pre: 1.3676 (1.3681)  time: 0.5777  data: 0.1110  max mem: 10516\n",
      "Epoch: [17] Total time: 0:00:08 (0.5824 s / it)\n",
      "Averaged stats: lr: 0.000004  loss: 29.5504 (29.5473)  loss_mal: 0.6528 (0.6255)  loss_bbox: 0.7251 (0.7305)  loss_giou: 1.5242 (1.5729)  loss_fgl: 0.6243 (0.6115)  loss_mal_aux_0: 0.6689 (0.6572)  loss_bbox_aux_0: 0.7297 (0.7373)  loss_giou_aux_0: 1.5407 (1.5873)  loss_fgl_aux_0: 0.6158 (0.6016)  loss_ddf_aux_0: 0.0003 (0.0003)  loss_mal_aux_1: 0.6377 (0.6189)  loss_bbox_aux_1: 0.7274 (0.7339)  loss_giou_aux_1: 1.5326 (1.5803)  loss_fgl_aux_1: 0.6200 (0.6065)  loss_ddf_aux_1: 0.0002 (0.0002)  loss_mal_pre: 0.6636 (0.6545)  loss_bbox_pre: 0.7308 (0.7389)  loss_giou_pre: 1.5444 (1.5906)  loss_mal_enc_0: 0.6191 (0.6082)  loss_bbox_enc_0: 0.7331 (0.7420)  loss_giou_enc_0: 1.5511 (1.5968)  loss_mal_dn_0: 0.7690 (0.7666)  loss_bbox_dn_0: 0.5324 (0.5183)  loss_giou_dn_0: 1.3678 (1.3683)  loss_fgl_dn_0: 0.8211 (0.8194)  loss_ddf_dn_0: -0.0002 (-0.0002)  loss_mal_dn_1: 0.7510 (0.7482)  loss_bbox_dn_1: 0.5329 (0.5190)  loss_giou_dn_1: 1.3676 (1.3683)  loss_fgl_dn_1: 0.8200 (0.8187)  loss_ddf_dn_1: 0.0000 (-0.0000)  loss_mal_dn_2: 0.6616 (0.6650)  loss_bbox_dn_2: 0.5339 (0.5205)  loss_giou_dn_2: 1.3672 (1.3680)  loss_fgl_dn_2: 0.8198 (0.8186)  loss_mal_dn_pre: 0.7695 (0.7670)  loss_bbox_dn_pre: 0.5327 (0.5187)  loss_giou_dn_pre: 1.3676 (1.3681)\n",
      "Test:  [0/5]  eta: 0:00:04    time: 0.8700  data: 0.5986  max mem: 10516\n"
     ]
    },
    {
     "name": "stderr",
     "output_type": "stream",
     "text": [
      "2025-03-10 14:53:20,528 - DEIMTrainer - INFO - Epoch 17 - Train loss: 29.5473, Eval mAP: 0.0000\n",
      "2025-03-10 14:53:20,528 - DEIMTrainer - INFO - Best stats: {'epoch': 10, 'coco_eval_bbox': 2.2635522239754275e-05}\n"
     ]
    },
    {
     "name": "stdout",
     "output_type": "stream",
     "text": [
      "Test:  [4/5]  eta: 0:00:00    time: 0.2661  data: 0.1346  max mem: 10516\n",
      "Test: Total time: 0:00:01 (0.2759 s / it)\n",
      "Averaged stats: \n",
      "Accumulating evaluation results...\n",
      "COCOeval_opt.accumulate() finished...\n",
      "DONE (t=0.01s).\n",
      "IoU metric: bbox\n",
      " Average Precision  (AP) @[ IoU=0.50:0.95 | area=   all | maxDets=100 ] = 0.000\n",
      " Average Precision  (AP) @[ IoU=0.50      | area=   all | maxDets=100 ] = 0.000\n",
      " Average Precision  (AP) @[ IoU=0.75      | area=   all | maxDets=100 ] = 0.000\n",
      " Average Precision  (AP) @[ IoU=0.50:0.95 | area= small | maxDets=100 ] = 0.000\n",
      " Average Precision  (AP) @[ IoU=0.50:0.95 | area=medium | maxDets=100 ] = 0.000\n",
      " Average Precision  (AP) @[ IoU=0.50:0.95 | area= large | maxDets=100 ] = 0.000\n",
      " Average Recall     (AR) @[ IoU=0.50:0.95 | area=   all | maxDets=  1 ] = 0.000\n",
      " Average Recall     (AR) @[ IoU=0.50:0.95 | area=   all | maxDets= 10 ] = 0.000\n",
      " Average Recall     (AR) @[ IoU=0.50:0.95 | area=   all | maxDets=100 ] = 0.001\n",
      " Average Recall     (AR) @[ IoU=0.50:0.95 | area= small | maxDets=100 ] = 0.000\n",
      " Average Recall     (AR) @[ IoU=0.50:0.95 | area=medium | maxDets=100 ] = 0.002\n",
      " Average Recall     (AR) @[ IoU=0.50:0.95 | area= large | maxDets=100 ] = 0.000\n",
      " Average Recall     (AR) @[ IoU=0.50      | area=   all | maxDets=100 ] = 0.003\n",
      " Average Recall     (AR) @[ IoU=0.75      | area=   all | maxDets=100 ] = 0.000\n",
      "================================================\n",
      "{'coco_eval_bbox': [1.0982070282443237e-06, 4.089628293684387e-06, 0.0, 0.0, 3.3587532665212556e-06, 0.0, 0.0, 0.0, 0.0006105006105006105, 0.0, 0.002232142857142857, 0.0]}\n",
      "================================================\n",
      "Epoch: [18]  [ 0/15]  eta: 0:00:28  lr: 0.000004  loss: 28.4503 (28.4503)  loss_mal: 0.6719 (0.6719)  loss_bbox: 0.5871 (0.5871)  loss_giou: 1.4673 (1.4673)  loss_fgl: 0.6997 (0.6997)  loss_mal_aux_0: 0.7246 (0.7246)  loss_bbox_aux_0: 0.5882 (0.5882)  loss_giou_aux_0: 1.4815 (1.4815)  loss_fgl_aux_0: 0.6910 (0.6910)  loss_ddf_aux_0: 0.0009 (0.0009)  loss_mal_aux_1: 0.6782 (0.6782)  loss_bbox_aux_1: 0.5875 (0.5875)  loss_giou_aux_1: 1.4745 (1.4745)  loss_fgl_aux_1: 0.6953 (0.6953)  loss_ddf_aux_1: 0.0000 (0.0000)  loss_mal_pre: 0.7227 (0.7227)  loss_bbox_pre: 0.5887 (0.5887)  loss_giou_pre: 1.4849 (1.4849)  loss_mal_enc_0: 0.6689 (0.6689)  loss_bbox_enc_0: 0.5901 (0.5901)  loss_giou_enc_0: 1.4923 (1.4923)  loss_mal_dn_0: 0.7246 (0.7246)  loss_bbox_dn_0: 0.4533 (0.4533)  loss_giou_dn_0: 1.3732 (1.3732)  loss_fgl_dn_0: 0.8149 (0.8149)  loss_ddf_dn_0: -0.0003 (-0.0003)  loss_mal_dn_1: 0.7139 (0.7139)  loss_bbox_dn_1: 0.4538 (0.4538)  loss_giou_dn_1: 1.3731 (1.3731)  loss_fgl_dn_1: 0.8141 (0.8141)  loss_ddf_dn_1: 0.0001 (0.0001)  loss_mal_dn_2: 0.6411 (0.6411)  loss_bbox_dn_2: 0.4550 (0.4550)  loss_giou_dn_2: 1.3728 (1.3728)  loss_fgl_dn_2: 0.8142 (0.8142)  loss_mal_dn_pre: 0.7246 (0.7246)  loss_bbox_dn_pre: 0.4537 (0.4537)  loss_giou_dn_pre: 1.3729 (1.3729)  time: 1.9033  data: 1.3153  max mem: 10516\n"
     ]
    },
    {
     "name": "stderr",
     "output_type": "stream",
     "text": [
      "2025-03-10 14:53:29,217 - DEIMTrainer - INFO - Evaluating model...\n"
     ]
    },
    {
     "name": "stdout",
     "output_type": "stream",
     "text": [
      "Epoch: [18]  [14/15]  eta: 0:00:00  lr: 0.000004  loss: 29.5921 (29.5057)  loss_mal: 0.6304 (0.6448)  loss_bbox: 0.7388 (0.7239)  loss_giou: 1.5614 (1.5357)  loss_fgl: 0.6328 (0.6468)  loss_mal_aux_0: 0.6597 (0.6708)  loss_bbox_aux_0: 0.7440 (0.7301)  loss_giou_aux_0: 1.5781 (1.5534)  loss_fgl_aux_0: 0.6227 (0.6355)  loss_ddf_aux_0: 0.0008 (0.0008)  loss_mal_aux_1: 0.6240 (0.6429)  loss_bbox_aux_1: 0.7413 (0.7269)  loss_giou_aux_1: 1.5698 (1.5446)  loss_fgl_aux_1: 0.6278 (0.6412)  loss_ddf_aux_1: 0.0001 (0.0001)  loss_mal_pre: 0.6582 (0.6677)  loss_bbox_pre: 0.7456 (0.7318)  loss_giou_pre: 1.5823 (1.5578)  loss_mal_enc_0: 0.6108 (0.6342)  loss_bbox_enc_0: 0.7485 (0.7351)  loss_giou_enc_0: 1.5903 (1.5660)  loss_mal_dn_0: 0.7568 (0.7586)  loss_bbox_dn_0: 0.5173 (0.5192)  loss_giou_dn_0: 1.3636 (1.3623)  loss_fgl_dn_0: 0.8239 (0.8247)  loss_ddf_dn_0: 0.0000 (0.0001)  loss_mal_dn_1: 0.7329 (0.7367)  loss_bbox_dn_1: 0.5181 (0.5201)  loss_giou_dn_1: 1.3635 (1.3622)  loss_fgl_dn_1: 0.8228 (0.8238)  loss_ddf_dn_1: 0.0001 (0.0001)  loss_mal_dn_2: 0.6577 (0.6594)  loss_bbox_dn_2: 0.5200 (0.5222)  loss_giou_dn_2: 1.3632 (1.3619)  loss_fgl_dn_2: 0.8225 (0.8237)  loss_mal_dn_pre: 0.7573 (0.7589)  loss_bbox_dn_pre: 0.5179 (0.5197)  loss_giou_dn_pre: 1.3634 (1.3620)  time: 0.5738  data: 0.1127  max mem: 10516\n",
      "Epoch: [18] Total time: 0:00:08 (0.5782 s / it)\n",
      "Averaged stats: lr: 0.000004  loss: 29.5921 (29.5057)  loss_mal: 0.6304 (0.6448)  loss_bbox: 0.7388 (0.7239)  loss_giou: 1.5614 (1.5357)  loss_fgl: 0.6328 (0.6468)  loss_mal_aux_0: 0.6597 (0.6708)  loss_bbox_aux_0: 0.7440 (0.7301)  loss_giou_aux_0: 1.5781 (1.5534)  loss_fgl_aux_0: 0.6227 (0.6355)  loss_ddf_aux_0: 0.0008 (0.0008)  loss_mal_aux_1: 0.6240 (0.6429)  loss_bbox_aux_1: 0.7413 (0.7269)  loss_giou_aux_1: 1.5698 (1.5446)  loss_fgl_aux_1: 0.6278 (0.6412)  loss_ddf_aux_1: 0.0001 (0.0001)  loss_mal_pre: 0.6582 (0.6677)  loss_bbox_pre: 0.7456 (0.7318)  loss_giou_pre: 1.5823 (1.5578)  loss_mal_enc_0: 0.6108 (0.6342)  loss_bbox_enc_0: 0.7485 (0.7351)  loss_giou_enc_0: 1.5903 (1.5660)  loss_mal_dn_0: 0.7568 (0.7586)  loss_bbox_dn_0: 0.5173 (0.5192)  loss_giou_dn_0: 1.3636 (1.3623)  loss_fgl_dn_0: 0.8239 (0.8247)  loss_ddf_dn_0: 0.0000 (0.0001)  loss_mal_dn_1: 0.7329 (0.7367)  loss_bbox_dn_1: 0.5181 (0.5201)  loss_giou_dn_1: 1.3635 (1.3622)  loss_fgl_dn_1: 0.8228 (0.8238)  loss_ddf_dn_1: 0.0001 (0.0001)  loss_mal_dn_2: 0.6577 (0.6594)  loss_bbox_dn_2: 0.5200 (0.5222)  loss_giou_dn_2: 1.3632 (1.3619)  loss_fgl_dn_2: 0.8225 (0.8237)  loss_mal_dn_pre: 0.7573 (0.7589)  loss_bbox_dn_pre: 0.5179 (0.5197)  loss_giou_dn_pre: 1.3634 (1.3620)\n",
      "Test:  [0/5]  eta: 0:00:03    time: 0.7443  data: 0.6300  max mem: 10516\n"
     ]
    },
    {
     "name": "stderr",
     "output_type": "stream",
     "text": [
      "2025-03-10 14:53:30,683 - DEIMTrainer - INFO - Epoch 18 - Train loss: 29.5057, Eval mAP: 0.0000\n",
      "2025-03-10 14:53:30,684 - DEIMTrainer - INFO - Best stats: {'epoch': 10, 'coco_eval_bbox': 2.2635522239754275e-05}\n"
     ]
    },
    {
     "name": "stdout",
     "output_type": "stream",
     "text": [
      "Test:  [4/5]  eta: 0:00:00    time: 0.2763  data: 0.1440  max mem: 10516\n",
      "Test: Total time: 0:00:01 (0.2886 s / it)\n",
      "Averaged stats: \n",
      "Accumulating evaluation results...\n",
      "COCOeval_opt.accumulate() finished...\n",
      "DONE (t=0.01s).\n",
      "IoU metric: bbox\n",
      " Average Precision  (AP) @[ IoU=0.50:0.95 | area=   all | maxDets=100 ] = 0.000\n",
      " Average Precision  (AP) @[ IoU=0.50      | area=   all | maxDets=100 ] = 0.000\n",
      " Average Precision  (AP) @[ IoU=0.75      | area=   all | maxDets=100 ] = 0.000\n",
      " Average Precision  (AP) @[ IoU=0.50:0.95 | area= small | maxDets=100 ] = 0.000\n",
      " Average Precision  (AP) @[ IoU=0.50:0.95 | area=medium | maxDets=100 ] = 0.000\n",
      " Average Precision  (AP) @[ IoU=0.50:0.95 | area= large | maxDets=100 ] = 0.000\n",
      " Average Recall     (AR) @[ IoU=0.50:0.95 | area=   all | maxDets=  1 ] = 0.000\n",
      " Average Recall     (AR) @[ IoU=0.50:0.95 | area=   all | maxDets= 10 ] = 0.000\n",
      " Average Recall     (AR) @[ IoU=0.50:0.95 | area=   all | maxDets=100 ] = 0.001\n",
      " Average Recall     (AR) @[ IoU=0.50:0.95 | area= small | maxDets=100 ] = 0.000\n",
      " Average Recall     (AR) @[ IoU=0.50:0.95 | area=medium | maxDets=100 ] = 0.004\n",
      " Average Recall     (AR) @[ IoU=0.50:0.95 | area= large | maxDets=100 ] = 0.000\n",
      " Average Recall     (AR) @[ IoU=0.50      | area=   all | maxDets=100 ] = 0.006\n",
      " Average Recall     (AR) @[ IoU=0.75      | area=   all | maxDets=100 ] = 0.000\n",
      "================================================\n",
      "{'coco_eval_bbox': [3.535004683976017e-06, 2.0681913359745502e-05, 0.0, 0.0, 1.0730883111121674e-05, 0.0, 0.0, 4.07000407000407e-05, 0.001058201058201058, 0.0, 0.0038690476190476187, 0.0]}\n",
      "================================================\n",
      "Epoch: [19]  [ 0/15]  eta: 0:00:26  lr: 0.000004  loss: 29.0768 (29.0768)  loss_mal: 0.6973 (0.6973)  loss_bbox: 0.6553 (0.6553)  loss_giou: 1.4880 (1.4880)  loss_fgl: 0.6923 (0.6923)  loss_mal_aux_0: 0.6733 (0.6733)  loss_bbox_aux_0: 0.6649 (0.6649)  loss_giou_aux_0: 1.5132 (1.5132)  loss_fgl_aux_0: 0.6764 (0.6764)  loss_ddf_aux_0: 0.0007 (0.0007)  loss_mal_aux_1: 0.6743 (0.6743)  loss_bbox_aux_1: 0.6600 (0.6600)  loss_giou_aux_1: 1.5005 (1.5005)  loss_fgl_aux_1: 0.6845 (0.6845)  loss_ddf_aux_1: 0.0000 (0.0000)  loss_mal_pre: 0.6685 (0.6685)  loss_bbox_pre: 0.6675 (0.6675)  loss_giou_pre: 1.5197 (1.5197)  loss_mal_enc_0: 0.6763 (0.6763)  loss_bbox_enc_0: 0.6727 (0.6727)  loss_giou_enc_0: 1.5329 (1.5329)  loss_mal_dn_0: 0.7324 (0.7324)  loss_bbox_dn_0: 0.4894 (0.4894)  loss_giou_dn_0: 1.3799 (1.3799)  loss_fgl_dn_0: 0.8186 (0.8186)  loss_ddf_dn_0: 0.0006 (0.0006)  loss_mal_dn_1: 0.7144 (0.7144)  loss_bbox_dn_1: 0.4903 (0.4903)  loss_giou_dn_1: 1.3797 (1.3797)  loss_fgl_dn_1: 0.8177 (0.8177)  loss_ddf_dn_1: 0.0004 (0.0004)  loss_mal_dn_2: 0.6445 (0.6445)  loss_bbox_dn_2: 0.4923 (0.4923)  loss_giou_dn_2: 1.3790 (1.3790)  loss_fgl_dn_2: 0.8180 (0.8180)  loss_mal_dn_pre: 0.7324 (0.7324)  loss_bbox_dn_pre: 0.4897 (0.4897)  loss_giou_dn_pre: 1.3795 (1.3795)  time: 1.7602  data: 1.1876  max mem: 10516\n"
     ]
    },
    {
     "name": "stderr",
     "output_type": "stream",
     "text": [
      "2025-03-10 14:53:39,724 - DEIMTrainer - INFO - Saving checkpoint to outputs/deim_hgnetv2_s_coco/checkpoint0019.pth\n"
     ]
    },
    {
     "name": "stdout",
     "output_type": "stream",
     "text": [
      "Epoch: [19]  [14/15]  eta: 0:00:00  lr: 0.000004  loss: 29.4181 (29.2717)  loss_mal: 0.6807 (0.6707)  loss_bbox: 0.7057 (0.7014)  loss_giou: 1.4990 (1.5042)  loss_fgl: 0.6644 (0.6734)  loss_mal_aux_0: 0.6582 (0.6580)  loss_bbox_aux_0: 0.7223 (0.7086)  loss_giou_aux_0: 1.5221 (1.5284)  loss_fgl_aux_0: 0.6487 (0.6588)  loss_ddf_aux_0: 0.0009 (0.0009)  loss_mal_aux_1: 0.6680 (0.6589)  loss_bbox_aux_1: 0.7138 (0.7047)  loss_giou_aux_1: 1.5105 (1.5160)  loss_fgl_aux_1: 0.6567 (0.6665)  loss_ddf_aux_1: 0.0000 (-0.0000)  loss_mal_pre: 0.6538 (0.6545)  loss_bbox_pre: 0.7270 (0.7108)  loss_giou_pre: 1.5281 (1.5350)  loss_mal_enc_0: 0.6763 (0.6545)  loss_bbox_enc_0: 0.7351 (0.7153)  loss_giou_enc_0: 1.5403 (1.5473)  loss_mal_dn_0: 0.7441 (0.7424)  loss_bbox_dn_0: 0.5056 (0.5055)  loss_giou_dn_0: 1.3631 (1.3589)  loss_fgl_dn_0: 0.8259 (0.8282)  loss_ddf_dn_0: 0.0006 (0.0006)  loss_mal_dn_1: 0.7197 (0.7202)  loss_bbox_dn_1: 0.5063 (0.5066)  loss_giou_dn_1: 1.3630 (1.3588)  loss_fgl_dn_1: 0.8248 (0.8270)  loss_ddf_dn_1: 0.0002 (0.0002)  loss_mal_dn_2: 0.6514 (0.6534)  loss_bbox_dn_2: 0.5083 (0.5095)  loss_giou_dn_2: 1.3627 (1.3585)  loss_fgl_dn_2: 0.8247 (0.8268)  loss_mal_dn_pre: 0.7446 (0.7427)  loss_bbox_dn_pre: 0.5064 (0.5062)  loss_giou_dn_pre: 1.3628 (1.3585)  time: 0.5966  data: 0.1009  max mem: 10516\n",
      "Epoch: [19] Total time: 0:00:09 (0.6012 s / it)\n",
      "Averaged stats: lr: 0.000004  loss: 29.4181 (29.2717)  loss_mal: 0.6807 (0.6707)  loss_bbox: 0.7057 (0.7014)  loss_giou: 1.4990 (1.5042)  loss_fgl: 0.6644 (0.6734)  loss_mal_aux_0: 0.6582 (0.6580)  loss_bbox_aux_0: 0.7223 (0.7086)  loss_giou_aux_0: 1.5221 (1.5284)  loss_fgl_aux_0: 0.6487 (0.6588)  loss_ddf_aux_0: 0.0009 (0.0009)  loss_mal_aux_1: 0.6680 (0.6589)  loss_bbox_aux_1: 0.7138 (0.7047)  loss_giou_aux_1: 1.5105 (1.5160)  loss_fgl_aux_1: 0.6567 (0.6665)  loss_ddf_aux_1: 0.0000 (-0.0000)  loss_mal_pre: 0.6538 (0.6545)  loss_bbox_pre: 0.7270 (0.7108)  loss_giou_pre: 1.5281 (1.5350)  loss_mal_enc_0: 0.6763 (0.6545)  loss_bbox_enc_0: 0.7351 (0.7153)  loss_giou_enc_0: 1.5403 (1.5473)  loss_mal_dn_0: 0.7441 (0.7424)  loss_bbox_dn_0: 0.5056 (0.5055)  loss_giou_dn_0: 1.3631 (1.3589)  loss_fgl_dn_0: 0.8259 (0.8282)  loss_ddf_dn_0: 0.0006 (0.0006)  loss_mal_dn_1: 0.7197 (0.7202)  loss_bbox_dn_1: 0.5063 (0.5066)  loss_giou_dn_1: 1.3630 (1.3588)  loss_fgl_dn_1: 0.8248 (0.8270)  loss_ddf_dn_1: 0.0002 (0.0002)  loss_mal_dn_2: 0.6514 (0.6534)  loss_bbox_dn_2: 0.5083 (0.5095)  loss_giou_dn_2: 1.3627 (1.3585)  loss_fgl_dn_2: 0.8247 (0.8268)  loss_mal_dn_pre: 0.7446 (0.7427)  loss_bbox_dn_pre: 0.5064 (0.5062)  loss_giou_dn_pre: 1.3628 (1.3585)\n"
     ]
    },
    {
     "name": "stderr",
     "output_type": "stream",
     "text": [
      "2025-03-10 14:53:40,009 - DEIMTrainer - INFO - Checkpoint saved to outputs/deim_hgnetv2_s_coco/checkpoint0019.pth\n",
      "2025-03-10 14:53:40,011 - DEIMTrainer - INFO - Evaluating model...\n"
     ]
    },
    {
     "name": "stdout",
     "output_type": "stream",
     "text": [
      "Test:  [0/5]  eta: 0:00:03    time: 0.7694  data: 0.6538  max mem: 10516\n"
     ]
    },
    {
     "name": "stderr",
     "output_type": "stream",
     "text": [
      "2025-03-10 14:53:41,491 - DEIMTrainer - INFO - Epoch 19 - Train loss: 29.2717, Eval mAP: 0.0000\n",
      "2025-03-10 14:53:41,491 - DEIMTrainer - INFO - Best stats: {'epoch': 10, 'coco_eval_bbox': 2.2635522239754275e-05}\n"
     ]
    },
    {
     "name": "stdout",
     "output_type": "stream",
     "text": [
      "Test:  [4/5]  eta: 0:00:00    time: 0.2824  data: 0.1472  max mem: 10516\n",
      "Test: Total time: 0:00:01 (0.2927 s / it)\n",
      "Averaged stats: \n",
      "Accumulating evaluation results...\n",
      "COCOeval_opt.accumulate() finished...\n",
      "DONE (t=0.01s).\n",
      "IoU metric: bbox\n",
      " Average Precision  (AP) @[ IoU=0.50:0.95 | area=   all | maxDets=100 ] = 0.000\n",
      " Average Precision  (AP) @[ IoU=0.50      | area=   all | maxDets=100 ] = 0.000\n",
      " Average Precision  (AP) @[ IoU=0.75      | area=   all | maxDets=100 ] = 0.000\n",
      " Average Precision  (AP) @[ IoU=0.50:0.95 | area= small | maxDets=100 ] = 0.000\n",
      " Average Precision  (AP) @[ IoU=0.50:0.95 | area=medium | maxDets=100 ] = 0.000\n",
      " Average Precision  (AP) @[ IoU=0.50:0.95 | area= large | maxDets=100 ] = 0.000\n",
      " Average Recall     (AR) @[ IoU=0.50:0.95 | area=   all | maxDets=  1 ] = 0.000\n",
      " Average Recall     (AR) @[ IoU=0.50:0.95 | area=   all | maxDets= 10 ] = 0.000\n",
      " Average Recall     (AR) @[ IoU=0.50:0.95 | area=   all | maxDets=100 ] = 0.002\n",
      " Average Recall     (AR) @[ IoU=0.50:0.95 | area= small | maxDets=100 ] = 0.000\n",
      " Average Recall     (AR) @[ IoU=0.50:0.95 | area=medium | maxDets=100 ] = 0.006\n",
      " Average Recall     (AR) @[ IoU=0.50:0.95 | area= large | maxDets=100 ] = 0.000\n",
      " Average Recall     (AR) @[ IoU=0.50      | area=   all | maxDets=100 ] = 0.009\n",
      " Average Recall     (AR) @[ IoU=0.75      | area=   all | maxDets=100 ] = 0.000\n",
      "================================================\n",
      "{'coco_eval_bbox': [6.59237226120722e-06, 3.8215324066589934e-05, 0.0, 0.0, 2.0854203894970654e-05, 0.0, 0.0, 0.0001628001628001628, 0.0015873015873015875, 0.0, 0.005803571428571428, 0.0]}\n",
      "================================================\n",
      "Epoch: [20]  [ 0/15]  eta: 0:00:32  lr: 0.000005  loss: 28.9088 (28.9088)  loss_mal: 0.7236 (0.7236)  loss_bbox: 0.6642 (0.6642)  loss_giou: 1.4584 (1.4584)  loss_fgl: 0.6917 (0.6917)  loss_mal_aux_0: 0.6670 (0.6670)  loss_bbox_aux_0: 0.6630 (0.6630)  loss_giou_aux_0: 1.4783 (1.4783)  loss_fgl_aux_0: 0.6808 (0.6808)  loss_ddf_aux_0: 0.0015 (0.0015)  loss_mal_aux_1: 0.7148 (0.7148)  loss_bbox_aux_1: 0.6631 (0.6631)  loss_giou_aux_1: 1.4675 (1.4675)  loss_fgl_aux_1: 0.6870 (0.6870)  loss_ddf_aux_1: 0.0002 (0.0002)  loss_mal_pre: 0.6631 (0.6631)  loss_bbox_pre: 0.6634 (0.6634)  loss_giou_pre: 1.4844 (1.4844)  loss_mal_enc_0: 0.7217 (0.7217)  loss_bbox_enc_0: 0.6654 (0.6654)  loss_giou_enc_0: 1.4967 (1.4967)  loss_mal_dn_0: 0.7178 (0.7178)  loss_bbox_dn_0: 0.4852 (0.4852)  loss_giou_dn_0: 1.3696 (1.3696)  loss_fgl_dn_0: 0.8127 (0.8127)  loss_ddf_dn_0: 0.0006 (0.0006)  loss_mal_dn_1: 0.7109 (0.7109)  loss_bbox_dn_1: 0.4866 (0.4866)  loss_giou_dn_1: 1.3696 (1.3696)  loss_fgl_dn_1: 0.8115 (0.8115)  loss_ddf_dn_1: 0.0000 (0.0000)  loss_mal_dn_2: 0.6440 (0.6440)  loss_bbox_dn_2: 0.4903 (0.4903)  loss_giou_dn_2: 1.3698 (1.3698)  loss_fgl_dn_2: 0.8112 (0.8112)  loss_mal_dn_pre: 0.7178 (0.7178)  loss_bbox_dn_pre: 0.4859 (0.4859)  loss_giou_dn_pre: 1.3693 (1.3693)  time: 2.1716  data: 1.5766  max mem: 10516\n"
     ]
    },
    {
     "name": "stderr",
     "output_type": "stream",
     "text": [
      "2025-03-10 14:53:50,553 - DEIMTrainer - INFO - Evaluating model...\n"
     ]
    },
    {
     "name": "stdout",
     "output_type": "stream",
     "text": [
      "Epoch: [20]  [14/15]  eta: 0:00:00  lr: 0.000005  loss: 28.9088 (29.1888)  loss_mal: 0.6860 (0.6705)  loss_bbox: 0.6702 (0.7031)  loss_giou: 1.5084 (1.5096)  loss_fgl: 0.6807 (0.6725)  loss_mal_aux_0: 0.6670 (0.6535)  loss_bbox_aux_0: 0.6636 (0.7081)  loss_giou_aux_0: 1.5236 (1.5381)  loss_fgl_aux_0: 0.6654 (0.6565)  loss_ddf_aux_0: 0.0018 (0.0020)  loss_mal_aux_1: 0.6685 (0.6632)  loss_bbox_aux_1: 0.6663 (0.7049)  loss_giou_aux_1: 1.5154 (1.5227)  loss_fgl_aux_1: 0.6718 (0.6654)  loss_ddf_aux_1: 0.0003 (0.0004)  loss_mal_pre: 0.6616 (0.6485)  loss_bbox_pre: 0.6634 (0.7103)  loss_giou_pre: 1.5284 (1.5468)  loss_mal_enc_0: 0.6455 (0.6445)  loss_bbox_enc_0: 0.6654 (0.7154)  loss_giou_enc_0: 1.5386 (1.5644)  loss_mal_dn_0: 0.7251 (0.7180)  loss_bbox_dn_0: 0.4861 (0.4953)  loss_giou_dn_0: 1.3689 (1.3648)  loss_fgl_dn_0: 0.8186 (0.8228)  loss_ddf_dn_0: 0.0006 (0.0006)  loss_mal_dn_1: 0.7041 (0.6972)  loss_bbox_dn_1: 0.4872 (0.4964)  loss_giou_dn_1: 1.3690 (1.3649)  loss_fgl_dn_1: 0.8168 (0.8210)  loss_ddf_dn_1: 0.0004 (0.0004)  loss_mal_dn_2: 0.6416 (0.6431)  loss_bbox_dn_2: 0.4903 (0.4996)  loss_giou_dn_2: 1.3685 (1.3646)  loss_fgl_dn_2: 0.8164 (0.8206)  loss_mal_dn_pre: 0.7256 (0.7184)  loss_bbox_dn_pre: 0.4871 (0.4965)  loss_giou_dn_pre: 1.3682 (1.3642)  time: 0.5980  data: 0.1223  max mem: 10516\n",
      "Epoch: [20] Total time: 0:00:09 (0.6029 s / it)\n",
      "Averaged stats: lr: 0.000005  loss: 28.9088 (29.1888)  loss_mal: 0.6860 (0.6705)  loss_bbox: 0.6702 (0.7031)  loss_giou: 1.5084 (1.5096)  loss_fgl: 0.6807 (0.6725)  loss_mal_aux_0: 0.6670 (0.6535)  loss_bbox_aux_0: 0.6636 (0.7081)  loss_giou_aux_0: 1.5236 (1.5381)  loss_fgl_aux_0: 0.6654 (0.6565)  loss_ddf_aux_0: 0.0018 (0.0020)  loss_mal_aux_1: 0.6685 (0.6632)  loss_bbox_aux_1: 0.6663 (0.7049)  loss_giou_aux_1: 1.5154 (1.5227)  loss_fgl_aux_1: 0.6718 (0.6654)  loss_ddf_aux_1: 0.0003 (0.0004)  loss_mal_pre: 0.6616 (0.6485)  loss_bbox_pre: 0.6634 (0.7103)  loss_giou_pre: 1.5284 (1.5468)  loss_mal_enc_0: 0.6455 (0.6445)  loss_bbox_enc_0: 0.6654 (0.7154)  loss_giou_enc_0: 1.5386 (1.5644)  loss_mal_dn_0: 0.7251 (0.7180)  loss_bbox_dn_0: 0.4861 (0.4953)  loss_giou_dn_0: 1.3689 (1.3648)  loss_fgl_dn_0: 0.8186 (0.8228)  loss_ddf_dn_0: 0.0006 (0.0006)  loss_mal_dn_1: 0.7041 (0.6972)  loss_bbox_dn_1: 0.4872 (0.4964)  loss_giou_dn_1: 1.3690 (1.3649)  loss_fgl_dn_1: 0.8168 (0.8210)  loss_ddf_dn_1: 0.0004 (0.0004)  loss_mal_dn_2: 0.6416 (0.6431)  loss_bbox_dn_2: 0.4903 (0.4996)  loss_giou_dn_2: 1.3685 (1.3646)  loss_fgl_dn_2: 0.8164 (0.8206)  loss_mal_dn_pre: 0.7256 (0.7184)  loss_bbox_dn_pre: 0.4871 (0.4965)  loss_giou_dn_pre: 1.3682 (1.3642)\n",
      "Test:  [0/5]  eta: 0:00:03    time: 0.7504  data: 0.6174  max mem: 10516\n"
     ]
    },
    {
     "name": "stderr",
     "output_type": "stream",
     "text": [
      "2025-03-10 14:53:52,084 - DEIMTrainer - INFO - Saving checkpoint to outputs/deim_hgnetv2_s_coco/best.pth\n"
     ]
    },
    {
     "name": "stdout",
     "output_type": "stream",
     "text": [
      "Test:  [4/5]  eta: 0:00:00    time: 0.2875  data: 0.1412  max mem: 10516\n",
      "Test: Total time: 0:00:01 (0.3026 s / it)\n",
      "Averaged stats: \n",
      "Accumulating evaluation results...\n",
      "COCOeval_opt.accumulate() finished...\n",
      "DONE (t=0.01s).\n",
      "IoU metric: bbox\n",
      " Average Precision  (AP) @[ IoU=0.50:0.95 | area=   all | maxDets=100 ] = 0.000\n",
      " Average Precision  (AP) @[ IoU=0.50      | area=   all | maxDets=100 ] = 0.000\n",
      " Average Precision  (AP) @[ IoU=0.75      | area=   all | maxDets=100 ] = 0.000\n",
      " Average Precision  (AP) @[ IoU=0.50:0.95 | area= small | maxDets=100 ] = 0.000\n",
      " Average Precision  (AP) @[ IoU=0.50:0.95 | area=medium | maxDets=100 ] = 0.000\n",
      " Average Precision  (AP) @[ IoU=0.50:0.95 | area= large | maxDets=100 ] = 0.000\n",
      " Average Recall     (AR) @[ IoU=0.50:0.95 | area=   all | maxDets=  1 ] = 0.000\n",
      " Average Recall     (AR) @[ IoU=0.50:0.95 | area=   all | maxDets= 10 ] = 0.000\n",
      " Average Recall     (AR) @[ IoU=0.50:0.95 | area=   all | maxDets=100 ] = 0.004\n",
      " Average Recall     (AR) @[ IoU=0.50:0.95 | area= small | maxDets=100 ] = 0.000\n",
      " Average Recall     (AR) @[ IoU=0.50:0.95 | area=medium | maxDets=100 ] = 0.014\n",
      " Average Recall     (AR) @[ IoU=0.50:0.95 | area= large | maxDets=100 ] = 0.000\n",
      " Average Recall     (AR) @[ IoU=0.50      | area=   all | maxDets=100 ] = 0.021\n",
      " Average Recall     (AR) @[ IoU=0.75      | area=   all | maxDets=100 ] = 0.000\n",
      "================================================\n",
      "{'coco_eval_bbox': [4.1566353709059595e-05, 0.0002932759688250715, 0.0, 0.0, 9.698752157789387e-05, 0.0, 8.14000814000814e-05, 0.00028490028490028494, 0.0037037037037037034, 0.0, 0.013541666666666667, 0.0]}\n",
      "================================================\n"
     ]
    },
    {
     "name": "stderr",
     "output_type": "stream",
     "text": [
      "2025-03-10 14:53:52,457 - DEIMTrainer - INFO - Checkpoint saved to outputs/deim_hgnetv2_s_coco/best.pth\n",
      "2025-03-10 14:53:52,461 - DEIMTrainer - INFO - Epoch 20 - Train loss: 29.1888, Eval mAP: 0.0000\n",
      "2025-03-10 14:53:52,461 - DEIMTrainer - INFO - Best stats: {'epoch': 20, 'coco_eval_bbox': 4.1566353709059595e-05}\n"
     ]
    },
    {
     "name": "stdout",
     "output_type": "stream",
     "text": [
      "Epoch: [21]  [ 0/15]  eta: 0:00:29  lr: 0.000005  loss: 29.0465 (29.0465)  loss_mal: 0.7651 (0.7651)  loss_bbox: 0.6527 (0.6527)  loss_giou: 1.3912 (1.3912)  loss_fgl: 0.7419 (0.7419)  loss_mal_aux_0: 0.7261 (0.7261)  loss_bbox_aux_0: 0.6640 (0.6640)  loss_giou_aux_0: 1.4299 (1.4299)  loss_fgl_aux_0: 0.7193 (0.7193)  loss_ddf_aux_0: 0.0029 (0.0029)  loss_mal_aux_1: 0.7500 (0.7500)  loss_bbox_aux_1: 0.6571 (0.6571)  loss_giou_aux_1: 1.4083 (1.4083)  loss_fgl_aux_1: 0.7323 (0.7323)  loss_ddf_aux_1: 0.0007 (0.0007)  loss_mal_pre: 0.7158 (0.7158)  loss_bbox_pre: 0.6689 (0.6689)  loss_giou_pre: 1.4425 (1.4425)  loss_mal_enc_0: 0.7109 (0.7109)  loss_bbox_enc_0: 0.6799 (0.6799)  loss_giou_enc_0: 1.4680 (1.4680)  loss_mal_dn_0: 0.6880 (0.6880)  loss_bbox_dn_0: 0.5181 (0.5181)  loss_giou_dn_0: 1.3619 (1.3619)  loss_fgl_dn_0: 0.8328 (0.8328)  loss_ddf_dn_0: 0.0003 (0.0003)  loss_mal_dn_1: 0.6831 (0.6831)  loss_bbox_dn_1: 0.5186 (0.5186)  loss_giou_dn_1: 1.3614 (1.3614)  loss_fgl_dn_1: 0.8311 (0.8311)  loss_ddf_dn_1: 0.0006 (0.0006)  loss_mal_dn_2: 0.6421 (0.6421)  loss_bbox_dn_2: 0.5212 (0.5212)  loss_giou_dn_2: 1.3600 (1.3600)  loss_fgl_dn_2: 0.8311 (0.8311)  loss_mal_dn_pre: 0.6880 (0.6880)  loss_bbox_dn_pre: 0.5196 (0.5196)  loss_giou_dn_pre: 1.3611 (1.3611)  time: 1.9344  data: 1.4030  max mem: 10516\n"
     ]
    },
    {
     "name": "stderr",
     "output_type": "stream",
     "text": [
      "2025-03-10 14:54:01,557 - DEIMTrainer - INFO - Evaluating model...\n"
     ]
    },
    {
     "name": "stdout",
     "output_type": "stream",
     "text": [
      "Epoch: [21]  [14/15]  eta: 0:00:00  lr: 0.000005  loss: 28.9543 (28.9732)  loss_mal: 0.6631 (0.6924)  loss_bbox: 0.6672 (0.6755)  loss_giou: 1.4723 (1.4626)  loss_fgl: 0.6905 (0.7084)  loss_mal_aux_0: 0.6621 (0.6801)  loss_bbox_aux_0: 0.6640 (0.6747)  loss_giou_aux_0: 1.5002 (1.4921)  loss_fgl_aux_0: 0.6759 (0.6938)  loss_ddf_aux_0: 0.0036 (0.0036)  loss_mal_aux_1: 0.6519 (0.6825)  loss_bbox_aux_1: 0.6571 (0.6739)  loss_giou_aux_1: 1.4844 (1.4750)  loss_fgl_aux_1: 0.6845 (0.7028)  loss_ddf_aux_1: 0.0009 (0.0009)  loss_mal_pre: 0.6558 (0.6744)  loss_bbox_pre: 0.6689 (0.6764)  loss_giou_pre: 1.5097 (1.5032)  loss_mal_enc_0: 0.6411 (0.6552)  loss_bbox_enc_0: 0.6799 (0.6825)  loss_giou_enc_0: 1.5353 (1.5278)  loss_mal_dn_0: 0.6899 (0.6903)  loss_bbox_dn_0: 0.5019 (0.5021)  loss_giou_dn_0: 1.3665 (1.3671)  loss_fgl_dn_0: 0.8247 (0.8223)  loss_ddf_dn_0: 0.0009 (0.0009)  loss_mal_dn_1: 0.6729 (0.6721)  loss_bbox_dn_1: 0.5026 (0.5028)  loss_giou_dn_1: 1.3667 (1.3675)  loss_fgl_dn_1: 0.8217 (0.8195)  loss_ddf_dn_1: 0.0003 (0.0003)  loss_mal_dn_2: 0.6401 (0.6375)  loss_bbox_dn_2: 0.5054 (0.5060)  loss_giou_dn_2: 1.3664 (1.3673)  loss_fgl_dn_2: 0.8205 (0.8184)  loss_mal_dn_pre: 0.6904 (0.6910)  loss_bbox_dn_pre: 0.5039 (0.5041)  loss_giou_dn_pre: 1.3656 (1.3662)  time: 0.6006  data: 0.1147  max mem: 10516\n",
      "Epoch: [21] Total time: 0:00:09 (0.6052 s / it)\n",
      "Averaged stats: lr: 0.000005  loss: 28.9543 (28.9732)  loss_mal: 0.6631 (0.6924)  loss_bbox: 0.6672 (0.6755)  loss_giou: 1.4723 (1.4626)  loss_fgl: 0.6905 (0.7084)  loss_mal_aux_0: 0.6621 (0.6801)  loss_bbox_aux_0: 0.6640 (0.6747)  loss_giou_aux_0: 1.5002 (1.4921)  loss_fgl_aux_0: 0.6759 (0.6938)  loss_ddf_aux_0: 0.0036 (0.0036)  loss_mal_aux_1: 0.6519 (0.6825)  loss_bbox_aux_1: 0.6571 (0.6739)  loss_giou_aux_1: 1.4844 (1.4750)  loss_fgl_aux_1: 0.6845 (0.7028)  loss_ddf_aux_1: 0.0009 (0.0009)  loss_mal_pre: 0.6558 (0.6744)  loss_bbox_pre: 0.6689 (0.6764)  loss_giou_pre: 1.5097 (1.5032)  loss_mal_enc_0: 0.6411 (0.6552)  loss_bbox_enc_0: 0.6799 (0.6825)  loss_giou_enc_0: 1.5353 (1.5278)  loss_mal_dn_0: 0.6899 (0.6903)  loss_bbox_dn_0: 0.5019 (0.5021)  loss_giou_dn_0: 1.3665 (1.3671)  loss_fgl_dn_0: 0.8247 (0.8223)  loss_ddf_dn_0: 0.0009 (0.0009)  loss_mal_dn_1: 0.6729 (0.6721)  loss_bbox_dn_1: 0.5026 (0.5028)  loss_giou_dn_1: 1.3667 (1.3675)  loss_fgl_dn_1: 0.8217 (0.8195)  loss_ddf_dn_1: 0.0003 (0.0003)  loss_mal_dn_2: 0.6401 (0.6375)  loss_bbox_dn_2: 0.5054 (0.5060)  loss_giou_dn_2: 1.3664 (1.3673)  loss_fgl_dn_2: 0.8205 (0.8184)  loss_mal_dn_pre: 0.6904 (0.6910)  loss_bbox_dn_pre: 0.5039 (0.5041)  loss_giou_dn_pre: 1.3656 (1.3662)\n",
      "Test:  [0/5]  eta: 0:00:04    time: 0.8016  data: 0.6914  max mem: 10516\n"
     ]
    },
    {
     "name": "stderr",
     "output_type": "stream",
     "text": [
      "2025-03-10 14:54:03,056 - DEIMTrainer - INFO - Saving checkpoint to outputs/deim_hgnetv2_s_coco/best.pth\n"
     ]
    },
    {
     "name": "stdout",
     "output_type": "stream",
     "text": [
      "Test:  [4/5]  eta: 0:00:00    time: 0.2846  data: 0.1501  max mem: 10516\n",
      "Test: Total time: 0:00:01 (0.2958 s / it)\n",
      "Averaged stats: \n",
      "Accumulating evaluation results...\n",
      "COCOeval_opt.accumulate() finished...\n",
      "DONE (t=0.01s).\n",
      "IoU metric: bbox\n",
      " Average Precision  (AP) @[ IoU=0.50:0.95 | area=   all | maxDets=100 ] = 0.000\n",
      " Average Precision  (AP) @[ IoU=0.50      | area=   all | maxDets=100 ] = 0.001\n",
      " Average Precision  (AP) @[ IoU=0.75      | area=   all | maxDets=100 ] = 0.000\n",
      " Average Precision  (AP) @[ IoU=0.50:0.95 | area= small | maxDets=100 ] = 0.000\n",
      " Average Precision  (AP) @[ IoU=0.50:0.95 | area=medium | maxDets=100 ] = 0.000\n",
      " Average Precision  (AP) @[ IoU=0.50:0.95 | area= large | maxDets=100 ] = 0.001\n",
      " Average Recall     (AR) @[ IoU=0.50:0.95 | area=   all | maxDets=  1 ] = 0.000\n",
      " Average Recall     (AR) @[ IoU=0.50:0.95 | area=   all | maxDets= 10 ] = 0.001\n",
      " Average Recall     (AR) @[ IoU=0.50:0.95 | area=   all | maxDets=100 ] = 0.007\n",
      " Average Recall     (AR) @[ IoU=0.50:0.95 | area= small | maxDets=100 ] = 0.000\n",
      " Average Recall     (AR) @[ IoU=0.50:0.95 | area=medium | maxDets=100 ] = 0.023\n",
      " Average Recall     (AR) @[ IoU=0.50:0.95 | area= large | maxDets=100 ] = 0.001\n",
      " Average Recall     (AR) @[ IoU=0.50      | area=   all | maxDets=100 ] = 0.040\n",
      " Average Recall     (AR) @[ IoU=0.75      | area=   all | maxDets=100 ] = 0.000\n",
      "================================================\n",
      "{'coco_eval_bbox': [0.00010298048001629174, 0.0007985768482058604, 0.0, 0.0, 0.00024487316136498745, 0.0012572685840012573, 8.14000814000814e-05, 0.0009361009361009362, 0.006959706959706961, 0.0, 0.02261904761904762, 0.0010644257703081232]}\n",
      "================================================\n"
     ]
    },
    {
     "name": "stderr",
     "output_type": "stream",
     "text": [
      "2025-03-10 14:54:03,395 - DEIMTrainer - INFO - Checkpoint saved to outputs/deim_hgnetv2_s_coco/best.pth\n",
      "2025-03-10 14:54:03,398 - DEIMTrainer - INFO - Epoch 21 - Train loss: 28.9732, Eval mAP: 0.0001\n",
      "2025-03-10 14:54:03,398 - DEIMTrainer - INFO - Best stats: {'epoch': 21, 'coco_eval_bbox': 0.00010298048001629174}\n"
     ]
    },
    {
     "name": "stdout",
     "output_type": "stream",
     "text": [
      "Epoch: [22]  [ 0/15]  eta: 0:00:31  lr: 0.000005  loss: 29.4474 (29.4474)  loss_mal: 0.6685 (0.6685)  loss_bbox: 0.7487 (0.7487)  loss_giou: 1.4834 (1.4834)  loss_fgl: 0.6791 (0.6791)  loss_mal_aux_0: 0.6665 (0.6665)  loss_bbox_aux_0: 0.7517 (0.7517)  loss_giou_aux_0: 1.5161 (1.5161)  loss_fgl_aux_0: 0.6610 (0.6610)  loss_ddf_aux_0: 0.0038 (0.0038)  loss_mal_aux_1: 0.6689 (0.6689)  loss_bbox_aux_1: 0.7487 (0.7487)  loss_giou_aux_1: 1.4969 (1.4969)  loss_fgl_aux_1: 0.6719 (0.6719)  loss_ddf_aux_1: 0.0009 (0.0009)  loss_mal_pre: 0.6582 (0.6582)  loss_bbox_pre: 0.7549 (0.7549)  loss_giou_pre: 1.5290 (1.5290)  loss_mal_enc_0: 0.6245 (0.6245)  loss_bbox_enc_0: 0.7633 (0.7633)  loss_giou_enc_0: 1.5580 (1.5580)  loss_mal_dn_0: 0.6997 (0.6997)  loss_bbox_dn_0: 0.5318 (0.5318)  loss_giou_dn_0: 1.3710 (1.3710)  loss_fgl_dn_0: 0.8208 (0.8208)  loss_ddf_dn_0: 0.0010 (0.0010)  loss_mal_dn_1: 0.6772 (0.6772)  loss_bbox_dn_1: 0.5317 (0.5317)  loss_giou_dn_1: 1.3715 (1.3715)  loss_fgl_dn_1: 0.8176 (0.8176)  loss_ddf_dn_1: 0.0002 (0.0002)  loss_mal_dn_2: 0.6436 (0.6436)  loss_bbox_dn_2: 0.5340 (0.5340)  loss_giou_dn_2: 1.3713 (1.3713)  loss_fgl_dn_2: 0.8165 (0.8165)  loss_mal_dn_pre: 0.7007 (0.7007)  loss_bbox_dn_pre: 0.5344 (0.5344)  loss_giou_dn_pre: 1.3701 (1.3701)  time: 2.1079  data: 1.5473  max mem: 10516\n"
     ]
    },
    {
     "name": "stderr",
     "output_type": "stream",
     "text": [
      "2025-03-10 14:54:12,235 - DEIMTrainer - INFO - Evaluating model...\n"
     ]
    },
    {
     "name": "stdout",
     "output_type": "stream",
     "text": [
      "Epoch: [22]  [14/15]  eta: 0:00:00  lr: 0.000006  loss: 29.4954 (29.5836)  loss_mal: 0.6665 (0.7040)  loss_bbox: 0.7354 (0.7545)  loss_giou: 1.4834 (1.4666)  loss_fgl: 0.6941 (0.7060)  loss_mal_aux_0: 0.6572 (0.6850)  loss_bbox_aux_0: 0.7393 (0.7549)  loss_giou_aux_0: 1.5161 (1.4973)  loss_fgl_aux_0: 0.6840 (0.6905)  loss_ddf_aux_0: 0.0047 (0.0046)  loss_mal_aux_1: 0.6689 (0.6976)  loss_bbox_aux_1: 0.7340 (0.7529)  loss_giou_aux_1: 1.4969 (1.4781)  loss_fgl_aux_1: 0.6906 (0.7006)  loss_ddf_aux_1: 0.0011 (0.0011)  loss_mal_pre: 0.6494 (0.6771)  loss_bbox_pre: 0.7459 (0.7583)  loss_giou_pre: 1.5290 (1.5115)  loss_mal_enc_0: 0.6245 (0.6584)  loss_bbox_enc_0: 0.7633 (0.7706)  loss_giou_enc_0: 1.5580 (1.5474)  loss_mal_dn_0: 0.6802 (0.6842)  loss_bbox_dn_0: 0.5565 (0.5441)  loss_giou_dn_0: 1.3616 (1.3621)  loss_fgl_dn_0: 0.8263 (0.8246)  loss_ddf_dn_0: 0.0016 (0.0016)  loss_mal_dn_1: 0.6606 (0.6634)  loss_bbox_dn_1: 0.5560 (0.5439)  loss_giou_dn_1: 1.3629 (1.3632)  loss_fgl_dn_1: 0.8211 (0.8202)  loss_ddf_dn_1: 0.0004 (0.0003)  loss_mal_dn_2: 0.6387 (0.6388)  loss_bbox_dn_2: 0.5575 (0.5459)  loss_giou_dn_2: 1.3631 (1.3632)  loss_fgl_dn_2: 0.8186 (0.8182)  loss_mal_dn_pre: 0.6807 (0.6855)  loss_bbox_dn_pre: 0.5592 (0.5470)  loss_giou_dn_pre: 1.3598 (1.3606)  time: 0.5838  data: 0.1182  max mem: 10516\n",
      "Epoch: [22] Total time: 0:00:08 (0.5878 s / it)\n",
      "Averaged stats: lr: 0.000006  loss: 29.4954 (29.5836)  loss_mal: 0.6665 (0.7040)  loss_bbox: 0.7354 (0.7545)  loss_giou: 1.4834 (1.4666)  loss_fgl: 0.6941 (0.7060)  loss_mal_aux_0: 0.6572 (0.6850)  loss_bbox_aux_0: 0.7393 (0.7549)  loss_giou_aux_0: 1.5161 (1.4973)  loss_fgl_aux_0: 0.6840 (0.6905)  loss_ddf_aux_0: 0.0047 (0.0046)  loss_mal_aux_1: 0.6689 (0.6976)  loss_bbox_aux_1: 0.7340 (0.7529)  loss_giou_aux_1: 1.4969 (1.4781)  loss_fgl_aux_1: 0.6906 (0.7006)  loss_ddf_aux_1: 0.0011 (0.0011)  loss_mal_pre: 0.6494 (0.6771)  loss_bbox_pre: 0.7459 (0.7583)  loss_giou_pre: 1.5290 (1.5115)  loss_mal_enc_0: 0.6245 (0.6584)  loss_bbox_enc_0: 0.7633 (0.7706)  loss_giou_enc_0: 1.5580 (1.5474)  loss_mal_dn_0: 0.6802 (0.6842)  loss_bbox_dn_0: 0.5565 (0.5441)  loss_giou_dn_0: 1.3616 (1.3621)  loss_fgl_dn_0: 0.8263 (0.8246)  loss_ddf_dn_0: 0.0016 (0.0016)  loss_mal_dn_1: 0.6606 (0.6634)  loss_bbox_dn_1: 0.5560 (0.5439)  loss_giou_dn_1: 1.3629 (1.3632)  loss_fgl_dn_1: 0.8211 (0.8202)  loss_ddf_dn_1: 0.0004 (0.0003)  loss_mal_dn_2: 0.6387 (0.6388)  loss_bbox_dn_2: 0.5575 (0.5459)  loss_giou_dn_2: 1.3631 (1.3632)  loss_fgl_dn_2: 0.8186 (0.8182)  loss_mal_dn_pre: 0.6807 (0.6855)  loss_bbox_dn_pre: 0.5592 (0.5470)  loss_giou_dn_pre: 1.3598 (1.3606)\n",
      "Test:  [0/5]  eta: 0:00:03    time: 0.7968  data: 0.6674  max mem: 10516\n"
     ]
    },
    {
     "name": "stderr",
     "output_type": "stream",
     "text": [
      "2025-03-10 14:54:13,747 - DEIMTrainer - INFO - Saving checkpoint to outputs/deim_hgnetv2_s_coco/best.pth\n"
     ]
    },
    {
     "name": "stdout",
     "output_type": "stream",
     "text": [
      "Test:  [4/5]  eta: 0:00:00    time: 0.2840  data: 0.1485  max mem: 10516\n",
      "Test: Total time: 0:00:01 (0.2980 s / it)\n",
      "Averaged stats: \n",
      "Accumulating evaluation results...\n",
      "COCOeval_opt.accumulate() finished...\n",
      "DONE (t=0.01s).\n",
      "IoU metric: bbox\n",
      " Average Precision  (AP) @[ IoU=0.50:0.95 | area=   all | maxDets=100 ] = 0.000\n",
      " Average Precision  (AP) @[ IoU=0.50      | area=   all | maxDets=100 ] = 0.003\n",
      " Average Precision  (AP) @[ IoU=0.75      | area=   all | maxDets=100 ] = 0.000\n",
      " Average Precision  (AP) @[ IoU=0.50:0.95 | area= small | maxDets=100 ] = 0.000\n",
      " Average Precision  (AP) @[ IoU=0.50:0.95 | area=medium | maxDets=100 ] = 0.001\n",
      " Average Precision  (AP) @[ IoU=0.50:0.95 | area= large | maxDets=100 ] = 0.009\n",
      " Average Recall     (AR) @[ IoU=0.50:0.95 | area=   all | maxDets=  1 ] = 0.000\n",
      " Average Recall     (AR) @[ IoU=0.50:0.95 | area=   all | maxDets= 10 ] = 0.002\n",
      " Average Recall     (AR) @[ IoU=0.50:0.95 | area=   all | maxDets=100 ] = 0.017\n",
      " Average Recall     (AR) @[ IoU=0.50:0.95 | area= small | maxDets=100 ] = 0.000\n",
      " Average Recall     (AR) @[ IoU=0.50:0.95 | area=medium | maxDets=100 ] = 0.039\n",
      " Average Recall     (AR) @[ IoU=0.50:0.95 | area= large | maxDets=100 ] = 0.009\n",
      " Average Recall     (AR) @[ IoU=0.50      | area=   all | maxDets=100 ] = 0.085\n",
      " Average Recall     (AR) @[ IoU=0.75      | area=   all | maxDets=100 ] = 0.002\n",
      "================================================\n",
      "{'coco_eval_bbox': [0.0004558409958483478, 0.003183683945816708, 9.296704318319157e-06, 0.0, 0.0005034534334626213, 0.009240924092409241, 0.0001221001221001221, 0.0024013024013024016, 0.01676841676841677, 0.0, 0.038690476190476185, 0.008515406162464986]}\n",
      "================================================\n"
     ]
    },
    {
     "name": "stderr",
     "output_type": "stream",
     "text": [
      "2025-03-10 14:54:14,103 - DEIMTrainer - INFO - Checkpoint saved to outputs/deim_hgnetv2_s_coco/best.pth\n",
      "2025-03-10 14:54:14,105 - DEIMTrainer - INFO - Epoch 22 - Train loss: 29.5836, Eval mAP: 0.0005\n",
      "2025-03-10 14:54:14,106 - DEIMTrainer - INFO - Best stats: {'epoch': 22, 'coco_eval_bbox': 0.0004558409958483478}\n"
     ]
    },
    {
     "name": "stdout",
     "output_type": "stream",
     "text": [
      "Epoch: [23]  [ 0/15]  eta: 0:00:34  lr: 0.000006  loss: 28.6195 (28.6195)  loss_mal: 0.6245 (0.6245)  loss_bbox: 0.7009 (0.7009)  loss_giou: 1.5115 (1.5115)  loss_fgl: 0.6541 (0.6541)  loss_mal_aux_0: 0.6035 (0.6035)  loss_bbox_aux_0: 0.6853 (0.6853)  loss_giou_aux_0: 1.5350 (1.5350)  loss_fgl_aux_0: 0.6451 (0.6451)  loss_ddf_aux_0: 0.0053 (0.0053)  loss_mal_aux_1: 0.6191 (0.6191)  loss_bbox_aux_1: 0.6924 (0.6924)  loss_giou_aux_1: 1.5198 (1.5198)  loss_fgl_aux_1: 0.6513 (0.6513)  loss_ddf_aux_1: 0.0011 (0.0011)  loss_mal_pre: 0.6006 (0.6006)  loss_bbox_pre: 0.6834 (0.6834)  loss_giou_pre: 1.5484 (1.5484)  loss_mal_enc_0: 0.5977 (0.5977)  loss_bbox_enc_0: 0.6866 (0.6866)  loss_giou_enc_0: 1.5842 (1.5842)  loss_mal_dn_0: 0.6577 (0.6577)  loss_bbox_dn_0: 0.4881 (0.4881)  loss_giou_dn_0: 1.3674 (1.3674)  loss_fgl_dn_0: 0.8205 (0.8205)  loss_ddf_dn_0: 0.0019 (0.0019)  loss_mal_dn_1: 0.6440 (0.6440)  loss_bbox_dn_1: 0.4874 (0.4874)  loss_giou_dn_1: 1.3688 (1.3688)  loss_fgl_dn_1: 0.8155 (0.8155)  loss_ddf_dn_1: 0.0005 (0.0005)  loss_mal_dn_2: 0.6299 (0.6299)  loss_bbox_dn_2: 0.4887 (0.4887)  loss_giou_dn_2: 1.3692 (1.3692)  loss_fgl_dn_2: 0.8130 (0.8130)  loss_mal_dn_pre: 0.6602 (0.6602)  loss_bbox_dn_pre: 0.4913 (0.4913)  loss_giou_dn_pre: 1.3655 (1.3655)  time: 2.2869  data: 1.6385  max mem: 10516\n"
     ]
    },
    {
     "name": "stderr",
     "output_type": "stream",
     "text": [
      "2025-03-10 14:54:22,951 - DEIMTrainer - INFO - Saving checkpoint to outputs/deim_hgnetv2_s_coco/checkpoint0023.pth\n"
     ]
    },
    {
     "name": "stdout",
     "output_type": "stream",
     "text": [
      "Epoch: [23]  [14/15]  eta: 0:00:00  lr: 0.000006  loss: 28.8453 (28.8617)  loss_mal: 0.7773 (0.7341)  loss_bbox: 0.6946 (0.6879)  loss_giou: 1.3490 (1.3956)  loss_fgl: 0.7806 (0.7476)  loss_mal_aux_0: 0.7544 (0.7200)  loss_bbox_aux_0: 0.6744 (0.6688)  loss_giou_aux_0: 1.3665 (1.4119)  loss_fgl_aux_0: 0.7730 (0.7431)  loss_ddf_aux_0: 0.0055 (0.0053)  loss_mal_aux_1: 0.7744 (0.7315)  loss_bbox_aux_1: 0.6851 (0.6786)  loss_giou_aux_1: 1.3531 (1.3997)  loss_fgl_aux_1: 0.7800 (0.7474)  loss_ddf_aux_1: 0.0011 (0.0010)  loss_mal_pre: 0.7456 (0.7147)  loss_bbox_pre: 0.6740 (0.6657)  loss_giou_pre: 1.3809 (1.4250)  loss_mal_enc_0: 0.7109 (0.6905)  loss_bbox_enc_0: 0.6780 (0.6703)  loss_giou_enc_0: 1.4326 (1.4690)  loss_mal_dn_0: 0.6582 (0.6626)  loss_bbox_dn_0: 0.5100 (0.5079)  loss_giou_dn_0: 1.3626 (1.3609)  loss_fgl_dn_0: 0.8291 (0.8257)  loss_ddf_dn_0: 0.0019 (0.0020)  loss_mal_dn_1: 0.6455 (0.6489)  loss_bbox_dn_1: 0.5090 (0.5066)  loss_giou_dn_1: 1.3644 (1.3626)  loss_fgl_dn_1: 0.8229 (0.8196)  loss_ddf_dn_1: 0.0004 (0.0004)  loss_mal_dn_2: 0.6367 (0.6356)  loss_bbox_dn_2: 0.5098 (0.5070)  loss_giou_dn_2: 1.3655 (1.3633)  loss_fgl_dn_2: 0.8193 (0.8160)  loss_mal_dn_pre: 0.6602 (0.6638)  loss_bbox_dn_pre: 0.5133 (0.5117)  loss_giou_dn_pre: 1.3596 (1.3590)  time: 0.5841  data: 0.1246  max mem: 10516\n",
      "Epoch: [23] Total time: 0:00:08 (0.5881 s / it)\n",
      "Averaged stats: lr: 0.000006  loss: 28.8453 (28.8617)  loss_mal: 0.7773 (0.7341)  loss_bbox: 0.6946 (0.6879)  loss_giou: 1.3490 (1.3956)  loss_fgl: 0.7806 (0.7476)  loss_mal_aux_0: 0.7544 (0.7200)  loss_bbox_aux_0: 0.6744 (0.6688)  loss_giou_aux_0: 1.3665 (1.4119)  loss_fgl_aux_0: 0.7730 (0.7431)  loss_ddf_aux_0: 0.0055 (0.0053)  loss_mal_aux_1: 0.7744 (0.7315)  loss_bbox_aux_1: 0.6851 (0.6786)  loss_giou_aux_1: 1.3531 (1.3997)  loss_fgl_aux_1: 0.7800 (0.7474)  loss_ddf_aux_1: 0.0011 (0.0010)  loss_mal_pre: 0.7456 (0.7147)  loss_bbox_pre: 0.6740 (0.6657)  loss_giou_pre: 1.3809 (1.4250)  loss_mal_enc_0: 0.7109 (0.6905)  loss_bbox_enc_0: 0.6780 (0.6703)  loss_giou_enc_0: 1.4326 (1.4690)  loss_mal_dn_0: 0.6582 (0.6626)  loss_bbox_dn_0: 0.5100 (0.5079)  loss_giou_dn_0: 1.3626 (1.3609)  loss_fgl_dn_0: 0.8291 (0.8257)  loss_ddf_dn_0: 0.0019 (0.0020)  loss_mal_dn_1: 0.6455 (0.6489)  loss_bbox_dn_1: 0.5090 (0.5066)  loss_giou_dn_1: 1.3644 (1.3626)  loss_fgl_dn_1: 0.8229 (0.8196)  loss_ddf_dn_1: 0.0004 (0.0004)  loss_mal_dn_2: 0.6367 (0.6356)  loss_bbox_dn_2: 0.5098 (0.5070)  loss_giou_dn_2: 1.3655 (1.3633)  loss_fgl_dn_2: 0.8193 (0.8160)  loss_mal_dn_pre: 0.6602 (0.6638)  loss_bbox_dn_pre: 0.5133 (0.5117)  loss_giou_dn_pre: 1.3596 (1.3590)\n"
     ]
    },
    {
     "name": "stderr",
     "output_type": "stream",
     "text": [
      "2025-03-10 14:54:23,239 - DEIMTrainer - INFO - Checkpoint saved to outputs/deim_hgnetv2_s_coco/checkpoint0023.pth\n",
      "2025-03-10 14:54:23,241 - DEIMTrainer - INFO - Evaluating model...\n"
     ]
    },
    {
     "name": "stdout",
     "output_type": "stream",
     "text": [
      "Test:  [0/5]  eta: 0:00:03    time: 0.7658  data: 0.6545  max mem: 10516\n"
     ]
    },
    {
     "name": "stderr",
     "output_type": "stream",
     "text": [
      "2025-03-10 14:54:24,685 - DEIMTrainer - INFO - Saving checkpoint to outputs/deim_hgnetv2_s_coco/best.pth\n"
     ]
    },
    {
     "name": "stdout",
     "output_type": "stream",
     "text": [
      "Test:  [4/5]  eta: 0:00:00    time: 0.2727  data: 0.1421  max mem: 10516\n",
      "Test: Total time: 0:00:01 (0.2848 s / it)\n",
      "Averaged stats: \n",
      "Accumulating evaluation results...\n",
      "COCOeval_opt.accumulate() finished...\n",
      "DONE (t=0.01s).\n",
      "IoU metric: bbox\n",
      " Average Precision  (AP) @[ IoU=0.50:0.95 | area=   all | maxDets=100 ] = 0.002\n",
      " Average Precision  (AP) @[ IoU=0.50      | area=   all | maxDets=100 ] = 0.010\n",
      " Average Precision  (AP) @[ IoU=0.75      | area=   all | maxDets=100 ] = 0.000\n",
      " Average Precision  (AP) @[ IoU=0.50:0.95 | area= small | maxDets=100 ] = 0.000\n",
      " Average Precision  (AP) @[ IoU=0.50:0.95 | area=medium | maxDets=100 ] = 0.001\n",
      " Average Precision  (AP) @[ IoU=0.50:0.95 | area= large | maxDets=100 ] = 0.023\n",
      " Average Recall     (AR) @[ IoU=0.50:0.95 | area=   all | maxDets=  1 ] = 0.001\n",
      " Average Recall     (AR) @[ IoU=0.50:0.95 | area=   all | maxDets= 10 ] = 0.004\n",
      " Average Recall     (AR) @[ IoU=0.50:0.95 | area=   all | maxDets=100 ] = 0.029\n",
      " Average Recall     (AR) @[ IoU=0.50:0.95 | area= small | maxDets=100 ] = 0.000\n",
      " Average Recall     (AR) @[ IoU=0.50:0.95 | area=medium | maxDets=100 ] = 0.048\n",
      " Average Recall     (AR) @[ IoU=0.50:0.95 | area= large | maxDets=100 ] = 0.022\n",
      " Average Recall     (AR) @[ IoU=0.50      | area=   all | maxDets=100 ] = 0.127\n",
      " Average Recall     (AR) @[ IoU=0.75      | area=   all | maxDets=100 ] = 0.004\n",
      "================================================\n",
      "{'coco_eval_bbox': [0.00195314565081225, 0.010450197761946148, 0.00011533793264548837, 0.0, 0.001444185082644549, 0.0231023102310231, 0.0005698005698005699, 0.003988603988603989, 0.02897842897842898, 0.0, 0.04761904761904762, 0.021960784313725487]}\n",
      "================================================\n"
     ]
    },
    {
     "name": "stderr",
     "output_type": "stream",
     "text": [
      "2025-03-10 14:54:25,021 - DEIMTrainer - INFO - Checkpoint saved to outputs/deim_hgnetv2_s_coco/best.pth\n",
      "2025-03-10 14:54:25,023 - DEIMTrainer - INFO - Epoch 23 - Train loss: 28.8617, Eval mAP: 0.0020\n",
      "2025-03-10 14:54:25,023 - DEIMTrainer - INFO - Best stats: {'epoch': 23, 'coco_eval_bbox': 0.00195314565081225}\n"
     ]
    },
    {
     "name": "stdout",
     "output_type": "stream",
     "text": [
      "Epoch: [24]  [ 0/15]  eta: 0:00:29  lr: 0.000006  loss: 30.1003 (30.1003)  loss_mal: 0.6704 (0.6704)  loss_bbox: 0.8800 (0.8800)  loss_giou: 1.4986 (1.4986)  loss_fgl: 0.6705 (0.6705)  loss_mal_aux_0: 0.6626 (0.6626)  loss_bbox_aux_0: 0.8715 (0.8715)  loss_giou_aux_0: 1.5153 (1.5153)  loss_fgl_aux_0: 0.6650 (0.6650)  loss_ddf_aux_0: 0.0038 (0.0038)  loss_mal_aux_1: 0.6719 (0.6719)  loss_bbox_aux_1: 0.8754 (0.8754)  loss_giou_aux_1: 1.5029 (1.5029)  loss_fgl_aux_1: 0.6697 (0.6697)  loss_ddf_aux_1: 0.0007 (0.0007)  loss_mal_pre: 0.6548 (0.6548)  loss_bbox_pre: 0.8713 (0.8713)  loss_giou_pre: 1.5293 (1.5293)  loss_mal_enc_0: 0.6177 (0.6177)  loss_bbox_enc_0: 0.8842 (0.8842)  loss_giou_enc_0: 1.5795 (1.5795)  loss_mal_dn_0: 0.6562 (0.6562)  loss_bbox_dn_0: 0.5748 (0.5748)  loss_giou_dn_0: 1.3769 (1.3769)  loss_fgl_dn_0: 0.8119 (0.8119)  loss_ddf_dn_0: 0.0028 (0.0028)  loss_mal_dn_1: 0.6401 (0.6401)  loss_bbox_dn_1: 0.5723 (0.5723)  loss_giou_dn_1: 1.3799 (1.3799)  loss_fgl_dn_1: 0.8038 (0.8038)  loss_ddf_dn_1: 0.0004 (0.0004)  loss_mal_dn_2: 0.6230 (0.6230)  loss_bbox_dn_2: 0.5708 (0.5708)  loss_giou_dn_2: 1.3818 (1.3818)  loss_fgl_dn_2: 0.7985 (0.7985)  loss_mal_dn_pre: 0.6597 (0.6597)  loss_bbox_dn_pre: 0.5787 (0.5787)  loss_giou_dn_pre: 1.3735 (1.3735)  time: 1.9981  data: 1.4615  max mem: 10516\n"
     ]
    },
    {
     "name": "stderr",
     "output_type": "stream",
     "text": [
      "2025-03-10 14:54:33,708 - DEIMTrainer - INFO - Evaluating model...\n"
     ]
    },
    {
     "name": "stdout",
     "output_type": "stream",
     "text": [
      "Epoch: [24]  [14/15]  eta: 0:00:00  lr: 0.000007  loss: 28.8107 (29.0857)  loss_mal: 0.7593 (0.7450)  loss_bbox: 0.6832 (0.7267)  loss_giou: 1.3589 (1.3924)  loss_fgl: 0.7697 (0.7517)  loss_mal_aux_0: 0.7480 (0.7375)  loss_bbox_aux_0: 0.6650 (0.7079)  loss_giou_aux_0: 1.3636 (1.3972)  loss_fgl_aux_0: 0.7729 (0.7545)  loss_ddf_aux_0: 0.0032 (0.0033)  loss_mal_aux_1: 0.7617 (0.7514)  loss_bbox_aux_1: 0.6760 (0.7197)  loss_giou_aux_1: 1.3590 (1.3927)  loss_fgl_aux_1: 0.7713 (0.7537)  loss_ddf_aux_1: 0.0006 (0.0006)  loss_mal_pre: 0.7446 (0.7356)  loss_bbox_pre: 0.6595 (0.7002)  loss_giou_pre: 1.3722 (1.4051)  loss_mal_enc_0: 0.7168 (0.7141)  loss_bbox_enc_0: 0.6614 (0.6940)  loss_giou_enc_0: 1.4275 (1.4514)  loss_mal_dn_0: 0.6558 (0.6538)  loss_bbox_dn_0: 0.5102 (0.5188)  loss_giou_dn_0: 1.3598 (1.3605)  loss_fgl_dn_0: 0.8269 (0.8237)  loss_ddf_dn_0: 0.0029 (0.0030)  loss_mal_dn_1: 0.6401 (0.6420)  loss_bbox_dn_1: 0.5062 (0.5153)  loss_giou_dn_1: 1.3617 (1.3634)  loss_fgl_dn_1: 0.8170 (0.8146)  loss_ddf_dn_1: 0.0005 (0.0005)  loss_mal_dn_2: 0.6289 (0.6315)  loss_bbox_dn_2: 0.5027 (0.5128)  loss_giou_dn_2: 1.3636 (1.3656)  loss_fgl_dn_2: 0.8098 (0.8084)  loss_mal_dn_pre: 0.6562 (0.6554)  loss_bbox_dn_pre: 0.5154 (0.5237)  loss_giou_dn_pre: 1.3575 (1.3580)  time: 0.5738  data: 0.1181  max mem: 10516\n",
      "Epoch: [24] Total time: 0:00:08 (0.5777 s / it)\n",
      "Averaged stats: lr: 0.000007  loss: 28.8107 (29.0857)  loss_mal: 0.7593 (0.7450)  loss_bbox: 0.6832 (0.7267)  loss_giou: 1.3589 (1.3924)  loss_fgl: 0.7697 (0.7517)  loss_mal_aux_0: 0.7480 (0.7375)  loss_bbox_aux_0: 0.6650 (0.7079)  loss_giou_aux_0: 1.3636 (1.3972)  loss_fgl_aux_0: 0.7729 (0.7545)  loss_ddf_aux_0: 0.0032 (0.0033)  loss_mal_aux_1: 0.7617 (0.7514)  loss_bbox_aux_1: 0.6760 (0.7197)  loss_giou_aux_1: 1.3590 (1.3927)  loss_fgl_aux_1: 0.7713 (0.7537)  loss_ddf_aux_1: 0.0006 (0.0006)  loss_mal_pre: 0.7446 (0.7356)  loss_bbox_pre: 0.6595 (0.7002)  loss_giou_pre: 1.3722 (1.4051)  loss_mal_enc_0: 0.7168 (0.7141)  loss_bbox_enc_0: 0.6614 (0.6940)  loss_giou_enc_0: 1.4275 (1.4514)  loss_mal_dn_0: 0.6558 (0.6538)  loss_bbox_dn_0: 0.5102 (0.5188)  loss_giou_dn_0: 1.3598 (1.3605)  loss_fgl_dn_0: 0.8269 (0.8237)  loss_ddf_dn_0: 0.0029 (0.0030)  loss_mal_dn_1: 0.6401 (0.6420)  loss_bbox_dn_1: 0.5062 (0.5153)  loss_giou_dn_1: 1.3617 (1.3634)  loss_fgl_dn_1: 0.8170 (0.8146)  loss_ddf_dn_1: 0.0005 (0.0005)  loss_mal_dn_2: 0.6289 (0.6315)  loss_bbox_dn_2: 0.5027 (0.5128)  loss_giou_dn_2: 1.3636 (1.3656)  loss_fgl_dn_2: 0.8098 (0.8084)  loss_mal_dn_pre: 0.6562 (0.6554)  loss_bbox_dn_pre: 0.5154 (0.5237)  loss_giou_dn_pre: 1.3575 (1.3580)\n",
      "Test:  [0/5]  eta: 0:00:03    time: 0.7719  data: 0.6650  max mem: 10516\n"
     ]
    },
    {
     "name": "stderr",
     "output_type": "stream",
     "text": [
      "2025-03-10 14:54:35,128 - DEIMTrainer - INFO - Epoch 24 - Train loss: 29.0857, Eval mAP: 0.0018\n",
      "2025-03-10 14:54:35,128 - DEIMTrainer - INFO - Best stats: {'epoch': 23, 'coco_eval_bbox': 0.00195314565081225}\n"
     ]
    },
    {
     "name": "stdout",
     "output_type": "stream",
     "text": [
      "Test:  [4/5]  eta: 0:00:00    time: 0.2701  data: 0.1411  max mem: 10516\n",
      "Test: Total time: 0:00:01 (0.2800 s / it)\n",
      "Averaged stats: \n",
      "Accumulating evaluation results...\n",
      "COCOeval_opt.accumulate() finished...\n",
      "DONE (t=0.01s).\n",
      "IoU metric: bbox\n",
      " Average Precision  (AP) @[ IoU=0.50:0.95 | area=   all | maxDets=100 ] = 0.002\n",
      " Average Precision  (AP) @[ IoU=0.50      | area=   all | maxDets=100 ] = 0.011\n",
      " Average Precision  (AP) @[ IoU=0.75      | area=   all | maxDets=100 ] = 0.000\n",
      " Average Precision  (AP) @[ IoU=0.50:0.95 | area= small | maxDets=100 ] = 0.000\n",
      " Average Precision  (AP) @[ IoU=0.50:0.95 | area=medium | maxDets=100 ] = 0.001\n",
      " Average Precision  (AP) @[ IoU=0.50:0.95 | area= large | maxDets=100 ] = 0.031\n",
      " Average Recall     (AR) @[ IoU=0.50:0.95 | area=   all | maxDets=  1 ] = 0.001\n",
      " Average Recall     (AR) @[ IoU=0.50:0.95 | area=   all | maxDets= 10 ] = 0.005\n",
      " Average Recall     (AR) @[ IoU=0.50:0.95 | area=   all | maxDets=100 ] = 0.037\n",
      " Average Recall     (AR) @[ IoU=0.50:0.95 | area= small | maxDets=100 ] = 0.000\n",
      " Average Recall     (AR) @[ IoU=0.50:0.95 | area=medium | maxDets=100 ] = 0.056\n",
      " Average Recall     (AR) @[ IoU=0.50:0.95 | area= large | maxDets=100 ] = 0.031\n",
      " Average Recall     (AR) @[ IoU=0.50      | area=   all | maxDets=100 ] = 0.156\n",
      " Average Recall     (AR) @[ IoU=0.75      | area=   all | maxDets=100 ] = 0.006\n",
      "================================================\n",
      "{'coco_eval_bbox': [0.0018416003249749136, 0.011484466578473174, 1.5346220206404254e-05, 0.0, 0.0008897693251397603, 0.03130452566765763, 0.0006512006512006512, 0.00520960520960521, 0.03736263736263736, 0.0, 0.05550595238095237, 0.03053221288515406]}\n",
      "================================================\n",
      "Epoch: [25]  [ 0/15]  eta: 0:00:25  lr: 0.000007  loss: 29.1467 (29.1467)  loss_mal: 0.7461 (0.7461)  loss_bbox: 0.7413 (0.7413)  loss_giou: 1.3580 (1.3580)  loss_fgl: 0.7716 (0.7716)  loss_mal_aux_0: 0.7383 (0.7383)  loss_bbox_aux_0: 0.7271 (0.7271)  loss_giou_aux_0: 1.3597 (1.3597)  loss_fgl_aux_0: 0.7761 (0.7761)  loss_ddf_aux_0: 0.0024 (0.0024)  loss_mal_aux_1: 0.7451 (0.7451)  loss_bbox_aux_1: 0.7374 (0.7374)  loss_giou_aux_1: 1.3577 (1.3577)  loss_fgl_aux_1: 0.7738 (0.7738)  loss_ddf_aux_1: 0.0004 (0.0004)  loss_mal_pre: 0.7393 (0.7393)  loss_bbox_pre: 0.7184 (0.7184)  loss_giou_pre: 1.3656 (1.3656)  loss_mal_enc_0: 0.7368 (0.7368)  loss_bbox_enc_0: 0.7021 (0.7021)  loss_giou_enc_0: 1.4041 (1.4041)  loss_mal_dn_0: 0.6528 (0.6528)  loss_bbox_dn_0: 0.5527 (0.5527)  loss_giou_dn_0: 1.3491 (1.3491)  loss_fgl_dn_0: 0.8305 (0.8305)  loss_ddf_dn_0: 0.0036 (0.0036)  loss_mal_dn_1: 0.6367 (0.6367)  loss_bbox_dn_1: 0.5480 (0.5480)  loss_giou_dn_1: 1.3527 (1.3527)  loss_fgl_dn_1: 0.8206 (0.8206)  loss_ddf_dn_1: 0.0009 (0.0009)  loss_mal_dn_2: 0.6265 (0.6265)  loss_bbox_dn_2: 0.5437 (0.5437)  loss_giou_dn_2: 1.3558 (1.3558)  loss_fgl_dn_2: 0.8134 (0.8134)  loss_mal_dn_pre: 0.6553 (0.6553)  loss_bbox_dn_pre: 0.5575 (0.5575)  loss_giou_dn_pre: 1.3457 (1.3457)  time: 1.6926  data: 1.1106  max mem: 10516\n"
     ]
    },
    {
     "name": "stderr",
     "output_type": "stream",
     "text": [
      "2025-03-10 14:54:43,592 - DEIMTrainer - INFO - Evaluating model...\n"
     ]
    },
    {
     "name": "stdout",
     "output_type": "stream",
     "text": [
      "Epoch: [25]  [14/15]  eta: 0:00:00  lr: 0.000008  loss: 28.9789 (29.0649)  loss_mal: 0.7739 (0.7276)  loss_bbox: 0.7355 (0.7294)  loss_giou: 1.3580 (1.4112)  loss_fgl: 0.7716 (0.7464)  loss_mal_aux_0: 0.7554 (0.7211)  loss_bbox_aux_0: 0.7261 (0.7197)  loss_giou_aux_0: 1.3597 (1.4105)  loss_fgl_aux_0: 0.7761 (0.7520)  loss_ddf_aux_0: 0.0024 (0.0024)  loss_mal_aux_1: 0.7759 (0.7297)  loss_bbox_aux_1: 0.7349 (0.7282)  loss_giou_aux_1: 1.3577 (1.4101)  loss_fgl_aux_1: 0.7738 (0.7489)  loss_ddf_aux_1: 0.0007 (0.0007)  loss_mal_pre: 0.7554 (0.7227)  loss_bbox_pre: 0.7159 (0.7109)  loss_giou_pre: 1.3656 (1.4141)  loss_mal_enc_0: 0.7495 (0.7129)  loss_bbox_enc_0: 0.6999 (0.6971)  loss_giou_enc_0: 1.4041 (1.4532)  loss_mal_dn_0: 0.6436 (0.6446)  loss_bbox_dn_0: 0.5300 (0.5207)  loss_giou_dn_0: 1.3620 (1.3622)  loss_fgl_dn_0: 0.8174 (0.8211)  loss_ddf_dn_0: 0.0049 (0.0052)  loss_mal_dn_1: 0.6299 (0.6312)  loss_bbox_dn_1: 0.5251 (0.5153)  loss_giou_dn_1: 1.3681 (1.3669)  loss_fgl_dn_1: 0.8040 (0.8090)  loss_ddf_dn_1: 0.0012 (0.0012)  loss_mal_dn_2: 0.6235 (0.6246)  loss_bbox_dn_2: 0.5208 (0.5112)  loss_giou_dn_2: 1.3743 (1.3718)  loss_fgl_dn_2: 0.7945 (0.7992)  loss_mal_dn_pre: 0.6460 (0.6467)  loss_bbox_dn_pre: 0.5354 (0.5264)  loss_giou_dn_pre: 1.3578 (1.3587)  time: 0.5586  data: 0.0955  max mem: 10516\n",
      "Epoch: [25] Total time: 0:00:08 (0.5631 s / it)\n",
      "Averaged stats: lr: 0.000008  loss: 28.9789 (29.0649)  loss_mal: 0.7739 (0.7276)  loss_bbox: 0.7355 (0.7294)  loss_giou: 1.3580 (1.4112)  loss_fgl: 0.7716 (0.7464)  loss_mal_aux_0: 0.7554 (0.7211)  loss_bbox_aux_0: 0.7261 (0.7197)  loss_giou_aux_0: 1.3597 (1.4105)  loss_fgl_aux_0: 0.7761 (0.7520)  loss_ddf_aux_0: 0.0024 (0.0024)  loss_mal_aux_1: 0.7759 (0.7297)  loss_bbox_aux_1: 0.7349 (0.7282)  loss_giou_aux_1: 1.3577 (1.4101)  loss_fgl_aux_1: 0.7738 (0.7489)  loss_ddf_aux_1: 0.0007 (0.0007)  loss_mal_pre: 0.7554 (0.7227)  loss_bbox_pre: 0.7159 (0.7109)  loss_giou_pre: 1.3656 (1.4141)  loss_mal_enc_0: 0.7495 (0.7129)  loss_bbox_enc_0: 0.6999 (0.6971)  loss_giou_enc_0: 1.4041 (1.4532)  loss_mal_dn_0: 0.6436 (0.6446)  loss_bbox_dn_0: 0.5300 (0.5207)  loss_giou_dn_0: 1.3620 (1.3622)  loss_fgl_dn_0: 0.8174 (0.8211)  loss_ddf_dn_0: 0.0049 (0.0052)  loss_mal_dn_1: 0.6299 (0.6312)  loss_bbox_dn_1: 0.5251 (0.5153)  loss_giou_dn_1: 1.3681 (1.3669)  loss_fgl_dn_1: 0.8040 (0.8090)  loss_ddf_dn_1: 0.0012 (0.0012)  loss_mal_dn_2: 0.6235 (0.6246)  loss_bbox_dn_2: 0.5208 (0.5112)  loss_giou_dn_2: 1.3743 (1.3718)  loss_fgl_dn_2: 0.7945 (0.7992)  loss_mal_dn_pre: 0.6460 (0.6467)  loss_bbox_dn_pre: 0.5354 (0.5264)  loss_giou_dn_pre: 1.3578 (1.3587)\n",
      "Test:  [0/5]  eta: 0:00:03    time: 0.7498  data: 0.6364  max mem: 10516\n"
     ]
    },
    {
     "name": "stderr",
     "output_type": "stream",
     "text": [
      "2025-03-10 14:54:45,013 - DEIMTrainer - INFO - Epoch 25 - Train loss: 29.0649, Eval mAP: 0.0016\n",
      "2025-03-10 14:54:45,014 - DEIMTrainer - INFO - Best stats: {'epoch': 23, 'coco_eval_bbox': 0.00195314565081225}\n"
     ]
    },
    {
     "name": "stdout",
     "output_type": "stream",
     "text": [
      "Test:  [4/5]  eta: 0:00:00    time: 0.2700  data: 0.1391  max mem: 10516\n",
      "Test: Total time: 0:00:01 (0.2797 s / it)\n",
      "Averaged stats: \n",
      "Accumulating evaluation results...\n",
      "COCOeval_opt.accumulate() finished...\n",
      "DONE (t=0.01s).\n",
      "IoU metric: bbox\n",
      " Average Precision  (AP) @[ IoU=0.50:0.95 | area=   all | maxDets=100 ] = 0.002\n",
      " Average Precision  (AP) @[ IoU=0.50      | area=   all | maxDets=100 ] = 0.010\n",
      " Average Precision  (AP) @[ IoU=0.75      | area=   all | maxDets=100 ] = 0.000\n",
      " Average Precision  (AP) @[ IoU=0.50:0.95 | area= small | maxDets=100 ] = 0.000\n",
      " Average Precision  (AP) @[ IoU=0.50:0.95 | area=medium | maxDets=100 ] = 0.001\n",
      " Average Precision  (AP) @[ IoU=0.50:0.95 | area= large | maxDets=100 ] = 0.032\n",
      " Average Recall     (AR) @[ IoU=0.50:0.95 | area=   all | maxDets=  1 ] = 0.000\n",
      " Average Recall     (AR) @[ IoU=0.50:0.95 | area=   all | maxDets= 10 ] = 0.005\n",
      " Average Recall     (AR) @[ IoU=0.50:0.95 | area=   all | maxDets=100 ] = 0.037\n",
      " Average Recall     (AR) @[ IoU=0.50:0.95 | area= small | maxDets=100 ] = 0.000\n",
      " Average Recall     (AR) @[ IoU=0.50:0.95 | area=medium | maxDets=100 ] = 0.050\n",
      " Average Recall     (AR) @[ IoU=0.50:0.95 | area= large | maxDets=100 ] = 0.032\n",
      " Average Recall     (AR) @[ IoU=0.50      | area=   all | maxDets=100 ] = 0.149\n",
      " Average Recall     (AR) @[ IoU=0.75      | area=   all | maxDets=100 ] = 0.004\n",
      "================================================\n",
      "{'coco_eval_bbox': [0.0016282950987178955, 0.009524762113640029, 3.722063884423913e-05, 0.0, 0.0007669360754192085, 0.03234323432343234, 0.000407000407000407, 0.00520960520960521, 0.03691493691493692, 0.0, 0.05029761904761905, 0.03187675070028011]}\n",
      "================================================\n",
      "Epoch: [26]  [ 0/15]  eta: 0:00:27  lr: 0.000008  loss: 28.3949 (28.3949)  loss_mal: 0.7861 (0.7861)  loss_bbox: 0.6570 (0.6570)  loss_giou: 1.3112 (1.3112)  loss_fgl: 0.7883 (0.7883)  loss_mal_aux_0: 0.7847 (0.7847)  loss_bbox_aux_0: 0.6539 (0.6539)  loss_giou_aux_0: 1.3077 (1.3077)  loss_fgl_aux_0: 0.7960 (0.7960)  loss_ddf_aux_0: 0.0030 (0.0030)  loss_mal_aux_1: 0.7900 (0.7900)  loss_bbox_aux_1: 0.6611 (0.6611)  loss_giou_aux_1: 1.3108 (1.3108)  loss_fgl_aux_1: 0.7907 (0.7907)  loss_ddf_aux_1: 0.0009 (0.0009)  loss_mal_pre: 0.7852 (0.7852)  loss_bbox_pre: 0.6422 (0.6422)  loss_giou_pre: 1.3059 (1.3059)  loss_mal_enc_0: 0.7695 (0.7695)  loss_bbox_enc_0: 0.6080 (0.6080)  loss_giou_enc_0: 1.3249 (1.3249)  loss_mal_dn_0: 0.6333 (0.6333)  loss_bbox_dn_0: 0.4642 (0.4642)  loss_giou_dn_0: 1.3897 (1.3897)  loss_fgl_dn_0: 0.8082 (0.8082)  loss_ddf_dn_0: 0.0064 (0.0064)  loss_mal_dn_1: 0.6250 (0.6250)  loss_bbox_dn_1: 0.4578 (0.4578)  loss_giou_dn_1: 1.3935 (1.3935)  loss_fgl_dn_1: 0.7954 (0.7954)  loss_ddf_dn_1: 0.0012 (0.0012)  loss_mal_dn_2: 0.6147 (0.6147)  loss_bbox_dn_2: 0.4527 (0.4527)  loss_giou_dn_2: 1.3981 (1.3981)  loss_fgl_dn_2: 0.7851 (0.7851)  loss_mal_dn_pre: 0.6348 (0.6348)  loss_bbox_dn_pre: 0.4702 (0.4702)  loss_giou_dn_pre: 1.3876 (1.3876)  time: 1.8332  data: 1.3092  max mem: 10516\n"
     ]
    },
    {
     "name": "stderr",
     "output_type": "stream",
     "text": [
      "2025-03-10 14:54:54,228 - DEIMTrainer - INFO - Evaluating model...\n"
     ]
    },
    {
     "name": "stdout",
     "output_type": "stream",
     "text": [
      "Epoch: [26]  [14/15]  eta: 0:00:00  lr: 0.000008  loss: 28.6700 (28.8762)  loss_mal: 0.6724 (0.6956)  loss_bbox: 0.7113 (0.7195)  loss_giou: 1.4319 (1.4432)  loss_fgl: 0.7218 (0.7219)  loss_mal_aux_0: 0.6665 (0.6907)  loss_bbox_aux_0: 0.7105 (0.7225)  loss_giou_aux_0: 1.4289 (1.4398)  loss_fgl_aux_0: 0.7272 (0.7284)  loss_ddf_aux_0: 0.0039 (0.0041)  loss_mal_aux_1: 0.6709 (0.6962)  loss_bbox_aux_1: 0.7173 (0.7253)  loss_giou_aux_1: 1.4309 (1.4414)  loss_fgl_aux_1: 0.7249 (0.7245)  loss_ddf_aux_1: 0.0013 (0.0013)  loss_mal_pre: 0.6655 (0.6917)  loss_bbox_pre: 0.6976 (0.7150)  loss_giou_pre: 1.4297 (1.4402)  loss_mal_enc_0: 0.6499 (0.6867)  loss_bbox_enc_0: 0.6755 (0.6900)  loss_giou_enc_0: 1.4468 (1.4607)  loss_mal_dn_0: 0.6333 (0.6376)  loss_bbox_dn_0: 0.5004 (0.5047)  loss_giou_dn_0: 1.3720 (1.3718)  loss_fgl_dn_0: 0.8141 (0.8128)  loss_ddf_dn_0: 0.0090 (0.0090)  loss_mal_dn_1: 0.6230 (0.6247)  loss_bbox_dn_1: 0.4942 (0.4986)  loss_giou_dn_1: 1.3791 (1.3775)  loss_fgl_dn_1: 0.7998 (0.7982)  loss_ddf_dn_1: 0.0020 (0.0019)  loss_mal_dn_2: 0.6152 (0.6168)  loss_bbox_dn_2: 0.4892 (0.4946)  loss_giou_dn_2: 1.3849 (1.3849)  loss_fgl_dn_2: 0.7863 (0.7856)  loss_mal_dn_pre: 0.6357 (0.6399)  loss_bbox_dn_pre: 0.5061 (0.5105)  loss_giou_dn_pre: 1.3674 (1.3683)  time: 0.6087  data: 0.1087  max mem: 10516\n",
      "Epoch: [26] Total time: 0:00:09 (0.6131 s / it)\n",
      "Averaged stats: lr: 0.000008  loss: 28.6700 (28.8762)  loss_mal: 0.6724 (0.6956)  loss_bbox: 0.7113 (0.7195)  loss_giou: 1.4319 (1.4432)  loss_fgl: 0.7218 (0.7219)  loss_mal_aux_0: 0.6665 (0.6907)  loss_bbox_aux_0: 0.7105 (0.7225)  loss_giou_aux_0: 1.4289 (1.4398)  loss_fgl_aux_0: 0.7272 (0.7284)  loss_ddf_aux_0: 0.0039 (0.0041)  loss_mal_aux_1: 0.6709 (0.6962)  loss_bbox_aux_1: 0.7173 (0.7253)  loss_giou_aux_1: 1.4309 (1.4414)  loss_fgl_aux_1: 0.7249 (0.7245)  loss_ddf_aux_1: 0.0013 (0.0013)  loss_mal_pre: 0.6655 (0.6917)  loss_bbox_pre: 0.6976 (0.7150)  loss_giou_pre: 1.4297 (1.4402)  loss_mal_enc_0: 0.6499 (0.6867)  loss_bbox_enc_0: 0.6755 (0.6900)  loss_giou_enc_0: 1.4468 (1.4607)  loss_mal_dn_0: 0.6333 (0.6376)  loss_bbox_dn_0: 0.5004 (0.5047)  loss_giou_dn_0: 1.3720 (1.3718)  loss_fgl_dn_0: 0.8141 (0.8128)  loss_ddf_dn_0: 0.0090 (0.0090)  loss_mal_dn_1: 0.6230 (0.6247)  loss_bbox_dn_1: 0.4942 (0.4986)  loss_giou_dn_1: 1.3791 (1.3775)  loss_fgl_dn_1: 0.7998 (0.7982)  loss_ddf_dn_1: 0.0020 (0.0019)  loss_mal_dn_2: 0.6152 (0.6168)  loss_bbox_dn_2: 0.4892 (0.4946)  loss_giou_dn_2: 1.3849 (1.3849)  loss_fgl_dn_2: 0.7863 (0.7856)  loss_mal_dn_pre: 0.6357 (0.6399)  loss_bbox_dn_pre: 0.5061 (0.5105)  loss_giou_dn_pre: 1.3674 (1.3683)\n",
      "Test:  [0/5]  eta: 0:00:03    time: 0.7406  data: 0.6293  max mem: 10516\n"
     ]
    },
    {
     "name": "stderr",
     "output_type": "stream",
     "text": [
      "2025-03-10 14:54:55,670 - DEIMTrainer - INFO - Epoch 26 - Train loss: 28.8762, Eval mAP: 0.0013\n",
      "2025-03-10 14:54:55,670 - DEIMTrainer - INFO - Best stats: {'epoch': 23, 'coco_eval_bbox': 0.00195314565081225}\n"
     ]
    },
    {
     "name": "stdout",
     "output_type": "stream",
     "text": [
      "Test:  [4/5]  eta: 0:00:00    time: 0.2737  data: 0.1422  max mem: 10516\n",
      "Test: Total time: 0:00:01 (0.2852 s / it)\n",
      "Averaged stats: \n",
      "Accumulating evaluation results...\n",
      "COCOeval_opt.accumulate() finished...\n",
      "DONE (t=0.01s).\n",
      "IoU metric: bbox\n",
      " Average Precision  (AP) @[ IoU=0.50:0.95 | area=   all | maxDets=100 ] = 0.001\n",
      " Average Precision  (AP) @[ IoU=0.50      | area=   all | maxDets=100 ] = 0.009\n",
      " Average Precision  (AP) @[ IoU=0.75      | area=   all | maxDets=100 ] = 0.000\n",
      " Average Precision  (AP) @[ IoU=0.50:0.95 | area= small | maxDets=100 ] = 0.000\n",
      " Average Precision  (AP) @[ IoU=0.50:0.95 | area=medium | maxDets=100 ] = 0.001\n",
      " Average Precision  (AP) @[ IoU=0.50:0.95 | area= large | maxDets=100 ] = 0.027\n",
      " Average Recall     (AR) @[ IoU=0.50:0.95 | area=   all | maxDets=  1 ] = 0.000\n",
      " Average Recall     (AR) @[ IoU=0.50:0.95 | area=   all | maxDets= 10 ] = 0.004\n",
      " Average Recall     (AR) @[ IoU=0.50:0.95 | area=   all | maxDets=100 ] = 0.033\n",
      " Average Recall     (AR) @[ IoU=0.50:0.95 | area= small | maxDets=100 ] = 0.000\n",
      " Average Recall     (AR) @[ IoU=0.50:0.95 | area=medium | maxDets=100 ] = 0.050\n",
      " Average Recall     (AR) @[ IoU=0.50:0.95 | area= large | maxDets=100 ] = 0.026\n",
      " Average Recall     (AR) @[ IoU=0.50      | area=   all | maxDets=100 ] = 0.141\n",
      " Average Recall     (AR) @[ IoU=0.75      | area=   all | maxDets=100 ] = 0.004\n",
      "================================================\n",
      "{'coco_eval_bbox': [0.00134683199264782, 0.008863295143877615, 1.6936827514437e-05, 0.0, 0.0006710635390660098, 0.027392739273927394, 0.0002442002442002442, 0.0035002035002035, 0.03280423280423281, 0.0, 0.04985119047619047, 0.02638655462184874]}\n",
      "================================================\n",
      "Epoch: [27]  [ 0/15]  eta: 0:00:32  lr: 0.000008  loss: 29.5391 (29.5391)  loss_mal: 0.6548 (0.6548)  loss_bbox: 0.7964 (0.7964)  loss_giou: 1.5005 (1.5005)  loss_fgl: 0.6831 (0.6831)  loss_mal_aux_0: 0.6494 (0.6494)  loss_bbox_aux_0: 0.7982 (0.7982)  loss_giou_aux_0: 1.4913 (1.4913)  loss_fgl_aux_0: 0.6920 (0.6920)  loss_ddf_aux_0: 0.0056 (0.0056)  loss_mal_aux_1: 0.6528 (0.6528)  loss_bbox_aux_1: 0.7986 (0.7986)  loss_giou_aux_1: 1.4946 (1.4946)  loss_fgl_aux_1: 0.6882 (0.6882)  loss_ddf_aux_1: 0.0019 (0.0019)  loss_mal_pre: 0.6484 (0.6484)  loss_bbox_pre: 0.7966 (0.7966)  loss_giou_pre: 1.4928 (1.4928)  loss_mal_enc_0: 0.6318 (0.6318)  loss_bbox_enc_0: 0.7969 (0.7969)  loss_giou_enc_0: 1.5208 (1.5208)  loss_mal_dn_0: 0.6470 (0.6470)  loss_bbox_dn_0: 0.5723 (0.5723)  loss_giou_dn_0: 1.3733 (1.3733)  loss_fgl_dn_0: 0.8125 (0.8125)  loss_ddf_dn_0: 0.0109 (0.0109)  loss_mal_dn_1: 0.6309 (0.6309)  loss_bbox_dn_1: 0.5645 (0.5645)  loss_giou_dn_1: 1.3801 (1.3801)  loss_fgl_dn_1: 0.7969 (0.7969)  loss_ddf_dn_1: 0.0026 (0.0026)  loss_mal_dn_2: 0.6221 (0.6221)  loss_bbox_dn_2: 0.5601 (0.5601)  loss_giou_dn_2: 1.3885 (1.3885)  loss_fgl_dn_2: 0.7835 (0.7835)  loss_mal_dn_pre: 0.6499 (0.6499)  loss_bbox_dn_pre: 0.5798 (0.5798)  loss_giou_dn_pre: 1.3693 (1.3693)  time: 2.1811  data: 1.5941  max mem: 10516\n"
     ]
    },
    {
     "name": "stderr",
     "output_type": "stream",
     "text": [
      "2025-03-10 14:55:04,590 - DEIMTrainer - INFO - Saving checkpoint to outputs/deim_hgnetv2_s_coco/checkpoint0027.pth\n"
     ]
    },
    {
     "name": "stdout",
     "output_type": "stream",
     "text": [
      "Epoch: [27]  [14/15]  eta: 0:00:00  lr: 0.000009  loss: 28.9158 (29.0555)  loss_mal: 0.6963 (0.7484)  loss_bbox: 0.7118 (0.7061)  loss_giou: 1.3922 (1.3907)  loss_fgl: 0.7632 (0.7511)  loss_mal_aux_0: 0.6973 (0.7481)  loss_bbox_aux_0: 0.7249 (0.7149)  loss_giou_aux_0: 1.3846 (1.3866)  loss_fgl_aux_0: 0.7720 (0.7593)  loss_ddf_aux_0: 0.0072 (0.0072)  loss_mal_aux_1: 0.7002 (0.7529)  loss_bbox_aux_1: 0.7213 (0.7127)  loss_giou_aux_1: 1.3878 (1.3884)  loss_fgl_aux_1: 0.7676 (0.7548)  loss_ddf_aux_1: 0.0022 (0.0022)  loss_mal_pre: 0.6963 (0.7472)  loss_bbox_pre: 0.7219 (0.7124)  loss_giou_pre: 1.3854 (1.3868)  loss_mal_enc_0: 0.6831 (0.7438)  loss_bbox_enc_0: 0.7028 (0.6983)  loss_giou_enc_0: 1.4076 (1.4014)  loss_mal_dn_0: 0.6372 (0.6384)  loss_bbox_dn_0: 0.5323 (0.5316)  loss_giou_dn_0: 1.3728 (1.3680)  loss_fgl_dn_0: 0.8141 (0.8140)  loss_ddf_dn_0: 0.0113 (0.0114)  loss_mal_dn_1: 0.6270 (0.6278)  loss_bbox_dn_1: 0.5261 (0.5254)  loss_giou_dn_1: 1.3794 (1.3738)  loss_fgl_dn_1: 0.7978 (0.7979)  loss_ddf_dn_1: 0.0024 (0.0024)  loss_mal_dn_2: 0.6182 (0.6194)  loss_bbox_dn_2: 0.5221 (0.5221)  loss_giou_dn_2: 1.3865 (1.3810)  loss_fgl_dn_2: 0.7848 (0.7861)  loss_mal_dn_pre: 0.6411 (0.6404)  loss_bbox_dn_pre: 0.5376 (0.5375)  loss_giou_dn_pre: 1.3692 (1.3646)  time: 0.5891  data: 0.1236  max mem: 10516\n",
      "Epoch: [27] Total time: 0:00:08 (0.5933 s / it)\n",
      "Averaged stats: lr: 0.000009  loss: 28.9158 (29.0555)  loss_mal: 0.6963 (0.7484)  loss_bbox: 0.7118 (0.7061)  loss_giou: 1.3922 (1.3907)  loss_fgl: 0.7632 (0.7511)  loss_mal_aux_0: 0.6973 (0.7481)  loss_bbox_aux_0: 0.7249 (0.7149)  loss_giou_aux_0: 1.3846 (1.3866)  loss_fgl_aux_0: 0.7720 (0.7593)  loss_ddf_aux_0: 0.0072 (0.0072)  loss_mal_aux_1: 0.7002 (0.7529)  loss_bbox_aux_1: 0.7213 (0.7127)  loss_giou_aux_1: 1.3878 (1.3884)  loss_fgl_aux_1: 0.7676 (0.7548)  loss_ddf_aux_1: 0.0022 (0.0022)  loss_mal_pre: 0.6963 (0.7472)  loss_bbox_pre: 0.7219 (0.7124)  loss_giou_pre: 1.3854 (1.3868)  loss_mal_enc_0: 0.6831 (0.7438)  loss_bbox_enc_0: 0.7028 (0.6983)  loss_giou_enc_0: 1.4076 (1.4014)  loss_mal_dn_0: 0.6372 (0.6384)  loss_bbox_dn_0: 0.5323 (0.5316)  loss_giou_dn_0: 1.3728 (1.3680)  loss_fgl_dn_0: 0.8141 (0.8140)  loss_ddf_dn_0: 0.0113 (0.0114)  loss_mal_dn_1: 0.6270 (0.6278)  loss_bbox_dn_1: 0.5261 (0.5254)  loss_giou_dn_1: 1.3794 (1.3738)  loss_fgl_dn_1: 0.7978 (0.7979)  loss_ddf_dn_1: 0.0024 (0.0024)  loss_mal_dn_2: 0.6182 (0.6194)  loss_bbox_dn_2: 0.5221 (0.5221)  loss_giou_dn_2: 1.3865 (1.3810)  loss_fgl_dn_2: 0.7848 (0.7861)  loss_mal_dn_pre: 0.6411 (0.6404)  loss_bbox_dn_pre: 0.5376 (0.5375)  loss_giou_dn_pre: 1.3692 (1.3646)\n"
     ]
    },
    {
     "name": "stderr",
     "output_type": "stream",
     "text": [
      "2025-03-10 14:55:04,901 - DEIMTrainer - INFO - Checkpoint saved to outputs/deim_hgnetv2_s_coco/checkpoint0027.pth\n",
      "2025-03-10 14:55:04,902 - DEIMTrainer - INFO - Evaluating model...\n"
     ]
    },
    {
     "name": "stdout",
     "output_type": "stream",
     "text": [
      "Test:  [0/5]  eta: 0:00:03    time: 0.7892  data: 0.6789  max mem: 10516\n"
     ]
    },
    {
     "name": "stderr",
     "output_type": "stream",
     "text": [
      "2025-03-10 14:55:06,450 - DEIMTrainer - INFO - Saving checkpoint to outputs/deim_hgnetv2_s_coco/best.pth\n"
     ]
    },
    {
     "name": "stdout",
     "output_type": "stream",
     "text": [
      "Test:  [4/5]  eta: 0:00:00    time: 0.2915  data: 0.1541  max mem: 10516\n",
      "Test: Total time: 0:00:01 (0.3056 s / it)\n",
      "Averaged stats: \n",
      "Accumulating evaluation results...\n",
      "COCOeval_opt.accumulate() finished...\n",
      "DONE (t=0.01s).\n",
      "IoU metric: bbox\n",
      " Average Precision  (AP) @[ IoU=0.50:0.95 | area=   all | maxDets=100 ] = 0.002\n",
      " Average Precision  (AP) @[ IoU=0.50      | area=   all | maxDets=100 ] = 0.014\n",
      " Average Precision  (AP) @[ IoU=0.75      | area=   all | maxDets=100 ] = 0.000\n",
      " Average Precision  (AP) @[ IoU=0.50:0.95 | area= small | maxDets=100 ] = 0.000\n",
      " Average Precision  (AP) @[ IoU=0.50:0.95 | area=medium | maxDets=100 ] = 0.001\n",
      " Average Precision  (AP) @[ IoU=0.50:0.95 | area= large | maxDets=100 ] = 0.039\n",
      " Average Recall     (AR) @[ IoU=0.50:0.95 | area=   all | maxDets=  1 ] = 0.000\n",
      " Average Recall     (AR) @[ IoU=0.50:0.95 | area=   all | maxDets= 10 ] = 0.006\n",
      " Average Recall     (AR) @[ IoU=0.50:0.95 | area=   all | maxDets=100 ] = 0.046\n",
      " Average Recall     (AR) @[ IoU=0.50:0.95 | area= small | maxDets=100 ] = 0.000\n",
      " Average Recall     (AR) @[ IoU=0.50:0.95 | area=medium | maxDets=100 ] = 0.064\n",
      " Average Recall     (AR) @[ IoU=0.50:0.95 | area= large | maxDets=100 ] = 0.039\n",
      " Average Recall     (AR) @[ IoU=0.50      | area=   all | maxDets=100 ] = 0.176\n",
      " Average Recall     (AR) @[ IoU=0.75      | area=   all | maxDets=100 ] = 0.009\n",
      "================================================\n",
      "{'coco_eval_bbox': [0.0024323514875607744, 0.01397165687621917, 3.245930398591663e-05, 0.0, 0.0012592046983267023, 0.03949354893699723, 0.000407000407000407, 0.005616605616605617, 0.045787545787545784, 0.0, 0.06354166666666668, 0.039215686274509796]}\n",
      "================================================\n"
     ]
    },
    {
     "name": "stderr",
     "output_type": "stream",
     "text": [
      "2025-03-10 14:55:07,016 - DEIMTrainer - INFO - Checkpoint saved to outputs/deim_hgnetv2_s_coco/best.pth\n",
      "2025-03-10 14:55:07,019 - DEIMTrainer - INFO - Epoch 27 - Train loss: 29.0555, Eval mAP: 0.0024\n",
      "2025-03-10 14:55:07,020 - DEIMTrainer - INFO - Best stats: {'epoch': 27, 'coco_eval_bbox': 0.0024323514875607744}\n"
     ]
    },
    {
     "name": "stdout",
     "output_type": "stream",
     "text": [
      "Epoch: [28]  [ 0/15]  eta: 0:00:30  lr: 0.000009  loss: 28.0602 (28.0602)  loss_mal: 0.7954 (0.7954)  loss_bbox: 0.5749 (0.5749)  loss_giou: 1.2948 (1.2948)  loss_fgl: 0.8106 (0.8106)  loss_mal_aux_0: 0.7832 (0.7832)  loss_bbox_aux_0: 0.5951 (0.5951)  loss_giou_aux_0: 1.2967 (1.2967)  loss_fgl_aux_0: 0.8178 (0.8178)  loss_ddf_aux_0: 0.0093 (0.0093)  loss_mal_aux_1: 0.7939 (0.7939)  loss_bbox_aux_1: 0.5881 (0.5881)  loss_giou_aux_1: 1.2961 (1.2961)  loss_fgl_aux_1: 0.8131 (0.8131)  loss_ddf_aux_1: 0.0024 (0.0024)  loss_mal_pre: 0.7812 (0.7812)  loss_bbox_pre: 0.5917 (0.5917)  loss_giou_pre: 1.2961 (1.2961)  loss_mal_enc_0: 0.7739 (0.7739)  loss_bbox_enc_0: 0.5610 (0.5610)  loss_giou_enc_0: 1.3011 (1.3011)  loss_mal_dn_0: 0.6387 (0.6387)  loss_bbox_dn_0: 0.4601 (0.4601)  loss_giou_dn_0: 1.3691 (1.3691)  loss_fgl_dn_0: 0.8176 (0.8176)  loss_ddf_dn_0: 0.0129 (0.0129)  loss_mal_dn_1: 0.6304 (0.6304)  loss_bbox_dn_1: 0.4547 (0.4547)  loss_giou_dn_1: 1.3747 (1.3747)  loss_fgl_dn_1: 0.8012 (0.8012)  loss_ddf_dn_1: 0.0026 (0.0026)  loss_mal_dn_2: 0.6260 (0.6260)  loss_bbox_dn_2: 0.4527 (0.4527)  loss_giou_dn_2: 1.3806 (1.3806)  loss_fgl_dn_2: 0.7912 (0.7912)  loss_mal_dn_pre: 0.6401 (0.6401)  loss_bbox_dn_pre: 0.4654 (0.4654)  loss_giou_dn_pre: 1.3656 (1.3656)  time: 2.0608  data: 1.4204  max mem: 10516\n"
     ]
    },
    {
     "name": "stderr",
     "output_type": "stream",
     "text": [
      "2025-03-10 14:55:16,674 - DEIMTrainer - INFO - Evaluating model...\n"
     ]
    },
    {
     "name": "stdout",
     "output_type": "stream",
     "text": [
      "Epoch: [28]  [14/15]  eta: 0:00:00  lr: 0.000009  loss: 28.9560 (28.8296)  loss_mal: 0.6938 (0.7162)  loss_bbox: 0.7278 (0.7047)  loss_giou: 1.4183 (1.4275)  loss_fgl: 0.7115 (0.7256)  loss_mal_aux_0: 0.7017 (0.7067)  loss_bbox_aux_0: 0.7342 (0.7157)  loss_giou_aux_0: 1.4191 (1.4248)  loss_fgl_aux_0: 0.7154 (0.7334)  loss_ddf_aux_0: 0.0103 (0.0103)  loss_mal_aux_1: 0.6978 (0.7134)  loss_bbox_aux_1: 0.7321 (0.7109)  loss_giou_aux_1: 1.4184 (1.4259)  loss_fgl_aux_1: 0.7121 (0.7284)  loss_ddf_aux_1: 0.0024 (0.0024)  loss_mal_pre: 0.7007 (0.7056)  loss_bbox_pre: 0.7326 (0.7145)  loss_giou_pre: 1.4191 (1.4248)  loss_mal_enc_0: 0.6919 (0.7012)  loss_bbox_enc_0: 0.7219 (0.6980)  loss_giou_enc_0: 1.4215 (1.4329)  loss_mal_dn_0: 0.6299 (0.6283)  loss_bbox_dn_0: 0.5089 (0.5052)  loss_giou_dn_0: 1.3695 (1.3710)  loss_fgl_dn_0: 0.8090 (0.8072)  loss_ddf_dn_0: 0.0136 (0.0141)  loss_mal_dn_1: 0.6211 (0.6204)  loss_bbox_dn_1: 0.5033 (0.5007)  loss_giou_dn_1: 1.3751 (1.3769)  loss_fgl_dn_1: 0.7944 (0.7915)  loss_ddf_dn_1: 0.0026 (0.0025)  loss_mal_dn_2: 0.6177 (0.6160)  loss_bbox_dn_2: 0.5005 (0.4994)  loss_giou_dn_2: 1.3806 (1.3828)  loss_fgl_dn_2: 0.7871 (0.7830)  loss_mal_dn_pre: 0.6328 (0.6306)  loss_bbox_dn_pre: 0.5144 (0.5102)  loss_giou_dn_pre: 1.3656 (1.3673)  time: 0.6379  data: 0.1172  max mem: 10516\n",
      "Epoch: [28] Total time: 0:00:09 (0.6425 s / it)\n",
      "Averaged stats: lr: 0.000009  loss: 28.9560 (28.8296)  loss_mal: 0.6938 (0.7162)  loss_bbox: 0.7278 (0.7047)  loss_giou: 1.4183 (1.4275)  loss_fgl: 0.7115 (0.7256)  loss_mal_aux_0: 0.7017 (0.7067)  loss_bbox_aux_0: 0.7342 (0.7157)  loss_giou_aux_0: 1.4191 (1.4248)  loss_fgl_aux_0: 0.7154 (0.7334)  loss_ddf_aux_0: 0.0103 (0.0103)  loss_mal_aux_1: 0.6978 (0.7134)  loss_bbox_aux_1: 0.7321 (0.7109)  loss_giou_aux_1: 1.4184 (1.4259)  loss_fgl_aux_1: 0.7121 (0.7284)  loss_ddf_aux_1: 0.0024 (0.0024)  loss_mal_pre: 0.7007 (0.7056)  loss_bbox_pre: 0.7326 (0.7145)  loss_giou_pre: 1.4191 (1.4248)  loss_mal_enc_0: 0.6919 (0.7012)  loss_bbox_enc_0: 0.7219 (0.6980)  loss_giou_enc_0: 1.4215 (1.4329)  loss_mal_dn_0: 0.6299 (0.6283)  loss_bbox_dn_0: 0.5089 (0.5052)  loss_giou_dn_0: 1.3695 (1.3710)  loss_fgl_dn_0: 0.8090 (0.8072)  loss_ddf_dn_0: 0.0136 (0.0141)  loss_mal_dn_1: 0.6211 (0.6204)  loss_bbox_dn_1: 0.5033 (0.5007)  loss_giou_dn_1: 1.3751 (1.3769)  loss_fgl_dn_1: 0.7944 (0.7915)  loss_ddf_dn_1: 0.0026 (0.0025)  loss_mal_dn_2: 0.6177 (0.6160)  loss_bbox_dn_2: 0.5005 (0.4994)  loss_giou_dn_2: 1.3806 (1.3828)  loss_fgl_dn_2: 0.7871 (0.7830)  loss_mal_dn_pre: 0.6328 (0.6306)  loss_bbox_dn_pre: 0.5144 (0.5102)  loss_giou_dn_pre: 1.3656 (1.3673)\n",
      "Test:  [0/5]  eta: 0:00:04    time: 0.8054  data: 0.6980  max mem: 10516\n"
     ]
    },
    {
     "name": "stderr",
     "output_type": "stream",
     "text": [
      "2025-03-10 14:55:17,995 - DEIMTrainer - INFO - Epoch 28 - Train loss: 28.8296, Eval mAP: 0.0014\n",
      "2025-03-10 14:55:17,995 - DEIMTrainer - INFO - Best stats: {'epoch': 27, 'coco_eval_bbox': 0.0024323514875607744}\n"
     ]
    },
    {
     "name": "stdout",
     "output_type": "stream",
     "text": [
      "Test:  [4/5]  eta: 0:00:00    time: 0.2483  data: 0.1508  max mem: 10516\n",
      "Test: Total time: 0:00:01 (0.2593 s / it)\n",
      "Averaged stats: \n",
      "Accumulating evaluation results...\n",
      "COCOeval_opt.accumulate() finished...\n",
      "DONE (t=0.01s).\n",
      "IoU metric: bbox\n",
      " Average Precision  (AP) @[ IoU=0.50:0.95 | area=   all | maxDets=100 ] = 0.001\n",
      " Average Precision  (AP) @[ IoU=0.50      | area=   all | maxDets=100 ] = 0.009\n",
      " Average Precision  (AP) @[ IoU=0.75      | area=   all | maxDets=100 ] = 0.000\n",
      " Average Precision  (AP) @[ IoU=0.50:0.95 | area= small | maxDets=100 ] = 0.000\n",
      " Average Precision  (AP) @[ IoU=0.50:0.95 | area=medium | maxDets=100 ] = 0.001\n",
      " Average Precision  (AP) @[ IoU=0.50:0.95 | area= large | maxDets=100 ] = 0.032\n",
      " Average Recall     (AR) @[ IoU=0.50:0.95 | area=   all | maxDets=  1 ] = 0.000\n",
      " Average Recall     (AR) @[ IoU=0.50:0.95 | area=   all | maxDets= 10 ] = 0.004\n",
      " Average Recall     (AR) @[ IoU=0.50:0.95 | area=   all | maxDets=100 ] = 0.035\n",
      " Average Recall     (AR) @[ IoU=0.50:0.95 | area= small | maxDets=100 ] = 0.000\n",
      " Average Recall     (AR) @[ IoU=0.50:0.95 | area=medium | maxDets=100 ] = 0.045\n",
      " Average Recall     (AR) @[ IoU=0.50:0.95 | area= large | maxDets=100 ] = 0.031\n",
      " Average Recall     (AR) @[ IoU=0.50      | area=   all | maxDets=100 ] = 0.143\n",
      " Average Recall     (AR) @[ IoU=0.75      | area=   all | maxDets=100 ] = 0.004\n",
      "================================================\n",
      "{'coco_eval_bbox': [0.001449722573999423, 0.008555356045799226, 1.2597781635410271e-05, 0.0, 0.0006916440293325015, 0.031683168316831684, 8.14000814000814e-05, 0.004151404151404151, 0.035124135124135134, 0.0, 0.04508928571428571, 0.03137254901960784]}\n",
      "================================================\n",
      "Epoch: [29]  [ 0/15]  eta: 0:00:32  lr: 0.000009  loss: 29.3200 (29.3200)  loss_mal: 0.8779 (0.8779)  loss_bbox: 0.6759 (0.6759)  loss_giou: 1.3157 (1.3157)  loss_fgl: 0.7776 (0.7776)  loss_mal_aux_0: 0.8833 (0.8833)  loss_bbox_aux_0: 0.6863 (0.6863)  loss_giou_aux_0: 1.3183 (1.3183)  loss_fgl_aux_0: 0.7890 (0.7890)  loss_ddf_aux_0: 0.0122 (0.0122)  loss_mal_aux_1: 0.8916 (0.8916)  loss_bbox_aux_1: 0.6812 (0.6812)  loss_giou_aux_1: 1.3170 (1.3170)  loss_fgl_aux_1: 0.7810 (0.7810)  loss_ddf_aux_1: 0.0024 (0.0024)  loss_mal_pre: 0.8799 (0.8799)  loss_bbox_pre: 0.6858 (0.6858)  loss_giou_pre: 1.3178 (1.3178)  loss_mal_enc_0: 0.8579 (0.8579)  loss_bbox_enc_0: 0.6681 (0.6681)  loss_giou_enc_0: 1.3136 (1.3136)  loss_mal_dn_0: 0.6416 (0.6416)  loss_bbox_dn_0: 0.5218 (0.5218)  loss_giou_dn_0: 1.3906 (1.3906)  loss_fgl_dn_0: 0.8048 (0.8048)  loss_ddf_dn_0: 0.0121 (0.0121)  loss_mal_dn_1: 0.6333 (0.6333)  loss_bbox_dn_1: 0.5167 (0.5167)  loss_giou_dn_1: 1.3948 (1.3948)  loss_fgl_dn_1: 0.7904 (0.7904)  loss_ddf_dn_1: 0.0022 (0.0022)  loss_mal_dn_2: 0.6260 (0.6260)  loss_bbox_dn_2: 0.5144 (0.5144)  loss_giou_dn_2: 1.3981 (1.3981)  loss_fgl_dn_2: 0.7839 (0.7839)  loss_mal_dn_pre: 0.6421 (0.6421)  loss_bbox_dn_pre: 0.5273 (0.5273)  loss_giou_dn_pre: 1.3875 (1.3875)  time: 2.1371  data: 1.6839  max mem: 10516\n"
     ]
    },
    {
     "name": "stderr",
     "output_type": "stream",
     "text": [
      "2025-03-10 14:55:26,625 - DEIMTrainer - INFO - Evaluating model...\n"
     ]
    },
    {
     "name": "stdout",
     "output_type": "stream",
     "text": [
      "Epoch: [29]  [14/15]  eta: 0:00:00  lr: 0.000010  loss: 28.4417 (28.5622)  loss_mal: 0.7622 (0.7650)  loss_bbox: 0.6374 (0.6496)  loss_giou: 1.3169 (1.3608)  loss_fgl: 0.7776 (0.7691)  loss_mal_aux_0: 0.7563 (0.7546)  loss_bbox_aux_0: 0.6527 (0.6586)  loss_giou_aux_0: 1.3183 (1.3572)  loss_fgl_aux_0: 0.7890 (0.7792)  loss_ddf_aux_0: 0.0141 (0.0148)  loss_mal_aux_1: 0.7583 (0.7621)  loss_bbox_aux_1: 0.6437 (0.6533)  loss_giou_aux_1: 1.3170 (1.3590)  loss_fgl_aux_1: 0.7810 (0.7721)  loss_ddf_aux_1: 0.0026 (0.0026)  loss_mal_pre: 0.7534 (0.7533)  loss_bbox_pre: 0.6546 (0.6595)  loss_giou_pre: 1.3178 (1.3567)  loss_mal_enc_0: 0.7510 (0.7486)  loss_bbox_enc_0: 0.6357 (0.6487)  loss_giou_enc_0: 1.3185 (1.3600)  loss_mal_dn_0: 0.6230 (0.6250)  loss_bbox_dn_0: 0.5018 (0.5004)  loss_giou_dn_0: 1.3686 (1.3760)  loss_fgl_dn_0: 0.8043 (0.7997)  loss_ddf_dn_0: 0.0161 (0.0162)  loss_mal_dn_1: 0.6177 (0.6182)  loss_bbox_dn_1: 0.4968 (0.4955)  loss_giou_dn_1: 1.3740 (1.3810)  loss_fgl_dn_1: 0.7897 (0.7847)  loss_ddf_dn_1: 0.0023 (0.0023)  loss_mal_dn_2: 0.6147 (0.6154)  loss_bbox_dn_2: 0.4946 (0.4938)  loss_giou_dn_2: 1.3781 (1.3848)  loss_fgl_dn_2: 0.7843 (0.7793)  loss_mal_dn_pre: 0.6245 (0.6269)  loss_bbox_dn_pre: 0.5071 (0.5058)  loss_giou_dn_pre: 1.3653 (1.3725)  time: 0.5696  data: 0.1315  max mem: 10516\n",
      "Epoch: [29] Total time: 0:00:08 (0.5742 s / it)\n",
      "Averaged stats: lr: 0.000010  loss: 28.4417 (28.5622)  loss_mal: 0.7622 (0.7650)  loss_bbox: 0.6374 (0.6496)  loss_giou: 1.3169 (1.3608)  loss_fgl: 0.7776 (0.7691)  loss_mal_aux_0: 0.7563 (0.7546)  loss_bbox_aux_0: 0.6527 (0.6586)  loss_giou_aux_0: 1.3183 (1.3572)  loss_fgl_aux_0: 0.7890 (0.7792)  loss_ddf_aux_0: 0.0141 (0.0148)  loss_mal_aux_1: 0.7583 (0.7621)  loss_bbox_aux_1: 0.6437 (0.6533)  loss_giou_aux_1: 1.3170 (1.3590)  loss_fgl_aux_1: 0.7810 (0.7721)  loss_ddf_aux_1: 0.0026 (0.0026)  loss_mal_pre: 0.7534 (0.7533)  loss_bbox_pre: 0.6546 (0.6595)  loss_giou_pre: 1.3178 (1.3567)  loss_mal_enc_0: 0.7510 (0.7486)  loss_bbox_enc_0: 0.6357 (0.6487)  loss_giou_enc_0: 1.3185 (1.3600)  loss_mal_dn_0: 0.6230 (0.6250)  loss_bbox_dn_0: 0.5018 (0.5004)  loss_giou_dn_0: 1.3686 (1.3760)  loss_fgl_dn_0: 0.8043 (0.7997)  loss_ddf_dn_0: 0.0161 (0.0162)  loss_mal_dn_1: 0.6177 (0.6182)  loss_bbox_dn_1: 0.4968 (0.4955)  loss_giou_dn_1: 1.3740 (1.3810)  loss_fgl_dn_1: 0.7897 (0.7847)  loss_ddf_dn_1: 0.0023 (0.0023)  loss_mal_dn_2: 0.6147 (0.6154)  loss_bbox_dn_2: 0.4946 (0.4938)  loss_giou_dn_2: 1.3781 (1.3848)  loss_fgl_dn_2: 0.7843 (0.7793)  loss_mal_dn_pre: 0.6245 (0.6269)  loss_bbox_dn_pre: 0.5071 (0.5058)  loss_giou_dn_pre: 1.3653 (1.3725)\n",
      "Test:  [0/5]  eta: 0:00:04    time: 0.8103  data: 0.6984  max mem: 10516\n"
     ]
    },
    {
     "name": "stderr",
     "output_type": "stream",
     "text": [
      "2025-03-10 14:55:27,946 - DEIMTrainer - INFO - Epoch 29 - Train loss: 28.5622, Eval mAP: 0.0010\n",
      "2025-03-10 14:55:27,946 - DEIMTrainer - INFO - Best stats: {'epoch': 27, 'coco_eval_bbox': 0.0024323514875607744}\n"
     ]
    },
    {
     "name": "stdout",
     "output_type": "stream",
     "text": [
      "Test:  [4/5]  eta: 0:00:00    time: 0.2494  data: 0.1521  max mem: 10516\n",
      "Test: Total time: 0:00:01 (0.2604 s / it)\n",
      "Averaged stats: \n",
      "Accumulating evaluation results...\n",
      "COCOeval_opt.accumulate() finished...\n",
      "DONE (t=0.01s).\n",
      "IoU metric: bbox\n",
      " Average Precision  (AP) @[ IoU=0.50:0.95 | area=   all | maxDets=100 ] = 0.001\n",
      " Average Precision  (AP) @[ IoU=0.50      | area=   all | maxDets=100 ] = 0.007\n",
      " Average Precision  (AP) @[ IoU=0.75      | area=   all | maxDets=100 ] = 0.000\n",
      " Average Precision  (AP) @[ IoU=0.50:0.95 | area= small | maxDets=100 ] = 0.000\n",
      " Average Precision  (AP) @[ IoU=0.50:0.95 | area=medium | maxDets=100 ] = 0.001\n",
      " Average Precision  (AP) @[ IoU=0.50:0.95 | area= large | maxDets=100 ] = 0.021\n",
      " Average Recall     (AR) @[ IoU=0.50:0.95 | area=   all | maxDets=  1 ] = 0.000\n",
      " Average Recall     (AR) @[ IoU=0.50:0.95 | area=   all | maxDets= 10 ] = 0.003\n",
      " Average Recall     (AR) @[ IoU=0.50:0.95 | area=   all | maxDets=100 ] = 0.029\n",
      " Average Recall     (AR) @[ IoU=0.50:0.95 | area= small | maxDets=100 ] = 0.000\n",
      " Average Recall     (AR) @[ IoU=0.50:0.95 | area=medium | maxDets=100 ] = 0.052\n",
      " Average Recall     (AR) @[ IoU=0.50:0.95 | area= large | maxDets=100 ] = 0.020\n",
      " Average Recall     (AR) @[ IoU=0.50      | area=   all | maxDets=100 ] = 0.131\n",
      " Average Recall     (AR) @[ IoU=0.75      | area=   all | maxDets=100 ] = 0.004\n",
      "================================================\n",
      "{'coco_eval_bbox': [0.0009806686670642297, 0.006608972666431995, 1.062752645287948e-05, 0.0, 0.0006985362172312338, 0.021122112211221122, 0.0, 0.002604802604802605, 0.028856328856328852, 0.0, 0.051636904761904766, 0.020280112044817927]}\n",
      "================================================\n",
      "Epoch: [30]  [ 0/15]  eta: 0:00:30  lr: 0.000010  loss: 28.3489 (28.3489)  loss_mal: 0.6548 (0.6548)  loss_bbox: 0.6778 (0.6778)  loss_giou: 1.4452 (1.4452)  loss_fgl: 0.6876 (0.6876)  loss_mal_aux_0: 0.6538 (0.6538)  loss_bbox_aux_0: 0.6885 (0.6885)  loss_giou_aux_0: 1.4419 (1.4419)  loss_fgl_aux_0: 0.6947 (0.6947)  loss_ddf_aux_0: 0.0162 (0.0162)  loss_mal_aux_1: 0.6611 (0.6611)  loss_bbox_aux_1: 0.6815 (0.6815)  loss_giou_aux_1: 1.4437 (1.4437)  loss_fgl_aux_1: 0.6889 (0.6889)  loss_ddf_aux_1: 0.0024 (0.0024)  loss_mal_pre: 0.6523 (0.6523)  loss_bbox_pre: 0.6911 (0.6911)  loss_giou_pre: 1.4415 (1.4415)  loss_mal_enc_0: 0.6484 (0.6484)  loss_bbox_enc_0: 0.6832 (0.6832)  loss_giou_enc_0: 1.4450 (1.4450)  loss_mal_dn_0: 0.6357 (0.6357)  loss_bbox_dn_0: 0.4794 (0.4794)  loss_giou_dn_0: 1.3691 (1.3691)  loss_fgl_dn_0: 0.8091 (0.8091)  loss_ddf_dn_0: 0.0177 (0.0177)  loss_mal_dn_1: 0.6309 (0.6309)  loss_bbox_dn_1: 0.4764 (0.4764)  loss_giou_dn_1: 1.3745 (1.3745)  loss_fgl_dn_1: 0.7956 (0.7956)  loss_ddf_dn_1: 0.0021 (0.0021)  loss_mal_dn_2: 0.6260 (0.6260)  loss_bbox_dn_2: 0.4762 (0.4762)  loss_giou_dn_2: 1.3779 (1.3779)  loss_fgl_dn_2: 0.7921 (0.7921)  loss_mal_dn_pre: 0.6377 (0.6377)  loss_bbox_dn_pre: 0.4838 (0.4838)  loss_giou_dn_pre: 1.3651 (1.3651)  time: 2.0376  data: 1.4844  max mem: 10516\n"
     ]
    },
    {
     "name": "stderr",
     "output_type": "stream",
     "text": [
      "2025-03-10 14:55:36,827 - DEIMTrainer - INFO - Evaluating model...\n"
     ]
    },
    {
     "name": "stdout",
     "output_type": "stream",
     "text": [
      "Epoch: [30]  [14/15]  eta: 0:00:00  lr: 0.000011  loss: 28.3489 (28.4244)  loss_mal: 0.7646 (0.7390)  loss_bbox: 0.6011 (0.6262)  loss_giou: 1.3709 (1.3883)  loss_fgl: 0.7712 (0.7649)  loss_mal_aux_0: 0.7603 (0.7381)  loss_bbox_aux_0: 0.6044 (0.6305)  loss_giou_aux_0: 1.3638 (1.3834)  loss_fgl_aux_0: 0.7820 (0.7736)  loss_ddf_aux_0: 0.0178 (0.0180)  loss_mal_aux_1: 0.7695 (0.7400)  loss_bbox_aux_1: 0.6018 (0.6273)  loss_giou_aux_1: 1.3692 (1.3866)  loss_fgl_aux_1: 0.7734 (0.7664)  loss_ddf_aux_1: 0.0024 (0.0024)  loss_mal_pre: 0.7598 (0.7370)  loss_bbox_pre: 0.6061 (0.6323)  loss_giou_pre: 1.3610 (1.3821)  loss_mal_enc_0: 0.7495 (0.7308)  loss_bbox_enc_0: 0.6007 (0.6281)  loss_giou_enc_0: 1.3681 (1.3866)  loss_mal_dn_0: 0.6206 (0.6221)  loss_bbox_dn_0: 0.5045 (0.4934)  loss_giou_dn_0: 1.3744 (1.3743)  loss_fgl_dn_0: 0.8010 (0.7993)  loss_ddf_dn_0: 0.0177 (0.0179)  loss_mal_dn_1: 0.6157 (0.6164)  loss_bbox_dn_1: 0.5005 (0.4896)  loss_giou_dn_1: 1.3809 (1.3785)  loss_fgl_dn_1: 0.7854 (0.7869)  loss_ddf_dn_1: 0.0019 (0.0018)  loss_mal_dn_2: 0.6152 (0.6153)  loss_bbox_dn_2: 0.4991 (0.4886)  loss_giou_dn_2: 1.3824 (1.3805)  loss_fgl_dn_2: 0.7812 (0.7847)  loss_mal_dn_pre: 0.6230 (0.6244)  loss_bbox_dn_pre: 0.5096 (0.4988)  loss_giou_dn_pre: 1.3696 (1.3703)  time: 0.5865  data: 0.1142  max mem: 10516\n",
      "Epoch: [30] Total time: 0:00:08 (0.5908 s / it)\n",
      "Averaged stats: lr: 0.000011  loss: 28.3489 (28.4244)  loss_mal: 0.7646 (0.7390)  loss_bbox: 0.6011 (0.6262)  loss_giou: 1.3709 (1.3883)  loss_fgl: 0.7712 (0.7649)  loss_mal_aux_0: 0.7603 (0.7381)  loss_bbox_aux_0: 0.6044 (0.6305)  loss_giou_aux_0: 1.3638 (1.3834)  loss_fgl_aux_0: 0.7820 (0.7736)  loss_ddf_aux_0: 0.0178 (0.0180)  loss_mal_aux_1: 0.7695 (0.7400)  loss_bbox_aux_1: 0.6018 (0.6273)  loss_giou_aux_1: 1.3692 (1.3866)  loss_fgl_aux_1: 0.7734 (0.7664)  loss_ddf_aux_1: 0.0024 (0.0024)  loss_mal_pre: 0.7598 (0.7370)  loss_bbox_pre: 0.6061 (0.6323)  loss_giou_pre: 1.3610 (1.3821)  loss_mal_enc_0: 0.7495 (0.7308)  loss_bbox_enc_0: 0.6007 (0.6281)  loss_giou_enc_0: 1.3681 (1.3866)  loss_mal_dn_0: 0.6206 (0.6221)  loss_bbox_dn_0: 0.5045 (0.4934)  loss_giou_dn_0: 1.3744 (1.3743)  loss_fgl_dn_0: 0.8010 (0.7993)  loss_ddf_dn_0: 0.0177 (0.0179)  loss_mal_dn_1: 0.6157 (0.6164)  loss_bbox_dn_1: 0.5005 (0.4896)  loss_giou_dn_1: 1.3809 (1.3785)  loss_fgl_dn_1: 0.7854 (0.7869)  loss_ddf_dn_1: 0.0019 (0.0018)  loss_mal_dn_2: 0.6152 (0.6153)  loss_bbox_dn_2: 0.4991 (0.4886)  loss_giou_dn_2: 1.3824 (1.3805)  loss_fgl_dn_2: 0.7812 (0.7847)  loss_mal_dn_pre: 0.6230 (0.6244)  loss_bbox_dn_pre: 0.5096 (0.4988)  loss_giou_dn_pre: 1.3696 (1.3703)\n",
      "Test:  [0/5]  eta: 0:00:03    time: 0.7659  data: 0.6568  max mem: 10516\n"
     ]
    },
    {
     "name": "stderr",
     "output_type": "stream",
     "text": [
      "2025-03-10 14:55:38,111 - DEIMTrainer - INFO - Epoch 30 - Train loss: 28.4244, Eval mAP: 0.0011\n",
      "2025-03-10 14:55:38,112 - DEIMTrainer - INFO - Best stats: {'epoch': 27, 'coco_eval_bbox': 0.0024323514875607744}\n"
     ]
    },
    {
     "name": "stdout",
     "output_type": "stream",
     "text": [
      "Test:  [4/5]  eta: 0:00:00    time: 0.2428  data: 0.1434  max mem: 10516\n",
      "Test: Total time: 0:00:01 (0.2527 s / it)\n",
      "Averaged stats: \n",
      "Accumulating evaluation results...\n",
      "COCOeval_opt.accumulate() finished...\n",
      "DONE (t=0.01s).\n",
      "IoU metric: bbox\n",
      " Average Precision  (AP) @[ IoU=0.50:0.95 | area=   all | maxDets=100 ] = 0.001\n",
      " Average Precision  (AP) @[ IoU=0.50      | area=   all | maxDets=100 ] = 0.007\n",
      " Average Precision  (AP) @[ IoU=0.75      | area=   all | maxDets=100 ] = 0.000\n",
      " Average Precision  (AP) @[ IoU=0.50:0.95 | area= small | maxDets=100 ] = 0.000\n",
      " Average Precision  (AP) @[ IoU=0.50:0.95 | area=medium | maxDets=100 ] = 0.001\n",
      " Average Precision  (AP) @[ IoU=0.50:0.95 | area= large | maxDets=100 ] = 0.021\n",
      " Average Recall     (AR) @[ IoU=0.50:0.95 | area=   all | maxDets=  1 ] = 0.000\n",
      " Average Recall     (AR) @[ IoU=0.50:0.95 | area=   all | maxDets= 10 ] = 0.003\n",
      " Average Recall     (AR) @[ IoU=0.50:0.95 | area=   all | maxDets=100 ] = 0.028\n",
      " Average Recall     (AR) @[ IoU=0.50:0.95 | area= small | maxDets=100 ] = 0.000\n",
      " Average Recall     (AR) @[ IoU=0.50:0.95 | area=medium | maxDets=100 ] = 0.048\n",
      " Average Recall     (AR) @[ IoU=0.50:0.95 | area= large | maxDets=100 ] = 0.021\n",
      " Average Recall     (AR) @[ IoU=0.50      | area=   all | maxDets=100 ] = 0.127\n",
      " Average Recall     (AR) @[ IoU=0.75      | area=   all | maxDets=100 ] = 0.004\n",
      "================================================\n",
      "{'coco_eval_bbox': [0.0010500304941592408, 0.00691919029751618, 9.533015693250434e-06, 0.0, 0.0006853032408550955, 0.021351196806171865, 0.0001221001221001221, 0.0030118030118030117, 0.028164428164428164, 0.0, 0.04776785714285714, 0.020784313725490198]}\n",
      "================================================\n",
      "Epoch: [31]  [ 0/15]  eta: 0:00:29  lr: 0.000011  loss: 29.4743 (29.4743)  loss_mal: 0.8506 (0.8506)  loss_bbox: 0.6967 (0.6967)  loss_giou: 1.3621 (1.3621)  loss_fgl: 0.7838 (0.7838)  loss_mal_aux_0: 0.8369 (0.8369)  loss_bbox_aux_0: 0.6959 (0.6959)  loss_giou_aux_0: 1.3572 (1.3572)  loss_fgl_aux_0: 0.7859 (0.7859)  loss_ddf_aux_0: 0.0186 (0.0186)  loss_mal_aux_1: 0.8550 (0.8550)  loss_bbox_aux_1: 0.6964 (0.6964)  loss_giou_aux_1: 1.3615 (1.3615)  loss_fgl_aux_1: 0.7825 (0.7825)  loss_ddf_aux_1: 0.0022 (0.0022)  loss_mal_pre: 0.8354 (0.8354)  loss_bbox_pre: 0.6962 (0.6962)  loss_giou_pre: 1.3543 (1.3543)  loss_mal_enc_0: 0.8267 (0.8267)  loss_bbox_enc_0: 0.6998 (0.6998)  loss_giou_enc_0: 1.3625 (1.3625)  loss_mal_dn_0: 0.6299 (0.6299)  loss_bbox_dn_0: 0.5689 (0.5689)  loss_giou_dn_0: 1.3487 (1.3487)  loss_fgl_dn_0: 0.8091 (0.8091)  loss_ddf_dn_0: 0.0163 (0.0163)  loss_mal_dn_1: 0.6309 (0.6309)  loss_bbox_dn_1: 0.5663 (0.5663)  loss_giou_dn_1: 1.3523 (1.3523)  loss_fgl_dn_1: 0.7979 (0.7979)  loss_ddf_dn_1: 0.0015 (0.0015)  loss_mal_dn_2: 0.6260 (0.6260)  loss_bbox_dn_2: 0.5661 (0.5661)  loss_giou_dn_2: 1.3530 (1.3530)  loss_fgl_dn_2: 0.7969 (0.7969)  loss_mal_dn_pre: 0.6328 (0.6328)  loss_bbox_dn_pre: 0.5741 (0.5741)  loss_giou_dn_pre: 1.3433 (1.3433)  time: 1.9581  data: 1.3423  max mem: 10516\n"
     ]
    },
    {
     "name": "stderr",
     "output_type": "stream",
     "text": [
      "2025-03-10 14:55:47,256 - DEIMTrainer - INFO - Saving checkpoint to outputs/deim_hgnetv2_s_coco/checkpoint0031.pth\n"
     ]
    },
    {
     "name": "stdout",
     "output_type": "stream",
     "text": [
      "Epoch: [31]  [14/15]  eta: 0:00:00  lr: 0.000011  loss: 28.6713 (28.8009)  loss_mal: 0.6826 (0.7382)  loss_bbox: 0.6615 (0.6830)  loss_giou: 1.4390 (1.4044)  loss_fgl: 0.7341 (0.7535)  loss_mal_aux_0: 0.6729 (0.7355)  loss_bbox_aux_0: 0.6598 (0.6830)  loss_giou_aux_0: 1.4395 (1.4039)  loss_fgl_aux_0: 0.7334 (0.7564)  loss_ddf_aux_0: 0.0173 (0.0173)  loss_mal_aux_1: 0.6753 (0.7396)  loss_bbox_aux_1: 0.6597 (0.6824)  loss_giou_aux_1: 1.4399 (1.4050)  loss_fgl_aux_1: 0.7321 (0.7526)  loss_ddf_aux_1: 0.0018 (0.0019)  loss_mal_pre: 0.6729 (0.7346)  loss_bbox_pre: 0.6611 (0.6843)  loss_giou_pre: 1.4383 (1.4024)  loss_mal_enc_0: 0.6670 (0.7291)  loss_bbox_enc_0: 0.6552 (0.6816)  loss_giou_enc_0: 1.4413 (1.4063)  loss_mal_dn_0: 0.6230 (0.6241)  loss_bbox_dn_0: 0.5133 (0.5074)  loss_giou_dn_0: 1.3700 (1.3715)  loss_fgl_dn_0: 0.7970 (0.7976)  loss_ddf_dn_0: 0.0158 (0.0159)  loss_mal_dn_1: 0.6201 (0.6210)  loss_bbox_dn_1: 0.5108 (0.5060)  loss_giou_dn_1: 1.3713 (1.3729)  loss_fgl_dn_1: 0.7892 (0.7909)  loss_ddf_dn_1: 0.0014 (0.0014)  loss_mal_dn_2: 0.6240 (0.6212)  loss_bbox_dn_2: 0.5113 (0.5063)  loss_giou_dn_2: 1.3705 (1.3726)  loss_fgl_dn_2: 0.7896 (0.7917)  loss_mal_dn_pre: 0.6250 (0.6262)  loss_bbox_dn_pre: 0.5180 (0.5118)  loss_giou_dn_pre: 1.3654 (1.3679)  time: 0.6038  data: 0.1140  max mem: 10516\n",
      "Epoch: [31] Total time: 0:00:09 (0.6081 s / it)\n",
      "Averaged stats: lr: 0.000011  loss: 28.6713 (28.8009)  loss_mal: 0.6826 (0.7382)  loss_bbox: 0.6615 (0.6830)  loss_giou: 1.4390 (1.4044)  loss_fgl: 0.7341 (0.7535)  loss_mal_aux_0: 0.6729 (0.7355)  loss_bbox_aux_0: 0.6598 (0.6830)  loss_giou_aux_0: 1.4395 (1.4039)  loss_fgl_aux_0: 0.7334 (0.7564)  loss_ddf_aux_0: 0.0173 (0.0173)  loss_mal_aux_1: 0.6753 (0.7396)  loss_bbox_aux_1: 0.6597 (0.6824)  loss_giou_aux_1: 1.4399 (1.4050)  loss_fgl_aux_1: 0.7321 (0.7526)  loss_ddf_aux_1: 0.0018 (0.0019)  loss_mal_pre: 0.6729 (0.7346)  loss_bbox_pre: 0.6611 (0.6843)  loss_giou_pre: 1.4383 (1.4024)  loss_mal_enc_0: 0.6670 (0.7291)  loss_bbox_enc_0: 0.6552 (0.6816)  loss_giou_enc_0: 1.4413 (1.4063)  loss_mal_dn_0: 0.6230 (0.6241)  loss_bbox_dn_0: 0.5133 (0.5074)  loss_giou_dn_0: 1.3700 (1.3715)  loss_fgl_dn_0: 0.7970 (0.7976)  loss_ddf_dn_0: 0.0158 (0.0159)  loss_mal_dn_1: 0.6201 (0.6210)  loss_bbox_dn_1: 0.5108 (0.5060)  loss_giou_dn_1: 1.3713 (1.3729)  loss_fgl_dn_1: 0.7892 (0.7909)  loss_ddf_dn_1: 0.0014 (0.0014)  loss_mal_dn_2: 0.6240 (0.6212)  loss_bbox_dn_2: 0.5113 (0.5063)  loss_giou_dn_2: 1.3705 (1.3726)  loss_fgl_dn_2: 0.7896 (0.7917)  loss_mal_dn_pre: 0.6250 (0.6262)  loss_bbox_dn_pre: 0.5180 (0.5118)  loss_giou_dn_pre: 1.3654 (1.3679)\n"
     ]
    },
    {
     "name": "stderr",
     "output_type": "stream",
     "text": [
      "2025-03-10 14:55:47,646 - DEIMTrainer - INFO - Checkpoint saved to outputs/deim_hgnetv2_s_coco/checkpoint0031.pth\n",
      "2025-03-10 14:55:47,648 - DEIMTrainer - INFO - Evaluating model...\n"
     ]
    },
    {
     "name": "stdout",
     "output_type": "stream",
     "text": [
      "Test:  [0/5]  eta: 0:00:03    time: 0.7123  data: 0.6004  max mem: 10516\n"
     ]
    },
    {
     "name": "stderr",
     "output_type": "stream",
     "text": [
      "2025-03-10 14:55:48,874 - DEIMTrainer - INFO - Epoch 31 - Train loss: 28.8009, Eval mAP: 0.0022\n",
      "2025-03-10 14:55:48,874 - DEIMTrainer - INFO - Best stats: {'epoch': 27, 'coco_eval_bbox': 0.0024323514875607744}\n"
     ]
    },
    {
     "name": "stdout",
     "output_type": "stream",
     "text": [
      "Test:  [4/5]  eta: 0:00:00    time: 0.2323  data: 0.1340  max mem: 10516\n",
      "Test: Total time: 0:00:01 (0.2418 s / it)\n",
      "Averaged stats: \n",
      "Accumulating evaluation results...\n",
      "COCOeval_opt.accumulate() finished...\n",
      "DONE (t=0.01s).\n",
      "IoU metric: bbox\n",
      " Average Precision  (AP) @[ IoU=0.50:0.95 | area=   all | maxDets=100 ] = 0.002\n",
      " Average Precision  (AP) @[ IoU=0.50      | area=   all | maxDets=100 ] = 0.011\n",
      " Average Precision  (AP) @[ IoU=0.75      | area=   all | maxDets=100 ] = 0.000\n",
      " Average Precision  (AP) @[ IoU=0.50:0.95 | area= small | maxDets=100 ] = 0.000\n",
      " Average Precision  (AP) @[ IoU=0.50:0.95 | area=medium | maxDets=100 ] = 0.001\n",
      " Average Precision  (AP) @[ IoU=0.50:0.95 | area= large | maxDets=100 ] = 0.041\n",
      " Average Recall     (AR) @[ IoU=0.50:0.95 | area=   all | maxDets=  1 ] = 0.000\n",
      " Average Recall     (AR) @[ IoU=0.50:0.95 | area=   all | maxDets= 10 ] = 0.006\n",
      " Average Recall     (AR) @[ IoU=0.50:0.95 | area=   all | maxDets=100 ] = 0.046\n",
      " Average Recall     (AR) @[ IoU=0.50:0.95 | area= small | maxDets=100 ] = 0.000\n",
      " Average Recall     (AR) @[ IoU=0.50:0.95 | area=medium | maxDets=100 ] = 0.057\n",
      " Average Recall     (AR) @[ IoU=0.50:0.95 | area= large | maxDets=100 ] = 0.042\n",
      " Average Recall     (AR) @[ IoU=0.50      | area=   all | maxDets=100 ] = 0.161\n",
      " Average Recall     (AR) @[ IoU=0.75      | area=   all | maxDets=100 ] = 0.009\n",
      "================================================\n",
      "{'coco_eval_bbox': [0.0022259401400283804, 0.011498233675337841, 3.241414797308927e-05, 0.0, 0.0009779522210734274, 0.041336759057872964, 0.0002442002442002442, 0.005982905982905983, 0.04607244607244607, 0.0, 0.05729166666666667, 0.04184873949579832]}\n",
      "================================================\n",
      "Epoch: [32]  [ 0/15]  eta: 0:00:26  lr: 0.000012  loss: 28.5070 (28.5070)  loss_mal: 0.8291 (0.8291)  loss_bbox: 0.6194 (0.6194)  loss_giou: 1.3411 (1.3411)  loss_fgl: 0.7695 (0.7695)  loss_mal_aux_0: 0.8091 (0.8091)  loss_bbox_aux_0: 0.6169 (0.6169)  loss_giou_aux_0: 1.3418 (1.3418)  loss_fgl_aux_0: 0.7779 (0.7779)  loss_ddf_aux_0: 0.0174 (0.0174)  loss_mal_aux_1: 0.8062 (0.8062)  loss_bbox_aux_1: 0.6168 (0.6168)  loss_giou_aux_1: 1.3416 (1.3416)  loss_fgl_aux_1: 0.7706 (0.7706)  loss_ddf_aux_1: 0.0017 (0.0017)  loss_mal_pre: 0.8066 (0.8066)  loss_bbox_pre: 0.6196 (0.6196)  loss_giou_pre: 1.3416 (1.3416)  loss_mal_enc_0: 0.7876 (0.7876)  loss_bbox_enc_0: 0.6137 (0.6137)  loss_giou_enc_0: 1.3432 (1.3432)  loss_mal_dn_0: 0.6357 (0.6357)  loss_bbox_dn_0: 0.4845 (0.4845)  loss_giou_dn_0: 1.3529 (1.3529)  loss_fgl_dn_0: 0.8116 (0.8116)  loss_ddf_dn_0: 0.0152 (0.0152)  loss_mal_dn_1: 0.6348 (0.6348)  loss_bbox_dn_1: 0.4841 (0.4841)  loss_giou_dn_1: 1.3534 (1.3534)  loss_fgl_dn_1: 0.8060 (0.8060)  loss_ddf_dn_1: 0.0013 (0.0013)  loss_mal_dn_2: 0.6357 (0.6357)  loss_bbox_dn_2: 0.4855 (0.4855)  loss_giou_dn_2: 1.3525 (1.3525)  loss_fgl_dn_2: 0.8075 (0.8075)  loss_mal_dn_pre: 0.6362 (0.6362)  loss_bbox_dn_pre: 0.4889 (0.4889)  loss_giou_dn_pre: 1.3497 (1.3497)  time: 1.7937  data: 1.2863  max mem: 10516\n"
     ]
    },
    {
     "name": "stderr",
     "output_type": "stream",
     "text": [
      "2025-03-10 14:55:57,677 - DEIMTrainer - INFO - Evaluating model...\n"
     ]
    },
    {
     "name": "stdout",
     "output_type": "stream",
     "text": [
      "Epoch: [32]  [14/15]  eta: 0:00:00  lr: 0.000012  loss: 28.5520 (28.4520)  loss_mal: 0.7090 (0.7507)  loss_bbox: 0.6194 (0.6360)  loss_giou: 1.3697 (1.3610)  loss_fgl: 0.7695 (0.7791)  loss_mal_aux_0: 0.7109 (0.7499)  loss_bbox_aux_0: 0.6169 (0.6342)  loss_giou_aux_0: 1.3700 (1.3624)  loss_fgl_aux_0: 0.7727 (0.7812)  loss_ddf_aux_0: 0.0176 (0.0175)  loss_mal_aux_1: 0.7134 (0.7491)  loss_bbox_aux_1: 0.6169 (0.6346)  loss_giou_aux_1: 1.3699 (1.3621)  loss_fgl_aux_1: 0.7706 (0.7782)  loss_ddf_aux_1: 0.0016 (0.0016)  loss_mal_pre: 0.7100 (0.7488)  loss_bbox_pre: 0.6196 (0.6355)  loss_giou_pre: 1.3696 (1.3616)  loss_mal_enc_0: 0.7056 (0.7409)  loss_bbox_enc_0: 0.6137 (0.6332)  loss_giou_enc_0: 1.3710 (1.3643)  loss_mal_dn_0: 0.6274 (0.6280)  loss_bbox_dn_0: 0.4847 (0.4949)  loss_giou_dn_0: 1.3643 (1.3656)  loss_fgl_dn_0: 0.8042 (0.8013)  loss_ddf_dn_0: 0.0150 (0.0151)  loss_mal_dn_1: 0.6265 (0.6271)  loss_bbox_dn_1: 0.4849 (0.4948)  loss_giou_dn_1: 1.3642 (1.3658)  loss_fgl_dn_1: 0.7997 (0.7979)  loss_ddf_dn_1: 0.0012 (0.0012)  loss_mal_dn_2: 0.6260 (0.6264)  loss_bbox_dn_2: 0.4860 (0.4960)  loss_giou_dn_2: 1.3631 (1.3650)  loss_fgl_dn_2: 0.8007 (0.7995)  loss_mal_dn_pre: 0.6299 (0.6294)  loss_bbox_dn_pre: 0.4889 (0.4991)  loss_giou_dn_pre: 1.3617 (1.3629)  time: 0.5823  data: 0.1065  max mem: 10516\n",
      "Epoch: [32] Total time: 0:00:08 (0.5857 s / it)\n",
      "Averaged stats: lr: 0.000012  loss: 28.5520 (28.4520)  loss_mal: 0.7090 (0.7507)  loss_bbox: 0.6194 (0.6360)  loss_giou: 1.3697 (1.3610)  loss_fgl: 0.7695 (0.7791)  loss_mal_aux_0: 0.7109 (0.7499)  loss_bbox_aux_0: 0.6169 (0.6342)  loss_giou_aux_0: 1.3700 (1.3624)  loss_fgl_aux_0: 0.7727 (0.7812)  loss_ddf_aux_0: 0.0176 (0.0175)  loss_mal_aux_1: 0.7134 (0.7491)  loss_bbox_aux_1: 0.6169 (0.6346)  loss_giou_aux_1: 1.3699 (1.3621)  loss_fgl_aux_1: 0.7706 (0.7782)  loss_ddf_aux_1: 0.0016 (0.0016)  loss_mal_pre: 0.7100 (0.7488)  loss_bbox_pre: 0.6196 (0.6355)  loss_giou_pre: 1.3696 (1.3616)  loss_mal_enc_0: 0.7056 (0.7409)  loss_bbox_enc_0: 0.6137 (0.6332)  loss_giou_enc_0: 1.3710 (1.3643)  loss_mal_dn_0: 0.6274 (0.6280)  loss_bbox_dn_0: 0.4847 (0.4949)  loss_giou_dn_0: 1.3643 (1.3656)  loss_fgl_dn_0: 0.8042 (0.8013)  loss_ddf_dn_0: 0.0150 (0.0151)  loss_mal_dn_1: 0.6265 (0.6271)  loss_bbox_dn_1: 0.4849 (0.4948)  loss_giou_dn_1: 1.3642 (1.3658)  loss_fgl_dn_1: 0.7997 (0.7979)  loss_ddf_dn_1: 0.0012 (0.0012)  loss_mal_dn_2: 0.6260 (0.6264)  loss_bbox_dn_2: 0.4860 (0.4960)  loss_giou_dn_2: 1.3631 (1.3650)  loss_fgl_dn_2: 0.8007 (0.7995)  loss_mal_dn_pre: 0.6299 (0.6294)  loss_bbox_dn_pre: 0.4889 (0.4991)  loss_giou_dn_pre: 1.3617 (1.3629)\n",
      "Test:  [0/5]  eta: 0:00:04    time: 0.8562  data: 0.5898  max mem: 10516\n"
     ]
    },
    {
     "name": "stderr",
     "output_type": "stream",
     "text": [
      "2025-03-10 14:55:59,071 - DEIMTrainer - INFO - Epoch 32 - Train loss: 28.4520, Eval mAP: 0.0024\n",
      "2025-03-10 14:55:59,071 - DEIMTrainer - INFO - Best stats: {'epoch': 27, 'coco_eval_bbox': 0.0024323514875607744}\n"
     ]
    },
    {
     "name": "stdout",
     "output_type": "stream",
     "text": [
      "Test:  [4/5]  eta: 0:00:00    time: 0.2657  data: 0.1343  max mem: 10516\n",
      "Test: Total time: 0:00:01 (0.2753 s / it)\n",
      "Averaged stats: \n",
      "Accumulating evaluation results...\n",
      "COCOeval_opt.accumulate() finished...\n",
      "DONE (t=0.01s).\n",
      "IoU metric: bbox\n",
      " Average Precision  (AP) @[ IoU=0.50:0.95 | area=   all | maxDets=100 ] = 0.002\n",
      " Average Precision  (AP) @[ IoU=0.50      | area=   all | maxDets=100 ] = 0.012\n",
      " Average Precision  (AP) @[ IoU=0.75      | area=   all | maxDets=100 ] = 0.000\n",
      " Average Precision  (AP) @[ IoU=0.50:0.95 | area= small | maxDets=100 ] = 0.000\n",
      " Average Precision  (AP) @[ IoU=0.50:0.95 | area=medium | maxDets=100 ] = 0.001\n",
      " Average Precision  (AP) @[ IoU=0.50:0.95 | area= large | maxDets=100 ] = 0.040\n",
      " Average Recall     (AR) @[ IoU=0.50:0.95 | area=   all | maxDets=  1 ] = 0.001\n",
      " Average Recall     (AR) @[ IoU=0.50:0.95 | area=   all | maxDets= 10 ] = 0.006\n",
      " Average Recall     (AR) @[ IoU=0.50:0.95 | area=   all | maxDets=100 ] = 0.048\n",
      " Average Recall     (AR) @[ IoU=0.50:0.95 | area= small | maxDets=100 ] = 0.000\n",
      " Average Recall     (AR) @[ IoU=0.50:0.95 | area=medium | maxDets=100 ] = 0.067\n",
      " Average Recall     (AR) @[ IoU=0.50:0.95 | area= large | maxDets=100 ] = 0.041\n",
      " Average Recall     (AR) @[ IoU=0.50      | area=   all | maxDets=100 ] = 0.170\n",
      " Average Recall     (AR) @[ IoU=0.75      | area=   all | maxDets=100 ] = 0.013\n",
      "================================================\n",
      "{'coco_eval_bbox': [0.0024007468259093726, 0.012183140298309596, 8.822188049565147e-05, 0.0, 0.001049804681697793, 0.03960912200509606, 0.0007326007326007327, 0.0062678062678062675, 0.04802604802604802, 0.0, 0.06726190476190476, 0.0407843137254902]}\n",
      "================================================\n",
      "Epoch: [33]  [ 0/15]  eta: 0:00:32  lr: 0.000012  loss: 28.5306 (28.5306)  loss_mal: 0.8315 (0.8315)  loss_bbox: 0.5861 (0.5861)  loss_giou: 1.2917 (1.2917)  loss_fgl: 0.8370 (0.8370)  loss_mal_aux_0: 0.8359 (0.8359)  loss_bbox_aux_0: 0.5861 (0.5861)  loss_giou_aux_0: 1.2945 (1.2945)  loss_fgl_aux_0: 0.8356 (0.8356)  loss_ddf_aux_0: 0.0159 (0.0159)  loss_mal_aux_1: 0.8262 (0.8262)  loss_bbox_aux_1: 0.5860 (0.5860)  loss_giou_aux_1: 1.2939 (1.2939)  loss_fgl_aux_1: 0.8351 (0.8351)  loss_ddf_aux_1: 0.0013 (0.0013)  loss_mal_pre: 0.8354 (0.8354)  loss_bbox_pre: 0.5868 (0.5868)  loss_giou_pre: 1.2925 (1.2925)  loss_mal_enc_0: 0.8262 (0.8262)  loss_bbox_enc_0: 0.5861 (0.5861)  loss_giou_enc_0: 1.2963 (1.2963)  loss_mal_dn_0: 0.6226 (0.6226)  loss_bbox_dn_0: 0.5210 (0.5210)  loss_giou_dn_0: 1.3747 (1.3747)  loss_fgl_dn_0: 0.7896 (0.7896)  loss_ddf_dn_0: 0.0125 (0.0125)  loss_mal_dn_1: 0.6206 (0.6206)  loss_bbox_dn_1: 0.5208 (0.5208)  loss_giou_dn_1: 1.3747 (1.3747)  loss_fgl_dn_1: 0.7862 (0.7862)  loss_ddf_dn_1: 0.0009 (0.0009)  loss_mal_dn_2: 0.6206 (0.6206)  loss_bbox_dn_2: 0.5219 (0.5219)  loss_giou_dn_2: 1.3739 (1.3739)  loss_fgl_dn_2: 0.7875 (0.7875)  loss_mal_dn_pre: 0.6245 (0.6245)  loss_bbox_dn_pre: 0.5258 (0.5258)  loss_giou_dn_pre: 1.3726 (1.3726)  time: 2.1404  data: 1.5771  max mem: 10516\n"
     ]
    },
    {
     "name": "stderr",
     "output_type": "stream",
     "text": [
      "2025-03-10 14:56:07,881 - DEIMTrainer - INFO - Evaluating model...\n"
     ]
    },
    {
     "name": "stdout",
     "output_type": "stream",
     "text": [
      "Epoch: [33]  [14/15]  eta: 0:00:00  lr: 0.000013  loss: 28.9155 (28.9271)  loss_mal: 0.7744 (0.7773)  loss_bbox: 0.6997 (0.6750)  loss_giou: 1.3317 (1.3687)  loss_fgl: 0.8022 (0.7864)  loss_mal_aux_0: 0.7690 (0.7713)  loss_bbox_aux_0: 0.7000 (0.6733)  loss_giou_aux_0: 1.3348 (1.3709)  loss_fgl_aux_0: 0.7971 (0.7861)  loss_ddf_aux_0: 0.0159 (0.0154)  loss_mal_aux_1: 0.7715 (0.7742)  loss_bbox_aux_1: 0.6999 (0.6739)  loss_giou_aux_1: 1.3337 (1.3701)  loss_fgl_aux_1: 0.7995 (0.7851)  loss_ddf_aux_1: 0.0012 (0.0012)  loss_mal_pre: 0.7676 (0.7705)  loss_bbox_pre: 0.7000 (0.6738)  loss_giou_pre: 1.3342 (1.3701)  loss_mal_enc_0: 0.7778 (0.7655)  loss_bbox_enc_0: 0.7005 (0.6725)  loss_giou_enc_0: 1.3387 (1.3729)  loss_mal_dn_0: 0.6245 (0.6253)  loss_bbox_dn_0: 0.5174 (0.5256)  loss_giou_dn_0: 1.3666 (1.3634)  loss_fgl_dn_0: 0.7932 (0.7996)  loss_ddf_dn_0: 0.0125 (0.0124)  loss_mal_dn_1: 0.6240 (0.6248)  loss_bbox_dn_1: 0.5183 (0.5258)  loss_giou_dn_1: 1.3665 (1.3632)  loss_fgl_dn_1: 0.7946 (0.7993)  loss_ddf_dn_1: 0.0008 (0.0008)  loss_mal_dn_2: 0.6240 (0.6254)  loss_bbox_dn_2: 0.5198 (0.5269)  loss_giou_dn_2: 1.3655 (1.3621)  loss_fgl_dn_2: 0.7969 (0.8013)  loss_mal_dn_pre: 0.6260 (0.6271)  loss_bbox_dn_pre: 0.5198 (0.5291)  loss_giou_dn_pre: 1.3640 (1.3605)  time: 0.5826  data: 0.1293  max mem: 10516\n",
      "Epoch: [33] Total time: 0:00:08 (0.5861 s / it)\n",
      "Averaged stats: lr: 0.000013  loss: 28.9155 (28.9271)  loss_mal: 0.7744 (0.7773)  loss_bbox: 0.6997 (0.6750)  loss_giou: 1.3317 (1.3687)  loss_fgl: 0.8022 (0.7864)  loss_mal_aux_0: 0.7690 (0.7713)  loss_bbox_aux_0: 0.7000 (0.6733)  loss_giou_aux_0: 1.3348 (1.3709)  loss_fgl_aux_0: 0.7971 (0.7861)  loss_ddf_aux_0: 0.0159 (0.0154)  loss_mal_aux_1: 0.7715 (0.7742)  loss_bbox_aux_1: 0.6999 (0.6739)  loss_giou_aux_1: 1.3337 (1.3701)  loss_fgl_aux_1: 0.7995 (0.7851)  loss_ddf_aux_1: 0.0012 (0.0012)  loss_mal_pre: 0.7676 (0.7705)  loss_bbox_pre: 0.7000 (0.6738)  loss_giou_pre: 1.3342 (1.3701)  loss_mal_enc_0: 0.7778 (0.7655)  loss_bbox_enc_0: 0.7005 (0.6725)  loss_giou_enc_0: 1.3387 (1.3729)  loss_mal_dn_0: 0.6245 (0.6253)  loss_bbox_dn_0: 0.5174 (0.5256)  loss_giou_dn_0: 1.3666 (1.3634)  loss_fgl_dn_0: 0.7932 (0.7996)  loss_ddf_dn_0: 0.0125 (0.0124)  loss_mal_dn_1: 0.6240 (0.6248)  loss_bbox_dn_1: 0.5183 (0.5258)  loss_giou_dn_1: 1.3665 (1.3632)  loss_fgl_dn_1: 0.7946 (0.7993)  loss_ddf_dn_1: 0.0008 (0.0008)  loss_mal_dn_2: 0.6240 (0.6254)  loss_bbox_dn_2: 0.5198 (0.5269)  loss_giou_dn_2: 1.3655 (1.3621)  loss_fgl_dn_2: 0.7969 (0.8013)  loss_mal_dn_pre: 0.6260 (0.6271)  loss_bbox_dn_pre: 0.5198 (0.5291)  loss_giou_dn_pre: 1.3640 (1.3605)\n",
      "Test:  [0/5]  eta: 0:00:03    time: 0.7262  data: 0.6179  max mem: 10516\n"
     ]
    },
    {
     "name": "stderr",
     "output_type": "stream",
     "text": [
      "2025-03-10 14:56:09,285 - DEIMTrainer - INFO - Saving checkpoint to outputs/deim_hgnetv2_s_coco/best.pth\n"
     ]
    },
    {
     "name": "stdout",
     "output_type": "stream",
     "text": [
      "Test:  [4/5]  eta: 0:00:00    time: 0.2653  data: 0.1343  max mem: 10516\n",
      "Test: Total time: 0:00:01 (0.2753 s / it)\n",
      "Averaged stats: \n",
      "Accumulating evaluation results...\n",
      "COCOeval_opt.accumulate() finished...\n",
      "DONE (t=0.01s).\n",
      "IoU metric: bbox\n",
      " Average Precision  (AP) @[ IoU=0.50:0.95 | area=   all | maxDets=100 ] = 0.005\n",
      " Average Precision  (AP) @[ IoU=0.50      | area=   all | maxDets=100 ] = 0.021\n",
      " Average Precision  (AP) @[ IoU=0.75      | area=   all | maxDets=100 ] = 0.000\n",
      " Average Precision  (AP) @[ IoU=0.50:0.95 | area= small | maxDets=100 ] = 0.000\n",
      " Average Precision  (AP) @[ IoU=0.50:0.95 | area=medium | maxDets=100 ] = 0.003\n",
      " Average Precision  (AP) @[ IoU=0.50:0.95 | area= large | maxDets=100 ] = 0.024\n",
      " Average Recall     (AR) @[ IoU=0.50:0.95 | area=   all | maxDets=  1 ] = 0.002\n",
      " Average Recall     (AR) @[ IoU=0.50:0.95 | area=   all | maxDets= 10 ] = 0.010\n",
      " Average Recall     (AR) @[ IoU=0.50:0.95 | area=   all | maxDets=100 ] = 0.063\n",
      " Average Recall     (AR) @[ IoU=0.50:0.95 | area= small | maxDets=100 ] = 0.000\n",
      " Average Recall     (AR) @[ IoU=0.50:0.95 | area=medium | maxDets=100 ] = 0.069\n",
      " Average Recall     (AR) @[ IoU=0.50:0.95 | area= large | maxDets=100 ] = 0.060\n",
      " Average Recall     (AR) @[ IoU=0.50      | area=   all | maxDets=100 ] = 0.194\n",
      " Average Recall     (AR) @[ IoU=0.75      | area=   all | maxDets=100 ] = 0.021\n",
      "================================================\n",
      "{'coco_eval_bbox': [0.005187562510777595, 0.02090621635055744, 0.00039931751917639393, 0.0, 0.0028160946743800656, 0.023531442240892285, 0.0018315018315018315, 0.009686609686609686, 0.06267806267806268, 0.0, 0.06949404761904761, 0.06011204481792717]}\n",
      "================================================\n"
     ]
    },
    {
     "name": "stderr",
     "output_type": "stream",
     "text": [
      "2025-03-10 14:56:09,618 - DEIMTrainer - INFO - Checkpoint saved to outputs/deim_hgnetv2_s_coco/best.pth\n",
      "2025-03-10 14:56:09,620 - DEIMTrainer - INFO - Epoch 33 - Train loss: 28.9271, Eval mAP: 0.0052\n",
      "2025-03-10 14:56:09,620 - DEIMTrainer - INFO - Best stats: {'epoch': 33, 'coco_eval_bbox': 0.005187562510777595}\n"
     ]
    },
    {
     "name": "stdout",
     "output_type": "stream",
     "text": [
      "Epoch: [34]  [ 0/15]  eta: 0:00:30  lr: 0.000013  loss: 27.7623 (27.7623)  loss_mal: 0.8027 (0.8027)  loss_bbox: 0.5527 (0.5527)  loss_giou: 1.2515 (1.2515)  loss_fgl: 0.8401 (0.8401)  loss_mal_aux_0: 0.8018 (0.8018)  loss_bbox_aux_0: 0.5474 (0.5474)  loss_giou_aux_0: 1.2513 (1.2513)  loss_fgl_aux_0: 0.8444 (0.8444)  loss_ddf_aux_0: 0.0146 (0.0146)  loss_mal_aux_1: 0.8047 (0.8047)  loss_bbox_aux_1: 0.5498 (0.5498)  loss_giou_aux_1: 1.2513 (1.2513)  loss_fgl_aux_1: 0.8408 (0.8408)  loss_ddf_aux_1: 0.0011 (0.0011)  loss_mal_pre: 0.8013 (0.8013)  loss_bbox_pre: 0.5473 (0.5473)  loss_giou_pre: 1.2515 (1.2515)  loss_mal_enc_0: 0.8096 (0.8096)  loss_bbox_enc_0: 0.5432 (0.5432)  loss_giou_enc_0: 1.2507 (1.2507)  loss_mal_dn_0: 0.6353 (0.6353)  loss_bbox_dn_0: 0.4546 (0.4546)  loss_giou_dn_0: 1.3550 (1.3550)  loss_fgl_dn_0: 0.8049 (0.8049)  loss_ddf_dn_0: 0.0110 (0.0110)  loss_mal_dn_1: 0.6328 (0.6328)  loss_bbox_dn_1: 0.4560 (0.4560)  loss_giou_dn_1: 1.3545 (1.3545)  loss_fgl_dn_1: 0.8052 (0.8052)  loss_ddf_dn_1: 0.0007 (0.0007)  loss_mal_dn_2: 0.6304 (0.6304)  loss_bbox_dn_2: 0.4578 (0.4578)  loss_giou_dn_2: 1.3537 (1.3537)  loss_fgl_dn_2: 0.8067 (0.8067)  loss_mal_dn_pre: 0.6362 (0.6362)  loss_bbox_dn_pre: 0.4566 (0.4566)  loss_giou_dn_pre: 1.3531 (1.3531)  time: 2.0606  data: 1.4826  max mem: 10516\n"
     ]
    },
    {
     "name": "stderr",
     "output_type": "stream",
     "text": [
      "2025-03-10 14:56:18,525 - DEIMTrainer - INFO - Evaluating model...\n"
     ]
    },
    {
     "name": "stdout",
     "output_type": "stream",
     "text": [
      "Epoch: [34]  [14/15]  eta: 0:00:00  lr: 0.000014  loss: 28.4014 (28.5777)  loss_mal: 0.6963 (0.7469)  loss_bbox: 0.6255 (0.6499)  loss_giou: 1.3624 (1.3643)  loss_fgl: 0.7549 (0.7806)  loss_mal_aux_0: 0.6885 (0.7459)  loss_bbox_aux_0: 0.6205 (0.6475)  loss_giou_aux_0: 1.3626 (1.3656)  loss_fgl_aux_0: 0.7556 (0.7803)  loss_ddf_aux_0: 0.0129 (0.0130)  loss_mal_aux_1: 0.6938 (0.7462)  loss_bbox_aux_1: 0.6228 (0.6485)  loss_giou_aux_1: 1.3625 (1.3650)  loss_fgl_aux_1: 0.7540 (0.7799)  loss_ddf_aux_1: 0.0010 (0.0009)  loss_mal_pre: 0.6880 (0.7449)  loss_bbox_pre: 0.6198 (0.6475)  loss_giou_pre: 1.3627 (1.3658)  loss_mal_enc_0: 0.6792 (0.7395)  loss_bbox_enc_0: 0.6153 (0.6455)  loss_giou_enc_0: 1.3627 (1.3675)  loss_mal_dn_0: 0.6250 (0.6246)  loss_bbox_dn_0: 0.5023 (0.5123)  loss_giou_dn_0: 1.3716 (1.3708)  loss_fgl_dn_0: 0.7953 (0.7950)  loss_ddf_dn_0: 0.0100 (0.0099)  loss_mal_dn_1: 0.6245 (0.6240)  loss_bbox_dn_1: 0.5031 (0.5130)  loss_giou_dn_1: 1.3713 (1.3703)  loss_fgl_dn_1: 0.7967 (0.7963)  loss_ddf_dn_1: 0.0006 (0.0006)  loss_mal_dn_2: 0.6255 (0.6251)  loss_bbox_dn_2: 0.5046 (0.5144)  loss_giou_dn_2: 1.3703 (1.3693)  loss_fgl_dn_2: 0.7979 (0.7979)  loss_mal_dn_pre: 0.6250 (0.6252)  loss_bbox_dn_pre: 0.5046 (0.5147)  loss_giou_dn_pre: 1.3693 (1.3691)  time: 0.5879  data: 0.1170  max mem: 10586\n",
      "Epoch: [34] Total time: 0:00:08 (0.5923 s / it)\n",
      "Averaged stats: lr: 0.000014  loss: 28.4014 (28.5777)  loss_mal: 0.6963 (0.7469)  loss_bbox: 0.6255 (0.6499)  loss_giou: 1.3624 (1.3643)  loss_fgl: 0.7549 (0.7806)  loss_mal_aux_0: 0.6885 (0.7459)  loss_bbox_aux_0: 0.6205 (0.6475)  loss_giou_aux_0: 1.3626 (1.3656)  loss_fgl_aux_0: 0.7556 (0.7803)  loss_ddf_aux_0: 0.0129 (0.0130)  loss_mal_aux_1: 0.6938 (0.7462)  loss_bbox_aux_1: 0.6228 (0.6485)  loss_giou_aux_1: 1.3625 (1.3650)  loss_fgl_aux_1: 0.7540 (0.7799)  loss_ddf_aux_1: 0.0010 (0.0009)  loss_mal_pre: 0.6880 (0.7449)  loss_bbox_pre: 0.6198 (0.6475)  loss_giou_pre: 1.3627 (1.3658)  loss_mal_enc_0: 0.6792 (0.7395)  loss_bbox_enc_0: 0.6153 (0.6455)  loss_giou_enc_0: 1.3627 (1.3675)  loss_mal_dn_0: 0.6250 (0.6246)  loss_bbox_dn_0: 0.5023 (0.5123)  loss_giou_dn_0: 1.3716 (1.3708)  loss_fgl_dn_0: 0.7953 (0.7950)  loss_ddf_dn_0: 0.0100 (0.0099)  loss_mal_dn_1: 0.6245 (0.6240)  loss_bbox_dn_1: 0.5031 (0.5130)  loss_giou_dn_1: 1.3713 (1.3703)  loss_fgl_dn_1: 0.7967 (0.7963)  loss_ddf_dn_1: 0.0006 (0.0006)  loss_mal_dn_2: 0.6255 (0.6251)  loss_bbox_dn_2: 0.5046 (0.5144)  loss_giou_dn_2: 1.3703 (1.3693)  loss_fgl_dn_2: 0.7979 (0.7979)  loss_mal_dn_pre: 0.6250 (0.6252)  loss_bbox_dn_pre: 0.5046 (0.5147)  loss_giou_dn_pre: 1.3693 (1.3691)\n",
      "Test:  [0/5]  eta: 0:00:03    time: 0.7673  data: 0.6528  max mem: 10586\n"
     ]
    },
    {
     "name": "stderr",
     "output_type": "stream",
     "text": [
      "2025-03-10 14:56:20,029 - DEIMTrainer - INFO - Epoch 34 - Train loss: 28.5777, Eval mAP: 0.0039\n",
      "2025-03-10 14:56:20,029 - DEIMTrainer - INFO - Best stats: {'epoch': 33, 'coco_eval_bbox': 0.005187562510777595}\n"
     ]
    },
    {
     "name": "stdout",
     "output_type": "stream",
     "text": [
      "Test:  [4/5]  eta: 0:00:00    time: 0.2848  data: 0.1439  max mem: 10586\n",
      "Test: Total time: 0:00:01 (0.2966 s / it)\n",
      "Averaged stats: \n",
      "Accumulating evaluation results...\n",
      "COCOeval_opt.accumulate() finished...\n",
      "DONE (t=0.01s).\n",
      "IoU metric: bbox\n",
      " Average Precision  (AP) @[ IoU=0.50:0.95 | area=   all | maxDets=100 ] = 0.004\n",
      " Average Precision  (AP) @[ IoU=0.50      | area=   all | maxDets=100 ] = 0.019\n",
      " Average Precision  (AP) @[ IoU=0.75      | area=   all | maxDets=100 ] = 0.000\n",
      " Average Precision  (AP) @[ IoU=0.50:0.95 | area= small | maxDets=100 ] = 0.000\n",
      " Average Precision  (AP) @[ IoU=0.50:0.95 | area=medium | maxDets=100 ] = 0.001\n",
      " Average Precision  (AP) @[ IoU=0.50:0.95 | area= large | maxDets=100 ] = 0.025\n",
      " Average Recall     (AR) @[ IoU=0.50:0.95 | area=   all | maxDets=  1 ] = 0.001\n",
      " Average Recall     (AR) @[ IoU=0.50:0.95 | area=   all | maxDets= 10 ] = 0.007\n",
      " Average Recall     (AR) @[ IoU=0.50:0.95 | area=   all | maxDets=100 ] = 0.060\n",
      " Average Recall     (AR) @[ IoU=0.50:0.95 | area= small | maxDets=100 ] = 0.000\n",
      " Average Recall     (AR) @[ IoU=0.50:0.95 | area=medium | maxDets=100 ] = 0.071\n",
      " Average Recall     (AR) @[ IoU=0.50:0.95 | area= large | maxDets=100 ] = 0.057\n",
      " Average Recall     (AR) @[ IoU=0.50      | area=   all | maxDets=100 ] = 0.194\n",
      " Average Recall     (AR) @[ IoU=0.75      | area=   all | maxDets=100 ] = 0.018\n",
      "================================================\n",
      "{'coco_eval_bbox': [0.003860739076834674, 0.0192442746478225, 0.00017661432509366375, 0.0, 0.0014117581180675797, 0.025088785240804948, 0.0010175010175010176, 0.007407407407407407, 0.06039886039886041, 0.0, 0.07068452380952381, 0.05652661064425771]}\n",
      "================================================\n",
      "Epoch: [35]  [ 0/15]  eta: 0:00:34  lr: 0.000014  loss: 28.2554 (28.2554)  loss_mal: 0.6147 (0.6147)  loss_bbox: 0.6823 (0.6823)  loss_giou: 1.5176 (1.5176)  loss_fgl: 0.6648 (0.6648)  loss_mal_aux_0: 0.6162 (0.6162)  loss_bbox_aux_0: 0.6802 (0.6802)  loss_giou_aux_0: 1.5180 (1.5180)  loss_fgl_aux_0: 0.6600 (0.6600)  loss_ddf_aux_0: 0.0105 (0.0105)  loss_mal_aux_1: 0.6157 (0.6157)  loss_bbox_aux_1: 0.6806 (0.6806)  loss_giou_aux_1: 1.5181 (1.5181)  loss_fgl_aux_1: 0.6633 (0.6633)  loss_ddf_aux_1: 0.0007 (0.0007)  loss_mal_pre: 0.6157 (0.6157)  loss_bbox_pre: 0.6808 (0.6808)  loss_giou_pre: 1.5175 (1.5175)  loss_mal_enc_0: 0.6128 (0.6128)  loss_bbox_enc_0: 0.6776 (0.6776)  loss_giou_enc_0: 1.5188 (1.5188)  loss_mal_dn_0: 0.6128 (0.6128)  loss_bbox_dn_0: 0.4645 (0.4645)  loss_giou_dn_0: 1.3773 (1.3773)  loss_fgl_dn_0: 0.7854 (0.7854)  loss_ddf_dn_0: 0.0083 (0.0083)  loss_mal_dn_1: 0.6128 (0.6128)  loss_bbox_dn_1: 0.4644 (0.4644)  loss_giou_dn_1: 1.3775 (1.3775)  loss_fgl_dn_1: 0.7855 (0.7855)  loss_ddf_dn_1: 0.0004 (0.0004)  loss_mal_dn_2: 0.6152 (0.6152)  loss_bbox_dn_2: 0.4652 (0.4652)  loss_giou_dn_2: 1.3770 (1.3770)  loss_fgl_dn_2: 0.7864 (0.7864)  loss_mal_dn_pre: 0.6138 (0.6138)  loss_bbox_dn_pre: 0.4677 (0.4677)  loss_giou_dn_pre: 1.3751 (1.3751)  time: 2.3122  data: 1.6675  max mem: 10586\n"
     ]
    },
    {
     "name": "stderr",
     "output_type": "stream",
     "text": [
      "2025-03-10 14:56:29,105 - DEIMTrainer - INFO - Saving checkpoint to outputs/deim_hgnetv2_s_coco/checkpoint0035.pth\n"
     ]
    },
    {
     "name": "stdout",
     "output_type": "stream",
     "text": [
      "Epoch: [35]  [14/15]  eta: 0:00:00  lr: 0.000015  loss: 28.6085 (28.5924)  loss_mal: 0.6948 (0.7447)  loss_bbox: 0.6581 (0.6481)  loss_giou: 1.3821 (1.3900)  loss_fgl: 0.7524 (0.7709)  loss_mal_aux_0: 0.6938 (0.7424)  loss_bbox_aux_0: 0.6582 (0.6477)  loss_giou_aux_0: 1.3826 (1.3902)  loss_fgl_aux_0: 0.7508 (0.7682)  loss_ddf_aux_0: 0.0095 (0.0097)  loss_mal_aux_1: 0.6919 (0.7431)  loss_bbox_aux_1: 0.6583 (0.6477)  loss_giou_aux_1: 1.3827 (1.3907)  loss_fgl_aux_1: 0.7511 (0.7698)  loss_ddf_aux_1: 0.0006 (0.0006)  loss_mal_pre: 0.6938 (0.7416)  loss_bbox_pre: 0.6581 (0.6479)  loss_giou_pre: 1.3821 (1.3894)  loss_mal_enc_0: 0.6904 (0.7373)  loss_bbox_enc_0: 0.6603 (0.6474)  loss_giou_enc_0: 1.3834 (1.3910)  loss_mal_dn_0: 0.6235 (0.6217)  loss_bbox_dn_0: 0.5017 (0.5040)  loss_giou_dn_0: 1.3701 (1.3714)  loss_fgl_dn_0: 0.7933 (0.7915)  loss_ddf_dn_0: 0.0069 (0.0071)  loss_mal_dn_1: 0.6245 (0.6209)  loss_bbox_dn_1: 0.5011 (0.5037)  loss_giou_dn_1: 1.3702 (1.3716)  loss_fgl_dn_1: 0.7948 (0.7924)  loss_ddf_dn_1: 0.0004 (0.0005)  loss_mal_dn_2: 0.6211 (0.6215)  loss_bbox_dn_2: 0.5014 (0.5043)  loss_giou_dn_2: 1.3695 (1.3710)  loss_fgl_dn_2: 0.7960 (0.7933)  loss_mal_dn_pre: 0.6240 (0.6231)  loss_bbox_dn_pre: 0.5046 (0.5068)  loss_giou_dn_pre: 1.3679 (1.3691)  time: 0.5989  data: 0.1251  max mem: 10586\n",
      "Epoch: [35] Total time: 0:00:09 (0.6036 s / it)\n",
      "Averaged stats: lr: 0.000015  loss: 28.6085 (28.5924)  loss_mal: 0.6948 (0.7447)  loss_bbox: 0.6581 (0.6481)  loss_giou: 1.3821 (1.3900)  loss_fgl: 0.7524 (0.7709)  loss_mal_aux_0: 0.6938 (0.7424)  loss_bbox_aux_0: 0.6582 (0.6477)  loss_giou_aux_0: 1.3826 (1.3902)  loss_fgl_aux_0: 0.7508 (0.7682)  loss_ddf_aux_0: 0.0095 (0.0097)  loss_mal_aux_1: 0.6919 (0.7431)  loss_bbox_aux_1: 0.6583 (0.6477)  loss_giou_aux_1: 1.3827 (1.3907)  loss_fgl_aux_1: 0.7511 (0.7698)  loss_ddf_aux_1: 0.0006 (0.0006)  loss_mal_pre: 0.6938 (0.7416)  loss_bbox_pre: 0.6581 (0.6479)  loss_giou_pre: 1.3821 (1.3894)  loss_mal_enc_0: 0.6904 (0.7373)  loss_bbox_enc_0: 0.6603 (0.6474)  loss_giou_enc_0: 1.3834 (1.3910)  loss_mal_dn_0: 0.6235 (0.6217)  loss_bbox_dn_0: 0.5017 (0.5040)  loss_giou_dn_0: 1.3701 (1.3714)  loss_fgl_dn_0: 0.7933 (0.7915)  loss_ddf_dn_0: 0.0069 (0.0071)  loss_mal_dn_1: 0.6245 (0.6209)  loss_bbox_dn_1: 0.5011 (0.5037)  loss_giou_dn_1: 1.3702 (1.3716)  loss_fgl_dn_1: 0.7948 (0.7924)  loss_ddf_dn_1: 0.0004 (0.0005)  loss_mal_dn_2: 0.6211 (0.6215)  loss_bbox_dn_2: 0.5014 (0.5043)  loss_giou_dn_2: 1.3695 (1.3710)  loss_fgl_dn_2: 0.7960 (0.7933)  loss_mal_dn_pre: 0.6240 (0.6231)  loss_bbox_dn_pre: 0.5046 (0.5068)  loss_giou_dn_pre: 1.3679 (1.3691)\n"
     ]
    },
    {
     "name": "stderr",
     "output_type": "stream",
     "text": [
      "2025-03-10 14:56:29,363 - DEIMTrainer - INFO - Checkpoint saved to outputs/deim_hgnetv2_s_coco/checkpoint0035.pth\n",
      "2025-03-10 14:56:29,365 - DEIMTrainer - INFO - Evaluating model...\n"
     ]
    },
    {
     "name": "stdout",
     "output_type": "stream",
     "text": [
      "Test:  [0/5]  eta: 0:00:03    time: 0.7530  data: 0.6430  max mem: 10586\n"
     ]
    },
    {
     "name": "stderr",
     "output_type": "stream",
     "text": [
      "2025-03-10 14:56:30,883 - DEIMTrainer - INFO - Epoch 35 - Train loss: 28.5924, Eval mAP: 0.0019\n",
      "2025-03-10 14:56:30,883 - DEIMTrainer - INFO - Best stats: {'epoch': 33, 'coco_eval_bbox': 0.005187562510777595}\n"
     ]
    },
    {
     "name": "stdout",
     "output_type": "stream",
     "text": [
      "Test:  [4/5]  eta: 0:00:00    time: 0.2863  data: 0.1428  max mem: 10586\n",
      "Test: Total time: 0:00:01 (0.2999 s / it)\n",
      "Averaged stats: \n",
      "Accumulating evaluation results...\n",
      "COCOeval_opt.accumulate() finished...\n",
      "DONE (t=0.01s).\n",
      "IoU metric: bbox\n",
      " Average Precision  (AP) @[ IoU=0.50:0.95 | area=   all | maxDets=100 ] = 0.002\n",
      " Average Precision  (AP) @[ IoU=0.50      | area=   all | maxDets=100 ] = 0.011\n",
      " Average Precision  (AP) @[ IoU=0.75      | area=   all | maxDets=100 ] = 0.000\n",
      " Average Precision  (AP) @[ IoU=0.50:0.95 | area= small | maxDets=100 ] = 0.000\n",
      " Average Precision  (AP) @[ IoU=0.50:0.95 | area=medium | maxDets=100 ] = 0.001\n",
      " Average Precision  (AP) @[ IoU=0.50:0.95 | area= large | maxDets=100 ] = 0.023\n",
      " Average Recall     (AR) @[ IoU=0.50:0.95 | area=   all | maxDets=  1 ] = 0.001\n",
      " Average Recall     (AR) @[ IoU=0.50:0.95 | area=   all | maxDets= 10 ] = 0.005\n",
      " Average Recall     (AR) @[ IoU=0.50:0.95 | area=   all | maxDets=100 ] = 0.044\n",
      " Average Recall     (AR) @[ IoU=0.50:0.95 | area= small | maxDets=100 ] = 0.000\n",
      " Average Recall     (AR) @[ IoU=0.50:0.95 | area=medium | maxDets=100 ] = 0.051\n",
      " Average Recall     (AR) @[ IoU=0.50:0.95 | area= large | maxDets=100 ] = 0.041\n",
      " Average Recall     (AR) @[ IoU=0.50      | area=   all | maxDets=100 ] = 0.155\n",
      " Average Recall     (AR) @[ IoU=0.75      | area=   all | maxDets=100 ] = 0.012\n",
      "================================================\n",
      "{'coco_eval_bbox': [0.0019380079343521244, 0.010565213268428167, 9.353048838944379e-05, 0.0, 0.0008202671437302046, 0.022593196498138984, 0.0008954008954008954, 0.005006105006105006, 0.04358974358974359, 0.0, 0.050595238095238096, 0.040952380952380955]}\n",
      "================================================\n",
      "Epoch: [36]  [ 0/15]  eta: 0:00:33  lr: 0.000015  loss: 28.8493 (28.8493)  loss_mal: 0.6494 (0.6494)  loss_bbox: 0.7213 (0.7213)  loss_giou: 1.4750 (1.4750)  loss_fgl: 0.7144 (0.7144)  loss_mal_aux_0: 0.6416 (0.6416)  loss_bbox_aux_0: 0.7208 (0.7208)  loss_giou_aux_0: 1.4769 (1.4769)  loss_fgl_aux_0: 0.7093 (0.7093)  loss_ddf_aux_0: 0.0083 (0.0083)  loss_mal_aux_1: 0.6509 (0.6509)  loss_bbox_aux_1: 0.7209 (0.7209)  loss_giou_aux_1: 1.4762 (1.4762)  loss_fgl_aux_1: 0.7128 (0.7128)  loss_ddf_aux_1: 0.0005 (0.0005)  loss_mal_pre: 0.6406 (0.6406)  loss_bbox_pre: 0.7202 (0.7202)  loss_giou_pre: 1.4789 (1.4789)  loss_mal_enc_0: 0.6382 (0.6382)  loss_bbox_enc_0: 0.7204 (0.7204)  loss_giou_enc_0: 1.4819 (1.4819)  loss_mal_dn_0: 0.6367 (0.6367)  loss_bbox_dn_0: 0.5276 (0.5276)  loss_giou_dn_0: 1.3508 (1.3508)  loss_fgl_dn_0: 0.8069 (0.8069)  loss_ddf_dn_0: 0.0063 (0.0063)  loss_mal_dn_1: 0.6367 (0.6367)  loss_bbox_dn_1: 0.5286 (0.5286)  loss_giou_dn_1: 1.3506 (1.3506)  loss_fgl_dn_1: 0.8070 (0.8070)  loss_ddf_dn_1: 0.0005 (0.0005)  loss_mal_dn_2: 0.6357 (0.6357)  loss_bbox_dn_2: 0.5301 (0.5301)  loss_giou_dn_2: 1.3500 (1.3500)  loss_fgl_dn_2: 0.8078 (0.8078)  loss_mal_dn_pre: 0.6367 (0.6367)  loss_bbox_dn_pre: 0.5283 (0.5283)  loss_giou_dn_pre: 1.3504 (1.3504)  time: 2.2168  data: 1.6015  max mem: 10586\n"
     ]
    },
    {
     "name": "stderr",
     "output_type": "stream",
     "text": [
      "2025-03-10 14:56:39,971 - DEIMTrainer - INFO - Evaluating model...\n"
     ]
    },
    {
     "name": "stdout",
     "output_type": "stream",
     "text": [
      "Epoch: [36]  [14/15]  eta: 0:00:00  lr: 0.000015  loss: 28.5466 (28.9509)  loss_mal: 0.6953 (0.7478)  loss_bbox: 0.6697 (0.6924)  loss_giou: 1.3822 (1.3799)  loss_fgl: 0.7605 (0.7777)  loss_mal_aux_0: 0.6914 (0.7473)  loss_bbox_aux_0: 0.6647 (0.6898)  loss_giou_aux_0: 1.3835 (1.3814)  loss_fgl_aux_0: 0.7542 (0.7762)  loss_ddf_aux_0: 0.0072 (0.0072)  loss_mal_aux_1: 0.6919 (0.7472)  loss_bbox_aux_1: 0.6669 (0.6910)  loss_giou_aux_1: 1.3829 (1.3807)  loss_fgl_aux_1: 0.7585 (0.7771)  loss_ddf_aux_1: 0.0005 (0.0005)  loss_mal_pre: 0.6870 (0.7461)  loss_bbox_pre: 0.6577 (0.6865)  loss_giou_pre: 1.3854 (1.3836)  loss_mal_enc_0: 0.6802 (0.7415)  loss_bbox_enc_0: 0.6522 (0.6846)  loss_giou_enc_0: 1.3876 (1.3860)  loss_mal_dn_0: 0.6265 (0.6300)  loss_bbox_dn_0: 0.5193 (0.5397)  loss_giou_dn_0: 1.3629 (1.3564)  loss_fgl_dn_0: 0.8069 (0.8044)  loss_ddf_dn_0: 0.0050 (0.0052)  loss_mal_dn_1: 0.6265 (0.6290)  loss_bbox_dn_1: 0.5200 (0.5412)  loss_giou_dn_1: 1.3622 (1.3557)  loss_fgl_dn_1: 0.8070 (0.8055)  loss_ddf_dn_1: 0.0004 (0.0004)  loss_mal_dn_2: 0.6265 (0.6299)  loss_bbox_dn_2: 0.5210 (0.5429)  loss_giou_dn_2: 1.3620 (1.3552)  loss_fgl_dn_2: 0.8078 (0.8062)  loss_mal_dn_pre: 0.6255 (0.6293)  loss_bbox_dn_pre: 0.5190 (0.5386)  loss_giou_dn_pre: 1.3639 (1.3572)  time: 0.5998  data: 0.1256  max mem: 10586\n",
      "Epoch: [36] Total time: 0:00:09 (0.6045 s / it)\n",
      "Averaged stats: lr: 0.000015  loss: 28.5466 (28.9509)  loss_mal: 0.6953 (0.7478)  loss_bbox: 0.6697 (0.6924)  loss_giou: 1.3822 (1.3799)  loss_fgl: 0.7605 (0.7777)  loss_mal_aux_0: 0.6914 (0.7473)  loss_bbox_aux_0: 0.6647 (0.6898)  loss_giou_aux_0: 1.3835 (1.3814)  loss_fgl_aux_0: 0.7542 (0.7762)  loss_ddf_aux_0: 0.0072 (0.0072)  loss_mal_aux_1: 0.6919 (0.7472)  loss_bbox_aux_1: 0.6669 (0.6910)  loss_giou_aux_1: 1.3829 (1.3807)  loss_fgl_aux_1: 0.7585 (0.7771)  loss_ddf_aux_1: 0.0005 (0.0005)  loss_mal_pre: 0.6870 (0.7461)  loss_bbox_pre: 0.6577 (0.6865)  loss_giou_pre: 1.3854 (1.3836)  loss_mal_enc_0: 0.6802 (0.7415)  loss_bbox_enc_0: 0.6522 (0.6846)  loss_giou_enc_0: 1.3876 (1.3860)  loss_mal_dn_0: 0.6265 (0.6300)  loss_bbox_dn_0: 0.5193 (0.5397)  loss_giou_dn_0: 1.3629 (1.3564)  loss_fgl_dn_0: 0.8069 (0.8044)  loss_ddf_dn_0: 0.0050 (0.0052)  loss_mal_dn_1: 0.6265 (0.6290)  loss_bbox_dn_1: 0.5200 (0.5412)  loss_giou_dn_1: 1.3622 (1.3557)  loss_fgl_dn_1: 0.8070 (0.8055)  loss_ddf_dn_1: 0.0004 (0.0004)  loss_mal_dn_2: 0.6265 (0.6299)  loss_bbox_dn_2: 0.5210 (0.5429)  loss_giou_dn_2: 1.3620 (1.3552)  loss_fgl_dn_2: 0.8078 (0.8062)  loss_mal_dn_pre: 0.6255 (0.6293)  loss_bbox_dn_pre: 0.5190 (0.5386)  loss_giou_dn_pre: 1.3639 (1.3572)\n",
      "Test:  [0/5]  eta: 0:00:04    time: 0.8148  data: 0.6918  max mem: 10586\n"
     ]
    },
    {
     "name": "stderr",
     "output_type": "stream",
     "text": [
      "2025-03-10 14:56:41,526 - DEIMTrainer - INFO - Epoch 36 - Train loss: 28.9509, Eval mAP: 0.0039\n",
      "2025-03-10 14:56:41,526 - DEIMTrainer - INFO - Best stats: {'epoch': 33, 'coco_eval_bbox': 0.005187562510777595}\n"
     ]
    },
    {
     "name": "stdout",
     "output_type": "stream",
     "text": [
      "Test:  [4/5]  eta: 0:00:00    time: 0.2944  data: 0.1580  max mem: 10586\n",
      "Test: Total time: 0:00:01 (0.3067 s / it)\n",
      "Averaged stats: \n",
      "Accumulating evaluation results...\n",
      "COCOeval_opt.accumulate() finished...\n",
      "DONE (t=0.01s).\n",
      "IoU metric: bbox\n",
      " Average Precision  (AP) @[ IoU=0.50:0.95 | area=   all | maxDets=100 ] = 0.004\n",
      " Average Precision  (AP) @[ IoU=0.50      | area=   all | maxDets=100 ] = 0.018\n",
      " Average Precision  (AP) @[ IoU=0.75      | area=   all | maxDets=100 ] = 0.000\n",
      " Average Precision  (AP) @[ IoU=0.50:0.95 | area= small | maxDets=100 ] = 0.000\n",
      " Average Precision  (AP) @[ IoU=0.50:0.95 | area=medium | maxDets=100 ] = 0.002\n",
      " Average Precision  (AP) @[ IoU=0.50:0.95 | area= large | maxDets=100 ] = 0.015\n",
      " Average Recall     (AR) @[ IoU=0.50:0.95 | area=   all | maxDets=  1 ] = 0.002\n",
      " Average Recall     (AR) @[ IoU=0.50:0.95 | area=   all | maxDets= 10 ] = 0.010\n",
      " Average Recall     (AR) @[ IoU=0.50:0.95 | area=   all | maxDets=100 ] = 0.064\n",
      " Average Recall     (AR) @[ IoU=0.50:0.95 | area= small | maxDets=100 ] = 0.000\n",
      " Average Recall     (AR) @[ IoU=0.50:0.95 | area=medium | maxDets=100 ] = 0.070\n",
      " Average Recall     (AR) @[ IoU=0.50:0.95 | area= large | maxDets=100 ] = 0.061\n",
      " Average Recall     (AR) @[ IoU=0.50      | area=   all | maxDets=100 ] = 0.205\n",
      " Average Recall     (AR) @[ IoU=0.75      | area=   all | maxDets=100 ] = 0.021\n",
      "================================================\n",
      "{'coco_eval_bbox': [0.00385337319344157, 0.01781486207351504, 0.00019907422208121058, 0.0, 0.0015444564382389597, 0.015164118189264329, 0.0021621896621896617, 0.0100986975986976, 0.06402625152625153, 0.0, 0.0700892857142857, 0.061240383477334605]}\n",
      "================================================\n",
      "Epoch: [37]  [ 0/15]  eta: 0:00:28  lr: 0.000015  loss: 28.5905 (28.5905)  loss_mal: 0.8867 (0.8867)  loss_bbox: 0.6075 (0.6075)  loss_giou: 1.2390 (1.2390)  loss_fgl: 0.8519 (0.8519)  loss_mal_aux_0: 0.8696 (0.8696)  loss_bbox_aux_0: 0.6069 (0.6069)  loss_giou_aux_0: 1.2394 (1.2394)  loss_fgl_aux_0: 0.8534 (0.8534)  loss_ddf_aux_0: 0.0062 (0.0062)  loss_mal_aux_1: 0.8755 (0.8755)  loss_bbox_aux_1: 0.6068 (0.6068)  loss_giou_aux_1: 1.2393 (1.2393)  loss_fgl_aux_1: 0.8519 (0.8519)  loss_ddf_aux_1: 0.0003 (0.0003)  loss_mal_pre: 0.8672 (0.8672)  loss_bbox_pre: 0.6051 (0.6051)  loss_giou_pre: 1.2402 (1.2402)  loss_mal_enc_0: 0.8623 (0.8623)  loss_bbox_enc_0: 0.6033 (0.6033)  loss_giou_enc_0: 1.2411 (1.2411)  loss_mal_dn_0: 0.6270 (0.6270)  loss_bbox_dn_0: 0.5219 (0.5219)  loss_giou_dn_0: 1.3660 (1.3660)  loss_fgl_dn_0: 0.7905 (0.7905)  loss_ddf_dn_0: 0.0039 (0.0039)  loss_mal_dn_1: 0.6265 (0.6265)  loss_bbox_dn_1: 0.5220 (0.5220)  loss_giou_dn_1: 1.3658 (1.3658)  loss_fgl_dn_1: 0.7901 (0.7901)  loss_ddf_dn_1: 0.0002 (0.0002)  loss_mal_dn_2: 0.6289 (0.6289)  loss_bbox_dn_2: 0.5229 (0.5229)  loss_giou_dn_2: 1.3652 (1.3652)  loss_fgl_dn_2: 0.7904 (0.7904)  loss_mal_dn_pre: 0.6274 (0.6274)  loss_bbox_dn_pre: 0.5230 (0.5230)  loss_giou_dn_pre: 1.3654 (1.3654)  time: 1.9235  data: 1.3988  max mem: 10586\n"
     ]
    },
    {
     "name": "stderr",
     "output_type": "stream",
     "text": [
      "2025-03-10 14:56:50,750 - DEIMTrainer - INFO - Evaluating model...\n"
     ]
    },
    {
     "name": "stdout",
     "output_type": "stream",
     "text": [
      "Epoch: [37]  [14/15]  eta: 0:00:00  lr: 0.000016  loss: 28.3419 (28.4174)  loss_mal: 0.7207 (0.7777)  loss_bbox: 0.6075 (0.6164)  loss_giou: 1.3495 (1.3458)  loss_fgl: 0.7947 (0.7941)  loss_mal_aux_0: 0.7158 (0.7752)  loss_bbox_aux_0: 0.6069 (0.6168)  loss_giou_aux_0: 1.3478 (1.3449)  loss_fgl_aux_0: 0.7935 (0.7935)  loss_ddf_aux_0: 0.0059 (0.0058)  loss_mal_aux_1: 0.7188 (0.7768)  loss_bbox_aux_1: 0.6068 (0.6163)  loss_giou_aux_1: 1.3495 (1.3458)  loss_fgl_aux_1: 0.7942 (0.7938)  loss_ddf_aux_1: 0.0003 (0.0003)  loss_mal_pre: 0.7168 (0.7742)  loss_bbox_pre: 0.6051 (0.6168)  loss_giou_pre: 1.3461 (1.3440)  loss_mal_enc_0: 0.7085 (0.7657)  loss_bbox_enc_0: 0.6033 (0.6158)  loss_giou_enc_0: 1.3473 (1.3453)  loss_mal_dn_0: 0.6226 (0.6216)  loss_bbox_dn_0: 0.5061 (0.5003)  loss_giou_dn_0: 1.3686 (1.3721)  loss_fgl_dn_0: 0.7924 (0.7905)  loss_ddf_dn_0: 0.0038 (0.0038)  loss_mal_dn_1: 0.6230 (0.6210)  loss_bbox_dn_1: 0.5046 (0.4993)  loss_giou_dn_1: 1.3692 (1.3730)  loss_fgl_dn_1: 0.7934 (0.7900)  loss_ddf_dn_1: 0.0003 (0.0003)  loss_mal_dn_2: 0.6226 (0.6214)  loss_bbox_dn_2: 0.5045 (0.4994)  loss_giou_dn_2: 1.3690 (1.3730)  loss_fgl_dn_2: 0.7933 (0.7899)  loss_mal_dn_pre: 0.6245 (0.6234)  loss_bbox_dn_pre: 0.5095 (0.5045)  loss_giou_dn_pre: 1.3654 (1.3692)  time: 0.6080  data: 0.1172  max mem: 10586\n",
      "Epoch: [37] Total time: 0:00:09 (0.6134 s / it)\n",
      "Averaged stats: lr: 0.000016  loss: 28.3419 (28.4174)  loss_mal: 0.7207 (0.7777)  loss_bbox: 0.6075 (0.6164)  loss_giou: 1.3495 (1.3458)  loss_fgl: 0.7947 (0.7941)  loss_mal_aux_0: 0.7158 (0.7752)  loss_bbox_aux_0: 0.6069 (0.6168)  loss_giou_aux_0: 1.3478 (1.3449)  loss_fgl_aux_0: 0.7935 (0.7935)  loss_ddf_aux_0: 0.0059 (0.0058)  loss_mal_aux_1: 0.7188 (0.7768)  loss_bbox_aux_1: 0.6068 (0.6163)  loss_giou_aux_1: 1.3495 (1.3458)  loss_fgl_aux_1: 0.7942 (0.7938)  loss_ddf_aux_1: 0.0003 (0.0003)  loss_mal_pre: 0.7168 (0.7742)  loss_bbox_pre: 0.6051 (0.6168)  loss_giou_pre: 1.3461 (1.3440)  loss_mal_enc_0: 0.7085 (0.7657)  loss_bbox_enc_0: 0.6033 (0.6158)  loss_giou_enc_0: 1.3473 (1.3453)  loss_mal_dn_0: 0.6226 (0.6216)  loss_bbox_dn_0: 0.5061 (0.5003)  loss_giou_dn_0: 1.3686 (1.3721)  loss_fgl_dn_0: 0.7924 (0.7905)  loss_ddf_dn_0: 0.0038 (0.0038)  loss_mal_dn_1: 0.6230 (0.6210)  loss_bbox_dn_1: 0.5046 (0.4993)  loss_giou_dn_1: 1.3692 (1.3730)  loss_fgl_dn_1: 0.7934 (0.7900)  loss_ddf_dn_1: 0.0003 (0.0003)  loss_mal_dn_2: 0.6226 (0.6214)  loss_bbox_dn_2: 0.5045 (0.4994)  loss_giou_dn_2: 1.3690 (1.3730)  loss_fgl_dn_2: 0.7933 (0.7899)  loss_mal_dn_pre: 0.6245 (0.6234)  loss_bbox_dn_pre: 0.5095 (0.5045)  loss_giou_dn_pre: 1.3654 (1.3692)\n",
      "Test:  [0/5]  eta: 0:00:04    time: 0.8185  data: 0.6981  max mem: 10586\n"
     ]
    },
    {
     "name": "stderr",
     "output_type": "stream",
     "text": [
      "2025-03-10 14:56:52,301 - DEIMTrainer - INFO - Epoch 37 - Train loss: 28.4174, Eval mAP: 0.0019\n",
      "2025-03-10 14:56:52,301 - DEIMTrainer - INFO - Best stats: {'epoch': 33, 'coco_eval_bbox': 0.005187562510777595}\n"
     ]
    },
    {
     "name": "stdout",
     "output_type": "stream",
     "text": [
      "Test:  [4/5]  eta: 0:00:00    time: 0.2922  data: 0.1537  max mem: 10586\n",
      "Test: Total time: 0:00:01 (0.3060 s / it)\n",
      "Averaged stats: \n",
      "Accumulating evaluation results...\n",
      "COCOeval_opt.accumulate() finished...\n",
      "DONE (t=0.01s).\n",
      "IoU metric: bbox\n",
      " Average Precision  (AP) @[ IoU=0.50:0.95 | area=   all | maxDets=100 ] = 0.002\n",
      " Average Precision  (AP) @[ IoU=0.50      | area=   all | maxDets=100 ] = 0.010\n",
      " Average Precision  (AP) @[ IoU=0.75      | area=   all | maxDets=100 ] = 0.000\n",
      " Average Precision  (AP) @[ IoU=0.50:0.95 | area= small | maxDets=100 ] = 0.000\n",
      " Average Precision  (AP) @[ IoU=0.50:0.95 | area=medium | maxDets=100 ] = 0.001\n",
      " Average Precision  (AP) @[ IoU=0.50:0.95 | area= large | maxDets=100 ] = 0.016\n",
      " Average Recall     (AR) @[ IoU=0.50:0.95 | area=   all | maxDets=  1 ] = 0.002\n",
      " Average Recall     (AR) @[ IoU=0.50:0.95 | area=   all | maxDets= 10 ] = 0.005\n",
      " Average Recall     (AR) @[ IoU=0.50:0.95 | area=   all | maxDets=100 ] = 0.039\n",
      " Average Recall     (AR) @[ IoU=0.50:0.95 | area= small | maxDets=100 ] = 0.000\n",
      " Average Recall     (AR) @[ IoU=0.50:0.95 | area=medium | maxDets=100 ] = 0.053\n",
      " Average Recall     (AR) @[ IoU=0.50:0.95 | area= large | maxDets=100 ] = 0.033\n",
      " Average Recall     (AR) @[ IoU=0.50      | area=   all | maxDets=100 ] = 0.146\n",
      " Average Recall     (AR) @[ IoU=0.75      | area=   all | maxDets=100 ] = 0.009\n",
      "================================================\n",
      "{'coco_eval_bbox': [0.0018807283911079595, 0.009736068011026403, 4.3195314366379366e-05, 0.0, 0.0008249343456877707, 0.016257811000183326, 0.0015516890516890517, 0.005458892958892959, 0.03883292633292633, 0.0, 0.053422619047619045, 0.03283702213279678]}\n",
      "================================================\n",
      "Epoch: [38]  [ 0/15]  eta: 0:00:26  lr: 0.000016  loss: 28.9447 (28.9447)  loss_mal: 0.8154 (0.8154)  loss_bbox: 0.6105 (0.6105)  loss_giou: 1.3544 (1.3544)  loss_fgl: 0.8104 (0.8104)  loss_mal_aux_0: 0.8340 (0.8340)  loss_bbox_aux_0: 0.6111 (0.6111)  loss_giou_aux_0: 1.3527 (1.3527)  loss_fgl_aux_0: 0.8102 (0.8102)  loss_ddf_aux_0: 0.0049 (0.0049)  loss_mal_aux_1: 0.8223 (0.8223)  loss_bbox_aux_1: 0.6107 (0.6107)  loss_giou_aux_1: 1.3545 (1.3545)  loss_fgl_aux_1: 0.8102 (0.8102)  loss_ddf_aux_1: 0.0002 (0.0002)  loss_mal_pre: 0.8335 (0.8335)  loss_bbox_pre: 0.6117 (0.6117)  loss_giou_pre: 1.3510 (1.3510)  loss_mal_enc_0: 0.8306 (0.8306)  loss_bbox_enc_0: 0.6128 (0.6128)  loss_giou_enc_0: 1.3530 (1.3530)  loss_mal_dn_0: 0.6206 (0.6206)  loss_bbox_dn_0: 0.5440 (0.5440)  loss_giou_dn_0: 1.3858 (1.3858)  loss_fgl_dn_0: 0.7841 (0.7841)  loss_ddf_dn_0: 0.0031 (0.0031)  loss_mal_dn_1: 0.6172 (0.6172)  loss_bbox_dn_1: 0.5432 (0.5432)  loss_giou_dn_1: 1.3877 (1.3877)  loss_fgl_dn_1: 0.7824 (0.7824)  loss_ddf_dn_1: 0.0003 (0.0003)  loss_mal_dn_2: 0.6162 (0.6162)  loss_bbox_dn_2: 0.5435 (0.5435)  loss_giou_dn_2: 1.3880 (1.3880)  loss_fgl_dn_2: 0.7818 (0.7818)  loss_mal_dn_pre: 0.6230 (0.6230)  loss_bbox_dn_pre: 0.5492 (0.5492)  loss_giou_dn_pre: 1.3804 (1.3804)  time: 1.7483  data: 1.1699  max mem: 10586\n"
     ]
    },
    {
     "name": "stderr",
     "output_type": "stream",
     "text": [
      "2025-03-10 14:57:01,301 - DEIMTrainer - INFO - Evaluating model...\n"
     ]
    },
    {
     "name": "stdout",
     "output_type": "stream",
     "text": [
      "Epoch: [38]  [14/15]  eta: 0:00:00  lr: 0.000017  loss: 28.6339 (28.5322)  loss_mal: 0.7095 (0.7453)  loss_bbox: 0.6425 (0.6403)  loss_giou: 1.4074 (1.3850)  loss_fgl: 0.7583 (0.7759)  loss_mal_aux_0: 0.7036 (0.7408)  loss_bbox_aux_0: 0.6432 (0.6408)  loss_giou_aux_0: 1.4074 (1.3845)  loss_fgl_aux_0: 0.7569 (0.7749)  loss_ddf_aux_0: 0.0044 (0.0044)  loss_mal_aux_1: 0.7075 (0.7447)  loss_bbox_aux_1: 0.6419 (0.6400)  loss_giou_aux_1: 1.4080 (1.3853)  loss_fgl_aux_1: 0.7578 (0.7756)  loss_ddf_aux_1: 0.0002 (0.0002)  loss_mal_pre: 0.7036 (0.7402)  loss_bbox_pre: 0.6418 (0.6403)  loss_giou_pre: 1.4088 (1.3846)  loss_mal_enc_0: 0.6978 (0.7404)  loss_bbox_enc_0: 0.6404 (0.6398)  loss_giou_enc_0: 1.4105 (1.3859)  loss_mal_dn_0: 0.6211 (0.6232)  loss_bbox_dn_0: 0.5126 (0.5031)  loss_giou_dn_0: 1.3697 (1.3665)  loss_fgl_dn_0: 0.7936 (0.7962)  loss_ddf_dn_0: 0.0031 (0.0030)  loss_mal_dn_1: 0.6221 (0.6228)  loss_bbox_dn_1: 0.5113 (0.5025)  loss_giou_dn_1: 1.3700 (1.3671)  loss_fgl_dn_1: 0.7926 (0.7956)  loss_ddf_dn_1: 0.0002 (0.0003)  loss_mal_dn_2: 0.6201 (0.6230)  loss_bbox_dn_2: 0.5112 (0.5028)  loss_giou_dn_2: 1.3698 (1.3670)  loss_fgl_dn_2: 0.7924 (0.7956)  loss_mal_dn_pre: 0.6230 (0.6245)  loss_bbox_dn_pre: 0.5179 (0.5060)  loss_giou_dn_pre: 1.3686 (1.3641)  time: 0.5928  data: 0.1023  max mem: 10586\n",
      "Epoch: [38] Total time: 0:00:08 (0.5987 s / it)\n",
      "Averaged stats: lr: 0.000017  loss: 28.6339 (28.5322)  loss_mal: 0.7095 (0.7453)  loss_bbox: 0.6425 (0.6403)  loss_giou: 1.4074 (1.3850)  loss_fgl: 0.7583 (0.7759)  loss_mal_aux_0: 0.7036 (0.7408)  loss_bbox_aux_0: 0.6432 (0.6408)  loss_giou_aux_0: 1.4074 (1.3845)  loss_fgl_aux_0: 0.7569 (0.7749)  loss_ddf_aux_0: 0.0044 (0.0044)  loss_mal_aux_1: 0.7075 (0.7447)  loss_bbox_aux_1: 0.6419 (0.6400)  loss_giou_aux_1: 1.4080 (1.3853)  loss_fgl_aux_1: 0.7578 (0.7756)  loss_ddf_aux_1: 0.0002 (0.0002)  loss_mal_pre: 0.7036 (0.7402)  loss_bbox_pre: 0.6418 (0.6403)  loss_giou_pre: 1.4088 (1.3846)  loss_mal_enc_0: 0.6978 (0.7404)  loss_bbox_enc_0: 0.6404 (0.6398)  loss_giou_enc_0: 1.4105 (1.3859)  loss_mal_dn_0: 0.6211 (0.6232)  loss_bbox_dn_0: 0.5126 (0.5031)  loss_giou_dn_0: 1.3697 (1.3665)  loss_fgl_dn_0: 0.7936 (0.7962)  loss_ddf_dn_0: 0.0031 (0.0030)  loss_mal_dn_1: 0.6221 (0.6228)  loss_bbox_dn_1: 0.5113 (0.5025)  loss_giou_dn_1: 1.3700 (1.3671)  loss_fgl_dn_1: 0.7926 (0.7956)  loss_ddf_dn_1: 0.0002 (0.0003)  loss_mal_dn_2: 0.6201 (0.6230)  loss_bbox_dn_2: 0.5112 (0.5028)  loss_giou_dn_2: 1.3698 (1.3670)  loss_fgl_dn_2: 0.7924 (0.7956)  loss_mal_dn_pre: 0.6230 (0.6245)  loss_bbox_dn_pre: 0.5179 (0.5060)  loss_giou_dn_pre: 1.3686 (1.3641)\n",
      "Test:  [0/5]  eta: 0:00:04    time: 0.8731  data: 0.7519  max mem: 10586\n"
     ]
    },
    {
     "name": "stderr",
     "output_type": "stream",
     "text": [
      "2025-03-10 14:57:02,855 - DEIMTrainer - INFO - Epoch 38 - Train loss: 28.5322, Eval mAP: 0.0032\n",
      "2025-03-10 14:57:02,855 - DEIMTrainer - INFO - Best stats: {'epoch': 33, 'coco_eval_bbox': 0.005187562510777595}\n"
     ]
    },
    {
     "name": "stdout",
     "output_type": "stream",
     "text": [
      "Test:  [4/5]  eta: 0:00:00    time: 0.2947  data: 0.1597  max mem: 10586\n",
      "Test: Total time: 0:00:01 (0.3061 s / it)\n",
      "Averaged stats: \n",
      "Accumulating evaluation results...\n",
      "COCOeval_opt.accumulate() finished...\n",
      "DONE (t=0.01s).\n",
      "IoU metric: bbox\n",
      " Average Precision  (AP) @[ IoU=0.50:0.95 | area=   all | maxDets=100 ] = 0.003\n",
      " Average Precision  (AP) @[ IoU=0.50      | area=   all | maxDets=100 ] = 0.015\n",
      " Average Precision  (AP) @[ IoU=0.75      | area=   all | maxDets=100 ] = 0.000\n",
      " Average Precision  (AP) @[ IoU=0.50:0.95 | area= small | maxDets=100 ] = 0.000\n",
      " Average Precision  (AP) @[ IoU=0.50:0.95 | area=medium | maxDets=100 ] = 0.001\n",
      " Average Precision  (AP) @[ IoU=0.50:0.95 | area= large | maxDets=100 ] = 0.016\n",
      " Average Recall     (AR) @[ IoU=0.50:0.95 | area=   all | maxDets=  1 ] = 0.002\n",
      " Average Recall     (AR) @[ IoU=0.50:0.95 | area=   all | maxDets= 10 ] = 0.008\n",
      " Average Recall     (AR) @[ IoU=0.50:0.95 | area=   all | maxDets=100 ] = 0.063\n",
      " Average Recall     (AR) @[ IoU=0.50:0.95 | area= small | maxDets=100 ] = 0.000\n",
      " Average Recall     (AR) @[ IoU=0.50:0.95 | area=medium | maxDets=100 ] = 0.068\n",
      " Average Recall     (AR) @[ IoU=0.50:0.95 | area= large | maxDets=100 ] = 0.061\n",
      " Average Recall     (AR) @[ IoU=0.50      | area=   all | maxDets=100 ] = 0.185\n",
      " Average Recall     (AR) @[ IoU=0.75      | area=   all | maxDets=100 ] = 0.028\n",
      "================================================\n",
      "{'coco_eval_bbox': [0.003214877032070015, 0.015102680868973177, 0.00031486331010849566, 0.0, 0.0013517706922001943, 0.01602995241716637, 0.0016992266992266992, 0.0076821326821326814, 0.06315628815628815, 0.0, 0.06785714285714285, 0.061051011954077396]}\n",
      "================================================\n",
      "Epoch: [39]  [ 0/15]  eta: 0:00:31  lr: 0.000017  loss: 29.4837 (29.4837)  loss_mal: 0.6489 (0.6489)  loss_bbox: 0.7734 (0.7734)  loss_giou: 1.5577 (1.5577)  loss_fgl: 0.7084 (0.7084)  loss_mal_aux_0: 0.6479 (0.6479)  loss_bbox_aux_0: 0.7733 (0.7733)  loss_giou_aux_0: 1.5579 (1.5579)  loss_fgl_aux_0: 0.7083 (0.7083)  loss_ddf_aux_0: 0.0037 (0.0037)  loss_mal_aux_1: 0.6514 (0.6514)  loss_bbox_aux_1: 0.7729 (0.7729)  loss_giou_aux_1: 1.5582 (1.5582)  loss_fgl_aux_1: 0.7084 (0.7084)  loss_ddf_aux_1: 0.0002 (0.0002)  loss_mal_pre: 0.6479 (0.6479)  loss_bbox_pre: 0.7720 (0.7720)  loss_giou_pre: 1.5592 (1.5592)  loss_mal_enc_0: 0.6440 (0.6440)  loss_bbox_enc_0: 0.7713 (0.7713)  loss_giou_enc_0: 1.5596 (1.5596)  loss_mal_dn_0: 0.6255 (0.6255)  loss_bbox_dn_0: 0.5288 (0.5288)  loss_giou_dn_0: 1.3568 (1.3568)  loss_fgl_dn_0: 0.8028 (0.8028)  loss_ddf_dn_0: 0.0028 (0.0028)  loss_mal_dn_1: 0.6265 (0.6265)  loss_bbox_dn_1: 0.5285 (0.5285)  loss_giou_dn_1: 1.3567 (1.3567)  loss_fgl_dn_1: 0.8025 (0.8025)  loss_ddf_dn_1: 0.0003 (0.0003)  loss_mal_dn_2: 0.6279 (0.6279)  loss_bbox_dn_2: 0.5291 (0.5291)  loss_giou_dn_2: 1.3561 (1.3561)  loss_fgl_dn_2: 0.8028 (0.8028)  loss_mal_dn_pre: 0.6255 (0.6255)  loss_bbox_dn_pre: 0.5299 (0.5299)  loss_giou_dn_pre: 1.3562 (1.3562)  time: 2.1194  data: 1.4328  max mem: 10586\n"
     ]
    },
    {
     "name": "stderr",
     "output_type": "stream",
     "text": [
      "2025-03-10 14:57:12,034 - DEIMTrainer - INFO - Saving checkpoint to outputs/deim_hgnetv2_s_coco/checkpoint0039.pth\n"
     ]
    },
    {
     "name": "stdout",
     "output_type": "stream",
     "text": [
      "Epoch: [39]  [14/15]  eta: 0:00:00  lr: 0.000018  loss: 28.8110 (28.8563)  loss_mal: 0.7583 (0.8036)  loss_bbox: 0.6590 (0.6457)  loss_giou: 1.3078 (1.3307)  loss_fgl: 0.8128 (0.8126)  loss_mal_aux_0: 0.7603 (0.8009)  loss_bbox_aux_0: 0.6595 (0.6460)  loss_giou_aux_0: 1.3081 (1.3309)  loss_fgl_aux_0: 0.8120 (0.8121)  loss_ddf_aux_0: 0.0033 (0.0033)  loss_mal_aux_1: 0.7539 (0.8002)  loss_bbox_aux_1: 0.6586 (0.6455)  loss_giou_aux_1: 1.3082 (1.3312)  loss_fgl_aux_1: 0.8125 (0.8123)  loss_ddf_aux_1: 0.0002 (0.0002)  loss_mal_pre: 0.7588 (0.7997)  loss_bbox_pre: 0.6579 (0.6454)  loss_giou_pre: 1.3093 (1.3322)  loss_mal_enc_0: 0.7500 (0.7928)  loss_bbox_enc_0: 0.6595 (0.6463)  loss_giou_enc_0: 1.3108 (1.3334)  loss_mal_dn_0: 0.6240 (0.6241)  loss_bbox_dn_0: 0.5384 (0.5464)  loss_giou_dn_0: 1.3634 (1.3654)  loss_fgl_dn_0: 0.7951 (0.7960)  loss_ddf_dn_0: 0.0022 (0.0022)  loss_mal_dn_1: 0.6221 (0.6223)  loss_bbox_dn_1: 0.5381 (0.5462)  loss_giou_dn_1: 1.3633 (1.3655)  loss_fgl_dn_1: 0.7953 (0.7958)  loss_ddf_dn_1: 0.0003 (0.0002)  loss_mal_dn_2: 0.6250 (0.6229)  loss_bbox_dn_2: 0.5387 (0.5467)  loss_giou_dn_2: 1.3629 (1.3650)  loss_fgl_dn_2: 0.7956 (0.7960)  loss_mal_dn_pre: 0.6240 (0.6242)  loss_bbox_dn_pre: 0.5399 (0.5478)  loss_giou_dn_pre: 1.3630 (1.3647)  time: 0.6049  data: 0.1171  max mem: 10586\n",
      "Epoch: [39] Total time: 0:00:09 (0.6103 s / it)\n",
      "Averaged stats: lr: 0.000018  loss: 28.8110 (28.8563)  loss_mal: 0.7583 (0.8036)  loss_bbox: 0.6590 (0.6457)  loss_giou: 1.3078 (1.3307)  loss_fgl: 0.8128 (0.8126)  loss_mal_aux_0: 0.7603 (0.8009)  loss_bbox_aux_0: 0.6595 (0.6460)  loss_giou_aux_0: 1.3081 (1.3309)  loss_fgl_aux_0: 0.8120 (0.8121)  loss_ddf_aux_0: 0.0033 (0.0033)  loss_mal_aux_1: 0.7539 (0.8002)  loss_bbox_aux_1: 0.6586 (0.6455)  loss_giou_aux_1: 1.3082 (1.3312)  loss_fgl_aux_1: 0.8125 (0.8123)  loss_ddf_aux_1: 0.0002 (0.0002)  loss_mal_pre: 0.7588 (0.7997)  loss_bbox_pre: 0.6579 (0.6454)  loss_giou_pre: 1.3093 (1.3322)  loss_mal_enc_0: 0.7500 (0.7928)  loss_bbox_enc_0: 0.6595 (0.6463)  loss_giou_enc_0: 1.3108 (1.3334)  loss_mal_dn_0: 0.6240 (0.6241)  loss_bbox_dn_0: 0.5384 (0.5464)  loss_giou_dn_0: 1.3634 (1.3654)  loss_fgl_dn_0: 0.7951 (0.7960)  loss_ddf_dn_0: 0.0022 (0.0022)  loss_mal_dn_1: 0.6221 (0.6223)  loss_bbox_dn_1: 0.5381 (0.5462)  loss_giou_dn_1: 1.3633 (1.3655)  loss_fgl_dn_1: 0.7953 (0.7958)  loss_ddf_dn_1: 0.0003 (0.0002)  loss_mal_dn_2: 0.6250 (0.6229)  loss_bbox_dn_2: 0.5387 (0.5467)  loss_giou_dn_2: 1.3629 (1.3650)  loss_fgl_dn_2: 0.7956 (0.7960)  loss_mal_dn_pre: 0.6240 (0.6242)  loss_bbox_dn_pre: 0.5399 (0.5478)  loss_giou_dn_pre: 1.3630 (1.3647)\n"
     ]
    },
    {
     "name": "stderr",
     "output_type": "stream",
     "text": [
      "2025-03-10 14:57:12,320 - DEIMTrainer - INFO - Checkpoint saved to outputs/deim_hgnetv2_s_coco/checkpoint0039.pth\n",
      "2025-03-10 14:57:12,322 - DEIMTrainer - INFO - Evaluating model...\n"
     ]
    },
    {
     "name": "stdout",
     "output_type": "stream",
     "text": [
      "Test:  [0/5]  eta: 0:00:04    time: 0.8083  data: 0.6964  max mem: 10586\n"
     ]
    },
    {
     "name": "stderr",
     "output_type": "stream",
     "text": [
      "2025-03-10 14:57:13,888 - DEIMTrainer - INFO - Epoch 39 - Train loss: 28.8563, Eval mAP: 0.0033\n",
      "2025-03-10 14:57:13,889 - DEIMTrainer - INFO - Best stats: {'epoch': 33, 'coco_eval_bbox': 0.005187562510777595}\n"
     ]
    },
    {
     "name": "stdout",
     "output_type": "stream",
     "text": [
      "Test:  [4/5]  eta: 0:00:00    time: 0.2977  data: 0.1530  max mem: 10586\n",
      "Test: Total time: 0:00:01 (0.3093 s / it)\n",
      "Averaged stats: \n",
      "Accumulating evaluation results...\n",
      "COCOeval_opt.accumulate() finished...\n",
      "DONE (t=0.01s).\n",
      "IoU metric: bbox\n",
      " Average Precision  (AP) @[ IoU=0.50:0.95 | area=   all | maxDets=100 ] = 0.003\n",
      " Average Precision  (AP) @[ IoU=0.50      | area=   all | maxDets=100 ] = 0.016\n",
      " Average Precision  (AP) @[ IoU=0.75      | area=   all | maxDets=100 ] = 0.000\n",
      " Average Precision  (AP) @[ IoU=0.50:0.95 | area= small | maxDets=100 ] = 0.000\n",
      " Average Precision  (AP) @[ IoU=0.50:0.95 | area=medium | maxDets=100 ] = 0.002\n",
      " Average Precision  (AP) @[ IoU=0.50:0.95 | area= large | maxDets=100 ] = 0.015\n",
      " Average Recall     (AR) @[ IoU=0.50:0.95 | area=   all | maxDets=  1 ] = 0.001\n",
      " Average Recall     (AR) @[ IoU=0.50:0.95 | area=   all | maxDets= 10 ] = 0.008\n",
      " Average Recall     (AR) @[ IoU=0.50:0.95 | area=   all | maxDets=100 ] = 0.060\n",
      " Average Recall     (AR) @[ IoU=0.50:0.95 | area= small | maxDets=100 ] = 0.000\n",
      " Average Recall     (AR) @[ IoU=0.50:0.95 | area=medium | maxDets=100 ] = 0.065\n",
      " Average Recall     (AR) @[ IoU=0.50:0.95 | area= large | maxDets=100 ] = 0.058\n",
      " Average Recall     (AR) @[ IoU=0.50      | area=   all | maxDets=100 ] = 0.186\n",
      " Average Recall     (AR) @[ IoU=0.75      | area=   all | maxDets=100 ] = 0.024\n",
      "================================================\n",
      "{'coco_eval_bbox': [0.003287814136705313, 0.015825381322566678, 0.00028229935440284606, 0.0, 0.0016687585855256978, 0.015470885480708681, 0.0007326007326007327, 0.0080993080993081, 0.060073260073260075, 0.0, 0.06473214285714285, 0.058319327731092434]}\n",
      "================================================\n",
      "Epoch: [40]  [ 0/15]  eta: 0:00:33  lr: 0.000018  loss: 28.6285 (28.6285)  loss_mal: 0.6753 (0.6753)  loss_bbox: 0.6791 (0.6791)  loss_giou: 1.4317 (1.4317)  loss_fgl: 0.7505 (0.7505)  loss_mal_aux_0: 0.6733 (0.6733)  loss_bbox_aux_0: 0.6787 (0.6787)  loss_giou_aux_0: 1.4321 (1.4321)  loss_fgl_aux_0: 0.7504 (0.7504)  loss_ddf_aux_0: 0.0035 (0.0035)  loss_mal_aux_1: 0.6772 (0.6772)  loss_bbox_aux_1: 0.6781 (0.6781)  loss_giou_aux_1: 1.4322 (1.4322)  loss_fgl_aux_1: 0.7504 (0.7504)  loss_ddf_aux_1: 0.0003 (0.0003)  loss_mal_pre: 0.6729 (0.6729)  loss_bbox_pre: 0.6762 (0.6762)  loss_giou_pre: 1.4337 (1.4337)  loss_mal_enc_0: 0.6724 (0.6724)  loss_bbox_enc_0: 0.6753 (0.6753)  loss_giou_enc_0: 1.4349 (1.4349)  loss_mal_dn_0: 0.6196 (0.6196)  loss_bbox_dn_0: 0.5295 (0.5295)  loss_giou_dn_0: 1.3646 (1.3646)  loss_fgl_dn_0: 0.7945 (0.7945)  loss_ddf_dn_0: 0.0027 (0.0027)  loss_mal_dn_1: 0.6226 (0.6226)  loss_bbox_dn_1: 0.5297 (0.5297)  loss_giou_dn_1: 1.3646 (1.3646)  loss_fgl_dn_1: 0.7941 (0.7941)  loss_ddf_dn_1: 0.0004 (0.0004)  loss_mal_dn_2: 0.6250 (0.6250)  loss_bbox_dn_2: 0.5304 (0.5304)  loss_giou_dn_2: 1.3642 (1.3642)  loss_fgl_dn_2: 0.7943 (0.7943)  loss_mal_dn_pre: 0.6196 (0.6196)  loss_bbox_dn_pre: 0.5309 (0.5309)  loss_giou_dn_pre: 1.3637 (1.3637)  time: 2.2654  data: 1.5232  max mem: 10586\n"
     ]
    },
    {
     "name": "stderr",
     "output_type": "stream",
     "text": [
      "2025-03-10 14:57:22,656 - DEIMTrainer - INFO - Evaluating model...\n"
     ]
    },
    {
     "name": "stdout",
     "output_type": "stream",
     "text": [
      "Epoch: [40]  [14/15]  eta: 0:00:00  lr: 0.000019  loss: 28.6271 (28.5753)  loss_mal: 0.8047 (0.7957)  loss_bbox: 0.5862 (0.6086)  loss_giou: 1.2886 (1.3151)  loss_fgl: 0.8431 (0.8267)  loss_mal_aux_0: 0.8057 (0.8000)  loss_bbox_aux_0: 0.5863 (0.6086)  loss_giou_aux_0: 1.2884 (1.3154)  loss_fgl_aux_0: 0.8428 (0.8268)  loss_ddf_aux_0: 0.0030 (0.0030)  loss_mal_aux_1: 0.8022 (0.8000)  loss_bbox_aux_1: 0.5863 (0.6082)  loss_giou_aux_1: 1.2891 (1.3156)  loss_fgl_aux_1: 0.8429 (0.8265)  loss_ddf_aux_1: 0.0003 (0.0003)  loss_mal_pre: 0.8052 (0.7984)  loss_bbox_pre: 0.5865 (0.6072)  loss_giou_pre: 1.2903 (1.3172)  loss_mal_enc_0: 0.8081 (0.7937)  loss_bbox_enc_0: 0.5874 (0.6076)  loss_giou_enc_0: 1.2907 (1.3183)  loss_mal_dn_0: 0.6240 (0.6249)  loss_bbox_dn_0: 0.5295 (0.5326)  loss_giou_dn_0: 1.3670 (1.3647)  loss_fgl_dn_0: 0.7987 (0.7972)  loss_ddf_dn_0: 0.0019 (0.0020)  loss_mal_dn_1: 0.6226 (0.6243)  loss_bbox_dn_1: 0.5297 (0.5325)  loss_giou_dn_1: 1.3669 (1.3647)  loss_fgl_dn_1: 0.7984 (0.7970)  loss_ddf_dn_1: 0.0003 (0.0003)  loss_mal_dn_2: 0.6235 (0.6245)  loss_bbox_dn_2: 0.5304 (0.5331)  loss_giou_dn_2: 1.3664 (1.3643)  loss_fgl_dn_2: 0.7984 (0.7972)  loss_mal_dn_pre: 0.6240 (0.6249)  loss_bbox_dn_pre: 0.5309 (0.5337)  loss_giou_dn_pre: 1.3664 (1.3640)  time: 0.5782  data: 0.1160  max mem: 10586\n",
      "Epoch: [40] Total time: 0:00:08 (0.5831 s / it)\n",
      "Averaged stats: lr: 0.000019  loss: 28.6271 (28.5753)  loss_mal: 0.8047 (0.7957)  loss_bbox: 0.5862 (0.6086)  loss_giou: 1.2886 (1.3151)  loss_fgl: 0.8431 (0.8267)  loss_mal_aux_0: 0.8057 (0.8000)  loss_bbox_aux_0: 0.5863 (0.6086)  loss_giou_aux_0: 1.2884 (1.3154)  loss_fgl_aux_0: 0.8428 (0.8268)  loss_ddf_aux_0: 0.0030 (0.0030)  loss_mal_aux_1: 0.8022 (0.8000)  loss_bbox_aux_1: 0.5863 (0.6082)  loss_giou_aux_1: 1.2891 (1.3156)  loss_fgl_aux_1: 0.8429 (0.8265)  loss_ddf_aux_1: 0.0003 (0.0003)  loss_mal_pre: 0.8052 (0.7984)  loss_bbox_pre: 0.5865 (0.6072)  loss_giou_pre: 1.2903 (1.3172)  loss_mal_enc_0: 0.8081 (0.7937)  loss_bbox_enc_0: 0.5874 (0.6076)  loss_giou_enc_0: 1.2907 (1.3183)  loss_mal_dn_0: 0.6240 (0.6249)  loss_bbox_dn_0: 0.5295 (0.5326)  loss_giou_dn_0: 1.3670 (1.3647)  loss_fgl_dn_0: 0.7987 (0.7972)  loss_ddf_dn_0: 0.0019 (0.0020)  loss_mal_dn_1: 0.6226 (0.6243)  loss_bbox_dn_1: 0.5297 (0.5325)  loss_giou_dn_1: 1.3669 (1.3647)  loss_fgl_dn_1: 0.7984 (0.7970)  loss_ddf_dn_1: 0.0003 (0.0003)  loss_mal_dn_2: 0.6235 (0.6245)  loss_bbox_dn_2: 0.5304 (0.5331)  loss_giou_dn_2: 1.3664 (1.3643)  loss_fgl_dn_2: 0.7984 (0.7972)  loss_mal_dn_pre: 0.6240 (0.6249)  loss_bbox_dn_pre: 0.5309 (0.5337)  loss_giou_dn_pre: 1.3664 (1.3640)\n",
      "Test:  [0/5]  eta: 0:00:03    time: 0.7618  data: 0.6513  max mem: 10586\n"
     ]
    },
    {
     "name": "stderr",
     "output_type": "stream",
     "text": [
      "2025-03-10 14:57:23,949 - DEIMTrainer - INFO - Epoch 40 - Train loss: 28.5753, Eval mAP: 0.0049\n",
      "2025-03-10 14:57:23,950 - DEIMTrainer - INFO - Best stats: {'epoch': 33, 'coco_eval_bbox': 0.005187562510777595}\n"
     ]
    },
    {
     "name": "stdout",
     "output_type": "stream",
     "text": [
      "Test:  [4/5]  eta: 0:00:00    time: 0.2425  data: 0.1429  max mem: 10586\n",
      "Test: Total time: 0:00:01 (0.2543 s / it)\n",
      "Averaged stats: \n",
      "Accumulating evaluation results...\n",
      "COCOeval_opt.accumulate() finished...\n",
      "DONE (t=0.01s).\n",
      "IoU metric: bbox\n",
      " Average Precision  (AP) @[ IoU=0.50:0.95 | area=   all | maxDets=100 ] = 0.005\n",
      " Average Precision  (AP) @[ IoU=0.50      | area=   all | maxDets=100 ] = 0.022\n",
      " Average Precision  (AP) @[ IoU=0.75      | area=   all | maxDets=100 ] = 0.000\n",
      " Average Precision  (AP) @[ IoU=0.50:0.95 | area= small | maxDets=100 ] = 0.000\n",
      " Average Precision  (AP) @[ IoU=0.50:0.95 | area=medium | maxDets=100 ] = 0.002\n",
      " Average Precision  (AP) @[ IoU=0.50:0.95 | area= large | maxDets=100 ] = 0.014\n",
      " Average Recall     (AR) @[ IoU=0.50:0.95 | area=   all | maxDets=  1 ] = 0.002\n",
      " Average Recall     (AR) @[ IoU=0.50:0.95 | area=   all | maxDets= 10 ] = 0.014\n",
      " Average Recall     (AR) @[ IoU=0.50:0.95 | area=   all | maxDets=100 ] = 0.074\n",
      " Average Recall     (AR) @[ IoU=0.50:0.95 | area= small | maxDets=100 ] = 0.000\n",
      " Average Recall     (AR) @[ IoU=0.50:0.95 | area=medium | maxDets=100 ] = 0.066\n",
      " Average Recall     (AR) @[ IoU=0.50:0.95 | area= large | maxDets=100 ] = 0.077\n",
      " Average Recall     (AR) @[ IoU=0.50      | area=   all | maxDets=100 ] = 0.228\n",
      " Average Recall     (AR) @[ IoU=0.75      | area=   all | maxDets=100 ] = 0.030\n",
      "================================================\n",
      "{'coco_eval_bbox': [0.004942190877605295, 0.022441830888329788, 0.0003194816638805367, 0.0, 0.0018304297585147586, 0.01406413063753907, 0.0024470899470899468, 0.013766788766788766, 0.0744912494912495, 0.0, 0.06607142857142857, 0.07665443642245631]}\n",
      "================================================\n",
      "Epoch: [41]  [ 0/15]  eta: 0:00:29  lr: 0.000019  loss: 27.6277 (27.6277)  loss_mal: 0.8320 (0.8320)  loss_bbox: 0.5077 (0.5077)  loss_giou: 1.2343 (1.2343)  loss_fgl: 0.8674 (0.8674)  loss_mal_aux_0: 0.8345 (0.8345)  loss_bbox_aux_0: 0.5077 (0.5077)  loss_giou_aux_0: 1.2343 (1.2343)  loss_fgl_aux_0: 0.8687 (0.8687)  loss_ddf_aux_0: 0.0028 (0.0028)  loss_mal_aux_1: 0.8340 (0.8340)  loss_bbox_aux_1: 0.5069 (0.5069)  loss_giou_aux_1: 1.2343 (1.2343)  loss_fgl_aux_1: 0.8676 (0.8676)  loss_ddf_aux_1: 0.0003 (0.0003)  loss_mal_pre: 0.8345 (0.8345)  loss_bbox_pre: 0.5044 (0.5044)  loss_giou_pre: 1.2342 (1.2342)  loss_mal_enc_0: 0.8325 (0.8325)  loss_bbox_enc_0: 0.5051 (0.5051)  loss_giou_enc_0: 1.2341 (1.2341)  loss_mal_dn_0: 0.6289 (0.6289)  loss_bbox_dn_0: 0.4524 (0.4524)  loss_giou_dn_0: 1.3458 (1.3458)  loss_fgl_dn_0: 0.8137 (0.8137)  loss_ddf_dn_0: 0.0019 (0.0019)  loss_mal_dn_1: 0.6279 (0.6279)  loss_bbox_dn_1: 0.4521 (0.4521)  loss_giou_dn_1: 1.3456 (1.3456)  loss_fgl_dn_1: 0.8137 (0.8137)  loss_ddf_dn_1: 0.0003 (0.0003)  loss_mal_dn_2: 0.6294 (0.6294)  loss_bbox_dn_2: 0.4526 (0.4526)  loss_giou_dn_2: 1.3452 (1.3452)  loss_fgl_dn_2: 0.8140 (0.8140)  loss_mal_dn_pre: 0.6289 (0.6289)  loss_bbox_dn_pre: 0.4528 (0.4528)  loss_giou_dn_pre: 1.3454 (1.3454)  time: 1.9621  data: 1.3883  max mem: 10586\n"
     ]
    },
    {
     "name": "stderr",
     "output_type": "stream",
     "text": [
      "2025-03-10 14:57:33,474 - DEIMTrainer - INFO - Evaluating model...\n"
     ]
    },
    {
     "name": "stdout",
     "output_type": "stream",
     "text": [
      "Epoch: [41]  [14/15]  eta: 0:00:00  lr: 0.000020  loss: 28.1905 (28.1929)  loss_mal: 0.7100 (0.7678)  loss_bbox: 0.5762 (0.5867)  loss_giou: 1.3718 (1.3289)  loss_fgl: 0.7733 (0.8112)  loss_mal_aux_0: 0.7036 (0.7651)  loss_bbox_aux_0: 0.5762 (0.5869)  loss_giou_aux_0: 1.3718 (1.3289)  loss_fgl_aux_0: 0.7727 (0.8113)  loss_ddf_aux_0: 0.0028 (0.0028)  loss_mal_aux_1: 0.7036 (0.7680)  loss_bbox_aux_1: 0.5756 (0.5863)  loss_giou_aux_1: 1.3719 (1.3293)  loss_fgl_aux_1: 0.7731 (0.8111)  loss_ddf_aux_1: 0.0003 (0.0002)  loss_mal_pre: 0.7031 (0.7645)  loss_bbox_pre: 0.5749 (0.5854)  loss_giou_pre: 1.3722 (1.3299)  loss_mal_enc_0: 0.7012 (0.7587)  loss_bbox_enc_0: 0.5734 (0.5853)  loss_giou_enc_0: 1.3718 (1.3304)  loss_mal_dn_0: 0.6196 (0.6209)  loss_bbox_dn_0: 0.5028 (0.5048)  loss_giou_dn_0: 1.3641 (1.3658)  loss_fgl_dn_0: 0.7951 (0.7947)  loss_ddf_dn_0: 0.0019 (0.0019)  loss_mal_dn_1: 0.6201 (0.6213)  loss_bbox_dn_1: 0.5030 (0.5046)  loss_giou_dn_1: 1.3639 (1.3658)  loss_fgl_dn_1: 0.7947 (0.7944)  loss_ddf_dn_1: 0.0003 (0.0003)  loss_mal_dn_2: 0.6226 (0.6226)  loss_bbox_dn_2: 0.5036 (0.5050)  loss_giou_dn_2: 1.3634 (1.3655)  loss_fgl_dn_2: 0.7948 (0.7944)  loss_mal_dn_pre: 0.6196 (0.6211)  loss_bbox_dn_pre: 0.5036 (0.5064)  loss_giou_dn_pre: 1.3640 (1.3648)  time: 0.6290  data: 0.1153  max mem: 10586\n",
      "Epoch: [41] Total time: 0:00:09 (0.6337 s / it)\n",
      "Averaged stats: lr: 0.000020  loss: 28.1905 (28.1929)  loss_mal: 0.7100 (0.7678)  loss_bbox: 0.5762 (0.5867)  loss_giou: 1.3718 (1.3289)  loss_fgl: 0.7733 (0.8112)  loss_mal_aux_0: 0.7036 (0.7651)  loss_bbox_aux_0: 0.5762 (0.5869)  loss_giou_aux_0: 1.3718 (1.3289)  loss_fgl_aux_0: 0.7727 (0.8113)  loss_ddf_aux_0: 0.0028 (0.0028)  loss_mal_aux_1: 0.7036 (0.7680)  loss_bbox_aux_1: 0.5756 (0.5863)  loss_giou_aux_1: 1.3719 (1.3293)  loss_fgl_aux_1: 0.7731 (0.8111)  loss_ddf_aux_1: 0.0003 (0.0002)  loss_mal_pre: 0.7031 (0.7645)  loss_bbox_pre: 0.5749 (0.5854)  loss_giou_pre: 1.3722 (1.3299)  loss_mal_enc_0: 0.7012 (0.7587)  loss_bbox_enc_0: 0.5734 (0.5853)  loss_giou_enc_0: 1.3718 (1.3304)  loss_mal_dn_0: 0.6196 (0.6209)  loss_bbox_dn_0: 0.5028 (0.5048)  loss_giou_dn_0: 1.3641 (1.3658)  loss_fgl_dn_0: 0.7951 (0.7947)  loss_ddf_dn_0: 0.0019 (0.0019)  loss_mal_dn_1: 0.6201 (0.6213)  loss_bbox_dn_1: 0.5030 (0.5046)  loss_giou_dn_1: 1.3639 (1.3658)  loss_fgl_dn_1: 0.7947 (0.7944)  loss_ddf_dn_1: 0.0003 (0.0003)  loss_mal_dn_2: 0.6226 (0.6226)  loss_bbox_dn_2: 0.5036 (0.5050)  loss_giou_dn_2: 1.3634 (1.3655)  loss_fgl_dn_2: 0.7948 (0.7944)  loss_mal_dn_pre: 0.6196 (0.6211)  loss_bbox_dn_pre: 0.5036 (0.5064)  loss_giou_dn_pre: 1.3640 (1.3648)\n",
      "Test:  [0/5]  eta: 0:00:03    time: 0.7620  data: 0.6476  max mem: 10586\n"
     ]
    },
    {
     "name": "stderr",
     "output_type": "stream",
     "text": [
      "2025-03-10 14:57:34,773 - DEIMTrainer - INFO - Epoch 41 - Train loss: 28.1929, Eval mAP: 0.0036\n",
      "2025-03-10 14:57:34,774 - DEIMTrainer - INFO - Best stats: {'epoch': 33, 'coco_eval_bbox': 0.005187562510777595}\n"
     ]
    },
    {
     "name": "stdout",
     "output_type": "stream",
     "text": [
      "Test:  [4/5]  eta: 0:00:00    time: 0.2424  data: 0.1424  max mem: 10586\n",
      "Test: Total time: 0:00:01 (0.2543 s / it)\n",
      "Averaged stats: \n",
      "Accumulating evaluation results...\n",
      "COCOeval_opt.accumulate() finished...\n",
      "DONE (t=0.01s).\n",
      "IoU metric: bbox\n",
      " Average Precision  (AP) @[ IoU=0.50:0.95 | area=   all | maxDets=100 ] = 0.004\n",
      " Average Precision  (AP) @[ IoU=0.50      | area=   all | maxDets=100 ] = 0.018\n",
      " Average Precision  (AP) @[ IoU=0.75      | area=   all | maxDets=100 ] = 0.000\n",
      " Average Precision  (AP) @[ IoU=0.50:0.95 | area= small | maxDets=100 ] = 0.000\n",
      " Average Precision  (AP) @[ IoU=0.50:0.95 | area=medium | maxDets=100 ] = 0.001\n",
      " Average Precision  (AP) @[ IoU=0.50:0.95 | area= large | maxDets=100 ] = 0.013\n",
      " Average Recall     (AR) @[ IoU=0.50:0.95 | area=   all | maxDets=  1 ] = 0.001\n",
      " Average Recall     (AR) @[ IoU=0.50:0.95 | area=   all | maxDets= 10 ] = 0.012\n",
      " Average Recall     (AR) @[ IoU=0.50:0.95 | area=   all | maxDets=100 ] = 0.067\n",
      " Average Recall     (AR) @[ IoU=0.50:0.95 | area= small | maxDets=100 ] = 0.000\n",
      " Average Recall     (AR) @[ IoU=0.50:0.95 | area=medium | maxDets=100 ] = 0.058\n",
      " Average Recall     (AR) @[ IoU=0.50:0.95 | area= large | maxDets=100 ] = 0.068\n",
      " Average Recall     (AR) @[ IoU=0.50      | area=   all | maxDets=100 ] = 0.211\n",
      " Average Recall     (AR) @[ IoU=0.75      | area=   all | maxDets=100 ] = 0.022\n",
      "================================================\n",
      "{'coco_eval_bbox': [0.0036451863556815002, 0.01777122565298645, 0.00017722446966447178, 0.0, 0.0013476602433112484, 0.012964431719787435, 0.0014143264143264141, 0.012281237281237282, 0.06665649165649165, 0.0, 0.05803571428571429, 0.06822424744545706]}\n",
      "================================================\n",
      "Epoch: [42]  [ 0/15]  eta: 0:00:28  lr: 0.000020  loss: 29.2442 (29.2442)  loss_mal: 0.8979 (0.8979)  loss_bbox: 0.6107 (0.6107)  loss_giou: 1.2559 (1.2559)  loss_fgl: 0.8817 (0.8817)  loss_mal_aux_0: 0.9106 (0.9106)  loss_bbox_aux_0: 0.6105 (0.6105)  loss_giou_aux_0: 1.2548 (1.2548)  loss_fgl_aux_0: 0.8823 (0.8823)  loss_ddf_aux_0: 0.0026 (0.0026)  loss_mal_aux_1: 0.8931 (0.8931)  loss_bbox_aux_1: 0.6108 (0.6108)  loss_giou_aux_1: 1.2564 (1.2564)  loss_fgl_aux_1: 0.8817 (0.8817)  loss_ddf_aux_1: 0.0002 (0.0002)  loss_mal_pre: 0.9077 (0.9077)  loss_bbox_pre: 0.6106 (0.6106)  loss_giou_pre: 1.2557 (1.2557)  loss_mal_enc_0: 0.8916 (0.8916)  loss_bbox_enc_0: 0.6113 (0.6113)  loss_giou_enc_0: 1.2563 (1.2563)  loss_mal_dn_0: 0.6230 (0.6230)  loss_bbox_dn_0: 0.6069 (0.6069)  loss_giou_dn_0: 1.3698 (1.3698)  loss_fgl_dn_0: 0.7891 (0.7891)  loss_ddf_dn_0: 0.0014 (0.0014)  loss_mal_dn_1: 0.6201 (0.6201)  loss_bbox_dn_1: 0.6067 (0.6067)  loss_giou_dn_1: 1.3701 (1.3701)  loss_fgl_dn_1: 0.7883 (0.7883)  loss_ddf_dn_1: 0.0003 (0.0003)  loss_mal_dn_2: 0.6201 (0.6201)  loss_bbox_dn_2: 0.6070 (0.6070)  loss_giou_dn_2: 1.3698 (1.3698)  loss_fgl_dn_2: 0.7883 (0.7883)  loss_mal_dn_pre: 0.6245 (0.6245)  loss_bbox_dn_pre: 0.6092 (0.6092)  loss_giou_dn_pre: 1.3672 (1.3672)  time: 1.8800  data: 1.3408  max mem: 10586\n"
     ]
    },
    {
     "name": "stderr",
     "output_type": "stream",
     "text": [
      "2025-03-10 14:57:43,791 - DEIMTrainer - INFO - Evaluating model...\n"
     ]
    },
    {
     "name": "stdout",
     "output_type": "stream",
     "text": [
      "Epoch: [42]  [14/15]  eta: 0:00:00  lr: 0.000021  loss: 28.7536 (28.7955)  loss_mal: 0.7510 (0.7732)  loss_bbox: 0.6150 (0.6500)  loss_giou: 1.3376 (1.3642)  loss_fgl: 0.8000 (0.7956)  loss_mal_aux_0: 0.7471 (0.7699)  loss_bbox_aux_0: 0.6158 (0.6502)  loss_giou_aux_0: 1.3376 (1.3641)  loss_fgl_aux_0: 0.7995 (0.7955)  loss_ddf_aux_0: 0.0025 (0.0025)  loss_mal_aux_1: 0.7471 (0.7717)  loss_bbox_aux_1: 0.6148 (0.6495)  loss_giou_aux_1: 1.3378 (1.3645)  loss_fgl_aux_1: 0.7996 (0.7955)  loss_ddf_aux_1: 0.0002 (0.0002)  loss_mal_pre: 0.7451 (0.7692)  loss_bbox_pre: 0.6149 (0.6485)  loss_giou_pre: 1.3373 (1.3647)  loss_mal_enc_0: 0.7407 (0.7701)  loss_bbox_enc_0: 0.6160 (0.6485)  loss_giou_enc_0: 1.3379 (1.3654)  loss_mal_dn_0: 0.6230 (0.6230)  loss_bbox_dn_0: 0.5288 (0.5361)  loss_giou_dn_0: 1.3638 (1.3637)  loss_fgl_dn_0: 0.7994 (0.7966)  loss_ddf_dn_0: 0.0016 (0.0016)  loss_mal_dn_1: 0.6201 (0.6226)  loss_bbox_dn_1: 0.5289 (0.5360)  loss_giou_dn_1: 1.3637 (1.3637)  loss_fgl_dn_1: 0.7988 (0.7962)  loss_ddf_dn_1: 0.0002 (0.0002)  loss_mal_dn_2: 0.6201 (0.6231)  loss_bbox_dn_2: 0.5296 (0.5364)  loss_giou_dn_2: 1.3633 (1.3634)  loss_fgl_dn_2: 0.7988 (0.7962)  loss_mal_dn_pre: 0.6245 (0.6235)  loss_bbox_dn_pre: 0.5299 (0.5378)  loss_giou_dn_pre: 1.3637 (1.3626)  time: 0.5962  data: 0.1125  max mem: 10586\n",
      "Epoch: [42] Total time: 0:00:08 (0.6000 s / it)\n",
      "Averaged stats: lr: 0.000021  loss: 28.7536 (28.7955)  loss_mal: 0.7510 (0.7732)  loss_bbox: 0.6150 (0.6500)  loss_giou: 1.3376 (1.3642)  loss_fgl: 0.8000 (0.7956)  loss_mal_aux_0: 0.7471 (0.7699)  loss_bbox_aux_0: 0.6158 (0.6502)  loss_giou_aux_0: 1.3376 (1.3641)  loss_fgl_aux_0: 0.7995 (0.7955)  loss_ddf_aux_0: 0.0025 (0.0025)  loss_mal_aux_1: 0.7471 (0.7717)  loss_bbox_aux_1: 0.6148 (0.6495)  loss_giou_aux_1: 1.3378 (1.3645)  loss_fgl_aux_1: 0.7996 (0.7955)  loss_ddf_aux_1: 0.0002 (0.0002)  loss_mal_pre: 0.7451 (0.7692)  loss_bbox_pre: 0.6149 (0.6485)  loss_giou_pre: 1.3373 (1.3647)  loss_mal_enc_0: 0.7407 (0.7701)  loss_bbox_enc_0: 0.6160 (0.6485)  loss_giou_enc_0: 1.3379 (1.3654)  loss_mal_dn_0: 0.6230 (0.6230)  loss_bbox_dn_0: 0.5288 (0.5361)  loss_giou_dn_0: 1.3638 (1.3637)  loss_fgl_dn_0: 0.7994 (0.7966)  loss_ddf_dn_0: 0.0016 (0.0016)  loss_mal_dn_1: 0.6201 (0.6226)  loss_bbox_dn_1: 0.5289 (0.5360)  loss_giou_dn_1: 1.3637 (1.3637)  loss_fgl_dn_1: 0.7988 (0.7962)  loss_ddf_dn_1: 0.0002 (0.0002)  loss_mal_dn_2: 0.6201 (0.6231)  loss_bbox_dn_2: 0.5296 (0.5364)  loss_giou_dn_2: 1.3633 (1.3634)  loss_fgl_dn_2: 0.7988 (0.7962)  loss_mal_dn_pre: 0.6245 (0.6235)  loss_bbox_dn_pre: 0.5299 (0.5378)  loss_giou_dn_pre: 1.3637 (1.3626)\n",
      "Test:  [0/5]  eta: 0:00:03    time: 0.7592  data: 0.6411  max mem: 10586\n"
     ]
    },
    {
     "name": "stderr",
     "output_type": "stream",
     "text": [
      "2025-03-10 14:57:45,096 - DEIMTrainer - INFO - Saving checkpoint to outputs/deim_hgnetv2_s_coco/best.pth\n"
     ]
    },
    {
     "name": "stdout",
     "output_type": "stream",
     "text": [
      "Test:  [4/5]  eta: 0:00:00    time: 0.2444  data: 0.1420  max mem: 10586\n",
      "Test: Total time: 0:00:01 (0.2561 s / it)\n",
      "Averaged stats: \n",
      "Accumulating evaluation results...\n",
      "COCOeval_opt.accumulate() finished...\n",
      "DONE (t=0.01s).\n",
      "IoU metric: bbox\n",
      " Average Precision  (AP) @[ IoU=0.50:0.95 | area=   all | maxDets=100 ] = 0.008\n",
      " Average Precision  (AP) @[ IoU=0.50      | area=   all | maxDets=100 ] = 0.041\n",
      " Average Precision  (AP) @[ IoU=0.75      | area=   all | maxDets=100 ] = 0.001\n",
      " Average Precision  (AP) @[ IoU=0.50:0.95 | area= small | maxDets=100 ] = 0.000\n",
      " Average Precision  (AP) @[ IoU=0.50:0.95 | area=medium | maxDets=100 ] = 0.002\n",
      " Average Precision  (AP) @[ IoU=0.50:0.95 | area= large | maxDets=100 ] = 0.017\n",
      " Average Recall     (AR) @[ IoU=0.50:0.95 | area=   all | maxDets=  1 ] = 0.012\n",
      " Average Recall     (AR) @[ IoU=0.50:0.95 | area=   all | maxDets= 10 ] = 0.038\n",
      " Average Recall     (AR) @[ IoU=0.50:0.95 | area=   all | maxDets=100 ] = 0.097\n",
      " Average Recall     (AR) @[ IoU=0.50:0.95 | area= small | maxDets=100 ] = 0.000\n",
      " Average Recall     (AR) @[ IoU=0.50:0.95 | area=medium | maxDets=100 ] = 0.061\n",
      " Average Recall     (AR) @[ IoU=0.50:0.95 | area= large | maxDets=100 ] = 0.100\n",
      " Average Recall     (AR) @[ IoU=0.50      | area=   all | maxDets=100 ] = 0.313\n",
      " Average Recall     (AR) @[ IoU=0.75      | area=   all | maxDets=100 ] = 0.033\n",
      "================================================\n",
      "{'coco_eval_bbox': [0.007961249323998795, 0.041211219600629165, 0.0005816712851038541, 0.0, 0.0018335829820142749, 0.01684193093367449, 0.01246947496947497, 0.037693325193325196, 0.09678978428978428, 0.0, 0.061160714285714284, 0.10030457253323864]}\n",
      "================================================\n"
     ]
    },
    {
     "name": "stderr",
     "output_type": "stream",
     "text": [
      "2025-03-10 14:57:45,421 - DEIMTrainer - INFO - Checkpoint saved to outputs/deim_hgnetv2_s_coco/best.pth\n",
      "2025-03-10 14:57:45,422 - DEIMTrainer - INFO - Epoch 42 - Train loss: 28.7955, Eval mAP: 0.0080\n",
      "2025-03-10 14:57:45,423 - DEIMTrainer - INFO - Best stats: {'epoch': 42, 'coco_eval_bbox': 0.007961249323998795}\n"
     ]
    },
    {
     "name": "stdout",
     "output_type": "stream",
     "text": [
      "Epoch: [43]  [ 0/15]  eta: 0:00:28  lr: 0.000021  loss: 28.4660 (28.4660)  loss_mal: 0.8809 (0.8809)  loss_bbox: 0.5518 (0.5518)  loss_giou: 1.2408 (1.2408)  loss_fgl: 0.8685 (0.8685)  loss_mal_aux_0: 0.8862 (0.8862)  loss_bbox_aux_0: 0.5526 (0.5526)  loss_giou_aux_0: 1.2407 (1.2407)  loss_fgl_aux_0: 0.8697 (0.8697)  loss_ddf_aux_0: 0.0023 (0.0023)  loss_mal_aux_1: 0.8882 (0.8882)  loss_bbox_aux_1: 0.5518 (0.5518)  loss_giou_aux_1: 1.2411 (1.2411)  loss_fgl_aux_1: 0.8685 (0.8685)  loss_ddf_aux_1: 0.0002 (0.0002)  loss_mal_pre: 0.8857 (0.8857)  loss_bbox_pre: 0.5522 (0.5522)  loss_giou_pre: 1.2413 (1.2413)  loss_mal_enc_0: 0.8779 (0.8779)  loss_bbox_enc_0: 0.5535 (0.5535)  loss_giou_enc_0: 1.2422 (1.2422)  loss_mal_dn_0: 0.6138 (0.6138)  loss_bbox_dn_0: 0.5373 (0.5373)  loss_giou_dn_0: 1.3815 (1.3815)  loss_fgl_dn_0: 0.7809 (0.7809)  loss_ddf_dn_0: 0.0012 (0.0012)  loss_mal_dn_1: 0.6118 (0.6118)  loss_bbox_dn_1: 0.5374 (0.5374)  loss_giou_dn_1: 1.3813 (1.3813)  loss_fgl_dn_1: 0.7805 (0.7805)  loss_ddf_dn_1: 0.0002 (0.0002)  loss_mal_dn_2: 0.6113 (0.6113)  loss_bbox_dn_2: 0.5378 (0.5378)  loss_giou_dn_2: 1.3809 (1.3809)  loss_fgl_dn_2: 0.7805 (0.7805)  loss_mal_dn_pre: 0.6143 (0.6143)  loss_bbox_dn_pre: 0.5388 (0.5388)  loss_giou_dn_pre: 1.3804 (1.3804)  time: 1.8699  data: 1.3400  max mem: 10586\n"
     ]
    },
    {
     "name": "stderr",
     "output_type": "stream",
     "text": [
      "2025-03-10 14:57:54,171 - DEIMTrainer - INFO - Saving checkpoint to outputs/deim_hgnetv2_s_coco/checkpoint0043.pth\n"
     ]
    },
    {
     "name": "stdout",
     "output_type": "stream",
     "text": [
      "Epoch: [43]  [14/15]  eta: 0:00:00  lr: 0.000022  loss: 28.4354 (28.4769)  loss_mal: 0.8662 (0.8209)  loss_bbox: 0.5676 (0.5883)  loss_giou: 1.2660 (1.2946)  loss_fgl: 0.8685 (0.8428)  loss_mal_aux_0: 0.8672 (0.8203)  loss_bbox_aux_0: 0.5682 (0.5884)  loss_giou_aux_0: 1.2649 (1.2941)  loss_fgl_aux_0: 0.8697 (0.8431)  loss_ddf_aux_0: 0.0022 (0.0022)  loss_mal_aux_1: 0.8579 (0.8215)  loss_bbox_aux_1: 0.5682 (0.5881)  loss_giou_aux_1: 1.2664 (1.2949)  loss_fgl_aux_1: 0.8685 (0.8427)  loss_ddf_aux_1: 0.0002 (0.0002)  loss_mal_pre: 0.8691 (0.8197)  loss_bbox_pre: 0.5692 (0.5875)  loss_giou_pre: 1.2653 (1.2946)  loss_mal_enc_0: 0.8779 (0.8174)  loss_bbox_enc_0: 0.5716 (0.5881)  loss_giou_enc_0: 1.2655 (1.2953)  loss_mal_dn_0: 0.6167 (0.6178)  loss_bbox_dn_0: 0.5130 (0.5268)  loss_giou_dn_0: 1.3703 (1.3716)  loss_fgl_dn_0: 0.7879 (0.7895)  loss_ddf_dn_0: 0.0012 (0.0013)  loss_mal_dn_1: 0.6138 (0.6161)  loss_bbox_dn_1: 0.5127 (0.5268)  loss_giou_dn_1: 1.3702 (1.3715)  loss_fgl_dn_1: 0.7874 (0.7891)  loss_ddf_dn_1: 0.0002 (0.0002)  loss_mal_dn_2: 0.6152 (0.6165)  loss_bbox_dn_2: 0.5129 (0.5272)  loss_giou_dn_2: 1.3700 (1.3713)  loss_fgl_dn_2: 0.7874 (0.7890)  loss_mal_dn_pre: 0.6167 (0.6182)  loss_bbox_dn_pre: 0.5159 (0.5286)  loss_giou_dn_pre: 1.3695 (1.3705)  time: 0.5777  data: 0.1102  max mem: 10586\n",
      "Epoch: [43] Total time: 0:00:08 (0.5819 s / it)\n",
      "Averaged stats: lr: 0.000022  loss: 28.4354 (28.4769)  loss_mal: 0.8662 (0.8209)  loss_bbox: 0.5676 (0.5883)  loss_giou: 1.2660 (1.2946)  loss_fgl: 0.8685 (0.8428)  loss_mal_aux_0: 0.8672 (0.8203)  loss_bbox_aux_0: 0.5682 (0.5884)  loss_giou_aux_0: 1.2649 (1.2941)  loss_fgl_aux_0: 0.8697 (0.8431)  loss_ddf_aux_0: 0.0022 (0.0022)  loss_mal_aux_1: 0.8579 (0.8215)  loss_bbox_aux_1: 0.5682 (0.5881)  loss_giou_aux_1: 1.2664 (1.2949)  loss_fgl_aux_1: 0.8685 (0.8427)  loss_ddf_aux_1: 0.0002 (0.0002)  loss_mal_pre: 0.8691 (0.8197)  loss_bbox_pre: 0.5692 (0.5875)  loss_giou_pre: 1.2653 (1.2946)  loss_mal_enc_0: 0.8779 (0.8174)  loss_bbox_enc_0: 0.5716 (0.5881)  loss_giou_enc_0: 1.2655 (1.2953)  loss_mal_dn_0: 0.6167 (0.6178)  loss_bbox_dn_0: 0.5130 (0.5268)  loss_giou_dn_0: 1.3703 (1.3716)  loss_fgl_dn_0: 0.7879 (0.7895)  loss_ddf_dn_0: 0.0012 (0.0013)  loss_mal_dn_1: 0.6138 (0.6161)  loss_bbox_dn_1: 0.5127 (0.5268)  loss_giou_dn_1: 1.3702 (1.3715)  loss_fgl_dn_1: 0.7874 (0.7891)  loss_ddf_dn_1: 0.0002 (0.0002)  loss_mal_dn_2: 0.6152 (0.6165)  loss_bbox_dn_2: 0.5129 (0.5272)  loss_giou_dn_2: 1.3700 (1.3713)  loss_fgl_dn_2: 0.7874 (0.7890)  loss_mal_dn_pre: 0.6167 (0.6182)  loss_bbox_dn_pre: 0.5159 (0.5286)  loss_giou_dn_pre: 1.3695 (1.3705)\n"
     ]
    },
    {
     "name": "stderr",
     "output_type": "stream",
     "text": [
      "2025-03-10 14:57:54,445 - DEIMTrainer - INFO - Checkpoint saved to outputs/deim_hgnetv2_s_coco/checkpoint0043.pth\n",
      "2025-03-10 14:57:54,448 - DEIMTrainer - INFO - Evaluating model...\n"
     ]
    },
    {
     "name": "stdout",
     "output_type": "stream",
     "text": [
      "Test:  [0/5]  eta: 0:00:03    time: 0.7545  data: 0.6435  max mem: 10586\n"
     ]
    },
    {
     "name": "stderr",
     "output_type": "stream",
     "text": [
      "2025-03-10 14:57:55,738 - DEIMTrainer - INFO - Saving checkpoint to outputs/deim_hgnetv2_s_coco/best.pth\n"
     ]
    },
    {
     "name": "stdout",
     "output_type": "stream",
     "text": [
      "Test:  [4/5]  eta: 0:00:00    time: 0.2439  data: 0.1412  max mem: 10586\n",
      "Test: Total time: 0:00:01 (0.2541 s / it)\n",
      "Averaged stats: \n",
      "Accumulating evaluation results...\n",
      "COCOeval_opt.accumulate() finished...\n",
      "DONE (t=0.01s).\n",
      "IoU metric: bbox\n",
      " Average Precision  (AP) @[ IoU=0.50:0.95 | area=   all | maxDets=100 ] = 0.014\n",
      " Average Precision  (AP) @[ IoU=0.50      | area=   all | maxDets=100 ] = 0.059\n",
      " Average Precision  (AP) @[ IoU=0.75      | area=   all | maxDets=100 ] = 0.001\n",
      " Average Precision  (AP) @[ IoU=0.50:0.95 | area= small | maxDets=100 ] = 0.000\n",
      " Average Precision  (AP) @[ IoU=0.50:0.95 | area=medium | maxDets=100 ] = 0.002\n",
      " Average Precision  (AP) @[ IoU=0.50:0.95 | area= large | maxDets=100 ] = 0.021\n",
      " Average Recall     (AR) @[ IoU=0.50:0.95 | area=   all | maxDets=  1 ] = 0.024\n",
      " Average Recall     (AR) @[ IoU=0.50:0.95 | area=   all | maxDets= 10 ] = 0.081\n",
      " Average Recall     (AR) @[ IoU=0.50:0.95 | area=   all | maxDets=100 ] = 0.138\n",
      " Average Recall     (AR) @[ IoU=0.50:0.95 | area= small | maxDets=100 ] = 0.000\n",
      " Average Recall     (AR) @[ IoU=0.50:0.95 | area=medium | maxDets=100 ] = 0.051\n",
      " Average Recall     (AR) @[ IoU=0.50:0.95 | area= large | maxDets=100 ] = 0.143\n",
      " Average Recall     (AR) @[ IoU=0.50      | area=   all | maxDets=100 ] = 0.419\n",
      " Average Recall     (AR) @[ IoU=0.75      | area=   all | maxDets=100 ] = 0.051\n",
      "================================================\n",
      "{'coco_eval_bbox': [0.013557310875642044, 0.05851209460816703, 0.0010452359315073704, 0.0, 0.001630580831654163, 0.021265347951693454, 0.02378408628408628, 0.08083028083028082, 0.13784086284086283, 0.0, 0.051339285714285705, 0.14322720637550795]}\n",
      "================================================\n"
     ]
    },
    {
     "name": "stderr",
     "output_type": "stream",
     "text": [
      "2025-03-10 14:57:56,353 - DEIMTrainer - INFO - Checkpoint saved to outputs/deim_hgnetv2_s_coco/best.pth\n",
      "2025-03-10 14:57:56,355 - DEIMTrainer - INFO - Epoch 43 - Train loss: 28.4769, Eval mAP: 0.0136\n",
      "2025-03-10 14:57:56,356 - DEIMTrainer - INFO - Best stats: {'epoch': 43, 'coco_eval_bbox': 0.013557310875642044}\n"
     ]
    },
    {
     "name": "stdout",
     "output_type": "stream",
     "text": [
      "Epoch: [44]  [ 0/15]  eta: 0:00:28  lr: 0.000022  loss: 28.8485 (28.8485)  loss_mal: 0.9023 (0.9023)  loss_bbox: 0.6046 (0.6046)  loss_giou: 1.2352 (1.2352)  loss_fgl: 0.8481 (0.8481)  loss_mal_aux_0: 0.9077 (0.9077)  loss_bbox_aux_0: 0.6051 (0.6051)  loss_giou_aux_0: 1.2360 (1.2360)  loss_fgl_aux_0: 0.8480 (0.8480)  loss_ddf_aux_0: 0.0018 (0.0018)  loss_mal_aux_1: 0.9053 (0.9053)  loss_bbox_aux_1: 0.6044 (0.6044)  loss_giou_aux_1: 1.2356 (1.2356)  loss_fgl_aux_1: 0.8480 (0.8480)  loss_ddf_aux_1: 0.0002 (0.0002)  loss_mal_pre: 0.9062 (0.9062)  loss_bbox_pre: 0.6030 (0.6030)  loss_giou_pre: 1.2364 (1.2364)  loss_mal_enc_0: 0.9497 (0.9497)  loss_bbox_enc_0: 0.6042 (0.6042)  loss_giou_enc_0: 1.2380 (1.2380)  loss_mal_dn_0: 0.6187 (0.6187)  loss_bbox_dn_0: 0.5471 (0.5471)  loss_giou_dn_0: 1.3824 (1.3824)  loss_fgl_dn_0: 0.7807 (0.7807)  loss_ddf_dn_0: 0.0010 (0.0010)  loss_mal_dn_1: 0.6152 (0.6152)  loss_bbox_dn_1: 0.5478 (0.5478)  loss_giou_dn_1: 1.3823 (1.3823)  loss_fgl_dn_1: 0.7802 (0.7802)  loss_ddf_dn_1: 0.0002 (0.0002)  loss_mal_dn_2: 0.6162 (0.6162)  loss_bbox_dn_2: 0.5483 (0.5483)  loss_giou_dn_2: 1.3820 (1.3820)  loss_fgl_dn_2: 0.7801 (0.7801)  loss_mal_dn_pre: 0.6177 (0.6177)  loss_bbox_dn_pre: 0.5464 (0.5464)  loss_giou_dn_pre: 1.3826 (1.3826)  time: 1.9079  data: 1.3915  max mem: 10586\n"
     ]
    },
    {
     "name": "stderr",
     "output_type": "stream",
     "text": [
      "2025-03-10 14:58:05,169 - DEIMTrainer - INFO - Evaluating model...\n"
     ]
    },
    {
     "name": "stdout",
     "output_type": "stream",
     "text": [
      "Epoch: [44]  [14/15]  eta: 0:00:00  lr: 0.000023  loss: 28.3216 (28.4481)  loss_mal: 0.7324 (0.7977)  loss_bbox: 0.6025 (0.6057)  loss_giou: 1.3303 (1.3217)  loss_fgl: 0.7968 (0.8159)  loss_mal_aux_0: 0.7222 (0.7889)  loss_bbox_aux_0: 0.6022 (0.6054)  loss_giou_aux_0: 1.3310 (1.3218)  loss_fgl_aux_0: 0.7967 (0.8162)  loss_ddf_aux_0: 0.0020 (0.0020)  loss_mal_aux_1: 0.7314 (0.7983)  loss_bbox_aux_1: 0.6021 (0.6051)  loss_giou_aux_1: 1.3306 (1.3220)  loss_fgl_aux_1: 0.7969 (0.8159)  loss_ddf_aux_1: 0.0002 (0.0002)  loss_mal_pre: 0.7217 (0.7883)  loss_bbox_pre: 0.6018 (0.6030)  loss_giou_pre: 1.3321 (1.3229)  loss_mal_enc_0: 0.7227 (0.7800)  loss_bbox_enc_0: 0.6014 (0.6028)  loss_giou_enc_0: 1.3344 (1.3241)  loss_mal_dn_0: 0.6206 (0.6204)  loss_bbox_dn_0: 0.5221 (0.5197)  loss_giou_dn_0: 1.3676 (1.3675)  loss_fgl_dn_0: 0.7914 (0.7921)  loss_ddf_dn_0: 0.0013 (0.0013)  loss_mal_dn_1: 0.6211 (0.6212)  loss_bbox_dn_1: 0.5218 (0.5199)  loss_giou_dn_1: 1.3677 (1.3674)  loss_fgl_dn_1: 0.7908 (0.7918)  loss_ddf_dn_1: 0.0002 (0.0002)  loss_mal_dn_2: 0.6216 (0.6217)  loss_bbox_dn_2: 0.5217 (0.5202)  loss_giou_dn_2: 1.3676 (1.3671)  loss_fgl_dn_2: 0.7909 (0.7918)  loss_mal_dn_pre: 0.6211 (0.6204)  loss_bbox_dn_pre: 0.5228 (0.5206)  loss_giou_dn_pre: 1.3671 (1.3668)  time: 0.5822  data: 0.1156  max mem: 10586\n",
      "Epoch: [44] Total time: 0:00:08 (0.5862 s / it)\n",
      "Averaged stats: lr: 0.000023  loss: 28.3216 (28.4481)  loss_mal: 0.7324 (0.7977)  loss_bbox: 0.6025 (0.6057)  loss_giou: 1.3303 (1.3217)  loss_fgl: 0.7968 (0.8159)  loss_mal_aux_0: 0.7222 (0.7889)  loss_bbox_aux_0: 0.6022 (0.6054)  loss_giou_aux_0: 1.3310 (1.3218)  loss_fgl_aux_0: 0.7967 (0.8162)  loss_ddf_aux_0: 0.0020 (0.0020)  loss_mal_aux_1: 0.7314 (0.7983)  loss_bbox_aux_1: 0.6021 (0.6051)  loss_giou_aux_1: 1.3306 (1.3220)  loss_fgl_aux_1: 0.7969 (0.8159)  loss_ddf_aux_1: 0.0002 (0.0002)  loss_mal_pre: 0.7217 (0.7883)  loss_bbox_pre: 0.6018 (0.6030)  loss_giou_pre: 1.3321 (1.3229)  loss_mal_enc_0: 0.7227 (0.7800)  loss_bbox_enc_0: 0.6014 (0.6028)  loss_giou_enc_0: 1.3344 (1.3241)  loss_mal_dn_0: 0.6206 (0.6204)  loss_bbox_dn_0: 0.5221 (0.5197)  loss_giou_dn_0: 1.3676 (1.3675)  loss_fgl_dn_0: 0.7914 (0.7921)  loss_ddf_dn_0: 0.0013 (0.0013)  loss_mal_dn_1: 0.6211 (0.6212)  loss_bbox_dn_1: 0.5218 (0.5199)  loss_giou_dn_1: 1.3677 (1.3674)  loss_fgl_dn_1: 0.7908 (0.7918)  loss_ddf_dn_1: 0.0002 (0.0002)  loss_mal_dn_2: 0.6216 (0.6217)  loss_bbox_dn_2: 0.5217 (0.5202)  loss_giou_dn_2: 1.3676 (1.3671)  loss_fgl_dn_2: 0.7909 (0.7918)  loss_mal_dn_pre: 0.6211 (0.6204)  loss_bbox_dn_pre: 0.5228 (0.5206)  loss_giou_dn_pre: 1.3671 (1.3668)\n",
      "Test:  [0/5]  eta: 0:00:03    time: 0.7623  data: 0.6533  max mem: 10586\n"
     ]
    },
    {
     "name": "stderr",
     "output_type": "stream",
     "text": [
      "2025-03-10 14:58:06,479 - DEIMTrainer - INFO - Epoch 44 - Train loss: 28.4481, Eval mAP: 0.0093\n",
      "2025-03-10 14:58:06,480 - DEIMTrainer - INFO - Best stats: {'epoch': 43, 'coco_eval_bbox': 0.013557310875642044}\n"
     ]
    },
    {
     "name": "stdout",
     "output_type": "stream",
     "text": [
      "Test:  [4/5]  eta: 0:00:00    time: 0.2461  data: 0.1443  max mem: 10586\n",
      "Test: Total time: 0:00:01 (0.2576 s / it)\n",
      "Averaged stats: \n",
      "Accumulating evaluation results...\n",
      "COCOeval_opt.accumulate() finished...\n",
      "DONE (t=0.01s).\n",
      "IoU metric: bbox\n",
      " Average Precision  (AP) @[ IoU=0.50:0.95 | area=   all | maxDets=100 ] = 0.009\n",
      " Average Precision  (AP) @[ IoU=0.50      | area=   all | maxDets=100 ] = 0.039\n",
      " Average Precision  (AP) @[ IoU=0.75      | area=   all | maxDets=100 ] = 0.001\n",
      " Average Precision  (AP) @[ IoU=0.50:0.95 | area= small | maxDets=100 ] = 0.000\n",
      " Average Precision  (AP) @[ IoU=0.50:0.95 | area=medium | maxDets=100 ] = 0.002\n",
      " Average Precision  (AP) @[ IoU=0.50:0.95 | area= large | maxDets=100 ] = 0.016\n",
      " Average Recall     (AR) @[ IoU=0.50:0.95 | area=   all | maxDets=  1 ] = 0.020\n",
      " Average Recall     (AR) @[ IoU=0.50:0.95 | area=   all | maxDets= 10 ] = 0.061\n",
      " Average Recall     (AR) @[ IoU=0.50:0.95 | area=   all | maxDets=100 ] = 0.117\n",
      " Average Recall     (AR) @[ IoU=0.50:0.95 | area= small | maxDets=100 ] = 0.000\n",
      " Average Recall     (AR) @[ IoU=0.50:0.95 | area=medium | maxDets=100 ] = 0.060\n",
      " Average Recall     (AR) @[ IoU=0.50:0.95 | area= large | maxDets=100 ] = 0.119\n",
      " Average Recall     (AR) @[ IoU=0.50      | area=   all | maxDets=100 ] = 0.369\n",
      " Average Recall     (AR) @[ IoU=0.75      | area=   all | maxDets=100 ] = 0.043\n",
      "================================================\n",
      "{'coco_eval_bbox': [0.00925858866043984, 0.03935041842626748, 0.001377292437038482, 0.0, 0.0020958172730935823, 0.01554657654428593, 0.019917582417582416, 0.06075498575498576, 0.117002442002442, 0.0, 0.060267857142857144, 0.1192354124748491]}\n",
      "================================================\n",
      "Epoch: [45]  [ 0/15]  eta: 0:00:29  lr: 0.000023  loss: 27.7171 (27.7171)  loss_mal: 0.8394 (0.8394)  loss_bbox: 0.4730 (0.4730)  loss_giou: 1.2569 (1.2569)  loss_fgl: 0.8589 (0.8589)  loss_mal_aux_0: 0.8608 (0.8608)  loss_bbox_aux_0: 0.4738 (0.4738)  loss_giou_aux_0: 1.2556 (1.2556)  loss_fgl_aux_0: 0.8599 (0.8599)  loss_ddf_aux_0: 0.0019 (0.0019)  loss_mal_aux_1: 0.8457 (0.8457)  loss_bbox_aux_1: 0.4731 (0.4731)  loss_giou_aux_1: 1.2569 (1.2569)  loss_fgl_aux_1: 0.8590 (0.8590)  loss_ddf_aux_1: 0.0003 (0.0003)  loss_mal_pre: 0.8584 (0.8584)  loss_bbox_pre: 0.4745 (0.4745)  loss_giou_pre: 1.2547 (1.2547)  loss_mal_enc_0: 0.8472 (0.8472)  loss_bbox_enc_0: 0.4748 (0.4748)  loss_giou_enc_0: 1.2550 (1.2550)  loss_mal_dn_0: 0.6294 (0.6294)  loss_bbox_dn_0: 0.4591 (0.4591)  loss_giou_dn_0: 1.3725 (1.3725)  loss_fgl_dn_0: 0.8005 (0.8005)  loss_ddf_dn_0: 0.0011 (0.0011)  loss_mal_dn_1: 0.6255 (0.6255)  loss_bbox_dn_1: 0.4582 (0.4582)  loss_giou_dn_1: 1.3728 (1.3728)  loss_fgl_dn_1: 0.8002 (0.8002)  loss_ddf_dn_1: 0.0002 (0.0002)  loss_mal_dn_2: 0.6235 (0.6235)  loss_bbox_dn_2: 0.4577 (0.4577)  loss_giou_dn_2: 1.3730 (1.3730)  loss_fgl_dn_2: 0.8000 (0.8000)  loss_mal_dn_pre: 0.6299 (0.6299)  loss_bbox_dn_pre: 0.4630 (0.4630)  loss_giou_dn_pre: 1.3710 (1.3710)  time: 1.9368  data: 1.4295  max mem: 10586\n"
     ]
    },
    {
     "name": "stderr",
     "output_type": "stream",
     "text": [
      "2025-03-10 14:58:14,857 - DEIMTrainer - INFO - Evaluating model...\n"
     ]
    },
    {
     "name": "stdout",
     "output_type": "stream",
     "text": [
      "Epoch: [45]  [14/15]  eta: 0:00:00  lr: 0.000024  loss: 28.3104 (28.1466)  loss_mal: 0.8428 (0.8324)  loss_bbox: 0.5115 (0.5379)  loss_giou: 1.2569 (1.2751)  loss_fgl: 0.8589 (0.8531)  loss_mal_aux_0: 0.8608 (0.8359)  loss_bbox_aux_0: 0.5117 (0.5386)  loss_giou_aux_0: 1.2556 (1.2747)  loss_fgl_aux_0: 0.8599 (0.8536)  loss_ddf_aux_0: 0.0021 (0.0020)  loss_mal_aux_1: 0.8457 (0.8392)  loss_bbox_aux_1: 0.5117 (0.5380)  loss_giou_aux_1: 1.2569 (1.2753)  loss_fgl_aux_1: 0.8590 (0.8532)  loss_ddf_aux_1: 0.0003 (0.0003)  loss_mal_pre: 0.8584 (0.8344)  loss_bbox_pre: 0.5120 (0.5386)  loss_giou_pre: 1.2547 (1.2753)  loss_mal_enc_0: 0.8530 (0.8328)  loss_bbox_enc_0: 0.5134 (0.5398)  loss_giou_enc_0: 1.2550 (1.2764)  loss_mal_dn_0: 0.6172 (0.6178)  loss_bbox_dn_0: 0.4976 (0.5002)  loss_giou_dn_0: 1.3781 (1.3756)  loss_fgl_dn_0: 0.7857 (0.7885)  loss_ddf_dn_0: 0.0011 (0.0011)  loss_mal_dn_1: 0.6157 (0.6169)  loss_bbox_dn_1: 0.4973 (0.5002)  loss_giou_dn_1: 1.3781 (1.3756)  loss_fgl_dn_1: 0.7853 (0.7882)  loss_ddf_dn_1: 0.0002 (0.0002)  loss_mal_dn_2: 0.6157 (0.6171)  loss_bbox_dn_2: 0.4974 (0.5002)  loss_giou_dn_2: 1.3779 (1.3756)  loss_fgl_dn_2: 0.7851 (0.7880)  loss_mal_dn_pre: 0.6167 (0.6182)  loss_bbox_dn_pre: 0.4993 (0.5019)  loss_giou_dn_pre: 1.3776 (1.3746)  time: 0.5523  data: 0.1102  max mem: 10586\n",
      "Epoch: [45] Total time: 0:00:08 (0.5573 s / it)\n",
      "Averaged stats: lr: 0.000024  loss: 28.3104 (28.1466)  loss_mal: 0.8428 (0.8324)  loss_bbox: 0.5115 (0.5379)  loss_giou: 1.2569 (1.2751)  loss_fgl: 0.8589 (0.8531)  loss_mal_aux_0: 0.8608 (0.8359)  loss_bbox_aux_0: 0.5117 (0.5386)  loss_giou_aux_0: 1.2556 (1.2747)  loss_fgl_aux_0: 0.8599 (0.8536)  loss_ddf_aux_0: 0.0021 (0.0020)  loss_mal_aux_1: 0.8457 (0.8392)  loss_bbox_aux_1: 0.5117 (0.5380)  loss_giou_aux_1: 1.2569 (1.2753)  loss_fgl_aux_1: 0.8590 (0.8532)  loss_ddf_aux_1: 0.0003 (0.0003)  loss_mal_pre: 0.8584 (0.8344)  loss_bbox_pre: 0.5120 (0.5386)  loss_giou_pre: 1.2547 (1.2753)  loss_mal_enc_0: 0.8530 (0.8328)  loss_bbox_enc_0: 0.5134 (0.5398)  loss_giou_enc_0: 1.2550 (1.2764)  loss_mal_dn_0: 0.6172 (0.6178)  loss_bbox_dn_0: 0.4976 (0.5002)  loss_giou_dn_0: 1.3781 (1.3756)  loss_fgl_dn_0: 0.7857 (0.7885)  loss_ddf_dn_0: 0.0011 (0.0011)  loss_mal_dn_1: 0.6157 (0.6169)  loss_bbox_dn_1: 0.4973 (0.5002)  loss_giou_dn_1: 1.3781 (1.3756)  loss_fgl_dn_1: 0.7853 (0.7882)  loss_ddf_dn_1: 0.0002 (0.0002)  loss_mal_dn_2: 0.6157 (0.6171)  loss_bbox_dn_2: 0.4974 (0.5002)  loss_giou_dn_2: 1.3779 (1.3756)  loss_fgl_dn_2: 0.7851 (0.7880)  loss_mal_dn_pre: 0.6167 (0.6182)  loss_bbox_dn_pre: 0.4993 (0.5019)  loss_giou_dn_pre: 1.3776 (1.3746)\n",
      "Test:  [0/5]  eta: 0:00:03    time: 0.7494  data: 0.6392  max mem: 10586\n"
     ]
    },
    {
     "name": "stderr",
     "output_type": "stream",
     "text": [
      "2025-03-10 14:58:16,132 - DEIMTrainer - INFO - Epoch 45 - Train loss: 28.1466, Eval mAP: 0.0117\n",
      "2025-03-10 14:58:16,132 - DEIMTrainer - INFO - Best stats: {'epoch': 43, 'coco_eval_bbox': 0.013557310875642044}\n"
     ]
    },
    {
     "name": "stdout",
     "output_type": "stream",
     "text": [
      "Test:  [4/5]  eta: 0:00:00    time: 0.2402  data: 0.1400  max mem: 10586\n",
      "Test: Total time: 0:00:01 (0.2504 s / it)\n",
      "Averaged stats: \n",
      "Accumulating evaluation results...\n",
      "COCOeval_opt.accumulate() finished...\n",
      "DONE (t=0.01s).\n",
      "IoU metric: bbox\n",
      " Average Precision  (AP) @[ IoU=0.50:0.95 | area=   all | maxDets=100 ] = 0.012\n",
      " Average Precision  (AP) @[ IoU=0.50      | area=   all | maxDets=100 ] = 0.052\n",
      " Average Precision  (AP) @[ IoU=0.75      | area=   all | maxDets=100 ] = 0.001\n",
      " Average Precision  (AP) @[ IoU=0.50:0.95 | area= small | maxDets=100 ] = 0.000\n",
      " Average Precision  (AP) @[ IoU=0.50:0.95 | area=medium | maxDets=100 ] = 0.002\n",
      " Average Precision  (AP) @[ IoU=0.50:0.95 | area= large | maxDets=100 ] = 0.020\n",
      " Average Recall     (AR) @[ IoU=0.50:0.95 | area=   all | maxDets=  1 ] = 0.023\n",
      " Average Recall     (AR) @[ IoU=0.50:0.95 | area=   all | maxDets= 10 ] = 0.079\n",
      " Average Recall     (AR) @[ IoU=0.50:0.95 | area=   all | maxDets=100 ] = 0.138\n",
      " Average Recall     (AR) @[ IoU=0.50:0.95 | area= small | maxDets=100 ] = 0.000\n",
      " Average Recall     (AR) @[ IoU=0.50:0.95 | area=medium | maxDets=100 ] = 0.069\n",
      " Average Recall     (AR) @[ IoU=0.50:0.95 | area= large | maxDets=100 ] = 0.137\n",
      " Average Recall     (AR) @[ IoU=0.50      | area=   all | maxDets=100 ] = 0.421\n",
      " Average Recall     (AR) @[ IoU=0.75      | area=   all | maxDets=100 ] = 0.055\n",
      "================================================\n",
      "{'coco_eval_bbox': [0.011700018478693305, 0.05169558277338699, 0.0007904225576151313, 0.0, 0.0017087947024462835, 0.019713215780135494, 0.023036223036223036, 0.07927350427350427, 0.1379985754985755, 0.0, 0.06919642857142859, 0.1372249181362686]}\n",
      "================================================\n",
      "Epoch: [46]  [ 0/15]  eta: 0:00:32  lr: 0.000024  loss: 27.8426 (27.8426)  loss_mal: 0.6958 (0.6958)  loss_bbox: 0.5961 (0.5961)  loss_giou: 1.3665 (1.3665)  loss_fgl: 0.7740 (0.7740)  loss_mal_aux_0: 0.6958 (0.6958)  loss_bbox_aux_0: 0.5957 (0.5957)  loss_giou_aux_0: 1.3669 (1.3669)  loss_fgl_aux_0: 0.7731 (0.7731)  loss_ddf_aux_0: 0.0019 (0.0019)  loss_mal_aux_1: 0.6958 (0.6958)  loss_bbox_aux_1: 0.5953 (0.5953)  loss_giou_aux_1: 1.3668 (1.3668)  loss_fgl_aux_1: 0.7740 (0.7740)  loss_ddf_aux_1: 0.0003 (0.0003)  loss_mal_pre: 0.6958 (0.6958)  loss_bbox_pre: 0.5913 (0.5913)  loss_giou_pre: 1.3677 (1.3677)  loss_mal_enc_0: 0.6934 (0.6934)  loss_bbox_enc_0: 0.5915 (0.5915)  loss_giou_enc_0: 1.3694 (1.3694)  loss_mal_dn_0: 0.6172 (0.6172)  loss_bbox_dn_0: 0.4771 (0.4771)  loss_giou_dn_0: 1.3715 (1.3715)  loss_fgl_dn_0: 0.7911 (0.7911)  loss_ddf_dn_0: 0.0013 (0.0013)  loss_mal_dn_1: 0.6157 (0.6157)  loss_bbox_dn_1: 0.4775 (0.4775)  loss_giou_dn_1: 1.3712 (1.3712)  loss_fgl_dn_1: 0.7910 (0.7910)  loss_ddf_dn_1: 0.0003 (0.0003)  loss_mal_dn_2: 0.6157 (0.6157)  loss_bbox_dn_2: 0.4779 (0.4779)  loss_giou_dn_2: 1.3711 (1.3711)  loss_fgl_dn_2: 0.7910 (0.7910)  loss_mal_dn_pre: 0.6172 (0.6172)  loss_bbox_dn_pre: 0.4769 (0.4769)  loss_giou_dn_pre: 1.3718 (1.3718)  time: 2.1656  data: 1.5869  max mem: 10586\n"
     ]
    },
    {
     "name": "stderr",
     "output_type": "stream",
     "text": [
      "2025-03-10 14:58:24,913 - DEIMTrainer - INFO - Evaluating model...\n"
     ]
    },
    {
     "name": "stdout",
     "output_type": "stream",
     "text": [
      "Epoch: [46]  [14/15]  eta: 0:00:00  lr: 0.000025  loss: 28.1960 (28.3694)  loss_mal: 0.7402 (0.7820)  loss_bbox: 0.6153 (0.5995)  loss_giou: 1.3665 (1.3258)  loss_fgl: 0.7907 (0.8179)  loss_mal_aux_0: 0.7358 (0.7763)  loss_bbox_aux_0: 0.6150 (0.5998)  loss_giou_aux_0: 1.3669 (1.3259)  loss_fgl_aux_0: 0.7902 (0.8178)  loss_ddf_aux_0: 0.0019 (0.0019)  loss_mal_aux_1: 0.7402 (0.7795)  loss_bbox_aux_1: 0.6146 (0.5992)  loss_giou_aux_1: 1.3668 (1.3261)  loss_fgl_aux_1: 0.7908 (0.8178)  loss_ddf_aux_1: 0.0003 (0.0003)  loss_mal_pre: 0.7339 (0.7754)  loss_bbox_pre: 0.6116 (0.5984)  loss_giou_pre: 1.3677 (1.3268)  loss_mal_enc_0: 0.7207 (0.7675)  loss_bbox_enc_0: 0.6108 (0.5990)  loss_giou_enc_0: 1.3694 (1.3282)  loss_mal_dn_0: 0.6182 (0.6204)  loss_bbox_dn_0: 0.5032 (0.5188)  loss_giou_dn_0: 1.3715 (1.3667)  loss_fgl_dn_0: 0.7911 (0.7929)  loss_ddf_dn_0: 0.0012 (0.0011)  loss_mal_dn_1: 0.6201 (0.6203)  loss_bbox_dn_1: 0.5035 (0.5189)  loss_giou_dn_1: 1.3712 (1.3664)  loss_fgl_dn_1: 0.7910 (0.7928)  loss_ddf_dn_1: 0.0003 (0.0003)  loss_mal_dn_2: 0.6191 (0.6208)  loss_bbox_dn_2: 0.5035 (0.5190)  loss_giou_dn_2: 1.3711 (1.3663)  loss_fgl_dn_2: 0.7910 (0.7928)  loss_mal_dn_pre: 0.6182 (0.6205)  loss_bbox_dn_pre: 0.5053 (0.5200)  loss_giou_dn_pre: 1.3718 (1.3662)  time: 0.5803  data: 0.1228  max mem: 10586\n",
      "Epoch: [46] Total time: 0:00:08 (0.5840 s / it)\n",
      "Averaged stats: lr: 0.000025  loss: 28.1960 (28.3694)  loss_mal: 0.7402 (0.7820)  loss_bbox: 0.6153 (0.5995)  loss_giou: 1.3665 (1.3258)  loss_fgl: 0.7907 (0.8179)  loss_mal_aux_0: 0.7358 (0.7763)  loss_bbox_aux_0: 0.6150 (0.5998)  loss_giou_aux_0: 1.3669 (1.3259)  loss_fgl_aux_0: 0.7902 (0.8178)  loss_ddf_aux_0: 0.0019 (0.0019)  loss_mal_aux_1: 0.7402 (0.7795)  loss_bbox_aux_1: 0.6146 (0.5992)  loss_giou_aux_1: 1.3668 (1.3261)  loss_fgl_aux_1: 0.7908 (0.8178)  loss_ddf_aux_1: 0.0003 (0.0003)  loss_mal_pre: 0.7339 (0.7754)  loss_bbox_pre: 0.6116 (0.5984)  loss_giou_pre: 1.3677 (1.3268)  loss_mal_enc_0: 0.7207 (0.7675)  loss_bbox_enc_0: 0.6108 (0.5990)  loss_giou_enc_0: 1.3694 (1.3282)  loss_mal_dn_0: 0.6182 (0.6204)  loss_bbox_dn_0: 0.5032 (0.5188)  loss_giou_dn_0: 1.3715 (1.3667)  loss_fgl_dn_0: 0.7911 (0.7929)  loss_ddf_dn_0: 0.0012 (0.0011)  loss_mal_dn_1: 0.6201 (0.6203)  loss_bbox_dn_1: 0.5035 (0.5189)  loss_giou_dn_1: 1.3712 (1.3664)  loss_fgl_dn_1: 0.7910 (0.7928)  loss_ddf_dn_1: 0.0003 (0.0003)  loss_mal_dn_2: 0.6191 (0.6208)  loss_bbox_dn_2: 0.5035 (0.5190)  loss_giou_dn_2: 1.3711 (1.3663)  loss_fgl_dn_2: 0.7910 (0.7928)  loss_mal_dn_pre: 0.6182 (0.6205)  loss_bbox_dn_pre: 0.5053 (0.5200)  loss_giou_dn_pre: 1.3718 (1.3662)\n",
      "Test:  [0/5]  eta: 0:00:04    time: 0.9220  data: 0.6487  max mem: 10586\n"
     ]
    },
    {
     "name": "stderr",
     "output_type": "stream",
     "text": [
      "2025-03-10 14:58:26,399 - DEIMTrainer - INFO - Epoch 46 - Train loss: 28.3694, Eval mAP: 0.0135\n",
      "2025-03-10 14:58:26,399 - DEIMTrainer - INFO - Best stats: {'epoch': 43, 'coco_eval_bbox': 0.013557310875642044}\n"
     ]
    },
    {
     "name": "stdout",
     "output_type": "stream",
     "text": [
      "Test:  [4/5]  eta: 0:00:00    time: 0.2807  data: 0.1431  max mem: 10586\n",
      "Test: Total time: 0:00:01 (0.2926 s / it)\n",
      "Averaged stats: \n",
      "Accumulating evaluation results...\n",
      "COCOeval_opt.accumulate() finished...\n",
      "DONE (t=0.01s).\n",
      "IoU metric: bbox\n",
      " Average Precision  (AP) @[ IoU=0.50:0.95 | area=   all | maxDets=100 ] = 0.013\n",
      " Average Precision  (AP) @[ IoU=0.50      | area=   all | maxDets=100 ] = 0.056\n",
      " Average Precision  (AP) @[ IoU=0.75      | area=   all | maxDets=100 ] = 0.002\n",
      " Average Precision  (AP) @[ IoU=0.50:0.95 | area= small | maxDets=100 ] = 0.000\n",
      " Average Precision  (AP) @[ IoU=0.50:0.95 | area=medium | maxDets=100 ] = 0.002\n",
      " Average Precision  (AP) @[ IoU=0.50:0.95 | area= large | maxDets=100 ] = 0.020\n",
      " Average Recall     (AR) @[ IoU=0.50:0.95 | area=   all | maxDets=  1 ] = 0.023\n",
      " Average Recall     (AR) @[ IoU=0.50:0.95 | area=   all | maxDets= 10 ] = 0.059\n",
      " Average Recall     (AR) @[ IoU=0.50:0.95 | area=   all | maxDets=100 ] = 0.117\n",
      " Average Recall     (AR) @[ IoU=0.50:0.95 | area= small | maxDets=100 ] = 0.000\n",
      " Average Recall     (AR) @[ IoU=0.50:0.95 | area=medium | maxDets=100 ] = 0.064\n",
      " Average Recall     (AR) @[ IoU=0.50:0.95 | area= large | maxDets=100 ] = 0.119\n",
      " Average Recall     (AR) @[ IoU=0.50      | area=   all | maxDets=100 ] = 0.361\n",
      " Average Recall     (AR) @[ IoU=0.75      | area=   all | maxDets=100 ] = 0.044\n",
      "================================================\n",
      "{'coco_eval_bbox': [0.013451371173019184, 0.05610813734635672, 0.0016155370804796579, 0.0, 0.0021177168777733123, 0.020365914872394045, 0.02336182336182336, 0.058552096052096055, 0.11714997964997965, 0.0, 0.06413690476190476, 0.11949185307925987]}\n",
      "================================================\n",
      "Epoch: [47]  [ 0/15]  eta: 0:00:29  lr: 0.000025  loss: 28.3562 (28.3562)  loss_mal: 0.8413 (0.8413)  loss_bbox: 0.5542 (0.5542)  loss_giou: 1.2659 (1.2659)  loss_fgl: 0.8654 (0.8654)  loss_mal_aux_0: 0.8530 (0.8530)  loss_bbox_aux_0: 0.5547 (0.5547)  loss_giou_aux_0: 1.2653 (1.2653)  loss_fgl_aux_0: 0.8669 (0.8669)  loss_ddf_aux_0: 0.0018 (0.0018)  loss_mal_aux_1: 0.8418 (0.8418)  loss_bbox_aux_1: 0.5543 (0.5543)  loss_giou_aux_1: 1.2661 (1.2661)  loss_fgl_aux_1: 0.8656 (0.8656)  loss_ddf_aux_1: 0.0003 (0.0003)  loss_mal_pre: 0.8496 (0.8496)  loss_bbox_pre: 0.5550 (0.5550)  loss_giou_pre: 1.2654 (1.2654)  loss_mal_enc_0: 0.8564 (0.8564)  loss_bbox_enc_0: 0.5570 (0.5570)  loss_giou_enc_0: 1.2664 (1.2664)  loss_mal_dn_0: 0.6177 (0.6177)  loss_bbox_dn_0: 0.5148 (0.5148)  loss_giou_dn_0: 1.3821 (1.3821)  loss_fgl_dn_0: 0.7859 (0.7859)  loss_ddf_dn_0: 0.0011 (0.0011)  loss_mal_dn_1: 0.6133 (0.6133)  loss_bbox_dn_1: 0.5150 (0.5150)  loss_giou_dn_1: 1.3826 (1.3826)  loss_fgl_dn_1: 0.7855 (0.7855)  loss_ddf_dn_1: 0.0003 (0.0003)  loss_mal_dn_2: 0.6123 (0.6123)  loss_bbox_dn_2: 0.5150 (0.5150)  loss_giou_dn_2: 1.3828 (1.3828)  loss_fgl_dn_2: 0.7850 (0.7850)  loss_mal_dn_pre: 0.6182 (0.6182)  loss_bbox_dn_pre: 0.5172 (0.5172)  loss_giou_dn_pre: 1.3810 (1.3810)  time: 1.9901  data: 1.4698  max mem: 10586\n"
     ]
    },
    {
     "name": "stderr",
     "output_type": "stream",
     "text": [
      "2025-03-10 14:58:35,092 - DEIMTrainer - INFO - Saving checkpoint to outputs/deim_hgnetv2_s_coco/checkpoint0047.pth\n"
     ]
    },
    {
     "name": "stdout",
     "output_type": "stream",
     "text": [
      "Epoch: [47]  [14/15]  eta: 0:00:00  lr: 0.000026  loss: 28.3562 (28.3568)  loss_mal: 0.8838 (0.8381)  loss_bbox: 0.5159 (0.5621)  loss_giou: 1.1912 (1.2677)  loss_fgl: 0.9043 (0.8613)  loss_mal_aux_0: 0.8740 (0.8360)  loss_bbox_aux_0: 0.5158 (0.5624)  loss_giou_aux_0: 1.1909 (1.2675)  loss_fgl_aux_0: 0.9053 (0.8619)  loss_ddf_aux_0: 0.0018 (0.0018)  loss_mal_aux_1: 0.8726 (0.8434)  loss_bbox_aux_1: 0.5160 (0.5620)  loss_giou_aux_1: 1.1915 (1.2679)  loss_fgl_aux_1: 0.9045 (0.8613)  loss_ddf_aux_1: 0.0003 (0.0003)  loss_mal_pre: 0.8730 (0.8345)  loss_bbox_pre: 0.5164 (0.5617)  loss_giou_pre: 1.1937 (1.2688)  loss_mal_enc_0: 0.8691 (0.8354)  loss_bbox_enc_0: 0.5157 (0.5625)  loss_giou_enc_0: 1.1933 (1.2693)  loss_mal_dn_0: 0.6182 (0.6201)  loss_bbox_dn_0: 0.5186 (0.5237)  loss_giou_dn_0: 1.3698 (1.3693)  loss_fgl_dn_0: 0.7925 (0.7927)  loss_ddf_dn_0: 0.0009 (0.0010)  loss_mal_dn_1: 0.6206 (0.6200)  loss_bbox_dn_1: 0.5188 (0.5239)  loss_giou_dn_1: 1.3699 (1.3693)  loss_fgl_dn_1: 0.7923 (0.7926)  loss_ddf_dn_1: 0.0002 (0.0002)  loss_mal_dn_2: 0.6167 (0.6187)  loss_bbox_dn_2: 0.5186 (0.5238)  loss_giou_dn_2: 1.3700 (1.3692)  loss_fgl_dn_2: 0.7923 (0.7924)  loss_mal_dn_pre: 0.6182 (0.6204)  loss_bbox_dn_pre: 0.5196 (0.5251)  loss_giou_dn_pre: 1.3688 (1.3684)  time: 0.5746  data: 0.1193  max mem: 10586\n",
      "Epoch: [47] Total time: 0:00:08 (0.5784 s / it)\n",
      "Averaged stats: lr: 0.000026  loss: 28.3562 (28.3568)  loss_mal: 0.8838 (0.8381)  loss_bbox: 0.5159 (0.5621)  loss_giou: 1.1912 (1.2677)  loss_fgl: 0.9043 (0.8613)  loss_mal_aux_0: 0.8740 (0.8360)  loss_bbox_aux_0: 0.5158 (0.5624)  loss_giou_aux_0: 1.1909 (1.2675)  loss_fgl_aux_0: 0.9053 (0.8619)  loss_ddf_aux_0: 0.0018 (0.0018)  loss_mal_aux_1: 0.8726 (0.8434)  loss_bbox_aux_1: 0.5160 (0.5620)  loss_giou_aux_1: 1.1915 (1.2679)  loss_fgl_aux_1: 0.9045 (0.8613)  loss_ddf_aux_1: 0.0003 (0.0003)  loss_mal_pre: 0.8730 (0.8345)  loss_bbox_pre: 0.5164 (0.5617)  loss_giou_pre: 1.1937 (1.2688)  loss_mal_enc_0: 0.8691 (0.8354)  loss_bbox_enc_0: 0.5157 (0.5625)  loss_giou_enc_0: 1.1933 (1.2693)  loss_mal_dn_0: 0.6182 (0.6201)  loss_bbox_dn_0: 0.5186 (0.5237)  loss_giou_dn_0: 1.3698 (1.3693)  loss_fgl_dn_0: 0.7925 (0.7927)  loss_ddf_dn_0: 0.0009 (0.0010)  loss_mal_dn_1: 0.6206 (0.6200)  loss_bbox_dn_1: 0.5188 (0.5239)  loss_giou_dn_1: 1.3699 (1.3693)  loss_fgl_dn_1: 0.7923 (0.7926)  loss_ddf_dn_1: 0.0002 (0.0002)  loss_mal_dn_2: 0.6167 (0.6187)  loss_bbox_dn_2: 0.5186 (0.5238)  loss_giou_dn_2: 1.3700 (1.3692)  loss_fgl_dn_2: 0.7923 (0.7924)  loss_mal_dn_pre: 0.6182 (0.6204)  loss_bbox_dn_pre: 0.5196 (0.5251)  loss_giou_dn_pre: 1.3688 (1.3684)\n"
     ]
    },
    {
     "name": "stderr",
     "output_type": "stream",
     "text": [
      "2025-03-10 14:58:35,369 - DEIMTrainer - INFO - Checkpoint saved to outputs/deim_hgnetv2_s_coco/checkpoint0047.pth\n",
      "2025-03-10 14:58:35,370 - DEIMTrainer - INFO - Evaluating model...\n"
     ]
    },
    {
     "name": "stdout",
     "output_type": "stream",
     "text": [
      "Test:  [0/5]  eta: 0:00:04    time: 0.9082  data: 0.6315  max mem: 10586\n"
     ]
    },
    {
     "name": "stderr",
     "output_type": "stream",
     "text": [
      "2025-03-10 14:58:36,882 - DEIMTrainer - INFO - Saving checkpoint to outputs/deim_hgnetv2_s_coco/best.pth\n"
     ]
    },
    {
     "name": "stdout",
     "output_type": "stream",
     "text": [
      "Test:  [4/5]  eta: 0:00:00    time: 0.2825  data: 0.1411  max mem: 10586\n",
      "Test: Total time: 0:00:01 (0.2979 s / it)\n",
      "Averaged stats: \n",
      "Accumulating evaluation results...\n",
      "COCOeval_opt.accumulate() finished...\n",
      "DONE (t=0.01s).\n",
      "IoU metric: bbox\n",
      " Average Precision  (AP) @[ IoU=0.50:0.95 | area=   all | maxDets=100 ] = 0.015\n",
      " Average Precision  (AP) @[ IoU=0.50      | area=   all | maxDets=100 ] = 0.066\n",
      " Average Precision  (AP) @[ IoU=0.75      | area=   all | maxDets=100 ] = 0.002\n",
      " Average Precision  (AP) @[ IoU=0.50:0.95 | area= small | maxDets=100 ] = 0.000\n",
      " Average Precision  (AP) @[ IoU=0.50:0.95 | area=medium | maxDets=100 ] = 0.002\n",
      " Average Precision  (AP) @[ IoU=0.50:0.95 | area= large | maxDets=100 ] = 0.019\n",
      " Average Recall     (AR) @[ IoU=0.50:0.95 | area=   all | maxDets=  1 ] = 0.036\n",
      " Average Recall     (AR) @[ IoU=0.50:0.95 | area=   all | maxDets= 10 ] = 0.103\n",
      " Average Recall     (AR) @[ IoU=0.50:0.95 | area=   all | maxDets=100 ] = 0.162\n",
      " Average Recall     (AR) @[ IoU=0.50:0.95 | area= small | maxDets=100 ] = 0.000\n",
      " Average Recall     (AR) @[ IoU=0.50:0.95 | area=medium | maxDets=100 ] = 0.053\n",
      " Average Recall     (AR) @[ IoU=0.50:0.95 | area= large | maxDets=100 ] = 0.167\n",
      " Average Recall     (AR) @[ IoU=0.50      | area=   all | maxDets=100 ] = 0.483\n",
      " Average Recall     (AR) @[ IoU=0.75      | area=   all | maxDets=100 ] = 0.075\n",
      "================================================\n",
      "{'coco_eval_bbox': [0.014808480370935797, 0.06564324322640838, 0.0018729929872116518, 0.0, 0.0016380005551389955, 0.019187070560272718, 0.035576923076923075, 0.10341880341880341, 0.16225579975579976, 0.0, 0.05282738095238095, 0.16738154416696258]}\n",
      "================================================\n"
     ]
    },
    {
     "name": "stderr",
     "output_type": "stream",
     "text": [
      "2025-03-10 14:58:37,372 - DEIMTrainer - INFO - Checkpoint saved to outputs/deim_hgnetv2_s_coco/best.pth\n",
      "2025-03-10 14:58:37,374 - DEIMTrainer - INFO - Epoch 47 - Train loss: 28.3568, Eval mAP: 0.0148\n",
      "2025-03-10 14:58:37,375 - DEIMTrainer - INFO - Best stats: {'epoch': 47, 'coco_eval_bbox': 0.014808480370935797}\n"
     ]
    },
    {
     "name": "stdout",
     "output_type": "stream",
     "text": [
      "Epoch: [48]  [ 0/15]  eta: 0:00:27  lr: 0.000026  loss: 27.7175 (27.7175)  loss_mal: 0.7300 (0.7300)  loss_bbox: 0.5520 (0.5520)  loss_giou: 1.3116 (1.3116)  loss_fgl: 0.8016 (0.8016)  loss_mal_aux_0: 0.7397 (0.7397)  loss_bbox_aux_0: 0.5517 (0.5517)  loss_giou_aux_0: 1.3120 (1.3120)  loss_fgl_aux_0: 0.7993 (0.7993)  loss_ddf_aux_0: 0.0017 (0.0017)  loss_mal_aux_1: 0.7349 (0.7349)  loss_bbox_aux_1: 0.5515 (0.5515)  loss_giou_aux_1: 1.3118 (1.3118)  loss_fgl_aux_1: 0.8013 (0.8013)  loss_ddf_aux_1: 0.0003 (0.0003)  loss_mal_pre: 0.7397 (0.7397)  loss_bbox_pre: 0.5488 (0.5488)  loss_giou_pre: 1.3135 (1.3135)  loss_mal_enc_0: 0.7310 (0.7310)  loss_bbox_enc_0: 0.5486 (0.5486)  loss_giou_enc_0: 1.3143 (1.3143)  loss_mal_dn_0: 0.6196 (0.6196)  loss_bbox_dn_0: 0.4979 (0.4979)  loss_giou_dn_0: 1.3719 (1.3719)  loss_fgl_dn_0: 0.7884 (0.7884)  loss_ddf_dn_0: 0.0009 (0.0009)  loss_mal_dn_1: 0.6187 (0.6187)  loss_bbox_dn_1: 0.4983 (0.4983)  loss_giou_dn_1: 1.3717 (1.3717)  loss_fgl_dn_1: 0.7881 (0.7881)  loss_ddf_dn_1: 0.0002 (0.0002)  loss_mal_dn_2: 0.6182 (0.6182)  loss_bbox_dn_2: 0.4984 (0.4984)  loss_giou_dn_2: 1.3716 (1.3716)  loss_fgl_dn_2: 0.7879 (0.7879)  loss_mal_dn_pre: 0.6196 (0.6196)  loss_bbox_dn_pre: 0.4984 (0.4984)  loss_giou_dn_pre: 1.3721 (1.3721)  time: 1.8542  data: 1.2918  max mem: 10586\n"
     ]
    },
    {
     "name": "stderr",
     "output_type": "stream",
     "text": [
      "2025-03-10 14:58:46,081 - DEIMTrainer - INFO - Evaluating model...\n"
     ]
    },
    {
     "name": "stdout",
     "output_type": "stream",
     "text": [
      "Epoch: [48]  [14/15]  eta: 0:00:00  lr: 0.000027  loss: 28.2906 (28.3874)  loss_mal: 0.7300 (0.8115)  loss_bbox: 0.5520 (0.5801)  loss_giou: 1.3116 (1.2984)  loss_fgl: 0.8118 (0.8434)  loss_mal_aux_0: 0.7397 (0.8086)  loss_bbox_aux_0: 0.5517 (0.5801)  loss_giou_aux_0: 1.3120 (1.2988)  loss_fgl_aux_0: 0.8111 (0.8432)  loss_ddf_aux_0: 0.0018 (0.0018)  loss_mal_aux_1: 0.7349 (0.8133)  loss_bbox_aux_1: 0.5515 (0.5799)  loss_giou_aux_1: 1.3118 (1.2987)  loss_fgl_aux_1: 0.8116 (0.8432)  loss_ddf_aux_1: 0.0003 (0.0003)  loss_mal_pre: 0.7397 (0.8074)  loss_bbox_pre: 0.5488 (0.5785)  loss_giou_pre: 1.3135 (1.3003)  loss_mal_enc_0: 0.7310 (0.8033)  loss_bbox_enc_0: 0.5486 (0.5787)  loss_giou_enc_0: 1.3143 (1.3018)  loss_mal_dn_0: 0.6206 (0.6175)  loss_bbox_dn_0: 0.5234 (0.5224)  loss_giou_dn_0: 1.3702 (1.3705)  loss_fgl_dn_0: 0.7919 (0.7905)  loss_ddf_dn_0: 0.0009 (0.0010)  loss_mal_dn_1: 0.6196 (0.6180)  loss_bbox_dn_1: 0.5233 (0.5224)  loss_giou_dn_1: 1.3702 (1.3704)  loss_fgl_dn_1: 0.7918 (0.7903)  loss_ddf_dn_1: 0.0003 (0.0003)  loss_mal_dn_2: 0.6211 (0.6184)  loss_bbox_dn_2: 0.5230 (0.5223)  loss_giou_dn_2: 1.3702 (1.3704)  loss_fgl_dn_2: 0.7917 (0.7900)  loss_mal_dn_pre: 0.6216 (0.6179)  loss_bbox_dn_pre: 0.5261 (0.5244)  loss_giou_dn_pre: 1.3688 (1.3695)  time: 0.5746  data: 0.1029  max mem: 10586\n",
      "Epoch: [48] Total time: 0:00:08 (0.5783 s / it)\n",
      "Averaged stats: lr: 0.000027  loss: 28.2906 (28.3874)  loss_mal: 0.7300 (0.8115)  loss_bbox: 0.5520 (0.5801)  loss_giou: 1.3116 (1.2984)  loss_fgl: 0.8118 (0.8434)  loss_mal_aux_0: 0.7397 (0.8086)  loss_bbox_aux_0: 0.5517 (0.5801)  loss_giou_aux_0: 1.3120 (1.2988)  loss_fgl_aux_0: 0.8111 (0.8432)  loss_ddf_aux_0: 0.0018 (0.0018)  loss_mal_aux_1: 0.7349 (0.8133)  loss_bbox_aux_1: 0.5515 (0.5799)  loss_giou_aux_1: 1.3118 (1.2987)  loss_fgl_aux_1: 0.8116 (0.8432)  loss_ddf_aux_1: 0.0003 (0.0003)  loss_mal_pre: 0.7397 (0.8074)  loss_bbox_pre: 0.5488 (0.5785)  loss_giou_pre: 1.3135 (1.3003)  loss_mal_enc_0: 0.7310 (0.8033)  loss_bbox_enc_0: 0.5486 (0.5787)  loss_giou_enc_0: 1.3143 (1.3018)  loss_mal_dn_0: 0.6206 (0.6175)  loss_bbox_dn_0: 0.5234 (0.5224)  loss_giou_dn_0: 1.3702 (1.3705)  loss_fgl_dn_0: 0.7919 (0.7905)  loss_ddf_dn_0: 0.0009 (0.0010)  loss_mal_dn_1: 0.6196 (0.6180)  loss_bbox_dn_1: 0.5233 (0.5224)  loss_giou_dn_1: 1.3702 (1.3704)  loss_fgl_dn_1: 0.7918 (0.7903)  loss_ddf_dn_1: 0.0003 (0.0003)  loss_mal_dn_2: 0.6211 (0.6184)  loss_bbox_dn_2: 0.5230 (0.5223)  loss_giou_dn_2: 1.3702 (1.3704)  loss_fgl_dn_2: 0.7917 (0.7900)  loss_mal_dn_pre: 0.6216 (0.6179)  loss_bbox_dn_pre: 0.5261 (0.5244)  loss_giou_dn_pre: 1.3688 (1.3695)\n",
      "Test:  [0/5]  eta: 0:00:04    time: 0.9321  data: 0.6471  max mem: 10586\n"
     ]
    },
    {
     "name": "stderr",
     "output_type": "stream",
     "text": [
      "2025-03-10 14:58:47,545 - DEIMTrainer - INFO - Saving checkpoint to outputs/deim_hgnetv2_s_coco/best.pth\n"
     ]
    },
    {
     "name": "stdout",
     "output_type": "stream",
     "text": [
      "Test:  [4/5]  eta: 0:00:00    time: 0.2788  data: 0.1420  max mem: 10586\n",
      "Test: Total time: 0:00:01 (0.2888 s / it)\n",
      "Averaged stats: \n",
      "Accumulating evaluation results...\n",
      "COCOeval_opt.accumulate() finished...\n",
      "DONE (t=0.01s).\n",
      "IoU metric: bbox\n",
      " Average Precision  (AP) @[ IoU=0.50:0.95 | area=   all | maxDets=100 ] = 0.021\n",
      " Average Precision  (AP) @[ IoU=0.50      | area=   all | maxDets=100 ] = 0.081\n",
      " Average Precision  (AP) @[ IoU=0.75      | area=   all | maxDets=100 ] = 0.002\n",
      " Average Precision  (AP) @[ IoU=0.50:0.95 | area= small | maxDets=100 ] = 0.000\n",
      " Average Precision  (AP) @[ IoU=0.50:0.95 | area=medium | maxDets=100 ] = 0.002\n",
      " Average Precision  (AP) @[ IoU=0.50:0.95 | area= large | maxDets=100 ] = 0.029\n",
      " Average Recall     (AR) @[ IoU=0.50:0.95 | area=   all | maxDets=  1 ] = 0.040\n",
      " Average Recall     (AR) @[ IoU=0.50:0.95 | area=   all | maxDets= 10 ] = 0.087\n",
      " Average Recall     (AR) @[ IoU=0.50:0.95 | area=   all | maxDets=100 ] = 0.158\n",
      " Average Recall     (AR) @[ IoU=0.50:0.95 | area= small | maxDets=100 ] = 0.000\n",
      " Average Recall     (AR) @[ IoU=0.50:0.95 | area=medium | maxDets=100 ] = 0.069\n",
      " Average Recall     (AR) @[ IoU=0.50:0.95 | area= large | maxDets=100 ] = 0.165\n",
      " Average Recall     (AR) @[ IoU=0.50      | area=   all | maxDets=100 ] = 0.469\n",
      " Average Recall     (AR) @[ IoU=0.75      | area=   all | maxDets=100 ] = 0.068\n",
      "================================================\n",
      "{'coco_eval_bbox': [0.021155651679569877, 0.08058494461148634, 0.0015042905715343124, 0.0, 0.002339756394497526, 0.028933579010267763, 0.039702889702889696, 0.0874949124949125, 0.15836894586894587, 0.0, 0.06904761904761905, 0.164649070895964]}\n",
      "================================================\n"
     ]
    },
    {
     "name": "stderr",
     "output_type": "stream",
     "text": [
      "2025-03-10 14:58:47,870 - DEIMTrainer - INFO - Checkpoint saved to outputs/deim_hgnetv2_s_coco/best.pth\n",
      "2025-03-10 14:58:47,872 - DEIMTrainer - INFO - Epoch 48 - Train loss: 28.3874, Eval mAP: 0.0212\n",
      "2025-03-10 14:58:47,872 - DEIMTrainer - INFO - Best stats: {'epoch': 48, 'coco_eval_bbox': 0.021155651679569877}\n"
     ]
    },
    {
     "name": "stdout",
     "output_type": "stream",
     "text": [
      "Epoch: [49]  [ 0/15]  eta: 0:00:29  lr: 0.000027  loss: 27.7862 (27.7862)  loss_mal: 0.8481 (0.8481)  loss_bbox: 0.5193 (0.5193)  loss_giou: 1.2359 (1.2359)  loss_fgl: 0.8629 (0.8629)  loss_mal_aux_0: 0.8589 (0.8589)  loss_bbox_aux_0: 0.5201 (0.5201)  loss_giou_aux_0: 1.2356 (1.2356)  loss_fgl_aux_0: 0.8628 (0.8628)  loss_ddf_aux_0: 0.0015 (0.0015)  loss_mal_aux_1: 0.8481 (0.8481)  loss_bbox_aux_1: 0.5195 (0.5195)  loss_giou_aux_1: 1.2358 (1.2358)  loss_fgl_aux_1: 0.8629 (0.8629)  loss_ddf_aux_1: 0.0003 (0.0003)  loss_mal_pre: 0.8604 (0.8604)  loss_bbox_pre: 0.5198 (0.5198)  loss_giou_pre: 1.2344 (1.2344)  loss_mal_enc_0: 0.8657 (0.8657)  loss_bbox_enc_0: 0.5201 (0.5201)  loss_giou_enc_0: 1.2355 (1.2355)  loss_mal_dn_0: 0.6143 (0.6143)  loss_bbox_dn_0: 0.4575 (0.4575)  loss_giou_dn_0: 1.3706 (1.3706)  loss_fgl_dn_0: 0.7897 (0.7897)  loss_ddf_dn_0: 0.0008 (0.0008)  loss_mal_dn_1: 0.6128 (0.6128)  loss_bbox_dn_1: 0.4571 (0.4571)  loss_giou_dn_1: 1.3709 (1.3709)  loss_fgl_dn_1: 0.7894 (0.7894)  loss_ddf_dn_1: 0.0003 (0.0003)  loss_mal_dn_2: 0.6138 (0.6138)  loss_bbox_dn_2: 0.4567 (0.4567)  loss_giou_dn_2: 1.3711 (1.3711)  loss_fgl_dn_2: 0.7887 (0.7887)  loss_mal_dn_pre: 0.6152 (0.6152)  loss_bbox_dn_pre: 0.4609 (0.4609)  loss_giou_dn_pre: 1.3687 (1.3687)  time: 1.9758  data: 1.4867  max mem: 10586\n"
     ]
    },
    {
     "name": "stderr",
     "output_type": "stream",
     "text": [
      "2025-03-10 14:58:56,837 - DEIMTrainer - INFO - Evaluating model...\n"
     ]
    },
    {
     "name": "stdout",
     "output_type": "stream",
     "text": [
      "Epoch: [49]  [14/15]  eta: 0:00:00  lr: 0.000028  loss: 27.8541 (28.1884)  loss_mal: 0.7417 (0.7957)  loss_bbox: 0.5813 (0.5726)  loss_giou: 1.3172 (1.3048)  loss_fgl: 0.8029 (0.8316)  loss_mal_aux_0: 0.7549 (0.7903)  loss_bbox_aux_0: 0.5818 (0.5730)  loss_giou_aux_0: 1.3175 (1.3048)  loss_fgl_aux_0: 0.8017 (0.8311)  loss_ddf_aux_0: 0.0017 (0.0016)  loss_mal_aux_1: 0.7437 (0.7965)  loss_bbox_aux_1: 0.5813 (0.5726)  loss_giou_aux_1: 1.3174 (1.3049)  loss_fgl_aux_1: 0.8026 (0.8315)  loss_ddf_aux_1: 0.0003 (0.0003)  loss_mal_pre: 0.7534 (0.7896)  loss_bbox_pre: 0.5817 (0.5730)  loss_giou_pre: 1.3173 (1.3047)  loss_mal_enc_0: 0.7529 (0.7874)  loss_bbox_enc_0: 0.5832 (0.5737)  loss_giou_enc_0: 1.3198 (1.3064)  loss_mal_dn_0: 0.6182 (0.6173)  loss_bbox_dn_0: 0.4892 (0.5053)  loss_giou_dn_0: 1.3690 (1.3698)  loss_fgl_dn_0: 0.7908 (0.7904)  loss_ddf_dn_0: 0.0009 (0.0009)  loss_mal_dn_1: 0.6172 (0.6173)  loss_bbox_dn_1: 0.4889 (0.5050)  loss_giou_dn_1: 1.3687 (1.3698)  loss_fgl_dn_1: 0.7912 (0.7902)  loss_ddf_dn_1: 0.0003 (0.0003)  loss_mal_dn_2: 0.6162 (0.6174)  loss_bbox_dn_2: 0.4885 (0.5046)  loss_giou_dn_2: 1.3686 (1.3699)  loss_fgl_dn_2: 0.7912 (0.7899)  loss_mal_dn_pre: 0.6187 (0.6181)  loss_bbox_dn_pre: 0.4925 (0.5082)  loss_giou_dn_pre: 1.3687 (1.3682)  time: 0.5917  data: 0.1180  max mem: 10586\n",
      "Epoch: [49] Total time: 0:00:08 (0.5963 s / it)\n",
      "Averaged stats: lr: 0.000028  loss: 27.8541 (28.1884)  loss_mal: 0.7417 (0.7957)  loss_bbox: 0.5813 (0.5726)  loss_giou: 1.3172 (1.3048)  loss_fgl: 0.8029 (0.8316)  loss_mal_aux_0: 0.7549 (0.7903)  loss_bbox_aux_0: 0.5818 (0.5730)  loss_giou_aux_0: 1.3175 (1.3048)  loss_fgl_aux_0: 0.8017 (0.8311)  loss_ddf_aux_0: 0.0017 (0.0016)  loss_mal_aux_1: 0.7437 (0.7965)  loss_bbox_aux_1: 0.5813 (0.5726)  loss_giou_aux_1: 1.3174 (1.3049)  loss_fgl_aux_1: 0.8026 (0.8315)  loss_ddf_aux_1: 0.0003 (0.0003)  loss_mal_pre: 0.7534 (0.7896)  loss_bbox_pre: 0.5817 (0.5730)  loss_giou_pre: 1.3173 (1.3047)  loss_mal_enc_0: 0.7529 (0.7874)  loss_bbox_enc_0: 0.5832 (0.5737)  loss_giou_enc_0: 1.3198 (1.3064)  loss_mal_dn_0: 0.6182 (0.6173)  loss_bbox_dn_0: 0.4892 (0.5053)  loss_giou_dn_0: 1.3690 (1.3698)  loss_fgl_dn_0: 0.7908 (0.7904)  loss_ddf_dn_0: 0.0009 (0.0009)  loss_mal_dn_1: 0.6172 (0.6173)  loss_bbox_dn_1: 0.4889 (0.5050)  loss_giou_dn_1: 1.3687 (1.3698)  loss_fgl_dn_1: 0.7912 (0.7902)  loss_ddf_dn_1: 0.0003 (0.0003)  loss_mal_dn_2: 0.6162 (0.6174)  loss_bbox_dn_2: 0.4885 (0.5046)  loss_giou_dn_2: 1.3686 (1.3699)  loss_fgl_dn_2: 0.7912 (0.7899)  loss_mal_dn_pre: 0.6187 (0.6181)  loss_bbox_dn_pre: 0.4925 (0.5082)  loss_giou_dn_pre: 1.3687 (1.3682)\n",
      "Test:  [0/5]  eta: 0:00:04    time: 0.9426  data: 0.6651  max mem: 10586\n"
     ]
    },
    {
     "name": "stderr",
     "output_type": "stream",
     "text": [
      "2025-03-10 14:58:58,306 - DEIMTrainer - INFO - Saving checkpoint to outputs/deim_hgnetv2_s_coco/best.pth\n"
     ]
    },
    {
     "name": "stdout",
     "output_type": "stream",
     "text": [
      "Test:  [4/5]  eta: 0:00:00    time: 0.2781  data: 0.1452  max mem: 10586\n",
      "Test: Total time: 0:00:01 (0.2894 s / it)\n",
      "Averaged stats: \n",
      "Accumulating evaluation results...\n",
      "COCOeval_opt.accumulate() finished...\n",
      "DONE (t=0.01s).\n",
      "IoU metric: bbox\n",
      " Average Precision  (AP) @[ IoU=0.50:0.95 | area=   all | maxDets=100 ] = 0.022\n",
      " Average Precision  (AP) @[ IoU=0.50      | area=   all | maxDets=100 ] = 0.075\n",
      " Average Precision  (AP) @[ IoU=0.75      | area=   all | maxDets=100 ] = 0.002\n",
      " Average Precision  (AP) @[ IoU=0.50:0.95 | area= small | maxDets=100 ] = 0.000\n",
      " Average Precision  (AP) @[ IoU=0.50:0.95 | area=medium | maxDets=100 ] = 0.011\n",
      " Average Precision  (AP) @[ IoU=0.50:0.95 | area= large | maxDets=100 ] = 0.027\n",
      " Average Recall     (AR) @[ IoU=0.50:0.95 | area=   all | maxDets=  1 ] = 0.048\n",
      " Average Recall     (AR) @[ IoU=0.50:0.95 | area=   all | maxDets= 10 ] = 0.121\n",
      " Average Recall     (AR) @[ IoU=0.50:0.95 | area=   all | maxDets=100 ] = 0.192\n",
      " Average Recall     (AR) @[ IoU=0.50:0.95 | area= small | maxDets=100 ] = 0.000\n",
      " Average Recall     (AR) @[ IoU=0.50:0.95 | area=medium | maxDets=100 ] = 0.231\n",
      " Average Recall     (AR) @[ IoU=0.50:0.95 | area= large | maxDets=100 ] = 0.193\n",
      " Average Recall     (AR) @[ IoU=0.50      | area=   all | maxDets=100 ] = 0.507\n",
      " Average Recall     (AR) @[ IoU=0.75      | area=   all | maxDets=100 ] = 0.088\n",
      "================================================\n",
      "{'coco_eval_bbox': [0.02158891753225733, 0.0749230152893019, 0.0017643954312303804, 0.0, 0.01146711243061106, 0.026603753930711526, 0.04815832315832315, 0.12147435897435897, 0.19166157916157917, 0.0, 0.23050595238095237, 0.19264054917741744]}\n",
      "================================================\n"
     ]
    },
    {
     "name": "stderr",
     "output_type": "stream",
     "text": [
      "2025-03-10 14:58:58,618 - DEIMTrainer - INFO - Checkpoint saved to outputs/deim_hgnetv2_s_coco/best.pth\n",
      "2025-03-10 14:58:58,621 - DEIMTrainer - INFO - Epoch 49 - Train loss: 28.1884, Eval mAP: 0.0216\n",
      "2025-03-10 14:58:58,622 - DEIMTrainer - INFO - Best stats: {'epoch': 49, 'coco_eval_bbox': 0.02158891753225733}\n"
     ]
    },
    {
     "name": "stdout",
     "output_type": "stream",
     "text": [
      "Epoch: [50]  [ 0/15]  eta: 0:00:29  lr: 0.000028  loss: 28.9340 (28.9340)  loss_mal: 0.6865 (0.6865)  loss_bbox: 0.7183 (0.7183)  loss_giou: 1.4429 (1.4429)  loss_fgl: 0.7437 (0.7437)  loss_mal_aux_0: 0.6909 (0.6909)  loss_bbox_aux_0: 0.7177 (0.7177)  loss_giou_aux_0: 1.4425 (1.4425)  loss_fgl_aux_0: 0.7422 (0.7422)  loss_ddf_aux_0: 0.0015 (0.0015)  loss_mal_aux_1: 0.6846 (0.6846)  loss_bbox_aux_1: 0.7178 (0.7178)  loss_giou_aux_1: 1.4429 (1.4429)  loss_fgl_aux_1: 0.7436 (0.7436)  loss_ddf_aux_1: 0.0003 (0.0003)  loss_mal_pre: 0.6904 (0.6904)  loss_bbox_pre: 0.7170 (0.7170)  loss_giou_pre: 1.4422 (1.4422)  loss_mal_enc_0: 0.6870 (0.6870)  loss_bbox_enc_0: 0.7143 (0.7143)  loss_giou_enc_0: 1.4419 (1.4419)  loss_mal_dn_0: 0.6284 (0.6284)  loss_bbox_dn_0: 0.5383 (0.5383)  loss_giou_dn_0: 1.3462 (1.3462)  loss_fgl_dn_0: 0.8053 (0.8053)  loss_ddf_dn_0: 0.0010 (0.0010)  loss_mal_dn_1: 0.6274 (0.6274)  loss_bbox_dn_1: 0.5387 (0.5387)  loss_giou_dn_1: 1.3459 (1.3459)  loss_fgl_dn_1: 0.8055 (0.8055)  loss_ddf_dn_1: 0.0004 (0.0004)  loss_mal_dn_2: 0.6255 (0.6255)  loss_bbox_dn_2: 0.5386 (0.5386)  loss_giou_dn_2: 1.3457 (1.3457)  loss_fgl_dn_2: 0.8056 (0.8056)  loss_mal_dn_pre: 0.6284 (0.6284)  loss_bbox_dn_pre: 0.5396 (0.5396)  loss_giou_dn_pre: 1.3452 (1.3452)  time: 1.9372  data: 1.3361  max mem: 10586\n"
     ]
    },
    {
     "name": "stderr",
     "output_type": "stream",
     "text": [
      "2025-03-10 14:59:07,377 - DEIMTrainer - INFO - Evaluating model...\n"
     ]
    },
    {
     "name": "stdout",
     "output_type": "stream",
     "text": [
      "Epoch: [50]  [14/15]  eta: 0:00:00  lr: 0.000029  loss: 28.0085 (28.2501)  loss_mal: 0.8813 (0.8254)  loss_bbox: 0.5472 (0.5561)  loss_giou: 1.2290 (1.2713)  loss_fgl: 0.8813 (0.8566)  loss_mal_aux_0: 0.8506 (0.8222)  loss_bbox_aux_0: 0.5472 (0.5563)  loss_giou_aux_0: 1.2294 (1.2712)  loss_fgl_aux_0: 0.8818 (0.8566)  loss_ddf_aux_0: 0.0015 (0.0015)  loss_mal_aux_1: 0.8604 (0.8239)  loss_bbox_aux_1: 0.5470 (0.5560)  loss_giou_aux_1: 1.2292 (1.2714)  loss_fgl_aux_1: 0.8813 (0.8566)  loss_ddf_aux_1: 0.0003 (0.0003)  loss_mal_pre: 0.8486 (0.8213)  loss_bbox_pre: 0.5476 (0.5566)  loss_giou_pre: 1.2288 (1.2710)  loss_mal_enc_0: 0.8413 (0.8153)  loss_bbox_enc_0: 0.5474 (0.5573)  loss_giou_enc_0: 1.2321 (1.2718)  loss_mal_dn_0: 0.6216 (0.6229)  loss_bbox_dn_0: 0.5257 (0.5245)  loss_giou_dn_0: 1.3617 (1.3625)  loss_fgl_dn_0: 0.7973 (0.7970)  loss_ddf_dn_0: 0.0009 (0.0008)  loss_mal_dn_1: 0.6226 (0.6226)  loss_bbox_dn_1: 0.5263 (0.5248)  loss_giou_dn_1: 1.3615 (1.3622)  loss_fgl_dn_1: 0.7972 (0.7971)  loss_ddf_dn_1: 0.0003 (0.0003)  loss_mal_dn_2: 0.6187 (0.6223)  loss_bbox_dn_2: 0.5263 (0.5247)  loss_giou_dn_2: 1.3614 (1.3621)  loss_fgl_dn_2: 0.7975 (0.7971)  loss_mal_dn_pre: 0.6216 (0.6229)  loss_bbox_dn_pre: 0.5273 (0.5258)  loss_giou_dn_pre: 1.3609 (1.3620)  time: 0.5774  data: 0.1121  max mem: 10586\n",
      "Epoch: [50] Total time: 0:00:08 (0.5824 s / it)\n",
      "Averaged stats: lr: 0.000029  loss: 28.0085 (28.2501)  loss_mal: 0.8813 (0.8254)  loss_bbox: 0.5472 (0.5561)  loss_giou: 1.2290 (1.2713)  loss_fgl: 0.8813 (0.8566)  loss_mal_aux_0: 0.8506 (0.8222)  loss_bbox_aux_0: 0.5472 (0.5563)  loss_giou_aux_0: 1.2294 (1.2712)  loss_fgl_aux_0: 0.8818 (0.8566)  loss_ddf_aux_0: 0.0015 (0.0015)  loss_mal_aux_1: 0.8604 (0.8239)  loss_bbox_aux_1: 0.5470 (0.5560)  loss_giou_aux_1: 1.2292 (1.2714)  loss_fgl_aux_1: 0.8813 (0.8566)  loss_ddf_aux_1: 0.0003 (0.0003)  loss_mal_pre: 0.8486 (0.8213)  loss_bbox_pre: 0.5476 (0.5566)  loss_giou_pre: 1.2288 (1.2710)  loss_mal_enc_0: 0.8413 (0.8153)  loss_bbox_enc_0: 0.5474 (0.5573)  loss_giou_enc_0: 1.2321 (1.2718)  loss_mal_dn_0: 0.6216 (0.6229)  loss_bbox_dn_0: 0.5257 (0.5245)  loss_giou_dn_0: 1.3617 (1.3625)  loss_fgl_dn_0: 0.7973 (0.7970)  loss_ddf_dn_0: 0.0009 (0.0008)  loss_mal_dn_1: 0.6226 (0.6226)  loss_bbox_dn_1: 0.5263 (0.5248)  loss_giou_dn_1: 1.3615 (1.3622)  loss_fgl_dn_1: 0.7972 (0.7971)  loss_ddf_dn_1: 0.0003 (0.0003)  loss_mal_dn_2: 0.6187 (0.6223)  loss_bbox_dn_2: 0.5263 (0.5247)  loss_giou_dn_2: 1.3614 (1.3621)  loss_fgl_dn_2: 0.7975 (0.7971)  loss_mal_dn_pre: 0.6216 (0.6229)  loss_bbox_dn_pre: 0.5273 (0.5258)  loss_giou_dn_pre: 1.3609 (1.3620)\n",
      "Test:  [0/5]  eta: 0:00:04    time: 0.8999  data: 0.6191  max mem: 10586\n"
     ]
    },
    {
     "name": "stderr",
     "output_type": "stream",
     "text": [
      "2025-03-10 14:59:08,835 - DEIMTrainer - INFO - Saving checkpoint to outputs/deim_hgnetv2_s_coco/best.pth\n"
     ]
    },
    {
     "name": "stdout",
     "output_type": "stream",
     "text": [
      "Test:  [4/5]  eta: 0:00:00    time: 0.2757  data: 0.1415  max mem: 10586\n",
      "Test: Total time: 0:00:01 (0.2876 s / it)\n",
      "Averaged stats: \n",
      "Accumulating evaluation results...\n",
      "COCOeval_opt.accumulate() finished...\n",
      "DONE (t=0.01s).\n",
      "IoU metric: bbox\n",
      " Average Precision  (AP) @[ IoU=0.50:0.95 | area=   all | maxDets=100 ] = 0.025\n",
      " Average Precision  (AP) @[ IoU=0.50      | area=   all | maxDets=100 ] = 0.089\n",
      " Average Precision  (AP) @[ IoU=0.75      | area=   all | maxDets=100 ] = 0.003\n",
      " Average Precision  (AP) @[ IoU=0.50:0.95 | area= small | maxDets=100 ] = 0.000\n",
      " Average Precision  (AP) @[ IoU=0.50:0.95 | area=medium | maxDets=100 ] = 0.052\n",
      " Average Precision  (AP) @[ IoU=0.50:0.95 | area= large | maxDets=100 ] = 0.034\n",
      " Average Recall     (AR) @[ IoU=0.50:0.95 | area=   all | maxDets=  1 ] = 0.051\n",
      " Average Recall     (AR) @[ IoU=0.50:0.95 | area=   all | maxDets= 10 ] = 0.104\n",
      " Average Recall     (AR) @[ IoU=0.50:0.95 | area=   all | maxDets=100 ] = 0.164\n",
      " Average Recall     (AR) @[ IoU=0.50:0.95 | area= small | maxDets=100 ] = 0.000\n",
      " Average Recall     (AR) @[ IoU=0.50:0.95 | area=medium | maxDets=100 ] = 0.131\n",
      " Average Recall     (AR) @[ IoU=0.50:0.95 | area= large | maxDets=100 ] = 0.167\n",
      " Average Recall     (AR) @[ IoU=0.50      | area=   all | maxDets=100 ] = 0.465\n",
      " Average Recall     (AR) @[ IoU=0.75      | area=   all | maxDets=100 ] = 0.083\n",
      "================================================\n",
      "{'coco_eval_bbox': [0.02530994292527648, 0.08855569933212133, 0.0031137987910929616, 0.0, 0.05185093735226136, 0.034169477371708425, 0.050564713064713065, 0.10382580382580381, 0.16445360195360195, 0.0, 0.13080357142857144, 0.16660827711366236]}\n",
      "================================================\n"
     ]
    },
    {
     "name": "stderr",
     "output_type": "stream",
     "text": [
      "2025-03-10 14:59:09,174 - DEIMTrainer - INFO - Checkpoint saved to outputs/deim_hgnetv2_s_coco/best.pth\n",
      "2025-03-10 14:59:09,176 - DEIMTrainer - INFO - Epoch 50 - Train loss: 28.2501, Eval mAP: 0.0253\n",
      "2025-03-10 14:59:09,177 - DEIMTrainer - INFO - Best stats: {'epoch': 50, 'coco_eval_bbox': 0.02530994292527648}\n"
     ]
    },
    {
     "name": "stdout",
     "output_type": "stream",
     "text": [
      "Epoch: [51]  [ 0/15]  eta: 0:00:27  lr: 0.000029  loss: 27.0875 (27.0875)  loss_mal: 0.8462 (0.8462)  loss_bbox: 0.4523 (0.4523)  loss_giou: 1.2360 (1.2360)  loss_fgl: 0.8425 (0.8425)  loss_mal_aux_0: 0.8433 (0.8433)  loss_bbox_aux_0: 0.4529 (0.4529)  loss_giou_aux_0: 1.2364 (1.2364)  loss_fgl_aux_0: 0.8415 (0.8415)  loss_ddf_aux_0: 0.0012 (0.0012)  loss_mal_aux_1: 0.8306 (0.8306)  loss_bbox_aux_1: 0.4524 (0.4524)  loss_giou_aux_1: 1.2361 (1.2361)  loss_fgl_aux_1: 0.8423 (0.8423)  loss_ddf_aux_1: 0.0003 (0.0003)  loss_mal_pre: 0.8423 (0.8423)  loss_bbox_pre: 0.4512 (0.4512)  loss_giou_pre: 1.2355 (1.2355)  loss_mal_enc_0: 0.8384 (0.8384)  loss_bbox_enc_0: 0.4531 (0.4531)  loss_giou_enc_0: 1.2374 (1.2374)  loss_mal_dn_0: 0.6235 (0.6235)  loss_bbox_dn_0: 0.3929 (0.3929)  loss_giou_dn_0: 1.3659 (1.3659)  loss_fgl_dn_0: 0.7954 (0.7954)  loss_ddf_dn_0: 0.0007 (0.0007)  loss_mal_dn_1: 0.6216 (0.6216)  loss_bbox_dn_1: 0.3929 (0.3929)  loss_giou_dn_1: 1.3657 (1.3657)  loss_fgl_dn_1: 0.7957 (0.7957)  loss_ddf_dn_1: 0.0002 (0.0002)  loss_mal_dn_2: 0.6235 (0.6235)  loss_bbox_dn_2: 0.3928 (0.3928)  loss_giou_dn_2: 1.3657 (1.3657)  loss_fgl_dn_2: 0.7956 (0.7956)  loss_mal_dn_pre: 0.6230 (0.6230)  loss_bbox_dn_pre: 0.3940 (0.3940)  loss_giou_dn_pre: 1.3663 (1.3663)  time: 1.8309  data: 1.3026  max mem: 10586\n"
     ]
    },
    {
     "name": "stderr",
     "output_type": "stream",
     "text": [
      "2025-03-10 14:59:17,749 - DEIMTrainer - INFO - Saving checkpoint to outputs/deim_hgnetv2_s_coco/checkpoint0051.pth\n"
     ]
    },
    {
     "name": "stdout",
     "output_type": "stream",
     "text": [
      "Epoch: [51]  [14/15]  eta: 0:00:00  lr: 0.000030  loss: 28.1497 (28.0719)  loss_mal: 0.8462 (0.8102)  loss_bbox: 0.5425 (0.5527)  loss_giou: 1.2385 (1.2811)  loss_fgl: 0.8521 (0.8465)  loss_mal_aux_0: 0.8433 (0.8044)  loss_bbox_aux_0: 0.5427 (0.5524)  loss_giou_aux_0: 1.2384 (1.2814)  loss_fgl_aux_0: 0.8528 (0.8462)  loss_ddf_aux_0: 0.0013 (0.0013)  loss_mal_aux_1: 0.8306 (0.8061)  loss_bbox_aux_1: 0.5425 (0.5524)  loss_giou_aux_1: 1.2385 (1.2813)  loss_fgl_aux_1: 0.8521 (0.8464)  loss_ddf_aux_1: 0.0003 (0.0003)  loss_mal_pre: 0.8423 (0.8038)  loss_bbox_pre: 0.5429 (0.5506)  loss_giou_pre: 1.2398 (1.2823)  loss_mal_enc_0: 0.8384 (0.8057)  loss_bbox_enc_0: 0.5422 (0.5505)  loss_giou_enc_0: 1.2431 (1.2835)  loss_mal_dn_0: 0.6187 (0.6185)  loss_bbox_dn_0: 0.5019 (0.5020)  loss_giou_dn_0: 1.3659 (1.3673)  loss_fgl_dn_0: 0.7946 (0.7931)  loss_ddf_dn_0: 0.0007 (0.0007)  loss_mal_dn_1: 0.6191 (0.6184)  loss_bbox_dn_1: 0.5026 (0.5024)  loss_giou_dn_1: 1.3657 (1.3670)  loss_fgl_dn_1: 0.7946 (0.7931)  loss_ddf_dn_1: 0.0002 (0.0003)  loss_mal_dn_2: 0.6191 (0.6197)  loss_bbox_dn_2: 0.5028 (0.5023)  loss_giou_dn_2: 1.3657 (1.3669)  loss_fgl_dn_2: 0.7946 (0.7930)  loss_mal_dn_pre: 0.6182 (0.6182)  loss_bbox_dn_pre: 0.5012 (0.5026)  loss_giou_dn_pre: 1.3663 (1.3673)  time: 0.5658  data: 0.1047  max mem: 10586\n",
      "Epoch: [51] Total time: 0:00:08 (0.5701 s / it)\n",
      "Averaged stats: lr: 0.000030  loss: 28.1497 (28.0719)  loss_mal: 0.8462 (0.8102)  loss_bbox: 0.5425 (0.5527)  loss_giou: 1.2385 (1.2811)  loss_fgl: 0.8521 (0.8465)  loss_mal_aux_0: 0.8433 (0.8044)  loss_bbox_aux_0: 0.5427 (0.5524)  loss_giou_aux_0: 1.2384 (1.2814)  loss_fgl_aux_0: 0.8528 (0.8462)  loss_ddf_aux_0: 0.0013 (0.0013)  loss_mal_aux_1: 0.8306 (0.8061)  loss_bbox_aux_1: 0.5425 (0.5524)  loss_giou_aux_1: 1.2385 (1.2813)  loss_fgl_aux_1: 0.8521 (0.8464)  loss_ddf_aux_1: 0.0003 (0.0003)  loss_mal_pre: 0.8423 (0.8038)  loss_bbox_pre: 0.5429 (0.5506)  loss_giou_pre: 1.2398 (1.2823)  loss_mal_enc_0: 0.8384 (0.8057)  loss_bbox_enc_0: 0.5422 (0.5505)  loss_giou_enc_0: 1.2431 (1.2835)  loss_mal_dn_0: 0.6187 (0.6185)  loss_bbox_dn_0: 0.5019 (0.5020)  loss_giou_dn_0: 1.3659 (1.3673)  loss_fgl_dn_0: 0.7946 (0.7931)  loss_ddf_dn_0: 0.0007 (0.0007)  loss_mal_dn_1: 0.6191 (0.6184)  loss_bbox_dn_1: 0.5026 (0.5024)  loss_giou_dn_1: 1.3657 (1.3670)  loss_fgl_dn_1: 0.7946 (0.7931)  loss_ddf_dn_1: 0.0002 (0.0003)  loss_mal_dn_2: 0.6191 (0.6197)  loss_bbox_dn_2: 0.5028 (0.5023)  loss_giou_dn_2: 1.3657 (1.3669)  loss_fgl_dn_2: 0.7946 (0.7930)  loss_mal_dn_pre: 0.6182 (0.6182)  loss_bbox_dn_pre: 0.5012 (0.5026)  loss_giou_dn_pre: 1.3663 (1.3673)\n"
     ]
    },
    {
     "name": "stderr",
     "output_type": "stream",
     "text": [
      "2025-03-10 14:59:18,018 - DEIMTrainer - INFO - Checkpoint saved to outputs/deim_hgnetv2_s_coco/checkpoint0051.pth\n",
      "2025-03-10 14:59:18,020 - DEIMTrainer - INFO - Evaluating model...\n"
     ]
    },
    {
     "name": "stdout",
     "output_type": "stream",
     "text": [
      "Test:  [0/5]  eta: 0:00:04    time: 0.9278  data: 0.6566  max mem: 10586\n"
     ]
    },
    {
     "name": "stderr",
     "output_type": "stream",
     "text": [
      "2025-03-10 14:59:19,517 - DEIMTrainer - INFO - Epoch 51 - Train loss: 28.0719, Eval mAP: 0.0205\n",
      "2025-03-10 14:59:19,518 - DEIMTrainer - INFO - Best stats: {'epoch': 50, 'coco_eval_bbox': 0.02530994292527648}\n"
     ]
    },
    {
     "name": "stdout",
     "output_type": "stream",
     "text": [
      "Test:  [4/5]  eta: 0:00:00    time: 0.2819  data: 0.1460  max mem: 10586\n",
      "Test: Total time: 0:00:01 (0.2954 s / it)\n",
      "Averaged stats: \n",
      "Accumulating evaluation results...\n",
      "COCOeval_opt.accumulate() finished...\n",
      "DONE (t=0.01s).\n",
      "IoU metric: bbox\n",
      " Average Precision  (AP) @[ IoU=0.50:0.95 | area=   all | maxDets=100 ] = 0.021\n",
      " Average Precision  (AP) @[ IoU=0.50      | area=   all | maxDets=100 ] = 0.062\n",
      " Average Precision  (AP) @[ IoU=0.75      | area=   all | maxDets=100 ] = 0.009\n",
      " Average Precision  (AP) @[ IoU=0.50:0.95 | area= small | maxDets=100 ] = 0.000\n",
      " Average Precision  (AP) @[ IoU=0.50:0.95 | area=medium | maxDets=100 ] = 0.003\n",
      " Average Precision  (AP) @[ IoU=0.50:0.95 | area= large | maxDets=100 ] = 0.036\n",
      " Average Recall     (AR) @[ IoU=0.50:0.95 | area=   all | maxDets=  1 ] = 0.050\n",
      " Average Recall     (AR) @[ IoU=0.50:0.95 | area=   all | maxDets= 10 ] = 0.115\n",
      " Average Recall     (AR) @[ IoU=0.50:0.95 | area=   all | maxDets=100 ] = 0.182\n",
      " Average Recall     (AR) @[ IoU=0.50:0.95 | area= small | maxDets=100 ] = 0.000\n",
      " Average Recall     (AR) @[ IoU=0.50:0.95 | area=medium | maxDets=100 ] = 0.125\n",
      " Average Recall     (AR) @[ IoU=0.50:0.95 | area= large | maxDets=100 ] = 0.182\n",
      " Average Recall     (AR) @[ IoU=0.50      | area=   all | maxDets=100 ] = 0.476\n",
      " Average Recall     (AR) @[ IoU=0.75      | area=   all | maxDets=100 ] = 0.114\n",
      "================================================\n",
      "{'coco_eval_bbox': [0.02050236346552118, 0.06178854433242659, 0.00890182574401216, 0.0, 0.003096537756113351, 0.03574697138745573, 0.05036630036630037, 0.1146927146927147, 0.18178164428164428, 0.0, 0.12455357142857144, 0.18168382846096184]}\n",
      "================================================\n",
      "Epoch: [52]  [ 0/15]  eta: 0:00:28  lr: 0.000030  loss: 28.7519 (28.7519)  loss_mal: 0.7202 (0.7202)  loss_bbox: 0.6540 (0.6540)  loss_giou: 1.4455 (1.4455)  loss_fgl: 0.7583 (0.7583)  loss_mal_aux_0: 0.7241 (0.7241)  loss_bbox_aux_0: 0.6539 (0.6539)  loss_giou_aux_0: 1.4454 (1.4454)  loss_fgl_aux_0: 0.7568 (0.7568)  loss_ddf_aux_0: 0.0012 (0.0012)  loss_mal_aux_1: 0.7153 (0.7153)  loss_bbox_aux_1: 0.6539 (0.6539)  loss_giou_aux_1: 1.4455 (1.4455)  loss_fgl_aux_1: 0.7581 (0.7581)  loss_ddf_aux_1: 0.0003 (0.0003)  loss_mal_pre: 0.7212 (0.7212)  loss_bbox_pre: 0.6542 (0.6542)  loss_giou_pre: 1.4464 (1.4464)  loss_mal_enc_0: 0.7026 (0.7026)  loss_bbox_enc_0: 0.6539 (0.6539)  loss_giou_enc_0: 1.4467 (1.4467)  loss_mal_dn_0: 0.6182 (0.6182)  loss_bbox_dn_0: 0.5157 (0.5157)  loss_giou_dn_0: 1.3727 (1.3727)  loss_fgl_dn_0: 0.7899 (0.7899)  loss_ddf_dn_0: 0.0007 (0.0007)  loss_mal_dn_1: 0.6167 (0.6167)  loss_bbox_dn_1: 0.5155 (0.5155)  loss_giou_dn_1: 1.3727 (1.3727)  loss_fgl_dn_1: 0.7897 (0.7897)  loss_ddf_dn_1: 0.0003 (0.0003)  loss_mal_dn_2: 0.6187 (0.6187)  loss_bbox_dn_2: 0.5149 (0.5149)  loss_giou_dn_2: 1.3728 (1.3728)  loss_fgl_dn_2: 0.7892 (0.7892)  loss_mal_dn_pre: 0.6187 (0.6187)  loss_bbox_dn_pre: 0.5175 (0.5175)  loss_giou_dn_pre: 1.3707 (1.3707)  time: 1.9245  data: 1.3470  max mem: 10586\n"
     ]
    },
    {
     "name": "stderr",
     "output_type": "stream",
     "text": [
      "2025-03-10 14:59:28,318 - DEIMTrainer - INFO - Evaluating model...\n"
     ]
    },
    {
     "name": "stdout",
     "output_type": "stream",
     "text": [
      "Epoch: [52]  [14/15]  eta: 0:00:00  lr: 0.000032  loss: 28.3091 (28.1523)  loss_mal: 0.8135 (0.8134)  loss_bbox: 0.6048 (0.5614)  loss_giou: 1.2186 (1.2717)  loss_fgl: 0.8768 (0.8558)  loss_mal_aux_0: 0.8081 (0.8163)  loss_bbox_aux_0: 0.6048 (0.5611)  loss_giou_aux_0: 1.2183 (1.2716)  loss_fgl_aux_0: 0.8781 (0.8556)  loss_ddf_aux_0: 0.0012 (0.0012)  loss_mal_aux_1: 0.8140 (0.8150)  loss_bbox_aux_1: 0.6049 (0.5612)  loss_giou_aux_1: 1.2185 (1.2717)  loss_fgl_aux_1: 0.8771 (0.8557)  loss_ddf_aux_1: 0.0003 (0.0003)  loss_mal_pre: 0.8105 (0.8157)  loss_bbox_pre: 0.6042 (0.5592)  loss_giou_pre: 1.2185 (1.2716)  loss_mal_enc_0: 0.8184 (0.8176)  loss_bbox_enc_0: 0.6061 (0.5581)  loss_giou_enc_0: 1.2197 (1.2727)  loss_mal_dn_0: 0.6138 (0.6140)  loss_bbox_dn_0: 0.5069 (0.5088)  loss_giou_dn_0: 1.3748 (1.3720)  loss_fgl_dn_0: 0.7893 (0.7889)  loss_ddf_dn_0: 0.0007 (0.0007)  loss_mal_dn_1: 0.6138 (0.6135)  loss_bbox_dn_1: 0.5071 (0.5089)  loss_giou_dn_1: 1.3750 (1.3721)  loss_fgl_dn_1: 0.7891 (0.7887)  loss_ddf_dn_1: 0.0003 (0.0003)  loss_mal_dn_2: 0.6133 (0.6130)  loss_bbox_dn_2: 0.5070 (0.5086)  loss_giou_dn_2: 1.3753 (1.3723)  loss_fgl_dn_2: 0.7886 (0.7883)  loss_mal_dn_pre: 0.6143 (0.6145)  loss_bbox_dn_pre: 0.5076 (0.5103)  loss_giou_dn_pre: 1.3726 (1.3708)  time: 0.5806  data: 0.1110  max mem: 10586\n",
      "Epoch: [52] Total time: 0:00:08 (0.5855 s / it)\n",
      "Averaged stats: lr: 0.000032  loss: 28.3091 (28.1523)  loss_mal: 0.8135 (0.8134)  loss_bbox: 0.6048 (0.5614)  loss_giou: 1.2186 (1.2717)  loss_fgl: 0.8768 (0.8558)  loss_mal_aux_0: 0.8081 (0.8163)  loss_bbox_aux_0: 0.6048 (0.5611)  loss_giou_aux_0: 1.2183 (1.2716)  loss_fgl_aux_0: 0.8781 (0.8556)  loss_ddf_aux_0: 0.0012 (0.0012)  loss_mal_aux_1: 0.8140 (0.8150)  loss_bbox_aux_1: 0.6049 (0.5612)  loss_giou_aux_1: 1.2185 (1.2717)  loss_fgl_aux_1: 0.8771 (0.8557)  loss_ddf_aux_1: 0.0003 (0.0003)  loss_mal_pre: 0.8105 (0.8157)  loss_bbox_pre: 0.6042 (0.5592)  loss_giou_pre: 1.2185 (1.2716)  loss_mal_enc_0: 0.8184 (0.8176)  loss_bbox_enc_0: 0.6061 (0.5581)  loss_giou_enc_0: 1.2197 (1.2727)  loss_mal_dn_0: 0.6138 (0.6140)  loss_bbox_dn_0: 0.5069 (0.5088)  loss_giou_dn_0: 1.3748 (1.3720)  loss_fgl_dn_0: 0.7893 (0.7889)  loss_ddf_dn_0: 0.0007 (0.0007)  loss_mal_dn_1: 0.6138 (0.6135)  loss_bbox_dn_1: 0.5071 (0.5089)  loss_giou_dn_1: 1.3750 (1.3721)  loss_fgl_dn_1: 0.7891 (0.7887)  loss_ddf_dn_1: 0.0003 (0.0003)  loss_mal_dn_2: 0.6133 (0.6130)  loss_bbox_dn_2: 0.5070 (0.5086)  loss_giou_dn_2: 1.3753 (1.3723)  loss_fgl_dn_2: 0.7886 (0.7883)  loss_mal_dn_pre: 0.6143 (0.6145)  loss_bbox_dn_pre: 0.5076 (0.5103)  loss_giou_dn_pre: 1.3726 (1.3708)\n",
      "Test:  [0/5]  eta: 0:00:04    time: 0.9058  data: 0.6344  max mem: 10586\n"
     ]
    },
    {
     "name": "stderr",
     "output_type": "stream",
     "text": [
      "2025-03-10 14:59:29,768 - DEIMTrainer - INFO - Saving checkpoint to outputs/deim_hgnetv2_s_coco/best.pth\n"
     ]
    },
    {
     "name": "stdout",
     "output_type": "stream",
     "text": [
      "Test:  [4/5]  eta: 0:00:00    time: 0.2711  data: 0.1391  max mem: 10586\n",
      "Test: Total time: 0:00:01 (0.2840 s / it)\n",
      "Averaged stats: \n",
      "Accumulating evaluation results...\n",
      "COCOeval_opt.accumulate() finished...\n",
      "DONE (t=0.01s).\n",
      "IoU metric: bbox\n",
      " Average Precision  (AP) @[ IoU=0.50:0.95 | area=   all | maxDets=100 ] = 0.030\n",
      " Average Precision  (AP) @[ IoU=0.50      | area=   all | maxDets=100 ] = 0.094\n",
      " Average Precision  (AP) @[ IoU=0.75      | area=   all | maxDets=100 ] = 0.009\n",
      " Average Precision  (AP) @[ IoU=0.50:0.95 | area= small | maxDets=100 ] = 0.000\n",
      " Average Precision  (AP) @[ IoU=0.50:0.95 | area=medium | maxDets=100 ] = 0.008\n",
      " Average Precision  (AP) @[ IoU=0.50:0.95 | area= large | maxDets=100 ] = 0.043\n",
      " Average Recall     (AR) @[ IoU=0.50:0.95 | area=   all | maxDets=  1 ] = 0.050\n",
      " Average Recall     (AR) @[ IoU=0.50:0.95 | area=   all | maxDets= 10 ] = 0.131\n",
      " Average Recall     (AR) @[ IoU=0.50:0.95 | area=   all | maxDets=100 ] = 0.211\n",
      " Average Recall     (AR) @[ IoU=0.50:0.95 | area= small | maxDets=100 ] = 0.000\n",
      " Average Recall     (AR) @[ IoU=0.50:0.95 | area=medium | maxDets=100 ] = 0.174\n",
      " Average Recall     (AR) @[ IoU=0.50:0.95 | area= large | maxDets=100 ] = 0.213\n",
      " Average Recall     (AR) @[ IoU=0.50      | area=   all | maxDets=100 ] = 0.525\n",
      " Average Recall     (AR) @[ IoU=0.75      | area=   all | maxDets=100 ] = 0.138\n",
      "================================================\n",
      "{'coco_eval_bbox': [0.03008824338832043, 0.09382432852356215, 0.009039242622821153, 0.0, 0.008249292262012493, 0.04259584835242465, 0.05046805046805047, 0.1311050061050061, 0.2114010989010989, 0.0, 0.17440476190476192, 0.21274628161123604]}\n",
      "================================================\n"
     ]
    },
    {
     "name": "stderr",
     "output_type": "stream",
     "text": [
      "2025-03-10 14:59:30,088 - DEIMTrainer - INFO - Checkpoint saved to outputs/deim_hgnetv2_s_coco/best.pth\n",
      "2025-03-10 14:59:30,090 - DEIMTrainer - INFO - Epoch 52 - Train loss: 28.1523, Eval mAP: 0.0301\n",
      "2025-03-10 14:59:30,091 - DEIMTrainer - INFO - Best stats: {'epoch': 52, 'coco_eval_bbox': 0.03008824338832043}\n"
     ]
    },
    {
     "name": "stdout",
     "output_type": "stream",
     "text": [
      "Epoch: [53]  [ 0/15]  eta: 0:00:30  lr: 0.000032  loss: 28.1814 (28.1814)  loss_mal: 0.9360 (0.9360)  loss_bbox: 0.4732 (0.4732)  loss_giou: 1.1439 (1.1439)  loss_fgl: 0.9620 (0.9620)  loss_mal_aux_0: 0.9424 (0.9424)  loss_bbox_aux_0: 0.4731 (0.4731)  loss_giou_aux_0: 1.1427 (1.1427)  loss_fgl_aux_0: 0.9643 (0.9643)  loss_ddf_aux_0: 0.0011 (0.0011)  loss_mal_aux_1: 0.9570 (0.9570)  loss_bbox_aux_1: 0.4731 (0.4731)  loss_giou_aux_1: 1.1434 (1.1434)  loss_fgl_aux_1: 0.9628 (0.9628)  loss_ddf_aux_1: 0.0003 (0.0003)  loss_mal_pre: 0.9409 (0.9409)  loss_bbox_pre: 0.4733 (0.4733)  loss_giou_pre: 1.1423 (1.1423)  loss_mal_enc_0: 0.9189 (0.9189)  loss_bbox_enc_0: 0.4738 (0.4738)  loss_giou_enc_0: 1.1420 (1.1420)  loss_mal_dn_0: 0.6191 (0.6191)  loss_bbox_dn_0: 0.5519 (0.5519)  loss_giou_dn_0: 1.3590 (1.3590)  loss_fgl_dn_0: 0.8009 (0.8009)  loss_ddf_dn_0: 0.0006 (0.0006)  loss_mal_dn_1: 0.6187 (0.6187)  loss_bbox_dn_1: 0.5517 (0.5517)  loss_giou_dn_1: 1.3589 (1.3589)  loss_fgl_dn_1: 0.8010 (0.8010)  loss_ddf_dn_1: 0.0002 (0.0002)  loss_mal_dn_2: 0.6123 (0.6123)  loss_bbox_dn_2: 0.5512 (0.5512)  loss_giou_dn_2: 1.3589 (1.3589)  loss_fgl_dn_2: 0.8005 (0.8005)  loss_mal_dn_pre: 0.6201 (0.6201)  loss_bbox_dn_pre: 0.5536 (0.5536)  loss_giou_dn_pre: 1.3562 (1.3562)  time: 2.0479  data: 1.5061  max mem: 10586\n"
     ]
    },
    {
     "name": "stderr",
     "output_type": "stream",
     "text": [
      "2025-03-10 14:59:38,874 - DEIMTrainer - INFO - Evaluating model...\n"
     ]
    },
    {
     "name": "stdout",
     "output_type": "stream",
     "text": [
      "Epoch: [53]  [14/15]  eta: 0:00:00  lr: 0.000033  loss: 28.1856 (28.4088)  loss_mal: 0.9170 (0.8339)  loss_bbox: 0.5667 (0.5682)  loss_giou: 1.2175 (1.2756)  loss_fgl: 0.8990 (0.8595)  loss_mal_aux_0: 0.9092 (0.8411)  loss_bbox_aux_0: 0.5673 (0.5684)  loss_giou_aux_0: 1.2161 (1.2753)  loss_fgl_aux_0: 0.9000 (0.8598)  loss_ddf_aux_0: 0.0010 (0.0010)  loss_mal_aux_1: 0.9009 (0.8349)  loss_bbox_aux_1: 0.5670 (0.5682)  loss_giou_aux_1: 1.2168 (1.2754)  loss_fgl_aux_1: 0.8996 (0.8597)  loss_ddf_aux_1: 0.0003 (0.0003)  loss_mal_pre: 0.9087 (0.8397)  loss_bbox_pre: 0.5678 (0.5678)  loss_giou_pre: 1.2135 (1.2753)  loss_mal_enc_0: 0.9189 (0.8427)  loss_bbox_enc_0: 0.5687 (0.5686)  loss_giou_enc_0: 1.2147 (1.2768)  loss_mal_dn_0: 0.6191 (0.6173)  loss_bbox_dn_0: 0.5368 (0.5252)  loss_giou_dn_0: 1.3638 (1.3684)  loss_fgl_dn_0: 0.7927 (0.7924)  loss_ddf_dn_0: 0.0006 (0.0006)  loss_mal_dn_1: 0.6152 (0.6158)  loss_bbox_dn_1: 0.5369 (0.5251)  loss_giou_dn_1: 1.3641 (1.3684)  loss_fgl_dn_1: 0.7925 (0.7921)  loss_ddf_dn_1: 0.0002 (0.0002)  loss_mal_dn_2: 0.6138 (0.6146)  loss_bbox_dn_2: 0.5365 (0.5245)  loss_giou_dn_2: 1.3644 (1.3686)  loss_fgl_dn_2: 0.7920 (0.7916)  loss_mal_dn_pre: 0.6196 (0.6178)  loss_bbox_dn_pre: 0.5364 (0.5270)  loss_giou_dn_pre: 1.3623 (1.3671)  time: 0.5794  data: 0.1182  max mem: 10586\n",
      "Epoch: [53] Total time: 0:00:08 (0.5838 s / it)\n",
      "Averaged stats: lr: 0.000033  loss: 28.1856 (28.4088)  loss_mal: 0.9170 (0.8339)  loss_bbox: 0.5667 (0.5682)  loss_giou: 1.2175 (1.2756)  loss_fgl: 0.8990 (0.8595)  loss_mal_aux_0: 0.9092 (0.8411)  loss_bbox_aux_0: 0.5673 (0.5684)  loss_giou_aux_0: 1.2161 (1.2753)  loss_fgl_aux_0: 0.9000 (0.8598)  loss_ddf_aux_0: 0.0010 (0.0010)  loss_mal_aux_1: 0.9009 (0.8349)  loss_bbox_aux_1: 0.5670 (0.5682)  loss_giou_aux_1: 1.2168 (1.2754)  loss_fgl_aux_1: 0.8996 (0.8597)  loss_ddf_aux_1: 0.0003 (0.0003)  loss_mal_pre: 0.9087 (0.8397)  loss_bbox_pre: 0.5678 (0.5678)  loss_giou_pre: 1.2135 (1.2753)  loss_mal_enc_0: 0.9189 (0.8427)  loss_bbox_enc_0: 0.5687 (0.5686)  loss_giou_enc_0: 1.2147 (1.2768)  loss_mal_dn_0: 0.6191 (0.6173)  loss_bbox_dn_0: 0.5368 (0.5252)  loss_giou_dn_0: 1.3638 (1.3684)  loss_fgl_dn_0: 0.7927 (0.7924)  loss_ddf_dn_0: 0.0006 (0.0006)  loss_mal_dn_1: 0.6152 (0.6158)  loss_bbox_dn_1: 0.5369 (0.5251)  loss_giou_dn_1: 1.3641 (1.3684)  loss_fgl_dn_1: 0.7925 (0.7921)  loss_ddf_dn_1: 0.0002 (0.0002)  loss_mal_dn_2: 0.6138 (0.6146)  loss_bbox_dn_2: 0.5365 (0.5245)  loss_giou_dn_2: 1.3644 (1.3686)  loss_fgl_dn_2: 0.7920 (0.7916)  loss_mal_dn_pre: 0.6196 (0.6178)  loss_bbox_dn_pre: 0.5364 (0.5270)  loss_giou_dn_pre: 1.3623 (1.3671)\n",
      "Test:  [0/5]  eta: 0:00:04    time: 0.9166  data: 0.6430  max mem: 10586\n"
     ]
    },
    {
     "name": "stderr",
     "output_type": "stream",
     "text": [
      "2025-03-10 14:59:40,313 - DEIMTrainer - INFO - Epoch 53 - Train loss: 28.4088, Eval mAP: 0.0221\n",
      "2025-03-10 14:59:40,314 - DEIMTrainer - INFO - Best stats: {'epoch': 52, 'coco_eval_bbox': 0.03008824338832043}\n"
     ]
    },
    {
     "name": "stdout",
     "output_type": "stream",
     "text": [
      "Test:  [4/5]  eta: 0:00:00    time: 0.2738  data: 0.1406  max mem: 10586\n",
      "Test: Total time: 0:00:01 (0.2835 s / it)\n",
      "Averaged stats: \n",
      "Accumulating evaluation results...\n",
      "COCOeval_opt.accumulate() finished...\n",
      "DONE (t=0.01s).\n",
      "IoU metric: bbox\n",
      " Average Precision  (AP) @[ IoU=0.50:0.95 | area=   all | maxDets=100 ] = 0.022\n",
      " Average Precision  (AP) @[ IoU=0.50      | area=   all | maxDets=100 ] = 0.095\n",
      " Average Precision  (AP) @[ IoU=0.75      | area=   all | maxDets=100 ] = 0.002\n",
      " Average Precision  (AP) @[ IoU=0.50:0.95 | area= small | maxDets=100 ] = 0.000\n",
      " Average Precision  (AP) @[ IoU=0.50:0.95 | area=medium | maxDets=100 ] = 0.012\n",
      " Average Precision  (AP) @[ IoU=0.50:0.95 | area= large | maxDets=100 ] = 0.031\n",
      " Average Recall     (AR) @[ IoU=0.50:0.95 | area=   all | maxDets=  1 ] = 0.040\n",
      " Average Recall     (AR) @[ IoU=0.50:0.95 | area=   all | maxDets= 10 ] = 0.074\n",
      " Average Recall     (AR) @[ IoU=0.50:0.95 | area=   all | maxDets=100 ] = 0.145\n",
      " Average Recall     (AR) @[ IoU=0.50:0.95 | area= small | maxDets=100 ] = 0.000\n",
      " Average Recall     (AR) @[ IoU=0.50:0.95 | area=medium | maxDets=100 ] = 0.119\n",
      " Average Recall     (AR) @[ IoU=0.50:0.95 | area= large | maxDets=100 ] = 0.146\n",
      " Average Recall     (AR) @[ IoU=0.50      | area=   all | maxDets=100 ] = 0.410\n",
      " Average Recall     (AR) @[ IoU=0.75      | area=   all | maxDets=100 ] = 0.059\n",
      "================================================\n",
      "{'coco_eval_bbox': [0.02205965444090759, 0.09490474498829546, 0.0016904918714831447, 0.0, 0.01225247080469108, 0.03074534877527808, 0.040379527879527886, 0.07389092389092387, 0.1447089947089947, 0.0, 0.11904761904761905, 0.145645638537105]}\n",
      "================================================\n",
      "Epoch: [54]  [ 0/15]  eta: 0:00:30  lr: 0.000033  loss: 27.7826 (27.7826)  loss_mal: 0.6963 (0.6963)  loss_bbox: 0.6107 (0.6107)  loss_giou: 1.3297 (1.3297)  loss_fgl: 0.7884 (0.7884)  loss_mal_aux_0: 0.6978 (0.6978)  loss_bbox_aux_0: 0.6089 (0.6089)  loss_giou_aux_0: 1.3294 (1.3294)  loss_fgl_aux_0: 0.7881 (0.7881)  loss_ddf_aux_0: 0.0011 (0.0011)  loss_mal_aux_1: 0.6963 (0.6963)  loss_bbox_aux_1: 0.6099 (0.6099)  loss_giou_aux_1: 1.3296 (1.3296)  loss_fgl_aux_1: 0.7883 (0.7883)  loss_ddf_aux_1: 0.0003 (0.0003)  loss_mal_pre: 0.7021 (0.7021)  loss_bbox_pre: 0.6005 (0.6005)  loss_giou_pre: 1.3279 (1.3279)  loss_mal_enc_0: 0.7080 (0.7080)  loss_bbox_enc_0: 0.5953 (0.5953)  loss_giou_enc_0: 1.3282 (1.3282)  loss_mal_dn_0: 0.6074 (0.6074)  loss_bbox_dn_0: 0.4874 (0.4874)  loss_giou_dn_0: 1.3806 (1.3806)  loss_fgl_dn_0: 0.7804 (0.7804)  loss_ddf_dn_0: 0.0007 (0.0007)  loss_mal_dn_1: 0.6089 (0.6089)  loss_bbox_dn_1: 0.4875 (0.4875)  loss_giou_dn_1: 1.3805 (1.3805)  loss_fgl_dn_1: 0.7803 (0.7803)  loss_ddf_dn_1: 0.0003 (0.0003)  loss_mal_dn_2: 0.6089 (0.6089)  loss_bbox_dn_2: 0.4874 (0.4874)  loss_giou_dn_2: 1.3806 (1.3806)  loss_fgl_dn_2: 0.7801 (0.7801)  loss_mal_dn_pre: 0.6069 (0.6069)  loss_bbox_dn_pre: 0.4870 (0.4870)  loss_giou_dn_pre: 1.3811 (1.3811)  time: 2.0173  data: 1.3489  max mem: 10586\n"
     ]
    },
    {
     "name": "stderr",
     "output_type": "stream",
     "text": [
      "2025-03-10 14:59:49,325 - DEIMTrainer - INFO - Evaluating model...\n"
     ]
    },
    {
     "name": "stdout",
     "output_type": "stream",
     "text": [
      "Epoch: [54]  [14/15]  eta: 0:00:00  lr: 0.000034  loss: 28.5625 (28.5275)  loss_mal: 0.7539 (0.7772)  loss_bbox: 0.6132 (0.6151)  loss_giou: 1.3297 (1.3374)  loss_fgl: 0.8118 (0.8156)  loss_mal_aux_0: 0.7563 (0.7797)  loss_bbox_aux_0: 0.6126 (0.6150)  loss_giou_aux_0: 1.3294 (1.3369)  loss_fgl_aux_0: 0.8109 (0.8156)  loss_ddf_aux_0: 0.0010 (0.0010)  loss_mal_aux_1: 0.7524 (0.7754)  loss_bbox_aux_1: 0.6129 (0.6151)  loss_giou_aux_1: 1.3296 (1.3371)  loss_fgl_aux_1: 0.8116 (0.8157)  loss_ddf_aux_1: 0.0003 (0.0003)  loss_mal_pre: 0.7549 (0.7790)  loss_bbox_pre: 0.6106 (0.6138)  loss_giou_pre: 1.3279 (1.3364)  loss_mal_enc_0: 0.7573 (0.7760)  loss_bbox_enc_0: 0.6080 (0.6127)  loss_giou_enc_0: 1.3282 (1.3371)  loss_mal_dn_0: 0.6226 (0.6203)  loss_bbox_dn_0: 0.5319 (0.5304)  loss_giou_dn_0: 1.3619 (1.3631)  loss_fgl_dn_0: 0.7964 (0.7939)  loss_ddf_dn_0: 0.0006 (0.0006)  loss_mal_dn_1: 0.6182 (0.6181)  loss_bbox_dn_1: 0.5312 (0.5299)  loss_giou_dn_1: 1.3619 (1.3634)  loss_fgl_dn_1: 0.7962 (0.7935)  loss_ddf_dn_1: 0.0002 (0.0002)  loss_mal_dn_2: 0.6191 (0.6189)  loss_bbox_dn_2: 0.5304 (0.5292)  loss_giou_dn_2: 1.3619 (1.3637)  loss_fgl_dn_2: 0.7958 (0.7929)  loss_mal_dn_pre: 0.6235 (0.6213)  loss_bbox_dn_pre: 0.5370 (0.5348)  loss_giou_dn_pre: 1.3610 (1.3610)  time: 0.5947  data: 0.1069  max mem: 10586\n",
      "Epoch: [54] Total time: 0:00:08 (0.5994 s / it)\n",
      "Averaged stats: lr: 0.000034  loss: 28.5625 (28.5275)  loss_mal: 0.7539 (0.7772)  loss_bbox: 0.6132 (0.6151)  loss_giou: 1.3297 (1.3374)  loss_fgl: 0.8118 (0.8156)  loss_mal_aux_0: 0.7563 (0.7797)  loss_bbox_aux_0: 0.6126 (0.6150)  loss_giou_aux_0: 1.3294 (1.3369)  loss_fgl_aux_0: 0.8109 (0.8156)  loss_ddf_aux_0: 0.0010 (0.0010)  loss_mal_aux_1: 0.7524 (0.7754)  loss_bbox_aux_1: 0.6129 (0.6151)  loss_giou_aux_1: 1.3296 (1.3371)  loss_fgl_aux_1: 0.8116 (0.8157)  loss_ddf_aux_1: 0.0003 (0.0003)  loss_mal_pre: 0.7549 (0.7790)  loss_bbox_pre: 0.6106 (0.6138)  loss_giou_pre: 1.3279 (1.3364)  loss_mal_enc_0: 0.7573 (0.7760)  loss_bbox_enc_0: 0.6080 (0.6127)  loss_giou_enc_0: 1.3282 (1.3371)  loss_mal_dn_0: 0.6226 (0.6203)  loss_bbox_dn_0: 0.5319 (0.5304)  loss_giou_dn_0: 1.3619 (1.3631)  loss_fgl_dn_0: 0.7964 (0.7939)  loss_ddf_dn_0: 0.0006 (0.0006)  loss_mal_dn_1: 0.6182 (0.6181)  loss_bbox_dn_1: 0.5312 (0.5299)  loss_giou_dn_1: 1.3619 (1.3634)  loss_fgl_dn_1: 0.7962 (0.7935)  loss_ddf_dn_1: 0.0002 (0.0002)  loss_mal_dn_2: 0.6191 (0.6189)  loss_bbox_dn_2: 0.5304 (0.5292)  loss_giou_dn_2: 1.3619 (1.3637)  loss_fgl_dn_2: 0.7958 (0.7929)  loss_mal_dn_pre: 0.6235 (0.6213)  loss_bbox_dn_pre: 0.5370 (0.5348)  loss_giou_dn_pre: 1.3610 (1.3610)\n",
      "Test:  [0/5]  eta: 0:00:03    time: 0.7573  data: 0.6481  max mem: 10586\n"
     ]
    },
    {
     "name": "stderr",
     "output_type": "stream",
     "text": [
      "2025-03-10 14:59:50,791 - DEIMTrainer - INFO - Epoch 54 - Train loss: 28.5275, Eval mAP: 0.0182\n",
      "2025-03-10 14:59:50,792 - DEIMTrainer - INFO - Best stats: {'epoch': 52, 'coco_eval_bbox': 0.03008824338832043}\n"
     ]
    },
    {
     "name": "stdout",
     "output_type": "stream",
     "text": [
      "Test:  [4/5]  eta: 0:00:00    time: 0.2770  data: 0.1425  max mem: 10586\n",
      "Test: Total time: 0:00:01 (0.2882 s / it)\n",
      "Averaged stats: \n",
      "Accumulating evaluation results...\n",
      "COCOeval_opt.accumulate() finished...\n",
      "DONE (t=0.01s).\n",
      "IoU metric: bbox\n",
      " Average Precision  (AP) @[ IoU=0.50:0.95 | area=   all | maxDets=100 ] = 0.018\n",
      " Average Precision  (AP) @[ IoU=0.50      | area=   all | maxDets=100 ] = 0.076\n",
      " Average Precision  (AP) @[ IoU=0.75      | area=   all | maxDets=100 ] = 0.002\n",
      " Average Precision  (AP) @[ IoU=0.50:0.95 | area= small | maxDets=100 ] = 0.000\n",
      " Average Precision  (AP) @[ IoU=0.50:0.95 | area=medium | maxDets=100 ] = 0.070\n",
      " Average Precision  (AP) @[ IoU=0.50:0.95 | area= large | maxDets=100 ] = 0.024\n",
      " Average Recall     (AR) @[ IoU=0.50:0.95 | area=   all | maxDets=  1 ] = 0.031\n",
      " Average Recall     (AR) @[ IoU=0.50:0.95 | area=   all | maxDets= 10 ] = 0.069\n",
      " Average Recall     (AR) @[ IoU=0.50:0.95 | area=   all | maxDets=100 ] = 0.130\n",
      " Average Recall     (AR) @[ IoU=0.50:0.95 | area= small | maxDets=100 ] = 0.000\n",
      " Average Recall     (AR) @[ IoU=0.50:0.95 | area=medium | maxDets=100 ] = 0.140\n",
      " Average Recall     (AR) @[ IoU=0.50:0.95 | area= large | maxDets=100 ] = 0.131\n",
      " Average Recall     (AR) @[ IoU=0.50      | area=   all | maxDets=100 ] = 0.388\n",
      " Average Recall     (AR) @[ IoU=0.75      | area=   all | maxDets=100 ] = 0.041\n",
      "================================================\n",
      "{'coco_eval_bbox': [0.018166073355012743, 0.07557300593403338, 0.002435754792667176, 0.0, 0.07020694860091582, 0.023838922699025, 0.030586080586080585, 0.06897130647130648, 0.1295075295075295, 0.0, 0.13973214285714286, 0.13102694598966347]}\n",
      "================================================\n",
      "Epoch: [55]  [ 0/15]  eta: 0:00:34  lr: 0.000034  loss: 28.3101 (28.3101)  loss_mal: 0.7407 (0.7407)  loss_bbox: 0.5992 (0.5992)  loss_giou: 1.3526 (1.3526)  loss_fgl: 0.7939 (0.7939)  loss_mal_aux_0: 0.7412 (0.7412)  loss_bbox_aux_0: 0.5994 (0.5994)  loss_giou_aux_0: 1.3521 (1.3521)  loss_fgl_aux_0: 0.7937 (0.7937)  loss_ddf_aux_0: 0.0009 (0.0009)  loss_mal_aux_1: 0.7417 (0.7417)  loss_bbox_aux_1: 0.5993 (0.5993)  loss_giou_aux_1: 1.3523 (1.3523)  loss_fgl_aux_1: 0.7939 (0.7939)  loss_ddf_aux_1: 0.0002 (0.0002)  loss_mal_pre: 0.7397 (0.7397)  loss_bbox_pre: 0.5997 (0.5997)  loss_giou_pre: 1.3520 (1.3520)  loss_mal_enc_0: 0.7637 (0.7637)  loss_bbox_enc_0: 0.6007 (0.6007)  loss_giou_enc_0: 1.3541 (1.3541)  loss_mal_dn_0: 0.6133 (0.6133)  loss_bbox_dn_0: 0.5284 (0.5284)  loss_giou_dn_0: 1.3778 (1.3778)  loss_fgl_dn_0: 0.7867 (0.7867)  loss_ddf_dn_0: 0.0005 (0.0005)  loss_mal_dn_1: 0.6123 (0.6123)  loss_bbox_dn_1: 0.5277 (0.5277)  loss_giou_dn_1: 1.3786 (1.3786)  loss_fgl_dn_1: 0.7858 (0.7858)  loss_ddf_dn_1: 0.0002 (0.0002)  loss_mal_dn_2: 0.6128 (0.6128)  loss_bbox_dn_2: 0.5270 (0.5270)  loss_giou_dn_2: 1.3792 (1.3792)  loss_fgl_dn_2: 0.7851 (0.7851)  loss_mal_dn_pre: 0.6162 (0.6162)  loss_bbox_dn_pre: 0.5338 (0.5338)  loss_giou_dn_pre: 1.3737 (1.3737)  time: 2.3174  data: 1.6368  max mem: 10586\n"
     ]
    },
    {
     "name": "stderr",
     "output_type": "stream",
     "text": [
      "2025-03-10 14:59:59,781 - DEIMTrainer - INFO - Saving checkpoint to outputs/deim_hgnetv2_s_coco/checkpoint0055.pth\n"
     ]
    },
    {
     "name": "stdout",
     "output_type": "stream",
     "text": [
      "Epoch: [55]  [14/15]  eta: 0:00:00  lr: 0.000035  loss: 28.1322 (28.0806)  loss_mal: 0.8867 (0.8461)  loss_bbox: 0.5319 (0.5330)  loss_giou: 1.2135 (1.2366)  loss_fgl: 0.8918 (0.8796)  loss_mal_aux_0: 0.8672 (0.8510)  loss_bbox_aux_0: 0.5315 (0.5332)  loss_giou_aux_0: 1.2133 (1.2366)  loss_fgl_aux_0: 0.8923 (0.8799)  loss_ddf_aux_0: 0.0009 (0.0009)  loss_mal_aux_1: 0.8813 (0.8493)  loss_bbox_aux_1: 0.5317 (0.5331)  loss_giou_aux_1: 1.2134 (1.2366)  loss_fgl_aux_1: 0.8917 (0.8796)  loss_ddf_aux_1: 0.0003 (0.0003)  loss_mal_pre: 0.8687 (0.8500)  loss_bbox_pre: 0.5292 (0.5324)  loss_giou_pre: 1.2148 (1.2368)  loss_mal_enc_0: 0.8862 (0.8459)  loss_bbox_enc_0: 0.5272 (0.5323)  loss_giou_enc_0: 1.2162 (1.2381)  loss_mal_dn_0: 0.6143 (0.6145)  loss_bbox_dn_0: 0.5221 (0.5118)  loss_giou_dn_0: 1.3674 (1.3701)  loss_fgl_dn_0: 0.7881 (0.7887)  loss_ddf_dn_0: 0.0005 (0.0005)  loss_mal_dn_1: 0.6113 (0.6131)  loss_bbox_dn_1: 0.5221 (0.5114)  loss_giou_dn_1: 1.3675 (1.3703)  loss_fgl_dn_1: 0.7876 (0.7882)  loss_ddf_dn_1: 0.0002 (0.0002)  loss_mal_dn_2: 0.6128 (0.6124)  loss_bbox_dn_2: 0.5216 (0.5108)  loss_giou_dn_2: 1.3678 (1.3705)  loss_fgl_dn_2: 0.7874 (0.7878)  loss_mal_dn_pre: 0.6157 (0.6154)  loss_bbox_dn_pre: 0.5255 (0.5155)  loss_giou_dn_pre: 1.3659 (1.3679)  time: 0.5915  data: 0.1288  max mem: 10586\n",
      "Epoch: [55] Total time: 0:00:08 (0.5972 s / it)\n",
      "Averaged stats: lr: 0.000035  loss: 28.1322 (28.0806)  loss_mal: 0.8867 (0.8461)  loss_bbox: 0.5319 (0.5330)  loss_giou: 1.2135 (1.2366)  loss_fgl: 0.8918 (0.8796)  loss_mal_aux_0: 0.8672 (0.8510)  loss_bbox_aux_0: 0.5315 (0.5332)  loss_giou_aux_0: 1.2133 (1.2366)  loss_fgl_aux_0: 0.8923 (0.8799)  loss_ddf_aux_0: 0.0009 (0.0009)  loss_mal_aux_1: 0.8813 (0.8493)  loss_bbox_aux_1: 0.5317 (0.5331)  loss_giou_aux_1: 1.2134 (1.2366)  loss_fgl_aux_1: 0.8917 (0.8796)  loss_ddf_aux_1: 0.0003 (0.0003)  loss_mal_pre: 0.8687 (0.8500)  loss_bbox_pre: 0.5292 (0.5324)  loss_giou_pre: 1.2148 (1.2368)  loss_mal_enc_0: 0.8862 (0.8459)  loss_bbox_enc_0: 0.5272 (0.5323)  loss_giou_enc_0: 1.2162 (1.2381)  loss_mal_dn_0: 0.6143 (0.6145)  loss_bbox_dn_0: 0.5221 (0.5118)  loss_giou_dn_0: 1.3674 (1.3701)  loss_fgl_dn_0: 0.7881 (0.7887)  loss_ddf_dn_0: 0.0005 (0.0005)  loss_mal_dn_1: 0.6113 (0.6131)  loss_bbox_dn_1: 0.5221 (0.5114)  loss_giou_dn_1: 1.3675 (1.3703)  loss_fgl_dn_1: 0.7876 (0.7882)  loss_ddf_dn_1: 0.0002 (0.0002)  loss_mal_dn_2: 0.6128 (0.6124)  loss_bbox_dn_2: 0.5216 (0.5108)  loss_giou_dn_2: 1.3678 (1.3705)  loss_fgl_dn_2: 0.7874 (0.7878)  loss_mal_dn_pre: 0.6157 (0.6154)  loss_bbox_dn_pre: 0.5255 (0.5155)  loss_giou_dn_pre: 1.3659 (1.3679)\n"
     ]
    },
    {
     "name": "stderr",
     "output_type": "stream",
     "text": [
      "2025-03-10 15:00:00,051 - DEIMTrainer - INFO - Checkpoint saved to outputs/deim_hgnetv2_s_coco/checkpoint0055.pth\n",
      "2025-03-10 15:00:00,053 - DEIMTrainer - INFO - Evaluating model...\n"
     ]
    },
    {
     "name": "stdout",
     "output_type": "stream",
     "text": [
      "Test:  [0/5]  eta: 0:00:03    time: 0.7538  data: 0.6422  max mem: 10586\n"
     ]
    },
    {
     "name": "stderr",
     "output_type": "stream",
     "text": [
      "2025-03-10 15:00:01,524 - DEIMTrainer - INFO - Epoch 55 - Train loss: 28.0806, Eval mAP: 0.0300\n",
      "2025-03-10 15:00:01,525 - DEIMTrainer - INFO - Best stats: {'epoch': 52, 'coco_eval_bbox': 0.03008824338832043}\n"
     ]
    },
    {
     "name": "stdout",
     "output_type": "stream",
     "text": [
      "Test:  [4/5]  eta: 0:00:00    time: 0.2796  data: 0.1421  max mem: 10586\n",
      "Test: Total time: 0:00:01 (0.2896 s / it)\n",
      "Averaged stats: \n",
      "Accumulating evaluation results...\n",
      "COCOeval_opt.accumulate() finished...\n",
      "DONE (t=0.01s).\n",
      "IoU metric: bbox\n",
      " Average Precision  (AP) @[ IoU=0.50:0.95 | area=   all | maxDets=100 ] = 0.030\n",
      " Average Precision  (AP) @[ IoU=0.50      | area=   all | maxDets=100 ] = 0.096\n",
      " Average Precision  (AP) @[ IoU=0.75      | area=   all | maxDets=100 ] = 0.011\n",
      " Average Precision  (AP) @[ IoU=0.50:0.95 | area= small | maxDets=100 ] = 0.000\n",
      " Average Precision  (AP) @[ IoU=0.50:0.95 | area=medium | maxDets=100 ] = 0.006\n",
      " Average Precision  (AP) @[ IoU=0.50:0.95 | area= large | maxDets=100 ] = 0.037\n",
      " Average Recall     (AR) @[ IoU=0.50:0.95 | area=   all | maxDets=  1 ] = 0.040\n",
      " Average Recall     (AR) @[ IoU=0.50:0.95 | area=   all | maxDets= 10 ] = 0.129\n",
      " Average Recall     (AR) @[ IoU=0.50:0.95 | area=   all | maxDets=100 ] = 0.202\n",
      " Average Recall     (AR) @[ IoU=0.50:0.95 | area= small | maxDets=100 ] = 0.000\n",
      " Average Recall     (AR) @[ IoU=0.50:0.95 | area=medium | maxDets=100 ] = 0.137\n",
      " Average Recall     (AR) @[ IoU=0.50:0.95 | area= large | maxDets=100 ] = 0.210\n",
      " Average Recall     (AR) @[ IoU=0.50      | area=   all | maxDets=100 ] = 0.489\n",
      " Average Recall     (AR) @[ IoU=0.75      | area=   all | maxDets=100 ] = 0.127\n",
      "================================================\n",
      "{'coco_eval_bbox': [0.02996124788440244, 0.09563565163433632, 0.011429431602103019, 0.0, 0.006272228849986085, 0.037272826678722684, 0.04029304029304029, 0.12935999185999186, 0.20241147741147741, 0.0, 0.13720238095238094, 0.20984810825738748]}\n",
      "================================================\n",
      "Epoch: [56]  [ 0/15]  eta: 0:00:31  lr: 0.000035  loss: 28.1667 (28.1667)  loss_mal: 0.9932 (0.9932)  loss_bbox: 0.4797 (0.4797)  loss_giou: 1.1215 (1.1215)  loss_fgl: 0.9500 (0.9500)  loss_mal_aux_0: 0.9829 (0.9829)  loss_bbox_aux_0: 0.4797 (0.4797)  loss_giou_aux_0: 1.1212 (1.1212)  loss_fgl_aux_0: 0.9512 (0.9512)  loss_ddf_aux_0: 0.0010 (0.0010)  loss_mal_aux_1: 0.9707 (0.9707)  loss_bbox_aux_1: 0.4797 (0.4797)  loss_giou_aux_1: 1.1212 (1.1212)  loss_fgl_aux_1: 0.9501 (0.9501)  loss_ddf_aux_1: 0.0004 (0.0004)  loss_mal_pre: 0.9795 (0.9795)  loss_bbox_pre: 0.4798 (0.4798)  loss_giou_pre: 1.1215 (1.1215)  loss_mal_enc_0: 1.0293 (1.0293)  loss_bbox_enc_0: 0.4798 (0.4798)  loss_giou_enc_0: 1.1227 (1.1227)  loss_mal_dn_0: 0.6162 (0.6162)  loss_bbox_dn_0: 0.5023 (0.5023)  loss_giou_dn_0: 1.3693 (1.3693)  loss_fgl_dn_0: 0.8020 (0.8020)  loss_ddf_dn_0: 0.0004 (0.0004)  loss_mal_dn_1: 0.6128 (0.6128)  loss_bbox_dn_1: 0.5021 (0.5021)  loss_giou_dn_1: 1.3696 (1.3696)  loss_fgl_dn_1: 0.8015 (0.8015)  loss_ddf_dn_1: 0.0002 (0.0002)  loss_mal_dn_2: 0.6123 (0.6123)  loss_bbox_dn_2: 0.5017 (0.5017)  loss_giou_dn_2: 1.3699 (1.3699)  loss_fgl_dn_2: 0.8010 (0.8010)  loss_mal_dn_pre: 0.6177 (0.6177)  loss_bbox_dn_pre: 0.5049 (0.5049)  loss_giou_dn_pre: 1.3675 (1.3675)  time: 2.0795  data: 1.4543  max mem: 10586\n"
     ]
    },
    {
     "name": "stderr",
     "output_type": "stream",
     "text": [
      "2025-03-10 15:00:11,331 - DEIMTrainer - INFO - Evaluating model...\n"
     ]
    },
    {
     "name": "stdout",
     "output_type": "stream",
     "text": [
      "Epoch: [56]  [14/15]  eta: 0:00:00  lr: 0.000036  loss: 28.1928 (28.3550)  loss_mal: 0.8853 (0.8415)  loss_bbox: 0.5659 (0.5716)  loss_giou: 1.1832 (1.2617)  loss_fgl: 0.9122 (0.8650)  loss_mal_aux_0: 0.8833 (0.8344)  loss_bbox_aux_0: 0.5662 (0.5714)  loss_giou_aux_0: 1.1835 (1.2619)  loss_fgl_aux_0: 0.9115 (0.8648)  loss_ddf_aux_0: 0.0010 (0.0010)  loss_mal_aux_1: 0.8872 (0.8382)  loss_bbox_aux_1: 0.5661 (0.5715)  loss_giou_aux_1: 1.1833 (1.2618)  loss_fgl_aux_1: 0.9121 (0.8649)  loss_ddf_aux_1: 0.0003 (0.0003)  loss_mal_pre: 0.8823 (0.8334)  loss_bbox_pre: 0.5660 (0.5702)  loss_giou_pre: 1.1860 (1.2619)  loss_mal_enc_0: 0.8906 (0.8426)  loss_bbox_enc_0: 0.5658 (0.5693)  loss_giou_enc_0: 1.1889 (1.2634)  loss_mal_dn_0: 0.6177 (0.6175)  loss_bbox_dn_0: 0.5133 (0.5246)  loss_giou_dn_0: 1.3682 (1.3638)  loss_fgl_dn_0: 0.7906 (0.7934)  loss_ddf_dn_0: 0.0005 (0.0005)  loss_mal_dn_1: 0.6152 (0.6174)  loss_bbox_dn_1: 0.5127 (0.5245)  loss_giou_dn_1: 1.3681 (1.3638)  loss_fgl_dn_1: 0.7904 (0.7932)  loss_ddf_dn_1: 0.0002 (0.0002)  loss_mal_dn_2: 0.6147 (0.6168)  loss_bbox_dn_2: 0.5123 (0.5243)  loss_giou_dn_2: 1.3678 (1.3637)  loss_fgl_dn_2: 0.7901 (0.7929)  loss_mal_dn_pre: 0.6182 (0.6179)  loss_bbox_dn_pre: 0.5171 (0.5266)  loss_giou_dn_pre: 1.3673 (1.3630)  time: 0.6471  data: 0.1242  max mem: 10586\n",
      "Epoch: [56] Total time: 0:00:09 (0.6523 s / it)\n",
      "Averaged stats: lr: 0.000036  loss: 28.1928 (28.3550)  loss_mal: 0.8853 (0.8415)  loss_bbox: 0.5659 (0.5716)  loss_giou: 1.1832 (1.2617)  loss_fgl: 0.9122 (0.8650)  loss_mal_aux_0: 0.8833 (0.8344)  loss_bbox_aux_0: 0.5662 (0.5714)  loss_giou_aux_0: 1.1835 (1.2619)  loss_fgl_aux_0: 0.9115 (0.8648)  loss_ddf_aux_0: 0.0010 (0.0010)  loss_mal_aux_1: 0.8872 (0.8382)  loss_bbox_aux_1: 0.5661 (0.5715)  loss_giou_aux_1: 1.1833 (1.2618)  loss_fgl_aux_1: 0.9121 (0.8649)  loss_ddf_aux_1: 0.0003 (0.0003)  loss_mal_pre: 0.8823 (0.8334)  loss_bbox_pre: 0.5660 (0.5702)  loss_giou_pre: 1.1860 (1.2619)  loss_mal_enc_0: 0.8906 (0.8426)  loss_bbox_enc_0: 0.5658 (0.5693)  loss_giou_enc_0: 1.1889 (1.2634)  loss_mal_dn_0: 0.6177 (0.6175)  loss_bbox_dn_0: 0.5133 (0.5246)  loss_giou_dn_0: 1.3682 (1.3638)  loss_fgl_dn_0: 0.7906 (0.7934)  loss_ddf_dn_0: 0.0005 (0.0005)  loss_mal_dn_1: 0.6152 (0.6174)  loss_bbox_dn_1: 0.5127 (0.5245)  loss_giou_dn_1: 1.3681 (1.3638)  loss_fgl_dn_1: 0.7904 (0.7932)  loss_ddf_dn_1: 0.0002 (0.0002)  loss_mal_dn_2: 0.6147 (0.6168)  loss_bbox_dn_2: 0.5123 (0.5243)  loss_giou_dn_2: 1.3678 (1.3637)  loss_fgl_dn_2: 0.7901 (0.7929)  loss_mal_dn_pre: 0.6182 (0.6179)  loss_bbox_dn_pre: 0.5171 (0.5266)  loss_giou_dn_pre: 1.3673 (1.3630)\n",
      "Test:  [0/5]  eta: 0:00:04    time: 0.8869  data: 0.7714  max mem: 10586\n"
     ]
    },
    {
     "name": "stderr",
     "output_type": "stream",
     "text": [
      "2025-03-10 15:00:12,960 - DEIMTrainer - INFO - Epoch 56 - Train loss: 28.3550, Eval mAP: 0.0273\n",
      "2025-03-10 15:00:12,961 - DEIMTrainer - INFO - Best stats: {'epoch': 52, 'coco_eval_bbox': 0.03008824338832043}\n"
     ]
    },
    {
     "name": "stdout",
     "output_type": "stream",
     "text": [
      "Test:  [4/5]  eta: 0:00:00    time: 0.3056  data: 0.1671  max mem: 10586\n",
      "Test: Total time: 0:00:01 (0.3199 s / it)\n",
      "Averaged stats: \n",
      "Accumulating evaluation results...\n",
      "COCOeval_opt.accumulate() finished...\n",
      "DONE (t=0.01s).\n",
      "IoU metric: bbox\n",
      " Average Precision  (AP) @[ IoU=0.50:0.95 | area=   all | maxDets=100 ] = 0.027\n",
      " Average Precision  (AP) @[ IoU=0.50      | area=   all | maxDets=100 ] = 0.094\n",
      " Average Precision  (AP) @[ IoU=0.75      | area=   all | maxDets=100 ] = 0.007\n",
      " Average Precision  (AP) @[ IoU=0.50:0.95 | area= small | maxDets=100 ] = 0.000\n",
      " Average Precision  (AP) @[ IoU=0.50:0.95 | area=medium | maxDets=100 ] = 0.027\n",
      " Average Precision  (AP) @[ IoU=0.50:0.95 | area= large | maxDets=100 ] = 0.035\n",
      " Average Recall     (AR) @[ IoU=0.50:0.95 | area=   all | maxDets=  1 ] = 0.043\n",
      " Average Recall     (AR) @[ IoU=0.50:0.95 | area=   all | maxDets= 10 ] = 0.107\n",
      " Average Recall     (AR) @[ IoU=0.50:0.95 | area=   all | maxDets=100 ] = 0.180\n",
      " Average Recall     (AR) @[ IoU=0.50:0.95 | area= small | maxDets=100 ] = 0.000\n",
      " Average Recall     (AR) @[ IoU=0.50:0.95 | area=medium | maxDets=100 ] = 0.149\n",
      " Average Recall     (AR) @[ IoU=0.50:0.95 | area= large | maxDets=100 ] = 0.184\n",
      " Average Recall     (AR) @[ IoU=0.50      | area=   all | maxDets=100 ] = 0.473\n",
      " Average Recall     (AR) @[ IoU=0.75      | area=   all | maxDets=100 ] = 0.102\n",
      "================================================\n",
      "{'coco_eval_bbox': [0.027328204440352527, 0.09385984214589708, 0.006538562856971564, 0.0, 0.026977687943591133, 0.03474196303491146, 0.04298941798941799, 0.10704619454619455, 0.18038258038258037, 0.0, 0.1488095238095238, 0.1842158835365132]}\n",
      "================================================\n",
      "Epoch: [57]  [ 0/15]  eta: 0:00:30  lr: 0.000037  loss: 29.9114 (29.9114)  loss_mal: 0.8760 (0.8760)  loss_bbox: 0.6577 (0.6577)  loss_giou: 1.2783 (1.2783)  loss_fgl: 0.8679 (0.8679)  loss_mal_aux_0: 0.9941 (0.9941)  loss_bbox_aux_0: 0.6575 (0.6575)  loss_giou_aux_0: 1.2774 (1.2774)  loss_fgl_aux_0: 0.8673 (0.8673)  loss_ddf_aux_0: 0.0009 (0.0009)  loss_mal_aux_1: 0.9087 (0.9087)  loss_bbox_aux_1: 0.6577 (0.6577)  loss_giou_aux_1: 1.2781 (1.2781)  loss_fgl_aux_1: 0.8681 (0.8681)  loss_ddf_aux_1: 0.0002 (0.0002)  loss_mal_pre: 0.9927 (0.9927)  loss_bbox_pre: 0.6566 (0.6566)  loss_giou_pre: 1.2748 (1.2748)  loss_mal_enc_0: 0.9395 (0.9395)  loss_bbox_enc_0: 0.6574 (0.6574)  loss_giou_enc_0: 1.2745 (1.2745)  loss_mal_dn_0: 0.6221 (0.6221)  loss_bbox_dn_0: 0.6496 (0.6496)  loss_giou_dn_0: 1.3716 (1.3716)  loss_fgl_dn_0: 0.7884 (0.7884)  loss_ddf_dn_0: 0.0004 (0.0004)  loss_mal_dn_1: 0.6157 (0.6157)  loss_bbox_dn_1: 0.6495 (0.6495)  loss_giou_dn_1: 1.3720 (1.3720)  loss_fgl_dn_1: 0.7877 (0.7877)  loss_ddf_dn_1: 0.0002 (0.0002)  loss_mal_dn_2: 0.6138 (0.6138)  loss_bbox_dn_2: 0.6492 (0.6492)  loss_giou_dn_2: 1.3722 (1.3722)  loss_fgl_dn_2: 0.7868 (0.7868)  loss_mal_dn_pre: 0.6240 (0.6240)  loss_bbox_dn_pre: 0.6552 (0.6552)  loss_giou_dn_pre: 1.3677 (1.3677)  time: 2.0237  data: 1.4684  max mem: 10586\n"
     ]
    },
    {
     "name": "stderr",
     "output_type": "stream",
     "text": [
      "2025-03-10 15:00:22,661 - DEIMTrainer - INFO - Evaluating model...\n"
     ]
    },
    {
     "name": "stdout",
     "output_type": "stream",
     "text": [
      "Epoch: [57]  [14/15]  eta: 0:00:00  lr: 0.000038  loss: 27.9669 (28.1471)  loss_mal: 0.8599 (0.8196)  loss_bbox: 0.5631 (0.5470)  loss_giou: 1.2783 (1.2769)  loss_fgl: 0.8679 (0.8583)  loss_mal_aux_0: 0.9014 (0.8302)  loss_bbox_aux_0: 0.5635 (0.5472)  loss_giou_aux_0: 1.2774 (1.2766)  loss_fgl_aux_0: 0.8673 (0.8584)  loss_ddf_aux_0: 0.0009 (0.0009)  loss_mal_aux_1: 0.8667 (0.8247)  loss_bbox_aux_1: 0.5633 (0.5471)  loss_giou_aux_1: 1.2781 (1.2769)  loss_fgl_aux_1: 0.8681 (0.8583)  loss_ddf_aux_1: 0.0003 (0.0003)  loss_mal_pre: 0.8994 (0.8293)  loss_bbox_pre: 0.5647 (0.5478)  loss_giou_pre: 1.2748 (1.2758)  loss_mal_enc_0: 0.8823 (0.8323)  loss_bbox_enc_0: 0.5638 (0.5482)  loss_giou_enc_0: 1.2745 (1.2768)  loss_mal_dn_0: 0.6118 (0.6119)  loss_bbox_dn_0: 0.4973 (0.5041)  loss_giou_dn_0: 1.3740 (1.3728)  loss_fgl_dn_0: 0.7868 (0.7866)  loss_ddf_dn_0: 0.0005 (0.0005)  loss_mal_dn_1: 0.6113 (0.6111)  loss_bbox_dn_1: 0.4968 (0.5039)  loss_giou_dn_1: 1.3736 (1.3727)  loss_fgl_dn_1: 0.7865 (0.7864)  loss_ddf_dn_1: 0.0001 (0.0002)  loss_mal_dn_2: 0.6089 (0.6107)  loss_bbox_dn_2: 0.4964 (0.5036)  loss_giou_dn_2: 1.3734 (1.3726)  loss_fgl_dn_2: 0.7861 (0.7859)  loss_mal_dn_pre: 0.6123 (0.6129)  loss_bbox_dn_pre: 0.5016 (0.5072)  loss_giou_dn_pre: 1.3723 (1.3713)  time: 0.6387  data: 0.1226  max mem: 10586\n",
      "Epoch: [57] Total time: 0:00:09 (0.6452 s / it)\n",
      "Averaged stats: lr: 0.000038  loss: 27.9669 (28.1471)  loss_mal: 0.8599 (0.8196)  loss_bbox: 0.5631 (0.5470)  loss_giou: 1.2783 (1.2769)  loss_fgl: 0.8679 (0.8583)  loss_mal_aux_0: 0.9014 (0.8302)  loss_bbox_aux_0: 0.5635 (0.5472)  loss_giou_aux_0: 1.2774 (1.2766)  loss_fgl_aux_0: 0.8673 (0.8584)  loss_ddf_aux_0: 0.0009 (0.0009)  loss_mal_aux_1: 0.8667 (0.8247)  loss_bbox_aux_1: 0.5633 (0.5471)  loss_giou_aux_1: 1.2781 (1.2769)  loss_fgl_aux_1: 0.8681 (0.8583)  loss_ddf_aux_1: 0.0003 (0.0003)  loss_mal_pre: 0.8994 (0.8293)  loss_bbox_pre: 0.5647 (0.5478)  loss_giou_pre: 1.2748 (1.2758)  loss_mal_enc_0: 0.8823 (0.8323)  loss_bbox_enc_0: 0.5638 (0.5482)  loss_giou_enc_0: 1.2745 (1.2768)  loss_mal_dn_0: 0.6118 (0.6119)  loss_bbox_dn_0: 0.4973 (0.5041)  loss_giou_dn_0: 1.3740 (1.3728)  loss_fgl_dn_0: 0.7868 (0.7866)  loss_ddf_dn_0: 0.0005 (0.0005)  loss_mal_dn_1: 0.6113 (0.6111)  loss_bbox_dn_1: 0.4968 (0.5039)  loss_giou_dn_1: 1.3736 (1.3727)  loss_fgl_dn_1: 0.7865 (0.7864)  loss_ddf_dn_1: 0.0001 (0.0002)  loss_mal_dn_2: 0.6089 (0.6107)  loss_bbox_dn_2: 0.4964 (0.5036)  loss_giou_dn_2: 1.3734 (1.3726)  loss_fgl_dn_2: 0.7861 (0.7859)  loss_mal_dn_pre: 0.6123 (0.6129)  loss_bbox_dn_pre: 0.5016 (0.5072)  loss_giou_dn_pre: 1.3723 (1.3713)\n",
      "Test:  [0/5]  eta: 0:00:04    time: 0.8218  data: 0.7018  max mem: 10586\n"
     ]
    },
    {
     "name": "stderr",
     "output_type": "stream",
     "text": [
      "2025-03-10 15:00:24,238 - DEIMTrainer - INFO - Saving checkpoint to outputs/deim_hgnetv2_s_coco/best.pth\n"
     ]
    },
    {
     "name": "stdout",
     "output_type": "stream",
     "text": [
      "Test:  [4/5]  eta: 0:00:00    time: 0.2958  data: 0.1572  max mem: 10586\n",
      "Test: Total time: 0:00:01 (0.3096 s / it)\n",
      "Averaged stats: \n",
      "Accumulating evaluation results...\n",
      "COCOeval_opt.accumulate() finished...\n",
      "DONE (t=0.01s).\n",
      "IoU metric: bbox\n",
      " Average Precision  (AP) @[ IoU=0.50:0.95 | area=   all | maxDets=100 ] = 0.047\n",
      " Average Precision  (AP) @[ IoU=0.50      | area=   all | maxDets=100 ] = 0.137\n",
      " Average Precision  (AP) @[ IoU=0.75      | area=   all | maxDets=100 ] = 0.018\n",
      " Average Precision  (AP) @[ IoU=0.50:0.95 | area= small | maxDets=100 ] = 0.000\n",
      " Average Precision  (AP) @[ IoU=0.50:0.95 | area=medium | maxDets=100 ] = 0.073\n",
      " Average Precision  (AP) @[ IoU=0.50:0.95 | area= large | maxDets=100 ] = 0.062\n",
      " Average Recall     (AR) @[ IoU=0.50:0.95 | area=   all | maxDets=  1 ] = 0.073\n",
      " Average Recall     (AR) @[ IoU=0.50:0.95 | area=   all | maxDets= 10 ] = 0.139\n",
      " Average Recall     (AR) @[ IoU=0.50:0.95 | area=   all | maxDets=100 ] = 0.194\n",
      " Average Recall     (AR) @[ IoU=0.50:0.95 | area= small | maxDets=100 ] = 0.000\n",
      " Average Recall     (AR) @[ IoU=0.50:0.95 | area=medium | maxDets=100 ] = 0.172\n",
      " Average Recall     (AR) @[ IoU=0.50:0.95 | area= large | maxDets=100 ] = 0.191\n",
      " Average Recall     (AR) @[ IoU=0.50      | area=   all | maxDets=100 ] = 0.507\n",
      " Average Recall     (AR) @[ IoU=0.75      | area=   all | maxDets=100 ] = 0.134\n",
      "================================================\n",
      "{'coco_eval_bbox': [0.04658910240503366, 0.13659171241803575, 0.018390614341526983, 0.0, 0.07302256034961008, 0.06170497508146556, 0.07319393569393569, 0.1388990638990639, 0.19428164428164427, 0.0, 0.17202380952380952, 0.19125261372154495]}\n",
      "================================================\n"
     ]
    },
    {
     "name": "stderr",
     "output_type": "stream",
     "text": [
      "2025-03-10 15:00:24,599 - DEIMTrainer - INFO - Checkpoint saved to outputs/deim_hgnetv2_s_coco/best.pth\n",
      "2025-03-10 15:00:24,601 - DEIMTrainer - INFO - Epoch 57 - Train loss: 28.1471, Eval mAP: 0.0466\n",
      "2025-03-10 15:00:24,602 - DEIMTrainer - INFO - Best stats: {'epoch': 57, 'coco_eval_bbox': 0.04658910240503366}\n"
     ]
    },
    {
     "name": "stdout",
     "output_type": "stream",
     "text": [
      "Epoch: [58]  [ 0/15]  eta: 0:00:30  lr: 0.000038  loss: 29.3095 (29.3095)  loss_mal: 0.7266 (0.7266)  loss_bbox: 0.7222 (0.7222)  loss_giou: 1.4661 (1.4661)  loss_fgl: 0.7617 (0.7617)  loss_mal_aux_0: 0.7246 (0.7246)  loss_bbox_aux_0: 0.7220 (0.7220)  loss_giou_aux_0: 1.4663 (1.4663)  loss_fgl_aux_0: 0.7607 (0.7607)  loss_ddf_aux_0: 0.0008 (0.0008)  loss_mal_aux_1: 0.7070 (0.7070)  loss_bbox_aux_1: 0.7221 (0.7221)  loss_giou_aux_1: 1.4663 (1.4663)  loss_fgl_aux_1: 0.7616 (0.7616)  loss_ddf_aux_1: 0.0003 (0.0003)  loss_mal_pre: 0.7256 (0.7256)  loss_bbox_pre: 0.7221 (0.7221)  loss_giou_pre: 1.4665 (1.4665)  loss_mal_enc_0: 0.7183 (0.7183)  loss_bbox_enc_0: 0.7213 (0.7213)  loss_giou_enc_0: 1.4656 (1.4656)  loss_mal_dn_0: 0.6265 (0.6265)  loss_bbox_dn_0: 0.5435 (0.5435)  loss_giou_dn_0: 1.3482 (1.3482)  loss_fgl_dn_0: 0.8050 (0.8050)  loss_ddf_dn_0: 0.0006 (0.0006)  loss_mal_dn_1: 0.6235 (0.6235)  loss_bbox_dn_1: 0.5439 (0.5439)  loss_giou_dn_1: 1.3480 (1.3480)  loss_fgl_dn_1: 0.8049 (0.8049)  loss_ddf_dn_1: 0.0002 (0.0002)  loss_mal_dn_2: 0.6245 (0.6245)  loss_bbox_dn_2: 0.5440 (0.5440)  loss_giou_dn_2: 1.3479 (1.3479)  loss_fgl_dn_2: 0.8043 (0.8043)  loss_mal_dn_pre: 0.6260 (0.6260)  loss_bbox_dn_pre: 0.5429 (0.5429)  loss_giou_dn_pre: 1.3481 (1.3481)  time: 2.0259  data: 1.3671  max mem: 10586\n"
     ]
    },
    {
     "name": "stderr",
     "output_type": "stream",
     "text": [
      "2025-03-10 15:00:33,401 - DEIMTrainer - INFO - Evaluating model...\n"
     ]
    },
    {
     "name": "stdout",
     "output_type": "stream",
     "text": [
      "Epoch: [58]  [14/15]  eta: 0:00:00  lr: 0.000039  loss: 28.0040 (28.0463)  loss_mal: 0.8921 (0.8428)  loss_bbox: 0.4882 (0.5307)  loss_giou: 1.1450 (1.2425)  loss_fgl: 0.9291 (0.8784)  loss_mal_aux_0: 0.8965 (0.8459)  loss_bbox_aux_0: 0.4880 (0.5307)  loss_giou_aux_0: 1.1448 (1.2428)  loss_fgl_aux_0: 0.9298 (0.8782)  loss_ddf_aux_0: 0.0008 (0.0008)  loss_mal_aux_1: 0.8887 (0.8399)  loss_bbox_aux_1: 0.4882 (0.5307)  loss_giou_aux_1: 1.1449 (1.2427)  loss_fgl_aux_1: 0.9292 (0.8783)  loss_ddf_aux_1: 0.0003 (0.0003)  loss_mal_pre: 0.8945 (0.8443)  loss_bbox_pre: 0.4857 (0.5301)  loss_giou_pre: 1.1460 (1.2436)  loss_mal_enc_0: 0.8955 (0.8465)  loss_bbox_enc_0: 0.4867 (0.5306)  loss_giou_enc_0: 1.1443 (1.2445)  loss_mal_dn_0: 0.6182 (0.6164)  loss_bbox_dn_0: 0.5133 (0.5022)  loss_giou_dn_0: 1.3667 (1.3674)  loss_fgl_dn_0: 0.7922 (0.7932)  loss_ddf_dn_0: 0.0005 (0.0005)  loss_mal_dn_1: 0.6152 (0.6156)  loss_bbox_dn_1: 0.5136 (0.5023)  loss_giou_dn_1: 1.3667 (1.3673)  loss_fgl_dn_1: 0.7920 (0.7931)  loss_ddf_dn_1: 0.0002 (0.0002)  loss_mal_dn_2: 0.6147 (0.6148)  loss_bbox_dn_2: 0.5137 (0.5021)  loss_giou_dn_2: 1.3666 (1.3672)  loss_fgl_dn_2: 0.7917 (0.7926)  loss_mal_dn_pre: 0.6172 (0.6165)  loss_bbox_dn_pre: 0.5128 (0.5037)  loss_giou_dn_pre: 1.3659 (1.3666)  time: 0.5793  data: 0.1072  max mem: 10586\n",
      "Epoch: [58] Total time: 0:00:08 (0.5845 s / it)\n",
      "Averaged stats: lr: 0.000039  loss: 28.0040 (28.0463)  loss_mal: 0.8921 (0.8428)  loss_bbox: 0.4882 (0.5307)  loss_giou: 1.1450 (1.2425)  loss_fgl: 0.9291 (0.8784)  loss_mal_aux_0: 0.8965 (0.8459)  loss_bbox_aux_0: 0.4880 (0.5307)  loss_giou_aux_0: 1.1448 (1.2428)  loss_fgl_aux_0: 0.9298 (0.8782)  loss_ddf_aux_0: 0.0008 (0.0008)  loss_mal_aux_1: 0.8887 (0.8399)  loss_bbox_aux_1: 0.4882 (0.5307)  loss_giou_aux_1: 1.1449 (1.2427)  loss_fgl_aux_1: 0.9292 (0.8783)  loss_ddf_aux_1: 0.0003 (0.0003)  loss_mal_pre: 0.8945 (0.8443)  loss_bbox_pre: 0.4857 (0.5301)  loss_giou_pre: 1.1460 (1.2436)  loss_mal_enc_0: 0.8955 (0.8465)  loss_bbox_enc_0: 0.4867 (0.5306)  loss_giou_enc_0: 1.1443 (1.2445)  loss_mal_dn_0: 0.6182 (0.6164)  loss_bbox_dn_0: 0.5133 (0.5022)  loss_giou_dn_0: 1.3667 (1.3674)  loss_fgl_dn_0: 0.7922 (0.7932)  loss_ddf_dn_0: 0.0005 (0.0005)  loss_mal_dn_1: 0.6152 (0.6156)  loss_bbox_dn_1: 0.5136 (0.5023)  loss_giou_dn_1: 1.3667 (1.3673)  loss_fgl_dn_1: 0.7920 (0.7931)  loss_ddf_dn_1: 0.0002 (0.0002)  loss_mal_dn_2: 0.6147 (0.6148)  loss_bbox_dn_2: 0.5137 (0.5021)  loss_giou_dn_2: 1.3666 (1.3672)  loss_fgl_dn_2: 0.7917 (0.7926)  loss_mal_dn_pre: 0.6172 (0.6165)  loss_bbox_dn_pre: 0.5128 (0.5037)  loss_giou_dn_pre: 1.3659 (1.3666)\n",
      "Test:  [0/5]  eta: 0:00:04    time: 0.8538  data: 0.7246  max mem: 10586\n"
     ]
    },
    {
     "name": "stderr",
     "output_type": "stream",
     "text": [
      "2025-03-10 15:00:35,001 - DEIMTrainer - INFO - Epoch 58 - Train loss: 28.0463, Eval mAP: 0.0461\n",
      "2025-03-10 15:00:35,002 - DEIMTrainer - INFO - Best stats: {'epoch': 57, 'coco_eval_bbox': 0.04658910240503366}\n"
     ]
    },
    {
     "name": "stdout",
     "output_type": "stream",
     "text": [
      "Test:  [4/5]  eta: 0:00:00    time: 0.3031  data: 0.1634  max mem: 10586\n",
      "Test: Total time: 0:00:01 (0.3151 s / it)\n",
      "Averaged stats: \n",
      "Accumulating evaluation results...\n",
      "COCOeval_opt.accumulate() finished...\n",
      "DONE (t=0.01s).\n",
      "IoU metric: bbox\n",
      " Average Precision  (AP) @[ IoU=0.50:0.95 | area=   all | maxDets=100 ] = 0.046\n",
      " Average Precision  (AP) @[ IoU=0.50      | area=   all | maxDets=100 ] = 0.144\n",
      " Average Precision  (AP) @[ IoU=0.75      | area=   all | maxDets=100 ] = 0.014\n",
      " Average Precision  (AP) @[ IoU=0.50:0.95 | area= small | maxDets=100 ] = 0.000\n",
      " Average Precision  (AP) @[ IoU=0.50:0.95 | area=medium | maxDets=100 ] = 0.041\n",
      " Average Precision  (AP) @[ IoU=0.50:0.95 | area= large | maxDets=100 ] = 0.051\n",
      " Average Recall     (AR) @[ IoU=0.50:0.95 | area=   all | maxDets=  1 ] = 0.075\n",
      " Average Recall     (AR) @[ IoU=0.50:0.95 | area=   all | maxDets= 10 ] = 0.163\n",
      " Average Recall     (AR) @[ IoU=0.50:0.95 | area=   all | maxDets=100 ] = 0.234\n",
      " Average Recall     (AR) @[ IoU=0.50:0.95 | area= small | maxDets=100 ] = 0.000\n",
      " Average Recall     (AR) @[ IoU=0.50:0.95 | area=medium | maxDets=100 ] = 0.223\n",
      " Average Recall     (AR) @[ IoU=0.50:0.95 | area= large | maxDets=100 ] = 0.236\n",
      " Average Recall     (AR) @[ IoU=0.50      | area=   all | maxDets=100 ] = 0.546\n",
      " Average Recall     (AR) @[ IoU=0.75      | area=   all | maxDets=100 ] = 0.159\n",
      "================================================\n",
      "{'coco_eval_bbox': [0.046125638357906076, 0.14381381864631085, 0.013740385225024401, 0.0, 0.041225339724085125, 0.050735902588091256, 0.07482193732193733, 0.16344118844118843, 0.23445767195767198, 0.0, 0.22261904761904763, 0.23639799581804555]}\n",
      "================================================\n",
      "Epoch: [59]  [ 0/15]  eta: 0:00:32  lr: 0.000039  loss: 27.4599 (27.4599)  loss_mal: 0.8916 (0.8916)  loss_bbox: 0.4404 (0.4404)  loss_giou: 1.1429 (1.1429)  loss_fgl: 0.9500 (0.9500)  loss_mal_aux_0: 0.9058 (0.9058)  loss_bbox_aux_0: 0.4403 (0.4403)  loss_giou_aux_0: 1.1422 (1.1422)  loss_fgl_aux_0: 0.9511 (0.9511)  loss_ddf_aux_0: 0.0007 (0.0007)  loss_mal_aux_1: 0.8960 (0.8960)  loss_bbox_aux_1: 0.4403 (0.4403)  loss_giou_aux_1: 1.1424 (1.1424)  loss_fgl_aux_1: 0.9504 (0.9504)  loss_ddf_aux_1: 0.0003 (0.0003)  loss_mal_pre: 0.9028 (0.9028)  loss_bbox_pre: 0.4401 (0.4401)  loss_giou_pre: 1.1413 (1.1413)  loss_mal_enc_0: 0.9287 (0.9287)  loss_bbox_enc_0: 0.4398 (0.4398)  loss_giou_enc_0: 1.1400 (1.1400)  loss_mal_dn_0: 0.6128 (0.6128)  loss_bbox_dn_0: 0.4709 (0.4709)  loss_giou_dn_0: 1.3666 (1.3666)  loss_fgl_dn_0: 0.7928 (0.7928)  loss_ddf_dn_0: 0.0004 (0.0004)  loss_mal_dn_1: 0.6099 (0.6099)  loss_bbox_dn_1: 0.4704 (0.4704)  loss_giou_dn_1: 1.3665 (1.3665)  loss_fgl_dn_1: 0.7926 (0.7926)  loss_ddf_dn_1: 0.0002 (0.0002)  loss_mal_dn_2: 0.6089 (0.6089)  loss_bbox_dn_2: 0.4696 (0.4696)  loss_giou_dn_2: 1.3664 (1.3664)  loss_fgl_dn_2: 0.7920 (0.7920)  loss_mal_dn_pre: 0.6138 (0.6138)  loss_bbox_dn_pre: 0.4756 (0.4756)  loss_giou_dn_pre: 1.3635 (1.3635)  time: 2.1807  data: 1.5297  max mem: 10586\n"
     ]
    },
    {
     "name": "stderr",
     "output_type": "stream",
     "text": [
      "2025-03-10 15:00:44,511 - DEIMTrainer - INFO - Saving checkpoint to outputs/deim_hgnetv2_s_coco/checkpoint0059.pth\n"
     ]
    },
    {
     "name": "stdout",
     "output_type": "stream",
     "text": [
      "Epoch: [59]  [14/15]  eta: 0:00:00  lr: 0.000040  loss: 28.7118 (28.6402)  loss_mal: 0.8374 (0.8179)  loss_bbox: 0.6096 (0.6076)  loss_giou: 1.2500 (1.2839)  loss_fgl: 0.8787 (0.8561)  loss_mal_aux_0: 0.8325 (0.8214)  loss_bbox_aux_0: 0.6100 (0.6072)  loss_giou_aux_0: 1.2505 (1.2843)  loss_fgl_aux_0: 0.8776 (0.8559)  loss_ddf_aux_0: 0.0009 (0.0009)  loss_mal_aux_1: 0.8364 (0.8215)  loss_bbox_aux_1: 0.6098 (0.6074)  loss_giou_aux_1: 1.2503 (1.2841)  loss_fgl_aux_1: 0.8787 (0.8560)  loss_ddf_aux_1: 0.0003 (0.0003)  loss_mal_pre: 0.8330 (0.8213)  loss_bbox_pre: 0.6112 (0.6052)  loss_giou_pre: 1.2516 (1.2841)  loss_mal_enc_0: 0.8564 (0.8360)  loss_bbox_enc_0: 0.6124 (0.6042)  loss_giou_enc_0: 1.2547 (1.2859)  loss_mal_dn_0: 0.6157 (0.6165)  loss_bbox_dn_0: 0.5440 (0.5481)  loss_giou_dn_0: 1.3654 (1.3642)  loss_fgl_dn_0: 0.7932 (0.7939)  loss_ddf_dn_0: 0.0006 (0.0005)  loss_mal_dn_1: 0.6182 (0.6173)  loss_bbox_dn_1: 0.5444 (0.5482)  loss_giou_dn_1: 1.3648 (1.3639)  loss_fgl_dn_1: 0.7932 (0.7937)  loss_ddf_dn_1: 0.0002 (0.0002)  loss_mal_dn_2: 0.6167 (0.6169)  loss_bbox_dn_2: 0.5442 (0.5480)  loss_giou_dn_2: 1.3642 (1.3637)  loss_fgl_dn_2: 0.7928 (0.7930)  loss_mal_dn_pre: 0.6162 (0.6172)  loss_bbox_dn_pre: 0.5463 (0.5507)  loss_giou_dn_pre: 1.3635 (1.3630)  time: 0.6265  data: 0.1206  max mem: 10586\n",
      "Epoch: [59] Total time: 0:00:09 (0.6320 s / it)\n",
      "Averaged stats: lr: 0.000040  loss: 28.7118 (28.6402)  loss_mal: 0.8374 (0.8179)  loss_bbox: 0.6096 (0.6076)  loss_giou: 1.2500 (1.2839)  loss_fgl: 0.8787 (0.8561)  loss_mal_aux_0: 0.8325 (0.8214)  loss_bbox_aux_0: 0.6100 (0.6072)  loss_giou_aux_0: 1.2505 (1.2843)  loss_fgl_aux_0: 0.8776 (0.8559)  loss_ddf_aux_0: 0.0009 (0.0009)  loss_mal_aux_1: 0.8364 (0.8215)  loss_bbox_aux_1: 0.6098 (0.6074)  loss_giou_aux_1: 1.2503 (1.2841)  loss_fgl_aux_1: 0.8787 (0.8560)  loss_ddf_aux_1: 0.0003 (0.0003)  loss_mal_pre: 0.8330 (0.8213)  loss_bbox_pre: 0.6112 (0.6052)  loss_giou_pre: 1.2516 (1.2841)  loss_mal_enc_0: 0.8564 (0.8360)  loss_bbox_enc_0: 0.6124 (0.6042)  loss_giou_enc_0: 1.2547 (1.2859)  loss_mal_dn_0: 0.6157 (0.6165)  loss_bbox_dn_0: 0.5440 (0.5481)  loss_giou_dn_0: 1.3654 (1.3642)  loss_fgl_dn_0: 0.7932 (0.7939)  loss_ddf_dn_0: 0.0006 (0.0005)  loss_mal_dn_1: 0.6182 (0.6173)  loss_bbox_dn_1: 0.5444 (0.5482)  loss_giou_dn_1: 1.3648 (1.3639)  loss_fgl_dn_1: 0.7932 (0.7937)  loss_ddf_dn_1: 0.0002 (0.0002)  loss_mal_dn_2: 0.6167 (0.6169)  loss_bbox_dn_2: 0.5442 (0.5480)  loss_giou_dn_2: 1.3642 (1.3637)  loss_fgl_dn_2: 0.7928 (0.7930)  loss_mal_dn_pre: 0.6162 (0.6172)  loss_bbox_dn_pre: 0.5463 (0.5507)  loss_giou_dn_pre: 1.3635 (1.3630)\n"
     ]
    },
    {
     "name": "stderr",
     "output_type": "stream",
     "text": [
      "2025-03-10 15:00:44,889 - DEIMTrainer - INFO - Checkpoint saved to outputs/deim_hgnetv2_s_coco/checkpoint0059.pth\n",
      "2025-03-10 15:00:44,891 - DEIMTrainer - INFO - Evaluating model...\n"
     ]
    },
    {
     "name": "stdout",
     "output_type": "stream",
     "text": [
      "Test:  [0/5]  eta: 0:00:04    time: 0.8216  data: 0.6972  max mem: 10586\n"
     ]
    },
    {
     "name": "stderr",
     "output_type": "stream",
     "text": [
      "2025-03-10 15:00:46,588 - DEIMTrainer - INFO - Saving checkpoint to outputs/deim_hgnetv2_s_coco/best.pth\n"
     ]
    },
    {
     "name": "stdout",
     "output_type": "stream",
     "text": [
      "Test:  [4/5]  eta: 0:00:00    time: 0.3208  data: 0.1626  max mem: 10586\n",
      "Test: Total time: 0:00:01 (0.3351 s / it)\n",
      "Averaged stats: \n",
      "Accumulating evaluation results...\n",
      "COCOeval_opt.accumulate() finished...\n",
      "DONE (t=0.01s).\n",
      "IoU metric: bbox\n",
      " Average Precision  (AP) @[ IoU=0.50:0.95 | area=   all | maxDets=100 ] = 0.076\n",
      " Average Precision  (AP) @[ IoU=0.50      | area=   all | maxDets=100 ] = 0.190\n",
      " Average Precision  (AP) @[ IoU=0.75      | area=   all | maxDets=100 ] = 0.047\n",
      " Average Precision  (AP) @[ IoU=0.50:0.95 | area= small | maxDets=100 ] = 0.000\n",
      " Average Precision  (AP) @[ IoU=0.50:0.95 | area=medium | maxDets=100 ] = 0.109\n",
      " Average Precision  (AP) @[ IoU=0.50:0.95 | area= large | maxDets=100 ] = 0.084\n",
      " Average Recall     (AR) @[ IoU=0.50:0.95 | area=   all | maxDets=  1 ] = 0.117\n",
      " Average Recall     (AR) @[ IoU=0.50:0.95 | area=   all | maxDets= 10 ] = 0.191\n",
      " Average Recall     (AR) @[ IoU=0.50:0.95 | area=   all | maxDets=100 ] = 0.264\n",
      " Average Recall     (AR) @[ IoU=0.50:0.95 | area= small | maxDets=100 ] = 0.000\n",
      " Average Recall     (AR) @[ IoU=0.50:0.95 | area=medium | maxDets=100 ] = 0.284\n",
      " Average Recall     (AR) @[ IoU=0.50:0.95 | area= large | maxDets=100 ] = 0.272\n",
      " Average Recall     (AR) @[ IoU=0.50      | area=   all | maxDets=100 ] = 0.555\n",
      " Average Recall     (AR) @[ IoU=0.75      | area=   all | maxDets=100 ] = 0.222\n",
      "================================================\n",
      "{'coco_eval_bbox': [0.07639269942055571, 0.18992413611614756, 0.0469282193484327, 0.0, 0.10939857016339122, 0.08380881804312691, 0.11705331705331704, 0.1908017908017908, 0.2636853886853887, 0.0, 0.28407738095238094, 0.2717789087465972]}\n",
      "================================================\n"
     ]
    },
    {
     "name": "stderr",
     "output_type": "stream",
     "text": [
      "2025-03-10 15:00:46,998 - DEIMTrainer - INFO - Checkpoint saved to outputs/deim_hgnetv2_s_coco/best.pth\n",
      "2025-03-10 15:00:47,000 - DEIMTrainer - INFO - Epoch 59 - Train loss: 28.6402, Eval mAP: 0.0764\n",
      "2025-03-10 15:00:47,001 - DEIMTrainer - INFO - Best stats: {'epoch': 59, 'coco_eval_bbox': 0.07639269942055571}\n"
     ]
    },
    {
     "name": "stdout",
     "output_type": "stream",
     "text": [
      "Epoch: [60]  [ 0/15]  eta: 0:00:32  lr: 0.000041  loss: 28.3230 (28.3230)  loss_mal: 0.7285 (0.7285)  loss_bbox: 0.6081 (0.6081)  loss_giou: 1.3955 (1.3955)  loss_fgl: 0.7765 (0.7765)  loss_mal_aux_0: 0.7490 (0.7490)  loss_bbox_aux_0: 0.6080 (0.6080)  loss_giou_aux_0: 1.3957 (1.3957)  loss_fgl_aux_0: 0.7764 (0.7764)  loss_ddf_aux_0: 0.0008 (0.0008)  loss_mal_aux_1: 0.7334 (0.7334)  loss_bbox_aux_1: 0.6080 (0.6080)  loss_giou_aux_1: 1.3957 (1.3957)  loss_fgl_aux_1: 0.7766 (0.7766)  loss_ddf_aux_1: 0.0003 (0.0003)  loss_mal_pre: 0.7471 (0.7471)  loss_bbox_pre: 0.6083 (0.6083)  loss_giou_pre: 1.3960 (1.3960)  loss_mal_enc_0: 0.7314 (0.7314)  loss_bbox_enc_0: 0.6075 (0.6075)  loss_giou_enc_0: 1.3976 (1.3976)  loss_mal_dn_0: 0.6206 (0.6206)  loss_bbox_dn_0: 0.4884 (0.4884)  loss_giou_dn_0: 1.3680 (1.3680)  loss_fgl_dn_0: 0.7936 (0.7936)  loss_ddf_dn_0: 0.0006 (0.0006)  loss_mal_dn_1: 0.6172 (0.6172)  loss_bbox_dn_1: 0.4882 (0.4882)  loss_giou_dn_1: 1.3680 (1.3680)  loss_fgl_dn_1: 0.7935 (0.7935)  loss_ddf_dn_1: 0.0003 (0.0003)  loss_mal_dn_2: 0.6162 (0.6162)  loss_bbox_dn_2: 0.4877 (0.4877)  loss_giou_dn_2: 1.3678 (1.3678)  loss_fgl_dn_2: 0.7928 (0.7928)  loss_mal_dn_pre: 0.6206 (0.6206)  loss_bbox_dn_pre: 0.4920 (0.4920)  loss_giou_dn_pre: 1.3671 (1.3671)  time: 2.1864  data: 1.5381  max mem: 10586\n"
     ]
    },
    {
     "name": "stderr",
     "output_type": "stream",
     "text": [
      "2025-03-10 15:00:56,130 - DEIMTrainer - INFO - Evaluating model...\n"
     ]
    },
    {
     "name": "stdout",
     "output_type": "stream",
     "text": [
      "Epoch: [60]  [14/15]  eta: 0:00:00  lr: 0.000042  loss: 28.3939 (28.5352)  loss_mal: 0.7861 (0.7998)  loss_bbox: 0.6261 (0.6065)  loss_giou: 1.2946 (1.3127)  loss_fgl: 0.8321 (0.8319)  loss_mal_aux_0: 0.7847 (0.7973)  loss_bbox_aux_0: 0.6263 (0.6069)  loss_giou_aux_0: 1.2945 (1.3127)  loss_fgl_aux_0: 0.8318 (0.8317)  loss_ddf_aux_0: 0.0008 (0.0008)  loss_mal_aux_1: 0.7905 (0.7976)  loss_bbox_aux_1: 0.6262 (0.6068)  loss_giou_aux_1: 1.2944 (1.3127)  loss_fgl_aux_1: 0.8320 (0.8318)  loss_ddf_aux_1: 0.0003 (0.0003)  loss_mal_pre: 0.7832 (0.7961)  loss_bbox_pre: 0.6237 (0.6062)  loss_giou_pre: 1.2956 (1.3130)  loss_mal_enc_0: 0.8032 (0.8209)  loss_bbox_enc_0: 0.6207 (0.6056)  loss_giou_enc_0: 1.2993 (1.3153)  loss_mal_dn_0: 0.6147 (0.6161)  loss_bbox_dn_0: 0.5118 (0.5315)  loss_giou_dn_0: 1.3696 (1.3673)  loss_fgl_dn_0: 0.7859 (0.7899)  loss_ddf_dn_0: 0.0006 (0.0006)  loss_mal_dn_1: 0.6152 (0.6159)  loss_bbox_dn_1: 0.5116 (0.5312)  loss_giou_dn_1: 1.3696 (1.3676)  loss_fgl_dn_1: 0.7853 (0.7894)  loss_ddf_dn_1: 0.0002 (0.0002)  loss_mal_dn_2: 0.6138 (0.6148)  loss_bbox_dn_2: 0.5109 (0.5305)  loss_giou_dn_2: 1.3697 (1.3677)  loss_fgl_dn_2: 0.7842 (0.7885)  loss_mal_dn_pre: 0.6162 (0.6174)  loss_bbox_dn_pre: 0.5150 (0.5352)  loss_giou_dn_pre: 1.3677 (1.3647)  time: 0.6022  data: 0.1216  max mem: 10586\n",
      "Epoch: [60] Total time: 0:00:09 (0.6071 s / it)\n",
      "Averaged stats: lr: 0.000042  loss: 28.3939 (28.5352)  loss_mal: 0.7861 (0.7998)  loss_bbox: 0.6261 (0.6065)  loss_giou: 1.2946 (1.3127)  loss_fgl: 0.8321 (0.8319)  loss_mal_aux_0: 0.7847 (0.7973)  loss_bbox_aux_0: 0.6263 (0.6069)  loss_giou_aux_0: 1.2945 (1.3127)  loss_fgl_aux_0: 0.8318 (0.8317)  loss_ddf_aux_0: 0.0008 (0.0008)  loss_mal_aux_1: 0.7905 (0.7976)  loss_bbox_aux_1: 0.6262 (0.6068)  loss_giou_aux_1: 1.2944 (1.3127)  loss_fgl_aux_1: 0.8320 (0.8318)  loss_ddf_aux_1: 0.0003 (0.0003)  loss_mal_pre: 0.7832 (0.7961)  loss_bbox_pre: 0.6237 (0.6062)  loss_giou_pre: 1.2956 (1.3130)  loss_mal_enc_0: 0.8032 (0.8209)  loss_bbox_enc_0: 0.6207 (0.6056)  loss_giou_enc_0: 1.2993 (1.3153)  loss_mal_dn_0: 0.6147 (0.6161)  loss_bbox_dn_0: 0.5118 (0.5315)  loss_giou_dn_0: 1.3696 (1.3673)  loss_fgl_dn_0: 0.7859 (0.7899)  loss_ddf_dn_0: 0.0006 (0.0006)  loss_mal_dn_1: 0.6152 (0.6159)  loss_bbox_dn_1: 0.5116 (0.5312)  loss_giou_dn_1: 1.3696 (1.3676)  loss_fgl_dn_1: 0.7853 (0.7894)  loss_ddf_dn_1: 0.0002 (0.0002)  loss_mal_dn_2: 0.6138 (0.6148)  loss_bbox_dn_2: 0.5109 (0.5305)  loss_giou_dn_2: 1.3697 (1.3677)  loss_fgl_dn_2: 0.7842 (0.7885)  loss_mal_dn_pre: 0.6162 (0.6174)  loss_bbox_dn_pre: 0.5150 (0.5352)  loss_giou_dn_pre: 1.3677 (1.3647)\n",
      "Test:  [0/5]  eta: 0:00:03    time: 0.7746  data: 0.6637  max mem: 10586\n"
     ]
    },
    {
     "name": "stderr",
     "output_type": "stream",
     "text": [
      "2025-03-10 15:00:57,447 - DEIMTrainer - INFO - Epoch 60 - Train loss: 28.5352, Eval mAP: 0.0623\n",
      "2025-03-10 15:00:57,448 - DEIMTrainer - INFO - Best stats: {'epoch': 59, 'coco_eval_bbox': 0.07639269942055571}\n"
     ]
    },
    {
     "name": "stdout",
     "output_type": "stream",
     "text": [
      "Test:  [4/5]  eta: 0:00:00    time: 0.2467  data: 0.1452  max mem: 10586\n",
      "Test: Total time: 0:00:01 (0.2592 s / it)\n",
      "Averaged stats: \n",
      "Accumulating evaluation results...\n",
      "COCOeval_opt.accumulate() finished...\n",
      "DONE (t=0.01s).\n",
      "IoU metric: bbox\n",
      " Average Precision  (AP) @[ IoU=0.50:0.95 | area=   all | maxDets=100 ] = 0.062\n",
      " Average Precision  (AP) @[ IoU=0.50      | area=   all | maxDets=100 ] = 0.184\n",
      " Average Precision  (AP) @[ IoU=0.75      | area=   all | maxDets=100 ] = 0.021\n",
      " Average Precision  (AP) @[ IoU=0.50:0.95 | area= small | maxDets=100 ] = 0.000\n",
      " Average Precision  (AP) @[ IoU=0.50:0.95 | area=medium | maxDets=100 ] = 0.011\n",
      " Average Precision  (AP) @[ IoU=0.50:0.95 | area= large | maxDets=100 ] = 0.068\n",
      " Average Recall     (AR) @[ IoU=0.50:0.95 | area=   all | maxDets=  1 ] = 0.104\n",
      " Average Recall     (AR) @[ IoU=0.50:0.95 | area=   all | maxDets= 10 ] = 0.188\n",
      " Average Recall     (AR) @[ IoU=0.50:0.95 | area=   all | maxDets=100 ] = 0.256\n",
      " Average Recall     (AR) @[ IoU=0.50:0.95 | area= small | maxDets=100 ] = 0.000\n",
      " Average Recall     (AR) @[ IoU=0.50:0.95 | area=medium | maxDets=100 ] = 0.149\n",
      " Average Recall     (AR) @[ IoU=0.50:0.95 | area= large | maxDets=100 ] = 0.264\n",
      " Average Recall     (AR) @[ IoU=0.50      | area=   all | maxDets=100 ] = 0.580\n",
      " Average Recall     (AR) @[ IoU=0.75      | area=   all | maxDets=100 ] = 0.193\n",
      "================================================\n",
      "{'coco_eval_bbox': [0.0622864101655616, 0.1837679468252841, 0.02118269322378981, 0.0, 0.011077529959740134, 0.0684241796464103, 0.10418701668701669, 0.1881919006919007, 0.2561304436304436, 0.0, 0.14895833333333333, 0.2637621809287095]}\n",
      "================================================\n",
      "Epoch: [61]  [ 0/15]  eta: 0:00:31  lr: 0.000042  loss: 28.3489 (28.3489)  loss_mal: 0.7539 (0.7539)  loss_bbox: 0.6007 (0.6007)  loss_giou: 1.3329 (1.3329)  loss_fgl: 0.8248 (0.8248)  loss_mal_aux_0: 0.7661 (0.7661)  loss_bbox_aux_0: 0.6012 (0.6012)  loss_giou_aux_0: 1.3319 (1.3319)  loss_fgl_aux_0: 0.8249 (0.8249)  loss_ddf_aux_0: 0.0008 (0.0008)  loss_mal_aux_1: 0.7593 (0.7593)  loss_bbox_aux_1: 0.6011 (0.6011)  loss_giou_aux_1: 1.3325 (1.3325)  loss_fgl_aux_1: 0.8250 (0.8250)  loss_ddf_aux_1: 0.0003 (0.0003)  loss_mal_pre: 0.7656 (0.7656)  loss_bbox_pre: 0.6025 (0.6025)  loss_giou_pre: 1.3296 (1.3296)  loss_mal_enc_0: 0.7505 (0.7505)  loss_bbox_enc_0: 0.6019 (0.6019)  loss_giou_enc_0: 1.3286 (1.3286)  loss_mal_dn_0: 0.6318 (0.6318)  loss_bbox_dn_0: 0.5264 (0.5264)  loss_giou_dn_0: 1.3413 (1.3413)  loss_fgl_dn_0: 0.8075 (0.8075)  loss_ddf_dn_0: 0.0006 (0.0006)  loss_mal_dn_1: 0.6289 (0.6289)  loss_bbox_dn_1: 0.5256 (0.5256)  loss_giou_dn_1: 1.3415 (1.3415)  loss_fgl_dn_1: 0.8070 (0.8070)  loss_ddf_dn_1: 0.0003 (0.0003)  loss_mal_dn_2: 0.6284 (0.6284)  loss_bbox_dn_2: 0.5245 (0.5245)  loss_giou_dn_2: 1.3416 (1.3416)  loss_fgl_dn_2: 0.8056 (0.8056)  loss_mal_dn_pre: 0.6328 (0.6328)  loss_bbox_dn_pre: 0.5319 (0.5319)  loss_giou_dn_pre: 1.3388 (1.3388)  time: 2.0844  data: 1.4273  max mem: 10586\n"
     ]
    },
    {
     "name": "stderr",
     "output_type": "stream",
     "text": [
      "2025-03-10 15:01:06,746 - DEIMTrainer - INFO - Evaluating model...\n"
     ]
    },
    {
     "name": "stdout",
     "output_type": "stream",
     "text": [
      "Epoch: [61]  [14/15]  eta: 0:00:00  lr: 0.000043  loss: 27.9533 (28.3015)  loss_mal: 0.7539 (0.7778)  loss_bbox: 0.5811 (0.5778)  loss_giou: 1.3376 (1.3268)  loss_fgl: 0.8066 (0.8314)  loss_mal_aux_0: 0.7300 (0.7837)  loss_bbox_aux_0: 0.5802 (0.5771)  loss_giou_aux_0: 1.3364 (1.3259)  loss_fgl_aux_0: 0.8069 (0.8319)  loss_ddf_aux_0: 0.0007 (0.0007)  loss_mal_aux_1: 0.7534 (0.7788)  loss_bbox_aux_1: 0.5806 (0.5774)  loss_giou_aux_1: 1.3371 (1.3265)  loss_fgl_aux_1: 0.8069 (0.8316)  loss_ddf_aux_1: 0.0004 (0.0004)  loss_mal_pre: 0.7290 (0.7846)  loss_bbox_pre: 0.5775 (0.5747)  loss_giou_pre: 1.3332 (1.3222)  loss_mal_enc_0: 0.7407 (0.8108)  loss_bbox_enc_0: 0.5763 (0.5741)  loss_giou_enc_0: 1.3322 (1.3228)  loss_mal_dn_0: 0.6157 (0.6153)  loss_bbox_dn_0: 0.5137 (0.5157)  loss_giou_dn_0: 1.3637 (1.3664)  loss_fgl_dn_0: 0.7927 (0.7921)  loss_ddf_dn_0: 0.0006 (0.0006)  loss_mal_dn_1: 0.6157 (0.6152)  loss_bbox_dn_1: 0.5140 (0.5157)  loss_giou_dn_1: 1.3639 (1.3665)  loss_fgl_dn_1: 0.7926 (0.7918)  loss_ddf_dn_1: 0.0002 (0.0003)  loss_mal_dn_2: 0.6157 (0.6155)  loss_bbox_dn_2: 0.5146 (0.5158)  loss_giou_dn_2: 1.3642 (1.3665)  loss_fgl_dn_2: 0.7921 (0.7909)  loss_mal_dn_pre: 0.6167 (0.6158)  loss_bbox_dn_pre: 0.5117 (0.5158)  loss_giou_dn_pre: 1.3622 (1.3647)  time: 0.6144  data: 0.1170  max mem: 10586\n",
      "Epoch: [61] Total time: 0:00:09 (0.6186 s / it)\n",
      "Averaged stats: lr: 0.000043  loss: 27.9533 (28.3015)  loss_mal: 0.7539 (0.7778)  loss_bbox: 0.5811 (0.5778)  loss_giou: 1.3376 (1.3268)  loss_fgl: 0.8066 (0.8314)  loss_mal_aux_0: 0.7300 (0.7837)  loss_bbox_aux_0: 0.5802 (0.5771)  loss_giou_aux_0: 1.3364 (1.3259)  loss_fgl_aux_0: 0.8069 (0.8319)  loss_ddf_aux_0: 0.0007 (0.0007)  loss_mal_aux_1: 0.7534 (0.7788)  loss_bbox_aux_1: 0.5806 (0.5774)  loss_giou_aux_1: 1.3371 (1.3265)  loss_fgl_aux_1: 0.8069 (0.8316)  loss_ddf_aux_1: 0.0004 (0.0004)  loss_mal_pre: 0.7290 (0.7846)  loss_bbox_pre: 0.5775 (0.5747)  loss_giou_pre: 1.3332 (1.3222)  loss_mal_enc_0: 0.7407 (0.8108)  loss_bbox_enc_0: 0.5763 (0.5741)  loss_giou_enc_0: 1.3322 (1.3228)  loss_mal_dn_0: 0.6157 (0.6153)  loss_bbox_dn_0: 0.5137 (0.5157)  loss_giou_dn_0: 1.3637 (1.3664)  loss_fgl_dn_0: 0.7927 (0.7921)  loss_ddf_dn_0: 0.0006 (0.0006)  loss_mal_dn_1: 0.6157 (0.6152)  loss_bbox_dn_1: 0.5140 (0.5157)  loss_giou_dn_1: 1.3639 (1.3665)  loss_fgl_dn_1: 0.7926 (0.7918)  loss_ddf_dn_1: 0.0002 (0.0003)  loss_mal_dn_2: 0.6157 (0.6155)  loss_bbox_dn_2: 0.5146 (0.5158)  loss_giou_dn_2: 1.3642 (1.3665)  loss_fgl_dn_2: 0.7921 (0.7909)  loss_mal_dn_pre: 0.6167 (0.6158)  loss_bbox_dn_pre: 0.5117 (0.5158)  loss_giou_dn_pre: 1.3622 (1.3647)\n",
      "Test:  [0/5]  eta: 0:00:04    time: 0.8365  data: 0.7257  max mem: 10586\n"
     ]
    },
    {
     "name": "stderr",
     "output_type": "stream",
     "text": [
      "2025-03-10 15:01:08,124 - DEIMTrainer - INFO - Epoch 61 - Train loss: 28.3015, Eval mAP: 0.0757\n",
      "2025-03-10 15:01:08,124 - DEIMTrainer - INFO - Best stats: {'epoch': 59, 'coco_eval_bbox': 0.07639269942055571}\n"
     ]
    },
    {
     "name": "stdout",
     "output_type": "stream",
     "text": [
      "Test:  [4/5]  eta: 0:00:00    time: 0.2592  data: 0.1602  max mem: 10586\n",
      "Test: Total time: 0:00:01 (0.2705 s / it)\n",
      "Averaged stats: \n",
      "Accumulating evaluation results...\n",
      "COCOeval_opt.accumulate() finished...\n",
      "DONE (t=0.01s).\n",
      "IoU metric: bbox\n",
      " Average Precision  (AP) @[ IoU=0.50:0.95 | area=   all | maxDets=100 ] = 0.076\n",
      " Average Precision  (AP) @[ IoU=0.50      | area=   all | maxDets=100 ] = 0.223\n",
      " Average Precision  (AP) @[ IoU=0.75      | area=   all | maxDets=100 ] = 0.033\n",
      " Average Precision  (AP) @[ IoU=0.50:0.95 | area= small | maxDets=100 ] = 0.000\n",
      " Average Precision  (AP) @[ IoU=0.50:0.95 | area=medium | maxDets=100 ] = 0.054\n",
      " Average Precision  (AP) @[ IoU=0.50:0.95 | area= large | maxDets=100 ] = 0.083\n",
      " Average Recall     (AR) @[ IoU=0.50:0.95 | area=   all | maxDets=  1 ] = 0.140\n",
      " Average Recall     (AR) @[ IoU=0.50:0.95 | area=   all | maxDets= 10 ] = 0.207\n",
      " Average Recall     (AR) @[ IoU=0.50:0.95 | area=   all | maxDets=100 ] = 0.285\n",
      " Average Recall     (AR) @[ IoU=0.50:0.95 | area= small | maxDets=100 ] = 0.000\n",
      " Average Recall     (AR) @[ IoU=0.50:0.95 | area=medium | maxDets=100 ] = 0.235\n",
      " Average Recall     (AR) @[ IoU=0.50:0.95 | area= large | maxDets=100 ] = 0.291\n",
      " Average Recall     (AR) @[ IoU=0.50      | area=   all | maxDets=100 ] = 0.600\n",
      " Average Recall     (AR) @[ IoU=0.75      | area=   all | maxDets=100 ] = 0.219\n",
      "================================================\n",
      "{'coco_eval_bbox': [0.07570556308406606, 0.2230095138528098, 0.03270564218097059, 0.0, 0.054112156367305084, 0.08303568131107679, 0.14020655270655272, 0.20727004477004476, 0.28510887260887263, 0.0, 0.23541666666666666, 0.2912336765692193]}\n",
      "================================================\n",
      "Epoch: [62]  [ 0/15]  eta: 0:00:27  lr: 0.000043  loss: 27.4572 (27.4572)  loss_mal: 0.9893 (0.9893)  loss_bbox: 0.4313 (0.4313)  loss_giou: 1.0791 (1.0791)  loss_fgl: 0.9676 (0.9676)  loss_mal_aux_0: 0.9556 (0.9556)  loss_bbox_aux_0: 0.4290 (0.4290)  loss_giou_aux_0: 1.0777 (1.0777)  loss_fgl_aux_0: 0.9690 (0.9690)  loss_ddf_aux_0: 0.0008 (0.0008)  loss_mal_aux_1: 0.9824 (0.9824)  loss_bbox_aux_1: 0.4301 (0.4301)  loss_giou_aux_1: 1.0783 (1.0783)  loss_fgl_aux_1: 0.9678 (0.9678)  loss_ddf_aux_1: 0.0004 (0.0004)  loss_mal_pre: 0.9585 (0.9585)  loss_bbox_pre: 0.4197 (0.4197)  loss_giou_pre: 1.0736 (1.0736)  loss_mal_enc_0: 0.9478 (0.9478)  loss_bbox_enc_0: 0.4164 (0.4164)  loss_giou_enc_0: 1.0733 (1.0733)  loss_mal_dn_0: 0.6216 (0.6216)  loss_bbox_dn_0: 0.4717 (0.4717)  loss_giou_dn_0: 1.3583 (1.3583)  loss_fgl_dn_0: 0.7994 (0.7994)  loss_ddf_dn_0: 0.0004 (0.0004)  loss_mal_dn_1: 0.6260 (0.6260)  loss_bbox_dn_1: 0.4719 (0.4719)  loss_giou_dn_1: 1.3580 (1.3580)  loss_fgl_dn_1: 0.7995 (0.7995)  loss_ddf_dn_1: 0.0002 (0.0002)  loss_mal_dn_2: 0.6230 (0.6230)  loss_bbox_dn_2: 0.4725 (0.4725)  loss_giou_dn_2: 1.3578 (1.3578)  loss_fgl_dn_2: 0.7995 (0.7995)  loss_mal_dn_pre: 0.6206 (0.6206)  loss_bbox_dn_pre: 0.4702 (0.4702)  loss_giou_dn_pre: 1.3592 (1.3592)  time: 1.8050  data: 1.2083  max mem: 10586\n"
     ]
    },
    {
     "name": "stderr",
     "output_type": "stream",
     "text": [
      "2025-03-10 15:01:16,911 - DEIMTrainer - INFO - Evaluating model...\n"
     ]
    },
    {
     "name": "stdout",
     "output_type": "stream",
     "text": [
      "Epoch: [62]  [14/15]  eta: 0:00:00  lr: 0.000045  loss: 28.2778 (28.2878)  loss_mal: 0.8213 (0.8206)  loss_bbox: 0.5093 (0.5669)  loss_giou: 1.2008 (1.2824)  loss_fgl: 0.9010 (0.8590)  loss_mal_aux_0: 0.8291 (0.8211)  loss_bbox_aux_0: 0.5090 (0.5669)  loss_giou_aux_0: 1.2008 (1.2820)  loss_fgl_aux_0: 0.9021 (0.8596)  loss_ddf_aux_0: 0.0007 (0.0007)  loss_mal_aux_1: 0.8115 (0.8203)  loss_bbox_aux_1: 0.5093 (0.5669)  loss_giou_aux_1: 1.2008 (1.2822)  loss_fgl_aux_1: 0.9013 (0.8591)  loss_ddf_aux_1: 0.0003 (0.0003)  loss_mal_pre: 0.8281 (0.8203)  loss_bbox_pre: 0.5055 (0.5647)  loss_giou_pre: 1.2026 (1.2827)  loss_mal_enc_0: 0.8564 (0.8361)  loss_bbox_enc_0: 0.5018 (0.5625)  loss_giou_enc_0: 1.1976 (1.2819)  loss_mal_dn_0: 0.6201 (0.6179)  loss_bbox_dn_0: 0.5031 (0.5127)  loss_giou_dn_0: 1.3632 (1.3616)  loss_fgl_dn_0: 0.7942 (0.7958)  loss_ddf_dn_0: 0.0007 (0.0006)  loss_mal_dn_1: 0.6167 (0.6167)  loss_bbox_dn_1: 0.5026 (0.5122)  loss_giou_dn_1: 1.3640 (1.3622)  loss_fgl_dn_1: 0.7932 (0.7948)  loss_ddf_dn_1: 0.0002 (0.0002)  loss_mal_dn_2: 0.6172 (0.6152)  loss_bbox_dn_2: 0.5019 (0.5117)  loss_giou_dn_2: 1.3634 (1.3626)  loss_fgl_dn_2: 0.7914 (0.7933)  loss_mal_dn_pre: 0.6201 (0.6197)  loss_bbox_dn_pre: 0.5067 (0.5158)  loss_giou_dn_pre: 1.3592 (1.3581)  time: 0.5792  data: 0.1046  max mem: 10586\n",
      "Epoch: [62] Total time: 0:00:08 (0.5844 s / it)\n",
      "Averaged stats: lr: 0.000045  loss: 28.2778 (28.2878)  loss_mal: 0.8213 (0.8206)  loss_bbox: 0.5093 (0.5669)  loss_giou: 1.2008 (1.2824)  loss_fgl: 0.9010 (0.8590)  loss_mal_aux_0: 0.8291 (0.8211)  loss_bbox_aux_0: 0.5090 (0.5669)  loss_giou_aux_0: 1.2008 (1.2820)  loss_fgl_aux_0: 0.9021 (0.8596)  loss_ddf_aux_0: 0.0007 (0.0007)  loss_mal_aux_1: 0.8115 (0.8203)  loss_bbox_aux_1: 0.5093 (0.5669)  loss_giou_aux_1: 1.2008 (1.2822)  loss_fgl_aux_1: 0.9013 (0.8591)  loss_ddf_aux_1: 0.0003 (0.0003)  loss_mal_pre: 0.8281 (0.8203)  loss_bbox_pre: 0.5055 (0.5647)  loss_giou_pre: 1.2026 (1.2827)  loss_mal_enc_0: 0.8564 (0.8361)  loss_bbox_enc_0: 0.5018 (0.5625)  loss_giou_enc_0: 1.1976 (1.2819)  loss_mal_dn_0: 0.6201 (0.6179)  loss_bbox_dn_0: 0.5031 (0.5127)  loss_giou_dn_0: 1.3632 (1.3616)  loss_fgl_dn_0: 0.7942 (0.7958)  loss_ddf_dn_0: 0.0007 (0.0006)  loss_mal_dn_1: 0.6167 (0.6167)  loss_bbox_dn_1: 0.5026 (0.5122)  loss_giou_dn_1: 1.3640 (1.3622)  loss_fgl_dn_1: 0.7932 (0.7948)  loss_ddf_dn_1: 0.0002 (0.0002)  loss_mal_dn_2: 0.6172 (0.6152)  loss_bbox_dn_2: 0.5019 (0.5117)  loss_giou_dn_2: 1.3634 (1.3626)  loss_fgl_dn_2: 0.7914 (0.7933)  loss_mal_dn_pre: 0.6201 (0.6197)  loss_bbox_dn_pre: 0.5067 (0.5158)  loss_giou_dn_pre: 1.3592 (1.3581)\n",
      "Test:  [0/5]  eta: 0:00:03    time: 0.7111  data: 0.5952  max mem: 10586\n"
     ]
    },
    {
     "name": "stderr",
     "output_type": "stream",
     "text": [
      "2025-03-10 15:01:18,197 - DEIMTrainer - INFO - Saving checkpoint to outputs/deim_hgnetv2_s_coco/best.pth\n"
     ]
    },
    {
     "name": "stdout",
     "output_type": "stream",
     "text": [
      "Test:  [4/5]  eta: 0:00:00    time: 0.2389  data: 0.1385  max mem: 10586\n",
      "Test: Total time: 0:00:01 (0.2511 s / it)\n",
      "Averaged stats: \n",
      "Accumulating evaluation results...\n",
      "COCOeval_opt.accumulate() finished...\n",
      "DONE (t=0.01s).\n",
      "IoU metric: bbox\n",
      " Average Precision  (AP) @[ IoU=0.50:0.95 | area=   all | maxDets=100 ] = 0.096\n",
      " Average Precision  (AP) @[ IoU=0.50      | area=   all | maxDets=100 ] = 0.251\n",
      " Average Precision  (AP) @[ IoU=0.75      | area=   all | maxDets=100 ] = 0.051\n",
      " Average Precision  (AP) @[ IoU=0.50:0.95 | area= small | maxDets=100 ] = 0.000\n",
      " Average Precision  (AP) @[ IoU=0.50:0.95 | area=medium | maxDets=100 ] = 0.029\n",
      " Average Precision  (AP) @[ IoU=0.50:0.95 | area= large | maxDets=100 ] = 0.111\n",
      " Average Recall     (AR) @[ IoU=0.50:0.95 | area=   all | maxDets=  1 ] = 0.126\n",
      " Average Recall     (AR) @[ IoU=0.50:0.95 | area=   all | maxDets= 10 ] = 0.201\n",
      " Average Recall     (AR) @[ IoU=0.50:0.95 | area=   all | maxDets=100 ] = 0.283\n",
      " Average Recall     (AR) @[ IoU=0.50:0.95 | area= small | maxDets=100 ] = 0.000\n",
      " Average Recall     (AR) @[ IoU=0.50:0.95 | area=medium | maxDets=100 ] = 0.224\n",
      " Average Recall     (AR) @[ IoU=0.50:0.95 | area= large | maxDets=100 ] = 0.285\n",
      " Average Recall     (AR) @[ IoU=0.50      | area=   all | maxDets=100 ] = 0.586\n",
      " Average Recall     (AR) @[ IoU=0.75      | area=   all | maxDets=100 ] = 0.236\n",
      "================================================\n",
      "{'coco_eval_bbox': [0.09633525025872276, 0.25061050797979484, 0.05104626634505795, 0.0, 0.028951408477893747, 0.11148225668609243, 0.1263074888074888, 0.20052401302401304, 0.2833892958892959, 0.0, 0.22425595238095233, 0.2846798437684933]}\n",
      "================================================\n"
     ]
    },
    {
     "name": "stderr",
     "output_type": "stream",
     "text": [
      "2025-03-10 15:01:18,599 - DEIMTrainer - INFO - Checkpoint saved to outputs/deim_hgnetv2_s_coco/best.pth\n",
      "2025-03-10 15:01:18,601 - DEIMTrainer - INFO - Epoch 62 - Train loss: 28.2878, Eval mAP: 0.0963\n",
      "2025-03-10 15:01:18,602 - DEIMTrainer - INFO - Best stats: {'epoch': 62, 'coco_eval_bbox': 0.09633525025872276}\n"
     ]
    },
    {
     "name": "stdout",
     "output_type": "stream",
     "text": [
      "Epoch: [63]  [ 0/15]  eta: 0:00:28  lr: 0.000045  loss: 27.6724 (27.6724)  loss_mal: 0.8813 (0.8813)  loss_bbox: 0.4722 (0.4722)  loss_giou: 1.1584 (1.1584)  loss_fgl: 0.9282 (0.9282)  loss_mal_aux_0: 0.9141 (0.9141)  loss_bbox_aux_0: 0.4725 (0.4725)  loss_giou_aux_0: 1.1575 (1.1575)  loss_fgl_aux_0: 0.9299 (0.9299)  loss_ddf_aux_0: 0.0008 (0.0008)  loss_mal_aux_1: 0.8887 (0.8887)  loss_bbox_aux_1: 0.4722 (0.4722)  loss_giou_aux_1: 1.1577 (1.1577)  loss_fgl_aux_1: 0.9288 (0.9288)  loss_ddf_aux_1: 0.0003 (0.0003)  loss_mal_pre: 0.9141 (0.9141)  loss_bbox_pre: 0.4711 (0.4711)  loss_giou_pre: 1.1539 (1.1539)  loss_mal_enc_0: 0.9541 (0.9541)  loss_bbox_enc_0: 0.4699 (0.4699)  loss_giou_enc_0: 1.1530 (1.1530)  loss_mal_dn_0: 0.6162 (0.6162)  loss_bbox_dn_0: 0.4761 (0.4761)  loss_giou_dn_0: 1.3593 (1.3593)  loss_fgl_dn_0: 0.7995 (0.7995)  loss_ddf_dn_0: 0.0006 (0.0006)  loss_mal_dn_1: 0.6123 (0.6123)  loss_bbox_dn_1: 0.4752 (0.4752)  loss_giou_dn_1: 1.3601 (1.3601)  loss_fgl_dn_1: 0.7984 (0.7984)  loss_ddf_dn_1: 0.0002 (0.0002)  loss_mal_dn_2: 0.6108 (0.6108)  loss_bbox_dn_2: 0.4743 (0.4743)  loss_giou_dn_2: 1.3608 (1.3608)  loss_fgl_dn_2: 0.7965 (0.7965)  loss_mal_dn_pre: 0.6191 (0.6191)  loss_bbox_dn_pre: 0.4810 (0.4810)  loss_giou_dn_pre: 1.3532 (1.3532)  time: 1.9277  data: 1.4133  max mem: 10586\n"
     ]
    },
    {
     "name": "stderr",
     "output_type": "stream",
     "text": [
      "2025-03-10 15:01:27,505 - DEIMTrainer - INFO - Saving checkpoint to outputs/deim_hgnetv2_s_coco/checkpoint0063.pth\n"
     ]
    },
    {
     "name": "stdout",
     "output_type": "stream",
     "text": [
      "Epoch: [63]  [14/15]  eta: 0:00:00  lr: 0.000046  loss: 27.7710 (27.9621)  loss_mal: 0.9033 (0.8558)  loss_bbox: 0.4639 (0.5090)  loss_giou: 1.1633 (1.2258)  loss_fgl: 0.9282 (0.8933)  loss_mal_aux_0: 0.9141 (0.8644)  loss_bbox_aux_0: 0.4647 (0.5095)  loss_giou_aux_0: 1.1641 (1.2253)  loss_fgl_aux_0: 0.9299 (0.8939)  loss_ddf_aux_0: 0.0008 (0.0008)  loss_mal_aux_1: 0.8970 (0.8543)  loss_bbox_aux_1: 0.4644 (0.5092)  loss_giou_aux_1: 1.1639 (1.2257)  loss_fgl_aux_1: 0.9288 (0.8934)  loss_ddf_aux_1: 0.0003 (0.0003)  loss_mal_pre: 0.9141 (0.8642)  loss_bbox_pre: 0.4643 (0.5094)  loss_giou_pre: 1.1602 (1.2227)  loss_mal_enc_0: 0.9487 (0.8928)  loss_bbox_enc_0: 0.4687 (0.5096)  loss_giou_enc_0: 1.1581 (1.2225)  loss_mal_dn_0: 0.6074 (0.6094)  loss_bbox_dn_0: 0.4879 (0.4986)  loss_giou_dn_0: 1.3721 (1.3729)  loss_fgl_dn_0: 0.7844 (0.7871)  loss_ddf_dn_0: 0.0006 (0.0006)  loss_mal_dn_1: 0.6074 (0.6075)  loss_bbox_dn_1: 0.4869 (0.4979)  loss_giou_dn_1: 1.3726 (1.3730)  loss_fgl_dn_1: 0.7837 (0.7863)  loss_ddf_dn_1: 0.0003 (0.0003)  loss_mal_dn_2: 0.6064 (0.6082)  loss_bbox_dn_2: 0.4861 (0.4971)  loss_giou_dn_2: 1.3728 (1.3726)  loss_fgl_dn_2: 0.7825 (0.7850)  loss_mal_dn_pre: 0.6089 (0.6106)  loss_bbox_dn_pre: 0.4934 (0.5024)  loss_giou_dn_pre: 1.3698 (1.3705)  time: 0.5874  data: 0.1103  max mem: 10586\n",
      "Epoch: [63] Total time: 0:00:08 (0.5922 s / it)\n",
      "Averaged stats: lr: 0.000046  loss: 27.7710 (27.9621)  loss_mal: 0.9033 (0.8558)  loss_bbox: 0.4639 (0.5090)  loss_giou: 1.1633 (1.2258)  loss_fgl: 0.9282 (0.8933)  loss_mal_aux_0: 0.9141 (0.8644)  loss_bbox_aux_0: 0.4647 (0.5095)  loss_giou_aux_0: 1.1641 (1.2253)  loss_fgl_aux_0: 0.9299 (0.8939)  loss_ddf_aux_0: 0.0008 (0.0008)  loss_mal_aux_1: 0.8970 (0.8543)  loss_bbox_aux_1: 0.4644 (0.5092)  loss_giou_aux_1: 1.1639 (1.2257)  loss_fgl_aux_1: 0.9288 (0.8934)  loss_ddf_aux_1: 0.0003 (0.0003)  loss_mal_pre: 0.9141 (0.8642)  loss_bbox_pre: 0.4643 (0.5094)  loss_giou_pre: 1.1602 (1.2227)  loss_mal_enc_0: 0.9487 (0.8928)  loss_bbox_enc_0: 0.4687 (0.5096)  loss_giou_enc_0: 1.1581 (1.2225)  loss_mal_dn_0: 0.6074 (0.6094)  loss_bbox_dn_0: 0.4879 (0.4986)  loss_giou_dn_0: 1.3721 (1.3729)  loss_fgl_dn_0: 0.7844 (0.7871)  loss_ddf_dn_0: 0.0006 (0.0006)  loss_mal_dn_1: 0.6074 (0.6075)  loss_bbox_dn_1: 0.4869 (0.4979)  loss_giou_dn_1: 1.3726 (1.3730)  loss_fgl_dn_1: 0.7837 (0.7863)  loss_ddf_dn_1: 0.0003 (0.0003)  loss_mal_dn_2: 0.6064 (0.6082)  loss_bbox_dn_2: 0.4861 (0.4971)  loss_giou_dn_2: 1.3728 (1.3726)  loss_fgl_dn_2: 0.7825 (0.7850)  loss_mal_dn_pre: 0.6089 (0.6106)  loss_bbox_dn_pre: 0.4934 (0.5024)  loss_giou_dn_pre: 1.3698 (1.3705)\n"
     ]
    },
    {
     "name": "stderr",
     "output_type": "stream",
     "text": [
      "2025-03-10 15:01:27,781 - DEIMTrainer - INFO - Checkpoint saved to outputs/deim_hgnetv2_s_coco/checkpoint0063.pth\n",
      "2025-03-10 15:01:27,783 - DEIMTrainer - INFO - Evaluating model...\n"
     ]
    },
    {
     "name": "stdout",
     "output_type": "stream",
     "text": [
      "Test:  [0/5]  eta: 0:00:04    time: 0.8520  data: 0.7263  max mem: 10586\n"
     ]
    },
    {
     "name": "stderr",
     "output_type": "stream",
     "text": [
      "2025-03-10 15:01:29,200 - DEIMTrainer - INFO - Epoch 63 - Train loss: 27.9621, Eval mAP: 0.0936\n",
      "2025-03-10 15:01:29,200 - DEIMTrainer - INFO - Best stats: {'epoch': 62, 'coco_eval_bbox': 0.09633525025872276}\n"
     ]
    },
    {
     "name": "stdout",
     "output_type": "stream",
     "text": [
      "Test:  [4/5]  eta: 0:00:00    time: 0.2662  data: 0.1597  max mem: 10586\n",
      "Test: Total time: 0:00:01 (0.2786 s / it)\n",
      "Averaged stats: \n",
      "Accumulating evaluation results...\n",
      "COCOeval_opt.accumulate() finished...\n",
      "DONE (t=0.01s).\n",
      "IoU metric: bbox\n",
      " Average Precision  (AP) @[ IoU=0.50:0.95 | area=   all | maxDets=100 ] = 0.094\n",
      " Average Precision  (AP) @[ IoU=0.50      | area=   all | maxDets=100 ] = 0.229\n",
      " Average Precision  (AP) @[ IoU=0.75      | area=   all | maxDets=100 ] = 0.057\n",
      " Average Precision  (AP) @[ IoU=0.50:0.95 | area= small | maxDets=100 ] = 0.000\n",
      " Average Precision  (AP) @[ IoU=0.50:0.95 | area=medium | maxDets=100 ] = 0.012\n",
      " Average Precision  (AP) @[ IoU=0.50:0.95 | area= large | maxDets=100 ] = 0.112\n",
      " Average Recall     (AR) @[ IoU=0.50:0.95 | area=   all | maxDets=  1 ] = 0.139\n",
      " Average Recall     (AR) @[ IoU=0.50:0.95 | area=   all | maxDets= 10 ] = 0.205\n",
      " Average Recall     (AR) @[ IoU=0.50:0.95 | area=   all | maxDets=100 ] = 0.285\n",
      " Average Recall     (AR) @[ IoU=0.50:0.95 | area= small | maxDets=100 ] = 0.000\n",
      " Average Recall     (AR) @[ IoU=0.50:0.95 | area=medium | maxDets=100 ] = 0.151\n",
      " Average Recall     (AR) @[ IoU=0.50:0.95 | area= large | maxDets=100 ] = 0.288\n",
      " Average Recall     (AR) @[ IoU=0.50      | area=   all | maxDets=100 ] = 0.600\n",
      " Average Recall     (AR) @[ IoU=0.75      | area=   all | maxDets=100 ] = 0.228\n",
      "================================================\n",
      "{'coco_eval_bbox': [0.09364256505891083, 0.22876246340613052, 0.05743548758314725, 0.0, 0.012380384349594507, 0.11219583039948429, 0.1387973137973138, 0.2048738298738299, 0.2849867724867725, 0.0, 0.15104166666666666, 0.2879338777764627]}\n",
      "================================================\n",
      "     ### Attention --- Mixup is closed after epoch@ 64 ###\n",
      "     ### Attention --- Mixup is closed after epoch@ 64 ###\n",
      "     ### Attention --- Mixup is closed after epoch@ 64 ###\n",
      "     ### Attention --- Mixup is closed after epoch@ 64 ###\n",
      "Epoch: [64]  [ 0/15]  eta: 0:00:23  lr: 0.000046  loss: 31.4066 (31.4066)  loss_mal: 1.1953 (1.1953)  loss_bbox: 0.6499 (0.6499)  loss_giou: 1.0589 (1.0589)  loss_fgl: 1.0166 (1.0166)  loss_mal_aux_0: 1.1953 (1.1953)  loss_bbox_aux_0: 0.6510 (0.6510)  loss_giou_aux_0: 1.0597 (1.0597)  loss_fgl_aux_0: 1.0159 (1.0159)  loss_ddf_aux_0: 0.0008 (0.0008)  loss_mal_aux_1: 1.1924 (1.1924)  loss_bbox_aux_1: 0.6505 (0.6505)  loss_giou_aux_1: 1.0592 (1.0592)  loss_fgl_aux_1: 1.0165 (1.0165)  loss_ddf_aux_1: 0.0003 (0.0003)  loss_mal_pre: 1.1895 (1.1895)  loss_bbox_pre: 0.6558 (0.6558)  loss_giou_pre: 1.0637 (1.0637)  loss_mal_enc_0: 1.3506 (1.3506)  loss_bbox_enc_0: 0.6588 (0.6588)  loss_giou_enc_0: 1.0674 (1.0674)  loss_mal_dn_0: 0.6201 (0.6201)  loss_bbox_dn_0: 0.8462 (0.8462)  loss_giou_dn_0: 1.3465 (1.3465)  loss_fgl_dn_0: 0.8061 (0.8061)  loss_ddf_dn_0: 0.0006 (0.0006)  loss_mal_dn_1: 0.6182 (0.6182)  loss_bbox_dn_1: 0.8462 (0.8462)  loss_giou_dn_1: 1.3460 (1.3460)  loss_fgl_dn_1: 0.8057 (0.8057)  loss_ddf_dn_1: 0.0003 (0.0003)  loss_mal_dn_2: 0.6172 (0.6172)  loss_bbox_dn_2: 0.8456 (0.8456)  loss_giou_dn_2: 1.3449 (1.3449)  loss_fgl_dn_2: 0.8048 (0.8048)  loss_mal_dn_pre: 0.6206 (0.6206)  loss_bbox_dn_pre: 0.8440 (0.8440)  loss_giou_dn_pre: 1.3452 (1.3452)  time: 1.5895  data: 1.1477  max mem: 10586\n"
     ]
    },
    {
     "name": "stderr",
     "output_type": "stream",
     "text": [
      "2025-03-10 15:01:36,661 - DEIMTrainer - INFO - Evaluating model...\n"
     ]
    },
    {
     "name": "stdout",
     "output_type": "stream",
     "text": [
      "Epoch: [64]  [14/15]  eta: 0:00:00  lr: 0.000047  loss: 29.9139 (30.0733)  loss_mal: 1.2305 (1.2391)  loss_bbox: 0.5270 (0.5196)  loss_giou: 0.9194 (0.9115)  loss_fgl: 1.0981 (1.1028)  loss_mal_aux_0: 1.2246 (1.2442)  loss_bbox_aux_0: 0.5250 (0.5201)  loss_giou_aux_0: 0.9216 (0.9128)  loss_fgl_aux_0: 1.0976 (1.1031)  loss_ddf_aux_0: 0.0008 (0.0008)  loss_mal_aux_1: 1.2227 (1.2415)  loss_bbox_aux_1: 0.5263 (0.5201)  loss_giou_aux_1: 0.9206 (0.9124)  loss_fgl_aux_1: 1.0976 (1.1024)  loss_ddf_aux_1: 0.0003 (0.0003)  loss_mal_pre: 1.2207 (1.2414)  loss_bbox_pre: 0.5155 (0.5152)  loss_giou_pre: 0.9231 (0.9132)  loss_mal_enc_0: 1.3047 (1.3231)  loss_bbox_enc_0: 0.5152 (0.5174)  loss_giou_enc_0: 0.9294 (0.9172)  loss_mal_dn_0: 0.6182 (0.6160)  loss_bbox_dn_0: 0.7517 (0.7575)  loss_giou_dn_0: 1.3496 (1.3573)  loss_fgl_dn_0: 0.7999 (0.7998)  loss_ddf_dn_0: 0.0005 (0.0005)  loss_mal_dn_1: 0.6177 (0.6162)  loss_bbox_dn_1: 0.7523 (0.7577)  loss_giou_dn_1: 1.3491 (1.3569)  loss_fgl_dn_1: 0.7999 (0.7996)  loss_ddf_dn_1: 0.0002 (0.0002)  loss_mal_dn_2: 0.6162 (0.6137)  loss_bbox_dn_2: 0.7518 (0.7571)  loss_giou_dn_2: 1.3474 (1.3557)  loss_fgl_dn_2: 0.8002 (0.7992)  loss_mal_dn_pre: 0.6182 (0.6152)  loss_bbox_dn_pre: 0.7467 (0.7544)  loss_giou_dn_pre: 1.3507 (1.3578)  time: 0.4907  data: 0.0969  max mem: 10586\n",
      "Epoch: [64] Total time: 0:00:07 (0.4957 s / it)\n",
      "Averaged stats: lr: 0.000047  loss: 29.9139 (30.0733)  loss_mal: 1.2305 (1.2391)  loss_bbox: 0.5270 (0.5196)  loss_giou: 0.9194 (0.9115)  loss_fgl: 1.0981 (1.1028)  loss_mal_aux_0: 1.2246 (1.2442)  loss_bbox_aux_0: 0.5250 (0.5201)  loss_giou_aux_0: 0.9216 (0.9128)  loss_fgl_aux_0: 1.0976 (1.1031)  loss_ddf_aux_0: 0.0008 (0.0008)  loss_mal_aux_1: 1.2227 (1.2415)  loss_bbox_aux_1: 0.5263 (0.5201)  loss_giou_aux_1: 0.9206 (0.9124)  loss_fgl_aux_1: 1.0976 (1.1024)  loss_ddf_aux_1: 0.0003 (0.0003)  loss_mal_pre: 1.2207 (1.2414)  loss_bbox_pre: 0.5155 (0.5152)  loss_giou_pre: 0.9231 (0.9132)  loss_mal_enc_0: 1.3047 (1.3231)  loss_bbox_enc_0: 0.5152 (0.5174)  loss_giou_enc_0: 0.9294 (0.9172)  loss_mal_dn_0: 0.6182 (0.6160)  loss_bbox_dn_0: 0.7517 (0.7575)  loss_giou_dn_0: 1.3496 (1.3573)  loss_fgl_dn_0: 0.7999 (0.7998)  loss_ddf_dn_0: 0.0005 (0.0005)  loss_mal_dn_1: 0.6177 (0.6162)  loss_bbox_dn_1: 0.7523 (0.7577)  loss_giou_dn_1: 1.3491 (1.3569)  loss_fgl_dn_1: 0.7999 (0.7996)  loss_ddf_dn_1: 0.0002 (0.0002)  loss_mal_dn_2: 0.6162 (0.6137)  loss_bbox_dn_2: 0.7518 (0.7571)  loss_giou_dn_2: 1.3474 (1.3557)  loss_fgl_dn_2: 0.8002 (0.7992)  loss_mal_dn_pre: 0.6182 (0.6152)  loss_bbox_dn_pre: 0.7467 (0.7544)  loss_giou_dn_pre: 1.3507 (1.3578)\n",
      "Test:  [0/5]  eta: 0:00:04    time: 0.8623  data: 0.7477  max mem: 10586\n"
     ]
    },
    {
     "name": "stderr",
     "output_type": "stream",
     "text": [
      "2025-03-10 15:01:38,127 - DEIMTrainer - INFO - Epoch 64 - Train loss: 30.0733, Eval mAP: 0.0721\n",
      "2025-03-10 15:01:38,128 - DEIMTrainer - INFO - Best stats: {'epoch': 62, 'coco_eval_bbox': 0.09633525025872276}\n"
     ]
    },
    {
     "name": "stdout",
     "output_type": "stream",
     "text": [
      "Test:  [4/5]  eta: 0:00:00    time: 0.2769  data: 0.1678  max mem: 10586\n",
      "Test: Total time: 0:00:01 (0.2890 s / it)\n",
      "Averaged stats: \n",
      "Accumulating evaluation results...\n",
      "COCOeval_opt.accumulate() finished...\n",
      "DONE (t=0.01s).\n",
      "IoU metric: bbox\n",
      " Average Precision  (AP) @[ IoU=0.50:0.95 | area=   all | maxDets=100 ] = 0.072\n",
      " Average Precision  (AP) @[ IoU=0.50      | area=   all | maxDets=100 ] = 0.228\n",
      " Average Precision  (AP) @[ IoU=0.75      | area=   all | maxDets=100 ] = 0.025\n",
      " Average Precision  (AP) @[ IoU=0.50:0.95 | area= small | maxDets=100 ] = 0.000\n",
      " Average Precision  (AP) @[ IoU=0.50:0.95 | area=medium | maxDets=100 ] = 0.103\n",
      " Average Precision  (AP) @[ IoU=0.50:0.95 | area= large | maxDets=100 ] = 0.075\n",
      " Average Recall     (AR) @[ IoU=0.50:0.95 | area=   all | maxDets=  1 ] = 0.088\n",
      " Average Recall     (AR) @[ IoU=0.50:0.95 | area=   all | maxDets= 10 ] = 0.148\n",
      " Average Recall     (AR) @[ IoU=0.50:0.95 | area=   all | maxDets=100 ] = 0.205\n",
      " Average Recall     (AR) @[ IoU=0.50:0.95 | area= small | maxDets=100 ] = 0.000\n",
      " Average Recall     (AR) @[ IoU=0.50:0.95 | area=medium | maxDets=100 ] = 0.232\n",
      " Average Recall     (AR) @[ IoU=0.50:0.95 | area= large | maxDets=100 ] = 0.215\n",
      " Average Recall     (AR) @[ IoU=0.50      | area=   all | maxDets=100 ] = 0.535\n",
      " Average Recall     (AR) @[ IoU=0.75      | area=   all | maxDets=100 ] = 0.099\n",
      "================================================\n",
      "{'coco_eval_bbox': [0.07214197706343592, 0.22753679854816153, 0.024940905847371152, 0.0, 0.1031892284162964, 0.07548825925956226, 0.08836996336996338, 0.1483262108262108, 0.20502136752136751, 0.0, 0.2318452380952381, 0.21488775792006945]}\n",
      "================================================\n",
      "Epoch: [65]  [ 0/15]  eta: 0:00:24  lr: 0.000048  loss: 30.1041 (30.1041)  loss_mal: 1.1465 (1.1465)  loss_bbox: 0.5529 (0.5529)  loss_giou: 0.9468 (0.9468)  loss_fgl: 1.0521 (1.0521)  loss_mal_aux_0: 1.1934 (1.1934)  loss_bbox_aux_0: 0.5531 (0.5531)  loss_giou_aux_0: 0.9479 (0.9479)  loss_fgl_aux_0: 1.0538 (1.0538)  loss_ddf_aux_0: 0.0008 (0.0008)  loss_mal_aux_1: 1.1611 (1.1611)  loss_bbox_aux_1: 0.5536 (0.5536)  loss_giou_aux_1: 0.9476 (0.9476)  loss_fgl_aux_1: 1.0527 (1.0527)  loss_ddf_aux_1: 0.0003 (0.0003)  loss_mal_pre: 1.1943 (1.1943)  loss_bbox_pre: 0.5406 (0.5406)  loss_giou_pre: 0.9459 (0.9459)  loss_mal_enc_0: 1.2510 (1.2510)  loss_bbox_enc_0: 0.5387 (0.5387)  loss_giou_enc_0: 0.9453 (0.9453)  loss_mal_dn_0: 0.6235 (0.6235)  loss_bbox_dn_0: 0.8134 (0.8134)  loss_giou_dn_0: 1.3388 (1.3388)  loss_fgl_dn_0: 0.8119 (0.8119)  loss_ddf_dn_0: 0.0005 (0.0005)  loss_mal_dn_1: 0.6201 (0.6201)  loss_bbox_dn_1: 0.8123 (0.8123)  loss_giou_dn_1: 1.3381 (1.3381)  loss_fgl_dn_1: 0.8115 (0.8115)  loss_ddf_dn_1: 0.0002 (0.0002)  loss_mal_dn_2: 0.6191 (0.6191)  loss_bbox_dn_2: 0.8109 (0.8109)  loss_giou_dn_2: 1.3364 (1.3364)  loss_fgl_dn_2: 0.8107 (0.8107)  loss_mal_dn_pre: 0.6226 (0.6226)  loss_bbox_dn_pre: 0.8166 (0.8166)  loss_giou_dn_pre: 1.3390 (1.3390)  time: 1.6503  data: 1.0973  max mem: 10586\n"
     ]
    },
    {
     "name": "stderr",
     "output_type": "stream",
     "text": [
      "2025-03-10 15:01:45,378 - DEIMTrainer - INFO - Evaluating model...\n"
     ]
    },
    {
     "name": "stdout",
     "output_type": "stream",
     "text": [
      "Epoch: [65]  [14/15]  eta: 0:00:00  lr: 0.000049  loss: 29.6476 (29.8795)  loss_mal: 1.2100 (1.1936)  loss_bbox: 0.5109 (0.5094)  loss_giou: 0.8765 (0.8719)  loss_fgl: 1.1218 (1.1220)  loss_mal_aux_0: 1.2197 (1.2266)  loss_bbox_aux_0: 0.5122 (0.5106)  loss_giou_aux_0: 0.8770 (0.8729)  loss_fgl_aux_0: 1.1223 (1.1228)  loss_ddf_aux_0: 0.0008 (0.0008)  loss_mal_aux_1: 1.1963 (1.2009)  loss_bbox_aux_1: 0.5118 (0.5103)  loss_giou_aux_1: 0.8771 (0.8727)  loss_fgl_aux_1: 1.1217 (1.1220)  loss_ddf_aux_1: 0.0003 (0.0003)  loss_mal_pre: 1.2197 (1.2283)  loss_bbox_pre: 0.5052 (0.5066)  loss_giou_pre: 0.8739 (0.8717)  loss_mal_enc_0: 1.3154 (1.3256)  loss_bbox_enc_0: 0.5071 (0.5073)  loss_giou_enc_0: 0.8809 (0.8756)  loss_mal_dn_0: 0.6123 (0.6138)  loss_bbox_dn_0: 0.7719 (0.7886)  loss_giou_dn_0: 1.3565 (1.3540)  loss_fgl_dn_0: 0.8006 (0.7999)  loss_ddf_dn_0: 0.0005 (0.0005)  loss_mal_dn_1: 0.6128 (0.6144)  loss_bbox_dn_1: 0.7703 (0.7870)  loss_giou_dn_1: 1.3564 (1.3540)  loss_fgl_dn_1: 0.7997 (0.7991)  loss_ddf_dn_1: 0.0002 (0.0002)  loss_mal_dn_2: 0.6128 (0.6144)  loss_bbox_dn_2: 0.7685 (0.7848)  loss_giou_dn_2: 1.3547 (1.3522)  loss_fgl_dn_2: 0.7996 (0.7987)  loss_mal_dn_pre: 0.6167 (0.6172)  loss_bbox_dn_pre: 0.7857 (0.8000)  loss_giou_dn_pre: 1.3505 (1.3488)  time: 0.4777  data: 0.0903  max mem: 10586\n",
      "Epoch: [65] Total time: 0:00:07 (0.4819 s / it)\n",
      "Averaged stats: lr: 0.000049  loss: 29.6476 (29.8795)  loss_mal: 1.2100 (1.1936)  loss_bbox: 0.5109 (0.5094)  loss_giou: 0.8765 (0.8719)  loss_fgl: 1.1218 (1.1220)  loss_mal_aux_0: 1.2197 (1.2266)  loss_bbox_aux_0: 0.5122 (0.5106)  loss_giou_aux_0: 0.8770 (0.8729)  loss_fgl_aux_0: 1.1223 (1.1228)  loss_ddf_aux_0: 0.0008 (0.0008)  loss_mal_aux_1: 1.1963 (1.2009)  loss_bbox_aux_1: 0.5118 (0.5103)  loss_giou_aux_1: 0.8771 (0.8727)  loss_fgl_aux_1: 1.1217 (1.1220)  loss_ddf_aux_1: 0.0003 (0.0003)  loss_mal_pre: 1.2197 (1.2283)  loss_bbox_pre: 0.5052 (0.5066)  loss_giou_pre: 0.8739 (0.8717)  loss_mal_enc_0: 1.3154 (1.3256)  loss_bbox_enc_0: 0.5071 (0.5073)  loss_giou_enc_0: 0.8809 (0.8756)  loss_mal_dn_0: 0.6123 (0.6138)  loss_bbox_dn_0: 0.7719 (0.7886)  loss_giou_dn_0: 1.3565 (1.3540)  loss_fgl_dn_0: 0.8006 (0.7999)  loss_ddf_dn_0: 0.0005 (0.0005)  loss_mal_dn_1: 0.6128 (0.6144)  loss_bbox_dn_1: 0.7703 (0.7870)  loss_giou_dn_1: 1.3564 (1.3540)  loss_fgl_dn_1: 0.7997 (0.7991)  loss_ddf_dn_1: 0.0002 (0.0002)  loss_mal_dn_2: 0.6128 (0.6144)  loss_bbox_dn_2: 0.7685 (0.7848)  loss_giou_dn_2: 1.3547 (1.3522)  loss_fgl_dn_2: 0.7996 (0.7987)  loss_mal_dn_pre: 0.6167 (0.6172)  loss_bbox_dn_pre: 0.7857 (0.8000)  loss_giou_dn_pre: 1.3505 (1.3488)\n",
      "Test:  [0/5]  eta: 0:00:04    time: 0.9311  data: 0.6579  max mem: 10586\n"
     ]
    },
    {
     "name": "stderr",
     "output_type": "stream",
     "text": [
      "2025-03-10 15:01:46,857 - DEIMTrainer - INFO - Saving checkpoint to outputs/deim_hgnetv2_s_coco/best.pth\n"
     ]
    },
    {
     "name": "stdout",
     "output_type": "stream",
     "text": [
      "Test:  [4/5]  eta: 0:00:00    time: 0.2779  data: 0.1435  max mem: 10586\n",
      "Test: Total time: 0:00:01 (0.2910 s / it)\n",
      "Averaged stats: \n",
      "Accumulating evaluation results...\n",
      "COCOeval_opt.accumulate() finished...\n",
      "DONE (t=0.01s).\n",
      "IoU metric: bbox\n",
      " Average Precision  (AP) @[ IoU=0.50:0.95 | area=   all | maxDets=100 ] = 0.165\n",
      " Average Precision  (AP) @[ IoU=0.50      | area=   all | maxDets=100 ] = 0.332\n",
      " Average Precision  (AP) @[ IoU=0.75      | area=   all | maxDets=100 ] = 0.141\n",
      " Average Precision  (AP) @[ IoU=0.50:0.95 | area= small | maxDets=100 ] = 0.000\n",
      " Average Precision  (AP) @[ IoU=0.50:0.95 | area=medium | maxDets=100 ] = 0.234\n",
      " Average Precision  (AP) @[ IoU=0.50:0.95 | area= large | maxDets=100 ] = 0.176\n",
      " Average Recall     (AR) @[ IoU=0.50:0.95 | area=   all | maxDets=  1 ] = 0.166\n",
      " Average Recall     (AR) @[ IoU=0.50:0.95 | area=   all | maxDets= 10 ] = 0.267\n",
      " Average Recall     (AR) @[ IoU=0.50:0.95 | area=   all | maxDets=100 ] = 0.342\n",
      " Average Recall     (AR) @[ IoU=0.50:0.95 | area= small | maxDets=100 ] = 0.000\n",
      " Average Recall     (AR) @[ IoU=0.50:0.95 | area=medium | maxDets=100 ] = 0.308\n",
      " Average Recall     (AR) @[ IoU=0.50:0.95 | area= large | maxDets=100 ] = 0.421\n",
      " Average Recall     (AR) @[ IoU=0.50      | area=   all | maxDets=100 ] = 0.630\n",
      " Average Recall     (AR) @[ IoU=0.75      | area=   all | maxDets=100 ] = 0.337\n",
      "================================================\n",
      "{'coco_eval_bbox': [0.1645589026234923, 0.33186829391101846, 0.14075538936427845, 0.0, 0.23360847521136088, 0.17571170556242072, 0.16648860398860402, 0.2668265214317846, 0.3420147591200223, 0.0, 0.3077380952380952, 0.4214968240817454]}\n",
      "================================================\n"
     ]
    },
    {
     "name": "stderr",
     "output_type": "stream",
     "text": [
      "2025-03-10 15:01:47,185 - DEIMTrainer - INFO - Checkpoint saved to outputs/deim_hgnetv2_s_coco/best.pth\n",
      "2025-03-10 15:01:47,187 - DEIMTrainer - INFO - Epoch 65 - Train loss: 29.8795, Eval mAP: 0.1646\n",
      "2025-03-10 15:01:47,188 - DEIMTrainer - INFO - Best stats: {'epoch': 65, 'coco_eval_bbox': 0.1645589026234923}\n"
     ]
    },
    {
     "name": "stdout",
     "output_type": "stream",
     "text": [
      "Epoch: [66]  [ 0/15]  eta: 0:00:26  lr: 0.000049  loss: 29.4682 (29.4682)  loss_mal: 1.1289 (1.1289)  loss_bbox: 0.5101 (0.5101)  loss_giou: 0.9507 (0.9507)  loss_fgl: 1.0623 (1.0623)  loss_mal_aux_0: 1.1660 (1.1660)  loss_bbox_aux_0: 0.5122 (0.5122)  loss_giou_aux_0: 0.9524 (0.9524)  loss_fgl_aux_0: 1.0624 (1.0624)  loss_ddf_aux_0: 0.0006 (0.0006)  loss_mal_aux_1: 1.1377 (1.1377)  loss_bbox_aux_1: 0.5117 (0.5117)  loss_giou_aux_1: 0.9521 (0.9521)  loss_fgl_aux_1: 1.0623 (1.0623)  loss_ddf_aux_1: 0.0002 (0.0002)  loss_mal_pre: 1.1621 (1.1621)  loss_bbox_pre: 0.5094 (0.5094)  loss_giou_pre: 0.9490 (0.9490)  loss_mal_enc_0: 1.2998 (1.2998)  loss_bbox_enc_0: 0.5095 (0.5095)  loss_giou_enc_0: 0.9498 (0.9498)  loss_mal_dn_0: 0.6108 (0.6108)  loss_bbox_dn_0: 0.7026 (0.7026)  loss_giou_dn_0: 1.3562 (1.3562)  loss_fgl_dn_0: 0.8003 (0.8003)  loss_ddf_dn_0: 0.0005 (0.0005)  loss_mal_dn_1: 0.6084 (0.6084)  loss_bbox_dn_1: 0.7006 (0.7006)  loss_giou_dn_1: 1.3561 (1.3561)  loss_fgl_dn_1: 0.7995 (0.7995)  loss_ddf_dn_1: 0.0002 (0.0002)  loss_mal_dn_2: 0.6084 (0.6084)  loss_bbox_dn_2: 0.6980 (0.6980)  loss_giou_dn_2: 1.3539 (1.3539)  loss_fgl_dn_2: 0.7997 (0.7997)  loss_mal_dn_pre: 0.6157 (0.6157)  loss_bbox_dn_pre: 0.7174 (0.7174)  loss_giou_dn_pre: 1.3505 (1.3505)  time: 1.7655  data: 1.2851  max mem: 10586\n"
     ]
    },
    {
     "name": "stderr",
     "output_type": "stream",
     "text": [
      "2025-03-10 15:01:54,650 - DEIMTrainer - INFO - Evaluating model...\n"
     ]
    },
    {
     "name": "stdout",
     "output_type": "stream",
     "text": [
      "Epoch: [66]  [14/15]  eta: 0:00:00  lr: 0.000050  loss: 29.4389 (29.3990)  loss_mal: 1.1787 (1.1732)  loss_bbox: 0.4883 (0.4799)  loss_giou: 0.8474 (0.8617)  loss_fgl: 1.1333 (1.1232)  loss_mal_aux_0: 1.1934 (1.1910)  loss_bbox_aux_0: 0.4917 (0.4824)  loss_giou_aux_0: 0.8491 (0.8641)  loss_fgl_aux_0: 1.1343 (1.1239)  loss_ddf_aux_0: 0.0008 (0.0008)  loss_mal_aux_1: 1.1768 (1.1704)  loss_bbox_aux_1: 0.4906 (0.4817)  loss_giou_aux_1: 0.8488 (0.8636)  loss_fgl_aux_1: 1.1337 (1.1233)  loss_ddf_aux_1: 0.0003 (0.0003)  loss_mal_pre: 1.1924 (1.1892)  loss_bbox_pre: 0.4948 (0.4820)  loss_giou_pre: 0.8495 (0.8640)  loss_mal_enc_0: 1.3105 (1.3327)  loss_bbox_enc_0: 0.5014 (0.4835)  loss_giou_enc_0: 0.8565 (0.8682)  loss_mal_dn_0: 0.6064 (0.6045)  loss_bbox_dn_0: 0.7491 (0.7454)  loss_giou_dn_0: 1.3638 (1.3647)  loss_fgl_dn_0: 0.7924 (0.7937)  loss_ddf_dn_0: 0.0005 (0.0005)  loss_mal_dn_1: 0.6064 (0.6037)  loss_bbox_dn_1: 0.7469 (0.7437)  loss_giou_dn_1: 1.3626 (1.3642)  loss_fgl_dn_1: 0.7925 (0.7932)  loss_ddf_dn_1: 0.0002 (0.0002)  loss_mal_dn_2: 0.6079 (0.6051)  loss_bbox_dn_2: 0.7438 (0.7409)  loss_giou_dn_2: 1.3583 (1.3609)  loss_fgl_dn_2: 0.7946 (0.7938)  loss_mal_dn_pre: 0.6094 (0.6081)  loss_bbox_dn_pre: 0.7631 (0.7572)  loss_giou_dn_pre: 1.3613 (1.3601)  time: 0.4924  data: 0.0995  max mem: 10586\n",
      "Epoch: [66] Total time: 0:00:07 (0.4959 s / it)\n",
      "Averaged stats: lr: 0.000050  loss: 29.4389 (29.3990)  loss_mal: 1.1787 (1.1732)  loss_bbox: 0.4883 (0.4799)  loss_giou: 0.8474 (0.8617)  loss_fgl: 1.1333 (1.1232)  loss_mal_aux_0: 1.1934 (1.1910)  loss_bbox_aux_0: 0.4917 (0.4824)  loss_giou_aux_0: 0.8491 (0.8641)  loss_fgl_aux_0: 1.1343 (1.1239)  loss_ddf_aux_0: 0.0008 (0.0008)  loss_mal_aux_1: 1.1768 (1.1704)  loss_bbox_aux_1: 0.4906 (0.4817)  loss_giou_aux_1: 0.8488 (0.8636)  loss_fgl_aux_1: 1.1337 (1.1233)  loss_ddf_aux_1: 0.0003 (0.0003)  loss_mal_pre: 1.1924 (1.1892)  loss_bbox_pre: 0.4948 (0.4820)  loss_giou_pre: 0.8495 (0.8640)  loss_mal_enc_0: 1.3105 (1.3327)  loss_bbox_enc_0: 0.5014 (0.4835)  loss_giou_enc_0: 0.8565 (0.8682)  loss_mal_dn_0: 0.6064 (0.6045)  loss_bbox_dn_0: 0.7491 (0.7454)  loss_giou_dn_0: 1.3638 (1.3647)  loss_fgl_dn_0: 0.7924 (0.7937)  loss_ddf_dn_0: 0.0005 (0.0005)  loss_mal_dn_1: 0.6064 (0.6037)  loss_bbox_dn_1: 0.7469 (0.7437)  loss_giou_dn_1: 1.3626 (1.3642)  loss_fgl_dn_1: 0.7925 (0.7932)  loss_ddf_dn_1: 0.0002 (0.0002)  loss_mal_dn_2: 0.6079 (0.6051)  loss_bbox_dn_2: 0.7438 (0.7409)  loss_giou_dn_2: 1.3583 (1.3609)  loss_fgl_dn_2: 0.7946 (0.7938)  loss_mal_dn_pre: 0.6094 (0.6081)  loss_bbox_dn_pre: 0.7631 (0.7572)  loss_giou_dn_pre: 1.3613 (1.3601)\n",
      "Test:  [0/5]  eta: 0:00:04    time: 0.9280  data: 0.6563  max mem: 10586\n"
     ]
    },
    {
     "name": "stderr",
     "output_type": "stream",
     "text": [
      "2025-03-10 15:01:56,146 - DEIMTrainer - INFO - Saving checkpoint to outputs/deim_hgnetv2_s_coco/best.pth\n"
     ]
    },
    {
     "name": "stdout",
     "output_type": "stream",
     "text": [
      "Test:  [4/5]  eta: 0:00:00    time: 0.2789  data: 0.1443  max mem: 10586\n",
      "Test: Total time: 0:00:01 (0.2936 s / it)\n",
      "Averaged stats: \n",
      "Accumulating evaluation results...\n",
      "COCOeval_opt.accumulate() finished...\n",
      "DONE (t=0.02s).\n",
      "IoU metric: bbox\n",
      " Average Precision  (AP) @[ IoU=0.50:0.95 | area=   all | maxDets=100 ] = 0.180\n",
      " Average Precision  (AP) @[ IoU=0.50      | area=   all | maxDets=100 ] = 0.359\n",
      " Average Precision  (AP) @[ IoU=0.75      | area=   all | maxDets=100 ] = 0.162\n",
      " Average Precision  (AP) @[ IoU=0.50:0.95 | area= small | maxDets=100 ] = 0.000\n",
      " Average Precision  (AP) @[ IoU=0.50:0.95 | area=medium | maxDets=100 ] = 0.117\n",
      " Average Precision  (AP) @[ IoU=0.50:0.95 | area= large | maxDets=100 ] = 0.190\n",
      " Average Recall     (AR) @[ IoU=0.50:0.95 | area=   all | maxDets=  1 ] = 0.167\n",
      " Average Recall     (AR) @[ IoU=0.50:0.95 | area=   all | maxDets= 10 ] = 0.264\n",
      " Average Recall     (AR) @[ IoU=0.50:0.95 | area=   all | maxDets=100 ] = 0.348\n",
      " Average Recall     (AR) @[ IoU=0.50:0.95 | area= small | maxDets=100 ] = 0.000\n",
      " Average Recall     (AR) @[ IoU=0.50:0.95 | area=medium | maxDets=100 ] = 0.261\n",
      " Average Recall     (AR) @[ IoU=0.50:0.95 | area= large | maxDets=100 ] = 0.362\n",
      " Average Recall     (AR) @[ IoU=0.50      | area=   all | maxDets=100 ] = 0.639\n",
      " Average Recall     (AR) @[ IoU=0.75      | area=   all | maxDets=100 ] = 0.345\n",
      "================================================\n",
      "{'coco_eval_bbox': [0.1796709307768902, 0.35863957083978, 0.16233842331690337, 0.0, 0.11684333503522798, 0.1902481515211515, 0.16650895400895402, 0.26365834457939724, 0.34819232911338177, 0.0, 0.26095238095238094, 0.3621493667889692]}\n",
      "================================================\n"
     ]
    },
    {
     "name": "stderr",
     "output_type": "stream",
     "text": [
      "2025-03-10 15:01:56,563 - DEIMTrainer - INFO - Checkpoint saved to outputs/deim_hgnetv2_s_coco/best.pth\n",
      "2025-03-10 15:01:56,567 - DEIMTrainer - INFO - Epoch 66 - Train loss: 29.3990, Eval mAP: 0.1797\n",
      "2025-03-10 15:01:56,568 - DEIMTrainer - INFO - Best stats: {'epoch': 66, 'coco_eval_bbox': 0.1796709307768902}\n"
     ]
    },
    {
     "name": "stdout",
     "output_type": "stream",
     "text": [
      "Epoch: [67]  [ 0/15]  eta: 0:00:25  lr: 0.000051  loss: 28.6933 (28.6933)  loss_mal: 1.1328 (1.1328)  loss_bbox: 0.4369 (0.4369)  loss_giou: 0.9279 (0.9279)  loss_fgl: 1.0945 (1.0945)  loss_mal_aux_0: 1.1230 (1.1230)  loss_bbox_aux_0: 0.4391 (0.4391)  loss_giou_aux_0: 0.9308 (0.9308)  loss_fgl_aux_0: 1.0940 (1.0940)  loss_ddf_aux_0: 0.0009 (0.0009)  loss_mal_aux_1: 1.1045 (1.1045)  loss_bbox_aux_1: 0.4385 (0.4385)  loss_giou_aux_1: 0.9302 (0.9302)  loss_fgl_aux_1: 1.0941 (1.0941)  loss_ddf_aux_1: 0.0004 (0.0004)  loss_mal_pre: 1.1211 (1.1211)  loss_bbox_pre: 0.4365 (0.4365)  loss_giou_pre: 0.9273 (0.9273)  loss_mal_enc_0: 1.2305 (1.2305)  loss_bbox_enc_0: 0.4401 (0.4401)  loss_giou_enc_0: 0.9327 (0.9327)  loss_mal_dn_0: 0.6147 (0.6147)  loss_bbox_dn_0: 0.6491 (0.6491)  loss_giou_dn_0: 1.3475 (1.3475)  loss_fgl_dn_0: 0.8041 (0.8041)  loss_ddf_dn_0: 0.0006 (0.0006)  loss_mal_dn_1: 0.6147 (0.6147)  loss_bbox_dn_1: 0.6473 (0.6473)  loss_giou_dn_1: 1.3458 (1.3458)  loss_fgl_dn_1: 0.8042 (0.8042)  loss_ddf_dn_1: 0.0003 (0.0003)  loss_mal_dn_2: 0.6191 (0.6191)  loss_bbox_dn_2: 0.6442 (0.6442)  loss_giou_dn_2: 1.3395 (1.3395)  loss_fgl_dn_2: 0.8062 (0.8062)  loss_mal_dn_pre: 0.6167 (0.6167)  loss_bbox_dn_pre: 0.6569 (0.6569)  loss_giou_dn_pre: 1.3466 (1.3466)  time: 1.6727  data: 1.1896  max mem: 10586\n"
     ]
    },
    {
     "name": "stderr",
     "output_type": "stream",
     "text": [
      "2025-03-10 15:02:03,990 - DEIMTrainer - INFO - Saving checkpoint to outputs/deim_hgnetv2_s_coco/checkpoint0067.pth\n"
     ]
    },
    {
     "name": "stdout",
     "output_type": "stream",
     "text": [
      "Epoch: [67]  [14/15]  eta: 0:00:00  lr: 0.000052  loss: 28.7359 (29.2056)  loss_mal: 1.1621 (1.1823)  loss_bbox: 0.4369 (0.4598)  loss_giou: 0.8123 (0.8272)  loss_fgl: 1.1463 (1.1379)  loss_mal_aux_0: 1.1836 (1.1881)  loss_bbox_aux_0: 0.4391 (0.4632)  loss_giou_aux_0: 0.8143 (0.8314)  loss_fgl_aux_0: 1.1480 (1.1383)  loss_ddf_aux_0: 0.0011 (0.0011)  loss_mal_aux_1: 1.1709 (1.1805)  loss_bbox_aux_1: 0.4385 (0.4624)  loss_giou_aux_1: 0.8137 (0.8305)  loss_fgl_aux_1: 1.1468 (1.1377)  loss_ddf_aux_1: 0.0005 (0.0005)  loss_mal_pre: 1.1836 (1.1885)  loss_bbox_pre: 0.4365 (0.4632)  loss_giou_pre: 0.8142 (0.8313)  loss_mal_enc_0: 1.3477 (1.3381)  loss_bbox_enc_0: 0.4401 (0.4676)  loss_giou_enc_0: 0.8207 (0.8406)  loss_mal_dn_0: 0.6118 (0.6134)  loss_bbox_dn_0: 0.7245 (0.7449)  loss_giou_dn_0: 1.3477 (1.3479)  loss_fgl_dn_0: 0.8041 (0.8039)  loss_ddf_dn_0: 0.0007 (0.0008)  loss_mal_dn_1: 0.6123 (0.6141)  loss_bbox_dn_1: 0.7228 (0.7431)  loss_giou_dn_1: 1.3458 (1.3461)  loss_fgl_dn_1: 0.8042 (0.8041)  loss_ddf_dn_1: 0.0004 (0.0004)  loss_mal_dn_2: 0.6167 (0.6171)  loss_bbox_dn_2: 0.7197 (0.7390)  loss_giou_dn_2: 1.3394 (1.3384)  loss_fgl_dn_2: 0.8062 (0.8068)  loss_mal_dn_pre: 0.6133 (0.6149)  loss_bbox_dn_pre: 0.7344 (0.7540)  loss_giou_dn_pre: 1.3466 (1.3466)  time: 0.4888  data: 0.0970  max mem: 10586\n",
      "Epoch: [67] Total time: 0:00:07 (0.4934 s / it)\n",
      "Averaged stats: lr: 0.000052  loss: 28.7359 (29.2056)  loss_mal: 1.1621 (1.1823)  loss_bbox: 0.4369 (0.4598)  loss_giou: 0.8123 (0.8272)  loss_fgl: 1.1463 (1.1379)  loss_mal_aux_0: 1.1836 (1.1881)  loss_bbox_aux_0: 0.4391 (0.4632)  loss_giou_aux_0: 0.8143 (0.8314)  loss_fgl_aux_0: 1.1480 (1.1383)  loss_ddf_aux_0: 0.0011 (0.0011)  loss_mal_aux_1: 1.1709 (1.1805)  loss_bbox_aux_1: 0.4385 (0.4624)  loss_giou_aux_1: 0.8137 (0.8305)  loss_fgl_aux_1: 1.1468 (1.1377)  loss_ddf_aux_1: 0.0005 (0.0005)  loss_mal_pre: 1.1836 (1.1885)  loss_bbox_pre: 0.4365 (0.4632)  loss_giou_pre: 0.8142 (0.8313)  loss_mal_enc_0: 1.3477 (1.3381)  loss_bbox_enc_0: 0.4401 (0.4676)  loss_giou_enc_0: 0.8207 (0.8406)  loss_mal_dn_0: 0.6118 (0.6134)  loss_bbox_dn_0: 0.7245 (0.7449)  loss_giou_dn_0: 1.3477 (1.3479)  loss_fgl_dn_0: 0.8041 (0.8039)  loss_ddf_dn_0: 0.0007 (0.0008)  loss_mal_dn_1: 0.6123 (0.6141)  loss_bbox_dn_1: 0.7228 (0.7431)  loss_giou_dn_1: 1.3458 (1.3461)  loss_fgl_dn_1: 0.8042 (0.8041)  loss_ddf_dn_1: 0.0004 (0.0004)  loss_mal_dn_2: 0.6167 (0.6171)  loss_bbox_dn_2: 0.7197 (0.7390)  loss_giou_dn_2: 1.3394 (1.3384)  loss_fgl_dn_2: 0.8062 (0.8068)  loss_mal_dn_pre: 0.6133 (0.6149)  loss_bbox_dn_pre: 0.7344 (0.7540)  loss_giou_dn_pre: 1.3466 (1.3466)\n"
     ]
    },
    {
     "name": "stderr",
     "output_type": "stream",
     "text": [
      "2025-03-10 15:02:04,284 - DEIMTrainer - INFO - Checkpoint saved to outputs/deim_hgnetv2_s_coco/checkpoint0067.pth\n",
      "2025-03-10 15:02:04,285 - DEIMTrainer - INFO - Evaluating model...\n"
     ]
    },
    {
     "name": "stdout",
     "output_type": "stream",
     "text": [
      "Test:  [0/5]  eta: 0:00:04    time: 0.9546  data: 0.6688  max mem: 10586\n"
     ]
    },
    {
     "name": "stderr",
     "output_type": "stream",
     "text": [
      "2025-03-10 15:02:05,810 - DEIMTrainer - INFO - Saving checkpoint to outputs/deim_hgnetv2_s_coco/best.pth\n"
     ]
    },
    {
     "name": "stdout",
     "output_type": "stream",
     "text": [
      "Test:  [4/5]  eta: 0:00:00    time: 0.2863  data: 0.1492  max mem: 10586\n",
      "Test: Total time: 0:00:01 (0.2991 s / it)\n",
      "Averaged stats: \n",
      "Accumulating evaluation results...\n",
      "COCOeval_opt.accumulate() finished...\n",
      "DONE (t=0.02s).\n",
      "IoU metric: bbox\n",
      " Average Precision  (AP) @[ IoU=0.50:0.95 | area=   all | maxDets=100 ] = 0.198\n",
      " Average Precision  (AP) @[ IoU=0.50      | area=   all | maxDets=100 ] = 0.371\n",
      " Average Precision  (AP) @[ IoU=0.75      | area=   all | maxDets=100 ] = 0.188\n",
      " Average Precision  (AP) @[ IoU=0.50:0.95 | area= small | maxDets=100 ] = 0.000\n",
      " Average Precision  (AP) @[ IoU=0.50:0.95 | area=medium | maxDets=100 ] = 0.046\n",
      " Average Precision  (AP) @[ IoU=0.50:0.95 | area= large | maxDets=100 ] = 0.215\n",
      " Average Recall     (AR) @[ IoU=0.50:0.95 | area=   all | maxDets=  1 ] = 0.184\n",
      " Average Recall     (AR) @[ IoU=0.50:0.95 | area=   all | maxDets= 10 ] = 0.285\n",
      " Average Recall     (AR) @[ IoU=0.50:0.95 | area=   all | maxDets=100 ] = 0.382\n",
      " Average Recall     (AR) @[ IoU=0.50:0.95 | area= small | maxDets=100 ] = 0.000\n",
      " Average Recall     (AR) @[ IoU=0.50:0.95 | area=medium | maxDets=100 ] = 0.185\n",
      " Average Recall     (AR) @[ IoU=0.50:0.95 | area= large | maxDets=100 ] = 0.524\n",
      " Average Recall     (AR) @[ IoU=0.50      | area=   all | maxDets=100 ] = 0.669\n",
      " Average Recall     (AR) @[ IoU=0.75      | area=   all | maxDets=100 ] = 0.382\n",
      "================================================\n",
      "{'coco_eval_bbox': [0.19757178758544028, 0.37067377440984317, 0.1882208208070683, 0.0, 0.04611540944385561, 0.21462072959376352, 0.18396230962020435, 0.28498114945483366, 0.3821650815071868, 0.0, 0.1850297619047619, 0.524324772162386]}\n",
      "================================================\n"
     ]
    },
    {
     "name": "stderr",
     "output_type": "stream",
     "text": [
      "2025-03-10 15:02:06,219 - DEIMTrainer - INFO - Checkpoint saved to outputs/deim_hgnetv2_s_coco/best.pth\n",
      "2025-03-10 15:02:06,222 - DEIMTrainer - INFO - Epoch 67 - Train loss: 29.2056, Eval mAP: 0.1976\n",
      "2025-03-10 15:02:06,222 - DEIMTrainer - INFO - Best stats: {'epoch': 67, 'coco_eval_bbox': 0.19757178758544028}\n"
     ]
    },
    {
     "name": "stdout",
     "output_type": "stream",
     "text": [
      "Epoch: [68]  [ 0/15]  eta: 0:00:24  lr: 0.000052  loss: 27.2912 (27.2912)  loss_mal: 1.1680 (1.1680)  loss_bbox: 0.2998 (0.2998)  loss_giou: 0.8454 (0.8454)  loss_fgl: 1.1152 (1.1152)  loss_mal_aux_0: 1.1465 (1.1465)  loss_bbox_aux_0: 0.3012 (0.3012)  loss_giou_aux_0: 0.8461 (0.8461)  loss_fgl_aux_0: 1.1153 (1.1153)  loss_ddf_aux_0: 0.0015 (0.0015)  loss_mal_aux_1: 1.1641 (1.1641)  loss_bbox_aux_1: 0.3009 (0.3009)  loss_giou_aux_1: 0.8460 (0.8460)  loss_fgl_aux_1: 1.1148 (1.1148)  loss_ddf_aux_1: 0.0008 (0.0008)  loss_mal_pre: 1.1514 (1.1514)  loss_bbox_pre: 0.3006 (0.3006)  loss_giou_pre: 0.8454 (0.8454)  loss_mal_enc_0: 1.2803 (1.2803)  loss_bbox_enc_0: 0.3054 (0.3054)  loss_giou_enc_0: 0.8526 (0.8526)  loss_mal_dn_0: 0.6040 (0.6040)  loss_bbox_dn_0: 0.5100 (0.5100)  loss_giou_dn_0: 1.3741 (1.3741)  loss_fgl_dn_0: 0.7794 (0.7794)  loss_ddf_dn_0: 0.0009 (0.0009)  loss_mal_dn_1: 0.6050 (0.6050)  loss_bbox_dn_1: 0.5086 (0.5086)  loss_giou_dn_1: 1.3730 (1.3730)  loss_fgl_dn_1: 0.7793 (0.7793)  loss_ddf_dn_1: 0.0005 (0.0005)  loss_mal_dn_2: 0.6064 (0.6064)  loss_bbox_dn_2: 0.5054 (0.5054)  loss_giou_dn_2: 1.3662 (1.3662)  loss_fgl_dn_2: 0.7813 (0.7813)  loss_mal_dn_pre: 0.6064 (0.6064)  loss_bbox_dn_pre: 0.5168 (0.5168)  loss_giou_dn_pre: 1.3728 (1.3728)  time: 1.6617  data: 1.1782  max mem: 10586\n"
     ]
    },
    {
     "name": "stderr",
     "output_type": "stream",
     "text": [
      "2025-03-10 15:02:13,950 - DEIMTrainer - INFO - Evaluating model...\n"
     ]
    },
    {
     "name": "stdout",
     "output_type": "stream",
     "text": [
      "Epoch: [68]  [14/15]  eta: 0:00:00  lr: 0.000053  loss: 29.1990 (28.9353)  loss_mal: 1.1680 (1.1905)  loss_bbox: 0.4417 (0.4358)  loss_giou: 0.8232 (0.8161)  loss_fgl: 1.1581 (1.1460)  loss_mal_aux_0: 1.1768 (1.1773)  loss_bbox_aux_0: 0.4501 (0.4418)  loss_giou_aux_0: 0.8316 (0.8251)  loss_fgl_aux_0: 1.1567 (1.1451)  loss_ddf_aux_0: 0.0021 (0.0023)  loss_mal_aux_1: 1.1689 (1.1861)  loss_bbox_aux_1: 0.4489 (0.4406)  loss_giou_aux_1: 0.8301 (0.8234)  loss_fgl_aux_1: 1.1569 (1.1451)  loss_ddf_aux_1: 0.0012 (0.0013)  loss_mal_pre: 1.1729 (1.1744)  loss_bbox_pre: 0.4505 (0.4415)  loss_giou_pre: 0.8328 (0.8250)  loss_mal_enc_0: 1.2959 (1.3053)  loss_bbox_enc_0: 0.4623 (0.4484)  loss_giou_enc_0: 0.8441 (0.8406)  loss_mal_dn_0: 0.6104 (0.6126)  loss_bbox_dn_0: 0.7460 (0.7216)  loss_giou_dn_0: 1.3434 (1.3436)  loss_fgl_dn_0: 0.8018 (0.8047)  loss_ddf_dn_0: 0.0015 (0.0017)  loss_mal_dn_1: 0.6143 (0.6149)  loss_bbox_dn_1: 0.7426 (0.7191)  loss_giou_dn_1: 1.3390 (1.3401)  loss_fgl_dn_1: 0.8029 (0.8060)  loss_ddf_dn_1: 0.0009 (0.0010)  loss_mal_dn_2: 0.6201 (0.6235)  loss_bbox_dn_2: 0.7315 (0.7105)  loss_giou_dn_2: 1.3205 (1.3221)  loss_fgl_dn_2: 0.8114 (0.8134)  loss_mal_dn_pre: 0.6128 (0.6141)  loss_bbox_dn_pre: 0.7588 (0.7322)  loss_giou_dn_pre: 1.3431 (1.3425)  time: 0.5097  data: 0.1010  max mem: 10586\n",
      "Epoch: [68] Total time: 0:00:07 (0.5134 s / it)\n",
      "Averaged stats: lr: 0.000053  loss: 29.1990 (28.9353)  loss_mal: 1.1680 (1.1905)  loss_bbox: 0.4417 (0.4358)  loss_giou: 0.8232 (0.8161)  loss_fgl: 1.1581 (1.1460)  loss_mal_aux_0: 1.1768 (1.1773)  loss_bbox_aux_0: 0.4501 (0.4418)  loss_giou_aux_0: 0.8316 (0.8251)  loss_fgl_aux_0: 1.1567 (1.1451)  loss_ddf_aux_0: 0.0021 (0.0023)  loss_mal_aux_1: 1.1689 (1.1861)  loss_bbox_aux_1: 0.4489 (0.4406)  loss_giou_aux_1: 0.8301 (0.8234)  loss_fgl_aux_1: 1.1569 (1.1451)  loss_ddf_aux_1: 0.0012 (0.0013)  loss_mal_pre: 1.1729 (1.1744)  loss_bbox_pre: 0.4505 (0.4415)  loss_giou_pre: 0.8328 (0.8250)  loss_mal_enc_0: 1.2959 (1.3053)  loss_bbox_enc_0: 0.4623 (0.4484)  loss_giou_enc_0: 0.8441 (0.8406)  loss_mal_dn_0: 0.6104 (0.6126)  loss_bbox_dn_0: 0.7460 (0.7216)  loss_giou_dn_0: 1.3434 (1.3436)  loss_fgl_dn_0: 0.8018 (0.8047)  loss_ddf_dn_0: 0.0015 (0.0017)  loss_mal_dn_1: 0.6143 (0.6149)  loss_bbox_dn_1: 0.7426 (0.7191)  loss_giou_dn_1: 1.3390 (1.3401)  loss_fgl_dn_1: 0.8029 (0.8060)  loss_ddf_dn_1: 0.0009 (0.0010)  loss_mal_dn_2: 0.6201 (0.6235)  loss_bbox_dn_2: 0.7315 (0.7105)  loss_giou_dn_2: 1.3205 (1.3221)  loss_fgl_dn_2: 0.8114 (0.8134)  loss_mal_dn_pre: 0.6128 (0.6141)  loss_bbox_dn_pre: 0.7588 (0.7322)  loss_giou_dn_pre: 1.3431 (1.3425)\n",
      "Test:  [0/5]  eta: 0:00:04    time: 0.8931  data: 0.6186  max mem: 10586\n"
     ]
    },
    {
     "name": "stderr",
     "output_type": "stream",
     "text": [
      "2025-03-10 15:02:15,391 - DEIMTrainer - INFO - Saving checkpoint to outputs/deim_hgnetv2_s_coco/best.pth\n"
     ]
    },
    {
     "name": "stdout",
     "output_type": "stream",
     "text": [
      "Test:  [4/5]  eta: 0:00:00    time: 0.2693  data: 0.1378  max mem: 10586\n",
      "Test: Total time: 0:00:01 (0.2831 s / it)\n",
      "Averaged stats: \n",
      "Accumulating evaluation results...\n",
      "COCOeval_opt.accumulate() finished...\n",
      "DONE (t=0.02s).\n",
      "IoU metric: bbox\n",
      " Average Precision  (AP) @[ IoU=0.50:0.95 | area=   all | maxDets=100 ] = 0.217\n",
      " Average Precision  (AP) @[ IoU=0.50      | area=   all | maxDets=100 ] = 0.377\n",
      " Average Precision  (AP) @[ IoU=0.75      | area=   all | maxDets=100 ] = 0.233\n",
      " Average Precision  (AP) @[ IoU=0.50:0.95 | area= small | maxDets=100 ] = 0.000\n",
      " Average Precision  (AP) @[ IoU=0.50:0.95 | area=medium | maxDets=100 ] = 0.322\n",
      " Average Precision  (AP) @[ IoU=0.50:0.95 | area= large | maxDets=100 ] = 0.229\n",
      " Average Recall     (AR) @[ IoU=0.50:0.95 | area=   all | maxDets=  1 ] = 0.203\n",
      " Average Recall     (AR) @[ IoU=0.50:0.95 | area=   all | maxDets= 10 ] = 0.323\n",
      " Average Recall     (AR) @[ IoU=0.50:0.95 | area=   all | maxDets=100 ] = 0.426\n",
      " Average Recall     (AR) @[ IoU=0.50:0.95 | area= small | maxDets=100 ] = 0.000\n",
      " Average Recall     (AR) @[ IoU=0.50:0.95 | area=medium | maxDets=100 ] = 0.421\n",
      " Average Recall     (AR) @[ IoU=0.50:0.95 | area= large | maxDets=100 ] = 0.664\n",
      " Average Recall     (AR) @[ IoU=0.50      | area=   all | maxDets=100 ] = 0.684\n",
      " Average Recall     (AR) @[ IoU=0.75      | area=   all | maxDets=100 ] = 0.495\n",
      "================================================\n",
      "{'coco_eval_bbox': [0.21738603926897973, 0.37729553446670755, 0.23318177924013653, 0.0, 0.3222715692712218, 0.22884807664142287, 0.20343835014887648, 0.3225569265042949, 0.4255315103999314, 0.0, 0.420952380952381, 0.6639010533790981]}\n",
      "================================================\n"
     ]
    },
    {
     "name": "stderr",
     "output_type": "stream",
     "text": [
      "2025-03-10 15:02:15,699 - DEIMTrainer - INFO - Checkpoint saved to outputs/deim_hgnetv2_s_coco/best.pth\n",
      "2025-03-10 15:02:15,701 - DEIMTrainer - INFO - Epoch 68 - Train loss: 28.9353, Eval mAP: 0.2174\n",
      "2025-03-10 15:02:15,701 - DEIMTrainer - INFO - Best stats: {'epoch': 68, 'coco_eval_bbox': 0.21738603926897973}\n"
     ]
    },
    {
     "name": "stdout",
     "output_type": "stream",
     "text": [
      "Epoch: [69]  [ 0/15]  eta: 0:00:25  lr: 0.000054  loss: 29.9182 (29.9182)  loss_mal: 1.1094 (1.1094)  loss_bbox: 0.5478 (0.5478)  loss_giou: 0.8978 (0.8978)  loss_fgl: 1.1114 (1.1114)  loss_mal_aux_0: 1.1191 (1.1191)  loss_bbox_aux_0: 0.5617 (0.5617)  loss_giou_aux_0: 0.9135 (0.9135)  loss_fgl_aux_0: 1.1101 (1.1101)  loss_ddf_aux_0: 0.0035 (0.0035)  loss_mal_aux_1: 1.1494 (1.1494)  loss_bbox_aux_1: 0.5597 (0.5597)  loss_giou_aux_1: 0.9115 (0.9115)  loss_fgl_aux_1: 1.1102 (1.1102)  loss_ddf_aux_1: 0.0024 (0.0024)  loss_mal_pre: 1.1191 (1.1191)  loss_bbox_pre: 0.5637 (0.5637)  loss_giou_pre: 0.9161 (0.9161)  loss_mal_enc_0: 1.2939 (1.2939)  loss_bbox_enc_0: 0.5776 (0.5776)  loss_giou_enc_0: 0.9339 (0.9339)  loss_mal_dn_0: 0.6250 (0.6250)  loss_bbox_dn_0: 0.7984 (0.7984)  loss_giou_dn_0: 1.3122 (1.3122)  loss_fgl_dn_0: 0.8276 (0.8276)  loss_ddf_dn_0: 0.0029 (0.0029)  loss_mal_dn_1: 0.6265 (0.6265)  loss_bbox_dn_1: 0.7932 (0.7932)  loss_giou_dn_1: 1.3059 (1.3059)  loss_fgl_dn_1: 0.8300 (0.8300)  loss_ddf_dn_1: 0.0019 (0.0019)  loss_mal_dn_2: 0.6416 (0.6416)  loss_bbox_dn_2: 0.7742 (0.7742)  loss_giou_dn_2: 1.2743 (1.2743)  loss_fgl_dn_2: 0.8445 (0.8445)  loss_mal_dn_pre: 0.6265 (0.6265)  loss_bbox_dn_pre: 0.8112 (0.8112)  loss_giou_dn_pre: 1.3105 (1.3105)  time: 1.7038  data: 1.2420  max mem: 10586\n"
     ]
    },
    {
     "name": "stderr",
     "output_type": "stream",
     "text": [
      "2025-03-10 15:02:22,800 - DEIMTrainer - INFO - Evaluating model...\n"
     ]
    },
    {
     "name": "stdout",
     "output_type": "stream",
     "text": [
      "Epoch: [69]  [14/15]  eta: 0:00:00  lr: 0.000055  loss: 29.1380 (29.1660)  loss_mal: 1.2197 (1.2108)  loss_bbox: 0.4654 (0.4421)  loss_giou: 0.7808 (0.7926)  loss_fgl: 1.1578 (1.1535)  loss_mal_aux_0: 1.1797 (1.1779)  loss_bbox_aux_0: 0.4776 (0.4550)  loss_giou_aux_0: 0.8009 (0.8083)  loss_fgl_aux_0: 1.1565 (1.1522)  loss_ddf_aux_0: 0.0089 (0.0099)  loss_mal_aux_1: 1.1797 (1.1846)  loss_bbox_aux_1: 0.4757 (0.4530)  loss_giou_aux_1: 0.7958 (0.8056)  loss_fgl_aux_1: 1.1565 (1.1521)  loss_ddf_aux_1: 0.0066 (0.0074)  loss_mal_pre: 1.1777 (1.1764)  loss_bbox_pre: 0.4755 (0.4544)  loss_giou_pre: 0.8026 (0.8089)  loss_mal_enc_0: 1.3223 (1.3311)  loss_bbox_enc_0: 0.4921 (0.4690)  loss_giou_enc_0: 0.8392 (0.8419)  loss_mal_dn_0: 0.6260 (0.6246)  loss_bbox_dn_0: 0.7731 (0.7557)  loss_giou_dn_0: 1.3193 (1.3219)  loss_fgl_dn_0: 0.8271 (0.8245)  loss_ddf_dn_0: 0.0066 (0.0074)  loss_mal_dn_1: 0.6274 (0.6260)  loss_bbox_dn_1: 0.7699 (0.7517)  loss_giou_dn_1: 1.3143 (1.3144)  loss_fgl_dn_1: 0.8300 (0.8282)  loss_ddf_dn_1: 0.0049 (0.0053)  loss_mal_dn_2: 0.6445 (0.6461)  loss_bbox_dn_2: 0.7580 (0.7366)  loss_giou_dn_2: 1.2743 (1.2782)  loss_fgl_dn_2: 0.8471 (0.8455)  loss_mal_dn_pre: 0.6270 (0.6256)  loss_bbox_dn_pre: 0.7832 (0.7662)  loss_giou_dn_pre: 1.3173 (1.3215)  time: 0.4679  data: 0.0972  max mem: 10586\n",
      "Epoch: [69] Total time: 0:00:07 (0.4720 s / it)\n",
      "Averaged stats: lr: 0.000055  loss: 29.1380 (29.1660)  loss_mal: 1.2197 (1.2108)  loss_bbox: 0.4654 (0.4421)  loss_giou: 0.7808 (0.7926)  loss_fgl: 1.1578 (1.1535)  loss_mal_aux_0: 1.1797 (1.1779)  loss_bbox_aux_0: 0.4776 (0.4550)  loss_giou_aux_0: 0.8009 (0.8083)  loss_fgl_aux_0: 1.1565 (1.1522)  loss_ddf_aux_0: 0.0089 (0.0099)  loss_mal_aux_1: 1.1797 (1.1846)  loss_bbox_aux_1: 0.4757 (0.4530)  loss_giou_aux_1: 0.7958 (0.8056)  loss_fgl_aux_1: 1.1565 (1.1521)  loss_ddf_aux_1: 0.0066 (0.0074)  loss_mal_pre: 1.1777 (1.1764)  loss_bbox_pre: 0.4755 (0.4544)  loss_giou_pre: 0.8026 (0.8089)  loss_mal_enc_0: 1.3223 (1.3311)  loss_bbox_enc_0: 0.4921 (0.4690)  loss_giou_enc_0: 0.8392 (0.8419)  loss_mal_dn_0: 0.6260 (0.6246)  loss_bbox_dn_0: 0.7731 (0.7557)  loss_giou_dn_0: 1.3193 (1.3219)  loss_fgl_dn_0: 0.8271 (0.8245)  loss_ddf_dn_0: 0.0066 (0.0074)  loss_mal_dn_1: 0.6274 (0.6260)  loss_bbox_dn_1: 0.7699 (0.7517)  loss_giou_dn_1: 1.3143 (1.3144)  loss_fgl_dn_1: 0.8300 (0.8282)  loss_ddf_dn_1: 0.0049 (0.0053)  loss_mal_dn_2: 0.6445 (0.6461)  loss_bbox_dn_2: 0.7580 (0.7366)  loss_giou_dn_2: 1.2743 (1.2782)  loss_fgl_dn_2: 0.8471 (0.8455)  loss_mal_dn_pre: 0.6270 (0.6256)  loss_bbox_dn_pre: 0.7832 (0.7662)  loss_giou_dn_pre: 1.3173 (1.3215)\n",
      "Test:  [0/5]  eta: 0:00:04    time: 0.8811  data: 0.6071  max mem: 10586\n"
     ]
    },
    {
     "name": "stderr",
     "output_type": "stream",
     "text": [
      "2025-03-10 15:02:24,229 - DEIMTrainer - INFO - Saving checkpoint to outputs/deim_hgnetv2_s_coco/best.pth\n"
     ]
    },
    {
     "name": "stdout",
     "output_type": "stream",
     "text": [
      "Test:  [4/5]  eta: 0:00:00    time: 0.2678  data: 0.1339  max mem: 10586\n",
      "Test: Total time: 0:00:01 (0.2798 s / it)\n",
      "Averaged stats: \n",
      "Accumulating evaluation results...\n",
      "COCOeval_opt.accumulate() finished...\n",
      "DONE (t=0.02s).\n",
      "IoU metric: bbox\n",
      " Average Precision  (AP) @[ IoU=0.50:0.95 | area=   all | maxDets=100 ] = 0.226\n",
      " Average Precision  (AP) @[ IoU=0.50      | area=   all | maxDets=100 ] = 0.377\n",
      " Average Precision  (AP) @[ IoU=0.75      | area=   all | maxDets=100 ] = 0.260\n",
      " Average Precision  (AP) @[ IoU=0.50:0.95 | area= small | maxDets=100 ] = 0.000\n",
      " Average Precision  (AP) @[ IoU=0.50:0.95 | area=medium | maxDets=100 ] = 0.273\n",
      " Average Precision  (AP) @[ IoU=0.50:0.95 | area= large | maxDets=100 ] = 0.237\n",
      " Average Recall     (AR) @[ IoU=0.50:0.95 | area=   all | maxDets=  1 ] = 0.220\n",
      " Average Recall     (AR) @[ IoU=0.50:0.95 | area=   all | maxDets= 10 ] = 0.329\n",
      " Average Recall     (AR) @[ IoU=0.50:0.95 | area=   all | maxDets=100 ] = 0.437\n",
      " Average Recall     (AR) @[ IoU=0.50:0.95 | area= small | maxDets=100 ] = 0.000\n",
      " Average Recall     (AR) @[ IoU=0.50:0.95 | area=medium | maxDets=100 ] = 0.363\n",
      " Average Recall     (AR) @[ IoU=0.50:0.95 | area= large | maxDets=100 ] = 0.644\n",
      " Average Recall     (AR) @[ IoU=0.50      | area=   all | maxDets=100 ] = 0.688\n",
      " Average Recall     (AR) @[ IoU=0.75      | area=   all | maxDets=100 ] = 0.495\n",
      "================================================\n",
      "{'coco_eval_bbox': [0.22647076942360161, 0.3766245854326367, 0.2601682192213845, 0.0, 0.2728723978935306, 0.23658494971913308, 0.22001344172396806, 0.3292140607930082, 0.43739450121029066, 0.0, 0.36306547619047613, 0.6442395549769203]}\n",
      "================================================\n"
     ]
    },
    {
     "name": "stderr",
     "output_type": "stream",
     "text": [
      "2025-03-10 15:02:24,571 - DEIMTrainer - INFO - Checkpoint saved to outputs/deim_hgnetv2_s_coco/best.pth\n",
      "2025-03-10 15:02:24,573 - DEIMTrainer - INFO - Epoch 69 - Train loss: 29.1660, Eval mAP: 0.2265\n",
      "2025-03-10 15:02:24,574 - DEIMTrainer - INFO - Best stats: {'epoch': 69, 'coco_eval_bbox': 0.22647076942360161}\n"
     ]
    },
    {
     "name": "stdout",
     "output_type": "stream",
     "text": [
      "Epoch: [70]  [ 0/15]  eta: 0:00:23  lr: 0.000055  loss: 29.2001 (29.2001)  loss_mal: 1.2217 (1.2217)  loss_bbox: 0.4881 (0.4881)  loss_giou: 0.8704 (0.8704)  loss_fgl: 1.0854 (1.0854)  loss_mal_aux_0: 1.0986 (1.0986)  loss_bbox_aux_0: 0.5086 (0.5086)  loss_giou_aux_0: 0.8988 (0.8988)  loss_fgl_aux_0: 1.0791 (1.0791)  loss_ddf_aux_0: 0.0213 (0.0213)  loss_mal_aux_1: 1.1309 (1.1309)  loss_bbox_aux_1: 0.5063 (0.5063)  loss_giou_aux_1: 0.8940 (0.8940)  loss_fgl_aux_1: 1.0803 (1.0803)  loss_ddf_aux_1: 0.0162 (0.0162)  loss_mal_pre: 1.0947 (1.0947)  loss_bbox_pre: 0.5072 (0.5072)  loss_giou_pre: 0.8994 (0.8994)  loss_mal_enc_0: 1.2734 (1.2734)  loss_bbox_enc_0: 0.5268 (0.5268)  loss_giou_enc_0: 0.9371 (0.9371)  loss_mal_dn_0: 0.6289 (0.6289)  loss_bbox_dn_0: 0.6984 (0.6984)  loss_giou_dn_0: 1.3212 (1.3212)  loss_fgl_dn_0: 0.8230 (0.8230)  loss_ddf_dn_0: 0.0157 (0.0157)  loss_mal_dn_1: 0.6245 (0.6245)  loss_bbox_dn_1: 0.6948 (0.6948)  loss_giou_dn_1: 1.3138 (1.3138)  loss_fgl_dn_1: 0.8272 (0.8272)  loss_ddf_dn_1: 0.0113 (0.0113)  loss_mal_dn_2: 0.6411 (0.6411)  loss_bbox_dn_2: 0.6785 (0.6785)  loss_giou_dn_2: 1.2844 (1.2844)  loss_fgl_dn_2: 0.8393 (0.8393)  loss_mal_dn_pre: 0.6279 (0.6279)  loss_bbox_dn_pre: 0.7085 (0.7085)  loss_giou_dn_pre: 1.3233 (1.3233)  time: 1.5837  data: 1.0854  max mem: 10586\n"
     ]
    },
    {
     "name": "stderr",
     "output_type": "stream",
     "text": [
      "2025-03-10 15:02:31,672 - DEIMTrainer - INFO - Evaluating model...\n"
     ]
    },
    {
     "name": "stdout",
     "output_type": "stream",
     "text": [
      "Epoch: [70]  [14/15]  eta: 0:00:00  lr: 0.000057  loss: 28.8142 (28.8713)  loss_mal: 1.2490 (1.2866)  loss_bbox: 0.3833 (0.3981)  loss_giou: 0.7370 (0.7581)  loss_fgl: 1.1685 (1.1682)  loss_mal_aux_0: 1.2139 (1.2128)  loss_bbox_aux_0: 0.3981 (0.4153)  loss_giou_aux_0: 0.7472 (0.7744)  loss_fgl_aux_0: 1.1681 (1.1670)  loss_ddf_aux_0: 0.0210 (0.0215)  loss_mal_aux_1: 1.2197 (1.2445)  loss_bbox_aux_1: 0.3945 (0.4122)  loss_giou_aux_1: 0.7457 (0.7709)  loss_fgl_aux_1: 1.1681 (1.1670)  loss_ddf_aux_1: 0.0161 (0.0160)  loss_mal_pre: 1.2100 (1.2111)  loss_bbox_pre: 0.3973 (0.4143)  loss_giou_pre: 0.7485 (0.7741)  loss_mal_enc_0: 1.3047 (1.3132)  loss_bbox_enc_0: 0.4195 (0.4375)  loss_giou_enc_0: 0.8146 (0.8313)  loss_mal_dn_0: 0.6411 (0.6408)  loss_bbox_dn_0: 0.6984 (0.7005)  loss_giou_dn_0: 1.2923 (1.2936)  loss_fgl_dn_0: 0.8498 (0.8488)  loss_ddf_dn_0: 0.0174 (0.0170)  loss_mal_dn_1: 0.6421 (0.6411)  loss_bbox_dn_1: 0.6948 (0.6943)  loss_giou_dn_1: 1.2770 (1.2806)  loss_fgl_dn_1: 0.8567 (0.8553)  loss_ddf_dn_1: 0.0122 (0.0126)  loss_mal_dn_2: 0.6587 (0.6590)  loss_bbox_dn_2: 0.6785 (0.6751)  loss_giou_dn_2: 1.2350 (1.2414)  loss_fgl_dn_2: 0.8754 (0.8724)  loss_mal_dn_pre: 0.6392 (0.6402)  loss_bbox_dn_pre: 0.7085 (0.7095)  loss_giou_dn_pre: 1.2937 (1.2953)  time: 0.4682  data: 0.0890  max mem: 10586\n",
      "Epoch: [70] Total time: 0:00:07 (0.4719 s / it)\n",
      "Averaged stats: lr: 0.000057  loss: 28.8142 (28.8713)  loss_mal: 1.2490 (1.2866)  loss_bbox: 0.3833 (0.3981)  loss_giou: 0.7370 (0.7581)  loss_fgl: 1.1685 (1.1682)  loss_mal_aux_0: 1.2139 (1.2128)  loss_bbox_aux_0: 0.3981 (0.4153)  loss_giou_aux_0: 0.7472 (0.7744)  loss_fgl_aux_0: 1.1681 (1.1670)  loss_ddf_aux_0: 0.0210 (0.0215)  loss_mal_aux_1: 1.2197 (1.2445)  loss_bbox_aux_1: 0.3945 (0.4122)  loss_giou_aux_1: 0.7457 (0.7709)  loss_fgl_aux_1: 1.1681 (1.1670)  loss_ddf_aux_1: 0.0161 (0.0160)  loss_mal_pre: 1.2100 (1.2111)  loss_bbox_pre: 0.3973 (0.4143)  loss_giou_pre: 0.7485 (0.7741)  loss_mal_enc_0: 1.3047 (1.3132)  loss_bbox_enc_0: 0.4195 (0.4375)  loss_giou_enc_0: 0.8146 (0.8313)  loss_mal_dn_0: 0.6411 (0.6408)  loss_bbox_dn_0: 0.6984 (0.7005)  loss_giou_dn_0: 1.2923 (1.2936)  loss_fgl_dn_0: 0.8498 (0.8488)  loss_ddf_dn_0: 0.0174 (0.0170)  loss_mal_dn_1: 0.6421 (0.6411)  loss_bbox_dn_1: 0.6948 (0.6943)  loss_giou_dn_1: 1.2770 (1.2806)  loss_fgl_dn_1: 0.8567 (0.8553)  loss_ddf_dn_1: 0.0122 (0.0126)  loss_mal_dn_2: 0.6587 (0.6590)  loss_bbox_dn_2: 0.6785 (0.6751)  loss_giou_dn_2: 1.2350 (1.2414)  loss_fgl_dn_2: 0.8754 (0.8724)  loss_mal_dn_pre: 0.6392 (0.6402)  loss_bbox_dn_pre: 0.7085 (0.7095)  loss_giou_dn_pre: 1.2937 (1.2953)\n",
      "Test:  [0/5]  eta: 0:00:04    time: 0.9030  data: 0.6249  max mem: 10586\n"
     ]
    },
    {
     "name": "stderr",
     "output_type": "stream",
     "text": [
      "2025-03-10 15:02:33,128 - DEIMTrainer - INFO - Epoch 70 - Train loss: 28.8713, Eval mAP: 0.2099\n",
      "2025-03-10 15:02:33,128 - DEIMTrainer - INFO - Best stats: {'epoch': 69, 'coco_eval_bbox': 0.22647076942360161}\n"
     ]
    },
    {
     "name": "stdout",
     "output_type": "stream",
     "text": [
      "Test:  [4/5]  eta: 0:00:00    time: 0.2714  data: 0.1374  max mem: 10586\n",
      "Test: Total time: 0:00:01 (0.2848 s / it)\n",
      "Averaged stats: \n",
      "Accumulating evaluation results...\n",
      "COCOeval_opt.accumulate() finished...\n",
      "DONE (t=0.02s).\n",
      "IoU metric: bbox\n",
      " Average Precision  (AP) @[ IoU=0.50:0.95 | area=   all | maxDets=100 ] = 0.210\n",
      " Average Precision  (AP) @[ IoU=0.50      | area=   all | maxDets=100 ] = 0.393\n",
      " Average Precision  (AP) @[ IoU=0.75      | area=   all | maxDets=100 ] = 0.226\n",
      " Average Precision  (AP) @[ IoU=0.50:0.95 | area= small | maxDets=100 ] = 0.042\n",
      " Average Precision  (AP) @[ IoU=0.50:0.95 | area=medium | maxDets=100 ] = 0.320\n",
      " Average Precision  (AP) @[ IoU=0.50:0.95 | area= large | maxDets=100 ] = 0.207\n",
      " Average Recall     (AR) @[ IoU=0.50:0.95 | area=   all | maxDets=  1 ] = 0.225\n",
      " Average Recall     (AR) @[ IoU=0.50:0.95 | area=   all | maxDets= 10 ] = 0.355\n",
      " Average Recall     (AR) @[ IoU=0.50:0.95 | area=   all | maxDets=100 ] = 0.469\n",
      " Average Recall     (AR) @[ IoU=0.50:0.95 | area= small | maxDets=100 ] = 0.040\n",
      " Average Recall     (AR) @[ IoU=0.50:0.95 | area=medium | maxDets=100 ] = 0.418\n",
      " Average Recall     (AR) @[ IoU=0.50:0.95 | area= large | maxDets=100 ] = 0.612\n",
      " Average Recall     (AR) @[ IoU=0.50      | area=   all | maxDets=100 ] = 0.784\n",
      " Average Recall     (AR) @[ IoU=0.75      | area=   all | maxDets=100 ] = 0.492\n",
      "================================================\n",
      "{'coco_eval_bbox': [0.20987082089804784, 0.3927208617242269, 0.22586922957333108, 0.041584158415841586, 0.3202610274860258, 0.20701191915657868, 0.22546831823147612, 0.3546954994323416, 0.4688018122228649, 0.04, 0.41803571428571434, 0.611621099143883]}\n",
      "================================================\n",
      "Epoch: [71]  [ 0/15]  eta: 0:00:26  lr: 0.000057  loss: 27.8574 (27.8574)  loss_mal: 1.2188 (1.2188)  loss_bbox: 0.3180 (0.3180)  loss_giou: 0.7398 (0.7398)  loss_fgl: 1.1605 (1.1605)  loss_mal_aux_0: 1.1650 (1.1650)  loss_bbox_aux_0: 0.3331 (0.3331)  loss_giou_aux_0: 0.7508 (0.7508)  loss_fgl_aux_0: 1.1624 (1.1624)  loss_ddf_aux_0: 0.0244 (0.0244)  loss_mal_aux_1: 1.2070 (1.2070)  loss_bbox_aux_1: 0.3289 (0.3289)  loss_giou_aux_1: 0.7466 (0.7466)  loss_fgl_aux_1: 1.1612 (1.1612)  loss_ddf_aux_1: 0.0171 (0.0171)  loss_mal_pre: 1.1650 (1.1650)  loss_bbox_pre: 0.3334 (0.3334)  loss_giou_pre: 0.7523 (0.7523)  loss_mal_enc_0: 1.2607 (1.2607)  loss_bbox_enc_0: 0.3542 (0.3542)  loss_giou_enc_0: 0.8173 (0.8173)  loss_mal_dn_0: 0.6509 (0.6509)  loss_bbox_dn_0: 0.6471 (0.6471)  loss_giou_dn_0: 1.2675 (1.2675)  loss_fgl_dn_0: 0.8672 (0.8672)  loss_ddf_dn_0: 0.0189 (0.0189)  loss_mal_dn_1: 0.6519 (0.6519)  loss_bbox_dn_1: 0.6385 (0.6385)  loss_giou_dn_1: 1.2489 (1.2489)  loss_fgl_dn_1: 0.8755 (0.8755)  loss_ddf_dn_1: 0.0127 (0.0127)  loss_mal_dn_2: 0.6724 (0.6724)  loss_bbox_dn_2: 0.6132 (0.6132)  loss_giou_dn_2: 1.1999 (1.1999)  loss_fgl_dn_2: 0.8958 (0.8958)  loss_mal_dn_pre: 0.6489 (0.6489)  loss_bbox_dn_pre: 0.6589 (0.6589)  loss_giou_dn_pre: 1.2725 (1.2725)  time: 1.7405  data: 1.2627  max mem: 10586\n"
     ]
    },
    {
     "name": "stderr",
     "output_type": "stream",
     "text": [
      "2025-03-10 15:02:40,260 - DEIMTrainer - INFO - Saving checkpoint to outputs/deim_hgnetv2_s_coco/checkpoint0071.pth\n"
     ]
    },
    {
     "name": "stdout",
     "output_type": "stream",
     "text": [
      "Epoch: [71]  [14/15]  eta: 0:00:00  lr: 0.000058  loss: 28.5710 (28.8292)  loss_mal: 1.3154 (1.3123)  loss_bbox: 0.3775 (0.3804)  loss_giou: 0.6950 (0.6946)  loss_fgl: 1.1929 (1.1907)  loss_mal_aux_0: 1.1943 (1.2332)  loss_bbox_aux_0: 0.3872 (0.4020)  loss_giou_aux_0: 0.6984 (0.7165)  loss_fgl_aux_0: 1.1896 (1.1916)  loss_ddf_aux_0: 0.0246 (0.0248)  loss_mal_aux_1: 1.2451 (1.2729)  loss_bbox_aux_1: 0.3802 (0.3952)  loss_giou_aux_1: 0.6943 (0.7088)  loss_fgl_aux_1: 1.1911 (1.1912)  loss_ddf_aux_1: 0.0152 (0.0151)  loss_mal_pre: 1.1914 (1.2296)  loss_bbox_pre: 0.3883 (0.4029)  loss_giou_pre: 0.7058 (0.7167)  loss_mal_enc_0: 1.3145 (1.3232)  loss_bbox_enc_0: 0.4253 (0.4347)  loss_giou_enc_0: 0.7776 (0.7873)  loss_mal_dn_0: 0.6519 (0.6519)  loss_bbox_dn_0: 0.7402 (0.7392)  loss_giou_dn_0: 1.2716 (1.2664)  loss_fgl_dn_0: 0.8672 (0.8691)  loss_ddf_dn_0: 0.0227 (0.0222)  loss_mal_dn_1: 0.6548 (0.6552)  loss_bbox_dn_1: 0.7198 (0.7255)  loss_giou_dn_1: 1.2482 (1.2425)  loss_fgl_dn_1: 0.8779 (0.8806)  loss_ddf_dn_1: 0.0129 (0.0133)  loss_mal_dn_2: 0.6787 (0.6776)  loss_bbox_dn_2: 0.6834 (0.6979)  loss_giou_dn_2: 1.1989 (1.1906)  loss_fgl_dn_2: 0.8972 (0.9007)  loss_mal_dn_pre: 0.6514 (0.6507)  loss_bbox_dn_pre: 0.7558 (0.7521)  loss_giou_dn_pre: 1.2743 (1.2696)  time: 0.4703  data: 0.0995  max mem: 10586\n",
      "Epoch: [71] Total time: 0:00:07 (0.4739 s / it)\n",
      "Averaged stats: lr: 0.000058  loss: 28.5710 (28.8292)  loss_mal: 1.3154 (1.3123)  loss_bbox: 0.3775 (0.3804)  loss_giou: 0.6950 (0.6946)  loss_fgl: 1.1929 (1.1907)  loss_mal_aux_0: 1.1943 (1.2332)  loss_bbox_aux_0: 0.3872 (0.4020)  loss_giou_aux_0: 0.6984 (0.7165)  loss_fgl_aux_0: 1.1896 (1.1916)  loss_ddf_aux_0: 0.0246 (0.0248)  loss_mal_aux_1: 1.2451 (1.2729)  loss_bbox_aux_1: 0.3802 (0.3952)  loss_giou_aux_1: 0.6943 (0.7088)  loss_fgl_aux_1: 1.1911 (1.1912)  loss_ddf_aux_1: 0.0152 (0.0151)  loss_mal_pre: 1.1914 (1.2296)  loss_bbox_pre: 0.3883 (0.4029)  loss_giou_pre: 0.7058 (0.7167)  loss_mal_enc_0: 1.3145 (1.3232)  loss_bbox_enc_0: 0.4253 (0.4347)  loss_giou_enc_0: 0.7776 (0.7873)  loss_mal_dn_0: 0.6519 (0.6519)  loss_bbox_dn_0: 0.7402 (0.7392)  loss_giou_dn_0: 1.2716 (1.2664)  loss_fgl_dn_0: 0.8672 (0.8691)  loss_ddf_dn_0: 0.0227 (0.0222)  loss_mal_dn_1: 0.6548 (0.6552)  loss_bbox_dn_1: 0.7198 (0.7255)  loss_giou_dn_1: 1.2482 (1.2425)  loss_fgl_dn_1: 0.8779 (0.8806)  loss_ddf_dn_1: 0.0129 (0.0133)  loss_mal_dn_2: 0.6787 (0.6776)  loss_bbox_dn_2: 0.6834 (0.6979)  loss_giou_dn_2: 1.1989 (1.1906)  loss_fgl_dn_2: 0.8972 (0.9007)  loss_mal_dn_pre: 0.6514 (0.6507)  loss_bbox_dn_pre: 0.7558 (0.7521)  loss_giou_dn_pre: 1.2743 (1.2696)\n"
     ]
    },
    {
     "name": "stderr",
     "output_type": "stream",
     "text": [
      "2025-03-10 15:02:40,572 - DEIMTrainer - INFO - Checkpoint saved to outputs/deim_hgnetv2_s_coco/checkpoint0071.pth\n",
      "2025-03-10 15:02:40,574 - DEIMTrainer - INFO - Evaluating model...\n"
     ]
    },
    {
     "name": "stdout",
     "output_type": "stream",
     "text": [
      "Test:  [0/5]  eta: 0:00:04    time: 0.9374  data: 0.6614  max mem: 10586\n"
     ]
    },
    {
     "name": "stderr",
     "output_type": "stream",
     "text": [
      "2025-03-10 15:02:42,062 - DEIMTrainer - INFO - Saving checkpoint to outputs/deim_hgnetv2_s_coco/best.pth\n"
     ]
    },
    {
     "name": "stdout",
     "output_type": "stream",
     "text": [
      "Test:  [4/5]  eta: 0:00:00    time: 0.2809  data: 0.1455  max mem: 10586\n",
      "Test: Total time: 0:00:01 (0.2916 s / it)\n",
      "Averaged stats: \n",
      "Accumulating evaluation results...\n",
      "COCOeval_opt.accumulate() finished...\n",
      "DONE (t=0.02s).\n",
      "IoU metric: bbox\n",
      " Average Precision  (AP) @[ IoU=0.50:0.95 | area=   all | maxDets=100 ] = 0.242\n",
      " Average Precision  (AP) @[ IoU=0.50      | area=   all | maxDets=100 ] = 0.420\n",
      " Average Precision  (AP) @[ IoU=0.75      | area=   all | maxDets=100 ] = 0.246\n",
      " Average Precision  (AP) @[ IoU=0.50:0.95 | area= small | maxDets=100 ] = 0.088\n",
      " Average Precision  (AP) @[ IoU=0.50:0.95 | area=medium | maxDets=100 ] = 0.376\n",
      " Average Precision  (AP) @[ IoU=0.50:0.95 | area= large | maxDets=100 ] = 0.207\n",
      " Average Recall     (AR) @[ IoU=0.50:0.95 | area=   all | maxDets=  1 ] = 0.268\n",
      " Average Recall     (AR) @[ IoU=0.50:0.95 | area=   all | maxDets= 10 ] = 0.465\n",
      " Average Recall     (AR) @[ IoU=0.50:0.95 | area=   all | maxDets=100 ] = 0.590\n",
      " Average Recall     (AR) @[ IoU=0.50:0.95 | area= small | maxDets=100 ] = 0.200\n",
      " Average Recall     (AR) @[ IoU=0.50:0.95 | area=medium | maxDets=100 ] = 0.560\n",
      " Average Recall     (AR) @[ IoU=0.50:0.95 | area= large | maxDets=100 ] = 0.610\n",
      " Average Recall     (AR) @[ IoU=0.50      | area=   all | maxDets=100 ] = 0.919\n",
      " Average Recall     (AR) @[ IoU=0.75      | area=   all | maxDets=100 ] = 0.622\n",
      "================================================\n",
      "{'coco_eval_bbox': [0.24166071473012338, 0.4202570223838876, 0.2455917906863932, 0.08828382838283828, 0.3755435501373066, 0.20663918274852747, 0.26769594927489665, 0.4646793265214318, 0.5900110854058223, 0.2, 0.5596130952380952, 0.6103041780092318]}\n",
      "================================================\n"
     ]
    },
    {
     "name": "stderr",
     "output_type": "stream",
     "text": [
      "2025-03-10 15:02:42,473 - DEIMTrainer - INFO - Checkpoint saved to outputs/deim_hgnetv2_s_coco/best.pth\n",
      "2025-03-10 15:02:42,475 - DEIMTrainer - INFO - Epoch 71 - Train loss: 28.8292, Eval mAP: 0.2417\n",
      "2025-03-10 15:02:42,475 - DEIMTrainer - INFO - Best stats: {'epoch': 71, 'coco_eval_bbox': 0.24166071473012338}\n"
     ]
    },
    {
     "name": "stdout",
     "output_type": "stream",
     "text": [
      "Epoch: [72]  [ 0/15]  eta: 0:00:25  lr: 0.000058  loss: 28.0654 (28.0654)  loss_mal: 1.2422 (1.2422)  loss_bbox: 0.3671 (0.3671)  loss_giou: 0.7301 (0.7301)  loss_fgl: 1.1646 (1.1646)  loss_mal_aux_0: 1.1377 (1.1377)  loss_bbox_aux_0: 0.3787 (0.3787)  loss_giou_aux_0: 0.7550 (0.7550)  loss_fgl_aux_0: 1.1587 (1.1587)  loss_ddf_aux_0: 0.0302 (0.0302)  loss_mal_aux_1: 1.1621 (1.1621)  loss_bbox_aux_1: 0.3763 (0.3763)  loss_giou_aux_1: 0.7484 (0.7484)  loss_fgl_aux_1: 1.1603 (1.1603)  loss_ddf_aux_1: 0.0162 (0.0162)  loss_mal_pre: 1.1377 (1.1377)  loss_bbox_pre: 0.3805 (0.3805)  loss_giou_pre: 0.7565 (0.7565)  loss_mal_enc_0: 1.1855 (1.1855)  loss_bbox_enc_0: 0.4109 (0.4109)  loss_giou_enc_0: 0.8199 (0.8199)  loss_mal_dn_0: 0.6641 (0.6641)  loss_bbox_dn_0: 0.6723 (0.6723)  loss_giou_dn_0: 1.2420 (1.2420)  loss_fgl_dn_0: 0.8908 (0.8908)  loss_ddf_dn_0: 0.0293 (0.0293)  loss_mal_dn_1: 0.6724 (0.6724)  loss_bbox_dn_1: 0.6548 (0.6548)  loss_giou_dn_1: 1.2052 (1.2052)  loss_fgl_dn_1: 0.9097 (0.9097)  loss_ddf_dn_1: 0.0154 (0.0154)  loss_mal_dn_2: 0.6924 (0.6924)  loss_bbox_dn_2: 0.6301 (0.6301)  loss_giou_dn_2: 1.1445 (1.1445)  loss_fgl_dn_2: 0.9341 (0.9341)  loss_mal_dn_pre: 0.6626 (0.6626)  loss_bbox_dn_pre: 0.6827 (0.6827)  loss_giou_dn_pre: 1.2443 (1.2443)  time: 1.7042  data: 1.2524  max mem: 10586\n"
     ]
    },
    {
     "name": "stderr",
     "output_type": "stream",
     "text": [
      "2025-03-10 15:02:49,766 - DEIMTrainer - INFO - Evaluating model...\n"
     ]
    },
    {
     "name": "stdout",
     "output_type": "stream",
     "text": [
      "Epoch: [72]  [14/15]  eta: 0:00:00  lr: 0.000060  loss: 28.5590 (28.5045)  loss_mal: 1.3145 (1.3362)  loss_bbox: 0.3464 (0.3539)  loss_giou: 0.6854 (0.6813)  loss_fgl: 1.1947 (1.1903)  loss_mal_aux_0: 1.2129 (1.2298)  loss_bbox_aux_0: 0.3787 (0.3882)  loss_giou_aux_0: 0.7224 (0.7173)  loss_fgl_aux_0: 1.1992 (1.1927)  loss_ddf_aux_0: 0.0402 (0.0420)  loss_mal_aux_1: 1.2480 (1.2772)  loss_bbox_aux_1: 0.3657 (0.3735)  loss_giou_aux_1: 0.6964 (0.7017)  loss_fgl_aux_1: 1.1964 (1.1913)  loss_ddf_aux_1: 0.0194 (0.0196)  loss_mal_pre: 1.2139 (1.2295)  loss_bbox_pre: 0.3805 (0.3883)  loss_giou_pre: 0.7207 (0.7165)  loss_mal_enc_0: 1.3145 (1.3020)  loss_bbox_enc_0: 0.4159 (0.4273)  loss_giou_enc_0: 0.7917 (0.7878)  loss_mal_dn_0: 0.6641 (0.6654)  loss_bbox_dn_0: 0.6878 (0.6799)  loss_giou_dn_0: 1.2418 (1.2432)  loss_fgl_dn_0: 0.8887 (0.8886)  loss_ddf_dn_0: 0.0354 (0.0368)  loss_mal_dn_1: 0.6709 (0.6723)  loss_bbox_dn_1: 0.6641 (0.6582)  loss_giou_dn_1: 1.1996 (1.1995)  loss_fgl_dn_1: 0.9089 (0.9088)  loss_ddf_dn_1: 0.0169 (0.0178)  loss_mal_dn_2: 0.6885 (0.6905)  loss_bbox_dn_2: 0.6342 (0.6262)  loss_giou_dn_2: 1.1417 (1.1361)  loss_fgl_dn_2: 0.9306 (0.9313)  loss_mal_dn_pre: 0.6611 (0.6615)  loss_bbox_dn_pre: 0.6980 (0.6919)  loss_giou_dn_pre: 1.2473 (1.2502)  time: 0.4798  data: 0.0974  max mem: 10586\n",
      "Epoch: [72] Total time: 0:00:07 (0.4847 s / it)\n",
      "Averaged stats: lr: 0.000060  loss: 28.5590 (28.5045)  loss_mal: 1.3145 (1.3362)  loss_bbox: 0.3464 (0.3539)  loss_giou: 0.6854 (0.6813)  loss_fgl: 1.1947 (1.1903)  loss_mal_aux_0: 1.2129 (1.2298)  loss_bbox_aux_0: 0.3787 (0.3882)  loss_giou_aux_0: 0.7224 (0.7173)  loss_fgl_aux_0: 1.1992 (1.1927)  loss_ddf_aux_0: 0.0402 (0.0420)  loss_mal_aux_1: 1.2480 (1.2772)  loss_bbox_aux_1: 0.3657 (0.3735)  loss_giou_aux_1: 0.6964 (0.7017)  loss_fgl_aux_1: 1.1964 (1.1913)  loss_ddf_aux_1: 0.0194 (0.0196)  loss_mal_pre: 1.2139 (1.2295)  loss_bbox_pre: 0.3805 (0.3883)  loss_giou_pre: 0.7207 (0.7165)  loss_mal_enc_0: 1.3145 (1.3020)  loss_bbox_enc_0: 0.4159 (0.4273)  loss_giou_enc_0: 0.7917 (0.7878)  loss_mal_dn_0: 0.6641 (0.6654)  loss_bbox_dn_0: 0.6878 (0.6799)  loss_giou_dn_0: 1.2418 (1.2432)  loss_fgl_dn_0: 0.8887 (0.8886)  loss_ddf_dn_0: 0.0354 (0.0368)  loss_mal_dn_1: 0.6709 (0.6723)  loss_bbox_dn_1: 0.6641 (0.6582)  loss_giou_dn_1: 1.1996 (1.1995)  loss_fgl_dn_1: 0.9089 (0.9088)  loss_ddf_dn_1: 0.0169 (0.0178)  loss_mal_dn_2: 0.6885 (0.6905)  loss_bbox_dn_2: 0.6342 (0.6262)  loss_giou_dn_2: 1.1417 (1.1361)  loss_fgl_dn_2: 0.9306 (0.9313)  loss_mal_dn_pre: 0.6611 (0.6615)  loss_bbox_dn_pre: 0.6980 (0.6919)  loss_giou_dn_pre: 1.2473 (1.2502)\n",
      "Test:  [0/5]  eta: 0:00:04    time: 0.8339  data: 0.7248  max mem: 10586\n"
     ]
    },
    {
     "name": "stderr",
     "output_type": "stream",
     "text": [
      "2025-03-10 15:02:51,395 - DEIMTrainer - INFO - Saving checkpoint to outputs/deim_hgnetv2_s_coco/best.pth\n"
     ]
    },
    {
     "name": "stdout",
     "output_type": "stream",
     "text": [
      "Test:  [4/5]  eta: 0:00:00    time: 0.3071  data: 0.1585  max mem: 10586\n",
      "Test: Total time: 0:00:01 (0.3195 s / it)\n",
      "Averaged stats: \n",
      "Accumulating evaluation results...\n",
      "COCOeval_opt.accumulate() finished...\n",
      "DONE (t=0.02s).\n",
      "IoU metric: bbox\n",
      " Average Precision  (AP) @[ IoU=0.50:0.95 | area=   all | maxDets=100 ] = 0.260\n",
      " Average Precision  (AP) @[ IoU=0.50      | area=   all | maxDets=100 ] = 0.442\n",
      " Average Precision  (AP) @[ IoU=0.75      | area=   all | maxDets=100 ] = 0.282\n",
      " Average Precision  (AP) @[ IoU=0.50:0.95 | area= small | maxDets=100 ] = 0.016\n",
      " Average Precision  (AP) @[ IoU=0.50:0.95 | area=medium | maxDets=100 ] = 0.415\n",
      " Average Precision  (AP) @[ IoU=0.50:0.95 | area= large | maxDets=100 ] = 0.253\n",
      " Average Recall     (AR) @[ IoU=0.50:0.95 | area=   all | maxDets=  1 ] = 0.278\n",
      " Average Recall     (AR) @[ IoU=0.50:0.95 | area=   all | maxDets= 10 ] = 0.489\n",
      " Average Recall     (AR) @[ IoU=0.50:0.95 | area=   all | maxDets=100 ] = 0.643\n",
      " Average Recall     (AR) @[ IoU=0.50:0.95 | area= small | maxDets=100 ] = 0.300\n",
      " Average Recall     (AR) @[ IoU=0.50:0.95 | area=medium | maxDets=100 ] = 0.661\n",
      " Average Recall     (AR) @[ IoU=0.50:0.95 | area= large | maxDets=100 ] = 0.753\n",
      " Average Recall     (AR) @[ IoU=0.50      | area=   all | maxDets=100 ] = 0.968\n",
      " Average Recall     (AR) @[ IoU=0.75      | area=   all | maxDets=100 ] = 0.724\n",
      "================================================\n",
      "{'coco_eval_bbox': [0.25954927722778504, 0.44165209160317404, 0.28231778560634285, 0.016086214273409626, 0.4154111631249487, 0.2527103738147497, 0.2779196923933766, 0.48865325707430973, 0.6430445772551037, 0.3, 0.6608928571428572, 0.7526594863297432]}\n",
      "================================================\n"
     ]
    },
    {
     "name": "stderr",
     "output_type": "stream",
     "text": [
      "2025-03-10 15:02:51,774 - DEIMTrainer - INFO - Checkpoint saved to outputs/deim_hgnetv2_s_coco/best.pth\n",
      "2025-03-10 15:02:51,777 - DEIMTrainer - INFO - Epoch 72 - Train loss: 28.5045, Eval mAP: 0.2595\n",
      "2025-03-10 15:02:51,778 - DEIMTrainer - INFO - Best stats: {'epoch': 72, 'coco_eval_bbox': 0.25954927722778504}\n"
     ]
    },
    {
     "name": "stdout",
     "output_type": "stream",
     "text": [
      "Epoch: [73]  [ 0/15]  eta: 0:00:25  lr: 0.000060  loss: 28.7153 (28.7153)  loss_mal: 1.3359 (1.3359)  loss_bbox: 0.3726 (0.3726)  loss_giou: 0.6365 (0.6365)  loss_fgl: 1.2145 (1.2145)  loss_mal_aux_0: 1.2646 (1.2646)  loss_bbox_aux_0: 0.3982 (0.3982)  loss_giou_aux_0: 0.6663 (0.6663)  loss_fgl_aux_0: 1.2110 (1.2110)  loss_ddf_aux_0: 0.0643 (0.0643)  loss_mal_aux_1: 1.3203 (1.3203)  loss_bbox_aux_1: 0.3857 (0.3857)  loss_giou_aux_1: 0.6523 (0.6523)  loss_fgl_aux_1: 1.2106 (1.2106)  loss_ddf_aux_1: 0.0260 (0.0260)  loss_mal_pre: 1.2637 (1.2637)  loss_bbox_pre: 0.3961 (0.3961)  loss_giou_pre: 0.6637 (0.6637)  loss_mal_enc_0: 1.2725 (1.2725)  loss_bbox_enc_0: 0.4373 (0.4373)  loss_giou_enc_0: 0.7367 (0.7367)  loss_mal_dn_0: 0.6763 (0.6763)  loss_bbox_dn_0: 0.7257 (0.7257)  loss_giou_dn_0: 1.2277 (1.2277)  loss_fgl_dn_0: 0.9041 (0.9041)  loss_ddf_dn_0: 0.0592 (0.0592)  loss_mal_dn_1: 0.6924 (0.6924)  loss_bbox_dn_1: 0.6993 (0.6993)  loss_giou_dn_1: 1.1682 (1.1682)  loss_fgl_dn_1: 0.9318 (0.9318)  loss_ddf_dn_1: 0.0264 (0.0264)  loss_mal_dn_2: 0.7104 (0.7104)  loss_bbox_dn_2: 0.6663 (0.6663)  loss_giou_dn_2: 1.0997 (1.0997)  loss_fgl_dn_2: 0.9581 (0.9581)  loss_mal_dn_pre: 0.6709 (0.6709)  loss_bbox_dn_pre: 0.7349 (0.7349)  loss_giou_dn_pre: 1.2352 (1.2352)  time: 1.7215  data: 1.2724  max mem: 10586\n"
     ]
    },
    {
     "name": "stderr",
     "output_type": "stream",
     "text": [
      "2025-03-10 15:02:59,186 - DEIMTrainer - INFO - Evaluating model...\n"
     ]
    },
    {
     "name": "stdout",
     "output_type": "stream",
     "text": [
      "Epoch: [73]  [14/15]  eta: 0:00:00  lr: 0.000061  loss: 28.1398 (28.3869)  loss_mal: 1.3682 (1.3953)  loss_bbox: 0.3286 (0.3258)  loss_giou: 0.6079 (0.6126)  loss_fgl: 1.2145 (1.2137)  loss_mal_aux_0: 1.2881 (1.2740)  loss_bbox_aux_0: 0.3586 (0.3643)  loss_giou_aux_0: 0.6412 (0.6505)  loss_fgl_aux_0: 1.2188 (1.2174)  loss_ddf_aux_0: 0.0653 (0.0696)  loss_mal_aux_1: 1.3662 (1.3421)  loss_bbox_aux_1: 0.3354 (0.3397)  loss_giou_aux_1: 0.6191 (0.6258)  loss_fgl_aux_1: 1.2120 (1.2148)  loss_ddf_aux_1: 0.0238 (0.0244)  loss_mal_pre: 1.2822 (1.2704)  loss_bbox_pre: 0.3599 (0.3641)  loss_giou_pre: 0.6421 (0.6510)  loss_mal_enc_0: 1.3252 (1.3352)  loss_bbox_enc_0: 0.4150 (0.4177)  loss_giou_enc_0: 0.7256 (0.7391)  loss_mal_dn_0: 0.6870 (0.6860)  loss_bbox_dn_0: 0.6849 (0.6732)  loss_giou_dn_0: 1.2040 (1.2036)  loss_fgl_dn_0: 0.9232 (0.9231)  loss_ddf_dn_0: 0.0646 (0.0672)  loss_mal_dn_1: 0.6929 (0.6945)  loss_bbox_dn_1: 0.6508 (0.6405)  loss_giou_dn_1: 1.1358 (1.1325)  loss_fgl_dn_1: 0.9531 (0.9487)  loss_ddf_dn_1: 0.0259 (0.0261)  loss_mal_dn_2: 0.7207 (0.7163)  loss_bbox_dn_2: 0.6236 (0.6130)  loss_giou_dn_2: 1.0713 (1.0679)  loss_fgl_dn_2: 0.9734 (0.9709)  loss_mal_dn_pre: 0.6812 (0.6800)  loss_bbox_dn_pre: 0.6975 (0.6832)  loss_giou_dn_pre: 1.2119 (1.2126)  time: 0.4878  data: 0.1018  max mem: 10586\n",
      "Epoch: [73] Total time: 0:00:07 (0.4922 s / it)\n",
      "Averaged stats: lr: 0.000061  loss: 28.1398 (28.3869)  loss_mal: 1.3682 (1.3953)  loss_bbox: 0.3286 (0.3258)  loss_giou: 0.6079 (0.6126)  loss_fgl: 1.2145 (1.2137)  loss_mal_aux_0: 1.2881 (1.2740)  loss_bbox_aux_0: 0.3586 (0.3643)  loss_giou_aux_0: 0.6412 (0.6505)  loss_fgl_aux_0: 1.2188 (1.2174)  loss_ddf_aux_0: 0.0653 (0.0696)  loss_mal_aux_1: 1.3662 (1.3421)  loss_bbox_aux_1: 0.3354 (0.3397)  loss_giou_aux_1: 0.6191 (0.6258)  loss_fgl_aux_1: 1.2120 (1.2148)  loss_ddf_aux_1: 0.0238 (0.0244)  loss_mal_pre: 1.2822 (1.2704)  loss_bbox_pre: 0.3599 (0.3641)  loss_giou_pre: 0.6421 (0.6510)  loss_mal_enc_0: 1.3252 (1.3352)  loss_bbox_enc_0: 0.4150 (0.4177)  loss_giou_enc_0: 0.7256 (0.7391)  loss_mal_dn_0: 0.6870 (0.6860)  loss_bbox_dn_0: 0.6849 (0.6732)  loss_giou_dn_0: 1.2040 (1.2036)  loss_fgl_dn_0: 0.9232 (0.9231)  loss_ddf_dn_0: 0.0646 (0.0672)  loss_mal_dn_1: 0.6929 (0.6945)  loss_bbox_dn_1: 0.6508 (0.6405)  loss_giou_dn_1: 1.1358 (1.1325)  loss_fgl_dn_1: 0.9531 (0.9487)  loss_ddf_dn_1: 0.0259 (0.0261)  loss_mal_dn_2: 0.7207 (0.7163)  loss_bbox_dn_2: 0.6236 (0.6130)  loss_giou_dn_2: 1.0713 (1.0679)  loss_fgl_dn_2: 0.9734 (0.9709)  loss_mal_dn_pre: 0.6812 (0.6800)  loss_bbox_dn_pre: 0.6975 (0.6832)  loss_giou_dn_pre: 1.2119 (1.2126)\n",
      "Test:  [0/5]  eta: 0:00:04    time: 0.8061  data: 0.6904  max mem: 10586\n"
     ]
    },
    {
     "name": "stderr",
     "output_type": "stream",
     "text": [
      "2025-03-10 15:03:00,729 - DEIMTrainer - INFO - Saving checkpoint to outputs/deim_hgnetv2_s_coco/best.pth\n"
     ]
    },
    {
     "name": "stdout",
     "output_type": "stream",
     "text": [
      "Test:  [4/5]  eta: 0:00:00    time: 0.2925  data: 0.1506  max mem: 10586\n",
      "Test: Total time: 0:00:01 (0.3025 s / it)\n",
      "Averaged stats: \n",
      "Accumulating evaluation results...\n",
      "COCOeval_opt.accumulate() finished...\n",
      "DONE (t=0.02s).\n",
      "IoU metric: bbox\n",
      " Average Precision  (AP) @[ IoU=0.50:0.95 | area=   all | maxDets=100 ] = 0.262\n",
      " Average Precision  (AP) @[ IoU=0.50      | area=   all | maxDets=100 ] = 0.415\n",
      " Average Precision  (AP) @[ IoU=0.75      | area=   all | maxDets=100 ] = 0.297\n",
      " Average Precision  (AP) @[ IoU=0.50:0.95 | area= small | maxDets=100 ] = 0.031\n",
      " Average Precision  (AP) @[ IoU=0.50:0.95 | area=medium | maxDets=100 ] = 0.324\n",
      " Average Precision  (AP) @[ IoU=0.50:0.95 | area= large | maxDets=100 ] = 0.238\n",
      " Average Recall     (AR) @[ IoU=0.50:0.95 | area=   all | maxDets=  1 ] = 0.307\n",
      " Average Recall     (AR) @[ IoU=0.50:0.95 | area=   all | maxDets= 10 ] = 0.493\n",
      " Average Recall     (AR) @[ IoU=0.50:0.95 | area=   all | maxDets=100 ] = 0.660\n",
      " Average Recall     (AR) @[ IoU=0.50:0.95 | area= small | maxDets=100 ] = 0.300\n",
      " Average Recall     (AR) @[ IoU=0.50:0.95 | area=medium | maxDets=100 ] = 0.599\n",
      " Average Recall     (AR) @[ IoU=0.50:0.95 | area= large | maxDets=100 ] = 0.727\n",
      " Average Recall     (AR) @[ IoU=0.50      | area=   all | maxDets=100 ] = 0.971\n",
      " Average Recall     (AR) @[ IoU=0.75      | area=   all | maxDets=100 ] = 0.738\n",
      "================================================\n",
      "{'coco_eval_bbox': [0.2621973640943854, 0.41523214528026947, 0.29692241456161705, 0.031407623520972795, 0.32394297277363976, 0.2376717386513564, 0.3066801619433199, 0.4932178201915044, 0.6600609429556797, 0.3, 0.5990773809523808, 0.7274517694401704]}\n",
      "================================================\n"
     ]
    },
    {
     "name": "stderr",
     "output_type": "stream",
     "text": [
      "2025-03-10 15:03:01,132 - DEIMTrainer - INFO - Checkpoint saved to outputs/deim_hgnetv2_s_coco/best.pth\n",
      "2025-03-10 15:03:01,135 - DEIMTrainer - INFO - Epoch 73 - Train loss: 28.3869, Eval mAP: 0.2622\n",
      "2025-03-10 15:03:01,135 - DEIMTrainer - INFO - Best stats: {'epoch': 73, 'coco_eval_bbox': 0.2621973640943854}\n"
     ]
    },
    {
     "name": "stdout",
     "output_type": "stream",
     "text": [
      "Epoch: [74]  [ 0/15]  eta: 0:00:25  lr: 0.000062  loss: 27.2660 (27.2660)  loss_mal: 1.2637 (1.2637)  loss_bbox: 0.2853 (0.2853)  loss_giou: 0.7550 (0.7550)  loss_fgl: 1.1498 (1.1498)  loss_mal_aux_0: 1.1660 (1.1660)  loss_bbox_aux_0: 0.2883 (0.2883)  loss_giou_aux_0: 0.7507 (0.7507)  loss_fgl_aux_0: 1.1398 (1.1398)  loss_ddf_aux_0: 0.0624 (0.0624)  loss_mal_aux_1: 1.2139 (1.2139)  loss_bbox_aux_1: 0.2867 (0.2867)  loss_giou_aux_1: 0.7532 (0.7532)  loss_fgl_aux_1: 1.1423 (1.1423)  loss_ddf_aux_1: 0.0185 (0.0185)  loss_mal_pre: 1.1689 (1.1689)  loss_bbox_pre: 0.2863 (0.2863)  loss_giou_pre: 0.7522 (0.7522)  loss_mal_enc_0: 1.1494 (1.1494)  loss_bbox_enc_0: 0.3261 (0.3261)  loss_giou_enc_0: 0.8337 (0.8337)  loss_mal_dn_0: 0.6816 (0.6816)  loss_bbox_dn_0: 0.5369 (0.5369)  loss_giou_dn_0: 1.2048 (1.2048)  loss_fgl_dn_0: 0.9225 (0.9225)  loss_ddf_dn_0: 0.0845 (0.0845)  loss_mal_dn_1: 0.6919 (0.6919)  loss_bbox_dn_1: 0.5231 (0.5231)  loss_giou_dn_1: 1.1471 (1.1471)  loss_fgl_dn_1: 0.9415 (0.9415)  loss_ddf_dn_1: 0.0268 (0.0268)  loss_mal_dn_2: 0.7095 (0.7095)  loss_bbox_dn_2: 0.5136 (0.5136)  loss_giou_dn_2: 1.1109 (1.1109)  loss_fgl_dn_2: 0.9523 (0.9523)  loss_mal_dn_pre: 0.6768 (0.6768)  loss_bbox_dn_pre: 0.5383 (0.5383)  loss_giou_dn_pre: 1.2118 (1.2118)  time: 1.7318  data: 1.2844  max mem: 10586\n"
     ]
    },
    {
     "name": "stderr",
     "output_type": "stream",
     "text": [
      "2025-03-10 15:03:08,161 - DEIMTrainer - INFO - Evaluating model...\n"
     ]
    },
    {
     "name": "stdout",
     "output_type": "stream",
     "text": [
      "Epoch: [74]  [14/15]  eta: 0:00:00  lr: 0.000063  loss: 28.0739 (28.2875)  loss_mal: 1.3740 (1.3721)  loss_bbox: 0.3108 (0.3257)  loss_giou: 0.6130 (0.6307)  loss_fgl: 1.2195 (1.2130)  loss_mal_aux_0: 1.2676 (1.2796)  loss_bbox_aux_0: 0.3236 (0.3492)  loss_giou_aux_0: 0.6425 (0.6550)  loss_fgl_aux_0: 1.2192 (1.2092)  loss_ddf_aux_0: 0.0774 (0.0749)  loss_mal_aux_1: 1.3643 (1.3507)  loss_bbox_aux_1: 0.3130 (0.3319)  loss_giou_aux_1: 0.6247 (0.6391)  loss_fgl_aux_1: 1.2188 (1.2100)  loss_ddf_aux_1: 0.0204 (0.0210)  loss_mal_pre: 1.2744 (1.2778)  loss_bbox_pre: 0.3239 (0.3480)  loss_giou_pre: 0.6444 (0.6539)  loss_mal_enc_0: 1.2988 (1.3000)  loss_bbox_enc_0: 0.3971 (0.4212)  loss_giou_enc_0: 0.7450 (0.7572)  loss_mal_dn_0: 0.6987 (0.6993)  loss_bbox_dn_0: 0.6587 (0.6603)  loss_giou_dn_0: 1.1678 (1.1730)  loss_fgl_dn_0: 0.9490 (0.9464)  loss_ddf_dn_0: 0.0811 (0.0811)  loss_mal_dn_1: 0.7139 (0.7131)  loss_bbox_dn_1: 0.6165 (0.6210)  loss_giou_dn_1: 1.0775 (1.0909)  loss_fgl_dn_1: 0.9794 (0.9713)  loss_ddf_dn_1: 0.0252 (0.0251)  loss_mal_dn_2: 0.7246 (0.7248)  loss_bbox_dn_2: 0.5961 (0.5977)  loss_giou_dn_2: 1.0300 (1.0371)  loss_fgl_dn_2: 0.9931 (0.9882)  loss_mal_dn_pre: 0.6934 (0.6945)  loss_bbox_dn_pre: 0.6654 (0.6639)  loss_giou_dn_pre: 1.1771 (1.1797)  time: 0.4635  data: 0.1020  max mem: 10586\n",
      "Epoch: [74] Total time: 0:00:07 (0.4671 s / it)\n",
      "Averaged stats: lr: 0.000063  loss: 28.0739 (28.2875)  loss_mal: 1.3740 (1.3721)  loss_bbox: 0.3108 (0.3257)  loss_giou: 0.6130 (0.6307)  loss_fgl: 1.2195 (1.2130)  loss_mal_aux_0: 1.2676 (1.2796)  loss_bbox_aux_0: 0.3236 (0.3492)  loss_giou_aux_0: 0.6425 (0.6550)  loss_fgl_aux_0: 1.2192 (1.2092)  loss_ddf_aux_0: 0.0774 (0.0749)  loss_mal_aux_1: 1.3643 (1.3507)  loss_bbox_aux_1: 0.3130 (0.3319)  loss_giou_aux_1: 0.6247 (0.6391)  loss_fgl_aux_1: 1.2188 (1.2100)  loss_ddf_aux_1: 0.0204 (0.0210)  loss_mal_pre: 1.2744 (1.2778)  loss_bbox_pre: 0.3239 (0.3480)  loss_giou_pre: 0.6444 (0.6539)  loss_mal_enc_0: 1.2988 (1.3000)  loss_bbox_enc_0: 0.3971 (0.4212)  loss_giou_enc_0: 0.7450 (0.7572)  loss_mal_dn_0: 0.6987 (0.6993)  loss_bbox_dn_0: 0.6587 (0.6603)  loss_giou_dn_0: 1.1678 (1.1730)  loss_fgl_dn_0: 0.9490 (0.9464)  loss_ddf_dn_0: 0.0811 (0.0811)  loss_mal_dn_1: 0.7139 (0.7131)  loss_bbox_dn_1: 0.6165 (0.6210)  loss_giou_dn_1: 1.0775 (1.0909)  loss_fgl_dn_1: 0.9794 (0.9713)  loss_ddf_dn_1: 0.0252 (0.0251)  loss_mal_dn_2: 0.7246 (0.7248)  loss_bbox_dn_2: 0.5961 (0.5977)  loss_giou_dn_2: 1.0300 (1.0371)  loss_fgl_dn_2: 0.9931 (0.9882)  loss_mal_dn_pre: 0.6934 (0.6945)  loss_bbox_dn_pre: 0.6654 (0.6639)  loss_giou_dn_pre: 1.1771 (1.1797)\n",
      "Test:  [0/5]  eta: 0:00:03    time: 0.7662  data: 0.6425  max mem: 10586\n"
     ]
    },
    {
     "name": "stderr",
     "output_type": "stream",
     "text": [
      "2025-03-10 15:03:09,709 - DEIMTrainer - INFO - Saving checkpoint to outputs/deim_hgnetv2_s_coco/best.pth\n"
     ]
    },
    {
     "name": "stdout",
     "output_type": "stream",
     "text": [
      "Test:  [4/5]  eta: 0:00:00    time: 0.2930  data: 0.1498  max mem: 10586\n",
      "Test: Total time: 0:00:01 (0.3033 s / it)\n",
      "Averaged stats: \n",
      "Accumulating evaluation results...\n",
      "COCOeval_opt.accumulate() finished...\n",
      "DONE (t=0.02s).\n",
      "IoU metric: bbox\n",
      " Average Precision  (AP) @[ IoU=0.50:0.95 | area=   all | maxDets=100 ] = 0.264\n",
      " Average Precision  (AP) @[ IoU=0.50      | area=   all | maxDets=100 ] = 0.430\n",
      " Average Precision  (AP) @[ IoU=0.75      | area=   all | maxDets=100 ] = 0.286\n",
      " Average Precision  (AP) @[ IoU=0.50:0.95 | area= small | maxDets=100 ] = 0.112\n",
      " Average Precision  (AP) @[ IoU=0.50:0.95 | area=medium | maxDets=100 ] = 0.342\n",
      " Average Precision  (AP) @[ IoU=0.50:0.95 | area= large | maxDets=100 ] = 0.218\n",
      " Average Recall     (AR) @[ IoU=0.50:0.95 | area=   all | maxDets=  1 ] = 0.302\n",
      " Average Recall     (AR) @[ IoU=0.50:0.95 | area=   all | maxDets= 10 ] = 0.492\n",
      " Average Recall     (AR) @[ IoU=0.50:0.95 | area=   all | maxDets=100 ] = 0.648\n",
      " Average Recall     (AR) @[ IoU=0.50:0.95 | area= small | maxDets=100 ] = 0.320\n",
      " Average Recall     (AR) @[ IoU=0.50:0.95 | area=medium | maxDets=100 ] = 0.593\n",
      " Average Recall     (AR) @[ IoU=0.50:0.95 | area= large | maxDets=100 ] = 0.620\n",
      " Average Recall     (AR) @[ IoU=0.50      | area=   all | maxDets=100 ] = 0.971\n",
      " Average Recall     (AR) @[ IoU=0.75      | area=   all | maxDets=100 ] = 0.725\n",
      "================================================\n",
      "{'coco_eval_bbox': [0.26440334548677485, 0.43034365264126234, 0.28554834117193795, 0.11234023402340235, 0.34243888020327096, 0.21822337531140876, 0.3022232397232398, 0.49153894351262767, 0.6481219073324337, 0.32, 0.5933928571428573, 0.6200410304967057]}\n",
      "================================================\n"
     ]
    },
    {
     "name": "stderr",
     "output_type": "stream",
     "text": [
      "2025-03-10 15:03:10,114 - DEIMTrainer - INFO - Checkpoint saved to outputs/deim_hgnetv2_s_coco/best.pth\n",
      "2025-03-10 15:03:10,116 - DEIMTrainer - INFO - Epoch 74 - Train loss: 28.2875, Eval mAP: 0.2644\n",
      "2025-03-10 15:03:10,116 - DEIMTrainer - INFO - Best stats: {'epoch': 74, 'coco_eval_bbox': 0.26440334548677485}\n"
     ]
    },
    {
     "name": "stdout",
     "output_type": "stream",
     "text": [
      "Epoch: [75]  [ 0/15]  eta: 0:00:27  lr: 0.000063  loss: 28.4491 (28.4491)  loss_mal: 1.4805 (1.4805)  loss_bbox: 0.2890 (0.2890)  loss_giou: 0.6953 (0.6953)  loss_fgl: 1.1888 (1.1888)  loss_mal_aux_0: 1.5127 (1.5127)  loss_bbox_aux_0: 0.2939 (0.2939)  loss_giou_aux_0: 0.7013 (0.7013)  loss_fgl_aux_0: 1.1761 (1.1761)  loss_ddf_aux_0: 0.0807 (0.0807)  loss_mal_aux_1: 1.5391 (1.5391)  loss_bbox_aux_1: 0.2858 (0.2858)  loss_giou_aux_1: 0.6985 (0.6985)  loss_fgl_aux_1: 1.1777 (1.1777)  loss_ddf_aux_1: 0.0256 (0.0256)  loss_mal_pre: 1.5127 (1.5127)  loss_bbox_pre: 0.2897 (0.2897)  loss_giou_pre: 0.6967 (0.6967)  loss_mal_enc_0: 1.2949 (1.2949)  loss_bbox_enc_0: 0.3785 (0.3785)  loss_giou_enc_0: 0.8333 (0.8333)  loss_mal_dn_0: 0.7139 (0.7139)  loss_bbox_dn_0: 0.4849 (0.4849)  loss_giou_dn_0: 1.1784 (1.1784)  loss_fgl_dn_0: 0.9422 (0.9422)  loss_ddf_dn_0: 0.0763 (0.0763)  loss_mal_dn_1: 0.7188 (0.7188)  loss_bbox_dn_1: 0.4651 (0.4651)  loss_giou_dn_1: 1.1105 (1.1105)  loss_fgl_dn_1: 0.9613 (0.9613)  loss_ddf_dn_1: 0.0257 (0.0257)  loss_mal_dn_2: 0.7231 (0.7231)  loss_bbox_dn_2: 0.4596 (0.4596)  loss_giou_dn_2: 1.0723 (1.0723)  loss_fgl_dn_2: 0.9816 (0.9816)  loss_mal_dn_pre: 0.7100 (0.7100)  loss_bbox_dn_pre: 0.4900 (0.4900)  loss_giou_dn_pre: 1.1849 (1.1849)  time: 1.8557  data: 1.3403  max mem: 10586\n"
     ]
    },
    {
     "name": "stderr",
     "output_type": "stream",
     "text": [
      "2025-03-10 15:03:17,365 - DEIMTrainer - INFO - Saving checkpoint to outputs/deim_hgnetv2_s_coco/checkpoint0075.pth\n"
     ]
    },
    {
     "name": "stdout",
     "output_type": "stream",
     "text": [
      "Epoch: [75]  [14/15]  eta: 0:00:00  lr: 0.000065  loss: 28.0584 (28.1174)  loss_mal: 1.3730 (1.3837)  loss_bbox: 0.3089 (0.3174)  loss_giou: 0.6135 (0.6187)  loss_fgl: 1.2199 (1.2130)  loss_mal_aux_0: 1.3193 (1.3255)  loss_bbox_aux_0: 0.3276 (0.3343)  loss_giou_aux_0: 0.6314 (0.6372)  loss_fgl_aux_0: 1.2182 (1.2125)  loss_ddf_aux_0: 0.0588 (0.0586)  loss_mal_aux_1: 1.3359 (1.3711)  loss_bbox_aux_1: 0.3168 (0.3240)  loss_giou_aux_1: 0.6217 (0.6291)  loss_fgl_aux_1: 1.2189 (1.2123)  loss_ddf_aux_1: 0.0204 (0.0211)  loss_mal_pre: 1.3193 (1.3236)  loss_bbox_pre: 0.3268 (0.3331)  loss_giou_pre: 0.6279 (0.6365)  loss_mal_enc_0: 1.2979 (1.2984)  loss_bbox_enc_0: 0.4287 (0.4313)  loss_giou_enc_0: 0.7474 (0.7634)  loss_mal_dn_0: 0.7183 (0.7165)  loss_bbox_dn_0: 0.6324 (0.6231)  loss_giou_dn_0: 1.1115 (1.1200)  loss_fgl_dn_0: 0.9840 (0.9820)  loss_ddf_dn_0: 0.0747 (0.0745)  loss_mal_dn_1: 0.7163 (0.7190)  loss_bbox_dn_1: 0.5992 (0.5921)  loss_giou_dn_1: 1.0444 (1.0509)  loss_fgl_dn_1: 1.0041 (1.0007)  loss_ddf_dn_1: 0.0251 (0.0257)  loss_mal_dn_2: 0.7266 (0.7255)  loss_bbox_dn_2: 0.5690 (0.5629)  loss_giou_dn_2: 0.9893 (0.9996)  loss_fgl_dn_2: 1.0250 (1.0165)  loss_mal_dn_pre: 0.7139 (0.7124)  loss_bbox_dn_pre: 0.6362 (0.6256)  loss_giou_dn_pre: 1.1171 (1.1256)  time: 0.4784  data: 0.1061  max mem: 10586\n",
      "Epoch: [75] Total time: 0:00:07 (0.4820 s / it)\n",
      "Averaged stats: lr: 0.000065  loss: 28.0584 (28.1174)  loss_mal: 1.3730 (1.3837)  loss_bbox: 0.3089 (0.3174)  loss_giou: 0.6135 (0.6187)  loss_fgl: 1.2199 (1.2130)  loss_mal_aux_0: 1.3193 (1.3255)  loss_bbox_aux_0: 0.3276 (0.3343)  loss_giou_aux_0: 0.6314 (0.6372)  loss_fgl_aux_0: 1.2182 (1.2125)  loss_ddf_aux_0: 0.0588 (0.0586)  loss_mal_aux_1: 1.3359 (1.3711)  loss_bbox_aux_1: 0.3168 (0.3240)  loss_giou_aux_1: 0.6217 (0.6291)  loss_fgl_aux_1: 1.2189 (1.2123)  loss_ddf_aux_1: 0.0204 (0.0211)  loss_mal_pre: 1.3193 (1.3236)  loss_bbox_pre: 0.3268 (0.3331)  loss_giou_pre: 0.6279 (0.6365)  loss_mal_enc_0: 1.2979 (1.2984)  loss_bbox_enc_0: 0.4287 (0.4313)  loss_giou_enc_0: 0.7474 (0.7634)  loss_mal_dn_0: 0.7183 (0.7165)  loss_bbox_dn_0: 0.6324 (0.6231)  loss_giou_dn_0: 1.1115 (1.1200)  loss_fgl_dn_0: 0.9840 (0.9820)  loss_ddf_dn_0: 0.0747 (0.0745)  loss_mal_dn_1: 0.7163 (0.7190)  loss_bbox_dn_1: 0.5992 (0.5921)  loss_giou_dn_1: 1.0444 (1.0509)  loss_fgl_dn_1: 1.0041 (1.0007)  loss_ddf_dn_1: 0.0251 (0.0257)  loss_mal_dn_2: 0.7266 (0.7255)  loss_bbox_dn_2: 0.5690 (0.5629)  loss_giou_dn_2: 0.9893 (0.9996)  loss_fgl_dn_2: 1.0250 (1.0165)  loss_mal_dn_pre: 0.7139 (0.7124)  loss_bbox_dn_pre: 0.6362 (0.6256)  loss_giou_dn_pre: 1.1171 (1.1256)\n"
     ]
    },
    {
     "name": "stderr",
     "output_type": "stream",
     "text": [
      "2025-03-10 15:03:17,638 - DEIMTrainer - INFO - Checkpoint saved to outputs/deim_hgnetv2_s_coco/checkpoint0075.pth\n",
      "2025-03-10 15:03:17,640 - DEIMTrainer - INFO - Evaluating model...\n"
     ]
    },
    {
     "name": "stdout",
     "output_type": "stream",
     "text": [
      "Test:  [0/5]  eta: 0:00:04    time: 0.8650  data: 0.5972  max mem: 10586\n"
     ]
    },
    {
     "name": "stderr",
     "output_type": "stream",
     "text": [
      "2025-03-10 15:03:19,081 - DEIMTrainer - INFO - Saving checkpoint to outputs/deim_hgnetv2_s_coco/best.pth\n"
     ]
    },
    {
     "name": "stdout",
     "output_type": "stream",
     "text": [
      "Test:  [4/5]  eta: 0:00:00    time: 0.2697  data: 0.1359  max mem: 10586\n",
      "Test: Total time: 0:00:01 (0.2821 s / it)\n",
      "Averaged stats: \n",
      "Accumulating evaluation results...\n",
      "COCOeval_opt.accumulate() finished...\n",
      "DONE (t=0.02s).\n",
      "IoU metric: bbox\n",
      " Average Precision  (AP) @[ IoU=0.50:0.95 | area=   all | maxDets=100 ] = 0.301\n",
      " Average Precision  (AP) @[ IoU=0.50      | area=   all | maxDets=100 ] = 0.469\n",
      " Average Precision  (AP) @[ IoU=0.75      | area=   all | maxDets=100 ] = 0.345\n",
      " Average Precision  (AP) @[ IoU=0.50:0.95 | area= small | maxDets=100 ] = 0.068\n",
      " Average Precision  (AP) @[ IoU=0.50:0.95 | area=medium | maxDets=100 ] = 0.432\n",
      " Average Precision  (AP) @[ IoU=0.50:0.95 | area= large | maxDets=100 ] = 0.259\n",
      " Average Recall     (AR) @[ IoU=0.50:0.95 | area=   all | maxDets=  1 ] = 0.326\n",
      " Average Recall     (AR) @[ IoU=0.50:0.95 | area=   all | maxDets= 10 ] = 0.519\n",
      " Average Recall     (AR) @[ IoU=0.50:0.95 | area=   all | maxDets=100 ] = 0.675\n",
      " Average Recall     (AR) @[ IoU=0.50:0.95 | area= small | maxDets=100 ] = 0.380\n",
      " Average Recall     (AR) @[ IoU=0.50:0.95 | area=medium | maxDets=100 ] = 0.631\n",
      " Average Recall     (AR) @[ IoU=0.50:0.95 | area= large | maxDets=100 ] = 0.771\n",
      " Average Recall     (AR) @[ IoU=0.50      | area=   all | maxDets=100 ] = 0.985\n",
      " Average Recall     (AR) @[ IoU=0.75      | area=   all | maxDets=100 ] = 0.775\n",
      "================================================\n",
      "{'coco_eval_bbox': [0.3007945950198931, 0.46946223195289194, 0.3450260420981715, 0.06787842088508658, 0.43230908763458115, 0.25891759674405984, 0.3263190026347921, 0.5188221622432149, 0.675229473255789, 0.38, 0.6314285714285716, 0.7713804394997434]}\n",
      "================================================\n"
     ]
    },
    {
     "name": "stderr",
     "output_type": "stream",
     "text": [
      "2025-03-10 15:03:19,476 - DEIMTrainer - INFO - Checkpoint saved to outputs/deim_hgnetv2_s_coco/best.pth\n",
      "2025-03-10 15:03:19,480 - DEIMTrainer - INFO - Epoch 75 - Train loss: 28.1174, Eval mAP: 0.3008\n",
      "2025-03-10 15:03:19,480 - DEIMTrainer - INFO - Best stats: {'epoch': 75, 'coco_eval_bbox': 0.3007945950198931}\n"
     ]
    },
    {
     "name": "stdout",
     "output_type": "stream",
     "text": [
      "Epoch: [76]  [ 0/15]  eta: 0:00:22  lr: 0.000065  loss: 27.8617 (27.8617)  loss_mal: 1.4033 (1.4033)  loss_bbox: 0.3386 (0.3386)  loss_giou: 0.6146 (0.6146)  loss_fgl: 1.2246 (1.2246)  loss_mal_aux_0: 1.2314 (1.2314)  loss_bbox_aux_0: 0.3482 (0.3482)  loss_giou_aux_0: 0.6355 (0.6355)  loss_fgl_aux_0: 1.2190 (1.2190)  loss_ddf_aux_0: 0.0523 (0.0523)  loss_mal_aux_1: 1.3008 (1.3008)  loss_bbox_aux_1: 0.3435 (0.3435)  loss_giou_aux_1: 0.6305 (0.6305)  loss_fgl_aux_1: 1.2215 (1.2215)  loss_ddf_aux_1: 0.0219 (0.0219)  loss_mal_pre: 1.2324 (1.2324)  loss_bbox_pre: 0.3476 (0.3476)  loss_giou_pre: 0.6348 (0.6348)  loss_mal_enc_0: 1.2266 (1.2266)  loss_bbox_enc_0: 0.4444 (0.4444)  loss_giou_enc_0: 0.7636 (0.7636)  loss_mal_dn_0: 0.7388 (0.7388)  loss_bbox_dn_0: 0.6314 (0.6314)  loss_giou_dn_0: 1.0575 (1.0575)  loss_fgl_dn_0: 1.0203 (1.0203)  loss_ddf_dn_0: 0.0723 (0.0723)  loss_mal_dn_1: 0.7480 (0.7480)  loss_bbox_dn_1: 0.5901 (0.5901)  loss_giou_dn_1: 0.9792 (0.9792)  loss_fgl_dn_1: 1.0426 (1.0426)  loss_ddf_dn_1: 0.0275 (0.0275)  loss_mal_dn_2: 0.7588 (0.7588)  loss_bbox_dn_2: 0.5517 (0.5517)  loss_giou_dn_2: 0.9114 (0.9114)  loss_fgl_dn_2: 1.0608 (1.0608)  loss_mal_dn_pre: 0.7349 (0.7349)  loss_bbox_dn_pre: 0.6368 (0.6368)  loss_giou_dn_pre: 1.0645 (1.0645)  time: 1.4952  data: 1.0377  max mem: 10586\n"
     ]
    },
    {
     "name": "stderr",
     "output_type": "stream",
     "text": [
      "2025-03-10 15:03:26,619 - DEIMTrainer - INFO - Evaluating model...\n"
     ]
    },
    {
     "name": "stdout",
     "output_type": "stream",
     "text": [
      "Epoch: [76]  [14/15]  eta: 0:00:00  lr: 0.000067  loss: 27.5300 (27.5873)  loss_mal: 1.3740 (1.3803)  loss_bbox: 0.2965 (0.2948)  loss_giou: 0.5947 (0.5810)  loss_fgl: 1.2196 (1.2136)  loss_mal_aux_0: 1.2773 (1.3043)  loss_bbox_aux_0: 0.3115 (0.3092)  loss_giou_aux_0: 0.6061 (0.6012)  loss_fgl_aux_0: 1.2190 (1.2160)  loss_ddf_aux_0: 0.0566 (0.0579)  loss_mal_aux_1: 1.3428 (1.3592)  loss_bbox_aux_1: 0.3043 (0.3013)  loss_giou_aux_1: 0.6019 (0.5922)  loss_fgl_aux_1: 1.2215 (1.2153)  loss_ddf_aux_1: 0.0239 (0.0244)  loss_mal_pre: 1.2793 (1.3049)  loss_bbox_pre: 0.3110 (0.3082)  loss_giou_pre: 0.6032 (0.5995)  loss_mal_enc_0: 1.2568 (1.2876)  loss_bbox_enc_0: 0.3944 (0.4113)  loss_giou_enc_0: 0.7321 (0.7316)  loss_mal_dn_0: 0.7314 (0.7288)  loss_bbox_dn_0: 0.5710 (0.5915)  loss_giou_dn_0: 1.0682 (1.0731)  loss_fgl_dn_0: 1.0100 (1.0103)  loss_ddf_dn_0: 0.0919 (0.0912)  loss_mal_dn_1: 0.7354 (0.7339)  loss_bbox_dn_1: 0.5511 (0.5549)  loss_giou_dn_1: 0.9829 (0.9993)  loss_fgl_dn_1: 1.0340 (1.0302)  loss_ddf_dn_1: 0.0370 (0.0365)  loss_mal_dn_2: 0.7490 (0.7462)  loss_bbox_dn_2: 0.5344 (0.5201)  loss_giou_dn_2: 0.9195 (0.9309)  loss_fgl_dn_2: 1.0556 (1.0489)  loss_mal_dn_pre: 0.7280 (0.7255)  loss_bbox_dn_pre: 0.5708 (0.5946)  loss_giou_dn_pre: 1.0780 (1.0777)  time: 0.4704  data: 0.0888  max mem: 10586\n",
      "Epoch: [76] Total time: 0:00:07 (0.4745 s / it)\n",
      "Averaged stats: lr: 0.000067  loss: 27.5300 (27.5873)  loss_mal: 1.3740 (1.3803)  loss_bbox: 0.2965 (0.2948)  loss_giou: 0.5947 (0.5810)  loss_fgl: 1.2196 (1.2136)  loss_mal_aux_0: 1.2773 (1.3043)  loss_bbox_aux_0: 0.3115 (0.3092)  loss_giou_aux_0: 0.6061 (0.6012)  loss_fgl_aux_0: 1.2190 (1.2160)  loss_ddf_aux_0: 0.0566 (0.0579)  loss_mal_aux_1: 1.3428 (1.3592)  loss_bbox_aux_1: 0.3043 (0.3013)  loss_giou_aux_1: 0.6019 (0.5922)  loss_fgl_aux_1: 1.2215 (1.2153)  loss_ddf_aux_1: 0.0239 (0.0244)  loss_mal_pre: 1.2793 (1.3049)  loss_bbox_pre: 0.3110 (0.3082)  loss_giou_pre: 0.6032 (0.5995)  loss_mal_enc_0: 1.2568 (1.2876)  loss_bbox_enc_0: 0.3944 (0.4113)  loss_giou_enc_0: 0.7321 (0.7316)  loss_mal_dn_0: 0.7314 (0.7288)  loss_bbox_dn_0: 0.5710 (0.5915)  loss_giou_dn_0: 1.0682 (1.0731)  loss_fgl_dn_0: 1.0100 (1.0103)  loss_ddf_dn_0: 0.0919 (0.0912)  loss_mal_dn_1: 0.7354 (0.7339)  loss_bbox_dn_1: 0.5511 (0.5549)  loss_giou_dn_1: 0.9829 (0.9993)  loss_fgl_dn_1: 1.0340 (1.0302)  loss_ddf_dn_1: 0.0370 (0.0365)  loss_mal_dn_2: 0.7490 (0.7462)  loss_bbox_dn_2: 0.5344 (0.5201)  loss_giou_dn_2: 0.9195 (0.9309)  loss_fgl_dn_2: 1.0556 (1.0489)  loss_mal_dn_pre: 0.7280 (0.7255)  loss_bbox_dn_pre: 0.5708 (0.5946)  loss_giou_dn_pre: 1.0780 (1.0777)\n",
      "Test:  [0/5]  eta: 0:00:04    time: 0.9156  data: 0.6438  max mem: 10586\n"
     ]
    },
    {
     "name": "stderr",
     "output_type": "stream",
     "text": [
      "2025-03-10 15:03:28,087 - DEIMTrainer - INFO - Saving checkpoint to outputs/deim_hgnetv2_s_coco/best.pth\n"
     ]
    },
    {
     "name": "stdout",
     "output_type": "stream",
     "text": [
      "Test:  [4/5]  eta: 0:00:00    time: 0.2743  data: 0.1409  max mem: 10586\n",
      "Test: Total time: 0:00:01 (0.2875 s / it)\n",
      "Averaged stats: \n",
      "Accumulating evaluation results...\n",
      "COCOeval_opt.accumulate() finished...\n",
      "DONE (t=0.02s).\n",
      "IoU metric: bbox\n",
      " Average Precision  (AP) @[ IoU=0.50:0.95 | area=   all | maxDets=100 ] = 0.307\n",
      " Average Precision  (AP) @[ IoU=0.50      | area=   all | maxDets=100 ] = 0.469\n",
      " Average Precision  (AP) @[ IoU=0.75      | area=   all | maxDets=100 ] = 0.353\n",
      " Average Precision  (AP) @[ IoU=0.50:0.95 | area= small | maxDets=100 ] = 0.174\n",
      " Average Precision  (AP) @[ IoU=0.50:0.95 | area=medium | maxDets=100 ] = 0.432\n",
      " Average Precision  (AP) @[ IoU=0.50:0.95 | area= large | maxDets=100 ] = 0.251\n",
      " Average Recall     (AR) @[ IoU=0.50:0.95 | area=   all | maxDets=  1 ] = 0.333\n",
      " Average Recall     (AR) @[ IoU=0.50:0.95 | area=   all | maxDets= 10 ] = 0.543\n",
      " Average Recall     (AR) @[ IoU=0.50:0.95 | area=   all | maxDets=100 ] = 0.708\n",
      " Average Recall     (AR) @[ IoU=0.50:0.95 | area= small | maxDets=100 ] = 0.400\n",
      " Average Recall     (AR) @[ IoU=0.50:0.95 | area=medium | maxDets=100 ] = 0.671\n",
      " Average Recall     (AR) @[ IoU=0.50:0.95 | area= large | maxDets=100 ] = 0.781\n",
      " Average Recall     (AR) @[ IoU=0.50      | area=   all | maxDets=100 ] = 0.988\n",
      " Average Recall     (AR) @[ IoU=0.75      | area=   all | maxDets=100 ] = 0.822\n",
      "================================================\n",
      "{'coco_eval_bbox': [0.30681584152170216, 0.46902505825255786, 0.353141622798114, 0.1743391652829879, 0.432220281886033, 0.25113017773078067, 0.3328829552513763, 0.5433934729987363, 0.7077399695820749, 0.4, 0.6705059523809525, 0.7813895135518997]}\n",
      "================================================\n"
     ]
    },
    {
     "name": "stderr",
     "output_type": "stream",
     "text": [
      "2025-03-10 15:03:28,419 - DEIMTrainer - INFO - Checkpoint saved to outputs/deim_hgnetv2_s_coco/best.pth\n",
      "2025-03-10 15:03:28,421 - DEIMTrainer - INFO - Epoch 76 - Train loss: 27.5873, Eval mAP: 0.3068\n",
      "2025-03-10 15:03:28,421 - DEIMTrainer - INFO - Best stats: {'epoch': 76, 'coco_eval_bbox': 0.30681584152170216}\n"
     ]
    },
    {
     "name": "stdout",
     "output_type": "stream",
     "text": [
      "Epoch: [77]  [ 0/15]  eta: 0:00:25  lr: 0.000067  loss: 27.4693 (27.4693)  loss_mal: 1.4023 (1.4023)  loss_bbox: 0.2825 (0.2825)  loss_giou: 0.6576 (0.6576)  loss_fgl: 1.1974 (1.1974)  loss_mal_aux_0: 1.3535 (1.3535)  loss_bbox_aux_0: 0.2855 (0.2855)  loss_giou_aux_0: 0.6732 (0.6732)  loss_fgl_aux_0: 1.1961 (1.1961)  loss_ddf_aux_0: 0.0643 (0.0643)  loss_mal_aux_1: 1.3887 (1.3887)  loss_bbox_aux_1: 0.2819 (0.2819)  loss_giou_aux_1: 0.6647 (0.6647)  loss_fgl_aux_1: 1.1953 (1.1953)  loss_ddf_aux_1: 0.0267 (0.0267)  loss_mal_pre: 1.3535 (1.3535)  loss_bbox_pre: 0.2834 (0.2834)  loss_giou_pre: 0.6701 (0.6701)  loss_mal_enc_0: 1.1445 (1.1445)  loss_bbox_enc_0: 0.3763 (0.3763)  loss_giou_enc_0: 0.7943 (0.7943)  loss_mal_dn_0: 0.7417 (0.7417)  loss_bbox_dn_0: 0.4939 (0.4939)  loss_giou_dn_0: 1.0451 (1.0451)  loss_fgl_dn_0: 1.0394 (1.0394)  loss_ddf_dn_0: 0.1161 (0.1161)  loss_mal_dn_1: 0.7407 (0.7407)  loss_bbox_dn_1: 0.4591 (0.4591)  loss_giou_dn_1: 0.9746 (0.9746)  loss_fgl_dn_1: 1.0616 (1.0616)  loss_ddf_dn_1: 0.0469 (0.0469)  loss_mal_dn_2: 0.7505 (0.7505)  loss_bbox_dn_2: 0.4328 (0.4328)  loss_giou_dn_2: 0.9190 (0.9190)  loss_fgl_dn_2: 1.0761 (1.0761)  loss_mal_dn_pre: 0.7383 (0.7383)  loss_bbox_dn_pre: 0.4939 (0.4939)  loss_giou_dn_pre: 1.0478 (1.0478)  time: 1.7136  data: 1.2712  max mem: 10586\n"
     ]
    },
    {
     "name": "stderr",
     "output_type": "stream",
     "text": [
      "2025-03-10 15:03:35,673 - DEIMTrainer - INFO - Evaluating model...\n"
     ]
    },
    {
     "name": "stdout",
     "output_type": "stream",
     "text": [
      "Epoch: [77]  [14/15]  eta: 0:00:00  lr: 0.000068  loss: 27.4693 (27.7478)  loss_mal: 1.3643 (1.3762)  loss_bbox: 0.2937 (0.3084)  loss_giou: 0.5791 (0.5845)  loss_fgl: 1.2172 (1.2131)  loss_mal_aux_0: 1.2939 (1.3035)  loss_bbox_aux_0: 0.3236 (0.3323)  loss_giou_aux_0: 0.6116 (0.6143)  loss_fgl_aux_0: 1.2264 (1.2193)  loss_ddf_aux_0: 0.0669 (0.0706)  loss_mal_aux_1: 1.3301 (1.3421)  loss_bbox_aux_1: 0.3138 (0.3191)  loss_giou_aux_1: 0.5935 (0.5978)  loss_fgl_aux_1: 1.2220 (1.2166)  loss_ddf_aux_1: 0.0260 (0.0267)  loss_mal_pre: 1.2930 (1.3040)  loss_bbox_pre: 0.3204 (0.3294)  loss_giou_pre: 0.6047 (0.6117)  loss_mal_enc_0: 1.2773 (1.3051)  loss_bbox_enc_0: 0.4414 (0.4382)  loss_giou_enc_0: 0.7414 (0.7481)  loss_mal_dn_0: 0.7407 (0.7397)  loss_bbox_dn_0: 0.5561 (0.5924)  loss_giou_dn_0: 1.0419 (1.0475)  loss_fgl_dn_0: 1.0350 (1.0310)  loss_ddf_dn_0: 0.1161 (0.1163)  loss_mal_dn_1: 0.7515 (0.7485)  loss_bbox_dn_1: 0.5069 (0.5453)  loss_giou_dn_1: 0.9534 (0.9605)  loss_fgl_dn_1: 1.0553 (1.0525)  loss_ddf_dn_1: 0.0448 (0.0440)  loss_mal_dn_2: 0.7568 (0.7554)  loss_bbox_dn_2: 0.4762 (0.5115)  loss_giou_dn_2: 0.8875 (0.8938)  loss_fgl_dn_2: 1.0688 (1.0681)  loss_mal_dn_pre: 0.7383 (0.7368)  loss_bbox_dn_pre: 0.5568 (0.5927)  loss_giou_dn_pre: 1.0463 (1.0507)  time: 0.4787  data: 0.1022  max mem: 10586\n",
      "Epoch: [77] Total time: 0:00:07 (0.4823 s / it)\n",
      "Averaged stats: lr: 0.000068  loss: 27.4693 (27.7478)  loss_mal: 1.3643 (1.3762)  loss_bbox: 0.2937 (0.3084)  loss_giou: 0.5791 (0.5845)  loss_fgl: 1.2172 (1.2131)  loss_mal_aux_0: 1.2939 (1.3035)  loss_bbox_aux_0: 0.3236 (0.3323)  loss_giou_aux_0: 0.6116 (0.6143)  loss_fgl_aux_0: 1.2264 (1.2193)  loss_ddf_aux_0: 0.0669 (0.0706)  loss_mal_aux_1: 1.3301 (1.3421)  loss_bbox_aux_1: 0.3138 (0.3191)  loss_giou_aux_1: 0.5935 (0.5978)  loss_fgl_aux_1: 1.2220 (1.2166)  loss_ddf_aux_1: 0.0260 (0.0267)  loss_mal_pre: 1.2930 (1.3040)  loss_bbox_pre: 0.3204 (0.3294)  loss_giou_pre: 0.6047 (0.6117)  loss_mal_enc_0: 1.2773 (1.3051)  loss_bbox_enc_0: 0.4414 (0.4382)  loss_giou_enc_0: 0.7414 (0.7481)  loss_mal_dn_0: 0.7407 (0.7397)  loss_bbox_dn_0: 0.5561 (0.5924)  loss_giou_dn_0: 1.0419 (1.0475)  loss_fgl_dn_0: 1.0350 (1.0310)  loss_ddf_dn_0: 0.1161 (0.1163)  loss_mal_dn_1: 0.7515 (0.7485)  loss_bbox_dn_1: 0.5069 (0.5453)  loss_giou_dn_1: 0.9534 (0.9605)  loss_fgl_dn_1: 1.0553 (1.0525)  loss_ddf_dn_1: 0.0448 (0.0440)  loss_mal_dn_2: 0.7568 (0.7554)  loss_bbox_dn_2: 0.4762 (0.5115)  loss_giou_dn_2: 0.8875 (0.8938)  loss_fgl_dn_2: 1.0688 (1.0681)  loss_mal_dn_pre: 0.7383 (0.7368)  loss_bbox_dn_pre: 0.5568 (0.5927)  loss_giou_dn_pre: 1.0463 (1.0507)\n",
      "Test:  [0/5]  eta: 0:00:04    time: 0.9147  data: 0.6182  max mem: 10586\n"
     ]
    },
    {
     "name": "stderr",
     "output_type": "stream",
     "text": [
      "2025-03-10 15:03:37,160 - DEIMTrainer - INFO - Saving checkpoint to outputs/deim_hgnetv2_s_coco/best.pth\n"
     ]
    },
    {
     "name": "stdout",
     "output_type": "stream",
     "text": [
      "Test:  [4/5]  eta: 0:00:00    time: 0.2781  data: 0.1377  max mem: 10586\n",
      "Test: Total time: 0:00:01 (0.2906 s / it)\n",
      "Averaged stats: \n",
      "Accumulating evaluation results...\n",
      "COCOeval_opt.accumulate() finished...\n",
      "DONE (t=0.02s).\n",
      "IoU metric: bbox\n",
      " Average Precision  (AP) @[ IoU=0.50:0.95 | area=   all | maxDets=100 ] = 0.347\n",
      " Average Precision  (AP) @[ IoU=0.50      | area=   all | maxDets=100 ] = 0.525\n",
      " Average Precision  (AP) @[ IoU=0.75      | area=   all | maxDets=100 ] = 0.404\n",
      " Average Precision  (AP) @[ IoU=0.50:0.95 | area= small | maxDets=100 ] = 0.139\n",
      " Average Precision  (AP) @[ IoU=0.50:0.95 | area=medium | maxDets=100 ] = 0.447\n",
      " Average Precision  (AP) @[ IoU=0.50:0.95 | area= large | maxDets=100 ] = 0.296\n",
      " Average Recall     (AR) @[ IoU=0.50:0.95 | area=   all | maxDets=  1 ] = 0.344\n",
      " Average Recall     (AR) @[ IoU=0.50:0.95 | area=   all | maxDets= 10 ] = 0.564\n",
      " Average Recall     (AR) @[ IoU=0.50:0.95 | area=   all | maxDets=100 ] = 0.707\n",
      " Average Recall     (AR) @[ IoU=0.50:0.95 | area= small | maxDets=100 ] = 0.440\n",
      " Average Recall     (AR) @[ IoU=0.50:0.95 | area=medium | maxDets=100 ] = 0.669\n",
      " Average Recall     (AR) @[ IoU=0.50:0.95 | area= large | maxDets=100 ] = 0.788\n",
      " Average Recall     (AR) @[ IoU=0.50      | area=   all | maxDets=100 ] = 0.989\n",
      " Average Recall     (AR) @[ IoU=0.75      | area=   all | maxDets=100 ] = 0.807\n",
      "================================================\n",
      "{'coco_eval_bbox': [0.34671828228982415, 0.5253061542843575, 0.40364795367509926, 0.1386757549134774, 0.44718713588487136, 0.2961637250846537, 0.34437509371719893, 0.5639014737698947, 0.7066287513655933, 0.44000000000000006, 0.6690773809523811, 0.7876103680908985]}\n",
      "================================================\n"
     ]
    },
    {
     "name": "stderr",
     "output_type": "stream",
     "text": [
      "2025-03-10 15:03:37,498 - DEIMTrainer - INFO - Checkpoint saved to outputs/deim_hgnetv2_s_coco/best.pth\n",
      "2025-03-10 15:03:37,500 - DEIMTrainer - INFO - Epoch 77 - Train loss: 27.7478, Eval mAP: 0.3467\n",
      "2025-03-10 15:03:37,501 - DEIMTrainer - INFO - Best stats: {'epoch': 77, 'coco_eval_bbox': 0.34671828228982415}\n"
     ]
    },
    {
     "name": "stdout",
     "output_type": "stream",
     "text": [
      "Epoch: [78]  [ 0/15]  eta: 0:00:24  lr: 0.000068  loss: 27.1826 (27.1826)  loss_mal: 1.2549 (1.2549)  loss_bbox: 0.2837 (0.2837)  loss_giou: 0.6373 (0.6373)  loss_fgl: 1.1803 (1.1803)  loss_mal_aux_0: 1.2695 (1.2695)  loss_bbox_aux_0: 0.3022 (0.3022)  loss_giou_aux_0: 0.6691 (0.6691)  loss_fgl_aux_0: 1.1856 (1.1856)  loss_ddf_aux_0: 0.0774 (0.0774)  loss_mal_aux_1: 1.2656 (1.2656)  loss_bbox_aux_1: 0.2879 (0.2879)  loss_giou_aux_1: 0.6511 (0.6511)  loss_fgl_aux_1: 1.1846 (1.1846)  loss_ddf_aux_1: 0.0274 (0.0274)  loss_mal_pre: 1.2578 (1.2578)  loss_bbox_pre: 0.3003 (0.3003)  loss_giou_pre: 0.6670 (0.6670)  loss_mal_enc_0: 1.1592 (1.1592)  loss_bbox_enc_0: 0.4170 (0.4170)  loss_giou_enc_0: 0.8134 (0.8134)  loss_mal_dn_0: 0.7271 (0.7271)  loss_bbox_dn_0: 0.5524 (0.5524)  loss_giou_dn_0: 1.0781 (1.0781)  loss_fgl_dn_0: 1.0013 (1.0013)  loss_ddf_dn_0: 0.1268 (0.1268)  loss_mal_dn_1: 0.7295 (0.7295)  loss_bbox_dn_1: 0.4966 (0.4966)  loss_giou_dn_1: 0.9860 (0.9860)  loss_fgl_dn_1: 1.0258 (1.0258)  loss_ddf_dn_1: 0.0436 (0.0436)  loss_mal_dn_2: 0.7261 (0.7261)  loss_bbox_dn_2: 0.4749 (0.4749)  loss_giou_dn_2: 0.9373 (0.9373)  loss_fgl_dn_2: 1.0296 (1.0296)  loss_mal_dn_pre: 0.7251 (0.7251)  loss_bbox_dn_pre: 0.5525 (0.5525)  loss_giou_dn_pre: 1.0787 (1.0787)  time: 1.6124  data: 1.1365  max mem: 10586\n"
     ]
    },
    {
     "name": "stderr",
     "output_type": "stream",
     "text": [
      "2025-03-10 15:03:44,856 - DEIMTrainer - INFO - Evaluating model...\n"
     ]
    },
    {
     "name": "stdout",
     "output_type": "stream",
     "text": [
      "Epoch: [78]  [14/15]  eta: 0:00:00  lr: 0.000070  loss: 26.8822 (27.1572)  loss_mal: 1.2646 (1.2844)  loss_bbox: 0.2735 (0.2802)  loss_giou: 0.5675 (0.5658)  loss_fgl: 1.2149 (1.2161)  loss_mal_aux_0: 1.2588 (1.2819)  loss_bbox_aux_0: 0.3004 (0.2995)  loss_giou_aux_0: 0.5986 (0.5960)  loss_fgl_aux_0: 1.2211 (1.2229)  loss_ddf_aux_0: 0.0918 (0.0923)  loss_mal_aux_1: 1.2461 (1.2605)  loss_bbox_aux_1: 0.2818 (0.2864)  loss_giou_aux_1: 0.5782 (0.5770)  loss_fgl_aux_1: 1.2205 (1.2187)  loss_ddf_aux_1: 0.0311 (0.0314)  loss_mal_pre: 1.2480 (1.2807)  loss_bbox_pre: 0.2970 (0.2973)  loss_giou_pre: 0.5942 (0.5925)  loss_mal_enc_0: 1.2832 (1.3085)  loss_bbox_enc_0: 0.3737 (0.3819)  loss_giou_enc_0: 0.6972 (0.7073)  loss_mal_dn_0: 0.7402 (0.7421)  loss_bbox_dn_0: 0.5562 (0.5620)  loss_giou_dn_0: 1.0358 (1.0287)  loss_fgl_dn_0: 1.0402 (1.0396)  loss_ddf_dn_0: 0.1616 (0.1631)  loss_mal_dn_1: 0.7651 (0.7599)  loss_bbox_dn_1: 0.4935 (0.5079)  loss_giou_dn_1: 0.9467 (0.9282)  loss_fgl_dn_1: 1.0603 (1.0641)  loss_ddf_dn_1: 0.0539 (0.0546)  loss_mal_dn_2: 0.7622 (0.7599)  loss_bbox_dn_2: 0.4594 (0.4813)  loss_giou_dn_2: 0.8935 (0.8734)  loss_fgl_dn_2: 1.0745 (1.0764)  loss_mal_dn_pre: 0.7393 (0.7404)  loss_bbox_dn_pre: 0.5574 (0.5634)  loss_giou_dn_pre: 1.0392 (1.0306)  time: 0.4832  data: 0.0918  max mem: 10586\n",
      "Epoch: [78] Total time: 0:00:07 (0.4889 s / it)\n",
      "Averaged stats: lr: 0.000070  loss: 26.8822 (27.1572)  loss_mal: 1.2646 (1.2844)  loss_bbox: 0.2735 (0.2802)  loss_giou: 0.5675 (0.5658)  loss_fgl: 1.2149 (1.2161)  loss_mal_aux_0: 1.2588 (1.2819)  loss_bbox_aux_0: 0.3004 (0.2995)  loss_giou_aux_0: 0.5986 (0.5960)  loss_fgl_aux_0: 1.2211 (1.2229)  loss_ddf_aux_0: 0.0918 (0.0923)  loss_mal_aux_1: 1.2461 (1.2605)  loss_bbox_aux_1: 0.2818 (0.2864)  loss_giou_aux_1: 0.5782 (0.5770)  loss_fgl_aux_1: 1.2205 (1.2187)  loss_ddf_aux_1: 0.0311 (0.0314)  loss_mal_pre: 1.2480 (1.2807)  loss_bbox_pre: 0.2970 (0.2973)  loss_giou_pre: 0.5942 (0.5925)  loss_mal_enc_0: 1.2832 (1.3085)  loss_bbox_enc_0: 0.3737 (0.3819)  loss_giou_enc_0: 0.6972 (0.7073)  loss_mal_dn_0: 0.7402 (0.7421)  loss_bbox_dn_0: 0.5562 (0.5620)  loss_giou_dn_0: 1.0358 (1.0287)  loss_fgl_dn_0: 1.0402 (1.0396)  loss_ddf_dn_0: 0.1616 (0.1631)  loss_mal_dn_1: 0.7651 (0.7599)  loss_bbox_dn_1: 0.4935 (0.5079)  loss_giou_dn_1: 0.9467 (0.9282)  loss_fgl_dn_1: 1.0603 (1.0641)  loss_ddf_dn_1: 0.0539 (0.0546)  loss_mal_dn_2: 0.7622 (0.7599)  loss_bbox_dn_2: 0.4594 (0.4813)  loss_giou_dn_2: 0.8935 (0.8734)  loss_fgl_dn_2: 1.0745 (1.0764)  loss_mal_dn_pre: 0.7393 (0.7404)  loss_bbox_dn_pre: 0.5574 (0.5634)  loss_giou_dn_pre: 1.0392 (1.0306)\n",
      "Test:  [0/5]  eta: 0:00:04    time: 0.9029  data: 0.6304  max mem: 10586\n"
     ]
    },
    {
     "name": "stderr",
     "output_type": "stream",
     "text": [
      "2025-03-10 15:03:46,310 - DEIMTrainer - INFO - Saving checkpoint to outputs/deim_hgnetv2_s_coco/best.pth\n"
     ]
    },
    {
     "name": "stdout",
     "output_type": "stream",
     "text": [
      "Test:  [4/5]  eta: 0:00:00    time: 0.2732  data: 0.1409  max mem: 10586\n",
      "Test: Total time: 0:00:01 (0.2843 s / it)\n",
      "Averaged stats: \n",
      "Accumulating evaluation results...\n",
      "COCOeval_opt.accumulate() finished...\n",
      "DONE (t=0.02s).\n",
      "IoU metric: bbox\n",
      " Average Precision  (AP) @[ IoU=0.50:0.95 | area=   all | maxDets=100 ] = 0.366\n",
      " Average Precision  (AP) @[ IoU=0.50      | area=   all | maxDets=100 ] = 0.542\n",
      " Average Precision  (AP) @[ IoU=0.75      | area=   all | maxDets=100 ] = 0.444\n",
      " Average Precision  (AP) @[ IoU=0.50:0.95 | area= small | maxDets=100 ] = 0.147\n",
      " Average Precision  (AP) @[ IoU=0.50:0.95 | area=medium | maxDets=100 ] = 0.431\n",
      " Average Precision  (AP) @[ IoU=0.50:0.95 | area= large | maxDets=100 ] = 0.300\n",
      " Average Recall     (AR) @[ IoU=0.50:0.95 | area=   all | maxDets=  1 ] = 0.355\n",
      " Average Recall     (AR) @[ IoU=0.50:0.95 | area=   all | maxDets= 10 ] = 0.582\n",
      " Average Recall     (AR) @[ IoU=0.50:0.95 | area=   all | maxDets=100 ] = 0.729\n",
      " Average Recall     (AR) @[ IoU=0.50:0.95 | area= small | maxDets=100 ] = 0.400\n",
      " Average Recall     (AR) @[ IoU=0.50:0.95 | area=medium | maxDets=100 ] = 0.669\n",
      " Average Recall     (AR) @[ IoU=0.50:0.95 | area= large | maxDets=100 ] = 0.526\n",
      " Average Recall     (AR) @[ IoU=0.50      | area=   all | maxDets=100 ] = 0.984\n",
      " Average Recall     (AR) @[ IoU=0.75      | area=   all | maxDets=100 ] = 0.862\n",
      "================================================\n",
      "{'coco_eval_bbox': [0.36649208072951445, 0.5418364660168407, 0.4437867954850836, 0.14677367083651288, 0.43087561769174293, 0.30004661594289234, 0.3548936443673286, 0.5822513013302487, 0.7285355482723904, 0.4, 0.6687202380952382, 0.5258231743401587]}\n",
      "================================================\n"
     ]
    },
    {
     "name": "stderr",
     "output_type": "stream",
     "text": [
      "2025-03-10 15:03:46,645 - DEIMTrainer - INFO - Checkpoint saved to outputs/deim_hgnetv2_s_coco/best.pth\n",
      "2025-03-10 15:03:46,651 - DEIMTrainer - INFO - Epoch 78 - Train loss: 27.1572, Eval mAP: 0.3665\n",
      "2025-03-10 15:03:46,652 - DEIMTrainer - INFO - Best stats: {'epoch': 78, 'coco_eval_bbox': 0.36649208072951445}\n"
     ]
    },
    {
     "name": "stdout",
     "output_type": "stream",
     "text": [
      "Epoch: [79]  [ 0/15]  eta: 0:00:26  lr: 0.000070  loss: 26.6844 (26.6844)  loss_mal: 1.2539 (1.2539)  loss_bbox: 0.2697 (0.2697)  loss_giou: 0.6466 (0.6466)  loss_fgl: 1.1776 (1.1776)  loss_mal_aux_0: 1.2305 (1.2305)  loss_bbox_aux_0: 0.2782 (0.2782)  loss_giou_aux_0: 0.6641 (0.6641)  loss_fgl_aux_0: 1.1784 (1.1784)  loss_ddf_aux_0: 0.0850 (0.0850)  loss_mal_aux_1: 1.2451 (1.2451)  loss_bbox_aux_1: 0.2680 (0.2680)  loss_giou_aux_1: 0.6458 (0.6458)  loss_fgl_aux_1: 1.1784 (1.1784)  loss_ddf_aux_1: 0.0247 (0.0247)  loss_mal_pre: 1.2275 (1.2275)  loss_bbox_pre: 0.2754 (0.2754)  loss_giou_pre: 0.6600 (0.6600)  loss_mal_enc_0: 1.2236 (1.2236)  loss_bbox_enc_0: 0.3432 (0.3432)  loss_giou_enc_0: 0.7592 (0.7592)  loss_mal_dn_0: 0.7441 (0.7441)  loss_bbox_dn_0: 0.4687 (0.4687)  loss_giou_dn_0: 1.0312 (1.0312)  loss_fgl_dn_0: 1.0313 (1.0313)  loss_ddf_dn_0: 0.1606 (0.1606)  loss_mal_dn_1: 0.7559 (0.7559)  loss_bbox_dn_1: 0.4408 (0.4408)  loss_giou_dn_1: 0.9416 (0.9416)  loss_fgl_dn_1: 1.0474 (1.0474)  loss_ddf_dn_1: 0.0480 (0.0480)  loss_mal_dn_2: 0.7544 (0.7544)  loss_bbox_dn_2: 0.4265 (0.4265)  loss_giou_dn_2: 0.9118 (0.9118)  loss_fgl_dn_2: 1.0512 (1.0512)  loss_mal_dn_pre: 0.7432 (0.7432)  loss_bbox_dn_pre: 0.4615 (0.4615)  loss_giou_dn_pre: 1.0314 (1.0314)  time: 1.7762  data: 1.3419  max mem: 10586\n"
     ]
    },
    {
     "name": "stderr",
     "output_type": "stream",
     "text": [
      "2025-03-10 15:03:54,154 - DEIMTrainer - INFO - Saving checkpoint to outputs/deim_hgnetv2_s_coco/checkpoint0079.pth\n"
     ]
    },
    {
     "name": "stdout",
     "output_type": "stream",
     "text": [
      "Epoch: [79]  [14/15]  eta: 0:00:00  lr: 0.000072  loss: 26.6605 (26.5649)  loss_mal: 1.2480 (1.2602)  loss_bbox: 0.2677 (0.2665)  loss_giou: 0.5774 (0.5658)  loss_fgl: 1.2066 (1.2067)  loss_mal_aux_0: 1.2305 (1.2381)  loss_bbox_aux_0: 0.2782 (0.2834)  loss_giou_aux_0: 0.6012 (0.5874)  loss_fgl_aux_0: 1.2157 (1.2126)  loss_ddf_aux_0: 0.0837 (0.0833)  loss_mal_aux_1: 1.2217 (1.2564)  loss_bbox_aux_1: 0.2680 (0.2700)  loss_giou_aux_1: 0.5753 (0.5698)  loss_fgl_aux_1: 1.2063 (1.2069)  loss_ddf_aux_1: 0.0211 (0.0213)  loss_mal_pre: 1.2275 (1.2357)  loss_bbox_pre: 0.2754 (0.2824)  loss_giou_pre: 0.6020 (0.5860)  loss_mal_enc_0: 1.2734 (1.2811)  loss_bbox_enc_0: 0.3582 (0.3728)  loss_giou_enc_0: 0.6980 (0.7028)  loss_mal_dn_0: 0.7529 (0.7515)  loss_bbox_dn_0: 0.4785 (0.5102)  loss_giou_dn_0: 1.0017 (0.9940)  loss_fgl_dn_0: 1.0563 (1.0584)  loss_ddf_dn_0: 0.1751 (0.1829)  loss_mal_dn_1: 0.7666 (0.7686)  loss_bbox_dn_1: 0.4394 (0.4491)  loss_giou_dn_1: 0.8743 (0.8731)  loss_fgl_dn_1: 1.0820 (1.0833)  loss_ddf_dn_1: 0.0486 (0.0494)  loss_mal_dn_2: 0.7588 (0.7603)  loss_bbox_dn_2: 0.4081 (0.4237)  loss_giou_dn_2: 0.8209 (0.8203)  loss_fgl_dn_2: 1.0952 (1.0931)  loss_mal_dn_pre: 0.7510 (0.7496)  loss_bbox_dn_pre: 0.4804 (0.5118)  loss_giou_dn_pre: 1.0036 (0.9962)  time: 0.4949  data: 0.1105  max mem: 10586\n",
      "Epoch: [79] Total time: 0:00:07 (0.4986 s / it)\n",
      "Averaged stats: lr: 0.000072  loss: 26.6605 (26.5649)  loss_mal: 1.2480 (1.2602)  loss_bbox: 0.2677 (0.2665)  loss_giou: 0.5774 (0.5658)  loss_fgl: 1.2066 (1.2067)  loss_mal_aux_0: 1.2305 (1.2381)  loss_bbox_aux_0: 0.2782 (0.2834)  loss_giou_aux_0: 0.6012 (0.5874)  loss_fgl_aux_0: 1.2157 (1.2126)  loss_ddf_aux_0: 0.0837 (0.0833)  loss_mal_aux_1: 1.2217 (1.2564)  loss_bbox_aux_1: 0.2680 (0.2700)  loss_giou_aux_1: 0.5753 (0.5698)  loss_fgl_aux_1: 1.2063 (1.2069)  loss_ddf_aux_1: 0.0211 (0.0213)  loss_mal_pre: 1.2275 (1.2357)  loss_bbox_pre: 0.2754 (0.2824)  loss_giou_pre: 0.6020 (0.5860)  loss_mal_enc_0: 1.2734 (1.2811)  loss_bbox_enc_0: 0.3582 (0.3728)  loss_giou_enc_0: 0.6980 (0.7028)  loss_mal_dn_0: 0.7529 (0.7515)  loss_bbox_dn_0: 0.4785 (0.5102)  loss_giou_dn_0: 1.0017 (0.9940)  loss_fgl_dn_0: 1.0563 (1.0584)  loss_ddf_dn_0: 0.1751 (0.1829)  loss_mal_dn_1: 0.7666 (0.7686)  loss_bbox_dn_1: 0.4394 (0.4491)  loss_giou_dn_1: 0.8743 (0.8731)  loss_fgl_dn_1: 1.0820 (1.0833)  loss_ddf_dn_1: 0.0486 (0.0494)  loss_mal_dn_2: 0.7588 (0.7603)  loss_bbox_dn_2: 0.4081 (0.4237)  loss_giou_dn_2: 0.8209 (0.8203)  loss_fgl_dn_2: 1.0952 (1.0931)  loss_mal_dn_pre: 0.7510 (0.7496)  loss_bbox_dn_pre: 0.4804 (0.5118)  loss_giou_dn_pre: 1.0036 (0.9962)\n"
     ]
    },
    {
     "name": "stderr",
     "output_type": "stream",
     "text": [
      "2025-03-10 15:03:54,469 - DEIMTrainer - INFO - Checkpoint saved to outputs/deim_hgnetv2_s_coco/checkpoint0079.pth\n",
      "2025-03-10 15:03:54,471 - DEIMTrainer - INFO - Evaluating model...\n"
     ]
    },
    {
     "name": "stdout",
     "output_type": "stream",
     "text": [
      "Test:  [0/5]  eta: 0:00:04    time: 0.9254  data: 0.6503  max mem: 10586\n"
     ]
    },
    {
     "name": "stderr",
     "output_type": "stream",
     "text": [
      "2025-03-10 15:03:55,934 - DEIMTrainer - INFO - Saving checkpoint to outputs/deim_hgnetv2_s_coco/best.pth\n"
     ]
    },
    {
     "name": "stdout",
     "output_type": "stream",
     "text": [
      "Test:  [4/5]  eta: 0:00:00    time: 0.2759  data: 0.1421  max mem: 10586\n",
      "Test: Total time: 0:00:01 (0.2867 s / it)\n",
      "Averaged stats: \n",
      "Accumulating evaluation results...\n",
      "COCOeval_opt.accumulate() finished...\n",
      "DONE (t=0.02s).\n",
      "IoU metric: bbox\n",
      " Average Precision  (AP) @[ IoU=0.50:0.95 | area=   all | maxDets=100 ] = 0.412\n",
      " Average Precision  (AP) @[ IoU=0.50      | area=   all | maxDets=100 ] = 0.608\n",
      " Average Precision  (AP) @[ IoU=0.75      | area=   all | maxDets=100 ] = 0.495\n",
      " Average Precision  (AP) @[ IoU=0.50:0.95 | area= small | maxDets=100 ] = 0.246\n",
      " Average Precision  (AP) @[ IoU=0.50:0.95 | area=medium | maxDets=100 ] = 0.474\n",
      " Average Precision  (AP) @[ IoU=0.50:0.95 | area= large | maxDets=100 ] = 0.339\n",
      " Average Recall     (AR) @[ IoU=0.50:0.95 | area=   all | maxDets=  1 ] = 0.360\n",
      " Average Recall     (AR) @[ IoU=0.50:0.95 | area=   all | maxDets= 10 ] = 0.605\n",
      " Average Recall     (AR) @[ IoU=0.50:0.95 | area=   all | maxDets=100 ] = 0.737\n",
      " Average Recall     (AR) @[ IoU=0.50:0.95 | area= small | maxDets=100 ] = 0.500\n",
      " Average Recall     (AR) @[ IoU=0.50:0.95 | area=medium | maxDets=100 ] = 0.709\n",
      " Average Recall     (AR) @[ IoU=0.50:0.95 | area= large | maxDets=100 ] = 0.532\n",
      " Average Recall     (AR) @[ IoU=0.50      | area=   all | maxDets=100 ] = 0.992\n",
      " Average Recall     (AR) @[ IoU=0.75      | area=   all | maxDets=100 ] = 0.880\n",
      "================================================\n",
      "{'coco_eval_bbox': [0.411812097542065, 0.6083264994704637, 0.4949194074316279, 0.24635480441202107, 0.4736632779625661, 0.33903004288347055, 0.3600692436218752, 0.6050481438639335, 0.7373776321144742, 0.5, 0.7086011904761906, 0.5318704383161715]}\n",
      "================================================\n"
     ]
    },
    {
     "name": "stderr",
     "output_type": "stream",
     "text": [
      "2025-03-10 15:03:58,081 - DEIMTrainer - INFO - Checkpoint saved to outputs/deim_hgnetv2_s_coco/best.pth\n",
      "2025-03-10 15:03:58,083 - DEIMTrainer - INFO - Epoch 79 - Train loss: 26.5649, Eval mAP: 0.4118\n",
      "2025-03-10 15:03:58,084 - DEIMTrainer - INFO - Best stats: {'epoch': 79, 'coco_eval_bbox': 0.411812097542065}\n"
     ]
    },
    {
     "name": "stdout",
     "output_type": "stream",
     "text": [
      "Epoch: [80]  [ 0/15]  eta: 0:00:25  lr: 0.000072  loss: 27.3669 (27.3669)  loss_mal: 1.5059 (1.5059)  loss_bbox: 0.3176 (0.3176)  loss_giou: 0.5801 (0.5801)  loss_fgl: 1.2109 (1.2109)  loss_mal_aux_0: 1.2334 (1.2334)  loss_bbox_aux_0: 0.3319 (0.3319)  loss_giou_aux_0: 0.6207 (0.6207)  loss_fgl_aux_0: 1.2121 (1.2121)  loss_ddf_aux_0: 0.0945 (0.0945)  loss_mal_aux_1: 1.3955 (1.3955)  loss_bbox_aux_1: 0.3225 (0.3225)  loss_giou_aux_1: 0.5954 (0.5954)  loss_fgl_aux_1: 1.2097 (1.2097)  loss_ddf_aux_1: 0.0209 (0.0209)  loss_mal_pre: 1.2324 (1.2324)  loss_bbox_pre: 0.3294 (0.3294)  loss_giou_pre: 0.6175 (0.6175)  loss_mal_enc_0: 1.2275 (1.2275)  loss_bbox_enc_0: 0.4040 (0.4040)  loss_giou_enc_0: 0.7216 (0.7216)  loss_mal_dn_0: 0.7554 (0.7554)  loss_bbox_dn_0: 0.5319 (0.5319)  loss_giou_dn_0: 0.9855 (0.9855)  loss_fgl_dn_0: 1.0715 (1.0715)  loss_ddf_dn_0: 0.2089 (0.2089)  loss_mal_dn_1: 0.7705 (0.7705)  loss_bbox_dn_1: 0.4697 (0.4697)  loss_giou_dn_1: 0.8511 (0.8511)  loss_fgl_dn_1: 1.1048 (1.1048)  loss_ddf_dn_1: 0.0508 (0.0508)  loss_mal_dn_2: 0.7612 (0.7612)  loss_bbox_dn_2: 0.4423 (0.4423)  loss_giou_dn_2: 0.7895 (0.7895)  loss_fgl_dn_2: 1.1172 (1.1172)  loss_mal_dn_pre: 0.7534 (0.7534)  loss_bbox_dn_pre: 0.5319 (0.5319)  loss_giou_dn_pre: 0.9877 (0.9877)  time: 1.6999  data: 1.2212  max mem: 10586\n"
     ]
    },
    {
     "name": "stderr",
     "output_type": "stream",
     "text": [
      "2025-03-10 15:04:05,235 - DEIMTrainer - INFO - Evaluating model...\n"
     ]
    },
    {
     "name": "stdout",
     "output_type": "stream",
     "text": [
      "Epoch: [80]  [14/15]  eta: 0:00:00  lr: 0.000074  loss: 26.7123 (26.7933)  loss_mal: 1.2607 (1.2751)  loss_bbox: 0.2704 (0.2753)  loss_giou: 0.5516 (0.5461)  loss_fgl: 1.2127 (1.2123)  loss_mal_aux_0: 1.2451 (1.2504)  loss_bbox_aux_0: 0.2900 (0.2949)  loss_giou_aux_0: 0.5722 (0.5758)  loss_fgl_aux_0: 1.2294 (1.2225)  loss_ddf_aux_0: 0.0900 (0.0930)  loss_mal_aux_1: 1.2900 (1.2898)  loss_bbox_aux_1: 0.2742 (0.2793)  loss_giou_aux_1: 0.5557 (0.5535)  loss_fgl_aux_1: 1.2158 (1.2151)  loss_ddf_aux_1: 0.0181 (0.0192)  loss_mal_pre: 1.2510 (1.2503)  loss_bbox_pre: 0.2896 (0.2936)  loss_giou_pre: 0.5719 (0.5746)  loss_mal_enc_0: 1.2715 (1.2683)  loss_bbox_enc_0: 0.3790 (0.3755)  loss_giou_enc_0: 0.6965 (0.6978)  loss_mal_dn_0: 0.7529 (0.7524)  loss_bbox_dn_0: 0.5454 (0.5412)  loss_giou_dn_0: 0.9888 (0.9925)  loss_fgl_dn_0: 1.0642 (1.0597)  loss_ddf_dn_0: 0.2110 (0.2243)  loss_mal_dn_1: 0.7705 (0.7723)  loss_bbox_dn_1: 0.4697 (0.4770)  loss_giou_dn_1: 0.8642 (0.8650)  loss_fgl_dn_1: 1.0888 (1.0840)  loss_ddf_dn_1: 0.0508 (0.0511)  loss_mal_dn_2: 0.7656 (0.7720)  loss_bbox_dn_2: 0.4423 (0.4492)  loss_giou_dn_2: 0.8034 (0.8072)  loss_fgl_dn_2: 1.1007 (1.0965)  loss_mal_dn_pre: 0.7515 (0.7514)  loss_bbox_dn_pre: 0.5446 (0.5422)  loss_giou_dn_pre: 0.9906 (0.9925)  time: 0.4708  data: 0.1015  max mem: 10586\n",
      "Epoch: [80] Total time: 0:00:07 (0.4755 s / it)\n",
      "Averaged stats: lr: 0.000074  loss: 26.7123 (26.7933)  loss_mal: 1.2607 (1.2751)  loss_bbox: 0.2704 (0.2753)  loss_giou: 0.5516 (0.5461)  loss_fgl: 1.2127 (1.2123)  loss_mal_aux_0: 1.2451 (1.2504)  loss_bbox_aux_0: 0.2900 (0.2949)  loss_giou_aux_0: 0.5722 (0.5758)  loss_fgl_aux_0: 1.2294 (1.2225)  loss_ddf_aux_0: 0.0900 (0.0930)  loss_mal_aux_1: 1.2900 (1.2898)  loss_bbox_aux_1: 0.2742 (0.2793)  loss_giou_aux_1: 0.5557 (0.5535)  loss_fgl_aux_1: 1.2158 (1.2151)  loss_ddf_aux_1: 0.0181 (0.0192)  loss_mal_pre: 1.2510 (1.2503)  loss_bbox_pre: 0.2896 (0.2936)  loss_giou_pre: 0.5719 (0.5746)  loss_mal_enc_0: 1.2715 (1.2683)  loss_bbox_enc_0: 0.3790 (0.3755)  loss_giou_enc_0: 0.6965 (0.6978)  loss_mal_dn_0: 0.7529 (0.7524)  loss_bbox_dn_0: 0.5454 (0.5412)  loss_giou_dn_0: 0.9888 (0.9925)  loss_fgl_dn_0: 1.0642 (1.0597)  loss_ddf_dn_0: 0.2110 (0.2243)  loss_mal_dn_1: 0.7705 (0.7723)  loss_bbox_dn_1: 0.4697 (0.4770)  loss_giou_dn_1: 0.8642 (0.8650)  loss_fgl_dn_1: 1.0888 (1.0840)  loss_ddf_dn_1: 0.0508 (0.0511)  loss_mal_dn_2: 0.7656 (0.7720)  loss_bbox_dn_2: 0.4423 (0.4492)  loss_giou_dn_2: 0.8034 (0.8072)  loss_fgl_dn_2: 1.1007 (1.0965)  loss_mal_dn_pre: 0.7515 (0.7514)  loss_bbox_dn_pre: 0.5446 (0.5422)  loss_giou_dn_pre: 0.9906 (0.9925)\n",
      "Test:  [0/5]  eta: 0:00:04    time: 0.8799  data: 0.5982  max mem: 10586\n"
     ]
    },
    {
     "name": "stderr",
     "output_type": "stream",
     "text": [
      "2025-03-10 15:04:06,714 - DEIMTrainer - INFO - Epoch 80 - Train loss: 26.7933, Eval mAP: 0.4025\n",
      "2025-03-10 15:04:06,714 - DEIMTrainer - INFO - Best stats: {'epoch': 79, 'coco_eval_bbox': 0.411812097542065}\n"
     ]
    },
    {
     "name": "stdout",
     "output_type": "stream",
     "text": [
      "Test:  [4/5]  eta: 0:00:00    time: 0.2766  data: 0.1387  max mem: 10586\n",
      "Test: Total time: 0:00:01 (0.2893 s / it)\n",
      "Averaged stats: \n",
      "Accumulating evaluation results...\n",
      "COCOeval_opt.accumulate() finished...\n",
      "DONE (t=0.02s).\n",
      "IoU metric: bbox\n",
      " Average Precision  (AP) @[ IoU=0.50:0.95 | area=   all | maxDets=100 ] = 0.402\n",
      " Average Precision  (AP) @[ IoU=0.50      | area=   all | maxDets=100 ] = 0.608\n",
      " Average Precision  (AP) @[ IoU=0.75      | area=   all | maxDets=100 ] = 0.469\n",
      " Average Precision  (AP) @[ IoU=0.50:0.95 | area= small | maxDets=100 ] = 0.118\n",
      " Average Precision  (AP) @[ IoU=0.50:0.95 | area=medium | maxDets=100 ] = 0.478\n",
      " Average Precision  (AP) @[ IoU=0.50:0.95 | area= large | maxDets=100 ] = 0.331\n",
      " Average Recall     (AR) @[ IoU=0.50:0.95 | area=   all | maxDets=  1 ] = 0.363\n",
      " Average Recall     (AR) @[ IoU=0.50:0.95 | area=   all | maxDets= 10 ] = 0.602\n",
      " Average Recall     (AR) @[ IoU=0.50:0.95 | area=   all | maxDets=100 ] = 0.733\n",
      " Average Recall     (AR) @[ IoU=0.50:0.95 | area= small | maxDets=100 ] = 0.520\n",
      " Average Recall     (AR) @[ IoU=0.50:0.95 | area=medium | maxDets=100 ] = 0.693\n",
      " Average Recall     (AR) @[ IoU=0.50:0.95 | area= large | maxDets=100 ] = 0.735\n",
      " Average Recall     (AR) @[ IoU=0.50      | area=   all | maxDets=100 ] = 0.993\n",
      " Average Recall     (AR) @[ IoU=0.75      | area=   all | maxDets=100 ] = 0.871\n",
      "================================================\n",
      "{'coco_eval_bbox': [0.40248254451954535, 0.6079979846368075, 0.4694858133122979, 0.11814901354312002, 0.4780728452781471, 0.33076083782858295, 0.36332042713621665, 0.6015184863869075, 0.7332540753593385, 0.52, 0.692559523809524, 0.7346739259083915]}\n",
      "================================================\n",
      "Epoch: [81]  [ 0/15]  eta: 0:00:22  lr: 0.000074  loss: 26.6941 (26.6941)  loss_mal: 1.2715 (1.2715)  loss_bbox: 0.2568 (0.2568)  loss_giou: 0.4867 (0.4867)  loss_fgl: 1.2305 (1.2305)  loss_mal_aux_0: 1.2695 (1.2695)  loss_bbox_aux_0: 0.2880 (0.2880)  loss_giou_aux_0: 0.5211 (0.5211)  loss_fgl_aux_0: 1.2376 (1.2376)  loss_ddf_aux_0: 0.1109 (0.1109)  loss_mal_aux_1: 1.2373 (1.2373)  loss_bbox_aux_1: 0.2625 (0.2625)  loss_giou_aux_1: 0.4945 (0.4945)  loss_fgl_aux_1: 1.2280 (1.2280)  loss_ddf_aux_1: 0.0217 (0.0217)  loss_mal_pre: 1.2656 (1.2656)  loss_bbox_pre: 0.2885 (0.2885)  loss_giou_pre: 0.5218 (0.5218)  loss_mal_enc_0: 1.3379 (1.3379)  loss_bbox_enc_0: 0.4075 (0.4075)  loss_giou_enc_0: 0.6648 (0.6648)  loss_mal_dn_0: 0.7456 (0.7456)  loss_bbox_dn_0: 0.5721 (0.5721)  loss_giou_dn_0: 0.9717 (0.9717)  loss_fgl_dn_0: 1.0762 (1.0762)  loss_ddf_dn_0: 0.3006 (0.3006)  loss_mal_dn_1: 0.7656 (0.7656)  loss_bbox_dn_1: 0.4817 (0.4817)  loss_giou_dn_1: 0.8191 (0.8191)  loss_fgl_dn_1: 1.1043 (1.1043)  loss_ddf_dn_1: 0.0665 (0.0665)  loss_mal_dn_2: 0.7549 (0.7549)  loss_bbox_dn_2: 0.4598 (0.4598)  loss_giou_dn_2: 0.7738 (0.7738)  loss_fgl_dn_2: 1.1086 (1.1086)  loss_mal_dn_pre: 0.7441 (0.7441)  loss_bbox_dn_pre: 0.5744 (0.5744)  loss_giou_dn_pre: 0.9724 (0.9724)  time: 1.5201  data: 1.0881  max mem: 10586\n"
     ]
    },
    {
     "name": "stderr",
     "output_type": "stream",
     "text": [
      "2025-03-10 15:04:13,713 - DEIMTrainer - INFO - Evaluating model...\n"
     ]
    },
    {
     "name": "stdout",
     "output_type": "stream",
     "text": [
      "Epoch: [81]  [14/15]  eta: 0:00:00  lr: 0.000076  loss: 26.3494 (26.4410)  loss_mal: 1.2266 (1.2174)  loss_bbox: 0.2568 (0.2629)  loss_giou: 0.5245 (0.5260)  loss_fgl: 1.2171 (1.2170)  loss_mal_aux_0: 1.2578 (1.2340)  loss_bbox_aux_0: 0.2702 (0.2856)  loss_giou_aux_0: 0.5624 (0.5608)  loss_fgl_aux_0: 1.2287 (1.2271)  loss_ddf_aux_0: 0.1000 (0.0978)  loss_mal_aux_1: 1.2246 (1.2232)  loss_bbox_aux_1: 0.2577 (0.2660)  loss_giou_aux_1: 0.5339 (0.5323)  loss_fgl_aux_1: 1.2209 (1.2182)  loss_ddf_aux_1: 0.0183 (0.0185)  loss_mal_pre: 1.2549 (1.2307)  loss_bbox_pre: 0.2701 (0.2845)  loss_giou_pre: 0.5629 (0.5597)  loss_mal_enc_0: 1.2246 (1.2548)  loss_bbox_enc_0: 0.3543 (0.3772)  loss_giou_enc_0: 0.6859 (0.6855)  loss_mal_dn_0: 0.7612 (0.7611)  loss_bbox_dn_0: 0.5360 (0.5401)  loss_giou_dn_0: 0.9532 (0.9586)  loss_fgl_dn_0: 1.0790 (1.0797)  loss_ddf_dn_0: 0.2642 (0.2551)  loss_mal_dn_1: 0.7832 (0.7823)  loss_bbox_dn_1: 0.4568 (0.4629)  loss_giou_dn_1: 0.8056 (0.8116)  loss_fgl_dn_1: 1.1043 (1.1056)  loss_ddf_dn_1: 0.0537 (0.0547)  loss_mal_dn_2: 0.7700 (0.7702)  loss_bbox_dn_2: 0.4325 (0.4396)  loss_giou_dn_2: 0.7656 (0.7654)  loss_fgl_dn_2: 1.1119 (1.1129)  loss_mal_dn_pre: 0.7607 (0.7595)  loss_bbox_dn_pre: 0.5381 (0.5425)  loss_giou_dn_pre: 0.9505 (0.9600)  time: 0.4609  data: 0.0931  max mem: 10586\n",
      "Epoch: [81] Total time: 0:00:06 (0.4649 s / it)\n",
      "Averaged stats: lr: 0.000076  loss: 26.3494 (26.4410)  loss_mal: 1.2266 (1.2174)  loss_bbox: 0.2568 (0.2629)  loss_giou: 0.5245 (0.5260)  loss_fgl: 1.2171 (1.2170)  loss_mal_aux_0: 1.2578 (1.2340)  loss_bbox_aux_0: 0.2702 (0.2856)  loss_giou_aux_0: 0.5624 (0.5608)  loss_fgl_aux_0: 1.2287 (1.2271)  loss_ddf_aux_0: 0.1000 (0.0978)  loss_mal_aux_1: 1.2246 (1.2232)  loss_bbox_aux_1: 0.2577 (0.2660)  loss_giou_aux_1: 0.5339 (0.5323)  loss_fgl_aux_1: 1.2209 (1.2182)  loss_ddf_aux_1: 0.0183 (0.0185)  loss_mal_pre: 1.2549 (1.2307)  loss_bbox_pre: 0.2701 (0.2845)  loss_giou_pre: 0.5629 (0.5597)  loss_mal_enc_0: 1.2246 (1.2548)  loss_bbox_enc_0: 0.3543 (0.3772)  loss_giou_enc_0: 0.6859 (0.6855)  loss_mal_dn_0: 0.7612 (0.7611)  loss_bbox_dn_0: 0.5360 (0.5401)  loss_giou_dn_0: 0.9532 (0.9586)  loss_fgl_dn_0: 1.0790 (1.0797)  loss_ddf_dn_0: 0.2642 (0.2551)  loss_mal_dn_1: 0.7832 (0.7823)  loss_bbox_dn_1: 0.4568 (0.4629)  loss_giou_dn_1: 0.8056 (0.8116)  loss_fgl_dn_1: 1.1043 (1.1056)  loss_ddf_dn_1: 0.0537 (0.0547)  loss_mal_dn_2: 0.7700 (0.7702)  loss_bbox_dn_2: 0.4325 (0.4396)  loss_giou_dn_2: 0.7656 (0.7654)  loss_fgl_dn_2: 1.1119 (1.1129)  loss_mal_dn_pre: 0.7607 (0.7595)  loss_bbox_dn_pre: 0.5381 (0.5425)  loss_giou_dn_pre: 0.9505 (0.9600)\n",
      "Test:  [0/5]  eta: 0:00:04    time: 0.8858  data: 0.6049  max mem: 10586\n"
     ]
    },
    {
     "name": "stderr",
     "output_type": "stream",
     "text": [
      "2025-03-10 15:04:15,165 - DEIMTrainer - INFO - Saving checkpoint to outputs/deim_hgnetv2_s_coco/best.pth\n"
     ]
    },
    {
     "name": "stdout",
     "output_type": "stream",
     "text": [
      "Test:  [4/5]  eta: 0:00:00    time: 0.2747  data: 0.1402  max mem: 10586\n",
      "Test: Total time: 0:00:01 (0.2843 s / it)\n",
      "Averaged stats: \n",
      "Accumulating evaluation results...\n",
      "COCOeval_opt.accumulate() finished...\n",
      "DONE (t=0.02s).\n",
      "IoU metric: bbox\n",
      " Average Precision  (AP) @[ IoU=0.50:0.95 | area=   all | maxDets=100 ] = 0.462\n",
      " Average Precision  (AP) @[ IoU=0.50      | area=   all | maxDets=100 ] = 0.676\n",
      " Average Precision  (AP) @[ IoU=0.75      | area=   all | maxDets=100 ] = 0.579\n",
      " Average Precision  (AP) @[ IoU=0.50:0.95 | area= small | maxDets=100 ] = 0.286\n",
      " Average Precision  (AP) @[ IoU=0.50:0.95 | area=medium | maxDets=100 ] = 0.461\n",
      " Average Precision  (AP) @[ IoU=0.50:0.95 | area= large | maxDets=100 ] = 0.376\n",
      " Average Recall     (AR) @[ IoU=0.50:0.95 | area=   all | maxDets=  1 ] = 0.374\n",
      " Average Recall     (AR) @[ IoU=0.50:0.95 | area=   all | maxDets= 10 ] = 0.619\n",
      " Average Recall     (AR) @[ IoU=0.50:0.95 | area=   all | maxDets=100 ] = 0.742\n",
      " Average Recall     (AR) @[ IoU=0.50:0.95 | area= small | maxDets=100 ] = 0.520\n",
      " Average Recall     (AR) @[ IoU=0.50:0.95 | area=medium | maxDets=100 ] = 0.688\n",
      " Average Recall     (AR) @[ IoU=0.50:0.95 | area= large | maxDets=100 ] = 0.531\n",
      " Average Recall     (AR) @[ IoU=0.50      | area=   all | maxDets=100 ] = 0.990\n",
      " Average Recall     (AR) @[ IoU=0.75      | area=   all | maxDets=100 ] = 0.896\n",
      "================================================\n",
      "{'coco_eval_bbox': [0.46215805513021696, 0.6756740491147961, 0.5791981451318621, 0.28649850536299615, 0.46143046861266473, 0.37591765428163443, 0.3742264314632735, 0.619201850780798, 0.7418131332605017, 0.52, 0.6875595238095239, 0.5310458831419892]}\n",
      "================================================\n"
     ]
    },
    {
     "name": "stderr",
     "output_type": "stream",
     "text": [
      "2025-03-10 15:04:15,524 - DEIMTrainer - INFO - Checkpoint saved to outputs/deim_hgnetv2_s_coco/best.pth\n",
      "2025-03-10 15:04:15,526 - DEIMTrainer - INFO - Epoch 81 - Train loss: 26.4410, Eval mAP: 0.4622\n",
      "2025-03-10 15:04:15,527 - DEIMTrainer - INFO - Best stats: {'epoch': 81, 'coco_eval_bbox': 0.46215805513021696}\n"
     ]
    },
    {
     "name": "stdout",
     "output_type": "stream",
     "text": [
      "Epoch: [82]  [ 0/15]  eta: 0:00:26  lr: 0.000076  loss: 26.6171 (26.6171)  loss_mal: 1.3057 (1.3057)  loss_bbox: 0.2758 (0.2758)  loss_giou: 0.5398 (0.5398)  loss_fgl: 1.2040 (1.2040)  loss_mal_aux_0: 1.1875 (1.1875)  loss_bbox_aux_0: 0.2932 (0.2932)  loss_giou_aux_0: 0.5788 (0.5788)  loss_fgl_aux_0: 1.2060 (1.2060)  loss_ddf_aux_0: 0.0934 (0.0934)  loss_mal_aux_1: 1.3057 (1.3057)  loss_bbox_aux_1: 0.2757 (0.2757)  loss_giou_aux_1: 0.5430 (0.5430)  loss_fgl_aux_1: 1.2030 (1.2030)  loss_ddf_aux_1: 0.0161 (0.0161)  loss_mal_pre: 1.1826 (1.1826)  loss_bbox_pre: 0.2916 (0.2916)  loss_giou_pre: 0.5780 (0.5780)  loss_mal_enc_0: 1.2588 (1.2588)  loss_bbox_enc_0: 0.3828 (0.3828)  loss_giou_enc_0: 0.7054 (0.7054)  loss_mal_dn_0: 0.7549 (0.7549)  loss_bbox_dn_0: 0.5560 (0.5560)  loss_giou_dn_0: 0.9669 (0.9669)  loss_fgl_dn_0: 1.0795 (1.0795)  loss_ddf_dn_0: 0.2954 (0.2954)  loss_mal_dn_1: 0.7827 (0.7827)  loss_bbox_dn_1: 0.4638 (0.4638)  loss_giou_dn_1: 0.7860 (0.7860)  loss_fgl_dn_1: 1.1108 (1.1108)  loss_ddf_dn_1: 0.0549 (0.0549)  loss_mal_dn_2: 0.7642 (0.7642)  loss_bbox_dn_2: 0.4442 (0.4442)  loss_giou_dn_2: 0.7445 (0.7445)  loss_fgl_dn_2: 1.1166 (1.1166)  loss_mal_dn_pre: 0.7544 (0.7544)  loss_bbox_dn_pre: 0.5528 (0.5528)  loss_giou_dn_pre: 0.9628 (0.9628)  time: 1.7596  data: 1.3206  max mem: 10586\n"
     ]
    },
    {
     "name": "stderr",
     "output_type": "stream",
     "text": [
      "2025-03-10 15:04:22,728 - DEIMTrainer - INFO - Evaluating model...\n"
     ]
    },
    {
     "name": "stdout",
     "output_type": "stream",
     "text": [
      "Epoch: [82]  [14/15]  eta: 0:00:00  lr: 0.000077  loss: 26.3937 (26.4172)  loss_mal: 1.2158 (1.2221)  loss_bbox: 0.2542 (0.2598)  loss_giou: 0.5062 (0.5300)  loss_fgl: 1.2149 (1.2145)  loss_mal_aux_0: 1.2197 (1.2087)  loss_bbox_aux_0: 0.2732 (0.2796)  loss_giou_aux_0: 0.5452 (0.5611)  loss_fgl_aux_0: 1.2289 (1.2248)  loss_ddf_aux_0: 0.1031 (0.1026)  loss_mal_aux_1: 1.2451 (1.2288)  loss_bbox_aux_1: 0.2573 (0.2619)  loss_giou_aux_1: 0.5115 (0.5344)  loss_fgl_aux_1: 1.2165 (1.2161)  loss_ddf_aux_1: 0.0156 (0.0156)  loss_mal_pre: 1.2217 (1.2076)  loss_bbox_pre: 0.2723 (0.2792)  loss_giou_pre: 0.5447 (0.5598)  loss_mal_enc_0: 1.2588 (1.2807)  loss_bbox_enc_0: 0.3576 (0.3700)  loss_giou_enc_0: 0.6773 (0.6766)  loss_mal_dn_0: 0.7578 (0.7570)  loss_bbox_dn_0: 0.5158 (0.5376)  loss_giou_dn_0: 0.9681 (0.9691)  loss_fgl_dn_0: 1.0763 (1.0753)  loss_ddf_dn_0: 0.2787 (0.2752)  loss_mal_dn_1: 0.7803 (0.7799)  loss_bbox_dn_1: 0.4246 (0.4635)  loss_giou_dn_1: 0.8176 (0.8197)  loss_fgl_dn_1: 1.0956 (1.0990)  loss_ddf_dn_1: 0.0484 (0.0479)  loss_mal_dn_2: 0.7666 (0.7675)  loss_bbox_dn_2: 0.3959 (0.4402)  loss_giou_dn_2: 0.7650 (0.7756)  loss_fgl_dn_2: 1.1103 (1.1086)  loss_mal_dn_pre: 0.7554 (0.7560)  loss_bbox_dn_pre: 0.5209 (0.5411)  loss_giou_dn_pre: 0.9672 (0.9700)  time: 0.4751  data: 0.1023  max mem: 10586\n",
      "Epoch: [82] Total time: 0:00:07 (0.4786 s / it)\n",
      "Averaged stats: lr: 0.000077  loss: 26.3937 (26.4172)  loss_mal: 1.2158 (1.2221)  loss_bbox: 0.2542 (0.2598)  loss_giou: 0.5062 (0.5300)  loss_fgl: 1.2149 (1.2145)  loss_mal_aux_0: 1.2197 (1.2087)  loss_bbox_aux_0: 0.2732 (0.2796)  loss_giou_aux_0: 0.5452 (0.5611)  loss_fgl_aux_0: 1.2289 (1.2248)  loss_ddf_aux_0: 0.1031 (0.1026)  loss_mal_aux_1: 1.2451 (1.2288)  loss_bbox_aux_1: 0.2573 (0.2619)  loss_giou_aux_1: 0.5115 (0.5344)  loss_fgl_aux_1: 1.2165 (1.2161)  loss_ddf_aux_1: 0.0156 (0.0156)  loss_mal_pre: 1.2217 (1.2076)  loss_bbox_pre: 0.2723 (0.2792)  loss_giou_pre: 0.5447 (0.5598)  loss_mal_enc_0: 1.2588 (1.2807)  loss_bbox_enc_0: 0.3576 (0.3700)  loss_giou_enc_0: 0.6773 (0.6766)  loss_mal_dn_0: 0.7578 (0.7570)  loss_bbox_dn_0: 0.5158 (0.5376)  loss_giou_dn_0: 0.9681 (0.9691)  loss_fgl_dn_0: 1.0763 (1.0753)  loss_ddf_dn_0: 0.2787 (0.2752)  loss_mal_dn_1: 0.7803 (0.7799)  loss_bbox_dn_1: 0.4246 (0.4635)  loss_giou_dn_1: 0.8176 (0.8197)  loss_fgl_dn_1: 1.0956 (1.0990)  loss_ddf_dn_1: 0.0484 (0.0479)  loss_mal_dn_2: 0.7666 (0.7675)  loss_bbox_dn_2: 0.3959 (0.4402)  loss_giou_dn_2: 0.7650 (0.7756)  loss_fgl_dn_2: 1.1103 (1.1086)  loss_mal_dn_pre: 0.7554 (0.7560)  loss_bbox_dn_pre: 0.5209 (0.5411)  loss_giou_dn_pre: 0.9672 (0.9700)\n",
      "Test:  [0/5]  eta: 0:00:03    time: 0.7355  data: 0.6207  max mem: 10586\n"
     ]
    },
    {
     "name": "stderr",
     "output_type": "stream",
     "text": [
      "2025-03-10 15:04:24,193 - DEIMTrainer - INFO - Epoch 82 - Train loss: 26.4172, Eval mAP: 0.4515\n",
      "2025-03-10 15:04:24,194 - DEIMTrainer - INFO - Best stats: {'epoch': 81, 'coco_eval_bbox': 0.46215805513021696}\n"
     ]
    },
    {
     "name": "stdout",
     "output_type": "stream",
     "text": [
      "Test:  [4/5]  eta: 0:00:00    time: 0.2761  data: 0.1424  max mem: 10586\n",
      "Test: Total time: 0:00:01 (0.2864 s / it)\n",
      "Averaged stats: \n",
      "Accumulating evaluation results...\n",
      "COCOeval_opt.accumulate() finished...\n",
      "DONE (t=0.02s).\n",
      "IoU metric: bbox\n",
      " Average Precision  (AP) @[ IoU=0.50:0.95 | area=   all | maxDets=100 ] = 0.452\n",
      " Average Precision  (AP) @[ IoU=0.50      | area=   all | maxDets=100 ] = 0.664\n",
      " Average Precision  (AP) @[ IoU=0.75      | area=   all | maxDets=100 ] = 0.529\n",
      " Average Precision  (AP) @[ IoU=0.50:0.95 | area= small | maxDets=100 ] = 0.188\n",
      " Average Precision  (AP) @[ IoU=0.50:0.95 | area=medium | maxDets=100 ] = 0.448\n",
      " Average Precision  (AP) @[ IoU=0.50:0.95 | area= large | maxDets=100 ] = 0.364\n",
      " Average Recall     (AR) @[ IoU=0.50:0.95 | area=   all | maxDets=  1 ] = 0.354\n",
      " Average Recall     (AR) @[ IoU=0.50:0.95 | area=   all | maxDets= 10 ] = 0.625\n",
      " Average Recall     (AR) @[ IoU=0.50:0.95 | area=   all | maxDets=100 ] = 0.744\n",
      " Average Recall     (AR) @[ IoU=0.50:0.95 | area= small | maxDets=100 ] = 0.500\n",
      " Average Recall     (AR) @[ IoU=0.50:0.95 | area=medium | maxDets=100 ] = 0.643\n",
      " Average Recall     (AR) @[ IoU=0.50:0.95 | area= large | maxDets=100 ] = 0.760\n",
      " Average Recall     (AR) @[ IoU=0.50      | area=   all | maxDets=100 ] = 0.996\n",
      " Average Recall     (AR) @[ IoU=0.75      | area=   all | maxDets=100 ] = 0.888\n",
      "================================================\n",
      "{'coco_eval_bbox': [0.45154163420082144, 0.6644188629070688, 0.528689207390004, 0.1882761459039661, 0.4479216569594309, 0.36356691500874705, 0.3543591885697149, 0.6245600646916436, 0.7435059336375125, 0.5, 0.6432440476190476, 0.7603463920779578]}\n",
      "================================================\n",
      "Epoch: [83]  [ 0/15]  eta: 0:00:23  lr: 0.000078  loss: 26.1898 (26.1898)  loss_mal: 1.2930 (1.2930)  loss_bbox: 0.2385 (0.2385)  loss_giou: 0.4894 (0.4894)  loss_fgl: 1.2582 (1.2582)  loss_mal_aux_0: 1.2744 (1.2744)  loss_bbox_aux_0: 0.2513 (0.2513)  loss_giou_aux_0: 0.5183 (0.5183)  loss_fgl_aux_0: 1.2524 (1.2524)  loss_ddf_aux_0: 0.1273 (0.1273)  loss_mal_aux_1: 1.3818 (1.3818)  loss_bbox_aux_1: 0.2384 (0.2384)  loss_giou_aux_1: 0.4908 (0.4908)  loss_fgl_aux_1: 1.2507 (1.2507)  loss_ddf_aux_1: 0.0198 (0.0198)  loss_mal_pre: 1.2744 (1.2744)  loss_bbox_pre: 0.2516 (0.2516)  loss_giou_pre: 0.5174 (0.5174)  loss_mal_enc_0: 1.2148 (1.2148)  loss_bbox_enc_0: 0.3134 (0.3134)  loss_giou_enc_0: 0.6430 (0.6430)  loss_mal_dn_0: 0.7603 (0.7603)  loss_bbox_dn_0: 0.4573 (0.4573)  loss_giou_dn_0: 0.9314 (0.9314)  loss_fgl_dn_0: 1.1118 (1.1118)  loss_ddf_dn_0: 0.3411 (0.3411)  loss_mal_dn_1: 0.8105 (0.8105)  loss_bbox_dn_1: 0.3732 (0.3732)  loss_giou_dn_1: 0.7510 (0.7510)  loss_fgl_dn_1: 1.1469 (1.1469)  loss_ddf_dn_1: 0.0610 (0.0610)  loss_mal_dn_2: 0.7988 (0.7988)  loss_bbox_dn_2: 0.3451 (0.3451)  loss_giou_dn_2: 0.6967 (0.6967)  loss_fgl_dn_2: 1.1592 (1.1592)  loss_mal_dn_pre: 0.7603 (0.7603)  loss_bbox_dn_pre: 0.4590 (0.4590)  loss_giou_dn_pre: 0.9271 (0.9271)  time: 1.5595  data: 1.0894  max mem: 10586\n"
     ]
    },
    {
     "name": "stderr",
     "output_type": "stream",
     "text": [
      "2025-03-10 15:04:31,348 - DEIMTrainer - INFO - Saving checkpoint to outputs/deim_hgnetv2_s_coco/checkpoint0083.pth\n"
     ]
    },
    {
     "name": "stdout",
     "output_type": "stream",
     "text": [
      "Epoch: [83]  [14/15]  eta: 0:00:00  lr: 0.000079  loss: 26.0565 (26.1795)  loss_mal: 1.2129 (1.2077)  loss_bbox: 0.2385 (0.2570)  loss_giou: 0.4809 (0.4936)  loss_fgl: 1.2210 (1.2262)  loss_mal_aux_0: 1.1885 (1.2197)  loss_bbox_aux_0: 0.2738 (0.2797)  loss_giou_aux_0: 0.5183 (0.5328)  loss_fgl_aux_0: 1.2389 (1.2377)  loss_ddf_aux_0: 0.1190 (0.1145)  loss_mal_aux_1: 1.2305 (1.2425)  loss_bbox_aux_1: 0.2400 (0.2595)  loss_giou_aux_1: 0.4850 (0.4991)  loss_fgl_aux_1: 1.2240 (1.2263)  loss_ddf_aux_1: 0.0160 (0.0164)  loss_mal_pre: 1.1885 (1.2186)  loss_bbox_pre: 0.2710 (0.2787)  loss_giou_pre: 0.5174 (0.5307)  loss_mal_enc_0: 1.2773 (1.2768)  loss_bbox_enc_0: 0.3570 (0.3629)  loss_giou_enc_0: 0.6389 (0.6520)  loss_mal_dn_0: 0.7681 (0.7669)  loss_bbox_dn_0: 0.5191 (0.5244)  loss_giou_dn_0: 0.9273 (0.9267)  loss_fgl_dn_0: 1.1077 (1.0978)  loss_ddf_dn_0: 0.3021 (0.3137)  loss_mal_dn_1: 0.7842 (0.7859)  loss_bbox_dn_1: 0.4327 (0.4389)  loss_giou_dn_1: 0.7510 (0.7682)  loss_fgl_dn_1: 1.1311 (1.1189)  loss_ddf_dn_1: 0.0517 (0.0521)  loss_mal_dn_2: 0.7686 (0.7701)  loss_bbox_dn_2: 0.4052 (0.4126)  loss_giou_dn_2: 0.6967 (0.7216)  loss_fgl_dn_2: 1.1381 (1.1280)  loss_mal_dn_pre: 0.7676 (0.7659)  loss_bbox_dn_pre: 0.5232 (0.5283)  loss_giou_dn_pre: 0.9271 (0.9271)  time: 0.4715  data: 0.0902  max mem: 10586\n",
      "Epoch: [83] Total time: 0:00:07 (0.4753 s / it)\n",
      "Averaged stats: lr: 0.000079  loss: 26.0565 (26.1795)  loss_mal: 1.2129 (1.2077)  loss_bbox: 0.2385 (0.2570)  loss_giou: 0.4809 (0.4936)  loss_fgl: 1.2210 (1.2262)  loss_mal_aux_0: 1.1885 (1.2197)  loss_bbox_aux_0: 0.2738 (0.2797)  loss_giou_aux_0: 0.5183 (0.5328)  loss_fgl_aux_0: 1.2389 (1.2377)  loss_ddf_aux_0: 0.1190 (0.1145)  loss_mal_aux_1: 1.2305 (1.2425)  loss_bbox_aux_1: 0.2400 (0.2595)  loss_giou_aux_1: 0.4850 (0.4991)  loss_fgl_aux_1: 1.2240 (1.2263)  loss_ddf_aux_1: 0.0160 (0.0164)  loss_mal_pre: 1.1885 (1.2186)  loss_bbox_pre: 0.2710 (0.2787)  loss_giou_pre: 0.5174 (0.5307)  loss_mal_enc_0: 1.2773 (1.2768)  loss_bbox_enc_0: 0.3570 (0.3629)  loss_giou_enc_0: 0.6389 (0.6520)  loss_mal_dn_0: 0.7681 (0.7669)  loss_bbox_dn_0: 0.5191 (0.5244)  loss_giou_dn_0: 0.9273 (0.9267)  loss_fgl_dn_0: 1.1077 (1.0978)  loss_ddf_dn_0: 0.3021 (0.3137)  loss_mal_dn_1: 0.7842 (0.7859)  loss_bbox_dn_1: 0.4327 (0.4389)  loss_giou_dn_1: 0.7510 (0.7682)  loss_fgl_dn_1: 1.1311 (1.1189)  loss_ddf_dn_1: 0.0517 (0.0521)  loss_mal_dn_2: 0.7686 (0.7701)  loss_bbox_dn_2: 0.4052 (0.4126)  loss_giou_dn_2: 0.6967 (0.7216)  loss_fgl_dn_2: 1.1381 (1.1280)  loss_mal_dn_pre: 0.7676 (0.7659)  loss_bbox_dn_pre: 0.5232 (0.5283)  loss_giou_dn_pre: 0.9271 (0.9271)\n"
     ]
    },
    {
     "name": "stderr",
     "output_type": "stream",
     "text": [
      "2025-03-10 15:04:31,616 - DEIMTrainer - INFO - Checkpoint saved to outputs/deim_hgnetv2_s_coco/checkpoint0083.pth\n",
      "2025-03-10 15:04:31,617 - DEIMTrainer - INFO - Evaluating model...\n"
     ]
    },
    {
     "name": "stdout",
     "output_type": "stream",
     "text": [
      "Test:  [0/5]  eta: 0:00:03    time: 0.7473  data: 0.6359  max mem: 10586\n"
     ]
    },
    {
     "name": "stderr",
     "output_type": "stream",
     "text": [
      "2025-03-10 15:04:33,073 - DEIMTrainer - INFO - Saving checkpoint to outputs/deim_hgnetv2_s_coco/best.pth\n"
     ]
    },
    {
     "name": "stdout",
     "output_type": "stream",
     "text": [
      "Test:  [4/5]  eta: 0:00:00    time: 0.2731  data: 0.1388  max mem: 10586\n",
      "Test: Total time: 0:00:01 (0.2854 s / it)\n",
      "Averaged stats: \n",
      "Accumulating evaluation results...\n",
      "COCOeval_opt.accumulate() finished...\n",
      "DONE (t=0.02s).\n",
      "IoU metric: bbox\n",
      " Average Precision  (AP) @[ IoU=0.50:0.95 | area=   all | maxDets=100 ] = 0.480\n",
      " Average Precision  (AP) @[ IoU=0.50      | area=   all | maxDets=100 ] = 0.711\n",
      " Average Precision  (AP) @[ IoU=0.75      | area=   all | maxDets=100 ] = 0.554\n",
      " Average Precision  (AP) @[ IoU=0.50:0.95 | area= small | maxDets=100 ] = 0.298\n",
      " Average Precision  (AP) @[ IoU=0.50:0.95 | area=medium | maxDets=100 ] = 0.552\n",
      " Average Precision  (AP) @[ IoU=0.50:0.95 | area= large | maxDets=100 ] = 0.380\n",
      " Average Recall     (AR) @[ IoU=0.50:0.95 | area=   all | maxDets=  1 ] = 0.374\n",
      " Average Recall     (AR) @[ IoU=0.50:0.95 | area=   all | maxDets= 10 ] = 0.636\n",
      " Average Recall     (AR) @[ IoU=0.50:0.95 | area=   all | maxDets=100 ] = 0.754\n",
      " Average Recall     (AR) @[ IoU=0.50:0.95 | area= small | maxDets=100 ] = 0.520\n",
      " Average Recall     (AR) @[ IoU=0.50:0.95 | area=medium | maxDets=100 ] = 0.745\n",
      " Average Recall     (AR) @[ IoU=0.50:0.95 | area= large | maxDets=100 ] = 0.775\n",
      " Average Recall     (AR) @[ IoU=0.50      | area=   all | maxDets=100 ] = 0.993\n",
      " Average Recall     (AR) @[ IoU=0.75      | area=   all | maxDets=100 ] = 0.879\n",
      "================================================\n",
      "{'coco_eval_bbox': [0.4796681808297799, 0.7108635115318027, 0.5543699825691032, 0.2983680954799187, 0.5521901814316805, 0.3804917987777206, 0.37384620739883895, 0.6362409763725553, 0.7541835357624832, 0.52, 0.7454464285714286, 0.7749642955773858]}\n",
      "================================================\n"
     ]
    },
    {
     "name": "stderr",
     "output_type": "stream",
     "text": [
      "2025-03-10 15:04:34,233 - DEIMTrainer - INFO - Checkpoint saved to outputs/deim_hgnetv2_s_coco/best.pth\n",
      "2025-03-10 15:04:34,235 - DEIMTrainer - INFO - Epoch 83 - Train loss: 26.1795, Eval mAP: 0.4797\n",
      "2025-03-10 15:04:34,236 - DEIMTrainer - INFO - Best stats: {'epoch': 83, 'coco_eval_bbox': 0.4796681808297799}\n"
     ]
    },
    {
     "name": "stdout",
     "output_type": "stream",
     "text": [
      "Epoch: [84]  [ 0/15]  eta: 0:00:23  lr: 0.000079  loss: 26.2072 (26.2072)  loss_mal: 1.1309 (1.1309)  loss_bbox: 0.2883 (0.2883)  loss_giou: 0.5314 (0.5314)  loss_fgl: 1.2024 (1.2024)  loss_mal_aux_0: 1.1211 (1.1211)  loss_bbox_aux_0: 0.3019 (0.3019)  loss_giou_aux_0: 0.5618 (0.5618)  loss_fgl_aux_0: 1.2115 (1.2115)  loss_ddf_aux_0: 0.1377 (0.1377)  loss_mal_aux_1: 1.1084 (1.1084)  loss_bbox_aux_1: 0.2887 (0.2887)  loss_giou_aux_1: 0.5345 (0.5345)  loss_fgl_aux_1: 1.2035 (1.2035)  loss_ddf_aux_1: 0.0171 (0.0171)  loss_mal_pre: 1.1133 (1.1133)  loss_bbox_pre: 0.3021 (0.3021)  loss_giou_pre: 0.5619 (0.5619)  loss_mal_enc_0: 1.2959 (1.2959)  loss_bbox_enc_0: 0.4506 (0.4506)  loss_giou_enc_0: 0.7288 (0.7288)  loss_mal_dn_0: 0.7588 (0.7588)  loss_bbox_dn_0: 0.5017 (0.5017)  loss_giou_dn_0: 0.9408 (0.9408)  loss_fgl_dn_0: 1.1067 (1.1067)  loss_ddf_dn_0: 0.3915 (0.3915)  loss_mal_dn_1: 0.7881 (0.7881)  loss_bbox_dn_1: 0.4130 (0.4130)  loss_giou_dn_1: 0.7762 (0.7762)  loss_fgl_dn_1: 1.1251 (1.1251)  loss_ddf_dn_1: 0.0678 (0.0678)  loss_mal_dn_2: 0.8066 (0.8066)  loss_bbox_dn_2: 0.3845 (0.3845)  loss_giou_dn_2: 0.7203 (0.7203)  loss_fgl_dn_2: 1.1350 (1.1350)  loss_mal_dn_pre: 0.7598 (0.7598)  loss_bbox_dn_pre: 0.5035 (0.5035)  loss_giou_dn_pre: 0.9363 (0.9363)  time: 1.5734  data: 1.1229  max mem: 10586\n"
     ]
    },
    {
     "name": "stderr",
     "output_type": "stream",
     "text": [
      "2025-03-10 15:04:41,485 - DEIMTrainer - INFO - Evaluating model...\n"
     ]
    },
    {
     "name": "stdout",
     "output_type": "stream",
     "text": [
      "Epoch: [84]  [14/15]  eta: 0:00:00  lr: 0.000081  loss: 25.6428 (25.7840)  loss_mal: 1.1338 (1.1746)  loss_bbox: 0.2288 (0.2330)  loss_giou: 0.5312 (0.5283)  loss_fgl: 1.2077 (1.2143)  loss_mal_aux_0: 1.1602 (1.1766)  loss_bbox_aux_0: 0.2458 (0.2518)  loss_giou_aux_0: 0.5610 (0.5580)  loss_fgl_aux_0: 1.2180 (1.2264)  loss_ddf_aux_0: 0.1124 (0.1154)  loss_mal_aux_1: 1.1768 (1.1856)  loss_bbox_aux_1: 0.2323 (0.2348)  loss_giou_aux_1: 0.5345 (0.5310)  loss_fgl_aux_1: 1.2096 (1.2151)  loss_ddf_aux_1: 0.0140 (0.0142)  loss_mal_pre: 1.1631 (1.1762)  loss_bbox_pre: 0.2451 (0.2513)  loss_giou_pre: 0.5618 (0.5570)  loss_mal_enc_0: 1.2383 (1.2428)  loss_bbox_enc_0: 0.3147 (0.3334)  loss_giou_enc_0: 0.6942 (0.6849)  loss_mal_dn_0: 0.7695 (0.7674)  loss_bbox_dn_0: 0.4522 (0.4577)  loss_giou_dn_0: 0.9396 (0.9341)  loss_fgl_dn_0: 1.0945 (1.0951)  loss_ddf_dn_0: 0.3523 (0.3525)  loss_mal_dn_1: 0.7861 (0.7867)  loss_bbox_dn_1: 0.3833 (0.3839)  loss_giou_dn_1: 0.7810 (0.7787)  loss_fgl_dn_1: 1.1138 (1.1132)  loss_ddf_dn_1: 0.0537 (0.0537)  loss_mal_dn_2: 0.7720 (0.7798)  loss_bbox_dn_2: 0.3604 (0.3609)  loss_giou_dn_2: 0.7304 (0.7319)  loss_fgl_dn_2: 1.1219 (1.1220)  loss_mal_dn_pre: 0.7686 (0.7669)  loss_bbox_dn_pre: 0.4609 (0.4607)  loss_giou_dn_pre: 0.9363 (0.9339)  time: 0.4785  data: 0.0949  max mem: 10586\n",
      "Epoch: [84] Total time: 0:00:07 (0.4821 s / it)\n",
      "Averaged stats: lr: 0.000081  loss: 25.6428 (25.7840)  loss_mal: 1.1338 (1.1746)  loss_bbox: 0.2288 (0.2330)  loss_giou: 0.5312 (0.5283)  loss_fgl: 1.2077 (1.2143)  loss_mal_aux_0: 1.1602 (1.1766)  loss_bbox_aux_0: 0.2458 (0.2518)  loss_giou_aux_0: 0.5610 (0.5580)  loss_fgl_aux_0: 1.2180 (1.2264)  loss_ddf_aux_0: 0.1124 (0.1154)  loss_mal_aux_1: 1.1768 (1.1856)  loss_bbox_aux_1: 0.2323 (0.2348)  loss_giou_aux_1: 0.5345 (0.5310)  loss_fgl_aux_1: 1.2096 (1.2151)  loss_ddf_aux_1: 0.0140 (0.0142)  loss_mal_pre: 1.1631 (1.1762)  loss_bbox_pre: 0.2451 (0.2513)  loss_giou_pre: 0.5618 (0.5570)  loss_mal_enc_0: 1.2383 (1.2428)  loss_bbox_enc_0: 0.3147 (0.3334)  loss_giou_enc_0: 0.6942 (0.6849)  loss_mal_dn_0: 0.7695 (0.7674)  loss_bbox_dn_0: 0.4522 (0.4577)  loss_giou_dn_0: 0.9396 (0.9341)  loss_fgl_dn_0: 1.0945 (1.0951)  loss_ddf_dn_0: 0.3523 (0.3525)  loss_mal_dn_1: 0.7861 (0.7867)  loss_bbox_dn_1: 0.3833 (0.3839)  loss_giou_dn_1: 0.7810 (0.7787)  loss_fgl_dn_1: 1.1138 (1.1132)  loss_ddf_dn_1: 0.0537 (0.0537)  loss_mal_dn_2: 0.7720 (0.7798)  loss_bbox_dn_2: 0.3604 (0.3609)  loss_giou_dn_2: 0.7304 (0.7319)  loss_fgl_dn_2: 1.1219 (1.1220)  loss_mal_dn_pre: 0.7686 (0.7669)  loss_bbox_dn_pre: 0.4609 (0.4607)  loss_giou_dn_pre: 0.9363 (0.9339)\n",
      "Test:  [0/5]  eta: 0:00:03    time: 0.7478  data: 0.6381  max mem: 10586\n"
     ]
    },
    {
     "name": "stderr",
     "output_type": "stream",
     "text": [
      "2025-03-10 15:04:42,943 - DEIMTrainer - INFO - Saving checkpoint to outputs/deim_hgnetv2_s_coco/best.pth\n"
     ]
    },
    {
     "name": "stdout",
     "output_type": "stream",
     "text": [
      "Test:  [4/5]  eta: 0:00:00    time: 0.2731  data: 0.1398  max mem: 10586\n",
      "Test: Total time: 0:00:01 (0.2854 s / it)\n",
      "Averaged stats: \n",
      "Accumulating evaluation results...\n",
      "COCOeval_opt.accumulate() finished...\n",
      "DONE (t=0.02s).\n",
      "IoU metric: bbox\n",
      " Average Precision  (AP) @[ IoU=0.50:0.95 | area=   all | maxDets=100 ] = 0.498\n",
      " Average Precision  (AP) @[ IoU=0.50      | area=   all | maxDets=100 ] = 0.747\n",
      " Average Precision  (AP) @[ IoU=0.75      | area=   all | maxDets=100 ] = 0.581\n",
      " Average Precision  (AP) @[ IoU=0.50:0.95 | area= small | maxDets=100 ] = 0.301\n",
      " Average Precision  (AP) @[ IoU=0.50:0.95 | area=medium | maxDets=100 ] = 0.520\n",
      " Average Precision  (AP) @[ IoU=0.50:0.95 | area= large | maxDets=100 ] = 0.394\n",
      " Average Recall     (AR) @[ IoU=0.50:0.95 | area=   all | maxDets=  1 ] = 0.373\n",
      " Average Recall     (AR) @[ IoU=0.50:0.95 | area=   all | maxDets= 10 ] = 0.628\n",
      " Average Recall     (AR) @[ IoU=0.50:0.95 | area=   all | maxDets=100 ] = 0.756\n",
      " Average Recall     (AR) @[ IoU=0.50:0.95 | area= small | maxDets=100 ] = 0.560\n",
      " Average Recall     (AR) @[ IoU=0.50:0.95 | area=medium | maxDets=100 ] = 0.735\n",
      " Average Recall     (AR) @[ IoU=0.50:0.95 | area= large | maxDets=100 ] = 0.765\n",
      " Average Recall     (AR) @[ IoU=0.50      | area=   all | maxDets=100 ] = 0.999\n",
      " Average Recall     (AR) @[ IoU=0.75      | area=   all | maxDets=100 ] = 0.895\n",
      "================================================\n",
      "{'coco_eval_bbox': [0.4978989743153488, 0.7473429012497104, 0.580696060090925, 0.3010990481287511, 0.5197408405413496, 0.39397975988925016, 0.3725068547436969, 0.6275930210140735, 0.7559162328899169, 0.56, 0.7353273809523808, 0.7653079259872962]}\n",
      "================================================\n"
     ]
    },
    {
     "name": "stderr",
     "output_type": "stream",
     "text": [
      "2025-03-10 15:04:43,269 - DEIMTrainer - INFO - Checkpoint saved to outputs/deim_hgnetv2_s_coco/best.pth\n",
      "2025-03-10 15:04:43,270 - DEIMTrainer - INFO - Epoch 84 - Train loss: 25.7840, Eval mAP: 0.4979\n",
      "2025-03-10 15:04:43,270 - DEIMTrainer - INFO - Best stats: {'epoch': 84, 'coco_eval_bbox': 0.4978989743153488}\n"
     ]
    },
    {
     "name": "stdout",
     "output_type": "stream",
     "text": [
      "Epoch: [85]  [ 0/15]  eta: 0:00:20  lr: 0.000081  loss: 25.4927 (25.4927)  loss_mal: 1.1523 (1.1523)  loss_bbox: 0.2413 (0.2413)  loss_giou: 0.4689 (0.4689)  loss_fgl: 1.2260 (1.2260)  loss_mal_aux_0: 1.1758 (1.1758)  loss_bbox_aux_0: 0.2614 (0.2614)  loss_giou_aux_0: 0.5168 (0.5168)  loss_fgl_aux_0: 1.2440 (1.2440)  loss_ddf_aux_0: 0.1336 (0.1336)  loss_mal_aux_1: 1.1689 (1.1689)  loss_bbox_aux_1: 0.2405 (0.2405)  loss_giou_aux_1: 0.4748 (0.4748)  loss_fgl_aux_1: 1.2273 (1.2273)  loss_ddf_aux_1: 0.0162 (0.0162)  loss_mal_pre: 1.1699 (1.1699)  loss_bbox_pre: 0.2596 (0.2596)  loss_giou_pre: 0.5123 (0.5123)  loss_mal_enc_0: 1.2773 (1.2773)  loss_bbox_enc_0: 0.3315 (0.3315)  loss_giou_enc_0: 0.6063 (0.6063)  loss_mal_dn_0: 0.7778 (0.7778)  loss_bbox_dn_0: 0.4848 (0.4848)  loss_giou_dn_0: 0.8544 (0.8544)  loss_fgl_dn_0: 1.1400 (1.1400)  loss_ddf_dn_0: 0.3549 (0.3549)  loss_mal_dn_1: 0.7876 (0.7876)  loss_bbox_dn_1: 0.4126 (0.4126)  loss_giou_dn_1: 0.6824 (0.6824)  loss_fgl_dn_1: 1.1560 (1.1560)  loss_ddf_dn_1: 0.0532 (0.0532)  loss_mal_dn_2: 0.7739 (0.7739)  loss_bbox_dn_2: 0.3937 (0.3937)  loss_giou_dn_2: 0.6370 (0.6370)  loss_fgl_dn_2: 1.1577 (1.1577)  loss_mal_dn_pre: 0.7778 (0.7778)  loss_bbox_dn_pre: 0.4943 (0.4943)  loss_giou_dn_pre: 0.8497 (0.8497)  time: 1.3776  data: 0.8888  max mem: 10586\n"
     ]
    },
    {
     "name": "stderr",
     "output_type": "stream",
     "text": [
      "2025-03-10 15:04:50,189 - DEIMTrainer - INFO - Evaluating model...\n"
     ]
    },
    {
     "name": "stdout",
     "output_type": "stream",
     "text": [
      "Epoch: [85]  [14/15]  eta: 0:00:00  lr: 0.000083  loss: 25.4927 (25.4792)  loss_mal: 1.1309 (1.1257)  loss_bbox: 0.2182 (0.2337)  loss_giou: 0.5306 (0.5182)  loss_fgl: 1.2199 (1.2095)  loss_mal_aux_0: 1.0918 (1.1245)  loss_bbox_aux_0: 0.2507 (0.2598)  loss_giou_aux_0: 0.5628 (0.5626)  loss_fgl_aux_0: 1.2346 (1.2244)  loss_ddf_aux_0: 0.1185 (0.1144)  loss_mal_aux_1: 1.0977 (1.1198)  loss_bbox_aux_1: 0.2210 (0.2359)  loss_giou_aux_1: 0.5308 (0.5239)  loss_fgl_aux_1: 1.2246 (1.2119)  loss_ddf_aux_1: 0.0136 (0.0136)  loss_mal_pre: 1.0928 (1.1229)  loss_bbox_pre: 0.2491 (0.2580)  loss_giou_pre: 0.5610 (0.5595)  loss_mal_enc_0: 1.2500 (1.2260)  loss_bbox_enc_0: 0.3308 (0.3322)  loss_giou_enc_0: 0.6621 (0.6758)  loss_mal_dn_0: 0.7661 (0.7661)  loss_bbox_dn_0: 0.4475 (0.4507)  loss_giou_dn_0: 0.9017 (0.9108)  loss_fgl_dn_0: 1.1001 (1.1064)  loss_ddf_dn_0: 0.3850 (0.3902)  loss_mal_dn_1: 0.7896 (0.7872)  loss_bbox_dn_1: 0.3764 (0.3785)  loss_giou_dn_1: 0.7384 (0.7543)  loss_fgl_dn_1: 1.1224 (1.1235)  loss_ddf_dn_1: 0.0550 (0.0551)  loss_mal_dn_2: 0.7808 (0.7810)  loss_bbox_dn_2: 0.3517 (0.3563)  loss_giou_dn_2: 0.6873 (0.7066)  loss_fgl_dn_2: 1.1305 (1.1328)  loss_mal_dn_pre: 0.7651 (0.7660)  loss_bbox_dn_pre: 0.4488 (0.4529)  loss_giou_dn_pre: 0.9048 (0.9086)  time: 0.4564  data: 0.0808  max mem: 10586\n",
      "Epoch: [85] Total time: 0:00:06 (0.4598 s / it)\n",
      "Averaged stats: lr: 0.000083  loss: 25.4927 (25.4792)  loss_mal: 1.1309 (1.1257)  loss_bbox: 0.2182 (0.2337)  loss_giou: 0.5306 (0.5182)  loss_fgl: 1.2199 (1.2095)  loss_mal_aux_0: 1.0918 (1.1245)  loss_bbox_aux_0: 0.2507 (0.2598)  loss_giou_aux_0: 0.5628 (0.5626)  loss_fgl_aux_0: 1.2346 (1.2244)  loss_ddf_aux_0: 0.1185 (0.1144)  loss_mal_aux_1: 1.0977 (1.1198)  loss_bbox_aux_1: 0.2210 (0.2359)  loss_giou_aux_1: 0.5308 (0.5239)  loss_fgl_aux_1: 1.2246 (1.2119)  loss_ddf_aux_1: 0.0136 (0.0136)  loss_mal_pre: 1.0928 (1.1229)  loss_bbox_pre: 0.2491 (0.2580)  loss_giou_pre: 0.5610 (0.5595)  loss_mal_enc_0: 1.2500 (1.2260)  loss_bbox_enc_0: 0.3308 (0.3322)  loss_giou_enc_0: 0.6621 (0.6758)  loss_mal_dn_0: 0.7661 (0.7661)  loss_bbox_dn_0: 0.4475 (0.4507)  loss_giou_dn_0: 0.9017 (0.9108)  loss_fgl_dn_0: 1.1001 (1.1064)  loss_ddf_dn_0: 0.3850 (0.3902)  loss_mal_dn_1: 0.7896 (0.7872)  loss_bbox_dn_1: 0.3764 (0.3785)  loss_giou_dn_1: 0.7384 (0.7543)  loss_fgl_dn_1: 1.1224 (1.1235)  loss_ddf_dn_1: 0.0550 (0.0551)  loss_mal_dn_2: 0.7808 (0.7810)  loss_bbox_dn_2: 0.3517 (0.3563)  loss_giou_dn_2: 0.6873 (0.7066)  loss_fgl_dn_2: 1.1305 (1.1328)  loss_mal_dn_pre: 0.7651 (0.7660)  loss_bbox_dn_pre: 0.4488 (0.4529)  loss_giou_dn_pre: 0.9048 (0.9086)\n",
      "Test:  [0/5]  eta: 0:00:03    time: 0.7542  data: 0.6413  max mem: 10586\n"
     ]
    },
    {
     "name": "stderr",
     "output_type": "stream",
     "text": [
      "2025-03-10 15:04:51,667 - DEIMTrainer - INFO - Saving checkpoint to outputs/deim_hgnetv2_s_coco/best.pth\n"
     ]
    },
    {
     "name": "stdout",
     "output_type": "stream",
     "text": [
      "Test:  [4/5]  eta: 0:00:00    time: 0.2748  data: 0.1403  max mem: 10586\n",
      "Test: Total time: 0:00:01 (0.2892 s / it)\n",
      "Averaged stats: \n",
      "Accumulating evaluation results...\n",
      "COCOeval_opt.accumulate() finished...\n",
      "DONE (t=0.02s).\n",
      "IoU metric: bbox\n",
      " Average Precision  (AP) @[ IoU=0.50:0.95 | area=   all | maxDets=100 ] = 0.502\n",
      " Average Precision  (AP) @[ IoU=0.50      | area=   all | maxDets=100 ] = 0.735\n",
      " Average Precision  (AP) @[ IoU=0.75      | area=   all | maxDets=100 ] = 0.596\n",
      " Average Precision  (AP) @[ IoU=0.50:0.95 | area= small | maxDets=100 ] = 0.248\n",
      " Average Precision  (AP) @[ IoU=0.50:0.95 | area=medium | maxDets=100 ] = 0.514\n",
      " Average Precision  (AP) @[ IoU=0.50:0.95 | area= large | maxDets=100 ] = 0.407\n",
      " Average Recall     (AR) @[ IoU=0.50:0.95 | area=   all | maxDets=  1 ] = 0.369\n",
      " Average Recall     (AR) @[ IoU=0.50:0.95 | area=   all | maxDets= 10 ] = 0.642\n",
      " Average Recall     (AR) @[ IoU=0.50:0.95 | area=   all | maxDets=100 ] = 0.760\n",
      " Average Recall     (AR) @[ IoU=0.50:0.95 | area= small | maxDets=100 ] = 0.580\n",
      " Average Recall     (AR) @[ IoU=0.50:0.95 | area=medium | maxDets=100 ] = 0.729\n",
      " Average Recall     (AR) @[ IoU=0.50:0.95 | area= large | maxDets=100 ] = 0.770\n",
      " Average Recall     (AR) @[ IoU=0.50      | area=   all | maxDets=100 ] = 0.999\n",
      " Average Recall     (AR) @[ IoU=0.75      | area=   all | maxDets=100 ] = 0.910\n",
      "================================================\n",
      "{'coco_eval_bbox': [0.5016815959513372, 0.7347151761135242, 0.5957243427708849, 0.24756682286230455, 0.5141913874242738, 0.4066294184345405, 0.3692728080885975, 0.6422375382901698, 0.7599487500803289, 0.58, 0.7285416666666668, 0.7702828737128654]}\n",
      "================================================\n"
     ]
    },
    {
     "name": "stderr",
     "output_type": "stream",
     "text": [
      "2025-03-10 15:04:52,065 - DEIMTrainer - INFO - Checkpoint saved to outputs/deim_hgnetv2_s_coco/best.pth\n",
      "2025-03-10 15:04:52,067 - DEIMTrainer - INFO - Epoch 85 - Train loss: 25.4792, Eval mAP: 0.5017\n",
      "2025-03-10 15:04:52,068 - DEIMTrainer - INFO - Best stats: {'epoch': 85, 'coco_eval_bbox': 0.5016815959513372}\n"
     ]
    },
    {
     "name": "stdout",
     "output_type": "stream",
     "text": [
      "Epoch: [86]  [ 0/15]  eta: 0:00:21  lr: 0.000083  loss: 25.8591 (25.8591)  loss_mal: 1.2246 (1.2246)  loss_bbox: 0.2301 (0.2301)  loss_giou: 0.5305 (0.5305)  loss_fgl: 1.2249 (1.2249)  loss_mal_aux_0: 1.1992 (1.1992)  loss_bbox_aux_0: 0.2375 (0.2375)  loss_giou_aux_0: 0.5545 (0.5545)  loss_fgl_aux_0: 1.2272 (1.2272)  loss_ddf_aux_0: 0.1173 (0.1173)  loss_mal_aux_1: 1.2539 (1.2539)  loss_bbox_aux_1: 0.2327 (0.2327)  loss_giou_aux_1: 0.5341 (0.5341)  loss_fgl_aux_1: 1.2240 (1.2240)  loss_ddf_aux_1: 0.0145 (0.0145)  loss_mal_pre: 1.2031 (1.2031)  loss_bbox_pre: 0.2359 (0.2359)  loss_giou_pre: 0.5519 (0.5519)  loss_mal_enc_0: 1.2529 (1.2529)  loss_bbox_enc_0: 0.2867 (0.2867)  loss_giou_enc_0: 0.6382 (0.6382)  loss_mal_dn_0: 0.7656 (0.7656)  loss_bbox_dn_0: 0.4636 (0.4636)  loss_giou_dn_0: 0.9366 (0.9366)  loss_fgl_dn_0: 1.0870 (1.0870)  loss_ddf_dn_0: 0.3419 (0.3419)  loss_mal_dn_1: 0.7695 (0.7695)  loss_bbox_dn_1: 0.3976 (0.3976)  loss_giou_dn_1: 0.7905 (0.7905)  loss_fgl_dn_1: 1.1082 (1.1082)  loss_ddf_dn_1: 0.0466 (0.0466)  loss_mal_dn_2: 0.7490 (0.7490)  loss_bbox_dn_2: 0.3817 (0.3817)  loss_giou_dn_2: 0.7585 (0.7585)  loss_fgl_dn_2: 1.1185 (1.1185)  loss_mal_dn_pre: 0.7642 (0.7642)  loss_bbox_dn_pre: 0.4679 (0.4679)  loss_giou_dn_pre: 0.9384 (0.9384)  time: 1.4592  data: 0.9956  max mem: 10586\n"
     ]
    },
    {
     "name": "stderr",
     "output_type": "stream",
     "text": [
      "2025-03-10 15:04:59,130 - DEIMTrainer - INFO - Evaluating model...\n"
     ]
    },
    {
     "name": "stdout",
     "output_type": "stream",
     "text": [
      "Epoch: [86]  [14/15]  eta: 0:00:00  lr: 0.000085  loss: 25.5145 (25.5787)  loss_mal: 1.1182 (1.1427)  loss_bbox: 0.2301 (0.2389)  loss_giou: 0.4766 (0.4835)  loss_fgl: 1.2267 (1.2268)  loss_mal_aux_0: 1.1650 (1.1540)  loss_bbox_aux_0: 0.2409 (0.2607)  loss_giou_aux_0: 0.5109 (0.5187)  loss_fgl_aux_0: 1.2426 (1.2390)  loss_ddf_aux_0: 0.1295 (0.1281)  loss_mal_aux_1: 1.1328 (1.1568)  loss_bbox_aux_1: 0.2327 (0.2413)  loss_giou_aux_1: 0.4794 (0.4870)  loss_fgl_aux_1: 1.2272 (1.2275)  loss_ddf_aux_1: 0.0148 (0.0154)  loss_mal_pre: 1.1553 (1.1520)  loss_bbox_pre: 0.2378 (0.2590)  loss_giou_pre: 0.5084 (0.5162)  loss_mal_enc_0: 1.2383 (1.2494)  loss_bbox_enc_0: 0.3408 (0.3391)  loss_giou_enc_0: 0.6338 (0.6320)  loss_mal_dn_0: 0.7754 (0.7785)  loss_bbox_dn_0: 0.4636 (0.4823)  loss_giou_dn_0: 0.8732 (0.8803)  loss_fgl_dn_0: 1.1232 (1.1268)  loss_ddf_dn_0: 0.4323 (0.4332)  loss_mal_dn_1: 0.7959 (0.7944)  loss_bbox_dn_1: 0.3947 (0.3973)  loss_giou_dn_1: 0.7061 (0.7141)  loss_fgl_dn_1: 1.1367 (1.1385)  loss_ddf_dn_1: 0.0636 (0.0604)  loss_mal_dn_2: 0.7739 (0.7755)  loss_bbox_dn_2: 0.3741 (0.3717)  loss_giou_dn_2: 0.6623 (0.6686)  loss_fgl_dn_2: 1.1443 (1.1452)  loss_mal_dn_pre: 0.7739 (0.7781)  loss_bbox_dn_pre: 0.4679 (0.4859)  loss_giou_dn_pre: 0.8732 (0.8798)  time: 0.4654  data: 0.0871  max mem: 10586\n",
      "Epoch: [86] Total time: 0:00:07 (0.4695 s / it)\n",
      "Averaged stats: lr: 0.000085  loss: 25.5145 (25.5787)  loss_mal: 1.1182 (1.1427)  loss_bbox: 0.2301 (0.2389)  loss_giou: 0.4766 (0.4835)  loss_fgl: 1.2267 (1.2268)  loss_mal_aux_0: 1.1650 (1.1540)  loss_bbox_aux_0: 0.2409 (0.2607)  loss_giou_aux_0: 0.5109 (0.5187)  loss_fgl_aux_0: 1.2426 (1.2390)  loss_ddf_aux_0: 0.1295 (0.1281)  loss_mal_aux_1: 1.1328 (1.1568)  loss_bbox_aux_1: 0.2327 (0.2413)  loss_giou_aux_1: 0.4794 (0.4870)  loss_fgl_aux_1: 1.2272 (1.2275)  loss_ddf_aux_1: 0.0148 (0.0154)  loss_mal_pre: 1.1553 (1.1520)  loss_bbox_pre: 0.2378 (0.2590)  loss_giou_pre: 0.5084 (0.5162)  loss_mal_enc_0: 1.2383 (1.2494)  loss_bbox_enc_0: 0.3408 (0.3391)  loss_giou_enc_0: 0.6338 (0.6320)  loss_mal_dn_0: 0.7754 (0.7785)  loss_bbox_dn_0: 0.4636 (0.4823)  loss_giou_dn_0: 0.8732 (0.8803)  loss_fgl_dn_0: 1.1232 (1.1268)  loss_ddf_dn_0: 0.4323 (0.4332)  loss_mal_dn_1: 0.7959 (0.7944)  loss_bbox_dn_1: 0.3947 (0.3973)  loss_giou_dn_1: 0.7061 (0.7141)  loss_fgl_dn_1: 1.1367 (1.1385)  loss_ddf_dn_1: 0.0636 (0.0604)  loss_mal_dn_2: 0.7739 (0.7755)  loss_bbox_dn_2: 0.3741 (0.3717)  loss_giou_dn_2: 0.6623 (0.6686)  loss_fgl_dn_2: 1.1443 (1.1452)  loss_mal_dn_pre: 0.7739 (0.7781)  loss_bbox_dn_pre: 0.4679 (0.4859)  loss_giou_dn_pre: 0.8732 (0.8798)\n",
      "Test:  [0/5]  eta: 0:00:03    time: 0.7564  data: 0.6424  max mem: 10586\n"
     ]
    },
    {
     "name": "stderr",
     "output_type": "stream",
     "text": [
      "2025-03-10 15:05:00,599 - DEIMTrainer - INFO - Epoch 86 - Train loss: 25.5787, Eval mAP: 0.4986\n",
      "2025-03-10 15:05:00,600 - DEIMTrainer - INFO - Best stats: {'epoch': 85, 'coco_eval_bbox': 0.5016815959513372}\n"
     ]
    },
    {
     "name": "stdout",
     "output_type": "stream",
     "text": [
      "Test:  [4/5]  eta: 0:00:00    time: 0.2764  data: 0.1434  max mem: 10586\n",
      "Test: Total time: 0:00:01 (0.2875 s / it)\n",
      "Averaged stats: \n",
      "Accumulating evaluation results...\n",
      "COCOeval_opt.accumulate() finished...\n",
      "DONE (t=0.02s).\n",
      "IoU metric: bbox\n",
      " Average Precision  (AP) @[ IoU=0.50:0.95 | area=   all | maxDets=100 ] = 0.499\n",
      " Average Precision  (AP) @[ IoU=0.50      | area=   all | maxDets=100 ] = 0.725\n",
      " Average Precision  (AP) @[ IoU=0.75      | area=   all | maxDets=100 ] = 0.574\n",
      " Average Precision  (AP) @[ IoU=0.50:0.95 | area= small | maxDets=100 ] = 0.473\n",
      " Average Precision  (AP) @[ IoU=0.50:0.95 | area=medium | maxDets=100 ] = 0.526\n",
      " Average Precision  (AP) @[ IoU=0.50:0.95 | area= large | maxDets=100 ] = 0.396\n",
      " Average Recall     (AR) @[ IoU=0.50:0.95 | area=   all | maxDets=  1 ] = 0.391\n",
      " Average Recall     (AR) @[ IoU=0.50:0.95 | area=   all | maxDets= 10 ] = 0.654\n",
      " Average Recall     (AR) @[ IoU=0.50:0.95 | area=   all | maxDets=100 ] = 0.775\n",
      " Average Recall     (AR) @[ IoU=0.50:0.95 | area= small | maxDets=100 ] = 0.660\n",
      " Average Recall     (AR) @[ IoU=0.50:0.95 | area=medium | maxDets=100 ] = 0.735\n",
      " Average Recall     (AR) @[ IoU=0.50:0.95 | area= large | maxDets=100 ] = 0.777\n",
      " Average Recall     (AR) @[ IoU=0.50      | area=   all | maxDets=100 ] = 0.997\n",
      " Average Recall     (AR) @[ IoU=0.75      | area=   all | maxDets=100 ] = 0.923\n",
      "================================================\n",
      "{'coco_eval_bbox': [0.49860447697554944, 0.7253641504786023, 0.5743927613144211, 0.47293741077447793, 0.5263237052919879, 0.39584227067128946, 0.3913429406850459, 0.6535323351112825, 0.7745611357453461, 0.6599999999999999, 0.7348214285714286, 0.7769250798911113]}\n",
      "================================================\n",
      "Epoch: [87]  [ 0/15]  eta: 0:00:25  lr: 0.000085  loss: 25.2482 (25.2482)  loss_mal: 1.1611 (1.1611)  loss_bbox: 0.2321 (0.2321)  loss_giou: 0.4960 (0.4960)  loss_fgl: 1.2290 (1.2290)  loss_mal_aux_0: 1.0850 (1.0850)  loss_bbox_aux_0: 0.2590 (0.2590)  loss_giou_aux_0: 0.5416 (0.5416)  loss_fgl_aux_0: 1.2348 (1.2348)  loss_ddf_aux_0: 0.1328 (0.1328)  loss_mal_aux_1: 1.1240 (1.1240)  loss_bbox_aux_1: 0.2345 (0.2345)  loss_giou_aux_1: 0.5020 (0.5020)  loss_fgl_aux_1: 1.2274 (1.2274)  loss_ddf_aux_1: 0.0152 (0.0152)  loss_mal_pre: 1.0820 (1.0820)  loss_bbox_pre: 0.2586 (0.2586)  loss_giou_pre: 0.5399 (0.5399)  loss_mal_enc_0: 1.1465 (1.1465)  loss_bbox_enc_0: 0.3406 (0.3406)  loss_giou_enc_0: 0.6447 (0.6447)  loss_mal_dn_0: 0.7764 (0.7764)  loss_bbox_dn_0: 0.4385 (0.4385)  loss_giou_dn_0: 0.8742 (0.8742)  loss_fgl_dn_0: 1.1272 (1.1272)  loss_ddf_dn_0: 0.4538 (0.4538)  loss_mal_dn_1: 0.7920 (0.7920)  loss_bbox_dn_1: 0.3615 (0.3615)  loss_giou_dn_1: 0.7039 (0.7039)  loss_fgl_dn_1: 1.1450 (1.1450)  loss_ddf_dn_1: 0.0653 (0.0653)  loss_mal_dn_2: 0.7827 (0.7827)  loss_bbox_dn_2: 0.3373 (0.3373)  loss_giou_dn_2: 0.6569 (0.6569)  loss_fgl_dn_2: 1.1541 (1.1541)  loss_mal_dn_pre: 0.7778 (0.7778)  loss_bbox_dn_pre: 0.4449 (0.4449)  loss_giou_dn_pre: 0.8701 (0.8701)  time: 1.7249  data: 1.1741  max mem: 10586\n"
     ]
    },
    {
     "name": "stderr",
     "output_type": "stream",
     "text": [
      "2025-03-10 15:05:07,946 - DEIMTrainer - INFO - Saving checkpoint to outputs/deim_hgnetv2_s_coco/checkpoint0087.pth\n"
     ]
    },
    {
     "name": "stdout",
     "output_type": "stream",
     "text": [
      "Epoch: [87]  [14/15]  eta: 0:00:00  lr: 0.000087  loss: 25.2346 (25.3055)  loss_mal: 1.1104 (1.1128)  loss_bbox: 0.2271 (0.2246)  loss_giou: 0.4817 (0.4822)  loss_fgl: 1.2189 (1.2225)  loss_mal_aux_0: 1.1172 (1.1480)  loss_bbox_aux_0: 0.2383 (0.2445)  loss_giou_aux_0: 0.5091 (0.5180)  loss_fgl_aux_0: 1.2348 (1.2366)  loss_ddf_aux_0: 0.1204 (0.1187)  loss_mal_aux_1: 1.1191 (1.1316)  loss_bbox_aux_1: 0.2284 (0.2263)  loss_giou_aux_1: 0.4882 (0.4858)  loss_fgl_aux_1: 1.2194 (1.2236)  loss_ddf_aux_1: 0.0133 (0.0135)  loss_mal_pre: 1.1152 (1.1462)  loss_bbox_pre: 0.2406 (0.2431)  loss_giou_pre: 0.5043 (0.5157)  loss_mal_enc_0: 1.2197 (1.2232)  loss_bbox_enc_0: 0.3276 (0.3199)  loss_giou_enc_0: 0.6155 (0.6240)  loss_mal_dn_0: 0.7729 (0.7680)  loss_bbox_dn_0: 0.4610 (0.4625)  loss_giou_dn_0: 0.8965 (0.8977)  loss_fgl_dn_0: 1.1123 (1.1142)  loss_ddf_dn_0: 0.4281 (0.4354)  loss_mal_dn_1: 0.7900 (0.7891)  loss_bbox_dn_1: 0.3716 (0.3801)  loss_giou_dn_1: 0.7293 (0.7281)  loss_fgl_dn_1: 1.1301 (1.1288)  loss_ddf_dn_1: 0.0603 (0.0605)  loss_mal_dn_2: 0.7812 (0.7784)  loss_bbox_dn_2: 0.3564 (0.3564)  loss_giou_dn_2: 0.6713 (0.6793)  loss_fgl_dn_2: 1.1337 (1.1362)  loss_mal_dn_pre: 0.7710 (0.7677)  loss_bbox_dn_pre: 0.4620 (0.4659)  loss_giou_dn_pre: 0.8925 (0.8961)  time: 0.4847  data: 0.0969  max mem: 10586\n",
      "Epoch: [87] Total time: 0:00:07 (0.4885 s / it)\n",
      "Averaged stats: lr: 0.000087  loss: 25.2346 (25.3055)  loss_mal: 1.1104 (1.1128)  loss_bbox: 0.2271 (0.2246)  loss_giou: 0.4817 (0.4822)  loss_fgl: 1.2189 (1.2225)  loss_mal_aux_0: 1.1172 (1.1480)  loss_bbox_aux_0: 0.2383 (0.2445)  loss_giou_aux_0: 0.5091 (0.5180)  loss_fgl_aux_0: 1.2348 (1.2366)  loss_ddf_aux_0: 0.1204 (0.1187)  loss_mal_aux_1: 1.1191 (1.1316)  loss_bbox_aux_1: 0.2284 (0.2263)  loss_giou_aux_1: 0.4882 (0.4858)  loss_fgl_aux_1: 1.2194 (1.2236)  loss_ddf_aux_1: 0.0133 (0.0135)  loss_mal_pre: 1.1152 (1.1462)  loss_bbox_pre: 0.2406 (0.2431)  loss_giou_pre: 0.5043 (0.5157)  loss_mal_enc_0: 1.2197 (1.2232)  loss_bbox_enc_0: 0.3276 (0.3199)  loss_giou_enc_0: 0.6155 (0.6240)  loss_mal_dn_0: 0.7729 (0.7680)  loss_bbox_dn_0: 0.4610 (0.4625)  loss_giou_dn_0: 0.8965 (0.8977)  loss_fgl_dn_0: 1.1123 (1.1142)  loss_ddf_dn_0: 0.4281 (0.4354)  loss_mal_dn_1: 0.7900 (0.7891)  loss_bbox_dn_1: 0.3716 (0.3801)  loss_giou_dn_1: 0.7293 (0.7281)  loss_fgl_dn_1: 1.1301 (1.1288)  loss_ddf_dn_1: 0.0603 (0.0605)  loss_mal_dn_2: 0.7812 (0.7784)  loss_bbox_dn_2: 0.3564 (0.3564)  loss_giou_dn_2: 0.6713 (0.6793)  loss_fgl_dn_2: 1.1337 (1.1362)  loss_mal_dn_pre: 0.7710 (0.7677)  loss_bbox_dn_pre: 0.4620 (0.4659)  loss_giou_dn_pre: 0.8925 (0.8961)\n"
     ]
    },
    {
     "name": "stderr",
     "output_type": "stream",
     "text": [
      "2025-03-10 15:05:08,261 - DEIMTrainer - INFO - Checkpoint saved to outputs/deim_hgnetv2_s_coco/checkpoint0087.pth\n",
      "2025-03-10 15:05:08,263 - DEIMTrainer - INFO - Evaluating model...\n"
     ]
    },
    {
     "name": "stdout",
     "output_type": "stream",
     "text": [
      "Test:  [0/5]  eta: 0:00:03    time: 0.7823  data: 0.6525  max mem: 10586\n"
     ]
    },
    {
     "name": "stderr",
     "output_type": "stream",
     "text": [
      "2025-03-10 15:05:09,850 - DEIMTrainer - INFO - Saving checkpoint to outputs/deim_hgnetv2_s_coco/best.pth\n"
     ]
    },
    {
     "name": "stdout",
     "output_type": "stream",
     "text": [
      "Test:  [4/5]  eta: 0:00:00    time: 0.2971  data: 0.1487  max mem: 10586\n",
      "Test: Total time: 0:00:01 (0.3107 s / it)\n",
      "Averaged stats: \n",
      "Accumulating evaluation results...\n",
      "COCOeval_opt.accumulate() finished...\n",
      "DONE (t=0.02s).\n",
      "IoU metric: bbox\n",
      " Average Precision  (AP) @[ IoU=0.50:0.95 | area=   all | maxDets=100 ] = 0.536\n",
      " Average Precision  (AP) @[ IoU=0.50      | area=   all | maxDets=100 ] = 0.791\n",
      " Average Precision  (AP) @[ IoU=0.75      | area=   all | maxDets=100 ] = 0.602\n",
      " Average Precision  (AP) @[ IoU=0.50:0.95 | area= small | maxDets=100 ] = 0.491\n",
      " Average Precision  (AP) @[ IoU=0.50:0.95 | area=medium | maxDets=100 ] = 0.561\n",
      " Average Precision  (AP) @[ IoU=0.50:0.95 | area= large | maxDets=100 ] = 0.424\n",
      " Average Recall     (AR) @[ IoU=0.50:0.95 | area=   all | maxDets=  1 ] = 0.386\n",
      " Average Recall     (AR) @[ IoU=0.50:0.95 | area=   all | maxDets= 10 ] = 0.645\n",
      " Average Recall     (AR) @[ IoU=0.50:0.95 | area=   all | maxDets=100 ] = 0.767\n",
      " Average Recall     (AR) @[ IoU=0.50:0.95 | area= small | maxDets=100 ] = 0.660\n",
      " Average Recall     (AR) @[ IoU=0.50:0.95 | area=medium | maxDets=100 ] = 0.762\n",
      " Average Recall     (AR) @[ IoU=0.50:0.95 | area= large | maxDets=100 ] = 0.777\n",
      " Average Recall     (AR) @[ IoU=0.50      | area=   all | maxDets=100 ] = 0.998\n",
      " Average Recall     (AR) @[ IoU=0.75      | area=   all | maxDets=100 ] = 0.907\n",
      "================================================\n",
      "{'coco_eval_bbox': [0.5361086466303363, 0.790500064300032, 0.6023287321245526, 0.49093494152689066, 0.5609561344014926, 0.42368407916061007, 0.38566421395368766, 0.6448169033695349, 0.7668931945247734, 0.66, 0.7625, 0.7772454333846214]}\n",
      "================================================\n"
     ]
    },
    {
     "name": "stderr",
     "output_type": "stream",
     "text": [
      "2025-03-10 15:05:10,282 - DEIMTrainer - INFO - Checkpoint saved to outputs/deim_hgnetv2_s_coco/best.pth\n",
      "2025-03-10 15:05:10,284 - DEIMTrainer - INFO - Epoch 87 - Train loss: 25.3055, Eval mAP: 0.5361\n",
      "2025-03-10 15:05:10,285 - DEIMTrainer - INFO - Best stats: {'epoch': 87, 'coco_eval_bbox': 0.5361086466303363}\n"
     ]
    },
    {
     "name": "stdout",
     "output_type": "stream",
     "text": [
      "Epoch: [88]  [ 0/15]  eta: 0:00:28  lr: 0.000087  loss: 24.8056 (24.8056)  loss_mal: 1.0420 (1.0420)  loss_bbox: 0.2043 (0.2043)  loss_giou: 0.5690 (0.5690)  loss_fgl: 1.1837 (1.1837)  loss_mal_aux_0: 1.0977 (1.0977)  loss_bbox_aux_0: 0.2188 (0.2188)  loss_giou_aux_0: 0.5989 (0.5989)  loss_fgl_aux_0: 1.1936 (1.1936)  loss_ddf_aux_0: 0.1078 (0.1078)  loss_mal_aux_1: 1.0615 (1.0615)  loss_bbox_aux_1: 0.2064 (0.2064)  loss_giou_aux_1: 0.5737 (0.5737)  loss_fgl_aux_1: 1.1827 (1.1827)  loss_ddf_aux_1: 0.0124 (0.0124)  loss_mal_pre: 1.0986 (1.0986)  loss_bbox_pre: 0.2179 (0.2179)  loss_giou_pre: 0.5962 (0.5962)  loss_mal_enc_0: 1.1494 (1.1494)  loss_bbox_enc_0: 0.2786 (0.2786)  loss_giou_enc_0: 0.7005 (0.7005)  loss_mal_dn_0: 0.7759 (0.7759)  loss_bbox_dn_0: 0.3975 (0.3975)  loss_giou_dn_0: 0.8900 (0.8900)  loss_fgl_dn_0: 1.1160 (1.1160)  loss_ddf_dn_0: 0.4322 (0.4322)  loss_mal_dn_1: 0.7773 (0.7773)  loss_bbox_dn_1: 0.3102 (0.3102)  loss_giou_dn_1: 0.7203 (0.7203)  loss_fgl_dn_1: 1.1192 (1.1192)  loss_ddf_dn_1: 0.0594 (0.0594)  loss_mal_dn_2: 0.7549 (0.7549)  loss_bbox_dn_2: 0.2935 (0.2935)  loss_giou_dn_2: 0.6835 (0.6835)  loss_fgl_dn_2: 1.1186 (1.1186)  loss_mal_dn_pre: 0.7759 (0.7759)  loss_bbox_dn_pre: 0.3991 (0.3991)  loss_giou_dn_pre: 0.8884 (0.8884)  time: 1.8715  data: 1.3816  max mem: 10586\n"
     ]
    },
    {
     "name": "stderr",
     "output_type": "stream",
     "text": [
      "2025-03-10 15:05:17,887 - DEIMTrainer - INFO - Evaluating model...\n"
     ]
    },
    {
     "name": "stdout",
     "output_type": "stream",
     "text": [
      "Epoch: [88]  [14/15]  eta: 0:00:00  lr: 0.000089  loss: 24.6771 (24.9578)  loss_mal: 1.0625 (1.0890)  loss_bbox: 0.2142 (0.2141)  loss_giou: 0.5084 (0.4985)  loss_fgl: 1.2084 (1.2120)  loss_mal_aux_0: 1.0986 (1.1135)  loss_bbox_aux_0: 0.2301 (0.2322)  loss_giou_aux_0: 0.5398 (0.5358)  loss_fgl_aux_0: 1.2274 (1.2285)  loss_ddf_aux_0: 0.1143 (0.1169)  loss_mal_aux_1: 1.0615 (1.0852)  loss_bbox_aux_1: 0.2174 (0.2151)  loss_giou_aux_1: 0.5134 (0.5017)  loss_fgl_aux_1: 1.2106 (1.2134)  loss_ddf_aux_1: 0.0121 (0.0122)  loss_mal_pre: 1.0986 (1.1133)  loss_bbox_pre: 0.2293 (0.2307)  loss_giou_pre: 0.5385 (0.5326)  loss_mal_enc_0: 1.1494 (1.1801)  loss_bbox_enc_0: 0.2956 (0.3087)  loss_giou_enc_0: 0.6400 (0.6528)  loss_mal_dn_0: 0.7744 (0.7720)  loss_bbox_dn_0: 0.4275 (0.4243)  loss_giou_dn_0: 0.8811 (0.8815)  loss_fgl_dn_0: 1.1239 (1.1253)  loss_ddf_dn_0: 0.4671 (0.4812)  loss_mal_dn_1: 0.7842 (0.7882)  loss_bbox_dn_1: 0.3419 (0.3415)  loss_giou_dn_1: 0.7045 (0.7017)  loss_fgl_dn_1: 1.1304 (1.1317)  loss_ddf_dn_1: 0.0594 (0.0619)  loss_mal_dn_2: 0.7744 (0.7739)  loss_bbox_dn_2: 0.3163 (0.3197)  loss_giou_dn_2: 0.6556 (0.6553)  loss_fgl_dn_2: 1.1372 (1.1354)  loss_mal_dn_pre: 0.7739 (0.7720)  loss_bbox_dn_pre: 0.4315 (0.4269)  loss_giou_dn_pre: 0.8819 (0.8789)  time: 0.5010  data: 0.1133  max mem: 10586\n",
      "Epoch: [88] Total time: 0:00:07 (0.5054 s / it)\n",
      "Averaged stats: lr: 0.000089  loss: 24.6771 (24.9578)  loss_mal: 1.0625 (1.0890)  loss_bbox: 0.2142 (0.2141)  loss_giou: 0.5084 (0.4985)  loss_fgl: 1.2084 (1.2120)  loss_mal_aux_0: 1.0986 (1.1135)  loss_bbox_aux_0: 0.2301 (0.2322)  loss_giou_aux_0: 0.5398 (0.5358)  loss_fgl_aux_0: 1.2274 (1.2285)  loss_ddf_aux_0: 0.1143 (0.1169)  loss_mal_aux_1: 1.0615 (1.0852)  loss_bbox_aux_1: 0.2174 (0.2151)  loss_giou_aux_1: 0.5134 (0.5017)  loss_fgl_aux_1: 1.2106 (1.2134)  loss_ddf_aux_1: 0.0121 (0.0122)  loss_mal_pre: 1.0986 (1.1133)  loss_bbox_pre: 0.2293 (0.2307)  loss_giou_pre: 0.5385 (0.5326)  loss_mal_enc_0: 1.1494 (1.1801)  loss_bbox_enc_0: 0.2956 (0.3087)  loss_giou_enc_0: 0.6400 (0.6528)  loss_mal_dn_0: 0.7744 (0.7720)  loss_bbox_dn_0: 0.4275 (0.4243)  loss_giou_dn_0: 0.8811 (0.8815)  loss_fgl_dn_0: 1.1239 (1.1253)  loss_ddf_dn_0: 0.4671 (0.4812)  loss_mal_dn_1: 0.7842 (0.7882)  loss_bbox_dn_1: 0.3419 (0.3415)  loss_giou_dn_1: 0.7045 (0.7017)  loss_fgl_dn_1: 1.1304 (1.1317)  loss_ddf_dn_1: 0.0594 (0.0619)  loss_mal_dn_2: 0.7744 (0.7739)  loss_bbox_dn_2: 0.3163 (0.3197)  loss_giou_dn_2: 0.6556 (0.6553)  loss_fgl_dn_2: 1.1372 (1.1354)  loss_mal_dn_pre: 0.7739 (0.7720)  loss_bbox_dn_pre: 0.4315 (0.4269)  loss_giou_dn_pre: 0.8819 (0.8789)\n",
      "Test:  [0/5]  eta: 0:00:03    time: 0.7477  data: 0.6387  max mem: 10586\n"
     ]
    },
    {
     "name": "stderr",
     "output_type": "stream",
     "text": [
      "2025-03-10 15:05:19,315 - DEIMTrainer - INFO - Saving checkpoint to outputs/deim_hgnetv2_s_coco/best.pth\n"
     ]
    },
    {
     "name": "stdout",
     "output_type": "stream",
     "text": [
      "Test:  [4/5]  eta: 0:00:00    time: 0.2700  data: 0.1389  max mem: 10586\n",
      "Test: Total time: 0:00:01 (0.2802 s / it)\n",
      "Averaged stats: \n",
      "Accumulating evaluation results...\n",
      "COCOeval_opt.accumulate() finished...\n",
      "DONE (t=0.02s).\n",
      "IoU metric: bbox\n",
      " Average Precision  (AP) @[ IoU=0.50:0.95 | area=   all | maxDets=100 ] = 0.553\n",
      " Average Precision  (AP) @[ IoU=0.50      | area=   all | maxDets=100 ] = 0.811\n",
      " Average Precision  (AP) @[ IoU=0.75      | area=   all | maxDets=100 ] = 0.627\n",
      " Average Precision  (AP) @[ IoU=0.50:0.95 | area= small | maxDets=100 ] = 0.336\n",
      " Average Precision  (AP) @[ IoU=0.50:0.95 | area=medium | maxDets=100 ] = 0.583\n",
      " Average Precision  (AP) @[ IoU=0.50:0.95 | area= large | maxDets=100 ] = 0.427\n",
      " Average Recall     (AR) @[ IoU=0.50:0.95 | area=   all | maxDets=  1 ] = 0.384\n",
      " Average Recall     (AR) @[ IoU=0.50:0.95 | area=   all | maxDets= 10 ] = 0.643\n",
      " Average Recall     (AR) @[ IoU=0.50:0.95 | area=   all | maxDets=100 ] = 0.763\n",
      " Average Recall     (AR) @[ IoU=0.50:0.95 | area= small | maxDets=100 ] = 0.660\n",
      " Average Recall     (AR) @[ IoU=0.50:0.95 | area=medium | maxDets=100 ] = 0.764\n",
      " Average Recall     (AR) @[ IoU=0.50:0.95 | area= large | maxDets=100 ] = 0.774\n",
      " Average Recall     (AR) @[ IoU=0.50      | area=   all | maxDets=100 ] = 0.999\n",
      " Average Recall     (AR) @[ IoU=0.75      | area=   all | maxDets=100 ] = 0.913\n",
      "================================================\n",
      "{'coco_eval_bbox': [0.5526877104692688, 0.8105728302077402, 0.6267718604018606, 0.3360916227369343, 0.5832468215261416, 0.4274684000945793, 0.38443732193732205, 0.6434033802454856, 0.7630507893665787, 0.66, 0.7642559523809523, 0.7741776147078548]}\n",
      "================================================\n"
     ]
    },
    {
     "name": "stderr",
     "output_type": "stream",
     "text": [
      "2025-03-10 15:05:19,648 - DEIMTrainer - INFO - Checkpoint saved to outputs/deim_hgnetv2_s_coco/best.pth\n",
      "2025-03-10 15:05:19,651 - DEIMTrainer - INFO - Epoch 88 - Train loss: 24.9578, Eval mAP: 0.5527\n",
      "2025-03-10 15:05:19,651 - DEIMTrainer - INFO - Best stats: {'epoch': 88, 'coco_eval_bbox': 0.5526877104692688}\n"
     ]
    },
    {
     "name": "stdout",
     "output_type": "stream",
     "text": [
      "Epoch: [89]  [ 0/15]  eta: 0:00:25  lr: 0.000089  loss: 26.0055 (26.0055)  loss_mal: 1.0605 (1.0605)  loss_bbox: 0.2418 (0.2418)  loss_giou: 0.6077 (0.6077)  loss_fgl: 1.2237 (1.2237)  loss_mal_aux_0: 1.0938 (1.0938)  loss_bbox_aux_0: 0.2846 (0.2846)  loss_giou_aux_0: 0.6535 (0.6535)  loss_fgl_aux_0: 1.2366 (1.2366)  loss_ddf_aux_0: 0.1043 (0.1043)  loss_mal_aux_1: 1.0381 (1.0381)  loss_bbox_aux_1: 0.2491 (0.2491)  loss_giou_aux_1: 0.6163 (0.6163)  loss_fgl_aux_1: 1.2265 (1.2265)  loss_ddf_aux_1: 0.0109 (0.0109)  loss_mal_pre: 1.0986 (1.0986)  loss_bbox_pre: 0.2842 (0.2842)  loss_giou_pre: 0.6526 (0.6526)  loss_mal_enc_0: 1.2354 (1.2354)  loss_bbox_enc_0: 0.3665 (0.3665)  loss_giou_enc_0: 0.7483 (0.7483)  loss_mal_dn_0: 0.7505 (0.7505)  loss_bbox_dn_0: 0.4214 (0.4214)  loss_giou_dn_0: 0.9699 (0.9699)  loss_fgl_dn_0: 1.1083 (1.1083)  loss_ddf_dn_0: 0.4775 (0.4775)  loss_mal_dn_1: 0.7671 (0.7671)  loss_bbox_dn_1: 0.3586 (0.3586)  loss_giou_dn_1: 0.8190 (0.8190)  loss_fgl_dn_1: 1.1144 (1.1144)  loss_ddf_dn_1: 0.0596 (0.0596)  loss_mal_dn_2: 0.7554 (0.7554)  loss_bbox_dn_2: 0.3402 (0.3402)  loss_giou_dn_2: 0.7718 (0.7718)  loss_fgl_dn_2: 1.1197 (1.1197)  loss_mal_dn_pre: 0.7515 (0.7515)  loss_bbox_dn_pre: 0.4209 (0.4209)  loss_giou_dn_pre: 0.9669 (0.9669)  time: 1.7023  data: 1.2821  max mem: 10586\n"
     ]
    },
    {
     "name": "stderr",
     "output_type": "stream",
     "text": [
      "2025-03-10 15:05:26,630 - DEIMTrainer - INFO - Evaluating model...\n"
     ]
    },
    {
     "name": "stdout",
     "output_type": "stream",
     "text": [
      "Epoch: [89]  [14/15]  eta: 0:00:00  lr: 0.000091  loss: 25.6928 (25.7394)  loss_mal: 1.0703 (1.1290)  loss_bbox: 0.2557 (0.2540)  loss_giou: 0.4805 (0.4890)  loss_fgl: 1.2214 (1.2235)  loss_mal_aux_0: 1.1064 (1.1291)  loss_bbox_aux_0: 0.2797 (0.2783)  loss_giou_aux_0: 0.5140 (0.5258)  loss_fgl_aux_0: 1.2366 (1.2400)  loss_ddf_aux_0: 0.1451 (0.1441)  loss_mal_aux_1: 1.0771 (1.1361)  loss_bbox_aux_1: 0.2558 (0.2564)  loss_giou_aux_1: 0.4847 (0.4928)  loss_fgl_aux_1: 1.2234 (1.2252)  loss_ddf_aux_1: 0.0159 (0.0154)  loss_mal_pre: 1.1055 (1.1281)  loss_bbox_pre: 0.2798 (0.2759)  loss_giou_pre: 0.5141 (0.5227)  loss_mal_enc_0: 1.1982 (1.2117)  loss_bbox_enc_0: 0.3590 (0.3566)  loss_giou_enc_0: 0.6277 (0.6323)  loss_mal_dn_0: 0.7695 (0.7691)  loss_bbox_dn_0: 0.4758 (0.4923)  loss_giou_dn_0: 0.9043 (0.8989)  loss_fgl_dn_0: 1.1337 (1.1278)  loss_ddf_dn_0: 0.5553 (0.5518)  loss_mal_dn_1: 0.7852 (0.7847)  loss_bbox_dn_1: 0.3851 (0.4063)  loss_giou_dn_1: 0.7307 (0.7220)  loss_fgl_dn_1: 1.1395 (1.1346)  loss_ddf_dn_1: 0.0701 (0.0717)  loss_mal_dn_2: 0.7720 (0.7749)  loss_bbox_dn_2: 0.3497 (0.3747)  loss_giou_dn_2: 0.6525 (0.6647)  loss_fgl_dn_2: 1.1478 (1.1408)  loss_mal_dn_pre: 0.7715 (0.7690)  loss_bbox_dn_pre: 0.4804 (0.4934)  loss_giou_dn_pre: 0.8957 (0.8965)  time: 0.4597  data: 0.0998  max mem: 10586\n",
      "Epoch: [89] Total time: 0:00:06 (0.4639 s / it)\n",
      "Averaged stats: lr: 0.000091  loss: 25.6928 (25.7394)  loss_mal: 1.0703 (1.1290)  loss_bbox: 0.2557 (0.2540)  loss_giou: 0.4805 (0.4890)  loss_fgl: 1.2214 (1.2235)  loss_mal_aux_0: 1.1064 (1.1291)  loss_bbox_aux_0: 0.2797 (0.2783)  loss_giou_aux_0: 0.5140 (0.5258)  loss_fgl_aux_0: 1.2366 (1.2400)  loss_ddf_aux_0: 0.1451 (0.1441)  loss_mal_aux_1: 1.0771 (1.1361)  loss_bbox_aux_1: 0.2558 (0.2564)  loss_giou_aux_1: 0.4847 (0.4928)  loss_fgl_aux_1: 1.2234 (1.2252)  loss_ddf_aux_1: 0.0159 (0.0154)  loss_mal_pre: 1.1055 (1.1281)  loss_bbox_pre: 0.2798 (0.2759)  loss_giou_pre: 0.5141 (0.5227)  loss_mal_enc_0: 1.1982 (1.2117)  loss_bbox_enc_0: 0.3590 (0.3566)  loss_giou_enc_0: 0.6277 (0.6323)  loss_mal_dn_0: 0.7695 (0.7691)  loss_bbox_dn_0: 0.4758 (0.4923)  loss_giou_dn_0: 0.9043 (0.8989)  loss_fgl_dn_0: 1.1337 (1.1278)  loss_ddf_dn_0: 0.5553 (0.5518)  loss_mal_dn_1: 0.7852 (0.7847)  loss_bbox_dn_1: 0.3851 (0.4063)  loss_giou_dn_1: 0.7307 (0.7220)  loss_fgl_dn_1: 1.1395 (1.1346)  loss_ddf_dn_1: 0.0701 (0.0717)  loss_mal_dn_2: 0.7720 (0.7749)  loss_bbox_dn_2: 0.3497 (0.3747)  loss_giou_dn_2: 0.6525 (0.6647)  loss_fgl_dn_2: 1.1478 (1.1408)  loss_mal_dn_pre: 0.7715 (0.7690)  loss_bbox_dn_pre: 0.4804 (0.4934)  loss_giou_dn_pre: 0.8957 (0.8965)\n",
      "Test:  [0/5]  eta: 0:00:03    time: 0.7324  data: 0.6137  max mem: 10586\n"
     ]
    },
    {
     "name": "stderr",
     "output_type": "stream",
     "text": [
      "2025-03-10 15:05:28,131 - DEIMTrainer - INFO - Epoch 89 - Train loss: 25.7394, Eval mAP: 0.5319\n",
      "2025-03-10 15:05:28,131 - DEIMTrainer - INFO - Best stats: {'epoch': 88, 'coco_eval_bbox': 0.5526877104692688}\n"
     ]
    },
    {
     "name": "stdout",
     "output_type": "stream",
     "text": [
      "Test:  [4/5]  eta: 0:00:00    time: 0.2812  data: 0.1439  max mem: 10586\n",
      "Test: Total time: 0:00:01 (0.2935 s / it)\n",
      "Averaged stats: \n",
      "Accumulating evaluation results...\n",
      "COCOeval_opt.accumulate() finished...\n",
      "DONE (t=0.02s).\n",
      "IoU metric: bbox\n",
      " Average Precision  (AP) @[ IoU=0.50:0.95 | area=   all | maxDets=100 ] = 0.532\n",
      " Average Precision  (AP) @[ IoU=0.50      | area=   all | maxDets=100 ] = 0.796\n",
      " Average Precision  (AP) @[ IoU=0.75      | area=   all | maxDets=100 ] = 0.595\n",
      " Average Precision  (AP) @[ IoU=0.50:0.95 | area= small | maxDets=100 ] = 0.222\n",
      " Average Precision  (AP) @[ IoU=0.50:0.95 | area=medium | maxDets=100 ] = 0.583\n",
      " Average Precision  (AP) @[ IoU=0.50:0.95 | area= large | maxDets=100 ] = 0.412\n",
      " Average Recall     (AR) @[ IoU=0.50:0.95 | area=   all | maxDets=  1 ] = 0.380\n",
      " Average Recall     (AR) @[ IoU=0.50:0.95 | area=   all | maxDets= 10 ] = 0.640\n",
      " Average Recall     (AR) @[ IoU=0.50:0.95 | area=   all | maxDets=100 ] = 0.760\n",
      " Average Recall     (AR) @[ IoU=0.50:0.95 | area= small | maxDets=100 ] = 0.580\n",
      " Average Recall     (AR) @[ IoU=0.50:0.95 | area=medium | maxDets=100 ] = 0.757\n",
      " Average Recall     (AR) @[ IoU=0.50:0.95 | area= large | maxDets=100 ] = 0.739\n",
      " Average Recall     (AR) @[ IoU=0.50      | area=   all | maxDets=100 ] = 0.997\n",
      " Average Recall     (AR) @[ IoU=0.75      | area=   all | maxDets=100 ] = 0.917\n",
      "================================================\n",
      "{'coco_eval_bbox': [0.5319255506885076, 0.7957819048820703, 0.595071576049429, 0.22243081358767797, 0.5828488353507937, 0.41199593252045924, 0.3800125313283208, 0.640388096309149, 0.760135916714864, 0.5800000000000001, 0.7571130952380952, 0.7390783919201483]}\n",
      "================================================\n",
      "Epoch: [90]  [ 0/15]  eta: 0:00:26  lr: 0.000091  loss: 24.9552 (24.9552)  loss_mal: 1.0215 (1.0215)  loss_bbox: 0.2178 (0.2178)  loss_giou: 0.4539 (0.4539)  loss_fgl: 1.2284 (1.2284)  loss_mal_aux_0: 1.0625 (1.0625)  loss_bbox_aux_0: 0.2323 (0.2323)  loss_giou_aux_0: 0.4889 (0.4889)  loss_fgl_aux_0: 1.2363 (1.2363)  loss_ddf_aux_0: 0.1412 (0.1412)  loss_mal_aux_1: 1.0020 (1.0020)  loss_bbox_aux_1: 0.2148 (0.2148)  loss_giou_aux_1: 0.4525 (0.4525)  loss_fgl_aux_1: 1.2261 (1.2261)  loss_ddf_aux_1: 0.0116 (0.0116)  loss_mal_pre: 1.0615 (1.0615)  loss_bbox_pre: 0.2326 (0.2326)  loss_giou_pre: 0.4894 (0.4894)  loss_mal_enc_0: 1.2871 (1.2871)  loss_bbox_enc_0: 0.4002 (0.4002)  loss_giou_enc_0: 0.6934 (0.6934)  loss_mal_dn_0: 0.7710 (0.7710)  loss_bbox_dn_0: 0.4233 (0.4233)  loss_giou_dn_0: 0.8900 (0.8900)  loss_fgl_dn_0: 1.1499 (1.1499)  loss_ddf_dn_0: 0.5720 (0.5720)  loss_mal_dn_1: 0.7974 (0.7974)  loss_bbox_dn_1: 0.3277 (0.3277)  loss_giou_dn_1: 0.6855 (0.6855)  loss_fgl_dn_1: 1.1608 (1.1608)  loss_ddf_dn_1: 0.0760 (0.0760)  loss_mal_dn_2: 0.7905 (0.7905)  loss_bbox_dn_2: 0.2962 (0.2962)  loss_giou_dn_2: 0.6195 (0.6195)  loss_fgl_dn_2: 1.1666 (1.1666)  loss_mal_dn_pre: 0.7720 (0.7720)  loss_bbox_dn_pre: 0.4193 (0.4193)  loss_giou_dn_pre: 0.8834 (0.8834)  time: 1.7542  data: 1.2924  max mem: 10586\n"
     ]
    },
    {
     "name": "stderr",
     "output_type": "stream",
     "text": [
      "2025-03-10 15:05:35,228 - DEIMTrainer - INFO - Evaluating model...\n"
     ]
    },
    {
     "name": "stdout",
     "output_type": "stream",
     "text": [
      "Epoch: [90]  [14/15]  eta: 0:00:00  lr: 0.000093  loss: 25.2291 (25.3331)  loss_mal: 1.0811 (1.0952)  loss_bbox: 0.2190 (0.2243)  loss_giou: 0.4732 (0.4748)  loss_fgl: 1.2202 (1.2234)  loss_mal_aux_0: 1.1074 (1.1319)  loss_bbox_aux_0: 0.2404 (0.2438)  loss_giou_aux_0: 0.5088 (0.5110)  loss_fgl_aux_0: 1.2391 (1.2394)  loss_ddf_aux_0: 0.1412 (0.1462)  loss_mal_aux_1: 1.0908 (1.1151)  loss_bbox_aux_1: 0.2224 (0.2243)  loss_giou_aux_1: 0.4763 (0.4768)  loss_fgl_aux_1: 1.2232 (1.2239)  loss_ddf_aux_1: 0.0140 (0.0140)  loss_mal_pre: 1.1035 (1.1301)  loss_bbox_pre: 0.2404 (0.2429)  loss_giou_pre: 0.5056 (0.5096)  loss_mal_enc_0: 1.2402 (1.2460)  loss_bbox_enc_0: 0.3238 (0.3371)  loss_giou_enc_0: 0.6345 (0.6413)  loss_mal_dn_0: 0.7729 (0.7755)  loss_bbox_dn_0: 0.4362 (0.4503)  loss_giou_dn_0: 0.8885 (0.8735)  loss_fgl_dn_0: 1.1353 (1.1354)  loss_ddf_dn_0: 0.5138 (0.5427)  loss_mal_dn_1: 0.7905 (0.7935)  loss_bbox_dn_1: 0.3534 (0.3660)  loss_giou_dn_1: 0.7093 (0.7039)  loss_fgl_dn_1: 1.1432 (1.1431)  loss_ddf_dn_1: 0.0704 (0.0717)  loss_mal_dn_2: 0.7842 (0.7839)  loss_bbox_dn_2: 0.3280 (0.3415)  loss_giou_dn_2: 0.6519 (0.6531)  loss_fgl_dn_2: 1.1525 (1.1487)  loss_mal_dn_pre: 0.7725 (0.7757)  loss_bbox_dn_pre: 0.4404 (0.4514)  loss_giou_dn_pre: 0.8834 (0.8717)  time: 0.4684  data: 0.1006  max mem: 10586\n",
      "Epoch: [90] Total time: 0:00:07 (0.4719 s / it)\n",
      "Averaged stats: lr: 0.000093  loss: 25.2291 (25.3331)  loss_mal: 1.0811 (1.0952)  loss_bbox: 0.2190 (0.2243)  loss_giou: 0.4732 (0.4748)  loss_fgl: 1.2202 (1.2234)  loss_mal_aux_0: 1.1074 (1.1319)  loss_bbox_aux_0: 0.2404 (0.2438)  loss_giou_aux_0: 0.5088 (0.5110)  loss_fgl_aux_0: 1.2391 (1.2394)  loss_ddf_aux_0: 0.1412 (0.1462)  loss_mal_aux_1: 1.0908 (1.1151)  loss_bbox_aux_1: 0.2224 (0.2243)  loss_giou_aux_1: 0.4763 (0.4768)  loss_fgl_aux_1: 1.2232 (1.2239)  loss_ddf_aux_1: 0.0140 (0.0140)  loss_mal_pre: 1.1035 (1.1301)  loss_bbox_pre: 0.2404 (0.2429)  loss_giou_pre: 0.5056 (0.5096)  loss_mal_enc_0: 1.2402 (1.2460)  loss_bbox_enc_0: 0.3238 (0.3371)  loss_giou_enc_0: 0.6345 (0.6413)  loss_mal_dn_0: 0.7729 (0.7755)  loss_bbox_dn_0: 0.4362 (0.4503)  loss_giou_dn_0: 0.8885 (0.8735)  loss_fgl_dn_0: 1.1353 (1.1354)  loss_ddf_dn_0: 0.5138 (0.5427)  loss_mal_dn_1: 0.7905 (0.7935)  loss_bbox_dn_1: 0.3534 (0.3660)  loss_giou_dn_1: 0.7093 (0.7039)  loss_fgl_dn_1: 1.1432 (1.1431)  loss_ddf_dn_1: 0.0704 (0.0717)  loss_mal_dn_2: 0.7842 (0.7839)  loss_bbox_dn_2: 0.3280 (0.3415)  loss_giou_dn_2: 0.6519 (0.6531)  loss_fgl_dn_2: 1.1525 (1.1487)  loss_mal_dn_pre: 0.7725 (0.7757)  loss_bbox_dn_pre: 0.4404 (0.4514)  loss_giou_dn_pre: 0.8834 (0.8717)\n",
      "Test:  [0/5]  eta: 0:00:03    time: 0.7021  data: 0.5863  max mem: 10586\n"
     ]
    },
    {
     "name": "stderr",
     "output_type": "stream",
     "text": [
      "2025-03-10 15:05:36,685 - DEIMTrainer - INFO - Epoch 90 - Train loss: 25.3331, Eval mAP: 0.5238\n",
      "2025-03-10 15:05:36,685 - DEIMTrainer - INFO - Best stats: {'epoch': 88, 'coco_eval_bbox': 0.5526877104692688}\n"
     ]
    },
    {
     "name": "stdout",
     "output_type": "stream",
     "text": [
      "Test:  [4/5]  eta: 0:00:00    time: 0.2736  data: 0.1363  max mem: 10586\n",
      "Test: Total time: 0:00:01 (0.2851 s / it)\n",
      "Averaged stats: \n",
      "Accumulating evaluation results...\n",
      "COCOeval_opt.accumulate() finished...\n",
      "DONE (t=0.02s).\n",
      "IoU metric: bbox\n",
      " Average Precision  (AP) @[ IoU=0.50:0.95 | area=   all | maxDets=100 ] = 0.524\n",
      " Average Precision  (AP) @[ IoU=0.50      | area=   all | maxDets=100 ] = 0.782\n",
      " Average Precision  (AP) @[ IoU=0.75      | area=   all | maxDets=100 ] = 0.589\n",
      " Average Precision  (AP) @[ IoU=0.50:0.95 | area= small | maxDets=100 ] = 0.258\n",
      " Average Precision  (AP) @[ IoU=0.50:0.95 | area=medium | maxDets=100 ] = 0.402\n",
      " Average Precision  (AP) @[ IoU=0.50:0.95 | area= large | maxDets=100 ] = 0.416\n",
      " Average Recall     (AR) @[ IoU=0.50:0.95 | area=   all | maxDets=  1 ] = 0.376\n",
      " Average Recall     (AR) @[ IoU=0.50:0.95 | area=   all | maxDets= 10 ] = 0.650\n",
      " Average Recall     (AR) @[ IoU=0.50:0.95 | area=   all | maxDets=100 ] = 0.761\n",
      " Average Recall     (AR) @[ IoU=0.50:0.95 | area= small | maxDets=100 ] = 0.700\n",
      " Average Recall     (AR) @[ IoU=0.50:0.95 | area=medium | maxDets=100 ] = 0.734\n",
      " Average Recall     (AR) @[ IoU=0.50:0.95 | area= large | maxDets=100 ] = 0.765\n",
      " Average Recall     (AR) @[ IoU=0.50      | area=   all | maxDets=100 ] = 0.998\n",
      " Average Recall     (AR) @[ IoU=0.75      | area=   all | maxDets=100 ] = 0.897\n",
      "================================================\n",
      "{'coco_eval_bbox': [0.5237644364757059, 0.7823824777088001, 0.5886239736178385, 0.2582341035241775, 0.40151831685441924, 0.415782785440211, 0.37564825525351847, 0.6502329541803226, 0.7613363001520896, 0.7, 0.7344047619047621, 0.7647342880814296]}\n",
      "================================================\n",
      "Epoch: [91]  [ 0/15]  eta: 0:00:25  lr: 0.000093  loss: 24.9096 (24.9096)  loss_mal: 1.0439 (1.0439)  loss_bbox: 0.2237 (0.2237)  loss_giou: 0.4928 (0.4928)  loss_fgl: 1.1913 (1.1913)  loss_mal_aux_0: 1.0732 (1.0732)  loss_bbox_aux_0: 0.2334 (0.2334)  loss_giou_aux_0: 0.5259 (0.5259)  loss_fgl_aux_0: 1.2095 (1.2095)  loss_ddf_aux_0: 0.1422 (0.1422)  loss_mal_aux_1: 1.0566 (1.0566)  loss_bbox_aux_1: 0.2233 (0.2233)  loss_giou_aux_1: 0.4954 (0.4954)  loss_fgl_aux_1: 1.1921 (1.1921)  loss_ddf_aux_1: 0.0118 (0.0118)  loss_mal_pre: 1.0820 (1.0820)  loss_bbox_pre: 0.2304 (0.2304)  loss_giou_pre: 0.5231 (0.5231)  loss_mal_enc_0: 1.2939 (1.2939)  loss_bbox_enc_0: 0.3153 (0.3153)  loss_giou_enc_0: 0.6410 (0.6410)  loss_mal_dn_0: 0.7861 (0.7861)  loss_bbox_dn_0: 0.4344 (0.4344)  loss_giou_dn_0: 0.8332 (0.8332)  loss_fgl_dn_0: 1.1444 (1.1444)  loss_ddf_dn_0: 0.6109 (0.6109)  loss_mal_dn_1: 0.7896 (0.7896)  loss_bbox_dn_1: 0.3408 (0.3408)  loss_giou_dn_1: 0.6593 (0.6593)  loss_fgl_dn_1: 1.1414 (1.1414)  loss_ddf_dn_1: 0.0773 (0.0773)  loss_mal_dn_2: 0.7700 (0.7700)  loss_bbox_dn_2: 0.3152 (0.3152)  loss_giou_dn_2: 0.6079 (0.6079)  loss_fgl_dn_2: 1.1406 (1.1406)  loss_mal_dn_pre: 0.7847 (0.7847)  loss_bbox_dn_pre: 0.4374 (0.4374)  loss_giou_dn_pre: 0.8356 (0.8356)  time: 1.7319  data: 1.2602  max mem: 10586\n"
     ]
    },
    {
     "name": "stderr",
     "output_type": "stream",
     "text": [
      "2025-03-10 15:05:43,793 - DEIMTrainer - INFO - Saving checkpoint to outputs/deim_hgnetv2_s_coco/checkpoint0091.pth\n"
     ]
    },
    {
     "name": "stdout",
     "output_type": "stream",
     "text": [
      "Epoch: [91]  [14/15]  eta: 0:00:00  lr: 0.000095  loss: 25.0325 (25.2780)  loss_mal: 1.0908 (1.0937)  loss_bbox: 0.2205 (0.2280)  loss_giou: 0.4874 (0.4849)  loss_fgl: 1.2260 (1.2204)  loss_mal_aux_0: 1.0732 (1.0916)  loss_bbox_aux_0: 0.2367 (0.2467)  loss_giou_aux_0: 0.5233 (0.5276)  loss_fgl_aux_0: 1.2451 (1.2403)  loss_ddf_aux_0: 0.1446 (0.1450)  loss_mal_aux_1: 1.0859 (1.0930)  loss_bbox_aux_1: 0.2204 (0.2289)  loss_giou_aux_1: 0.4914 (0.4892)  loss_fgl_aux_1: 1.2265 (1.2228)  loss_ddf_aux_1: 0.0133 (0.0138)  loss_mal_pre: 1.0752 (1.0912)  loss_bbox_pre: 0.2325 (0.2442)  loss_giou_pre: 0.5198 (0.5233)  loss_mal_enc_0: 1.1865 (1.2288)  loss_bbox_enc_0: 0.3153 (0.3331)  loss_giou_enc_0: 0.6331 (0.6512)  loss_mal_dn_0: 0.7773 (0.7785)  loss_bbox_dn_0: 0.4372 (0.4457)  loss_giou_dn_0: 0.8739 (0.8635)  loss_fgl_dn_0: 1.1428 (1.1388)  loss_ddf_dn_0: 0.5944 (0.5943)  loss_mal_dn_1: 0.7886 (0.7909)  loss_bbox_dn_1: 0.3425 (0.3611)  loss_giou_dn_1: 0.6835 (0.6928)  loss_fgl_dn_1: 1.1495 (1.1447)  loss_ddf_dn_1: 0.0706 (0.0731)  loss_mal_dn_2: 0.7769 (0.7801)  loss_bbox_dn_2: 0.3204 (0.3363)  loss_giou_dn_2: 0.6268 (0.6430)  loss_fgl_dn_2: 1.1516 (1.1501)  loss_mal_dn_pre: 0.7749 (0.7783)  loss_bbox_dn_pre: 0.4374 (0.4475)  loss_giou_dn_pre: 0.8684 (0.8615)  time: 0.4681  data: 0.0979  max mem: 10586\n",
      "Epoch: [91] Total time: 0:00:07 (0.4725 s / it)\n",
      "Averaged stats: lr: 0.000095  loss: 25.0325 (25.2780)  loss_mal: 1.0908 (1.0937)  loss_bbox: 0.2205 (0.2280)  loss_giou: 0.4874 (0.4849)  loss_fgl: 1.2260 (1.2204)  loss_mal_aux_0: 1.0732 (1.0916)  loss_bbox_aux_0: 0.2367 (0.2467)  loss_giou_aux_0: 0.5233 (0.5276)  loss_fgl_aux_0: 1.2451 (1.2403)  loss_ddf_aux_0: 0.1446 (0.1450)  loss_mal_aux_1: 1.0859 (1.0930)  loss_bbox_aux_1: 0.2204 (0.2289)  loss_giou_aux_1: 0.4914 (0.4892)  loss_fgl_aux_1: 1.2265 (1.2228)  loss_ddf_aux_1: 0.0133 (0.0138)  loss_mal_pre: 1.0752 (1.0912)  loss_bbox_pre: 0.2325 (0.2442)  loss_giou_pre: 0.5198 (0.5233)  loss_mal_enc_0: 1.1865 (1.2288)  loss_bbox_enc_0: 0.3153 (0.3331)  loss_giou_enc_0: 0.6331 (0.6512)  loss_mal_dn_0: 0.7773 (0.7785)  loss_bbox_dn_0: 0.4372 (0.4457)  loss_giou_dn_0: 0.8739 (0.8635)  loss_fgl_dn_0: 1.1428 (1.1388)  loss_ddf_dn_0: 0.5944 (0.5943)  loss_mal_dn_1: 0.7886 (0.7909)  loss_bbox_dn_1: 0.3425 (0.3611)  loss_giou_dn_1: 0.6835 (0.6928)  loss_fgl_dn_1: 1.1495 (1.1447)  loss_ddf_dn_1: 0.0706 (0.0731)  loss_mal_dn_2: 0.7769 (0.7801)  loss_bbox_dn_2: 0.3204 (0.3363)  loss_giou_dn_2: 0.6268 (0.6430)  loss_fgl_dn_2: 1.1516 (1.1501)  loss_mal_dn_pre: 0.7749 (0.7783)  loss_bbox_dn_pre: 0.4374 (0.4475)  loss_giou_dn_pre: 0.8684 (0.8615)\n"
     ]
    },
    {
     "name": "stderr",
     "output_type": "stream",
     "text": [
      "2025-03-10 15:05:44,051 - DEIMTrainer - INFO - Checkpoint saved to outputs/deim_hgnetv2_s_coco/checkpoint0091.pth\n",
      "2025-03-10 15:05:44,053 - DEIMTrainer - INFO - Evaluating model...\n"
     ]
    },
    {
     "name": "stdout",
     "output_type": "stream",
     "text": [
      "Test:  [0/5]  eta: 0:00:03    time: 0.7707  data: 0.6523  max mem: 10586\n"
     ]
    },
    {
     "name": "stderr",
     "output_type": "stream",
     "text": [
      "2025-03-10 15:05:45,510 - DEIMTrainer - INFO - Epoch 91 - Train loss: 25.2780, Eval mAP: 0.5302\n",
      "2025-03-10 15:05:45,511 - DEIMTrainer - INFO - Best stats: {'epoch': 88, 'coco_eval_bbox': 0.5526877104692688}\n"
     ]
    },
    {
     "name": "stdout",
     "output_type": "stream",
     "text": [
      "Test:  [4/5]  eta: 0:00:00    time: 0.2755  data: 0.1429  max mem: 10586\n",
      "Test: Total time: 0:00:01 (0.2861 s / it)\n",
      "Averaged stats: \n",
      "Accumulating evaluation results...\n",
      "COCOeval_opt.accumulate() finished...\n",
      "DONE (t=0.02s).\n",
      "IoU metric: bbox\n",
      " Average Precision  (AP) @[ IoU=0.50:0.95 | area=   all | maxDets=100 ] = 0.530\n",
      " Average Precision  (AP) @[ IoU=0.50      | area=   all | maxDets=100 ] = 0.786\n",
      " Average Precision  (AP) @[ IoU=0.75      | area=   all | maxDets=100 ] = 0.602\n",
      " Average Precision  (AP) @[ IoU=0.50:0.95 | area= small | maxDets=100 ] = 0.164\n",
      " Average Precision  (AP) @[ IoU=0.50:0.95 | area=medium | maxDets=100 ] = 0.399\n",
      " Average Precision  (AP) @[ IoU=0.50:0.95 | area= large | maxDets=100 ] = 0.423\n",
      " Average Recall     (AR) @[ IoU=0.50:0.95 | area=   all | maxDets=  1 ] = 0.379\n",
      " Average Recall     (AR) @[ IoU=0.50:0.95 | area=   all | maxDets= 10 ] = 0.648\n",
      " Average Recall     (AR) @[ IoU=0.50:0.95 | area=   all | maxDets=100 ] = 0.753\n",
      " Average Recall     (AR) @[ IoU=0.50:0.95 | area= small | maxDets=100 ] = 0.640\n",
      " Average Recall     (AR) @[ IoU=0.50:0.95 | area=medium | maxDets=100 ] = 0.720\n",
      " Average Recall     (AR) @[ IoU=0.50:0.95 | area= large | maxDets=100 ] = 0.772\n",
      " Average Recall     (AR) @[ IoU=0.50      | area=   all | maxDets=100 ] = 0.998\n",
      " Average Recall     (AR) @[ IoU=0.75      | area=   all | maxDets=100 ] = 0.880\n",
      "================================================\n",
      "{'coco_eval_bbox': [0.530210785189161, 0.7864119631319473, 0.6022081410009194, 0.16398803711003437, 0.3991902518570261, 0.42336322367889895, 0.3787366386050596, 0.6475231883126619, 0.7533400809716599, 0.6399999999999999, 0.7200000000000001, 0.771760760642285]}\n",
      "================================================\n",
      "Epoch: [92]  [ 0/15]  eta: 0:00:26  lr: 0.000095  loss: 24.9953 (24.9953)  loss_mal: 1.1299 (1.1299)  loss_bbox: 0.1743 (0.1743)  loss_giou: 0.5668 (0.5668)  loss_fgl: 1.1806 (1.1806)  loss_mal_aux_0: 1.1553 (1.1553)  loss_bbox_aux_0: 0.1870 (0.1870)  loss_giou_aux_0: 0.5944 (0.5944)  loss_fgl_aux_0: 1.1956 (1.1956)  loss_ddf_aux_0: 0.1226 (0.1226)  loss_mal_aux_1: 1.1504 (1.1504)  loss_bbox_aux_1: 0.1744 (0.1744)  loss_giou_aux_1: 0.5668 (0.5668)  loss_fgl_aux_1: 1.1825 (1.1825)  loss_ddf_aux_1: 0.0118 (0.0118)  loss_mal_pre: 1.1553 (1.1553)  loss_bbox_pre: 0.1870 (0.1870)  loss_giou_pre: 0.5950 (0.5950)  loss_mal_enc_0: 1.1768 (1.1768)  loss_bbox_enc_0: 0.2339 (0.2339)  loss_giou_enc_0: 0.6813 (0.6813)  loss_mal_dn_0: 0.7661 (0.7661)  loss_bbox_dn_0: 0.3434 (0.3434)  loss_giou_dn_0: 0.9250 (0.9250)  loss_fgl_dn_0: 1.1112 (1.1112)  loss_ddf_dn_0: 0.5268 (0.5268)  loss_mal_dn_1: 0.7725 (0.7725)  loss_bbox_dn_1: 0.2795 (0.2795)  loss_giou_dn_1: 0.7637 (0.7637)  loss_fgl_dn_1: 1.1146 (1.1146)  loss_ddf_dn_1: 0.0636 (0.0636)  loss_mal_dn_2: 0.7734 (0.7734)  loss_bbox_dn_2: 0.2574 (0.2574)  loss_giou_dn_2: 0.7187 (0.7187)  loss_fgl_dn_2: 1.1186 (1.1186)  loss_mal_dn_pre: 0.7651 (0.7651)  loss_bbox_dn_pre: 0.3456 (0.3456)  loss_giou_dn_pre: 0.9285 (0.9285)  time: 1.7450  data: 1.3004  max mem: 10586\n"
     ]
    },
    {
     "name": "stderr",
     "output_type": "stream",
     "text": [
      "2025-03-10 15:05:52,677 - DEIMTrainer - INFO - Evaluating model...\n"
     ]
    },
    {
     "name": "stdout",
     "output_type": "stream",
     "text": [
      "Epoch: [92]  [14/15]  eta: 0:00:00  lr: 0.000097  loss: 24.9953 (24.9651)  loss_mal: 1.1084 (1.0982)  loss_bbox: 0.2111 (0.2077)  loss_giou: 0.4572 (0.4606)  loss_fgl: 1.2201 (1.2179)  loss_mal_aux_0: 1.1504 (1.1473)  loss_bbox_aux_0: 0.2345 (0.2314)  loss_giou_aux_0: 0.4979 (0.5009)  loss_fgl_aux_0: 1.2509 (1.2416)  loss_ddf_aux_0: 0.1344 (0.1365)  loss_mal_aux_1: 1.1299 (1.1178)  loss_bbox_aux_1: 0.2115 (0.2088)  loss_giou_aux_1: 0.4608 (0.4627)  loss_fgl_aux_1: 1.2210 (1.2193)  loss_ddf_aux_1: 0.0127 (0.0129)  loss_mal_pre: 1.1455 (1.1464)  loss_bbox_pre: 0.2335 (0.2299)  loss_giou_pre: 0.4936 (0.4979)  loss_mal_enc_0: 1.2109 (1.2196)  loss_bbox_enc_0: 0.3054 (0.3109)  loss_giou_enc_0: 0.6030 (0.6131)  loss_mal_dn_0: 0.7734 (0.7754)  loss_bbox_dn_0: 0.4361 (0.4359)  loss_giou_dn_0: 0.8352 (0.8522)  loss_fgl_dn_0: 1.1398 (1.1407)  loss_ddf_dn_0: 0.5358 (0.5487)  loss_mal_dn_1: 0.7954 (0.7944)  loss_bbox_dn_1: 0.3436 (0.3414)  loss_giou_dn_1: 0.6633 (0.6680)  loss_fgl_dn_1: 1.1462 (1.1395)  loss_ddf_dn_1: 0.0646 (0.0698)  loss_mal_dn_2: 0.7852 (0.7801)  loss_bbox_dn_2: 0.3171 (0.3136)  loss_giou_dn_2: 0.6126 (0.6192)  loss_fgl_dn_2: 1.1453 (1.1405)  loss_mal_dn_pre: 0.7720 (0.7748)  loss_bbox_dn_pre: 0.4343 (0.4381)  loss_giou_dn_pre: 0.8317 (0.8514)  time: 0.4716  data: 0.1045  max mem: 10586\n",
      "Epoch: [92] Total time: 0:00:07 (0.4763 s / it)\n",
      "Averaged stats: lr: 0.000097  loss: 24.9953 (24.9651)  loss_mal: 1.1084 (1.0982)  loss_bbox: 0.2111 (0.2077)  loss_giou: 0.4572 (0.4606)  loss_fgl: 1.2201 (1.2179)  loss_mal_aux_0: 1.1504 (1.1473)  loss_bbox_aux_0: 0.2345 (0.2314)  loss_giou_aux_0: 0.4979 (0.5009)  loss_fgl_aux_0: 1.2509 (1.2416)  loss_ddf_aux_0: 0.1344 (0.1365)  loss_mal_aux_1: 1.1299 (1.1178)  loss_bbox_aux_1: 0.2115 (0.2088)  loss_giou_aux_1: 0.4608 (0.4627)  loss_fgl_aux_1: 1.2210 (1.2193)  loss_ddf_aux_1: 0.0127 (0.0129)  loss_mal_pre: 1.1455 (1.1464)  loss_bbox_pre: 0.2335 (0.2299)  loss_giou_pre: 0.4936 (0.4979)  loss_mal_enc_0: 1.2109 (1.2196)  loss_bbox_enc_0: 0.3054 (0.3109)  loss_giou_enc_0: 0.6030 (0.6131)  loss_mal_dn_0: 0.7734 (0.7754)  loss_bbox_dn_0: 0.4361 (0.4359)  loss_giou_dn_0: 0.8352 (0.8522)  loss_fgl_dn_0: 1.1398 (1.1407)  loss_ddf_dn_0: 0.5358 (0.5487)  loss_mal_dn_1: 0.7954 (0.7944)  loss_bbox_dn_1: 0.3436 (0.3414)  loss_giou_dn_1: 0.6633 (0.6680)  loss_fgl_dn_1: 1.1462 (1.1395)  loss_ddf_dn_1: 0.0646 (0.0698)  loss_mal_dn_2: 0.7852 (0.7801)  loss_bbox_dn_2: 0.3171 (0.3136)  loss_giou_dn_2: 0.6126 (0.6192)  loss_fgl_dn_2: 1.1453 (1.1405)  loss_mal_dn_pre: 0.7720 (0.7748)  loss_bbox_dn_pre: 0.4343 (0.4381)  loss_giou_dn_pre: 0.8317 (0.8514)\n",
      "Test:  [0/5]  eta: 0:00:03    time: 0.7448  data: 0.6248  max mem: 10586\n"
     ]
    },
    {
     "name": "stderr",
     "output_type": "stream",
     "text": [
      "2025-03-10 15:05:54,185 - DEIMTrainer - INFO - Epoch 92 - Train loss: 24.9651, Eval mAP: 0.5348\n",
      "2025-03-10 15:05:54,185 - DEIMTrainer - INFO - Best stats: {'epoch': 88, 'coco_eval_bbox': 0.5526877104692688}\n"
     ]
    },
    {
     "name": "stdout",
     "output_type": "stream",
     "text": [
      "Test:  [4/5]  eta: 0:00:00    time: 0.2812  data: 0.1445  max mem: 10586\n",
      "Test: Total time: 0:00:01 (0.2950 s / it)\n",
      "Averaged stats: \n",
      "Accumulating evaluation results...\n",
      "COCOeval_opt.accumulate() finished...\n",
      "DONE (t=0.02s).\n",
      "IoU metric: bbox\n",
      " Average Precision  (AP) @[ IoU=0.50:0.95 | area=   all | maxDets=100 ] = 0.535\n",
      " Average Precision  (AP) @[ IoU=0.50      | area=   all | maxDets=100 ] = 0.794\n",
      " Average Precision  (AP) @[ IoU=0.75      | area=   all | maxDets=100 ] = 0.607\n",
      " Average Precision  (AP) @[ IoU=0.50:0.95 | area= small | maxDets=100 ] = 0.401\n",
      " Average Precision  (AP) @[ IoU=0.50:0.95 | area=medium | maxDets=100 ] = 0.544\n",
      " Average Precision  (AP) @[ IoU=0.50:0.95 | area= large | maxDets=100 ] = 0.421\n",
      " Average Recall     (AR) @[ IoU=0.50:0.95 | area=   all | maxDets=  1 ] = 0.369\n",
      " Average Recall     (AR) @[ IoU=0.50:0.95 | area=   all | maxDets= 10 ] = 0.645\n",
      " Average Recall     (AR) @[ IoU=0.50:0.95 | area=   all | maxDets=100 ] = 0.762\n",
      " Average Recall     (AR) @[ IoU=0.50:0.95 | area= small | maxDets=100 ] = 0.600\n",
      " Average Recall     (AR) @[ IoU=0.50:0.95 | area=medium | maxDets=100 ] = 0.774\n",
      " Average Recall     (AR) @[ IoU=0.50:0.95 | area= large | maxDets=100 ] = 0.537\n",
      " Average Recall     (AR) @[ IoU=0.50      | area=   all | maxDets=100 ] = 0.994\n",
      " Average Recall     (AR) @[ IoU=0.75      | area=   all | maxDets=100 ] = 0.917\n",
      "================================================\n",
      "{'coco_eval_bbox': [0.534803864778315, 0.7942080308468376, 0.6070987658633371, 0.4006047022338486, 0.54441051836284, 0.42084305588591886, 0.3693164535269798, 0.6450549450549449, 0.7624172611014718, 0.6, 0.7735416666666666, 0.5366962559671756]}\n",
      "================================================\n",
      "Epoch: [93]  [ 0/15]  eta: 0:00:22  lr: 0.000097  loss: 24.3651 (24.3651)  loss_mal: 1.0508 (1.0508)  loss_bbox: 0.1956 (0.1956)  loss_giou: 0.4830 (0.4830)  loss_fgl: 1.2305 (1.2305)  loss_mal_aux_0: 1.0322 (1.0322)  loss_bbox_aux_0: 0.2088 (0.2088)  loss_giou_aux_0: 0.5111 (0.5111)  loss_fgl_aux_0: 1.2371 (1.2371)  loss_ddf_aux_0: 0.1173 (0.1173)  loss_mal_aux_1: 1.0303 (1.0303)  loss_bbox_aux_1: 0.1964 (0.1964)  loss_giou_aux_1: 0.4847 (0.4847)  loss_fgl_aux_1: 1.2307 (1.2307)  loss_ddf_aux_1: 0.0109 (0.0109)  loss_mal_pre: 1.0381 (1.0381)  loss_bbox_pre: 0.2081 (0.2081)  loss_giou_pre: 0.5101 (0.5101)  loss_mal_enc_0: 1.1543 (1.1543)  loss_bbox_enc_0: 0.2582 (0.2582)  loss_giou_enc_0: 0.6018 (0.6018)  loss_mal_dn_0: 0.7817 (0.7817)  loss_bbox_dn_0: 0.3737 (0.3737)  loss_giou_dn_0: 0.8660 (0.8660)  loss_fgl_dn_0: 1.1399 (1.1399)  loss_ddf_dn_0: 0.6059 (0.6059)  loss_mal_dn_1: 0.7847 (0.7847)  loss_bbox_dn_1: 0.2922 (0.2922)  loss_giou_dn_1: 0.6766 (0.6766)  loss_fgl_dn_1: 1.1393 (1.1393)  loss_ddf_dn_1: 0.0732 (0.0732)  loss_mal_dn_2: 0.7729 (0.7729)  loss_bbox_dn_2: 0.2720 (0.2720)  loss_giou_dn_2: 0.6280 (0.6280)  loss_fgl_dn_2: 1.1428 (1.1428)  loss_mal_dn_pre: 0.7808 (0.7808)  loss_bbox_dn_pre: 0.3771 (0.3771)  loss_giou_dn_pre: 0.8682 (0.8682)  time: 1.5030  data: 1.0499  max mem: 10586\n"
     ]
    },
    {
     "name": "stderr",
     "output_type": "stream",
     "text": [
      "2025-03-10 15:06:01,284 - DEIMTrainer - INFO - Evaluating model...\n"
     ]
    },
    {
     "name": "stdout",
     "output_type": "stream",
     "text": [
      "Epoch: [93]  [14/15]  eta: 0:00:00  lr: 0.000099  loss: 25.0871 (24.9510)  loss_mal: 1.0801 (1.0981)  loss_bbox: 0.1981 (0.2054)  loss_giou: 0.4603 (0.4773)  loss_fgl: 1.2207 (1.2195)  loss_mal_aux_0: 1.0781 (1.1197)  loss_bbox_aux_0: 0.2241 (0.2263)  loss_giou_aux_0: 0.5090 (0.5140)  loss_fgl_aux_0: 1.2371 (1.2373)  loss_ddf_aux_0: 0.1398 (0.1425)  loss_mal_aux_1: 1.0791 (1.0958)  loss_bbox_aux_1: 0.1994 (0.2069)  loss_giou_aux_1: 0.4627 (0.4808)  loss_fgl_aux_1: 1.2218 (1.2208)  loss_ddf_aux_1: 0.0120 (0.0121)  loss_mal_pre: 1.0820 (1.1194)  loss_bbox_pre: 0.2238 (0.2238)  loss_giou_pre: 0.5044 (0.5097)  loss_mal_enc_0: 1.1875 (1.2133)  loss_bbox_enc_0: 0.3044 (0.2979)  loss_giou_enc_0: 0.6018 (0.6246)  loss_mal_dn_0: 0.7783 (0.7777)  loss_bbox_dn_0: 0.4204 (0.4093)  loss_giou_dn_0: 0.8620 (0.8588)  loss_fgl_dn_0: 1.1523 (1.1442)  loss_ddf_dn_0: 0.6059 (0.6158)  loss_mal_dn_1: 0.7944 (0.7907)  loss_bbox_dn_1: 0.3261 (0.3218)  loss_giou_dn_1: 0.6753 (0.6758)  loss_fgl_dn_1: 1.1472 (1.1442)  loss_ddf_dn_1: 0.0694 (0.0735)  loss_mal_dn_2: 0.7817 (0.7813)  loss_bbox_dn_2: 0.2931 (0.2954)  loss_giou_dn_2: 0.6225 (0.6244)  loss_fgl_dn_2: 1.1521 (1.1471)  loss_mal_dn_pre: 0.7793 (0.7779)  loss_bbox_dn_pre: 0.4241 (0.4123)  loss_giou_dn_pre: 0.8580 (0.8555)  time: 0.4684  data: 0.0908  max mem: 10586\n",
      "Epoch: [93] Total time: 0:00:07 (0.4720 s / it)\n",
      "Averaged stats: lr: 0.000099  loss: 25.0871 (24.9510)  loss_mal: 1.0801 (1.0981)  loss_bbox: 0.1981 (0.2054)  loss_giou: 0.4603 (0.4773)  loss_fgl: 1.2207 (1.2195)  loss_mal_aux_0: 1.0781 (1.1197)  loss_bbox_aux_0: 0.2241 (0.2263)  loss_giou_aux_0: 0.5090 (0.5140)  loss_fgl_aux_0: 1.2371 (1.2373)  loss_ddf_aux_0: 0.1398 (0.1425)  loss_mal_aux_1: 1.0791 (1.0958)  loss_bbox_aux_1: 0.1994 (0.2069)  loss_giou_aux_1: 0.4627 (0.4808)  loss_fgl_aux_1: 1.2218 (1.2208)  loss_ddf_aux_1: 0.0120 (0.0121)  loss_mal_pre: 1.0820 (1.1194)  loss_bbox_pre: 0.2238 (0.2238)  loss_giou_pre: 0.5044 (0.5097)  loss_mal_enc_0: 1.1875 (1.2133)  loss_bbox_enc_0: 0.3044 (0.2979)  loss_giou_enc_0: 0.6018 (0.6246)  loss_mal_dn_0: 0.7783 (0.7777)  loss_bbox_dn_0: 0.4204 (0.4093)  loss_giou_dn_0: 0.8620 (0.8588)  loss_fgl_dn_0: 1.1523 (1.1442)  loss_ddf_dn_0: 0.6059 (0.6158)  loss_mal_dn_1: 0.7944 (0.7907)  loss_bbox_dn_1: 0.3261 (0.3218)  loss_giou_dn_1: 0.6753 (0.6758)  loss_fgl_dn_1: 1.1472 (1.1442)  loss_ddf_dn_1: 0.0694 (0.0735)  loss_mal_dn_2: 0.7817 (0.7813)  loss_bbox_dn_2: 0.2931 (0.2954)  loss_giou_dn_2: 0.6225 (0.6244)  loss_fgl_dn_2: 1.1521 (1.1471)  loss_mal_dn_pre: 0.7793 (0.7779)  loss_bbox_dn_pre: 0.4241 (0.4123)  loss_giou_dn_pre: 0.8580 (0.8555)\n",
      "Test:  [0/5]  eta: 0:00:04    time: 0.8062  data: 0.6937  max mem: 10586\n"
     ]
    },
    {
     "name": "stderr",
     "output_type": "stream",
     "text": [
      "2025-03-10 15:06:02,691 - DEIMTrainer - INFO - Epoch 93 - Train loss: 24.9510, Eval mAP: 0.5420\n",
      "2025-03-10 15:06:02,692 - DEIMTrainer - INFO - Best stats: {'epoch': 88, 'coco_eval_bbox': 0.5526877104692688}\n"
     ]
    },
    {
     "name": "stdout",
     "output_type": "stream",
     "text": [
      "Test:  [4/5]  eta: 0:00:00    time: 0.2633  data: 0.1561  max mem: 10586\n",
      "Test: Total time: 0:00:01 (0.2748 s / it)\n",
      "Averaged stats: \n",
      "Accumulating evaluation results...\n",
      "COCOeval_opt.accumulate() finished...\n",
      "DONE (t=0.02s).\n",
      "IoU metric: bbox\n",
      " Average Precision  (AP) @[ IoU=0.50:0.95 | area=   all | maxDets=100 ] = 0.542\n",
      " Average Precision  (AP) @[ IoU=0.50      | area=   all | maxDets=100 ] = 0.802\n",
      " Average Precision  (AP) @[ IoU=0.75      | area=   all | maxDets=100 ] = 0.615\n",
      " Average Precision  (AP) @[ IoU=0.50:0.95 | area= small | maxDets=100 ] = 0.414\n",
      " Average Precision  (AP) @[ IoU=0.50:0.95 | area=medium | maxDets=100 ] = 0.549\n",
      " Average Precision  (AP) @[ IoU=0.50:0.95 | area= large | maxDets=100 ] = 0.426\n",
      " Average Recall     (AR) @[ IoU=0.50:0.95 | area=   all | maxDets=  1 ] = 0.377\n",
      " Average Recall     (AR) @[ IoU=0.50:0.95 | area=   all | maxDets= 10 ] = 0.642\n",
      " Average Recall     (AR) @[ IoU=0.50:0.95 | area=   all | maxDets=100 ] = 0.747\n",
      " Average Recall     (AR) @[ IoU=0.50:0.95 | area= small | maxDets=100 ] = 0.660\n",
      " Average Recall     (AR) @[ IoU=0.50:0.95 | area=medium | maxDets=100 ] = 0.729\n",
      " Average Recall     (AR) @[ IoU=0.50:0.95 | area= large | maxDets=100 ] = 0.527\n",
      " Average Recall     (AR) @[ IoU=0.50      | area=   all | maxDets=100 ] = 0.994\n",
      " Average Recall     (AR) @[ IoU=0.75      | area=   all | maxDets=100 ] = 0.895\n",
      "================================================\n",
      "{'coco_eval_bbox': [0.5419885740002599, 0.8023989468824624, 0.6151999488132599, 0.41438835919110567, 0.5487481571272107, 0.4255512170018565, 0.3774942163100058, 0.6424319345371977, 0.7470982477561425, 0.66, 0.7285119047619047, 0.5267621414763088]}\n",
      "================================================\n",
      "Epoch: [94]  [ 0/15]  eta: 0:00:28  lr: 0.000099  loss: 24.8702 (24.8702)  loss_mal: 1.1660 (1.1660)  loss_bbox: 0.1784 (0.1784)  loss_giou: 0.5388 (0.5388)  loss_fgl: 1.2177 (1.2177)  loss_mal_aux_0: 1.0840 (1.0840)  loss_bbox_aux_0: 0.1980 (0.1980)  loss_giou_aux_0: 0.5758 (0.5758)  loss_fgl_aux_0: 1.2217 (1.2217)  loss_ddf_aux_0: 0.1509 (0.1509)  loss_mal_aux_1: 1.1055 (1.1055)  loss_bbox_aux_1: 0.1803 (0.1803)  loss_giou_aux_1: 0.5437 (0.5437)  loss_fgl_aux_1: 1.2148 (1.2148)  loss_ddf_aux_1: 0.0122 (0.0122)  loss_mal_pre: 1.0820 (1.0820)  loss_bbox_pre: 0.1977 (0.1977)  loss_giou_pre: 0.5738 (0.5738)  loss_mal_enc_0: 1.0986 (1.0986)  loss_bbox_enc_0: 0.2535 (0.2535)  loss_giou_enc_0: 0.6761 (0.6761)  loss_mal_dn_0: 0.8032 (0.8032)  loss_bbox_dn_0: 0.3292 (0.3292)  loss_giou_dn_0: 0.8716 (0.8716)  loss_fgl_dn_0: 1.1605 (1.1605)  loss_ddf_dn_0: 0.6567 (0.6567)  loss_mal_dn_1: 0.7847 (0.7847)  loss_bbox_dn_1: 0.2539 (0.2539)  loss_giou_dn_1: 0.6878 (0.6878)  loss_fgl_dn_1: 1.1584 (1.1584)  loss_ddf_dn_1: 0.0762 (0.0762)  loss_mal_dn_2: 0.7832 (0.7832)  loss_bbox_dn_2: 0.2366 (0.2366)  loss_giou_dn_2: 0.6341 (0.6341)  loss_fgl_dn_2: 1.1658 (1.1658)  loss_mal_dn_pre: 0.8042 (0.8042)  loss_bbox_dn_pre: 0.3292 (0.3292)  loss_giou_dn_pre: 0.8652 (0.8652)  time: 1.8707  data: 1.1864  max mem: 10586\n"
     ]
    },
    {
     "name": "stderr",
     "output_type": "stream",
     "text": [
      "2025-03-10 15:06:09,740 - DEIMTrainer - INFO - Evaluating model...\n"
     ]
    },
    {
     "name": "stdout",
     "output_type": "stream",
     "text": [
      "Epoch: [94]  [14/15]  eta: 0:00:00  lr: 0.000101  loss: 24.9093 (24.9450)  loss_mal: 1.0557 (1.0677)  loss_bbox: 0.2140 (0.2136)  loss_giou: 0.4657 (0.4585)  loss_fgl: 1.2137 (1.2110)  loss_mal_aux_0: 1.0840 (1.0943)  loss_bbox_aux_0: 0.2409 (0.2402)  loss_giou_aux_0: 0.5118 (0.5045)  loss_fgl_aux_0: 1.2405 (1.2363)  loss_ddf_aux_0: 0.1509 (0.1504)  loss_mal_aux_1: 1.0859 (1.0901)  loss_bbox_aux_1: 0.2143 (0.2155)  loss_giou_aux_1: 0.4696 (0.4617)  loss_fgl_aux_1: 1.2148 (1.2137)  loss_ddf_aux_1: 0.0120 (0.0122)  loss_mal_pre: 1.0840 (1.0934)  loss_bbox_pre: 0.2367 (0.2394)  loss_giou_pre: 0.5122 (0.5023)  loss_mal_enc_0: 1.1787 (1.1809)  loss_bbox_enc_0: 0.3380 (0.3416)  loss_giou_enc_0: 0.6418 (0.6490)  loss_mal_dn_0: 0.7788 (0.7785)  loss_bbox_dn_0: 0.4343 (0.4339)  loss_giou_dn_0: 0.8450 (0.8402)  loss_fgl_dn_0: 1.1552 (1.1519)  loss_ddf_dn_0: 0.6333 (0.6716)  loss_mal_dn_1: 0.7915 (0.7935)  loss_bbox_dn_1: 0.3446 (0.3355)  loss_giou_dn_1: 0.6569 (0.6509)  loss_fgl_dn_1: 1.1499 (1.1454)  loss_ddf_dn_1: 0.0725 (0.0755)  loss_mal_dn_2: 0.7803 (0.7798)  loss_bbox_dn_2: 0.3182 (0.3091)  loss_giou_dn_2: 0.6065 (0.6006)  loss_fgl_dn_2: 1.1481 (1.1477)  loss_mal_dn_pre: 0.7803 (0.7789)  loss_bbox_dn_pre: 0.4416 (0.4378)  loss_giou_dn_pre: 0.8343 (0.8380)  time: 0.4650  data: 0.0947  max mem: 10586\n",
      "Epoch: [94] Total time: 0:00:07 (0.4687 s / it)\n",
      "Averaged stats: lr: 0.000101  loss: 24.9093 (24.9450)  loss_mal: 1.0557 (1.0677)  loss_bbox: 0.2140 (0.2136)  loss_giou: 0.4657 (0.4585)  loss_fgl: 1.2137 (1.2110)  loss_mal_aux_0: 1.0840 (1.0943)  loss_bbox_aux_0: 0.2409 (0.2402)  loss_giou_aux_0: 0.5118 (0.5045)  loss_fgl_aux_0: 1.2405 (1.2363)  loss_ddf_aux_0: 0.1509 (0.1504)  loss_mal_aux_1: 1.0859 (1.0901)  loss_bbox_aux_1: 0.2143 (0.2155)  loss_giou_aux_1: 0.4696 (0.4617)  loss_fgl_aux_1: 1.2148 (1.2137)  loss_ddf_aux_1: 0.0120 (0.0122)  loss_mal_pre: 1.0840 (1.0934)  loss_bbox_pre: 0.2367 (0.2394)  loss_giou_pre: 0.5122 (0.5023)  loss_mal_enc_0: 1.1787 (1.1809)  loss_bbox_enc_0: 0.3380 (0.3416)  loss_giou_enc_0: 0.6418 (0.6490)  loss_mal_dn_0: 0.7788 (0.7785)  loss_bbox_dn_0: 0.4343 (0.4339)  loss_giou_dn_0: 0.8450 (0.8402)  loss_fgl_dn_0: 1.1552 (1.1519)  loss_ddf_dn_0: 0.6333 (0.6716)  loss_mal_dn_1: 0.7915 (0.7935)  loss_bbox_dn_1: 0.3446 (0.3355)  loss_giou_dn_1: 0.6569 (0.6509)  loss_fgl_dn_1: 1.1499 (1.1454)  loss_ddf_dn_1: 0.0725 (0.0755)  loss_mal_dn_2: 0.7803 (0.7798)  loss_bbox_dn_2: 0.3182 (0.3091)  loss_giou_dn_2: 0.6065 (0.6006)  loss_fgl_dn_2: 1.1481 (1.1477)  loss_mal_dn_pre: 0.7803 (0.7789)  loss_bbox_dn_pre: 0.4416 (0.4378)  loss_giou_dn_pre: 0.8343 (0.8380)\n",
      "Test:  [0/5]  eta: 0:00:03    time: 0.7033  data: 0.5919  max mem: 10586\n"
     ]
    },
    {
     "name": "stderr",
     "output_type": "stream",
     "text": [
      "2025-03-10 15:06:10,997 - DEIMTrainer - INFO - Saving checkpoint to outputs/deim_hgnetv2_s_coco/best.pth\n"
     ]
    },
    {
     "name": "stdout",
     "output_type": "stream",
     "text": [
      "Test:  [4/5]  eta: 0:00:00    time: 0.2335  data: 0.1335  max mem: 10586\n",
      "Test: Total time: 0:00:01 (0.2456 s / it)\n",
      "Averaged stats: \n",
      "Accumulating evaluation results...\n",
      "COCOeval_opt.accumulate() finished...\n",
      "DONE (t=0.02s).\n",
      "IoU metric: bbox\n",
      " Average Precision  (AP) @[ IoU=0.50:0.95 | area=   all | maxDets=100 ] = 0.555\n",
      " Average Precision  (AP) @[ IoU=0.50      | area=   all | maxDets=100 ] = 0.809\n",
      " Average Precision  (AP) @[ IoU=0.75      | area=   all | maxDets=100 ] = 0.654\n",
      " Average Precision  (AP) @[ IoU=0.50:0.95 | area= small | maxDets=100 ] = 0.307\n",
      " Average Precision  (AP) @[ IoU=0.50:0.95 | area=medium | maxDets=100 ] = 0.561\n",
      " Average Precision  (AP) @[ IoU=0.50:0.95 | area= large | maxDets=100 ] = 0.431\n",
      " Average Recall     (AR) @[ IoU=0.50:0.95 | area=   all | maxDets=  1 ] = 0.388\n",
      " Average Recall     (AR) @[ IoU=0.50:0.95 | area=   all | maxDets= 10 ] = 0.658\n",
      " Average Recall     (AR) @[ IoU=0.50:0.95 | area=   all | maxDets=100 ] = 0.771\n",
      " Average Recall     (AR) @[ IoU=0.50:0.95 | area= small | maxDets=100 ] = 0.660\n",
      " Average Recall     (AR) @[ IoU=0.50:0.95 | area=medium | maxDets=100 ] = 0.740\n",
      " Average Recall     (AR) @[ IoU=0.50:0.95 | area= large | maxDets=100 ] = 0.809\n",
      " Average Recall     (AR) @[ IoU=0.50      | area=   all | maxDets=100 ] = 0.998\n",
      " Average Recall     (AR) @[ IoU=0.75      | area=   all | maxDets=100 ] = 0.923\n",
      "================================================\n",
      "{'coco_eval_bbox': [0.5549519312575568, 0.8092591743704576, 0.6542782882478663, 0.30683543098466937, 0.5609005778703601, 0.4309474201163737, 0.3877921298973931, 0.657663924769188, 0.7713391384444016, 0.6599999999999999, 0.7398214285714285, 0.8094930366512804]}\n",
      "================================================\n"
     ]
    },
    {
     "name": "stderr",
     "output_type": "stream",
     "text": [
      "2025-03-10 15:06:11,461 - DEIMTrainer - INFO - Checkpoint saved to outputs/deim_hgnetv2_s_coco/best.pth\n",
      "2025-03-10 15:06:11,463 - DEIMTrainer - INFO - Epoch 94 - Train loss: 24.9450, Eval mAP: 0.5550\n",
      "2025-03-10 15:06:11,464 - DEIMTrainer - INFO - Best stats: {'epoch': 94, 'coco_eval_bbox': 0.5549519312575568}\n"
     ]
    },
    {
     "name": "stdout",
     "output_type": "stream",
     "text": [
      "Epoch: [95]  [ 0/15]  eta: 0:00:23  lr: 0.000102  loss: 24.6602 (24.6602)  loss_mal: 1.0283 (1.0283)  loss_bbox: 0.2091 (0.2091)  loss_giou: 0.4677 (0.4677)  loss_fgl: 1.2056 (1.2056)  loss_mal_aux_0: 1.0771 (1.0771)  loss_bbox_aux_0: 0.2299 (0.2299)  loss_giou_aux_0: 0.5076 (0.5076)  loss_fgl_aux_0: 1.2206 (1.2206)  loss_ddf_aux_0: 0.2045 (0.2045)  loss_mal_aux_1: 1.0469 (1.0469)  loss_bbox_aux_1: 0.2044 (0.2044)  loss_giou_aux_1: 0.4627 (0.4627)  loss_fgl_aux_1: 1.2036 (1.2036)  loss_ddf_aux_1: 0.0144 (0.0144)  loss_mal_pre: 1.0742 (1.0742)  loss_bbox_pre: 0.2264 (0.2264)  loss_giou_pre: 0.5026 (0.5026)  loss_mal_enc_0: 1.1104 (1.1104)  loss_bbox_enc_0: 0.2972 (0.2972)  loss_giou_enc_0: 0.6145 (0.6145)  loss_mal_dn_0: 0.7725 (0.7725)  loss_bbox_dn_0: 0.4117 (0.4117)  loss_giou_dn_0: 0.8100 (0.8100)  loss_fgl_dn_0: 1.1412 (1.1412)  loss_ddf_dn_0: 0.7883 (0.7883)  loss_mal_dn_1: 0.7998 (0.7998)  loss_bbox_dn_1: 0.3248 (0.3248)  loss_giou_dn_1: 0.6372 (0.6372)  loss_fgl_dn_1: 1.1417 (1.1417)  loss_ddf_dn_1: 0.0874 (0.0874)  loss_mal_dn_2: 0.7827 (0.7827)  loss_bbox_dn_2: 0.3076 (0.3076)  loss_giou_dn_2: 0.5915 (0.5915)  loss_fgl_dn_2: 1.1468 (1.1468)  loss_mal_dn_pre: 0.7700 (0.7700)  loss_bbox_dn_pre: 0.4211 (0.4211)  loss_giou_dn_pre: 0.8184 (0.8184)  time: 1.5814  data: 1.0223  max mem: 10586\n"
     ]
    },
    {
     "name": "stderr",
     "output_type": "stream",
     "text": [
      "2025-03-10 15:06:18,372 - DEIMTrainer - INFO - Saving checkpoint to outputs/deim_hgnetv2_s_coco/checkpoint0095.pth\n"
     ]
    },
    {
     "name": "stdout",
     "output_type": "stream",
     "text": [
      "Epoch: [95]  [14/15]  eta: 0:00:00  lr: 0.000104  loss: 25.0472 (24.9567)  loss_mal: 1.0381 (1.0632)  loss_bbox: 0.2128 (0.2175)  loss_giou: 0.4345 (0.4477)  loss_fgl: 1.2114 (1.2162)  loss_mal_aux_0: 1.0879 (1.1038)  loss_bbox_aux_0: 0.2332 (0.2466)  loss_giou_aux_0: 0.4752 (0.4927)  loss_fgl_aux_0: 1.2409 (1.2432)  loss_ddf_aux_0: 0.1570 (0.1644)  loss_mal_aux_1: 1.0732 (1.0805)  loss_bbox_aux_1: 0.2152 (0.2187)  loss_giou_aux_1: 0.4357 (0.4501)  loss_fgl_aux_1: 1.2142 (1.2183)  loss_ddf_aux_1: 0.0118 (0.0121)  loss_mal_pre: 1.0830 (1.1012)  loss_bbox_pre: 0.2339 (0.2446)  loss_giou_pre: 0.4736 (0.4892)  loss_mal_enc_0: 1.2061 (1.2148)  loss_bbox_enc_0: 0.3039 (0.3291)  loss_giou_enc_0: 0.5914 (0.6018)  loss_mal_dn_0: 0.7837 (0.7779)  loss_bbox_dn_0: 0.4300 (0.4417)  loss_giou_dn_0: 0.8161 (0.8195)  loss_fgl_dn_0: 1.1616 (1.1654)  loss_ddf_dn_0: 0.6988 (0.7016)  loss_mal_dn_1: 0.7881 (0.7915)  loss_bbox_dn_1: 0.3252 (0.3452)  loss_giou_dn_1: 0.6356 (0.6375)  loss_fgl_dn_1: 1.1589 (1.1569)  loss_ddf_dn_1: 0.0753 (0.0760)  loss_mal_dn_2: 0.7832 (0.7831)  loss_bbox_dn_2: 0.3076 (0.3168)  loss_giou_dn_2: 0.5872 (0.5895)  loss_fgl_dn_2: 1.1589 (1.1578)  loss_mal_dn_pre: 0.7822 (0.7781)  loss_bbox_dn_pre: 0.4351 (0.4454)  loss_giou_dn_pre: 0.8147 (0.8171)  time: 0.4559  data: 0.0894  max mem: 10586\n",
      "Epoch: [95] Total time: 0:00:06 (0.4594 s / it)\n",
      "Averaged stats: lr: 0.000104  loss: 25.0472 (24.9567)  loss_mal: 1.0381 (1.0632)  loss_bbox: 0.2128 (0.2175)  loss_giou: 0.4345 (0.4477)  loss_fgl: 1.2114 (1.2162)  loss_mal_aux_0: 1.0879 (1.1038)  loss_bbox_aux_0: 0.2332 (0.2466)  loss_giou_aux_0: 0.4752 (0.4927)  loss_fgl_aux_0: 1.2409 (1.2432)  loss_ddf_aux_0: 0.1570 (0.1644)  loss_mal_aux_1: 1.0732 (1.0805)  loss_bbox_aux_1: 0.2152 (0.2187)  loss_giou_aux_1: 0.4357 (0.4501)  loss_fgl_aux_1: 1.2142 (1.2183)  loss_ddf_aux_1: 0.0118 (0.0121)  loss_mal_pre: 1.0830 (1.1012)  loss_bbox_pre: 0.2339 (0.2446)  loss_giou_pre: 0.4736 (0.4892)  loss_mal_enc_0: 1.2061 (1.2148)  loss_bbox_enc_0: 0.3039 (0.3291)  loss_giou_enc_0: 0.5914 (0.6018)  loss_mal_dn_0: 0.7837 (0.7779)  loss_bbox_dn_0: 0.4300 (0.4417)  loss_giou_dn_0: 0.8161 (0.8195)  loss_fgl_dn_0: 1.1616 (1.1654)  loss_ddf_dn_0: 0.6988 (0.7016)  loss_mal_dn_1: 0.7881 (0.7915)  loss_bbox_dn_1: 0.3252 (0.3452)  loss_giou_dn_1: 0.6356 (0.6375)  loss_fgl_dn_1: 1.1589 (1.1569)  loss_ddf_dn_1: 0.0753 (0.0760)  loss_mal_dn_2: 0.7832 (0.7831)  loss_bbox_dn_2: 0.3076 (0.3168)  loss_giou_dn_2: 0.5872 (0.5895)  loss_fgl_dn_2: 1.1589 (1.1578)  loss_mal_dn_pre: 0.7822 (0.7781)  loss_bbox_dn_pre: 0.4351 (0.4454)  loss_giou_dn_pre: 0.8147 (0.8171)\n"
     ]
    },
    {
     "name": "stderr",
     "output_type": "stream",
     "text": [
      "2025-03-10 15:06:18,628 - DEIMTrainer - INFO - Checkpoint saved to outputs/deim_hgnetv2_s_coco/checkpoint0095.pth\n",
      "2025-03-10 15:06:18,630 - DEIMTrainer - INFO - Evaluating model...\n"
     ]
    },
    {
     "name": "stdout",
     "output_type": "stream",
     "text": [
      "Test:  [0/5]  eta: 0:00:03    time: 0.7334  data: 0.6212  max mem: 10586\n"
     ]
    },
    {
     "name": "stderr",
     "output_type": "stream",
     "text": [
      "2025-03-10 15:06:19,885 - DEIMTrainer - INFO - Saving checkpoint to outputs/deim_hgnetv2_s_coco/best.pth\n"
     ]
    },
    {
     "name": "stdout",
     "output_type": "stream",
     "text": [
      "Test:  [4/5]  eta: 0:00:00    time: 0.2358  data: 0.1360  max mem: 10586\n",
      "Test: Total time: 0:00:01 (0.2453 s / it)\n",
      "Averaged stats: \n",
      "Accumulating evaluation results...\n",
      "COCOeval_opt.accumulate() finished...\n",
      "DONE (t=0.02s).\n",
      "IoU metric: bbox\n",
      " Average Precision  (AP) @[ IoU=0.50:0.95 | area=   all | maxDets=100 ] = 0.559\n",
      " Average Precision  (AP) @[ IoU=0.50      | area=   all | maxDets=100 ] = 0.812\n",
      " Average Precision  (AP) @[ IoU=0.75      | area=   all | maxDets=100 ] = 0.632\n",
      " Average Precision  (AP) @[ IoU=0.50:0.95 | area= small | maxDets=100 ] = 0.371\n",
      " Average Precision  (AP) @[ IoU=0.50:0.95 | area=medium | maxDets=100 ] = 0.596\n",
      " Average Precision  (AP) @[ IoU=0.50:0.95 | area= large | maxDets=100 ] = 0.434\n",
      " Average Recall     (AR) @[ IoU=0.50:0.95 | area=   all | maxDets=  1 ] = 0.400\n",
      " Average Recall     (AR) @[ IoU=0.50:0.95 | area=   all | maxDets= 10 ] = 0.657\n",
      " Average Recall     (AR) @[ IoU=0.50:0.95 | area=   all | maxDets=100 ] = 0.774\n",
      " Average Recall     (AR) @[ IoU=0.50:0.95 | area= small | maxDets=100 ] = 0.580\n",
      " Average Recall     (AR) @[ IoU=0.50:0.95 | area=medium | maxDets=100 ] = 0.773\n",
      " Average Recall     (AR) @[ IoU=0.50:0.95 | area= large | maxDets=100 ] = 0.815\n",
      " Average Recall     (AR) @[ IoU=0.50      | area=   all | maxDets=100 ] = 0.995\n",
      " Average Recall     (AR) @[ IoU=0.75      | area=   all | maxDets=100 ] = 0.920\n",
      "================================================\n",
      "{'coco_eval_bbox': [0.5592230816812973, 0.8116591258342831, 0.6318317449672093, 0.3712205931183309, 0.5964256587310302, 0.4343927800074956, 0.4000739027054816, 0.6569390891759314, 0.7741693978536084, 0.5800000000000001, 0.7734821428571429, 0.8152309938059731]}\n",
      "================================================\n"
     ]
    },
    {
     "name": "stderr",
     "output_type": "stream",
     "text": [
      "2025-03-10 15:06:20,398 - DEIMTrainer - INFO - Checkpoint saved to outputs/deim_hgnetv2_s_coco/best.pth\n",
      "2025-03-10 15:06:20,400 - DEIMTrainer - INFO - Epoch 95 - Train loss: 24.9567, Eval mAP: 0.5592\n",
      "2025-03-10 15:06:20,401 - DEIMTrainer - INFO - Best stats: {'epoch': 95, 'coco_eval_bbox': 0.5592230816812973}\n"
     ]
    },
    {
     "name": "stdout",
     "output_type": "stream",
     "text": [
      "Epoch: [96]  [ 0/15]  eta: 0:00:23  lr: 0.000104  loss: 25.8000 (25.8000)  loss_mal: 1.1738 (1.1738)  loss_bbox: 0.2721 (0.2721)  loss_giou: 0.4938 (0.4938)  loss_fgl: 1.2154 (1.2154)  loss_mal_aux_0: 1.2158 (1.2158)  loss_bbox_aux_0: 0.2916 (0.2916)  loss_giou_aux_0: 0.5415 (0.5415)  loss_fgl_aux_0: 1.2345 (1.2345)  loss_ddf_aux_0: 0.1430 (0.1430)  loss_mal_aux_1: 1.1055 (1.1055)  loss_bbox_aux_1: 0.2710 (0.2710)  loss_giou_aux_1: 0.4949 (0.4949)  loss_fgl_aux_1: 1.2179 (1.2179)  loss_ddf_aux_1: 0.0110 (0.0110)  loss_mal_pre: 1.2158 (1.2158)  loss_bbox_pre: 0.2915 (0.2915)  loss_giou_pre: 0.5407 (0.5407)  loss_mal_enc_0: 1.1846 (1.1846)  loss_bbox_enc_0: 0.3811 (0.3811)  loss_giou_enc_0: 0.6564 (0.6564)  loss_mal_dn_0: 0.7778 (0.7778)  loss_bbox_dn_0: 0.4501 (0.4501)  loss_giou_dn_0: 0.8587 (0.8587)  loss_fgl_dn_0: 1.1422 (1.1422)  loss_ddf_dn_0: 0.5956 (0.5956)  loss_mal_dn_1: 0.7852 (0.7852)  loss_bbox_dn_1: 0.3628 (0.3628)  loss_giou_dn_1: 0.6769 (0.6769)  loss_fgl_dn_1: 1.1406 (1.1406)  loss_ddf_dn_1: 0.0639 (0.0639)  loss_mal_dn_2: 0.7910 (0.7910)  loss_bbox_dn_2: 0.3399 (0.3399)  loss_giou_dn_2: 0.6322 (0.6322)  loss_fgl_dn_2: 1.1426 (1.1426)  loss_mal_dn_pre: 0.7769 (0.7769)  loss_bbox_dn_pre: 0.4525 (0.4525)  loss_giou_dn_pre: 0.8591 (0.8591)  time: 1.5868  data: 1.1648  max mem: 10586\n"
     ]
    },
    {
     "name": "stderr",
     "output_type": "stream",
     "text": [
      "2025-03-10 15:06:27,363 - DEIMTrainer - INFO - Evaluating model...\n"
     ]
    },
    {
     "name": "stdout",
     "output_type": "stream",
     "text": [
      "Epoch: [96]  [14/15]  eta: 0:00:00  lr: 0.000106  loss: 24.4550 (24.5544)  loss_mal: 1.0557 (1.0751)  loss_bbox: 0.2076 (0.2125)  loss_giou: 0.4327 (0.4304)  loss_fgl: 1.2170 (1.2150)  loss_mal_aux_0: 1.0615 (1.0892)  loss_bbox_aux_0: 0.2286 (0.2337)  loss_giou_aux_0: 0.4686 (0.4655)  loss_fgl_aux_0: 1.2367 (1.2401)  loss_ddf_aux_0: 0.1543 (0.1507)  loss_mal_aux_1: 1.0537 (1.0675)  loss_bbox_aux_1: 0.2064 (0.2140)  loss_giou_aux_1: 0.4333 (0.4327)  loss_fgl_aux_1: 1.2206 (1.2174)  loss_ddf_aux_1: 0.0112 (0.0113)  loss_mal_pre: 1.0625 (1.0881)  loss_bbox_pre: 0.2267 (0.2331)  loss_giou_pre: 0.4678 (0.4639)  loss_mal_enc_0: 1.1865 (1.1803)  loss_bbox_enc_0: 0.3093 (0.3154)  loss_giou_enc_0: 0.5752 (0.5726)  loss_mal_dn_0: 0.7808 (0.7825)  loss_bbox_dn_0: 0.4135 (0.4118)  loss_giou_dn_0: 0.7874 (0.7925)  loss_fgl_dn_0: 1.1791 (1.1745)  loss_ddf_dn_0: 0.7431 (0.7547)  loss_mal_dn_1: 0.7905 (0.7898)  loss_bbox_dn_1: 0.3140 (0.3190)  loss_giou_dn_1: 0.5975 (0.6071)  loss_fgl_dn_1: 1.1506 (1.1555)  loss_ddf_dn_1: 0.0794 (0.0817)  loss_mal_dn_2: 0.7769 (0.7799)  loss_bbox_dn_2: 0.2828 (0.2941)  loss_giou_dn_2: 0.5600 (0.5609)  loss_fgl_dn_2: 1.1484 (1.1540)  loss_mal_dn_pre: 0.7808 (0.7832)  loss_bbox_dn_pre: 0.4149 (0.4150)  loss_giou_dn_pre: 0.7861 (0.7899)  time: 0.4589  data: 0.0949  max mem: 10586\n",
      "Epoch: [96] Total time: 0:00:06 (0.4626 s / it)\n",
      "Averaged stats: lr: 0.000106  loss: 24.4550 (24.5544)  loss_mal: 1.0557 (1.0751)  loss_bbox: 0.2076 (0.2125)  loss_giou: 0.4327 (0.4304)  loss_fgl: 1.2170 (1.2150)  loss_mal_aux_0: 1.0615 (1.0892)  loss_bbox_aux_0: 0.2286 (0.2337)  loss_giou_aux_0: 0.4686 (0.4655)  loss_fgl_aux_0: 1.2367 (1.2401)  loss_ddf_aux_0: 0.1543 (0.1507)  loss_mal_aux_1: 1.0537 (1.0675)  loss_bbox_aux_1: 0.2064 (0.2140)  loss_giou_aux_1: 0.4333 (0.4327)  loss_fgl_aux_1: 1.2206 (1.2174)  loss_ddf_aux_1: 0.0112 (0.0113)  loss_mal_pre: 1.0625 (1.0881)  loss_bbox_pre: 0.2267 (0.2331)  loss_giou_pre: 0.4678 (0.4639)  loss_mal_enc_0: 1.1865 (1.1803)  loss_bbox_enc_0: 0.3093 (0.3154)  loss_giou_enc_0: 0.5752 (0.5726)  loss_mal_dn_0: 0.7808 (0.7825)  loss_bbox_dn_0: 0.4135 (0.4118)  loss_giou_dn_0: 0.7874 (0.7925)  loss_fgl_dn_0: 1.1791 (1.1745)  loss_ddf_dn_0: 0.7431 (0.7547)  loss_mal_dn_1: 0.7905 (0.7898)  loss_bbox_dn_1: 0.3140 (0.3190)  loss_giou_dn_1: 0.5975 (0.6071)  loss_fgl_dn_1: 1.1506 (1.1555)  loss_ddf_dn_1: 0.0794 (0.0817)  loss_mal_dn_2: 0.7769 (0.7799)  loss_bbox_dn_2: 0.2828 (0.2941)  loss_giou_dn_2: 0.5600 (0.5609)  loss_fgl_dn_2: 1.1484 (1.1540)  loss_mal_dn_pre: 0.7808 (0.7832)  loss_bbox_dn_pre: 0.4149 (0.4150)  loss_giou_dn_pre: 0.7861 (0.7899)\n",
      "Test:  [0/5]  eta: 0:00:03    time: 0.7370  data: 0.6249  max mem: 10586\n"
     ]
    },
    {
     "name": "stderr",
     "output_type": "stream",
     "text": [
      "2025-03-10 15:06:28,674 - DEIMTrainer - INFO - Saving checkpoint to outputs/deim_hgnetv2_s_coco/best.pth\n"
     ]
    },
    {
     "name": "stdout",
     "output_type": "stream",
     "text": [
      "Test:  [4/5]  eta: 0:00:00    time: 0.2444  data: 0.1418  max mem: 10586\n",
      "Test: Total time: 0:00:01 (0.2561 s / it)\n",
      "Averaged stats: \n",
      "Accumulating evaluation results...\n",
      "COCOeval_opt.accumulate() finished...\n",
      "DONE (t=0.02s).\n",
      "IoU metric: bbox\n",
      " Average Precision  (AP) @[ IoU=0.50:0.95 | area=   all | maxDets=100 ] = 0.563\n",
      " Average Precision  (AP) @[ IoU=0.50      | area=   all | maxDets=100 ] = 0.819\n",
      " Average Precision  (AP) @[ IoU=0.75      | area=   all | maxDets=100 ] = 0.678\n",
      " Average Precision  (AP) @[ IoU=0.50:0.95 | area= small | maxDets=100 ] = 0.336\n",
      " Average Precision  (AP) @[ IoU=0.50:0.95 | area=medium | maxDets=100 ] = 0.553\n",
      " Average Precision  (AP) @[ IoU=0.50:0.95 | area= large | maxDets=100 ] = 0.437\n",
      " Average Recall     (AR) @[ IoU=0.50:0.95 | area=   all | maxDets=  1 ] = 0.399\n",
      " Average Recall     (AR) @[ IoU=0.50:0.95 | area=   all | maxDets= 10 ] = 0.654\n",
      " Average Recall     (AR) @[ IoU=0.50:0.95 | area=   all | maxDets=100 ] = 0.766\n",
      " Average Recall     (AR) @[ IoU=0.50:0.95 | area= small | maxDets=100 ] = 0.620\n",
      " Average Recall     (AR) @[ IoU=0.50:0.95 | area=medium | maxDets=100 ] = 0.743\n",
      " Average Recall     (AR) @[ IoU=0.50:0.95 | area= large | maxDets=100 ] = 0.542\n",
      " Average Recall     (AR) @[ IoU=0.50      | area=   all | maxDets=100 ] = 0.990\n",
      " Average Recall     (AR) @[ IoU=0.75      | area=   all | maxDets=100 ] = 0.908\n",
      "================================================\n",
      "{'coco_eval_bbox': [0.5626567246635868, 0.8193440311626612, 0.677607895549674, 0.335977231892213, 0.5527487327653616, 0.4373846956281457, 0.39893697920013704, 0.6542922477133003, 0.7655356339566864, 0.62, 0.742559523809524, 0.5417887718467669]}\n",
      "================================================\n"
     ]
    },
    {
     "name": "stderr",
     "output_type": "stream",
     "text": [
      "2025-03-10 15:06:28,992 - DEIMTrainer - INFO - Checkpoint saved to outputs/deim_hgnetv2_s_coco/best.pth\n",
      "2025-03-10 15:06:28,995 - DEIMTrainer - INFO - Epoch 96 - Train loss: 24.5544, Eval mAP: 0.5627\n",
      "2025-03-10 15:06:28,996 - DEIMTrainer - INFO - Best stats: {'epoch': 96, 'coco_eval_bbox': 0.5626567246635868}\n"
     ]
    },
    {
     "name": "stdout",
     "output_type": "stream",
     "text": [
      "Epoch: [97]  [ 0/15]  eta: 0:00:26  lr: 0.000106  loss: 25.7749 (25.7749)  loss_mal: 1.0752 (1.0752)  loss_bbox: 0.2941 (0.2941)  loss_giou: 0.4725 (0.4725)  loss_fgl: 1.2214 (1.2214)  loss_mal_aux_0: 1.0732 (1.0732)  loss_bbox_aux_0: 0.3158 (0.3158)  loss_giou_aux_0: 0.5209 (0.5209)  loss_fgl_aux_0: 1.2494 (1.2494)  loss_ddf_aux_0: 0.1455 (0.1455)  loss_mal_aux_1: 1.0703 (1.0703)  loss_bbox_aux_1: 0.2977 (0.2977)  loss_giou_aux_1: 0.4794 (0.4794)  loss_fgl_aux_1: 1.2275 (1.2275)  loss_ddf_aux_1: 0.0125 (0.0125)  loss_mal_pre: 1.0703 (1.0703)  loss_bbox_pre: 0.3154 (0.3154)  loss_giou_pre: 0.5209 (0.5209)  loss_mal_enc_0: 1.0508 (1.0508)  loss_bbox_enc_0: 0.4661 (0.4661)  loss_giou_enc_0: 0.7486 (0.7486)  loss_mal_dn_0: 0.7700 (0.7700)  loss_bbox_dn_0: 0.4987 (0.4987)  loss_giou_dn_0: 0.8278 (0.8278)  loss_fgl_dn_0: 1.1538 (1.1538)  loss_ddf_dn_0: 0.8317 (0.8317)  loss_mal_dn_1: 0.7798 (0.7798)  loss_bbox_dn_1: 0.3911 (0.3911)  loss_giou_dn_1: 0.6421 (0.6421)  loss_fgl_dn_1: 1.1602 (1.1602)  loss_ddf_dn_1: 0.0873 (0.0873)  loss_mal_dn_2: 0.7798 (0.7798)  loss_bbox_dn_2: 0.3624 (0.3624)  loss_giou_dn_2: 0.5893 (0.5893)  loss_fgl_dn_2: 1.1606 (1.1606)  loss_mal_dn_pre: 0.7700 (0.7700)  loss_bbox_dn_pre: 0.5091 (0.5091)  loss_giou_dn_pre: 0.8334 (0.8334)  time: 1.7551  data: 1.3911  max mem: 10586\n"
     ]
    },
    {
     "name": "stderr",
     "output_type": "stream",
     "text": [
      "2025-03-10 15:06:36,159 - DEIMTrainer - INFO - Evaluating model...\n"
     ]
    },
    {
     "name": "stdout",
     "output_type": "stream",
     "text": [
      "Epoch: [97]  [14/15]  eta: 0:00:00  lr: 0.000108  loss: 24.6888 (24.7976)  loss_mal: 1.0264 (1.0579)  loss_bbox: 0.2202 (0.2228)  loss_giou: 0.4244 (0.4304)  loss_fgl: 1.2081 (1.2121)  loss_mal_aux_0: 1.0732 (1.0885)  loss_bbox_aux_0: 0.2490 (0.2491)  loss_giou_aux_0: 0.4674 (0.4734)  loss_fgl_aux_0: 1.2420 (1.2411)  loss_ddf_aux_0: 0.1590 (0.1621)  loss_mal_aux_1: 1.0703 (1.0931)  loss_bbox_aux_1: 0.2233 (0.2253)  loss_giou_aux_1: 0.4273 (0.4344)  loss_fgl_aux_1: 1.2145 (1.2154)  loss_ddf_aux_1: 0.0121 (0.0119)  loss_mal_pre: 1.0703 (1.0868)  loss_bbox_pre: 0.2458 (0.2477)  loss_giou_pre: 0.4633 (0.4712)  loss_mal_enc_0: 1.2158 (1.2027)  loss_bbox_enc_0: 0.3226 (0.3316)  loss_giou_enc_0: 0.5753 (0.5828)  loss_mal_dn_0: 0.7788 (0.7813)  loss_bbox_dn_0: 0.4411 (0.4395)  loss_giou_dn_0: 0.7982 (0.7990)  loss_fgl_dn_0: 1.1747 (1.1720)  loss_ddf_dn_0: 0.7498 (0.7546)  loss_mal_dn_1: 0.7871 (0.7887)  loss_bbox_dn_1: 0.3424 (0.3389)  loss_giou_dn_1: 0.6148 (0.6145)  loss_fgl_dn_1: 1.1582 (1.1544)  loss_ddf_dn_1: 0.0783 (0.0805)  loss_mal_dn_2: 0.7773 (0.7785)  loss_bbox_dn_2: 0.3169 (0.3128)  loss_giou_dn_2: 0.5744 (0.5677)  loss_fgl_dn_2: 1.1592 (1.1541)  loss_mal_dn_pre: 0.7793 (0.7815)  loss_bbox_dn_pre: 0.4435 (0.4430)  loss_giou_dn_pre: 0.7977 (0.7960)  time: 0.4715  data: 0.1122  max mem: 10586\n",
      "Epoch: [97] Total time: 0:00:07 (0.4763 s / it)\n",
      "Averaged stats: lr: 0.000108  loss: 24.6888 (24.7976)  loss_mal: 1.0264 (1.0579)  loss_bbox: 0.2202 (0.2228)  loss_giou: 0.4244 (0.4304)  loss_fgl: 1.2081 (1.2121)  loss_mal_aux_0: 1.0732 (1.0885)  loss_bbox_aux_0: 0.2490 (0.2491)  loss_giou_aux_0: 0.4674 (0.4734)  loss_fgl_aux_0: 1.2420 (1.2411)  loss_ddf_aux_0: 0.1590 (0.1621)  loss_mal_aux_1: 1.0703 (1.0931)  loss_bbox_aux_1: 0.2233 (0.2253)  loss_giou_aux_1: 0.4273 (0.4344)  loss_fgl_aux_1: 1.2145 (1.2154)  loss_ddf_aux_1: 0.0121 (0.0119)  loss_mal_pre: 1.0703 (1.0868)  loss_bbox_pre: 0.2458 (0.2477)  loss_giou_pre: 0.4633 (0.4712)  loss_mal_enc_0: 1.2158 (1.2027)  loss_bbox_enc_0: 0.3226 (0.3316)  loss_giou_enc_0: 0.5753 (0.5828)  loss_mal_dn_0: 0.7788 (0.7813)  loss_bbox_dn_0: 0.4411 (0.4395)  loss_giou_dn_0: 0.7982 (0.7990)  loss_fgl_dn_0: 1.1747 (1.1720)  loss_ddf_dn_0: 0.7498 (0.7546)  loss_mal_dn_1: 0.7871 (0.7887)  loss_bbox_dn_1: 0.3424 (0.3389)  loss_giou_dn_1: 0.6148 (0.6145)  loss_fgl_dn_1: 1.1582 (1.1544)  loss_ddf_dn_1: 0.0783 (0.0805)  loss_mal_dn_2: 0.7773 (0.7785)  loss_bbox_dn_2: 0.3169 (0.3128)  loss_giou_dn_2: 0.5744 (0.5677)  loss_fgl_dn_2: 1.1592 (1.1541)  loss_mal_dn_pre: 0.7793 (0.7815)  loss_bbox_dn_pre: 0.4435 (0.4430)  loss_giou_dn_pre: 0.7977 (0.7960)\n",
      "Test:  [0/5]  eta: 0:00:03    time: 0.7021  data: 0.5848  max mem: 10586\n"
     ]
    },
    {
     "name": "stderr",
     "output_type": "stream",
     "text": [
      "2025-03-10 15:06:37,424 - DEIMTrainer - INFO - Epoch 97 - Train loss: 24.7976, Eval mAP: 0.5616\n",
      "2025-03-10 15:06:37,424 - DEIMTrainer - INFO - Best stats: {'epoch': 96, 'coco_eval_bbox': 0.5626567246635868}\n"
     ]
    },
    {
     "name": "stdout",
     "output_type": "stream",
     "text": [
      "Test:  [4/5]  eta: 0:00:00    time: 0.2350  data: 0.1323  max mem: 10586\n",
      "Test: Total time: 0:00:01 (0.2465 s / it)\n",
      "Averaged stats: \n",
      "Accumulating evaluation results...\n",
      "COCOeval_opt.accumulate() finished...\n",
      "DONE (t=0.02s).\n",
      "IoU metric: bbox\n",
      " Average Precision  (AP) @[ IoU=0.50:0.95 | area=   all | maxDets=100 ] = 0.562\n",
      " Average Precision  (AP) @[ IoU=0.50      | area=   all | maxDets=100 ] = 0.828\n",
      " Average Precision  (AP) @[ IoU=0.75      | area=   all | maxDets=100 ] = 0.635\n",
      " Average Precision  (AP) @[ IoU=0.50:0.95 | area= small | maxDets=100 ] = 0.414\n",
      " Average Precision  (AP) @[ IoU=0.50:0.95 | area=medium | maxDets=100 ] = 0.593\n",
      " Average Precision  (AP) @[ IoU=0.50:0.95 | area= large | maxDets=100 ] = 0.442\n",
      " Average Recall     (AR) @[ IoU=0.50:0.95 | area=   all | maxDets=  1 ] = 0.392\n",
      " Average Recall     (AR) @[ IoU=0.50:0.95 | area=   all | maxDets= 10 ] = 0.645\n",
      " Average Recall     (AR) @[ IoU=0.50:0.95 | area=   all | maxDets=100 ] = 0.765\n",
      " Average Recall     (AR) @[ IoU=0.50:0.95 | area= small | maxDets=100 ] = 0.600\n",
      " Average Recall     (AR) @[ IoU=0.50:0.95 | area=medium | maxDets=100 ] = 0.769\n",
      " Average Recall     (AR) @[ IoU=0.50:0.95 | area= large | maxDets=100 ] = 0.774\n",
      " Average Recall     (AR) @[ IoU=0.50      | area=   all | maxDets=100 ] = 0.998\n",
      " Average Recall     (AR) @[ IoU=0.75      | area=   all | maxDets=100 ] = 0.903\n",
      "================================================\n",
      "{'coco_eval_bbox': [0.561574690045975, 0.8276509426368049, 0.6351569691726328, 0.414351423795699, 0.592622233441981, 0.4416582513443817, 0.3923810594863227, 0.645400359874044, 0.764510100036416, 0.6000000000000001, 0.7689285714285715, 0.7742738785655108]}\n",
      "================================================\n",
      "Epoch: [98]  [ 0/15]  eta: 0:00:23  lr: 0.000108  loss: 24.7961 (24.7961)  loss_mal: 1.0000 (1.0000)  loss_bbox: 0.2685 (0.2685)  loss_giou: 0.3831 (0.3831)  loss_fgl: 1.2312 (1.2312)  loss_mal_aux_0: 1.1562 (1.1562)  loss_bbox_aux_0: 0.3022 (0.3022)  loss_giou_aux_0: 0.4260 (0.4260)  loss_fgl_aux_0: 1.2546 (1.2546)  loss_ddf_aux_0: 0.1635 (0.1635)  loss_mal_aux_1: 1.0527 (1.0527)  loss_bbox_aux_1: 0.2687 (0.2687)  loss_giou_aux_1: 0.3888 (0.3888)  loss_fgl_aux_1: 1.2331 (1.2331)  loss_ddf_aux_1: 0.0113 (0.0113)  loss_mal_pre: 1.1592 (1.1592)  loss_bbox_pre: 0.3035 (0.3035)  loss_giou_pre: 0.4254 (0.4254)  loss_mal_enc_0: 1.2080 (1.2080)  loss_bbox_enc_0: 0.4033 (0.4033)  loss_giou_enc_0: 0.5143 (0.5143)  loss_mal_dn_0: 0.7822 (0.7822)  loss_bbox_dn_0: 0.4872 (0.4872)  loss_giou_dn_0: 0.7387 (0.7387)  loss_fgl_dn_0: 1.1972 (1.1972)  loss_ddf_dn_0: 0.6644 (0.6644)  loss_mal_dn_1: 0.7886 (0.7886)  loss_bbox_dn_1: 0.3687 (0.3687)  loss_giou_dn_1: 0.5463 (0.5463)  loss_fgl_dn_1: 1.1896 (1.1896)  loss_ddf_dn_1: 0.0662 (0.0662)  loss_mal_dn_2: 0.7598 (0.7598)  loss_bbox_dn_2: 0.3465 (0.3465)  loss_giou_dn_2: 0.5125 (0.5125)  loss_fgl_dn_2: 1.1921 (1.1921)  loss_mal_dn_pre: 0.7812 (0.7812)  loss_bbox_dn_pre: 0.4860 (0.4860)  loss_giou_dn_pre: 0.7352 (0.7352)  time: 1.5457  data: 0.9921  max mem: 10586\n"
     ]
    },
    {
     "name": "stderr",
     "output_type": "stream",
     "text": [
      "2025-03-10 15:06:44,456 - DEIMTrainer - INFO - Evaluating model...\n"
     ]
    },
    {
     "name": "stdout",
     "output_type": "stream",
     "text": [
      "Epoch: [98]  [14/15]  eta: 0:00:00  lr: 0.000110  loss: 24.7371 (24.7190)  loss_mal: 1.0146 (1.0430)  loss_bbox: 0.2194 (0.2192)  loss_giou: 0.4420 (0.4381)  loss_fgl: 1.2179 (1.2152)  loss_mal_aux_0: 1.0674 (1.0818)  loss_bbox_aux_0: 0.2420 (0.2446)  loss_giou_aux_0: 0.4720 (0.4779)  loss_fgl_aux_0: 1.2414 (1.2426)  loss_ddf_aux_0: 0.1469 (0.1528)  loss_mal_aux_1: 1.0420 (1.0496)  loss_bbox_aux_1: 0.2195 (0.2209)  loss_giou_aux_1: 0.4432 (0.4409)  loss_fgl_aux_1: 1.2191 (1.2172)  loss_ddf_aux_1: 0.0100 (0.0104)  loss_mal_pre: 1.0664 (1.0826)  loss_bbox_pre: 0.2402 (0.2432)  loss_giou_pre: 0.4674 (0.4762)  loss_mal_enc_0: 1.1816 (1.1963)  loss_bbox_enc_0: 0.3053 (0.3314)  loss_giou_enc_0: 0.5821 (0.5936)  loss_mal_dn_0: 0.7793 (0.7817)  loss_bbox_dn_0: 0.4320 (0.4342)  loss_giou_dn_0: 0.7954 (0.7991)  loss_fgl_dn_0: 1.1717 (1.1721)  loss_ddf_dn_0: 0.7483 (0.7610)  loss_mal_dn_1: 0.7905 (0.7896)  loss_bbox_dn_1: 0.3373 (0.3361)  loss_giou_dn_1: 0.6020 (0.6103)  loss_fgl_dn_1: 1.1476 (1.1531)  loss_ddf_dn_1: 0.0767 (0.0777)  loss_mal_dn_2: 0.7852 (0.7806)  loss_bbox_dn_2: 0.3038 (0.3086)  loss_giou_dn_2: 0.5557 (0.5664)  loss_fgl_dn_2: 1.1480 (1.1543)  loss_mal_dn_pre: 0.7788 (0.7803)  loss_bbox_dn_pre: 0.4334 (0.4366)  loss_giou_dn_pre: 0.7917 (0.7997)  time: 0.4628  data: 0.0866  max mem: 10586\n",
      "Epoch: [98] Total time: 0:00:07 (0.4676 s / it)\n",
      "Averaged stats: lr: 0.000110  loss: 24.7371 (24.7190)  loss_mal: 1.0146 (1.0430)  loss_bbox: 0.2194 (0.2192)  loss_giou: 0.4420 (0.4381)  loss_fgl: 1.2179 (1.2152)  loss_mal_aux_0: 1.0674 (1.0818)  loss_bbox_aux_0: 0.2420 (0.2446)  loss_giou_aux_0: 0.4720 (0.4779)  loss_fgl_aux_0: 1.2414 (1.2426)  loss_ddf_aux_0: 0.1469 (0.1528)  loss_mal_aux_1: 1.0420 (1.0496)  loss_bbox_aux_1: 0.2195 (0.2209)  loss_giou_aux_1: 0.4432 (0.4409)  loss_fgl_aux_1: 1.2191 (1.2172)  loss_ddf_aux_1: 0.0100 (0.0104)  loss_mal_pre: 1.0664 (1.0826)  loss_bbox_pre: 0.2402 (0.2432)  loss_giou_pre: 0.4674 (0.4762)  loss_mal_enc_0: 1.1816 (1.1963)  loss_bbox_enc_0: 0.3053 (0.3314)  loss_giou_enc_0: 0.5821 (0.5936)  loss_mal_dn_0: 0.7793 (0.7817)  loss_bbox_dn_0: 0.4320 (0.4342)  loss_giou_dn_0: 0.7954 (0.7991)  loss_fgl_dn_0: 1.1717 (1.1721)  loss_ddf_dn_0: 0.7483 (0.7610)  loss_mal_dn_1: 0.7905 (0.7896)  loss_bbox_dn_1: 0.3373 (0.3361)  loss_giou_dn_1: 0.6020 (0.6103)  loss_fgl_dn_1: 1.1476 (1.1531)  loss_ddf_dn_1: 0.0767 (0.0777)  loss_mal_dn_2: 0.7852 (0.7806)  loss_bbox_dn_2: 0.3038 (0.3086)  loss_giou_dn_2: 0.5557 (0.5664)  loss_fgl_dn_2: 1.1480 (1.1543)  loss_mal_dn_pre: 0.7788 (0.7803)  loss_bbox_dn_pre: 0.4334 (0.4366)  loss_giou_dn_pre: 0.7917 (0.7997)\n",
      "Test:  [0/5]  eta: 0:00:03    time: 0.7122  data: 0.6051  max mem: 10586\n"
     ]
    },
    {
     "name": "stderr",
     "output_type": "stream",
     "text": [
      "2025-03-10 15:06:45,697 - DEIMTrainer - INFO - Epoch 98 - Train loss: 24.7190, Eval mAP: 0.5572\n",
      "2025-03-10 15:06:45,698 - DEIMTrainer - INFO - Best stats: {'epoch': 96, 'coco_eval_bbox': 0.5626567246635868}\n"
     ]
    },
    {
     "name": "stdout",
     "output_type": "stream",
     "text": [
      "Test:  [4/5]  eta: 0:00:00    time: 0.2315  data: 0.1320  max mem: 10586\n",
      "Test: Total time: 0:00:01 (0.2421 s / it)\n",
      "Averaged stats: \n",
      "Accumulating evaluation results...\n",
      "COCOeval_opt.accumulate() finished...\n",
      "DONE (t=0.02s).\n",
      "IoU metric: bbox\n",
      " Average Precision  (AP) @[ IoU=0.50:0.95 | area=   all | maxDets=100 ] = 0.557\n",
      " Average Precision  (AP) @[ IoU=0.50      | area=   all | maxDets=100 ] = 0.810\n",
      " Average Precision  (AP) @[ IoU=0.75      | area=   all | maxDets=100 ] = 0.647\n",
      " Average Precision  (AP) @[ IoU=0.50:0.95 | area= small | maxDets=100 ] = 0.337\n",
      " Average Precision  (AP) @[ IoU=0.50:0.95 | area=medium | maxDets=100 ] = 0.551\n",
      " Average Precision  (AP) @[ IoU=0.50:0.95 | area= large | maxDets=100 ] = 0.439\n",
      " Average Recall     (AR) @[ IoU=0.50:0.95 | area=   all | maxDets=  1 ] = 0.399\n",
      " Average Recall     (AR) @[ IoU=0.50:0.95 | area=   all | maxDets= 10 ] = 0.651\n",
      " Average Recall     (AR) @[ IoU=0.50:0.95 | area=   all | maxDets=100 ] = 0.768\n",
      " Average Recall     (AR) @[ IoU=0.50:0.95 | area= small | maxDets=100 ] = 0.640\n",
      " Average Recall     (AR) @[ IoU=0.50:0.95 | area=medium | maxDets=100 ] = 0.734\n",
      " Average Recall     (AR) @[ IoU=0.50:0.95 | area= large | maxDets=100 ] = 0.812\n",
      " Average Recall     (AR) @[ IoU=0.50      | area=   all | maxDets=100 ] = 0.998\n",
      " Average Recall     (AR) @[ IoU=0.75      | area=   all | maxDets=100 ] = 0.916\n",
      "================================================\n",
      "{'coco_eval_bbox': [0.5571904450686107, 0.8099547350699684, 0.6474284417189784, 0.3369591670256736, 0.5511588586790562, 0.43906025811604027, 0.3991236103078208, 0.6506943105627314, 0.7681963991174516, 0.64, 0.7342559523809523, 0.8121205665364736]}\n",
      "================================================\n",
      "Epoch: [99]  [ 0/15]  eta: 0:00:25  lr: 0.000110  loss: 24.6435 (24.6435)  loss_mal: 1.0176 (1.0176)  loss_bbox: 0.2114 (0.2114)  loss_giou: 0.4775 (0.4775)  loss_fgl: 1.2086 (1.2086)  loss_mal_aux_0: 1.0488 (1.0488)  loss_bbox_aux_0: 0.2254 (0.2254)  loss_giou_aux_0: 0.5065 (0.5065)  loss_fgl_aux_0: 1.2201 (1.2201)  loss_ddf_aux_0: 0.1526 (0.1526)  loss_mal_aux_1: 1.0859 (1.0859)  loss_bbox_aux_1: 0.2096 (0.2096)  loss_giou_aux_1: 0.4738 (0.4738)  loss_fgl_aux_1: 1.2087 (1.2087)  loss_ddf_aux_1: 0.0103 (0.0103)  loss_mal_pre: 1.0488 (1.0488)  loss_bbox_pre: 0.2254 (0.2254)  loss_giou_pre: 0.5070 (0.5070)  loss_mal_enc_0: 1.1084 (1.1084)  loss_bbox_enc_0: 0.2930 (0.2930)  loss_giou_enc_0: 0.6132 (0.6132)  loss_mal_dn_0: 0.7754 (0.7754)  loss_bbox_dn_0: 0.3826 (0.3826)  loss_giou_dn_0: 0.8047 (0.8047)  loss_fgl_dn_0: 1.1885 (1.1885)  loss_ddf_dn_0: 0.8972 (0.8972)  loss_mal_dn_1: 0.8042 (0.8042)  loss_bbox_dn_1: 0.2984 (0.2984)  loss_giou_dn_1: 0.6182 (0.6182)  loss_fgl_dn_1: 1.1741 (1.1741)  loss_ddf_dn_1: 0.0939 (0.0939)  loss_mal_dn_2: 0.7827 (0.7827)  loss_bbox_dn_2: 0.2757 (0.2757)  loss_giou_dn_2: 0.5697 (0.5697)  loss_fgl_dn_2: 1.1715 (1.1715)  loss_mal_dn_pre: 0.7754 (0.7754)  loss_bbox_dn_pre: 0.3784 (0.3784)  loss_giou_dn_pre: 0.8001 (0.8001)  time: 1.6789  data: 1.2405  max mem: 10586\n"
     ]
    },
    {
     "name": "stderr",
     "output_type": "stream",
     "text": [
      "2025-03-10 15:06:52,919 - DEIMTrainer - INFO - Saving checkpoint to outputs/deim_hgnetv2_s_coco/checkpoint0099.pth\n"
     ]
    },
    {
     "name": "stdout",
     "output_type": "stream",
     "text": [
      "Epoch: [99]  [14/15]  eta: 0:00:00  lr: 0.000112  loss: 24.4019 (24.5375)  loss_mal: 1.0146 (1.0304)  loss_bbox: 0.2109 (0.2123)  loss_giou: 0.4257 (0.4350)  loss_fgl: 1.2131 (1.2076)  loss_mal_aux_0: 1.0488 (1.0709)  loss_bbox_aux_0: 0.2254 (0.2360)  loss_giou_aux_0: 0.4780 (0.4798)  loss_fgl_aux_0: 1.2409 (1.2383)  loss_ddf_aux_0: 0.1687 (0.1701)  loss_mal_aux_1: 1.0264 (1.0522)  loss_bbox_aux_1: 0.2066 (0.2131)  loss_giou_aux_1: 0.4313 (0.4376)  loss_fgl_aux_1: 1.2168 (1.2100)  loss_ddf_aux_1: 0.0112 (0.0111)  loss_mal_pre: 1.0488 (1.0705)  loss_bbox_pre: 0.2251 (0.2346)  loss_giou_pre: 0.4727 (0.4773)  loss_mal_enc_0: 1.1621 (1.1792)  loss_bbox_enc_0: 0.3273 (0.3217)  loss_giou_enc_0: 0.6011 (0.6062)  loss_mal_dn_0: 0.7817 (0.7819)  loss_bbox_dn_0: 0.3932 (0.3974)  loss_giou_dn_0: 0.7703 (0.7809)  loss_fgl_dn_0: 1.1861 (1.1825)  loss_ddf_dn_0: 0.7935 (0.8280)  loss_mal_dn_1: 0.8037 (0.7993)  loss_bbox_dn_1: 0.2949 (0.3056)  loss_giou_dn_1: 0.5862 (0.5940)  loss_fgl_dn_1: 1.1608 (1.1612)  loss_ddf_dn_1: 0.0800 (0.0804)  loss_mal_dn_2: 0.7783 (0.7796)  loss_bbox_dn_2: 0.2733 (0.2822)  loss_giou_dn_2: 0.5429 (0.5512)  loss_fgl_dn_2: 1.1574 (1.1599)  loss_mal_dn_pre: 0.7822 (0.7817)  loss_bbox_dn_pre: 0.3951 (0.3991)  loss_giou_dn_pre: 0.7722 (0.7787)  time: 0.4765  data: 0.0952  max mem: 10586\n",
      "Epoch: [99] Total time: 0:00:07 (0.4799 s / it)\n",
      "Averaged stats: lr: 0.000112  loss: 24.4019 (24.5375)  loss_mal: 1.0146 (1.0304)  loss_bbox: 0.2109 (0.2123)  loss_giou: 0.4257 (0.4350)  loss_fgl: 1.2131 (1.2076)  loss_mal_aux_0: 1.0488 (1.0709)  loss_bbox_aux_0: 0.2254 (0.2360)  loss_giou_aux_0: 0.4780 (0.4798)  loss_fgl_aux_0: 1.2409 (1.2383)  loss_ddf_aux_0: 0.1687 (0.1701)  loss_mal_aux_1: 1.0264 (1.0522)  loss_bbox_aux_1: 0.2066 (0.2131)  loss_giou_aux_1: 0.4313 (0.4376)  loss_fgl_aux_1: 1.2168 (1.2100)  loss_ddf_aux_1: 0.0112 (0.0111)  loss_mal_pre: 1.0488 (1.0705)  loss_bbox_pre: 0.2251 (0.2346)  loss_giou_pre: 0.4727 (0.4773)  loss_mal_enc_0: 1.1621 (1.1792)  loss_bbox_enc_0: 0.3273 (0.3217)  loss_giou_enc_0: 0.6011 (0.6062)  loss_mal_dn_0: 0.7817 (0.7819)  loss_bbox_dn_0: 0.3932 (0.3974)  loss_giou_dn_0: 0.7703 (0.7809)  loss_fgl_dn_0: 1.1861 (1.1825)  loss_ddf_dn_0: 0.7935 (0.8280)  loss_mal_dn_1: 0.8037 (0.7993)  loss_bbox_dn_1: 0.2949 (0.3056)  loss_giou_dn_1: 0.5862 (0.5940)  loss_fgl_dn_1: 1.1608 (1.1612)  loss_ddf_dn_1: 0.0800 (0.0804)  loss_mal_dn_2: 0.7783 (0.7796)  loss_bbox_dn_2: 0.2733 (0.2822)  loss_giou_dn_2: 0.5429 (0.5512)  loss_fgl_dn_2: 1.1574 (1.1599)  loss_mal_dn_pre: 0.7822 (0.7817)  loss_bbox_dn_pre: 0.3951 (0.3991)  loss_giou_dn_pre: 0.7722 (0.7787)\n"
     ]
    },
    {
     "name": "stderr",
     "output_type": "stream",
     "text": [
      "2025-03-10 15:06:53,308 - DEIMTrainer - INFO - Checkpoint saved to outputs/deim_hgnetv2_s_coco/checkpoint0099.pth\n",
      "2025-03-10 15:06:53,310 - DEIMTrainer - INFO - Evaluating model...\n"
     ]
    },
    {
     "name": "stdout",
     "output_type": "stream",
     "text": [
      "Test:  [0/5]  eta: 0:00:03    time: 0.7202  data: 0.6094  max mem: 10586\n"
     ]
    },
    {
     "name": "stderr",
     "output_type": "stream",
     "text": [
      "2025-03-10 15:06:54,569 - DEIMTrainer - INFO - Saving checkpoint to outputs/deim_hgnetv2_s_coco/best.pth\n"
     ]
    },
    {
     "name": "stdout",
     "output_type": "stream",
     "text": [
      "Test:  [4/5]  eta: 0:00:00    time: 0.2343  data: 0.1339  max mem: 10586\n",
      "Test: Total time: 0:00:01 (0.2459 s / it)\n",
      "Averaged stats: \n",
      "Accumulating evaluation results...\n",
      "COCOeval_opt.accumulate() finished...\n",
      "DONE (t=0.02s).\n",
      "IoU metric: bbox\n",
      " Average Precision  (AP) @[ IoU=0.50:0.95 | area=   all | maxDets=100 ] = 0.567\n",
      " Average Precision  (AP) @[ IoU=0.50      | area=   all | maxDets=100 ] = 0.825\n",
      " Average Precision  (AP) @[ IoU=0.75      | area=   all | maxDets=100 ] = 0.658\n",
      " Average Precision  (AP) @[ IoU=0.50:0.95 | area= small | maxDets=100 ] = 0.407\n",
      " Average Precision  (AP) @[ IoU=0.50:0.95 | area=medium | maxDets=100 ] = 0.560\n",
      " Average Precision  (AP) @[ IoU=0.50:0.95 | area= large | maxDets=100 ] = 0.439\n",
      " Average Recall     (AR) @[ IoU=0.50:0.95 | area=   all | maxDets=  1 ] = 0.379\n",
      " Average Recall     (AR) @[ IoU=0.50:0.95 | area=   all | maxDets= 10 ] = 0.656\n",
      " Average Recall     (AR) @[ IoU=0.50:0.95 | area=   all | maxDets=100 ] = 0.765\n",
      " Average Recall     (AR) @[ IoU=0.50:0.95 | area= small | maxDets=100 ] = 0.620\n",
      " Average Recall     (AR) @[ IoU=0.50:0.95 | area=medium | maxDets=100 ] = 0.739\n",
      " Average Recall     (AR) @[ IoU=0.50:0.95 | area= large | maxDets=100 ] = 0.541\n",
      " Average Recall     (AR) @[ IoU=0.50      | area=   all | maxDets=100 ] = 0.994\n",
      " Average Recall     (AR) @[ IoU=0.75      | area=   all | maxDets=100 ] = 0.924\n",
      "================================================\n",
      "{'coco_eval_bbox': [0.566501691702071, 0.825170533079066, 0.6576679544145986, 0.40669209793766786, 0.5602122746976842, 0.4393092773017439, 0.37912757320652063, 0.6564825525351841, 0.7649618169355011, 0.62, 0.7394642857142858, 0.5412364382372667]}\n",
      "================================================\n"
     ]
    },
    {
     "name": "stderr",
     "output_type": "stream",
     "text": [
      "2025-03-10 15:06:54,927 - DEIMTrainer - INFO - Checkpoint saved to outputs/deim_hgnetv2_s_coco/best.pth\n",
      "2025-03-10 15:06:54,929 - DEIMTrainer - INFO - Epoch 99 - Train loss: 24.5375, Eval mAP: 0.5665\n",
      "2025-03-10 15:06:54,929 - DEIMTrainer - INFO - Best stats: {'epoch': 99, 'coco_eval_bbox': 0.566501691702071}\n"
     ]
    },
    {
     "name": "stdout",
     "output_type": "stream",
     "text": [
      "Epoch: [100]  [ 0/15]  eta: 0:00:22  lr: 0.000113  loss: 25.6769 (25.6769)  loss_mal: 1.1768 (1.1768)  loss_bbox: 0.2621 (0.2621)  loss_giou: 0.4331 (0.4331)  loss_fgl: 1.1838 (1.1838)  loss_mal_aux_0: 1.2266 (1.2266)  loss_bbox_aux_0: 0.2992 (0.2992)  loss_giou_aux_0: 0.4803 (0.4803)  loss_fgl_aux_0: 1.2153 (1.2153)  loss_ddf_aux_0: 0.1818 (0.1818)  loss_mal_aux_1: 1.1621 (1.1621)  loss_bbox_aux_1: 0.2676 (0.2676)  loss_giou_aux_1: 0.4380 (0.4380)  loss_fgl_aux_1: 1.1864 (1.1864)  loss_ddf_aux_1: 0.0116 (0.0116)  loss_mal_pre: 1.2266 (1.2266)  loss_bbox_pre: 0.2978 (0.2978)  loss_giou_pre: 0.4771 (0.4771)  loss_mal_enc_0: 1.2734 (1.2734)  loss_bbox_enc_0: 0.4055 (0.4055)  loss_giou_enc_0: 0.5923 (0.5923)  loss_mal_dn_0: 0.7710 (0.7710)  loss_bbox_dn_0: 0.5115 (0.5115)  loss_giou_dn_0: 0.7966 (0.7966)  loss_fgl_dn_0: 1.1504 (1.1504)  loss_ddf_dn_0: 0.7073 (0.7073)  loss_mal_dn_1: 0.7681 (0.7681)  loss_bbox_dn_1: 0.3952 (0.3952)  loss_giou_dn_1: 0.6239 (0.6239)  loss_fgl_dn_1: 1.1361 (1.1361)  loss_ddf_dn_1: 0.0677 (0.0677)  loss_mal_dn_2: 0.7637 (0.7637)  loss_bbox_dn_2: 0.3728 (0.3728)  loss_giou_dn_2: 0.5865 (0.5865)  loss_fgl_dn_2: 1.1401 (1.1401)  loss_mal_dn_pre: 0.7720 (0.7720)  loss_bbox_dn_pre: 0.5164 (0.5164)  loss_giou_dn_pre: 0.8006 (0.8006)  time: 1.5016  data: 0.9884  max mem: 10586\n"
     ]
    },
    {
     "name": "stderr",
     "output_type": "stream",
     "text": [
      "2025-03-10 15:07:02,007 - DEIMTrainer - INFO - Evaluating model...\n"
     ]
    },
    {
     "name": "stdout",
     "output_type": "stream",
     "text": [
      "Epoch: [100]  [14/15]  eta: 0:00:00  lr: 0.000115  loss: 24.7786 (25.1023)  loss_mal: 1.0605 (1.0715)  loss_bbox: 0.2387 (0.2426)  loss_giou: 0.4331 (0.4394)  loss_fgl: 1.2204 (1.2185)  loss_mal_aux_0: 1.0908 (1.1275)  loss_bbox_aux_0: 0.2479 (0.2665)  loss_giou_aux_0: 0.4675 (0.4822)  loss_fgl_aux_0: 1.2402 (1.2464)  loss_ddf_aux_0: 0.1522 (0.1519)  loss_mal_aux_1: 1.0742 (1.0974)  loss_bbox_aux_1: 0.2401 (0.2440)  loss_giou_aux_1: 0.4375 (0.4437)  loss_fgl_aux_1: 1.2215 (1.2217)  loss_ddf_aux_1: 0.0107 (0.0104)  loss_mal_pre: 1.0908 (1.1269)  loss_bbox_pre: 0.2469 (0.2648)  loss_giou_pre: 0.4667 (0.4788)  loss_mal_enc_0: 1.2041 (1.1865)  loss_bbox_enc_0: 0.3419 (0.3527)  loss_giou_enc_0: 0.5821 (0.5950)  loss_mal_dn_0: 0.7773 (0.7780)  loss_bbox_dn_0: 0.4690 (0.4621)  loss_giou_dn_0: 0.7858 (0.8095)  loss_fgl_dn_0: 1.1831 (1.1723)  loss_ddf_dn_0: 0.7438 (0.7613)  loss_mal_dn_1: 0.7798 (0.7820)  loss_bbox_dn_1: 0.3640 (0.3552)  loss_giou_dn_1: 0.6002 (0.6133)  loss_fgl_dn_1: 1.1526 (1.1549)  loss_ddf_dn_1: 0.0738 (0.0732)  loss_mal_dn_2: 0.7749 (0.7736)  loss_bbox_dn_2: 0.3369 (0.3291)  loss_giou_dn_2: 0.5592 (0.5678)  loss_fgl_dn_2: 1.1507 (1.1545)  loss_mal_dn_pre: 0.7759 (0.7781)  loss_bbox_dn_pre: 0.4701 (0.4631)  loss_giou_dn_pre: 0.7813 (0.8059)  time: 0.4660  data: 0.0907  max mem: 10586\n",
      "Epoch: [100] Total time: 0:00:07 (0.4706 s / it)\n",
      "Averaged stats: lr: 0.000115  loss: 24.7786 (25.1023)  loss_mal: 1.0605 (1.0715)  loss_bbox: 0.2387 (0.2426)  loss_giou: 0.4331 (0.4394)  loss_fgl: 1.2204 (1.2185)  loss_mal_aux_0: 1.0908 (1.1275)  loss_bbox_aux_0: 0.2479 (0.2665)  loss_giou_aux_0: 0.4675 (0.4822)  loss_fgl_aux_0: 1.2402 (1.2464)  loss_ddf_aux_0: 0.1522 (0.1519)  loss_mal_aux_1: 1.0742 (1.0974)  loss_bbox_aux_1: 0.2401 (0.2440)  loss_giou_aux_1: 0.4375 (0.4437)  loss_fgl_aux_1: 1.2215 (1.2217)  loss_ddf_aux_1: 0.0107 (0.0104)  loss_mal_pre: 1.0908 (1.1269)  loss_bbox_pre: 0.2469 (0.2648)  loss_giou_pre: 0.4667 (0.4788)  loss_mal_enc_0: 1.2041 (1.1865)  loss_bbox_enc_0: 0.3419 (0.3527)  loss_giou_enc_0: 0.5821 (0.5950)  loss_mal_dn_0: 0.7773 (0.7780)  loss_bbox_dn_0: 0.4690 (0.4621)  loss_giou_dn_0: 0.7858 (0.8095)  loss_fgl_dn_0: 1.1831 (1.1723)  loss_ddf_dn_0: 0.7438 (0.7613)  loss_mal_dn_1: 0.7798 (0.7820)  loss_bbox_dn_1: 0.3640 (0.3552)  loss_giou_dn_1: 0.6002 (0.6133)  loss_fgl_dn_1: 1.1526 (1.1549)  loss_ddf_dn_1: 0.0738 (0.0732)  loss_mal_dn_2: 0.7749 (0.7736)  loss_bbox_dn_2: 0.3369 (0.3291)  loss_giou_dn_2: 0.5592 (0.5678)  loss_fgl_dn_2: 1.1507 (1.1545)  loss_mal_dn_pre: 0.7759 (0.7781)  loss_bbox_dn_pre: 0.4701 (0.4631)  loss_giou_dn_pre: 0.7813 (0.8059)\n",
      "Test:  [0/5]  eta: 0:00:03    time: 0.7499  data: 0.6363  max mem: 10586\n"
     ]
    },
    {
     "name": "stderr",
     "output_type": "stream",
     "text": [
      "2025-03-10 15:07:03,295 - DEIMTrainer - INFO - Epoch 100 - Train loss: 25.1023, Eval mAP: 0.5496\n",
      "2025-03-10 15:07:03,296 - DEIMTrainer - INFO - Best stats: {'epoch': 99, 'coco_eval_bbox': 0.566501691702071}\n"
     ]
    },
    {
     "name": "stdout",
     "output_type": "stream",
     "text": [
      "Test:  [4/5]  eta: 0:00:00    time: 0.2416  data: 0.1390  max mem: 10586\n",
      "Test: Total time: 0:00:01 (0.2509 s / it)\n",
      "Averaged stats: \n",
      "Accumulating evaluation results...\n",
      "COCOeval_opt.accumulate() finished...\n",
      "DONE (t=0.02s).\n",
      "IoU metric: bbox\n",
      " Average Precision  (AP) @[ IoU=0.50:0.95 | area=   all | maxDets=100 ] = 0.550\n",
      " Average Precision  (AP) @[ IoU=0.50      | area=   all | maxDets=100 ] = 0.811\n",
      " Average Precision  (AP) @[ IoU=0.75      | area=   all | maxDets=100 ] = 0.612\n",
      " Average Precision  (AP) @[ IoU=0.50:0.95 | area= small | maxDets=100 ] = 0.249\n",
      " Average Precision  (AP) @[ IoU=0.50:0.95 | area=medium | maxDets=100 ] = 0.576\n",
      " Average Precision  (AP) @[ IoU=0.50:0.95 | area= large | maxDets=100 ] = 0.441\n",
      " Average Recall     (AR) @[ IoU=0.50:0.95 | area=   all | maxDets=  1 ] = 0.374\n",
      " Average Recall     (AR) @[ IoU=0.50:0.95 | area=   all | maxDets= 10 ] = 0.640\n",
      " Average Recall     (AR) @[ IoU=0.50:0.95 | area=   all | maxDets=100 ] = 0.759\n",
      " Average Recall     (AR) @[ IoU=0.50:0.95 | area= small | maxDets=100 ] = 0.640\n",
      " Average Recall     (AR) @[ IoU=0.50:0.95 | area=medium | maxDets=100 ] = 0.770\n",
      " Average Recall     (AR) @[ IoU=0.50:0.95 | area= large | maxDets=100 ] = 0.771\n",
      " Average Recall     (AR) @[ IoU=0.50      | area=   all | maxDets=100 ] = 0.999\n",
      " Average Recall     (AR) @[ IoU=0.75      | area=   all | maxDets=100 ] = 0.910\n",
      "================================================\n",
      "{'coco_eval_bbox': [0.5496119240509466, 0.8112511022683858, 0.6121131058702833, 0.24946367263337665, 0.5764358315011421, 0.4410922035621531, 0.3743916414969047, 0.6399227234753551, 0.7587574705995758, 0.6399999999999999, 0.7698214285714287, 0.7708430978025013]}\n",
      "================================================\n",
      "Epoch: [101]  [ 0/15]  eta: 0:00:22  lr: 0.000115  loss: 25.6446 (25.6446)  loss_mal: 1.0625 (1.0625)  loss_bbox: 0.2776 (0.2776)  loss_giou: 0.4208 (0.4208)  loss_fgl: 1.2368 (1.2368)  loss_mal_aux_0: 1.1143 (1.1143)  loss_bbox_aux_0: 0.2843 (0.2843)  loss_giou_aux_0: 0.4567 (0.4567)  loss_fgl_aux_0: 1.2568 (1.2568)  loss_ddf_aux_0: 0.1410 (0.1410)  loss_mal_aux_1: 1.0713 (1.0713)  loss_bbox_aux_1: 0.2766 (0.2766)  loss_giou_aux_1: 0.4215 (0.4215)  loss_fgl_aux_1: 1.2384 (1.2384)  loss_ddf_aux_1: 0.0105 (0.0105)  loss_mal_pre: 1.1152 (1.1152)  loss_bbox_pre: 0.2845 (0.2845)  loss_giou_pre: 0.4546 (0.4546)  loss_mal_enc_0: 1.2627 (1.2627)  loss_bbox_enc_0: 0.4036 (0.4036)  loss_giou_enc_0: 0.5852 (0.5852)  loss_mal_dn_0: 0.7944 (0.7944)  loss_bbox_dn_0: 0.5362 (0.5362)  loss_giou_dn_0: 0.7816 (0.7816)  loss_fgl_dn_0: 1.1764 (1.1764)  loss_ddf_dn_0: 0.8217 (0.8217)  loss_mal_dn_1: 0.7979 (0.7979)  loss_bbox_dn_1: 0.4312 (0.4312)  loss_giou_dn_1: 0.6172 (0.6172)  loss_fgl_dn_1: 1.1778 (1.1778)  loss_ddf_dn_1: 0.0840 (0.0840)  loss_mal_dn_2: 0.7900 (0.7900)  loss_bbox_dn_2: 0.3924 (0.3924)  loss_giou_dn_2: 0.5649 (0.5649)  loss_fgl_dn_2: 1.1800 (1.1800)  loss_mal_dn_pre: 0.7886 (0.7886)  loss_bbox_dn_pre: 0.5474 (0.5474)  loss_giou_dn_pre: 0.7882 (0.7882)  time: 1.4942  data: 1.0842  max mem: 10586\n"
     ]
    },
    {
     "name": "stderr",
     "output_type": "stream",
     "text": [
      "2025-03-10 15:07:10,212 - DEIMTrainer - INFO - Evaluating model...\n"
     ]
    },
    {
     "name": "stdout",
     "output_type": "stream",
     "text": [
      "Epoch: [101]  [14/15]  eta: 0:00:00  lr: 0.000117  loss: 24.9116 (25.1960)  loss_mal: 1.0625 (1.0897)  loss_bbox: 0.2219 (0.2283)  loss_giou: 0.4208 (0.4379)  loss_fgl: 1.2168 (1.2132)  loss_mal_aux_0: 1.0908 (1.1026)  loss_bbox_aux_0: 0.2510 (0.2566)  loss_giou_aux_0: 0.4644 (0.4832)  loss_fgl_aux_0: 1.2461 (1.2418)  loss_ddf_aux_0: 0.1614 (0.1663)  loss_mal_aux_1: 1.0713 (1.0825)  loss_bbox_aux_1: 0.2244 (0.2307)  loss_giou_aux_1: 0.4221 (0.4414)  loss_fgl_aux_1: 1.2178 (1.2156)  loss_ddf_aux_1: 0.0122 (0.0123)  loss_mal_pre: 1.0908 (1.1020)  loss_bbox_pre: 0.2523 (0.2555)  loss_giou_pre: 0.4665 (0.4820)  loss_mal_enc_0: 1.1914 (1.2365)  loss_bbox_enc_0: 0.3478 (0.3625)  loss_giou_enc_0: 0.6091 (0.6226)  loss_mal_dn_0: 0.7773 (0.7772)  loss_bbox_dn_0: 0.4253 (0.4642)  loss_giou_dn_0: 0.8243 (0.8104)  loss_fgl_dn_0: 1.1725 (1.1669)  loss_ddf_dn_0: 0.7501 (0.7867)  loss_mal_dn_1: 0.7866 (0.7862)  loss_bbox_dn_1: 0.3285 (0.3621)  loss_giou_dn_1: 0.6345 (0.6318)  loss_fgl_dn_1: 1.1588 (1.1532)  loss_ddf_dn_1: 0.0772 (0.0813)  loss_mal_dn_2: 0.7739 (0.7784)  loss_bbox_dn_2: 0.3151 (0.3358)  loss_giou_dn_2: 0.5950 (0.5881)  loss_fgl_dn_2: 1.1592 (1.1535)  loss_mal_dn_pre: 0.7773 (0.7759)  loss_bbox_dn_pre: 0.4308 (0.4687)  loss_giou_dn_pre: 0.8193 (0.8124)  time: 0.4555  data: 0.0922  max mem: 10586\n",
      "Epoch: [101] Total time: 0:00:06 (0.4599 s / it)\n",
      "Averaged stats: lr: 0.000117  loss: 24.9116 (25.1960)  loss_mal: 1.0625 (1.0897)  loss_bbox: 0.2219 (0.2283)  loss_giou: 0.4208 (0.4379)  loss_fgl: 1.2168 (1.2132)  loss_mal_aux_0: 1.0908 (1.1026)  loss_bbox_aux_0: 0.2510 (0.2566)  loss_giou_aux_0: 0.4644 (0.4832)  loss_fgl_aux_0: 1.2461 (1.2418)  loss_ddf_aux_0: 0.1614 (0.1663)  loss_mal_aux_1: 1.0713 (1.0825)  loss_bbox_aux_1: 0.2244 (0.2307)  loss_giou_aux_1: 0.4221 (0.4414)  loss_fgl_aux_1: 1.2178 (1.2156)  loss_ddf_aux_1: 0.0122 (0.0123)  loss_mal_pre: 1.0908 (1.1020)  loss_bbox_pre: 0.2523 (0.2555)  loss_giou_pre: 0.4665 (0.4820)  loss_mal_enc_0: 1.1914 (1.2365)  loss_bbox_enc_0: 0.3478 (0.3625)  loss_giou_enc_0: 0.6091 (0.6226)  loss_mal_dn_0: 0.7773 (0.7772)  loss_bbox_dn_0: 0.4253 (0.4642)  loss_giou_dn_0: 0.8243 (0.8104)  loss_fgl_dn_0: 1.1725 (1.1669)  loss_ddf_dn_0: 0.7501 (0.7867)  loss_mal_dn_1: 0.7866 (0.7862)  loss_bbox_dn_1: 0.3285 (0.3621)  loss_giou_dn_1: 0.6345 (0.6318)  loss_fgl_dn_1: 1.1588 (1.1532)  loss_ddf_dn_1: 0.0772 (0.0813)  loss_mal_dn_2: 0.7739 (0.7784)  loss_bbox_dn_2: 0.3151 (0.3358)  loss_giou_dn_2: 0.5950 (0.5881)  loss_fgl_dn_2: 1.1592 (1.1535)  loss_mal_dn_pre: 0.7773 (0.7759)  loss_bbox_dn_pre: 0.4308 (0.4687)  loss_giou_dn_pre: 0.8193 (0.8124)\n",
      "Test:  [0/5]  eta: 0:00:04    time: 0.8950  data: 0.6221  max mem: 10586\n"
     ]
    },
    {
     "name": "stderr",
     "output_type": "stream",
     "text": [
      "2025-03-10 15:07:11,638 - DEIMTrainer - INFO - Epoch 101 - Train loss: 25.1960, Eval mAP: 0.5648\n",
      "2025-03-10 15:07:11,638 - DEIMTrainer - INFO - Best stats: {'epoch': 99, 'coco_eval_bbox': 0.566501691702071}\n"
     ]
    },
    {
     "name": "stdout",
     "output_type": "stream",
     "text": [
      "Test:  [4/5]  eta: 0:00:00    time: 0.2675  data: 0.1361  max mem: 10586\n",
      "Test: Total time: 0:00:01 (0.2789 s / it)\n",
      "Averaged stats: \n",
      "Accumulating evaluation results...\n",
      "COCOeval_opt.accumulate() finished...\n",
      "DONE (t=0.02s).\n",
      "IoU metric: bbox\n",
      " Average Precision  (AP) @[ IoU=0.50:0.95 | area=   all | maxDets=100 ] = 0.565\n",
      " Average Precision  (AP) @[ IoU=0.50      | area=   all | maxDets=100 ] = 0.811\n",
      " Average Precision  (AP) @[ IoU=0.75      | area=   all | maxDets=100 ] = 0.665\n",
      " Average Precision  (AP) @[ IoU=0.50:0.95 | area= small | maxDets=100 ] = 0.423\n",
      " Average Precision  (AP) @[ IoU=0.50:0.95 | area=medium | maxDets=100 ] = 0.553\n",
      " Average Precision  (AP) @[ IoU=0.50:0.95 | area= large | maxDets=100 ] = 0.444\n",
      " Average Recall     (AR) @[ IoU=0.50:0.95 | area=   all | maxDets=  1 ] = 0.387\n",
      " Average Recall     (AR) @[ IoU=0.50:0.95 | area=   all | maxDets= 10 ] = 0.655\n",
      " Average Recall     (AR) @[ IoU=0.50:0.95 | area=   all | maxDets=100 ] = 0.766\n",
      " Average Recall     (AR) @[ IoU=0.50:0.95 | area= small | maxDets=100 ] = 0.600\n",
      " Average Recall     (AR) @[ IoU=0.50:0.95 | area=medium | maxDets=100 ] = 0.737\n",
      " Average Recall     (AR) @[ IoU=0.50:0.95 | area= large | maxDets=100 ] = 0.777\n",
      " Average Recall     (AR) @[ IoU=0.50      | area=   all | maxDets=100 ] = 0.998\n",
      " Average Recall     (AR) @[ IoU=0.75      | area=   all | maxDets=100 ] = 0.924\n",
      "================================================\n",
      "{'coco_eval_bbox': [0.5647873071569895, 0.811422870636272, 0.6654554955383017, 0.42318609467859997, 0.5531151215656812, 0.44426545720317423, 0.38692484416168627, 0.655420335025598, 0.7663150932887774, 0.6, 0.7367559523809526, 0.7767120369274471]}\n",
      "================================================\n",
      "Epoch: [102]  [ 0/15]  eta: 0:00:25  lr: 0.000117  loss: 24.4612 (24.4612)  loss_mal: 0.9980 (0.9980)  loss_bbox: 0.2058 (0.2058)  loss_giou: 0.4482 (0.4482)  loss_fgl: 1.2148 (1.2148)  loss_mal_aux_0: 1.0674 (1.0674)  loss_bbox_aux_0: 0.2367 (0.2367)  loss_giou_aux_0: 0.4910 (0.4910)  loss_fgl_aux_0: 1.2500 (1.2500)  loss_ddf_aux_0: 0.1809 (0.1809)  loss_mal_aux_1: 1.0469 (1.0469)  loss_bbox_aux_1: 0.2086 (0.2086)  loss_giou_aux_1: 0.4527 (0.4527)  loss_fgl_aux_1: 1.2174 (1.2174)  loss_ddf_aux_1: 0.0118 (0.0118)  loss_mal_pre: 1.0615 (1.0615)  loss_bbox_pre: 0.2302 (0.2302)  loss_giou_pre: 0.4826 (0.4826)  loss_mal_enc_0: 1.0977 (1.0977)  loss_bbox_enc_0: 0.2795 (0.2795)  loss_giou_enc_0: 0.5613 (0.5613)  loss_mal_dn_0: 0.7837 (0.7837)  loss_bbox_dn_0: 0.3799 (0.3799)  loss_giou_dn_0: 0.8005 (0.8005)  loss_fgl_dn_0: 1.1785 (1.1785)  loss_ddf_dn_0: 0.9709 (0.9709)  loss_mal_dn_1: 0.7764 (0.7764)  loss_bbox_dn_1: 0.2852 (0.2852)  loss_giou_dn_1: 0.6006 (0.6006)  loss_fgl_dn_1: 1.1636 (1.1636)  loss_ddf_dn_1: 0.0996 (0.0996)  loss_mal_dn_2: 0.7656 (0.7656)  loss_bbox_dn_2: 0.2538 (0.2538)  loss_giou_dn_2: 0.5482 (0.5482)  loss_fgl_dn_2: 1.1623 (1.1623)  loss_mal_dn_pre: 0.7847 (0.7847)  loss_bbox_dn_pre: 0.3770 (0.3770)  loss_giou_dn_pre: 0.7878 (0.7878)  time: 1.6791  data: 1.2218  max mem: 10586\n"
     ]
    },
    {
     "name": "stderr",
     "output_type": "stream",
     "text": [
      "2025-03-10 15:07:18,683 - DEIMTrainer - INFO - Evaluating model...\n"
     ]
    },
    {
     "name": "stdout",
     "output_type": "stream",
     "text": [
      "Epoch: [102]  [14/15]  eta: 0:00:00  lr: 0.000119  loss: 24.6521 (24.7148)  loss_mal: 1.0273 (1.0401)  loss_bbox: 0.2085 (0.2123)  loss_giou: 0.4168 (0.4209)  loss_fgl: 1.2070 (1.2035)  loss_mal_aux_0: 1.0664 (1.0639)  loss_bbox_aux_0: 0.2367 (0.2407)  loss_giou_aux_0: 0.4686 (0.4716)  loss_fgl_aux_0: 1.2372 (1.2407)  loss_ddf_aux_0: 0.1782 (0.1902)  loss_mal_aux_1: 1.0410 (1.0378)  loss_bbox_aux_1: 0.2090 (0.2143)  loss_giou_aux_1: 0.4206 (0.4256)  loss_fgl_aux_1: 1.2066 (1.2068)  loss_ddf_aux_1: 0.0122 (0.0128)  loss_mal_pre: 1.0615 (1.0610)  loss_bbox_pre: 0.2302 (0.2374)  loss_giou_pre: 0.4631 (0.4673)  loss_mal_enc_0: 1.1797 (1.1952)  loss_bbox_enc_0: 0.3273 (0.3250)  loss_giou_enc_0: 0.5613 (0.5818)  loss_mal_dn_0: 0.7778 (0.7767)  loss_bbox_dn_0: 0.4283 (0.4392)  loss_giou_dn_0: 0.8005 (0.8000)  loss_fgl_dn_0: 1.1802 (1.1754)  loss_ddf_dn_0: 0.9070 (0.9164)  loss_mal_dn_1: 0.7935 (0.7900)  loss_bbox_dn_1: 0.3198 (0.3278)  loss_giou_dn_1: 0.5900 (0.5941)  loss_fgl_dn_1: 1.1515 (1.1529)  loss_ddf_dn_1: 0.0885 (0.0922)  loss_mal_dn_2: 0.7832 (0.7817)  loss_bbox_dn_2: 0.2935 (0.3024)  loss_giou_dn_2: 0.5458 (0.5496)  loss_fgl_dn_2: 1.1501 (1.1519)  loss_mal_dn_pre: 0.7764 (0.7763)  loss_bbox_dn_pre: 0.4207 (0.4403)  loss_giou_dn_pre: 0.7971 (0.7989)  time: 0.4641  data: 0.0945  max mem: 10586\n",
      "Epoch: [102] Total time: 0:00:07 (0.4684 s / it)\n",
      "Averaged stats: lr: 0.000119  loss: 24.6521 (24.7148)  loss_mal: 1.0273 (1.0401)  loss_bbox: 0.2085 (0.2123)  loss_giou: 0.4168 (0.4209)  loss_fgl: 1.2070 (1.2035)  loss_mal_aux_0: 1.0664 (1.0639)  loss_bbox_aux_0: 0.2367 (0.2407)  loss_giou_aux_0: 0.4686 (0.4716)  loss_fgl_aux_0: 1.2372 (1.2407)  loss_ddf_aux_0: 0.1782 (0.1902)  loss_mal_aux_1: 1.0410 (1.0378)  loss_bbox_aux_1: 0.2090 (0.2143)  loss_giou_aux_1: 0.4206 (0.4256)  loss_fgl_aux_1: 1.2066 (1.2068)  loss_ddf_aux_1: 0.0122 (0.0128)  loss_mal_pre: 1.0615 (1.0610)  loss_bbox_pre: 0.2302 (0.2374)  loss_giou_pre: 0.4631 (0.4673)  loss_mal_enc_0: 1.1797 (1.1952)  loss_bbox_enc_0: 0.3273 (0.3250)  loss_giou_enc_0: 0.5613 (0.5818)  loss_mal_dn_0: 0.7778 (0.7767)  loss_bbox_dn_0: 0.4283 (0.4392)  loss_giou_dn_0: 0.8005 (0.8000)  loss_fgl_dn_0: 1.1802 (1.1754)  loss_ddf_dn_0: 0.9070 (0.9164)  loss_mal_dn_1: 0.7935 (0.7900)  loss_bbox_dn_1: 0.3198 (0.3278)  loss_giou_dn_1: 0.5900 (0.5941)  loss_fgl_dn_1: 1.1515 (1.1529)  loss_ddf_dn_1: 0.0885 (0.0922)  loss_mal_dn_2: 0.7832 (0.7817)  loss_bbox_dn_2: 0.2935 (0.3024)  loss_giou_dn_2: 0.5458 (0.5496)  loss_fgl_dn_2: 1.1501 (1.1519)  loss_mal_dn_pre: 0.7764 (0.7763)  loss_bbox_dn_pre: 0.4207 (0.4403)  loss_giou_dn_pre: 0.7971 (0.7989)\n",
      "Test:  [0/5]  eta: 0:00:03    time: 0.6992  data: 0.5869  max mem: 10586\n"
     ]
    },
    {
     "name": "stderr",
     "output_type": "stream",
     "text": [
      "2025-03-10 15:07:20,103 - DEIMTrainer - INFO - Epoch 102 - Train loss: 24.7148, Eval mAP: 0.5583\n",
      "2025-03-10 15:07:20,103 - DEIMTrainer - INFO - Best stats: {'epoch': 99, 'coco_eval_bbox': 0.566501691702071}\n"
     ]
    },
    {
     "name": "stdout",
     "output_type": "stream",
     "text": [
      "Test:  [4/5]  eta: 0:00:00    time: 0.2646  data: 0.1320  max mem: 10586\n",
      "Test: Total time: 0:00:01 (0.2780 s / it)\n",
      "Averaged stats: \n",
      "Accumulating evaluation results...\n",
      "COCOeval_opt.accumulate() finished...\n",
      "DONE (t=0.02s).\n",
      "IoU metric: bbox\n",
      " Average Precision  (AP) @[ IoU=0.50:0.95 | area=   all | maxDets=100 ] = 0.558\n",
      " Average Precision  (AP) @[ IoU=0.50      | area=   all | maxDets=100 ] = 0.820\n",
      " Average Precision  (AP) @[ IoU=0.75      | area=   all | maxDets=100 ] = 0.643\n",
      " Average Precision  (AP) @[ IoU=0.50:0.95 | area= small | maxDets=100 ] = 0.399\n",
      " Average Precision  (AP) @[ IoU=0.50:0.95 | area=medium | maxDets=100 ] = 0.583\n",
      " Average Precision  (AP) @[ IoU=0.50:0.95 | area= large | maxDets=100 ] = 0.441\n",
      " Average Recall     (AR) @[ IoU=0.50:0.95 | area=   all | maxDets=  1 ] = 0.390\n",
      " Average Recall     (AR) @[ IoU=0.50:0.95 | area=   all | maxDets= 10 ] = 0.644\n",
      " Average Recall     (AR) @[ IoU=0.50:0.95 | area=   all | maxDets=100 ] = 0.762\n",
      " Average Recall     (AR) @[ IoU=0.50:0.95 | area= small | maxDets=100 ] = 0.660\n",
      " Average Recall     (AR) @[ IoU=0.50:0.95 | area=medium | maxDets=100 ] = 0.774\n",
      " Average Recall     (AR) @[ IoU=0.50:0.95 | area= large | maxDets=100 ] = 0.737\n",
      " Average Recall     (AR) @[ IoU=0.50      | area=   all | maxDets=100 ] = 0.999\n",
      " Average Recall     (AR) @[ IoU=0.75      | area=   all | maxDets=100 ] = 0.923\n",
      "================================================\n",
      "{'coco_eval_bbox': [0.5583012437462259, 0.8203667172675487, 0.6432944748272382, 0.3989820444800009, 0.583353417710353, 0.44101315980860895, 0.3897759891180944, 0.6444200779727095, 0.762286860313176, 0.6599999999999999, 0.774077380952381, 0.7367578017122342]}\n",
      "================================================\n",
      "Epoch: [103]  [ 0/15]  eta: 0:00:22  lr: 0.000119  loss: 24.0761 (24.0761)  loss_mal: 0.9731 (0.9731)  loss_bbox: 0.1662 (0.1662)  loss_giou: 0.4325 (0.4325)  loss_fgl: 1.2022 (1.2022)  loss_mal_aux_0: 1.1523 (1.1523)  loss_bbox_aux_0: 0.1855 (0.1855)  loss_giou_aux_0: 0.4706 (0.4706)  loss_fgl_aux_0: 1.2147 (1.2147)  loss_ddf_aux_0: 0.1823 (0.1823)  loss_mal_aux_1: 1.0225 (1.0225)  loss_bbox_aux_1: 0.1681 (0.1681)  loss_giou_aux_1: 0.4348 (0.4348)  loss_fgl_aux_1: 1.2021 (1.2021)  loss_ddf_aux_1: 0.0094 (0.0094)  loss_mal_pre: 1.1514 (1.1514)  loss_bbox_pre: 0.1850 (0.1850)  loss_giou_pre: 0.4683 (0.4683)  loss_mal_enc_0: 1.1299 (1.1299)  loss_bbox_enc_0: 0.2362 (0.2362)  loss_giou_enc_0: 0.5629 (0.5629)  loss_mal_dn_0: 0.7754 (0.7754)  loss_bbox_dn_0: 0.3698 (0.3698)  loss_giou_dn_0: 0.8253 (0.8253)  loss_fgl_dn_0: 1.1666 (1.1666)  loss_ddf_dn_0: 0.7320 (0.7320)  loss_mal_dn_1: 0.7993 (0.7993)  loss_bbox_dn_1: 0.2742 (0.2742)  loss_giou_dn_1: 0.6249 (0.6249)  loss_fgl_dn_1: 1.1586 (1.1586)  loss_ddf_dn_1: 0.0699 (0.0699)  loss_mal_dn_2: 0.7812 (0.7812)  loss_bbox_dn_2: 0.2506 (0.2506)  loss_giou_dn_2: 0.5772 (0.5772)  loss_fgl_dn_2: 1.1608 (1.1608)  loss_mal_dn_pre: 0.7759 (0.7759)  loss_bbox_dn_pre: 0.3685 (0.3685)  loss_giou_dn_pre: 0.8158 (0.8158)  time: 1.4910  data: 1.0525  max mem: 10586\n"
     ]
    },
    {
     "name": "stderr",
     "output_type": "stream",
     "text": [
      "2025-03-10 15:07:26,978 - DEIMTrainer - INFO - Saving checkpoint to outputs/deim_hgnetv2_s_coco/checkpoint0103.pth\n"
     ]
    },
    {
     "name": "stdout",
     "output_type": "stream",
     "text": [
      "Epoch: [103]  [14/15]  eta: 0:00:00  lr: 0.000122  loss: 24.4167 (24.5424)  loss_mal: 1.0293 (1.0510)  loss_bbox: 0.2016 (0.2042)  loss_giou: 0.4112 (0.4125)  loss_fgl: 1.2020 (1.2025)  loss_mal_aux_0: 1.0859 (1.0978)  loss_bbox_aux_0: 0.2275 (0.2351)  loss_giou_aux_0: 0.4562 (0.4594)  loss_fgl_aux_0: 1.2387 (1.2383)  loss_ddf_aux_0: 0.1837 (0.1900)  loss_mal_aux_1: 1.0449 (1.0617)  loss_bbox_aux_1: 0.2025 (0.2074)  loss_giou_aux_1: 0.4227 (0.4166)  loss_fgl_aux_1: 1.2021 (1.2056)  loss_ddf_aux_1: 0.0127 (0.0123)  loss_mal_pre: 1.0752 (1.0954)  loss_bbox_pre: 0.2237 (0.2328)  loss_giou_pre: 0.4522 (0.4560)  loss_mal_enc_0: 1.1533 (1.1723)  loss_bbox_enc_0: 0.3005 (0.3114)  loss_giou_enc_0: 0.5627 (0.5625)  loss_mal_dn_0: 0.7783 (0.7808)  loss_bbox_dn_0: 0.4113 (0.4188)  loss_giou_dn_0: 0.7773 (0.7842)  loss_fgl_dn_0: 1.1768 (1.1751)  loss_ddf_dn_0: 0.8638 (0.8997)  loss_mal_dn_1: 0.7944 (0.7925)  loss_bbox_dn_1: 0.2978 (0.3124)  loss_giou_dn_1: 0.5765 (0.5832)  loss_fgl_dn_1: 1.1449 (1.1473)  loss_ddf_dn_1: 0.0796 (0.0836)  loss_mal_dn_2: 0.7822 (0.7825)  loss_bbox_dn_2: 0.2806 (0.2873)  loss_giou_dn_2: 0.5398 (0.5392)  loss_fgl_dn_2: 1.1445 (1.1458)  loss_mal_dn_pre: 0.7773 (0.7811)  loss_bbox_dn_pre: 0.4085 (0.4225)  loss_giou_dn_pre: 0.7786 (0.7817)  time: 0.4529  data: 0.0852  max mem: 10586\n",
      "Epoch: [103] Total time: 0:00:06 (0.4571 s / it)\n",
      "Averaged stats: lr: 0.000122  loss: 24.4167 (24.5424)  loss_mal: 1.0293 (1.0510)  loss_bbox: 0.2016 (0.2042)  loss_giou: 0.4112 (0.4125)  loss_fgl: 1.2020 (1.2025)  loss_mal_aux_0: 1.0859 (1.0978)  loss_bbox_aux_0: 0.2275 (0.2351)  loss_giou_aux_0: 0.4562 (0.4594)  loss_fgl_aux_0: 1.2387 (1.2383)  loss_ddf_aux_0: 0.1837 (0.1900)  loss_mal_aux_1: 1.0449 (1.0617)  loss_bbox_aux_1: 0.2025 (0.2074)  loss_giou_aux_1: 0.4227 (0.4166)  loss_fgl_aux_1: 1.2021 (1.2056)  loss_ddf_aux_1: 0.0127 (0.0123)  loss_mal_pre: 1.0752 (1.0954)  loss_bbox_pre: 0.2237 (0.2328)  loss_giou_pre: 0.4522 (0.4560)  loss_mal_enc_0: 1.1533 (1.1723)  loss_bbox_enc_0: 0.3005 (0.3114)  loss_giou_enc_0: 0.5627 (0.5625)  loss_mal_dn_0: 0.7783 (0.7808)  loss_bbox_dn_0: 0.4113 (0.4188)  loss_giou_dn_0: 0.7773 (0.7842)  loss_fgl_dn_0: 1.1768 (1.1751)  loss_ddf_dn_0: 0.8638 (0.8997)  loss_mal_dn_1: 0.7944 (0.7925)  loss_bbox_dn_1: 0.2978 (0.3124)  loss_giou_dn_1: 0.5765 (0.5832)  loss_fgl_dn_1: 1.1449 (1.1473)  loss_ddf_dn_1: 0.0796 (0.0836)  loss_mal_dn_2: 0.7822 (0.7825)  loss_bbox_dn_2: 0.2806 (0.2873)  loss_giou_dn_2: 0.5398 (0.5392)  loss_fgl_dn_2: 1.1445 (1.1458)  loss_mal_dn_pre: 0.7773 (0.7811)  loss_bbox_dn_pre: 0.4085 (0.4225)  loss_giou_dn_pre: 0.7786 (0.7817)\n"
     ]
    },
    {
     "name": "stderr",
     "output_type": "stream",
     "text": [
      "2025-03-10 15:07:27,243 - DEIMTrainer - INFO - Checkpoint saved to outputs/deim_hgnetv2_s_coco/checkpoint0103.pth\n",
      "2025-03-10 15:07:27,244 - DEIMTrainer - INFO - Evaluating model...\n"
     ]
    },
    {
     "name": "stdout",
     "output_type": "stream",
     "text": [
      "Test:  [0/5]  eta: 0:00:03    time: 0.7976  data: 0.6775  max mem: 10586\n"
     ]
    },
    {
     "name": "stderr",
     "output_type": "stream",
     "text": [
      "2025-03-10 15:07:28,794 - DEIMTrainer - INFO - Epoch 103 - Train loss: 24.5424, Eval mAP: 0.5549\n",
      "2025-03-10 15:07:28,795 - DEIMTrainer - INFO - Best stats: {'epoch': 99, 'coco_eval_bbox': 0.566501691702071}\n"
     ]
    },
    {
     "name": "stdout",
     "output_type": "stream",
     "text": [
      "Test:  [4/5]  eta: 0:00:00    time: 0.2948  data: 0.1551  max mem: 10586\n",
      "Test: Total time: 0:00:01 (0.3043 s / it)\n",
      "Averaged stats: \n",
      "Accumulating evaluation results...\n",
      "COCOeval_opt.accumulate() finished...\n",
      "DONE (t=0.02s).\n",
      "IoU metric: bbox\n",
      " Average Precision  (AP) @[ IoU=0.50:0.95 | area=   all | maxDets=100 ] = 0.555\n",
      " Average Precision  (AP) @[ IoU=0.50      | area=   all | maxDets=100 ] = 0.809\n",
      " Average Precision  (AP) @[ IoU=0.75      | area=   all | maxDets=100 ] = 0.653\n",
      " Average Precision  (AP) @[ IoU=0.50:0.95 | area= small | maxDets=100 ] = 0.427\n",
      " Average Precision  (AP) @[ IoU=0.50:0.95 | area=medium | maxDets=100 ] = 0.591\n",
      " Average Precision  (AP) @[ IoU=0.50:0.95 | area= large | maxDets=100 ] = 0.436\n",
      " Average Recall     (AR) @[ IoU=0.50:0.95 | area=   all | maxDets=  1 ] = 0.368\n",
      " Average Recall     (AR) @[ IoU=0.50:0.95 | area=   all | maxDets= 10 ] = 0.650\n",
      " Average Recall     (AR) @[ IoU=0.50:0.95 | area=   all | maxDets=100 ] = 0.770\n",
      " Average Recall     (AR) @[ IoU=0.50:0.95 | area= small | maxDets=100 ] = 0.680\n",
      " Average Recall     (AR) @[ IoU=0.50:0.95 | area=medium | maxDets=100 ] = 0.777\n",
      " Average Recall     (AR) @[ IoU=0.50:0.95 | area= large | maxDets=100 ] = 0.739\n",
      " Average Recall     (AR) @[ IoU=0.50      | area=   all | maxDets=100 ] = 0.998\n",
      " Average Recall     (AR) @[ IoU=0.75      | area=   all | maxDets=100 ] = 0.910\n",
      "================================================\n",
      "{'coco_eval_bbox': [0.5548587461055329, 0.8094283291388636, 0.653049599780955, 0.4265990515043937, 0.5906218583258418, 0.4356658526282985, 0.36789382644645807, 0.6497084056294582, 0.7697336289441554, 0.6799999999999999, 0.7771130952380951, 0.7393293091884642]}\n",
      "================================================\n",
      "Epoch: [104]  [ 0/15]  eta: 0:00:20  lr: 0.000122  loss: 24.9171 (24.9171)  loss_mal: 1.0029 (1.0029)  loss_bbox: 0.2240 (0.2240)  loss_giou: 0.4232 (0.4232)  loss_fgl: 1.2359 (1.2359)  loss_mal_aux_0: 1.0586 (1.0586)  loss_bbox_aux_0: 0.2523 (0.2523)  loss_giou_aux_0: 0.4805 (0.4805)  loss_fgl_aux_0: 1.2420 (1.2420)  loss_ddf_aux_0: 0.1388 (0.1388)  loss_mal_aux_1: 1.0166 (1.0166)  loss_bbox_aux_1: 0.2268 (0.2268)  loss_giou_aux_1: 0.4286 (0.4286)  loss_fgl_aux_1: 1.2350 (1.2350)  loss_ddf_aux_1: 0.0099 (0.0099)  loss_mal_pre: 1.0586 (1.0586)  loss_bbox_pre: 0.2531 (0.2531)  loss_giou_pre: 0.4796 (0.4796)  loss_mal_enc_0: 1.0928 (1.0928)  loss_bbox_enc_0: 0.4331 (0.4331)  loss_giou_enc_0: 0.7153 (0.7153)  loss_mal_dn_0: 0.7783 (0.7783)  loss_bbox_dn_0: 0.4677 (0.4677)  loss_giou_dn_0: 0.8031 (0.8031)  loss_fgl_dn_0: 1.1727 (1.1727)  loss_ddf_dn_0: 0.8178 (0.8178)  loss_mal_dn_1: 0.7920 (0.7920)  loss_bbox_dn_1: 0.3541 (0.3541)  loss_giou_dn_1: 0.6027 (0.6027)  loss_fgl_dn_1: 1.1548 (1.1548)  loss_ddf_dn_1: 0.0738 (0.0738)  loss_mal_dn_2: 0.7925 (0.7925)  loss_bbox_dn_2: 0.3347 (0.3347)  loss_giou_dn_2: 0.5631 (0.5631)  loss_fgl_dn_2: 1.1549 (1.1549)  loss_mal_dn_pre: 0.7769 (0.7769)  loss_bbox_dn_pre: 0.4730 (0.4730)  loss_giou_dn_pre: 0.7973 (0.7973)  time: 1.3346  data: 0.9735  max mem: 10586\n"
     ]
    },
    {
     "name": "stderr",
     "output_type": "stream",
     "text": [
      "2025-03-10 15:07:35,484 - DEIMTrainer - INFO - Evaluating model...\n"
     ]
    },
    {
     "name": "stdout",
     "output_type": "stream",
     "text": [
      "Epoch: [104]  [14/15]  eta: 0:00:00  lr: 0.000124  loss: 24.3044 (24.2301)  loss_mal: 1.0029 (1.0168)  loss_bbox: 0.2150 (0.2047)  loss_giou: 0.4225 (0.4175)  loss_fgl: 1.2185 (1.2153)  loss_mal_aux_0: 1.0508 (1.0596)  loss_bbox_aux_0: 0.2318 (0.2246)  loss_giou_aux_0: 0.4570 (0.4567)  loss_fgl_aux_0: 1.2449 (1.2414)  loss_ddf_aux_0: 0.1786 (0.1800)  loss_mal_aux_1: 1.0156 (1.0251)  loss_bbox_aux_1: 0.2166 (0.2057)  loss_giou_aux_1: 0.4206 (0.4200)  loss_fgl_aux_1: 1.2230 (1.2174)  loss_ddf_aux_1: 0.0116 (0.0117)  loss_mal_pre: 1.0508 (1.0592)  loss_bbox_pre: 0.2307 (0.2235)  loss_giou_pre: 0.4564 (0.4552)  loss_mal_enc_0: 1.1729 (1.1546)  loss_bbox_enc_0: 0.2961 (0.3045)  loss_giou_enc_0: 0.5685 (0.5694)  loss_mal_dn_0: 0.7783 (0.7797)  loss_bbox_dn_0: 0.3898 (0.3949)  loss_giou_dn_0: 0.7531 (0.7646)  loss_fgl_dn_0: 1.1842 (1.1901)  loss_ddf_dn_0: 0.8740 (0.8727)  loss_mal_dn_1: 0.7856 (0.7848)  loss_bbox_dn_1: 0.2948 (0.2969)  loss_giou_dn_1: 0.5639 (0.5701)  loss_fgl_dn_1: 1.1548 (1.1580)  loss_ddf_dn_1: 0.0806 (0.0790)  loss_mal_dn_2: 0.7749 (0.7732)  loss_bbox_dn_2: 0.2828 (0.2780)  loss_giou_dn_2: 0.5281 (0.5307)  loss_fgl_dn_2: 1.1559 (1.1554)  loss_mal_dn_pre: 0.7769 (0.7793)  loss_bbox_dn_pre: 0.3902 (0.3978)  loss_giou_dn_pre: 0.7571 (0.7619)  time: 0.4411  data: 0.0851  max mem: 10586\n",
      "Epoch: [104] Total time: 0:00:06 (0.4447 s / it)\n",
      "Averaged stats: lr: 0.000124  loss: 24.3044 (24.2301)  loss_mal: 1.0029 (1.0168)  loss_bbox: 0.2150 (0.2047)  loss_giou: 0.4225 (0.4175)  loss_fgl: 1.2185 (1.2153)  loss_mal_aux_0: 1.0508 (1.0596)  loss_bbox_aux_0: 0.2318 (0.2246)  loss_giou_aux_0: 0.4570 (0.4567)  loss_fgl_aux_0: 1.2449 (1.2414)  loss_ddf_aux_0: 0.1786 (0.1800)  loss_mal_aux_1: 1.0156 (1.0251)  loss_bbox_aux_1: 0.2166 (0.2057)  loss_giou_aux_1: 0.4206 (0.4200)  loss_fgl_aux_1: 1.2230 (1.2174)  loss_ddf_aux_1: 0.0116 (0.0117)  loss_mal_pre: 1.0508 (1.0592)  loss_bbox_pre: 0.2307 (0.2235)  loss_giou_pre: 0.4564 (0.4552)  loss_mal_enc_0: 1.1729 (1.1546)  loss_bbox_enc_0: 0.2961 (0.3045)  loss_giou_enc_0: 0.5685 (0.5694)  loss_mal_dn_0: 0.7783 (0.7797)  loss_bbox_dn_0: 0.3898 (0.3949)  loss_giou_dn_0: 0.7531 (0.7646)  loss_fgl_dn_0: 1.1842 (1.1901)  loss_ddf_dn_0: 0.8740 (0.8727)  loss_mal_dn_1: 0.7856 (0.7848)  loss_bbox_dn_1: 0.2948 (0.2969)  loss_giou_dn_1: 0.5639 (0.5701)  loss_fgl_dn_1: 1.1548 (1.1580)  loss_ddf_dn_1: 0.0806 (0.0790)  loss_mal_dn_2: 0.7749 (0.7732)  loss_bbox_dn_2: 0.2828 (0.2780)  loss_giou_dn_2: 0.5281 (0.5307)  loss_fgl_dn_2: 1.1559 (1.1554)  loss_mal_dn_pre: 0.7769 (0.7793)  loss_bbox_dn_pre: 0.3902 (0.3978)  loss_giou_dn_pre: 0.7571 (0.7619)\n",
      "Test:  [0/5]  eta: 0:00:03    time: 0.7154  data: 0.6036  max mem: 10586\n"
     ]
    },
    {
     "name": "stderr",
     "output_type": "stream",
     "text": [
      "2025-03-10 15:07:36,896 - DEIMTrainer - INFO - Epoch 104 - Train loss: 24.2301, Eval mAP: 0.5652\n",
      "2025-03-10 15:07:36,896 - DEIMTrainer - INFO - Best stats: {'epoch': 99, 'coco_eval_bbox': 0.566501691702071}\n"
     ]
    },
    {
     "name": "stdout",
     "output_type": "stream",
     "text": [
      "Test:  [4/5]  eta: 0:00:00    time: 0.2667  data: 0.1329  max mem: 10586\n",
      "Test: Total time: 0:00:01 (0.2764 s / it)\n",
      "Averaged stats: \n",
      "Accumulating evaluation results...\n",
      "COCOeval_opt.accumulate() finished...\n",
      "DONE (t=0.02s).\n",
      "IoU metric: bbox\n",
      " Average Precision  (AP) @[ IoU=0.50:0.95 | area=   all | maxDets=100 ] = 0.565\n",
      " Average Precision  (AP) @[ IoU=0.50      | area=   all | maxDets=100 ] = 0.820\n",
      " Average Precision  (AP) @[ IoU=0.75      | area=   all | maxDets=100 ] = 0.631\n",
      " Average Precision  (AP) @[ IoU=0.50:0.95 | area= small | maxDets=100 ] = 0.329\n",
      " Average Precision  (AP) @[ IoU=0.50:0.95 | area=medium | maxDets=100 ] = 0.601\n",
      " Average Precision  (AP) @[ IoU=0.50:0.95 | area= large | maxDets=100 ] = 0.442\n",
      " Average Recall     (AR) @[ IoU=0.50:0.95 | area=   all | maxDets=  1 ] = 0.394\n",
      " Average Recall     (AR) @[ IoU=0.50:0.95 | area=   all | maxDets= 10 ] = 0.655\n",
      " Average Recall     (AR) @[ IoU=0.50:0.95 | area=   all | maxDets=100 ] = 0.769\n",
      " Average Recall     (AR) @[ IoU=0.50:0.95 | area= small | maxDets=100 ] = 0.680\n",
      " Average Recall     (AR) @[ IoU=0.50:0.95 | area=medium | maxDets=100 ] = 0.769\n",
      " Average Recall     (AR) @[ IoU=0.50:0.95 | area= large | maxDets=100 ] = 0.814\n",
      " Average Recall     (AR) @[ IoU=0.50      | area=   all | maxDets=100 ] = 0.998\n",
      " Average Recall     (AR) @[ IoU=0.75      | area=   all | maxDets=100 ] = 0.901\n",
      "================================================\n",
      "{'coco_eval_bbox': [0.5651821570133437, 0.819999239784443, 0.6313823588926796, 0.3291808025666319, 0.6005089975084075, 0.441992757594945, 0.3940966197545146, 0.6551041064198959, 0.7689407814407815, 0.68, 0.7692261904761905, 0.8144253757841166]}\n",
      "================================================\n",
      "Epoch: [105]  [ 0/15]  eta: 0:00:23  lr: 0.000124  loss: 23.3743 (23.3743)  loss_mal: 0.9370 (0.9370)  loss_bbox: 0.1674 (0.1674)  loss_giou: 0.4273 (0.4273)  loss_fgl: 1.2056 (1.2056)  loss_mal_aux_0: 0.9727 (0.9727)  loss_bbox_aux_0: 0.1870 (0.1870)  loss_giou_aux_0: 0.4612 (0.4612)  loss_fgl_aux_0: 1.2306 (1.2306)  loss_ddf_aux_0: 0.1314 (0.1314)  loss_mal_aux_1: 0.9395 (0.9395)  loss_bbox_aux_1: 0.1697 (0.1697)  loss_giou_aux_1: 0.4297 (0.4297)  loss_fgl_aux_1: 1.2077 (1.2077)  loss_ddf_aux_1: 0.0086 (0.0086)  loss_mal_pre: 0.9668 (0.9668)  loss_bbox_pre: 0.1887 (0.1887)  loss_giou_pre: 0.4624 (0.4624)  loss_mal_enc_0: 1.0811 (1.0811)  loss_bbox_enc_0: 0.2385 (0.2385)  loss_giou_enc_0: 0.5451 (0.5451)  loss_mal_dn_0: 0.7725 (0.7725)  loss_bbox_dn_0: 0.3484 (0.3484)  loss_giou_dn_0: 0.7898 (0.7898)  loss_fgl_dn_0: 1.2007 (1.2007)  loss_ddf_dn_0: 0.8063 (0.8063)  loss_mal_dn_1: 0.7700 (0.7700)  loss_bbox_dn_1: 0.2619 (0.2619)  loss_giou_dn_1: 0.5994 (0.5994)  loss_fgl_dn_1: 1.1685 (1.1685)  loss_ddf_dn_1: 0.0706 (0.0706)  loss_mal_dn_2: 0.7593 (0.7593)  loss_bbox_dn_2: 0.2443 (0.2443)  loss_giou_dn_2: 0.5583 (0.5583)  loss_fgl_dn_2: 1.1642 (1.1642)  loss_mal_dn_pre: 0.7715 (0.7715)  loss_bbox_dn_pre: 0.3473 (0.3473)  loss_giou_dn_pre: 0.7832 (0.7832)  time: 1.5980  data: 1.1706  max mem: 10586\n"
     ]
    },
    {
     "name": "stderr",
     "output_type": "stream",
     "text": [
      "2025-03-10 15:07:43,884 - DEIMTrainer - INFO - Evaluating model...\n"
     ]
    },
    {
     "name": "stdout",
     "output_type": "stream",
     "text": [
      "Epoch: [105]  [14/15]  eta: 0:00:00  lr: 0.000126  loss: 23.9426 (24.0311)  loss_mal: 1.0059 (1.0122)  loss_bbox: 0.1964 (0.1912)  loss_giou: 0.4157 (0.4109)  loss_fgl: 1.2034 (1.2061)  loss_mal_aux_0: 1.0400 (1.0349)  loss_bbox_aux_0: 0.2151 (0.2103)  loss_giou_aux_0: 0.4519 (0.4490)  loss_fgl_aux_0: 1.2369 (1.2385)  loss_ddf_aux_0: 0.1744 (0.1746)  loss_mal_aux_1: 1.0068 (1.0223)  loss_bbox_aux_1: 0.2002 (0.1932)  loss_giou_aux_1: 0.4185 (0.4147)  loss_fgl_aux_1: 1.2077 (1.2092)  loss_ddf_aux_1: 0.0108 (0.0114)  loss_mal_pre: 1.0400 (1.0338)  loss_bbox_pre: 0.2137 (0.2094)  loss_giou_pre: 0.4531 (0.4462)  loss_mal_enc_0: 1.1240 (1.1306)  loss_bbox_enc_0: 0.2909 (0.2896)  loss_giou_enc_0: 0.5489 (0.5679)  loss_mal_dn_0: 0.7749 (0.7759)  loss_bbox_dn_0: 0.3798 (0.3837)  loss_giou_dn_0: 0.7725 (0.7714)  loss_fgl_dn_0: 1.1904 (1.1890)  loss_ddf_dn_0: 0.9296 (0.9351)  loss_mal_dn_1: 0.7837 (0.7857)  loss_bbox_dn_1: 0.2867 (0.2846)  loss_giou_dn_1: 0.5793 (0.5725)  loss_fgl_dn_1: 1.1522 (1.1512)  loss_ddf_dn_1: 0.0836 (0.0829)  loss_mal_dn_2: 0.7666 (0.7733)  loss_bbox_dn_2: 0.2590 (0.2612)  loss_giou_dn_2: 0.5366 (0.5296)  loss_fgl_dn_2: 1.1466 (1.1490)  loss_mal_dn_pre: 0.7773 (0.7765)  loss_bbox_dn_pre: 0.3885 (0.3857)  loss_giou_dn_pre: 0.7616 (0.7678)  time: 0.4611  data: 0.0953  max mem: 10586\n",
      "Epoch: [105] Total time: 0:00:06 (0.4645 s / it)\n",
      "Averaged stats: lr: 0.000126  loss: 23.9426 (24.0311)  loss_mal: 1.0059 (1.0122)  loss_bbox: 0.1964 (0.1912)  loss_giou: 0.4157 (0.4109)  loss_fgl: 1.2034 (1.2061)  loss_mal_aux_0: 1.0400 (1.0349)  loss_bbox_aux_0: 0.2151 (0.2103)  loss_giou_aux_0: 0.4519 (0.4490)  loss_fgl_aux_0: 1.2369 (1.2385)  loss_ddf_aux_0: 0.1744 (0.1746)  loss_mal_aux_1: 1.0068 (1.0223)  loss_bbox_aux_1: 0.2002 (0.1932)  loss_giou_aux_1: 0.4185 (0.4147)  loss_fgl_aux_1: 1.2077 (1.2092)  loss_ddf_aux_1: 0.0108 (0.0114)  loss_mal_pre: 1.0400 (1.0338)  loss_bbox_pre: 0.2137 (0.2094)  loss_giou_pre: 0.4531 (0.4462)  loss_mal_enc_0: 1.1240 (1.1306)  loss_bbox_enc_0: 0.2909 (0.2896)  loss_giou_enc_0: 0.5489 (0.5679)  loss_mal_dn_0: 0.7749 (0.7759)  loss_bbox_dn_0: 0.3798 (0.3837)  loss_giou_dn_0: 0.7725 (0.7714)  loss_fgl_dn_0: 1.1904 (1.1890)  loss_ddf_dn_0: 0.9296 (0.9351)  loss_mal_dn_1: 0.7837 (0.7857)  loss_bbox_dn_1: 0.2867 (0.2846)  loss_giou_dn_1: 0.5793 (0.5725)  loss_fgl_dn_1: 1.1522 (1.1512)  loss_ddf_dn_1: 0.0836 (0.0829)  loss_mal_dn_2: 0.7666 (0.7733)  loss_bbox_dn_2: 0.2590 (0.2612)  loss_giou_dn_2: 0.5366 (0.5296)  loss_fgl_dn_2: 1.1466 (1.1490)  loss_mal_dn_pre: 0.7773 (0.7765)  loss_bbox_dn_pre: 0.3885 (0.3857)  loss_giou_dn_pre: 0.7616 (0.7678)\n",
      "Test:  [0/5]  eta: 0:00:03    time: 0.7081  data: 0.5903  max mem: 10586\n"
     ]
    },
    {
     "name": "stderr",
     "output_type": "stream",
     "text": [
      "2025-03-10 15:07:45,301 - DEIMTrainer - INFO - Saving checkpoint to outputs/deim_hgnetv2_s_coco/best.pth\n"
     ]
    },
    {
     "name": "stdout",
     "output_type": "stream",
     "text": [
      "Test:  [4/5]  eta: 0:00:00    time: 0.2668  data: 0.1331  max mem: 10586\n",
      "Test: Total time: 0:00:01 (0.2774 s / it)\n",
      "Averaged stats: \n",
      "Accumulating evaluation results...\n",
      "COCOeval_opt.accumulate() finished...\n",
      "DONE (t=0.02s).\n",
      "IoU metric: bbox\n",
      " Average Precision  (AP) @[ IoU=0.50:0.95 | area=   all | maxDets=100 ] = 0.586\n",
      " Average Precision  (AP) @[ IoU=0.50      | area=   all | maxDets=100 ] = 0.842\n",
      " Average Precision  (AP) @[ IoU=0.75      | area=   all | maxDets=100 ] = 0.691\n",
      " Average Precision  (AP) @[ IoU=0.50:0.95 | area= small | maxDets=100 ] = 0.424\n",
      " Average Precision  (AP) @[ IoU=0.50:0.95 | area=medium | maxDets=100 ] = 0.612\n",
      " Average Precision  (AP) @[ IoU=0.50:0.95 | area= large | maxDets=100 ] = 0.451\n",
      " Average Recall     (AR) @[ IoU=0.50:0.95 | area=   all | maxDets=  1 ] = 0.397\n",
      " Average Recall     (AR) @[ IoU=0.50:0.95 | area=   all | maxDets= 10 ] = 0.665\n",
      " Average Recall     (AR) @[ IoU=0.50:0.95 | area=   all | maxDets=100 ] = 0.779\n",
      " Average Recall     (AR) @[ IoU=0.50:0.95 | area= small | maxDets=100 ] = 0.640\n",
      " Average Recall     (AR) @[ IoU=0.50:0.95 | area=medium | maxDets=100 ] = 0.782\n",
      " Average Recall     (AR) @[ IoU=0.50:0.95 | area= large | maxDets=100 ] = 0.782\n",
      " Average Recall     (AR) @[ IoU=0.50      | area=   all | maxDets=100 ] = 0.999\n",
      " Average Recall     (AR) @[ IoU=0.75      | area=   all | maxDets=100 ] = 0.926\n",
      "================================================\n",
      "{'coco_eval_bbox': [0.5860598658090325, 0.8418163593895662, 0.6914221244999272, 0.4239579758374298, 0.6117601983156791, 0.4511748506063362, 0.39711779448621554, 0.6647808088597562, 0.7788137544716491, 0.64, 0.7820238095238096, 0.781735116581844]}\n",
      "================================================\n"
     ]
    },
    {
     "name": "stderr",
     "output_type": "stream",
     "text": [
      "2025-03-10 15:07:45,627 - DEIMTrainer - INFO - Checkpoint saved to outputs/deim_hgnetv2_s_coco/best.pth\n",
      "2025-03-10 15:07:45,631 - DEIMTrainer - INFO - Epoch 105 - Train loss: 24.0311, Eval mAP: 0.5861\n",
      "2025-03-10 15:07:45,632 - DEIMTrainer - INFO - Best stats: {'epoch': 105, 'coco_eval_bbox': 0.5860598658090325}\n"
     ]
    },
    {
     "name": "stdout",
     "output_type": "stream",
     "text": [
      "Epoch: [106]  [ 0/15]  eta: 0:00:27  lr: 0.000126  loss: 24.2826 (24.2826)  loss_mal: 1.0020 (1.0020)  loss_bbox: 0.1977 (0.1977)  loss_giou: 0.4536 (0.4536)  loss_fgl: 1.2281 (1.2281)  loss_mal_aux_0: 1.0303 (1.0303)  loss_bbox_aux_0: 0.2048 (0.2048)  loss_giou_aux_0: 0.4620 (0.4620)  loss_fgl_aux_0: 1.2363 (1.2363)  loss_ddf_aux_0: 0.1580 (0.1580)  loss_mal_aux_1: 1.0010 (1.0010)  loss_bbox_aux_1: 0.1970 (0.1970)  loss_giou_aux_1: 0.4525 (0.4525)  loss_fgl_aux_1: 1.2319 (1.2319)  loss_ddf_aux_1: 0.0105 (0.0105)  loss_mal_pre: 1.0205 (1.0205)  loss_bbox_pre: 0.2051 (0.2051)  loss_giou_pre: 0.4589 (0.4589)  loss_mal_enc_0: 1.1396 (1.1396)  loss_bbox_enc_0: 0.3154 (0.3154)  loss_giou_enc_0: 0.5799 (0.5799)  loss_mal_dn_0: 0.7944 (0.7944)  loss_bbox_dn_0: 0.3730 (0.3730)  loss_giou_dn_0: 0.7884 (0.7884)  loss_fgl_dn_0: 1.1682 (1.1682)  loss_ddf_dn_0: 0.9745 (0.9745)  loss_mal_dn_1: 0.7847 (0.7847)  loss_bbox_dn_1: 0.2769 (0.2769)  loss_giou_dn_1: 0.5985 (0.5985)  loss_fgl_dn_1: 1.1461 (1.1461)  loss_ddf_dn_1: 0.0883 (0.0883)  loss_mal_dn_2: 0.7681 (0.7681)  loss_bbox_dn_2: 0.2560 (0.2560)  loss_giou_dn_2: 0.5576 (0.5576)  loss_fgl_dn_2: 1.1432 (1.1432)  loss_mal_dn_pre: 0.7915 (0.7915)  loss_bbox_dn_pre: 0.3827 (0.3827)  loss_giou_dn_pre: 0.8055 (0.8055)  time: 1.8594  data: 1.3888  max mem: 10586\n"
     ]
    },
    {
     "name": "stderr",
     "output_type": "stream",
     "text": [
      "2025-03-10 15:07:52,880 - DEIMTrainer - INFO - Evaluating model...\n"
     ]
    },
    {
     "name": "stdout",
     "output_type": "stream",
     "text": [
      "Epoch: [106]  [14/15]  eta: 0:00:00  lr: 0.000129  loss: 24.1396 (24.1234)  loss_mal: 0.9927 (0.9931)  loss_bbox: 0.1936 (0.1928)  loss_giou: 0.4279 (0.4247)  loss_fgl: 1.2091 (1.2077)  loss_mal_aux_0: 1.0303 (1.0367)  loss_bbox_aux_0: 0.2148 (0.2176)  loss_giou_aux_0: 0.4693 (0.4650)  loss_fgl_aux_0: 1.2408 (1.2394)  loss_ddf_aux_0: 0.1717 (0.1847)  loss_mal_aux_1: 1.0010 (0.9981)  loss_bbox_aux_1: 0.1964 (0.1953)  loss_giou_aux_1: 0.4329 (0.4277)  loss_fgl_aux_1: 1.2117 (1.2103)  loss_ddf_aux_1: 0.0124 (0.0120)  loss_mal_pre: 1.0205 (1.0354)  loss_bbox_pre: 0.2141 (0.2161)  loss_giou_pre: 0.4665 (0.4627)  loss_mal_enc_0: 1.1396 (1.1482)  loss_bbox_enc_0: 0.3035 (0.2946)  loss_giou_enc_0: 0.5750 (0.5750)  loss_mal_dn_0: 0.7817 (0.7831)  loss_bbox_dn_0: 0.3730 (0.3773)  loss_giou_dn_0: 0.7675 (0.7655)  loss_fgl_dn_0: 1.1834 (1.1881)  loss_ddf_dn_0: 0.9526 (0.9417)  loss_mal_dn_1: 0.7866 (0.7873)  loss_bbox_dn_1: 0.2908 (0.2822)  loss_giou_dn_1: 0.5702 (0.5677)  loss_fgl_dn_1: 1.1475 (1.1559)  loss_ddf_dn_1: 0.0813 (0.0825)  loss_mal_dn_2: 0.7773 (0.7763)  loss_bbox_dn_2: 0.2563 (0.2630)  loss_giou_dn_2: 0.5296 (0.5319)  loss_fgl_dn_2: 1.1444 (1.1537)  loss_mal_dn_pre: 0.7817 (0.7826)  loss_bbox_dn_pre: 0.3827 (0.3816)  loss_giou_dn_pre: 0.7732 (0.7657)  time: 0.4783  data: 0.1075  max mem: 10586\n",
      "Epoch: [106] Total time: 0:00:07 (0.4820 s / it)\n",
      "Averaged stats: lr: 0.000129  loss: 24.1396 (24.1234)  loss_mal: 0.9927 (0.9931)  loss_bbox: 0.1936 (0.1928)  loss_giou: 0.4279 (0.4247)  loss_fgl: 1.2091 (1.2077)  loss_mal_aux_0: 1.0303 (1.0367)  loss_bbox_aux_0: 0.2148 (0.2176)  loss_giou_aux_0: 0.4693 (0.4650)  loss_fgl_aux_0: 1.2408 (1.2394)  loss_ddf_aux_0: 0.1717 (0.1847)  loss_mal_aux_1: 1.0010 (0.9981)  loss_bbox_aux_1: 0.1964 (0.1953)  loss_giou_aux_1: 0.4329 (0.4277)  loss_fgl_aux_1: 1.2117 (1.2103)  loss_ddf_aux_1: 0.0124 (0.0120)  loss_mal_pre: 1.0205 (1.0354)  loss_bbox_pre: 0.2141 (0.2161)  loss_giou_pre: 0.4665 (0.4627)  loss_mal_enc_0: 1.1396 (1.1482)  loss_bbox_enc_0: 0.3035 (0.2946)  loss_giou_enc_0: 0.5750 (0.5750)  loss_mal_dn_0: 0.7817 (0.7831)  loss_bbox_dn_0: 0.3730 (0.3773)  loss_giou_dn_0: 0.7675 (0.7655)  loss_fgl_dn_0: 1.1834 (1.1881)  loss_ddf_dn_0: 0.9526 (0.9417)  loss_mal_dn_1: 0.7866 (0.7873)  loss_bbox_dn_1: 0.2908 (0.2822)  loss_giou_dn_1: 0.5702 (0.5677)  loss_fgl_dn_1: 1.1475 (1.1559)  loss_ddf_dn_1: 0.0813 (0.0825)  loss_mal_dn_2: 0.7773 (0.7763)  loss_bbox_dn_2: 0.2563 (0.2630)  loss_giou_dn_2: 0.5296 (0.5319)  loss_fgl_dn_2: 1.1444 (1.1537)  loss_mal_dn_pre: 0.7817 (0.7826)  loss_bbox_dn_pre: 0.3827 (0.3816)  loss_giou_dn_pre: 0.7732 (0.7657)\n",
      "Test:  [0/5]  eta: 0:00:03    time: 0.7230  data: 0.6124  max mem: 10586\n"
     ]
    },
    {
     "name": "stderr",
     "output_type": "stream",
     "text": [
      "2025-03-10 15:07:54,294 - DEIMTrainer - INFO - Epoch 106 - Train loss: 24.1234, Eval mAP: 0.5619\n",
      "2025-03-10 15:07:54,295 - DEIMTrainer - INFO - Best stats: {'epoch': 105, 'coco_eval_bbox': 0.5860598658090325}\n"
     ]
    },
    {
     "name": "stdout",
     "output_type": "stream",
     "text": [
      "Test:  [4/5]  eta: 0:00:00    time: 0.2656  data: 0.1339  max mem: 10586\n",
      "Test: Total time: 0:00:01 (0.2767 s / it)\n",
      "Averaged stats: \n",
      "Accumulating evaluation results...\n",
      "COCOeval_opt.accumulate() finished...\n",
      "DONE (t=0.02s).\n",
      "IoU metric: bbox\n",
      " Average Precision  (AP) @[ IoU=0.50:0.95 | area=   all | maxDets=100 ] = 0.562\n",
      " Average Precision  (AP) @[ IoU=0.50      | area=   all | maxDets=100 ] = 0.803\n",
      " Average Precision  (AP) @[ IoU=0.75      | area=   all | maxDets=100 ] = 0.659\n",
      " Average Precision  (AP) @[ IoU=0.50:0.95 | area= small | maxDets=100 ] = 0.416\n",
      " Average Precision  (AP) @[ IoU=0.50:0.95 | area=medium | maxDets=100 ] = 0.588\n",
      " Average Precision  (AP) @[ IoU=0.50:0.95 | area= large | maxDets=100 ] = 0.447\n",
      " Average Recall     (AR) @[ IoU=0.50:0.95 | area=   all | maxDets=  1 ] = 0.385\n",
      " Average Recall     (AR) @[ IoU=0.50:0.95 | area=   all | maxDets= 10 ] = 0.661\n",
      " Average Recall     (AR) @[ IoU=0.50:0.95 | area=   all | maxDets=100 ] = 0.774\n",
      " Average Recall     (AR) @[ IoU=0.50:0.95 | area= small | maxDets=100 ] = 0.660\n",
      " Average Recall     (AR) @[ IoU=0.50:0.95 | area=medium | maxDets=100 ] = 0.770\n",
      " Average Recall     (AR) @[ IoU=0.50:0.95 | area= large | maxDets=100 ] = 0.785\n",
      " Average Recall     (AR) @[ IoU=0.50      | area=   all | maxDets=100 ] = 1.000\n",
      " Average Recall     (AR) @[ IoU=0.75      | area=   all | maxDets=100 ] = 0.921\n",
      "================================================\n",
      "{'coco_eval_bbox': [0.5619083090099719, 0.8031831222180928, 0.6593338171047761, 0.41575105271904034, 0.5876690971881485, 0.4469949029255408, 0.38451309898678315, 0.6612206263522054, 0.7741822504980399, 0.6599999999999999, 0.7696130952380954, 0.7854696808300786]}\n",
      "================================================\n",
      "Epoch: [107]  [ 0/15]  eta: 0:00:21  lr: 0.000129  loss: 25.0478 (25.0478)  loss_mal: 1.0898 (1.0898)  loss_bbox: 0.2194 (0.2194)  loss_giou: 0.3889 (0.3889)  loss_fgl: 1.2079 (1.2079)  loss_mal_aux_0: 1.1084 (1.1084)  loss_bbox_aux_0: 0.2544 (0.2544)  loss_giou_aux_0: 0.4352 (0.4352)  loss_fgl_aux_0: 1.2485 (1.2485)  loss_ddf_aux_0: 0.2212 (0.2212)  loss_mal_aux_1: 1.0938 (1.0938)  loss_bbox_aux_1: 0.2178 (0.2178)  loss_giou_aux_1: 0.3911 (0.3911)  loss_fgl_aux_1: 1.2076 (1.2076)  loss_ddf_aux_1: 0.0127 (0.0127)  loss_mal_pre: 1.1094 (1.1094)  loss_bbox_pre: 0.2547 (0.2547)  loss_giou_pre: 0.4361 (0.4361)  loss_mal_enc_0: 1.2822 (1.2822)  loss_bbox_enc_0: 0.3604 (0.3604)  loss_giou_enc_0: 0.5587 (0.5587)  loss_mal_dn_0: 0.7725 (0.7725)  loss_bbox_dn_0: 0.4884 (0.4884)  loss_giou_dn_0: 0.7831 (0.7831)  loss_fgl_dn_0: 1.2092 (1.2092)  loss_ddf_dn_0: 0.8832 (0.8832)  loss_mal_dn_1: 0.7847 (0.7847)  loss_bbox_dn_1: 0.3585 (0.3585)  loss_giou_dn_1: 0.5712 (0.5712)  loss_fgl_dn_1: 1.1679 (1.1679)  loss_ddf_dn_1: 0.0744 (0.0744)  loss_mal_dn_2: 0.7915 (0.7915)  loss_bbox_dn_2: 0.3336 (0.3336)  loss_giou_dn_2: 0.5392 (0.5392)  loss_fgl_dn_2: 1.1641 (1.1641)  loss_mal_dn_pre: 0.7734 (0.7734)  loss_bbox_dn_pre: 0.4845 (0.4845)  loss_giou_dn_pre: 0.7701 (0.7701)  time: 1.4190  data: 0.9671  max mem: 10586\n"
     ]
    },
    {
     "name": "stderr",
     "output_type": "stream",
     "text": [
      "2025-03-10 15:08:01,184 - DEIMTrainer - INFO - Saving checkpoint to outputs/deim_hgnetv2_s_coco/checkpoint0107.pth\n"
     ]
    },
    {
     "name": "stdout",
     "output_type": "stream",
     "text": [
      "Epoch: [107]  [14/15]  eta: 0:00:00  lr: 0.000131  loss: 24.2696 (24.3551)  loss_mal: 0.9922 (0.9965)  loss_bbox: 0.2221 (0.2243)  loss_giou: 0.4159 (0.4231)  loss_fgl: 1.2080 (1.2097)  loss_mal_aux_0: 1.0488 (1.0367)  loss_bbox_aux_0: 0.2459 (0.2443)  loss_giou_aux_0: 0.4626 (0.4609)  loss_fgl_aux_0: 1.2390 (1.2383)  loss_ddf_aux_0: 0.1583 (0.1596)  loss_mal_aux_1: 1.0098 (1.0136)  loss_bbox_aux_1: 0.2278 (0.2255)  loss_giou_aux_1: 0.4152 (0.4261)  loss_fgl_aux_1: 1.2131 (1.2122)  loss_ddf_aux_1: 0.0104 (0.0105)  loss_mal_pre: 1.0371 (1.0361)  loss_bbox_pre: 0.2422 (0.2432)  loss_giou_pre: 0.4594 (0.4595)  loss_mal_enc_0: 1.1309 (1.1618)  loss_bbox_enc_0: 0.3116 (0.3129)  loss_giou_enc_0: 0.5690 (0.5554)  loss_mal_dn_0: 0.7812 (0.7824)  loss_bbox_dn_0: 0.4064 (0.4141)  loss_giou_dn_0: 0.7524 (0.7541)  loss_fgl_dn_0: 1.1974 (1.1992)  loss_ddf_dn_0: 0.9261 (0.9199)  loss_mal_dn_1: 0.7861 (0.7932)  loss_bbox_dn_1: 0.3220 (0.3175)  loss_giou_dn_1: 0.5609 (0.5661)  loss_fgl_dn_1: 1.1618 (1.1638)  loss_ddf_dn_1: 0.0769 (0.0769)  loss_mal_dn_2: 0.7803 (0.7799)  loss_bbox_dn_2: 0.3059 (0.2952)  loss_giou_dn_2: 0.5155 (0.5299)  loss_fgl_dn_2: 1.1629 (1.1612)  loss_mal_dn_pre: 0.7808 (0.7819)  loss_bbox_dn_pre: 0.4099 (0.4170)  loss_giou_dn_pre: 0.7551 (0.7524)  time: 0.4536  data: 0.0833  max mem: 10586\n",
      "Epoch: [107] Total time: 0:00:06 (0.4581 s / it)\n",
      "Averaged stats: lr: 0.000131  loss: 24.2696 (24.3551)  loss_mal: 0.9922 (0.9965)  loss_bbox: 0.2221 (0.2243)  loss_giou: 0.4159 (0.4231)  loss_fgl: 1.2080 (1.2097)  loss_mal_aux_0: 1.0488 (1.0367)  loss_bbox_aux_0: 0.2459 (0.2443)  loss_giou_aux_0: 0.4626 (0.4609)  loss_fgl_aux_0: 1.2390 (1.2383)  loss_ddf_aux_0: 0.1583 (0.1596)  loss_mal_aux_1: 1.0098 (1.0136)  loss_bbox_aux_1: 0.2278 (0.2255)  loss_giou_aux_1: 0.4152 (0.4261)  loss_fgl_aux_1: 1.2131 (1.2122)  loss_ddf_aux_1: 0.0104 (0.0105)  loss_mal_pre: 1.0371 (1.0361)  loss_bbox_pre: 0.2422 (0.2432)  loss_giou_pre: 0.4594 (0.4595)  loss_mal_enc_0: 1.1309 (1.1618)  loss_bbox_enc_0: 0.3116 (0.3129)  loss_giou_enc_0: 0.5690 (0.5554)  loss_mal_dn_0: 0.7812 (0.7824)  loss_bbox_dn_0: 0.4064 (0.4141)  loss_giou_dn_0: 0.7524 (0.7541)  loss_fgl_dn_0: 1.1974 (1.1992)  loss_ddf_dn_0: 0.9261 (0.9199)  loss_mal_dn_1: 0.7861 (0.7932)  loss_bbox_dn_1: 0.3220 (0.3175)  loss_giou_dn_1: 0.5609 (0.5661)  loss_fgl_dn_1: 1.1618 (1.1638)  loss_ddf_dn_1: 0.0769 (0.0769)  loss_mal_dn_2: 0.7803 (0.7799)  loss_bbox_dn_2: 0.3059 (0.2952)  loss_giou_dn_2: 0.5155 (0.5299)  loss_fgl_dn_2: 1.1629 (1.1612)  loss_mal_dn_pre: 0.7808 (0.7819)  loss_bbox_dn_pre: 0.4099 (0.4170)  loss_giou_dn_pre: 0.7551 (0.7524)\n"
     ]
    },
    {
     "name": "stderr",
     "output_type": "stream",
     "text": [
      "2025-03-10 15:08:01,438 - DEIMTrainer - INFO - Checkpoint saved to outputs/deim_hgnetv2_s_coco/checkpoint0107.pth\n",
      "2025-03-10 15:08:01,439 - DEIMTrainer - INFO - Evaluating model...\n"
     ]
    },
    {
     "name": "stdout",
     "output_type": "stream",
     "text": [
      "Test:  [0/5]  eta: 0:00:03    time: 0.6773  data: 0.5504  max mem: 10586\n"
     ]
    },
    {
     "name": "stderr",
     "output_type": "stream",
     "text": [
      "2025-03-10 15:08:02,857 - DEIMTrainer - INFO - Epoch 107 - Train loss: 24.3551, Eval mAP: 0.5637\n",
      "2025-03-10 15:08:02,858 - DEIMTrainer - INFO - Best stats: {'epoch': 105, 'coco_eval_bbox': 0.5860598658090325}\n"
     ]
    },
    {
     "name": "stdout",
     "output_type": "stream",
     "text": [
      "Test:  [4/5]  eta: 0:00:00    time: 0.2661  data: 0.1290  max mem: 10586\n",
      "Test: Total time: 0:00:01 (0.2764 s / it)\n",
      "Averaged stats: \n",
      "Accumulating evaluation results...\n",
      "COCOeval_opt.accumulate() finished...\n",
      "DONE (t=0.02s).\n",
      "IoU metric: bbox\n",
      " Average Precision  (AP) @[ IoU=0.50:0.95 | area=   all | maxDets=100 ] = 0.564\n",
      " Average Precision  (AP) @[ IoU=0.50      | area=   all | maxDets=100 ] = 0.815\n",
      " Average Precision  (AP) @[ IoU=0.75      | area=   all | maxDets=100 ] = 0.636\n",
      " Average Precision  (AP) @[ IoU=0.50:0.95 | area= small | maxDets=100 ] = 0.257\n",
      " Average Precision  (AP) @[ IoU=0.50:0.95 | area=medium | maxDets=100 ] = 0.560\n",
      " Average Precision  (AP) @[ IoU=0.50:0.95 | area= large | maxDets=100 ] = 0.446\n",
      " Average Recall     (AR) @[ IoU=0.50:0.95 | area=   all | maxDets=  1 ] = 0.389\n",
      " Average Recall     (AR) @[ IoU=0.50:0.95 | area=   all | maxDets= 10 ] = 0.646\n",
      " Average Recall     (AR) @[ IoU=0.50:0.95 | area=   all | maxDets=100 ] = 0.758\n",
      " Average Recall     (AR) @[ IoU=0.50:0.95 | area= small | maxDets=100 ] = 0.600\n",
      " Average Recall     (AR) @[ IoU=0.50:0.95 | area=medium | maxDets=100 ] = 0.732\n",
      " Average Recall     (AR) @[ IoU=0.50:0.95 | area= large | maxDets=100 ] = 0.778\n",
      " Average Recall     (AR) @[ IoU=0.50      | area=   all | maxDets=100 ] = 0.995\n",
      " Average Recall     (AR) @[ IoU=0.75      | area=   all | maxDets=100 ] = 0.890\n",
      "================================================\n",
      "{'coco_eval_bbox': [0.5636533919698199, 0.8148575230272793, 0.6358725049759405, 0.2571805909646669, 0.5597387271688967, 0.44606957490132093, 0.3894265578476105, 0.6461423323265428, 0.7579354368828054, 0.6, 0.7324702380952383, 0.7779255927723201]}\n",
      "================================================\n",
      "Epoch: [108]  [ 0/15]  eta: 0:00:25  lr: 0.000131  loss: 23.7636 (23.7636)  loss_mal: 1.0029 (1.0029)  loss_bbox: 0.1665 (0.1665)  loss_giou: 0.4097 (0.4097)  loss_fgl: 1.2160 (1.2160)  loss_mal_aux_0: 1.1240 (1.1240)  loss_bbox_aux_0: 0.1729 (0.1729)  loss_giou_aux_0: 0.4293 (0.4293)  loss_fgl_aux_0: 1.2311 (1.2311)  loss_ddf_aux_0: 0.1299 (0.1299)  loss_mal_aux_1: 0.9985 (0.9985)  loss_bbox_aux_1: 0.1668 (0.1668)  loss_giou_aux_1: 0.4116 (0.4116)  loss_fgl_aux_1: 1.2182 (1.2182)  loss_ddf_aux_1: 0.0085 (0.0085)  loss_mal_pre: 1.1221 (1.1221)  loss_bbox_pre: 0.1728 (0.1728)  loss_giou_pre: 0.4298 (0.4298)  loss_mal_enc_0: 1.1172 (1.1172)  loss_bbox_enc_0: 0.2095 (0.2095)  loss_giou_enc_0: 0.4900 (0.4900)  loss_mal_dn_0: 0.7822 (0.7822)  loss_bbox_dn_0: 0.3321 (0.3321)  loss_giou_dn_0: 0.7663 (0.7663)  loss_fgl_dn_0: 1.2103 (1.2103)  loss_ddf_dn_0: 1.0443 (1.0443)  loss_mal_dn_1: 0.7969 (0.7969)  loss_bbox_dn_1: 0.2363 (0.2363)  loss_giou_dn_1: 0.5505 (0.5505)  loss_fgl_dn_1: 1.1763 (1.1763)  loss_ddf_dn_1: 0.0833 (0.0833)  loss_mal_dn_2: 0.7900 (0.7900)  loss_bbox_dn_2: 0.2172 (0.2172)  loss_giou_dn_2: 0.5087 (0.5087)  loss_fgl_dn_2: 1.1756 (1.1756)  loss_mal_dn_pre: 0.7837 (0.7837)  loss_bbox_dn_pre: 0.3304 (0.3304)  loss_giou_dn_pre: 0.7521 (0.7521)  time: 1.6811  data: 1.1476  max mem: 10586\n"
     ]
    },
    {
     "name": "stderr",
     "output_type": "stream",
     "text": [
      "2025-03-10 15:08:09,892 - DEIMTrainer - INFO - Evaluating model...\n"
     ]
    },
    {
     "name": "stdout",
     "output_type": "stream",
     "text": [
      "Epoch: [108]  [14/15]  eta: 0:00:00  lr: 0.000133  loss: 24.0044 (24.1184)  loss_mal: 0.9917 (1.0104)  loss_bbox: 0.2099 (0.2138)  loss_giou: 0.4138 (0.4206)  loss_fgl: 1.2089 (1.2075)  loss_mal_aux_0: 1.0371 (1.0569)  loss_bbox_aux_0: 0.2250 (0.2332)  loss_giou_aux_0: 0.4620 (0.4644)  loss_fgl_aux_0: 1.2399 (1.2385)  loss_ddf_aux_0: 0.1599 (0.1571)  loss_mal_aux_1: 1.0029 (1.0280)  loss_bbox_aux_1: 0.2118 (0.2153)  loss_giou_aux_1: 0.4154 (0.4254)  loss_fgl_aux_1: 1.2155 (1.2117)  loss_ddf_aux_1: 0.0108 (0.0107)  loss_mal_pre: 1.0342 (1.0535)  loss_bbox_pre: 0.2238 (0.2323)  loss_giou_pre: 0.4569 (0.4626)  loss_mal_enc_0: 1.1172 (1.1481)  loss_bbox_enc_0: 0.2889 (0.3000)  loss_giou_enc_0: 0.5505 (0.5538)  loss_mal_dn_0: 0.7734 (0.7772)  loss_bbox_dn_0: 0.3908 (0.3971)  loss_giou_dn_0: 0.7402 (0.7421)  loss_fgl_dn_0: 1.1944 (1.1928)  loss_ddf_dn_0: 0.8702 (0.8576)  loss_mal_dn_1: 0.7759 (0.7751)  loss_bbox_dn_1: 0.3061 (0.3018)  loss_giou_dn_1: 0.5505 (0.5552)  loss_fgl_dn_1: 1.1596 (1.1600)  loss_ddf_dn_1: 0.0727 (0.0717)  loss_mal_dn_2: 0.7700 (0.7706)  loss_bbox_dn_2: 0.2827 (0.2817)  loss_giou_dn_2: 0.5189 (0.5175)  loss_fgl_dn_2: 1.1573 (1.1561)  loss_mal_dn_pre: 0.7739 (0.7775)  loss_bbox_dn_pre: 0.3937 (0.4012)  loss_giou_dn_pre: 0.7394 (0.7396)  time: 0.4642  data: 0.0959  max mem: 10586\n",
      "Epoch: [108] Total time: 0:00:07 (0.4678 s / it)\n",
      "Averaged stats: lr: 0.000133  loss: 24.0044 (24.1184)  loss_mal: 0.9917 (1.0104)  loss_bbox: 0.2099 (0.2138)  loss_giou: 0.4138 (0.4206)  loss_fgl: 1.2089 (1.2075)  loss_mal_aux_0: 1.0371 (1.0569)  loss_bbox_aux_0: 0.2250 (0.2332)  loss_giou_aux_0: 0.4620 (0.4644)  loss_fgl_aux_0: 1.2399 (1.2385)  loss_ddf_aux_0: 0.1599 (0.1571)  loss_mal_aux_1: 1.0029 (1.0280)  loss_bbox_aux_1: 0.2118 (0.2153)  loss_giou_aux_1: 0.4154 (0.4254)  loss_fgl_aux_1: 1.2155 (1.2117)  loss_ddf_aux_1: 0.0108 (0.0107)  loss_mal_pre: 1.0342 (1.0535)  loss_bbox_pre: 0.2238 (0.2323)  loss_giou_pre: 0.4569 (0.4626)  loss_mal_enc_0: 1.1172 (1.1481)  loss_bbox_enc_0: 0.2889 (0.3000)  loss_giou_enc_0: 0.5505 (0.5538)  loss_mal_dn_0: 0.7734 (0.7772)  loss_bbox_dn_0: 0.3908 (0.3971)  loss_giou_dn_0: 0.7402 (0.7421)  loss_fgl_dn_0: 1.1944 (1.1928)  loss_ddf_dn_0: 0.8702 (0.8576)  loss_mal_dn_1: 0.7759 (0.7751)  loss_bbox_dn_1: 0.3061 (0.3018)  loss_giou_dn_1: 0.5505 (0.5552)  loss_fgl_dn_1: 1.1596 (1.1600)  loss_ddf_dn_1: 0.0727 (0.0717)  loss_mal_dn_2: 0.7700 (0.7706)  loss_bbox_dn_2: 0.2827 (0.2817)  loss_giou_dn_2: 0.5189 (0.5175)  loss_fgl_dn_2: 1.1573 (1.1561)  loss_mal_dn_pre: 0.7739 (0.7775)  loss_bbox_dn_pre: 0.3937 (0.4012)  loss_giou_dn_pre: 0.7394 (0.7396)\n",
      "Test:  [0/5]  eta: 0:00:03    time: 0.7215  data: 0.6080  max mem: 10586\n"
     ]
    },
    {
     "name": "stderr",
     "output_type": "stream",
     "text": [
      "2025-03-10 15:08:11,309 - DEIMTrainer - INFO - Saving checkpoint to outputs/deim_hgnetv2_s_coco/best.pth\n"
     ]
    },
    {
     "name": "stdout",
     "output_type": "stream",
     "text": [
      "Test:  [4/5]  eta: 0:00:00    time: 0.2661  data: 0.1329  max mem: 10586\n",
      "Test: Total time: 0:00:01 (0.2780 s / it)\n",
      "Averaged stats: \n",
      "Accumulating evaluation results...\n",
      "COCOeval_opt.accumulate() finished...\n",
      "DONE (t=0.02s).\n",
      "IoU metric: bbox\n",
      " Average Precision  (AP) @[ IoU=0.50:0.95 | area=   all | maxDets=100 ] = 0.592\n",
      " Average Precision  (AP) @[ IoU=0.50      | area=   all | maxDets=100 ] = 0.841\n",
      " Average Precision  (AP) @[ IoU=0.75      | area=   all | maxDets=100 ] = 0.683\n",
      " Average Precision  (AP) @[ IoU=0.50:0.95 | area= small | maxDets=100 ] = 0.369\n",
      " Average Precision  (AP) @[ IoU=0.50:0.95 | area=medium | maxDets=100 ] = 0.610\n",
      " Average Precision  (AP) @[ IoU=0.50:0.95 | area= large | maxDets=100 ] = 0.461\n",
      " Average Recall     (AR) @[ IoU=0.50:0.95 | area=   all | maxDets=  1 ] = 0.403\n",
      " Average Recall     (AR) @[ IoU=0.50:0.95 | area=   all | maxDets= 10 ] = 0.667\n",
      " Average Recall     (AR) @[ IoU=0.50:0.95 | area=   all | maxDets=100 ] = 0.777\n",
      " Average Recall     (AR) @[ IoU=0.50:0.95 | area= small | maxDets=100 ] = 0.680\n",
      " Average Recall     (AR) @[ IoU=0.50:0.95 | area=medium | maxDets=100 ] = 0.779\n",
      " Average Recall     (AR) @[ IoU=0.50:0.95 | area= large | maxDets=100 ] = 0.814\n",
      " Average Recall     (AR) @[ IoU=0.50      | area=   all | maxDets=100 ] = 0.999\n",
      " Average Recall     (AR) @[ IoU=0.75      | area=   all | maxDets=100 ] = 0.929\n",
      "================================================\n",
      "{'coco_eval_bbox': [0.5920470208299685, 0.8408600407728185, 0.6830302516727618, 0.368649726666847, 0.6098393370536562, 0.46137141902385836, 0.4027804554120344, 0.6667512799091746, 0.7773180279759228, 0.6799999999999999, 0.7789583333333332, 0.8139614155521363]}\n",
      "================================================\n"
     ]
    },
    {
     "name": "stderr",
     "output_type": "stream",
     "text": [
      "2025-03-10 15:08:11,692 - DEIMTrainer - INFO - Checkpoint saved to outputs/deim_hgnetv2_s_coco/best.pth\n",
      "2025-03-10 15:08:11,695 - DEIMTrainer - INFO - Epoch 108 - Train loss: 24.1184, Eval mAP: 0.5920\n",
      "2025-03-10 15:08:11,696 - DEIMTrainer - INFO - Best stats: {'epoch': 108, 'coco_eval_bbox': 0.5920470208299685}\n"
     ]
    },
    {
     "name": "stdout",
     "output_type": "stream",
     "text": [
      "Epoch: [109]  [ 0/15]  eta: 0:00:26  lr: 0.000134  loss: 23.2139 (23.2139)  loss_mal: 0.9692 (0.9692)  loss_bbox: 0.1591 (0.1591)  loss_giou: 0.4011 (0.4011)  loss_fgl: 1.1987 (1.1987)  loss_mal_aux_0: 0.9766 (0.9766)  loss_bbox_aux_0: 0.1778 (0.1778)  loss_giou_aux_0: 0.4544 (0.4544)  loss_fgl_aux_0: 1.2325 (1.2325)  loss_ddf_aux_0: 0.1582 (0.1582)  loss_mal_aux_1: 0.9478 (0.9478)  loss_bbox_aux_1: 0.1578 (0.1578)  loss_giou_aux_1: 0.4045 (0.4045)  loss_fgl_aux_1: 1.2025 (1.2025)  loss_ddf_aux_1: 0.0107 (0.0107)  loss_mal_pre: 0.9746 (0.9746)  loss_bbox_pre: 0.1754 (0.1754)  loss_giou_pre: 0.4477 (0.4477)  loss_mal_enc_0: 1.0840 (1.0840)  loss_bbox_enc_0: 0.2106 (0.2106)  loss_giou_enc_0: 0.5029 (0.5029)  loss_mal_dn_0: 0.7935 (0.7935)  loss_bbox_dn_0: 0.3005 (0.3005)  loss_giou_dn_0: 0.7356 (0.7356)  loss_fgl_dn_0: 1.1936 (1.1936)  loss_ddf_dn_0: 1.0061 (1.0061)  loss_mal_dn_1: 0.7983 (0.7983)  loss_bbox_dn_1: 0.2227 (0.2227)  loss_giou_dn_1: 0.5398 (0.5398)  loss_fgl_dn_1: 1.1613 (1.1613)  loss_ddf_dn_1: 0.0879 (0.0879)  loss_mal_dn_2: 0.8228 (0.8228)  loss_bbox_dn_2: 0.2121 (0.2121)  loss_giou_dn_2: 0.5058 (0.5058)  loss_fgl_dn_2: 1.1608 (1.1608)  loss_mal_dn_pre: 0.7935 (0.7935)  loss_bbox_dn_pre: 0.3008 (0.3008)  loss_giou_dn_pre: 0.7327 (0.7327)  time: 1.7843  data: 1.3307  max mem: 10586\n"
     ]
    },
    {
     "name": "stderr",
     "output_type": "stream",
     "text": [
      "2025-03-10 15:08:18,878 - DEIMTrainer - INFO - Evaluating model...\n"
     ]
    },
    {
     "name": "stdout",
     "output_type": "stream",
     "text": [
      "Epoch: [109]  [14/15]  eta: 0:00:00  lr: 0.000136  loss: 24.2995 (24.1319)  loss_mal: 0.9790 (1.0154)  loss_bbox: 0.1952 (0.2005)  loss_giou: 0.4011 (0.4085)  loss_fgl: 1.2037 (1.2032)  loss_mal_aux_0: 1.0264 (1.0375)  loss_bbox_aux_0: 0.2154 (0.2270)  loss_giou_aux_0: 0.4334 (0.4494)  loss_fgl_aux_0: 1.2392 (1.2382)  loss_ddf_aux_0: 0.2034 (0.1957)  loss_mal_aux_1: 1.0049 (1.0286)  loss_bbox_aux_1: 0.1998 (0.2028)  loss_giou_aux_1: 0.4031 (0.4106)  loss_fgl_aux_1: 1.2040 (1.2046)  loss_ddf_aux_1: 0.0124 (0.0128)  loss_mal_pre: 1.0186 (1.0361)  loss_bbox_pre: 0.2125 (0.2254)  loss_giou_pre: 0.4272 (0.4466)  loss_mal_enc_0: 1.1602 (1.1605)  loss_bbox_enc_0: 0.2967 (0.3081)  loss_giou_enc_0: 0.5540 (0.5621)  loss_mal_dn_0: 0.7769 (0.7773)  loss_bbox_dn_0: 0.3923 (0.3899)  loss_giou_dn_0: 0.7356 (0.7425)  loss_fgl_dn_0: 1.2004 (1.2063)  loss_ddf_dn_0: 0.9395 (0.9508)  loss_mal_dn_1: 0.7812 (0.7857)  loss_bbox_dn_1: 0.2938 (0.2921)  loss_giou_dn_1: 0.5358 (0.5493)  loss_fgl_dn_1: 1.1613 (1.1578)  loss_ddf_dn_1: 0.0843 (0.0806)  loss_mal_dn_2: 0.7773 (0.7751)  loss_bbox_dn_2: 0.2702 (0.2721)  loss_giou_dn_2: 0.5015 (0.5131)  loss_fgl_dn_2: 1.1538 (1.1555)  loss_mal_dn_pre: 0.7764 (0.7774)  loss_bbox_dn_pre: 0.4010 (0.3921)  loss_giou_dn_pre: 0.7327 (0.7406)  time: 0.4729  data: 0.1033  max mem: 10586\n",
      "Epoch: [109] Total time: 0:00:07 (0.4774 s / it)\n",
      "Averaged stats: lr: 0.000136  loss: 24.2995 (24.1319)  loss_mal: 0.9790 (1.0154)  loss_bbox: 0.1952 (0.2005)  loss_giou: 0.4011 (0.4085)  loss_fgl: 1.2037 (1.2032)  loss_mal_aux_0: 1.0264 (1.0375)  loss_bbox_aux_0: 0.2154 (0.2270)  loss_giou_aux_0: 0.4334 (0.4494)  loss_fgl_aux_0: 1.2392 (1.2382)  loss_ddf_aux_0: 0.2034 (0.1957)  loss_mal_aux_1: 1.0049 (1.0286)  loss_bbox_aux_1: 0.1998 (0.2028)  loss_giou_aux_1: 0.4031 (0.4106)  loss_fgl_aux_1: 1.2040 (1.2046)  loss_ddf_aux_1: 0.0124 (0.0128)  loss_mal_pre: 1.0186 (1.0361)  loss_bbox_pre: 0.2125 (0.2254)  loss_giou_pre: 0.4272 (0.4466)  loss_mal_enc_0: 1.1602 (1.1605)  loss_bbox_enc_0: 0.2967 (0.3081)  loss_giou_enc_0: 0.5540 (0.5621)  loss_mal_dn_0: 0.7769 (0.7773)  loss_bbox_dn_0: 0.3923 (0.3899)  loss_giou_dn_0: 0.7356 (0.7425)  loss_fgl_dn_0: 1.2004 (1.2063)  loss_ddf_dn_0: 0.9395 (0.9508)  loss_mal_dn_1: 0.7812 (0.7857)  loss_bbox_dn_1: 0.2938 (0.2921)  loss_giou_dn_1: 0.5358 (0.5493)  loss_fgl_dn_1: 1.1613 (1.1578)  loss_ddf_dn_1: 0.0843 (0.0806)  loss_mal_dn_2: 0.7773 (0.7751)  loss_bbox_dn_2: 0.2702 (0.2721)  loss_giou_dn_2: 0.5015 (0.5131)  loss_fgl_dn_2: 1.1538 (1.1555)  loss_mal_dn_pre: 0.7764 (0.7774)  loss_bbox_dn_pre: 0.4010 (0.3921)  loss_giou_dn_pre: 0.7327 (0.7406)\n",
      "Test:  [0/5]  eta: 0:00:03    time: 0.6992  data: 0.5871  max mem: 10586\n"
     ]
    },
    {
     "name": "stderr",
     "output_type": "stream",
     "text": [
      "2025-03-10 15:08:20,127 - DEIMTrainer - INFO - Epoch 109 - Train loss: 24.1319, Eval mAP: 0.5793\n",
      "2025-03-10 15:08:20,127 - DEIMTrainer - INFO - Best stats: {'epoch': 108, 'coco_eval_bbox': 0.5920470208299685}\n"
     ]
    },
    {
     "name": "stdout",
     "output_type": "stream",
     "text": [
      "Test:  [4/5]  eta: 0:00:00    time: 0.2331  data: 0.1330  max mem: 10586\n",
      "Test: Total time: 0:00:01 (0.2441 s / it)\n",
      "Averaged stats: \n",
      "Accumulating evaluation results...\n",
      "COCOeval_opt.accumulate() finished...\n",
      "DONE (t=0.02s).\n",
      "IoU metric: bbox\n",
      " Average Precision  (AP) @[ IoU=0.50:0.95 | area=   all | maxDets=100 ] = 0.579\n",
      " Average Precision  (AP) @[ IoU=0.50      | area=   all | maxDets=100 ] = 0.840\n",
      " Average Precision  (AP) @[ IoU=0.75      | area=   all | maxDets=100 ] = 0.658\n",
      " Average Precision  (AP) @[ IoU=0.50:0.95 | area= small | maxDets=100 ] = 0.373\n",
      " Average Precision  (AP) @[ IoU=0.50:0.95 | area=medium | maxDets=100 ] = 0.606\n",
      " Average Precision  (AP) @[ IoU=0.50:0.95 | area= large | maxDets=100 ] = 0.449\n",
      " Average Recall     (AR) @[ IoU=0.50:0.95 | area=   all | maxDets=  1 ] = 0.396\n",
      " Average Recall     (AR) @[ IoU=0.50:0.95 | area=   all | maxDets= 10 ] = 0.648\n",
      " Average Recall     (AR) @[ IoU=0.50:0.95 | area=   all | maxDets=100 ] = 0.761\n",
      " Average Recall     (AR) @[ IoU=0.50:0.95 | area= small | maxDets=100 ] = 0.620\n",
      " Average Recall     (AR) @[ IoU=0.50:0.95 | area=medium | maxDets=100 ] = 0.763\n",
      " Average Recall     (AR) @[ IoU=0.50:0.95 | area= large | maxDets=100 ] = 0.778\n",
      " Average Recall     (AR) @[ IoU=0.50      | area=   all | maxDets=100 ] = 0.999\n",
      " Average Recall     (AR) @[ IoU=0.75      | area=   all | maxDets=100 ] = 0.912\n",
      "================================================\n",
      "{'coco_eval_bbox': [0.5793362407693683, 0.8404140177277785, 0.6579808278039916, 0.37333831650799104, 0.6059175425236821, 0.44921707925652865, 0.3959961334961335, 0.6478632478632477, 0.7606569843411948, 0.62, 0.7626190476190476, 0.7776218092870951]}\n",
      "================================================\n",
      "Epoch: [110]  [ 0/15]  eta: 0:00:32  lr: 0.000136  loss: 23.3142 (23.3142)  loss_mal: 0.9307 (0.9307)  loss_bbox: 0.1618 (0.1618)  loss_giou: 0.4241 (0.4241)  loss_fgl: 1.1948 (1.1948)  loss_mal_aux_0: 1.0039 (1.0039)  loss_bbox_aux_0: 0.1859 (0.1859)  loss_giou_aux_0: 0.4685 (0.4685)  loss_fgl_aux_0: 1.2212 (1.2212)  loss_ddf_aux_0: 0.1941 (0.1941)  loss_mal_aux_1: 0.9326 (0.9326)  loss_bbox_aux_1: 0.1652 (0.1652)  loss_giou_aux_1: 0.4270 (0.4270)  loss_fgl_aux_1: 1.1966 (1.1966)  loss_ddf_aux_1: 0.0104 (0.0104)  loss_mal_pre: 0.9980 (0.9980)  loss_bbox_pre: 0.1810 (0.1810)  loss_giou_pre: 0.4613 (0.4613)  loss_mal_enc_0: 1.0957 (1.0957)  loss_bbox_enc_0: 0.2332 (0.2332)  loss_giou_enc_0: 0.5403 (0.5403)  loss_mal_dn_0: 0.7700 (0.7700)  loss_bbox_dn_0: 0.3438 (0.3438)  loss_giou_dn_0: 0.7579 (0.7579)  loss_fgl_dn_0: 1.1789 (1.1789)  loss_ddf_dn_0: 0.9470 (0.9470)  loss_mal_dn_1: 0.7759 (0.7759)  loss_bbox_dn_1: 0.2418 (0.2418)  loss_giou_dn_1: 0.5465 (0.5465)  loss_fgl_dn_1: 1.1449 (1.1449)  loss_ddf_dn_1: 0.0737 (0.0737)  loss_mal_dn_2: 0.7651 (0.7651)  loss_bbox_dn_2: 0.2279 (0.2279)  loss_giou_dn_2: 0.5147 (0.5147)  loss_fgl_dn_2: 1.1410 (1.1410)  loss_mal_dn_pre: 0.7700 (0.7700)  loss_bbox_dn_pre: 0.3396 (0.3396)  loss_giou_dn_pre: 0.7491 (0.7491)  time: 2.1614  data: 1.5763  max mem: 10586\n"
     ]
    },
    {
     "name": "stderr",
     "output_type": "stream",
     "text": [
      "2025-03-10 15:08:27,994 - DEIMTrainer - INFO - Evaluating model...\n"
     ]
    },
    {
     "name": "stdout",
     "output_type": "stream",
     "text": [
      "Epoch: [110]  [14/15]  eta: 0:00:00  lr: 0.000138  loss: 23.9770 (23.9315)  loss_mal: 1.0059 (1.0156)  loss_bbox: 0.1734 (0.1856)  loss_giou: 0.4241 (0.4224)  loss_fgl: 1.2170 (1.2171)  loss_mal_aux_0: 1.0186 (1.0177)  loss_bbox_aux_0: 0.1994 (0.2071)  loss_giou_aux_0: 0.4561 (0.4647)  loss_fgl_aux_0: 1.2462 (1.2481)  loss_ddf_aux_0: 0.1863 (0.1893)  loss_mal_aux_1: 1.0010 (1.0039)  loss_bbox_aux_1: 0.1787 (0.1888)  loss_giou_aux_1: 0.4270 (0.4269)  loss_fgl_aux_1: 1.2178 (1.2194)  loss_ddf_aux_1: 0.0106 (0.0108)  loss_mal_pre: 1.0176 (1.0176)  loss_bbox_pre: 0.1969 (0.2056)  loss_giou_pre: 0.4584 (0.4624)  loss_mal_enc_0: 1.1328 (1.1226)  loss_bbox_enc_0: 0.2702 (0.2745)  loss_giou_enc_0: 0.5592 (0.5585)  loss_mal_dn_0: 0.7749 (0.7762)  loss_bbox_dn_0: 0.3438 (0.3599)  loss_giou_dn_0: 0.7580 (0.7536)  loss_fgl_dn_0: 1.1925 (1.1951)  loss_ddf_dn_0: 0.9739 (0.9642)  loss_mal_dn_1: 0.7778 (0.7824)  loss_bbox_dn_1: 0.2587 (0.2641)  loss_giou_dn_1: 0.5434 (0.5575)  loss_fgl_dn_1: 1.1547 (1.1550)  loss_ddf_dn_1: 0.0777 (0.0761)  loss_mal_dn_2: 0.7725 (0.7770)  loss_bbox_dn_2: 0.2447 (0.2460)  loss_giou_dn_2: 0.5099 (0.5212)  loss_fgl_dn_2: 1.1478 (1.1531)  loss_mal_dn_pre: 0.7769 (0.7754)  loss_bbox_dn_pre: 0.3514 (0.3615)  loss_giou_dn_pre: 0.7568 (0.7545)  time: 0.5190  data: 0.1242  max mem: 10586\n",
      "Epoch: [110] Total time: 0:00:07 (0.5232 s / it)\n",
      "Averaged stats: lr: 0.000138  loss: 23.9770 (23.9315)  loss_mal: 1.0059 (1.0156)  loss_bbox: 0.1734 (0.1856)  loss_giou: 0.4241 (0.4224)  loss_fgl: 1.2170 (1.2171)  loss_mal_aux_0: 1.0186 (1.0177)  loss_bbox_aux_0: 0.1994 (0.2071)  loss_giou_aux_0: 0.4561 (0.4647)  loss_fgl_aux_0: 1.2462 (1.2481)  loss_ddf_aux_0: 0.1863 (0.1893)  loss_mal_aux_1: 1.0010 (1.0039)  loss_bbox_aux_1: 0.1787 (0.1888)  loss_giou_aux_1: 0.4270 (0.4269)  loss_fgl_aux_1: 1.2178 (1.2194)  loss_ddf_aux_1: 0.0106 (0.0108)  loss_mal_pre: 1.0176 (1.0176)  loss_bbox_pre: 0.1969 (0.2056)  loss_giou_pre: 0.4584 (0.4624)  loss_mal_enc_0: 1.1328 (1.1226)  loss_bbox_enc_0: 0.2702 (0.2745)  loss_giou_enc_0: 0.5592 (0.5585)  loss_mal_dn_0: 0.7749 (0.7762)  loss_bbox_dn_0: 0.3438 (0.3599)  loss_giou_dn_0: 0.7580 (0.7536)  loss_fgl_dn_0: 1.1925 (1.1951)  loss_ddf_dn_0: 0.9739 (0.9642)  loss_mal_dn_1: 0.7778 (0.7824)  loss_bbox_dn_1: 0.2587 (0.2641)  loss_giou_dn_1: 0.5434 (0.5575)  loss_fgl_dn_1: 1.1547 (1.1550)  loss_ddf_dn_1: 0.0777 (0.0761)  loss_mal_dn_2: 0.7725 (0.7770)  loss_bbox_dn_2: 0.2447 (0.2460)  loss_giou_dn_2: 0.5099 (0.5212)  loss_fgl_dn_2: 1.1478 (1.1531)  loss_mal_dn_pre: 0.7769 (0.7754)  loss_bbox_dn_pre: 0.3514 (0.3615)  loss_giou_dn_pre: 0.7568 (0.7545)\n",
      "Test:  [0/5]  eta: 0:00:03    time: 0.6928  data: 0.5753  max mem: 10586\n"
     ]
    },
    {
     "name": "stderr",
     "output_type": "stream",
     "text": [
      "2025-03-10 15:08:29,229 - DEIMTrainer - INFO - Epoch 110 - Train loss: 23.9315, Eval mAP: 0.5914\n",
      "2025-03-10 15:08:29,229 - DEIMTrainer - INFO - Best stats: {'epoch': 108, 'coco_eval_bbox': 0.5920470208299685}\n"
     ]
    },
    {
     "name": "stdout",
     "output_type": "stream",
     "text": [
      "Test:  [4/5]  eta: 0:00:00    time: 0.2300  data: 0.1300  max mem: 10586\n",
      "Test: Total time: 0:00:01 (0.2413 s / it)\n",
      "Averaged stats: \n",
      "Accumulating evaluation results...\n",
      "COCOeval_opt.accumulate() finished...\n",
      "DONE (t=0.02s).\n",
      "IoU metric: bbox\n",
      " Average Precision  (AP) @[ IoU=0.50:0.95 | area=   all | maxDets=100 ] = 0.591\n",
      " Average Precision  (AP) @[ IoU=0.50      | area=   all | maxDets=100 ] = 0.865\n",
      " Average Precision  (AP) @[ IoU=0.75      | area=   all | maxDets=100 ] = 0.695\n",
      " Average Precision  (AP) @[ IoU=0.50:0.95 | area= small | maxDets=100 ] = 0.359\n",
      " Average Precision  (AP) @[ IoU=0.50:0.95 | area=medium | maxDets=100 ] = 0.551\n",
      " Average Precision  (AP) @[ IoU=0.50:0.95 | area= large | maxDets=100 ] = 0.448\n",
      " Average Recall     (AR) @[ IoU=0.50:0.95 | area=   all | maxDets=  1 ] = 0.402\n",
      " Average Recall     (AR) @[ IoU=0.50:0.95 | area=   all | maxDets= 10 ] = 0.654\n",
      " Average Recall     (AR) @[ IoU=0.50:0.95 | area=   all | maxDets=100 ] = 0.760\n",
      " Average Recall     (AR) @[ IoU=0.50:0.95 | area= small | maxDets=100 ] = 0.680\n",
      " Average Recall     (AR) @[ IoU=0.50:0.95 | area=medium | maxDets=100 ] = 0.700\n",
      " Average Recall     (AR) @[ IoU=0.50:0.95 | area= large | maxDets=100 ] = 0.540\n",
      " Average Recall     (AR) @[ IoU=0.50      | area=   all | maxDets=100 ] = 0.995\n",
      " Average Recall     (AR) @[ IoU=0.75      | area=   all | maxDets=100 ] = 0.893\n",
      "================================================\n",
      "{'coco_eval_bbox': [0.5914146561191881, 0.8648544826149723, 0.6949494768621999, 0.3590118931336536, 0.5511553580045064, 0.4480967411080704, 0.4019661868346079, 0.6541894265578474, 0.7596959814065076, 0.68, 0.7002380952380951, 0.5402737996607094]}\n",
      "================================================\n",
      "Epoch: [111]  [ 0/15]  eta: 0:00:21  lr: 0.000139  loss: 24.6441 (24.6441)  loss_mal: 0.9878 (0.9878)  loss_bbox: 0.2376 (0.2376)  loss_giou: 0.4905 (0.4905)  loss_fgl: 1.1686 (1.1686)  loss_mal_aux_0: 1.0127 (1.0127)  loss_bbox_aux_0: 0.2800 (0.2800)  loss_giou_aux_0: 0.5466 (0.5466)  loss_fgl_aux_0: 1.2107 (1.2107)  loss_ddf_aux_0: 0.1739 (0.1739)  loss_mal_aux_1: 1.0156 (1.0156)  loss_bbox_aux_1: 0.2450 (0.2450)  loss_giou_aux_1: 0.5026 (0.5026)  loss_fgl_aux_1: 1.1738 (1.1738)  loss_ddf_aux_1: 0.0109 (0.0109)  loss_mal_pre: 1.0205 (1.0205)  loss_bbox_pre: 0.2756 (0.2756)  loss_giou_pre: 0.5420 (0.5420)  loss_mal_enc_0: 1.0850 (1.0850)  loss_bbox_enc_0: 0.3695 (0.3695)  loss_giou_enc_0: 0.6385 (0.6385)  loss_mal_dn_0: 0.7720 (0.7720)  loss_bbox_dn_0: 0.4418 (0.4418)  loss_giou_dn_0: 0.7824 (0.7824)  loss_fgl_dn_0: 1.1463 (1.1463)  loss_ddf_dn_0: 0.8188 (0.8188)  loss_mal_dn_1: 0.7896 (0.7896)  loss_bbox_dn_1: 0.3217 (0.3217)  loss_giou_dn_1: 0.6135 (0.6135)  loss_fgl_dn_1: 1.1300 (1.1300)  loss_ddf_dn_1: 0.0639 (0.0639)  loss_mal_dn_2: 0.7725 (0.7725)  loss_bbox_dn_2: 0.3004 (0.3004)  loss_giou_dn_2: 0.5773 (0.5773)  loss_fgl_dn_2: 1.1327 (1.1327)  loss_mal_dn_pre: 0.7725 (0.7725)  loss_bbox_dn_pre: 0.4410 (0.4410)  loss_giou_dn_pre: 0.7804 (0.7804)  time: 1.4035  data: 0.9939  max mem: 10586\n"
     ]
    },
    {
     "name": "stderr",
     "output_type": "stream",
     "text": [
      "2025-03-10 15:08:36,304 - DEIMTrainer - INFO - Saving checkpoint to outputs/deim_hgnetv2_s_coco/checkpoint0111.pth\n"
     ]
    },
    {
     "name": "stdout",
     "output_type": "stream",
     "text": [
      "Epoch: [111]  [14/15]  eta: 0:00:00  lr: 0.000141  loss: 24.6441 (24.7269)  loss_mal: 0.9819 (1.0133)  loss_bbox: 0.2273 (0.2242)  loss_giou: 0.4172 (0.4177)  loss_fgl: 1.2190 (1.2137)  loss_mal_aux_0: 1.0059 (1.0510)  loss_bbox_aux_0: 0.2468 (0.2461)  loss_giou_aux_0: 0.4554 (0.4582)  loss_fgl_aux_0: 1.2390 (1.2423)  loss_ddf_aux_0: 0.2178 (0.2216)  loss_mal_aux_1: 0.9971 (1.0339)  loss_bbox_aux_1: 0.2262 (0.2257)  loss_giou_aux_1: 0.4189 (0.4211)  loss_fgl_aux_1: 1.2145 (1.2149)  loss_ddf_aux_1: 0.0119 (0.0124)  loss_mal_pre: 1.0068 (1.0507)  loss_bbox_pre: 0.2446 (0.2444)  loss_giou_pre: 0.4495 (0.4546)  loss_mal_enc_0: 1.1064 (1.1639)  loss_bbox_enc_0: 0.3506 (0.3437)  loss_giou_enc_0: 0.5604 (0.5829)  loss_mal_dn_0: 0.7773 (0.7785)  loss_bbox_dn_0: 0.4418 (0.4400)  loss_giou_dn_0: 0.7867 (0.7741)  loss_fgl_dn_0: 1.2103 (1.2069)  loss_ddf_dn_0: 1.0057 (0.9866)  loss_mal_dn_1: 0.7876 (0.7826)  loss_bbox_dn_1: 0.3226 (0.3352)  loss_giou_dn_1: 0.5544 (0.5762)  loss_fgl_dn_1: 1.1813 (1.1664)  loss_ddf_dn_1: 0.0842 (0.0818)  loss_mal_dn_2: 0.7725 (0.7728)  loss_bbox_dn_2: 0.3040 (0.3100)  loss_giou_dn_2: 0.5179 (0.5354)  loss_fgl_dn_2: 1.1748 (1.1627)  loss_mal_dn_pre: 0.7769 (0.7776)  loss_bbox_dn_pre: 0.4410 (0.4382)  loss_giou_dn_pre: 0.7783 (0.7657)  time: 0.4657  data: 0.0864  max mem: 10586\n",
      "Epoch: [111] Total time: 0:00:07 (0.4705 s / it)\n",
      "Averaged stats: lr: 0.000141  loss: 24.6441 (24.7269)  loss_mal: 0.9819 (1.0133)  loss_bbox: 0.2273 (0.2242)  loss_giou: 0.4172 (0.4177)  loss_fgl: 1.2190 (1.2137)  loss_mal_aux_0: 1.0059 (1.0510)  loss_bbox_aux_0: 0.2468 (0.2461)  loss_giou_aux_0: 0.4554 (0.4582)  loss_fgl_aux_0: 1.2390 (1.2423)  loss_ddf_aux_0: 0.2178 (0.2216)  loss_mal_aux_1: 0.9971 (1.0339)  loss_bbox_aux_1: 0.2262 (0.2257)  loss_giou_aux_1: 0.4189 (0.4211)  loss_fgl_aux_1: 1.2145 (1.2149)  loss_ddf_aux_1: 0.0119 (0.0124)  loss_mal_pre: 1.0068 (1.0507)  loss_bbox_pre: 0.2446 (0.2444)  loss_giou_pre: 0.4495 (0.4546)  loss_mal_enc_0: 1.1064 (1.1639)  loss_bbox_enc_0: 0.3506 (0.3437)  loss_giou_enc_0: 0.5604 (0.5829)  loss_mal_dn_0: 0.7773 (0.7785)  loss_bbox_dn_0: 0.4418 (0.4400)  loss_giou_dn_0: 0.7867 (0.7741)  loss_fgl_dn_0: 1.2103 (1.2069)  loss_ddf_dn_0: 1.0057 (0.9866)  loss_mal_dn_1: 0.7876 (0.7826)  loss_bbox_dn_1: 0.3226 (0.3352)  loss_giou_dn_1: 0.5544 (0.5762)  loss_fgl_dn_1: 1.1813 (1.1664)  loss_ddf_dn_1: 0.0842 (0.0818)  loss_mal_dn_2: 0.7725 (0.7728)  loss_bbox_dn_2: 0.3040 (0.3100)  loss_giou_dn_2: 0.5179 (0.5354)  loss_fgl_dn_2: 1.1748 (1.1627)  loss_mal_dn_pre: 0.7769 (0.7776)  loss_bbox_dn_pre: 0.4410 (0.4382)  loss_giou_dn_pre: 0.7783 (0.7657)\n"
     ]
    },
    {
     "name": "stderr",
     "output_type": "stream",
     "text": [
      "2025-03-10 15:08:36,552 - DEIMTrainer - INFO - Checkpoint saved to outputs/deim_hgnetv2_s_coco/checkpoint0111.pth\n",
      "2025-03-10 15:08:36,553 - DEIMTrainer - INFO - Evaluating model...\n"
     ]
    },
    {
     "name": "stdout",
     "output_type": "stream",
     "text": [
      "Test:  [0/5]  eta: 0:00:03    time: 0.6916  data: 0.5734  max mem: 10586\n"
     ]
    },
    {
     "name": "stderr",
     "output_type": "stream",
     "text": [
      "2025-03-10 15:08:37,819 - DEIMTrainer - INFO - Epoch 111 - Train loss: 24.7269, Eval mAP: 0.5889\n",
      "2025-03-10 15:08:37,819 - DEIMTrainer - INFO - Best stats: {'epoch': 108, 'coco_eval_bbox': 0.5920470208299685}\n"
     ]
    },
    {
     "name": "stdout",
     "output_type": "stream",
     "text": [
      "Test:  [4/5]  eta: 0:00:00    time: 0.2347  data: 0.1329  max mem: 10586\n",
      "Test: Total time: 0:00:01 (0.2466 s / it)\n",
      "Averaged stats: \n",
      "Accumulating evaluation results...\n",
      "COCOeval_opt.accumulate() finished...\n",
      "DONE (t=0.02s).\n",
      "IoU metric: bbox\n",
      " Average Precision  (AP) @[ IoU=0.50:0.95 | area=   all | maxDets=100 ] = 0.589\n",
      " Average Precision  (AP) @[ IoU=0.50      | area=   all | maxDets=100 ] = 0.857\n",
      " Average Precision  (AP) @[ IoU=0.75      | area=   all | maxDets=100 ] = 0.656\n",
      " Average Precision  (AP) @[ IoU=0.50:0.95 | area= small | maxDets=100 ] = 0.252\n",
      " Average Precision  (AP) @[ IoU=0.50:0.95 | area=medium | maxDets=100 ] = 0.607\n",
      " Average Precision  (AP) @[ IoU=0.50:0.95 | area= large | maxDets=100 ] = 0.459\n",
      " Average Recall     (AR) @[ IoU=0.50:0.95 | area=   all | maxDets=  1 ] = 0.401\n",
      " Average Recall     (AR) @[ IoU=0.50:0.95 | area=   all | maxDets= 10 ] = 0.655\n",
      " Average Recall     (AR) @[ IoU=0.50:0.95 | area=   all | maxDets=100 ] = 0.763\n",
      " Average Recall     (AR) @[ IoU=0.50:0.95 | area= small | maxDets=100 ] = 0.640\n",
      " Average Recall     (AR) @[ IoU=0.50:0.95 | area=medium | maxDets=100 ] = 0.779\n",
      " Average Recall     (AR) @[ IoU=0.50:0.95 | area= large | maxDets=100 ] = 0.540\n",
      " Average Recall     (AR) @[ IoU=0.50      | area=   all | maxDets=100 ] = 0.994\n",
      " Average Recall     (AR) @[ IoU=0.75      | area=   all | maxDets=100 ] = 0.904\n",
      "================================================\n",
      "{'coco_eval_bbox': [0.588938878069144, 0.8565540637781879, 0.6564394814831271, 0.25156188056816126, 0.6066301247836159, 0.4592988356044687, 0.4006190690401217, 0.6545584045584045, 0.7628060535955273, 0.64, 0.778779761904762, 0.5403826882865823]}\n",
      "================================================\n",
      "Epoch: [112]  [ 0/15]  eta: 0:00:25  lr: 0.000141  loss: 24.7532 (24.7532)  loss_mal: 1.0479 (1.0479)  loss_bbox: 0.2279 (0.2279)  loss_giou: 0.4550 (0.4550)  loss_fgl: 1.2221 (1.2221)  loss_mal_aux_0: 1.1338 (1.1338)  loss_bbox_aux_0: 0.2411 (0.2411)  loss_giou_aux_0: 0.4892 (0.4892)  loss_fgl_aux_0: 1.2614 (1.2614)  loss_ddf_aux_0: 0.1806 (0.1806)  loss_mal_aux_1: 1.0039 (1.0039)  loss_bbox_aux_1: 0.2270 (0.2270)  loss_giou_aux_1: 0.4557 (0.4557)  loss_fgl_aux_1: 1.2222 (1.2222)  loss_ddf_aux_1: 0.0114 (0.0114)  loss_mal_pre: 1.1309 (1.1309)  loss_bbox_pre: 0.2421 (0.2421)  loss_giou_pre: 0.4899 (0.4899)  loss_mal_enc_0: 1.2217 (1.2217)  loss_bbox_enc_0: 0.3322 (0.3322)  loss_giou_enc_0: 0.6323 (0.6323)  loss_mal_dn_0: 0.7666 (0.7666)  loss_bbox_dn_0: 0.3775 (0.3775)  loss_giou_dn_0: 0.7824 (0.7824)  loss_fgl_dn_0: 1.2141 (1.2141)  loss_ddf_dn_0: 0.8199 (0.8199)  loss_mal_dn_1: 0.7651 (0.7651)  loss_bbox_dn_1: 0.3035 (0.3035)  loss_giou_dn_1: 0.5894 (0.5894)  loss_fgl_dn_1: 1.1591 (1.1591)  loss_ddf_dn_1: 0.0742 (0.0742)  loss_mal_dn_2: 0.7598 (0.7598)  loss_bbox_dn_2: 0.2858 (0.2858)  loss_giou_dn_2: 0.5504 (0.5504)  loss_fgl_dn_2: 1.1518 (1.1518)  loss_mal_dn_pre: 0.7656 (0.7656)  loss_bbox_dn_pre: 0.3786 (0.3786)  loss_giou_dn_pre: 0.7812 (0.7812)  time: 1.6998  data: 1.2155  max mem: 10586\n"
     ]
    },
    {
     "name": "stderr",
     "output_type": "stream",
     "text": [
      "2025-03-10 15:08:45,174 - DEIMTrainer - INFO - Evaluating model...\n"
     ]
    },
    {
     "name": "stdout",
     "output_type": "stream",
     "text": [
      "Epoch: [112]  [14/15]  eta: 0:00:00  lr: 0.000143  loss: 24.2728 (24.2180)  loss_mal: 1.0127 (1.0263)  loss_bbox: 0.2149 (0.2167)  loss_giou: 0.4245 (0.4145)  loss_fgl: 1.2070 (1.2085)  loss_mal_aux_0: 1.0283 (1.0261)  loss_bbox_aux_0: 0.2411 (0.2385)  loss_giou_aux_0: 0.4498 (0.4524)  loss_fgl_aux_0: 1.2446 (1.2406)  loss_ddf_aux_0: 0.1684 (0.1735)  loss_mal_aux_1: 1.0293 (1.0333)  loss_bbox_aux_1: 0.2207 (0.2193)  loss_giou_aux_1: 0.4234 (0.4182)  loss_fgl_aux_1: 1.2101 (1.2101)  loss_ddf_aux_1: 0.0148 (0.0153)  loss_mal_pre: 1.0215 (1.0258)  loss_bbox_pre: 0.2384 (0.2350)  loss_giou_pre: 0.4426 (0.4473)  loss_mal_enc_0: 1.1230 (1.1458)  loss_bbox_enc_0: 0.3151 (0.3141)  loss_giou_enc_0: 0.5535 (0.5596)  loss_mal_dn_0: 0.7759 (0.7806)  loss_bbox_dn_0: 0.4129 (0.3997)  loss_giou_dn_0: 0.7412 (0.7422)  loss_fgl_dn_0: 1.1819 (1.1923)  loss_ddf_dn_0: 0.9511 (0.9523)  loss_mal_dn_1: 0.7773 (0.7802)  loss_bbox_dn_1: 0.3036 (0.3040)  loss_giou_dn_1: 0.5510 (0.5537)  loss_fgl_dn_1: 1.1501 (1.1525)  loss_ddf_dn_1: 0.1038 (0.0965)  loss_mal_dn_2: 0.7754 (0.7758)  loss_bbox_dn_2: 0.2867 (0.2823)  loss_giou_dn_2: 0.5184 (0.5171)  loss_fgl_dn_2: 1.1518 (1.1523)  loss_mal_dn_pre: 0.7803 (0.7805)  loss_bbox_dn_pre: 0.4196 (0.3968)  loss_giou_dn_pre: 0.7486 (0.7381)  time: 0.4857  data: 0.0966  max mem: 10586\n",
      "Epoch: [112] Total time: 0:00:07 (0.4892 s / it)\n",
      "Averaged stats: lr: 0.000143  loss: 24.2728 (24.2180)  loss_mal: 1.0127 (1.0263)  loss_bbox: 0.2149 (0.2167)  loss_giou: 0.4245 (0.4145)  loss_fgl: 1.2070 (1.2085)  loss_mal_aux_0: 1.0283 (1.0261)  loss_bbox_aux_0: 0.2411 (0.2385)  loss_giou_aux_0: 0.4498 (0.4524)  loss_fgl_aux_0: 1.2446 (1.2406)  loss_ddf_aux_0: 0.1684 (0.1735)  loss_mal_aux_1: 1.0293 (1.0333)  loss_bbox_aux_1: 0.2207 (0.2193)  loss_giou_aux_1: 0.4234 (0.4182)  loss_fgl_aux_1: 1.2101 (1.2101)  loss_ddf_aux_1: 0.0148 (0.0153)  loss_mal_pre: 1.0215 (1.0258)  loss_bbox_pre: 0.2384 (0.2350)  loss_giou_pre: 0.4426 (0.4473)  loss_mal_enc_0: 1.1230 (1.1458)  loss_bbox_enc_0: 0.3151 (0.3141)  loss_giou_enc_0: 0.5535 (0.5596)  loss_mal_dn_0: 0.7759 (0.7806)  loss_bbox_dn_0: 0.4129 (0.3997)  loss_giou_dn_0: 0.7412 (0.7422)  loss_fgl_dn_0: 1.1819 (1.1923)  loss_ddf_dn_0: 0.9511 (0.9523)  loss_mal_dn_1: 0.7773 (0.7802)  loss_bbox_dn_1: 0.3036 (0.3040)  loss_giou_dn_1: 0.5510 (0.5537)  loss_fgl_dn_1: 1.1501 (1.1525)  loss_ddf_dn_1: 0.1038 (0.0965)  loss_mal_dn_2: 0.7754 (0.7758)  loss_bbox_dn_2: 0.2867 (0.2823)  loss_giou_dn_2: 0.5184 (0.5171)  loss_fgl_dn_2: 1.1518 (1.1523)  loss_mal_dn_pre: 0.7803 (0.7805)  loss_bbox_dn_pre: 0.4196 (0.3968)  loss_giou_dn_pre: 0.7486 (0.7381)\n",
      "Test:  [0/5]  eta: 0:00:03    time: 0.7159  data: 0.6084  max mem: 10586\n"
     ]
    },
    {
     "name": "stderr",
     "output_type": "stream",
     "text": [
      "2025-03-10 15:08:46,419 - DEIMTrainer - INFO - Epoch 112 - Train loss: 24.2180, Eval mAP: 0.5713\n",
      "2025-03-10 15:08:46,419 - DEIMTrainer - INFO - Best stats: {'epoch': 108, 'coco_eval_bbox': 0.5920470208299685}\n"
     ]
    },
    {
     "name": "stdout",
     "output_type": "stream",
     "text": [
      "Test:  [4/5]  eta: 0:00:00    time: 0.2328  data: 0.1334  max mem: 10586\n",
      "Test: Total time: 0:00:01 (0.2426 s / it)\n",
      "Averaged stats: \n",
      "Accumulating evaluation results...\n",
      "COCOeval_opt.accumulate() finished...\n",
      "DONE (t=0.02s).\n",
      "IoU metric: bbox\n",
      " Average Precision  (AP) @[ IoU=0.50:0.95 | area=   all | maxDets=100 ] = 0.571\n",
      " Average Precision  (AP) @[ IoU=0.50      | area=   all | maxDets=100 ] = 0.832\n",
      " Average Precision  (AP) @[ IoU=0.75      | area=   all | maxDets=100 ] = 0.676\n",
      " Average Precision  (AP) @[ IoU=0.50:0.95 | area= small | maxDets=100 ] = 0.325\n",
      " Average Precision  (AP) @[ IoU=0.50:0.95 | area=medium | maxDets=100 ] = 0.569\n",
      " Average Precision  (AP) @[ IoU=0.50:0.95 | area= large | maxDets=100 ] = 0.446\n",
      " Average Recall     (AR) @[ IoU=0.50:0.95 | area=   all | maxDets=  1 ] = 0.394\n",
      " Average Recall     (AR) @[ IoU=0.50:0.95 | area=   all | maxDets= 10 ] = 0.655\n",
      " Average Recall     (AR) @[ IoU=0.50:0.95 | area=   all | maxDets=100 ] = 0.762\n",
      " Average Recall     (AR) @[ IoU=0.50:0.95 | area= small | maxDets=100 ] = 0.640\n",
      " Average Recall     (AR) @[ IoU=0.50:0.95 | area=medium | maxDets=100 ] = 0.737\n",
      " Average Recall     (AR) @[ IoU=0.50:0.95 | area= large | maxDets=100 ] = 0.774\n",
      " Average Recall     (AR) @[ IoU=0.50      | area=   all | maxDets=100 ] = 0.999\n",
      " Average Recall     (AR) @[ IoU=0.75      | area=   all | maxDets=100 ] = 0.901\n",
      "================================================\n",
      "{'coco_eval_bbox': [0.5713471045468843, 0.8323153431539222, 0.6761638061431308, 0.32542870594930867, 0.5689954709099804, 0.4459901267204295, 0.3940224492856072, 0.6545918749866118, 0.7624319880898828, 0.64, 0.7366666666666667, 0.7739243302954986]}\n",
      "================================================\n",
      "Epoch: [113]  [ 0/15]  eta: 0:00:25  lr: 0.000144  loss: 23.7921 (23.7921)  loss_mal: 0.9614 (0.9614)  loss_bbox: 0.1674 (0.1674)  loss_giou: 0.4954 (0.4954)  loss_fgl: 1.2142 (1.2142)  loss_mal_aux_0: 1.0117 (1.0117)  loss_bbox_aux_0: 0.1790 (0.1790)  loss_giou_aux_0: 0.5178 (0.5178)  loss_fgl_aux_0: 1.2306 (1.2306)  loss_ddf_aux_0: 0.1437 (0.1437)  loss_mal_aux_1: 0.9546 (0.9546)  loss_bbox_aux_1: 0.1680 (0.1680)  loss_giou_aux_1: 0.4977 (0.4977)  loss_fgl_aux_1: 1.2129 (1.2129)  loss_ddf_aux_1: 0.0101 (0.0101)  loss_mal_pre: 1.0137 (1.0137)  loss_bbox_pre: 0.1773 (0.1773)  loss_giou_pre: 0.5125 (0.5125)  loss_mal_enc_0: 1.0352 (1.0352)  loss_bbox_enc_0: 0.2154 (0.2154)  loss_giou_enc_0: 0.5681 (0.5681)  loss_mal_dn_0: 0.7529 (0.7529)  loss_bbox_dn_0: 0.3094 (0.3094)  loss_giou_dn_0: 0.8034 (0.8034)  loss_fgl_dn_0: 1.1414 (1.1414)  loss_ddf_dn_0: 1.0816 (1.0816)  loss_mal_dn_1: 0.7681 (0.7681)  loss_bbox_dn_1: 0.2287 (0.2287)  loss_giou_dn_1: 0.6241 (0.6241)  loss_fgl_dn_1: 1.1294 (1.1294)  loss_ddf_dn_1: 0.0914 (0.0914)  loss_mal_dn_2: 0.7642 (0.7642)  loss_bbox_dn_2: 0.2148 (0.2148)  loss_giou_dn_2: 0.5980 (0.5980)  loss_fgl_dn_2: 1.1336 (1.1336)  loss_mal_dn_pre: 0.7549 (0.7549)  loss_bbox_dn_pre: 0.3079 (0.3079)  loss_giou_dn_pre: 0.8017 (0.8017)  time: 1.6920  data: 1.2081  max mem: 10586\n"
     ]
    },
    {
     "name": "stderr",
     "output_type": "stream",
     "text": [
      "2025-03-10 15:08:53,467 - DEIMTrainer - INFO - Evaluating model...\n"
     ]
    },
    {
     "name": "stdout",
     "output_type": "stream",
     "text": [
      "Epoch: [113]  [14/15]  eta: 0:00:00  lr: 0.000146  loss: 24.1663 (24.1641)  loss_mal: 0.9688 (1.0116)  loss_bbox: 0.2021 (0.2065)  loss_giou: 0.4000 (0.4048)  loss_fgl: 1.1973 (1.2033)  loss_mal_aux_0: 1.0117 (1.0490)  loss_bbox_aux_0: 0.2344 (0.2302)  loss_giou_aux_0: 0.4455 (0.4456)  loss_fgl_aux_0: 1.2306 (1.2364)  loss_ddf_aux_0: 0.1736 (0.1893)  loss_mal_aux_1: 0.9722 (1.0243)  loss_bbox_aux_1: 0.2042 (0.2074)  loss_giou_aux_1: 0.4013 (0.4064)  loss_fgl_aux_1: 1.1975 (1.2029)  loss_ddf_aux_1: 0.0101 (0.0124)  loss_mal_pre: 1.0137 (1.0474)  loss_bbox_pre: 0.2259 (0.2275)  loss_giou_pre: 0.4426 (0.4415)  loss_mal_enc_0: 1.1523 (1.1445)  loss_bbox_enc_0: 0.3225 (0.3091)  loss_giou_enc_0: 0.5484 (0.5502)  loss_mal_dn_0: 0.7759 (0.7757)  loss_bbox_dn_0: 0.3985 (0.4051)  loss_giou_dn_0: 0.7371 (0.7382)  loss_fgl_dn_0: 1.2057 (1.2032)  loss_ddf_dn_0: 0.9821 (0.9945)  loss_mal_dn_1: 0.7749 (0.7774)  loss_bbox_dn_1: 0.3104 (0.3008)  loss_giou_dn_1: 0.5353 (0.5408)  loss_fgl_dn_1: 1.1593 (1.1565)  loss_ddf_dn_1: 0.0762 (0.0747)  loss_mal_dn_2: 0.7700 (0.7717)  loss_bbox_dn_2: 0.2890 (0.2834)  loss_giou_dn_2: 0.5129 (0.5133)  loss_fgl_dn_2: 1.1624 (1.1588)  loss_mal_dn_pre: 0.7773 (0.7747)  loss_bbox_dn_pre: 0.4049 (0.4076)  loss_giou_dn_pre: 0.7253 (0.7373)  time: 0.4655  data: 0.0968  max mem: 10586\n",
      "Epoch: [113] Total time: 0:00:07 (0.4689 s / it)\n",
      "Averaged stats: lr: 0.000146  loss: 24.1663 (24.1641)  loss_mal: 0.9688 (1.0116)  loss_bbox: 0.2021 (0.2065)  loss_giou: 0.4000 (0.4048)  loss_fgl: 1.1973 (1.2033)  loss_mal_aux_0: 1.0117 (1.0490)  loss_bbox_aux_0: 0.2344 (0.2302)  loss_giou_aux_0: 0.4455 (0.4456)  loss_fgl_aux_0: 1.2306 (1.2364)  loss_ddf_aux_0: 0.1736 (0.1893)  loss_mal_aux_1: 0.9722 (1.0243)  loss_bbox_aux_1: 0.2042 (0.2074)  loss_giou_aux_1: 0.4013 (0.4064)  loss_fgl_aux_1: 1.1975 (1.2029)  loss_ddf_aux_1: 0.0101 (0.0124)  loss_mal_pre: 1.0137 (1.0474)  loss_bbox_pre: 0.2259 (0.2275)  loss_giou_pre: 0.4426 (0.4415)  loss_mal_enc_0: 1.1523 (1.1445)  loss_bbox_enc_0: 0.3225 (0.3091)  loss_giou_enc_0: 0.5484 (0.5502)  loss_mal_dn_0: 0.7759 (0.7757)  loss_bbox_dn_0: 0.3985 (0.4051)  loss_giou_dn_0: 0.7371 (0.7382)  loss_fgl_dn_0: 1.2057 (1.2032)  loss_ddf_dn_0: 0.9821 (0.9945)  loss_mal_dn_1: 0.7749 (0.7774)  loss_bbox_dn_1: 0.3104 (0.3008)  loss_giou_dn_1: 0.5353 (0.5408)  loss_fgl_dn_1: 1.1593 (1.1565)  loss_ddf_dn_1: 0.0762 (0.0747)  loss_mal_dn_2: 0.7700 (0.7717)  loss_bbox_dn_2: 0.2890 (0.2834)  loss_giou_dn_2: 0.5129 (0.5133)  loss_fgl_dn_2: 1.1624 (1.1588)  loss_mal_dn_pre: 0.7773 (0.7747)  loss_bbox_dn_pre: 0.4049 (0.4076)  loss_giou_dn_pre: 0.7253 (0.7373)\n",
      "Test:  [0/5]  eta: 0:00:04    time: 0.8595  data: 0.5993  max mem: 10586\n"
     ]
    },
    {
     "name": "stderr",
     "output_type": "stream",
     "text": [
      "2025-03-10 15:08:54,846 - DEIMTrainer - INFO - Epoch 113 - Train loss: 24.1641, Eval mAP: 0.5730\n",
      "2025-03-10 15:08:54,847 - DEIMTrainer - INFO - Best stats: {'epoch': 108, 'coco_eval_bbox': 0.5920470208299685}\n"
     ]
    },
    {
     "name": "stdout",
     "output_type": "stream",
     "text": [
      "Test:  [4/5]  eta: 0:00:00    time: 0.2604  data: 0.1304  max mem: 10586\n",
      "Test: Total time: 0:00:01 (0.2701 s / it)\n",
      "Averaged stats: \n",
      "Accumulating evaluation results...\n",
      "COCOeval_opt.accumulate() finished...\n",
      "DONE (t=0.02s).\n",
      "IoU metric: bbox\n",
      " Average Precision  (AP) @[ IoU=0.50:0.95 | area=   all | maxDets=100 ] = 0.573\n",
      " Average Precision  (AP) @[ IoU=0.50      | area=   all | maxDets=100 ] = 0.830\n",
      " Average Precision  (AP) @[ IoU=0.75      | area=   all | maxDets=100 ] = 0.664\n",
      " Average Precision  (AP) @[ IoU=0.50:0.95 | area= small | maxDets=100 ] = 0.339\n",
      " Average Precision  (AP) @[ IoU=0.50:0.95 | area=medium | maxDets=100 ] = 0.569\n",
      " Average Precision  (AP) @[ IoU=0.50:0.95 | area= large | maxDets=100 ] = 0.449\n",
      " Average Recall     (AR) @[ IoU=0.50:0.95 | area=   all | maxDets=  1 ] = 0.389\n",
      " Average Recall     (AR) @[ IoU=0.50:0.95 | area=   all | maxDets= 10 ] = 0.655\n",
      " Average Recall     (AR) @[ IoU=0.50:0.95 | area=   all | maxDets=100 ] = 0.772\n",
      " Average Recall     (AR) @[ IoU=0.50:0.95 | area= small | maxDets=100 ] = 0.680\n",
      " Average Recall     (AR) @[ IoU=0.50:0.95 | area=medium | maxDets=100 ] = 0.742\n",
      " Average Recall     (AR) @[ IoU=0.50:0.95 | area= large | maxDets=100 ] = 0.780\n",
      " Average Recall     (AR) @[ IoU=0.50      | area=   all | maxDets=100 ] = 0.999\n",
      " Average Recall     (AR) @[ IoU=0.75      | area=   all | maxDets=100 ] = 0.922\n",
      "================================================\n",
      "{'coco_eval_bbox': [0.5729896426657645, 0.8295439207778064, 0.6644014856348059, 0.33855161355042496, 0.5692713089177904, 0.4494174867110115, 0.3893277531435426, 0.6552264743054216, 0.7717557783347256, 0.6799999999999999, 0.7424999999999999, 0.7799692271274705]}\n",
      "================================================\n",
      "Epoch: [114]  [ 0/15]  eta: 0:00:22  lr: 0.000146  loss: 23.7287 (23.7287)  loss_mal: 1.0059 (1.0059)  loss_bbox: 0.1896 (0.1896)  loss_giou: 0.4045 (0.4045)  loss_fgl: 1.2053 (1.2053)  loss_mal_aux_0: 1.0312 (1.0312)  loss_bbox_aux_0: 0.2043 (0.2043)  loss_giou_aux_0: 0.4431 (0.4431)  loss_fgl_aux_0: 1.2364 (1.2364)  loss_ddf_aux_0: 0.1866 (0.1866)  loss_mal_aux_1: 0.9907 (0.9907)  loss_bbox_aux_1: 0.1921 (0.1921)  loss_giou_aux_1: 0.4054 (0.4054)  loss_fgl_aux_1: 1.2087 (1.2087)  loss_ddf_aux_1: 0.0091 (0.0091)  loss_mal_pre: 1.0205 (1.0205)  loss_bbox_pre: 0.2049 (0.2049)  loss_giou_pre: 0.4439 (0.4439)  loss_mal_enc_0: 1.1416 (1.1416)  loss_bbox_enc_0: 0.3071 (0.3071)  loss_giou_enc_0: 0.5734 (0.5734)  loss_mal_dn_0: 0.7915 (0.7915)  loss_bbox_dn_0: 0.3683 (0.3683)  loss_giou_dn_0: 0.6661 (0.6661)  loss_fgl_dn_0: 1.2099 (1.2099)  loss_ddf_dn_0: 0.9499 (0.9499)  loss_mal_dn_1: 0.7964 (0.7964)  loss_bbox_dn_1: 0.2832 (0.2832)  loss_giou_dn_1: 0.5056 (0.5056)  loss_fgl_dn_1: 1.1629 (1.1629)  loss_ddf_dn_1: 0.0616 (0.0616)  loss_mal_dn_2: 0.7886 (0.7886)  loss_bbox_dn_2: 0.2566 (0.2566)  loss_giou_dn_2: 0.4796 (0.4796)  loss_fgl_dn_2: 1.1554 (1.1554)  loss_mal_dn_pre: 0.7900 (0.7900)  loss_bbox_dn_pre: 0.3786 (0.3786)  loss_giou_dn_pre: 0.6800 (0.6800)  time: 1.5315  data: 1.0674  max mem: 10586\n"
     ]
    },
    {
     "name": "stderr",
     "output_type": "stream",
     "text": [
      "2025-03-10 15:09:01,702 - DEIMTrainer - INFO - Evaluating model...\n"
     ]
    },
    {
     "name": "stdout",
     "output_type": "stream",
     "text": [
      "Epoch: [114]  [14/15]  eta: 0:00:00  lr: 0.000149  loss: 23.8896 (24.0711)  loss_mal: 1.0088 (1.0302)  loss_bbox: 0.1947 (0.1900)  loss_giou: 0.4077 (0.4178)  loss_fgl: 1.2053 (1.2047)  loss_mal_aux_0: 1.0342 (1.0546)  loss_bbox_aux_0: 0.2214 (0.2153)  loss_giou_aux_0: 0.4551 (0.4682)  loss_fgl_aux_0: 1.2364 (1.2448)  loss_ddf_aux_0: 0.1866 (0.1984)  loss_mal_aux_1: 1.0107 (1.0360)  loss_bbox_aux_1: 0.1995 (0.1919)  loss_giou_aux_1: 0.4092 (0.4214)  loss_fgl_aux_1: 1.2074 (1.2069)  loss_ddf_aux_1: 0.0083 (0.0086)  loss_mal_pre: 1.0361 (1.0505)  loss_bbox_pre: 0.2160 (0.2105)  loss_giou_pre: 0.4471 (0.4619)  loss_mal_enc_0: 1.1416 (1.1354)  loss_bbox_enc_0: 0.2748 (0.2805)  loss_giou_enc_0: 0.5748 (0.5806)  loss_mal_dn_0: 0.7778 (0.7787)  loss_bbox_dn_0: 0.3658 (0.3647)  loss_giou_dn_0: 0.7377 (0.7554)  loss_fgl_dn_0: 1.2194 (1.2048)  loss_ddf_dn_0: 0.8916 (0.9222)  loss_mal_dn_1: 0.7798 (0.7822)  loss_bbox_dn_1: 0.2707 (0.2751)  loss_giou_dn_1: 0.5347 (0.5586)  loss_fgl_dn_1: 1.1564 (1.1606)  loss_ddf_dn_1: 0.0616 (0.0625)  loss_mal_dn_2: 0.7690 (0.7678)  loss_bbox_dn_2: 0.2554 (0.2570)  loss_giou_dn_2: 0.5037 (0.5214)  loss_fgl_dn_2: 1.1554 (1.1573)  loss_mal_dn_pre: 0.7773 (0.7778)  loss_bbox_dn_pre: 0.3592 (0.3659)  loss_giou_dn_pre: 0.7336 (0.7507)  time: 0.4523  data: 0.0882  max mem: 10586\n",
      "Epoch: [114] Total time: 0:00:06 (0.4558 s / it)\n",
      "Averaged stats: lr: 0.000149  loss: 23.8896 (24.0711)  loss_mal: 1.0088 (1.0302)  loss_bbox: 0.1947 (0.1900)  loss_giou: 0.4077 (0.4178)  loss_fgl: 1.2053 (1.2047)  loss_mal_aux_0: 1.0342 (1.0546)  loss_bbox_aux_0: 0.2214 (0.2153)  loss_giou_aux_0: 0.4551 (0.4682)  loss_fgl_aux_0: 1.2364 (1.2448)  loss_ddf_aux_0: 0.1866 (0.1984)  loss_mal_aux_1: 1.0107 (1.0360)  loss_bbox_aux_1: 0.1995 (0.1919)  loss_giou_aux_1: 0.4092 (0.4214)  loss_fgl_aux_1: 1.2074 (1.2069)  loss_ddf_aux_1: 0.0083 (0.0086)  loss_mal_pre: 1.0361 (1.0505)  loss_bbox_pre: 0.2160 (0.2105)  loss_giou_pre: 0.4471 (0.4619)  loss_mal_enc_0: 1.1416 (1.1354)  loss_bbox_enc_0: 0.2748 (0.2805)  loss_giou_enc_0: 0.5748 (0.5806)  loss_mal_dn_0: 0.7778 (0.7787)  loss_bbox_dn_0: 0.3658 (0.3647)  loss_giou_dn_0: 0.7377 (0.7554)  loss_fgl_dn_0: 1.2194 (1.2048)  loss_ddf_dn_0: 0.8916 (0.9222)  loss_mal_dn_1: 0.7798 (0.7822)  loss_bbox_dn_1: 0.2707 (0.2751)  loss_giou_dn_1: 0.5347 (0.5586)  loss_fgl_dn_1: 1.1564 (1.1606)  loss_ddf_dn_1: 0.0616 (0.0625)  loss_mal_dn_2: 0.7690 (0.7678)  loss_bbox_dn_2: 0.2554 (0.2570)  loss_giou_dn_2: 0.5037 (0.5214)  loss_fgl_dn_2: 1.1554 (1.1573)  loss_mal_dn_pre: 0.7773 (0.7778)  loss_bbox_dn_pre: 0.3592 (0.3659)  loss_giou_dn_pre: 0.7336 (0.7507)\n",
      "Test:  [0/5]  eta: 0:00:04    time: 0.8508  data: 0.5820  max mem: 10586\n"
     ]
    },
    {
     "name": "stderr",
     "output_type": "stream",
     "text": [
      "2025-03-10 15:09:03,140 - DEIMTrainer - INFO - Epoch 114 - Train loss: 24.0711, Eval mAP: 0.5881\n",
      "2025-03-10 15:09:03,140 - DEIMTrainer - INFO - Best stats: {'epoch': 108, 'coco_eval_bbox': 0.5920470208299685}\n"
     ]
    },
    {
     "name": "stdout",
     "output_type": "stream",
     "text": [
      "Test:  [4/5]  eta: 0:00:00    time: 0.2714  data: 0.1363  max mem: 10586\n",
      "Test: Total time: 0:00:01 (0.2813 s / it)\n",
      "Averaged stats: \n",
      "Accumulating evaluation results...\n",
      "COCOeval_opt.accumulate() finished...\n",
      "DONE (t=0.02s).\n",
      "IoU metric: bbox\n",
      " Average Precision  (AP) @[ IoU=0.50:0.95 | area=   all | maxDets=100 ] = 0.588\n",
      " Average Precision  (AP) @[ IoU=0.50      | area=   all | maxDets=100 ] = 0.859\n",
      " Average Precision  (AP) @[ IoU=0.75      | area=   all | maxDets=100 ] = 0.660\n",
      " Average Precision  (AP) @[ IoU=0.50:0.95 | area= small | maxDets=100 ] = 0.381\n",
      " Average Precision  (AP) @[ IoU=0.50:0.95 | area=medium | maxDets=100 ] = 0.617\n",
      " Average Precision  (AP) @[ IoU=0.50:0.95 | area= large | maxDets=100 ] = 0.452\n",
      " Average Recall     (AR) @[ IoU=0.50:0.95 | area=   all | maxDets=  1 ] = 0.398\n",
      " Average Recall     (AR) @[ IoU=0.50:0.95 | area=   all | maxDets= 10 ] = 0.661\n",
      " Average Recall     (AR) @[ IoU=0.50:0.95 | area=   all | maxDets=100 ] = 0.768\n",
      " Average Recall     (AR) @[ IoU=0.50:0.95 | area= small | maxDets=100 ] = 0.640\n",
      " Average Recall     (AR) @[ IoU=0.50:0.95 | area=medium | maxDets=100 ] = 0.771\n",
      " Average Recall     (AR) @[ IoU=0.50:0.95 | area= large | maxDets=100 ] = 0.782\n",
      " Average Recall     (AR) @[ IoU=0.50      | area=   all | maxDets=100 ] = 0.999\n",
      " Average Recall     (AR) @[ IoU=0.75      | area=   all | maxDets=100 ] = 0.921\n",
      "================================================\n",
      "{'coco_eval_bbox': [0.5880688291001831, 0.8588397145939783, 0.659511007634691, 0.3808308189538333, 0.6170798640847098, 0.45239631497693444, 0.397711158237474, 0.6607137501874344, 0.7679139087033825, 0.64, 0.7706845238095238, 0.7818684656961375]}\n",
      "================================================\n",
      "Epoch: [115]  [ 0/15]  eta: 0:00:25  lr: 0.000149  loss: 23.5168 (23.5168)  loss_mal: 0.9302 (0.9302)  loss_bbox: 0.1552 (0.1552)  loss_giou: 0.4499 (0.4499)  loss_fgl: 1.1958 (1.1958)  loss_mal_aux_0: 1.0000 (1.0000)  loss_bbox_aux_0: 0.1811 (0.1811)  loss_giou_aux_0: 0.4926 (0.4926)  loss_fgl_aux_0: 1.2251 (1.2251)  loss_ddf_aux_0: 0.2082 (0.2082)  loss_mal_aux_1: 0.9780 (0.9780)  loss_bbox_aux_1: 0.1559 (0.1559)  loss_giou_aux_1: 0.4495 (0.4495)  loss_fgl_aux_1: 1.1962 (1.1962)  loss_ddf_aux_1: 0.0089 (0.0089)  loss_mal_pre: 1.0029 (1.0029)  loss_bbox_pre: 0.1792 (0.1792)  loss_giou_pre: 0.4902 (0.4902)  loss_mal_enc_0: 1.1240 (1.1240)  loss_bbox_enc_0: 0.2203 (0.2203)  loss_giou_enc_0: 0.5646 (0.5646)  loss_mal_dn_0: 0.7642 (0.7642)  loss_bbox_dn_0: 0.2975 (0.2975)  loss_giou_dn_0: 0.7389 (0.7389)  loss_fgl_dn_0: 1.1727 (1.1727)  loss_ddf_dn_0: 1.0069 (1.0069)  loss_mal_dn_1: 0.8091 (0.8091)  loss_bbox_dn_1: 0.2228 (0.2228)  loss_giou_dn_1: 0.5783 (0.5783)  loss_fgl_dn_1: 1.1393 (1.1393)  loss_ddf_dn_1: 0.0744 (0.0744)  loss_mal_dn_2: 0.7993 (0.7993)  loss_bbox_dn_2: 0.2100 (0.2100)  loss_giou_dn_2: 0.5492 (0.5492)  loss_fgl_dn_2: 1.1421 (1.1421)  loss_mal_dn_pre: 0.7627 (0.7627)  loss_bbox_dn_pre: 0.2976 (0.2976)  loss_giou_dn_pre: 0.7441 (0.7441)  time: 1.7042  data: 1.2837  max mem: 10586\n"
     ]
    },
    {
     "name": "stderr",
     "output_type": "stream",
     "text": [
      "2025-03-10 15:09:10,148 - DEIMTrainer - INFO - Saving checkpoint to outputs/deim_hgnetv2_s_coco/checkpoint0115.pth\n"
     ]
    },
    {
     "name": "stdout",
     "output_type": "stream",
     "text": [
      "Epoch: [115]  [14/15]  eta: 0:00:00  lr: 0.000151  loss: 23.6941 (23.9535)  loss_mal: 0.9458 (0.9829)  loss_bbox: 0.2015 (0.2006)  loss_giou: 0.3968 (0.4044)  loss_fgl: 1.2112 (1.2105)  loss_mal_aux_0: 1.0078 (1.0270)  loss_bbox_aux_0: 0.2221 (0.2231)  loss_giou_aux_0: 0.4396 (0.4447)  loss_fgl_aux_0: 1.2516 (1.2477)  loss_ddf_aux_0: 0.2016 (0.2042)  loss_mal_aux_1: 0.9673 (1.0010)  loss_bbox_aux_1: 0.2030 (0.2024)  loss_giou_aux_1: 0.4030 (0.4072)  loss_fgl_aux_1: 1.2132 (1.2123)  loss_ddf_aux_1: 0.0106 (0.0106)  loss_mal_pre: 1.0029 (1.0245)  loss_bbox_pre: 0.2179 (0.2202)  loss_giou_pre: 0.4337 (0.4412)  loss_mal_enc_0: 1.1084 (1.1428)  loss_bbox_enc_0: 0.2880 (0.2985)  loss_giou_enc_0: 0.5474 (0.5566)  loss_mal_dn_0: 0.7769 (0.7775)  loss_bbox_dn_0: 0.3688 (0.3715)  loss_giou_dn_0: 0.7044 (0.7167)  loss_fgl_dn_0: 1.2020 (1.2149)  loss_ddf_dn_0: 1.0209 (1.0106)  loss_mal_dn_1: 0.7720 (0.7756)  loss_bbox_dn_1: 0.2773 (0.2839)  loss_giou_dn_1: 0.5235 (0.5379)  loss_fgl_dn_1: 1.1589 (1.1666)  loss_ddf_dn_1: 0.0740 (0.0726)  loss_mal_dn_2: 0.7627 (0.7652)  loss_bbox_dn_2: 0.2620 (0.2658)  loss_giou_dn_2: 0.4938 (0.5067)  loss_fgl_dn_2: 1.1582 (1.1625)  loss_mal_dn_pre: 0.7778 (0.7771)  loss_bbox_dn_pre: 0.3691 (0.3712)  loss_giou_dn_pre: 0.7072 (0.7148)  time: 0.4625  data: 0.0998  max mem: 10586\n",
      "Epoch: [115] Total time: 0:00:06 (0.4660 s / it)\n",
      "Averaged stats: lr: 0.000151  loss: 23.6941 (23.9535)  loss_mal: 0.9458 (0.9829)  loss_bbox: 0.2015 (0.2006)  loss_giou: 0.3968 (0.4044)  loss_fgl: 1.2112 (1.2105)  loss_mal_aux_0: 1.0078 (1.0270)  loss_bbox_aux_0: 0.2221 (0.2231)  loss_giou_aux_0: 0.4396 (0.4447)  loss_fgl_aux_0: 1.2516 (1.2477)  loss_ddf_aux_0: 0.2016 (0.2042)  loss_mal_aux_1: 0.9673 (1.0010)  loss_bbox_aux_1: 0.2030 (0.2024)  loss_giou_aux_1: 0.4030 (0.4072)  loss_fgl_aux_1: 1.2132 (1.2123)  loss_ddf_aux_1: 0.0106 (0.0106)  loss_mal_pre: 1.0029 (1.0245)  loss_bbox_pre: 0.2179 (0.2202)  loss_giou_pre: 0.4337 (0.4412)  loss_mal_enc_0: 1.1084 (1.1428)  loss_bbox_enc_0: 0.2880 (0.2985)  loss_giou_enc_0: 0.5474 (0.5566)  loss_mal_dn_0: 0.7769 (0.7775)  loss_bbox_dn_0: 0.3688 (0.3715)  loss_giou_dn_0: 0.7044 (0.7167)  loss_fgl_dn_0: 1.2020 (1.2149)  loss_ddf_dn_0: 1.0209 (1.0106)  loss_mal_dn_1: 0.7720 (0.7756)  loss_bbox_dn_1: 0.2773 (0.2839)  loss_giou_dn_1: 0.5235 (0.5379)  loss_fgl_dn_1: 1.1589 (1.1666)  loss_ddf_dn_1: 0.0740 (0.0726)  loss_mal_dn_2: 0.7627 (0.7652)  loss_bbox_dn_2: 0.2620 (0.2658)  loss_giou_dn_2: 0.4938 (0.5067)  loss_fgl_dn_2: 1.1582 (1.1625)  loss_mal_dn_pre: 0.7778 (0.7771)  loss_bbox_dn_pre: 0.3691 (0.3712)  loss_giou_dn_pre: 0.7072 (0.7148)\n"
     ]
    },
    {
     "name": "stderr",
     "output_type": "stream",
     "text": [
      "2025-03-10 15:09:10,398 - DEIMTrainer - INFO - Checkpoint saved to outputs/deim_hgnetv2_s_coco/checkpoint0115.pth\n",
      "2025-03-10 15:09:10,400 - DEIMTrainer - INFO - Evaluating model...\n"
     ]
    },
    {
     "name": "stdout",
     "output_type": "stream",
     "text": [
      "Test:  [0/5]  eta: 0:00:04    time: 0.8483  data: 0.5915  max mem: 10586\n"
     ]
    },
    {
     "name": "stderr",
     "output_type": "stream",
     "text": [
      "2025-03-10 15:09:11,766 - DEIMTrainer - INFO - Epoch 115 - Train loss: 23.9535, Eval mAP: 0.5882\n",
      "2025-03-10 15:09:11,767 - DEIMTrainer - INFO - Best stats: {'epoch': 108, 'coco_eval_bbox': 0.5920470208299685}\n"
     ]
    },
    {
     "name": "stdout",
     "output_type": "stream",
     "text": [
      "Test:  [4/5]  eta: 0:00:00    time: 0.2570  data: 0.1285  max mem: 10586\n",
      "Test: Total time: 0:00:01 (0.2679 s / it)\n",
      "Averaged stats: \n",
      "Accumulating evaluation results...\n",
      "COCOeval_opt.accumulate() finished...\n",
      "DONE (t=0.02s).\n",
      "IoU metric: bbox\n",
      " Average Precision  (AP) @[ IoU=0.50:0.95 | area=   all | maxDets=100 ] = 0.588\n",
      " Average Precision  (AP) @[ IoU=0.50      | area=   all | maxDets=100 ] = 0.852\n",
      " Average Precision  (AP) @[ IoU=0.75      | area=   all | maxDets=100 ] = 0.662\n",
      " Average Precision  (AP) @[ IoU=0.50:0.95 | area= small | maxDets=100 ] = 0.415\n",
      " Average Precision  (AP) @[ IoU=0.50:0.95 | area=medium | maxDets=100 ] = 0.603\n",
      " Average Precision  (AP) @[ IoU=0.50:0.95 | area= large | maxDets=100 ] = 0.463\n",
      " Average Recall     (AR) @[ IoU=0.50:0.95 | area=   all | maxDets=  1 ] = 0.401\n",
      " Average Recall     (AR) @[ IoU=0.50:0.95 | area=   all | maxDets= 10 ] = 0.660\n",
      " Average Recall     (AR) @[ IoU=0.50:0.95 | area=   all | maxDets=100 ] = 0.768\n",
      " Average Recall     (AR) @[ IoU=0.50:0.95 | area= small | maxDets=100 ] = 0.680\n",
      " Average Recall     (AR) @[ IoU=0.50:0.95 | area=medium | maxDets=100 ] = 0.779\n",
      " Average Recall     (AR) @[ IoU=0.50:0.95 | area= large | maxDets=100 ] = 0.777\n",
      " Average Recall     (AR) @[ IoU=0.50      | area=   all | maxDets=100 ] = 1.000\n",
      " Average Recall     (AR) @[ IoU=0.75      | area=   all | maxDets=100 ] = 0.912\n",
      "================================================\n",
      "{'coco_eval_bbox': [0.588196277178549, 0.8523931101315363, 0.6616554071597545, 0.41496863058611305, 0.6028596548210785, 0.462952638851221, 0.40064530985583624, 0.6595596898228476, 0.7675336846389479, 0.6799999999999999, 0.7785416666666666, 0.7768240817453742]}\n",
      "================================================\n",
      "Epoch: [116]  [ 0/15]  eta: 0:00:26  lr: 0.000151  loss: 23.6167 (23.6167)  loss_mal: 1.0254 (1.0254)  loss_bbox: 0.2103 (0.2103)  loss_giou: 0.3635 (0.3635)  loss_fgl: 1.1956 (1.1956)  loss_mal_aux_0: 1.0254 (1.0254)  loss_bbox_aux_0: 0.2348 (0.2348)  loss_giou_aux_0: 0.3943 (0.3943)  loss_fgl_aux_0: 1.2286 (1.2286)  loss_ddf_aux_0: 0.1513 (0.1513)  loss_mal_aux_1: 0.9868 (0.9868)  loss_bbox_aux_1: 0.2161 (0.2161)  loss_giou_aux_1: 0.3687 (0.3687)  loss_fgl_aux_1: 1.1988 (1.1988)  loss_ddf_aux_1: 0.0090 (0.0090)  loss_mal_pre: 1.0166 (1.0166)  loss_bbox_pre: 0.2330 (0.2330)  loss_giou_pre: 0.3935 (0.3935)  loss_mal_enc_0: 1.2920 (1.2920)  loss_bbox_enc_0: 0.3252 (0.3252)  loss_giou_enc_0: 0.5202 (0.5202)  loss_mal_dn_0: 0.7827 (0.7827)  loss_bbox_dn_0: 0.4151 (0.4151)  loss_giou_dn_0: 0.6852 (0.6852)  loss_fgl_dn_0: 1.2298 (1.2298)  loss_ddf_dn_0: 0.7347 (0.7347)  loss_mal_dn_1: 0.7607 (0.7607)  loss_bbox_dn_1: 0.3008 (0.3008)  loss_giou_dn_1: 0.5152 (0.5152)  loss_fgl_dn_1: 1.1777 (1.1777)  loss_ddf_dn_1: 0.0616 (0.0616)  loss_mal_dn_2: 0.7549 (0.7549)  loss_bbox_dn_2: 0.2789 (0.2789)  loss_giou_dn_2: 0.4764 (0.4764)  loss_fgl_dn_2: 1.1719 (1.1719)  loss_mal_dn_pre: 0.7808 (0.7808)  loss_bbox_dn_pre: 0.4170 (0.4170)  loss_giou_dn_pre: 0.6844 (0.6844)  time: 1.7476  data: 1.2310  max mem: 10586\n"
     ]
    },
    {
     "name": "stderr",
     "output_type": "stream",
     "text": [
      "2025-03-10 15:09:18,918 - DEIMTrainer - INFO - Evaluating model...\n"
     ]
    },
    {
     "name": "stdout",
     "output_type": "stream",
     "text": [
      "Epoch: [116]  [14/15]  eta: 0:00:00  lr: 0.000154  loss: 23.8330 (23.7569)  loss_mal: 1.0117 (0.9861)  loss_bbox: 0.2126 (0.2209)  loss_giou: 0.3822 (0.3932)  loss_fgl: 1.1941 (1.1947)  loss_mal_aux_0: 1.0176 (1.0112)  loss_bbox_aux_0: 0.2361 (0.2402)  loss_giou_aux_0: 0.4247 (0.4287)  loss_fgl_aux_0: 1.2237 (1.2232)  loss_ddf_aux_0: 0.1649 (0.1699)  loss_mal_aux_1: 1.0059 (0.9971)  loss_bbox_aux_1: 0.2161 (0.2213)  loss_giou_aux_1: 0.3836 (0.3943)  loss_fgl_aux_1: 1.1978 (1.1951)  loss_ddf_aux_1: 0.0110 (0.0112)  loss_mal_pre: 1.0166 (1.0107)  loss_bbox_pre: 0.2330 (0.2382)  loss_giou_pre: 0.4214 (0.4262)  loss_mal_enc_0: 1.1582 (1.1495)  loss_bbox_enc_0: 0.3252 (0.3207)  loss_giou_enc_0: 0.5202 (0.5273)  loss_mal_dn_0: 0.7827 (0.7826)  loss_bbox_dn_0: 0.4120 (0.4025)  loss_giou_dn_0: 0.6852 (0.6998)  loss_fgl_dn_0: 1.2110 (1.2126)  loss_ddf_dn_0: 0.8987 (0.9346)  loss_mal_dn_1: 0.7793 (0.7786)  loss_bbox_dn_1: 0.3004 (0.2953)  loss_giou_dn_1: 0.5034 (0.5082)  loss_fgl_dn_1: 1.1521 (1.1512)  loss_ddf_dn_1: 0.0693 (0.0710)  loss_mal_dn_2: 0.7705 (0.7683)  loss_bbox_dn_2: 0.2789 (0.2774)  loss_giou_dn_2: 0.4709 (0.4797)  loss_fgl_dn_2: 1.1525 (1.1489)  loss_mal_dn_pre: 0.7812 (0.7809)  loss_bbox_dn_pre: 0.4100 (0.4039)  loss_giou_dn_pre: 0.6952 (0.7018)  time: 0.4719  data: 0.0954  max mem: 10586\n",
      "Epoch: [116] Total time: 0:00:07 (0.4755 s / it)\n",
      "Averaged stats: lr: 0.000154  loss: 23.8330 (23.7569)  loss_mal: 1.0117 (0.9861)  loss_bbox: 0.2126 (0.2209)  loss_giou: 0.3822 (0.3932)  loss_fgl: 1.1941 (1.1947)  loss_mal_aux_0: 1.0176 (1.0112)  loss_bbox_aux_0: 0.2361 (0.2402)  loss_giou_aux_0: 0.4247 (0.4287)  loss_fgl_aux_0: 1.2237 (1.2232)  loss_ddf_aux_0: 0.1649 (0.1699)  loss_mal_aux_1: 1.0059 (0.9971)  loss_bbox_aux_1: 0.2161 (0.2213)  loss_giou_aux_1: 0.3836 (0.3943)  loss_fgl_aux_1: 1.1978 (1.1951)  loss_ddf_aux_1: 0.0110 (0.0112)  loss_mal_pre: 1.0166 (1.0107)  loss_bbox_pre: 0.2330 (0.2382)  loss_giou_pre: 0.4214 (0.4262)  loss_mal_enc_0: 1.1582 (1.1495)  loss_bbox_enc_0: 0.3252 (0.3207)  loss_giou_enc_0: 0.5202 (0.5273)  loss_mal_dn_0: 0.7827 (0.7826)  loss_bbox_dn_0: 0.4120 (0.4025)  loss_giou_dn_0: 0.6852 (0.6998)  loss_fgl_dn_0: 1.2110 (1.2126)  loss_ddf_dn_0: 0.8987 (0.9346)  loss_mal_dn_1: 0.7793 (0.7786)  loss_bbox_dn_1: 0.3004 (0.2953)  loss_giou_dn_1: 0.5034 (0.5082)  loss_fgl_dn_1: 1.1521 (1.1512)  loss_ddf_dn_1: 0.0693 (0.0710)  loss_mal_dn_2: 0.7705 (0.7683)  loss_bbox_dn_2: 0.2789 (0.2774)  loss_giou_dn_2: 0.4709 (0.4797)  loss_fgl_dn_2: 1.1525 (1.1489)  loss_mal_dn_pre: 0.7812 (0.7809)  loss_bbox_dn_pre: 0.4100 (0.4039)  loss_giou_dn_pre: 0.6952 (0.7018)\n",
      "Test:  [0/5]  eta: 0:00:03    time: 0.7129  data: 0.6043  max mem: 10586\n"
     ]
    },
    {
     "name": "stderr",
     "output_type": "stream",
     "text": [
      "2025-03-10 15:09:20,314 - DEIMTrainer - INFO - Saving checkpoint to outputs/deim_hgnetv2_s_coco/best.pth\n"
     ]
    },
    {
     "name": "stdout",
     "output_type": "stream",
     "text": [
      "Test:  [4/5]  eta: 0:00:00    time: 0.2612  data: 0.1319  max mem: 10586\n",
      "Test: Total time: 0:00:01 (0.2732 s / it)\n",
      "Averaged stats: \n",
      "Accumulating evaluation results...\n",
      "COCOeval_opt.accumulate() finished...\n",
      "DONE (t=0.02s).\n",
      "IoU metric: bbox\n",
      " Average Precision  (AP) @[ IoU=0.50:0.95 | area=   all | maxDets=100 ] = 0.595\n",
      " Average Precision  (AP) @[ IoU=0.50      | area=   all | maxDets=100 ] = 0.844\n",
      " Average Precision  (AP) @[ IoU=0.75      | area=   all | maxDets=100 ] = 0.688\n",
      " Average Precision  (AP) @[ IoU=0.50:0.95 | area= small | maxDets=100 ] = 0.422\n",
      " Average Precision  (AP) @[ IoU=0.50:0.95 | area=medium | maxDets=100 ] = 0.568\n",
      " Average Precision  (AP) @[ IoU=0.50:0.95 | area= large | maxDets=100 ] = 0.470\n",
      " Average Recall     (AR) @[ IoU=0.50:0.95 | area=   all | maxDets=  1 ] = 0.401\n",
      " Average Recall     (AR) @[ IoU=0.50:0.95 | area=   all | maxDets= 10 ] = 0.663\n",
      " Average Recall     (AR) @[ IoU=0.50:0.95 | area=   all | maxDets=100 ] = 0.776\n",
      " Average Recall     (AR) @[ IoU=0.50:0.95 | area= small | maxDets=100 ] = 0.700\n",
      " Average Recall     (AR) @[ IoU=0.50:0.95 | area=medium | maxDets=100 ] = 0.748\n",
      " Average Recall     (AR) @[ IoU=0.50:0.95 | area= large | maxDets=100 ] = 0.815\n",
      " Average Recall     (AR) @[ IoU=0.50      | area=   all | maxDets=100 ] = 1.000\n",
      " Average Recall     (AR) @[ IoU=0.75      | area=   all | maxDets=100 ] = 0.915\n",
      "================================================\n",
      "{'coco_eval_bbox': [0.59511740703142, 0.8439130699233417, 0.6883438048892626, 0.42150257888701015, 0.5684810151328021, 0.4702664569835311, 0.40091976736713586, 0.6628472891630786, 0.7757698198487671, 0.7, 0.7475, 0.8154124748490946]}\n",
      "================================================\n"
     ]
    },
    {
     "name": "stderr",
     "output_type": "stream",
     "text": [
      "2025-03-10 15:09:20,623 - DEIMTrainer - INFO - Checkpoint saved to outputs/deim_hgnetv2_s_coco/best.pth\n",
      "2025-03-10 15:09:20,625 - DEIMTrainer - INFO - Epoch 116 - Train loss: 23.7569, Eval mAP: 0.5951\n",
      "2025-03-10 15:09:20,626 - DEIMTrainer - INFO - Best stats: {'epoch': 116, 'coco_eval_bbox': 0.59511740703142}\n"
     ]
    },
    {
     "name": "stdout",
     "output_type": "stream",
     "text": [
      "Epoch: [117]  [ 0/15]  eta: 0:00:22  lr: 0.000154  loss: 23.4535 (23.4535)  loss_mal: 0.9868 (0.9868)  loss_bbox: 0.1786 (0.1786)  loss_giou: 0.4012 (0.4012)  loss_fgl: 1.1998 (1.1998)  loss_mal_aux_0: 0.9990 (0.9990)  loss_bbox_aux_0: 0.1973 (0.1973)  loss_giou_aux_0: 0.4507 (0.4507)  loss_fgl_aux_0: 1.2372 (1.2372)  loss_ddf_aux_0: 0.2133 (0.2133)  loss_mal_aux_1: 1.0010 (1.0010)  loss_bbox_aux_1: 0.1813 (0.1813)  loss_giou_aux_1: 0.4055 (0.4055)  loss_fgl_aux_1: 1.2002 (1.2002)  loss_ddf_aux_1: 0.0103 (0.0103)  loss_mal_pre: 0.9990 (0.9990)  loss_bbox_pre: 0.1974 (0.1974)  loss_giou_pre: 0.4495 (0.4495)  loss_mal_enc_0: 1.0771 (1.0771)  loss_bbox_enc_0: 0.2450 (0.2450)  loss_giou_enc_0: 0.5202 (0.5202)  loss_mal_dn_0: 0.7637 (0.7637)  loss_bbox_dn_0: 0.3313 (0.3313)  loss_giou_dn_0: 0.6849 (0.6849)  loss_fgl_dn_0: 1.2123 (1.2123)  loss_ddf_dn_0: 1.1264 (1.1264)  loss_mal_dn_1: 0.7725 (0.7725)  loss_bbox_dn_1: 0.2500 (0.2500)  loss_giou_dn_1: 0.4998 (0.4998)  loss_fgl_dn_1: 1.1638 (1.1638)  loss_ddf_dn_1: 0.0758 (0.0758)  loss_mal_dn_2: 0.7524 (0.7524)  loss_bbox_dn_2: 0.2344 (0.2344)  loss_giou_dn_2: 0.4718 (0.4718)  loss_fgl_dn_2: 1.1669 (1.1669)  loss_mal_dn_pre: 0.7607 (0.7607)  loss_bbox_dn_pre: 0.3386 (0.3386)  loss_giou_dn_pre: 0.6978 (0.6978)  time: 1.5133  data: 1.0609  max mem: 10586\n"
     ]
    },
    {
     "name": "stderr",
     "output_type": "stream",
     "text": [
      "2025-03-10 15:09:27,524 - DEIMTrainer - INFO - Evaluating model...\n"
     ]
    },
    {
     "name": "stdout",
     "output_type": "stream",
     "text": [
      "Epoch: [117]  [14/15]  eta: 0:00:00  lr: 0.000156  loss: 23.4915 (23.5348)  loss_mal: 0.9629 (0.9856)  loss_bbox: 0.1675 (0.1783)  loss_giou: 0.3953 (0.3943)  loss_fgl: 1.2010 (1.2012)  loss_mal_aux_0: 0.9976 (0.9988)  loss_bbox_aux_0: 0.1878 (0.1988)  loss_giou_aux_0: 0.4304 (0.4398)  loss_fgl_aux_0: 1.2371 (1.2373)  loss_ddf_aux_0: 0.2190 (0.2201)  loss_mal_aux_1: 0.9902 (0.9871)  loss_bbox_aux_1: 0.1701 (0.1797)  loss_giou_aux_1: 0.3945 (0.3973)  loss_fgl_aux_1: 1.2014 (1.2023)  loss_ddf_aux_1: 0.0107 (0.0111)  loss_mal_pre: 0.9990 (0.9967)  loss_bbox_pre: 0.1862 (0.1981)  loss_giou_pre: 0.4312 (0.4378)  loss_mal_enc_0: 1.1006 (1.1129)  loss_bbox_enc_0: 0.2416 (0.2626)  loss_giou_enc_0: 0.5157 (0.5390)  loss_mal_dn_0: 0.7778 (0.7780)  loss_bbox_dn_0: 0.3174 (0.3418)  loss_giou_dn_0: 0.6849 (0.7039)  loss_fgl_dn_0: 1.2110 (1.2110)  loss_ddf_dn_0: 1.1027 (1.0944)  loss_mal_dn_1: 0.7734 (0.7797)  loss_bbox_dn_1: 0.2373 (0.2504)  loss_giou_dn_1: 0.5032 (0.5144)  loss_fgl_dn_1: 1.1559 (1.1518)  loss_ddf_dn_1: 0.0758 (0.0737)  loss_mal_dn_2: 0.7607 (0.7632)  loss_bbox_dn_2: 0.2266 (0.2357)  loss_giou_dn_2: 0.4733 (0.4872)  loss_fgl_dn_2: 1.1480 (1.1486)  loss_mal_dn_pre: 0.7783 (0.7772)  loss_bbox_dn_pre: 0.3203 (0.3437)  loss_giou_dn_pre: 0.6978 (0.7013)  time: 0.4551  data: 0.0869  max mem: 10586\n",
      "Epoch: [117] Total time: 0:00:06 (0.4587 s / it)\n",
      "Averaged stats: lr: 0.000156  loss: 23.4915 (23.5348)  loss_mal: 0.9629 (0.9856)  loss_bbox: 0.1675 (0.1783)  loss_giou: 0.3953 (0.3943)  loss_fgl: 1.2010 (1.2012)  loss_mal_aux_0: 0.9976 (0.9988)  loss_bbox_aux_0: 0.1878 (0.1988)  loss_giou_aux_0: 0.4304 (0.4398)  loss_fgl_aux_0: 1.2371 (1.2373)  loss_ddf_aux_0: 0.2190 (0.2201)  loss_mal_aux_1: 0.9902 (0.9871)  loss_bbox_aux_1: 0.1701 (0.1797)  loss_giou_aux_1: 0.3945 (0.3973)  loss_fgl_aux_1: 1.2014 (1.2023)  loss_ddf_aux_1: 0.0107 (0.0111)  loss_mal_pre: 0.9990 (0.9967)  loss_bbox_pre: 0.1862 (0.1981)  loss_giou_pre: 0.4312 (0.4378)  loss_mal_enc_0: 1.1006 (1.1129)  loss_bbox_enc_0: 0.2416 (0.2626)  loss_giou_enc_0: 0.5157 (0.5390)  loss_mal_dn_0: 0.7778 (0.7780)  loss_bbox_dn_0: 0.3174 (0.3418)  loss_giou_dn_0: 0.6849 (0.7039)  loss_fgl_dn_0: 1.2110 (1.2110)  loss_ddf_dn_0: 1.1027 (1.0944)  loss_mal_dn_1: 0.7734 (0.7797)  loss_bbox_dn_1: 0.2373 (0.2504)  loss_giou_dn_1: 0.5032 (0.5144)  loss_fgl_dn_1: 1.1559 (1.1518)  loss_ddf_dn_1: 0.0758 (0.0737)  loss_mal_dn_2: 0.7607 (0.7632)  loss_bbox_dn_2: 0.2266 (0.2357)  loss_giou_dn_2: 0.4733 (0.4872)  loss_fgl_dn_2: 1.1480 (1.1486)  loss_mal_dn_pre: 0.7783 (0.7772)  loss_bbox_dn_pre: 0.3203 (0.3437)  loss_giou_dn_pre: 0.6978 (0.7013)\n",
      "Test:  [0/5]  eta: 0:00:03    time: 0.7258  data: 0.6143  max mem: 10586\n"
     ]
    },
    {
     "name": "stderr",
     "output_type": "stream",
     "text": [
      "2025-03-10 15:09:28,946 - DEIMTrainer - INFO - Epoch 117 - Train loss: 23.5348, Eval mAP: 0.5881\n",
      "2025-03-10 15:09:28,947 - DEIMTrainer - INFO - Best stats: {'epoch': 116, 'coco_eval_bbox': 0.59511740703142}\n"
     ]
    },
    {
     "name": "stdout",
     "output_type": "stream",
     "text": [
      "Test:  [4/5]  eta: 0:00:00    time: 0.2672  data: 0.1368  max mem: 10586\n",
      "Test: Total time: 0:00:01 (0.2789 s / it)\n",
      "Averaged stats: \n",
      "Accumulating evaluation results...\n",
      "COCOeval_opt.accumulate() finished...\n",
      "DONE (t=0.02s).\n",
      "IoU metric: bbox\n",
      " Average Precision  (AP) @[ IoU=0.50:0.95 | area=   all | maxDets=100 ] = 0.588\n",
      " Average Precision  (AP) @[ IoU=0.50      | area=   all | maxDets=100 ] = 0.850\n",
      " Average Precision  (AP) @[ IoU=0.75      | area=   all | maxDets=100 ] = 0.687\n",
      " Average Precision  (AP) @[ IoU=0.50:0.95 | area= small | maxDets=100 ] = 0.373\n",
      " Average Precision  (AP) @[ IoU=0.50:0.95 | area=medium | maxDets=100 ] = 0.588\n",
      " Average Precision  (AP) @[ IoU=0.50:0.95 | area= large | maxDets=100 ] = 0.453\n",
      " Average Recall     (AR) @[ IoU=0.50:0.95 | area=   all | maxDets=  1 ] = 0.404\n",
      " Average Recall     (AR) @[ IoU=0.50:0.95 | area=   all | maxDets= 10 ] = 0.662\n",
      " Average Recall     (AR) @[ IoU=0.50:0.95 | area=   all | maxDets=100 ] = 0.776\n",
      " Average Recall     (AR) @[ IoU=0.50:0.95 | area= small | maxDets=100 ] = 0.660\n",
      " Average Recall     (AR) @[ IoU=0.50:0.95 | area=medium | maxDets=100 ] = 0.747\n",
      " Average Recall     (AR) @[ IoU=0.50:0.95 | area= large | maxDets=100 ] = 0.781\n",
      " Average Recall     (AR) @[ IoU=0.50      | area=   all | maxDets=100 ] = 0.999\n",
      " Average Recall     (AR) @[ IoU=0.75      | area=   all | maxDets=100 ] = 0.931\n",
      "================================================\n",
      "{'coco_eval_bbox': [0.5880956648174469, 0.8495279139666634, 0.6871177194844134, 0.3728713894200722, 0.5875490901100942, 0.45255296180256577, 0.40400654413812315, 0.661565505644453, 0.7755167834115203, 0.66, 0.747470238095238, 0.7805720598098393]}\n",
      "================================================\n",
      "Epoch: [118]  [ 0/15]  eta: 0:00:22  lr: 0.000157  loss: 24.9831 (24.9831)  loss_mal: 1.0117 (1.0117)  loss_bbox: 0.2478 (0.2478)  loss_giou: 0.4270 (0.4270)  loss_fgl: 1.2808 (1.2808)  loss_mal_aux_0: 1.0771 (1.0771)  loss_bbox_aux_0: 0.2732 (0.2732)  loss_giou_aux_0: 0.4552 (0.4552)  loss_fgl_aux_0: 1.3014 (1.3014)  loss_ddf_aux_0: 0.2009 (0.2009)  loss_mal_aux_1: 1.0664 (1.0664)  loss_bbox_aux_1: 0.2481 (0.2481)  loss_giou_aux_1: 0.4307 (0.4307)  loss_fgl_aux_1: 1.2756 (1.2756)  loss_ddf_aux_1: 0.0097 (0.0097)  loss_mal_pre: 1.0811 (1.0811)  loss_bbox_pre: 0.2697 (0.2697)  loss_giou_pre: 0.4518 (0.4518)  loss_mal_enc_0: 1.1143 (1.1143)  loss_bbox_enc_0: 0.3660 (0.3660)  loss_giou_enc_0: 0.5940 (0.5940)  loss_mal_dn_0: 0.7915 (0.7915)  loss_bbox_dn_0: 0.4107 (0.4107)  loss_giou_dn_0: 0.7275 (0.7275)  loss_fgl_dn_0: 1.2628 (1.2628)  loss_ddf_dn_0: 0.9796 (0.9796)  loss_mal_dn_1: 0.7944 (0.7944)  loss_bbox_dn_1: 0.3092 (0.3092)  loss_giou_dn_1: 0.5417 (0.5417)  loss_fgl_dn_1: 1.2090 (1.2090)  loss_ddf_dn_1: 0.0667 (0.0667)  loss_mal_dn_2: 0.7646 (0.7646)  loss_bbox_dn_2: 0.2920 (0.2920)  loss_giou_dn_2: 0.5091 (0.5091)  loss_fgl_dn_2: 1.2136 (1.2136)  loss_mal_dn_pre: 0.7925 (0.7925)  loss_bbox_dn_pre: 0.4143 (0.4143)  loss_giou_dn_pre: 0.7215 (0.7215)  time: 1.4921  data: 1.0569  max mem: 10586\n"
     ]
    },
    {
     "name": "stderr",
     "output_type": "stream",
     "text": [
      "2025-03-10 15:09:35,783 - DEIMTrainer - INFO - Evaluating model...\n"
     ]
    },
    {
     "name": "stdout",
     "output_type": "stream",
     "text": [
      "Epoch: [118]  [14/15]  eta: 0:00:00  lr: 0.000159  loss: 23.7709 (23.9049)  loss_mal: 0.9883 (0.9982)  loss_bbox: 0.2016 (0.2019)  loss_giou: 0.4189 (0.4128)  loss_fgl: 1.1970 (1.1992)  loss_mal_aux_0: 1.0371 (1.0434)  loss_bbox_aux_0: 0.2280 (0.2228)  loss_giou_aux_0: 0.4552 (0.4519)  loss_fgl_aux_0: 1.2223 (1.2305)  loss_ddf_aux_0: 0.1593 (0.1642)  loss_mal_aux_1: 0.9941 (1.0045)  loss_bbox_aux_1: 0.2045 (0.2044)  loss_giou_aux_1: 0.4206 (0.4170)  loss_fgl_aux_1: 1.1972 (1.2014)  loss_ddf_aux_1: 0.0084 (0.0084)  loss_mal_pre: 1.0352 (1.0445)  loss_bbox_pre: 0.2292 (0.2220)  loss_giou_pre: 0.4518 (0.4498)  loss_mal_enc_0: 1.1172 (1.1270)  loss_bbox_enc_0: 0.2925 (0.2892)  loss_giou_enc_0: 0.5500 (0.5486)  loss_mal_dn_0: 0.7734 (0.7737)  loss_bbox_dn_0: 0.3638 (0.3697)  loss_giou_dn_0: 0.7259 (0.7222)  loss_fgl_dn_0: 1.2128 (1.2060)  loss_ddf_dn_0: 1.0638 (1.0563)  loss_mal_dn_1: 0.7744 (0.7718)  loss_bbox_dn_1: 0.2662 (0.2760)  loss_giou_dn_1: 0.5375 (0.5339)  loss_fgl_dn_1: 1.1467 (1.1479)  loss_ddf_dn_1: 0.0730 (0.0744)  loss_mal_dn_2: 0.7646 (0.7636)  loss_bbox_dn_2: 0.2515 (0.2585)  loss_giou_dn_2: 0.5011 (0.5012)  loss_fgl_dn_2: 1.1416 (1.1453)  loss_mal_dn_pre: 0.7725 (0.7739)  loss_bbox_dn_pre: 0.3611 (0.3722)  loss_giou_dn_pre: 0.7211 (0.7168)  time: 0.4501  data: 0.0885  max mem: 10586\n",
      "Epoch: [118] Total time: 0:00:06 (0.4546 s / it)\n",
      "Averaged stats: lr: 0.000159  loss: 23.7709 (23.9049)  loss_mal: 0.9883 (0.9982)  loss_bbox: 0.2016 (0.2019)  loss_giou: 0.4189 (0.4128)  loss_fgl: 1.1970 (1.1992)  loss_mal_aux_0: 1.0371 (1.0434)  loss_bbox_aux_0: 0.2280 (0.2228)  loss_giou_aux_0: 0.4552 (0.4519)  loss_fgl_aux_0: 1.2223 (1.2305)  loss_ddf_aux_0: 0.1593 (0.1642)  loss_mal_aux_1: 0.9941 (1.0045)  loss_bbox_aux_1: 0.2045 (0.2044)  loss_giou_aux_1: 0.4206 (0.4170)  loss_fgl_aux_1: 1.1972 (1.2014)  loss_ddf_aux_1: 0.0084 (0.0084)  loss_mal_pre: 1.0352 (1.0445)  loss_bbox_pre: 0.2292 (0.2220)  loss_giou_pre: 0.4518 (0.4498)  loss_mal_enc_0: 1.1172 (1.1270)  loss_bbox_enc_0: 0.2925 (0.2892)  loss_giou_enc_0: 0.5500 (0.5486)  loss_mal_dn_0: 0.7734 (0.7737)  loss_bbox_dn_0: 0.3638 (0.3697)  loss_giou_dn_0: 0.7259 (0.7222)  loss_fgl_dn_0: 1.2128 (1.2060)  loss_ddf_dn_0: 1.0638 (1.0563)  loss_mal_dn_1: 0.7744 (0.7718)  loss_bbox_dn_1: 0.2662 (0.2760)  loss_giou_dn_1: 0.5375 (0.5339)  loss_fgl_dn_1: 1.1467 (1.1479)  loss_ddf_dn_1: 0.0730 (0.0744)  loss_mal_dn_2: 0.7646 (0.7636)  loss_bbox_dn_2: 0.2515 (0.2585)  loss_giou_dn_2: 0.5011 (0.5012)  loss_fgl_dn_2: 1.1416 (1.1453)  loss_mal_dn_pre: 0.7725 (0.7739)  loss_bbox_dn_pre: 0.3611 (0.3722)  loss_giou_dn_pre: 0.7211 (0.7168)\n",
      "Test:  [0/5]  eta: 0:00:03    time: 0.7228  data: 0.6155  max mem: 10586\n"
     ]
    },
    {
     "name": "stderr",
     "output_type": "stream",
     "text": [
      "2025-03-10 15:09:37,199 - DEIMTrainer - INFO - Saving checkpoint to outputs/deim_hgnetv2_s_coco/best.pth\n"
     ]
    },
    {
     "name": "stdout",
     "output_type": "stream",
     "text": [
      "Test:  [4/5]  eta: 0:00:00    time: 0.2637  data: 0.1341  max mem: 10586\n",
      "Test: Total time: 0:00:01 (0.2769 s / it)\n",
      "Averaged stats: \n",
      "Accumulating evaluation results...\n",
      "COCOeval_opt.accumulate() finished...\n",
      "DONE (t=0.02s).\n",
      "IoU metric: bbox\n",
      " Average Precision  (AP) @[ IoU=0.50:0.95 | area=   all | maxDets=100 ] = 0.596\n",
      " Average Precision  (AP) @[ IoU=0.50      | area=   all | maxDets=100 ] = 0.861\n",
      " Average Precision  (AP) @[ IoU=0.75      | area=   all | maxDets=100 ] = 0.693\n",
      " Average Precision  (AP) @[ IoU=0.50:0.95 | area= small | maxDets=100 ] = 0.253\n",
      " Average Precision  (AP) @[ IoU=0.50:0.95 | area=medium | maxDets=100 ] = 0.610\n",
      " Average Precision  (AP) @[ IoU=0.50:0.95 | area= large | maxDets=100 ] = 0.462\n",
      " Average Recall     (AR) @[ IoU=0.50:0.95 | area=   all | maxDets=  1 ] = 0.397\n",
      " Average Recall     (AR) @[ IoU=0.50:0.95 | area=   all | maxDets= 10 ] = 0.658\n",
      " Average Recall     (AR) @[ IoU=0.50:0.95 | area=   all | maxDets=100 ] = 0.771\n",
      " Average Recall     (AR) @[ IoU=0.50:0.95 | area= small | maxDets=100 ] = 0.640\n",
      " Average Recall     (AR) @[ IoU=0.50:0.95 | area=medium | maxDets=100 ] = 0.777\n",
      " Average Recall     (AR) @[ IoU=0.50:0.95 | area= large | maxDets=100 ] = 0.782\n",
      " Average Recall     (AR) @[ IoU=0.50      | area=   all | maxDets=100 ] = 0.999\n",
      " Average Recall     (AR) @[ IoU=0.75      | area=   all | maxDets=100 ] = 0.914\n",
      "================================================\n",
      "{'coco_eval_bbox': [0.5955951504375431, 0.8608319618465261, 0.6925990674178485, 0.25265226086369674, 0.6101721326625446, 0.46228833987485735, 0.39692393376603907, 0.6575817213975108, 0.7710429920956235, 0.64, 0.7767857142857143, 0.7817564208782104]}\n",
      "================================================\n"
     ]
    },
    {
     "name": "stderr",
     "output_type": "stream",
     "text": [
      "2025-03-10 15:09:37,542 - DEIMTrainer - INFO - Checkpoint saved to outputs/deim_hgnetv2_s_coco/best.pth\n",
      "2025-03-10 15:09:37,545 - DEIMTrainer - INFO - Epoch 118 - Train loss: 23.9049, Eval mAP: 0.5956\n",
      "2025-03-10 15:09:37,545 - DEIMTrainer - INFO - Best stats: {'epoch': 118, 'coco_eval_bbox': 0.5955951504375431}\n"
     ]
    },
    {
     "name": "stdout",
     "output_type": "stream",
     "text": [
      "Epoch: [119]  [ 0/15]  eta: 0:00:29  lr: 0.000159  loss: 24.4102 (24.4102)  loss_mal: 1.0322 (1.0322)  loss_bbox: 0.2125 (0.2125)  loss_giou: 0.3858 (0.3858)  loss_fgl: 1.2022 (1.2022)  loss_mal_aux_0: 1.1025 (1.1025)  loss_bbox_aux_0: 0.2399 (0.2399)  loss_giou_aux_0: 0.4350 (0.4350)  loss_fgl_aux_0: 1.2373 (1.2373)  loss_ddf_aux_0: 0.1909 (0.1909)  loss_mal_aux_1: 1.0430 (1.0430)  loss_bbox_aux_1: 0.2190 (0.2190)  loss_giou_aux_1: 0.3935 (0.3935)  loss_fgl_aux_1: 1.2038 (1.2038)  loss_ddf_aux_1: 0.0115 (0.0115)  loss_mal_pre: 1.1025 (1.1025)  loss_bbox_pre: 0.2416 (0.2416)  loss_giou_pre: 0.4346 (0.4346)  loss_mal_enc_0: 1.2236 (1.2236)  loss_bbox_enc_0: 0.3210 (0.3210)  loss_giou_enc_0: 0.5383 (0.5383)  loss_mal_dn_0: 0.7583 (0.7583)  loss_bbox_dn_0: 0.4075 (0.4075)  loss_giou_dn_0: 0.7128 (0.7128)  loss_fgl_dn_0: 1.2239 (1.2239)  loss_ddf_dn_0: 1.1456 (1.1456)  loss_mal_dn_1: 0.7520 (0.7520)  loss_bbox_dn_1: 0.2999 (0.2999)  loss_giou_dn_1: 0.5205 (0.5205)  loss_fgl_dn_1: 1.1792 (1.1792)  loss_ddf_dn_1: 0.0931 (0.0931)  loss_mal_dn_2: 0.7422 (0.7422)  loss_bbox_dn_2: 0.2789 (0.2789)  loss_giou_dn_2: 0.4819 (0.4819)  loss_fgl_dn_2: 1.1798 (1.1798)  loss_mal_dn_pre: 0.7607 (0.7607)  loss_bbox_dn_pre: 0.4063 (0.4063)  loss_giou_dn_pre: 0.6969 (0.6969)  time: 1.9821  data: 1.5001  max mem: 10586\n"
     ]
    },
    {
     "name": "stderr",
     "output_type": "stream",
     "text": [
      "2025-03-10 15:09:44,816 - DEIMTrainer - INFO - Saving checkpoint to outputs/deim_hgnetv2_s_coco/checkpoint0119.pth\n"
     ]
    },
    {
     "name": "stdout",
     "output_type": "stream",
     "text": [
      "Epoch: [119]  [14/15]  eta: 0:00:00  lr: 0.000162  loss: 24.0302 (24.0464)  loss_mal: 0.9746 (0.9909)  loss_bbox: 0.2116 (0.2148)  loss_giou: 0.3841 (0.3941)  loss_fgl: 1.1903 (1.1911)  loss_mal_aux_0: 1.0312 (1.0486)  loss_bbox_aux_0: 0.2287 (0.2408)  loss_giou_aux_0: 0.4382 (0.4403)  loss_fgl_aux_0: 1.2281 (1.2294)  loss_ddf_aux_0: 0.2009 (0.2112)  loss_mal_aux_1: 0.9761 (1.0020)  loss_bbox_aux_1: 0.2124 (0.2177)  loss_giou_aux_1: 0.3905 (0.3990)  loss_fgl_aux_1: 1.1952 (1.1934)  loss_ddf_aux_1: 0.0123 (0.0125)  loss_mal_pre: 1.0312 (1.0474)  loss_bbox_pre: 0.2279 (0.2401)  loss_giou_pre: 0.4354 (0.4386)  loss_mal_enc_0: 1.1533 (1.1370)  loss_bbox_enc_0: 0.3210 (0.3313)  loss_giou_enc_0: 0.5556 (0.5652)  loss_mal_dn_0: 0.7788 (0.7792)  loss_bbox_dn_0: 0.3767 (0.3888)  loss_giou_dn_0: 0.6956 (0.6926)  loss_fgl_dn_0: 1.2199 (1.2157)  loss_ddf_dn_0: 1.0758 (1.1047)  loss_mal_dn_1: 0.7661 (0.7675)  loss_bbox_dn_1: 0.2739 (0.2878)  loss_giou_dn_1: 0.4946 (0.5078)  loss_fgl_dn_1: 1.1517 (1.1541)  loss_ddf_dn_1: 0.0846 (0.0797)  loss_mal_dn_2: 0.7568 (0.7562)  loss_bbox_dn_2: 0.2663 (0.2708)  loss_giou_dn_2: 0.4658 (0.4782)  loss_fgl_dn_2: 1.1502 (1.1513)  loss_mal_dn_pre: 0.7759 (0.7783)  loss_bbox_dn_pre: 0.3780 (0.3924)  loss_giou_dn_pre: 0.6969 (0.6956)  time: 0.4799  data: 0.1141  max mem: 10586\n",
      "Epoch: [119] Total time: 0:00:07 (0.4835 s / it)\n",
      "Averaged stats: lr: 0.000162  loss: 24.0302 (24.0464)  loss_mal: 0.9746 (0.9909)  loss_bbox: 0.2116 (0.2148)  loss_giou: 0.3841 (0.3941)  loss_fgl: 1.1903 (1.1911)  loss_mal_aux_0: 1.0312 (1.0486)  loss_bbox_aux_0: 0.2287 (0.2408)  loss_giou_aux_0: 0.4382 (0.4403)  loss_fgl_aux_0: 1.2281 (1.2294)  loss_ddf_aux_0: 0.2009 (0.2112)  loss_mal_aux_1: 0.9761 (1.0020)  loss_bbox_aux_1: 0.2124 (0.2177)  loss_giou_aux_1: 0.3905 (0.3990)  loss_fgl_aux_1: 1.1952 (1.1934)  loss_ddf_aux_1: 0.0123 (0.0125)  loss_mal_pre: 1.0312 (1.0474)  loss_bbox_pre: 0.2279 (0.2401)  loss_giou_pre: 0.4354 (0.4386)  loss_mal_enc_0: 1.1533 (1.1370)  loss_bbox_enc_0: 0.3210 (0.3313)  loss_giou_enc_0: 0.5556 (0.5652)  loss_mal_dn_0: 0.7788 (0.7792)  loss_bbox_dn_0: 0.3767 (0.3888)  loss_giou_dn_0: 0.6956 (0.6926)  loss_fgl_dn_0: 1.2199 (1.2157)  loss_ddf_dn_0: 1.0758 (1.1047)  loss_mal_dn_1: 0.7661 (0.7675)  loss_bbox_dn_1: 0.2739 (0.2878)  loss_giou_dn_1: 0.4946 (0.5078)  loss_fgl_dn_1: 1.1517 (1.1541)  loss_ddf_dn_1: 0.0846 (0.0797)  loss_mal_dn_2: 0.7568 (0.7562)  loss_bbox_dn_2: 0.2663 (0.2708)  loss_giou_dn_2: 0.4658 (0.4782)  loss_fgl_dn_2: 1.1502 (1.1513)  loss_mal_dn_pre: 0.7759 (0.7783)  loss_bbox_dn_pre: 0.3780 (0.3924)  loss_giou_dn_pre: 0.6969 (0.6956)\n"
     ]
    },
    {
     "name": "stderr",
     "output_type": "stream",
     "text": [
      "2025-03-10 15:09:45,064 - DEIMTrainer - INFO - Checkpoint saved to outputs/deim_hgnetv2_s_coco/checkpoint0119.pth\n",
      "2025-03-10 15:09:45,066 - DEIMTrainer - INFO - Evaluating model...\n"
     ]
    },
    {
     "name": "stdout",
     "output_type": "stream",
     "text": [
      "Test:  [0/5]  eta: 0:00:03    time: 0.7030  data: 0.5959  max mem: 10586\n"
     ]
    },
    {
     "name": "stderr",
     "output_type": "stream",
     "text": [
      "2025-03-10 15:09:46,456 - DEIMTrainer - INFO - Saving checkpoint to outputs/deim_hgnetv2_s_coco/best.pth\n"
     ]
    },
    {
     "name": "stdout",
     "output_type": "stream",
     "text": [
      "Test:  [4/5]  eta: 0:00:00    time: 0.2597  data: 0.1299  max mem: 10586\n",
      "Test: Total time: 0:00:01 (0.2723 s / it)\n",
      "Averaged stats: \n",
      "Accumulating evaluation results...\n",
      "COCOeval_opt.accumulate() finished...\n",
      "DONE (t=0.02s).\n",
      "IoU metric: bbox\n",
      " Average Precision  (AP) @[ IoU=0.50:0.95 | area=   all | maxDets=100 ] = 0.605\n",
      " Average Precision  (AP) @[ IoU=0.50      | area=   all | maxDets=100 ] = 0.863\n",
      " Average Precision  (AP) @[ IoU=0.75      | area=   all | maxDets=100 ] = 0.689\n",
      " Average Precision  (AP) @[ IoU=0.50:0.95 | area= small | maxDets=100 ] = 0.303\n",
      " Average Precision  (AP) @[ IoU=0.50:0.95 | area=medium | maxDets=100 ] = 0.619\n",
      " Average Precision  (AP) @[ IoU=0.50:0.95 | area= large | maxDets=100 ] = 0.470\n",
      " Average Recall     (AR) @[ IoU=0.50:0.95 | area=   all | maxDets=  1 ] = 0.400\n",
      " Average Recall     (AR) @[ IoU=0.50:0.95 | area=   all | maxDets= 10 ] = 0.664\n",
      " Average Recall     (AR) @[ IoU=0.50:0.95 | area=   all | maxDets=100 ] = 0.778\n",
      " Average Recall     (AR) @[ IoU=0.50:0.95 | area= small | maxDets=100 ] = 0.660\n",
      " Average Recall     (AR) @[ IoU=0.50:0.95 | area=medium | maxDets=100 ] = 0.785\n",
      " Average Recall     (AR) @[ IoU=0.50:0.95 | area= large | maxDets=100 ] = 0.783\n",
      " Average Recall     (AR) @[ IoU=0.50      | area=   all | maxDets=100 ] = 0.999\n",
      " Average Recall     (AR) @[ IoU=0.75      | area=   all | maxDets=100 ] = 0.927\n",
      "================================================\n",
      "{'coco_eval_bbox': [0.6046260007506029, 0.863364550059666, 0.6886227224810908, 0.3031162550606836, 0.61936285932789, 0.46995741016845033, 0.40000321316110793, 0.6636136280873122, 0.7779636055951845, 0.66, 0.7854166666666668, 0.7825139069712391]}\n",
      "================================================\n"
     ]
    },
    {
     "name": "stderr",
     "output_type": "stream",
     "text": [
      "2025-03-10 15:09:46,807 - DEIMTrainer - INFO - Checkpoint saved to outputs/deim_hgnetv2_s_coco/best.pth\n",
      "2025-03-10 15:09:46,808 - DEIMTrainer - INFO - Epoch 119 - Train loss: 24.0464, Eval mAP: 0.6046\n",
      "2025-03-10 15:09:46,809 - DEIMTrainer - INFO - Best stats: {'epoch': 119, 'coco_eval_bbox': 0.6046260007506029}\n"
     ]
    },
    {
     "name": "stdout",
     "output_type": "stream",
     "text": [
      "Epoch: [120]  [ 0/15]  eta: 0:00:16  lr: 0.000162  loss: 28.0992 (28.0992)  loss_mal: 0.8921 (0.8921)  loss_bbox: 0.4857 (0.4857)  loss_giou: 0.7861 (0.7861)  loss_fgl: 1.1577 (1.1577)  loss_mal_aux_0: 0.9370 (0.9370)  loss_bbox_aux_0: 0.4607 (0.4607)  loss_giou_aux_0: 0.7584 (0.7584)  loss_fgl_aux_0: 1.1245 (1.1245)  loss_ddf_aux_0: 0.3407 (0.3407)  loss_mal_aux_1: 0.9067 (0.9067)  loss_bbox_aux_1: 0.4794 (0.4794)  loss_giou_aux_1: 0.7844 (0.7844)  loss_fgl_aux_1: 1.1386 (1.1386)  loss_ddf_aux_1: 0.0171 (0.0171)  loss_mal_pre: 0.9512 (0.9512)  loss_bbox_pre: 0.4633 (0.4633)  loss_giou_pre: 0.7576 (0.7576)  loss_mal_enc_0: 1.0049 (1.0049)  loss_bbox_enc_0: 0.5370 (0.5370)  loss_giou_enc_0: 0.8293 (0.8293)  loss_mal_dn_0: 0.7236 (0.7236)  loss_bbox_dn_0: 0.5476 (0.5476)  loss_giou_dn_0: 0.9059 (0.9059)  loss_fgl_dn_0: 1.1307 (1.1307)  loss_ddf_dn_0: 1.4318 (1.4318)  loss_mal_dn_1: 0.7417 (0.7417)  loss_bbox_dn_1: 0.4809 (0.4809)  loss_giou_dn_1: 0.7622 (0.7622)  loss_fgl_dn_1: 1.1746 (1.1746)  loss_ddf_dn_1: 0.0950 (0.0950)  loss_mal_dn_2: 0.7378 (0.7378)  loss_bbox_dn_2: 0.4629 (0.4629)  loss_giou_dn_2: 0.7380 (0.7380)  loss_fgl_dn_2: 1.1981 (1.1981)  loss_mal_dn_pre: 0.7383 (0.7383)  loss_bbox_dn_pre: 0.5443 (0.5443)  loss_giou_dn_pre: 0.8733 (0.8733)  time: 1.1214  data: 0.6370  max mem: 10586\n"
     ]
    },
    {
     "name": "stderr",
     "output_type": "stream",
     "text": [
      "2025-03-10 15:09:53,069 - DEIMTrainer - INFO - Evaluating model...\n"
     ]
    },
    {
     "name": "stdout",
     "output_type": "stream",
     "text": [
      "Epoch: [120]  [14/15]  eta: 0:00:00  lr: 0.000165  loss: 23.8232 (24.4364)  loss_mal: 0.9272 (0.9689)  loss_bbox: 0.2153 (0.2501)  loss_giou: 0.3875 (0.4263)  loss_fgl: 1.1964 (1.1920)  loss_mal_aux_0: 0.9883 (1.0022)  loss_bbox_aux_0: 0.2342 (0.2636)  loss_giou_aux_0: 0.4178 (0.4521)  loss_fgl_aux_0: 1.2162 (1.2128)  loss_ddf_aux_0: 0.1943 (0.2241)  loss_mal_aux_1: 0.9443 (1.0056)  loss_bbox_aux_1: 0.2186 (0.2508)  loss_giou_aux_1: 0.3893 (0.4282)  loss_fgl_aux_1: 1.1902 (1.1916)  loss_ddf_aux_1: 0.0104 (0.0111)  loss_mal_pre: 0.9814 (1.0033)  loss_bbox_pre: 0.2310 (0.2622)  loss_giou_pre: 0.4153 (0.4484)  loss_mal_enc_0: 1.0635 (1.0577)  loss_bbox_enc_0: 0.2755 (0.3165)  loss_giou_enc_0: 0.4712 (0.5196)  loss_mal_dn_0: 0.7759 (0.7686)  loss_bbox_dn_0: 0.4102 (0.4261)  loss_giou_dn_0: 0.6895 (0.7181)  loss_fgl_dn_0: 1.2190 (1.2070)  loss_ddf_dn_0: 1.2968 (1.3260)  loss_mal_dn_1: 0.7656 (0.7689)  loss_bbox_dn_1: 0.2976 (0.3225)  loss_giou_dn_1: 0.5203 (0.5354)  loss_fgl_dn_1: 1.1614 (1.1581)  loss_ddf_dn_1: 0.0778 (0.0793)  loss_mal_dn_2: 0.7612 (0.7613)  loss_bbox_dn_2: 0.2851 (0.3062)  loss_giou_dn_2: 0.5004 (0.5112)  loss_fgl_dn_2: 1.1572 (1.1582)  loss_mal_dn_pre: 0.7744 (0.7693)  loss_bbox_dn_pre: 0.4147 (0.4257)  loss_giou_dn_pre: 0.6862 (0.7078)  time: 0.4123  data: 0.0584  max mem: 10586\n",
      "Epoch: [120] Total time: 0:00:06 (0.4162 s / it)\n",
      "Averaged stats: lr: 0.000165  loss: 23.8232 (24.4364)  loss_mal: 0.9272 (0.9689)  loss_bbox: 0.2153 (0.2501)  loss_giou: 0.3875 (0.4263)  loss_fgl: 1.1964 (1.1920)  loss_mal_aux_0: 0.9883 (1.0022)  loss_bbox_aux_0: 0.2342 (0.2636)  loss_giou_aux_0: 0.4178 (0.4521)  loss_fgl_aux_0: 1.2162 (1.2128)  loss_ddf_aux_0: 0.1943 (0.2241)  loss_mal_aux_1: 0.9443 (1.0056)  loss_bbox_aux_1: 0.2186 (0.2508)  loss_giou_aux_1: 0.3893 (0.4282)  loss_fgl_aux_1: 1.1902 (1.1916)  loss_ddf_aux_1: 0.0104 (0.0111)  loss_mal_pre: 0.9814 (1.0033)  loss_bbox_pre: 0.2310 (0.2622)  loss_giou_pre: 0.4153 (0.4484)  loss_mal_enc_0: 1.0635 (1.0577)  loss_bbox_enc_0: 0.2755 (0.3165)  loss_giou_enc_0: 0.4712 (0.5196)  loss_mal_dn_0: 0.7759 (0.7686)  loss_bbox_dn_0: 0.4102 (0.4261)  loss_giou_dn_0: 0.6895 (0.7181)  loss_fgl_dn_0: 1.2190 (1.2070)  loss_ddf_dn_0: 1.2968 (1.3260)  loss_mal_dn_1: 0.7656 (0.7689)  loss_bbox_dn_1: 0.2976 (0.3225)  loss_giou_dn_1: 0.5203 (0.5354)  loss_fgl_dn_1: 1.1614 (1.1581)  loss_ddf_dn_1: 0.0778 (0.0793)  loss_mal_dn_2: 0.7612 (0.7613)  loss_bbox_dn_2: 0.2851 (0.3062)  loss_giou_dn_2: 0.5004 (0.5112)  loss_fgl_dn_2: 1.1572 (1.1582)  loss_mal_dn_pre: 0.7744 (0.7693)  loss_bbox_dn_pre: 0.4147 (0.4257)  loss_giou_dn_pre: 0.6862 (0.7078)\n",
      "Test:  [0/5]  eta: 0:00:03    time: 0.6819  data: 0.5749  max mem: 10586\n"
     ]
    },
    {
     "name": "stderr",
     "output_type": "stream",
     "text": [
      "2025-03-10 15:09:54,416 - DEIMTrainer - INFO - Epoch 120 - Train loss: 24.4364, Eval mAP: 0.5150\n",
      "2025-03-10 15:09:54,416 - DEIMTrainer - INFO - Best stats: {'epoch': 119, 'coco_eval_bbox': 0.6046260007506029}\n"
     ]
    },
    {
     "name": "stdout",
     "output_type": "stream",
     "text": [
      "Test:  [4/5]  eta: 0:00:00    time: 0.2525  data: 0.1250  max mem: 10586\n",
      "Test: Total time: 0:00:01 (0.2638 s / it)\n",
      "Averaged stats: \n",
      "Accumulating evaluation results...\n",
      "COCOeval_opt.accumulate() finished...\n",
      "DONE (t=0.02s).\n",
      "IoU metric: bbox\n",
      " Average Precision  (AP) @[ IoU=0.50:0.95 | area=   all | maxDets=100 ] = 0.515\n",
      " Average Precision  (AP) @[ IoU=0.50      | area=   all | maxDets=100 ] = 0.842\n",
      " Average Precision  (AP) @[ IoU=0.75      | area=   all | maxDets=100 ] = 0.541\n",
      " Average Precision  (AP) @[ IoU=0.50:0.95 | area= small | maxDets=100 ] = 0.112\n",
      " Average Precision  (AP) @[ IoU=0.50:0.95 | area=medium | maxDets=100 ] = 0.544\n",
      " Average Precision  (AP) @[ IoU=0.50:0.95 | area= large | maxDets=100 ] = 0.443\n",
      " Average Recall     (AR) @[ IoU=0.50:0.95 | area=   all | maxDets=  1 ] = 0.357\n",
      " Average Recall     (AR) @[ IoU=0.50:0.95 | area=   all | maxDets= 10 ] = 0.581\n",
      " Average Recall     (AR) @[ IoU=0.50:0.95 | area=   all | maxDets=100 ] = 0.686\n",
      " Average Recall     (AR) @[ IoU=0.50:0.95 | area= small | maxDets=100 ] = 0.580\n",
      " Average Recall     (AR) @[ IoU=0.50:0.95 | area=medium | maxDets=100 ] = 0.706\n",
      " Average Recall     (AR) @[ IoU=0.50:0.95 | area= large | maxDets=100 ] = 0.820\n",
      " Average Recall     (AR) @[ IoU=0.50      | area=   all | maxDets=100 ] = 0.978\n",
      " Average Recall     (AR) @[ IoU=0.75      | area=   all | maxDets=100 ] = 0.755\n",
      "================================================\n",
      "{'coco_eval_bbox': [0.5150300457530698, 0.8415295029784217, 0.5412315617430432, 0.11157354594160848, 0.5435987498028311, 0.4427514427730477, 0.35714633806739066, 0.5807791380159802, 0.6864509028982712, 0.5800000000000001, 0.7061309523809525, 0.8199218842466565]}\n",
      "================================================\n",
      "Epoch: [121]  [ 0/15]  eta: 0:00:16  lr: 0.000165  loss: 22.5638 (22.5638)  loss_mal: 0.8652 (0.8652)  loss_bbox: 0.1900 (0.1900)  loss_giou: 0.3569 (0.3569)  loss_fgl: 1.1912 (1.1912)  loss_mal_aux_0: 0.9458 (0.9458)  loss_bbox_aux_0: 0.1984 (0.1984)  loss_giou_aux_0: 0.3770 (0.3770)  loss_fgl_aux_0: 1.2077 (1.2077)  loss_ddf_aux_0: 0.1329 (0.1329)  loss_mal_aux_1: 0.8652 (0.8652)  loss_bbox_aux_1: 0.1898 (0.1898)  loss_giou_aux_1: 0.3585 (0.3585)  loss_fgl_aux_1: 1.1922 (1.1922)  loss_ddf_aux_1: 0.0074 (0.0074)  loss_mal_pre: 0.9395 (0.9395)  loss_bbox_pre: 0.1983 (0.1983)  loss_giou_pre: 0.3782 (0.3782)  loss_mal_enc_0: 1.0410 (1.0410)  loss_bbox_enc_0: 0.2343 (0.2343)  loss_giou_enc_0: 0.4300 (0.4300)  loss_mal_dn_0: 0.7651 (0.7651)  loss_bbox_dn_0: 0.3867 (0.3867)  loss_giou_dn_0: 0.6390 (0.6390)  loss_fgl_dn_0: 1.2084 (1.2084)  loss_ddf_dn_0: 1.1585 (1.1585)  loss_mal_dn_1: 0.7441 (0.7441)  loss_bbox_dn_1: 0.2792 (0.2792)  loss_giou_dn_1: 0.4700 (0.4700)  loss_fgl_dn_1: 1.1574 (1.1574)  loss_ddf_dn_1: 0.0686 (0.0686)  loss_mal_dn_2: 0.7388 (0.7388)  loss_bbox_dn_2: 0.2610 (0.2610)  loss_giou_dn_2: 0.4485 (0.4485)  loss_fgl_dn_2: 1.1511 (1.1511)  loss_mal_dn_pre: 0.7637 (0.7637)  loss_bbox_dn_pre: 0.3858 (0.3858)  loss_giou_dn_pre: 0.6381 (0.6381)  time: 1.1319  data: 0.7187  max mem: 10586\n"
     ]
    },
    {
     "name": "stderr",
     "output_type": "stream",
     "text": [
      "2025-03-10 15:10:00,673 - DEIMTrainer - INFO - Evaluating model...\n"
     ]
    },
    {
     "name": "stdout",
     "output_type": "stream",
     "text": [
      "Epoch: [121]  [14/15]  eta: 0:00:00  lr: 0.000167  loss: 22.5638 (22.6460)  loss_mal: 0.9087 (0.9180)  loss_bbox: 0.1862 (0.1878)  loss_giou: 0.3328 (0.3356)  loss_fgl: 1.1875 (1.1852)  loss_mal_aux_0: 0.9121 (0.9320)  loss_bbox_aux_0: 0.1984 (0.2010)  loss_giou_aux_0: 0.3575 (0.3604)  loss_fgl_aux_0: 1.2073 (1.2125)  loss_ddf_aux_0: 0.1747 (0.1608)  loss_mal_aux_1: 0.8979 (0.9193)  loss_bbox_aux_1: 0.1857 (0.1880)  loss_giou_aux_1: 0.3324 (0.3367)  loss_fgl_aux_1: 1.1873 (1.1863)  loss_ddf_aux_1: 0.0084 (0.0085)  loss_mal_pre: 0.9155 (0.9296)  loss_bbox_pre: 0.1956 (0.1982)  loss_giou_pre: 0.3518 (0.3568)  loss_mal_enc_0: 1.0254 (1.0332)  loss_bbox_enc_0: 0.2321 (0.2353)  loss_giou_enc_0: 0.4080 (0.4095)  loss_mal_dn_0: 0.7778 (0.7775)  loss_bbox_dn_0: 0.3616 (0.3578)  loss_giou_dn_0: 0.6123 (0.6121)  loss_fgl_dn_0: 1.2370 (1.2402)  loss_ddf_dn_0: 1.3151 (1.3498)  loss_mal_dn_1: 0.7524 (0.7591)  loss_bbox_dn_1: 0.2650 (0.2583)  loss_giou_dn_1: 0.4398 (0.4423)  loss_fgl_dn_1: 1.1595 (1.1588)  loss_ddf_dn_1: 0.0746 (0.0740)  loss_mal_dn_2: 0.7441 (0.7503)  loss_bbox_dn_2: 0.2522 (0.2456)  loss_giou_dn_2: 0.4210 (0.4228)  loss_fgl_dn_2: 1.1576 (1.1561)  loss_mal_dn_pre: 0.7749 (0.7759)  loss_bbox_dn_pre: 0.3556 (0.3575)  loss_giou_dn_pre: 0.6122 (0.6131)  time: 0.4122  data: 0.0611  max mem: 10586\n",
      "Epoch: [121] Total time: 0:00:06 (0.4160 s / it)\n",
      "Averaged stats: lr: 0.000167  loss: 22.5638 (22.6460)  loss_mal: 0.9087 (0.9180)  loss_bbox: 0.1862 (0.1878)  loss_giou: 0.3328 (0.3356)  loss_fgl: 1.1875 (1.1852)  loss_mal_aux_0: 0.9121 (0.9320)  loss_bbox_aux_0: 0.1984 (0.2010)  loss_giou_aux_0: 0.3575 (0.3604)  loss_fgl_aux_0: 1.2073 (1.2125)  loss_ddf_aux_0: 0.1747 (0.1608)  loss_mal_aux_1: 0.8979 (0.9193)  loss_bbox_aux_1: 0.1857 (0.1880)  loss_giou_aux_1: 0.3324 (0.3367)  loss_fgl_aux_1: 1.1873 (1.1863)  loss_ddf_aux_1: 0.0084 (0.0085)  loss_mal_pre: 0.9155 (0.9296)  loss_bbox_pre: 0.1956 (0.1982)  loss_giou_pre: 0.3518 (0.3568)  loss_mal_enc_0: 1.0254 (1.0332)  loss_bbox_enc_0: 0.2321 (0.2353)  loss_giou_enc_0: 0.4080 (0.4095)  loss_mal_dn_0: 0.7778 (0.7775)  loss_bbox_dn_0: 0.3616 (0.3578)  loss_giou_dn_0: 0.6123 (0.6121)  loss_fgl_dn_0: 1.2370 (1.2402)  loss_ddf_dn_0: 1.3151 (1.3498)  loss_mal_dn_1: 0.7524 (0.7591)  loss_bbox_dn_1: 0.2650 (0.2583)  loss_giou_dn_1: 0.4398 (0.4423)  loss_fgl_dn_1: 1.1595 (1.1588)  loss_ddf_dn_1: 0.0746 (0.0740)  loss_mal_dn_2: 0.7441 (0.7503)  loss_bbox_dn_2: 0.2522 (0.2456)  loss_giou_dn_2: 0.4210 (0.4228)  loss_fgl_dn_2: 1.1576 (1.1561)  loss_mal_dn_pre: 0.7749 (0.7759)  loss_bbox_dn_pre: 0.3556 (0.3575)  loss_giou_dn_pre: 0.6122 (0.6131)\n",
      "Test:  [0/5]  eta: 0:00:03    time: 0.7301  data: 0.6068  max mem: 10586\n"
     ]
    },
    {
     "name": "stderr",
     "output_type": "stream",
     "text": [
      "2025-03-10 15:10:02,123 - DEIMTrainer - INFO - Epoch 121 - Train loss: 22.6460, Eval mAP: 0.5619\n",
      "2025-03-10 15:10:02,124 - DEIMTrainer - INFO - Best stats: {'epoch': 119, 'coco_eval_bbox': 0.6046260007506029}\n"
     ]
    },
    {
     "name": "stdout",
     "output_type": "stream",
     "text": [
      "Test:  [4/5]  eta: 0:00:00    time: 0.2726  data: 0.1406  max mem: 10586\n",
      "Test: Total time: 0:00:01 (0.2838 s / it)\n",
      "Averaged stats: \n",
      "Accumulating evaluation results...\n",
      "COCOeval_opt.accumulate() finished...\n",
      "DONE (t=0.02s).\n",
      "IoU metric: bbox\n",
      " Average Precision  (AP) @[ IoU=0.50:0.95 | area=   all | maxDets=100 ] = 0.562\n",
      " Average Precision  (AP) @[ IoU=0.50      | area=   all | maxDets=100 ] = 0.854\n",
      " Average Precision  (AP) @[ IoU=0.75      | area=   all | maxDets=100 ] = 0.601\n",
      " Average Precision  (AP) @[ IoU=0.50:0.95 | area= small | maxDets=100 ] = 0.257\n",
      " Average Precision  (AP) @[ IoU=0.50:0.95 | area=medium | maxDets=100 ] = 0.597\n",
      " Average Precision  (AP) @[ IoU=0.50:0.95 | area= large | maxDets=100 ] = 0.450\n",
      " Average Recall     (AR) @[ IoU=0.50:0.95 | area=   all | maxDets=  1 ] = 0.378\n",
      " Average Recall     (AR) @[ IoU=0.50:0.95 | area=   all | maxDets= 10 ] = 0.625\n",
      " Average Recall     (AR) @[ IoU=0.50:0.95 | area=   all | maxDets=100 ] = 0.736\n",
      " Average Recall     (AR) @[ IoU=0.50:0.95 | area= small | maxDets=100 ] = 0.580\n",
      " Average Recall     (AR) @[ IoU=0.50:0.95 | area=medium | maxDets=100 ] = 0.746\n",
      " Average Recall     (AR) @[ IoU=0.50:0.95 | area= large | maxDets=100 ] = 0.839\n",
      " Average Recall     (AR) @[ IoU=0.50      | area=   all | maxDets=100 ] = 0.989\n",
      " Average Recall     (AR) @[ IoU=0.75      | area=   all | maxDets=100 ] = 0.852\n",
      "================================================\n",
      "{'coco_eval_bbox': [0.5619334972825651, 0.8542085027561066, 0.6006454175761982, 0.25683313520856454, 0.5967341276171403, 0.4495171411948422, 0.37781178373283636, 0.6252358995780049, 0.7364286785339417, 0.5800000000000001, 0.7464285714285716, 0.8388385213240226]}\n",
      "================================================\n",
      "Epoch: [122]  [ 0/15]  eta: 0:00:19  lr: 0.000167  loss: 22.5899 (22.5899)  loss_mal: 0.9678 (0.9678)  loss_bbox: 0.1820 (0.1820)  loss_giou: 0.3468 (0.3468)  loss_fgl: 1.1796 (1.1796)  loss_mal_aux_0: 1.0098 (1.0098)  loss_bbox_aux_0: 0.1965 (0.1965)  loss_giou_aux_0: 0.3752 (0.3752)  loss_fgl_aux_0: 1.2100 (1.2100)  loss_ddf_aux_0: 0.1349 (0.1349)  loss_mal_aux_1: 0.9116 (0.9116)  loss_bbox_aux_1: 0.1812 (0.1812)  loss_giou_aux_1: 0.3467 (0.3467)  loss_fgl_aux_1: 1.1819 (1.1819)  loss_ddf_aux_1: 0.0065 (0.0065)  loss_mal_pre: 1.0049 (1.0049)  loss_bbox_pre: 0.1949 (0.1949)  loss_giou_pre: 0.3728 (0.3728)  loss_mal_enc_0: 0.9858 (0.9858)  loss_bbox_enc_0: 0.2225 (0.2225)  loss_giou_enc_0: 0.4060 (0.4060)  loss_mal_dn_0: 0.7827 (0.7827)  loss_bbox_dn_0: 0.3339 (0.3339)  loss_giou_dn_0: 0.5911 (0.5911)  loss_fgl_dn_0: 1.2321 (1.2321)  loss_ddf_dn_0: 1.2883 (1.2883)  loss_mal_dn_1: 0.7607 (0.7607)  loss_bbox_dn_1: 0.2434 (0.2434)  loss_giou_dn_1: 0.4377 (0.4377)  loss_fgl_dn_1: 1.1587 (1.1587)  loss_ddf_dn_1: 0.0644 (0.0644)  loss_mal_dn_2: 0.7681 (0.7681)  loss_bbox_dn_2: 0.2308 (0.2308)  loss_giou_dn_2: 0.4172 (0.4172)  loss_fgl_dn_2: 1.1525 (1.1525)  loss_mal_dn_pre: 0.7817 (0.7817)  loss_bbox_dn_pre: 0.3370 (0.3370)  loss_giou_dn_pre: 0.5923 (0.5923)  time: 1.2937  data: 0.7599  max mem: 10586\n"
     ]
    },
    {
     "name": "stderr",
     "output_type": "stream",
     "text": [
      "2025-03-10 15:10:08,919 - DEIMTrainer - INFO - Evaluating model...\n"
     ]
    },
    {
     "name": "stdout",
     "output_type": "stream",
     "text": [
      "Epoch: [122]  [14/15]  eta: 0:00:00  lr: 0.000170  loss: 21.9310 (21.9074)  loss_mal: 0.8574 (0.8975)  loss_bbox: 0.1804 (0.1792)  loss_giou: 0.3277 (0.3201)  loss_fgl: 1.1773 (1.1723)  loss_mal_aux_0: 0.9126 (0.9326)  loss_bbox_aux_0: 0.1907 (0.1902)  loss_giou_aux_0: 0.3421 (0.3398)  loss_fgl_aux_0: 1.2009 (1.1964)  loss_ddf_aux_0: 0.1233 (0.1261)  loss_mal_aux_1: 0.8677 (0.8953)  loss_bbox_aux_1: 0.1793 (0.1797)  loss_giou_aux_1: 0.3286 (0.3212)  loss_fgl_aux_1: 1.1806 (1.1740)  loss_ddf_aux_1: 0.0056 (0.0057)  loss_mal_pre: 0.9131 (0.9322)  loss_bbox_pre: 0.1906 (0.1891)  loss_giou_pre: 0.3447 (0.3385)  loss_mal_enc_0: 0.9663 (0.9914)  loss_bbox_enc_0: 0.2233 (0.2232)  loss_giou_enc_0: 0.4035 (0.3904)  loss_mal_dn_0: 0.7710 (0.7725)  loss_bbox_dn_0: 0.3281 (0.3308)  loss_giou_dn_0: 0.5674 (0.5752)  loss_fgl_dn_0: 1.2474 (1.2434)  loss_ddf_dn_0: 1.1700 (1.1845)  loss_mal_dn_1: 0.7534 (0.7510)  loss_bbox_dn_1: 0.2390 (0.2398)  loss_giou_dn_1: 0.4156 (0.4160)  loss_fgl_dn_1: 1.1587 (1.1520)  loss_ddf_dn_1: 0.0561 (0.0570)  loss_mal_dn_2: 0.7397 (0.7409)  loss_bbox_dn_2: 0.2275 (0.2274)  loss_giou_dn_2: 0.3993 (0.3974)  loss_fgl_dn_2: 1.1525 (1.1472)  loss_mal_dn_pre: 0.7710 (0.7724)  loss_bbox_dn_pre: 0.3335 (0.3299)  loss_giou_dn_pre: 0.5693 (0.5750)  time: 0.4474  data: 0.0674  max mem: 10586\n",
      "Epoch: [122] Total time: 0:00:06 (0.4517 s / it)\n",
      "Averaged stats: lr: 0.000170  loss: 21.9310 (21.9074)  loss_mal: 0.8574 (0.8975)  loss_bbox: 0.1804 (0.1792)  loss_giou: 0.3277 (0.3201)  loss_fgl: 1.1773 (1.1723)  loss_mal_aux_0: 0.9126 (0.9326)  loss_bbox_aux_0: 0.1907 (0.1902)  loss_giou_aux_0: 0.3421 (0.3398)  loss_fgl_aux_0: 1.2009 (1.1964)  loss_ddf_aux_0: 0.1233 (0.1261)  loss_mal_aux_1: 0.8677 (0.8953)  loss_bbox_aux_1: 0.1793 (0.1797)  loss_giou_aux_1: 0.3286 (0.3212)  loss_fgl_aux_1: 1.1806 (1.1740)  loss_ddf_aux_1: 0.0056 (0.0057)  loss_mal_pre: 0.9131 (0.9322)  loss_bbox_pre: 0.1906 (0.1891)  loss_giou_pre: 0.3447 (0.3385)  loss_mal_enc_0: 0.9663 (0.9914)  loss_bbox_enc_0: 0.2233 (0.2232)  loss_giou_enc_0: 0.4035 (0.3904)  loss_mal_dn_0: 0.7710 (0.7725)  loss_bbox_dn_0: 0.3281 (0.3308)  loss_giou_dn_0: 0.5674 (0.5752)  loss_fgl_dn_0: 1.2474 (1.2434)  loss_ddf_dn_0: 1.1700 (1.1845)  loss_mal_dn_1: 0.7534 (0.7510)  loss_bbox_dn_1: 0.2390 (0.2398)  loss_giou_dn_1: 0.4156 (0.4160)  loss_fgl_dn_1: 1.1587 (1.1520)  loss_ddf_dn_1: 0.0561 (0.0570)  loss_mal_dn_2: 0.7397 (0.7409)  loss_bbox_dn_2: 0.2275 (0.2274)  loss_giou_dn_2: 0.3993 (0.3974)  loss_fgl_dn_2: 1.1525 (1.1472)  loss_mal_dn_pre: 0.7710 (0.7724)  loss_bbox_dn_pre: 0.3335 (0.3299)  loss_giou_dn_pre: 0.5693 (0.5750)\n",
      "Test:  [0/5]  eta: 0:00:04    time: 0.8267  data: 0.7085  max mem: 10586\n"
     ]
    },
    {
     "name": "stderr",
     "output_type": "stream",
     "text": [
      "2025-03-10 15:10:10,316 - DEIMTrainer - INFO - Saving checkpoint to outputs/deim_hgnetv2_s_coco/best.pth\n"
     ]
    },
    {
     "name": "stdout",
     "output_type": "stream",
     "text": [
      "Test:  [4/5]  eta: 0:00:00    time: 0.2603  data: 0.1541  max mem: 10586\n",
      "Test: Total time: 0:00:01 (0.2731 s / it)\n",
      "Averaged stats: \n",
      "Accumulating evaluation results...\n",
      "COCOeval_opt.accumulate() finished...\n",
      "DONE (t=0.02s).\n",
      "IoU metric: bbox\n",
      " Average Precision  (AP) @[ IoU=0.50:0.95 | area=   all | maxDets=100 ] = 0.610\n",
      " Average Precision  (AP) @[ IoU=0.50      | area=   all | maxDets=100 ] = 0.871\n",
      " Average Precision  (AP) @[ IoU=0.75      | area=   all | maxDets=100 ] = 0.707\n",
      " Average Precision  (AP) @[ IoU=0.50:0.95 | area= small | maxDets=100 ] = 0.420\n",
      " Average Precision  (AP) @[ IoU=0.50:0.95 | area=medium | maxDets=100 ] = 0.602\n",
      " Average Precision  (AP) @[ IoU=0.50:0.95 | area= large | maxDets=100 ] = 0.467\n",
      " Average Recall     (AR) @[ IoU=0.50:0.95 | area=   all | maxDets=  1 ] = 0.403\n",
      " Average Recall     (AR) @[ IoU=0.50:0.95 | area=   all | maxDets= 10 ] = 0.670\n",
      " Average Recall     (AR) @[ IoU=0.50:0.95 | area=   all | maxDets=100 ] = 0.776\n",
      " Average Recall     (AR) @[ IoU=0.50:0.95 | area= small | maxDets=100 ] = 0.600\n",
      " Average Recall     (AR) @[ IoU=0.50:0.95 | area=medium | maxDets=100 ] = 0.748\n",
      " Average Recall     (AR) @[ IoU=0.50:0.95 | area= large | maxDets=100 ] = 0.817\n",
      " Average Recall     (AR) @[ IoU=0.50      | area=   all | maxDets=100 ] = 1.000\n",
      " Average Recall     (AR) @[ IoU=0.75      | area=   all | maxDets=100 ] = 0.929\n",
      "================================================\n",
      "{'coco_eval_bbox': [0.6101805637984584, 0.8712658640273135, 0.7070639351685132, 0.419709761541487, 0.6015220897890902, 0.46745443743877313, 0.40324154403101775, 0.6702887025255446, 0.7760201786517577, 0.6, 0.7478273809523811, 0.8173361739061822]}\n",
      "================================================\n"
     ]
    },
    {
     "name": "stderr",
     "output_type": "stream",
     "text": [
      "2025-03-10 15:10:10,822 - DEIMTrainer - INFO - Checkpoint saved to outputs/deim_hgnetv2_s_coco/best.pth\n",
      "2025-03-10 15:10:10,824 - DEIMTrainer - INFO - Epoch 122 - Train loss: 21.9074, Eval mAP: 0.6102\n",
      "2025-03-10 15:10:10,824 - DEIMTrainer - INFO - Best stats: {'epoch': 122, 'coco_eval_bbox': 0.6101805637984584}\n"
     ]
    },
    {
     "name": "stdout",
     "output_type": "stream",
     "text": [
      "Epoch: [123]  [ 0/15]  eta: 0:00:18  lr: 0.000170  loss: 22.1119 (22.1119)  loss_mal: 0.8599 (0.8599)  loss_bbox: 0.1844 (0.1844)  loss_giou: 0.3451 (0.3451)  loss_fgl: 1.1798 (1.1798)  loss_mal_aux_0: 0.8535 (0.8535)  loss_bbox_aux_0: 0.1907 (0.1907)  loss_giou_aux_0: 0.3603 (0.3603)  loss_fgl_aux_0: 1.2006 (1.2006)  loss_ddf_aux_0: 0.1274 (0.1274)  loss_mal_aux_1: 0.8755 (0.8755)  loss_bbox_aux_1: 0.1837 (0.1837)  loss_giou_aux_1: 0.3445 (0.3445)  loss_fgl_aux_1: 1.1808 (1.1808)  loss_ddf_aux_1: 0.0067 (0.0067)  loss_mal_pre: 0.8516 (0.8516)  loss_bbox_pre: 0.1895 (0.1895)  loss_giou_pre: 0.3585 (0.3585)  loss_mal_enc_0: 0.9355 (0.9355)  loss_bbox_enc_0: 0.2244 (0.2244)  loss_giou_enc_0: 0.4053 (0.4053)  loss_mal_dn_0: 0.7852 (0.7852)  loss_bbox_dn_0: 0.3311 (0.3311)  loss_giou_dn_0: 0.5722 (0.5722)  loss_fgl_dn_0: 1.2484 (1.2484)  loss_ddf_dn_0: 1.3578 (1.3578)  loss_mal_dn_1: 0.7910 (0.7910)  loss_bbox_dn_1: 0.2446 (0.2446)  loss_giou_dn_1: 0.4215 (0.4215)  loss_fgl_dn_1: 1.1650 (1.1650)  loss_ddf_dn_1: 0.0730 (0.0730)  loss_mal_dn_2: 0.7695 (0.7695)  loss_bbox_dn_2: 0.2353 (0.2353)  loss_giou_dn_2: 0.4065 (0.4065)  loss_fgl_dn_2: 1.1606 (1.1606)  loss_mal_dn_pre: 0.7847 (0.7847)  loss_bbox_dn_pre: 0.3337 (0.3337)  loss_giou_dn_pre: 0.5742 (0.5742)  time: 1.2459  data: 0.7765  max mem: 10586\n"
     ]
    },
    {
     "name": "stderr",
     "output_type": "stream",
     "text": [
      "2025-03-10 15:10:17,390 - DEIMTrainer - INFO - Saving checkpoint to outputs/deim_hgnetv2_s_coco/checkpoint0123.pth\n"
     ]
    },
    {
     "name": "stdout",
     "output_type": "stream",
     "text": [
      "Epoch: [123]  [14/15]  eta: 0:00:00  lr: 0.000173  loss: 21.8340 (21.7880)  loss_mal: 0.8599 (0.8545)  loss_bbox: 0.1748 (0.1748)  loss_giou: 0.3097 (0.3118)  loss_fgl: 1.1724 (1.1671)  loss_mal_aux_0: 0.8618 (0.8903)  loss_bbox_aux_0: 0.1907 (0.1902)  loss_giou_aux_0: 0.3443 (0.3394)  loss_fgl_aux_0: 1.2023 (1.1996)  loss_ddf_aux_0: 0.1618 (0.1686)  loss_mal_aux_1: 0.8633 (0.8688)  loss_bbox_aux_1: 0.1748 (0.1752)  loss_giou_aux_1: 0.3094 (0.3128)  loss_fgl_aux_1: 1.1732 (1.1681)  loss_ddf_aux_1: 0.0067 (0.0071)  loss_mal_pre: 0.8594 (0.8882)  loss_bbox_pre: 0.1862 (0.1868)  loss_giou_pre: 0.3340 (0.3347)  loss_mal_enc_0: 0.9321 (0.9421)  loss_bbox_enc_0: 0.2137 (0.2156)  loss_giou_enc_0: 0.3839 (0.3795)  loss_mal_dn_0: 0.7690 (0.7713)  loss_bbox_dn_0: 0.3205 (0.3211)  loss_giou_dn_0: 0.5572 (0.5588)  loss_fgl_dn_0: 1.2484 (1.2493)  loss_ddf_dn_0: 1.3357 (1.3492)  loss_mal_dn_1: 0.7534 (0.7543)  loss_bbox_dn_1: 0.2324 (0.2312)  loss_giou_dn_1: 0.4037 (0.4021)  loss_fgl_dn_1: 1.1579 (1.1527)  loss_ddf_dn_1: 0.0707 (0.0702)  loss_mal_dn_2: 0.7520 (0.7469)  loss_bbox_dn_2: 0.2225 (0.2202)  loss_giou_dn_2: 0.3866 (0.3849)  loss_fgl_dn_2: 1.1515 (1.1492)  loss_mal_dn_pre: 0.7710 (0.7708)  loss_bbox_dn_pre: 0.3222 (0.3224)  loss_giou_dn_pre: 0.5581 (0.5582)  time: 0.4325  data: 0.0682  max mem: 10586\n",
      "Epoch: [123] Total time: 0:00:06 (0.4364 s / it)\n",
      "Averaged stats: lr: 0.000173  loss: 21.8340 (21.7880)  loss_mal: 0.8599 (0.8545)  loss_bbox: 0.1748 (0.1748)  loss_giou: 0.3097 (0.3118)  loss_fgl: 1.1724 (1.1671)  loss_mal_aux_0: 0.8618 (0.8903)  loss_bbox_aux_0: 0.1907 (0.1902)  loss_giou_aux_0: 0.3443 (0.3394)  loss_fgl_aux_0: 1.2023 (1.1996)  loss_ddf_aux_0: 0.1618 (0.1686)  loss_mal_aux_1: 0.8633 (0.8688)  loss_bbox_aux_1: 0.1748 (0.1752)  loss_giou_aux_1: 0.3094 (0.3128)  loss_fgl_aux_1: 1.1732 (1.1681)  loss_ddf_aux_1: 0.0067 (0.0071)  loss_mal_pre: 0.8594 (0.8882)  loss_bbox_pre: 0.1862 (0.1868)  loss_giou_pre: 0.3340 (0.3347)  loss_mal_enc_0: 0.9321 (0.9421)  loss_bbox_enc_0: 0.2137 (0.2156)  loss_giou_enc_0: 0.3839 (0.3795)  loss_mal_dn_0: 0.7690 (0.7713)  loss_bbox_dn_0: 0.3205 (0.3211)  loss_giou_dn_0: 0.5572 (0.5588)  loss_fgl_dn_0: 1.2484 (1.2493)  loss_ddf_dn_0: 1.3357 (1.3492)  loss_mal_dn_1: 0.7534 (0.7543)  loss_bbox_dn_1: 0.2324 (0.2312)  loss_giou_dn_1: 0.4037 (0.4021)  loss_fgl_dn_1: 1.1579 (1.1527)  loss_ddf_dn_1: 0.0707 (0.0702)  loss_mal_dn_2: 0.7520 (0.7469)  loss_bbox_dn_2: 0.2225 (0.2202)  loss_giou_dn_2: 0.3866 (0.3849)  loss_fgl_dn_2: 1.1515 (1.1492)  loss_mal_dn_pre: 0.7710 (0.7708)  loss_bbox_dn_pre: 0.3222 (0.3224)  loss_giou_dn_pre: 0.5581 (0.5582)\n"
     ]
    },
    {
     "name": "stderr",
     "output_type": "stream",
     "text": [
      "2025-03-10 15:10:17,633 - DEIMTrainer - INFO - Checkpoint saved to outputs/deim_hgnetv2_s_coco/checkpoint0123.pth\n",
      "2025-03-10 15:10:17,635 - DEIMTrainer - INFO - Evaluating model...\n"
     ]
    },
    {
     "name": "stdout",
     "output_type": "stream",
     "text": [
      "Test:  [0/5]  eta: 0:00:03    time: 0.6593  data: 0.5458  max mem: 10586\n"
     ]
    },
    {
     "name": "stderr",
     "output_type": "stream",
     "text": [
      "2025-03-10 15:10:18,991 - DEIMTrainer - INFO - Saving checkpoint to outputs/deim_hgnetv2_s_coco/best.pth\n"
     ]
    },
    {
     "name": "stdout",
     "output_type": "stream",
     "text": [
      "Test:  [4/5]  eta: 0:00:00    time: 0.2547  data: 0.1258  max mem: 10586\n",
      "Test: Total time: 0:00:01 (0.2660 s / it)\n",
      "Averaged stats: \n",
      "Accumulating evaluation results...\n",
      "COCOeval_opt.accumulate() finished...\n",
      "DONE (t=0.02s).\n",
      "IoU metric: bbox\n",
      " Average Precision  (AP) @[ IoU=0.50:0.95 | area=   all | maxDets=100 ] = 0.616\n",
      " Average Precision  (AP) @[ IoU=0.50      | area=   all | maxDets=100 ] = 0.875\n",
      " Average Precision  (AP) @[ IoU=0.75      | area=   all | maxDets=100 ] = 0.715\n",
      " Average Precision  (AP) @[ IoU=0.50:0.95 | area= small | maxDets=100 ] = 0.408\n",
      " Average Precision  (AP) @[ IoU=0.50:0.95 | area=medium | maxDets=100 ] = 0.607\n",
      " Average Precision  (AP) @[ IoU=0.50:0.95 | area= large | maxDets=100 ] = 0.469\n",
      " Average Recall     (AR) @[ IoU=0.50:0.95 | area=   all | maxDets=  1 ] = 0.403\n",
      " Average Recall     (AR) @[ IoU=0.50:0.95 | area=   all | maxDets= 10 ] = 0.671\n",
      " Average Recall     (AR) @[ IoU=0.50:0.95 | area=   all | maxDets=100 ] = 0.781\n",
      " Average Recall     (AR) @[ IoU=0.50:0.95 | area= small | maxDets=100 ] = 0.680\n",
      " Average Recall     (AR) @[ IoU=0.50:0.95 | area=medium | maxDets=100 ] = 0.751\n",
      " Average Recall     (AR) @[ IoU=0.50:0.95 | area= large | maxDets=100 ] = 0.851\n",
      " Average Recall     (AR) @[ IoU=0.50      | area=   all | maxDets=100 ] = 0.999\n",
      " Average Recall     (AR) @[ IoU=0.75      | area=   all | maxDets=100 ] = 0.924\n",
      "================================================\n",
      "{'coco_eval_bbox': [0.6160601966493763, 0.8752377528108761, 0.7150583830093928, 0.407920621254672, 0.6066394063946403, 0.4688711480101669, 0.4033553434869224, 0.6714834629308314, 0.7809748730801362, 0.6799999999999999, 0.7507738095238097, 0.851440407148775]}\n",
      "================================================\n"
     ]
    },
    {
     "name": "stderr",
     "output_type": "stream",
     "text": [
      "2025-03-10 15:10:19,337 - DEIMTrainer - INFO - Checkpoint saved to outputs/deim_hgnetv2_s_coco/best.pth\n",
      "2025-03-10 15:10:19,339 - DEIMTrainer - INFO - Epoch 123 - Train loss: 21.7880, Eval mAP: 0.6161\n",
      "2025-03-10 15:10:19,339 - DEIMTrainer - INFO - Best stats: {'epoch': 123, 'coco_eval_bbox': 0.6160601966493763}\n"
     ]
    },
    {
     "name": "stdout",
     "output_type": "stream",
     "text": [
      "Epoch: [124]  [ 0/15]  eta: 0:00:16  lr: 0.000173  loss: 21.5404 (21.5404)  loss_mal: 0.8232 (0.8232)  loss_bbox: 0.1758 (0.1758)  loss_giou: 0.3293 (0.3293)  loss_fgl: 1.2147 (1.2147)  loss_mal_aux_0: 0.8325 (0.8325)  loss_bbox_aux_0: 0.1867 (0.1867)  loss_giou_aux_0: 0.3593 (0.3593)  loss_fgl_aux_0: 1.2460 (1.2460)  loss_ddf_aux_0: 0.1661 (0.1661)  loss_mal_aux_1: 0.8159 (0.8159)  loss_bbox_aux_1: 0.1767 (0.1767)  loss_giou_aux_1: 0.3313 (0.3313)  loss_fgl_aux_1: 1.2162 (1.2162)  loss_ddf_aux_1: 0.0067 (0.0067)  loss_mal_pre: 0.8296 (0.8296)  loss_bbox_pre: 0.1843 (0.1843)  loss_giou_pre: 0.3560 (0.3560)  loss_mal_enc_0: 0.9214 (0.9214)  loss_bbox_enc_0: 0.2112 (0.2112)  loss_giou_enc_0: 0.3949 (0.3949)  loss_mal_dn_0: 0.7666 (0.7666)  loss_bbox_dn_0: 0.3108 (0.3108)  loss_giou_dn_0: 0.5481 (0.5481)  loss_fgl_dn_0: 1.2526 (1.2526)  loss_ddf_dn_0: 1.2115 (1.2115)  loss_mal_dn_1: 0.7476 (0.7476)  loss_bbox_dn_1: 0.2152 (0.2152)  loss_giou_dn_1: 0.3909 (0.3909)  loss_fgl_dn_1: 1.1598 (1.1598)  loss_ddf_dn_1: 0.0545 (0.0545)  loss_mal_dn_2: 0.7495 (0.7495)  loss_bbox_dn_2: 0.2044 (0.2044)  loss_giou_dn_2: 0.3722 (0.3722)  loss_fgl_dn_2: 1.1570 (1.1570)  loss_mal_dn_pre: 0.7651 (0.7651)  loss_bbox_dn_pre: 0.3098 (0.3098)  loss_giou_dn_pre: 0.5470 (0.5470)  time: 1.1206  data: 0.6680  max mem: 10586\n"
     ]
    },
    {
     "name": "stderr",
     "output_type": "stream",
     "text": [
      "2025-03-10 15:10:25,742 - DEIMTrainer - INFO - Evaluating model...\n"
     ]
    },
    {
     "name": "stdout",
     "output_type": "stream",
     "text": [
      "Epoch: [124]  [14/15]  eta: 0:00:00  lr: 0.000176  loss: 21.1929 (21.1307)  loss_mal: 0.8232 (0.8597)  loss_bbox: 0.1676 (0.1637)  loss_giou: 0.2986 (0.2978)  loss_fgl: 1.1625 (1.1551)  loss_mal_aux_0: 0.8374 (0.8565)  loss_bbox_aux_0: 0.1754 (0.1740)  loss_giou_aux_0: 0.3128 (0.3166)  loss_fgl_aux_0: 1.1803 (1.1801)  loss_ddf_aux_0: 0.1164 (0.1234)  loss_mal_aux_1: 0.8369 (0.8599)  loss_bbox_aux_1: 0.1683 (0.1647)  loss_giou_aux_1: 0.2999 (0.2992)  loss_fgl_aux_1: 1.1631 (1.1575)  loss_ddf_aux_1: 0.0052 (0.0053)  loss_mal_pre: 0.8364 (0.8553)  loss_bbox_pre: 0.1739 (0.1733)  loss_giou_pre: 0.3119 (0.3154)  loss_mal_enc_0: 0.9121 (0.9344)  loss_bbox_enc_0: 0.2098 (0.2069)  loss_giou_enc_0: 0.3683 (0.3665)  loss_mal_dn_0: 0.7612 (0.7612)  loss_bbox_dn_0: 0.3108 (0.3098)  loss_giou_dn_0: 0.5412 (0.5432)  loss_fgl_dn_0: 1.2449 (1.2408)  loss_ddf_dn_0: 1.1870 (1.2052)  loss_mal_dn_1: 0.7476 (0.7455)  loss_bbox_dn_1: 0.2211 (0.2192)  loss_giou_dn_1: 0.3939 (0.3872)  loss_fgl_dn_1: 1.1396 (1.1399)  loss_ddf_dn_1: 0.0499 (0.0512)  loss_mal_dn_2: 0.7363 (0.7365)  loss_bbox_dn_2: 0.2099 (0.2081)  loss_giou_dn_2: 0.3760 (0.3709)  loss_fgl_dn_2: 1.1348 (1.1347)  loss_mal_dn_pre: 0.7612 (0.7610)  loss_bbox_dn_pre: 0.3110 (0.3090)  loss_giou_dn_pre: 0.5470 (0.5421)  time: 0.4213  data: 0.0599  max mem: 10586\n",
      "Epoch: [124] Total time: 0:00:06 (0.4255 s / it)\n",
      "Averaged stats: lr: 0.000176  loss: 21.1929 (21.1307)  loss_mal: 0.8232 (0.8597)  loss_bbox: 0.1676 (0.1637)  loss_giou: 0.2986 (0.2978)  loss_fgl: 1.1625 (1.1551)  loss_mal_aux_0: 0.8374 (0.8565)  loss_bbox_aux_0: 0.1754 (0.1740)  loss_giou_aux_0: 0.3128 (0.3166)  loss_fgl_aux_0: 1.1803 (1.1801)  loss_ddf_aux_0: 0.1164 (0.1234)  loss_mal_aux_1: 0.8369 (0.8599)  loss_bbox_aux_1: 0.1683 (0.1647)  loss_giou_aux_1: 0.2999 (0.2992)  loss_fgl_aux_1: 1.1631 (1.1575)  loss_ddf_aux_1: 0.0052 (0.0053)  loss_mal_pre: 0.8364 (0.8553)  loss_bbox_pre: 0.1739 (0.1733)  loss_giou_pre: 0.3119 (0.3154)  loss_mal_enc_0: 0.9121 (0.9344)  loss_bbox_enc_0: 0.2098 (0.2069)  loss_giou_enc_0: 0.3683 (0.3665)  loss_mal_dn_0: 0.7612 (0.7612)  loss_bbox_dn_0: 0.3108 (0.3098)  loss_giou_dn_0: 0.5412 (0.5432)  loss_fgl_dn_0: 1.2449 (1.2408)  loss_ddf_dn_0: 1.1870 (1.2052)  loss_mal_dn_1: 0.7476 (0.7455)  loss_bbox_dn_1: 0.2211 (0.2192)  loss_giou_dn_1: 0.3939 (0.3872)  loss_fgl_dn_1: 1.1396 (1.1399)  loss_ddf_dn_1: 0.0499 (0.0512)  loss_mal_dn_2: 0.7363 (0.7365)  loss_bbox_dn_2: 0.2099 (0.2081)  loss_giou_dn_2: 0.3760 (0.3709)  loss_fgl_dn_2: 1.1348 (1.1347)  loss_mal_dn_pre: 0.7612 (0.7610)  loss_bbox_dn_pre: 0.3110 (0.3090)  loss_giou_dn_pre: 0.5470 (0.5421)\n",
      "Test:  [0/5]  eta: 0:00:03    time: 0.7601  data: 0.6509  max mem: 10586\n"
     ]
    },
    {
     "name": "stderr",
     "output_type": "stream",
     "text": [
      "2025-03-10 15:10:27,215 - DEIMTrainer - INFO - Epoch 124 - Train loss: 21.1307, Eval mAP: 0.6056\n",
      "2025-03-10 15:10:27,215 - DEIMTrainer - INFO - Best stats: {'epoch': 123, 'coco_eval_bbox': 0.6160601966493763}\n"
     ]
    },
    {
     "name": "stdout",
     "output_type": "stream",
     "text": [
      "Test:  [4/5]  eta: 0:00:00    time: 0.2757  data: 0.1428  max mem: 10586\n",
      "Test: Total time: 0:00:01 (0.2885 s / it)\n",
      "Averaged stats: \n",
      "Accumulating evaluation results...\n",
      "COCOeval_opt.accumulate() finished...\n",
      "DONE (t=0.02s).\n",
      "IoU metric: bbox\n",
      " Average Precision  (AP) @[ IoU=0.50:0.95 | area=   all | maxDets=100 ] = 0.606\n",
      " Average Precision  (AP) @[ IoU=0.50      | area=   all | maxDets=100 ] = 0.869\n",
      " Average Precision  (AP) @[ IoU=0.75      | area=   all | maxDets=100 ] = 0.709\n",
      " Average Precision  (AP) @[ IoU=0.50:0.95 | area= small | maxDets=100 ] = 0.377\n",
      " Average Precision  (AP) @[ IoU=0.50:0.95 | area=medium | maxDets=100 ] = 0.630\n",
      " Average Precision  (AP) @[ IoU=0.50:0.95 | area= large | maxDets=100 ] = 0.467\n",
      " Average Recall     (AR) @[ IoU=0.50:0.95 | area=   all | maxDets=  1 ] = 0.401\n",
      " Average Recall     (AR) @[ IoU=0.50:0.95 | area=   all | maxDets= 10 ] = 0.672\n",
      " Average Recall     (AR) @[ IoU=0.50:0.95 | area=   all | maxDets=100 ] = 0.788\n",
      " Average Recall     (AR) @[ IoU=0.50:0.95 | area= small | maxDets=100 ] = 0.680\n",
      " Average Recall     (AR) @[ IoU=0.50:0.95 | area=medium | maxDets=100 ] = 0.785\n",
      " Average Recall     (AR) @[ IoU=0.50:0.95 | area= large | maxDets=100 ] = 0.856\n",
      " Average Recall     (AR) @[ IoU=0.50      | area=   all | maxDets=100 ] = 0.999\n",
      " Average Recall     (AR) @[ IoU=0.75      | area=   all | maxDets=100 ] = 0.927\n",
      "================================================\n",
      "{'coco_eval_bbox': [0.6056381176837792, 0.86890033878688, 0.7090200008154323, 0.3773434515571181, 0.6303327771324989, 0.46680369194033355, 0.40114683075209384, 0.6722950538740011, 0.7879501103185313, 0.6799999999999999, 0.7854464285714287, 0.8558204126721112]}\n",
      "================================================\n",
      "Epoch: [125]  [ 0/15]  eta: 0:00:16  lr: 0.000176  loss: 21.2491 (21.2491)  loss_mal: 0.8149 (0.8149)  loss_bbox: 0.1716 (0.1716)  loss_giou: 0.3188 (0.3188)  loss_fgl: 1.1726 (1.1726)  loss_mal_aux_0: 0.8374 (0.8374)  loss_bbox_aux_0: 0.1829 (0.1829)  loss_giou_aux_0: 0.3376 (0.3376)  loss_fgl_aux_0: 1.1960 (1.1960)  loss_ddf_aux_0: 0.1401 (0.1401)  loss_mal_aux_1: 0.8203 (0.8203)  loss_bbox_aux_1: 0.1722 (0.1722)  loss_giou_aux_1: 0.3203 (0.3203)  loss_fgl_aux_1: 1.1755 (1.1755)  loss_ddf_aux_1: 0.0056 (0.0056)  loss_mal_pre: 0.8335 (0.8335)  loss_bbox_pre: 0.1793 (0.1793)  loss_giou_pre: 0.3322 (0.3322)  loss_mal_enc_0: 0.9292 (0.9292)  loss_bbox_enc_0: 0.2066 (0.2066)  loss_giou_enc_0: 0.3746 (0.3746)  loss_mal_dn_0: 0.7671 (0.7671)  loss_bbox_dn_0: 0.3020 (0.3020)  loss_giou_dn_0: 0.5367 (0.5367)  loss_fgl_dn_0: 1.2516 (1.2516)  loss_ddf_dn_0: 1.2294 (1.2294)  loss_mal_dn_1: 0.7314 (0.7314)  loss_bbox_dn_1: 0.2233 (0.2233)  loss_giou_dn_1: 0.3970 (0.3970)  loss_fgl_dn_1: 1.1643 (1.1643)  loss_ddf_dn_1: 0.0552 (0.0552)  loss_mal_dn_2: 0.7207 (0.7207)  loss_bbox_dn_2: 0.2112 (0.2112)  loss_giou_dn_2: 0.3764 (0.3764)  loss_fgl_dn_2: 1.1532 (1.1532)  loss_mal_dn_pre: 0.7676 (0.7676)  loss_bbox_dn_pre: 0.3024 (0.3024)  loss_giou_dn_pre: 0.5385 (0.5385)  time: 1.0962  data: 0.6301  max mem: 10586\n"
     ]
    },
    {
     "name": "stderr",
     "output_type": "stream",
     "text": [
      "2025-03-10 15:10:33,541 - DEIMTrainer - INFO - Evaluating model...\n"
     ]
    },
    {
     "name": "stdout",
     "output_type": "stream",
     "text": [
      "Epoch: [125]  [14/15]  eta: 0:00:00  lr: 0.000178  loss: 20.9352 (21.0491)  loss_mal: 0.8013 (0.8360)  loss_bbox: 0.1604 (0.1577)  loss_giou: 0.2850 (0.2882)  loss_fgl: 1.1462 (1.1467)  loss_mal_aux_0: 0.8315 (0.8508)  loss_bbox_aux_0: 0.1735 (0.1712)  loss_giou_aux_0: 0.3149 (0.3115)  loss_fgl_aux_0: 1.1680 (1.1769)  loss_ddf_aux_0: 0.1583 (0.1573)  loss_mal_aux_1: 0.8203 (0.8443)  loss_bbox_aux_1: 0.1616 (0.1586)  loss_giou_aux_1: 0.2872 (0.2897)  loss_fgl_aux_1: 1.1441 (1.1485)  loss_ddf_aux_1: 0.0074 (0.0077)  loss_mal_pre: 0.8286 (0.8491)  loss_bbox_pre: 0.1712 (0.1696)  loss_giou_pre: 0.3088 (0.3099)  loss_mal_enc_0: 0.8892 (0.8988)  loss_bbox_enc_0: 0.2028 (0.2033)  loss_giou_enc_0: 0.3660 (0.3625)  loss_mal_dn_0: 0.7622 (0.7642)  loss_bbox_dn_0: 0.3020 (0.3008)  loss_giou_dn_0: 0.5268 (0.5247)  loss_fgl_dn_0: 1.2429 (1.2460)  loss_ddf_dn_0: 1.3189 (1.3265)  loss_mal_dn_1: 0.7417 (0.7420)  loss_bbox_dn_1: 0.2152 (0.2108)  loss_giou_dn_1: 0.3746 (0.3743)  loss_fgl_dn_1: 1.1390 (1.1428)  loss_ddf_dn_1: 0.0601 (0.0629)  loss_mal_dn_2: 0.7310 (0.7312)  loss_bbox_dn_2: 0.2039 (0.2003)  loss_giou_dn_2: 0.3603 (0.3579)  loss_fgl_dn_2: 1.1331 (1.1368)  loss_mal_dn_pre: 0.7598 (0.7637)  loss_bbox_dn_pre: 0.3026 (0.3008)  loss_giou_dn_pre: 0.5320 (0.5248)  time: 0.4168  data: 0.0579  max mem: 10586\n",
      "Epoch: [125] Total time: 0:00:06 (0.4203 s / it)\n",
      "Averaged stats: lr: 0.000178  loss: 20.9352 (21.0491)  loss_mal: 0.8013 (0.8360)  loss_bbox: 0.1604 (0.1577)  loss_giou: 0.2850 (0.2882)  loss_fgl: 1.1462 (1.1467)  loss_mal_aux_0: 0.8315 (0.8508)  loss_bbox_aux_0: 0.1735 (0.1712)  loss_giou_aux_0: 0.3149 (0.3115)  loss_fgl_aux_0: 1.1680 (1.1769)  loss_ddf_aux_0: 0.1583 (0.1573)  loss_mal_aux_1: 0.8203 (0.8443)  loss_bbox_aux_1: 0.1616 (0.1586)  loss_giou_aux_1: 0.2872 (0.2897)  loss_fgl_aux_1: 1.1441 (1.1485)  loss_ddf_aux_1: 0.0074 (0.0077)  loss_mal_pre: 0.8286 (0.8491)  loss_bbox_pre: 0.1712 (0.1696)  loss_giou_pre: 0.3088 (0.3099)  loss_mal_enc_0: 0.8892 (0.8988)  loss_bbox_enc_0: 0.2028 (0.2033)  loss_giou_enc_0: 0.3660 (0.3625)  loss_mal_dn_0: 0.7622 (0.7642)  loss_bbox_dn_0: 0.3020 (0.3008)  loss_giou_dn_0: 0.5268 (0.5247)  loss_fgl_dn_0: 1.2429 (1.2460)  loss_ddf_dn_0: 1.3189 (1.3265)  loss_mal_dn_1: 0.7417 (0.7420)  loss_bbox_dn_1: 0.2152 (0.2108)  loss_giou_dn_1: 0.3746 (0.3743)  loss_fgl_dn_1: 1.1390 (1.1428)  loss_ddf_dn_1: 0.0601 (0.0629)  loss_mal_dn_2: 0.7310 (0.7312)  loss_bbox_dn_2: 0.2039 (0.2003)  loss_giou_dn_2: 0.3603 (0.3579)  loss_fgl_dn_2: 1.1331 (1.1368)  loss_mal_dn_pre: 0.7598 (0.7637)  loss_bbox_dn_pre: 0.3026 (0.3008)  loss_giou_dn_pre: 0.5320 (0.5248)\n",
      "Test:  [0/5]  eta: 0:00:03    time: 0.7018  data: 0.5861  max mem: 10586\n"
     ]
    },
    {
     "name": "stderr",
     "output_type": "stream",
     "text": [
      "2025-03-10 15:10:34,794 - DEIMTrainer - INFO - Epoch 125 - Train loss: 21.0491, Eval mAP: 0.6141\n",
      "2025-03-10 15:10:34,794 - DEIMTrainer - INFO - Best stats: {'epoch': 123, 'coco_eval_bbox': 0.6160601966493763}\n"
     ]
    },
    {
     "name": "stdout",
     "output_type": "stream",
     "text": [
      "Test:  [4/5]  eta: 0:00:00    time: 0.2339  data: 0.1324  max mem: 10586\n",
      "Test: Total time: 0:00:01 (0.2440 s / it)\n",
      "Averaged stats: \n",
      "Accumulating evaluation results...\n",
      "COCOeval_opt.accumulate() finished...\n",
      "DONE (t=0.02s).\n",
      "IoU metric: bbox\n",
      " Average Precision  (AP) @[ IoU=0.50:0.95 | area=   all | maxDets=100 ] = 0.614\n",
      " Average Precision  (AP) @[ IoU=0.50      | area=   all | maxDets=100 ] = 0.876\n",
      " Average Precision  (AP) @[ IoU=0.75      | area=   all | maxDets=100 ] = 0.725\n",
      " Average Precision  (AP) @[ IoU=0.50:0.95 | area= small | maxDets=100 ] = 0.366\n",
      " Average Precision  (AP) @[ IoU=0.50:0.95 | area=medium | maxDets=100 ] = 0.634\n",
      " Average Precision  (AP) @[ IoU=0.50:0.95 | area= large | maxDets=100 ] = 0.471\n",
      " Average Recall     (AR) @[ IoU=0.50:0.95 | area=   all | maxDets=  1 ] = 0.405\n",
      " Average Recall     (AR) @[ IoU=0.50:0.95 | area=   all | maxDets= 10 ] = 0.674\n",
      " Average Recall     (AR) @[ IoU=0.50:0.95 | area=   all | maxDets=100 ] = 0.782\n",
      " Average Recall     (AR) @[ IoU=0.50:0.95 | area= small | maxDets=100 ] = 0.600\n",
      " Average Recall     (AR) @[ IoU=0.50:0.95 | area=medium | maxDets=100 ] = 0.780\n",
      " Average Recall     (AR) @[ IoU=0.50:0.95 | area= large | maxDets=100 ] = 0.821\n",
      " Average Recall     (AR) @[ IoU=0.50      | area=   all | maxDets=100 ] = 0.999\n",
      " Average Recall     (AR) @[ IoU=0.75      | area=   all | maxDets=100 ] = 0.922\n",
      "================================================\n",
      "{'coco_eval_bbox': [0.6141013293000989, 0.8755155465355303, 0.7248641248014803, 0.3657257289212875, 0.6336295414921018, 0.4706470759079763, 0.4054928989139515, 0.6735575584259794, 0.7818732193732194, 0.6, 0.780029761904762, 0.8208119304059651]}\n",
      "================================================\n",
      "Epoch: [126]  [ 0/15]  eta: 0:00:17  lr: 0.000179  loss: 20.6621 (20.6621)  loss_mal: 0.7671 (0.7671)  loss_bbox: 0.1525 (0.1525)  loss_giou: 0.2861 (0.2861)  loss_fgl: 1.1567 (1.1567)  loss_mal_aux_0: 0.7900 (0.7900)  loss_bbox_aux_0: 0.1729 (0.1729)  loss_giou_aux_0: 0.3156 (0.3156)  loss_fgl_aux_0: 1.2062 (1.2062)  loss_ddf_aux_0: 0.1890 (0.1890)  loss_mal_aux_1: 0.7812 (0.7812)  loss_bbox_aux_1: 0.1529 (0.1529)  loss_giou_aux_1: 0.2880 (0.2880)  loss_fgl_aux_1: 1.1577 (1.1577)  loss_ddf_aux_1: 0.0060 (0.0060)  loss_mal_pre: 0.7812 (0.7812)  loss_bbox_pre: 0.1660 (0.1660)  loss_giou_pre: 0.3075 (0.3075)  loss_mal_enc_0: 0.8804 (0.8804)  loss_bbox_enc_0: 0.1985 (0.1985)  loss_giou_enc_0: 0.3575 (0.3575)  loss_mal_dn_0: 0.7505 (0.7505)  loss_bbox_dn_0: 0.2901 (0.2901)  loss_giou_dn_0: 0.5210 (0.5210)  loss_fgl_dn_0: 1.2632 (1.2632)  loss_ddf_dn_0: 1.3071 (1.3071)  loss_mal_dn_1: 0.7148 (0.7148)  loss_bbox_dn_1: 0.2001 (0.2001)  loss_giou_dn_1: 0.3613 (0.3613)  loss_fgl_dn_1: 1.1471 (1.1471)  loss_ddf_dn_1: 0.0609 (0.0609)  loss_mal_dn_2: 0.7026 (0.7026)  loss_bbox_dn_2: 0.1895 (0.1895)  loss_giou_dn_2: 0.3462 (0.3462)  loss_fgl_dn_2: 1.1368 (1.1368)  loss_mal_dn_pre: 0.7490 (0.7490)  loss_bbox_dn_pre: 0.2891 (0.2891)  loss_giou_dn_pre: 0.5195 (0.5195)  time: 1.1514  data: 0.6667  max mem: 10586\n"
     ]
    },
    {
     "name": "stderr",
     "output_type": "stream",
     "text": [
      "2025-03-10 15:10:41,392 - DEIMTrainer - INFO - Evaluating model...\n"
     ]
    },
    {
     "name": "stdout",
     "output_type": "stream",
     "text": [
      "Epoch: [126]  [14/15]  eta: 0:00:00  lr: 0.000181  loss: 20.6621 (20.5332)  loss_mal: 0.7720 (0.7908)  loss_bbox: 0.1521 (0.1530)  loss_giou: 0.2792 (0.2816)  loss_fgl: 1.1476 (1.1409)  loss_mal_aux_0: 0.7900 (0.7981)  loss_bbox_aux_0: 0.1615 (0.1646)  loss_giou_aux_0: 0.3032 (0.3014)  loss_fgl_aux_0: 1.1605 (1.1705)  loss_ddf_aux_0: 0.1564 (0.1623)  loss_mal_aux_1: 0.7896 (0.7999)  loss_bbox_aux_1: 0.1529 (0.1537)  loss_giou_aux_1: 0.2825 (0.2826)  loss_fgl_aux_1: 1.1501 (1.1426)  loss_ddf_aux_1: 0.0070 (0.0069)  loss_mal_pre: 0.7852 (0.7954)  loss_bbox_pre: 0.1616 (0.1618)  loss_giou_pre: 0.2960 (0.2973)  loss_mal_enc_0: 0.8701 (0.8688)  loss_bbox_enc_0: 0.1955 (0.1946)  loss_giou_enc_0: 0.3439 (0.3452)  loss_mal_dn_0: 0.7568 (0.7606)  loss_bbox_dn_0: 0.2879 (0.2889)  loss_giou_dn_0: 0.5084 (0.5095)  loss_fgl_dn_0: 1.2406 (1.2447)  loss_ddf_dn_0: 1.2650 (1.2768)  loss_mal_dn_1: 0.7256 (0.7312)  loss_bbox_dn_1: 0.2001 (0.2044)  loss_giou_dn_1: 0.3525 (0.3645)  loss_fgl_dn_1: 1.1308 (1.1352)  loss_ddf_dn_1: 0.0544 (0.0553)  loss_mal_dn_2: 0.7163 (0.7218)  loss_bbox_dn_2: 0.1895 (0.1939)  loss_giou_dn_2: 0.3394 (0.3493)  loss_fgl_dn_2: 1.1249 (1.1276)  loss_mal_dn_pre: 0.7549 (0.7604)  loss_bbox_dn_pre: 0.2869 (0.2875)  loss_giou_dn_pre: 0.5057 (0.5097)  time: 0.4346  data: 0.0615  max mem: 10586\n",
      "Epoch: [126] Total time: 0:00:06 (0.4383 s / it)\n",
      "Averaged stats: lr: 0.000181  loss: 20.6621 (20.5332)  loss_mal: 0.7720 (0.7908)  loss_bbox: 0.1521 (0.1530)  loss_giou: 0.2792 (0.2816)  loss_fgl: 1.1476 (1.1409)  loss_mal_aux_0: 0.7900 (0.7981)  loss_bbox_aux_0: 0.1615 (0.1646)  loss_giou_aux_0: 0.3032 (0.3014)  loss_fgl_aux_0: 1.1605 (1.1705)  loss_ddf_aux_0: 0.1564 (0.1623)  loss_mal_aux_1: 0.7896 (0.7999)  loss_bbox_aux_1: 0.1529 (0.1537)  loss_giou_aux_1: 0.2825 (0.2826)  loss_fgl_aux_1: 1.1501 (1.1426)  loss_ddf_aux_1: 0.0070 (0.0069)  loss_mal_pre: 0.7852 (0.7954)  loss_bbox_pre: 0.1616 (0.1618)  loss_giou_pre: 0.2960 (0.2973)  loss_mal_enc_0: 0.8701 (0.8688)  loss_bbox_enc_0: 0.1955 (0.1946)  loss_giou_enc_0: 0.3439 (0.3452)  loss_mal_dn_0: 0.7568 (0.7606)  loss_bbox_dn_0: 0.2879 (0.2889)  loss_giou_dn_0: 0.5084 (0.5095)  loss_fgl_dn_0: 1.2406 (1.2447)  loss_ddf_dn_0: 1.2650 (1.2768)  loss_mal_dn_1: 0.7256 (0.7312)  loss_bbox_dn_1: 0.2001 (0.2044)  loss_giou_dn_1: 0.3525 (0.3645)  loss_fgl_dn_1: 1.1308 (1.1352)  loss_ddf_dn_1: 0.0544 (0.0553)  loss_mal_dn_2: 0.7163 (0.7218)  loss_bbox_dn_2: 0.1895 (0.1939)  loss_giou_dn_2: 0.3394 (0.3493)  loss_fgl_dn_2: 1.1249 (1.1276)  loss_mal_dn_pre: 0.7549 (0.7604)  loss_bbox_dn_pre: 0.2869 (0.2875)  loss_giou_dn_pre: 0.5057 (0.5097)\n",
      "Test:  [0/5]  eta: 0:00:03    time: 0.7055  data: 0.5942  max mem: 10586\n"
     ]
    },
    {
     "name": "stderr",
     "output_type": "stream",
     "text": [
      "2025-03-10 15:10:42,642 - DEIMTrainer - INFO - Saving checkpoint to outputs/deim_hgnetv2_s_coco/best.pth\n"
     ]
    },
    {
     "name": "stdout",
     "output_type": "stream",
     "text": [
      "Test:  [4/5]  eta: 0:00:00    time: 0.2333  data: 0.1338  max mem: 10586\n",
      "Test: Total time: 0:00:01 (0.2440 s / it)\n",
      "Averaged stats: \n",
      "Accumulating evaluation results...\n",
      "COCOeval_opt.accumulate() finished...\n",
      "DONE (t=0.02s).\n",
      "IoU metric: bbox\n",
      " Average Precision  (AP) @[ IoU=0.50:0.95 | area=   all | maxDets=100 ] = 0.617\n",
      " Average Precision  (AP) @[ IoU=0.50      | area=   all | maxDets=100 ] = 0.879\n",
      " Average Precision  (AP) @[ IoU=0.75      | area=   all | maxDets=100 ] = 0.733\n",
      " Average Precision  (AP) @[ IoU=0.50:0.95 | area= small | maxDets=100 ] = 0.439\n",
      " Average Precision  (AP) @[ IoU=0.50:0.95 | area=medium | maxDets=100 ] = 0.594\n",
      " Average Precision  (AP) @[ IoU=0.50:0.95 | area= large | maxDets=100 ] = 0.472\n",
      " Average Recall     (AR) @[ IoU=0.50:0.95 | area=   all | maxDets=  1 ] = 0.401\n",
      " Average Recall     (AR) @[ IoU=0.50:0.95 | area=   all | maxDets= 10 ] = 0.676\n",
      " Average Recall     (AR) @[ IoU=0.50:0.95 | area=   all | maxDets=100 ] = 0.780\n",
      " Average Recall     (AR) @[ IoU=0.50:0.95 | area= small | maxDets=100 ] = 0.660\n",
      " Average Recall     (AR) @[ IoU=0.50:0.95 | area=medium | maxDets=100 ] = 0.815\n",
      " Average Recall     (AR) @[ IoU=0.50:0.95 | area= large | maxDets=100 ] = 0.816\n",
      " Average Recall     (AR) @[ IoU=0.50      | area=   all | maxDets=100 ] = 0.998\n",
      " Average Recall     (AR) @[ IoU=0.75      | area=   all | maxDets=100 ] = 0.928\n",
      "================================================\n",
      "{'coco_eval_bbox': [0.6171311702447829, 0.8786749181524034, 0.7326505217426486, 0.43896429684063454, 0.5938332156131755, 0.4723755195294362, 0.40067503159608425, 0.6757465244307349, 0.7796938928517875, 0.6599999999999999, 0.8151488095238096, 0.8156981102300075]}\n",
      "================================================\n"
     ]
    },
    {
     "name": "stderr",
     "output_type": "stream",
     "text": [
      "2025-03-10 15:10:42,966 - DEIMTrainer - INFO - Checkpoint saved to outputs/deim_hgnetv2_s_coco/best.pth\n",
      "2025-03-10 15:10:42,968 - DEIMTrainer - INFO - Epoch 126 - Train loss: 20.5332, Eval mAP: 0.6171\n",
      "2025-03-10 15:10:42,969 - DEIMTrainer - INFO - Best stats: {'epoch': 126, 'coco_eval_bbox': 0.6171311702447829}\n"
     ]
    },
    {
     "name": "stdout",
     "output_type": "stream",
     "text": [
      "Epoch: [127]  [ 0/15]  eta: 0:00:17  lr: 0.000181  loss: 21.0685 (21.0685)  loss_mal: 0.9360 (0.9360)  loss_bbox: 0.1547 (0.1547)  loss_giou: 0.2934 (0.2934)  loss_fgl: 1.1314 (1.1314)  loss_mal_aux_0: 0.8730 (0.8730)  loss_bbox_aux_0: 0.1696 (0.1696)  loss_giou_aux_0: 0.3143 (0.3143)  loss_fgl_aux_0: 1.1688 (1.1688)  loss_ddf_aux_0: 0.1747 (0.1747)  loss_mal_aux_1: 0.9717 (0.9717)  loss_bbox_aux_1: 0.1548 (0.1548)  loss_giou_aux_1: 0.2940 (0.2940)  loss_fgl_aux_1: 1.1352 (1.1352)  loss_ddf_aux_1: 0.0088 (0.0088)  loss_mal_pre: 0.8716 (0.8716)  loss_bbox_pre: 0.1673 (0.1673)  loss_giou_pre: 0.3126 (0.3126)  loss_mal_enc_0: 0.9155 (0.9155)  loss_bbox_enc_0: 0.2127 (0.2127)  loss_giou_enc_0: 0.3689 (0.3689)  loss_mal_dn_0: 0.7539 (0.7539)  loss_bbox_dn_0: 0.2902 (0.2902)  loss_giou_dn_0: 0.5208 (0.5208)  loss_fgl_dn_0: 1.2322 (1.2322)  loss_ddf_dn_0: 1.2339 (1.2339)  loss_mal_dn_1: 0.7549 (0.7549)  loss_bbox_dn_1: 0.1876 (0.1876)  loss_giou_dn_1: 0.3555 (0.3555)  loss_fgl_dn_1: 1.1230 (1.1230)  loss_ddf_dn_1: 0.0607 (0.0607)  loss_mal_dn_2: 0.7349 (0.7349)  loss_bbox_dn_2: 0.1780 (0.1780)  loss_giou_dn_2: 0.3389 (0.3389)  loss_fgl_dn_2: 1.1137 (1.1137)  loss_mal_dn_pre: 0.7524 (0.7524)  loss_bbox_dn_pre: 0.2904 (0.2904)  loss_giou_dn_pre: 0.5182 (0.5182)  time: 1.1800  data: 0.7425  max mem: 10586\n"
     ]
    },
    {
     "name": "stderr",
     "output_type": "stream",
     "text": [
      "2025-03-10 15:10:49,499 - DEIMTrainer - INFO - Saving checkpoint to outputs/deim_hgnetv2_s_coco/checkpoint0127.pth\n"
     ]
    },
    {
     "name": "stdout",
     "output_type": "stream",
     "text": [
      "Epoch: [127]  [14/15]  eta: 0:00:00  lr: 0.000184  loss: 20.2203 (20.1521)  loss_mal: 0.7524 (0.7769)  loss_bbox: 0.1468 (0.1450)  loss_giou: 0.2720 (0.2664)  loss_fgl: 1.1274 (1.1221)  loss_mal_aux_0: 0.7837 (0.7885)  loss_bbox_aux_0: 0.1570 (0.1573)  loss_giou_aux_0: 0.2857 (0.2869)  loss_fgl_aux_0: 1.1563 (1.1536)  loss_ddf_aux_0: 0.1747 (0.1710)  loss_mal_aux_1: 0.7603 (0.7882)  loss_bbox_aux_1: 0.1467 (0.1453)  loss_giou_aux_1: 0.2704 (0.2669)  loss_fgl_aux_1: 1.1278 (1.1219)  loss_ddf_aux_1: 0.0086 (0.0087)  loss_mal_pre: 0.7827 (0.7870)  loss_bbox_pre: 0.1563 (0.1560)  loss_giou_pre: 0.2853 (0.2855)  loss_mal_enc_0: 0.8457 (0.8557)  loss_bbox_enc_0: 0.1972 (0.1925)  loss_giou_enc_0: 0.3410 (0.3414)  loss_mal_dn_0: 0.7539 (0.7533)  loss_bbox_dn_0: 0.2751 (0.2772)  loss_giou_dn_0: 0.4806 (0.4892)  loss_fgl_dn_0: 1.2381 (1.2417)  loss_ddf_dn_0: 1.2736 (1.3265)  loss_mal_dn_1: 0.7129 (0.7191)  loss_bbox_dn_1: 0.1876 (0.1865)  loss_giou_dn_1: 0.3352 (0.3358)  loss_fgl_dn_1: 1.1105 (1.1141)  loss_ddf_dn_1: 0.0596 (0.0620)  loss_mal_dn_2: 0.7021 (0.7063)  loss_bbox_dn_2: 0.1780 (0.1767)  loss_giou_dn_2: 0.3228 (0.3222)  loss_fgl_dn_2: 1.1052 (1.1075)  loss_mal_dn_pre: 0.7520 (0.7522)  loss_bbox_dn_pre: 0.2792 (0.2769)  loss_giou_dn_pre: 0.4763 (0.4881)  time: 0.4300  data: 0.0634  max mem: 10586\n",
      "Epoch: [127] Total time: 0:00:06 (0.4340 s / it)\n",
      "Averaged stats: lr: 0.000184  loss: 20.2203 (20.1521)  loss_mal: 0.7524 (0.7769)  loss_bbox: 0.1468 (0.1450)  loss_giou: 0.2720 (0.2664)  loss_fgl: 1.1274 (1.1221)  loss_mal_aux_0: 0.7837 (0.7885)  loss_bbox_aux_0: 0.1570 (0.1573)  loss_giou_aux_0: 0.2857 (0.2869)  loss_fgl_aux_0: 1.1563 (1.1536)  loss_ddf_aux_0: 0.1747 (0.1710)  loss_mal_aux_1: 0.7603 (0.7882)  loss_bbox_aux_1: 0.1467 (0.1453)  loss_giou_aux_1: 0.2704 (0.2669)  loss_fgl_aux_1: 1.1278 (1.1219)  loss_ddf_aux_1: 0.0086 (0.0087)  loss_mal_pre: 0.7827 (0.7870)  loss_bbox_pre: 0.1563 (0.1560)  loss_giou_pre: 0.2853 (0.2855)  loss_mal_enc_0: 0.8457 (0.8557)  loss_bbox_enc_0: 0.1972 (0.1925)  loss_giou_enc_0: 0.3410 (0.3414)  loss_mal_dn_0: 0.7539 (0.7533)  loss_bbox_dn_0: 0.2751 (0.2772)  loss_giou_dn_0: 0.4806 (0.4892)  loss_fgl_dn_0: 1.2381 (1.2417)  loss_ddf_dn_0: 1.2736 (1.3265)  loss_mal_dn_1: 0.7129 (0.7191)  loss_bbox_dn_1: 0.1876 (0.1865)  loss_giou_dn_1: 0.3352 (0.3358)  loss_fgl_dn_1: 1.1105 (1.1141)  loss_ddf_dn_1: 0.0596 (0.0620)  loss_mal_dn_2: 0.7021 (0.7063)  loss_bbox_dn_2: 0.1780 (0.1767)  loss_giou_dn_2: 0.3228 (0.3222)  loss_fgl_dn_2: 1.1052 (1.1075)  loss_mal_dn_pre: 0.7520 (0.7522)  loss_bbox_dn_pre: 0.2792 (0.2769)  loss_giou_dn_pre: 0.4763 (0.4881)\n"
     ]
    },
    {
     "name": "stderr",
     "output_type": "stream",
     "text": [
      "2025-03-10 15:10:49,739 - DEIMTrainer - INFO - Checkpoint saved to outputs/deim_hgnetv2_s_coco/checkpoint0127.pth\n",
      "2025-03-10 15:10:49,740 - DEIMTrainer - INFO - Evaluating model...\n"
     ]
    },
    {
     "name": "stdout",
     "output_type": "stream",
     "text": [
      "Test:  [0/5]  eta: 0:00:03    time: 0.7682  data: 0.6530  max mem: 10586\n"
     ]
    },
    {
     "name": "stderr",
     "output_type": "stream",
     "text": [
      "2025-03-10 15:10:51,077 - DEIMTrainer - INFO - Epoch 127 - Train loss: 20.1521, Eval mAP: 0.6094\n",
      "2025-03-10 15:10:51,078 - DEIMTrainer - INFO - Best stats: {'epoch': 126, 'coco_eval_bbox': 0.6171311702447829}\n"
     ]
    },
    {
     "name": "stdout",
     "output_type": "stream",
     "text": [
      "Test:  [4/5]  eta: 0:00:00    time: 0.2475  data: 0.1431  max mem: 10586\n",
      "Test: Total time: 0:00:01 (0.2607 s / it)\n",
      "Averaged stats: \n",
      "Accumulating evaluation results...\n",
      "COCOeval_opt.accumulate() finished...\n",
      "DONE (t=0.02s).\n",
      "IoU metric: bbox\n",
      " Average Precision  (AP) @[ IoU=0.50:0.95 | area=   all | maxDets=100 ] = 0.609\n",
      " Average Precision  (AP) @[ IoU=0.50      | area=   all | maxDets=100 ] = 0.877\n",
      " Average Precision  (AP) @[ IoU=0.75      | area=   all | maxDets=100 ] = 0.707\n",
      " Average Precision  (AP) @[ IoU=0.50:0.95 | area= small | maxDets=100 ] = 0.489\n",
      " Average Precision  (AP) @[ IoU=0.50:0.95 | area=medium | maxDets=100 ] = 0.594\n",
      " Average Precision  (AP) @[ IoU=0.50:0.95 | area= large | maxDets=100 ] = 0.466\n",
      " Average Recall     (AR) @[ IoU=0.50:0.95 | area=   all | maxDets=  1 ] = 0.404\n",
      " Average Recall     (AR) @[ IoU=0.50:0.95 | area=   all | maxDets= 10 ] = 0.672\n",
      " Average Recall     (AR) @[ IoU=0.50:0.95 | area=   all | maxDets=100 ] = 0.784\n",
      " Average Recall     (AR) @[ IoU=0.50:0.95 | area= small | maxDets=100 ] = 0.760\n",
      " Average Recall     (AR) @[ IoU=0.50:0.95 | area=medium | maxDets=100 ] = 0.782\n",
      " Average Recall     (AR) @[ IoU=0.50:0.95 | area= large | maxDets=100 ] = 0.883\n",
      " Average Recall     (AR) @[ IoU=0.50      | area=   all | maxDets=100 ] = 0.999\n",
      " Average Recall     (AR) @[ IoU=0.75      | area=   all | maxDets=100 ] = 0.915\n",
      "================================================\n",
      "{'coco_eval_bbox': [0.6094156275201699, 0.8773887536578259, 0.7070137882260741, 0.4887704444312919, 0.5935501821767825, 0.4659807470790212, 0.40419183642867845, 0.6724479467900522, 0.7835689651479124, 0.76, 0.7824404761904761, 0.883282439736458]}\n",
      "================================================\n",
      "Epoch: [128]  [ 0/15]  eta: 0:00:18  lr: 0.000184  loss: 20.1620 (20.1620)  loss_mal: 0.7407 (0.7407)  loss_bbox: 0.1571 (0.1571)  loss_giou: 0.2896 (0.2896)  loss_fgl: 1.1629 (1.1629)  loss_mal_aux_0: 0.7676 (0.7676)  loss_bbox_aux_0: 0.1678 (0.1678)  loss_giou_aux_0: 0.3080 (0.3080)  loss_fgl_aux_0: 1.1876 (1.1876)  loss_ddf_aux_0: 0.1903 (0.1903)  loss_mal_aux_1: 0.7495 (0.7495)  loss_bbox_aux_1: 0.1576 (0.1576)  loss_giou_aux_1: 0.2916 (0.2916)  loss_fgl_aux_1: 1.1630 (1.1630)  loss_ddf_aux_1: 0.0074 (0.0074)  loss_mal_pre: 0.7651 (0.7651)  loss_bbox_pre: 0.1651 (0.1651)  loss_giou_pre: 0.3053 (0.3053)  loss_mal_enc_0: 0.8496 (0.8496)  loss_bbox_enc_0: 0.1959 (0.1959)  loss_giou_enc_0: 0.3590 (0.3590)  loss_mal_dn_0: 0.7446 (0.7446)  loss_bbox_dn_0: 0.2725 (0.2725)  loss_giou_dn_0: 0.4756 (0.4756)  loss_fgl_dn_0: 1.2493 (1.2493)  loss_ddf_dn_0: 1.2332 (1.2332)  loss_mal_dn_1: 0.7095 (0.7095)  loss_bbox_dn_1: 0.1851 (0.1851)  loss_giou_dn_1: 0.3297 (0.3297)  loss_fgl_dn_1: 1.1280 (1.1280)  loss_ddf_dn_1: 0.0466 (0.0466)  loss_mal_dn_2: 0.6890 (0.6890)  loss_bbox_dn_2: 0.1764 (0.1764)  loss_giou_dn_2: 0.3186 (0.3186)  loss_fgl_dn_2: 1.1247 (1.1247)  loss_mal_dn_pre: 0.7437 (0.7437)  loss_bbox_dn_pre: 0.2739 (0.2739)  loss_giou_dn_pre: 0.4812 (0.4812)  time: 1.2139  data: 0.7214  max mem: 10586\n"
     ]
    },
    {
     "name": "stderr",
     "output_type": "stream",
     "text": [
      "2025-03-10 15:10:57,677 - DEIMTrainer - INFO - Evaluating model...\n"
     ]
    },
    {
     "name": "stdout",
     "output_type": "stream",
     "text": [
      "Epoch: [128]  [14/15]  eta: 0:00:00  lr: 0.000187  loss: 19.8088 (19.7063)  loss_mal: 0.7158 (0.7190)  loss_bbox: 0.1418 (0.1404)  loss_giou: 0.2656 (0.2593)  loss_fgl: 1.1177 (1.1156)  loss_mal_aux_0: 0.7334 (0.7464)  loss_bbox_aux_0: 0.1547 (0.1523)  loss_giou_aux_0: 0.2862 (0.2792)  loss_fgl_aux_0: 1.1484 (1.1442)  loss_ddf_aux_0: 0.1478 (0.1460)  loss_mal_aux_1: 0.7178 (0.7212)  loss_bbox_aux_1: 0.1423 (0.1414)  loss_giou_aux_1: 0.2676 (0.2609)  loss_fgl_aux_1: 1.1190 (1.1168)  loss_ddf_aux_1: 0.0059 (0.0059)  loss_mal_pre: 0.7310 (0.7441)  loss_bbox_pre: 0.1535 (0.1505)  loss_giou_pre: 0.2851 (0.2769)  loss_mal_enc_0: 0.8325 (0.8339)  loss_bbox_enc_0: 0.1834 (0.1869)  loss_giou_enc_0: 0.3326 (0.3327)  loss_mal_dn_0: 0.7505 (0.7494)  loss_bbox_dn_0: 0.2725 (0.2733)  loss_giou_dn_0: 0.4780 (0.4816)  loss_fgl_dn_0: 1.2356 (1.2438)  loss_ddf_dn_0: 1.2441 (1.2975)  loss_mal_dn_1: 0.7075 (0.7095)  loss_bbox_dn_1: 0.1868 (0.1850)  loss_giou_dn_1: 0.3297 (0.3334)  loss_fgl_dn_1: 1.1158 (1.1119)  loss_ddf_dn_1: 0.0486 (0.0493)  loss_mal_dn_2: 0.6963 (0.6935)  loss_bbox_dn_2: 0.1764 (0.1764)  loss_giou_dn_2: 0.3186 (0.3207)  loss_fgl_dn_2: 1.1120 (1.1055)  loss_mal_dn_pre: 0.7510 (0.7492)  loss_bbox_dn_pre: 0.2732 (0.2719)  loss_giou_dn_pre: 0.4822 (0.4809)  time: 0.4348  data: 0.0638  max mem: 10586\n",
      "Epoch: [128] Total time: 0:00:06 (0.4388 s / it)\n",
      "Averaged stats: lr: 0.000187  loss: 19.8088 (19.7063)  loss_mal: 0.7158 (0.7190)  loss_bbox: 0.1418 (0.1404)  loss_giou: 0.2656 (0.2593)  loss_fgl: 1.1177 (1.1156)  loss_mal_aux_0: 0.7334 (0.7464)  loss_bbox_aux_0: 0.1547 (0.1523)  loss_giou_aux_0: 0.2862 (0.2792)  loss_fgl_aux_0: 1.1484 (1.1442)  loss_ddf_aux_0: 0.1478 (0.1460)  loss_mal_aux_1: 0.7178 (0.7212)  loss_bbox_aux_1: 0.1423 (0.1414)  loss_giou_aux_1: 0.2676 (0.2609)  loss_fgl_aux_1: 1.1190 (1.1168)  loss_ddf_aux_1: 0.0059 (0.0059)  loss_mal_pre: 0.7310 (0.7441)  loss_bbox_pre: 0.1535 (0.1505)  loss_giou_pre: 0.2851 (0.2769)  loss_mal_enc_0: 0.8325 (0.8339)  loss_bbox_enc_0: 0.1834 (0.1869)  loss_giou_enc_0: 0.3326 (0.3327)  loss_mal_dn_0: 0.7505 (0.7494)  loss_bbox_dn_0: 0.2725 (0.2733)  loss_giou_dn_0: 0.4780 (0.4816)  loss_fgl_dn_0: 1.2356 (1.2438)  loss_ddf_dn_0: 1.2441 (1.2975)  loss_mal_dn_1: 0.7075 (0.7095)  loss_bbox_dn_1: 0.1868 (0.1850)  loss_giou_dn_1: 0.3297 (0.3334)  loss_fgl_dn_1: 1.1158 (1.1119)  loss_ddf_dn_1: 0.0486 (0.0493)  loss_mal_dn_2: 0.6963 (0.6935)  loss_bbox_dn_2: 0.1764 (0.1764)  loss_giou_dn_2: 0.3186 (0.3207)  loss_fgl_dn_2: 1.1120 (1.1055)  loss_mal_dn_pre: 0.7510 (0.7492)  loss_bbox_dn_pre: 0.2732 (0.2719)  loss_giou_dn_pre: 0.4822 (0.4809)\n",
      "Test:  [0/5]  eta: 0:00:03    time: 0.6890  data: 0.5725  max mem: 10586\n"
     ]
    },
    {
     "name": "stderr",
     "output_type": "stream",
     "text": [
      "2025-03-10 15:10:58,937 - DEIMTrainer - INFO - Epoch 128 - Train loss: 19.7063, Eval mAP: 0.6105\n",
      "2025-03-10 15:10:58,937 - DEIMTrainer - INFO - Best stats: {'epoch': 126, 'coco_eval_bbox': 0.6171311702447829}\n"
     ]
    },
    {
     "name": "stdout",
     "output_type": "stream",
     "text": [
      "Test:  [4/5]  eta: 0:00:00    time: 0.2330  data: 0.1329  max mem: 10586\n",
      "Test: Total time: 0:00:01 (0.2456 s / it)\n",
      "Averaged stats: \n",
      "Accumulating evaluation results...\n",
      "COCOeval_opt.accumulate() finished...\n",
      "DONE (t=0.02s).\n",
      "IoU metric: bbox\n",
      " Average Precision  (AP) @[ IoU=0.50:0.95 | area=   all | maxDets=100 ] = 0.611\n",
      " Average Precision  (AP) @[ IoU=0.50      | area=   all | maxDets=100 ] = 0.879\n",
      " Average Precision  (AP) @[ IoU=0.75      | area=   all | maxDets=100 ] = 0.696\n",
      " Average Precision  (AP) @[ IoU=0.50:0.95 | area= small | maxDets=100 ] = 0.455\n",
      " Average Precision  (AP) @[ IoU=0.50:0.95 | area=medium | maxDets=100 ] = 0.587\n",
      " Average Precision  (AP) @[ IoU=0.50:0.95 | area= large | maxDets=100 ] = 0.471\n",
      " Average Recall     (AR) @[ IoU=0.50:0.95 | area=   all | maxDets=  1 ] = 0.405\n",
      " Average Recall     (AR) @[ IoU=0.50:0.95 | area=   all | maxDets= 10 ] = 0.668\n",
      " Average Recall     (AR) @[ IoU=0.50:0.95 | area=   all | maxDets=100 ] = 0.781\n",
      " Average Recall     (AR) @[ IoU=0.50:0.95 | area= small | maxDets=100 ] = 0.700\n",
      " Average Recall     (AR) @[ IoU=0.50:0.95 | area=medium | maxDets=100 ] = 0.745\n",
      " Average Recall     (AR) @[ IoU=0.50:0.95 | area= large | maxDets=100 ] = 0.853\n",
      " Average Recall     (AR) @[ IoU=0.50      | area=   all | maxDets=100 ] = 0.999\n",
      " Average Recall     (AR) @[ IoU=0.75      | area=   all | maxDets=100 ] = 0.916\n",
      "================================================\n",
      "{'coco_eval_bbox': [0.6105318496776215, 0.8791018792800521, 0.6958579430685473, 0.4550504660196428, 0.5873220598143233, 0.4711200532697285, 0.4054117665959771, 0.6684081999871473, 0.7813909774436089, 0.7, 0.7449107142857143, 0.8530114017437961]}\n",
      "================================================\n",
      "Epoch: [129]  [ 0/15]  eta: 0:00:17  lr: 0.000187  loss: 19.7093 (19.7093)  loss_mal: 0.7119 (0.7119)  loss_bbox: 0.1323 (0.1323)  loss_giou: 0.2608 (0.2608)  loss_fgl: 1.1025 (1.1025)  loss_mal_aux_0: 0.7349 (0.7349)  loss_bbox_aux_0: 0.1418 (0.1418)  loss_giou_aux_0: 0.2759 (0.2759)  loss_fgl_aux_0: 1.1221 (1.1221)  loss_ddf_aux_0: 0.1730 (0.1730)  loss_mal_aux_1: 0.7056 (0.7056)  loss_bbox_aux_1: 0.1330 (0.1330)  loss_giou_aux_1: 0.2626 (0.2626)  loss_fgl_aux_1: 1.1029 (1.1029)  loss_ddf_aux_1: 0.0061 (0.0061)  loss_mal_pre: 0.7305 (0.7305)  loss_bbox_pre: 0.1414 (0.1414)  loss_giou_pre: 0.2778 (0.2778)  loss_mal_enc_0: 0.8115 (0.8115)  loss_bbox_enc_0: 0.1782 (0.1782)  loss_giou_enc_0: 0.3394 (0.3394)  loss_mal_dn_0: 0.7490 (0.7490)  loss_bbox_dn_0: 0.2839 (0.2839)  loss_giou_dn_0: 0.4973 (0.4973)  loss_fgl_dn_0: 1.2433 (1.2433)  loss_ddf_dn_0: 1.4984 (1.4984)  loss_mal_dn_1: 0.6982 (0.6982)  loss_bbox_dn_1: 0.1717 (0.1717)  loss_giou_dn_1: 0.3194 (0.3194)  loss_fgl_dn_1: 1.0844 (1.0844)  loss_ddf_dn_1: 0.0574 (0.0574)  loss_mal_dn_2: 0.6987 (0.6987)  loss_bbox_dn_2: 0.1606 (0.1606)  loss_giou_dn_2: 0.3028 (0.3028)  loss_fgl_dn_2: 1.0757 (1.0757)  loss_mal_dn_pre: 0.7500 (0.7500)  loss_bbox_dn_pre: 0.2815 (0.2815)  loss_giou_dn_pre: 0.4927 (0.4927)  time: 1.1655  data: 0.6865  max mem: 10586\n"
     ]
    },
    {
     "name": "stderr",
     "output_type": "stream",
     "text": [
      "2025-03-10 15:11:05,495 - DEIMTrainer - INFO - Evaluating model...\n"
     ]
    },
    {
     "name": "stdout",
     "output_type": "stream",
     "text": [
      "Epoch: [129]  [14/15]  eta: 0:00:00  lr: 0.000190  loss: 19.3268 (19.2950)  loss_mal: 0.6772 (0.6904)  loss_bbox: 0.1314 (0.1322)  loss_giou: 0.2485 (0.2450)  loss_fgl: 1.0928 (1.0924)  loss_mal_aux_0: 0.6992 (0.7196)  loss_bbox_aux_0: 0.1418 (0.1443)  loss_giou_aux_0: 0.2692 (0.2666)  loss_fgl_aux_0: 1.1260 (1.1258)  loss_ddf_aux_0: 0.1612 (0.1603)  loss_mal_aux_1: 0.6797 (0.6960)  loss_bbox_aux_1: 0.1328 (0.1328)  loss_giou_aux_1: 0.2502 (0.2459)  loss_fgl_aux_1: 1.0926 (1.0935)  loss_ddf_aux_1: 0.0061 (0.0060)  loss_mal_pre: 0.6978 (0.7173)  loss_bbox_pre: 0.1414 (0.1430)  loss_giou_pre: 0.2699 (0.2646)  loss_mal_enc_0: 0.7876 (0.8054)  loss_bbox_enc_0: 0.1783 (0.1783)  loss_giou_enc_0: 0.3192 (0.3205)  loss_mal_dn_0: 0.7461 (0.7461)  loss_bbox_dn_0: 0.2590 (0.2635)  loss_giou_dn_0: 0.4655 (0.4687)  loss_fgl_dn_0: 1.2327 (1.2406)  loss_ddf_dn_0: 1.3323 (1.3572)  loss_mal_dn_1: 0.6973 (0.6957)  loss_bbox_dn_1: 0.1717 (0.1727)  loss_giou_dn_1: 0.3129 (0.3146)  loss_fgl_dn_1: 1.0938 (1.0907)  loss_ddf_dn_1: 0.0515 (0.0508)  loss_mal_dn_2: 0.6846 (0.6847)  loss_bbox_dn_2: 0.1606 (0.1654)  loss_giou_dn_2: 0.3028 (0.3029)  loss_fgl_dn_2: 1.0900 (1.0847)  loss_mal_dn_pre: 0.7461 (0.7460)  loss_bbox_dn_pre: 0.2580 (0.2629)  loss_giou_dn_pre: 0.4625 (0.4678)  time: 0.4302  data: 0.0610  max mem: 10586\n",
      "Epoch: [129] Total time: 0:00:06 (0.4355 s / it)\n",
      "Averaged stats: lr: 0.000190  loss: 19.3268 (19.2950)  loss_mal: 0.6772 (0.6904)  loss_bbox: 0.1314 (0.1322)  loss_giou: 0.2485 (0.2450)  loss_fgl: 1.0928 (1.0924)  loss_mal_aux_0: 0.6992 (0.7196)  loss_bbox_aux_0: 0.1418 (0.1443)  loss_giou_aux_0: 0.2692 (0.2666)  loss_fgl_aux_0: 1.1260 (1.1258)  loss_ddf_aux_0: 0.1612 (0.1603)  loss_mal_aux_1: 0.6797 (0.6960)  loss_bbox_aux_1: 0.1328 (0.1328)  loss_giou_aux_1: 0.2502 (0.2459)  loss_fgl_aux_1: 1.0926 (1.0935)  loss_ddf_aux_1: 0.0061 (0.0060)  loss_mal_pre: 0.6978 (0.7173)  loss_bbox_pre: 0.1414 (0.1430)  loss_giou_pre: 0.2699 (0.2646)  loss_mal_enc_0: 0.7876 (0.8054)  loss_bbox_enc_0: 0.1783 (0.1783)  loss_giou_enc_0: 0.3192 (0.3205)  loss_mal_dn_0: 0.7461 (0.7461)  loss_bbox_dn_0: 0.2590 (0.2635)  loss_giou_dn_0: 0.4655 (0.4687)  loss_fgl_dn_0: 1.2327 (1.2406)  loss_ddf_dn_0: 1.3323 (1.3572)  loss_mal_dn_1: 0.6973 (0.6957)  loss_bbox_dn_1: 0.1717 (0.1727)  loss_giou_dn_1: 0.3129 (0.3146)  loss_fgl_dn_1: 1.0938 (1.0907)  loss_ddf_dn_1: 0.0515 (0.0508)  loss_mal_dn_2: 0.6846 (0.6847)  loss_bbox_dn_2: 0.1606 (0.1654)  loss_giou_dn_2: 0.3028 (0.3029)  loss_fgl_dn_2: 1.0900 (1.0847)  loss_mal_dn_pre: 0.7461 (0.7460)  loss_bbox_dn_pre: 0.2580 (0.2629)  loss_giou_dn_pre: 0.4625 (0.4678)\n",
      "Test:  [0/5]  eta: 0:00:03    time: 0.7618  data: 0.6459  max mem: 10586\n"
     ]
    },
    {
     "name": "stderr",
     "output_type": "stream",
     "text": [
      "2025-03-10 15:11:06,820 - DEIMTrainer - INFO - Epoch 129 - Train loss: 19.2950, Eval mAP: 0.6084\n",
      "2025-03-10 15:11:06,821 - DEIMTrainer - INFO - Best stats: {'epoch': 126, 'coco_eval_bbox': 0.6171311702447829}\n"
     ]
    },
    {
     "name": "stdout",
     "output_type": "stream",
     "text": [
      "Test:  [4/5]  eta: 0:00:00    time: 0.2492  data: 0.1447  max mem: 10586\n",
      "Test: Total time: 0:00:01 (0.2590 s / it)\n",
      "Averaged stats: \n",
      "Accumulating evaluation results...\n",
      "COCOeval_opt.accumulate() finished...\n",
      "DONE (t=0.02s).\n",
      "IoU metric: bbox\n",
      " Average Precision  (AP) @[ IoU=0.50:0.95 | area=   all | maxDets=100 ] = 0.608\n",
      " Average Precision  (AP) @[ IoU=0.50      | area=   all | maxDets=100 ] = 0.878\n",
      " Average Precision  (AP) @[ IoU=0.75      | area=   all | maxDets=100 ] = 0.751\n",
      " Average Precision  (AP) @[ IoU=0.50:0.95 | area= small | maxDets=100 ] = 0.479\n",
      " Average Precision  (AP) @[ IoU=0.50:0.95 | area=medium | maxDets=100 ] = 0.584\n",
      " Average Precision  (AP) @[ IoU=0.50:0.95 | area= large | maxDets=100 ] = 0.466\n",
      " Average Recall     (AR) @[ IoU=0.50:0.95 | area=   all | maxDets=  1 ] = 0.396\n",
      " Average Recall     (AR) @[ IoU=0.50:0.95 | area=   all | maxDets= 10 ] = 0.667\n",
      " Average Recall     (AR) @[ IoU=0.50:0.95 | area=   all | maxDets=100 ] = 0.776\n",
      " Average Recall     (AR) @[ IoU=0.50:0.95 | area= small | maxDets=100 ] = 0.760\n",
      " Average Recall     (AR) @[ IoU=0.50:0.95 | area=medium | maxDets=100 ] = 0.776\n",
      " Average Recall     (AR) @[ IoU=0.50:0.95 | area= large | maxDets=100 ] = 0.781\n",
      " Average Recall     (AR) @[ IoU=0.50      | area=   all | maxDets=100 ] = 0.998\n",
      " Average Recall     (AR) @[ IoU=0.75      | area=   all | maxDets=100 ] = 0.929\n",
      "================================================\n",
      "{'coco_eval_bbox': [0.6083595622525759, 0.877902660868882, 0.7509207055084135, 0.4785551083677033, 0.5839021304416728, 0.4662408527585851, 0.396337264100422, 0.666843390527601, 0.7763136473662791, 0.76, 0.7756845238095238, 0.7812924606462303]}\n",
      "================================================\n",
      "Epoch: [130]  [ 0/15]  eta: 0:00:17  lr: 0.000190  loss: 19.7034 (19.7034)  loss_mal: 0.7207 (0.7207)  loss_bbox: 0.1435 (0.1435)  loss_giou: 0.2662 (0.2662)  loss_fgl: 1.1093 (1.1093)  loss_mal_aux_0: 0.7695 (0.7695)  loss_bbox_aux_0: 0.1644 (0.1644)  loss_giou_aux_0: 0.3036 (0.3036)  loss_fgl_aux_0: 1.1723 (1.1723)  loss_ddf_aux_0: 0.1653 (0.1653)  loss_mal_aux_1: 0.7446 (0.7446)  loss_bbox_aux_1: 0.1455 (0.1455)  loss_giou_aux_1: 0.2709 (0.2709)  loss_fgl_aux_1: 1.1154 (1.1154)  loss_ddf_aux_1: 0.0062 (0.0062)  loss_mal_pre: 0.7637 (0.7637)  loss_bbox_pre: 0.1583 (0.1583)  loss_giou_pre: 0.2959 (0.2959)  loss_mal_enc_0: 0.7969 (0.7969)  loss_bbox_enc_0: 0.1789 (0.1789)  loss_giou_enc_0: 0.3397 (0.3397)  loss_mal_dn_0: 0.7451 (0.7451)  loss_bbox_dn_0: 0.2624 (0.2624)  loss_giou_dn_0: 0.4642 (0.4642)  loss_fgl_dn_0: 1.2478 (1.2478)  loss_ddf_dn_0: 1.3687 (1.3687)  loss_mal_dn_1: 0.6899 (0.6899)  loss_bbox_dn_1: 0.1731 (0.1731)  loss_giou_dn_1: 0.3092 (0.3092)  loss_fgl_dn_1: 1.0897 (1.0897)  loss_ddf_dn_1: 0.0500 (0.0500)  loss_mal_dn_2: 0.6807 (0.6807)  loss_bbox_dn_2: 0.1648 (0.1648)  loss_giou_dn_2: 0.2948 (0.2948)  loss_fgl_dn_2: 1.0786 (1.0786)  loss_mal_dn_pre: 0.7407 (0.7407)  loss_bbox_dn_pre: 0.2574 (0.2574)  loss_giou_dn_pre: 0.4554 (0.4554)  time: 1.1559  data: 0.7007  max mem: 10586\n"
     ]
    },
    {
     "name": "stderr",
     "output_type": "stream",
     "text": [
      "2025-03-10 15:11:13,236 - DEIMTrainer - INFO - Evaluating model...\n"
     ]
    },
    {
     "name": "stdout",
     "output_type": "stream",
     "text": [
      "Epoch: [130]  [14/15]  eta: 0:00:00  lr: 0.000193  loss: 19.4689 (19.3303)  loss_mal: 0.6914 (0.6850)  loss_bbox: 0.1329 (0.1306)  loss_giou: 0.2437 (0.2415)  loss_fgl: 1.0944 (1.0909)  loss_mal_aux_0: 0.7070 (0.7078)  loss_bbox_aux_0: 0.1462 (0.1451)  loss_giou_aux_0: 0.2699 (0.2664)  loss_fgl_aux_0: 1.1349 (1.1342)  loss_ddf_aux_0: 0.1836 (0.1877)  loss_mal_aux_1: 0.6782 (0.6841)  loss_bbox_aux_1: 0.1338 (0.1318)  loss_giou_aux_1: 0.2472 (0.2434)  loss_fgl_aux_1: 1.0973 (1.0937)  loss_ddf_aux_1: 0.0062 (0.0064)  loss_mal_pre: 0.7026 (0.7033)  loss_bbox_pre: 0.1432 (0.1419)  loss_giou_pre: 0.2665 (0.2613)  loss_mal_enc_0: 0.7808 (0.7785)  loss_bbox_enc_0: 0.1747 (0.1759)  loss_giou_enc_0: 0.3197 (0.3168)  loss_mal_dn_0: 0.7441 (0.7472)  loss_bbox_dn_0: 0.2624 (0.2634)  loss_giou_dn_0: 0.4706 (0.4721)  loss_fgl_dn_0: 1.2478 (1.2523)  loss_ddf_dn_0: 1.3967 (1.4416)  loss_mal_dn_1: 0.6958 (0.6953)  loss_bbox_dn_1: 0.1687 (0.1713)  loss_giou_dn_1: 0.3106 (0.3137)  loss_fgl_dn_1: 1.0986 (1.0958)  loss_ddf_dn_1: 0.0500 (0.0528)  loss_mal_dn_2: 0.6807 (0.6791)  loss_bbox_dn_2: 0.1598 (0.1623)  loss_giou_dn_2: 0.2962 (0.2991)  loss_fgl_dn_2: 1.0908 (1.0845)  loss_mal_dn_pre: 0.7427 (0.7453)  loss_bbox_dn_pre: 0.2617 (0.2606)  loss_giou_dn_pre: 0.4620 (0.4676)  time: 0.4227  data: 0.0615  max mem: 10586\n",
      "Epoch: [130] Total time: 0:00:06 (0.4264 s / it)\n",
      "Averaged stats: lr: 0.000193  loss: 19.4689 (19.3303)  loss_mal: 0.6914 (0.6850)  loss_bbox: 0.1329 (0.1306)  loss_giou: 0.2437 (0.2415)  loss_fgl: 1.0944 (1.0909)  loss_mal_aux_0: 0.7070 (0.7078)  loss_bbox_aux_0: 0.1462 (0.1451)  loss_giou_aux_0: 0.2699 (0.2664)  loss_fgl_aux_0: 1.1349 (1.1342)  loss_ddf_aux_0: 0.1836 (0.1877)  loss_mal_aux_1: 0.6782 (0.6841)  loss_bbox_aux_1: 0.1338 (0.1318)  loss_giou_aux_1: 0.2472 (0.2434)  loss_fgl_aux_1: 1.0973 (1.0937)  loss_ddf_aux_1: 0.0062 (0.0064)  loss_mal_pre: 0.7026 (0.7033)  loss_bbox_pre: 0.1432 (0.1419)  loss_giou_pre: 0.2665 (0.2613)  loss_mal_enc_0: 0.7808 (0.7785)  loss_bbox_enc_0: 0.1747 (0.1759)  loss_giou_enc_0: 0.3197 (0.3168)  loss_mal_dn_0: 0.7441 (0.7472)  loss_bbox_dn_0: 0.2624 (0.2634)  loss_giou_dn_0: 0.4706 (0.4721)  loss_fgl_dn_0: 1.2478 (1.2523)  loss_ddf_dn_0: 1.3967 (1.4416)  loss_mal_dn_1: 0.6958 (0.6953)  loss_bbox_dn_1: 0.1687 (0.1713)  loss_giou_dn_1: 0.3106 (0.3137)  loss_fgl_dn_1: 1.0986 (1.0958)  loss_ddf_dn_1: 0.0500 (0.0528)  loss_mal_dn_2: 0.6807 (0.6791)  loss_bbox_dn_2: 0.1598 (0.1623)  loss_giou_dn_2: 0.2962 (0.2991)  loss_fgl_dn_2: 1.0908 (1.0845)  loss_mal_dn_pre: 0.7427 (0.7453)  loss_bbox_dn_pre: 0.2617 (0.2606)  loss_giou_dn_pre: 0.4620 (0.4676)\n",
      "Test:  [0/5]  eta: 0:00:04    time: 0.8674  data: 0.5878  max mem: 10586\n"
     ]
    },
    {
     "name": "stderr",
     "output_type": "stream",
     "text": [
      "2025-03-10 15:11:14,663 - DEIMTrainer - INFO - Epoch 130 - Train loss: 19.3303, Eval mAP: 0.6023\n",
      "2025-03-10 15:11:14,663 - DEIMTrainer - INFO - Best stats: {'epoch': 126, 'coco_eval_bbox': 0.6171311702447829}\n"
     ]
    },
    {
     "name": "stdout",
     "output_type": "stream",
     "text": [
      "Test:  [4/5]  eta: 0:00:00    time: 0.2670  data: 0.1330  max mem: 10586\n",
      "Test: Total time: 0:00:01 (0.2795 s / it)\n",
      "Averaged stats: \n",
      "Accumulating evaluation results...\n",
      "COCOeval_opt.accumulate() finished...\n",
      "DONE (t=0.02s).\n",
      "IoU metric: bbox\n",
      " Average Precision  (AP) @[ IoU=0.50:0.95 | area=   all | maxDets=100 ] = 0.602\n",
      " Average Precision  (AP) @[ IoU=0.50      | area=   all | maxDets=100 ] = 0.880\n",
      " Average Precision  (AP) @[ IoU=0.75      | area=   all | maxDets=100 ] = 0.706\n",
      " Average Precision  (AP) @[ IoU=0.50:0.95 | area= small | maxDets=100 ] = 0.463\n",
      " Average Precision  (AP) @[ IoU=0.50:0.95 | area=medium | maxDets=100 ] = 0.612\n",
      " Average Precision  (AP) @[ IoU=0.50:0.95 | area= large | maxDets=100 ] = 0.463\n",
      " Average Recall     (AR) @[ IoU=0.50:0.95 | area=   all | maxDets=  1 ] = 0.400\n",
      " Average Recall     (AR) @[ IoU=0.50:0.95 | area=   all | maxDets= 10 ] = 0.665\n",
      " Average Recall     (AR) @[ IoU=0.50:0.95 | area=   all | maxDets=100 ] = 0.773\n",
      " Average Recall     (AR) @[ IoU=0.50:0.95 | area= small | maxDets=100 ] = 0.720\n",
      " Average Recall     (AR) @[ IoU=0.50:0.95 | area=medium | maxDets=100 ] = 0.777\n",
      " Average Recall     (AR) @[ IoU=0.50:0.95 | area= large | maxDets=100 ] = 0.879\n",
      " Average Recall     (AR) @[ IoU=0.50      | area=   all | maxDets=100 ] = 1.000\n",
      " Average Recall     (AR) @[ IoU=0.75      | area=   all | maxDets=100 ] = 0.908\n",
      "================================================\n",
      "{'coco_eval_bbox': [0.6022716740369284, 0.8803498231331935, 0.706167867265735, 0.46280094407159567, 0.6118315686154153, 0.46348456103664726, 0.4004064648801491, 0.6646951245635456, 0.7734418846260951, 0.72, 0.7766369047619047, 0.8789339961336647]}\n",
      "================================================\n",
      "Epoch: [131]  [ 0/15]  eta: 0:00:17  lr: 0.000193  loss: 19.0735 (19.0735)  loss_mal: 0.6924 (0.6924)  loss_bbox: 0.1250 (0.1250)  loss_giou: 0.2389 (0.2389)  loss_fgl: 1.0905 (1.0905)  loss_mal_aux_0: 0.7158 (0.7158)  loss_bbox_aux_0: 0.1354 (0.1354)  loss_giou_aux_0: 0.2597 (0.2597)  loss_fgl_aux_0: 1.1130 (1.1130)  loss_ddf_aux_0: 0.1532 (0.1532)  loss_mal_aux_1: 0.7031 (0.7031)  loss_bbox_aux_1: 0.1262 (0.1262)  loss_giou_aux_1: 0.2416 (0.2416)  loss_fgl_aux_1: 1.0938 (1.0938)  loss_ddf_aux_1: 0.0064 (0.0064)  loss_mal_pre: 0.7124 (0.7124)  loss_bbox_pre: 0.1341 (0.1341)  loss_giou_pre: 0.2579 (0.2579)  loss_mal_enc_0: 0.7681 (0.7681)  loss_bbox_enc_0: 0.1599 (0.1599)  loss_giou_enc_0: 0.3089 (0.3089)  loss_mal_dn_0: 0.7393 (0.7393)  loss_bbox_dn_0: 0.2467 (0.2467)  loss_giou_dn_0: 0.4583 (0.4583)  loss_fgl_dn_0: 1.2500 (1.2500)  loss_ddf_dn_0: 1.4501 (1.4501)  loss_mal_dn_1: 0.6958 (0.6958)  loss_bbox_dn_1: 0.1558 (0.1558)  loss_giou_dn_1: 0.2914 (0.2914)  loss_fgl_dn_1: 1.0770 (1.0770)  loss_ddf_dn_1: 0.0519 (0.0519)  loss_mal_dn_2: 0.6797 (0.6797)  loss_bbox_dn_2: 0.1464 (0.1464)  loss_giou_dn_2: 0.2760 (0.2760)  loss_fgl_dn_2: 1.0659 (1.0659)  loss_mal_dn_pre: 0.7432 (0.7432)  loss_bbox_dn_pre: 0.2482 (0.2482)  loss_giou_dn_pre: 0.4618 (0.4618)  time: 1.1400  data: 0.6540  max mem: 10586\n"
     ]
    },
    {
     "name": "stderr",
     "output_type": "stream",
     "text": [
      "2025-03-10 15:11:21,089 - DEIMTrainer - INFO - Saving checkpoint to outputs/deim_hgnetv2_s_coco/checkpoint0131.pth\n"
     ]
    },
    {
     "name": "stdout",
     "output_type": "stream",
     "text": [
      "Epoch: [131]  [14/15]  eta: 0:00:00  lr: 0.000196  loss: 19.0735 (18.9734)  loss_mal: 0.6567 (0.6640)  loss_bbox: 0.1248 (0.1247)  loss_giou: 0.2296 (0.2325)  loss_fgl: 1.0726 (1.0726)  loss_mal_aux_0: 0.6968 (0.6998)  loss_bbox_aux_0: 0.1388 (0.1371)  loss_giou_aux_0: 0.2523 (0.2548)  loss_fgl_aux_0: 1.1072 (1.1109)  loss_ddf_aux_0: 0.1592 (0.1627)  loss_mal_aux_1: 0.6582 (0.6664)  loss_bbox_aux_1: 0.1262 (0.1251)  loss_giou_aux_1: 0.2309 (0.2330)  loss_fgl_aux_1: 1.0782 (1.0743)  loss_ddf_aux_1: 0.0069 (0.0071)  loss_mal_pre: 0.6934 (0.6954)  loss_bbox_pre: 0.1341 (0.1340)  loss_giou_pre: 0.2494 (0.2503)  loss_mal_enc_0: 0.7783 (0.7783)  loss_bbox_enc_0: 0.1729 (0.1709)  loss_giou_enc_0: 0.3098 (0.3105)  loss_mal_dn_0: 0.7471 (0.7441)  loss_bbox_dn_0: 0.2658 (0.2626)  loss_giou_dn_0: 0.4652 (0.4658)  loss_fgl_dn_0: 1.2265 (1.2322)  loss_ddf_dn_0: 1.3654 (1.4397)  loss_mal_dn_1: 0.6919 (0.6903)  loss_bbox_dn_1: 0.1664 (0.1649)  loss_giou_dn_1: 0.3002 (0.2994)  loss_fgl_dn_1: 1.0782 (1.0727)  loss_ddf_dn_1: 0.0530 (0.0548)  loss_mal_dn_2: 0.6694 (0.6737)  loss_bbox_dn_2: 0.1567 (0.1555)  loss_giou_dn_2: 0.2871 (0.2859)  loss_fgl_dn_2: 1.0659 (1.0627)  loss_mal_dn_pre: 0.7456 (0.7427)  loss_bbox_dn_pre: 0.2620 (0.2596)  loss_giou_dn_pre: 0.4618 (0.4621)  time: 0.4230  data: 0.0601  max mem: 10586\n",
      "Epoch: [131] Total time: 0:00:06 (0.4269 s / it)\n",
      "Averaged stats: lr: 0.000196  loss: 19.0735 (18.9734)  loss_mal: 0.6567 (0.6640)  loss_bbox: 0.1248 (0.1247)  loss_giou: 0.2296 (0.2325)  loss_fgl: 1.0726 (1.0726)  loss_mal_aux_0: 0.6968 (0.6998)  loss_bbox_aux_0: 0.1388 (0.1371)  loss_giou_aux_0: 0.2523 (0.2548)  loss_fgl_aux_0: 1.1072 (1.1109)  loss_ddf_aux_0: 0.1592 (0.1627)  loss_mal_aux_1: 0.6582 (0.6664)  loss_bbox_aux_1: 0.1262 (0.1251)  loss_giou_aux_1: 0.2309 (0.2330)  loss_fgl_aux_1: 1.0782 (1.0743)  loss_ddf_aux_1: 0.0069 (0.0071)  loss_mal_pre: 0.6934 (0.6954)  loss_bbox_pre: 0.1341 (0.1340)  loss_giou_pre: 0.2494 (0.2503)  loss_mal_enc_0: 0.7783 (0.7783)  loss_bbox_enc_0: 0.1729 (0.1709)  loss_giou_enc_0: 0.3098 (0.3105)  loss_mal_dn_0: 0.7471 (0.7441)  loss_bbox_dn_0: 0.2658 (0.2626)  loss_giou_dn_0: 0.4652 (0.4658)  loss_fgl_dn_0: 1.2265 (1.2322)  loss_ddf_dn_0: 1.3654 (1.4397)  loss_mal_dn_1: 0.6919 (0.6903)  loss_bbox_dn_1: 0.1664 (0.1649)  loss_giou_dn_1: 0.3002 (0.2994)  loss_fgl_dn_1: 1.0782 (1.0727)  loss_ddf_dn_1: 0.0530 (0.0548)  loss_mal_dn_2: 0.6694 (0.6737)  loss_bbox_dn_2: 0.1567 (0.1555)  loss_giou_dn_2: 0.2871 (0.2859)  loss_fgl_dn_2: 1.0659 (1.0627)  loss_mal_dn_pre: 0.7456 (0.7427)  loss_bbox_dn_pre: 0.2620 (0.2596)  loss_giou_dn_pre: 0.4618 (0.4621)\n"
     ]
    },
    {
     "name": "stderr",
     "output_type": "stream",
     "text": [
      "2025-03-10 15:11:21,350 - DEIMTrainer - INFO - Checkpoint saved to outputs/deim_hgnetv2_s_coco/checkpoint0131.pth\n",
      "2025-03-10 15:11:21,351 - DEIMTrainer - INFO - Evaluating model...\n"
     ]
    },
    {
     "name": "stdout",
     "output_type": "stream",
     "text": [
      "Test:  [0/5]  eta: 0:00:04    time: 0.8946  data: 0.6243  max mem: 10586\n"
     ]
    },
    {
     "name": "stderr",
     "output_type": "stream",
     "text": [
      "2025-03-10 15:11:22,815 - DEIMTrainer - INFO - Epoch 131 - Train loss: 18.9734, Eval mAP: 0.6059\n",
      "2025-03-10 15:11:22,816 - DEIMTrainer - INFO - Best stats: {'epoch': 126, 'coco_eval_bbox': 0.6171311702447829}\n",
      "2025-03-10 15:11:22,816 - DEIMTrainer - INFO - Training completed in 0:21:03\n"
     ]
    },
    {
     "name": "stdout",
     "output_type": "stream",
     "text": [
      "Test:  [4/5]  eta: 0:00:00    time: 0.2762  data: 0.1378  max mem: 10586\n",
      "Test: Total time: 0:00:01 (0.2866 s / it)\n",
      "Averaged stats: \n",
      "Accumulating evaluation results...\n",
      "COCOeval_opt.accumulate() finished...\n",
      "DONE (t=0.02s).\n",
      "IoU metric: bbox\n",
      " Average Precision  (AP) @[ IoU=0.50:0.95 | area=   all | maxDets=100 ] = 0.606\n",
      " Average Precision  (AP) @[ IoU=0.50      | area=   all | maxDets=100 ] = 0.881\n",
      " Average Precision  (AP) @[ IoU=0.75      | area=   all | maxDets=100 ] = 0.696\n",
      " Average Precision  (AP) @[ IoU=0.50:0.95 | area= small | maxDets=100 ] = 0.545\n",
      " Average Precision  (AP) @[ IoU=0.50:0.95 | area=medium | maxDets=100 ] = 0.578\n",
      " Average Precision  (AP) @[ IoU=0.50:0.95 | area= large | maxDets=100 ] = 0.466\n",
      " Average Recall     (AR) @[ IoU=0.50:0.95 | area=   all | maxDets=  1 ] = 0.401\n",
      " Average Recall     (AR) @[ IoU=0.50:0.95 | area=   all | maxDets= 10 ] = 0.670\n",
      " Average Recall     (AR) @[ IoU=0.50:0.95 | area=   all | maxDets=100 ] = 0.778\n",
      " Average Recall     (AR) @[ IoU=0.50:0.95 | area= small | maxDets=100 ] = 0.840\n",
      " Average Recall     (AR) @[ IoU=0.50:0.95 | area=medium | maxDets=100 ] = 0.737\n",
      " Average Recall     (AR) @[ IoU=0.50:0.95 | area= large | maxDets=100 ] = 0.850\n",
      " Average Recall     (AR) @[ IoU=0.50      | area=   all | maxDets=100 ] = 0.998\n",
      " Average Recall     (AR) @[ IoU=0.75      | area=   all | maxDets=100 ] = 0.911\n",
      "================================================\n",
      "{'coco_eval_bbox': [0.6058558666674972, 0.8814501864702576, 0.696331699556485, 0.5450073321318014, 0.5784416398161998, 0.4658629710664168, 0.4014708244971403, 0.6695111175374333, 0.7782977743504059, 0.8399999999999999, 0.7374107142857143, 0.8503223261135439]}\n",
      "================================================\n"
     ]
    },
    {
     "data": {
      "text/plain": [
       "{'epoch': 126, 'coco_eval_bbox': 0.6171311702447829}"
      ]
     },
     "execution_count": 7,
     "metadata": {},
     "output_type": "execute_result"
    }
   ],
   "source": [
    "trainer = Trainer(conf)\n",
    "trainer.train()"
   ]
  },
  {
   "cell_type": "code",
   "execution_count": null,
   "metadata": {},
   "outputs": [],
   "source": []
  }
 ],
 "metadata": {
  "kernelspec": {
   "display_name": "default",
   "language": "python",
   "name": "python3"
  },
  "language_info": {
   "codemirror_mode": {
    "name": "ipython",
    "version": 3
   },
   "file_extension": ".py",
   "mimetype": "text/x-python",
   "name": "python",
   "nbconvert_exporter": "python",
   "pygments_lexer": "ipython3",
   "version": "3.13.2"
  }
 },
 "nbformat": 4,
 "nbformat_minor": 2
}
