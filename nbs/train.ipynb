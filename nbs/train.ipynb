{
 "cells": [
  {
   "cell_type": "code",
   "execution_count": 1,
   "metadata": {},
   "outputs": [],
   "source": [
    "from deimkit import Trainer, Config, configure_dataset"
   ]
  },
  {
   "cell_type": "code",
   "execution_count": 2,
   "metadata": {},
   "outputs": [],
   "source": [
    "conf = Config.from_model_name(\"deim_hgnetv2_s\")\n",
    "\n",
    "# conf.print()"
   ]
  },
  {
   "cell_type": "code",
   "execution_count": 3,
   "metadata": {},
   "outputs": [],
   "source": [
    "conf = configure_dataset(\n",
    "    config=conf,\n",
    "    image_size=[640, 640],\n",
    "    train_ann_file='/home/dnth/Downloads/PCB Holes.v4i.coco/train/_annotations.coco.json',\n",
    "    train_img_folder='/home/dnth/Downloads/PCB Holes.v4i.coco/train',\n",
    "    val_ann_file='/home/dnth/Downloads/PCB Holes.v4i.coco/valid/_annotations.coco.json',\n",
    "    val_img_folder='/home/dnth/Downloads/PCB Holes.v4i.coco/valid',\n",
    "    train_batch_size=16,\n",
    "    val_batch_size=16,\n",
    "    num_classes=2,\n",
    "    remap_mscoco=False,\n",
    "    output_dir='./outputs/deim_hgnetv2_s_pcb'\n",
    ")"
   ]
  },
  {
   "cell_type": "code",
   "execution_count": 4,
   "metadata": {},
   "outputs": [],
   "source": [
    "# def update_resize_transform(transforms_list, new_size):\n",
    "#     for i, transform in enumerate(transforms_list):\n",
    "#         if transform.get('type') == 'Resize':\n",
    "#             transforms_list[i]['size'] = new_size\n",
    "#             return True\n",
    "#     return False\n",
    "\n",
    "# train_transforms = conf.get('yaml_cfg.train_dataloader.dataset.transforms.ops')\n",
    "# val_transforms = conf.get('yaml_cfg.val_dataloader.dataset.transforms.ops')\n",
    "\n",
    "# update_resize_transform(train_transforms, [320, 320])\n",
    "# update_resize_transform(val_transforms, [320, 320])\n",
    "\n",
    "\n",
    "# # Set the updated transforms back to the config\n",
    "# conf.set('yaml_cfg.train_dataloader.dataset.transforms.ops', train_transforms)\n",
    "# conf.set('yaml_cfg.val_dataloader.dataset.transforms.ops', val_transforms)\n",
    "# conf.set('yaml_cfg.eval_spatial_size', [320, 320])\n"
   ]
  },
  {
   "cell_type": "code",
   "execution_count": null,
   "metadata": {},
   "outputs": [],
   "source": []
  },
  {
   "cell_type": "code",
   "execution_count": 5,
   "metadata": {},
   "outputs": [],
   "source": [
    "# conf.update(\n",
    "#     **{'yaml_cfg.train_dataloader.dataset.ann_file': '/home/dnth/Downloads/Fridge objects.v5i.coco/train/_annotations.coco.json',\n",
    "#        'yaml_cfg.train_dataloader.dataset.img_folder': '/home/dnth/Downloads/Fridge objects.v5i.coco/train',\n",
    "#        'yaml_cfg.train_dataloader.total_batch_size': 16,\n",
    "#        'yaml_cfg.val_dataloader.dataset.ann_file': '/home/dnth/Downloads/Fridge objects.v5i.coco/valid/_annotations.coco.json',\n",
    "#        'yaml_cfg.val_dataloader.dataset.img_folder': '/home/dnth/Downloads/Fridge objects.v5i.coco/valid',\n",
    "#        'yaml_cfg.val_dataloader.total_batch_size': 16,\n",
    "#        'yaml_cfg.remap_mscoco_category': False,\n",
    "#        'yaml_cfg.num_classes': 11,\n",
    "#        'output_dir': './outputs/deim_hgnetv2_s_fridge_70e',\n",
    "#     #    'ema_warmups': 200,\n",
    "#     #    'warmup_iter': 200,\n",
    "#     #    'epoches': 80,\n",
    "#     #    'flat_epoch': 40,\n",
    "#     #    'no_aug_epoch': 5\n",
    "#        }\n",
    "# )"
   ]
  },
  {
   "cell_type": "code",
   "execution_count": 6,
   "metadata": {},
   "outputs": [],
   "source": [
    "# conf.get('yaml_cfg.optimizer.lr')"
   ]
  },
  {
   "cell_type": "code",
   "execution_count": 7,
   "metadata": {},
   "outputs": [],
   "source": [
    "# conf.update(\n",
    "#     **{'yaml_cfg.optimizer.lr': 0.001}\n",
    "# )\n",
    "# conf.get('yaml_cfg.optimizer.lr')"
   ]
  },
  {
   "cell_type": "code",
   "execution_count": null,
   "metadata": {},
   "outputs": [],
   "source": [
    "trainer = Trainer(conf)\n",
    "trainer.fit(epochs=70, flat_epoch=35, no_aug_epoch=5, warmup_iter=200, ema_warmups=200)\n",
    "\n",
    "# trainer.fit(ema_warmups=200, warmup_iter=200)"
   ]
  },
  {
   "cell_type": "code",
   "execution_count": null,
   "metadata": {},
   "outputs": [],
   "source": [
    "conf.save('my_train_config.yml')"
   ]
  }
 ],
 "metadata": {
  "kernelspec": {
   "display_name": "default",
   "language": "python",
   "name": "python3"
  },
  "language_info": {
   "codemirror_mode": {
    "name": "ipython",
    "version": 3
   },
   "file_extension": ".py",
   "mimetype": "text/x-python",
   "name": "python",
   "nbconvert_exporter": "python",
   "pygments_lexer": "ipython3",
   "version": "3.12.9"
  }
 },
 "nbformat": 4,
 "nbformat_minor": 2
}
